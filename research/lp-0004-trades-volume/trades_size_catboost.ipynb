{
  "cells": [
    {
      "cell_type": "code",
      "source": [
        "!pip3 install catboost"
      ],
      "metadata": {
        "colab": {
          "base_uri": "https://localhost:8080/"
        },
        "id": "6PWJsnjzBfq1",
        "outputId": "64936b06-d9f8-4509-e0bc-a78cbb525b0a"
      },
      "id": "6PWJsnjzBfq1",
      "execution_count": null,
      "outputs": [
        {
          "output_type": "stream",
          "name": "stdout",
          "text": [
            "Requirement already satisfied: catboost in /usr/local/lib/python3.7/dist-packages (1.0.4)\n",
            "Requirement already satisfied: plotly in /usr/local/lib/python3.7/dist-packages (from catboost) (4.4.1)\n",
            "Requirement already satisfied: matplotlib in /usr/local/lib/python3.7/dist-packages (from catboost) (3.2.2)\n",
            "Requirement already satisfied: numpy>=1.16.0 in /usr/local/lib/python3.7/dist-packages (from catboost) (1.19.5)\n",
            "Requirement already satisfied: scipy in /usr/local/lib/python3.7/dist-packages (from catboost) (1.4.1)\n",
            "Requirement already satisfied: pandas>=0.24.0 in /usr/local/lib/python3.7/dist-packages (from catboost) (1.1.5)\n",
            "Requirement already satisfied: six in /usr/local/lib/python3.7/dist-packages (from catboost) (1.15.0)\n",
            "Requirement already satisfied: graphviz in /usr/local/lib/python3.7/dist-packages (from catboost) (0.10.1)\n",
            "Requirement already satisfied: pytz>=2017.2 in /usr/local/lib/python3.7/dist-packages (from pandas>=0.24.0->catboost) (2018.9)\n",
            "Requirement already satisfied: python-dateutil>=2.7.3 in /usr/local/lib/python3.7/dist-packages (from pandas>=0.24.0->catboost) (2.8.2)\n",
            "Requirement already satisfied: kiwisolver>=1.0.1 in /usr/local/lib/python3.7/dist-packages (from matplotlib->catboost) (1.3.2)\n",
            "Requirement already satisfied: cycler>=0.10 in /usr/local/lib/python3.7/dist-packages (from matplotlib->catboost) (0.11.0)\n",
            "Requirement already satisfied: pyparsing!=2.0.4,!=2.1.2,!=2.1.6,>=2.0.1 in /usr/local/lib/python3.7/dist-packages (from matplotlib->catboost) (3.0.6)\n",
            "Requirement already satisfied: retrying>=1.3.3 in /usr/local/lib/python3.7/dist-packages (from plotly->catboost) (1.3.3)\n"
          ]
        }
      ]
    },
    {
      "cell_type": "code",
      "execution_count": null,
      "id": "853aa3c4-a2d3-4845-ad55-388c7ddc238f",
      "metadata": {
        "id": "853aa3c4-a2d3-4845-ad55-388c7ddc238f"
      },
      "outputs": [],
      "source": [
        "import pandas as pd\n",
        "import numpy as np\n",
        "\n",
        "csv_path = \"trades-df-2021_11_1_0_0_0-2021_12_21_0_0_0.csv\"\n",
        "df = pd.read_csv(csv_path)"
      ]
    },
    {
      "cell_type": "code",
      "execution_count": null,
      "id": "6d19d8f2-29d6-475a-8e14-714733f36850",
      "metadata": {
        "colab": {
          "base_uri": "https://localhost:8080/"
        },
        "id": "6d19d8f2-29d6-475a-8e14-714733f36850",
        "outputId": "ec935d5c-b0cb-499d-f53d-e6331bbc76ec"
      },
      "outputs": [
        {
          "output_type": "stream",
          "name": "stdout",
          "text": [
            "['trades-BUY-6-sec', 'trades-SELL-6-sec', 'trades-BUY-12-sec', 'trades-SELL-12-sec', 'trades-BUY-18-sec', 'trades-SELL-18-sec', 'trades-BUY-24-sec', 'trades-SELL-24-sec', 'trades-BUY-30-sec', 'trades-SELL-30-sec', 'trades-BUY-36-sec', 'trades-SELL-36-sec', 'trades-BUY-42-sec', 'trades-SELL-42-sec', 'trades-BUY-48-sec', 'trades-SELL-48-sec', 'trades-BUY-54-sec', 'trades-SELL-54-sec', 'trades-BUY-60-sec', 'trades-SELL-60-sec']\n",
            "['punch-BUY-6-sec', 'punch-SELL-6-sec', 'punch-BUY-12-sec', 'punch-SELL-12-sec', 'punch-BUY-18-sec', 'punch-SELL-18-sec', 'punch-BUY-24-sec', 'punch-SELL-24-sec', 'punch-BUY-30-sec', 'punch-SELL-30-sec', 'punch-BUY-36-sec', 'punch-SELL-36-sec', 'punch-BUY-42-sec', 'punch-SELL-42-sec', 'punch-BUY-48-sec', 'punch-SELL-48-sec', 'punch-BUY-54-sec', 'punch-SELL-54-sec', 'punch-BUY-60-sec', 'punch-SELL-60-sec']\n"
          ]
        }
      ],
      "source": [
        "x_columns = list(filter(lambda column: not 'punch' in column, df.columns))\n",
        "y_columns = list(filter(lambda column: 'punch' in column, df.columns))\n",
        "print(x_columns)\n",
        "print(y_columns)"
      ]
    },
    {
      "cell_type": "code",
      "execution_count": null,
      "id": "96ce2f97-578b-4e03-88df-68348c66e537",
      "metadata": {
        "colab": {
          "base_uri": "https://localhost:8080/",
          "height": 627
        },
        "id": "96ce2f97-578b-4e03-88df-68348c66e537",
        "outputId": "1329d0fa-00c7-4e76-d060-3f961c15fb22"
      },
      "outputs": [
        {
          "output_type": "stream",
          "name": "stderr",
          "text": [
            "/usr/local/lib/python3.7/dist-packages/ipykernel_launcher.py:6: SettingWithCopyWarning: \n",
            "A value is trying to be set on a copy of a slice from a DataFrame.\n",
            "Try using .loc[row_indexer,col_indexer] = value instead\n",
            "\n",
            "See the caveats in the documentation: https://pandas.pydata.org/pandas-docs/stable/user_guide/indexing.html#returning-a-view-versus-a-copy\n",
            "  \n"
          ]
        },
        {
          "output_type": "execute_result",
          "data": {
            "text/html": [
              "\n",
              "  <div id=\"df-959d2970-1fdf-4a82-8ab9-b83ab662d4ff\">\n",
              "    <div class=\"colab-df-container\">\n",
              "      <div>\n",
              "<style scoped>\n",
              "    .dataframe tbody tr th:only-of-type {\n",
              "        vertical-align: middle;\n",
              "    }\n",
              "\n",
              "    .dataframe tbody tr th {\n",
              "        vertical-align: top;\n",
              "    }\n",
              "\n",
              "    .dataframe thead th {\n",
              "        text-align: right;\n",
              "    }\n",
              "</style>\n",
              "<table border=\"1\" class=\"dataframe\">\n",
              "  <thead>\n",
              "    <tr style=\"text-align: right;\">\n",
              "      <th></th>\n",
              "      <th>trades-BUY-6-sec</th>\n",
              "      <th>trades-SELL-6-sec</th>\n",
              "      <th>trades-BUY-12-sec</th>\n",
              "      <th>trades-SELL-12-sec</th>\n",
              "      <th>trades-BUY-18-sec</th>\n",
              "      <th>trades-SELL-18-sec</th>\n",
              "      <th>trades-BUY-24-sec</th>\n",
              "      <th>trades-SELL-24-sec</th>\n",
              "      <th>trades-BUY-30-sec</th>\n",
              "      <th>trades-SELL-30-sec</th>\n",
              "      <th>trades-BUY-36-sec</th>\n",
              "      <th>trades-SELL-36-sec</th>\n",
              "      <th>trades-BUY-42-sec</th>\n",
              "      <th>trades-SELL-42-sec</th>\n",
              "      <th>trades-BUY-48-sec</th>\n",
              "      <th>trades-SELL-48-sec</th>\n",
              "      <th>trades-BUY-54-sec</th>\n",
              "      <th>trades-SELL-54-sec</th>\n",
              "      <th>trades-BUY-60-sec</th>\n",
              "      <th>trades-SELL-60-sec</th>\n",
              "    </tr>\n",
              "  </thead>\n",
              "  <tbody>\n",
              "    <tr>\n",
              "      <th>0</th>\n",
              "      <td>0.100</td>\n",
              "      <td>0.200</td>\n",
              "      <td>0.400</td>\n",
              "      <td>0.300</td>\n",
              "      <td>10.255</td>\n",
              "      <td>0.200</td>\n",
              "      <td>0.100</td>\n",
              "      <td>0.500</td>\n",
              "      <td>0.300</td>\n",
              "      <td>0.200</td>\n",
              "      <td>0.216</td>\n",
              "      <td>2.700</td>\n",
              "      <td>0.200</td>\n",
              "      <td>0.200</td>\n",
              "      <td>0.200</td>\n",
              "      <td>2.066</td>\n",
              "      <td>0.000</td>\n",
              "      <td>2.600</td>\n",
              "      <td>0.500</td>\n",
              "      <td>9.981</td>\n",
              "    </tr>\n",
              "    <tr>\n",
              "      <th>1</th>\n",
              "      <td>0.200</td>\n",
              "      <td>0.400</td>\n",
              "      <td>0.300</td>\n",
              "      <td>3.684</td>\n",
              "      <td>0.200</td>\n",
              "      <td>0.366</td>\n",
              "      <td>0.300</td>\n",
              "      <td>0.400</td>\n",
              "      <td>0.250</td>\n",
              "      <td>0.000</td>\n",
              "      <td>0.200</td>\n",
              "      <td>0.200</td>\n",
              "      <td>0.749</td>\n",
              "      <td>0.400</td>\n",
              "      <td>0.100</td>\n",
              "      <td>0.000</td>\n",
              "      <td>0.200</td>\n",
              "      <td>33.531</td>\n",
              "      <td>0.800</td>\n",
              "      <td>0.100</td>\n",
              "    </tr>\n",
              "    <tr>\n",
              "      <th>2</th>\n",
              "      <td>0.200</td>\n",
              "      <td>2.434</td>\n",
              "      <td>49.298</td>\n",
              "      <td>139.475</td>\n",
              "      <td>0.300</td>\n",
              "      <td>4.486</td>\n",
              "      <td>0.100</td>\n",
              "      <td>5.982</td>\n",
              "      <td>0.200</td>\n",
              "      <td>5.806</td>\n",
              "      <td>0.400</td>\n",
              "      <td>7.355</td>\n",
              "      <td>0.246</td>\n",
              "      <td>9.057</td>\n",
              "      <td>0.100</td>\n",
              "      <td>0.300</td>\n",
              "      <td>0.220</td>\n",
              "      <td>1.000</td>\n",
              "      <td>0.200</td>\n",
              "      <td>0.300</td>\n",
              "    </tr>\n",
              "    <tr>\n",
              "      <th>3</th>\n",
              "      <td>2.513</td>\n",
              "      <td>9.616</td>\n",
              "      <td>4.975</td>\n",
              "      <td>5.386</td>\n",
              "      <td>36.317</td>\n",
              "      <td>35.898</td>\n",
              "      <td>0.200</td>\n",
              "      <td>8.477</td>\n",
              "      <td>0.000</td>\n",
              "      <td>0.300</td>\n",
              "      <td>0.400</td>\n",
              "      <td>5.400</td>\n",
              "      <td>9.516</td>\n",
              "      <td>0.150</td>\n",
              "      <td>0.000</td>\n",
              "      <td>0.200</td>\n",
              "      <td>0.000</td>\n",
              "      <td>2.181</td>\n",
              "      <td>0.200</td>\n",
              "      <td>24.480</td>\n",
              "    </tr>\n",
              "    <tr>\n",
              "      <th>4</th>\n",
              "      <td>5.152</td>\n",
              "      <td>0.200</td>\n",
              "      <td>0.100</td>\n",
              "      <td>6.006</td>\n",
              "      <td>0.100</td>\n",
              "      <td>9.416</td>\n",
              "      <td>6.790</td>\n",
              "      <td>0.400</td>\n",
              "      <td>9.316</td>\n",
              "      <td>0.100</td>\n",
              "      <td>1.167</td>\n",
              "      <td>0.100</td>\n",
              "      <td>0.500</td>\n",
              "      <td>9.616</td>\n",
              "      <td>2.439</td>\n",
              "      <td>0.200</td>\n",
              "      <td>161.648</td>\n",
              "      <td>0.200</td>\n",
              "      <td>6.105</td>\n",
              "      <td>9.969</td>\n",
              "    </tr>\n",
              "    <tr>\n",
              "      <th>...</th>\n",
              "      <td>...</td>\n",
              "      <td>...</td>\n",
              "      <td>...</td>\n",
              "      <td>...</td>\n",
              "      <td>...</td>\n",
              "      <td>...</td>\n",
              "      <td>...</td>\n",
              "      <td>...</td>\n",
              "      <td>...</td>\n",
              "      <td>...</td>\n",
              "      <td>...</td>\n",
              "      <td>...</td>\n",
              "      <td>...</td>\n",
              "      <td>...</td>\n",
              "      <td>...</td>\n",
              "      <td>...</td>\n",
              "      <td>...</td>\n",
              "      <td>...</td>\n",
              "      <td>...</td>\n",
              "      <td>...</td>\n",
              "    </tr>\n",
              "    <tr>\n",
              "      <th>39941</th>\n",
              "      <td>5.369</td>\n",
              "      <td>10.249</td>\n",
              "      <td>0.000</td>\n",
              "      <td>0.000</td>\n",
              "      <td>9.999</td>\n",
              "      <td>10.499</td>\n",
              "      <td>0.000</td>\n",
              "      <td>0.000</td>\n",
              "      <td>309.999</td>\n",
              "      <td>9.999</td>\n",
              "      <td>0.000</td>\n",
              "      <td>3.000</td>\n",
              "      <td>9.999</td>\n",
              "      <td>9.215</td>\n",
              "      <td>1.038</td>\n",
              "      <td>0.000</td>\n",
              "      <td>9.215</td>\n",
              "      <td>2.645</td>\n",
              "      <td>0.000</td>\n",
              "      <td>0.000</td>\n",
              "    </tr>\n",
              "    <tr>\n",
              "      <th>39942</th>\n",
              "      <td>7.765</td>\n",
              "      <td>20.339</td>\n",
              "      <td>0.000</td>\n",
              "      <td>0.414</td>\n",
              "      <td>9.999</td>\n",
              "      <td>9.999</td>\n",
              "      <td>0.000</td>\n",
              "      <td>0.000</td>\n",
              "      <td>0.000</td>\n",
              "      <td>26.878</td>\n",
              "      <td>1.914</td>\n",
              "      <td>0.000</td>\n",
              "      <td>0.000</td>\n",
              "      <td>25.819</td>\n",
              "      <td>0.035</td>\n",
              "      <td>0.000</td>\n",
              "      <td>0.000</td>\n",
              "      <td>101.502</td>\n",
              "      <td>0.000</td>\n",
              "      <td>5.583</td>\n",
              "    </tr>\n",
              "    <tr>\n",
              "      <th>39943</th>\n",
              "      <td>9.999</td>\n",
              "      <td>1.530</td>\n",
              "      <td>31.055</td>\n",
              "      <td>0.000</td>\n",
              "      <td>9.999</td>\n",
              "      <td>9.999</td>\n",
              "      <td>9.999</td>\n",
              "      <td>0.067</td>\n",
              "      <td>0.000</td>\n",
              "      <td>30.003</td>\n",
              "      <td>0.000</td>\n",
              "      <td>584.297</td>\n",
              "      <td>0.000</td>\n",
              "      <td>25.896</td>\n",
              "      <td>0.000</td>\n",
              "      <td>0.000</td>\n",
              "      <td>2.938</td>\n",
              "      <td>17.938</td>\n",
              "      <td>0.000</td>\n",
              "      <td>32.400</td>\n",
              "    </tr>\n",
              "    <tr>\n",
              "      <th>39944</th>\n",
              "      <td>0.802</td>\n",
              "      <td>1.381</td>\n",
              "      <td>0.861</td>\n",
              "      <td>0.000</td>\n",
              "      <td>5.582</td>\n",
              "      <td>0.000</td>\n",
              "      <td>10.000</td>\n",
              "      <td>3.005</td>\n",
              "      <td>10.000</td>\n",
              "      <td>86.202</td>\n",
              "      <td>0.000</td>\n",
              "      <td>0.000</td>\n",
              "      <td>90.906</td>\n",
              "      <td>155.992</td>\n",
              "      <td>19.788</td>\n",
              "      <td>48.927</td>\n",
              "      <td>1.134</td>\n",
              "      <td>0.000</td>\n",
              "      <td>197.118</td>\n",
              "      <td>0.000</td>\n",
              "    </tr>\n",
              "    <tr>\n",
              "      <th>39945</th>\n",
              "      <td>72.433</td>\n",
              "      <td>13.025</td>\n",
              "      <td>9.809</td>\n",
              "      <td>0.529</td>\n",
              "      <td>3.000</td>\n",
              "      <td>5.000</td>\n",
              "      <td>261.584</td>\n",
              "      <td>0.597</td>\n",
              "      <td>644.775</td>\n",
              "      <td>203.999</td>\n",
              "      <td>0.596</td>\n",
              "      <td>36.317</td>\n",
              "      <td>294.171</td>\n",
              "      <td>28.670</td>\n",
              "      <td>0.000</td>\n",
              "      <td>15.989</td>\n",
              "      <td>0.000</td>\n",
              "      <td>8.052</td>\n",
              "      <td>8.054</td>\n",
              "      <td>0.691</td>\n",
              "    </tr>\n",
              "  </tbody>\n",
              "</table>\n",
              "<p>39946 rows × 20 columns</p>\n",
              "</div>\n",
              "      <button class=\"colab-df-convert\" onclick=\"convertToInteractive('df-959d2970-1fdf-4a82-8ab9-b83ab662d4ff')\"\n",
              "              title=\"Convert this dataframe to an interactive table.\"\n",
              "              style=\"display:none;\">\n",
              "        \n",
              "  <svg xmlns=\"http://www.w3.org/2000/svg\" height=\"24px\"viewBox=\"0 0 24 24\"\n",
              "       width=\"24px\">\n",
              "    <path d=\"M0 0h24v24H0V0z\" fill=\"none\"/>\n",
              "    <path d=\"M18.56 5.44l.94 2.06.94-2.06 2.06-.94-2.06-.94-.94-2.06-.94 2.06-2.06.94zm-11 1L8.5 8.5l.94-2.06 2.06-.94-2.06-.94L8.5 2.5l-.94 2.06-2.06.94zm10 10l.94 2.06.94-2.06 2.06-.94-2.06-.94-.94-2.06-.94 2.06-2.06.94z\"/><path d=\"M17.41 7.96l-1.37-1.37c-.4-.4-.92-.59-1.43-.59-.52 0-1.04.2-1.43.59L10.3 9.45l-7.72 7.72c-.78.78-.78 2.05 0 2.83L4 21.41c.39.39.9.59 1.41.59.51 0 1.02-.2 1.41-.59l7.78-7.78 2.81-2.81c.8-.78.8-2.07 0-2.86zM5.41 20L4 18.59l7.72-7.72 1.47 1.35L5.41 20z\"/>\n",
              "  </svg>\n",
              "      </button>\n",
              "      \n",
              "  <style>\n",
              "    .colab-df-container {\n",
              "      display:flex;\n",
              "      flex-wrap:wrap;\n",
              "      gap: 12px;\n",
              "    }\n",
              "\n",
              "    .colab-df-convert {\n",
              "      background-color: #E8F0FE;\n",
              "      border: none;\n",
              "      border-radius: 50%;\n",
              "      cursor: pointer;\n",
              "      display: none;\n",
              "      fill: #1967D2;\n",
              "      height: 32px;\n",
              "      padding: 0 0 0 0;\n",
              "      width: 32px;\n",
              "    }\n",
              "\n",
              "    .colab-df-convert:hover {\n",
              "      background-color: #E2EBFA;\n",
              "      box-shadow: 0px 1px 2px rgba(60, 64, 67, 0.3), 0px 1px 3px 1px rgba(60, 64, 67, 0.15);\n",
              "      fill: #174EA6;\n",
              "    }\n",
              "\n",
              "    [theme=dark] .colab-df-convert {\n",
              "      background-color: #3B4455;\n",
              "      fill: #D2E3FC;\n",
              "    }\n",
              "\n",
              "    [theme=dark] .colab-df-convert:hover {\n",
              "      background-color: #434B5C;\n",
              "      box-shadow: 0px 1px 3px 1px rgba(0, 0, 0, 0.15);\n",
              "      filter: drop-shadow(0px 1px 2px rgba(0, 0, 0, 0.3));\n",
              "      fill: #FFFFFF;\n",
              "    }\n",
              "  </style>\n",
              "\n",
              "      <script>\n",
              "        const buttonEl =\n",
              "          document.querySelector('#df-959d2970-1fdf-4a82-8ab9-b83ab662d4ff button.colab-df-convert');\n",
              "        buttonEl.style.display =\n",
              "          google.colab.kernel.accessAllowed ? 'block' : 'none';\n",
              "\n",
              "        async function convertToInteractive(key) {\n",
              "          const element = document.querySelector('#df-959d2970-1fdf-4a82-8ab9-b83ab662d4ff');\n",
              "          const dataTable =\n",
              "            await google.colab.kernel.invokeFunction('convertToInteractive',\n",
              "                                                     [key], {});\n",
              "          if (!dataTable) return;\n",
              "\n",
              "          const docLinkHtml = 'Like what you see? Visit the ' +\n",
              "            '<a target=\"_blank\" href=https://colab.research.google.com/notebooks/data_table.ipynb>data table notebook</a>'\n",
              "            + ' to learn more about interactive tables.';\n",
              "          element.innerHTML = '';\n",
              "          dataTable['output_type'] = 'display_data';\n",
              "          await google.colab.output.renderOutput(dataTable, element);\n",
              "          const docLink = document.createElement('div');\n",
              "          docLink.innerHTML = docLinkHtml;\n",
              "          element.appendChild(docLink);\n",
              "        }\n",
              "      </script>\n",
              "    </div>\n",
              "  </div>\n",
              "  "
            ],
            "text/plain": [
              "       trades-BUY-6-sec  ...  trades-SELL-60-sec\n",
              "0                 0.100  ...               9.981\n",
              "1                 0.200  ...               0.100\n",
              "2                 0.200  ...               0.300\n",
              "3                 2.513  ...              24.480\n",
              "4                 5.152  ...               9.969\n",
              "...                 ...  ...                 ...\n",
              "39941             5.369  ...               0.000\n",
              "39942             7.765  ...               5.583\n",
              "39943             9.999  ...              32.400\n",
              "39944             0.802  ...               0.000\n",
              "39945            72.433  ...               0.691\n",
              "\n",
              "[39946 rows x 20 columns]"
            ]
          },
          "metadata": {},
          "execution_count": 3
        }
      ],
      "source": [
        "X = df[x_columns]\n",
        "secs = list(reversed(sorted(list(set(map(lambda x : int(''.join(x)), [[s for s in column if s.isdigit()] for column in x_columns]))))))\n",
        "\n",
        "for side in ['BUY', 'SELL']:\n",
        "  for s in secs[:-1]:\n",
        "    X[f'trades-{side}-{str(s)}-sec'] -= X[f'trades-{side}-{str(s - (secs[0] - secs[1]))}-sec']\n",
        "X"
      ]
    },
    {
      "cell_type": "code",
      "execution_count": null,
      "id": "70de5225-1eda-479f-9199-b176f49d7d9c",
      "metadata": {
        "colab": {
          "base_uri": "https://localhost:8080/"
        },
        "id": "70de5225-1eda-479f-9199-b176f49d7d9c",
        "outputId": "9518f117-2e62-4923-d047-5b197dd6ff5a"
      },
      "outputs": [
        {
          "output_type": "stream",
          "name": "stdout",
          "text": [
            "       target\n",
            "0           0\n",
            "1           0\n",
            "2           1\n",
            "3           1\n",
            "4           0\n",
            "...       ...\n",
            "39941       0\n",
            "39942       0\n",
            "39943       0\n",
            "39944       0\n",
            "39945       0\n",
            "\n",
            "[39946 rows x 1 columns]\n",
            "target\n",
            " 0        32768\n",
            "-1         3938\n",
            " 1         3240\n",
            "dtype: int64\n"
          ]
        }
      ],
      "source": [
        "commision = 0.0002\n",
        "punch = commision * 6\n",
        "\n",
        "y = pd.DataFrame(\n",
        "    df[y_columns].apply(\n",
        "        lambda row : 1 if max(list(row.to_numpy()), key=abs) > punch else -1 if max(list(row.to_numpy()), key=abs) < -punch else 0,\n",
        "        axis = 1\n",
        "    )\n",
        ")\n",
        "y = y.rename({0:'target'}, axis='columns')\n",
        "print(y)\n",
        "print(y.value_counts())"
      ]
    },
    {
      "cell_type": "code",
      "source": [
        "from catboost import CatBoostClassifier, Pool, metrics, cv\n",
        "from sklearn.metrics import accuracy_score"
      ],
      "metadata": {
        "id": "OZvYPPg4iPC2"
      },
      "id": "OZvYPPg4iPC2",
      "execution_count": null,
      "outputs": []
    },
    {
      "cell_type": "code",
      "execution_count": null,
      "id": "f0753b54-1efd-4f34-ba92-2547bb0e854a",
      "metadata": {
        "id": "f0753b54-1efd-4f34-ba92-2547bb0e854a"
      },
      "outputs": [],
      "source": [
        "from sklearn.model_selection import train_test_split\n",
        "\n",
        "X_train, X_test, y_train, y_test = train_test_split(X, y, train_size=0.8, shuffle = True, random_state=12)\n",
        "\n",
        "X_train, X_validation, y_train, y_validation = train_test_split(X_train, y_train, train_size=0.75, shuffle = True, random_state=6)"
      ]
    },
    {
      "cell_type": "code",
      "source": [
        "params = {\n",
        "    'iterations': 500,\n",
        "    'learning_rate': 0.1,\n",
        "    'depth': 5,\n",
        "    'custom_loss': [metrics.Accuracy()],\n",
        "    'eval_metric': metrics.Accuracy(),\n",
        "    'random_seed': 42,\n",
        "    'logging_level': 'Silent',\n",
        "    'loss_function': 'MultiClass',\n",
        "}\n",
        "train_pool = Pool(X_train, y_train)\n",
        "validate_pool = Pool(X_validation, y_validation)\n",
        "\n",
        "model = CatBoostClassifier(**params)\n",
        "model.fit(\n",
        "    train_pool,\n",
        "    eval_set=validate_pool,\n",
        "    plot=True,\n",
        ")\n",
        "print('Model validation accuracy: {:.4}'.format(\n",
        "    accuracy_score(y_test, model.predict(X_test))\n",
        "))"
      ],
      "metadata": {
        "id": "L8jyutxLiBqy",
        "colab": {
          "base_uri": "https://localhost:8080/",
          "height": 34,
          "referenced_widgets": [
            "139ad6cbedfc4442b2e4773629ca9b62"
          ]
        },
        "outputId": "048ec692-00ca-4bf8-e036-c55ec636db09"
      },
      "id": "L8jyutxLiBqy",
      "execution_count": null,
      "outputs": [
        {
          "output_type": "display_data",
          "data": {
            "application/vnd.jupyter.widget-view+json": {
              "model_id": "139ad6cbedfc4442b2e4773629ca9b62",
              "version_minor": 0,
              "version_major": 2
            },
            "text/plain": [
              "MetricVisualizer(layout=Layout(align_self='stretch', height='500px'))"
            ]
          },
          "metadata": {}
        },
        {
          "output_type": "stream",
          "name": "stdout",
          "text": [
            "Model validation accuracy: 0.8249\n"
          ]
        }
      ]
    },
    {
      "cell_type": "code",
      "source": [
        "cv_params = model.get_params()\n",
        "cv_params.update({\n",
        "    'loss_function': metrics.MultiClass()\n",
        "})\n",
        "cv_data = cv(\n",
        "    Pool(X, y),\n",
        "    cv_params,\n",
        "    plot=True\n",
        ")\n",
        "print('Best validation accuracy score: {:.2f}±{:.2f} on step {}'.format(\n",
        "    np.max(cv_data['test-Accuracy-mean']),\n",
        "    cv_data['test-Accuracy-std'][np.argmax(cv_data['test-Accuracy-mean'])],\n",
        "    np.argmax(cv_data['test-Accuracy-mean'])\n",
        "))\n",
        "print('Precise validation accuracy score: {}'.format(np.max(cv_data['test-Accuracy-mean'])))"
      ],
      "metadata": {
        "colab": {
          "base_uri": "https://localhost:8080/",
          "height": 17,
          "referenced_widgets": [
            "d8983083b68c401eaec0df816fcc41db"
          ]
        },
        "id": "tUJHvx9f_2IC",
        "outputId": "395d5460-bd7c-459c-ec3f-7205a7c55854"
      },
      "id": "tUJHvx9f_2IC",
      "execution_count": null,
      "outputs": [
        {
          "output_type": "display_data",
          "data": {
            "application/vnd.jupyter.widget-view+json": {
              "model_id": "d8983083b68c401eaec0df816fcc41db",
              "version_minor": 0,
              "version_major": 2
            },
            "text/plain": [
              "MetricVisualizer(layout=Layout(align_self='stretch', height='500px'))"
            ]
          },
          "metadata": {}
        }
      ]
    },
    {
      "cell_type": "code",
      "source": [
        "predictions = model.predict(X_test)\n",
        "predictions_probs = model.predict_proba(X_test)\n",
        "print(predictions[10:20])\n",
        "print(predictions_probs[10:20])\n",
        "print(y_test[10:20])"
      ],
      "metadata": {
        "colab": {
          "base_uri": "https://localhost:8080/"
        },
        "id": "UFuSMQT5Avbl",
        "outputId": "1b15f155-3555-48a3-9f11-fe3f0eddbd9a"
      },
      "id": "UFuSMQT5Avbl",
      "execution_count": null,
      "outputs": [
        {
          "output_type": "stream",
          "name": "stdout",
          "text": [
            "[[ 0]\n",
            " [ 0]\n",
            " [ 0]\n",
            " [ 0]\n",
            " [ 1]\n",
            " [ 1]\n",
            " [ 0]\n",
            " [ 0]\n",
            " [ 0]\n",
            " [ 0]\n",
            " [ 0]\n",
            " [ 0]\n",
            " [ 0]\n",
            " [ 0]\n",
            " [ 0]\n",
            " [ 0]\n",
            " [-1]\n",
            " [ 0]\n",
            " [ 0]\n",
            " [ 0]]\n",
            "[[0.12181386 0.83753758 0.04064857]\n",
            " [0.05931181 0.89331009 0.0473781 ]\n",
            " [0.13522795 0.79207171 0.07270034]\n",
            " [0.12990134 0.70816834 0.16193032]\n",
            " [0.41101146 0.17227787 0.41671067]\n",
            " [0.21829169 0.38679455 0.39491377]\n",
            " [0.06966344 0.85991401 0.07042255]\n",
            " [0.14168047 0.75161677 0.10670276]\n",
            " [0.06364222 0.8810044  0.05535338]\n",
            " [0.05913479 0.87988735 0.06097786]\n",
            " [0.20376204 0.67043737 0.12580059]\n",
            " [0.21764688 0.55828943 0.22406369]\n",
            " [0.10566177 0.75927453 0.1350637 ]\n",
            " [0.06402465 0.88299595 0.0529794 ]\n",
            " [0.11988235 0.81284849 0.06726916]\n",
            " [0.20642697 0.67586145 0.11771158]\n",
            " [0.35424278 0.29573972 0.3500175 ]\n",
            " [0.1076348  0.81630981 0.07605539]\n",
            " [0.13319562 0.79645986 0.07034452]\n",
            " [0.16396788 0.58336611 0.25266601]]\n",
            "       target\n",
            "902         0\n",
            "3804        0\n",
            "33418       0\n",
            "35239       0\n",
            "18256       1\n",
            "26745       1\n",
            "7390        0\n",
            "35376       0\n",
            "23093       0\n",
            "16538       0\n",
            "34770       0\n",
            "39669       0\n",
            "12181       0\n",
            "36346       0\n",
            "36922       0\n",
            "6338        0\n",
            "19184       0\n",
            "28016       1\n",
            "2919        0\n",
            "34581       1\n"
          ]
        }
      ]
    },
    {
      "cell_type": "code",
      "source": [
        "feature_importances = model.get_feature_importance(train_pool)\n",
        "feature_names = X_train.columns\n",
        "for score, name in sorted(zip(feature_importances, feature_names), reverse=True):\n",
        "    print('{}: {}'.format(name, score))\n"
      ],
      "metadata": {
        "colab": {
          "base_uri": "https://localhost:8080/"
        },
        "id": "LKsiuV0uA4I9",
        "outputId": "601d9e77-4a59-4a1e-e33a-496365103dea"
      },
      "id": "LKsiuV0uA4I9",
      "execution_count": null,
      "outputs": [
        {
          "output_type": "stream",
          "name": "stdout",
          "text": [
            "trades-SELL-6-sec: 7.7659552186603396\n",
            "trades-SELL-18-sec: 6.223632899002721\n",
            "trades-SELL-60-sec: 5.915927340178629\n",
            "trades-BUY-6-sec: 5.6560416519685335\n",
            "trades-BUY-24-sec: 5.637289386815484\n",
            "trades-SELL-30-sec: 5.388997726562737\n",
            "trades-SELL-54-sec: 5.250202741138116\n",
            "trades-BUY-60-sec: 5.103974093412608\n",
            "trades-SELL-12-sec: 5.095218006563516\n",
            "trades-BUY-18-sec: 5.086850941345767\n",
            "trades-SELL-24-sec: 5.048694966896342\n",
            "trades-BUY-36-sec: 4.895561730137529\n",
            "trades-BUY-30-sec: 4.790538384504451\n",
            "trades-BUY-48-sec: 4.602331031844483\n",
            "trades-BUY-42-sec: 4.059449891446964\n",
            "trades-BUY-54-sec: 3.974965475726563\n",
            "trades-BUY-12-sec: 3.969556583428052\n",
            "trades-SELL-36-sec: 3.9451593384617762\n",
            "trades-SELL-48-sec: 3.881826755018264\n",
            "trades-SELL-42-sec: 3.7078258368871397\n"
          ]
        }
      ]
    }
  ],
  "metadata": {
    "kernelspec": {
      "display_name": "Python 3 (ipykernel)",
      "language": "python",
      "name": "python3"
    },
    "language_info": {
      "codemirror_mode": {
        "name": "ipython",
        "version": 3
      },
      "file_extension": ".py",
      "mimetype": "text/x-python",
      "name": "python",
      "nbconvert_exporter": "python",
      "pygments_lexer": "ipython3",
      "version": "3.8.10"
    },
    "colab": {
      "name": "trades-size-catboost.ipynb",
      "provenance": [],
      "collapsed_sections": []
    },
    "widgets": {
      "application/vnd.jupyter.widget-state+json": {
        "139ad6cbedfc4442b2e4773629ca9b62": {
          "model_module": "catboost-widget",
          "model_name": "CatboostWidgetModel",
          "model_module_version": "^1.0.0",
          "state": {
            "_view_name": "CatboostWidgetView",
            "_dom_classes": [],
            "_model_name": "CatboostWidgetModel",
            "data": {
              "catboost_info": {
                "content": {
                  "data": {
                    "meta": {
                      "name": "experiment",
                      "parameters": "",
                      "test_metrics": [
                        {
                          "best_value": "Max",
                          "name": "Accuracy"
                        },
                        {
                          "best_value": "Min",
                          "name": "MultiClass"
                        }
                      ],
                      "learn_sets": [
                        "learn"
                      ],
                      "launch_mode": "Train",
                      "learn_metrics": [
                        {
                          "best_value": "Max",
                          "name": "Accuracy"
                        },
                        {
                          "best_value": "Min",
                          "name": "MultiClass"
                        }
                      ],
                      "iteration_count": 500,
                      "test_sets": [
                        "test"
                      ]
                    },
                    "iterations": [
                      {
                        "test": [
                          0.8182500939,
                          0.9937176676
                        ],
                        "passed_time": 0.02152207616,
                        "iteration": 0,
                        "remaining_time": 10.73951601,
                        "learn": [
                          0.8208369842,
                          0.9931093133
                        ]
                      },
                      {
                        "test": [
                          0.8191262987,
                          0.9141384932
                        ],
                        "passed_time": 0.03898228185,
                        "iteration": 1,
                        "remaining_time": 9.706588182,
                        "learn": [
                          0.8218800851,
                          0.9130600201
                        ]
                      },
                      {
                        "test": [
                          0.8192514708,
                          0.8515498541
                        ],
                        "passed_time": 0.05660074837,
                        "iteration": 2,
                        "remaining_time": 9.376857313,
                        "learn": [
                          0.8214628447,
                          0.8501462281
                        ]
                      },
                      {
                        "test": [
                          0.819501815,
                          0.8012520337
                        ],
                        "passed_time": 0.07342110501,
                        "iteration": 3,
                        "remaining_time": 9.104217022,
                        "learn": [
                          0.8218800851,
                          0.7996066324
                        ]
                      },
                      {
                        "test": [
                          0.819501815,
                          0.7606769458
                        ],
                        "passed_time": 0.09165487193,
                        "iteration": 4,
                        "remaining_time": 9.073832321,
                        "learn": [
                          0.8218800851,
                          0.7587819662
                        ]
                      },
                      {
                        "test": [
                          0.8197521592,
                          0.7272034793
                        ],
                        "passed_time": 0.1095759499,
                        "iteration": 5,
                        "remaining_time": 9.021753208,
                        "learn": [
                          0.8220887053,
                          0.7247988197
                        ]
                      },
                      {
                        "test": [
                          0.8196269871,
                          0.6996857398
                        ],
                        "passed_time": 0.1280135527,
                        "iteration": 6,
                        "remaining_time": 9.015811641,
                        "learn": [
                          0.8220052572,
                          0.6970329314
                        ]
                      },
                      {
                        "test": [
                          0.8198773313,
                          0.6762864389
                        ],
                        "passed_time": 0.1449008741,
                        "iteration": 7,
                        "remaining_time": 8.911403757,
                        "learn": [
                          0.8221304293,
                          0.6732208822
                        ]
                      },
                      {
                        "test": [
                          0.8197521592,
                          0.6569966817
                        ],
                        "passed_time": 0.162996126,
                        "iteration": 8,
                        "remaining_time": 8.892344209,
                        "learn": [
                          0.8221304293,
                          0.6536895969
                        ]
                      },
                      {
                        "test": [
                          0.8196269871,
                          0.6407328161
                        ],
                        "passed_time": 0.181181038,
                        "iteration": 9,
                        "remaining_time": 8.87787086,
                        "learn": [
                          0.8222556015,
                          0.6372079817
                        ]
                      },
                      {
                        "test": [
                          0.8196269871,
                          0.6266026257
                        ],
                        "passed_time": 0.1980460964,
                        "iteration": 10,
                        "remaining_time": 8.804049194,
                        "learn": [
                          0.8222973255,
                          0.6231415939
                        ]
                      },
                      {
                        "test": [
                          0.8197521592,
                          0.6144602798
                        ],
                        "passed_time": 0.2148669031,
                        "iteration": 11,
                        "remaining_time": 8.737920726,
                        "learn": [
                          0.8225059457,
                          0.6108673244
                        ]
                      },
                      {
                        "test": [
                          0.8197521592,
                          0.6044499377
                        ],
                        "passed_time": 0.2325788673,
                        "iteration": 12,
                        "remaining_time": 8.712762183,
                        "learn": [
                          0.8224224976,
                          0.6007983758
                        ]
                      },
                      {
                        "test": [
                          0.8197521592,
                          0.595774841
                        ],
                        "passed_time": 0.2497783003,
                        "iteration": 13,
                        "remaining_time": 8.670875282,
                        "learn": [
                          0.822881462,
                          0.5919003891
                        ]
                      },
                      {
                        "test": [
                          0.8197521592,
                          0.5885659808
                        ],
                        "passed_time": 0.2682434416,
                        "iteration": 14,
                        "remaining_time": 8.673204613,
                        "learn": [
                          0.8230066341,
                          0.5845791689
                        ]
                      },
                      {
                        "test": [
                          0.8198773313,
                          0.5821401218
                        ],
                        "passed_time": 0.2885530731,
                        "iteration": 15,
                        "remaining_time": 8.728730461,
                        "learn": [
                          0.8233404264,
                          0.5781081059
                        ]
                      },
                      {
                        "test": [
                          0.8201276756,
                          0.5766865675
                        ],
                        "passed_time": 0.3048851158,
                        "iteration": 16,
                        "remaining_time": 8.662324172,
                        "learn": [
                          0.8234238745,
                          0.5724943627
                        ]
                      },
                      {
                        "test": [
                          0.8202528477,
                          0.5721908916
                        ],
                        "passed_time": 0.3215218983,
                        "iteration": 17,
                        "remaining_time": 8.609641944,
                        "learn": [
                          0.8234238745,
                          0.5678198142
                        ]
                      },
                      {
                        "test": [
                          0.820628364,
                          0.5683666219
                        ],
                        "passed_time": 0.3379413607,
                        "iteration": 18,
                        "remaining_time": 8.555252343,
                        "learn": [
                          0.8236742187,
                          0.5636803038
                        ]
                      },
                      {
                        "test": [
                          0.8203780198,
                          0.5648515461
                        ],
                        "passed_time": 0.356007013,
                        "iteration": 19,
                        "remaining_time": 8.544168312,
                        "learn": [
                          0.8237993908,
                          0.5600702083
                        ]
                      },
                      {
                        "test": [
                          0.8205031919,
                          0.5618348815
                        ],
                        "passed_time": 0.3788625433,
                        "iteration": 20,
                        "remaining_time": 8.641674201,
                        "learn": [
                          0.824008011,
                          0.556815722
                        ]
                      },
                      {
                        "test": [
                          0.820628364,
                          0.5592175596
                        ],
                        "passed_time": 0.3953988719,
                        "iteration": 21,
                        "remaining_time": 8.590939125,
                        "learn": [
                          0.8243835274,
                          0.5540068906
                        ]
                      },
                      {
                        "test": [
                          0.8205031919,
                          0.557211256
                        ],
                        "passed_time": 0.4134382894,
                        "iteration": 22,
                        "remaining_time": 8.574350611,
                        "learn": [
                          0.8244669754,
                          0.5518905731
                        ]
                      },
                      {
                        "test": [
                          0.8203780198,
                          0.5554206634
                        ],
                        "passed_time": 0.4313061751,
                        "iteration": 23,
                        "remaining_time": 8.554239139,
                        "learn": [
                          0.8248007677,
                          0.5497245524
                        ]
                      },
                      {
                        "test": [
                          0.820628364,
                          0.5538491452
                        ],
                        "passed_time": 0.4477954403,
                        "iteration": 24,
                        "remaining_time": 8.508113365,
                        "learn": [
                          0.8250511119,
                          0.5480747633
                        ]
                      },
                      {
                        "test": [
                          0.8210038803,
                          0.5524034132
                        ],
                        "passed_time": 0.4645645935,
                        "iteration": 25,
                        "remaining_time": 8.469369897,
                        "learn": [
                          0.8253014562,
                          0.5463737781
                        ]
                      },
                      {
                        "test": [
                          0.8208787082,
                          0.5511616014
                        ],
                        "passed_time": 0.4811199106,
                        "iteration": 26,
                        "remaining_time": 8.428508063,
                        "learn": [
                          0.8254266283,
                          0.5448201673
                        ]
                      },
                      {
                        "test": [
                          0.8213793967,
                          0.5500512578
                        ],
                        "passed_time": 0.4983118828,
                        "iteration": 27,
                        "remaining_time": 8.400114595,
                        "learn": [
                          0.8259273167,
                          0.5434734305
                        ]
                      },
                      {
                        "test": [
                          0.8216297409,
                          0.5490568307
                        ],
                        "passed_time": 0.5161672893,
                        "iteration": 28,
                        "remaining_time": 8.383268733,
                        "learn": [
                          0.8261359369,
                          0.5421704402
                        ]
                      },
                      {
                        "test": [
                          0.8215045688,
                          0.5481668597
                        ],
                        "passed_time": 0.5354883965,
                        "iteration": 29,
                        "remaining_time": 8.389318212,
                        "learn": [
                          0.8260942129,
                          0.5410622927
                        ]
                      },
                      {
                        "test": [
                          0.8215045688,
                          0.547460606
                        ],
                        "passed_time": 0.553875326,
                        "iteration": 30,
                        "remaining_time": 8.379597673,
                        "learn": [
                          0.826219385,
                          0.5399498462
                        ]
                      },
                      {
                        "test": [
                          0.821754913,
                          0.5468275402
                        ],
                        "passed_time": 0.570715868,
                        "iteration": 31,
                        "remaining_time": 8.34671957,
                        "learn": [
                          0.8264697292,
                          0.5391571422
                        ]
                      },
                      {
                        "test": [
                          0.821754913,
                          0.5462171695
                        ],
                        "passed_time": 0.5876881534,
                        "iteration": 32,
                        "remaining_time": 8.316677808,
                        "learn": [
                          0.8266366254,
                          0.5383609402
                        ]
                      },
                      {
                        "test": [
                          0.8218800851,
                          0.5458953553
                        ],
                        "passed_time": 0.6048906436,
                        "iteration": 33,
                        "remaining_time": 8.290559997,
                        "learn": [
                          0.8268869696,
                          0.5376539201
                        ]
                      },
                      {
                        "test": [
                          0.821754913,
                          0.5454828682
                        ],
                        "passed_time": 0.6243986839,
                        "iteration": 34,
                        "remaining_time": 8.295582515,
                        "learn": [
                          0.8268452455,
                          0.5369734947
                        ]
                      },
                      {
                        "test": [
                          0.8220052572,
                          0.5452077886
                        ],
                        "passed_time": 0.6407866132,
                        "iteration": 35,
                        "remaining_time": 8.25902746,
                        "learn": [
                          0.8270538657,
                          0.5363663849
                        ]
                      },
                      {
                        "test": [
                          0.8221304293,
                          0.5447273858
                        ],
                        "passed_time": 0.6583775671,
                        "iteration": 36,
                        "remaining_time": 8.238616584,
                        "learn": [
                          0.8271790378,
                          0.535494851
                        ]
                      },
                      {
                        "test": [
                          0.8218800851,
                          0.5444018677
                        ],
                        "passed_time": 0.6754190148,
                        "iteration": 37,
                        "remaining_time": 8.211673285,
                        "learn": [
                          0.82730421,
                          0.5348873225
                        ]
                      },
                      {
                        "test": [
                          0.8220052572,
                          0.5441416167
                        ],
                        "passed_time": 0.6916820566,
                        "iteration": 38,
                        "remaining_time": 8.176036618,
                        "learn": [
                          0.8270538657,
                          0.5343381491
                        ]
                      },
                      {
                        "test": [
                          0.8225059457,
                          0.5438146395
                        ],
                        "passed_time": 0.70828595,
                        "iteration": 39,
                        "remaining_time": 8.145288425,
                        "learn": [
                          0.827387658,
                          0.5338451155
                        ]
                      },
                      {
                        "test": [
                          0.8221304293,
                          0.5435576623
                        ],
                        "passed_time": 0.725448783,
                        "iteration": 40,
                        "remaining_time": 8.121487595,
                        "learn": [
                          0.8277214503,
                          0.5333493145
                        ]
                      },
                      {
                        "test": [
                          0.8221304293,
                          0.5433996689
                        ],
                        "passed_time": 0.7454337751,
                        "iteration": 41,
                        "remaining_time": 8.128777834,
                        "learn": [
                          0.8276797263,
                          0.5329164768
                        ]
                      },
                      {
                        "test": [
                          0.8223807736,
                          0.5431167992
                        ],
                        "passed_time": 0.7653648676,
                        "iteration": 42,
                        "remaining_time": 8.134226616,
                        "learn": [
                          0.8279300705,
                          0.5323601356
                        ]
                      },
                      {
                        "test": [
                          0.8222556015,
                          0.5429229349
                        ],
                        "passed_time": 0.7821605642,
                        "iteration": 43,
                        "remaining_time": 8.106027666,
                        "learn": [
                          0.8278466224,
                          0.5319804113
                        ]
                      },
                      {
                        "test": [
                          0.8227562899,
                          0.5425117281
                        ],
                        "passed_time": 0.8008077568,
                        "iteration": 44,
                        "remaining_time": 8.097056207,
                        "learn": [
                          0.8278466224,
                          0.5310818549
                        ]
                      },
                      {
                        "test": [
                          0.8226311178,
                          0.5421485511
                        ],
                        "passed_time": 0.8183636199,
                        "iteration": 45,
                        "remaining_time": 8.076893119,
                        "learn": [
                          0.8275962782,
                          0.5304211554
                        ]
                      },
                      {
                        "test": [
                          0.8223807736,
                          0.5420726718
                        ],
                        "passed_time": 0.8343396616,
                        "iteration": 46,
                        "remaining_time": 8.041614185,
                        "learn": [
                          0.8277214503,
                          0.5301751927
                        ]
                      },
                      {
                        "test": [
                          0.8225059457,
                          0.5419171346
                        ],
                        "passed_time": 0.8533078685,
                        "iteration": 47,
                        "remaining_time": 8.035315762,
                        "learn": [
                          0.8278048984,
                          0.5296776221
                        ]
                      },
                      {
                        "test": [
                          0.8226311178,
                          0.5418957979
                        ],
                        "passed_time": 0.8777414742,
                        "iteration": 48,
                        "remaining_time": 8.078804181,
                        "learn": [
                          0.8282638628,
                          0.5294060213
                        ]
                      },
                      {
                        "test": [
                          0.8223807736,
                          0.5417632309
                        ],
                        "passed_time": 0.9007894032,
                        "iteration": 49,
                        "remaining_time": 8.107104629,
                        "learn": [
                          0.8281804147,
                          0.5291425746
                        ]
                      },
                      {
                        "test": [
                          0.8230066341,
                          0.5416366878
                        ],
                        "passed_time": 0.9180090698,
                        "iteration": 50,
                        "remaining_time": 8.08207985,
                        "learn": [
                          0.8282638628,
                          0.5287602107
                        ]
                      },
                      {
                        "test": [
                          0.8230066341,
                          0.5413977914
                        ],
                        "passed_time": 0.9365589524,
                        "iteration": 51,
                        "remaining_time": 8.06881559,
                        "learn": [
                          0.8283055868,
                          0.5281254945
                        ]
                      },
                      {
                        "test": [
                          0.822881462,
                          0.5411459177
                        ],
                        "passed_time": 0.9640321328,
                        "iteration": 52,
                        "remaining_time": 8.130610629,
                        "learn": [
                          0.8283473109,
                          0.5277327808
                        ]
                      },
                      {
                        "test": [
                          0.8231318062,
                          0.5408871363
                        ],
                        "passed_time": 0.9810113349,
                        "iteration": 53,
                        "remaining_time": 8.102426951,
                        "learn": [
                          0.8286811032,
                          0.5273715222
                        ]
                      },
                      {
                        "test": [
                          0.8231318062,
                          0.5408575261
                        ],
                        "passed_time": 0.996739818,
                        "iteration": 54,
                        "remaining_time": 8.064531255,
                        "learn": [
                          0.8290983436,
                          0.5270969649
                        ]
                      },
                      {
                        "test": [
                          0.8232569783,
                          0.5405821371
                        ],
                        "passed_time": 1.015492204,
                        "iteration": 55,
                        "remaining_time": 8.051402475,
                        "learn": [
                          0.8290566195,
                          0.5266830163
                        ]
                      },
                      {
                        "test": [
                          0.8233821505,
                          0.5404321332
                        ],
                        "passed_time": 1.034371,
                        "iteration": 56,
                        "remaining_time": 8.039058826,
                        "learn": [
                          0.8291400676,
                          0.5262281541
                        ]
                      },
                      {
                        "test": [
                          0.8235073226,
                          0.5403119407
                        ],
                        "passed_time": 1.05149979,
                        "iteration": 57,
                        "remaining_time": 8.013153574,
                        "learn": [
                          0.8290566195,
                          0.5258686885
                        ]
                      },
                      {
                        "test": [
                          0.8233821505,
                          0.5401088696
                        ],
                        "passed_time": 1.069372559,
                        "iteration": 58,
                        "remaining_time": 7.993106756,
                        "learn": [
                          0.8293069637,
                          0.5254435676
                        ]
                      },
                      {
                        "test": [
                          0.8231318062,
                          0.5400909179
                        ],
                        "passed_time": 1.087962489,
                        "iteration": 59,
                        "remaining_time": 7.978391586,
                        "learn": [
                          0.8293904118,
                          0.5250863692
                        ]
                      },
                      {
                        "test": [
                          0.822881462,
                          0.5400819475
                        ],
                        "passed_time": 1.10345607,
                        "iteration": 60,
                        "remaining_time": 7.941265812,
                        "learn": [
                          0.829557308,
                          0.5248827059
                        ]
                      },
                      {
                        "test": [
                          0.8230066341,
                          0.5400630782
                        ],
                        "passed_time": 1.121121931,
                        "iteration": 61,
                        "remaining_time": 7.920183967,
                        "learn": [
                          0.8297242041,
                          0.5245324078
                        ]
                      },
                      {
                        "test": [
                          0.8232569783,
                          0.5399683247
                        ],
                        "passed_time": 1.138947656,
                        "iteration": 62,
                        "remaining_time": 7.900319455,
                        "learn": [
                          0.8298911003,
                          0.5242505588
                        ]
                      },
                      {
                        "test": [
                          0.8230066341,
                          0.5398520666
                        ],
                        "passed_time": 1.156569546,
                        "iteration": 63,
                        "remaining_time": 7.879130033,
                        "learn": [
                          0.829599032,
                          0.5238401905
                        ]
                      },
                      {
                        "test": [
                          0.8233821505,
                          0.5397664192
                        ],
                        "passed_time": 1.180051635,
                        "iteration": 64,
                        "remaining_time": 7.897268633,
                        "learn": [
                          0.8297242041,
                          0.5235741244
                        ]
                      },
                      {
                        "test": [
                          0.8233821505,
                          0.5396699721
                        ],
                        "passed_time": 1.19759154,
                        "iteration": 65,
                        "remaining_time": 7.875071644,
                        "learn": [
                          0.829640756,
                          0.5233231924
                        ]
                      },
                      {
                        "test": [
                          0.8233821505,
                          0.5393471184
                        ],
                        "passed_time": 1.216502753,
                        "iteration": 66,
                        "remaining_time": 7.861876002,
                        "learn": [
                          0.8297242041,
                          0.5229487082
                        ]
                      },
                      {
                        "test": [
                          0.8233821505,
                          0.5392610236
                        ],
                        "passed_time": 1.233290781,
                        "iteration": 67,
                        "remaining_time": 7.835023784,
                        "learn": [
                          0.8297242041,
                          0.5227475644
                        ]
                      },
                      {
                        "test": [
                          0.8236324947,
                          0.5391825305
                        ],
                        "passed_time": 1.252252619,
                        "iteration": 68,
                        "remaining_time": 7.82204172,
                        "learn": [
                          0.8298493762,
                          0.5224073923
                        ]
                      },
                      {
                        "test": [
                          0.8237576668,
                          0.5392053939
                        ],
                        "passed_time": 1.269562255,
                        "iteration": 69,
                        "remaining_time": 7.798739566,
                        "learn": [
                          0.8299328243,
                          0.5220306192
                        ]
                      },
                      {
                        "test": [
                          0.8237576668,
                          0.5391839768
                        ],
                        "passed_time": 1.286281631,
                        "iteration": 70,
                        "remaining_time": 7.772039716,
                        "learn": [
                          0.8301414445,
                          0.5217804161
                        ]
                      },
                      {
                        "test": [
                          0.8236324947,
                          0.539079253
                        ],
                        "passed_time": 1.304669931,
                        "iteration": 71,
                        "remaining_time": 7.755537925,
                        "learn": [
                          0.8301831685,
                          0.5214125275
                        ]
                      },
                      {
                        "test": [
                          0.824008011,
                          0.5390206194
                        ],
                        "passed_time": 1.329084985,
                        "iteration": 72,
                        "remaining_time": 7.774236827,
                        "learn": [
                          0.8302666166,
                          0.5211261721
                        ]
                      },
                      {
                        "test": [
                          0.8237576668,
                          0.5389877157
                        ],
                        "passed_time": 1.351237919,
                        "iteration": 73,
                        "remaining_time": 7.778748021,
                        "learn": [
                          0.8303917887,
                          0.520631178
                        ]
                      },
                      {
                        "test": [
                          0.8237576668,
                          0.5388982042
                        ],
                        "passed_time": 1.367833854,
                        "iteration": 74,
                        "remaining_time": 7.751058503,
                        "learn": [
                          0.8304335127,
                          0.5203301748
                        ]
                      },
                      {
                        "test": [
                          0.8233821505,
                          0.5389265938
                        ],
                        "passed_time": 1.384817732,
                        "iteration": 75,
                        "remaining_time": 7.725825239,
                        "learn": [
                          0.8300997204,
                          0.5199689317
                        ]
                      },
                      {
                        "test": [
                          0.8233821505,
                          0.5388848059
                        ],
                        "passed_time": 1.402973383,
                        "iteration": 76,
                        "remaining_time": 7.707243392,
                        "learn": [
                          0.8301831685,
                          0.5196007501
                        ]
                      },
                      {
                        "test": [
                          0.8233821505,
                          0.5388091418
                        ],
                        "passed_time": 1.421011306,
                        "iteration": 77,
                        "remaining_time": 7.688035526,
                        "learn": [
                          0.8300997204,
                          0.51937069
                        ]
                      },
                      {
                        "test": [
                          0.8233821505,
                          0.5387599367
                        ],
                        "passed_time": 1.437716242,
                        "iteration": 78,
                        "remaining_time": 7.661753646,
                        "learn": [
                          0.8302666166,
                          0.5191455115
                        ]
                      },
                      {
                        "test": [
                          0.8233821505,
                          0.5387450312
                        ],
                        "passed_time": 1.45434591,
                        "iteration": 79,
                        "remaining_time": 7.635316025,
                        "learn": [
                          0.8302666166,
                          0.5189543762
                        ]
                      },
                      {
                        "test": [
                          0.8235073226,
                          0.5387753336
                        ],
                        "passed_time": 1.472252298,
                        "iteration": 80,
                        "remaining_time": 7.615724851,
                        "learn": [
                          0.8303500647,
                          0.5187293836
                        ]
                      },
                      {
                        "test": [
                          0.8235073226,
                          0.5387569555
                        ],
                        "passed_time": 1.489342446,
                        "iteration": 81,
                        "remaining_time": 7.592013933,
                        "learn": [
                          0.8305169608,
                          0.518500801
                        ]
                      },
                      {
                        "test": [
                          0.8233821505,
                          0.538763932
                        ],
                        "passed_time": 1.506884205,
                        "iteration": 82,
                        "remaining_time": 7.570731488,
                        "learn": [
                          0.8305169608,
                          0.5182943101
                        ]
                      },
                      {
                        "test": [
                          0.8236324947,
                          0.5386899935
                        ],
                        "passed_time": 1.528115138,
                        "iteration": 83,
                        "remaining_time": 7.567808302,
                        "learn": [
                          0.8306421329,
                          0.5181311786
                        ]
                      },
                      {
                        "test": [
                          0.8235073226,
                          0.5386975484
                        ],
                        "passed_time": 1.54495902,
                        "iteration": 84,
                        "remaining_time": 7.543035215,
                        "learn": [
                          0.830725581,
                          0.5179311971
                        ]
                      },
                      {
                        "test": [
                          0.8237576668,
                          0.5387493114
                        ],
                        "passed_time": 1.561026066,
                        "iteration": 85,
                        "remaining_time": 7.514706877,
                        "learn": [
                          0.8310593733,
                          0.517772302
                        ]
                      },
                      {
                        "test": [
                          0.8236324947,
                          0.5385996163
                        ],
                        "passed_time": 1.579890788,
                        "iteration": 86,
                        "remaining_time": 7.499941327,
                        "learn": [
                          0.8308924772,
                          0.5175201472
                        ]
                      },
                      {
                        "test": [
                          0.8236324947,
                          0.5385380248
                        ],
                        "passed_time": 1.59555126,
                        "iteration": 87,
                        "remaining_time": 7.470080899,
                        "learn": [
                          0.8311845454,
                          0.5173676367
                        ]
                      },
                      {
                        "test": [
                          0.824008011,
                          0.5386054552
                        ],
                        "passed_time": 1.611495845,
                        "iteration": 88,
                        "remaining_time": 7.441851598,
                        "learn": [
                          0.8312679935,
                          0.5171195036
                        ]
                      },
                      {
                        "test": [
                          0.8245086995,
                          0.5385867598
                        ],
                        "passed_time": 1.630202546,
                        "iteration": 89,
                        "remaining_time": 7.426478266,
                        "learn": [
                          0.8313097175,
                          0.516826914
                        ]
                      },
                      {
                        "test": [
                          0.8242583552,
                          0.5384684726
                        ],
                        "passed_time": 1.648772749,
                        "iteration": 90,
                        "remaining_time": 7.410418179,
                        "learn": [
                          0.8313931656,
                          0.5164345347
                        ]
                      },
                      {
                        "test": [
                          0.8241331831,
                          0.5385092433
                        ],
                        "passed_time": 1.665818566,
                        "iteration": 91,
                        "remaining_time": 7.387543204,
                        "learn": [
                          0.8316017858,
                          0.5162308313
                        ]
                      },
                      {
                        "test": [
                          0.8241331831,
                          0.5384662334
                        ],
                        "passed_time": 1.684044242,
                        "iteration": 92,
                        "remaining_time": 7.369957058,
                        "learn": [
                          0.8314348896,
                          0.5158744519
                        ]
                      },
                      {
                        "test": [
                          0.8238828389,
                          0.5383285916
                        ],
                        "passed_time": 1.700408694,
                        "iteration": 93,
                        "remaining_time": 7.344318403,
                        "learn": [
                          0.8315183377,
                          0.5156582881
                        ]
                      },
                      {
                        "test": [
                          0.8238828389,
                          0.5382756351
                        ],
                        "passed_time": 1.722697704,
                        "iteration": 94,
                        "remaining_time": 7.344132316,
                        "learn": [
                          0.8315600618,
                          0.5153876808
                        ]
                      },
                      {
                        "test": [
                          0.8242583552,
                          0.538171042
                        ],
                        "passed_time": 1.739753437,
                        "iteration": 95,
                        "remaining_time": 7.321462383,
                        "learn": [
                          0.8314766137,
                          0.5151654627
                        ]
                      },
                      {
                        "test": [
                          0.8241331831,
                          0.5380699986
                        ],
                        "passed_time": 1.75698618,
                        "iteration": 96,
                        "remaining_time": 7.299643612,
                        "learn": [
                          0.8314348896,
                          0.514968972
                        ]
                      },
                      {
                        "test": [
                          0.8242583552,
                          0.538052073
                        ],
                        "passed_time": 1.775598814,
                        "iteration": 97,
                        "remaining_time": 7.283578809,
                        "learn": [
                          0.8313931656,
                          0.5147195471
                        ]
                      },
                      {
                        "test": [
                          0.8243835274,
                          0.5380800209
                        ],
                        "passed_time": 1.79200597,
                        "iteration": 98,
                        "remaining_time": 7.258529233,
                        "learn": [
                          0.8314766137,
                          0.5144847162
                        ]
                      },
                      {
                        "test": [
                          0.8243835274,
                          0.538006979
                        ],
                        "passed_time": 1.807500534,
                        "iteration": 99,
                        "remaining_time": 7.230002135,
                        "learn": [
                          0.8316435098,
                          0.5143303911
                        ]
                      },
                      {
                        "test": [
                          0.8241331831,
                          0.5380024871
                        ],
                        "passed_time": 1.822956711,
                        "iteration": 100,
                        "remaining_time": 7.201581462,
                        "learn": [
                          0.8316852339,
                          0.5142164127
                        ]
                      },
                      {
                        "test": [
                          0.8243835274,
                          0.5379909309
                        ],
                        "passed_time": 1.840131821,
                        "iteration": 101,
                        "remaining_time": 7.180122205,
                        "learn": [
                          0.8319773021,
                          0.5140721027
                        ]
                      },
                      {
                        "test": [
                          0.8242583552,
                          0.5379274902
                        ],
                        "passed_time": 1.860384469,
                        "iteration": 102,
                        "remaining_time": 7.170608098,
                        "learn": [
                          0.831893854,
                          0.5136235378
                        ]
                      },
                      {
                        "test": [
                          0.8241331831,
                          0.5378613429
                        ],
                        "passed_time": 1.877986388,
                        "iteration": 103,
                        "remaining_time": 7.150794323,
                        "learn": [
                          0.8319773021,
                          0.5134332442
                        ]
                      },
                      {
                        "test": [
                          0.8248842158,
                          0.5378790038
                        ],
                        "passed_time": 1.902736041,
                        "iteration": 104,
                        "remaining_time": 7.157911774,
                        "learn": [
                          0.8320607502,
                          0.5132318827
                        ]
                      },
                      {
                        "test": [
                          0.8245086995,
                          0.5378249634
                        ],
                        "passed_time": 1.922418737,
                        "iteration": 105,
                        "remaining_time": 7.145594172,
                        "learn": [
                          0.8319773021,
                          0.5130213643
                        ]
                      },
                      {
                        "test": [
                          0.8246338716,
                          0.5377864378
                        ],
                        "passed_time": 1.937827928,
                        "iteration": 106,
                        "remaining_time": 7.117442763,
                        "learn": [
                          0.8321024742,
                          0.5129151729
                        ]
                      },
                      {
                        "test": [
                          0.8243835274,
                          0.5376712455
                        ],
                        "passed_time": 1.96977198,
                        "iteration": 107,
                        "remaining_time": 7.149542742,
                        "learn": [
                          0.8322276463,
                          0.5127395487
                        ]
                      },
                      {
                        "test": [
                          0.8246338716,
                          0.5377119881
                        ],
                        "passed_time": 1.985798549,
                        "iteration": 108,
                        "remaining_time": 7.123369108,
                        "learn": [
                          0.8322693704,
                          0.5125535691
                        ]
                      },
                      {
                        "test": [
                          0.8247590437,
                          0.5377041662
                        ],
                        "passed_time": 2.002473165,
                        "iteration": 109,
                        "remaining_time": 7.099677584,
                        "learn": [
                          0.8323945425,
                          0.5123492236
                        ]
                      },
                      {
                        "test": [
                          0.8250093879,
                          0.5377259792
                        ],
                        "passed_time": 2.019712645,
                        "iteration": 110,
                        "remaining_time": 7.078092062,
                        "learn": [
                          0.8325614386,
                          0.5121590075
                        ]
                      },
                      {
                        "test": [
                          0.8253849042,
                          0.5377383786
                        ],
                        "passed_time": 2.035268197,
                        "iteration": 111,
                        "remaining_time": 7.05075054,
                        "learn": [
                          0.8326866108,
                          0.5119843603
                        ]
                      },
                      {
                        "test": [
                          0.82513456,
                          0.5377227241
                        ],
                        "passed_time": 2.051951372,
                        "iteration": 112,
                        "remaining_time": 7.027479477,
                        "learn": [
                          0.8326031627,
                          0.5118222165
                        ]
                      },
                      {
                        "test": [
                          0.82513456,
                          0.5377254892
                        ],
                        "passed_time": 2.071535604,
                        "iteration": 113,
                        "remaining_time": 7.01414687,
                        "learn": [
                          0.8325614386,
                          0.5116304466
                        ]
                      },
                      {
                        "test": [
                          0.8252597321,
                          0.5378028274
                        ],
                        "passed_time": 2.089588822,
                        "iteration": 114,
                        "remaining_time": 6.99557997,
                        "learn": [
                          0.8326866108,
                          0.5114180216
                        ]
                      },
                      {
                        "test": [
                          0.8252597321,
                          0.5378221653
                        ],
                        "passed_time": 2.106222103,
                        "iteration": 115,
                        "remaining_time": 6.972321446,
                        "learn": [
                          0.8325614386,
                          0.511277437
                        ]
                      },
                      {
                        "test": [
                          0.82513456,
                          0.5377405468
                        ],
                        "passed_time": 2.125231034,
                        "iteration": 116,
                        "remaining_time": 6.956952872,
                        "learn": [
                          0.8328117829,
                          0.5110012253
                        ]
                      },
                      {
                        "test": [
                          0.8253849042,
                          0.5377038681
                        ],
                        "passed_time": 2.14293893,
                        "iteration": 117,
                        "remaining_time": 6.937310772,
                        "learn": [
                          0.8330204031,
                          0.510728384
                        ]
                      },
                      {
                        "test": [
                          0.82513456,
                          0.5377569232
                        ],
                        "passed_time": 2.158859861,
                        "iteration": 118,
                        "remaining_time": 6.911979891,
                        "learn": [
                          0.8328952309,
                          0.5105478568
                        ]
                      },
                      {
                        "test": [
                          0.8247590437,
                          0.5377495075
                        ],
                        "passed_time": 2.17522973,
                        "iteration": 119,
                        "remaining_time": 6.888227479,
                        "learn": [
                          0.8327700588,
                          0.5103876337
                        ]
                      },
                      {
                        "test": [
                          0.8247590437,
                          0.5377844072
                        ],
                        "passed_time": 2.192425619,
                        "iteration": 120,
                        "remaining_time": 6.867184377,
                        "learn": [
                          0.8330204031,
                          0.5101753769
                        ]
                      },
                      {
                        "test": [
                          0.8243835274,
                          0.5377697662
                        ],
                        "passed_time": 2.210348389,
                        "iteration": 121,
                        "remaining_time": 6.848456483,
                        "learn": [
                          0.8330621271,
                          0.5099388001
                        ]
                      },
                      {
                        "test": [
                          0.8246338716,
                          0.5377266832
                        ],
                        "passed_time": 2.228820436,
                        "iteration": 122,
                        "remaining_time": 6.831425239,
                        "learn": [
                          0.8330621271,
                          0.5098029465
                        ]
                      },
                      {
                        "test": [
                          0.8243835274,
                          0.5376949344
                        ],
                        "passed_time": 2.24561614,
                        "iteration": 123,
                        "remaining_time": 6.809287649,
                        "learn": [
                          0.8330621271,
                          0.5096288962
                        ]
                      },
                      {
                        "test": [
                          0.8247590437,
                          0.5376562351
                        ],
                        "passed_time": 2.263537328,
                        "iteration": 124,
                        "remaining_time": 6.790611984,
                        "learn": [
                          0.8333541954,
                          0.5093904267
                        ]
                      },
                      {
                        "test": [
                          0.8246338716,
                          0.5376611017
                        ],
                        "passed_time": 2.27865975,
                        "iteration": 125,
                        "remaining_time": 6.763640845,
                        "learn": [
                          0.8335210915,
                          0.5093043287
                        ]
                      },
                      {
                        "test": [
                          0.8247590437,
                          0.537711168
                        ],
                        "passed_time": 2.294077377,
                        "iteration": 126,
                        "remaining_time": 6.73772332,
                        "learn": [
                          0.8336462636,
                          0.5091304937
                        ]
                      },
                      {
                        "test": [
                          0.8247590437,
                          0.5376769808
                        ],
                        "passed_time": 2.310632693,
                        "iteration": 127,
                        "remaining_time": 6.715276265,
                        "learn": [
                          0.8336462636,
                          0.5089384515
                        ]
                      },
                      {
                        "test": [
                          0.8248842158,
                          0.5376542731
                        ],
                        "passed_time": 2.32849434,
                        "iteration": 128,
                        "remaining_time": 6.696677521,
                        "learn": [
                          0.8337714357,
                          0.5088000043
                        ]
                      },
                      {
                        "test": [
                          0.8248842158,
                          0.5375882167
                        ],
                        "passed_time": 2.349108959,
                        "iteration": 129,
                        "remaining_time": 6.685925498,
                        "learn": [
                          0.8337714357,
                          0.5085382729
                        ]
                      },
                      {
                        "test": [
                          0.82513456,
                          0.537488555
                        ],
                        "passed_time": 2.365942278,
                        "iteration": 130,
                        "remaining_time": 6.664371761,
                        "learn": [
                          0.8340217799,
                          0.5082630755
                        ]
                      },
                      {
                        "test": [
                          0.8253849042,
                          0.5374864467
                        ],
                        "passed_time": 2.381671338,
                        "iteration": 131,
                        "remaining_time": 6.639811003,
                        "learn": [
                          0.8342304001,
                          0.5081063821
                        ]
                      },
                      {
                        "test": [
                          0.8248842158,
                          0.5375164647
                        ],
                        "passed_time": 2.397960233,
                        "iteration": 132,
                        "remaining_time": 6.616927861,
                        "learn": [
                          0.8342304001,
                          0.5079383135
                        ]
                      },
                      {
                        "test": [
                          0.8248842158,
                          0.5374907238
                        ],
                        "passed_time": 2.414262452,
                        "iteration": 133,
                        "remaining_time": 6.594179532,
                        "learn": [
                          0.8344807444,
                          0.5078070222
                        ]
                      },
                      {
                        "test": [
                          0.82513456,
                          0.5375432478
                        ],
                        "passed_time": 2.432064525,
                        "iteration": 134,
                        "remaining_time": 6.575581863,
                        "learn": [
                          0.8344390203,
                          0.507616766
                        ]
                      },
                      {
                        "test": [
                          0.8252597321,
                          0.5375024916
                        ],
                        "passed_time": 2.44988606,
                        "iteration": 135,
                        "remaining_time": 6.557047984,
                        "learn": [
                          0.8342304001,
                          0.5074710216
                        ]
                      },
                      {
                        "test": [
                          0.8248842158,
                          0.5374502811
                        ],
                        "passed_time": 2.475493684,
                        "iteration": 136,
                        "remaining_time": 6.559154796,
                        "learn": [
                          0.8344807444,
                          0.5071918163
                        ]
                      },
                      {
                        "test": [
                          0.8255100764,
                          0.5374532682
                        ],
                        "passed_time": 2.493170422,
                        "iteration": 137,
                        "remaining_time": 6.540055745,
                        "learn": [
                          0.8346059165,
                          0.5069752625
                        ]
                      },
                      {
                        "test": [
                          0.8256352485,
                          0.5375076836
                        ],
                        "passed_time": 2.510556333,
                        "iteration": 138,
                        "remaining_time": 6.520221842,
                        "learn": [
                          0.8346476405,
                          0.5067091434
                        ]
                      },
                      {
                        "test": [
                          0.8257604206,
                          0.5375212477
                        ],
                        "passed_time": 2.528457887,
                        "iteration": 139,
                        "remaining_time": 6.501748853,
                        "learn": [
                          0.8347728126,
                          0.5065063082
                        ]
                      },
                      {
                        "test": [
                          0.8258855927,
                          0.5375840234
                        ],
                        "passed_time": 2.545505544,
                        "iteration": 140,
                        "remaining_time": 6.481109861,
                        "learn": [
                          0.8347310886,
                          0.5063412531
                        ]
                      },
                      {
                        "test": [
                          0.8256352485,
                          0.5375825571
                        ],
                        "passed_time": 2.560413235,
                        "iteration": 141,
                        "remaining_time": 6.455126325,
                        "learn": [
                          0.8348145367,
                          0.5062638649
                        ]
                      },
                      {
                        "test": [
                          0.8257604206,
                          0.5375561994
                        ],
                        "passed_time": 2.577029345,
                        "iteration": 142,
                        "remaining_time": 6.43356277,
                        "learn": [
                          0.8347310886,
                          0.5061473327
                        ]
                      },
                      {
                        "test": [
                          0.8256352485,
                          0.5375450384
                        ],
                        "passed_time": 2.594853531,
                        "iteration": 143,
                        "remaining_time": 6.415054562,
                        "learn": [
                          0.8349397088,
                          0.5058563927
                        ]
                      },
                      {
                        "test": [
                          0.8257604206,
                          0.5375614864
                        ],
                        "passed_time": 2.610314253,
                        "iteration": 144,
                        "remaining_time": 6.390769378,
                        "learn": [
                          0.8350231568,
                          0.5057321864
                        ]
                      },
                      {
                        "test": [
                          0.8256352485,
                          0.53751095
                        ],
                        "passed_time": 2.625975249,
                        "iteration": 145,
                        "remaining_time": 6.367090673,
                        "learn": [
                          0.8350231568,
                          0.5055568069
                        ]
                      },
                      {
                        "test": [
                          0.8252597321,
                          0.5375609683
                        ],
                        "passed_time": 2.641247019,
                        "iteration": 146,
                        "remaining_time": 6.342586379,
                        "learn": [
                          0.8350231568,
                          0.5054332042
                        ]
                      },
                      {
                        "test": [
                          0.82513456,
                          0.5375191706
                        ],
                        "passed_time": 2.661063027,
                        "iteration": 147,
                        "remaining_time": 6.329014768,
                        "learn": [
                          0.835190053,
                          0.5052111377
                        ]
                      },
                      {
                        "test": [
                          0.8248842158,
                          0.5373871272
                        ],
                        "passed_time": 2.68352043,
                        "iteration": 148,
                        "remaining_time": 6.321581683,
                        "learn": [
                          0.835231777,
                          0.5049076097
                        ]
                      },
                      {
                        "test": [
                          0.8255100764,
                          0.537444808
                        ],
                        "passed_time": 2.699461988,
                        "iteration": 149,
                        "remaining_time": 6.298744638,
                        "learn": [
                          0.835148329,
                          0.5046982664
                        ]
                      },
                      {
                        "test": [
                          0.8256352485,
                          0.537485607
                        ],
                        "passed_time": 2.715681626,
                        "iteration": 150,
                        "remaining_time": 6.276641638,
                        "learn": [
                          0.8353152251,
                          0.5045703654
                        ]
                      },
                      {
                        "test": [
                          0.8252597321,
                          0.5375447182
                        ],
                        "passed_time": 2.735493217,
                        "iteration": 151,
                        "remaining_time": 6.262839733,
                        "learn": [
                          0.8353569491,
                          0.5042622801
                        ]
                      },
                      {
                        "test": [
                          0.8256352485,
                          0.5375168856
                        ],
                        "passed_time": 2.752507101,
                        "iteration": 152,
                        "remaining_time": 6.242614144,
                        "learn": [
                          0.835190053,
                          0.5040034043
                        ]
                      },
                      {
                        "test": [
                          0.8252597321,
                          0.537388933
                        ],
                        "passed_time": 2.770937686,
                        "iteration": 153,
                        "remaining_time": 6.225613242,
                        "learn": [
                          0.8353986732,
                          0.5037525255
                        ]
                      },
                      {
                        "test": [
                          0.8247590437,
                          0.5373909091
                        ],
                        "passed_time": 2.787315095,
                        "iteration": 154,
                        "remaining_time": 6.20402392,
                        "learn": [
                          0.8357741895,
                          0.5035978723
                        ]
                      },
                      {
                        "test": [
                          0.8248842158,
                          0.5373941779
                        ],
                        "passed_time": 2.804220699,
                        "iteration": 155,
                        "remaining_time": 6.183666156,
                        "learn": [
                          0.8357741895,
                          0.5033927729
                        ]
                      },
                      {
                        "test": [
                          0.8252597321,
                          0.5374715263
                        ],
                        "passed_time": 2.821985675,
                        "iteration": 156,
                        "remaining_time": 6.165229852,
                        "learn": [
                          0.8359410857,
                          0.503241138
                        ]
                      },
                      {
                        "test": [
                          0.8252597321,
                          0.5373834031
                        ],
                        "passed_time": 2.841951952,
                        "iteration": 157,
                        "remaining_time": 6.151566884,
                        "learn": [
                          0.8358576376,
                          0.5030681137
                        ]
                      },
                      {
                        "test": [
                          0.8253849042,
                          0.5373656979
                        ],
                        "passed_time": 2.859128223,
                        "iteration": 158,
                        "remaining_time": 6.131841031,
                        "learn": [
                          0.8357324655,
                          0.5028072112
                        ]
                      },
                      {
                        "test": [
                          0.8255100764,
                          0.5373872248
                        ],
                        "passed_time": 2.876493402,
                        "iteration": 159,
                        "remaining_time": 6.11254848,
                        "learn": [
                          0.8357741895,
                          0.5026573712
                        ]
                      },
                      {
                        "test": [
                          0.8253849042,
                          0.5373239045
                        ],
                        "passed_time": 2.895000518,
                        "iteration": 160,
                        "remaining_time": 6.09568432,
                        "learn": [
                          0.8357324655,
                          0.5023770862
                        ]
                      },
                      {
                        "test": [
                          0.8252597321,
                          0.5372859156
                        ],
                        "passed_time": 2.922396479,
                        "iteration": 161,
                        "remaining_time": 6.097345741,
                        "learn": [
                          0.8358159135,
                          0.5022189626
                        ]
                      },
                      {
                        "test": [
                          0.8252597321,
                          0.5374008069
                        ],
                        "passed_time": 2.940233754,
                        "iteration": 162,
                        "remaining_time": 6.078888191,
                        "learn": [
                          0.8361914299,
                          0.5020132084
                        ]
                      },
                      {
                        "test": [
                          0.8253849042,
                          0.5374115385
                        ],
                        "passed_time": 2.96913377,
                        "iteration": 163,
                        "remaining_time": 6.083103333,
                        "learn": [
                          0.836274878,
                          0.5018756099
                        ]
                      },
                      {
                        "test": [
                          0.8252597321,
                          0.5373787507
                        ],
                        "passed_time": 2.992972627,
                        "iteration": 164,
                        "remaining_time": 6.076641394,
                        "learn": [
                          0.8362331539,
                          0.5016797795
                        ]
                      },
                      {
                        "test": [
                          0.8252597321,
                          0.5373562062
                        ],
                        "passed_time": 3.00881104,
                        "iteration": 165,
                        "remaining_time": 6.053872815,
                        "learn": [
                          0.836358326,
                          0.5015575243
                        ]
                      },
                      {
                        "test": [
                          0.8260107648,
                          0.5373499489
                        ],
                        "passed_time": 3.025299143,
                        "iteration": 166,
                        "remaining_time": 6.032482722,
                        "learn": [
                          0.836358326,
                          0.5014067012
                        ]
                      },
                      {
                        "test": [
                          0.8260107648,
                          0.5373037563
                        ],
                        "passed_time": 3.042142405,
                        "iteration": 167,
                        "remaining_time": 6.011852848,
                        "learn": [
                          0.836316602,
                          0.5012771028
                        ]
                      },
                      {
                        "test": [
                          0.8258855927,
                          0.5372927314
                        ],
                        "passed_time": 3.057206288,
                        "iteration": 168,
                        "remaining_time": 5.98778273,
                        "learn": [
                          0.836274878,
                          0.5011797737
                        ]
                      },
                      {
                        "test": [
                          0.8256352485,
                          0.537347961
                        ],
                        "passed_time": 3.074701731,
                        "iteration": 169,
                        "remaining_time": 5.968538655,
                        "learn": [
                          0.8365252222,
                          0.5009554555
                        ]
                      },
                      {
                        "test": [
                          0.8258855927,
                          0.5373416612
                        ],
                        "passed_time": 3.09077687,
                        "iteration": 170,
                        "remaining_time": 5.946582399,
                        "learn": [
                          0.8366503943,
                          0.5008143097
                        ]
                      },
                      {
                        "test": [
                          0.8255100764,
                          0.5373542376
                        ],
                        "passed_time": 3.107689398,
                        "iteration": 171,
                        "remaining_time": 5.92629141,
                        "learn": [
                          0.8367755664,
                          0.5006779827
                        ]
                      },
                      {
                        "test": [
                          0.8257604206,
                          0.5373140891
                        ],
                        "passed_time": 3.123966064,
                        "iteration": 172,
                        "remaining_time": 5.90483759,
                        "learn": [
                          0.8368172904,
                          0.5005044741
                        ]
                      },
                      {
                        "test": [
                          0.8257604206,
                          0.53732924
                        ],
                        "passed_time": 3.139908871,
                        "iteration": 173,
                        "remaining_time": 5.88281777,
                        "learn": [
                          0.8366921183,
                          0.5004032133
                        ]
                      },
                      {
                        "test": [
                          0.8253849042,
                          0.5373993129
                        ],
                        "passed_time": 3.155386458,
                        "iteration": 174,
                        "remaining_time": 5.860003423,
                        "learn": [
                          0.8366503943,
                          0.5002487251
                        ]
                      },
                      {
                        "test": [
                          0.82513456,
                          0.5374868705
                        ],
                        "passed_time": 3.172613038,
                        "iteration": 175,
                        "remaining_time": 5.840492183,
                        "learn": [
                          0.8369841866,
                          0.5000331635
                        ]
                      },
                      {
                        "test": [
                          0.82513456,
                          0.5374865259
                        ],
                        "passed_time": 3.187894439,
                        "iteration": 176,
                        "remaining_time": 5.817457084,
                        "learn": [
                          0.8369424626,
                          0.4999302222
                        ]
                      },
                      {
                        "test": [
                          0.82513456,
                          0.537529942
                        ],
                        "passed_time": 3.204510639,
                        "iteration": 177,
                        "remaining_time": 5.79692374,
                        "learn": [
                          0.8369841866,
                          0.4998033689
                        ]
                      },
                      {
                        "test": [
                          0.8248842158,
                          0.5374730502
                        ],
                        "passed_time": 3.220082698,
                        "iteration": 178,
                        "remaining_time": 5.774561709,
                        "learn": [
                          0.8368590145,
                          0.4996488056
                        ]
                      },
                      {
                        "test": [
                          0.8248842158,
                          0.5375169275
                        ],
                        "passed_time": 3.236233635,
                        "iteration": 179,
                        "remaining_time": 5.75330424,
                        "learn": [
                          0.8368590145,
                          0.499462189
                        ]
                      },
                      {
                        "test": [
                          0.8252597321,
                          0.5375090255
                        ],
                        "passed_time": 3.253996985,
                        "iteration": 180,
                        "remaining_time": 5.734944962,
                        "learn": [
                          0.8368172904,
                          0.4993163983
                        ]
                      },
                      {
                        "test": [
                          0.8252597321,
                          0.5375347627
                        ],
                        "passed_time": 3.273551521,
                        "iteration": 181,
                        "remaining_time": 5.719721889,
                        "learn": [
                          0.8370259106,
                          0.499029249
                        ]
                      },
                      {
                        "test": [
                          0.8253849042,
                          0.5375481959
                        ],
                        "passed_time": 3.289983264,
                        "iteration": 182,
                        "remaining_time": 5.699042048,
                        "learn": [
                          0.8370259106,
                          0.498844144
                        ]
                      },
                      {
                        "test": [
                          0.8248842158,
                          0.5376053637
                        ],
                        "passed_time": 3.306786283,
                        "iteration": 183,
                        "remaining_time": 5.679046007,
                        "learn": [
                          0.8371510827,
                          0.4986944395
                        ]
                      },
                      {
                        "test": [
                          0.8246338716,
                          0.5376240375
                        ],
                        "passed_time": 3.322360887,
                        "iteration": 184,
                        "remaining_time": 5.656992862,
                        "learn": [
                          0.8373179789,
                          0.49854657
                        ]
                      },
                      {
                        "test": [
                          0.8247590437,
                          0.5376889967
                        ],
                        "passed_time": 3.345638152,
                        "iteration": 185,
                        "remaining_time": 5.648012795,
                        "learn": [
                          0.837401427,
                          0.498275104
                        ]
                      },
                      {
                        "test": [
                          0.82513456,
                          0.5376333699
                        ],
                        "passed_time": 3.362385053,
                        "iteration": 186,
                        "remaining_time": 5.627949314,
                        "learn": [
                          0.8373597029,
                          0.4981195995
                        ]
                      },
                      {
                        "test": [
                          0.8248842158,
                          0.5375978668
                        ],
                        "passed_time": 3.378650874,
                        "iteration": 187,
                        "remaining_time": 5.607122727,
                        "learn": [
                          0.837443151,
                          0.4980144936
                        ]
                      },
                      {
                        "test": [
                          0.8248842158,
                          0.5374879122
                        ],
                        "passed_time": 3.397804997,
                        "iteration": 188,
                        "remaining_time": 5.591097111,
                        "learn": [
                          0.8373597029,
                          0.497710976
                        ]
                      },
                      {
                        "test": [
                          0.8250093879,
                          0.5375117577
                        ],
                        "passed_time": 3.414242719,
                        "iteration": 189,
                        "remaining_time": 5.570606542,
                        "learn": [
                          0.8376517712,
                          0.4975905688
                        ]
                      },
                      {
                        "test": [
                          0.8247590437,
                          0.537555203
                        ],
                        "passed_time": 3.430653019,
                        "iteration": 190,
                        "remaining_time": 5.550114047,
                        "learn": [
                          0.8377769433,
                          0.4974282685
                        ]
                      },
                      {
                        "test": [
                          0.8250093879,
                          0.5375073102
                        ],
                        "passed_time": 3.44725027,
                        "iteration": 191,
                        "remaining_time": 5.529963974,
                        "learn": [
                          0.8376517712,
                          0.4973083674
                        ]
                      },
                      {
                        "test": [
                          0.8252597321,
                          0.5375280465
                        ],
                        "passed_time": 3.463518496,
                        "iteration": 192,
                        "remaining_time": 5.509327348,
                        "learn": [
                          0.8376100471,
                          0.4972019719
                        ]
                      },
                      {
                        "test": [
                          0.82513456,
                          0.5375557057
                        ],
                        "passed_time": 3.481641074,
                        "iteration": 193,
                        "remaining_time": 5.491660663,
                        "learn": [
                          0.8377352193,
                          0.4969449081
                        ]
                      },
                      {
                        "test": [
                          0.8252597321,
                          0.5374862998
                        ],
                        "passed_time": 3.500414661,
                        "iteration": 194,
                        "remaining_time": 5.475007547,
                        "learn": [
                          0.8377769433,
                          0.4966242122
                        ]
                      },
                      {
                        "test": [
                          0.8252597321,
                          0.537508679
                        ],
                        "passed_time": 3.517756965,
                        "iteration": 195,
                        "remaining_time": 5.456112843,
                        "learn": [
                          0.8379438394,
                          0.496561499
                        ]
                      },
                      {
                        "test": [
                          0.82513456,
                          0.5374349187
                        ],
                        "passed_time": 3.534515245,
                        "iteration": 196,
                        "remaining_time": 5.436335631,
                        "learn": [
                          0.8378186673,
                          0.4964286481
                        ]
                      },
                      {
                        "test": [
                          0.8250093879,
                          0.5374462731
                        ],
                        "passed_time": 3.551731504,
                        "iteration": 197,
                        "remaining_time": 5.417287445,
                        "learn": [
                          0.8376934952,
                          0.4963100039
                        ]
                      },
                      {
                        "test": [
                          0.8248842158,
                          0.5374253555
                        ],
                        "passed_time": 3.568406865,
                        "iteration": 198,
                        "remaining_time": 5.39743953,
                        "learn": [
                          0.8381107356,
                          0.4960775424
                        ]
                      },
                      {
                        "test": [
                          0.8246338716,
                          0.537465349
                        ],
                        "passed_time": 3.584212116,
                        "iteration": 199,
                        "remaining_time": 5.376318175,
                        "learn": [
                          0.8381524596,
                          0.4959416307
                        ]
                      },
                      {
                        "test": [
                          0.8245086995,
                          0.5374626125
                        ],
                        "passed_time": 3.600806573,
                        "iteration": 200,
                        "remaining_time": 5.356423708,
                        "learn": [
                          0.8381941837,
                          0.4958134519
                        ]
                      },
                      {
                        "test": [
                          0.8246338716,
                          0.5375188634
                        ],
                        "passed_time": 3.617504993,
                        "iteration": 201,
                        "remaining_time": 5.336715287,
                        "learn": [
                          0.8381941837,
                          0.4956242063
                        ]
                      },
                      {
                        "test": [
                          0.8246338716,
                          0.5374287809
                        ],
                        "passed_time": 3.63702913,
                        "iteration": 202,
                        "remaining_time": 5.321170698,
                        "learn": [
                          0.8384445279,
                          0.4953269772
                        ]
                      },
                      {
                        "test": [
                          0.8246338716,
                          0.5373814031
                        ],
                        "passed_time": 3.653993685,
                        "iteration": 203,
                        "remaining_time": 5.30187319,
                        "learn": [
                          0.8385697,
                          0.4951877041
                        ]
                      },
                      {
                        "test": [
                          0.8245086995,
                          0.5373665826
                        ],
                        "passed_time": 3.66947684,
                        "iteration": 204,
                        "remaining_time": 5.280466672,
                        "learn": [
                          0.838611424,
                          0.4950276584
                        ]
                      },
                      {
                        "test": [
                          0.8246338716,
                          0.5373550797
                        ],
                        "passed_time": 3.686960354,
                        "iteration": 205,
                        "remaining_time": 5.261972545,
                        "learn": [
                          0.8386948721,
                          0.4946929107
                        ]
                      },
                      {
                        "test": [
                          0.8247590437,
                          0.5373383655
                        ],
                        "passed_time": 3.704151722,
                        "iteration": 206,
                        "remaining_time": 5.24307466,
                        "learn": [
                          0.8386531481,
                          0.4945448066
                        ]
                      },
                      {
                        "test": [
                          0.8246338716,
                          0.5373300428
                        ],
                        "passed_time": 3.721628758,
                        "iteration": 207,
                        "remaining_time": 5.224594218,
                        "learn": [
                          0.8387365962,
                          0.4943849143
                        ]
                      },
                      {
                        "test": [
                          0.8247590437,
                          0.5373417488
                        ],
                        "passed_time": 3.737684852,
                        "iteration": 208,
                        "remaining_time": 5.204144938,
                        "learn": [
                          0.8387365962,
                          0.4942252092
                        ]
                      },
                      {
                        "test": [
                          0.82513456,
                          0.537457165
                        ],
                        "passed_time": 3.755081565,
                        "iteration": 209,
                        "remaining_time": 5.185588828,
                        "learn": [
                          0.8389034923,
                          0.4939722284
                        ]
                      },
                      {
                        "test": [
                          0.8250093879,
                          0.5374397869
                        ],
                        "passed_time": 3.771408073,
                        "iteration": 210,
                        "remaining_time": 5.165577883,
                        "learn": [
                          0.8390286644,
                          0.4938297446
                        ]
                      },
                      {
                        "test": [
                          0.82513456,
                          0.5374077959
                        ],
                        "passed_time": 3.788656206,
                        "iteration": 211,
                        "remaining_time": 5.146853713,
                        "learn": [
                          0.8391121125,
                          0.4936342524
                        ]
                      },
                      {
                        "test": [
                          0.8252597321,
                          0.5375149722
                        ],
                        "passed_time": 3.805213266,
                        "iteration": 212,
                        "remaining_time": 5.127212242,
                        "learn": [
                          0.8392790086,
                          0.4935076878
                        ]
                      },
                      {
                        "test": [
                          0.8252597321,
                          0.5375540612
                        ],
                        "passed_time": 3.821466611,
                        "iteration": 213,
                        "remaining_time": 5.107193695,
                        "learn": [
                          0.8392790086,
                          0.4933602017
                        ]
                      },
                      {
                        "test": [
                          0.8252597321,
                          0.5375684777
                        ],
                        "passed_time": 3.838609462,
                        "iteration": 214,
                        "remaining_time": 5.088389286,
                        "learn": [
                          0.8393624567,
                          0.4932381153
                        ]
                      },
                      {
                        "test": [
                          0.8250093879,
                          0.5375649947
                        ],
                        "passed_time": 3.85408904,
                        "iteration": 215,
                        "remaining_time": 5.067413367,
                        "learn": [
                          0.8395710769,
                          0.4931289374
                        ]
                      },
                      {
                        "test": [
                          0.8253849042,
                          0.5375783426
                        ],
                        "passed_time": 3.870110503,
                        "iteration": 216,
                        "remaining_time": 5.047194803,
                        "learn": [
                          0.8395710769,
                          0.4929723197
                        ]
                      },
                      {
                        "test": [
                          0.82513456,
                          0.5376830058
                        ],
                        "passed_time": 3.88736356,
                        "iteration": 217,
                        "remaining_time": 5.028607908,
                        "learn": [
                          0.8397796971,
                          0.4927889507
                        ]
                      },
                      {
                        "test": [
                          0.8252597321,
                          0.5377067434
                        ],
                        "passed_time": 3.904796741,
                        "iteration": 218,
                        "remaining_time": 5.010264311,
                        "learn": [
                          0.839696249,
                          0.4926109956
                        ]
                      },
                      {
                        "test": [
                          0.8252597321,
                          0.5376310331
                        ],
                        "passed_time": 3.927470921,
                        "iteration": 219,
                        "remaining_time": 4.998599354,
                        "learn": [
                          0.839737973,
                          0.4925184009
                        ]
                      },
                      {
                        "test": [
                          0.8253849042,
                          0.5376633107
                        ],
                        "passed_time": 3.949207835,
                        "iteration": 220,
                        "remaining_time": 4.98565152,
                        "learn": [
                          0.839696249,
                          0.4923456431
                        ]
                      },
                      {
                        "test": [
                          0.8252597321,
                          0.5376991119
                        ],
                        "passed_time": 3.978628259,
                        "iteration": 221,
                        "remaining_time": 4.982246198,
                        "learn": [
                          0.839737973,
                          0.4922341898
                        ]
                      },
                      {
                        "test": [
                          0.8253849042,
                          0.5377009983
                        ],
                        "passed_time": 4.010779481,
                        "iteration": 222,
                        "remaining_time": 4.981999624,
                        "learn": [
                          0.8400717653,
                          0.492023272
                        ]
                      },
                      {
                        "test": [
                          0.8253849042,
                          0.5377267538
                        ],
                        "passed_time": 4.027772149,
                        "iteration": 223,
                        "remaining_time": 4.962790683,
                        "learn": [
                          0.8398214211,
                          0.4918918013
                        ]
                      },
                      {
                        "test": [
                          0.8253849042,
                          0.5377841623
                        ],
                        "passed_time": 4.04358408,
                        "iteration": 224,
                        "remaining_time": 4.94215832,
                        "learn": [
                          0.8400717653,
                          0.4917280946
                        ]
                      },
                      {
                        "test": [
                          0.8252597321,
                          0.5377433376
                        ],
                        "passed_time": 4.06187189,
                        "iteration": 225,
                        "remaining_time": 4.924570344,
                        "learn": [
                          0.8399883173,
                          0.4915501449
                        ]
                      },
                      {
                        "test": [
                          0.8253849042,
                          0.5377627153
                        ],
                        "passed_time": 4.078708378,
                        "iteration": 226,
                        "remaining_time": 4.905230781,
                        "learn": [
                          0.8398631452,
                          0.4913666895
                        ]
                      },
                      {
                        "test": [
                          0.8246338716,
                          0.5377458678
                        ],
                        "passed_time": 4.094632385,
                        "iteration": 227,
                        "remaining_time": 4.884824599,
                        "learn": [
                          0.8401134894,
                          0.4912126458
                        ]
                      },
                      {
                        "test": [
                          0.82513456,
                          0.5378684276
                        ],
                        "passed_time": 4.112761408,
                        "iteration": 228,
                        "remaining_time": 4.867066993,
                        "learn": [
                          0.8402386615,
                          0.4909271526
                        ]
                      },
                      {
                        "test": [
                          0.8250093879,
                          0.537858645
                        ],
                        "passed_time": 4.128907801,
                        "iteration": 229,
                        "remaining_time": 4.846978723,
                        "learn": [
                          0.8404890057,
                          0.4907743549
                        ]
                      },
                      {
                        "test": [
                          0.8250093879,
                          0.537873332
                        ],
                        "passed_time": 4.146235305,
                        "iteration": 230,
                        "remaining_time": 4.828299987,
                        "learn": [
                          0.8404055576,
                          0.4906268549
                        ]
                      },
                      {
                        "test": [
                          0.8248842158,
                          0.5379332871
                        ],
                        "passed_time": 4.166912924,
                        "iteration": 231,
                        "remaining_time": 4.81350286,
                        "learn": [
                          0.8403221096,
                          0.4904763861
                        ]
                      },
                      {
                        "test": [
                          0.8250093879,
                          0.5378902985
                        ],
                        "passed_time": 4.184263342,
                        "iteration": 232,
                        "remaining_time": 4.794842542,
                        "learn": [
                          0.8404890057,
                          0.4902752778
                        ]
                      },
                      {
                        "test": [
                          0.8247590437,
                          0.5379581089
                        ],
                        "passed_time": 4.200947564,
                        "iteration": 233,
                        "remaining_time": 4.77543612,
                        "learn": [
                          0.8409062461,
                          0.4900578132
                        ]
                      },
                      {
                        "test": [
                          0.8247590437,
                          0.5379575734
                        ],
                        "passed_time": 4.218188809,
                        "iteration": 234,
                        "remaining_time": 4.756680998,
                        "learn": [
                          0.840822798,
                          0.489775868
                        ]
                      },
                      {
                        "test": [
                          0.8247590437,
                          0.5379745113
                        ],
                        "passed_time": 4.236715261,
                        "iteration": 235,
                        "remaining_time": 4.739376393,
                        "learn": [
                          0.8409896942,
                          0.4896001813
                        ]
                      },
                      {
                        "test": [
                          0.8245086995,
                          0.5379859319
                        ],
                        "passed_time": 4.257007999,
                        "iteration": 236,
                        "remaining_time": 4.724021535,
                        "learn": [
                          0.8409479701,
                          0.4894248878
                        ]
                      },
                      {
                        "test": [
                          0.8245086995,
                          0.5379488923
                        ],
                        "passed_time": 4.273199638,
                        "iteration": 237,
                        "remaining_time": 4.704110526,
                        "learn": [
                          0.8407393499,
                          0.4892932109
                        ]
                      },
                      {
                        "test": [
                          0.8245086995,
                          0.5379107243
                        ],
                        "passed_time": 4.289332151,
                        "iteration": 238,
                        "remaining_time": 4.684166073,
                        "learn": [
                          0.840781074,
                          0.4891840245
                        ]
                      },
                      {
                        "test": [
                          0.8247590437,
                          0.5378760592
                        ],
                        "passed_time": 4.30592555,
                        "iteration": 239,
                        "remaining_time": 4.66475268,
                        "learn": [
                          0.8406141778,
                          0.4890151471
                        ]
                      },
                      {
                        "test": [
                          0.8245086995,
                          0.5379423739
                        ],
                        "passed_time": 4.323146495,
                        "iteration": 240,
                        "remaining_time": 4.646037105,
                        "learn": [
                          0.8406976259,
                          0.4888893627
                        ]
                      },
                      {
                        "test": [
                          0.8246338716,
                          0.5379598572
                        ],
                        "passed_time": 4.338879431,
                        "iteration": 241,
                        "remaining_time": 4.625747492,
                        "learn": [
                          0.8410314182,
                          0.4887354711
                        ]
                      },
                      {
                        "test": [
                          0.8246338716,
                          0.5379838433
                        ],
                        "passed_time": 4.355623072,
                        "iteration": 242,
                        "remaining_time": 4.606564319,
                        "learn": [
                          0.840781074,
                          0.4885616942
                        ]
                      },
                      {
                        "test": [
                          0.8245086995,
                          0.538017057
                        ],
                        "passed_time": 4.372251322,
                        "iteration": 243,
                        "remaining_time": 4.587280075,
                        "learn": [
                          0.8410731422,
                          0.4884556368
                        ]
                      },
                      {
                        "test": [
                          0.8246338716,
                          0.5380285934
                        ],
                        "passed_time": 4.393730928,
                        "iteration": 244,
                        "remaining_time": 4.573066885,
                        "learn": [
                          0.8410731422,
                          0.4882198086
                        ]
                      },
                      {
                        "test": [
                          0.8250093879,
                          0.5380029527
                        ],
                        "passed_time": 4.408945824,
                        "iteration": 245,
                        "remaining_time": 4.552326176,
                        "learn": [
                          0.8414069345,
                          0.4880754744
                        ]
                      },
                      {
                        "test": [
                          0.8250093879,
                          0.5380183366
                        ],
                        "passed_time": 4.426401198,
                        "iteration": 246,
                        "remaining_time": 4.533925114,
                        "learn": [
                          0.8412817624,
                          0.4879144124
                        ]
                      },
                      {
                        "test": [
                          0.82513456,
                          0.5379736563
                        ],
                        "passed_time": 4.442607682,
                        "iteration": 247,
                        "remaining_time": 4.514262644,
                        "learn": [
                          0.8414069345,
                          0.4876926991
                        ]
                      },
                      {
                        "test": [
                          0.8250093879,
                          0.5380363946
                        ],
                        "passed_time": 4.465019564,
                        "iteration": 248,
                        "remaining_time": 4.500883175,
                        "learn": [
                          0.8413652105,
                          0.4874660116
                        ]
                      },
                      {
                        "test": [
                          0.8250093879,
                          0.5380320405
                        ],
                        "passed_time": 4.480437172,
                        "iteration": 249,
                        "remaining_time": 4.480437172,
                        "learn": [
                          0.8415738307,
                          0.4873864147
                        ]
                      },
                      {
                        "test": [
                          0.8248842158,
                          0.538031304
                        ],
                        "passed_time": 4.4970934,
                        "iteration": 250,
                        "remaining_time": 4.461259986,
                        "learn": [
                          0.8417407268,
                          0.4872659184
                        ]
                      },
                      {
                        "test": [
                          0.8248842158,
                          0.5380363601
                        ],
                        "passed_time": 4.516276427,
                        "iteration": 251,
                        "remaining_time": 4.4445895,
                        "learn": [
                          0.8415738307,
                          0.4871296721
                        ]
                      },
                      {
                        "test": [
                          0.8248842158,
                          0.5379972515
                        ],
                        "passed_time": 4.533334848,
                        "iteration": 252,
                        "remaining_time": 4.425824931,
                        "learn": [
                          0.8415321066,
                          0.4870347111
                        ]
                      },
                      {
                        "test": [
                          0.8250093879,
                          0.5380205539
                        ],
                        "passed_time": 4.548580054,
                        "iteration": 253,
                        "remaining_time": 4.40531769,
                        "learn": [
                          0.8415738307,
                          0.4869347208
                        ]
                      },
                      {
                        "test": [
                          0.8243835274,
                          0.5380723319
                        ],
                        "passed_time": 4.564317234,
                        "iteration": 254,
                        "remaining_time": 4.385324402,
                        "learn": [
                          0.8415321066,
                          0.4867889295
                        ]
                      },
                      {
                        "test": [
                          0.8248842158,
                          0.5380619516
                        ],
                        "passed_time": 4.581746025,
                        "iteration": 255,
                        "remaining_time": 4.36697668,
                        "learn": [
                          0.8416990028,
                          0.4866014526
                        ]
                      },
                      {
                        "test": [
                          0.8247590437,
                          0.5380623348
                        ],
                        "passed_time": 4.5997445,
                        "iteration": 256,
                        "remaining_time": 4.349174761,
                        "learn": [
                          0.8418241749,
                          0.4863561353
                        ]
                      },
                      {
                        "test": [
                          0.8243835274,
                          0.53810663
                        ],
                        "passed_time": 4.616270581,
                        "iteration": 257,
                        "remaining_time": 4.329990235,
                        "learn": [
                          0.8418658989,
                          0.4862442036
                        ]
                      },
                      {
                        "test": [
                          0.8247590437,
                          0.538075468
                        ],
                        "passed_time": 4.634885511,
                        "iteration": 258,
                        "remaining_time": 4.312769916,
                        "learn": [
                          0.8416990028,
                          0.4859411819
                        ]
                      },
                      {
                        "test": [
                          0.8246338716,
                          0.5380303052
                        ],
                        "passed_time": 4.651733401,
                        "iteration": 259,
                        "remaining_time": 4.293907754,
                        "learn": [
                          0.8421162432,
                          0.4857026146
                        ]
                      },
                      {
                        "test": [
                          0.8243835274,
                          0.538003107
                        ],
                        "passed_time": 4.668234955,
                        "iteration": 260,
                        "remaining_time": 4.274743886,
                        "learn": [
                          0.8421579672,
                          0.4855867505
                        ]
                      },
                      {
                        "test": [
                          0.8243835274,
                          0.5380667645
                        ],
                        "passed_time": 4.684017589,
                        "iteration": 261,
                        "remaining_time": 4.254947275,
                        "learn": [
                          0.8420745191,
                          0.4854540538
                        ]
                      },
                      {
                        "test": [
                          0.8242583552,
                          0.5381316085
                        ],
                        "passed_time": 4.701920782,
                        "iteration": 262,
                        "remaining_time": 4.237092112,
                        "learn": [
                          0.8421162432,
                          0.4852408981
                        ]
                      },
                      {
                        "test": [
                          0.8242583552,
                          0.5381864694
                        ],
                        "passed_time": 4.719391148,
                        "iteration": 263,
                        "remaining_time": 4.218849662,
                        "learn": [
                          0.8421162432,
                          0.4850999298
                        ]
                      },
                      {
                        "test": [
                          0.8248842158,
                          0.5381838019
                        ],
                        "passed_time": 4.735516961,
                        "iteration": 264,
                        "remaining_time": 4.199420701,
                        "learn": [
                          0.8419910711,
                          0.4850085727
                        ]
                      },
                      {
                        "test": [
                          0.8246338716,
                          0.5381486112
                        ],
                        "passed_time": 4.754691183,
                        "iteration": 265,
                        "remaining_time": 4.182698259,
                        "learn": [
                          0.841949347,
                          0.4846732237
                        ]
                      },
                      {
                        "test": [
                          0.8245086995,
                          0.5381041349
                        ],
                        "passed_time": 4.774732432,
                        "iteration": 266,
                        "remaining_time": 4.16671407,
                        "learn": [
                          0.8420327951,
                          0.4844619671
                        ]
                      },
                      {
                        "test": [
                          0.8242583552,
                          0.5381170506
                        ],
                        "passed_time": 4.790980397,
                        "iteration": 267,
                        "remaining_time": 4.147415866,
                        "learn": [
                          0.8420327951,
                          0.4843446361
                        ]
                      },
                      {
                        "test": [
                          0.8246338716,
                          0.5381611252
                        ],
                        "passed_time": 4.806530335,
                        "iteration": 268,
                        "remaining_time": 4.12754092,
                        "learn": [
                          0.8424083114,
                          0.4841646129
                        ]
                      },
                      {
                        "test": [
                          0.8248842158,
                          0.5381923882
                        ],
                        "passed_time": 4.824141422,
                        "iteration": 269,
                        "remaining_time": 4.109453804,
                        "learn": [
                          0.8424500355,
                          0.4839807747
                        ]
                      },
                      {
                        "test": [
                          0.8246338716,
                          0.538212328
                        ],
                        "passed_time": 4.842000011,
                        "iteration": 270,
                        "remaining_time": 4.091579345,
                        "learn": [
                          0.8426586557,
                          0.4838196674
                        ]
                      },
                      {
                        "test": [
                          0.8247590437,
                          0.5382017567
                        ],
                        "passed_time": 4.857447175,
                        "iteration": 271,
                        "remaining_time": 4.071683662,
                        "learn": [
                          0.8427003797,
                          0.4837168118
                        ]
                      },
                      {
                        "test": [
                          0.8248842158,
                          0.5381141748
                        ],
                        "passed_time": 4.874299701,
                        "iteration": 272,
                        "remaining_time": 4.052989129,
                        "learn": [
                          0.8427003797,
                          0.4835039299
                        ]
                      },
                      {
                        "test": [
                          0.8247590437,
                          0.5381299651
                        ],
                        "passed_time": 4.89147488,
                        "iteration": 273,
                        "remaining_time": 4.034574171,
                        "learn": [
                          0.8428255518,
                          0.4833689747
                        ]
                      },
                      {
                        "test": [
                          0.8247590437,
                          0.5382029272
                        ],
                        "passed_time": 4.908251296,
                        "iteration": 274,
                        "remaining_time": 4.01584197,
                        "learn": [
                          0.8429089999,
                          0.4831450329
                        ]
                      },
                      {
                        "test": [
                          0.8248842158,
                          0.5381668479
                        ],
                        "passed_time": 4.924308111,
                        "iteration": 275,
                        "remaining_time": 3.996539916,
                        "learn": [
                          0.8429507239,
                          0.4829931491
                        ]
                      },
                      {
                        "test": [
                          0.8245086995,
                          0.5382031503
                        ],
                        "passed_time": 4.952979934,
                        "iteration": 276,
                        "remaining_time": 3.987417058,
                        "learn": [
                          0.843075896,
                          0.4828324841
                        ]
                      },
                      {
                        "test": [
                          0.8248842158,
                          0.5381878463
                        ],
                        "passed_time": 4.969117019,
                        "iteration": 277,
                        "remaining_time": 3.968143807,
                        "learn": [
                          0.8432427922,
                          0.4826097909
                        ]
                      },
                      {
                        "test": [
                          0.8250093879,
                          0.5381955293
                        ],
                        "passed_time": 5.003699952,
                        "iteration": 278,
                        "remaining_time": 3.963504263,
                        "learn": [
                          0.8432427922,
                          0.4824906474
                        ]
                      },
                      {
                        "test": [
                          0.8250093879,
                          0.5382715958
                        ],
                        "passed_time": 5.02974268,
                        "iteration": 279,
                        "remaining_time": 3.951940677,
                        "learn": [
                          0.8433262402,
                          0.482375872
                        ]
                      },
                      {
                        "test": [
                          0.8246338716,
                          0.5383022259
                        ],
                        "passed_time": 5.04619623,
                        "iteration": 280,
                        "remaining_time": 3.932800621,
                        "learn": [
                          0.8432845162,
                          0.4821936028
                        ]
                      },
                      {
                        "test": [
                          0.8248842158,
                          0.53838185
                        ],
                        "passed_time": 5.065193954,
                        "iteration": 281,
                        "remaining_time": 3.91564639,
                        "learn": [
                          0.8433679643,
                          0.4820293407
                        ]
                      },
                      {
                        "test": [
                          0.8245086995,
                          0.5385171858
                        ],
                        "passed_time": 5.081516297,
                        "iteration": 282,
                        "remaining_time": 3.896427691,
                        "learn": [
                          0.8434096883,
                          0.4818953046
                        ]
                      },
                      {
                        "test": [
                          0.8243835274,
                          0.5384609904
                        ],
                        "passed_time": 5.099844106,
                        "iteration": 283,
                        "remaining_time": 3.878754672,
                        "learn": [
                          0.8434096883,
                          0.4817124353
                        ]
                      },
                      {
                        "test": [
                          0.8247590437,
                          0.5384805087
                        ],
                        "passed_time": 5.116051825,
                        "iteration": 284,
                        "remaining_time": 3.859477692,
                        "learn": [
                          0.8434096883,
                          0.4815847541
                        ]
                      },
                      {
                        "test": [
                          0.8252597321,
                          0.5386010228
                        ],
                        "passed_time": 5.134581878,
                        "iteration": 285,
                        "remaining_time": 3.841959867,
                        "learn": [
                          0.8436600325,
                          0.4813999167
                        ]
                      },
                      {
                        "test": [
                          0.8250093879,
                          0.5385704904
                        ],
                        "passed_time": 5.151841286,
                        "iteration": 286,
                        "remaining_time": 3.823491965,
                        "learn": [
                          0.8435765845,
                          0.4812601114
                        ]
                      },
                      {
                        "test": [
                          0.8250093879,
                          0.5385013142
                        ],
                        "passed_time": 5.168813729,
                        "iteration": 287,
                        "remaining_time": 3.804821217,
                        "learn": [
                          0.8435348604,
                          0.4810943681
                        ]
                      },
                      {
                        "test": [
                          0.8250093879,
                          0.5384243204
                        ],
                        "passed_time": 5.187560578,
                        "iteration": 288,
                        "remaining_time": 3.787457723,
                        "learn": [
                          0.8435348604,
                          0.4809055975
                        ]
                      },
                      {
                        "test": [
                          0.8250093879,
                          0.5383877158
                        ],
                        "passed_time": 5.206397428,
                        "iteration": 289,
                        "remaining_time": 3.770149862,
                        "learn": [
                          0.8436600325,
                          0.4806815153
                        ]
                      },
                      {
                        "test": [
                          0.8250093879,
                          0.5383711228
                        ],
                        "passed_time": 5.222092037,
                        "iteration": 290,
                        "remaining_time": 3.750574693,
                        "learn": [
                          0.8435765845,
                          0.4805915915
                        ]
                      },
                      {
                        "test": [
                          0.8250093879,
                          0.5383934723
                        ],
                        "passed_time": 5.240283421,
                        "iteration": 291,
                        "remaining_time": 3.732804629,
                        "learn": [
                          0.8435348604,
                          0.4804799874
                        ]
                      },
                      {
                        "test": [
                          0.8252597321,
                          0.5383818824
                        ],
                        "passed_time": 5.25641678,
                        "iteration": 292,
                        "remaining_time": 3.713577725,
                        "learn": [
                          0.8437434806,
                          0.4803020214
                        ]
                      },
                      {
                        "test": [
                          0.8253849042,
                          0.5383851626
                        ],
                        "passed_time": 5.273344525,
                        "iteration": 293,
                        "remaining_time": 3.694928477,
                        "learn": [
                          0.8436600325,
                          0.480145514
                        ]
                      },
                      {
                        "test": [
                          0.82513456,
                          0.5383855914
                        ],
                        "passed_time": 5.289832649,
                        "iteration": 294,
                        "remaining_time": 3.6759854,
                        "learn": [
                          0.8437434806,
                          0.4800092402
                        ]
                      },
                      {
                        "test": [
                          0.8247590437,
                          0.5384344394
                        ],
                        "passed_time": 5.305688063,
                        "iteration": 295,
                        "remaining_time": 3.656622854,
                        "learn": [
                          0.8439103768,
                          0.4799034667
                        ]
                      },
                      {
                        "test": [
                          0.8247590437,
                          0.5384783359
                        ],
                        "passed_time": 5.321452651,
                        "iteration": 296,
                        "remaining_time": 3.637221845,
                        "learn": [
                          0.8439103768,
                          0.4798526213
                        ]
                      },
                      {
                        "test": [
                          0.8246338716,
                          0.5385362796
                        ],
                        "passed_time": 5.340339017,
                        "iteration": 297,
                        "remaining_time": 3.619961347,
                        "learn": [
                          0.844160721,
                          0.4796015843
                        ]
                      },
                      {
                        "test": [
                          0.8247590437,
                          0.5385417101
                        ],
                        "passed_time": 5.359194964,
                        "iteration": 298,
                        "remaining_time": 3.602669524,
                        "learn": [
                          0.8442441691,
                          0.4794311671
                        ]
                      },
                      {
                        "test": [
                          0.8247590437,
                          0.5385572238
                        ],
                        "passed_time": 5.376305608,
                        "iteration": 299,
                        "remaining_time": 3.584203739,
                        "learn": [
                          0.844202445,
                          0.4793424073
                        ]
                      },
                      {
                        "test": [
                          0.8247590437,
                          0.5385016948
                        ],
                        "passed_time": 5.392479424,
                        "iteration": 300,
                        "remaining_time": 3.565127593,
                        "learn": [
                          0.844160721,
                          0.4792350905
                        ]
                      },
                      {
                        "test": [
                          0.8247590437,
                          0.5384498183
                        ],
                        "passed_time": 5.409553553,
                        "iteration": 301,
                        "remaining_time": 3.546660939,
                        "learn": [
                          0.8442858931,
                          0.4790688213
                        ]
                      },
                      {
                        "test": [
                          0.8246338716,
                          0.5385423839
                        ],
                        "passed_time": 5.42596691,
                        "iteration": 302,
                        "remaining_time": 3.527773866,
                        "learn": [
                          0.8444527893,
                          0.4788884219
                        ]
                      },
                      {
                        "test": [
                          0.8248842158,
                          0.5385614693
                        ],
                        "passed_time": 5.44325387,
                        "iteration": 303,
                        "remaining_time": 3.509466311,
                        "learn": [
                          0.8443276171,
                          0.4787470234
                        ]
                      },
                      {
                        "test": [
                          0.8248842158,
                          0.5385647327
                        ],
                        "passed_time": 5.461976606,
                        "iteration": 304,
                        "remaining_time": 3.492083404,
                        "learn": [
                          0.8444110652,
                          0.4786432605
                        ]
                      },
                      {
                        "test": [
                          0.8247590437,
                          0.5385601059
                        ],
                        "passed_time": 5.478774387,
                        "iteration": 305,
                        "remaining_time": 3.473471343,
                        "learn": [
                          0.8444527893,
                          0.4785173242
                        ]
                      },
                      {
                        "test": [
                          0.8248842158,
                          0.5385486733
                        ],
                        "passed_time": 5.498488678,
                        "iteration": 306,
                        "remaining_time": 3.456704609,
                        "learn": [
                          0.8445362373,
                          0.4782635724
                        ]
                      },
                      {
                        "test": [
                          0.82513456,
                          0.5385619305
                        ],
                        "passed_time": 5.515975954,
                        "iteration": 307,
                        "remaining_time": 3.438530465,
                        "learn": [
                          0.8445779614,
                          0.4781526246
                        ]
                      },
                      {
                        "test": [
                          0.8250093879,
                          0.5385441395
                        ],
                        "passed_time": 5.532966066,
                        "iteration": 308,
                        "remaining_time": 3.420053458,
                        "learn": [
                          0.8444945133,
                          0.4779653816
                        ]
                      },
                      {
                        "test": [
                          0.8248842158,
                          0.538542453
                        ],
                        "passed_time": 5.549858648,
                        "iteration": 309,
                        "remaining_time": 3.401526268,
                        "learn": [
                          0.8446614094,
                          0.4778355222
                        ]
                      },
                      {
                        "test": [
                          0.8247590437,
                          0.5385087196
                        ],
                        "passed_time": 5.567006581,
                        "iteration": 310,
                        "remaining_time": 3.383164771,
                        "learn": [
                          0.8448283056,
                          0.4777070627
                        ]
                      },
                      {
                        "test": [
                          0.8253849042,
                          0.5384961662
                        ],
                        "passed_time": 5.582822,
                        "iteration": 311,
                        "remaining_time": 3.364008128,
                        "learn": [
                          0.8449117537,
                          0.4774853043
                        ]
                      },
                      {
                        "test": [
                          0.82513456,
                          0.5384194784
                        ],
                        "passed_time": 5.600051903,
                        "iteration": 312,
                        "remaining_time": 3.34571791,
                        "learn": [
                          0.8449534777,
                          0.4772984996
                        ]
                      },
                      {
                        "test": [
                          0.8252597321,
                          0.5384115147
                        ],
                        "passed_time": 5.619183958,
                        "iteration": 313,
                        "remaining_time": 3.328561198,
                        "learn": [
                          0.845245546,
                          0.4771493157
                        ]
                      },
                      {
                        "test": [
                          0.8253849042,
                          0.5384013347
                        ],
                        "passed_time": 5.636058157,
                        "iteration": 314,
                        "remaining_time": 3.310065902,
                        "learn": [
                          0.845245546,
                          0.477055725
                        ]
                      },
                      {
                        "test": [
                          0.8253849042,
                          0.5384034814
                        ],
                        "passed_time": 5.654163062,
                        "iteration": 315,
                        "remaining_time": 3.292297479,
                        "learn": [
                          0.845245546,
                          0.4769226364
                        ]
                      },
                      {
                        "test": [
                          0.8253849042,
                          0.5383912516
                        ],
                        "passed_time": 5.670585088,
                        "iteration": 316,
                        "remaining_time": 3.273555429,
                        "learn": [
                          0.8451620979,
                          0.4767734377
                        ]
                      },
                      {
                        "test": [
                          0.82513456,
                          0.5384394671
                        ],
                        "passed_time": 5.68669052,
                        "iteration": 317,
                        "remaining_time": 3.254646776,
                        "learn": [
                          0.84528727,
                          0.4766429994
                        ]
                      },
                      {
                        "test": [
                          0.8250093879,
                          0.5385602865
                        ],
                        "passed_time": 5.704643241,
                        "iteration": 318,
                        "remaining_time": 3.236803845,
                        "learn": [
                          0.84528727,
                          0.4764451365
                        ]
                      },
                      {
                        "test": [
                          0.8248842158,
                          0.5384782655
                        ],
                        "passed_time": 5.722284054,
                        "iteration": 319,
                        "remaining_time": 3.218784781,
                        "learn": [
                          0.8451620979,
                          0.47631833
                        ]
                      },
                      {
                        "test": [
                          0.8246338716,
                          0.5384949973
                        ],
                        "passed_time": 5.740164352,
                        "iteration": 320,
                        "remaining_time": 3.200901617,
                        "learn": [
                          0.8452038219,
                          0.4761349684
                        ]
                      },
                      {
                        "test": [
                          0.8243835274,
                          0.5385078498
                        ],
                        "passed_time": 5.757512634,
                        "iteration": 321,
                        "remaining_time": 3.182724375,
                        "learn": [
                          0.8454541661,
                          0.4760488037
                        ]
                      },
                      {
                        "test": [
                          0.8243835274,
                          0.5385126551
                        ],
                        "passed_time": 5.774855921,
                        "iteration": 322,
                        "remaining_time": 3.164549529,
                        "learn": [
                          0.8456210623,
                          0.4758849859
                        ]
                      },
                      {
                        "test": [
                          0.8247590437,
                          0.5384585841
                        ],
                        "passed_time": 5.791648137,
                        "iteration": 323,
                        "remaining_time": 3.146080469,
                        "learn": [
                          0.8455376142,
                          0.4757604213
                        ]
                      },
                      {
                        "test": [
                          0.8247590437,
                          0.5384226425
                        ],
                        "passed_time": 5.810121638,
                        "iteration": 324,
                        "remaining_time": 3.128527036,
                        "learn": [
                          0.8455376142,
                          0.4755830787
                        ]
                      },
                      {
                        "test": [
                          0.8250093879,
                          0.5383614211
                        ],
                        "passed_time": 5.827611227,
                        "iteration": 325,
                        "remaining_time": 3.110442802,
                        "learn": [
                          0.8456210623,
                          0.4754952978
                        ]
                      },
                      {
                        "test": [
                          0.82513456,
                          0.5383096109
                        ],
                        "passed_time": 5.845123007,
                        "iteration": 326,
                        "remaining_time": 3.092373945,
                        "learn": [
                          0.8455793383,
                          0.4753636196
                        ]
                      },
                      {
                        "test": [
                          0.8253849042,
                          0.5383559747
                        ],
                        "passed_time": 5.861204204,
                        "iteration": 327,
                        "remaining_time": 3.073558302,
                        "learn": [
                          0.8457879584,
                          0.4751940431
                        ]
                      },
                      {
                        "test": [
                          0.8253849042,
                          0.5383707616
                        ],
                        "passed_time": 5.877193859,
                        "iteration": 328,
                        "remaining_time": 3.054711702,
                        "learn": [
                          0.8456210623,
                          0.4750875118
                        ]
                      },
                      {
                        "test": [
                          0.8252597321,
                          0.5383885961
                        ],
                        "passed_time": 5.894403495,
                        "iteration": 329,
                        "remaining_time": 3.036510891,
                        "learn": [
                          0.8459965786,
                          0.4748479044
                        ]
                      },
                      {
                        "test": [
                          0.8247590437,
                          0.5384073795
                        ],
                        "passed_time": 5.911250116,
                        "iteration": 330,
                        "remaining_time": 3.018130724,
                        "learn": [
                          0.8460383027,
                          0.474624512
                        ]
                      },
                      {
                        "test": [
                          0.8250093879,
                          0.5384540998
                        ],
                        "passed_time": 5.927786272,
                        "iteration": 331,
                        "remaining_time": 2.999602692,
                        "learn": [
                          0.8459548546,
                          0.4744072595
                        ]
                      },
                      {
                        "test": [
                          0.8252597321,
                          0.5384364327
                        ],
                        "passed_time": 5.949330803,
                        "iteration": 332,
                        "remaining_time": 2.983598331,
                        "learn": [
                          0.8459548546,
                          0.4742541516
                        ]
                      },
                      {
                        "test": [
                          0.8255100764,
                          0.5383787642
                        ],
                        "passed_time": 5.97313724,
                        "iteration": 333,
                        "remaining_time": 2.968684975,
                        "learn": [
                          0.8462469229,
                          0.4740825742
                        ]
                      },
                      {
                        "test": [
                          0.8255100764,
                          0.5383782819
                        ],
                        "passed_time": 5.992515103,
                        "iteration": 334,
                        "remaining_time": 2.951537289,
                        "learn": [
                          0.8462469229,
                          0.4739476827
                        ]
                      },
                      {
                        "test": [
                          0.8253849042,
                          0.5383743711
                        ],
                        "passed_time": 6.029453278,
                        "iteration": 335,
                        "remaining_time": 2.942947433,
                        "learn": [
                          0.8462886469,
                          0.4737762622
                        ]
                      },
                      {
                        "test": [
                          0.8248842158,
                          0.5384578709
                        ],
                        "passed_time": 6.059077125,
                        "iteration": 336,
                        "remaining_time": 2.930651547,
                        "learn": [
                          0.8461217507,
                          0.4736453368
                        ]
                      },
                      {
                        "test": [
                          0.8248842158,
                          0.538521949
                        ],
                        "passed_time": 6.075937073,
                        "iteration": 337,
                        "remaining_time": 2.91213552,
                        "learn": [
                          0.8461634748,
                          0.4735332691
                        ]
                      },
                      {
                        "test": [
                          0.8252597321,
                          0.5385119818
                        ],
                        "passed_time": 6.091610706,
                        "iteration": 338,
                        "remaining_time": 2.893065852,
                        "learn": [
                          0.8459965786,
                          0.473427313
                        ]
                      },
                      {
                        "test": [
                          0.8248842158,
                          0.5384788257
                        ],
                        "passed_time": 6.109581216,
                        "iteration": 339,
                        "remaining_time": 2.875097043,
                        "learn": [
                          0.8459965786,
                          0.4731982672
                        ]
                      },
                      {
                        "test": [
                          0.8248842158,
                          0.5385425003
                        ],
                        "passed_time": 6.12818401,
                        "iteration": 340,
                        "remaining_time": 2.857423043,
                        "learn": [
                          0.8460800267,
                          0.4730452547
                        ]
                      },
                      {
                        "test": [
                          0.8250093879,
                          0.5385558571
                        ],
                        "passed_time": 6.146012983,
                        "iteration": 341,
                        "remaining_time": 2.839386115,
                        "learn": [
                          0.8461217507,
                          0.472926056
                        ]
                      },
                      {
                        "test": [
                          0.8248842158,
                          0.5386170056
                        ],
                        "passed_time": 6.162995901,
                        "iteration": 342,
                        "remaining_time": 2.820963138,
                        "learn": [
                          0.8460383027,
                          0.4727477433
                        ]
                      },
                      {
                        "test": [
                          0.82513456,
                          0.5386040221
                        ],
                        "passed_time": 6.179409262,
                        "iteration": 343,
                        "remaining_time": 2.802290247,
                        "learn": [
                          0.8459548546,
                          0.4726445764
                        ]
                      },
                      {
                        "test": [
                          0.8248842158,
                          0.5386072443
                        ],
                        "passed_time": 6.197064287,
                        "iteration": 344,
                        "remaining_time": 2.784188303,
                        "learn": [
                          0.8463303709,
                          0.4724537965
                        ]
                      },
                      {
                        "test": [
                          0.8248842158,
                          0.5386410898
                        ],
                        "passed_time": 6.214339759,
                        "iteration": 345,
                        "remaining_time": 2.765920009,
                        "learn": [
                          0.8461217507,
                          0.4722662784
                        ]
                      },
                      {
                        "test": [
                          0.8247590437,
                          0.5386225032
                        ],
                        "passed_time": 6.230511721,
                        "iteration": 346,
                        "remaining_time": 2.747170874,
                        "learn": [
                          0.846413819,
                          0.4720580224
                        ]
                      },
                      {
                        "test": [
                          0.8250093879,
                          0.5386894631
                        ],
                        "passed_time": 6.247035129,
                        "iteration": 347,
                        "remaining_time": 2.728590056,
                        "learn": [
                          0.8464972671,
                          0.4719725127
                        ]
                      },
                      {
                        "test": [
                          0.82513456,
                          0.538722227
                        ],
                        "passed_time": 6.265114668,
                        "iteration": 348,
                        "remaining_time": 2.710694312,
                        "learn": [
                          0.8466641632,
                          0.4718316475
                        ]
                      },
                      {
                        "test": [
                          0.82513456,
                          0.5386733227
                        ],
                        "passed_time": 6.283374672,
                        "iteration": 349,
                        "remaining_time": 2.692874859,
                        "learn": [
                          0.8467476113,
                          0.4716747356
                        ]
                      },
                      {
                        "test": [
                          0.8250093879,
                          0.5387644372
                        ],
                        "passed_time": 6.300257396,
                        "iteration": 350,
                        "remaining_time": 2.674468239,
                        "learn": [
                          0.8467476113,
                          0.471528895
                        ]
                      },
                      {
                        "test": [
                          0.8248842158,
                          0.5387359806
                        ],
                        "passed_time": 6.318158138,
                        "iteration": 351,
                        "remaining_time": 2.656498308,
                        "learn": [
                          0.8468310594,
                          0.4714525534
                        ]
                      },
                      {
                        "test": [
                          0.8245086995,
                          0.5387566702
                        ],
                        "passed_time": 6.335387271,
                        "iteration": 352,
                        "remaining_time": 2.63824909,
                        "learn": [
                          0.8468310594,
                          0.4713179295
                        ]
                      },
                      {
                        "test": [
                          0.8248842158,
                          0.5388508145
                        ],
                        "passed_time": 6.352237184,
                        "iteration": 353,
                        "remaining_time": 2.619849234,
                        "learn": [
                          0.8470814036,
                          0.4711367301
                        ]
                      },
                      {
                        "test": [
                          0.8252597321,
                          0.5387813595
                        ],
                        "passed_time": 6.369125826,
                        "iteration": 354,
                        "remaining_time": 2.601473929,
                        "learn": [
                          0.8471231276,
                          0.4710200222
                        ]
                      },
                      {
                        "test": [
                          0.8250093879,
                          0.538696451
                        ],
                        "passed_time": 6.387631016,
                        "iteration": 355,
                        "remaining_time": 2.58376086,
                        "learn": [
                          0.8470814036,
                          0.4708986213
                        ]
                      },
                      {
                        "test": [
                          0.8250093879,
                          0.5387809015
                        ],
                        "passed_time": 6.404539156,
                        "iteration": 356,
                        "remaining_time": 2.56540364,
                        "learn": [
                          0.8471648517,
                          0.4707063861
                        ]
                      },
                      {
                        "test": [
                          0.82513456,
                          0.5387969874
                        ],
                        "passed_time": 6.421452201,
                        "iteration": 357,
                        "remaining_time": 2.54705646,
                        "learn": [
                          0.8471648517,
                          0.4705430404
                        ]
                      },
                      {
                        "test": [
                          0.8250093879,
                          0.5387970995
                        ],
                        "passed_time": 6.438545266,
                        "iteration": 358,
                        "remaining_time": 2.528787973,
                        "learn": [
                          0.8471648517,
                          0.4704375307
                        ]
                      },
                      {
                        "test": [
                          0.8253849042,
                          0.5387090767
                        ],
                        "passed_time": 6.454823598,
                        "iteration": 359,
                        "remaining_time": 2.510209177,
                        "learn": [
                          0.8472900238,
                          0.4702935464
                        ]
                      },
                      {
                        "test": [
                          0.82513456,
                          0.5387376241
                        ],
                        "passed_time": 6.474051145,
                        "iteration": 360,
                        "remaining_time": 2.492778696,
                        "learn": [
                          0.8473317478,
                          0.47017732
                        ]
                      },
                      {
                        "test": [
                          0.8253849042,
                          0.5388207639
                        ],
                        "passed_time": 6.492301492,
                        "iteration": 361,
                        "remaining_time": 2.474965762,
                        "learn": [
                          0.8472900238,
                          0.4700420976
                        ]
                      },
                      {
                        "test": [
                          0.8255100764,
                          0.5388375735
                        ],
                        "passed_time": 6.508398002,
                        "iteration": 362,
                        "remaining_time": 2.456337538,
                        "learn": [
                          0.8473317478,
                          0.4699459319
                        ]
                      },
                      {
                        "test": [
                          0.8247590437,
                          0.5389156701
                        ],
                        "passed_time": 6.524861662,
                        "iteration": 363,
                        "remaining_time": 2.437860401,
                        "learn": [
                          0.847582092,
                          0.4696800533
                        ]
                      },
                      {
                        "test": [
                          0.8248842158,
                          0.5388639371
                        ],
                        "passed_time": 6.544044661,
                        "iteration": 364,
                        "remaining_time": 2.42040008,
                        "learn": [
                          0.8473734719,
                          0.4695534634
                        ]
                      },
                      {
                        "test": [
                          0.8250093879,
                          0.5388177003
                        ],
                        "passed_time": 6.562202062,
                        "iteration": 365,
                        "remaining_time": 2.402554853,
                        "learn": [
                          0.8474151959,
                          0.4693949499
                        ]
                      },
                      {
                        "test": [
                          0.8245086995,
                          0.5388014961
                        ],
                        "passed_time": 6.579490057,
                        "iteration": 366,
                        "remaining_time": 2.384392854,
                        "learn": [
                          0.8478741603,
                          0.4691550848
                        ]
                      },
                      {
                        "test": [
                          0.8248842158,
                          0.5388765341
                        ],
                        "passed_time": 6.596256235,
                        "iteration": 367,
                        "remaining_time": 2.366048432,
                        "learn": [
                          0.8478324363,
                          0.4690477456
                        ]
                      },
                      {
                        "test": [
                          0.8247590437,
                          0.5388594968
                        ],
                        "passed_time": 6.612214532,
                        "iteration": 368,
                        "remaining_time": 2.347425755,
                        "learn": [
                          0.8479576084,
                          0.4689465081
                        ]
                      },
                      {
                        "test": [
                          0.8245086995,
                          0.5388459059
                        ],
                        "passed_time": 6.627986061,
                        "iteration": 369,
                        "remaining_time": 2.328751859,
                        "learn": [
                          0.8478741603,
                          0.4688468997
                        ]
                      },
                      {
                        "test": [
                          0.8245086995,
                          0.5388154819
                        ],
                        "passed_time": 6.646544297,
                        "iteration": 370,
                        "remaining_time": 2.311062572,
                        "learn": [
                          0.8481245045,
                          0.4686549536
                        ]
                      },
                      {
                        "test": [
                          0.8243835274,
                          0.5387560786
                        ],
                        "passed_time": 6.662408961,
                        "iteration": 371,
                        "remaining_time": 2.292441793,
                        "learn": [
                          0.8482079526,
                          0.4685219666
                        ]
                      },
                      {
                        "test": [
                          0.824008011,
                          0.5387645399
                        ],
                        "passed_time": 6.678740783,
                        "iteration": 372,
                        "remaining_time": 2.273994851,
                        "learn": [
                          0.8479993324,
                          0.4683728118
                        ]
                      },
                      {
                        "test": [
                          0.8243835274,
                          0.5388294188
                        ],
                        "passed_time": 6.697798589,
                        "iteration": 373,
                        "remaining_time": 2.256477599,
                        "learn": [
                          0.8481245045,
                          0.4681618051
                        ]
                      },
                      {
                        "test": [
                          0.8247590437,
                          0.5388331774
                        ],
                        "passed_time": 6.714378411,
                        "iteration": 374,
                        "remaining_time": 2.238126137,
                        "learn": [
                          0.8481245045,
                          0.4679998923
                        ]
                      },
                      {
                        "test": [
                          0.8242583552,
                          0.5388985896
                        ],
                        "passed_time": 6.731480538,
                        "iteration": 375,
                        "remaining_time": 2.219956348,
                        "learn": [
                          0.8481662286,
                          0.4678492106
                        ]
                      },
                      {
                        "test": [
                          0.8243835274,
                          0.5389290792
                        ],
                        "passed_time": 6.749039237,
                        "iteration": 376,
                        "remaining_time": 2.201941183,
                        "learn": [
                          0.8481245045,
                          0.4677436623
                        ]
                      },
                      {
                        "test": [
                          0.8243835274,
                          0.5388519932
                        ],
                        "passed_time": 6.767218072,
                        "iteration": 377,
                        "remaining_time": 2.184128584,
                        "learn": [
                          0.8482914007,
                          0.4675869467
                        ]
                      },
                      {
                        "test": [
                          0.8241331831,
                          0.5388507654
                        ],
                        "passed_time": 6.785026766,
                        "iteration": 378,
                        "remaining_time": 2.166195881,
                        "learn": [
                          0.8483331247,
                          0.4673914713
                        ]
                      },
                      {
                        "test": [
                          0.8242583552,
                          0.5388317043
                        ],
                        "passed_time": 6.802408593,
                        "iteration": 379,
                        "remaining_time": 2.148129029,
                        "learn": [
                          0.8482496766,
                          0.4672225231
                        ]
                      },
                      {
                        "test": [
                          0.8241331831,
                          0.5388132351
                        ],
                        "passed_time": 6.821599507,
                        "iteration": 380,
                        "remaining_time": 2.130630817,
                        "learn": [
                          0.8483748488,
                          0.4670475203
                        ]
                      },
                      {
                        "test": [
                          0.8246338716,
                          0.5388065706
                        ],
                        "passed_time": 6.838899351,
                        "iteration": 381,
                        "remaining_time": 2.11253959,
                        "learn": [
                          0.8485834689,
                          0.4668427507
                        ]
                      },
                      {
                        "test": [
                          0.8242583552,
                          0.5388136914
                        ],
                        "passed_time": 6.855622169,
                        "iteration": 382,
                        "remaining_time": 2.094276224,
                        "learn": [
                          0.848708641,
                          0.4667498515
                        ]
                      },
                      {
                        "test": [
                          0.8243835274,
                          0.538892179
                        ],
                        "passed_time": 6.872979685,
                        "iteration": 383,
                        "remaining_time": 2.076212613,
                        "learn": [
                          0.8487920891,
                          0.4665626989
                        ]
                      },
                      {
                        "test": [
                          0.8242583552,
                          0.5388505619
                        ],
                        "passed_time": 6.890805576,
                        "iteration": 384,
                        "remaining_time": 2.058292575,
                        "learn": [
                          0.8488338132,
                          0.4663615634
                        ]
                      },
                      {
                        "test": [
                          0.8245086995,
                          0.5388147708
                        ],
                        "passed_time": 6.907338072,
                        "iteration": 385,
                        "remaining_time": 2.039991037,
                        "learn": [
                          0.8487920891,
                          0.4662156246
                        ]
                      },
                      {
                        "test": [
                          0.8246338716,
                          0.5388688125
                        ],
                        "passed_time": 6.923327576,
                        "iteration": 386,
                        "remaining_time": 2.021540093,
                        "learn": [
                          0.8488755372,
                          0.4660729746
                        ]
                      },
                      {
                        "test": [
                          0.8245086995,
                          0.5388638586
                        ],
                        "passed_time": 6.939857482,
                        "iteration": 387,
                        "remaining_time": 2.00325783,
                        "learn": [
                          0.8489589853,
                          0.465930058
                        ]
                      },
                      {
                        "test": [
                          0.8245086995,
                          0.5389275253
                        ],
                        "passed_time": 6.95669835,
                        "iteration": 388,
                        "remaining_time": 1.985073308,
                        "learn": [
                          0.8488755372,
                          0.4657656601
                        ]
                      },
                      {
                        "test": [
                          0.8243835274,
                          0.5389120607
                        ],
                        "passed_time": 6.984940361,
                        "iteration": 389,
                        "remaining_time": 1.970111384,
                        "learn": [
                          0.8490841574,
                          0.4656644891
                        ]
                      },
                      {
                        "test": [
                          0.8245086995,
                          0.538950139
                        ],
                        "passed_time": 7.001738211,
                        "iteration": 390,
                        "remaining_time": 1.951891215,
                        "learn": [
                          0.8491676055,
                          0.4655089262
                        ]
                      },
                      {
                        "test": [
                          0.8241331831,
                          0.5389515412
                        ],
                        "passed_time": 7.018995579,
                        "iteration": 391,
                        "remaining_time": 1.933804904,
                        "learn": [
                          0.8493345016,
                          0.4653104069
                        ]
                      },
                      {
                        "test": [
                          0.8247590437,
                          0.5388813393
                        ],
                        "passed_time": 7.07124601,
                        "iteration": 392,
                        "remaining_time": 1.925250186,
                        "learn": [
                          0.8492093295,
                          0.4651484078
                        ]
                      },
                      {
                        "test": [
                          0.8246338716,
                          0.5388932684
                        ],
                        "passed_time": 7.091888754,
                        "iteration": 393,
                        "remaining_time": 1.907970071,
                        "learn": [
                          0.8492927776,
                          0.4649462161
                        ]
                      },
                      {
                        "test": [
                          0.8246338716,
                          0.5389308225
                        ],
                        "passed_time": 7.109756826,
                        "iteration": 394,
                        "remaining_time": 1.889935359,
                        "learn": [
                          0.8492093295,
                          0.4648159951
                        ]
                      },
                      {
                        "test": [
                          0.8245086995,
                          0.5389695344
                        ],
                        "passed_time": 7.127264951,
                        "iteration": 395,
                        "remaining_time": 1.871806957,
                        "learn": [
                          0.8492927776,
                          0.4646342505
                        ]
                      },
                      {
                        "test": [
                          0.8245086995,
                          0.5390066972
                        ],
                        "passed_time": 7.143565295,
                        "iteration": 396,
                        "remaining_time": 1.853368326,
                        "learn": [
                          0.8492510535,
                          0.4644755872
                        ]
                      },
                      {
                        "test": [
                          0.8242583552,
                          0.5390584526
                        ],
                        "passed_time": 7.161004749,
                        "iteration": 397,
                        "remaining_time": 1.835232373,
                        "learn": [
                          0.8491676055,
                          0.4643542069
                        ]
                      },
                      {
                        "test": [
                          0.8242583552,
                          0.539164359
                        ],
                        "passed_time": 7.178372219,
                        "iteration": 398,
                        "remaining_time": 1.817081689,
                        "learn": [
                          0.8492093295,
                          0.4642270077
                        ]
                      },
                      {
                        "test": [
                          0.8242583552,
                          0.5391375425
                        ],
                        "passed_time": 7.197212898,
                        "iteration": 399,
                        "remaining_time": 1.799303224,
                        "learn": [
                          0.8492927776,
                          0.4641088077
                        ]
                      },
                      {
                        "test": [
                          0.8242583552,
                          0.539039452
                        ],
                        "passed_time": 7.21392878,
                        "iteration": 400,
                        "remaining_time": 1.780994886,
                        "learn": [
                          0.8494179497,
                          0.4639622272
                        ]
                      },
                      {
                        "test": [
                          0.8241331831,
                          0.5390446169
                        ],
                        "passed_time": 7.231245929,
                        "iteration": 401,
                        "remaining_time": 1.762841047,
                        "learn": [
                          0.8494179497,
                          0.4636902894
                        ]
                      },
                      {
                        "test": [
                          0.8241331831,
                          0.5390149019
                        ],
                        "passed_time": 7.248407395,
                        "iteration": 402,
                        "remaining_time": 1.744653889,
                        "learn": [
                          0.8493345016,
                          0.4635708052
                        ]
                      },
                      {
                        "test": [
                          0.8241331831,
                          0.5391640706
                        ],
                        "passed_time": 7.266146373,
                        "iteration": 403,
                        "remaining_time": 1.726609039,
                        "learn": [
                          0.8493762256,
                          0.4633294271
                        ]
                      },
                      {
                        "test": [
                          0.8242583552,
                          0.5391457063
                        ],
                        "passed_time": 7.284126029,
                        "iteration": 404,
                        "remaining_time": 1.708622155,
                        "learn": [
                          0.8493762256,
                          0.4632330907
                        ]
                      },
                      {
                        "test": [
                          0.8242583552,
                          0.5390944352
                        ],
                        "passed_time": 7.300991522,
                        "iteration": 405,
                        "remaining_time": 1.690377347,
                        "learn": [
                          0.8492510535,
                          0.4630987675
                        ]
                      },
                      {
                        "test": [
                          0.8243835274,
                          0.5390878761
                        ],
                        "passed_time": 7.318947078,
                        "iteration": 406,
                        "remaining_time": 1.672388399,
                        "learn": [
                          0.8495013978,
                          0.4628906854
                        ]
                      },
                      {
                        "test": [
                          0.8241331831,
                          0.5390816423
                        ],
                        "passed_time": 7.336323998,
                        "iteration": 407,
                        "remaining_time": 1.654269137,
                        "learn": [
                          0.8496265699,
                          0.4627465281
                        ]
                      },
                      {
                        "test": [
                          0.8247590437,
                          0.5390065558
                        ],
                        "passed_time": 7.35390426,
                        "iteration": 408,
                        "remaining_time": 1.636198747,
                        "learn": [
                          0.8495013978,
                          0.4624824034
                        ]
                      },
                      {
                        "test": [
                          0.8247590437,
                          0.5390094226
                        ],
                        "passed_time": 7.370936206,
                        "iteration": 409,
                        "remaining_time": 1.618010387,
                        "learn": [
                          0.8496265699,
                          0.4623370733
                        ]
                      },
                      {
                        "test": [
                          0.8247590437,
                          0.5389713798
                        ],
                        "passed_time": 7.387117655,
                        "iteration": 410,
                        "remaining_time": 1.599643483,
                        "learn": [
                          0.849751742,
                          0.4621940987
                        ]
                      },
                      {
                        "test": [
                          0.8247590437,
                          0.5389968679
                        ],
                        "passed_time": 7.403404118,
                        "iteration": 411,
                        "remaining_time": 1.581309617,
                        "learn": [
                          0.8496682939,
                          0.4620396337
                        ]
                      },
                      {
                        "test": [
                          0.82513456,
                          0.5389286891
                        ],
                        "passed_time": 7.420707968,
                        "iteration": 412,
                        "remaining_time": 1.563199984,
                        "learn": [
                          0.8496682939,
                          0.4619292401
                        ]
                      },
                      {
                        "test": [
                          0.82513456,
                          0.5388993077
                        ],
                        "passed_time": 7.444457761,
                        "iteration": 413,
                        "remaining_time": 1.546433255,
                        "learn": [
                          0.8495848458,
                          0.4618434179
                        ]
                      },
                      {
                        "test": [
                          0.82513456,
                          0.5389692443
                        ],
                        "passed_time": 7.4619658,
                        "iteration": 414,
                        "remaining_time": 1.528354441,
                        "learn": [
                          0.8496682939,
                          0.4616800517
                        ]
                      },
                      {
                        "test": [
                          0.82513456,
                          0.5389448107
                        ],
                        "passed_time": 7.478792391,
                        "iteration": 415,
                        "remaining_time": 1.510140771,
                        "learn": [
                          0.8496682939,
                          0.4615239351
                        ]
                      },
                      {
                        "test": [
                          0.82513456,
                          0.5389245918
                        ],
                        "passed_time": 7.498478653,
                        "iteration": 416,
                        "remaining_time": 1.492502945,
                        "learn": [
                          0.8500020862,
                          0.4613154286
                        ]
                      },
                      {
                        "test": [
                          0.8250093879,
                          0.5389131486
                        ],
                        "passed_time": 7.515087166,
                        "iteration": 417,
                        "remaining_time": 1.474251549,
                        "learn": [
                          0.8498351901,
                          0.4612461937
                        ]
                      },
                      {
                        "test": [
                          0.8246338716,
                          0.5389508804
                        ],
                        "passed_time": 7.530949137,
                        "iteration": 418,
                        "remaining_time": 1.455863676,
                        "learn": [
                          0.8499603622,
                          0.4611604124
                        ]
                      },
                      {
                        "test": [
                          0.8250093879,
                          0.5389567664
                        ],
                        "passed_time": 7.548665619,
                        "iteration": 419,
                        "remaining_time": 1.43784107,
                        "learn": [
                          0.8500855343,
                          0.4610291709
                        ]
                      },
                      {
                        "test": [
                          0.82513456,
                          0.5390307269
                        ],
                        "passed_time": 7.570564599,
                        "iteration": 420,
                        "remaining_time": 1.420604758,
                        "learn": [
                          0.8500020862,
                          0.4608346311
                        ]
                      },
                      {
                        "test": [
                          0.8250093879,
                          0.5390240572
                        ],
                        "passed_time": 7.587893689,
                        "iteration": 421,
                        "remaining_time": 1.402501677,
                        "learn": [
                          0.8502524304,
                          0.4606875184
                        ]
                      },
                      {
                        "test": [
                          0.8247590437,
                          0.5389796342
                        ],
                        "passed_time": 7.606778735,
                        "iteration": 422,
                        "remaining_time": 1.384685491,
                        "learn": [
                          0.8502107064,
                          0.4604870451
                        ]
                      },
                      {
                        "test": [
                          0.8246338716,
                          0.5389550436
                        ],
                        "passed_time": 7.623184094,
                        "iteration": 423,
                        "remaining_time": 1.36641979,
                        "learn": [
                          0.8504610506,
                          0.4603531977
                        ]
                      },
                      {
                        "test": [
                          0.8248842158,
                          0.5390263162
                        ],
                        "passed_time": 7.638785991,
                        "iteration": 424,
                        "remaining_time": 1.348021057,
                        "learn": [
                          0.8503776025,
                          0.4602660159
                        ]
                      },
                      {
                        "test": [
                          0.8250093879,
                          0.5390343679
                        ],
                        "passed_time": 7.655773035,
                        "iteration": 425,
                        "remaining_time": 1.329876067,
                        "learn": [
                          0.8503358785,
                          0.4601794804
                        ]
                      },
                      {
                        "test": [
                          0.8250093879,
                          0.5390899832
                        ],
                        "passed_time": 7.671764684,
                        "iteration": 426,
                        "remaining_time": 1.311566328,
                        "learn": [
                          0.8502941545,
                          0.4600789998
                        ]
                      },
                      {
                        "test": [
                          0.8248842158,
                          0.539101056
                        ],
                        "passed_time": 7.688624535,
                        "iteration": 427,
                        "remaining_time": 1.293413473,
                        "learn": [
                          0.8502941545,
                          0.4598859901
                        ]
                      },
                      {
                        "test": [
                          0.8250093879,
                          0.5391272635
                        ],
                        "passed_time": 7.705529182,
                        "iteration": 428,
                        "remaining_time": 1.27527406,
                        "learn": [
                          0.8503358785,
                          0.4598142376
                        ]
                      },
                      {
                        "test": [
                          0.8252597321,
                          0.5391752605
                        ],
                        "passed_time": 7.722125055,
                        "iteration": 429,
                        "remaining_time": 1.257090125,
                        "learn": [
                          0.8503776025,
                          0.459685616
                        ]
                      },
                      {
                        "test": [
                          0.82513456,
                          0.539164656
                        ],
                        "passed_time": 7.740281203,
                        "iteration": 430,
                        "remaining_time": 1.239163348,
                        "learn": [
                          0.8505862227,
                          0.4595716394
                        ]
                      },
                      {
                        "test": [
                          0.82513456,
                          0.5392101157
                        ],
                        "passed_time": 7.757872133,
                        "iteration": 431,
                        "remaining_time": 1.221146539,
                        "learn": [
                          0.8505027746,
                          0.4594501285
                        ]
                      },
                      {
                        "test": [
                          0.8252597321,
                          0.5391988593
                        ],
                        "passed_time": 7.775117941,
                        "iteration": 432,
                        "remaining_time": 1.203078296,
                        "learn": [
                          0.8505862227,
                          0.4592897013
                        ]
                      },
                      {
                        "test": [
                          0.8253849042,
                          0.5391665388
                        ],
                        "passed_time": 7.793645628,
                        "iteration": 433,
                        "remaining_time": 1.185208782,
                        "learn": [
                          0.8505027746,
                          0.4591917869
                        ]
                      },
                      {
                        "test": [
                          0.8252597321,
                          0.5392750264
                        ],
                        "passed_time": 7.813421982,
                        "iteration": 434,
                        "remaining_time": 1.167522825,
                        "learn": [
                          0.8505444987,
                          0.4589851412
                        ]
                      },
                      {
                        "test": [
                          0.8252597321,
                          0.5393272714
                        ],
                        "passed_time": 7.830551818,
                        "iteration": 435,
                        "remaining_time": 1.149438799,
                        "learn": [
                          0.8505444987,
                          0.4588629927
                        ]
                      },
                      {
                        "test": [
                          0.8256352485,
                          0.5393347615
                        ],
                        "passed_time": 7.845694179,
                        "iteration": 436,
                        "remaining_time": 1.131072616,
                        "learn": [
                          0.8505444987,
                          0.4587459672
                        ]
                      },
                      {
                        "test": [
                          0.8261359369,
                          0.5393007624
                        ],
                        "passed_time": 7.863058767,
                        "iteration": 437,
                        "remaining_time": 1.113035716,
                        "learn": [
                          0.8506279468,
                          0.4586000731
                        ]
                      },
                      {
                        "test": [
                          0.826261109,
                          0.5393041626
                        ],
                        "passed_time": 7.87968921,
                        "iteration": 438,
                        "remaining_time": 1.094899868,
                        "learn": [
                          0.8506279468,
                          0.4584399066
                        ]
                      },
                      {
                        "test": [
                          0.826261109,
                          0.5393640025
                        ],
                        "passed_time": 7.896368864,
                        "iteration": 439,
                        "remaining_time": 1.076777572,
                        "learn": [
                          0.8507113948,
                          0.4582601111
                        ]
                      },
                      {
                        "test": [
                          0.8261359369,
                          0.5393157412
                        ],
                        "passed_time": 7.914676252,
                        "iteration": 440,
                        "remaining_time": 1.058879589,
                        "learn": [
                          0.8507113948,
                          0.4581410353
                        ]
                      },
                      {
                        "test": [
                          0.8258855927,
                          0.5393101577
                        ],
                        "passed_time": 7.930377232,
                        "iteration": 441,
                        "remaining_time": 1.040637736,
                        "learn": [
                          0.850878291,
                          0.45802462
                        ]
                      },
                      {
                        "test": [
                          0.8258855927,
                          0.5393311344
                        ],
                        "passed_time": 7.949172455,
                        "iteration": 442,
                        "remaining_time": 1.022805485,
                        "learn": [
                          0.850878291,
                          0.4578485076
                        ]
                      },
                      {
                        "test": [
                          0.8256352485,
                          0.5393283372
                        ],
                        "passed_time": 7.966131511,
                        "iteration": 443,
                        "remaining_time": 1.004737308,
                        "learn": [
                          0.8507948429,
                          0.4577027707
                        ]
                      },
                      {
                        "test": [
                          0.8258855927,
                          0.5393846241
                        ],
                        "passed_time": 7.997151556,
                        "iteration": 444,
                        "remaining_time": 0.98841199,
                        "learn": [
                          0.8507948429,
                          0.4574916696
                        ]
                      },
                      {
                        "test": [
                          0.8257604206,
                          0.5394086203
                        ],
                        "passed_time": 8.013038233,
                        "iteration": 445,
                        "remaining_time": 0.9701884856,
                        "learn": [
                          0.850878291,
                          0.4573895109
                        ]
                      },
                      {
                        "test": [
                          0.8258855927,
                          0.5394394404
                        ],
                        "passed_time": 8.031132709,
                        "iteration": 446,
                        "remaining_time": 0.9522372116,
                        "learn": [
                          0.8507531189,
                          0.4572878439
                        ]
                      },
                      {
                        "test": [
                          0.8257604206,
                          0.5394977836
                        ],
                        "passed_time": 8.068407647,
                        "iteration": 447,
                        "remaining_time": 0.9365116019,
                        "learn": [
                          0.8508365669,
                          0.4571641073
                        ]
                      },
                      {
                        "test": [
                          0.8252597321,
                          0.5395491858
                        ],
                        "passed_time": 8.113604843,
                        "iteration": 448,
                        "remaining_time": 0.9215898597,
                        "learn": [
                          0.850878291,
                          0.4570174265
                        ]
                      },
                      {
                        "test": [
                          0.8250093879,
                          0.5395837308
                        ],
                        "passed_time": 8.130843768,
                        "iteration": 449,
                        "remaining_time": 0.9034270854,
                        "learn": [
                          0.8510034631,
                          0.4567685242
                        ]
                      },
                      {
                        "test": [
                          0.8246338716,
                          0.5396369844
                        ],
                        "passed_time": 8.147752905,
                        "iteration": 450,
                        "remaining_time": 0.8852325773,
                        "learn": [
                          0.8510451871,
                          0.4566207989
                        ]
                      },
                      {
                        "test": [
                          0.82513456,
                          0.5397686382
                        ],
                        "passed_time": 8.166026052,
                        "iteration": 451,
                        "remaining_time": 0.8671886072,
                        "learn": [
                          0.8511286352,
                          0.4563511197
                        ]
                      },
                      {
                        "test": [
                          0.8253849042,
                          0.5397479305
                        ],
                        "passed_time": 8.182677565,
                        "iteration": 452,
                        "remaining_time": 0.8489753765,
                        "learn": [
                          0.8510869112,
                          0.4562001723
                        ]
                      },
                      {
                        "test": [
                          0.82513456,
                          0.5397628927
                        ],
                        "passed_time": 8.198905223,
                        "iteration": 453,
                        "remaining_time": 0.8307260799,
                        "learn": [
                          0.8511286352,
                          0.4561435326
                        ]
                      },
                      {
                        "test": [
                          0.8250093879,
                          0.5398106788
                        ],
                        "passed_time": 8.216115546,
                        "iteration": 454,
                        "remaining_time": 0.8125828562,
                        "learn": [
                          0.8509617391,
                          0.4559754013
                        ]
                      },
                      {
                        "test": [
                          0.82513456,
                          0.5398294829
                        ],
                        "passed_time": 8.23523097,
                        "iteration": 455,
                        "remaining_time": 0.7946275498,
                        "learn": [
                          0.850878291,
                          0.4558262105
                        ]
                      },
                      {
                        "test": [
                          0.8250093879,
                          0.5399062657
                        ],
                        "passed_time": 8.253237685,
                        "iteration": 456,
                        "remaining_time": 0.7765628456,
                        "learn": [
                          0.8510869112,
                          0.4557170146
                        ]
                      },
                      {
                        "test": [
                          0.8252597321,
                          0.5399342252
                        ],
                        "passed_time": 8.269929741,
                        "iteration": 457,
                        "remaining_time": 0.7583778365,
                        "learn": [
                          0.8513789794,
                          0.4555765022
                        ]
                      },
                      {
                        "test": [
                          0.8252597321,
                          0.5398662449
                        ],
                        "passed_time": 8.286663014,
                        "iteration": 458,
                        "remaining_time": 0.7402030143,
                        "learn": [
                          0.8514624275,
                          0.4554246898
                        ]
                      },
                      {
                        "test": [
                          0.8252597321,
                          0.5398543128
                        ],
                        "passed_time": 8.303224839,
                        "iteration": 459,
                        "remaining_time": 0.7220195512,
                        "learn": [
                          0.8515458756,
                          0.4553267664
                        ]
                      },
                      {
                        "test": [
                          0.8253849042,
                          0.5397977411
                        ],
                        "passed_time": 8.321466699,
                        "iteration": 460,
                        "remaining_time": 0.7039852522,
                        "learn": [
                          0.8514624275,
                          0.4551744566
                        ]
                      },
                      {
                        "test": [
                          0.8253849042,
                          0.5397830286
                        ],
                        "passed_time": 8.341731673,
                        "iteration": 461,
                        "remaining_time": 0.6861164579,
                        "learn": [
                          0.8513372554,
                          0.4550784003
                        ]
                      },
                      {
                        "test": [
                          0.8255100764,
                          0.5398055327
                        ],
                        "passed_time": 8.359737763,
                        "iteration": 462,
                        "remaining_time": 0.6680567975,
                        "learn": [
                          0.8513372554,
                          0.4549792091
                        ]
                      },
                      {
                        "test": [
                          0.8252597321,
                          0.5398330377
                        ],
                        "passed_time": 8.378683564,
                        "iteration": 463,
                        "remaining_time": 0.6500702765,
                        "learn": [
                          0.8514207035,
                          0.4547552975
                        ]
                      },
                      {
                        "test": [
                          0.8253849042,
                          0.5398217403
                        ],
                        "passed_time": 8.396274471,
                        "iteration": 464,
                        "remaining_time": 0.6319776484,
                        "learn": [
                          0.8513789794,
                          0.4545738751
                        ]
                      },
                      {
                        "test": [
                          0.8252597321,
                          0.5397821447
                        ],
                        "passed_time": 8.413335652,
                        "iteration": 465,
                        "remaining_time": 0.6138485239,
                        "learn": [
                          0.8515875996,
                          0.4544054266
                        ]
                      },
                      {
                        "test": [
                          0.8250093879,
                          0.5397946657
                        ],
                        "passed_time": 8.430931689,
                        "iteration": 466,
                        "remaining_time": 0.5957617682,
                        "learn": [
                          0.8515875996,
                          0.4542508848
                        ]
                      },
                      {
                        "test": [
                          0.8250093879,
                          0.5397746652
                        ],
                        "passed_time": 8.447218111,
                        "iteration": 467,
                        "remaining_time": 0.5775875631,
                        "learn": [
                          0.8515875996,
                          0.4541337632
                        ]
                      },
                      {
                        "test": [
                          0.8248842158,
                          0.5397188841
                        ],
                        "passed_time": 8.464307866,
                        "iteration": 468,
                        "remaining_time": 0.5594745071,
                        "learn": [
                          0.8515041515,
                          0.4539375871
                        ]
                      },
                      {
                        "test": [
                          0.8247590437,
                          0.5397368786
                        ],
                        "passed_time": 8.484172063,
                        "iteration": 469,
                        "remaining_time": 0.5415428976,
                        "learn": [
                          0.8516710477,
                          0.4538105458
                        ]
                      },
                      {
                        "test": [
                          0.8247590437,
                          0.5397111029
                        ],
                        "passed_time": 8.502085898,
                        "iteration": 470,
                        "remaining_time": 0.5234829958,
                        "learn": [
                          0.8517544958,
                          0.4536531825
                        ]
                      },
                      {
                        "test": [
                          0.8246338716,
                          0.5397807925
                        ],
                        "passed_time": 8.517874446,
                        "iteration": 471,
                        "remaining_time": 0.5052976366,
                        "learn": [
                          0.8518379438,
                          0.4536004461
                        ]
                      },
                      {
                        "test": [
                          0.8248842158,
                          0.5397954046
                        ],
                        "passed_time": 8.539309018,
                        "iteration": 472,
                        "remaining_time": 0.4874447008,
                        "learn": [
                          0.851963116,
                          0.4534337586
                        ]
                      },
                      {
                        "test": [
                          0.8248842158,
                          0.5398067953
                        ],
                        "passed_time": 8.557951853,
                        "iteration": 473,
                        "remaining_time": 0.4694235193,
                        "learn": [
                          0.8518379438,
                          0.4532466513
                        ]
                      },
                      {
                        "test": [
                          0.8247590437,
                          0.539775826
                        ],
                        "passed_time": 8.573916233,
                        "iteration": 474,
                        "remaining_time": 0.4512587491,
                        "learn": [
                          0.8519213919,
                          0.4531638532
                        ]
                      },
                      {
                        "test": [
                          0.8250093879,
                          0.5398513418
                        ],
                        "passed_time": 8.590108601,
                        "iteration": 475,
                        "remaining_time": 0.4331147194,
                        "learn": [
                          0.8518379438,
                          0.4530374402
                        ]
                      },
                      {
                        "test": [
                          0.8250093879,
                          0.5398915931
                        ],
                        "passed_time": 8.606917562,
                        "iteration": 476,
                        "remaining_time": 0.4150086036,
                        "learn": [
                          0.8519213919,
                          0.4528717835
                        ]
                      },
                      {
                        "test": [
                          0.8250093879,
                          0.5398484014
                        ],
                        "passed_time": 8.624297187,
                        "iteration": 477,
                        "remaining_time": 0.3969341802,
                        "learn": [
                          0.8518796679,
                          0.4526493885
                        ]
                      },
                      {
                        "test": [
                          0.8250093879,
                          0.5398843776
                        ],
                        "passed_time": 8.642455197,
                        "iteration": 478,
                        "remaining_time": 0.3788967832,
                        "learn": [
                          0.85200484,
                          0.4524901984
                        ]
                      },
                      {
                        "test": [
                          0.8248842158,
                          0.5399142348
                        ],
                        "passed_time": 8.660239092,
                        "iteration": 479,
                        "remaining_time": 0.3608432955,
                        "learn": [
                          0.8523803563,
                          0.4522969322
                        ]
                      },
                      {
                        "test": [
                          0.8247590437,
                          0.5399214512
                        ],
                        "passed_time": 8.676116385,
                        "iteration": 480,
                        "remaining_time": 0.342715616,
                        "learn": [
                          0.8524638044,
                          0.4521700569
                        ]
                      },
                      {
                        "test": [
                          0.8248842158,
                          0.5398953158
                        ],
                        "passed_time": 8.692326682,
                        "iteration": 481,
                        "remaining_time": 0.3246097101,
                        "learn": [
                          0.8525055284,
                          0.4521098002
                        ]
                      },
                      {
                        "test": [
                          0.8248842158,
                          0.5399601787
                        ],
                        "passed_time": 8.709368505,
                        "iteration": 482,
                        "remaining_time": 0.3065409205,
                        "learn": [
                          0.8524220804,
                          0.4520349074
                        ]
                      },
                      {
                        "test": [
                          0.8246338716,
                          0.5398803585
                        ],
                        "passed_time": 8.729210891,
                        "iteration": 483,
                        "remaining_time": 0.2885689551,
                        "learn": [
                          0.8523386323,
                          0.451864609
                        ]
                      },
                      {
                        "test": [
                          0.8246338716,
                          0.5398605267
                        ],
                        "passed_time": 8.745832017,
                        "iteration": 484,
                        "remaining_time": 0.27048965,
                        "learn": [
                          0.8523386323,
                          0.4517047739
                        ]
                      },
                      {
                        "test": [
                          0.8247590437,
                          0.5398388184
                        ],
                        "passed_time": 8.763762137,
                        "iteration": 485,
                        "remaining_time": 0.2524540533,
                        "learn": [
                          0.8524220804,
                          0.4515067243
                        ]
                      },
                      {
                        "test": [
                          0.8248842158,
                          0.5398122176
                        ],
                        "passed_time": 8.781232881,
                        "iteration": 486,
                        "remaining_time": 0.2344066272,
                        "learn": [
                          0.8525472525,
                          0.4513542191
                        ]
                      },
                      {
                        "test": [
                          0.8248842158,
                          0.5398162087
                        ],
                        "passed_time": 8.798049287,
                        "iteration": 487,
                        "remaining_time": 0.2163454743,
                        "learn": [
                          0.8525889765,
                          0.451169272
                        ]
                      },
                      {
                        "test": [
                          0.8248842158,
                          0.5398286545
                        ],
                        "passed_time": 8.816387447,
                        "iteration": 488,
                        "remaining_time": 0.198323644,
                        "learn": [
                          0.8525472525,
                          0.4511005952
                        ]
                      },
                      {
                        "test": [
                          0.8247590437,
                          0.5398762904
                        ],
                        "passed_time": 8.83275805,
                        "iteration": 489,
                        "remaining_time": 0.1802603684,
                        "learn": [
                          0.8525889765,
                          0.4510339309
                        ]
                      },
                      {
                        "test": [
                          0.8246338716,
                          0.5400059701
                        ],
                        "passed_time": 8.849762285,
                        "iteration": 490,
                        "remaining_time": 0.162215602,
                        "learn": [
                          0.8525889765,
                          0.4508488259
                        ]
                      },
                      {
                        "test": [
                          0.8250093879,
                          0.5401391815
                        ],
                        "passed_time": 8.866672895,
                        "iteration": 491,
                        "remaining_time": 0.144173543,
                        "learn": [
                          0.8526307005,
                          0.4506839715
                        ]
                      },
                      {
                        "test": [
                          0.8246338716,
                          0.5402099355
                        ],
                        "passed_time": 8.88314742,
                        "iteration": 492,
                        "remaining_time": 0.1261298822,
                        "learn": [
                          0.8527558727,
                          0.4505577173
                        ]
                      },
                      {
                        "test": [
                          0.8245086995,
                          0.5403267537
                        ],
                        "passed_time": 8.900600582,
                        "iteration": 493,
                        "remaining_time": 0.1081044605,
                        "learn": [
                          0.8528393207,
                          0.4503668474
                        ]
                      },
                      {
                        "test": [
                          0.8246338716,
                          0.5403240278
                        ],
                        "passed_time": 8.917566916,
                        "iteration": 494,
                        "remaining_time": 0.0900764335,
                        "learn": [
                          0.8528393207,
                          0.4502933737
                        ]
                      },
                      {
                        "test": [
                          0.8250093879,
                          0.5404035106
                        ],
                        "passed_time": 8.936069055,
                        "iteration": 495,
                        "remaining_time": 0.07206507303,
                        "learn": [
                          0.8528393207,
                          0.4502018301
                        ]
                      },
                      {
                        "test": [
                          0.8250093879,
                          0.5404048243
                        ],
                        "passed_time": 8.955380816,
                        "iteration": 496,
                        "remaining_time": 0.05405662465,
                        "learn": [
                          0.8528810448,
                          0.4500396496
                        ]
                      },
                      {
                        "test": [
                          0.8250093879,
                          0.5404361697
                        ],
                        "passed_time": 8.972013394,
                        "iteration": 497,
                        "remaining_time": 0.03603218231,
                        "learn": [
                          0.8527975967,
                          0.4498994371
                        ]
                      },
                      {
                        "test": [
                          0.8250093879,
                          0.5404173747
                        ],
                        "passed_time": 8.994975892,
                        "iteration": 498,
                        "remaining_time": 0.01802600379,
                        "learn": [
                          0.8529227688,
                          0.4497580009
                        ]
                      },
                      {
                        "test": [
                          0.8250093879,
                          0.5404141703
                        ],
                        "passed_time": 9.015960111,
                        "iteration": 499,
                        "remaining_time": 0,
                        "learn": [
                          0.8529644928,
                          0.4496027814
                        ]
                      }
                    ]
                  },
                  "total_iterations": 500,
                  "passed_iterations": 499
                },
                "path": "catboost_info",
                "name": "catboost_info"
              }
            },
            "_view_module": "catboost-widget",
            "_model_module_version": "^1.0.0",
            "_view_count": null,
            "_view_module_version": "^1.0.0",
            "layout": "IPY_MODEL_4cfff05e2b5945ffb2d94d5d41c1b087",
            "_model_module": "catboost-widget"
          }
        },
        "d8983083b68c401eaec0df816fcc41db": {
          "model_module": "catboost-widget",
          "model_name": "CatboostWidgetModel",
          "model_module_version": "^1.0.0",
          "state": {
            "_view_name": "CatboostWidgetView",
            "_dom_classes": [],
            "_model_name": "CatboostWidgetModel",
            "data": {
              "catboost_info/fold-1": {
                "content": {
                  "data": {
                    "meta": {
                      "name": "experiment",
                      "parameters": "",
                      "test_metrics": [
                        {
                          "best_value": "Max",
                          "name": "Accuracy"
                        },
                        {
                          "best_value": "Min",
                          "name": "MultiClass"
                        }
                      ],
                      "learn_sets": [
                        "learn"
                      ],
                      "launch_mode": "Train",
                      "learn_metrics": [
                        {
                          "best_value": "Max",
                          "name": "Accuracy"
                        },
                        {
                          "best_value": "Min",
                          "name": "MultiClass"
                        }
                      ],
                      "iteration_count": 500,
                      "test_sets": [
                        "test"
                      ]
                    },
                    "iterations": [
                      {
                        "test": [
                          0.7526800719,
                          1.018125826
                        ],
                        "passed_time": 0.01561392778,
                        "iteration": 0,
                        "remaining_time": 7.791349963,
                        "learn": [
                          0.751622624,
                          1.018406664
                        ]
                      },
                      {
                        "test": [
                          0.7514052269,
                          0.9575352729
                        ],
                        "passed_time": 0.0310656922,
                        "iteration": 1,
                        "remaining_time": 7.735357357,
                        "learn": [
                          0.7519123783,
                          0.9577381009
                        ]
                      },
                      {
                        "test": [
                          0.7524482819,
                          0.9093994482
                        ],
                        "passed_time": 0.04559800612,
                        "iteration": 2,
                        "remaining_time": 7.554069681,
                        "learn": [
                          0.7522600834,
                          0.9095684145
                        ]
                      },
                      {
                        "test": [
                          0.7521585444,
                          0.8714857748
                        ],
                        "passed_time": 0.06116851564,
                        "iteration": 3,
                        "remaining_time": 7.584895939,
                        "learn": [
                          0.752231108,
                          0.8715090436
                        ]
                      },
                      {
                        "test": [
                          0.7522164919,
                          0.8409365787
                        ],
                        "passed_time": 0.08003316484,
                        "iteration": 4,
                        "remaining_time": 7.92328332,
                        "learn": [
                          0.7524049606,
                          0.8409745732
                        ]
                      },
                      {
                        "test": [
                          0.7523903344,
                          0.815845722
                        ],
                        "passed_time": 0.09447701169,
                        "iteration": 5,
                        "remaining_time": 7.778607296,
                        "learn": [
                          0.7527526657,
                          0.8158031636
                        ]
                      },
                      {
                        "test": [
                          0.7525062294,
                          0.7948709721
                        ],
                        "passed_time": 0.1091233659,
                        "iteration": 6,
                        "remaining_time": 7.685402771,
                        "learn": [
                          0.7525788132,
                          0.7948164963
                        ]
                      },
                      {
                        "test": [
                          0.7526221244,
                          0.7775752913
                        ],
                        "passed_time": 0.1240917277,
                        "iteration": 7,
                        "remaining_time": 7.631641251,
                        "learn": [
                          0.7527816412,
                          0.7774220847
                        ]
                      },
                      {
                        "test": [
                          0.7528539144,
                          0.7629099973
                        ],
                        "passed_time": 0.1389910334,
                        "iteration": 8,
                        "remaining_time": 7.582733043,
                        "learn": [
                          0.7528975429,
                          0.7627093609
                        ]
                      },
                      {
                        "test": [
                          0.7525641769,
                          0.7507525514
                        ],
                        "passed_time": 0.1536019502,
                        "iteration": 9,
                        "remaining_time": 7.526495561,
                        "learn": [
                          0.7529265183,
                          0.7504151621
                        ]
                      },
                      {
                        "test": [
                          0.7526800719,
                          0.740627113
                        ],
                        "passed_time": 0.1682473712,
                        "iteration": 10,
                        "remaining_time": 7.479360411,
                        "learn": [
                          0.7531872972,
                          0.740200682
                        ]
                      },
                      {
                        "test": [
                          0.7526800719,
                          0.7323092388
                        ],
                        "passed_time": 0.1875741483,
                        "iteration": 11,
                        "remaining_time": 7.628015364,
                        "learn": [
                          0.75304242,
                          0.7317583562
                        ]
                      },
                      {
                        "test": [
                          0.7526221244,
                          0.7252827643
                        ],
                        "passed_time": 0.2333046844,
                        "iteration": 12,
                        "remaining_time": 8.739952406,
                        "learn": [
                          0.7533901252,
                          0.7245643781
                        ]
                      },
                      {
                        "test": [
                          0.7527380194,
                          0.7193789452
                        ],
                        "passed_time": 0.2585803501,
                        "iteration": 13,
                        "remaining_time": 8.976432155,
                        "learn": [
                          0.7535929532,
                          0.7185521112
                        ]
                      },
                      {
                        "test": [
                          0.7526221244,
                          0.7143186128
                        ],
                        "passed_time": 0.2737149618,
                        "iteration": 14,
                        "remaining_time": 8.850117099,
                        "learn": [
                          0.7535350023,
                          0.7134453998
                        ]
                      },
                      {
                        "test": [
                          0.7525062294,
                          0.7101611351
                        ],
                        "passed_time": 0.2888726962,
                        "iteration": 15,
                        "remaining_time": 8.738399059,
                        "learn": [
                          0.7536219286,
                          0.7090395409
                        ]
                      },
                      {
                        "test": [
                          0.7525641769,
                          0.7065135682
                        ],
                        "passed_time": 0.3035223224,
                        "iteration": 16,
                        "remaining_time": 8.623604806,
                        "learn": [
                          0.7535060269,
                          0.7052853963
                        ]
                      },
                      {
                        "test": [
                          0.7526221244,
                          0.7033669789
                        ],
                        "passed_time": 0.3187239673,
                        "iteration": 17,
                        "remaining_time": 8.534719568,
                        "learn": [
                          0.7533321743,
                          0.7019721931
                        ]
                      },
                      {
                        "test": [
                          0.7529118619,
                          0.7005536381
                        ],
                        "passed_time": 0.3339362627,
                        "iteration": 18,
                        "remaining_time": 8.453860125,
                        "learn": [
                          0.7535060269,
                          0.6991585542
                        ]
                      },
                      {
                        "test": [
                          0.7528539144,
                          0.6981515785
                        ],
                        "passed_time": 0.3487968504,
                        "iteration": 19,
                        "remaining_time": 8.371124411,
                        "learn": [
                          0.7535350023,
                          0.696799552
                        ]
                      },
                      {
                        "test": [
                          0.7529118619,
                          0.6962282898
                        ],
                        "passed_time": 0.3642612996,
                        "iteration": 20,
                        "remaining_time": 8.308626787,
                        "learn": [
                          0.7535060269,
                          0.6948608458
                        ]
                      },
                      {
                        "test": [
                          0.7532015994,
                          0.6946935248
                        ],
                        "passed_time": 0.3797386014,
                        "iteration": 21,
                        "remaining_time": 8.250684157,
                        "learn": [
                          0.7537668057,
                          0.6931733798
                        ]
                      },
                      {
                        "test": [
                          0.7532595469,
                          0.693273696
                        ],
                        "passed_time": 0.3947255196,
                        "iteration": 22,
                        "remaining_time": 8.186264036,
                        "learn": [
                          0.753853732,
                          0.691626063
                        ]
                      },
                      {
                        "test": [
                          0.7533174944,
                          0.6922408686
                        ],
                        "passed_time": 0.4094841535,
                        "iteration": 23,
                        "remaining_time": 8.121435712,
                        "learn": [
                          0.7539116829,
                          0.6905312204
                        ]
                      },
                      {
                        "test": [
                          0.7532595469,
                          0.6911863231
                        ],
                        "passed_time": 0.4242782122,
                        "iteration": 24,
                        "remaining_time": 8.061286031,
                        "learn": [
                          0.7539986092,
                          0.6894170013
                        ]
                      },
                      {
                        "test": [
                          0.7531436519,
                          0.690092816
                        ],
                        "passed_time": 0.4395962648,
                        "iteration": 25,
                        "remaining_time": 8.014178057,
                        "learn": [
                          0.75405656,
                          0.6882726999
                        ]
                      },
                      {
                        "test": [
                          0.7530857044,
                          0.6892982268
                        ],
                        "passed_time": 0.4549652569,
                        "iteration": 26,
                        "remaining_time": 7.970317279,
                        "learn": [
                          0.7541434863,
                          0.6874173901
                        ]
                      },
                      {
                        "test": [
                          0.7528539144,
                          0.6885830241
                        ],
                        "passed_time": 0.47029153,
                        "iteration": 27,
                        "remaining_time": 7.927771505,
                        "learn": [
                          0.7540855355,
                          0.6865129605
                        ]
                      },
                      {
                        "test": [
                          0.7530277569,
                          0.6878722455
                        ],
                        "passed_time": 0.4853881287,
                        "iteration": 28,
                        "remaining_time": 7.883372711,
                        "learn": [
                          0.7540855355,
                          0.6858422548
                        ]
                      },
                      {
                        "test": [
                          0.7527380194,
                          0.6873581129
                        ],
                        "passed_time": 0.5008209134,
                        "iteration": 29,
                        "remaining_time": 7.846194311,
                        "learn": [
                          0.7541145109,
                          0.6852843967
                        ]
                      },
                      {
                        "test": [
                          0.7526800719,
                          0.6867359953
                        ],
                        "passed_time": 0.5174071441,
                        "iteration": 30,
                        "remaining_time": 7.827869374,
                        "learn": [
                          0.75405656,
                          0.6843759682
                        ]
                      },
                      {
                        "test": [
                          0.7525641769,
                          0.686407569
                        ],
                        "passed_time": 0.5326289833,
                        "iteration": 31,
                        "remaining_time": 7.789698881,
                        "learn": [
                          0.75405656,
                          0.6839076845
                        ]
                      },
                      {
                        "test": [
                          0.7525641769,
                          0.685699691
                        ],
                        "passed_time": 0.5478064542,
                        "iteration": 32,
                        "remaining_time": 7.752291336,
                        "learn": [
                          0.7542304126,
                          0.6830543743
                        ]
                      },
                      {
                        "test": [
                          0.7525062294,
                          0.6853072852
                        ],
                        "passed_time": 0.5628280993,
                        "iteration": 33,
                        "remaining_time": 7.714055713,
                        "learn": [
                          0.7541724618,
                          0.6825717491
                        ]
                      },
                      {
                        "test": [
                          0.7525062294,
                          0.6847676118
                        ],
                        "passed_time": 0.577689772,
                        "iteration": 34,
                        "remaining_time": 7.675021257,
                        "learn": [
                          0.7540855355,
                          0.6819785091
                        ]
                      },
                      {
                        "test": [
                          0.7524482819,
                          0.6845730676
                        ],
                        "passed_time": 0.5924259075,
                        "iteration": 35,
                        "remaining_time": 7.635711697,
                        "learn": [
                          0.7542304126,
                          0.6816288137
                        ]
                      },
                      {
                        "test": [
                          0.7523903344,
                          0.684327234
                        ],
                        "passed_time": 0.6078342795,
                        "iteration": 36,
                        "remaining_time": 7.606142471,
                        "learn": [
                          0.754259388,
                          0.6812681838
                        ]
                      },
                      {
                        "test": [
                          0.7523903344,
                          0.6840097821
                        ],
                        "passed_time": 0.6229045509,
                        "iteration": 37,
                        "remaining_time": 7.573207961,
                        "learn": [
                          0.7541724618,
                          0.6808560981
                        ]
                      },
                      {
                        "test": [
                          0.7524482819,
                          0.68369347
                        ],
                        "passed_time": 0.6386399853,
                        "iteration": 38,
                        "remaining_time": 7.549052134,
                        "learn": [
                          0.7541145109,
                          0.680511061
                        ]
                      },
                      {
                        "test": [
                          0.7522744394,
                          0.6834493922
                        ],
                        "passed_time": 0.6538005571,
                        "iteration": 39,
                        "remaining_time": 7.518706406,
                        "learn": [
                          0.754259388,
                          0.6801925362
                        ]
                      },
                      {
                        "test": [
                          0.7525062294,
                          0.6833437425
                        ],
                        "passed_time": 0.6693902726,
                        "iteration": 40,
                        "remaining_time": 7.493905735,
                        "learn": [
                          0.7543752898,
                          0.679884106
                        ]
                      },
                      {
                        "test": [
                          0.7524482819,
                          0.6833002135
                        ],
                        "passed_time": 0.6964459766,
                        "iteration": 41,
                        "remaining_time": 7.594577555,
                        "learn": [
                          0.7544332406,
                          0.6796347477
                        ]
                      },
                      {
                        "test": [
                          0.7526221244,
                          0.6829507844
                        ],
                        "passed_time": 0.7127660551,
                        "iteration": 42,
                        "remaining_time": 7.57521133,
                        "learn": [
                          0.7544911915,
                          0.6792242421
                        ]
                      },
                      {
                        "test": [
                          0.7526221244,
                          0.6829318582
                        ],
                        "passed_time": 0.7271088592,
                        "iteration": 43,
                        "remaining_time": 7.535491813,
                        "learn": [
                          0.7544911915,
                          0.6791088226
                        ]
                      },
                      {
                        "test": [
                          0.7526800719,
                          0.6826610738
                        ],
                        "passed_time": 0.7423188486,
                        "iteration": 44,
                        "remaining_time": 7.505668358,
                        "learn": [
                          0.7544911915,
                          0.6786768122
                        ]
                      },
                      {
                        "test": [
                          0.7526221244,
                          0.6824684226
                        ],
                        "passed_time": 0.757331105,
                        "iteration": 45,
                        "remaining_time": 7.474528732,
                        "learn": [
                          0.754462216,
                          0.6783569484
                        ]
                      },
                      {
                        "test": [
                          0.7525062294,
                          0.6822276079
                        ],
                        "passed_time": 0.7726505813,
                        "iteration": 46,
                        "remaining_time": 7.447036454,
                        "learn": [
                          0.7545491423,
                          0.6780396959
                        ]
                      },
                      {
                        "test": [
                          0.7526800719,
                          0.6820366178
                        ],
                        "passed_time": 0.7877143328,
                        "iteration": 47,
                        "remaining_time": 7.417643301,
                        "learn": [
                          0.7545201669,
                          0.6776993978
                        ]
                      },
                      {
                        "test": [
                          0.7527380194,
                          0.6819931942
                        ],
                        "passed_time": 0.8025398736,
                        "iteration": 48,
                        "remaining_time": 7.38664251,
                        "learn": [
                          0.754462216,
                          0.6774363706
                        ]
                      },
                      {
                        "test": [
                          0.7526221244,
                          0.6819826839
                        ],
                        "passed_time": 0.8189715459,
                        "iteration": 49,
                        "remaining_time": 7.370743913,
                        "learn": [
                          0.7544042652,
                          0.6772698804
                        ]
                      },
                      {
                        "test": [
                          0.7526221244,
                          0.6818902245
                        ],
                        "passed_time": 0.8337540416,
                        "iteration": 50,
                        "remaining_time": 7.34030519,
                        "learn": [
                          0.7545201669,
                          0.677068057
                        ]
                      },
                      {
                        "test": [
                          0.7526800719,
                          0.6818454316
                        ],
                        "passed_time": 0.8481579635,
                        "iteration": 51,
                        "remaining_time": 7.307207071,
                        "learn": [
                          0.7545201669,
                          0.6769095192
                        ]
                      },
                      {
                        "test": [
                          0.7527380194,
                          0.6817258731
                        ],
                        "passed_time": 0.8630660507,
                        "iteration": 52,
                        "remaining_time": 7.279066503,
                        "learn": [
                          0.7543752898,
                          0.6766190823
                        ]
                      },
                      {
                        "test": [
                          0.7526800719,
                          0.6816635918
                        ],
                        "passed_time": 0.8774342825,
                        "iteration": 53,
                        "remaining_time": 7.246957222,
                        "learn": [
                          0.754665044,
                          0.6764575547
                        ]
                      },
                      {
                        "test": [
                          0.7526221244,
                          0.6815081408
                        ],
                        "passed_time": 0.8926308807,
                        "iteration": 54,
                        "remaining_time": 7.222195308,
                        "learn": [
                          0.7546360686,
                          0.6761139382
                        ]
                      },
                      {
                        "test": [
                          0.7525062294,
                          0.6814471222
                        ],
                        "passed_time": 0.9072256131,
                        "iteration": 55,
                        "remaining_time": 7.193003075,
                        "learn": [
                          0.7547519703,
                          0.6759678351
                        ]
                      },
                      {
                        "test": [
                          0.7525641769,
                          0.6812639775
                        ],
                        "passed_time": 0.9222234809,
                        "iteration": 56,
                        "remaining_time": 7.167456176,
                        "learn": [
                          0.7545491423,
                          0.6756952948
                        ]
                      },
                      {
                        "test": [
                          0.7523903344,
                          0.6812522908
                        ],
                        "passed_time": 0.9361106361,
                        "iteration": 57,
                        "remaining_time": 7.133808641,
                        "learn": [
                          0.754665044,
                          0.6756026385
                        ]
                      },
                      {
                        "test": [
                          0.7523323869,
                          0.6812184176
                        ],
                        "passed_time": 0.95134378,
                        "iteration": 58,
                        "remaining_time": 7.110891644,
                        "learn": [
                          0.7546070932,
                          0.6754623101
                        ]
                      },
                      {
                        "test": [
                          0.7525062294,
                          0.6811564862
                        ],
                        "passed_time": 0.9656993557,
                        "iteration": 59,
                        "remaining_time": 7.081795275,
                        "learn": [
                          0.7548099212,
                          0.6753105071
                        ]
                      },
                      {
                        "test": [
                          0.7525641769,
                          0.6810701675
                        ],
                        "passed_time": 0.9807736923,
                        "iteration": 60,
                        "remaining_time": 7.058354933,
                        "learn": [
                          0.754867872,
                          0.675134074
                        ]
                      },
                      {
                        "test": [
                          0.7526221244,
                          0.6810019384
                        ],
                        "passed_time": 0.995455513,
                        "iteration": 61,
                        "remaining_time": 7.032411527,
                        "learn": [
                          0.7547229949,
                          0.6749703914
                        ]
                      },
                      {
                        "test": [
                          0.7526221244,
                          0.6809005886
                        ],
                        "passed_time": 1.009888703,
                        "iteration": 62,
                        "remaining_time": 7.005101003,
                        "learn": [
                          0.7547519703,
                          0.6748645374
                        ]
                      },
                      {
                        "test": [
                          0.7526800719,
                          0.6808361358
                        ],
                        "passed_time": 1.024867901,
                        "iteration": 63,
                        "remaining_time": 6.981912577,
                        "learn": [
                          0.7548099212,
                          0.6747355191
                        ]
                      },
                      {
                        "test": [
                          0.7525641769,
                          0.6808179888
                        ],
                        "passed_time": 1.03956658,
                        "iteration": 64,
                        "remaining_time": 6.95709942,
                        "learn": [
                          0.7547809458,
                          0.6746336331
                        ]
                      },
                      {
                        "test": [
                          0.7524482819,
                          0.6807733056
                        ],
                        "passed_time": 1.054596089,
                        "iteration": 65,
                        "remaining_time": 6.93476822,
                        "learn": [
                          0.7548388966,
                          0.6744955782
                        ]
                      },
                      {
                        "test": [
                          0.7525062294,
                          0.6807728973
                        ],
                        "passed_time": 1.069550838,
                        "iteration": 66,
                        "remaining_time": 6.912171833,
                        "learn": [
                          0.754867872,
                          0.6743674744
                        ]
                      },
                      {
                        "test": [
                          0.7526221244,
                          0.680738094
                        ],
                        "passed_time": 1.08442325,
                        "iteration": 67,
                        "remaining_time": 6.88927712,
                        "learn": [
                          0.754867872,
                          0.6742418695
                        ]
                      },
                      {
                        "test": [
                          0.7526221244,
                          0.6807352938
                        ],
                        "passed_time": 1.099345997,
                        "iteration": 68,
                        "remaining_time": 6.866929346,
                        "learn": [
                          0.7548099212,
                          0.6741354423
                        ]
                      },
                      {
                        "test": [
                          0.7527380194,
                          0.6807634423
                        ],
                        "passed_time": 1.114896142,
                        "iteration": 69,
                        "remaining_time": 6.84864773,
                        "learn": [
                          0.754867872,
                          0.6739766308
                        ]
                      },
                      {
                        "test": [
                          0.7528539144,
                          0.6806930484
                        ],
                        "passed_time": 1.129123263,
                        "iteration": 70,
                        "remaining_time": 6.822449009,
                        "learn": [
                          0.754867872,
                          0.6738617592
                        ]
                      },
                      {
                        "test": [
                          0.7528539144,
                          0.680603493
                        ],
                        "passed_time": 1.143594365,
                        "iteration": 71,
                        "remaining_time": 6.79803317,
                        "learn": [
                          0.7549258229,
                          0.6737512362
                        ]
                      },
                      {
                        "test": [
                          0.7528539144,
                          0.6805770156
                        ],
                        "passed_time": 1.158239495,
                        "iteration": 72,
                        "remaining_time": 6.774907732,
                        "learn": [
                          0.7546940195,
                          0.6736222498
                        ]
                      },
                      {
                        "test": [
                          0.7528539144,
                          0.6805438732
                        ],
                        "passed_time": 1.172059705,
                        "iteration": 73,
                        "remaining_time": 6.747262628,
                        "learn": [
                          0.7547809458,
                          0.6735547389
                        ]
                      },
                      {
                        "test": [
                          0.7528539144,
                          0.6805187525
                        ],
                        "passed_time": 1.187381569,
                        "iteration": 74,
                        "remaining_time": 6.728495555,
                        "learn": [
                          0.7549547983,
                          0.6733270692
                        ]
                      },
                      {
                        "test": [
                          0.7527959669,
                          0.6805200567
                        ],
                        "passed_time": 1.202812408,
                        "iteration": 75,
                        "remaining_time": 6.710427117,
                        "learn": [
                          0.7548968475,
                          0.6731803046
                        ]
                      },
                      {
                        "test": [
                          0.7529118619,
                          0.6804783659
                        ],
                        "passed_time": 1.253565248,
                        "iteration": 76,
                        "remaining_time": 6.886468827,
                        "learn": [
                          0.7548968475,
                          0.6729932731
                        ]
                      },
                      {
                        "test": [
                          0.7529118619,
                          0.6804796929
                        ],
                        "passed_time": 1.284422187,
                        "iteration": 77,
                        "remaining_time": 6.949053371,
                        "learn": [
                          0.7549258229,
                          0.6728979331
                        ]
                      },
                      {
                        "test": [
                          0.7528539144,
                          0.6804542891
                        ],
                        "passed_time": 1.299240413,
                        "iteration": 78,
                        "remaining_time": 6.923800177,
                        "learn": [
                          0.7550127492,
                          0.6728051583
                        ]
                      },
                      {
                        "test": [
                          0.7529698094,
                          0.6802748909
                        ],
                        "passed_time": 1.315895649,
                        "iteration": 79,
                        "remaining_time": 6.908452158,
                        "learn": [
                          0.7549837738,
                          0.6724525945
                        ]
                      },
                      {
                        "test": [
                          0.7529118619,
                          0.6802626834
                        ],
                        "passed_time": 1.330874764,
                        "iteration": 80,
                        "remaining_time": 6.884401558,
                        "learn": [
                          0.7550996755,
                          0.6722944197
                        ]
                      },
                      {
                        "test": [
                          0.7530277569,
                          0.680184019
                        ],
                        "passed_time": 1.34666159,
                        "iteration": 81,
                        "remaining_time": 6.864689568,
                        "learn": [
                          0.7550707,
                          0.6720645826
                        ]
                      },
                      {
                        "test": [
                          0.7529698094,
                          0.6801206477
                        ],
                        "passed_time": 1.361362044,
                        "iteration": 82,
                        "remaining_time": 6.839614122,
                        "learn": [
                          0.7552155772,
                          0.6718878096
                        ]
                      },
                      {
                        "test": [
                          0.7530277569,
                          0.6801083144
                        ],
                        "passed_time": 1.375748314,
                        "iteration": 83,
                        "remaining_time": 6.813229746,
                        "learn": [
                          0.7551866018,
                          0.671840534
                        ]
                      },
                      {
                        "test": [
                          0.7531436519,
                          0.6800603876
                        ],
                        "passed_time": 1.389992622,
                        "iteration": 84,
                        "remaining_time": 6.786434566,
                        "learn": [
                          0.7550707,
                          0.6717316126
                        ]
                      },
                      {
                        "test": [
                          0.7531436519,
                          0.6800042588
                        ],
                        "passed_time": 1.405333015,
                        "iteration": 85,
                        "remaining_time": 6.765207769,
                        "learn": [
                          0.7551286509,
                          0.6715500838
                        ]
                      },
                      {
                        "test": [
                          0.7531436519,
                          0.6799678717
                        ],
                        "passed_time": 1.420064799,
                        "iteration": 86,
                        "remaining_time": 6.741227147,
                        "learn": [
                          0.7552155772,
                          0.6714306424
                        ]
                      },
                      {
                        "test": [
                          0.7530277569,
                          0.6799075912
                        ],
                        "passed_time": 1.434685532,
                        "iteration": 87,
                        "remaining_time": 6.716936811,
                        "learn": [
                          0.7550996755,
                          0.6713052986
                        ]
                      },
                      {
                        "test": [
                          0.7530277569,
                          0.6798126362
                        ],
                        "passed_time": 1.449728407,
                        "iteration": 88,
                        "remaining_time": 6.694813204,
                        "learn": [
                          0.7550707,
                          0.6711863993
                        ]
                      },
                      {
                        "test": [
                          0.7527380194,
                          0.6798071865
                        ],
                        "passed_time": 1.464592043,
                        "iteration": 89,
                        "remaining_time": 6.672030419,
                        "learn": [
                          0.7554473806,
                          0.6710222513
                        ]
                      },
                      {
                        "test": [
                          0.7526800719,
                          0.6797781225
                        ],
                        "passed_time": 1.479889847,
                        "iteration": 90,
                        "remaining_time": 6.651373049,
                        "learn": [
                          0.7555632823,
                          0.6709147913
                        ]
                      },
                      {
                        "test": [
                          0.7527959669,
                          0.6797334018
                        ],
                        "passed_time": 1.498445767,
                        "iteration": 91,
                        "remaining_time": 6.645281228,
                        "learn": [
                          0.7555343069,
                          0.6707199194
                        ]
                      },
                      {
                        "test": [
                          0.7529698094,
                          0.6797045588
                        ],
                        "passed_time": 1.512696521,
                        "iteration": 92,
                        "remaining_time": 6.620080473,
                        "learn": [
                          0.7556502086,
                          0.6706420768
                        ]
                      },
                      {
                        "test": [
                          0.7529118619,
                          0.6796673125
                        ],
                        "passed_time": 1.527250056,
                        "iteration": 93,
                        "remaining_time": 6.596420456,
                        "learn": [
                          0.7556212332,
                          0.6705755929
                        ]
                      },
                      {
                        "test": [
                          0.7529118619,
                          0.679661468
                        ],
                        "passed_time": 1.542157471,
                        "iteration": 94,
                        "remaining_time": 6.574460796,
                        "learn": [
                          0.7556502086,
                          0.6704910256
                        ]
                      },
                      {
                        "test": [
                          0.7528539144,
                          0.6795797656
                        ],
                        "passed_time": 1.557046297,
                        "iteration": 95,
                        "remaining_time": 6.552569832,
                        "learn": [
                          0.7557081595,
                          0.6703174096
                        ]
                      },
                      {
                        "test": [
                          0.7527959669,
                          0.6795091403
                        ],
                        "passed_time": 1.571975669,
                        "iteration": 96,
                        "remaining_time": 6.530991695,
                        "learn": [
                          0.7556791841,
                          0.670190086
                        ]
                      },
                      {
                        "test": [
                          0.7527959669,
                          0.6795087642
                        ],
                        "passed_time": 1.587492675,
                        "iteration": 97,
                        "remaining_time": 6.511959749,
                        "learn": [
                          0.7558530366,
                          0.6701121238
                        ]
                      },
                      {
                        "test": [
                          0.7529118619,
                          0.6794616395
                        ],
                        "passed_time": 1.602549622,
                        "iteration": 98,
                        "remaining_time": 6.491135339,
                        "learn": [
                          0.7558240612,
                          0.6699045476
                        ]
                      },
                      {
                        "test": [
                          0.7530857044,
                          0.6794500768
                        ],
                        "passed_time": 1.616950275,
                        "iteration": 99,
                        "remaining_time": 6.467801102,
                        "learn": [
                          0.7559979138,
                          0.6698001835
                        ]
                      },
                      {
                        "test": [
                          0.7529698094,
                          0.679431794
                        ],
                        "passed_time": 1.631991064,
                        "iteration": 100,
                        "remaining_time": 6.44717262,
                        "learn": [
                          0.7559979138,
                          0.6696646668
                        ]
                      },
                      {
                        "test": [
                          0.7529698094,
                          0.6794362479
                        ],
                        "passed_time": 1.647452535,
                        "iteration": 101,
                        "remaining_time": 6.428295184,
                        "learn": [
                          0.7560558646,
                          0.669565364
                        ]
                      },
                      {
                        "test": [
                          0.7529118619,
                          0.679445955
                        ],
                        "passed_time": 1.662950452,
                        "iteration": 102,
                        "remaining_time": 6.409624558,
                        "learn": [
                          0.7558530366,
                          0.6693982384
                        ]
                      },
                      {
                        "test": [
                          0.7529118619,
                          0.6794436409
                        ],
                        "passed_time": 1.678584044,
                        "iteration": 103,
                        "remaining_time": 6.391531551,
                        "learn": [
                          0.7558240612,
                          0.6692339458
                        ]
                      },
                      {
                        "test": [
                          0.7529698094,
                          0.6794522257
                        ],
                        "passed_time": 1.69833352,
                        "iteration": 104,
                        "remaining_time": 6.388968956,
                        "learn": [
                          0.7558530366,
                          0.6691158618
                        ]
                      },
                      {
                        "test": [
                          0.7529118619,
                          0.6793910785
                        ],
                        "passed_time": 1.720792973,
                        "iteration": 105,
                        "remaining_time": 6.396155013,
                        "learn": [
                          0.7558820121,
                          0.6689730661
                        ]
                      },
                      {
                        "test": [
                          0.7529698094,
                          0.6793120406
                        ],
                        "passed_time": 1.736514509,
                        "iteration": 106,
                        "remaining_time": 6.378039271,
                        "learn": [
                          0.7558530366,
                          0.6688348853
                        ]
                      },
                      {
                        "test": [
                          0.7530277569,
                          0.6792954303
                        ],
                        "passed_time": 1.751277205,
                        "iteration": 107,
                        "remaining_time": 6.356487635,
                        "learn": [
                          0.7558530366,
                          0.6687465963
                        ]
                      },
                      {
                        "test": [
                          0.7529698094,
                          0.6792304543
                        ],
                        "passed_time": 1.766157471,
                        "iteration": 108,
                        "remaining_time": 6.335482306,
                        "learn": [
                          0.7559399629,
                          0.6686260131
                        ]
                      },
                      {
                        "test": [
                          0.7530277569,
                          0.6792697639
                        ],
                        "passed_time": 1.784328424,
                        "iteration": 109,
                        "remaining_time": 6.326255323,
                        "learn": [
                          0.7559109875,
                          0.6685320476
                        ]
                      },
                      {
                        "test": [
                          0.7530857044,
                          0.6792560252
                        ],
                        "passed_time": 1.798369179,
                        "iteration": 110,
                        "remaining_time": 6.302392888,
                        "learn": [
                          0.7559979138,
                          0.6684606522
                        ]
                      },
                      {
                        "test": [
                          0.7530857044,
                          0.6792670268
                        ],
                        "passed_time": 1.814212367,
                        "iteration": 111,
                        "remaining_time": 6.284949986,
                        "learn": [
                          0.7560558646,
                          0.6683023913
                        ]
                      },
                      {
                        "test": [
                          0.7530277569,
                          0.6792463472
                        ],
                        "passed_time": 1.828658121,
                        "iteration": 112,
                        "remaining_time": 6.262749495,
                        "learn": [
                          0.7562297172,
                          0.6681856087
                        ]
                      },
                      {
                        "test": [
                          0.7532015994,
                          0.6792602205
                        ],
                        "passed_time": 1.842470422,
                        "iteration": 113,
                        "remaining_time": 6.2385402,
                        "learn": [
                          0.7563456189,
                          0.6680638549
                        ]
                      },
                      {
                        "test": [
                          0.7531436519,
                          0.6792759002
                        ],
                        "passed_time": 1.856616891,
                        "iteration": 114,
                        "remaining_time": 6.215630462,
                        "learn": [
                          0.7562586926,
                          0.6679730955
                        ]
                      },
                      {
                        "test": [
                          0.7533174944,
                          0.6792968392
                        ],
                        "passed_time": 1.870957535,
                        "iteration": 115,
                        "remaining_time": 6.1935146,
                        "learn": [
                          0.7563745943,
                          0.6678603866
                        ]
                      },
                      {
                        "test": [
                          0.7532595469,
                          0.6792580741
                        ],
                        "passed_time": 1.886266275,
                        "iteration": 116,
                        "remaining_time": 6.174700713,
                        "learn": [
                          0.7564035698,
                          0.6677208962
                        ]
                      },
                      {
                        "test": [
                          0.7533754418,
                          0.6792809864
                        ],
                        "passed_time": 1.900603341,
                        "iteration": 117,
                        "remaining_time": 6.152800647,
                        "learn": [
                          0.7564035698,
                          0.6676293979
                        ]
                      },
                      {
                        "test": [
                          0.7530277569,
                          0.6792655781
                        ],
                        "passed_time": 1.914620647,
                        "iteration": 118,
                        "remaining_time": 6.130003919,
                        "learn": [
                          0.7563745943,
                          0.6675472272
                        ]
                      },
                      {
                        "test": [
                          0.7530277569,
                          0.6792448976
                        ],
                        "passed_time": 1.929935271,
                        "iteration": 119,
                        "remaining_time": 6.111461692,
                        "learn": [
                          0.7564035698,
                          0.6674445123
                        ]
                      },
                      {
                        "test": [
                          0.7530277569,
                          0.679266588
                        ],
                        "passed_time": 1.94416585,
                        "iteration": 120,
                        "remaining_time": 6.089577332,
                        "learn": [
                          0.7563456189,
                          0.6673857903
                        ]
                      },
                      {
                        "test": [
                          0.7529698094,
                          0.6792554403
                        ],
                        "passed_time": 1.958655998,
                        "iteration": 121,
                        "remaining_time": 6.068622681,
                        "learn": [
                          0.7563456189,
                          0.6673164198
                        ]
                      },
                      {
                        "test": [
                          0.7529698094,
                          0.6792719764
                        ],
                        "passed_time": 1.973821745,
                        "iteration": 122,
                        "remaining_time": 6.049843884,
                        "learn": [
                          0.7563456189,
                          0.6671680337
                        ]
                      },
                      {
                        "test": [
                          0.7530277569,
                          0.6792639179
                        ],
                        "passed_time": 1.988270129,
                        "iteration": 123,
                        "remaining_time": 6.028948132,
                        "learn": [
                          0.7563745943,
                          0.6670737504
                        ]
                      },
                      {
                        "test": [
                          0.7529698094,
                          0.6792518914
                        ],
                        "passed_time": 2.00255229,
                        "iteration": 124,
                        "remaining_time": 6.007656871,
                        "learn": [
                          0.7563456189,
                          0.6669702908
                        ]
                      },
                      {
                        "test": [
                          0.7530277569,
                          0.679223735
                        ],
                        "passed_time": 2.01628716,
                        "iteration": 125,
                        "remaining_time": 5.984852364,
                        "learn": [
                          0.7565194715,
                          0.6668620013
                        ]
                      },
                      {
                        "test": [
                          0.7530277569,
                          0.6792778003
                        ],
                        "passed_time": 2.030801526,
                        "iteration": 126,
                        "remaining_time": 5.964480071,
                        "learn": [
                          0.7564035698,
                          0.6667325622
                        ]
                      },
                      {
                        "test": [
                          0.7530277569,
                          0.6792553722
                        ],
                        "passed_time": 2.045130782,
                        "iteration": 127,
                        "remaining_time": 5.943661334,
                        "learn": [
                          0.7564325452,
                          0.6666224737
                        ]
                      },
                      {
                        "test": [
                          0.7531436519,
                          0.6792467782
                        ],
                        "passed_time": 2.059583054,
                        "iteration": 128,
                        "remaining_time": 5.923297002,
                        "learn": [
                          0.7565774223,
                          0.6665218612
                        ]
                      },
                      {
                        "test": [
                          0.7530277569,
                          0.6792032114
                        ],
                        "passed_time": 2.075047249,
                        "iteration": 129,
                        "remaining_time": 5.905903708,
                        "learn": [
                          0.7565484469,
                          0.6663458059
                        ]
                      },
                      {
                        "test": [
                          0.7530277569,
                          0.6792379342
                        ],
                        "passed_time": 2.088965766,
                        "iteration": 130,
                        "remaining_time": 5.884186013,
                        "learn": [
                          0.7567802503,
                          0.6662410731
                        ]
                      },
                      {
                        "test": [
                          0.7532595469,
                          0.6792837384
                        ],
                        "passed_time": 2.102802159,
                        "iteration": 131,
                        "remaining_time": 5.862357535,
                        "learn": [
                          0.7567802503,
                          0.6661029258
                        ]
                      },
                      {
                        "test": [
                          0.7532015994,
                          0.6793011467
                        ],
                        "passed_time": 2.116057627,
                        "iteration": 132,
                        "remaining_time": 5.839046233,
                        "learn": [
                          0.7568671766,
                          0.6659989799
                        ]
                      },
                      {
                        "test": [
                          0.7532015994,
                          0.6793032153
                        ],
                        "passed_time": 2.13106977,
                        "iteration": 133,
                        "remaining_time": 5.820683104,
                        "learn": [
                          0.7568671766,
                          0.6659158865
                        ]
                      },
                      {
                        "test": [
                          0.7532015994,
                          0.6792703148
                        ],
                        "passed_time": 2.145544375,
                        "iteration": 134,
                        "remaining_time": 5.800916272,
                        "learn": [
                          0.7570410292,
                          0.6658360884
                        ]
                      },
                      {
                        "test": [
                          0.7533754418,
                          0.6792597015
                        ],
                        "passed_time": 2.162183675,
                        "iteration": 135,
                        "remaining_time": 5.787021012,
                        "learn": [
                          0.7570700046,
                          0.6657213523
                        ]
                      },
                      {
                        "test": [
                          0.7534913368,
                          0.6792689184
                        ],
                        "passed_time": 2.176134488,
                        "iteration": 136,
                        "remaining_time": 5.765962184,
                        "learn": [
                          0.7571279555,
                          0.6656038414
                        ]
                      },
                      {
                        "test": [
                          0.7534333893,
                          0.6792963733
                        ],
                        "passed_time": 2.191307508,
                        "iteration": 137,
                        "remaining_time": 5.748212448,
                        "learn": [
                          0.7570700046,
                          0.6654577515
                        ]
                      },
                      {
                        "test": [
                          0.7534913368,
                          0.6792570817
                        ],
                        "passed_time": 2.205699735,
                        "iteration": 138,
                        "remaining_time": 5.728471974,
                        "learn": [
                          0.7571859064,
                          0.6653265531
                        ]
                      },
                      {
                        "test": [
                          0.7534333893,
                          0.6792508958
                        ],
                        "passed_time": 2.219850141,
                        "iteration": 139,
                        "remaining_time": 5.708186078,
                        "learn": [
                          0.7571859064,
                          0.665265295
                        ]
                      },
                      {
                        "test": [
                          0.7533754418,
                          0.6792457678
                        ],
                        "passed_time": 2.234941376,
                        "iteration": 140,
                        "remaining_time": 5.690382652,
                        "learn": [
                          0.7572728326,
                          0.6651174819
                        ]
                      },
                      {
                        "test": [
                          0.7534913368,
                          0.6791845584
                        ],
                        "passed_time": 2.290090748,
                        "iteration": 141,
                        "remaining_time": 5.773609068,
                        "learn": [
                          0.7571279555,
                          0.6649912861
                        ]
                      },
                      {
                        "test": [
                          0.7530857044,
                          0.6791915597
                        ],
                        "passed_time": 2.319201891,
                        "iteration": 142,
                        "remaining_time": 5.789895629,
                        "learn": [
                          0.7571859064,
                          0.6648286414
                        ]
                      },
                      {
                        "test": [
                          0.7530857044,
                          0.6791743411
                        ],
                        "passed_time": 2.338043718,
                        "iteration": 143,
                        "remaining_time": 5.780163635,
                        "learn": [
                          0.7572728326,
                          0.6646945611
                        ]
                      },
                      {
                        "test": [
                          0.7531436519,
                          0.6791329184
                        ],
                        "passed_time": 2.352347231,
                        "iteration": 144,
                        "remaining_time": 5.759194944,
                        "learn": [
                          0.7573597589,
                          0.6645974276
                        ]
                      },
                      {
                        "test": [
                          0.7533174944,
                          0.6791884143
                        ],
                        "passed_time": 2.366356154,
                        "iteration": 145,
                        "remaining_time": 5.737603278,
                        "learn": [
                          0.7576784886,
                          0.6644308255
                        ]
                      },
                      {
                        "test": [
                          0.7533754418,
                          0.6791494529
                        ],
                        "passed_time": 2.380123965,
                        "iteration": 146,
                        "remaining_time": 5.715535779,
                        "learn": [
                          0.7576205378,
                          0.6643290239
                        ]
                      },
                      {
                        "test": [
                          0.7535492843,
                          0.6791001354
                        ],
                        "passed_time": 2.394341344,
                        "iteration": 147,
                        "remaining_time": 5.694649684,
                        "learn": [
                          0.7577364395,
                          0.6641923349
                        ]
                      },
                      {
                        "test": [
                          0.7534333893,
                          0.6790997787
                        ],
                        "passed_time": 2.407882936,
                        "iteration": 148,
                        "remaining_time": 5.672261144,
                        "learn": [
                          0.7580551692,
                          0.6640876593
                        ]
                      },
                      {
                        "test": [
                          0.7532595469,
                          0.6790097358
                        ],
                        "passed_time": 2.422648666,
                        "iteration": 149,
                        "remaining_time": 5.652846888,
                        "learn": [
                          0.7581420955,
                          0.6639467534
                        ]
                      },
                      {
                        "test": [
                          0.7532015994,
                          0.6789498094
                        ],
                        "passed_time": 2.437963539,
                        "iteration": 150,
                        "remaining_time": 5.634763412,
                        "learn": [
                          0.7582000464,
                          0.6637877158
                        ]
                      },
                      {
                        "test": [
                          0.7531436519,
                          0.6789328678
                        ],
                        "passed_time": 2.45241542,
                        "iteration": 151,
                        "remaining_time": 5.614740567,
                        "learn": [
                          0.7582579972,
                          0.663714381
                        ]
                      },
                      {
                        "test": [
                          0.7529698094,
                          0.6789037788
                        ],
                        "passed_time": 2.468054803,
                        "iteration": 152,
                        "remaining_time": 5.59748377,
                        "learn": [
                          0.7582869726,
                          0.6636281267
                        ]
                      },
                      {
                        "test": [
                          0.7531436519,
                          0.6789154673
                        ],
                        "passed_time": 2.482807707,
                        "iteration": 153,
                        "remaining_time": 5.578256278,
                        "learn": [
                          0.7583159481,
                          0.663518944
                        ]
                      },
                      {
                        "test": [
                          0.7531436519,
                          0.6788913682
                        ],
                        "passed_time": 2.499846609,
                        "iteration": 154,
                        "remaining_time": 5.564174711,
                        "learn": [
                          0.7582000464,
                          0.6633323754
                        ]
                      },
                      {
                        "test": [
                          0.7530277569,
                          0.6788926158
                        ],
                        "passed_time": 2.51347042,
                        "iteration": 155,
                        "remaining_time": 5.542524516,
                        "learn": [
                          0.7582869726,
                          0.6632815251
                        ]
                      },
                      {
                        "test": [
                          0.7529118619,
                          0.6789229412
                        ],
                        "passed_time": 2.527101349,
                        "iteration": 156,
                        "remaining_time": 5.52099212,
                        "learn": [
                          0.7583449235,
                          0.663189412
                        ]
                      },
                      {
                        "test": [
                          0.7530277569,
                          0.6789096835
                        ],
                        "passed_time": 2.541305946,
                        "iteration": 157,
                        "remaining_time": 5.500801479,
                        "learn": [
                          0.7582869726,
                          0.6630636815
                        ]
                      },
                      {
                        "test": [
                          0.7530277569,
                          0.6789004434
                        ],
                        "passed_time": 2.556275136,
                        "iteration": 158,
                        "remaining_time": 5.482325921,
                        "learn": [
                          0.7582869726,
                          0.6630033965
                        ]
                      },
                      {
                        "test": [
                          0.7530857044,
                          0.6788548221
                        ],
                        "passed_time": 2.570311696,
                        "iteration": 159,
                        "remaining_time": 5.461912353,
                        "learn": [
                          0.7584318498,
                          0.6628626142
                        ]
                      },
                      {
                        "test": [
                          0.7530857044,
                          0.6788633485
                        ],
                        "passed_time": 2.585655478,
                        "iteration": 160,
                        "remaining_time": 5.444330479,
                        "learn": [
                          0.7583449235,
                          0.6627545817
                        ]
                      },
                      {
                        "test": [
                          0.7531436519,
                          0.6788178313
                        ],
                        "passed_time": 2.600240924,
                        "iteration": 161,
                        "remaining_time": 5.425194027,
                        "learn": [
                          0.7585477515,
                          0.6626561454
                        ]
                      },
                      {
                        "test": [
                          0.7530857044,
                          0.678842323
                        ],
                        "passed_time": 2.613930111,
                        "iteration": 162,
                        "remaining_time": 5.404260413,
                        "learn": [
                          0.7585767269,
                          0.6625671457
                        ]
                      },
                      {
                        "test": [
                          0.7527959669,
                          0.6788169024
                        ],
                        "passed_time": 2.627289323,
                        "iteration": 163,
                        "remaining_time": 5.382739101,
                        "learn": [
                          0.7585767269,
                          0.6624947971
                        ]
                      },
                      {
                        "test": [
                          0.7528539144,
                          0.6787559859
                        ],
                        "passed_time": 2.642934984,
                        "iteration": 164,
                        "remaining_time": 5.365958907,
                        "learn": [
                          0.7586346778,
                          0.6623906195
                        ]
                      },
                      {
                        "test": [
                          0.7527380194,
                          0.6787396974
                        ],
                        "passed_time": 2.657705597,
                        "iteration": 165,
                        "remaining_time": 5.347431743,
                        "learn": [
                          0.7586346778,
                          0.6622700782
                        ]
                      },
                      {
                        "test": [
                          0.7527959669,
                          0.6787103876
                        ],
                        "passed_time": 2.673358193,
                        "iteration": 166,
                        "remaining_time": 5.330708253,
                        "learn": [
                          0.7586926287,
                          0.6621629695
                        ]
                      },
                      {
                        "test": [
                          0.7529698094,
                          0.6787282127
                        ],
                        "passed_time": 2.687447562,
                        "iteration": 167,
                        "remaining_time": 5.310908277,
                        "learn": [
                          0.7587505795,
                          0.6620949531
                        ]
                      },
                      {
                        "test": [
                          0.7529698094,
                          0.6787054475
                        ],
                        "passed_time": 2.70216401,
                        "iteration": 168,
                        "remaining_time": 5.292404067,
                        "learn": [
                          0.7586926287,
                          0.6620275981
                        ]
                      },
                      {
                        "test": [
                          0.7529698094,
                          0.6786325449
                        ],
                        "passed_time": 2.727327672,
                        "iteration": 169,
                        "remaining_time": 5.294224304,
                        "learn": [
                          0.7586926287,
                          0.6619044781
                        ]
                      },
                      {
                        "test": [
                          0.7527380194,
                          0.6786373441
                        ],
                        "passed_time": 2.742114059,
                        "iteration": 170,
                        "remaining_time": 5.275763306,
                        "learn": [
                          0.7587216041,
                          0.6618148832
                        ]
                      },
                      {
                        "test": [
                          0.7530277569,
                          0.6785832269
                        ],
                        "passed_time": 2.758188118,
                        "iteration": 171,
                        "remaining_time": 5.259800596,
                        "learn": [
                          0.7588664812,
                          0.6615809745
                        ]
                      },
                      {
                        "test": [
                          0.7528539144,
                          0.6786195806
                        ],
                        "passed_time": 2.772694884,
                        "iteration": 172,
                        "remaining_time": 5.240874145,
                        "learn": [
                          0.7588954567,
                          0.6614560529
                        ]
                      },
                      {
                        "test": [
                          0.7529118619,
                          0.6786487917
                        ],
                        "passed_time": 2.786892506,
                        "iteration": 173,
                        "remaining_time": 5.221419293,
                        "learn": [
                          0.7587795549,
                          0.6613816294
                        ]
                      },
                      {
                        "test": [
                          0.7530277569,
                          0.678659801
                        ],
                        "passed_time": 2.802508425,
                        "iteration": 174,
                        "remaining_time": 5.204658503,
                        "learn": [
                          0.7588375058,
                          0.6612949526
                        ]
                      },
                      {
                        "test": [
                          0.7530857044,
                          0.6786615344
                        ],
                        "passed_time": 2.816952387,
                        "iteration": 175,
                        "remaining_time": 5.185753258,
                        "learn": [
                          0.7586926287,
                          0.6612160399
                        ]
                      },
                      {
                        "test": [
                          0.7531436519,
                          0.6786424127
                        ],
                        "passed_time": 2.831845805,
                        "iteration": 176,
                        "remaining_time": 5.167718615,
                        "learn": [
                          0.7586636532,
                          0.6610983264
                        ]
                      },
                      {
                        "test": [
                          0.7533754418,
                          0.6786386308
                        ],
                        "passed_time": 2.84637797,
                        "iteration": 177,
                        "remaining_time": 5.149065766,
                        "learn": [
                          0.7588664812,
                          0.6610342377
                        ]
                      },
                      {
                        "test": [
                          0.7534913368,
                          0.6786561487
                        ],
                        "passed_time": 2.863794926,
                        "iteration": 178,
                        "remaining_time": 5.135632242,
                        "learn": [
                          0.7588954567,
                          0.6609505129
                        ]
                      },
                      {
                        "test": [
                          0.7533754418,
                          0.6786423727
                        ],
                        "passed_time": 2.878963036,
                        "iteration": 179,
                        "remaining_time": 5.118156509,
                        "learn": [
                          0.7588375058,
                          0.6608359742
                        ]
                      },
                      {
                        "test": [
                          0.7534913368,
                          0.6786433761
                        ],
                        "passed_time": 2.893551378,
                        "iteration": 180,
                        "remaining_time": 5.099684473,
                        "learn": [
                          0.7589823829,
                          0.660773314
                        ]
                      },
                      {
                        "test": [
                          0.7531436519,
                          0.6786009287
                        ],
                        "passed_time": 2.908569932,
                        "iteration": 181,
                        "remaining_time": 5.082006805,
                        "learn": [
                          0.7591272601,
                          0.6605821821
                        ]
                      },
                      {
                        "test": [
                          0.7532015994,
                          0.6785775975
                        ],
                        "passed_time": 2.92280527,
                        "iteration": 182,
                        "remaining_time": 5.063001479,
                        "learn": [
                          0.7592141864,
                          0.6605010135
                        ]
                      },
                      {
                        "test": [
                          0.7531436519,
                          0.6785857977
                        ],
                        "passed_time": 2.936734222,
                        "iteration": 183,
                        "remaining_time": 5.043521817,
                        "learn": [
                          0.7591562355,
                          0.6604038932
                        ]
                      },
                      {
                        "test": [
                          0.7529698094,
                          0.678594325
                        ],
                        "passed_time": 2.95107189,
                        "iteration": 184,
                        "remaining_time": 5.024798084,
                        "learn": [
                          0.7593880389,
                          0.6603218185
                        ]
                      },
                      {
                        "test": [
                          0.7529698094,
                          0.6786177162
                        ],
                        "passed_time": 2.964528793,
                        "iteration": 185,
                        "remaining_time": 5.004634629,
                        "learn": [
                          0.7593880389,
                          0.6602635569
                        ]
                      },
                      {
                        "test": [
                          0.7530857044,
                          0.6786480353
                        ],
                        "passed_time": 2.978498089,
                        "iteration": 186,
                        "remaining_time": 4.985400545,
                        "learn": [
                          0.7594749652,
                          0.660151318
                        ]
                      },
                      {
                        "test": [
                          0.7530277569,
                          0.6786859095
                        ],
                        "passed_time": 2.993326478,
                        "iteration": 187,
                        "remaining_time": 4.967648197,
                        "learn": [
                          0.7594459898,
                          0.6600631319
                        ]
                      },
                      {
                        "test": [
                          0.7530857044,
                          0.6787315243
                        ],
                        "passed_time": 3.00664458,
                        "iteration": 188,
                        "remaining_time": 4.947441611,
                        "learn": [
                          0.7596488178,
                          0.6599434345
                        ]
                      },
                      {
                        "test": [
                          0.7532595469,
                          0.6787399093
                        ],
                        "passed_time": 3.020295446,
                        "iteration": 189,
                        "remaining_time": 4.927850465,
                        "learn": [
                          0.7597067687,
                          0.6598951246
                        ]
                      },
                      {
                        "test": [
                          0.7533754418,
                          0.6786827593
                        ],
                        "passed_time": 3.034828561,
                        "iteration": 190,
                        "remaining_time": 4.909748824,
                        "learn": [
                          0.7597647195,
                          0.6597588742
                        ]
                      },
                      {
                        "test": [
                          0.7532595469,
                          0.6786740948
                        ],
                        "passed_time": 3.049311517,
                        "iteration": 191,
                        "remaining_time": 4.891603892,
                        "learn": [
                          0.7597647195,
                          0.6596909662
                        ]
                      },
                      {
                        "test": [
                          0.7533754418,
                          0.6786902141
                        ],
                        "passed_time": 3.068042516,
                        "iteration": 192,
                        "remaining_time": 4.880254158,
                        "learn": [
                          0.7597936949,
                          0.6595915979
                        ]
                      },
                      {
                        "test": [
                          0.7534333893,
                          0.6786888018
                        ],
                        "passed_time": 3.08139195,
                        "iteration": 193,
                        "remaining_time": 4.86033988,
                        "learn": [
                          0.7599675475,
                          0.65950183
                        ]
                      },
                      {
                        "test": [
                          0.7534333893,
                          0.6787073086
                        ],
                        "passed_time": 3.095271421,
                        "iteration": 194,
                        "remaining_time": 4.841321966,
                        "learn": [
                          0.7601414001,
                          0.6594371489
                        ]
                      },
                      {
                        "test": [
                          0.7534333893,
                          0.6787108164
                        ],
                        "passed_time": 3.109362303,
                        "iteration": 195,
                        "remaining_time": 4.822684389,
                        "learn": [
                          0.7600544738,
                          0.6593672628
                        ]
                      },
                      {
                        "test": [
                          0.7533754418,
                          0.6787053799
                        ],
                        "passed_time": 3.123410482,
                        "iteration": 196,
                        "remaining_time": 4.804027289,
                        "learn": [
                          0.7601124247,
                          0.6592843432
                        ]
                      },
                      {
                        "test": [
                          0.7534333893,
                          0.6786449868
                        ],
                        "passed_time": 3.138238644,
                        "iteration": 197,
                        "remaining_time": 4.786606416,
                        "learn": [
                          0.7601414001,
                          0.6591615019
                        ]
                      },
                      {
                        "test": [
                          0.7530857044,
                          0.6786833304
                        ],
                        "passed_time": 3.152585483,
                        "iteration": 198,
                        "remaining_time": 4.768483569,
                        "learn": [
                          0.7603442281,
                          0.6589926977
                        ]
                      },
                      {
                        "test": [
                          0.7532015994,
                          0.6786395311
                        ],
                        "passed_time": 3.167524278,
                        "iteration": 199,
                        "remaining_time": 4.751286417,
                        "learn": [
                          0.7603152527,
                          0.6589183767
                        ]
                      },
                      {
                        "test": [
                          0.7533174944,
                          0.6786276576
                        ],
                        "passed_time": 3.182371133,
                        "iteration": 200,
                        "remaining_time": 4.733974969,
                        "learn": [
                          0.7602862772,
                          0.6587743906
                        ]
                      },
                      {
                        "test": [
                          0.7530857044,
                          0.6785781088
                        ],
                        "passed_time": 3.195752405,
                        "iteration": 201,
                        "remaining_time": 4.714525825,
                        "learn": [
                          0.7601703755,
                          0.6586950654
                        ]
                      },
                      {
                        "test": [
                          0.7531436519,
                          0.6785522989
                        ],
                        "passed_time": 3.210624009,
                        "iteration": 202,
                        "remaining_time": 4.6973169,
                        "learn": [
                          0.7601703755,
                          0.6585903064
                        ]
                      },
                      {
                        "test": [
                          0.7533174944,
                          0.6785898222
                        ],
                        "passed_time": 3.224657093,
                        "iteration": 203,
                        "remaining_time": 4.678914214,
                        "learn": [
                          0.7603442281,
                          0.6584516476
                        ]
                      },
                      {
                        "test": [
                          0.7532595469,
                          0.6786271753
                        ],
                        "passed_time": 3.239532248,
                        "iteration": 204,
                        "remaining_time": 4.661765917,
                        "learn": [
                          0.760605007,
                          0.658326127
                        ]
                      },
                      {
                        "test": [
                          0.7533754418,
                          0.6786074974
                        ],
                        "passed_time": 3.253543943,
                        "iteration": 205,
                        "remaining_time": 4.643407375,
                        "learn": [
                          0.7605180807,
                          0.6582457472
                        ]
                      },
                      {
                        "test": [
                          0.7532595469,
                          0.6786185925
                        ],
                        "passed_time": 3.268171175,
                        "iteration": 206,
                        "remaining_time": 4.625962097,
                        "learn": [
                          0.760605007,
                          0.658167342
                        ]
                      },
                      {
                        "test": [
                          0.7531436519,
                          0.6786427546
                        ],
                        "passed_time": 3.320313163,
                        "iteration": 207,
                        "remaining_time": 4.661208864,
                        "learn": [
                          0.7608657858,
                          0.6580743099
                        ]
                      },
                      {
                        "test": [
                          0.7530857044,
                          0.6787179796
                        ],
                        "passed_time": 3.351275407,
                        "iteration": 208,
                        "remaining_time": 4.666129873,
                        "learn": [
                          0.7609527121,
                          0.6579710181
                        ]
                      },
                      {
                        "test": [
                          0.7529118619,
                          0.678747371
                        ],
                        "passed_time": 3.375422714,
                        "iteration": 209,
                        "remaining_time": 4.661298033,
                        "learn": [
                          0.7608657858,
                          0.6578875186
                        ]
                      },
                      {
                        "test": [
                          0.7527380194,
                          0.6787538063
                        ],
                        "passed_time": 3.388722938,
                        "iteration": 210,
                        "remaining_time": 4.641426204,
                        "learn": [
                          0.7611265647,
                          0.6578357251
                        ]
                      },
                      {
                        "test": [
                          0.7529118619,
                          0.678806177
                        ],
                        "passed_time": 3.402485809,
                        "iteration": 211,
                        "remaining_time": 4.622244872,
                        "learn": [
                          0.7611265647,
                          0.6577519826
                        ]
                      },
                      {
                        "test": [
                          0.7526800719,
                          0.6787784383
                        ],
                        "passed_time": 3.416573164,
                        "iteration": 212,
                        "remaining_time": 4.603551634,
                        "learn": [
                          0.7609237367,
                          0.6576847739
                        ]
                      },
                      {
                        "test": [
                          0.7527959669,
                          0.6788040046
                        ],
                        "passed_time": 3.430660226,
                        "iteration": 213,
                        "remaining_time": 4.584901049,
                        "learn": [
                          0.7609816875,
                          0.6575822649
                        ]
                      },
                      {
                        "test": [
                          0.7529118619,
                          0.6788016984
                        ],
                        "passed_time": 3.44493984,
                        "iteration": 214,
                        "remaining_time": 4.566548161,
                        "learn": [
                          0.7611555401,
                          0.6575030128
                        ]
                      },
                      {
                        "test": [
                          0.7530857044,
                          0.6788427114
                        ],
                        "passed_time": 3.459937198,
                        "iteration": 215,
                        "remaining_time": 4.549176687,
                        "learn": [
                          0.7611845155,
                          0.6573992856
                        ]
                      },
                      {
                        "test": [
                          0.7529698094,
                          0.6788328581
                        ],
                        "passed_time": 3.48549139,
                        "iteration": 216,
                        "remaining_time": 4.545594762,
                        "learn": [
                          0.7611555401,
                          0.6573491981
                        ]
                      },
                      {
                        "test": [
                          0.7529118619,
                          0.6788181936
                        ],
                        "passed_time": 3.500483829,
                        "iteration": 217,
                        "remaining_time": 4.528148806,
                        "learn": [
                          0.7611555401,
                          0.6572533116
                        ]
                      },
                      {
                        "test": [
                          0.7528539144,
                          0.6788215285
                        ],
                        "passed_time": 3.514909264,
                        "iteration": 218,
                        "remaining_time": 4.509997731,
                        "learn": [
                          0.761416319,
                          0.6571972508
                        ]
                      },
                      {
                        "test": [
                          0.7527380194,
                          0.6787992001
                        ],
                        "passed_time": 3.5295379,
                        "iteration": 219,
                        "remaining_time": 4.492139146,
                        "learn": [
                          0.7613583681,
                          0.6570952912
                        ]
                      },
                      {
                        "test": [
                          0.7528539144,
                          0.6787820919
                        ],
                        "passed_time": 3.543059726,
                        "iteration": 220,
                        "remaining_time": 4.472912505,
                        "learn": [
                          0.761416319,
                          0.6569956536
                        ]
                      },
                      {
                        "test": [
                          0.7527959669,
                          0.6787757435
                        ],
                        "passed_time": 3.558252606,
                        "iteration": 221,
                        "remaining_time": 4.45582984,
                        "learn": [
                          0.761416319,
                          0.6569134425
                        ]
                      },
                      {
                        "test": [
                          0.7527380194,
                          0.6788086811
                        ],
                        "passed_time": 3.571757698,
                        "iteration": 222,
                        "remaining_time": 4.436667634,
                        "learn": [
                          0.7615032452,
                          0.6568137673
                        ]
                      },
                      {
                        "test": [
                          0.7527380194,
                          0.678812245
                        ],
                        "passed_time": 3.586592068,
                        "iteration": 223,
                        "remaining_time": 4.419193798,
                        "learn": [
                          0.761416319,
                          0.6567139785
                        ]
                      },
                      {
                        "test": [
                          0.7526800719,
                          0.6787368242
                        ],
                        "passed_time": 3.601748799,
                        "iteration": 224,
                        "remaining_time": 4.402137421,
                        "learn": [
                          0.7613293927,
                          0.6565812097
                        ]
                      },
                      {
                        "test": [
                          0.7526800719,
                          0.6787489531
                        ],
                        "passed_time": 3.61620354,
                        "iteration": 225,
                        "remaining_time": 4.38424677,
                        "learn": [
                          0.7613583681,
                          0.656522478
                        ]
                      },
                      {
                        "test": [
                          0.7527380194,
                          0.6787548911
                        ],
                        "passed_time": 3.630341662,
                        "iteration": 226,
                        "remaining_time": 4.366005612,
                        "learn": [
                          0.7615611961,
                          0.6564328245
                        ]
                      },
                      {
                        "test": [
                          0.7530277569,
                          0.6787714895
                        ],
                        "passed_time": 3.64377961,
                        "iteration": 227,
                        "remaining_time": 4.346965149,
                        "learn": [
                          0.7617060732,
                          0.6563569919
                        ]
                      },
                      {
                        "test": [
                          0.7530277569,
                          0.6787823677
                        ],
                        "passed_time": 3.658776273,
                        "iteration": 228,
                        "remaining_time": 4.32981821,
                        "learn": [
                          0.7616481224,
                          0.6562468253
                        ]
                      },
                      {
                        "test": [
                          0.7529118619,
                          0.6787641454
                        ],
                        "passed_time": 3.672996038,
                        "iteration": 229,
                        "remaining_time": 4.311777957,
                        "learn": [
                          0.7616770978,
                          0.6562019995
                        ]
                      },
                      {
                        "test": [
                          0.7529118619,
                          0.6787492483
                        ],
                        "passed_time": 3.687474828,
                        "iteration": 230,
                        "remaining_time": 4.294072419,
                        "learn": [
                          0.7617350487,
                          0.6561131756
                        ]
                      },
                      {
                        "test": [
                          0.7528539144,
                          0.6787375646
                        ],
                        "passed_time": 3.701794555,
                        "iteration": 231,
                        "remaining_time": 4.276210952,
                        "learn": [
                          0.7617929995,
                          0.6560574281
                        ]
                      },
                      {
                        "test": [
                          0.7528539144,
                          0.6787531132
                        ],
                        "passed_time": 3.720878296,
                        "iteration": 232,
                        "remaining_time": 4.263839078,
                        "learn": [
                          0.7617929995,
                          0.6559947121
                        ]
                      },
                      {
                        "test": [
                          0.7527380194,
                          0.6787495614
                        ],
                        "passed_time": 3.741265995,
                        "iteration": 233,
                        "remaining_time": 4.252892114,
                        "learn": [
                          0.7617640241,
                          0.6558933946
                        ]
                      },
                      {
                        "test": [
                          0.7529118619,
                          0.6787406432
                        ],
                        "passed_time": 3.754748039,
                        "iteration": 234,
                        "remaining_time": 4.234077576,
                        "learn": [
                          0.7616481224,
                          0.6558289669
                        ]
                      },
                      {
                        "test": [
                          0.7530277569,
                          0.6786913035
                        ],
                        "passed_time": 3.770602666,
                        "iteration": 235,
                        "remaining_time": 4.217962304,
                        "learn": [
                          0.7617640241,
                          0.6557206005
                        ]
                      },
                      {
                        "test": [
                          0.7530857044,
                          0.6786935241
                        ],
                        "passed_time": 3.7853675,
                        "iteration": 236,
                        "remaining_time": 4.200639885,
                        "learn": [
                          0.761821975,
                          0.6556311535
                        ]
                      },
                      {
                        "test": [
                          0.7527380194,
                          0.6786857614
                        ],
                        "passed_time": 3.80135924,
                        "iteration": 237,
                        "remaining_time": 4.184689584,
                        "learn": [
                          0.7617929995,
                          0.655520884
                        ]
                      },
                      {
                        "test": [
                          0.7526800719,
                          0.6786608735
                        ],
                        "passed_time": 3.816465559,
                        "iteration": 238,
                        "remaining_time": 4.167772013,
                        "learn": [
                          0.7619089013,
                          0.6554427242
                        ]
                      },
                      {
                        "test": [
                          0.7524482819,
                          0.6786711887
                        ],
                        "passed_time": 3.830745169,
                        "iteration": 239,
                        "remaining_time": 4.149973933,
                        "learn": [
                          0.7621986555,
                          0.6553664306
                        ]
                      },
                      {
                        "test": [
                          0.7523903344,
                          0.6786608693
                        ],
                        "passed_time": 3.845097475,
                        "iteration": 240,
                        "remaining_time": 4.132283178,
                        "learn": [
                          0.7623435327,
                          0.65527799
                        ]
                      },
                      {
                        "test": [
                          0.7523903344,
                          0.6786725888
                        ],
                        "passed_time": 3.860065978,
                        "iteration": 241,
                        "remaining_time": 4.115276952,
                        "learn": [
                          0.762227631,
                          0.6551612173
                        ]
                      },
                      {
                        "test": [
                          0.7522744394,
                          0.6786880681
                        ],
                        "passed_time": 3.874945884,
                        "iteration": 242,
                        "remaining_time": 4.098193795,
                        "learn": [
                          0.7621986555,
                          0.6550634266
                        ]
                      },
                      {
                        "test": [
                          0.7524482819,
                          0.6786798245
                        ],
                        "passed_time": 3.889376467,
                        "iteration": 243,
                        "remaining_time": 4.080657277,
                        "learn": [
                          0.7622566064,
                          0.6549422786
                        ]
                      },
                      {
                        "test": [
                          0.7522744394,
                          0.6786903891
                        ],
                        "passed_time": 3.903205943,
                        "iteration": 244,
                        "remaining_time": 4.062520471,
                        "learn": [
                          0.7623145573,
                          0.6548946414
                        ]
                      },
                      {
                        "test": [
                          0.7524482819,
                          0.6787122101
                        ],
                        "passed_time": 3.919661921,
                        "iteration": 245,
                        "remaining_time": 4.047130601,
                        "learn": [
                          0.7624014835,
                          0.6548176905
                        ]
                      },
                      {
                        "test": [
                          0.7523903344,
                          0.6787069408
                        ],
                        "passed_time": 3.933755195,
                        "iteration": 246,
                        "remaining_time": 4.029312002,
                        "learn": [
                          0.7624594344,
                          0.6547550067
                        ]
                      },
                      {
                        "test": [
                          0.7522164919,
                          0.6786819808
                        ],
                        "passed_time": 3.948261675,
                        "iteration": 247,
                        "remaining_time": 4.011943315,
                        "learn": [
                          0.762430459,
                          0.6546549369
                        ]
                      },
                      {
                        "test": [
                          0.7524482819,
                          0.6787256721
                        ],
                        "passed_time": 3.963102706,
                        "iteration": 248,
                        "remaining_time": 3.994934856,
                        "learn": [
                          0.762430459,
                          0.6545595413
                        ]
                      },
                      {
                        "test": [
                          0.7524482819,
                          0.6787509227
                        ],
                        "passed_time": 3.976624899,
                        "iteration": 249,
                        "remaining_time": 3.976624899,
                        "learn": [
                          0.7624884098,
                          0.6544993614
                        ]
                      },
                      {
                        "test": [
                          0.7523323869,
                          0.6787544254
                        ],
                        "passed_time": 3.990231172,
                        "iteration": 250,
                        "remaining_time": 3.958436502,
                        "learn": [
                          0.7623725081,
                          0.6544183455
                        ]
                      },
                      {
                        "test": [
                          0.7522744394,
                          0.6787282464
                        ],
                        "passed_time": 4.004957687,
                        "iteration": 251,
                        "remaining_time": 3.94138693,
                        "learn": [
                          0.7626912378,
                          0.654292991
                        ]
                      },
                      {
                        "test": [
                          0.7521005969,
                          0.6786968442
                        ],
                        "passed_time": 4.018906674,
                        "iteration": 252,
                        "remaining_time": 3.923596635,
                        "learn": [
                          0.762633287,
                          0.6542233624
                        ]
                      },
                      {
                        "test": [
                          0.7521585444,
                          0.6787010022
                        ],
                        "passed_time": 4.032362849,
                        "iteration": 253,
                        "remaining_time": 3.905359295,
                        "learn": [
                          0.7627781641,
                          0.6541635845
                        ]
                      },
                      {
                        "test": [
                          0.7521585444,
                          0.6787287848
                        ],
                        "passed_time": 4.046397058,
                        "iteration": 254,
                        "remaining_time": 3.887714821,
                        "learn": [
                          0.7627781641,
                          0.6541077016
                        ]
                      },
                      {
                        "test": [
                          0.7523323869,
                          0.6787496085
                        ],
                        "passed_time": 4.060712233,
                        "iteration": 255,
                        "remaining_time": 3.870366347,
                        "learn": [
                          0.7627202133,
                          0.6540547549
                        ]
                      },
                      {
                        "test": [
                          0.7525641769,
                          0.6787450427
                        ],
                        "passed_time": 4.073845247,
                        "iteration": 256,
                        "remaining_time": 3.851923716,
                        "learn": [
                          0.7628940658,
                          0.653989745
                        ]
                      },
                      {
                        "test": [
                          0.7525641769,
                          0.6787715995
                        ],
                        "passed_time": 4.087769604,
                        "iteration": 257,
                        "remaining_time": 3.834264512,
                        "learn": [
                          0.762836115,
                          0.653907801
                        ]
                      },
                      {
                        "test": [
                          0.7526800719,
                          0.6787625616
                        ],
                        "passed_time": 4.10225903,
                        "iteration": 258,
                        "remaining_time": 3.817159947,
                        "learn": [
                          0.762836115,
                          0.6538404838
                        ]
                      },
                      {
                        "test": [
                          0.7526221244,
                          0.6787714702
                        ],
                        "passed_time": 4.116720557,
                        "iteration": 259,
                        "remaining_time": 3.800049745,
                        "learn": [
                          0.7628071395,
                          0.6537589702
                        ]
                      },
                      {
                        "test": [
                          0.7526221244,
                          0.6787977383
                        ],
                        "passed_time": 4.131608605,
                        "iteration": 260,
                        "remaining_time": 3.783350408,
                        "learn": [
                          0.7628940658,
                          0.6536834001
                        ]
                      },
                      {
                        "test": [
                          0.7526800719,
                          0.6787932862
                        ],
                        "passed_time": 4.146995991,
                        "iteration": 261,
                        "remaining_time": 3.767118495,
                        "learn": [
                          0.7629809921,
                          0.6536316091
                        ]
                      },
                      {
                        "test": [
                          0.7526221244,
                          0.6787986649
                        ],
                        "passed_time": 4.160832614,
                        "iteration": 262,
                        "remaining_time": 3.749495549,
                        "learn": [
                          0.7631548447,
                          0.6535447156
                        ]
                      },
                      {
                        "test": [
                          0.7525641769,
                          0.6788199991
                        ],
                        "passed_time": 4.175482103,
                        "iteration": 263,
                        "remaining_time": 3.73262794,
                        "learn": [
                          0.7631548447,
                          0.6534814307
                        ]
                      },
                      {
                        "test": [
                          0.7523903344,
                          0.6788187175
                        ],
                        "passed_time": 4.190089212,
                        "iteration": 264,
                        "remaining_time": 3.71573949,
                        "learn": [
                          0.7632127955,
                          0.6533835174
                        ]
                      },
                      {
                        "test": [
                          0.7526800719,
                          0.6788453996
                        ],
                        "passed_time": 4.204988944,
                        "iteration": 265,
                        "remaining_time": 3.699125613,
                        "learn": [
                          0.7632997218,
                          0.6532908562
                        ]
                      },
                      {
                        "test": [
                          0.7527380194,
                          0.6787934664
                        ],
                        "passed_time": 4.219631606,
                        "iteration": 266,
                        "remaining_time": 3.68230024,
                        "learn": [
                          0.7633286973,
                          0.6532312701
                        ]
                      },
                      {
                        "test": [
                          0.7527380194,
                          0.6787977875
                        ],
                        "passed_time": 4.232944655,
                        "iteration": 267,
                        "remaining_time": 3.664340149,
                        "learn": [
                          0.7633576727,
                          0.6531896916
                        ]
                      },
                      {
                        "test": [
                          0.7527959669,
                          0.6787919648
                        ],
                        "passed_time": 4.248016438,
                        "iteration": 268,
                        "remaining_time": 3.647924896,
                        "learn": [
                          0.7632997218,
                          0.6531187992
                        ]
                      },
                      {
                        "test": [
                          0.7526221244,
                          0.6788582451
                        ],
                        "passed_time": 4.263283563,
                        "iteration": 269,
                        "remaining_time": 3.631685998,
                        "learn": [
                          0.7632997218,
                          0.653017363
                        ]
                      },
                      {
                        "test": [
                          0.7526221244,
                          0.6788978003
                        ],
                        "passed_time": 4.277745826,
                        "iteration": 270,
                        "remaining_time": 3.614774148,
                        "learn": [
                          0.7633576727,
                          0.6529344521
                        ]
                      },
                      {
                        "test": [
                          0.7527380194,
                          0.6789407612
                        ],
                        "passed_time": 4.292632906,
                        "iteration": 271,
                        "remaining_time": 3.598236407,
                        "learn": [
                          0.7632997218,
                          0.6528281465
                        ]
                      },
                      {
                        "test": [
                          0.7527959669,
                          0.6789501778
                        ],
                        "passed_time": 4.307175013,
                        "iteration": 272,
                        "remaining_time": 3.581423912,
                        "learn": [
                          0.7635315253,
                          0.6527414074
                        ]
                      },
                      {
                        "test": [
                          0.7527959669,
                          0.6789317757
                        ],
                        "passed_time": 4.363371175,
                        "iteration": 273,
                        "remaining_time": 3.598984984,
                        "learn": [
                          0.7635315253,
                          0.6526844785
                        ]
                      },
                      {
                        "test": [
                          0.7529118619,
                          0.6789414953
                        ],
                        "passed_time": 4.391656869,
                        "iteration": 274,
                        "remaining_time": 3.593173802,
                        "learn": [
                          0.7635315253,
                          0.6526011433
                        ]
                      },
                      {
                        "test": [
                          0.7529698094,
                          0.6789314061
                        ],
                        "passed_time": 4.41586401,
                        "iteration": 275,
                        "remaining_time": 3.583889631,
                        "learn": [
                          0.7635605007,
                          0.6524587395
                        ]
                      },
                      {
                        "test": [
                          0.7529698094,
                          0.6789327295
                        ],
                        "passed_time": 4.429881964,
                        "iteration": 276,
                        "remaining_time": 3.566294866,
                        "learn": [
                          0.763647427,
                          0.6524063982
                        ]
                      },
                      {
                        "test": [
                          0.7529698094,
                          0.6789726319
                        ],
                        "passed_time": 4.445250481,
                        "iteration": 277,
                        "remaining_time": 3.549804341,
                        "learn": [
                          0.7637053778,
                          0.6523250161
                        ]
                      },
                      {
                        "test": [
                          0.7528539144,
                          0.6789755805
                        ],
                        "passed_time": 4.459230628,
                        "iteration": 278,
                        "remaining_time": 3.53222211,
                        "learn": [
                          0.763850255,
                          0.6522576346
                        ]
                      },
                      {
                        "test": [
                          0.7528539144,
                          0.6789536826
                        ],
                        "passed_time": 4.475761444,
                        "iteration": 279,
                        "remaining_time": 3.516669706,
                        "learn": [
                          0.7637343533,
                          0.6522018327
                        ]
                      },
                      {
                        "test": [
                          0.7529118619,
                          0.6789725643
                        ],
                        "passed_time": 4.490734831,
                        "iteration": 280,
                        "remaining_time": 3.499896541,
                        "learn": [
                          0.7637923041,
                          0.6520910146
                        ]
                      },
                      {
                        "test": [
                          0.7528539144,
                          0.6790078162
                        ],
                        "passed_time": 4.505279218,
                        "iteration": 281,
                        "remaining_time": 3.482804502,
                        "learn": [
                          0.7639371813,
                          0.6520279903
                        ]
                      },
                      {
                        "test": [
                          0.7529118619,
                          0.6790701833
                        ],
                        "passed_time": 4.519597865,
                        "iteration": 282,
                        "remaining_time": 3.465557374,
                        "learn": [
                          0.764053083,
                          0.6519306176
                        ]
                      },
                      {
                        "test": [
                          0.7529118619,
                          0.6790934424
                        ],
                        "passed_time": 4.533547028,
                        "iteration": 283,
                        "remaining_time": 3.448049853,
                        "learn": [
                          0.764053083,
                          0.6518392125
                        ]
                      },
                      {
                        "test": [
                          0.7529118619,
                          0.6790873451
                        ],
                        "passed_time": 4.548107612,
                        "iteration": 284,
                        "remaining_time": 3.431028549,
                        "learn": [
                          0.7640241076,
                          0.6517954008
                        ]
                      },
                      {
                        "test": [
                          0.7529118619,
                          0.679090612
                        ],
                        "passed_time": 4.562073541,
                        "iteration": 285,
                        "remaining_time": 3.413579503,
                        "learn": [
                          0.7641979601,
                          0.6517071831
                        ]
                      },
                      {
                        "test": [
                          0.7529118619,
                          0.6790969398
                        ],
                        "passed_time": 4.576963857,
                        "iteration": 286,
                        "remaining_time": 3.396840772,
                        "learn": [
                          0.764053083,
                          0.6515958531
                        ]
                      },
                      {
                        "test": [
                          0.7530277569,
                          0.6790842004
                        ],
                        "passed_time": 4.590936838,
                        "iteration": 287,
                        "remaining_time": 3.379439617,
                        "learn": [
                          0.7641110338,
                          0.6515348782
                        ]
                      },
                      {
                        "test": [
                          0.7527380194,
                          0.6790811807
                        ],
                        "passed_time": 4.605745864,
                        "iteration": 288,
                        "remaining_time": 3.362672586,
                        "learn": [
                          0.7641400093,
                          0.6513982349
                        ]
                      },
                      {
                        "test": [
                          0.7527380194,
                          0.6790858717
                        ],
                        "passed_time": 4.620087318,
                        "iteration": 289,
                        "remaining_time": 3.345580472,
                        "learn": [
                          0.7644297636,
                          0.6513275606
                        ]
                      },
                      {
                        "test": [
                          0.7526800719,
                          0.679091877
                        ],
                        "passed_time": 4.634902744,
                        "iteration": 290,
                        "remaining_time": 3.328847676,
                        "learn": [
                          0.7643718127,
                          0.6512024553
                        ]
                      },
                      {
                        "test": [
                          0.7527380194,
                          0.6790412969
                        ],
                        "passed_time": 4.650141189,
                        "iteration": 291,
                        "remaining_time": 3.31242934,
                        "learn": [
                          0.7644297636,
                          0.6510747623
                        ]
                      },
                      {
                        "test": [
                          0.7527959669,
                          0.6790430121
                        ],
                        "passed_time": 4.664108393,
                        "iteration": 292,
                        "remaining_time": 3.295120947,
                        "learn": [
                          0.7644007881,
                          0.6510208361
                        ]
                      },
                      {
                        "test": [
                          0.7527380194,
                          0.6789914298
                        ],
                        "passed_time": 4.678892948,
                        "iteration": 293,
                        "remaining_time": 3.278407984,
                        "learn": [
                          0.7643138618,
                          0.6509206191
                        ]
                      },
                      {
                        "test": [
                          0.7527380194,
                          0.6790196378
                        ],
                        "passed_time": 4.692957624,
                        "iteration": 294,
                        "remaining_time": 3.26120784,
                        "learn": [
                          0.7645166898,
                          0.6508473331
                        ]
                      },
                      {
                        "test": [
                          0.7526800719,
                          0.6790249571
                        ],
                        "passed_time": 4.707262066,
                        "iteration": 295,
                        "remaining_time": 3.244194126,
                        "learn": [
                          0.7644297636,
                          0.650737671
                        ]
                      },
                      {
                        "test": [
                          0.7526800719,
                          0.6790023173
                        ],
                        "passed_time": 4.72115667,
                        "iteration": 296,
                        "remaining_time": 3.226918532,
                        "learn": [
                          0.7644007881,
                          0.6506430709
                        ]
                      },
                      {
                        "test": [
                          0.7527380194,
                          0.6790299116
                        ],
                        "passed_time": 4.747362777,
                        "iteration": 297,
                        "remaining_time": 3.21801101,
                        "learn": [
                          0.7644877144,
                          0.6505654894
                        ]
                      },
                      {
                        "test": [
                          0.7525641769,
                          0.6790495633
                        ],
                        "passed_time": 4.761777963,
                        "iteration": 298,
                        "remaining_time": 3.20106144,
                        "learn": [
                          0.7645746407,
                          0.6505133197
                        ]
                      },
                      {
                        "test": [
                          0.7525641769,
                          0.6790552866
                        ],
                        "passed_time": 4.775827872,
                        "iteration": 299,
                        "remaining_time": 3.183885248,
                        "learn": [
                          0.7645456653,
                          0.6504446505
                        ]
                      },
                      {
                        "test": [
                          0.7525641769,
                          0.6790587134
                        ],
                        "passed_time": 4.792032681,
                        "iteration": 300,
                        "remaining_time": 3.168154497,
                        "learn": [
                          0.7646036161,
                          0.6503648882
                        ]
                      },
                      {
                        "test": [
                          0.7528539144,
                          0.6790594997
                        ],
                        "passed_time": 4.806335668,
                        "iteration": 301,
                        "remaining_time": 3.151173716,
                        "learn": [
                          0.7646325916,
                          0.6502827272
                        ]
                      },
                      {
                        "test": [
                          0.7527959669,
                          0.6790525761
                        ],
                        "passed_time": 4.821626224,
                        "iteration": 302,
                        "remaining_time": 3.134852694,
                        "learn": [
                          0.764661567,
                          0.6501369576
                        ]
                      },
                      {
                        "test": [
                          0.7526800719,
                          0.679080087
                        ],
                        "passed_time": 4.835743611,
                        "iteration": 303,
                        "remaining_time": 3.117782065,
                        "learn": [
                          0.764661567,
                          0.6500876927
                        ]
                      },
                      {
                        "test": [
                          0.7527380194,
                          0.679113443
                        ],
                        "passed_time": 4.850693237,
                        "iteration": 304,
                        "remaining_time": 3.101262889,
                        "learn": [
                          0.7646905424,
                          0.6500151114
                        ]
                      },
                      {
                        "test": [
                          0.7528539144,
                          0.6791269044
                        ],
                        "passed_time": 4.865196751,
                        "iteration": 305,
                        "remaining_time": 3.084471143,
                        "learn": [
                          0.7646905424,
                          0.6499101644
                        ]
                      },
                      {
                        "test": [
                          0.7528539144,
                          0.6791197477
                        ],
                        "passed_time": 4.880169248,
                        "iteration": 306,
                        "remaining_time": 3.067989137,
                        "learn": [
                          0.7646905424,
                          0.6498155996
                        ]
                      },
                      {
                        "test": [
                          0.7527380194,
                          0.6790890978
                        ],
                        "passed_time": 4.895350545,
                        "iteration": 307,
                        "remaining_time": 3.051647093,
                        "learn": [
                          0.7648354196,
                          0.6496636326
                        ]
                      },
                      {
                        "test": [
                          0.7527380194,
                          0.6790773431
                        ],
                        "passed_time": 4.90962629,
                        "iteration": 308,
                        "remaining_time": 3.03475282,
                        "learn": [
                          0.7649223459,
                          0.6495827805
                        ]
                      },
                      {
                        "test": [
                          0.7527380194,
                          0.6790904173
                        ],
                        "passed_time": 4.924085681,
                        "iteration": 309,
                        "remaining_time": 3.017987998,
                        "learn": [
                          0.7650382476,
                          0.6495211574
                        ]
                      },
                      {
                        "test": [
                          0.7528539144,
                          0.6790944297
                        ],
                        "passed_time": 4.93925393,
                        "iteration": 310,
                        "remaining_time": 3.001668787,
                        "learn": [
                          0.7651831247,
                          0.6494367839
                        ]
                      },
                      {
                        "test": [
                          0.7529118619,
                          0.6791051454
                        ],
                        "passed_time": 4.957049046,
                        "iteration": 311,
                        "remaining_time": 2.98693981,
                        "learn": [
                          0.765067223,
                          0.6493665745
                        ]
                      },
                      {
                        "test": [
                          0.7525641769,
                          0.6791310212
                        ],
                        "passed_time": 4.970679677,
                        "iteration": 312,
                        "remaining_time": 2.969703194,
                        "learn": [
                          0.7651541493,
                          0.6493008985
                        ]
                      },
                      {
                        "test": [
                          0.7528539144,
                          0.679166324
                        ],
                        "passed_time": 4.985444646,
                        "iteration": 313,
                        "remaining_time": 2.953161478,
                        "learn": [
                          0.7651541493,
                          0.6491735002
                        ]
                      },
                      {
                        "test": [
                          0.7526800719,
                          0.679162901
                        ],
                        "passed_time": 4.99965294,
                        "iteration": 314,
                        "remaining_time": 2.936304107,
                        "learn": [
                          0.7655018544,
                          0.6490889165
                        ]
                      },
                      {
                        "test": [
                          0.7525641769,
                          0.6791565386
                        ],
                        "passed_time": 5.012874244,
                        "iteration": 315,
                        "remaining_time": 2.9188888,
                        "learn": [
                          0.7653569773,
                          0.6490543685
                        ]
                      },
                      {
                        "test": [
                          0.7530857044,
                          0.6791990481
                        ],
                        "passed_time": 5.027461726,
                        "iteration": 316,
                        "remaining_time": 2.90228863,
                        "learn": [
                          0.7654439036,
                          0.6489578984
                        ]
                      },
                      {
                        "test": [
                          0.7528539144,
                          0.6791993197
                        ],
                        "passed_time": 5.041906183,
                        "iteration": 317,
                        "remaining_time": 2.885619262,
                        "learn": [
                          0.7655308299,
                          0.64886882
                        ]
                      },
                      {
                        "test": [
                          0.7527959669,
                          0.6792140379
                        ],
                        "passed_time": 5.055804978,
                        "iteration": 318,
                        "remaining_time": 2.868654235,
                        "learn": [
                          0.7655308299,
                          0.6487950628
                        ]
                      },
                      {
                        "test": [
                          0.7527959669,
                          0.679203698
                        ],
                        "passed_time": 5.070880283,
                        "iteration": 319,
                        "remaining_time": 2.852370159,
                        "learn": [
                          0.7655598053,
                          0.6487151653
                        ]
                      },
                      {
                        "test": [
                          0.7528539144,
                          0.6791724114
                        ],
                        "passed_time": 5.084726796,
                        "iteration": 320,
                        "remaining_time": 2.8354084,
                        "learn": [
                          0.7654439036,
                          0.6486478851
                        ]
                      },
                      {
                        "test": [
                          0.7529698094,
                          0.679190989
                        ],
                        "passed_time": 5.098453359,
                        "iteration": 321,
                        "remaining_time": 2.818399683,
                        "learn": [
                          0.7655308299,
                          0.6485454486
                        ]
                      },
                      {
                        "test": [
                          0.7529118619,
                          0.6791968838
                        ],
                        "passed_time": 5.113028833,
                        "iteration": 322,
                        "remaining_time": 2.801876481,
                        "learn": [
                          0.7655308299,
                          0.6484793765
                        ]
                      },
                      {
                        "test": [
                          0.7529118619,
                          0.6792058472
                        ],
                        "passed_time": 5.127678848,
                        "iteration": 323,
                        "remaining_time": 2.785405794,
                        "learn": [
                          0.7654439036,
                          0.6483989253
                        ]
                      },
                      {
                        "test": [
                          0.7529118619,
                          0.6792186664
                        ],
                        "passed_time": 5.143946366,
                        "iteration": 324,
                        "remaining_time": 2.769817274,
                        "learn": [
                          0.7654439036,
                          0.648312388
                        ]
                      },
                      {
                        "test": [
                          0.7527380194,
                          0.6792292352
                        ],
                        "passed_time": 5.158579412,
                        "iteration": 325,
                        "remaining_time": 2.753352201,
                        "learn": [
                          0.7656177561,
                          0.6482199018
                        ]
                      },
                      {
                        "test": [
                          0.7528539144,
                          0.6792476875
                        ],
                        "passed_time": 5.173784828,
                        "iteration": 326,
                        "remaining_time": 2.737201148,
                        "learn": [
                          0.7655598053,
                          0.6480845883
                        ]
                      },
                      {
                        "test": [
                          0.7527380194,
                          0.6792760017
                        ],
                        "passed_time": 5.189282997,
                        "iteration": 327,
                        "remaining_time": 2.721209376,
                        "learn": [
                          0.7655598053,
                          0.6480150825
                        ]
                      },
                      {
                        "test": [
                          0.7528539144,
                          0.6792729559
                        ],
                        "passed_time": 5.203764216,
                        "iteration": 328,
                        "remaining_time": 2.704692039,
                        "learn": [
                          0.7656467316,
                          0.6479091731
                        ]
                      },
                      {
                        "test": [
                          0.7527959669,
                          0.6792866495
                        ],
                        "passed_time": 5.218588893,
                        "iteration": 329,
                        "remaining_time": 2.688363975,
                        "learn": [
                          0.765675707,
                          0.6478562035
                        ]
                      },
                      {
                        "test": [
                          0.7527380194,
                          0.67923629
                        ],
                        "passed_time": 5.233527892,
                        "iteration": 330,
                        "remaining_time": 2.672103365,
                        "learn": [
                          0.7657916087,
                          0.6477437106
                        ]
                      },
                      {
                        "test": [
                          0.7529118619,
                          0.6792570704
                        ],
                        "passed_time": 5.247937853,
                        "iteration": 331,
                        "remaining_time": 2.65558301,
                        "learn": [
                          0.7658495596,
                          0.6476910451
                        ]
                      },
                      {
                        "test": [
                          0.7527380194,
                          0.6792255276
                        ],
                        "passed_time": 5.262741698,
                        "iteration": 332,
                        "remaining_time": 2.639272864,
                        "learn": [
                          0.7657916087,
                          0.6476034641
                        ]
                      },
                      {
                        "test": [
                          0.7525062294,
                          0.679209147
                        ],
                        "passed_time": 5.277286212,
                        "iteration": 333,
                        "remaining_time": 2.622842848,
                        "learn": [
                          0.7659075104,
                          0.6475011882
                        ]
                      },
                      {
                        "test": [
                          0.7526221244,
                          0.6792129908
                        ],
                        "passed_time": 5.29245497,
                        "iteration": 334,
                        "remaining_time": 2.606731552,
                        "learn": [
                          0.7658205841,
                          0.6474115963
                        ]
                      },
                      {
                        "test": [
                          0.7526800719,
                          0.6792309683
                        ],
                        "passed_time": 5.307342297,
                        "iteration": 335,
                        "remaining_time": 2.590488502,
                        "learn": [
                          0.765878535,
                          0.6473404267
                        ]
                      },
                      {
                        "test": [
                          0.7527380194,
                          0.6792374812
                        ],
                        "passed_time": 5.32121703,
                        "iteration": 336,
                        "remaining_time": 2.573763727,
                        "learn": [
                          0.7659654613,
                          0.6472910358
                        ]
                      },
                      {
                        "test": [
                          0.7527380194,
                          0.6792427853
                        ],
                        "passed_time": 5.335882012,
                        "iteration": 337,
                        "remaining_time": 2.557434574,
                        "learn": [
                          0.7659075104,
                          0.6472084655
                        ]
                      },
                      {
                        "test": [
                          0.7527380194,
                          0.6792482492
                        ],
                        "passed_time": 5.351526978,
                        "iteration": 338,
                        "remaining_time": 2.541580659,
                        "learn": [
                          0.765878535,
                          0.6471680005
                        ]
                      },
                      {
                        "test": [
                          0.7525641769,
                          0.6792461841
                        ],
                        "passed_time": 5.427842,
                        "iteration": 339,
                        "remaining_time": 2.554278588,
                        "learn": [
                          0.7659944367,
                          0.6471072847
                        ]
                      },
                      {
                        "test": [
                          0.7526800719,
                          0.6792622556
                        ],
                        "passed_time": 5.455087067,
                        "iteration": 340,
                        "remaining_time": 2.543574321,
                        "learn": [
                          0.7660234121,
                          0.6470439187
                        ]
                      },
                      {
                        "test": [
                          0.7525641769,
                          0.6792839466
                        ],
                        "passed_time": 5.483464565,
                        "iteration": 341,
                        "remaining_time": 2.533296495,
                        "learn": [
                          0.766081363,
                          0.6469697159
                        ]
                      },
                      {
                        "test": [
                          0.7525641769,
                          0.6793318531
                        ],
                        "passed_time": 5.498096309,
                        "iteration": 342,
                        "remaining_time": 2.516621343,
                        "learn": [
                          0.7659654613,
                          0.6469037408
                        ]
                      },
                      {
                        "test": [
                          0.7524482819,
                          0.6793113368
                        ],
                        "passed_time": 5.513148915,
                        "iteration": 343,
                        "remaining_time": 2.500148927,
                        "learn": [
                          0.766081363,
                          0.6468247856
                        ]
                      },
                      {
                        "test": [
                          0.7525641769,
                          0.6793296447
                        ],
                        "passed_time": 5.528101465,
                        "iteration": 344,
                        "remaining_time": 2.483639789,
                        "learn": [
                          0.7661103384,
                          0.6467248904
                        ]
                      },
                      {
                        "test": [
                          0.7527380194,
                          0.6793270375
                        ],
                        "passed_time": 5.542382147,
                        "iteration": 345,
                        "remaining_time": 2.466840609,
                        "learn": [
                          0.7659944367,
                          0.6466504952
                        ]
                      },
                      {
                        "test": [
                          0.7526221244,
                          0.6793412521
                        ],
                        "passed_time": 5.556961454,
                        "iteration": 346,
                        "remaining_time": 2.450187615,
                        "learn": [
                          0.7659654613,
                          0.6465489045
                        ]
                      },
                      {
                        "test": [
                          0.7526800719,
                          0.6793542049
                        ],
                        "passed_time": 5.571471092,
                        "iteration": 347,
                        "remaining_time": 2.433516109,
                        "learn": [
                          0.7660234121,
                          0.6464466154
                        ]
                      },
                      {
                        "test": [
                          0.7525062294,
                          0.6793701278
                        ],
                        "passed_time": 5.58533292,
                        "iteration": 348,
                        "remaining_time": 2.416576707,
                        "learn": [
                          0.7660234121,
                          0.646369245
                        ]
                      },
                      {
                        "test": [
                          0.7525641769,
                          0.679428941
                        ],
                        "passed_time": 5.600171219,
                        "iteration": 349,
                        "remaining_time": 2.40007338,
                        "learn": [
                          0.7661393139,
                          0.6462503328
                        ]
                      },
                      {
                        "test": [
                          0.7525062294,
                          0.6794483203
                        ],
                        "passed_time": 5.613943432,
                        "iteration": 350,
                        "remaining_time": 2.383126984,
                        "learn": [
                          0.7661972647,
                          0.6461926557
                        ]
                      },
                      {
                        "test": [
                          0.7525062294,
                          0.6794199114
                        ],
                        "passed_time": 5.62807511,
                        "iteration": 351,
                        "remaining_time": 2.366349762,
                        "learn": [
                          0.7662552156,
                          0.6461200856
                        ]
                      },
                      {
                        "test": [
                          0.7526221244,
                          0.6794345325
                        ],
                        "passed_time": 5.642298293,
                        "iteration": 352,
                        "remaining_time": 2.349625635,
                        "learn": [
                          0.7661972647,
                          0.6460494465
                        ]
                      },
                      {
                        "test": [
                          0.7526221244,
                          0.6794395117
                        ],
                        "passed_time": 5.656812841,
                        "iteration": 353,
                        "remaining_time": 2.333035804,
                        "learn": [
                          0.7660523876,
                          0.6459752489
                        ]
                      },
                      {
                        "test": [
                          0.7523903344,
                          0.679483368
                        ],
                        "passed_time": 5.670844902,
                        "iteration": 354,
                        "remaining_time": 2.316260594,
                        "learn": [
                          0.766284191,
                          0.6458947823
                        ]
                      },
                      {
                        "test": [
                          0.7523903344,
                          0.6794761527
                        ],
                        "passed_time": 5.685328407,
                        "iteration": 355,
                        "remaining_time": 2.2996834,
                        "learn": [
                          0.7664290682,
                          0.6457972895
                        ]
                      },
                      {
                        "test": [
                          0.7523903344,
                          0.679508558
                        ],
                        "passed_time": 5.699926828,
                        "iteration": 356,
                        "remaining_time": 2.283163967,
                        "learn": [
                          0.7665449699,
                          0.6456933171
                        ]
                      },
                      {
                        "test": [
                          0.7523323869,
                          0.6795335218
                        ],
                        "passed_time": 5.713838746,
                        "iteration": 357,
                        "remaining_time": 2.266382966,
                        "learn": [
                          0.7668636996,
                          0.6456064662
                        ]
                      },
                      {
                        "test": [
                          0.7525641769,
                          0.6795795811
                        ],
                        "passed_time": 5.728389352,
                        "iteration": 358,
                        "remaining_time": 2.249868798,
                        "learn": [
                          0.766689847,
                          0.6455302602
                        ]
                      },
                      {
                        "test": [
                          0.7525641769,
                          0.6796009831
                        ],
                        "passed_time": 5.748583728,
                        "iteration": 359,
                        "remaining_time": 2.235560339,
                        "learn": [
                          0.7667477979,
                          0.6454528305
                        ]
                      },
                      {
                        "test": [
                          0.7526800719,
                          0.6795936085
                        ],
                        "passed_time": 5.767093023,
                        "iteration": 360,
                        "remaining_time": 2.220570444,
                        "learn": [
                          0.7666318962,
                          0.6453636071
                        ]
                      },
                      {
                        "test": [
                          0.7526800719,
                          0.6795454387
                        ],
                        "passed_time": 5.782404561,
                        "iteration": 361,
                        "remaining_time": 2.20434207,
                        "learn": [
                          0.766689847,
                          0.6452740204
                        ]
                      },
                      {
                        "test": [
                          0.7526800719,
                          0.6795541998
                        ],
                        "passed_time": 5.797290198,
                        "iteration": 362,
                        "remaining_time": 2.187958008,
                        "learn": [
                          0.766689847,
                          0.645165624
                        ]
                      },
                      {
                        "test": [
                          0.7525062294,
                          0.6795630305
                        ],
                        "passed_time": 5.812274164,
                        "iteration": 363,
                        "remaining_time": 2.171618918,
                        "learn": [
                          0.7667477979,
                          0.6450795021
                        ]
                      },
                      {
                        "test": [
                          0.7526221244,
                          0.6795760302
                        ],
                        "passed_time": 5.826897046,
                        "iteration": 364,
                        "remaining_time": 2.155153702,
                        "learn": [
                          0.7668347242,
                          0.6450030943
                        ]
                      },
                      {
                        "test": [
                          0.7526221244,
                          0.6796196649
                        ],
                        "passed_time": 5.84095445,
                        "iteration": 365,
                        "remaining_time": 2.13849152,
                        "learn": [
                          0.766892675,
                          0.644903675
                        ]
                      },
                      {
                        "test": [
                          0.7522744394,
                          0.6796325916
                        ],
                        "passed_time": 5.855564387,
                        "iteration": 366,
                        "remaining_time": 2.12204377,
                        "learn": [
                          0.7670665276,
                          0.6448145856
                        ]
                      },
                      {
                        "test": [
                          0.7523323869,
                          0.6796179223
                        ],
                        "passed_time": 5.871169718,
                        "iteration": 367,
                        "remaining_time": 2.105963051,
                        "learn": [
                          0.7670085767,
                          0.6447468722
                        ]
                      },
                      {
                        "test": [
                          0.7522744394,
                          0.679612064
                        ],
                        "passed_time": 5.885133306,
                        "iteration": 368,
                        "remaining_time": 2.089302068,
                        "learn": [
                          0.7670375522,
                          0.6446954965
                        ]
                      },
                      {
                        "test": [
                          0.7522744394,
                          0.6796402221
                        ],
                        "passed_time": 5.899049333,
                        "iteration": 369,
                        "remaining_time": 2.072638955,
                        "learn": [
                          0.767095503,
                          0.6446241762
                        ]
                      },
                      {
                        "test": [
                          0.7522744394,
                          0.6796199799
                        ],
                        "passed_time": 5.913587788,
                        "iteration": 370,
                        "remaining_time": 2.056207074,
                        "learn": [
                          0.7671244784,
                          0.6445448621
                        ]
                      },
                      {
                        "test": [
                          0.7520426494,
                          0.6796099557
                        ],
                        "passed_time": 5.927830371,
                        "iteration": 371,
                        "remaining_time": 2.039683569,
                        "learn": [
                          0.767298331,
                          0.6444746799
                        ]
                      },
                      {
                        "test": [
                          0.7520426494,
                          0.6796581578
                        ],
                        "passed_time": 5.942848799,
                        "iteration": 372,
                        "remaining_time": 2.023436454,
                        "learn": [
                          0.7673562819,
                          0.6443720483
                        ]
                      },
                      {
                        "test": [
                          0.7519267544,
                          0.6796633442
                        ],
                        "passed_time": 5.957210341,
                        "iteration": 373,
                        "remaining_time": 2.006974607,
                        "learn": [
                          0.7673852573,
                          0.6443219966
                        ]
                      },
                      {
                        "test": [
                          0.7521005969,
                          0.6797447681
                        ],
                        "passed_time": 5.972011124,
                        "iteration": 374,
                        "remaining_time": 1.990670375,
                        "learn": [
                          0.7674142327,
                          0.6442190532
                        ]
                      },
                      {
                        "test": [
                          0.7522744394,
                          0.6797650227
                        ],
                        "passed_time": 5.986470233,
                        "iteration": 375,
                        "remaining_time": 1.97426146,
                        "learn": [
                          0.7674721836,
                          0.6441522756
                        ]
                      },
                      {
                        "test": [
                          0.7522744394,
                          0.6797534247
                        ],
                        "passed_time": 6.001777128,
                        "iteration": 376,
                        "remaining_time": 1.958139487,
                        "learn": [
                          0.7675591099,
                          0.6440391353
                        ]
                      },
                      {
                        "test": [
                          0.7523323869,
                          0.6797435206
                        ],
                        "passed_time": 6.016459388,
                        "iteration": 377,
                        "remaining_time": 1.941820226,
                        "learn": [
                          0.7676460362,
                          0.6439846973
                        ]
                      },
                      {
                        "test": [
                          0.7525641769,
                          0.6797423796
                        ],
                        "passed_time": 6.030536365,
                        "iteration": 378,
                        "remaining_time": 1.925316359,
                        "learn": [
                          0.7675301344,
                          0.643932002
                        ]
                      },
                      {
                        "test": [
                          0.7523903344,
                          0.6797779644
                        ],
                        "passed_time": 6.051720679,
                        "iteration": 379,
                        "remaining_time": 1.911069688,
                        "learn": [
                          0.7676170607,
                          0.6438545508
                        ]
                      },
                      {
                        "test": [
                          0.7523903344,
                          0.6797807002
                        ],
                        "passed_time": 6.066709664,
                        "iteration": 380,
                        "remaining_time": 1.894851575,
                        "learn": [
                          0.7675880853,
                          0.6437952149
                        ]
                      },
                      {
                        "test": [
                          0.7523903344,
                          0.6797931733
                        ],
                        "passed_time": 6.081098371,
                        "iteration": 381,
                        "remaining_time": 1.878454471,
                        "learn": [
                          0.7676170607,
                          0.6436925497
                        ]
                      },
                      {
                        "test": [
                          0.7523903344,
                          0.6797552119
                        ],
                        "passed_time": 6.096635644,
                        "iteration": 382,
                        "remaining_time": 1.862418722,
                        "learn": [
                          0.7676170607,
                          0.6436083665
                        ]
                      },
                      {
                        "test": [
                          0.7522744394,
                          0.679782057
                        ],
                        "passed_time": 6.111599067,
                        "iteration": 383,
                        "remaining_time": 1.846212218,
                        "learn": [
                          0.767501159,
                          0.6435227182
                        ]
                      },
                      {
                        "test": [
                          0.7521585444,
                          0.6797909065
                        ],
                        "passed_time": 6.126091726,
                        "iteration": 384,
                        "remaining_time": 1.829871554,
                        "learn": [
                          0.7674432082,
                          0.6434534602
                        ]
                      },
                      {
                        "test": [
                          0.7521005969,
                          0.6797849255
                        ],
                        "passed_time": 6.139197819,
                        "iteration": 385,
                        "remaining_time": 1.813130962,
                        "learn": [
                          0.7674721836,
                          0.6433953581
                        ]
                      },
                      {
                        "test": [
                          0.7521585444,
                          0.6797912291
                        ],
                        "passed_time": 6.15253946,
                        "iteration": 386,
                        "remaining_time": 1.79647793,
                        "learn": [
                          0.7676460362,
                          0.6433595099
                        ]
                      },
                      {
                        "test": [
                          0.7522164919,
                          0.6797869303
                        ],
                        "passed_time": 6.166373309,
                        "iteration": 387,
                        "remaining_time": 1.779984048,
                        "learn": [
                          0.7678198887,
                          0.6432760503
                        ]
                      },
                      {
                        "test": [
                          0.7522164919,
                          0.6797911518
                        ],
                        "passed_time": 6.18057194,
                        "iteration": 388,
                        "remaining_time": 1.763607931,
                        "learn": [
                          0.7679647659,
                          0.6432320925
                        ]
                      },
                      {
                        "test": [
                          0.7523903344,
                          0.6798234636
                        ],
                        "passed_time": 6.194716927,
                        "iteration": 389,
                        "remaining_time": 1.747227851,
                        "learn": [
                          0.767906815,
                          0.6431710906
                        ]
                      },
                      {
                        "test": [
                          0.7523323869,
                          0.679830375
                        ],
                        "passed_time": 6.208815697,
                        "iteration": 390,
                        "remaining_time": 1.73084632,
                        "learn": [
                          0.767906815,
                          0.6431088463
                        ]
                      },
                      {
                        "test": [
                          0.7521585444,
                          0.6798263447
                        ],
                        "passed_time": 6.222774695,
                        "iteration": 391,
                        "remaining_time": 1.714437926,
                        "learn": [
                          0.7679937413,
                          0.643070882
                        ]
                      },
                      {
                        "test": [
                          0.7522164919,
                          0.6798137593
                        ],
                        "passed_time": 6.236607853,
                        "iteration": 392,
                        "remaining_time": 1.698007736,
                        "learn": [
                          0.7680806676,
                          0.6430188519
                        ]
                      },
                      {
                        "test": [
                          0.7523323869,
                          0.6798258606
                        ],
                        "passed_time": 6.25190202,
                        "iteration": 393,
                        "remaining_time": 1.681983792,
                        "learn": [
                          0.7679937413,
                          0.642909184
                        ]
                      },
                      {
                        "test": [
                          0.7522164919,
                          0.6798185632
                        ],
                        "passed_time": 6.265848091,
                        "iteration": 394,
                        "remaining_time": 1.665605189,
                        "learn": [
                          0.768109643,
                          0.6428533809
                        ]
                      },
                      {
                        "test": [
                          0.7522164919,
                          0.6798428577
                        ],
                        "passed_time": 6.28002469,
                        "iteration": 395,
                        "remaining_time": 1.649299414,
                        "learn": [
                          0.7682545202,
                          0.6427948857
                        ]
                      },
                      {
                        "test": [
                          0.7522744394,
                          0.6798219145
                        ],
                        "passed_time": 6.294543158,
                        "iteration": 396,
                        "remaining_time": 1.633093061,
                        "learn": [
                          0.7683414465,
                          0.6427241474
                        ]
                      },
                      {
                        "test": [
                          0.7521585444,
                          0.679811117
                        ],
                        "passed_time": 6.309287917,
                        "iteration": 397,
                        "remaining_time": 1.616953185,
                        "learn": [
                          0.7683993973,
                          0.6426697444
                        ]
                      },
                      {
                        "test": [
                          0.7522744394,
                          0.6797918249
                        ],
                        "passed_time": 6.323783895,
                        "iteration": 398,
                        "remaining_time": 1.600757327,
                        "learn": [
                          0.7682834956,
                          0.6425669015
                        ]
                      },
                      {
                        "test": [
                          0.7523323869,
                          0.6797563504
                        ],
                        "passed_time": 6.339076596,
                        "iteration": 399,
                        "remaining_time": 1.584769149,
                        "learn": [
                          0.768312471,
                          0.6424814235
                        ]
                      },
                      {
                        "test": [
                          0.7523903344,
                          0.6798027342
                        ],
                        "passed_time": 6.353580863,
                        "iteration": 400,
                        "remaining_time": 1.568589789,
                        "learn": [
                          0.7682834956,
                          0.6424054787
                        ]
                      },
                      {
                        "test": [
                          0.7523903344,
                          0.679838776
                        ],
                        "passed_time": 6.367225671,
                        "iteration": 401,
                        "remaining_time": 1.552209243,
                        "learn": [
                          0.7683704219,
                          0.642359333
                        ]
                      },
                      {
                        "test": [
                          0.7524482819,
                          0.6798411586
                        ],
                        "passed_time": 6.382176501,
                        "iteration": 402,
                        "remaining_time": 1.536156627,
                        "learn": [
                          0.7682255447,
                          0.6422770638
                        ]
                      },
                      {
                        "test": [
                          0.7525062294,
                          0.6798772939
                        ],
                        "passed_time": 6.431351021,
                        "iteration": 403,
                        "remaining_time": 1.528241827,
                        "learn": [
                          0.7682834956,
                          0.6422204424
                        ]
                      },
                      {
                        "test": [
                          0.7523903344,
                          0.6798473063
                        ],
                        "passed_time": 6.483725586,
                        "iteration": 404,
                        "remaining_time": 1.520873903,
                        "learn": [
                          0.7683704219,
                          0.6421515827
                        ]
                      },
                      {
                        "test": [
                          0.7523323869,
                          0.6798272367
                        ],
                        "passed_time": 6.513113984,
                        "iteration": 405,
                        "remaining_time": 1.507962351,
                        "learn": [
                          0.768515299,
                          0.6420396062
                        ]
                      },
                      {
                        "test": [
                          0.7522164919,
                          0.6798706775
                        ],
                        "passed_time": 6.530729666,
                        "iteration": 406,
                        "remaining_time": 1.492279752,
                        "learn": [
                          0.7683704219,
                          0.6419688685
                        ]
                      },
                      {
                        "test": [
                          0.7522744394,
                          0.6798720692
                        ],
                        "passed_time": 6.545748013,
                        "iteration": 407,
                        "remaining_time": 1.476002003,
                        "learn": [
                          0.7683414465,
                          0.6419273462
                        ]
                      },
                      {
                        "test": [
                          0.7522744394,
                          0.6798643496
                        ],
                        "passed_time": 6.560173801,
                        "iteration": 408,
                        "remaining_time": 1.459598572,
                        "learn": [
                          0.768312471,
                          0.641849145
                        ]
                      },
                      {
                        "test": [
                          0.7523323869,
                          0.6798928096
                        ],
                        "passed_time": 6.574847505,
                        "iteration": 409,
                        "remaining_time": 1.443259208,
                        "learn": [
                          0.768312471,
                          0.6417590136
                        ]
                      },
                      {
                        "test": [
                          0.7522744394,
                          0.6799328004
                        ],
                        "passed_time": 6.589150588,
                        "iteration": 410,
                        "remaining_time": 1.426847694,
                        "learn": [
                          0.7683414465,
                          0.6417069087
                        ]
                      },
                      {
                        "test": [
                          0.7523323869,
                          0.6799357606
                        ],
                        "passed_time": 6.604729191,
                        "iteration": 411,
                        "remaining_time": 1.410718856,
                        "learn": [
                          0.7683704219,
                          0.641575679
                        ]
                      },
                      {
                        "test": [
                          0.7524482819,
                          0.6799648836
                        ],
                        "passed_time": 6.619115591,
                        "iteration": 412,
                        "remaining_time": 1.394341541,
                        "learn": [
                          0.7684573482,
                          0.6415287915
                        ]
                      },
                      {
                        "test": [
                          0.7523323869,
                          0.6800035325
                        ],
                        "passed_time": 6.63334402,
                        "iteration": 413,
                        "remaining_time": 1.377941028,
                        "learn": [
                          0.7684863236,
                          0.641470345
                        ]
                      },
                      {
                        "test": [
                          0.7521585444,
                          0.6800530812
                        ],
                        "passed_time": 6.64804372,
                        "iteration": 414,
                        "remaining_time": 1.361647509,
                        "learn": [
                          0.768515299,
                          0.6413334912
                        ]
                      },
                      {
                        "test": [
                          0.7523903344,
                          0.6801037953
                        ],
                        "passed_time": 6.662394901,
                        "iteration": 415,
                        "remaining_time": 1.345291278,
                        "learn": [
                          0.7684863236,
                          0.6412537587
                        ]
                      },
                      {
                        "test": [
                          0.7524482819,
                          0.6801133267
                        ],
                        "passed_time": 6.677770883,
                        "iteration": 416,
                        "remaining_time": 1.329148641,
                        "learn": [
                          0.7685732499,
                          0.6411326043
                        ]
                      },
                      {
                        "test": [
                          0.7524482819,
                          0.6800780445
                        ],
                        "passed_time": 6.692995203,
                        "iteration": 417,
                        "remaining_time": 1.31297992,
                        "learn": [
                          0.7686601762,
                          0.6409971139
                        ]
                      },
                      {
                        "test": [
                          0.7523903344,
                          0.680110716
                        ],
                        "passed_time": 6.706511866,
                        "iteration": 418,
                        "remaining_time": 1.296485587,
                        "learn": [
                          0.7686601762,
                          0.6409345302
                        ]
                      },
                      {
                        "test": [
                          0.7523323869,
                          0.6801009329
                        ],
                        "passed_time": 6.721101424,
                        "iteration": 419,
                        "remaining_time": 1.280209795,
                        "learn": [
                          0.7688630042,
                          0.6408692797
                        ]
                      },
                      {
                        "test": [
                          0.7523323869,
                          0.6801326989
                        ],
                        "passed_time": 6.73520417,
                        "iteration": 420,
                        "remaining_time": 1.263850664,
                        "learn": [
                          0.7688630042,
                          0.6408190389
                        ]
                      },
                      {
                        "test": [
                          0.7523323869,
                          0.6801326734
                        ],
                        "passed_time": 6.748978149,
                        "iteration": 421,
                        "remaining_time": 1.247441459,
                        "learn": [
                          0.7690658322,
                          0.6407553527
                        ]
                      },
                      {
                        "test": [
                          0.7522744394,
                          0.6801338374
                        ],
                        "passed_time": 6.777785167,
                        "iteration": 422,
                        "remaining_time": 1.233781224,
                        "learn": [
                          0.7690658322,
                          0.6407060127
                        ]
                      },
                      {
                        "test": [
                          0.7524482819,
                          0.6802077909
                        ],
                        "passed_time": 6.793118661,
                        "iteration": 423,
                        "remaining_time": 1.217634477,
                        "learn": [
                          0.7690658322,
                          0.640599153
                        ]
                      },
                      {
                        "test": [
                          0.7524482819,
                          0.6801595321
                        ],
                        "passed_time": 6.808037921,
                        "iteration": 424,
                        "remaining_time": 1.201418457,
                        "learn": [
                          0.7691817339,
                          0.6405122303
                        ]
                      },
                      {
                        "test": [
                          0.7525641769,
                          0.6801756242
                        ],
                        "passed_time": 6.822518278,
                        "iteration": 425,
                        "remaining_time": 1.185132283,
                        "learn": [
                          0.7690948076,
                          0.640427061
                        ]
                      },
                      {
                        "test": [
                          0.7526221244,
                          0.6801295987
                        ],
                        "passed_time": 6.838104474,
                        "iteration": 426,
                        "remaining_time": 1.169043622,
                        "learn": [
                          0.7690658322,
                          0.6403014367
                        ]
                      },
                      {
                        "test": [
                          0.7525641769,
                          0.6801543051
                        ],
                        "passed_time": 6.852724535,
                        "iteration": 427,
                        "remaining_time": 1.152794782,
                        "learn": [
                          0.7690658322,
                          0.6402296198
                        ]
                      },
                      {
                        "test": [
                          0.7525641769,
                          0.680167635
                        ],
                        "passed_time": 6.868155692,
                        "iteration": 428,
                        "remaining_time": 1.136687772,
                        "learn": [
                          0.7690658322,
                          0.6401971379
                        ]
                      },
                      {
                        "test": [
                          0.7525641769,
                          0.6801627929
                        ],
                        "passed_time": 6.882788033,
                        "iteration": 429,
                        "remaining_time": 1.120453866,
                        "learn": [
                          0.7690948076,
                          0.6401328819
                        ]
                      },
                      {
                        "test": [
                          0.7525062294,
                          0.6802149653
                        ],
                        "passed_time": 6.899970354,
                        "iteration": 430,
                        "remaining_time": 1.104635625,
                        "learn": [
                          0.7691527585,
                          0.6400559865
                        ]
                      },
                      {
                        "test": [
                          0.7523323869,
                          0.6802166581
                        ],
                        "passed_time": 6.914568952,
                        "iteration": 431,
                        "remaining_time": 1.088404372,
                        "learn": [
                          0.7692686602,
                          0.6399629551
                        ]
                      },
                      {
                        "test": [
                          0.7522744394,
                          0.6801758682
                        ],
                        "passed_time": 6.929458125,
                        "iteration": 432,
                        "remaining_time": 1.072225622,
                        "learn": [
                          0.7692976356,
                          0.6398326751
                        ]
                      },
                      {
                        "test": [
                          0.7522744394,
                          0.6801597711
                        ],
                        "passed_time": 6.945550235,
                        "iteration": 433,
                        "remaining_time": 1.05623575,
                        "learn": [
                          0.7692107093,
                          0.6397243296
                        ]
                      },
                      {
                        "test": [
                          0.7521585444,
                          0.6801899124
                        ],
                        "passed_time": 6.960137812,
                        "iteration": 434,
                        "remaining_time": 1.040020593,
                        "learn": [
                          0.7692686602,
                          0.639649783
                        ]
                      },
                      {
                        "test": [
                          0.7522164919,
                          0.6802277556
                        ],
                        "passed_time": 6.974854886,
                        "iteration": 435,
                        "remaining_time": 1.02383191,
                        "learn": [
                          0.7693845619,
                          0.6395676974
                        ]
                      },
                      {
                        "test": [
                          0.7522164919,
                          0.6802684395
                        ],
                        "passed_time": 6.989470487,
                        "iteration": 436,
                        "remaining_time": 1.007635333,
                        "learn": [
                          0.7693555865,
                          0.6394993735
                        ]
                      },
                      {
                        "test": [
                          0.7522744394,
                          0.6802992584
                        ],
                        "passed_time": 7.004673702,
                        "iteration": 437,
                        "remaining_time": 0.9915291541,
                        "learn": [
                          0.7693555865,
                          0.6394298213
                        ]
                      },
                      {
                        "test": [
                          0.7523323869,
                          0.6802993879
                        ],
                        "passed_time": 7.018432422,
                        "iteration": 438,
                        "remaining_time": 0.9752263729,
                        "learn": [
                          0.769326611,
                          0.6393782544
                        ]
                      },
                      {
                        "test": [
                          0.7523903344,
                          0.680292092
                        ],
                        "passed_time": 7.033233937,
                        "iteration": 439,
                        "remaining_time": 0.9590773551,
                        "learn": [
                          0.7693555865,
                          0.6392950295
                        ]
                      },
                      {
                        "test": [
                          0.7522744394,
                          0.6803133657
                        ],
                        "passed_time": 7.04681499,
                        "iteration": 440,
                        "remaining_time": 0.9427711665,
                        "learn": [
                          0.7692976356,
                          0.6392407949
                        ]
                      },
                      {
                        "test": [
                          0.7522744394,
                          0.6803097041
                        ],
                        "passed_time": 7.061315505,
                        "iteration": 441,
                        "remaining_time": 0.9265979621,
                        "learn": [
                          0.7691527585,
                          0.6391956636
                        ]
                      },
                      {
                        "test": [
                          0.7522744394,
                          0.6803088651
                        ],
                        "passed_time": 7.07536409,
                        "iteration": 442,
                        "remaining_time": 0.9103741606,
                        "learn": [
                          0.7691817339,
                          0.6391495604
                        ]
                      },
                      {
                        "test": [
                          0.7521585444,
                          0.6803301285
                        ],
                        "passed_time": 7.089318971,
                        "iteration": 443,
                        "remaining_time": 0.8941483387,
                        "learn": [
                          0.7692107093,
                          0.6391024095
                        ]
                      },
                      {
                        "test": [
                          0.7522744394,
                          0.6803366023
                        ],
                        "passed_time": 7.116887562,
                        "iteration": 444,
                        "remaining_time": 0.8796153167,
                        "learn": [
                          0.7692976356,
                          0.6390558536
                        ]
                      },
                      {
                        "test": [
                          0.7523903344,
                          0.680329538
                        ],
                        "passed_time": 7.131893507,
                        "iteration": 445,
                        "remaining_time": 0.8635028013,
                        "learn": [
                          0.7692686602,
                          0.6389893369
                        ]
                      },
                      {
                        "test": [
                          0.7519267544,
                          0.6803749216
                        ],
                        "passed_time": 7.145838008,
                        "iteration": 446,
                        "remaining_time": 0.8472693835,
                        "learn": [
                          0.7694135373,
                          0.638931242
                        ]
                      },
                      {
                        "test": [
                          0.7521585444,
                          0.6804120662
                        ],
                        "passed_time": 7.160472595,
                        "iteration": 447,
                        "remaining_time": 0.8311262834,
                        "learn": [
                          0.7696743162,
                          0.6388573872
                        ]
                      },
                      {
                        "test": [
                          0.7523903344,
                          0.6804689681
                        ],
                        "passed_time": 7.175201194,
                        "iteration": 448,
                        "remaining_time": 0.815000581,
                        "learn": [
                          0.7697612425,
                          0.6387761528
                        ]
                      },
                      {
                        "test": [
                          0.7523323869,
                          0.6804903961
                        ],
                        "passed_time": 7.189741506,
                        "iteration": 449,
                        "remaining_time": 0.7988601673,
                        "learn": [
                          0.7697902179,
                          0.6386618403
                        ]
                      },
                      {
                        "test": [
                          0.7523323869,
                          0.6805213084
                        ],
                        "passed_time": 7.204267506,
                        "iteration": 450,
                        "remaining_time": 0.7827252944,
                        "learn": [
                          0.7699061196,
                          0.638592521
                        ]
                      },
                      {
                        "test": [
                          0.7521585444,
                          0.6805600274
                        ],
                        "passed_time": 7.218763582,
                        "iteration": 451,
                        "remaining_time": 0.7665943627,
                        "learn": [
                          0.769935095,
                          0.6385226374
                        ]
                      },
                      {
                        "test": [
                          0.7522164919,
                          0.6805691652
                        ],
                        "passed_time": 7.235017705,
                        "iteration": 452,
                        "remaining_time": 0.7506530511,
                        "learn": [
                          0.7698771442,
                          0.6384530353
                        ]
                      },
                      {
                        "test": [
                          0.7521005969,
                          0.6805764521
                        ],
                        "passed_time": 7.249358324,
                        "iteration": 453,
                        "remaining_time": 0.7345164822,
                        "learn": [
                          0.7698481688,
                          0.6383897472
                        ]
                      },
                      {
                        "test": [
                          0.7520426494,
                          0.6805825155
                        ],
                        "passed_time": 7.263941758,
                        "iteration": 454,
                        "remaining_time": 0.7184118223,
                        "learn": [
                          0.7698771442,
                          0.6383248999
                        ]
                      },
                      {
                        "test": [
                          0.7518688069,
                          0.6805693767
                        ],
                        "passed_time": 7.278692387,
                        "iteration": 455,
                        "remaining_time": 0.7023299672,
                        "learn": [
                          0.7697902179,
                          0.6382624287
                        ]
                      },
                      {
                        "test": [
                          0.7519267544,
                          0.6805482462
                        ],
                        "passed_time": 7.293444474,
                        "iteration": 456,
                        "remaining_time": 0.6862540752,
                        "learn": [
                          0.7697902179,
                          0.6381894236
                        ]
                      },
                      {
                        "test": [
                          0.7522164919,
                          0.6805624899
                        ],
                        "passed_time": 7.307959992,
                        "iteration": 457,
                        "remaining_time": 0.67016227,
                        "learn": [
                          0.7699061196,
                          0.6381261753
                        ]
                      },
                      {
                        "test": [
                          0.7521585444,
                          0.680546859
                        ],
                        "passed_time": 7.322805057,
                        "iteration": 458,
                        "remaining_time": 0.6541067698,
                        "learn": [
                          0.7698481688,
                          0.6380622475
                        ]
                      },
                      {
                        "test": [
                          0.7520426494,
                          0.68054646
                        ],
                        "passed_time": 7.336719559,
                        "iteration": 459,
                        "remaining_time": 0.6379756139,
                        "learn": [
                          0.7698771442,
                          0.638011203
                        ]
                      },
                      {
                        "test": [
                          0.7519847019,
                          0.6805028603
                        ],
                        "passed_time": 7.351731221,
                        "iteration": 460,
                        "remaining_time": 0.6219468929,
                        "learn": [
                          0.7699640705,
                          0.6379397714
                        ]
                      },
                      {
                        "test": [
                          0.7521005969,
                          0.6804763659
                        ],
                        "passed_time": 7.366547899,
                        "iteration": 461,
                        "remaining_time": 0.6059065371,
                        "learn": [
                          0.770137923,
                          0.6378661945
                        ]
                      },
                      {
                        "test": [
                          0.7522744394,
                          0.6804711846
                        ],
                        "passed_time": 7.381377168,
                        "iteration": 462,
                        "remaining_time": 0.5898724735,
                        "learn": [
                          0.770137923,
                          0.6378005606
                        ]
                      },
                      {
                        "test": [
                          0.7521585444,
                          0.680457523
                        ],
                        "passed_time": 7.395445843,
                        "iteration": 463,
                        "remaining_time": 0.5737845913,
                        "learn": [
                          0.7700509968,
                          0.6377447674
                        ]
                      },
                      {
                        "test": [
                          0.7521585444,
                          0.6805001039
                        ],
                        "passed_time": 7.410359779,
                        "iteration": 464,
                        "remaining_time": 0.5577690157,
                        "learn": [
                          0.7701668985,
                          0.6376909872
                        ]
                      },
                      {
                        "test": [
                          0.7519267544,
                          0.6805162265
                        ],
                        "passed_time": 7.424835241,
                        "iteration": 465,
                        "remaining_time": 0.5417261764,
                        "learn": [
                          0.7701958739,
                          0.6376217299
                        ]
                      },
                      {
                        "test": [
                          0.7518688069,
                          0.6805325835
                        ],
                        "passed_time": 7.439509011,
                        "iteration": 466,
                        "remaining_time": 0.5257040629,
                        "learn": [
                          0.770137923,
                          0.6375510638
                        ]
                      },
                      {
                        "test": [
                          0.7519267544,
                          0.6805057345
                        ],
                        "passed_time": 7.487427768,
                        "iteration": 467,
                        "remaining_time": 0.511960873,
                        "learn": [
                          0.7702538248,
                          0.6374402971
                        ]
                      },
                      {
                        "test": [
                          0.7519847019,
                          0.6805009445
                        ],
                        "passed_time": 7.532929109,
                        "iteration": 468,
                        "remaining_time": 0.4979121586,
                        "learn": [
                          0.7704566528,
                          0.6373332969
                        ]
                      },
                      {
                        "test": [
                          0.7519847019,
                          0.6804968805
                        ],
                        "passed_time": 7.562266738,
                        "iteration": 469,
                        "remaining_time": 0.4826978769,
                        "learn": [
                          0.770340751,
                          0.6372560058
                        ]
                      },
                      {
                        "test": [
                          0.7519847019,
                          0.6804904678
                        ],
                        "passed_time": 7.585445981,
                        "iteration": 470,
                        "remaining_time": 0.4670444447,
                        "learn": [
                          0.7703697265,
                          0.6371871309
                        ]
                      },
                      {
                        "test": [
                          0.7519267544,
                          0.6805244717
                        ],
                        "passed_time": 7.599338329,
                        "iteration": 471,
                        "remaining_time": 0.450808206,
                        "learn": [
                          0.7704566528,
                          0.6371417449
                        ]
                      },
                      {
                        "test": [
                          0.7521005969,
                          0.6805417877
                        ],
                        "passed_time": 7.6127449,
                        "iteration": 472,
                        "remaining_time": 0.4345541486,
                        "learn": [
                          0.7705146036,
                          0.6370876049
                        ]
                      },
                      {
                        "test": [
                          0.7521585444,
                          0.6805327502
                        ],
                        "passed_time": 7.627813349,
                        "iteration": 473,
                        "remaining_time": 0.4184032638,
                        "learn": [
                          0.7704856282,
                          0.6370148905
                        ]
                      },
                      {
                        "test": [
                          0.7522164919,
                          0.68054567
                        ],
                        "passed_time": 7.642669336,
                        "iteration": 474,
                        "remaining_time": 0.4022457546,
                        "learn": [
                          0.770543579,
                          0.6369640336
                        ]
                      },
                      {
                        "test": [
                          0.7521585444,
                          0.6805406228
                        ],
                        "passed_time": 7.657450439,
                        "iteration": 475,
                        "remaining_time": 0.3860899381,
                        "learn": [
                          0.7705146036,
                          0.6368994557
                        ]
                      },
                      {
                        "test": [
                          0.7522744394,
                          0.6805663247
                        ],
                        "passed_time": 7.671306461,
                        "iteration": 476,
                        "remaining_time": 0.3698952801,
                        "learn": [
                          0.7705146036,
                          0.6368542392
                        ]
                      },
                      {
                        "test": [
                          0.7521585444,
                          0.680566809
                        ],
                        "passed_time": 7.685807674,
                        "iteration": 477,
                        "remaining_time": 0.3537401021,
                        "learn": [
                          0.7705146036,
                          0.6367889165
                        ]
                      },
                      {
                        "test": [
                          0.7521005969,
                          0.6805724169
                        ],
                        "passed_time": 7.701187529,
                        "iteration": 478,
                        "remaining_time": 0.337630351,
                        "learn": [
                          0.7706015299,
                          0.6367215864
                        ]
                      },
                      {
                        "test": [
                          0.7521005969,
                          0.6805577238
                        ],
                        "passed_time": 7.715890221,
                        "iteration": 479,
                        "remaining_time": 0.3214954259,
                        "learn": [
                          0.7705146036,
                          0.6366297046
                        ]
                      },
                      {
                        "test": [
                          0.7521005969,
                          0.6805684969
                        ],
                        "passed_time": 7.730318068,
                        "iteration": 480,
                        "remaining_time": 0.3053555993,
                        "learn": [
                          0.7706015299,
                          0.6365742072
                        ]
                      },
                      {
                        "test": [
                          0.7519267544,
                          0.6805862332
                        ],
                        "passed_time": 7.744837685,
                        "iteration": 481,
                        "remaining_time": 0.2892263036,
                        "learn": [
                          0.7706305053,
                          0.6364788016
                        ]
                      },
                      {
                        "test": [
                          0.7519847019,
                          0.6806055855
                        ],
                        "passed_time": 7.759166767,
                        "iteration": 482,
                        "remaining_time": 0.2730969669,
                        "learn": [
                          0.7706594808,
                          0.6364084393
                        ]
                      },
                      {
                        "test": [
                          0.7519267544,
                          0.6806365932
                        ],
                        "passed_time": 7.784915576,
                        "iteration": 483,
                        "remaining_time": 0.257352581,
                        "learn": [
                          0.7706594808,
                          0.636305962
                        ]
                      },
                      {
                        "test": [
                          0.7519847019,
                          0.6806230496
                        ],
                        "passed_time": 7.799561026,
                        "iteration": 484,
                        "remaining_time": 0.2412235369,
                        "learn": [
                          0.7706884562,
                          0.6362640188
                        ]
                      },
                      {
                        "test": [
                          0.7519847019,
                          0.6806187617
                        ],
                        "passed_time": 7.814220766,
                        "iteration": 485,
                        "remaining_time": 0.2251010097,
                        "learn": [
                          0.7706015299,
                          0.6362172017
                        ]
                      },
                      {
                        "test": [
                          0.7520426494,
                          0.6806006615
                        ],
                        "passed_time": 7.829362808,
                        "iteration": 486,
                        "remaining_time": 0.2089973645,
                        "learn": [
                          0.7706305053,
                          0.6361114175
                        ]
                      },
                      {
                        "test": [
                          0.7521005969,
                          0.6806166064
                        ],
                        "passed_time": 7.845034835,
                        "iteration": 487,
                        "remaining_time": 0.1929106927,
                        "learn": [
                          0.7706305053,
                          0.6360142297
                        ]
                      },
                      {
                        "test": [
                          0.7519267544,
                          0.6805952968
                        ],
                        "passed_time": 7.859239502,
                        "iteration": 488,
                        "remaining_time": 0.1767927086,
                        "learn": [
                          0.7706594808,
                          0.6359437126
                        ]
                      },
                      {
                        "test": [
                          0.7516370169,
                          0.6805715699
                        ],
                        "passed_time": 7.873018815,
                        "iteration": 489,
                        "remaining_time": 0.1606738534,
                        "learn": [
                          0.7706305053,
                          0.6358714603
                        ]
                      },
                      {
                        "test": [
                          0.7515790694,
                          0.6805892789
                        ],
                        "passed_time": 7.887796064,
                        "iteration": 490,
                        "remaining_time": 0.1445828199,
                        "learn": [
                          0.770949235,
                          0.6357790331
                        ]
                      },
                      {
                        "test": [
                          0.7519267544,
                          0.6806167402
                        ],
                        "passed_time": 7.90248972,
                        "iteration": 491,
                        "remaining_time": 0.1284957678,
                        "learn": [
                          0.7709202596,
                          0.6356684344
                        ]
                      },
                      {
                        "test": [
                          0.7516370169,
                          0.6806161582
                        ],
                        "passed_time": 7.917466245,
                        "iteration": 492,
                        "remaining_time": 0.1124183848,
                        "learn": [
                          0.7709202596,
                          0.6355872017
                        ]
                      },
                      {
                        "test": [
                          0.7514052269,
                          0.680630313
                        ],
                        "passed_time": 7.932594589,
                        "iteration": 493,
                        "remaining_time": 0.0963473027,
                        "learn": [
                          0.7708912842,
                          0.6355243342
                        ]
                      },
                      {
                        "test": [
                          0.7516370169,
                          0.6806534849
                        ],
                        "passed_time": 7.947400469,
                        "iteration": 494,
                        "remaining_time": 0.08027677242,
                        "learn": [
                          0.7710941122,
                          0.6354292331
                        ]
                      },
                      {
                        "test": [
                          0.7516949644,
                          0.6806849353
                        ],
                        "passed_time": 7.962609718,
                        "iteration": 495,
                        "remaining_time": 0.0642145945,
                        "learn": [
                          0.7710651368,
                          0.6353574001
                        ]
                      },
                      {
                        "test": [
                          0.7514631744,
                          0.6807023925
                        ],
                        "passed_time": 7.977023298,
                        "iteration": 496,
                        "remaining_time": 0.04815104607,
                        "learn": [
                          0.7709782105,
                          0.6352835716
                        ]
                      },
                      {
                        "test": [
                          0.7515790694,
                          0.6807379167
                        ],
                        "passed_time": 7.992211901,
                        "iteration": 497,
                        "remaining_time": 0.03209723655,
                        "learn": [
                          0.770949235,
                          0.6351853805
                        ]
                      },
                      {
                        "test": [
                          0.7512893319,
                          0.6807259175
                        ],
                        "passed_time": 8.005446975,
                        "iteration": 498,
                        "remaining_time": 0.01604297991,
                        "learn": [
                          0.7709202596,
                          0.6351466111
                        ]
                      },
                      {
                        "test": [
                          0.7514052269,
                          0.6807002972
                        ],
                        "passed_time": 8.020839535,
                        "iteration": 499,
                        "remaining_time": 0,
                        "learn": [
                          0.7710651368,
                          0.6350171736
                        ]
                      }
                    ]
                  },
                  "total_iterations": 500,
                  "passed_iterations": 499
                },
                "path": "catboost_info/fold-1",
                "name": "fold-1"
              },
              "catboost_info/fold-0": {
                "content": {
                  "data": {
                    "meta": {
                      "name": "experiment",
                      "parameters": "",
                      "test_metrics": [
                        {
                          "best_value": "Max",
                          "name": "Accuracy"
                        },
                        {
                          "best_value": "Min",
                          "name": "MultiClass"
                        }
                      ],
                      "learn_sets": [
                        "learn"
                      ],
                      "launch_mode": "Train",
                      "learn_metrics": [
                        {
                          "best_value": "Max",
                          "name": "Accuracy"
                        },
                        {
                          "best_value": "Min",
                          "name": "MultiClass"
                        }
                      ],
                      "iteration_count": 500,
                      "test_sets": [
                        "test"
                      ]
                    },
                    "iterations": [
                      {
                        "test": [
                          0.7515790694,
                          1.018207221
                        ],
                        "passed_time": 0.01761852777,
                        "iteration": 0,
                        "remaining_time": 8.791645356,
                        "learn": [
                          0.751216968,
                          1.018163549
                        ]
                      },
                      {
                        "test": [
                          0.7529118619,
                          0.9571666215
                        ],
                        "passed_time": 0.03305943477,
                        "iteration": 1,
                        "remaining_time": 8.231799258,
                        "learn": [
                          0.751622624,
                          0.9570976361
                        ]
                      },
                      {
                        "test": [
                          0.7522744394,
                          0.9091749379
                        ],
                        "passed_time": 0.04790136418,
                        "iteration": 2,
                        "remaining_time": 7.935659333,
                        "learn": [
                          0.7512459434,
                          0.9088987359
                        ]
                      },
                      {
                        "test": [
                          0.7518688069,
                          0.8711260343
                        ],
                        "passed_time": 0.06368929598,
                        "iteration": 3,
                        "remaining_time": 7.897472702,
                        "learn": [
                          0.7513618452,
                          0.8707010443
                        ]
                      },
                      {
                        "test": [
                          0.7530277569,
                          0.8404399657
                        ],
                        "passed_time": 0.07889835855,
                        "iteration": 4,
                        "remaining_time": 7.810937497,
                        "learn": [
                          0.7519123783,
                          0.8399406722
                        ]
                      },
                      {
                        "test": [
                          0.7530277569,
                          0.8154513762
                        ],
                        "passed_time": 0.09340755168,
                        "iteration": 5,
                        "remaining_time": 7.690555088,
                        "learn": [
                          0.751825452,
                          0.814916658
                        ]
                      },
                      {
                        "test": [
                          0.7527380194,
                          0.7944984141
                        ],
                        "passed_time": 0.1082060174,
                        "iteration": 6,
                        "remaining_time": 7.620795223,
                        "learn": [
                          0.7521152063,
                          0.7940344259
                        ]
                      },
                      {
                        "test": [
                          0.7534333893,
                          0.7770825543
                        ],
                        "passed_time": 0.1227988309,
                        "iteration": 7,
                        "remaining_time": 7.552128103,
                        "learn": [
                          0.7524918869,
                          0.7764542007
                        ]
                      },
                      {
                        "test": [
                          0.7530857044,
                          0.7628162783
                        ],
                        "passed_time": 0.13767639,
                        "iteration": 8,
                        "remaining_time": 7.511011945,
                        "learn": [
                          0.752231108,
                          0.7619681617
                        ]
                      },
                      {
                        "test": [
                          0.7532595469,
                          0.7506520156
                        ],
                        "passed_time": 0.1573268384,
                        "iteration": 9,
                        "remaining_time": 7.709015079,
                        "learn": [
                          0.7522890589,
                          0.7496723259
                        ]
                      },
                      {
                        "test": [
                          0.7533754418,
                          0.740678453
                        ],
                        "passed_time": 0.1728846467,
                        "iteration": 10,
                        "remaining_time": 7.685508386,
                        "learn": [
                          0.7523759852,
                          0.739450572
                        ]
                      },
                      {
                        "test": [
                          0.7534333893,
                          0.7323328912
                        ],
                        "passed_time": 0.1881993482,
                        "iteration": 11,
                        "remaining_time": 7.653440161,
                        "learn": [
                          0.7521731572,
                          0.7310604511
                        ]
                      },
                      {
                        "test": [
                          0.7535492843,
                          0.7252123317
                        ],
                        "passed_time": 0.2031270718,
                        "iteration": 12,
                        "remaining_time": 7.609452614,
                        "learn": [
                          0.7525208623,
                          0.7238855108
                        ]
                      },
                      {
                        "test": [
                          0.7538390218,
                          0.719298044
                        ],
                        "passed_time": 0.2177560983,
                        "iteration": 13,
                        "remaining_time": 7.559247413,
                        "learn": [
                          0.7524918869,
                          0.7178453427
                        ]
                      },
                      {
                        "test": [
                          0.7537231268,
                          0.7144022839
                        ],
                        "passed_time": 0.2324162092,
                        "iteration": 14,
                        "remaining_time": 7.514790764,
                        "learn": [
                          0.7523759852,
                          0.7127669521
                        ]
                      },
                      {
                        "test": [
                          0.7541287593,
                          0.7100729499
                        ],
                        "passed_time": 0.2475831222,
                        "iteration": 15,
                        "remaining_time": 7.489389446,
                        "learn": [
                          0.7524918869,
                          0.7082933513
                        ]
                      },
                      {
                        "test": [
                          0.7543026018,
                          0.7065858437
                        ],
                        "passed_time": 0.262547436,
                        "iteration": 16,
                        "remaining_time": 7.459435976,
                        "learn": [
                          0.7525208623,
                          0.7045918102
                        ]
                      },
                      {
                        "test": [
                          0.7540708118,
                          0.7034741927
                        ],
                        "passed_time": 0.2775342615,
                        "iteration": 17,
                        "remaining_time": 7.431750779,
                        "learn": [
                          0.752636764,
                          0.7014643576
                        ]
                      },
                      {
                        "test": [
                          0.7540708118,
                          0.7007591512
                        ],
                        "passed_time": 0.2926522977,
                        "iteration": 18,
                        "remaining_time": 7.408723958,
                        "learn": [
                          0.7526077886,
                          0.6987060702
                        ]
                      },
                      {
                        "test": [
                          0.7538390218,
                          0.6984558849
                        ],
                        "passed_time": 0.3076143369,
                        "iteration": 19,
                        "remaining_time": 7.382744085,
                        "learn": [
                          0.7526657395,
                          0.696200063
                        ]
                      },
                      {
                        "test": [
                          0.7539549168,
                          0.6966220697
                        ],
                        "passed_time": 0.3230584349,
                        "iteration": 20,
                        "remaining_time": 7.368809064,
                        "learn": [
                          0.7527236903,
                          0.6942144147
                        ]
                      },
                      {
                        "test": [
                          0.7539549168,
                          0.695070413
                        ],
                        "passed_time": 0.3383167902,
                        "iteration": 21,
                        "remaining_time": 7.350701169,
                        "learn": [
                          0.7527236903,
                          0.6925369005
                        ]
                      },
                      {
                        "test": [
                          0.7538969693,
                          0.6938070798
                        ],
                        "passed_time": 0.3539903276,
                        "iteration": 22,
                        "remaining_time": 7.341451576,
                        "learn": [
                          0.7527236903,
                          0.6911427474
                        ]
                      },
                      {
                        "test": [
                          0.7538969693,
                          0.6927137563
                        ],
                        "passed_time": 0.3691037081,
                        "iteration": 23,
                        "remaining_time": 7.320556878,
                        "learn": [
                          0.752636764,
                          0.6900065345
                        ]
                      },
                      {
                        "test": [
                          0.7538969693,
                          0.6917980356
                        ],
                        "passed_time": 0.3871585292,
                        "iteration": 24,
                        "remaining_time": 7.356012055,
                        "learn": [
                          0.7525498377,
                          0.6889527556
                        ]
                      },
                      {
                        "test": [
                          0.7537810743,
                          0.6908619289
                        ],
                        "passed_time": 0.4025635261,
                        "iteration": 25,
                        "remaining_time": 7.339042744,
                        "learn": [
                          0.7527816412,
                          0.6878033811
                        ]
                      },
                      {
                        "test": [
                          0.7537231268,
                          0.6898615834
                        ],
                        "passed_time": 0.4205713596,
                        "iteration": 26,
                        "remaining_time": 7.367787151,
                        "learn": [
                          0.7528106166,
                          0.68663664
                        ]
                      },
                      {
                        "test": [
                          0.7538969693,
                          0.6890872426
                        ],
                        "passed_time": 0.4467591868,
                        "iteration": 27,
                        "remaining_time": 7.531083434,
                        "learn": [
                          0.7527236903,
                          0.6856957913
                        ]
                      },
                      {
                        "test": [
                          0.7540708118,
                          0.6885119098
                        ],
                        "passed_time": 0.4631377966,
                        "iteration": 28,
                        "remaining_time": 7.521996628,
                        "learn": [
                          0.7526657395,
                          0.6848503621
                        ]
                      },
                      {
                        "test": [
                          0.7536651793,
                          0.6881277813
                        ],
                        "passed_time": 0.477838277,
                        "iteration": 29,
                        "remaining_time": 7.486133006,
                        "learn": [
                          0.7528975429,
                          0.6843648562
                        ]
                      },
                      {
                        "test": [
                          0.7538969693,
                          0.6877104029
                        ],
                        "passed_time": 0.4930382291,
                        "iteration": 30,
                        "remaining_time": 7.459191272,
                        "learn": [
                          0.7528975429,
                          0.6837554598
                        ]
                      },
                      {
                        "test": [
                          0.7539549168,
                          0.6870876075
                        ],
                        "passed_time": 0.5085645543,
                        "iteration": 31,
                        "remaining_time": 7.437756607,
                        "learn": [
                          0.7527816412,
                          0.6831169308
                        ]
                      },
                      {
                        "test": [
                          0.7538969693,
                          0.6867200095
                        ],
                        "passed_time": 0.5275623499,
                        "iteration": 32,
                        "remaining_time": 7.465806588,
                        "learn": [
                          0.75304242,
                          0.6826357755
                        ]
                      },
                      {
                        "test": [
                          0.7540128643,
                          0.6863951751
                        ],
                        "passed_time": 0.5433579926,
                        "iteration": 33,
                        "remaining_time": 7.447200722,
                        "learn": [
                          0.7528685675,
                          0.6821605769
                        ]
                      },
                      {
                        "test": [
                          0.7541287593,
                          0.6861135197
                        ],
                        "passed_time": 0.5591072327,
                        "iteration": 34,
                        "remaining_time": 7.428138949,
                        "learn": [
                          0.7528975429,
                          0.6816852603
                        ]
                      },
                      {
                        "test": [
                          0.7541287593,
                          0.6857508906
                        ],
                        "passed_time": 0.5744363136,
                        "iteration": 35,
                        "remaining_time": 7.40384582,
                        "learn": [
                          0.7527816412,
                          0.681194758
                        ]
                      },
                      {
                        "test": [
                          0.7541867068,
                          0.685344752
                        ],
                        "passed_time": 0.589518002,
                        "iteration": 36,
                        "remaining_time": 7.376941484,
                        "learn": [
                          0.7528106166,
                          0.6806556291
                        ]
                      },
                      {
                        "test": [
                          0.7543605493,
                          0.6850001398
                        ],
                        "passed_time": 0.6051098063,
                        "iteration": 37,
                        "remaining_time": 7.356861329,
                        "learn": [
                          0.752839592,
                          0.6802342059
                        ]
                      },
                      {
                        "test": [
                          0.7543026018,
                          0.6846978083
                        ],
                        "passed_time": 0.6205146186,
                        "iteration": 38,
                        "remaining_time": 7.334801005,
                        "learn": [
                          0.7528975429,
                          0.6798334422
                        ]
                      },
                      {
                        "test": [
                          0.7544184968,
                          0.6845750298
                        ],
                        "passed_time": 0.635619581,
                        "iteration": 39,
                        "remaining_time": 7.309625181,
                        "learn": [
                          0.7529265183,
                          0.6795811737
                        ]
                      },
                      {
                        "test": [
                          0.7544184968,
                          0.684393346
                        ],
                        "passed_time": 0.6515645081,
                        "iteration": 40,
                        "remaining_time": 7.294344128,
                        "learn": [
                          0.7530134446,
                          0.6792237178
                        ]
                      },
                      {
                        "test": [
                          0.7542446543,
                          0.6842239076
                        ],
                        "passed_time": 0.6668381119,
                        "iteration": 41,
                        "remaining_time": 7.27171084,
                        "learn": [
                          0.7529265183,
                          0.6789408679
                        ]
                      },
                      {
                        "test": [
                          0.7542446543,
                          0.6842020636
                        ],
                        "passed_time": 0.6816797722,
                        "iteration": 42,
                        "remaining_time": 7.244829207,
                        "learn": [
                          0.7527816412,
                          0.678644317
                        ]
                      },
                      {
                        "test": [
                          0.7543026018,
                          0.6840634746
                        ],
                        "passed_time": 0.6967608428,
                        "iteration": 43,
                        "remaining_time": 7.220976008,
                        "learn": [
                          0.7530134446,
                          0.678361585
                        ]
                      },
                      {
                        "test": [
                          0.7544764443,
                          0.6839542006
                        ],
                        "passed_time": 0.7128342024,
                        "iteration": 44,
                        "remaining_time": 7.207545825,
                        "learn": [
                          0.7530134446,
                          0.678112299
                        ]
                      },
                      {
                        "test": [
                          0.7544764443,
                          0.6838782417
                        ],
                        "passed_time": 0.7283451051,
                        "iteration": 45,
                        "remaining_time": 7.188449515,
                        "learn": [
                          0.7530134446,
                          0.6778053473
                        ]
                      },
                      {
                        "test": [
                          0.7544184968,
                          0.6837288714
                        ],
                        "passed_time": 0.7435095379,
                        "iteration": 46,
                        "remaining_time": 7.166166398,
                        "learn": [
                          0.7529844692,
                          0.6775640086
                        ]
                      },
                      {
                        "test": [
                          0.7541867068,
                          0.6832869801
                        ],
                        "passed_time": 0.7592995585,
                        "iteration": 47,
                        "remaining_time": 7.150070842,
                        "learn": [
                          0.7529844692,
                          0.677071563
                        ]
                      },
                      {
                        "test": [
                          0.7542446543,
                          0.6830326378
                        ],
                        "passed_time": 0.775236742,
                        "iteration": 48,
                        "remaining_time": 7.135342258,
                        "learn": [
                          0.7529554937,
                          0.676664679
                        ]
                      },
                      {
                        "test": [
                          0.7542446543,
                          0.6829077525
                        ],
                        "passed_time": 0.7901402916,
                        "iteration": 49,
                        "remaining_time": 7.111262625,
                        "learn": [
                          0.7529554937,
                          0.6764064217
                        ]
                      },
                      {
                        "test": [
                          0.7541867068,
                          0.6827375662
                        ],
                        "passed_time": 0.8056867907,
                        "iteration": 50,
                        "remaining_time": 7.093203315,
                        "learn": [
                          0.7530134446,
                          0.6761333456
                        ]
                      },
                      {
                        "test": [
                          0.7542446543,
                          0.6826062231
                        ],
                        "passed_time": 0.8207341159,
                        "iteration": 51,
                        "remaining_time": 7.070940075,
                        "learn": [
                          0.7529554937,
                          0.6758885627
                        ]
                      },
                      {
                        "test": [
                          0.7543026018,
                          0.6825597226
                        ],
                        "passed_time": 0.8351542964,
                        "iteration": 52,
                        "remaining_time": 7.043659821,
                        "learn": [
                          0.7530134446,
                          0.6757542032
                        ]
                      },
                      {
                        "test": [
                          0.7544184968,
                          0.6825191401
                        ],
                        "passed_time": 0.8501912342,
                        "iteration": 53,
                        "remaining_time": 7.021949823,
                        "learn": [
                          0.7529844692,
                          0.6755827152
                        ]
                      },
                      {
                        "test": [
                          0.7543605493,
                          0.6824524544
                        ],
                        "passed_time": 0.8650471389,
                        "iteration": 54,
                        "remaining_time": 6.99901776,
                        "learn": [
                          0.7532162726,
                          0.6754083789
                        ]
                      },
                      {
                        "test": [
                          0.7543605493,
                          0.6824197294
                        ],
                        "passed_time": 0.8790069908,
                        "iteration": 55,
                        "remaining_time": 6.969269713,
                        "learn": [
                          0.753448076,
                          0.6752769209
                        ]
                      },
                      {
                        "test": [
                          0.7543605493,
                          0.6823597224
                        ],
                        "passed_time": 0.8945284903,
                        "iteration": 56,
                        "remaining_time": 6.952212653,
                        "learn": [
                          0.7533901252,
                          0.6750191547
                        ]
                      },
                      {
                        "test": [
                          0.7544764443,
                          0.682306804
                        ],
                        "passed_time": 0.9090164719,
                        "iteration": 57,
                        "remaining_time": 6.927332423,
                        "learn": [
                          0.7534191006,
                          0.6748902488
                        ]
                      },
                      {
                        "test": [
                          0.7544764443,
                          0.6821389549
                        ],
                        "passed_time": 0.9242892647,
                        "iteration": 58,
                        "remaining_time": 6.908670606,
                        "learn": [
                          0.7534770515,
                          0.6746081276
                        ]
                      },
                      {
                        "test": [
                          0.7546502868,
                          0.6819771311
                        ],
                        "passed_time": 0.9509811407,
                        "iteration": 59,
                        "remaining_time": 6.973861699,
                        "learn": [
                          0.7533901252,
                          0.6743731434
                        ]
                      },
                      {
                        "test": [
                          0.7546502868,
                          0.6818157209
                        ],
                        "passed_time": 0.9661912488,
                        "iteration": 60,
                        "remaining_time": 6.953409151,
                        "learn": [
                          0.7535350023,
                          0.6741243708
                        ]
                      },
                      {
                        "test": [
                          0.7545923393,
                          0.6817487514
                        ],
                        "passed_time": 0.9813455461,
                        "iteration": 61,
                        "remaining_time": 6.932731439,
                        "learn": [
                          0.7534770515,
                          0.673967567
                        ]
                      },
                      {
                        "test": [
                          0.7545343918,
                          0.6816707682
                        ],
                        "passed_time": 0.9995303293,
                        "iteration": 62,
                        "remaining_time": 6.933250062,
                        "learn": [
                          0.7533321743,
                          0.6737948866
                        ]
                      },
                      {
                        "test": [
                          0.7545923393,
                          0.6816232124
                        ],
                        "passed_time": 1.014922576,
                        "iteration": 63,
                        "remaining_time": 6.914160048,
                        "learn": [
                          0.7533901252,
                          0.6736291102
                        ]
                      },
                      {
                        "test": [
                          0.7543605493,
                          0.6815586068
                        ],
                        "passed_time": 1.029306222,
                        "iteration": 64,
                        "remaining_time": 6.888433945,
                        "learn": [
                          0.7534191006,
                          0.6734660343
                        ]
                      },
                      {
                        "test": [
                          0.7543605493,
                          0.6815139568
                        ],
                        "passed_time": 1.044716748,
                        "iteration": 65,
                        "remaining_time": 6.869804073,
                        "learn": [
                          0.753448076,
                          0.6733333053
                        ]
                      },
                      {
                        "test": [
                          0.7544764443,
                          0.6814827776
                        ],
                        "passed_time": 1.061030055,
                        "iteration": 66,
                        "remaining_time": 6.857104682,
                        "learn": [
                          0.753448076,
                          0.6732140342
                        ]
                      },
                      {
                        "test": [
                          0.7544764443,
                          0.6814508187
                        ],
                        "passed_time": 1.075702532,
                        "iteration": 67,
                        "remaining_time": 6.83387491,
                        "learn": [
                          0.753448076,
                          0.673102264
                        ]
                      },
                      {
                        "test": [
                          0.7544764443,
                          0.6813473377
                        ],
                        "passed_time": 1.092949981,
                        "iteration": 68,
                        "remaining_time": 6.826977416,
                        "learn": [
                          0.7533901252,
                          0.6727800413
                        ]
                      },
                      {
                        "test": [
                          0.7545343918,
                          0.6812845537
                        ],
                        "passed_time": 1.117112511,
                        "iteration": 69,
                        "remaining_time": 6.862262567,
                        "learn": [
                          0.7534191006,
                          0.6726273612
                        ]
                      },
                      {
                        "test": [
                          0.7544764443,
                          0.6812910423
                        ],
                        "passed_time": 1.132043076,
                        "iteration": 70,
                        "remaining_time": 6.84009126,
                        "learn": [
                          0.7533901252,
                          0.67252282
                        ]
                      },
                      {
                        "test": [
                          0.7543605493,
                          0.6812614928
                        ],
                        "passed_time": 1.146548495,
                        "iteration": 71,
                        "remaining_time": 6.815593831,
                        "learn": [
                          0.7535639777,
                          0.6724447544
                        ]
                      },
                      {
                        "test": [
                          0.7542446543,
                          0.6812353211
                        ],
                        "passed_time": 1.161665803,
                        "iteration": 72,
                        "remaining_time": 6.794949285,
                        "learn": [
                          0.7534770515,
                          0.6722833356
                        ]
                      },
                      {
                        "test": [
                          0.7543605493,
                          0.6812356236
                        ],
                        "passed_time": 1.176244198,
                        "iteration": 73,
                        "remaining_time": 6.771351734,
                        "learn": [
                          0.7535929532,
                          0.6722058969
                        ]
                      },
                      {
                        "test": [
                          0.7544764443,
                          0.6812292336
                        ],
                        "passed_time": 1.19098787,
                        "iteration": 74,
                        "remaining_time": 6.748931265,
                        "learn": [
                          0.7537088549,
                          0.6721168923
                        ]
                      },
                      {
                        "test": [
                          0.7543605493,
                          0.6811229073
                        ],
                        "passed_time": 1.211490267,
                        "iteration": 75,
                        "remaining_time": 6.758840435,
                        "learn": [
                          0.7536219286,
                          0.6719725688
                        ]
                      },
                      {
                        "test": [
                          0.7543026018,
                          0.6811157421
                        ],
                        "passed_time": 1.226978372,
                        "iteration": 76,
                        "remaining_time": 6.740413655,
                        "learn": [
                          0.7535929532,
                          0.6719014298
                        ]
                      },
                      {
                        "test": [
                          0.7543605493,
                          0.6810882159
                        ],
                        "passed_time": 1.242114471,
                        "iteration": 77,
                        "remaining_time": 6.72015778,
                        "learn": [
                          0.7537668057,
                          0.6717974462
                        ]
                      },
                      {
                        "test": [
                          0.7541867068,
                          0.6810746767
                        ],
                        "passed_time": 1.257647273,
                        "iteration": 78,
                        "remaining_time": 6.702145593,
                        "learn": [
                          0.7537668057,
                          0.6716579833
                        ]
                      },
                      {
                        "test": [
                          0.7542446543,
                          0.6808356527
                        ],
                        "passed_time": 1.272957943,
                        "iteration": 79,
                        "remaining_time": 6.683029199,
                        "learn": [
                          0.7535929532,
                          0.6714118528
                        ]
                      },
                      {
                        "test": [
                          0.7541287593,
                          0.6808532125
                        ],
                        "passed_time": 1.287664686,
                        "iteration": 80,
                        "remaining_time": 6.660882757,
                        "learn": [
                          0.7537378303,
                          0.6712750402
                        ]
                      },
                      {
                        "test": [
                          0.7540708118,
                          0.6807359663
                        ],
                        "passed_time": 1.303200057,
                        "iteration": 81,
                        "remaining_time": 6.643141754,
                        "learn": [
                          0.753650904,
                          0.671088426
                        ]
                      },
                      {
                        "test": [
                          0.7541287593,
                          0.6807289896
                        ],
                        "passed_time": 1.318400738,
                        "iteration": 82,
                        "remaining_time": 6.623772383,
                        "learn": [
                          0.753650904,
                          0.6709162878
                        ]
                      },
                      {
                        "test": [
                          0.7540708118,
                          0.6806878736
                        ],
                        "passed_time": 1.333157567,
                        "iteration": 83,
                        "remaining_time": 6.602304141,
                        "learn": [
                          0.7537668057,
                          0.6708302789
                        ]
                      },
                      {
                        "test": [
                          0.7540128643,
                          0.680702641
                        ],
                        "passed_time": 1.349008126,
                        "iteration": 84,
                        "remaining_time": 6.586333793,
                        "learn": [
                          0.753650904,
                          0.6706203743
                        ]
                      },
                      {
                        "test": [
                          0.7541287593,
                          0.6806995811
                        ],
                        "passed_time": 1.363344925,
                        "iteration": 85,
                        "remaining_time": 6.563079056,
                        "learn": [
                          0.7536798795,
                          0.6705756456
                        ]
                      },
                      {
                        "test": [
                          0.7543026018,
                          0.6806759904
                        ],
                        "passed_time": 1.378279295,
                        "iteration": 86,
                        "remaining_time": 6.54286608,
                        "learn": [
                          0.7539406583,
                          0.6704788449
                        ]
                      },
                      {
                        "test": [
                          0.7542446543,
                          0.6806413552
                        ],
                        "passed_time": 1.401828518,
                        "iteration": 87,
                        "remaining_time": 6.563106242,
                        "learn": [
                          0.7539696338,
                          0.6703395608
                        ]
                      },
                      {
                        "test": [
                          0.7544764443,
                          0.6805168757
                        ],
                        "passed_time": 1.417555781,
                        "iteration": 88,
                        "remaining_time": 6.546240742,
                        "learn": [
                          0.7538827075,
                          0.6701949166
                        ]
                      },
                      {
                        "test": [
                          0.7541287593,
                          0.6804824529
                        ],
                        "passed_time": 1.432500486,
                        "iteration": 89,
                        "remaining_time": 6.525835546,
                        "learn": [
                          0.7539986092,
                          0.6700635558
                        ]
                      },
                      {
                        "test": [
                          0.7542446543,
                          0.6804812827
                        ],
                        "passed_time": 1.463750025,
                        "iteration": 90,
                        "remaining_time": 6.578832531,
                        "learn": [
                          0.7539406583,
                          0.6698293531
                        ]
                      },
                      {
                        "test": [
                          0.7541867068,
                          0.6804523846
                        ],
                        "passed_time": 1.47844707,
                        "iteration": 91,
                        "remaining_time": 6.556591354,
                        "learn": [
                          0.7539696338,
                          0.6697090063
                        ]
                      },
                      {
                        "test": [
                          0.7541867068,
                          0.6804100733
                        ],
                        "passed_time": 1.493678894,
                        "iteration": 92,
                        "remaining_time": 6.536852793,
                        "learn": [
                          0.75405656,
                          0.6695762376
                        ]
                      },
                      {
                        "test": [
                          0.7541287593,
                          0.6804169493
                        ],
                        "passed_time": 1.508661513,
                        "iteration": 93,
                        "remaining_time": 6.516133767,
                        "learn": [
                          0.7539696338,
                          0.6694711781
                        ]
                      },
                      {
                        "test": [
                          0.7541287593,
                          0.6803845135
                        ],
                        "passed_time": 1.527494527,
                        "iteration": 94,
                        "remaining_time": 6.511950352,
                        "learn": [
                          0.7540275846,
                          0.6693062077
                        ]
                      },
                      {
                        "test": [
                          0.7543026018,
                          0.6803684866
                        ],
                        "passed_time": 1.542286277,
                        "iteration": 95,
                        "remaining_time": 6.490454748,
                        "learn": [
                          0.7540855355,
                          0.6692084554
                        ]
                      },
                      {
                        "test": [
                          0.7541867068,
                          0.6803912158
                        ],
                        "passed_time": 1.557918225,
                        "iteration": 96,
                        "remaining_time": 6.47258809,
                        "learn": [
                          0.7540855355,
                          0.6690678674
                        ]
                      },
                      {
                        "test": [
                          0.7543026018,
                          0.6803914802
                        ],
                        "passed_time": 1.573134527,
                        "iteration": 97,
                        "remaining_time": 6.453062038,
                        "learn": [
                          0.7541434863,
                          0.6689398239
                        ]
                      },
                      {
                        "test": [
                          0.7541867068,
                          0.6802905389
                        ],
                        "passed_time": 1.588530666,
                        "iteration": 98,
                        "remaining_time": 6.434351485,
                        "learn": [
                          0.7540855355,
                          0.6687775998
                        ]
                      },
                      {
                        "test": [
                          0.7542446543,
                          0.6803232923
                        ],
                        "passed_time": 1.602867822,
                        "iteration": 99,
                        "remaining_time": 6.411471287,
                        "learn": [
                          0.754259388,
                          0.6686835954
                        ]
                      },
                      {
                        "test": [
                          0.7542446543,
                          0.6802933368
                        ],
                        "passed_time": 1.617610303,
                        "iteration": 100,
                        "remaining_time": 6.390361495,
                        "learn": [
                          0.7544332406,
                          0.6685973409
                        ]
                      },
                      {
                        "test": [
                          0.7543026018,
                          0.6802728721
                        ],
                        "passed_time": 1.632513042,
                        "iteration": 101,
                        "remaining_time": 6.370001869,
                        "learn": [
                          0.7542883635,
                          0.6685230003
                        ]
                      },
                      {
                        "test": [
                          0.7540708118,
                          0.6802682505
                        ],
                        "passed_time": 1.647064289,
                        "iteration": 102,
                        "remaining_time": 6.348393426,
                        "learn": [
                          0.7544911915,
                          0.6683989249
                        ]
                      },
                      {
                        "test": [
                          0.7543026018,
                          0.6802599701
                        ],
                        "passed_time": 1.661704542,
                        "iteration": 103,
                        "remaining_time": 6.327259604,
                        "learn": [
                          0.754665044,
                          0.6683232264
                        ]
                      },
                      {
                        "test": [
                          0.7541867068,
                          0.680225766
                        ],
                        "passed_time": 1.676151433,
                        "iteration": 104,
                        "remaining_time": 6.305522058,
                        "learn": [
                          0.7545201669,
                          0.6681823749
                        ]
                      },
                      {
                        "test": [
                          0.7543026018,
                          0.6802011516
                        ],
                        "passed_time": 1.690081948,
                        "iteration": 105,
                        "remaining_time": 6.282002714,
                        "learn": [
                          0.7546070932,
                          0.668075964
                        ]
                      },
                      {
                        "test": [
                          0.7541287593,
                          0.680048604
                        ],
                        "passed_time": 1.709214334,
                        "iteration": 106,
                        "remaining_time": 6.277768535,
                        "learn": [
                          0.7545491423,
                          0.6678929071
                        ]
                      },
                      {
                        "test": [
                          0.7543026018,
                          0.6800455768
                        ],
                        "passed_time": 1.725168386,
                        "iteration": 107,
                        "remaining_time": 6.26172229,
                        "learn": [
                          0.754665044,
                          0.6678016699
                        ]
                      },
                      {
                        "test": [
                          0.7542446543,
                          0.6800713211
                        ],
                        "passed_time": 1.739843728,
                        "iteration": 108,
                        "remaining_time": 6.241090805,
                        "learn": [
                          0.7547519703,
                          0.6677127796
                        ]
                      },
                      {
                        "test": [
                          0.7540708118,
                          0.6800505733
                        ],
                        "passed_time": 1.754632327,
                        "iteration": 109,
                        "remaining_time": 6.22096916,
                        "learn": [
                          0.7547229949,
                          0.6676765777
                        ]
                      },
                      {
                        "test": [
                          0.7542446543,
                          0.6800649724
                        ],
                        "passed_time": 1.768781504,
                        "iteration": 110,
                        "remaining_time": 6.198702749,
                        "learn": [
                          0.7547229949,
                          0.6675713986
                        ]
                      },
                      {
                        "test": [
                          0.7540708118,
                          0.6800655353
                        ],
                        "passed_time": 1.783475673,
                        "iteration": 111,
                        "remaining_time": 6.178469295,
                        "learn": [
                          0.7550417246,
                          0.6674176916
                        ]
                      },
                      {
                        "test": [
                          0.7541287593,
                          0.6800304471
                        ],
                        "passed_time": 1.797798376,
                        "iteration": 112,
                        "remaining_time": 6.157061696,
                        "learn": [
                          0.7550127492,
                          0.6673438078
                        ]
                      },
                      {
                        "test": [
                          0.7540708118,
                          0.6800408542
                        ],
                        "passed_time": 1.812533452,
                        "iteration": 113,
                        "remaining_time": 6.13717467,
                        "learn": [
                          0.7552155772,
                          0.6672304535
                        ]
                      },
                      {
                        "test": [
                          0.7540708118,
                          0.6800213962
                        ],
                        "passed_time": 1.827264224,
                        "iteration": 114,
                        "remaining_time": 6.117362838,
                        "learn": [
                          0.7550996755,
                          0.6670836392
                        ]
                      },
                      {
                        "test": [
                          0.7540128643,
                          0.6799723224
                        ],
                        "passed_time": 1.842154944,
                        "iteration": 115,
                        "remaining_time": 6.09816809,
                        "learn": [
                          0.7549547983,
                          0.6669461899
                        ]
                      },
                      {
                        "test": [
                          0.7541287593,
                          0.6800043278
                        ],
                        "passed_time": 1.857572682,
                        "iteration": 116,
                        "remaining_time": 6.080772111,
                        "learn": [
                          0.7548968475,
                          0.6668176933
                        ]
                      },
                      {
                        "test": [
                          0.7542446543,
                          0.6800026005
                        ],
                        "passed_time": 1.871459683,
                        "iteration": 117,
                        "remaining_time": 6.058454228,
                        "learn": [
                          0.7553604543,
                          0.6666929149
                        ]
                      },
                      {
                        "test": [
                          0.7543026018,
                          0.6799496251
                        ],
                        "passed_time": 1.889585957,
                        "iteration": 118,
                        "remaining_time": 6.049850838,
                        "learn": [
                          0.7552155772,
                          0.6665096505
                        ]
                      },
                      {
                        "test": [
                          0.7542446543,
                          0.6799596896
                        ],
                        "passed_time": 1.910820201,
                        "iteration": 119,
                        "remaining_time": 6.050930636,
                        "learn": [
                          0.7551866018,
                          0.666426995
                        ]
                      },
                      {
                        "test": [
                          0.7541287593,
                          0.6799617333
                        ],
                        "passed_time": 1.925109467,
                        "iteration": 120,
                        "remaining_time": 6.029888332,
                        "learn": [
                          0.7551576263,
                          0.6663005126
                        ]
                      },
                      {
                        "test": [
                          0.7541867068,
                          0.6799675583
                        ],
                        "passed_time": 1.959136232,
                        "iteration": 121,
                        "remaining_time": 6.070110622,
                        "learn": [
                          0.7553604543,
                          0.6662365105
                        ]
                      },
                      {
                        "test": [
                          0.7541867068,
                          0.679979304
                        ],
                        "passed_time": 1.974054987,
                        "iteration": 122,
                        "remaining_time": 6.05055878,
                        "learn": [
                          0.7554473806,
                          0.66615227
                        ]
                      },
                      {
                        "test": [
                          0.7541287593,
                          0.679979964
                        ],
                        "passed_time": 1.988169297,
                        "iteration": 123,
                        "remaining_time": 6.028642384,
                        "learn": [
                          0.7556502086,
                          0.6660571053
                        ]
                      },
                      {
                        "test": [
                          0.7542446543,
                          0.6800014113
                        ],
                        "passed_time": 2.002213096,
                        "iteration": 124,
                        "remaining_time": 6.006639287,
                        "learn": [
                          0.7555632823,
                          0.6659743268
                        ]
                      },
                      {
                        "test": [
                          0.7540128643,
                          0.6799739791
                        ],
                        "passed_time": 2.01592384,
                        "iteration": 125,
                        "remaining_time": 5.983773937,
                        "learn": [
                          0.7559109875,
                          0.6658769456
                        ]
                      },
                      {
                        "test": [
                          0.7541287593,
                          0.6799324654
                        ],
                        "passed_time": 2.030362906,
                        "iteration": 126,
                        "remaining_time": 5.963191842,
                        "learn": [
                          0.7559979138,
                          0.6657822462
                        ]
                      },
                      {
                        "test": [
                          0.7542446543,
                          0.6799291314
                        ],
                        "passed_time": 2.045477842,
                        "iteration": 127,
                        "remaining_time": 5.944669979,
                        "learn": [
                          0.7559979138,
                          0.6656584715
                        ]
                      },
                      {
                        "test": [
                          0.7540128643,
                          0.6799247366
                        ],
                        "passed_time": 2.061229668,
                        "iteration": 128,
                        "remaining_time": 5.928032611,
                        "learn": [
                          0.7558530366,
                          0.6655784642
                        ]
                      },
                      {
                        "test": [
                          0.7538969693,
                          0.6799067502
                        ],
                        "passed_time": 2.075293866,
                        "iteration": 129,
                        "remaining_time": 5.906605619,
                        "learn": [
                          0.7561138155,
                          0.665484341
                        ]
                      },
                      {
                        "test": [
                          0.7538969693,
                          0.6798757692
                        ],
                        "passed_time": 2.091195087,
                        "iteration": 130,
                        "remaining_time": 5.89046555,
                        "learn": [
                          0.7561138155,
                          0.6653350444
                        ]
                      },
                      {
                        "test": [
                          0.7541287593,
                          0.6798504609
                        ],
                        "passed_time": 2.10548049,
                        "iteration": 131,
                        "remaining_time": 5.869824397,
                        "learn": [
                          0.7560848401,
                          0.6652254163
                        ]
                      },
                      {
                        "test": [
                          0.7541867068,
                          0.6798324603
                        ],
                        "passed_time": 2.120124669,
                        "iteration": 132,
                        "remaining_time": 5.850268824,
                        "learn": [
                          0.7561138155,
                          0.6651229717
                        ]
                      },
                      {
                        "test": [
                          0.7541287593,
                          0.679810038
                        ],
                        "passed_time": 2.135000839,
                        "iteration": 133,
                        "remaining_time": 5.831420201,
                        "learn": [
                          0.7560848401,
                          0.6649849935
                        ]
                      },
                      {
                        "test": [
                          0.7542446543,
                          0.6797465489
                        ],
                        "passed_time": 2.150836454,
                        "iteration": 134,
                        "remaining_time": 5.815224487,
                        "learn": [
                          0.7561717663,
                          0.6648738483
                        ]
                      },
                      {
                        "test": [
                          0.7544184968,
                          0.6797567727
                        ],
                        "passed_time": 2.165581762,
                        "iteration": 135,
                        "remaining_time": 5.796115893,
                        "learn": [
                          0.7562297172,
                          0.6647551429
                        ]
                      },
                      {
                        "test": [
                          0.7544184968,
                          0.6797536605
                        ],
                        "passed_time": 2.179727054,
                        "iteration": 136,
                        "remaining_time": 5.775481171,
                        "learn": [
                          0.7561717663,
                          0.6646701184
                        ]
                      },
                      {
                        "test": [
                          0.7543605493,
                          0.6796983075
                        ],
                        "passed_time": 2.193982538,
                        "iteration": 137,
                        "remaining_time": 5.755229556,
                        "learn": [
                          0.7562586926,
                          0.6645901563
                        ]
                      },
                      {
                        "test": [
                          0.7541287593,
                          0.6797040987
                        ],
                        "passed_time": 2.207909144,
                        "iteration": 138,
                        "remaining_time": 5.734210079,
                        "learn": [
                          0.7564035698,
                          0.6644735925
                        ]
                      },
                      {
                        "test": [
                          0.7542446543,
                          0.6796801001
                        ],
                        "passed_time": 2.221877044,
                        "iteration": 139,
                        "remaining_time": 5.713398113,
                        "learn": [
                          0.7564615206,
                          0.6644156389
                        ]
                      },
                      {
                        "test": [
                          0.7538390218,
                          0.6796863134
                        ],
                        "passed_time": 2.236687606,
                        "iteration": 140,
                        "remaining_time": 5.694828728,
                        "learn": [
                          0.7564325452,
                          0.6643144718
                        ]
                      },
                      {
                        "test": [
                          0.7541287593,
                          0.6797205332
                        ],
                        "passed_time": 2.252290886,
                        "iteration": 141,
                        "remaining_time": 5.678310825,
                        "learn": [
                          0.7564325452,
                          0.6642221009
                        ]
                      },
                      {
                        "test": [
                          0.7540708118,
                          0.6797319962
                        ],
                        "passed_time": 2.273899712,
                        "iteration": 142,
                        "remaining_time": 5.676798581,
                        "learn": [
                          0.7564615206,
                          0.6641001044
                        ]
                      },
                      {
                        "test": [
                          0.7540128643,
                          0.6797816041
                        ],
                        "passed_time": 2.289022886,
                        "iteration": 143,
                        "remaining_time": 5.658973245,
                        "learn": [
                          0.7564904961,
                          0.6639643263
                        ]
                      },
                      {
                        "test": [
                          0.7540128643,
                          0.6797713869
                        ],
                        "passed_time": 2.303401424,
                        "iteration": 144,
                        "remaining_time": 5.639362106,
                        "learn": [
                          0.7567222995,
                          0.6639078576
                        ]
                      },
                      {
                        "test": [
                          0.7539549168,
                          0.6797905735
                        ],
                        "passed_time": 2.317897813,
                        "iteration": 145,
                        "remaining_time": 5.620108397,
                        "learn": [
                          0.7567802503,
                          0.6637845832
                        ]
                      },
                      {
                        "test": [
                          0.7538969693,
                          0.6797961883
                        ],
                        "passed_time": 2.332292223,
                        "iteration": 146,
                        "remaining_time": 5.600674522,
                        "learn": [
                          0.7567512749,
                          0.6636619682
                        ]
                      },
                      {
                        "test": [
                          0.7538390218,
                          0.6798054502
                        ],
                        "passed_time": 2.346501383,
                        "iteration": 147,
                        "remaining_time": 5.580868154,
                        "learn": [
                          0.7568961521,
                          0.663609951
                        ]
                      },
                      {
                        "test": [
                          0.7538969693,
                          0.6797219867
                        ],
                        "passed_time": 2.36121627,
                        "iteration": 148,
                        "remaining_time": 5.56232826,
                        "learn": [
                          0.7568961521,
                          0.6634884296
                        ]
                      },
                      {
                        "test": [
                          0.7539549168,
                          0.679748036
                        ],
                        "passed_time": 2.37602568,
                        "iteration": 149,
                        "remaining_time": 5.544059921,
                        "learn": [
                          0.7568092258,
                          0.6633581241
                        ]
                      },
                      {
                        "test": [
                          0.7539549168,
                          0.6797736559
                        ],
                        "passed_time": 2.390795944,
                        "iteration": 150,
                        "remaining_time": 5.525746917,
                        "learn": [
                          0.7568382012,
                          0.6632683548
                        ]
                      },
                      {
                        "test": [
                          0.7540708118,
                          0.6797795734
                        ],
                        "passed_time": 2.404982563,
                        "iteration": 151,
                        "remaining_time": 5.506144289,
                        "learn": [
                          0.7570700046,
                          0.663194156
                        ]
                      },
                      {
                        "test": [
                          0.7540708118,
                          0.6798382031
                        ],
                        "passed_time": 2.419774632,
                        "iteration": 152,
                        "remaining_time": 5.487985603,
                        "learn": [
                          0.7571569309,
                          0.6630721893
                        ]
                      },
                      {
                        "test": [
                          0.7538969693,
                          0.6798077931
                        ],
                        "passed_time": 2.435176528,
                        "iteration": 153,
                        "remaining_time": 5.47124077,
                        "learn": [
                          0.7570700046,
                          0.6629390516
                        ]
                      },
                      {
                        "test": [
                          0.7538969693,
                          0.6797795147
                        ],
                        "passed_time": 2.448845769,
                        "iteration": 154,
                        "remaining_time": 5.450656712,
                        "learn": [
                          0.7572728326,
                          0.662865386
                        ]
                      },
                      {
                        "test": [
                          0.7543026018,
                          0.6798049137
                        ],
                        "passed_time": 2.478712266,
                        "iteration": 155,
                        "remaining_time": 5.465878329,
                        "learn": [
                          0.7572728326,
                          0.6626882792
                        ]
                      },
                      {
                        "test": [
                          0.7543605493,
                          0.6798221878
                        ],
                        "passed_time": 2.492476707,
                        "iteration": 156,
                        "remaining_time": 5.445347201,
                        "learn": [
                          0.7574177098,
                          0.6625954425
                        ]
                      },
                      {
                        "test": [
                          0.7544184968,
                          0.679859082
                        ],
                        "passed_time": 2.506860403,
                        "iteration": 157,
                        "remaining_time": 5.426242138,
                        "learn": [
                          0.7575046361,
                          0.6624758951
                        ]
                      },
                      {
                        "test": [
                          0.7541287593,
                          0.6798464873
                        ],
                        "passed_time": 2.521811357,
                        "iteration": 158,
                        "remaining_time": 5.408413036,
                        "learn": [
                          0.7575336115,
                          0.6623825777
                        ]
                      },
                      {
                        "test": [
                          0.7544184968,
                          0.6798655721
                        ],
                        "passed_time": 2.535816204,
                        "iteration": 159,
                        "remaining_time": 5.388609434,
                        "learn": [
                          0.7578813166,
                          0.6622674865
                        ]
                      },
                      {
                        "test": [
                          0.7544764443,
                          0.6798645481
                        ],
                        "passed_time": 2.551390612,
                        "iteration": 160,
                        "remaining_time": 5.372182717,
                        "learn": [
                          0.7577074641,
                          0.6621753996
                        ]
                      },
                      {
                        "test": [
                          0.7545343918,
                          0.6798423674
                        ],
                        "passed_time": 2.566674195,
                        "iteration": 161,
                        "remaining_time": 5.355159739,
                        "learn": [
                          0.7578813166,
                          0.662097264
                        ]
                      },
                      {
                        "test": [
                          0.7544764443,
                          0.6798411986
                        ],
                        "passed_time": 2.580143317,
                        "iteration": 162,
                        "remaining_time": 5.334406734,
                        "learn": [
                          0.7578523412,
                          0.662019826
                        ]
                      },
                      {
                        "test": [
                          0.7543026018,
                          0.6798939439
                        ],
                        "passed_time": 2.594538434,
                        "iteration": 163,
                        "remaining_time": 5.315639718,
                        "learn": [
                          0.7578523412,
                          0.6619523398
                        ]
                      },
                      {
                        "test": [
                          0.7544184968,
                          0.679932204
                        ],
                        "passed_time": 2.609737264,
                        "iteration": 164,
                        "remaining_time": 5.298557475,
                        "learn": [
                          0.7575625869,
                          0.6618332947
                        ]
                      },
                      {
                        "test": [
                          0.7543605493,
                          0.6799651263
                        ],
                        "passed_time": 2.622896675,
                        "iteration": 165,
                        "remaining_time": 5.277394514,
                        "learn": [
                          0.7574756606,
                          0.6617571371
                        ]
                      },
                      {
                        "test": [
                          0.7545343918,
                          0.6799421993
                        ],
                        "passed_time": 2.63739372,
                        "iteration": 166,
                        "remaining_time": 5.258994663,
                        "learn": [
                          0.7576205378,
                          0.6616587434
                        ]
                      },
                      {
                        "test": [
                          0.7545343918,
                          0.6799602168
                        ],
                        "passed_time": 2.652505007,
                        "iteration": 167,
                        "remaining_time": 5.241855132,
                        "learn": [
                          0.7576205378,
                          0.6615396608
                        ]
                      },
                      {
                        "test": [
                          0.7543605493,
                          0.67996
                        ],
                        "passed_time": 2.666634143,
                        "iteration": 168,
                        "remaining_time": 5.222815984,
                        "learn": [
                          0.7575625869,
                          0.6614559037
                        ]
                      },
                      {
                        "test": [
                          0.7542446543,
                          0.679988674
                        ],
                        "passed_time": 2.679725051,
                        "iteration": 169,
                        "remaining_time": 5.201819217,
                        "learn": [
                          0.7575625869,
                          0.6613768563
                        ]
                      },
                      {
                        "test": [
                          0.7544184968,
                          0.6799520207
                        ],
                        "passed_time": 2.695122919,
                        "iteration": 170,
                        "remaining_time": 5.185353453,
                        "learn": [
                          0.7577654149,
                          0.6612374632
                        ]
                      },
                      {
                        "test": [
                          0.7545343918,
                          0.6799172087
                        ],
                        "passed_time": 2.709322214,
                        "iteration": 171,
                        "remaining_time": 5.166614455,
                        "learn": [
                          0.7578233658,
                          0.6611620081
                        ]
                      },
                      {
                        "test": [
                          0.7544184968,
                          0.6799503645
                        ],
                        "passed_time": 2.724005851,
                        "iteration": 172,
                        "remaining_time": 5.14884343,
                        "learn": [
                          0.7580551692,
                          0.6610574777
                        ]
                      },
                      {
                        "test": [
                          0.7544184968,
                          0.679948526
                        ],
                        "passed_time": 2.738504921,
                        "iteration": 173,
                        "remaining_time": 5.130762093,
                        "learn": [
                          0.7581710709,
                          0.6609887261
                        ]
                      },
                      {
                        "test": [
                          0.7539549168,
                          0.6799639208
                        ],
                        "passed_time": 2.752897967,
                        "iteration": 174,
                        "remaining_time": 5.112524796,
                        "learn": [
                          0.7581710709,
                          0.6609070378
                        ]
                      },
                      {
                        "test": [
                          0.7543026018,
                          0.6799512961
                        ],
                        "passed_time": 2.767792192,
                        "iteration": 175,
                        "remaining_time": 5.095253808,
                        "learn": [
                          0.7582000464,
                          0.6608006417
                        ]
                      },
                      {
                        "test": [
                          0.7541867068,
                          0.6799672406
                        ],
                        "passed_time": 2.782601704,
                        "iteration": 176,
                        "remaining_time": 5.077855087,
                        "learn": [
                          0.7582000464,
                          0.6607278747
                        ]
                      },
                      {
                        "test": [
                          0.7540708118,
                          0.67996723
                        ],
                        "passed_time": 2.797404581,
                        "iteration": 177,
                        "remaining_time": 5.060473455,
                        "learn": [
                          0.7582579972,
                          0.6606193774
                        ]
                      },
                      {
                        "test": [
                          0.7541867068,
                          0.6799603832
                        ],
                        "passed_time": 2.811375082,
                        "iteration": 178,
                        "remaining_time": 5.041627941,
                        "learn": [
                          0.7583159481,
                          0.660520313
                        ]
                      },
                      {
                        "test": [
                          0.7544764443,
                          0.6799717649
                        ],
                        "passed_time": 2.82512377,
                        "iteration": 179,
                        "remaining_time": 5.022442258,
                        "learn": [
                          0.7582000464,
                          0.6604571313
                        ]
                      },
                      {
                        "test": [
                          0.7542446543,
                          0.6799342757
                        ],
                        "passed_time": 2.845281632,
                        "iteration": 180,
                        "remaining_time": 5.014612378,
                        "learn": [
                          0.7582290218,
                          0.6603101163
                        ]
                      },
                      {
                        "test": [
                          0.7541867068,
                          0.6799248763
                        ],
                        "passed_time": 2.859268603,
                        "iteration": 181,
                        "remaining_time": 4.995864921,
                        "learn": [
                          0.7582579972,
                          0.6602311212
                        ]
                      },
                      {
                        "test": [
                          0.7540708118,
                          0.6799226086
                        ],
                        "passed_time": 2.874345593,
                        "iteration": 182,
                        "remaining_time": 4.979057667,
                        "learn": [
                          0.7582000464,
                          0.6601148877
                        ]
                      },
                      {
                        "test": [
                          0.7540708118,
                          0.6799533135
                        ],
                        "passed_time": 2.890012985,
                        "iteration": 183,
                        "remaining_time": 4.96328317,
                        "learn": [
                          0.7582000464,
                          0.6600274493
                        ]
                      },
                      {
                        "test": [
                          0.7540708118,
                          0.6799022236
                        ],
                        "passed_time": 2.904025604,
                        "iteration": 184,
                        "remaining_time": 4.944692245,
                        "learn": [
                          0.7582869726,
                          0.6599385373
                        ]
                      },
                      {
                        "test": [
                          0.7540128643,
                          0.6798506724
                        ],
                        "passed_time": 2.920466381,
                        "iteration": 185,
                        "remaining_time": 4.930249698,
                        "learn": [
                          0.7583449235,
                          0.6598296999
                        ]
                      },
                      {
                        "test": [
                          0.7538390218,
                          0.6798529994
                        ],
                        "passed_time": 2.935850183,
                        "iteration": 186,
                        "remaining_time": 4.914016616,
                        "learn": [
                          0.7585187761,
                          0.6597462836
                        ]
                      },
                      {
                        "test": [
                          0.7536072318,
                          0.679835686
                        ],
                        "passed_time": 2.971047411,
                        "iteration": 187,
                        "remaining_time": 4.930674427,
                        "learn": [
                          0.7586346778,
                          0.6596270861
                        ]
                      },
                      {
                        "test": [
                          0.7538969693,
                          0.6798467518
                        ],
                        "passed_time": 2.985716365,
                        "iteration": 188,
                        "remaining_time": 4.913004178,
                        "learn": [
                          0.7585477515,
                          0.6595584951
                        ]
                      },
                      {
                        "test": [
                          0.7538390218,
                          0.6798285664
                        ],
                        "passed_time": 3.000291688,
                        "iteration": 189,
                        "remaining_time": 4.895212753,
                        "learn": [
                          0.7584898006,
                          0.6594410462
                        ]
                      },
                      {
                        "test": [
                          0.7538969693,
                          0.6798549308
                        ],
                        "passed_time": 3.014236417,
                        "iteration": 190,
                        "remaining_time": 4.876434832,
                        "learn": [
                          0.7585187761,
                          0.6594018641
                        ]
                      },
                      {
                        "test": [
                          0.7538969693,
                          0.6798479313
                        ],
                        "passed_time": 3.029045094,
                        "iteration": 191,
                        "remaining_time": 4.859093171,
                        "learn": [
                          0.7585767269,
                          0.6593424954
                        ]
                      },
                      {
                        "test": [
                          0.7538390218,
                          0.6798486034
                        ],
                        "passed_time": 3.043104201,
                        "iteration": 192,
                        "remaining_time": 4.840585439,
                        "learn": [
                          0.7586057024,
                          0.6592718174
                        ]
                      },
                      {
                        "test": [
                          0.7537810743,
                          0.6798629079
                        ],
                        "passed_time": 3.057574861,
                        "iteration": 193,
                        "remaining_time": 4.822772719,
                        "learn": [
                          0.7588085304,
                          0.6592115901
                        ]
                      },
                      {
                        "test": [
                          0.7536651793,
                          0.6798319874
                        ],
                        "passed_time": 3.072371969,
                        "iteration": 194,
                        "remaining_time": 4.805504875,
                        "learn": [
                          0.7586057024,
                          0.6590902722
                        ]
                      },
                      {
                        "test": [
                          0.7536072318,
                          0.6798018374
                        ],
                        "passed_time": 3.086557072,
                        "iteration": 195,
                        "remaining_time": 4.787313009,
                        "learn": [
                          0.7588664812,
                          0.6590097005
                        ]
                      },
                      {
                        "test": [
                          0.7537231268,
                          0.6798166778
                        ],
                        "passed_time": 3.101760302,
                        "iteration": 196,
                        "remaining_time": 4.770727775,
                        "learn": [
                          0.7590693092,
                          0.658836569
                        ]
                      },
                      {
                        "test": [
                          0.7538390218,
                          0.6798095743
                        ],
                        "passed_time": 3.116845403,
                        "iteration": 197,
                        "remaining_time": 4.753976321,
                        "learn": [
                          0.7592141864,
                          0.6587536587
                        ]
                      },
                      {
                        "test": [
                          0.7538390218,
                          0.6797994318
                        ],
                        "passed_time": 3.131418925,
                        "iteration": 198,
                        "remaining_time": 4.736467821,
                        "learn": [
                          0.7590693092,
                          0.6586869149
                        ]
                      },
                      {
                        "test": [
                          0.7534333893,
                          0.6798224164
                        ],
                        "passed_time": 3.146699121,
                        "iteration": 199,
                        "remaining_time": 4.720048682,
                        "learn": [
                          0.7591272601,
                          0.6585690889
                        ]
                      },
                      {
                        "test": [
                          0.7536651793,
                          0.6798172037
                        ],
                        "passed_time": 3.161573763,
                        "iteration": 200,
                        "remaining_time": 4.703037587,
                        "learn": [
                          0.7591852109,
                          0.6584693648
                        ]
                      },
                      {
                        "test": [
                          0.7537810743,
                          0.6797765549
                        ],
                        "passed_time": 3.17511772,
                        "iteration": 201,
                        "remaining_time": 4.684084557,
                        "learn": [
                          0.7591272601,
                          0.6583948599
                        ]
                      },
                      {
                        "test": [
                          0.7538969693,
                          0.6798014144
                        ],
                        "passed_time": 3.189426192,
                        "iteration": 202,
                        "remaining_time": 4.666303345,
                        "learn": [
                          0.7590982847,
                          0.6583163396
                        ]
                      },
                      {
                        "test": [
                          0.7540708118,
                          0.6798138968
                        ],
                        "passed_time": 3.205352449,
                        "iteration": 203,
                        "remaining_time": 4.650903553,
                        "learn": [
                          0.7592141864,
                          0.6581821979
                        ]
                      },
                      {
                        "test": [
                          0.7539549168,
                          0.6798678298
                        ],
                        "passed_time": 3.220712124,
                        "iteration": 204,
                        "remaining_time": 4.6346833,
                        "learn": [
                          0.7592431618,
                          0.6580689338
                        ]
                      },
                      {
                        "test": [
                          0.7534913368,
                          0.6798893507
                        ],
                        "passed_time": 3.235728926,
                        "iteration": 205,
                        "remaining_time": 4.617982059,
                        "learn": [
                          0.7594459898,
                          0.657941907
                        ]
                      },
                      {
                        "test": [
                          0.7534333893,
                          0.6799191499
                        ],
                        "passed_time": 3.250429544,
                        "iteration": 206,
                        "remaining_time": 4.600849548,
                        "learn": [
                          0.7593880389,
                          0.6578309955
                        ]
                      },
                      {
                        "test": [
                          0.7534333893,
                          0.6798915219
                        ],
                        "passed_time": 3.265192591,
                        "iteration": 207,
                        "remaining_time": 4.583828061,
                        "learn": [
                          0.7594749652,
                          0.6577339714
                        ]
                      },
                      {
                        "test": [
                          0.7534913368,
                          0.6798871909
                        ],
                        "passed_time": 3.280398914,
                        "iteration": 208,
                        "remaining_time": 4.567445378,
                        "learn": [
                          0.7594749652,
                          0.6576372276
                        ]
                      },
                      {
                        "test": [
                          0.7534913368,
                          0.6798663393
                        ],
                        "passed_time": 3.294521578,
                        "iteration": 209,
                        "remaining_time": 4.549577417,
                        "learn": [
                          0.7594459898,
                          0.6575584339
                        ]
                      },
                      {
                        "test": [
                          0.7535492843,
                          0.6798738964
                        ],
                        "passed_time": 3.309547757,
                        "iteration": 210,
                        "remaining_time": 4.532982473,
                        "learn": [
                          0.7595329161,
                          0.6574606641
                        ]
                      },
                      {
                        "test": [
                          0.7534333893,
                          0.679835882
                        ],
                        "passed_time": 3.325048785,
                        "iteration": 211,
                        "remaining_time": 4.517047407,
                        "learn": [
                          0.7596198424,
                          0.6573342039
                        ]
                      },
                      {
                        "test": [
                          0.7532595469,
                          0.6798486802
                        ],
                        "passed_time": 3.339658756,
                        "iteration": 212,
                        "remaining_time": 4.499915788,
                        "learn": [
                          0.7595039407,
                          0.6572647359
                        ]
                      },
                      {
                        "test": [
                          0.7532015994,
                          0.6798806394
                        ],
                        "passed_time": 3.362473521,
                        "iteration": 213,
                        "remaining_time": 4.493773023,
                        "learn": [
                          0.7595329161,
                          0.6571709958
                        ]
                      },
                      {
                        "test": [
                          0.7531436519,
                          0.6798228282
                        ],
                        "passed_time": 3.377286253,
                        "iteration": 214,
                        "remaining_time": 4.476867824,
                        "learn": [
                          0.7595618915,
                          0.6570446371
                        ]
                      },
                      {
                        "test": [
                          0.7533174944,
                          0.6798263168
                        ],
                        "passed_time": 3.392523868,
                        "iteration": 215,
                        "remaining_time": 4.460540642,
                        "learn": [
                          0.7595908669,
                          0.6569487303
                        ]
                      },
                      {
                        "test": [
                          0.7529118619,
                          0.6798782774
                        ],
                        "passed_time": 3.407207672,
                        "iteration": 216,
                        "remaining_time": 4.44350125,
                        "learn": [
                          0.7597067687,
                          0.6568138016
                        ]
                      },
                      {
                        "test": [
                          0.7529698094,
                          0.6798707305
                        ],
                        "passed_time": 3.421628356,
                        "iteration": 217,
                        "remaining_time": 4.426143102,
                        "learn": [
                          0.7597647195,
                          0.6567192276
                        ]
                      },
                      {
                        "test": [
                          0.7530857044,
                          0.6798966178
                        ],
                        "passed_time": 3.435077326,
                        "iteration": 218,
                        "remaining_time": 4.40756497,
                        "learn": [
                          0.7598226704,
                          0.6566706498
                        ]
                      },
                      {
                        "test": [
                          0.7532015994,
                          0.6799277047
                        ],
                        "passed_time": 3.453648373,
                        "iteration": 219,
                        "remaining_time": 4.395552475,
                        "learn": [
                          0.7598516458,
                          0.6566012152
                        ]
                      },
                      {
                        "test": [
                          0.7532595469,
                          0.6799143934
                        ],
                        "passed_time": 3.474631675,
                        "iteration": 220,
                        "remaining_time": 4.38652596,
                        "learn": [
                          0.7597936949,
                          0.6565398098
                        ]
                      },
                      {
                        "test": [
                          0.7532015994,
                          0.6799324426
                        ],
                        "passed_time": 3.493874568,
                        "iteration": 221,
                        "remaining_time": 4.375212297,
                        "learn": [
                          0.7597647195,
                          0.656457601
                        ]
                      },
                      {
                        "test": [
                          0.7532015994,
                          0.6799285534
                        ],
                        "passed_time": 3.507462786,
                        "iteration": 222,
                        "remaining_time": 4.35680355,
                        "learn": [
                          0.7598806212,
                          0.6563753492
                        ]
                      },
                      {
                        "test": [
                          0.7533754418,
                          0.6799334826
                        ],
                        "passed_time": 3.521846907,
                        "iteration": 223,
                        "remaining_time": 4.339418511,
                        "learn": [
                          0.7599675475,
                          0.6563290662
                        ]
                      },
                      {
                        "test": [
                          0.7532595469,
                          0.6798775152
                        ],
                        "passed_time": 3.537521843,
                        "iteration": 224,
                        "remaining_time": 4.323637808,
                        "learn": [
                          0.7599965229,
                          0.6562136701
                        ]
                      },
                      {
                        "test": [
                          0.7530277569,
                          0.6799155218
                        ],
                        "passed_time": 3.551384128,
                        "iteration": 225,
                        "remaining_time": 4.305660403,
                        "learn": [
                          0.7601414001,
                          0.6561214506
                        ]
                      },
                      {
                        "test": [
                          0.7530277569,
                          0.6799355695
                        ],
                        "passed_time": 3.565535248,
                        "iteration": 226,
                        "remaining_time": 4.28806662,
                        "learn": [
                          0.7604311544,
                          0.6560431384
                        ]
                      },
                      {
                        "test": [
                          0.7528539144,
                          0.6799412898
                        ],
                        "passed_time": 3.580469357,
                        "iteration": 227,
                        "remaining_time": 4.271437128,
                        "learn": [
                          0.7604311544,
                          0.6559593947
                        ]
                      },
                      {
                        "test": [
                          0.7529698094,
                          0.6799475965
                        ],
                        "passed_time": 3.594808268,
                        "iteration": 228,
                        "remaining_time": 4.254118082,
                        "learn": [
                          0.7605180807,
                          0.6559046915
                        ]
                      },
                      {
                        "test": [
                          0.7530857044,
                          0.6799558661
                        ],
                        "passed_time": 3.609442572,
                        "iteration": 229,
                        "remaining_time": 4.237171715,
                        "learn": [
                          0.7603732035,
                          0.6557945431
                        ]
                      },
                      {
                        "test": [
                          0.7530277569,
                          0.6799459132
                        ],
                        "passed_time": 3.623328299,
                        "iteration": 230,
                        "remaining_time": 4.219373647,
                        "learn": [
                          0.760807835,
                          0.6557190387
                        ]
                      },
                      {
                        "test": [
                          0.7532015994,
                          0.6799357366
                        ],
                        "passed_time": 3.637779119,
                        "iteration": 231,
                        "remaining_time": 4.202262086,
                        "learn": [
                          0.7608947612,
                          0.6556027437
                        ]
                      },
                      {
                        "test": [
                          0.7536651793,
                          0.6799307091
                        ],
                        "passed_time": 3.651812633,
                        "iteration": 232,
                        "remaining_time": 4.184695164,
                        "learn": [
                          0.7609527121,
                          0.6555135618
                        ]
                      },
                      {
                        "test": [
                          0.7536072318,
                          0.6799613693
                        ],
                        "passed_time": 3.666146563,
                        "iteration": 233,
                        "remaining_time": 4.167499939,
                        "learn": [
                          0.761010663,
                          0.6553576369
                        ]
                      },
                      {
                        "test": [
                          0.7533754418,
                          0.6799568114
                        ],
                        "passed_time": 3.681356984,
                        "iteration": 234,
                        "remaining_time": 4.15131745,
                        "learn": [
                          0.7611845155,
                          0.6552848784
                        ]
                      },
                      {
                        "test": [
                          0.7532595469,
                          0.6798801602
                        ],
                        "passed_time": 3.69689757,
                        "iteration": 235,
                        "remaining_time": 4.135512536,
                        "learn": [
                          0.7611845155,
                          0.6551547811
                        ]
                      },
                      {
                        "test": [
                          0.7533754418,
                          0.6798844898
                        ],
                        "passed_time": 3.711785465,
                        "iteration": 236,
                        "remaining_time": 4.118985558,
                        "learn": [
                          0.7611555401,
                          0.6550525552
                        ]
                      },
                      {
                        "test": [
                          0.7532595469,
                          0.6798843182
                        ],
                        "passed_time": 3.725597714,
                        "iteration": 237,
                        "remaining_time": 4.10128824,
                        "learn": [
                          0.7612424664,
                          0.6549762837
                        ]
                      },
                      {
                        "test": [
                          0.7531436519,
                          0.679902765
                        ],
                        "passed_time": 3.739969775,
                        "iteration": 238,
                        "remaining_time": 4.084234775,
                        "learn": [
                          0.7615032452,
                          0.6548839629
                        ]
                      },
                      {
                        "test": [
                          0.7532015994,
                          0.6798672553
                        ],
                        "passed_time": 3.754593153,
                        "iteration": 239,
                        "remaining_time": 4.067475916,
                        "learn": [
                          0.7615611961,
                          0.6548186791
                        ]
                      },
                      {
                        "test": [
                          0.7531436519,
                          0.6798633157
                        ],
                        "passed_time": 3.76916598,
                        "iteration": 240,
                        "remaining_time": 4.050680451,
                        "learn": [
                          0.7614742698,
                          0.6547640681
                        ]
                      },
                      {
                        "test": [
                          0.7531436519,
                          0.6798190674
                        ],
                        "passed_time": 3.783902258,
                        "iteration": 241,
                        "remaining_time": 4.034077614,
                        "learn": [
                          0.7615322207,
                          0.6546482125
                        ]
                      },
                      {
                        "test": [
                          0.7530857044,
                          0.6798125784
                        ],
                        "passed_time": 3.797714936,
                        "iteration": 242,
                        "remaining_time": 4.016513327,
                        "learn": [
                          0.7613583681,
                          0.6545669647
                        ]
                      },
                      {
                        "test": [
                          0.7530857044,
                          0.6798068498
                        ],
                        "passed_time": 3.812268155,
                        "iteration": 243,
                        "remaining_time": 3.999756753,
                        "learn": [
                          0.761416319,
                          0.6544684986
                        ]
                      },
                      {
                        "test": [
                          0.7532595469,
                          0.6797919359
                        ],
                        "passed_time": 3.826455273,
                        "iteration": 244,
                        "remaining_time": 3.982637121,
                        "learn": [
                          0.761416319,
                          0.6544175093
                        ]
                      },
                      {
                        "test": [
                          0.7532595469,
                          0.679811209
                        ],
                        "passed_time": 3.840704008,
                        "iteration": 245,
                        "remaining_time": 3.965604951,
                        "learn": [
                          0.7615032452,
                          0.6543618137
                        ]
                      },
                      {
                        "test": [
                          0.7532015994,
                          0.6797990897
                        ],
                        "passed_time": 3.855706448,
                        "iteration": 246,
                        "remaining_time": 3.949367334,
                        "learn": [
                          0.7615611961,
                          0.6542535307
                        ]
                      },
                      {
                        "test": [
                          0.7532595469,
                          0.6797903381
                        ],
                        "passed_time": 3.869967647,
                        "iteration": 247,
                        "remaining_time": 3.93238648,
                        "learn": [
                          0.7619668521,
                          0.6541487724
                        ]
                      },
                      {
                        "test": [
                          0.7537231268,
                          0.6797831753
                        ],
                        "passed_time": 3.88452141,
                        "iteration": 248,
                        "remaining_time": 3.915722385,
                        "learn": [
                          0.7621117293,
                          0.6540345982
                        ]
                      },
                      {
                        "test": [
                          0.7536651793,
                          0.6798038556
                        ],
                        "passed_time": 3.898818746,
                        "iteration": 249,
                        "remaining_time": 3.898818746,
                        "learn": [
                          0.7621407047,
                          0.653941443
                        ]
                      },
                      {
                        "test": [
                          0.7534333893,
                          0.679800549
                        ],
                        "passed_time": 3.913214794,
                        "iteration": 250,
                        "remaining_time": 3.882033799,
                        "learn": [
                          0.7621407047,
                          0.6538487951
                        ]
                      },
                      {
                        "test": [
                          0.7536651793,
                          0.6797885563
                        ],
                        "passed_time": 3.928084721,
                        "iteration": 251,
                        "remaining_time": 3.86573417,
                        "learn": [
                          0.7623145573,
                          0.6537722252
                        ]
                      },
                      {
                        "test": [
                          0.7536651793,
                          0.6797969846
                        ],
                        "passed_time": 3.941725842,
                        "iteration": 252,
                        "remaining_time": 3.848246178,
                        "learn": [
                          0.7623145573,
                          0.6537227598
                        ]
                      },
                      {
                        "test": [
                          0.7534913368,
                          0.6798097703
                        ],
                        "passed_time": 3.974899846,
                        "iteration": 253,
                        "remaining_time": 3.84970615,
                        "learn": [
                          0.7625173853,
                          0.6536598289
                        ]
                      },
                      {
                        "test": [
                          0.7536651793,
                          0.6798232157
                        ],
                        "passed_time": 3.995533531,
                        "iteration": 254,
                        "remaining_time": 3.838845941,
                        "learn": [
                          0.7624014835,
                          0.6536218897
                        ]
                      },
                      {
                        "test": [
                          0.7537810743,
                          0.6798268082
                        ],
                        "passed_time": 4.009321676,
                        "iteration": 255,
                        "remaining_time": 3.821384722,
                        "learn": [
                          0.7623725081,
                          0.653546519
                        ]
                      },
                      {
                        "test": [
                          0.7540128643,
                          0.6798291097
                        ],
                        "passed_time": 4.023266098,
                        "iteration": 256,
                        "remaining_time": 3.804099852,
                        "learn": [
                          0.7623145573,
                          0.6534794138
                        ]
                      },
                      {
                        "test": [
                          0.7536072318,
                          0.6798837739
                        ],
                        "passed_time": 4.039554162,
                        "iteration": 257,
                        "remaining_time": 3.789039176,
                        "learn": [
                          0.7623435327,
                          0.653346937
                        ]
                      },
                      {
                        "test": [
                          0.7535492843,
                          0.6799119097
                        ],
                        "passed_time": 4.05336109,
                        "iteration": 258,
                        "remaining_time": 3.771660319,
                        "learn": [
                          0.7623435327,
                          0.6532908411
                        ]
                      },
                      {
                        "test": [
                          0.7534333893,
                          0.6799301513
                        ],
                        "passed_time": 4.06799675,
                        "iteration": 259,
                        "remaining_time": 3.755073923,
                        "learn": [
                          0.762836115,
                          0.6531477976
                        ]
                      },
                      {
                        "test": [
                          0.7536072318,
                          0.6798949178
                        ],
                        "passed_time": 4.082641677,
                        "iteration": 260,
                        "remaining_time": 3.738510961,
                        "learn": [
                          0.7629520167,
                          0.6530608931
                        ]
                      },
                      {
                        "test": [
                          0.7536651793,
                          0.6799145917
                        ],
                        "passed_time": 4.096857147,
                        "iteration": 261,
                        "remaining_time": 3.721572523,
                        "learn": [
                          0.7629230413,
                          0.6529891563
                        ]
                      },
                      {
                        "test": [
                          0.7535492843,
                          0.6799581994
                        ],
                        "passed_time": 4.111555832,
                        "iteration": 262,
                        "remaining_time": 3.705090237,
                        "learn": [
                          0.7629230413,
                          0.6529135947
                        ]
                      },
                      {
                        "test": [
                          0.7534913368,
                          0.6799509504
                        ],
                        "passed_time": 4.126019603,
                        "iteration": 263,
                        "remaining_time": 3.688411463,
                        "learn": [
                          0.762836115,
                          0.6528599652
                        ]
                      },
                      {
                        "test": [
                          0.7534333893,
                          0.679976291
                        ],
                        "passed_time": 4.140287168,
                        "iteration": 264,
                        "remaining_time": 3.671575413,
                        "learn": [
                          0.763038943,
                          0.6527838499
                        ]
                      },
                      {
                        "test": [
                          0.7535492843,
                          0.6799438049
                        ],
                        "passed_time": 4.155962793,
                        "iteration": 265,
                        "remaining_time": 3.655997344,
                        "learn": [
                          0.7629809921,
                          0.6526850174
                        ]
                      },
                      {
                        "test": [
                          0.7534913368,
                          0.6799555299
                        ],
                        "passed_time": 4.170476843,
                        "iteration": 266,
                        "remaining_time": 3.639404886,
                        "learn": [
                          0.7629520167,
                          0.652619793
                        ]
                      },
                      {
                        "test": [
                          0.7534333893,
                          0.6799736914
                        ],
                        "passed_time": 4.185111864,
                        "iteration": 267,
                        "remaining_time": 3.622932659,
                        "learn": [
                          0.7630099675,
                          0.6525504717
                        ]
                      },
                      {
                        "test": [
                          0.7536072318,
                          0.679985452
                        ],
                        "passed_time": 4.199251582,
                        "iteration": 268,
                        "remaining_time": 3.606048756,
                        "learn": [
                          0.7633576727,
                          0.6524667053
                        ]
                      },
                      {
                        "test": [
                          0.7537810743,
                          0.6799795357
                        ],
                        "passed_time": 4.214053909,
                        "iteration": 269,
                        "remaining_time": 3.589749626,
                        "learn": [
                          0.7633286973,
                          0.6523775524
                        ]
                      },
                      {
                        "test": [
                          0.7537231268,
                          0.6799899604
                        ],
                        "passed_time": 4.229392284,
                        "iteration": 270,
                        "remaining_time": 3.573914513,
                        "learn": [
                          0.7633286973,
                          0.6522287491
                        ]
                      },
                      {
                        "test": [
                          0.7537810743,
                          0.6799790666
                        ],
                        "passed_time": 4.244118565,
                        "iteration": 271,
                        "remaining_time": 3.557569974,
                        "learn": [
                          0.7633286973,
                          0.6521110591
                        ]
                      },
                      {
                        "test": [
                          0.7537810743,
                          0.6799781548
                        ],
                        "passed_time": 4.25891258,
                        "iteration": 272,
                        "remaining_time": 3.54129361,
                        "learn": [
                          0.763444599,
                          0.6520452294
                        ]
                      },
                      {
                        "test": [
                          0.7538390218,
                          0.6799964441
                        ],
                        "passed_time": 4.273229016,
                        "iteration": 273,
                        "remaining_time": 3.524634152,
                        "learn": [
                          0.7635315253,
                          0.6519885014
                        ]
                      },
                      {
                        "test": [
                          0.7539549168,
                          0.6799564272
                        ],
                        "passed_time": 4.288168868,
                        "iteration": 274,
                        "remaining_time": 3.508501801,
                        "learn": [
                          0.7636764024,
                          0.6519061486
                        ]
                      },
                      {
                        "test": [
                          0.7538390218,
                          0.6799480016
                        ],
                        "passed_time": 4.303560702,
                        "iteration": 275,
                        "remaining_time": 3.492744918,
                        "learn": [
                          0.7635315253,
                          0.651830909
                        ]
                      },
                      {
                        "test": [
                          0.7538390218,
                          0.6799542457
                        ],
                        "passed_time": 4.317980038,
                        "iteration": 276,
                        "remaining_time": 3.476207756,
                        "learn": [
                          0.763647427,
                          0.6517774448
                        ]
                      },
                      {
                        "test": [
                          0.7538969693,
                          0.6799708161
                        ],
                        "passed_time": 4.333260417,
                        "iteration": 277,
                        "remaining_time": 3.460373426,
                        "learn": [
                          0.7637343533,
                          0.6516593471
                        ]
                      },
                      {
                        "test": [
                          0.7535492843,
                          0.6800152342
                        ],
                        "passed_time": 4.347617635,
                        "iteration": 278,
                        "remaining_time": 3.443811818,
                        "learn": [
                          0.7637633287,
                          0.6515776403
                        ]
                      },
                      {
                        "test": [
                          0.7536072318,
                          0.6799964446
                        ],
                        "passed_time": 4.36270516,
                        "iteration": 279,
                        "remaining_time": 3.427839769,
                        "learn": [
                          0.7636764024,
                          0.6514942319
                        ]
                      },
                      {
                        "test": [
                          0.7533754418,
                          0.6800282388
                        ],
                        "passed_time": 4.379298969,
                        "iteration": 280,
                        "remaining_time": 3.413047951,
                        "learn": [
                          0.7636764024,
                          0.6513895628
                        ]
                      },
                      {
                        "test": [
                          0.7534333893,
                          0.6800301894
                        ],
                        "passed_time": 4.393477713,
                        "iteration": 281,
                        "remaining_time": 3.396376388,
                        "learn": [
                          0.7635894761,
                          0.6513512661
                        ]
                      },
                      {
                        "test": [
                          0.7533174944,
                          0.6800719808
                        ],
                        "passed_time": 4.408002634,
                        "iteration": 282,
                        "remaining_time": 3.379987885,
                        "learn": [
                          0.7637053778,
                          0.6512755081
                        ]
                      },
                      {
                        "test": [
                          0.7531436519,
                          0.6800664178
                        ],
                        "passed_time": 4.422468015,
                        "iteration": 283,
                        "remaining_time": 3.363567223,
                        "learn": [
                          0.7637633287,
                          0.6512256847
                        ]
                      },
                      {
                        "test": [
                          0.7534913368,
                          0.6800639947
                        ],
                        "passed_time": 4.440305391,
                        "iteration": 284,
                        "remaining_time": 3.349704067,
                        "learn": [
                          0.764053083,
                          0.6511262761
                        ]
                      },
                      {
                        "test": [
                          0.7532015994,
                          0.6800618883
                        ],
                        "passed_time": 4.454933396,
                        "iteration": 285,
                        "remaining_time": 3.333411702,
                        "learn": [
                          0.7639661567,
                          0.6510579084
                        ]
                      },
                      {
                        "test": [
                          0.7533174944,
                          0.6800650531
                        ],
                        "passed_time": 4.469326175,
                        "iteration": 286,
                        "remaining_time": 3.31695636,
                        "learn": [
                          0.7639371813,
                          0.650969495
                        ]
                      },
                      {
                        "test": [
                          0.7533174944,
                          0.6800673093
                        ],
                        "passed_time": 4.492394121,
                        "iteration": 287,
                        "remaining_time": 3.306901228,
                        "learn": [
                          0.7639951321,
                          0.6508785177
                        ]
                      },
                      {
                        "test": [
                          0.7533174944,
                          0.6800528963
                        ],
                        "passed_time": 4.510155743,
                        "iteration": 288,
                        "remaining_time": 3.292881875,
                        "learn": [
                          0.764053083,
                          0.6507870213
                        ]
                      },
                      {
                        "test": [
                          0.7534333893,
                          0.6800382344
                        ],
                        "passed_time": 4.525620344,
                        "iteration": 289,
                        "remaining_time": 3.277173353,
                        "learn": [
                          0.7641400093,
                          0.6506698658
                        ]
                      },
                      {
                        "test": [
                          0.7536072318,
                          0.6800403514
                        ],
                        "passed_time": 4.540297055,
                        "iteration": 290,
                        "remaining_time": 3.260900634,
                        "learn": [
                          0.7643718127,
                          0.6505661017
                        ]
                      },
                      {
                        "test": [
                          0.7534333893,
                          0.680062874
                        ],
                        "passed_time": 4.554499242,
                        "iteration": 291,
                        "remaining_time": 3.24430083,
                        "learn": [
                          0.7644877144,
                          0.6504944378
                        ]
                      },
                      {
                        "test": [
                          0.7533174944,
                          0.6800885967
                        ],
                        "passed_time": 4.56862585,
                        "iteration": 292,
                        "remaining_time": 3.227663997,
                        "learn": [
                          0.7645166898,
                          0.6503988264
                        ]
                      },
                      {
                        "test": [
                          0.7534913368,
                          0.6800881074
                        ],
                        "passed_time": 4.582793169,
                        "iteration": 293,
                        "remaining_time": 3.211072765,
                        "learn": [
                          0.7647195178,
                          0.6503445349
                        ]
                      },
                      {
                        "test": [
                          0.7536072318,
                          0.6801041549
                        ],
                        "passed_time": 4.59637811,
                        "iteration": 294,
                        "remaining_time": 3.194093263,
                        "learn": [
                          0.7649223459,
                          0.6502808825
                        ]
                      },
                      {
                        "test": [
                          0.7537231268,
                          0.6800918911
                        ],
                        "passed_time": 4.610187757,
                        "iteration": 295,
                        "remaining_time": 3.177291562,
                        "learn": [
                          0.7648354196,
                          0.6502166881
                        ]
                      },
                      {
                        "test": [
                          0.7537231268,
                          0.6800896426
                        ],
                        "passed_time": 4.625120756,
                        "iteration": 296,
                        "remaining_time": 3.161277823,
                        "learn": [
                          0.7647774687,
                          0.6501572243
                        ]
                      },
                      {
                        "test": [
                          0.7538969693,
                          0.6801438333
                        ],
                        "passed_time": 4.639668851,
                        "iteration": 297,
                        "remaining_time": 3.14501043,
                        "learn": [
                          0.7648354196,
                          0.6500691532
                        ]
                      },
                      {
                        "test": [
                          0.7538969693,
                          0.6801418896
                        ],
                        "passed_time": 4.654110268,
                        "iteration": 298,
                        "remaining_time": 3.128682822,
                        "learn": [
                          0.7648354196,
                          0.6499833781
                        ]
                      },
                      {
                        "test": [
                          0.7538969693,
                          0.6801702877
                        ],
                        "passed_time": 4.66806593,
                        "iteration": 299,
                        "remaining_time": 3.112043953,
                        "learn": [
                          0.7650961984,
                          0.6499158692
                        ]
                      },
                      {
                        "test": [
                          0.7540128643,
                          0.680215265
                        ],
                        "passed_time": 4.684148203,
                        "iteration": 300,
                        "remaining_time": 3.096828878,
                        "learn": [
                          0.7649513213,
                          0.6498496446
                        ]
                      },
                      {
                        "test": [
                          0.7539549168,
                          0.6802262901
                        ],
                        "passed_time": 4.699377988,
                        "iteration": 301,
                        "remaining_time": 3.081049145,
                        "learn": [
                          0.7649223459,
                          0.6497174393
                        ]
                      },
                      {
                        "test": [
                          0.7541287593,
                          0.6802284437
                        ],
                        "passed_time": 4.712882059,
                        "iteration": 302,
                        "remaining_time": 3.064151042,
                        "learn": [
                          0.7651541493,
                          0.6496412859
                        ]
                      },
                      {
                        "test": [
                          0.7540128643,
                          0.6802690799
                        ],
                        "passed_time": 4.728104749,
                        "iteration": 303,
                        "remaining_time": 3.048383325,
                        "learn": [
                          0.7651831247,
                          0.6495338384
                        ]
                      },
                      {
                        "test": [
                          0.7540708118,
                          0.6802386862
                        ],
                        "passed_time": 4.742487523,
                        "iteration": 304,
                        "remaining_time": 3.032082187,
                        "learn": [
                          0.7652410756,
                          0.6494416128
                        ]
                      },
                      {
                        "test": [
                          0.7540128643,
                          0.6802392227
                        ],
                        "passed_time": 4.757042471,
                        "iteration": 305,
                        "remaining_time": 3.015902743,
                        "learn": [
                          0.7652410756,
                          0.6494002371
                        ]
                      },
                      {
                        "test": [
                          0.7541867068,
                          0.6802464833
                        ],
                        "passed_time": 4.77171267,
                        "iteration": 306,
                        "remaining_time": 2.999806336,
                        "learn": [
                          0.7651541493,
                          0.6493492505
                        ]
                      },
                      {
                        "test": [
                          0.7541287593,
                          0.6801963791
                        ],
                        "passed_time": 4.787066133,
                        "iteration": 307,
                        "remaining_time": 2.984145122,
                        "learn": [
                          0.7651831247,
                          0.6492274509
                        ]
                      },
                      {
                        "test": [
                          0.7544764443,
                          0.680174023
                        ],
                        "passed_time": 4.801503792,
                        "iteration": 308,
                        "remaining_time": 2.96791982,
                        "learn": [
                          0.765270051,
                          0.6491825976
                        ]
                      },
                      {
                        "test": [
                          0.7545923393,
                          0.6801497859
                        ],
                        "passed_time": 4.816070737,
                        "iteration": 309,
                        "remaining_time": 2.951785291,
                        "learn": [
                          0.7653280019,
                          0.6490659768
                        ]
                      },
                      {
                        "test": [
                          0.7545923393,
                          0.6801146793
                        ],
                        "passed_time": 4.830840815,
                        "iteration": 310,
                        "remaining_time": 2.93578429,
                        "learn": [
                          0.7652121001,
                          0.6489991464
                        ]
                      },
                      {
                        "test": [
                          0.7545923393,
                          0.6801439079
                        ],
                        "passed_time": 4.844424989,
                        "iteration": 311,
                        "remaining_time": 2.919076596,
                        "learn": [
                          0.7651831247,
                          0.6489452677
                        ]
                      },
                      {
                        "test": [
                          0.7544184968,
                          0.6801136158
                        ],
                        "passed_time": 4.859386502,
                        "iteration": 312,
                        "remaining_time": 2.903211744,
                        "learn": [
                          0.7651251739,
                          0.6488337631
                        ]
                      },
                      {
                        "test": [
                          0.7544764443,
                          0.6801274941
                        ],
                        "passed_time": 4.874133112,
                        "iteration": 313,
                        "remaining_time": 2.887225347,
                        "learn": [
                          0.7651541493,
                          0.6487571079
                        ]
                      },
                      {
                        "test": [
                          0.7544184968,
                          0.6801288182
                        ],
                        "passed_time": 4.888303305,
                        "iteration": 314,
                        "remaining_time": 2.87090829,
                        "learn": [
                          0.7651831247,
                          0.6486533154
                        ]
                      },
                      {
                        "test": [
                          0.7543026018,
                          0.6801756696
                        ],
                        "passed_time": 4.903209378,
                        "iteration": 315,
                        "remaining_time": 2.855033309,
                        "learn": [
                          0.7655018544,
                          0.6485245101
                        ]
                      },
                      {
                        "test": [
                          0.7541287593,
                          0.680172385
                        ],
                        "passed_time": 4.918432849,
                        "iteration": 316,
                        "remaining_time": 2.83934767,
                        "learn": [
                          0.7655887807,
                          0.6484238238
                        ]
                      },
                      {
                        "test": [
                          0.7544184968,
                          0.6801663337
                        ],
                        "passed_time": 4.935302751,
                        "iteration": 317,
                        "remaining_time": 2.824607235,
                        "learn": [
                          0.765675707,
                          0.6483648808
                        ]
                      },
                      {
                        "test": [
                          0.7544184968,
                          0.6801724418
                        ],
                        "passed_time": 4.949887807,
                        "iteration": 318,
                        "remaining_time": 2.808557031,
                        "learn": [
                          0.765675707,
                          0.6483035253
                        ]
                      },
                      {
                        "test": [
                          0.7540128643,
                          0.6801973201
                        ],
                        "passed_time": 4.979620506,
                        "iteration": 319,
                        "remaining_time": 2.801036535,
                        "learn": [
                          0.7657916087,
                          0.6482001798
                        ]
                      },
                      {
                        "test": [
                          0.7541867068,
                          0.6802140779
                        ],
                        "passed_time": 5.007844198,
                        "iteration": 320,
                        "remaining_time": 2.792536173,
                        "learn": [
                          0.765878535,
                          0.6481457691
                        ]
                      },
                      {
                        "test": [
                          0.7540128643,
                          0.6802159625
                        ],
                        "passed_time": 5.028247307,
                        "iteration": 321,
                        "remaining_time": 2.779590126,
                        "learn": [
                          0.766081363,
                          0.6480427975
                        ]
                      },
                      {
                        "test": [
                          0.7538969693,
                          0.6802535395
                        ],
                        "passed_time": 5.042347059,
                        "iteration": 322,
                        "remaining_time": 2.763143745,
                        "learn": [
                          0.7661972647,
                          0.647965976
                        ]
                      },
                      {
                        "test": [
                          0.7536651793,
                          0.6802691016
                        ],
                        "passed_time": 5.056426833,
                        "iteration": 323,
                        "remaining_time": 2.746700996,
                        "learn": [
                          0.7661393139,
                          0.6478972161
                        ]
                      },
                      {
                        "test": [
                          0.7536072318,
                          0.68027435
                        ],
                        "passed_time": 5.071311731,
                        "iteration": 324,
                        "remaining_time": 2.730706317,
                        "learn": [
                          0.7661972647,
                          0.6477870453
                        ]
                      },
                      {
                        "test": [
                          0.7536651793,
                          0.6802448718
                        ],
                        "passed_time": 5.085675572,
                        "iteration": 325,
                        "remaining_time": 2.714440336,
                        "learn": [
                          0.766081363,
                          0.6477220718
                        ]
                      },
                      {
                        "test": [
                          0.7536651793,
                          0.6802793373
                        ],
                        "passed_time": 5.100272134,
                        "iteration": 326,
                        "remaining_time": 2.698309111,
                        "learn": [
                          0.7662262401,
                          0.6476322885
                        ]
                      },
                      {
                        "test": [
                          0.7533754418,
                          0.6802508923
                        ],
                        "passed_time": 5.115527679,
                        "iteration": 327,
                        "remaining_time": 2.682532807,
                        "learn": [
                          0.7664000927,
                          0.6475430743
                        ]
                      },
                      {
                        "test": [
                          0.7531436519,
                          0.6802719018
                        ],
                        "passed_time": 5.129502495,
                        "iteration": 328,
                        "remaining_time": 2.666094002,
                        "learn": [
                          0.7664000927,
                          0.6474924213
                        ]
                      },
                      {
                        "test": [
                          0.7533754418,
                          0.6802966474
                        ],
                        "passed_time": 5.144627079,
                        "iteration": 329,
                        "remaining_time": 2.650262435,
                        "learn": [
                          0.7663711173,
                          0.6474057422
                        ]
                      },
                      {
                        "test": [
                          0.7534333893,
                          0.680269756
                        ],
                        "passed_time": 5.158917766,
                        "iteration": 330,
                        "remaining_time": 2.634009373,
                        "learn": [
                          0.7664290682,
                          0.6473287268
                        ]
                      },
                      {
                        "test": [
                          0.7533754418,
                          0.6802870188
                        ],
                        "passed_time": 5.174288417,
                        "iteration": 331,
                        "remaining_time": 2.618314621,
                        "learn": [
                          0.7664000927,
                          0.6471952754
                        ]
                      },
                      {
                        "test": [
                          0.7534333893,
                          0.6802575625
                        ],
                        "passed_time": 5.189333167,
                        "iteration": 332,
                        "remaining_time": 2.602458375,
                        "learn": [
                          0.7664000927,
                          0.647040744
                        ]
                      },
                      {
                        "test": [
                          0.7534333893,
                          0.6802785057
                        ],
                        "passed_time": 5.202491628,
                        "iteration": 333,
                        "remaining_time": 2.585669492,
                        "learn": [
                          0.7665449699,
                          0.6469847233
                        ]
                      },
                      {
                        "test": [
                          0.7534913368,
                          0.6802636229
                        ],
                        "passed_time": 5.217749883,
                        "iteration": 334,
                        "remaining_time": 2.56993651,
                        "learn": [
                          0.7665449699,
                          0.6468941232
                        ]
                      },
                      {
                        "test": [
                          0.7534913368,
                          0.6802587614
                        ],
                        "passed_time": 5.231998994,
                        "iteration": 335,
                        "remaining_time": 2.553713795,
                        "learn": [
                          0.7666318962,
                          0.6468308193
                        ]
                      },
                      {
                        "test": [
                          0.7535492843,
                          0.6802769927
                        ],
                        "passed_time": 5.246472607,
                        "iteration": 336,
                        "remaining_time": 2.53761138,
                        "learn": [
                          0.766487019,
                          0.6467489225
                        ]
                      },
                      {
                        "test": [
                          0.7534913368,
                          0.6802940968
                        ],
                        "passed_time": 5.261871367,
                        "iteration": 337,
                        "remaining_time": 2.521962016,
                        "learn": [
                          0.766689847,
                          0.6466271285
                        ]
                      },
                      {
                        "test": [
                          0.7534333893,
                          0.6803045854
                        ],
                        "passed_time": 5.277133667,
                        "iteration": 338,
                        "remaining_time": 2.506249323,
                        "learn": [
                          0.766689847,
                          0.6465513783
                        ]
                      },
                      {
                        "test": [
                          0.7534913368,
                          0.6802911538
                        ],
                        "passed_time": 5.290891511,
                        "iteration": 339,
                        "remaining_time": 2.489831299,
                        "learn": [
                          0.7666029207,
                          0.6465074576
                        ]
                      },
                      {
                        "test": [
                          0.7534333893,
                          0.6802891994
                        ],
                        "passed_time": 5.304962112,
                        "iteration": 340,
                        "remaining_time": 2.473574709,
                        "learn": [
                          0.7667188224,
                          0.6464691084
                        ]
                      },
                      {
                        "test": [
                          0.7537231268,
                          0.6802727329
                        ],
                        "passed_time": 5.319732597,
                        "iteration": 341,
                        "remaining_time": 2.457654241,
                        "learn": [
                          0.7667767733,
                          0.646413582
                        ]
                      },
                      {
                        "test": [
                          0.7534913368,
                          0.6802624955
                        ],
                        "passed_time": 5.334357602,
                        "iteration": 342,
                        "remaining_time": 2.441673888,
                        "learn": [
                          0.766892675,
                          0.6463421922
                        ]
                      },
                      {
                        "test": [
                          0.7534913368,
                          0.6802699321
                        ],
                        "passed_time": 5.349283085,
                        "iteration": 343,
                        "remaining_time": 2.425837678,
                        "learn": [
                          0.7669216504,
                          0.6462801164
                        ]
                      },
                      {
                        "test": [
                          0.7536072318,
                          0.6802715942
                        ],
                        "passed_time": 5.363858738,
                        "iteration": 344,
                        "remaining_time": 2.409849578,
                        "learn": [
                          0.7668636996,
                          0.6462075896
                        ]
                      },
                      {
                        "test": [
                          0.7534913368,
                          0.6803085866
                        ],
                        "passed_time": 5.381345059,
                        "iteration": 345,
                        "remaining_time": 2.395165142,
                        "learn": [
                          0.7669216504,
                          0.6461375191
                        ]
                      },
                      {
                        "test": [
                          0.7531436519,
                          0.6803302896
                        ],
                        "passed_time": 5.395884299,
                        "iteration": 346,
                        "remaining_time": 2.379165123,
                        "learn": [
                          0.7669796013,
                          0.6460750083
                        ]
                      },
                      {
                        "test": [
                          0.7532015994,
                          0.6803187922
                        ],
                        "passed_time": 5.409458939,
                        "iteration": 347,
                        "remaining_time": 2.36275218,
                        "learn": [
                          0.7668347242,
                          0.6460050678
                        ]
                      },
                      {
                        "test": [
                          0.7532015994,
                          0.6803096958
                        ],
                        "passed_time": 5.423731546,
                        "iteration": 348,
                        "remaining_time": 2.346657488,
                        "learn": [
                          0.7669506259,
                          0.6459197954
                        ]
                      },
                      {
                        "test": [
                          0.7532015994,
                          0.6803057462
                        ],
                        "passed_time": 5.437403153,
                        "iteration": 349,
                        "remaining_time": 2.330315637,
                        "learn": [
                          0.7670085767,
                          0.6458722704
                        ]
                      },
                      {
                        "test": [
                          0.7532595469,
                          0.6803345815
                        ],
                        "passed_time": 5.455347626,
                        "iteration": 350,
                        "remaining_time": 2.315802839,
                        "learn": [
                          0.7670085767,
                          0.6457652921
                        ]
                      },
                      {
                        "test": [
                          0.7532595469,
                          0.6803890828
                        ],
                        "passed_time": 5.468892148,
                        "iteration": 351,
                        "remaining_time": 2.299420562,
                        "learn": [
                          0.7669796013,
                          0.6456885845
                        ]
                      },
                      {
                        "test": [
                          0.7532595469,
                          0.6804143811
                        ],
                        "passed_time": 5.502968458,
                        "iteration": 352,
                        "remaining_time": 2.291604429,
                        "learn": [
                          0.7670375522,
                          0.6456357518
                        ]
                      },
                      {
                        "test": [
                          0.7532015994,
                          0.6803908155
                        ],
                        "passed_time": 5.520857713,
                        "iteration": 353,
                        "remaining_time": 2.276963916,
                        "learn": [
                          0.7672114047,
                          0.6455872129
                        ]
                      },
                      {
                        "test": [
                          0.7533174944,
                          0.6803803068
                        ],
                        "passed_time": 5.535677656,
                        "iteration": 354,
                        "remaining_time": 2.261051437,
                        "learn": [
                          0.7671244784,
                          0.6455245942
                        ]
                      },
                      {
                        "test": [
                          0.7528539144,
                          0.680432631
                        ],
                        "passed_time": 5.550457702,
                        "iteration": 355,
                        "remaining_time": 2.245128958,
                        "learn": [
                          0.7669796013,
                          0.6454201338
                        ]
                      },
                      {
                        "test": [
                          0.7529698094,
                          0.6804057032
                        ],
                        "passed_time": 5.565662844,
                        "iteration": 356,
                        "remaining_time": 2.229383156,
                        "learn": [
                          0.7670085767,
                          0.6453049367
                        ]
                      },
                      {
                        "test": [
                          0.7529698094,
                          0.6804207133
                        ],
                        "passed_time": 5.579582353,
                        "iteration": 357,
                        "remaining_time": 2.21313043,
                        "learn": [
                          0.7672403802,
                          0.6452349979
                        ]
                      },
                      {
                        "test": [
                          0.7528539144,
                          0.6804727583
                        ],
                        "passed_time": 5.594326121,
                        "iteration": 358,
                        "remaining_time": 2.197214437,
                        "learn": [
                          0.7672114047,
                          0.6451144466
                        ]
                      },
                      {
                        "test": [
                          0.7527959669,
                          0.6804738448
                        ],
                        "passed_time": 5.608515278,
                        "iteration": 359,
                        "remaining_time": 2.181089275,
                        "learn": [
                          0.7672403802,
                          0.6450371309
                        ]
                      },
                      {
                        "test": [
                          0.7529698094,
                          0.6804891641
                        ],
                        "passed_time": 5.623190044,
                        "iteration": 360,
                        "remaining_time": 2.165161818,
                        "learn": [
                          0.7673273064,
                          0.6449617645
                        ]
                      },
                      {
                        "test": [
                          0.7530277569,
                          0.6804422316
                        ],
                        "passed_time": 5.637971801,
                        "iteration": 361,
                        "remaining_time": 2.149282068,
                        "learn": [
                          0.7672693556,
                          0.6448761707
                        ]
                      },
                      {
                        "test": [
                          0.7529698094,
                          0.6804291744
                        ],
                        "passed_time": 5.652143443,
                        "iteration": 362,
                        "remaining_time": 2.133178104,
                        "learn": [
                          0.7673852573,
                          0.6448019563
                        ]
                      },
                      {
                        "test": [
                          0.7530277569,
                          0.6804197351
                        ],
                        "passed_time": 5.666798789,
                        "iteration": 363,
                        "remaining_time": 2.117265482,
                        "learn": [
                          0.767501159,
                          0.6447317716
                        ]
                      },
                      {
                        "test": [
                          0.7529698094,
                          0.68046646
                        ],
                        "passed_time": 5.681821319,
                        "iteration": 364,
                        "remaining_time": 2.101495556,
                        "learn": [
                          0.7673852573,
                          0.6446481137
                        ]
                      },
                      {
                        "test": [
                          0.7530857044,
                          0.6804559353
                        ],
                        "passed_time": 5.695995931,
                        "iteration": 365,
                        "remaining_time": 2.085419275,
                        "learn": [
                          0.767703987,
                          0.6445882647
                        ]
                      },
                      {
                        "test": [
                          0.7528539144,
                          0.6804586795
                        ],
                        "passed_time": 5.709372522,
                        "iteration": 366,
                        "remaining_time": 2.069064156,
                        "learn": [
                          0.7679937413,
                          0.6445175384
                        ]
                      },
                      {
                        "test": [
                          0.7529118619,
                          0.6804690873
                        ],
                        "passed_time": 5.723325403,
                        "iteration": 367,
                        "remaining_time": 2.052931938,
                        "learn": [
                          0.7678488642,
                          0.6444212191
                        ]
                      },
                      {
                        "test": [
                          0.7529118619,
                          0.6804791222
                        ],
                        "passed_time": 5.737394846,
                        "iteration": 368,
                        "remaining_time": 2.036852913,
                        "learn": [
                          0.7678778396,
                          0.64435731
                        ]
                      },
                      {
                        "test": [
                          0.7529118619,
                          0.6804521455
                        ],
                        "passed_time": 5.750890157,
                        "iteration": 369,
                        "remaining_time": 2.020583028,
                        "learn": [
                          0.7677619379,
                          0.644292377
                        ]
                      },
                      {
                        "test": [
                          0.7530857044,
                          0.6804557975
                        ],
                        "passed_time": 5.764859431,
                        "iteration": 370,
                        "remaining_time": 2.004492902,
                        "learn": [
                          0.7676750116,
                          0.64424158
                        ]
                      },
                      {
                        "test": [
                          0.7528539144,
                          0.680481036
                        ],
                        "passed_time": 5.778438449,
                        "iteration": 371,
                        "remaining_time": 1.988279896,
                        "learn": [
                          0.7676750116,
                          0.6441961105
                        ]
                      },
                      {
                        "test": [
                          0.7530277569,
                          0.6804791013
                        ],
                        "passed_time": 5.792977999,
                        "iteration": 372,
                        "remaining_time": 1.972408059,
                        "learn": [
                          0.7676750116,
                          0.6440872213
                        ]
                      },
                      {
                        "test": [
                          0.7530277569,
                          0.6805628232
                        ],
                        "passed_time": 5.807505562,
                        "iteration": 373,
                        "remaining_time": 1.956539307,
                        "learn": [
                          0.7679937413,
                          0.6439440084
                        ]
                      },
                      {
                        "test": [
                          0.7529698094,
                          0.6805307919
                        ],
                        "passed_time": 5.821486774,
                        "iteration": 374,
                        "remaining_time": 1.940495591,
                        "learn": [
                          0.7679937413,
                          0.6438748594
                        ]
                      },
                      {
                        "test": [
                          0.7529698094,
                          0.6805347911
                        ],
                        "passed_time": 5.835501444,
                        "iteration": 375,
                        "remaining_time": 1.924473881,
                        "learn": [
                          0.7679357904,
                          0.6438217698
                        ]
                      },
                      {
                        "test": [
                          0.7530857044,
                          0.680499524
                        ],
                        "passed_time": 5.849347997,
                        "iteration": 376,
                        "remaining_time": 1.908407967,
                        "learn": [
                          0.768109643,
                          0.6437809821
                        ]
                      },
                      {
                        "test": [
                          0.7531436519,
                          0.6805037488
                        ],
                        "passed_time": 5.863215927,
                        "iteration": 377,
                        "remaining_time": 1.892360696,
                        "learn": [
                          0.7683704219,
                          0.6437069479
                        ]
                      },
                      {
                        "test": [
                          0.7527959669,
                          0.6805046574
                        ],
                        "passed_time": 5.877773664,
                        "iteration": 378,
                        "remaining_time": 1.876545154,
                        "learn": [
                          0.7681675939,
                          0.6436297808
                        ]
                      },
                      {
                        "test": [
                          0.7525641769,
                          0.6805217472
                        ],
                        "passed_time": 5.891811494,
                        "iteration": 379,
                        "remaining_time": 1.860572051,
                        "learn": [
                          0.7681965693,
                          0.6435939627
                        ]
                      },
                      {
                        "test": [
                          0.7527959669,
                          0.6805273338
                        ],
                        "passed_time": 5.905619201,
                        "iteration": 380,
                        "remaining_time": 1.844537231,
                        "learn": [
                          0.7681675939,
                          0.6435382938
                        ]
                      },
                      {
                        "test": [
                          0.7525641769,
                          0.6805159183
                        ],
                        "passed_time": 5.919569141,
                        "iteration": 381,
                        "remaining_time": 1.828558007,
                        "learn": [
                          0.768109643,
                          0.6434596202
                        ]
                      },
                      {
                        "test": [
                          0.7526221244,
                          0.6805448472
                        ],
                        "passed_time": 5.933669672,
                        "iteration": 382,
                        "remaining_time": 1.812635383,
                        "learn": [
                          0.7683704219,
                          0.6433942347
                        ]
                      },
                      {
                        "test": [
                          0.7527380194,
                          0.6806017362
                        ],
                        "passed_time": 5.948701004,
                        "iteration": 383,
                        "remaining_time": 1.797003428,
                        "learn": [
                          0.7683704219,
                          0.643323501
                        ]
                      },
                      {
                        "test": [
                          0.7526221244,
                          0.6805915028
                        ],
                        "passed_time": 5.962169549,
                        "iteration": 384,
                        "remaining_time": 1.780907787,
                        "learn": [
                          0.7683704219,
                          0.6432864383
                        ]
                      },
                      {
                        "test": [
                          0.7526800719,
                          0.6805976994
                        ],
                        "passed_time": 6.013217974,
                        "iteration": 385,
                        "remaining_time": 1.775924479,
                        "learn": [
                          0.7683704219,
                          0.643200341
                        ]
                      },
                      {
                        "test": [
                          0.7527959669,
                          0.6806021941
                        ],
                        "passed_time": 6.036335914,
                        "iteration": 386,
                        "remaining_time": 1.762547696,
                        "learn": [
                          0.7684863236,
                          0.6431624134
                        ]
                      },
                      {
                        "test": [
                          0.7527959669,
                          0.6805810245
                        ],
                        "passed_time": 6.051208172,
                        "iteration": 387,
                        "remaining_time": 1.746740503,
                        "learn": [
                          0.7684573482,
                          0.6431115681
                        ]
                      },
                      {
                        "test": [
                          0.7528539144,
                          0.6805503493
                        ],
                        "passed_time": 6.06568278,
                        "iteration": 388,
                        "remaining_time": 1.730824649,
                        "learn": [
                          0.7685442745,
                          0.6430381053
                        ]
                      },
                      {
                        "test": [
                          0.7527380194,
                          0.680581739
                        ],
                        "passed_time": 6.079586944,
                        "iteration": 389,
                        "remaining_time": 1.714755292,
                        "learn": [
                          0.7684863236,
                          0.6429782587
                        ]
                      },
                      {
                        "test": [
                          0.7529698094,
                          0.6805733709
                        ],
                        "passed_time": 6.093456222,
                        "iteration": 390,
                        "remaining_time": 1.698687284,
                        "learn": [
                          0.7686891516,
                          0.642901547
                        ]
                      },
                      {
                        "test": [
                          0.7529118619,
                          0.6805687783
                        ],
                        "passed_time": 6.108418631,
                        "iteration": 391,
                        "remaining_time": 1.682931664,
                        "learn": [
                          0.7687760779,
                          0.642789964
                        ]
                      },
                      {
                        "test": [
                          0.7530277569,
                          0.6805632287
                        ],
                        "passed_time": 6.124179398,
                        "iteration": 392,
                        "remaining_time": 1.667397444,
                        "learn": [
                          0.7688919796,
                          0.6427502701
                        ]
                      },
                      {
                        "test": [
                          0.7531436519,
                          0.6805232718
                        ],
                        "passed_time": 6.138328613,
                        "iteration": 393,
                        "remaining_time": 1.65142851,
                        "learn": [
                          0.7688919796,
                          0.6426667317
                        ]
                      },
                      {
                        "test": [
                          0.7531436519,
                          0.6805059807
                        ],
                        "passed_time": 6.153524067,
                        "iteration": 394,
                        "remaining_time": 1.635746904,
                        "learn": [
                          0.768920955,
                          0.6425360882
                        ]
                      },
                      {
                        "test": [
                          0.7530857044,
                          0.6805225634
                        ],
                        "passed_time": 6.169729704,
                        "iteration": 395,
                        "remaining_time": 1.620333053,
                        "learn": [
                          0.768920955,
                          0.6424347901
                        ]
                      },
                      {
                        "test": [
                          0.7530857044,
                          0.680551758
                        ],
                        "passed_time": 6.184815186,
                        "iteration": 396,
                        "remaining_time": 1.604624595,
                        "learn": [
                          0.7689499305,
                          0.6423748836
                        ]
                      },
                      {
                        "test": [
                          0.7533754418,
                          0.6805393717
                        ],
                        "passed_time": 6.198797088,
                        "iteration": 397,
                        "remaining_time": 1.58863644,
                        "learn": [
                          0.7688340287,
                          0.6423047107
                        ]
                      },
                      {
                        "test": [
                          0.7534333893,
                          0.6805265298
                        ],
                        "passed_time": 6.213096576,
                        "iteration": 398,
                        "remaining_time": 1.572738732,
                        "learn": [
                          0.7690078813,
                          0.6421889071
                        ]
                      },
                      {
                        "test": [
                          0.7534333893,
                          0.6805102124
                        ],
                        "passed_time": 6.227408901,
                        "iteration": 399,
                        "remaining_time": 1.556852225,
                        "learn": [
                          0.7690368567,
                          0.6421234744
                        ]
                      },
                      {
                        "test": [
                          0.7532595469,
                          0.680504145
                        ],
                        "passed_time": 6.241248248,
                        "iteration": 400,
                        "remaining_time": 1.540856799,
                        "learn": [
                          0.7690658322,
                          0.6420670851
                        ]
                      },
                      {
                        "test": [
                          0.7532595469,
                          0.6804829247
                        ],
                        "passed_time": 6.256067368,
                        "iteration": 401,
                        "remaining_time": 1.52511095,
                        "learn": [
                          0.7690368567,
                          0.642011362
                        ]
                      },
                      {
                        "test": [
                          0.7532595469,
                          0.6804554327
                        ],
                        "passed_time": 6.270736514,
                        "iteration": 402,
                        "remaining_time": 1.509333603,
                        "learn": [
                          0.7690658322,
                          0.6419291842
                        ]
                      },
                      {
                        "test": [
                          0.7533754418,
                          0.6804405226
                        ],
                        "passed_time": 6.285641106,
                        "iteration": 403,
                        "remaining_time": 1.493617688,
                        "learn": [
                          0.768920955,
                          0.6418828604
                        ]
                      },
                      {
                        "test": [
                          0.7531436519,
                          0.6804247792
                        ],
                        "passed_time": 6.300199077,
                        "iteration": 404,
                        "remaining_time": 1.477824475,
                        "learn": [
                          0.7688919796,
                          0.6418298936
                        ]
                      },
                      {
                        "test": [
                          0.7530277569,
                          0.680449661
                        ],
                        "passed_time": 6.314645039,
                        "iteration": 405,
                        "remaining_time": 1.462011413,
                        "learn": [
                          0.7691817339,
                          0.6417595716
                        ]
                      },
                      {
                        "test": [
                          0.7529118619,
                          0.6804709995
                        ],
                        "passed_time": 6.329326413,
                        "iteration": 406,
                        "remaining_time": 1.446258861,
                        "learn": [
                          0.769123783,
                          0.6416982207
                        ]
                      },
                      {
                        "test": [
                          0.7529118619,
                          0.6804489933
                        ],
                        "passed_time": 6.343328239,
                        "iteration": 407,
                        "remaining_time": 1.430358328,
                        "learn": [
                          0.7692686602,
                          0.6416472657
                        ]
                      },
                      {
                        "test": [
                          0.7529698094,
                          0.6804780837
                        ],
                        "passed_time": 6.357628928,
                        "iteration": 408,
                        "remaining_time": 1.414533576,
                        "learn": [
                          0.7692976356,
                          0.6415606693
                        ]
                      },
                      {
                        "test": [
                          0.7530277569,
                          0.68048106
                        ],
                        "passed_time": 6.374745789,
                        "iteration": 409,
                        "remaining_time": 1.399334441,
                        "learn": [
                          0.769326611,
                          0.6414655513
                        ]
                      },
                      {
                        "test": [
                          0.7531436519,
                          0.6804724754
                        ],
                        "passed_time": 6.389095329,
                        "iteration": 410,
                        "remaining_time": 1.383526726,
                        "learn": [
                          0.7694425127,
                          0.6413826207
                        ]
                      },
                      {
                        "test": [
                          0.7531436519,
                          0.680489201
                        ],
                        "passed_time": 6.404021789,
                        "iteration": 411,
                        "remaining_time": 1.367849314,
                        "learn": [
                          0.7695004636,
                          0.6413178124
                        ]
                      },
                      {
                        "test": [
                          0.7532015994,
                          0.6804962517
                        ],
                        "passed_time": 6.418250935,
                        "iteration": 412,
                        "remaining_time": 1.352028647,
                        "learn": [
                          0.7694425127,
                          0.6412606532
                        ]
                      },
                      {
                        "test": [
                          0.7530857044,
                          0.6804946786
                        ],
                        "passed_time": 6.433803733,
                        "iteration": 413,
                        "remaining_time": 1.33649063,
                        "learn": [
                          0.7693555865,
                          0.6412096683
                        ]
                      },
                      {
                        "test": [
                          0.7532595469,
                          0.6804565658
                        ],
                        "passed_time": 6.447985641,
                        "iteration": 414,
                        "remaining_time": 1.320671758,
                        "learn": [
                          0.7694135373,
                          0.6411656065
                        ]
                      },
                      {
                        "test": [
                          0.7532015994,
                          0.6804717157
                        ],
                        "passed_time": 6.463180254,
                        "iteration": 415,
                        "remaining_time": 1.305065244,
                        "learn": [
                          0.7694714882,
                          0.6410904109
                        ]
                      },
                      {
                        "test": [
                          0.7530857044,
                          0.6804727823
                        ],
                        "passed_time": 6.478421411,
                        "iteration": 416,
                        "remaining_time": 1.289469969,
                        "learn": [
                          0.7694714882,
                          0.6410571845
                        ]
                      },
                      {
                        "test": [
                          0.7530857044,
                          0.6804861579
                        ],
                        "passed_time": 6.49229895,
                        "iteration": 417,
                        "remaining_time": 1.273608885,
                        "learn": [
                          0.769529439,
                          0.6410055882
                        ]
                      },
                      {
                        "test": [
                          0.7530857044,
                          0.6804941738
                        ],
                        "passed_time": 6.515581976,
                        "iteration": 418,
                        "remaining_time": 1.259575513,
                        "learn": [
                          0.7695584145,
                          0.6409310943
                        ]
                      },
                      {
                        "test": [
                          0.7530277569,
                          0.6805300592
                        ],
                        "passed_time": 6.532675304,
                        "iteration": 419,
                        "remaining_time": 1.244319106,
                        "learn": [
                          0.7694135373,
                          0.6408501293
                        ]
                      },
                      {
                        "test": [
                          0.7530277569,
                          0.680542819
                        ],
                        "passed_time": 6.547705475,
                        "iteration": 420,
                        "remaining_time": 1.228666823,
                        "learn": [
                          0.7695873899,
                          0.6407625817
                        ]
                      },
                      {
                        "test": [
                          0.7529698094,
                          0.6805586709
                        ],
                        "passed_time": 6.561321448,
                        "iteration": 421,
                        "remaining_time": 1.212756097,
                        "learn": [
                          0.769529439,
                          0.6407173504
                        ]
                      },
                      {
                        "test": [
                          0.7530277569,
                          0.6805342792
                        ],
                        "passed_time": 6.576110967,
                        "iteration": 422,
                        "remaining_time": 1.197069845,
                        "learn": [
                          0.7696163653,
                          0.6406634758
                        ]
                      },
                      {
                        "test": [
                          0.7530857044,
                          0.6805606602
                        ],
                        "passed_time": 6.5906088,
                        "iteration": 423,
                        "remaining_time": 1.18133554,
                        "learn": [
                          0.7696453408,
                          0.6406015738
                        ]
                      },
                      {
                        "test": [
                          0.7531436519,
                          0.6805745438
                        ],
                        "passed_time": 6.60525353,
                        "iteration": 424,
                        "remaining_time": 1.165632976,
                        "learn": [
                          0.7696453408,
                          0.6405379151
                        ]
                      },
                      {
                        "test": [
                          0.7530277569,
                          0.6806188451
                        ],
                        "passed_time": 6.619723117,
                        "iteration": 425,
                        "remaining_time": 1.149904955,
                        "learn": [
                          0.7697612425,
                          0.6404728595
                        ]
                      },
                      {
                        "test": [
                          0.7530857044,
                          0.6806255138
                        ],
                        "passed_time": 6.634107039,
                        "iteration": 426,
                        "remaining_time": 1.134168182,
                        "learn": [
                          0.7698481688,
                          0.640415743
                        ]
                      },
                      {
                        "test": [
                          0.7528539144,
                          0.6806487779
                        ],
                        "passed_time": 6.647392347,
                        "iteration": 427,
                        "remaining_time": 1.118252918,
                        "learn": [
                          0.7699640705,
                          0.6403535046
                        ]
                      },
                      {
                        "test": [
                          0.7528539144,
                          0.6806462778
                        ],
                        "passed_time": 6.662469274,
                        "iteration": 428,
                        "remaining_time": 1.10264643,
                        "learn": [
                          0.7700509968,
                          0.6402973735
                        ]
                      },
                      {
                        "test": [
                          0.7528539144,
                          0.6806499111
                        ],
                        "passed_time": 6.676895765,
                        "iteration": 429,
                        "remaining_time": 1.08693652,
                        "learn": [
                          0.7700799722,
                          0.6402087193
                        ]
                      },
                      {
                        "test": [
                          0.7527959669,
                          0.6806541375
                        ],
                        "passed_time": 6.691704728,
                        "iteration": 430,
                        "remaining_time": 1.071293796,
                        "learn": [
                          0.7700509968,
                          0.6401052919
                        ]
                      },
                      {
                        "test": [
                          0.7529698094,
                          0.6806460114
                        ],
                        "passed_time": 6.705733305,
                        "iteration": 431,
                        "remaining_time": 1.055532094,
                        "learn": [
                          0.770137923,
                          0.6400406659
                        ]
                      },
                      {
                        "test": [
                          0.7527959669,
                          0.6806443961
                        ],
                        "passed_time": 6.720175701,
                        "iteration": 432,
                        "remaining_time": 1.03984243,
                        "learn": [
                          0.7701958739,
                          0.6399833345
                        ]
                      },
                      {
                        "test": [
                          0.7528539144,
                          0.6806514449
                        ],
                        "passed_time": 6.733857155,
                        "iteration": 433,
                        "remaining_time": 1.024042793,
                        "learn": [
                          0.7701668985,
                          0.6399217842
                        ]
                      },
                      {
                        "test": [
                          0.7526800719,
                          0.6807255987
                        ],
                        "passed_time": 6.748515667,
                        "iteration": 434,
                        "remaining_time": 1.008398893,
                        "learn": [
                          0.7702248493,
                          0.6398118096
                        ]
                      },
                      {
                        "test": [
                          0.7527380194,
                          0.6807384574
                        ],
                        "passed_time": 6.762775205,
                        "iteration": 435,
                        "remaining_time": 0.9927009475,
                        "learn": [
                          0.7700799722,
                          0.639724888
                        ]
                      },
                      {
                        "test": [
                          0.7528539144,
                          0.6807296432
                        ],
                        "passed_time": 6.776842804,
                        "iteration": 436,
                        "remaining_time": 0.9769819145,
                        "learn": [
                          0.7702248493,
                          0.6396609963
                        ]
                      },
                      {
                        "test": [
                          0.7529118619,
                          0.6807108307
                        ],
                        "passed_time": 6.790584624,
                        "iteration": 437,
                        "remaining_time": 0.9612243075,
                        "learn": [
                          0.7701958739,
                          0.6396067905
                        ]
                      },
                      {
                        "test": [
                          0.7529118619,
                          0.6807104146
                        ],
                        "passed_time": 6.805470388,
                        "iteration": 438,
                        "remaining_time": 0.9456348376,
                        "learn": [
                          0.7701958739,
                          0.6395444217
                        ]
                      },
                      {
                        "test": [
                          0.7526800719,
                          0.6806985726
                        ],
                        "passed_time": 6.820268849,
                        "iteration": 439,
                        "remaining_time": 0.9300366612,
                        "learn": [
                          0.7702538248,
                          0.6394803501
                        ]
                      },
                      {
                        "test": [
                          0.7528539144,
                          0.6806960948
                        ],
                        "passed_time": 6.835175111,
                        "iteration": 440,
                        "remaining_time": 0.9144565341,
                        "learn": [
                          0.7702248493,
                          0.639392673
                        ]
                      },
                      {
                        "test": [
                          0.7529698094,
                          0.6806966615
                        ],
                        "passed_time": 6.849666697,
                        "iteration": 441,
                        "remaining_time": 0.8988250417,
                        "learn": [
                          0.770340751,
                          0.6393213104
                        ]
                      },
                      {
                        "test": [
                          0.7529118619,
                          0.6807315693
                        ],
                        "passed_time": 6.864467541,
                        "iteration": 442,
                        "remaining_time": 0.8832384872,
                        "learn": [
                          0.7705146036,
                          0.6392474365
                        ]
                      },
                      {
                        "test": [
                          0.7529118619,
                          0.6807240422
                        ],
                        "passed_time": 6.879653297,
                        "iteration": 443,
                        "remaining_time": 0.8677040195,
                        "learn": [
                          0.7705146036,
                          0.639222819
                        ]
                      },
                      {
                        "test": [
                          0.7530857044,
                          0.6807577705
                        ],
                        "passed_time": 6.893884942,
                        "iteration": 444,
                        "remaining_time": 0.8520531951,
                        "learn": [
                          0.7705725545,
                          0.6391672268
                        ]
                      },
                      {
                        "test": [
                          0.7530277569,
                          0.6807626289
                        ],
                        "passed_time": 6.90895634,
                        "iteration": 445,
                        "remaining_time": 0.8365104089,
                        "learn": [
                          0.7704566528,
                          0.6390584561
                        ]
                      },
                      {
                        "test": [
                          0.7529118619,
                          0.6807702553
                        ],
                        "passed_time": 6.923371746,
                        "iteration": 446,
                        "remaining_time": 0.8208919519,
                        "learn": [
                          0.7706305053,
                          0.6390040991
                        ]
                      },
                      {
                        "test": [
                          0.7528539144,
                          0.6807867156
                        ],
                        "passed_time": 6.938567298,
                        "iteration": 447,
                        "remaining_time": 0.8053694185,
                        "learn": [
                          0.770543579,
                          0.6388914714
                        ]
                      },
                      {
                        "test": [
                          0.7527959669,
                          0.6807931041
                        ],
                        "passed_time": 6.95223918,
                        "iteration": 448,
                        "remaining_time": 0.7896752743,
                        "learn": [
                          0.7706015299,
                          0.6388409415
                        ]
                      },
                      {
                        "test": [
                          0.7527959669,
                          0.6808035452
                        ],
                        "passed_time": 6.966485036,
                        "iteration": 449,
                        "remaining_time": 0.7740538928,
                        "learn": [
                          0.7707174316,
                          0.6387915244
                        ]
                      },
                      {
                        "test": [
                          0.7527959669,
                          0.6807953678
                        ],
                        "passed_time": 6.981795692,
                        "iteration": 450,
                        "remaining_time": 0.7585542992,
                        "learn": [
                          0.7709202596,
                          0.638727083
                        ]
                      },
                      {
                        "test": [
                          0.7527380194,
                          0.6808142603
                        ],
                        "passed_time": 7.034059599,
                        "iteration": 451,
                        "remaining_time": 0.7469797805,
                        "learn": [
                          0.770949235,
                          0.6386751647
                        ]
                      },
                      {
                        "test": [
                          0.7526800719,
                          0.6808062973
                        ],
                        "passed_time": 7.061401588,
                        "iteration": 452,
                        "remaining_time": 0.7326398999,
                        "learn": [
                          0.7709202596,
                          0.6385784531
                        ]
                      },
                      {
                        "test": [
                          0.7528539144,
                          0.6807592924
                        ],
                        "passed_time": 7.076043822,
                        "iteration": 453,
                        "remaining_time": 0.716955982,
                        "learn": [
                          0.770949235,
                          0.6384983189
                        ]
                      },
                      {
                        "test": [
                          0.7527380194,
                          0.6807968779
                        ],
                        "passed_time": 7.090428763,
                        "iteration": 454,
                        "remaining_time": 0.7012511963,
                        "learn": [
                          0.7710651368,
                          0.6384004921
                        ]
                      },
                      {
                        "test": [
                          0.7529118619,
                          0.6807886272
                        ],
                        "passed_time": 7.104366144,
                        "iteration": 455,
                        "remaining_time": 0.6855090138,
                        "learn": [
                          0.7709782105,
                          0.638371795
                        ]
                      },
                      {
                        "test": [
                          0.7530857044,
                          0.6807846375
                        ],
                        "passed_time": 7.11896416,
                        "iteration": 456,
                        "remaining_time": 0.6698368903,
                        "learn": [
                          0.7710361613,
                          0.6383207902
                        ]
                      },
                      {
                        "test": [
                          0.7529118619,
                          0.6807747143
                        ],
                        "passed_time": 7.133011124,
                        "iteration": 457,
                        "remaining_time": 0.654118924,
                        "learn": [
                          0.7710941122,
                          0.6382594096
                        ]
                      },
                      {
                        "test": [
                          0.7528539144,
                          0.6807895303
                        ],
                        "passed_time": 7.147821315,
                        "iteration": 458,
                        "remaining_time": 0.6384764137,
                        "learn": [
                          0.7711230876,
                          0.6382075029
                        ]
                      },
                      {
                        "test": [
                          0.7526800719,
                          0.6808391044
                        ],
                        "passed_time": 7.162406488,
                        "iteration": 459,
                        "remaining_time": 0.6228179555,
                        "learn": [
                          0.7711230876,
                          0.6381372646
                        ]
                      },
                      {
                        "test": [
                          0.7527959669,
                          0.6808676812
                        ],
                        "passed_time": 7.17634252,
                        "iteration": 460,
                        "remaining_time": 0.607109237,
                        "learn": [
                          0.7712679648,
                          0.6380552858
                        ]
                      },
                      {
                        "test": [
                          0.7526800719,
                          0.6809013636
                        ],
                        "passed_time": 7.190765245,
                        "iteration": 461,
                        "remaining_time": 0.5914482236,
                        "learn": [
                          0.7712679648,
                          0.6379945608
                        ]
                      },
                      {
                        "test": [
                          0.7527959669,
                          0.6809282222
                        ],
                        "passed_time": 7.205086694,
                        "iteration": 462,
                        "remaining_time": 0.5757844659,
                        "learn": [
                          0.7713838665,
                          0.6379208912
                        ]
                      },
                      {
                        "test": [
                          0.7526221244,
                          0.6809119361
                        ],
                        "passed_time": 7.220020711,
                        "iteration": 463,
                        "remaining_time": 0.5601740207,
                        "learn": [
                          0.7713838665,
                          0.6378335665
                        ]
                      },
                      {
                        "test": [
                          0.7525641769,
                          0.6808960179
                        ],
                        "passed_time": 7.234352649,
                        "iteration": 464,
                        "remaining_time": 0.5445211671,
                        "learn": [
                          0.7714128419,
                          0.63777925
                        ]
                      },
                      {
                        "test": [
                          0.7525062294,
                          0.6808990931
                        ],
                        "passed_time": 7.249706992,
                        "iteration": 465,
                        "remaining_time": 0.5289485788,
                        "learn": [
                          0.7714997682,
                          0.6376821264
                        ]
                      },
                      {
                        "test": [
                          0.7527380194,
                          0.6808986975
                        ],
                        "passed_time": 7.263420621,
                        "iteration": 466,
                        "remaining_time": 0.5132609861,
                        "learn": [
                          0.7713548911,
                          0.6376185326
                        ]
                      },
                      {
                        "test": [
                          0.7528539144,
                          0.6808866459
                        ],
                        "passed_time": 7.278516645,
                        "iteration": 467,
                        "remaining_time": 0.4976763518,
                        "learn": [
                          0.7713259156,
                          0.637528418
                        ]
                      },
                      {
                        "test": [
                          0.7528539144,
                          0.6809082824
                        ],
                        "passed_time": 7.29408759,
                        "iteration": 468,
                        "remaining_time": 0.4821251925,
                        "learn": [
                          0.7713548911,
                          0.6374376217
                        ]
                      },
                      {
                        "test": [
                          0.7527959669,
                          0.6809146842
                        ],
                        "passed_time": 7.308778315,
                        "iteration": 469,
                        "remaining_time": 0.4665177648,
                        "learn": [
                          0.7714128419,
                          0.6373723903
                        ]
                      },
                      {
                        "test": [
                          0.7527959669,
                          0.6809137918
                        ],
                        "passed_time": 7.323092771,
                        "iteration": 470,
                        "remaining_time": 0.4508910623,
                        "learn": [
                          0.7714418173,
                          0.6373213467
                        ]
                      },
                      {
                        "test": [
                          0.7526800719,
                          0.680970194
                        ],
                        "passed_time": 7.337613958,
                        "iteration": 471,
                        "remaining_time": 0.435282184,
                        "learn": [
                          0.7714707928,
                          0.6372360169
                        ]
                      },
                      {
                        "test": [
                          0.7525641769,
                          0.6810065781
                        ],
                        "passed_time": 7.3546793,
                        "iteration": 472,
                        "remaining_time": 0.4198231313,
                        "learn": [
                          0.7714418173,
                          0.637159396
                        ]
                      },
                      {
                        "test": [
                          0.7524482819,
                          0.6809855008
                        ],
                        "passed_time": 7.369001975,
                        "iteration": 473,
                        "remaining_time": 0.4042068594,
                        "learn": [
                          0.7713548911,
                          0.6371053271
                        ]
                      },
                      {
                        "test": [
                          0.7525641769,
                          0.6809920959
                        ],
                        "passed_time": 7.38341252,
                        "iteration": 474,
                        "remaining_time": 0.3886006589,
                        "learn": [
                          0.7714997682,
                          0.6370633332
                        ]
                      },
                      {
                        "test": [
                          0.7523323869,
                          0.6809924084
                        ],
                        "passed_time": 7.397560288,
                        "iteration": 475,
                        "remaining_time": 0.372986233,
                        "learn": [
                          0.7715287436,
                          0.6370058303
                        ]
                      },
                      {
                        "test": [
                          0.7524482819,
                          0.6809898826
                        ],
                        "passed_time": 7.411594548,
                        "iteration": 476,
                        "remaining_time": 0.3573724834,
                        "learn": [
                          0.7714997682,
                          0.636928888
                        ]
                      },
                      {
                        "test": [
                          0.7522164919,
                          0.6809999726
                        ],
                        "passed_time": 7.426489044,
                        "iteration": 477,
                        "remaining_time": 0.3418049351,
                        "learn": [
                          0.7716156699,
                          0.6368398493
                        ]
                      },
                      {
                        "test": [
                          0.7521005969,
                          0.6810602571
                        ],
                        "passed_time": 7.441734578,
                        "iteration": 478,
                        "remaining_time": 0.3262555869,
                        "learn": [
                          0.7717315716,
                          0.6367157093
                        ]
                      },
                      {
                        "test": [
                          0.7522164919,
                          0.6810509691
                        ],
                        "passed_time": 7.457091495,
                        "iteration": 479,
                        "remaining_time": 0.3107121456,
                        "learn": [
                          0.7715866945,
                          0.6365941091
                        ]
                      },
                      {
                        "test": [
                          0.7522164919,
                          0.6810257037
                        ],
                        "passed_time": 7.471501324,
                        "iteration": 480,
                        "remaining_time": 0.2951320689,
                        "learn": [
                          0.7716736208,
                          0.6365052961
                        ]
                      },
                      {
                        "test": [
                          0.7522164919,
                          0.6810513061
                        ],
                        "passed_time": 7.486751193,
                        "iteration": 481,
                        "remaining_time": 0.2795882188,
                        "learn": [
                          0.7717605471,
                          0.636386453
                        ]
                      },
                      {
                        "test": [
                          0.7522744394,
                          0.6810352434
                        ],
                        "passed_time": 7.508222271,
                        "iteration": 482,
                        "remaining_time": 0.264264552,
                        "learn": [
                          0.7717895225,
                          0.6362670889
                        ]
                      },
                      {
                        "test": [
                          0.7522744394,
                          0.6810241401
                        ],
                        "passed_time": 7.535213015,
                        "iteration": 483,
                        "remaining_time": 0.2490979509,
                        "learn": [
                          0.7719054242,
                          0.6361492714
                        ]
                      },
                      {
                        "test": [
                          0.7523903344,
                          0.6810399703
                        ],
                        "passed_time": 7.549584646,
                        "iteration": 484,
                        "remaining_time": 0.2334923086,
                        "learn": [
                          0.7719343996,
                          0.6360678721
                        ]
                      },
                      {
                        "test": [
                          0.7523903344,
                          0.6810577367
                        ],
                        "passed_time": 7.564514413,
                        "iteration": 485,
                        "remaining_time": 0.2179078226,
                        "learn": [
                          0.7719633751,
                          0.6360232426
                        ]
                      },
                      {
                        "test": [
                          0.7525062294,
                          0.6810947672
                        ],
                        "passed_time": 7.578632222,
                        "iteration": 486,
                        "remaining_time": 0.2023043509,
                        "learn": [
                          0.7719633751,
                          0.6359545151
                        ]
                      },
                      {
                        "test": [
                          0.7525062294,
                          0.6811253404
                        ],
                        "passed_time": 7.592189274,
                        "iteration": 487,
                        "remaining_time": 0.1866931789,
                        "learn": [
                          0.7719343996,
                          0.6359093675
                        ]
                      },
                      {
                        "test": [
                          0.7525641769,
                          0.6811093776
                        ],
                        "passed_time": 7.606988947,
                        "iteration": 488,
                        "remaining_time": 0.1711183608,
                        "learn": [
                          0.7719343996,
                          0.6358650892
                        ]
                      },
                      {
                        "test": [
                          0.7525641769,
                          0.6811190132
                        ],
                        "passed_time": 7.621791393,
                        "iteration": 489,
                        "remaining_time": 0.1555467631,
                        "learn": [
                          0.7718764488,
                          0.6357887812
                        ]
                      },
                      {
                        "test": [
                          0.7525062294,
                          0.6811087201
                        ],
                        "passed_time": 7.637477906,
                        "iteration": 490,
                        "remaining_time": 0.1399945034,
                        "learn": [
                          0.7719633751,
                          0.6356384389
                        ]
                      },
                      {
                        "test": [
                          0.7527380194,
                          0.6811199684
                        ],
                        "passed_time": 7.652067615,
                        "iteration": 491,
                        "remaining_time": 0.1244238637,
                        "learn": [
                          0.7720213259,
                          0.6355878854
                        ]
                      },
                      {
                        "test": [
                          0.7527380194,
                          0.6811456181
                        ],
                        "passed_time": 7.667919204,
                        "iteration": 492,
                        "remaining_time": 0.1088751205,
                        "learn": [
                          0.7720792768,
                          0.6355438994
                        ]
                      },
                      {
                        "test": [
                          0.7527959669,
                          0.6811678122
                        ],
                        "passed_time": 7.682678188,
                        "iteration": 493,
                        "remaining_time": 0.09331188083,
                        "learn": [
                          0.7721082522,
                          0.635484642
                        ]
                      },
                      {
                        "test": [
                          0.7525641769,
                          0.6811751058
                        ],
                        "passed_time": 7.697315585,
                        "iteration": 494,
                        "remaining_time": 0.07775066248,
                        "learn": [
                          0.7721372276,
                          0.6354138833
                        ]
                      },
                      {
                        "test": [
                          0.7526221244,
                          0.6812095734
                        ],
                        "passed_time": 7.712287709,
                        "iteration": 495,
                        "remaining_time": 0.06219586862,
                        "learn": [
                          0.7721951785,
                          0.6353185598
                        ]
                      },
                      {
                        "test": [
                          0.7527380194,
                          0.6811862488
                        ],
                        "passed_time": 7.726886404,
                        "iteration": 496,
                        "remaining_time": 0.04664116541,
                        "learn": [
                          0.7723980065,
                          0.6352476103
                        ]
                      },
                      {
                        "test": [
                          0.7526221244,
                          0.6811838058
                        ],
                        "passed_time": 7.741872857,
                        "iteration": 497,
                        "remaining_time": 0.03109185886,
                        "learn": [
                          0.7722241539,
                          0.6351587241
                        ]
                      },
                      {
                        "test": [
                          0.7526221244,
                          0.681183249
                        ],
                        "passed_time": 7.757388895,
                        "iteration": 498,
                        "remaining_time": 0.01554586953,
                        "learn": [
                          0.7722241539,
                          0.6350902252
                        ]
                      },
                      {
                        "test": [
                          0.7525641769,
                          0.6812169137
                        ],
                        "passed_time": 7.771697972,
                        "iteration": 499,
                        "remaining_time": 0,
                        "learn": [
                          0.7723110802,
                          0.6350065104
                        ]
                      }
                    ]
                  },
                  "total_iterations": 500,
                  "passed_iterations": 499
                },
                "path": "catboost_info/fold-0",
                "name": "fold-0"
              },
              "catboost_info/fold-2": {
                "content": {
                  "data": {
                    "meta": {
                      "name": "experiment",
                      "parameters": "",
                      "test_metrics": [
                        {
                          "best_value": "Max",
                          "name": "Accuracy"
                        },
                        {
                          "best_value": "Min",
                          "name": "MultiClass"
                        }
                      ],
                      "learn_sets": [
                        "learn"
                      ],
                      "launch_mode": "Train",
                      "learn_metrics": [
                        {
                          "best_value": "Max",
                          "name": "Accuracy"
                        },
                        {
                          "best_value": "Min",
                          "name": "MultiClass"
                        }
                      ],
                      "iteration_count": 500,
                      "test_sets": [
                        "test"
                      ]
                    },
                    "iterations": [
                      {
                        "test": [
                          0.7503332367,
                          1.018804204
                        ],
                        "passed_time": 0.01706357166,
                        "iteration": 0,
                        "remaining_time": 8.514722259,
                        "learn": [
                          0.7525931506,
                          1.018074768
                        ]
                      },
                      {
                        "test": [
                          0.7514343669,
                          0.9580771372
                        ],
                        "passed_time": 0.03253027189,
                        "iteration": 1,
                        "remaining_time": 8.1000377,
                        "learn": [
                          0.7537231268,
                          0.9570905864
                        ]
                      },
                      {
                        "test": [
                          0.7514343669,
                          0.9101308179
                        ],
                        "passed_time": 0.04995554505,
                        "iteration": 2,
                        "remaining_time": 8.27596863,
                        "learn": [
                          0.7535203106,
                          0.9090074886
                        ]
                      },
                      {
                        "test": [
                          0.7512605042,
                          0.8723224821
                        ],
                        "passed_time": 0.06502223896,
                        "iteration": 3,
                        "remaining_time": 8.062757632,
                        "learn": [
                          0.7527380194,
                          0.8712259072
                        ]
                      },
                      {
                        "test": [
                          0.7518980006,
                          0.8415127037
                        ],
                        "passed_time": 0.0799380474,
                        "iteration": 4,
                        "remaining_time": 7.913866692,
                        "learn": [
                          0.7530277569,
                          0.8400780033
                        ]
                      },
                      {
                        "test": [
                          0.7516661837,
                          0.8163245038
                        ],
                        "passed_time": 0.09709290084,
                        "iteration": 5,
                        "remaining_time": 7.993982169,
                        "learn": [
                          0.7532305731,
                          0.8148299305
                        ]
                      },
                      {
                        "test": [
                          0.7516082295,
                          0.7955861762
                        ],
                        "passed_time": 0.1126495632,
                        "iteration": 6,
                        "remaining_time": 7.933747811,
                        "learn": [
                          0.7532885206,
                          0.7938283961
                        ]
                      },
                      {
                        "test": [
                          0.7520718632,
                          0.7783115936
                        ],
                        "passed_time": 0.1275918599,
                        "iteration": 7,
                        "remaining_time": 7.846899386,
                        "learn": [
                          0.7532015994,
                          0.7764778554
                        ]
                      },
                      {
                        "test": [
                          0.7518400464,
                          0.7637535034
                        ],
                        "passed_time": 0.1420874964,
                        "iteration": 8,
                        "remaining_time": 7.751662304,
                        "learn": [
                          0.7535492843,
                          0.7617317682
                        ]
                      },
                      {
                        "test": [
                          0.7515502753,
                          0.7516841148
                        ],
                        "passed_time": 0.1563242365,
                        "iteration": 9,
                        "remaining_time": 7.65988759,
                        "learn": [
                          0.7535203106,
                          0.7495207015
                        ]
                      },
                      {
                        "test": [
                          0.752013909,
                          0.7416235958
                        ],
                        "passed_time": 0.170607266,
                        "iteration": 10,
                        "remaining_time": 7.58426846,
                        "learn": [
                          0.7534044156,
                          0.7392994931
                        ]
                      },
                      {
                        "test": [
                          0.7517820921,
                          0.7332855863
                        ],
                        "passed_time": 0.1849939597,
                        "iteration": 11,
                        "remaining_time": 7.523087695,
                        "learn": [
                          0.7533754418,
                          0.7308933223
                        ]
                      },
                      {
                        "test": [
                          0.7518400464,
                          0.7262184303
                        ],
                        "passed_time": 0.1995134984,
                        "iteration": 12,
                        "remaining_time": 7.474082594,
                        "learn": [
                          0.7533754418,
                          0.7237877001
                        ]
                      },
                      {
                        "test": [
                          0.7517820921,
                          0.7203181705
                        ],
                        "passed_time": 0.2138949618,
                        "iteration": 13,
                        "remaining_time": 7.425210818,
                        "learn": [
                          0.7533174944,
                          0.7177589742
                        ]
                      },
                      {
                        "test": [
                          0.7518400464,
                          0.7154521574
                        ],
                        "passed_time": 0.2280568002,
                        "iteration": 14,
                        "remaining_time": 7.373836539,
                        "learn": [
                          0.7534044156,
                          0.7127575756
                        ]
                      },
                      {
                        "test": [
                          0.7518400464,
                          0.7110901363
                        ],
                        "passed_time": 0.2429220199,
                        "iteration": 15,
                        "remaining_time": 7.348391103,
                        "learn": [
                          0.7534333893,
                          0.70841215
                        ]
                      },
                      {
                        "test": [
                          0.7521298174,
                          0.7074966748
                        ],
                        "passed_time": 0.2571979526,
                        "iteration": 16,
                        "remaining_time": 7.307447713,
                        "learn": [
                          0.7536941531,
                          0.7045511677
                        ]
                      },
                      {
                        "test": [
                          0.7521298174,
                          0.7044585008
                        ],
                        "passed_time": 0.2720430099,
                        "iteration": 17,
                        "remaining_time": 7.284707266,
                        "learn": [
                          0.7536072318,
                          0.701365883
                        ]
                      },
                      {
                        "test": [
                          0.752013909,
                          0.7017352126
                        ],
                        "passed_time": 0.287375722,
                        "iteration": 18,
                        "remaining_time": 7.275143277,
                        "learn": [
                          0.7536941531,
                          0.6985325691
                        ]
                      },
                      {
                        "test": [
                          0.7519559548,
                          0.6993861895
                        ],
                        "passed_time": 0.3019608388,
                        "iteration": 19,
                        "remaining_time": 7.247060131,
                        "learn": [
                          0.7537231268,
                          0.696170555
                        ]
                      },
                      {
                        "test": [
                          0.7521298174,
                          0.6972622174
                        ],
                        "passed_time": 0.3172433776,
                        "iteration": 20,
                        "remaining_time": 7.236170375,
                        "learn": [
                          0.7537521006,
                          0.6939266376
                        ]
                      },
                      {
                        "test": [
                          0.7519559548,
                          0.6956125358
                        ],
                        "passed_time": 0.3323357357,
                        "iteration": 21,
                        "remaining_time": 7.220749166,
                        "learn": [
                          0.7539259431,
                          0.6922587654
                        ]
                      },
                      {
                        "test": [
                          0.752013909,
                          0.6943181665
                        ],
                        "passed_time": 0.3472144557,
                        "iteration": 22,
                        "remaining_time": 7.200925886,
                        "learn": [
                          0.7538969693,
                          0.6907924776
                        ]
                      },
                      {
                        "test": [
                          0.752013909,
                          0.6931400194
                        ],
                        "passed_time": 0.3651997525,
                        "iteration": 23,
                        "remaining_time": 7.243128425,
                        "learn": [
                          0.7540997856,
                          0.6895200458
                        ]
                      },
                      {
                        "test": [
                          0.7519559548,
                          0.6921392602
                        ],
                        "passed_time": 0.3799998638,
                        "iteration": 24,
                        "remaining_time": 7.219997411,
                        "learn": [
                          0.7540997856,
                          0.6884492239
                        ]
                      },
                      {
                        "test": [
                          0.7518400464,
                          0.6911016518
                        ],
                        "passed_time": 0.3950815553,
                        "iteration": 25,
                        "remaining_time": 7.202640662,
                        "learn": [
                          0.7542446543,
                          0.6872902182
                        ]
                      },
                      {
                        "test": [
                          0.7518400464,
                          0.6901878947
                        ],
                        "passed_time": 0.4103306764,
                        "iteration": 26,
                        "remaining_time": 7.188385553,
                        "learn": [
                          0.7542446543,
                          0.6862996758
                        ]
                      },
                      {
                        "test": [
                          0.7516661837,
                          0.6894064873
                        ],
                        "passed_time": 0.4647400011,
                        "iteration": 27,
                        "remaining_time": 7.83418859,
                        "learn": [
                          0.7541577331,
                          0.6853098378
                        ]
                      },
                      {
                        "test": [
                          0.7516661837,
                          0.6888515059
                        ],
                        "passed_time": 0.5052865942,
                        "iteration": 28,
                        "remaining_time": 8.206551236,
                        "learn": [
                          0.7543605493,
                          0.6846688602
                        ]
                      },
                      {
                        "test": [
                          0.7517820921,
                          0.6883052998
                        ],
                        "passed_time": 0.534518187,
                        "iteration": 29,
                        "remaining_time": 8.374118263,
                        "learn": [
                          0.7544184968,
                          0.6840480296
                        ]
                      },
                      {
                        "test": [
                          0.7516661837,
                          0.687889177
                        ],
                        "passed_time": 0.5602242362,
                        "iteration": 30,
                        "remaining_time": 8.475650541,
                        "learn": [
                          0.7545633656,
                          0.6835701756
                        ]
                      },
                      {
                        "test": [
                          0.7517241379,
                          0.6875626135
                        ],
                        "passed_time": 0.57480446,
                        "iteration": 31,
                        "remaining_time": 8.406515228,
                        "learn": [
                          0.7546502868,
                          0.683085502
                        ]
                      },
                      {
                        "test": [
                          0.7516661837,
                          0.6871278583
                        ],
                        "passed_time": 0.5898217303,
                        "iteration": 32,
                        "remaining_time": 8.346871154,
                        "learn": [
                          0.7545923393,
                          0.6825317139
                        ]
                      },
                      {
                        "test": [
                          0.7518980006,
                          0.6867209952
                        ],
                        "passed_time": 0.6050599145,
                        "iteration": 33,
                        "remaining_time": 8.292880004,
                        "learn": [
                          0.7544474706,
                          0.6820122758
                        ]
                      },
                      {
                        "test": [
                          0.7518980006,
                          0.6864695912
                        ],
                        "passed_time": 0.6195254307,
                        "iteration": 34,
                        "remaining_time": 8.230837865,
                        "learn": [
                          0.7544474706,
                          0.6816225572
                        ]
                      },
                      {
                        "test": [
                          0.752013909,
                          0.6862612056
                        ],
                        "passed_time": 0.6342942275,
                        "iteration": 35,
                        "remaining_time": 8.175347821,
                        "learn": [
                          0.7545633656,
                          0.6813019669
                        ]
                      },
                      {
                        "test": [
                          0.7517820921,
                          0.685813788
                        ],
                        "passed_time": 0.649948877,
                        "iteration": 36,
                        "remaining_time": 8.133144056,
                        "learn": [
                          0.7544474706,
                          0.6806773456
                        ]
                      },
                      {
                        "test": [
                          0.7518980006,
                          0.685500431
                        ],
                        "passed_time": 0.6651899791,
                        "iteration": 37,
                        "remaining_time": 8.087309746,
                        "learn": [
                          0.7543895231,
                          0.6802496316
                        ]
                      },
                      {
                        "test": [
                          0.7519559548,
                          0.6851937999
                        ],
                        "passed_time": 0.6814895978,
                        "iteration": 38,
                        "remaining_time": 8.055556528,
                        "learn": [
                          0.7545054181,
                          0.6798334086
                        ]
                      },
                      {
                        "test": [
                          0.7519559548,
                          0.6849535126
                        ],
                        "passed_time": 0.710367971,
                        "iteration": 39,
                        "remaining_time": 8.169231666,
                        "learn": [
                          0.7547082343,
                          0.679520074
                        ]
                      },
                      {
                        "test": [
                          0.7518980006,
                          0.6847634031
                        ],
                        "passed_time": 0.7260879382,
                        "iteration": 40,
                        "remaining_time": 8.128643015,
                        "learn": [
                          0.7547372081,
                          0.679238386
                        ]
                      },
                      {
                        "test": [
                          0.7518400464,
                          0.6845961165
                        ],
                        "passed_time": 0.7411447634,
                        "iteration": 41,
                        "remaining_time": 8.082007181,
                        "learn": [
                          0.7547372081,
                          0.6789611008
                        ]
                      },
                      {
                        "test": [
                          0.7518400464,
                          0.6839796161
                        ],
                        "passed_time": 0.7571384732,
                        "iteration": 42,
                        "remaining_time": 8.046797261,
                        "learn": [
                          0.7547661818,
                          0.6783289864
                        ]
                      },
                      {
                        "test": [
                          0.7516661837,
                          0.6838774571
                        ],
                        "passed_time": 0.7720963221,
                        "iteration": 43,
                        "remaining_time": 8.00172552,
                        "learn": [
                          0.7546213131,
                          0.6781201413
                        ]
                      },
                      {
                        "test": [
                          0.7517241379,
                          0.6837209743
                        ],
                        "passed_time": 0.786988431,
                        "iteration": 44,
                        "remaining_time": 7.957327469,
                        "learn": [
                          0.7546213131,
                          0.677930136
                        ]
                      },
                      {
                        "test": [
                          0.7516082295,
                          0.6836081609
                        ],
                        "passed_time": 0.802286488,
                        "iteration": 45,
                        "remaining_time": 7.918218816,
                        "learn": [
                          0.7546502868,
                          0.67772902
                        ]
                      },
                      {
                        "test": [
                          0.7515502753,
                          0.6833909919
                        ],
                        "passed_time": 0.8176468297,
                        "iteration": 46,
                        "remaining_time": 7.880723699,
                        "learn": [
                          0.7545923393,
                          0.6774167348
                        ]
                      },
                      {
                        "test": [
                          0.7516082295,
                          0.6831364017
                        ],
                        "passed_time": 0.8328567146,
                        "iteration": 47,
                        "remaining_time": 7.842734062,
                        "learn": [
                          0.7545633656,
                          0.6771090817
                        ]
                      },
                      {
                        "test": [
                          0.7516082295,
                          0.6829822485
                        ],
                        "passed_time": 0.8478974394,
                        "iteration": 48,
                        "remaining_time": 7.804117248,
                        "learn": [
                          0.7545923393,
                          0.6768233066
                        ]
                      },
                      {
                        "test": [
                          0.7515502753,
                          0.6829231435
                        ],
                        "passed_time": 0.8632857526,
                        "iteration": 49,
                        "remaining_time": 7.769571773,
                        "learn": [
                          0.7545633656,
                          0.6766229907
                        ]
                      },
                      {
                        "test": [
                          0.7516661837,
                          0.6827315073
                        ],
                        "passed_time": 0.8792411935,
                        "iteration": 50,
                        "remaining_time": 7.740770508,
                        "learn": [
                          0.7544764443,
                          0.6763927872
                        ]
                      },
                      {
                        "test": [
                          0.7515502753,
                          0.6826522133
                        ],
                        "passed_time": 0.8947965031,
                        "iteration": 51,
                        "remaining_time": 7.709016027,
                        "learn": [
                          0.7545923393,
                          0.67625418
                        ]
                      },
                      {
                        "test": [
                          0.7516082295,
                          0.6825707779
                        ],
                        "passed_time": 0.9102125078,
                        "iteration": 52,
                        "remaining_time": 7.676697944,
                        "learn": [
                          0.7545923393,
                          0.6760549052
                        ]
                      },
                      {
                        "test": [
                          0.7516082295,
                          0.6825471949
                        ],
                        "passed_time": 0.9255780921,
                        "iteration": 53,
                        "remaining_time": 7.644589427,
                        "learn": [
                          0.7545923393,
                          0.6758231861
                        ]
                      },
                      {
                        "test": [
                          0.7516082295,
                          0.6824811872
                        ],
                        "passed_time": 0.9412567202,
                        "iteration": 54,
                        "remaining_time": 7.615622555,
                        "learn": [
                          0.7547082343,
                          0.6756707893
                        ]
                      },
                      {
                        "test": [
                          0.7516082295,
                          0.6824716706
                        ],
                        "passed_time": 0.9556053969,
                        "iteration": 55,
                        "remaining_time": 7.576585647,
                        "learn": [
                          0.7547951556,
                          0.6755437325
                        ]
                      },
                      {
                        "test": [
                          0.7516661837,
                          0.6824316753
                        ],
                        "passed_time": 0.9702675888,
                        "iteration": 56,
                        "remaining_time": 7.540851611,
                        "learn": [
                          0.7549110506,
                          0.6753855561
                        ]
                      },
                      {
                        "test": [
                          0.7516082295,
                          0.6823652321
                        ],
                        "passed_time": 0.9864168171,
                        "iteration": 57,
                        "remaining_time": 7.517176434,
                        "learn": [
                          0.7547951556,
                          0.6752770807
                        ]
                      },
                      {
                        "test": [
                          0.7516661837,
                          0.6823316648
                        ],
                        "passed_time": 1.001249935,
                        "iteration": 58,
                        "remaining_time": 7.483919003,
                        "learn": [
                          0.7547372081,
                          0.6751221898
                        ]
                      },
                      {
                        "test": [
                          0.7515502753,
                          0.6822609746
                        ],
                        "passed_time": 1.016428688,
                        "iteration": 59,
                        "remaining_time": 7.453810381,
                        "learn": [
                          0.7547951556,
                          0.6749001572
                        ]
                      },
                      {
                        "test": [
                          0.7515502753,
                          0.682210967
                        ],
                        "passed_time": 1.031770722,
                        "iteration": 60,
                        "remaining_time": 7.425366345,
                        "learn": [
                          0.7548241293,
                          0.6747405542
                        ]
                      },
                      {
                        "test": [
                          0.7515502753,
                          0.6821963001
                        ],
                        "passed_time": 1.046443559,
                        "iteration": 61,
                        "remaining_time": 7.392617399,
                        "learn": [
                          0.7549979718,
                          0.6746194362
                        ]
                      },
                      {
                        "test": [
                          0.7516082295,
                          0.6822028022
                        ],
                        "passed_time": 1.061218719,
                        "iteration": 62,
                        "remaining_time": 7.361152067,
                        "learn": [
                          0.7550559193,
                          0.6744658428
                        ]
                      },
                      {
                        "test": [
                          0.7517241379,
                          0.6821185253
                        ],
                        "passed_time": 1.076355001,
                        "iteration": 63,
                        "remaining_time": 7.332668444,
                        "learn": [
                          0.7549979718,
                          0.6742625155
                        ]
                      },
                      {
                        "test": [
                          0.7516082295,
                          0.6820196936
                        ],
                        "passed_time": 1.091648238,
                        "iteration": 64,
                        "remaining_time": 7.305645904,
                        "learn": [
                          0.7549110506,
                          0.6740413145
                        ]
                      },
                      {
                        "test": [
                          0.7517241379,
                          0.6819535736
                        ],
                        "passed_time": 1.106740678,
                        "iteration": 65,
                        "remaining_time": 7.2776584,
                        "learn": [
                          0.7549110506,
                          0.6738991021
                        ]
                      },
                      {
                        "test": [
                          0.7516661837,
                          0.6818600815
                        ],
                        "passed_time": 1.12239298,
                        "iteration": 66,
                        "remaining_time": 7.253674035,
                        "learn": [
                          0.7549689981,
                          0.6737118327
                        ]
                      },
                      {
                        "test": [
                          0.7516082295,
                          0.681764936
                        ],
                        "passed_time": 1.137594418,
                        "iteration": 67,
                        "remaining_time": 7.227070418,
                        "learn": [
                          0.7549110506,
                          0.6735024573
                        ]
                      },
                      {
                        "test": [
                          0.7516661837,
                          0.6817012408
                        ],
                        "passed_time": 1.152100862,
                        "iteration": 68,
                        "remaining_time": 7.196456106,
                        "learn": [
                          0.7549400243,
                          0.6733547153
                        ]
                      },
                      {
                        "test": [
                          0.7516082295,
                          0.681689021
                        ],
                        "passed_time": 1.166586229,
                        "iteration": 69,
                        "remaining_time": 7.166172551,
                        "learn": [
                          0.7550559193,
                          0.6732271878
                        ]
                      },
                      {
                        "test": [
                          0.7515502753,
                          0.6816921723
                        ],
                        "passed_time": 1.181124957,
                        "iteration": 70,
                        "remaining_time": 7.136656429,
                        "learn": [
                          0.7550559193,
                          0.6731345602
                        ]
                      },
                      {
                        "test": [
                          0.7517820921,
                          0.6816327747
                        ],
                        "passed_time": 1.195417439,
                        "iteration": 71,
                        "remaining_time": 7.106092554,
                        "learn": [
                          0.7550848931,
                          0.6730516277
                        ]
                      },
                      {
                        "test": [
                          0.7517241379,
                          0.6815390728
                        ],
                        "passed_time": 1.210114512,
                        "iteration": 72,
                        "remaining_time": 7.078341049,
                        "learn": [
                          0.7552007881,
                          0.6729285442
                        ]
                      },
                      {
                        "test": [
                          0.7517241379,
                          0.6813714148
                        ],
                        "passed_time": 1.225045229,
                        "iteration": 73,
                        "remaining_time": 7.052287398,
                        "learn": [
                          0.7552007881,
                          0.672700772
                        ]
                      },
                      {
                        "test": [
                          0.7517820921,
                          0.6813422478
                        ],
                        "passed_time": 1.240674366,
                        "iteration": 74,
                        "remaining_time": 7.030488075,
                        "learn": [
                          0.7551718143,
                          0.6725558284
                        ]
                      },
                      {
                        "test": [
                          0.7517241379,
                          0.681349186
                        ],
                        "passed_time": 1.255194178,
                        "iteration": 75,
                        "remaining_time": 7.002662259,
                        "learn": [
                          0.7552007881,
                          0.6724606363
                        ]
                      },
                      {
                        "test": [
                          0.7517241379,
                          0.6812245344
                        ],
                        "passed_time": 1.272145457,
                        "iteration": 76,
                        "remaining_time": 6.98853933,
                        "learn": [
                          0.7551718143,
                          0.6722804817
                        ]
                      },
                      {
                        "test": [
                          0.7518400464,
                          0.6812293686
                        ],
                        "passed_time": 1.287826011,
                        "iteration": 77,
                        "remaining_time": 6.967468933,
                        "learn": [
                          0.7552297618,
                          0.6722206434
                        ]
                      },
                      {
                        "test": [
                          0.7516082295,
                          0.681206114
                        ],
                        "passed_time": 1.302526293,
                        "iteration": 78,
                        "remaining_time": 6.941311002,
                        "learn": [
                          0.7553456568,
                          0.6720575342
                        ]
                      },
                      {
                        "test": [
                          0.7516082295,
                          0.6811775025
                        ],
                        "passed_time": 1.316467793,
                        "iteration": 79,
                        "remaining_time": 6.911455913,
                        "learn": [
                          0.7554325781,
                          0.6719645284
                        ]
                      },
                      {
                        "test": [
                          0.7516082295,
                          0.6810571216
                        ],
                        "passed_time": 1.332237785,
                        "iteration": 80,
                        "remaining_time": 6.891452244,
                        "learn": [
                          0.7553746306,
                          0.6717741915
                        ]
                      },
                      {
                        "test": [
                          0.7517241379,
                          0.680970573
                        ],
                        "passed_time": 1.351480398,
                        "iteration": 81,
                        "remaining_time": 6.889253737,
                        "learn": [
                          0.7554036043,
                          0.6715647567
                        ]
                      },
                      {
                        "test": [
                          0.7516661837,
                          0.6809679148
                        ],
                        "passed_time": 1.365993346,
                        "iteration": 82,
                        "remaining_time": 6.862882232,
                        "learn": [
                          0.7553456568,
                          0.6714866782
                        ]
                      },
                      {
                        "test": [
                          0.7517241379,
                          0.6809711214
                        ],
                        "passed_time": 1.379999097,
                        "iteration": 83,
                        "remaining_time": 6.834281241,
                        "learn": [
                          0.7555774468,
                          0.6713662411
                        ]
                      },
                      {
                        "test": [
                          0.7518980006,
                          0.6808670091
                        ],
                        "passed_time": 1.394785942,
                        "iteration": 84,
                        "remaining_time": 6.809837245,
                        "learn": [
                          0.7555484731,
                          0.6712206362
                        ]
                      },
                      {
                        "test": [
                          0.7518980006,
                          0.6808804389
                        ],
                        "passed_time": 1.408983168,
                        "iteration": 85,
                        "remaining_time": 6.782779436,
                        "learn": [
                          0.7558092368,
                          0.6711239409
                        ]
                      },
                      {
                        "test": [
                          0.7518980006,
                          0.6808297061
                        ],
                        "passed_time": 1.423701769,
                        "iteration": 86,
                        "remaining_time": 6.758492305,
                        "learn": [
                          0.7557512893,
                          0.671022908
                        ]
                      },
                      {
                        "test": [
                          0.7517241379,
                          0.6807620272
                        ],
                        "passed_time": 1.439243094,
                        "iteration": 87,
                        "remaining_time": 6.738274488,
                        "learn": [
                          0.7558382106,
                          0.6708429836
                        ]
                      },
                      {
                        "test": [
                          0.7517241379,
                          0.6806953038
                        ],
                        "passed_time": 1.454426038,
                        "iteration": 88,
                        "remaining_time": 6.716506759,
                        "learn": [
                          0.7557802631,
                          0.6707300072
                        ]
                      },
                      {
                        "test": [
                          0.7516082295,
                          0.6807348076
                        ],
                        "passed_time": 1.468630334,
                        "iteration": 89,
                        "remaining_time": 6.690427077,
                        "learn": [
                          0.7558961581,
                          0.6706065568
                        ]
                      },
                      {
                        "test": [
                          0.7516661837,
                          0.6807279655
                        ],
                        "passed_time": 1.483065756,
                        "iteration": 90,
                        "remaining_time": 6.66564719,
                        "learn": [
                          0.7559830793,
                          0.6704194542
                        ]
                      },
                      {
                        "test": [
                          0.7518400464,
                          0.6806372054
                        ],
                        "passed_time": 1.622595523,
                        "iteration": 91,
                        "remaining_time": 7.195858408,
                        "learn": [
                          0.7559830793,
                          0.6702748125
                        ]
                      },
                      {
                        "test": [
                          0.7516082295,
                          0.6806407011
                        ],
                        "passed_time": 1.650930348,
                        "iteration": 92,
                        "remaining_time": 7.225039263,
                        "learn": [
                          0.7559541056,
                          0.6701869615
                        ]
                      },
                      {
                        "test": [
                          0.7517241379,
                          0.6805807868
                        ],
                        "passed_time": 1.686132695,
                        "iteration": 93,
                        "remaining_time": 7.282658235,
                        "learn": [
                          0.7559830793,
                          0.6700465021
                        ]
                      },
                      {
                        "test": [
                          0.7516082295,
                          0.6805287774
                        ],
                        "passed_time": 1.701399503,
                        "iteration": 94,
                        "remaining_time": 7.253334722,
                        "learn": [
                          0.7559541056,
                          0.6699272893
                        ]
                      },
                      {
                        "test": [
                          0.7516082295,
                          0.6804601244
                        ],
                        "passed_time": 1.726418328,
                        "iteration": 95,
                        "remaining_time": 7.265343796,
                        "learn": [
                          0.7561569218,
                          0.6697669832
                        ]
                      },
                      {
                        "test": [
                          0.7516661837,
                          0.6805068727
                        ],
                        "passed_time": 1.741662112,
                        "iteration": 96,
                        "remaining_time": 7.235977642,
                        "learn": [
                          0.7563597381,
                          0.6695767929
                        ]
                      },
                      {
                        "test": [
                          0.7516661837,
                          0.6804895398
                        ],
                        "passed_time": 1.756353926,
                        "iteration": 97,
                        "remaining_time": 7.204635493,
                        "learn": [
                          0.7563307643,
                          0.6694676186
                        ]
                      },
                      {
                        "test": [
                          0.7516661837,
                          0.6804655044
                        ],
                        "passed_time": 1.7718992,
                        "iteration": 98,
                        "remaining_time": 7.17708666,
                        "learn": [
                          0.7563307643,
                          0.6693491077
                        ]
                      },
                      {
                        "test": [
                          0.7517241379,
                          0.680458812
                        ],
                        "passed_time": 1.78628025,
                        "iteration": 99,
                        "remaining_time": 7.145121,
                        "learn": [
                          0.7565335806,
                          0.6692462411
                        ]
                      },
                      {
                        "test": [
                          0.7518980006,
                          0.6804523137
                        ],
                        "passed_time": 1.801310781,
                        "iteration": 100,
                        "remaining_time": 7.116069322,
                        "learn": [
                          0.7563307643,
                          0.6691034949
                        ]
                      },
                      {
                        "test": [
                          0.7517820921,
                          0.6804185188
                        ],
                        "passed_time": 1.816360614,
                        "iteration": 101,
                        "remaining_time": 7.087367886,
                        "learn": [
                          0.7563887118,
                          0.668966966
                        ]
                      },
                      {
                        "test": [
                          0.7515502753,
                          0.6803932563
                        ],
                        "passed_time": 1.831289716,
                        "iteration": 102,
                        "remaining_time": 7.058466187,
                        "learn": [
                          0.7563597381,
                          0.6688838362
                        ]
                      },
                      {
                        "test": [
                          0.7517820921,
                          0.6802758576
                        ],
                        "passed_time": 1.846393321,
                        "iteration": 103,
                        "remaining_time": 7.030497647,
                        "learn": [
                          0.7563017906,
                          0.6687149328
                        ]
                      },
                      {
                        "test": [
                          0.7515502753,
                          0.6803073329
                        ],
                        "passed_time": 1.863150718,
                        "iteration": 104,
                        "remaining_time": 7.008995557,
                        "learn": [
                          0.7563597381,
                          0.6686406551
                        ]
                      },
                      {
                        "test": [
                          0.7517820921,
                          0.6803283375
                        ],
                        "passed_time": 1.877445128,
                        "iteration": 105,
                        "remaining_time": 6.978428117,
                        "learn": [
                          0.7562438431,
                          0.6684735856
                        ]
                      },
                      {
                        "test": [
                          0.7515502753,
                          0.6803163304
                        ],
                        "passed_time": 1.891975573,
                        "iteration": 106,
                        "remaining_time": 6.949031778,
                        "learn": [
                          0.7564756331,
                          0.6684003374
                        ]
                      },
                      {
                        "test": [
                          0.7514343669,
                          0.6803242957
                        ],
                        "passed_time": 1.905657458,
                        "iteration": 107,
                        "remaining_time": 6.916830775,
                        "learn": [
                          0.7563887118,
                          0.6683375308
                        ]
                      },
                      {
                        "test": [
                          0.7516082295,
                          0.680271748
                        ],
                        "passed_time": 1.919507128,
                        "iteration": 108,
                        "remaining_time": 6.885571439,
                        "learn": [
                          0.7564756331,
                          0.6682139981
                        ]
                      },
                      {
                        "test": [
                          0.7517241379,
                          0.6802194515
                        ],
                        "passed_time": 1.93384613,
                        "iteration": 109,
                        "remaining_time": 6.85636355,
                        "learn": [
                          0.7564756331,
                          0.6681151281
                        ]
                      },
                      {
                        "test": [
                          0.7517241379,
                          0.6802082468
                        ],
                        "passed_time": 1.948519332,
                        "iteration": 110,
                        "remaining_time": 6.828594775,
                        "learn": [
                          0.7565625543,
                          0.6679860695
                        ]
                      },
                      {
                        "test": [
                          0.7518400464,
                          0.6801974189
                        ],
                        "passed_time": 1.963129781,
                        "iteration": 111,
                        "remaining_time": 6.800842455,
                        "learn": [
                          0.7567363968,
                          0.6678885853
                        ]
                      },
                      {
                        "test": [
                          0.7517241379,
                          0.6801994939
                        ],
                        "passed_time": 1.976327871,
                        "iteration": 112,
                        "remaining_time": 6.768485718,
                        "learn": [
                          0.7565335806,
                          0.6678044797
                        ]
                      },
                      {
                        "test": [
                          0.7519559548,
                          0.6802566815
                        ],
                        "passed_time": 1.990589658,
                        "iteration": 113,
                        "remaining_time": 6.740066737,
                        "learn": [
                          0.7567074231,
                          0.6677006914
                        ]
                      },
                      {
                        "test": [
                          0.7519559548,
                          0.6802377956
                        ],
                        "passed_time": 2.00521437,
                        "iteration": 114,
                        "remaining_time": 6.713108977,
                        "learn": [
                          0.7566784493,
                          0.6675622786
                        ]
                      },
                      {
                        "test": [
                          0.7519559548,
                          0.6802513934
                        ],
                        "passed_time": 2.01979781,
                        "iteration": 115,
                        "remaining_time": 6.686227232,
                        "learn": [
                          0.7565915281,
                          0.6674588526
                        ]
                      },
                      {
                        "test": [
                          0.7520718632,
                          0.680249184
                        ],
                        "passed_time": 2.034792474,
                        "iteration": 116,
                        "remaining_time": 6.660901858,
                        "learn": [
                          0.7565335806,
                          0.6673245099
                        ]
                      },
                      {
                        "test": [
                          0.752013909,
                          0.6802588616
                        ],
                        "passed_time": 2.049866263,
                        "iteration": 117,
                        "remaining_time": 6.636007731,
                        "learn": [
                          0.7566205018,
                          0.6672049241
                        ]
                      },
                      {
                        "test": [
                          0.752013909,
                          0.6801353965
                        ],
                        "passed_time": 2.064687314,
                        "iteration": 118,
                        "remaining_time": 6.610469469,
                        "learn": [
                          0.7568233181,
                          0.6670539835
                        ]
                      },
                      {
                        "test": [
                          0.752013909,
                          0.6800625117
                        ],
                        "passed_time": 2.079903473,
                        "iteration": 119,
                        "remaining_time": 6.586360997,
                        "learn": [
                          0.7567074231,
                          0.6668659256
                        ]
                      },
                      {
                        "test": [
                          0.7518980006,
                          0.6799650393
                        ],
                        "passed_time": 2.094753939,
                        "iteration": 120,
                        "remaining_time": 6.561254074,
                        "learn": [
                          0.7567363968,
                          0.6666904013
                        ]
                      },
                      {
                        "test": [
                          0.7519559548,
                          0.680014917
                        ],
                        "passed_time": 2.108868819,
                        "iteration": 121,
                        "remaining_time": 6.534036178,
                        "learn": [
                          0.7569102393,
                          0.6665622034
                        ]
                      },
                      {
                        "test": [
                          0.7520718632,
                          0.6800206223
                        ],
                        "passed_time": 2.123888978,
                        "iteration": 122,
                        "remaining_time": 6.509806053,
                        "learn": [
                          0.7568233181,
                          0.6664604401
                        ]
                      },
                      {
                        "test": [
                          0.7521877717,
                          0.6800231707
                        ],
                        "passed_time": 2.138380877,
                        "iteration": 123,
                        "remaining_time": 6.48412266,
                        "learn": [
                          0.7567074231,
                          0.6663878683
                        ]
                      },
                      {
                        "test": [
                          0.7521877717,
                          0.6799450309
                        ],
                        "passed_time": 2.154240396,
                        "iteration": 124,
                        "remaining_time": 6.462721188,
                        "learn": [
                          0.7567653706,
                          0.6662203619
                        ]
                      },
                      {
                        "test": [
                          0.7521298174,
                          0.6799048549
                        ],
                        "passed_time": 2.168811229,
                        "iteration": 125,
                        "remaining_time": 6.437582538,
                        "learn": [
                          0.7566494756,
                          0.6661382228
                        ]
                      },
                      {
                        "test": [
                          0.7521298174,
                          0.679928032
                        ],
                        "passed_time": 2.183046809,
                        "iteration": 126,
                        "remaining_time": 6.411625668,
                        "learn": [
                          0.7568522918,
                          0.6660207454
                        ]
                      },
                      {
                        "test": [
                          0.752013909,
                          0.6799125988
                        ],
                        "passed_time": 2.197624738,
                        "iteration": 127,
                        "remaining_time": 6.386846893,
                        "learn": [
                          0.7569681868,
                          0.6659276691
                        ]
                      },
                      {
                        "test": [
                          0.752013909,
                          0.6799025936
                        ],
                        "passed_time": 2.21177147,
                        "iteration": 128,
                        "remaining_time": 6.360986167,
                        "learn": [
                          0.7569971606,
                          0.665864887
                        ]
                      },
                      {
                        "test": [
                          0.752013909,
                          0.6799011389
                        ],
                        "passed_time": 2.226353228,
                        "iteration": 129,
                        "remaining_time": 6.336543802,
                        "learn": [
                          0.7570261343,
                          0.6657699341
                        ]
                      },
                      {
                        "test": [
                          0.7521298174,
                          0.6799143913
                        ],
                        "passed_time": 2.240572842,
                        "iteration": 130,
                        "remaining_time": 6.311231899,
                        "learn": [
                          0.7571130556,
                          0.6656786559
                        ]
                      },
                      {
                        "test": [
                          0.7521298174,
                          0.6799081852
                        ],
                        "passed_time": 2.255053017,
                        "iteration": 131,
                        "remaining_time": 6.286814471,
                        "learn": [
                          0.7571420293,
                          0.6655295427
                        ]
                      },
                      {
                        "test": [
                          0.7520718632,
                          0.679892957
                        ],
                        "passed_time": 2.27282632,
                        "iteration": 132,
                        "remaining_time": 6.271633531,
                        "learn": [
                          0.7570840818,
                          0.6654191423
                        ]
                      },
                      {
                        "test": [
                          0.7521298174,
                          0.679900423
                        ],
                        "passed_time": 2.287497949,
                        "iteration": 133,
                        "remaining_time": 6.247942158,
                        "learn": [
                          0.7570261343,
                          0.66532154
                        ]
                      },
                      {
                        "test": [
                          0.7520718632,
                          0.6798969072
                        ],
                        "passed_time": 2.301790499,
                        "iteration": 134,
                        "remaining_time": 6.223359498,
                        "learn": [
                          0.7569102393,
                          0.6652189966
                        ]
                      },
                      {
                        "test": [
                          0.7519559548,
                          0.6798983825
                        ],
                        "passed_time": 2.316096834,
                        "iteration": 135,
                        "remaining_time": 6.198965056,
                        "learn": [
                          0.7571420293,
                          0.6651398039
                        ]
                      },
                      {
                        "test": [
                          0.7518980006,
                          0.6798697961
                        ],
                        "passed_time": 2.331249775,
                        "iteration": 136,
                        "remaining_time": 6.176961083,
                        "learn": [
                          0.7573448456,
                          0.6650163399
                        ]
                      },
                      {
                        "test": [
                          0.7519559548,
                          0.6798962382
                        ],
                        "passed_time": 2.348169773,
                        "iteration": 137,
                        "remaining_time": 6.159691724,
                        "learn": [
                          0.7574317668,
                          0.6648630363
                        ]
                      },
                      {
                        "test": [
                          0.7518980006,
                          0.6798640497
                        ],
                        "passed_time": 2.362583627,
                        "iteration": 138,
                        "remaining_time": 6.135918629,
                        "learn": [
                          0.7575476618,
                          0.6647282485
                        ]
                      },
                      {
                        "test": [
                          0.752013909,
                          0.6798954891
                        ],
                        "passed_time": 2.377128822,
                        "iteration": 139,
                        "remaining_time": 6.112616971,
                        "learn": [
                          0.7576345831,
                          0.6646346025
                        ]
                      },
                      {
                        "test": [
                          0.752013909,
                          0.6799154676
                        ],
                        "passed_time": 2.391673915,
                        "iteration": 140,
                        "remaining_time": 6.08943926,
                        "learn": [
                          0.7574317668,
                          0.6644966229
                        ]
                      },
                      {
                        "test": [
                          0.7521298174,
                          0.679960153
                        ],
                        "passed_time": 2.406900854,
                        "iteration": 141,
                        "remaining_time": 6.068102152,
                        "learn": [
                          0.7576345831,
                          0.6643966077
                        ]
                      },
                      {
                        "test": [
                          0.752013909,
                          0.679962126
                        ],
                        "passed_time": 2.421008415,
                        "iteration": 142,
                        "remaining_time": 6.044055974,
                        "learn": [
                          0.7577794518,
                          0.6643342325
                        ]
                      },
                      {
                        "test": [
                          0.7520718632,
                          0.6799223708
                        ],
                        "passed_time": 2.43591488,
                        "iteration": 143,
                        "remaining_time": 6.022122897,
                        "learn": [
                          0.7577504781,
                          0.6642053564
                        ]
                      },
                      {
                        "test": [
                          0.7520718632,
                          0.6797951421
                        ],
                        "passed_time": 2.450721043,
                        "iteration": 144,
                        "remaining_time": 6.000041174,
                        "learn": [
                          0.7577504781,
                          0.6640112163
                        ]
                      },
                      {
                        "test": [
                          0.752013909,
                          0.6798307198
                        ],
                        "passed_time": 2.465102941,
                        "iteration": 145,
                        "remaining_time": 5.977030418,
                        "learn": [
                          0.7580112418,
                          0.6638453777
                        ]
                      },
                      {
                        "test": [
                          0.7518980006,
                          0.6798769959
                        ],
                        "passed_time": 2.478887984,
                        "iteration": 146,
                        "remaining_time": 5.952703798,
                        "learn": [
                          0.7578953468,
                          0.6637918294
                        ]
                      },
                      {
                        "test": [
                          0.7518400464,
                          0.6798928787
                        ],
                        "passed_time": 2.49361345,
                        "iteration": 147,
                        "remaining_time": 5.930756312,
                        "learn": [
                          0.7579532943,
                          0.6636801221
                        ]
                      },
                      {
                        "test": [
                          0.7518980006,
                          0.679783719
                        ],
                        "passed_time": 2.508646723,
                        "iteration": 148,
                        "remaining_time": 5.909630872,
                        "learn": [
                          0.7578373993,
                          0.6635112661
                        ]
                      },
                      {
                        "test": [
                          0.7518980006,
                          0.6798140836
                        ],
                        "passed_time": 2.524481036,
                        "iteration": 149,
                        "remaining_time": 5.890455751,
                        "learn": [
                          0.7579243206,
                          0.6633105791
                        ]
                      },
                      {
                        "test": [
                          0.7518980006,
                          0.6797961847
                        ],
                        "passed_time": 2.538483623,
                        "iteration": 150,
                        "remaining_time": 5.867091287,
                        "learn": [
                          0.7580981631,
                          0.6631707678
                        ]
                      },
                      {
                        "test": [
                          0.7518980006,
                          0.6797897732
                        ],
                        "passed_time": 2.552878589,
                        "iteration": 151,
                        "remaining_time": 5.844748348,
                        "learn": [
                          0.7580981631,
                          0.6630593698
                        ]
                      },
                      {
                        "test": [
                          0.7518980006,
                          0.679781951
                        ],
                        "passed_time": 2.566412113,
                        "iteration": 152,
                        "remaining_time": 5.820555578,
                        "learn": [
                          0.7582720056,
                          0.6629678227
                        ]
                      },
                      {
                        "test": [
                          0.7517820921,
                          0.6797644186
                        ],
                        "passed_time": 2.581191167,
                        "iteration": 153,
                        "remaining_time": 5.799299634,
                        "learn": [
                          0.7584458481,
                          0.6628745957
                        ]
                      },
                      {
                        "test": [
                          0.7518400464,
                          0.6797908328
                        ],
                        "passed_time": 2.595599277,
                        "iteration": 154,
                        "remaining_time": 5.777301617,
                        "learn": [
                          0.7583589268,
                          0.6627700419
                        ]
                      },
                      {
                        "test": [
                          0.7519559548,
                          0.6797845449
                        ],
                        "passed_time": 2.650384474,
                        "iteration": 155,
                        "remaining_time": 5.844437559,
                        "learn": [
                          0.7583299531,
                          0.6627022913
                        ]
                      },
                      {
                        "test": [
                          0.7519559548,
                          0.6797866124
                        ],
                        "passed_time": 2.694806247,
                        "iteration": 156,
                        "remaining_time": 5.887379254,
                        "learn": [
                          0.7584168743,
                          0.6626221424
                        ]
                      },
                      {
                        "test": [
                          0.752013909,
                          0.6797832545
                        ],
                        "passed_time": 2.718693127,
                        "iteration": 157,
                        "remaining_time": 5.884766135,
                        "learn": [
                          0.7583299531,
                          0.6625057228
                        ]
                      },
                      {
                        "test": [
                          0.7519559548,
                          0.6798056393
                        ],
                        "passed_time": 2.753465953,
                        "iteration": 158,
                        "remaining_time": 5.905232011,
                        "learn": [
                          0.7583879006,
                          0.6624176512
                        ]
                      },
                      {
                        "test": [
                          0.7519559548,
                          0.6798233975
                        ],
                        "passed_time": 2.773801958,
                        "iteration": 159,
                        "remaining_time": 5.894329161,
                        "learn": [
                          0.7585617431,
                          0.6623276192
                        ]
                      },
                      {
                        "test": [
                          0.7522457259,
                          0.6798484049
                        ],
                        "passed_time": 2.803117419,
                        "iteration": 160,
                        "remaining_time": 5.90221618,
                        "learn": [
                          0.7586776381,
                          0.6621875583
                        ]
                      },
                      {
                        "test": [
                          0.7520718632,
                          0.6798450942
                        ],
                        "passed_time": 2.817574862,
                        "iteration": 161,
                        "remaining_time": 5.878643848,
                        "learn": [
                          0.7585907168,
                          0.6620949326
                        ]
                      },
                      {
                        "test": [
                          0.752013909,
                          0.6798664634
                        ],
                        "passed_time": 2.83302701,
                        "iteration": 162,
                        "remaining_time": 5.857239892,
                        "learn": [
                          0.7585617431,
                          0.6619824302
                        ]
                      },
                      {
                        "test": [
                          0.7520718632,
                          0.6798763838
                        ],
                        "passed_time": 2.848019842,
                        "iteration": 163,
                        "remaining_time": 5.834967481,
                        "learn": [
                          0.7586486643,
                          0.6619052635
                        ]
                      },
                      {
                        "test": [
                          0.7521877717,
                          0.6798514438
                        ],
                        "passed_time": 2.861709213,
                        "iteration": 164,
                        "remaining_time": 5.810136887,
                        "learn": [
                          0.7589384018,
                          0.6618243465
                        ]
                      },
                      {
                        "test": [
                          0.7521298174,
                          0.6798647331
                        ],
                        "passed_time": 2.876014127,
                        "iteration": 165,
                        "remaining_time": 5.786679026,
                        "learn": [
                          0.7589094281,
                          0.6617447658
                        ]
                      },
                      {
                        "test": [
                          0.7521877717,
                          0.6798787596
                        ],
                        "passed_time": 2.890011866,
                        "iteration": 166,
                        "remaining_time": 5.762718271,
                        "learn": [
                          0.7590253231,
                          0.6616480271
                        ]
                      },
                      {
                        "test": [
                          0.7522457259,
                          0.6798684098
                        ],
                        "passed_time": 2.903895217,
                        "iteration": 167,
                        "remaining_time": 5.738650072,
                        "learn": [
                          0.7591701918,
                          0.6615696704
                        ]
                      },
                      {
                        "test": [
                          0.752013909,
                          0.6798584206
                        ],
                        "passed_time": 2.918041653,
                        "iteration": 168,
                        "remaining_time": 5.715217675,
                        "learn": [
                          0.7591701918,
                          0.6615228548
                        ]
                      },
                      {
                        "test": [
                          0.7521877717,
                          0.6798559158
                        ],
                        "passed_time": 2.932626038,
                        "iteration": 169,
                        "remaining_time": 5.692744663,
                        "learn": [
                          0.7591701918,
                          0.6614536798
                        ]
                      },
                      {
                        "test": [
                          0.7520718632,
                          0.6798550959
                        ],
                        "passed_time": 2.946347175,
                        "iteration": 170,
                        "remaining_time": 5.668703044,
                        "learn": [
                          0.7593440343,
                          0.6613740273
                        ]
                      },
                      {
                        "test": [
                          0.7520718632,
                          0.6798701448
                        ],
                        "passed_time": 2.960602915,
                        "iteration": 171,
                        "remaining_time": 5.645800907,
                        "learn": [
                          0.7593150606,
                          0.6612722659
                        ]
                      },
                      {
                        "test": [
                          0.7522457259,
                          0.6798442222
                        ],
                        "passed_time": 2.975210805,
                        "iteration": 172,
                        "remaining_time": 5.623664353,
                        "learn": [
                          0.7594309556,
                          0.6611707293
                        ]
                      },
                      {
                        "test": [
                          0.7521877717,
                          0.6798149667
                        ],
                        "passed_time": 2.98928323,
                        "iteration": 173,
                        "remaining_time": 5.600611108,
                        "learn": [
                          0.7593440343,
                          0.6610974146
                        ]
                      },
                      {
                        "test": [
                          0.7520718632,
                          0.6798133196
                        ],
                        "passed_time": 3.00324014,
                        "iteration": 174,
                        "remaining_time": 5.577445975,
                        "learn": [
                          0.7593730081,
                          0.6610180611
                        ]
                      },
                      {
                        "test": [
                          0.7518980006,
                          0.6798218278
                        ],
                        "passed_time": 3.017391834,
                        "iteration": 175,
                        "remaining_time": 5.554744057,
                        "learn": [
                          0.7593440343,
                          0.6609399915
                        ]
                      },
                      {
                        "test": [
                          0.7517820921,
                          0.6798177462
                        ],
                        "passed_time": 3.032070614,
                        "iteration": 176,
                        "remaining_time": 5.533100611,
                        "learn": [
                          0.7593440343,
                          0.6608618313
                        ]
                      },
                      {
                        "test": [
                          0.7518400464,
                          0.6798374799
                        ],
                        "passed_time": 3.04918661,
                        "iteration": 177,
                        "remaining_time": 5.515944317,
                        "learn": [
                          0.7593150606,
                          0.6607396776
                        ]
                      },
                      {
                        "test": [
                          0.7517241379,
                          0.6798098937
                        ],
                        "passed_time": 3.063140696,
                        "iteration": 178,
                        "remaining_time": 5.493118231,
                        "learn": [
                          0.7593730081,
                          0.6606648324
                        ]
                      },
                      {
                        "test": [
                          0.7516661837,
                          0.6797228859
                        ],
                        "passed_time": 3.078259252,
                        "iteration": 179,
                        "remaining_time": 5.472460893,
                        "learn": [
                          0.7593150606,
                          0.6605378221
                        ]
                      },
                      {
                        "test": [
                          0.7515502753,
                          0.6796992544
                        ],
                        "passed_time": 3.093408348,
                        "iteration": 180,
                        "remaining_time": 5.45191858,
                        "learn": [
                          0.7594309556,
                          0.6604484775
                        ]
                      },
                      {
                        "test": [
                          0.7514343669,
                          0.6797115923
                        ],
                        "passed_time": 3.107128267,
                        "iteration": 181,
                        "remaining_time": 5.4289384,
                        "learn": [
                          0.7595178768,
                          0.6603546167
                        ]
                      },
                      {
                        "test": [
                          0.7514923211,
                          0.6797241176
                        ],
                        "passed_time": 3.121296825,
                        "iteration": 182,
                        "remaining_time": 5.406836576,
                        "learn": [
                          0.7596047981,
                          0.6602855594
                        ]
                      },
                      {
                        "test": [
                          0.7514343669,
                          0.6797262379
                        ],
                        "passed_time": 3.134971475,
                        "iteration": 183,
                        "remaining_time": 5.38397275,
                        "learn": [
                          0.7595178768,
                          0.6602254621
                        ]
                      },
                      {
                        "test": [
                          0.7514923211,
                          0.6797034094
                        ],
                        "passed_time": 3.149439578,
                        "iteration": 184,
                        "remaining_time": 5.362559281,
                        "learn": [
                          0.7595758243,
                          0.6601494576
                        ]
                      },
                      {
                        "test": [
                          0.7516661837,
                          0.6797131353
                        ],
                        "passed_time": 3.163780953,
                        "iteration": 185,
                        "remaining_time": 5.341006554,
                        "learn": [
                          0.7595758243,
                          0.6600361596
                        ]
                      },
                      {
                        "test": [
                          0.7517241379,
                          0.6797451302
                        ],
                        "passed_time": 3.177887938,
                        "iteration": 186,
                        "remaining_time": 5.319138633,
                        "learn": [
                          0.7594599293,
                          0.6599504366
                        ]
                      },
                      {
                        "test": [
                          0.752013909,
                          0.6797029181
                        ],
                        "passed_time": 3.191940166,
                        "iteration": 187,
                        "remaining_time": 5.297262404,
                        "learn": [
                          0.7596917193,
                          0.6598092171
                        ]
                      },
                      {
                        "test": [
                          0.7519559548,
                          0.6797125064
                        ],
                        "passed_time": 3.206123042,
                        "iteration": 188,
                        "remaining_time": 5.275683947,
                        "learn": [
                          0.7596337718,
                          0.6597538836
                        ]
                      },
                      {
                        "test": [
                          0.7517820921,
                          0.6797242498
                        ],
                        "passed_time": 3.219791597,
                        "iteration": 189,
                        "remaining_time": 5.253344185,
                        "learn": [
                          0.7597206931,
                          0.6596745989
                        ]
                      },
                      {
                        "test": [
                          0.7515502753,
                          0.6797133444
                        ],
                        "passed_time": 3.233909641,
                        "iteration": 190,
                        "remaining_time": 5.231822403,
                        "learn": [
                          0.7596627456,
                          0.6596097946
                        ]
                      },
                      {
                        "test": [
                          0.7517820921,
                          0.6797345707
                        ],
                        "passed_time": 3.248973653,
                        "iteration": 191,
                        "remaining_time": 5.211895235,
                        "learn": [
                          0.7598076143,
                          0.6595085527
                        ]
                      },
                      {
                        "test": [
                          0.7518400464,
                          0.6797649987
                        ],
                        "passed_time": 3.263657068,
                        "iteration": 192,
                        "remaining_time": 5.191413056,
                        "learn": [
                          0.7597786406,
                          0.6594115139
                        ]
                      },
                      {
                        "test": [
                          0.7520718632,
                          0.6797251254
                        ],
                        "passed_time": 3.27819417,
                        "iteration": 193,
                        "remaining_time": 5.170759876,
                        "learn": [
                          0.7597496668,
                          0.6593071116
                        ]
                      },
                      {
                        "test": [
                          0.7522457259,
                          0.6797161028
                        ],
                        "passed_time": 3.292893984,
                        "iteration": 194,
                        "remaining_time": 5.150423924,
                        "learn": [
                          0.7597786406,
                          0.6592499967
                        ]
                      },
                      {
                        "test": [
                          0.7521298174,
                          0.6797612214
                        ],
                        "passed_time": 3.307363943,
                        "iteration": 195,
                        "remaining_time": 5.129788973,
                        "learn": [
                          0.7600394043,
                          0.659139568
                        ]
                      },
                      {
                        "test": [
                          0.7519559548,
                          0.6797475344
                        ],
                        "passed_time": 3.321978171,
                        "iteration": 196,
                        "remaining_time": 5.109438507,
                        "learn": [
                          0.7600973518,
                          0.6590345788
                        ]
                      },
                      {
                        "test": [
                          0.7519559548,
                          0.6797359287
                        ],
                        "passed_time": 3.340061693,
                        "iteration": 197,
                        "remaining_time": 5.094437532,
                        "learn": [
                          0.7600104305,
                          0.6589286574
                        ]
                      },
                      {
                        "test": [
                          0.7519559548,
                          0.6797715229
                        ],
                        "passed_time": 3.354167752,
                        "iteration": 198,
                        "remaining_time": 5.073389413,
                        "learn": [
                          0.7601263255,
                          0.6588488243
                        ]
                      },
                      {
                        "test": [
                          0.7517241379,
                          0.679757988
                        ],
                        "passed_time": 3.368856125,
                        "iteration": 199,
                        "remaining_time": 5.053284188,
                        "learn": [
                          0.7601552993,
                          0.6587655128
                        ]
                      },
                      {
                        "test": [
                          0.7516082295,
                          0.6797591169
                        ],
                        "passed_time": 3.385387285,
                        "iteration": 200,
                        "remaining_time": 5.035974121,
                        "learn": [
                          0.7602132468,
                          0.658657975
                        ]
                      },
                      {
                        "test": [
                          0.7514923211,
                          0.6797980001
                        ],
                        "passed_time": 3.401462668,
                        "iteration": 201,
                        "remaining_time": 5.017999381,
                        "learn": [
                          0.7601263255,
                          0.6585803159
                        ]
                      },
                      {
                        "test": [
                          0.7517820921,
                          0.6798331366
                        ],
                        "passed_time": 3.415561953,
                        "iteration": 202,
                        "remaining_time": 4.997152217,
                        "learn": [
                          0.7601552993,
                          0.65848182
                        ]
                      },
                      {
                        "test": [
                          0.7514923211,
                          0.6798391214
                        ],
                        "passed_time": 3.430251967,
                        "iteration": 203,
                        "remaining_time": 4.977228344,
                        "learn": [
                          0.7600973518,
                          0.6583447258
                        ]
                      },
                      {
                        "test": [
                          0.7516661837,
                          0.6798028738
                        ],
                        "passed_time": 3.445029932,
                        "iteration": 204,
                        "remaining_time": 4.957482097,
                        "learn": [
                          0.7602132468,
                          0.6581928187
                        ]
                      },
                      {
                        "test": [
                          0.7517241379,
                          0.6798193241
                        ],
                        "passed_time": 3.459864956,
                        "iteration": 205,
                        "remaining_time": 4.937865519,
                        "learn": [
                          0.7603291418,
                          0.6581036182
                        ]
                      },
                      {
                        "test": [
                          0.7516082295,
                          0.6798217602
                        ],
                        "passed_time": 3.474469418,
                        "iteration": 206,
                        "remaining_time": 4.91796879,
                        "learn": [
                          0.760531958,
                          0.6580394716
                        ]
                      },
                      {
                        "test": [
                          0.7516661837,
                          0.6798161646
                        ],
                        "passed_time": 3.490314747,
                        "iteration": 207,
                        "remaining_time": 4.899864933,
                        "learn": [
                          0.7605899055,
                          0.6579119843
                        ]
                      },
                      {
                        "test": [
                          0.7517241379,
                          0.6797665423
                        ],
                        "passed_time": 3.505072008,
                        "iteration": 208,
                        "remaining_time": 4.880267724,
                        "learn": [
                          0.7604740105,
                          0.6578317686
                        ]
                      },
                      {
                        "test": [
                          0.7516082295,
                          0.6797805613
                        ],
                        "passed_time": 3.520246344,
                        "iteration": 209,
                        "remaining_time": 4.86129257,
                        "learn": [
                          0.7603870893,
                          0.6577026608
                        ]
                      },
                      {
                        "test": [
                          0.7516661837,
                          0.6797358927
                        ],
                        "passed_time": 3.535668842,
                        "iteration": 210,
                        "remaining_time": 4.842693343,
                        "learn": [
                          0.7603870893,
                          0.6575501295
                        ]
                      },
                      {
                        "test": [
                          0.7516661837,
                          0.6797740869
                        ],
                        "passed_time": 3.550432817,
                        "iteration": 211,
                        "remaining_time": 4.823229487,
                        "learn": [
                          0.7603581155,
                          0.6574915606
                        ]
                      },
                      {
                        "test": [
                          0.7517820921,
                          0.6797844495
                        ],
                        "passed_time": 3.564781638,
                        "iteration": 212,
                        "remaining_time": 4.803250376,
                        "learn": [
                          0.760531958,
                          0.6574356161
                        ]
                      },
                      {
                        "test": [
                          0.7517241379,
                          0.6797825001
                        ],
                        "passed_time": 3.579759357,
                        "iteration": 213,
                        "remaining_time": 4.784164375,
                        "learn": [
                          0.7605609318,
                          0.6573677923
                        ]
                      },
                      {
                        "test": [
                          0.7518400464,
                          0.6797641242
                        ],
                        "passed_time": 3.593886459,
                        "iteration": 214,
                        "remaining_time": 4.763989027,
                        "learn": [
                          0.7605609318,
                          0.657306893
                        ]
                      },
                      {
                        "test": [
                          0.7517820921,
                          0.6797669846
                        ],
                        "passed_time": 3.607678197,
                        "iteration": 215,
                        "remaining_time": 4.743428741,
                        "learn": [
                          0.7607058005,
                          0.6572316148
                        ]
                      },
                      {
                        "test": [
                          0.7518400464,
                          0.679724439
                        ],
                        "passed_time": 3.62234271,
                        "iteration": 216,
                        "remaining_time": 4.724069064,
                        "learn": [
                          0.760647853,
                          0.6571516152
                        ]
                      },
                      {
                        "test": [
                          0.7518400464,
                          0.6797106256
                        ],
                        "passed_time": 3.636928527,
                        "iteration": 217,
                        "remaining_time": 4.704650663,
                        "learn": [
                          0.7606768268,
                          0.657028365
                        ]
                      },
                      {
                        "test": [
                          0.7519559548,
                          0.6797591337
                        ],
                        "passed_time": 3.65180598,
                        "iteration": 218,
                        "remaining_time": 4.685650595,
                        "learn": [
                          0.760531958,
                          0.6568972923
                        ]
                      },
                      {
                        "test": [
                          0.7518980006,
                          0.6797515341
                        ],
                        "passed_time": 3.668308752,
                        "iteration": 219,
                        "remaining_time": 4.668756593,
                        "learn": [
                          0.760763748,
                          0.6567716257
                        ]
                      },
                      {
                        "test": [
                          0.7514923211,
                          0.6797681389
                        ],
                        "passed_time": 3.72234673,
                        "iteration": 220,
                        "remaining_time": 4.699252206,
                        "learn": [
                          0.7606188793,
                          0.6566656284
                        ]
                      },
                      {
                        "test": [
                          0.7515502753,
                          0.6798043011
                        ],
                        "passed_time": 3.787783451,
                        "iteration": 221,
                        "remaining_time": 4.743260358,
                        "learn": [
                          0.7607347743,
                          0.6565406472
                        ]
                      },
                      {
                        "test": [
                          0.7516661837,
                          0.6798331849
                        ],
                        "passed_time": 3.821677019,
                        "iteration": 222,
                        "remaining_time": 4.747105535,
                        "learn": [
                          0.7606768268,
                          0.6564592026
                        ]
                      },
                      {
                        "test": [
                          0.7517241379,
                          0.67983413
                        ],
                        "passed_time": 3.853517863,
                        "iteration": 223,
                        "remaining_time": 4.74808451,
                        "learn": [
                          0.7605899055,
                          0.6563913721
                        ]
                      },
                      {
                        "test": [
                          0.7514343669,
                          0.6798208362
                        ],
                        "passed_time": 3.888678206,
                        "iteration": 224,
                        "remaining_time": 4.752828919,
                        "learn": [
                          0.7608216955,
                          0.656301349
                        ]
                      },
                      {
                        "test": [
                          0.7514923211,
                          0.6798167214
                        ],
                        "passed_time": 3.920156736,
                        "iteration": 225,
                        "remaining_time": 4.752756397,
                        "learn": [
                          0.7608506693,
                          0.6562462834
                        ]
                      },
                      {
                        "test": [
                          0.7515502753,
                          0.6798251621
                        ],
                        "passed_time": 3.935311054,
                        "iteration": 226,
                        "remaining_time": 4.732774968,
                        "learn": [
                          0.760879643,
                          0.6561758992
                        ]
                      },
                      {
                        "test": [
                          0.7517820921,
                          0.6797876532
                        ],
                        "passed_time": 3.950539838,
                        "iteration": 227,
                        "remaining_time": 4.71292472,
                        "learn": [
                          0.7609375905,
                          0.656099043
                        ]
                      },
                      {
                        "test": [
                          0.7517241379,
                          0.6797819601
                        ],
                        "passed_time": 3.964987185,
                        "iteration": 228,
                        "remaining_time": 4.692190074,
                        "learn": [
                          0.7609375905,
                          0.6560195094
                        ]
                      },
                      {
                        "test": [
                          0.7514343669,
                          0.6798196229
                        ],
                        "passed_time": 3.980330893,
                        "iteration": 229,
                        "remaining_time": 4.672562353,
                        "learn": [
                          0.7610245118,
                          0.6559432854
                        ]
                      },
                      {
                        "test": [
                          0.7514343669,
                          0.6798128907
                        ],
                        "passed_time": 3.995045366,
                        "iteration": 230,
                        "remaining_time": 4.652238976,
                        "learn": [
                          0.760995538,
                          0.6558274602
                        ]
                      },
                      {
                        "test": [
                          0.7515502753,
                          0.679789615
                        ],
                        "passed_time": 4.008342739,
                        "iteration": 231,
                        "remaining_time": 4.630326957,
                        "learn": [
                          0.760995538,
                          0.6557537367
                        ]
                      },
                      {
                        "test": [
                          0.7514343669,
                          0.6797970849
                        ],
                        "passed_time": 4.022548652,
                        "iteration": 232,
                        "remaining_time": 4.609530001,
                        "learn": [
                          0.7610824593,
                          0.6556795172
                        ]
                      },
                      {
                        "test": [
                          0.7512605042,
                          0.6797468331
                        ],
                        "passed_time": 4.037656951,
                        "iteration": 233,
                        "remaining_time": 4.589815167,
                        "learn": [
                          0.7612563018,
                          0.6555662597
                        ]
                      },
                      {
                        "test": [
                          0.7510866416,
                          0.6797409117
                        ],
                        "passed_time": 4.052596862,
                        "iteration": 234,
                        "remaining_time": 4.569949653,
                        "learn": [
                          0.7613721968,
                          0.6554672714
                        ]
                      },
                      {
                        "test": [
                          0.7514923211,
                          0.6797004401
                        ],
                        "passed_time": 4.067999794,
                        "iteration": 235,
                        "remaining_time": 4.550643837,
                        "learn": [
                          0.7614301443,
                          0.6553340181
                        ]
                      },
                      {
                        "test": [
                          0.7513764126,
                          0.6797243636
                        ],
                        "passed_time": 4.083034551,
                        "iteration": 236,
                        "remaining_time": 4.530962392,
                        "learn": [
                          0.7613142493,
                          0.6552175036
                        ]
                      },
                      {
                        "test": [
                          0.7512605042,
                          0.6797052548
                        ],
                        "passed_time": 4.098280296,
                        "iteration": 237,
                        "remaining_time": 4.511552259,
                        "learn": [
                          0.7615460393,
                          0.6551209111
                        ]
                      },
                      {
                        "test": [
                          0.7513184584,
                          0.6797294619
                        ],
                        "passed_time": 4.112496591,
                        "iteration": 238,
                        "remaining_time": 4.491052762,
                        "learn": [
                          0.7617488555,
                          0.6550433417
                        ]
                      },
                      {
                        "test": [
                          0.7512605042,
                          0.679731579
                        ],
                        "passed_time": 4.127283835,
                        "iteration": 239,
                        "remaining_time": 4.471224154,
                        "learn": [
                          0.7615170655,
                          0.6548964752
                        ]
                      },
                      {
                        "test": [
                          0.7511445958,
                          0.679716709
                        ],
                        "passed_time": 4.140938423,
                        "iteration": 240,
                        "remaining_time": 4.450220131,
                        "learn": [
                          0.7617778293,
                          0.6548451412
                        ]
                      },
                      {
                        "test": [
                          0.7512605042,
                          0.6797169086
                        ],
                        "passed_time": 4.154974981,
                        "iteration": 241,
                        "remaining_time": 4.42968407,
                        "learn": [
                          0.7617778293,
                          0.6547702557
                        ]
                      },
                      {
                        "test": [
                          0.7512605042,
                          0.6797318753
                        ],
                        "passed_time": 4.169597904,
                        "iteration": 242,
                        "remaining_time": 4.409821652,
                        "learn": [
                          0.761690908,
                          0.6546852632
                        ]
                      },
                      {
                        "test": [
                          0.7515502753,
                          0.6797567391
                        ],
                        "passed_time": 4.183639327,
                        "iteration": 243,
                        "remaining_time": 4.389392081,
                        "learn": [
                          0.7617488555,
                          0.6545865371
                        ]
                      },
                      {
                        "test": [
                          0.7516661837,
                          0.6798039769
                        ],
                        "passed_time": 4.198116003,
                        "iteration": 244,
                        "remaining_time": 4.369467677,
                        "learn": [
                          0.761806803,
                          0.6544944379
                        ]
                      },
                      {
                        "test": [
                          0.7516661837,
                          0.6798172527
                        ],
                        "passed_time": 4.212885701,
                        "iteration": 245,
                        "remaining_time": 4.349890114,
                        "learn": [
                          0.7619516718,
                          0.6544215882
                        ]
                      },
                      {
                        "test": [
                          0.7514923211,
                          0.6798112824
                        ],
                        "passed_time": 4.227280734,
                        "iteration": 246,
                        "remaining_time": 4.329967716,
                        "learn": [
                          0.7618357768,
                          0.6543256207
                        ]
                      },
                      {
                        "test": [
                          0.75120255,
                          0.6798158906
                        ],
                        "passed_time": 4.241358435,
                        "iteration": 247,
                        "remaining_time": 4.309767442,
                        "learn": [
                          0.762038593,
                          0.6542693385
                        ]
                      },
                      {
                        "test": [
                          0.7513184584,
                          0.6798156762
                        ],
                        "passed_time": 4.255834925,
                        "iteration": 248,
                        "remaining_time": 4.290018338,
                        "learn": [
                          0.7622124355,
                          0.654184465
                        ]
                      },
                      {
                        "test": [
                          0.7513184584,
                          0.6798347425
                        ],
                        "passed_time": 4.269401979,
                        "iteration": 249,
                        "remaining_time": 4.269401979,
                        "learn": [
                          0.7621255143,
                          0.6541062299
                        ]
                      },
                      {
                        "test": [
                          0.7512605042,
                          0.6798212053
                        ],
                        "passed_time": 4.28407233,
                        "iteration": 250,
                        "remaining_time": 4.249936296,
                        "learn": [
                          0.762154488,
                          0.6540397714
                        ]
                      },
                      {
                        "test": [
                          0.7512605042,
                          0.6798054854
                        ],
                        "passed_time": 4.29886048,
                        "iteration": 251,
                        "remaining_time": 4.230624599,
                        "learn": [
                          0.762154488,
                          0.6539736412
                        ]
                      },
                      {
                        "test": [
                          0.7513764126,
                          0.6798275427
                        ],
                        "passed_time": 4.312985317,
                        "iteration": 252,
                        "remaining_time": 4.21070108,
                        "learn": [
                          0.7621834618,
                          0.6539204123
                        ]
                      },
                      {
                        "test": [
                          0.7514343669,
                          0.6798194498
                        ],
                        "passed_time": 4.328362316,
                        "iteration": 253,
                        "remaining_time": 4.192035944,
                        "learn": [
                          0.7621834618,
                          0.6538816435
                        ]
                      },
                      {
                        "test": [
                          0.7514343669,
                          0.6798401338
                        ],
                        "passed_time": 4.342628884,
                        "iteration": 254,
                        "remaining_time": 4.172329712,
                        "learn": [
                          0.7622124355,
                          0.6538139319
                        ]
                      },
                      {
                        "test": [
                          0.7516082295,
                          0.6797924022
                        ],
                        "passed_time": 4.357704579,
                        "iteration": 255,
                        "remaining_time": 4.153437177,
                        "learn": [
                          0.7623573043,
                          0.6537166714
                        ]
                      },
                      {
                        "test": [
                          0.7514923211,
                          0.6797944104
                        ],
                        "passed_time": 4.37206952,
                        "iteration": 256,
                        "remaining_time": 4.133902309,
                        "learn": [
                          0.7623573043,
                          0.6536423645
                        ]
                      },
                      {
                        "test": [
                          0.7517820921,
                          0.6797875306
                        ],
                        "passed_time": 4.386693325,
                        "iteration": 257,
                        "remaining_time": 4.114650328,
                        "learn": [
                          0.7624152518,
                          0.6535311377
                        ]
                      },
                      {
                        "test": [
                          0.7518400464,
                          0.6798113653
                        ],
                        "passed_time": 4.400763353,
                        "iteration": 258,
                        "remaining_time": 4.094918796,
                        "learn": [
                          0.7625601205,
                          0.6534269989
                        ]
                      },
                      {
                        "test": [
                          0.7517241379,
                          0.6798170703
                        ],
                        "passed_time": 4.415275336,
                        "iteration": 259,
                        "remaining_time": 4.075638772,
                        "learn": [
                          0.7625601205,
                          0.653356905
                        ]
                      },
                      {
                        "test": [
                          0.7517820921,
                          0.6798001151
                        ],
                        "passed_time": 4.430631964,
                        "iteration": 260,
                        "remaining_time": 4.057168733,
                        "learn": [
                          0.7625890943,
                          0.6532933529
                        ]
                      },
                      {
                        "test": [
                          0.7516661837,
                          0.6798111586
                        ],
                        "passed_time": 4.444507472,
                        "iteration": 261,
                        "remaining_time": 4.037377017,
                        "learn": [
                          0.7626470418,
                          0.653207333
                        ]
                      },
                      {
                        "test": [
                          0.7516082295,
                          0.6798289166
                        ],
                        "passed_time": 4.45934845,
                        "iteration": 262,
                        "remaining_time": 4.018500314,
                        "learn": [
                          0.762502173,
                          0.6531137224
                        ]
                      },
                      {
                        "test": [
                          0.7515502753,
                          0.6798331605
                        ],
                        "passed_time": 4.474298411,
                        "iteration": 263,
                        "remaining_time": 3.99975161,
                        "learn": [
                          0.7624731993,
                          0.6530588389
                        ]
                      },
                      {
                        "test": [
                          0.7517820921,
                          0.6798251917
                        ],
                        "passed_time": 4.48971209,
                        "iteration": 264,
                        "remaining_time": 3.981442796,
                        "learn": [
                          0.762618068,
                          0.6529452698
                        ]
                      },
                      {
                        "test": [
                          0.7517820921,
                          0.6798127832
                        ],
                        "passed_time": 4.503897379,
                        "iteration": 265,
                        "remaining_time": 3.962075138,
                        "learn": [
                          0.7626470418,
                          0.6528649892
                        ]
                      },
                      {
                        "test": [
                          0.7517820921,
                          0.6798282627
                        ],
                        "passed_time": 4.521435677,
                        "iteration": 266,
                        "remaining_time": 3.945672333,
                        "learn": [
                          0.7625601205,
                          0.6527701121
                        ]
                      },
                      {
                        "test": [
                          0.7517241379,
                          0.6798536833
                        ],
                        "passed_time": 4.536073944,
                        "iteration": 267,
                        "remaining_time": 3.926750578,
                        "learn": [
                          0.7627629368,
                          0.6526973709
                        ]
                      },
                      {
                        "test": [
                          0.7520718632,
                          0.679889071
                        ],
                        "passed_time": 4.550296828,
                        "iteration": 268,
                        "remaining_time": 3.907503968,
                        "learn": [
                          0.7627919105,
                          0.652632059
                        ]
                      },
                      {
                        "test": [
                          0.7521298174,
                          0.6798906281
                        ],
                        "passed_time": 4.565636879,
                        "iteration": 269,
                        "remaining_time": 3.88924623,
                        "learn": [
                          0.7628208843,
                          0.6525147315
                        ]
                      },
                      {
                        "test": [
                          0.7521877717,
                          0.679889609
                        ],
                        "passed_time": 4.580784114,
                        "iteration": 270,
                        "remaining_time": 3.870847093,
                        "learn": [
                          0.762849858,
                          0.6524050253
                        ]
                      },
                      {
                        "test": [
                          0.7519559548,
                          0.6799077072
                        ],
                        "passed_time": 4.594891508,
                        "iteration": 271,
                        "remaining_time": 3.851600235,
                        "learn": [
                          0.7628788318,
                          0.6523414976
                        ]
                      },
                      {
                        "test": [
                          0.7520718632,
                          0.679894664
                        ],
                        "passed_time": 4.608520055,
                        "iteration": 272,
                        "remaining_time": 3.831992866,
                        "learn": [
                          0.762965753,
                          0.6522692613
                        ]
                      },
                      {
                        "test": [
                          0.7518400464,
                          0.679876727
                        ],
                        "passed_time": 4.623247669,
                        "iteration": 273,
                        "remaining_time": 3.813335669,
                        "learn": [
                          0.762965753,
                          0.6521987908
                        ]
                      },
                      {
                        "test": [
                          0.7516661837,
                          0.6799349144
                        ],
                        "passed_time": 4.637921901,
                        "iteration": 274,
                        "remaining_time": 3.794663373,
                        "learn": [
                          0.7628208843,
                          0.6520562115
                        ]
                      },
                      {
                        "test": [
                          0.7517820921,
                          0.6799405686
                        ],
                        "passed_time": 4.653554204,
                        "iteration": 275,
                        "remaining_time": 3.776797615,
                        "learn": [
                          0.7629078055,
                          0.6519788425
                        ]
                      },
                      {
                        "test": [
                          0.7518980006,
                          0.6800010174
                        ],
                        "passed_time": 4.66877706,
                        "iteration": 276,
                        "remaining_time": 3.758618355,
                        "learn": [
                          0.7631106218,
                          0.6518197937
                        ]
                      },
                      {
                        "test": [
                          0.7517820921,
                          0.6799657661
                        ],
                        "passed_time": 4.682984278,
                        "iteration": 277,
                        "remaining_time": 3.739649315,
                        "learn": [
                          0.763081648,
                          0.6517404261
                        ]
                      },
                      {
                        "test": [
                          0.7517820921,
                          0.679972598
                        ],
                        "passed_time": 4.69731486,
                        "iteration": 278,
                        "remaining_time": 3.720812129,
                        "learn": [
                          0.763197543,
                          0.6516650817
                        ]
                      },
                      {
                        "test": [
                          0.7518980006,
                          0.6799840751
                        ],
                        "passed_time": 4.711371436,
                        "iteration": 279,
                        "remaining_time": 3.701791842,
                        "learn": [
                          0.763197543,
                          0.6515885005
                        ]
                      },
                      {
                        "test": [
                          0.7517820921,
                          0.6799840959
                        ],
                        "passed_time": 4.725861823,
                        "iteration": 280,
                        "remaining_time": 3.68314498,
                        "learn": [
                          0.763197543,
                          0.651505251
                        ]
                      },
                      {
                        "test": [
                          0.7516661837,
                          0.6800254195
                        ],
                        "passed_time": 4.740503574,
                        "iteration": 281,
                        "remaining_time": 3.664644607,
                        "learn": [
                          0.7633713855,
                          0.6514277521
                        ]
                      },
                      {
                        "test": [
                          0.7515502753,
                          0.6800194745
                        ],
                        "passed_time": 4.788341678,
                        "iteration": 282,
                        "remaining_time": 3.671625951,
                        "learn": [
                          0.7634583068,
                          0.6513454653
                        ]
                      },
                      {
                        "test": [
                          0.7511445958,
                          0.680027197
                        ],
                        "passed_time": 4.862061843,
                        "iteration": 283,
                        "remaining_time": 3.69790619,
                        "learn": [
                          0.7634872805,
                          0.6512500489
                        ]
                      },
                      {
                        "test": [
                          0.7511445958,
                          0.6800591335
                        ],
                        "passed_time": 4.892677445,
                        "iteration": 284,
                        "remaining_time": 3.690967195,
                        "learn": [
                          0.7634872805,
                          0.6511278046
                        ]
                      },
                      {
                        "test": [
                          0.7514343669,
                          0.6800735714
                        ],
                        "passed_time": 4.92518452,
                        "iteration": 285,
                        "remaining_time": 3.685277928,
                        "learn": [
                          0.763661123,
                          0.6510445362
                        ]
                      },
                      {
                        "test": [
                          0.7514343669,
                          0.6800682826
                        ],
                        "passed_time": 4.940092283,
                        "iteration": 286,
                        "remaining_time": 3.666340266,
                        "learn": [
                          0.7635742018,
                          0.6509834467
                        ]
                      },
                      {
                        "test": [
                          0.7513764126,
                          0.6800711342
                        ],
                        "passed_time": 4.954321187,
                        "iteration": 287,
                        "remaining_time": 3.646930874,
                        "learn": [
                          0.763545228,
                          0.6509246904
                        ]
                      },
                      {
                        "test": [
                          0.7513184584,
                          0.6800676434
                        ],
                        "passed_time": 4.9685486,
                        "iteration": 288,
                        "remaining_time": 3.627556245,
                        "learn": [
                          0.7636900968,
                          0.6508277264
                        ]
                      },
                      {
                        "test": [
                          0.7514343669,
                          0.6800851873
                        ],
                        "passed_time": 4.983369678,
                        "iteration": 289,
                        "remaining_time": 3.608647008,
                        "learn": [
                          0.7638059918,
                          0.650739655
                        ]
                      },
                      {
                        "test": [
                          0.7513184584,
                          0.6800976998
                        ],
                        "passed_time": 4.997474963,
                        "iteration": 290,
                        "remaining_time": 3.589251777,
                        "learn": [
                          0.7638059918,
                          0.6506668255
                        ]
                      },
                      {
                        "test": [
                          0.7513184584,
                          0.6800909951
                        ],
                        "passed_time": 5.012443447,
                        "iteration": 291,
                        "remaining_time": 3.570507661,
                        "learn": [
                          0.7637480443,
                          0.6506169924
                        ]
                      },
                      {
                        "test": [
                          0.7513184584,
                          0.680078361
                        ],
                        "passed_time": 5.027353948,
                        "iteration": 292,
                        "remaining_time": 3.551748352,
                        "learn": [
                          0.763892913,
                          0.6505676036
                        ]
                      },
                      {
                        "test": [
                          0.7511445958,
                          0.6800901743
                        ],
                        "passed_time": 5.042007754,
                        "iteration": 293,
                        "remaining_time": 3.532835365,
                        "learn": [
                          0.7640667555,
                          0.6504983272
                        ]
                      },
                      {
                        "test": [
                          0.75120255,
                          0.6800892985
                        ],
                        "passed_time": 5.056080741,
                        "iteration": 294,
                        "remaining_time": 3.513547634,
                        "learn": [
                          0.7639508605,
                          0.6504518992
                        ]
                      },
                      {
                        "test": [
                          0.7509707331,
                          0.6801029868
                        ],
                        "passed_time": 5.070167575,
                        "iteration": 295,
                        "remaining_time": 3.49430468,
                        "learn": [
                          0.764008808,
                          0.65039818
                        ]
                      },
                      {
                        "test": [
                          0.7510286873,
                          0.6800226086
                        ],
                        "passed_time": 5.085478966,
                        "iteration": 296,
                        "remaining_time": 3.475933435,
                        "learn": [
                          0.764008808,
                          0.6502300157
                        ]
                      },
                      {
                        "test": [
                          0.7509127789,
                          0.6800182762
                        ],
                        "passed_time": 5.099633999,
                        "iteration": 297,
                        "remaining_time": 3.456798885,
                        "learn": [
                          0.7639798343,
                          0.6501518073
                        ]
                      },
                      {
                        "test": [
                          0.7509127789,
                          0.6800133764
                        ],
                        "passed_time": 5.113674442,
                        "iteration": 298,
                        "remaining_time": 3.437620612,
                        "learn": [
                          0.7640667555,
                          0.6500671905
                        ]
                      },
                      {
                        "test": [
                          0.7509127789,
                          0.6799981348
                        ],
                        "passed_time": 5.127854753,
                        "iteration": 299,
                        "remaining_time": 3.418569835,
                        "learn": [
                          0.7641826505,
                          0.6500048858
                        ]
                      },
                      {
                        "test": [
                          0.7511445958,
                          0.6799985203
                        ],
                        "passed_time": 5.142541401,
                        "iteration": 300,
                        "remaining_time": 3.399886175,
                        "learn": [
                          0.7641536768,
                          0.6499329322
                        ]
                      },
                      {
                        "test": [
                          0.7510866416,
                          0.6799918445
                        ],
                        "passed_time": 5.156343468,
                        "iteration": 301,
                        "remaining_time": 3.380649029,
                        "learn": [
                          0.7642116243,
                          0.6498950182
                        ]
                      },
                      {
                        "test": [
                          0.7512605042,
                          0.6800078423
                        ],
                        "passed_time": 5.170420719,
                        "iteration": 302,
                        "remaining_time": 3.361626672,
                        "learn": [
                          0.7644144405,
                          0.6498159958
                        ]
                      },
                      {
                        "test": [
                          0.7514923211,
                          0.680024672
                        ],
                        "passed_time": 5.184846879,
                        "iteration": 303,
                        "remaining_time": 3.342861803,
                        "learn": [
                          0.7644144405,
                          0.649739895
                        ]
                      },
                      {
                        "test": [
                          0.7516082295,
                          0.6800197729
                        ],
                        "passed_time": 5.199200591,
                        "iteration": 304,
                        "remaining_time": 3.324079066,
                        "learn": [
                          0.7642116243,
                          0.6496986886
                        ]
                      },
                      {
                        "test": [
                          0.7514343669,
                          0.6800421663
                        ],
                        "passed_time": 5.213797161,
                        "iteration": 305,
                        "remaining_time": 3.305479246,
                        "learn": [
                          0.7640667555,
                          0.6496293307
                        ]
                      },
                      {
                        "test": [
                          0.7514343669,
                          0.6800479296
                        ],
                        "passed_time": 5.228990671,
                        "iteration": 306,
                        "remaining_time": 3.28728078,
                        "learn": [
                          0.7640667555,
                          0.6494680218
                        ]
                      },
                      {
                        "test": [
                          0.7516661837,
                          0.680029028
                        ],
                        "passed_time": 5.243624273,
                        "iteration": 307,
                        "remaining_time": 3.268752793,
                        "learn": [
                          0.7640957293,
                          0.6494009165
                        ]
                      },
                      {
                        "test": [
                          0.7518400464,
                          0.6800450851
                        ],
                        "passed_time": 5.257436366,
                        "iteration": 308,
                        "remaining_time": 3.24974222,
                        "learn": [
                          0.7641826505,
                          0.6493318478
                        ]
                      },
                      {
                        "test": [
                          0.7516082295,
                          0.6800786619
                        ],
                        "passed_time": 5.272257138,
                        "iteration": 309,
                        "remaining_time": 3.231383407,
                        "learn": [
                          0.7644434143,
                          0.6492381705
                        ]
                      },
                      {
                        "test": [
                          0.7514923211,
                          0.6801006968
                        ],
                        "passed_time": 5.286881672,
                        "iteration": 310,
                        "remaining_time": 3.21292809,
                        "learn": [
                          0.764472388,
                          0.649162436
                        ]
                      },
                      {
                        "test": [
                          0.7514923211,
                          0.6801211697
                        ],
                        "passed_time": 5.300486641,
                        "iteration": 311,
                        "remaining_time": 3.193882976,
                        "learn": [
                          0.7645303355,
                          0.6490972177
                        ]
                      },
                      {
                        "test": [
                          0.7513184584,
                          0.6801534919
                        ],
                        "passed_time": 5.317129563,
                        "iteration": 312,
                        "remaining_time": 3.17668763,
                        "learn": [
                          0.7644144405,
                          0.6490172279
                        ]
                      },
                      {
                        "test": [
                          0.7513764126,
                          0.6801672768
                        ],
                        "passed_time": 5.331816783,
                        "iteration": 313,
                        "remaining_time": 3.15833733,
                        "learn": [
                          0.7643854668,
                          0.6489523505
                        ]
                      },
                      {
                        "test": [
                          0.7513764126,
                          0.6801765473
                        ],
                        "passed_time": 5.345498505,
                        "iteration": 314,
                        "remaining_time": 3.139419757,
                        "learn": [
                          0.7646752043,
                          0.6488550457
                        ]
                      },
                      {
                        "test": [
                          0.7511445958,
                          0.6801986613
                        ],
                        "passed_time": 5.358803144,
                        "iteration": 315,
                        "remaining_time": 3.120315755,
                        "learn": [
                          0.7646462305,
                          0.6488035608
                        ]
                      },
                      {
                        "test": [
                          0.75120255,
                          0.6801932834
                        ],
                        "passed_time": 5.372929765,
                        "iteration": 316,
                        "remaining_time": 3.101722861,
                        "learn": [
                          0.7645593093,
                          0.6487342533
                        ]
                      },
                      {
                        "test": [
                          0.7513184584,
                          0.6801947208
                        ],
                        "passed_time": 5.386587244,
                        "iteration": 317,
                        "remaining_time": 3.082889554,
                        "learn": [
                          0.764704178,
                          0.648668821
                        ]
                      },
                      {
                        "test": [
                          0.7512605042,
                          0.6801928284
                        ],
                        "passed_time": 5.402641433,
                        "iteration": 318,
                        "remaining_time": 3.065448587,
                        "learn": [
                          0.7645593093,
                          0.6485184134
                        ]
                      },
                      {
                        "test": [
                          0.7511445958,
                          0.6802339701
                        ],
                        "passed_time": 5.416852432,
                        "iteration": 319,
                        "remaining_time": 3.046979493,
                        "learn": [
                          0.7645303355,
                          0.6484156383
                        ]
                      },
                      {
                        "test": [
                          0.7509707331,
                          0.680228119
                        ],
                        "passed_time": 5.430106322,
                        "iteration": 320,
                        "remaining_time": 3.028003214,
                        "learn": [
                          0.764588283,
                          0.6483703237
                        ]
                      },
                      {
                        "test": [
                          0.7510286873,
                          0.6802291757
                        ],
                        "passed_time": 5.44390388,
                        "iteration": 321,
                        "remaining_time": 3.009363014,
                        "learn": [
                          0.7647621255,
                          0.6483081842
                        ]
                      },
                      {
                        "test": [
                          0.75120255,
                          0.6802459738
                        ],
                        "passed_time": 5.458920404,
                        "iteration": 322,
                        "remaining_time": 2.991420779,
                        "learn": [
                          0.7647621255,
                          0.6482152281
                        ]
                      },
                      {
                        "test": [
                          0.7512605042,
                          0.680233475
                        ],
                        "passed_time": 5.474837351,
                        "iteration": 323,
                        "remaining_time": 2.973985721,
                        "learn": [
                          0.7647910993,
                          0.648050484
                        ]
                      },
                      {
                        "test": [
                          0.7510866416,
                          0.6802244053
                        ],
                        "passed_time": 5.489031803,
                        "iteration": 324,
                        "remaining_time": 2.955632509,
                        "learn": [
                          0.7649649418,
                          0.6479849061
                        ]
                      },
                      {
                        "test": [
                          0.7511445958,
                          0.6802549881
                        ],
                        "passed_time": 5.503407004,
                        "iteration": 325,
                        "remaining_time": 2.937401284,
                        "learn": [
                          0.7649649418,
                          0.6479257065
                        ]
                      },
                      {
                        "test": [
                          0.75120255,
                          0.6802906956
                        ],
                        "passed_time": 5.52239177,
                        "iteration": 326,
                        "remaining_time": 2.921632343,
                        "learn": [
                          0.7650228893,
                          0.6478256521
                        ]
                      },
                      {
                        "test": [
                          0.7510866416,
                          0.6803524999
                        ],
                        "passed_time": 5.537014788,
                        "iteration": 327,
                        "remaining_time": 2.903556535,
                        "learn": [
                          0.7651387843,
                          0.6477334656
                        ]
                      },
                      {
                        "test": [
                          0.7511445958,
                          0.6803217953
                        ],
                        "passed_time": 5.551142399,
                        "iteration": 328,
                        "remaining_time": 2.885244226,
                        "learn": [
                          0.765167758,
                          0.6476739725
                        ]
                      },
                      {
                        "test": [
                          0.7511445958,
                          0.6802991276
                        ],
                        "passed_time": 5.565186979,
                        "iteration": 329,
                        "remaining_time": 2.866914505,
                        "learn": [
                          0.7651387843,
                          0.6475818895
                        ]
                      },
                      {
                        "test": [
                          0.7511445958,
                          0.6802921502
                        ],
                        "passed_time": 5.58021185,
                        "iteration": 330,
                        "remaining_time": 2.849111186,
                        "learn": [
                          0.7651967318,
                          0.6474773881
                        ]
                      },
                      {
                        "test": [
                          0.7511445958,
                          0.6802872595
                        ],
                        "passed_time": 5.593717682,
                        "iteration": 331,
                        "remaining_time": 2.830555935,
                        "learn": [
                          0.7654285218,
                          0.6473840548
                        ]
                      },
                      {
                        "test": [
                          0.7510866416,
                          0.6803085914
                        ],
                        "passed_time": 5.608131627,
                        "iteration": 332,
                        "remaining_time": 2.812486431,
                        "learn": [
                          0.7654864693,
                          0.6472791255
                        ]
                      },
                      {
                        "test": [
                          0.7513184584,
                          0.6802912714
                        ],
                        "passed_time": 5.622658756,
                        "iteration": 333,
                        "remaining_time": 2.79449507,
                        "learn": [
                          0.7654864693,
                          0.6471690303
                        ]
                      },
                      {
                        "test": [
                          0.7512605042,
                          0.6802922259
                        ],
                        "passed_time": 5.636517252,
                        "iteration": 334,
                        "remaining_time": 2.776195064,
                        "learn": [
                          0.7655444168,
                          0.6471319848
                        ]
                      },
                      {
                        "test": [
                          0.7511445958,
                          0.6803105742
                        ],
                        "passed_time": 5.652006221,
                        "iteration": 335,
                        "remaining_time": 2.758717322,
                        "learn": [
                          0.7654574955,
                          0.6470746394
                        ]
                      },
                      {
                        "test": [
                          0.7510286873,
                          0.6803288191
                        ],
                        "passed_time": 5.666933401,
                        "iteration": 336,
                        "remaining_time": 2.740979657,
                        "learn": [
                          0.765399548,
                          0.6469348045
                        ]
                      },
                      {
                        "test": [
                          0.7510866416,
                          0.6803354027
                        ],
                        "passed_time": 5.681234085,
                        "iteration": 337,
                        "remaining_time": 2.722958348,
                        "learn": [
                          0.765399548,
                          0.6468296852
                        ]
                      },
                      {
                        "test": [
                          0.7509127789,
                          0.6803111804
                        ],
                        "passed_time": 5.694680572,
                        "iteration": 338,
                        "remaining_time": 2.70455331,
                        "learn": [
                          0.7655733905,
                          0.6467448766
                        ]
                      },
                      {
                        "test": [
                          0.7509707331,
                          0.6803362691
                        ],
                        "passed_time": 5.709079425,
                        "iteration": 339,
                        "remaining_time": 2.686625612,
                        "learn": [
                          0.7655444168,
                          0.6466501514
                        ]
                      },
                      {
                        "test": [
                          0.75120255,
                          0.6803432923
                        ],
                        "passed_time": 5.724357844,
                        "iteration": 340,
                        "remaining_time": 2.669128731,
                        "learn": [
                          0.7655444168,
                          0.6465767127
                        ]
                      },
                      {
                        "test": [
                          0.7511445958,
                          0.6803144643
                        ],
                        "passed_time": 5.738935592,
                        "iteration": 341,
                        "remaining_time": 2.651321121,
                        "learn": [
                          0.7654864693,
                          0.6465277091
                        ]
                      },
                      {
                        "test": [
                          0.7511445958,
                          0.6803440525
                        ],
                        "passed_time": 5.752621321,
                        "iteration": 342,
                        "remaining_time": 2.633124045,
                        "learn": [
                          0.7654864693,
                          0.6464927353
                        ]
                      },
                      {
                        "test": [
                          0.7510866416,
                          0.6803811899
                        ],
                        "passed_time": 5.77811842,
                        "iteration": 343,
                        "remaining_time": 2.620309516,
                        "learn": [
                          0.7655444168,
                          0.6463690627
                        ]
                      },
                      {
                        "test": [
                          0.7507968705,
                          0.6803987858
                        ],
                        "passed_time": 5.792048839,
                        "iteration": 344,
                        "remaining_time": 2.602224841,
                        "learn": [
                          0.765631338,
                          0.6463118928
                        ]
                      },
                      {
                        "test": [
                          0.7509707331,
                          0.6804284249
                        ],
                        "passed_time": 5.806847137,
                        "iteration": 345,
                        "remaining_time": 2.58455046,
                        "learn": [
                          0.7655733905,
                          0.646221696
                        ]
                      },
                      {
                        "test": [
                          0.7510866416,
                          0.6804207651
                        ],
                        "passed_time": 5.821716349,
                        "iteration": 346,
                        "remaining_time": 2.566923923,
                        "learn": [
                          0.765747233,
                          0.6461352265
                        ]
                      },
                      {
                        "test": [
                          0.7510866416,
                          0.680410963
                        ],
                        "passed_time": 5.872278176,
                        "iteration": 347,
                        "remaining_time": 2.564903111,
                        "learn": [
                          0.7657182593,
                          0.646015691
                        ]
                      },
                      {
                        "test": [
                          0.7509707331,
                          0.6804005853
                        ],
                        "passed_time": 5.923849933,
                        "iteration": 348,
                        "remaining_time": 2.563041088,
                        "learn": [
                          0.7657762068,
                          0.6459709428
                        ]
                      },
                      {
                        "test": [
                          0.7508548247,
                          0.6804117489
                        ],
                        "passed_time": 5.953490231,
                        "iteration": 349,
                        "remaining_time": 2.551495813,
                        "learn": [
                          0.7657762068,
                          0.6459101256
                        ]
                      },
                      {
                        "test": [
                          0.7507968705,
                          0.6804200406
                        ],
                        "passed_time": 5.982314499,
                        "iteration": 350,
                        "remaining_time": 2.539501027,
                        "learn": [
                          0.7657182593,
                          0.6458359606
                        ]
                      },
                      {
                        "test": [
                          0.7507968705,
                          0.6804248166
                        ],
                        "passed_time": 6.015005828,
                        "iteration": 351,
                        "remaining_time": 2.529036541,
                        "learn": [
                          0.7656603118,
                          0.6457765556
                        ]
                      },
                      {
                        "test": [
                          0.7510866416,
                          0.6804448499
                        ],
                        "passed_time": 6.037653897,
                        "iteration": 352,
                        "remaining_time": 2.514263804,
                        "learn": [
                          0.7657182593,
                          0.6457243803
                        ]
                      },
                      {
                        "test": [
                          0.7510866416,
                          0.680417705
                        ],
                        "passed_time": 6.05279851,
                        "iteration": 353,
                        "remaining_time": 2.496351928,
                        "learn": [
                          0.7658051805,
                          0.6456365707
                        ]
                      },
                      {
                        "test": [
                          0.7510866416,
                          0.6804167908
                        ],
                        "passed_time": 6.066343625,
                        "iteration": 354,
                        "remaining_time": 2.477802326,
                        "learn": [
                          0.7657762068,
                          0.6455935782
                        ]
                      },
                      {
                        "test": [
                          0.7510866416,
                          0.680449022
                        ],
                        "passed_time": 6.080364457,
                        "iteration": 355,
                        "remaining_time": 2.459473264,
                        "learn": [
                          0.7660079968,
                          0.6455393846
                        ]
                      },
                      {
                        "test": [
                          0.7510866416,
                          0.6804593211
                        ],
                        "passed_time": 6.095185594,
                        "iteration": 356,
                        "remaining_time": 2.441488907,
                        "learn": [
                          0.7659500493,
                          0.6454771039
                        ]
                      },
                      {
                        "test": [
                          0.7511445958,
                          0.6804493246
                        ],
                        "passed_time": 6.109764933,
                        "iteration": 357,
                        "remaining_time": 2.423426314,
                        "learn": [
                          0.7659500493,
                          0.6454107256
                        ]
                      },
                      {
                        "test": [
                          0.7510866416,
                          0.6804448127
                        ],
                        "passed_time": 6.124577472,
                        "iteration": 358,
                        "remaining_time": 2.405474717,
                        "learn": [
                          0.7657762068,
                          0.6453076334
                        ]
                      },
                      {
                        "test": [
                          0.7511445958,
                          0.6804457154
                        ],
                        "passed_time": 6.139127788,
                        "iteration": 359,
                        "remaining_time": 2.387438584,
                        "learn": [
                          0.7658051805,
                          0.6452314305
                        ]
                      },
                      {
                        "test": [
                          0.7510866416,
                          0.6803972983
                        ],
                        "passed_time": 6.152925863,
                        "iteration": 360,
                        "remaining_time": 2.369132119,
                        "learn": [
                          0.765979023,
                          0.6451410843
                        ]
                      },
                      {
                        "test": [
                          0.7511445958,
                          0.6803970177
                        ],
                        "passed_time": 6.167617536,
                        "iteration": 361,
                        "remaining_time": 2.351191215,
                        "learn": [
                          0.7660079968,
                          0.6450632353
                        ]
                      },
                      {
                        "test": [
                          0.7513764126,
                          0.680421094
                        ],
                        "passed_time": 6.181760546,
                        "iteration": 362,
                        "remaining_time": 2.333061143,
                        "learn": [
                          0.7661528655,
                          0.6449830874
                        ]
                      },
                      {
                        "test": [
                          0.7512605042,
                          0.6804522067
                        ],
                        "passed_time": 6.19573709,
                        "iteration": 363,
                        "remaining_time": 2.314890781,
                        "learn": [
                          0.7660079968,
                          0.6449318493
                        ]
                      },
                      {
                        "test": [
                          0.7513184584,
                          0.6804780495
                        ],
                        "passed_time": 6.210559772,
                        "iteration": 364,
                        "remaining_time": 2.297056354,
                        "learn": [
                          0.7661238918,
                          0.6448381801
                        ]
                      },
                      {
                        "test": [
                          0.7513764126,
                          0.6804685331
                        ],
                        "passed_time": 6.224990862,
                        "iteration": 365,
                        "remaining_time": 2.279095015,
                        "learn": [
                          0.7661238918,
                          0.644774131
                        ]
                      },
                      {
                        "test": [
                          0.7510866416,
                          0.6805081504
                        ],
                        "passed_time": 6.239636578,
                        "iteration": 366,
                        "remaining_time": 2.261230694,
                        "learn": [
                          0.7661528655,
                          0.6446961496
                        ]
                      },
                      {
                        "test": [
                          0.7512605042,
                          0.6805530786
                        ],
                        "passed_time": 6.253652551,
                        "iteration": 367,
                        "remaining_time": 2.24315798,
                        "learn": [
                          0.7662397868,
                          0.6446373688
                        ]
                      },
                      {
                        "test": [
                          0.7512605042,
                          0.6805477213
                        ],
                        "passed_time": 6.268483867,
                        "iteration": 368,
                        "remaining_time": 2.225396711,
                        "learn": [
                          0.766210813,
                          0.6445213112
                        ]
                      },
                      {
                        "test": [
                          0.75120255,
                          0.6805937235
                        ],
                        "passed_time": 6.283229928,
                        "iteration": 369,
                        "remaining_time": 2.207621326,
                        "learn": [
                          0.7662687605,
                          0.6444572197
                        ]
                      },
                      {
                        "test": [
                          0.7513764126,
                          0.6805780381
                        ],
                        "passed_time": 6.297713461,
                        "iteration": 370,
                        "remaining_time": 2.189770988,
                        "learn": [
                          0.7661528655,
                          0.6444035584
                        ]
                      },
                      {
                        "test": [
                          0.7513184584,
                          0.6805885003
                        ],
                        "passed_time": 6.314439172,
                        "iteration": 371,
                        "remaining_time": 2.172710253,
                        "learn": [
                          0.766326708,
                          0.6443297606
                        ]
                      },
                      {
                        "test": [
                          0.7512605042,
                          0.680608657
                        ],
                        "passed_time": 6.328317172,
                        "iteration": 372,
                        "remaining_time": 2.154681718,
                        "learn": [
                          0.7664136293,
                          0.6442847098
                        ]
                      },
                      {
                        "test": [
                          0.7514343669,
                          0.6805842969
                        ],
                        "passed_time": 6.342923391,
                        "iteration": 373,
                        "remaining_time": 2.136920715,
                        "learn": [
                          0.7664136293,
                          0.6441845132
                        ]
                      },
                      {
                        "test": [
                          0.7513184584,
                          0.6805850644
                        ],
                        "passed_time": 6.358005556,
                        "iteration": 374,
                        "remaining_time": 2.119335185,
                        "learn": [
                          0.7665005505,
                          0.6441219875
                        ]
                      },
                      {
                        "test": [
                          0.7513184584,
                          0.6805530137
                        ],
                        "passed_time": 6.372217859,
                        "iteration": 375,
                        "remaining_time": 2.101476103,
                        "learn": [
                          0.7664715768,
                          0.6440693767
                        ]
                      },
                      {
                        "test": [
                          0.7514923211,
                          0.680569485
                        ],
                        "passed_time": 6.387137578,
                        "iteration": 376,
                        "remaining_time": 2.083867167,
                        "learn": [
                          0.7663846555,
                          0.6440066095
                        ]
                      },
                      {
                        "test": [
                          0.7515502753,
                          0.6805592282
                        ],
                        "passed_time": 6.400919411,
                        "iteration": 377,
                        "remaining_time": 2.065905207,
                        "learn": [
                          0.766558498,
                          0.6439501913
                        ]
                      },
                      {
                        "test": [
                          0.7514923211,
                          0.6805080742
                        ],
                        "passed_time": 6.415880395,
                        "iteration": 378,
                        "remaining_time": 2.048341762,
                        "learn": [
                          0.7665295243,
                          0.6438370288
                        ]
                      },
                      {
                        "test": [
                          0.7513764126,
                          0.6805509774
                        ],
                        "passed_time": 6.431435376,
                        "iteration": 379,
                        "remaining_time": 2.030979592,
                        "learn": [
                          0.7667613142,
                          0.6437027488
                        ]
                      },
                      {
                        "test": [
                          0.7513764126,
                          0.6805353576
                        ],
                        "passed_time": 6.446218608,
                        "iteration": 380,
                        "remaining_time": 2.013385864,
                        "learn": [
                          0.7668192617,
                          0.6436319853
                        ]
                      },
                      {
                        "test": [
                          0.7513184584,
                          0.6805438035
                        ],
                        "passed_time": 6.461193968,
                        "iteration": 381,
                        "remaining_time": 1.9958662,
                        "learn": [
                          0.766558498,
                          0.6435437215
                        ]
                      },
                      {
                        "test": [
                          0.7513764126,
                          0.6805818039
                        ],
                        "passed_time": 6.475678909,
                        "iteration": 382,
                        "remaining_time": 1.978210006,
                        "learn": [
                          0.7667613142,
                          0.6434504103
                        ]
                      },
                      {
                        "test": [
                          0.7513764126,
                          0.6806080704
                        ],
                        "passed_time": 6.490532098,
                        "iteration": 383,
                        "remaining_time": 1.960681571,
                        "learn": [
                          0.7667323405,
                          0.643359317
                        ]
                      },
                      {
                        "test": [
                          0.7513184584,
                          0.6806234962
                        ],
                        "passed_time": 6.504025777,
                        "iteration": 384,
                        "remaining_time": 1.942760946,
                        "learn": [
                          0.7667033667,
                          0.6433118193
                        ]
                      },
                      {
                        "test": [
                          0.7511445958,
                          0.6806158455
                        ],
                        "passed_time": 6.518902355,
                        "iteration": 385,
                        "remaining_time": 1.92527168,
                        "learn": [
                          0.7667613142,
                          0.6432541047
                        ]
                      },
                      {
                        "test": [
                          0.7511445958,
                          0.6806464231
                        ],
                        "passed_time": 6.53294116,
                        "iteration": 386,
                        "remaining_time": 1.907551295,
                        "learn": [
                          0.7668482355,
                          0.6431850611
                        ]
                      },
                      {
                        "test": [
                          0.7513764126,
                          0.6806341276
                        ],
                        "passed_time": 6.546819026,
                        "iteration": 387,
                        "remaining_time": 1.88980343,
                        "learn": [
                          0.7669351567,
                          0.6431099912
                        ]
                      },
                      {
                        "test": [
                          0.7512605042,
                          0.6806466584
                        ],
                        "passed_time": 6.56086758,
                        "iteration": 388,
                        "remaining_time": 1.872124168,
                        "learn": [
                          0.7669931042,
                          0.6430577184
                        ]
                      },
                      {
                        "test": [
                          0.7512605042,
                          0.6806555521
                        ],
                        "passed_time": 6.575412909,
                        "iteration": 389,
                        "remaining_time": 1.854603641,
                        "learn": [
                          0.7669641305,
                          0.642978003
                        ]
                      },
                      {
                        "test": [
                          0.7512605042,
                          0.6806674014
                        ],
                        "passed_time": 6.589068242,
                        "iteration": 390,
                        "remaining_time": 1.836850226,
                        "learn": [
                          0.7669931042,
                          0.6429270125
                        ]
                      },
                      {
                        "test": [
                          0.7513184584,
                          0.6806429637
                        ],
                        "passed_time": 6.604549861,
                        "iteration": 391,
                        "remaining_time": 1.81962088,
                        "learn": [
                          0.7669931042,
                          0.6428197305
                        ]
                      },
                      {
                        "test": [
                          0.7514923211,
                          0.680647256
                        ],
                        "passed_time": 6.619038759,
                        "iteration": 392,
                        "remaining_time": 1.802130146,
                        "learn": [
                          0.7668192617,
                          0.6427510486
                        ]
                      },
                      {
                        "test": [
                          0.7516082295,
                          0.6806434771
                        ],
                        "passed_time": 6.633756799,
                        "iteration": 393,
                        "remaining_time": 1.784716296,
                        "learn": [
                          0.7668192617,
                          0.6426850305
                        ]
                      },
                      {
                        "test": [
                          0.7517820921,
                          0.6806505353
                        ],
                        "passed_time": 6.650521755,
                        "iteration": 394,
                        "remaining_time": 1.767860213,
                        "learn": [
                          0.7668772092,
                          0.6425943056
                        ]
                      },
                      {
                        "test": [
                          0.7517241379,
                          0.680645006
                        ],
                        "passed_time": 6.665476407,
                        "iteration": 395,
                        "remaining_time": 1.750529157,
                        "learn": [
                          0.766906183,
                          0.6425230817
                        ]
                      },
                      {
                        "test": [
                          0.7516661837,
                          0.6806654583
                        ],
                        "passed_time": 6.679785088,
                        "iteration": 396,
                        "remaining_time": 1.733042479,
                        "learn": [
                          0.7669351567,
                          0.6424489812
                        ]
                      },
                      {
                        "test": [
                          0.7514343669,
                          0.6806342996
                        ],
                        "passed_time": 6.694433749,
                        "iteration": 397,
                        "remaining_time": 1.715658901,
                        "learn": [
                          0.766906183,
                          0.642356571
                        ]
                      },
                      {
                        "test": [
                          0.7514343669,
                          0.6806724087
                        ],
                        "passed_time": 6.708154582,
                        "iteration": 398,
                        "remaining_time": 1.698054167,
                        "learn": [
                          0.7671089992,
                          0.6422717521
                        ]
                      },
                      {
                        "test": [
                          0.7513764126,
                          0.6806492252
                        ],
                        "passed_time": 6.722409536,
                        "iteration": 399,
                        "remaining_time": 1.680602384,
                        "learn": [
                          0.767253868,
                          0.6422022788
                        ]
                      },
                      {
                        "test": [
                          0.7513764126,
                          0.6806434027
                        ],
                        "passed_time": 6.736705492,
                        "iteration": 400,
                        "remaining_time": 1.663176668,
                        "learn": [
                          0.7674566842,
                          0.6421443165
                        ]
                      },
                      {
                        "test": [
                          0.7513184584,
                          0.6806615499
                        ],
                        "passed_time": 6.750727868,
                        "iteration": 401,
                        "remaining_time": 1.645699828,
                        "learn": [
                          0.7673987367,
                          0.6420980627
                        ]
                      },
                      {
                        "test": [
                          0.7513764126,
                          0.6806765793
                        ],
                        "passed_time": 6.764876014,
                        "iteration": 402,
                        "remaining_time": 1.628270405,
                        "learn": [
                          0.7674566842,
                          0.6420076718
                        ]
                      },
                      {
                        "test": [
                          0.7513184584,
                          0.680681848
                        ],
                        "passed_time": 6.793672275,
                        "iteration": 403,
                        "remaining_time": 1.614337966,
                        "learn": [
                          0.767601553,
                          0.6419024565
                        ]
                      },
                      {
                        "test": [
                          0.75120255,
                          0.6806741567
                        ],
                        "passed_time": 6.808786518,
                        "iteration": 404,
                        "remaining_time": 1.597122763,
                        "learn": [
                          0.7675146317,
                          0.6418123308
                        ]
                      },
                      {
                        "test": [
                          0.7512605042,
                          0.6806683403
                        ],
                        "passed_time": 6.823926459,
                        "iteration": 405,
                        "remaining_time": 1.57992386,
                        "learn": [
                          0.7675725792,
                          0.6417182239
                        ]
                      },
                      {
                        "test": [
                          0.7511445958,
                          0.6806452748
                        ],
                        "passed_time": 6.838383001,
                        "iteration": 406,
                        "remaining_time": 1.562578917,
                        "learn": [
                          0.7676595005,
                          0.6416171688
                        ]
                      },
                      {
                        "test": [
                          0.7513184584,
                          0.6806389878
                        ],
                        "passed_time": 6.853241238,
                        "iteration": 407,
                        "remaining_time": 1.54533871,
                        "learn": [
                          0.7678623167,
                          0.6415539746
                        ]
                      },
                      {
                        "test": [
                          0.7513184584,
                          0.6806077845
                        ],
                        "passed_time": 6.868755831,
                        "iteration": 408,
                        "remaining_time": 1.528256187,
                        "learn": [
                          0.767833343,
                          0.6414371432
                        ]
                      },
                      {
                        "test": [
                          0.7511445958,
                          0.6806339991
                        ],
                        "passed_time": 6.882681709,
                        "iteration": 409,
                        "remaining_time": 1.51083257,
                        "learn": [
                          0.767833343,
                          0.6413841242
                        ]
                      },
                      {
                        "test": [
                          0.7512605042,
                          0.6806166005
                        ],
                        "passed_time": 6.896106921,
                        "iteration": 410,
                        "remaining_time": 1.493317557,
                        "learn": [
                          0.767949238,
                          0.6413259696
                        ]
                      },
                      {
                        "test": [
                          0.7510866416,
                          0.6805903233
                        ],
                        "passed_time": 6.910376522,
                        "iteration": 411,
                        "remaining_time": 1.476002752,
                        "learn": [
                          0.768065133,
                          0.6412238422
                        ]
                      },
                      {
                        "test": [
                          0.7510866416,
                          0.6805938093
                        ],
                        "passed_time": 6.977899088,
                        "iteration": 412,
                        "remaining_time": 1.469920631,
                        "learn": [
                          0.767949238,
                          0.6411269835
                        ]
                      },
                      {
                        "test": [
                          0.7510286873,
                          0.6805802698
                        ],
                        "passed_time": 7.022242111,
                        "iteration": 413,
                        "remaining_time": 1.458726622,
                        "learn": [
                          0.7679782117,
                          0.6410517559
                        ]
                      },
                      {
                        "test": [
                          0.7512605042,
                          0.6806047421
                        ],
                        "passed_time": 7.04965234,
                        "iteration": 414,
                        "remaining_time": 1.443904696,
                        "learn": [
                          0.7679202642,
                          0.6409665757
                        ]
                      },
                      {
                        "test": [
                          0.7513764126,
                          0.6806238422
                        ],
                        "passed_time": 7.079110831,
                        "iteration": 415,
                        "remaining_time": 1.429435841,
                        "learn": [
                          0.7679202642,
                          0.6409081919
                        ]
                      },
                      {
                        "test": [
                          0.7513764126,
                          0.6806115599
                        ],
                        "passed_time": 7.10122203,
                        "iteration": 416,
                        "remaining_time": 1.413432682,
                        "learn": [
                          0.7681520542,
                          0.6408466717
                        ]
                      },
                      {
                        "test": [
                          0.7513184584,
                          0.6805921803
                        ],
                        "passed_time": 7.116724652,
                        "iteration": 417,
                        "remaining_time": 1.396103879,
                        "learn": [
                          0.7680361592,
                          0.64073427
                        ]
                      },
                      {
                        "test": [
                          0.7513184584,
                          0.6806112634
                        ],
                        "passed_time": 7.131815942,
                        "iteration": 418,
                        "remaining_time": 1.378704275,
                        "learn": [
                          0.768065133,
                          0.6406173922
                        ]
                      },
                      {
                        "test": [
                          0.7512605042,
                          0.6806446769
                        ],
                        "passed_time": 7.146373842,
                        "iteration": 419,
                        "remaining_time": 1.361214065,
                        "learn": [
                          0.7682100017,
                          0.6405434741
                        ]
                      },
                      {
                        "test": [
                          0.7513764126,
                          0.6806598298
                        ],
                        "passed_time": 7.160785061,
                        "iteration": 420,
                        "remaining_time": 1.343710261,
                        "learn": [
                          0.7681230805,
                          0.6404763216
                        ]
                      },
                      {
                        "test": [
                          0.7516661837,
                          0.6806855883
                        ],
                        "passed_time": 7.174896252,
                        "iteration": 421,
                        "remaining_time": 1.326165658,
                        "learn": [
                          0.7682389755,
                          0.6404082639
                        ]
                      },
                      {
                        "test": [
                          0.7514343669,
                          0.6806715357
                        ],
                        "passed_time": 7.189455455,
                        "iteration": 422,
                        "remaining_time": 1.308718842,
                        "learn": [
                          0.7681230805,
                          0.6403148322
                        ]
                      },
                      {
                        "test": [
                          0.7514343669,
                          0.6806928255
                        ],
                        "passed_time": 7.204588338,
                        "iteration": 423,
                        "remaining_time": 1.291388476,
                        "learn": [
                          0.7680941067,
                          0.6402513396
                        ]
                      },
                      {
                        "test": [
                          0.7513764126,
                          0.6806964384
                        ],
                        "passed_time": 7.218619049,
                        "iteration": 424,
                        "remaining_time": 1.27387395,
                        "learn": [
                          0.7680941067,
                          0.6402027281
                        ]
                      },
                      {
                        "test": [
                          0.7514343669,
                          0.6807042104
                        ],
                        "passed_time": 7.232378648,
                        "iteration": 425,
                        "remaining_time": 1.256328685,
                        "learn": [
                          0.7680941067,
                          0.640136054
                        ]
                      },
                      {
                        "test": [
                          0.7513764126,
                          0.6807322173
                        ],
                        "passed_time": 7.247572704,
                        "iteration": 426,
                        "remaining_time": 1.239046387,
                        "learn": [
                          0.7680941067,
                          0.6400606918
                        ]
                      },
                      {
                        "test": [
                          0.7513184584,
                          0.6807310396
                        ],
                        "passed_time": 7.261922212,
                        "iteration": 427,
                        "remaining_time": 1.221631774,
                        "learn": [
                          0.7682100017,
                          0.6399878504
                        ]
                      },
                      {
                        "test": [
                          0.7512605042,
                          0.6807611406
                        ],
                        "passed_time": 7.276942518,
                        "iteration": 428,
                        "remaining_time": 1.204342468,
                        "learn": [
                          0.7681520542,
                          0.6398664294
                        ]
                      },
                      {
                        "test": [
                          0.7513184584,
                          0.6807658569
                        ],
                        "passed_time": 7.291564317,
                        "iteration": 429,
                        "remaining_time": 1.186998842,
                        "learn": [
                          0.7680941067,
                          0.6397892525
                        ]
                      },
                      {
                        "test": [
                          0.7513764126,
                          0.6807729113
                        ],
                        "passed_time": 7.308620979,
                        "iteration": 430,
                        "remaining_time": 1.170057651,
                        "learn": [
                          0.768181028,
                          0.6397365886
                        ]
                      },
                      {
                        "test": [
                          0.7514923211,
                          0.680816798
                        ],
                        "passed_time": 7.323480864,
                        "iteration": 431,
                        "remaining_time": 1.152770136,
                        "learn": [
                          0.7683838442,
                          0.6396519152
                        ]
                      },
                      {
                        "test": [
                          0.7514923211,
                          0.680834796
                        ],
                        "passed_time": 7.337988902,
                        "iteration": 432,
                        "remaining_time": 1.135439391,
                        "learn": [
                          0.7682679492,
                          0.6396057713
                        ]
                      },
                      {
                        "test": [
                          0.7514923211,
                          0.6808105655
                        ],
                        "passed_time": 7.351939321,
                        "iteration": 433,
                        "remaining_time": 1.118036855,
                        "learn": [
                          0.7682389755,
                          0.6395592138
                        ]
                      },
                      {
                        "test": [
                          0.7515502753,
                          0.6808309638
                        ],
                        "passed_time": 7.366335588,
                        "iteration": 434,
                        "remaining_time": 1.100716812,
                        "learn": [
                          0.7682679492,
                          0.6394907482
                        ]
                      },
                      {
                        "test": [
                          0.7515502753,
                          0.6808458345
                        ],
                        "passed_time": 7.380527944,
                        "iteration": 435,
                        "remaining_time": 1.083380249,
                        "learn": [
                          0.768528713,
                          0.6394068026
                        ]
                      },
                      {
                        "test": [
                          0.7515502753,
                          0.6809154144
                        ],
                        "passed_time": 7.394500413,
                        "iteration": 436,
                        "remaining_time": 1.066026375,
                        "learn": [
                          0.7684997392,
                          0.6393178976
                        ]
                      },
                      {
                        "test": [
                          0.7517241379,
                          0.6808995117
                        ],
                        "passed_time": 7.409381528,
                        "iteration": 437,
                        "remaining_time": 1.048816563,
                        "learn": [
                          0.7684707655,
                          0.6392242267
                        ]
                      },
                      {
                        "test": [
                          0.7516661837,
                          0.6809259304
                        ],
                        "passed_time": 7.423577395,
                        "iteration": 438,
                        "remaining_time": 1.031522144,
                        "learn": [
                          0.768644608,
                          0.639145347
                        ]
                      },
                      {
                        "test": [
                          0.7517820921,
                          0.6809216978
                        ],
                        "passed_time": 7.437324848,
                        "iteration": 439,
                        "remaining_time": 1.014180661,
                        "learn": [
                          0.768644608,
                          0.6390875129
                        ]
                      },
                      {
                        "test": [
                          0.7515502753,
                          0.680933694
                        ],
                        "passed_time": 7.452330757,
                        "iteration": 440,
                        "remaining_time": 0.9970238428,
                        "learn": [
                          0.7685576867,
                          0.6390033076
                        ]
                      },
                      {
                        "test": [
                          0.7516661837,
                          0.6809043876
                        ],
                        "passed_time": 7.467122581,
                        "iteration": 441,
                        "remaining_time": 0.9798486645,
                        "learn": [
                          0.7685576867,
                          0.6389275225
                        ]
                      },
                      {
                        "test": [
                          0.7516082295,
                          0.6809166065
                        ],
                        "passed_time": 7.482127903,
                        "iteration": 442,
                        "remaining_time": 0.9627117167,
                        "learn": [
                          0.7685576867,
                          0.6388138428
                        ]
                      },
                      {
                        "test": [
                          0.7514923211,
                          0.6809118952
                        ],
                        "passed_time": 7.496432805,
                        "iteration": 443,
                        "remaining_time": 0.9454960295,
                        "learn": [
                          0.7686735817,
                          0.6387312466
                        ]
                      },
                      {
                        "test": [
                          0.7515502753,
                          0.6809253431
                        ],
                        "passed_time": 7.510866306,
                        "iteration": 444,
                        "remaining_time": 0.9283093187,
                        "learn": [
                          0.7684997392,
                          0.6386443104
                        ]
                      },
                      {
                        "test": [
                          0.7517241379,
                          0.6809057504
                        ],
                        "passed_time": 7.524666301,
                        "iteration": 445,
                        "remaining_time": 0.9110582518,
                        "learn": [
                          0.768644608,
                          0.6385761221
                        ]
                      },
                      {
                        "test": [
                          0.7516082295,
                          0.6808630654
                        ],
                        "passed_time": 7.538556113,
                        "iteration": 446,
                        "remaining_time": 0.8938332751,
                        "learn": [
                          0.7687025555,
                          0.6385193498
                        ]
                      },
                      {
                        "test": [
                          0.7516082295,
                          0.6808800599
                        ],
                        "passed_time": 7.552285133,
                        "iteration": 447,
                        "remaining_time": 0.8766045244,
                        "learn": [
                          0.768644608,
                          0.6384764898
                        ]
                      },
                      {
                        "test": [
                          0.7518980006,
                          0.680897683
                        ],
                        "passed_time": 7.567054815,
                        "iteration": 448,
                        "remaining_time": 0.8595095669,
                        "learn": [
                          0.7687025555,
                          0.6384073631
                        ]
                      },
                      {
                        "test": [
                          0.7518400464,
                          0.6808592369
                        ],
                        "passed_time": 7.581978959,
                        "iteration": 449,
                        "remaining_time": 0.8424421065,
                        "learn": [
                          0.768760503,
                          0.6383510785
                        ]
                      },
                      {
                        "test": [
                          0.7518980006,
                          0.6808776792
                        ],
                        "passed_time": 7.596572015,
                        "iteration": 450,
                        "remaining_time": 0.825348179,
                        "learn": [
                          0.7687315292,
                          0.6382921656
                        ]
                      },
                      {
                        "test": [
                          0.7518400464,
                          0.6808935921
                        ],
                        "passed_time": 7.611768256,
                        "iteration": 451,
                        "remaining_time": 0.8083293724,
                        "learn": [
                          0.7687025555,
                          0.6382195173
                        ]
                      },
                      {
                        "test": [
                          0.7517820921,
                          0.6808818573
                        ],
                        "passed_time": 7.626455228,
                        "iteration": 452,
                        "remaining_time": 0.7912657742,
                        "learn": [
                          0.7687315292,
                          0.6381400414
                        ]
                      },
                      {
                        "test": [
                          0.7518400464,
                          0.6808962019
                        ],
                        "passed_time": 7.642238004,
                        "iteration": 453,
                        "remaining_time": 0.7743236745,
                        "learn": [
                          0.7685576867,
                          0.6380635583
                        ]
                      },
                      {
                        "test": [
                          0.7518980006,
                          0.6809209752
                        ],
                        "passed_time": 7.657305291,
                        "iteration": 454,
                        "remaining_time": 0.7573159079,
                        "learn": [
                          0.7686735817,
                          0.6380032807
                        ]
                      },
                      {
                        "test": [
                          0.7517820921,
                          0.6809315956
                        ],
                        "passed_time": 7.670923528,
                        "iteration": 455,
                        "remaining_time": 0.7401768316,
                        "learn": [
                          0.7687894767,
                          0.637956982
                        ]
                      },
                      {
                        "test": [
                          0.7516661837,
                          0.6809424719
                        ],
                        "passed_time": 7.685337845,
                        "iteration": 456,
                        "remaining_time": 0.7231280685,
                        "learn": [
                          0.7686735817,
                          0.6379029257
                        ]
                      },
                      {
                        "test": [
                          0.7516661837,
                          0.6809490839
                        ],
                        "passed_time": 7.699775069,
                        "iteration": 457,
                        "remaining_time": 0.7060929102,
                        "learn": [
                          0.7687025555,
                          0.6378562658
                        ]
                      },
                      {
                        "test": [
                          0.7518400464,
                          0.6809690535
                        ],
                        "passed_time": 7.716630498,
                        "iteration": 458,
                        "remaining_time": 0.6892850772,
                        "learn": [
                          0.7687025555,
                          0.6377860091
                        ]
                      },
                      {
                        "test": [
                          0.7517241379,
                          0.6809702618
                        ],
                        "passed_time": 7.732791979,
                        "iteration": 459,
                        "remaining_time": 0.6724166939,
                        "learn": [
                          0.7689053717,
                          0.6377417108
                        ]
                      },
                      {
                        "test": [
                          0.7521298174,
                          0.6809851181
                        ],
                        "passed_time": 7.74709055,
                        "iteration": 460,
                        "remaining_time": 0.6553937775,
                        "learn": [
                          0.7689633192,
                          0.6376453835
                        ]
                      },
                      {
                        "test": [
                          0.752013909,
                          0.6810224591
                        ],
                        "passed_time": 7.761862323,
                        "iteration": 461,
                        "remaining_time": 0.6384215764,
                        "learn": [
                          0.7689633192,
                          0.637571885
                        ]
                      },
                      {
                        "test": [
                          0.7519559548,
                          0.6810324
                        ],
                        "passed_time": 7.775728428,
                        "iteration": 462,
                        "remaining_time": 0.621386505,
                        "learn": [
                          0.768876398,
                          0.6375100792
                        ]
                      },
                      {
                        "test": [
                          0.7521298174,
                          0.6810492425
                        ],
                        "passed_time": 7.800866574,
                        "iteration": 463,
                        "remaining_time": 0.605239648,
                        "learn": [
                          0.7690502405,
                          0.6374560497
                        ]
                      },
                      {
                        "test": [
                          0.752013909,
                          0.6810327725
                        ],
                        "passed_time": 7.815108684,
                        "iteration": 464,
                        "remaining_time": 0.588233987,
                        "learn": [
                          0.7691371617,
                          0.6374075514
                        ]
                      },
                      {
                        "test": [
                          0.7521298174,
                          0.6810351198
                        ],
                        "passed_time": 7.82963194,
                        "iteration": 465,
                        "remaining_time": 0.5712606995,
                        "learn": [
                          0.7691371617,
                          0.6373386686
                        ]
                      },
                      {
                        "test": [
                          0.7517241379,
                          0.6810464707
                        ],
                        "passed_time": 7.847817797,
                        "iteration": 466,
                        "remaining_time": 0.554556718,
                        "learn": [
                          0.769339978,
                          0.6372307052
                        ]
                      },
                      {
                        "test": [
                          0.7521298174,
                          0.681050095
                        ],
                        "passed_time": 7.861671334,
                        "iteration": 467,
                        "remaining_time": 0.5375501767,
                        "learn": [
                          0.769339978,
                          0.6371808361
                        ]
                      },
                      {
                        "test": [
                          0.7518400464,
                          0.6810970597
                        ],
                        "passed_time": 7.876234753,
                        "iteration": 468,
                        "remaining_time": 0.5206040028,
                        "learn": [
                          0.7694848467,
                          0.6371074657
                        ]
                      },
                      {
                        "test": [
                          0.7517820921,
                          0.6811175208
                        ],
                        "passed_time": 7.890530124,
                        "iteration": 469,
                        "remaining_time": 0.503650859,
                        "learn": [
                          0.7695427942,
                          0.6370475437
                        ]
                      },
                      {
                        "test": [
                          0.7518980006,
                          0.6811622957
                        ],
                        "passed_time": 7.904690918,
                        "iteration": 470,
                        "remaining_time": 0.4867007147,
                        "learn": [
                          0.769571768,
                          0.6369708787
                        ]
                      },
                      {
                        "test": [
                          0.7519559548,
                          0.6811546053
                        ],
                        "passed_time": 7.919107244,
                        "iteration": 471,
                        "remaining_time": 0.4697775484,
                        "learn": [
                          0.7696586892,
                          0.6369416118
                        ]
                      },
                      {
                        "test": [
                          0.7521877717,
                          0.6811630841
                        ],
                        "passed_time": 7.934074237,
                        "iteration": 472,
                        "remaining_time": 0.4528964152,
                        "learn": [
                          0.7694268992,
                          0.6368656067
                        ]
                      },
                      {
                        "test": [
                          0.7521298174,
                          0.6811545692
                        ],
                        "passed_time": 7.948031373,
                        "iteration": 473,
                        "remaining_time": 0.4359679656,
                        "learn": [
                          0.7695138205,
                          0.6368091026
                        ]
                      },
                      {
                        "test": [
                          0.7521298174,
                          0.6811503501
                        ],
                        "passed_time": 7.963001098,
                        "iteration": 474,
                        "remaining_time": 0.4191053209,
                        "learn": [
                          0.7695427942,
                          0.6367389939
                        ]
                      },
                      {
                        "test": [
                          0.7521298174,
                          0.6811644823
                        ],
                        "passed_time": 7.977600913,
                        "iteration": 475,
                        "remaining_time": 0.4022319788,
                        "learn": [
                          0.7694268992,
                          0.6366757537
                        ]
                      },
                      {
                        "test": [
                          0.752013909,
                          0.6811786548
                        ],
                        "passed_time": 7.992764676,
                        "iteration": 476,
                        "remaining_time": 0.3853953617,
                        "learn": [
                          0.769455873,
                          0.6366087691
                        ]
                      },
                      {
                        "test": [
                          0.752013909,
                          0.6811870606
                        ],
                        "passed_time": 8.031571692,
                        "iteration": 477,
                        "remaining_time": 0.3696539272,
                        "learn": [
                          0.7695427942,
                          0.636547442
                        ]
                      },
                      {
                        "test": [
                          0.7520718632,
                          0.6811713971
                        ],
                        "passed_time": 8.104754449,
                        "iteration": 478,
                        "remaining_time": 0.3553232639,
                        "learn": [
                          0.7696007417,
                          0.6364639814
                        ]
                      },
                      {
                        "test": [
                          0.7519559548,
                          0.681153819
                        ],
                        "passed_time": 8.134532192,
                        "iteration": 479,
                        "remaining_time": 0.3389388413,
                        "learn": [
                          0.7695138205,
                          0.6363922437
                        ]
                      },
                      {
                        "test": [
                          0.7519559548,
                          0.6811845919
                        ],
                        "passed_time": 8.163059967,
                        "iteration": 480,
                        "remaining_time": 0.3224493542,
                        "learn": [
                          0.7695427942,
                          0.6363087526
                        ]
                      },
                      {
                        "test": [
                          0.7521298174,
                          0.6811805489
                        ],
                        "passed_time": 8.187988182,
                        "iteration": 481,
                        "remaining_time": 0.3057754923,
                        "learn": [
                          0.7695138205,
                          0.6362615165
                        ]
                      },
                      {
                        "test": [
                          0.7520718632,
                          0.6811544599
                        ],
                        "passed_time": 8.203189053,
                        "iteration": 482,
                        "remaining_time": 0.2887250805,
                        "learn": [
                          0.7694848467,
                          0.636188607
                        ]
                      },
                      {
                        "test": [
                          0.7516661837,
                          0.6812007399
                        ],
                        "passed_time": 8.217027915,
                        "iteration": 483,
                        "remaining_time": 0.2716372864,
                        "learn": [
                          0.7696586892,
                          0.6361188318
                        ]
                      },
                      {
                        "test": [
                          0.7516082295,
                          0.6812025767
                        ],
                        "passed_time": 8.231816985,
                        "iteration": 484,
                        "remaining_time": 0.2545922779,
                        "learn": [
                          0.7697166367,
                          0.6360770703
                        ]
                      },
                      {
                        "test": [
                          0.7515502753,
                          0.6812097364
                        ],
                        "passed_time": 8.24628588,
                        "iteration": 485,
                        "remaining_time": 0.2375473299,
                        "learn": [
                          0.7697456105,
                          0.6360288852
                        ]
                      },
                      {
                        "test": [
                          0.7515502753,
                          0.6812147393
                        ],
                        "passed_time": 8.2605916,
                        "iteration": 486,
                        "remaining_time": 0.2205086053,
                        "learn": [
                          0.7697456105,
                          0.6359322575
                        ]
                      },
                      {
                        "test": [
                          0.7513764126,
                          0.6812253633
                        ],
                        "passed_time": 8.275291415,
                        "iteration": 487,
                        "remaining_time": 0.2034907725,
                        "learn": [
                          0.7698615055,
                          0.6358631523
                        ]
                      },
                      {
                        "test": [
                          0.7513764126,
                          0.6812352195
                        ],
                        "passed_time": 8.289654199,
                        "iteration": 488,
                        "remaining_time": 0.1864748388,
                        "learn": [
                          0.7699484267,
                          0.6358285676
                        ]
                      },
                      {
                        "test": [
                          0.7514343669,
                          0.6812374573
                        ],
                        "passed_time": 8.306930875,
                        "iteration": 489,
                        "remaining_time": 0.1695292015,
                        "learn": [
                          0.7699774005,
                          0.6357868499
                        ]
                      },
                      {
                        "test": [
                          0.7516082295,
                          0.6812545853
                        ],
                        "passed_time": 8.321613051,
                        "iteration": 490,
                        "remaining_time": 0.1525346588,
                        "learn": [
                          0.7698904792,
                          0.6357260949
                        ]
                      },
                      {
                        "test": [
                          0.7517241379,
                          0.6812558163
                        ],
                        "passed_time": 8.336818957,
                        "iteration": 491,
                        "remaining_time": 0.1355580318,
                        "learn": [
                          0.769803558,
                          0.6356617917
                        ]
                      },
                      {
                        "test": [
                          0.7517820921,
                          0.6812624356
                        ],
                        "passed_time": 8.351229175,
                        "iteration": 492,
                        "remaining_time": 0.1185772905,
                        "learn": [
                          0.7697456105,
                          0.6356062299
                        ]
                      },
                      {
                        "test": [
                          0.7517820921,
                          0.6812843244
                        ],
                        "passed_time": 8.365616384,
                        "iteration": 493,
                        "remaining_time": 0.1016066767,
                        "learn": [
                          0.7698615055,
                          0.6355438218
                        ]
                      },
                      {
                        "test": [
                          0.7517241379,
                          0.6812998463
                        ],
                        "passed_time": 8.379939432,
                        "iteration": 494,
                        "remaining_time": 0.08464585285,
                        "learn": [
                          0.7699484267,
                          0.6354810021
                        ]
                      },
                      {
                        "test": [
                          0.7516661837,
                          0.6813369246
                        ],
                        "passed_time": 8.394053811,
                        "iteration": 495,
                        "remaining_time": 0.06769398234,
                        "learn": [
                          0.770035348,
                          0.6354213226
                        ]
                      },
                      {
                        "test": [
                          0.7517241379,
                          0.681329448
                        ],
                        "passed_time": 8.408137915,
                        "iteration": 496,
                        "remaining_time": 0.05075334758,
                        "learn": [
                          0.7701222692,
                          0.6353602549
                        ]
                      },
                      {
                        "test": [
                          0.7516661837,
                          0.6813409387
                        ],
                        "passed_time": 8.422976168,
                        "iteration": 497,
                        "remaining_time": 0.03382721352,
                        "learn": [
                          0.7700643217,
                          0.6352405414
                        ]
                      },
                      {
                        "test": [
                          0.7517241379,
                          0.6813112271
                        ],
                        "passed_time": 8.437210028,
                        "iteration": 498,
                        "remaining_time": 0.01690823653,
                        "learn": [
                          0.7701222692,
                          0.6351913051
                        ]
                      },
                      {
                        "test": [
                          0.7518980006,
                          0.6813400647
                        ],
                        "passed_time": 8.452521065,
                        "iteration": 499,
                        "remaining_time": 0,
                        "learn": [
                          0.7700932955,
                          0.6351147716
                        ]
                      }
                    ]
                  },
                  "total_iterations": 500,
                  "passed_iterations": 499
                },
                "path": "catboost_info/fold-2",
                "name": "fold-2"
              }
            },
            "_view_module": "catboost-widget",
            "_model_module_version": "^1.0.0",
            "_view_count": null,
            "_view_module_version": "^1.0.0",
            "layout": "IPY_MODEL_c8d8b2a7c4e14d1db3768d415cddcba1",
            "_model_module": "catboost-widget"
          }
        }
      }
    }
  },
  "nbformat": 4,
  "nbformat_minor": 5
}