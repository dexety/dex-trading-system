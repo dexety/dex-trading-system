{
  "cells": [
    {
      "cell_type": "code",
      "execution_count": null,
      "id": "6PWJsnjzBfq1",
      "metadata": {
        "colab": {
          "base_uri": "https://localhost:8080/"
        },
        "id": "6PWJsnjzBfq1",
        "outputId": "0aff0842-baf1-4b2b-f5ba-d4bd37062f6f"
      },
      "outputs": [
        {
          "name": "stdout",
          "output_type": "stream",
          "text": [
            "Collecting catboost\n",
            "  Downloading catboost-1.0.4-cp37-none-manylinux1_x86_64.whl (76.1 MB)\n",
            "\u001b[K     |████████████████████████████████| 76.1 MB 1.3 MB/s \n",
            "\u001b[?25hRequirement already satisfied: scipy in /usr/local/lib/python3.7/dist-packages (from catboost) (1.4.1)\n",
            "Requirement already satisfied: matplotlib in /usr/local/lib/python3.7/dist-packages (from catboost) (3.2.2)\n",
            "Requirement already satisfied: pandas>=0.24.0 in /usr/local/lib/python3.7/dist-packages (from catboost) (1.1.5)\n",
            "Requirement already satisfied: plotly in /usr/local/lib/python3.7/dist-packages (from catboost) (4.4.1)\n",
            "Requirement already satisfied: six in /usr/local/lib/python3.7/dist-packages (from catboost) (1.15.0)\n",
            "Requirement already satisfied: graphviz in /usr/local/lib/python3.7/dist-packages (from catboost) (0.10.1)\n",
            "Requirement already satisfied: numpy>=1.16.0 in /usr/local/lib/python3.7/dist-packages (from catboost) (1.19.5)\n",
            "Requirement already satisfied: pytz>=2017.2 in /usr/local/lib/python3.7/dist-packages (from pandas>=0.24.0->catboost) (2018.9)\n",
            "Requirement already satisfied: python-dateutil>=2.7.3 in /usr/local/lib/python3.7/dist-packages (from pandas>=0.24.0->catboost) (2.8.2)\n",
            "Requirement already satisfied: pyparsing!=2.0.4,!=2.1.2,!=2.1.6,>=2.0.1 in /usr/local/lib/python3.7/dist-packages (from matplotlib->catboost) (3.0.6)\n",
            "Requirement already satisfied: kiwisolver>=1.0.1 in /usr/local/lib/python3.7/dist-packages (from matplotlib->catboost) (1.3.2)\n",
            "Requirement already satisfied: cycler>=0.10 in /usr/local/lib/python3.7/dist-packages (from matplotlib->catboost) (0.11.0)\n",
            "Requirement already satisfied: retrying>=1.3.3 in /usr/local/lib/python3.7/dist-packages (from plotly->catboost) (1.3.3)\n",
            "Installing collected packages: catboost\n",
            "Successfully installed catboost-1.0.4\n"
          ]
        }
      ],
      "source": [
        "!pip3 install catboost"
      ]
    },
    {
      "cell_type": "code",
      "execution_count": 1,
      "id": "853aa3c4-a2d3-4845-ad55-388c7ddc238f",
      "metadata": {
        "id": "853aa3c4-a2d3-4845-ad55-388c7ddc238f"
      },
      "outputs": [],
      "source": [
        "import pandas as pd\n",
        "import numpy as np\n",
        "\n",
        "csv_path = \"trades-df-2021_11_1_0_0_0-2021_12_21_0_0_0.csv\"\n",
        "df = pd.read_csv(csv_path)"
      ]
    },
    {
      "cell_type": "code",
      "execution_count": 11,
      "id": "6d19d8f2-29d6-475a-8e14-714733f36850",
      "metadata": {
        "colab": {
          "base_uri": "https://localhost:8080/"
        },
        "id": "6d19d8f2-29d6-475a-8e14-714733f36850",
        "outputId": "9f270efb-b298-448b-a5bc-e1624431c156"
      },
      "outputs": [
        {
          "name": "stdout",
          "output_type": "stream",
          "text": [
            "['seconds-since-midnight', 'seconds-since-1-trades-ago-BUY', 'seconds-since-10-trades-ago-BUY', 'seconds-since-50-trades-ago-BUY', 'seconds-since-100-trades-ago-BUY', 'seconds-since-1000-trades-ago-BUY', 'trade-amount-BUY-600-sec', 'trade-volume-BUY-600-sec', 'open-close-diff-BUY-600-sec', 'moving-average-BUY-600-sec', 'stochastic-oscillator-BUY-600-sec', 'trade-amount-BUY-60-sec', 'trade-volume-BUY-60-sec', 'open-close-diff-BUY-60-sec', 'moving-average-BUY-60-sec', 'stochastic-oscillator-BUY-60-sec', 'trade-amount-BUY-30-sec', 'trade-volume-BUY-30-sec', 'open-close-diff-BUY-30-sec', 'moving-average-BUY-30-sec', 'stochastic-oscillator-BUY-30-sec', 'trade-amount-BUY-10-sec', 'trade-volume-BUY-10-sec', 'open-close-diff-BUY-10-sec', 'moving-average-BUY-10-sec', 'stochastic-oscillator-BUY-10-sec', 'trade-amount-BUY-1-sec', 'trade-volume-BUY-1-sec', 'open-close-diff-BUY-1-sec', 'moving-average-BUY-1-sec', 'stochastic-oscillator-BUY-1-sec', 'seconds-since-1-trades-ago-SELL', 'seconds-since-10-trades-ago-SELL', 'seconds-since-50-trades-ago-SELL', 'seconds-since-100-trades-ago-SELL', 'seconds-since-1000-trades-ago-SELL', 'trade-amount-SELL-600-sec', 'trade-volume-SELL-600-sec', 'open-close-diff-SELL-600-sec', 'moving-average-SELL-600-sec', 'stochastic-oscillator-SELL-600-sec', 'trade-amount-SELL-60-sec', 'trade-volume-SELL-60-sec', 'open-close-diff-SELL-60-sec', 'moving-average-SELL-60-sec', 'stochastic-oscillator-SELL-60-sec', 'trade-amount-SELL-30-sec', 'trade-volume-SELL-30-sec', 'open-close-diff-SELL-30-sec', 'moving-average-SELL-30-sec', 'stochastic-oscillator-SELL-30-sec', 'trade-amount-SELL-10-sec', 'trade-volume-SELL-10-sec', 'open-close-diff-SELL-10-sec', 'moving-average-SELL-10-sec', 'stochastic-oscillator-SELL-10-sec', 'trade-amount-SELL-1-sec', 'trade-volume-SELL-1-sec', 'open-close-diff-SELL-1-sec', 'moving-average-SELL-1-sec', 'stochastic-oscillator-SELL-1-sec']\n",
            "['punch-BUY-30-sec', 'punch-SELL-30-sec']\n"
          ]
        }
      ],
      "source": [
        "x_columns = list(filter(lambda column: not 'punch' in column and not 'weighted-moving-average' in column and not 'exp-moving-average' in column, df.columns))\n",
        "y_columns = list(filter(lambda column: 'punch' in column, df.columns))\n",
        "print(x_columns)\n",
        "print(y_columns)"
      ]
    },
    {
      "cell_type": "code",
      "execution_count": 3,
      "id": "96ce2f97-578b-4e03-88df-68348c66e537",
      "metadata": {
        "colab": {
          "base_uri": "https://localhost:8080/",
          "height": 627
        },
        "id": "96ce2f97-578b-4e03-88df-68348c66e537",
        "outputId": "1a6aff96-9507-4d43-e0b9-7e2cfde243f5"
      },
      "outputs": [
        {
          "ename": "ValueError",
          "evalue": "invalid literal for int() with base 10: ''",
          "output_type": "error",
          "traceback": [
            "\u001b[0;31m---------------------------------------------------------------------------\u001b[0m",
            "\u001b[0;31mValueError\u001b[0m                                Traceback (most recent call last)",
            "Input \u001b[0;32mIn [3]\u001b[0m, in \u001b[0;36m<module>\u001b[0;34m\u001b[0m\n\u001b[1;32m      1\u001b[0m X \u001b[38;5;241m=\u001b[39m df[x_columns]\n\u001b[0;32m----> 2\u001b[0m secs \u001b[38;5;241m=\u001b[39m \u001b[38;5;28mlist\u001b[39m(\u001b[38;5;28mreversed\u001b[39m(\u001b[38;5;28msorted\u001b[39m(\u001b[38;5;28mlist\u001b[39m(\u001b[38;5;28;43mset\u001b[39;49m\u001b[43m(\u001b[49m\u001b[38;5;28;43mmap\u001b[39;49m\u001b[43m(\u001b[49m\u001b[38;5;28;43;01mlambda\u001b[39;49;00m\u001b[43m \u001b[49m\u001b[43mx\u001b[49m\u001b[43m \u001b[49m\u001b[43m:\u001b[49m\u001b[43m \u001b[49m\u001b[38;5;28;43mint\u001b[39;49m\u001b[43m(\u001b[49m\u001b[38;5;124;43m'\u001b[39;49m\u001b[38;5;124;43m'\u001b[39;49m\u001b[38;5;241;43m.\u001b[39;49m\u001b[43mjoin\u001b[49m\u001b[43m(\u001b[49m\u001b[43mx\u001b[49m\u001b[43m)\u001b[49m\u001b[43m)\u001b[49m\u001b[43m,\u001b[49m\u001b[43m \u001b[49m\u001b[43m[\u001b[49m\u001b[43m[\u001b[49m\u001b[43ms\u001b[49m\u001b[43m \u001b[49m\u001b[38;5;28;43;01mfor\u001b[39;49;00m\u001b[43m \u001b[49m\u001b[43ms\u001b[49m\u001b[43m \u001b[49m\u001b[38;5;129;43;01min\u001b[39;49;00m\u001b[43m \u001b[49m\u001b[43mcolumn\u001b[49m\u001b[43m \u001b[49m\u001b[38;5;28;43;01mif\u001b[39;49;00m\u001b[43m \u001b[49m\u001b[43ms\u001b[49m\u001b[38;5;241;43m.\u001b[39;49m\u001b[43misdigit\u001b[49m\u001b[43m(\u001b[49m\u001b[43m)\u001b[49m\u001b[43m]\u001b[49m\u001b[43m \u001b[49m\u001b[38;5;28;43;01mfor\u001b[39;49;00m\u001b[43m \u001b[49m\u001b[43mcolumn\u001b[49m\u001b[43m \u001b[49m\u001b[38;5;129;43;01min\u001b[39;49;00m\u001b[43m \u001b[49m\u001b[43mx_columns\u001b[49m\u001b[43m]\u001b[49m\u001b[43m)\u001b[49m\u001b[43m)\u001b[49m))))\n\u001b[1;32m      4\u001b[0m \u001b[38;5;28;01mfor\u001b[39;00m side \u001b[38;5;129;01min\u001b[39;00m [\u001b[38;5;124m'\u001b[39m\u001b[38;5;124mBUY\u001b[39m\u001b[38;5;124m'\u001b[39m, \u001b[38;5;124m'\u001b[39m\u001b[38;5;124mSELL\u001b[39m\u001b[38;5;124m'\u001b[39m]:\n\u001b[1;32m      5\u001b[0m   \u001b[38;5;28;01mfor\u001b[39;00m s \u001b[38;5;129;01min\u001b[39;00m secs[:\u001b[38;5;241m-\u001b[39m\u001b[38;5;241m1\u001b[39m]:\n",
            "Input \u001b[0;32mIn [3]\u001b[0m, in \u001b[0;36m<lambda>\u001b[0;34m(x)\u001b[0m\n\u001b[1;32m      1\u001b[0m X \u001b[38;5;241m=\u001b[39m df[x_columns]\n\u001b[0;32m----> 2\u001b[0m secs \u001b[38;5;241m=\u001b[39m \u001b[38;5;28mlist\u001b[39m(\u001b[38;5;28mreversed\u001b[39m(\u001b[38;5;28msorted\u001b[39m(\u001b[38;5;28mlist\u001b[39m(\u001b[38;5;28mset\u001b[39m(\u001b[38;5;28mmap\u001b[39m(\u001b[38;5;28;01mlambda\u001b[39;00m x : \u001b[38;5;28;43mint\u001b[39;49m\u001b[43m(\u001b[49m\u001b[38;5;124;43m'\u001b[39;49m\u001b[38;5;124;43m'\u001b[39;49m\u001b[38;5;241;43m.\u001b[39;49m\u001b[43mjoin\u001b[49m\u001b[43m(\u001b[49m\u001b[43mx\u001b[49m\u001b[43m)\u001b[49m\u001b[43m)\u001b[49m, [[s \u001b[38;5;28;01mfor\u001b[39;00m s \u001b[38;5;129;01min\u001b[39;00m column \u001b[38;5;28;01mif\u001b[39;00m s\u001b[38;5;241m.\u001b[39misdigit()] \u001b[38;5;28;01mfor\u001b[39;00m column \u001b[38;5;129;01min\u001b[39;00m x_columns]))))))\n\u001b[1;32m      4\u001b[0m \u001b[38;5;28;01mfor\u001b[39;00m side \u001b[38;5;129;01min\u001b[39;00m [\u001b[38;5;124m'\u001b[39m\u001b[38;5;124mBUY\u001b[39m\u001b[38;5;124m'\u001b[39m, \u001b[38;5;124m'\u001b[39m\u001b[38;5;124mSELL\u001b[39m\u001b[38;5;124m'\u001b[39m]:\n\u001b[1;32m      5\u001b[0m   \u001b[38;5;28;01mfor\u001b[39;00m s \u001b[38;5;129;01min\u001b[39;00m secs[:\u001b[38;5;241m-\u001b[39m\u001b[38;5;241m1\u001b[39m]:\n",
            "\u001b[0;31mValueError\u001b[0m: invalid literal for int() with base 10: ''"
          ]
        }
      ],
      "source": [
        "X = df[x_columns]\n",
        "secs = list(reversed(sorted(list(set(map(lambda x : int(''.join(x)), [[s for s in column if s.isdigit()] for column in x_columns]))))))\n",
        "\n",
        "for side in ['BUY', 'SELL']:\n",
        "  for s in secs[:-1]:\n",
        "    X[f'trades-{side}-{str(s)}-sec'] -= X[f'trades-{side}-{str(s - (secs[0] - secs[1]))}-sec']\n",
        "X"
      ]
    },
    {
      "cell_type": "code",
      "execution_count": 12,
      "id": "70de5225-1eda-479f-9199-b176f49d7d9c",
      "metadata": {
        "colab": {
          "base_uri": "https://localhost:8080/"
        },
        "id": "70de5225-1eda-479f-9199-b176f49d7d9c",
        "outputId": "07ca6981-33a4-4943-d7f8-7a802433cd8e"
      },
      "outputs": [
        {
          "name": "stdout",
          "output_type": "stream",
          "text": [
            "      target\n",
            "0          0\n",
            "1          0\n",
            "2          1\n",
            "3          0\n",
            "4          0\n",
            "...      ...\n",
            "6559       1\n",
            "6560       0\n",
            "6561       0\n",
            "6562       0\n",
            "6563       1\n",
            "\n",
            "[6564 rows x 1 columns]\n",
            "target\n",
            "0         4304\n",
            "1         2260\n",
            "dtype: int64\n"
          ]
        }
      ],
      "source": [
        "commision = 0.0002\n",
        "punch = commision * 4\n",
        "\n",
        "y = pd.DataFrame(\n",
        "    df[y_columns].apply(\n",
        "        # lambda row : 1 if max(list(row.to_numpy()), key=abs) > punch else -1 if max(list(row.to_numpy()), key=abs) < -punch else 0,\n",
        "        lambda row : 1 if max(abs(row.to_numpy())) > punch else 0,\n",
        "        axis = 1\n",
        "    )\n",
        ")\n",
        "y = y.rename({0:'target'}, axis='columns')\n",
        "print(y)\n",
        "print(y.value_counts())"
      ]
    },
    {
      "cell_type": "code",
      "execution_count": 13,
      "id": "OZvYPPg4iPC2",
      "metadata": {
        "id": "OZvYPPg4iPC2"
      },
      "outputs": [],
      "source": [
        "from catboost import CatBoostClassifier, Pool, metrics, cv\n",
        "from sklearn.metrics import accuracy_score"
      ]
    },
    {
      "cell_type": "code",
      "execution_count": 14,
      "id": "f0753b54-1efd-4f34-ba92-2547bb0e854a",
      "metadata": {
        "id": "f0753b54-1efd-4f34-ba92-2547bb0e854a"
      },
      "outputs": [],
      "source": [
        "from sklearn.model_selection import train_test_split\n",
        "\n",
        "X_train, X_test, y_train, y_test = train_test_split(X, y, train_size=0.8, shuffle = True, random_state=12)\n",
        "\n",
        "X_train, X_validation, y_train, y_validation = train_test_split(X_train, y_train, train_size=0.75, shuffle = True, random_state=6)"
      ]
    },
    {
      "cell_type": "code",
      "execution_count": 15,
      "id": "L8jyutxLiBqy",
      "metadata": {
        "colab": {
          "base_uri": "https://localhost:8080/",
          "height": 34,
          "referenced_widgets": [
            "9246ade5d6d445969edb880b54351316"
          ]
        },
        "id": "L8jyutxLiBqy",
        "outputId": "c980c641-443f-4835-8374-ac6f40a47010"
      },
      "outputs": [
        {
          "data": {
            "application/vnd.jupyter.widget-view+json": {
              "model_id": "a09739eddc0b43ada60c33ef86915130",
              "version_major": 2,
              "version_minor": 0
            },
            "text/plain": [
              "MetricVisualizer(layout=Layout(align_self='stretch', height='500px'))"
            ]
          },
          "metadata": {},
          "output_type": "display_data"
        },
        {
          "name": "stdout",
          "output_type": "stream",
          "text": [
            "Model validation accuracy: 0.773\n"
          ]
        }
      ],
      "source": [
        "params = {\n",
        "    'iterations': 500,\n",
        "    'learning_rate': 0.1,\n",
        "    # 'depth': 5,\n",
        "    'custom_loss': [metrics.Accuracy()],\n",
        "    'eval_metric': metrics.Accuracy(),\n",
        "    'random_seed': 42,\n",
        "    'logging_level': 'Silent',\n",
        "    'loss_function': 'Logloss',\n",
        "}\n",
        "train_pool = Pool(X_train, y_train)\n",
        "validate_pool = Pool(X_validation, y_validation)\n",
        "\n",
        "model = CatBoostClassifier(**params)\n",
        "model.fit(\n",
        "    train_pool,\n",
        "    eval_set=validate_pool,\n",
        "    plot=True,\n",
        ")\n",
        "print('Model validation accuracy: {:.4}'.format(\n",
        "    accuracy_score(y_test, model.predict(X_test))\n",
        "))"
      ]
    },
    {
      "cell_type": "code",
      "execution_count": 16,
      "id": "tUJHvx9f_2IC",
      "metadata": {
        "colab": {
          "base_uri": "https://localhost:8080/",
          "height": 17,
          "referenced_widgets": [
            "d8983083b68c401eaec0df816fcc41db"
          ]
        },
        "id": "tUJHvx9f_2IC",
        "outputId": "395d5460-bd7c-459c-ec3f-7205a7c55854"
      },
      "outputs": [
        {
          "data": {
            "application/vnd.jupyter.widget-view+json": {
              "model_id": "4db789409b6c4f2fbadddfdcf74cfd28",
              "version_major": 2,
              "version_minor": 0
            },
            "text/plain": [
              "MetricVisualizer(layout=Layout(align_self='stretch', height='500px'))"
            ]
          },
          "metadata": {},
          "output_type": "display_data"
        },
        {
          "name": "stdout",
          "output_type": "stream",
          "text": [
            "Best validation accuracy score: 0.78±0.00 on step 494\n",
            "Precise validation accuracy score: 0.776356963550407\n"
          ]
        }
      ],
      "source": [
        "cv_params = model.get_params()\n",
        "cv_params.update({\n",
        "    'loss_function': metrics.MultiClass()\n",
        "})\n",
        "cv_data = cv(\n",
        "    Pool(X, y),\n",
        "    cv_params,\n",
        "    plot=True\n",
        ")\n",
        "print('Best validation accuracy score: {:.2f}±{:.2f} on step {}'.format(\n",
        "    np.max(cv_data['test-Accuracy-mean']),\n",
        "    cv_data['test-Accuracy-std'][np.argmax(cv_data['test-Accuracy-mean'])],\n",
        "    np.argmax(cv_data['test-Accuracy-mean'])\n",
        "))\n",
        "print('Precise validation accuracy score: {}'.format(np.max(cv_data['test-Accuracy-mean'])))"
      ]
    },
    {
      "cell_type": "code",
      "execution_count": 17,
      "id": "UFuSMQT5Avbl",
      "metadata": {
        "colab": {
          "base_uri": "https://localhost:8080/"
        },
        "id": "UFuSMQT5Avbl",
        "outputId": "c51d3538-f773-4336-f86f-ac9ed8055be9"
      },
      "outputs": [
        {
          "name": "stdout",
          "output_type": "stream",
          "text": [
            "[[0]\n",
            " [0]\n",
            " [0]\n",
            " [0]\n",
            " [0]\n",
            " [1]\n",
            " [0]\n",
            " [0]\n",
            " [1]\n",
            " [0]]\n",
            "[[0.74838222 0.25161778]\n",
            " [0.70112827 0.29887173]\n",
            " [0.74800797 0.25199203]\n",
            " [0.91221826 0.08778174]\n",
            " [0.96961565 0.03038435]\n",
            " [0.00181163 0.99818837]\n",
            " [0.9287105  0.0712895 ]\n",
            " [0.79310302 0.20689698]\n",
            " [0.05961957 0.94038043]\n",
            " [0.96201868 0.03798132]]\n",
            "      target\n",
            "3657       0\n",
            "5390       1\n",
            "6548       1\n",
            "5761       0\n",
            "2689       0\n",
            "4132       1\n",
            "4224       1\n",
            "6553       1\n",
            "4521       1\n",
            "2016       0\n"
          ]
        }
      ],
      "source": [
        "predictions = model.predict(X_test)\n",
        "predictions = predictions.reshape(predictions.shape[0], 1)\n",
        "predictions_probs = model.predict_proba(X_test)\n",
        "print(predictions[10:20])\n",
        "print(predictions_probs[10:20])\n",
        "print(y_test[10:20])"
      ]
    },
    {
      "cell_type": "code",
      "execution_count": 18,
      "id": "LKsiuV0uA4I9",
      "metadata": {
        "colab": {
          "base_uri": "https://localhost:8080/"
        },
        "id": "LKsiuV0uA4I9",
        "outputId": "2381f1ca-462a-4c1c-d7a9-48b980c13009"
      },
      "outputs": [
        {
          "name": "stdout",
          "output_type": "stream",
          "text": [
            "seconds-since-50-trades-ago-BUY: 5.235436699849289\n",
            "seconds-since-50-trades-ago-SELL: 4.512211277308107\n",
            "seconds-since-midnight: 3.2807330884591956\n",
            "open-close-diff-SELL-60-sec: 3.0444555709199044\n",
            "seconds-since-10-trades-ago-SELL: 3.021588497463507\n",
            "trade-volume-BUY-30-sec: 2.9591959128743706\n",
            "open-close-diff-BUY-600-sec: 2.7787033593067667\n",
            "trade-amount-BUY-30-sec: 2.573732473283224\n",
            "trade-volume-SELL-60-sec: 2.4586573815016677\n",
            "trade-volume-SELL-10-sec: 2.4371131672598927\n",
            "trade-amount-SELL-600-sec: 2.3939949358588675\n",
            "trade-volume-SELL-600-sec: 2.3844039600123956\n",
            "trade-amount-SELL-60-sec: 2.3386407276802967\n",
            "trade-amount-BUY-600-sec: 2.3115305701157696\n",
            "trade-volume-BUY-600-sec: 2.2778635755696786\n",
            "seconds-since-100-trades-ago-SELL: 2.1260923800944473\n",
            "open-close-diff-BUY-60-sec: 2.1237543267064587\n",
            "seconds-since-1-trades-ago-SELL: 2.1138743791816457\n",
            "seconds-since-10-trades-ago-BUY: 2.0982953764865866\n",
            "open-close-diff-SELL-10-sec: 2.047211400531122\n",
            "trade-amount-BUY-60-sec: 2.0454249239513347\n",
            "trade-volume-BUY-10-sec: 2.004072735062971\n",
            "stochastic-oscillator-SELL-600-sec: 1.9777950575799337\n",
            "trade-volume-SELL-30-sec: 1.9724621971075442\n",
            "trade-volume-SELL-1-sec: 1.9592096249824469\n",
            "trade-volume-BUY-1-sec: 1.9308395063071533\n",
            "open-close-diff-SELL-600-sec: 1.9204878348641854\n",
            "open-close-diff-BUY-30-sec: 1.7461459953395013\n",
            "seconds-since-100-trades-ago-BUY: 1.7180420532713665\n",
            "open-close-diff-SELL-30-sec: 1.5716716584993795\n",
            "stochastic-oscillator-SELL-30-sec: 1.5430945475496622\n",
            "trade-volume-BUY-60-sec: 1.5220287205512228\n",
            "open-close-diff-BUY-10-sec: 1.4996649452155908\n",
            "seconds-since-1-trades-ago-BUY: 1.427598698192953\n",
            "stochastic-oscillator-BUY-600-sec: 1.4171347681357715\n",
            "trade-amount-SELL-30-sec: 1.3251994760022705\n",
            "trade-amount-SELL-10-sec: 1.293385577099177\n",
            "stochastic-oscillator-BUY-60-sec: 1.2857026121163573\n",
            "seconds-since-1000-trades-ago-BUY: 1.1922689475908714\n",
            "seconds-since-1000-trades-ago-SELL: 1.124350235958615\n",
            "trade-amount-BUY-10-sec: 0.9090504973964624\n",
            "stochastic-oscillator-BUY-30-sec: 0.7729949567048332\n",
            "trade-amount-SELL-1-sec: 0.7098439313086258\n",
            "stochastic-oscillator-SELL-60-sec: 0.6804493658722429\n",
            "weighted-moving-average-SELL-600-sec: 0.6205921318780104\n",
            "weighted-moving-average-BUY-600-sec: 0.559680109558926\n",
            "moving-average-BUY-30-sec: 0.539067076935256\n",
            "moving-average-SELL-30-sec: 0.5302938996572507\n",
            "stochastic-oscillator-BUY-10-sec: 0.5015920672822568\n",
            "moving-average-SELL-60-sec: 0.4667647561045263\n",
            "weighted-moving-average-BUY-30-sec: 0.4239592465642533\n",
            "stochastic-oscillator-BUY-1-sec: 0.3715485412253516\n",
            "open-close-diff-BUY-1-sec: 0.3432441669141618\n",
            "moving-average-BUY-1-sec: 0.3419412545639693\n",
            "weighted-moving-average-BUY-60-sec: 0.33435866398918235\n",
            "weighted-moving-average-BUY-10-sec: 0.3236397904824724\n",
            "trade-amount-BUY-1-sec: 0.2921168512317272\n",
            "exp-moving-average-SELL-10-sec: 0.28837444796432365\n",
            "weighted-moving-average-SELL-30-sec: 0.28820591167272724\n",
            "weighted-moving-average-SELL-1-sec: 0.2754727366127021\n",
            "exp-moving-average-SELL-600-sec: 0.2379089174987361\n",
            "weighted-moving-average-SELL-10-sec: 0.23427215938131185\n",
            "moving-average-SELL-10-sec: 0.23311635305594675\n",
            "moving-average-BUY-600-sec: 0.2252440632633749\n",
            "exp-moving-average-BUY-10-sec: 0.22422196787500986\n",
            "exp-moving-average-SELL-60-sec: 0.22084703501043862\n",
            "stochastic-oscillator-SELL-10-sec: 0.22082331117832557\n",
            "weighted-moving-average-SELL-60-sec: 0.2166274210814247\n",
            "exp-moving-average-BUY-30-sec: 0.20229649103776598\n",
            "exp-moving-average-SELL-30-sec: 0.19936824616422333\n",
            "moving-average-SELL-1-sec: 0.18660481076403432\n",
            "moving-average-SELL-600-sec: 0.17122495790533088\n",
            "exp-moving-average-BUY-600-sec: 0.15014594091202324\n",
            "exp-moving-average-BUY-1-sec: 0.12617412675349104\n",
            "moving-average-BUY-60-sec: 0.11915260142923446\n",
            "open-close-diff-SELL-1-sec: 0.11900120940304562\n",
            "exp-moving-average-BUY-60-sec: 0.11433889032493869\n",
            "moving-average-BUY-10-sec: 0.0818525316985273\n",
            "exp-moving-average-SELL-1-sec: 0.07300085516189024\n",
            "weighted-moving-average-BUY-1-sec: 0.04938583328731132\n",
            "stochastic-oscillator-SELL-1-sec: 0.027132697052815073\n"
          ]
        }
      ],
      "source": [
        "feature_importances = model.get_feature_importance(train_pool)\n",
        "feature_names = X_train.columns\n",
        "for score, name in sorted(zip(feature_importances, feature_names), reverse=True):\n",
        "    print('{}: {}'.format(name, score))\n"
      ]
    },
    {
      "cell_type": "code",
      "execution_count": null,
      "id": "BOXaFSRshnIV",
      "metadata": {
        "id": "BOXaFSRshnIV"
      },
      "outputs": [],
      "source": []
    }
  ],
  "metadata": {
    "colab": {
      "collapsed_sections": [],
      "name": "trades-size-catboost.ipynb",
      "provenance": []
    },
    "kernelspec": {
      "display_name": "Python 3 (ipykernel)",
      "language": "python",
      "name": "python3"
    },
    "language_info": {
      "codemirror_mode": {
        "name": "ipython",
        "version": 3
      },
      "file_extension": ".py",
      "mimetype": "text/x-python",
      "name": "python",
      "nbconvert_exporter": "python",
      "pygments_lexer": "ipython3",
      "version": "3.9.7"
    },
    "widgets": {
      "application/vnd.jupyter.widget-state+json": {
        "9246ade5d6d445969edb880b54351316": {
          "model_module": "catboost-widget",
          "model_module_version": "^1.0.0",
          "model_name": "CatboostWidgetModel",
          "state": {
            "_dom_classes": [],
            "_model_module": "catboost-widget",
            "_model_module_version": "^1.0.0",
            "_model_name": "CatboostWidgetModel",
            "_view_count": null,
            "_view_module": "catboost-widget",
            "_view_module_version": "^1.0.0",
            "_view_name": "CatboostWidgetView",
            "data": {
              "catboost_info": {
                "content": {
                  "data": {
                    "iterations": [
                      {
                        "iteration": 0,
                        "learn": [
                          0.6813952518,
                          0.6773556688
                        ],
                        "passed_time": 0.01343434262,
                        "remaining_time": 6.703736969,
                        "test": [
                          0.6839404181,
                          0.6772066761
                        ]
                      },
                      {
                        "iteration": 1,
                        "learn": [
                          0.6862352401,
                          0.6642759839
                        ],
                        "passed_time": 0.02609135464,
                        "remaining_time": 6.496747306,
                        "test": [
                          0.6865690324,
                          0.6642249482
                        ]
                      },
                      {
                        "iteration": 2,
                        "learn": [
                          0.6884048901,
                          0.6527571696
                        ],
                        "passed_time": 0.03903744739,
                        "remaining_time": 6.467203784,
                        "test": [
                          0.6891976468,
                          0.6527381416
                        ]
                      },
                      {
                        "iteration": 3,
                        "learn": [
                          0.6901990237,
                          0.643747591
                        ],
                        "passed_time": 0.0521653213,
                        "remaining_time": 6.468499841,
                        "test": [
                          0.6900738515,
                          0.6440263479
                        ]
                      },
                      {
                        "iteration": 4,
                        "learn": [
                          0.6899486794,
                          0.6360903845
                        ],
                        "passed_time": 0.06538016787,
                        "remaining_time": 6.47263662,
                        "test": [
                          0.6924521217,
                          0.6358900632
                        ]
                      },
                      {
                        "iteration": 5,
                        "learn": [
                          0.6927024659,
                          0.6293048165
                        ],
                        "passed_time": 0.07910536656,
                        "remaining_time": 6.513008513,
                        "test": [
                          0.6933283264,
                          0.6289946175
                        ]
                      },
                      {
                        "iteration": 6,
                        "learn": [
                          0.6932448784,
                          0.6235420683
                        ],
                        "passed_time": 0.09274685238,
                        "remaining_time": 6.532028318,
                        "test": [
                          0.6938290149,
                          0.6230411396
                        ]
                      },
                      {
                        "iteration": 7,
                        "learn": [
                          0.6943297033,
                          0.6188325812
                        ],
                        "passed_time": 0.1059308055,
                        "remaining_time": 6.514744536,
                        "test": [
                          0.696207285,
                          0.6181979765
                        ]
                      },
                      {
                        "iteration": 8,
                        "learn": [
                          0.6949555639,
                          0.614735411
                        ],
                        "passed_time": 0.1190573622,
                        "remaining_time": 6.495240537,
                        "test": [
                          0.6974590061,
                          0.614017902
                        ]
                      },
                      {
                        "iteration": 9,
                        "learn": [
                          0.6953728043,
                          0.6110813765
                        ],
                        "passed_time": 0.1323043585,
                        "remaining_time": 6.482913568,
                        "test": [
                          0.6968331456,
                          0.6104092636
                        ]
                      },
                      {
                        "iteration": 10,
                        "learn": [
                          0.6958734927,
                          0.6079291175
                        ],
                        "passed_time": 0.1453092039,
                        "remaining_time": 6.45965461,
                        "test": [
                          0.6980848667,
                          0.6074192121
                        ]
                      },
                      {
                        "iteration": 11,
                        "learn": [
                          0.6968331456,
                          0.6047543405
                        ],
                        "passed_time": 0.1607439649,
                        "remaining_time": 6.536921238,
                        "test": [
                          0.6970834898,
                          0.6045817334
                        ]
                      },
                      {
                        "iteration": 12,
                        "learn": [
                          0.6970000417,
                          0.6023374444
                        ],
                        "passed_time": 0.1755668002,
                        "remaining_time": 6.577002437,
                        "test": [
                          0.6980848667,
                          0.602186826
                        ]
                      },
                      {
                        "iteration": 13,
                        "learn": [
                          0.6980014186,
                          0.6000698961
                        ],
                        "passed_time": 0.1898971858,
                        "remaining_time": 6.592145165,
                        "test": [
                          0.6978345225,
                          0.600257784
                        ]
                      },
                      {
                        "iteration": 14,
                        "learn": [
                          0.6985021071,
                          0.5981079126
                        ],
                        "passed_time": 0.2043174067,
                        "remaining_time": 6.606262817,
                        "test": [
                          0.6989610715,
                          0.5986255826
                        ]
                      },
                      {
                        "iteration": 15,
                        "learn": [
                          0.698376935,
                          0.5963688266
                        ],
                        "passed_time": 0.2235989059,
                        "remaining_time": 6.763866905,
                        "test": [
                          0.6990862436,
                          0.59698457
                        ]
                      },
                      {
                        "iteration": 16,
                        "learn": [
                          0.698418659,
                          0.5949091684
                        ],
                        "passed_time": 0.2382259146,
                        "remaining_time": 6.768418632,
                        "test": [
                          0.6992114157,
                          0.5955333327
                        ]
                      },
                      {
                        "iteration": 17,
                        "learn": [
                          0.6987941753,
                          0.5932499373
                        ],
                        "passed_time": 0.2528225315,
                        "remaining_time": 6.770025566,
                        "test": [
                          0.6992114157,
                          0.5944135581
                        ]
                      },
                      {
                        "iteration": 18,
                        "learn": [
                          0.6982934869,
                          0.5921873362
                        ],
                        "passed_time": 0.2660736912,
                        "remaining_time": 6.735865552,
                        "test": [
                          0.6990862436,
                          0.5935380125
                        ]
                      },
                      {
                        "iteration": 19,
                        "learn": [
                          0.6989610715,
                          0.5906445793
                        ],
                        "passed_time": 0.2830350552,
                        "remaining_time": 6.792841324,
                        "test": [
                          0.6994617599,
                          0.5923571749
                        ]
                      },
                      {
                        "iteration": 20,
                        "learn": [
                          0.6994200359,
                          0.5893556635
                        ],
                        "passed_time": 0.2969146577,
                        "remaining_time": 6.772481954,
                        "test": [
                          0.6994617599,
                          0.5914011423
                        ]
                      },
                      {
                        "iteration": 21,
                        "learn": [
                          0.6996286561,
                          0.5881823215
                        ],
                        "passed_time": 0.3108239956,
                        "remaining_time": 6.753357722,
                        "test": [
                          0.7000876205,
                          0.5902997751
                        ]
                      },
                      {
                        "iteration": 22,
                        "learn": [
                          0.700713481,
                          0.5870338846
                        ],
                        "passed_time": 0.3239295109,
                        "remaining_time": 6.718016379,
                        "test": [
                          0.6994617599,
                          0.5894829578
                        ]
                      },
                      {
                        "iteration": 23,
                        "learn": [
                          0.7015479618,
                          0.5858814273
                        ],
                        "passed_time": 0.3373586593,
                        "remaining_time": 6.690946743,
                        "test": [
                          0.6997121041,
                          0.5886299474
                        ]
                      },
                      {
                        "iteration": 24,
                        "learn": [
                          0.701756582,
                          0.5848724255
                        ],
                        "passed_time": 0.3518750532,
                        "remaining_time": 6.685626011,
                        "test": [
                          0.6997121041,
                          0.5880560126
                        ]
                      },
                      {
                        "iteration": 25,
                        "learn": [
                          0.7024658906,
                          0.5841336504
                        ],
                        "passed_time": 0.3653881344,
                        "remaining_time": 6.661306759,
                        "test": [
                          0.6999624484,
                          0.5875138146
                        ]
                      },
                      {
                        "iteration": 26,
                        "learn": [
                          0.7031751992,
                          0.583404768
                        ],
                        "passed_time": 0.3788874793,
                        "remaining_time": 6.637547323,
                        "test": [
                          0.7014645137,
                          0.5870421755
                        ]
                      },
                      {
                        "iteration": 27,
                        "learn": [
                          0.7025493387,
                          0.5825651729
                        ],
                        "passed_time": 0.3928556307,
                        "remaining_time": 6.622423489,
                        "test": [
                          0.7013393416,
                          0.5867318315
                        ]
                      },
                      {
                        "iteration": 28,
                        "learn": [
                          0.7030917512,
                          0.5815478222
                        ],
                        "passed_time": 0.4109501408,
                        "remaining_time": 6.674397115,
                        "test": [
                          0.7013393416,
                          0.5859928261
                        ]
                      },
                      {
                        "iteration": 29,
                        "learn": [
                          0.7038427838,
                          0.580981912
                        ],
                        "passed_time": 0.4250795411,
                        "remaining_time": 6.659579477,
                        "test": [
                          0.7017148579,
                          0.5856064464
                        ]
                      },
                      {
                        "iteration": 30,
                        "learn": [
                          0.7047189886,
                          0.5803902611
                        ],
                        "passed_time": 0.4394541067,
                        "remaining_time": 6.648515356,
                        "test": [
                          0.7013393416,
                          0.5852471919
                        ]
                      },
                      {
                        "iteration": 31,
                        "learn": [
                          0.7053865732,
                          0.579430462
                        ],
                        "passed_time": 0.4536345283,
                        "remaining_time": 6.634404976,
                        "test": [
                          0.7014645137,
                          0.5847667781
                        ]
                      },
                      {
                        "iteration": 32,
                        "learn": [
                          0.7055117453,
                          0.57886869
                        ],
                        "passed_time": 0.4681653739,
                        "remaining_time": 6.625249383,
                        "test": [
                          0.7019652022,
                          0.5843401761
                        ]
                      },
                      {
                        "iteration": 33,
                        "learn": [
                          0.7055117453,
                          0.5780308428
                        ],
                        "passed_time": 0.4830175328,
                        "remaining_time": 6.620181479,
                        "test": [
                          0.7020903743,
                          0.5838958413
                        ]
                      },
                      {
                        "iteration": 34,
                        "learn": [
                          0.7065548462,
                          0.5774686313
                        ],
                        "passed_time": 0.4964520918,
                        "remaining_time": 6.595720648,
                        "test": [
                          0.7030917512,
                          0.5836025327
                        ]
                      },
                      {
                        "iteration": 35,
                        "learn": [
                          0.7067217424,
                          0.5767161458
                        ],
                        "passed_time": 0.5101206232,
                        "remaining_time": 6.574888032,
                        "test": [
                          0.7017148579,
                          0.5832978551
                        ]
                      },
                      {
                        "iteration": 36,
                        "learn": [
                          0.7069303626,
                          0.57607967
                        ],
                        "passed_time": 0.5239609546,
                        "remaining_time": 6.556592485,
                        "test": [
                          0.7025910627,
                          0.5829640998
                        ]
                      },
                      {
                        "iteration": 37,
                        "learn": [
                          0.7069303626,
                          0.5754875706
                        ],
                        "passed_time": 0.5495730878,
                        "remaining_time": 6.681651752,
                        "test": [
                          0.7017148579,
                          0.5826125566
                        ]
                      },
                      {
                        "iteration": 38,
                        "learn": [
                          0.7076396712,
                          0.5748658319
                        ],
                        "passed_time": 0.5634854346,
                        "remaining_time": 6.660686804,
                        "test": [
                          0.7030917512,
                          0.582480004
                        ]
                      },
                      {
                        "iteration": 39,
                        "learn": [
                          0.7076396712,
                          0.574318675
                        ],
                        "passed_time": 0.5770516807,
                        "remaining_time": 6.636094328,
                        "test": [
                          0.7027162348,
                          0.5823200074
                        ]
                      },
                      {
                        "iteration": 40,
                        "learn": [
                          0.707431051,
                          0.5736752129
                        ],
                        "passed_time": 0.5910487539,
                        "remaining_time": 6.616862879,
                        "test": [
                          0.7034672675,
                          0.5818713973
                        ]
                      },
                      {
                        "iteration": 41,
                        "learn": [
                          0.7080569116,
                          0.5731341961
                        ],
                        "passed_time": 0.6075989231,
                        "remaining_time": 6.62572159,
                        "test": [
                          0.7038427838,
                          0.5815264574
                        ]
                      },
                      {
                        "iteration": 42,
                        "learn": [
                          0.7085576,
                          0.572669239
                        ],
                        "passed_time": 0.6246573145,
                        "remaining_time": 6.638799831,
                        "test": [
                          0.7035924396,
                          0.581449244
                        ]
                      },
                      {
                        "iteration": 43,
                        "learn": [
                          0.7088496683,
                          0.5719918972
                        ],
                        "passed_time": 0.6412990133,
                        "remaining_time": 6.646189774,
                        "test": [
                          0.7035924396,
                          0.5810636357
                        ]
                      },
                      {
                        "iteration": 44,
                        "learn": [
                          0.7098927692,
                          0.5713604259
                        ],
                        "passed_time": 0.655379393,
                        "remaining_time": 6.626613863,
                        "test": [
                          0.7043434723,
                          0.5806945041
                        ]
                      },
                      {
                        "iteration": 45,
                        "learn": [
                          0.7095589769,
                          0.570777831
                        ],
                        "passed_time": 0.6738700225,
                        "remaining_time": 6.650804135,
                        "test": [
                          0.7035924396,
                          0.5804975461
                        ]
                      },
                      {
                        "iteration": 46,
                        "learn": [
                          0.7099344933,
                          0.5702327273
                        ],
                        "passed_time": 0.7026537379,
                        "remaining_time": 6.772386027,
                        "test": [
                          0.7038427838,
                          0.5802244209
                        ]
                      },
                      {
                        "iteration": 47,
                        "learn": [
                          0.7100596654,
                          0.569652251
                        ],
                        "passed_time": 0.7159449796,
                        "remaining_time": 6.741815224,
                        "test": [
                          0.7038427838,
                          0.579942686
                        ]
                      },
                      {
                        "iteration": 48,
                        "learn": [
                          0.7104351817,
                          0.5691587562
                        ],
                        "passed_time": 0.7294164099,
                        "remaining_time": 6.71360818,
                        "test": [
                          0.7039679559,
                          0.5798256053
                        ]
                      },
                      {
                        "iteration": 49,
                        "learn": [
                          0.7110610423,
                          0.5686460184
                        ],
                        "passed_time": 0.7429565921,
                        "remaining_time": 6.686609329,
                        "test": [
                          0.7035924396,
                          0.5797042511
                        ]
                      },
                      {
                        "iteration": 50,
                        "learn": [
                          0.7113948346,
                          0.5681934687
                        ],
                        "passed_time": 0.7569572997,
                        "remaining_time": 6.664192697,
                        "test": [
                          0.7045938165,
                          0.5794852954
                        ]
                      },
                      {
                        "iteration": 51,
                        "learn": [
                          0.7116869028,
                          0.5677970227
                        ],
                        "passed_time": 0.7707056996,
                        "remaining_time": 6.639926027,
                        "test": [
                          0.7049693328,
                          0.5793364767
                        ]
                      },
                      {
                        "iteration": 52,
                        "learn": [
                          0.7124379355,
                          0.5674294668
                        ],
                        "passed_time": 0.7847458646,
                        "remaining_time": 6.618517009,
                        "test": [
                          0.7054700213,
                          0.5791911368
                        ]
                      },
                      {
                        "iteration": 53,
                        "learn": [
                          0.7129386239,
                          0.5669895151
                        ],
                        "passed_time": 0.7985674735,
                        "remaining_time": 6.5955758,
                        "test": [
                          0.7052196771,
                          0.5790750488
                        ]
                      },
                      {
                        "iteration": 54,
                        "learn": [
                          0.7133975884,
                          0.5664992706
                        ],
                        "passed_time": 0.8124470515,
                        "remaining_time": 6.573435235,
                        "test": [
                          0.7053448492,
                          0.5790328505
                        ]
                      },
                      {
                        "iteration": 55,
                        "learn": [
                          0.7138565528,
                          0.5660951393
                        ],
                        "passed_time": 0.8266948897,
                        "remaining_time": 6.554509483,
                        "test": [
                          0.7052196771,
                          0.5790280147
                        ]
                      },
                      {
                        "iteration": 56,
                        "learn": [
                          0.7138982768,
                          0.5657522968
                        ],
                        "passed_time": 0.8403621484,
                        "remaining_time": 6.531235645,
                        "test": [
                          0.7050945049,
                          0.5789556391
                        ]
                      },
                      {
                        "iteration": 57,
                        "learn": [
                          0.7143989652,
                          0.5653355974
                        ],
                        "passed_time": 0.8538956357,
                        "remaining_time": 6.507273637,
                        "test": [
                          0.7055951934,
                          0.5788733933
                        ]
                      },
                      {
                        "iteration": 58,
                        "learn": [
                          0.7144824133,
                          0.5648494874
                        ],
                        "passed_time": 0.8673623035,
                        "remaining_time": 6.483165692,
                        "test": [
                          0.7054700213,
                          0.5787337613
                        ]
                      },
                      {
                        "iteration": 59,
                        "learn": [
                          0.7146910335,
                          0.5644274999
                        ],
                        "passed_time": 0.8811777028,
                        "remaining_time": 6.461969821,
                        "test": [
                          0.7057203655,
                          0.5786143747
                        ]
                      },
                      {
                        "iteration": 60,
                        "learn": [
                          0.7156089623,
                          0.5639989585
                        ],
                        "passed_time": 0.8947944448,
                        "remaining_time": 6.43958625,
                        "test": [
                          0.7048441607,
                          0.5784777699
                        ]
                      },
                      {
                        "iteration": 61,
                        "learn": [
                          0.7158175825,
                          0.5635595217
                        ],
                        "passed_time": 0.9083261557,
                        "remaining_time": 6.416884778,
                        "test": [
                          0.7052196771,
                          0.5783718702
                        ]
                      },
                      {
                        "iteration": 62,
                        "learn": [
                          0.7160679267,
                          0.5633155595
                        ],
                        "passed_time": 0.9217149594,
                        "remaining_time": 6.393483131,
                        "test": [
                          0.7050945049,
                          0.5782280009
                        ]
                      },
                      {
                        "iteration": 63,
                        "learn": [
                          0.7161513748,
                          0.5627454305
                        ],
                        "passed_time": 0.9361985508,
                        "remaining_time": 6.377852628,
                        "test": [
                          0.7044686444,
                          0.5780630279
                        ]
                      },
                      {
                        "iteration": 64,
                        "learn": [
                          0.7169441315,
                          0.5623365696
                        ],
                        "passed_time": 0.9667115554,
                        "remaining_time": 6.469531178,
                        "test": [
                          0.7052196771,
                          0.5779907883
                        ]
                      },
                      {
                        "iteration": 65,
                        "learn": [
                          0.7174030959,
                          0.5620570826
                        ],
                        "passed_time": 0.9804721873,
                        "remaining_time": 6.447347413,
                        "test": [
                          0.7055951934,
                          0.5779638888
                        ]
                      },
                      {
                        "iteration": 66,
                        "learn": [
                          0.7177786123,
                          0.561804341
                        ],
                        "passed_time": 0.9946349073,
                        "remaining_time": 6.428013654,
                        "test": [
                          0.7059707097,
                          0.5777475112
                        ]
                      },
                      {
                        "iteration": 67,
                        "learn": [
                          0.7181124046,
                          0.5614055297
                        ],
                        "passed_time": 1.008807786,
                        "remaining_time": 6.408896521,
                        "test": [
                          0.7052196771,
                          0.5776564761
                        ]
                      },
                      {
                        "iteration": 68,
                        "learn": [
                          0.7179455084,
                          0.5610789155
                        ],
                        "passed_time": 1.022393271,
                        "remaining_time": 6.386253623,
                        "test": [
                          0.7047189886,
                          0.577620173
                        ]
                      },
                      {
                        "iteration": 69,
                        "learn": [
                          0.7181541286,
                          0.5607793303
                        ],
                        "passed_time": 1.036345707,
                        "remaining_time": 6.366123632,
                        "test": [
                          0.7052196771,
                          0.5775270457
                        ]
                      },
                      {
                        "iteration": 70,
                        "learn": [
                          0.7188217132,
                          0.5603179887
                        ],
                        "passed_time": 1.050832638,
                        "remaining_time": 6.349397206,
                        "test": [
                          0.7059707097,
                          0.5774094257
                        ]
                      },
                      {
                        "iteration": 71,
                        "learn": [
                          0.7187382651,
                          0.559999457
                        ],
                        "passed_time": 1.067848467,
                        "remaining_time": 6.347765889,
                        "test": [
                          0.7059707097,
                          0.5773231712
                        ]
                      },
                      {
                        "iteration": 72,
                        "learn": [
                          0.7191972295,
                          0.5597974586
                        ],
                        "passed_time": 1.081660568,
                        "remaining_time": 6.326973458,
                        "test": [
                          0.7059707097,
                          0.5772246438
                        ]
                      },
                      {
                        "iteration": 73,
                        "learn": [
                          0.7200734343,
                          0.5595028995
                        ],
                        "passed_time": 1.095015682,
                        "remaining_time": 6.303738925,
                        "test": [
                          0.7067217424,
                          0.577240041
                        ]
                      },
                      {
                        "iteration": 74,
                        "learn": [
                          0.7198230901,
                          0.5591239826
                        ],
                        "passed_time": 1.111189488,
                        "remaining_time": 6.29674043,
                        "test": [
                          0.7069720866,
                          0.5770971406
                        ]
                      },
                      {
                        "iteration": 75,
                        "learn": [
                          0.7195310218,
                          0.5588738013
                        ],
                        "passed_time": 1.124077568,
                        "remaining_time": 6.271169588,
                        "test": [
                          0.7069720866,
                          0.5770637798
                        ]
                      },
                      {
                        "iteration": 76,
                        "learn": [
                          0.7199482622,
                          0.5584981622
                        ],
                        "passed_time": 1.137767092,
                        "remaining_time": 6.250330909,
                        "test": [
                          0.7064713982,
                          0.5770261613
                        ]
                      },
                      {
                        "iteration": 77,
                        "learn": [
                          0.7198230901,
                          0.5581108141
                        ],
                        "passed_time": 1.152531427,
                        "remaining_time": 6.235490539,
                        "test": [
                          0.7058455376,
                          0.576800002
                        ]
                      },
                      {
                        "iteration": 78,
                        "learn": [
                          0.719781366,
                          0.55790897
                        ],
                        "passed_time": 1.166409163,
                        "remaining_time": 6.215927312,
                        "test": [
                          0.7060958818,
                          0.5767333963
                        ]
                      },
                      {
                        "iteration": 79,
                        "learn": [
                          0.7199899862,
                          0.5576743522
                        ],
                        "passed_time": 1.179891738,
                        "remaining_time": 6.194431624,
                        "test": [
                          0.7059707097,
                          0.5767550101
                        ]
                      },
                      {
                        "iteration": 80,
                        "learn": [
                          0.7204072266,
                          0.5573866279
                        ],
                        "passed_time": 1.19458762,
                        "remaining_time": 6.179410032,
                        "test": [
                          0.7058455376,
                          0.5767708761
                        ]
                      },
                      {
                        "iteration": 81,
                        "learn": [
                          0.7203655026,
                          0.5571249228
                        ],
                        "passed_time": 1.208657226,
                        "remaining_time": 6.16120391,
                        "test": [
                          0.7064713982,
                          0.5767701591
                        ]
                      },
                      {
                        "iteration": 82,
                        "learn": [
                          0.7211999833,
                          0.5567088599
                        ],
                        "passed_time": 1.222536839,
                        "remaining_time": 6.142142913,
                        "test": [
                          0.7064713982,
                          0.5768605682
                        ]
                      },
                      {
                        "iteration": 83,
                        "learn": [
                          0.7222013602,
                          0.5562611963
                        ],
                        "passed_time": 1.236746117,
                        "remaining_time": 6.124837912,
                        "test": [
                          0.7059707097,
                          0.5767636572
                        ]
                      },
                      {
                        "iteration": 84,
                        "learn": [
                          0.7223265323,
                          0.5557740242
                        ],
                        "passed_time": 1.250365266,
                        "remaining_time": 6.104724533,
                        "test": [
                          0.7049693328,
                          0.5766939339
                        ]
                      },
                      {
                        "iteration": 85,
                        "learn": [
                          0.7225351525,
                          0.5554286258
                        ],
                        "passed_time": 1.264264311,
                        "remaining_time": 6.086109589,
                        "test": [
                          0.7048441607,
                          0.5766353227
                        ]
                      },
                      {
                        "iteration": 86,
                        "learn": [
                          0.7224934285,
                          0.5551694951
                        ],
                        "passed_time": 1.277582614,
                        "remaining_time": 6.064846204,
                        "test": [
                          0.7044686444,
                          0.5765616717
                        ]
                      },
                      {
                        "iteration": 87,
                        "learn": [
                          0.7226603246,
                          0.5549385295
                        ],
                        "passed_time": 1.291256839,
                        "remaining_time": 6.045429746,
                        "test": [
                          0.7043434723,
                          0.5766490524
                        ]
                      },
                      {
                        "iteration": 88,
                        "learn": [
                          0.7227437727,
                          0.5546864285
                        ],
                        "passed_time": 1.305107552,
                        "remaining_time": 6.026957349,
                        "test": [
                          0.7048441607,
                          0.576584995
                        ]
                      },
                      {
                        "iteration": 89,
                        "learn": [
                          0.723077565,
                          0.5543933625
                        ],
                        "passed_time": 1.318640536,
                        "remaining_time": 6.00714022,
                        "test": [
                          0.7054700213,
                          0.5765278262
                        ]
                      },
                      {
                        "iteration": 90,
                        "learn": [
                          0.7230358409,
                          0.5541917402
                        ],
                        "passed_time": 1.331962236,
                        "remaining_time": 5.986511588,
                        "test": [
                          0.7054700213,
                          0.576520694
                        ]
                      },
                      {
                        "iteration": 91,
                        "learn": [
                          0.7230358409,
                          0.5538257104
                        ],
                        "passed_time": 1.344947095,
                        "remaining_time": 5.964547988,
                        "test": [
                          0.7057203655,
                          0.5766239021
                        ]
                      },
                      {
                        "iteration": 92,
                        "learn": [
                          0.7237451496,
                          0.5534589813
                        ],
                        "passed_time": 1.366905699,
                        "remaining_time": 5.982049671,
                        "test": [
                          0.7055951934,
                          0.5766873845
                        ]
                      },
                      {
                        "iteration": 93,
                        "learn": [
                          0.7239954938,
                          0.5531269372
                        ],
                        "passed_time": 1.384812541,
                        "remaining_time": 5.981211613,
                        "test": [
                          0.7049693328,
                          0.5767716871
                        ]
                      },
                      {
                        "iteration": 94,
                        "learn": [
                          0.7250803188,
                          0.5527333279
                        ],
                        "passed_time": 1.399068837,
                        "remaining_time": 5.964451357,
                        "test": [
                          0.7053448492,
                          0.5765874795
                        ]
                      },
                      {
                        "iteration": 95,
                        "learn": [
                          0.725288939,
                          0.5524186381
                        ],
                        "passed_time": 1.412128181,
                        "remaining_time": 5.942706097,
                        "test": [
                          0.7049693328,
                          0.576585636
                        ]
                      },
                      {
                        "iteration": 96,
                        "learn": [
                          0.7250385947,
                          0.5519943774
                        ],
                        "passed_time": 1.426269259,
                        "remaining_time": 5.925634138,
                        "test": [
                          0.7052196771,
                          0.5763871631
                        ]
                      },
                      {
                        "iteration": 97,
                        "learn": [
                          0.7257061793,
                          0.5516990697
                        ],
                        "passed_time": 1.440403511,
                        "remaining_time": 5.908593994,
                        "test": [
                          0.7047189886,
                          0.5763109009
                        ]
                      },
                      {
                        "iteration": 98,
                        "learn": [
                          0.7262068678,
                          0.5513233909
                        ],
                        "passed_time": 1.454316551,
                        "remaining_time": 5.890716536,
                        "test": [
                          0.7050945049,
                          0.5762864769
                        ]
                      },
                      {
                        "iteration": 99,
                        "learn": [
                          0.7266241081,
                          0.5510104686
                        ],
                        "passed_time": 1.468601926,
                        "remaining_time": 5.874407705,
                        "test": [
                          0.7055951934,
                          0.5762667429
                        ]
                      },
                      {
                        "iteration": 100,
                        "learn": [
                          0.726498936,
                          0.5507887929
                        ],
                        "passed_time": 1.486254402,
                        "remaining_time": 5.871440656,
                        "test": [
                          0.7052196771,
                          0.5763015415
                        ]
                      },
                      {
                        "iteration": 101,
                        "learn": [
                          0.7270413485,
                          0.5504915141
                        ],
                        "passed_time": 1.499659952,
                        "remaining_time": 5.851614321,
                        "test": [
                          0.7055951934,
                          0.576270774
                        ]
                      },
                      {
                        "iteration": 102,
                        "learn": [
                          0.7270830726,
                          0.5501615757
                        ],
                        "passed_time": 1.512918334,
                        "remaining_time": 5.831345421,
                        "test": [
                          0.7050945049,
                          0.5763210492
                        ]
                      },
                      {
                        "iteration": 103,
                        "learn": [
                          0.7271665206,
                          0.5498905576
                        ],
                        "passed_time": 1.526761166,
                        "remaining_time": 5.813436746,
                        "test": [
                          0.7040931281,
                          0.5762882276
                        ]
                      },
                      {
                        "iteration": 104,
                        "learn": [
                          0.7276672091,
                          0.5496179054
                        ],
                        "passed_time": 1.543071998,
                        "remaining_time": 5.804889898,
                        "test": [
                          0.7043434723,
                          0.5761645365
                        ]
                      },
                      {
                        "iteration": 105,
                        "learn": [
                          0.7279592773,
                          0.5492934954
                        ],
                        "passed_time": 1.557394197,
                        "remaining_time": 5.788804846,
                        "test": [
                          0.7052196771,
                          0.5761922628
                        ]
                      },
                      {
                        "iteration": 106,
                        "learn": [
                          0.7281261735,
                          0.5489319498
                        ],
                        "passed_time": 1.571250726,
                        "remaining_time": 5.771042385,
                        "test": [
                          0.7049693328,
                          0.5762555051
                        ]
                      },
                      {
                        "iteration": 107,
                        "learn": [
                          0.72871031,
                          0.5487383087
                        ],
                        "passed_time": 1.584193206,
                        "remaining_time": 5.750034599,
                        "test": [
                          0.7044686444,
                          0.5763089052
                        ]
                      },
                      {
                        "iteration": 108,
                        "learn": [
                          0.7290858263,
                          0.5483638972
                        ],
                        "passed_time": 1.597827704,
                        "remaining_time": 5.731657177,
                        "test": [
                          0.7049693328,
                          0.576346889
                        ]
                      },
                      {
                        "iteration": 109,
                        "learn": [
                          0.7297534109,
                          0.5479681863
                        ],
                        "passed_time": 1.611660244,
                        "remaining_time": 5.714068138,
                        "test": [
                          0.7048441607,
                          0.5763483615
                        ]
                      },
                      {
                        "iteration": 110,
                        "learn": [
                          0.7298785831,
                          0.5477150936
                        ],
                        "passed_time": 1.627450152,
                        "remaining_time": 5.70340639,
                        "test": [
                          0.7050945049,
                          0.5764137901
                        ]
                      },
                      {
                        "iteration": 111,
                        "learn": [
                          0.7299203071,
                          0.547408406
                        ],
                        "passed_time": 1.640315308,
                        "remaining_time": 5.682520887,
                        "test": [
                          0.7052196771,
                          0.5764910867
                        ]
                      },
                      {
                        "iteration": 112,
                        "learn": [
                          0.7307130638,
                          0.547136982
                        ],
                        "passed_time": 1.653228092,
                        "remaining_time": 5.661940458,
                        "test": [
                          0.7060958818,
                          0.5764037514
                        ]
                      },
                      {
                        "iteration": 113,
                        "learn": [
                          0.7305461676,
                          0.5469588764
                        ],
                        "passed_time": 1.665892562,
                        "remaining_time": 5.640653763,
                        "test": [
                          0.7063462261,
                          0.5764402826
                        ]
                      },
                      {
                        "iteration": 114,
                        "learn": [
                          0.7312554763,
                          0.5466955529
                        ],
                        "passed_time": 1.680113396,
                        "remaining_time": 5.624727455,
                        "test": [
                          0.7064713982,
                          0.5764168491
                        ]
                      },
                      {
                        "iteration": 115,
                        "learn": [
                          0.7310885801,
                          0.5464893822
                        ],
                        "passed_time": 1.704209663,
                        "remaining_time": 5.641521645,
                        "test": [
                          0.7064713982,
                          0.5763876936
                        ]
                      },
                      {
                        "iteration": 116,
                        "learn": [
                          0.7312554763,
                          0.5461865138
                        ],
                        "passed_time": 1.718778549,
                        "remaining_time": 5.626428927,
                        "test": [
                          0.7060958818,
                          0.576376967
                        ]
                      },
                      {
                        "iteration": 117,
                        "learn": [
                          0.7319230609,
                          0.5458725641
                        ],
                        "passed_time": 1.732783025,
                        "remaining_time": 5.609517928,
                        "test": [
                          0.7060958818,
                          0.5762970838
                        ]
                      },
                      {
                        "iteration": 118,
                        "learn": [
                          0.7320065089,
                          0.5454304098
                        ],
                        "passed_time": 1.751820242,
                        "remaining_time": 5.608769011,
                        "test": [
                          0.7067217424,
                          0.5763912412
                        ]
                      },
                      {
                        "iteration": 119,
                        "learn": [
                          0.7318813368,
                          0.5451771552
                        ],
                        "passed_time": 1.764953653,
                        "remaining_time": 5.589019902,
                        "test": [
                          0.7067217424,
                          0.5764855366
                        ]
                      },
                      {
                        "iteration": 120,
                        "learn": [
                          0.7319647849,
                          0.5449829148
                        ],
                        "passed_time": 1.777499889,
                        "remaining_time": 5.567540974,
                        "test": [
                          0.7060958818,
                          0.5764885683
                        ]
                      },
                      {
                        "iteration": 121,
                        "learn": [
                          0.7326323695,
                          0.5446910833
                        ],
                        "passed_time": 1.790544903,
                        "remaining_time": 5.547753881,
                        "test": [
                          0.7060958818,
                          0.5763914295
                        ]
                      },
                      {
                        "iteration": 122,
                        "learn": [
                          0.7329661618,
                          0.5444430525
                        ],
                        "passed_time": 1.803596797,
                        "remaining_time": 5.528097499,
                        "test": [
                          0.7059707097,
                          0.5763956974
                        ]
                      },
                      {
                        "iteration": 123,
                        "learn": [
                          0.7327158176,
                          0.5441455302
                        ],
                        "passed_time": 1.817887464,
                        "remaining_time": 5.512303923,
                        "test": [
                          0.7060958818,
                          0.5764588403
                        ]
                      },
                      {
                        "iteration": 124,
                        "learn": [
                          0.7327575416,
                          0.5437482441
                        ],
                        "passed_time": 1.831495377,
                        "remaining_time": 5.494486132,
                        "test": [
                          0.7059707097,
                          0.5764744464
                        ]
                      },
                      {
                        "iteration": 125,
                        "learn": [
                          0.7329244378,
                          0.5434983312
                        ],
                        "passed_time": 1.8445388,
                        "remaining_time": 5.475059613,
                        "test": [
                          0.7060958818,
                          0.5764824445
                        ]
                      },
                      {
                        "iteration": 126,
                        "learn": [
                          0.7336754704,
                          0.5431549587
                        ],
                        "passed_time": 1.858641779,
                        "remaining_time": 5.458845541,
                        "test": [
                          0.7064713982,
                          0.5766239936
                        ]
                      },
                      {
                        "iteration": 127,
                        "learn": [
                          0.7340092627,
                          0.5428228979
                        ],
                        "passed_time": 1.872097811,
                        "remaining_time": 5.440784262,
                        "test": [
                          0.7058455376,
                          0.576728309
                        ]
                      },
                      {
                        "iteration": 128,
                        "learn": [
                          0.7340092627,
                          0.5425954705
                        ],
                        "passed_time": 1.885011038,
                        "remaining_time": 5.421233296,
                        "test": [
                          0.7052196771,
                          0.5767242915
                        ]
                      },
                      {
                        "iteration": 129,
                        "learn": [
                          0.7345933993,
                          0.5421838683
                        ],
                        "passed_time": 1.898880361,
                        "remaining_time": 5.404505644,
                        "test": [
                          0.7058455376,
                          0.5767234105
                        ]
                      },
                      {
                        "iteration": 130,
                        "learn": [
                          0.7348854675,
                          0.541932024
                        ],
                        "passed_time": 1.911935643,
                        "remaining_time": 5.385528642,
                        "test": [
                          0.7065965703,
                          0.576723864
                        ]
                      },
                      {
                        "iteration": 131,
                        "learn": [
                          0.7355113281,
                          0.5416417751
                        ],
                        "passed_time": 1.92555123,
                        "remaining_time": 5.36820343,
                        "test": [
                          0.7068469145,
                          0.576694879
                        ]
                      },
                      {
                        "iteration": 132,
                        "learn": [
                          0.7357616723,
                          0.5412654588
                        ],
                        "passed_time": 1.953732875,
                        "remaining_time": 5.391127556,
                        "test": [
                          0.7072224308,
                          0.5766236614
                        ]
                      },
                      {
                        "iteration": 133,
                        "learn": [
                          0.7361371886,
                          0.5410163826
                        ],
                        "passed_time": 1.98008032,
                        "remaining_time": 5.408279084,
                        "test": [
                          0.7060958818,
                          0.5767378397
                        ]
                      },
                      {
                        "iteration": 134,
                        "learn": [
                          0.736512705,
                          0.540590254
                        ],
                        "passed_time": 1.993911338,
                        "remaining_time": 5.390945469,
                        "test": [
                          0.7065965703,
                          0.5767085172
                        ]
                      },
                      {
                        "iteration": 135,
                        "learn": [
                          0.7368047732,
                          0.5402484588
                        ],
                        "passed_time": 2.006679455,
                        "remaining_time": 5.37081854,
                        "test": [
                          0.7060958818,
                          0.5767506966
                        ]
                      },
                      {
                        "iteration": 136,
                        "learn": [
                          0.7373471857,
                          0.5399021043
                        ],
                        "passed_time": 2.020474452,
                        "remaining_time": 5.353519899,
                        "test": [
                          0.7058455376,
                          0.5767835828
                        ]
                      },
                      {
                        "iteration": 137,
                        "learn": [
                          0.7378895982,
                          0.5395477261
                        ],
                        "passed_time": 2.034269799,
                        "remaining_time": 5.336272952,
                        "test": [
                          0.7059707097,
                          0.5768996466
                        ]
                      },
                      {
                        "iteration": 138,
                        "learn": [
                          0.7378061501,
                          0.5393017648
                        ],
                        "passed_time": 2.047255493,
                        "remaining_time": 5.3169729,
                        "test": [
                          0.7047189886,
                          0.5768011878
                        ]
                      },
                      {
                        "iteration": 139,
                        "learn": [
                          0.7385571828,
                          0.5389839844
                        ],
                        "passed_time": 2.060604748,
                        "remaining_time": 5.298697922,
                        "test": [
                          0.7048441607,
                          0.5767532822
                        ]
                      },
                      {
                        "iteration": 140,
                        "learn": [
                          0.738807527,
                          0.5386641557
                        ],
                        "passed_time": 2.073521849,
                        "remaining_time": 5.27939251,
                        "test": [
                          0.7044686444,
                          0.5767108665
                        ]
                      },
                      {
                        "iteration": 141,
                        "learn": [
                          0.7391830434,
                          0.5383855817
                        ],
                        "passed_time": 2.086776248,
                        "remaining_time": 5.261027442,
                        "test": [
                          0.7050945049,
                          0.5766289377
                        ]
                      },
                      {
                        "iteration": 142,
                        "learn": [
                          0.7399758001,
                          0.5379990855
                        ],
                        "passed_time": 2.100613923,
                        "remaining_time": 5.244190004,
                        "test": [
                          0.7050945049,
                          0.5766021643
                        ]
                      },
                      {
                        "iteration": 143,
                        "learn": [
                          0.7401844202,
                          0.5375408371
                        ],
                        "passed_time": 2.114507137,
                        "remaining_time": 5.227531532,
                        "test": [
                          0.7048441607,
                          0.5765111916
                        ]
                      },
                      {
                        "iteration": 144,
                        "learn": [
                          0.7401844202,
                          0.5371634036
                        ],
                        "passed_time": 2.127522412,
                        "remaining_time": 5.208761768,
                        "test": [
                          0.7047189886,
                          0.5764591782
                        ]
                      },
                      {
                        "iteration": 145,
                        "learn": [
                          0.7406851087,
                          0.5368536708
                        ],
                        "passed_time": 2.14024294,
                        "remaining_time": 5.18935617,
                        "test": [
                          0.7044686444,
                          0.5764480497
                        ]
                      },
                      {
                        "iteration": 146,
                        "learn": [
                          0.7408520048,
                          0.5364648179
                        ],
                        "passed_time": 2.154170395,
                        "remaining_time": 5.172939793,
                        "test": [
                          0.7048441607,
                          0.5763827035
                        ]
                      },
                      {
                        "iteration": 147,
                        "learn": [
                          0.7414361414,
                          0.5361164428
                        ],
                        "passed_time": 2.16782071,
                        "remaining_time": 5.155897906,
                        "test": [
                          0.7047189886,
                          0.5763934681
                        ]
                      },
                      {
                        "iteration": 148,
                        "learn": [
                          0.74214545,
                          0.5357511041
                        ],
                        "passed_time": 2.180873076,
                        "remaining_time": 5.13749295,
                        "test": [
                          0.7048441607,
                          0.5764030123
                        ]
                      },
                      {
                        "iteration": 149,
                        "learn": [
                          0.7423540702,
                          0.5354815519
                        ],
                        "passed_time": 2.194454833,
                        "remaining_time": 5.120394611,
                        "test": [
                          0.7053448492,
                          0.576421703
                        ]
                      },
                      {
                        "iteration": 150,
                        "learn": [
                          0.742103726,
                          0.5352163748
                        ],
                        "passed_time": 2.209385935,
                        "remaining_time": 5.106461533,
                        "test": [
                          0.7044686444,
                          0.5764159348
                        ]
                      },
                      {
                        "iteration": 151,
                        "learn": [
                          0.7427295865,
                          0.5349458971
                        ],
                        "passed_time": 2.22239678,
                        "remaining_time": 5.088118945,
                        "test": [
                          0.7047189886,
                          0.5763676576
                        ]
                      },
                      {
                        "iteration": 152,
                        "learn": [
                          0.7431468269,
                          0.5346263578
                        ],
                        "passed_time": 2.236408972,
                        "remaining_time": 5.07211708,
                        "test": [
                          0.7043434723,
                          0.5764669308
                        ]
                      },
                      {
                        "iteration": 153,
                        "learn": [
                          0.743230275,
                          0.5343227495
                        ],
                        "passed_time": 2.249744753,
                        "remaining_time": 5.054621329,
                        "test": [
                          0.7044686444,
                          0.5766332355
                        ]
                      },
                      {
                        "iteration": 154,
                        "learn": [
                          0.7438144115,
                          0.5340286877
                        ],
                        "passed_time": 2.266260963,
                        "remaining_time": 5.044258272,
                        "test": [
                          0.7039679559,
                          0.5766183673
                        ]
                      },
                      {
                        "iteration": 155,
                        "learn": [
                          0.744398548,
                          0.5337031862
                        ],
                        "passed_time": 2.279631397,
                        "remaining_time": 5.02687949,
                        "test": [
                          0.7045938165,
                          0.5766788079
                        ]
                      },
                      {
                        "iteration": 156,
                        "learn": [
                          0.7445654442,
                          0.533410203
                        ],
                        "passed_time": 2.293263584,
                        "remaining_time": 5.010123627,
                        "test": [
                          0.7044686444,
                          0.5766079714
                        ]
                      },
                      {
                        "iteration": 157,
                        "learn": [
                          0.7449409605,
                          0.5331692829
                        ],
                        "passed_time": 2.305987025,
                        "remaining_time": 4.991440269,
                        "test": [
                          0.7042183002,
                          0.5766505496
                        ]
                      },
                      {
                        "iteration": 158,
                        "learn": [
                          0.7454416489,
                          0.5328090422
                        ],
                        "passed_time": 2.319563301,
                        "remaining_time": 4.974660916,
                        "test": [
                          0.7034672675,
                          0.5767204139
                        ]
                      },
                      {
                        "iteration": 159,
                        "learn": [
                          0.7453164768,
                          0.5323866899
                        ],
                        "passed_time": 2.338690486,
                        "remaining_time": 4.969717284,
                        "test": [
                          0.7040931281,
                          0.576702619
                        ]
                      },
                      {
                        "iteration": 160,
                        "learn": [
                          0.7456919932,
                          0.5320822644
                        ],
                        "passed_time": 2.352183596,
                        "remaining_time": 4.952734404,
                        "test": [
                          0.7040931281,
                          0.5767454959
                        ]
                      },
                      {
                        "iteration": 161,
                        "learn": [
                          0.7456085451,
                          0.5318122323
                        ],
                        "passed_time": 2.365912068,
                        "remaining_time": 4.936285673,
                        "test": [
                          0.7034672675,
                          0.5767102167
                        ]
                      },
                      {
                        "iteration": 162,
                        "learn": [
                          0.7456919932,
                          0.5314754291
                        ],
                        "passed_time": 2.379345373,
                        "remaining_time": 4.919260065,
                        "test": [
                          0.7035924396,
                          0.576755652
                        ]
                      },
                      {
                        "iteration": 163,
                        "learn": [
                          0.7457337172,
                          0.5311583751
                        ],
                        "passed_time": 2.393283293,
                        "remaining_time": 4.903312112,
                        "test": [
                          0.7035924396,
                          0.5767784828
                        ]
                      },
                      {
                        "iteration": 164,
                        "learn": [
                          0.7462344056,
                          0.530811568
                        ],
                        "passed_time": 2.407295616,
                        "remaining_time": 4.887539583,
                        "test": [
                          0.7038427838,
                          0.5768488607
                        ]
                      },
                      {
                        "iteration": 165,
                        "learn": [
                          0.746651646,
                          0.5306192184
                        ],
                        "passed_time": 2.42096565,
                        "remaining_time": 4.87109956,
                        "test": [
                          0.7035924396,
                          0.5768388617
                        ]
                      },
                      {
                        "iteration": 166,
                        "learn": [
                          0.7471106104,
                          0.5303029418
                        ],
                        "passed_time": 2.434522606,
                        "remaining_time": 4.854467233,
                        "test": [
                          0.7050945049,
                          0.5768033486
                        ]
                      },
                      {
                        "iteration": 167,
                        "learn": [
                          0.7470688864,
                          0.529954946
                        ],
                        "passed_time": 2.448812758,
                        "remaining_time": 4.839320451,
                        "test": [
                          0.7039679559,
                          0.5767165738
                        ]
                      },
                      {
                        "iteration": 168,
                        "learn": [
                          0.7476947469,
                          0.5296775335
                        ],
                        "passed_time": 2.461735,
                        "remaining_time": 4.821504645,
                        "test": [
                          0.7035924396,
                          0.5767483245
                        ]
                      },
                      {
                        "iteration": 169,
                        "learn": [
                          0.7485709517,
                          0.5293397612
                        ],
                        "passed_time": 2.475493115,
                        "remaining_time": 4.805368987,
                        "test": [
                          0.7044686444,
                          0.5767646141
                        ]
                      },
                      {
                        "iteration": 170,
                        "learn": [
                          0.7483623315,
                          0.5290728053
                        ],
                        "passed_time": 2.489176644,
                        "remaining_time": 4.789117637,
                        "test": [
                          0.7048441607,
                          0.5767902291
                        ]
                      },
                      {
                        "iteration": 171,
                        "learn": [
                          0.7485292277,
                          0.5287889182
                        ],
                        "passed_time": 2.5024726,
                        "remaining_time": 4.772157051,
                        "test": [
                          0.7045938165,
                          0.576883391
                        ]
                      },
                      {
                        "iteration": 172,
                        "learn": [
                          0.7485292277,
                          0.5285843082
                        ],
                        "passed_time": 2.516298205,
                        "remaining_time": 4.75623996,
                        "test": [
                          0.7044686444,
                          0.5769730336
                        ]
                      },
                      {
                        "iteration": 173,
                        "learn": [
                          0.7489464681,
                          0.528253747
                        ],
                        "passed_time": 2.531228754,
                        "remaining_time": 4.742417092,
                        "test": [
                          0.7050945049,
                          0.5770841835
                        ]
                      },
                      {
                        "iteration": 174,
                        "learn": [
                          0.7489464681,
                          0.5278925419
                        ],
                        "passed_time": 2.545393019,
                        "remaining_time": 4.727158464,
                        "test": [
                          0.7045938165,
                          0.5770762384
                        ]
                      },
                      {
                        "iteration": 175,
                        "learn": [
                          0.7495723286,
                          0.5276357617
                        ],
                        "passed_time": 2.559134868,
                        "remaining_time": 4.711134644,
                        "test": [
                          0.7047189886,
                          0.5770022893
                        ]
                      },
                      {
                        "iteration": 176,
                        "learn": [
                          0.750031293,
                          0.5272422786
                        ],
                        "passed_time": 2.572699531,
                        "remaining_time": 4.694813268,
                        "test": [
                          0.7045938165,
                          0.5770183703
                        ]
                      },
                      {
                        "iteration": 177,
                        "learn": [
                          0.7502399132,
                          0.5268882993
                        ],
                        "passed_time": 2.586599845,
                        "remaining_time": 4.679130056,
                        "test": [
                          0.7040931281,
                          0.5771014183
                        ]
                      },
                      {
                        "iteration": 178,
                        "learn": [
                          0.7503650853,
                          0.5266589603
                        ],
                        "passed_time": 2.599515053,
                        "remaining_time": 4.661700179,
                        "test": [
                          0.7039679559,
                          0.5770838385
                        ]
                      },
                      {
                        "iteration": 179,
                        "learn": [
                          0.7501147411,
                          0.5264289568
                        ],
                        "passed_time": 2.6133089,
                        "remaining_time": 4.645882489,
                        "test": [
                          0.7038427838,
                          0.5770213346
                        ]
                      },
                      {
                        "iteration": 180,
                        "learn": [
                          0.749989569,
                          0.5261445868
                        ],
                        "passed_time": 2.626748317,
                        "remaining_time": 4.629462503,
                        "test": [
                          0.7035924396,
                          0.5769433628
                        ]
                      },
                      {
                        "iteration": 181,
                        "learn": [
                          0.7504485334,
                          0.5258586881
                        ],
                        "passed_time": 2.639869779,
                        "remaining_time": 4.612519725,
                        "test": [
                          0.7033420954,
                          0.5770436043
                        ]
                      },
                      {
                        "iteration": 182,
                        "learn": [
                          0.7510326699,
                          0.5254317288
                        ],
                        "passed_time": 2.653642737,
                        "remaining_time": 4.596747255,
                        "test": [
                          0.7033420954,
                          0.576918761
                        ]
                      },
                      {
                        "iteration": 183,
                        "learn": [
                          0.7514499103,
                          0.5251568128
                        ],
                        "passed_time": 2.668042193,
                        "remaining_time": 4.582072461,
                        "test": [
                          0.7030917512,
                          0.5770631096
                        ]
                      },
                      {
                        "iteration": 184,
                        "learn": [
                          0.7518671507,
                          0.5247653399
                        ],
                        "passed_time": 2.68128436,
                        "remaining_time": 4.565430127,
                        "test": [
                          0.7033420954,
                          0.576963476
                        ]
                      },
                      {
                        "iteration": 185,
                        "learn": [
                          0.7525764593,
                          0.5244594725
                        ],
                        "passed_time": 2.698151923,
                        "remaining_time": 4.554944644,
                        "test": [
                          0.7034672675,
                          0.5769770316
                        ]
                      },
                      {
                        "iteration": 186,
                        "learn": [
                          0.7527016314,
                          0.5240907077
                        ],
                        "passed_time": 2.717710755,
                        "remaining_time": 4.548895541,
                        "test": [
                          0.7033420954,
                          0.5770758557
                        ]
                      },
                      {
                        "iteration": 187,
                        "learn": [
                          0.7527850795,
                          0.5238750056
                        ],
                        "passed_time": 2.731734782,
                        "remaining_time": 4.533517298,
                        "test": [
                          0.7034672675,
                          0.5771424836
                        ]
                      },
                      {
                        "iteration": 188,
                        "learn": [
                          0.7530771477,
                          0.5235746647
                        ],
                        "passed_time": 2.745408495,
                        "remaining_time": 4.517576942,
                        "test": [
                          0.7028414069,
                          0.5771666095
                        ]
                      },
                      {
                        "iteration": 189,
                        "learn": [
                          0.7531605958,
                          0.523387878
                        ],
                        "passed_time": 2.758319713,
                        "remaining_time": 4.500416374,
                        "test": [
                          0.7030917512,
                          0.5772388941
                        ]
                      },
                      {
                        "iteration": 190,
                        "learn": [
                          0.7538281804,
                          0.5229963347
                        ],
                        "passed_time": 2.772181945,
                        "remaining_time": 4.484838853,
                        "test": [
                          0.7035924396,
                          0.5772653556
                        ]
                      },
                      {
                        "iteration": 191,
                        "learn": [
                          0.7537864564,
                          0.5226349764
                        ],
                        "passed_time": 2.785574866,
                        "remaining_time": 4.468526348,
                        "test": [
                          0.7033420954,
                          0.5772910695
                        ]
                      },
                      {
                        "iteration": 192,
                        "learn": [
                          0.7540368006,
                          0.5223186995
                        ],
                        "passed_time": 2.79920276,
                        "remaining_time": 4.452617862,
                        "test": [
                          0.7038427838,
                          0.5773898211
                        ]
                      },
                      {
                        "iteration": 193,
                        "learn": [
                          0.7543705929,
                          0.5221334091
                        ],
                        "passed_time": 2.812119263,
                        "remaining_time": 4.435610797,
                        "test": [
                          0.7042183002,
                          0.5773884176
                        ]
                      },
                      {
                        "iteration": 194,
                        "learn": [
                          0.7547043852,
                          0.521819086
                        ],
                        "passed_time": 2.82544248,
                        "remaining_time": 4.419281828,
                        "test": [
                          0.7045938165,
                          0.5773377102
                        ]
                      },
                      {
                        "iteration": 195,
                        "learn": [
                          0.7551633496,
                          0.5215683442
                        ],
                        "passed_time": 2.838132297,
                        "remaining_time": 4.402001114,
                        "test": [
                          0.7038427838,
                          0.5773160683
                        ]
                      },
                      {
                        "iteration": 196,
                        "learn": [
                          0.7557057621,
                          0.5212530803
                        ],
                        "passed_time": 2.857026404,
                        "remaining_time": 4.394309647,
                        "test": [
                          0.7039679559,
                          0.5771991223
                        ]
                      },
                      {
                        "iteration": 197,
                        "learn": [
                          0.7561230025,
                          0.5208435017
                        ],
                        "passed_time": 2.870266948,
                        "remaining_time": 4.37788191,
                        "test": [
                          0.7040931281,
                          0.577213505
                        ]
                      },
                      {
                        "iteration": 198,
                        "learn": [
                          0.7561647265,
                          0.5205146234
                        ],
                        "passed_time": 2.883658411,
                        "remaining_time": 4.361714482,
                        "test": [
                          0.7049693328,
                          0.577199403
                        ]
                      },
                      {
                        "iteration": 199,
                        "learn": [
                          0.7571243794,
                          0.5201958313
                        ],
                        "passed_time": 2.897415884,
                        "remaining_time": 4.346123827,
                        "test": [
                          0.7043434723,
                          0.5771853404
                        ]
                      },
                      {
                        "iteration": 200,
                        "learn": [
                          0.7574998957,
                          0.519921359
                        ],
                        "passed_time": 2.910513918,
                        "remaining_time": 4.329570454,
                        "test": [
                          0.7045938165,
                          0.5771665591
                        ]
                      },
                      {
                        "iteration": 201,
                        "learn": [
                          0.7575833438,
                          0.5196351236
                        ],
                        "passed_time": 2.924355557,
                        "remaining_time": 4.314148297,
                        "test": [
                          0.7043434723,
                          0.5772349695
                        ]
                      },
                      {
                        "iteration": 202,
                        "learn": [
                          0.7581674803,
                          0.5192611182
                        ],
                        "passed_time": 2.938000677,
                        "remaining_time": 4.298454193,
                        "test": [
                          0.7038427838,
                          0.5772450256
                        ]
                      },
                      {
                        "iteration": 203,
                        "learn": [
                          0.7579171361,
                          0.518974228
                        ],
                        "passed_time": 2.976731667,
                        "remaining_time": 4.319179281,
                        "test": [
                          0.7045938165,
                          0.577185054
                        ]
                      },
                      {
                        "iteration": 204,
                        "learn": [
                          0.7580423082,
                          0.5186719629
                        ],
                        "passed_time": 2.998415545,
                        "remaining_time": 4.314793101,
                        "test": [
                          0.7047189886,
                          0.5772281344
                        ]
                      },
                      {
                        "iteration": 205,
                        "learn": [
                          0.7582509284,
                          0.518324338
                        ],
                        "passed_time": 3.012637186,
                        "remaining_time": 4.299588993,
                        "test": [
                          0.7042183002,
                          0.5770667707
                        ]
                      },
                      {
                        "iteration": 206,
                        "learn": [
                          0.7585012726,
                          0.518027786
                        ],
                        "passed_time": 3.027188817,
                        "remaining_time": 4.284861465,
                        "test": [
                          0.7047189886,
                          0.577035278
                        ]
                      },
                      {
                        "iteration": 207,
                        "learn": [
                          0.7583343764,
                          0.5177093707
                        ],
                        "passed_time": 3.041635399,
                        "remaining_time": 4.269988157,
                        "test": [
                          0.7049693328,
                          0.5768328852
                        ]
                      },
                      {
                        "iteration": 208,
                        "learn": [
                          0.7587516168,
                          0.517469436
                        ],
                        "passed_time": 3.054736789,
                        "remaining_time": 4.253245959,
                        "test": [
                          0.7047189886,
                          0.5767990956
                        ]
                      },
                      {
                        "iteration": 209,
                        "learn": [
                          0.7590854091,
                          0.517161169
                        ],
                        "passed_time": 3.068193581,
                        "remaining_time": 4.237029231,
                        "test": [
                          0.7047189886,
                          0.5767204785
                        ]
                      },
                      {
                        "iteration": 210,
                        "learn": [
                          0.7593357533,
                          0.5169875865
                        ],
                        "passed_time": 3.082311834,
                        "remaining_time": 4.221744645,
                        "test": [
                          0.7050945049,
                          0.5767463938
                        ]
                      },
                      {
                        "iteration": 211,
                        "learn": [
                          0.7595860976,
                          0.5167621013
                        ],
                        "passed_time": 3.095720044,
                        "remaining_time": 4.205506475,
                        "test": [
                          0.7053448492,
                          0.5767400417
                        ]
                      },
                      {
                        "iteration": 212,
                        "learn": [
                          0.76012851,
                          0.5164408431
                        ],
                        "passed_time": 3.110269134,
                        "remaining_time": 4.19083212,
                        "test": [
                          0.7054700213,
                          0.5767052313
                        ]
                      },
                      {
                        "iteration": 213,
                        "learn": [
                          0.7603788543,
                          0.5162012319
                        ],
                        "passed_time": 3.123363831,
                        "remaining_time": 4.174215214,
                        "test": [
                          0.7067217424,
                          0.5765713929
                        ]
                      },
                      {
                        "iteration": 214,
                        "learn": [
                          0.7602119581,
                          0.5159878716
                        ],
                        "passed_time": 3.137319179,
                        "remaining_time": 4.158771935,
                        "test": [
                          0.7070972587,
                          0.5765700775
                        ]
                      },
                      {
                        "iteration": 215,
                        "learn": [
                          0.7604205783,
                          0.5157816007
                        ],
                        "passed_time": 3.150819265,
                        "remaining_time": 4.142743848,
                        "test": [
                          0.7064713982,
                          0.5765993744
                        ]
                      },
                      {
                        "iteration": 216,
                        "learn": [
                          0.7607126466,
                          0.515484231
                        ],
                        "passed_time": 3.165136098,
                        "remaining_time": 4.12780422,
                        "test": [
                          0.7068469145,
                          0.5766802633
                        ]
                      },
                      {
                        "iteration": 217,
                        "learn": [
                          0.7608795427,
                          0.5152718484
                        ],
                        "passed_time": 3.178918714,
                        "remaining_time": 4.112179254,
                        "test": [
                          0.7069720866,
                          0.5765103859
                        ]
                      },
                      {
                        "iteration": 218,
                        "learn": [
                          0.7614636792,
                          0.5150012563
                        ],
                        "passed_time": 3.193158457,
                        "remaining_time": 4.097157654,
                        "test": [
                          0.7072224308,
                          0.5764502732
                        ]
                      },
                      {
                        "iteration": 219,
                        "learn": [
                          0.7615888513,
                          0.5146892504
                        ],
                        "passed_time": 3.206108175,
                        "remaining_time": 4.080501314,
                        "test": [
                          0.707347603,
                          0.5763541454
                        ]
                      },
                      {
                        "iteration": 220,
                        "learn": [
                          0.7618391956,
                          0.514461487
                        ],
                        "passed_time": 3.221398498,
                        "remaining_time": 4.066833398,
                        "test": [
                          0.7074727751,
                          0.5763493442
                        ]
                      },
                      {
                        "iteration": 221,
                        "learn": [
                          0.7620478157,
                          0.5142075019
                        ],
                        "passed_time": 3.238215273,
                        "remaining_time": 4.055062369,
                        "test": [
                          0.7070972587,
                          0.5763860566
                        ]
                      },
                      {
                        "iteration": 222,
                        "learn": [
                          0.7625067802,
                          0.51379849
                        ],
                        "passed_time": 3.252136904,
                        "remaining_time": 4.039649876,
                        "test": [
                          0.7074727751,
                          0.5763647521
                        ]
                      },
                      {
                        "iteration": 223,
                        "learn": [
                          0.7624233321,
                          0.5136922958
                        ],
                        "passed_time": 3.264767035,
                        "remaining_time": 4.022659382,
                        "test": [
                          0.7074727751,
                          0.5764028924
                        ]
                      },
                      {
                        "iteration": 224,
                        "learn": [
                          0.7627571244,
                          0.5133791639
                        ],
                        "passed_time": 3.278412028,
                        "remaining_time": 4.006948034,
                        "test": [
                          0.7062210539,
                          0.576511745
                        ]
                      },
                      {
                        "iteration": 225,
                        "learn": [
                          0.7631743648,
                          0.5131417409
                        ],
                        "passed_time": 3.291769579,
                        "remaining_time": 3.990906481,
                        "test": [
                          0.7063462261,
                          0.576493892
                        ]
                      },
                      {
                        "iteration": 226,
                        "learn": [
                          0.7631326407,
                          0.5127757822
                        ],
                        "passed_time": 3.305885387,
                        "remaining_time": 3.975800488,
                        "test": [
                          0.7065965703,
                          0.5764875307
                        ]
                      },
                      {
                        "iteration": 227,
                        "learn": [
                          0.7636333292,
                          0.5124545062
                        ],
                        "passed_time": 3.318800572,
                        "remaining_time": 3.959270858,
                        "test": [
                          0.7060958818,
                          0.5766390511
                        ]
                      },
                      {
                        "iteration": 228,
                        "learn": [
                          0.763508157,
                          0.5122093195
                        ],
                        "passed_time": 3.332663897,
                        "remaining_time": 3.94389483,
                        "test": [
                          0.7065965703,
                          0.576617354
                        ]
                      },
                      {
                        "iteration": 229,
                        "learn": [
                          0.7635916051,
                          0.5119426679
                        ],
                        "passed_time": 3.347160696,
                        "remaining_time": 3.9292756,
                        "test": [
                          0.7067217424,
                          0.5766083902
                        ]
                      },
                      {
                        "iteration": 230,
                        "learn": [
                          0.7642591897,
                          0.5116918213
                        ],
                        "passed_time": 3.368479808,
                        "remaining_time": 3.922602027,
                        "test": [
                          0.7064713982,
                          0.5767291334
                        ]
                      },
                      {
                        "iteration": 231,
                        "learn": [
                          0.7641757416,
                          0.5113457798
                        ],
                        "passed_time": 3.382416602,
                        "remaining_time": 3.907274351,
                        "test": [
                          0.7065965703,
                          0.5766257487
                        ]
                      },
                      {
                        "iteration": 232,
                        "learn": [
                          0.7646347061,
                          0.5110596642
                        ],
                        "passed_time": 3.396087456,
                        "remaining_time": 3.891653866,
                        "test": [
                          0.7063462261,
                          0.5766010686
                        ]
                      },
                      {
                        "iteration": 233,
                        "learn": [
                          0.7652188426,
                          0.5106715758
                        ],
                        "passed_time": 3.410039822,
                        "remaining_time": 3.876370054,
                        "test": [
                          0.7070972587,
                          0.5765475136
                        ]
                      },
                      {
                        "iteration": 234,
                        "learn": [
                          0.7653022906,
                          0.5103010017
                        ],
                        "passed_time": 3.424146018,
                        "remaining_time": 3.861271042,
                        "test": [
                          0.7074727751,
                          0.5764065586
                        ]
                      },
                      {
                        "iteration": 235,
                        "learn": [
                          0.7655943589,
                          0.5099583815
                        ],
                        "passed_time": 3.437768169,
                        "remaining_time": 3.845638969,
                        "test": [
                          0.7072224308,
                          0.5764460784
                        ]
                      },
                      {
                        "iteration": 236,
                        "learn": [
                          0.7661784954,
                          0.5097199355
                        ],
                        "passed_time": 3.454610217,
                        "remaining_time": 3.833596992,
                        "test": [
                          0.7074727751,
                          0.5764444791
                        ]
                      },
                      {
                        "iteration": 237,
                        "learn": [
                          0.766762632,
                          0.5093376863
                        ],
                        "passed_time": 3.468596737,
                        "remaining_time": 3.818371198,
                        "test": [
                          0.7075979472,
                          0.576509798
                        ]
                      },
                      {
                        "iteration": 238,
                        "learn": [
                          0.7664288397,
                          0.5090769737
                        ],
                        "passed_time": 3.482548109,
                        "remaining_time": 3.803117391,
                        "test": [
                          0.7067217424,
                          0.5766511475
                        ]
                      },
                      {
                        "iteration": 239,
                        "learn": [
                          0.7669295281,
                          0.5087918367
                        ],
                        "passed_time": 3.49794591,
                        "remaining_time": 3.789441403,
                        "test": [
                          0.7068469145,
                          0.5766700346
                        ]
                      },
                      {
                        "iteration": 240,
                        "learn": [
                          0.7671798723,
                          0.5086115705
                        ],
                        "passed_time": 3.511084888,
                        "remaining_time": 3.773323593,
                        "test": [
                          0.7057203655,
                          0.5767301579
                        ]
                      },
                      {
                        "iteration": 241,
                        "learn": [
                          0.7674302165,
                          0.5083710611
                        ],
                        "passed_time": 3.524114285,
                        "remaining_time": 3.757113576,
                        "test": [
                          0.7055951934,
                          0.5767606807
                        ]
                      },
                      {
                        "iteration": 242,
                        "learn": [
                          0.7678057329,
                          0.508157785
                        ],
                        "passed_time": 3.537031726,
                        "remaining_time": 3.740811331,
                        "test": [
                          0.7054700213,
                          0.576830788
                        ]
                      },
                      {
                        "iteration": 243,
                        "learn": [
                          0.767889181,
                          0.5079049245
                        ],
                        "passed_time": 3.551280586,
                        "remaining_time": 3.72593373,
                        "test": [
                          0.7048441607,
                          0.5767428797
                        ]
                      },
                      {
                        "iteration": 244,
                        "learn": [
                          0.7680143531,
                          0.5076014035
                        ],
                        "passed_time": 3.564814105,
                        "remaining_time": 3.710316722,
                        "test": [
                          0.7053448492,
                          0.5766830231
                        ]
                      },
                      {
                        "iteration": 245,
                        "learn": [
                          0.767972629,
                          0.5073955778
                        ],
                        "passed_time": 3.578047914,
                        "remaining_time": 3.694407196,
                        "test": [
                          0.7045938165,
                          0.5767295421
                        ]
                      },
                      {
                        "iteration": 246,
                        "learn": [
                          0.7682229733,
                          0.5071182438
                        ],
                        "passed_time": 3.592068554,
                        "remaining_time": 3.67932528,
                        "test": [
                          0.7044686444,
                          0.5767704455
                        ]
                      },
                      {
                        "iteration": 247,
                        "learn": [
                          0.7685984896,
                          0.5068209379
                        ],
                        "passed_time": 3.606012266,
                        "remaining_time": 3.664173754,
                        "test": [
                          0.7045938165,
                          0.5767600905
                        ]
                      },
                      {
                        "iteration": 248,
                        "learn": [
                          0.7685567656,
                          0.5065853615
                        ],
                        "passed_time": 3.619725536,
                        "remaining_time": 3.648799637,
                        "test": [
                          0.7052196771,
                          0.5767858726
                        ]
                      },
                      {
                        "iteration": 249,
                        "learn": [
                          0.7685150415,
                          0.5062799505
                        ],
                        "passed_time": 3.633922796,
                        "remaining_time": 3.633922796,
                        "test": [
                          0.7058455376,
                          0.5767715265
                        ]
                      },
                      {
                        "iteration": 250,
                        "learn": [
                          0.7689740059,
                          0.5060828824
                        ],
                        "passed_time": 3.647354267,
                        "remaining_time": 3.618291683,
                        "test": [
                          0.7058455376,
                          0.5767659384
                        ]
                      },
                      {
                        "iteration": 251,
                        "learn": [
                          0.7698502107,
                          0.5057639732
                        ],
                        "passed_time": 3.662221726,
                        "remaining_time": 3.604091223,
                        "test": [
                          0.7054700213,
                          0.5767590636
                        ]
                      },
                      {
                        "iteration": 252,
                        "learn": [
                          0.7703091751,
                          0.5054619076
                        ],
                        "passed_time": 3.677613784,
                        "remaining_time": 3.590397646,
                        "test": [
                          0.7050945049,
                          0.5767203246
                        ]
                      },
                      {
                        "iteration": 253,
                        "learn": [
                          0.7706012434,
                          0.505222041
                        ],
                        "passed_time": 3.692951154,
                        "remaining_time": 3.576637732,
                        "test": [
                          0.7050945049,
                          0.576810558
                        ]
                      },
                      {
                        "iteration": 254,
                        "learn": [
                          0.7706429674,
                          0.5048706729
                        ],
                        "passed_time": 3.706062059,
                        "remaining_time": 3.560726292,
                        "test": [
                          0.7040931281,
                          0.5767604306
                        ]
                      },
                      {
                        "iteration": 255,
                        "learn": [
                          0.7710184837,
                          0.5046397326
                        ],
                        "passed_time": 3.730383276,
                        "remaining_time": 3.55552156,
                        "test": [
                          0.7038427838,
                          0.5767453756
                        ]
                      },
                      {
                        "iteration": 256,
                        "learn": [
                          0.7708098636,
                          0.5043771944
                        ],
                        "passed_time": 3.743461509,
                        "remaining_time": 3.539537536,
                        "test": [
                          0.7044686444,
                          0.5768638037
                        ]
                      },
                      {
                        "iteration": 257,
                        "learn": [
                          0.7712271039,
                          0.5041568941
                        ],
                        "passed_time": 3.759695284,
                        "remaining_time": 3.526535886,
                        "test": [
                          0.7042183002,
                          0.5769086677
                        ]
                      },
                      {
                        "iteration": 258,
                        "learn": [
                          0.7716026203,
                          0.5039071646
                        ],
                        "passed_time": 3.77275255,
                        "remaining_time": 3.510553531,
                        "test": [
                          0.7040931281,
                          0.5769111861
                        ]
                      },
                      {
                        "iteration": 259,
                        "learn": [
                          0.7713940001,
                          0.5035578818
                        ],
                        "passed_time": 3.786609062,
                        "remaining_time": 3.495331441,
                        "test": [
                          0.7037176117,
                          0.576981434
                        ]
                      },
                      {
                        "iteration": 260,
                        "learn": [
                          0.7715608962,
                          0.5033362175
                        ],
                        "passed_time": 3.799465132,
                        "remaining_time": 3.479203703,
                        "test": [
                          0.7042183002,
                          0.5769635233
                        ]
                      },
                      {
                        "iteration": 261,
                        "learn": [
                          0.7716443443,
                          0.5029675505
                        ],
                        "passed_time": 3.812884068,
                        "remaining_time": 3.463612245,
                        "test": [
                          0.7047189886,
                          0.5768715335
                        ]
                      },
                      {
                        "iteration": 262,
                        "learn": [
                          0.7721867568,
                          0.502698228
                        ],
                        "passed_time": 3.826320489,
                        "remaining_time": 3.448053064,
                        "test": [
                          0.7049693328,
                          0.5768639953
                        ]
                      },
                      {
                        "iteration": 263,
                        "learn": [
                          0.7725622731,
                          0.5025105746
                        ],
                        "passed_time": 3.83955551,
                        "remaining_time": 3.432329926,
                        "test": [
                          0.7057203655,
                          0.5768833431
                        ]
                      },
                      {
                        "iteration": 264,
                        "learn": [
                          0.7725622731,
                          0.5022265113
                        ],
                        "passed_time": 3.85325439,
                        "remaining_time": 3.417036912,
                        "test": [
                          0.7045938165,
                          0.5769714997
                        ]
                      },
                      {
                        "iteration": 265,
                        "learn": [
                          0.7730629616,
                          0.5019562476
                        ],
                        "passed_time": 3.8667962,
                        "remaining_time": 3.40161771,
                        "test": [
                          0.7047189886,
                          0.5770422843
                        ]
                      },
                      {
                        "iteration": 266,
                        "learn": [
                          0.7730212375,
                          0.5016139601
                        ],
                        "passed_time": 3.880606294,
                        "remaining_time": 3.386446691,
                        "test": [
                          0.7047189886,
                          0.5769959167
                        ]
                      },
                      {
                        "iteration": 267,
                        "learn": [
                          0.7732298577,
                          0.5012802078
                        ],
                        "passed_time": 3.893949009,
                        "remaining_time": 3.370881232,
                        "test": [
                          0.7047189886,
                          0.5771705975
                        ]
                      },
                      {
                        "iteration": 268,
                        "learn": [
                          0.7733133058,
                          0.5009640569
                        ],
                        "passed_time": 3.907813152,
                        "remaining_time": 3.355780067,
                        "test": [
                          0.7049693328,
                          0.5771426223
                        ]
                      },
                      {
                        "iteration": 269,
                        "learn": [
                          0.77356365,
                          0.5007507195
                        ],
                        "passed_time": 3.921338126,
                        "remaining_time": 3.340399144,
                        "test": [
                          0.7049693328,
                          0.5771483955
                        ]
                      },
                      {
                        "iteration": 270,
                        "learn": [
                          0.7739391664,
                          0.500430866
                        ],
                        "passed_time": 3.934954339,
                        "remaining_time": 3.325109017,
                        "test": [
                          0.7042183002,
                          0.5772073
                        ]
                      },
                      {
                        "iteration": 271,
                        "learn": [
                          0.7740226144,
                          0.5001125034
                        ],
                        "passed_time": 3.949384855,
                        "remaining_time": 3.310513776,
                        "test": [
                          0.7045938165,
                          0.5772335781
                        ]
                      },
                      {
                        "iteration": 272,
                        "learn": [
                          0.7747319231,
                          0.4998367743
                        ],
                        "passed_time": 3.993336049,
                        "remaining_time": 3.320466238,
                        "test": [
                          0.7048441607,
                          0.5772858903
                        ]
                      },
                      {
                        "iteration": 273,
                        "learn": [
                          0.7749822673,
                          0.4996297217
                        ],
                        "passed_time": 4.020958356,
                        "remaining_time": 3.316556892,
                        "test": [
                          0.7049693328,
                          0.5772767032
                        ]
                      },
                      {
                        "iteration": 274,
                        "learn": [
                          0.7752743355,
                          0.4993761284
                        ],
                        "passed_time": 4.034626588,
                        "remaining_time": 3.301058118,
                        "test": [
                          0.7038427838,
                          0.5772509619
                        ]
                      },
                      {
                        "iteration": 275,
                        "learn": [
                          0.7753577836,
                          0.4991582612
                        ],
                        "passed_time": 4.052126751,
                        "remaining_time": 3.28868258,
                        "test": [
                          0.7047189886,
                          0.5772278607
                        ]
                      },
                      {
                        "iteration": 276,
                        "learn": [
                          0.7757333,
                          0.4989218285
                        ],
                        "passed_time": 4.067060546,
                        "remaining_time": 3.274203978,
                        "test": [
                          0.7049693328,
                          0.5771949822
                        ]
                      },
                      {
                        "iteration": 277,
                        "learn": [
                          0.7757333,
                          0.4985873383
                        ],
                        "passed_time": 4.080619793,
                        "remaining_time": 3.258624439,
                        "test": [
                          0.7047189886,
                          0.5772067005
                        ]
                      },
                      {
                        "iteration": 278,
                        "learn": [
                          0.7761505403,
                          0.4982876043
                        ],
                        "passed_time": 4.094124402,
                        "remaining_time": 3.243016103,
                        "test": [
                          0.7044686444,
                          0.5772119886
                        ]
                      },
                      {
                        "iteration": 279,
                        "learn": [
                          0.7764008845,
                          0.4979201914
                        ],
                        "passed_time": 4.107933356,
                        "remaining_time": 3.227661923,
                        "test": [
                          0.7044686444,
                          0.5771380816
                        ]
                      },
                      {
                        "iteration": 280,
                        "learn": [
                          0.7767346768,
                          0.4976334662
                        ],
                        "passed_time": 4.120957629,
                        "remaining_time": 3.211707192,
                        "test": [
                          0.7047189886,
                          0.5772152143
                        ]
                      },
                      {
                        "iteration": 281,
                        "learn": [
                          0.7770684691,
                          0.4974109216
                        ],
                        "passed_time": 4.134178544,
                        "remaining_time": 3.195925257,
                        "test": [
                          0.7044686444,
                          0.5772740872
                        ]
                      },
                      {
                        "iteration": 282,
                        "learn": [
                          0.7772353653,
                          0.4971204752
                        ],
                        "passed_time": 4.14856839,
                        "remaining_time": 3.181057741,
                        "test": [
                          0.7042183002,
                          0.5772117913
                        ]
                      },
                      {
                        "iteration": 283,
                        "learn": [
                          0.776859849,
                          0.4969521064
                        ],
                        "passed_time": 4.161365158,
                        "remaining_time": 3.164981951,
                        "test": [
                          0.7040931281,
                          0.577255716
                        ]
                      },
                      {
                        "iteration": 284,
                        "learn": [
                          0.7770267451,
                          0.496726872
                        ],
                        "passed_time": 4.175229701,
                        "remaining_time": 3.149734687,
                        "test": [
                          0.7045938165,
                          0.5773794054
                        ]
                      },
                      {
                        "iteration": 285,
                        "learn": [
                          0.7773605374,
                          0.4964056618
                        ],
                        "passed_time": 4.189720195,
                        "remaining_time": 3.134965461,
                        "test": [
                          0.7042183002,
                          0.577376824
                        ]
                      },
                      {
                        "iteration": 286,
                        "learn": [
                          0.7777777778,
                          0.4961351278
                        ],
                        "passed_time": 4.203191103,
                        "remaining_time": 3.11944148,
                        "test": [
                          0.7042183002,
                          0.5774375926
                        ]
                      },
                      {
                        "iteration": 287,
                        "learn": [
                          0.778069846,
                          0.4959409604
                        ],
                        "passed_time": 4.216347737,
                        "remaining_time": 3.103700417,
                        "test": [
                          0.7052196771,
                          0.5775162397
                        ]
                      },
                      {
                        "iteration": 288,
                        "learn": [
                          0.7784036383,
                          0.495672806
                        ],
                        "passed_time": 4.230995864,
                        "remaining_time": 3.089066184,
                        "test": [
                          0.7053448492,
                          0.577547951
                        ]
                      },
                      {
                        "iteration": 289,
                        "learn": [
                          0.7789043268,
                          0.4953730484
                        ],
                        "passed_time": 4.245115882,
                        "remaining_time": 3.074049432,
                        "test": [
                          0.7047189886,
                          0.5775000335
                        ]
                      },
                      {
                        "iteration": 290,
                        "learn": [
                          0.7793215672,
                          0.4950737395
                        ],
                        "passed_time": 4.260908217,
                        "remaining_time": 3.060239923,
                        "test": [
                          0.7038427838,
                          0.5774945423
                        ]
                      },
                      {
                        "iteration": 291,
                        "learn": [
                          0.7792798431,
                          0.4947614661
                        ],
                        "passed_time": 4.274478901,
                        "remaining_time": 3.044834285,
                        "test": [
                          0.7040931281,
                          0.5774488639
                        ]
                      },
                      {
                        "iteration": 292,
                        "learn": [
                          0.7798639796,
                          0.4944895575
                        ],
                        "passed_time": 4.28833808,
                        "remaining_time": 3.029644992,
                        "test": [
                          0.7045938165,
                          0.5774501249
                        ]
                      },
                      {
                        "iteration": 293,
                        "learn": [
                          0.7798222556,
                          0.4943286294
                        ],
                        "passed_time": 4.301558754,
                        "remaining_time": 3.014017358,
                        "test": [
                          0.7044686444,
                          0.5774684912
                        ]
                      },
                      {
                        "iteration": 294,
                        "learn": [
                          0.7797805316,
                          0.4940134862
                        ],
                        "passed_time": 4.315192819,
                        "remaining_time": 2.998693315,
                        "test": [
                          0.7038427838,
                          0.5773995508
                        ]
                      },
                      {
                        "iteration": 295,
                        "learn": [
                          0.7796553595,
                          0.4938192999
                        ],
                        "passed_time": 4.328100681,
                        "remaining_time": 2.982880199,
                        "test": [
                          0.7037176117,
                          0.5774828486
                        ]
                      },
                      {
                        "iteration": 296,
                        "learn": [
                          0.780322944,
                          0.4934967865
                        ],
                        "passed_time": 4.342326987,
                        "remaining_time": 2.967987806,
                        "test": [
                          0.7035924396,
                          0.5775150986
                        ]
                      },
                      {
                        "iteration": 297,
                        "learn": [
                          0.7804898402,
                          0.4932986487
                        ],
                        "passed_time": 4.355931314,
                        "remaining_time": 2.952678273,
                        "test": [
                          0.7027162348,
                          0.5774751115
                        ]
                      },
                      {
                        "iteration": 298,
                        "learn": [
                          0.7805315642,
                          0.4929715979
                        ],
                        "passed_time": 4.369959843,
                        "remaining_time": 2.937665312,
                        "test": [
                          0.7037176117,
                          0.5774437529
                        ]
                      },
                      {
                        "iteration": 299,
                        "learn": [
                          0.7804898402,
                          0.492794214
                        ],
                        "passed_time": 4.382896707,
                        "remaining_time": 2.921931138,
                        "test": [
                          0.7032169233,
                          0.5775476678
                        ]
                      },
                      {
                        "iteration": 300,
                        "learn": [
                          0.7805732883,
                          0.4925140436
                        ],
                        "passed_time": 4.400886553,
                        "remaining_time": 2.909556226,
                        "test": [
                          0.702966579,
                          0.5776819478
                        ]
                      },
                      {
                        "iteration": 301,
                        "learn": [
                          0.7810322527,
                          0.4922255091
                        ],
                        "passed_time": 4.414967984,
                        "remaining_time": 2.894581659,
                        "test": [
                          0.7030917512,
                          0.5775954738
                        ]
                      },
                      {
                        "iteration": 302,
                        "learn": [
                          0.7811574248,
                          0.4919060245
                        ],
                        "passed_time": 4.428451136,
                        "remaining_time": 2.879224006,
                        "test": [
                          0.7030917512,
                          0.5777414744
                        ]
                      },
                      {
                        "iteration": 303,
                        "learn": [
                          0.7814494931,
                          0.4917118758
                        ],
                        "passed_time": 4.441714471,
                        "remaining_time": 2.863736962,
                        "test": [
                          0.7034672675,
                          0.5777730696
                        ]
                      },
                      {
                        "iteration": 304,
                        "learn": [
                          0.7816998373,
                          0.491525897
                        ],
                        "passed_time": 4.455062762,
                        "remaining_time": 2.848318815,
                        "test": [
                          0.7032169233,
                          0.5777887302
                        ]
                      },
                      {
                        "iteration": 305,
                        "learn": [
                          0.7818667334,
                          0.4913589582
                        ],
                        "passed_time": 4.468432958,
                        "remaining_time": 2.832928084,
                        "test": [
                          0.7028414069,
                          0.5778137386
                        ]
                      },
                      {
                        "iteration": 306,
                        "learn": [
                          0.7821588017,
                          0.4911324443
                        ],
                        "passed_time": 4.481727259,
                        "remaining_time": 2.817502805,
                        "test": [
                          0.7028414069,
                          0.5777844395
                        ]
                      },
                      {
                        "iteration": 307,
                        "learn": [
                          0.7821588017,
                          0.4909076242
                        ],
                        "passed_time": 4.495170612,
                        "remaining_time": 2.802184278,
                        "test": [
                          0.7030917512,
                          0.5778595749
                        ]
                      },
                      {
                        "iteration": 308,
                        "learn": [
                          0.7822839738,
                          0.4906652536
                        ],
                        "passed_time": 4.509010625,
                        "remaining_time": 2.787123073,
                        "test": [
                          0.702966579,
                          0.5779123365
                        ]
                      },
                      {
                        "iteration": 309,
                        "learn": [
                          0.7823674219,
                          0.490451784
                        ],
                        "passed_time": 4.522170092,
                        "remaining_time": 2.771652637,
                        "test": [
                          0.702966579,
                          0.5778787888
                        ]
                      },
                      {
                        "iteration": 310,
                        "learn": [
                          0.7823674219,
                          0.4902958403
                        ],
                        "passed_time": 4.535361368,
                        "remaining_time": 2.756216394,
                        "test": [
                          0.7025910627,
                          0.5778441888
                        ]
                      },
                      {
                        "iteration": 311,
                        "learn": [
                          0.7828681103,
                          0.4900584454
                        ],
                        "passed_time": 4.549153716,
                        "remaining_time": 2.741156726,
                        "test": [
                          0.7024658906,
                          0.5777895998
                        ]
                      },
                      {
                        "iteration": 312,
                        "learn": [
                          0.7834522468,
                          0.489722226
                        ],
                        "passed_time": 4.562521313,
                        "remaining_time": 2.725851391,
                        "test": [
                          0.7023407185,
                          0.5778996163
                        ]
                      },
                      {
                        "iteration": 313,
                        "learn": [
                          0.783660867,
                          0.4895243117
                        ],
                        "passed_time": 4.575578154,
                        "remaining_time": 2.710374321,
                        "test": [
                          0.7022155464,
                          0.5779033024
                        ]
                      },
                      {
                        "iteration": 314,
                        "learn": [
                          0.783577419,
                          0.4892533627
                        ],
                        "passed_time": 4.589043828,
                        "remaining_time": 2.695152725,
                        "test": [
                          0.7024658906,
                          0.5780197304
                        ]
                      },
                      {
                        "iteration": 315,
                        "learn": [
                          0.7842032795,
                          0.4890357094
                        ],
                        "passed_time": 4.602264506,
                        "remaining_time": 2.679799585,
                        "test": [
                          0.7025910627,
                          0.5780123227
                        ]
                      },
                      {
                        "iteration": 316,
                        "learn": [
                          0.7841198314,
                          0.4887982247
                        ],
                        "passed_time": 4.615536789,
                        "remaining_time": 2.664489692,
                        "test": [
                          0.7020903743,
                          0.578012464
                        ]
                      },
                      {
                        "iteration": 317,
                        "learn": [
                          0.783660867,
                          0.4885451584
                        ],
                        "passed_time": 4.629314328,
                        "remaining_time": 2.649481785,
                        "test": [
                          0.7023407185,
                          0.5781078691
                        ]
                      },
                      {
                        "iteration": 318,
                        "learn": [
                          0.7842032795,
                          0.4882035999
                        ],
                        "passed_time": 4.64446499,
                        "remaining_time": 2.6352607,
                        "test": [
                          0.7024658906,
                          0.5780466606
                        ]
                      },
                      {
                        "iteration": 319,
                        "learn": [
                          0.7839946593,
                          0.4880458925
                        ],
                        "passed_time": 4.660116835,
                        "remaining_time": 2.62131572,
                        "test": [
                          0.7025910627,
                          0.577962636
                        ]
                      },
                      {
                        "iteration": 320,
                        "learn": [
                          0.7845787958,
                          0.4877243824
                        ],
                        "passed_time": 4.674215992,
                        "remaining_time": 2.606494276,
                        "test": [
                          0.7023407185,
                          0.578014152
                        ]
                      },
                      {
                        "iteration": 321,
                        "learn": [
                          0.7848291401,
                          0.4875059088
                        ],
                        "passed_time": 4.69091735,
                        "remaining_time": 2.593115802,
                        "test": [
                          0.7024658906,
                          0.5781159461
                        ]
                      },
                      {
                        "iteration": 322,
                        "learn": [
                          0.7850794843,
                          0.4872589484
                        ],
                        "passed_time": 4.704274917,
                        "remaining_time": 2.577884397,
                        "test": [
                          0.702966579,
                          0.5780376665
                        ]
                      },
                      {
                        "iteration": 323,
                        "learn": [
                          0.7850377603,
                          0.4870171547
                        ],
                        "passed_time": 4.721467382,
                        "remaining_time": 2.564747714,
                        "test": [
                          0.7023407185,
                          0.5780247358
                        ]
                      },
                      {
                        "iteration": 324,
                        "learn": [
                          0.7853298285,
                          0.4868324693
                        ],
                        "passed_time": 4.742544892,
                        "remaining_time": 2.553678019,
                        "test": [
                          0.7022155464,
                          0.5779968532
                        ]
                      },
                      {
                        "iteration": 325,
                        "learn": [
                          0.7854132766,
                          0.4865152644
                        ],
                        "passed_time": 4.75629816,
                        "remaining_time": 2.538637668,
                        "test": [
                          0.7019652022,
                          0.5780253654
                        ]
                      },
                      {
                        "iteration": 326,
                        "learn": [
                          0.7857887929,
                          0.4863375487
                        ],
                        "passed_time": 4.769248886,
                        "remaining_time": 2.523180603,
                        "test": [
                          0.7024658906,
                          0.5780245268
                        ]
                      },
                      {
                        "iteration": 327,
                        "learn": [
                          0.7860391371,
                          0.4861509035
                        ],
                        "passed_time": 4.782403128,
                        "remaining_time": 2.507845543,
                        "test": [
                          0.7027162348,
                          0.5780110432
                        ]
                      },
                      {
                        "iteration": 328,
                        "learn": [
                          0.7864146535,
                          0.4859129901
                        ],
                        "passed_time": 4.796027025,
                        "remaining_time": 2.492767846,
                        "test": [
                          0.7020903743,
                          0.578011622
                        ]
                      },
                      {
                        "iteration": 329,
                        "learn": [
                          0.7867484458,
                          0.485578994
                        ],
                        "passed_time": 4.810096252,
                        "remaining_time": 2.477928372,
                        "test": [
                          0.7030917512,
                          0.5780399186
                        ]
                      },
                      {
                        "iteration": 330,
                        "learn": [
                          0.787040514,
                          0.4852886844
                        ],
                        "passed_time": 4.823887304,
                        "remaining_time": 2.462951524,
                        "test": [
                          0.7024658906,
                          0.5780970629
                        ]
                      },
                      {
                        "iteration": 331,
                        "learn": [
                          0.7874577544,
                          0.4850765821
                        ],
                        "passed_time": 4.837227056,
                        "remaining_time": 2.44775345,
                        "test": [
                          0.7027162348,
                          0.5781422762
                        ]
                      },
                      {
                        "iteration": 332,
                        "learn": [
                          0.7877080986,
                          0.4848893483
                        ],
                        "passed_time": 4.850433799,
                        "remaining_time": 2.432499833,
                        "test": [
                          0.70184003,
                          0.5780987531
                        ]
                      },
                      {
                        "iteration": 333,
                        "learn": [
                          0.7879167188,
                          0.4846227093
                        ],
                        "passed_time": 4.864283965,
                        "remaining_time": 2.417578258,
                        "test": [
                          0.7014645137,
                          0.5782907244
                        ]
                      },
                      {
                        "iteration": 334,
                        "learn": [
                          0.7879584429,
                          0.4844078937
                        ],
                        "passed_time": 4.87760712,
                        "remaining_time": 2.402403507,
                        "test": [
                          0.7017148579,
                          0.5782326892
                        ]
                      },
                      {
                        "iteration": 335,
                        "learn": [
                          0.7878332707,
                          0.4842091466
                        ],
                        "passed_time": 4.891250942,
                        "remaining_time": 2.387396293,
                        "test": [
                          0.7017148579,
                          0.5782200014
                        ]
                      },
                      {
                        "iteration": 336,
                        "learn": [
                          0.788167063,
                          0.4840484908
                        ],
                        "passed_time": 4.904355502,
                        "remaining_time": 2.37213634,
                        "test": [
                          0.7023407185,
                          0.578282357
                        ]
                      },
                      {
                        "iteration": 337,
                        "learn": [
                          0.7878749948,
                          0.4838062857
                        ],
                        "passed_time": 4.917843636,
                        "remaining_time": 2.357072985,
                        "test": [
                          0.7023407185,
                          0.5782055605
                        ]
                      },
                      {
                        "iteration": 338,
                        "learn": [
                          0.7883339592,
                          0.483522796
                        ],
                        "passed_time": 4.931784996,
                        "remaining_time": 2.342234172,
                        "test": [
                          0.7022155464,
                          0.5781890256
                        ]
                      },
                      {
                        "iteration": 339,
                        "learn": [
                          0.7886677515,
                          0.4832086485
                        ],
                        "passed_time": 4.945726502,
                        "remaining_time": 2.327400707,
                        "test": [
                          0.7023407185,
                          0.5780537104
                        ]
                      },
                      {
                        "iteration": 340,
                        "learn": [
                          0.7886677515,
                          0.483024068
                        ],
                        "passed_time": 4.958781877,
                        "remaining_time": 2.312159292,
                        "test": [
                          0.7024658906,
                          0.5780400557
                        ]
                      },
                      {
                        "iteration": 341,
                        "learn": [
                          0.7890849919,
                          0.4827533552
                        ],
                        "passed_time": 4.992471125,
                        "remaining_time": 2.306463268,
                        "test": [
                          0.7025910627,
                          0.5780303491
                        ]
                      },
                      {
                        "iteration": 342,
                        "learn": [
                          0.789210164,
                          0.4824406185
                        ],
                        "passed_time": 5.030563771,
                        "remaining_time": 2.302619569,
                        "test": [
                          0.7025910627,
                          0.5780377662
                        ]
                      },
                      {
                        "iteration": 343,
                        "learn": [
                          0.7894187842,
                          0.4821560812
                        ],
                        "passed_time": 5.047037191,
                        "remaining_time": 2.28877268,
                        "test": [
                          0.7017148579,
                          0.5779325422
                        ]
                      },
                      {
                        "iteration": 344,
                        "learn": [
                          0.7896691284,
                          0.4819459536
                        ],
                        "passed_time": 5.060479951,
                        "remaining_time": 2.273548963,
                        "test": [
                          0.7017148579,
                          0.5780323646
                        ]
                      },
                      {
                        "iteration": 345,
                        "learn": [
                          0.7898360245,
                          0.4817843963
                        ],
                        "passed_time": 5.073803788,
                        "remaining_time": 2.258282611,
                        "test": [
                          0.7012141695,
                          0.5780065661
                        ]
                      },
                      {
                        "iteration": 346,
                        "learn": [
                          0.7898360245,
                          0.4815305758
                        ],
                        "passed_time": 5.088975213,
                        "remaining_time": 2.243842097,
                        "test": [
                          0.7010889974,
                          0.577985766
                        ]
                      },
                      {
                        "iteration": 347,
                        "learn": [
                          0.7900446447,
                          0.4813155217
                        ],
                        "passed_time": 5.102094625,
                        "remaining_time": 2.228501101,
                        "test": [
                          0.7005883089,
                          0.5780067196
                        ]
                      },
                      {
                        "iteration": 348,
                        "learn": [
                          0.7902532649,
                          0.4810619657
                        ],
                        "passed_time": 5.11633591,
                        "remaining_time": 2.213658231,
                        "test": [
                          0.7005883089,
                          0.5780293079
                        ]
                      },
                      {
                        "iteration": 349,
                        "learn": [
                          0.790336713,
                          0.4808735541
                        ],
                        "passed_time": 5.129320291,
                        "remaining_time": 2.198280125,
                        "test": [
                          0.7003379647,
                          0.5780282683
                        ]
                      },
                      {
                        "iteration": 350,
                        "learn": [
                          0.790378437,
                          0.4806525831
                        ],
                        "passed_time": 5.142923543,
                        "remaining_time": 2.18317837,
                        "test": [
                          0.7008386531,
                          0.577988756
                        ]
                      },
                      {
                        "iteration": 351,
                        "learn": [
                          0.7906287812,
                          0.4804226492
                        ],
                        "passed_time": 5.15645682,
                        "remaining_time": 2.168055708,
                        "test": [
                          0.700713481,
                          0.5780300652
                        ]
                      },
                      {
                        "iteration": 352,
                        "learn": [
                          0.7907539534,
                          0.4802699954
                        ],
                        "passed_time": 5.169472125,
                        "remaining_time": 2.152726353,
                        "test": [
                          0.7004631368,
                          0.5779829035
                        ]
                      },
                      {
                        "iteration": 353,
                        "learn": [
                          0.7909625735,
                          0.479959512
                        ],
                        "passed_time": 5.183749341,
                        "remaining_time": 2.137930519,
                        "test": [
                          0.7005883089,
                          0.5779882741
                        ]
                      },
                      {
                        "iteration": 354,
                        "learn": [
                          0.7917553302,
                          0.4796334905
                        ],
                        "passed_time": 5.197624004,
                        "remaining_time": 2.122973185,
                        "test": [
                          0.7002127926,
                          0.5779843707
                        ]
                      },
                      {
                        "iteration": 355,
                        "learn": [
                          0.792548087,
                          0.4794184041
                        ],
                        "passed_time": 5.21116487,
                        "remaining_time": 2.107886914,
                        "test": [
                          0.7009638253,
                          0.5779029702
                        ]
                      },
                      {
                        "iteration": 356,
                        "learn": [
                          0.792589811,
                          0.4791145158
                        ],
                        "passed_time": 5.224847515,
                        "remaining_time": 2.092866092,
                        "test": [
                          0.7009638253,
                          0.5778942937
                        ]
                      },
                      {
                        "iteration": 357,
                        "learn": [
                          0.7929653273,
                          0.4788822768
                        ],
                        "passed_time": 5.240691638,
                        "remaining_time": 2.078710091,
                        "test": [
                          0.7014645137,
                          0.5778654637
                        ]
                      },
                      {
                        "iteration": 358,
                        "learn": [
                          0.7930487754,
                          0.4786158276
                        ],
                        "passed_time": 5.254651102,
                        "remaining_time": 2.063804472,
                        "test": [
                          0.70184003,
                          0.5777549917
                        ]
                      },
                      {
                        "iteration": 359,
                        "learn": [
                          0.79371636,
                          0.478305795
                        ],
                        "passed_time": 5.268482726,
                        "remaining_time": 2.048854393,
                        "test": [
                          0.7015896858,
                          0.577885873
                        ]
                      },
                      {
                        "iteration": 360,
                        "learn": [
                          0.7943004965,
                          0.4780636945
                        ],
                        "passed_time": 5.281951537,
                        "remaining_time": 2.033770813,
                        "test": [
                          0.7025910627,
                          0.5778886469
                        ]
                      },
                      {
                        "iteration": 361,
                        "learn": [
                          0.7937998081,
                          0.4778416207
                        ],
                        "passed_time": 5.295263333,
                        "remaining_time": 2.018636298,
                        "test": [
                          0.7024658906,
                          0.5779658838
                        ]
                      },
                      {
                        "iteration": 362,
                        "learn": [
                          0.7939667042,
                          0.4776595356
                        ],
                        "passed_time": 5.309846767,
                        "remaining_time": 2.003991755,
                        "test": [
                          0.7020903743,
                          0.5778688436
                        ]
                      },
                      {
                        "iteration": 363,
                        "learn": [
                          0.7939667042,
                          0.4773725691
                        ],
                        "passed_time": 5.32346148,
                        "remaining_time": 1.988985608,
                        "test": [
                          0.7019652022,
                          0.5779199411
                        ]
                      },
                      {
                        "iteration": 364,
                        "learn": [
                          0.7942587725,
                          0.4771079015
                        ],
                        "passed_time": 5.337072045,
                        "remaining_time": 1.973985551,
                        "test": [
                          0.7015896858,
                          0.5779251431
                        ]
                      },
                      {
                        "iteration": 365,
                        "learn": [
                          0.794801185,
                          0.4768502083
                        ],
                        "passed_time": 5.350010996,
                        "remaining_time": 1.958747195,
                        "test": [
                          0.7019652022,
                          0.5779380782
                        ]
                      },
                      {
                        "iteration": 366,
                        "learn": [
                          0.794801185,
                          0.4766940025
                        ],
                        "passed_time": 5.363192985,
                        "remaining_time": 1.943609447,
                        "test": [
                          0.7020903743,
                          0.5778980258
                        ]
                      },
                      {
                        "iteration": 367,
                        "learn": [
                          0.7950098051,
                          0.4765173889
                        ],
                        "passed_time": 5.376389644,
                        "remaining_time": 1.92848759,
                        "test": [
                          0.70184003,
                          0.5778604727
                        ]
                      },
                      {
                        "iteration": 368,
                        "learn": [
                          0.7952601494,
                          0.4762438648
                        ],
                        "passed_time": 5.390154245,
                        "remaining_time": 1.913577794,
                        "test": [
                          0.7022155464,
                          0.5778024967
                        ]
                      },
                      {
                        "iteration": 369,
                        "learn": [
                          0.7953018734,
                          0.4760282109
                        ],
                        "passed_time": 5.404099307,
                        "remaining_time": 1.898737594,
                        "test": [
                          0.702966579,
                          0.5778364418
                        ]
                      },
                      {
                        "iteration": 370,
                        "learn": [
                          0.7955104936,
                          0.4758814065
                        ],
                        "passed_time": 5.41744172,
                        "remaining_time": 1.883692673,
                        "test": [
                          0.7025910627,
                          0.5778365293
                        ]
                      },
                      {
                        "iteration": 371,
                        "learn": [
                          0.7958025619,
                          0.4756595251
                        ],
                        "passed_time": 5.431554763,
                        "remaining_time": 1.868922069,
                        "test": [
                          0.7019652022,
                          0.5778268126
                        ]
                      },
                      {
                        "iteration": 372,
                        "learn": [
                          0.7961780782,
                          0.4754879457
                        ],
                        "passed_time": 5.450886616,
                        "remaining_time": 1.855931904,
                        "test": [
                          0.7020903743,
                          0.577836917
                        ]
                      },
                      {
                        "iteration": 373,
                        "learn": [
                          0.7965535945,
                          0.4752125703
                        ],
                        "passed_time": 5.465063216,
                        "remaining_time": 1.84117103,
                        "test": [
                          0.7024658906,
                          0.5778801586
                        ]
                      },
                      {
                        "iteration": 374,
                        "learn": [
                          0.7968039387,
                          0.4748997
                        ],
                        "passed_time": 5.478813117,
                        "remaining_time": 1.826271039,
                        "test": [
                          0.7024658906,
                          0.5777453282
                        ]
                      },
                      {
                        "iteration": 375,
                        "learn": [
                          0.797137731,
                          0.4747102624
                        ],
                        "passed_time": 5.494081033,
                        "remaining_time": 1.811877788,
                        "test": [
                          0.7025910627,
                          0.5777279718
                        ]
                      },
                      {
                        "iteration": 376,
                        "learn": [
                          0.7973880753,
                          0.4744279594
                        ],
                        "passed_time": 5.507821027,
                        "remaining_time": 1.796981396,
                        "test": [
                          0.7020903743,
                          0.5777479446
                        ]
                      },
                      {
                        "iteration": 377,
                        "learn": [
                          0.7974715233,
                          0.4741932979
                        ],
                        "passed_time": 5.521605554,
                        "remaining_time": 1.782105496,
                        "test": [
                          0.7015896858,
                          0.5777917565
                        ]
                      },
                      {
                        "iteration": 378,
                        "learn": [
                          0.7975966955,
                          0.473920701
                        ],
                        "passed_time": 5.535907645,
                        "remaining_time": 1.767400594,
                        "test": [
                          0.7013393416,
                          0.5778805272
                        ]
                      },
                      {
                        "iteration": 379,
                        "learn": [
                          0.7977218676,
                          0.4737529371
                        ],
                        "passed_time": 5.54907431,
                        "remaining_time": 1.752339256,
                        "test": [
                          0.7014645137,
                          0.5778432755
                        ]
                      },
                      {
                        "iteration": 380,
                        "learn": [
                          0.7977635916,
                          0.4735824772
                        ],
                        "passed_time": 5.562070061,
                        "remaining_time": 1.737234481,
                        "test": [
                          0.700713481,
                          0.5779203811
                        ]
                      },
                      {
                        "iteration": 381,
                        "learn": [
                          0.7978470397,
                          0.4734037052
                        ],
                        "passed_time": 5.575202645,
                        "remaining_time": 1.722183016,
                        "test": [
                          0.7012141695,
                          0.5779147043
                        ]
                      },
                      {
                        "iteration": 382,
                        "learn": [
                          0.7976801435,
                          0.4732380554
                        ],
                        "passed_time": 5.589073629,
                        "remaining_time": 1.70736714,
                        "test": [
                          0.7012141695,
                          0.5778975951
                        ]
                      },
                      {
                        "iteration": 383,
                        "learn": [
                          0.7978887637,
                          0.4730621868
                        ],
                        "passed_time": 5.601988458,
                        "remaining_time": 1.692267347,
                        "test": [
                          0.7013393416,
                          0.5778404712
                        ]
                      },
                      {
                        "iteration": 384,
                        "learn": [
                          0.7981391079,
                          0.4727965784
                        ],
                        "passed_time": 5.6152136,
                        "remaining_time": 1.677271595,
                        "test": [
                          0.7000876205,
                          0.5779144543
                        ]
                      },
                      {
                        "iteration": 385,
                        "learn": [
                          0.7978887637,
                          0.4726039277
                        ],
                        "passed_time": 5.628663612,
                        "remaining_time": 1.66235143,
                        "test": [
                          0.7000876205,
                          0.5779246045
                        ]
                      },
                      {
                        "iteration": 386,
                        "learn": [
                          0.7980973839,
                          0.4723492216
                        ],
                        "passed_time": 5.644592865,
                        "remaining_time": 1.648162774,
                        "test": [
                          0.7009638253,
                          0.5780202376
                        ]
                      },
                      {
                        "iteration": 387,
                        "learn": [
                          0.7980973839,
                          0.4721215387
                        ],
                        "passed_time": 5.657583015,
                        "remaining_time": 1.633116747,
                        "test": [
                          0.700713481,
                          0.5781013408
                        ]
                      },
                      {
                        "iteration": 388,
                        "learn": [
                          0.7983477281,
                          0.4718694023
                        ],
                        "passed_time": 5.672019783,
                        "remaining_time": 1.618494077,
                        "test": [
                          0.7005883089,
                          0.5781631356
                        ]
                      },
                      {
                        "iteration": 389,
                        "learn": [
                          0.7984729002,
                          0.4716878152
                        ],
                        "passed_time": 5.684868836,
                        "remaining_time": 1.603424543,
                        "test": [
                          0.7000876205,
                          0.578236564
                        ]
                      },
                      {
                        "iteration": 390,
                        "learn": [
                          0.7985146243,
                          0.4714464585
                        ],
                        "passed_time": 5.698625761,
                        "remaining_time": 1.588619458,
                        "test": [
                          0.7005883089,
                          0.5783706574
                        ]
                      },
                      {
                        "iteration": 391,
                        "learn": [
                          0.7987232445,
                          0.4711578434
                        ],
                        "passed_time": 5.711908055,
                        "remaining_time": 1.573688954,
                        "test": [
                          0.6992114157,
                          0.5783857648
                        ]
                      },
                      {
                        "iteration": 392,
                        "learn": [
                          0.7990987608,
                          0.4709292798
                        ],
                        "passed_time": 5.729059472,
                        "remaining_time": 1.559820263,
                        "test": [
                          0.7002127926,
                          0.5783574923
                        ]
                      },
                      {
                        "iteration": 393,
                        "learn": [
                          0.799307381,
                          0.4706532291
                        ],
                        "passed_time": 5.753129466,
                        "remaining_time": 1.547796252,
                        "test": [
                          0.7002127926,
                          0.5784672944
                        ]
                      },
                      {
                        "iteration": 394,
                        "learn": [
                          0.799307381,
                          0.4705122958
                        ],
                        "passed_time": 5.765979606,
                        "remaining_time": 1.532728756,
                        "test": [
                          0.700713481,
                          0.5784683996
                        ]
                      },
                      {
                        "iteration": 395,
                        "learn": [
                          0.7995994492,
                          0.4702506737
                        ],
                        "passed_time": 5.780196568,
                        "remaining_time": 1.518031422,
                        "test": [
                          0.7008386531,
                          0.5784900659
                        ]
                      },
                      {
                        "iteration": 396,
                        "learn": [
                          0.7998080694,
                          0.4700294768
                        ],
                        "passed_time": 5.793935343,
                        "remaining_time": 1.503212444,
                        "test": [
                          0.7005883089,
                          0.5785658251
                        ]
                      },
                      {
                        "iteration": 397,
                        "learn": [
                          0.8001418617,
                          0.4698648994
                        ],
                        "passed_time": 5.807307918,
                        "remaining_time": 1.488305044,
                        "test": [
                          0.7005883089,
                          0.578668245
                        ]
                      },
                      {
                        "iteration": 398,
                        "learn": [
                          0.8000584137,
                          0.469655762
                        ],
                        "passed_time": 5.82110163,
                        "remaining_time": 1.473511942,
                        "test": [
                          0.7003379647,
                          0.5786981823
                        ]
                      },
                      {
                        "iteration": 399,
                        "learn": [
                          0.8001001377,
                          0.4694543985
                        ],
                        "passed_time": 5.834438075,
                        "remaining_time": 1.458609519,
                        "test": [
                          0.6994617599,
                          0.5787727439
                        ]
                      },
                      {
                        "iteration": 400,
                        "learn": [
                          0.8001418617,
                          0.4692420457
                        ],
                        "passed_time": 5.848335159,
                        "remaining_time": 1.443853319,
                        "test": [
                          0.6993365878,
                          0.5789004602
                        ]
                      },
                      {
                        "iteration": 401,
                        "learn": [
                          0.8002670338,
                          0.4690083632
                        ],
                        "passed_time": 5.862382836,
                        "remaining_time": 1.429138104,
                        "test": [
                          0.699586932,
                          0.5789213309
                        ]
                      },
                      {
                        "iteration": 402,
                        "learn": [
                          0.8007677223,
                          0.468790935
                        ],
                        "passed_time": 5.875590595,
                        "remaining_time": 1.414224039,
                        "test": [
                          0.699586932,
                          0.5789302804
                        ]
                      },
                      {
                        "iteration": 403,
                        "learn": [
                          0.8009763425,
                          0.4685883553
                        ],
                        "passed_time": 5.888706437,
                        "remaining_time": 1.399296579,
                        "test": [
                          0.6997121041,
                          0.578948877
                        ]
                      },
                      {
                        "iteration": 404,
                        "learn": [
                          0.8009346184,
                          0.4682643056
                        ],
                        "passed_time": 5.90241087,
                        "remaining_time": 1.38451613,
                        "test": [
                          0.7000876205,
                          0.5789912789
                        ]
                      },
                      {
                        "iteration": 405,
                        "learn": [
                          0.8010597905,
                          0.4681030568
                        ],
                        "passed_time": 5.915605143,
                        "remaining_time": 1.369622866,
                        "test": [
                          0.6997121041,
                          0.5789040327
                        ]
                      },
                      {
                        "iteration": 406,
                        "learn": [
                          0.8008928944,
                          0.4678576663
                        ],
                        "passed_time": 5.928706123,
                        "remaining_time": 1.354716633,
                        "test": [
                          0.6997121041,
                          0.5789070488
                        ]
                      },
                      {
                        "iteration": 407,
                        "learn": [
                          0.8008511704,
                          0.4676438079
                        ],
                        "passed_time": 5.942320806,
                        "remaining_time": 1.339935084,
                        "test": [
                          0.6998372763,
                          0.5788109744
                        ]
                      },
                      {
                        "iteration": 408,
                        "learn": [
                          0.8010597905,
                          0.4674263444
                        ],
                        "passed_time": 5.95575328,
                        "remaining_time": 1.3251187,
                        "test": [
                          0.6998372763,
                          0.5789165528
                        ]
                      },
                      {
                        "iteration": 409,
                        "learn": [
                          0.8013101348,
                          0.4671734802
                        ],
                        "passed_time": 5.969568784,
                        "remaining_time": 1.310393148,
                        "test": [
                          0.7003379647,
                          0.5789344133
                        ]
                      },
                      {
                        "iteration": 410,
                        "learn": [
                          0.8016439271,
                          0.4669839069
                        ],
                        "passed_time": 5.98273199,
                        "remaining_time": 1.295530772,
                        "test": [
                          0.7010889974,
                          0.5788429597
                        ]
                      },
                      {
                        "iteration": 411,
                        "learn": [
                          0.8014353069,
                          0.4667659461
                        ],
                        "passed_time": 6.02058386,
                        "remaining_time": 1.285949951,
                        "test": [
                          0.7010889974,
                          0.5789487556
                        ]
                      },
                      {
                        "iteration": 412,
                        "learn": [
                          0.8019359953,
                          0.4665238481
                        ],
                        "passed_time": 6.051886974,
                        "remaining_time": 1.274852704,
                        "test": [
                          0.7005883089,
                          0.5789982893
                        ]
                      },
                      {
                        "iteration": 413,
                        "learn": [
                          0.8021028915,
                          0.4663961109
                        ],
                        "passed_time": 6.084883928,
                        "remaining_time": 1.264009705,
                        "test": [
                          0.700713481,
                          0.5789829521
                        ]
                      },
                      {
                        "iteration": 414,
                        "learn": [
                          0.8021863396,
                          0.4661585917
                        ],
                        "passed_time": 6.098859254,
                        "remaining_time": 1.249163944,
                        "test": [
                          0.7005883089,
                          0.5790081906
                        ]
                      },
                      {
                        "iteration": 415,
                        "learn": [
                          0.8023115117,
                          0.4659698066
                        ],
                        "passed_time": 6.112685983,
                        "remaining_time": 1.234292362,
                        "test": [
                          0.7008386531,
                          0.5790615723
                        ]
                      },
                      {
                        "iteration": 416,
                        "learn": [
                          0.8025201318,
                          0.4656888598
                        ],
                        "passed_time": 6.126982149,
                        "remaining_time": 1.219519229,
                        "test": [
                          0.7008386531,
                          0.5790536118
                        ]
                      },
                      {
                        "iteration": 417,
                        "learn": [
                          0.8027704761,
                          0.4654583943
                        ],
                        "passed_time": 6.141149962,
                        "remaining_time": 1.204723198,
                        "test": [
                          0.7010889974,
                          0.5791509667
                        ]
                      },
                      {
                        "iteration": 418,
                        "learn": [
                          0.8029790963,
                          0.4652200356
                        ],
                        "passed_time": 6.154838068,
                        "remaining_time": 1.189837431,
                        "test": [
                          0.700713481,
                          0.5792089515
                        ]
                      },
                      {
                        "iteration": 419,
                        "learn": [
                          0.8031877164,
                          0.4650091155
                        ],
                        "passed_time": 6.16895024,
                        "remaining_time": 1.175038141,
                        "test": [
                          0.700713481,
                          0.5792274144
                        ]
                      },
                      {
                        "iteration": 420,
                        "learn": [
                          0.8035215087,
                          0.4647737629
                        ],
                        "passed_time": 6.182665806,
                        "remaining_time": 1.160167693,
                        "test": [
                          0.7012141695,
                          0.5792139006
                        ]
                      },
                      {
                        "iteration": 421,
                        "learn": [
                          0.8039804732,
                          0.4645542671
                        ],
                        "passed_time": 6.196611972,
                        "remaining_time": 1.145345341,
                        "test": [
                          0.7012141695,
                          0.5792733827
                        ]
                      },
                      {
                        "iteration": 422,
                        "learn": [
                          0.8040639212,
                          0.4642335328
                        ],
                        "passed_time": 6.210574516,
                        "remaining_time": 1.130530113,
                        "test": [
                          0.7010889974,
                          0.5792621191
                        ]
                      },
                      {
                        "iteration": 423,
                        "learn": [
                          0.8040221972,
                          0.4640529915
                        ],
                        "passed_time": 6.223866794,
                        "remaining_time": 1.115598765,
                        "test": [
                          0.7012141695,
                          0.5792224225
                        ]
                      },
                      {
                        "iteration": 424,
                        "learn": [
                          0.8041890933,
                          0.4638694159
                        ],
                        "passed_time": 6.237016039,
                        "remaining_time": 1.100649889,
                        "test": [
                          0.7017148579,
                          0.579219015
                        ]
                      },
                      {
                        "iteration": 425,
                        "learn": [
                          0.8043559895,
                          0.4635579188
                        ],
                        "passed_time": 6.250583304,
                        "remaining_time": 1.085782076,
                        "test": [
                          0.7022155464,
                          0.5792711114
                        ]
                      },
                      {
                        "iteration": 426,
                        "learn": [
                          0.8045228856,
                          0.4634293574
                        ],
                        "passed_time": 6.263774043,
                        "remaining_time": 1.070855984,
                        "test": [
                          0.7022155464,
                          0.5792663168
                        ]
                      },
                      {
                        "iteration": 427,
                        "learn": [
                          0.8045228856,
                          0.463326622
                        ],
                        "passed_time": 6.276276143,
                        "remaining_time": 1.055822155,
                        "test": [
                          0.70184003,
                          0.5792660111
                        ]
                      },
                      {
                        "iteration": 428,
                        "learn": [
                          0.8047315058,
                          0.4632164312
                        ],
                        "passed_time": 6.289022833,
                        "remaining_time": 1.040840609,
                        "test": [
                          0.7014645137,
                          0.5792417831
                        ]
                      },
                      {
                        "iteration": 429,
                        "learn": [
                          0.8050652981,
                          0.4629590821
                        ],
                        "passed_time": 6.302253789,
                        "remaining_time": 1.025948291,
                        "test": [
                          0.7017148579,
                          0.5791850263
                        ]
                      },
                      {
                        "iteration": 430,
                        "learn": [
                          0.804940126,
                          0.4628111342
                        ],
                        "passed_time": 6.31570204,
                        "remaining_time": 1.01109847,
                        "test": [
                          0.7015896858,
                          0.5791747865
                        ]
                      },
                      {
                        "iteration": 431,
                        "learn": [
                          0.8047732299,
                          0.4626223208
                        ],
                        "passed_time": 6.328955921,
                        "remaining_time": 0.9962245432,
                        "test": [
                          0.7025910627,
                          0.5791716662
                        ]
                      },
                      {
                        "iteration": 432,
                        "learn": [
                          0.8051904702,
                          0.462420842
                        ],
                        "passed_time": 6.342128497,
                        "remaining_time": 0.981345518,
                        "test": [
                          0.7028414069,
                          0.5790676876
                        ]
                      },
                      {
                        "iteration": 433,
                        "learn": [
                          0.8052739183,
                          0.4622428789
                        ],
                        "passed_time": 6.354742629,
                        "remaining_time": 0.966389432,
                        "test": [
                          0.7024658906,
                          0.579039635
                        ]
                      },
                      {
                        "iteration": 434,
                        "learn": [
                          0.8055242625,
                          0.4621088361
                        ],
                        "passed_time": 6.367795828,
                        "remaining_time": 0.9515097215,
                        "test": [
                          0.7023407185,
                          0.5789954014
                        ]
                      },
                      {
                        "iteration": 435,
                        "learn": [
                          0.8055659866,
                          0.4618562574
                        ],
                        "passed_time": 6.381874588,
                        "remaining_time": 0.9367889304,
                        "test": [
                          0.7024658906,
                          0.578979363
                        ]
                      },
                      {
                        "iteration": 436,
                        "learn": [
                          0.8057328827,
                          0.4616866274
                        ],
                        "passed_time": 6.395038329,
                        "remaining_time": 0.9219391641,
                        "test": [
                          0.7020903743,
                          0.5789856293
                        ]
                      },
                      {
                        "iteration": 437,
                        "learn": [
                          0.8056494346,
                          0.4614228349
                        ],
                        "passed_time": 6.410404941,
                        "remaining_time": 0.9074089185,
                        "test": [
                          0.7022155464,
                          0.5790252642
                        ]
                      },
                      {
                        "iteration": 438,
                        "learn": [
                          0.8059832269,
                          0.461244323
                        ],
                        "passed_time": 6.423579099,
                        "remaining_time": 0.8925702165,
                        "test": [
                          0.7015896858,
                          0.5790556177
                        ]
                      },
                      {
                        "iteration": 439,
                        "learn": [
                          0.8063170192,
                          0.4610284945
                        ],
                        "passed_time": 6.437391016,
                        "remaining_time": 0.8778260476,
                        "test": [
                          0.7017148579,
                          0.5790164239
                        ]
                      },
                      {
                        "iteration": 440,
                        "learn": [
                          0.8066925356,
                          0.4607517536
                        ],
                        "passed_time": 6.451397301,
                        "remaining_time": 0.8631121106,
                        "test": [
                          0.7019652022,
                          0.5790265161
                        ]
                      },
                      {
                        "iteration": 441,
                        "learn": [
                          0.8067342596,
                          0.4605422445
                        ],
                        "passed_time": 6.464581848,
                        "remaining_time": 0.8482935456,
                        "test": [
                          0.7024658906,
                          0.5790260763
                        ]
                      },
                      {
                        "iteration": 442,
                        "learn": [
                          0.8067759836,
                          0.4603102284
                        ],
                        "passed_time": 6.478479962,
                        "remaining_time": 0.8335741712,
                        "test": [
                          0.7015896858,
                          0.5789962576
                        ]
                      },
                      {
                        "iteration": 443,
                        "learn": [
                          0.8069428798,
                          0.4600952148
                        ],
                        "passed_time": 6.493338146,
                        "remaining_time": 0.818979586,
                        "test": [
                          0.7017148579,
                          0.5790246737
                        ]
                      },
                      {
                        "iteration": 444,
                        "learn": [
                          0.8075270163,
                          0.4597666093
                        ],
                        "passed_time": 6.506770809,
                        "remaining_time": 0.8042076281,
                        "test": [
                          0.7010889974,
                          0.5789796173
                        ]
                      },
                      {
                        "iteration": 445,
                        "learn": [
                          0.8075270163,
                          0.459458429
                        ],
                        "passed_time": 6.520825814,
                        "remaining_time": 0.7895170269,
                        "test": [
                          0.7010889974,
                          0.5789613483
                        ]
                      },
                      {
                        "iteration": 446,
                        "learn": [
                          0.8074435682,
                          0.459107854
                        ],
                        "passed_time": 6.534386612,
                        "remaining_time": 0.7747706721,
                        "test": [
                          0.7014645137,
                          0.5790091851
                        ]
                      },
                      {
                        "iteration": 447,
                        "learn": [
                          0.8076104644,
                          0.4588648227
                        ],
                        "passed_time": 6.55279663,
                        "remaining_time": 0.760592466,
                        "test": [
                          0.7012141695,
                          0.5790239494
                        ]
                      },
                      {
                        "iteration": 448,
                        "learn": [
                          0.8077773605,
                          0.4587509756
                        ],
                        "passed_time": 6.56563821,
                        "remaining_time": 0.7457629148,
                        "test": [
                          0.7008386531,
                          0.5790705308
                        ]
                      },
                      {
                        "iteration": 449,
                        "learn": [
                          0.8079025326,
                          0.4586307591
                        ],
                        "passed_time": 6.5792532,
                        "remaining_time": 0.7310281333,
                        "test": [
                          0.7010889974,
                          0.5791301528
                        ]
                      },
                      {
                        "iteration": 450,
                        "learn": [
                          0.8081528769,
                          0.4584639667
                        ],
                        "passed_time": 6.592527392,
                        "remaining_time": 0.716261291,
                        "test": [
                          0.7014645137,
                          0.5791042385
                        ]
                      },
                      {
                        "iteration": 451,
                        "learn": [
                          0.8080277048,
                          0.4582404485
                        ],
                        "passed_time": 6.605880537,
                        "remaining_time": 0.7015094376,
                        "test": [
                          0.7014645137,
                          0.5790303406
                        ]
                      },
                      {
                        "iteration": 452,
                        "learn": [
                          0.8083614971,
                          0.4580634229
                        ],
                        "passed_time": 6.618992656,
                        "remaining_time": 0.6867387524,
                        "test": [
                          0.7015896858,
                          0.5790396144
                        ]
                      },
                      {
                        "iteration": 453,
                        "learn": [
                          0.8088204615,
                          0.4578883436
                        ],
                        "passed_time": 6.632375904,
                        "remaining_time": 0.6720028449,
                        "test": [
                          0.7015896858,
                          0.5790790074
                        ]
                      },
                      {
                        "iteration": 454,
                        "learn": [
                          0.8091542538,
                          0.4577279833
                        ],
                        "passed_time": 6.646452438,
                        "remaining_time": 0.6573414499,
                        "test": [
                          0.70184003,
                          0.5790631996
                        ]
                      },
                      {
                        "iteration": 455,
                        "learn": [
                          0.8091542538,
                          0.4574812508
                        ],
                        "passed_time": 6.660305956,
                        "remaining_time": 0.642661101,
                        "test": [
                          0.7022155464,
                          0.5790237814
                        ]
                      },
                      {
                        "iteration": 456,
                        "learn": [
                          0.8090290817,
                          0.4572226695
                        ],
                        "passed_time": 6.674501156,
                        "remaining_time": 0.6280165201,
                        "test": [
                          0.7019652022,
                          0.5790106895
                        ]
                      },
                      {
                        "iteration": 457,
                        "learn": [
                          0.8088621855,
                          0.4570755686
                        ],
                        "passed_time": 6.687279254,
                        "remaining_time": 0.613243949,
                        "test": [
                          0.7020903743,
                          0.5790143119
                        ]
                      },
                      {
                        "iteration": 458,
                        "learn": [
                          0.8097383903,
                          0.4568206856
                        ],
                        "passed_time": 6.700656196,
                        "remaining_time": 0.59853356,
                        "test": [
                          0.702966579,
                          0.5790791614
                        ]
                      },
                      {
                        "iteration": 459,
                        "learn": [
                          0.8096132182,
                          0.4565694075
                        ],
                        "passed_time": 6.713921396,
                        "remaining_time": 0.5838192518,
                        "test": [
                          0.7030917512,
                          0.579130054
                        ]
                      },
                      {
                        "iteration": 460,
                        "learn": [
                          0.8099470105,
                          0.4563377071
                        ],
                        "passed_time": 6.727908778,
                        "remaining_time": 0.5691723261,
                        "test": [
                          0.7028414069,
                          0.5791390197
                        ]
                      },
                      {
                        "iteration": 461,
                        "learn": [
                          0.8102808028,
                          0.4561667692
                        ],
                        "passed_time": 6.746700144,
                        "remaining_time": 0.5549233885,
                        "test": [
                          0.7032169233,
                          0.5791461742
                        ]
                      },
                      {
                        "iteration": 462,
                        "learn": [
                          0.8102808028,
                          0.4559794557
                        ],
                        "passed_time": 6.762693421,
                        "remaining_time": 0.5404312237,
                        "test": [
                          0.7034672675,
                          0.5791770232
                        ]
                      },
                      {
                        "iteration": 463,
                        "learn": [
                          0.8102808028,
                          0.4557919478
                        ],
                        "passed_time": 6.776138939,
                        "remaining_time": 0.5257349176,
                        "test": [
                          0.702966579,
                          0.5791779549
                        ]
                      },
                      {
                        "iteration": 464,
                        "learn": [
                          0.8108232153,
                          0.4555730544
                        ],
                        "passed_time": 6.789433466,
                        "remaining_time": 0.5110326264,
                        "test": [
                          0.7025910627,
                          0.579233918
                        ]
                      },
                      {
                        "iteration": 465,
                        "learn": [
                          0.8111987316,
                          0.4553486782
                        ],
                        "passed_time": 6.802881985,
                        "remaining_time": 0.4963476127,
                        "test": [
                          0.7024658906,
                          0.579224304
                        ]
                      },
                      {
                        "iteration": 466,
                        "learn": [
                          0.8112404556,
                          0.4551498087
                        ],
                        "passed_time": 6.815644886,
                        "remaining_time": 0.4816194459,
                        "test": [
                          0.702966579,
                          0.5793637911
                        ]
                      },
                      {
                        "iteration": 467,
                        "learn": [
                          0.8111987316,
                          0.4549773072
                        ],
                        "passed_time": 6.828382089,
                        "remaining_time": 0.4668979206,
                        "test": [
                          0.702966579,
                          0.5793342014
                        ]
                      },
                      {
                        "iteration": 468,
                        "learn": [
                          0.8112404556,
                          0.4547093127
                        ],
                        "passed_time": 6.842606559,
                        "remaining_time": 0.4522831628,
                        "test": [
                          0.7024658906,
                          0.5792480018
                        ]
                      },
                      {
                        "iteration": 469,
                        "learn": [
                          0.8111570076,
                          0.4544866641
                        ],
                        "passed_time": 6.855793531,
                        "remaining_time": 0.4376038424,
                        "test": [
                          0.702966579,
                          0.5792537907
                        ]
                      },
                      {
                        "iteration": 470,
                        "learn": [
                          0.8115742479,
                          0.4542712083
                        ],
                        "passed_time": 6.869166935,
                        "remaining_time": 0.4229423378,
                        "test": [
                          0.7030917512,
                          0.5792533434
                        ]
                      },
                      {
                        "iteration": 471,
                        "learn": [
                          0.8117828681,
                          0.4541208211
                        ],
                        "passed_time": 6.882947171,
                        "remaining_time": 0.4083104254,
                        "test": [
                          0.7028414069,
                          0.579307538
                        ]
                      },
                      {
                        "iteration": 472,
                        "learn": [
                          0.8115325239,
                          0.4539433464
                        ],
                        "passed_time": 6.896628116,
                        "remaining_time": 0.3936764464,
                        "test": [
                          0.702966579,
                          0.579453302
                        ]
                      },
                      {
                        "iteration": 473,
                        "learn": [
                          0.811657696,
                          0.4537743082
                        ],
                        "passed_time": 6.910326895,
                        "remaining_time": 0.3790474668,
                        "test": [
                          0.7025910627,
                          0.5795292937
                        ]
                      },
                      {
                        "iteration": 474,
                        "learn": [
                          0.8121166604,
                          0.4535615468
                        ],
                        "passed_time": 6.924822901,
                        "remaining_time": 0.3644643632,
                        "test": [
                          0.7028414069,
                          0.5795811173
                        ]
                      },
                      {
                        "iteration": 475,
                        "learn": [
                          0.8121166604,
                          0.4533895249
                        ],
                        "passed_time": 6.937889023,
                        "remaining_time": 0.3498095306,
                        "test": [
                          0.7027162348,
                          0.5795836912
                        ]
                      },
                      {
                        "iteration": 476,
                        "learn": [
                          0.8121583844,
                          0.4531816866
                        ],
                        "passed_time": 6.951470286,
                        "remaining_time": 0.3351861983,
                        "test": [
                          0.7032169233,
                          0.5795828884
                        ]
                      },
                      {
                        "iteration": 477,
                        "learn": [
                          0.8124504527,
                          0.4530243845
                        ],
                        "passed_time": 6.964700017,
                        "remaining_time": 0.3205510468,
                        "test": [
                          0.7033420954,
                          0.5795801182
                        ]
                      },
                      {
                        "iteration": 478,
                        "learn": [
                          0.8124087287,
                          0.4528238569
                        ],
                        "passed_time": 6.97815902,
                        "remaining_time": 0.3059318151,
                        "test": [
                          0.7035924396,
                          0.5796096703
                        ]
                      },
                      {
                        "iteration": 479,
                        "learn": [
                          0.8125756248,
                          0.452705859
                        ],
                        "passed_time": 6.991149596,
                        "remaining_time": 0.2912978998,
                        "test": [
                          0.7035924396,
                          0.5795985067
                        ]
                      },
                      {
                        "iteration": 480,
                        "learn": [
                          0.812825969,
                          0.452540105
                        ],
                        "passed_time": 7.004477698,
                        "remaining_time": 0.2766841502,
                        "test": [
                          0.7033420954,
                          0.5795468249
                        ]
                      },
                      {
                        "iteration": 481,
                        "learn": [
                          0.8129511412,
                          0.4523511567
                        ],
                        "passed_time": 7.047360279,
                        "remaining_time": 0.2631794295,
                        "test": [
                          0.7032169233,
                          0.5795921606
                        ]
                      },
                      {
                        "iteration": 482,
                        "learn": [
                          0.8132432094,
                          0.4521802902
                        ],
                        "passed_time": 7.090700828,
                        "remaining_time": 0.2495691803,
                        "test": [
                          0.7035924396,
                          0.5795838783
                        ]
                      },
                      {
                        "iteration": 483,
                        "learn": [
                          0.8132014854,
                          0.4520353661
                        ],
                        "passed_time": 7.109828245,
                        "remaining_time": 0.2350356445,
                        "test": [
                          0.7033420954,
                          0.5796891063
                        ]
                      },
                      {
                        "iteration": 484,
                        "learn": [
                          0.8132432094,
                          0.4518760239
                        ],
                        "passed_time": 7.123586328,
                        "remaining_time": 0.2203171029,
                        "test": [
                          0.7032169233,
                          0.5796894101
                        ]
                      },
                      {
                        "iteration": 485,
                        "learn": [
                          0.8132014854,
                          0.45164543
                        ],
                        "passed_time": 7.137540175,
                        "remaining_time": 0.2056081532,
                        "test": [
                          0.7033420954,
                          0.5796827989
                        ]
                      },
                      {
                        "iteration": 486,
                        "learn": [
                          0.8134101056,
                          0.4515256212
                        ],
                        "passed_time": 7.150785053,
                        "remaining_time": 0.1908833792,
                        "test": [
                          0.7032169233,
                          0.5797224941
                        ]
                      },
                      {
                        "iteration": 487,
                        "learn": [
                          0.8137021738,
                          0.4513560222
                        ],
                        "passed_time": 7.164248947,
                        "remaining_time": 0.1761700561,
                        "test": [
                          0.702966579,
                          0.5798290719
                        ]
                      },
                      {
                        "iteration": 488,
                        "learn": [
                          0.8135352777,
                          0.4512410145
                        ],
                        "passed_time": 7.177829123,
                        "remaining_time": 0.1614644588,
                        "test": [
                          0.7027162348,
                          0.5798737071
                        ]
                      },
                      {
                        "iteration": 489,
                        "learn": [
                          0.8138273459,
                          0.4510431554
                        ],
                        "passed_time": 7.19105986,
                        "remaining_time": 0.1467563237,
                        "test": [
                          0.7023407185,
                          0.5798570881
                        ]
                      },
                      {
                        "iteration": 490,
                        "learn": [
                          0.8136187257,
                          0.4508167228
                        ],
                        "passed_time": 7.205244388,
                        "remaining_time": 0.1320716894,
                        "test": [
                          0.7024658906,
                          0.5798764285
                        ]
                      },
                      {
                        "iteration": 491,
                        "learn": [
                          0.8136604498,
                          0.4505780073
                        ],
                        "passed_time": 7.219314023,
                        "remaining_time": 0.1173872199,
                        "test": [
                          0.7025910627,
                          0.5799278058
                        ]
                      },
                      {
                        "iteration": 492,
                        "learn": [
                          0.8142028623,
                          0.4503613424
                        ],
                        "passed_time": 7.233037315,
                        "remaining_time": 0.102700327,
                        "test": [
                          0.7023407185,
                          0.5800200097
                        ]
                      },
                      {
                        "iteration": 493,
                        "learn": [
                          0.8142863103,
                          0.450254714
                        ],
                        "passed_time": 7.246021492,
                        "remaining_time": 0.0880083582,
                        "test": [
                          0.7020903743,
                          0.5801062013
                        ]
                      },
                      {
                        "iteration": 494,
                        "learn": [
                          0.8147452748,
                          0.4500960959
                        ],
                        "passed_time": 7.259174484,
                        "remaining_time": 0.07332499479,
                        "test": [
                          0.7023407185,
                          0.5801537997
                        ]
                      },
                      {
                        "iteration": 495,
                        "learn": [
                          0.8142863103,
                          0.4499304806
                        ],
                        "passed_time": 7.272608737,
                        "remaining_time": 0.05865007046,
                        "test": [
                          0.7027162348,
                          0.5801557477
                        ]
                      },
                      {
                        "iteration": 496,
                        "learn": [
                          0.8144949305,
                          0.4497343849
                        ],
                        "passed_time": 7.286115497,
                        "remaining_time": 0.04398057644,
                        "test": [
                          0.702966579,
                          0.580094655
                        ]
                      },
                      {
                        "iteration": 497,
                        "learn": [
                          0.8148287228,
                          0.4495244318
                        ],
                        "passed_time": 7.299842308,
                        "remaining_time": 0.02931663577,
                        "test": [
                          0.7019652022,
                          0.5800597143
                        ]
                      },
                      {
                        "iteration": 498,
                        "learn": [
                          0.8147452748,
                          0.4493783345
                        ],
                        "passed_time": 7.312813102,
                        "remaining_time": 0.01465493608,
                        "test": [
                          0.7024658906,
                          0.5800923495
                        ]
                      },
                      {
                        "iteration": 499,
                        "learn": [
                          0.8150790671,
                          0.449171228
                        ],
                        "passed_time": 7.326031512,
                        "remaining_time": 0,
                        "test": [
                          0.702966579,
                          0.5800845872
                        ]
                      }
                    ],
                    "meta": {
                      "iteration_count": 500,
                      "launch_mode": "Train",
                      "learn_metrics": [
                        {
                          "best_value": "Max",
                          "name": "Accuracy"
                        },
                        {
                          "best_value": "Min",
                          "name": "Logloss"
                        }
                      ],
                      "learn_sets": [
                        "learn"
                      ],
                      "name": "experiment",
                      "parameters": "",
                      "test_metrics": [
                        {
                          "best_value": "Max",
                          "name": "Accuracy"
                        },
                        {
                          "best_value": "Min",
                          "name": "Logloss"
                        }
                      ],
                      "test_sets": [
                        "test"
                      ]
                    }
                  },
                  "passed_iterations": 499,
                  "total_iterations": 500
                },
                "name": "catboost_info",
                "path": "catboost_info"
              }
            },
            "layout": "IPY_MODEL_59ae0b012be74d3c968f5c306b604ded"
          }
        },
        "d8983083b68c401eaec0df816fcc41db": {
          "model_module": "catboost-widget",
          "model_module_version": "^1.0.0",
          "model_name": "CatboostWidgetModel",
          "state": {
            "_dom_classes": [],
            "_model_module": "catboost-widget",
            "_model_module_version": "^1.0.0",
            "_model_name": "CatboostWidgetModel",
            "_view_count": null,
            "_view_module": "catboost-widget",
            "_view_module_version": "^1.0.0",
            "_view_name": "CatboostWidgetView",
            "data": {
              "catboost_info/fold-0": {
                "content": {
                  "data": {
                    "iterations": [
                      {
                        "iteration": 0,
                        "learn": [
                          0.751216968,
                          1.018163549
                        ],
                        "passed_time": 0.01761852777,
                        "remaining_time": 8.791645356,
                        "test": [
                          0.7515790694,
                          1.018207221
                        ]
                      },
                      {
                        "iteration": 1,
                        "learn": [
                          0.751622624,
                          0.9570976361
                        ],
                        "passed_time": 0.03305943477,
                        "remaining_time": 8.231799258,
                        "test": [
                          0.7529118619,
                          0.9571666215
                        ]
                      },
                      {
                        "iteration": 2,
                        "learn": [
                          0.7512459434,
                          0.9088987359
                        ],
                        "passed_time": 0.04790136418,
                        "remaining_time": 7.935659333,
                        "test": [
                          0.7522744394,
                          0.9091749379
                        ]
                      },
                      {
                        "iteration": 3,
                        "learn": [
                          0.7513618452,
                          0.8707010443
                        ],
                        "passed_time": 0.06368929598,
                        "remaining_time": 7.897472702,
                        "test": [
                          0.7518688069,
                          0.8711260343
                        ]
                      },
                      {
                        "iteration": 4,
                        "learn": [
                          0.7519123783,
                          0.8399406722
                        ],
                        "passed_time": 0.07889835855,
                        "remaining_time": 7.810937497,
                        "test": [
                          0.7530277569,
                          0.8404399657
                        ]
                      },
                      {
                        "iteration": 5,
                        "learn": [
                          0.751825452,
                          0.814916658
                        ],
                        "passed_time": 0.09340755168,
                        "remaining_time": 7.690555088,
                        "test": [
                          0.7530277569,
                          0.8154513762
                        ]
                      },
                      {
                        "iteration": 6,
                        "learn": [
                          0.7521152063,
                          0.7940344259
                        ],
                        "passed_time": 0.1082060174,
                        "remaining_time": 7.620795223,
                        "test": [
                          0.7527380194,
                          0.7944984141
                        ]
                      },
                      {
                        "iteration": 7,
                        "learn": [
                          0.7524918869,
                          0.7764542007
                        ],
                        "passed_time": 0.1227988309,
                        "remaining_time": 7.552128103,
                        "test": [
                          0.7534333893,
                          0.7770825543
                        ]
                      },
                      {
                        "iteration": 8,
                        "learn": [
                          0.752231108,
                          0.7619681617
                        ],
                        "passed_time": 0.13767639,
                        "remaining_time": 7.511011945,
                        "test": [
                          0.7530857044,
                          0.7628162783
                        ]
                      },
                      {
                        "iteration": 9,
                        "learn": [
                          0.7522890589,
                          0.7496723259
                        ],
                        "passed_time": 0.1573268384,
                        "remaining_time": 7.709015079,
                        "test": [
                          0.7532595469,
                          0.7506520156
                        ]
                      },
                      {
                        "iteration": 10,
                        "learn": [
                          0.7523759852,
                          0.739450572
                        ],
                        "passed_time": 0.1728846467,
                        "remaining_time": 7.685508386,
                        "test": [
                          0.7533754418,
                          0.740678453
                        ]
                      },
                      {
                        "iteration": 11,
                        "learn": [
                          0.7521731572,
                          0.7310604511
                        ],
                        "passed_time": 0.1881993482,
                        "remaining_time": 7.653440161,
                        "test": [
                          0.7534333893,
                          0.7323328912
                        ]
                      },
                      {
                        "iteration": 12,
                        "learn": [
                          0.7525208623,
                          0.7238855108
                        ],
                        "passed_time": 0.2031270718,
                        "remaining_time": 7.609452614,
                        "test": [
                          0.7535492843,
                          0.7252123317
                        ]
                      },
                      {
                        "iteration": 13,
                        "learn": [
                          0.7524918869,
                          0.7178453427
                        ],
                        "passed_time": 0.2177560983,
                        "remaining_time": 7.559247413,
                        "test": [
                          0.7538390218,
                          0.719298044
                        ]
                      },
                      {
                        "iteration": 14,
                        "learn": [
                          0.7523759852,
                          0.7127669521
                        ],
                        "passed_time": 0.2324162092,
                        "remaining_time": 7.514790764,
                        "test": [
                          0.7537231268,
                          0.7144022839
                        ]
                      },
                      {
                        "iteration": 15,
                        "learn": [
                          0.7524918869,
                          0.7082933513
                        ],
                        "passed_time": 0.2475831222,
                        "remaining_time": 7.489389446,
                        "test": [
                          0.7541287593,
                          0.7100729499
                        ]
                      },
                      {
                        "iteration": 16,
                        "learn": [
                          0.7525208623,
                          0.7045918102
                        ],
                        "passed_time": 0.262547436,
                        "remaining_time": 7.459435976,
                        "test": [
                          0.7543026018,
                          0.7065858437
                        ]
                      },
                      {
                        "iteration": 17,
                        "learn": [
                          0.752636764,
                          0.7014643576
                        ],
                        "passed_time": 0.2775342615,
                        "remaining_time": 7.431750779,
                        "test": [
                          0.7540708118,
                          0.7034741927
                        ]
                      },
                      {
                        "iteration": 18,
                        "learn": [
                          0.7526077886,
                          0.6987060702
                        ],
                        "passed_time": 0.2926522977,
                        "remaining_time": 7.408723958,
                        "test": [
                          0.7540708118,
                          0.7007591512
                        ]
                      },
                      {
                        "iteration": 19,
                        "learn": [
                          0.7526657395,
                          0.696200063
                        ],
                        "passed_time": 0.3076143369,
                        "remaining_time": 7.382744085,
                        "test": [
                          0.7538390218,
                          0.6984558849
                        ]
                      },
                      {
                        "iteration": 20,
                        "learn": [
                          0.7527236903,
                          0.6942144147
                        ],
                        "passed_time": 0.3230584349,
                        "remaining_time": 7.368809064,
                        "test": [
                          0.7539549168,
                          0.6966220697
                        ]
                      },
                      {
                        "iteration": 21,
                        "learn": [
                          0.7527236903,
                          0.6925369005
                        ],
                        "passed_time": 0.3383167902,
                        "remaining_time": 7.350701169,
                        "test": [
                          0.7539549168,
                          0.695070413
                        ]
                      },
                      {
                        "iteration": 22,
                        "learn": [
                          0.7527236903,
                          0.6911427474
                        ],
                        "passed_time": 0.3539903276,
                        "remaining_time": 7.341451576,
                        "test": [
                          0.7538969693,
                          0.6938070798
                        ]
                      },
                      {
                        "iteration": 23,
                        "learn": [
                          0.752636764,
                          0.6900065345
                        ],
                        "passed_time": 0.3691037081,
                        "remaining_time": 7.320556878,
                        "test": [
                          0.7538969693,
                          0.6927137563
                        ]
                      },
                      {
                        "iteration": 24,
                        "learn": [
                          0.7525498377,
                          0.6889527556
                        ],
                        "passed_time": 0.3871585292,
                        "remaining_time": 7.356012055,
                        "test": [
                          0.7538969693,
                          0.6917980356
                        ]
                      },
                      {
                        "iteration": 25,
                        "learn": [
                          0.7527816412,
                          0.6878033811
                        ],
                        "passed_time": 0.4025635261,
                        "remaining_time": 7.339042744,
                        "test": [
                          0.7537810743,
                          0.6908619289
                        ]
                      },
                      {
                        "iteration": 26,
                        "learn": [
                          0.7528106166,
                          0.68663664
                        ],
                        "passed_time": 0.4205713596,
                        "remaining_time": 7.367787151,
                        "test": [
                          0.7537231268,
                          0.6898615834
                        ]
                      },
                      {
                        "iteration": 27,
                        "learn": [
                          0.7527236903,
                          0.6856957913
                        ],
                        "passed_time": 0.4467591868,
                        "remaining_time": 7.531083434,
                        "test": [
                          0.7538969693,
                          0.6890872426
                        ]
                      },
                      {
                        "iteration": 28,
                        "learn": [
                          0.7526657395,
                          0.6848503621
                        ],
                        "passed_time": 0.4631377966,
                        "remaining_time": 7.521996628,
                        "test": [
                          0.7540708118,
                          0.6885119098
                        ]
                      },
                      {
                        "iteration": 29,
                        "learn": [
                          0.7528975429,
                          0.6843648562
                        ],
                        "passed_time": 0.477838277,
                        "remaining_time": 7.486133006,
                        "test": [
                          0.7536651793,
                          0.6881277813
                        ]
                      },
                      {
                        "iteration": 30,
                        "learn": [
                          0.7528975429,
                          0.6837554598
                        ],
                        "passed_time": 0.4930382291,
                        "remaining_time": 7.459191272,
                        "test": [
                          0.7538969693,
                          0.6877104029
                        ]
                      },
                      {
                        "iteration": 31,
                        "learn": [
                          0.7527816412,
                          0.6831169308
                        ],
                        "passed_time": 0.5085645543,
                        "remaining_time": 7.437756607,
                        "test": [
                          0.7539549168,
                          0.6870876075
                        ]
                      },
                      {
                        "iteration": 32,
                        "learn": [
                          0.75304242,
                          0.6826357755
                        ],
                        "passed_time": 0.5275623499,
                        "remaining_time": 7.465806588,
                        "test": [
                          0.7538969693,
                          0.6867200095
                        ]
                      },
                      {
                        "iteration": 33,
                        "learn": [
                          0.7528685675,
                          0.6821605769
                        ],
                        "passed_time": 0.5433579926,
                        "remaining_time": 7.447200722,
                        "test": [
                          0.7540128643,
                          0.6863951751
                        ]
                      },
                      {
                        "iteration": 34,
                        "learn": [
                          0.7528975429,
                          0.6816852603
                        ],
                        "passed_time": 0.5591072327,
                        "remaining_time": 7.428138949,
                        "test": [
                          0.7541287593,
                          0.6861135197
                        ]
                      },
                      {
                        "iteration": 35,
                        "learn": [
                          0.7527816412,
                          0.681194758
                        ],
                        "passed_time": 0.5744363136,
                        "remaining_time": 7.40384582,
                        "test": [
                          0.7541287593,
                          0.6857508906
                        ]
                      },
                      {
                        "iteration": 36,
                        "learn": [
                          0.7528106166,
                          0.6806556291
                        ],
                        "passed_time": 0.589518002,
                        "remaining_time": 7.376941484,
                        "test": [
                          0.7541867068,
                          0.685344752
                        ]
                      },
                      {
                        "iteration": 37,
                        "learn": [
                          0.752839592,
                          0.6802342059
                        ],
                        "passed_time": 0.6051098063,
                        "remaining_time": 7.356861329,
                        "test": [
                          0.7543605493,
                          0.6850001398
                        ]
                      },
                      {
                        "iteration": 38,
                        "learn": [
                          0.7528975429,
                          0.6798334422
                        ],
                        "passed_time": 0.6205146186,
                        "remaining_time": 7.334801005,
                        "test": [
                          0.7543026018,
                          0.6846978083
                        ]
                      },
                      {
                        "iteration": 39,
                        "learn": [
                          0.7529265183,
                          0.6795811737
                        ],
                        "passed_time": 0.635619581,
                        "remaining_time": 7.309625181,
                        "test": [
                          0.7544184968,
                          0.6845750298
                        ]
                      },
                      {
                        "iteration": 40,
                        "learn": [
                          0.7530134446,
                          0.6792237178
                        ],
                        "passed_time": 0.6515645081,
                        "remaining_time": 7.294344128,
                        "test": [
                          0.7544184968,
                          0.684393346
                        ]
                      },
                      {
                        "iteration": 41,
                        "learn": [
                          0.7529265183,
                          0.6789408679
                        ],
                        "passed_time": 0.6668381119,
                        "remaining_time": 7.27171084,
                        "test": [
                          0.7542446543,
                          0.6842239076
                        ]
                      },
                      {
                        "iteration": 42,
                        "learn": [
                          0.7527816412,
                          0.678644317
                        ],
                        "passed_time": 0.6816797722,
                        "remaining_time": 7.244829207,
                        "test": [
                          0.7542446543,
                          0.6842020636
                        ]
                      },
                      {
                        "iteration": 43,
                        "learn": [
                          0.7530134446,
                          0.678361585
                        ],
                        "passed_time": 0.6967608428,
                        "remaining_time": 7.220976008,
                        "test": [
                          0.7543026018,
                          0.6840634746
                        ]
                      },
                      {
                        "iteration": 44,
                        "learn": [
                          0.7530134446,
                          0.678112299
                        ],
                        "passed_time": 0.7128342024,
                        "remaining_time": 7.207545825,
                        "test": [
                          0.7544764443,
                          0.6839542006
                        ]
                      },
                      {
                        "iteration": 45,
                        "learn": [
                          0.7530134446,
                          0.6778053473
                        ],
                        "passed_time": 0.7283451051,
                        "remaining_time": 7.188449515,
                        "test": [
                          0.7544764443,
                          0.6838782417
                        ]
                      },
                      {
                        "iteration": 46,
                        "learn": [
                          0.7529844692,
                          0.6775640086
                        ],
                        "passed_time": 0.7435095379,
                        "remaining_time": 7.166166398,
                        "test": [
                          0.7544184968,
                          0.6837288714
                        ]
                      },
                      {
                        "iteration": 47,
                        "learn": [
                          0.7529844692,
                          0.677071563
                        ],
                        "passed_time": 0.7592995585,
                        "remaining_time": 7.150070842,
                        "test": [
                          0.7541867068,
                          0.6832869801
                        ]
                      },
                      {
                        "iteration": 48,
                        "learn": [
                          0.7529554937,
                          0.676664679
                        ],
                        "passed_time": 0.775236742,
                        "remaining_time": 7.135342258,
                        "test": [
                          0.7542446543,
                          0.6830326378
                        ]
                      },
                      {
                        "iteration": 49,
                        "learn": [
                          0.7529554937,
                          0.6764064217
                        ],
                        "passed_time": 0.7901402916,
                        "remaining_time": 7.111262625,
                        "test": [
                          0.7542446543,
                          0.6829077525
                        ]
                      },
                      {
                        "iteration": 50,
                        "learn": [
                          0.7530134446,
                          0.6761333456
                        ],
                        "passed_time": 0.8056867907,
                        "remaining_time": 7.093203315,
                        "test": [
                          0.7541867068,
                          0.6827375662
                        ]
                      },
                      {
                        "iteration": 51,
                        "learn": [
                          0.7529554937,
                          0.6758885627
                        ],
                        "passed_time": 0.8207341159,
                        "remaining_time": 7.070940075,
                        "test": [
                          0.7542446543,
                          0.6826062231
                        ]
                      },
                      {
                        "iteration": 52,
                        "learn": [
                          0.7530134446,
                          0.6757542032
                        ],
                        "passed_time": 0.8351542964,
                        "remaining_time": 7.043659821,
                        "test": [
                          0.7543026018,
                          0.6825597226
                        ]
                      },
                      {
                        "iteration": 53,
                        "learn": [
                          0.7529844692,
                          0.6755827152
                        ],
                        "passed_time": 0.8501912342,
                        "remaining_time": 7.021949823,
                        "test": [
                          0.7544184968,
                          0.6825191401
                        ]
                      },
                      {
                        "iteration": 54,
                        "learn": [
                          0.7532162726,
                          0.6754083789
                        ],
                        "passed_time": 0.8650471389,
                        "remaining_time": 6.99901776,
                        "test": [
                          0.7543605493,
                          0.6824524544
                        ]
                      },
                      {
                        "iteration": 55,
                        "learn": [
                          0.753448076,
                          0.6752769209
                        ],
                        "passed_time": 0.8790069908,
                        "remaining_time": 6.969269713,
                        "test": [
                          0.7543605493,
                          0.6824197294
                        ]
                      },
                      {
                        "iteration": 56,
                        "learn": [
                          0.7533901252,
                          0.6750191547
                        ],
                        "passed_time": 0.8945284903,
                        "remaining_time": 6.952212653,
                        "test": [
                          0.7543605493,
                          0.6823597224
                        ]
                      },
                      {
                        "iteration": 57,
                        "learn": [
                          0.7534191006,
                          0.6748902488
                        ],
                        "passed_time": 0.9090164719,
                        "remaining_time": 6.927332423,
                        "test": [
                          0.7544764443,
                          0.682306804
                        ]
                      },
                      {
                        "iteration": 58,
                        "learn": [
                          0.7534770515,
                          0.6746081276
                        ],
                        "passed_time": 0.9242892647,
                        "remaining_time": 6.908670606,
                        "test": [
                          0.7544764443,
                          0.6821389549
                        ]
                      },
                      {
                        "iteration": 59,
                        "learn": [
                          0.7533901252,
                          0.6743731434
                        ],
                        "passed_time": 0.9509811407,
                        "remaining_time": 6.973861699,
                        "test": [
                          0.7546502868,
                          0.6819771311
                        ]
                      },
                      {
                        "iteration": 60,
                        "learn": [
                          0.7535350023,
                          0.6741243708
                        ],
                        "passed_time": 0.9661912488,
                        "remaining_time": 6.953409151,
                        "test": [
                          0.7546502868,
                          0.6818157209
                        ]
                      },
                      {
                        "iteration": 61,
                        "learn": [
                          0.7534770515,
                          0.673967567
                        ],
                        "passed_time": 0.9813455461,
                        "remaining_time": 6.932731439,
                        "test": [
                          0.7545923393,
                          0.6817487514
                        ]
                      },
                      {
                        "iteration": 62,
                        "learn": [
                          0.7533321743,
                          0.6737948866
                        ],
                        "passed_time": 0.9995303293,
                        "remaining_time": 6.933250062,
                        "test": [
                          0.7545343918,
                          0.6816707682
                        ]
                      },
                      {
                        "iteration": 63,
                        "learn": [
                          0.7533901252,
                          0.6736291102
                        ],
                        "passed_time": 1.014922576,
                        "remaining_time": 6.914160048,
                        "test": [
                          0.7545923393,
                          0.6816232124
                        ]
                      },
                      {
                        "iteration": 64,
                        "learn": [
                          0.7534191006,
                          0.6734660343
                        ],
                        "passed_time": 1.029306222,
                        "remaining_time": 6.888433945,
                        "test": [
                          0.7543605493,
                          0.6815586068
                        ]
                      },
                      {
                        "iteration": 65,
                        "learn": [
                          0.753448076,
                          0.6733333053
                        ],
                        "passed_time": 1.044716748,
                        "remaining_time": 6.869804073,
                        "test": [
                          0.7543605493,
                          0.6815139568
                        ]
                      },
                      {
                        "iteration": 66,
                        "learn": [
                          0.753448076,
                          0.6732140342
                        ],
                        "passed_time": 1.061030055,
                        "remaining_time": 6.857104682,
                        "test": [
                          0.7544764443,
                          0.6814827776
                        ]
                      },
                      {
                        "iteration": 67,
                        "learn": [
                          0.753448076,
                          0.673102264
                        ],
                        "passed_time": 1.075702532,
                        "remaining_time": 6.83387491,
                        "test": [
                          0.7544764443,
                          0.6814508187
                        ]
                      },
                      {
                        "iteration": 68,
                        "learn": [
                          0.7533901252,
                          0.6727800413
                        ],
                        "passed_time": 1.092949981,
                        "remaining_time": 6.826977416,
                        "test": [
                          0.7544764443,
                          0.6813473377
                        ]
                      },
                      {
                        "iteration": 69,
                        "learn": [
                          0.7534191006,
                          0.6726273612
                        ],
                        "passed_time": 1.117112511,
                        "remaining_time": 6.862262567,
                        "test": [
                          0.7545343918,
                          0.6812845537
                        ]
                      },
                      {
                        "iteration": 70,
                        "learn": [
                          0.7533901252,
                          0.67252282
                        ],
                        "passed_time": 1.132043076,
                        "remaining_time": 6.84009126,
                        "test": [
                          0.7544764443,
                          0.6812910423
                        ]
                      },
                      {
                        "iteration": 71,
                        "learn": [
                          0.7535639777,
                          0.6724447544
                        ],
                        "passed_time": 1.146548495,
                        "remaining_time": 6.815593831,
                        "test": [
                          0.7543605493,
                          0.6812614928
                        ]
                      },
                      {
                        "iteration": 72,
                        "learn": [
                          0.7534770515,
                          0.6722833356
                        ],
                        "passed_time": 1.161665803,
                        "remaining_time": 6.794949285,
                        "test": [
                          0.7542446543,
                          0.6812353211
                        ]
                      },
                      {
                        "iteration": 73,
                        "learn": [
                          0.7535929532,
                          0.6722058969
                        ],
                        "passed_time": 1.176244198,
                        "remaining_time": 6.771351734,
                        "test": [
                          0.7543605493,
                          0.6812356236
                        ]
                      },
                      {
                        "iteration": 74,
                        "learn": [
                          0.7537088549,
                          0.6721168923
                        ],
                        "passed_time": 1.19098787,
                        "remaining_time": 6.748931265,
                        "test": [
                          0.7544764443,
                          0.6812292336
                        ]
                      },
                      {
                        "iteration": 75,
                        "learn": [
                          0.7536219286,
                          0.6719725688
                        ],
                        "passed_time": 1.211490267,
                        "remaining_time": 6.758840435,
                        "test": [
                          0.7543605493,
                          0.6811229073
                        ]
                      },
                      {
                        "iteration": 76,
                        "learn": [
                          0.7535929532,
                          0.6719014298
                        ],
                        "passed_time": 1.226978372,
                        "remaining_time": 6.740413655,
                        "test": [
                          0.7543026018,
                          0.6811157421
                        ]
                      },
                      {
                        "iteration": 77,
                        "learn": [
                          0.7537668057,
                          0.6717974462
                        ],
                        "passed_time": 1.242114471,
                        "remaining_time": 6.72015778,
                        "test": [
                          0.7543605493,
                          0.6810882159
                        ]
                      },
                      {
                        "iteration": 78,
                        "learn": [
                          0.7537668057,
                          0.6716579833
                        ],
                        "passed_time": 1.257647273,
                        "remaining_time": 6.702145593,
                        "test": [
                          0.7541867068,
                          0.6810746767
                        ]
                      },
                      {
                        "iteration": 79,
                        "learn": [
                          0.7535929532,
                          0.6714118528
                        ],
                        "passed_time": 1.272957943,
                        "remaining_time": 6.683029199,
                        "test": [
                          0.7542446543,
                          0.6808356527
                        ]
                      },
                      {
                        "iteration": 80,
                        "learn": [
                          0.7537378303,
                          0.6712750402
                        ],
                        "passed_time": 1.287664686,
                        "remaining_time": 6.660882757,
                        "test": [
                          0.7541287593,
                          0.6808532125
                        ]
                      },
                      {
                        "iteration": 81,
                        "learn": [
                          0.753650904,
                          0.671088426
                        ],
                        "passed_time": 1.303200057,
                        "remaining_time": 6.643141754,
                        "test": [
                          0.7540708118,
                          0.6807359663
                        ]
                      },
                      {
                        "iteration": 82,
                        "learn": [
                          0.753650904,
                          0.6709162878
                        ],
                        "passed_time": 1.318400738,
                        "remaining_time": 6.623772383,
                        "test": [
                          0.7541287593,
                          0.6807289896
                        ]
                      },
                      {
                        "iteration": 83,
                        "learn": [
                          0.7537668057,
                          0.6708302789
                        ],
                        "passed_time": 1.333157567,
                        "remaining_time": 6.602304141,
                        "test": [
                          0.7540708118,
                          0.6806878736
                        ]
                      },
                      {
                        "iteration": 84,
                        "learn": [
                          0.753650904,
                          0.6706203743
                        ],
                        "passed_time": 1.349008126,
                        "remaining_time": 6.586333793,
                        "test": [
                          0.7540128643,
                          0.680702641
                        ]
                      },
                      {
                        "iteration": 85,
                        "learn": [
                          0.7536798795,
                          0.6705756456
                        ],
                        "passed_time": 1.363344925,
                        "remaining_time": 6.563079056,
                        "test": [
                          0.7541287593,
                          0.6806995811
                        ]
                      },
                      {
                        "iteration": 86,
                        "learn": [
                          0.7539406583,
                          0.6704788449
                        ],
                        "passed_time": 1.378279295,
                        "remaining_time": 6.54286608,
                        "test": [
                          0.7543026018,
                          0.6806759904
                        ]
                      },
                      {
                        "iteration": 87,
                        "learn": [
                          0.7539696338,
                          0.6703395608
                        ],
                        "passed_time": 1.401828518,
                        "remaining_time": 6.563106242,
                        "test": [
                          0.7542446543,
                          0.6806413552
                        ]
                      },
                      {
                        "iteration": 88,
                        "learn": [
                          0.7538827075,
                          0.6701949166
                        ],
                        "passed_time": 1.417555781,
                        "remaining_time": 6.546240742,
                        "test": [
                          0.7544764443,
                          0.6805168757
                        ]
                      },
                      {
                        "iteration": 89,
                        "learn": [
                          0.7539986092,
                          0.6700635558
                        ],
                        "passed_time": 1.432500486,
                        "remaining_time": 6.525835546,
                        "test": [
                          0.7541287593,
                          0.6804824529
                        ]
                      },
                      {
                        "iteration": 90,
                        "learn": [
                          0.7539406583,
                          0.6698293531
                        ],
                        "passed_time": 1.463750025,
                        "remaining_time": 6.578832531,
                        "test": [
                          0.7542446543,
                          0.6804812827
                        ]
                      },
                      {
                        "iteration": 91,
                        "learn": [
                          0.7539696338,
                          0.6697090063
                        ],
                        "passed_time": 1.47844707,
                        "remaining_time": 6.556591354,
                        "test": [
                          0.7541867068,
                          0.6804523846
                        ]
                      },
                      {
                        "iteration": 92,
                        "learn": [
                          0.75405656,
                          0.6695762376
                        ],
                        "passed_time": 1.493678894,
                        "remaining_time": 6.536852793,
                        "test": [
                          0.7541867068,
                          0.6804100733
                        ]
                      },
                      {
                        "iteration": 93,
                        "learn": [
                          0.7539696338,
                          0.6694711781
                        ],
                        "passed_time": 1.508661513,
                        "remaining_time": 6.516133767,
                        "test": [
                          0.7541287593,
                          0.6804169493
                        ]
                      },
                      {
                        "iteration": 94,
                        "learn": [
                          0.7540275846,
                          0.6693062077
                        ],
                        "passed_time": 1.527494527,
                        "remaining_time": 6.511950352,
                        "test": [
                          0.7541287593,
                          0.6803845135
                        ]
                      },
                      {
                        "iteration": 95,
                        "learn": [
                          0.7540855355,
                          0.6692084554
                        ],
                        "passed_time": 1.542286277,
                        "remaining_time": 6.490454748,
                        "test": [
                          0.7543026018,
                          0.6803684866
                        ]
                      },
                      {
                        "iteration": 96,
                        "learn": [
                          0.7540855355,
                          0.6690678674
                        ],
                        "passed_time": 1.557918225,
                        "remaining_time": 6.47258809,
                        "test": [
                          0.7541867068,
                          0.6803912158
                        ]
                      },
                      {
                        "iteration": 97,
                        "learn": [
                          0.7541434863,
                          0.6689398239
                        ],
                        "passed_time": 1.573134527,
                        "remaining_time": 6.453062038,
                        "test": [
                          0.7543026018,
                          0.6803914802
                        ]
                      },
                      {
                        "iteration": 98,
                        "learn": [
                          0.7540855355,
                          0.6687775998
                        ],
                        "passed_time": 1.588530666,
                        "remaining_time": 6.434351485,
                        "test": [
                          0.7541867068,
                          0.6802905389
                        ]
                      },
                      {
                        "iteration": 99,
                        "learn": [
                          0.754259388,
                          0.6686835954
                        ],
                        "passed_time": 1.602867822,
                        "remaining_time": 6.411471287,
                        "test": [
                          0.7542446543,
                          0.6803232923
                        ]
                      },
                      {
                        "iteration": 100,
                        "learn": [
                          0.7544332406,
                          0.6685973409
                        ],
                        "passed_time": 1.617610303,
                        "remaining_time": 6.390361495,
                        "test": [
                          0.7542446543,
                          0.6802933368
                        ]
                      },
                      {
                        "iteration": 101,
                        "learn": [
                          0.7542883635,
                          0.6685230003
                        ],
                        "passed_time": 1.632513042,
                        "remaining_time": 6.370001869,
                        "test": [
                          0.7543026018,
                          0.6802728721
                        ]
                      },
                      {
                        "iteration": 102,
                        "learn": [
                          0.7544911915,
                          0.6683989249
                        ],
                        "passed_time": 1.647064289,
                        "remaining_time": 6.348393426,
                        "test": [
                          0.7540708118,
                          0.6802682505
                        ]
                      },
                      {
                        "iteration": 103,
                        "learn": [
                          0.754665044,
                          0.6683232264
                        ],
                        "passed_time": 1.661704542,
                        "remaining_time": 6.327259604,
                        "test": [
                          0.7543026018,
                          0.6802599701
                        ]
                      },
                      {
                        "iteration": 104,
                        "learn": [
                          0.7545201669,
                          0.6681823749
                        ],
                        "passed_time": 1.676151433,
                        "remaining_time": 6.305522058,
                        "test": [
                          0.7541867068,
                          0.680225766
                        ]
                      },
                      {
                        "iteration": 105,
                        "learn": [
                          0.7546070932,
                          0.668075964
                        ],
                        "passed_time": 1.690081948,
                        "remaining_time": 6.282002714,
                        "test": [
                          0.7543026018,
                          0.6802011516
                        ]
                      },
                      {
                        "iteration": 106,
                        "learn": [
                          0.7545491423,
                          0.6678929071
                        ],
                        "passed_time": 1.709214334,
                        "remaining_time": 6.277768535,
                        "test": [
                          0.7541287593,
                          0.680048604
                        ]
                      },
                      {
                        "iteration": 107,
                        "learn": [
                          0.754665044,
                          0.6678016699
                        ],
                        "passed_time": 1.725168386,
                        "remaining_time": 6.26172229,
                        "test": [
                          0.7543026018,
                          0.6800455768
                        ]
                      },
                      {
                        "iteration": 108,
                        "learn": [
                          0.7547519703,
                          0.6677127796
                        ],
                        "passed_time": 1.739843728,
                        "remaining_time": 6.241090805,
                        "test": [
                          0.7542446543,
                          0.6800713211
                        ]
                      },
                      {
                        "iteration": 109,
                        "learn": [
                          0.7547229949,
                          0.6676765777
                        ],
                        "passed_time": 1.754632327,
                        "remaining_time": 6.22096916,
                        "test": [
                          0.7540708118,
                          0.6800505733
                        ]
                      },
                      {
                        "iteration": 110,
                        "learn": [
                          0.7547229949,
                          0.6675713986
                        ],
                        "passed_time": 1.768781504,
                        "remaining_time": 6.198702749,
                        "test": [
                          0.7542446543,
                          0.6800649724
                        ]
                      },
                      {
                        "iteration": 111,
                        "learn": [
                          0.7550417246,
                          0.6674176916
                        ],
                        "passed_time": 1.783475673,
                        "remaining_time": 6.178469295,
                        "test": [
                          0.7540708118,
                          0.6800655353
                        ]
                      },
                      {
                        "iteration": 112,
                        "learn": [
                          0.7550127492,
                          0.6673438078
                        ],
                        "passed_time": 1.797798376,
                        "remaining_time": 6.157061696,
                        "test": [
                          0.7541287593,
                          0.6800304471
                        ]
                      },
                      {
                        "iteration": 113,
                        "learn": [
                          0.7552155772,
                          0.6672304535
                        ],
                        "passed_time": 1.812533452,
                        "remaining_time": 6.13717467,
                        "test": [
                          0.7540708118,
                          0.6800408542
                        ]
                      },
                      {
                        "iteration": 114,
                        "learn": [
                          0.7550996755,
                          0.6670836392
                        ],
                        "passed_time": 1.827264224,
                        "remaining_time": 6.117362838,
                        "test": [
                          0.7540708118,
                          0.6800213962
                        ]
                      },
                      {
                        "iteration": 115,
                        "learn": [
                          0.7549547983,
                          0.6669461899
                        ],
                        "passed_time": 1.842154944,
                        "remaining_time": 6.09816809,
                        "test": [
                          0.7540128643,
                          0.6799723224
                        ]
                      },
                      {
                        "iteration": 116,
                        "learn": [
                          0.7548968475,
                          0.6668176933
                        ],
                        "passed_time": 1.857572682,
                        "remaining_time": 6.080772111,
                        "test": [
                          0.7541287593,
                          0.6800043278
                        ]
                      },
                      {
                        "iteration": 117,
                        "learn": [
                          0.7553604543,
                          0.6666929149
                        ],
                        "passed_time": 1.871459683,
                        "remaining_time": 6.058454228,
                        "test": [
                          0.7542446543,
                          0.6800026005
                        ]
                      },
                      {
                        "iteration": 118,
                        "learn": [
                          0.7552155772,
                          0.6665096505
                        ],
                        "passed_time": 1.889585957,
                        "remaining_time": 6.049850838,
                        "test": [
                          0.7543026018,
                          0.6799496251
                        ]
                      },
                      {
                        "iteration": 119,
                        "learn": [
                          0.7551866018,
                          0.666426995
                        ],
                        "passed_time": 1.910820201,
                        "remaining_time": 6.050930636,
                        "test": [
                          0.7542446543,
                          0.6799596896
                        ]
                      },
                      {
                        "iteration": 120,
                        "learn": [
                          0.7551576263,
                          0.6663005126
                        ],
                        "passed_time": 1.925109467,
                        "remaining_time": 6.029888332,
                        "test": [
                          0.7541287593,
                          0.6799617333
                        ]
                      },
                      {
                        "iteration": 121,
                        "learn": [
                          0.7553604543,
                          0.6662365105
                        ],
                        "passed_time": 1.959136232,
                        "remaining_time": 6.070110622,
                        "test": [
                          0.7541867068,
                          0.6799675583
                        ]
                      },
                      {
                        "iteration": 122,
                        "learn": [
                          0.7554473806,
                          0.66615227
                        ],
                        "passed_time": 1.974054987,
                        "remaining_time": 6.05055878,
                        "test": [
                          0.7541867068,
                          0.679979304
                        ]
                      },
                      {
                        "iteration": 123,
                        "learn": [
                          0.7556502086,
                          0.6660571053
                        ],
                        "passed_time": 1.988169297,
                        "remaining_time": 6.028642384,
                        "test": [
                          0.7541287593,
                          0.679979964
                        ]
                      },
                      {
                        "iteration": 124,
                        "learn": [
                          0.7555632823,
                          0.6659743268
                        ],
                        "passed_time": 2.002213096,
                        "remaining_time": 6.006639287,
                        "test": [
                          0.7542446543,
                          0.6800014113
                        ]
                      },
                      {
                        "iteration": 125,
                        "learn": [
                          0.7559109875,
                          0.6658769456
                        ],
                        "passed_time": 2.01592384,
                        "remaining_time": 5.983773937,
                        "test": [
                          0.7540128643,
                          0.6799739791
                        ]
                      },
                      {
                        "iteration": 126,
                        "learn": [
                          0.7559979138,
                          0.6657822462
                        ],
                        "passed_time": 2.030362906,
                        "remaining_time": 5.963191842,
                        "test": [
                          0.7541287593,
                          0.6799324654
                        ]
                      },
                      {
                        "iteration": 127,
                        "learn": [
                          0.7559979138,
                          0.6656584715
                        ],
                        "passed_time": 2.045477842,
                        "remaining_time": 5.944669979,
                        "test": [
                          0.7542446543,
                          0.6799291314
                        ]
                      },
                      {
                        "iteration": 128,
                        "learn": [
                          0.7558530366,
                          0.6655784642
                        ],
                        "passed_time": 2.061229668,
                        "remaining_time": 5.928032611,
                        "test": [
                          0.7540128643,
                          0.6799247366
                        ]
                      },
                      {
                        "iteration": 129,
                        "learn": [
                          0.7561138155,
                          0.665484341
                        ],
                        "passed_time": 2.075293866,
                        "remaining_time": 5.906605619,
                        "test": [
                          0.7538969693,
                          0.6799067502
                        ]
                      },
                      {
                        "iteration": 130,
                        "learn": [
                          0.7561138155,
                          0.6653350444
                        ],
                        "passed_time": 2.091195087,
                        "remaining_time": 5.89046555,
                        "test": [
                          0.7538969693,
                          0.6798757692
                        ]
                      },
                      {
                        "iteration": 131,
                        "learn": [
                          0.7560848401,
                          0.6652254163
                        ],
                        "passed_time": 2.10548049,
                        "remaining_time": 5.869824397,
                        "test": [
                          0.7541287593,
                          0.6798504609
                        ]
                      },
                      {
                        "iteration": 132,
                        "learn": [
                          0.7561138155,
                          0.6651229717
                        ],
                        "passed_time": 2.120124669,
                        "remaining_time": 5.850268824,
                        "test": [
                          0.7541867068,
                          0.6798324603
                        ]
                      },
                      {
                        "iteration": 133,
                        "learn": [
                          0.7560848401,
                          0.6649849935
                        ],
                        "passed_time": 2.135000839,
                        "remaining_time": 5.831420201,
                        "test": [
                          0.7541287593,
                          0.679810038
                        ]
                      },
                      {
                        "iteration": 134,
                        "learn": [
                          0.7561717663,
                          0.6648738483
                        ],
                        "passed_time": 2.150836454,
                        "remaining_time": 5.815224487,
                        "test": [
                          0.7542446543,
                          0.6797465489
                        ]
                      },
                      {
                        "iteration": 135,
                        "learn": [
                          0.7562297172,
                          0.6647551429
                        ],
                        "passed_time": 2.165581762,
                        "remaining_time": 5.796115893,
                        "test": [
                          0.7544184968,
                          0.6797567727
                        ]
                      },
                      {
                        "iteration": 136,
                        "learn": [
                          0.7561717663,
                          0.6646701184
                        ],
                        "passed_time": 2.179727054,
                        "remaining_time": 5.775481171,
                        "test": [
                          0.7544184968,
                          0.6797536605
                        ]
                      },
                      {
                        "iteration": 137,
                        "learn": [
                          0.7562586926,
                          0.6645901563
                        ],
                        "passed_time": 2.193982538,
                        "remaining_time": 5.755229556,
                        "test": [
                          0.7543605493,
                          0.6796983075
                        ]
                      },
                      {
                        "iteration": 138,
                        "learn": [
                          0.7564035698,
                          0.6644735925
                        ],
                        "passed_time": 2.207909144,
                        "remaining_time": 5.734210079,
                        "test": [
                          0.7541287593,
                          0.6797040987
                        ]
                      },
                      {
                        "iteration": 139,
                        "learn": [
                          0.7564615206,
                          0.6644156389
                        ],
                        "passed_time": 2.221877044,
                        "remaining_time": 5.713398113,
                        "test": [
                          0.7542446543,
                          0.6796801001
                        ]
                      },
                      {
                        "iteration": 140,
                        "learn": [
                          0.7564325452,
                          0.6643144718
                        ],
                        "passed_time": 2.236687606,
                        "remaining_time": 5.694828728,
                        "test": [
                          0.7538390218,
                          0.6796863134
                        ]
                      },
                      {
                        "iteration": 141,
                        "learn": [
                          0.7564325452,
                          0.6642221009
                        ],
                        "passed_time": 2.252290886,
                        "remaining_time": 5.678310825,
                        "test": [
                          0.7541287593,
                          0.6797205332
                        ]
                      },
                      {
                        "iteration": 142,
                        "learn": [
                          0.7564615206,
                          0.6641001044
                        ],
                        "passed_time": 2.273899712,
                        "remaining_time": 5.676798581,
                        "test": [
                          0.7540708118,
                          0.6797319962
                        ]
                      },
                      {
                        "iteration": 143,
                        "learn": [
                          0.7564904961,
                          0.6639643263
                        ],
                        "passed_time": 2.289022886,
                        "remaining_time": 5.658973245,
                        "test": [
                          0.7540128643,
                          0.6797816041
                        ]
                      },
                      {
                        "iteration": 144,
                        "learn": [
                          0.7567222995,
                          0.6639078576
                        ],
                        "passed_time": 2.303401424,
                        "remaining_time": 5.639362106,
                        "test": [
                          0.7540128643,
                          0.6797713869
                        ]
                      },
                      {
                        "iteration": 145,
                        "learn": [
                          0.7567802503,
                          0.6637845832
                        ],
                        "passed_time": 2.317897813,
                        "remaining_time": 5.620108397,
                        "test": [
                          0.7539549168,
                          0.6797905735
                        ]
                      },
                      {
                        "iteration": 146,
                        "learn": [
                          0.7567512749,
                          0.6636619682
                        ],
                        "passed_time": 2.332292223,
                        "remaining_time": 5.600674522,
                        "test": [
                          0.7538969693,
                          0.6797961883
                        ]
                      },
                      {
                        "iteration": 147,
                        "learn": [
                          0.7568961521,
                          0.663609951
                        ],
                        "passed_time": 2.346501383,
                        "remaining_time": 5.580868154,
                        "test": [
                          0.7538390218,
                          0.6798054502
                        ]
                      },
                      {
                        "iteration": 148,
                        "learn": [
                          0.7568961521,
                          0.6634884296
                        ],
                        "passed_time": 2.36121627,
                        "remaining_time": 5.56232826,
                        "test": [
                          0.7538969693,
                          0.6797219867
                        ]
                      },
                      {
                        "iteration": 149,
                        "learn": [
                          0.7568092258,
                          0.6633581241
                        ],
                        "passed_time": 2.37602568,
                        "remaining_time": 5.544059921,
                        "test": [
                          0.7539549168,
                          0.679748036
                        ]
                      },
                      {
                        "iteration": 150,
                        "learn": [
                          0.7568382012,
                          0.6632683548
                        ],
                        "passed_time": 2.390795944,
                        "remaining_time": 5.525746917,
                        "test": [
                          0.7539549168,
                          0.6797736559
                        ]
                      },
                      {
                        "iteration": 151,
                        "learn": [
                          0.7570700046,
                          0.663194156
                        ],
                        "passed_time": 2.404982563,
                        "remaining_time": 5.506144289,
                        "test": [
                          0.7540708118,
                          0.6797795734
                        ]
                      },
                      {
                        "iteration": 152,
                        "learn": [
                          0.7571569309,
                          0.6630721893
                        ],
                        "passed_time": 2.419774632,
                        "remaining_time": 5.487985603,
                        "test": [
                          0.7540708118,
                          0.6798382031
                        ]
                      },
                      {
                        "iteration": 153,
                        "learn": [
                          0.7570700046,
                          0.6629390516
                        ],
                        "passed_time": 2.435176528,
                        "remaining_time": 5.47124077,
                        "test": [
                          0.7538969693,
                          0.6798077931
                        ]
                      },
                      {
                        "iteration": 154,
                        "learn": [
                          0.7572728326,
                          0.662865386
                        ],
                        "passed_time": 2.448845769,
                        "remaining_time": 5.450656712,
                        "test": [
                          0.7538969693,
                          0.6797795147
                        ]
                      },
                      {
                        "iteration": 155,
                        "learn": [
                          0.7572728326,
                          0.6626882792
                        ],
                        "passed_time": 2.478712266,
                        "remaining_time": 5.465878329,
                        "test": [
                          0.7543026018,
                          0.6798049137
                        ]
                      },
                      {
                        "iteration": 156,
                        "learn": [
                          0.7574177098,
                          0.6625954425
                        ],
                        "passed_time": 2.492476707,
                        "remaining_time": 5.445347201,
                        "test": [
                          0.7543605493,
                          0.6798221878
                        ]
                      },
                      {
                        "iteration": 157,
                        "learn": [
                          0.7575046361,
                          0.6624758951
                        ],
                        "passed_time": 2.506860403,
                        "remaining_time": 5.426242138,
                        "test": [
                          0.7544184968,
                          0.679859082
                        ]
                      },
                      {
                        "iteration": 158,
                        "learn": [
                          0.7575336115,
                          0.6623825777
                        ],
                        "passed_time": 2.521811357,
                        "remaining_time": 5.408413036,
                        "test": [
                          0.7541287593,
                          0.6798464873
                        ]
                      },
                      {
                        "iteration": 159,
                        "learn": [
                          0.7578813166,
                          0.6622674865
                        ],
                        "passed_time": 2.535816204,
                        "remaining_time": 5.388609434,
                        "test": [
                          0.7544184968,
                          0.6798655721
                        ]
                      },
                      {
                        "iteration": 160,
                        "learn": [
                          0.7577074641,
                          0.6621753996
                        ],
                        "passed_time": 2.551390612,
                        "remaining_time": 5.372182717,
                        "test": [
                          0.7544764443,
                          0.6798645481
                        ]
                      },
                      {
                        "iteration": 161,
                        "learn": [
                          0.7578813166,
                          0.662097264
                        ],
                        "passed_time": 2.566674195,
                        "remaining_time": 5.355159739,
                        "test": [
                          0.7545343918,
                          0.6798423674
                        ]
                      },
                      {
                        "iteration": 162,
                        "learn": [
                          0.7578523412,
                          0.662019826
                        ],
                        "passed_time": 2.580143317,
                        "remaining_time": 5.334406734,
                        "test": [
                          0.7544764443,
                          0.6798411986
                        ]
                      },
                      {
                        "iteration": 163,
                        "learn": [
                          0.7578523412,
                          0.6619523398
                        ],
                        "passed_time": 2.594538434,
                        "remaining_time": 5.315639718,
                        "test": [
                          0.7543026018,
                          0.6798939439
                        ]
                      },
                      {
                        "iteration": 164,
                        "learn": [
                          0.7575625869,
                          0.6618332947
                        ],
                        "passed_time": 2.609737264,
                        "remaining_time": 5.298557475,
                        "test": [
                          0.7544184968,
                          0.679932204
                        ]
                      },
                      {
                        "iteration": 165,
                        "learn": [
                          0.7574756606,
                          0.6617571371
                        ],
                        "passed_time": 2.622896675,
                        "remaining_time": 5.277394514,
                        "test": [
                          0.7543605493,
                          0.6799651263
                        ]
                      },
                      {
                        "iteration": 166,
                        "learn": [
                          0.7576205378,
                          0.6616587434
                        ],
                        "passed_time": 2.63739372,
                        "remaining_time": 5.258994663,
                        "test": [
                          0.7545343918,
                          0.6799421993
                        ]
                      },
                      {
                        "iteration": 167,
                        "learn": [
                          0.7576205378,
                          0.6615396608
                        ],
                        "passed_time": 2.652505007,
                        "remaining_time": 5.241855132,
                        "test": [
                          0.7545343918,
                          0.6799602168
                        ]
                      },
                      {
                        "iteration": 168,
                        "learn": [
                          0.7575625869,
                          0.6614559037
                        ],
                        "passed_time": 2.666634143,
                        "remaining_time": 5.222815984,
                        "test": [
                          0.7543605493,
                          0.67996
                        ]
                      },
                      {
                        "iteration": 169,
                        "learn": [
                          0.7575625869,
                          0.6613768563
                        ],
                        "passed_time": 2.679725051,
                        "remaining_time": 5.201819217,
                        "test": [
                          0.7542446543,
                          0.679988674
                        ]
                      },
                      {
                        "iteration": 170,
                        "learn": [
                          0.7577654149,
                          0.6612374632
                        ],
                        "passed_time": 2.695122919,
                        "remaining_time": 5.185353453,
                        "test": [
                          0.7544184968,
                          0.6799520207
                        ]
                      },
                      {
                        "iteration": 171,
                        "learn": [
                          0.7578233658,
                          0.6611620081
                        ],
                        "passed_time": 2.709322214,
                        "remaining_time": 5.166614455,
                        "test": [
                          0.7545343918,
                          0.6799172087
                        ]
                      },
                      {
                        "iteration": 172,
                        "learn": [
                          0.7580551692,
                          0.6610574777
                        ],
                        "passed_time": 2.724005851,
                        "remaining_time": 5.14884343,
                        "test": [
                          0.7544184968,
                          0.6799503645
                        ]
                      },
                      {
                        "iteration": 173,
                        "learn": [
                          0.7581710709,
                          0.6609887261
                        ],
                        "passed_time": 2.738504921,
                        "remaining_time": 5.130762093,
                        "test": [
                          0.7544184968,
                          0.679948526
                        ]
                      },
                      {
                        "iteration": 174,
                        "learn": [
                          0.7581710709,
                          0.6609070378
                        ],
                        "passed_time": 2.752897967,
                        "remaining_time": 5.112524796,
                        "test": [
                          0.7539549168,
                          0.6799639208
                        ]
                      },
                      {
                        "iteration": 175,
                        "learn": [
                          0.7582000464,
                          0.6608006417
                        ],
                        "passed_time": 2.767792192,
                        "remaining_time": 5.095253808,
                        "test": [
                          0.7543026018,
                          0.6799512961
                        ]
                      },
                      {
                        "iteration": 176,
                        "learn": [
                          0.7582000464,
                          0.6607278747
                        ],
                        "passed_time": 2.782601704,
                        "remaining_time": 5.077855087,
                        "test": [
                          0.7541867068,
                          0.6799672406
                        ]
                      },
                      {
                        "iteration": 177,
                        "learn": [
                          0.7582579972,
                          0.6606193774
                        ],
                        "passed_time": 2.797404581,
                        "remaining_time": 5.060473455,
                        "test": [
                          0.7540708118,
                          0.67996723
                        ]
                      },
                      {
                        "iteration": 178,
                        "learn": [
                          0.7583159481,
                          0.660520313
                        ],
                        "passed_time": 2.811375082,
                        "remaining_time": 5.041627941,
                        "test": [
                          0.7541867068,
                          0.6799603832
                        ]
                      },
                      {
                        "iteration": 179,
                        "learn": [
                          0.7582000464,
                          0.6604571313
                        ],
                        "passed_time": 2.82512377,
                        "remaining_time": 5.022442258,
                        "test": [
                          0.7544764443,
                          0.6799717649
                        ]
                      },
                      {
                        "iteration": 180,
                        "learn": [
                          0.7582290218,
                          0.6603101163
                        ],
                        "passed_time": 2.845281632,
                        "remaining_time": 5.014612378,
                        "test": [
                          0.7542446543,
                          0.6799342757
                        ]
                      },
                      {
                        "iteration": 181,
                        "learn": [
                          0.7582579972,
                          0.6602311212
                        ],
                        "passed_time": 2.859268603,
                        "remaining_time": 4.995864921,
                        "test": [
                          0.7541867068,
                          0.6799248763
                        ]
                      },
                      {
                        "iteration": 182,
                        "learn": [
                          0.7582000464,
                          0.6601148877
                        ],
                        "passed_time": 2.874345593,
                        "remaining_time": 4.979057667,
                        "test": [
                          0.7540708118,
                          0.6799226086
                        ]
                      },
                      {
                        "iteration": 183,
                        "learn": [
                          0.7582000464,
                          0.6600274493
                        ],
                        "passed_time": 2.890012985,
                        "remaining_time": 4.96328317,
                        "test": [
                          0.7540708118,
                          0.6799533135
                        ]
                      },
                      {
                        "iteration": 184,
                        "learn": [
                          0.7582869726,
                          0.6599385373
                        ],
                        "passed_time": 2.904025604,
                        "remaining_time": 4.944692245,
                        "test": [
                          0.7540708118,
                          0.6799022236
                        ]
                      },
                      {
                        "iteration": 185,
                        "learn": [
                          0.7583449235,
                          0.6598296999
                        ],
                        "passed_time": 2.920466381,
                        "remaining_time": 4.930249698,
                        "test": [
                          0.7540128643,
                          0.6798506724
                        ]
                      },
                      {
                        "iteration": 186,
                        "learn": [
                          0.7585187761,
                          0.6597462836
                        ],
                        "passed_time": 2.935850183,
                        "remaining_time": 4.914016616,
                        "test": [
                          0.7538390218,
                          0.6798529994
                        ]
                      },
                      {
                        "iteration": 187,
                        "learn": [
                          0.7586346778,
                          0.6596270861
                        ],
                        "passed_time": 2.971047411,
                        "remaining_time": 4.930674427,
                        "test": [
                          0.7536072318,
                          0.679835686
                        ]
                      },
                      {
                        "iteration": 188,
                        "learn": [
                          0.7585477515,
                          0.6595584951
                        ],
                        "passed_time": 2.985716365,
                        "remaining_time": 4.913004178,
                        "test": [
                          0.7538969693,
                          0.6798467518
                        ]
                      },
                      {
                        "iteration": 189,
                        "learn": [
                          0.7584898006,
                          0.6594410462
                        ],
                        "passed_time": 3.000291688,
                        "remaining_time": 4.895212753,
                        "test": [
                          0.7538390218,
                          0.6798285664
                        ]
                      },
                      {
                        "iteration": 190,
                        "learn": [
                          0.7585187761,
                          0.6594018641
                        ],
                        "passed_time": 3.014236417,
                        "remaining_time": 4.876434832,
                        "test": [
                          0.7538969693,
                          0.6798549308
                        ]
                      },
                      {
                        "iteration": 191,
                        "learn": [
                          0.7585767269,
                          0.6593424954
                        ],
                        "passed_time": 3.029045094,
                        "remaining_time": 4.859093171,
                        "test": [
                          0.7538969693,
                          0.6798479313
                        ]
                      },
                      {
                        "iteration": 192,
                        "learn": [
                          0.7586057024,
                          0.6592718174
                        ],
                        "passed_time": 3.043104201,
                        "remaining_time": 4.840585439,
                        "test": [
                          0.7538390218,
                          0.6798486034
                        ]
                      },
                      {
                        "iteration": 193,
                        "learn": [
                          0.7588085304,
                          0.6592115901
                        ],
                        "passed_time": 3.057574861,
                        "remaining_time": 4.822772719,
                        "test": [
                          0.7537810743,
                          0.6798629079
                        ]
                      },
                      {
                        "iteration": 194,
                        "learn": [
                          0.7586057024,
                          0.6590902722
                        ],
                        "passed_time": 3.072371969,
                        "remaining_time": 4.805504875,
                        "test": [
                          0.7536651793,
                          0.6798319874
                        ]
                      },
                      {
                        "iteration": 195,
                        "learn": [
                          0.7588664812,
                          0.6590097005
                        ],
                        "passed_time": 3.086557072,
                        "remaining_time": 4.787313009,
                        "test": [
                          0.7536072318,
                          0.6798018374
                        ]
                      },
                      {
                        "iteration": 196,
                        "learn": [
                          0.7590693092,
                          0.658836569
                        ],
                        "passed_time": 3.101760302,
                        "remaining_time": 4.770727775,
                        "test": [
                          0.7537231268,
                          0.6798166778
                        ]
                      },
                      {
                        "iteration": 197,
                        "learn": [
                          0.7592141864,
                          0.6587536587
                        ],
                        "passed_time": 3.116845403,
                        "remaining_time": 4.753976321,
                        "test": [
                          0.7538390218,
                          0.6798095743
                        ]
                      },
                      {
                        "iteration": 198,
                        "learn": [
                          0.7590693092,
                          0.6586869149
                        ],
                        "passed_time": 3.131418925,
                        "remaining_time": 4.736467821,
                        "test": [
                          0.7538390218,
                          0.6797994318
                        ]
                      },
                      {
                        "iteration": 199,
                        "learn": [
                          0.7591272601,
                          0.6585690889
                        ],
                        "passed_time": 3.146699121,
                        "remaining_time": 4.720048682,
                        "test": [
                          0.7534333893,
                          0.6798224164
                        ]
                      },
                      {
                        "iteration": 200,
                        "learn": [
                          0.7591852109,
                          0.6584693648
                        ],
                        "passed_time": 3.161573763,
                        "remaining_time": 4.703037587,
                        "test": [
                          0.7536651793,
                          0.6798172037
                        ]
                      },
                      {
                        "iteration": 201,
                        "learn": [
                          0.7591272601,
                          0.6583948599
                        ],
                        "passed_time": 3.17511772,
                        "remaining_time": 4.684084557,
                        "test": [
                          0.7537810743,
                          0.6797765549
                        ]
                      },
                      {
                        "iteration": 202,
                        "learn": [
                          0.7590982847,
                          0.6583163396
                        ],
                        "passed_time": 3.189426192,
                        "remaining_time": 4.666303345,
                        "test": [
                          0.7538969693,
                          0.6798014144
                        ]
                      },
                      {
                        "iteration": 203,
                        "learn": [
                          0.7592141864,
                          0.6581821979
                        ],
                        "passed_time": 3.205352449,
                        "remaining_time": 4.650903553,
                        "test": [
                          0.7540708118,
                          0.6798138968
                        ]
                      },
                      {
                        "iteration": 204,
                        "learn": [
                          0.7592431618,
                          0.6580689338
                        ],
                        "passed_time": 3.220712124,
                        "remaining_time": 4.6346833,
                        "test": [
                          0.7539549168,
                          0.6798678298
                        ]
                      },
                      {
                        "iteration": 205,
                        "learn": [
                          0.7594459898,
                          0.657941907
                        ],
                        "passed_time": 3.235728926,
                        "remaining_time": 4.617982059,
                        "test": [
                          0.7534913368,
                          0.6798893507
                        ]
                      },
                      {
                        "iteration": 206,
                        "learn": [
                          0.7593880389,
                          0.6578309955
                        ],
                        "passed_time": 3.250429544,
                        "remaining_time": 4.600849548,
                        "test": [
                          0.7534333893,
                          0.6799191499
                        ]
                      },
                      {
                        "iteration": 207,
                        "learn": [
                          0.7594749652,
                          0.6577339714
                        ],
                        "passed_time": 3.265192591,
                        "remaining_time": 4.583828061,
                        "test": [
                          0.7534333893,
                          0.6798915219
                        ]
                      },
                      {
                        "iteration": 208,
                        "learn": [
                          0.7594749652,
                          0.6576372276
                        ],
                        "passed_time": 3.280398914,
                        "remaining_time": 4.567445378,
                        "test": [
                          0.7534913368,
                          0.6798871909
                        ]
                      },
                      {
                        "iteration": 209,
                        "learn": [
                          0.7594459898,
                          0.6575584339
                        ],
                        "passed_time": 3.294521578,
                        "remaining_time": 4.549577417,
                        "test": [
                          0.7534913368,
                          0.6798663393
                        ]
                      },
                      {
                        "iteration": 210,
                        "learn": [
                          0.7595329161,
                          0.6574606641
                        ],
                        "passed_time": 3.309547757,
                        "remaining_time": 4.532982473,
                        "test": [
                          0.7535492843,
                          0.6798738964
                        ]
                      },
                      {
                        "iteration": 211,
                        "learn": [
                          0.7596198424,
                          0.6573342039
                        ],
                        "passed_time": 3.325048785,
                        "remaining_time": 4.517047407,
                        "test": [
                          0.7534333893,
                          0.679835882
                        ]
                      },
                      {
                        "iteration": 212,
                        "learn": [
                          0.7595039407,
                          0.6572647359
                        ],
                        "passed_time": 3.339658756,
                        "remaining_time": 4.499915788,
                        "test": [
                          0.7532595469,
                          0.6798486802
                        ]
                      },
                      {
                        "iteration": 213,
                        "learn": [
                          0.7595329161,
                          0.6571709958
                        ],
                        "passed_time": 3.362473521,
                        "remaining_time": 4.493773023,
                        "test": [
                          0.7532015994,
                          0.6798806394
                        ]
                      },
                      {
                        "iteration": 214,
                        "learn": [
                          0.7595618915,
                          0.6570446371
                        ],
                        "passed_time": 3.377286253,
                        "remaining_time": 4.476867824,
                        "test": [
                          0.7531436519,
                          0.6798228282
                        ]
                      },
                      {
                        "iteration": 215,
                        "learn": [
                          0.7595908669,
                          0.6569487303
                        ],
                        "passed_time": 3.392523868,
                        "remaining_time": 4.460540642,
                        "test": [
                          0.7533174944,
                          0.6798263168
                        ]
                      },
                      {
                        "iteration": 216,
                        "learn": [
                          0.7597067687,
                          0.6568138016
                        ],
                        "passed_time": 3.407207672,
                        "remaining_time": 4.44350125,
                        "test": [
                          0.7529118619,
                          0.6798782774
                        ]
                      },
                      {
                        "iteration": 217,
                        "learn": [
                          0.7597647195,
                          0.6567192276
                        ],
                        "passed_time": 3.421628356,
                        "remaining_time": 4.426143102,
                        "test": [
                          0.7529698094,
                          0.6798707305
                        ]
                      },
                      {
                        "iteration": 218,
                        "learn": [
                          0.7598226704,
                          0.6566706498
                        ],
                        "passed_time": 3.435077326,
                        "remaining_time": 4.40756497,
                        "test": [
                          0.7530857044,
                          0.6798966178
                        ]
                      },
                      {
                        "iteration": 219,
                        "learn": [
                          0.7598516458,
                          0.6566012152
                        ],
                        "passed_time": 3.453648373,
                        "remaining_time": 4.395552475,
                        "test": [
                          0.7532015994,
                          0.6799277047
                        ]
                      },
                      {
                        "iteration": 220,
                        "learn": [
                          0.7597936949,
                          0.6565398098
                        ],
                        "passed_time": 3.474631675,
                        "remaining_time": 4.38652596,
                        "test": [
                          0.7532595469,
                          0.6799143934
                        ]
                      },
                      {
                        "iteration": 221,
                        "learn": [
                          0.7597647195,
                          0.656457601
                        ],
                        "passed_time": 3.493874568,
                        "remaining_time": 4.375212297,
                        "test": [
                          0.7532015994,
                          0.6799324426
                        ]
                      },
                      {
                        "iteration": 222,
                        "learn": [
                          0.7598806212,
                          0.6563753492
                        ],
                        "passed_time": 3.507462786,
                        "remaining_time": 4.35680355,
                        "test": [
                          0.7532015994,
                          0.6799285534
                        ]
                      },
                      {
                        "iteration": 223,
                        "learn": [
                          0.7599675475,
                          0.6563290662
                        ],
                        "passed_time": 3.521846907,
                        "remaining_time": 4.339418511,
                        "test": [
                          0.7533754418,
                          0.6799334826
                        ]
                      },
                      {
                        "iteration": 224,
                        "learn": [
                          0.7599965229,
                          0.6562136701
                        ],
                        "passed_time": 3.537521843,
                        "remaining_time": 4.323637808,
                        "test": [
                          0.7532595469,
                          0.6798775152
                        ]
                      },
                      {
                        "iteration": 225,
                        "learn": [
                          0.7601414001,
                          0.6561214506
                        ],
                        "passed_time": 3.551384128,
                        "remaining_time": 4.305660403,
                        "test": [
                          0.7530277569,
                          0.6799155218
                        ]
                      },
                      {
                        "iteration": 226,
                        "learn": [
                          0.7604311544,
                          0.6560431384
                        ],
                        "passed_time": 3.565535248,
                        "remaining_time": 4.28806662,
                        "test": [
                          0.7530277569,
                          0.6799355695
                        ]
                      },
                      {
                        "iteration": 227,
                        "learn": [
                          0.7604311544,
                          0.6559593947
                        ],
                        "passed_time": 3.580469357,
                        "remaining_time": 4.271437128,
                        "test": [
                          0.7528539144,
                          0.6799412898
                        ]
                      },
                      {
                        "iteration": 228,
                        "learn": [
                          0.7605180807,
                          0.6559046915
                        ],
                        "passed_time": 3.594808268,
                        "remaining_time": 4.254118082,
                        "test": [
                          0.7529698094,
                          0.6799475965
                        ]
                      },
                      {
                        "iteration": 229,
                        "learn": [
                          0.7603732035,
                          0.6557945431
                        ],
                        "passed_time": 3.609442572,
                        "remaining_time": 4.237171715,
                        "test": [
                          0.7530857044,
                          0.6799558661
                        ]
                      },
                      {
                        "iteration": 230,
                        "learn": [
                          0.760807835,
                          0.6557190387
                        ],
                        "passed_time": 3.623328299,
                        "remaining_time": 4.219373647,
                        "test": [
                          0.7530277569,
                          0.6799459132
                        ]
                      },
                      {
                        "iteration": 231,
                        "learn": [
                          0.7608947612,
                          0.6556027437
                        ],
                        "passed_time": 3.637779119,
                        "remaining_time": 4.202262086,
                        "test": [
                          0.7532015994,
                          0.6799357366
                        ]
                      },
                      {
                        "iteration": 232,
                        "learn": [
                          0.7609527121,
                          0.6555135618
                        ],
                        "passed_time": 3.651812633,
                        "remaining_time": 4.184695164,
                        "test": [
                          0.7536651793,
                          0.6799307091
                        ]
                      },
                      {
                        "iteration": 233,
                        "learn": [
                          0.761010663,
                          0.6553576369
                        ],
                        "passed_time": 3.666146563,
                        "remaining_time": 4.167499939,
                        "test": [
                          0.7536072318,
                          0.6799613693
                        ]
                      },
                      {
                        "iteration": 234,
                        "learn": [
                          0.7611845155,
                          0.6552848784
                        ],
                        "passed_time": 3.681356984,
                        "remaining_time": 4.15131745,
                        "test": [
                          0.7533754418,
                          0.6799568114
                        ]
                      },
                      {
                        "iteration": 235,
                        "learn": [
                          0.7611845155,
                          0.6551547811
                        ],
                        "passed_time": 3.69689757,
                        "remaining_time": 4.135512536,
                        "test": [
                          0.7532595469,
                          0.6798801602
                        ]
                      },
                      {
                        "iteration": 236,
                        "learn": [
                          0.7611555401,
                          0.6550525552
                        ],
                        "passed_time": 3.711785465,
                        "remaining_time": 4.118985558,
                        "test": [
                          0.7533754418,
                          0.6798844898
                        ]
                      },
                      {
                        "iteration": 237,
                        "learn": [
                          0.7612424664,
                          0.6549762837
                        ],
                        "passed_time": 3.725597714,
                        "remaining_time": 4.10128824,
                        "test": [
                          0.7532595469,
                          0.6798843182
                        ]
                      },
                      {
                        "iteration": 238,
                        "learn": [
                          0.7615032452,
                          0.6548839629
                        ],
                        "passed_time": 3.739969775,
                        "remaining_time": 4.084234775,
                        "test": [
                          0.7531436519,
                          0.679902765
                        ]
                      },
                      {
                        "iteration": 239,
                        "learn": [
                          0.7615611961,
                          0.6548186791
                        ],
                        "passed_time": 3.754593153,
                        "remaining_time": 4.067475916,
                        "test": [
                          0.7532015994,
                          0.6798672553
                        ]
                      },
                      {
                        "iteration": 240,
                        "learn": [
                          0.7614742698,
                          0.6547640681
                        ],
                        "passed_time": 3.76916598,
                        "remaining_time": 4.050680451,
                        "test": [
                          0.7531436519,
                          0.6798633157
                        ]
                      },
                      {
                        "iteration": 241,
                        "learn": [
                          0.7615322207,
                          0.6546482125
                        ],
                        "passed_time": 3.783902258,
                        "remaining_time": 4.034077614,
                        "test": [
                          0.7531436519,
                          0.6798190674
                        ]
                      },
                      {
                        "iteration": 242,
                        "learn": [
                          0.7613583681,
                          0.6545669647
                        ],
                        "passed_time": 3.797714936,
                        "remaining_time": 4.016513327,
                        "test": [
                          0.7530857044,
                          0.6798125784
                        ]
                      },
                      {
                        "iteration": 243,
                        "learn": [
                          0.761416319,
                          0.6544684986
                        ],
                        "passed_time": 3.812268155,
                        "remaining_time": 3.999756753,
                        "test": [
                          0.7530857044,
                          0.6798068498
                        ]
                      },
                      {
                        "iteration": 244,
                        "learn": [
                          0.761416319,
                          0.6544175093
                        ],
                        "passed_time": 3.826455273,
                        "remaining_time": 3.982637121,
                        "test": [
                          0.7532595469,
                          0.6797919359
                        ]
                      },
                      {
                        "iteration": 245,
                        "learn": [
                          0.7615032452,
                          0.6543618137
                        ],
                        "passed_time": 3.840704008,
                        "remaining_time": 3.965604951,
                        "test": [
                          0.7532595469,
                          0.679811209
                        ]
                      },
                      {
                        "iteration": 246,
                        "learn": [
                          0.7615611961,
                          0.6542535307
                        ],
                        "passed_time": 3.855706448,
                        "remaining_time": 3.949367334,
                        "test": [
                          0.7532015994,
                          0.6797990897
                        ]
                      },
                      {
                        "iteration": 247,
                        "learn": [
                          0.7619668521,
                          0.6541487724
                        ],
                        "passed_time": 3.869967647,
                        "remaining_time": 3.93238648,
                        "test": [
                          0.7532595469,
                          0.6797903381
                        ]
                      },
                      {
                        "iteration": 248,
                        "learn": [
                          0.7621117293,
                          0.6540345982
                        ],
                        "passed_time": 3.88452141,
                        "remaining_time": 3.915722385,
                        "test": [
                          0.7537231268,
                          0.6797831753
                        ]
                      },
                      {
                        "iteration": 249,
                        "learn": [
                          0.7621407047,
                          0.653941443
                        ],
                        "passed_time": 3.898818746,
                        "remaining_time": 3.898818746,
                        "test": [
                          0.7536651793,
                          0.6798038556
                        ]
                      },
                      {
                        "iteration": 250,
                        "learn": [
                          0.7621407047,
                          0.6538487951
                        ],
                        "passed_time": 3.913214794,
                        "remaining_time": 3.882033799,
                        "test": [
                          0.7534333893,
                          0.679800549
                        ]
                      },
                      {
                        "iteration": 251,
                        "learn": [
                          0.7623145573,
                          0.6537722252
                        ],
                        "passed_time": 3.928084721,
                        "remaining_time": 3.86573417,
                        "test": [
                          0.7536651793,
                          0.6797885563
                        ]
                      },
                      {
                        "iteration": 252,
                        "learn": [
                          0.7623145573,
                          0.6537227598
                        ],
                        "passed_time": 3.941725842,
                        "remaining_time": 3.848246178,
                        "test": [
                          0.7536651793,
                          0.6797969846
                        ]
                      },
                      {
                        "iteration": 253,
                        "learn": [
                          0.7625173853,
                          0.6536598289
                        ],
                        "passed_time": 3.974899846,
                        "remaining_time": 3.84970615,
                        "test": [
                          0.7534913368,
                          0.6798097703
                        ]
                      },
                      {
                        "iteration": 254,
                        "learn": [
                          0.7624014835,
                          0.6536218897
                        ],
                        "passed_time": 3.995533531,
                        "remaining_time": 3.838845941,
                        "test": [
                          0.7536651793,
                          0.6798232157
                        ]
                      },
                      {
                        "iteration": 255,
                        "learn": [
                          0.7623725081,
                          0.653546519
                        ],
                        "passed_time": 4.009321676,
                        "remaining_time": 3.821384722,
                        "test": [
                          0.7537810743,
                          0.6798268082
                        ]
                      },
                      {
                        "iteration": 256,
                        "learn": [
                          0.7623145573,
                          0.6534794138
                        ],
                        "passed_time": 4.023266098,
                        "remaining_time": 3.804099852,
                        "test": [
                          0.7540128643,
                          0.6798291097
                        ]
                      },
                      {
                        "iteration": 257,
                        "learn": [
                          0.7623435327,
                          0.653346937
                        ],
                        "passed_time": 4.039554162,
                        "remaining_time": 3.789039176,
                        "test": [
                          0.7536072318,
                          0.6798837739
                        ]
                      },
                      {
                        "iteration": 258,
                        "learn": [
                          0.7623435327,
                          0.6532908411
                        ],
                        "passed_time": 4.05336109,
                        "remaining_time": 3.771660319,
                        "test": [
                          0.7535492843,
                          0.6799119097
                        ]
                      },
                      {
                        "iteration": 259,
                        "learn": [
                          0.762836115,
                          0.6531477976
                        ],
                        "passed_time": 4.06799675,
                        "remaining_time": 3.755073923,
                        "test": [
                          0.7534333893,
                          0.6799301513
                        ]
                      },
                      {
                        "iteration": 260,
                        "learn": [
                          0.7629520167,
                          0.6530608931
                        ],
                        "passed_time": 4.082641677,
                        "remaining_time": 3.738510961,
                        "test": [
                          0.7536072318,
                          0.6798949178
                        ]
                      },
                      {
                        "iteration": 261,
                        "learn": [
                          0.7629230413,
                          0.6529891563
                        ],
                        "passed_time": 4.096857147,
                        "remaining_time": 3.721572523,
                        "test": [
                          0.7536651793,
                          0.6799145917
                        ]
                      },
                      {
                        "iteration": 262,
                        "learn": [
                          0.7629230413,
                          0.6529135947
                        ],
                        "passed_time": 4.111555832,
                        "remaining_time": 3.705090237,
                        "test": [
                          0.7535492843,
                          0.6799581994
                        ]
                      },
                      {
                        "iteration": 263,
                        "learn": [
                          0.762836115,
                          0.6528599652
                        ],
                        "passed_time": 4.126019603,
                        "remaining_time": 3.688411463,
                        "test": [
                          0.7534913368,
                          0.6799509504
                        ]
                      },
                      {
                        "iteration": 264,
                        "learn": [
                          0.763038943,
                          0.6527838499
                        ],
                        "passed_time": 4.140287168,
                        "remaining_time": 3.671575413,
                        "test": [
                          0.7534333893,
                          0.679976291
                        ]
                      },
                      {
                        "iteration": 265,
                        "learn": [
                          0.7629809921,
                          0.6526850174
                        ],
                        "passed_time": 4.155962793,
                        "remaining_time": 3.655997344,
                        "test": [
                          0.7535492843,
                          0.6799438049
                        ]
                      },
                      {
                        "iteration": 266,
                        "learn": [
                          0.7629520167,
                          0.652619793
                        ],
                        "passed_time": 4.170476843,
                        "remaining_time": 3.639404886,
                        "test": [
                          0.7534913368,
                          0.6799555299
                        ]
                      },
                      {
                        "iteration": 267,
                        "learn": [
                          0.7630099675,
                          0.6525504717
                        ],
                        "passed_time": 4.185111864,
                        "remaining_time": 3.622932659,
                        "test": [
                          0.7534333893,
                          0.6799736914
                        ]
                      },
                      {
                        "iteration": 268,
                        "learn": [
                          0.7633576727,
                          0.6524667053
                        ],
                        "passed_time": 4.199251582,
                        "remaining_time": 3.606048756,
                        "test": [
                          0.7536072318,
                          0.679985452
                        ]
                      },
                      {
                        "iteration": 269,
                        "learn": [
                          0.7633286973,
                          0.6523775524
                        ],
                        "passed_time": 4.214053909,
                        "remaining_time": 3.589749626,
                        "test": [
                          0.7537810743,
                          0.6799795357
                        ]
                      },
                      {
                        "iteration": 270,
                        "learn": [
                          0.7633286973,
                          0.6522287491
                        ],
                        "passed_time": 4.229392284,
                        "remaining_time": 3.573914513,
                        "test": [
                          0.7537231268,
                          0.6799899604
                        ]
                      },
                      {
                        "iteration": 271,
                        "learn": [
                          0.7633286973,
                          0.6521110591
                        ],
                        "passed_time": 4.244118565,
                        "remaining_time": 3.557569974,
                        "test": [
                          0.7537810743,
                          0.6799790666
                        ]
                      },
                      {
                        "iteration": 272,
                        "learn": [
                          0.763444599,
                          0.6520452294
                        ],
                        "passed_time": 4.25891258,
                        "remaining_time": 3.54129361,
                        "test": [
                          0.7537810743,
                          0.6799781548
                        ]
                      },
                      {
                        "iteration": 273,
                        "learn": [
                          0.7635315253,
                          0.6519885014
                        ],
                        "passed_time": 4.273229016,
                        "remaining_time": 3.524634152,
                        "test": [
                          0.7538390218,
                          0.6799964441
                        ]
                      },
                      {
                        "iteration": 274,
                        "learn": [
                          0.7636764024,
                          0.6519061486
                        ],
                        "passed_time": 4.288168868,
                        "remaining_time": 3.508501801,
                        "test": [
                          0.7539549168,
                          0.6799564272
                        ]
                      },
                      {
                        "iteration": 275,
                        "learn": [
                          0.7635315253,
                          0.651830909
                        ],
                        "passed_time": 4.303560702,
                        "remaining_time": 3.492744918,
                        "test": [
                          0.7538390218,
                          0.6799480016
                        ]
                      },
                      {
                        "iteration": 276,
                        "learn": [
                          0.763647427,
                          0.6517774448
                        ],
                        "passed_time": 4.317980038,
                        "remaining_time": 3.476207756,
                        "test": [
                          0.7538390218,
                          0.6799542457
                        ]
                      },
                      {
                        "iteration": 277,
                        "learn": [
                          0.7637343533,
                          0.6516593471
                        ],
                        "passed_time": 4.333260417,
                        "remaining_time": 3.460373426,
                        "test": [
                          0.7538969693,
                          0.6799708161
                        ]
                      },
                      {
                        "iteration": 278,
                        "learn": [
                          0.7637633287,
                          0.6515776403
                        ],
                        "passed_time": 4.347617635,
                        "remaining_time": 3.443811818,
                        "test": [
                          0.7535492843,
                          0.6800152342
                        ]
                      },
                      {
                        "iteration": 279,
                        "learn": [
                          0.7636764024,
                          0.6514942319
                        ],
                        "passed_time": 4.36270516,
                        "remaining_time": 3.427839769,
                        "test": [
                          0.7536072318,
                          0.6799964446
                        ]
                      },
                      {
                        "iteration": 280,
                        "learn": [
                          0.7636764024,
                          0.6513895628
                        ],
                        "passed_time": 4.379298969,
                        "remaining_time": 3.413047951,
                        "test": [
                          0.7533754418,
                          0.6800282388
                        ]
                      },
                      {
                        "iteration": 281,
                        "learn": [
                          0.7635894761,
                          0.6513512661
                        ],
                        "passed_time": 4.393477713,
                        "remaining_time": 3.396376388,
                        "test": [
                          0.7534333893,
                          0.6800301894
                        ]
                      },
                      {
                        "iteration": 282,
                        "learn": [
                          0.7637053778,
                          0.6512755081
                        ],
                        "passed_time": 4.408002634,
                        "remaining_time": 3.379987885,
                        "test": [
                          0.7533174944,
                          0.6800719808
                        ]
                      },
                      {
                        "iteration": 283,
                        "learn": [
                          0.7637633287,
                          0.6512256847
                        ],
                        "passed_time": 4.422468015,
                        "remaining_time": 3.363567223,
                        "test": [
                          0.7531436519,
                          0.6800664178
                        ]
                      },
                      {
                        "iteration": 284,
                        "learn": [
                          0.764053083,
                          0.6511262761
                        ],
                        "passed_time": 4.440305391,
                        "remaining_time": 3.349704067,
                        "test": [
                          0.7534913368,
                          0.6800639947
                        ]
                      },
                      {
                        "iteration": 285,
                        "learn": [
                          0.7639661567,
                          0.6510579084
                        ],
                        "passed_time": 4.454933396,
                        "remaining_time": 3.333411702,
                        "test": [
                          0.7532015994,
                          0.6800618883
                        ]
                      },
                      {
                        "iteration": 286,
                        "learn": [
                          0.7639371813,
                          0.650969495
                        ],
                        "passed_time": 4.469326175,
                        "remaining_time": 3.31695636,
                        "test": [
                          0.7533174944,
                          0.6800650531
                        ]
                      },
                      {
                        "iteration": 287,
                        "learn": [
                          0.7639951321,
                          0.6508785177
                        ],
                        "passed_time": 4.492394121,
                        "remaining_time": 3.306901228,
                        "test": [
                          0.7533174944,
                          0.6800673093
                        ]
                      },
                      {
                        "iteration": 288,
                        "learn": [
                          0.764053083,
                          0.6507870213
                        ],
                        "passed_time": 4.510155743,
                        "remaining_time": 3.292881875,
                        "test": [
                          0.7533174944,
                          0.6800528963
                        ]
                      },
                      {
                        "iteration": 289,
                        "learn": [
                          0.7641400093,
                          0.6506698658
                        ],
                        "passed_time": 4.525620344,
                        "remaining_time": 3.277173353,
                        "test": [
                          0.7534333893,
                          0.6800382344
                        ]
                      },
                      {
                        "iteration": 290,
                        "learn": [
                          0.7643718127,
                          0.6505661017
                        ],
                        "passed_time": 4.540297055,
                        "remaining_time": 3.260900634,
                        "test": [
                          0.7536072318,
                          0.6800403514
                        ]
                      },
                      {
                        "iteration": 291,
                        "learn": [
                          0.7644877144,
                          0.6504944378
                        ],
                        "passed_time": 4.554499242,
                        "remaining_time": 3.24430083,
                        "test": [
                          0.7534333893,
                          0.680062874
                        ]
                      },
                      {
                        "iteration": 292,
                        "learn": [
                          0.7645166898,
                          0.6503988264
                        ],
                        "passed_time": 4.56862585,
                        "remaining_time": 3.227663997,
                        "test": [
                          0.7533174944,
                          0.6800885967
                        ]
                      },
                      {
                        "iteration": 293,
                        "learn": [
                          0.7647195178,
                          0.6503445349
                        ],
                        "passed_time": 4.582793169,
                        "remaining_time": 3.211072765,
                        "test": [
                          0.7534913368,
                          0.6800881074
                        ]
                      },
                      {
                        "iteration": 294,
                        "learn": [
                          0.7649223459,
                          0.6502808825
                        ],
                        "passed_time": 4.59637811,
                        "remaining_time": 3.194093263,
                        "test": [
                          0.7536072318,
                          0.6801041549
                        ]
                      },
                      {
                        "iteration": 295,
                        "learn": [
                          0.7648354196,
                          0.6502166881
                        ],
                        "passed_time": 4.610187757,
                        "remaining_time": 3.177291562,
                        "test": [
                          0.7537231268,
                          0.6800918911
                        ]
                      },
                      {
                        "iteration": 296,
                        "learn": [
                          0.7647774687,
                          0.6501572243
                        ],
                        "passed_time": 4.625120756,
                        "remaining_time": 3.161277823,
                        "test": [
                          0.7537231268,
                          0.6800896426
                        ]
                      },
                      {
                        "iteration": 297,
                        "learn": [
                          0.7648354196,
                          0.6500691532
                        ],
                        "passed_time": 4.639668851,
                        "remaining_time": 3.14501043,
                        "test": [
                          0.7538969693,
                          0.6801438333
                        ]
                      },
                      {
                        "iteration": 298,
                        "learn": [
                          0.7648354196,
                          0.6499833781
                        ],
                        "passed_time": 4.654110268,
                        "remaining_time": 3.128682822,
                        "test": [
                          0.7538969693,
                          0.6801418896
                        ]
                      },
                      {
                        "iteration": 299,
                        "learn": [
                          0.7650961984,
                          0.6499158692
                        ],
                        "passed_time": 4.66806593,
                        "remaining_time": 3.112043953,
                        "test": [
                          0.7538969693,
                          0.6801702877
                        ]
                      },
                      {
                        "iteration": 300,
                        "learn": [
                          0.7649513213,
                          0.6498496446
                        ],
                        "passed_time": 4.684148203,
                        "remaining_time": 3.096828878,
                        "test": [
                          0.7540128643,
                          0.680215265
                        ]
                      },
                      {
                        "iteration": 301,
                        "learn": [
                          0.7649223459,
                          0.6497174393
                        ],
                        "passed_time": 4.699377988,
                        "remaining_time": 3.081049145,
                        "test": [
                          0.7539549168,
                          0.6802262901
                        ]
                      },
                      {
                        "iteration": 302,
                        "learn": [
                          0.7651541493,
                          0.6496412859
                        ],
                        "passed_time": 4.712882059,
                        "remaining_time": 3.064151042,
                        "test": [
                          0.7541287593,
                          0.6802284437
                        ]
                      },
                      {
                        "iteration": 303,
                        "learn": [
                          0.7651831247,
                          0.6495338384
                        ],
                        "passed_time": 4.728104749,
                        "remaining_time": 3.048383325,
                        "test": [
                          0.7540128643,
                          0.6802690799
                        ]
                      },
                      {
                        "iteration": 304,
                        "learn": [
                          0.7652410756,
                          0.6494416128
                        ],
                        "passed_time": 4.742487523,
                        "remaining_time": 3.032082187,
                        "test": [
                          0.7540708118,
                          0.6802386862
                        ]
                      },
                      {
                        "iteration": 305,
                        "learn": [
                          0.7652410756,
                          0.6494002371
                        ],
                        "passed_time": 4.757042471,
                        "remaining_time": 3.015902743,
                        "test": [
                          0.7540128643,
                          0.6802392227
                        ]
                      },
                      {
                        "iteration": 306,
                        "learn": [
                          0.7651541493,
                          0.6493492505
                        ],
                        "passed_time": 4.77171267,
                        "remaining_time": 2.999806336,
                        "test": [
                          0.7541867068,
                          0.6802464833
                        ]
                      },
                      {
                        "iteration": 307,
                        "learn": [
                          0.7651831247,
                          0.6492274509
                        ],
                        "passed_time": 4.787066133,
                        "remaining_time": 2.984145122,
                        "test": [
                          0.7541287593,
                          0.6801963791
                        ]
                      },
                      {
                        "iteration": 308,
                        "learn": [
                          0.765270051,
                          0.6491825976
                        ],
                        "passed_time": 4.801503792,
                        "remaining_time": 2.96791982,
                        "test": [
                          0.7544764443,
                          0.680174023
                        ]
                      },
                      {
                        "iteration": 309,
                        "learn": [
                          0.7653280019,
                          0.6490659768
                        ],
                        "passed_time": 4.816070737,
                        "remaining_time": 2.951785291,
                        "test": [
                          0.7545923393,
                          0.6801497859
                        ]
                      },
                      {
                        "iteration": 310,
                        "learn": [
                          0.7652121001,
                          0.6489991464
                        ],
                        "passed_time": 4.830840815,
                        "remaining_time": 2.93578429,
                        "test": [
                          0.7545923393,
                          0.6801146793
                        ]
                      },
                      {
                        "iteration": 311,
                        "learn": [
                          0.7651831247,
                          0.6489452677
                        ],
                        "passed_time": 4.844424989,
                        "remaining_time": 2.919076596,
                        "test": [
                          0.7545923393,
                          0.6801439079
                        ]
                      },
                      {
                        "iteration": 312,
                        "learn": [
                          0.7651251739,
                          0.6488337631
                        ],
                        "passed_time": 4.859386502,
                        "remaining_time": 2.903211744,
                        "test": [
                          0.7544184968,
                          0.6801136158
                        ]
                      },
                      {
                        "iteration": 313,
                        "learn": [
                          0.7651541493,
                          0.6487571079
                        ],
                        "passed_time": 4.874133112,
                        "remaining_time": 2.887225347,
                        "test": [
                          0.7544764443,
                          0.6801274941
                        ]
                      },
                      {
                        "iteration": 314,
                        "learn": [
                          0.7651831247,
                          0.6486533154
                        ],
                        "passed_time": 4.888303305,
                        "remaining_time": 2.87090829,
                        "test": [
                          0.7544184968,
                          0.6801288182
                        ]
                      },
                      {
                        "iteration": 315,
                        "learn": [
                          0.7655018544,
                          0.6485245101
                        ],
                        "passed_time": 4.903209378,
                        "remaining_time": 2.855033309,
                        "test": [
                          0.7543026018,
                          0.6801756696
                        ]
                      },
                      {
                        "iteration": 316,
                        "learn": [
                          0.7655887807,
                          0.6484238238
                        ],
                        "passed_time": 4.918432849,
                        "remaining_time": 2.83934767,
                        "test": [
                          0.7541287593,
                          0.680172385
                        ]
                      },
                      {
                        "iteration": 317,
                        "learn": [
                          0.765675707,
                          0.6483648808
                        ],
                        "passed_time": 4.935302751,
                        "remaining_time": 2.824607235,
                        "test": [
                          0.7544184968,
                          0.6801663337
                        ]
                      },
                      {
                        "iteration": 318,
                        "learn": [
                          0.765675707,
                          0.6483035253
                        ],
                        "passed_time": 4.949887807,
                        "remaining_time": 2.808557031,
                        "test": [
                          0.7544184968,
                          0.6801724418
                        ]
                      },
                      {
                        "iteration": 319,
                        "learn": [
                          0.7657916087,
                          0.6482001798
                        ],
                        "passed_time": 4.979620506,
                        "remaining_time": 2.801036535,
                        "test": [
                          0.7540128643,
                          0.6801973201
                        ]
                      },
                      {
                        "iteration": 320,
                        "learn": [
                          0.765878535,
                          0.6481457691
                        ],
                        "passed_time": 5.007844198,
                        "remaining_time": 2.792536173,
                        "test": [
                          0.7541867068,
                          0.6802140779
                        ]
                      },
                      {
                        "iteration": 321,
                        "learn": [
                          0.766081363,
                          0.6480427975
                        ],
                        "passed_time": 5.028247307,
                        "remaining_time": 2.779590126,
                        "test": [
                          0.7540128643,
                          0.6802159625
                        ]
                      },
                      {
                        "iteration": 322,
                        "learn": [
                          0.7661972647,
                          0.647965976
                        ],
                        "passed_time": 5.042347059,
                        "remaining_time": 2.763143745,
                        "test": [
                          0.7538969693,
                          0.6802535395
                        ]
                      },
                      {
                        "iteration": 323,
                        "learn": [
                          0.7661393139,
                          0.6478972161
                        ],
                        "passed_time": 5.056426833,
                        "remaining_time": 2.746700996,
                        "test": [
                          0.7536651793,
                          0.6802691016
                        ]
                      },
                      {
                        "iteration": 324,
                        "learn": [
                          0.7661972647,
                          0.6477870453
                        ],
                        "passed_time": 5.071311731,
                        "remaining_time": 2.730706317,
                        "test": [
                          0.7536072318,
                          0.68027435
                        ]
                      },
                      {
                        "iteration": 325,
                        "learn": [
                          0.766081363,
                          0.6477220718
                        ],
                        "passed_time": 5.085675572,
                        "remaining_time": 2.714440336,
                        "test": [
                          0.7536651793,
                          0.6802448718
                        ]
                      },
                      {
                        "iteration": 326,
                        "learn": [
                          0.7662262401,
                          0.6476322885
                        ],
                        "passed_time": 5.100272134,
                        "remaining_time": 2.698309111,
                        "test": [
                          0.7536651793,
                          0.6802793373
                        ]
                      },
                      {
                        "iteration": 327,
                        "learn": [
                          0.7664000927,
                          0.6475430743
                        ],
                        "passed_time": 5.115527679,
                        "remaining_time": 2.682532807,
                        "test": [
                          0.7533754418,
                          0.6802508923
                        ]
                      },
                      {
                        "iteration": 328,
                        "learn": [
                          0.7664000927,
                          0.6474924213
                        ],
                        "passed_time": 5.129502495,
                        "remaining_time": 2.666094002,
                        "test": [
                          0.7531436519,
                          0.6802719018
                        ]
                      },
                      {
                        "iteration": 329,
                        "learn": [
                          0.7663711173,
                          0.6474057422
                        ],
                        "passed_time": 5.144627079,
                        "remaining_time": 2.650262435,
                        "test": [
                          0.7533754418,
                          0.6802966474
                        ]
                      },
                      {
                        "iteration": 330,
                        "learn": [
                          0.7664290682,
                          0.6473287268
                        ],
                        "passed_time": 5.158917766,
                        "remaining_time": 2.634009373,
                        "test": [
                          0.7534333893,
                          0.680269756
                        ]
                      },
                      {
                        "iteration": 331,
                        "learn": [
                          0.7664000927,
                          0.6471952754
                        ],
                        "passed_time": 5.174288417,
                        "remaining_time": 2.618314621,
                        "test": [
                          0.7533754418,
                          0.6802870188
                        ]
                      },
                      {
                        "iteration": 332,
                        "learn": [
                          0.7664000927,
                          0.647040744
                        ],
                        "passed_time": 5.189333167,
                        "remaining_time": 2.602458375,
                        "test": [
                          0.7534333893,
                          0.6802575625
                        ]
                      },
                      {
                        "iteration": 333,
                        "learn": [
                          0.7665449699,
                          0.6469847233
                        ],
                        "passed_time": 5.202491628,
                        "remaining_time": 2.585669492,
                        "test": [
                          0.7534333893,
                          0.6802785057
                        ]
                      },
                      {
                        "iteration": 334,
                        "learn": [
                          0.7665449699,
                          0.6468941232
                        ],
                        "passed_time": 5.217749883,
                        "remaining_time": 2.56993651,
                        "test": [
                          0.7534913368,
                          0.6802636229
                        ]
                      },
                      {
                        "iteration": 335,
                        "learn": [
                          0.7666318962,
                          0.6468308193
                        ],
                        "passed_time": 5.231998994,
                        "remaining_time": 2.553713795,
                        "test": [
                          0.7534913368,
                          0.6802587614
                        ]
                      },
                      {
                        "iteration": 336,
                        "learn": [
                          0.766487019,
                          0.6467489225
                        ],
                        "passed_time": 5.246472607,
                        "remaining_time": 2.53761138,
                        "test": [
                          0.7535492843,
                          0.6802769927
                        ]
                      },
                      {
                        "iteration": 337,
                        "learn": [
                          0.766689847,
                          0.6466271285
                        ],
                        "passed_time": 5.261871367,
                        "remaining_time": 2.521962016,
                        "test": [
                          0.7534913368,
                          0.6802940968
                        ]
                      },
                      {
                        "iteration": 338,
                        "learn": [
                          0.766689847,
                          0.6465513783
                        ],
                        "passed_time": 5.277133667,
                        "remaining_time": 2.506249323,
                        "test": [
                          0.7534333893,
                          0.6803045854
                        ]
                      },
                      {
                        "iteration": 339,
                        "learn": [
                          0.7666029207,
                          0.6465074576
                        ],
                        "passed_time": 5.290891511,
                        "remaining_time": 2.489831299,
                        "test": [
                          0.7534913368,
                          0.6802911538
                        ]
                      },
                      {
                        "iteration": 340,
                        "learn": [
                          0.7667188224,
                          0.6464691084
                        ],
                        "passed_time": 5.304962112,
                        "remaining_time": 2.473574709,
                        "test": [
                          0.7534333893,
                          0.6802891994
                        ]
                      },
                      {
                        "iteration": 341,
                        "learn": [
                          0.7667767733,
                          0.646413582
                        ],
                        "passed_time": 5.319732597,
                        "remaining_time": 2.457654241,
                        "test": [
                          0.7537231268,
                          0.6802727329
                        ]
                      },
                      {
                        "iteration": 342,
                        "learn": [
                          0.766892675,
                          0.6463421922
                        ],
                        "passed_time": 5.334357602,
                        "remaining_time": 2.441673888,
                        "test": [
                          0.7534913368,
                          0.6802624955
                        ]
                      },
                      {
                        "iteration": 343,
                        "learn": [
                          0.7669216504,
                          0.6462801164
                        ],
                        "passed_time": 5.349283085,
                        "remaining_time": 2.425837678,
                        "test": [
                          0.7534913368,
                          0.6802699321
                        ]
                      },
                      {
                        "iteration": 344,
                        "learn": [
                          0.7668636996,
                          0.6462075896
                        ],
                        "passed_time": 5.363858738,
                        "remaining_time": 2.409849578,
                        "test": [
                          0.7536072318,
                          0.6802715942
                        ]
                      },
                      {
                        "iteration": 345,
                        "learn": [
                          0.7669216504,
                          0.6461375191
                        ],
                        "passed_time": 5.381345059,
                        "remaining_time": 2.395165142,
                        "test": [
                          0.7534913368,
                          0.6803085866
                        ]
                      },
                      {
                        "iteration": 346,
                        "learn": [
                          0.7669796013,
                          0.6460750083
                        ],
                        "passed_time": 5.395884299,
                        "remaining_time": 2.379165123,
                        "test": [
                          0.7531436519,
                          0.6803302896
                        ]
                      },
                      {
                        "iteration": 347,
                        "learn": [
                          0.7668347242,
                          0.6460050678
                        ],
                        "passed_time": 5.409458939,
                        "remaining_time": 2.36275218,
                        "test": [
                          0.7532015994,
                          0.6803187922
                        ]
                      },
                      {
                        "iteration": 348,
                        "learn": [
                          0.7669506259,
                          0.6459197954
                        ],
                        "passed_time": 5.423731546,
                        "remaining_time": 2.346657488,
                        "test": [
                          0.7532015994,
                          0.6803096958
                        ]
                      },
                      {
                        "iteration": 349,
                        "learn": [
                          0.7670085767,
                          0.6458722704
                        ],
                        "passed_time": 5.437403153,
                        "remaining_time": 2.330315637,
                        "test": [
                          0.7532015994,
                          0.6803057462
                        ]
                      },
                      {
                        "iteration": 350,
                        "learn": [
                          0.7670085767,
                          0.6457652921
                        ],
                        "passed_time": 5.455347626,
                        "remaining_time": 2.315802839,
                        "test": [
                          0.7532595469,
                          0.6803345815
                        ]
                      },
                      {
                        "iteration": 351,
                        "learn": [
                          0.7669796013,
                          0.6456885845
                        ],
                        "passed_time": 5.468892148,
                        "remaining_time": 2.299420562,
                        "test": [
                          0.7532595469,
                          0.6803890828
                        ]
                      },
                      {
                        "iteration": 352,
                        "learn": [
                          0.7670375522,
                          0.6456357518
                        ],
                        "passed_time": 5.502968458,
                        "remaining_time": 2.291604429,
                        "test": [
                          0.7532595469,
                          0.6804143811
                        ]
                      },
                      {
                        "iteration": 353,
                        "learn": [
                          0.7672114047,
                          0.6455872129
                        ],
                        "passed_time": 5.520857713,
                        "remaining_time": 2.276963916,
                        "test": [
                          0.7532015994,
                          0.6803908155
                        ]
                      },
                      {
                        "iteration": 354,
                        "learn": [
                          0.7671244784,
                          0.6455245942
                        ],
                        "passed_time": 5.535677656,
                        "remaining_time": 2.261051437,
                        "test": [
                          0.7533174944,
                          0.6803803068
                        ]
                      },
                      {
                        "iteration": 355,
                        "learn": [
                          0.7669796013,
                          0.6454201338
                        ],
                        "passed_time": 5.550457702,
                        "remaining_time": 2.245128958,
                        "test": [
                          0.7528539144,
                          0.680432631
                        ]
                      },
                      {
                        "iteration": 356,
                        "learn": [
                          0.7670085767,
                          0.6453049367
                        ],
                        "passed_time": 5.565662844,
                        "remaining_time": 2.229383156,
                        "test": [
                          0.7529698094,
                          0.6804057032
                        ]
                      },
                      {
                        "iteration": 357,
                        "learn": [
                          0.7672403802,
                          0.6452349979
                        ],
                        "passed_time": 5.579582353,
                        "remaining_time": 2.21313043,
                        "test": [
                          0.7529698094,
                          0.6804207133
                        ]
                      },
                      {
                        "iteration": 358,
                        "learn": [
                          0.7672114047,
                          0.6451144466
                        ],
                        "passed_time": 5.594326121,
                        "remaining_time": 2.197214437,
                        "test": [
                          0.7528539144,
                          0.6804727583
                        ]
                      },
                      {
                        "iteration": 359,
                        "learn": [
                          0.7672403802,
                          0.6450371309
                        ],
                        "passed_time": 5.608515278,
                        "remaining_time": 2.181089275,
                        "test": [
                          0.7527959669,
                          0.6804738448
                        ]
                      },
                      {
                        "iteration": 360,
                        "learn": [
                          0.7673273064,
                          0.6449617645
                        ],
                        "passed_time": 5.623190044,
                        "remaining_time": 2.165161818,
                        "test": [
                          0.7529698094,
                          0.6804891641
                        ]
                      },
                      {
                        "iteration": 361,
                        "learn": [
                          0.7672693556,
                          0.6448761707
                        ],
                        "passed_time": 5.637971801,
                        "remaining_time": 2.149282068,
                        "test": [
                          0.7530277569,
                          0.6804422316
                        ]
                      },
                      {
                        "iteration": 362,
                        "learn": [
                          0.7673852573,
                          0.6448019563
                        ],
                        "passed_time": 5.652143443,
                        "remaining_time": 2.133178104,
                        "test": [
                          0.7529698094,
                          0.6804291744
                        ]
                      },
                      {
                        "iteration": 363,
                        "learn": [
                          0.767501159,
                          0.6447317716
                        ],
                        "passed_time": 5.666798789,
                        "remaining_time": 2.117265482,
                        "test": [
                          0.7530277569,
                          0.6804197351
                        ]
                      },
                      {
                        "iteration": 364,
                        "learn": [
                          0.7673852573,
                          0.6446481137
                        ],
                        "passed_time": 5.681821319,
                        "remaining_time": 2.101495556,
                        "test": [
                          0.7529698094,
                          0.68046646
                        ]
                      },
                      {
                        "iteration": 365,
                        "learn": [
                          0.767703987,
                          0.6445882647
                        ],
                        "passed_time": 5.695995931,
                        "remaining_time": 2.085419275,
                        "test": [
                          0.7530857044,
                          0.6804559353
                        ]
                      },
                      {
                        "iteration": 366,
                        "learn": [
                          0.7679937413,
                          0.6445175384
                        ],
                        "passed_time": 5.709372522,
                        "remaining_time": 2.069064156,
                        "test": [
                          0.7528539144,
                          0.6804586795
                        ]
                      },
                      {
                        "iteration": 367,
                        "learn": [
                          0.7678488642,
                          0.6444212191
                        ],
                        "passed_time": 5.723325403,
                        "remaining_time": 2.052931938,
                        "test": [
                          0.7529118619,
                          0.6804690873
                        ]
                      },
                      {
                        "iteration": 368,
                        "learn": [
                          0.7678778396,
                          0.64435731
                        ],
                        "passed_time": 5.737394846,
                        "remaining_time": 2.036852913,
                        "test": [
                          0.7529118619,
                          0.6804791222
                        ]
                      },
                      {
                        "iteration": 369,
                        "learn": [
                          0.7677619379,
                          0.644292377
                        ],
                        "passed_time": 5.750890157,
                        "remaining_time": 2.020583028,
                        "test": [
                          0.7529118619,
                          0.6804521455
                        ]
                      },
                      {
                        "iteration": 370,
                        "learn": [
                          0.7676750116,
                          0.64424158
                        ],
                        "passed_time": 5.764859431,
                        "remaining_time": 2.004492902,
                        "test": [
                          0.7530857044,
                          0.6804557975
                        ]
                      },
                      {
                        "iteration": 371,
                        "learn": [
                          0.7676750116,
                          0.6441961105
                        ],
                        "passed_time": 5.778438449,
                        "remaining_time": 1.988279896,
                        "test": [
                          0.7528539144,
                          0.680481036
                        ]
                      },
                      {
                        "iteration": 372,
                        "learn": [
                          0.7676750116,
                          0.6440872213
                        ],
                        "passed_time": 5.792977999,
                        "remaining_time": 1.972408059,
                        "test": [
                          0.7530277569,
                          0.6804791013
                        ]
                      },
                      {
                        "iteration": 373,
                        "learn": [
                          0.7679937413,
                          0.6439440084
                        ],
                        "passed_time": 5.807505562,
                        "remaining_time": 1.956539307,
                        "test": [
                          0.7530277569,
                          0.6805628232
                        ]
                      },
                      {
                        "iteration": 374,
                        "learn": [
                          0.7679937413,
                          0.6438748594
                        ],
                        "passed_time": 5.821486774,
                        "remaining_time": 1.940495591,
                        "test": [
                          0.7529698094,
                          0.6805307919
                        ]
                      },
                      {
                        "iteration": 375,
                        "learn": [
                          0.7679357904,
                          0.6438217698
                        ],
                        "passed_time": 5.835501444,
                        "remaining_time": 1.924473881,
                        "test": [
                          0.7529698094,
                          0.6805347911
                        ]
                      },
                      {
                        "iteration": 376,
                        "learn": [
                          0.768109643,
                          0.6437809821
                        ],
                        "passed_time": 5.849347997,
                        "remaining_time": 1.908407967,
                        "test": [
                          0.7530857044,
                          0.680499524
                        ]
                      },
                      {
                        "iteration": 377,
                        "learn": [
                          0.7683704219,
                          0.6437069479
                        ],
                        "passed_time": 5.863215927,
                        "remaining_time": 1.892360696,
                        "test": [
                          0.7531436519,
                          0.6805037488
                        ]
                      },
                      {
                        "iteration": 378,
                        "learn": [
                          0.7681675939,
                          0.6436297808
                        ],
                        "passed_time": 5.877773664,
                        "remaining_time": 1.876545154,
                        "test": [
                          0.7527959669,
                          0.6805046574
                        ]
                      },
                      {
                        "iteration": 379,
                        "learn": [
                          0.7681965693,
                          0.6435939627
                        ],
                        "passed_time": 5.891811494,
                        "remaining_time": 1.860572051,
                        "test": [
                          0.7525641769,
                          0.6805217472
                        ]
                      },
                      {
                        "iteration": 380,
                        "learn": [
                          0.7681675939,
                          0.6435382938
                        ],
                        "passed_time": 5.905619201,
                        "remaining_time": 1.844537231,
                        "test": [
                          0.7527959669,
                          0.6805273338
                        ]
                      },
                      {
                        "iteration": 381,
                        "learn": [
                          0.768109643,
                          0.6434596202
                        ],
                        "passed_time": 5.919569141,
                        "remaining_time": 1.828558007,
                        "test": [
                          0.7525641769,
                          0.6805159183
                        ]
                      },
                      {
                        "iteration": 382,
                        "learn": [
                          0.7683704219,
                          0.6433942347
                        ],
                        "passed_time": 5.933669672,
                        "remaining_time": 1.812635383,
                        "test": [
                          0.7526221244,
                          0.6805448472
                        ]
                      },
                      {
                        "iteration": 383,
                        "learn": [
                          0.7683704219,
                          0.643323501
                        ],
                        "passed_time": 5.948701004,
                        "remaining_time": 1.797003428,
                        "test": [
                          0.7527380194,
                          0.6806017362
                        ]
                      },
                      {
                        "iteration": 384,
                        "learn": [
                          0.7683704219,
                          0.6432864383
                        ],
                        "passed_time": 5.962169549,
                        "remaining_time": 1.780907787,
                        "test": [
                          0.7526221244,
                          0.6805915028
                        ]
                      },
                      {
                        "iteration": 385,
                        "learn": [
                          0.7683704219,
                          0.643200341
                        ],
                        "passed_time": 6.013217974,
                        "remaining_time": 1.775924479,
                        "test": [
                          0.7526800719,
                          0.6805976994
                        ]
                      },
                      {
                        "iteration": 386,
                        "learn": [
                          0.7684863236,
                          0.6431624134
                        ],
                        "passed_time": 6.036335914,
                        "remaining_time": 1.762547696,
                        "test": [
                          0.7527959669,
                          0.6806021941
                        ]
                      },
                      {
                        "iteration": 387,
                        "learn": [
                          0.7684573482,
                          0.6431115681
                        ],
                        "passed_time": 6.051208172,
                        "remaining_time": 1.746740503,
                        "test": [
                          0.7527959669,
                          0.6805810245
                        ]
                      },
                      {
                        "iteration": 388,
                        "learn": [
                          0.7685442745,
                          0.6430381053
                        ],
                        "passed_time": 6.06568278,
                        "remaining_time": 1.730824649,
                        "test": [
                          0.7528539144,
                          0.6805503493
                        ]
                      },
                      {
                        "iteration": 389,
                        "learn": [
                          0.7684863236,
                          0.6429782587
                        ],
                        "passed_time": 6.079586944,
                        "remaining_time": 1.714755292,
                        "test": [
                          0.7527380194,
                          0.680581739
                        ]
                      },
                      {
                        "iteration": 390,
                        "learn": [
                          0.7686891516,
                          0.642901547
                        ],
                        "passed_time": 6.093456222,
                        "remaining_time": 1.698687284,
                        "test": [
                          0.7529698094,
                          0.6805733709
                        ]
                      },
                      {
                        "iteration": 391,
                        "learn": [
                          0.7687760779,
                          0.642789964
                        ],
                        "passed_time": 6.108418631,
                        "remaining_time": 1.682931664,
                        "test": [
                          0.7529118619,
                          0.6805687783
                        ]
                      },
                      {
                        "iteration": 392,
                        "learn": [
                          0.7688919796,
                          0.6427502701
                        ],
                        "passed_time": 6.124179398,
                        "remaining_time": 1.667397444,
                        "test": [
                          0.7530277569,
                          0.6805632287
                        ]
                      },
                      {
                        "iteration": 393,
                        "learn": [
                          0.7688919796,
                          0.6426667317
                        ],
                        "passed_time": 6.138328613,
                        "remaining_time": 1.65142851,
                        "test": [
                          0.7531436519,
                          0.6805232718
                        ]
                      },
                      {
                        "iteration": 394,
                        "learn": [
                          0.768920955,
                          0.6425360882
                        ],
                        "passed_time": 6.153524067,
                        "remaining_time": 1.635746904,
                        "test": [
                          0.7531436519,
                          0.6805059807
                        ]
                      },
                      {
                        "iteration": 395,
                        "learn": [
                          0.768920955,
                          0.6424347901
                        ],
                        "passed_time": 6.169729704,
                        "remaining_time": 1.620333053,
                        "test": [
                          0.7530857044,
                          0.6805225634
                        ]
                      },
                      {
                        "iteration": 396,
                        "learn": [
                          0.7689499305,
                          0.6423748836
                        ],
                        "passed_time": 6.184815186,
                        "remaining_time": 1.604624595,
                        "test": [
                          0.7530857044,
                          0.680551758
                        ]
                      },
                      {
                        "iteration": 397,
                        "learn": [
                          0.7688340287,
                          0.6423047107
                        ],
                        "passed_time": 6.198797088,
                        "remaining_time": 1.58863644,
                        "test": [
                          0.7533754418,
                          0.6805393717
                        ]
                      },
                      {
                        "iteration": 398,
                        "learn": [
                          0.7690078813,
                          0.6421889071
                        ],
                        "passed_time": 6.213096576,
                        "remaining_time": 1.572738732,
                        "test": [
                          0.7534333893,
                          0.6805265298
                        ]
                      },
                      {
                        "iteration": 399,
                        "learn": [
                          0.7690368567,
                          0.6421234744
                        ],
                        "passed_time": 6.227408901,
                        "remaining_time": 1.556852225,
                        "test": [
                          0.7534333893,
                          0.6805102124
                        ]
                      },
                      {
                        "iteration": 400,
                        "learn": [
                          0.7690658322,
                          0.6420670851
                        ],
                        "passed_time": 6.241248248,
                        "remaining_time": 1.540856799,
                        "test": [
                          0.7532595469,
                          0.680504145
                        ]
                      },
                      {
                        "iteration": 401,
                        "learn": [
                          0.7690368567,
                          0.642011362
                        ],
                        "passed_time": 6.256067368,
                        "remaining_time": 1.52511095,
                        "test": [
                          0.7532595469,
                          0.6804829247
                        ]
                      },
                      {
                        "iteration": 402,
                        "learn": [
                          0.7690658322,
                          0.6419291842
                        ],
                        "passed_time": 6.270736514,
                        "remaining_time": 1.509333603,
                        "test": [
                          0.7532595469,
                          0.6804554327
                        ]
                      },
                      {
                        "iteration": 403,
                        "learn": [
                          0.768920955,
                          0.6418828604
                        ],
                        "passed_time": 6.285641106,
                        "remaining_time": 1.493617688,
                        "test": [
                          0.7533754418,
                          0.6804405226
                        ]
                      },
                      {
                        "iteration": 404,
                        "learn": [
                          0.7688919796,
                          0.6418298936
                        ],
                        "passed_time": 6.300199077,
                        "remaining_time": 1.477824475,
                        "test": [
                          0.7531436519,
                          0.6804247792
                        ]
                      },
                      {
                        "iteration": 405,
                        "learn": [
                          0.7691817339,
                          0.6417595716
                        ],
                        "passed_time": 6.314645039,
                        "remaining_time": 1.462011413,
                        "test": [
                          0.7530277569,
                          0.680449661
                        ]
                      },
                      {
                        "iteration": 406,
                        "learn": [
                          0.769123783,
                          0.6416982207
                        ],
                        "passed_time": 6.329326413,
                        "remaining_time": 1.446258861,
                        "test": [
                          0.7529118619,
                          0.6804709995
                        ]
                      },
                      {
                        "iteration": 407,
                        "learn": [
                          0.7692686602,
                          0.6416472657
                        ],
                        "passed_time": 6.343328239,
                        "remaining_time": 1.430358328,
                        "test": [
                          0.7529118619,
                          0.6804489933
                        ]
                      },
                      {
                        "iteration": 408,
                        "learn": [
                          0.7692976356,
                          0.6415606693
                        ],
                        "passed_time": 6.357628928,
                        "remaining_time": 1.414533576,
                        "test": [
                          0.7529698094,
                          0.6804780837
                        ]
                      },
                      {
                        "iteration": 409,
                        "learn": [
                          0.769326611,
                          0.6414655513
                        ],
                        "passed_time": 6.374745789,
                        "remaining_time": 1.399334441,
                        "test": [
                          0.7530277569,
                          0.68048106
                        ]
                      },
                      {
                        "iteration": 410,
                        "learn": [
                          0.7694425127,
                          0.6413826207
                        ],
                        "passed_time": 6.389095329,
                        "remaining_time": 1.383526726,
                        "test": [
                          0.7531436519,
                          0.6804724754
                        ]
                      },
                      {
                        "iteration": 411,
                        "learn": [
                          0.7695004636,
                          0.6413178124
                        ],
                        "passed_time": 6.404021789,
                        "remaining_time": 1.367849314,
                        "test": [
                          0.7531436519,
                          0.680489201
                        ]
                      },
                      {
                        "iteration": 412,
                        "learn": [
                          0.7694425127,
                          0.6412606532
                        ],
                        "passed_time": 6.418250935,
                        "remaining_time": 1.352028647,
                        "test": [
                          0.7532015994,
                          0.6804962517
                        ]
                      },
                      {
                        "iteration": 413,
                        "learn": [
                          0.7693555865,
                          0.6412096683
                        ],
                        "passed_time": 6.433803733,
                        "remaining_time": 1.33649063,
                        "test": [
                          0.7530857044,
                          0.6804946786
                        ]
                      },
                      {
                        "iteration": 414,
                        "learn": [
                          0.7694135373,
                          0.6411656065
                        ],
                        "passed_time": 6.447985641,
                        "remaining_time": 1.320671758,
                        "test": [
                          0.7532595469,
                          0.6804565658
                        ]
                      },
                      {
                        "iteration": 415,
                        "learn": [
                          0.7694714882,
                          0.6410904109
                        ],
                        "passed_time": 6.463180254,
                        "remaining_time": 1.305065244,
                        "test": [
                          0.7532015994,
                          0.6804717157
                        ]
                      },
                      {
                        "iteration": 416,
                        "learn": [
                          0.7694714882,
                          0.6410571845
                        ],
                        "passed_time": 6.478421411,
                        "remaining_time": 1.289469969,
                        "test": [
                          0.7530857044,
                          0.6804727823
                        ]
                      },
                      {
                        "iteration": 417,
                        "learn": [
                          0.769529439,
                          0.6410055882
                        ],
                        "passed_time": 6.49229895,
                        "remaining_time": 1.273608885,
                        "test": [
                          0.7530857044,
                          0.6804861579
                        ]
                      },
                      {
                        "iteration": 418,
                        "learn": [
                          0.7695584145,
                          0.6409310943
                        ],
                        "passed_time": 6.515581976,
                        "remaining_time": 1.259575513,
                        "test": [
                          0.7530857044,
                          0.6804941738
                        ]
                      },
                      {
                        "iteration": 419,
                        "learn": [
                          0.7694135373,
                          0.6408501293
                        ],
                        "passed_time": 6.532675304,
                        "remaining_time": 1.244319106,
                        "test": [
                          0.7530277569,
                          0.6805300592
                        ]
                      },
                      {
                        "iteration": 420,
                        "learn": [
                          0.7695873899,
                          0.6407625817
                        ],
                        "passed_time": 6.547705475,
                        "remaining_time": 1.228666823,
                        "test": [
                          0.7530277569,
                          0.680542819
                        ]
                      },
                      {
                        "iteration": 421,
                        "learn": [
                          0.769529439,
                          0.6407173504
                        ],
                        "passed_time": 6.561321448,
                        "remaining_time": 1.212756097,
                        "test": [
                          0.7529698094,
                          0.6805586709
                        ]
                      },
                      {
                        "iteration": 422,
                        "learn": [
                          0.7696163653,
                          0.6406634758
                        ],
                        "passed_time": 6.576110967,
                        "remaining_time": 1.197069845,
                        "test": [
                          0.7530277569,
                          0.6805342792
                        ]
                      },
                      {
                        "iteration": 423,
                        "learn": [
                          0.7696453408,
                          0.6406015738
                        ],
                        "passed_time": 6.5906088,
                        "remaining_time": 1.18133554,
                        "test": [
                          0.7530857044,
                          0.6805606602
                        ]
                      },
                      {
                        "iteration": 424,
                        "learn": [
                          0.7696453408,
                          0.6405379151
                        ],
                        "passed_time": 6.60525353,
                        "remaining_time": 1.165632976,
                        "test": [
                          0.7531436519,
                          0.6805745438
                        ]
                      },
                      {
                        "iteration": 425,
                        "learn": [
                          0.7697612425,
                          0.6404728595
                        ],
                        "passed_time": 6.619723117,
                        "remaining_time": 1.149904955,
                        "test": [
                          0.7530277569,
                          0.6806188451
                        ]
                      },
                      {
                        "iteration": 426,
                        "learn": [
                          0.7698481688,
                          0.640415743
                        ],
                        "passed_time": 6.634107039,
                        "remaining_time": 1.134168182,
                        "test": [
                          0.7530857044,
                          0.6806255138
                        ]
                      },
                      {
                        "iteration": 427,
                        "learn": [
                          0.7699640705,
                          0.6403535046
                        ],
                        "passed_time": 6.647392347,
                        "remaining_time": 1.118252918,
                        "test": [
                          0.7528539144,
                          0.6806487779
                        ]
                      },
                      {
                        "iteration": 428,
                        "learn": [
                          0.7700509968,
                          0.6402973735
                        ],
                        "passed_time": 6.662469274,
                        "remaining_time": 1.10264643,
                        "test": [
                          0.7528539144,
                          0.6806462778
                        ]
                      },
                      {
                        "iteration": 429,
                        "learn": [
                          0.7700799722,
                          0.6402087193
                        ],
                        "passed_time": 6.676895765,
                        "remaining_time": 1.08693652,
                        "test": [
                          0.7528539144,
                          0.6806499111
                        ]
                      },
                      {
                        "iteration": 430,
                        "learn": [
                          0.7700509968,
                          0.6401052919
                        ],
                        "passed_time": 6.691704728,
                        "remaining_time": 1.071293796,
                        "test": [
                          0.7527959669,
                          0.6806541375
                        ]
                      },
                      {
                        "iteration": 431,
                        "learn": [
                          0.770137923,
                          0.6400406659
                        ],
                        "passed_time": 6.705733305,
                        "remaining_time": 1.055532094,
                        "test": [
                          0.7529698094,
                          0.6806460114
                        ]
                      },
                      {
                        "iteration": 432,
                        "learn": [
                          0.7701958739,
                          0.6399833345
                        ],
                        "passed_time": 6.720175701,
                        "remaining_time": 1.03984243,
                        "test": [
                          0.7527959669,
                          0.6806443961
                        ]
                      },
                      {
                        "iteration": 433,
                        "learn": [
                          0.7701668985,
                          0.6399217842
                        ],
                        "passed_time": 6.733857155,
                        "remaining_time": 1.024042793,
                        "test": [
                          0.7528539144,
                          0.6806514449
                        ]
                      },
                      {
                        "iteration": 434,
                        "learn": [
                          0.7702248493,
                          0.6398118096
                        ],
                        "passed_time": 6.748515667,
                        "remaining_time": 1.008398893,
                        "test": [
                          0.7526800719,
                          0.6807255987
                        ]
                      },
                      {
                        "iteration": 435,
                        "learn": [
                          0.7700799722,
                          0.639724888
                        ],
                        "passed_time": 6.762775205,
                        "remaining_time": 0.9927009475,
                        "test": [
                          0.7527380194,
                          0.6807384574
                        ]
                      },
                      {
                        "iteration": 436,
                        "learn": [
                          0.7702248493,
                          0.6396609963
                        ],
                        "passed_time": 6.776842804,
                        "remaining_time": 0.9769819145,
                        "test": [
                          0.7528539144,
                          0.6807296432
                        ]
                      },
                      {
                        "iteration": 437,
                        "learn": [
                          0.7701958739,
                          0.6396067905
                        ],
                        "passed_time": 6.790584624,
                        "remaining_time": 0.9612243075,
                        "test": [
                          0.7529118619,
                          0.6807108307
                        ]
                      },
                      {
                        "iteration": 438,
                        "learn": [
                          0.7701958739,
                          0.6395444217
                        ],
                        "passed_time": 6.805470388,
                        "remaining_time": 0.9456348376,
                        "test": [
                          0.7529118619,
                          0.6807104146
                        ]
                      },
                      {
                        "iteration": 439,
                        "learn": [
                          0.7702538248,
                          0.6394803501
                        ],
                        "passed_time": 6.820268849,
                        "remaining_time": 0.9300366612,
                        "test": [
                          0.7526800719,
                          0.6806985726
                        ]
                      },
                      {
                        "iteration": 440,
                        "learn": [
                          0.7702248493,
                          0.639392673
                        ],
                        "passed_time": 6.835175111,
                        "remaining_time": 0.9144565341,
                        "test": [
                          0.7528539144,
                          0.6806960948
                        ]
                      },
                      {
                        "iteration": 441,
                        "learn": [
                          0.770340751,
                          0.6393213104
                        ],
                        "passed_time": 6.849666697,
                        "remaining_time": 0.8988250417,
                        "test": [
                          0.7529698094,
                          0.6806966615
                        ]
                      },
                      {
                        "iteration": 442,
                        "learn": [
                          0.7705146036,
                          0.6392474365
                        ],
                        "passed_time": 6.864467541,
                        "remaining_time": 0.8832384872,
                        "test": [
                          0.7529118619,
                          0.6807315693
                        ]
                      },
                      {
                        "iteration": 443,
                        "learn": [
                          0.7705146036,
                          0.639222819
                        ],
                        "passed_time": 6.879653297,
                        "remaining_time": 0.8677040195,
                        "test": [
                          0.7529118619,
                          0.6807240422
                        ]
                      },
                      {
                        "iteration": 444,
                        "learn": [
                          0.7705725545,
                          0.6391672268
                        ],
                        "passed_time": 6.893884942,
                        "remaining_time": 0.8520531951,
                        "test": [
                          0.7530857044,
                          0.6807577705
                        ]
                      },
                      {
                        "iteration": 445,
                        "learn": [
                          0.7704566528,
                          0.6390584561
                        ],
                        "passed_time": 6.90895634,
                        "remaining_time": 0.8365104089,
                        "test": [
                          0.7530277569,
                          0.6807626289
                        ]
                      },
                      {
                        "iteration": 446,
                        "learn": [
                          0.7706305053,
                          0.6390040991
                        ],
                        "passed_time": 6.923371746,
                        "remaining_time": 0.8208919519,
                        "test": [
                          0.7529118619,
                          0.6807702553
                        ]
                      },
                      {
                        "iteration": 447,
                        "learn": [
                          0.770543579,
                          0.6388914714
                        ],
                        "passed_time": 6.938567298,
                        "remaining_time": 0.8053694185,
                        "test": [
                          0.7528539144,
                          0.6807867156
                        ]
                      },
                      {
                        "iteration": 448,
                        "learn": [
                          0.7706015299,
                          0.6388409415
                        ],
                        "passed_time": 6.95223918,
                        "remaining_time": 0.7896752743,
                        "test": [
                          0.7527959669,
                          0.6807931041
                        ]
                      },
                      {
                        "iteration": 449,
                        "learn": [
                          0.7707174316,
                          0.6387915244
                        ],
                        "passed_time": 6.966485036,
                        "remaining_time": 0.7740538928,
                        "test": [
                          0.7527959669,
                          0.6808035452
                        ]
                      },
                      {
                        "iteration": 450,
                        "learn": [
                          0.7709202596,
                          0.638727083
                        ],
                        "passed_time": 6.981795692,
                        "remaining_time": 0.7585542992,
                        "test": [
                          0.7527959669,
                          0.6807953678
                        ]
                      },
                      {
                        "iteration": 451,
                        "learn": [
                          0.770949235,
                          0.6386751647
                        ],
                        "passed_time": 7.034059599,
                        "remaining_time": 0.7469797805,
                        "test": [
                          0.7527380194,
                          0.6808142603
                        ]
                      },
                      {
                        "iteration": 452,
                        "learn": [
                          0.7709202596,
                          0.6385784531
                        ],
                        "passed_time": 7.061401588,
                        "remaining_time": 0.7326398999,
                        "test": [
                          0.7526800719,
                          0.6808062973
                        ]
                      },
                      {
                        "iteration": 453,
                        "learn": [
                          0.770949235,
                          0.6384983189
                        ],
                        "passed_time": 7.076043822,
                        "remaining_time": 0.716955982,
                        "test": [
                          0.7528539144,
                          0.6807592924
                        ]
                      },
                      {
                        "iteration": 454,
                        "learn": [
                          0.7710651368,
                          0.6384004921
                        ],
                        "passed_time": 7.090428763,
                        "remaining_time": 0.7012511963,
                        "test": [
                          0.7527380194,
                          0.6807968779
                        ]
                      },
                      {
                        "iteration": 455,
                        "learn": [
                          0.7709782105,
                          0.638371795
                        ],
                        "passed_time": 7.104366144,
                        "remaining_time": 0.6855090138,
                        "test": [
                          0.7529118619,
                          0.6807886272
                        ]
                      },
                      {
                        "iteration": 456,
                        "learn": [
                          0.7710361613,
                          0.6383207902
                        ],
                        "passed_time": 7.11896416,
                        "remaining_time": 0.6698368903,
                        "test": [
                          0.7530857044,
                          0.6807846375
                        ]
                      },
                      {
                        "iteration": 457,
                        "learn": [
                          0.7710941122,
                          0.6382594096
                        ],
                        "passed_time": 7.133011124,
                        "remaining_time": 0.654118924,
                        "test": [
                          0.7529118619,
                          0.6807747143
                        ]
                      },
                      {
                        "iteration": 458,
                        "learn": [
                          0.7711230876,
                          0.6382075029
                        ],
                        "passed_time": 7.147821315,
                        "remaining_time": 0.6384764137,
                        "test": [
                          0.7528539144,
                          0.6807895303
                        ]
                      },
                      {
                        "iteration": 459,
                        "learn": [
                          0.7711230876,
                          0.6381372646
                        ],
                        "passed_time": 7.162406488,
                        "remaining_time": 0.6228179555,
                        "test": [
                          0.7526800719,
                          0.6808391044
                        ]
                      },
                      {
                        "iteration": 460,
                        "learn": [
                          0.7712679648,
                          0.6380552858
                        ],
                        "passed_time": 7.17634252,
                        "remaining_time": 0.607109237,
                        "test": [
                          0.7527959669,
                          0.6808676812
                        ]
                      },
                      {
                        "iteration": 461,
                        "learn": [
                          0.7712679648,
                          0.6379945608
                        ],
                        "passed_time": 7.190765245,
                        "remaining_time": 0.5914482236,
                        "test": [
                          0.7526800719,
                          0.6809013636
                        ]
                      },
                      {
                        "iteration": 462,
                        "learn": [
                          0.7713838665,
                          0.6379208912
                        ],
                        "passed_time": 7.205086694,
                        "remaining_time": 0.5757844659,
                        "test": [
                          0.7527959669,
                          0.6809282222
                        ]
                      },
                      {
                        "iteration": 463,
                        "learn": [
                          0.7713838665,
                          0.6378335665
                        ],
                        "passed_time": 7.220020711,
                        "remaining_time": 0.5601740207,
                        "test": [
                          0.7526221244,
                          0.6809119361
                        ]
                      },
                      {
                        "iteration": 464,
                        "learn": [
                          0.7714128419,
                          0.63777925
                        ],
                        "passed_time": 7.234352649,
                        "remaining_time": 0.5445211671,
                        "test": [
                          0.7525641769,
                          0.6808960179
                        ]
                      },
                      {
                        "iteration": 465,
                        "learn": [
                          0.7714997682,
                          0.6376821264
                        ],
                        "passed_time": 7.249706992,
                        "remaining_time": 0.5289485788,
                        "test": [
                          0.7525062294,
                          0.6808990931
                        ]
                      },
                      {
                        "iteration": 466,
                        "learn": [
                          0.7713548911,
                          0.6376185326
                        ],
                        "passed_time": 7.263420621,
                        "remaining_time": 0.5132609861,
                        "test": [
                          0.7527380194,
                          0.6808986975
                        ]
                      },
                      {
                        "iteration": 467,
                        "learn": [
                          0.7713259156,
                          0.637528418
                        ],
                        "passed_time": 7.278516645,
                        "remaining_time": 0.4976763518,
                        "test": [
                          0.7528539144,
                          0.6808866459
                        ]
                      },
                      {
                        "iteration": 468,
                        "learn": [
                          0.7713548911,
                          0.6374376217
                        ],
                        "passed_time": 7.29408759,
                        "remaining_time": 0.4821251925,
                        "test": [
                          0.7528539144,
                          0.6809082824
                        ]
                      },
                      {
                        "iteration": 469,
                        "learn": [
                          0.7714128419,
                          0.6373723903
                        ],
                        "passed_time": 7.308778315,
                        "remaining_time": 0.4665177648,
                        "test": [
                          0.7527959669,
                          0.6809146842
                        ]
                      },
                      {
                        "iteration": 470,
                        "learn": [
                          0.7714418173,
                          0.6373213467
                        ],
                        "passed_time": 7.323092771,
                        "remaining_time": 0.4508910623,
                        "test": [
                          0.7527959669,
                          0.6809137918
                        ]
                      },
                      {
                        "iteration": 471,
                        "learn": [
                          0.7714707928,
                          0.6372360169
                        ],
                        "passed_time": 7.337613958,
                        "remaining_time": 0.435282184,
                        "test": [
                          0.7526800719,
                          0.680970194
                        ]
                      },
                      {
                        "iteration": 472,
                        "learn": [
                          0.7714418173,
                          0.637159396
                        ],
                        "passed_time": 7.3546793,
                        "remaining_time": 0.4198231313,
                        "test": [
                          0.7525641769,
                          0.6810065781
                        ]
                      },
                      {
                        "iteration": 473,
                        "learn": [
                          0.7713548911,
                          0.6371053271
                        ],
                        "passed_time": 7.369001975,
                        "remaining_time": 0.4042068594,
                        "test": [
                          0.7524482819,
                          0.6809855008
                        ]
                      },
                      {
                        "iteration": 474,
                        "learn": [
                          0.7714997682,
                          0.6370633332
                        ],
                        "passed_time": 7.38341252,
                        "remaining_time": 0.3886006589,
                        "test": [
                          0.7525641769,
                          0.6809920959
                        ]
                      },
                      {
                        "iteration": 475,
                        "learn": [
                          0.7715287436,
                          0.6370058303
                        ],
                        "passed_time": 7.397560288,
                        "remaining_time": 0.372986233,
                        "test": [
                          0.7523323869,
                          0.6809924084
                        ]
                      },
                      {
                        "iteration": 476,
                        "learn": [
                          0.7714997682,
                          0.636928888
                        ],
                        "passed_time": 7.411594548,
                        "remaining_time": 0.3573724834,
                        "test": [
                          0.7524482819,
                          0.6809898826
                        ]
                      },
                      {
                        "iteration": 477,
                        "learn": [
                          0.7716156699,
                          0.6368398493
                        ],
                        "passed_time": 7.426489044,
                        "remaining_time": 0.3418049351,
                        "test": [
                          0.7522164919,
                          0.6809999726
                        ]
                      },
                      {
                        "iteration": 478,
                        "learn": [
                          0.7717315716,
                          0.6367157093
                        ],
                        "passed_time": 7.441734578,
                        "remaining_time": 0.3262555869,
                        "test": [
                          0.7521005969,
                          0.6810602571
                        ]
                      },
                      {
                        "iteration": 479,
                        "learn": [
                          0.7715866945,
                          0.6365941091
                        ],
                        "passed_time": 7.457091495,
                        "remaining_time": 0.3107121456,
                        "test": [
                          0.7522164919,
                          0.6810509691
                        ]
                      },
                      {
                        "iteration": 480,
                        "learn": [
                          0.7716736208,
                          0.6365052961
                        ],
                        "passed_time": 7.471501324,
                        "remaining_time": 0.2951320689,
                        "test": [
                          0.7522164919,
                          0.6810257037
                        ]
                      },
                      {
                        "iteration": 481,
                        "learn": [
                          0.7717605471,
                          0.636386453
                        ],
                        "passed_time": 7.486751193,
                        "remaining_time": 0.2795882188,
                        "test": [
                          0.7522164919,
                          0.6810513061
                        ]
                      },
                      {
                        "iteration": 482,
                        "learn": [
                          0.7717895225,
                          0.6362670889
                        ],
                        "passed_time": 7.508222271,
                        "remaining_time": 0.264264552,
                        "test": [
                          0.7522744394,
                          0.6810352434
                        ]
                      },
                      {
                        "iteration": 483,
                        "learn": [
                          0.7719054242,
                          0.6361492714
                        ],
                        "passed_time": 7.535213015,
                        "remaining_time": 0.2490979509,
                        "test": [
                          0.7522744394,
                          0.6810241401
                        ]
                      },
                      {
                        "iteration": 484,
                        "learn": [
                          0.7719343996,
                          0.6360678721
                        ],
                        "passed_time": 7.549584646,
                        "remaining_time": 0.2334923086,
                        "test": [
                          0.7523903344,
                          0.6810399703
                        ]
                      },
                      {
                        "iteration": 485,
                        "learn": [
                          0.7719633751,
                          0.6360232426
                        ],
                        "passed_time": 7.564514413,
                        "remaining_time": 0.2179078226,
                        "test": [
                          0.7523903344,
                          0.6810577367
                        ]
                      },
                      {
                        "iteration": 486,
                        "learn": [
                          0.7719633751,
                          0.6359545151
                        ],
                        "passed_time": 7.578632222,
                        "remaining_time": 0.2023043509,
                        "test": [
                          0.7525062294,
                          0.6810947672
                        ]
                      },
                      {
                        "iteration": 487,
                        "learn": [
                          0.7719343996,
                          0.6359093675
                        ],
                        "passed_time": 7.592189274,
                        "remaining_time": 0.1866931789,
                        "test": [
                          0.7525062294,
                          0.6811253404
                        ]
                      },
                      {
                        "iteration": 488,
                        "learn": [
                          0.7719343996,
                          0.6358650892
                        ],
                        "passed_time": 7.606988947,
                        "remaining_time": 0.1711183608,
                        "test": [
                          0.7525641769,
                          0.6811093776
                        ]
                      },
                      {
                        "iteration": 489,
                        "learn": [
                          0.7718764488,
                          0.6357887812
                        ],
                        "passed_time": 7.621791393,
                        "remaining_time": 0.1555467631,
                        "test": [
                          0.7525641769,
                          0.6811190132
                        ]
                      },
                      {
                        "iteration": 490,
                        "learn": [
                          0.7719633751,
                          0.6356384389
                        ],
                        "passed_time": 7.637477906,
                        "remaining_time": 0.1399945034,
                        "test": [
                          0.7525062294,
                          0.6811087201
                        ]
                      },
                      {
                        "iteration": 491,
                        "learn": [
                          0.7720213259,
                          0.6355878854
                        ],
                        "passed_time": 7.652067615,
                        "remaining_time": 0.1244238637,
                        "test": [
                          0.7527380194,
                          0.6811199684
                        ]
                      },
                      {
                        "iteration": 492,
                        "learn": [
                          0.7720792768,
                          0.6355438994
                        ],
                        "passed_time": 7.667919204,
                        "remaining_time": 0.1088751205,
                        "test": [
                          0.7527380194,
                          0.6811456181
                        ]
                      },
                      {
                        "iteration": 493,
                        "learn": [
                          0.7721082522,
                          0.635484642
                        ],
                        "passed_time": 7.682678188,
                        "remaining_time": 0.09331188083,
                        "test": [
                          0.7527959669,
                          0.6811678122
                        ]
                      },
                      {
                        "iteration": 494,
                        "learn": [
                          0.7721372276,
                          0.6354138833
                        ],
                        "passed_time": 7.697315585,
                        "remaining_time": 0.07775066248,
                        "test": [
                          0.7525641769,
                          0.6811751058
                        ]
                      },
                      {
                        "iteration": 495,
                        "learn": [
                          0.7721951785,
                          0.6353185598
                        ],
                        "passed_time": 7.712287709,
                        "remaining_time": 0.06219586862,
                        "test": [
                          0.7526221244,
                          0.6812095734
                        ]
                      },
                      {
                        "iteration": 496,
                        "learn": [
                          0.7723980065,
                          0.6352476103
                        ],
                        "passed_time": 7.726886404,
                        "remaining_time": 0.04664116541,
                        "test": [
                          0.7527380194,
                          0.6811862488
                        ]
                      },
                      {
                        "iteration": 497,
                        "learn": [
                          0.7722241539,
                          0.6351587241
                        ],
                        "passed_time": 7.741872857,
                        "remaining_time": 0.03109185886,
                        "test": [
                          0.7526221244,
                          0.6811838058
                        ]
                      },
                      {
                        "iteration": 498,
                        "learn": [
                          0.7722241539,
                          0.6350902252
                        ],
                        "passed_time": 7.757388895,
                        "remaining_time": 0.01554586953,
                        "test": [
                          0.7526221244,
                          0.681183249
                        ]
                      },
                      {
                        "iteration": 499,
                        "learn": [
                          0.7723110802,
                          0.6350065104
                        ],
                        "passed_time": 7.771697972,
                        "remaining_time": 0,
                        "test": [
                          0.7525641769,
                          0.6812169137
                        ]
                      }
                    ],
                    "meta": {
                      "iteration_count": 500,
                      "launch_mode": "Train",
                      "learn_metrics": [
                        {
                          "best_value": "Max",
                          "name": "Accuracy"
                        },
                        {
                          "best_value": "Min",
                          "name": "MultiClass"
                        }
                      ],
                      "learn_sets": [
                        "learn"
                      ],
                      "name": "experiment",
                      "parameters": "",
                      "test_metrics": [
                        {
                          "best_value": "Max",
                          "name": "Accuracy"
                        },
                        {
                          "best_value": "Min",
                          "name": "MultiClass"
                        }
                      ],
                      "test_sets": [
                        "test"
                      ]
                    }
                  },
                  "passed_iterations": 499,
                  "total_iterations": 500
                },
                "name": "fold-0",
                "path": "catboost_info/fold-0"
              },
              "catboost_info/fold-1": {
                "content": {
                  "data": {
                    "iterations": [
                      {
                        "iteration": 0,
                        "learn": [
                          0.751622624,
                          1.018406664
                        ],
                        "passed_time": 0.01561392778,
                        "remaining_time": 7.791349963,
                        "test": [
                          0.7526800719,
                          1.018125826
                        ]
                      },
                      {
                        "iteration": 1,
                        "learn": [
                          0.7519123783,
                          0.9577381009
                        ],
                        "passed_time": 0.0310656922,
                        "remaining_time": 7.735357357,
                        "test": [
                          0.7514052269,
                          0.9575352729
                        ]
                      },
                      {
                        "iteration": 2,
                        "learn": [
                          0.7522600834,
                          0.9095684145
                        ],
                        "passed_time": 0.04559800612,
                        "remaining_time": 7.554069681,
                        "test": [
                          0.7524482819,
                          0.9093994482
                        ]
                      },
                      {
                        "iteration": 3,
                        "learn": [
                          0.752231108,
                          0.8715090436
                        ],
                        "passed_time": 0.06116851564,
                        "remaining_time": 7.584895939,
                        "test": [
                          0.7521585444,
                          0.8714857748
                        ]
                      },
                      {
                        "iteration": 4,
                        "learn": [
                          0.7524049606,
                          0.8409745732
                        ],
                        "passed_time": 0.08003316484,
                        "remaining_time": 7.92328332,
                        "test": [
                          0.7522164919,
                          0.8409365787
                        ]
                      },
                      {
                        "iteration": 5,
                        "learn": [
                          0.7527526657,
                          0.8158031636
                        ],
                        "passed_time": 0.09447701169,
                        "remaining_time": 7.778607296,
                        "test": [
                          0.7523903344,
                          0.815845722
                        ]
                      },
                      {
                        "iteration": 6,
                        "learn": [
                          0.7525788132,
                          0.7948164963
                        ],
                        "passed_time": 0.1091233659,
                        "remaining_time": 7.685402771,
                        "test": [
                          0.7525062294,
                          0.7948709721
                        ]
                      },
                      {
                        "iteration": 7,
                        "learn": [
                          0.7527816412,
                          0.7774220847
                        ],
                        "passed_time": 0.1240917277,
                        "remaining_time": 7.631641251,
                        "test": [
                          0.7526221244,
                          0.7775752913
                        ]
                      },
                      {
                        "iteration": 8,
                        "learn": [
                          0.7528975429,
                          0.7627093609
                        ],
                        "passed_time": 0.1389910334,
                        "remaining_time": 7.582733043,
                        "test": [
                          0.7528539144,
                          0.7629099973
                        ]
                      },
                      {
                        "iteration": 9,
                        "learn": [
                          0.7529265183,
                          0.7504151621
                        ],
                        "passed_time": 0.1536019502,
                        "remaining_time": 7.526495561,
                        "test": [
                          0.7525641769,
                          0.7507525514
                        ]
                      },
                      {
                        "iteration": 10,
                        "learn": [
                          0.7531872972,
                          0.740200682
                        ],
                        "passed_time": 0.1682473712,
                        "remaining_time": 7.479360411,
                        "test": [
                          0.7526800719,
                          0.740627113
                        ]
                      },
                      {
                        "iteration": 11,
                        "learn": [
                          0.75304242,
                          0.7317583562
                        ],
                        "passed_time": 0.1875741483,
                        "remaining_time": 7.628015364,
                        "test": [
                          0.7526800719,
                          0.7323092388
                        ]
                      },
                      {
                        "iteration": 12,
                        "learn": [
                          0.7533901252,
                          0.7245643781
                        ],
                        "passed_time": 0.2333046844,
                        "remaining_time": 8.739952406,
                        "test": [
                          0.7526221244,
                          0.7252827643
                        ]
                      },
                      {
                        "iteration": 13,
                        "learn": [
                          0.7535929532,
                          0.7185521112
                        ],
                        "passed_time": 0.2585803501,
                        "remaining_time": 8.976432155,
                        "test": [
                          0.7527380194,
                          0.7193789452
                        ]
                      },
                      {
                        "iteration": 14,
                        "learn": [
                          0.7535350023,
                          0.7134453998
                        ],
                        "passed_time": 0.2737149618,
                        "remaining_time": 8.850117099,
                        "test": [
                          0.7526221244,
                          0.7143186128
                        ]
                      },
                      {
                        "iteration": 15,
                        "learn": [
                          0.7536219286,
                          0.7090395409
                        ],
                        "passed_time": 0.2888726962,
                        "remaining_time": 8.738399059,
                        "test": [
                          0.7525062294,
                          0.7101611351
                        ]
                      },
                      {
                        "iteration": 16,
                        "learn": [
                          0.7535060269,
                          0.7052853963
                        ],
                        "passed_time": 0.3035223224,
                        "remaining_time": 8.623604806,
                        "test": [
                          0.7525641769,
                          0.7065135682
                        ]
                      },
                      {
                        "iteration": 17,
                        "learn": [
                          0.7533321743,
                          0.7019721931
                        ],
                        "passed_time": 0.3187239673,
                        "remaining_time": 8.534719568,
                        "test": [
                          0.7526221244,
                          0.7033669789
                        ]
                      },
                      {
                        "iteration": 18,
                        "learn": [
                          0.7535060269,
                          0.6991585542
                        ],
                        "passed_time": 0.3339362627,
                        "remaining_time": 8.453860125,
                        "test": [
                          0.7529118619,
                          0.7005536381
                        ]
                      },
                      {
                        "iteration": 19,
                        "learn": [
                          0.7535350023,
                          0.696799552
                        ],
                        "passed_time": 0.3487968504,
                        "remaining_time": 8.371124411,
                        "test": [
                          0.7528539144,
                          0.6981515785
                        ]
                      },
                      {
                        "iteration": 20,
                        "learn": [
                          0.7535060269,
                          0.6948608458
                        ],
                        "passed_time": 0.3642612996,
                        "remaining_time": 8.308626787,
                        "test": [
                          0.7529118619,
                          0.6962282898
                        ]
                      },
                      {
                        "iteration": 21,
                        "learn": [
                          0.7537668057,
                          0.6931733798
                        ],
                        "passed_time": 0.3797386014,
                        "remaining_time": 8.250684157,
                        "test": [
                          0.7532015994,
                          0.6946935248
                        ]
                      },
                      {
                        "iteration": 22,
                        "learn": [
                          0.753853732,
                          0.691626063
                        ],
                        "passed_time": 0.3947255196,
                        "remaining_time": 8.186264036,
                        "test": [
                          0.7532595469,
                          0.693273696
                        ]
                      },
                      {
                        "iteration": 23,
                        "learn": [
                          0.7539116829,
                          0.6905312204
                        ],
                        "passed_time": 0.4094841535,
                        "remaining_time": 8.121435712,
                        "test": [
                          0.7533174944,
                          0.6922408686
                        ]
                      },
                      {
                        "iteration": 24,
                        "learn": [
                          0.7539986092,
                          0.6894170013
                        ],
                        "passed_time": 0.4242782122,
                        "remaining_time": 8.061286031,
                        "test": [
                          0.7532595469,
                          0.6911863231
                        ]
                      },
                      {
                        "iteration": 25,
                        "learn": [
                          0.75405656,
                          0.6882726999
                        ],
                        "passed_time": 0.4395962648,
                        "remaining_time": 8.014178057,
                        "test": [
                          0.7531436519,
                          0.690092816
                        ]
                      },
                      {
                        "iteration": 26,
                        "learn": [
                          0.7541434863,
                          0.6874173901
                        ],
                        "passed_time": 0.4549652569,
                        "remaining_time": 7.970317279,
                        "test": [
                          0.7530857044,
                          0.6892982268
                        ]
                      },
                      {
                        "iteration": 27,
                        "learn": [
                          0.7540855355,
                          0.6865129605
                        ],
                        "passed_time": 0.47029153,
                        "remaining_time": 7.927771505,
                        "test": [
                          0.7528539144,
                          0.6885830241
                        ]
                      },
                      {
                        "iteration": 28,
                        "learn": [
                          0.7540855355,
                          0.6858422548
                        ],
                        "passed_time": 0.4853881287,
                        "remaining_time": 7.883372711,
                        "test": [
                          0.7530277569,
                          0.6878722455
                        ]
                      },
                      {
                        "iteration": 29,
                        "learn": [
                          0.7541145109,
                          0.6852843967
                        ],
                        "passed_time": 0.5008209134,
                        "remaining_time": 7.846194311,
                        "test": [
                          0.7527380194,
                          0.6873581129
                        ]
                      },
                      {
                        "iteration": 30,
                        "learn": [
                          0.75405656,
                          0.6843759682
                        ],
                        "passed_time": 0.5174071441,
                        "remaining_time": 7.827869374,
                        "test": [
                          0.7526800719,
                          0.6867359953
                        ]
                      },
                      {
                        "iteration": 31,
                        "learn": [
                          0.75405656,
                          0.6839076845
                        ],
                        "passed_time": 0.5326289833,
                        "remaining_time": 7.789698881,
                        "test": [
                          0.7525641769,
                          0.686407569
                        ]
                      },
                      {
                        "iteration": 32,
                        "learn": [
                          0.7542304126,
                          0.6830543743
                        ],
                        "passed_time": 0.5478064542,
                        "remaining_time": 7.752291336,
                        "test": [
                          0.7525641769,
                          0.685699691
                        ]
                      },
                      {
                        "iteration": 33,
                        "learn": [
                          0.7541724618,
                          0.6825717491
                        ],
                        "passed_time": 0.5628280993,
                        "remaining_time": 7.714055713,
                        "test": [
                          0.7525062294,
                          0.6853072852
                        ]
                      },
                      {
                        "iteration": 34,
                        "learn": [
                          0.7540855355,
                          0.6819785091
                        ],
                        "passed_time": 0.577689772,
                        "remaining_time": 7.675021257,
                        "test": [
                          0.7525062294,
                          0.6847676118
                        ]
                      },
                      {
                        "iteration": 35,
                        "learn": [
                          0.7542304126,
                          0.6816288137
                        ],
                        "passed_time": 0.5924259075,
                        "remaining_time": 7.635711697,
                        "test": [
                          0.7524482819,
                          0.6845730676
                        ]
                      },
                      {
                        "iteration": 36,
                        "learn": [
                          0.754259388,
                          0.6812681838
                        ],
                        "passed_time": 0.6078342795,
                        "remaining_time": 7.606142471,
                        "test": [
                          0.7523903344,
                          0.684327234
                        ]
                      },
                      {
                        "iteration": 37,
                        "learn": [
                          0.7541724618,
                          0.6808560981
                        ],
                        "passed_time": 0.6229045509,
                        "remaining_time": 7.573207961,
                        "test": [
                          0.7523903344,
                          0.6840097821
                        ]
                      },
                      {
                        "iteration": 38,
                        "learn": [
                          0.7541145109,
                          0.680511061
                        ],
                        "passed_time": 0.6386399853,
                        "remaining_time": 7.549052134,
                        "test": [
                          0.7524482819,
                          0.68369347
                        ]
                      },
                      {
                        "iteration": 39,
                        "learn": [
                          0.754259388,
                          0.6801925362
                        ],
                        "passed_time": 0.6538005571,
                        "remaining_time": 7.518706406,
                        "test": [
                          0.7522744394,
                          0.6834493922
                        ]
                      },
                      {
                        "iteration": 40,
                        "learn": [
                          0.7543752898,
                          0.679884106
                        ],
                        "passed_time": 0.6693902726,
                        "remaining_time": 7.493905735,
                        "test": [
                          0.7525062294,
                          0.6833437425
                        ]
                      },
                      {
                        "iteration": 41,
                        "learn": [
                          0.7544332406,
                          0.6796347477
                        ],
                        "passed_time": 0.6964459766,
                        "remaining_time": 7.594577555,
                        "test": [
                          0.7524482819,
                          0.6833002135
                        ]
                      },
                      {
                        "iteration": 42,
                        "learn": [
                          0.7544911915,
                          0.6792242421
                        ],
                        "passed_time": 0.7127660551,
                        "remaining_time": 7.57521133,
                        "test": [
                          0.7526221244,
                          0.6829507844
                        ]
                      },
                      {
                        "iteration": 43,
                        "learn": [
                          0.7544911915,
                          0.6791088226
                        ],
                        "passed_time": 0.7271088592,
                        "remaining_time": 7.535491813,
                        "test": [
                          0.7526221244,
                          0.6829318582
                        ]
                      },
                      {
                        "iteration": 44,
                        "learn": [
                          0.7544911915,
                          0.6786768122
                        ],
                        "passed_time": 0.7423188486,
                        "remaining_time": 7.505668358,
                        "test": [
                          0.7526800719,
                          0.6826610738
                        ]
                      },
                      {
                        "iteration": 45,
                        "learn": [
                          0.754462216,
                          0.6783569484
                        ],
                        "passed_time": 0.757331105,
                        "remaining_time": 7.474528732,
                        "test": [
                          0.7526221244,
                          0.6824684226
                        ]
                      },
                      {
                        "iteration": 46,
                        "learn": [
                          0.7545491423,
                          0.6780396959
                        ],
                        "passed_time": 0.7726505813,
                        "remaining_time": 7.447036454,
                        "test": [
                          0.7525062294,
                          0.6822276079
                        ]
                      },
                      {
                        "iteration": 47,
                        "learn": [
                          0.7545201669,
                          0.6776993978
                        ],
                        "passed_time": 0.7877143328,
                        "remaining_time": 7.417643301,
                        "test": [
                          0.7526800719,
                          0.6820366178
                        ]
                      },
                      {
                        "iteration": 48,
                        "learn": [
                          0.754462216,
                          0.6774363706
                        ],
                        "passed_time": 0.8025398736,
                        "remaining_time": 7.38664251,
                        "test": [
                          0.7527380194,
                          0.6819931942
                        ]
                      },
                      {
                        "iteration": 49,
                        "learn": [
                          0.7544042652,
                          0.6772698804
                        ],
                        "passed_time": 0.8189715459,
                        "remaining_time": 7.370743913,
                        "test": [
                          0.7526221244,
                          0.6819826839
                        ]
                      },
                      {
                        "iteration": 50,
                        "learn": [
                          0.7545201669,
                          0.677068057
                        ],
                        "passed_time": 0.8337540416,
                        "remaining_time": 7.34030519,
                        "test": [
                          0.7526221244,
                          0.6818902245
                        ]
                      },
                      {
                        "iteration": 51,
                        "learn": [
                          0.7545201669,
                          0.6769095192
                        ],
                        "passed_time": 0.8481579635,
                        "remaining_time": 7.307207071,
                        "test": [
                          0.7526800719,
                          0.6818454316
                        ]
                      },
                      {
                        "iteration": 52,
                        "learn": [
                          0.7543752898,
                          0.6766190823
                        ],
                        "passed_time": 0.8630660507,
                        "remaining_time": 7.279066503,
                        "test": [
                          0.7527380194,
                          0.6817258731
                        ]
                      },
                      {
                        "iteration": 53,
                        "learn": [
                          0.754665044,
                          0.6764575547
                        ],
                        "passed_time": 0.8774342825,
                        "remaining_time": 7.246957222,
                        "test": [
                          0.7526800719,
                          0.6816635918
                        ]
                      },
                      {
                        "iteration": 54,
                        "learn": [
                          0.7546360686,
                          0.6761139382
                        ],
                        "passed_time": 0.8926308807,
                        "remaining_time": 7.222195308,
                        "test": [
                          0.7526221244,
                          0.6815081408
                        ]
                      },
                      {
                        "iteration": 55,
                        "learn": [
                          0.7547519703,
                          0.6759678351
                        ],
                        "passed_time": 0.9072256131,
                        "remaining_time": 7.193003075,
                        "test": [
                          0.7525062294,
                          0.6814471222
                        ]
                      },
                      {
                        "iteration": 56,
                        "learn": [
                          0.7545491423,
                          0.6756952948
                        ],
                        "passed_time": 0.9222234809,
                        "remaining_time": 7.167456176,
                        "test": [
                          0.7525641769,
                          0.6812639775
                        ]
                      },
                      {
                        "iteration": 57,
                        "learn": [
                          0.754665044,
                          0.6756026385
                        ],
                        "passed_time": 0.9361106361,
                        "remaining_time": 7.133808641,
                        "test": [
                          0.7523903344,
                          0.6812522908
                        ]
                      },
                      {
                        "iteration": 58,
                        "learn": [
                          0.7546070932,
                          0.6754623101
                        ],
                        "passed_time": 0.95134378,
                        "remaining_time": 7.110891644,
                        "test": [
                          0.7523323869,
                          0.6812184176
                        ]
                      },
                      {
                        "iteration": 59,
                        "learn": [
                          0.7548099212,
                          0.6753105071
                        ],
                        "passed_time": 0.9656993557,
                        "remaining_time": 7.081795275,
                        "test": [
                          0.7525062294,
                          0.6811564862
                        ]
                      },
                      {
                        "iteration": 60,
                        "learn": [
                          0.754867872,
                          0.675134074
                        ],
                        "passed_time": 0.9807736923,
                        "remaining_time": 7.058354933,
                        "test": [
                          0.7525641769,
                          0.6810701675
                        ]
                      },
                      {
                        "iteration": 61,
                        "learn": [
                          0.7547229949,
                          0.6749703914
                        ],
                        "passed_time": 0.995455513,
                        "remaining_time": 7.032411527,
                        "test": [
                          0.7526221244,
                          0.6810019384
                        ]
                      },
                      {
                        "iteration": 62,
                        "learn": [
                          0.7547519703,
                          0.6748645374
                        ],
                        "passed_time": 1.009888703,
                        "remaining_time": 7.005101003,
                        "test": [
                          0.7526221244,
                          0.6809005886
                        ]
                      },
                      {
                        "iteration": 63,
                        "learn": [
                          0.7548099212,
                          0.6747355191
                        ],
                        "passed_time": 1.024867901,
                        "remaining_time": 6.981912577,
                        "test": [
                          0.7526800719,
                          0.6808361358
                        ]
                      },
                      {
                        "iteration": 64,
                        "learn": [
                          0.7547809458,
                          0.6746336331
                        ],
                        "passed_time": 1.03956658,
                        "remaining_time": 6.95709942,
                        "test": [
                          0.7525641769,
                          0.6808179888
                        ]
                      },
                      {
                        "iteration": 65,
                        "learn": [
                          0.7548388966,
                          0.6744955782
                        ],
                        "passed_time": 1.054596089,
                        "remaining_time": 6.93476822,
                        "test": [
                          0.7524482819,
                          0.6807733056
                        ]
                      },
                      {
                        "iteration": 66,
                        "learn": [
                          0.754867872,
                          0.6743674744
                        ],
                        "passed_time": 1.069550838,
                        "remaining_time": 6.912171833,
                        "test": [
                          0.7525062294,
                          0.6807728973
                        ]
                      },
                      {
                        "iteration": 67,
                        "learn": [
                          0.754867872,
                          0.6742418695
                        ],
                        "passed_time": 1.08442325,
                        "remaining_time": 6.88927712,
                        "test": [
                          0.7526221244,
                          0.680738094
                        ]
                      },
                      {
                        "iteration": 68,
                        "learn": [
                          0.7548099212,
                          0.6741354423
                        ],
                        "passed_time": 1.099345997,
                        "remaining_time": 6.866929346,
                        "test": [
                          0.7526221244,
                          0.6807352938
                        ]
                      },
                      {
                        "iteration": 69,
                        "learn": [
                          0.754867872,
                          0.6739766308
                        ],
                        "passed_time": 1.114896142,
                        "remaining_time": 6.84864773,
                        "test": [
                          0.7527380194,
                          0.6807634423
                        ]
                      },
                      {
                        "iteration": 70,
                        "learn": [
                          0.754867872,
                          0.6738617592
                        ],
                        "passed_time": 1.129123263,
                        "remaining_time": 6.822449009,
                        "test": [
                          0.7528539144,
                          0.6806930484
                        ]
                      },
                      {
                        "iteration": 71,
                        "learn": [
                          0.7549258229,
                          0.6737512362
                        ],
                        "passed_time": 1.143594365,
                        "remaining_time": 6.79803317,
                        "test": [
                          0.7528539144,
                          0.680603493
                        ]
                      },
                      {
                        "iteration": 72,
                        "learn": [
                          0.7546940195,
                          0.6736222498
                        ],
                        "passed_time": 1.158239495,
                        "remaining_time": 6.774907732,
                        "test": [
                          0.7528539144,
                          0.6805770156
                        ]
                      },
                      {
                        "iteration": 73,
                        "learn": [
                          0.7547809458,
                          0.6735547389
                        ],
                        "passed_time": 1.172059705,
                        "remaining_time": 6.747262628,
                        "test": [
                          0.7528539144,
                          0.6805438732
                        ]
                      },
                      {
                        "iteration": 74,
                        "learn": [
                          0.7549547983,
                          0.6733270692
                        ],
                        "passed_time": 1.187381569,
                        "remaining_time": 6.728495555,
                        "test": [
                          0.7528539144,
                          0.6805187525
                        ]
                      },
                      {
                        "iteration": 75,
                        "learn": [
                          0.7548968475,
                          0.6731803046
                        ],
                        "passed_time": 1.202812408,
                        "remaining_time": 6.710427117,
                        "test": [
                          0.7527959669,
                          0.6805200567
                        ]
                      },
                      {
                        "iteration": 76,
                        "learn": [
                          0.7548968475,
                          0.6729932731
                        ],
                        "passed_time": 1.253565248,
                        "remaining_time": 6.886468827,
                        "test": [
                          0.7529118619,
                          0.6804783659
                        ]
                      },
                      {
                        "iteration": 77,
                        "learn": [
                          0.7549258229,
                          0.6728979331
                        ],
                        "passed_time": 1.284422187,
                        "remaining_time": 6.949053371,
                        "test": [
                          0.7529118619,
                          0.6804796929
                        ]
                      },
                      {
                        "iteration": 78,
                        "learn": [
                          0.7550127492,
                          0.6728051583
                        ],
                        "passed_time": 1.299240413,
                        "remaining_time": 6.923800177,
                        "test": [
                          0.7528539144,
                          0.6804542891
                        ]
                      },
                      {
                        "iteration": 79,
                        "learn": [
                          0.7549837738,
                          0.6724525945
                        ],
                        "passed_time": 1.315895649,
                        "remaining_time": 6.908452158,
                        "test": [
                          0.7529698094,
                          0.6802748909
                        ]
                      },
                      {
                        "iteration": 80,
                        "learn": [
                          0.7550996755,
                          0.6722944197
                        ],
                        "passed_time": 1.330874764,
                        "remaining_time": 6.884401558,
                        "test": [
                          0.7529118619,
                          0.6802626834
                        ]
                      },
                      {
                        "iteration": 81,
                        "learn": [
                          0.7550707,
                          0.6720645826
                        ],
                        "passed_time": 1.34666159,
                        "remaining_time": 6.864689568,
                        "test": [
                          0.7530277569,
                          0.680184019
                        ]
                      },
                      {
                        "iteration": 82,
                        "learn": [
                          0.7552155772,
                          0.6718878096
                        ],
                        "passed_time": 1.361362044,
                        "remaining_time": 6.839614122,
                        "test": [
                          0.7529698094,
                          0.6801206477
                        ]
                      },
                      {
                        "iteration": 83,
                        "learn": [
                          0.7551866018,
                          0.671840534
                        ],
                        "passed_time": 1.375748314,
                        "remaining_time": 6.813229746,
                        "test": [
                          0.7530277569,
                          0.6801083144
                        ]
                      },
                      {
                        "iteration": 84,
                        "learn": [
                          0.7550707,
                          0.6717316126
                        ],
                        "passed_time": 1.389992622,
                        "remaining_time": 6.786434566,
                        "test": [
                          0.7531436519,
                          0.6800603876
                        ]
                      },
                      {
                        "iteration": 85,
                        "learn": [
                          0.7551286509,
                          0.6715500838
                        ],
                        "passed_time": 1.405333015,
                        "remaining_time": 6.765207769,
                        "test": [
                          0.7531436519,
                          0.6800042588
                        ]
                      },
                      {
                        "iteration": 86,
                        "learn": [
                          0.7552155772,
                          0.6714306424
                        ],
                        "passed_time": 1.420064799,
                        "remaining_time": 6.741227147,
                        "test": [
                          0.7531436519,
                          0.6799678717
                        ]
                      },
                      {
                        "iteration": 87,
                        "learn": [
                          0.7550996755,
                          0.6713052986
                        ],
                        "passed_time": 1.434685532,
                        "remaining_time": 6.716936811,
                        "test": [
                          0.7530277569,
                          0.6799075912
                        ]
                      },
                      {
                        "iteration": 88,
                        "learn": [
                          0.7550707,
                          0.6711863993
                        ],
                        "passed_time": 1.449728407,
                        "remaining_time": 6.694813204,
                        "test": [
                          0.7530277569,
                          0.6798126362
                        ]
                      },
                      {
                        "iteration": 89,
                        "learn": [
                          0.7554473806,
                          0.6710222513
                        ],
                        "passed_time": 1.464592043,
                        "remaining_time": 6.672030419,
                        "test": [
                          0.7527380194,
                          0.6798071865
                        ]
                      },
                      {
                        "iteration": 90,
                        "learn": [
                          0.7555632823,
                          0.6709147913
                        ],
                        "passed_time": 1.479889847,
                        "remaining_time": 6.651373049,
                        "test": [
                          0.7526800719,
                          0.6797781225
                        ]
                      },
                      {
                        "iteration": 91,
                        "learn": [
                          0.7555343069,
                          0.6707199194
                        ],
                        "passed_time": 1.498445767,
                        "remaining_time": 6.645281228,
                        "test": [
                          0.7527959669,
                          0.6797334018
                        ]
                      },
                      {
                        "iteration": 92,
                        "learn": [
                          0.7556502086,
                          0.6706420768
                        ],
                        "passed_time": 1.512696521,
                        "remaining_time": 6.620080473,
                        "test": [
                          0.7529698094,
                          0.6797045588
                        ]
                      },
                      {
                        "iteration": 93,
                        "learn": [
                          0.7556212332,
                          0.6705755929
                        ],
                        "passed_time": 1.527250056,
                        "remaining_time": 6.596420456,
                        "test": [
                          0.7529118619,
                          0.6796673125
                        ]
                      },
                      {
                        "iteration": 94,
                        "learn": [
                          0.7556502086,
                          0.6704910256
                        ],
                        "passed_time": 1.542157471,
                        "remaining_time": 6.574460796,
                        "test": [
                          0.7529118619,
                          0.679661468
                        ]
                      },
                      {
                        "iteration": 95,
                        "learn": [
                          0.7557081595,
                          0.6703174096
                        ],
                        "passed_time": 1.557046297,
                        "remaining_time": 6.552569832,
                        "test": [
                          0.7528539144,
                          0.6795797656
                        ]
                      },
                      {
                        "iteration": 96,
                        "learn": [
                          0.7556791841,
                          0.670190086
                        ],
                        "passed_time": 1.571975669,
                        "remaining_time": 6.530991695,
                        "test": [
                          0.7527959669,
                          0.6795091403
                        ]
                      },
                      {
                        "iteration": 97,
                        "learn": [
                          0.7558530366,
                          0.6701121238
                        ],
                        "passed_time": 1.587492675,
                        "remaining_time": 6.511959749,
                        "test": [
                          0.7527959669,
                          0.6795087642
                        ]
                      },
                      {
                        "iteration": 98,
                        "learn": [
                          0.7558240612,
                          0.6699045476
                        ],
                        "passed_time": 1.602549622,
                        "remaining_time": 6.491135339,
                        "test": [
                          0.7529118619,
                          0.6794616395
                        ]
                      },
                      {
                        "iteration": 99,
                        "learn": [
                          0.7559979138,
                          0.6698001835
                        ],
                        "passed_time": 1.616950275,
                        "remaining_time": 6.467801102,
                        "test": [
                          0.7530857044,
                          0.6794500768
                        ]
                      },
                      {
                        "iteration": 100,
                        "learn": [
                          0.7559979138,
                          0.6696646668
                        ],
                        "passed_time": 1.631991064,
                        "remaining_time": 6.44717262,
                        "test": [
                          0.7529698094,
                          0.679431794
                        ]
                      },
                      {
                        "iteration": 101,
                        "learn": [
                          0.7560558646,
                          0.669565364
                        ],
                        "passed_time": 1.647452535,
                        "remaining_time": 6.428295184,
                        "test": [
                          0.7529698094,
                          0.6794362479
                        ]
                      },
                      {
                        "iteration": 102,
                        "learn": [
                          0.7558530366,
                          0.6693982384
                        ],
                        "passed_time": 1.662950452,
                        "remaining_time": 6.409624558,
                        "test": [
                          0.7529118619,
                          0.679445955
                        ]
                      },
                      {
                        "iteration": 103,
                        "learn": [
                          0.7558240612,
                          0.6692339458
                        ],
                        "passed_time": 1.678584044,
                        "remaining_time": 6.391531551,
                        "test": [
                          0.7529118619,
                          0.6794436409
                        ]
                      },
                      {
                        "iteration": 104,
                        "learn": [
                          0.7558530366,
                          0.6691158618
                        ],
                        "passed_time": 1.69833352,
                        "remaining_time": 6.388968956,
                        "test": [
                          0.7529698094,
                          0.6794522257
                        ]
                      },
                      {
                        "iteration": 105,
                        "learn": [
                          0.7558820121,
                          0.6689730661
                        ],
                        "passed_time": 1.720792973,
                        "remaining_time": 6.396155013,
                        "test": [
                          0.7529118619,
                          0.6793910785
                        ]
                      },
                      {
                        "iteration": 106,
                        "learn": [
                          0.7558530366,
                          0.6688348853
                        ],
                        "passed_time": 1.736514509,
                        "remaining_time": 6.378039271,
                        "test": [
                          0.7529698094,
                          0.6793120406
                        ]
                      },
                      {
                        "iteration": 107,
                        "learn": [
                          0.7558530366,
                          0.6687465963
                        ],
                        "passed_time": 1.751277205,
                        "remaining_time": 6.356487635,
                        "test": [
                          0.7530277569,
                          0.6792954303
                        ]
                      },
                      {
                        "iteration": 108,
                        "learn": [
                          0.7559399629,
                          0.6686260131
                        ],
                        "passed_time": 1.766157471,
                        "remaining_time": 6.335482306,
                        "test": [
                          0.7529698094,
                          0.6792304543
                        ]
                      },
                      {
                        "iteration": 109,
                        "learn": [
                          0.7559109875,
                          0.6685320476
                        ],
                        "passed_time": 1.784328424,
                        "remaining_time": 6.326255323,
                        "test": [
                          0.7530277569,
                          0.6792697639
                        ]
                      },
                      {
                        "iteration": 110,
                        "learn": [
                          0.7559979138,
                          0.6684606522
                        ],
                        "passed_time": 1.798369179,
                        "remaining_time": 6.302392888,
                        "test": [
                          0.7530857044,
                          0.6792560252
                        ]
                      },
                      {
                        "iteration": 111,
                        "learn": [
                          0.7560558646,
                          0.6683023913
                        ],
                        "passed_time": 1.814212367,
                        "remaining_time": 6.284949986,
                        "test": [
                          0.7530857044,
                          0.6792670268
                        ]
                      },
                      {
                        "iteration": 112,
                        "learn": [
                          0.7562297172,
                          0.6681856087
                        ],
                        "passed_time": 1.828658121,
                        "remaining_time": 6.262749495,
                        "test": [
                          0.7530277569,
                          0.6792463472
                        ]
                      },
                      {
                        "iteration": 113,
                        "learn": [
                          0.7563456189,
                          0.6680638549
                        ],
                        "passed_time": 1.842470422,
                        "remaining_time": 6.2385402,
                        "test": [
                          0.7532015994,
                          0.6792602205
                        ]
                      },
                      {
                        "iteration": 114,
                        "learn": [
                          0.7562586926,
                          0.6679730955
                        ],
                        "passed_time": 1.856616891,
                        "remaining_time": 6.215630462,
                        "test": [
                          0.7531436519,
                          0.6792759002
                        ]
                      },
                      {
                        "iteration": 115,
                        "learn": [
                          0.7563745943,
                          0.6678603866
                        ],
                        "passed_time": 1.870957535,
                        "remaining_time": 6.1935146,
                        "test": [
                          0.7533174944,
                          0.6792968392
                        ]
                      },
                      {
                        "iteration": 116,
                        "learn": [
                          0.7564035698,
                          0.6677208962
                        ],
                        "passed_time": 1.886266275,
                        "remaining_time": 6.174700713,
                        "test": [
                          0.7532595469,
                          0.6792580741
                        ]
                      },
                      {
                        "iteration": 117,
                        "learn": [
                          0.7564035698,
                          0.6676293979
                        ],
                        "passed_time": 1.900603341,
                        "remaining_time": 6.152800647,
                        "test": [
                          0.7533754418,
                          0.6792809864
                        ]
                      },
                      {
                        "iteration": 118,
                        "learn": [
                          0.7563745943,
                          0.6675472272
                        ],
                        "passed_time": 1.914620647,
                        "remaining_time": 6.130003919,
                        "test": [
                          0.7530277569,
                          0.6792655781
                        ]
                      },
                      {
                        "iteration": 119,
                        "learn": [
                          0.7564035698,
                          0.6674445123
                        ],
                        "passed_time": 1.929935271,
                        "remaining_time": 6.111461692,
                        "test": [
                          0.7530277569,
                          0.6792448976
                        ]
                      },
                      {
                        "iteration": 120,
                        "learn": [
                          0.7563456189,
                          0.6673857903
                        ],
                        "passed_time": 1.94416585,
                        "remaining_time": 6.089577332,
                        "test": [
                          0.7530277569,
                          0.679266588
                        ]
                      },
                      {
                        "iteration": 121,
                        "learn": [
                          0.7563456189,
                          0.6673164198
                        ],
                        "passed_time": 1.958655998,
                        "remaining_time": 6.068622681,
                        "test": [
                          0.7529698094,
                          0.6792554403
                        ]
                      },
                      {
                        "iteration": 122,
                        "learn": [
                          0.7563456189,
                          0.6671680337
                        ],
                        "passed_time": 1.973821745,
                        "remaining_time": 6.049843884,
                        "test": [
                          0.7529698094,
                          0.6792719764
                        ]
                      },
                      {
                        "iteration": 123,
                        "learn": [
                          0.7563745943,
                          0.6670737504
                        ],
                        "passed_time": 1.988270129,
                        "remaining_time": 6.028948132,
                        "test": [
                          0.7530277569,
                          0.6792639179
                        ]
                      },
                      {
                        "iteration": 124,
                        "learn": [
                          0.7563456189,
                          0.6669702908
                        ],
                        "passed_time": 2.00255229,
                        "remaining_time": 6.007656871,
                        "test": [
                          0.7529698094,
                          0.6792518914
                        ]
                      },
                      {
                        "iteration": 125,
                        "learn": [
                          0.7565194715,
                          0.6668620013
                        ],
                        "passed_time": 2.01628716,
                        "remaining_time": 5.984852364,
                        "test": [
                          0.7530277569,
                          0.679223735
                        ]
                      },
                      {
                        "iteration": 126,
                        "learn": [
                          0.7564035698,
                          0.6667325622
                        ],
                        "passed_time": 2.030801526,
                        "remaining_time": 5.964480071,
                        "test": [
                          0.7530277569,
                          0.6792778003
                        ]
                      },
                      {
                        "iteration": 127,
                        "learn": [
                          0.7564325452,
                          0.6666224737
                        ],
                        "passed_time": 2.045130782,
                        "remaining_time": 5.943661334,
                        "test": [
                          0.7530277569,
                          0.6792553722
                        ]
                      },
                      {
                        "iteration": 128,
                        "learn": [
                          0.7565774223,
                          0.6665218612
                        ],
                        "passed_time": 2.059583054,
                        "remaining_time": 5.923297002,
                        "test": [
                          0.7531436519,
                          0.6792467782
                        ]
                      },
                      {
                        "iteration": 129,
                        "learn": [
                          0.7565484469,
                          0.6663458059
                        ],
                        "passed_time": 2.075047249,
                        "remaining_time": 5.905903708,
                        "test": [
                          0.7530277569,
                          0.6792032114
                        ]
                      },
                      {
                        "iteration": 130,
                        "learn": [
                          0.7567802503,
                          0.6662410731
                        ],
                        "passed_time": 2.088965766,
                        "remaining_time": 5.884186013,
                        "test": [
                          0.7530277569,
                          0.6792379342
                        ]
                      },
                      {
                        "iteration": 131,
                        "learn": [
                          0.7567802503,
                          0.6661029258
                        ],
                        "passed_time": 2.102802159,
                        "remaining_time": 5.862357535,
                        "test": [
                          0.7532595469,
                          0.6792837384
                        ]
                      },
                      {
                        "iteration": 132,
                        "learn": [
                          0.7568671766,
                          0.6659989799
                        ],
                        "passed_time": 2.116057627,
                        "remaining_time": 5.839046233,
                        "test": [
                          0.7532015994,
                          0.6793011467
                        ]
                      },
                      {
                        "iteration": 133,
                        "learn": [
                          0.7568671766,
                          0.6659158865
                        ],
                        "passed_time": 2.13106977,
                        "remaining_time": 5.820683104,
                        "test": [
                          0.7532015994,
                          0.6793032153
                        ]
                      },
                      {
                        "iteration": 134,
                        "learn": [
                          0.7570410292,
                          0.6658360884
                        ],
                        "passed_time": 2.145544375,
                        "remaining_time": 5.800916272,
                        "test": [
                          0.7532015994,
                          0.6792703148
                        ]
                      },
                      {
                        "iteration": 135,
                        "learn": [
                          0.7570700046,
                          0.6657213523
                        ],
                        "passed_time": 2.162183675,
                        "remaining_time": 5.787021012,
                        "test": [
                          0.7533754418,
                          0.6792597015
                        ]
                      },
                      {
                        "iteration": 136,
                        "learn": [
                          0.7571279555,
                          0.6656038414
                        ],
                        "passed_time": 2.176134488,
                        "remaining_time": 5.765962184,
                        "test": [
                          0.7534913368,
                          0.6792689184
                        ]
                      },
                      {
                        "iteration": 137,
                        "learn": [
                          0.7570700046,
                          0.6654577515
                        ],
                        "passed_time": 2.191307508,
                        "remaining_time": 5.748212448,
                        "test": [
                          0.7534333893,
                          0.6792963733
                        ]
                      },
                      {
                        "iteration": 138,
                        "learn": [
                          0.7571859064,
                          0.6653265531
                        ],
                        "passed_time": 2.205699735,
                        "remaining_time": 5.728471974,
                        "test": [
                          0.7534913368,
                          0.6792570817
                        ]
                      },
                      {
                        "iteration": 139,
                        "learn": [
                          0.7571859064,
                          0.665265295
                        ],
                        "passed_time": 2.219850141,
                        "remaining_time": 5.708186078,
                        "test": [
                          0.7534333893,
                          0.6792508958
                        ]
                      },
                      {
                        "iteration": 140,
                        "learn": [
                          0.7572728326,
                          0.6651174819
                        ],
                        "passed_time": 2.234941376,
                        "remaining_time": 5.690382652,
                        "test": [
                          0.7533754418,
                          0.6792457678
                        ]
                      },
                      {
                        "iteration": 141,
                        "learn": [
                          0.7571279555,
                          0.6649912861
                        ],
                        "passed_time": 2.290090748,
                        "remaining_time": 5.773609068,
                        "test": [
                          0.7534913368,
                          0.6791845584
                        ]
                      },
                      {
                        "iteration": 142,
                        "learn": [
                          0.7571859064,
                          0.6648286414
                        ],
                        "passed_time": 2.319201891,
                        "remaining_time": 5.789895629,
                        "test": [
                          0.7530857044,
                          0.6791915597
                        ]
                      },
                      {
                        "iteration": 143,
                        "learn": [
                          0.7572728326,
                          0.6646945611
                        ],
                        "passed_time": 2.338043718,
                        "remaining_time": 5.780163635,
                        "test": [
                          0.7530857044,
                          0.6791743411
                        ]
                      },
                      {
                        "iteration": 144,
                        "learn": [
                          0.7573597589,
                          0.6645974276
                        ],
                        "passed_time": 2.352347231,
                        "remaining_time": 5.759194944,
                        "test": [
                          0.7531436519,
                          0.6791329184
                        ]
                      },
                      {
                        "iteration": 145,
                        "learn": [
                          0.7576784886,
                          0.6644308255
                        ],
                        "passed_time": 2.366356154,
                        "remaining_time": 5.737603278,
                        "test": [
                          0.7533174944,
                          0.6791884143
                        ]
                      },
                      {
                        "iteration": 146,
                        "learn": [
                          0.7576205378,
                          0.6643290239
                        ],
                        "passed_time": 2.380123965,
                        "remaining_time": 5.715535779,
                        "test": [
                          0.7533754418,
                          0.6791494529
                        ]
                      },
                      {
                        "iteration": 147,
                        "learn": [
                          0.7577364395,
                          0.6641923349
                        ],
                        "passed_time": 2.394341344,
                        "remaining_time": 5.694649684,
                        "test": [
                          0.7535492843,
                          0.6791001354
                        ]
                      },
                      {
                        "iteration": 148,
                        "learn": [
                          0.7580551692,
                          0.6640876593
                        ],
                        "passed_time": 2.407882936,
                        "remaining_time": 5.672261144,
                        "test": [
                          0.7534333893,
                          0.6790997787
                        ]
                      },
                      {
                        "iteration": 149,
                        "learn": [
                          0.7581420955,
                          0.6639467534
                        ],
                        "passed_time": 2.422648666,
                        "remaining_time": 5.652846888,
                        "test": [
                          0.7532595469,
                          0.6790097358
                        ]
                      },
                      {
                        "iteration": 150,
                        "learn": [
                          0.7582000464,
                          0.6637877158
                        ],
                        "passed_time": 2.437963539,
                        "remaining_time": 5.634763412,
                        "test": [
                          0.7532015994,
                          0.6789498094
                        ]
                      },
                      {
                        "iteration": 151,
                        "learn": [
                          0.7582579972,
                          0.663714381
                        ],
                        "passed_time": 2.45241542,
                        "remaining_time": 5.614740567,
                        "test": [
                          0.7531436519,
                          0.6789328678
                        ]
                      },
                      {
                        "iteration": 152,
                        "learn": [
                          0.7582869726,
                          0.6636281267
                        ],
                        "passed_time": 2.468054803,
                        "remaining_time": 5.59748377,
                        "test": [
                          0.7529698094,
                          0.6789037788
                        ]
                      },
                      {
                        "iteration": 153,
                        "learn": [
                          0.7583159481,
                          0.663518944
                        ],
                        "passed_time": 2.482807707,
                        "remaining_time": 5.578256278,
                        "test": [
                          0.7531436519,
                          0.6789154673
                        ]
                      },
                      {
                        "iteration": 154,
                        "learn": [
                          0.7582000464,
                          0.6633323754
                        ],
                        "passed_time": 2.499846609,
                        "remaining_time": 5.564174711,
                        "test": [
                          0.7531436519,
                          0.6788913682
                        ]
                      },
                      {
                        "iteration": 155,
                        "learn": [
                          0.7582869726,
                          0.6632815251
                        ],
                        "passed_time": 2.51347042,
                        "remaining_time": 5.542524516,
                        "test": [
                          0.7530277569,
                          0.6788926158
                        ]
                      },
                      {
                        "iteration": 156,
                        "learn": [
                          0.7583449235,
                          0.663189412
                        ],
                        "passed_time": 2.527101349,
                        "remaining_time": 5.52099212,
                        "test": [
                          0.7529118619,
                          0.6789229412
                        ]
                      },
                      {
                        "iteration": 157,
                        "learn": [
                          0.7582869726,
                          0.6630636815
                        ],
                        "passed_time": 2.541305946,
                        "remaining_time": 5.500801479,
                        "test": [
                          0.7530277569,
                          0.6789096835
                        ]
                      },
                      {
                        "iteration": 158,
                        "learn": [
                          0.7582869726,
                          0.6630033965
                        ],
                        "passed_time": 2.556275136,
                        "remaining_time": 5.482325921,
                        "test": [
                          0.7530277569,
                          0.6789004434
                        ]
                      },
                      {
                        "iteration": 159,
                        "learn": [
                          0.7584318498,
                          0.6628626142
                        ],
                        "passed_time": 2.570311696,
                        "remaining_time": 5.461912353,
                        "test": [
                          0.7530857044,
                          0.6788548221
                        ]
                      },
                      {
                        "iteration": 160,
                        "learn": [
                          0.7583449235,
                          0.6627545817
                        ],
                        "passed_time": 2.585655478,
                        "remaining_time": 5.444330479,
                        "test": [
                          0.7530857044,
                          0.6788633485
                        ]
                      },
                      {
                        "iteration": 161,
                        "learn": [
                          0.7585477515,
                          0.6626561454
                        ],
                        "passed_time": 2.600240924,
                        "remaining_time": 5.425194027,
                        "test": [
                          0.7531436519,
                          0.6788178313
                        ]
                      },
                      {
                        "iteration": 162,
                        "learn": [
                          0.7585767269,
                          0.6625671457
                        ],
                        "passed_time": 2.613930111,
                        "remaining_time": 5.404260413,
                        "test": [
                          0.7530857044,
                          0.678842323
                        ]
                      },
                      {
                        "iteration": 163,
                        "learn": [
                          0.7585767269,
                          0.6624947971
                        ],
                        "passed_time": 2.627289323,
                        "remaining_time": 5.382739101,
                        "test": [
                          0.7527959669,
                          0.6788169024
                        ]
                      },
                      {
                        "iteration": 164,
                        "learn": [
                          0.7586346778,
                          0.6623906195
                        ],
                        "passed_time": 2.642934984,
                        "remaining_time": 5.365958907,
                        "test": [
                          0.7528539144,
                          0.6787559859
                        ]
                      },
                      {
                        "iteration": 165,
                        "learn": [
                          0.7586346778,
                          0.6622700782
                        ],
                        "passed_time": 2.657705597,
                        "remaining_time": 5.347431743,
                        "test": [
                          0.7527380194,
                          0.6787396974
                        ]
                      },
                      {
                        "iteration": 166,
                        "learn": [
                          0.7586926287,
                          0.6621629695
                        ],
                        "passed_time": 2.673358193,
                        "remaining_time": 5.330708253,
                        "test": [
                          0.7527959669,
                          0.6787103876
                        ]
                      },
                      {
                        "iteration": 167,
                        "learn": [
                          0.7587505795,
                          0.6620949531
                        ],
                        "passed_time": 2.687447562,
                        "remaining_time": 5.310908277,
                        "test": [
                          0.7529698094,
                          0.6787282127
                        ]
                      },
                      {
                        "iteration": 168,
                        "learn": [
                          0.7586926287,
                          0.6620275981
                        ],
                        "passed_time": 2.70216401,
                        "remaining_time": 5.292404067,
                        "test": [
                          0.7529698094,
                          0.6787054475
                        ]
                      },
                      {
                        "iteration": 169,
                        "learn": [
                          0.7586926287,
                          0.6619044781
                        ],
                        "passed_time": 2.727327672,
                        "remaining_time": 5.294224304,
                        "test": [
                          0.7529698094,
                          0.6786325449
                        ]
                      },
                      {
                        "iteration": 170,
                        "learn": [
                          0.7587216041,
                          0.6618148832
                        ],
                        "passed_time": 2.742114059,
                        "remaining_time": 5.275763306,
                        "test": [
                          0.7527380194,
                          0.6786373441
                        ]
                      },
                      {
                        "iteration": 171,
                        "learn": [
                          0.7588664812,
                          0.6615809745
                        ],
                        "passed_time": 2.758188118,
                        "remaining_time": 5.259800596,
                        "test": [
                          0.7530277569,
                          0.6785832269
                        ]
                      },
                      {
                        "iteration": 172,
                        "learn": [
                          0.7588954567,
                          0.6614560529
                        ],
                        "passed_time": 2.772694884,
                        "remaining_time": 5.240874145,
                        "test": [
                          0.7528539144,
                          0.6786195806
                        ]
                      },
                      {
                        "iteration": 173,
                        "learn": [
                          0.7587795549,
                          0.6613816294
                        ],
                        "passed_time": 2.786892506,
                        "remaining_time": 5.221419293,
                        "test": [
                          0.7529118619,
                          0.6786487917
                        ]
                      },
                      {
                        "iteration": 174,
                        "learn": [
                          0.7588375058,
                          0.6612949526
                        ],
                        "passed_time": 2.802508425,
                        "remaining_time": 5.204658503,
                        "test": [
                          0.7530277569,
                          0.678659801
                        ]
                      },
                      {
                        "iteration": 175,
                        "learn": [
                          0.7586926287,
                          0.6612160399
                        ],
                        "passed_time": 2.816952387,
                        "remaining_time": 5.185753258,
                        "test": [
                          0.7530857044,
                          0.6786615344
                        ]
                      },
                      {
                        "iteration": 176,
                        "learn": [
                          0.7586636532,
                          0.6610983264
                        ],
                        "passed_time": 2.831845805,
                        "remaining_time": 5.167718615,
                        "test": [
                          0.7531436519,
                          0.6786424127
                        ]
                      },
                      {
                        "iteration": 177,
                        "learn": [
                          0.7588664812,
                          0.6610342377
                        ],
                        "passed_time": 2.84637797,
                        "remaining_time": 5.149065766,
                        "test": [
                          0.7533754418,
                          0.6786386308
                        ]
                      },
                      {
                        "iteration": 178,
                        "learn": [
                          0.7588954567,
                          0.6609505129
                        ],
                        "passed_time": 2.863794926,
                        "remaining_time": 5.135632242,
                        "test": [
                          0.7534913368,
                          0.6786561487
                        ]
                      },
                      {
                        "iteration": 179,
                        "learn": [
                          0.7588375058,
                          0.6608359742
                        ],
                        "passed_time": 2.878963036,
                        "remaining_time": 5.118156509,
                        "test": [
                          0.7533754418,
                          0.6786423727
                        ]
                      },
                      {
                        "iteration": 180,
                        "learn": [
                          0.7589823829,
                          0.660773314
                        ],
                        "passed_time": 2.893551378,
                        "remaining_time": 5.099684473,
                        "test": [
                          0.7534913368,
                          0.6786433761
                        ]
                      },
                      {
                        "iteration": 181,
                        "learn": [
                          0.7591272601,
                          0.6605821821
                        ],
                        "passed_time": 2.908569932,
                        "remaining_time": 5.082006805,
                        "test": [
                          0.7531436519,
                          0.6786009287
                        ]
                      },
                      {
                        "iteration": 182,
                        "learn": [
                          0.7592141864,
                          0.6605010135
                        ],
                        "passed_time": 2.92280527,
                        "remaining_time": 5.063001479,
                        "test": [
                          0.7532015994,
                          0.6785775975
                        ]
                      },
                      {
                        "iteration": 183,
                        "learn": [
                          0.7591562355,
                          0.6604038932
                        ],
                        "passed_time": 2.936734222,
                        "remaining_time": 5.043521817,
                        "test": [
                          0.7531436519,
                          0.6785857977
                        ]
                      },
                      {
                        "iteration": 184,
                        "learn": [
                          0.7593880389,
                          0.6603218185
                        ],
                        "passed_time": 2.95107189,
                        "remaining_time": 5.024798084,
                        "test": [
                          0.7529698094,
                          0.678594325
                        ]
                      },
                      {
                        "iteration": 185,
                        "learn": [
                          0.7593880389,
                          0.6602635569
                        ],
                        "passed_time": 2.964528793,
                        "remaining_time": 5.004634629,
                        "test": [
                          0.7529698094,
                          0.6786177162
                        ]
                      },
                      {
                        "iteration": 186,
                        "learn": [
                          0.7594749652,
                          0.660151318
                        ],
                        "passed_time": 2.978498089,
                        "remaining_time": 4.985400545,
                        "test": [
                          0.7530857044,
                          0.6786480353
                        ]
                      },
                      {
                        "iteration": 187,
                        "learn": [
                          0.7594459898,
                          0.6600631319
                        ],
                        "passed_time": 2.993326478,
                        "remaining_time": 4.967648197,
                        "test": [
                          0.7530277569,
                          0.6786859095
                        ]
                      },
                      {
                        "iteration": 188,
                        "learn": [
                          0.7596488178,
                          0.6599434345
                        ],
                        "passed_time": 3.00664458,
                        "remaining_time": 4.947441611,
                        "test": [
                          0.7530857044,
                          0.6787315243
                        ]
                      },
                      {
                        "iteration": 189,
                        "learn": [
                          0.7597067687,
                          0.6598951246
                        ],
                        "passed_time": 3.020295446,
                        "remaining_time": 4.927850465,
                        "test": [
                          0.7532595469,
                          0.6787399093
                        ]
                      },
                      {
                        "iteration": 190,
                        "learn": [
                          0.7597647195,
                          0.6597588742
                        ],
                        "passed_time": 3.034828561,
                        "remaining_time": 4.909748824,
                        "test": [
                          0.7533754418,
                          0.6786827593
                        ]
                      },
                      {
                        "iteration": 191,
                        "learn": [
                          0.7597647195,
                          0.6596909662
                        ],
                        "passed_time": 3.049311517,
                        "remaining_time": 4.891603892,
                        "test": [
                          0.7532595469,
                          0.6786740948
                        ]
                      },
                      {
                        "iteration": 192,
                        "learn": [
                          0.7597936949,
                          0.6595915979
                        ],
                        "passed_time": 3.068042516,
                        "remaining_time": 4.880254158,
                        "test": [
                          0.7533754418,
                          0.6786902141
                        ]
                      },
                      {
                        "iteration": 193,
                        "learn": [
                          0.7599675475,
                          0.65950183
                        ],
                        "passed_time": 3.08139195,
                        "remaining_time": 4.86033988,
                        "test": [
                          0.7534333893,
                          0.6786888018
                        ]
                      },
                      {
                        "iteration": 194,
                        "learn": [
                          0.7601414001,
                          0.6594371489
                        ],
                        "passed_time": 3.095271421,
                        "remaining_time": 4.841321966,
                        "test": [
                          0.7534333893,
                          0.6787073086
                        ]
                      },
                      {
                        "iteration": 195,
                        "learn": [
                          0.7600544738,
                          0.6593672628
                        ],
                        "passed_time": 3.109362303,
                        "remaining_time": 4.822684389,
                        "test": [
                          0.7534333893,
                          0.6787108164
                        ]
                      },
                      {
                        "iteration": 196,
                        "learn": [
                          0.7601124247,
                          0.6592843432
                        ],
                        "passed_time": 3.123410482,
                        "remaining_time": 4.804027289,
                        "test": [
                          0.7533754418,
                          0.6787053799
                        ]
                      },
                      {
                        "iteration": 197,
                        "learn": [
                          0.7601414001,
                          0.6591615019
                        ],
                        "passed_time": 3.138238644,
                        "remaining_time": 4.786606416,
                        "test": [
                          0.7534333893,
                          0.6786449868
                        ]
                      },
                      {
                        "iteration": 198,
                        "learn": [
                          0.7603442281,
                          0.6589926977
                        ],
                        "passed_time": 3.152585483,
                        "remaining_time": 4.768483569,
                        "test": [
                          0.7530857044,
                          0.6786833304
                        ]
                      },
                      {
                        "iteration": 199,
                        "learn": [
                          0.7603152527,
                          0.6589183767
                        ],
                        "passed_time": 3.167524278,
                        "remaining_time": 4.751286417,
                        "test": [
                          0.7532015994,
                          0.6786395311
                        ]
                      },
                      {
                        "iteration": 200,
                        "learn": [
                          0.7602862772,
                          0.6587743906
                        ],
                        "passed_time": 3.182371133,
                        "remaining_time": 4.733974969,
                        "test": [
                          0.7533174944,
                          0.6786276576
                        ]
                      },
                      {
                        "iteration": 201,
                        "learn": [
                          0.7601703755,
                          0.6586950654
                        ],
                        "passed_time": 3.195752405,
                        "remaining_time": 4.714525825,
                        "test": [
                          0.7530857044,
                          0.6785781088
                        ]
                      },
                      {
                        "iteration": 202,
                        "learn": [
                          0.7601703755,
                          0.6585903064
                        ],
                        "passed_time": 3.210624009,
                        "remaining_time": 4.6973169,
                        "test": [
                          0.7531436519,
                          0.6785522989
                        ]
                      },
                      {
                        "iteration": 203,
                        "learn": [
                          0.7603442281,
                          0.6584516476
                        ],
                        "passed_time": 3.224657093,
                        "remaining_time": 4.678914214,
                        "test": [
                          0.7533174944,
                          0.6785898222
                        ]
                      },
                      {
                        "iteration": 204,
                        "learn": [
                          0.760605007,
                          0.658326127
                        ],
                        "passed_time": 3.239532248,
                        "remaining_time": 4.661765917,
                        "test": [
                          0.7532595469,
                          0.6786271753
                        ]
                      },
                      {
                        "iteration": 205,
                        "learn": [
                          0.7605180807,
                          0.6582457472
                        ],
                        "passed_time": 3.253543943,
                        "remaining_time": 4.643407375,
                        "test": [
                          0.7533754418,
                          0.6786074974
                        ]
                      },
                      {
                        "iteration": 206,
                        "learn": [
                          0.760605007,
                          0.658167342
                        ],
                        "passed_time": 3.268171175,
                        "remaining_time": 4.625962097,
                        "test": [
                          0.7532595469,
                          0.6786185925
                        ]
                      },
                      {
                        "iteration": 207,
                        "learn": [
                          0.7608657858,
                          0.6580743099
                        ],
                        "passed_time": 3.320313163,
                        "remaining_time": 4.661208864,
                        "test": [
                          0.7531436519,
                          0.6786427546
                        ]
                      },
                      {
                        "iteration": 208,
                        "learn": [
                          0.7609527121,
                          0.6579710181
                        ],
                        "passed_time": 3.351275407,
                        "remaining_time": 4.666129873,
                        "test": [
                          0.7530857044,
                          0.6787179796
                        ]
                      },
                      {
                        "iteration": 209,
                        "learn": [
                          0.7608657858,
                          0.6578875186
                        ],
                        "passed_time": 3.375422714,
                        "remaining_time": 4.661298033,
                        "test": [
                          0.7529118619,
                          0.678747371
                        ]
                      },
                      {
                        "iteration": 210,
                        "learn": [
                          0.7611265647,
                          0.6578357251
                        ],
                        "passed_time": 3.388722938,
                        "remaining_time": 4.641426204,
                        "test": [
                          0.7527380194,
                          0.6787538063
                        ]
                      },
                      {
                        "iteration": 211,
                        "learn": [
                          0.7611265647,
                          0.6577519826
                        ],
                        "passed_time": 3.402485809,
                        "remaining_time": 4.622244872,
                        "test": [
                          0.7529118619,
                          0.678806177
                        ]
                      },
                      {
                        "iteration": 212,
                        "learn": [
                          0.7609237367,
                          0.6576847739
                        ],
                        "passed_time": 3.416573164,
                        "remaining_time": 4.603551634,
                        "test": [
                          0.7526800719,
                          0.6787784383
                        ]
                      },
                      {
                        "iteration": 213,
                        "learn": [
                          0.7609816875,
                          0.6575822649
                        ],
                        "passed_time": 3.430660226,
                        "remaining_time": 4.584901049,
                        "test": [
                          0.7527959669,
                          0.6788040046
                        ]
                      },
                      {
                        "iteration": 214,
                        "learn": [
                          0.7611555401,
                          0.6575030128
                        ],
                        "passed_time": 3.44493984,
                        "remaining_time": 4.566548161,
                        "test": [
                          0.7529118619,
                          0.6788016984
                        ]
                      },
                      {
                        "iteration": 215,
                        "learn": [
                          0.7611845155,
                          0.6573992856
                        ],
                        "passed_time": 3.459937198,
                        "remaining_time": 4.549176687,
                        "test": [
                          0.7530857044,
                          0.6788427114
                        ]
                      },
                      {
                        "iteration": 216,
                        "learn": [
                          0.7611555401,
                          0.6573491981
                        ],
                        "passed_time": 3.48549139,
                        "remaining_time": 4.545594762,
                        "test": [
                          0.7529698094,
                          0.6788328581
                        ]
                      },
                      {
                        "iteration": 217,
                        "learn": [
                          0.7611555401,
                          0.6572533116
                        ],
                        "passed_time": 3.500483829,
                        "remaining_time": 4.528148806,
                        "test": [
                          0.7529118619,
                          0.6788181936
                        ]
                      },
                      {
                        "iteration": 218,
                        "learn": [
                          0.761416319,
                          0.6571972508
                        ],
                        "passed_time": 3.514909264,
                        "remaining_time": 4.509997731,
                        "test": [
                          0.7528539144,
                          0.6788215285
                        ]
                      },
                      {
                        "iteration": 219,
                        "learn": [
                          0.7613583681,
                          0.6570952912
                        ],
                        "passed_time": 3.5295379,
                        "remaining_time": 4.492139146,
                        "test": [
                          0.7527380194,
                          0.6787992001
                        ]
                      },
                      {
                        "iteration": 220,
                        "learn": [
                          0.761416319,
                          0.6569956536
                        ],
                        "passed_time": 3.543059726,
                        "remaining_time": 4.472912505,
                        "test": [
                          0.7528539144,
                          0.6787820919
                        ]
                      },
                      {
                        "iteration": 221,
                        "learn": [
                          0.761416319,
                          0.6569134425
                        ],
                        "passed_time": 3.558252606,
                        "remaining_time": 4.45582984,
                        "test": [
                          0.7527959669,
                          0.6787757435
                        ]
                      },
                      {
                        "iteration": 222,
                        "learn": [
                          0.7615032452,
                          0.6568137673
                        ],
                        "passed_time": 3.571757698,
                        "remaining_time": 4.436667634,
                        "test": [
                          0.7527380194,
                          0.6788086811
                        ]
                      },
                      {
                        "iteration": 223,
                        "learn": [
                          0.761416319,
                          0.6567139785
                        ],
                        "passed_time": 3.586592068,
                        "remaining_time": 4.419193798,
                        "test": [
                          0.7527380194,
                          0.678812245
                        ]
                      },
                      {
                        "iteration": 224,
                        "learn": [
                          0.7613293927,
                          0.6565812097
                        ],
                        "passed_time": 3.601748799,
                        "remaining_time": 4.402137421,
                        "test": [
                          0.7526800719,
                          0.6787368242
                        ]
                      },
                      {
                        "iteration": 225,
                        "learn": [
                          0.7613583681,
                          0.656522478
                        ],
                        "passed_time": 3.61620354,
                        "remaining_time": 4.38424677,
                        "test": [
                          0.7526800719,
                          0.6787489531
                        ]
                      },
                      {
                        "iteration": 226,
                        "learn": [
                          0.7615611961,
                          0.6564328245
                        ],
                        "passed_time": 3.630341662,
                        "remaining_time": 4.366005612,
                        "test": [
                          0.7527380194,
                          0.6787548911
                        ]
                      },
                      {
                        "iteration": 227,
                        "learn": [
                          0.7617060732,
                          0.6563569919
                        ],
                        "passed_time": 3.64377961,
                        "remaining_time": 4.346965149,
                        "test": [
                          0.7530277569,
                          0.6787714895
                        ]
                      },
                      {
                        "iteration": 228,
                        "learn": [
                          0.7616481224,
                          0.6562468253
                        ],
                        "passed_time": 3.658776273,
                        "remaining_time": 4.32981821,
                        "test": [
                          0.7530277569,
                          0.6787823677
                        ]
                      },
                      {
                        "iteration": 229,
                        "learn": [
                          0.7616770978,
                          0.6562019995
                        ],
                        "passed_time": 3.672996038,
                        "remaining_time": 4.311777957,
                        "test": [
                          0.7529118619,
                          0.6787641454
                        ]
                      },
                      {
                        "iteration": 230,
                        "learn": [
                          0.7617350487,
                          0.6561131756
                        ],
                        "passed_time": 3.687474828,
                        "remaining_time": 4.294072419,
                        "test": [
                          0.7529118619,
                          0.6787492483
                        ]
                      },
                      {
                        "iteration": 231,
                        "learn": [
                          0.7617929995,
                          0.6560574281
                        ],
                        "passed_time": 3.701794555,
                        "remaining_time": 4.276210952,
                        "test": [
                          0.7528539144,
                          0.6787375646
                        ]
                      },
                      {
                        "iteration": 232,
                        "learn": [
                          0.7617929995,
                          0.6559947121
                        ],
                        "passed_time": 3.720878296,
                        "remaining_time": 4.263839078,
                        "test": [
                          0.7528539144,
                          0.6787531132
                        ]
                      },
                      {
                        "iteration": 233,
                        "learn": [
                          0.7617640241,
                          0.6558933946
                        ],
                        "passed_time": 3.741265995,
                        "remaining_time": 4.252892114,
                        "test": [
                          0.7527380194,
                          0.6787495614
                        ]
                      },
                      {
                        "iteration": 234,
                        "learn": [
                          0.7616481224,
                          0.6558289669
                        ],
                        "passed_time": 3.754748039,
                        "remaining_time": 4.234077576,
                        "test": [
                          0.7529118619,
                          0.6787406432
                        ]
                      },
                      {
                        "iteration": 235,
                        "learn": [
                          0.7617640241,
                          0.6557206005
                        ],
                        "passed_time": 3.770602666,
                        "remaining_time": 4.217962304,
                        "test": [
                          0.7530277569,
                          0.6786913035
                        ]
                      },
                      {
                        "iteration": 236,
                        "learn": [
                          0.761821975,
                          0.6556311535
                        ],
                        "passed_time": 3.7853675,
                        "remaining_time": 4.200639885,
                        "test": [
                          0.7530857044,
                          0.6786935241
                        ]
                      },
                      {
                        "iteration": 237,
                        "learn": [
                          0.7617929995,
                          0.655520884
                        ],
                        "passed_time": 3.80135924,
                        "remaining_time": 4.184689584,
                        "test": [
                          0.7527380194,
                          0.6786857614
                        ]
                      },
                      {
                        "iteration": 238,
                        "learn": [
                          0.7619089013,
                          0.6554427242
                        ],
                        "passed_time": 3.816465559,
                        "remaining_time": 4.167772013,
                        "test": [
                          0.7526800719,
                          0.6786608735
                        ]
                      },
                      {
                        "iteration": 239,
                        "learn": [
                          0.7621986555,
                          0.6553664306
                        ],
                        "passed_time": 3.830745169,
                        "remaining_time": 4.149973933,
                        "test": [
                          0.7524482819,
                          0.6786711887
                        ]
                      },
                      {
                        "iteration": 240,
                        "learn": [
                          0.7623435327,
                          0.65527799
                        ],
                        "passed_time": 3.845097475,
                        "remaining_time": 4.132283178,
                        "test": [
                          0.7523903344,
                          0.6786608693
                        ]
                      },
                      {
                        "iteration": 241,
                        "learn": [
                          0.762227631,
                          0.6551612173
                        ],
                        "passed_time": 3.860065978,
                        "remaining_time": 4.115276952,
                        "test": [
                          0.7523903344,
                          0.6786725888
                        ]
                      },
                      {
                        "iteration": 242,
                        "learn": [
                          0.7621986555,
                          0.6550634266
                        ],
                        "passed_time": 3.874945884,
                        "remaining_time": 4.098193795,
                        "test": [
                          0.7522744394,
                          0.6786880681
                        ]
                      },
                      {
                        "iteration": 243,
                        "learn": [
                          0.7622566064,
                          0.6549422786
                        ],
                        "passed_time": 3.889376467,
                        "remaining_time": 4.080657277,
                        "test": [
                          0.7524482819,
                          0.6786798245
                        ]
                      },
                      {
                        "iteration": 244,
                        "learn": [
                          0.7623145573,
                          0.6548946414
                        ],
                        "passed_time": 3.903205943,
                        "remaining_time": 4.062520471,
                        "test": [
                          0.7522744394,
                          0.6786903891
                        ]
                      },
                      {
                        "iteration": 245,
                        "learn": [
                          0.7624014835,
                          0.6548176905
                        ],
                        "passed_time": 3.919661921,
                        "remaining_time": 4.047130601,
                        "test": [
                          0.7524482819,
                          0.6787122101
                        ]
                      },
                      {
                        "iteration": 246,
                        "learn": [
                          0.7624594344,
                          0.6547550067
                        ],
                        "passed_time": 3.933755195,
                        "remaining_time": 4.029312002,
                        "test": [
                          0.7523903344,
                          0.6787069408
                        ]
                      },
                      {
                        "iteration": 247,
                        "learn": [
                          0.762430459,
                          0.6546549369
                        ],
                        "passed_time": 3.948261675,
                        "remaining_time": 4.011943315,
                        "test": [
                          0.7522164919,
                          0.6786819808
                        ]
                      },
                      {
                        "iteration": 248,
                        "learn": [
                          0.762430459,
                          0.6545595413
                        ],
                        "passed_time": 3.963102706,
                        "remaining_time": 3.994934856,
                        "test": [
                          0.7524482819,
                          0.6787256721
                        ]
                      },
                      {
                        "iteration": 249,
                        "learn": [
                          0.7624884098,
                          0.6544993614
                        ],
                        "passed_time": 3.976624899,
                        "remaining_time": 3.976624899,
                        "test": [
                          0.7524482819,
                          0.6787509227
                        ]
                      },
                      {
                        "iteration": 250,
                        "learn": [
                          0.7623725081,
                          0.6544183455
                        ],
                        "passed_time": 3.990231172,
                        "remaining_time": 3.958436502,
                        "test": [
                          0.7523323869,
                          0.6787544254
                        ]
                      },
                      {
                        "iteration": 251,
                        "learn": [
                          0.7626912378,
                          0.654292991
                        ],
                        "passed_time": 4.004957687,
                        "remaining_time": 3.94138693,
                        "test": [
                          0.7522744394,
                          0.6787282464
                        ]
                      },
                      {
                        "iteration": 252,
                        "learn": [
                          0.762633287,
                          0.6542233624
                        ],
                        "passed_time": 4.018906674,
                        "remaining_time": 3.923596635,
                        "test": [
                          0.7521005969,
                          0.6786968442
                        ]
                      },
                      {
                        "iteration": 253,
                        "learn": [
                          0.7627781641,
                          0.6541635845
                        ],
                        "passed_time": 4.032362849,
                        "remaining_time": 3.905359295,
                        "test": [
                          0.7521585444,
                          0.6787010022
                        ]
                      },
                      {
                        "iteration": 254,
                        "learn": [
                          0.7627781641,
                          0.6541077016
                        ],
                        "passed_time": 4.046397058,
                        "remaining_time": 3.887714821,
                        "test": [
                          0.7521585444,
                          0.6787287848
                        ]
                      },
                      {
                        "iteration": 255,
                        "learn": [
                          0.7627202133,
                          0.6540547549
                        ],
                        "passed_time": 4.060712233,
                        "remaining_time": 3.870366347,
                        "test": [
                          0.7523323869,
                          0.6787496085
                        ]
                      },
                      {
                        "iteration": 256,
                        "learn": [
                          0.7628940658,
                          0.653989745
                        ],
                        "passed_time": 4.073845247,
                        "remaining_time": 3.851923716,
                        "test": [
                          0.7525641769,
                          0.6787450427
                        ]
                      },
                      {
                        "iteration": 257,
                        "learn": [
                          0.762836115,
                          0.653907801
                        ],
                        "passed_time": 4.087769604,
                        "remaining_time": 3.834264512,
                        "test": [
                          0.7525641769,
                          0.6787715995
                        ]
                      },
                      {
                        "iteration": 258,
                        "learn": [
                          0.762836115,
                          0.6538404838
                        ],
                        "passed_time": 4.10225903,
                        "remaining_time": 3.817159947,
                        "test": [
                          0.7526800719,
                          0.6787625616
                        ]
                      },
                      {
                        "iteration": 259,
                        "learn": [
                          0.7628071395,
                          0.6537589702
                        ],
                        "passed_time": 4.116720557,
                        "remaining_time": 3.800049745,
                        "test": [
                          0.7526221244,
                          0.6787714702
                        ]
                      },
                      {
                        "iteration": 260,
                        "learn": [
                          0.7628940658,
                          0.6536834001
                        ],
                        "passed_time": 4.131608605,
                        "remaining_time": 3.783350408,
                        "test": [
                          0.7526221244,
                          0.6787977383
                        ]
                      },
                      {
                        "iteration": 261,
                        "learn": [
                          0.7629809921,
                          0.6536316091
                        ],
                        "passed_time": 4.146995991,
                        "remaining_time": 3.767118495,
                        "test": [
                          0.7526800719,
                          0.6787932862
                        ]
                      },
                      {
                        "iteration": 262,
                        "learn": [
                          0.7631548447,
                          0.6535447156
                        ],
                        "passed_time": 4.160832614,
                        "remaining_time": 3.749495549,
                        "test": [
                          0.7526221244,
                          0.6787986649
                        ]
                      },
                      {
                        "iteration": 263,
                        "learn": [
                          0.7631548447,
                          0.6534814307
                        ],
                        "passed_time": 4.175482103,
                        "remaining_time": 3.73262794,
                        "test": [
                          0.7525641769,
                          0.6788199991
                        ]
                      },
                      {
                        "iteration": 264,
                        "learn": [
                          0.7632127955,
                          0.6533835174
                        ],
                        "passed_time": 4.190089212,
                        "remaining_time": 3.71573949,
                        "test": [
                          0.7523903344,
                          0.6788187175
                        ]
                      },
                      {
                        "iteration": 265,
                        "learn": [
                          0.7632997218,
                          0.6532908562
                        ],
                        "passed_time": 4.204988944,
                        "remaining_time": 3.699125613,
                        "test": [
                          0.7526800719,
                          0.6788453996
                        ]
                      },
                      {
                        "iteration": 266,
                        "learn": [
                          0.7633286973,
                          0.6532312701
                        ],
                        "passed_time": 4.219631606,
                        "remaining_time": 3.68230024,
                        "test": [
                          0.7527380194,
                          0.6787934664
                        ]
                      },
                      {
                        "iteration": 267,
                        "learn": [
                          0.7633576727,
                          0.6531896916
                        ],
                        "passed_time": 4.232944655,
                        "remaining_time": 3.664340149,
                        "test": [
                          0.7527380194,
                          0.6787977875
                        ]
                      },
                      {
                        "iteration": 268,
                        "learn": [
                          0.7632997218,
                          0.6531187992
                        ],
                        "passed_time": 4.248016438,
                        "remaining_time": 3.647924896,
                        "test": [
                          0.7527959669,
                          0.6787919648
                        ]
                      },
                      {
                        "iteration": 269,
                        "learn": [
                          0.7632997218,
                          0.653017363
                        ],
                        "passed_time": 4.263283563,
                        "remaining_time": 3.631685998,
                        "test": [
                          0.7526221244,
                          0.6788582451
                        ]
                      },
                      {
                        "iteration": 270,
                        "learn": [
                          0.7633576727,
                          0.6529344521
                        ],
                        "passed_time": 4.277745826,
                        "remaining_time": 3.614774148,
                        "test": [
                          0.7526221244,
                          0.6788978003
                        ]
                      },
                      {
                        "iteration": 271,
                        "learn": [
                          0.7632997218,
                          0.6528281465
                        ],
                        "passed_time": 4.292632906,
                        "remaining_time": 3.598236407,
                        "test": [
                          0.7527380194,
                          0.6789407612
                        ]
                      },
                      {
                        "iteration": 272,
                        "learn": [
                          0.7635315253,
                          0.6527414074
                        ],
                        "passed_time": 4.307175013,
                        "remaining_time": 3.581423912,
                        "test": [
                          0.7527959669,
                          0.6789501778
                        ]
                      },
                      {
                        "iteration": 273,
                        "learn": [
                          0.7635315253,
                          0.6526844785
                        ],
                        "passed_time": 4.363371175,
                        "remaining_time": 3.598984984,
                        "test": [
                          0.7527959669,
                          0.6789317757
                        ]
                      },
                      {
                        "iteration": 274,
                        "learn": [
                          0.7635315253,
                          0.6526011433
                        ],
                        "passed_time": 4.391656869,
                        "remaining_time": 3.593173802,
                        "test": [
                          0.7529118619,
                          0.6789414953
                        ]
                      },
                      {
                        "iteration": 275,
                        "learn": [
                          0.7635605007,
                          0.6524587395
                        ],
                        "passed_time": 4.41586401,
                        "remaining_time": 3.583889631,
                        "test": [
                          0.7529698094,
                          0.6789314061
                        ]
                      },
                      {
                        "iteration": 276,
                        "learn": [
                          0.763647427,
                          0.6524063982
                        ],
                        "passed_time": 4.429881964,
                        "remaining_time": 3.566294866,
                        "test": [
                          0.7529698094,
                          0.6789327295
                        ]
                      },
                      {
                        "iteration": 277,
                        "learn": [
                          0.7637053778,
                          0.6523250161
                        ],
                        "passed_time": 4.445250481,
                        "remaining_time": 3.549804341,
                        "test": [
                          0.7529698094,
                          0.6789726319
                        ]
                      },
                      {
                        "iteration": 278,
                        "learn": [
                          0.763850255,
                          0.6522576346
                        ],
                        "passed_time": 4.459230628,
                        "remaining_time": 3.53222211,
                        "test": [
                          0.7528539144,
                          0.6789755805
                        ]
                      },
                      {
                        "iteration": 279,
                        "learn": [
                          0.7637343533,
                          0.6522018327
                        ],
                        "passed_time": 4.475761444,
                        "remaining_time": 3.516669706,
                        "test": [
                          0.7528539144,
                          0.6789536826
                        ]
                      },
                      {
                        "iteration": 280,
                        "learn": [
                          0.7637923041,
                          0.6520910146
                        ],
                        "passed_time": 4.490734831,
                        "remaining_time": 3.499896541,
                        "test": [
                          0.7529118619,
                          0.6789725643
                        ]
                      },
                      {
                        "iteration": 281,
                        "learn": [
                          0.7639371813,
                          0.6520279903
                        ],
                        "passed_time": 4.505279218,
                        "remaining_time": 3.482804502,
                        "test": [
                          0.7528539144,
                          0.6790078162
                        ]
                      },
                      {
                        "iteration": 282,
                        "learn": [
                          0.764053083,
                          0.6519306176
                        ],
                        "passed_time": 4.519597865,
                        "remaining_time": 3.465557374,
                        "test": [
                          0.7529118619,
                          0.6790701833
                        ]
                      },
                      {
                        "iteration": 283,
                        "learn": [
                          0.764053083,
                          0.6518392125
                        ],
                        "passed_time": 4.533547028,
                        "remaining_time": 3.448049853,
                        "test": [
                          0.7529118619,
                          0.6790934424
                        ]
                      },
                      {
                        "iteration": 284,
                        "learn": [
                          0.7640241076,
                          0.6517954008
                        ],
                        "passed_time": 4.548107612,
                        "remaining_time": 3.431028549,
                        "test": [
                          0.7529118619,
                          0.6790873451
                        ]
                      },
                      {
                        "iteration": 285,
                        "learn": [
                          0.7641979601,
                          0.6517071831
                        ],
                        "passed_time": 4.562073541,
                        "remaining_time": 3.413579503,
                        "test": [
                          0.7529118619,
                          0.679090612
                        ]
                      },
                      {
                        "iteration": 286,
                        "learn": [
                          0.764053083,
                          0.6515958531
                        ],
                        "passed_time": 4.576963857,
                        "remaining_time": 3.396840772,
                        "test": [
                          0.7529118619,
                          0.6790969398
                        ]
                      },
                      {
                        "iteration": 287,
                        "learn": [
                          0.7641110338,
                          0.6515348782
                        ],
                        "passed_time": 4.590936838,
                        "remaining_time": 3.379439617,
                        "test": [
                          0.7530277569,
                          0.6790842004
                        ]
                      },
                      {
                        "iteration": 288,
                        "learn": [
                          0.7641400093,
                          0.6513982349
                        ],
                        "passed_time": 4.605745864,
                        "remaining_time": 3.362672586,
                        "test": [
                          0.7527380194,
                          0.6790811807
                        ]
                      },
                      {
                        "iteration": 289,
                        "learn": [
                          0.7644297636,
                          0.6513275606
                        ],
                        "passed_time": 4.620087318,
                        "remaining_time": 3.345580472,
                        "test": [
                          0.7527380194,
                          0.6790858717
                        ]
                      },
                      {
                        "iteration": 290,
                        "learn": [
                          0.7643718127,
                          0.6512024553
                        ],
                        "passed_time": 4.634902744,
                        "remaining_time": 3.328847676,
                        "test": [
                          0.7526800719,
                          0.679091877
                        ]
                      },
                      {
                        "iteration": 291,
                        "learn": [
                          0.7644297636,
                          0.6510747623
                        ],
                        "passed_time": 4.650141189,
                        "remaining_time": 3.31242934,
                        "test": [
                          0.7527380194,
                          0.6790412969
                        ]
                      },
                      {
                        "iteration": 292,
                        "learn": [
                          0.7644007881,
                          0.6510208361
                        ],
                        "passed_time": 4.664108393,
                        "remaining_time": 3.295120947,
                        "test": [
                          0.7527959669,
                          0.6790430121
                        ]
                      },
                      {
                        "iteration": 293,
                        "learn": [
                          0.7643138618,
                          0.6509206191
                        ],
                        "passed_time": 4.678892948,
                        "remaining_time": 3.278407984,
                        "test": [
                          0.7527380194,
                          0.6789914298
                        ]
                      },
                      {
                        "iteration": 294,
                        "learn": [
                          0.7645166898,
                          0.6508473331
                        ],
                        "passed_time": 4.692957624,
                        "remaining_time": 3.26120784,
                        "test": [
                          0.7527380194,
                          0.6790196378
                        ]
                      },
                      {
                        "iteration": 295,
                        "learn": [
                          0.7644297636,
                          0.650737671
                        ],
                        "passed_time": 4.707262066,
                        "remaining_time": 3.244194126,
                        "test": [
                          0.7526800719,
                          0.6790249571
                        ]
                      },
                      {
                        "iteration": 296,
                        "learn": [
                          0.7644007881,
                          0.6506430709
                        ],
                        "passed_time": 4.72115667,
                        "remaining_time": 3.226918532,
                        "test": [
                          0.7526800719,
                          0.6790023173
                        ]
                      },
                      {
                        "iteration": 297,
                        "learn": [
                          0.7644877144,
                          0.6505654894
                        ],
                        "passed_time": 4.747362777,
                        "remaining_time": 3.21801101,
                        "test": [
                          0.7527380194,
                          0.6790299116
                        ]
                      },
                      {
                        "iteration": 298,
                        "learn": [
                          0.7645746407,
                          0.6505133197
                        ],
                        "passed_time": 4.761777963,
                        "remaining_time": 3.20106144,
                        "test": [
                          0.7525641769,
                          0.6790495633
                        ]
                      },
                      {
                        "iteration": 299,
                        "learn": [
                          0.7645456653,
                          0.6504446505
                        ],
                        "passed_time": 4.775827872,
                        "remaining_time": 3.183885248,
                        "test": [
                          0.7525641769,
                          0.6790552866
                        ]
                      },
                      {
                        "iteration": 300,
                        "learn": [
                          0.7646036161,
                          0.6503648882
                        ],
                        "passed_time": 4.792032681,
                        "remaining_time": 3.168154497,
                        "test": [
                          0.7525641769,
                          0.6790587134
                        ]
                      },
                      {
                        "iteration": 301,
                        "learn": [
                          0.7646325916,
                          0.6502827272
                        ],
                        "passed_time": 4.806335668,
                        "remaining_time": 3.151173716,
                        "test": [
                          0.7528539144,
                          0.6790594997
                        ]
                      },
                      {
                        "iteration": 302,
                        "learn": [
                          0.764661567,
                          0.6501369576
                        ],
                        "passed_time": 4.821626224,
                        "remaining_time": 3.134852694,
                        "test": [
                          0.7527959669,
                          0.6790525761
                        ]
                      },
                      {
                        "iteration": 303,
                        "learn": [
                          0.764661567,
                          0.6500876927
                        ],
                        "passed_time": 4.835743611,
                        "remaining_time": 3.117782065,
                        "test": [
                          0.7526800719,
                          0.679080087
                        ]
                      },
                      {
                        "iteration": 304,
                        "learn": [
                          0.7646905424,
                          0.6500151114
                        ],
                        "passed_time": 4.850693237,
                        "remaining_time": 3.101262889,
                        "test": [
                          0.7527380194,
                          0.679113443
                        ]
                      },
                      {
                        "iteration": 305,
                        "learn": [
                          0.7646905424,
                          0.6499101644
                        ],
                        "passed_time": 4.865196751,
                        "remaining_time": 3.084471143,
                        "test": [
                          0.7528539144,
                          0.6791269044
                        ]
                      },
                      {
                        "iteration": 306,
                        "learn": [
                          0.7646905424,
                          0.6498155996
                        ],
                        "passed_time": 4.880169248,
                        "remaining_time": 3.067989137,
                        "test": [
                          0.7528539144,
                          0.6791197477
                        ]
                      },
                      {
                        "iteration": 307,
                        "learn": [
                          0.7648354196,
                          0.6496636326
                        ],
                        "passed_time": 4.895350545,
                        "remaining_time": 3.051647093,
                        "test": [
                          0.7527380194,
                          0.6790890978
                        ]
                      },
                      {
                        "iteration": 308,
                        "learn": [
                          0.7649223459,
                          0.6495827805
                        ],
                        "passed_time": 4.90962629,
                        "remaining_time": 3.03475282,
                        "test": [
                          0.7527380194,
                          0.6790773431
                        ]
                      },
                      {
                        "iteration": 309,
                        "learn": [
                          0.7650382476,
                          0.6495211574
                        ],
                        "passed_time": 4.924085681,
                        "remaining_time": 3.017987998,
                        "test": [
                          0.7527380194,
                          0.6790904173
                        ]
                      },
                      {
                        "iteration": 310,
                        "learn": [
                          0.7651831247,
                          0.6494367839
                        ],
                        "passed_time": 4.93925393,
                        "remaining_time": 3.001668787,
                        "test": [
                          0.7528539144,
                          0.6790944297
                        ]
                      },
                      {
                        "iteration": 311,
                        "learn": [
                          0.765067223,
                          0.6493665745
                        ],
                        "passed_time": 4.957049046,
                        "remaining_time": 2.98693981,
                        "test": [
                          0.7529118619,
                          0.6791051454
                        ]
                      },
                      {
                        "iteration": 312,
                        "learn": [
                          0.7651541493,
                          0.6493008985
                        ],
                        "passed_time": 4.970679677,
                        "remaining_time": 2.969703194,
                        "test": [
                          0.7525641769,
                          0.6791310212
                        ]
                      },
                      {
                        "iteration": 313,
                        "learn": [
                          0.7651541493,
                          0.6491735002
                        ],
                        "passed_time": 4.985444646,
                        "remaining_time": 2.953161478,
                        "test": [
                          0.7528539144,
                          0.679166324
                        ]
                      },
                      {
                        "iteration": 314,
                        "learn": [
                          0.7655018544,
                          0.6490889165
                        ],
                        "passed_time": 4.99965294,
                        "remaining_time": 2.936304107,
                        "test": [
                          0.7526800719,
                          0.679162901
                        ]
                      },
                      {
                        "iteration": 315,
                        "learn": [
                          0.7653569773,
                          0.6490543685
                        ],
                        "passed_time": 5.012874244,
                        "remaining_time": 2.9188888,
                        "test": [
                          0.7525641769,
                          0.6791565386
                        ]
                      },
                      {
                        "iteration": 316,
                        "learn": [
                          0.7654439036,
                          0.6489578984
                        ],
                        "passed_time": 5.027461726,
                        "remaining_time": 2.90228863,
                        "test": [
                          0.7530857044,
                          0.6791990481
                        ]
                      },
                      {
                        "iteration": 317,
                        "learn": [
                          0.7655308299,
                          0.64886882
                        ],
                        "passed_time": 5.041906183,
                        "remaining_time": 2.885619262,
                        "test": [
                          0.7528539144,
                          0.6791993197
                        ]
                      },
                      {
                        "iteration": 318,
                        "learn": [
                          0.7655308299,
                          0.6487950628
                        ],
                        "passed_time": 5.055804978,
                        "remaining_time": 2.868654235,
                        "test": [
                          0.7527959669,
                          0.6792140379
                        ]
                      },
                      {
                        "iteration": 319,
                        "learn": [
                          0.7655598053,
                          0.6487151653
                        ],
                        "passed_time": 5.070880283,
                        "remaining_time": 2.852370159,
                        "test": [
                          0.7527959669,
                          0.679203698
                        ]
                      },
                      {
                        "iteration": 320,
                        "learn": [
                          0.7654439036,
                          0.6486478851
                        ],
                        "passed_time": 5.084726796,
                        "remaining_time": 2.8354084,
                        "test": [
                          0.7528539144,
                          0.6791724114
                        ]
                      },
                      {
                        "iteration": 321,
                        "learn": [
                          0.7655308299,
                          0.6485454486
                        ],
                        "passed_time": 5.098453359,
                        "remaining_time": 2.818399683,
                        "test": [
                          0.7529698094,
                          0.679190989
                        ]
                      },
                      {
                        "iteration": 322,
                        "learn": [
                          0.7655308299,
                          0.6484793765
                        ],
                        "passed_time": 5.113028833,
                        "remaining_time": 2.801876481,
                        "test": [
                          0.7529118619,
                          0.6791968838
                        ]
                      },
                      {
                        "iteration": 323,
                        "learn": [
                          0.7654439036,
                          0.6483989253
                        ],
                        "passed_time": 5.127678848,
                        "remaining_time": 2.785405794,
                        "test": [
                          0.7529118619,
                          0.6792058472
                        ]
                      },
                      {
                        "iteration": 324,
                        "learn": [
                          0.7654439036,
                          0.648312388
                        ],
                        "passed_time": 5.143946366,
                        "remaining_time": 2.769817274,
                        "test": [
                          0.7529118619,
                          0.6792186664
                        ]
                      },
                      {
                        "iteration": 325,
                        "learn": [
                          0.7656177561,
                          0.6482199018
                        ],
                        "passed_time": 5.158579412,
                        "remaining_time": 2.753352201,
                        "test": [
                          0.7527380194,
                          0.6792292352
                        ]
                      },
                      {
                        "iteration": 326,
                        "learn": [
                          0.7655598053,
                          0.6480845883
                        ],
                        "passed_time": 5.173784828,
                        "remaining_time": 2.737201148,
                        "test": [
                          0.7528539144,
                          0.6792476875
                        ]
                      },
                      {
                        "iteration": 327,
                        "learn": [
                          0.7655598053,
                          0.6480150825
                        ],
                        "passed_time": 5.189282997,
                        "remaining_time": 2.721209376,
                        "test": [
                          0.7527380194,
                          0.6792760017
                        ]
                      },
                      {
                        "iteration": 328,
                        "learn": [
                          0.7656467316,
                          0.6479091731
                        ],
                        "passed_time": 5.203764216,
                        "remaining_time": 2.704692039,
                        "test": [
                          0.7528539144,
                          0.6792729559
                        ]
                      },
                      {
                        "iteration": 329,
                        "learn": [
                          0.765675707,
                          0.6478562035
                        ],
                        "passed_time": 5.218588893,
                        "remaining_time": 2.688363975,
                        "test": [
                          0.7527959669,
                          0.6792866495
                        ]
                      },
                      {
                        "iteration": 330,
                        "learn": [
                          0.7657916087,
                          0.6477437106
                        ],
                        "passed_time": 5.233527892,
                        "remaining_time": 2.672103365,
                        "test": [
                          0.7527380194,
                          0.67923629
                        ]
                      },
                      {
                        "iteration": 331,
                        "learn": [
                          0.7658495596,
                          0.6476910451
                        ],
                        "passed_time": 5.247937853,
                        "remaining_time": 2.65558301,
                        "test": [
                          0.7529118619,
                          0.6792570704
                        ]
                      },
                      {
                        "iteration": 332,
                        "learn": [
                          0.7657916087,
                          0.6476034641
                        ],
                        "passed_time": 5.262741698,
                        "remaining_time": 2.639272864,
                        "test": [
                          0.7527380194,
                          0.6792255276
                        ]
                      },
                      {
                        "iteration": 333,
                        "learn": [
                          0.7659075104,
                          0.6475011882
                        ],
                        "passed_time": 5.277286212,
                        "remaining_time": 2.622842848,
                        "test": [
                          0.7525062294,
                          0.679209147
                        ]
                      },
                      {
                        "iteration": 334,
                        "learn": [
                          0.7658205841,
                          0.6474115963
                        ],
                        "passed_time": 5.29245497,
                        "remaining_time": 2.606731552,
                        "test": [
                          0.7526221244,
                          0.6792129908
                        ]
                      },
                      {
                        "iteration": 335,
                        "learn": [
                          0.765878535,
                          0.6473404267
                        ],
                        "passed_time": 5.307342297,
                        "remaining_time": 2.590488502,
                        "test": [
                          0.7526800719,
                          0.6792309683
                        ]
                      },
                      {
                        "iteration": 336,
                        "learn": [
                          0.7659654613,
                          0.6472910358
                        ],
                        "passed_time": 5.32121703,
                        "remaining_time": 2.573763727,
                        "test": [
                          0.7527380194,
                          0.6792374812
                        ]
                      },
                      {
                        "iteration": 337,
                        "learn": [
                          0.7659075104,
                          0.6472084655
                        ],
                        "passed_time": 5.335882012,
                        "remaining_time": 2.557434574,
                        "test": [
                          0.7527380194,
                          0.6792427853
                        ]
                      },
                      {
                        "iteration": 338,
                        "learn": [
                          0.765878535,
                          0.6471680005
                        ],
                        "passed_time": 5.351526978,
                        "remaining_time": 2.541580659,
                        "test": [
                          0.7527380194,
                          0.6792482492
                        ]
                      },
                      {
                        "iteration": 339,
                        "learn": [
                          0.7659944367,
                          0.6471072847
                        ],
                        "passed_time": 5.427842,
                        "remaining_time": 2.554278588,
                        "test": [
                          0.7525641769,
                          0.6792461841
                        ]
                      },
                      {
                        "iteration": 340,
                        "learn": [
                          0.7660234121,
                          0.6470439187
                        ],
                        "passed_time": 5.455087067,
                        "remaining_time": 2.543574321,
                        "test": [
                          0.7526800719,
                          0.6792622556
                        ]
                      },
                      {
                        "iteration": 341,
                        "learn": [
                          0.766081363,
                          0.6469697159
                        ],
                        "passed_time": 5.483464565,
                        "remaining_time": 2.533296495,
                        "test": [
                          0.7525641769,
                          0.6792839466
                        ]
                      },
                      {
                        "iteration": 342,
                        "learn": [
                          0.7659654613,
                          0.6469037408
                        ],
                        "passed_time": 5.498096309,
                        "remaining_time": 2.516621343,
                        "test": [
                          0.7525641769,
                          0.6793318531
                        ]
                      },
                      {
                        "iteration": 343,
                        "learn": [
                          0.766081363,
                          0.6468247856
                        ],
                        "passed_time": 5.513148915,
                        "remaining_time": 2.500148927,
                        "test": [
                          0.7524482819,
                          0.6793113368
                        ]
                      },
                      {
                        "iteration": 344,
                        "learn": [
                          0.7661103384,
                          0.6467248904
                        ],
                        "passed_time": 5.528101465,
                        "remaining_time": 2.483639789,
                        "test": [
                          0.7525641769,
                          0.6793296447
                        ]
                      },
                      {
                        "iteration": 345,
                        "learn": [
                          0.7659944367,
                          0.6466504952
                        ],
                        "passed_time": 5.542382147,
                        "remaining_time": 2.466840609,
                        "test": [
                          0.7527380194,
                          0.6793270375
                        ]
                      },
                      {
                        "iteration": 346,
                        "learn": [
                          0.7659654613,
                          0.6465489045
                        ],
                        "passed_time": 5.556961454,
                        "remaining_time": 2.450187615,
                        "test": [
                          0.7526221244,
                          0.6793412521
                        ]
                      },
                      {
                        "iteration": 347,
                        "learn": [
                          0.7660234121,
                          0.6464466154
                        ],
                        "passed_time": 5.571471092,
                        "remaining_time": 2.433516109,
                        "test": [
                          0.7526800719,
                          0.6793542049
                        ]
                      },
                      {
                        "iteration": 348,
                        "learn": [
                          0.7660234121,
                          0.646369245
                        ],
                        "passed_time": 5.58533292,
                        "remaining_time": 2.416576707,
                        "test": [
                          0.7525062294,
                          0.6793701278
                        ]
                      },
                      {
                        "iteration": 349,
                        "learn": [
                          0.7661393139,
                          0.6462503328
                        ],
                        "passed_time": 5.600171219,
                        "remaining_time": 2.40007338,
                        "test": [
                          0.7525641769,
                          0.679428941
                        ]
                      },
                      {
                        "iteration": 350,
                        "learn": [
                          0.7661972647,
                          0.6461926557
                        ],
                        "passed_time": 5.613943432,
                        "remaining_time": 2.383126984,
                        "test": [
                          0.7525062294,
                          0.6794483203
                        ]
                      },
                      {
                        "iteration": 351,
                        "learn": [
                          0.7662552156,
                          0.6461200856
                        ],
                        "passed_time": 5.62807511,
                        "remaining_time": 2.366349762,
                        "test": [
                          0.7525062294,
                          0.6794199114
                        ]
                      },
                      {
                        "iteration": 352,
                        "learn": [
                          0.7661972647,
                          0.6460494465
                        ],
                        "passed_time": 5.642298293,
                        "remaining_time": 2.349625635,
                        "test": [
                          0.7526221244,
                          0.6794345325
                        ]
                      },
                      {
                        "iteration": 353,
                        "learn": [
                          0.7660523876,
                          0.6459752489
                        ],
                        "passed_time": 5.656812841,
                        "remaining_time": 2.333035804,
                        "test": [
                          0.7526221244,
                          0.6794395117
                        ]
                      },
                      {
                        "iteration": 354,
                        "learn": [
                          0.766284191,
                          0.6458947823
                        ],
                        "passed_time": 5.670844902,
                        "remaining_time": 2.316260594,
                        "test": [
                          0.7523903344,
                          0.679483368
                        ]
                      },
                      {
                        "iteration": 355,
                        "learn": [
                          0.7664290682,
                          0.6457972895
                        ],
                        "passed_time": 5.685328407,
                        "remaining_time": 2.2996834,
                        "test": [
                          0.7523903344,
                          0.6794761527
                        ]
                      },
                      {
                        "iteration": 356,
                        "learn": [
                          0.7665449699,
                          0.6456933171
                        ],
                        "passed_time": 5.699926828,
                        "remaining_time": 2.283163967,
                        "test": [
                          0.7523903344,
                          0.679508558
                        ]
                      },
                      {
                        "iteration": 357,
                        "learn": [
                          0.7668636996,
                          0.6456064662
                        ],
                        "passed_time": 5.713838746,
                        "remaining_time": 2.266382966,
                        "test": [
                          0.7523323869,
                          0.6795335218
                        ]
                      },
                      {
                        "iteration": 358,
                        "learn": [
                          0.766689847,
                          0.6455302602
                        ],
                        "passed_time": 5.728389352,
                        "remaining_time": 2.249868798,
                        "test": [
                          0.7525641769,
                          0.6795795811
                        ]
                      },
                      {
                        "iteration": 359,
                        "learn": [
                          0.7667477979,
                          0.6454528305
                        ],
                        "passed_time": 5.748583728,
                        "remaining_time": 2.235560339,
                        "test": [
                          0.7525641769,
                          0.6796009831
                        ]
                      },
                      {
                        "iteration": 360,
                        "learn": [
                          0.7666318962,
                          0.6453636071
                        ],
                        "passed_time": 5.767093023,
                        "remaining_time": 2.220570444,
                        "test": [
                          0.7526800719,
                          0.6795936085
                        ]
                      },
                      {
                        "iteration": 361,
                        "learn": [
                          0.766689847,
                          0.6452740204
                        ],
                        "passed_time": 5.782404561,
                        "remaining_time": 2.20434207,
                        "test": [
                          0.7526800719,
                          0.6795454387
                        ]
                      },
                      {
                        "iteration": 362,
                        "learn": [
                          0.766689847,
                          0.645165624
                        ],
                        "passed_time": 5.797290198,
                        "remaining_time": 2.187958008,
                        "test": [
                          0.7526800719,
                          0.6795541998
                        ]
                      },
                      {
                        "iteration": 363,
                        "learn": [
                          0.7667477979,
                          0.6450795021
                        ],
                        "passed_time": 5.812274164,
                        "remaining_time": 2.171618918,
                        "test": [
                          0.7525062294,
                          0.6795630305
                        ]
                      },
                      {
                        "iteration": 364,
                        "learn": [
                          0.7668347242,
                          0.6450030943
                        ],
                        "passed_time": 5.826897046,
                        "remaining_time": 2.155153702,
                        "test": [
                          0.7526221244,
                          0.6795760302
                        ]
                      },
                      {
                        "iteration": 365,
                        "learn": [
                          0.766892675,
                          0.644903675
                        ],
                        "passed_time": 5.84095445,
                        "remaining_time": 2.13849152,
                        "test": [
                          0.7526221244,
                          0.6796196649
                        ]
                      },
                      {
                        "iteration": 366,
                        "learn": [
                          0.7670665276,
                          0.6448145856
                        ],
                        "passed_time": 5.855564387,
                        "remaining_time": 2.12204377,
                        "test": [
                          0.7522744394,
                          0.6796325916
                        ]
                      },
                      {
                        "iteration": 367,
                        "learn": [
                          0.7670085767,
                          0.6447468722
                        ],
                        "passed_time": 5.871169718,
                        "remaining_time": 2.105963051,
                        "test": [
                          0.7523323869,
                          0.6796179223
                        ]
                      },
                      {
                        "iteration": 368,
                        "learn": [
                          0.7670375522,
                          0.6446954965
                        ],
                        "passed_time": 5.885133306,
                        "remaining_time": 2.089302068,
                        "test": [
                          0.7522744394,
                          0.679612064
                        ]
                      },
                      {
                        "iteration": 369,
                        "learn": [
                          0.767095503,
                          0.6446241762
                        ],
                        "passed_time": 5.899049333,
                        "remaining_time": 2.072638955,
                        "test": [
                          0.7522744394,
                          0.6796402221
                        ]
                      },
                      {
                        "iteration": 370,
                        "learn": [
                          0.7671244784,
                          0.6445448621
                        ],
                        "passed_time": 5.913587788,
                        "remaining_time": 2.056207074,
                        "test": [
                          0.7522744394,
                          0.6796199799
                        ]
                      },
                      {
                        "iteration": 371,
                        "learn": [
                          0.767298331,
                          0.6444746799
                        ],
                        "passed_time": 5.927830371,
                        "remaining_time": 2.039683569,
                        "test": [
                          0.7520426494,
                          0.6796099557
                        ]
                      },
                      {
                        "iteration": 372,
                        "learn": [
                          0.7673562819,
                          0.6443720483
                        ],
                        "passed_time": 5.942848799,
                        "remaining_time": 2.023436454,
                        "test": [
                          0.7520426494,
                          0.6796581578
                        ]
                      },
                      {
                        "iteration": 373,
                        "learn": [
                          0.7673852573,
                          0.6443219966
                        ],
                        "passed_time": 5.957210341,
                        "remaining_time": 2.006974607,
                        "test": [
                          0.7519267544,
                          0.6796633442
                        ]
                      },
                      {
                        "iteration": 374,
                        "learn": [
                          0.7674142327,
                          0.6442190532
                        ],
                        "passed_time": 5.972011124,
                        "remaining_time": 1.990670375,
                        "test": [
                          0.7521005969,
                          0.6797447681
                        ]
                      },
                      {
                        "iteration": 375,
                        "learn": [
                          0.7674721836,
                          0.6441522756
                        ],
                        "passed_time": 5.986470233,
                        "remaining_time": 1.97426146,
                        "test": [
                          0.7522744394,
                          0.6797650227
                        ]
                      },
                      {
                        "iteration": 376,
                        "learn": [
                          0.7675591099,
                          0.6440391353
                        ],
                        "passed_time": 6.001777128,
                        "remaining_time": 1.958139487,
                        "test": [
                          0.7522744394,
                          0.6797534247
                        ]
                      },
                      {
                        "iteration": 377,
                        "learn": [
                          0.7676460362,
                          0.6439846973
                        ],
                        "passed_time": 6.016459388,
                        "remaining_time": 1.941820226,
                        "test": [
                          0.7523323869,
                          0.6797435206
                        ]
                      },
                      {
                        "iteration": 378,
                        "learn": [
                          0.7675301344,
                          0.643932002
                        ],
                        "passed_time": 6.030536365,
                        "remaining_time": 1.925316359,
                        "test": [
                          0.7525641769,
                          0.6797423796
                        ]
                      },
                      {
                        "iteration": 379,
                        "learn": [
                          0.7676170607,
                          0.6438545508
                        ],
                        "passed_time": 6.051720679,
                        "remaining_time": 1.911069688,
                        "test": [
                          0.7523903344,
                          0.6797779644
                        ]
                      },
                      {
                        "iteration": 380,
                        "learn": [
                          0.7675880853,
                          0.6437952149
                        ],
                        "passed_time": 6.066709664,
                        "remaining_time": 1.894851575,
                        "test": [
                          0.7523903344,
                          0.6797807002
                        ]
                      },
                      {
                        "iteration": 381,
                        "learn": [
                          0.7676170607,
                          0.6436925497
                        ],
                        "passed_time": 6.081098371,
                        "remaining_time": 1.878454471,
                        "test": [
                          0.7523903344,
                          0.6797931733
                        ]
                      },
                      {
                        "iteration": 382,
                        "learn": [
                          0.7676170607,
                          0.6436083665
                        ],
                        "passed_time": 6.096635644,
                        "remaining_time": 1.862418722,
                        "test": [
                          0.7523903344,
                          0.6797552119
                        ]
                      },
                      {
                        "iteration": 383,
                        "learn": [
                          0.767501159,
                          0.6435227182
                        ],
                        "passed_time": 6.111599067,
                        "remaining_time": 1.846212218,
                        "test": [
                          0.7522744394,
                          0.679782057
                        ]
                      },
                      {
                        "iteration": 384,
                        "learn": [
                          0.7674432082,
                          0.6434534602
                        ],
                        "passed_time": 6.126091726,
                        "remaining_time": 1.829871554,
                        "test": [
                          0.7521585444,
                          0.6797909065
                        ]
                      },
                      {
                        "iteration": 385,
                        "learn": [
                          0.7674721836,
                          0.6433953581
                        ],
                        "passed_time": 6.139197819,
                        "remaining_time": 1.813130962,
                        "test": [
                          0.7521005969,
                          0.6797849255
                        ]
                      },
                      {
                        "iteration": 386,
                        "learn": [
                          0.7676460362,
                          0.6433595099
                        ],
                        "passed_time": 6.15253946,
                        "remaining_time": 1.79647793,
                        "test": [
                          0.7521585444,
                          0.6797912291
                        ]
                      },
                      {
                        "iteration": 387,
                        "learn": [
                          0.7678198887,
                          0.6432760503
                        ],
                        "passed_time": 6.166373309,
                        "remaining_time": 1.779984048,
                        "test": [
                          0.7522164919,
                          0.6797869303
                        ]
                      },
                      {
                        "iteration": 388,
                        "learn": [
                          0.7679647659,
                          0.6432320925
                        ],
                        "passed_time": 6.18057194,
                        "remaining_time": 1.763607931,
                        "test": [
                          0.7522164919,
                          0.6797911518
                        ]
                      },
                      {
                        "iteration": 389,
                        "learn": [
                          0.767906815,
                          0.6431710906
                        ],
                        "passed_time": 6.194716927,
                        "remaining_time": 1.747227851,
                        "test": [
                          0.7523903344,
                          0.6798234636
                        ]
                      },
                      {
                        "iteration": 390,
                        "learn": [
                          0.767906815,
                          0.6431088463
                        ],
                        "passed_time": 6.208815697,
                        "remaining_time": 1.73084632,
                        "test": [
                          0.7523323869,
                          0.679830375
                        ]
                      },
                      {
                        "iteration": 391,
                        "learn": [
                          0.7679937413,
                          0.643070882
                        ],
                        "passed_time": 6.222774695,
                        "remaining_time": 1.714437926,
                        "test": [
                          0.7521585444,
                          0.6798263447
                        ]
                      },
                      {
                        "iteration": 392,
                        "learn": [
                          0.7680806676,
                          0.6430188519
                        ],
                        "passed_time": 6.236607853,
                        "remaining_time": 1.698007736,
                        "test": [
                          0.7522164919,
                          0.6798137593
                        ]
                      },
                      {
                        "iteration": 393,
                        "learn": [
                          0.7679937413,
                          0.642909184
                        ],
                        "passed_time": 6.25190202,
                        "remaining_time": 1.681983792,
                        "test": [
                          0.7523323869,
                          0.6798258606
                        ]
                      },
                      {
                        "iteration": 394,
                        "learn": [
                          0.768109643,
                          0.6428533809
                        ],
                        "passed_time": 6.265848091,
                        "remaining_time": 1.665605189,
                        "test": [
                          0.7522164919,
                          0.6798185632
                        ]
                      },
                      {
                        "iteration": 395,
                        "learn": [
                          0.7682545202,
                          0.6427948857
                        ],
                        "passed_time": 6.28002469,
                        "remaining_time": 1.649299414,
                        "test": [
                          0.7522164919,
                          0.6798428577
                        ]
                      },
                      {
                        "iteration": 396,
                        "learn": [
                          0.7683414465,
                          0.6427241474
                        ],
                        "passed_time": 6.294543158,
                        "remaining_time": 1.633093061,
                        "test": [
                          0.7522744394,
                          0.6798219145
                        ]
                      },
                      {
                        "iteration": 397,
                        "learn": [
                          0.7683993973,
                          0.6426697444
                        ],
                        "passed_time": 6.309287917,
                        "remaining_time": 1.616953185,
                        "test": [
                          0.7521585444,
                          0.679811117
                        ]
                      },
                      {
                        "iteration": 398,
                        "learn": [
                          0.7682834956,
                          0.6425669015
                        ],
                        "passed_time": 6.323783895,
                        "remaining_time": 1.600757327,
                        "test": [
                          0.7522744394,
                          0.6797918249
                        ]
                      },
                      {
                        "iteration": 399,
                        "learn": [
                          0.768312471,
                          0.6424814235
                        ],
                        "passed_time": 6.339076596,
                        "remaining_time": 1.584769149,
                        "test": [
                          0.7523323869,
                          0.6797563504
                        ]
                      },
                      {
                        "iteration": 400,
                        "learn": [
                          0.7682834956,
                          0.6424054787
                        ],
                        "passed_time": 6.353580863,
                        "remaining_time": 1.568589789,
                        "test": [
                          0.7523903344,
                          0.6798027342
                        ]
                      },
                      {
                        "iteration": 401,
                        "learn": [
                          0.7683704219,
                          0.642359333
                        ],
                        "passed_time": 6.367225671,
                        "remaining_time": 1.552209243,
                        "test": [
                          0.7523903344,
                          0.679838776
                        ]
                      },
                      {
                        "iteration": 402,
                        "learn": [
                          0.7682255447,
                          0.6422770638
                        ],
                        "passed_time": 6.382176501,
                        "remaining_time": 1.536156627,
                        "test": [
                          0.7524482819,
                          0.6798411586
                        ]
                      },
                      {
                        "iteration": 403,
                        "learn": [
                          0.7682834956,
                          0.6422204424
                        ],
                        "passed_time": 6.431351021,
                        "remaining_time": 1.528241827,
                        "test": [
                          0.7525062294,
                          0.6798772939
                        ]
                      },
                      {
                        "iteration": 404,
                        "learn": [
                          0.7683704219,
                          0.6421515827
                        ],
                        "passed_time": 6.483725586,
                        "remaining_time": 1.520873903,
                        "test": [
                          0.7523903344,
                          0.6798473063
                        ]
                      },
                      {
                        "iteration": 405,
                        "learn": [
                          0.768515299,
                          0.6420396062
                        ],
                        "passed_time": 6.513113984,
                        "remaining_time": 1.507962351,
                        "test": [
                          0.7523323869,
                          0.6798272367
                        ]
                      },
                      {
                        "iteration": 406,
                        "learn": [
                          0.7683704219,
                          0.6419688685
                        ],
                        "passed_time": 6.530729666,
                        "remaining_time": 1.492279752,
                        "test": [
                          0.7522164919,
                          0.6798706775
                        ]
                      },
                      {
                        "iteration": 407,
                        "learn": [
                          0.7683414465,
                          0.6419273462
                        ],
                        "passed_time": 6.545748013,
                        "remaining_time": 1.476002003,
                        "test": [
                          0.7522744394,
                          0.6798720692
                        ]
                      },
                      {
                        "iteration": 408,
                        "learn": [
                          0.768312471,
                          0.641849145
                        ],
                        "passed_time": 6.560173801,
                        "remaining_time": 1.459598572,
                        "test": [
                          0.7522744394,
                          0.6798643496
                        ]
                      },
                      {
                        "iteration": 409,
                        "learn": [
                          0.768312471,
                          0.6417590136
                        ],
                        "passed_time": 6.574847505,
                        "remaining_time": 1.443259208,
                        "test": [
                          0.7523323869,
                          0.6798928096
                        ]
                      },
                      {
                        "iteration": 410,
                        "learn": [
                          0.7683414465,
                          0.6417069087
                        ],
                        "passed_time": 6.589150588,
                        "remaining_time": 1.426847694,
                        "test": [
                          0.7522744394,
                          0.6799328004
                        ]
                      },
                      {
                        "iteration": 411,
                        "learn": [
                          0.7683704219,
                          0.641575679
                        ],
                        "passed_time": 6.604729191,
                        "remaining_time": 1.410718856,
                        "test": [
                          0.7523323869,
                          0.6799357606
                        ]
                      },
                      {
                        "iteration": 412,
                        "learn": [
                          0.7684573482,
                          0.6415287915
                        ],
                        "passed_time": 6.619115591,
                        "remaining_time": 1.394341541,
                        "test": [
                          0.7524482819,
                          0.6799648836
                        ]
                      },
                      {
                        "iteration": 413,
                        "learn": [
                          0.7684863236,
                          0.641470345
                        ],
                        "passed_time": 6.63334402,
                        "remaining_time": 1.377941028,
                        "test": [
                          0.7523323869,
                          0.6800035325
                        ]
                      },
                      {
                        "iteration": 414,
                        "learn": [
                          0.768515299,
                          0.6413334912
                        ],
                        "passed_time": 6.64804372,
                        "remaining_time": 1.361647509,
                        "test": [
                          0.7521585444,
                          0.6800530812
                        ]
                      },
                      {
                        "iteration": 415,
                        "learn": [
                          0.7684863236,
                          0.6412537587
                        ],
                        "passed_time": 6.662394901,
                        "remaining_time": 1.345291278,
                        "test": [
                          0.7523903344,
                          0.6801037953
                        ]
                      },
                      {
                        "iteration": 416,
                        "learn": [
                          0.7685732499,
                          0.6411326043
                        ],
                        "passed_time": 6.677770883,
                        "remaining_time": 1.329148641,
                        "test": [
                          0.7524482819,
                          0.6801133267
                        ]
                      },
                      {
                        "iteration": 417,
                        "learn": [
                          0.7686601762,
                          0.6409971139
                        ],
                        "passed_time": 6.692995203,
                        "remaining_time": 1.31297992,
                        "test": [
                          0.7524482819,
                          0.6800780445
                        ]
                      },
                      {
                        "iteration": 418,
                        "learn": [
                          0.7686601762,
                          0.6409345302
                        ],
                        "passed_time": 6.706511866,
                        "remaining_time": 1.296485587,
                        "test": [
                          0.7523903344,
                          0.680110716
                        ]
                      },
                      {
                        "iteration": 419,
                        "learn": [
                          0.7688630042,
                          0.6408692797
                        ],
                        "passed_time": 6.721101424,
                        "remaining_time": 1.280209795,
                        "test": [
                          0.7523323869,
                          0.6801009329
                        ]
                      },
                      {
                        "iteration": 420,
                        "learn": [
                          0.7688630042,
                          0.6408190389
                        ],
                        "passed_time": 6.73520417,
                        "remaining_time": 1.263850664,
                        "test": [
                          0.7523323869,
                          0.6801326989
                        ]
                      },
                      {
                        "iteration": 421,
                        "learn": [
                          0.7690658322,
                          0.6407553527
                        ],
                        "passed_time": 6.748978149,
                        "remaining_time": 1.247441459,
                        "test": [
                          0.7523323869,
                          0.6801326734
                        ]
                      },
                      {
                        "iteration": 422,
                        "learn": [
                          0.7690658322,
                          0.6407060127
                        ],
                        "passed_time": 6.777785167,
                        "remaining_time": 1.233781224,
                        "test": [
                          0.7522744394,
                          0.6801338374
                        ]
                      },
                      {
                        "iteration": 423,
                        "learn": [
                          0.7690658322,
                          0.640599153
                        ],
                        "passed_time": 6.793118661,
                        "remaining_time": 1.217634477,
                        "test": [
                          0.7524482819,
                          0.6802077909
                        ]
                      },
                      {
                        "iteration": 424,
                        "learn": [
                          0.7691817339,
                          0.6405122303
                        ],
                        "passed_time": 6.808037921,
                        "remaining_time": 1.201418457,
                        "test": [
                          0.7524482819,
                          0.6801595321
                        ]
                      },
                      {
                        "iteration": 425,
                        "learn": [
                          0.7690948076,
                          0.640427061
                        ],
                        "passed_time": 6.822518278,
                        "remaining_time": 1.185132283,
                        "test": [
                          0.7525641769,
                          0.6801756242
                        ]
                      },
                      {
                        "iteration": 426,
                        "learn": [
                          0.7690658322,
                          0.6403014367
                        ],
                        "passed_time": 6.838104474,
                        "remaining_time": 1.169043622,
                        "test": [
                          0.7526221244,
                          0.6801295987
                        ]
                      },
                      {
                        "iteration": 427,
                        "learn": [
                          0.7690658322,
                          0.6402296198
                        ],
                        "passed_time": 6.852724535,
                        "remaining_time": 1.152794782,
                        "test": [
                          0.7525641769,
                          0.6801543051
                        ]
                      },
                      {
                        "iteration": 428,
                        "learn": [
                          0.7690658322,
                          0.6401971379
                        ],
                        "passed_time": 6.868155692,
                        "remaining_time": 1.136687772,
                        "test": [
                          0.7525641769,
                          0.680167635
                        ]
                      },
                      {
                        "iteration": 429,
                        "learn": [
                          0.7690948076,
                          0.6401328819
                        ],
                        "passed_time": 6.882788033,
                        "remaining_time": 1.120453866,
                        "test": [
                          0.7525641769,
                          0.6801627929
                        ]
                      },
                      {
                        "iteration": 430,
                        "learn": [
                          0.7691527585,
                          0.6400559865
                        ],
                        "passed_time": 6.899970354,
                        "remaining_time": 1.104635625,
                        "test": [
                          0.7525062294,
                          0.6802149653
                        ]
                      },
                      {
                        "iteration": 431,
                        "learn": [
                          0.7692686602,
                          0.6399629551
                        ],
                        "passed_time": 6.914568952,
                        "remaining_time": 1.088404372,
                        "test": [
                          0.7523323869,
                          0.6802166581
                        ]
                      },
                      {
                        "iteration": 432,
                        "learn": [
                          0.7692976356,
                          0.6398326751
                        ],
                        "passed_time": 6.929458125,
                        "remaining_time": 1.072225622,
                        "test": [
                          0.7522744394,
                          0.6801758682
                        ]
                      },
                      {
                        "iteration": 433,
                        "learn": [
                          0.7692107093,
                          0.6397243296
                        ],
                        "passed_time": 6.945550235,
                        "remaining_time": 1.05623575,
                        "test": [
                          0.7522744394,
                          0.6801597711
                        ]
                      },
                      {
                        "iteration": 434,
                        "learn": [
                          0.7692686602,
                          0.639649783
                        ],
                        "passed_time": 6.960137812,
                        "remaining_time": 1.040020593,
                        "test": [
                          0.7521585444,
                          0.6801899124
                        ]
                      },
                      {
                        "iteration": 435,
                        "learn": [
                          0.7693845619,
                          0.6395676974
                        ],
                        "passed_time": 6.974854886,
                        "remaining_time": 1.02383191,
                        "test": [
                          0.7522164919,
                          0.6802277556
                        ]
                      },
                      {
                        "iteration": 436,
                        "learn": [
                          0.7693555865,
                          0.6394993735
                        ],
                        "passed_time": 6.989470487,
                        "remaining_time": 1.007635333,
                        "test": [
                          0.7522164919,
                          0.6802684395
                        ]
                      },
                      {
                        "iteration": 437,
                        "learn": [
                          0.7693555865,
                          0.6394298213
                        ],
                        "passed_time": 7.004673702,
                        "remaining_time": 0.9915291541,
                        "test": [
                          0.7522744394,
                          0.6802992584
                        ]
                      },
                      {
                        "iteration": 438,
                        "learn": [
                          0.769326611,
                          0.6393782544
                        ],
                        "passed_time": 7.018432422,
                        "remaining_time": 0.9752263729,
                        "test": [
                          0.7523323869,
                          0.6802993879
                        ]
                      },
                      {
                        "iteration": 439,
                        "learn": [
                          0.7693555865,
                          0.6392950295
                        ],
                        "passed_time": 7.033233937,
                        "remaining_time": 0.9590773551,
                        "test": [
                          0.7523903344,
                          0.680292092
                        ]
                      },
                      {
                        "iteration": 440,
                        "learn": [
                          0.7692976356,
                          0.6392407949
                        ],
                        "passed_time": 7.04681499,
                        "remaining_time": 0.9427711665,
                        "test": [
                          0.7522744394,
                          0.6803133657
                        ]
                      },
                      {
                        "iteration": 441,
                        "learn": [
                          0.7691527585,
                          0.6391956636
                        ],
                        "passed_time": 7.061315505,
                        "remaining_time": 0.9265979621,
                        "test": [
                          0.7522744394,
                          0.6803097041
                        ]
                      },
                      {
                        "iteration": 442,
                        "learn": [
                          0.7691817339,
                          0.6391495604
                        ],
                        "passed_time": 7.07536409,
                        "remaining_time": 0.9103741606,
                        "test": [
                          0.7522744394,
                          0.6803088651
                        ]
                      },
                      {
                        "iteration": 443,
                        "learn": [
                          0.7692107093,
                          0.6391024095
                        ],
                        "passed_time": 7.089318971,
                        "remaining_time": 0.8941483387,
                        "test": [
                          0.7521585444,
                          0.6803301285
                        ]
                      },
                      {
                        "iteration": 444,
                        "learn": [
                          0.7692976356,
                          0.6390558536
                        ],
                        "passed_time": 7.116887562,
                        "remaining_time": 0.8796153167,
                        "test": [
                          0.7522744394,
                          0.6803366023
                        ]
                      },
                      {
                        "iteration": 445,
                        "learn": [
                          0.7692686602,
                          0.6389893369
                        ],
                        "passed_time": 7.131893507,
                        "remaining_time": 0.8635028013,
                        "test": [
                          0.7523903344,
                          0.680329538
                        ]
                      },
                      {
                        "iteration": 446,
                        "learn": [
                          0.7694135373,
                          0.638931242
                        ],
                        "passed_time": 7.145838008,
                        "remaining_time": 0.8472693835,
                        "test": [
                          0.7519267544,
                          0.6803749216
                        ]
                      },
                      {
                        "iteration": 447,
                        "learn": [
                          0.7696743162,
                          0.6388573872
                        ],
                        "passed_time": 7.160472595,
                        "remaining_time": 0.8311262834,
                        "test": [
                          0.7521585444,
                          0.6804120662
                        ]
                      },
                      {
                        "iteration": 448,
                        "learn": [
                          0.7697612425,
                          0.6387761528
                        ],
                        "passed_time": 7.175201194,
                        "remaining_time": 0.815000581,
                        "test": [
                          0.7523903344,
                          0.6804689681
                        ]
                      },
                      {
                        "iteration": 449,
                        "learn": [
                          0.7697902179,
                          0.6386618403
                        ],
                        "passed_time": 7.189741506,
                        "remaining_time": 0.7988601673,
                        "test": [
                          0.7523323869,
                          0.6804903961
                        ]
                      },
                      {
                        "iteration": 450,
                        "learn": [
                          0.7699061196,
                          0.638592521
                        ],
                        "passed_time": 7.204267506,
                        "remaining_time": 0.7827252944,
                        "test": [
                          0.7523323869,
                          0.6805213084
                        ]
                      },
                      {
                        "iteration": 451,
                        "learn": [
                          0.769935095,
                          0.6385226374
                        ],
                        "passed_time": 7.218763582,
                        "remaining_time": 0.7665943627,
                        "test": [
                          0.7521585444,
                          0.6805600274
                        ]
                      },
                      {
                        "iteration": 452,
                        "learn": [
                          0.7698771442,
                          0.6384530353
                        ],
                        "passed_time": 7.235017705,
                        "remaining_time": 0.7506530511,
                        "test": [
                          0.7522164919,
                          0.6805691652
                        ]
                      },
                      {
                        "iteration": 453,
                        "learn": [
                          0.7698481688,
                          0.6383897472
                        ],
                        "passed_time": 7.249358324,
                        "remaining_time": 0.7345164822,
                        "test": [
                          0.7521005969,
                          0.6805764521
                        ]
                      },
                      {
                        "iteration": 454,
                        "learn": [
                          0.7698771442,
                          0.6383248999
                        ],
                        "passed_time": 7.263941758,
                        "remaining_time": 0.7184118223,
                        "test": [
                          0.7520426494,
                          0.6805825155
                        ]
                      },
                      {
                        "iteration": 455,
                        "learn": [
                          0.7697902179,
                          0.6382624287
                        ],
                        "passed_time": 7.278692387,
                        "remaining_time": 0.7023299672,
                        "test": [
                          0.7518688069,
                          0.6805693767
                        ]
                      },
                      {
                        "iteration": 456,
                        "learn": [
                          0.7697902179,
                          0.6381894236
                        ],
                        "passed_time": 7.293444474,
                        "remaining_time": 0.6862540752,
                        "test": [
                          0.7519267544,
                          0.6805482462
                        ]
                      },
                      {
                        "iteration": 457,
                        "learn": [
                          0.7699061196,
                          0.6381261753
                        ],
                        "passed_time": 7.307959992,
                        "remaining_time": 0.67016227,
                        "test": [
                          0.7522164919,
                          0.6805624899
                        ]
                      },
                      {
                        "iteration": 458,
                        "learn": [
                          0.7698481688,
                          0.6380622475
                        ],
                        "passed_time": 7.322805057,
                        "remaining_time": 0.6541067698,
                        "test": [
                          0.7521585444,
                          0.680546859
                        ]
                      },
                      {
                        "iteration": 459,
                        "learn": [
                          0.7698771442,
                          0.638011203
                        ],
                        "passed_time": 7.336719559,
                        "remaining_time": 0.6379756139,
                        "test": [
                          0.7520426494,
                          0.68054646
                        ]
                      },
                      {
                        "iteration": 460,
                        "learn": [
                          0.7699640705,
                          0.6379397714
                        ],
                        "passed_time": 7.351731221,
                        "remaining_time": 0.6219468929,
                        "test": [
                          0.7519847019,
                          0.6805028603
                        ]
                      },
                      {
                        "iteration": 461,
                        "learn": [
                          0.770137923,
                          0.6378661945
                        ],
                        "passed_time": 7.366547899,
                        "remaining_time": 0.6059065371,
                        "test": [
                          0.7521005969,
                          0.6804763659
                        ]
                      },
                      {
                        "iteration": 462,
                        "learn": [
                          0.770137923,
                          0.6378005606
                        ],
                        "passed_time": 7.381377168,
                        "remaining_time": 0.5898724735,
                        "test": [
                          0.7522744394,
                          0.6804711846
                        ]
                      },
                      {
                        "iteration": 463,
                        "learn": [
                          0.7700509968,
                          0.6377447674
                        ],
                        "passed_time": 7.395445843,
                        "remaining_time": 0.5737845913,
                        "test": [
                          0.7521585444,
                          0.680457523
                        ]
                      },
                      {
                        "iteration": 464,
                        "learn": [
                          0.7701668985,
                          0.6376909872
                        ],
                        "passed_time": 7.410359779,
                        "remaining_time": 0.5577690157,
                        "test": [
                          0.7521585444,
                          0.6805001039
                        ]
                      },
                      {
                        "iteration": 465,
                        "learn": [
                          0.7701958739,
                          0.6376217299
                        ],
                        "passed_time": 7.424835241,
                        "remaining_time": 0.5417261764,
                        "test": [
                          0.7519267544,
                          0.6805162265
                        ]
                      },
                      {
                        "iteration": 466,
                        "learn": [
                          0.770137923,
                          0.6375510638
                        ],
                        "passed_time": 7.439509011,
                        "remaining_time": 0.5257040629,
                        "test": [
                          0.7518688069,
                          0.6805325835
                        ]
                      },
                      {
                        "iteration": 467,
                        "learn": [
                          0.7702538248,
                          0.6374402971
                        ],
                        "passed_time": 7.487427768,
                        "remaining_time": 0.511960873,
                        "test": [
                          0.7519267544,
                          0.6805057345
                        ]
                      },
                      {
                        "iteration": 468,
                        "learn": [
                          0.7704566528,
                          0.6373332969
                        ],
                        "passed_time": 7.532929109,
                        "remaining_time": 0.4979121586,
                        "test": [
                          0.7519847019,
                          0.6805009445
                        ]
                      },
                      {
                        "iteration": 469,
                        "learn": [
                          0.770340751,
                          0.6372560058
                        ],
                        "passed_time": 7.562266738,
                        "remaining_time": 0.4826978769,
                        "test": [
                          0.7519847019,
                          0.6804968805
                        ]
                      },
                      {
                        "iteration": 470,
                        "learn": [
                          0.7703697265,
                          0.6371871309
                        ],
                        "passed_time": 7.585445981,
                        "remaining_time": 0.4670444447,
                        "test": [
                          0.7519847019,
                          0.6804904678
                        ]
                      },
                      {
                        "iteration": 471,
                        "learn": [
                          0.7704566528,
                          0.6371417449
                        ],
                        "passed_time": 7.599338329,
                        "remaining_time": 0.450808206,
                        "test": [
                          0.7519267544,
                          0.6805244717
                        ]
                      },
                      {
                        "iteration": 472,
                        "learn": [
                          0.7705146036,
                          0.6370876049
                        ],
                        "passed_time": 7.6127449,
                        "remaining_time": 0.4345541486,
                        "test": [
                          0.7521005969,
                          0.6805417877
                        ]
                      },
                      {
                        "iteration": 473,
                        "learn": [
                          0.7704856282,
                          0.6370148905
                        ],
                        "passed_time": 7.627813349,
                        "remaining_time": 0.4184032638,
                        "test": [
                          0.7521585444,
                          0.6805327502
                        ]
                      },
                      {
                        "iteration": 474,
                        "learn": [
                          0.770543579,
                          0.6369640336
                        ],
                        "passed_time": 7.642669336,
                        "remaining_time": 0.4022457546,
                        "test": [
                          0.7522164919,
                          0.68054567
                        ]
                      },
                      {
                        "iteration": 475,
                        "learn": [
                          0.7705146036,
                          0.6368994557
                        ],
                        "passed_time": 7.657450439,
                        "remaining_time": 0.3860899381,
                        "test": [
                          0.7521585444,
                          0.6805406228
                        ]
                      },
                      {
                        "iteration": 476,
                        "learn": [
                          0.7705146036,
                          0.6368542392
                        ],
                        "passed_time": 7.671306461,
                        "remaining_time": 0.3698952801,
                        "test": [
                          0.7522744394,
                          0.6805663247
                        ]
                      },
                      {
                        "iteration": 477,
                        "learn": [
                          0.7705146036,
                          0.6367889165
                        ],
                        "passed_time": 7.685807674,
                        "remaining_time": 0.3537401021,
                        "test": [
                          0.7521585444,
                          0.680566809
                        ]
                      },
                      {
                        "iteration": 478,
                        "learn": [
                          0.7706015299,
                          0.6367215864
                        ],
                        "passed_time": 7.701187529,
                        "remaining_time": 0.337630351,
                        "test": [
                          0.7521005969,
                          0.6805724169
                        ]
                      },
                      {
                        "iteration": 479,
                        "learn": [
                          0.7705146036,
                          0.6366297046
                        ],
                        "passed_time": 7.715890221,
                        "remaining_time": 0.3214954259,
                        "test": [
                          0.7521005969,
                          0.6805577238
                        ]
                      },
                      {
                        "iteration": 480,
                        "learn": [
                          0.7706015299,
                          0.6365742072
                        ],
                        "passed_time": 7.730318068,
                        "remaining_time": 0.3053555993,
                        "test": [
                          0.7521005969,
                          0.6805684969
                        ]
                      },
                      {
                        "iteration": 481,
                        "learn": [
                          0.7706305053,
                          0.6364788016
                        ],
                        "passed_time": 7.744837685,
                        "remaining_time": 0.2892263036,
                        "test": [
                          0.7519267544,
                          0.6805862332
                        ]
                      },
                      {
                        "iteration": 482,
                        "learn": [
                          0.7706594808,
                          0.6364084393
                        ],
                        "passed_time": 7.759166767,
                        "remaining_time": 0.2730969669,
                        "test": [
                          0.7519847019,
                          0.6806055855
                        ]
                      },
                      {
                        "iteration": 483,
                        "learn": [
                          0.7706594808,
                          0.636305962
                        ],
                        "passed_time": 7.784915576,
                        "remaining_time": 0.257352581,
                        "test": [
                          0.7519267544,
                          0.6806365932
                        ]
                      },
                      {
                        "iteration": 484,
                        "learn": [
                          0.7706884562,
                          0.6362640188
                        ],
                        "passed_time": 7.799561026,
                        "remaining_time": 0.2412235369,
                        "test": [
                          0.7519847019,
                          0.6806230496
                        ]
                      },
                      {
                        "iteration": 485,
                        "learn": [
                          0.7706015299,
                          0.6362172017
                        ],
                        "passed_time": 7.814220766,
                        "remaining_time": 0.2251010097,
                        "test": [
                          0.7519847019,
                          0.6806187617
                        ]
                      },
                      {
                        "iteration": 486,
                        "learn": [
                          0.7706305053,
                          0.6361114175
                        ],
                        "passed_time": 7.829362808,
                        "remaining_time": 0.2089973645,
                        "test": [
                          0.7520426494,
                          0.6806006615
                        ]
                      },
                      {
                        "iteration": 487,
                        "learn": [
                          0.7706305053,
                          0.6360142297
                        ],
                        "passed_time": 7.845034835,
                        "remaining_time": 0.1929106927,
                        "test": [
                          0.7521005969,
                          0.6806166064
                        ]
                      },
                      {
                        "iteration": 488,
                        "learn": [
                          0.7706594808,
                          0.6359437126
                        ],
                        "passed_time": 7.859239502,
                        "remaining_time": 0.1767927086,
                        "test": [
                          0.7519267544,
                          0.6805952968
                        ]
                      },
                      {
                        "iteration": 489,
                        "learn": [
                          0.7706305053,
                          0.6358714603
                        ],
                        "passed_time": 7.873018815,
                        "remaining_time": 0.1606738534,
                        "test": [
                          0.7516370169,
                          0.6805715699
                        ]
                      },
                      {
                        "iteration": 490,
                        "learn": [
                          0.770949235,
                          0.6357790331
                        ],
                        "passed_time": 7.887796064,
                        "remaining_time": 0.1445828199,
                        "test": [
                          0.7515790694,
                          0.6805892789
                        ]
                      },
                      {
                        "iteration": 491,
                        "learn": [
                          0.7709202596,
                          0.6356684344
                        ],
                        "passed_time": 7.90248972,
                        "remaining_time": 0.1284957678,
                        "test": [
                          0.7519267544,
                          0.6806167402
                        ]
                      },
                      {
                        "iteration": 492,
                        "learn": [
                          0.7709202596,
                          0.6355872017
                        ],
                        "passed_time": 7.917466245,
                        "remaining_time": 0.1124183848,
                        "test": [
                          0.7516370169,
                          0.6806161582
                        ]
                      },
                      {
                        "iteration": 493,
                        "learn": [
                          0.7708912842,
                          0.6355243342
                        ],
                        "passed_time": 7.932594589,
                        "remaining_time": 0.0963473027,
                        "test": [
                          0.7514052269,
                          0.680630313
                        ]
                      },
                      {
                        "iteration": 494,
                        "learn": [
                          0.7710941122,
                          0.6354292331
                        ],
                        "passed_time": 7.947400469,
                        "remaining_time": 0.08027677242,
                        "test": [
                          0.7516370169,
                          0.6806534849
                        ]
                      },
                      {
                        "iteration": 495,
                        "learn": [
                          0.7710651368,
                          0.6353574001
                        ],
                        "passed_time": 7.962609718,
                        "remaining_time": 0.0642145945,
                        "test": [
                          0.7516949644,
                          0.6806849353
                        ]
                      },
                      {
                        "iteration": 496,
                        "learn": [
                          0.7709782105,
                          0.6352835716
                        ],
                        "passed_time": 7.977023298,
                        "remaining_time": 0.04815104607,
                        "test": [
                          0.7514631744,
                          0.6807023925
                        ]
                      },
                      {
                        "iteration": 497,
                        "learn": [
                          0.770949235,
                          0.6351853805
                        ],
                        "passed_time": 7.992211901,
                        "remaining_time": 0.03209723655,
                        "test": [
                          0.7515790694,
                          0.6807379167
                        ]
                      },
                      {
                        "iteration": 498,
                        "learn": [
                          0.7709202596,
                          0.6351466111
                        ],
                        "passed_time": 8.005446975,
                        "remaining_time": 0.01604297991,
                        "test": [
                          0.7512893319,
                          0.6807259175
                        ]
                      },
                      {
                        "iteration": 499,
                        "learn": [
                          0.7710651368,
                          0.6350171736
                        ],
                        "passed_time": 8.020839535,
                        "remaining_time": 0,
                        "test": [
                          0.7514052269,
                          0.6807002972
                        ]
                      }
                    ],
                    "meta": {
                      "iteration_count": 500,
                      "launch_mode": "Train",
                      "learn_metrics": [
                        {
                          "best_value": "Max",
                          "name": "Accuracy"
                        },
                        {
                          "best_value": "Min",
                          "name": "MultiClass"
                        }
                      ],
                      "learn_sets": [
                        "learn"
                      ],
                      "name": "experiment",
                      "parameters": "",
                      "test_metrics": [
                        {
                          "best_value": "Max",
                          "name": "Accuracy"
                        },
                        {
                          "best_value": "Min",
                          "name": "MultiClass"
                        }
                      ],
                      "test_sets": [
                        "test"
                      ]
                    }
                  },
                  "passed_iterations": 499,
                  "total_iterations": 500
                },
                "name": "fold-1",
                "path": "catboost_info/fold-1"
              },
              "catboost_info/fold-2": {
                "content": {
                  "data": {
                    "iterations": [
                      {
                        "iteration": 0,
                        "learn": [
                          0.7525931506,
                          1.018074768
                        ],
                        "passed_time": 0.01706357166,
                        "remaining_time": 8.514722259,
                        "test": [
                          0.7503332367,
                          1.018804204
                        ]
                      },
                      {
                        "iteration": 1,
                        "learn": [
                          0.7537231268,
                          0.9570905864
                        ],
                        "passed_time": 0.03253027189,
                        "remaining_time": 8.1000377,
                        "test": [
                          0.7514343669,
                          0.9580771372
                        ]
                      },
                      {
                        "iteration": 2,
                        "learn": [
                          0.7535203106,
                          0.9090074886
                        ],
                        "passed_time": 0.04995554505,
                        "remaining_time": 8.27596863,
                        "test": [
                          0.7514343669,
                          0.9101308179
                        ]
                      },
                      {
                        "iteration": 3,
                        "learn": [
                          0.7527380194,
                          0.8712259072
                        ],
                        "passed_time": 0.06502223896,
                        "remaining_time": 8.062757632,
                        "test": [
                          0.7512605042,
                          0.8723224821
                        ]
                      },
                      {
                        "iteration": 4,
                        "learn": [
                          0.7530277569,
                          0.8400780033
                        ],
                        "passed_time": 0.0799380474,
                        "remaining_time": 7.913866692,
                        "test": [
                          0.7518980006,
                          0.8415127037
                        ]
                      },
                      {
                        "iteration": 5,
                        "learn": [
                          0.7532305731,
                          0.8148299305
                        ],
                        "passed_time": 0.09709290084,
                        "remaining_time": 7.993982169,
                        "test": [
                          0.7516661837,
                          0.8163245038
                        ]
                      },
                      {
                        "iteration": 6,
                        "learn": [
                          0.7532885206,
                          0.7938283961
                        ],
                        "passed_time": 0.1126495632,
                        "remaining_time": 7.933747811,
                        "test": [
                          0.7516082295,
                          0.7955861762
                        ]
                      },
                      {
                        "iteration": 7,
                        "learn": [
                          0.7532015994,
                          0.7764778554
                        ],
                        "passed_time": 0.1275918599,
                        "remaining_time": 7.846899386,
                        "test": [
                          0.7520718632,
                          0.7783115936
                        ]
                      },
                      {
                        "iteration": 8,
                        "learn": [
                          0.7535492843,
                          0.7617317682
                        ],
                        "passed_time": 0.1420874964,
                        "remaining_time": 7.751662304,
                        "test": [
                          0.7518400464,
                          0.7637535034
                        ]
                      },
                      {
                        "iteration": 9,
                        "learn": [
                          0.7535203106,
                          0.7495207015
                        ],
                        "passed_time": 0.1563242365,
                        "remaining_time": 7.65988759,
                        "test": [
                          0.7515502753,
                          0.7516841148
                        ]
                      },
                      {
                        "iteration": 10,
                        "learn": [
                          0.7534044156,
                          0.7392994931
                        ],
                        "passed_time": 0.170607266,
                        "remaining_time": 7.58426846,
                        "test": [
                          0.752013909,
                          0.7416235958
                        ]
                      },
                      {
                        "iteration": 11,
                        "learn": [
                          0.7533754418,
                          0.7308933223
                        ],
                        "passed_time": 0.1849939597,
                        "remaining_time": 7.523087695,
                        "test": [
                          0.7517820921,
                          0.7332855863
                        ]
                      },
                      {
                        "iteration": 12,
                        "learn": [
                          0.7533754418,
                          0.7237877001
                        ],
                        "passed_time": 0.1995134984,
                        "remaining_time": 7.474082594,
                        "test": [
                          0.7518400464,
                          0.7262184303
                        ]
                      },
                      {
                        "iteration": 13,
                        "learn": [
                          0.7533174944,
                          0.7177589742
                        ],
                        "passed_time": 0.2138949618,
                        "remaining_time": 7.425210818,
                        "test": [
                          0.7517820921,
                          0.7203181705
                        ]
                      },
                      {
                        "iteration": 14,
                        "learn": [
                          0.7534044156,
                          0.7127575756
                        ],
                        "passed_time": 0.2280568002,
                        "remaining_time": 7.373836539,
                        "test": [
                          0.7518400464,
                          0.7154521574
                        ]
                      },
                      {
                        "iteration": 15,
                        "learn": [
                          0.7534333893,
                          0.70841215
                        ],
                        "passed_time": 0.2429220199,
                        "remaining_time": 7.348391103,
                        "test": [
                          0.7518400464,
                          0.7110901363
                        ]
                      },
                      {
                        "iteration": 16,
                        "learn": [
                          0.7536941531,
                          0.7045511677
                        ],
                        "passed_time": 0.2571979526,
                        "remaining_time": 7.307447713,
                        "test": [
                          0.7521298174,
                          0.7074966748
                        ]
                      },
                      {
                        "iteration": 17,
                        "learn": [
                          0.7536072318,
                          0.701365883
                        ],
                        "passed_time": 0.2720430099,
                        "remaining_time": 7.284707266,
                        "test": [
                          0.7521298174,
                          0.7044585008
                        ]
                      },
                      {
                        "iteration": 18,
                        "learn": [
                          0.7536941531,
                          0.6985325691
                        ],
                        "passed_time": 0.287375722,
                        "remaining_time": 7.275143277,
                        "test": [
                          0.752013909,
                          0.7017352126
                        ]
                      },
                      {
                        "iteration": 19,
                        "learn": [
                          0.7537231268,
                          0.696170555
                        ],
                        "passed_time": 0.3019608388,
                        "remaining_time": 7.247060131,
                        "test": [
                          0.7519559548,
                          0.6993861895
                        ]
                      },
                      {
                        "iteration": 20,
                        "learn": [
                          0.7537521006,
                          0.6939266376
                        ],
                        "passed_time": 0.3172433776,
                        "remaining_time": 7.236170375,
                        "test": [
                          0.7521298174,
                          0.6972622174
                        ]
                      },
                      {
                        "iteration": 21,
                        "learn": [
                          0.7539259431,
                          0.6922587654
                        ],
                        "passed_time": 0.3323357357,
                        "remaining_time": 7.220749166,
                        "test": [
                          0.7519559548,
                          0.6956125358
                        ]
                      },
                      {
                        "iteration": 22,
                        "learn": [
                          0.7538969693,
                          0.6907924776
                        ],
                        "passed_time": 0.3472144557,
                        "remaining_time": 7.200925886,
                        "test": [
                          0.752013909,
                          0.6943181665
                        ]
                      },
                      {
                        "iteration": 23,
                        "learn": [
                          0.7540997856,
                          0.6895200458
                        ],
                        "passed_time": 0.3651997525,
                        "remaining_time": 7.243128425,
                        "test": [
                          0.752013909,
                          0.6931400194
                        ]
                      },
                      {
                        "iteration": 24,
                        "learn": [
                          0.7540997856,
                          0.6884492239
                        ],
                        "passed_time": 0.3799998638,
                        "remaining_time": 7.219997411,
                        "test": [
                          0.7519559548,
                          0.6921392602
                        ]
                      },
                      {
                        "iteration": 25,
                        "learn": [
                          0.7542446543,
                          0.6872902182
                        ],
                        "passed_time": 0.3950815553,
                        "remaining_time": 7.202640662,
                        "test": [
                          0.7518400464,
                          0.6911016518
                        ]
                      },
                      {
                        "iteration": 26,
                        "learn": [
                          0.7542446543,
                          0.6862996758
                        ],
                        "passed_time": 0.4103306764,
                        "remaining_time": 7.188385553,
                        "test": [
                          0.7518400464,
                          0.6901878947
                        ]
                      },
                      {
                        "iteration": 27,
                        "learn": [
                          0.7541577331,
                          0.6853098378
                        ],
                        "passed_time": 0.4647400011,
                        "remaining_time": 7.83418859,
                        "test": [
                          0.7516661837,
                          0.6894064873
                        ]
                      },
                      {
                        "iteration": 28,
                        "learn": [
                          0.7543605493,
                          0.6846688602
                        ],
                        "passed_time": 0.5052865942,
                        "remaining_time": 8.206551236,
                        "test": [
                          0.7516661837,
                          0.6888515059
                        ]
                      },
                      {
                        "iteration": 29,
                        "learn": [
                          0.7544184968,
                          0.6840480296
                        ],
                        "passed_time": 0.534518187,
                        "remaining_time": 8.374118263,
                        "test": [
                          0.7517820921,
                          0.6883052998
                        ]
                      },
                      {
                        "iteration": 30,
                        "learn": [
                          0.7545633656,
                          0.6835701756
                        ],
                        "passed_time": 0.5602242362,
                        "remaining_time": 8.475650541,
                        "test": [
                          0.7516661837,
                          0.687889177
                        ]
                      },
                      {
                        "iteration": 31,
                        "learn": [
                          0.7546502868,
                          0.683085502
                        ],
                        "passed_time": 0.57480446,
                        "remaining_time": 8.406515228,
                        "test": [
                          0.7517241379,
                          0.6875626135
                        ]
                      },
                      {
                        "iteration": 32,
                        "learn": [
                          0.7545923393,
                          0.6825317139
                        ],
                        "passed_time": 0.5898217303,
                        "remaining_time": 8.346871154,
                        "test": [
                          0.7516661837,
                          0.6871278583
                        ]
                      },
                      {
                        "iteration": 33,
                        "learn": [
                          0.7544474706,
                          0.6820122758
                        ],
                        "passed_time": 0.6050599145,
                        "remaining_time": 8.292880004,
                        "test": [
                          0.7518980006,
                          0.6867209952
                        ]
                      },
                      {
                        "iteration": 34,
                        "learn": [
                          0.7544474706,
                          0.6816225572
                        ],
                        "passed_time": 0.6195254307,
                        "remaining_time": 8.230837865,
                        "test": [
                          0.7518980006,
                          0.6864695912
                        ]
                      },
                      {
                        "iteration": 35,
                        "learn": [
                          0.7545633656,
                          0.6813019669
                        ],
                        "passed_time": 0.6342942275,
                        "remaining_time": 8.175347821,
                        "test": [
                          0.752013909,
                          0.6862612056
                        ]
                      },
                      {
                        "iteration": 36,
                        "learn": [
                          0.7544474706,
                          0.6806773456
                        ],
                        "passed_time": 0.649948877,
                        "remaining_time": 8.133144056,
                        "test": [
                          0.7517820921,
                          0.685813788
                        ]
                      },
                      {
                        "iteration": 37,
                        "learn": [
                          0.7543895231,
                          0.6802496316
                        ],
                        "passed_time": 0.6651899791,
                        "remaining_time": 8.087309746,
                        "test": [
                          0.7518980006,
                          0.685500431
                        ]
                      },
                      {
                        "iteration": 38,
                        "learn": [
                          0.7545054181,
                          0.6798334086
                        ],
                        "passed_time": 0.6814895978,
                        "remaining_time": 8.055556528,
                        "test": [
                          0.7519559548,
                          0.6851937999
                        ]
                      },
                      {
                        "iteration": 39,
                        "learn": [
                          0.7547082343,
                          0.679520074
                        ],
                        "passed_time": 0.710367971,
                        "remaining_time": 8.169231666,
                        "test": [
                          0.7519559548,
                          0.6849535126
                        ]
                      },
                      {
                        "iteration": 40,
                        "learn": [
                          0.7547372081,
                          0.679238386
                        ],
                        "passed_time": 0.7260879382,
                        "remaining_time": 8.128643015,
                        "test": [
                          0.7518980006,
                          0.6847634031
                        ]
                      },
                      {
                        "iteration": 41,
                        "learn": [
                          0.7547372081,
                          0.6789611008
                        ],
                        "passed_time": 0.7411447634,
                        "remaining_time": 8.082007181,
                        "test": [
                          0.7518400464,
                          0.6845961165
                        ]
                      },
                      {
                        "iteration": 42,
                        "learn": [
                          0.7547661818,
                          0.6783289864
                        ],
                        "passed_time": 0.7571384732,
                        "remaining_time": 8.046797261,
                        "test": [
                          0.7518400464,
                          0.6839796161
                        ]
                      },
                      {
                        "iteration": 43,
                        "learn": [
                          0.7546213131,
                          0.6781201413
                        ],
                        "passed_time": 0.7720963221,
                        "remaining_time": 8.00172552,
                        "test": [
                          0.7516661837,
                          0.6838774571
                        ]
                      },
                      {
                        "iteration": 44,
                        "learn": [
                          0.7546213131,
                          0.677930136
                        ],
                        "passed_time": 0.786988431,
                        "remaining_time": 7.957327469,
                        "test": [
                          0.7517241379,
                          0.6837209743
                        ]
                      },
                      {
                        "iteration": 45,
                        "learn": [
                          0.7546502868,
                          0.67772902
                        ],
                        "passed_time": 0.802286488,
                        "remaining_time": 7.918218816,
                        "test": [
                          0.7516082295,
                          0.6836081609
                        ]
                      },
                      {
                        "iteration": 46,
                        "learn": [
                          0.7545923393,
                          0.6774167348
                        ],
                        "passed_time": 0.8176468297,
                        "remaining_time": 7.880723699,
                        "test": [
                          0.7515502753,
                          0.6833909919
                        ]
                      },
                      {
                        "iteration": 47,
                        "learn": [
                          0.7545633656,
                          0.6771090817
                        ],
                        "passed_time": 0.8328567146,
                        "remaining_time": 7.842734062,
                        "test": [
                          0.7516082295,
                          0.6831364017
                        ]
                      },
                      {
                        "iteration": 48,
                        "learn": [
                          0.7545923393,
                          0.6768233066
                        ],
                        "passed_time": 0.8478974394,
                        "remaining_time": 7.804117248,
                        "test": [
                          0.7516082295,
                          0.6829822485
                        ]
                      },
                      {
                        "iteration": 49,
                        "learn": [
                          0.7545633656,
                          0.6766229907
                        ],
                        "passed_time": 0.8632857526,
                        "remaining_time": 7.769571773,
                        "test": [
                          0.7515502753,
                          0.6829231435
                        ]
                      },
                      {
                        "iteration": 50,
                        "learn": [
                          0.7544764443,
                          0.6763927872
                        ],
                        "passed_time": 0.8792411935,
                        "remaining_time": 7.740770508,
                        "test": [
                          0.7516661837,
                          0.6827315073
                        ]
                      },
                      {
                        "iteration": 51,
                        "learn": [
                          0.7545923393,
                          0.67625418
                        ],
                        "passed_time": 0.8947965031,
                        "remaining_time": 7.709016027,
                        "test": [
                          0.7515502753,
                          0.6826522133
                        ]
                      },
                      {
                        "iteration": 52,
                        "learn": [
                          0.7545923393,
                          0.6760549052
                        ],
                        "passed_time": 0.9102125078,
                        "remaining_time": 7.676697944,
                        "test": [
                          0.7516082295,
                          0.6825707779
                        ]
                      },
                      {
                        "iteration": 53,
                        "learn": [
                          0.7545923393,
                          0.6758231861
                        ],
                        "passed_time": 0.9255780921,
                        "remaining_time": 7.644589427,
                        "test": [
                          0.7516082295,
                          0.6825471949
                        ]
                      },
                      {
                        "iteration": 54,
                        "learn": [
                          0.7547082343,
                          0.6756707893
                        ],
                        "passed_time": 0.9412567202,
                        "remaining_time": 7.615622555,
                        "test": [
                          0.7516082295,
                          0.6824811872
                        ]
                      },
                      {
                        "iteration": 55,
                        "learn": [
                          0.7547951556,
                          0.6755437325
                        ],
                        "passed_time": 0.9556053969,
                        "remaining_time": 7.576585647,
                        "test": [
                          0.7516082295,
                          0.6824716706
                        ]
                      },
                      {
                        "iteration": 56,
                        "learn": [
                          0.7549110506,
                          0.6753855561
                        ],
                        "passed_time": 0.9702675888,
                        "remaining_time": 7.540851611,
                        "test": [
                          0.7516661837,
                          0.6824316753
                        ]
                      },
                      {
                        "iteration": 57,
                        "learn": [
                          0.7547951556,
                          0.6752770807
                        ],
                        "passed_time": 0.9864168171,
                        "remaining_time": 7.517176434,
                        "test": [
                          0.7516082295,
                          0.6823652321
                        ]
                      },
                      {
                        "iteration": 58,
                        "learn": [
                          0.7547372081,
                          0.6751221898
                        ],
                        "passed_time": 1.001249935,
                        "remaining_time": 7.483919003,
                        "test": [
                          0.7516661837,
                          0.6823316648
                        ]
                      },
                      {
                        "iteration": 59,
                        "learn": [
                          0.7547951556,
                          0.6749001572
                        ],
                        "passed_time": 1.016428688,
                        "remaining_time": 7.453810381,
                        "test": [
                          0.7515502753,
                          0.6822609746
                        ]
                      },
                      {
                        "iteration": 60,
                        "learn": [
                          0.7548241293,
                          0.6747405542
                        ],
                        "passed_time": 1.031770722,
                        "remaining_time": 7.425366345,
                        "test": [
                          0.7515502753,
                          0.682210967
                        ]
                      },
                      {
                        "iteration": 61,
                        "learn": [
                          0.7549979718,
                          0.6746194362
                        ],
                        "passed_time": 1.046443559,
                        "remaining_time": 7.392617399,
                        "test": [
                          0.7515502753,
                          0.6821963001
                        ]
                      },
                      {
                        "iteration": 62,
                        "learn": [
                          0.7550559193,
                          0.6744658428
                        ],
                        "passed_time": 1.061218719,
                        "remaining_time": 7.361152067,
                        "test": [
                          0.7516082295,
                          0.6822028022
                        ]
                      },
                      {
                        "iteration": 63,
                        "learn": [
                          0.7549979718,
                          0.6742625155
                        ],
                        "passed_time": 1.076355001,
                        "remaining_time": 7.332668444,
                        "test": [
                          0.7517241379,
                          0.6821185253
                        ]
                      },
                      {
                        "iteration": 64,
                        "learn": [
                          0.7549110506,
                          0.6740413145
                        ],
                        "passed_time": 1.091648238,
                        "remaining_time": 7.305645904,
                        "test": [
                          0.7516082295,
                          0.6820196936
                        ]
                      },
                      {
                        "iteration": 65,
                        "learn": [
                          0.7549110506,
                          0.6738991021
                        ],
                        "passed_time": 1.106740678,
                        "remaining_time": 7.2776584,
                        "test": [
                          0.7517241379,
                          0.6819535736
                        ]
                      },
                      {
                        "iteration": 66,
                        "learn": [
                          0.7549689981,
                          0.6737118327
                        ],
                        "passed_time": 1.12239298,
                        "remaining_time": 7.253674035,
                        "test": [
                          0.7516661837,
                          0.6818600815
                        ]
                      },
                      {
                        "iteration": 67,
                        "learn": [
                          0.7549110506,
                          0.6735024573
                        ],
                        "passed_time": 1.137594418,
                        "remaining_time": 7.227070418,
                        "test": [
                          0.7516082295,
                          0.681764936
                        ]
                      },
                      {
                        "iteration": 68,
                        "learn": [
                          0.7549400243,
                          0.6733547153
                        ],
                        "passed_time": 1.152100862,
                        "remaining_time": 7.196456106,
                        "test": [
                          0.7516661837,
                          0.6817012408
                        ]
                      },
                      {
                        "iteration": 69,
                        "learn": [
                          0.7550559193,
                          0.6732271878
                        ],
                        "passed_time": 1.166586229,
                        "remaining_time": 7.166172551,
                        "test": [
                          0.7516082295,
                          0.681689021
                        ]
                      },
                      {
                        "iteration": 70,
                        "learn": [
                          0.7550559193,
                          0.6731345602
                        ],
                        "passed_time": 1.181124957,
                        "remaining_time": 7.136656429,
                        "test": [
                          0.7515502753,
                          0.6816921723
                        ]
                      },
                      {
                        "iteration": 71,
                        "learn": [
                          0.7550848931,
                          0.6730516277
                        ],
                        "passed_time": 1.195417439,
                        "remaining_time": 7.106092554,
                        "test": [
                          0.7517820921,
                          0.6816327747
                        ]
                      },
                      {
                        "iteration": 72,
                        "learn": [
                          0.7552007881,
                          0.6729285442
                        ],
                        "passed_time": 1.210114512,
                        "remaining_time": 7.078341049,
                        "test": [
                          0.7517241379,
                          0.6815390728
                        ]
                      },
                      {
                        "iteration": 73,
                        "learn": [
                          0.7552007881,
                          0.672700772
                        ],
                        "passed_time": 1.225045229,
                        "remaining_time": 7.052287398,
                        "test": [
                          0.7517241379,
                          0.6813714148
                        ]
                      },
                      {
                        "iteration": 74,
                        "learn": [
                          0.7551718143,
                          0.6725558284
                        ],
                        "passed_time": 1.240674366,
                        "remaining_time": 7.030488075,
                        "test": [
                          0.7517820921,
                          0.6813422478
                        ]
                      },
                      {
                        "iteration": 75,
                        "learn": [
                          0.7552007881,
                          0.6724606363
                        ],
                        "passed_time": 1.255194178,
                        "remaining_time": 7.002662259,
                        "test": [
                          0.7517241379,
                          0.681349186
                        ]
                      },
                      {
                        "iteration": 76,
                        "learn": [
                          0.7551718143,
                          0.6722804817
                        ],
                        "passed_time": 1.272145457,
                        "remaining_time": 6.98853933,
                        "test": [
                          0.7517241379,
                          0.6812245344
                        ]
                      },
                      {
                        "iteration": 77,
                        "learn": [
                          0.7552297618,
                          0.6722206434
                        ],
                        "passed_time": 1.287826011,
                        "remaining_time": 6.967468933,
                        "test": [
                          0.7518400464,
                          0.6812293686
                        ]
                      },
                      {
                        "iteration": 78,
                        "learn": [
                          0.7553456568,
                          0.6720575342
                        ],
                        "passed_time": 1.302526293,
                        "remaining_time": 6.941311002,
                        "test": [
                          0.7516082295,
                          0.681206114
                        ]
                      },
                      {
                        "iteration": 79,
                        "learn": [
                          0.7554325781,
                          0.6719645284
                        ],
                        "passed_time": 1.316467793,
                        "remaining_time": 6.911455913,
                        "test": [
                          0.7516082295,
                          0.6811775025
                        ]
                      },
                      {
                        "iteration": 80,
                        "learn": [
                          0.7553746306,
                          0.6717741915
                        ],
                        "passed_time": 1.332237785,
                        "remaining_time": 6.891452244,
                        "test": [
                          0.7516082295,
                          0.6810571216
                        ]
                      },
                      {
                        "iteration": 81,
                        "learn": [
                          0.7554036043,
                          0.6715647567
                        ],
                        "passed_time": 1.351480398,
                        "remaining_time": 6.889253737,
                        "test": [
                          0.7517241379,
                          0.680970573
                        ]
                      },
                      {
                        "iteration": 82,
                        "learn": [
                          0.7553456568,
                          0.6714866782
                        ],
                        "passed_time": 1.365993346,
                        "remaining_time": 6.862882232,
                        "test": [
                          0.7516661837,
                          0.6809679148
                        ]
                      },
                      {
                        "iteration": 83,
                        "learn": [
                          0.7555774468,
                          0.6713662411
                        ],
                        "passed_time": 1.379999097,
                        "remaining_time": 6.834281241,
                        "test": [
                          0.7517241379,
                          0.6809711214
                        ]
                      },
                      {
                        "iteration": 84,
                        "learn": [
                          0.7555484731,
                          0.6712206362
                        ],
                        "passed_time": 1.394785942,
                        "remaining_time": 6.809837245,
                        "test": [
                          0.7518980006,
                          0.6808670091
                        ]
                      },
                      {
                        "iteration": 85,
                        "learn": [
                          0.7558092368,
                          0.6711239409
                        ],
                        "passed_time": 1.408983168,
                        "remaining_time": 6.782779436,
                        "test": [
                          0.7518980006,
                          0.6808804389
                        ]
                      },
                      {
                        "iteration": 86,
                        "learn": [
                          0.7557512893,
                          0.671022908
                        ],
                        "passed_time": 1.423701769,
                        "remaining_time": 6.758492305,
                        "test": [
                          0.7518980006,
                          0.6808297061
                        ]
                      },
                      {
                        "iteration": 87,
                        "learn": [
                          0.7558382106,
                          0.6708429836
                        ],
                        "passed_time": 1.439243094,
                        "remaining_time": 6.738274488,
                        "test": [
                          0.7517241379,
                          0.6807620272
                        ]
                      },
                      {
                        "iteration": 88,
                        "learn": [
                          0.7557802631,
                          0.6707300072
                        ],
                        "passed_time": 1.454426038,
                        "remaining_time": 6.716506759,
                        "test": [
                          0.7517241379,
                          0.6806953038
                        ]
                      },
                      {
                        "iteration": 89,
                        "learn": [
                          0.7558961581,
                          0.6706065568
                        ],
                        "passed_time": 1.468630334,
                        "remaining_time": 6.690427077,
                        "test": [
                          0.7516082295,
                          0.6807348076
                        ]
                      },
                      {
                        "iteration": 90,
                        "learn": [
                          0.7559830793,
                          0.6704194542
                        ],
                        "passed_time": 1.483065756,
                        "remaining_time": 6.66564719,
                        "test": [
                          0.7516661837,
                          0.6807279655
                        ]
                      },
                      {
                        "iteration": 91,
                        "learn": [
                          0.7559830793,
                          0.6702748125
                        ],
                        "passed_time": 1.622595523,
                        "remaining_time": 7.195858408,
                        "test": [
                          0.7518400464,
                          0.6806372054
                        ]
                      },
                      {
                        "iteration": 92,
                        "learn": [
                          0.7559541056,
                          0.6701869615
                        ],
                        "passed_time": 1.650930348,
                        "remaining_time": 7.225039263,
                        "test": [
                          0.7516082295,
                          0.6806407011
                        ]
                      },
                      {
                        "iteration": 93,
                        "learn": [
                          0.7559830793,
                          0.6700465021
                        ],
                        "passed_time": 1.686132695,
                        "remaining_time": 7.282658235,
                        "test": [
                          0.7517241379,
                          0.6805807868
                        ]
                      },
                      {
                        "iteration": 94,
                        "learn": [
                          0.7559541056,
                          0.6699272893
                        ],
                        "passed_time": 1.701399503,
                        "remaining_time": 7.253334722,
                        "test": [
                          0.7516082295,
                          0.6805287774
                        ]
                      },
                      {
                        "iteration": 95,
                        "learn": [
                          0.7561569218,
                          0.6697669832
                        ],
                        "passed_time": 1.726418328,
                        "remaining_time": 7.265343796,
                        "test": [
                          0.7516082295,
                          0.6804601244
                        ]
                      },
                      {
                        "iteration": 96,
                        "learn": [
                          0.7563597381,
                          0.6695767929
                        ],
                        "passed_time": 1.741662112,
                        "remaining_time": 7.235977642,
                        "test": [
                          0.7516661837,
                          0.6805068727
                        ]
                      },
                      {
                        "iteration": 97,
                        "learn": [
                          0.7563307643,
                          0.6694676186
                        ],
                        "passed_time": 1.756353926,
                        "remaining_time": 7.204635493,
                        "test": [
                          0.7516661837,
                          0.6804895398
                        ]
                      },
                      {
                        "iteration": 98,
                        "learn": [
                          0.7563307643,
                          0.6693491077
                        ],
                        "passed_time": 1.7718992,
                        "remaining_time": 7.17708666,
                        "test": [
                          0.7516661837,
                          0.6804655044
                        ]
                      },
                      {
                        "iteration": 99,
                        "learn": [
                          0.7565335806,
                          0.6692462411
                        ],
                        "passed_time": 1.78628025,
                        "remaining_time": 7.145121,
                        "test": [
                          0.7517241379,
                          0.680458812
                        ]
                      },
                      {
                        "iteration": 100,
                        "learn": [
                          0.7563307643,
                          0.6691034949
                        ],
                        "passed_time": 1.801310781,
                        "remaining_time": 7.116069322,
                        "test": [
                          0.7518980006,
                          0.6804523137
                        ]
                      },
                      {
                        "iteration": 101,
                        "learn": [
                          0.7563887118,
                          0.668966966
                        ],
                        "passed_time": 1.816360614,
                        "remaining_time": 7.087367886,
                        "test": [
                          0.7517820921,
                          0.6804185188
                        ]
                      },
                      {
                        "iteration": 102,
                        "learn": [
                          0.7563597381,
                          0.6688838362
                        ],
                        "passed_time": 1.831289716,
                        "remaining_time": 7.058466187,
                        "test": [
                          0.7515502753,
                          0.6803932563
                        ]
                      },
                      {
                        "iteration": 103,
                        "learn": [
                          0.7563017906,
                          0.6687149328
                        ],
                        "passed_time": 1.846393321,
                        "remaining_time": 7.030497647,
                        "test": [
                          0.7517820921,
                          0.6802758576
                        ]
                      },
                      {
                        "iteration": 104,
                        "learn": [
                          0.7563597381,
                          0.6686406551
                        ],
                        "passed_time": 1.863150718,
                        "remaining_time": 7.008995557,
                        "test": [
                          0.7515502753,
                          0.6803073329
                        ]
                      },
                      {
                        "iteration": 105,
                        "learn": [
                          0.7562438431,
                          0.6684735856
                        ],
                        "passed_time": 1.877445128,
                        "remaining_time": 6.978428117,
                        "test": [
                          0.7517820921,
                          0.6803283375
                        ]
                      },
                      {
                        "iteration": 106,
                        "learn": [
                          0.7564756331,
                          0.6684003374
                        ],
                        "passed_time": 1.891975573,
                        "remaining_time": 6.949031778,
                        "test": [
                          0.7515502753,
                          0.6803163304
                        ]
                      },
                      {
                        "iteration": 107,
                        "learn": [
                          0.7563887118,
                          0.6683375308
                        ],
                        "passed_time": 1.905657458,
                        "remaining_time": 6.916830775,
                        "test": [
                          0.7514343669,
                          0.6803242957
                        ]
                      },
                      {
                        "iteration": 108,
                        "learn": [
                          0.7564756331,
                          0.6682139981
                        ],
                        "passed_time": 1.919507128,
                        "remaining_time": 6.885571439,
                        "test": [
                          0.7516082295,
                          0.680271748
                        ]
                      },
                      {
                        "iteration": 109,
                        "learn": [
                          0.7564756331,
                          0.6681151281
                        ],
                        "passed_time": 1.93384613,
                        "remaining_time": 6.85636355,
                        "test": [
                          0.7517241379,
                          0.6802194515
                        ]
                      },
                      {
                        "iteration": 110,
                        "learn": [
                          0.7565625543,
                          0.6679860695
                        ],
                        "passed_time": 1.948519332,
                        "remaining_time": 6.828594775,
                        "test": [
                          0.7517241379,
                          0.6802082468
                        ]
                      },
                      {
                        "iteration": 111,
                        "learn": [
                          0.7567363968,
                          0.6678885853
                        ],
                        "passed_time": 1.963129781,
                        "remaining_time": 6.800842455,
                        "test": [
                          0.7518400464,
                          0.6801974189
                        ]
                      },
                      {
                        "iteration": 112,
                        "learn": [
                          0.7565335806,
                          0.6678044797
                        ],
                        "passed_time": 1.976327871,
                        "remaining_time": 6.768485718,
                        "test": [
                          0.7517241379,
                          0.6801994939
                        ]
                      },
                      {
                        "iteration": 113,
                        "learn": [
                          0.7567074231,
                          0.6677006914
                        ],
                        "passed_time": 1.990589658,
                        "remaining_time": 6.740066737,
                        "test": [
                          0.7519559548,
                          0.6802566815
                        ]
                      },
                      {
                        "iteration": 114,
                        "learn": [
                          0.7566784493,
                          0.6675622786
                        ],
                        "passed_time": 2.00521437,
                        "remaining_time": 6.713108977,
                        "test": [
                          0.7519559548,
                          0.6802377956
                        ]
                      },
                      {
                        "iteration": 115,
                        "learn": [
                          0.7565915281,
                          0.6674588526
                        ],
                        "passed_time": 2.01979781,
                        "remaining_time": 6.686227232,
                        "test": [
                          0.7519559548,
                          0.6802513934
                        ]
                      },
                      {
                        "iteration": 116,
                        "learn": [
                          0.7565335806,
                          0.6673245099
                        ],
                        "passed_time": 2.034792474,
                        "remaining_time": 6.660901858,
                        "test": [
                          0.7520718632,
                          0.680249184
                        ]
                      },
                      {
                        "iteration": 117,
                        "learn": [
                          0.7566205018,
                          0.6672049241
                        ],
                        "passed_time": 2.049866263,
                        "remaining_time": 6.636007731,
                        "test": [
                          0.752013909,
                          0.6802588616
                        ]
                      },
                      {
                        "iteration": 118,
                        "learn": [
                          0.7568233181,
                          0.6670539835
                        ],
                        "passed_time": 2.064687314,
                        "remaining_time": 6.610469469,
                        "test": [
                          0.752013909,
                          0.6801353965
                        ]
                      },
                      {
                        "iteration": 119,
                        "learn": [
                          0.7567074231,
                          0.6668659256
                        ],
                        "passed_time": 2.079903473,
                        "remaining_time": 6.586360997,
                        "test": [
                          0.752013909,
                          0.6800625117
                        ]
                      },
                      {
                        "iteration": 120,
                        "learn": [
                          0.7567363968,
                          0.6666904013
                        ],
                        "passed_time": 2.094753939,
                        "remaining_time": 6.561254074,
                        "test": [
                          0.7518980006,
                          0.6799650393
                        ]
                      },
                      {
                        "iteration": 121,
                        "learn": [
                          0.7569102393,
                          0.6665622034
                        ],
                        "passed_time": 2.108868819,
                        "remaining_time": 6.534036178,
                        "test": [
                          0.7519559548,
                          0.680014917
                        ]
                      },
                      {
                        "iteration": 122,
                        "learn": [
                          0.7568233181,
                          0.6664604401
                        ],
                        "passed_time": 2.123888978,
                        "remaining_time": 6.509806053,
                        "test": [
                          0.7520718632,
                          0.6800206223
                        ]
                      },
                      {
                        "iteration": 123,
                        "learn": [
                          0.7567074231,
                          0.6663878683
                        ],
                        "passed_time": 2.138380877,
                        "remaining_time": 6.48412266,
                        "test": [
                          0.7521877717,
                          0.6800231707
                        ]
                      },
                      {
                        "iteration": 124,
                        "learn": [
                          0.7567653706,
                          0.6662203619
                        ],
                        "passed_time": 2.154240396,
                        "remaining_time": 6.462721188,
                        "test": [
                          0.7521877717,
                          0.6799450309
                        ]
                      },
                      {
                        "iteration": 125,
                        "learn": [
                          0.7566494756,
                          0.6661382228
                        ],
                        "passed_time": 2.168811229,
                        "remaining_time": 6.437582538,
                        "test": [
                          0.7521298174,
                          0.6799048549
                        ]
                      },
                      {
                        "iteration": 126,
                        "learn": [
                          0.7568522918,
                          0.6660207454
                        ],
                        "passed_time": 2.183046809,
                        "remaining_time": 6.411625668,
                        "test": [
                          0.7521298174,
                          0.679928032
                        ]
                      },
                      {
                        "iteration": 127,
                        "learn": [
                          0.7569681868,
                          0.6659276691
                        ],
                        "passed_time": 2.197624738,
                        "remaining_time": 6.386846893,
                        "test": [
                          0.752013909,
                          0.6799125988
                        ]
                      },
                      {
                        "iteration": 128,
                        "learn": [
                          0.7569971606,
                          0.665864887
                        ],
                        "passed_time": 2.21177147,
                        "remaining_time": 6.360986167,
                        "test": [
                          0.752013909,
                          0.6799025936
                        ]
                      },
                      {
                        "iteration": 129,
                        "learn": [
                          0.7570261343,
                          0.6657699341
                        ],
                        "passed_time": 2.226353228,
                        "remaining_time": 6.336543802,
                        "test": [
                          0.752013909,
                          0.6799011389
                        ]
                      },
                      {
                        "iteration": 130,
                        "learn": [
                          0.7571130556,
                          0.6656786559
                        ],
                        "passed_time": 2.240572842,
                        "remaining_time": 6.311231899,
                        "test": [
                          0.7521298174,
                          0.6799143913
                        ]
                      },
                      {
                        "iteration": 131,
                        "learn": [
                          0.7571420293,
                          0.6655295427
                        ],
                        "passed_time": 2.255053017,
                        "remaining_time": 6.286814471,
                        "test": [
                          0.7521298174,
                          0.6799081852
                        ]
                      },
                      {
                        "iteration": 132,
                        "learn": [
                          0.7570840818,
                          0.6654191423
                        ],
                        "passed_time": 2.27282632,
                        "remaining_time": 6.271633531,
                        "test": [
                          0.7520718632,
                          0.679892957
                        ]
                      },
                      {
                        "iteration": 133,
                        "learn": [
                          0.7570261343,
                          0.66532154
                        ],
                        "passed_time": 2.287497949,
                        "remaining_time": 6.247942158,
                        "test": [
                          0.7521298174,
                          0.679900423
                        ]
                      },
                      {
                        "iteration": 134,
                        "learn": [
                          0.7569102393,
                          0.6652189966
                        ],
                        "passed_time": 2.301790499,
                        "remaining_time": 6.223359498,
                        "test": [
                          0.7520718632,
                          0.6798969072
                        ]
                      },
                      {
                        "iteration": 135,
                        "learn": [
                          0.7571420293,
                          0.6651398039
                        ],
                        "passed_time": 2.316096834,
                        "remaining_time": 6.198965056,
                        "test": [
                          0.7519559548,
                          0.6798983825
                        ]
                      },
                      {
                        "iteration": 136,
                        "learn": [
                          0.7573448456,
                          0.6650163399
                        ],
                        "passed_time": 2.331249775,
                        "remaining_time": 6.176961083,
                        "test": [
                          0.7518980006,
                          0.6798697961
                        ]
                      },
                      {
                        "iteration": 137,
                        "learn": [
                          0.7574317668,
                          0.6648630363
                        ],
                        "passed_time": 2.348169773,
                        "remaining_time": 6.159691724,
                        "test": [
                          0.7519559548,
                          0.6798962382
                        ]
                      },
                      {
                        "iteration": 138,
                        "learn": [
                          0.7575476618,
                          0.6647282485
                        ],
                        "passed_time": 2.362583627,
                        "remaining_time": 6.135918629,
                        "test": [
                          0.7518980006,
                          0.6798640497
                        ]
                      },
                      {
                        "iteration": 139,
                        "learn": [
                          0.7576345831,
                          0.6646346025
                        ],
                        "passed_time": 2.377128822,
                        "remaining_time": 6.112616971,
                        "test": [
                          0.752013909,
                          0.6798954891
                        ]
                      },
                      {
                        "iteration": 140,
                        "learn": [
                          0.7574317668,
                          0.6644966229
                        ],
                        "passed_time": 2.391673915,
                        "remaining_time": 6.08943926,
                        "test": [
                          0.752013909,
                          0.6799154676
                        ]
                      },
                      {
                        "iteration": 141,
                        "learn": [
                          0.7576345831,
                          0.6643966077
                        ],
                        "passed_time": 2.406900854,
                        "remaining_time": 6.068102152,
                        "test": [
                          0.7521298174,
                          0.679960153
                        ]
                      },
                      {
                        "iteration": 142,
                        "learn": [
                          0.7577794518,
                          0.6643342325
                        ],
                        "passed_time": 2.421008415,
                        "remaining_time": 6.044055974,
                        "test": [
                          0.752013909,
                          0.679962126
                        ]
                      },
                      {
                        "iteration": 143,
                        "learn": [
                          0.7577504781,
                          0.6642053564
                        ],
                        "passed_time": 2.43591488,
                        "remaining_time": 6.022122897,
                        "test": [
                          0.7520718632,
                          0.6799223708
                        ]
                      },
                      {
                        "iteration": 144,
                        "learn": [
                          0.7577504781,
                          0.6640112163
                        ],
                        "passed_time": 2.450721043,
                        "remaining_time": 6.000041174,
                        "test": [
                          0.7520718632,
                          0.6797951421
                        ]
                      },
                      {
                        "iteration": 145,
                        "learn": [
                          0.7580112418,
                          0.6638453777
                        ],
                        "passed_time": 2.465102941,
                        "remaining_time": 5.977030418,
                        "test": [
                          0.752013909,
                          0.6798307198
                        ]
                      },
                      {
                        "iteration": 146,
                        "learn": [
                          0.7578953468,
                          0.6637918294
                        ],
                        "passed_time": 2.478887984,
                        "remaining_time": 5.952703798,
                        "test": [
                          0.7518980006,
                          0.6798769959
                        ]
                      },
                      {
                        "iteration": 147,
                        "learn": [
                          0.7579532943,
                          0.6636801221
                        ],
                        "passed_time": 2.49361345,
                        "remaining_time": 5.930756312,
                        "test": [
                          0.7518400464,
                          0.6798928787
                        ]
                      },
                      {
                        "iteration": 148,
                        "learn": [
                          0.7578373993,
                          0.6635112661
                        ],
                        "passed_time": 2.508646723,
                        "remaining_time": 5.909630872,
                        "test": [
                          0.7518980006,
                          0.679783719
                        ]
                      },
                      {
                        "iteration": 149,
                        "learn": [
                          0.7579243206,
                          0.6633105791
                        ],
                        "passed_time": 2.524481036,
                        "remaining_time": 5.890455751,
                        "test": [
                          0.7518980006,
                          0.6798140836
                        ]
                      },
                      {
                        "iteration": 150,
                        "learn": [
                          0.7580981631,
                          0.6631707678
                        ],
                        "passed_time": 2.538483623,
                        "remaining_time": 5.867091287,
                        "test": [
                          0.7518980006,
                          0.6797961847
                        ]
                      },
                      {
                        "iteration": 151,
                        "learn": [
                          0.7580981631,
                          0.6630593698
                        ],
                        "passed_time": 2.552878589,
                        "remaining_time": 5.844748348,
                        "test": [
                          0.7518980006,
                          0.6797897732
                        ]
                      },
                      {
                        "iteration": 152,
                        "learn": [
                          0.7582720056,
                          0.6629678227
                        ],
                        "passed_time": 2.566412113,
                        "remaining_time": 5.820555578,
                        "test": [
                          0.7518980006,
                          0.679781951
                        ]
                      },
                      {
                        "iteration": 153,
                        "learn": [
                          0.7584458481,
                          0.6628745957
                        ],
                        "passed_time": 2.581191167,
                        "remaining_time": 5.799299634,
                        "test": [
                          0.7517820921,
                          0.6797644186
                        ]
                      },
                      {
                        "iteration": 154,
                        "learn": [
                          0.7583589268,
                          0.6627700419
                        ],
                        "passed_time": 2.595599277,
                        "remaining_time": 5.777301617,
                        "test": [
                          0.7518400464,
                          0.6797908328
                        ]
                      },
                      {
                        "iteration": 155,
                        "learn": [
                          0.7583299531,
                          0.6627022913
                        ],
                        "passed_time": 2.650384474,
                        "remaining_time": 5.844437559,
                        "test": [
                          0.7519559548,
                          0.6797845449
                        ]
                      },
                      {
                        "iteration": 156,
                        "learn": [
                          0.7584168743,
                          0.6626221424
                        ],
                        "passed_time": 2.694806247,
                        "remaining_time": 5.887379254,
                        "test": [
                          0.7519559548,
                          0.6797866124
                        ]
                      },
                      {
                        "iteration": 157,
                        "learn": [
                          0.7583299531,
                          0.6625057228
                        ],
                        "passed_time": 2.718693127,
                        "remaining_time": 5.884766135,
                        "test": [
                          0.752013909,
                          0.6797832545
                        ]
                      },
                      {
                        "iteration": 158,
                        "learn": [
                          0.7583879006,
                          0.6624176512
                        ],
                        "passed_time": 2.753465953,
                        "remaining_time": 5.905232011,
                        "test": [
                          0.7519559548,
                          0.6798056393
                        ]
                      },
                      {
                        "iteration": 159,
                        "learn": [
                          0.7585617431,
                          0.6623276192
                        ],
                        "passed_time": 2.773801958,
                        "remaining_time": 5.894329161,
                        "test": [
                          0.7519559548,
                          0.6798233975
                        ]
                      },
                      {
                        "iteration": 160,
                        "learn": [
                          0.7586776381,
                          0.6621875583
                        ],
                        "passed_time": 2.803117419,
                        "remaining_time": 5.90221618,
                        "test": [
                          0.7522457259,
                          0.6798484049
                        ]
                      },
                      {
                        "iteration": 161,
                        "learn": [
                          0.7585907168,
                          0.6620949326
                        ],
                        "passed_time": 2.817574862,
                        "remaining_time": 5.878643848,
                        "test": [
                          0.7520718632,
                          0.6798450942
                        ]
                      },
                      {
                        "iteration": 162,
                        "learn": [
                          0.7585617431,
                          0.6619824302
                        ],
                        "passed_time": 2.83302701,
                        "remaining_time": 5.857239892,
                        "test": [
                          0.752013909,
                          0.6798664634
                        ]
                      },
                      {
                        "iteration": 163,
                        "learn": [
                          0.7586486643,
                          0.6619052635
                        ],
                        "passed_time": 2.848019842,
                        "remaining_time": 5.834967481,
                        "test": [
                          0.7520718632,
                          0.6798763838
                        ]
                      },
                      {
                        "iteration": 164,
                        "learn": [
                          0.7589384018,
                          0.6618243465
                        ],
                        "passed_time": 2.861709213,
                        "remaining_time": 5.810136887,
                        "test": [
                          0.7521877717,
                          0.6798514438
                        ]
                      },
                      {
                        "iteration": 165,
                        "learn": [
                          0.7589094281,
                          0.6617447658
                        ],
                        "passed_time": 2.876014127,
                        "remaining_time": 5.786679026,
                        "test": [
                          0.7521298174,
                          0.6798647331
                        ]
                      },
                      {
                        "iteration": 166,
                        "learn": [
                          0.7590253231,
                          0.6616480271
                        ],
                        "passed_time": 2.890011866,
                        "remaining_time": 5.762718271,
                        "test": [
                          0.7521877717,
                          0.6798787596
                        ]
                      },
                      {
                        "iteration": 167,
                        "learn": [
                          0.7591701918,
                          0.6615696704
                        ],
                        "passed_time": 2.903895217,
                        "remaining_time": 5.738650072,
                        "test": [
                          0.7522457259,
                          0.6798684098
                        ]
                      },
                      {
                        "iteration": 168,
                        "learn": [
                          0.7591701918,
                          0.6615228548
                        ],
                        "passed_time": 2.918041653,
                        "remaining_time": 5.715217675,
                        "test": [
                          0.752013909,
                          0.6798584206
                        ]
                      },
                      {
                        "iteration": 169,
                        "learn": [
                          0.7591701918,
                          0.6614536798
                        ],
                        "passed_time": 2.932626038,
                        "remaining_time": 5.692744663,
                        "test": [
                          0.7521877717,
                          0.6798559158
                        ]
                      },
                      {
                        "iteration": 170,
                        "learn": [
                          0.7593440343,
                          0.6613740273
                        ],
                        "passed_time": 2.946347175,
                        "remaining_time": 5.668703044,
                        "test": [
                          0.7520718632,
                          0.6798550959
                        ]
                      },
                      {
                        "iteration": 171,
                        "learn": [
                          0.7593150606,
                          0.6612722659
                        ],
                        "passed_time": 2.960602915,
                        "remaining_time": 5.645800907,
                        "test": [
                          0.7520718632,
                          0.6798701448
                        ]
                      },
                      {
                        "iteration": 172,
                        "learn": [
                          0.7594309556,
                          0.6611707293
                        ],
                        "passed_time": 2.975210805,
                        "remaining_time": 5.623664353,
                        "test": [
                          0.7522457259,
                          0.6798442222
                        ]
                      },
                      {
                        "iteration": 173,
                        "learn": [
                          0.7593440343,
                          0.6610974146
                        ],
                        "passed_time": 2.98928323,
                        "remaining_time": 5.600611108,
                        "test": [
                          0.7521877717,
                          0.6798149667
                        ]
                      },
                      {
                        "iteration": 174,
                        "learn": [
                          0.7593730081,
                          0.6610180611
                        ],
                        "passed_time": 3.00324014,
                        "remaining_time": 5.577445975,
                        "test": [
                          0.7520718632,
                          0.6798133196
                        ]
                      },
                      {
                        "iteration": 175,
                        "learn": [
                          0.7593440343,
                          0.6609399915
                        ],
                        "passed_time": 3.017391834,
                        "remaining_time": 5.554744057,
                        "test": [
                          0.7518980006,
                          0.6798218278
                        ]
                      },
                      {
                        "iteration": 176,
                        "learn": [
                          0.7593440343,
                          0.6608618313
                        ],
                        "passed_time": 3.032070614,
                        "remaining_time": 5.533100611,
                        "test": [
                          0.7517820921,
                          0.6798177462
                        ]
                      },
                      {
                        "iteration": 177,
                        "learn": [
                          0.7593150606,
                          0.6607396776
                        ],
                        "passed_time": 3.04918661,
                        "remaining_time": 5.515944317,
                        "test": [
                          0.7518400464,
                          0.6798374799
                        ]
                      },
                      {
                        "iteration": 178,
                        "learn": [
                          0.7593730081,
                          0.6606648324
                        ],
                        "passed_time": 3.063140696,
                        "remaining_time": 5.493118231,
                        "test": [
                          0.7517241379,
                          0.6798098937
                        ]
                      },
                      {
                        "iteration": 179,
                        "learn": [
                          0.7593150606,
                          0.6605378221
                        ],
                        "passed_time": 3.078259252,
                        "remaining_time": 5.472460893,
                        "test": [
                          0.7516661837,
                          0.6797228859
                        ]
                      },
                      {
                        "iteration": 180,
                        "learn": [
                          0.7594309556,
                          0.6604484775
                        ],
                        "passed_time": 3.093408348,
                        "remaining_time": 5.45191858,
                        "test": [
                          0.7515502753,
                          0.6796992544
                        ]
                      },
                      {
                        "iteration": 181,
                        "learn": [
                          0.7595178768,
                          0.6603546167
                        ],
                        "passed_time": 3.107128267,
                        "remaining_time": 5.4289384,
                        "test": [
                          0.7514343669,
                          0.6797115923
                        ]
                      },
                      {
                        "iteration": 182,
                        "learn": [
                          0.7596047981,
                          0.6602855594
                        ],
                        "passed_time": 3.121296825,
                        "remaining_time": 5.406836576,
                        "test": [
                          0.7514923211,
                          0.6797241176
                        ]
                      },
                      {
                        "iteration": 183,
                        "learn": [
                          0.7595178768,
                          0.6602254621
                        ],
                        "passed_time": 3.134971475,
                        "remaining_time": 5.38397275,
                        "test": [
                          0.7514343669,
                          0.6797262379
                        ]
                      },
                      {
                        "iteration": 184,
                        "learn": [
                          0.7595758243,
                          0.6601494576
                        ],
                        "passed_time": 3.149439578,
                        "remaining_time": 5.362559281,
                        "test": [
                          0.7514923211,
                          0.6797034094
                        ]
                      },
                      {
                        "iteration": 185,
                        "learn": [
                          0.7595758243,
                          0.6600361596
                        ],
                        "passed_time": 3.163780953,
                        "remaining_time": 5.341006554,
                        "test": [
                          0.7516661837,
                          0.6797131353
                        ]
                      },
                      {
                        "iteration": 186,
                        "learn": [
                          0.7594599293,
                          0.6599504366
                        ],
                        "passed_time": 3.177887938,
                        "remaining_time": 5.319138633,
                        "test": [
                          0.7517241379,
                          0.6797451302
                        ]
                      },
                      {
                        "iteration": 187,
                        "learn": [
                          0.7596917193,
                          0.6598092171
                        ],
                        "passed_time": 3.191940166,
                        "remaining_time": 5.297262404,
                        "test": [
                          0.752013909,
                          0.6797029181
                        ]
                      },
                      {
                        "iteration": 188,
                        "learn": [
                          0.7596337718,
                          0.6597538836
                        ],
                        "passed_time": 3.206123042,
                        "remaining_time": 5.275683947,
                        "test": [
                          0.7519559548,
                          0.6797125064
                        ]
                      },
                      {
                        "iteration": 189,
                        "learn": [
                          0.7597206931,
                          0.6596745989
                        ],
                        "passed_time": 3.219791597,
                        "remaining_time": 5.253344185,
                        "test": [
                          0.7517820921,
                          0.6797242498
                        ]
                      },
                      {
                        "iteration": 190,
                        "learn": [
                          0.7596627456,
                          0.6596097946
                        ],
                        "passed_time": 3.233909641,
                        "remaining_time": 5.231822403,
                        "test": [
                          0.7515502753,
                          0.6797133444
                        ]
                      },
                      {
                        "iteration": 191,
                        "learn": [
                          0.7598076143,
                          0.6595085527
                        ],
                        "passed_time": 3.248973653,
                        "remaining_time": 5.211895235,
                        "test": [
                          0.7517820921,
                          0.6797345707
                        ]
                      },
                      {
                        "iteration": 192,
                        "learn": [
                          0.7597786406,
                          0.6594115139
                        ],
                        "passed_time": 3.263657068,
                        "remaining_time": 5.191413056,
                        "test": [
                          0.7518400464,
                          0.6797649987
                        ]
                      },
                      {
                        "iteration": 193,
                        "learn": [
                          0.7597496668,
                          0.6593071116
                        ],
                        "passed_time": 3.27819417,
                        "remaining_time": 5.170759876,
                        "test": [
                          0.7520718632,
                          0.6797251254
                        ]
                      },
                      {
                        "iteration": 194,
                        "learn": [
                          0.7597786406,
                          0.6592499967
                        ],
                        "passed_time": 3.292893984,
                        "remaining_time": 5.150423924,
                        "test": [
                          0.7522457259,
                          0.6797161028
                        ]
                      },
                      {
                        "iteration": 195,
                        "learn": [
                          0.7600394043,
                          0.659139568
                        ],
                        "passed_time": 3.307363943,
                        "remaining_time": 5.129788973,
                        "test": [
                          0.7521298174,
                          0.6797612214
                        ]
                      },
                      {
                        "iteration": 196,
                        "learn": [
                          0.7600973518,
                          0.6590345788
                        ],
                        "passed_time": 3.321978171,
                        "remaining_time": 5.109438507,
                        "test": [
                          0.7519559548,
                          0.6797475344
                        ]
                      },
                      {
                        "iteration": 197,
                        "learn": [
                          0.7600104305,
                          0.6589286574
                        ],
                        "passed_time": 3.340061693,
                        "remaining_time": 5.094437532,
                        "test": [
                          0.7519559548,
                          0.6797359287
                        ]
                      },
                      {
                        "iteration": 198,
                        "learn": [
                          0.7601263255,
                          0.6588488243
                        ],
                        "passed_time": 3.354167752,
                        "remaining_time": 5.073389413,
                        "test": [
                          0.7519559548,
                          0.6797715229
                        ]
                      },
                      {
                        "iteration": 199,
                        "learn": [
                          0.7601552993,
                          0.6587655128
                        ],
                        "passed_time": 3.368856125,
                        "remaining_time": 5.053284188,
                        "test": [
                          0.7517241379,
                          0.679757988
                        ]
                      },
                      {
                        "iteration": 200,
                        "learn": [
                          0.7602132468,
                          0.658657975
                        ],
                        "passed_time": 3.385387285,
                        "remaining_time": 5.035974121,
                        "test": [
                          0.7516082295,
                          0.6797591169
                        ]
                      },
                      {
                        "iteration": 201,
                        "learn": [
                          0.7601263255,
                          0.6585803159
                        ],
                        "passed_time": 3.401462668,
                        "remaining_time": 5.017999381,
                        "test": [
                          0.7514923211,
                          0.6797980001
                        ]
                      },
                      {
                        "iteration": 202,
                        "learn": [
                          0.7601552993,
                          0.65848182
                        ],
                        "passed_time": 3.415561953,
                        "remaining_time": 4.997152217,
                        "test": [
                          0.7517820921,
                          0.6798331366
                        ]
                      },
                      {
                        "iteration": 203,
                        "learn": [
                          0.7600973518,
                          0.6583447258
                        ],
                        "passed_time": 3.430251967,
                        "remaining_time": 4.977228344,
                        "test": [
                          0.7514923211,
                          0.6798391214
                        ]
                      },
                      {
                        "iteration": 204,
                        "learn": [
                          0.7602132468,
                          0.6581928187
                        ],
                        "passed_time": 3.445029932,
                        "remaining_time": 4.957482097,
                        "test": [
                          0.7516661837,
                          0.6798028738
                        ]
                      },
                      {
                        "iteration": 205,
                        "learn": [
                          0.7603291418,
                          0.6581036182
                        ],
                        "passed_time": 3.459864956,
                        "remaining_time": 4.937865519,
                        "test": [
                          0.7517241379,
                          0.6798193241
                        ]
                      },
                      {
                        "iteration": 206,
                        "learn": [
                          0.760531958,
                          0.6580394716
                        ],
                        "passed_time": 3.474469418,
                        "remaining_time": 4.91796879,
                        "test": [
                          0.7516082295,
                          0.6798217602
                        ]
                      },
                      {
                        "iteration": 207,
                        "learn": [
                          0.7605899055,
                          0.6579119843
                        ],
                        "passed_time": 3.490314747,
                        "remaining_time": 4.899864933,
                        "test": [
                          0.7516661837,
                          0.6798161646
                        ]
                      },
                      {
                        "iteration": 208,
                        "learn": [
                          0.7604740105,
                          0.6578317686
                        ],
                        "passed_time": 3.505072008,
                        "remaining_time": 4.880267724,
                        "test": [
                          0.7517241379,
                          0.6797665423
                        ]
                      },
                      {
                        "iteration": 209,
                        "learn": [
                          0.7603870893,
                          0.6577026608
                        ],
                        "passed_time": 3.520246344,
                        "remaining_time": 4.86129257,
                        "test": [
                          0.7516082295,
                          0.6797805613
                        ]
                      },
                      {
                        "iteration": 210,
                        "learn": [
                          0.7603870893,
                          0.6575501295
                        ],
                        "passed_time": 3.535668842,
                        "remaining_time": 4.842693343,
                        "test": [
                          0.7516661837,
                          0.6797358927
                        ]
                      },
                      {
                        "iteration": 211,
                        "learn": [
                          0.7603581155,
                          0.6574915606
                        ],
                        "passed_time": 3.550432817,
                        "remaining_time": 4.823229487,
                        "test": [
                          0.7516661837,
                          0.6797740869
                        ]
                      },
                      {
                        "iteration": 212,
                        "learn": [
                          0.760531958,
                          0.6574356161
                        ],
                        "passed_time": 3.564781638,
                        "remaining_time": 4.803250376,
                        "test": [
                          0.7517820921,
                          0.6797844495
                        ]
                      },
                      {
                        "iteration": 213,
                        "learn": [
                          0.7605609318,
                          0.6573677923
                        ],
                        "passed_time": 3.579759357,
                        "remaining_time": 4.784164375,
                        "test": [
                          0.7517241379,
                          0.6797825001
                        ]
                      },
                      {
                        "iteration": 214,
                        "learn": [
                          0.7605609318,
                          0.657306893
                        ],
                        "passed_time": 3.593886459,
                        "remaining_time": 4.763989027,
                        "test": [
                          0.7518400464,
                          0.6797641242
                        ]
                      },
                      {
                        "iteration": 215,
                        "learn": [
                          0.7607058005,
                          0.6572316148
                        ],
                        "passed_time": 3.607678197,
                        "remaining_time": 4.743428741,
                        "test": [
                          0.7517820921,
                          0.6797669846
                        ]
                      },
                      {
                        "iteration": 216,
                        "learn": [
                          0.760647853,
                          0.6571516152
                        ],
                        "passed_time": 3.62234271,
                        "remaining_time": 4.724069064,
                        "test": [
                          0.7518400464,
                          0.679724439
                        ]
                      },
                      {
                        "iteration": 217,
                        "learn": [
                          0.7606768268,
                          0.657028365
                        ],
                        "passed_time": 3.636928527,
                        "remaining_time": 4.704650663,
                        "test": [
                          0.7518400464,
                          0.6797106256
                        ]
                      },
                      {
                        "iteration": 218,
                        "learn": [
                          0.760531958,
                          0.6568972923
                        ],
                        "passed_time": 3.65180598,
                        "remaining_time": 4.685650595,
                        "test": [
                          0.7519559548,
                          0.6797591337
                        ]
                      },
                      {
                        "iteration": 219,
                        "learn": [
                          0.760763748,
                          0.6567716257
                        ],
                        "passed_time": 3.668308752,
                        "remaining_time": 4.668756593,
                        "test": [
                          0.7518980006,
                          0.6797515341
                        ]
                      },
                      {
                        "iteration": 220,
                        "learn": [
                          0.7606188793,
                          0.6566656284
                        ],
                        "passed_time": 3.72234673,
                        "remaining_time": 4.699252206,
                        "test": [
                          0.7514923211,
                          0.6797681389
                        ]
                      },
                      {
                        "iteration": 221,
                        "learn": [
                          0.7607347743,
                          0.6565406472
                        ],
                        "passed_time": 3.787783451,
                        "remaining_time": 4.743260358,
                        "test": [
                          0.7515502753,
                          0.6798043011
                        ]
                      },
                      {
                        "iteration": 222,
                        "learn": [
                          0.7606768268,
                          0.6564592026
                        ],
                        "passed_time": 3.821677019,
                        "remaining_time": 4.747105535,
                        "test": [
                          0.7516661837,
                          0.6798331849
                        ]
                      },
                      {
                        "iteration": 223,
                        "learn": [
                          0.7605899055,
                          0.6563913721
                        ],
                        "passed_time": 3.853517863,
                        "remaining_time": 4.74808451,
                        "test": [
                          0.7517241379,
                          0.67983413
                        ]
                      },
                      {
                        "iteration": 224,
                        "learn": [
                          0.7608216955,
                          0.656301349
                        ],
                        "passed_time": 3.888678206,
                        "remaining_time": 4.752828919,
                        "test": [
                          0.7514343669,
                          0.6798208362
                        ]
                      },
                      {
                        "iteration": 225,
                        "learn": [
                          0.7608506693,
                          0.6562462834
                        ],
                        "passed_time": 3.920156736,
                        "remaining_time": 4.752756397,
                        "test": [
                          0.7514923211,
                          0.6798167214
                        ]
                      },
                      {
                        "iteration": 226,
                        "learn": [
                          0.760879643,
                          0.6561758992
                        ],
                        "passed_time": 3.935311054,
                        "remaining_time": 4.732774968,
                        "test": [
                          0.7515502753,
                          0.6798251621
                        ]
                      },
                      {
                        "iteration": 227,
                        "learn": [
                          0.7609375905,
                          0.656099043
                        ],
                        "passed_time": 3.950539838,
                        "remaining_time": 4.71292472,
                        "test": [
                          0.7517820921,
                          0.6797876532
                        ]
                      },
                      {
                        "iteration": 228,
                        "learn": [
                          0.7609375905,
                          0.6560195094
                        ],
                        "passed_time": 3.964987185,
                        "remaining_time": 4.692190074,
                        "test": [
                          0.7517241379,
                          0.6797819601
                        ]
                      },
                      {
                        "iteration": 229,
                        "learn": [
                          0.7610245118,
                          0.6559432854
                        ],
                        "passed_time": 3.980330893,
                        "remaining_time": 4.672562353,
                        "test": [
                          0.7514343669,
                          0.6798196229
                        ]
                      },
                      {
                        "iteration": 230,
                        "learn": [
                          0.760995538,
                          0.6558274602
                        ],
                        "passed_time": 3.995045366,
                        "remaining_time": 4.652238976,
                        "test": [
                          0.7514343669,
                          0.6798128907
                        ]
                      },
                      {
                        "iteration": 231,
                        "learn": [
                          0.760995538,
                          0.6557537367
                        ],
                        "passed_time": 4.008342739,
                        "remaining_time": 4.630326957,
                        "test": [
                          0.7515502753,
                          0.679789615
                        ]
                      },
                      {
                        "iteration": 232,
                        "learn": [
                          0.7610824593,
                          0.6556795172
                        ],
                        "passed_time": 4.022548652,
                        "remaining_time": 4.609530001,
                        "test": [
                          0.7514343669,
                          0.6797970849
                        ]
                      },
                      {
                        "iteration": 233,
                        "learn": [
                          0.7612563018,
                          0.6555662597
                        ],
                        "passed_time": 4.037656951,
                        "remaining_time": 4.589815167,
                        "test": [
                          0.7512605042,
                          0.6797468331
                        ]
                      },
                      {
                        "iteration": 234,
                        "learn": [
                          0.7613721968,
                          0.6554672714
                        ],
                        "passed_time": 4.052596862,
                        "remaining_time": 4.569949653,
                        "test": [
                          0.7510866416,
                          0.6797409117
                        ]
                      },
                      {
                        "iteration": 235,
                        "learn": [
                          0.7614301443,
                          0.6553340181
                        ],
                        "passed_time": 4.067999794,
                        "remaining_time": 4.550643837,
                        "test": [
                          0.7514923211,
                          0.6797004401
                        ]
                      },
                      {
                        "iteration": 236,
                        "learn": [
                          0.7613142493,
                          0.6552175036
                        ],
                        "passed_time": 4.083034551,
                        "remaining_time": 4.530962392,
                        "test": [
                          0.7513764126,
                          0.6797243636
                        ]
                      },
                      {
                        "iteration": 237,
                        "learn": [
                          0.7615460393,
                          0.6551209111
                        ],
                        "passed_time": 4.098280296,
                        "remaining_time": 4.511552259,
                        "test": [
                          0.7512605042,
                          0.6797052548
                        ]
                      },
                      {
                        "iteration": 238,
                        "learn": [
                          0.7617488555,
                          0.6550433417
                        ],
                        "passed_time": 4.112496591,
                        "remaining_time": 4.491052762,
                        "test": [
                          0.7513184584,
                          0.6797294619
                        ]
                      },
                      {
                        "iteration": 239,
                        "learn": [
                          0.7615170655,
                          0.6548964752
                        ],
                        "passed_time": 4.127283835,
                        "remaining_time": 4.471224154,
                        "test": [
                          0.7512605042,
                          0.679731579
                        ]
                      },
                      {
                        "iteration": 240,
                        "learn": [
                          0.7617778293,
                          0.6548451412
                        ],
                        "passed_time": 4.140938423,
                        "remaining_time": 4.450220131,
                        "test": [
                          0.7511445958,
                          0.679716709
                        ]
                      },
                      {
                        "iteration": 241,
                        "learn": [
                          0.7617778293,
                          0.6547702557
                        ],
                        "passed_time": 4.154974981,
                        "remaining_time": 4.42968407,
                        "test": [
                          0.7512605042,
                          0.6797169086
                        ]
                      },
                      {
                        "iteration": 242,
                        "learn": [
                          0.761690908,
                          0.6546852632
                        ],
                        "passed_time": 4.169597904,
                        "remaining_time": 4.409821652,
                        "test": [
                          0.7512605042,
                          0.6797318753
                        ]
                      },
                      {
                        "iteration": 243,
                        "learn": [
                          0.7617488555,
                          0.6545865371
                        ],
                        "passed_time": 4.183639327,
                        "remaining_time": 4.389392081,
                        "test": [
                          0.7515502753,
                          0.6797567391
                        ]
                      },
                      {
                        "iteration": 244,
                        "learn": [
                          0.761806803,
                          0.6544944379
                        ],
                        "passed_time": 4.198116003,
                        "remaining_time": 4.369467677,
                        "test": [
                          0.7516661837,
                          0.6798039769
                        ]
                      },
                      {
                        "iteration": 245,
                        "learn": [
                          0.7619516718,
                          0.6544215882
                        ],
                        "passed_time": 4.212885701,
                        "remaining_time": 4.349890114,
                        "test": [
                          0.7516661837,
                          0.6798172527
                        ]
                      },
                      {
                        "iteration": 246,
                        "learn": [
                          0.7618357768,
                          0.6543256207
                        ],
                        "passed_time": 4.227280734,
                        "remaining_time": 4.329967716,
                        "test": [
                          0.7514923211,
                          0.6798112824
                        ]
                      },
                      {
                        "iteration": 247,
                        "learn": [
                          0.762038593,
                          0.6542693385
                        ],
                        "passed_time": 4.241358435,
                        "remaining_time": 4.309767442,
                        "test": [
                          0.75120255,
                          0.6798158906
                        ]
                      },
                      {
                        "iteration": 248,
                        "learn": [
                          0.7622124355,
                          0.654184465
                        ],
                        "passed_time": 4.255834925,
                        "remaining_time": 4.290018338,
                        "test": [
                          0.7513184584,
                          0.6798156762
                        ]
                      },
                      {
                        "iteration": 249,
                        "learn": [
                          0.7621255143,
                          0.6541062299
                        ],
                        "passed_time": 4.269401979,
                        "remaining_time": 4.269401979,
                        "test": [
                          0.7513184584,
                          0.6798347425
                        ]
                      },
                      {
                        "iteration": 250,
                        "learn": [
                          0.762154488,
                          0.6540397714
                        ],
                        "passed_time": 4.28407233,
                        "remaining_time": 4.249936296,
                        "test": [
                          0.7512605042,
                          0.6798212053
                        ]
                      },
                      {
                        "iteration": 251,
                        "learn": [
                          0.762154488,
                          0.6539736412
                        ],
                        "passed_time": 4.29886048,
                        "remaining_time": 4.230624599,
                        "test": [
                          0.7512605042,
                          0.6798054854
                        ]
                      },
                      {
                        "iteration": 252,
                        "learn": [
                          0.7621834618,
                          0.6539204123
                        ],
                        "passed_time": 4.312985317,
                        "remaining_time": 4.21070108,
                        "test": [
                          0.7513764126,
                          0.6798275427
                        ]
                      },
                      {
                        "iteration": 253,
                        "learn": [
                          0.7621834618,
                          0.6538816435
                        ],
                        "passed_time": 4.328362316,
                        "remaining_time": 4.192035944,
                        "test": [
                          0.7514343669,
                          0.6798194498
                        ]
                      },
                      {
                        "iteration": 254,
                        "learn": [
                          0.7622124355,
                          0.6538139319
                        ],
                        "passed_time": 4.342628884,
                        "remaining_time": 4.172329712,
                        "test": [
                          0.7514343669,
                          0.6798401338
                        ]
                      },
                      {
                        "iteration": 255,
                        "learn": [
                          0.7623573043,
                          0.6537166714
                        ],
                        "passed_time": 4.357704579,
                        "remaining_time": 4.153437177,
                        "test": [
                          0.7516082295,
                          0.6797924022
                        ]
                      },
                      {
                        "iteration": 256,
                        "learn": [
                          0.7623573043,
                          0.6536423645
                        ],
                        "passed_time": 4.37206952,
                        "remaining_time": 4.133902309,
                        "test": [
                          0.7514923211,
                          0.6797944104
                        ]
                      },
                      {
                        "iteration": 257,
                        "learn": [
                          0.7624152518,
                          0.6535311377
                        ],
                        "passed_time": 4.386693325,
                        "remaining_time": 4.114650328,
                        "test": [
                          0.7517820921,
                          0.6797875306
                        ]
                      },
                      {
                        "iteration": 258,
                        "learn": [
                          0.7625601205,
                          0.6534269989
                        ],
                        "passed_time": 4.400763353,
                        "remaining_time": 4.094918796,
                        "test": [
                          0.7518400464,
                          0.6798113653
                        ]
                      },
                      {
                        "iteration": 259,
                        "learn": [
                          0.7625601205,
                          0.653356905
                        ],
                        "passed_time": 4.415275336,
                        "remaining_time": 4.075638772,
                        "test": [
                          0.7517241379,
                          0.6798170703
                        ]
                      },
                      {
                        "iteration": 260,
                        "learn": [
                          0.7625890943,
                          0.6532933529
                        ],
                        "passed_time": 4.430631964,
                        "remaining_time": 4.057168733,
                        "test": [
                          0.7517820921,
                          0.6798001151
                        ]
                      },
                      {
                        "iteration": 261,
                        "learn": [
                          0.7626470418,
                          0.653207333
                        ],
                        "passed_time": 4.444507472,
                        "remaining_time": 4.037377017,
                        "test": [
                          0.7516661837,
                          0.6798111586
                        ]
                      },
                      {
                        "iteration": 262,
                        "learn": [
                          0.762502173,
                          0.6531137224
                        ],
                        "passed_time": 4.45934845,
                        "remaining_time": 4.018500314,
                        "test": [
                          0.7516082295,
                          0.6798289166
                        ]
                      },
                      {
                        "iteration": 263,
                        "learn": [
                          0.7624731993,
                          0.6530588389
                        ],
                        "passed_time": 4.474298411,
                        "remaining_time": 3.99975161,
                        "test": [
                          0.7515502753,
                          0.6798331605
                        ]
                      },
                      {
                        "iteration": 264,
                        "learn": [
                          0.762618068,
                          0.6529452698
                        ],
                        "passed_time": 4.48971209,
                        "remaining_time": 3.981442796,
                        "test": [
                          0.7517820921,
                          0.6798251917
                        ]
                      },
                      {
                        "iteration": 265,
                        "learn": [
                          0.7626470418,
                          0.6528649892
                        ],
                        "passed_time": 4.503897379,
                        "remaining_time": 3.962075138,
                        "test": [
                          0.7517820921,
                          0.6798127832
                        ]
                      },
                      {
                        "iteration": 266,
                        "learn": [
                          0.7625601205,
                          0.6527701121
                        ],
                        "passed_time": 4.521435677,
                        "remaining_time": 3.945672333,
                        "test": [
                          0.7517820921,
                          0.6798282627
                        ]
                      },
                      {
                        "iteration": 267,
                        "learn": [
                          0.7627629368,
                          0.6526973709
                        ],
                        "passed_time": 4.536073944,
                        "remaining_time": 3.926750578,
                        "test": [
                          0.7517241379,
                          0.6798536833
                        ]
                      },
                      {
                        "iteration": 268,
                        "learn": [
                          0.7627919105,
                          0.652632059
                        ],
                        "passed_time": 4.550296828,
                        "remaining_time": 3.907503968,
                        "test": [
                          0.7520718632,
                          0.679889071
                        ]
                      },
                      {
                        "iteration": 269,
                        "learn": [
                          0.7628208843,
                          0.6525147315
                        ],
                        "passed_time": 4.565636879,
                        "remaining_time": 3.88924623,
                        "test": [
                          0.7521298174,
                          0.6798906281
                        ]
                      },
                      {
                        "iteration": 270,
                        "learn": [
                          0.762849858,
                          0.6524050253
                        ],
                        "passed_time": 4.580784114,
                        "remaining_time": 3.870847093,
                        "test": [
                          0.7521877717,
                          0.679889609
                        ]
                      },
                      {
                        "iteration": 271,
                        "learn": [
                          0.7628788318,
                          0.6523414976
                        ],
                        "passed_time": 4.594891508,
                        "remaining_time": 3.851600235,
                        "test": [
                          0.7519559548,
                          0.6799077072
                        ]
                      },
                      {
                        "iteration": 272,
                        "learn": [
                          0.762965753,
                          0.6522692613
                        ],
                        "passed_time": 4.608520055,
                        "remaining_time": 3.831992866,
                        "test": [
                          0.7520718632,
                          0.679894664
                        ]
                      },
                      {
                        "iteration": 273,
                        "learn": [
                          0.762965753,
                          0.6521987908
                        ],
                        "passed_time": 4.623247669,
                        "remaining_time": 3.813335669,
                        "test": [
                          0.7518400464,
                          0.679876727
                        ]
                      },
                      {
                        "iteration": 274,
                        "learn": [
                          0.7628208843,
                          0.6520562115
                        ],
                        "passed_time": 4.637921901,
                        "remaining_time": 3.794663373,
                        "test": [
                          0.7516661837,
                          0.6799349144
                        ]
                      },
                      {
                        "iteration": 275,
                        "learn": [
                          0.7629078055,
                          0.6519788425
                        ],
                        "passed_time": 4.653554204,
                        "remaining_time": 3.776797615,
                        "test": [
                          0.7517820921,
                          0.6799405686
                        ]
                      },
                      {
                        "iteration": 276,
                        "learn": [
                          0.7631106218,
                          0.6518197937
                        ],
                        "passed_time": 4.66877706,
                        "remaining_time": 3.758618355,
                        "test": [
                          0.7518980006,
                          0.6800010174
                        ]
                      },
                      {
                        "iteration": 277,
                        "learn": [
                          0.763081648,
                          0.6517404261
                        ],
                        "passed_time": 4.682984278,
                        "remaining_time": 3.739649315,
                        "test": [
                          0.7517820921,
                          0.6799657661
                        ]
                      },
                      {
                        "iteration": 278,
                        "learn": [
                          0.763197543,
                          0.6516650817
                        ],
                        "passed_time": 4.69731486,
                        "remaining_time": 3.720812129,
                        "test": [
                          0.7517820921,
                          0.679972598
                        ]
                      },
                      {
                        "iteration": 279,
                        "learn": [
                          0.763197543,
                          0.6515885005
                        ],
                        "passed_time": 4.711371436,
                        "remaining_time": 3.701791842,
                        "test": [
                          0.7518980006,
                          0.6799840751
                        ]
                      },
                      {
                        "iteration": 280,
                        "learn": [
                          0.763197543,
                          0.651505251
                        ],
                        "passed_time": 4.725861823,
                        "remaining_time": 3.68314498,
                        "test": [
                          0.7517820921,
                          0.6799840959
                        ]
                      },
                      {
                        "iteration": 281,
                        "learn": [
                          0.7633713855,
                          0.6514277521
                        ],
                        "passed_time": 4.740503574,
                        "remaining_time": 3.664644607,
                        "test": [
                          0.7516661837,
                          0.6800254195
                        ]
                      },
                      {
                        "iteration": 282,
                        "learn": [
                          0.7634583068,
                          0.6513454653
                        ],
                        "passed_time": 4.788341678,
                        "remaining_time": 3.671625951,
                        "test": [
                          0.7515502753,
                          0.6800194745
                        ]
                      },
                      {
                        "iteration": 283,
                        "learn": [
                          0.7634872805,
                          0.6512500489
                        ],
                        "passed_time": 4.862061843,
                        "remaining_time": 3.69790619,
                        "test": [
                          0.7511445958,
                          0.680027197
                        ]
                      },
                      {
                        "iteration": 284,
                        "learn": [
                          0.7634872805,
                          0.6511278046
                        ],
                        "passed_time": 4.892677445,
                        "remaining_time": 3.690967195,
                        "test": [
                          0.7511445958,
                          0.6800591335
                        ]
                      },
                      {
                        "iteration": 285,
                        "learn": [
                          0.763661123,
                          0.6510445362
                        ],
                        "passed_time": 4.92518452,
                        "remaining_time": 3.685277928,
                        "test": [
                          0.7514343669,
                          0.6800735714
                        ]
                      },
                      {
                        "iteration": 286,
                        "learn": [
                          0.7635742018,
                          0.6509834467
                        ],
                        "passed_time": 4.940092283,
                        "remaining_time": 3.666340266,
                        "test": [
                          0.7514343669,
                          0.6800682826
                        ]
                      },
                      {
                        "iteration": 287,
                        "learn": [
                          0.763545228,
                          0.6509246904
                        ],
                        "passed_time": 4.954321187,
                        "remaining_time": 3.646930874,
                        "test": [
                          0.7513764126,
                          0.6800711342
                        ]
                      },
                      {
                        "iteration": 288,
                        "learn": [
                          0.7636900968,
                          0.6508277264
                        ],
                        "passed_time": 4.9685486,
                        "remaining_time": 3.627556245,
                        "test": [
                          0.7513184584,
                          0.6800676434
                        ]
                      },
                      {
                        "iteration": 289,
                        "learn": [
                          0.7638059918,
                          0.650739655
                        ],
                        "passed_time": 4.983369678,
                        "remaining_time": 3.608647008,
                        "test": [
                          0.7514343669,
                          0.6800851873
                        ]
                      },
                      {
                        "iteration": 290,
                        "learn": [
                          0.7638059918,
                          0.6506668255
                        ],
                        "passed_time": 4.997474963,
                        "remaining_time": 3.589251777,
                        "test": [
                          0.7513184584,
                          0.6800976998
                        ]
                      },
                      {
                        "iteration": 291,
                        "learn": [
                          0.7637480443,
                          0.6506169924
                        ],
                        "passed_time": 5.012443447,
                        "remaining_time": 3.570507661,
                        "test": [
                          0.7513184584,
                          0.6800909951
                        ]
                      },
                      {
                        "iteration": 292,
                        "learn": [
                          0.763892913,
                          0.6505676036
                        ],
                        "passed_time": 5.027353948,
                        "remaining_time": 3.551748352,
                        "test": [
                          0.7513184584,
                          0.680078361
                        ]
                      },
                      {
                        "iteration": 293,
                        "learn": [
                          0.7640667555,
                          0.6504983272
                        ],
                        "passed_time": 5.042007754,
                        "remaining_time": 3.532835365,
                        "test": [
                          0.7511445958,
                          0.6800901743
                        ]
                      },
                      {
                        "iteration": 294,
                        "learn": [
                          0.7639508605,
                          0.6504518992
                        ],
                        "passed_time": 5.056080741,
                        "remaining_time": 3.513547634,
                        "test": [
                          0.75120255,
                          0.6800892985
                        ]
                      },
                      {
                        "iteration": 295,
                        "learn": [
                          0.764008808,
                          0.65039818
                        ],
                        "passed_time": 5.070167575,
                        "remaining_time": 3.49430468,
                        "test": [
                          0.7509707331,
                          0.6801029868
                        ]
                      },
                      {
                        "iteration": 296,
                        "learn": [
                          0.764008808,
                          0.6502300157
                        ],
                        "passed_time": 5.085478966,
                        "remaining_time": 3.475933435,
                        "test": [
                          0.7510286873,
                          0.6800226086
                        ]
                      },
                      {
                        "iteration": 297,
                        "learn": [
                          0.7639798343,
                          0.6501518073
                        ],
                        "passed_time": 5.099633999,
                        "remaining_time": 3.456798885,
                        "test": [
                          0.7509127789,
                          0.6800182762
                        ]
                      },
                      {
                        "iteration": 298,
                        "learn": [
                          0.7640667555,
                          0.6500671905
                        ],
                        "passed_time": 5.113674442,
                        "remaining_time": 3.437620612,
                        "test": [
                          0.7509127789,
                          0.6800133764
                        ]
                      },
                      {
                        "iteration": 299,
                        "learn": [
                          0.7641826505,
                          0.6500048858
                        ],
                        "passed_time": 5.127854753,
                        "remaining_time": 3.418569835,
                        "test": [
                          0.7509127789,
                          0.6799981348
                        ]
                      },
                      {
                        "iteration": 300,
                        "learn": [
                          0.7641536768,
                          0.6499329322
                        ],
                        "passed_time": 5.142541401,
                        "remaining_time": 3.399886175,
                        "test": [
                          0.7511445958,
                          0.6799985203
                        ]
                      },
                      {
                        "iteration": 301,
                        "learn": [
                          0.7642116243,
                          0.6498950182
                        ],
                        "passed_time": 5.156343468,
                        "remaining_time": 3.380649029,
                        "test": [
                          0.7510866416,
                          0.6799918445
                        ]
                      },
                      {
                        "iteration": 302,
                        "learn": [
                          0.7644144405,
                          0.6498159958
                        ],
                        "passed_time": 5.170420719,
                        "remaining_time": 3.361626672,
                        "test": [
                          0.7512605042,
                          0.6800078423
                        ]
                      },
                      {
                        "iteration": 303,
                        "learn": [
                          0.7644144405,
                          0.649739895
                        ],
                        "passed_time": 5.184846879,
                        "remaining_time": 3.342861803,
                        "test": [
                          0.7514923211,
                          0.680024672
                        ]
                      },
                      {
                        "iteration": 304,
                        "learn": [
                          0.7642116243,
                          0.6496986886
                        ],
                        "passed_time": 5.199200591,
                        "remaining_time": 3.324079066,
                        "test": [
                          0.7516082295,
                          0.6800197729
                        ]
                      },
                      {
                        "iteration": 305,
                        "learn": [
                          0.7640667555,
                          0.6496293307
                        ],
                        "passed_time": 5.213797161,
                        "remaining_time": 3.305479246,
                        "test": [
                          0.7514343669,
                          0.6800421663
                        ]
                      },
                      {
                        "iteration": 306,
                        "learn": [
                          0.7640667555,
                          0.6494680218
                        ],
                        "passed_time": 5.228990671,
                        "remaining_time": 3.28728078,
                        "test": [
                          0.7514343669,
                          0.6800479296
                        ]
                      },
                      {
                        "iteration": 307,
                        "learn": [
                          0.7640957293,
                          0.6494009165
                        ],
                        "passed_time": 5.243624273,
                        "remaining_time": 3.268752793,
                        "test": [
                          0.7516661837,
                          0.680029028
                        ]
                      },
                      {
                        "iteration": 308,
                        "learn": [
                          0.7641826505,
                          0.6493318478
                        ],
                        "passed_time": 5.257436366,
                        "remaining_time": 3.24974222,
                        "test": [
                          0.7518400464,
                          0.6800450851
                        ]
                      },
                      {
                        "iteration": 309,
                        "learn": [
                          0.7644434143,
                          0.6492381705
                        ],
                        "passed_time": 5.272257138,
                        "remaining_time": 3.231383407,
                        "test": [
                          0.7516082295,
                          0.6800786619
                        ]
                      },
                      {
                        "iteration": 310,
                        "learn": [
                          0.764472388,
                          0.649162436
                        ],
                        "passed_time": 5.286881672,
                        "remaining_time": 3.21292809,
                        "test": [
                          0.7514923211,
                          0.6801006968
                        ]
                      },
                      {
                        "iteration": 311,
                        "learn": [
                          0.7645303355,
                          0.6490972177
                        ],
                        "passed_time": 5.300486641,
                        "remaining_time": 3.193882976,
                        "test": [
                          0.7514923211,
                          0.6801211697
                        ]
                      },
                      {
                        "iteration": 312,
                        "learn": [
                          0.7644144405,
                          0.6490172279
                        ],
                        "passed_time": 5.317129563,
                        "remaining_time": 3.17668763,
                        "test": [
                          0.7513184584,
                          0.6801534919
                        ]
                      },
                      {
                        "iteration": 313,
                        "learn": [
                          0.7643854668,
                          0.6489523505
                        ],
                        "passed_time": 5.331816783,
                        "remaining_time": 3.15833733,
                        "test": [
                          0.7513764126,
                          0.6801672768
                        ]
                      },
                      {
                        "iteration": 314,
                        "learn": [
                          0.7646752043,
                          0.6488550457
                        ],
                        "passed_time": 5.345498505,
                        "remaining_time": 3.139419757,
                        "test": [
                          0.7513764126,
                          0.6801765473
                        ]
                      },
                      {
                        "iteration": 315,
                        "learn": [
                          0.7646462305,
                          0.6488035608
                        ],
                        "passed_time": 5.358803144,
                        "remaining_time": 3.120315755,
                        "test": [
                          0.7511445958,
                          0.6801986613
                        ]
                      },
                      {
                        "iteration": 316,
                        "learn": [
                          0.7645593093,
                          0.6487342533
                        ],
                        "passed_time": 5.372929765,
                        "remaining_time": 3.101722861,
                        "test": [
                          0.75120255,
                          0.6801932834
                        ]
                      },
                      {
                        "iteration": 317,
                        "learn": [
                          0.764704178,
                          0.648668821
                        ],
                        "passed_time": 5.386587244,
                        "remaining_time": 3.082889554,
                        "test": [
                          0.7513184584,
                          0.6801947208
                        ]
                      },
                      {
                        "iteration": 318,
                        "learn": [
                          0.7645593093,
                          0.6485184134
                        ],
                        "passed_time": 5.402641433,
                        "remaining_time": 3.065448587,
                        "test": [
                          0.7512605042,
                          0.6801928284
                        ]
                      },
                      {
                        "iteration": 319,
                        "learn": [
                          0.7645303355,
                          0.6484156383
                        ],
                        "passed_time": 5.416852432,
                        "remaining_time": 3.046979493,
                        "test": [
                          0.7511445958,
                          0.6802339701
                        ]
                      },
                      {
                        "iteration": 320,
                        "learn": [
                          0.764588283,
                          0.6483703237
                        ],
                        "passed_time": 5.430106322,
                        "remaining_time": 3.028003214,
                        "test": [
                          0.7509707331,
                          0.680228119
                        ]
                      },
                      {
                        "iteration": 321,
                        "learn": [
                          0.7647621255,
                          0.6483081842
                        ],
                        "passed_time": 5.44390388,
                        "remaining_time": 3.009363014,
                        "test": [
                          0.7510286873,
                          0.6802291757
                        ]
                      },
                      {
                        "iteration": 322,
                        "learn": [
                          0.7647621255,
                          0.6482152281
                        ],
                        "passed_time": 5.458920404,
                        "remaining_time": 2.991420779,
                        "test": [
                          0.75120255,
                          0.6802459738
                        ]
                      },
                      {
                        "iteration": 323,
                        "learn": [
                          0.7647910993,
                          0.648050484
                        ],
                        "passed_time": 5.474837351,
                        "remaining_time": 2.973985721,
                        "test": [
                          0.7512605042,
                          0.680233475
                        ]
                      },
                      {
                        "iteration": 324,
                        "learn": [
                          0.7649649418,
                          0.6479849061
                        ],
                        "passed_time": 5.489031803,
                        "remaining_time": 2.955632509,
                        "test": [
                          0.7510866416,
                          0.6802244053
                        ]
                      },
                      {
                        "iteration": 325,
                        "learn": [
                          0.7649649418,
                          0.6479257065
                        ],
                        "passed_time": 5.503407004,
                        "remaining_time": 2.937401284,
                        "test": [
                          0.7511445958,
                          0.6802549881
                        ]
                      },
                      {
                        "iteration": 326,
                        "learn": [
                          0.7650228893,
                          0.6478256521
                        ],
                        "passed_time": 5.52239177,
                        "remaining_time": 2.921632343,
                        "test": [
                          0.75120255,
                          0.6802906956
                        ]
                      },
                      {
                        "iteration": 327,
                        "learn": [
                          0.7651387843,
                          0.6477334656
                        ],
                        "passed_time": 5.537014788,
                        "remaining_time": 2.903556535,
                        "test": [
                          0.7510866416,
                          0.6803524999
                        ]
                      },
                      {
                        "iteration": 328,
                        "learn": [
                          0.765167758,
                          0.6476739725
                        ],
                        "passed_time": 5.551142399,
                        "remaining_time": 2.885244226,
                        "test": [
                          0.7511445958,
                          0.6803217953
                        ]
                      },
                      {
                        "iteration": 329,
                        "learn": [
                          0.7651387843,
                          0.6475818895
                        ],
                        "passed_time": 5.565186979,
                        "remaining_time": 2.866914505,
                        "test": [
                          0.7511445958,
                          0.6802991276
                        ]
                      },
                      {
                        "iteration": 330,
                        "learn": [
                          0.7651967318,
                          0.6474773881
                        ],
                        "passed_time": 5.58021185,
                        "remaining_time": 2.849111186,
                        "test": [
                          0.7511445958,
                          0.6802921502
                        ]
                      },
                      {
                        "iteration": 331,
                        "learn": [
                          0.7654285218,
                          0.6473840548
                        ],
                        "passed_time": 5.593717682,
                        "remaining_time": 2.830555935,
                        "test": [
                          0.7511445958,
                          0.6802872595
                        ]
                      },
                      {
                        "iteration": 332,
                        "learn": [
                          0.7654864693,
                          0.6472791255
                        ],
                        "passed_time": 5.608131627,
                        "remaining_time": 2.812486431,
                        "test": [
                          0.7510866416,
                          0.6803085914
                        ]
                      },
                      {
                        "iteration": 333,
                        "learn": [
                          0.7654864693,
                          0.6471690303
                        ],
                        "passed_time": 5.622658756,
                        "remaining_time": 2.79449507,
                        "test": [
                          0.7513184584,
                          0.6802912714
                        ]
                      },
                      {
                        "iteration": 334,
                        "learn": [
                          0.7655444168,
                          0.6471319848
                        ],
                        "passed_time": 5.636517252,
                        "remaining_time": 2.776195064,
                        "test": [
                          0.7512605042,
                          0.6802922259
                        ]
                      },
                      {
                        "iteration": 335,
                        "learn": [
                          0.7654574955,
                          0.6470746394
                        ],
                        "passed_time": 5.652006221,
                        "remaining_time": 2.758717322,
                        "test": [
                          0.7511445958,
                          0.6803105742
                        ]
                      },
                      {
                        "iteration": 336,
                        "learn": [
                          0.765399548,
                          0.6469348045
                        ],
                        "passed_time": 5.666933401,
                        "remaining_time": 2.740979657,
                        "test": [
                          0.7510286873,
                          0.6803288191
                        ]
                      },
                      {
                        "iteration": 337,
                        "learn": [
                          0.765399548,
                          0.6468296852
                        ],
                        "passed_time": 5.681234085,
                        "remaining_time": 2.722958348,
                        "test": [
                          0.7510866416,
                          0.6803354027
                        ]
                      },
                      {
                        "iteration": 338,
                        "learn": [
                          0.7655733905,
                          0.6467448766
                        ],
                        "passed_time": 5.694680572,
                        "remaining_time": 2.70455331,
                        "test": [
                          0.7509127789,
                          0.6803111804
                        ]
                      },
                      {
                        "iteration": 339,
                        "learn": [
                          0.7655444168,
                          0.6466501514
                        ],
                        "passed_time": 5.709079425,
                        "remaining_time": 2.686625612,
                        "test": [
                          0.7509707331,
                          0.6803362691
                        ]
                      },
                      {
                        "iteration": 340,
                        "learn": [
                          0.7655444168,
                          0.6465767127
                        ],
                        "passed_time": 5.724357844,
                        "remaining_time": 2.669128731,
                        "test": [
                          0.75120255,
                          0.6803432923
                        ]
                      },
                      {
                        "iteration": 341,
                        "learn": [
                          0.7654864693,
                          0.6465277091
                        ],
                        "passed_time": 5.738935592,
                        "remaining_time": 2.651321121,
                        "test": [
                          0.7511445958,
                          0.6803144643
                        ]
                      },
                      {
                        "iteration": 342,
                        "learn": [
                          0.7654864693,
                          0.6464927353
                        ],
                        "passed_time": 5.752621321,
                        "remaining_time": 2.633124045,
                        "test": [
                          0.7511445958,
                          0.6803440525
                        ]
                      },
                      {
                        "iteration": 343,
                        "learn": [
                          0.7655444168,
                          0.6463690627
                        ],
                        "passed_time": 5.77811842,
                        "remaining_time": 2.620309516,
                        "test": [
                          0.7510866416,
                          0.6803811899
                        ]
                      },
                      {
                        "iteration": 344,
                        "learn": [
                          0.765631338,
                          0.6463118928
                        ],
                        "passed_time": 5.792048839,
                        "remaining_time": 2.602224841,
                        "test": [
                          0.7507968705,
                          0.6803987858
                        ]
                      },
                      {
                        "iteration": 345,
                        "learn": [
                          0.7655733905,
                          0.646221696
                        ],
                        "passed_time": 5.806847137,
                        "remaining_time": 2.58455046,
                        "test": [
                          0.7509707331,
                          0.6804284249
                        ]
                      },
                      {
                        "iteration": 346,
                        "learn": [
                          0.765747233,
                          0.6461352265
                        ],
                        "passed_time": 5.821716349,
                        "remaining_time": 2.566923923,
                        "test": [
                          0.7510866416,
                          0.6804207651
                        ]
                      },
                      {
                        "iteration": 347,
                        "learn": [
                          0.7657182593,
                          0.646015691
                        ],
                        "passed_time": 5.872278176,
                        "remaining_time": 2.564903111,
                        "test": [
                          0.7510866416,
                          0.680410963
                        ]
                      },
                      {
                        "iteration": 348,
                        "learn": [
                          0.7657762068,
                          0.6459709428
                        ],
                        "passed_time": 5.923849933,
                        "remaining_time": 2.563041088,
                        "test": [
                          0.7509707331,
                          0.6804005853
                        ]
                      },
                      {
                        "iteration": 349,
                        "learn": [
                          0.7657762068,
                          0.6459101256
                        ],
                        "passed_time": 5.953490231,
                        "remaining_time": 2.551495813,
                        "test": [
                          0.7508548247,
                          0.6804117489
                        ]
                      },
                      {
                        "iteration": 350,
                        "learn": [
                          0.7657182593,
                          0.6458359606
                        ],
                        "passed_time": 5.982314499,
                        "remaining_time": 2.539501027,
                        "test": [
                          0.7507968705,
                          0.6804200406
                        ]
                      },
                      {
                        "iteration": 351,
                        "learn": [
                          0.7656603118,
                          0.6457765556
                        ],
                        "passed_time": 6.015005828,
                        "remaining_time": 2.529036541,
                        "test": [
                          0.7507968705,
                          0.6804248166
                        ]
                      },
                      {
                        "iteration": 352,
                        "learn": [
                          0.7657182593,
                          0.6457243803
                        ],
                        "passed_time": 6.037653897,
                        "remaining_time": 2.514263804,
                        "test": [
                          0.7510866416,
                          0.6804448499
                        ]
                      },
                      {
                        "iteration": 353,
                        "learn": [
                          0.7658051805,
                          0.6456365707
                        ],
                        "passed_time": 6.05279851,
                        "remaining_time": 2.496351928,
                        "test": [
                          0.7510866416,
                          0.680417705
                        ]
                      },
                      {
                        "iteration": 354,
                        "learn": [
                          0.7657762068,
                          0.6455935782
                        ],
                        "passed_time": 6.066343625,
                        "remaining_time": 2.477802326,
                        "test": [
                          0.7510866416,
                          0.6804167908
                        ]
                      },
                      {
                        "iteration": 355,
                        "learn": [
                          0.7660079968,
                          0.6455393846
                        ],
                        "passed_time": 6.080364457,
                        "remaining_time": 2.459473264,
                        "test": [
                          0.7510866416,
                          0.680449022
                        ]
                      },
                      {
                        "iteration": 356,
                        "learn": [
                          0.7659500493,
                          0.6454771039
                        ],
                        "passed_time": 6.095185594,
                        "remaining_time": 2.441488907,
                        "test": [
                          0.7510866416,
                          0.6804593211
                        ]
                      },
                      {
                        "iteration": 357,
                        "learn": [
                          0.7659500493,
                          0.6454107256
                        ],
                        "passed_time": 6.109764933,
                        "remaining_time": 2.423426314,
                        "test": [
                          0.7511445958,
                          0.6804493246
                        ]
                      },
                      {
                        "iteration": 358,
                        "learn": [
                          0.7657762068,
                          0.6453076334
                        ],
                        "passed_time": 6.124577472,
                        "remaining_time": 2.405474717,
                        "test": [
                          0.7510866416,
                          0.6804448127
                        ]
                      },
                      {
                        "iteration": 359,
                        "learn": [
                          0.7658051805,
                          0.6452314305
                        ],
                        "passed_time": 6.139127788,
                        "remaining_time": 2.387438584,
                        "test": [
                          0.7511445958,
                          0.6804457154
                        ]
                      },
                      {
                        "iteration": 360,
                        "learn": [
                          0.765979023,
                          0.6451410843
                        ],
                        "passed_time": 6.152925863,
                        "remaining_time": 2.369132119,
                        "test": [
                          0.7510866416,
                          0.6803972983
                        ]
                      },
                      {
                        "iteration": 361,
                        "learn": [
                          0.7660079968,
                          0.6450632353
                        ],
                        "passed_time": 6.167617536,
                        "remaining_time": 2.351191215,
                        "test": [
                          0.7511445958,
                          0.6803970177
                        ]
                      },
                      {
                        "iteration": 362,
                        "learn": [
                          0.7661528655,
                          0.6449830874
                        ],
                        "passed_time": 6.181760546,
                        "remaining_time": 2.333061143,
                        "test": [
                          0.7513764126,
                          0.680421094
                        ]
                      },
                      {
                        "iteration": 363,
                        "learn": [
                          0.7660079968,
                          0.6449318493
                        ],
                        "passed_time": 6.19573709,
                        "remaining_time": 2.314890781,
                        "test": [
                          0.7512605042,
                          0.6804522067
                        ]
                      },
                      {
                        "iteration": 364,
                        "learn": [
                          0.7661238918,
                          0.6448381801
                        ],
                        "passed_time": 6.210559772,
                        "remaining_time": 2.297056354,
                        "test": [
                          0.7513184584,
                          0.6804780495
                        ]
                      },
                      {
                        "iteration": 365,
                        "learn": [
                          0.7661238918,
                          0.644774131
                        ],
                        "passed_time": 6.224990862,
                        "remaining_time": 2.279095015,
                        "test": [
                          0.7513764126,
                          0.6804685331
                        ]
                      },
                      {
                        "iteration": 366,
                        "learn": [
                          0.7661528655,
                          0.6446961496
                        ],
                        "passed_time": 6.239636578,
                        "remaining_time": 2.261230694,
                        "test": [
                          0.7510866416,
                          0.6805081504
                        ]
                      },
                      {
                        "iteration": 367,
                        "learn": [
                          0.7662397868,
                          0.6446373688
                        ],
                        "passed_time": 6.253652551,
                        "remaining_time": 2.24315798,
                        "test": [
                          0.7512605042,
                          0.6805530786
                        ]
                      },
                      {
                        "iteration": 368,
                        "learn": [
                          0.766210813,
                          0.6445213112
                        ],
                        "passed_time": 6.268483867,
                        "remaining_time": 2.225396711,
                        "test": [
                          0.7512605042,
                          0.6805477213
                        ]
                      },
                      {
                        "iteration": 369,
                        "learn": [
                          0.7662687605,
                          0.6444572197
                        ],
                        "passed_time": 6.283229928,
                        "remaining_time": 2.207621326,
                        "test": [
                          0.75120255,
                          0.6805937235
                        ]
                      },
                      {
                        "iteration": 370,
                        "learn": [
                          0.7661528655,
                          0.6444035584
                        ],
                        "passed_time": 6.297713461,
                        "remaining_time": 2.189770988,
                        "test": [
                          0.7513764126,
                          0.6805780381
                        ]
                      },
                      {
                        "iteration": 371,
                        "learn": [
                          0.766326708,
                          0.6443297606
                        ],
                        "passed_time": 6.314439172,
                        "remaining_time": 2.172710253,
                        "test": [
                          0.7513184584,
                          0.6805885003
                        ]
                      },
                      {
                        "iteration": 372,
                        "learn": [
                          0.7664136293,
                          0.6442847098
                        ],
                        "passed_time": 6.328317172,
                        "remaining_time": 2.154681718,
                        "test": [
                          0.7512605042,
                          0.680608657
                        ]
                      },
                      {
                        "iteration": 373,
                        "learn": [
                          0.7664136293,
                          0.6441845132
                        ],
                        "passed_time": 6.342923391,
                        "remaining_time": 2.136920715,
                        "test": [
                          0.7514343669,
                          0.6805842969
                        ]
                      },
                      {
                        "iteration": 374,
                        "learn": [
                          0.7665005505,
                          0.6441219875
                        ],
                        "passed_time": 6.358005556,
                        "remaining_time": 2.119335185,
                        "test": [
                          0.7513184584,
                          0.6805850644
                        ]
                      },
                      {
                        "iteration": 375,
                        "learn": [
                          0.7664715768,
                          0.6440693767
                        ],
                        "passed_time": 6.372217859,
                        "remaining_time": 2.101476103,
                        "test": [
                          0.7513184584,
                          0.6805530137
                        ]
                      },
                      {
                        "iteration": 376,
                        "learn": [
                          0.7663846555,
                          0.6440066095
                        ],
                        "passed_time": 6.387137578,
                        "remaining_time": 2.083867167,
                        "test": [
                          0.7514923211,
                          0.680569485
                        ]
                      },
                      {
                        "iteration": 377,
                        "learn": [
                          0.766558498,
                          0.6439501913
                        ],
                        "passed_time": 6.400919411,
                        "remaining_time": 2.065905207,
                        "test": [
                          0.7515502753,
                          0.6805592282
                        ]
                      },
                      {
                        "iteration": 378,
                        "learn": [
                          0.7665295243,
                          0.6438370288
                        ],
                        "passed_time": 6.415880395,
                        "remaining_time": 2.048341762,
                        "test": [
                          0.7514923211,
                          0.6805080742
                        ]
                      },
                      {
                        "iteration": 379,
                        "learn": [
                          0.7667613142,
                          0.6437027488
                        ],
                        "passed_time": 6.431435376,
                        "remaining_time": 2.030979592,
                        "test": [
                          0.7513764126,
                          0.6805509774
                        ]
                      },
                      {
                        "iteration": 380,
                        "learn": [
                          0.7668192617,
                          0.6436319853
                        ],
                        "passed_time": 6.446218608,
                        "remaining_time": 2.013385864,
                        "test": [
                          0.7513764126,
                          0.6805353576
                        ]
                      },
                      {
                        "iteration": 381,
                        "learn": [
                          0.766558498,
                          0.6435437215
                        ],
                        "passed_time": 6.461193968,
                        "remaining_time": 1.9958662,
                        "test": [
                          0.7513184584,
                          0.6805438035
                        ]
                      },
                      {
                        "iteration": 382,
                        "learn": [
                          0.7667613142,
                          0.6434504103
                        ],
                        "passed_time": 6.475678909,
                        "remaining_time": 1.978210006,
                        "test": [
                          0.7513764126,
                          0.6805818039
                        ]
                      },
                      {
                        "iteration": 383,
                        "learn": [
                          0.7667323405,
                          0.643359317
                        ],
                        "passed_time": 6.490532098,
                        "remaining_time": 1.960681571,
                        "test": [
                          0.7513764126,
                          0.6806080704
                        ]
                      },
                      {
                        "iteration": 384,
                        "learn": [
                          0.7667033667,
                          0.6433118193
                        ],
                        "passed_time": 6.504025777,
                        "remaining_time": 1.942760946,
                        "test": [
                          0.7513184584,
                          0.6806234962
                        ]
                      },
                      {
                        "iteration": 385,
                        "learn": [
                          0.7667613142,
                          0.6432541047
                        ],
                        "passed_time": 6.518902355,
                        "remaining_time": 1.92527168,
                        "test": [
                          0.7511445958,
                          0.6806158455
                        ]
                      },
                      {
                        "iteration": 386,
                        "learn": [
                          0.7668482355,
                          0.6431850611
                        ],
                        "passed_time": 6.53294116,
                        "remaining_time": 1.907551295,
                        "test": [
                          0.7511445958,
                          0.6806464231
                        ]
                      },
                      {
                        "iteration": 387,
                        "learn": [
                          0.7669351567,
                          0.6431099912
                        ],
                        "passed_time": 6.546819026,
                        "remaining_time": 1.88980343,
                        "test": [
                          0.7513764126,
                          0.6806341276
                        ]
                      },
                      {
                        "iteration": 388,
                        "learn": [
                          0.7669931042,
                          0.6430577184
                        ],
                        "passed_time": 6.56086758,
                        "remaining_time": 1.872124168,
                        "test": [
                          0.7512605042,
                          0.6806466584
                        ]
                      },
                      {
                        "iteration": 389,
                        "learn": [
                          0.7669641305,
                          0.642978003
                        ],
                        "passed_time": 6.575412909,
                        "remaining_time": 1.854603641,
                        "test": [
                          0.7512605042,
                          0.6806555521
                        ]
                      },
                      {
                        "iteration": 390,
                        "learn": [
                          0.7669931042,
                          0.6429270125
                        ],
                        "passed_time": 6.589068242,
                        "remaining_time": 1.836850226,
                        "test": [
                          0.7512605042,
                          0.6806674014
                        ]
                      },
                      {
                        "iteration": 391,
                        "learn": [
                          0.7669931042,
                          0.6428197305
                        ],
                        "passed_time": 6.604549861,
                        "remaining_time": 1.81962088,
                        "test": [
                          0.7513184584,
                          0.6806429637
                        ]
                      },
                      {
                        "iteration": 392,
                        "learn": [
                          0.7668192617,
                          0.6427510486
                        ],
                        "passed_time": 6.619038759,
                        "remaining_time": 1.802130146,
                        "test": [
                          0.7514923211,
                          0.680647256
                        ]
                      },
                      {
                        "iteration": 393,
                        "learn": [
                          0.7668192617,
                          0.6426850305
                        ],
                        "passed_time": 6.633756799,
                        "remaining_time": 1.784716296,
                        "test": [
                          0.7516082295,
                          0.6806434771
                        ]
                      },
                      {
                        "iteration": 394,
                        "learn": [
                          0.7668772092,
                          0.6425943056
                        ],
                        "passed_time": 6.650521755,
                        "remaining_time": 1.767860213,
                        "test": [
                          0.7517820921,
                          0.6806505353
                        ]
                      },
                      {
                        "iteration": 395,
                        "learn": [
                          0.766906183,
                          0.6425230817
                        ],
                        "passed_time": 6.665476407,
                        "remaining_time": 1.750529157,
                        "test": [
                          0.7517241379,
                          0.680645006
                        ]
                      },
                      {
                        "iteration": 396,
                        "learn": [
                          0.7669351567,
                          0.6424489812
                        ],
                        "passed_time": 6.679785088,
                        "remaining_time": 1.733042479,
                        "test": [
                          0.7516661837,
                          0.6806654583
                        ]
                      },
                      {
                        "iteration": 397,
                        "learn": [
                          0.766906183,
                          0.642356571
                        ],
                        "passed_time": 6.694433749,
                        "remaining_time": 1.715658901,
                        "test": [
                          0.7514343669,
                          0.6806342996
                        ]
                      },
                      {
                        "iteration": 398,
                        "learn": [
                          0.7671089992,
                          0.6422717521
                        ],
                        "passed_time": 6.708154582,
                        "remaining_time": 1.698054167,
                        "test": [
                          0.7514343669,
                          0.6806724087
                        ]
                      },
                      {
                        "iteration": 399,
                        "learn": [
                          0.767253868,
                          0.6422022788
                        ],
                        "passed_time": 6.722409536,
                        "remaining_time": 1.680602384,
                        "test": [
                          0.7513764126,
                          0.6806492252
                        ]
                      },
                      {
                        "iteration": 400,
                        "learn": [
                          0.7674566842,
                          0.6421443165
                        ],
                        "passed_time": 6.736705492,
                        "remaining_time": 1.663176668,
                        "test": [
                          0.7513764126,
                          0.6806434027
                        ]
                      },
                      {
                        "iteration": 401,
                        "learn": [
                          0.7673987367,
                          0.6420980627
                        ],
                        "passed_time": 6.750727868,
                        "remaining_time": 1.645699828,
                        "test": [
                          0.7513184584,
                          0.6806615499
                        ]
                      },
                      {
                        "iteration": 402,
                        "learn": [
                          0.7674566842,
                          0.6420076718
                        ],
                        "passed_time": 6.764876014,
                        "remaining_time": 1.628270405,
                        "test": [
                          0.7513764126,
                          0.6806765793
                        ]
                      },
                      {
                        "iteration": 403,
                        "learn": [
                          0.767601553,
                          0.6419024565
                        ],
                        "passed_time": 6.793672275,
                        "remaining_time": 1.614337966,
                        "test": [
                          0.7513184584,
                          0.680681848
                        ]
                      },
                      {
                        "iteration": 404,
                        "learn": [
                          0.7675146317,
                          0.6418123308
                        ],
                        "passed_time": 6.808786518,
                        "remaining_time": 1.597122763,
                        "test": [
                          0.75120255,
                          0.6806741567
                        ]
                      },
                      {
                        "iteration": 405,
                        "learn": [
                          0.7675725792,
                          0.6417182239
                        ],
                        "passed_time": 6.823926459,
                        "remaining_time": 1.57992386,
                        "test": [
                          0.7512605042,
                          0.6806683403
                        ]
                      },
                      {
                        "iteration": 406,
                        "learn": [
                          0.7676595005,
                          0.6416171688
                        ],
                        "passed_time": 6.838383001,
                        "remaining_time": 1.562578917,
                        "test": [
                          0.7511445958,
                          0.6806452748
                        ]
                      },
                      {
                        "iteration": 407,
                        "learn": [
                          0.7678623167,
                          0.6415539746
                        ],
                        "passed_time": 6.853241238,
                        "remaining_time": 1.54533871,
                        "test": [
                          0.7513184584,
                          0.6806389878
                        ]
                      },
                      {
                        "iteration": 408,
                        "learn": [
                          0.767833343,
                          0.6414371432
                        ],
                        "passed_time": 6.868755831,
                        "remaining_time": 1.528256187,
                        "test": [
                          0.7513184584,
                          0.6806077845
                        ]
                      },
                      {
                        "iteration": 409,
                        "learn": [
                          0.767833343,
                          0.6413841242
                        ],
                        "passed_time": 6.882681709,
                        "remaining_time": 1.51083257,
                        "test": [
                          0.7511445958,
                          0.6806339991
                        ]
                      },
                      {
                        "iteration": 410,
                        "learn": [
                          0.767949238,
                          0.6413259696
                        ],
                        "passed_time": 6.896106921,
                        "remaining_time": 1.493317557,
                        "test": [
                          0.7512605042,
                          0.6806166005
                        ]
                      },
                      {
                        "iteration": 411,
                        "learn": [
                          0.768065133,
                          0.6412238422
                        ],
                        "passed_time": 6.910376522,
                        "remaining_time": 1.476002752,
                        "test": [
                          0.7510866416,
                          0.6805903233
                        ]
                      },
                      {
                        "iteration": 412,
                        "learn": [
                          0.767949238,
                          0.6411269835
                        ],
                        "passed_time": 6.977899088,
                        "remaining_time": 1.469920631,
                        "test": [
                          0.7510866416,
                          0.6805938093
                        ]
                      },
                      {
                        "iteration": 413,
                        "learn": [
                          0.7679782117,
                          0.6410517559
                        ],
                        "passed_time": 7.022242111,
                        "remaining_time": 1.458726622,
                        "test": [
                          0.7510286873,
                          0.6805802698
                        ]
                      },
                      {
                        "iteration": 414,
                        "learn": [
                          0.7679202642,
                          0.6409665757
                        ],
                        "passed_time": 7.04965234,
                        "remaining_time": 1.443904696,
                        "test": [
                          0.7512605042,
                          0.6806047421
                        ]
                      },
                      {
                        "iteration": 415,
                        "learn": [
                          0.7679202642,
                          0.6409081919
                        ],
                        "passed_time": 7.079110831,
                        "remaining_time": 1.429435841,
                        "test": [
                          0.7513764126,
                          0.6806238422
                        ]
                      },
                      {
                        "iteration": 416,
                        "learn": [
                          0.7681520542,
                          0.6408466717
                        ],
                        "passed_time": 7.10122203,
                        "remaining_time": 1.413432682,
                        "test": [
                          0.7513764126,
                          0.6806115599
                        ]
                      },
                      {
                        "iteration": 417,
                        "learn": [
                          0.7680361592,
                          0.64073427
                        ],
                        "passed_time": 7.116724652,
                        "remaining_time": 1.396103879,
                        "test": [
                          0.7513184584,
                          0.6805921803
                        ]
                      },
                      {
                        "iteration": 418,
                        "learn": [
                          0.768065133,
                          0.6406173922
                        ],
                        "passed_time": 7.131815942,
                        "remaining_time": 1.378704275,
                        "test": [
                          0.7513184584,
                          0.6806112634
                        ]
                      },
                      {
                        "iteration": 419,
                        "learn": [
                          0.7682100017,
                          0.6405434741
                        ],
                        "passed_time": 7.146373842,
                        "remaining_time": 1.361214065,
                        "test": [
                          0.7512605042,
                          0.6806446769
                        ]
                      },
                      {
                        "iteration": 420,
                        "learn": [
                          0.7681230805,
                          0.6404763216
                        ],
                        "passed_time": 7.160785061,
                        "remaining_time": 1.343710261,
                        "test": [
                          0.7513764126,
                          0.6806598298
                        ]
                      },
                      {
                        "iteration": 421,
                        "learn": [
                          0.7682389755,
                          0.6404082639
                        ],
                        "passed_time": 7.174896252,
                        "remaining_time": 1.326165658,
                        "test": [
                          0.7516661837,
                          0.6806855883
                        ]
                      },
                      {
                        "iteration": 422,
                        "learn": [
                          0.7681230805,
                          0.6403148322
                        ],
                        "passed_time": 7.189455455,
                        "remaining_time": 1.308718842,
                        "test": [
                          0.7514343669,
                          0.6806715357
                        ]
                      },
                      {
                        "iteration": 423,
                        "learn": [
                          0.7680941067,
                          0.6402513396
                        ],
                        "passed_time": 7.204588338,
                        "remaining_time": 1.291388476,
                        "test": [
                          0.7514343669,
                          0.6806928255
                        ]
                      },
                      {
                        "iteration": 424,
                        "learn": [
                          0.7680941067,
                          0.6402027281
                        ],
                        "passed_time": 7.218619049,
                        "remaining_time": 1.27387395,
                        "test": [
                          0.7513764126,
                          0.6806964384
                        ]
                      },
                      {
                        "iteration": 425,
                        "learn": [
                          0.7680941067,
                          0.640136054
                        ],
                        "passed_time": 7.232378648,
                        "remaining_time": 1.256328685,
                        "test": [
                          0.7514343669,
                          0.6807042104
                        ]
                      },
                      {
                        "iteration": 426,
                        "learn": [
                          0.7680941067,
                          0.6400606918
                        ],
                        "passed_time": 7.247572704,
                        "remaining_time": 1.239046387,
                        "test": [
                          0.7513764126,
                          0.6807322173
                        ]
                      },
                      {
                        "iteration": 427,
                        "learn": [
                          0.7682100017,
                          0.6399878504
                        ],
                        "passed_time": 7.261922212,
                        "remaining_time": 1.221631774,
                        "test": [
                          0.7513184584,
                          0.6807310396
                        ]
                      },
                      {
                        "iteration": 428,
                        "learn": [
                          0.7681520542,
                          0.6398664294
                        ],
                        "passed_time": 7.276942518,
                        "remaining_time": 1.204342468,
                        "test": [
                          0.7512605042,
                          0.6807611406
                        ]
                      },
                      {
                        "iteration": 429,
                        "learn": [
                          0.7680941067,
                          0.6397892525
                        ],
                        "passed_time": 7.291564317,
                        "remaining_time": 1.186998842,
                        "test": [
                          0.7513184584,
                          0.6807658569
                        ]
                      },
                      {
                        "iteration": 430,
                        "learn": [
                          0.768181028,
                          0.6397365886
                        ],
                        "passed_time": 7.308620979,
                        "remaining_time": 1.170057651,
                        "test": [
                          0.7513764126,
                          0.6807729113
                        ]
                      },
                      {
                        "iteration": 431,
                        "learn": [
                          0.7683838442,
                          0.6396519152
                        ],
                        "passed_time": 7.323480864,
                        "remaining_time": 1.152770136,
                        "test": [
                          0.7514923211,
                          0.680816798
                        ]
                      },
                      {
                        "iteration": 432,
                        "learn": [
                          0.7682679492,
                          0.6396057713
                        ],
                        "passed_time": 7.337988902,
                        "remaining_time": 1.135439391,
                        "test": [
                          0.7514923211,
                          0.680834796
                        ]
                      },
                      {
                        "iteration": 433,
                        "learn": [
                          0.7682389755,
                          0.6395592138
                        ],
                        "passed_time": 7.351939321,
                        "remaining_time": 1.118036855,
                        "test": [
                          0.7514923211,
                          0.6808105655
                        ]
                      },
                      {
                        "iteration": 434,
                        "learn": [
                          0.7682679492,
                          0.6394907482
                        ],
                        "passed_time": 7.366335588,
                        "remaining_time": 1.100716812,
                        "test": [
                          0.7515502753,
                          0.6808309638
                        ]
                      },
                      {
                        "iteration": 435,
                        "learn": [
                          0.768528713,
                          0.6394068026
                        ],
                        "passed_time": 7.380527944,
                        "remaining_time": 1.083380249,
                        "test": [
                          0.7515502753,
                          0.6808458345
                        ]
                      },
                      {
                        "iteration": 436,
                        "learn": [
                          0.7684997392,
                          0.6393178976
                        ],
                        "passed_time": 7.394500413,
                        "remaining_time": 1.066026375,
                        "test": [
                          0.7515502753,
                          0.6809154144
                        ]
                      },
                      {
                        "iteration": 437,
                        "learn": [
                          0.7684707655,
                          0.6392242267
                        ],
                        "passed_time": 7.409381528,
                        "remaining_time": 1.048816563,
                        "test": [
                          0.7517241379,
                          0.6808995117
                        ]
                      },
                      {
                        "iteration": 438,
                        "learn": [
                          0.768644608,
                          0.639145347
                        ],
                        "passed_time": 7.423577395,
                        "remaining_time": 1.031522144,
                        "test": [
                          0.7516661837,
                          0.6809259304
                        ]
                      },
                      {
                        "iteration": 439,
                        "learn": [
                          0.768644608,
                          0.6390875129
                        ],
                        "passed_time": 7.437324848,
                        "remaining_time": 1.014180661,
                        "test": [
                          0.7517820921,
                          0.6809216978
                        ]
                      },
                      {
                        "iteration": 440,
                        "learn": [
                          0.7685576867,
                          0.6390033076
                        ],
                        "passed_time": 7.452330757,
                        "remaining_time": 0.9970238428,
                        "test": [
                          0.7515502753,
                          0.680933694
                        ]
                      },
                      {
                        "iteration": 441,
                        "learn": [
                          0.7685576867,
                          0.6389275225
                        ],
                        "passed_time": 7.467122581,
                        "remaining_time": 0.9798486645,
                        "test": [
                          0.7516661837,
                          0.6809043876
                        ]
                      },
                      {
                        "iteration": 442,
                        "learn": [
                          0.7685576867,
                          0.6388138428
                        ],
                        "passed_time": 7.482127903,
                        "remaining_time": 0.9627117167,
                        "test": [
                          0.7516082295,
                          0.6809166065
                        ]
                      },
                      {
                        "iteration": 443,
                        "learn": [
                          0.7686735817,
                          0.6387312466
                        ],
                        "passed_time": 7.496432805,
                        "remaining_time": 0.9454960295,
                        "test": [
                          0.7514923211,
                          0.6809118952
                        ]
                      },
                      {
                        "iteration": 444,
                        "learn": [
                          0.7684997392,
                          0.6386443104
                        ],
                        "passed_time": 7.510866306,
                        "remaining_time": 0.9283093187,
                        "test": [
                          0.7515502753,
                          0.6809253431
                        ]
                      },
                      {
                        "iteration": 445,
                        "learn": [
                          0.768644608,
                          0.6385761221
                        ],
                        "passed_time": 7.524666301,
                        "remaining_time": 0.9110582518,
                        "test": [
                          0.7517241379,
                          0.6809057504
                        ]
                      },
                      {
                        "iteration": 446,
                        "learn": [
                          0.7687025555,
                          0.6385193498
                        ],
                        "passed_time": 7.538556113,
                        "remaining_time": 0.8938332751,
                        "test": [
                          0.7516082295,
                          0.6808630654
                        ]
                      },
                      {
                        "iteration": 447,
                        "learn": [
                          0.768644608,
                          0.6384764898
                        ],
                        "passed_time": 7.552285133,
                        "remaining_time": 0.8766045244,
                        "test": [
                          0.7516082295,
                          0.6808800599
                        ]
                      },
                      {
                        "iteration": 448,
                        "learn": [
                          0.7687025555,
                          0.6384073631
                        ],
                        "passed_time": 7.567054815,
                        "remaining_time": 0.8595095669,
                        "test": [
                          0.7518980006,
                          0.680897683
                        ]
                      },
                      {
                        "iteration": 449,
                        "learn": [
                          0.768760503,
                          0.6383510785
                        ],
                        "passed_time": 7.581978959,
                        "remaining_time": 0.8424421065,
                        "test": [
                          0.7518400464,
                          0.6808592369
                        ]
                      },
                      {
                        "iteration": 450,
                        "learn": [
                          0.7687315292,
                          0.6382921656
                        ],
                        "passed_time": 7.596572015,
                        "remaining_time": 0.825348179,
                        "test": [
                          0.7518980006,
                          0.6808776792
                        ]
                      },
                      {
                        "iteration": 451,
                        "learn": [
                          0.7687025555,
                          0.6382195173
                        ],
                        "passed_time": 7.611768256,
                        "remaining_time": 0.8083293724,
                        "test": [
                          0.7518400464,
                          0.6808935921
                        ]
                      },
                      {
                        "iteration": 452,
                        "learn": [
                          0.7687315292,
                          0.6381400414
                        ],
                        "passed_time": 7.626455228,
                        "remaining_time": 0.7912657742,
                        "test": [
                          0.7517820921,
                          0.6808818573
                        ]
                      },
                      {
                        "iteration": 453,
                        "learn": [
                          0.7685576867,
                          0.6380635583
                        ],
                        "passed_time": 7.642238004,
                        "remaining_time": 0.7743236745,
                        "test": [
                          0.7518400464,
                          0.6808962019
                        ]
                      },
                      {
                        "iteration": 454,
                        "learn": [
                          0.7686735817,
                          0.6380032807
                        ],
                        "passed_time": 7.657305291,
                        "remaining_time": 0.7573159079,
                        "test": [
                          0.7518980006,
                          0.6809209752
                        ]
                      },
                      {
                        "iteration": 455,
                        "learn": [
                          0.7687894767,
                          0.637956982
                        ],
                        "passed_time": 7.670923528,
                        "remaining_time": 0.7401768316,
                        "test": [
                          0.7517820921,
                          0.6809315956
                        ]
                      },
                      {
                        "iteration": 456,
                        "learn": [
                          0.7686735817,
                          0.6379029257
                        ],
                        "passed_time": 7.685337845,
                        "remaining_time": 0.7231280685,
                        "test": [
                          0.7516661837,
                          0.6809424719
                        ]
                      },
                      {
                        "iteration": 457,
                        "learn": [
                          0.7687025555,
                          0.6378562658
                        ],
                        "passed_time": 7.699775069,
                        "remaining_time": 0.7060929102,
                        "test": [
                          0.7516661837,
                          0.6809490839
                        ]
                      },
                      {
                        "iteration": 458,
                        "learn": [
                          0.7687025555,
                          0.6377860091
                        ],
                        "passed_time": 7.716630498,
                        "remaining_time": 0.6892850772,
                        "test": [
                          0.7518400464,
                          0.6809690535
                        ]
                      },
                      {
                        "iteration": 459,
                        "learn": [
                          0.7689053717,
                          0.6377417108
                        ],
                        "passed_time": 7.732791979,
                        "remaining_time": 0.6724166939,
                        "test": [
                          0.7517241379,
                          0.6809702618
                        ]
                      },
                      {
                        "iteration": 460,
                        "learn": [
                          0.7689633192,
                          0.6376453835
                        ],
                        "passed_time": 7.74709055,
                        "remaining_time": 0.6553937775,
                        "test": [
                          0.7521298174,
                          0.6809851181
                        ]
                      },
                      {
                        "iteration": 461,
                        "learn": [
                          0.7689633192,
                          0.637571885
                        ],
                        "passed_time": 7.761862323,
                        "remaining_time": 0.6384215764,
                        "test": [
                          0.752013909,
                          0.6810224591
                        ]
                      },
                      {
                        "iteration": 462,
                        "learn": [
                          0.768876398,
                          0.6375100792
                        ],
                        "passed_time": 7.775728428,
                        "remaining_time": 0.621386505,
                        "test": [
                          0.7519559548,
                          0.6810324
                        ]
                      },
                      {
                        "iteration": 463,
                        "learn": [
                          0.7690502405,
                          0.6374560497
                        ],
                        "passed_time": 7.800866574,
                        "remaining_time": 0.605239648,
                        "test": [
                          0.7521298174,
                          0.6810492425
                        ]
                      },
                      {
                        "iteration": 464,
                        "learn": [
                          0.7691371617,
                          0.6374075514
                        ],
                        "passed_time": 7.815108684,
                        "remaining_time": 0.588233987,
                        "test": [
                          0.752013909,
                          0.6810327725
                        ]
                      },
                      {
                        "iteration": 465,
                        "learn": [
                          0.7691371617,
                          0.6373386686
                        ],
                        "passed_time": 7.82963194,
                        "remaining_time": 0.5712606995,
                        "test": [
                          0.7521298174,
                          0.6810351198
                        ]
                      },
                      {
                        "iteration": 466,
                        "learn": [
                          0.769339978,
                          0.6372307052
                        ],
                        "passed_time": 7.847817797,
                        "remaining_time": 0.554556718,
                        "test": [
                          0.7517241379,
                          0.6810464707
                        ]
                      },
                      {
                        "iteration": 467,
                        "learn": [
                          0.769339978,
                          0.6371808361
                        ],
                        "passed_time": 7.861671334,
                        "remaining_time": 0.5375501767,
                        "test": [
                          0.7521298174,
                          0.681050095
                        ]
                      },
                      {
                        "iteration": 468,
                        "learn": [
                          0.7694848467,
                          0.6371074657
                        ],
                        "passed_time": 7.876234753,
                        "remaining_time": 0.5206040028,
                        "test": [
                          0.7518400464,
                          0.6810970597
                        ]
                      },
                      {
                        "iteration": 469,
                        "learn": [
                          0.7695427942,
                          0.6370475437
                        ],
                        "passed_time": 7.890530124,
                        "remaining_time": 0.503650859,
                        "test": [
                          0.7517820921,
                          0.6811175208
                        ]
                      },
                      {
                        "iteration": 470,
                        "learn": [
                          0.769571768,
                          0.6369708787
                        ],
                        "passed_time": 7.904690918,
                        "remaining_time": 0.4867007147,
                        "test": [
                          0.7518980006,
                          0.6811622957
                        ]
                      },
                      {
                        "iteration": 471,
                        "learn": [
                          0.7696586892,
                          0.6369416118
                        ],
                        "passed_time": 7.919107244,
                        "remaining_time": 0.4697775484,
                        "test": [
                          0.7519559548,
                          0.6811546053
                        ]
                      },
                      {
                        "iteration": 472,
                        "learn": [
                          0.7694268992,
                          0.6368656067
                        ],
                        "passed_time": 7.934074237,
                        "remaining_time": 0.4528964152,
                        "test": [
                          0.7521877717,
                          0.6811630841
                        ]
                      },
                      {
                        "iteration": 473,
                        "learn": [
                          0.7695138205,
                          0.6368091026
                        ],
                        "passed_time": 7.948031373,
                        "remaining_time": 0.4359679656,
                        "test": [
                          0.7521298174,
                          0.6811545692
                        ]
                      },
                      {
                        "iteration": 474,
                        "learn": [
                          0.7695427942,
                          0.6367389939
                        ],
                        "passed_time": 7.963001098,
                        "remaining_time": 0.4191053209,
                        "test": [
                          0.7521298174,
                          0.6811503501
                        ]
                      },
                      {
                        "iteration": 475,
                        "learn": [
                          0.7694268992,
                          0.6366757537
                        ],
                        "passed_time": 7.977600913,
                        "remaining_time": 0.4022319788,
                        "test": [
                          0.7521298174,
                          0.6811644823
                        ]
                      },
                      {
                        "iteration": 476,
                        "learn": [
                          0.769455873,
                          0.6366087691
                        ],
                        "passed_time": 7.992764676,
                        "remaining_time": 0.3853953617,
                        "test": [
                          0.752013909,
                          0.6811786548
                        ]
                      },
                      {
                        "iteration": 477,
                        "learn": [
                          0.7695427942,
                          0.636547442
                        ],
                        "passed_time": 8.031571692,
                        "remaining_time": 0.3696539272,
                        "test": [
                          0.752013909,
                          0.6811870606
                        ]
                      },
                      {
                        "iteration": 478,
                        "learn": [
                          0.7696007417,
                          0.6364639814
                        ],
                        "passed_time": 8.104754449,
                        "remaining_time": 0.3553232639,
                        "test": [
                          0.7520718632,
                          0.6811713971
                        ]
                      },
                      {
                        "iteration": 479,
                        "learn": [
                          0.7695138205,
                          0.6363922437
                        ],
                        "passed_time": 8.134532192,
                        "remaining_time": 0.3389388413,
                        "test": [
                          0.7519559548,
                          0.681153819
                        ]
                      },
                      {
                        "iteration": 480,
                        "learn": [
                          0.7695427942,
                          0.6363087526
                        ],
                        "passed_time": 8.163059967,
                        "remaining_time": 0.3224493542,
                        "test": [
                          0.7519559548,
                          0.6811845919
                        ]
                      },
                      {
                        "iteration": 481,
                        "learn": [
                          0.7695138205,
                          0.6362615165
                        ],
                        "passed_time": 8.187988182,
                        "remaining_time": 0.3057754923,
                        "test": [
                          0.7521298174,
                          0.6811805489
                        ]
                      },
                      {
                        "iteration": 482,
                        "learn": [
                          0.7694848467,
                          0.636188607
                        ],
                        "passed_time": 8.203189053,
                        "remaining_time": 0.2887250805,
                        "test": [
                          0.7520718632,
                          0.6811544599
                        ]
                      },
                      {
                        "iteration": 483,
                        "learn": [
                          0.7696586892,
                          0.6361188318
                        ],
                        "passed_time": 8.217027915,
                        "remaining_time": 0.2716372864,
                        "test": [
                          0.7516661837,
                          0.6812007399
                        ]
                      },
                      {
                        "iteration": 484,
                        "learn": [
                          0.7697166367,
                          0.6360770703
                        ],
                        "passed_time": 8.231816985,
                        "remaining_time": 0.2545922779,
                        "test": [
                          0.7516082295,
                          0.6812025767
                        ]
                      },
                      {
                        "iteration": 485,
                        "learn": [
                          0.7697456105,
                          0.6360288852
                        ],
                        "passed_time": 8.24628588,
                        "remaining_time": 0.2375473299,
                        "test": [
                          0.7515502753,
                          0.6812097364
                        ]
                      },
                      {
                        "iteration": 486,
                        "learn": [
                          0.7697456105,
                          0.6359322575
                        ],
                        "passed_time": 8.2605916,
                        "remaining_time": 0.2205086053,
                        "test": [
                          0.7515502753,
                          0.6812147393
                        ]
                      },
                      {
                        "iteration": 487,
                        "learn": [
                          0.7698615055,
                          0.6358631523
                        ],
                        "passed_time": 8.275291415,
                        "remaining_time": 0.2034907725,
                        "test": [
                          0.7513764126,
                          0.6812253633
                        ]
                      },
                      {
                        "iteration": 488,
                        "learn": [
                          0.7699484267,
                          0.6358285676
                        ],
                        "passed_time": 8.289654199,
                        "remaining_time": 0.1864748388,
                        "test": [
                          0.7513764126,
                          0.6812352195
                        ]
                      },
                      {
                        "iteration": 489,
                        "learn": [
                          0.7699774005,
                          0.6357868499
                        ],
                        "passed_time": 8.306930875,
                        "remaining_time": 0.1695292015,
                        "test": [
                          0.7514343669,
                          0.6812374573
                        ]
                      },
                      {
                        "iteration": 490,
                        "learn": [
                          0.7698904792,
                          0.6357260949
                        ],
                        "passed_time": 8.321613051,
                        "remaining_time": 0.1525346588,
                        "test": [
                          0.7516082295,
                          0.6812545853
                        ]
                      },
                      {
                        "iteration": 491,
                        "learn": [
                          0.769803558,
                          0.6356617917
                        ],
                        "passed_time": 8.336818957,
                        "remaining_time": 0.1355580318,
                        "test": [
                          0.7517241379,
                          0.6812558163
                        ]
                      },
                      {
                        "iteration": 492,
                        "learn": [
                          0.7697456105,
                          0.6356062299
                        ],
                        "passed_time": 8.351229175,
                        "remaining_time": 0.1185772905,
                        "test": [
                          0.7517820921,
                          0.6812624356
                        ]
                      },
                      {
                        "iteration": 493,
                        "learn": [
                          0.7698615055,
                          0.6355438218
                        ],
                        "passed_time": 8.365616384,
                        "remaining_time": 0.1016066767,
                        "test": [
                          0.7517820921,
                          0.6812843244
                        ]
                      },
                      {
                        "iteration": 494,
                        "learn": [
                          0.7699484267,
                          0.6354810021
                        ],
                        "passed_time": 8.379939432,
                        "remaining_time": 0.08464585285,
                        "test": [
                          0.7517241379,
                          0.6812998463
                        ]
                      },
                      {
                        "iteration": 495,
                        "learn": [
                          0.770035348,
                          0.6354213226
                        ],
                        "passed_time": 8.394053811,
                        "remaining_time": 0.06769398234,
                        "test": [
                          0.7516661837,
                          0.6813369246
                        ]
                      },
                      {
                        "iteration": 496,
                        "learn": [
                          0.7701222692,
                          0.6353602549
                        ],
                        "passed_time": 8.408137915,
                        "remaining_time": 0.05075334758,
                        "test": [
                          0.7517241379,
                          0.681329448
                        ]
                      },
                      {
                        "iteration": 497,
                        "learn": [
                          0.7700643217,
                          0.6352405414
                        ],
                        "passed_time": 8.422976168,
                        "remaining_time": 0.03382721352,
                        "test": [
                          0.7516661837,
                          0.6813409387
                        ]
                      },
                      {
                        "iteration": 498,
                        "learn": [
                          0.7701222692,
                          0.6351913051
                        ],
                        "passed_time": 8.437210028,
                        "remaining_time": 0.01690823653,
                        "test": [
                          0.7517241379,
                          0.6813112271
                        ]
                      },
                      {
                        "iteration": 499,
                        "learn": [
                          0.7700932955,
                          0.6351147716
                        ],
                        "passed_time": 8.452521065,
                        "remaining_time": 0,
                        "test": [
                          0.7518980006,
                          0.6813400647
                        ]
                      }
                    ],
                    "meta": {
                      "iteration_count": 500,
                      "launch_mode": "Train",
                      "learn_metrics": [
                        {
                          "best_value": "Max",
                          "name": "Accuracy"
                        },
                        {
                          "best_value": "Min",
                          "name": "MultiClass"
                        }
                      ],
                      "learn_sets": [
                        "learn"
                      ],
                      "name": "experiment",
                      "parameters": "",
                      "test_metrics": [
                        {
                          "best_value": "Max",
                          "name": "Accuracy"
                        },
                        {
                          "best_value": "Min",
                          "name": "MultiClass"
                        }
                      ],
                      "test_sets": [
                        "test"
                      ]
                    }
                  },
                  "passed_iterations": 499,
                  "total_iterations": 500
                },
                "name": "fold-2",
                "path": "catboost_info/fold-2"
              }
            },
            "layout": "IPY_MODEL_c8d8b2a7c4e14d1db3768d415cddcba1"
          }
        }
      }
    }
  },
  "nbformat": 4,
  "nbformat_minor": 5
}
