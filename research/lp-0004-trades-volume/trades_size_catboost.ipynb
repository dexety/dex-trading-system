{
  "cells": [
    {
      "cell_type": "code",
      "source": [
        "!pip3 install catboost"
      ],
      "metadata": {
        "colab": {
          "base_uri": "https://localhost:8080/"
        },
        "id": "6PWJsnjzBfq1",
        "outputId": "0aff0842-baf1-4b2b-f5ba-d4bd37062f6f"
      },
      "id": "6PWJsnjzBfq1",
      "execution_count": null,
      "outputs": [
        {
          "output_type": "stream",
          "name": "stdout",
          "text": [
            "Collecting catboost\n",
            "  Downloading catboost-1.0.4-cp37-none-manylinux1_x86_64.whl (76.1 MB)\n",
            "\u001b[K     |████████████████████████████████| 76.1 MB 1.3 MB/s \n",
            "\u001b[?25hRequirement already satisfied: scipy in /usr/local/lib/python3.7/dist-packages (from catboost) (1.4.1)\n",
            "Requirement already satisfied: matplotlib in /usr/local/lib/python3.7/dist-packages (from catboost) (3.2.2)\n",
            "Requirement already satisfied: pandas>=0.24.0 in /usr/local/lib/python3.7/dist-packages (from catboost) (1.1.5)\n",
            "Requirement already satisfied: plotly in /usr/local/lib/python3.7/dist-packages (from catboost) (4.4.1)\n",
            "Requirement already satisfied: six in /usr/local/lib/python3.7/dist-packages (from catboost) (1.15.0)\n",
            "Requirement already satisfied: graphviz in /usr/local/lib/python3.7/dist-packages (from catboost) (0.10.1)\n",
            "Requirement already satisfied: numpy>=1.16.0 in /usr/local/lib/python3.7/dist-packages (from catboost) (1.19.5)\n",
            "Requirement already satisfied: pytz>=2017.2 in /usr/local/lib/python3.7/dist-packages (from pandas>=0.24.0->catboost) (2018.9)\n",
            "Requirement already satisfied: python-dateutil>=2.7.3 in /usr/local/lib/python3.7/dist-packages (from pandas>=0.24.0->catboost) (2.8.2)\n",
            "Requirement already satisfied: pyparsing!=2.0.4,!=2.1.2,!=2.1.6,>=2.0.1 in /usr/local/lib/python3.7/dist-packages (from matplotlib->catboost) (3.0.6)\n",
            "Requirement already satisfied: kiwisolver>=1.0.1 in /usr/local/lib/python3.7/dist-packages (from matplotlib->catboost) (1.3.2)\n",
            "Requirement already satisfied: cycler>=0.10 in /usr/local/lib/python3.7/dist-packages (from matplotlib->catboost) (0.11.0)\n",
            "Requirement already satisfied: retrying>=1.3.3 in /usr/local/lib/python3.7/dist-packages (from plotly->catboost) (1.3.3)\n",
            "Installing collected packages: catboost\n",
            "Successfully installed catboost-1.0.4\n"
          ]
        }
      ]
    },
    {
      "cell_type": "code",
      "execution_count": 21,
      "id": "853aa3c4-a2d3-4845-ad55-388c7ddc238f",
      "metadata": {
        "id": "853aa3c4-a2d3-4845-ad55-388c7ddc238f"
      },
      "outputs": [],
      "source": [
        "import pandas as pd\n",
        "import numpy as np\n",
        "\n",
        "csv_path = \"trades-df-2021_11_1_0_0_0-2021_12_21_0_0_0.csv\"\n",
        "df = pd.read_csv(csv_path)"
      ]
    },
    {
      "cell_type": "code",
      "execution_count": 22,
      "id": "6d19d8f2-29d6-475a-8e14-714733f36850",
      "metadata": {
        "colab": {
          "base_uri": "https://localhost:8080/"
        },
        "id": "6d19d8f2-29d6-475a-8e14-714733f36850",
        "outputId": "9f270efb-b298-448b-a5bc-e1624431c156"
      },
      "outputs": [
        {
          "output_type": "stream",
          "name": "stdout",
          "text": [
            "['trades-BUY-6-sec', 'trades-SELL-6-sec', 'trades-BUY-12-sec', 'trades-SELL-12-sec', 'trades-BUY-18-sec', 'trades-SELL-18-sec', 'trades-BUY-24-sec', 'trades-SELL-24-sec', 'trades-BUY-30-sec', 'trades-SELL-30-sec', 'trades-BUY-36-sec', 'trades-SELL-36-sec', 'trades-BUY-42-sec', 'trades-SELL-42-sec', 'trades-BUY-48-sec', 'trades-SELL-48-sec', 'trades-BUY-54-sec', 'trades-SELL-54-sec', 'trades-BUY-60-sec', 'trades-SELL-60-sec']\n",
            "['punch-BUY-6-sec', 'punch-SELL-6-sec', 'punch-BUY-12-sec', 'punch-SELL-12-sec', 'punch-BUY-18-sec', 'punch-SELL-18-sec', 'punch-BUY-24-sec', 'punch-SELL-24-sec', 'punch-BUY-30-sec', 'punch-SELL-30-sec', 'punch-BUY-36-sec', 'punch-SELL-36-sec', 'punch-BUY-42-sec', 'punch-SELL-42-sec', 'punch-BUY-48-sec', 'punch-SELL-48-sec', 'punch-BUY-54-sec', 'punch-SELL-54-sec', 'punch-BUY-60-sec', 'punch-SELL-60-sec']\n"
          ]
        }
      ],
      "source": [
        "x_columns = list(filter(lambda column: not 'punch' in column, df.columns))\n",
        "y_columns = list(filter(lambda column: 'punch' in column, df.columns))\n",
        "print(x_columns)\n",
        "print(y_columns)"
      ]
    },
    {
      "cell_type": "code",
      "execution_count": 23,
      "id": "96ce2f97-578b-4e03-88df-68348c66e537",
      "metadata": {
        "colab": {
          "base_uri": "https://localhost:8080/",
          "height": 627
        },
        "id": "96ce2f97-578b-4e03-88df-68348c66e537",
        "outputId": "1a6aff96-9507-4d43-e0b9-7e2cfde243f5"
      },
      "outputs": [
        {
          "output_type": "stream",
          "name": "stderr",
          "text": [
            "/usr/local/lib/python3.7/dist-packages/ipykernel_launcher.py:6: SettingWithCopyWarning: \n",
            "A value is trying to be set on a copy of a slice from a DataFrame.\n",
            "Try using .loc[row_indexer,col_indexer] = value instead\n",
            "\n",
            "See the caveats in the documentation: https://pandas.pydata.org/pandas-docs/stable/user_guide/indexing.html#returning-a-view-versus-a-copy\n",
            "  \n"
          ]
        },
        {
          "output_type": "execute_result",
          "data": {
            "text/html": [
              "\n",
              "  <div id=\"df-ef2e9a77-5ddf-4c23-98bd-99e80c0147e3\">\n",
              "    <div class=\"colab-df-container\">\n",
              "      <div>\n",
              "<style scoped>\n",
              "    .dataframe tbody tr th:only-of-type {\n",
              "        vertical-align: middle;\n",
              "    }\n",
              "\n",
              "    .dataframe tbody tr th {\n",
              "        vertical-align: top;\n",
              "    }\n",
              "\n",
              "    .dataframe thead th {\n",
              "        text-align: right;\n",
              "    }\n",
              "</style>\n",
              "<table border=\"1\" class=\"dataframe\">\n",
              "  <thead>\n",
              "    <tr style=\"text-align: right;\">\n",
              "      <th></th>\n",
              "      <th>trades-BUY-6-sec</th>\n",
              "      <th>trades-SELL-6-sec</th>\n",
              "      <th>trades-BUY-12-sec</th>\n",
              "      <th>trades-SELL-12-sec</th>\n",
              "      <th>trades-BUY-18-sec</th>\n",
              "      <th>trades-SELL-18-sec</th>\n",
              "      <th>trades-BUY-24-sec</th>\n",
              "      <th>trades-SELL-24-sec</th>\n",
              "      <th>trades-BUY-30-sec</th>\n",
              "      <th>trades-SELL-30-sec</th>\n",
              "      <th>trades-BUY-36-sec</th>\n",
              "      <th>trades-SELL-36-sec</th>\n",
              "      <th>trades-BUY-42-sec</th>\n",
              "      <th>trades-SELL-42-sec</th>\n",
              "      <th>trades-BUY-48-sec</th>\n",
              "      <th>trades-SELL-48-sec</th>\n",
              "      <th>trades-BUY-54-sec</th>\n",
              "      <th>trades-SELL-54-sec</th>\n",
              "      <th>trades-BUY-60-sec</th>\n",
              "      <th>trades-SELL-60-sec</th>\n",
              "    </tr>\n",
              "  </thead>\n",
              "  <tbody>\n",
              "    <tr>\n",
              "      <th>0</th>\n",
              "      <td>0.100</td>\n",
              "      <td>0.200</td>\n",
              "      <td>0.400</td>\n",
              "      <td>0.300</td>\n",
              "      <td>10.255</td>\n",
              "      <td>0.200</td>\n",
              "      <td>0.100</td>\n",
              "      <td>0.500</td>\n",
              "      <td>0.300</td>\n",
              "      <td>0.200</td>\n",
              "      <td>0.216</td>\n",
              "      <td>2.700</td>\n",
              "      <td>0.200</td>\n",
              "      <td>0.200</td>\n",
              "      <td>0.200</td>\n",
              "      <td>2.066</td>\n",
              "      <td>0.000</td>\n",
              "      <td>2.600</td>\n",
              "      <td>0.500</td>\n",
              "      <td>9.981</td>\n",
              "    </tr>\n",
              "    <tr>\n",
              "      <th>1</th>\n",
              "      <td>0.200</td>\n",
              "      <td>0.400</td>\n",
              "      <td>0.300</td>\n",
              "      <td>3.684</td>\n",
              "      <td>0.200</td>\n",
              "      <td>0.366</td>\n",
              "      <td>0.300</td>\n",
              "      <td>0.400</td>\n",
              "      <td>0.250</td>\n",
              "      <td>0.000</td>\n",
              "      <td>0.200</td>\n",
              "      <td>0.200</td>\n",
              "      <td>0.749</td>\n",
              "      <td>0.400</td>\n",
              "      <td>0.100</td>\n",
              "      <td>0.000</td>\n",
              "      <td>0.200</td>\n",
              "      <td>33.531</td>\n",
              "      <td>0.800</td>\n",
              "      <td>0.100</td>\n",
              "    </tr>\n",
              "    <tr>\n",
              "      <th>2</th>\n",
              "      <td>0.200</td>\n",
              "      <td>2.434</td>\n",
              "      <td>49.298</td>\n",
              "      <td>139.475</td>\n",
              "      <td>0.300</td>\n",
              "      <td>4.486</td>\n",
              "      <td>0.100</td>\n",
              "      <td>5.982</td>\n",
              "      <td>0.200</td>\n",
              "      <td>5.806</td>\n",
              "      <td>0.400</td>\n",
              "      <td>7.355</td>\n",
              "      <td>0.246</td>\n",
              "      <td>9.057</td>\n",
              "      <td>0.100</td>\n",
              "      <td>0.300</td>\n",
              "      <td>0.220</td>\n",
              "      <td>1.000</td>\n",
              "      <td>0.200</td>\n",
              "      <td>0.300</td>\n",
              "    </tr>\n",
              "    <tr>\n",
              "      <th>3</th>\n",
              "      <td>2.513</td>\n",
              "      <td>9.616</td>\n",
              "      <td>4.975</td>\n",
              "      <td>5.386</td>\n",
              "      <td>36.317</td>\n",
              "      <td>35.898</td>\n",
              "      <td>0.200</td>\n",
              "      <td>8.477</td>\n",
              "      <td>0.000</td>\n",
              "      <td>0.300</td>\n",
              "      <td>0.400</td>\n",
              "      <td>5.400</td>\n",
              "      <td>9.516</td>\n",
              "      <td>0.150</td>\n",
              "      <td>0.000</td>\n",
              "      <td>0.200</td>\n",
              "      <td>0.000</td>\n",
              "      <td>2.181</td>\n",
              "      <td>0.200</td>\n",
              "      <td>24.480</td>\n",
              "    </tr>\n",
              "    <tr>\n",
              "      <th>4</th>\n",
              "      <td>5.152</td>\n",
              "      <td>0.200</td>\n",
              "      <td>0.100</td>\n",
              "      <td>6.006</td>\n",
              "      <td>0.100</td>\n",
              "      <td>9.416</td>\n",
              "      <td>6.790</td>\n",
              "      <td>0.400</td>\n",
              "      <td>9.316</td>\n",
              "      <td>0.100</td>\n",
              "      <td>1.167</td>\n",
              "      <td>0.100</td>\n",
              "      <td>0.500</td>\n",
              "      <td>9.616</td>\n",
              "      <td>2.439</td>\n",
              "      <td>0.200</td>\n",
              "      <td>161.648</td>\n",
              "      <td>0.200</td>\n",
              "      <td>6.105</td>\n",
              "      <td>9.969</td>\n",
              "    </tr>\n",
              "    <tr>\n",
              "      <th>...</th>\n",
              "      <td>...</td>\n",
              "      <td>...</td>\n",
              "      <td>...</td>\n",
              "      <td>...</td>\n",
              "      <td>...</td>\n",
              "      <td>...</td>\n",
              "      <td>...</td>\n",
              "      <td>...</td>\n",
              "      <td>...</td>\n",
              "      <td>...</td>\n",
              "      <td>...</td>\n",
              "      <td>...</td>\n",
              "      <td>...</td>\n",
              "      <td>...</td>\n",
              "      <td>...</td>\n",
              "      <td>...</td>\n",
              "      <td>...</td>\n",
              "      <td>...</td>\n",
              "      <td>...</td>\n",
              "      <td>...</td>\n",
              "    </tr>\n",
              "    <tr>\n",
              "      <th>39941</th>\n",
              "      <td>5.369</td>\n",
              "      <td>10.249</td>\n",
              "      <td>0.000</td>\n",
              "      <td>0.000</td>\n",
              "      <td>9.999</td>\n",
              "      <td>10.499</td>\n",
              "      <td>0.000</td>\n",
              "      <td>0.000</td>\n",
              "      <td>309.999</td>\n",
              "      <td>9.999</td>\n",
              "      <td>0.000</td>\n",
              "      <td>3.000</td>\n",
              "      <td>9.999</td>\n",
              "      <td>9.215</td>\n",
              "      <td>1.038</td>\n",
              "      <td>0.000</td>\n",
              "      <td>9.215</td>\n",
              "      <td>2.645</td>\n",
              "      <td>0.000</td>\n",
              "      <td>0.000</td>\n",
              "    </tr>\n",
              "    <tr>\n",
              "      <th>39942</th>\n",
              "      <td>7.765</td>\n",
              "      <td>20.339</td>\n",
              "      <td>0.000</td>\n",
              "      <td>0.414</td>\n",
              "      <td>9.999</td>\n",
              "      <td>9.999</td>\n",
              "      <td>0.000</td>\n",
              "      <td>0.000</td>\n",
              "      <td>0.000</td>\n",
              "      <td>26.878</td>\n",
              "      <td>1.914</td>\n",
              "      <td>0.000</td>\n",
              "      <td>0.000</td>\n",
              "      <td>25.819</td>\n",
              "      <td>0.035</td>\n",
              "      <td>0.000</td>\n",
              "      <td>0.000</td>\n",
              "      <td>101.502</td>\n",
              "      <td>0.000</td>\n",
              "      <td>5.583</td>\n",
              "    </tr>\n",
              "    <tr>\n",
              "      <th>39943</th>\n",
              "      <td>9.999</td>\n",
              "      <td>1.530</td>\n",
              "      <td>31.055</td>\n",
              "      <td>0.000</td>\n",
              "      <td>9.999</td>\n",
              "      <td>9.999</td>\n",
              "      <td>9.999</td>\n",
              "      <td>0.067</td>\n",
              "      <td>0.000</td>\n",
              "      <td>30.003</td>\n",
              "      <td>0.000</td>\n",
              "      <td>584.297</td>\n",
              "      <td>0.000</td>\n",
              "      <td>25.896</td>\n",
              "      <td>0.000</td>\n",
              "      <td>0.000</td>\n",
              "      <td>2.938</td>\n",
              "      <td>17.938</td>\n",
              "      <td>0.000</td>\n",
              "      <td>32.400</td>\n",
              "    </tr>\n",
              "    <tr>\n",
              "      <th>39944</th>\n",
              "      <td>0.802</td>\n",
              "      <td>1.381</td>\n",
              "      <td>0.861</td>\n",
              "      <td>0.000</td>\n",
              "      <td>5.582</td>\n",
              "      <td>0.000</td>\n",
              "      <td>10.000</td>\n",
              "      <td>3.005</td>\n",
              "      <td>10.000</td>\n",
              "      <td>86.202</td>\n",
              "      <td>0.000</td>\n",
              "      <td>0.000</td>\n",
              "      <td>90.906</td>\n",
              "      <td>155.992</td>\n",
              "      <td>19.788</td>\n",
              "      <td>48.927</td>\n",
              "      <td>1.134</td>\n",
              "      <td>0.000</td>\n",
              "      <td>197.118</td>\n",
              "      <td>0.000</td>\n",
              "    </tr>\n",
              "    <tr>\n",
              "      <th>39945</th>\n",
              "      <td>72.433</td>\n",
              "      <td>13.025</td>\n",
              "      <td>9.809</td>\n",
              "      <td>0.529</td>\n",
              "      <td>3.000</td>\n",
              "      <td>5.000</td>\n",
              "      <td>261.584</td>\n",
              "      <td>0.597</td>\n",
              "      <td>644.775</td>\n",
              "      <td>203.999</td>\n",
              "      <td>0.596</td>\n",
              "      <td>36.317</td>\n",
              "      <td>294.171</td>\n",
              "      <td>28.670</td>\n",
              "      <td>0.000</td>\n",
              "      <td>15.989</td>\n",
              "      <td>0.000</td>\n",
              "      <td>8.052</td>\n",
              "      <td>8.054</td>\n",
              "      <td>0.691</td>\n",
              "    </tr>\n",
              "  </tbody>\n",
              "</table>\n",
              "<p>39946 rows × 20 columns</p>\n",
              "</div>\n",
              "      <button class=\"colab-df-convert\" onclick=\"convertToInteractive('df-ef2e9a77-5ddf-4c23-98bd-99e80c0147e3')\"\n",
              "              title=\"Convert this dataframe to an interactive table.\"\n",
              "              style=\"display:none;\">\n",
              "        \n",
              "  <svg xmlns=\"http://www.w3.org/2000/svg\" height=\"24px\"viewBox=\"0 0 24 24\"\n",
              "       width=\"24px\">\n",
              "    <path d=\"M0 0h24v24H0V0z\" fill=\"none\"/>\n",
              "    <path d=\"M18.56 5.44l.94 2.06.94-2.06 2.06-.94-2.06-.94-.94-2.06-.94 2.06-2.06.94zm-11 1L8.5 8.5l.94-2.06 2.06-.94-2.06-.94L8.5 2.5l-.94 2.06-2.06.94zm10 10l.94 2.06.94-2.06 2.06-.94-2.06-.94-.94-2.06-.94 2.06-2.06.94z\"/><path d=\"M17.41 7.96l-1.37-1.37c-.4-.4-.92-.59-1.43-.59-.52 0-1.04.2-1.43.59L10.3 9.45l-7.72 7.72c-.78.78-.78 2.05 0 2.83L4 21.41c.39.39.9.59 1.41.59.51 0 1.02-.2 1.41-.59l7.78-7.78 2.81-2.81c.8-.78.8-2.07 0-2.86zM5.41 20L4 18.59l7.72-7.72 1.47 1.35L5.41 20z\"/>\n",
              "  </svg>\n",
              "      </button>\n",
              "      \n",
              "  <style>\n",
              "    .colab-df-container {\n",
              "      display:flex;\n",
              "      flex-wrap:wrap;\n",
              "      gap: 12px;\n",
              "    }\n",
              "\n",
              "    .colab-df-convert {\n",
              "      background-color: #E8F0FE;\n",
              "      border: none;\n",
              "      border-radius: 50%;\n",
              "      cursor: pointer;\n",
              "      display: none;\n",
              "      fill: #1967D2;\n",
              "      height: 32px;\n",
              "      padding: 0 0 0 0;\n",
              "      width: 32px;\n",
              "    }\n",
              "\n",
              "    .colab-df-convert:hover {\n",
              "      background-color: #E2EBFA;\n",
              "      box-shadow: 0px 1px 2px rgba(60, 64, 67, 0.3), 0px 1px 3px 1px rgba(60, 64, 67, 0.15);\n",
              "      fill: #174EA6;\n",
              "    }\n",
              "\n",
              "    [theme=dark] .colab-df-convert {\n",
              "      background-color: #3B4455;\n",
              "      fill: #D2E3FC;\n",
              "    }\n",
              "\n",
              "    [theme=dark] .colab-df-convert:hover {\n",
              "      background-color: #434B5C;\n",
              "      box-shadow: 0px 1px 3px 1px rgba(0, 0, 0, 0.15);\n",
              "      filter: drop-shadow(0px 1px 2px rgba(0, 0, 0, 0.3));\n",
              "      fill: #FFFFFF;\n",
              "    }\n",
              "  </style>\n",
              "\n",
              "      <script>\n",
              "        const buttonEl =\n",
              "          document.querySelector('#df-ef2e9a77-5ddf-4c23-98bd-99e80c0147e3 button.colab-df-convert');\n",
              "        buttonEl.style.display =\n",
              "          google.colab.kernel.accessAllowed ? 'block' : 'none';\n",
              "\n",
              "        async function convertToInteractive(key) {\n",
              "          const element = document.querySelector('#df-ef2e9a77-5ddf-4c23-98bd-99e80c0147e3');\n",
              "          const dataTable =\n",
              "            await google.colab.kernel.invokeFunction('convertToInteractive',\n",
              "                                                     [key], {});\n",
              "          if (!dataTable) return;\n",
              "\n",
              "          const docLinkHtml = 'Like what you see? Visit the ' +\n",
              "            '<a target=\"_blank\" href=https://colab.research.google.com/notebooks/data_table.ipynb>data table notebook</a>'\n",
              "            + ' to learn more about interactive tables.';\n",
              "          element.innerHTML = '';\n",
              "          dataTable['output_type'] = 'display_data';\n",
              "          await google.colab.output.renderOutput(dataTable, element);\n",
              "          const docLink = document.createElement('div');\n",
              "          docLink.innerHTML = docLinkHtml;\n",
              "          element.appendChild(docLink);\n",
              "        }\n",
              "      </script>\n",
              "    </div>\n",
              "  </div>\n",
              "  "
            ],
            "text/plain": [
              "       trades-BUY-6-sec  ...  trades-SELL-60-sec\n",
              "0                 0.100  ...               9.981\n",
              "1                 0.200  ...               0.100\n",
              "2                 0.200  ...               0.300\n",
              "3                 2.513  ...              24.480\n",
              "4                 5.152  ...               9.969\n",
              "...                 ...  ...                 ...\n",
              "39941             5.369  ...               0.000\n",
              "39942             7.765  ...               5.583\n",
              "39943             9.999  ...              32.400\n",
              "39944             0.802  ...               0.000\n",
              "39945            72.433  ...               0.691\n",
              "\n",
              "[39946 rows x 20 columns]"
            ]
          },
          "metadata": {},
          "execution_count": 23
        }
      ],
      "source": [
        "X = df[x_columns]\n",
        "secs = list(reversed(sorted(list(set(map(lambda x : int(''.join(x)), [[s for s in column if s.isdigit()] for column in x_columns]))))))\n",
        "\n",
        "for side in ['BUY', 'SELL']:\n",
        "  for s in secs[:-1]:\n",
        "    X[f'trades-{side}-{str(s)}-sec'] -= X[f'trades-{side}-{str(s - (secs[0] - secs[1]))}-sec']\n",
        "X"
      ]
    },
    {
      "cell_type": "code",
      "execution_count": 24,
      "id": "70de5225-1eda-479f-9199-b176f49d7d9c",
      "metadata": {
        "colab": {
          "base_uri": "https://localhost:8080/"
        },
        "id": "70de5225-1eda-479f-9199-b176f49d7d9c",
        "outputId": "07ca6981-33a4-4943-d7f8-7a802433cd8e"
      },
      "outputs": [
        {
          "output_type": "stream",
          "name": "stdout",
          "text": [
            "       target\n",
            "0           0\n",
            "1           1\n",
            "2           1\n",
            "3           1\n",
            "4           1\n",
            "...       ...\n",
            "39941       0\n",
            "39942       0\n",
            "39943       0\n",
            "39944       1\n",
            "39945       0\n",
            "\n",
            "[39946 rows x 1 columns]\n",
            "target\n",
            "0         25936\n",
            "1         14010\n",
            "dtype: int64\n"
          ]
        }
      ],
      "source": [
        "commision = 0.0002\n",
        "punch = commision * 4\n",
        "\n",
        "y = pd.DataFrame(\n",
        "    df[y_columns].apply(\n",
        "        # lambda row : 1 if max(list(row.to_numpy()), key=abs) > punch else -1 if max(list(row.to_numpy()), key=abs) < -punch else 0,\n",
        "        lambda row : 1 if max(abs(row.to_numpy())) > punch else 0,\n",
        "        axis = 1\n",
        "    )\n",
        ")\n",
        "y = y.rename({0:'target'}, axis='columns')\n",
        "print(y)\n",
        "print(y.value_counts())"
      ]
    },
    {
      "cell_type": "code",
      "source": [
        "from catboost import CatBoostClassifier, Pool, metrics, cv\n",
        "from sklearn.metrics import accuracy_score"
      ],
      "metadata": {
        "id": "OZvYPPg4iPC2"
      },
      "id": "OZvYPPg4iPC2",
      "execution_count": 25,
      "outputs": []
    },
    {
      "cell_type": "code",
      "execution_count": 26,
      "id": "f0753b54-1efd-4f34-ba92-2547bb0e854a",
      "metadata": {
        "id": "f0753b54-1efd-4f34-ba92-2547bb0e854a"
      },
      "outputs": [],
      "source": [
        "from sklearn.model_selection import train_test_split\n",
        "\n",
        "X_train, X_test, y_train, y_test = train_test_split(X, y, train_size=0.8, shuffle = True, random_state=12)\n",
        "\n",
        "X_train, X_validation, y_train, y_validation = train_test_split(X_train, y_train, train_size=0.75, shuffle = True, random_state=6)"
      ]
    },
    {
      "cell_type": "code",
      "source": [
        "params = {\n",
        "    'iterations': 500,\n",
        "    'learning_rate': 0.1,\n",
        "    # 'depth': 5,\n",
        "    'custom_loss': [metrics.Accuracy()],\n",
        "    'eval_metric': metrics.Accuracy(),\n",
        "    'random_seed': 42,\n",
        "    'logging_level': 'Silent',\n",
        "    'loss_function': 'Logloss',\n",
        "}\n",
        "train_pool = Pool(X_train, y_train)\n",
        "validate_pool = Pool(X_validation, y_validation)\n",
        "\n",
        "model = CatBoostClassifier(**params)\n",
        "model.fit(\n",
        "    train_pool,\n",
        "    eval_set=validate_pool,\n",
        "    plot=True,\n",
        ")\n",
        "print('Model validation accuracy: {:.4}'.format(\n",
        "    accuracy_score(y_test, model.predict(X_test))\n",
        "))"
      ],
      "metadata": {
        "id": "L8jyutxLiBqy",
        "colab": {
          "base_uri": "https://localhost:8080/",
          "height": 34,
          "referenced_widgets": [
            "9246ade5d6d445969edb880b54351316"
          ]
        },
        "outputId": "c980c641-443f-4835-8374-ac6f40a47010"
      },
      "id": "L8jyutxLiBqy",
      "execution_count": 31,
      "outputs": [
        {
          "output_type": "display_data",
          "data": {
            "application/vnd.jupyter.widget-view+json": {
              "model_id": "9246ade5d6d445969edb880b54351316",
              "version_minor": 0,
              "version_major": 2
            },
            "text/plain": [
              "MetricVisualizer(layout=Layout(align_self='stretch', height='500px'))"
            ]
          },
          "metadata": {}
        },
        {
          "output_type": "stream",
          "name": "stdout",
          "text": [
            "Model validation accuracy: 0.7043\n"
          ]
        }
      ]
    },
    {
      "cell_type": "code",
      "source": [
        "cv_params = model.get_params()\n",
        "cv_params.update({\n",
        "    'loss_function': metrics.MultiClass()\n",
        "})\n",
        "cv_data = cv(\n",
        "    Pool(X, y),\n",
        "    cv_params,\n",
        "    plot=True\n",
        ")\n",
        "print('Best validation accuracy score: {:.2f}±{:.2f} on step {}'.format(\n",
        "    np.max(cv_data['test-Accuracy-mean']),\n",
        "    cv_data['test-Accuracy-std'][np.argmax(cv_data['test-Accuracy-mean'])],\n",
        "    np.argmax(cv_data['test-Accuracy-mean'])\n",
        "))\n",
        "print('Precise validation accuracy score: {}'.format(np.max(cv_data['test-Accuracy-mean'])))"
      ],
      "metadata": {
        "colab": {
          "base_uri": "https://localhost:8080/",
          "height": 17,
          "referenced_widgets": [
            "d8983083b68c401eaec0df816fcc41db"
          ]
        },
        "id": "tUJHvx9f_2IC",
        "outputId": "395d5460-bd7c-459c-ec3f-7205a7c55854"
      },
      "id": "tUJHvx9f_2IC",
      "execution_count": null,
      "outputs": [
        {
          "output_type": "display_data",
          "data": {
            "application/vnd.jupyter.widget-view+json": {
              "model_id": "d8983083b68c401eaec0df816fcc41db",
              "version_minor": 0,
              "version_major": 2
            },
            "text/plain": [
              "MetricVisualizer(layout=Layout(align_self='stretch', height='500px'))"
            ]
          },
          "metadata": {}
        }
      ]
    },
    {
      "cell_type": "code",
      "source": [
        "predictions = model.predict(X_test)\n",
        "predictions = predictions.reshape(predictions.shape[0], 1)\n",
        "predictions_probs = model.predict_proba(X_test)\n",
        "print(predictions[10:20])\n",
        "print(predictions_probs[10:20])\n",
        "print(y_test[10:20])"
      ],
      "metadata": {
        "colab": {
          "base_uri": "https://localhost:8080/"
        },
        "id": "UFuSMQT5Avbl",
        "outputId": "c51d3538-f773-4336-f86f-ac9ed8055be9"
      },
      "id": "UFuSMQT5Avbl",
      "execution_count": 33,
      "outputs": [
        {
          "output_type": "stream",
          "name": "stdout",
          "text": [
            "[[0]\n",
            " [0]\n",
            " [0]\n",
            " [0]\n",
            " [1]\n",
            " [1]\n",
            " [0]\n",
            " [0]\n",
            " [0]\n",
            " [0]]\n",
            "[[0.67611609 0.32388391]\n",
            " [0.86619178 0.13380822]\n",
            " [0.65935329 0.34064671]\n",
            " [0.63275776 0.36724224]\n",
            " [0.19702689 0.80297311]\n",
            " [0.25007291 0.74992709]\n",
            " [0.80752621 0.19247379]\n",
            " [0.61443975 0.38556025]\n",
            " [0.74729545 0.25270455]\n",
            " [0.82262985 0.17737015]]\n",
            "       target\n",
            "902         0\n",
            "3804        0\n",
            "33418       0\n",
            "35239       0\n",
            "18256       1\n",
            "26745       1\n",
            "7390        0\n",
            "35376       0\n",
            "23093       0\n",
            "16538       0\n"
          ]
        }
      ]
    },
    {
      "cell_type": "code",
      "source": [
        "feature_importances = model.get_feature_importance(train_pool)\n",
        "feature_names = X_train.columns\n",
        "for score, name in sorted(zip(feature_importances, feature_names), reverse=True):\n",
        "    print('{}: {}'.format(name, score))\n"
      ],
      "metadata": {
        "colab": {
          "base_uri": "https://localhost:8080/"
        },
        "id": "LKsiuV0uA4I9",
        "outputId": "2381f1ca-462a-4c1c-d7a9-48b980c13009"
      },
      "id": "LKsiuV0uA4I9",
      "execution_count": 34,
      "outputs": [
        {
          "output_type": "stream",
          "name": "stdout",
          "text": [
            "trades-BUY-6-sec: 7.470607652253464\n",
            "trades-SELL-6-sec: 7.253465447980127\n",
            "trades-BUY-18-sec: 6.101847265930916\n",
            "trades-SELL-18-sec: 5.866337351323783\n",
            "trades-SELL-24-sec: 5.2820557754218385\n",
            "trades-SELL-54-sec: 5.129648003268254\n",
            "trades-SELL-48-sec: 5.089088189223472\n",
            "trades-BUY-30-sec: 5.01854024351934\n",
            "trades-SELL-12-sec: 4.980854166302269\n",
            "trades-SELL-30-sec: 4.966673396291865\n",
            "trades-BUY-12-sec: 4.931175229515814\n",
            "trades-BUY-24-sec: 4.730257634183482\n",
            "trades-BUY-48-sec: 4.50149499002392\n",
            "trades-BUY-60-sec: 4.471201511192456\n",
            "trades-SELL-36-sec: 4.3770673465956955\n",
            "trades-SELL-60-sec: 4.359567778160714\n",
            "trades-SELL-42-sec: 4.169613690494425\n",
            "trades-BUY-36-sec: 3.9735835628164073\n",
            "trades-BUY-54-sec: 3.7297042566523424\n",
            "trades-BUY-42-sec: 3.5972165088494434\n"
          ]
        }
      ]
    },
    {
      "cell_type": "code",
      "source": [
        ""
      ],
      "metadata": {
        "id": "BOXaFSRshnIV"
      },
      "id": "BOXaFSRshnIV",
      "execution_count": null,
      "outputs": []
    }
  ],
  "metadata": {
    "kernelspec": {
      "display_name": "Python 3 (ipykernel)",
      "language": "python",
      "name": "python3"
    },
    "language_info": {
      "codemirror_mode": {
        "name": "ipython",
        "version": 3
      },
      "file_extension": ".py",
      "mimetype": "text/x-python",
      "name": "python",
      "nbconvert_exporter": "python",
      "pygments_lexer": "ipython3",
      "version": "3.8.10"
    },
    "colab": {
      "name": "trades-size-catboost.ipynb",
      "provenance": [],
      "collapsed_sections": []
    },
    "widgets": {
      "application/vnd.jupyter.widget-state+json": {
        "d8983083b68c401eaec0df816fcc41db": {
          "model_module": "catboost-widget",
          "model_name": "CatboostWidgetModel",
          "model_module_version": "^1.0.0",
          "state": {
            "_view_name": "CatboostWidgetView",
            "_dom_classes": [],
            "_model_name": "CatboostWidgetModel",
            "data": {
              "catboost_info/fold-1": {
                "content": {
                  "data": {
                    "meta": {
                      "name": "experiment",
                      "parameters": "",
                      "test_metrics": [
                        {
                          "best_value": "Max",
                          "name": "Accuracy"
                        },
                        {
                          "best_value": "Min",
                          "name": "MultiClass"
                        }
                      ],
                      "learn_sets": [
                        "learn"
                      ],
                      "launch_mode": "Train",
                      "learn_metrics": [
                        {
                          "best_value": "Max",
                          "name": "Accuracy"
                        },
                        {
                          "best_value": "Min",
                          "name": "MultiClass"
                        }
                      ],
                      "iteration_count": 500,
                      "test_sets": [
                        "test"
                      ]
                    },
                    "iterations": [
                      {
                        "test": [
                          0.7526800719,
                          1.018125826
                        ],
                        "passed_time": 0.01561392778,
                        "iteration": 0,
                        "remaining_time": 7.791349963,
                        "learn": [
                          0.751622624,
                          1.018406664
                        ]
                      },
                      {
                        "test": [
                          0.7514052269,
                          0.9575352729
                        ],
                        "passed_time": 0.0310656922,
                        "iteration": 1,
                        "remaining_time": 7.735357357,
                        "learn": [
                          0.7519123783,
                          0.9577381009
                        ]
                      },
                      {
                        "test": [
                          0.7524482819,
                          0.9093994482
                        ],
                        "passed_time": 0.04559800612,
                        "iteration": 2,
                        "remaining_time": 7.554069681,
                        "learn": [
                          0.7522600834,
                          0.9095684145
                        ]
                      },
                      {
                        "test": [
                          0.7521585444,
                          0.8714857748
                        ],
                        "passed_time": 0.06116851564,
                        "iteration": 3,
                        "remaining_time": 7.584895939,
                        "learn": [
                          0.752231108,
                          0.8715090436
                        ]
                      },
                      {
                        "test": [
                          0.7522164919,
                          0.8409365787
                        ],
                        "passed_time": 0.08003316484,
                        "iteration": 4,
                        "remaining_time": 7.92328332,
                        "learn": [
                          0.7524049606,
                          0.8409745732
                        ]
                      },
                      {
                        "test": [
                          0.7523903344,
                          0.815845722
                        ],
                        "passed_time": 0.09447701169,
                        "iteration": 5,
                        "remaining_time": 7.778607296,
                        "learn": [
                          0.7527526657,
                          0.8158031636
                        ]
                      },
                      {
                        "test": [
                          0.7525062294,
                          0.7948709721
                        ],
                        "passed_time": 0.1091233659,
                        "iteration": 6,
                        "remaining_time": 7.685402771,
                        "learn": [
                          0.7525788132,
                          0.7948164963
                        ]
                      },
                      {
                        "test": [
                          0.7526221244,
                          0.7775752913
                        ],
                        "passed_time": 0.1240917277,
                        "iteration": 7,
                        "remaining_time": 7.631641251,
                        "learn": [
                          0.7527816412,
                          0.7774220847
                        ]
                      },
                      {
                        "test": [
                          0.7528539144,
                          0.7629099973
                        ],
                        "passed_time": 0.1389910334,
                        "iteration": 8,
                        "remaining_time": 7.582733043,
                        "learn": [
                          0.7528975429,
                          0.7627093609
                        ]
                      },
                      {
                        "test": [
                          0.7525641769,
                          0.7507525514
                        ],
                        "passed_time": 0.1536019502,
                        "iteration": 9,
                        "remaining_time": 7.526495561,
                        "learn": [
                          0.7529265183,
                          0.7504151621
                        ]
                      },
                      {
                        "test": [
                          0.7526800719,
                          0.740627113
                        ],
                        "passed_time": 0.1682473712,
                        "iteration": 10,
                        "remaining_time": 7.479360411,
                        "learn": [
                          0.7531872972,
                          0.740200682
                        ]
                      },
                      {
                        "test": [
                          0.7526800719,
                          0.7323092388
                        ],
                        "passed_time": 0.1875741483,
                        "iteration": 11,
                        "remaining_time": 7.628015364,
                        "learn": [
                          0.75304242,
                          0.7317583562
                        ]
                      },
                      {
                        "test": [
                          0.7526221244,
                          0.7252827643
                        ],
                        "passed_time": 0.2333046844,
                        "iteration": 12,
                        "remaining_time": 8.739952406,
                        "learn": [
                          0.7533901252,
                          0.7245643781
                        ]
                      },
                      {
                        "test": [
                          0.7527380194,
                          0.7193789452
                        ],
                        "passed_time": 0.2585803501,
                        "iteration": 13,
                        "remaining_time": 8.976432155,
                        "learn": [
                          0.7535929532,
                          0.7185521112
                        ]
                      },
                      {
                        "test": [
                          0.7526221244,
                          0.7143186128
                        ],
                        "passed_time": 0.2737149618,
                        "iteration": 14,
                        "remaining_time": 8.850117099,
                        "learn": [
                          0.7535350023,
                          0.7134453998
                        ]
                      },
                      {
                        "test": [
                          0.7525062294,
                          0.7101611351
                        ],
                        "passed_time": 0.2888726962,
                        "iteration": 15,
                        "remaining_time": 8.738399059,
                        "learn": [
                          0.7536219286,
                          0.7090395409
                        ]
                      },
                      {
                        "test": [
                          0.7525641769,
                          0.7065135682
                        ],
                        "passed_time": 0.3035223224,
                        "iteration": 16,
                        "remaining_time": 8.623604806,
                        "learn": [
                          0.7535060269,
                          0.7052853963
                        ]
                      },
                      {
                        "test": [
                          0.7526221244,
                          0.7033669789
                        ],
                        "passed_time": 0.3187239673,
                        "iteration": 17,
                        "remaining_time": 8.534719568,
                        "learn": [
                          0.7533321743,
                          0.7019721931
                        ]
                      },
                      {
                        "test": [
                          0.7529118619,
                          0.7005536381
                        ],
                        "passed_time": 0.3339362627,
                        "iteration": 18,
                        "remaining_time": 8.453860125,
                        "learn": [
                          0.7535060269,
                          0.6991585542
                        ]
                      },
                      {
                        "test": [
                          0.7528539144,
                          0.6981515785
                        ],
                        "passed_time": 0.3487968504,
                        "iteration": 19,
                        "remaining_time": 8.371124411,
                        "learn": [
                          0.7535350023,
                          0.696799552
                        ]
                      },
                      {
                        "test": [
                          0.7529118619,
                          0.6962282898
                        ],
                        "passed_time": 0.3642612996,
                        "iteration": 20,
                        "remaining_time": 8.308626787,
                        "learn": [
                          0.7535060269,
                          0.6948608458
                        ]
                      },
                      {
                        "test": [
                          0.7532015994,
                          0.6946935248
                        ],
                        "passed_time": 0.3797386014,
                        "iteration": 21,
                        "remaining_time": 8.250684157,
                        "learn": [
                          0.7537668057,
                          0.6931733798
                        ]
                      },
                      {
                        "test": [
                          0.7532595469,
                          0.693273696
                        ],
                        "passed_time": 0.3947255196,
                        "iteration": 22,
                        "remaining_time": 8.186264036,
                        "learn": [
                          0.753853732,
                          0.691626063
                        ]
                      },
                      {
                        "test": [
                          0.7533174944,
                          0.6922408686
                        ],
                        "passed_time": 0.4094841535,
                        "iteration": 23,
                        "remaining_time": 8.121435712,
                        "learn": [
                          0.7539116829,
                          0.6905312204
                        ]
                      },
                      {
                        "test": [
                          0.7532595469,
                          0.6911863231
                        ],
                        "passed_time": 0.4242782122,
                        "iteration": 24,
                        "remaining_time": 8.061286031,
                        "learn": [
                          0.7539986092,
                          0.6894170013
                        ]
                      },
                      {
                        "test": [
                          0.7531436519,
                          0.690092816
                        ],
                        "passed_time": 0.4395962648,
                        "iteration": 25,
                        "remaining_time": 8.014178057,
                        "learn": [
                          0.75405656,
                          0.6882726999
                        ]
                      },
                      {
                        "test": [
                          0.7530857044,
                          0.6892982268
                        ],
                        "passed_time": 0.4549652569,
                        "iteration": 26,
                        "remaining_time": 7.970317279,
                        "learn": [
                          0.7541434863,
                          0.6874173901
                        ]
                      },
                      {
                        "test": [
                          0.7528539144,
                          0.6885830241
                        ],
                        "passed_time": 0.47029153,
                        "iteration": 27,
                        "remaining_time": 7.927771505,
                        "learn": [
                          0.7540855355,
                          0.6865129605
                        ]
                      },
                      {
                        "test": [
                          0.7530277569,
                          0.6878722455
                        ],
                        "passed_time": 0.4853881287,
                        "iteration": 28,
                        "remaining_time": 7.883372711,
                        "learn": [
                          0.7540855355,
                          0.6858422548
                        ]
                      },
                      {
                        "test": [
                          0.7527380194,
                          0.6873581129
                        ],
                        "passed_time": 0.5008209134,
                        "iteration": 29,
                        "remaining_time": 7.846194311,
                        "learn": [
                          0.7541145109,
                          0.6852843967
                        ]
                      },
                      {
                        "test": [
                          0.7526800719,
                          0.6867359953
                        ],
                        "passed_time": 0.5174071441,
                        "iteration": 30,
                        "remaining_time": 7.827869374,
                        "learn": [
                          0.75405656,
                          0.6843759682
                        ]
                      },
                      {
                        "test": [
                          0.7525641769,
                          0.686407569
                        ],
                        "passed_time": 0.5326289833,
                        "iteration": 31,
                        "remaining_time": 7.789698881,
                        "learn": [
                          0.75405656,
                          0.6839076845
                        ]
                      },
                      {
                        "test": [
                          0.7525641769,
                          0.685699691
                        ],
                        "passed_time": 0.5478064542,
                        "iteration": 32,
                        "remaining_time": 7.752291336,
                        "learn": [
                          0.7542304126,
                          0.6830543743
                        ]
                      },
                      {
                        "test": [
                          0.7525062294,
                          0.6853072852
                        ],
                        "passed_time": 0.5628280993,
                        "iteration": 33,
                        "remaining_time": 7.714055713,
                        "learn": [
                          0.7541724618,
                          0.6825717491
                        ]
                      },
                      {
                        "test": [
                          0.7525062294,
                          0.6847676118
                        ],
                        "passed_time": 0.577689772,
                        "iteration": 34,
                        "remaining_time": 7.675021257,
                        "learn": [
                          0.7540855355,
                          0.6819785091
                        ]
                      },
                      {
                        "test": [
                          0.7524482819,
                          0.6845730676
                        ],
                        "passed_time": 0.5924259075,
                        "iteration": 35,
                        "remaining_time": 7.635711697,
                        "learn": [
                          0.7542304126,
                          0.6816288137
                        ]
                      },
                      {
                        "test": [
                          0.7523903344,
                          0.684327234
                        ],
                        "passed_time": 0.6078342795,
                        "iteration": 36,
                        "remaining_time": 7.606142471,
                        "learn": [
                          0.754259388,
                          0.6812681838
                        ]
                      },
                      {
                        "test": [
                          0.7523903344,
                          0.6840097821
                        ],
                        "passed_time": 0.6229045509,
                        "iteration": 37,
                        "remaining_time": 7.573207961,
                        "learn": [
                          0.7541724618,
                          0.6808560981
                        ]
                      },
                      {
                        "test": [
                          0.7524482819,
                          0.68369347
                        ],
                        "passed_time": 0.6386399853,
                        "iteration": 38,
                        "remaining_time": 7.549052134,
                        "learn": [
                          0.7541145109,
                          0.680511061
                        ]
                      },
                      {
                        "test": [
                          0.7522744394,
                          0.6834493922
                        ],
                        "passed_time": 0.6538005571,
                        "iteration": 39,
                        "remaining_time": 7.518706406,
                        "learn": [
                          0.754259388,
                          0.6801925362
                        ]
                      },
                      {
                        "test": [
                          0.7525062294,
                          0.6833437425
                        ],
                        "passed_time": 0.6693902726,
                        "iteration": 40,
                        "remaining_time": 7.493905735,
                        "learn": [
                          0.7543752898,
                          0.679884106
                        ]
                      },
                      {
                        "test": [
                          0.7524482819,
                          0.6833002135
                        ],
                        "passed_time": 0.6964459766,
                        "iteration": 41,
                        "remaining_time": 7.594577555,
                        "learn": [
                          0.7544332406,
                          0.6796347477
                        ]
                      },
                      {
                        "test": [
                          0.7526221244,
                          0.6829507844
                        ],
                        "passed_time": 0.7127660551,
                        "iteration": 42,
                        "remaining_time": 7.57521133,
                        "learn": [
                          0.7544911915,
                          0.6792242421
                        ]
                      },
                      {
                        "test": [
                          0.7526221244,
                          0.6829318582
                        ],
                        "passed_time": 0.7271088592,
                        "iteration": 43,
                        "remaining_time": 7.535491813,
                        "learn": [
                          0.7544911915,
                          0.6791088226
                        ]
                      },
                      {
                        "test": [
                          0.7526800719,
                          0.6826610738
                        ],
                        "passed_time": 0.7423188486,
                        "iteration": 44,
                        "remaining_time": 7.505668358,
                        "learn": [
                          0.7544911915,
                          0.6786768122
                        ]
                      },
                      {
                        "test": [
                          0.7526221244,
                          0.6824684226
                        ],
                        "passed_time": 0.757331105,
                        "iteration": 45,
                        "remaining_time": 7.474528732,
                        "learn": [
                          0.754462216,
                          0.6783569484
                        ]
                      },
                      {
                        "test": [
                          0.7525062294,
                          0.6822276079
                        ],
                        "passed_time": 0.7726505813,
                        "iteration": 46,
                        "remaining_time": 7.447036454,
                        "learn": [
                          0.7545491423,
                          0.6780396959
                        ]
                      },
                      {
                        "test": [
                          0.7526800719,
                          0.6820366178
                        ],
                        "passed_time": 0.7877143328,
                        "iteration": 47,
                        "remaining_time": 7.417643301,
                        "learn": [
                          0.7545201669,
                          0.6776993978
                        ]
                      },
                      {
                        "test": [
                          0.7527380194,
                          0.6819931942
                        ],
                        "passed_time": 0.8025398736,
                        "iteration": 48,
                        "remaining_time": 7.38664251,
                        "learn": [
                          0.754462216,
                          0.6774363706
                        ]
                      },
                      {
                        "test": [
                          0.7526221244,
                          0.6819826839
                        ],
                        "passed_time": 0.8189715459,
                        "iteration": 49,
                        "remaining_time": 7.370743913,
                        "learn": [
                          0.7544042652,
                          0.6772698804
                        ]
                      },
                      {
                        "test": [
                          0.7526221244,
                          0.6818902245
                        ],
                        "passed_time": 0.8337540416,
                        "iteration": 50,
                        "remaining_time": 7.34030519,
                        "learn": [
                          0.7545201669,
                          0.677068057
                        ]
                      },
                      {
                        "test": [
                          0.7526800719,
                          0.6818454316
                        ],
                        "passed_time": 0.8481579635,
                        "iteration": 51,
                        "remaining_time": 7.307207071,
                        "learn": [
                          0.7545201669,
                          0.6769095192
                        ]
                      },
                      {
                        "test": [
                          0.7527380194,
                          0.6817258731
                        ],
                        "passed_time": 0.8630660507,
                        "iteration": 52,
                        "remaining_time": 7.279066503,
                        "learn": [
                          0.7543752898,
                          0.6766190823
                        ]
                      },
                      {
                        "test": [
                          0.7526800719,
                          0.6816635918
                        ],
                        "passed_time": 0.8774342825,
                        "iteration": 53,
                        "remaining_time": 7.246957222,
                        "learn": [
                          0.754665044,
                          0.6764575547
                        ]
                      },
                      {
                        "test": [
                          0.7526221244,
                          0.6815081408
                        ],
                        "passed_time": 0.8926308807,
                        "iteration": 54,
                        "remaining_time": 7.222195308,
                        "learn": [
                          0.7546360686,
                          0.6761139382
                        ]
                      },
                      {
                        "test": [
                          0.7525062294,
                          0.6814471222
                        ],
                        "passed_time": 0.9072256131,
                        "iteration": 55,
                        "remaining_time": 7.193003075,
                        "learn": [
                          0.7547519703,
                          0.6759678351
                        ]
                      },
                      {
                        "test": [
                          0.7525641769,
                          0.6812639775
                        ],
                        "passed_time": 0.9222234809,
                        "iteration": 56,
                        "remaining_time": 7.167456176,
                        "learn": [
                          0.7545491423,
                          0.6756952948
                        ]
                      },
                      {
                        "test": [
                          0.7523903344,
                          0.6812522908
                        ],
                        "passed_time": 0.9361106361,
                        "iteration": 57,
                        "remaining_time": 7.133808641,
                        "learn": [
                          0.754665044,
                          0.6756026385
                        ]
                      },
                      {
                        "test": [
                          0.7523323869,
                          0.6812184176
                        ],
                        "passed_time": 0.95134378,
                        "iteration": 58,
                        "remaining_time": 7.110891644,
                        "learn": [
                          0.7546070932,
                          0.6754623101
                        ]
                      },
                      {
                        "test": [
                          0.7525062294,
                          0.6811564862
                        ],
                        "passed_time": 0.9656993557,
                        "iteration": 59,
                        "remaining_time": 7.081795275,
                        "learn": [
                          0.7548099212,
                          0.6753105071
                        ]
                      },
                      {
                        "test": [
                          0.7525641769,
                          0.6810701675
                        ],
                        "passed_time": 0.9807736923,
                        "iteration": 60,
                        "remaining_time": 7.058354933,
                        "learn": [
                          0.754867872,
                          0.675134074
                        ]
                      },
                      {
                        "test": [
                          0.7526221244,
                          0.6810019384
                        ],
                        "passed_time": 0.995455513,
                        "iteration": 61,
                        "remaining_time": 7.032411527,
                        "learn": [
                          0.7547229949,
                          0.6749703914
                        ]
                      },
                      {
                        "test": [
                          0.7526221244,
                          0.6809005886
                        ],
                        "passed_time": 1.009888703,
                        "iteration": 62,
                        "remaining_time": 7.005101003,
                        "learn": [
                          0.7547519703,
                          0.6748645374
                        ]
                      },
                      {
                        "test": [
                          0.7526800719,
                          0.6808361358
                        ],
                        "passed_time": 1.024867901,
                        "iteration": 63,
                        "remaining_time": 6.981912577,
                        "learn": [
                          0.7548099212,
                          0.6747355191
                        ]
                      },
                      {
                        "test": [
                          0.7525641769,
                          0.6808179888
                        ],
                        "passed_time": 1.03956658,
                        "iteration": 64,
                        "remaining_time": 6.95709942,
                        "learn": [
                          0.7547809458,
                          0.6746336331
                        ]
                      },
                      {
                        "test": [
                          0.7524482819,
                          0.6807733056
                        ],
                        "passed_time": 1.054596089,
                        "iteration": 65,
                        "remaining_time": 6.93476822,
                        "learn": [
                          0.7548388966,
                          0.6744955782
                        ]
                      },
                      {
                        "test": [
                          0.7525062294,
                          0.6807728973
                        ],
                        "passed_time": 1.069550838,
                        "iteration": 66,
                        "remaining_time": 6.912171833,
                        "learn": [
                          0.754867872,
                          0.6743674744
                        ]
                      },
                      {
                        "test": [
                          0.7526221244,
                          0.680738094
                        ],
                        "passed_time": 1.08442325,
                        "iteration": 67,
                        "remaining_time": 6.88927712,
                        "learn": [
                          0.754867872,
                          0.6742418695
                        ]
                      },
                      {
                        "test": [
                          0.7526221244,
                          0.6807352938
                        ],
                        "passed_time": 1.099345997,
                        "iteration": 68,
                        "remaining_time": 6.866929346,
                        "learn": [
                          0.7548099212,
                          0.6741354423
                        ]
                      },
                      {
                        "test": [
                          0.7527380194,
                          0.6807634423
                        ],
                        "passed_time": 1.114896142,
                        "iteration": 69,
                        "remaining_time": 6.84864773,
                        "learn": [
                          0.754867872,
                          0.6739766308
                        ]
                      },
                      {
                        "test": [
                          0.7528539144,
                          0.6806930484
                        ],
                        "passed_time": 1.129123263,
                        "iteration": 70,
                        "remaining_time": 6.822449009,
                        "learn": [
                          0.754867872,
                          0.6738617592
                        ]
                      },
                      {
                        "test": [
                          0.7528539144,
                          0.680603493
                        ],
                        "passed_time": 1.143594365,
                        "iteration": 71,
                        "remaining_time": 6.79803317,
                        "learn": [
                          0.7549258229,
                          0.6737512362
                        ]
                      },
                      {
                        "test": [
                          0.7528539144,
                          0.6805770156
                        ],
                        "passed_time": 1.158239495,
                        "iteration": 72,
                        "remaining_time": 6.774907732,
                        "learn": [
                          0.7546940195,
                          0.6736222498
                        ]
                      },
                      {
                        "test": [
                          0.7528539144,
                          0.6805438732
                        ],
                        "passed_time": 1.172059705,
                        "iteration": 73,
                        "remaining_time": 6.747262628,
                        "learn": [
                          0.7547809458,
                          0.6735547389
                        ]
                      },
                      {
                        "test": [
                          0.7528539144,
                          0.6805187525
                        ],
                        "passed_time": 1.187381569,
                        "iteration": 74,
                        "remaining_time": 6.728495555,
                        "learn": [
                          0.7549547983,
                          0.6733270692
                        ]
                      },
                      {
                        "test": [
                          0.7527959669,
                          0.6805200567
                        ],
                        "passed_time": 1.202812408,
                        "iteration": 75,
                        "remaining_time": 6.710427117,
                        "learn": [
                          0.7548968475,
                          0.6731803046
                        ]
                      },
                      {
                        "test": [
                          0.7529118619,
                          0.6804783659
                        ],
                        "passed_time": 1.253565248,
                        "iteration": 76,
                        "remaining_time": 6.886468827,
                        "learn": [
                          0.7548968475,
                          0.6729932731
                        ]
                      },
                      {
                        "test": [
                          0.7529118619,
                          0.6804796929
                        ],
                        "passed_time": 1.284422187,
                        "iteration": 77,
                        "remaining_time": 6.949053371,
                        "learn": [
                          0.7549258229,
                          0.6728979331
                        ]
                      },
                      {
                        "test": [
                          0.7528539144,
                          0.6804542891
                        ],
                        "passed_time": 1.299240413,
                        "iteration": 78,
                        "remaining_time": 6.923800177,
                        "learn": [
                          0.7550127492,
                          0.6728051583
                        ]
                      },
                      {
                        "test": [
                          0.7529698094,
                          0.6802748909
                        ],
                        "passed_time": 1.315895649,
                        "iteration": 79,
                        "remaining_time": 6.908452158,
                        "learn": [
                          0.7549837738,
                          0.6724525945
                        ]
                      },
                      {
                        "test": [
                          0.7529118619,
                          0.6802626834
                        ],
                        "passed_time": 1.330874764,
                        "iteration": 80,
                        "remaining_time": 6.884401558,
                        "learn": [
                          0.7550996755,
                          0.6722944197
                        ]
                      },
                      {
                        "test": [
                          0.7530277569,
                          0.680184019
                        ],
                        "passed_time": 1.34666159,
                        "iteration": 81,
                        "remaining_time": 6.864689568,
                        "learn": [
                          0.7550707,
                          0.6720645826
                        ]
                      },
                      {
                        "test": [
                          0.7529698094,
                          0.6801206477
                        ],
                        "passed_time": 1.361362044,
                        "iteration": 82,
                        "remaining_time": 6.839614122,
                        "learn": [
                          0.7552155772,
                          0.6718878096
                        ]
                      },
                      {
                        "test": [
                          0.7530277569,
                          0.6801083144
                        ],
                        "passed_time": 1.375748314,
                        "iteration": 83,
                        "remaining_time": 6.813229746,
                        "learn": [
                          0.7551866018,
                          0.671840534
                        ]
                      },
                      {
                        "test": [
                          0.7531436519,
                          0.6800603876
                        ],
                        "passed_time": 1.389992622,
                        "iteration": 84,
                        "remaining_time": 6.786434566,
                        "learn": [
                          0.7550707,
                          0.6717316126
                        ]
                      },
                      {
                        "test": [
                          0.7531436519,
                          0.6800042588
                        ],
                        "passed_time": 1.405333015,
                        "iteration": 85,
                        "remaining_time": 6.765207769,
                        "learn": [
                          0.7551286509,
                          0.6715500838
                        ]
                      },
                      {
                        "test": [
                          0.7531436519,
                          0.6799678717
                        ],
                        "passed_time": 1.420064799,
                        "iteration": 86,
                        "remaining_time": 6.741227147,
                        "learn": [
                          0.7552155772,
                          0.6714306424
                        ]
                      },
                      {
                        "test": [
                          0.7530277569,
                          0.6799075912
                        ],
                        "passed_time": 1.434685532,
                        "iteration": 87,
                        "remaining_time": 6.716936811,
                        "learn": [
                          0.7550996755,
                          0.6713052986
                        ]
                      },
                      {
                        "test": [
                          0.7530277569,
                          0.6798126362
                        ],
                        "passed_time": 1.449728407,
                        "iteration": 88,
                        "remaining_time": 6.694813204,
                        "learn": [
                          0.7550707,
                          0.6711863993
                        ]
                      },
                      {
                        "test": [
                          0.7527380194,
                          0.6798071865
                        ],
                        "passed_time": 1.464592043,
                        "iteration": 89,
                        "remaining_time": 6.672030419,
                        "learn": [
                          0.7554473806,
                          0.6710222513
                        ]
                      },
                      {
                        "test": [
                          0.7526800719,
                          0.6797781225
                        ],
                        "passed_time": 1.479889847,
                        "iteration": 90,
                        "remaining_time": 6.651373049,
                        "learn": [
                          0.7555632823,
                          0.6709147913
                        ]
                      },
                      {
                        "test": [
                          0.7527959669,
                          0.6797334018
                        ],
                        "passed_time": 1.498445767,
                        "iteration": 91,
                        "remaining_time": 6.645281228,
                        "learn": [
                          0.7555343069,
                          0.6707199194
                        ]
                      },
                      {
                        "test": [
                          0.7529698094,
                          0.6797045588
                        ],
                        "passed_time": 1.512696521,
                        "iteration": 92,
                        "remaining_time": 6.620080473,
                        "learn": [
                          0.7556502086,
                          0.6706420768
                        ]
                      },
                      {
                        "test": [
                          0.7529118619,
                          0.6796673125
                        ],
                        "passed_time": 1.527250056,
                        "iteration": 93,
                        "remaining_time": 6.596420456,
                        "learn": [
                          0.7556212332,
                          0.6705755929
                        ]
                      },
                      {
                        "test": [
                          0.7529118619,
                          0.679661468
                        ],
                        "passed_time": 1.542157471,
                        "iteration": 94,
                        "remaining_time": 6.574460796,
                        "learn": [
                          0.7556502086,
                          0.6704910256
                        ]
                      },
                      {
                        "test": [
                          0.7528539144,
                          0.6795797656
                        ],
                        "passed_time": 1.557046297,
                        "iteration": 95,
                        "remaining_time": 6.552569832,
                        "learn": [
                          0.7557081595,
                          0.6703174096
                        ]
                      },
                      {
                        "test": [
                          0.7527959669,
                          0.6795091403
                        ],
                        "passed_time": 1.571975669,
                        "iteration": 96,
                        "remaining_time": 6.530991695,
                        "learn": [
                          0.7556791841,
                          0.670190086
                        ]
                      },
                      {
                        "test": [
                          0.7527959669,
                          0.6795087642
                        ],
                        "passed_time": 1.587492675,
                        "iteration": 97,
                        "remaining_time": 6.511959749,
                        "learn": [
                          0.7558530366,
                          0.6701121238
                        ]
                      },
                      {
                        "test": [
                          0.7529118619,
                          0.6794616395
                        ],
                        "passed_time": 1.602549622,
                        "iteration": 98,
                        "remaining_time": 6.491135339,
                        "learn": [
                          0.7558240612,
                          0.6699045476
                        ]
                      },
                      {
                        "test": [
                          0.7530857044,
                          0.6794500768
                        ],
                        "passed_time": 1.616950275,
                        "iteration": 99,
                        "remaining_time": 6.467801102,
                        "learn": [
                          0.7559979138,
                          0.6698001835
                        ]
                      },
                      {
                        "test": [
                          0.7529698094,
                          0.679431794
                        ],
                        "passed_time": 1.631991064,
                        "iteration": 100,
                        "remaining_time": 6.44717262,
                        "learn": [
                          0.7559979138,
                          0.6696646668
                        ]
                      },
                      {
                        "test": [
                          0.7529698094,
                          0.6794362479
                        ],
                        "passed_time": 1.647452535,
                        "iteration": 101,
                        "remaining_time": 6.428295184,
                        "learn": [
                          0.7560558646,
                          0.669565364
                        ]
                      },
                      {
                        "test": [
                          0.7529118619,
                          0.679445955
                        ],
                        "passed_time": 1.662950452,
                        "iteration": 102,
                        "remaining_time": 6.409624558,
                        "learn": [
                          0.7558530366,
                          0.6693982384
                        ]
                      },
                      {
                        "test": [
                          0.7529118619,
                          0.6794436409
                        ],
                        "passed_time": 1.678584044,
                        "iteration": 103,
                        "remaining_time": 6.391531551,
                        "learn": [
                          0.7558240612,
                          0.6692339458
                        ]
                      },
                      {
                        "test": [
                          0.7529698094,
                          0.6794522257
                        ],
                        "passed_time": 1.69833352,
                        "iteration": 104,
                        "remaining_time": 6.388968956,
                        "learn": [
                          0.7558530366,
                          0.6691158618
                        ]
                      },
                      {
                        "test": [
                          0.7529118619,
                          0.6793910785
                        ],
                        "passed_time": 1.720792973,
                        "iteration": 105,
                        "remaining_time": 6.396155013,
                        "learn": [
                          0.7558820121,
                          0.6689730661
                        ]
                      },
                      {
                        "test": [
                          0.7529698094,
                          0.6793120406
                        ],
                        "passed_time": 1.736514509,
                        "iteration": 106,
                        "remaining_time": 6.378039271,
                        "learn": [
                          0.7558530366,
                          0.6688348853
                        ]
                      },
                      {
                        "test": [
                          0.7530277569,
                          0.6792954303
                        ],
                        "passed_time": 1.751277205,
                        "iteration": 107,
                        "remaining_time": 6.356487635,
                        "learn": [
                          0.7558530366,
                          0.6687465963
                        ]
                      },
                      {
                        "test": [
                          0.7529698094,
                          0.6792304543
                        ],
                        "passed_time": 1.766157471,
                        "iteration": 108,
                        "remaining_time": 6.335482306,
                        "learn": [
                          0.7559399629,
                          0.6686260131
                        ]
                      },
                      {
                        "test": [
                          0.7530277569,
                          0.6792697639
                        ],
                        "passed_time": 1.784328424,
                        "iteration": 109,
                        "remaining_time": 6.326255323,
                        "learn": [
                          0.7559109875,
                          0.6685320476
                        ]
                      },
                      {
                        "test": [
                          0.7530857044,
                          0.6792560252
                        ],
                        "passed_time": 1.798369179,
                        "iteration": 110,
                        "remaining_time": 6.302392888,
                        "learn": [
                          0.7559979138,
                          0.6684606522
                        ]
                      },
                      {
                        "test": [
                          0.7530857044,
                          0.6792670268
                        ],
                        "passed_time": 1.814212367,
                        "iteration": 111,
                        "remaining_time": 6.284949986,
                        "learn": [
                          0.7560558646,
                          0.6683023913
                        ]
                      },
                      {
                        "test": [
                          0.7530277569,
                          0.6792463472
                        ],
                        "passed_time": 1.828658121,
                        "iteration": 112,
                        "remaining_time": 6.262749495,
                        "learn": [
                          0.7562297172,
                          0.6681856087
                        ]
                      },
                      {
                        "test": [
                          0.7532015994,
                          0.6792602205
                        ],
                        "passed_time": 1.842470422,
                        "iteration": 113,
                        "remaining_time": 6.2385402,
                        "learn": [
                          0.7563456189,
                          0.6680638549
                        ]
                      },
                      {
                        "test": [
                          0.7531436519,
                          0.6792759002
                        ],
                        "passed_time": 1.856616891,
                        "iteration": 114,
                        "remaining_time": 6.215630462,
                        "learn": [
                          0.7562586926,
                          0.6679730955
                        ]
                      },
                      {
                        "test": [
                          0.7533174944,
                          0.6792968392
                        ],
                        "passed_time": 1.870957535,
                        "iteration": 115,
                        "remaining_time": 6.1935146,
                        "learn": [
                          0.7563745943,
                          0.6678603866
                        ]
                      },
                      {
                        "test": [
                          0.7532595469,
                          0.6792580741
                        ],
                        "passed_time": 1.886266275,
                        "iteration": 116,
                        "remaining_time": 6.174700713,
                        "learn": [
                          0.7564035698,
                          0.6677208962
                        ]
                      },
                      {
                        "test": [
                          0.7533754418,
                          0.6792809864
                        ],
                        "passed_time": 1.900603341,
                        "iteration": 117,
                        "remaining_time": 6.152800647,
                        "learn": [
                          0.7564035698,
                          0.6676293979
                        ]
                      },
                      {
                        "test": [
                          0.7530277569,
                          0.6792655781
                        ],
                        "passed_time": 1.914620647,
                        "iteration": 118,
                        "remaining_time": 6.130003919,
                        "learn": [
                          0.7563745943,
                          0.6675472272
                        ]
                      },
                      {
                        "test": [
                          0.7530277569,
                          0.6792448976
                        ],
                        "passed_time": 1.929935271,
                        "iteration": 119,
                        "remaining_time": 6.111461692,
                        "learn": [
                          0.7564035698,
                          0.6674445123
                        ]
                      },
                      {
                        "test": [
                          0.7530277569,
                          0.679266588
                        ],
                        "passed_time": 1.94416585,
                        "iteration": 120,
                        "remaining_time": 6.089577332,
                        "learn": [
                          0.7563456189,
                          0.6673857903
                        ]
                      },
                      {
                        "test": [
                          0.7529698094,
                          0.6792554403
                        ],
                        "passed_time": 1.958655998,
                        "iteration": 121,
                        "remaining_time": 6.068622681,
                        "learn": [
                          0.7563456189,
                          0.6673164198
                        ]
                      },
                      {
                        "test": [
                          0.7529698094,
                          0.6792719764
                        ],
                        "passed_time": 1.973821745,
                        "iteration": 122,
                        "remaining_time": 6.049843884,
                        "learn": [
                          0.7563456189,
                          0.6671680337
                        ]
                      },
                      {
                        "test": [
                          0.7530277569,
                          0.6792639179
                        ],
                        "passed_time": 1.988270129,
                        "iteration": 123,
                        "remaining_time": 6.028948132,
                        "learn": [
                          0.7563745943,
                          0.6670737504
                        ]
                      },
                      {
                        "test": [
                          0.7529698094,
                          0.6792518914
                        ],
                        "passed_time": 2.00255229,
                        "iteration": 124,
                        "remaining_time": 6.007656871,
                        "learn": [
                          0.7563456189,
                          0.6669702908
                        ]
                      },
                      {
                        "test": [
                          0.7530277569,
                          0.679223735
                        ],
                        "passed_time": 2.01628716,
                        "iteration": 125,
                        "remaining_time": 5.984852364,
                        "learn": [
                          0.7565194715,
                          0.6668620013
                        ]
                      },
                      {
                        "test": [
                          0.7530277569,
                          0.6792778003
                        ],
                        "passed_time": 2.030801526,
                        "iteration": 126,
                        "remaining_time": 5.964480071,
                        "learn": [
                          0.7564035698,
                          0.6667325622
                        ]
                      },
                      {
                        "test": [
                          0.7530277569,
                          0.6792553722
                        ],
                        "passed_time": 2.045130782,
                        "iteration": 127,
                        "remaining_time": 5.943661334,
                        "learn": [
                          0.7564325452,
                          0.6666224737
                        ]
                      },
                      {
                        "test": [
                          0.7531436519,
                          0.6792467782
                        ],
                        "passed_time": 2.059583054,
                        "iteration": 128,
                        "remaining_time": 5.923297002,
                        "learn": [
                          0.7565774223,
                          0.6665218612
                        ]
                      },
                      {
                        "test": [
                          0.7530277569,
                          0.6792032114
                        ],
                        "passed_time": 2.075047249,
                        "iteration": 129,
                        "remaining_time": 5.905903708,
                        "learn": [
                          0.7565484469,
                          0.6663458059
                        ]
                      },
                      {
                        "test": [
                          0.7530277569,
                          0.6792379342
                        ],
                        "passed_time": 2.088965766,
                        "iteration": 130,
                        "remaining_time": 5.884186013,
                        "learn": [
                          0.7567802503,
                          0.6662410731
                        ]
                      },
                      {
                        "test": [
                          0.7532595469,
                          0.6792837384
                        ],
                        "passed_time": 2.102802159,
                        "iteration": 131,
                        "remaining_time": 5.862357535,
                        "learn": [
                          0.7567802503,
                          0.6661029258
                        ]
                      },
                      {
                        "test": [
                          0.7532015994,
                          0.6793011467
                        ],
                        "passed_time": 2.116057627,
                        "iteration": 132,
                        "remaining_time": 5.839046233,
                        "learn": [
                          0.7568671766,
                          0.6659989799
                        ]
                      },
                      {
                        "test": [
                          0.7532015994,
                          0.6793032153
                        ],
                        "passed_time": 2.13106977,
                        "iteration": 133,
                        "remaining_time": 5.820683104,
                        "learn": [
                          0.7568671766,
                          0.6659158865
                        ]
                      },
                      {
                        "test": [
                          0.7532015994,
                          0.6792703148
                        ],
                        "passed_time": 2.145544375,
                        "iteration": 134,
                        "remaining_time": 5.800916272,
                        "learn": [
                          0.7570410292,
                          0.6658360884
                        ]
                      },
                      {
                        "test": [
                          0.7533754418,
                          0.6792597015
                        ],
                        "passed_time": 2.162183675,
                        "iteration": 135,
                        "remaining_time": 5.787021012,
                        "learn": [
                          0.7570700046,
                          0.6657213523
                        ]
                      },
                      {
                        "test": [
                          0.7534913368,
                          0.6792689184
                        ],
                        "passed_time": 2.176134488,
                        "iteration": 136,
                        "remaining_time": 5.765962184,
                        "learn": [
                          0.7571279555,
                          0.6656038414
                        ]
                      },
                      {
                        "test": [
                          0.7534333893,
                          0.6792963733
                        ],
                        "passed_time": 2.191307508,
                        "iteration": 137,
                        "remaining_time": 5.748212448,
                        "learn": [
                          0.7570700046,
                          0.6654577515
                        ]
                      },
                      {
                        "test": [
                          0.7534913368,
                          0.6792570817
                        ],
                        "passed_time": 2.205699735,
                        "iteration": 138,
                        "remaining_time": 5.728471974,
                        "learn": [
                          0.7571859064,
                          0.6653265531
                        ]
                      },
                      {
                        "test": [
                          0.7534333893,
                          0.6792508958
                        ],
                        "passed_time": 2.219850141,
                        "iteration": 139,
                        "remaining_time": 5.708186078,
                        "learn": [
                          0.7571859064,
                          0.665265295
                        ]
                      },
                      {
                        "test": [
                          0.7533754418,
                          0.6792457678
                        ],
                        "passed_time": 2.234941376,
                        "iteration": 140,
                        "remaining_time": 5.690382652,
                        "learn": [
                          0.7572728326,
                          0.6651174819
                        ]
                      },
                      {
                        "test": [
                          0.7534913368,
                          0.6791845584
                        ],
                        "passed_time": 2.290090748,
                        "iteration": 141,
                        "remaining_time": 5.773609068,
                        "learn": [
                          0.7571279555,
                          0.6649912861
                        ]
                      },
                      {
                        "test": [
                          0.7530857044,
                          0.6791915597
                        ],
                        "passed_time": 2.319201891,
                        "iteration": 142,
                        "remaining_time": 5.789895629,
                        "learn": [
                          0.7571859064,
                          0.6648286414
                        ]
                      },
                      {
                        "test": [
                          0.7530857044,
                          0.6791743411
                        ],
                        "passed_time": 2.338043718,
                        "iteration": 143,
                        "remaining_time": 5.780163635,
                        "learn": [
                          0.7572728326,
                          0.6646945611
                        ]
                      },
                      {
                        "test": [
                          0.7531436519,
                          0.6791329184
                        ],
                        "passed_time": 2.352347231,
                        "iteration": 144,
                        "remaining_time": 5.759194944,
                        "learn": [
                          0.7573597589,
                          0.6645974276
                        ]
                      },
                      {
                        "test": [
                          0.7533174944,
                          0.6791884143
                        ],
                        "passed_time": 2.366356154,
                        "iteration": 145,
                        "remaining_time": 5.737603278,
                        "learn": [
                          0.7576784886,
                          0.6644308255
                        ]
                      },
                      {
                        "test": [
                          0.7533754418,
                          0.6791494529
                        ],
                        "passed_time": 2.380123965,
                        "iteration": 146,
                        "remaining_time": 5.715535779,
                        "learn": [
                          0.7576205378,
                          0.6643290239
                        ]
                      },
                      {
                        "test": [
                          0.7535492843,
                          0.6791001354
                        ],
                        "passed_time": 2.394341344,
                        "iteration": 147,
                        "remaining_time": 5.694649684,
                        "learn": [
                          0.7577364395,
                          0.6641923349
                        ]
                      },
                      {
                        "test": [
                          0.7534333893,
                          0.6790997787
                        ],
                        "passed_time": 2.407882936,
                        "iteration": 148,
                        "remaining_time": 5.672261144,
                        "learn": [
                          0.7580551692,
                          0.6640876593
                        ]
                      },
                      {
                        "test": [
                          0.7532595469,
                          0.6790097358
                        ],
                        "passed_time": 2.422648666,
                        "iteration": 149,
                        "remaining_time": 5.652846888,
                        "learn": [
                          0.7581420955,
                          0.6639467534
                        ]
                      },
                      {
                        "test": [
                          0.7532015994,
                          0.6789498094
                        ],
                        "passed_time": 2.437963539,
                        "iteration": 150,
                        "remaining_time": 5.634763412,
                        "learn": [
                          0.7582000464,
                          0.6637877158
                        ]
                      },
                      {
                        "test": [
                          0.7531436519,
                          0.6789328678
                        ],
                        "passed_time": 2.45241542,
                        "iteration": 151,
                        "remaining_time": 5.614740567,
                        "learn": [
                          0.7582579972,
                          0.663714381
                        ]
                      },
                      {
                        "test": [
                          0.7529698094,
                          0.6789037788
                        ],
                        "passed_time": 2.468054803,
                        "iteration": 152,
                        "remaining_time": 5.59748377,
                        "learn": [
                          0.7582869726,
                          0.6636281267
                        ]
                      },
                      {
                        "test": [
                          0.7531436519,
                          0.6789154673
                        ],
                        "passed_time": 2.482807707,
                        "iteration": 153,
                        "remaining_time": 5.578256278,
                        "learn": [
                          0.7583159481,
                          0.663518944
                        ]
                      },
                      {
                        "test": [
                          0.7531436519,
                          0.6788913682
                        ],
                        "passed_time": 2.499846609,
                        "iteration": 154,
                        "remaining_time": 5.564174711,
                        "learn": [
                          0.7582000464,
                          0.6633323754
                        ]
                      },
                      {
                        "test": [
                          0.7530277569,
                          0.6788926158
                        ],
                        "passed_time": 2.51347042,
                        "iteration": 155,
                        "remaining_time": 5.542524516,
                        "learn": [
                          0.7582869726,
                          0.6632815251
                        ]
                      },
                      {
                        "test": [
                          0.7529118619,
                          0.6789229412
                        ],
                        "passed_time": 2.527101349,
                        "iteration": 156,
                        "remaining_time": 5.52099212,
                        "learn": [
                          0.7583449235,
                          0.663189412
                        ]
                      },
                      {
                        "test": [
                          0.7530277569,
                          0.6789096835
                        ],
                        "passed_time": 2.541305946,
                        "iteration": 157,
                        "remaining_time": 5.500801479,
                        "learn": [
                          0.7582869726,
                          0.6630636815
                        ]
                      },
                      {
                        "test": [
                          0.7530277569,
                          0.6789004434
                        ],
                        "passed_time": 2.556275136,
                        "iteration": 158,
                        "remaining_time": 5.482325921,
                        "learn": [
                          0.7582869726,
                          0.6630033965
                        ]
                      },
                      {
                        "test": [
                          0.7530857044,
                          0.6788548221
                        ],
                        "passed_time": 2.570311696,
                        "iteration": 159,
                        "remaining_time": 5.461912353,
                        "learn": [
                          0.7584318498,
                          0.6628626142
                        ]
                      },
                      {
                        "test": [
                          0.7530857044,
                          0.6788633485
                        ],
                        "passed_time": 2.585655478,
                        "iteration": 160,
                        "remaining_time": 5.444330479,
                        "learn": [
                          0.7583449235,
                          0.6627545817
                        ]
                      },
                      {
                        "test": [
                          0.7531436519,
                          0.6788178313
                        ],
                        "passed_time": 2.600240924,
                        "iteration": 161,
                        "remaining_time": 5.425194027,
                        "learn": [
                          0.7585477515,
                          0.6626561454
                        ]
                      },
                      {
                        "test": [
                          0.7530857044,
                          0.678842323
                        ],
                        "passed_time": 2.613930111,
                        "iteration": 162,
                        "remaining_time": 5.404260413,
                        "learn": [
                          0.7585767269,
                          0.6625671457
                        ]
                      },
                      {
                        "test": [
                          0.7527959669,
                          0.6788169024
                        ],
                        "passed_time": 2.627289323,
                        "iteration": 163,
                        "remaining_time": 5.382739101,
                        "learn": [
                          0.7585767269,
                          0.6624947971
                        ]
                      },
                      {
                        "test": [
                          0.7528539144,
                          0.6787559859
                        ],
                        "passed_time": 2.642934984,
                        "iteration": 164,
                        "remaining_time": 5.365958907,
                        "learn": [
                          0.7586346778,
                          0.6623906195
                        ]
                      },
                      {
                        "test": [
                          0.7527380194,
                          0.6787396974
                        ],
                        "passed_time": 2.657705597,
                        "iteration": 165,
                        "remaining_time": 5.347431743,
                        "learn": [
                          0.7586346778,
                          0.6622700782
                        ]
                      },
                      {
                        "test": [
                          0.7527959669,
                          0.6787103876
                        ],
                        "passed_time": 2.673358193,
                        "iteration": 166,
                        "remaining_time": 5.330708253,
                        "learn": [
                          0.7586926287,
                          0.6621629695
                        ]
                      },
                      {
                        "test": [
                          0.7529698094,
                          0.6787282127
                        ],
                        "passed_time": 2.687447562,
                        "iteration": 167,
                        "remaining_time": 5.310908277,
                        "learn": [
                          0.7587505795,
                          0.6620949531
                        ]
                      },
                      {
                        "test": [
                          0.7529698094,
                          0.6787054475
                        ],
                        "passed_time": 2.70216401,
                        "iteration": 168,
                        "remaining_time": 5.292404067,
                        "learn": [
                          0.7586926287,
                          0.6620275981
                        ]
                      },
                      {
                        "test": [
                          0.7529698094,
                          0.6786325449
                        ],
                        "passed_time": 2.727327672,
                        "iteration": 169,
                        "remaining_time": 5.294224304,
                        "learn": [
                          0.7586926287,
                          0.6619044781
                        ]
                      },
                      {
                        "test": [
                          0.7527380194,
                          0.6786373441
                        ],
                        "passed_time": 2.742114059,
                        "iteration": 170,
                        "remaining_time": 5.275763306,
                        "learn": [
                          0.7587216041,
                          0.6618148832
                        ]
                      },
                      {
                        "test": [
                          0.7530277569,
                          0.6785832269
                        ],
                        "passed_time": 2.758188118,
                        "iteration": 171,
                        "remaining_time": 5.259800596,
                        "learn": [
                          0.7588664812,
                          0.6615809745
                        ]
                      },
                      {
                        "test": [
                          0.7528539144,
                          0.6786195806
                        ],
                        "passed_time": 2.772694884,
                        "iteration": 172,
                        "remaining_time": 5.240874145,
                        "learn": [
                          0.7588954567,
                          0.6614560529
                        ]
                      },
                      {
                        "test": [
                          0.7529118619,
                          0.6786487917
                        ],
                        "passed_time": 2.786892506,
                        "iteration": 173,
                        "remaining_time": 5.221419293,
                        "learn": [
                          0.7587795549,
                          0.6613816294
                        ]
                      },
                      {
                        "test": [
                          0.7530277569,
                          0.678659801
                        ],
                        "passed_time": 2.802508425,
                        "iteration": 174,
                        "remaining_time": 5.204658503,
                        "learn": [
                          0.7588375058,
                          0.6612949526
                        ]
                      },
                      {
                        "test": [
                          0.7530857044,
                          0.6786615344
                        ],
                        "passed_time": 2.816952387,
                        "iteration": 175,
                        "remaining_time": 5.185753258,
                        "learn": [
                          0.7586926287,
                          0.6612160399
                        ]
                      },
                      {
                        "test": [
                          0.7531436519,
                          0.6786424127
                        ],
                        "passed_time": 2.831845805,
                        "iteration": 176,
                        "remaining_time": 5.167718615,
                        "learn": [
                          0.7586636532,
                          0.6610983264
                        ]
                      },
                      {
                        "test": [
                          0.7533754418,
                          0.6786386308
                        ],
                        "passed_time": 2.84637797,
                        "iteration": 177,
                        "remaining_time": 5.149065766,
                        "learn": [
                          0.7588664812,
                          0.6610342377
                        ]
                      },
                      {
                        "test": [
                          0.7534913368,
                          0.6786561487
                        ],
                        "passed_time": 2.863794926,
                        "iteration": 178,
                        "remaining_time": 5.135632242,
                        "learn": [
                          0.7588954567,
                          0.6609505129
                        ]
                      },
                      {
                        "test": [
                          0.7533754418,
                          0.6786423727
                        ],
                        "passed_time": 2.878963036,
                        "iteration": 179,
                        "remaining_time": 5.118156509,
                        "learn": [
                          0.7588375058,
                          0.6608359742
                        ]
                      },
                      {
                        "test": [
                          0.7534913368,
                          0.6786433761
                        ],
                        "passed_time": 2.893551378,
                        "iteration": 180,
                        "remaining_time": 5.099684473,
                        "learn": [
                          0.7589823829,
                          0.660773314
                        ]
                      },
                      {
                        "test": [
                          0.7531436519,
                          0.6786009287
                        ],
                        "passed_time": 2.908569932,
                        "iteration": 181,
                        "remaining_time": 5.082006805,
                        "learn": [
                          0.7591272601,
                          0.6605821821
                        ]
                      },
                      {
                        "test": [
                          0.7532015994,
                          0.6785775975
                        ],
                        "passed_time": 2.92280527,
                        "iteration": 182,
                        "remaining_time": 5.063001479,
                        "learn": [
                          0.7592141864,
                          0.6605010135
                        ]
                      },
                      {
                        "test": [
                          0.7531436519,
                          0.6785857977
                        ],
                        "passed_time": 2.936734222,
                        "iteration": 183,
                        "remaining_time": 5.043521817,
                        "learn": [
                          0.7591562355,
                          0.6604038932
                        ]
                      },
                      {
                        "test": [
                          0.7529698094,
                          0.678594325
                        ],
                        "passed_time": 2.95107189,
                        "iteration": 184,
                        "remaining_time": 5.024798084,
                        "learn": [
                          0.7593880389,
                          0.6603218185
                        ]
                      },
                      {
                        "test": [
                          0.7529698094,
                          0.6786177162
                        ],
                        "passed_time": 2.964528793,
                        "iteration": 185,
                        "remaining_time": 5.004634629,
                        "learn": [
                          0.7593880389,
                          0.6602635569
                        ]
                      },
                      {
                        "test": [
                          0.7530857044,
                          0.6786480353
                        ],
                        "passed_time": 2.978498089,
                        "iteration": 186,
                        "remaining_time": 4.985400545,
                        "learn": [
                          0.7594749652,
                          0.660151318
                        ]
                      },
                      {
                        "test": [
                          0.7530277569,
                          0.6786859095
                        ],
                        "passed_time": 2.993326478,
                        "iteration": 187,
                        "remaining_time": 4.967648197,
                        "learn": [
                          0.7594459898,
                          0.6600631319
                        ]
                      },
                      {
                        "test": [
                          0.7530857044,
                          0.6787315243
                        ],
                        "passed_time": 3.00664458,
                        "iteration": 188,
                        "remaining_time": 4.947441611,
                        "learn": [
                          0.7596488178,
                          0.6599434345
                        ]
                      },
                      {
                        "test": [
                          0.7532595469,
                          0.6787399093
                        ],
                        "passed_time": 3.020295446,
                        "iteration": 189,
                        "remaining_time": 4.927850465,
                        "learn": [
                          0.7597067687,
                          0.6598951246
                        ]
                      },
                      {
                        "test": [
                          0.7533754418,
                          0.6786827593
                        ],
                        "passed_time": 3.034828561,
                        "iteration": 190,
                        "remaining_time": 4.909748824,
                        "learn": [
                          0.7597647195,
                          0.6597588742
                        ]
                      },
                      {
                        "test": [
                          0.7532595469,
                          0.6786740948
                        ],
                        "passed_time": 3.049311517,
                        "iteration": 191,
                        "remaining_time": 4.891603892,
                        "learn": [
                          0.7597647195,
                          0.6596909662
                        ]
                      },
                      {
                        "test": [
                          0.7533754418,
                          0.6786902141
                        ],
                        "passed_time": 3.068042516,
                        "iteration": 192,
                        "remaining_time": 4.880254158,
                        "learn": [
                          0.7597936949,
                          0.6595915979
                        ]
                      },
                      {
                        "test": [
                          0.7534333893,
                          0.6786888018
                        ],
                        "passed_time": 3.08139195,
                        "iteration": 193,
                        "remaining_time": 4.86033988,
                        "learn": [
                          0.7599675475,
                          0.65950183
                        ]
                      },
                      {
                        "test": [
                          0.7534333893,
                          0.6787073086
                        ],
                        "passed_time": 3.095271421,
                        "iteration": 194,
                        "remaining_time": 4.841321966,
                        "learn": [
                          0.7601414001,
                          0.6594371489
                        ]
                      },
                      {
                        "test": [
                          0.7534333893,
                          0.6787108164
                        ],
                        "passed_time": 3.109362303,
                        "iteration": 195,
                        "remaining_time": 4.822684389,
                        "learn": [
                          0.7600544738,
                          0.6593672628
                        ]
                      },
                      {
                        "test": [
                          0.7533754418,
                          0.6787053799
                        ],
                        "passed_time": 3.123410482,
                        "iteration": 196,
                        "remaining_time": 4.804027289,
                        "learn": [
                          0.7601124247,
                          0.6592843432
                        ]
                      },
                      {
                        "test": [
                          0.7534333893,
                          0.6786449868
                        ],
                        "passed_time": 3.138238644,
                        "iteration": 197,
                        "remaining_time": 4.786606416,
                        "learn": [
                          0.7601414001,
                          0.6591615019
                        ]
                      },
                      {
                        "test": [
                          0.7530857044,
                          0.6786833304
                        ],
                        "passed_time": 3.152585483,
                        "iteration": 198,
                        "remaining_time": 4.768483569,
                        "learn": [
                          0.7603442281,
                          0.6589926977
                        ]
                      },
                      {
                        "test": [
                          0.7532015994,
                          0.6786395311
                        ],
                        "passed_time": 3.167524278,
                        "iteration": 199,
                        "remaining_time": 4.751286417,
                        "learn": [
                          0.7603152527,
                          0.6589183767
                        ]
                      },
                      {
                        "test": [
                          0.7533174944,
                          0.6786276576
                        ],
                        "passed_time": 3.182371133,
                        "iteration": 200,
                        "remaining_time": 4.733974969,
                        "learn": [
                          0.7602862772,
                          0.6587743906
                        ]
                      },
                      {
                        "test": [
                          0.7530857044,
                          0.6785781088
                        ],
                        "passed_time": 3.195752405,
                        "iteration": 201,
                        "remaining_time": 4.714525825,
                        "learn": [
                          0.7601703755,
                          0.6586950654
                        ]
                      },
                      {
                        "test": [
                          0.7531436519,
                          0.6785522989
                        ],
                        "passed_time": 3.210624009,
                        "iteration": 202,
                        "remaining_time": 4.6973169,
                        "learn": [
                          0.7601703755,
                          0.6585903064
                        ]
                      },
                      {
                        "test": [
                          0.7533174944,
                          0.6785898222
                        ],
                        "passed_time": 3.224657093,
                        "iteration": 203,
                        "remaining_time": 4.678914214,
                        "learn": [
                          0.7603442281,
                          0.6584516476
                        ]
                      },
                      {
                        "test": [
                          0.7532595469,
                          0.6786271753
                        ],
                        "passed_time": 3.239532248,
                        "iteration": 204,
                        "remaining_time": 4.661765917,
                        "learn": [
                          0.760605007,
                          0.658326127
                        ]
                      },
                      {
                        "test": [
                          0.7533754418,
                          0.6786074974
                        ],
                        "passed_time": 3.253543943,
                        "iteration": 205,
                        "remaining_time": 4.643407375,
                        "learn": [
                          0.7605180807,
                          0.6582457472
                        ]
                      },
                      {
                        "test": [
                          0.7532595469,
                          0.6786185925
                        ],
                        "passed_time": 3.268171175,
                        "iteration": 206,
                        "remaining_time": 4.625962097,
                        "learn": [
                          0.760605007,
                          0.658167342
                        ]
                      },
                      {
                        "test": [
                          0.7531436519,
                          0.6786427546
                        ],
                        "passed_time": 3.320313163,
                        "iteration": 207,
                        "remaining_time": 4.661208864,
                        "learn": [
                          0.7608657858,
                          0.6580743099
                        ]
                      },
                      {
                        "test": [
                          0.7530857044,
                          0.6787179796
                        ],
                        "passed_time": 3.351275407,
                        "iteration": 208,
                        "remaining_time": 4.666129873,
                        "learn": [
                          0.7609527121,
                          0.6579710181
                        ]
                      },
                      {
                        "test": [
                          0.7529118619,
                          0.678747371
                        ],
                        "passed_time": 3.375422714,
                        "iteration": 209,
                        "remaining_time": 4.661298033,
                        "learn": [
                          0.7608657858,
                          0.6578875186
                        ]
                      },
                      {
                        "test": [
                          0.7527380194,
                          0.6787538063
                        ],
                        "passed_time": 3.388722938,
                        "iteration": 210,
                        "remaining_time": 4.641426204,
                        "learn": [
                          0.7611265647,
                          0.6578357251
                        ]
                      },
                      {
                        "test": [
                          0.7529118619,
                          0.678806177
                        ],
                        "passed_time": 3.402485809,
                        "iteration": 211,
                        "remaining_time": 4.622244872,
                        "learn": [
                          0.7611265647,
                          0.6577519826
                        ]
                      },
                      {
                        "test": [
                          0.7526800719,
                          0.6787784383
                        ],
                        "passed_time": 3.416573164,
                        "iteration": 212,
                        "remaining_time": 4.603551634,
                        "learn": [
                          0.7609237367,
                          0.6576847739
                        ]
                      },
                      {
                        "test": [
                          0.7527959669,
                          0.6788040046
                        ],
                        "passed_time": 3.430660226,
                        "iteration": 213,
                        "remaining_time": 4.584901049,
                        "learn": [
                          0.7609816875,
                          0.6575822649
                        ]
                      },
                      {
                        "test": [
                          0.7529118619,
                          0.6788016984
                        ],
                        "passed_time": 3.44493984,
                        "iteration": 214,
                        "remaining_time": 4.566548161,
                        "learn": [
                          0.7611555401,
                          0.6575030128
                        ]
                      },
                      {
                        "test": [
                          0.7530857044,
                          0.6788427114
                        ],
                        "passed_time": 3.459937198,
                        "iteration": 215,
                        "remaining_time": 4.549176687,
                        "learn": [
                          0.7611845155,
                          0.6573992856
                        ]
                      },
                      {
                        "test": [
                          0.7529698094,
                          0.6788328581
                        ],
                        "passed_time": 3.48549139,
                        "iteration": 216,
                        "remaining_time": 4.545594762,
                        "learn": [
                          0.7611555401,
                          0.6573491981
                        ]
                      },
                      {
                        "test": [
                          0.7529118619,
                          0.6788181936
                        ],
                        "passed_time": 3.500483829,
                        "iteration": 217,
                        "remaining_time": 4.528148806,
                        "learn": [
                          0.7611555401,
                          0.6572533116
                        ]
                      },
                      {
                        "test": [
                          0.7528539144,
                          0.6788215285
                        ],
                        "passed_time": 3.514909264,
                        "iteration": 218,
                        "remaining_time": 4.509997731,
                        "learn": [
                          0.761416319,
                          0.6571972508
                        ]
                      },
                      {
                        "test": [
                          0.7527380194,
                          0.6787992001
                        ],
                        "passed_time": 3.5295379,
                        "iteration": 219,
                        "remaining_time": 4.492139146,
                        "learn": [
                          0.7613583681,
                          0.6570952912
                        ]
                      },
                      {
                        "test": [
                          0.7528539144,
                          0.6787820919
                        ],
                        "passed_time": 3.543059726,
                        "iteration": 220,
                        "remaining_time": 4.472912505,
                        "learn": [
                          0.761416319,
                          0.6569956536
                        ]
                      },
                      {
                        "test": [
                          0.7527959669,
                          0.6787757435
                        ],
                        "passed_time": 3.558252606,
                        "iteration": 221,
                        "remaining_time": 4.45582984,
                        "learn": [
                          0.761416319,
                          0.6569134425
                        ]
                      },
                      {
                        "test": [
                          0.7527380194,
                          0.6788086811
                        ],
                        "passed_time": 3.571757698,
                        "iteration": 222,
                        "remaining_time": 4.436667634,
                        "learn": [
                          0.7615032452,
                          0.6568137673
                        ]
                      },
                      {
                        "test": [
                          0.7527380194,
                          0.678812245
                        ],
                        "passed_time": 3.586592068,
                        "iteration": 223,
                        "remaining_time": 4.419193798,
                        "learn": [
                          0.761416319,
                          0.6567139785
                        ]
                      },
                      {
                        "test": [
                          0.7526800719,
                          0.6787368242
                        ],
                        "passed_time": 3.601748799,
                        "iteration": 224,
                        "remaining_time": 4.402137421,
                        "learn": [
                          0.7613293927,
                          0.6565812097
                        ]
                      },
                      {
                        "test": [
                          0.7526800719,
                          0.6787489531
                        ],
                        "passed_time": 3.61620354,
                        "iteration": 225,
                        "remaining_time": 4.38424677,
                        "learn": [
                          0.7613583681,
                          0.656522478
                        ]
                      },
                      {
                        "test": [
                          0.7527380194,
                          0.6787548911
                        ],
                        "passed_time": 3.630341662,
                        "iteration": 226,
                        "remaining_time": 4.366005612,
                        "learn": [
                          0.7615611961,
                          0.6564328245
                        ]
                      },
                      {
                        "test": [
                          0.7530277569,
                          0.6787714895
                        ],
                        "passed_time": 3.64377961,
                        "iteration": 227,
                        "remaining_time": 4.346965149,
                        "learn": [
                          0.7617060732,
                          0.6563569919
                        ]
                      },
                      {
                        "test": [
                          0.7530277569,
                          0.6787823677
                        ],
                        "passed_time": 3.658776273,
                        "iteration": 228,
                        "remaining_time": 4.32981821,
                        "learn": [
                          0.7616481224,
                          0.6562468253
                        ]
                      },
                      {
                        "test": [
                          0.7529118619,
                          0.6787641454
                        ],
                        "passed_time": 3.672996038,
                        "iteration": 229,
                        "remaining_time": 4.311777957,
                        "learn": [
                          0.7616770978,
                          0.6562019995
                        ]
                      },
                      {
                        "test": [
                          0.7529118619,
                          0.6787492483
                        ],
                        "passed_time": 3.687474828,
                        "iteration": 230,
                        "remaining_time": 4.294072419,
                        "learn": [
                          0.7617350487,
                          0.6561131756
                        ]
                      },
                      {
                        "test": [
                          0.7528539144,
                          0.6787375646
                        ],
                        "passed_time": 3.701794555,
                        "iteration": 231,
                        "remaining_time": 4.276210952,
                        "learn": [
                          0.7617929995,
                          0.6560574281
                        ]
                      },
                      {
                        "test": [
                          0.7528539144,
                          0.6787531132
                        ],
                        "passed_time": 3.720878296,
                        "iteration": 232,
                        "remaining_time": 4.263839078,
                        "learn": [
                          0.7617929995,
                          0.6559947121
                        ]
                      },
                      {
                        "test": [
                          0.7527380194,
                          0.6787495614
                        ],
                        "passed_time": 3.741265995,
                        "iteration": 233,
                        "remaining_time": 4.252892114,
                        "learn": [
                          0.7617640241,
                          0.6558933946
                        ]
                      },
                      {
                        "test": [
                          0.7529118619,
                          0.6787406432
                        ],
                        "passed_time": 3.754748039,
                        "iteration": 234,
                        "remaining_time": 4.234077576,
                        "learn": [
                          0.7616481224,
                          0.6558289669
                        ]
                      },
                      {
                        "test": [
                          0.7530277569,
                          0.6786913035
                        ],
                        "passed_time": 3.770602666,
                        "iteration": 235,
                        "remaining_time": 4.217962304,
                        "learn": [
                          0.7617640241,
                          0.6557206005
                        ]
                      },
                      {
                        "test": [
                          0.7530857044,
                          0.6786935241
                        ],
                        "passed_time": 3.7853675,
                        "iteration": 236,
                        "remaining_time": 4.200639885,
                        "learn": [
                          0.761821975,
                          0.6556311535
                        ]
                      },
                      {
                        "test": [
                          0.7527380194,
                          0.6786857614
                        ],
                        "passed_time": 3.80135924,
                        "iteration": 237,
                        "remaining_time": 4.184689584,
                        "learn": [
                          0.7617929995,
                          0.655520884
                        ]
                      },
                      {
                        "test": [
                          0.7526800719,
                          0.6786608735
                        ],
                        "passed_time": 3.816465559,
                        "iteration": 238,
                        "remaining_time": 4.167772013,
                        "learn": [
                          0.7619089013,
                          0.6554427242
                        ]
                      },
                      {
                        "test": [
                          0.7524482819,
                          0.6786711887
                        ],
                        "passed_time": 3.830745169,
                        "iteration": 239,
                        "remaining_time": 4.149973933,
                        "learn": [
                          0.7621986555,
                          0.6553664306
                        ]
                      },
                      {
                        "test": [
                          0.7523903344,
                          0.6786608693
                        ],
                        "passed_time": 3.845097475,
                        "iteration": 240,
                        "remaining_time": 4.132283178,
                        "learn": [
                          0.7623435327,
                          0.65527799
                        ]
                      },
                      {
                        "test": [
                          0.7523903344,
                          0.6786725888
                        ],
                        "passed_time": 3.860065978,
                        "iteration": 241,
                        "remaining_time": 4.115276952,
                        "learn": [
                          0.762227631,
                          0.6551612173
                        ]
                      },
                      {
                        "test": [
                          0.7522744394,
                          0.6786880681
                        ],
                        "passed_time": 3.874945884,
                        "iteration": 242,
                        "remaining_time": 4.098193795,
                        "learn": [
                          0.7621986555,
                          0.6550634266
                        ]
                      },
                      {
                        "test": [
                          0.7524482819,
                          0.6786798245
                        ],
                        "passed_time": 3.889376467,
                        "iteration": 243,
                        "remaining_time": 4.080657277,
                        "learn": [
                          0.7622566064,
                          0.6549422786
                        ]
                      },
                      {
                        "test": [
                          0.7522744394,
                          0.6786903891
                        ],
                        "passed_time": 3.903205943,
                        "iteration": 244,
                        "remaining_time": 4.062520471,
                        "learn": [
                          0.7623145573,
                          0.6548946414
                        ]
                      },
                      {
                        "test": [
                          0.7524482819,
                          0.6787122101
                        ],
                        "passed_time": 3.919661921,
                        "iteration": 245,
                        "remaining_time": 4.047130601,
                        "learn": [
                          0.7624014835,
                          0.6548176905
                        ]
                      },
                      {
                        "test": [
                          0.7523903344,
                          0.6787069408
                        ],
                        "passed_time": 3.933755195,
                        "iteration": 246,
                        "remaining_time": 4.029312002,
                        "learn": [
                          0.7624594344,
                          0.6547550067
                        ]
                      },
                      {
                        "test": [
                          0.7522164919,
                          0.6786819808
                        ],
                        "passed_time": 3.948261675,
                        "iteration": 247,
                        "remaining_time": 4.011943315,
                        "learn": [
                          0.762430459,
                          0.6546549369
                        ]
                      },
                      {
                        "test": [
                          0.7524482819,
                          0.6787256721
                        ],
                        "passed_time": 3.963102706,
                        "iteration": 248,
                        "remaining_time": 3.994934856,
                        "learn": [
                          0.762430459,
                          0.6545595413
                        ]
                      },
                      {
                        "test": [
                          0.7524482819,
                          0.6787509227
                        ],
                        "passed_time": 3.976624899,
                        "iteration": 249,
                        "remaining_time": 3.976624899,
                        "learn": [
                          0.7624884098,
                          0.6544993614
                        ]
                      },
                      {
                        "test": [
                          0.7523323869,
                          0.6787544254
                        ],
                        "passed_time": 3.990231172,
                        "iteration": 250,
                        "remaining_time": 3.958436502,
                        "learn": [
                          0.7623725081,
                          0.6544183455
                        ]
                      },
                      {
                        "test": [
                          0.7522744394,
                          0.6787282464
                        ],
                        "passed_time": 4.004957687,
                        "iteration": 251,
                        "remaining_time": 3.94138693,
                        "learn": [
                          0.7626912378,
                          0.654292991
                        ]
                      },
                      {
                        "test": [
                          0.7521005969,
                          0.6786968442
                        ],
                        "passed_time": 4.018906674,
                        "iteration": 252,
                        "remaining_time": 3.923596635,
                        "learn": [
                          0.762633287,
                          0.6542233624
                        ]
                      },
                      {
                        "test": [
                          0.7521585444,
                          0.6787010022
                        ],
                        "passed_time": 4.032362849,
                        "iteration": 253,
                        "remaining_time": 3.905359295,
                        "learn": [
                          0.7627781641,
                          0.6541635845
                        ]
                      },
                      {
                        "test": [
                          0.7521585444,
                          0.6787287848
                        ],
                        "passed_time": 4.046397058,
                        "iteration": 254,
                        "remaining_time": 3.887714821,
                        "learn": [
                          0.7627781641,
                          0.6541077016
                        ]
                      },
                      {
                        "test": [
                          0.7523323869,
                          0.6787496085
                        ],
                        "passed_time": 4.060712233,
                        "iteration": 255,
                        "remaining_time": 3.870366347,
                        "learn": [
                          0.7627202133,
                          0.6540547549
                        ]
                      },
                      {
                        "test": [
                          0.7525641769,
                          0.6787450427
                        ],
                        "passed_time": 4.073845247,
                        "iteration": 256,
                        "remaining_time": 3.851923716,
                        "learn": [
                          0.7628940658,
                          0.653989745
                        ]
                      },
                      {
                        "test": [
                          0.7525641769,
                          0.6787715995
                        ],
                        "passed_time": 4.087769604,
                        "iteration": 257,
                        "remaining_time": 3.834264512,
                        "learn": [
                          0.762836115,
                          0.653907801
                        ]
                      },
                      {
                        "test": [
                          0.7526800719,
                          0.6787625616
                        ],
                        "passed_time": 4.10225903,
                        "iteration": 258,
                        "remaining_time": 3.817159947,
                        "learn": [
                          0.762836115,
                          0.6538404838
                        ]
                      },
                      {
                        "test": [
                          0.7526221244,
                          0.6787714702
                        ],
                        "passed_time": 4.116720557,
                        "iteration": 259,
                        "remaining_time": 3.800049745,
                        "learn": [
                          0.7628071395,
                          0.6537589702
                        ]
                      },
                      {
                        "test": [
                          0.7526221244,
                          0.6787977383
                        ],
                        "passed_time": 4.131608605,
                        "iteration": 260,
                        "remaining_time": 3.783350408,
                        "learn": [
                          0.7628940658,
                          0.6536834001
                        ]
                      },
                      {
                        "test": [
                          0.7526800719,
                          0.6787932862
                        ],
                        "passed_time": 4.146995991,
                        "iteration": 261,
                        "remaining_time": 3.767118495,
                        "learn": [
                          0.7629809921,
                          0.6536316091
                        ]
                      },
                      {
                        "test": [
                          0.7526221244,
                          0.6787986649
                        ],
                        "passed_time": 4.160832614,
                        "iteration": 262,
                        "remaining_time": 3.749495549,
                        "learn": [
                          0.7631548447,
                          0.6535447156
                        ]
                      },
                      {
                        "test": [
                          0.7525641769,
                          0.6788199991
                        ],
                        "passed_time": 4.175482103,
                        "iteration": 263,
                        "remaining_time": 3.73262794,
                        "learn": [
                          0.7631548447,
                          0.6534814307
                        ]
                      },
                      {
                        "test": [
                          0.7523903344,
                          0.6788187175
                        ],
                        "passed_time": 4.190089212,
                        "iteration": 264,
                        "remaining_time": 3.71573949,
                        "learn": [
                          0.7632127955,
                          0.6533835174
                        ]
                      },
                      {
                        "test": [
                          0.7526800719,
                          0.6788453996
                        ],
                        "passed_time": 4.204988944,
                        "iteration": 265,
                        "remaining_time": 3.699125613,
                        "learn": [
                          0.7632997218,
                          0.6532908562
                        ]
                      },
                      {
                        "test": [
                          0.7527380194,
                          0.6787934664
                        ],
                        "passed_time": 4.219631606,
                        "iteration": 266,
                        "remaining_time": 3.68230024,
                        "learn": [
                          0.7633286973,
                          0.6532312701
                        ]
                      },
                      {
                        "test": [
                          0.7527380194,
                          0.6787977875
                        ],
                        "passed_time": 4.232944655,
                        "iteration": 267,
                        "remaining_time": 3.664340149,
                        "learn": [
                          0.7633576727,
                          0.6531896916
                        ]
                      },
                      {
                        "test": [
                          0.7527959669,
                          0.6787919648
                        ],
                        "passed_time": 4.248016438,
                        "iteration": 268,
                        "remaining_time": 3.647924896,
                        "learn": [
                          0.7632997218,
                          0.6531187992
                        ]
                      },
                      {
                        "test": [
                          0.7526221244,
                          0.6788582451
                        ],
                        "passed_time": 4.263283563,
                        "iteration": 269,
                        "remaining_time": 3.631685998,
                        "learn": [
                          0.7632997218,
                          0.653017363
                        ]
                      },
                      {
                        "test": [
                          0.7526221244,
                          0.6788978003
                        ],
                        "passed_time": 4.277745826,
                        "iteration": 270,
                        "remaining_time": 3.614774148,
                        "learn": [
                          0.7633576727,
                          0.6529344521
                        ]
                      },
                      {
                        "test": [
                          0.7527380194,
                          0.6789407612
                        ],
                        "passed_time": 4.292632906,
                        "iteration": 271,
                        "remaining_time": 3.598236407,
                        "learn": [
                          0.7632997218,
                          0.6528281465
                        ]
                      },
                      {
                        "test": [
                          0.7527959669,
                          0.6789501778
                        ],
                        "passed_time": 4.307175013,
                        "iteration": 272,
                        "remaining_time": 3.581423912,
                        "learn": [
                          0.7635315253,
                          0.6527414074
                        ]
                      },
                      {
                        "test": [
                          0.7527959669,
                          0.6789317757
                        ],
                        "passed_time": 4.363371175,
                        "iteration": 273,
                        "remaining_time": 3.598984984,
                        "learn": [
                          0.7635315253,
                          0.6526844785
                        ]
                      },
                      {
                        "test": [
                          0.7529118619,
                          0.6789414953
                        ],
                        "passed_time": 4.391656869,
                        "iteration": 274,
                        "remaining_time": 3.593173802,
                        "learn": [
                          0.7635315253,
                          0.6526011433
                        ]
                      },
                      {
                        "test": [
                          0.7529698094,
                          0.6789314061
                        ],
                        "passed_time": 4.41586401,
                        "iteration": 275,
                        "remaining_time": 3.583889631,
                        "learn": [
                          0.7635605007,
                          0.6524587395
                        ]
                      },
                      {
                        "test": [
                          0.7529698094,
                          0.6789327295
                        ],
                        "passed_time": 4.429881964,
                        "iteration": 276,
                        "remaining_time": 3.566294866,
                        "learn": [
                          0.763647427,
                          0.6524063982
                        ]
                      },
                      {
                        "test": [
                          0.7529698094,
                          0.6789726319
                        ],
                        "passed_time": 4.445250481,
                        "iteration": 277,
                        "remaining_time": 3.549804341,
                        "learn": [
                          0.7637053778,
                          0.6523250161
                        ]
                      },
                      {
                        "test": [
                          0.7528539144,
                          0.6789755805
                        ],
                        "passed_time": 4.459230628,
                        "iteration": 278,
                        "remaining_time": 3.53222211,
                        "learn": [
                          0.763850255,
                          0.6522576346
                        ]
                      },
                      {
                        "test": [
                          0.7528539144,
                          0.6789536826
                        ],
                        "passed_time": 4.475761444,
                        "iteration": 279,
                        "remaining_time": 3.516669706,
                        "learn": [
                          0.7637343533,
                          0.6522018327
                        ]
                      },
                      {
                        "test": [
                          0.7529118619,
                          0.6789725643
                        ],
                        "passed_time": 4.490734831,
                        "iteration": 280,
                        "remaining_time": 3.499896541,
                        "learn": [
                          0.7637923041,
                          0.6520910146
                        ]
                      },
                      {
                        "test": [
                          0.7528539144,
                          0.6790078162
                        ],
                        "passed_time": 4.505279218,
                        "iteration": 281,
                        "remaining_time": 3.482804502,
                        "learn": [
                          0.7639371813,
                          0.6520279903
                        ]
                      },
                      {
                        "test": [
                          0.7529118619,
                          0.6790701833
                        ],
                        "passed_time": 4.519597865,
                        "iteration": 282,
                        "remaining_time": 3.465557374,
                        "learn": [
                          0.764053083,
                          0.6519306176
                        ]
                      },
                      {
                        "test": [
                          0.7529118619,
                          0.6790934424
                        ],
                        "passed_time": 4.533547028,
                        "iteration": 283,
                        "remaining_time": 3.448049853,
                        "learn": [
                          0.764053083,
                          0.6518392125
                        ]
                      },
                      {
                        "test": [
                          0.7529118619,
                          0.6790873451
                        ],
                        "passed_time": 4.548107612,
                        "iteration": 284,
                        "remaining_time": 3.431028549,
                        "learn": [
                          0.7640241076,
                          0.6517954008
                        ]
                      },
                      {
                        "test": [
                          0.7529118619,
                          0.679090612
                        ],
                        "passed_time": 4.562073541,
                        "iteration": 285,
                        "remaining_time": 3.413579503,
                        "learn": [
                          0.7641979601,
                          0.6517071831
                        ]
                      },
                      {
                        "test": [
                          0.7529118619,
                          0.6790969398
                        ],
                        "passed_time": 4.576963857,
                        "iteration": 286,
                        "remaining_time": 3.396840772,
                        "learn": [
                          0.764053083,
                          0.6515958531
                        ]
                      },
                      {
                        "test": [
                          0.7530277569,
                          0.6790842004
                        ],
                        "passed_time": 4.590936838,
                        "iteration": 287,
                        "remaining_time": 3.379439617,
                        "learn": [
                          0.7641110338,
                          0.6515348782
                        ]
                      },
                      {
                        "test": [
                          0.7527380194,
                          0.6790811807
                        ],
                        "passed_time": 4.605745864,
                        "iteration": 288,
                        "remaining_time": 3.362672586,
                        "learn": [
                          0.7641400093,
                          0.6513982349
                        ]
                      },
                      {
                        "test": [
                          0.7527380194,
                          0.6790858717
                        ],
                        "passed_time": 4.620087318,
                        "iteration": 289,
                        "remaining_time": 3.345580472,
                        "learn": [
                          0.7644297636,
                          0.6513275606
                        ]
                      },
                      {
                        "test": [
                          0.7526800719,
                          0.679091877
                        ],
                        "passed_time": 4.634902744,
                        "iteration": 290,
                        "remaining_time": 3.328847676,
                        "learn": [
                          0.7643718127,
                          0.6512024553
                        ]
                      },
                      {
                        "test": [
                          0.7527380194,
                          0.6790412969
                        ],
                        "passed_time": 4.650141189,
                        "iteration": 291,
                        "remaining_time": 3.31242934,
                        "learn": [
                          0.7644297636,
                          0.6510747623
                        ]
                      },
                      {
                        "test": [
                          0.7527959669,
                          0.6790430121
                        ],
                        "passed_time": 4.664108393,
                        "iteration": 292,
                        "remaining_time": 3.295120947,
                        "learn": [
                          0.7644007881,
                          0.6510208361
                        ]
                      },
                      {
                        "test": [
                          0.7527380194,
                          0.6789914298
                        ],
                        "passed_time": 4.678892948,
                        "iteration": 293,
                        "remaining_time": 3.278407984,
                        "learn": [
                          0.7643138618,
                          0.6509206191
                        ]
                      },
                      {
                        "test": [
                          0.7527380194,
                          0.6790196378
                        ],
                        "passed_time": 4.692957624,
                        "iteration": 294,
                        "remaining_time": 3.26120784,
                        "learn": [
                          0.7645166898,
                          0.6508473331
                        ]
                      },
                      {
                        "test": [
                          0.7526800719,
                          0.6790249571
                        ],
                        "passed_time": 4.707262066,
                        "iteration": 295,
                        "remaining_time": 3.244194126,
                        "learn": [
                          0.7644297636,
                          0.650737671
                        ]
                      },
                      {
                        "test": [
                          0.7526800719,
                          0.6790023173
                        ],
                        "passed_time": 4.72115667,
                        "iteration": 296,
                        "remaining_time": 3.226918532,
                        "learn": [
                          0.7644007881,
                          0.6506430709
                        ]
                      },
                      {
                        "test": [
                          0.7527380194,
                          0.6790299116
                        ],
                        "passed_time": 4.747362777,
                        "iteration": 297,
                        "remaining_time": 3.21801101,
                        "learn": [
                          0.7644877144,
                          0.6505654894
                        ]
                      },
                      {
                        "test": [
                          0.7525641769,
                          0.6790495633
                        ],
                        "passed_time": 4.761777963,
                        "iteration": 298,
                        "remaining_time": 3.20106144,
                        "learn": [
                          0.7645746407,
                          0.6505133197
                        ]
                      },
                      {
                        "test": [
                          0.7525641769,
                          0.6790552866
                        ],
                        "passed_time": 4.775827872,
                        "iteration": 299,
                        "remaining_time": 3.183885248,
                        "learn": [
                          0.7645456653,
                          0.6504446505
                        ]
                      },
                      {
                        "test": [
                          0.7525641769,
                          0.6790587134
                        ],
                        "passed_time": 4.792032681,
                        "iteration": 300,
                        "remaining_time": 3.168154497,
                        "learn": [
                          0.7646036161,
                          0.6503648882
                        ]
                      },
                      {
                        "test": [
                          0.7528539144,
                          0.6790594997
                        ],
                        "passed_time": 4.806335668,
                        "iteration": 301,
                        "remaining_time": 3.151173716,
                        "learn": [
                          0.7646325916,
                          0.6502827272
                        ]
                      },
                      {
                        "test": [
                          0.7527959669,
                          0.6790525761
                        ],
                        "passed_time": 4.821626224,
                        "iteration": 302,
                        "remaining_time": 3.134852694,
                        "learn": [
                          0.764661567,
                          0.6501369576
                        ]
                      },
                      {
                        "test": [
                          0.7526800719,
                          0.679080087
                        ],
                        "passed_time": 4.835743611,
                        "iteration": 303,
                        "remaining_time": 3.117782065,
                        "learn": [
                          0.764661567,
                          0.6500876927
                        ]
                      },
                      {
                        "test": [
                          0.7527380194,
                          0.679113443
                        ],
                        "passed_time": 4.850693237,
                        "iteration": 304,
                        "remaining_time": 3.101262889,
                        "learn": [
                          0.7646905424,
                          0.6500151114
                        ]
                      },
                      {
                        "test": [
                          0.7528539144,
                          0.6791269044
                        ],
                        "passed_time": 4.865196751,
                        "iteration": 305,
                        "remaining_time": 3.084471143,
                        "learn": [
                          0.7646905424,
                          0.6499101644
                        ]
                      },
                      {
                        "test": [
                          0.7528539144,
                          0.6791197477
                        ],
                        "passed_time": 4.880169248,
                        "iteration": 306,
                        "remaining_time": 3.067989137,
                        "learn": [
                          0.7646905424,
                          0.6498155996
                        ]
                      },
                      {
                        "test": [
                          0.7527380194,
                          0.6790890978
                        ],
                        "passed_time": 4.895350545,
                        "iteration": 307,
                        "remaining_time": 3.051647093,
                        "learn": [
                          0.7648354196,
                          0.6496636326
                        ]
                      },
                      {
                        "test": [
                          0.7527380194,
                          0.6790773431
                        ],
                        "passed_time": 4.90962629,
                        "iteration": 308,
                        "remaining_time": 3.03475282,
                        "learn": [
                          0.7649223459,
                          0.6495827805
                        ]
                      },
                      {
                        "test": [
                          0.7527380194,
                          0.6790904173
                        ],
                        "passed_time": 4.924085681,
                        "iteration": 309,
                        "remaining_time": 3.017987998,
                        "learn": [
                          0.7650382476,
                          0.6495211574
                        ]
                      },
                      {
                        "test": [
                          0.7528539144,
                          0.6790944297
                        ],
                        "passed_time": 4.93925393,
                        "iteration": 310,
                        "remaining_time": 3.001668787,
                        "learn": [
                          0.7651831247,
                          0.6494367839
                        ]
                      },
                      {
                        "test": [
                          0.7529118619,
                          0.6791051454
                        ],
                        "passed_time": 4.957049046,
                        "iteration": 311,
                        "remaining_time": 2.98693981,
                        "learn": [
                          0.765067223,
                          0.6493665745
                        ]
                      },
                      {
                        "test": [
                          0.7525641769,
                          0.6791310212
                        ],
                        "passed_time": 4.970679677,
                        "iteration": 312,
                        "remaining_time": 2.969703194,
                        "learn": [
                          0.7651541493,
                          0.6493008985
                        ]
                      },
                      {
                        "test": [
                          0.7528539144,
                          0.679166324
                        ],
                        "passed_time": 4.985444646,
                        "iteration": 313,
                        "remaining_time": 2.953161478,
                        "learn": [
                          0.7651541493,
                          0.6491735002
                        ]
                      },
                      {
                        "test": [
                          0.7526800719,
                          0.679162901
                        ],
                        "passed_time": 4.99965294,
                        "iteration": 314,
                        "remaining_time": 2.936304107,
                        "learn": [
                          0.7655018544,
                          0.6490889165
                        ]
                      },
                      {
                        "test": [
                          0.7525641769,
                          0.6791565386
                        ],
                        "passed_time": 5.012874244,
                        "iteration": 315,
                        "remaining_time": 2.9188888,
                        "learn": [
                          0.7653569773,
                          0.6490543685
                        ]
                      },
                      {
                        "test": [
                          0.7530857044,
                          0.6791990481
                        ],
                        "passed_time": 5.027461726,
                        "iteration": 316,
                        "remaining_time": 2.90228863,
                        "learn": [
                          0.7654439036,
                          0.6489578984
                        ]
                      },
                      {
                        "test": [
                          0.7528539144,
                          0.6791993197
                        ],
                        "passed_time": 5.041906183,
                        "iteration": 317,
                        "remaining_time": 2.885619262,
                        "learn": [
                          0.7655308299,
                          0.64886882
                        ]
                      },
                      {
                        "test": [
                          0.7527959669,
                          0.6792140379
                        ],
                        "passed_time": 5.055804978,
                        "iteration": 318,
                        "remaining_time": 2.868654235,
                        "learn": [
                          0.7655308299,
                          0.6487950628
                        ]
                      },
                      {
                        "test": [
                          0.7527959669,
                          0.679203698
                        ],
                        "passed_time": 5.070880283,
                        "iteration": 319,
                        "remaining_time": 2.852370159,
                        "learn": [
                          0.7655598053,
                          0.6487151653
                        ]
                      },
                      {
                        "test": [
                          0.7528539144,
                          0.6791724114
                        ],
                        "passed_time": 5.084726796,
                        "iteration": 320,
                        "remaining_time": 2.8354084,
                        "learn": [
                          0.7654439036,
                          0.6486478851
                        ]
                      },
                      {
                        "test": [
                          0.7529698094,
                          0.679190989
                        ],
                        "passed_time": 5.098453359,
                        "iteration": 321,
                        "remaining_time": 2.818399683,
                        "learn": [
                          0.7655308299,
                          0.6485454486
                        ]
                      },
                      {
                        "test": [
                          0.7529118619,
                          0.6791968838
                        ],
                        "passed_time": 5.113028833,
                        "iteration": 322,
                        "remaining_time": 2.801876481,
                        "learn": [
                          0.7655308299,
                          0.6484793765
                        ]
                      },
                      {
                        "test": [
                          0.7529118619,
                          0.6792058472
                        ],
                        "passed_time": 5.127678848,
                        "iteration": 323,
                        "remaining_time": 2.785405794,
                        "learn": [
                          0.7654439036,
                          0.6483989253
                        ]
                      },
                      {
                        "test": [
                          0.7529118619,
                          0.6792186664
                        ],
                        "passed_time": 5.143946366,
                        "iteration": 324,
                        "remaining_time": 2.769817274,
                        "learn": [
                          0.7654439036,
                          0.648312388
                        ]
                      },
                      {
                        "test": [
                          0.7527380194,
                          0.6792292352
                        ],
                        "passed_time": 5.158579412,
                        "iteration": 325,
                        "remaining_time": 2.753352201,
                        "learn": [
                          0.7656177561,
                          0.6482199018
                        ]
                      },
                      {
                        "test": [
                          0.7528539144,
                          0.6792476875
                        ],
                        "passed_time": 5.173784828,
                        "iteration": 326,
                        "remaining_time": 2.737201148,
                        "learn": [
                          0.7655598053,
                          0.6480845883
                        ]
                      },
                      {
                        "test": [
                          0.7527380194,
                          0.6792760017
                        ],
                        "passed_time": 5.189282997,
                        "iteration": 327,
                        "remaining_time": 2.721209376,
                        "learn": [
                          0.7655598053,
                          0.6480150825
                        ]
                      },
                      {
                        "test": [
                          0.7528539144,
                          0.6792729559
                        ],
                        "passed_time": 5.203764216,
                        "iteration": 328,
                        "remaining_time": 2.704692039,
                        "learn": [
                          0.7656467316,
                          0.6479091731
                        ]
                      },
                      {
                        "test": [
                          0.7527959669,
                          0.6792866495
                        ],
                        "passed_time": 5.218588893,
                        "iteration": 329,
                        "remaining_time": 2.688363975,
                        "learn": [
                          0.765675707,
                          0.6478562035
                        ]
                      },
                      {
                        "test": [
                          0.7527380194,
                          0.67923629
                        ],
                        "passed_time": 5.233527892,
                        "iteration": 330,
                        "remaining_time": 2.672103365,
                        "learn": [
                          0.7657916087,
                          0.6477437106
                        ]
                      },
                      {
                        "test": [
                          0.7529118619,
                          0.6792570704
                        ],
                        "passed_time": 5.247937853,
                        "iteration": 331,
                        "remaining_time": 2.65558301,
                        "learn": [
                          0.7658495596,
                          0.6476910451
                        ]
                      },
                      {
                        "test": [
                          0.7527380194,
                          0.6792255276
                        ],
                        "passed_time": 5.262741698,
                        "iteration": 332,
                        "remaining_time": 2.639272864,
                        "learn": [
                          0.7657916087,
                          0.6476034641
                        ]
                      },
                      {
                        "test": [
                          0.7525062294,
                          0.679209147
                        ],
                        "passed_time": 5.277286212,
                        "iteration": 333,
                        "remaining_time": 2.622842848,
                        "learn": [
                          0.7659075104,
                          0.6475011882
                        ]
                      },
                      {
                        "test": [
                          0.7526221244,
                          0.6792129908
                        ],
                        "passed_time": 5.29245497,
                        "iteration": 334,
                        "remaining_time": 2.606731552,
                        "learn": [
                          0.7658205841,
                          0.6474115963
                        ]
                      },
                      {
                        "test": [
                          0.7526800719,
                          0.6792309683
                        ],
                        "passed_time": 5.307342297,
                        "iteration": 335,
                        "remaining_time": 2.590488502,
                        "learn": [
                          0.765878535,
                          0.6473404267
                        ]
                      },
                      {
                        "test": [
                          0.7527380194,
                          0.6792374812
                        ],
                        "passed_time": 5.32121703,
                        "iteration": 336,
                        "remaining_time": 2.573763727,
                        "learn": [
                          0.7659654613,
                          0.6472910358
                        ]
                      },
                      {
                        "test": [
                          0.7527380194,
                          0.6792427853
                        ],
                        "passed_time": 5.335882012,
                        "iteration": 337,
                        "remaining_time": 2.557434574,
                        "learn": [
                          0.7659075104,
                          0.6472084655
                        ]
                      },
                      {
                        "test": [
                          0.7527380194,
                          0.6792482492
                        ],
                        "passed_time": 5.351526978,
                        "iteration": 338,
                        "remaining_time": 2.541580659,
                        "learn": [
                          0.765878535,
                          0.6471680005
                        ]
                      },
                      {
                        "test": [
                          0.7525641769,
                          0.6792461841
                        ],
                        "passed_time": 5.427842,
                        "iteration": 339,
                        "remaining_time": 2.554278588,
                        "learn": [
                          0.7659944367,
                          0.6471072847
                        ]
                      },
                      {
                        "test": [
                          0.7526800719,
                          0.6792622556
                        ],
                        "passed_time": 5.455087067,
                        "iteration": 340,
                        "remaining_time": 2.543574321,
                        "learn": [
                          0.7660234121,
                          0.6470439187
                        ]
                      },
                      {
                        "test": [
                          0.7525641769,
                          0.6792839466
                        ],
                        "passed_time": 5.483464565,
                        "iteration": 341,
                        "remaining_time": 2.533296495,
                        "learn": [
                          0.766081363,
                          0.6469697159
                        ]
                      },
                      {
                        "test": [
                          0.7525641769,
                          0.6793318531
                        ],
                        "passed_time": 5.498096309,
                        "iteration": 342,
                        "remaining_time": 2.516621343,
                        "learn": [
                          0.7659654613,
                          0.6469037408
                        ]
                      },
                      {
                        "test": [
                          0.7524482819,
                          0.6793113368
                        ],
                        "passed_time": 5.513148915,
                        "iteration": 343,
                        "remaining_time": 2.500148927,
                        "learn": [
                          0.766081363,
                          0.6468247856
                        ]
                      },
                      {
                        "test": [
                          0.7525641769,
                          0.6793296447
                        ],
                        "passed_time": 5.528101465,
                        "iteration": 344,
                        "remaining_time": 2.483639789,
                        "learn": [
                          0.7661103384,
                          0.6467248904
                        ]
                      },
                      {
                        "test": [
                          0.7527380194,
                          0.6793270375
                        ],
                        "passed_time": 5.542382147,
                        "iteration": 345,
                        "remaining_time": 2.466840609,
                        "learn": [
                          0.7659944367,
                          0.6466504952
                        ]
                      },
                      {
                        "test": [
                          0.7526221244,
                          0.6793412521
                        ],
                        "passed_time": 5.556961454,
                        "iteration": 346,
                        "remaining_time": 2.450187615,
                        "learn": [
                          0.7659654613,
                          0.6465489045
                        ]
                      },
                      {
                        "test": [
                          0.7526800719,
                          0.6793542049
                        ],
                        "passed_time": 5.571471092,
                        "iteration": 347,
                        "remaining_time": 2.433516109,
                        "learn": [
                          0.7660234121,
                          0.6464466154
                        ]
                      },
                      {
                        "test": [
                          0.7525062294,
                          0.6793701278
                        ],
                        "passed_time": 5.58533292,
                        "iteration": 348,
                        "remaining_time": 2.416576707,
                        "learn": [
                          0.7660234121,
                          0.646369245
                        ]
                      },
                      {
                        "test": [
                          0.7525641769,
                          0.679428941
                        ],
                        "passed_time": 5.600171219,
                        "iteration": 349,
                        "remaining_time": 2.40007338,
                        "learn": [
                          0.7661393139,
                          0.6462503328
                        ]
                      },
                      {
                        "test": [
                          0.7525062294,
                          0.6794483203
                        ],
                        "passed_time": 5.613943432,
                        "iteration": 350,
                        "remaining_time": 2.383126984,
                        "learn": [
                          0.7661972647,
                          0.6461926557
                        ]
                      },
                      {
                        "test": [
                          0.7525062294,
                          0.6794199114
                        ],
                        "passed_time": 5.62807511,
                        "iteration": 351,
                        "remaining_time": 2.366349762,
                        "learn": [
                          0.7662552156,
                          0.6461200856
                        ]
                      },
                      {
                        "test": [
                          0.7526221244,
                          0.6794345325
                        ],
                        "passed_time": 5.642298293,
                        "iteration": 352,
                        "remaining_time": 2.349625635,
                        "learn": [
                          0.7661972647,
                          0.6460494465
                        ]
                      },
                      {
                        "test": [
                          0.7526221244,
                          0.6794395117
                        ],
                        "passed_time": 5.656812841,
                        "iteration": 353,
                        "remaining_time": 2.333035804,
                        "learn": [
                          0.7660523876,
                          0.6459752489
                        ]
                      },
                      {
                        "test": [
                          0.7523903344,
                          0.679483368
                        ],
                        "passed_time": 5.670844902,
                        "iteration": 354,
                        "remaining_time": 2.316260594,
                        "learn": [
                          0.766284191,
                          0.6458947823
                        ]
                      },
                      {
                        "test": [
                          0.7523903344,
                          0.6794761527
                        ],
                        "passed_time": 5.685328407,
                        "iteration": 355,
                        "remaining_time": 2.2996834,
                        "learn": [
                          0.7664290682,
                          0.6457972895
                        ]
                      },
                      {
                        "test": [
                          0.7523903344,
                          0.679508558
                        ],
                        "passed_time": 5.699926828,
                        "iteration": 356,
                        "remaining_time": 2.283163967,
                        "learn": [
                          0.7665449699,
                          0.6456933171
                        ]
                      },
                      {
                        "test": [
                          0.7523323869,
                          0.6795335218
                        ],
                        "passed_time": 5.713838746,
                        "iteration": 357,
                        "remaining_time": 2.266382966,
                        "learn": [
                          0.7668636996,
                          0.6456064662
                        ]
                      },
                      {
                        "test": [
                          0.7525641769,
                          0.6795795811
                        ],
                        "passed_time": 5.728389352,
                        "iteration": 358,
                        "remaining_time": 2.249868798,
                        "learn": [
                          0.766689847,
                          0.6455302602
                        ]
                      },
                      {
                        "test": [
                          0.7525641769,
                          0.6796009831
                        ],
                        "passed_time": 5.748583728,
                        "iteration": 359,
                        "remaining_time": 2.235560339,
                        "learn": [
                          0.7667477979,
                          0.6454528305
                        ]
                      },
                      {
                        "test": [
                          0.7526800719,
                          0.6795936085
                        ],
                        "passed_time": 5.767093023,
                        "iteration": 360,
                        "remaining_time": 2.220570444,
                        "learn": [
                          0.7666318962,
                          0.6453636071
                        ]
                      },
                      {
                        "test": [
                          0.7526800719,
                          0.6795454387
                        ],
                        "passed_time": 5.782404561,
                        "iteration": 361,
                        "remaining_time": 2.20434207,
                        "learn": [
                          0.766689847,
                          0.6452740204
                        ]
                      },
                      {
                        "test": [
                          0.7526800719,
                          0.6795541998
                        ],
                        "passed_time": 5.797290198,
                        "iteration": 362,
                        "remaining_time": 2.187958008,
                        "learn": [
                          0.766689847,
                          0.645165624
                        ]
                      },
                      {
                        "test": [
                          0.7525062294,
                          0.6795630305
                        ],
                        "passed_time": 5.812274164,
                        "iteration": 363,
                        "remaining_time": 2.171618918,
                        "learn": [
                          0.7667477979,
                          0.6450795021
                        ]
                      },
                      {
                        "test": [
                          0.7526221244,
                          0.6795760302
                        ],
                        "passed_time": 5.826897046,
                        "iteration": 364,
                        "remaining_time": 2.155153702,
                        "learn": [
                          0.7668347242,
                          0.6450030943
                        ]
                      },
                      {
                        "test": [
                          0.7526221244,
                          0.6796196649
                        ],
                        "passed_time": 5.84095445,
                        "iteration": 365,
                        "remaining_time": 2.13849152,
                        "learn": [
                          0.766892675,
                          0.644903675
                        ]
                      },
                      {
                        "test": [
                          0.7522744394,
                          0.6796325916
                        ],
                        "passed_time": 5.855564387,
                        "iteration": 366,
                        "remaining_time": 2.12204377,
                        "learn": [
                          0.7670665276,
                          0.6448145856
                        ]
                      },
                      {
                        "test": [
                          0.7523323869,
                          0.6796179223
                        ],
                        "passed_time": 5.871169718,
                        "iteration": 367,
                        "remaining_time": 2.105963051,
                        "learn": [
                          0.7670085767,
                          0.6447468722
                        ]
                      },
                      {
                        "test": [
                          0.7522744394,
                          0.679612064
                        ],
                        "passed_time": 5.885133306,
                        "iteration": 368,
                        "remaining_time": 2.089302068,
                        "learn": [
                          0.7670375522,
                          0.6446954965
                        ]
                      },
                      {
                        "test": [
                          0.7522744394,
                          0.6796402221
                        ],
                        "passed_time": 5.899049333,
                        "iteration": 369,
                        "remaining_time": 2.072638955,
                        "learn": [
                          0.767095503,
                          0.6446241762
                        ]
                      },
                      {
                        "test": [
                          0.7522744394,
                          0.6796199799
                        ],
                        "passed_time": 5.913587788,
                        "iteration": 370,
                        "remaining_time": 2.056207074,
                        "learn": [
                          0.7671244784,
                          0.6445448621
                        ]
                      },
                      {
                        "test": [
                          0.7520426494,
                          0.6796099557
                        ],
                        "passed_time": 5.927830371,
                        "iteration": 371,
                        "remaining_time": 2.039683569,
                        "learn": [
                          0.767298331,
                          0.6444746799
                        ]
                      },
                      {
                        "test": [
                          0.7520426494,
                          0.6796581578
                        ],
                        "passed_time": 5.942848799,
                        "iteration": 372,
                        "remaining_time": 2.023436454,
                        "learn": [
                          0.7673562819,
                          0.6443720483
                        ]
                      },
                      {
                        "test": [
                          0.7519267544,
                          0.6796633442
                        ],
                        "passed_time": 5.957210341,
                        "iteration": 373,
                        "remaining_time": 2.006974607,
                        "learn": [
                          0.7673852573,
                          0.6443219966
                        ]
                      },
                      {
                        "test": [
                          0.7521005969,
                          0.6797447681
                        ],
                        "passed_time": 5.972011124,
                        "iteration": 374,
                        "remaining_time": 1.990670375,
                        "learn": [
                          0.7674142327,
                          0.6442190532
                        ]
                      },
                      {
                        "test": [
                          0.7522744394,
                          0.6797650227
                        ],
                        "passed_time": 5.986470233,
                        "iteration": 375,
                        "remaining_time": 1.97426146,
                        "learn": [
                          0.7674721836,
                          0.6441522756
                        ]
                      },
                      {
                        "test": [
                          0.7522744394,
                          0.6797534247
                        ],
                        "passed_time": 6.001777128,
                        "iteration": 376,
                        "remaining_time": 1.958139487,
                        "learn": [
                          0.7675591099,
                          0.6440391353
                        ]
                      },
                      {
                        "test": [
                          0.7523323869,
                          0.6797435206
                        ],
                        "passed_time": 6.016459388,
                        "iteration": 377,
                        "remaining_time": 1.941820226,
                        "learn": [
                          0.7676460362,
                          0.6439846973
                        ]
                      },
                      {
                        "test": [
                          0.7525641769,
                          0.6797423796
                        ],
                        "passed_time": 6.030536365,
                        "iteration": 378,
                        "remaining_time": 1.925316359,
                        "learn": [
                          0.7675301344,
                          0.643932002
                        ]
                      },
                      {
                        "test": [
                          0.7523903344,
                          0.6797779644
                        ],
                        "passed_time": 6.051720679,
                        "iteration": 379,
                        "remaining_time": 1.911069688,
                        "learn": [
                          0.7676170607,
                          0.6438545508
                        ]
                      },
                      {
                        "test": [
                          0.7523903344,
                          0.6797807002
                        ],
                        "passed_time": 6.066709664,
                        "iteration": 380,
                        "remaining_time": 1.894851575,
                        "learn": [
                          0.7675880853,
                          0.6437952149
                        ]
                      },
                      {
                        "test": [
                          0.7523903344,
                          0.6797931733
                        ],
                        "passed_time": 6.081098371,
                        "iteration": 381,
                        "remaining_time": 1.878454471,
                        "learn": [
                          0.7676170607,
                          0.6436925497
                        ]
                      },
                      {
                        "test": [
                          0.7523903344,
                          0.6797552119
                        ],
                        "passed_time": 6.096635644,
                        "iteration": 382,
                        "remaining_time": 1.862418722,
                        "learn": [
                          0.7676170607,
                          0.6436083665
                        ]
                      },
                      {
                        "test": [
                          0.7522744394,
                          0.679782057
                        ],
                        "passed_time": 6.111599067,
                        "iteration": 383,
                        "remaining_time": 1.846212218,
                        "learn": [
                          0.767501159,
                          0.6435227182
                        ]
                      },
                      {
                        "test": [
                          0.7521585444,
                          0.6797909065
                        ],
                        "passed_time": 6.126091726,
                        "iteration": 384,
                        "remaining_time": 1.829871554,
                        "learn": [
                          0.7674432082,
                          0.6434534602
                        ]
                      },
                      {
                        "test": [
                          0.7521005969,
                          0.6797849255
                        ],
                        "passed_time": 6.139197819,
                        "iteration": 385,
                        "remaining_time": 1.813130962,
                        "learn": [
                          0.7674721836,
                          0.6433953581
                        ]
                      },
                      {
                        "test": [
                          0.7521585444,
                          0.6797912291
                        ],
                        "passed_time": 6.15253946,
                        "iteration": 386,
                        "remaining_time": 1.79647793,
                        "learn": [
                          0.7676460362,
                          0.6433595099
                        ]
                      },
                      {
                        "test": [
                          0.7522164919,
                          0.6797869303
                        ],
                        "passed_time": 6.166373309,
                        "iteration": 387,
                        "remaining_time": 1.779984048,
                        "learn": [
                          0.7678198887,
                          0.6432760503
                        ]
                      },
                      {
                        "test": [
                          0.7522164919,
                          0.6797911518
                        ],
                        "passed_time": 6.18057194,
                        "iteration": 388,
                        "remaining_time": 1.763607931,
                        "learn": [
                          0.7679647659,
                          0.6432320925
                        ]
                      },
                      {
                        "test": [
                          0.7523903344,
                          0.6798234636
                        ],
                        "passed_time": 6.194716927,
                        "iteration": 389,
                        "remaining_time": 1.747227851,
                        "learn": [
                          0.767906815,
                          0.6431710906
                        ]
                      },
                      {
                        "test": [
                          0.7523323869,
                          0.679830375
                        ],
                        "passed_time": 6.208815697,
                        "iteration": 390,
                        "remaining_time": 1.73084632,
                        "learn": [
                          0.767906815,
                          0.6431088463
                        ]
                      },
                      {
                        "test": [
                          0.7521585444,
                          0.6798263447
                        ],
                        "passed_time": 6.222774695,
                        "iteration": 391,
                        "remaining_time": 1.714437926,
                        "learn": [
                          0.7679937413,
                          0.643070882
                        ]
                      },
                      {
                        "test": [
                          0.7522164919,
                          0.6798137593
                        ],
                        "passed_time": 6.236607853,
                        "iteration": 392,
                        "remaining_time": 1.698007736,
                        "learn": [
                          0.7680806676,
                          0.6430188519
                        ]
                      },
                      {
                        "test": [
                          0.7523323869,
                          0.6798258606
                        ],
                        "passed_time": 6.25190202,
                        "iteration": 393,
                        "remaining_time": 1.681983792,
                        "learn": [
                          0.7679937413,
                          0.642909184
                        ]
                      },
                      {
                        "test": [
                          0.7522164919,
                          0.6798185632
                        ],
                        "passed_time": 6.265848091,
                        "iteration": 394,
                        "remaining_time": 1.665605189,
                        "learn": [
                          0.768109643,
                          0.6428533809
                        ]
                      },
                      {
                        "test": [
                          0.7522164919,
                          0.6798428577
                        ],
                        "passed_time": 6.28002469,
                        "iteration": 395,
                        "remaining_time": 1.649299414,
                        "learn": [
                          0.7682545202,
                          0.6427948857
                        ]
                      },
                      {
                        "test": [
                          0.7522744394,
                          0.6798219145
                        ],
                        "passed_time": 6.294543158,
                        "iteration": 396,
                        "remaining_time": 1.633093061,
                        "learn": [
                          0.7683414465,
                          0.6427241474
                        ]
                      },
                      {
                        "test": [
                          0.7521585444,
                          0.679811117
                        ],
                        "passed_time": 6.309287917,
                        "iteration": 397,
                        "remaining_time": 1.616953185,
                        "learn": [
                          0.7683993973,
                          0.6426697444
                        ]
                      },
                      {
                        "test": [
                          0.7522744394,
                          0.6797918249
                        ],
                        "passed_time": 6.323783895,
                        "iteration": 398,
                        "remaining_time": 1.600757327,
                        "learn": [
                          0.7682834956,
                          0.6425669015
                        ]
                      },
                      {
                        "test": [
                          0.7523323869,
                          0.6797563504
                        ],
                        "passed_time": 6.339076596,
                        "iteration": 399,
                        "remaining_time": 1.584769149,
                        "learn": [
                          0.768312471,
                          0.6424814235
                        ]
                      },
                      {
                        "test": [
                          0.7523903344,
                          0.6798027342
                        ],
                        "passed_time": 6.353580863,
                        "iteration": 400,
                        "remaining_time": 1.568589789,
                        "learn": [
                          0.7682834956,
                          0.6424054787
                        ]
                      },
                      {
                        "test": [
                          0.7523903344,
                          0.679838776
                        ],
                        "passed_time": 6.367225671,
                        "iteration": 401,
                        "remaining_time": 1.552209243,
                        "learn": [
                          0.7683704219,
                          0.642359333
                        ]
                      },
                      {
                        "test": [
                          0.7524482819,
                          0.6798411586
                        ],
                        "passed_time": 6.382176501,
                        "iteration": 402,
                        "remaining_time": 1.536156627,
                        "learn": [
                          0.7682255447,
                          0.6422770638
                        ]
                      },
                      {
                        "test": [
                          0.7525062294,
                          0.6798772939
                        ],
                        "passed_time": 6.431351021,
                        "iteration": 403,
                        "remaining_time": 1.528241827,
                        "learn": [
                          0.7682834956,
                          0.6422204424
                        ]
                      },
                      {
                        "test": [
                          0.7523903344,
                          0.6798473063
                        ],
                        "passed_time": 6.483725586,
                        "iteration": 404,
                        "remaining_time": 1.520873903,
                        "learn": [
                          0.7683704219,
                          0.6421515827
                        ]
                      },
                      {
                        "test": [
                          0.7523323869,
                          0.6798272367
                        ],
                        "passed_time": 6.513113984,
                        "iteration": 405,
                        "remaining_time": 1.507962351,
                        "learn": [
                          0.768515299,
                          0.6420396062
                        ]
                      },
                      {
                        "test": [
                          0.7522164919,
                          0.6798706775
                        ],
                        "passed_time": 6.530729666,
                        "iteration": 406,
                        "remaining_time": 1.492279752,
                        "learn": [
                          0.7683704219,
                          0.6419688685
                        ]
                      },
                      {
                        "test": [
                          0.7522744394,
                          0.6798720692
                        ],
                        "passed_time": 6.545748013,
                        "iteration": 407,
                        "remaining_time": 1.476002003,
                        "learn": [
                          0.7683414465,
                          0.6419273462
                        ]
                      },
                      {
                        "test": [
                          0.7522744394,
                          0.6798643496
                        ],
                        "passed_time": 6.560173801,
                        "iteration": 408,
                        "remaining_time": 1.459598572,
                        "learn": [
                          0.768312471,
                          0.641849145
                        ]
                      },
                      {
                        "test": [
                          0.7523323869,
                          0.6798928096
                        ],
                        "passed_time": 6.574847505,
                        "iteration": 409,
                        "remaining_time": 1.443259208,
                        "learn": [
                          0.768312471,
                          0.6417590136
                        ]
                      },
                      {
                        "test": [
                          0.7522744394,
                          0.6799328004
                        ],
                        "passed_time": 6.589150588,
                        "iteration": 410,
                        "remaining_time": 1.426847694,
                        "learn": [
                          0.7683414465,
                          0.6417069087
                        ]
                      },
                      {
                        "test": [
                          0.7523323869,
                          0.6799357606
                        ],
                        "passed_time": 6.604729191,
                        "iteration": 411,
                        "remaining_time": 1.410718856,
                        "learn": [
                          0.7683704219,
                          0.641575679
                        ]
                      },
                      {
                        "test": [
                          0.7524482819,
                          0.6799648836
                        ],
                        "passed_time": 6.619115591,
                        "iteration": 412,
                        "remaining_time": 1.394341541,
                        "learn": [
                          0.7684573482,
                          0.6415287915
                        ]
                      },
                      {
                        "test": [
                          0.7523323869,
                          0.6800035325
                        ],
                        "passed_time": 6.63334402,
                        "iteration": 413,
                        "remaining_time": 1.377941028,
                        "learn": [
                          0.7684863236,
                          0.641470345
                        ]
                      },
                      {
                        "test": [
                          0.7521585444,
                          0.6800530812
                        ],
                        "passed_time": 6.64804372,
                        "iteration": 414,
                        "remaining_time": 1.361647509,
                        "learn": [
                          0.768515299,
                          0.6413334912
                        ]
                      },
                      {
                        "test": [
                          0.7523903344,
                          0.6801037953
                        ],
                        "passed_time": 6.662394901,
                        "iteration": 415,
                        "remaining_time": 1.345291278,
                        "learn": [
                          0.7684863236,
                          0.6412537587
                        ]
                      },
                      {
                        "test": [
                          0.7524482819,
                          0.6801133267
                        ],
                        "passed_time": 6.677770883,
                        "iteration": 416,
                        "remaining_time": 1.329148641,
                        "learn": [
                          0.7685732499,
                          0.6411326043
                        ]
                      },
                      {
                        "test": [
                          0.7524482819,
                          0.6800780445
                        ],
                        "passed_time": 6.692995203,
                        "iteration": 417,
                        "remaining_time": 1.31297992,
                        "learn": [
                          0.7686601762,
                          0.6409971139
                        ]
                      },
                      {
                        "test": [
                          0.7523903344,
                          0.680110716
                        ],
                        "passed_time": 6.706511866,
                        "iteration": 418,
                        "remaining_time": 1.296485587,
                        "learn": [
                          0.7686601762,
                          0.6409345302
                        ]
                      },
                      {
                        "test": [
                          0.7523323869,
                          0.6801009329
                        ],
                        "passed_time": 6.721101424,
                        "iteration": 419,
                        "remaining_time": 1.280209795,
                        "learn": [
                          0.7688630042,
                          0.6408692797
                        ]
                      },
                      {
                        "test": [
                          0.7523323869,
                          0.6801326989
                        ],
                        "passed_time": 6.73520417,
                        "iteration": 420,
                        "remaining_time": 1.263850664,
                        "learn": [
                          0.7688630042,
                          0.6408190389
                        ]
                      },
                      {
                        "test": [
                          0.7523323869,
                          0.6801326734
                        ],
                        "passed_time": 6.748978149,
                        "iteration": 421,
                        "remaining_time": 1.247441459,
                        "learn": [
                          0.7690658322,
                          0.6407553527
                        ]
                      },
                      {
                        "test": [
                          0.7522744394,
                          0.6801338374
                        ],
                        "passed_time": 6.777785167,
                        "iteration": 422,
                        "remaining_time": 1.233781224,
                        "learn": [
                          0.7690658322,
                          0.6407060127
                        ]
                      },
                      {
                        "test": [
                          0.7524482819,
                          0.6802077909
                        ],
                        "passed_time": 6.793118661,
                        "iteration": 423,
                        "remaining_time": 1.217634477,
                        "learn": [
                          0.7690658322,
                          0.640599153
                        ]
                      },
                      {
                        "test": [
                          0.7524482819,
                          0.6801595321
                        ],
                        "passed_time": 6.808037921,
                        "iteration": 424,
                        "remaining_time": 1.201418457,
                        "learn": [
                          0.7691817339,
                          0.6405122303
                        ]
                      },
                      {
                        "test": [
                          0.7525641769,
                          0.6801756242
                        ],
                        "passed_time": 6.822518278,
                        "iteration": 425,
                        "remaining_time": 1.185132283,
                        "learn": [
                          0.7690948076,
                          0.640427061
                        ]
                      },
                      {
                        "test": [
                          0.7526221244,
                          0.6801295987
                        ],
                        "passed_time": 6.838104474,
                        "iteration": 426,
                        "remaining_time": 1.169043622,
                        "learn": [
                          0.7690658322,
                          0.6403014367
                        ]
                      },
                      {
                        "test": [
                          0.7525641769,
                          0.6801543051
                        ],
                        "passed_time": 6.852724535,
                        "iteration": 427,
                        "remaining_time": 1.152794782,
                        "learn": [
                          0.7690658322,
                          0.6402296198
                        ]
                      },
                      {
                        "test": [
                          0.7525641769,
                          0.680167635
                        ],
                        "passed_time": 6.868155692,
                        "iteration": 428,
                        "remaining_time": 1.136687772,
                        "learn": [
                          0.7690658322,
                          0.6401971379
                        ]
                      },
                      {
                        "test": [
                          0.7525641769,
                          0.6801627929
                        ],
                        "passed_time": 6.882788033,
                        "iteration": 429,
                        "remaining_time": 1.120453866,
                        "learn": [
                          0.7690948076,
                          0.6401328819
                        ]
                      },
                      {
                        "test": [
                          0.7525062294,
                          0.6802149653
                        ],
                        "passed_time": 6.899970354,
                        "iteration": 430,
                        "remaining_time": 1.104635625,
                        "learn": [
                          0.7691527585,
                          0.6400559865
                        ]
                      },
                      {
                        "test": [
                          0.7523323869,
                          0.6802166581
                        ],
                        "passed_time": 6.914568952,
                        "iteration": 431,
                        "remaining_time": 1.088404372,
                        "learn": [
                          0.7692686602,
                          0.6399629551
                        ]
                      },
                      {
                        "test": [
                          0.7522744394,
                          0.6801758682
                        ],
                        "passed_time": 6.929458125,
                        "iteration": 432,
                        "remaining_time": 1.072225622,
                        "learn": [
                          0.7692976356,
                          0.6398326751
                        ]
                      },
                      {
                        "test": [
                          0.7522744394,
                          0.6801597711
                        ],
                        "passed_time": 6.945550235,
                        "iteration": 433,
                        "remaining_time": 1.05623575,
                        "learn": [
                          0.7692107093,
                          0.6397243296
                        ]
                      },
                      {
                        "test": [
                          0.7521585444,
                          0.6801899124
                        ],
                        "passed_time": 6.960137812,
                        "iteration": 434,
                        "remaining_time": 1.040020593,
                        "learn": [
                          0.7692686602,
                          0.639649783
                        ]
                      },
                      {
                        "test": [
                          0.7522164919,
                          0.6802277556
                        ],
                        "passed_time": 6.974854886,
                        "iteration": 435,
                        "remaining_time": 1.02383191,
                        "learn": [
                          0.7693845619,
                          0.6395676974
                        ]
                      },
                      {
                        "test": [
                          0.7522164919,
                          0.6802684395
                        ],
                        "passed_time": 6.989470487,
                        "iteration": 436,
                        "remaining_time": 1.007635333,
                        "learn": [
                          0.7693555865,
                          0.6394993735
                        ]
                      },
                      {
                        "test": [
                          0.7522744394,
                          0.6802992584
                        ],
                        "passed_time": 7.004673702,
                        "iteration": 437,
                        "remaining_time": 0.9915291541,
                        "learn": [
                          0.7693555865,
                          0.6394298213
                        ]
                      },
                      {
                        "test": [
                          0.7523323869,
                          0.6802993879
                        ],
                        "passed_time": 7.018432422,
                        "iteration": 438,
                        "remaining_time": 0.9752263729,
                        "learn": [
                          0.769326611,
                          0.6393782544
                        ]
                      },
                      {
                        "test": [
                          0.7523903344,
                          0.680292092
                        ],
                        "passed_time": 7.033233937,
                        "iteration": 439,
                        "remaining_time": 0.9590773551,
                        "learn": [
                          0.7693555865,
                          0.6392950295
                        ]
                      },
                      {
                        "test": [
                          0.7522744394,
                          0.6803133657
                        ],
                        "passed_time": 7.04681499,
                        "iteration": 440,
                        "remaining_time": 0.9427711665,
                        "learn": [
                          0.7692976356,
                          0.6392407949
                        ]
                      },
                      {
                        "test": [
                          0.7522744394,
                          0.6803097041
                        ],
                        "passed_time": 7.061315505,
                        "iteration": 441,
                        "remaining_time": 0.9265979621,
                        "learn": [
                          0.7691527585,
                          0.6391956636
                        ]
                      },
                      {
                        "test": [
                          0.7522744394,
                          0.6803088651
                        ],
                        "passed_time": 7.07536409,
                        "iteration": 442,
                        "remaining_time": 0.9103741606,
                        "learn": [
                          0.7691817339,
                          0.6391495604
                        ]
                      },
                      {
                        "test": [
                          0.7521585444,
                          0.6803301285
                        ],
                        "passed_time": 7.089318971,
                        "iteration": 443,
                        "remaining_time": 0.8941483387,
                        "learn": [
                          0.7692107093,
                          0.6391024095
                        ]
                      },
                      {
                        "test": [
                          0.7522744394,
                          0.6803366023
                        ],
                        "passed_time": 7.116887562,
                        "iteration": 444,
                        "remaining_time": 0.8796153167,
                        "learn": [
                          0.7692976356,
                          0.6390558536
                        ]
                      },
                      {
                        "test": [
                          0.7523903344,
                          0.680329538
                        ],
                        "passed_time": 7.131893507,
                        "iteration": 445,
                        "remaining_time": 0.8635028013,
                        "learn": [
                          0.7692686602,
                          0.6389893369
                        ]
                      },
                      {
                        "test": [
                          0.7519267544,
                          0.6803749216
                        ],
                        "passed_time": 7.145838008,
                        "iteration": 446,
                        "remaining_time": 0.8472693835,
                        "learn": [
                          0.7694135373,
                          0.638931242
                        ]
                      },
                      {
                        "test": [
                          0.7521585444,
                          0.6804120662
                        ],
                        "passed_time": 7.160472595,
                        "iteration": 447,
                        "remaining_time": 0.8311262834,
                        "learn": [
                          0.7696743162,
                          0.6388573872
                        ]
                      },
                      {
                        "test": [
                          0.7523903344,
                          0.6804689681
                        ],
                        "passed_time": 7.175201194,
                        "iteration": 448,
                        "remaining_time": 0.815000581,
                        "learn": [
                          0.7697612425,
                          0.6387761528
                        ]
                      },
                      {
                        "test": [
                          0.7523323869,
                          0.6804903961
                        ],
                        "passed_time": 7.189741506,
                        "iteration": 449,
                        "remaining_time": 0.7988601673,
                        "learn": [
                          0.7697902179,
                          0.6386618403
                        ]
                      },
                      {
                        "test": [
                          0.7523323869,
                          0.6805213084
                        ],
                        "passed_time": 7.204267506,
                        "iteration": 450,
                        "remaining_time": 0.7827252944,
                        "learn": [
                          0.7699061196,
                          0.638592521
                        ]
                      },
                      {
                        "test": [
                          0.7521585444,
                          0.6805600274
                        ],
                        "passed_time": 7.218763582,
                        "iteration": 451,
                        "remaining_time": 0.7665943627,
                        "learn": [
                          0.769935095,
                          0.6385226374
                        ]
                      },
                      {
                        "test": [
                          0.7522164919,
                          0.6805691652
                        ],
                        "passed_time": 7.235017705,
                        "iteration": 452,
                        "remaining_time": 0.7506530511,
                        "learn": [
                          0.7698771442,
                          0.6384530353
                        ]
                      },
                      {
                        "test": [
                          0.7521005969,
                          0.6805764521
                        ],
                        "passed_time": 7.249358324,
                        "iteration": 453,
                        "remaining_time": 0.7345164822,
                        "learn": [
                          0.7698481688,
                          0.6383897472
                        ]
                      },
                      {
                        "test": [
                          0.7520426494,
                          0.6805825155
                        ],
                        "passed_time": 7.263941758,
                        "iteration": 454,
                        "remaining_time": 0.7184118223,
                        "learn": [
                          0.7698771442,
                          0.6383248999
                        ]
                      },
                      {
                        "test": [
                          0.7518688069,
                          0.6805693767
                        ],
                        "passed_time": 7.278692387,
                        "iteration": 455,
                        "remaining_time": 0.7023299672,
                        "learn": [
                          0.7697902179,
                          0.6382624287
                        ]
                      },
                      {
                        "test": [
                          0.7519267544,
                          0.6805482462
                        ],
                        "passed_time": 7.293444474,
                        "iteration": 456,
                        "remaining_time": 0.6862540752,
                        "learn": [
                          0.7697902179,
                          0.6381894236
                        ]
                      },
                      {
                        "test": [
                          0.7522164919,
                          0.6805624899
                        ],
                        "passed_time": 7.307959992,
                        "iteration": 457,
                        "remaining_time": 0.67016227,
                        "learn": [
                          0.7699061196,
                          0.6381261753
                        ]
                      },
                      {
                        "test": [
                          0.7521585444,
                          0.680546859
                        ],
                        "passed_time": 7.322805057,
                        "iteration": 458,
                        "remaining_time": 0.6541067698,
                        "learn": [
                          0.7698481688,
                          0.6380622475
                        ]
                      },
                      {
                        "test": [
                          0.7520426494,
                          0.68054646
                        ],
                        "passed_time": 7.336719559,
                        "iteration": 459,
                        "remaining_time": 0.6379756139,
                        "learn": [
                          0.7698771442,
                          0.638011203
                        ]
                      },
                      {
                        "test": [
                          0.7519847019,
                          0.6805028603
                        ],
                        "passed_time": 7.351731221,
                        "iteration": 460,
                        "remaining_time": 0.6219468929,
                        "learn": [
                          0.7699640705,
                          0.6379397714
                        ]
                      },
                      {
                        "test": [
                          0.7521005969,
                          0.6804763659
                        ],
                        "passed_time": 7.366547899,
                        "iteration": 461,
                        "remaining_time": 0.6059065371,
                        "learn": [
                          0.770137923,
                          0.6378661945
                        ]
                      },
                      {
                        "test": [
                          0.7522744394,
                          0.6804711846
                        ],
                        "passed_time": 7.381377168,
                        "iteration": 462,
                        "remaining_time": 0.5898724735,
                        "learn": [
                          0.770137923,
                          0.6378005606
                        ]
                      },
                      {
                        "test": [
                          0.7521585444,
                          0.680457523
                        ],
                        "passed_time": 7.395445843,
                        "iteration": 463,
                        "remaining_time": 0.5737845913,
                        "learn": [
                          0.7700509968,
                          0.6377447674
                        ]
                      },
                      {
                        "test": [
                          0.7521585444,
                          0.6805001039
                        ],
                        "passed_time": 7.410359779,
                        "iteration": 464,
                        "remaining_time": 0.5577690157,
                        "learn": [
                          0.7701668985,
                          0.6376909872
                        ]
                      },
                      {
                        "test": [
                          0.7519267544,
                          0.6805162265
                        ],
                        "passed_time": 7.424835241,
                        "iteration": 465,
                        "remaining_time": 0.5417261764,
                        "learn": [
                          0.7701958739,
                          0.6376217299
                        ]
                      },
                      {
                        "test": [
                          0.7518688069,
                          0.6805325835
                        ],
                        "passed_time": 7.439509011,
                        "iteration": 466,
                        "remaining_time": 0.5257040629,
                        "learn": [
                          0.770137923,
                          0.6375510638
                        ]
                      },
                      {
                        "test": [
                          0.7519267544,
                          0.6805057345
                        ],
                        "passed_time": 7.487427768,
                        "iteration": 467,
                        "remaining_time": 0.511960873,
                        "learn": [
                          0.7702538248,
                          0.6374402971
                        ]
                      },
                      {
                        "test": [
                          0.7519847019,
                          0.6805009445
                        ],
                        "passed_time": 7.532929109,
                        "iteration": 468,
                        "remaining_time": 0.4979121586,
                        "learn": [
                          0.7704566528,
                          0.6373332969
                        ]
                      },
                      {
                        "test": [
                          0.7519847019,
                          0.6804968805
                        ],
                        "passed_time": 7.562266738,
                        "iteration": 469,
                        "remaining_time": 0.4826978769,
                        "learn": [
                          0.770340751,
                          0.6372560058
                        ]
                      },
                      {
                        "test": [
                          0.7519847019,
                          0.6804904678
                        ],
                        "passed_time": 7.585445981,
                        "iteration": 470,
                        "remaining_time": 0.4670444447,
                        "learn": [
                          0.7703697265,
                          0.6371871309
                        ]
                      },
                      {
                        "test": [
                          0.7519267544,
                          0.6805244717
                        ],
                        "passed_time": 7.599338329,
                        "iteration": 471,
                        "remaining_time": 0.450808206,
                        "learn": [
                          0.7704566528,
                          0.6371417449
                        ]
                      },
                      {
                        "test": [
                          0.7521005969,
                          0.6805417877
                        ],
                        "passed_time": 7.6127449,
                        "iteration": 472,
                        "remaining_time": 0.4345541486,
                        "learn": [
                          0.7705146036,
                          0.6370876049
                        ]
                      },
                      {
                        "test": [
                          0.7521585444,
                          0.6805327502
                        ],
                        "passed_time": 7.627813349,
                        "iteration": 473,
                        "remaining_time": 0.4184032638,
                        "learn": [
                          0.7704856282,
                          0.6370148905
                        ]
                      },
                      {
                        "test": [
                          0.7522164919,
                          0.68054567
                        ],
                        "passed_time": 7.642669336,
                        "iteration": 474,
                        "remaining_time": 0.4022457546,
                        "learn": [
                          0.770543579,
                          0.6369640336
                        ]
                      },
                      {
                        "test": [
                          0.7521585444,
                          0.6805406228
                        ],
                        "passed_time": 7.657450439,
                        "iteration": 475,
                        "remaining_time": 0.3860899381,
                        "learn": [
                          0.7705146036,
                          0.6368994557
                        ]
                      },
                      {
                        "test": [
                          0.7522744394,
                          0.6805663247
                        ],
                        "passed_time": 7.671306461,
                        "iteration": 476,
                        "remaining_time": 0.3698952801,
                        "learn": [
                          0.7705146036,
                          0.6368542392
                        ]
                      },
                      {
                        "test": [
                          0.7521585444,
                          0.680566809
                        ],
                        "passed_time": 7.685807674,
                        "iteration": 477,
                        "remaining_time": 0.3537401021,
                        "learn": [
                          0.7705146036,
                          0.6367889165
                        ]
                      },
                      {
                        "test": [
                          0.7521005969,
                          0.6805724169
                        ],
                        "passed_time": 7.701187529,
                        "iteration": 478,
                        "remaining_time": 0.337630351,
                        "learn": [
                          0.7706015299,
                          0.6367215864
                        ]
                      },
                      {
                        "test": [
                          0.7521005969,
                          0.6805577238
                        ],
                        "passed_time": 7.715890221,
                        "iteration": 479,
                        "remaining_time": 0.3214954259,
                        "learn": [
                          0.7705146036,
                          0.6366297046
                        ]
                      },
                      {
                        "test": [
                          0.7521005969,
                          0.6805684969
                        ],
                        "passed_time": 7.730318068,
                        "iteration": 480,
                        "remaining_time": 0.3053555993,
                        "learn": [
                          0.7706015299,
                          0.6365742072
                        ]
                      },
                      {
                        "test": [
                          0.7519267544,
                          0.6805862332
                        ],
                        "passed_time": 7.744837685,
                        "iteration": 481,
                        "remaining_time": 0.2892263036,
                        "learn": [
                          0.7706305053,
                          0.6364788016
                        ]
                      },
                      {
                        "test": [
                          0.7519847019,
                          0.6806055855
                        ],
                        "passed_time": 7.759166767,
                        "iteration": 482,
                        "remaining_time": 0.2730969669,
                        "learn": [
                          0.7706594808,
                          0.6364084393
                        ]
                      },
                      {
                        "test": [
                          0.7519267544,
                          0.6806365932
                        ],
                        "passed_time": 7.784915576,
                        "iteration": 483,
                        "remaining_time": 0.257352581,
                        "learn": [
                          0.7706594808,
                          0.636305962
                        ]
                      },
                      {
                        "test": [
                          0.7519847019,
                          0.6806230496
                        ],
                        "passed_time": 7.799561026,
                        "iteration": 484,
                        "remaining_time": 0.2412235369,
                        "learn": [
                          0.7706884562,
                          0.6362640188
                        ]
                      },
                      {
                        "test": [
                          0.7519847019,
                          0.6806187617
                        ],
                        "passed_time": 7.814220766,
                        "iteration": 485,
                        "remaining_time": 0.2251010097,
                        "learn": [
                          0.7706015299,
                          0.6362172017
                        ]
                      },
                      {
                        "test": [
                          0.7520426494,
                          0.6806006615
                        ],
                        "passed_time": 7.829362808,
                        "iteration": 486,
                        "remaining_time": 0.2089973645,
                        "learn": [
                          0.7706305053,
                          0.6361114175
                        ]
                      },
                      {
                        "test": [
                          0.7521005969,
                          0.6806166064
                        ],
                        "passed_time": 7.845034835,
                        "iteration": 487,
                        "remaining_time": 0.1929106927,
                        "learn": [
                          0.7706305053,
                          0.6360142297
                        ]
                      },
                      {
                        "test": [
                          0.7519267544,
                          0.6805952968
                        ],
                        "passed_time": 7.859239502,
                        "iteration": 488,
                        "remaining_time": 0.1767927086,
                        "learn": [
                          0.7706594808,
                          0.6359437126
                        ]
                      },
                      {
                        "test": [
                          0.7516370169,
                          0.6805715699
                        ],
                        "passed_time": 7.873018815,
                        "iteration": 489,
                        "remaining_time": 0.1606738534,
                        "learn": [
                          0.7706305053,
                          0.6358714603
                        ]
                      },
                      {
                        "test": [
                          0.7515790694,
                          0.6805892789
                        ],
                        "passed_time": 7.887796064,
                        "iteration": 490,
                        "remaining_time": 0.1445828199,
                        "learn": [
                          0.770949235,
                          0.6357790331
                        ]
                      },
                      {
                        "test": [
                          0.7519267544,
                          0.6806167402
                        ],
                        "passed_time": 7.90248972,
                        "iteration": 491,
                        "remaining_time": 0.1284957678,
                        "learn": [
                          0.7709202596,
                          0.6356684344
                        ]
                      },
                      {
                        "test": [
                          0.7516370169,
                          0.6806161582
                        ],
                        "passed_time": 7.917466245,
                        "iteration": 492,
                        "remaining_time": 0.1124183848,
                        "learn": [
                          0.7709202596,
                          0.6355872017
                        ]
                      },
                      {
                        "test": [
                          0.7514052269,
                          0.680630313
                        ],
                        "passed_time": 7.932594589,
                        "iteration": 493,
                        "remaining_time": 0.0963473027,
                        "learn": [
                          0.7708912842,
                          0.6355243342
                        ]
                      },
                      {
                        "test": [
                          0.7516370169,
                          0.6806534849
                        ],
                        "passed_time": 7.947400469,
                        "iteration": 494,
                        "remaining_time": 0.08027677242,
                        "learn": [
                          0.7710941122,
                          0.6354292331
                        ]
                      },
                      {
                        "test": [
                          0.7516949644,
                          0.6806849353
                        ],
                        "passed_time": 7.962609718,
                        "iteration": 495,
                        "remaining_time": 0.0642145945,
                        "learn": [
                          0.7710651368,
                          0.6353574001
                        ]
                      },
                      {
                        "test": [
                          0.7514631744,
                          0.6807023925
                        ],
                        "passed_time": 7.977023298,
                        "iteration": 496,
                        "remaining_time": 0.04815104607,
                        "learn": [
                          0.7709782105,
                          0.6352835716
                        ]
                      },
                      {
                        "test": [
                          0.7515790694,
                          0.6807379167
                        ],
                        "passed_time": 7.992211901,
                        "iteration": 497,
                        "remaining_time": 0.03209723655,
                        "learn": [
                          0.770949235,
                          0.6351853805
                        ]
                      },
                      {
                        "test": [
                          0.7512893319,
                          0.6807259175
                        ],
                        "passed_time": 8.005446975,
                        "iteration": 498,
                        "remaining_time": 0.01604297991,
                        "learn": [
                          0.7709202596,
                          0.6351466111
                        ]
                      },
                      {
                        "test": [
                          0.7514052269,
                          0.6807002972
                        ],
                        "passed_time": 8.020839535,
                        "iteration": 499,
                        "remaining_time": 0,
                        "learn": [
                          0.7710651368,
                          0.6350171736
                        ]
                      }
                    ]
                  },
                  "total_iterations": 500,
                  "passed_iterations": 499
                },
                "path": "catboost_info/fold-1",
                "name": "fold-1"
              },
              "catboost_info/fold-0": {
                "content": {
                  "data": {
                    "meta": {
                      "name": "experiment",
                      "parameters": "",
                      "test_metrics": [
                        {
                          "best_value": "Max",
                          "name": "Accuracy"
                        },
                        {
                          "best_value": "Min",
                          "name": "MultiClass"
                        }
                      ],
                      "learn_sets": [
                        "learn"
                      ],
                      "launch_mode": "Train",
                      "learn_metrics": [
                        {
                          "best_value": "Max",
                          "name": "Accuracy"
                        },
                        {
                          "best_value": "Min",
                          "name": "MultiClass"
                        }
                      ],
                      "iteration_count": 500,
                      "test_sets": [
                        "test"
                      ]
                    },
                    "iterations": [
                      {
                        "test": [
                          0.7515790694,
                          1.018207221
                        ],
                        "passed_time": 0.01761852777,
                        "iteration": 0,
                        "remaining_time": 8.791645356,
                        "learn": [
                          0.751216968,
                          1.018163549
                        ]
                      },
                      {
                        "test": [
                          0.7529118619,
                          0.9571666215
                        ],
                        "passed_time": 0.03305943477,
                        "iteration": 1,
                        "remaining_time": 8.231799258,
                        "learn": [
                          0.751622624,
                          0.9570976361
                        ]
                      },
                      {
                        "test": [
                          0.7522744394,
                          0.9091749379
                        ],
                        "passed_time": 0.04790136418,
                        "iteration": 2,
                        "remaining_time": 7.935659333,
                        "learn": [
                          0.7512459434,
                          0.9088987359
                        ]
                      },
                      {
                        "test": [
                          0.7518688069,
                          0.8711260343
                        ],
                        "passed_time": 0.06368929598,
                        "iteration": 3,
                        "remaining_time": 7.897472702,
                        "learn": [
                          0.7513618452,
                          0.8707010443
                        ]
                      },
                      {
                        "test": [
                          0.7530277569,
                          0.8404399657
                        ],
                        "passed_time": 0.07889835855,
                        "iteration": 4,
                        "remaining_time": 7.810937497,
                        "learn": [
                          0.7519123783,
                          0.8399406722
                        ]
                      },
                      {
                        "test": [
                          0.7530277569,
                          0.8154513762
                        ],
                        "passed_time": 0.09340755168,
                        "iteration": 5,
                        "remaining_time": 7.690555088,
                        "learn": [
                          0.751825452,
                          0.814916658
                        ]
                      },
                      {
                        "test": [
                          0.7527380194,
                          0.7944984141
                        ],
                        "passed_time": 0.1082060174,
                        "iteration": 6,
                        "remaining_time": 7.620795223,
                        "learn": [
                          0.7521152063,
                          0.7940344259
                        ]
                      },
                      {
                        "test": [
                          0.7534333893,
                          0.7770825543
                        ],
                        "passed_time": 0.1227988309,
                        "iteration": 7,
                        "remaining_time": 7.552128103,
                        "learn": [
                          0.7524918869,
                          0.7764542007
                        ]
                      },
                      {
                        "test": [
                          0.7530857044,
                          0.7628162783
                        ],
                        "passed_time": 0.13767639,
                        "iteration": 8,
                        "remaining_time": 7.511011945,
                        "learn": [
                          0.752231108,
                          0.7619681617
                        ]
                      },
                      {
                        "test": [
                          0.7532595469,
                          0.7506520156
                        ],
                        "passed_time": 0.1573268384,
                        "iteration": 9,
                        "remaining_time": 7.709015079,
                        "learn": [
                          0.7522890589,
                          0.7496723259
                        ]
                      },
                      {
                        "test": [
                          0.7533754418,
                          0.740678453
                        ],
                        "passed_time": 0.1728846467,
                        "iteration": 10,
                        "remaining_time": 7.685508386,
                        "learn": [
                          0.7523759852,
                          0.739450572
                        ]
                      },
                      {
                        "test": [
                          0.7534333893,
                          0.7323328912
                        ],
                        "passed_time": 0.1881993482,
                        "iteration": 11,
                        "remaining_time": 7.653440161,
                        "learn": [
                          0.7521731572,
                          0.7310604511
                        ]
                      },
                      {
                        "test": [
                          0.7535492843,
                          0.7252123317
                        ],
                        "passed_time": 0.2031270718,
                        "iteration": 12,
                        "remaining_time": 7.609452614,
                        "learn": [
                          0.7525208623,
                          0.7238855108
                        ]
                      },
                      {
                        "test": [
                          0.7538390218,
                          0.719298044
                        ],
                        "passed_time": 0.2177560983,
                        "iteration": 13,
                        "remaining_time": 7.559247413,
                        "learn": [
                          0.7524918869,
                          0.7178453427
                        ]
                      },
                      {
                        "test": [
                          0.7537231268,
                          0.7144022839
                        ],
                        "passed_time": 0.2324162092,
                        "iteration": 14,
                        "remaining_time": 7.514790764,
                        "learn": [
                          0.7523759852,
                          0.7127669521
                        ]
                      },
                      {
                        "test": [
                          0.7541287593,
                          0.7100729499
                        ],
                        "passed_time": 0.2475831222,
                        "iteration": 15,
                        "remaining_time": 7.489389446,
                        "learn": [
                          0.7524918869,
                          0.7082933513
                        ]
                      },
                      {
                        "test": [
                          0.7543026018,
                          0.7065858437
                        ],
                        "passed_time": 0.262547436,
                        "iteration": 16,
                        "remaining_time": 7.459435976,
                        "learn": [
                          0.7525208623,
                          0.7045918102
                        ]
                      },
                      {
                        "test": [
                          0.7540708118,
                          0.7034741927
                        ],
                        "passed_time": 0.2775342615,
                        "iteration": 17,
                        "remaining_time": 7.431750779,
                        "learn": [
                          0.752636764,
                          0.7014643576
                        ]
                      },
                      {
                        "test": [
                          0.7540708118,
                          0.7007591512
                        ],
                        "passed_time": 0.2926522977,
                        "iteration": 18,
                        "remaining_time": 7.408723958,
                        "learn": [
                          0.7526077886,
                          0.6987060702
                        ]
                      },
                      {
                        "test": [
                          0.7538390218,
                          0.6984558849
                        ],
                        "passed_time": 0.3076143369,
                        "iteration": 19,
                        "remaining_time": 7.382744085,
                        "learn": [
                          0.7526657395,
                          0.696200063
                        ]
                      },
                      {
                        "test": [
                          0.7539549168,
                          0.6966220697
                        ],
                        "passed_time": 0.3230584349,
                        "iteration": 20,
                        "remaining_time": 7.368809064,
                        "learn": [
                          0.7527236903,
                          0.6942144147
                        ]
                      },
                      {
                        "test": [
                          0.7539549168,
                          0.695070413
                        ],
                        "passed_time": 0.3383167902,
                        "iteration": 21,
                        "remaining_time": 7.350701169,
                        "learn": [
                          0.7527236903,
                          0.6925369005
                        ]
                      },
                      {
                        "test": [
                          0.7538969693,
                          0.6938070798
                        ],
                        "passed_time": 0.3539903276,
                        "iteration": 22,
                        "remaining_time": 7.341451576,
                        "learn": [
                          0.7527236903,
                          0.6911427474
                        ]
                      },
                      {
                        "test": [
                          0.7538969693,
                          0.6927137563
                        ],
                        "passed_time": 0.3691037081,
                        "iteration": 23,
                        "remaining_time": 7.320556878,
                        "learn": [
                          0.752636764,
                          0.6900065345
                        ]
                      },
                      {
                        "test": [
                          0.7538969693,
                          0.6917980356
                        ],
                        "passed_time": 0.3871585292,
                        "iteration": 24,
                        "remaining_time": 7.356012055,
                        "learn": [
                          0.7525498377,
                          0.6889527556
                        ]
                      },
                      {
                        "test": [
                          0.7537810743,
                          0.6908619289
                        ],
                        "passed_time": 0.4025635261,
                        "iteration": 25,
                        "remaining_time": 7.339042744,
                        "learn": [
                          0.7527816412,
                          0.6878033811
                        ]
                      },
                      {
                        "test": [
                          0.7537231268,
                          0.6898615834
                        ],
                        "passed_time": 0.4205713596,
                        "iteration": 26,
                        "remaining_time": 7.367787151,
                        "learn": [
                          0.7528106166,
                          0.68663664
                        ]
                      },
                      {
                        "test": [
                          0.7538969693,
                          0.6890872426
                        ],
                        "passed_time": 0.4467591868,
                        "iteration": 27,
                        "remaining_time": 7.531083434,
                        "learn": [
                          0.7527236903,
                          0.6856957913
                        ]
                      },
                      {
                        "test": [
                          0.7540708118,
                          0.6885119098
                        ],
                        "passed_time": 0.4631377966,
                        "iteration": 28,
                        "remaining_time": 7.521996628,
                        "learn": [
                          0.7526657395,
                          0.6848503621
                        ]
                      },
                      {
                        "test": [
                          0.7536651793,
                          0.6881277813
                        ],
                        "passed_time": 0.477838277,
                        "iteration": 29,
                        "remaining_time": 7.486133006,
                        "learn": [
                          0.7528975429,
                          0.6843648562
                        ]
                      },
                      {
                        "test": [
                          0.7538969693,
                          0.6877104029
                        ],
                        "passed_time": 0.4930382291,
                        "iteration": 30,
                        "remaining_time": 7.459191272,
                        "learn": [
                          0.7528975429,
                          0.6837554598
                        ]
                      },
                      {
                        "test": [
                          0.7539549168,
                          0.6870876075
                        ],
                        "passed_time": 0.5085645543,
                        "iteration": 31,
                        "remaining_time": 7.437756607,
                        "learn": [
                          0.7527816412,
                          0.6831169308
                        ]
                      },
                      {
                        "test": [
                          0.7538969693,
                          0.6867200095
                        ],
                        "passed_time": 0.5275623499,
                        "iteration": 32,
                        "remaining_time": 7.465806588,
                        "learn": [
                          0.75304242,
                          0.6826357755
                        ]
                      },
                      {
                        "test": [
                          0.7540128643,
                          0.6863951751
                        ],
                        "passed_time": 0.5433579926,
                        "iteration": 33,
                        "remaining_time": 7.447200722,
                        "learn": [
                          0.7528685675,
                          0.6821605769
                        ]
                      },
                      {
                        "test": [
                          0.7541287593,
                          0.6861135197
                        ],
                        "passed_time": 0.5591072327,
                        "iteration": 34,
                        "remaining_time": 7.428138949,
                        "learn": [
                          0.7528975429,
                          0.6816852603
                        ]
                      },
                      {
                        "test": [
                          0.7541287593,
                          0.6857508906
                        ],
                        "passed_time": 0.5744363136,
                        "iteration": 35,
                        "remaining_time": 7.40384582,
                        "learn": [
                          0.7527816412,
                          0.681194758
                        ]
                      },
                      {
                        "test": [
                          0.7541867068,
                          0.685344752
                        ],
                        "passed_time": 0.589518002,
                        "iteration": 36,
                        "remaining_time": 7.376941484,
                        "learn": [
                          0.7528106166,
                          0.6806556291
                        ]
                      },
                      {
                        "test": [
                          0.7543605493,
                          0.6850001398
                        ],
                        "passed_time": 0.6051098063,
                        "iteration": 37,
                        "remaining_time": 7.356861329,
                        "learn": [
                          0.752839592,
                          0.6802342059
                        ]
                      },
                      {
                        "test": [
                          0.7543026018,
                          0.6846978083
                        ],
                        "passed_time": 0.6205146186,
                        "iteration": 38,
                        "remaining_time": 7.334801005,
                        "learn": [
                          0.7528975429,
                          0.6798334422
                        ]
                      },
                      {
                        "test": [
                          0.7544184968,
                          0.6845750298
                        ],
                        "passed_time": 0.635619581,
                        "iteration": 39,
                        "remaining_time": 7.309625181,
                        "learn": [
                          0.7529265183,
                          0.6795811737
                        ]
                      },
                      {
                        "test": [
                          0.7544184968,
                          0.684393346
                        ],
                        "passed_time": 0.6515645081,
                        "iteration": 40,
                        "remaining_time": 7.294344128,
                        "learn": [
                          0.7530134446,
                          0.6792237178
                        ]
                      },
                      {
                        "test": [
                          0.7542446543,
                          0.6842239076
                        ],
                        "passed_time": 0.6668381119,
                        "iteration": 41,
                        "remaining_time": 7.27171084,
                        "learn": [
                          0.7529265183,
                          0.6789408679
                        ]
                      },
                      {
                        "test": [
                          0.7542446543,
                          0.6842020636
                        ],
                        "passed_time": 0.6816797722,
                        "iteration": 42,
                        "remaining_time": 7.244829207,
                        "learn": [
                          0.7527816412,
                          0.678644317
                        ]
                      },
                      {
                        "test": [
                          0.7543026018,
                          0.6840634746
                        ],
                        "passed_time": 0.6967608428,
                        "iteration": 43,
                        "remaining_time": 7.220976008,
                        "learn": [
                          0.7530134446,
                          0.678361585
                        ]
                      },
                      {
                        "test": [
                          0.7544764443,
                          0.6839542006
                        ],
                        "passed_time": 0.7128342024,
                        "iteration": 44,
                        "remaining_time": 7.207545825,
                        "learn": [
                          0.7530134446,
                          0.678112299
                        ]
                      },
                      {
                        "test": [
                          0.7544764443,
                          0.6838782417
                        ],
                        "passed_time": 0.7283451051,
                        "iteration": 45,
                        "remaining_time": 7.188449515,
                        "learn": [
                          0.7530134446,
                          0.6778053473
                        ]
                      },
                      {
                        "test": [
                          0.7544184968,
                          0.6837288714
                        ],
                        "passed_time": 0.7435095379,
                        "iteration": 46,
                        "remaining_time": 7.166166398,
                        "learn": [
                          0.7529844692,
                          0.6775640086
                        ]
                      },
                      {
                        "test": [
                          0.7541867068,
                          0.6832869801
                        ],
                        "passed_time": 0.7592995585,
                        "iteration": 47,
                        "remaining_time": 7.150070842,
                        "learn": [
                          0.7529844692,
                          0.677071563
                        ]
                      },
                      {
                        "test": [
                          0.7542446543,
                          0.6830326378
                        ],
                        "passed_time": 0.775236742,
                        "iteration": 48,
                        "remaining_time": 7.135342258,
                        "learn": [
                          0.7529554937,
                          0.676664679
                        ]
                      },
                      {
                        "test": [
                          0.7542446543,
                          0.6829077525
                        ],
                        "passed_time": 0.7901402916,
                        "iteration": 49,
                        "remaining_time": 7.111262625,
                        "learn": [
                          0.7529554937,
                          0.6764064217
                        ]
                      },
                      {
                        "test": [
                          0.7541867068,
                          0.6827375662
                        ],
                        "passed_time": 0.8056867907,
                        "iteration": 50,
                        "remaining_time": 7.093203315,
                        "learn": [
                          0.7530134446,
                          0.6761333456
                        ]
                      },
                      {
                        "test": [
                          0.7542446543,
                          0.6826062231
                        ],
                        "passed_time": 0.8207341159,
                        "iteration": 51,
                        "remaining_time": 7.070940075,
                        "learn": [
                          0.7529554937,
                          0.6758885627
                        ]
                      },
                      {
                        "test": [
                          0.7543026018,
                          0.6825597226
                        ],
                        "passed_time": 0.8351542964,
                        "iteration": 52,
                        "remaining_time": 7.043659821,
                        "learn": [
                          0.7530134446,
                          0.6757542032
                        ]
                      },
                      {
                        "test": [
                          0.7544184968,
                          0.6825191401
                        ],
                        "passed_time": 0.8501912342,
                        "iteration": 53,
                        "remaining_time": 7.021949823,
                        "learn": [
                          0.7529844692,
                          0.6755827152
                        ]
                      },
                      {
                        "test": [
                          0.7543605493,
                          0.6824524544
                        ],
                        "passed_time": 0.8650471389,
                        "iteration": 54,
                        "remaining_time": 6.99901776,
                        "learn": [
                          0.7532162726,
                          0.6754083789
                        ]
                      },
                      {
                        "test": [
                          0.7543605493,
                          0.6824197294
                        ],
                        "passed_time": 0.8790069908,
                        "iteration": 55,
                        "remaining_time": 6.969269713,
                        "learn": [
                          0.753448076,
                          0.6752769209
                        ]
                      },
                      {
                        "test": [
                          0.7543605493,
                          0.6823597224
                        ],
                        "passed_time": 0.8945284903,
                        "iteration": 56,
                        "remaining_time": 6.952212653,
                        "learn": [
                          0.7533901252,
                          0.6750191547
                        ]
                      },
                      {
                        "test": [
                          0.7544764443,
                          0.682306804
                        ],
                        "passed_time": 0.9090164719,
                        "iteration": 57,
                        "remaining_time": 6.927332423,
                        "learn": [
                          0.7534191006,
                          0.6748902488
                        ]
                      },
                      {
                        "test": [
                          0.7544764443,
                          0.6821389549
                        ],
                        "passed_time": 0.9242892647,
                        "iteration": 58,
                        "remaining_time": 6.908670606,
                        "learn": [
                          0.7534770515,
                          0.6746081276
                        ]
                      },
                      {
                        "test": [
                          0.7546502868,
                          0.6819771311
                        ],
                        "passed_time": 0.9509811407,
                        "iteration": 59,
                        "remaining_time": 6.973861699,
                        "learn": [
                          0.7533901252,
                          0.6743731434
                        ]
                      },
                      {
                        "test": [
                          0.7546502868,
                          0.6818157209
                        ],
                        "passed_time": 0.9661912488,
                        "iteration": 60,
                        "remaining_time": 6.953409151,
                        "learn": [
                          0.7535350023,
                          0.6741243708
                        ]
                      },
                      {
                        "test": [
                          0.7545923393,
                          0.6817487514
                        ],
                        "passed_time": 0.9813455461,
                        "iteration": 61,
                        "remaining_time": 6.932731439,
                        "learn": [
                          0.7534770515,
                          0.673967567
                        ]
                      },
                      {
                        "test": [
                          0.7545343918,
                          0.6816707682
                        ],
                        "passed_time": 0.9995303293,
                        "iteration": 62,
                        "remaining_time": 6.933250062,
                        "learn": [
                          0.7533321743,
                          0.6737948866
                        ]
                      },
                      {
                        "test": [
                          0.7545923393,
                          0.6816232124
                        ],
                        "passed_time": 1.014922576,
                        "iteration": 63,
                        "remaining_time": 6.914160048,
                        "learn": [
                          0.7533901252,
                          0.6736291102
                        ]
                      },
                      {
                        "test": [
                          0.7543605493,
                          0.6815586068
                        ],
                        "passed_time": 1.029306222,
                        "iteration": 64,
                        "remaining_time": 6.888433945,
                        "learn": [
                          0.7534191006,
                          0.6734660343
                        ]
                      },
                      {
                        "test": [
                          0.7543605493,
                          0.6815139568
                        ],
                        "passed_time": 1.044716748,
                        "iteration": 65,
                        "remaining_time": 6.869804073,
                        "learn": [
                          0.753448076,
                          0.6733333053
                        ]
                      },
                      {
                        "test": [
                          0.7544764443,
                          0.6814827776
                        ],
                        "passed_time": 1.061030055,
                        "iteration": 66,
                        "remaining_time": 6.857104682,
                        "learn": [
                          0.753448076,
                          0.6732140342
                        ]
                      },
                      {
                        "test": [
                          0.7544764443,
                          0.6814508187
                        ],
                        "passed_time": 1.075702532,
                        "iteration": 67,
                        "remaining_time": 6.83387491,
                        "learn": [
                          0.753448076,
                          0.673102264
                        ]
                      },
                      {
                        "test": [
                          0.7544764443,
                          0.6813473377
                        ],
                        "passed_time": 1.092949981,
                        "iteration": 68,
                        "remaining_time": 6.826977416,
                        "learn": [
                          0.7533901252,
                          0.6727800413
                        ]
                      },
                      {
                        "test": [
                          0.7545343918,
                          0.6812845537
                        ],
                        "passed_time": 1.117112511,
                        "iteration": 69,
                        "remaining_time": 6.862262567,
                        "learn": [
                          0.7534191006,
                          0.6726273612
                        ]
                      },
                      {
                        "test": [
                          0.7544764443,
                          0.6812910423
                        ],
                        "passed_time": 1.132043076,
                        "iteration": 70,
                        "remaining_time": 6.84009126,
                        "learn": [
                          0.7533901252,
                          0.67252282
                        ]
                      },
                      {
                        "test": [
                          0.7543605493,
                          0.6812614928
                        ],
                        "passed_time": 1.146548495,
                        "iteration": 71,
                        "remaining_time": 6.815593831,
                        "learn": [
                          0.7535639777,
                          0.6724447544
                        ]
                      },
                      {
                        "test": [
                          0.7542446543,
                          0.6812353211
                        ],
                        "passed_time": 1.161665803,
                        "iteration": 72,
                        "remaining_time": 6.794949285,
                        "learn": [
                          0.7534770515,
                          0.6722833356
                        ]
                      },
                      {
                        "test": [
                          0.7543605493,
                          0.6812356236
                        ],
                        "passed_time": 1.176244198,
                        "iteration": 73,
                        "remaining_time": 6.771351734,
                        "learn": [
                          0.7535929532,
                          0.6722058969
                        ]
                      },
                      {
                        "test": [
                          0.7544764443,
                          0.6812292336
                        ],
                        "passed_time": 1.19098787,
                        "iteration": 74,
                        "remaining_time": 6.748931265,
                        "learn": [
                          0.7537088549,
                          0.6721168923
                        ]
                      },
                      {
                        "test": [
                          0.7543605493,
                          0.6811229073
                        ],
                        "passed_time": 1.211490267,
                        "iteration": 75,
                        "remaining_time": 6.758840435,
                        "learn": [
                          0.7536219286,
                          0.6719725688
                        ]
                      },
                      {
                        "test": [
                          0.7543026018,
                          0.6811157421
                        ],
                        "passed_time": 1.226978372,
                        "iteration": 76,
                        "remaining_time": 6.740413655,
                        "learn": [
                          0.7535929532,
                          0.6719014298
                        ]
                      },
                      {
                        "test": [
                          0.7543605493,
                          0.6810882159
                        ],
                        "passed_time": 1.242114471,
                        "iteration": 77,
                        "remaining_time": 6.72015778,
                        "learn": [
                          0.7537668057,
                          0.6717974462
                        ]
                      },
                      {
                        "test": [
                          0.7541867068,
                          0.6810746767
                        ],
                        "passed_time": 1.257647273,
                        "iteration": 78,
                        "remaining_time": 6.702145593,
                        "learn": [
                          0.7537668057,
                          0.6716579833
                        ]
                      },
                      {
                        "test": [
                          0.7542446543,
                          0.6808356527
                        ],
                        "passed_time": 1.272957943,
                        "iteration": 79,
                        "remaining_time": 6.683029199,
                        "learn": [
                          0.7535929532,
                          0.6714118528
                        ]
                      },
                      {
                        "test": [
                          0.7541287593,
                          0.6808532125
                        ],
                        "passed_time": 1.287664686,
                        "iteration": 80,
                        "remaining_time": 6.660882757,
                        "learn": [
                          0.7537378303,
                          0.6712750402
                        ]
                      },
                      {
                        "test": [
                          0.7540708118,
                          0.6807359663
                        ],
                        "passed_time": 1.303200057,
                        "iteration": 81,
                        "remaining_time": 6.643141754,
                        "learn": [
                          0.753650904,
                          0.671088426
                        ]
                      },
                      {
                        "test": [
                          0.7541287593,
                          0.6807289896
                        ],
                        "passed_time": 1.318400738,
                        "iteration": 82,
                        "remaining_time": 6.623772383,
                        "learn": [
                          0.753650904,
                          0.6709162878
                        ]
                      },
                      {
                        "test": [
                          0.7540708118,
                          0.6806878736
                        ],
                        "passed_time": 1.333157567,
                        "iteration": 83,
                        "remaining_time": 6.602304141,
                        "learn": [
                          0.7537668057,
                          0.6708302789
                        ]
                      },
                      {
                        "test": [
                          0.7540128643,
                          0.680702641
                        ],
                        "passed_time": 1.349008126,
                        "iteration": 84,
                        "remaining_time": 6.586333793,
                        "learn": [
                          0.753650904,
                          0.6706203743
                        ]
                      },
                      {
                        "test": [
                          0.7541287593,
                          0.6806995811
                        ],
                        "passed_time": 1.363344925,
                        "iteration": 85,
                        "remaining_time": 6.563079056,
                        "learn": [
                          0.7536798795,
                          0.6705756456
                        ]
                      },
                      {
                        "test": [
                          0.7543026018,
                          0.6806759904
                        ],
                        "passed_time": 1.378279295,
                        "iteration": 86,
                        "remaining_time": 6.54286608,
                        "learn": [
                          0.7539406583,
                          0.6704788449
                        ]
                      },
                      {
                        "test": [
                          0.7542446543,
                          0.6806413552
                        ],
                        "passed_time": 1.401828518,
                        "iteration": 87,
                        "remaining_time": 6.563106242,
                        "learn": [
                          0.7539696338,
                          0.6703395608
                        ]
                      },
                      {
                        "test": [
                          0.7544764443,
                          0.6805168757
                        ],
                        "passed_time": 1.417555781,
                        "iteration": 88,
                        "remaining_time": 6.546240742,
                        "learn": [
                          0.7538827075,
                          0.6701949166
                        ]
                      },
                      {
                        "test": [
                          0.7541287593,
                          0.6804824529
                        ],
                        "passed_time": 1.432500486,
                        "iteration": 89,
                        "remaining_time": 6.525835546,
                        "learn": [
                          0.7539986092,
                          0.6700635558
                        ]
                      },
                      {
                        "test": [
                          0.7542446543,
                          0.6804812827
                        ],
                        "passed_time": 1.463750025,
                        "iteration": 90,
                        "remaining_time": 6.578832531,
                        "learn": [
                          0.7539406583,
                          0.6698293531
                        ]
                      },
                      {
                        "test": [
                          0.7541867068,
                          0.6804523846
                        ],
                        "passed_time": 1.47844707,
                        "iteration": 91,
                        "remaining_time": 6.556591354,
                        "learn": [
                          0.7539696338,
                          0.6697090063
                        ]
                      },
                      {
                        "test": [
                          0.7541867068,
                          0.6804100733
                        ],
                        "passed_time": 1.493678894,
                        "iteration": 92,
                        "remaining_time": 6.536852793,
                        "learn": [
                          0.75405656,
                          0.6695762376
                        ]
                      },
                      {
                        "test": [
                          0.7541287593,
                          0.6804169493
                        ],
                        "passed_time": 1.508661513,
                        "iteration": 93,
                        "remaining_time": 6.516133767,
                        "learn": [
                          0.7539696338,
                          0.6694711781
                        ]
                      },
                      {
                        "test": [
                          0.7541287593,
                          0.6803845135
                        ],
                        "passed_time": 1.527494527,
                        "iteration": 94,
                        "remaining_time": 6.511950352,
                        "learn": [
                          0.7540275846,
                          0.6693062077
                        ]
                      },
                      {
                        "test": [
                          0.7543026018,
                          0.6803684866
                        ],
                        "passed_time": 1.542286277,
                        "iteration": 95,
                        "remaining_time": 6.490454748,
                        "learn": [
                          0.7540855355,
                          0.6692084554
                        ]
                      },
                      {
                        "test": [
                          0.7541867068,
                          0.6803912158
                        ],
                        "passed_time": 1.557918225,
                        "iteration": 96,
                        "remaining_time": 6.47258809,
                        "learn": [
                          0.7540855355,
                          0.6690678674
                        ]
                      },
                      {
                        "test": [
                          0.7543026018,
                          0.6803914802
                        ],
                        "passed_time": 1.573134527,
                        "iteration": 97,
                        "remaining_time": 6.453062038,
                        "learn": [
                          0.7541434863,
                          0.6689398239
                        ]
                      },
                      {
                        "test": [
                          0.7541867068,
                          0.6802905389
                        ],
                        "passed_time": 1.588530666,
                        "iteration": 98,
                        "remaining_time": 6.434351485,
                        "learn": [
                          0.7540855355,
                          0.6687775998
                        ]
                      },
                      {
                        "test": [
                          0.7542446543,
                          0.6803232923
                        ],
                        "passed_time": 1.602867822,
                        "iteration": 99,
                        "remaining_time": 6.411471287,
                        "learn": [
                          0.754259388,
                          0.6686835954
                        ]
                      },
                      {
                        "test": [
                          0.7542446543,
                          0.6802933368
                        ],
                        "passed_time": 1.617610303,
                        "iteration": 100,
                        "remaining_time": 6.390361495,
                        "learn": [
                          0.7544332406,
                          0.6685973409
                        ]
                      },
                      {
                        "test": [
                          0.7543026018,
                          0.6802728721
                        ],
                        "passed_time": 1.632513042,
                        "iteration": 101,
                        "remaining_time": 6.370001869,
                        "learn": [
                          0.7542883635,
                          0.6685230003
                        ]
                      },
                      {
                        "test": [
                          0.7540708118,
                          0.6802682505
                        ],
                        "passed_time": 1.647064289,
                        "iteration": 102,
                        "remaining_time": 6.348393426,
                        "learn": [
                          0.7544911915,
                          0.6683989249
                        ]
                      },
                      {
                        "test": [
                          0.7543026018,
                          0.6802599701
                        ],
                        "passed_time": 1.661704542,
                        "iteration": 103,
                        "remaining_time": 6.327259604,
                        "learn": [
                          0.754665044,
                          0.6683232264
                        ]
                      },
                      {
                        "test": [
                          0.7541867068,
                          0.680225766
                        ],
                        "passed_time": 1.676151433,
                        "iteration": 104,
                        "remaining_time": 6.305522058,
                        "learn": [
                          0.7545201669,
                          0.6681823749
                        ]
                      },
                      {
                        "test": [
                          0.7543026018,
                          0.6802011516
                        ],
                        "passed_time": 1.690081948,
                        "iteration": 105,
                        "remaining_time": 6.282002714,
                        "learn": [
                          0.7546070932,
                          0.668075964
                        ]
                      },
                      {
                        "test": [
                          0.7541287593,
                          0.680048604
                        ],
                        "passed_time": 1.709214334,
                        "iteration": 106,
                        "remaining_time": 6.277768535,
                        "learn": [
                          0.7545491423,
                          0.6678929071
                        ]
                      },
                      {
                        "test": [
                          0.7543026018,
                          0.6800455768
                        ],
                        "passed_time": 1.725168386,
                        "iteration": 107,
                        "remaining_time": 6.26172229,
                        "learn": [
                          0.754665044,
                          0.6678016699
                        ]
                      },
                      {
                        "test": [
                          0.7542446543,
                          0.6800713211
                        ],
                        "passed_time": 1.739843728,
                        "iteration": 108,
                        "remaining_time": 6.241090805,
                        "learn": [
                          0.7547519703,
                          0.6677127796
                        ]
                      },
                      {
                        "test": [
                          0.7540708118,
                          0.6800505733
                        ],
                        "passed_time": 1.754632327,
                        "iteration": 109,
                        "remaining_time": 6.22096916,
                        "learn": [
                          0.7547229949,
                          0.6676765777
                        ]
                      },
                      {
                        "test": [
                          0.7542446543,
                          0.6800649724
                        ],
                        "passed_time": 1.768781504,
                        "iteration": 110,
                        "remaining_time": 6.198702749,
                        "learn": [
                          0.7547229949,
                          0.6675713986
                        ]
                      },
                      {
                        "test": [
                          0.7540708118,
                          0.6800655353
                        ],
                        "passed_time": 1.783475673,
                        "iteration": 111,
                        "remaining_time": 6.178469295,
                        "learn": [
                          0.7550417246,
                          0.6674176916
                        ]
                      },
                      {
                        "test": [
                          0.7541287593,
                          0.6800304471
                        ],
                        "passed_time": 1.797798376,
                        "iteration": 112,
                        "remaining_time": 6.157061696,
                        "learn": [
                          0.7550127492,
                          0.6673438078
                        ]
                      },
                      {
                        "test": [
                          0.7540708118,
                          0.6800408542
                        ],
                        "passed_time": 1.812533452,
                        "iteration": 113,
                        "remaining_time": 6.13717467,
                        "learn": [
                          0.7552155772,
                          0.6672304535
                        ]
                      },
                      {
                        "test": [
                          0.7540708118,
                          0.6800213962
                        ],
                        "passed_time": 1.827264224,
                        "iteration": 114,
                        "remaining_time": 6.117362838,
                        "learn": [
                          0.7550996755,
                          0.6670836392
                        ]
                      },
                      {
                        "test": [
                          0.7540128643,
                          0.6799723224
                        ],
                        "passed_time": 1.842154944,
                        "iteration": 115,
                        "remaining_time": 6.09816809,
                        "learn": [
                          0.7549547983,
                          0.6669461899
                        ]
                      },
                      {
                        "test": [
                          0.7541287593,
                          0.6800043278
                        ],
                        "passed_time": 1.857572682,
                        "iteration": 116,
                        "remaining_time": 6.080772111,
                        "learn": [
                          0.7548968475,
                          0.6668176933
                        ]
                      },
                      {
                        "test": [
                          0.7542446543,
                          0.6800026005
                        ],
                        "passed_time": 1.871459683,
                        "iteration": 117,
                        "remaining_time": 6.058454228,
                        "learn": [
                          0.7553604543,
                          0.6666929149
                        ]
                      },
                      {
                        "test": [
                          0.7543026018,
                          0.6799496251
                        ],
                        "passed_time": 1.889585957,
                        "iteration": 118,
                        "remaining_time": 6.049850838,
                        "learn": [
                          0.7552155772,
                          0.6665096505
                        ]
                      },
                      {
                        "test": [
                          0.7542446543,
                          0.6799596896
                        ],
                        "passed_time": 1.910820201,
                        "iteration": 119,
                        "remaining_time": 6.050930636,
                        "learn": [
                          0.7551866018,
                          0.666426995
                        ]
                      },
                      {
                        "test": [
                          0.7541287593,
                          0.6799617333
                        ],
                        "passed_time": 1.925109467,
                        "iteration": 120,
                        "remaining_time": 6.029888332,
                        "learn": [
                          0.7551576263,
                          0.6663005126
                        ]
                      },
                      {
                        "test": [
                          0.7541867068,
                          0.6799675583
                        ],
                        "passed_time": 1.959136232,
                        "iteration": 121,
                        "remaining_time": 6.070110622,
                        "learn": [
                          0.7553604543,
                          0.6662365105
                        ]
                      },
                      {
                        "test": [
                          0.7541867068,
                          0.679979304
                        ],
                        "passed_time": 1.974054987,
                        "iteration": 122,
                        "remaining_time": 6.05055878,
                        "learn": [
                          0.7554473806,
                          0.66615227
                        ]
                      },
                      {
                        "test": [
                          0.7541287593,
                          0.679979964
                        ],
                        "passed_time": 1.988169297,
                        "iteration": 123,
                        "remaining_time": 6.028642384,
                        "learn": [
                          0.7556502086,
                          0.6660571053
                        ]
                      },
                      {
                        "test": [
                          0.7542446543,
                          0.6800014113
                        ],
                        "passed_time": 2.002213096,
                        "iteration": 124,
                        "remaining_time": 6.006639287,
                        "learn": [
                          0.7555632823,
                          0.6659743268
                        ]
                      },
                      {
                        "test": [
                          0.7540128643,
                          0.6799739791
                        ],
                        "passed_time": 2.01592384,
                        "iteration": 125,
                        "remaining_time": 5.983773937,
                        "learn": [
                          0.7559109875,
                          0.6658769456
                        ]
                      },
                      {
                        "test": [
                          0.7541287593,
                          0.6799324654
                        ],
                        "passed_time": 2.030362906,
                        "iteration": 126,
                        "remaining_time": 5.963191842,
                        "learn": [
                          0.7559979138,
                          0.6657822462
                        ]
                      },
                      {
                        "test": [
                          0.7542446543,
                          0.6799291314
                        ],
                        "passed_time": 2.045477842,
                        "iteration": 127,
                        "remaining_time": 5.944669979,
                        "learn": [
                          0.7559979138,
                          0.6656584715
                        ]
                      },
                      {
                        "test": [
                          0.7540128643,
                          0.6799247366
                        ],
                        "passed_time": 2.061229668,
                        "iteration": 128,
                        "remaining_time": 5.928032611,
                        "learn": [
                          0.7558530366,
                          0.6655784642
                        ]
                      },
                      {
                        "test": [
                          0.7538969693,
                          0.6799067502
                        ],
                        "passed_time": 2.075293866,
                        "iteration": 129,
                        "remaining_time": 5.906605619,
                        "learn": [
                          0.7561138155,
                          0.665484341
                        ]
                      },
                      {
                        "test": [
                          0.7538969693,
                          0.6798757692
                        ],
                        "passed_time": 2.091195087,
                        "iteration": 130,
                        "remaining_time": 5.89046555,
                        "learn": [
                          0.7561138155,
                          0.6653350444
                        ]
                      },
                      {
                        "test": [
                          0.7541287593,
                          0.6798504609
                        ],
                        "passed_time": 2.10548049,
                        "iteration": 131,
                        "remaining_time": 5.869824397,
                        "learn": [
                          0.7560848401,
                          0.6652254163
                        ]
                      },
                      {
                        "test": [
                          0.7541867068,
                          0.6798324603
                        ],
                        "passed_time": 2.120124669,
                        "iteration": 132,
                        "remaining_time": 5.850268824,
                        "learn": [
                          0.7561138155,
                          0.6651229717
                        ]
                      },
                      {
                        "test": [
                          0.7541287593,
                          0.679810038
                        ],
                        "passed_time": 2.135000839,
                        "iteration": 133,
                        "remaining_time": 5.831420201,
                        "learn": [
                          0.7560848401,
                          0.6649849935
                        ]
                      },
                      {
                        "test": [
                          0.7542446543,
                          0.6797465489
                        ],
                        "passed_time": 2.150836454,
                        "iteration": 134,
                        "remaining_time": 5.815224487,
                        "learn": [
                          0.7561717663,
                          0.6648738483
                        ]
                      },
                      {
                        "test": [
                          0.7544184968,
                          0.6797567727
                        ],
                        "passed_time": 2.165581762,
                        "iteration": 135,
                        "remaining_time": 5.796115893,
                        "learn": [
                          0.7562297172,
                          0.6647551429
                        ]
                      },
                      {
                        "test": [
                          0.7544184968,
                          0.6797536605
                        ],
                        "passed_time": 2.179727054,
                        "iteration": 136,
                        "remaining_time": 5.775481171,
                        "learn": [
                          0.7561717663,
                          0.6646701184
                        ]
                      },
                      {
                        "test": [
                          0.7543605493,
                          0.6796983075
                        ],
                        "passed_time": 2.193982538,
                        "iteration": 137,
                        "remaining_time": 5.755229556,
                        "learn": [
                          0.7562586926,
                          0.6645901563
                        ]
                      },
                      {
                        "test": [
                          0.7541287593,
                          0.6797040987
                        ],
                        "passed_time": 2.207909144,
                        "iteration": 138,
                        "remaining_time": 5.734210079,
                        "learn": [
                          0.7564035698,
                          0.6644735925
                        ]
                      },
                      {
                        "test": [
                          0.7542446543,
                          0.6796801001
                        ],
                        "passed_time": 2.221877044,
                        "iteration": 139,
                        "remaining_time": 5.713398113,
                        "learn": [
                          0.7564615206,
                          0.6644156389
                        ]
                      },
                      {
                        "test": [
                          0.7538390218,
                          0.6796863134
                        ],
                        "passed_time": 2.236687606,
                        "iteration": 140,
                        "remaining_time": 5.694828728,
                        "learn": [
                          0.7564325452,
                          0.6643144718
                        ]
                      },
                      {
                        "test": [
                          0.7541287593,
                          0.6797205332
                        ],
                        "passed_time": 2.252290886,
                        "iteration": 141,
                        "remaining_time": 5.678310825,
                        "learn": [
                          0.7564325452,
                          0.6642221009
                        ]
                      },
                      {
                        "test": [
                          0.7540708118,
                          0.6797319962
                        ],
                        "passed_time": 2.273899712,
                        "iteration": 142,
                        "remaining_time": 5.676798581,
                        "learn": [
                          0.7564615206,
                          0.6641001044
                        ]
                      },
                      {
                        "test": [
                          0.7540128643,
                          0.6797816041
                        ],
                        "passed_time": 2.289022886,
                        "iteration": 143,
                        "remaining_time": 5.658973245,
                        "learn": [
                          0.7564904961,
                          0.6639643263
                        ]
                      },
                      {
                        "test": [
                          0.7540128643,
                          0.6797713869
                        ],
                        "passed_time": 2.303401424,
                        "iteration": 144,
                        "remaining_time": 5.639362106,
                        "learn": [
                          0.7567222995,
                          0.6639078576
                        ]
                      },
                      {
                        "test": [
                          0.7539549168,
                          0.6797905735
                        ],
                        "passed_time": 2.317897813,
                        "iteration": 145,
                        "remaining_time": 5.620108397,
                        "learn": [
                          0.7567802503,
                          0.6637845832
                        ]
                      },
                      {
                        "test": [
                          0.7538969693,
                          0.6797961883
                        ],
                        "passed_time": 2.332292223,
                        "iteration": 146,
                        "remaining_time": 5.600674522,
                        "learn": [
                          0.7567512749,
                          0.6636619682
                        ]
                      },
                      {
                        "test": [
                          0.7538390218,
                          0.6798054502
                        ],
                        "passed_time": 2.346501383,
                        "iteration": 147,
                        "remaining_time": 5.580868154,
                        "learn": [
                          0.7568961521,
                          0.663609951
                        ]
                      },
                      {
                        "test": [
                          0.7538969693,
                          0.6797219867
                        ],
                        "passed_time": 2.36121627,
                        "iteration": 148,
                        "remaining_time": 5.56232826,
                        "learn": [
                          0.7568961521,
                          0.6634884296
                        ]
                      },
                      {
                        "test": [
                          0.7539549168,
                          0.679748036
                        ],
                        "passed_time": 2.37602568,
                        "iteration": 149,
                        "remaining_time": 5.544059921,
                        "learn": [
                          0.7568092258,
                          0.6633581241
                        ]
                      },
                      {
                        "test": [
                          0.7539549168,
                          0.6797736559
                        ],
                        "passed_time": 2.390795944,
                        "iteration": 150,
                        "remaining_time": 5.525746917,
                        "learn": [
                          0.7568382012,
                          0.6632683548
                        ]
                      },
                      {
                        "test": [
                          0.7540708118,
                          0.6797795734
                        ],
                        "passed_time": 2.404982563,
                        "iteration": 151,
                        "remaining_time": 5.506144289,
                        "learn": [
                          0.7570700046,
                          0.663194156
                        ]
                      },
                      {
                        "test": [
                          0.7540708118,
                          0.6798382031
                        ],
                        "passed_time": 2.419774632,
                        "iteration": 152,
                        "remaining_time": 5.487985603,
                        "learn": [
                          0.7571569309,
                          0.6630721893
                        ]
                      },
                      {
                        "test": [
                          0.7538969693,
                          0.6798077931
                        ],
                        "passed_time": 2.435176528,
                        "iteration": 153,
                        "remaining_time": 5.47124077,
                        "learn": [
                          0.7570700046,
                          0.6629390516
                        ]
                      },
                      {
                        "test": [
                          0.7538969693,
                          0.6797795147
                        ],
                        "passed_time": 2.448845769,
                        "iteration": 154,
                        "remaining_time": 5.450656712,
                        "learn": [
                          0.7572728326,
                          0.662865386
                        ]
                      },
                      {
                        "test": [
                          0.7543026018,
                          0.6798049137
                        ],
                        "passed_time": 2.478712266,
                        "iteration": 155,
                        "remaining_time": 5.465878329,
                        "learn": [
                          0.7572728326,
                          0.6626882792
                        ]
                      },
                      {
                        "test": [
                          0.7543605493,
                          0.6798221878
                        ],
                        "passed_time": 2.492476707,
                        "iteration": 156,
                        "remaining_time": 5.445347201,
                        "learn": [
                          0.7574177098,
                          0.6625954425
                        ]
                      },
                      {
                        "test": [
                          0.7544184968,
                          0.679859082
                        ],
                        "passed_time": 2.506860403,
                        "iteration": 157,
                        "remaining_time": 5.426242138,
                        "learn": [
                          0.7575046361,
                          0.6624758951
                        ]
                      },
                      {
                        "test": [
                          0.7541287593,
                          0.6798464873
                        ],
                        "passed_time": 2.521811357,
                        "iteration": 158,
                        "remaining_time": 5.408413036,
                        "learn": [
                          0.7575336115,
                          0.6623825777
                        ]
                      },
                      {
                        "test": [
                          0.7544184968,
                          0.6798655721
                        ],
                        "passed_time": 2.535816204,
                        "iteration": 159,
                        "remaining_time": 5.388609434,
                        "learn": [
                          0.7578813166,
                          0.6622674865
                        ]
                      },
                      {
                        "test": [
                          0.7544764443,
                          0.6798645481
                        ],
                        "passed_time": 2.551390612,
                        "iteration": 160,
                        "remaining_time": 5.372182717,
                        "learn": [
                          0.7577074641,
                          0.6621753996
                        ]
                      },
                      {
                        "test": [
                          0.7545343918,
                          0.6798423674
                        ],
                        "passed_time": 2.566674195,
                        "iteration": 161,
                        "remaining_time": 5.355159739,
                        "learn": [
                          0.7578813166,
                          0.662097264
                        ]
                      },
                      {
                        "test": [
                          0.7544764443,
                          0.6798411986
                        ],
                        "passed_time": 2.580143317,
                        "iteration": 162,
                        "remaining_time": 5.334406734,
                        "learn": [
                          0.7578523412,
                          0.662019826
                        ]
                      },
                      {
                        "test": [
                          0.7543026018,
                          0.6798939439
                        ],
                        "passed_time": 2.594538434,
                        "iteration": 163,
                        "remaining_time": 5.315639718,
                        "learn": [
                          0.7578523412,
                          0.6619523398
                        ]
                      },
                      {
                        "test": [
                          0.7544184968,
                          0.679932204
                        ],
                        "passed_time": 2.609737264,
                        "iteration": 164,
                        "remaining_time": 5.298557475,
                        "learn": [
                          0.7575625869,
                          0.6618332947
                        ]
                      },
                      {
                        "test": [
                          0.7543605493,
                          0.6799651263
                        ],
                        "passed_time": 2.622896675,
                        "iteration": 165,
                        "remaining_time": 5.277394514,
                        "learn": [
                          0.7574756606,
                          0.6617571371
                        ]
                      },
                      {
                        "test": [
                          0.7545343918,
                          0.6799421993
                        ],
                        "passed_time": 2.63739372,
                        "iteration": 166,
                        "remaining_time": 5.258994663,
                        "learn": [
                          0.7576205378,
                          0.6616587434
                        ]
                      },
                      {
                        "test": [
                          0.7545343918,
                          0.6799602168
                        ],
                        "passed_time": 2.652505007,
                        "iteration": 167,
                        "remaining_time": 5.241855132,
                        "learn": [
                          0.7576205378,
                          0.6615396608
                        ]
                      },
                      {
                        "test": [
                          0.7543605493,
                          0.67996
                        ],
                        "passed_time": 2.666634143,
                        "iteration": 168,
                        "remaining_time": 5.222815984,
                        "learn": [
                          0.7575625869,
                          0.6614559037
                        ]
                      },
                      {
                        "test": [
                          0.7542446543,
                          0.679988674
                        ],
                        "passed_time": 2.679725051,
                        "iteration": 169,
                        "remaining_time": 5.201819217,
                        "learn": [
                          0.7575625869,
                          0.6613768563
                        ]
                      },
                      {
                        "test": [
                          0.7544184968,
                          0.6799520207
                        ],
                        "passed_time": 2.695122919,
                        "iteration": 170,
                        "remaining_time": 5.185353453,
                        "learn": [
                          0.7577654149,
                          0.6612374632
                        ]
                      },
                      {
                        "test": [
                          0.7545343918,
                          0.6799172087
                        ],
                        "passed_time": 2.709322214,
                        "iteration": 171,
                        "remaining_time": 5.166614455,
                        "learn": [
                          0.7578233658,
                          0.6611620081
                        ]
                      },
                      {
                        "test": [
                          0.7544184968,
                          0.6799503645
                        ],
                        "passed_time": 2.724005851,
                        "iteration": 172,
                        "remaining_time": 5.14884343,
                        "learn": [
                          0.7580551692,
                          0.6610574777
                        ]
                      },
                      {
                        "test": [
                          0.7544184968,
                          0.679948526
                        ],
                        "passed_time": 2.738504921,
                        "iteration": 173,
                        "remaining_time": 5.130762093,
                        "learn": [
                          0.7581710709,
                          0.6609887261
                        ]
                      },
                      {
                        "test": [
                          0.7539549168,
                          0.6799639208
                        ],
                        "passed_time": 2.752897967,
                        "iteration": 174,
                        "remaining_time": 5.112524796,
                        "learn": [
                          0.7581710709,
                          0.6609070378
                        ]
                      },
                      {
                        "test": [
                          0.7543026018,
                          0.6799512961
                        ],
                        "passed_time": 2.767792192,
                        "iteration": 175,
                        "remaining_time": 5.095253808,
                        "learn": [
                          0.7582000464,
                          0.6608006417
                        ]
                      },
                      {
                        "test": [
                          0.7541867068,
                          0.6799672406
                        ],
                        "passed_time": 2.782601704,
                        "iteration": 176,
                        "remaining_time": 5.077855087,
                        "learn": [
                          0.7582000464,
                          0.6607278747
                        ]
                      },
                      {
                        "test": [
                          0.7540708118,
                          0.67996723
                        ],
                        "passed_time": 2.797404581,
                        "iteration": 177,
                        "remaining_time": 5.060473455,
                        "learn": [
                          0.7582579972,
                          0.6606193774
                        ]
                      },
                      {
                        "test": [
                          0.7541867068,
                          0.6799603832
                        ],
                        "passed_time": 2.811375082,
                        "iteration": 178,
                        "remaining_time": 5.041627941,
                        "learn": [
                          0.7583159481,
                          0.660520313
                        ]
                      },
                      {
                        "test": [
                          0.7544764443,
                          0.6799717649
                        ],
                        "passed_time": 2.82512377,
                        "iteration": 179,
                        "remaining_time": 5.022442258,
                        "learn": [
                          0.7582000464,
                          0.6604571313
                        ]
                      },
                      {
                        "test": [
                          0.7542446543,
                          0.6799342757
                        ],
                        "passed_time": 2.845281632,
                        "iteration": 180,
                        "remaining_time": 5.014612378,
                        "learn": [
                          0.7582290218,
                          0.6603101163
                        ]
                      },
                      {
                        "test": [
                          0.7541867068,
                          0.6799248763
                        ],
                        "passed_time": 2.859268603,
                        "iteration": 181,
                        "remaining_time": 4.995864921,
                        "learn": [
                          0.7582579972,
                          0.6602311212
                        ]
                      },
                      {
                        "test": [
                          0.7540708118,
                          0.6799226086
                        ],
                        "passed_time": 2.874345593,
                        "iteration": 182,
                        "remaining_time": 4.979057667,
                        "learn": [
                          0.7582000464,
                          0.6601148877
                        ]
                      },
                      {
                        "test": [
                          0.7540708118,
                          0.6799533135
                        ],
                        "passed_time": 2.890012985,
                        "iteration": 183,
                        "remaining_time": 4.96328317,
                        "learn": [
                          0.7582000464,
                          0.6600274493
                        ]
                      },
                      {
                        "test": [
                          0.7540708118,
                          0.6799022236
                        ],
                        "passed_time": 2.904025604,
                        "iteration": 184,
                        "remaining_time": 4.944692245,
                        "learn": [
                          0.7582869726,
                          0.6599385373
                        ]
                      },
                      {
                        "test": [
                          0.7540128643,
                          0.6798506724
                        ],
                        "passed_time": 2.920466381,
                        "iteration": 185,
                        "remaining_time": 4.930249698,
                        "learn": [
                          0.7583449235,
                          0.6598296999
                        ]
                      },
                      {
                        "test": [
                          0.7538390218,
                          0.6798529994
                        ],
                        "passed_time": 2.935850183,
                        "iteration": 186,
                        "remaining_time": 4.914016616,
                        "learn": [
                          0.7585187761,
                          0.6597462836
                        ]
                      },
                      {
                        "test": [
                          0.7536072318,
                          0.679835686
                        ],
                        "passed_time": 2.971047411,
                        "iteration": 187,
                        "remaining_time": 4.930674427,
                        "learn": [
                          0.7586346778,
                          0.6596270861
                        ]
                      },
                      {
                        "test": [
                          0.7538969693,
                          0.6798467518
                        ],
                        "passed_time": 2.985716365,
                        "iteration": 188,
                        "remaining_time": 4.913004178,
                        "learn": [
                          0.7585477515,
                          0.6595584951
                        ]
                      },
                      {
                        "test": [
                          0.7538390218,
                          0.6798285664
                        ],
                        "passed_time": 3.000291688,
                        "iteration": 189,
                        "remaining_time": 4.895212753,
                        "learn": [
                          0.7584898006,
                          0.6594410462
                        ]
                      },
                      {
                        "test": [
                          0.7538969693,
                          0.6798549308
                        ],
                        "passed_time": 3.014236417,
                        "iteration": 190,
                        "remaining_time": 4.876434832,
                        "learn": [
                          0.7585187761,
                          0.6594018641
                        ]
                      },
                      {
                        "test": [
                          0.7538969693,
                          0.6798479313
                        ],
                        "passed_time": 3.029045094,
                        "iteration": 191,
                        "remaining_time": 4.859093171,
                        "learn": [
                          0.7585767269,
                          0.6593424954
                        ]
                      },
                      {
                        "test": [
                          0.7538390218,
                          0.6798486034
                        ],
                        "passed_time": 3.043104201,
                        "iteration": 192,
                        "remaining_time": 4.840585439,
                        "learn": [
                          0.7586057024,
                          0.6592718174
                        ]
                      },
                      {
                        "test": [
                          0.7537810743,
                          0.6798629079
                        ],
                        "passed_time": 3.057574861,
                        "iteration": 193,
                        "remaining_time": 4.822772719,
                        "learn": [
                          0.7588085304,
                          0.6592115901
                        ]
                      },
                      {
                        "test": [
                          0.7536651793,
                          0.6798319874
                        ],
                        "passed_time": 3.072371969,
                        "iteration": 194,
                        "remaining_time": 4.805504875,
                        "learn": [
                          0.7586057024,
                          0.6590902722
                        ]
                      },
                      {
                        "test": [
                          0.7536072318,
                          0.6798018374
                        ],
                        "passed_time": 3.086557072,
                        "iteration": 195,
                        "remaining_time": 4.787313009,
                        "learn": [
                          0.7588664812,
                          0.6590097005
                        ]
                      },
                      {
                        "test": [
                          0.7537231268,
                          0.6798166778
                        ],
                        "passed_time": 3.101760302,
                        "iteration": 196,
                        "remaining_time": 4.770727775,
                        "learn": [
                          0.7590693092,
                          0.658836569
                        ]
                      },
                      {
                        "test": [
                          0.7538390218,
                          0.6798095743
                        ],
                        "passed_time": 3.116845403,
                        "iteration": 197,
                        "remaining_time": 4.753976321,
                        "learn": [
                          0.7592141864,
                          0.6587536587
                        ]
                      },
                      {
                        "test": [
                          0.7538390218,
                          0.6797994318
                        ],
                        "passed_time": 3.131418925,
                        "iteration": 198,
                        "remaining_time": 4.736467821,
                        "learn": [
                          0.7590693092,
                          0.6586869149
                        ]
                      },
                      {
                        "test": [
                          0.7534333893,
                          0.6798224164
                        ],
                        "passed_time": 3.146699121,
                        "iteration": 199,
                        "remaining_time": 4.720048682,
                        "learn": [
                          0.7591272601,
                          0.6585690889
                        ]
                      },
                      {
                        "test": [
                          0.7536651793,
                          0.6798172037
                        ],
                        "passed_time": 3.161573763,
                        "iteration": 200,
                        "remaining_time": 4.703037587,
                        "learn": [
                          0.7591852109,
                          0.6584693648
                        ]
                      },
                      {
                        "test": [
                          0.7537810743,
                          0.6797765549
                        ],
                        "passed_time": 3.17511772,
                        "iteration": 201,
                        "remaining_time": 4.684084557,
                        "learn": [
                          0.7591272601,
                          0.6583948599
                        ]
                      },
                      {
                        "test": [
                          0.7538969693,
                          0.6798014144
                        ],
                        "passed_time": 3.189426192,
                        "iteration": 202,
                        "remaining_time": 4.666303345,
                        "learn": [
                          0.7590982847,
                          0.6583163396
                        ]
                      },
                      {
                        "test": [
                          0.7540708118,
                          0.6798138968
                        ],
                        "passed_time": 3.205352449,
                        "iteration": 203,
                        "remaining_time": 4.650903553,
                        "learn": [
                          0.7592141864,
                          0.6581821979
                        ]
                      },
                      {
                        "test": [
                          0.7539549168,
                          0.6798678298
                        ],
                        "passed_time": 3.220712124,
                        "iteration": 204,
                        "remaining_time": 4.6346833,
                        "learn": [
                          0.7592431618,
                          0.6580689338
                        ]
                      },
                      {
                        "test": [
                          0.7534913368,
                          0.6798893507
                        ],
                        "passed_time": 3.235728926,
                        "iteration": 205,
                        "remaining_time": 4.617982059,
                        "learn": [
                          0.7594459898,
                          0.657941907
                        ]
                      },
                      {
                        "test": [
                          0.7534333893,
                          0.6799191499
                        ],
                        "passed_time": 3.250429544,
                        "iteration": 206,
                        "remaining_time": 4.600849548,
                        "learn": [
                          0.7593880389,
                          0.6578309955
                        ]
                      },
                      {
                        "test": [
                          0.7534333893,
                          0.6798915219
                        ],
                        "passed_time": 3.265192591,
                        "iteration": 207,
                        "remaining_time": 4.583828061,
                        "learn": [
                          0.7594749652,
                          0.6577339714
                        ]
                      },
                      {
                        "test": [
                          0.7534913368,
                          0.6798871909
                        ],
                        "passed_time": 3.280398914,
                        "iteration": 208,
                        "remaining_time": 4.567445378,
                        "learn": [
                          0.7594749652,
                          0.6576372276
                        ]
                      },
                      {
                        "test": [
                          0.7534913368,
                          0.6798663393
                        ],
                        "passed_time": 3.294521578,
                        "iteration": 209,
                        "remaining_time": 4.549577417,
                        "learn": [
                          0.7594459898,
                          0.6575584339
                        ]
                      },
                      {
                        "test": [
                          0.7535492843,
                          0.6798738964
                        ],
                        "passed_time": 3.309547757,
                        "iteration": 210,
                        "remaining_time": 4.532982473,
                        "learn": [
                          0.7595329161,
                          0.6574606641
                        ]
                      },
                      {
                        "test": [
                          0.7534333893,
                          0.679835882
                        ],
                        "passed_time": 3.325048785,
                        "iteration": 211,
                        "remaining_time": 4.517047407,
                        "learn": [
                          0.7596198424,
                          0.6573342039
                        ]
                      },
                      {
                        "test": [
                          0.7532595469,
                          0.6798486802
                        ],
                        "passed_time": 3.339658756,
                        "iteration": 212,
                        "remaining_time": 4.499915788,
                        "learn": [
                          0.7595039407,
                          0.6572647359
                        ]
                      },
                      {
                        "test": [
                          0.7532015994,
                          0.6798806394
                        ],
                        "passed_time": 3.362473521,
                        "iteration": 213,
                        "remaining_time": 4.493773023,
                        "learn": [
                          0.7595329161,
                          0.6571709958
                        ]
                      },
                      {
                        "test": [
                          0.7531436519,
                          0.6798228282
                        ],
                        "passed_time": 3.377286253,
                        "iteration": 214,
                        "remaining_time": 4.476867824,
                        "learn": [
                          0.7595618915,
                          0.6570446371
                        ]
                      },
                      {
                        "test": [
                          0.7533174944,
                          0.6798263168
                        ],
                        "passed_time": 3.392523868,
                        "iteration": 215,
                        "remaining_time": 4.460540642,
                        "learn": [
                          0.7595908669,
                          0.6569487303
                        ]
                      },
                      {
                        "test": [
                          0.7529118619,
                          0.6798782774
                        ],
                        "passed_time": 3.407207672,
                        "iteration": 216,
                        "remaining_time": 4.44350125,
                        "learn": [
                          0.7597067687,
                          0.6568138016
                        ]
                      },
                      {
                        "test": [
                          0.7529698094,
                          0.6798707305
                        ],
                        "passed_time": 3.421628356,
                        "iteration": 217,
                        "remaining_time": 4.426143102,
                        "learn": [
                          0.7597647195,
                          0.6567192276
                        ]
                      },
                      {
                        "test": [
                          0.7530857044,
                          0.6798966178
                        ],
                        "passed_time": 3.435077326,
                        "iteration": 218,
                        "remaining_time": 4.40756497,
                        "learn": [
                          0.7598226704,
                          0.6566706498
                        ]
                      },
                      {
                        "test": [
                          0.7532015994,
                          0.6799277047
                        ],
                        "passed_time": 3.453648373,
                        "iteration": 219,
                        "remaining_time": 4.395552475,
                        "learn": [
                          0.7598516458,
                          0.6566012152
                        ]
                      },
                      {
                        "test": [
                          0.7532595469,
                          0.6799143934
                        ],
                        "passed_time": 3.474631675,
                        "iteration": 220,
                        "remaining_time": 4.38652596,
                        "learn": [
                          0.7597936949,
                          0.6565398098
                        ]
                      },
                      {
                        "test": [
                          0.7532015994,
                          0.6799324426
                        ],
                        "passed_time": 3.493874568,
                        "iteration": 221,
                        "remaining_time": 4.375212297,
                        "learn": [
                          0.7597647195,
                          0.656457601
                        ]
                      },
                      {
                        "test": [
                          0.7532015994,
                          0.6799285534
                        ],
                        "passed_time": 3.507462786,
                        "iteration": 222,
                        "remaining_time": 4.35680355,
                        "learn": [
                          0.7598806212,
                          0.6563753492
                        ]
                      },
                      {
                        "test": [
                          0.7533754418,
                          0.6799334826
                        ],
                        "passed_time": 3.521846907,
                        "iteration": 223,
                        "remaining_time": 4.339418511,
                        "learn": [
                          0.7599675475,
                          0.6563290662
                        ]
                      },
                      {
                        "test": [
                          0.7532595469,
                          0.6798775152
                        ],
                        "passed_time": 3.537521843,
                        "iteration": 224,
                        "remaining_time": 4.323637808,
                        "learn": [
                          0.7599965229,
                          0.6562136701
                        ]
                      },
                      {
                        "test": [
                          0.7530277569,
                          0.6799155218
                        ],
                        "passed_time": 3.551384128,
                        "iteration": 225,
                        "remaining_time": 4.305660403,
                        "learn": [
                          0.7601414001,
                          0.6561214506
                        ]
                      },
                      {
                        "test": [
                          0.7530277569,
                          0.6799355695
                        ],
                        "passed_time": 3.565535248,
                        "iteration": 226,
                        "remaining_time": 4.28806662,
                        "learn": [
                          0.7604311544,
                          0.6560431384
                        ]
                      },
                      {
                        "test": [
                          0.7528539144,
                          0.6799412898
                        ],
                        "passed_time": 3.580469357,
                        "iteration": 227,
                        "remaining_time": 4.271437128,
                        "learn": [
                          0.7604311544,
                          0.6559593947
                        ]
                      },
                      {
                        "test": [
                          0.7529698094,
                          0.6799475965
                        ],
                        "passed_time": 3.594808268,
                        "iteration": 228,
                        "remaining_time": 4.254118082,
                        "learn": [
                          0.7605180807,
                          0.6559046915
                        ]
                      },
                      {
                        "test": [
                          0.7530857044,
                          0.6799558661
                        ],
                        "passed_time": 3.609442572,
                        "iteration": 229,
                        "remaining_time": 4.237171715,
                        "learn": [
                          0.7603732035,
                          0.6557945431
                        ]
                      },
                      {
                        "test": [
                          0.7530277569,
                          0.6799459132
                        ],
                        "passed_time": 3.623328299,
                        "iteration": 230,
                        "remaining_time": 4.219373647,
                        "learn": [
                          0.760807835,
                          0.6557190387
                        ]
                      },
                      {
                        "test": [
                          0.7532015994,
                          0.6799357366
                        ],
                        "passed_time": 3.637779119,
                        "iteration": 231,
                        "remaining_time": 4.202262086,
                        "learn": [
                          0.7608947612,
                          0.6556027437
                        ]
                      },
                      {
                        "test": [
                          0.7536651793,
                          0.6799307091
                        ],
                        "passed_time": 3.651812633,
                        "iteration": 232,
                        "remaining_time": 4.184695164,
                        "learn": [
                          0.7609527121,
                          0.6555135618
                        ]
                      },
                      {
                        "test": [
                          0.7536072318,
                          0.6799613693
                        ],
                        "passed_time": 3.666146563,
                        "iteration": 233,
                        "remaining_time": 4.167499939,
                        "learn": [
                          0.761010663,
                          0.6553576369
                        ]
                      },
                      {
                        "test": [
                          0.7533754418,
                          0.6799568114
                        ],
                        "passed_time": 3.681356984,
                        "iteration": 234,
                        "remaining_time": 4.15131745,
                        "learn": [
                          0.7611845155,
                          0.6552848784
                        ]
                      },
                      {
                        "test": [
                          0.7532595469,
                          0.6798801602
                        ],
                        "passed_time": 3.69689757,
                        "iteration": 235,
                        "remaining_time": 4.135512536,
                        "learn": [
                          0.7611845155,
                          0.6551547811
                        ]
                      },
                      {
                        "test": [
                          0.7533754418,
                          0.6798844898
                        ],
                        "passed_time": 3.711785465,
                        "iteration": 236,
                        "remaining_time": 4.118985558,
                        "learn": [
                          0.7611555401,
                          0.6550525552
                        ]
                      },
                      {
                        "test": [
                          0.7532595469,
                          0.6798843182
                        ],
                        "passed_time": 3.725597714,
                        "iteration": 237,
                        "remaining_time": 4.10128824,
                        "learn": [
                          0.7612424664,
                          0.6549762837
                        ]
                      },
                      {
                        "test": [
                          0.7531436519,
                          0.679902765
                        ],
                        "passed_time": 3.739969775,
                        "iteration": 238,
                        "remaining_time": 4.084234775,
                        "learn": [
                          0.7615032452,
                          0.6548839629
                        ]
                      },
                      {
                        "test": [
                          0.7532015994,
                          0.6798672553
                        ],
                        "passed_time": 3.754593153,
                        "iteration": 239,
                        "remaining_time": 4.067475916,
                        "learn": [
                          0.7615611961,
                          0.6548186791
                        ]
                      },
                      {
                        "test": [
                          0.7531436519,
                          0.6798633157
                        ],
                        "passed_time": 3.76916598,
                        "iteration": 240,
                        "remaining_time": 4.050680451,
                        "learn": [
                          0.7614742698,
                          0.6547640681
                        ]
                      },
                      {
                        "test": [
                          0.7531436519,
                          0.6798190674
                        ],
                        "passed_time": 3.783902258,
                        "iteration": 241,
                        "remaining_time": 4.034077614,
                        "learn": [
                          0.7615322207,
                          0.6546482125
                        ]
                      },
                      {
                        "test": [
                          0.7530857044,
                          0.6798125784
                        ],
                        "passed_time": 3.797714936,
                        "iteration": 242,
                        "remaining_time": 4.016513327,
                        "learn": [
                          0.7613583681,
                          0.6545669647
                        ]
                      },
                      {
                        "test": [
                          0.7530857044,
                          0.6798068498
                        ],
                        "passed_time": 3.812268155,
                        "iteration": 243,
                        "remaining_time": 3.999756753,
                        "learn": [
                          0.761416319,
                          0.6544684986
                        ]
                      },
                      {
                        "test": [
                          0.7532595469,
                          0.6797919359
                        ],
                        "passed_time": 3.826455273,
                        "iteration": 244,
                        "remaining_time": 3.982637121,
                        "learn": [
                          0.761416319,
                          0.6544175093
                        ]
                      },
                      {
                        "test": [
                          0.7532595469,
                          0.679811209
                        ],
                        "passed_time": 3.840704008,
                        "iteration": 245,
                        "remaining_time": 3.965604951,
                        "learn": [
                          0.7615032452,
                          0.6543618137
                        ]
                      },
                      {
                        "test": [
                          0.7532015994,
                          0.6797990897
                        ],
                        "passed_time": 3.855706448,
                        "iteration": 246,
                        "remaining_time": 3.949367334,
                        "learn": [
                          0.7615611961,
                          0.6542535307
                        ]
                      },
                      {
                        "test": [
                          0.7532595469,
                          0.6797903381
                        ],
                        "passed_time": 3.869967647,
                        "iteration": 247,
                        "remaining_time": 3.93238648,
                        "learn": [
                          0.7619668521,
                          0.6541487724
                        ]
                      },
                      {
                        "test": [
                          0.7537231268,
                          0.6797831753
                        ],
                        "passed_time": 3.88452141,
                        "iteration": 248,
                        "remaining_time": 3.915722385,
                        "learn": [
                          0.7621117293,
                          0.6540345982
                        ]
                      },
                      {
                        "test": [
                          0.7536651793,
                          0.6798038556
                        ],
                        "passed_time": 3.898818746,
                        "iteration": 249,
                        "remaining_time": 3.898818746,
                        "learn": [
                          0.7621407047,
                          0.653941443
                        ]
                      },
                      {
                        "test": [
                          0.7534333893,
                          0.679800549
                        ],
                        "passed_time": 3.913214794,
                        "iteration": 250,
                        "remaining_time": 3.882033799,
                        "learn": [
                          0.7621407047,
                          0.6538487951
                        ]
                      },
                      {
                        "test": [
                          0.7536651793,
                          0.6797885563
                        ],
                        "passed_time": 3.928084721,
                        "iteration": 251,
                        "remaining_time": 3.86573417,
                        "learn": [
                          0.7623145573,
                          0.6537722252
                        ]
                      },
                      {
                        "test": [
                          0.7536651793,
                          0.6797969846
                        ],
                        "passed_time": 3.941725842,
                        "iteration": 252,
                        "remaining_time": 3.848246178,
                        "learn": [
                          0.7623145573,
                          0.6537227598
                        ]
                      },
                      {
                        "test": [
                          0.7534913368,
                          0.6798097703
                        ],
                        "passed_time": 3.974899846,
                        "iteration": 253,
                        "remaining_time": 3.84970615,
                        "learn": [
                          0.7625173853,
                          0.6536598289
                        ]
                      },
                      {
                        "test": [
                          0.7536651793,
                          0.6798232157
                        ],
                        "passed_time": 3.995533531,
                        "iteration": 254,
                        "remaining_time": 3.838845941,
                        "learn": [
                          0.7624014835,
                          0.6536218897
                        ]
                      },
                      {
                        "test": [
                          0.7537810743,
                          0.6798268082
                        ],
                        "passed_time": 4.009321676,
                        "iteration": 255,
                        "remaining_time": 3.821384722,
                        "learn": [
                          0.7623725081,
                          0.653546519
                        ]
                      },
                      {
                        "test": [
                          0.7540128643,
                          0.6798291097
                        ],
                        "passed_time": 4.023266098,
                        "iteration": 256,
                        "remaining_time": 3.804099852,
                        "learn": [
                          0.7623145573,
                          0.6534794138
                        ]
                      },
                      {
                        "test": [
                          0.7536072318,
                          0.6798837739
                        ],
                        "passed_time": 4.039554162,
                        "iteration": 257,
                        "remaining_time": 3.789039176,
                        "learn": [
                          0.7623435327,
                          0.653346937
                        ]
                      },
                      {
                        "test": [
                          0.7535492843,
                          0.6799119097
                        ],
                        "passed_time": 4.05336109,
                        "iteration": 258,
                        "remaining_time": 3.771660319,
                        "learn": [
                          0.7623435327,
                          0.6532908411
                        ]
                      },
                      {
                        "test": [
                          0.7534333893,
                          0.6799301513
                        ],
                        "passed_time": 4.06799675,
                        "iteration": 259,
                        "remaining_time": 3.755073923,
                        "learn": [
                          0.762836115,
                          0.6531477976
                        ]
                      },
                      {
                        "test": [
                          0.7536072318,
                          0.6798949178
                        ],
                        "passed_time": 4.082641677,
                        "iteration": 260,
                        "remaining_time": 3.738510961,
                        "learn": [
                          0.7629520167,
                          0.6530608931
                        ]
                      },
                      {
                        "test": [
                          0.7536651793,
                          0.6799145917
                        ],
                        "passed_time": 4.096857147,
                        "iteration": 261,
                        "remaining_time": 3.721572523,
                        "learn": [
                          0.7629230413,
                          0.6529891563
                        ]
                      },
                      {
                        "test": [
                          0.7535492843,
                          0.6799581994
                        ],
                        "passed_time": 4.111555832,
                        "iteration": 262,
                        "remaining_time": 3.705090237,
                        "learn": [
                          0.7629230413,
                          0.6529135947
                        ]
                      },
                      {
                        "test": [
                          0.7534913368,
                          0.6799509504
                        ],
                        "passed_time": 4.126019603,
                        "iteration": 263,
                        "remaining_time": 3.688411463,
                        "learn": [
                          0.762836115,
                          0.6528599652
                        ]
                      },
                      {
                        "test": [
                          0.7534333893,
                          0.679976291
                        ],
                        "passed_time": 4.140287168,
                        "iteration": 264,
                        "remaining_time": 3.671575413,
                        "learn": [
                          0.763038943,
                          0.6527838499
                        ]
                      },
                      {
                        "test": [
                          0.7535492843,
                          0.6799438049
                        ],
                        "passed_time": 4.155962793,
                        "iteration": 265,
                        "remaining_time": 3.655997344,
                        "learn": [
                          0.7629809921,
                          0.6526850174
                        ]
                      },
                      {
                        "test": [
                          0.7534913368,
                          0.6799555299
                        ],
                        "passed_time": 4.170476843,
                        "iteration": 266,
                        "remaining_time": 3.639404886,
                        "learn": [
                          0.7629520167,
                          0.652619793
                        ]
                      },
                      {
                        "test": [
                          0.7534333893,
                          0.6799736914
                        ],
                        "passed_time": 4.185111864,
                        "iteration": 267,
                        "remaining_time": 3.622932659,
                        "learn": [
                          0.7630099675,
                          0.6525504717
                        ]
                      },
                      {
                        "test": [
                          0.7536072318,
                          0.679985452
                        ],
                        "passed_time": 4.199251582,
                        "iteration": 268,
                        "remaining_time": 3.606048756,
                        "learn": [
                          0.7633576727,
                          0.6524667053
                        ]
                      },
                      {
                        "test": [
                          0.7537810743,
                          0.6799795357
                        ],
                        "passed_time": 4.214053909,
                        "iteration": 269,
                        "remaining_time": 3.589749626,
                        "learn": [
                          0.7633286973,
                          0.6523775524
                        ]
                      },
                      {
                        "test": [
                          0.7537231268,
                          0.6799899604
                        ],
                        "passed_time": 4.229392284,
                        "iteration": 270,
                        "remaining_time": 3.573914513,
                        "learn": [
                          0.7633286973,
                          0.6522287491
                        ]
                      },
                      {
                        "test": [
                          0.7537810743,
                          0.6799790666
                        ],
                        "passed_time": 4.244118565,
                        "iteration": 271,
                        "remaining_time": 3.557569974,
                        "learn": [
                          0.7633286973,
                          0.6521110591
                        ]
                      },
                      {
                        "test": [
                          0.7537810743,
                          0.6799781548
                        ],
                        "passed_time": 4.25891258,
                        "iteration": 272,
                        "remaining_time": 3.54129361,
                        "learn": [
                          0.763444599,
                          0.6520452294
                        ]
                      },
                      {
                        "test": [
                          0.7538390218,
                          0.6799964441
                        ],
                        "passed_time": 4.273229016,
                        "iteration": 273,
                        "remaining_time": 3.524634152,
                        "learn": [
                          0.7635315253,
                          0.6519885014
                        ]
                      },
                      {
                        "test": [
                          0.7539549168,
                          0.6799564272
                        ],
                        "passed_time": 4.288168868,
                        "iteration": 274,
                        "remaining_time": 3.508501801,
                        "learn": [
                          0.7636764024,
                          0.6519061486
                        ]
                      },
                      {
                        "test": [
                          0.7538390218,
                          0.6799480016
                        ],
                        "passed_time": 4.303560702,
                        "iteration": 275,
                        "remaining_time": 3.492744918,
                        "learn": [
                          0.7635315253,
                          0.651830909
                        ]
                      },
                      {
                        "test": [
                          0.7538390218,
                          0.6799542457
                        ],
                        "passed_time": 4.317980038,
                        "iteration": 276,
                        "remaining_time": 3.476207756,
                        "learn": [
                          0.763647427,
                          0.6517774448
                        ]
                      },
                      {
                        "test": [
                          0.7538969693,
                          0.6799708161
                        ],
                        "passed_time": 4.333260417,
                        "iteration": 277,
                        "remaining_time": 3.460373426,
                        "learn": [
                          0.7637343533,
                          0.6516593471
                        ]
                      },
                      {
                        "test": [
                          0.7535492843,
                          0.6800152342
                        ],
                        "passed_time": 4.347617635,
                        "iteration": 278,
                        "remaining_time": 3.443811818,
                        "learn": [
                          0.7637633287,
                          0.6515776403
                        ]
                      },
                      {
                        "test": [
                          0.7536072318,
                          0.6799964446
                        ],
                        "passed_time": 4.36270516,
                        "iteration": 279,
                        "remaining_time": 3.427839769,
                        "learn": [
                          0.7636764024,
                          0.6514942319
                        ]
                      },
                      {
                        "test": [
                          0.7533754418,
                          0.6800282388
                        ],
                        "passed_time": 4.379298969,
                        "iteration": 280,
                        "remaining_time": 3.413047951,
                        "learn": [
                          0.7636764024,
                          0.6513895628
                        ]
                      },
                      {
                        "test": [
                          0.7534333893,
                          0.6800301894
                        ],
                        "passed_time": 4.393477713,
                        "iteration": 281,
                        "remaining_time": 3.396376388,
                        "learn": [
                          0.7635894761,
                          0.6513512661
                        ]
                      },
                      {
                        "test": [
                          0.7533174944,
                          0.6800719808
                        ],
                        "passed_time": 4.408002634,
                        "iteration": 282,
                        "remaining_time": 3.379987885,
                        "learn": [
                          0.7637053778,
                          0.6512755081
                        ]
                      },
                      {
                        "test": [
                          0.7531436519,
                          0.6800664178
                        ],
                        "passed_time": 4.422468015,
                        "iteration": 283,
                        "remaining_time": 3.363567223,
                        "learn": [
                          0.7637633287,
                          0.6512256847
                        ]
                      },
                      {
                        "test": [
                          0.7534913368,
                          0.6800639947
                        ],
                        "passed_time": 4.440305391,
                        "iteration": 284,
                        "remaining_time": 3.349704067,
                        "learn": [
                          0.764053083,
                          0.6511262761
                        ]
                      },
                      {
                        "test": [
                          0.7532015994,
                          0.6800618883
                        ],
                        "passed_time": 4.454933396,
                        "iteration": 285,
                        "remaining_time": 3.333411702,
                        "learn": [
                          0.7639661567,
                          0.6510579084
                        ]
                      },
                      {
                        "test": [
                          0.7533174944,
                          0.6800650531
                        ],
                        "passed_time": 4.469326175,
                        "iteration": 286,
                        "remaining_time": 3.31695636,
                        "learn": [
                          0.7639371813,
                          0.650969495
                        ]
                      },
                      {
                        "test": [
                          0.7533174944,
                          0.6800673093
                        ],
                        "passed_time": 4.492394121,
                        "iteration": 287,
                        "remaining_time": 3.306901228,
                        "learn": [
                          0.7639951321,
                          0.6508785177
                        ]
                      },
                      {
                        "test": [
                          0.7533174944,
                          0.6800528963
                        ],
                        "passed_time": 4.510155743,
                        "iteration": 288,
                        "remaining_time": 3.292881875,
                        "learn": [
                          0.764053083,
                          0.6507870213
                        ]
                      },
                      {
                        "test": [
                          0.7534333893,
                          0.6800382344
                        ],
                        "passed_time": 4.525620344,
                        "iteration": 289,
                        "remaining_time": 3.277173353,
                        "learn": [
                          0.7641400093,
                          0.6506698658
                        ]
                      },
                      {
                        "test": [
                          0.7536072318,
                          0.6800403514
                        ],
                        "passed_time": 4.540297055,
                        "iteration": 290,
                        "remaining_time": 3.260900634,
                        "learn": [
                          0.7643718127,
                          0.6505661017
                        ]
                      },
                      {
                        "test": [
                          0.7534333893,
                          0.680062874
                        ],
                        "passed_time": 4.554499242,
                        "iteration": 291,
                        "remaining_time": 3.24430083,
                        "learn": [
                          0.7644877144,
                          0.6504944378
                        ]
                      },
                      {
                        "test": [
                          0.7533174944,
                          0.6800885967
                        ],
                        "passed_time": 4.56862585,
                        "iteration": 292,
                        "remaining_time": 3.227663997,
                        "learn": [
                          0.7645166898,
                          0.6503988264
                        ]
                      },
                      {
                        "test": [
                          0.7534913368,
                          0.6800881074
                        ],
                        "passed_time": 4.582793169,
                        "iteration": 293,
                        "remaining_time": 3.211072765,
                        "learn": [
                          0.7647195178,
                          0.6503445349
                        ]
                      },
                      {
                        "test": [
                          0.7536072318,
                          0.6801041549
                        ],
                        "passed_time": 4.59637811,
                        "iteration": 294,
                        "remaining_time": 3.194093263,
                        "learn": [
                          0.7649223459,
                          0.6502808825
                        ]
                      },
                      {
                        "test": [
                          0.7537231268,
                          0.6800918911
                        ],
                        "passed_time": 4.610187757,
                        "iteration": 295,
                        "remaining_time": 3.177291562,
                        "learn": [
                          0.7648354196,
                          0.6502166881
                        ]
                      },
                      {
                        "test": [
                          0.7537231268,
                          0.6800896426
                        ],
                        "passed_time": 4.625120756,
                        "iteration": 296,
                        "remaining_time": 3.161277823,
                        "learn": [
                          0.7647774687,
                          0.6501572243
                        ]
                      },
                      {
                        "test": [
                          0.7538969693,
                          0.6801438333
                        ],
                        "passed_time": 4.639668851,
                        "iteration": 297,
                        "remaining_time": 3.14501043,
                        "learn": [
                          0.7648354196,
                          0.6500691532
                        ]
                      },
                      {
                        "test": [
                          0.7538969693,
                          0.6801418896
                        ],
                        "passed_time": 4.654110268,
                        "iteration": 298,
                        "remaining_time": 3.128682822,
                        "learn": [
                          0.7648354196,
                          0.6499833781
                        ]
                      },
                      {
                        "test": [
                          0.7538969693,
                          0.6801702877
                        ],
                        "passed_time": 4.66806593,
                        "iteration": 299,
                        "remaining_time": 3.112043953,
                        "learn": [
                          0.7650961984,
                          0.6499158692
                        ]
                      },
                      {
                        "test": [
                          0.7540128643,
                          0.680215265
                        ],
                        "passed_time": 4.684148203,
                        "iteration": 300,
                        "remaining_time": 3.096828878,
                        "learn": [
                          0.7649513213,
                          0.6498496446
                        ]
                      },
                      {
                        "test": [
                          0.7539549168,
                          0.6802262901
                        ],
                        "passed_time": 4.699377988,
                        "iteration": 301,
                        "remaining_time": 3.081049145,
                        "learn": [
                          0.7649223459,
                          0.6497174393
                        ]
                      },
                      {
                        "test": [
                          0.7541287593,
                          0.6802284437
                        ],
                        "passed_time": 4.712882059,
                        "iteration": 302,
                        "remaining_time": 3.064151042,
                        "learn": [
                          0.7651541493,
                          0.6496412859
                        ]
                      },
                      {
                        "test": [
                          0.7540128643,
                          0.6802690799
                        ],
                        "passed_time": 4.728104749,
                        "iteration": 303,
                        "remaining_time": 3.048383325,
                        "learn": [
                          0.7651831247,
                          0.6495338384
                        ]
                      },
                      {
                        "test": [
                          0.7540708118,
                          0.6802386862
                        ],
                        "passed_time": 4.742487523,
                        "iteration": 304,
                        "remaining_time": 3.032082187,
                        "learn": [
                          0.7652410756,
                          0.6494416128
                        ]
                      },
                      {
                        "test": [
                          0.7540128643,
                          0.6802392227
                        ],
                        "passed_time": 4.757042471,
                        "iteration": 305,
                        "remaining_time": 3.015902743,
                        "learn": [
                          0.7652410756,
                          0.6494002371
                        ]
                      },
                      {
                        "test": [
                          0.7541867068,
                          0.6802464833
                        ],
                        "passed_time": 4.77171267,
                        "iteration": 306,
                        "remaining_time": 2.999806336,
                        "learn": [
                          0.7651541493,
                          0.6493492505
                        ]
                      },
                      {
                        "test": [
                          0.7541287593,
                          0.6801963791
                        ],
                        "passed_time": 4.787066133,
                        "iteration": 307,
                        "remaining_time": 2.984145122,
                        "learn": [
                          0.7651831247,
                          0.6492274509
                        ]
                      },
                      {
                        "test": [
                          0.7544764443,
                          0.680174023
                        ],
                        "passed_time": 4.801503792,
                        "iteration": 308,
                        "remaining_time": 2.96791982,
                        "learn": [
                          0.765270051,
                          0.6491825976
                        ]
                      },
                      {
                        "test": [
                          0.7545923393,
                          0.6801497859
                        ],
                        "passed_time": 4.816070737,
                        "iteration": 309,
                        "remaining_time": 2.951785291,
                        "learn": [
                          0.7653280019,
                          0.6490659768
                        ]
                      },
                      {
                        "test": [
                          0.7545923393,
                          0.6801146793
                        ],
                        "passed_time": 4.830840815,
                        "iteration": 310,
                        "remaining_time": 2.93578429,
                        "learn": [
                          0.7652121001,
                          0.6489991464
                        ]
                      },
                      {
                        "test": [
                          0.7545923393,
                          0.6801439079
                        ],
                        "passed_time": 4.844424989,
                        "iteration": 311,
                        "remaining_time": 2.919076596,
                        "learn": [
                          0.7651831247,
                          0.6489452677
                        ]
                      },
                      {
                        "test": [
                          0.7544184968,
                          0.6801136158
                        ],
                        "passed_time": 4.859386502,
                        "iteration": 312,
                        "remaining_time": 2.903211744,
                        "learn": [
                          0.7651251739,
                          0.6488337631
                        ]
                      },
                      {
                        "test": [
                          0.7544764443,
                          0.6801274941
                        ],
                        "passed_time": 4.874133112,
                        "iteration": 313,
                        "remaining_time": 2.887225347,
                        "learn": [
                          0.7651541493,
                          0.6487571079
                        ]
                      },
                      {
                        "test": [
                          0.7544184968,
                          0.6801288182
                        ],
                        "passed_time": 4.888303305,
                        "iteration": 314,
                        "remaining_time": 2.87090829,
                        "learn": [
                          0.7651831247,
                          0.6486533154
                        ]
                      },
                      {
                        "test": [
                          0.7543026018,
                          0.6801756696
                        ],
                        "passed_time": 4.903209378,
                        "iteration": 315,
                        "remaining_time": 2.855033309,
                        "learn": [
                          0.7655018544,
                          0.6485245101
                        ]
                      },
                      {
                        "test": [
                          0.7541287593,
                          0.680172385
                        ],
                        "passed_time": 4.918432849,
                        "iteration": 316,
                        "remaining_time": 2.83934767,
                        "learn": [
                          0.7655887807,
                          0.6484238238
                        ]
                      },
                      {
                        "test": [
                          0.7544184968,
                          0.6801663337
                        ],
                        "passed_time": 4.935302751,
                        "iteration": 317,
                        "remaining_time": 2.824607235,
                        "learn": [
                          0.765675707,
                          0.6483648808
                        ]
                      },
                      {
                        "test": [
                          0.7544184968,
                          0.6801724418
                        ],
                        "passed_time": 4.949887807,
                        "iteration": 318,
                        "remaining_time": 2.808557031,
                        "learn": [
                          0.765675707,
                          0.6483035253
                        ]
                      },
                      {
                        "test": [
                          0.7540128643,
                          0.6801973201
                        ],
                        "passed_time": 4.979620506,
                        "iteration": 319,
                        "remaining_time": 2.801036535,
                        "learn": [
                          0.7657916087,
                          0.6482001798
                        ]
                      },
                      {
                        "test": [
                          0.7541867068,
                          0.6802140779
                        ],
                        "passed_time": 5.007844198,
                        "iteration": 320,
                        "remaining_time": 2.792536173,
                        "learn": [
                          0.765878535,
                          0.6481457691
                        ]
                      },
                      {
                        "test": [
                          0.7540128643,
                          0.6802159625
                        ],
                        "passed_time": 5.028247307,
                        "iteration": 321,
                        "remaining_time": 2.779590126,
                        "learn": [
                          0.766081363,
                          0.6480427975
                        ]
                      },
                      {
                        "test": [
                          0.7538969693,
                          0.6802535395
                        ],
                        "passed_time": 5.042347059,
                        "iteration": 322,
                        "remaining_time": 2.763143745,
                        "learn": [
                          0.7661972647,
                          0.647965976
                        ]
                      },
                      {
                        "test": [
                          0.7536651793,
                          0.6802691016
                        ],
                        "passed_time": 5.056426833,
                        "iteration": 323,
                        "remaining_time": 2.746700996,
                        "learn": [
                          0.7661393139,
                          0.6478972161
                        ]
                      },
                      {
                        "test": [
                          0.7536072318,
                          0.68027435
                        ],
                        "passed_time": 5.071311731,
                        "iteration": 324,
                        "remaining_time": 2.730706317,
                        "learn": [
                          0.7661972647,
                          0.6477870453
                        ]
                      },
                      {
                        "test": [
                          0.7536651793,
                          0.6802448718
                        ],
                        "passed_time": 5.085675572,
                        "iteration": 325,
                        "remaining_time": 2.714440336,
                        "learn": [
                          0.766081363,
                          0.6477220718
                        ]
                      },
                      {
                        "test": [
                          0.7536651793,
                          0.6802793373
                        ],
                        "passed_time": 5.100272134,
                        "iteration": 326,
                        "remaining_time": 2.698309111,
                        "learn": [
                          0.7662262401,
                          0.6476322885
                        ]
                      },
                      {
                        "test": [
                          0.7533754418,
                          0.6802508923
                        ],
                        "passed_time": 5.115527679,
                        "iteration": 327,
                        "remaining_time": 2.682532807,
                        "learn": [
                          0.7664000927,
                          0.6475430743
                        ]
                      },
                      {
                        "test": [
                          0.7531436519,
                          0.6802719018
                        ],
                        "passed_time": 5.129502495,
                        "iteration": 328,
                        "remaining_time": 2.666094002,
                        "learn": [
                          0.7664000927,
                          0.6474924213
                        ]
                      },
                      {
                        "test": [
                          0.7533754418,
                          0.6802966474
                        ],
                        "passed_time": 5.144627079,
                        "iteration": 329,
                        "remaining_time": 2.650262435,
                        "learn": [
                          0.7663711173,
                          0.6474057422
                        ]
                      },
                      {
                        "test": [
                          0.7534333893,
                          0.680269756
                        ],
                        "passed_time": 5.158917766,
                        "iteration": 330,
                        "remaining_time": 2.634009373,
                        "learn": [
                          0.7664290682,
                          0.6473287268
                        ]
                      },
                      {
                        "test": [
                          0.7533754418,
                          0.6802870188
                        ],
                        "passed_time": 5.174288417,
                        "iteration": 331,
                        "remaining_time": 2.618314621,
                        "learn": [
                          0.7664000927,
                          0.6471952754
                        ]
                      },
                      {
                        "test": [
                          0.7534333893,
                          0.6802575625
                        ],
                        "passed_time": 5.189333167,
                        "iteration": 332,
                        "remaining_time": 2.602458375,
                        "learn": [
                          0.7664000927,
                          0.647040744
                        ]
                      },
                      {
                        "test": [
                          0.7534333893,
                          0.6802785057
                        ],
                        "passed_time": 5.202491628,
                        "iteration": 333,
                        "remaining_time": 2.585669492,
                        "learn": [
                          0.7665449699,
                          0.6469847233
                        ]
                      },
                      {
                        "test": [
                          0.7534913368,
                          0.6802636229
                        ],
                        "passed_time": 5.217749883,
                        "iteration": 334,
                        "remaining_time": 2.56993651,
                        "learn": [
                          0.7665449699,
                          0.6468941232
                        ]
                      },
                      {
                        "test": [
                          0.7534913368,
                          0.6802587614
                        ],
                        "passed_time": 5.231998994,
                        "iteration": 335,
                        "remaining_time": 2.553713795,
                        "learn": [
                          0.7666318962,
                          0.6468308193
                        ]
                      },
                      {
                        "test": [
                          0.7535492843,
                          0.6802769927
                        ],
                        "passed_time": 5.246472607,
                        "iteration": 336,
                        "remaining_time": 2.53761138,
                        "learn": [
                          0.766487019,
                          0.6467489225
                        ]
                      },
                      {
                        "test": [
                          0.7534913368,
                          0.6802940968
                        ],
                        "passed_time": 5.261871367,
                        "iteration": 337,
                        "remaining_time": 2.521962016,
                        "learn": [
                          0.766689847,
                          0.6466271285
                        ]
                      },
                      {
                        "test": [
                          0.7534333893,
                          0.6803045854
                        ],
                        "passed_time": 5.277133667,
                        "iteration": 338,
                        "remaining_time": 2.506249323,
                        "learn": [
                          0.766689847,
                          0.6465513783
                        ]
                      },
                      {
                        "test": [
                          0.7534913368,
                          0.6802911538
                        ],
                        "passed_time": 5.290891511,
                        "iteration": 339,
                        "remaining_time": 2.489831299,
                        "learn": [
                          0.7666029207,
                          0.6465074576
                        ]
                      },
                      {
                        "test": [
                          0.7534333893,
                          0.6802891994
                        ],
                        "passed_time": 5.304962112,
                        "iteration": 340,
                        "remaining_time": 2.473574709,
                        "learn": [
                          0.7667188224,
                          0.6464691084
                        ]
                      },
                      {
                        "test": [
                          0.7537231268,
                          0.6802727329
                        ],
                        "passed_time": 5.319732597,
                        "iteration": 341,
                        "remaining_time": 2.457654241,
                        "learn": [
                          0.7667767733,
                          0.646413582
                        ]
                      },
                      {
                        "test": [
                          0.7534913368,
                          0.6802624955
                        ],
                        "passed_time": 5.334357602,
                        "iteration": 342,
                        "remaining_time": 2.441673888,
                        "learn": [
                          0.766892675,
                          0.6463421922
                        ]
                      },
                      {
                        "test": [
                          0.7534913368,
                          0.6802699321
                        ],
                        "passed_time": 5.349283085,
                        "iteration": 343,
                        "remaining_time": 2.425837678,
                        "learn": [
                          0.7669216504,
                          0.6462801164
                        ]
                      },
                      {
                        "test": [
                          0.7536072318,
                          0.6802715942
                        ],
                        "passed_time": 5.363858738,
                        "iteration": 344,
                        "remaining_time": 2.409849578,
                        "learn": [
                          0.7668636996,
                          0.6462075896
                        ]
                      },
                      {
                        "test": [
                          0.7534913368,
                          0.6803085866
                        ],
                        "passed_time": 5.381345059,
                        "iteration": 345,
                        "remaining_time": 2.395165142,
                        "learn": [
                          0.7669216504,
                          0.6461375191
                        ]
                      },
                      {
                        "test": [
                          0.7531436519,
                          0.6803302896
                        ],
                        "passed_time": 5.395884299,
                        "iteration": 346,
                        "remaining_time": 2.379165123,
                        "learn": [
                          0.7669796013,
                          0.6460750083
                        ]
                      },
                      {
                        "test": [
                          0.7532015994,
                          0.6803187922
                        ],
                        "passed_time": 5.409458939,
                        "iteration": 347,
                        "remaining_time": 2.36275218,
                        "learn": [
                          0.7668347242,
                          0.6460050678
                        ]
                      },
                      {
                        "test": [
                          0.7532015994,
                          0.6803096958
                        ],
                        "passed_time": 5.423731546,
                        "iteration": 348,
                        "remaining_time": 2.346657488,
                        "learn": [
                          0.7669506259,
                          0.6459197954
                        ]
                      },
                      {
                        "test": [
                          0.7532015994,
                          0.6803057462
                        ],
                        "passed_time": 5.437403153,
                        "iteration": 349,
                        "remaining_time": 2.330315637,
                        "learn": [
                          0.7670085767,
                          0.6458722704
                        ]
                      },
                      {
                        "test": [
                          0.7532595469,
                          0.6803345815
                        ],
                        "passed_time": 5.455347626,
                        "iteration": 350,
                        "remaining_time": 2.315802839,
                        "learn": [
                          0.7670085767,
                          0.6457652921
                        ]
                      },
                      {
                        "test": [
                          0.7532595469,
                          0.6803890828
                        ],
                        "passed_time": 5.468892148,
                        "iteration": 351,
                        "remaining_time": 2.299420562,
                        "learn": [
                          0.7669796013,
                          0.6456885845
                        ]
                      },
                      {
                        "test": [
                          0.7532595469,
                          0.6804143811
                        ],
                        "passed_time": 5.502968458,
                        "iteration": 352,
                        "remaining_time": 2.291604429,
                        "learn": [
                          0.7670375522,
                          0.6456357518
                        ]
                      },
                      {
                        "test": [
                          0.7532015994,
                          0.6803908155
                        ],
                        "passed_time": 5.520857713,
                        "iteration": 353,
                        "remaining_time": 2.276963916,
                        "learn": [
                          0.7672114047,
                          0.6455872129
                        ]
                      },
                      {
                        "test": [
                          0.7533174944,
                          0.6803803068
                        ],
                        "passed_time": 5.535677656,
                        "iteration": 354,
                        "remaining_time": 2.261051437,
                        "learn": [
                          0.7671244784,
                          0.6455245942
                        ]
                      },
                      {
                        "test": [
                          0.7528539144,
                          0.680432631
                        ],
                        "passed_time": 5.550457702,
                        "iteration": 355,
                        "remaining_time": 2.245128958,
                        "learn": [
                          0.7669796013,
                          0.6454201338
                        ]
                      },
                      {
                        "test": [
                          0.7529698094,
                          0.6804057032
                        ],
                        "passed_time": 5.565662844,
                        "iteration": 356,
                        "remaining_time": 2.229383156,
                        "learn": [
                          0.7670085767,
                          0.6453049367
                        ]
                      },
                      {
                        "test": [
                          0.7529698094,
                          0.6804207133
                        ],
                        "passed_time": 5.579582353,
                        "iteration": 357,
                        "remaining_time": 2.21313043,
                        "learn": [
                          0.7672403802,
                          0.6452349979
                        ]
                      },
                      {
                        "test": [
                          0.7528539144,
                          0.6804727583
                        ],
                        "passed_time": 5.594326121,
                        "iteration": 358,
                        "remaining_time": 2.197214437,
                        "learn": [
                          0.7672114047,
                          0.6451144466
                        ]
                      },
                      {
                        "test": [
                          0.7527959669,
                          0.6804738448
                        ],
                        "passed_time": 5.608515278,
                        "iteration": 359,
                        "remaining_time": 2.181089275,
                        "learn": [
                          0.7672403802,
                          0.6450371309
                        ]
                      },
                      {
                        "test": [
                          0.7529698094,
                          0.6804891641
                        ],
                        "passed_time": 5.623190044,
                        "iteration": 360,
                        "remaining_time": 2.165161818,
                        "learn": [
                          0.7673273064,
                          0.6449617645
                        ]
                      },
                      {
                        "test": [
                          0.7530277569,
                          0.6804422316
                        ],
                        "passed_time": 5.637971801,
                        "iteration": 361,
                        "remaining_time": 2.149282068,
                        "learn": [
                          0.7672693556,
                          0.6448761707
                        ]
                      },
                      {
                        "test": [
                          0.7529698094,
                          0.6804291744
                        ],
                        "passed_time": 5.652143443,
                        "iteration": 362,
                        "remaining_time": 2.133178104,
                        "learn": [
                          0.7673852573,
                          0.6448019563
                        ]
                      },
                      {
                        "test": [
                          0.7530277569,
                          0.6804197351
                        ],
                        "passed_time": 5.666798789,
                        "iteration": 363,
                        "remaining_time": 2.117265482,
                        "learn": [
                          0.767501159,
                          0.6447317716
                        ]
                      },
                      {
                        "test": [
                          0.7529698094,
                          0.68046646
                        ],
                        "passed_time": 5.681821319,
                        "iteration": 364,
                        "remaining_time": 2.101495556,
                        "learn": [
                          0.7673852573,
                          0.6446481137
                        ]
                      },
                      {
                        "test": [
                          0.7530857044,
                          0.6804559353
                        ],
                        "passed_time": 5.695995931,
                        "iteration": 365,
                        "remaining_time": 2.085419275,
                        "learn": [
                          0.767703987,
                          0.6445882647
                        ]
                      },
                      {
                        "test": [
                          0.7528539144,
                          0.6804586795
                        ],
                        "passed_time": 5.709372522,
                        "iteration": 366,
                        "remaining_time": 2.069064156,
                        "learn": [
                          0.7679937413,
                          0.6445175384
                        ]
                      },
                      {
                        "test": [
                          0.7529118619,
                          0.6804690873
                        ],
                        "passed_time": 5.723325403,
                        "iteration": 367,
                        "remaining_time": 2.052931938,
                        "learn": [
                          0.7678488642,
                          0.6444212191
                        ]
                      },
                      {
                        "test": [
                          0.7529118619,
                          0.6804791222
                        ],
                        "passed_time": 5.737394846,
                        "iteration": 368,
                        "remaining_time": 2.036852913,
                        "learn": [
                          0.7678778396,
                          0.64435731
                        ]
                      },
                      {
                        "test": [
                          0.7529118619,
                          0.6804521455
                        ],
                        "passed_time": 5.750890157,
                        "iteration": 369,
                        "remaining_time": 2.020583028,
                        "learn": [
                          0.7677619379,
                          0.644292377
                        ]
                      },
                      {
                        "test": [
                          0.7530857044,
                          0.6804557975
                        ],
                        "passed_time": 5.764859431,
                        "iteration": 370,
                        "remaining_time": 2.004492902,
                        "learn": [
                          0.7676750116,
                          0.64424158
                        ]
                      },
                      {
                        "test": [
                          0.7528539144,
                          0.680481036
                        ],
                        "passed_time": 5.778438449,
                        "iteration": 371,
                        "remaining_time": 1.988279896,
                        "learn": [
                          0.7676750116,
                          0.6441961105
                        ]
                      },
                      {
                        "test": [
                          0.7530277569,
                          0.6804791013
                        ],
                        "passed_time": 5.792977999,
                        "iteration": 372,
                        "remaining_time": 1.972408059,
                        "learn": [
                          0.7676750116,
                          0.6440872213
                        ]
                      },
                      {
                        "test": [
                          0.7530277569,
                          0.6805628232
                        ],
                        "passed_time": 5.807505562,
                        "iteration": 373,
                        "remaining_time": 1.956539307,
                        "learn": [
                          0.7679937413,
                          0.6439440084
                        ]
                      },
                      {
                        "test": [
                          0.7529698094,
                          0.6805307919
                        ],
                        "passed_time": 5.821486774,
                        "iteration": 374,
                        "remaining_time": 1.940495591,
                        "learn": [
                          0.7679937413,
                          0.6438748594
                        ]
                      },
                      {
                        "test": [
                          0.7529698094,
                          0.6805347911
                        ],
                        "passed_time": 5.835501444,
                        "iteration": 375,
                        "remaining_time": 1.924473881,
                        "learn": [
                          0.7679357904,
                          0.6438217698
                        ]
                      },
                      {
                        "test": [
                          0.7530857044,
                          0.680499524
                        ],
                        "passed_time": 5.849347997,
                        "iteration": 376,
                        "remaining_time": 1.908407967,
                        "learn": [
                          0.768109643,
                          0.6437809821
                        ]
                      },
                      {
                        "test": [
                          0.7531436519,
                          0.6805037488
                        ],
                        "passed_time": 5.863215927,
                        "iteration": 377,
                        "remaining_time": 1.892360696,
                        "learn": [
                          0.7683704219,
                          0.6437069479
                        ]
                      },
                      {
                        "test": [
                          0.7527959669,
                          0.6805046574
                        ],
                        "passed_time": 5.877773664,
                        "iteration": 378,
                        "remaining_time": 1.876545154,
                        "learn": [
                          0.7681675939,
                          0.6436297808
                        ]
                      },
                      {
                        "test": [
                          0.7525641769,
                          0.6805217472
                        ],
                        "passed_time": 5.891811494,
                        "iteration": 379,
                        "remaining_time": 1.860572051,
                        "learn": [
                          0.7681965693,
                          0.6435939627
                        ]
                      },
                      {
                        "test": [
                          0.7527959669,
                          0.6805273338
                        ],
                        "passed_time": 5.905619201,
                        "iteration": 380,
                        "remaining_time": 1.844537231,
                        "learn": [
                          0.7681675939,
                          0.6435382938
                        ]
                      },
                      {
                        "test": [
                          0.7525641769,
                          0.6805159183
                        ],
                        "passed_time": 5.919569141,
                        "iteration": 381,
                        "remaining_time": 1.828558007,
                        "learn": [
                          0.768109643,
                          0.6434596202
                        ]
                      },
                      {
                        "test": [
                          0.7526221244,
                          0.6805448472
                        ],
                        "passed_time": 5.933669672,
                        "iteration": 382,
                        "remaining_time": 1.812635383,
                        "learn": [
                          0.7683704219,
                          0.6433942347
                        ]
                      },
                      {
                        "test": [
                          0.7527380194,
                          0.6806017362
                        ],
                        "passed_time": 5.948701004,
                        "iteration": 383,
                        "remaining_time": 1.797003428,
                        "learn": [
                          0.7683704219,
                          0.643323501
                        ]
                      },
                      {
                        "test": [
                          0.7526221244,
                          0.6805915028
                        ],
                        "passed_time": 5.962169549,
                        "iteration": 384,
                        "remaining_time": 1.780907787,
                        "learn": [
                          0.7683704219,
                          0.6432864383
                        ]
                      },
                      {
                        "test": [
                          0.7526800719,
                          0.6805976994
                        ],
                        "passed_time": 6.013217974,
                        "iteration": 385,
                        "remaining_time": 1.775924479,
                        "learn": [
                          0.7683704219,
                          0.643200341
                        ]
                      },
                      {
                        "test": [
                          0.7527959669,
                          0.6806021941
                        ],
                        "passed_time": 6.036335914,
                        "iteration": 386,
                        "remaining_time": 1.762547696,
                        "learn": [
                          0.7684863236,
                          0.6431624134
                        ]
                      },
                      {
                        "test": [
                          0.7527959669,
                          0.6805810245
                        ],
                        "passed_time": 6.051208172,
                        "iteration": 387,
                        "remaining_time": 1.746740503,
                        "learn": [
                          0.7684573482,
                          0.6431115681
                        ]
                      },
                      {
                        "test": [
                          0.7528539144,
                          0.6805503493
                        ],
                        "passed_time": 6.06568278,
                        "iteration": 388,
                        "remaining_time": 1.730824649,
                        "learn": [
                          0.7685442745,
                          0.6430381053
                        ]
                      },
                      {
                        "test": [
                          0.7527380194,
                          0.680581739
                        ],
                        "passed_time": 6.079586944,
                        "iteration": 389,
                        "remaining_time": 1.714755292,
                        "learn": [
                          0.7684863236,
                          0.6429782587
                        ]
                      },
                      {
                        "test": [
                          0.7529698094,
                          0.6805733709
                        ],
                        "passed_time": 6.093456222,
                        "iteration": 390,
                        "remaining_time": 1.698687284,
                        "learn": [
                          0.7686891516,
                          0.642901547
                        ]
                      },
                      {
                        "test": [
                          0.7529118619,
                          0.6805687783
                        ],
                        "passed_time": 6.108418631,
                        "iteration": 391,
                        "remaining_time": 1.682931664,
                        "learn": [
                          0.7687760779,
                          0.642789964
                        ]
                      },
                      {
                        "test": [
                          0.7530277569,
                          0.6805632287
                        ],
                        "passed_time": 6.124179398,
                        "iteration": 392,
                        "remaining_time": 1.667397444,
                        "learn": [
                          0.7688919796,
                          0.6427502701
                        ]
                      },
                      {
                        "test": [
                          0.7531436519,
                          0.6805232718
                        ],
                        "passed_time": 6.138328613,
                        "iteration": 393,
                        "remaining_time": 1.65142851,
                        "learn": [
                          0.7688919796,
                          0.6426667317
                        ]
                      },
                      {
                        "test": [
                          0.7531436519,
                          0.6805059807
                        ],
                        "passed_time": 6.153524067,
                        "iteration": 394,
                        "remaining_time": 1.635746904,
                        "learn": [
                          0.768920955,
                          0.6425360882
                        ]
                      },
                      {
                        "test": [
                          0.7530857044,
                          0.6805225634
                        ],
                        "passed_time": 6.169729704,
                        "iteration": 395,
                        "remaining_time": 1.620333053,
                        "learn": [
                          0.768920955,
                          0.6424347901
                        ]
                      },
                      {
                        "test": [
                          0.7530857044,
                          0.680551758
                        ],
                        "passed_time": 6.184815186,
                        "iteration": 396,
                        "remaining_time": 1.604624595,
                        "learn": [
                          0.7689499305,
                          0.6423748836
                        ]
                      },
                      {
                        "test": [
                          0.7533754418,
                          0.6805393717
                        ],
                        "passed_time": 6.198797088,
                        "iteration": 397,
                        "remaining_time": 1.58863644,
                        "learn": [
                          0.7688340287,
                          0.6423047107
                        ]
                      },
                      {
                        "test": [
                          0.7534333893,
                          0.6805265298
                        ],
                        "passed_time": 6.213096576,
                        "iteration": 398,
                        "remaining_time": 1.572738732,
                        "learn": [
                          0.7690078813,
                          0.6421889071
                        ]
                      },
                      {
                        "test": [
                          0.7534333893,
                          0.6805102124
                        ],
                        "passed_time": 6.227408901,
                        "iteration": 399,
                        "remaining_time": 1.556852225,
                        "learn": [
                          0.7690368567,
                          0.6421234744
                        ]
                      },
                      {
                        "test": [
                          0.7532595469,
                          0.680504145
                        ],
                        "passed_time": 6.241248248,
                        "iteration": 400,
                        "remaining_time": 1.540856799,
                        "learn": [
                          0.7690658322,
                          0.6420670851
                        ]
                      },
                      {
                        "test": [
                          0.7532595469,
                          0.6804829247
                        ],
                        "passed_time": 6.256067368,
                        "iteration": 401,
                        "remaining_time": 1.52511095,
                        "learn": [
                          0.7690368567,
                          0.642011362
                        ]
                      },
                      {
                        "test": [
                          0.7532595469,
                          0.6804554327
                        ],
                        "passed_time": 6.270736514,
                        "iteration": 402,
                        "remaining_time": 1.509333603,
                        "learn": [
                          0.7690658322,
                          0.6419291842
                        ]
                      },
                      {
                        "test": [
                          0.7533754418,
                          0.6804405226
                        ],
                        "passed_time": 6.285641106,
                        "iteration": 403,
                        "remaining_time": 1.493617688,
                        "learn": [
                          0.768920955,
                          0.6418828604
                        ]
                      },
                      {
                        "test": [
                          0.7531436519,
                          0.6804247792
                        ],
                        "passed_time": 6.300199077,
                        "iteration": 404,
                        "remaining_time": 1.477824475,
                        "learn": [
                          0.7688919796,
                          0.6418298936
                        ]
                      },
                      {
                        "test": [
                          0.7530277569,
                          0.680449661
                        ],
                        "passed_time": 6.314645039,
                        "iteration": 405,
                        "remaining_time": 1.462011413,
                        "learn": [
                          0.7691817339,
                          0.6417595716
                        ]
                      },
                      {
                        "test": [
                          0.7529118619,
                          0.6804709995
                        ],
                        "passed_time": 6.329326413,
                        "iteration": 406,
                        "remaining_time": 1.446258861,
                        "learn": [
                          0.769123783,
                          0.6416982207
                        ]
                      },
                      {
                        "test": [
                          0.7529118619,
                          0.6804489933
                        ],
                        "passed_time": 6.343328239,
                        "iteration": 407,
                        "remaining_time": 1.430358328,
                        "learn": [
                          0.7692686602,
                          0.6416472657
                        ]
                      },
                      {
                        "test": [
                          0.7529698094,
                          0.6804780837
                        ],
                        "passed_time": 6.357628928,
                        "iteration": 408,
                        "remaining_time": 1.414533576,
                        "learn": [
                          0.7692976356,
                          0.6415606693
                        ]
                      },
                      {
                        "test": [
                          0.7530277569,
                          0.68048106
                        ],
                        "passed_time": 6.374745789,
                        "iteration": 409,
                        "remaining_time": 1.399334441,
                        "learn": [
                          0.769326611,
                          0.6414655513
                        ]
                      },
                      {
                        "test": [
                          0.7531436519,
                          0.6804724754
                        ],
                        "passed_time": 6.389095329,
                        "iteration": 410,
                        "remaining_time": 1.383526726,
                        "learn": [
                          0.7694425127,
                          0.6413826207
                        ]
                      },
                      {
                        "test": [
                          0.7531436519,
                          0.680489201
                        ],
                        "passed_time": 6.404021789,
                        "iteration": 411,
                        "remaining_time": 1.367849314,
                        "learn": [
                          0.7695004636,
                          0.6413178124
                        ]
                      },
                      {
                        "test": [
                          0.7532015994,
                          0.6804962517
                        ],
                        "passed_time": 6.418250935,
                        "iteration": 412,
                        "remaining_time": 1.352028647,
                        "learn": [
                          0.7694425127,
                          0.6412606532
                        ]
                      },
                      {
                        "test": [
                          0.7530857044,
                          0.6804946786
                        ],
                        "passed_time": 6.433803733,
                        "iteration": 413,
                        "remaining_time": 1.33649063,
                        "learn": [
                          0.7693555865,
                          0.6412096683
                        ]
                      },
                      {
                        "test": [
                          0.7532595469,
                          0.6804565658
                        ],
                        "passed_time": 6.447985641,
                        "iteration": 414,
                        "remaining_time": 1.320671758,
                        "learn": [
                          0.7694135373,
                          0.6411656065
                        ]
                      },
                      {
                        "test": [
                          0.7532015994,
                          0.6804717157
                        ],
                        "passed_time": 6.463180254,
                        "iteration": 415,
                        "remaining_time": 1.305065244,
                        "learn": [
                          0.7694714882,
                          0.6410904109
                        ]
                      },
                      {
                        "test": [
                          0.7530857044,
                          0.6804727823
                        ],
                        "passed_time": 6.478421411,
                        "iteration": 416,
                        "remaining_time": 1.289469969,
                        "learn": [
                          0.7694714882,
                          0.6410571845
                        ]
                      },
                      {
                        "test": [
                          0.7530857044,
                          0.6804861579
                        ],
                        "passed_time": 6.49229895,
                        "iteration": 417,
                        "remaining_time": 1.273608885,
                        "learn": [
                          0.769529439,
                          0.6410055882
                        ]
                      },
                      {
                        "test": [
                          0.7530857044,
                          0.6804941738
                        ],
                        "passed_time": 6.515581976,
                        "iteration": 418,
                        "remaining_time": 1.259575513,
                        "learn": [
                          0.7695584145,
                          0.6409310943
                        ]
                      },
                      {
                        "test": [
                          0.7530277569,
                          0.6805300592
                        ],
                        "passed_time": 6.532675304,
                        "iteration": 419,
                        "remaining_time": 1.244319106,
                        "learn": [
                          0.7694135373,
                          0.6408501293
                        ]
                      },
                      {
                        "test": [
                          0.7530277569,
                          0.680542819
                        ],
                        "passed_time": 6.547705475,
                        "iteration": 420,
                        "remaining_time": 1.228666823,
                        "learn": [
                          0.7695873899,
                          0.6407625817
                        ]
                      },
                      {
                        "test": [
                          0.7529698094,
                          0.6805586709
                        ],
                        "passed_time": 6.561321448,
                        "iteration": 421,
                        "remaining_time": 1.212756097,
                        "learn": [
                          0.769529439,
                          0.6407173504
                        ]
                      },
                      {
                        "test": [
                          0.7530277569,
                          0.6805342792
                        ],
                        "passed_time": 6.576110967,
                        "iteration": 422,
                        "remaining_time": 1.197069845,
                        "learn": [
                          0.7696163653,
                          0.6406634758
                        ]
                      },
                      {
                        "test": [
                          0.7530857044,
                          0.6805606602
                        ],
                        "passed_time": 6.5906088,
                        "iteration": 423,
                        "remaining_time": 1.18133554,
                        "learn": [
                          0.7696453408,
                          0.6406015738
                        ]
                      },
                      {
                        "test": [
                          0.7531436519,
                          0.6805745438
                        ],
                        "passed_time": 6.60525353,
                        "iteration": 424,
                        "remaining_time": 1.165632976,
                        "learn": [
                          0.7696453408,
                          0.6405379151
                        ]
                      },
                      {
                        "test": [
                          0.7530277569,
                          0.6806188451
                        ],
                        "passed_time": 6.619723117,
                        "iteration": 425,
                        "remaining_time": 1.149904955,
                        "learn": [
                          0.7697612425,
                          0.6404728595
                        ]
                      },
                      {
                        "test": [
                          0.7530857044,
                          0.6806255138
                        ],
                        "passed_time": 6.634107039,
                        "iteration": 426,
                        "remaining_time": 1.134168182,
                        "learn": [
                          0.7698481688,
                          0.640415743
                        ]
                      },
                      {
                        "test": [
                          0.7528539144,
                          0.6806487779
                        ],
                        "passed_time": 6.647392347,
                        "iteration": 427,
                        "remaining_time": 1.118252918,
                        "learn": [
                          0.7699640705,
                          0.6403535046
                        ]
                      },
                      {
                        "test": [
                          0.7528539144,
                          0.6806462778
                        ],
                        "passed_time": 6.662469274,
                        "iteration": 428,
                        "remaining_time": 1.10264643,
                        "learn": [
                          0.7700509968,
                          0.6402973735
                        ]
                      },
                      {
                        "test": [
                          0.7528539144,
                          0.6806499111
                        ],
                        "passed_time": 6.676895765,
                        "iteration": 429,
                        "remaining_time": 1.08693652,
                        "learn": [
                          0.7700799722,
                          0.6402087193
                        ]
                      },
                      {
                        "test": [
                          0.7527959669,
                          0.6806541375
                        ],
                        "passed_time": 6.691704728,
                        "iteration": 430,
                        "remaining_time": 1.071293796,
                        "learn": [
                          0.7700509968,
                          0.6401052919
                        ]
                      },
                      {
                        "test": [
                          0.7529698094,
                          0.6806460114
                        ],
                        "passed_time": 6.705733305,
                        "iteration": 431,
                        "remaining_time": 1.055532094,
                        "learn": [
                          0.770137923,
                          0.6400406659
                        ]
                      },
                      {
                        "test": [
                          0.7527959669,
                          0.6806443961
                        ],
                        "passed_time": 6.720175701,
                        "iteration": 432,
                        "remaining_time": 1.03984243,
                        "learn": [
                          0.7701958739,
                          0.6399833345
                        ]
                      },
                      {
                        "test": [
                          0.7528539144,
                          0.6806514449
                        ],
                        "passed_time": 6.733857155,
                        "iteration": 433,
                        "remaining_time": 1.024042793,
                        "learn": [
                          0.7701668985,
                          0.6399217842
                        ]
                      },
                      {
                        "test": [
                          0.7526800719,
                          0.6807255987
                        ],
                        "passed_time": 6.748515667,
                        "iteration": 434,
                        "remaining_time": 1.008398893,
                        "learn": [
                          0.7702248493,
                          0.6398118096
                        ]
                      },
                      {
                        "test": [
                          0.7527380194,
                          0.6807384574
                        ],
                        "passed_time": 6.762775205,
                        "iteration": 435,
                        "remaining_time": 0.9927009475,
                        "learn": [
                          0.7700799722,
                          0.639724888
                        ]
                      },
                      {
                        "test": [
                          0.7528539144,
                          0.6807296432
                        ],
                        "passed_time": 6.776842804,
                        "iteration": 436,
                        "remaining_time": 0.9769819145,
                        "learn": [
                          0.7702248493,
                          0.6396609963
                        ]
                      },
                      {
                        "test": [
                          0.7529118619,
                          0.6807108307
                        ],
                        "passed_time": 6.790584624,
                        "iteration": 437,
                        "remaining_time": 0.9612243075,
                        "learn": [
                          0.7701958739,
                          0.6396067905
                        ]
                      },
                      {
                        "test": [
                          0.7529118619,
                          0.6807104146
                        ],
                        "passed_time": 6.805470388,
                        "iteration": 438,
                        "remaining_time": 0.9456348376,
                        "learn": [
                          0.7701958739,
                          0.6395444217
                        ]
                      },
                      {
                        "test": [
                          0.7526800719,
                          0.6806985726
                        ],
                        "passed_time": 6.820268849,
                        "iteration": 439,
                        "remaining_time": 0.9300366612,
                        "learn": [
                          0.7702538248,
                          0.6394803501
                        ]
                      },
                      {
                        "test": [
                          0.7528539144,
                          0.6806960948
                        ],
                        "passed_time": 6.835175111,
                        "iteration": 440,
                        "remaining_time": 0.9144565341,
                        "learn": [
                          0.7702248493,
                          0.639392673
                        ]
                      },
                      {
                        "test": [
                          0.7529698094,
                          0.6806966615
                        ],
                        "passed_time": 6.849666697,
                        "iteration": 441,
                        "remaining_time": 0.8988250417,
                        "learn": [
                          0.770340751,
                          0.6393213104
                        ]
                      },
                      {
                        "test": [
                          0.7529118619,
                          0.6807315693
                        ],
                        "passed_time": 6.864467541,
                        "iteration": 442,
                        "remaining_time": 0.8832384872,
                        "learn": [
                          0.7705146036,
                          0.6392474365
                        ]
                      },
                      {
                        "test": [
                          0.7529118619,
                          0.6807240422
                        ],
                        "passed_time": 6.879653297,
                        "iteration": 443,
                        "remaining_time": 0.8677040195,
                        "learn": [
                          0.7705146036,
                          0.639222819
                        ]
                      },
                      {
                        "test": [
                          0.7530857044,
                          0.6807577705
                        ],
                        "passed_time": 6.893884942,
                        "iteration": 444,
                        "remaining_time": 0.8520531951,
                        "learn": [
                          0.7705725545,
                          0.6391672268
                        ]
                      },
                      {
                        "test": [
                          0.7530277569,
                          0.6807626289
                        ],
                        "passed_time": 6.90895634,
                        "iteration": 445,
                        "remaining_time": 0.8365104089,
                        "learn": [
                          0.7704566528,
                          0.6390584561
                        ]
                      },
                      {
                        "test": [
                          0.7529118619,
                          0.6807702553
                        ],
                        "passed_time": 6.923371746,
                        "iteration": 446,
                        "remaining_time": 0.8208919519,
                        "learn": [
                          0.7706305053,
                          0.6390040991
                        ]
                      },
                      {
                        "test": [
                          0.7528539144,
                          0.6807867156
                        ],
                        "passed_time": 6.938567298,
                        "iteration": 447,
                        "remaining_time": 0.8053694185,
                        "learn": [
                          0.770543579,
                          0.6388914714
                        ]
                      },
                      {
                        "test": [
                          0.7527959669,
                          0.6807931041
                        ],
                        "passed_time": 6.95223918,
                        "iteration": 448,
                        "remaining_time": 0.7896752743,
                        "learn": [
                          0.7706015299,
                          0.6388409415
                        ]
                      },
                      {
                        "test": [
                          0.7527959669,
                          0.6808035452
                        ],
                        "passed_time": 6.966485036,
                        "iteration": 449,
                        "remaining_time": 0.7740538928,
                        "learn": [
                          0.7707174316,
                          0.6387915244
                        ]
                      },
                      {
                        "test": [
                          0.7527959669,
                          0.6807953678
                        ],
                        "passed_time": 6.981795692,
                        "iteration": 450,
                        "remaining_time": 0.7585542992,
                        "learn": [
                          0.7709202596,
                          0.638727083
                        ]
                      },
                      {
                        "test": [
                          0.7527380194,
                          0.6808142603
                        ],
                        "passed_time": 7.034059599,
                        "iteration": 451,
                        "remaining_time": 0.7469797805,
                        "learn": [
                          0.770949235,
                          0.6386751647
                        ]
                      },
                      {
                        "test": [
                          0.7526800719,
                          0.6808062973
                        ],
                        "passed_time": 7.061401588,
                        "iteration": 452,
                        "remaining_time": 0.7326398999,
                        "learn": [
                          0.7709202596,
                          0.6385784531
                        ]
                      },
                      {
                        "test": [
                          0.7528539144,
                          0.6807592924
                        ],
                        "passed_time": 7.076043822,
                        "iteration": 453,
                        "remaining_time": 0.716955982,
                        "learn": [
                          0.770949235,
                          0.6384983189
                        ]
                      },
                      {
                        "test": [
                          0.7527380194,
                          0.6807968779
                        ],
                        "passed_time": 7.090428763,
                        "iteration": 454,
                        "remaining_time": 0.7012511963,
                        "learn": [
                          0.7710651368,
                          0.6384004921
                        ]
                      },
                      {
                        "test": [
                          0.7529118619,
                          0.6807886272
                        ],
                        "passed_time": 7.104366144,
                        "iteration": 455,
                        "remaining_time": 0.6855090138,
                        "learn": [
                          0.7709782105,
                          0.638371795
                        ]
                      },
                      {
                        "test": [
                          0.7530857044,
                          0.6807846375
                        ],
                        "passed_time": 7.11896416,
                        "iteration": 456,
                        "remaining_time": 0.6698368903,
                        "learn": [
                          0.7710361613,
                          0.6383207902
                        ]
                      },
                      {
                        "test": [
                          0.7529118619,
                          0.6807747143
                        ],
                        "passed_time": 7.133011124,
                        "iteration": 457,
                        "remaining_time": 0.654118924,
                        "learn": [
                          0.7710941122,
                          0.6382594096
                        ]
                      },
                      {
                        "test": [
                          0.7528539144,
                          0.6807895303
                        ],
                        "passed_time": 7.147821315,
                        "iteration": 458,
                        "remaining_time": 0.6384764137,
                        "learn": [
                          0.7711230876,
                          0.6382075029
                        ]
                      },
                      {
                        "test": [
                          0.7526800719,
                          0.6808391044
                        ],
                        "passed_time": 7.162406488,
                        "iteration": 459,
                        "remaining_time": 0.6228179555,
                        "learn": [
                          0.7711230876,
                          0.6381372646
                        ]
                      },
                      {
                        "test": [
                          0.7527959669,
                          0.6808676812
                        ],
                        "passed_time": 7.17634252,
                        "iteration": 460,
                        "remaining_time": 0.607109237,
                        "learn": [
                          0.7712679648,
                          0.6380552858
                        ]
                      },
                      {
                        "test": [
                          0.7526800719,
                          0.6809013636
                        ],
                        "passed_time": 7.190765245,
                        "iteration": 461,
                        "remaining_time": 0.5914482236,
                        "learn": [
                          0.7712679648,
                          0.6379945608
                        ]
                      },
                      {
                        "test": [
                          0.7527959669,
                          0.6809282222
                        ],
                        "passed_time": 7.205086694,
                        "iteration": 462,
                        "remaining_time": 0.5757844659,
                        "learn": [
                          0.7713838665,
                          0.6379208912
                        ]
                      },
                      {
                        "test": [
                          0.7526221244,
                          0.6809119361
                        ],
                        "passed_time": 7.220020711,
                        "iteration": 463,
                        "remaining_time": 0.5601740207,
                        "learn": [
                          0.7713838665,
                          0.6378335665
                        ]
                      },
                      {
                        "test": [
                          0.7525641769,
                          0.6808960179
                        ],
                        "passed_time": 7.234352649,
                        "iteration": 464,
                        "remaining_time": 0.5445211671,
                        "learn": [
                          0.7714128419,
                          0.63777925
                        ]
                      },
                      {
                        "test": [
                          0.7525062294,
                          0.6808990931
                        ],
                        "passed_time": 7.249706992,
                        "iteration": 465,
                        "remaining_time": 0.5289485788,
                        "learn": [
                          0.7714997682,
                          0.6376821264
                        ]
                      },
                      {
                        "test": [
                          0.7527380194,
                          0.6808986975
                        ],
                        "passed_time": 7.263420621,
                        "iteration": 466,
                        "remaining_time": 0.5132609861,
                        "learn": [
                          0.7713548911,
                          0.6376185326
                        ]
                      },
                      {
                        "test": [
                          0.7528539144,
                          0.6808866459
                        ],
                        "passed_time": 7.278516645,
                        "iteration": 467,
                        "remaining_time": 0.4976763518,
                        "learn": [
                          0.7713259156,
                          0.637528418
                        ]
                      },
                      {
                        "test": [
                          0.7528539144,
                          0.6809082824
                        ],
                        "passed_time": 7.29408759,
                        "iteration": 468,
                        "remaining_time": 0.4821251925,
                        "learn": [
                          0.7713548911,
                          0.6374376217
                        ]
                      },
                      {
                        "test": [
                          0.7527959669,
                          0.6809146842
                        ],
                        "passed_time": 7.308778315,
                        "iteration": 469,
                        "remaining_time": 0.4665177648,
                        "learn": [
                          0.7714128419,
                          0.6373723903
                        ]
                      },
                      {
                        "test": [
                          0.7527959669,
                          0.6809137918
                        ],
                        "passed_time": 7.323092771,
                        "iteration": 470,
                        "remaining_time": 0.4508910623,
                        "learn": [
                          0.7714418173,
                          0.6373213467
                        ]
                      },
                      {
                        "test": [
                          0.7526800719,
                          0.680970194
                        ],
                        "passed_time": 7.337613958,
                        "iteration": 471,
                        "remaining_time": 0.435282184,
                        "learn": [
                          0.7714707928,
                          0.6372360169
                        ]
                      },
                      {
                        "test": [
                          0.7525641769,
                          0.6810065781
                        ],
                        "passed_time": 7.3546793,
                        "iteration": 472,
                        "remaining_time": 0.4198231313,
                        "learn": [
                          0.7714418173,
                          0.637159396
                        ]
                      },
                      {
                        "test": [
                          0.7524482819,
                          0.6809855008
                        ],
                        "passed_time": 7.369001975,
                        "iteration": 473,
                        "remaining_time": 0.4042068594,
                        "learn": [
                          0.7713548911,
                          0.6371053271
                        ]
                      },
                      {
                        "test": [
                          0.7525641769,
                          0.6809920959
                        ],
                        "passed_time": 7.38341252,
                        "iteration": 474,
                        "remaining_time": 0.3886006589,
                        "learn": [
                          0.7714997682,
                          0.6370633332
                        ]
                      },
                      {
                        "test": [
                          0.7523323869,
                          0.6809924084
                        ],
                        "passed_time": 7.397560288,
                        "iteration": 475,
                        "remaining_time": 0.372986233,
                        "learn": [
                          0.7715287436,
                          0.6370058303
                        ]
                      },
                      {
                        "test": [
                          0.7524482819,
                          0.6809898826
                        ],
                        "passed_time": 7.411594548,
                        "iteration": 476,
                        "remaining_time": 0.3573724834,
                        "learn": [
                          0.7714997682,
                          0.636928888
                        ]
                      },
                      {
                        "test": [
                          0.7522164919,
                          0.6809999726
                        ],
                        "passed_time": 7.426489044,
                        "iteration": 477,
                        "remaining_time": 0.3418049351,
                        "learn": [
                          0.7716156699,
                          0.6368398493
                        ]
                      },
                      {
                        "test": [
                          0.7521005969,
                          0.6810602571
                        ],
                        "passed_time": 7.441734578,
                        "iteration": 478,
                        "remaining_time": 0.3262555869,
                        "learn": [
                          0.7717315716,
                          0.6367157093
                        ]
                      },
                      {
                        "test": [
                          0.7522164919,
                          0.6810509691
                        ],
                        "passed_time": 7.457091495,
                        "iteration": 479,
                        "remaining_time": 0.3107121456,
                        "learn": [
                          0.7715866945,
                          0.6365941091
                        ]
                      },
                      {
                        "test": [
                          0.7522164919,
                          0.6810257037
                        ],
                        "passed_time": 7.471501324,
                        "iteration": 480,
                        "remaining_time": 0.2951320689,
                        "learn": [
                          0.7716736208,
                          0.6365052961
                        ]
                      },
                      {
                        "test": [
                          0.7522164919,
                          0.6810513061
                        ],
                        "passed_time": 7.486751193,
                        "iteration": 481,
                        "remaining_time": 0.2795882188,
                        "learn": [
                          0.7717605471,
                          0.636386453
                        ]
                      },
                      {
                        "test": [
                          0.7522744394,
                          0.6810352434
                        ],
                        "passed_time": 7.508222271,
                        "iteration": 482,
                        "remaining_time": 0.264264552,
                        "learn": [
                          0.7717895225,
                          0.6362670889
                        ]
                      },
                      {
                        "test": [
                          0.7522744394,
                          0.6810241401
                        ],
                        "passed_time": 7.535213015,
                        "iteration": 483,
                        "remaining_time": 0.2490979509,
                        "learn": [
                          0.7719054242,
                          0.6361492714
                        ]
                      },
                      {
                        "test": [
                          0.7523903344,
                          0.6810399703
                        ],
                        "passed_time": 7.549584646,
                        "iteration": 484,
                        "remaining_time": 0.2334923086,
                        "learn": [
                          0.7719343996,
                          0.6360678721
                        ]
                      },
                      {
                        "test": [
                          0.7523903344,
                          0.6810577367
                        ],
                        "passed_time": 7.564514413,
                        "iteration": 485,
                        "remaining_time": 0.2179078226,
                        "learn": [
                          0.7719633751,
                          0.6360232426
                        ]
                      },
                      {
                        "test": [
                          0.7525062294,
                          0.6810947672
                        ],
                        "passed_time": 7.578632222,
                        "iteration": 486,
                        "remaining_time": 0.2023043509,
                        "learn": [
                          0.7719633751,
                          0.6359545151
                        ]
                      },
                      {
                        "test": [
                          0.7525062294,
                          0.6811253404
                        ],
                        "passed_time": 7.592189274,
                        "iteration": 487,
                        "remaining_time": 0.1866931789,
                        "learn": [
                          0.7719343996,
                          0.6359093675
                        ]
                      },
                      {
                        "test": [
                          0.7525641769,
                          0.6811093776
                        ],
                        "passed_time": 7.606988947,
                        "iteration": 488,
                        "remaining_time": 0.1711183608,
                        "learn": [
                          0.7719343996,
                          0.6358650892
                        ]
                      },
                      {
                        "test": [
                          0.7525641769,
                          0.6811190132
                        ],
                        "passed_time": 7.621791393,
                        "iteration": 489,
                        "remaining_time": 0.1555467631,
                        "learn": [
                          0.7718764488,
                          0.6357887812
                        ]
                      },
                      {
                        "test": [
                          0.7525062294,
                          0.6811087201
                        ],
                        "passed_time": 7.637477906,
                        "iteration": 490,
                        "remaining_time": 0.1399945034,
                        "learn": [
                          0.7719633751,
                          0.6356384389
                        ]
                      },
                      {
                        "test": [
                          0.7527380194,
                          0.6811199684
                        ],
                        "passed_time": 7.652067615,
                        "iteration": 491,
                        "remaining_time": 0.1244238637,
                        "learn": [
                          0.7720213259,
                          0.6355878854
                        ]
                      },
                      {
                        "test": [
                          0.7527380194,
                          0.6811456181
                        ],
                        "passed_time": 7.667919204,
                        "iteration": 492,
                        "remaining_time": 0.1088751205,
                        "learn": [
                          0.7720792768,
                          0.6355438994
                        ]
                      },
                      {
                        "test": [
                          0.7527959669,
                          0.6811678122
                        ],
                        "passed_time": 7.682678188,
                        "iteration": 493,
                        "remaining_time": 0.09331188083,
                        "learn": [
                          0.7721082522,
                          0.635484642
                        ]
                      },
                      {
                        "test": [
                          0.7525641769,
                          0.6811751058
                        ],
                        "passed_time": 7.697315585,
                        "iteration": 494,
                        "remaining_time": 0.07775066248,
                        "learn": [
                          0.7721372276,
                          0.6354138833
                        ]
                      },
                      {
                        "test": [
                          0.7526221244,
                          0.6812095734
                        ],
                        "passed_time": 7.712287709,
                        "iteration": 495,
                        "remaining_time": 0.06219586862,
                        "learn": [
                          0.7721951785,
                          0.6353185598
                        ]
                      },
                      {
                        "test": [
                          0.7527380194,
                          0.6811862488
                        ],
                        "passed_time": 7.726886404,
                        "iteration": 496,
                        "remaining_time": 0.04664116541,
                        "learn": [
                          0.7723980065,
                          0.6352476103
                        ]
                      },
                      {
                        "test": [
                          0.7526221244,
                          0.6811838058
                        ],
                        "passed_time": 7.741872857,
                        "iteration": 497,
                        "remaining_time": 0.03109185886,
                        "learn": [
                          0.7722241539,
                          0.6351587241
                        ]
                      },
                      {
                        "test": [
                          0.7526221244,
                          0.681183249
                        ],
                        "passed_time": 7.757388895,
                        "iteration": 498,
                        "remaining_time": 0.01554586953,
                        "learn": [
                          0.7722241539,
                          0.6350902252
                        ]
                      },
                      {
                        "test": [
                          0.7525641769,
                          0.6812169137
                        ],
                        "passed_time": 7.771697972,
                        "iteration": 499,
                        "remaining_time": 0,
                        "learn": [
                          0.7723110802,
                          0.6350065104
                        ]
                      }
                    ]
                  },
                  "total_iterations": 500,
                  "passed_iterations": 499
                },
                "path": "catboost_info/fold-0",
                "name": "fold-0"
              },
              "catboost_info/fold-2": {
                "content": {
                  "data": {
                    "meta": {
                      "name": "experiment",
                      "parameters": "",
                      "test_metrics": [
                        {
                          "best_value": "Max",
                          "name": "Accuracy"
                        },
                        {
                          "best_value": "Min",
                          "name": "MultiClass"
                        }
                      ],
                      "learn_sets": [
                        "learn"
                      ],
                      "launch_mode": "Train",
                      "learn_metrics": [
                        {
                          "best_value": "Max",
                          "name": "Accuracy"
                        },
                        {
                          "best_value": "Min",
                          "name": "MultiClass"
                        }
                      ],
                      "iteration_count": 500,
                      "test_sets": [
                        "test"
                      ]
                    },
                    "iterations": [
                      {
                        "test": [
                          0.7503332367,
                          1.018804204
                        ],
                        "passed_time": 0.01706357166,
                        "iteration": 0,
                        "remaining_time": 8.514722259,
                        "learn": [
                          0.7525931506,
                          1.018074768
                        ]
                      },
                      {
                        "test": [
                          0.7514343669,
                          0.9580771372
                        ],
                        "passed_time": 0.03253027189,
                        "iteration": 1,
                        "remaining_time": 8.1000377,
                        "learn": [
                          0.7537231268,
                          0.9570905864
                        ]
                      },
                      {
                        "test": [
                          0.7514343669,
                          0.9101308179
                        ],
                        "passed_time": 0.04995554505,
                        "iteration": 2,
                        "remaining_time": 8.27596863,
                        "learn": [
                          0.7535203106,
                          0.9090074886
                        ]
                      },
                      {
                        "test": [
                          0.7512605042,
                          0.8723224821
                        ],
                        "passed_time": 0.06502223896,
                        "iteration": 3,
                        "remaining_time": 8.062757632,
                        "learn": [
                          0.7527380194,
                          0.8712259072
                        ]
                      },
                      {
                        "test": [
                          0.7518980006,
                          0.8415127037
                        ],
                        "passed_time": 0.0799380474,
                        "iteration": 4,
                        "remaining_time": 7.913866692,
                        "learn": [
                          0.7530277569,
                          0.8400780033
                        ]
                      },
                      {
                        "test": [
                          0.7516661837,
                          0.8163245038
                        ],
                        "passed_time": 0.09709290084,
                        "iteration": 5,
                        "remaining_time": 7.993982169,
                        "learn": [
                          0.7532305731,
                          0.8148299305
                        ]
                      },
                      {
                        "test": [
                          0.7516082295,
                          0.7955861762
                        ],
                        "passed_time": 0.1126495632,
                        "iteration": 6,
                        "remaining_time": 7.933747811,
                        "learn": [
                          0.7532885206,
                          0.7938283961
                        ]
                      },
                      {
                        "test": [
                          0.7520718632,
                          0.7783115936
                        ],
                        "passed_time": 0.1275918599,
                        "iteration": 7,
                        "remaining_time": 7.846899386,
                        "learn": [
                          0.7532015994,
                          0.7764778554
                        ]
                      },
                      {
                        "test": [
                          0.7518400464,
                          0.7637535034
                        ],
                        "passed_time": 0.1420874964,
                        "iteration": 8,
                        "remaining_time": 7.751662304,
                        "learn": [
                          0.7535492843,
                          0.7617317682
                        ]
                      },
                      {
                        "test": [
                          0.7515502753,
                          0.7516841148
                        ],
                        "passed_time": 0.1563242365,
                        "iteration": 9,
                        "remaining_time": 7.65988759,
                        "learn": [
                          0.7535203106,
                          0.7495207015
                        ]
                      },
                      {
                        "test": [
                          0.752013909,
                          0.7416235958
                        ],
                        "passed_time": 0.170607266,
                        "iteration": 10,
                        "remaining_time": 7.58426846,
                        "learn": [
                          0.7534044156,
                          0.7392994931
                        ]
                      },
                      {
                        "test": [
                          0.7517820921,
                          0.7332855863
                        ],
                        "passed_time": 0.1849939597,
                        "iteration": 11,
                        "remaining_time": 7.523087695,
                        "learn": [
                          0.7533754418,
                          0.7308933223
                        ]
                      },
                      {
                        "test": [
                          0.7518400464,
                          0.7262184303
                        ],
                        "passed_time": 0.1995134984,
                        "iteration": 12,
                        "remaining_time": 7.474082594,
                        "learn": [
                          0.7533754418,
                          0.7237877001
                        ]
                      },
                      {
                        "test": [
                          0.7517820921,
                          0.7203181705
                        ],
                        "passed_time": 0.2138949618,
                        "iteration": 13,
                        "remaining_time": 7.425210818,
                        "learn": [
                          0.7533174944,
                          0.7177589742
                        ]
                      },
                      {
                        "test": [
                          0.7518400464,
                          0.7154521574
                        ],
                        "passed_time": 0.2280568002,
                        "iteration": 14,
                        "remaining_time": 7.373836539,
                        "learn": [
                          0.7534044156,
                          0.7127575756
                        ]
                      },
                      {
                        "test": [
                          0.7518400464,
                          0.7110901363
                        ],
                        "passed_time": 0.2429220199,
                        "iteration": 15,
                        "remaining_time": 7.348391103,
                        "learn": [
                          0.7534333893,
                          0.70841215
                        ]
                      },
                      {
                        "test": [
                          0.7521298174,
                          0.7074966748
                        ],
                        "passed_time": 0.2571979526,
                        "iteration": 16,
                        "remaining_time": 7.307447713,
                        "learn": [
                          0.7536941531,
                          0.7045511677
                        ]
                      },
                      {
                        "test": [
                          0.7521298174,
                          0.7044585008
                        ],
                        "passed_time": 0.2720430099,
                        "iteration": 17,
                        "remaining_time": 7.284707266,
                        "learn": [
                          0.7536072318,
                          0.701365883
                        ]
                      },
                      {
                        "test": [
                          0.752013909,
                          0.7017352126
                        ],
                        "passed_time": 0.287375722,
                        "iteration": 18,
                        "remaining_time": 7.275143277,
                        "learn": [
                          0.7536941531,
                          0.6985325691
                        ]
                      },
                      {
                        "test": [
                          0.7519559548,
                          0.6993861895
                        ],
                        "passed_time": 0.3019608388,
                        "iteration": 19,
                        "remaining_time": 7.247060131,
                        "learn": [
                          0.7537231268,
                          0.696170555
                        ]
                      },
                      {
                        "test": [
                          0.7521298174,
                          0.6972622174
                        ],
                        "passed_time": 0.3172433776,
                        "iteration": 20,
                        "remaining_time": 7.236170375,
                        "learn": [
                          0.7537521006,
                          0.6939266376
                        ]
                      },
                      {
                        "test": [
                          0.7519559548,
                          0.6956125358
                        ],
                        "passed_time": 0.3323357357,
                        "iteration": 21,
                        "remaining_time": 7.220749166,
                        "learn": [
                          0.7539259431,
                          0.6922587654
                        ]
                      },
                      {
                        "test": [
                          0.752013909,
                          0.6943181665
                        ],
                        "passed_time": 0.3472144557,
                        "iteration": 22,
                        "remaining_time": 7.200925886,
                        "learn": [
                          0.7538969693,
                          0.6907924776
                        ]
                      },
                      {
                        "test": [
                          0.752013909,
                          0.6931400194
                        ],
                        "passed_time": 0.3651997525,
                        "iteration": 23,
                        "remaining_time": 7.243128425,
                        "learn": [
                          0.7540997856,
                          0.6895200458
                        ]
                      },
                      {
                        "test": [
                          0.7519559548,
                          0.6921392602
                        ],
                        "passed_time": 0.3799998638,
                        "iteration": 24,
                        "remaining_time": 7.219997411,
                        "learn": [
                          0.7540997856,
                          0.6884492239
                        ]
                      },
                      {
                        "test": [
                          0.7518400464,
                          0.6911016518
                        ],
                        "passed_time": 0.3950815553,
                        "iteration": 25,
                        "remaining_time": 7.202640662,
                        "learn": [
                          0.7542446543,
                          0.6872902182
                        ]
                      },
                      {
                        "test": [
                          0.7518400464,
                          0.6901878947
                        ],
                        "passed_time": 0.4103306764,
                        "iteration": 26,
                        "remaining_time": 7.188385553,
                        "learn": [
                          0.7542446543,
                          0.6862996758
                        ]
                      },
                      {
                        "test": [
                          0.7516661837,
                          0.6894064873
                        ],
                        "passed_time": 0.4647400011,
                        "iteration": 27,
                        "remaining_time": 7.83418859,
                        "learn": [
                          0.7541577331,
                          0.6853098378
                        ]
                      },
                      {
                        "test": [
                          0.7516661837,
                          0.6888515059
                        ],
                        "passed_time": 0.5052865942,
                        "iteration": 28,
                        "remaining_time": 8.206551236,
                        "learn": [
                          0.7543605493,
                          0.6846688602
                        ]
                      },
                      {
                        "test": [
                          0.7517820921,
                          0.6883052998
                        ],
                        "passed_time": 0.534518187,
                        "iteration": 29,
                        "remaining_time": 8.374118263,
                        "learn": [
                          0.7544184968,
                          0.6840480296
                        ]
                      },
                      {
                        "test": [
                          0.7516661837,
                          0.687889177
                        ],
                        "passed_time": 0.5602242362,
                        "iteration": 30,
                        "remaining_time": 8.475650541,
                        "learn": [
                          0.7545633656,
                          0.6835701756
                        ]
                      },
                      {
                        "test": [
                          0.7517241379,
                          0.6875626135
                        ],
                        "passed_time": 0.57480446,
                        "iteration": 31,
                        "remaining_time": 8.406515228,
                        "learn": [
                          0.7546502868,
                          0.683085502
                        ]
                      },
                      {
                        "test": [
                          0.7516661837,
                          0.6871278583
                        ],
                        "passed_time": 0.5898217303,
                        "iteration": 32,
                        "remaining_time": 8.346871154,
                        "learn": [
                          0.7545923393,
                          0.6825317139
                        ]
                      },
                      {
                        "test": [
                          0.7518980006,
                          0.6867209952
                        ],
                        "passed_time": 0.6050599145,
                        "iteration": 33,
                        "remaining_time": 8.292880004,
                        "learn": [
                          0.7544474706,
                          0.6820122758
                        ]
                      },
                      {
                        "test": [
                          0.7518980006,
                          0.6864695912
                        ],
                        "passed_time": 0.6195254307,
                        "iteration": 34,
                        "remaining_time": 8.230837865,
                        "learn": [
                          0.7544474706,
                          0.6816225572
                        ]
                      },
                      {
                        "test": [
                          0.752013909,
                          0.6862612056
                        ],
                        "passed_time": 0.6342942275,
                        "iteration": 35,
                        "remaining_time": 8.175347821,
                        "learn": [
                          0.7545633656,
                          0.6813019669
                        ]
                      },
                      {
                        "test": [
                          0.7517820921,
                          0.685813788
                        ],
                        "passed_time": 0.649948877,
                        "iteration": 36,
                        "remaining_time": 8.133144056,
                        "learn": [
                          0.7544474706,
                          0.6806773456
                        ]
                      },
                      {
                        "test": [
                          0.7518980006,
                          0.685500431
                        ],
                        "passed_time": 0.6651899791,
                        "iteration": 37,
                        "remaining_time": 8.087309746,
                        "learn": [
                          0.7543895231,
                          0.6802496316
                        ]
                      },
                      {
                        "test": [
                          0.7519559548,
                          0.6851937999
                        ],
                        "passed_time": 0.6814895978,
                        "iteration": 38,
                        "remaining_time": 8.055556528,
                        "learn": [
                          0.7545054181,
                          0.6798334086
                        ]
                      },
                      {
                        "test": [
                          0.7519559548,
                          0.6849535126
                        ],
                        "passed_time": 0.710367971,
                        "iteration": 39,
                        "remaining_time": 8.169231666,
                        "learn": [
                          0.7547082343,
                          0.679520074
                        ]
                      },
                      {
                        "test": [
                          0.7518980006,
                          0.6847634031
                        ],
                        "passed_time": 0.7260879382,
                        "iteration": 40,
                        "remaining_time": 8.128643015,
                        "learn": [
                          0.7547372081,
                          0.679238386
                        ]
                      },
                      {
                        "test": [
                          0.7518400464,
                          0.6845961165
                        ],
                        "passed_time": 0.7411447634,
                        "iteration": 41,
                        "remaining_time": 8.082007181,
                        "learn": [
                          0.7547372081,
                          0.6789611008
                        ]
                      },
                      {
                        "test": [
                          0.7518400464,
                          0.6839796161
                        ],
                        "passed_time": 0.7571384732,
                        "iteration": 42,
                        "remaining_time": 8.046797261,
                        "learn": [
                          0.7547661818,
                          0.6783289864
                        ]
                      },
                      {
                        "test": [
                          0.7516661837,
                          0.6838774571
                        ],
                        "passed_time": 0.7720963221,
                        "iteration": 43,
                        "remaining_time": 8.00172552,
                        "learn": [
                          0.7546213131,
                          0.6781201413
                        ]
                      },
                      {
                        "test": [
                          0.7517241379,
                          0.6837209743
                        ],
                        "passed_time": 0.786988431,
                        "iteration": 44,
                        "remaining_time": 7.957327469,
                        "learn": [
                          0.7546213131,
                          0.677930136
                        ]
                      },
                      {
                        "test": [
                          0.7516082295,
                          0.6836081609
                        ],
                        "passed_time": 0.802286488,
                        "iteration": 45,
                        "remaining_time": 7.918218816,
                        "learn": [
                          0.7546502868,
                          0.67772902
                        ]
                      },
                      {
                        "test": [
                          0.7515502753,
                          0.6833909919
                        ],
                        "passed_time": 0.8176468297,
                        "iteration": 46,
                        "remaining_time": 7.880723699,
                        "learn": [
                          0.7545923393,
                          0.6774167348
                        ]
                      },
                      {
                        "test": [
                          0.7516082295,
                          0.6831364017
                        ],
                        "passed_time": 0.8328567146,
                        "iteration": 47,
                        "remaining_time": 7.842734062,
                        "learn": [
                          0.7545633656,
                          0.6771090817
                        ]
                      },
                      {
                        "test": [
                          0.7516082295,
                          0.6829822485
                        ],
                        "passed_time": 0.8478974394,
                        "iteration": 48,
                        "remaining_time": 7.804117248,
                        "learn": [
                          0.7545923393,
                          0.6768233066
                        ]
                      },
                      {
                        "test": [
                          0.7515502753,
                          0.6829231435
                        ],
                        "passed_time": 0.8632857526,
                        "iteration": 49,
                        "remaining_time": 7.769571773,
                        "learn": [
                          0.7545633656,
                          0.6766229907
                        ]
                      },
                      {
                        "test": [
                          0.7516661837,
                          0.6827315073
                        ],
                        "passed_time": 0.8792411935,
                        "iteration": 50,
                        "remaining_time": 7.740770508,
                        "learn": [
                          0.7544764443,
                          0.6763927872
                        ]
                      },
                      {
                        "test": [
                          0.7515502753,
                          0.6826522133
                        ],
                        "passed_time": 0.8947965031,
                        "iteration": 51,
                        "remaining_time": 7.709016027,
                        "learn": [
                          0.7545923393,
                          0.67625418
                        ]
                      },
                      {
                        "test": [
                          0.7516082295,
                          0.6825707779
                        ],
                        "passed_time": 0.9102125078,
                        "iteration": 52,
                        "remaining_time": 7.676697944,
                        "learn": [
                          0.7545923393,
                          0.6760549052
                        ]
                      },
                      {
                        "test": [
                          0.7516082295,
                          0.6825471949
                        ],
                        "passed_time": 0.9255780921,
                        "iteration": 53,
                        "remaining_time": 7.644589427,
                        "learn": [
                          0.7545923393,
                          0.6758231861
                        ]
                      },
                      {
                        "test": [
                          0.7516082295,
                          0.6824811872
                        ],
                        "passed_time": 0.9412567202,
                        "iteration": 54,
                        "remaining_time": 7.615622555,
                        "learn": [
                          0.7547082343,
                          0.6756707893
                        ]
                      },
                      {
                        "test": [
                          0.7516082295,
                          0.6824716706
                        ],
                        "passed_time": 0.9556053969,
                        "iteration": 55,
                        "remaining_time": 7.576585647,
                        "learn": [
                          0.7547951556,
                          0.6755437325
                        ]
                      },
                      {
                        "test": [
                          0.7516661837,
                          0.6824316753
                        ],
                        "passed_time": 0.9702675888,
                        "iteration": 56,
                        "remaining_time": 7.540851611,
                        "learn": [
                          0.7549110506,
                          0.6753855561
                        ]
                      },
                      {
                        "test": [
                          0.7516082295,
                          0.6823652321
                        ],
                        "passed_time": 0.9864168171,
                        "iteration": 57,
                        "remaining_time": 7.517176434,
                        "learn": [
                          0.7547951556,
                          0.6752770807
                        ]
                      },
                      {
                        "test": [
                          0.7516661837,
                          0.6823316648
                        ],
                        "passed_time": 1.001249935,
                        "iteration": 58,
                        "remaining_time": 7.483919003,
                        "learn": [
                          0.7547372081,
                          0.6751221898
                        ]
                      },
                      {
                        "test": [
                          0.7515502753,
                          0.6822609746
                        ],
                        "passed_time": 1.016428688,
                        "iteration": 59,
                        "remaining_time": 7.453810381,
                        "learn": [
                          0.7547951556,
                          0.6749001572
                        ]
                      },
                      {
                        "test": [
                          0.7515502753,
                          0.682210967
                        ],
                        "passed_time": 1.031770722,
                        "iteration": 60,
                        "remaining_time": 7.425366345,
                        "learn": [
                          0.7548241293,
                          0.6747405542
                        ]
                      },
                      {
                        "test": [
                          0.7515502753,
                          0.6821963001
                        ],
                        "passed_time": 1.046443559,
                        "iteration": 61,
                        "remaining_time": 7.392617399,
                        "learn": [
                          0.7549979718,
                          0.6746194362
                        ]
                      },
                      {
                        "test": [
                          0.7516082295,
                          0.6822028022
                        ],
                        "passed_time": 1.061218719,
                        "iteration": 62,
                        "remaining_time": 7.361152067,
                        "learn": [
                          0.7550559193,
                          0.6744658428
                        ]
                      },
                      {
                        "test": [
                          0.7517241379,
                          0.6821185253
                        ],
                        "passed_time": 1.076355001,
                        "iteration": 63,
                        "remaining_time": 7.332668444,
                        "learn": [
                          0.7549979718,
                          0.6742625155
                        ]
                      },
                      {
                        "test": [
                          0.7516082295,
                          0.6820196936
                        ],
                        "passed_time": 1.091648238,
                        "iteration": 64,
                        "remaining_time": 7.305645904,
                        "learn": [
                          0.7549110506,
                          0.6740413145
                        ]
                      },
                      {
                        "test": [
                          0.7517241379,
                          0.6819535736
                        ],
                        "passed_time": 1.106740678,
                        "iteration": 65,
                        "remaining_time": 7.2776584,
                        "learn": [
                          0.7549110506,
                          0.6738991021
                        ]
                      },
                      {
                        "test": [
                          0.7516661837,
                          0.6818600815
                        ],
                        "passed_time": 1.12239298,
                        "iteration": 66,
                        "remaining_time": 7.253674035,
                        "learn": [
                          0.7549689981,
                          0.6737118327
                        ]
                      },
                      {
                        "test": [
                          0.7516082295,
                          0.681764936
                        ],
                        "passed_time": 1.137594418,
                        "iteration": 67,
                        "remaining_time": 7.227070418,
                        "learn": [
                          0.7549110506,
                          0.6735024573
                        ]
                      },
                      {
                        "test": [
                          0.7516661837,
                          0.6817012408
                        ],
                        "passed_time": 1.152100862,
                        "iteration": 68,
                        "remaining_time": 7.196456106,
                        "learn": [
                          0.7549400243,
                          0.6733547153
                        ]
                      },
                      {
                        "test": [
                          0.7516082295,
                          0.681689021
                        ],
                        "passed_time": 1.166586229,
                        "iteration": 69,
                        "remaining_time": 7.166172551,
                        "learn": [
                          0.7550559193,
                          0.6732271878
                        ]
                      },
                      {
                        "test": [
                          0.7515502753,
                          0.6816921723
                        ],
                        "passed_time": 1.181124957,
                        "iteration": 70,
                        "remaining_time": 7.136656429,
                        "learn": [
                          0.7550559193,
                          0.6731345602
                        ]
                      },
                      {
                        "test": [
                          0.7517820921,
                          0.6816327747
                        ],
                        "passed_time": 1.195417439,
                        "iteration": 71,
                        "remaining_time": 7.106092554,
                        "learn": [
                          0.7550848931,
                          0.6730516277
                        ]
                      },
                      {
                        "test": [
                          0.7517241379,
                          0.6815390728
                        ],
                        "passed_time": 1.210114512,
                        "iteration": 72,
                        "remaining_time": 7.078341049,
                        "learn": [
                          0.7552007881,
                          0.6729285442
                        ]
                      },
                      {
                        "test": [
                          0.7517241379,
                          0.6813714148
                        ],
                        "passed_time": 1.225045229,
                        "iteration": 73,
                        "remaining_time": 7.052287398,
                        "learn": [
                          0.7552007881,
                          0.672700772
                        ]
                      },
                      {
                        "test": [
                          0.7517820921,
                          0.6813422478
                        ],
                        "passed_time": 1.240674366,
                        "iteration": 74,
                        "remaining_time": 7.030488075,
                        "learn": [
                          0.7551718143,
                          0.6725558284
                        ]
                      },
                      {
                        "test": [
                          0.7517241379,
                          0.681349186
                        ],
                        "passed_time": 1.255194178,
                        "iteration": 75,
                        "remaining_time": 7.002662259,
                        "learn": [
                          0.7552007881,
                          0.6724606363
                        ]
                      },
                      {
                        "test": [
                          0.7517241379,
                          0.6812245344
                        ],
                        "passed_time": 1.272145457,
                        "iteration": 76,
                        "remaining_time": 6.98853933,
                        "learn": [
                          0.7551718143,
                          0.6722804817
                        ]
                      },
                      {
                        "test": [
                          0.7518400464,
                          0.6812293686
                        ],
                        "passed_time": 1.287826011,
                        "iteration": 77,
                        "remaining_time": 6.967468933,
                        "learn": [
                          0.7552297618,
                          0.6722206434
                        ]
                      },
                      {
                        "test": [
                          0.7516082295,
                          0.681206114
                        ],
                        "passed_time": 1.302526293,
                        "iteration": 78,
                        "remaining_time": 6.941311002,
                        "learn": [
                          0.7553456568,
                          0.6720575342
                        ]
                      },
                      {
                        "test": [
                          0.7516082295,
                          0.6811775025
                        ],
                        "passed_time": 1.316467793,
                        "iteration": 79,
                        "remaining_time": 6.911455913,
                        "learn": [
                          0.7554325781,
                          0.6719645284
                        ]
                      },
                      {
                        "test": [
                          0.7516082295,
                          0.6810571216
                        ],
                        "passed_time": 1.332237785,
                        "iteration": 80,
                        "remaining_time": 6.891452244,
                        "learn": [
                          0.7553746306,
                          0.6717741915
                        ]
                      },
                      {
                        "test": [
                          0.7517241379,
                          0.680970573
                        ],
                        "passed_time": 1.351480398,
                        "iteration": 81,
                        "remaining_time": 6.889253737,
                        "learn": [
                          0.7554036043,
                          0.6715647567
                        ]
                      },
                      {
                        "test": [
                          0.7516661837,
                          0.6809679148
                        ],
                        "passed_time": 1.365993346,
                        "iteration": 82,
                        "remaining_time": 6.862882232,
                        "learn": [
                          0.7553456568,
                          0.6714866782
                        ]
                      },
                      {
                        "test": [
                          0.7517241379,
                          0.6809711214
                        ],
                        "passed_time": 1.379999097,
                        "iteration": 83,
                        "remaining_time": 6.834281241,
                        "learn": [
                          0.7555774468,
                          0.6713662411
                        ]
                      },
                      {
                        "test": [
                          0.7518980006,
                          0.6808670091
                        ],
                        "passed_time": 1.394785942,
                        "iteration": 84,
                        "remaining_time": 6.809837245,
                        "learn": [
                          0.7555484731,
                          0.6712206362
                        ]
                      },
                      {
                        "test": [
                          0.7518980006,
                          0.6808804389
                        ],
                        "passed_time": 1.408983168,
                        "iteration": 85,
                        "remaining_time": 6.782779436,
                        "learn": [
                          0.7558092368,
                          0.6711239409
                        ]
                      },
                      {
                        "test": [
                          0.7518980006,
                          0.6808297061
                        ],
                        "passed_time": 1.423701769,
                        "iteration": 86,
                        "remaining_time": 6.758492305,
                        "learn": [
                          0.7557512893,
                          0.671022908
                        ]
                      },
                      {
                        "test": [
                          0.7517241379,
                          0.6807620272
                        ],
                        "passed_time": 1.439243094,
                        "iteration": 87,
                        "remaining_time": 6.738274488,
                        "learn": [
                          0.7558382106,
                          0.6708429836
                        ]
                      },
                      {
                        "test": [
                          0.7517241379,
                          0.6806953038
                        ],
                        "passed_time": 1.454426038,
                        "iteration": 88,
                        "remaining_time": 6.716506759,
                        "learn": [
                          0.7557802631,
                          0.6707300072
                        ]
                      },
                      {
                        "test": [
                          0.7516082295,
                          0.6807348076
                        ],
                        "passed_time": 1.468630334,
                        "iteration": 89,
                        "remaining_time": 6.690427077,
                        "learn": [
                          0.7558961581,
                          0.6706065568
                        ]
                      },
                      {
                        "test": [
                          0.7516661837,
                          0.6807279655
                        ],
                        "passed_time": 1.483065756,
                        "iteration": 90,
                        "remaining_time": 6.66564719,
                        "learn": [
                          0.7559830793,
                          0.6704194542
                        ]
                      },
                      {
                        "test": [
                          0.7518400464,
                          0.6806372054
                        ],
                        "passed_time": 1.622595523,
                        "iteration": 91,
                        "remaining_time": 7.195858408,
                        "learn": [
                          0.7559830793,
                          0.6702748125
                        ]
                      },
                      {
                        "test": [
                          0.7516082295,
                          0.6806407011
                        ],
                        "passed_time": 1.650930348,
                        "iteration": 92,
                        "remaining_time": 7.225039263,
                        "learn": [
                          0.7559541056,
                          0.6701869615
                        ]
                      },
                      {
                        "test": [
                          0.7517241379,
                          0.6805807868
                        ],
                        "passed_time": 1.686132695,
                        "iteration": 93,
                        "remaining_time": 7.282658235,
                        "learn": [
                          0.7559830793,
                          0.6700465021
                        ]
                      },
                      {
                        "test": [
                          0.7516082295,
                          0.6805287774
                        ],
                        "passed_time": 1.701399503,
                        "iteration": 94,
                        "remaining_time": 7.253334722,
                        "learn": [
                          0.7559541056,
                          0.6699272893
                        ]
                      },
                      {
                        "test": [
                          0.7516082295,
                          0.6804601244
                        ],
                        "passed_time": 1.726418328,
                        "iteration": 95,
                        "remaining_time": 7.265343796,
                        "learn": [
                          0.7561569218,
                          0.6697669832
                        ]
                      },
                      {
                        "test": [
                          0.7516661837,
                          0.6805068727
                        ],
                        "passed_time": 1.741662112,
                        "iteration": 96,
                        "remaining_time": 7.235977642,
                        "learn": [
                          0.7563597381,
                          0.6695767929
                        ]
                      },
                      {
                        "test": [
                          0.7516661837,
                          0.6804895398
                        ],
                        "passed_time": 1.756353926,
                        "iteration": 97,
                        "remaining_time": 7.204635493,
                        "learn": [
                          0.7563307643,
                          0.6694676186
                        ]
                      },
                      {
                        "test": [
                          0.7516661837,
                          0.6804655044
                        ],
                        "passed_time": 1.7718992,
                        "iteration": 98,
                        "remaining_time": 7.17708666,
                        "learn": [
                          0.7563307643,
                          0.6693491077
                        ]
                      },
                      {
                        "test": [
                          0.7517241379,
                          0.680458812
                        ],
                        "passed_time": 1.78628025,
                        "iteration": 99,
                        "remaining_time": 7.145121,
                        "learn": [
                          0.7565335806,
                          0.6692462411
                        ]
                      },
                      {
                        "test": [
                          0.7518980006,
                          0.6804523137
                        ],
                        "passed_time": 1.801310781,
                        "iteration": 100,
                        "remaining_time": 7.116069322,
                        "learn": [
                          0.7563307643,
                          0.6691034949
                        ]
                      },
                      {
                        "test": [
                          0.7517820921,
                          0.6804185188
                        ],
                        "passed_time": 1.816360614,
                        "iteration": 101,
                        "remaining_time": 7.087367886,
                        "learn": [
                          0.7563887118,
                          0.668966966
                        ]
                      },
                      {
                        "test": [
                          0.7515502753,
                          0.6803932563
                        ],
                        "passed_time": 1.831289716,
                        "iteration": 102,
                        "remaining_time": 7.058466187,
                        "learn": [
                          0.7563597381,
                          0.6688838362
                        ]
                      },
                      {
                        "test": [
                          0.7517820921,
                          0.6802758576
                        ],
                        "passed_time": 1.846393321,
                        "iteration": 103,
                        "remaining_time": 7.030497647,
                        "learn": [
                          0.7563017906,
                          0.6687149328
                        ]
                      },
                      {
                        "test": [
                          0.7515502753,
                          0.6803073329
                        ],
                        "passed_time": 1.863150718,
                        "iteration": 104,
                        "remaining_time": 7.008995557,
                        "learn": [
                          0.7563597381,
                          0.6686406551
                        ]
                      },
                      {
                        "test": [
                          0.7517820921,
                          0.6803283375
                        ],
                        "passed_time": 1.877445128,
                        "iteration": 105,
                        "remaining_time": 6.978428117,
                        "learn": [
                          0.7562438431,
                          0.6684735856
                        ]
                      },
                      {
                        "test": [
                          0.7515502753,
                          0.6803163304
                        ],
                        "passed_time": 1.891975573,
                        "iteration": 106,
                        "remaining_time": 6.949031778,
                        "learn": [
                          0.7564756331,
                          0.6684003374
                        ]
                      },
                      {
                        "test": [
                          0.7514343669,
                          0.6803242957
                        ],
                        "passed_time": 1.905657458,
                        "iteration": 107,
                        "remaining_time": 6.916830775,
                        "learn": [
                          0.7563887118,
                          0.6683375308
                        ]
                      },
                      {
                        "test": [
                          0.7516082295,
                          0.680271748
                        ],
                        "passed_time": 1.919507128,
                        "iteration": 108,
                        "remaining_time": 6.885571439,
                        "learn": [
                          0.7564756331,
                          0.6682139981
                        ]
                      },
                      {
                        "test": [
                          0.7517241379,
                          0.6802194515
                        ],
                        "passed_time": 1.93384613,
                        "iteration": 109,
                        "remaining_time": 6.85636355,
                        "learn": [
                          0.7564756331,
                          0.6681151281
                        ]
                      },
                      {
                        "test": [
                          0.7517241379,
                          0.6802082468
                        ],
                        "passed_time": 1.948519332,
                        "iteration": 110,
                        "remaining_time": 6.828594775,
                        "learn": [
                          0.7565625543,
                          0.6679860695
                        ]
                      },
                      {
                        "test": [
                          0.7518400464,
                          0.6801974189
                        ],
                        "passed_time": 1.963129781,
                        "iteration": 111,
                        "remaining_time": 6.800842455,
                        "learn": [
                          0.7567363968,
                          0.6678885853
                        ]
                      },
                      {
                        "test": [
                          0.7517241379,
                          0.6801994939
                        ],
                        "passed_time": 1.976327871,
                        "iteration": 112,
                        "remaining_time": 6.768485718,
                        "learn": [
                          0.7565335806,
                          0.6678044797
                        ]
                      },
                      {
                        "test": [
                          0.7519559548,
                          0.6802566815
                        ],
                        "passed_time": 1.990589658,
                        "iteration": 113,
                        "remaining_time": 6.740066737,
                        "learn": [
                          0.7567074231,
                          0.6677006914
                        ]
                      },
                      {
                        "test": [
                          0.7519559548,
                          0.6802377956
                        ],
                        "passed_time": 2.00521437,
                        "iteration": 114,
                        "remaining_time": 6.713108977,
                        "learn": [
                          0.7566784493,
                          0.6675622786
                        ]
                      },
                      {
                        "test": [
                          0.7519559548,
                          0.6802513934
                        ],
                        "passed_time": 2.01979781,
                        "iteration": 115,
                        "remaining_time": 6.686227232,
                        "learn": [
                          0.7565915281,
                          0.6674588526
                        ]
                      },
                      {
                        "test": [
                          0.7520718632,
                          0.680249184
                        ],
                        "passed_time": 2.034792474,
                        "iteration": 116,
                        "remaining_time": 6.660901858,
                        "learn": [
                          0.7565335806,
                          0.6673245099
                        ]
                      },
                      {
                        "test": [
                          0.752013909,
                          0.6802588616
                        ],
                        "passed_time": 2.049866263,
                        "iteration": 117,
                        "remaining_time": 6.636007731,
                        "learn": [
                          0.7566205018,
                          0.6672049241
                        ]
                      },
                      {
                        "test": [
                          0.752013909,
                          0.6801353965
                        ],
                        "passed_time": 2.064687314,
                        "iteration": 118,
                        "remaining_time": 6.610469469,
                        "learn": [
                          0.7568233181,
                          0.6670539835
                        ]
                      },
                      {
                        "test": [
                          0.752013909,
                          0.6800625117
                        ],
                        "passed_time": 2.079903473,
                        "iteration": 119,
                        "remaining_time": 6.586360997,
                        "learn": [
                          0.7567074231,
                          0.6668659256
                        ]
                      },
                      {
                        "test": [
                          0.7518980006,
                          0.6799650393
                        ],
                        "passed_time": 2.094753939,
                        "iteration": 120,
                        "remaining_time": 6.561254074,
                        "learn": [
                          0.7567363968,
                          0.6666904013
                        ]
                      },
                      {
                        "test": [
                          0.7519559548,
                          0.680014917
                        ],
                        "passed_time": 2.108868819,
                        "iteration": 121,
                        "remaining_time": 6.534036178,
                        "learn": [
                          0.7569102393,
                          0.6665622034
                        ]
                      },
                      {
                        "test": [
                          0.7520718632,
                          0.6800206223
                        ],
                        "passed_time": 2.123888978,
                        "iteration": 122,
                        "remaining_time": 6.509806053,
                        "learn": [
                          0.7568233181,
                          0.6664604401
                        ]
                      },
                      {
                        "test": [
                          0.7521877717,
                          0.6800231707
                        ],
                        "passed_time": 2.138380877,
                        "iteration": 123,
                        "remaining_time": 6.48412266,
                        "learn": [
                          0.7567074231,
                          0.6663878683
                        ]
                      },
                      {
                        "test": [
                          0.7521877717,
                          0.6799450309
                        ],
                        "passed_time": 2.154240396,
                        "iteration": 124,
                        "remaining_time": 6.462721188,
                        "learn": [
                          0.7567653706,
                          0.6662203619
                        ]
                      },
                      {
                        "test": [
                          0.7521298174,
                          0.6799048549
                        ],
                        "passed_time": 2.168811229,
                        "iteration": 125,
                        "remaining_time": 6.437582538,
                        "learn": [
                          0.7566494756,
                          0.6661382228
                        ]
                      },
                      {
                        "test": [
                          0.7521298174,
                          0.679928032
                        ],
                        "passed_time": 2.183046809,
                        "iteration": 126,
                        "remaining_time": 6.411625668,
                        "learn": [
                          0.7568522918,
                          0.6660207454
                        ]
                      },
                      {
                        "test": [
                          0.752013909,
                          0.6799125988
                        ],
                        "passed_time": 2.197624738,
                        "iteration": 127,
                        "remaining_time": 6.386846893,
                        "learn": [
                          0.7569681868,
                          0.6659276691
                        ]
                      },
                      {
                        "test": [
                          0.752013909,
                          0.6799025936
                        ],
                        "passed_time": 2.21177147,
                        "iteration": 128,
                        "remaining_time": 6.360986167,
                        "learn": [
                          0.7569971606,
                          0.665864887
                        ]
                      },
                      {
                        "test": [
                          0.752013909,
                          0.6799011389
                        ],
                        "passed_time": 2.226353228,
                        "iteration": 129,
                        "remaining_time": 6.336543802,
                        "learn": [
                          0.7570261343,
                          0.6657699341
                        ]
                      },
                      {
                        "test": [
                          0.7521298174,
                          0.6799143913
                        ],
                        "passed_time": 2.240572842,
                        "iteration": 130,
                        "remaining_time": 6.311231899,
                        "learn": [
                          0.7571130556,
                          0.6656786559
                        ]
                      },
                      {
                        "test": [
                          0.7521298174,
                          0.6799081852
                        ],
                        "passed_time": 2.255053017,
                        "iteration": 131,
                        "remaining_time": 6.286814471,
                        "learn": [
                          0.7571420293,
                          0.6655295427
                        ]
                      },
                      {
                        "test": [
                          0.7520718632,
                          0.679892957
                        ],
                        "passed_time": 2.27282632,
                        "iteration": 132,
                        "remaining_time": 6.271633531,
                        "learn": [
                          0.7570840818,
                          0.6654191423
                        ]
                      },
                      {
                        "test": [
                          0.7521298174,
                          0.679900423
                        ],
                        "passed_time": 2.287497949,
                        "iteration": 133,
                        "remaining_time": 6.247942158,
                        "learn": [
                          0.7570261343,
                          0.66532154
                        ]
                      },
                      {
                        "test": [
                          0.7520718632,
                          0.6798969072
                        ],
                        "passed_time": 2.301790499,
                        "iteration": 134,
                        "remaining_time": 6.223359498,
                        "learn": [
                          0.7569102393,
                          0.6652189966
                        ]
                      },
                      {
                        "test": [
                          0.7519559548,
                          0.6798983825
                        ],
                        "passed_time": 2.316096834,
                        "iteration": 135,
                        "remaining_time": 6.198965056,
                        "learn": [
                          0.7571420293,
                          0.6651398039
                        ]
                      },
                      {
                        "test": [
                          0.7518980006,
                          0.6798697961
                        ],
                        "passed_time": 2.331249775,
                        "iteration": 136,
                        "remaining_time": 6.176961083,
                        "learn": [
                          0.7573448456,
                          0.6650163399
                        ]
                      },
                      {
                        "test": [
                          0.7519559548,
                          0.6798962382
                        ],
                        "passed_time": 2.348169773,
                        "iteration": 137,
                        "remaining_time": 6.159691724,
                        "learn": [
                          0.7574317668,
                          0.6648630363
                        ]
                      },
                      {
                        "test": [
                          0.7518980006,
                          0.6798640497
                        ],
                        "passed_time": 2.362583627,
                        "iteration": 138,
                        "remaining_time": 6.135918629,
                        "learn": [
                          0.7575476618,
                          0.6647282485
                        ]
                      },
                      {
                        "test": [
                          0.752013909,
                          0.6798954891
                        ],
                        "passed_time": 2.377128822,
                        "iteration": 139,
                        "remaining_time": 6.112616971,
                        "learn": [
                          0.7576345831,
                          0.6646346025
                        ]
                      },
                      {
                        "test": [
                          0.752013909,
                          0.6799154676
                        ],
                        "passed_time": 2.391673915,
                        "iteration": 140,
                        "remaining_time": 6.08943926,
                        "learn": [
                          0.7574317668,
                          0.6644966229
                        ]
                      },
                      {
                        "test": [
                          0.7521298174,
                          0.679960153
                        ],
                        "passed_time": 2.406900854,
                        "iteration": 141,
                        "remaining_time": 6.068102152,
                        "learn": [
                          0.7576345831,
                          0.6643966077
                        ]
                      },
                      {
                        "test": [
                          0.752013909,
                          0.679962126
                        ],
                        "passed_time": 2.421008415,
                        "iteration": 142,
                        "remaining_time": 6.044055974,
                        "learn": [
                          0.7577794518,
                          0.6643342325
                        ]
                      },
                      {
                        "test": [
                          0.7520718632,
                          0.6799223708
                        ],
                        "passed_time": 2.43591488,
                        "iteration": 143,
                        "remaining_time": 6.022122897,
                        "learn": [
                          0.7577504781,
                          0.6642053564
                        ]
                      },
                      {
                        "test": [
                          0.7520718632,
                          0.6797951421
                        ],
                        "passed_time": 2.450721043,
                        "iteration": 144,
                        "remaining_time": 6.000041174,
                        "learn": [
                          0.7577504781,
                          0.6640112163
                        ]
                      },
                      {
                        "test": [
                          0.752013909,
                          0.6798307198
                        ],
                        "passed_time": 2.465102941,
                        "iteration": 145,
                        "remaining_time": 5.977030418,
                        "learn": [
                          0.7580112418,
                          0.6638453777
                        ]
                      },
                      {
                        "test": [
                          0.7518980006,
                          0.6798769959
                        ],
                        "passed_time": 2.478887984,
                        "iteration": 146,
                        "remaining_time": 5.952703798,
                        "learn": [
                          0.7578953468,
                          0.6637918294
                        ]
                      },
                      {
                        "test": [
                          0.7518400464,
                          0.6798928787
                        ],
                        "passed_time": 2.49361345,
                        "iteration": 147,
                        "remaining_time": 5.930756312,
                        "learn": [
                          0.7579532943,
                          0.6636801221
                        ]
                      },
                      {
                        "test": [
                          0.7518980006,
                          0.679783719
                        ],
                        "passed_time": 2.508646723,
                        "iteration": 148,
                        "remaining_time": 5.909630872,
                        "learn": [
                          0.7578373993,
                          0.6635112661
                        ]
                      },
                      {
                        "test": [
                          0.7518980006,
                          0.6798140836
                        ],
                        "passed_time": 2.524481036,
                        "iteration": 149,
                        "remaining_time": 5.890455751,
                        "learn": [
                          0.7579243206,
                          0.6633105791
                        ]
                      },
                      {
                        "test": [
                          0.7518980006,
                          0.6797961847
                        ],
                        "passed_time": 2.538483623,
                        "iteration": 150,
                        "remaining_time": 5.867091287,
                        "learn": [
                          0.7580981631,
                          0.6631707678
                        ]
                      },
                      {
                        "test": [
                          0.7518980006,
                          0.6797897732
                        ],
                        "passed_time": 2.552878589,
                        "iteration": 151,
                        "remaining_time": 5.844748348,
                        "learn": [
                          0.7580981631,
                          0.6630593698
                        ]
                      },
                      {
                        "test": [
                          0.7518980006,
                          0.679781951
                        ],
                        "passed_time": 2.566412113,
                        "iteration": 152,
                        "remaining_time": 5.820555578,
                        "learn": [
                          0.7582720056,
                          0.6629678227
                        ]
                      },
                      {
                        "test": [
                          0.7517820921,
                          0.6797644186
                        ],
                        "passed_time": 2.581191167,
                        "iteration": 153,
                        "remaining_time": 5.799299634,
                        "learn": [
                          0.7584458481,
                          0.6628745957
                        ]
                      },
                      {
                        "test": [
                          0.7518400464,
                          0.6797908328
                        ],
                        "passed_time": 2.595599277,
                        "iteration": 154,
                        "remaining_time": 5.777301617,
                        "learn": [
                          0.7583589268,
                          0.6627700419
                        ]
                      },
                      {
                        "test": [
                          0.7519559548,
                          0.6797845449
                        ],
                        "passed_time": 2.650384474,
                        "iteration": 155,
                        "remaining_time": 5.844437559,
                        "learn": [
                          0.7583299531,
                          0.6627022913
                        ]
                      },
                      {
                        "test": [
                          0.7519559548,
                          0.6797866124
                        ],
                        "passed_time": 2.694806247,
                        "iteration": 156,
                        "remaining_time": 5.887379254,
                        "learn": [
                          0.7584168743,
                          0.6626221424
                        ]
                      },
                      {
                        "test": [
                          0.752013909,
                          0.6797832545
                        ],
                        "passed_time": 2.718693127,
                        "iteration": 157,
                        "remaining_time": 5.884766135,
                        "learn": [
                          0.7583299531,
                          0.6625057228
                        ]
                      },
                      {
                        "test": [
                          0.7519559548,
                          0.6798056393
                        ],
                        "passed_time": 2.753465953,
                        "iteration": 158,
                        "remaining_time": 5.905232011,
                        "learn": [
                          0.7583879006,
                          0.6624176512
                        ]
                      },
                      {
                        "test": [
                          0.7519559548,
                          0.6798233975
                        ],
                        "passed_time": 2.773801958,
                        "iteration": 159,
                        "remaining_time": 5.894329161,
                        "learn": [
                          0.7585617431,
                          0.6623276192
                        ]
                      },
                      {
                        "test": [
                          0.7522457259,
                          0.6798484049
                        ],
                        "passed_time": 2.803117419,
                        "iteration": 160,
                        "remaining_time": 5.90221618,
                        "learn": [
                          0.7586776381,
                          0.6621875583
                        ]
                      },
                      {
                        "test": [
                          0.7520718632,
                          0.6798450942
                        ],
                        "passed_time": 2.817574862,
                        "iteration": 161,
                        "remaining_time": 5.878643848,
                        "learn": [
                          0.7585907168,
                          0.6620949326
                        ]
                      },
                      {
                        "test": [
                          0.752013909,
                          0.6798664634
                        ],
                        "passed_time": 2.83302701,
                        "iteration": 162,
                        "remaining_time": 5.857239892,
                        "learn": [
                          0.7585617431,
                          0.6619824302
                        ]
                      },
                      {
                        "test": [
                          0.7520718632,
                          0.6798763838
                        ],
                        "passed_time": 2.848019842,
                        "iteration": 163,
                        "remaining_time": 5.834967481,
                        "learn": [
                          0.7586486643,
                          0.6619052635
                        ]
                      },
                      {
                        "test": [
                          0.7521877717,
                          0.6798514438
                        ],
                        "passed_time": 2.861709213,
                        "iteration": 164,
                        "remaining_time": 5.810136887,
                        "learn": [
                          0.7589384018,
                          0.6618243465
                        ]
                      },
                      {
                        "test": [
                          0.7521298174,
                          0.6798647331
                        ],
                        "passed_time": 2.876014127,
                        "iteration": 165,
                        "remaining_time": 5.786679026,
                        "learn": [
                          0.7589094281,
                          0.6617447658
                        ]
                      },
                      {
                        "test": [
                          0.7521877717,
                          0.6798787596
                        ],
                        "passed_time": 2.890011866,
                        "iteration": 166,
                        "remaining_time": 5.762718271,
                        "learn": [
                          0.7590253231,
                          0.6616480271
                        ]
                      },
                      {
                        "test": [
                          0.7522457259,
                          0.6798684098
                        ],
                        "passed_time": 2.903895217,
                        "iteration": 167,
                        "remaining_time": 5.738650072,
                        "learn": [
                          0.7591701918,
                          0.6615696704
                        ]
                      },
                      {
                        "test": [
                          0.752013909,
                          0.6798584206
                        ],
                        "passed_time": 2.918041653,
                        "iteration": 168,
                        "remaining_time": 5.715217675,
                        "learn": [
                          0.7591701918,
                          0.6615228548
                        ]
                      },
                      {
                        "test": [
                          0.7521877717,
                          0.6798559158
                        ],
                        "passed_time": 2.932626038,
                        "iteration": 169,
                        "remaining_time": 5.692744663,
                        "learn": [
                          0.7591701918,
                          0.6614536798
                        ]
                      },
                      {
                        "test": [
                          0.7520718632,
                          0.6798550959
                        ],
                        "passed_time": 2.946347175,
                        "iteration": 170,
                        "remaining_time": 5.668703044,
                        "learn": [
                          0.7593440343,
                          0.6613740273
                        ]
                      },
                      {
                        "test": [
                          0.7520718632,
                          0.6798701448
                        ],
                        "passed_time": 2.960602915,
                        "iteration": 171,
                        "remaining_time": 5.645800907,
                        "learn": [
                          0.7593150606,
                          0.6612722659
                        ]
                      },
                      {
                        "test": [
                          0.7522457259,
                          0.6798442222
                        ],
                        "passed_time": 2.975210805,
                        "iteration": 172,
                        "remaining_time": 5.623664353,
                        "learn": [
                          0.7594309556,
                          0.6611707293
                        ]
                      },
                      {
                        "test": [
                          0.7521877717,
                          0.6798149667
                        ],
                        "passed_time": 2.98928323,
                        "iteration": 173,
                        "remaining_time": 5.600611108,
                        "learn": [
                          0.7593440343,
                          0.6610974146
                        ]
                      },
                      {
                        "test": [
                          0.7520718632,
                          0.6798133196
                        ],
                        "passed_time": 3.00324014,
                        "iteration": 174,
                        "remaining_time": 5.577445975,
                        "learn": [
                          0.7593730081,
                          0.6610180611
                        ]
                      },
                      {
                        "test": [
                          0.7518980006,
                          0.6798218278
                        ],
                        "passed_time": 3.017391834,
                        "iteration": 175,
                        "remaining_time": 5.554744057,
                        "learn": [
                          0.7593440343,
                          0.6609399915
                        ]
                      },
                      {
                        "test": [
                          0.7517820921,
                          0.6798177462
                        ],
                        "passed_time": 3.032070614,
                        "iteration": 176,
                        "remaining_time": 5.533100611,
                        "learn": [
                          0.7593440343,
                          0.6608618313
                        ]
                      },
                      {
                        "test": [
                          0.7518400464,
                          0.6798374799
                        ],
                        "passed_time": 3.04918661,
                        "iteration": 177,
                        "remaining_time": 5.515944317,
                        "learn": [
                          0.7593150606,
                          0.6607396776
                        ]
                      },
                      {
                        "test": [
                          0.7517241379,
                          0.6798098937
                        ],
                        "passed_time": 3.063140696,
                        "iteration": 178,
                        "remaining_time": 5.493118231,
                        "learn": [
                          0.7593730081,
                          0.6606648324
                        ]
                      },
                      {
                        "test": [
                          0.7516661837,
                          0.6797228859
                        ],
                        "passed_time": 3.078259252,
                        "iteration": 179,
                        "remaining_time": 5.472460893,
                        "learn": [
                          0.7593150606,
                          0.6605378221
                        ]
                      },
                      {
                        "test": [
                          0.7515502753,
                          0.6796992544
                        ],
                        "passed_time": 3.093408348,
                        "iteration": 180,
                        "remaining_time": 5.45191858,
                        "learn": [
                          0.7594309556,
                          0.6604484775
                        ]
                      },
                      {
                        "test": [
                          0.7514343669,
                          0.6797115923
                        ],
                        "passed_time": 3.107128267,
                        "iteration": 181,
                        "remaining_time": 5.4289384,
                        "learn": [
                          0.7595178768,
                          0.6603546167
                        ]
                      },
                      {
                        "test": [
                          0.7514923211,
                          0.6797241176
                        ],
                        "passed_time": 3.121296825,
                        "iteration": 182,
                        "remaining_time": 5.406836576,
                        "learn": [
                          0.7596047981,
                          0.6602855594
                        ]
                      },
                      {
                        "test": [
                          0.7514343669,
                          0.6797262379
                        ],
                        "passed_time": 3.134971475,
                        "iteration": 183,
                        "remaining_time": 5.38397275,
                        "learn": [
                          0.7595178768,
                          0.6602254621
                        ]
                      },
                      {
                        "test": [
                          0.7514923211,
                          0.6797034094
                        ],
                        "passed_time": 3.149439578,
                        "iteration": 184,
                        "remaining_time": 5.362559281,
                        "learn": [
                          0.7595758243,
                          0.6601494576
                        ]
                      },
                      {
                        "test": [
                          0.7516661837,
                          0.6797131353
                        ],
                        "passed_time": 3.163780953,
                        "iteration": 185,
                        "remaining_time": 5.341006554,
                        "learn": [
                          0.7595758243,
                          0.6600361596
                        ]
                      },
                      {
                        "test": [
                          0.7517241379,
                          0.6797451302
                        ],
                        "passed_time": 3.177887938,
                        "iteration": 186,
                        "remaining_time": 5.319138633,
                        "learn": [
                          0.7594599293,
                          0.6599504366
                        ]
                      },
                      {
                        "test": [
                          0.752013909,
                          0.6797029181
                        ],
                        "passed_time": 3.191940166,
                        "iteration": 187,
                        "remaining_time": 5.297262404,
                        "learn": [
                          0.7596917193,
                          0.6598092171
                        ]
                      },
                      {
                        "test": [
                          0.7519559548,
                          0.6797125064
                        ],
                        "passed_time": 3.206123042,
                        "iteration": 188,
                        "remaining_time": 5.275683947,
                        "learn": [
                          0.7596337718,
                          0.6597538836
                        ]
                      },
                      {
                        "test": [
                          0.7517820921,
                          0.6797242498
                        ],
                        "passed_time": 3.219791597,
                        "iteration": 189,
                        "remaining_time": 5.253344185,
                        "learn": [
                          0.7597206931,
                          0.6596745989
                        ]
                      },
                      {
                        "test": [
                          0.7515502753,
                          0.6797133444
                        ],
                        "passed_time": 3.233909641,
                        "iteration": 190,
                        "remaining_time": 5.231822403,
                        "learn": [
                          0.7596627456,
                          0.6596097946
                        ]
                      },
                      {
                        "test": [
                          0.7517820921,
                          0.6797345707
                        ],
                        "passed_time": 3.248973653,
                        "iteration": 191,
                        "remaining_time": 5.211895235,
                        "learn": [
                          0.7598076143,
                          0.6595085527
                        ]
                      },
                      {
                        "test": [
                          0.7518400464,
                          0.6797649987
                        ],
                        "passed_time": 3.263657068,
                        "iteration": 192,
                        "remaining_time": 5.191413056,
                        "learn": [
                          0.7597786406,
                          0.6594115139
                        ]
                      },
                      {
                        "test": [
                          0.7520718632,
                          0.6797251254
                        ],
                        "passed_time": 3.27819417,
                        "iteration": 193,
                        "remaining_time": 5.170759876,
                        "learn": [
                          0.7597496668,
                          0.6593071116
                        ]
                      },
                      {
                        "test": [
                          0.7522457259,
                          0.6797161028
                        ],
                        "passed_time": 3.292893984,
                        "iteration": 194,
                        "remaining_time": 5.150423924,
                        "learn": [
                          0.7597786406,
                          0.6592499967
                        ]
                      },
                      {
                        "test": [
                          0.7521298174,
                          0.6797612214
                        ],
                        "passed_time": 3.307363943,
                        "iteration": 195,
                        "remaining_time": 5.129788973,
                        "learn": [
                          0.7600394043,
                          0.659139568
                        ]
                      },
                      {
                        "test": [
                          0.7519559548,
                          0.6797475344
                        ],
                        "passed_time": 3.321978171,
                        "iteration": 196,
                        "remaining_time": 5.109438507,
                        "learn": [
                          0.7600973518,
                          0.6590345788
                        ]
                      },
                      {
                        "test": [
                          0.7519559548,
                          0.6797359287
                        ],
                        "passed_time": 3.340061693,
                        "iteration": 197,
                        "remaining_time": 5.094437532,
                        "learn": [
                          0.7600104305,
                          0.6589286574
                        ]
                      },
                      {
                        "test": [
                          0.7519559548,
                          0.6797715229
                        ],
                        "passed_time": 3.354167752,
                        "iteration": 198,
                        "remaining_time": 5.073389413,
                        "learn": [
                          0.7601263255,
                          0.6588488243
                        ]
                      },
                      {
                        "test": [
                          0.7517241379,
                          0.679757988
                        ],
                        "passed_time": 3.368856125,
                        "iteration": 199,
                        "remaining_time": 5.053284188,
                        "learn": [
                          0.7601552993,
                          0.6587655128
                        ]
                      },
                      {
                        "test": [
                          0.7516082295,
                          0.6797591169
                        ],
                        "passed_time": 3.385387285,
                        "iteration": 200,
                        "remaining_time": 5.035974121,
                        "learn": [
                          0.7602132468,
                          0.658657975
                        ]
                      },
                      {
                        "test": [
                          0.7514923211,
                          0.6797980001
                        ],
                        "passed_time": 3.401462668,
                        "iteration": 201,
                        "remaining_time": 5.017999381,
                        "learn": [
                          0.7601263255,
                          0.6585803159
                        ]
                      },
                      {
                        "test": [
                          0.7517820921,
                          0.6798331366
                        ],
                        "passed_time": 3.415561953,
                        "iteration": 202,
                        "remaining_time": 4.997152217,
                        "learn": [
                          0.7601552993,
                          0.65848182
                        ]
                      },
                      {
                        "test": [
                          0.7514923211,
                          0.6798391214
                        ],
                        "passed_time": 3.430251967,
                        "iteration": 203,
                        "remaining_time": 4.977228344,
                        "learn": [
                          0.7600973518,
                          0.6583447258
                        ]
                      },
                      {
                        "test": [
                          0.7516661837,
                          0.6798028738
                        ],
                        "passed_time": 3.445029932,
                        "iteration": 204,
                        "remaining_time": 4.957482097,
                        "learn": [
                          0.7602132468,
                          0.6581928187
                        ]
                      },
                      {
                        "test": [
                          0.7517241379,
                          0.6798193241
                        ],
                        "passed_time": 3.459864956,
                        "iteration": 205,
                        "remaining_time": 4.937865519,
                        "learn": [
                          0.7603291418,
                          0.6581036182
                        ]
                      },
                      {
                        "test": [
                          0.7516082295,
                          0.6798217602
                        ],
                        "passed_time": 3.474469418,
                        "iteration": 206,
                        "remaining_time": 4.91796879,
                        "learn": [
                          0.760531958,
                          0.6580394716
                        ]
                      },
                      {
                        "test": [
                          0.7516661837,
                          0.6798161646
                        ],
                        "passed_time": 3.490314747,
                        "iteration": 207,
                        "remaining_time": 4.899864933,
                        "learn": [
                          0.7605899055,
                          0.6579119843
                        ]
                      },
                      {
                        "test": [
                          0.7517241379,
                          0.6797665423
                        ],
                        "passed_time": 3.505072008,
                        "iteration": 208,
                        "remaining_time": 4.880267724,
                        "learn": [
                          0.7604740105,
                          0.6578317686
                        ]
                      },
                      {
                        "test": [
                          0.7516082295,
                          0.6797805613
                        ],
                        "passed_time": 3.520246344,
                        "iteration": 209,
                        "remaining_time": 4.86129257,
                        "learn": [
                          0.7603870893,
                          0.6577026608
                        ]
                      },
                      {
                        "test": [
                          0.7516661837,
                          0.6797358927
                        ],
                        "passed_time": 3.535668842,
                        "iteration": 210,
                        "remaining_time": 4.842693343,
                        "learn": [
                          0.7603870893,
                          0.6575501295
                        ]
                      },
                      {
                        "test": [
                          0.7516661837,
                          0.6797740869
                        ],
                        "passed_time": 3.550432817,
                        "iteration": 211,
                        "remaining_time": 4.823229487,
                        "learn": [
                          0.7603581155,
                          0.6574915606
                        ]
                      },
                      {
                        "test": [
                          0.7517820921,
                          0.6797844495
                        ],
                        "passed_time": 3.564781638,
                        "iteration": 212,
                        "remaining_time": 4.803250376,
                        "learn": [
                          0.760531958,
                          0.6574356161
                        ]
                      },
                      {
                        "test": [
                          0.7517241379,
                          0.6797825001
                        ],
                        "passed_time": 3.579759357,
                        "iteration": 213,
                        "remaining_time": 4.784164375,
                        "learn": [
                          0.7605609318,
                          0.6573677923
                        ]
                      },
                      {
                        "test": [
                          0.7518400464,
                          0.6797641242
                        ],
                        "passed_time": 3.593886459,
                        "iteration": 214,
                        "remaining_time": 4.763989027,
                        "learn": [
                          0.7605609318,
                          0.657306893
                        ]
                      },
                      {
                        "test": [
                          0.7517820921,
                          0.6797669846
                        ],
                        "passed_time": 3.607678197,
                        "iteration": 215,
                        "remaining_time": 4.743428741,
                        "learn": [
                          0.7607058005,
                          0.6572316148
                        ]
                      },
                      {
                        "test": [
                          0.7518400464,
                          0.679724439
                        ],
                        "passed_time": 3.62234271,
                        "iteration": 216,
                        "remaining_time": 4.724069064,
                        "learn": [
                          0.760647853,
                          0.6571516152
                        ]
                      },
                      {
                        "test": [
                          0.7518400464,
                          0.6797106256
                        ],
                        "passed_time": 3.636928527,
                        "iteration": 217,
                        "remaining_time": 4.704650663,
                        "learn": [
                          0.7606768268,
                          0.657028365
                        ]
                      },
                      {
                        "test": [
                          0.7519559548,
                          0.6797591337
                        ],
                        "passed_time": 3.65180598,
                        "iteration": 218,
                        "remaining_time": 4.685650595,
                        "learn": [
                          0.760531958,
                          0.6568972923
                        ]
                      },
                      {
                        "test": [
                          0.7518980006,
                          0.6797515341
                        ],
                        "passed_time": 3.668308752,
                        "iteration": 219,
                        "remaining_time": 4.668756593,
                        "learn": [
                          0.760763748,
                          0.6567716257
                        ]
                      },
                      {
                        "test": [
                          0.7514923211,
                          0.6797681389
                        ],
                        "passed_time": 3.72234673,
                        "iteration": 220,
                        "remaining_time": 4.699252206,
                        "learn": [
                          0.7606188793,
                          0.6566656284
                        ]
                      },
                      {
                        "test": [
                          0.7515502753,
                          0.6798043011
                        ],
                        "passed_time": 3.787783451,
                        "iteration": 221,
                        "remaining_time": 4.743260358,
                        "learn": [
                          0.7607347743,
                          0.6565406472
                        ]
                      },
                      {
                        "test": [
                          0.7516661837,
                          0.6798331849
                        ],
                        "passed_time": 3.821677019,
                        "iteration": 222,
                        "remaining_time": 4.747105535,
                        "learn": [
                          0.7606768268,
                          0.6564592026
                        ]
                      },
                      {
                        "test": [
                          0.7517241379,
                          0.67983413
                        ],
                        "passed_time": 3.853517863,
                        "iteration": 223,
                        "remaining_time": 4.74808451,
                        "learn": [
                          0.7605899055,
                          0.6563913721
                        ]
                      },
                      {
                        "test": [
                          0.7514343669,
                          0.6798208362
                        ],
                        "passed_time": 3.888678206,
                        "iteration": 224,
                        "remaining_time": 4.752828919,
                        "learn": [
                          0.7608216955,
                          0.656301349
                        ]
                      },
                      {
                        "test": [
                          0.7514923211,
                          0.6798167214
                        ],
                        "passed_time": 3.920156736,
                        "iteration": 225,
                        "remaining_time": 4.752756397,
                        "learn": [
                          0.7608506693,
                          0.6562462834
                        ]
                      },
                      {
                        "test": [
                          0.7515502753,
                          0.6798251621
                        ],
                        "passed_time": 3.935311054,
                        "iteration": 226,
                        "remaining_time": 4.732774968,
                        "learn": [
                          0.760879643,
                          0.6561758992
                        ]
                      },
                      {
                        "test": [
                          0.7517820921,
                          0.6797876532
                        ],
                        "passed_time": 3.950539838,
                        "iteration": 227,
                        "remaining_time": 4.71292472,
                        "learn": [
                          0.7609375905,
                          0.656099043
                        ]
                      },
                      {
                        "test": [
                          0.7517241379,
                          0.6797819601
                        ],
                        "passed_time": 3.964987185,
                        "iteration": 228,
                        "remaining_time": 4.692190074,
                        "learn": [
                          0.7609375905,
                          0.6560195094
                        ]
                      },
                      {
                        "test": [
                          0.7514343669,
                          0.6798196229
                        ],
                        "passed_time": 3.980330893,
                        "iteration": 229,
                        "remaining_time": 4.672562353,
                        "learn": [
                          0.7610245118,
                          0.6559432854
                        ]
                      },
                      {
                        "test": [
                          0.7514343669,
                          0.6798128907
                        ],
                        "passed_time": 3.995045366,
                        "iteration": 230,
                        "remaining_time": 4.652238976,
                        "learn": [
                          0.760995538,
                          0.6558274602
                        ]
                      },
                      {
                        "test": [
                          0.7515502753,
                          0.679789615
                        ],
                        "passed_time": 4.008342739,
                        "iteration": 231,
                        "remaining_time": 4.630326957,
                        "learn": [
                          0.760995538,
                          0.6557537367
                        ]
                      },
                      {
                        "test": [
                          0.7514343669,
                          0.6797970849
                        ],
                        "passed_time": 4.022548652,
                        "iteration": 232,
                        "remaining_time": 4.609530001,
                        "learn": [
                          0.7610824593,
                          0.6556795172
                        ]
                      },
                      {
                        "test": [
                          0.7512605042,
                          0.6797468331
                        ],
                        "passed_time": 4.037656951,
                        "iteration": 233,
                        "remaining_time": 4.589815167,
                        "learn": [
                          0.7612563018,
                          0.6555662597
                        ]
                      },
                      {
                        "test": [
                          0.7510866416,
                          0.6797409117
                        ],
                        "passed_time": 4.052596862,
                        "iteration": 234,
                        "remaining_time": 4.569949653,
                        "learn": [
                          0.7613721968,
                          0.6554672714
                        ]
                      },
                      {
                        "test": [
                          0.7514923211,
                          0.6797004401
                        ],
                        "passed_time": 4.067999794,
                        "iteration": 235,
                        "remaining_time": 4.550643837,
                        "learn": [
                          0.7614301443,
                          0.6553340181
                        ]
                      },
                      {
                        "test": [
                          0.7513764126,
                          0.6797243636
                        ],
                        "passed_time": 4.083034551,
                        "iteration": 236,
                        "remaining_time": 4.530962392,
                        "learn": [
                          0.7613142493,
                          0.6552175036
                        ]
                      },
                      {
                        "test": [
                          0.7512605042,
                          0.6797052548
                        ],
                        "passed_time": 4.098280296,
                        "iteration": 237,
                        "remaining_time": 4.511552259,
                        "learn": [
                          0.7615460393,
                          0.6551209111
                        ]
                      },
                      {
                        "test": [
                          0.7513184584,
                          0.6797294619
                        ],
                        "passed_time": 4.112496591,
                        "iteration": 238,
                        "remaining_time": 4.491052762,
                        "learn": [
                          0.7617488555,
                          0.6550433417
                        ]
                      },
                      {
                        "test": [
                          0.7512605042,
                          0.679731579
                        ],
                        "passed_time": 4.127283835,
                        "iteration": 239,
                        "remaining_time": 4.471224154,
                        "learn": [
                          0.7615170655,
                          0.6548964752
                        ]
                      },
                      {
                        "test": [
                          0.7511445958,
                          0.679716709
                        ],
                        "passed_time": 4.140938423,
                        "iteration": 240,
                        "remaining_time": 4.450220131,
                        "learn": [
                          0.7617778293,
                          0.6548451412
                        ]
                      },
                      {
                        "test": [
                          0.7512605042,
                          0.6797169086
                        ],
                        "passed_time": 4.154974981,
                        "iteration": 241,
                        "remaining_time": 4.42968407,
                        "learn": [
                          0.7617778293,
                          0.6547702557
                        ]
                      },
                      {
                        "test": [
                          0.7512605042,
                          0.6797318753
                        ],
                        "passed_time": 4.169597904,
                        "iteration": 242,
                        "remaining_time": 4.409821652,
                        "learn": [
                          0.761690908,
                          0.6546852632
                        ]
                      },
                      {
                        "test": [
                          0.7515502753,
                          0.6797567391
                        ],
                        "passed_time": 4.183639327,
                        "iteration": 243,
                        "remaining_time": 4.389392081,
                        "learn": [
                          0.7617488555,
                          0.6545865371
                        ]
                      },
                      {
                        "test": [
                          0.7516661837,
                          0.6798039769
                        ],
                        "passed_time": 4.198116003,
                        "iteration": 244,
                        "remaining_time": 4.369467677,
                        "learn": [
                          0.761806803,
                          0.6544944379
                        ]
                      },
                      {
                        "test": [
                          0.7516661837,
                          0.6798172527
                        ],
                        "passed_time": 4.212885701,
                        "iteration": 245,
                        "remaining_time": 4.349890114,
                        "learn": [
                          0.7619516718,
                          0.6544215882
                        ]
                      },
                      {
                        "test": [
                          0.7514923211,
                          0.6798112824
                        ],
                        "passed_time": 4.227280734,
                        "iteration": 246,
                        "remaining_time": 4.329967716,
                        "learn": [
                          0.7618357768,
                          0.6543256207
                        ]
                      },
                      {
                        "test": [
                          0.75120255,
                          0.6798158906
                        ],
                        "passed_time": 4.241358435,
                        "iteration": 247,
                        "remaining_time": 4.309767442,
                        "learn": [
                          0.762038593,
                          0.6542693385
                        ]
                      },
                      {
                        "test": [
                          0.7513184584,
                          0.6798156762
                        ],
                        "passed_time": 4.255834925,
                        "iteration": 248,
                        "remaining_time": 4.290018338,
                        "learn": [
                          0.7622124355,
                          0.654184465
                        ]
                      },
                      {
                        "test": [
                          0.7513184584,
                          0.6798347425
                        ],
                        "passed_time": 4.269401979,
                        "iteration": 249,
                        "remaining_time": 4.269401979,
                        "learn": [
                          0.7621255143,
                          0.6541062299
                        ]
                      },
                      {
                        "test": [
                          0.7512605042,
                          0.6798212053
                        ],
                        "passed_time": 4.28407233,
                        "iteration": 250,
                        "remaining_time": 4.249936296,
                        "learn": [
                          0.762154488,
                          0.6540397714
                        ]
                      },
                      {
                        "test": [
                          0.7512605042,
                          0.6798054854
                        ],
                        "passed_time": 4.29886048,
                        "iteration": 251,
                        "remaining_time": 4.230624599,
                        "learn": [
                          0.762154488,
                          0.6539736412
                        ]
                      },
                      {
                        "test": [
                          0.7513764126,
                          0.6798275427
                        ],
                        "passed_time": 4.312985317,
                        "iteration": 252,
                        "remaining_time": 4.21070108,
                        "learn": [
                          0.7621834618,
                          0.6539204123
                        ]
                      },
                      {
                        "test": [
                          0.7514343669,
                          0.6798194498
                        ],
                        "passed_time": 4.328362316,
                        "iteration": 253,
                        "remaining_time": 4.192035944,
                        "learn": [
                          0.7621834618,
                          0.6538816435
                        ]
                      },
                      {
                        "test": [
                          0.7514343669,
                          0.6798401338
                        ],
                        "passed_time": 4.342628884,
                        "iteration": 254,
                        "remaining_time": 4.172329712,
                        "learn": [
                          0.7622124355,
                          0.6538139319
                        ]
                      },
                      {
                        "test": [
                          0.7516082295,
                          0.6797924022
                        ],
                        "passed_time": 4.357704579,
                        "iteration": 255,
                        "remaining_time": 4.153437177,
                        "learn": [
                          0.7623573043,
                          0.6537166714
                        ]
                      },
                      {
                        "test": [
                          0.7514923211,
                          0.6797944104
                        ],
                        "passed_time": 4.37206952,
                        "iteration": 256,
                        "remaining_time": 4.133902309,
                        "learn": [
                          0.7623573043,
                          0.6536423645
                        ]
                      },
                      {
                        "test": [
                          0.7517820921,
                          0.6797875306
                        ],
                        "passed_time": 4.386693325,
                        "iteration": 257,
                        "remaining_time": 4.114650328,
                        "learn": [
                          0.7624152518,
                          0.6535311377
                        ]
                      },
                      {
                        "test": [
                          0.7518400464,
                          0.6798113653
                        ],
                        "passed_time": 4.400763353,
                        "iteration": 258,
                        "remaining_time": 4.094918796,
                        "learn": [
                          0.7625601205,
                          0.6534269989
                        ]
                      },
                      {
                        "test": [
                          0.7517241379,
                          0.6798170703
                        ],
                        "passed_time": 4.415275336,
                        "iteration": 259,
                        "remaining_time": 4.075638772,
                        "learn": [
                          0.7625601205,
                          0.653356905
                        ]
                      },
                      {
                        "test": [
                          0.7517820921,
                          0.6798001151
                        ],
                        "passed_time": 4.430631964,
                        "iteration": 260,
                        "remaining_time": 4.057168733,
                        "learn": [
                          0.7625890943,
                          0.6532933529
                        ]
                      },
                      {
                        "test": [
                          0.7516661837,
                          0.6798111586
                        ],
                        "passed_time": 4.444507472,
                        "iteration": 261,
                        "remaining_time": 4.037377017,
                        "learn": [
                          0.7626470418,
                          0.653207333
                        ]
                      },
                      {
                        "test": [
                          0.7516082295,
                          0.6798289166
                        ],
                        "passed_time": 4.45934845,
                        "iteration": 262,
                        "remaining_time": 4.018500314,
                        "learn": [
                          0.762502173,
                          0.6531137224
                        ]
                      },
                      {
                        "test": [
                          0.7515502753,
                          0.6798331605
                        ],
                        "passed_time": 4.474298411,
                        "iteration": 263,
                        "remaining_time": 3.99975161,
                        "learn": [
                          0.7624731993,
                          0.6530588389
                        ]
                      },
                      {
                        "test": [
                          0.7517820921,
                          0.6798251917
                        ],
                        "passed_time": 4.48971209,
                        "iteration": 264,
                        "remaining_time": 3.981442796,
                        "learn": [
                          0.762618068,
                          0.6529452698
                        ]
                      },
                      {
                        "test": [
                          0.7517820921,
                          0.6798127832
                        ],
                        "passed_time": 4.503897379,
                        "iteration": 265,
                        "remaining_time": 3.962075138,
                        "learn": [
                          0.7626470418,
                          0.6528649892
                        ]
                      },
                      {
                        "test": [
                          0.7517820921,
                          0.6798282627
                        ],
                        "passed_time": 4.521435677,
                        "iteration": 266,
                        "remaining_time": 3.945672333,
                        "learn": [
                          0.7625601205,
                          0.6527701121
                        ]
                      },
                      {
                        "test": [
                          0.7517241379,
                          0.6798536833
                        ],
                        "passed_time": 4.536073944,
                        "iteration": 267,
                        "remaining_time": 3.926750578,
                        "learn": [
                          0.7627629368,
                          0.6526973709
                        ]
                      },
                      {
                        "test": [
                          0.7520718632,
                          0.679889071
                        ],
                        "passed_time": 4.550296828,
                        "iteration": 268,
                        "remaining_time": 3.907503968,
                        "learn": [
                          0.7627919105,
                          0.652632059
                        ]
                      },
                      {
                        "test": [
                          0.7521298174,
                          0.6798906281
                        ],
                        "passed_time": 4.565636879,
                        "iteration": 269,
                        "remaining_time": 3.88924623,
                        "learn": [
                          0.7628208843,
                          0.6525147315
                        ]
                      },
                      {
                        "test": [
                          0.7521877717,
                          0.679889609
                        ],
                        "passed_time": 4.580784114,
                        "iteration": 270,
                        "remaining_time": 3.870847093,
                        "learn": [
                          0.762849858,
                          0.6524050253
                        ]
                      },
                      {
                        "test": [
                          0.7519559548,
                          0.6799077072
                        ],
                        "passed_time": 4.594891508,
                        "iteration": 271,
                        "remaining_time": 3.851600235,
                        "learn": [
                          0.7628788318,
                          0.6523414976
                        ]
                      },
                      {
                        "test": [
                          0.7520718632,
                          0.679894664
                        ],
                        "passed_time": 4.608520055,
                        "iteration": 272,
                        "remaining_time": 3.831992866,
                        "learn": [
                          0.762965753,
                          0.6522692613
                        ]
                      },
                      {
                        "test": [
                          0.7518400464,
                          0.679876727
                        ],
                        "passed_time": 4.623247669,
                        "iteration": 273,
                        "remaining_time": 3.813335669,
                        "learn": [
                          0.762965753,
                          0.6521987908
                        ]
                      },
                      {
                        "test": [
                          0.7516661837,
                          0.6799349144
                        ],
                        "passed_time": 4.637921901,
                        "iteration": 274,
                        "remaining_time": 3.794663373,
                        "learn": [
                          0.7628208843,
                          0.6520562115
                        ]
                      },
                      {
                        "test": [
                          0.7517820921,
                          0.6799405686
                        ],
                        "passed_time": 4.653554204,
                        "iteration": 275,
                        "remaining_time": 3.776797615,
                        "learn": [
                          0.7629078055,
                          0.6519788425
                        ]
                      },
                      {
                        "test": [
                          0.7518980006,
                          0.6800010174
                        ],
                        "passed_time": 4.66877706,
                        "iteration": 276,
                        "remaining_time": 3.758618355,
                        "learn": [
                          0.7631106218,
                          0.6518197937
                        ]
                      },
                      {
                        "test": [
                          0.7517820921,
                          0.6799657661
                        ],
                        "passed_time": 4.682984278,
                        "iteration": 277,
                        "remaining_time": 3.739649315,
                        "learn": [
                          0.763081648,
                          0.6517404261
                        ]
                      },
                      {
                        "test": [
                          0.7517820921,
                          0.679972598
                        ],
                        "passed_time": 4.69731486,
                        "iteration": 278,
                        "remaining_time": 3.720812129,
                        "learn": [
                          0.763197543,
                          0.6516650817
                        ]
                      },
                      {
                        "test": [
                          0.7518980006,
                          0.6799840751
                        ],
                        "passed_time": 4.711371436,
                        "iteration": 279,
                        "remaining_time": 3.701791842,
                        "learn": [
                          0.763197543,
                          0.6515885005
                        ]
                      },
                      {
                        "test": [
                          0.7517820921,
                          0.6799840959
                        ],
                        "passed_time": 4.725861823,
                        "iteration": 280,
                        "remaining_time": 3.68314498,
                        "learn": [
                          0.763197543,
                          0.651505251
                        ]
                      },
                      {
                        "test": [
                          0.7516661837,
                          0.6800254195
                        ],
                        "passed_time": 4.740503574,
                        "iteration": 281,
                        "remaining_time": 3.664644607,
                        "learn": [
                          0.7633713855,
                          0.6514277521
                        ]
                      },
                      {
                        "test": [
                          0.7515502753,
                          0.6800194745
                        ],
                        "passed_time": 4.788341678,
                        "iteration": 282,
                        "remaining_time": 3.671625951,
                        "learn": [
                          0.7634583068,
                          0.6513454653
                        ]
                      },
                      {
                        "test": [
                          0.7511445958,
                          0.680027197
                        ],
                        "passed_time": 4.862061843,
                        "iteration": 283,
                        "remaining_time": 3.69790619,
                        "learn": [
                          0.7634872805,
                          0.6512500489
                        ]
                      },
                      {
                        "test": [
                          0.7511445958,
                          0.6800591335
                        ],
                        "passed_time": 4.892677445,
                        "iteration": 284,
                        "remaining_time": 3.690967195,
                        "learn": [
                          0.7634872805,
                          0.6511278046
                        ]
                      },
                      {
                        "test": [
                          0.7514343669,
                          0.6800735714
                        ],
                        "passed_time": 4.92518452,
                        "iteration": 285,
                        "remaining_time": 3.685277928,
                        "learn": [
                          0.763661123,
                          0.6510445362
                        ]
                      },
                      {
                        "test": [
                          0.7514343669,
                          0.6800682826
                        ],
                        "passed_time": 4.940092283,
                        "iteration": 286,
                        "remaining_time": 3.666340266,
                        "learn": [
                          0.7635742018,
                          0.6509834467
                        ]
                      },
                      {
                        "test": [
                          0.7513764126,
                          0.6800711342
                        ],
                        "passed_time": 4.954321187,
                        "iteration": 287,
                        "remaining_time": 3.646930874,
                        "learn": [
                          0.763545228,
                          0.6509246904
                        ]
                      },
                      {
                        "test": [
                          0.7513184584,
                          0.6800676434
                        ],
                        "passed_time": 4.9685486,
                        "iteration": 288,
                        "remaining_time": 3.627556245,
                        "learn": [
                          0.7636900968,
                          0.6508277264
                        ]
                      },
                      {
                        "test": [
                          0.7514343669,
                          0.6800851873
                        ],
                        "passed_time": 4.983369678,
                        "iteration": 289,
                        "remaining_time": 3.608647008,
                        "learn": [
                          0.7638059918,
                          0.650739655
                        ]
                      },
                      {
                        "test": [
                          0.7513184584,
                          0.6800976998
                        ],
                        "passed_time": 4.997474963,
                        "iteration": 290,
                        "remaining_time": 3.589251777,
                        "learn": [
                          0.7638059918,
                          0.6506668255
                        ]
                      },
                      {
                        "test": [
                          0.7513184584,
                          0.6800909951
                        ],
                        "passed_time": 5.012443447,
                        "iteration": 291,
                        "remaining_time": 3.570507661,
                        "learn": [
                          0.7637480443,
                          0.6506169924
                        ]
                      },
                      {
                        "test": [
                          0.7513184584,
                          0.680078361
                        ],
                        "passed_time": 5.027353948,
                        "iteration": 292,
                        "remaining_time": 3.551748352,
                        "learn": [
                          0.763892913,
                          0.6505676036
                        ]
                      },
                      {
                        "test": [
                          0.7511445958,
                          0.6800901743
                        ],
                        "passed_time": 5.042007754,
                        "iteration": 293,
                        "remaining_time": 3.532835365,
                        "learn": [
                          0.7640667555,
                          0.6504983272
                        ]
                      },
                      {
                        "test": [
                          0.75120255,
                          0.6800892985
                        ],
                        "passed_time": 5.056080741,
                        "iteration": 294,
                        "remaining_time": 3.513547634,
                        "learn": [
                          0.7639508605,
                          0.6504518992
                        ]
                      },
                      {
                        "test": [
                          0.7509707331,
                          0.6801029868
                        ],
                        "passed_time": 5.070167575,
                        "iteration": 295,
                        "remaining_time": 3.49430468,
                        "learn": [
                          0.764008808,
                          0.65039818
                        ]
                      },
                      {
                        "test": [
                          0.7510286873,
                          0.6800226086
                        ],
                        "passed_time": 5.085478966,
                        "iteration": 296,
                        "remaining_time": 3.475933435,
                        "learn": [
                          0.764008808,
                          0.6502300157
                        ]
                      },
                      {
                        "test": [
                          0.7509127789,
                          0.6800182762
                        ],
                        "passed_time": 5.099633999,
                        "iteration": 297,
                        "remaining_time": 3.456798885,
                        "learn": [
                          0.7639798343,
                          0.6501518073
                        ]
                      },
                      {
                        "test": [
                          0.7509127789,
                          0.6800133764
                        ],
                        "passed_time": 5.113674442,
                        "iteration": 298,
                        "remaining_time": 3.437620612,
                        "learn": [
                          0.7640667555,
                          0.6500671905
                        ]
                      },
                      {
                        "test": [
                          0.7509127789,
                          0.6799981348
                        ],
                        "passed_time": 5.127854753,
                        "iteration": 299,
                        "remaining_time": 3.418569835,
                        "learn": [
                          0.7641826505,
                          0.6500048858
                        ]
                      },
                      {
                        "test": [
                          0.7511445958,
                          0.6799985203
                        ],
                        "passed_time": 5.142541401,
                        "iteration": 300,
                        "remaining_time": 3.399886175,
                        "learn": [
                          0.7641536768,
                          0.6499329322
                        ]
                      },
                      {
                        "test": [
                          0.7510866416,
                          0.6799918445
                        ],
                        "passed_time": 5.156343468,
                        "iteration": 301,
                        "remaining_time": 3.380649029,
                        "learn": [
                          0.7642116243,
                          0.6498950182
                        ]
                      },
                      {
                        "test": [
                          0.7512605042,
                          0.6800078423
                        ],
                        "passed_time": 5.170420719,
                        "iteration": 302,
                        "remaining_time": 3.361626672,
                        "learn": [
                          0.7644144405,
                          0.6498159958
                        ]
                      },
                      {
                        "test": [
                          0.7514923211,
                          0.680024672
                        ],
                        "passed_time": 5.184846879,
                        "iteration": 303,
                        "remaining_time": 3.342861803,
                        "learn": [
                          0.7644144405,
                          0.649739895
                        ]
                      },
                      {
                        "test": [
                          0.7516082295,
                          0.6800197729
                        ],
                        "passed_time": 5.199200591,
                        "iteration": 304,
                        "remaining_time": 3.324079066,
                        "learn": [
                          0.7642116243,
                          0.6496986886
                        ]
                      },
                      {
                        "test": [
                          0.7514343669,
                          0.6800421663
                        ],
                        "passed_time": 5.213797161,
                        "iteration": 305,
                        "remaining_time": 3.305479246,
                        "learn": [
                          0.7640667555,
                          0.6496293307
                        ]
                      },
                      {
                        "test": [
                          0.7514343669,
                          0.6800479296
                        ],
                        "passed_time": 5.228990671,
                        "iteration": 306,
                        "remaining_time": 3.28728078,
                        "learn": [
                          0.7640667555,
                          0.6494680218
                        ]
                      },
                      {
                        "test": [
                          0.7516661837,
                          0.680029028
                        ],
                        "passed_time": 5.243624273,
                        "iteration": 307,
                        "remaining_time": 3.268752793,
                        "learn": [
                          0.7640957293,
                          0.6494009165
                        ]
                      },
                      {
                        "test": [
                          0.7518400464,
                          0.6800450851
                        ],
                        "passed_time": 5.257436366,
                        "iteration": 308,
                        "remaining_time": 3.24974222,
                        "learn": [
                          0.7641826505,
                          0.6493318478
                        ]
                      },
                      {
                        "test": [
                          0.7516082295,
                          0.6800786619
                        ],
                        "passed_time": 5.272257138,
                        "iteration": 309,
                        "remaining_time": 3.231383407,
                        "learn": [
                          0.7644434143,
                          0.6492381705
                        ]
                      },
                      {
                        "test": [
                          0.7514923211,
                          0.6801006968
                        ],
                        "passed_time": 5.286881672,
                        "iteration": 310,
                        "remaining_time": 3.21292809,
                        "learn": [
                          0.764472388,
                          0.649162436
                        ]
                      },
                      {
                        "test": [
                          0.7514923211,
                          0.6801211697
                        ],
                        "passed_time": 5.300486641,
                        "iteration": 311,
                        "remaining_time": 3.193882976,
                        "learn": [
                          0.7645303355,
                          0.6490972177
                        ]
                      },
                      {
                        "test": [
                          0.7513184584,
                          0.6801534919
                        ],
                        "passed_time": 5.317129563,
                        "iteration": 312,
                        "remaining_time": 3.17668763,
                        "learn": [
                          0.7644144405,
                          0.6490172279
                        ]
                      },
                      {
                        "test": [
                          0.7513764126,
                          0.6801672768
                        ],
                        "passed_time": 5.331816783,
                        "iteration": 313,
                        "remaining_time": 3.15833733,
                        "learn": [
                          0.7643854668,
                          0.6489523505
                        ]
                      },
                      {
                        "test": [
                          0.7513764126,
                          0.6801765473
                        ],
                        "passed_time": 5.345498505,
                        "iteration": 314,
                        "remaining_time": 3.139419757,
                        "learn": [
                          0.7646752043,
                          0.6488550457
                        ]
                      },
                      {
                        "test": [
                          0.7511445958,
                          0.6801986613
                        ],
                        "passed_time": 5.358803144,
                        "iteration": 315,
                        "remaining_time": 3.120315755,
                        "learn": [
                          0.7646462305,
                          0.6488035608
                        ]
                      },
                      {
                        "test": [
                          0.75120255,
                          0.6801932834
                        ],
                        "passed_time": 5.372929765,
                        "iteration": 316,
                        "remaining_time": 3.101722861,
                        "learn": [
                          0.7645593093,
                          0.6487342533
                        ]
                      },
                      {
                        "test": [
                          0.7513184584,
                          0.6801947208
                        ],
                        "passed_time": 5.386587244,
                        "iteration": 317,
                        "remaining_time": 3.082889554,
                        "learn": [
                          0.764704178,
                          0.648668821
                        ]
                      },
                      {
                        "test": [
                          0.7512605042,
                          0.6801928284
                        ],
                        "passed_time": 5.402641433,
                        "iteration": 318,
                        "remaining_time": 3.065448587,
                        "learn": [
                          0.7645593093,
                          0.6485184134
                        ]
                      },
                      {
                        "test": [
                          0.7511445958,
                          0.6802339701
                        ],
                        "passed_time": 5.416852432,
                        "iteration": 319,
                        "remaining_time": 3.046979493,
                        "learn": [
                          0.7645303355,
                          0.6484156383
                        ]
                      },
                      {
                        "test": [
                          0.7509707331,
                          0.680228119
                        ],
                        "passed_time": 5.430106322,
                        "iteration": 320,
                        "remaining_time": 3.028003214,
                        "learn": [
                          0.764588283,
                          0.6483703237
                        ]
                      },
                      {
                        "test": [
                          0.7510286873,
                          0.6802291757
                        ],
                        "passed_time": 5.44390388,
                        "iteration": 321,
                        "remaining_time": 3.009363014,
                        "learn": [
                          0.7647621255,
                          0.6483081842
                        ]
                      },
                      {
                        "test": [
                          0.75120255,
                          0.6802459738
                        ],
                        "passed_time": 5.458920404,
                        "iteration": 322,
                        "remaining_time": 2.991420779,
                        "learn": [
                          0.7647621255,
                          0.6482152281
                        ]
                      },
                      {
                        "test": [
                          0.7512605042,
                          0.680233475
                        ],
                        "passed_time": 5.474837351,
                        "iteration": 323,
                        "remaining_time": 2.973985721,
                        "learn": [
                          0.7647910993,
                          0.648050484
                        ]
                      },
                      {
                        "test": [
                          0.7510866416,
                          0.6802244053
                        ],
                        "passed_time": 5.489031803,
                        "iteration": 324,
                        "remaining_time": 2.955632509,
                        "learn": [
                          0.7649649418,
                          0.6479849061
                        ]
                      },
                      {
                        "test": [
                          0.7511445958,
                          0.6802549881
                        ],
                        "passed_time": 5.503407004,
                        "iteration": 325,
                        "remaining_time": 2.937401284,
                        "learn": [
                          0.7649649418,
                          0.6479257065
                        ]
                      },
                      {
                        "test": [
                          0.75120255,
                          0.6802906956
                        ],
                        "passed_time": 5.52239177,
                        "iteration": 326,
                        "remaining_time": 2.921632343,
                        "learn": [
                          0.7650228893,
                          0.6478256521
                        ]
                      },
                      {
                        "test": [
                          0.7510866416,
                          0.6803524999
                        ],
                        "passed_time": 5.537014788,
                        "iteration": 327,
                        "remaining_time": 2.903556535,
                        "learn": [
                          0.7651387843,
                          0.6477334656
                        ]
                      },
                      {
                        "test": [
                          0.7511445958,
                          0.6803217953
                        ],
                        "passed_time": 5.551142399,
                        "iteration": 328,
                        "remaining_time": 2.885244226,
                        "learn": [
                          0.765167758,
                          0.6476739725
                        ]
                      },
                      {
                        "test": [
                          0.7511445958,
                          0.6802991276
                        ],
                        "passed_time": 5.565186979,
                        "iteration": 329,
                        "remaining_time": 2.866914505,
                        "learn": [
                          0.7651387843,
                          0.6475818895
                        ]
                      },
                      {
                        "test": [
                          0.7511445958,
                          0.6802921502
                        ],
                        "passed_time": 5.58021185,
                        "iteration": 330,
                        "remaining_time": 2.849111186,
                        "learn": [
                          0.7651967318,
                          0.6474773881
                        ]
                      },
                      {
                        "test": [
                          0.7511445958,
                          0.6802872595
                        ],
                        "passed_time": 5.593717682,
                        "iteration": 331,
                        "remaining_time": 2.830555935,
                        "learn": [
                          0.7654285218,
                          0.6473840548
                        ]
                      },
                      {
                        "test": [
                          0.7510866416,
                          0.6803085914
                        ],
                        "passed_time": 5.608131627,
                        "iteration": 332,
                        "remaining_time": 2.812486431,
                        "learn": [
                          0.7654864693,
                          0.6472791255
                        ]
                      },
                      {
                        "test": [
                          0.7513184584,
                          0.6802912714
                        ],
                        "passed_time": 5.622658756,
                        "iteration": 333,
                        "remaining_time": 2.79449507,
                        "learn": [
                          0.7654864693,
                          0.6471690303
                        ]
                      },
                      {
                        "test": [
                          0.7512605042,
                          0.6802922259
                        ],
                        "passed_time": 5.636517252,
                        "iteration": 334,
                        "remaining_time": 2.776195064,
                        "learn": [
                          0.7655444168,
                          0.6471319848
                        ]
                      },
                      {
                        "test": [
                          0.7511445958,
                          0.6803105742
                        ],
                        "passed_time": 5.652006221,
                        "iteration": 335,
                        "remaining_time": 2.758717322,
                        "learn": [
                          0.7654574955,
                          0.6470746394
                        ]
                      },
                      {
                        "test": [
                          0.7510286873,
                          0.6803288191
                        ],
                        "passed_time": 5.666933401,
                        "iteration": 336,
                        "remaining_time": 2.740979657,
                        "learn": [
                          0.765399548,
                          0.6469348045
                        ]
                      },
                      {
                        "test": [
                          0.7510866416,
                          0.6803354027
                        ],
                        "passed_time": 5.681234085,
                        "iteration": 337,
                        "remaining_time": 2.722958348,
                        "learn": [
                          0.765399548,
                          0.6468296852
                        ]
                      },
                      {
                        "test": [
                          0.7509127789,
                          0.6803111804
                        ],
                        "passed_time": 5.694680572,
                        "iteration": 338,
                        "remaining_time": 2.70455331,
                        "learn": [
                          0.7655733905,
                          0.6467448766
                        ]
                      },
                      {
                        "test": [
                          0.7509707331,
                          0.6803362691
                        ],
                        "passed_time": 5.709079425,
                        "iteration": 339,
                        "remaining_time": 2.686625612,
                        "learn": [
                          0.7655444168,
                          0.6466501514
                        ]
                      },
                      {
                        "test": [
                          0.75120255,
                          0.6803432923
                        ],
                        "passed_time": 5.724357844,
                        "iteration": 340,
                        "remaining_time": 2.669128731,
                        "learn": [
                          0.7655444168,
                          0.6465767127
                        ]
                      },
                      {
                        "test": [
                          0.7511445958,
                          0.6803144643
                        ],
                        "passed_time": 5.738935592,
                        "iteration": 341,
                        "remaining_time": 2.651321121,
                        "learn": [
                          0.7654864693,
                          0.6465277091
                        ]
                      },
                      {
                        "test": [
                          0.7511445958,
                          0.6803440525
                        ],
                        "passed_time": 5.752621321,
                        "iteration": 342,
                        "remaining_time": 2.633124045,
                        "learn": [
                          0.7654864693,
                          0.6464927353
                        ]
                      },
                      {
                        "test": [
                          0.7510866416,
                          0.6803811899
                        ],
                        "passed_time": 5.77811842,
                        "iteration": 343,
                        "remaining_time": 2.620309516,
                        "learn": [
                          0.7655444168,
                          0.6463690627
                        ]
                      },
                      {
                        "test": [
                          0.7507968705,
                          0.6803987858
                        ],
                        "passed_time": 5.792048839,
                        "iteration": 344,
                        "remaining_time": 2.602224841,
                        "learn": [
                          0.765631338,
                          0.6463118928
                        ]
                      },
                      {
                        "test": [
                          0.7509707331,
                          0.6804284249
                        ],
                        "passed_time": 5.806847137,
                        "iteration": 345,
                        "remaining_time": 2.58455046,
                        "learn": [
                          0.7655733905,
                          0.646221696
                        ]
                      },
                      {
                        "test": [
                          0.7510866416,
                          0.6804207651
                        ],
                        "passed_time": 5.821716349,
                        "iteration": 346,
                        "remaining_time": 2.566923923,
                        "learn": [
                          0.765747233,
                          0.6461352265
                        ]
                      },
                      {
                        "test": [
                          0.7510866416,
                          0.680410963
                        ],
                        "passed_time": 5.872278176,
                        "iteration": 347,
                        "remaining_time": 2.564903111,
                        "learn": [
                          0.7657182593,
                          0.646015691
                        ]
                      },
                      {
                        "test": [
                          0.7509707331,
                          0.6804005853
                        ],
                        "passed_time": 5.923849933,
                        "iteration": 348,
                        "remaining_time": 2.563041088,
                        "learn": [
                          0.7657762068,
                          0.6459709428
                        ]
                      },
                      {
                        "test": [
                          0.7508548247,
                          0.6804117489
                        ],
                        "passed_time": 5.953490231,
                        "iteration": 349,
                        "remaining_time": 2.551495813,
                        "learn": [
                          0.7657762068,
                          0.6459101256
                        ]
                      },
                      {
                        "test": [
                          0.7507968705,
                          0.6804200406
                        ],
                        "passed_time": 5.982314499,
                        "iteration": 350,
                        "remaining_time": 2.539501027,
                        "learn": [
                          0.7657182593,
                          0.6458359606
                        ]
                      },
                      {
                        "test": [
                          0.7507968705,
                          0.6804248166
                        ],
                        "passed_time": 6.015005828,
                        "iteration": 351,
                        "remaining_time": 2.529036541,
                        "learn": [
                          0.7656603118,
                          0.6457765556
                        ]
                      },
                      {
                        "test": [
                          0.7510866416,
                          0.6804448499
                        ],
                        "passed_time": 6.037653897,
                        "iteration": 352,
                        "remaining_time": 2.514263804,
                        "learn": [
                          0.7657182593,
                          0.6457243803
                        ]
                      },
                      {
                        "test": [
                          0.7510866416,
                          0.680417705
                        ],
                        "passed_time": 6.05279851,
                        "iteration": 353,
                        "remaining_time": 2.496351928,
                        "learn": [
                          0.7658051805,
                          0.6456365707
                        ]
                      },
                      {
                        "test": [
                          0.7510866416,
                          0.6804167908
                        ],
                        "passed_time": 6.066343625,
                        "iteration": 354,
                        "remaining_time": 2.477802326,
                        "learn": [
                          0.7657762068,
                          0.6455935782
                        ]
                      },
                      {
                        "test": [
                          0.7510866416,
                          0.680449022
                        ],
                        "passed_time": 6.080364457,
                        "iteration": 355,
                        "remaining_time": 2.459473264,
                        "learn": [
                          0.7660079968,
                          0.6455393846
                        ]
                      },
                      {
                        "test": [
                          0.7510866416,
                          0.6804593211
                        ],
                        "passed_time": 6.095185594,
                        "iteration": 356,
                        "remaining_time": 2.441488907,
                        "learn": [
                          0.7659500493,
                          0.6454771039
                        ]
                      },
                      {
                        "test": [
                          0.7511445958,
                          0.6804493246
                        ],
                        "passed_time": 6.109764933,
                        "iteration": 357,
                        "remaining_time": 2.423426314,
                        "learn": [
                          0.7659500493,
                          0.6454107256
                        ]
                      },
                      {
                        "test": [
                          0.7510866416,
                          0.6804448127
                        ],
                        "passed_time": 6.124577472,
                        "iteration": 358,
                        "remaining_time": 2.405474717,
                        "learn": [
                          0.7657762068,
                          0.6453076334
                        ]
                      },
                      {
                        "test": [
                          0.7511445958,
                          0.6804457154
                        ],
                        "passed_time": 6.139127788,
                        "iteration": 359,
                        "remaining_time": 2.387438584,
                        "learn": [
                          0.7658051805,
                          0.6452314305
                        ]
                      },
                      {
                        "test": [
                          0.7510866416,
                          0.6803972983
                        ],
                        "passed_time": 6.152925863,
                        "iteration": 360,
                        "remaining_time": 2.369132119,
                        "learn": [
                          0.765979023,
                          0.6451410843
                        ]
                      },
                      {
                        "test": [
                          0.7511445958,
                          0.6803970177
                        ],
                        "passed_time": 6.167617536,
                        "iteration": 361,
                        "remaining_time": 2.351191215,
                        "learn": [
                          0.7660079968,
                          0.6450632353
                        ]
                      },
                      {
                        "test": [
                          0.7513764126,
                          0.680421094
                        ],
                        "passed_time": 6.181760546,
                        "iteration": 362,
                        "remaining_time": 2.333061143,
                        "learn": [
                          0.7661528655,
                          0.6449830874
                        ]
                      },
                      {
                        "test": [
                          0.7512605042,
                          0.6804522067
                        ],
                        "passed_time": 6.19573709,
                        "iteration": 363,
                        "remaining_time": 2.314890781,
                        "learn": [
                          0.7660079968,
                          0.6449318493
                        ]
                      },
                      {
                        "test": [
                          0.7513184584,
                          0.6804780495
                        ],
                        "passed_time": 6.210559772,
                        "iteration": 364,
                        "remaining_time": 2.297056354,
                        "learn": [
                          0.7661238918,
                          0.6448381801
                        ]
                      },
                      {
                        "test": [
                          0.7513764126,
                          0.6804685331
                        ],
                        "passed_time": 6.224990862,
                        "iteration": 365,
                        "remaining_time": 2.279095015,
                        "learn": [
                          0.7661238918,
                          0.644774131
                        ]
                      },
                      {
                        "test": [
                          0.7510866416,
                          0.6805081504
                        ],
                        "passed_time": 6.239636578,
                        "iteration": 366,
                        "remaining_time": 2.261230694,
                        "learn": [
                          0.7661528655,
                          0.6446961496
                        ]
                      },
                      {
                        "test": [
                          0.7512605042,
                          0.6805530786
                        ],
                        "passed_time": 6.253652551,
                        "iteration": 367,
                        "remaining_time": 2.24315798,
                        "learn": [
                          0.7662397868,
                          0.6446373688
                        ]
                      },
                      {
                        "test": [
                          0.7512605042,
                          0.6805477213
                        ],
                        "passed_time": 6.268483867,
                        "iteration": 368,
                        "remaining_time": 2.225396711,
                        "learn": [
                          0.766210813,
                          0.6445213112
                        ]
                      },
                      {
                        "test": [
                          0.75120255,
                          0.6805937235
                        ],
                        "passed_time": 6.283229928,
                        "iteration": 369,
                        "remaining_time": 2.207621326,
                        "learn": [
                          0.7662687605,
                          0.6444572197
                        ]
                      },
                      {
                        "test": [
                          0.7513764126,
                          0.6805780381
                        ],
                        "passed_time": 6.297713461,
                        "iteration": 370,
                        "remaining_time": 2.189770988,
                        "learn": [
                          0.7661528655,
                          0.6444035584
                        ]
                      },
                      {
                        "test": [
                          0.7513184584,
                          0.6805885003
                        ],
                        "passed_time": 6.314439172,
                        "iteration": 371,
                        "remaining_time": 2.172710253,
                        "learn": [
                          0.766326708,
                          0.6443297606
                        ]
                      },
                      {
                        "test": [
                          0.7512605042,
                          0.680608657
                        ],
                        "passed_time": 6.328317172,
                        "iteration": 372,
                        "remaining_time": 2.154681718,
                        "learn": [
                          0.7664136293,
                          0.6442847098
                        ]
                      },
                      {
                        "test": [
                          0.7514343669,
                          0.6805842969
                        ],
                        "passed_time": 6.342923391,
                        "iteration": 373,
                        "remaining_time": 2.136920715,
                        "learn": [
                          0.7664136293,
                          0.6441845132
                        ]
                      },
                      {
                        "test": [
                          0.7513184584,
                          0.6805850644
                        ],
                        "passed_time": 6.358005556,
                        "iteration": 374,
                        "remaining_time": 2.119335185,
                        "learn": [
                          0.7665005505,
                          0.6441219875
                        ]
                      },
                      {
                        "test": [
                          0.7513184584,
                          0.6805530137
                        ],
                        "passed_time": 6.372217859,
                        "iteration": 375,
                        "remaining_time": 2.101476103,
                        "learn": [
                          0.7664715768,
                          0.6440693767
                        ]
                      },
                      {
                        "test": [
                          0.7514923211,
                          0.680569485
                        ],
                        "passed_time": 6.387137578,
                        "iteration": 376,
                        "remaining_time": 2.083867167,
                        "learn": [
                          0.7663846555,
                          0.6440066095
                        ]
                      },
                      {
                        "test": [
                          0.7515502753,
                          0.6805592282
                        ],
                        "passed_time": 6.400919411,
                        "iteration": 377,
                        "remaining_time": 2.065905207,
                        "learn": [
                          0.766558498,
                          0.6439501913
                        ]
                      },
                      {
                        "test": [
                          0.7514923211,
                          0.6805080742
                        ],
                        "passed_time": 6.415880395,
                        "iteration": 378,
                        "remaining_time": 2.048341762,
                        "learn": [
                          0.7665295243,
                          0.6438370288
                        ]
                      },
                      {
                        "test": [
                          0.7513764126,
                          0.6805509774
                        ],
                        "passed_time": 6.431435376,
                        "iteration": 379,
                        "remaining_time": 2.030979592,
                        "learn": [
                          0.7667613142,
                          0.6437027488
                        ]
                      },
                      {
                        "test": [
                          0.7513764126,
                          0.6805353576
                        ],
                        "passed_time": 6.446218608,
                        "iteration": 380,
                        "remaining_time": 2.013385864,
                        "learn": [
                          0.7668192617,
                          0.6436319853
                        ]
                      },
                      {
                        "test": [
                          0.7513184584,
                          0.6805438035
                        ],
                        "passed_time": 6.461193968,
                        "iteration": 381,
                        "remaining_time": 1.9958662,
                        "learn": [
                          0.766558498,
                          0.6435437215
                        ]
                      },
                      {
                        "test": [
                          0.7513764126,
                          0.6805818039
                        ],
                        "passed_time": 6.475678909,
                        "iteration": 382,
                        "remaining_time": 1.978210006,
                        "learn": [
                          0.7667613142,
                          0.6434504103
                        ]
                      },
                      {
                        "test": [
                          0.7513764126,
                          0.6806080704
                        ],
                        "passed_time": 6.490532098,
                        "iteration": 383,
                        "remaining_time": 1.960681571,
                        "learn": [
                          0.7667323405,
                          0.643359317
                        ]
                      },
                      {
                        "test": [
                          0.7513184584,
                          0.6806234962
                        ],
                        "passed_time": 6.504025777,
                        "iteration": 384,
                        "remaining_time": 1.942760946,
                        "learn": [
                          0.7667033667,
                          0.6433118193
                        ]
                      },
                      {
                        "test": [
                          0.7511445958,
                          0.6806158455
                        ],
                        "passed_time": 6.518902355,
                        "iteration": 385,
                        "remaining_time": 1.92527168,
                        "learn": [
                          0.7667613142,
                          0.6432541047
                        ]
                      },
                      {
                        "test": [
                          0.7511445958,
                          0.6806464231
                        ],
                        "passed_time": 6.53294116,
                        "iteration": 386,
                        "remaining_time": 1.907551295,
                        "learn": [
                          0.7668482355,
                          0.6431850611
                        ]
                      },
                      {
                        "test": [
                          0.7513764126,
                          0.6806341276
                        ],
                        "passed_time": 6.546819026,
                        "iteration": 387,
                        "remaining_time": 1.88980343,
                        "learn": [
                          0.7669351567,
                          0.6431099912
                        ]
                      },
                      {
                        "test": [
                          0.7512605042,
                          0.6806466584
                        ],
                        "passed_time": 6.56086758,
                        "iteration": 388,
                        "remaining_time": 1.872124168,
                        "learn": [
                          0.7669931042,
                          0.6430577184
                        ]
                      },
                      {
                        "test": [
                          0.7512605042,
                          0.6806555521
                        ],
                        "passed_time": 6.575412909,
                        "iteration": 389,
                        "remaining_time": 1.854603641,
                        "learn": [
                          0.7669641305,
                          0.642978003
                        ]
                      },
                      {
                        "test": [
                          0.7512605042,
                          0.6806674014
                        ],
                        "passed_time": 6.589068242,
                        "iteration": 390,
                        "remaining_time": 1.836850226,
                        "learn": [
                          0.7669931042,
                          0.6429270125
                        ]
                      },
                      {
                        "test": [
                          0.7513184584,
                          0.6806429637
                        ],
                        "passed_time": 6.604549861,
                        "iteration": 391,
                        "remaining_time": 1.81962088,
                        "learn": [
                          0.7669931042,
                          0.6428197305
                        ]
                      },
                      {
                        "test": [
                          0.7514923211,
                          0.680647256
                        ],
                        "passed_time": 6.619038759,
                        "iteration": 392,
                        "remaining_time": 1.802130146,
                        "learn": [
                          0.7668192617,
                          0.6427510486
                        ]
                      },
                      {
                        "test": [
                          0.7516082295,
                          0.6806434771
                        ],
                        "passed_time": 6.633756799,
                        "iteration": 393,
                        "remaining_time": 1.784716296,
                        "learn": [
                          0.7668192617,
                          0.6426850305
                        ]
                      },
                      {
                        "test": [
                          0.7517820921,
                          0.6806505353
                        ],
                        "passed_time": 6.650521755,
                        "iteration": 394,
                        "remaining_time": 1.767860213,
                        "learn": [
                          0.7668772092,
                          0.6425943056
                        ]
                      },
                      {
                        "test": [
                          0.7517241379,
                          0.680645006
                        ],
                        "passed_time": 6.665476407,
                        "iteration": 395,
                        "remaining_time": 1.750529157,
                        "learn": [
                          0.766906183,
                          0.6425230817
                        ]
                      },
                      {
                        "test": [
                          0.7516661837,
                          0.6806654583
                        ],
                        "passed_time": 6.679785088,
                        "iteration": 396,
                        "remaining_time": 1.733042479,
                        "learn": [
                          0.7669351567,
                          0.6424489812
                        ]
                      },
                      {
                        "test": [
                          0.7514343669,
                          0.6806342996
                        ],
                        "passed_time": 6.694433749,
                        "iteration": 397,
                        "remaining_time": 1.715658901,
                        "learn": [
                          0.766906183,
                          0.642356571
                        ]
                      },
                      {
                        "test": [
                          0.7514343669,
                          0.6806724087
                        ],
                        "passed_time": 6.708154582,
                        "iteration": 398,
                        "remaining_time": 1.698054167,
                        "learn": [
                          0.7671089992,
                          0.6422717521
                        ]
                      },
                      {
                        "test": [
                          0.7513764126,
                          0.6806492252
                        ],
                        "passed_time": 6.722409536,
                        "iteration": 399,
                        "remaining_time": 1.680602384,
                        "learn": [
                          0.767253868,
                          0.6422022788
                        ]
                      },
                      {
                        "test": [
                          0.7513764126,
                          0.6806434027
                        ],
                        "passed_time": 6.736705492,
                        "iteration": 400,
                        "remaining_time": 1.663176668,
                        "learn": [
                          0.7674566842,
                          0.6421443165
                        ]
                      },
                      {
                        "test": [
                          0.7513184584,
                          0.6806615499
                        ],
                        "passed_time": 6.750727868,
                        "iteration": 401,
                        "remaining_time": 1.645699828,
                        "learn": [
                          0.7673987367,
                          0.6420980627
                        ]
                      },
                      {
                        "test": [
                          0.7513764126,
                          0.6806765793
                        ],
                        "passed_time": 6.764876014,
                        "iteration": 402,
                        "remaining_time": 1.628270405,
                        "learn": [
                          0.7674566842,
                          0.6420076718
                        ]
                      },
                      {
                        "test": [
                          0.7513184584,
                          0.680681848
                        ],
                        "passed_time": 6.793672275,
                        "iteration": 403,
                        "remaining_time": 1.614337966,
                        "learn": [
                          0.767601553,
                          0.6419024565
                        ]
                      },
                      {
                        "test": [
                          0.75120255,
                          0.6806741567
                        ],
                        "passed_time": 6.808786518,
                        "iteration": 404,
                        "remaining_time": 1.597122763,
                        "learn": [
                          0.7675146317,
                          0.6418123308
                        ]
                      },
                      {
                        "test": [
                          0.7512605042,
                          0.6806683403
                        ],
                        "passed_time": 6.823926459,
                        "iteration": 405,
                        "remaining_time": 1.57992386,
                        "learn": [
                          0.7675725792,
                          0.6417182239
                        ]
                      },
                      {
                        "test": [
                          0.7511445958,
                          0.6806452748
                        ],
                        "passed_time": 6.838383001,
                        "iteration": 406,
                        "remaining_time": 1.562578917,
                        "learn": [
                          0.7676595005,
                          0.6416171688
                        ]
                      },
                      {
                        "test": [
                          0.7513184584,
                          0.6806389878
                        ],
                        "passed_time": 6.853241238,
                        "iteration": 407,
                        "remaining_time": 1.54533871,
                        "learn": [
                          0.7678623167,
                          0.6415539746
                        ]
                      },
                      {
                        "test": [
                          0.7513184584,
                          0.6806077845
                        ],
                        "passed_time": 6.868755831,
                        "iteration": 408,
                        "remaining_time": 1.528256187,
                        "learn": [
                          0.767833343,
                          0.6414371432
                        ]
                      },
                      {
                        "test": [
                          0.7511445958,
                          0.6806339991
                        ],
                        "passed_time": 6.882681709,
                        "iteration": 409,
                        "remaining_time": 1.51083257,
                        "learn": [
                          0.767833343,
                          0.6413841242
                        ]
                      },
                      {
                        "test": [
                          0.7512605042,
                          0.6806166005
                        ],
                        "passed_time": 6.896106921,
                        "iteration": 410,
                        "remaining_time": 1.493317557,
                        "learn": [
                          0.767949238,
                          0.6413259696
                        ]
                      },
                      {
                        "test": [
                          0.7510866416,
                          0.6805903233
                        ],
                        "passed_time": 6.910376522,
                        "iteration": 411,
                        "remaining_time": 1.476002752,
                        "learn": [
                          0.768065133,
                          0.6412238422
                        ]
                      },
                      {
                        "test": [
                          0.7510866416,
                          0.6805938093
                        ],
                        "passed_time": 6.977899088,
                        "iteration": 412,
                        "remaining_time": 1.469920631,
                        "learn": [
                          0.767949238,
                          0.6411269835
                        ]
                      },
                      {
                        "test": [
                          0.7510286873,
                          0.6805802698
                        ],
                        "passed_time": 7.022242111,
                        "iteration": 413,
                        "remaining_time": 1.458726622,
                        "learn": [
                          0.7679782117,
                          0.6410517559
                        ]
                      },
                      {
                        "test": [
                          0.7512605042,
                          0.6806047421
                        ],
                        "passed_time": 7.04965234,
                        "iteration": 414,
                        "remaining_time": 1.443904696,
                        "learn": [
                          0.7679202642,
                          0.6409665757
                        ]
                      },
                      {
                        "test": [
                          0.7513764126,
                          0.6806238422
                        ],
                        "passed_time": 7.079110831,
                        "iteration": 415,
                        "remaining_time": 1.429435841,
                        "learn": [
                          0.7679202642,
                          0.6409081919
                        ]
                      },
                      {
                        "test": [
                          0.7513764126,
                          0.6806115599
                        ],
                        "passed_time": 7.10122203,
                        "iteration": 416,
                        "remaining_time": 1.413432682,
                        "learn": [
                          0.7681520542,
                          0.6408466717
                        ]
                      },
                      {
                        "test": [
                          0.7513184584,
                          0.6805921803
                        ],
                        "passed_time": 7.116724652,
                        "iteration": 417,
                        "remaining_time": 1.396103879,
                        "learn": [
                          0.7680361592,
                          0.64073427
                        ]
                      },
                      {
                        "test": [
                          0.7513184584,
                          0.6806112634
                        ],
                        "passed_time": 7.131815942,
                        "iteration": 418,
                        "remaining_time": 1.378704275,
                        "learn": [
                          0.768065133,
                          0.6406173922
                        ]
                      },
                      {
                        "test": [
                          0.7512605042,
                          0.6806446769
                        ],
                        "passed_time": 7.146373842,
                        "iteration": 419,
                        "remaining_time": 1.361214065,
                        "learn": [
                          0.7682100017,
                          0.6405434741
                        ]
                      },
                      {
                        "test": [
                          0.7513764126,
                          0.6806598298
                        ],
                        "passed_time": 7.160785061,
                        "iteration": 420,
                        "remaining_time": 1.343710261,
                        "learn": [
                          0.7681230805,
                          0.6404763216
                        ]
                      },
                      {
                        "test": [
                          0.7516661837,
                          0.6806855883
                        ],
                        "passed_time": 7.174896252,
                        "iteration": 421,
                        "remaining_time": 1.326165658,
                        "learn": [
                          0.7682389755,
                          0.6404082639
                        ]
                      },
                      {
                        "test": [
                          0.7514343669,
                          0.6806715357
                        ],
                        "passed_time": 7.189455455,
                        "iteration": 422,
                        "remaining_time": 1.308718842,
                        "learn": [
                          0.7681230805,
                          0.6403148322
                        ]
                      },
                      {
                        "test": [
                          0.7514343669,
                          0.6806928255
                        ],
                        "passed_time": 7.204588338,
                        "iteration": 423,
                        "remaining_time": 1.291388476,
                        "learn": [
                          0.7680941067,
                          0.6402513396
                        ]
                      },
                      {
                        "test": [
                          0.7513764126,
                          0.6806964384
                        ],
                        "passed_time": 7.218619049,
                        "iteration": 424,
                        "remaining_time": 1.27387395,
                        "learn": [
                          0.7680941067,
                          0.6402027281
                        ]
                      },
                      {
                        "test": [
                          0.7514343669,
                          0.6807042104
                        ],
                        "passed_time": 7.232378648,
                        "iteration": 425,
                        "remaining_time": 1.256328685,
                        "learn": [
                          0.7680941067,
                          0.640136054
                        ]
                      },
                      {
                        "test": [
                          0.7513764126,
                          0.6807322173
                        ],
                        "passed_time": 7.247572704,
                        "iteration": 426,
                        "remaining_time": 1.239046387,
                        "learn": [
                          0.7680941067,
                          0.6400606918
                        ]
                      },
                      {
                        "test": [
                          0.7513184584,
                          0.6807310396
                        ],
                        "passed_time": 7.261922212,
                        "iteration": 427,
                        "remaining_time": 1.221631774,
                        "learn": [
                          0.7682100017,
                          0.6399878504
                        ]
                      },
                      {
                        "test": [
                          0.7512605042,
                          0.6807611406
                        ],
                        "passed_time": 7.276942518,
                        "iteration": 428,
                        "remaining_time": 1.204342468,
                        "learn": [
                          0.7681520542,
                          0.6398664294
                        ]
                      },
                      {
                        "test": [
                          0.7513184584,
                          0.6807658569
                        ],
                        "passed_time": 7.291564317,
                        "iteration": 429,
                        "remaining_time": 1.186998842,
                        "learn": [
                          0.7680941067,
                          0.6397892525
                        ]
                      },
                      {
                        "test": [
                          0.7513764126,
                          0.6807729113
                        ],
                        "passed_time": 7.308620979,
                        "iteration": 430,
                        "remaining_time": 1.170057651,
                        "learn": [
                          0.768181028,
                          0.6397365886
                        ]
                      },
                      {
                        "test": [
                          0.7514923211,
                          0.680816798
                        ],
                        "passed_time": 7.323480864,
                        "iteration": 431,
                        "remaining_time": 1.152770136,
                        "learn": [
                          0.7683838442,
                          0.6396519152
                        ]
                      },
                      {
                        "test": [
                          0.7514923211,
                          0.680834796
                        ],
                        "passed_time": 7.337988902,
                        "iteration": 432,
                        "remaining_time": 1.135439391,
                        "learn": [
                          0.7682679492,
                          0.6396057713
                        ]
                      },
                      {
                        "test": [
                          0.7514923211,
                          0.6808105655
                        ],
                        "passed_time": 7.351939321,
                        "iteration": 433,
                        "remaining_time": 1.118036855,
                        "learn": [
                          0.7682389755,
                          0.6395592138
                        ]
                      },
                      {
                        "test": [
                          0.7515502753,
                          0.6808309638
                        ],
                        "passed_time": 7.366335588,
                        "iteration": 434,
                        "remaining_time": 1.100716812,
                        "learn": [
                          0.7682679492,
                          0.6394907482
                        ]
                      },
                      {
                        "test": [
                          0.7515502753,
                          0.6808458345
                        ],
                        "passed_time": 7.380527944,
                        "iteration": 435,
                        "remaining_time": 1.083380249,
                        "learn": [
                          0.768528713,
                          0.6394068026
                        ]
                      },
                      {
                        "test": [
                          0.7515502753,
                          0.6809154144
                        ],
                        "passed_time": 7.394500413,
                        "iteration": 436,
                        "remaining_time": 1.066026375,
                        "learn": [
                          0.7684997392,
                          0.6393178976
                        ]
                      },
                      {
                        "test": [
                          0.7517241379,
                          0.6808995117
                        ],
                        "passed_time": 7.409381528,
                        "iteration": 437,
                        "remaining_time": 1.048816563,
                        "learn": [
                          0.7684707655,
                          0.6392242267
                        ]
                      },
                      {
                        "test": [
                          0.7516661837,
                          0.6809259304
                        ],
                        "passed_time": 7.423577395,
                        "iteration": 438,
                        "remaining_time": 1.031522144,
                        "learn": [
                          0.768644608,
                          0.639145347
                        ]
                      },
                      {
                        "test": [
                          0.7517820921,
                          0.6809216978
                        ],
                        "passed_time": 7.437324848,
                        "iteration": 439,
                        "remaining_time": 1.014180661,
                        "learn": [
                          0.768644608,
                          0.6390875129
                        ]
                      },
                      {
                        "test": [
                          0.7515502753,
                          0.680933694
                        ],
                        "passed_time": 7.452330757,
                        "iteration": 440,
                        "remaining_time": 0.9970238428,
                        "learn": [
                          0.7685576867,
                          0.6390033076
                        ]
                      },
                      {
                        "test": [
                          0.7516661837,
                          0.6809043876
                        ],
                        "passed_time": 7.467122581,
                        "iteration": 441,
                        "remaining_time": 0.9798486645,
                        "learn": [
                          0.7685576867,
                          0.6389275225
                        ]
                      },
                      {
                        "test": [
                          0.7516082295,
                          0.6809166065
                        ],
                        "passed_time": 7.482127903,
                        "iteration": 442,
                        "remaining_time": 0.9627117167,
                        "learn": [
                          0.7685576867,
                          0.6388138428
                        ]
                      },
                      {
                        "test": [
                          0.7514923211,
                          0.6809118952
                        ],
                        "passed_time": 7.496432805,
                        "iteration": 443,
                        "remaining_time": 0.9454960295,
                        "learn": [
                          0.7686735817,
                          0.6387312466
                        ]
                      },
                      {
                        "test": [
                          0.7515502753,
                          0.6809253431
                        ],
                        "passed_time": 7.510866306,
                        "iteration": 444,
                        "remaining_time": 0.9283093187,
                        "learn": [
                          0.7684997392,
                          0.6386443104
                        ]
                      },
                      {
                        "test": [
                          0.7517241379,
                          0.6809057504
                        ],
                        "passed_time": 7.524666301,
                        "iteration": 445,
                        "remaining_time": 0.9110582518,
                        "learn": [
                          0.768644608,
                          0.6385761221
                        ]
                      },
                      {
                        "test": [
                          0.7516082295,
                          0.6808630654
                        ],
                        "passed_time": 7.538556113,
                        "iteration": 446,
                        "remaining_time": 0.8938332751,
                        "learn": [
                          0.7687025555,
                          0.6385193498
                        ]
                      },
                      {
                        "test": [
                          0.7516082295,
                          0.6808800599
                        ],
                        "passed_time": 7.552285133,
                        "iteration": 447,
                        "remaining_time": 0.8766045244,
                        "learn": [
                          0.768644608,
                          0.6384764898
                        ]
                      },
                      {
                        "test": [
                          0.7518980006,
                          0.680897683
                        ],
                        "passed_time": 7.567054815,
                        "iteration": 448,
                        "remaining_time": 0.8595095669,
                        "learn": [
                          0.7687025555,
                          0.6384073631
                        ]
                      },
                      {
                        "test": [
                          0.7518400464,
                          0.6808592369
                        ],
                        "passed_time": 7.581978959,
                        "iteration": 449,
                        "remaining_time": 0.8424421065,
                        "learn": [
                          0.768760503,
                          0.6383510785
                        ]
                      },
                      {
                        "test": [
                          0.7518980006,
                          0.6808776792
                        ],
                        "passed_time": 7.596572015,
                        "iteration": 450,
                        "remaining_time": 0.825348179,
                        "learn": [
                          0.7687315292,
                          0.6382921656
                        ]
                      },
                      {
                        "test": [
                          0.7518400464,
                          0.6808935921
                        ],
                        "passed_time": 7.611768256,
                        "iteration": 451,
                        "remaining_time": 0.8083293724,
                        "learn": [
                          0.7687025555,
                          0.6382195173
                        ]
                      },
                      {
                        "test": [
                          0.7517820921,
                          0.6808818573
                        ],
                        "passed_time": 7.626455228,
                        "iteration": 452,
                        "remaining_time": 0.7912657742,
                        "learn": [
                          0.7687315292,
                          0.6381400414
                        ]
                      },
                      {
                        "test": [
                          0.7518400464,
                          0.6808962019
                        ],
                        "passed_time": 7.642238004,
                        "iteration": 453,
                        "remaining_time": 0.7743236745,
                        "learn": [
                          0.7685576867,
                          0.6380635583
                        ]
                      },
                      {
                        "test": [
                          0.7518980006,
                          0.6809209752
                        ],
                        "passed_time": 7.657305291,
                        "iteration": 454,
                        "remaining_time": 0.7573159079,
                        "learn": [
                          0.7686735817,
                          0.6380032807
                        ]
                      },
                      {
                        "test": [
                          0.7517820921,
                          0.6809315956
                        ],
                        "passed_time": 7.670923528,
                        "iteration": 455,
                        "remaining_time": 0.7401768316,
                        "learn": [
                          0.7687894767,
                          0.637956982
                        ]
                      },
                      {
                        "test": [
                          0.7516661837,
                          0.6809424719
                        ],
                        "passed_time": 7.685337845,
                        "iteration": 456,
                        "remaining_time": 0.7231280685,
                        "learn": [
                          0.7686735817,
                          0.6379029257
                        ]
                      },
                      {
                        "test": [
                          0.7516661837,
                          0.6809490839
                        ],
                        "passed_time": 7.699775069,
                        "iteration": 457,
                        "remaining_time": 0.7060929102,
                        "learn": [
                          0.7687025555,
                          0.6378562658
                        ]
                      },
                      {
                        "test": [
                          0.7518400464,
                          0.6809690535
                        ],
                        "passed_time": 7.716630498,
                        "iteration": 458,
                        "remaining_time": 0.6892850772,
                        "learn": [
                          0.7687025555,
                          0.6377860091
                        ]
                      },
                      {
                        "test": [
                          0.7517241379,
                          0.6809702618
                        ],
                        "passed_time": 7.732791979,
                        "iteration": 459,
                        "remaining_time": 0.6724166939,
                        "learn": [
                          0.7689053717,
                          0.6377417108
                        ]
                      },
                      {
                        "test": [
                          0.7521298174,
                          0.6809851181
                        ],
                        "passed_time": 7.74709055,
                        "iteration": 460,
                        "remaining_time": 0.6553937775,
                        "learn": [
                          0.7689633192,
                          0.6376453835
                        ]
                      },
                      {
                        "test": [
                          0.752013909,
                          0.6810224591
                        ],
                        "passed_time": 7.761862323,
                        "iteration": 461,
                        "remaining_time": 0.6384215764,
                        "learn": [
                          0.7689633192,
                          0.637571885
                        ]
                      },
                      {
                        "test": [
                          0.7519559548,
                          0.6810324
                        ],
                        "passed_time": 7.775728428,
                        "iteration": 462,
                        "remaining_time": 0.621386505,
                        "learn": [
                          0.768876398,
                          0.6375100792
                        ]
                      },
                      {
                        "test": [
                          0.7521298174,
                          0.6810492425
                        ],
                        "passed_time": 7.800866574,
                        "iteration": 463,
                        "remaining_time": 0.605239648,
                        "learn": [
                          0.7690502405,
                          0.6374560497
                        ]
                      },
                      {
                        "test": [
                          0.752013909,
                          0.6810327725
                        ],
                        "passed_time": 7.815108684,
                        "iteration": 464,
                        "remaining_time": 0.588233987,
                        "learn": [
                          0.7691371617,
                          0.6374075514
                        ]
                      },
                      {
                        "test": [
                          0.7521298174,
                          0.6810351198
                        ],
                        "passed_time": 7.82963194,
                        "iteration": 465,
                        "remaining_time": 0.5712606995,
                        "learn": [
                          0.7691371617,
                          0.6373386686
                        ]
                      },
                      {
                        "test": [
                          0.7517241379,
                          0.6810464707
                        ],
                        "passed_time": 7.847817797,
                        "iteration": 466,
                        "remaining_time": 0.554556718,
                        "learn": [
                          0.769339978,
                          0.6372307052
                        ]
                      },
                      {
                        "test": [
                          0.7521298174,
                          0.681050095
                        ],
                        "passed_time": 7.861671334,
                        "iteration": 467,
                        "remaining_time": 0.5375501767,
                        "learn": [
                          0.769339978,
                          0.6371808361
                        ]
                      },
                      {
                        "test": [
                          0.7518400464,
                          0.6810970597
                        ],
                        "passed_time": 7.876234753,
                        "iteration": 468,
                        "remaining_time": 0.5206040028,
                        "learn": [
                          0.7694848467,
                          0.6371074657
                        ]
                      },
                      {
                        "test": [
                          0.7517820921,
                          0.6811175208
                        ],
                        "passed_time": 7.890530124,
                        "iteration": 469,
                        "remaining_time": 0.503650859,
                        "learn": [
                          0.7695427942,
                          0.6370475437
                        ]
                      },
                      {
                        "test": [
                          0.7518980006,
                          0.6811622957
                        ],
                        "passed_time": 7.904690918,
                        "iteration": 470,
                        "remaining_time": 0.4867007147,
                        "learn": [
                          0.769571768,
                          0.6369708787
                        ]
                      },
                      {
                        "test": [
                          0.7519559548,
                          0.6811546053
                        ],
                        "passed_time": 7.919107244,
                        "iteration": 471,
                        "remaining_time": 0.4697775484,
                        "learn": [
                          0.7696586892,
                          0.6369416118
                        ]
                      },
                      {
                        "test": [
                          0.7521877717,
                          0.6811630841
                        ],
                        "passed_time": 7.934074237,
                        "iteration": 472,
                        "remaining_time": 0.4528964152,
                        "learn": [
                          0.7694268992,
                          0.6368656067
                        ]
                      },
                      {
                        "test": [
                          0.7521298174,
                          0.6811545692
                        ],
                        "passed_time": 7.948031373,
                        "iteration": 473,
                        "remaining_time": 0.4359679656,
                        "learn": [
                          0.7695138205,
                          0.6368091026
                        ]
                      },
                      {
                        "test": [
                          0.7521298174,
                          0.6811503501
                        ],
                        "passed_time": 7.963001098,
                        "iteration": 474,
                        "remaining_time": 0.4191053209,
                        "learn": [
                          0.7695427942,
                          0.6367389939
                        ]
                      },
                      {
                        "test": [
                          0.7521298174,
                          0.6811644823
                        ],
                        "passed_time": 7.977600913,
                        "iteration": 475,
                        "remaining_time": 0.4022319788,
                        "learn": [
                          0.7694268992,
                          0.6366757537
                        ]
                      },
                      {
                        "test": [
                          0.752013909,
                          0.6811786548
                        ],
                        "passed_time": 7.992764676,
                        "iteration": 476,
                        "remaining_time": 0.3853953617,
                        "learn": [
                          0.769455873,
                          0.6366087691
                        ]
                      },
                      {
                        "test": [
                          0.752013909,
                          0.6811870606
                        ],
                        "passed_time": 8.031571692,
                        "iteration": 477,
                        "remaining_time": 0.3696539272,
                        "learn": [
                          0.7695427942,
                          0.636547442
                        ]
                      },
                      {
                        "test": [
                          0.7520718632,
                          0.6811713971
                        ],
                        "passed_time": 8.104754449,
                        "iteration": 478,
                        "remaining_time": 0.3553232639,
                        "learn": [
                          0.7696007417,
                          0.6364639814
                        ]
                      },
                      {
                        "test": [
                          0.7519559548,
                          0.681153819
                        ],
                        "passed_time": 8.134532192,
                        "iteration": 479,
                        "remaining_time": 0.3389388413,
                        "learn": [
                          0.7695138205,
                          0.6363922437
                        ]
                      },
                      {
                        "test": [
                          0.7519559548,
                          0.6811845919
                        ],
                        "passed_time": 8.163059967,
                        "iteration": 480,
                        "remaining_time": 0.3224493542,
                        "learn": [
                          0.7695427942,
                          0.6363087526
                        ]
                      },
                      {
                        "test": [
                          0.7521298174,
                          0.6811805489
                        ],
                        "passed_time": 8.187988182,
                        "iteration": 481,
                        "remaining_time": 0.3057754923,
                        "learn": [
                          0.7695138205,
                          0.6362615165
                        ]
                      },
                      {
                        "test": [
                          0.7520718632,
                          0.6811544599
                        ],
                        "passed_time": 8.203189053,
                        "iteration": 482,
                        "remaining_time": 0.2887250805,
                        "learn": [
                          0.7694848467,
                          0.636188607
                        ]
                      },
                      {
                        "test": [
                          0.7516661837,
                          0.6812007399
                        ],
                        "passed_time": 8.217027915,
                        "iteration": 483,
                        "remaining_time": 0.2716372864,
                        "learn": [
                          0.7696586892,
                          0.6361188318
                        ]
                      },
                      {
                        "test": [
                          0.7516082295,
                          0.6812025767
                        ],
                        "passed_time": 8.231816985,
                        "iteration": 484,
                        "remaining_time": 0.2545922779,
                        "learn": [
                          0.7697166367,
                          0.6360770703
                        ]
                      },
                      {
                        "test": [
                          0.7515502753,
                          0.6812097364
                        ],
                        "passed_time": 8.24628588,
                        "iteration": 485,
                        "remaining_time": 0.2375473299,
                        "learn": [
                          0.7697456105,
                          0.6360288852
                        ]
                      },
                      {
                        "test": [
                          0.7515502753,
                          0.6812147393
                        ],
                        "passed_time": 8.2605916,
                        "iteration": 486,
                        "remaining_time": 0.2205086053,
                        "learn": [
                          0.7697456105,
                          0.6359322575
                        ]
                      },
                      {
                        "test": [
                          0.7513764126,
                          0.6812253633
                        ],
                        "passed_time": 8.275291415,
                        "iteration": 487,
                        "remaining_time": 0.2034907725,
                        "learn": [
                          0.7698615055,
                          0.6358631523
                        ]
                      },
                      {
                        "test": [
                          0.7513764126,
                          0.6812352195
                        ],
                        "passed_time": 8.289654199,
                        "iteration": 488,
                        "remaining_time": 0.1864748388,
                        "learn": [
                          0.7699484267,
                          0.6358285676
                        ]
                      },
                      {
                        "test": [
                          0.7514343669,
                          0.6812374573
                        ],
                        "passed_time": 8.306930875,
                        "iteration": 489,
                        "remaining_time": 0.1695292015,
                        "learn": [
                          0.7699774005,
                          0.6357868499
                        ]
                      },
                      {
                        "test": [
                          0.7516082295,
                          0.6812545853
                        ],
                        "passed_time": 8.321613051,
                        "iteration": 490,
                        "remaining_time": 0.1525346588,
                        "learn": [
                          0.7698904792,
                          0.6357260949
                        ]
                      },
                      {
                        "test": [
                          0.7517241379,
                          0.6812558163
                        ],
                        "passed_time": 8.336818957,
                        "iteration": 491,
                        "remaining_time": 0.1355580318,
                        "learn": [
                          0.769803558,
                          0.6356617917
                        ]
                      },
                      {
                        "test": [
                          0.7517820921,
                          0.6812624356
                        ],
                        "passed_time": 8.351229175,
                        "iteration": 492,
                        "remaining_time": 0.1185772905,
                        "learn": [
                          0.7697456105,
                          0.6356062299
                        ]
                      },
                      {
                        "test": [
                          0.7517820921,
                          0.6812843244
                        ],
                        "passed_time": 8.365616384,
                        "iteration": 493,
                        "remaining_time": 0.1016066767,
                        "learn": [
                          0.7698615055,
                          0.6355438218
                        ]
                      },
                      {
                        "test": [
                          0.7517241379,
                          0.6812998463
                        ],
                        "passed_time": 8.379939432,
                        "iteration": 494,
                        "remaining_time": 0.08464585285,
                        "learn": [
                          0.7699484267,
                          0.6354810021
                        ]
                      },
                      {
                        "test": [
                          0.7516661837,
                          0.6813369246
                        ],
                        "passed_time": 8.394053811,
                        "iteration": 495,
                        "remaining_time": 0.06769398234,
                        "learn": [
                          0.770035348,
                          0.6354213226
                        ]
                      },
                      {
                        "test": [
                          0.7517241379,
                          0.681329448
                        ],
                        "passed_time": 8.408137915,
                        "iteration": 496,
                        "remaining_time": 0.05075334758,
                        "learn": [
                          0.7701222692,
                          0.6353602549
                        ]
                      },
                      {
                        "test": [
                          0.7516661837,
                          0.6813409387
                        ],
                        "passed_time": 8.422976168,
                        "iteration": 497,
                        "remaining_time": 0.03382721352,
                        "learn": [
                          0.7700643217,
                          0.6352405414
                        ]
                      },
                      {
                        "test": [
                          0.7517241379,
                          0.6813112271
                        ],
                        "passed_time": 8.437210028,
                        "iteration": 498,
                        "remaining_time": 0.01690823653,
                        "learn": [
                          0.7701222692,
                          0.6351913051
                        ]
                      },
                      {
                        "test": [
                          0.7518980006,
                          0.6813400647
                        ],
                        "passed_time": 8.452521065,
                        "iteration": 499,
                        "remaining_time": 0,
                        "learn": [
                          0.7700932955,
                          0.6351147716
                        ]
                      }
                    ]
                  },
                  "total_iterations": 500,
                  "passed_iterations": 499
                },
                "path": "catboost_info/fold-2",
                "name": "fold-2"
              }
            },
            "_view_module": "catboost-widget",
            "_model_module_version": "^1.0.0",
            "_view_count": null,
            "_view_module_version": "^1.0.0",
            "layout": "IPY_MODEL_c8d8b2a7c4e14d1db3768d415cddcba1",
            "_model_module": "catboost-widget"
          }
        },
        "9246ade5d6d445969edb880b54351316": {
          "model_module": "catboost-widget",
          "model_name": "CatboostWidgetModel",
          "model_module_version": "^1.0.0",
          "state": {
            "_view_name": "CatboostWidgetView",
            "_dom_classes": [],
            "_model_name": "CatboostWidgetModel",
            "data": {
              "catboost_info": {
                "content": {
                  "data": {
                    "meta": {
                      "name": "experiment",
                      "parameters": "",
                      "test_metrics": [
                        {
                          "best_value": "Max",
                          "name": "Accuracy"
                        },
                        {
                          "best_value": "Min",
                          "name": "Logloss"
                        }
                      ],
                      "learn_sets": [
                        "learn"
                      ],
                      "launch_mode": "Train",
                      "learn_metrics": [
                        {
                          "best_value": "Max",
                          "name": "Accuracy"
                        },
                        {
                          "best_value": "Min",
                          "name": "Logloss"
                        }
                      ],
                      "iteration_count": 500,
                      "test_sets": [
                        "test"
                      ]
                    },
                    "iterations": [
                      {
                        "test": [
                          0.6839404181,
                          0.6772066761
                        ],
                        "passed_time": 0.01343434262,
                        "iteration": 0,
                        "remaining_time": 6.703736969,
                        "learn": [
                          0.6813952518,
                          0.6773556688
                        ]
                      },
                      {
                        "test": [
                          0.6865690324,
                          0.6642249482
                        ],
                        "passed_time": 0.02609135464,
                        "iteration": 1,
                        "remaining_time": 6.496747306,
                        "learn": [
                          0.6862352401,
                          0.6642759839
                        ]
                      },
                      {
                        "test": [
                          0.6891976468,
                          0.6527381416
                        ],
                        "passed_time": 0.03903744739,
                        "iteration": 2,
                        "remaining_time": 6.467203784,
                        "learn": [
                          0.6884048901,
                          0.6527571696
                        ]
                      },
                      {
                        "test": [
                          0.6900738515,
                          0.6440263479
                        ],
                        "passed_time": 0.0521653213,
                        "iteration": 3,
                        "remaining_time": 6.468499841,
                        "learn": [
                          0.6901990237,
                          0.643747591
                        ]
                      },
                      {
                        "test": [
                          0.6924521217,
                          0.6358900632
                        ],
                        "passed_time": 0.06538016787,
                        "iteration": 4,
                        "remaining_time": 6.47263662,
                        "learn": [
                          0.6899486794,
                          0.6360903845
                        ]
                      },
                      {
                        "test": [
                          0.6933283264,
                          0.6289946175
                        ],
                        "passed_time": 0.07910536656,
                        "iteration": 5,
                        "remaining_time": 6.513008513,
                        "learn": [
                          0.6927024659,
                          0.6293048165
                        ]
                      },
                      {
                        "test": [
                          0.6938290149,
                          0.6230411396
                        ],
                        "passed_time": 0.09274685238,
                        "iteration": 6,
                        "remaining_time": 6.532028318,
                        "learn": [
                          0.6932448784,
                          0.6235420683
                        ]
                      },
                      {
                        "test": [
                          0.696207285,
                          0.6181979765
                        ],
                        "passed_time": 0.1059308055,
                        "iteration": 7,
                        "remaining_time": 6.514744536,
                        "learn": [
                          0.6943297033,
                          0.6188325812
                        ]
                      },
                      {
                        "test": [
                          0.6974590061,
                          0.614017902
                        ],
                        "passed_time": 0.1190573622,
                        "iteration": 8,
                        "remaining_time": 6.495240537,
                        "learn": [
                          0.6949555639,
                          0.614735411
                        ]
                      },
                      {
                        "test": [
                          0.6968331456,
                          0.6104092636
                        ],
                        "passed_time": 0.1323043585,
                        "iteration": 9,
                        "remaining_time": 6.482913568,
                        "learn": [
                          0.6953728043,
                          0.6110813765
                        ]
                      },
                      {
                        "test": [
                          0.6980848667,
                          0.6074192121
                        ],
                        "passed_time": 0.1453092039,
                        "iteration": 10,
                        "remaining_time": 6.45965461,
                        "learn": [
                          0.6958734927,
                          0.6079291175
                        ]
                      },
                      {
                        "test": [
                          0.6970834898,
                          0.6045817334
                        ],
                        "passed_time": 0.1607439649,
                        "iteration": 11,
                        "remaining_time": 6.536921238,
                        "learn": [
                          0.6968331456,
                          0.6047543405
                        ]
                      },
                      {
                        "test": [
                          0.6980848667,
                          0.602186826
                        ],
                        "passed_time": 0.1755668002,
                        "iteration": 12,
                        "remaining_time": 6.577002437,
                        "learn": [
                          0.6970000417,
                          0.6023374444
                        ]
                      },
                      {
                        "test": [
                          0.6978345225,
                          0.600257784
                        ],
                        "passed_time": 0.1898971858,
                        "iteration": 13,
                        "remaining_time": 6.592145165,
                        "learn": [
                          0.6980014186,
                          0.6000698961
                        ]
                      },
                      {
                        "test": [
                          0.6989610715,
                          0.5986255826
                        ],
                        "passed_time": 0.2043174067,
                        "iteration": 14,
                        "remaining_time": 6.606262817,
                        "learn": [
                          0.6985021071,
                          0.5981079126
                        ]
                      },
                      {
                        "test": [
                          0.6990862436,
                          0.59698457
                        ],
                        "passed_time": 0.2235989059,
                        "iteration": 15,
                        "remaining_time": 6.763866905,
                        "learn": [
                          0.698376935,
                          0.5963688266
                        ]
                      },
                      {
                        "test": [
                          0.6992114157,
                          0.5955333327
                        ],
                        "passed_time": 0.2382259146,
                        "iteration": 16,
                        "remaining_time": 6.768418632,
                        "learn": [
                          0.698418659,
                          0.5949091684
                        ]
                      },
                      {
                        "test": [
                          0.6992114157,
                          0.5944135581
                        ],
                        "passed_time": 0.2528225315,
                        "iteration": 17,
                        "remaining_time": 6.770025566,
                        "learn": [
                          0.6987941753,
                          0.5932499373
                        ]
                      },
                      {
                        "test": [
                          0.6990862436,
                          0.5935380125
                        ],
                        "passed_time": 0.2660736912,
                        "iteration": 18,
                        "remaining_time": 6.735865552,
                        "learn": [
                          0.6982934869,
                          0.5921873362
                        ]
                      },
                      {
                        "test": [
                          0.6994617599,
                          0.5923571749
                        ],
                        "passed_time": 0.2830350552,
                        "iteration": 19,
                        "remaining_time": 6.792841324,
                        "learn": [
                          0.6989610715,
                          0.5906445793
                        ]
                      },
                      {
                        "test": [
                          0.6994617599,
                          0.5914011423
                        ],
                        "passed_time": 0.2969146577,
                        "iteration": 20,
                        "remaining_time": 6.772481954,
                        "learn": [
                          0.6994200359,
                          0.5893556635
                        ]
                      },
                      {
                        "test": [
                          0.7000876205,
                          0.5902997751
                        ],
                        "passed_time": 0.3108239956,
                        "iteration": 21,
                        "remaining_time": 6.753357722,
                        "learn": [
                          0.6996286561,
                          0.5881823215
                        ]
                      },
                      {
                        "test": [
                          0.6994617599,
                          0.5894829578
                        ],
                        "passed_time": 0.3239295109,
                        "iteration": 22,
                        "remaining_time": 6.718016379,
                        "learn": [
                          0.700713481,
                          0.5870338846
                        ]
                      },
                      {
                        "test": [
                          0.6997121041,
                          0.5886299474
                        ],
                        "passed_time": 0.3373586593,
                        "iteration": 23,
                        "remaining_time": 6.690946743,
                        "learn": [
                          0.7015479618,
                          0.5858814273
                        ]
                      },
                      {
                        "test": [
                          0.6997121041,
                          0.5880560126
                        ],
                        "passed_time": 0.3518750532,
                        "iteration": 24,
                        "remaining_time": 6.685626011,
                        "learn": [
                          0.701756582,
                          0.5848724255
                        ]
                      },
                      {
                        "test": [
                          0.6999624484,
                          0.5875138146
                        ],
                        "passed_time": 0.3653881344,
                        "iteration": 25,
                        "remaining_time": 6.661306759,
                        "learn": [
                          0.7024658906,
                          0.5841336504
                        ]
                      },
                      {
                        "test": [
                          0.7014645137,
                          0.5870421755
                        ],
                        "passed_time": 0.3788874793,
                        "iteration": 26,
                        "remaining_time": 6.637547323,
                        "learn": [
                          0.7031751992,
                          0.583404768
                        ]
                      },
                      {
                        "test": [
                          0.7013393416,
                          0.5867318315
                        ],
                        "passed_time": 0.3928556307,
                        "iteration": 27,
                        "remaining_time": 6.622423489,
                        "learn": [
                          0.7025493387,
                          0.5825651729
                        ]
                      },
                      {
                        "test": [
                          0.7013393416,
                          0.5859928261
                        ],
                        "passed_time": 0.4109501408,
                        "iteration": 28,
                        "remaining_time": 6.674397115,
                        "learn": [
                          0.7030917512,
                          0.5815478222
                        ]
                      },
                      {
                        "test": [
                          0.7017148579,
                          0.5856064464
                        ],
                        "passed_time": 0.4250795411,
                        "iteration": 29,
                        "remaining_time": 6.659579477,
                        "learn": [
                          0.7038427838,
                          0.580981912
                        ]
                      },
                      {
                        "test": [
                          0.7013393416,
                          0.5852471919
                        ],
                        "passed_time": 0.4394541067,
                        "iteration": 30,
                        "remaining_time": 6.648515356,
                        "learn": [
                          0.7047189886,
                          0.5803902611
                        ]
                      },
                      {
                        "test": [
                          0.7014645137,
                          0.5847667781
                        ],
                        "passed_time": 0.4536345283,
                        "iteration": 31,
                        "remaining_time": 6.634404976,
                        "learn": [
                          0.7053865732,
                          0.579430462
                        ]
                      },
                      {
                        "test": [
                          0.7019652022,
                          0.5843401761
                        ],
                        "passed_time": 0.4681653739,
                        "iteration": 32,
                        "remaining_time": 6.625249383,
                        "learn": [
                          0.7055117453,
                          0.57886869
                        ]
                      },
                      {
                        "test": [
                          0.7020903743,
                          0.5838958413
                        ],
                        "passed_time": 0.4830175328,
                        "iteration": 33,
                        "remaining_time": 6.620181479,
                        "learn": [
                          0.7055117453,
                          0.5780308428
                        ]
                      },
                      {
                        "test": [
                          0.7030917512,
                          0.5836025327
                        ],
                        "passed_time": 0.4964520918,
                        "iteration": 34,
                        "remaining_time": 6.595720648,
                        "learn": [
                          0.7065548462,
                          0.5774686313
                        ]
                      },
                      {
                        "test": [
                          0.7017148579,
                          0.5832978551
                        ],
                        "passed_time": 0.5101206232,
                        "iteration": 35,
                        "remaining_time": 6.574888032,
                        "learn": [
                          0.7067217424,
                          0.5767161458
                        ]
                      },
                      {
                        "test": [
                          0.7025910627,
                          0.5829640998
                        ],
                        "passed_time": 0.5239609546,
                        "iteration": 36,
                        "remaining_time": 6.556592485,
                        "learn": [
                          0.7069303626,
                          0.57607967
                        ]
                      },
                      {
                        "test": [
                          0.7017148579,
                          0.5826125566
                        ],
                        "passed_time": 0.5495730878,
                        "iteration": 37,
                        "remaining_time": 6.681651752,
                        "learn": [
                          0.7069303626,
                          0.5754875706
                        ]
                      },
                      {
                        "test": [
                          0.7030917512,
                          0.582480004
                        ],
                        "passed_time": 0.5634854346,
                        "iteration": 38,
                        "remaining_time": 6.660686804,
                        "learn": [
                          0.7076396712,
                          0.5748658319
                        ]
                      },
                      {
                        "test": [
                          0.7027162348,
                          0.5823200074
                        ],
                        "passed_time": 0.5770516807,
                        "iteration": 39,
                        "remaining_time": 6.636094328,
                        "learn": [
                          0.7076396712,
                          0.574318675
                        ]
                      },
                      {
                        "test": [
                          0.7034672675,
                          0.5818713973
                        ],
                        "passed_time": 0.5910487539,
                        "iteration": 40,
                        "remaining_time": 6.616862879,
                        "learn": [
                          0.707431051,
                          0.5736752129
                        ]
                      },
                      {
                        "test": [
                          0.7038427838,
                          0.5815264574
                        ],
                        "passed_time": 0.6075989231,
                        "iteration": 41,
                        "remaining_time": 6.62572159,
                        "learn": [
                          0.7080569116,
                          0.5731341961
                        ]
                      },
                      {
                        "test": [
                          0.7035924396,
                          0.581449244
                        ],
                        "passed_time": 0.6246573145,
                        "iteration": 42,
                        "remaining_time": 6.638799831,
                        "learn": [
                          0.7085576,
                          0.572669239
                        ]
                      },
                      {
                        "test": [
                          0.7035924396,
                          0.5810636357
                        ],
                        "passed_time": 0.6412990133,
                        "iteration": 43,
                        "remaining_time": 6.646189774,
                        "learn": [
                          0.7088496683,
                          0.5719918972
                        ]
                      },
                      {
                        "test": [
                          0.7043434723,
                          0.5806945041
                        ],
                        "passed_time": 0.655379393,
                        "iteration": 44,
                        "remaining_time": 6.626613863,
                        "learn": [
                          0.7098927692,
                          0.5713604259
                        ]
                      },
                      {
                        "test": [
                          0.7035924396,
                          0.5804975461
                        ],
                        "passed_time": 0.6738700225,
                        "iteration": 45,
                        "remaining_time": 6.650804135,
                        "learn": [
                          0.7095589769,
                          0.570777831
                        ]
                      },
                      {
                        "test": [
                          0.7038427838,
                          0.5802244209
                        ],
                        "passed_time": 0.7026537379,
                        "iteration": 46,
                        "remaining_time": 6.772386027,
                        "learn": [
                          0.7099344933,
                          0.5702327273
                        ]
                      },
                      {
                        "test": [
                          0.7038427838,
                          0.579942686
                        ],
                        "passed_time": 0.7159449796,
                        "iteration": 47,
                        "remaining_time": 6.741815224,
                        "learn": [
                          0.7100596654,
                          0.569652251
                        ]
                      },
                      {
                        "test": [
                          0.7039679559,
                          0.5798256053
                        ],
                        "passed_time": 0.7294164099,
                        "iteration": 48,
                        "remaining_time": 6.71360818,
                        "learn": [
                          0.7104351817,
                          0.5691587562
                        ]
                      },
                      {
                        "test": [
                          0.7035924396,
                          0.5797042511
                        ],
                        "passed_time": 0.7429565921,
                        "iteration": 49,
                        "remaining_time": 6.686609329,
                        "learn": [
                          0.7110610423,
                          0.5686460184
                        ]
                      },
                      {
                        "test": [
                          0.7045938165,
                          0.5794852954
                        ],
                        "passed_time": 0.7569572997,
                        "iteration": 50,
                        "remaining_time": 6.664192697,
                        "learn": [
                          0.7113948346,
                          0.5681934687
                        ]
                      },
                      {
                        "test": [
                          0.7049693328,
                          0.5793364767
                        ],
                        "passed_time": 0.7707056996,
                        "iteration": 51,
                        "remaining_time": 6.639926027,
                        "learn": [
                          0.7116869028,
                          0.5677970227
                        ]
                      },
                      {
                        "test": [
                          0.7054700213,
                          0.5791911368
                        ],
                        "passed_time": 0.7847458646,
                        "iteration": 52,
                        "remaining_time": 6.618517009,
                        "learn": [
                          0.7124379355,
                          0.5674294668
                        ]
                      },
                      {
                        "test": [
                          0.7052196771,
                          0.5790750488
                        ],
                        "passed_time": 0.7985674735,
                        "iteration": 53,
                        "remaining_time": 6.5955758,
                        "learn": [
                          0.7129386239,
                          0.5669895151
                        ]
                      },
                      {
                        "test": [
                          0.7053448492,
                          0.5790328505
                        ],
                        "passed_time": 0.8124470515,
                        "iteration": 54,
                        "remaining_time": 6.573435235,
                        "learn": [
                          0.7133975884,
                          0.5664992706
                        ]
                      },
                      {
                        "test": [
                          0.7052196771,
                          0.5790280147
                        ],
                        "passed_time": 0.8266948897,
                        "iteration": 55,
                        "remaining_time": 6.554509483,
                        "learn": [
                          0.7138565528,
                          0.5660951393
                        ]
                      },
                      {
                        "test": [
                          0.7050945049,
                          0.5789556391
                        ],
                        "passed_time": 0.8403621484,
                        "iteration": 56,
                        "remaining_time": 6.531235645,
                        "learn": [
                          0.7138982768,
                          0.5657522968
                        ]
                      },
                      {
                        "test": [
                          0.7055951934,
                          0.5788733933
                        ],
                        "passed_time": 0.8538956357,
                        "iteration": 57,
                        "remaining_time": 6.507273637,
                        "learn": [
                          0.7143989652,
                          0.5653355974
                        ]
                      },
                      {
                        "test": [
                          0.7054700213,
                          0.5787337613
                        ],
                        "passed_time": 0.8673623035,
                        "iteration": 58,
                        "remaining_time": 6.483165692,
                        "learn": [
                          0.7144824133,
                          0.5648494874
                        ]
                      },
                      {
                        "test": [
                          0.7057203655,
                          0.5786143747
                        ],
                        "passed_time": 0.8811777028,
                        "iteration": 59,
                        "remaining_time": 6.461969821,
                        "learn": [
                          0.7146910335,
                          0.5644274999
                        ]
                      },
                      {
                        "test": [
                          0.7048441607,
                          0.5784777699
                        ],
                        "passed_time": 0.8947944448,
                        "iteration": 60,
                        "remaining_time": 6.43958625,
                        "learn": [
                          0.7156089623,
                          0.5639989585
                        ]
                      },
                      {
                        "test": [
                          0.7052196771,
                          0.5783718702
                        ],
                        "passed_time": 0.9083261557,
                        "iteration": 61,
                        "remaining_time": 6.416884778,
                        "learn": [
                          0.7158175825,
                          0.5635595217
                        ]
                      },
                      {
                        "test": [
                          0.7050945049,
                          0.5782280009
                        ],
                        "passed_time": 0.9217149594,
                        "iteration": 62,
                        "remaining_time": 6.393483131,
                        "learn": [
                          0.7160679267,
                          0.5633155595
                        ]
                      },
                      {
                        "test": [
                          0.7044686444,
                          0.5780630279
                        ],
                        "passed_time": 0.9361985508,
                        "iteration": 63,
                        "remaining_time": 6.377852628,
                        "learn": [
                          0.7161513748,
                          0.5627454305
                        ]
                      },
                      {
                        "test": [
                          0.7052196771,
                          0.5779907883
                        ],
                        "passed_time": 0.9667115554,
                        "iteration": 64,
                        "remaining_time": 6.469531178,
                        "learn": [
                          0.7169441315,
                          0.5623365696
                        ]
                      },
                      {
                        "test": [
                          0.7055951934,
                          0.5779638888
                        ],
                        "passed_time": 0.9804721873,
                        "iteration": 65,
                        "remaining_time": 6.447347413,
                        "learn": [
                          0.7174030959,
                          0.5620570826
                        ]
                      },
                      {
                        "test": [
                          0.7059707097,
                          0.5777475112
                        ],
                        "passed_time": 0.9946349073,
                        "iteration": 66,
                        "remaining_time": 6.428013654,
                        "learn": [
                          0.7177786123,
                          0.561804341
                        ]
                      },
                      {
                        "test": [
                          0.7052196771,
                          0.5776564761
                        ],
                        "passed_time": 1.008807786,
                        "iteration": 67,
                        "remaining_time": 6.408896521,
                        "learn": [
                          0.7181124046,
                          0.5614055297
                        ]
                      },
                      {
                        "test": [
                          0.7047189886,
                          0.577620173
                        ],
                        "passed_time": 1.022393271,
                        "iteration": 68,
                        "remaining_time": 6.386253623,
                        "learn": [
                          0.7179455084,
                          0.5610789155
                        ]
                      },
                      {
                        "test": [
                          0.7052196771,
                          0.5775270457
                        ],
                        "passed_time": 1.036345707,
                        "iteration": 69,
                        "remaining_time": 6.366123632,
                        "learn": [
                          0.7181541286,
                          0.5607793303
                        ]
                      },
                      {
                        "test": [
                          0.7059707097,
                          0.5774094257
                        ],
                        "passed_time": 1.050832638,
                        "iteration": 70,
                        "remaining_time": 6.349397206,
                        "learn": [
                          0.7188217132,
                          0.5603179887
                        ]
                      },
                      {
                        "test": [
                          0.7059707097,
                          0.5773231712
                        ],
                        "passed_time": 1.067848467,
                        "iteration": 71,
                        "remaining_time": 6.347765889,
                        "learn": [
                          0.7187382651,
                          0.559999457
                        ]
                      },
                      {
                        "test": [
                          0.7059707097,
                          0.5772246438
                        ],
                        "passed_time": 1.081660568,
                        "iteration": 72,
                        "remaining_time": 6.326973458,
                        "learn": [
                          0.7191972295,
                          0.5597974586
                        ]
                      },
                      {
                        "test": [
                          0.7067217424,
                          0.577240041
                        ],
                        "passed_time": 1.095015682,
                        "iteration": 73,
                        "remaining_time": 6.303738925,
                        "learn": [
                          0.7200734343,
                          0.5595028995
                        ]
                      },
                      {
                        "test": [
                          0.7069720866,
                          0.5770971406
                        ],
                        "passed_time": 1.111189488,
                        "iteration": 74,
                        "remaining_time": 6.29674043,
                        "learn": [
                          0.7198230901,
                          0.5591239826
                        ]
                      },
                      {
                        "test": [
                          0.7069720866,
                          0.5770637798
                        ],
                        "passed_time": 1.124077568,
                        "iteration": 75,
                        "remaining_time": 6.271169588,
                        "learn": [
                          0.7195310218,
                          0.5588738013
                        ]
                      },
                      {
                        "test": [
                          0.7064713982,
                          0.5770261613
                        ],
                        "passed_time": 1.137767092,
                        "iteration": 76,
                        "remaining_time": 6.250330909,
                        "learn": [
                          0.7199482622,
                          0.5584981622
                        ]
                      },
                      {
                        "test": [
                          0.7058455376,
                          0.576800002
                        ],
                        "passed_time": 1.152531427,
                        "iteration": 77,
                        "remaining_time": 6.235490539,
                        "learn": [
                          0.7198230901,
                          0.5581108141
                        ]
                      },
                      {
                        "test": [
                          0.7060958818,
                          0.5767333963
                        ],
                        "passed_time": 1.166409163,
                        "iteration": 78,
                        "remaining_time": 6.215927312,
                        "learn": [
                          0.719781366,
                          0.55790897
                        ]
                      },
                      {
                        "test": [
                          0.7059707097,
                          0.5767550101
                        ],
                        "passed_time": 1.179891738,
                        "iteration": 79,
                        "remaining_time": 6.194431624,
                        "learn": [
                          0.7199899862,
                          0.5576743522
                        ]
                      },
                      {
                        "test": [
                          0.7058455376,
                          0.5767708761
                        ],
                        "passed_time": 1.19458762,
                        "iteration": 80,
                        "remaining_time": 6.179410032,
                        "learn": [
                          0.7204072266,
                          0.5573866279
                        ]
                      },
                      {
                        "test": [
                          0.7064713982,
                          0.5767701591
                        ],
                        "passed_time": 1.208657226,
                        "iteration": 81,
                        "remaining_time": 6.16120391,
                        "learn": [
                          0.7203655026,
                          0.5571249228
                        ]
                      },
                      {
                        "test": [
                          0.7064713982,
                          0.5768605682
                        ],
                        "passed_time": 1.222536839,
                        "iteration": 82,
                        "remaining_time": 6.142142913,
                        "learn": [
                          0.7211999833,
                          0.5567088599
                        ]
                      },
                      {
                        "test": [
                          0.7059707097,
                          0.5767636572
                        ],
                        "passed_time": 1.236746117,
                        "iteration": 83,
                        "remaining_time": 6.124837912,
                        "learn": [
                          0.7222013602,
                          0.5562611963
                        ]
                      },
                      {
                        "test": [
                          0.7049693328,
                          0.5766939339
                        ],
                        "passed_time": 1.250365266,
                        "iteration": 84,
                        "remaining_time": 6.104724533,
                        "learn": [
                          0.7223265323,
                          0.5557740242
                        ]
                      },
                      {
                        "test": [
                          0.7048441607,
                          0.5766353227
                        ],
                        "passed_time": 1.264264311,
                        "iteration": 85,
                        "remaining_time": 6.086109589,
                        "learn": [
                          0.7225351525,
                          0.5554286258
                        ]
                      },
                      {
                        "test": [
                          0.7044686444,
                          0.5765616717
                        ],
                        "passed_time": 1.277582614,
                        "iteration": 86,
                        "remaining_time": 6.064846204,
                        "learn": [
                          0.7224934285,
                          0.5551694951
                        ]
                      },
                      {
                        "test": [
                          0.7043434723,
                          0.5766490524
                        ],
                        "passed_time": 1.291256839,
                        "iteration": 87,
                        "remaining_time": 6.045429746,
                        "learn": [
                          0.7226603246,
                          0.5549385295
                        ]
                      },
                      {
                        "test": [
                          0.7048441607,
                          0.576584995
                        ],
                        "passed_time": 1.305107552,
                        "iteration": 88,
                        "remaining_time": 6.026957349,
                        "learn": [
                          0.7227437727,
                          0.5546864285
                        ]
                      },
                      {
                        "test": [
                          0.7054700213,
                          0.5765278262
                        ],
                        "passed_time": 1.318640536,
                        "iteration": 89,
                        "remaining_time": 6.00714022,
                        "learn": [
                          0.723077565,
                          0.5543933625
                        ]
                      },
                      {
                        "test": [
                          0.7054700213,
                          0.576520694
                        ],
                        "passed_time": 1.331962236,
                        "iteration": 90,
                        "remaining_time": 5.986511588,
                        "learn": [
                          0.7230358409,
                          0.5541917402
                        ]
                      },
                      {
                        "test": [
                          0.7057203655,
                          0.5766239021
                        ],
                        "passed_time": 1.344947095,
                        "iteration": 91,
                        "remaining_time": 5.964547988,
                        "learn": [
                          0.7230358409,
                          0.5538257104
                        ]
                      },
                      {
                        "test": [
                          0.7055951934,
                          0.5766873845
                        ],
                        "passed_time": 1.366905699,
                        "iteration": 92,
                        "remaining_time": 5.982049671,
                        "learn": [
                          0.7237451496,
                          0.5534589813
                        ]
                      },
                      {
                        "test": [
                          0.7049693328,
                          0.5767716871
                        ],
                        "passed_time": 1.384812541,
                        "iteration": 93,
                        "remaining_time": 5.981211613,
                        "learn": [
                          0.7239954938,
                          0.5531269372
                        ]
                      },
                      {
                        "test": [
                          0.7053448492,
                          0.5765874795
                        ],
                        "passed_time": 1.399068837,
                        "iteration": 94,
                        "remaining_time": 5.964451357,
                        "learn": [
                          0.7250803188,
                          0.5527333279
                        ]
                      },
                      {
                        "test": [
                          0.7049693328,
                          0.576585636
                        ],
                        "passed_time": 1.412128181,
                        "iteration": 95,
                        "remaining_time": 5.942706097,
                        "learn": [
                          0.725288939,
                          0.5524186381
                        ]
                      },
                      {
                        "test": [
                          0.7052196771,
                          0.5763871631
                        ],
                        "passed_time": 1.426269259,
                        "iteration": 96,
                        "remaining_time": 5.925634138,
                        "learn": [
                          0.7250385947,
                          0.5519943774
                        ]
                      },
                      {
                        "test": [
                          0.7047189886,
                          0.5763109009
                        ],
                        "passed_time": 1.440403511,
                        "iteration": 97,
                        "remaining_time": 5.908593994,
                        "learn": [
                          0.7257061793,
                          0.5516990697
                        ]
                      },
                      {
                        "test": [
                          0.7050945049,
                          0.5762864769
                        ],
                        "passed_time": 1.454316551,
                        "iteration": 98,
                        "remaining_time": 5.890716536,
                        "learn": [
                          0.7262068678,
                          0.5513233909
                        ]
                      },
                      {
                        "test": [
                          0.7055951934,
                          0.5762667429
                        ],
                        "passed_time": 1.468601926,
                        "iteration": 99,
                        "remaining_time": 5.874407705,
                        "learn": [
                          0.7266241081,
                          0.5510104686
                        ]
                      },
                      {
                        "test": [
                          0.7052196771,
                          0.5763015415
                        ],
                        "passed_time": 1.486254402,
                        "iteration": 100,
                        "remaining_time": 5.871440656,
                        "learn": [
                          0.726498936,
                          0.5507887929
                        ]
                      },
                      {
                        "test": [
                          0.7055951934,
                          0.576270774
                        ],
                        "passed_time": 1.499659952,
                        "iteration": 101,
                        "remaining_time": 5.851614321,
                        "learn": [
                          0.7270413485,
                          0.5504915141
                        ]
                      },
                      {
                        "test": [
                          0.7050945049,
                          0.5763210492
                        ],
                        "passed_time": 1.512918334,
                        "iteration": 102,
                        "remaining_time": 5.831345421,
                        "learn": [
                          0.7270830726,
                          0.5501615757
                        ]
                      },
                      {
                        "test": [
                          0.7040931281,
                          0.5762882276
                        ],
                        "passed_time": 1.526761166,
                        "iteration": 103,
                        "remaining_time": 5.813436746,
                        "learn": [
                          0.7271665206,
                          0.5498905576
                        ]
                      },
                      {
                        "test": [
                          0.7043434723,
                          0.5761645365
                        ],
                        "passed_time": 1.543071998,
                        "iteration": 104,
                        "remaining_time": 5.804889898,
                        "learn": [
                          0.7276672091,
                          0.5496179054
                        ]
                      },
                      {
                        "test": [
                          0.7052196771,
                          0.5761922628
                        ],
                        "passed_time": 1.557394197,
                        "iteration": 105,
                        "remaining_time": 5.788804846,
                        "learn": [
                          0.7279592773,
                          0.5492934954
                        ]
                      },
                      {
                        "test": [
                          0.7049693328,
                          0.5762555051
                        ],
                        "passed_time": 1.571250726,
                        "iteration": 106,
                        "remaining_time": 5.771042385,
                        "learn": [
                          0.7281261735,
                          0.5489319498
                        ]
                      },
                      {
                        "test": [
                          0.7044686444,
                          0.5763089052
                        ],
                        "passed_time": 1.584193206,
                        "iteration": 107,
                        "remaining_time": 5.750034599,
                        "learn": [
                          0.72871031,
                          0.5487383087
                        ]
                      },
                      {
                        "test": [
                          0.7049693328,
                          0.576346889
                        ],
                        "passed_time": 1.597827704,
                        "iteration": 108,
                        "remaining_time": 5.731657177,
                        "learn": [
                          0.7290858263,
                          0.5483638972
                        ]
                      },
                      {
                        "test": [
                          0.7048441607,
                          0.5763483615
                        ],
                        "passed_time": 1.611660244,
                        "iteration": 109,
                        "remaining_time": 5.714068138,
                        "learn": [
                          0.7297534109,
                          0.5479681863
                        ]
                      },
                      {
                        "test": [
                          0.7050945049,
                          0.5764137901
                        ],
                        "passed_time": 1.627450152,
                        "iteration": 110,
                        "remaining_time": 5.70340639,
                        "learn": [
                          0.7298785831,
                          0.5477150936
                        ]
                      },
                      {
                        "test": [
                          0.7052196771,
                          0.5764910867
                        ],
                        "passed_time": 1.640315308,
                        "iteration": 111,
                        "remaining_time": 5.682520887,
                        "learn": [
                          0.7299203071,
                          0.547408406
                        ]
                      },
                      {
                        "test": [
                          0.7060958818,
                          0.5764037514
                        ],
                        "passed_time": 1.653228092,
                        "iteration": 112,
                        "remaining_time": 5.661940458,
                        "learn": [
                          0.7307130638,
                          0.547136982
                        ]
                      },
                      {
                        "test": [
                          0.7063462261,
                          0.5764402826
                        ],
                        "passed_time": 1.665892562,
                        "iteration": 113,
                        "remaining_time": 5.640653763,
                        "learn": [
                          0.7305461676,
                          0.5469588764
                        ]
                      },
                      {
                        "test": [
                          0.7064713982,
                          0.5764168491
                        ],
                        "passed_time": 1.680113396,
                        "iteration": 114,
                        "remaining_time": 5.624727455,
                        "learn": [
                          0.7312554763,
                          0.5466955529
                        ]
                      },
                      {
                        "test": [
                          0.7064713982,
                          0.5763876936
                        ],
                        "passed_time": 1.704209663,
                        "iteration": 115,
                        "remaining_time": 5.641521645,
                        "learn": [
                          0.7310885801,
                          0.5464893822
                        ]
                      },
                      {
                        "test": [
                          0.7060958818,
                          0.576376967
                        ],
                        "passed_time": 1.718778549,
                        "iteration": 116,
                        "remaining_time": 5.626428927,
                        "learn": [
                          0.7312554763,
                          0.5461865138
                        ]
                      },
                      {
                        "test": [
                          0.7060958818,
                          0.5762970838
                        ],
                        "passed_time": 1.732783025,
                        "iteration": 117,
                        "remaining_time": 5.609517928,
                        "learn": [
                          0.7319230609,
                          0.5458725641
                        ]
                      },
                      {
                        "test": [
                          0.7067217424,
                          0.5763912412
                        ],
                        "passed_time": 1.751820242,
                        "iteration": 118,
                        "remaining_time": 5.608769011,
                        "learn": [
                          0.7320065089,
                          0.5454304098
                        ]
                      },
                      {
                        "test": [
                          0.7067217424,
                          0.5764855366
                        ],
                        "passed_time": 1.764953653,
                        "iteration": 119,
                        "remaining_time": 5.589019902,
                        "learn": [
                          0.7318813368,
                          0.5451771552
                        ]
                      },
                      {
                        "test": [
                          0.7060958818,
                          0.5764885683
                        ],
                        "passed_time": 1.777499889,
                        "iteration": 120,
                        "remaining_time": 5.567540974,
                        "learn": [
                          0.7319647849,
                          0.5449829148
                        ]
                      },
                      {
                        "test": [
                          0.7060958818,
                          0.5763914295
                        ],
                        "passed_time": 1.790544903,
                        "iteration": 121,
                        "remaining_time": 5.547753881,
                        "learn": [
                          0.7326323695,
                          0.5446910833
                        ]
                      },
                      {
                        "test": [
                          0.7059707097,
                          0.5763956974
                        ],
                        "passed_time": 1.803596797,
                        "iteration": 122,
                        "remaining_time": 5.528097499,
                        "learn": [
                          0.7329661618,
                          0.5444430525
                        ]
                      },
                      {
                        "test": [
                          0.7060958818,
                          0.5764588403
                        ],
                        "passed_time": 1.817887464,
                        "iteration": 123,
                        "remaining_time": 5.512303923,
                        "learn": [
                          0.7327158176,
                          0.5441455302
                        ]
                      },
                      {
                        "test": [
                          0.7059707097,
                          0.5764744464
                        ],
                        "passed_time": 1.831495377,
                        "iteration": 124,
                        "remaining_time": 5.494486132,
                        "learn": [
                          0.7327575416,
                          0.5437482441
                        ]
                      },
                      {
                        "test": [
                          0.7060958818,
                          0.5764824445
                        ],
                        "passed_time": 1.8445388,
                        "iteration": 125,
                        "remaining_time": 5.475059613,
                        "learn": [
                          0.7329244378,
                          0.5434983312
                        ]
                      },
                      {
                        "test": [
                          0.7064713982,
                          0.5766239936
                        ],
                        "passed_time": 1.858641779,
                        "iteration": 126,
                        "remaining_time": 5.458845541,
                        "learn": [
                          0.7336754704,
                          0.5431549587
                        ]
                      },
                      {
                        "test": [
                          0.7058455376,
                          0.576728309
                        ],
                        "passed_time": 1.872097811,
                        "iteration": 127,
                        "remaining_time": 5.440784262,
                        "learn": [
                          0.7340092627,
                          0.5428228979
                        ]
                      },
                      {
                        "test": [
                          0.7052196771,
                          0.5767242915
                        ],
                        "passed_time": 1.885011038,
                        "iteration": 128,
                        "remaining_time": 5.421233296,
                        "learn": [
                          0.7340092627,
                          0.5425954705
                        ]
                      },
                      {
                        "test": [
                          0.7058455376,
                          0.5767234105
                        ],
                        "passed_time": 1.898880361,
                        "iteration": 129,
                        "remaining_time": 5.404505644,
                        "learn": [
                          0.7345933993,
                          0.5421838683
                        ]
                      },
                      {
                        "test": [
                          0.7065965703,
                          0.576723864
                        ],
                        "passed_time": 1.911935643,
                        "iteration": 130,
                        "remaining_time": 5.385528642,
                        "learn": [
                          0.7348854675,
                          0.541932024
                        ]
                      },
                      {
                        "test": [
                          0.7068469145,
                          0.576694879
                        ],
                        "passed_time": 1.92555123,
                        "iteration": 131,
                        "remaining_time": 5.36820343,
                        "learn": [
                          0.7355113281,
                          0.5416417751
                        ]
                      },
                      {
                        "test": [
                          0.7072224308,
                          0.5766236614
                        ],
                        "passed_time": 1.953732875,
                        "iteration": 132,
                        "remaining_time": 5.391127556,
                        "learn": [
                          0.7357616723,
                          0.5412654588
                        ]
                      },
                      {
                        "test": [
                          0.7060958818,
                          0.5767378397
                        ],
                        "passed_time": 1.98008032,
                        "iteration": 133,
                        "remaining_time": 5.408279084,
                        "learn": [
                          0.7361371886,
                          0.5410163826
                        ]
                      },
                      {
                        "test": [
                          0.7065965703,
                          0.5767085172
                        ],
                        "passed_time": 1.993911338,
                        "iteration": 134,
                        "remaining_time": 5.390945469,
                        "learn": [
                          0.736512705,
                          0.540590254
                        ]
                      },
                      {
                        "test": [
                          0.7060958818,
                          0.5767506966
                        ],
                        "passed_time": 2.006679455,
                        "iteration": 135,
                        "remaining_time": 5.37081854,
                        "learn": [
                          0.7368047732,
                          0.5402484588
                        ]
                      },
                      {
                        "test": [
                          0.7058455376,
                          0.5767835828
                        ],
                        "passed_time": 2.020474452,
                        "iteration": 136,
                        "remaining_time": 5.353519899,
                        "learn": [
                          0.7373471857,
                          0.5399021043
                        ]
                      },
                      {
                        "test": [
                          0.7059707097,
                          0.5768996466
                        ],
                        "passed_time": 2.034269799,
                        "iteration": 137,
                        "remaining_time": 5.336272952,
                        "learn": [
                          0.7378895982,
                          0.5395477261
                        ]
                      },
                      {
                        "test": [
                          0.7047189886,
                          0.5768011878
                        ],
                        "passed_time": 2.047255493,
                        "iteration": 138,
                        "remaining_time": 5.3169729,
                        "learn": [
                          0.7378061501,
                          0.5393017648
                        ]
                      },
                      {
                        "test": [
                          0.7048441607,
                          0.5767532822
                        ],
                        "passed_time": 2.060604748,
                        "iteration": 139,
                        "remaining_time": 5.298697922,
                        "learn": [
                          0.7385571828,
                          0.5389839844
                        ]
                      },
                      {
                        "test": [
                          0.7044686444,
                          0.5767108665
                        ],
                        "passed_time": 2.073521849,
                        "iteration": 140,
                        "remaining_time": 5.27939251,
                        "learn": [
                          0.738807527,
                          0.5386641557
                        ]
                      },
                      {
                        "test": [
                          0.7050945049,
                          0.5766289377
                        ],
                        "passed_time": 2.086776248,
                        "iteration": 141,
                        "remaining_time": 5.261027442,
                        "learn": [
                          0.7391830434,
                          0.5383855817
                        ]
                      },
                      {
                        "test": [
                          0.7050945049,
                          0.5766021643
                        ],
                        "passed_time": 2.100613923,
                        "iteration": 142,
                        "remaining_time": 5.244190004,
                        "learn": [
                          0.7399758001,
                          0.5379990855
                        ]
                      },
                      {
                        "test": [
                          0.7048441607,
                          0.5765111916
                        ],
                        "passed_time": 2.114507137,
                        "iteration": 143,
                        "remaining_time": 5.227531532,
                        "learn": [
                          0.7401844202,
                          0.5375408371
                        ]
                      },
                      {
                        "test": [
                          0.7047189886,
                          0.5764591782
                        ],
                        "passed_time": 2.127522412,
                        "iteration": 144,
                        "remaining_time": 5.208761768,
                        "learn": [
                          0.7401844202,
                          0.5371634036
                        ]
                      },
                      {
                        "test": [
                          0.7044686444,
                          0.5764480497
                        ],
                        "passed_time": 2.14024294,
                        "iteration": 145,
                        "remaining_time": 5.18935617,
                        "learn": [
                          0.7406851087,
                          0.5368536708
                        ]
                      },
                      {
                        "test": [
                          0.7048441607,
                          0.5763827035
                        ],
                        "passed_time": 2.154170395,
                        "iteration": 146,
                        "remaining_time": 5.172939793,
                        "learn": [
                          0.7408520048,
                          0.5364648179
                        ]
                      },
                      {
                        "test": [
                          0.7047189886,
                          0.5763934681
                        ],
                        "passed_time": 2.16782071,
                        "iteration": 147,
                        "remaining_time": 5.155897906,
                        "learn": [
                          0.7414361414,
                          0.5361164428
                        ]
                      },
                      {
                        "test": [
                          0.7048441607,
                          0.5764030123
                        ],
                        "passed_time": 2.180873076,
                        "iteration": 148,
                        "remaining_time": 5.13749295,
                        "learn": [
                          0.74214545,
                          0.5357511041
                        ]
                      },
                      {
                        "test": [
                          0.7053448492,
                          0.576421703
                        ],
                        "passed_time": 2.194454833,
                        "iteration": 149,
                        "remaining_time": 5.120394611,
                        "learn": [
                          0.7423540702,
                          0.5354815519
                        ]
                      },
                      {
                        "test": [
                          0.7044686444,
                          0.5764159348
                        ],
                        "passed_time": 2.209385935,
                        "iteration": 150,
                        "remaining_time": 5.106461533,
                        "learn": [
                          0.742103726,
                          0.5352163748
                        ]
                      },
                      {
                        "test": [
                          0.7047189886,
                          0.5763676576
                        ],
                        "passed_time": 2.22239678,
                        "iteration": 151,
                        "remaining_time": 5.088118945,
                        "learn": [
                          0.7427295865,
                          0.5349458971
                        ]
                      },
                      {
                        "test": [
                          0.7043434723,
                          0.5764669308
                        ],
                        "passed_time": 2.236408972,
                        "iteration": 152,
                        "remaining_time": 5.07211708,
                        "learn": [
                          0.7431468269,
                          0.5346263578
                        ]
                      },
                      {
                        "test": [
                          0.7044686444,
                          0.5766332355
                        ],
                        "passed_time": 2.249744753,
                        "iteration": 153,
                        "remaining_time": 5.054621329,
                        "learn": [
                          0.743230275,
                          0.5343227495
                        ]
                      },
                      {
                        "test": [
                          0.7039679559,
                          0.5766183673
                        ],
                        "passed_time": 2.266260963,
                        "iteration": 154,
                        "remaining_time": 5.044258272,
                        "learn": [
                          0.7438144115,
                          0.5340286877
                        ]
                      },
                      {
                        "test": [
                          0.7045938165,
                          0.5766788079
                        ],
                        "passed_time": 2.279631397,
                        "iteration": 155,
                        "remaining_time": 5.02687949,
                        "learn": [
                          0.744398548,
                          0.5337031862
                        ]
                      },
                      {
                        "test": [
                          0.7044686444,
                          0.5766079714
                        ],
                        "passed_time": 2.293263584,
                        "iteration": 156,
                        "remaining_time": 5.010123627,
                        "learn": [
                          0.7445654442,
                          0.533410203
                        ]
                      },
                      {
                        "test": [
                          0.7042183002,
                          0.5766505496
                        ],
                        "passed_time": 2.305987025,
                        "iteration": 157,
                        "remaining_time": 4.991440269,
                        "learn": [
                          0.7449409605,
                          0.5331692829
                        ]
                      },
                      {
                        "test": [
                          0.7034672675,
                          0.5767204139
                        ],
                        "passed_time": 2.319563301,
                        "iteration": 158,
                        "remaining_time": 4.974660916,
                        "learn": [
                          0.7454416489,
                          0.5328090422
                        ]
                      },
                      {
                        "test": [
                          0.7040931281,
                          0.576702619
                        ],
                        "passed_time": 2.338690486,
                        "iteration": 159,
                        "remaining_time": 4.969717284,
                        "learn": [
                          0.7453164768,
                          0.5323866899
                        ]
                      },
                      {
                        "test": [
                          0.7040931281,
                          0.5767454959
                        ],
                        "passed_time": 2.352183596,
                        "iteration": 160,
                        "remaining_time": 4.952734404,
                        "learn": [
                          0.7456919932,
                          0.5320822644
                        ]
                      },
                      {
                        "test": [
                          0.7034672675,
                          0.5767102167
                        ],
                        "passed_time": 2.365912068,
                        "iteration": 161,
                        "remaining_time": 4.936285673,
                        "learn": [
                          0.7456085451,
                          0.5318122323
                        ]
                      },
                      {
                        "test": [
                          0.7035924396,
                          0.576755652
                        ],
                        "passed_time": 2.379345373,
                        "iteration": 162,
                        "remaining_time": 4.919260065,
                        "learn": [
                          0.7456919932,
                          0.5314754291
                        ]
                      },
                      {
                        "test": [
                          0.7035924396,
                          0.5767784828
                        ],
                        "passed_time": 2.393283293,
                        "iteration": 163,
                        "remaining_time": 4.903312112,
                        "learn": [
                          0.7457337172,
                          0.5311583751
                        ]
                      },
                      {
                        "test": [
                          0.7038427838,
                          0.5768488607
                        ],
                        "passed_time": 2.407295616,
                        "iteration": 164,
                        "remaining_time": 4.887539583,
                        "learn": [
                          0.7462344056,
                          0.530811568
                        ]
                      },
                      {
                        "test": [
                          0.7035924396,
                          0.5768388617
                        ],
                        "passed_time": 2.42096565,
                        "iteration": 165,
                        "remaining_time": 4.87109956,
                        "learn": [
                          0.746651646,
                          0.5306192184
                        ]
                      },
                      {
                        "test": [
                          0.7050945049,
                          0.5768033486
                        ],
                        "passed_time": 2.434522606,
                        "iteration": 166,
                        "remaining_time": 4.854467233,
                        "learn": [
                          0.7471106104,
                          0.5303029418
                        ]
                      },
                      {
                        "test": [
                          0.7039679559,
                          0.5767165738
                        ],
                        "passed_time": 2.448812758,
                        "iteration": 167,
                        "remaining_time": 4.839320451,
                        "learn": [
                          0.7470688864,
                          0.529954946
                        ]
                      },
                      {
                        "test": [
                          0.7035924396,
                          0.5767483245
                        ],
                        "passed_time": 2.461735,
                        "iteration": 168,
                        "remaining_time": 4.821504645,
                        "learn": [
                          0.7476947469,
                          0.5296775335
                        ]
                      },
                      {
                        "test": [
                          0.7044686444,
                          0.5767646141
                        ],
                        "passed_time": 2.475493115,
                        "iteration": 169,
                        "remaining_time": 4.805368987,
                        "learn": [
                          0.7485709517,
                          0.5293397612
                        ]
                      },
                      {
                        "test": [
                          0.7048441607,
                          0.5767902291
                        ],
                        "passed_time": 2.489176644,
                        "iteration": 170,
                        "remaining_time": 4.789117637,
                        "learn": [
                          0.7483623315,
                          0.5290728053
                        ]
                      },
                      {
                        "test": [
                          0.7045938165,
                          0.576883391
                        ],
                        "passed_time": 2.5024726,
                        "iteration": 171,
                        "remaining_time": 4.772157051,
                        "learn": [
                          0.7485292277,
                          0.5287889182
                        ]
                      },
                      {
                        "test": [
                          0.7044686444,
                          0.5769730336
                        ],
                        "passed_time": 2.516298205,
                        "iteration": 172,
                        "remaining_time": 4.75623996,
                        "learn": [
                          0.7485292277,
                          0.5285843082
                        ]
                      },
                      {
                        "test": [
                          0.7050945049,
                          0.5770841835
                        ],
                        "passed_time": 2.531228754,
                        "iteration": 173,
                        "remaining_time": 4.742417092,
                        "learn": [
                          0.7489464681,
                          0.528253747
                        ]
                      },
                      {
                        "test": [
                          0.7045938165,
                          0.5770762384
                        ],
                        "passed_time": 2.545393019,
                        "iteration": 174,
                        "remaining_time": 4.727158464,
                        "learn": [
                          0.7489464681,
                          0.5278925419
                        ]
                      },
                      {
                        "test": [
                          0.7047189886,
                          0.5770022893
                        ],
                        "passed_time": 2.559134868,
                        "iteration": 175,
                        "remaining_time": 4.711134644,
                        "learn": [
                          0.7495723286,
                          0.5276357617
                        ]
                      },
                      {
                        "test": [
                          0.7045938165,
                          0.5770183703
                        ],
                        "passed_time": 2.572699531,
                        "iteration": 176,
                        "remaining_time": 4.694813268,
                        "learn": [
                          0.750031293,
                          0.5272422786
                        ]
                      },
                      {
                        "test": [
                          0.7040931281,
                          0.5771014183
                        ],
                        "passed_time": 2.586599845,
                        "iteration": 177,
                        "remaining_time": 4.679130056,
                        "learn": [
                          0.7502399132,
                          0.5268882993
                        ]
                      },
                      {
                        "test": [
                          0.7039679559,
                          0.5770838385
                        ],
                        "passed_time": 2.599515053,
                        "iteration": 178,
                        "remaining_time": 4.661700179,
                        "learn": [
                          0.7503650853,
                          0.5266589603
                        ]
                      },
                      {
                        "test": [
                          0.7038427838,
                          0.5770213346
                        ],
                        "passed_time": 2.6133089,
                        "iteration": 179,
                        "remaining_time": 4.645882489,
                        "learn": [
                          0.7501147411,
                          0.5264289568
                        ]
                      },
                      {
                        "test": [
                          0.7035924396,
                          0.5769433628
                        ],
                        "passed_time": 2.626748317,
                        "iteration": 180,
                        "remaining_time": 4.629462503,
                        "learn": [
                          0.749989569,
                          0.5261445868
                        ]
                      },
                      {
                        "test": [
                          0.7033420954,
                          0.5770436043
                        ],
                        "passed_time": 2.639869779,
                        "iteration": 181,
                        "remaining_time": 4.612519725,
                        "learn": [
                          0.7504485334,
                          0.5258586881
                        ]
                      },
                      {
                        "test": [
                          0.7033420954,
                          0.576918761
                        ],
                        "passed_time": 2.653642737,
                        "iteration": 182,
                        "remaining_time": 4.596747255,
                        "learn": [
                          0.7510326699,
                          0.5254317288
                        ]
                      },
                      {
                        "test": [
                          0.7030917512,
                          0.5770631096
                        ],
                        "passed_time": 2.668042193,
                        "iteration": 183,
                        "remaining_time": 4.582072461,
                        "learn": [
                          0.7514499103,
                          0.5251568128
                        ]
                      },
                      {
                        "test": [
                          0.7033420954,
                          0.576963476
                        ],
                        "passed_time": 2.68128436,
                        "iteration": 184,
                        "remaining_time": 4.565430127,
                        "learn": [
                          0.7518671507,
                          0.5247653399
                        ]
                      },
                      {
                        "test": [
                          0.7034672675,
                          0.5769770316
                        ],
                        "passed_time": 2.698151923,
                        "iteration": 185,
                        "remaining_time": 4.554944644,
                        "learn": [
                          0.7525764593,
                          0.5244594725
                        ]
                      },
                      {
                        "test": [
                          0.7033420954,
                          0.5770758557
                        ],
                        "passed_time": 2.717710755,
                        "iteration": 186,
                        "remaining_time": 4.548895541,
                        "learn": [
                          0.7527016314,
                          0.5240907077
                        ]
                      },
                      {
                        "test": [
                          0.7034672675,
                          0.5771424836
                        ],
                        "passed_time": 2.731734782,
                        "iteration": 187,
                        "remaining_time": 4.533517298,
                        "learn": [
                          0.7527850795,
                          0.5238750056
                        ]
                      },
                      {
                        "test": [
                          0.7028414069,
                          0.5771666095
                        ],
                        "passed_time": 2.745408495,
                        "iteration": 188,
                        "remaining_time": 4.517576942,
                        "learn": [
                          0.7530771477,
                          0.5235746647
                        ]
                      },
                      {
                        "test": [
                          0.7030917512,
                          0.5772388941
                        ],
                        "passed_time": 2.758319713,
                        "iteration": 189,
                        "remaining_time": 4.500416374,
                        "learn": [
                          0.7531605958,
                          0.523387878
                        ]
                      },
                      {
                        "test": [
                          0.7035924396,
                          0.5772653556
                        ],
                        "passed_time": 2.772181945,
                        "iteration": 190,
                        "remaining_time": 4.484838853,
                        "learn": [
                          0.7538281804,
                          0.5229963347
                        ]
                      },
                      {
                        "test": [
                          0.7033420954,
                          0.5772910695
                        ],
                        "passed_time": 2.785574866,
                        "iteration": 191,
                        "remaining_time": 4.468526348,
                        "learn": [
                          0.7537864564,
                          0.5226349764
                        ]
                      },
                      {
                        "test": [
                          0.7038427838,
                          0.5773898211
                        ],
                        "passed_time": 2.79920276,
                        "iteration": 192,
                        "remaining_time": 4.452617862,
                        "learn": [
                          0.7540368006,
                          0.5223186995
                        ]
                      },
                      {
                        "test": [
                          0.7042183002,
                          0.5773884176
                        ],
                        "passed_time": 2.812119263,
                        "iteration": 193,
                        "remaining_time": 4.435610797,
                        "learn": [
                          0.7543705929,
                          0.5221334091
                        ]
                      },
                      {
                        "test": [
                          0.7045938165,
                          0.5773377102
                        ],
                        "passed_time": 2.82544248,
                        "iteration": 194,
                        "remaining_time": 4.419281828,
                        "learn": [
                          0.7547043852,
                          0.521819086
                        ]
                      },
                      {
                        "test": [
                          0.7038427838,
                          0.5773160683
                        ],
                        "passed_time": 2.838132297,
                        "iteration": 195,
                        "remaining_time": 4.402001114,
                        "learn": [
                          0.7551633496,
                          0.5215683442
                        ]
                      },
                      {
                        "test": [
                          0.7039679559,
                          0.5771991223
                        ],
                        "passed_time": 2.857026404,
                        "iteration": 196,
                        "remaining_time": 4.394309647,
                        "learn": [
                          0.7557057621,
                          0.5212530803
                        ]
                      },
                      {
                        "test": [
                          0.7040931281,
                          0.577213505
                        ],
                        "passed_time": 2.870266948,
                        "iteration": 197,
                        "remaining_time": 4.37788191,
                        "learn": [
                          0.7561230025,
                          0.5208435017
                        ]
                      },
                      {
                        "test": [
                          0.7049693328,
                          0.577199403
                        ],
                        "passed_time": 2.883658411,
                        "iteration": 198,
                        "remaining_time": 4.361714482,
                        "learn": [
                          0.7561647265,
                          0.5205146234
                        ]
                      },
                      {
                        "test": [
                          0.7043434723,
                          0.5771853404
                        ],
                        "passed_time": 2.897415884,
                        "iteration": 199,
                        "remaining_time": 4.346123827,
                        "learn": [
                          0.7571243794,
                          0.5201958313
                        ]
                      },
                      {
                        "test": [
                          0.7045938165,
                          0.5771665591
                        ],
                        "passed_time": 2.910513918,
                        "iteration": 200,
                        "remaining_time": 4.329570454,
                        "learn": [
                          0.7574998957,
                          0.519921359
                        ]
                      },
                      {
                        "test": [
                          0.7043434723,
                          0.5772349695
                        ],
                        "passed_time": 2.924355557,
                        "iteration": 201,
                        "remaining_time": 4.314148297,
                        "learn": [
                          0.7575833438,
                          0.5196351236
                        ]
                      },
                      {
                        "test": [
                          0.7038427838,
                          0.5772450256
                        ],
                        "passed_time": 2.938000677,
                        "iteration": 202,
                        "remaining_time": 4.298454193,
                        "learn": [
                          0.7581674803,
                          0.5192611182
                        ]
                      },
                      {
                        "test": [
                          0.7045938165,
                          0.577185054
                        ],
                        "passed_time": 2.976731667,
                        "iteration": 203,
                        "remaining_time": 4.319179281,
                        "learn": [
                          0.7579171361,
                          0.518974228
                        ]
                      },
                      {
                        "test": [
                          0.7047189886,
                          0.5772281344
                        ],
                        "passed_time": 2.998415545,
                        "iteration": 204,
                        "remaining_time": 4.314793101,
                        "learn": [
                          0.7580423082,
                          0.5186719629
                        ]
                      },
                      {
                        "test": [
                          0.7042183002,
                          0.5770667707
                        ],
                        "passed_time": 3.012637186,
                        "iteration": 205,
                        "remaining_time": 4.299588993,
                        "learn": [
                          0.7582509284,
                          0.518324338
                        ]
                      },
                      {
                        "test": [
                          0.7047189886,
                          0.577035278
                        ],
                        "passed_time": 3.027188817,
                        "iteration": 206,
                        "remaining_time": 4.284861465,
                        "learn": [
                          0.7585012726,
                          0.518027786
                        ]
                      },
                      {
                        "test": [
                          0.7049693328,
                          0.5768328852
                        ],
                        "passed_time": 3.041635399,
                        "iteration": 207,
                        "remaining_time": 4.269988157,
                        "learn": [
                          0.7583343764,
                          0.5177093707
                        ]
                      },
                      {
                        "test": [
                          0.7047189886,
                          0.5767990956
                        ],
                        "passed_time": 3.054736789,
                        "iteration": 208,
                        "remaining_time": 4.253245959,
                        "learn": [
                          0.7587516168,
                          0.517469436
                        ]
                      },
                      {
                        "test": [
                          0.7047189886,
                          0.5767204785
                        ],
                        "passed_time": 3.068193581,
                        "iteration": 209,
                        "remaining_time": 4.237029231,
                        "learn": [
                          0.7590854091,
                          0.517161169
                        ]
                      },
                      {
                        "test": [
                          0.7050945049,
                          0.5767463938
                        ],
                        "passed_time": 3.082311834,
                        "iteration": 210,
                        "remaining_time": 4.221744645,
                        "learn": [
                          0.7593357533,
                          0.5169875865
                        ]
                      },
                      {
                        "test": [
                          0.7053448492,
                          0.5767400417
                        ],
                        "passed_time": 3.095720044,
                        "iteration": 211,
                        "remaining_time": 4.205506475,
                        "learn": [
                          0.7595860976,
                          0.5167621013
                        ]
                      },
                      {
                        "test": [
                          0.7054700213,
                          0.5767052313
                        ],
                        "passed_time": 3.110269134,
                        "iteration": 212,
                        "remaining_time": 4.19083212,
                        "learn": [
                          0.76012851,
                          0.5164408431
                        ]
                      },
                      {
                        "test": [
                          0.7067217424,
                          0.5765713929
                        ],
                        "passed_time": 3.123363831,
                        "iteration": 213,
                        "remaining_time": 4.174215214,
                        "learn": [
                          0.7603788543,
                          0.5162012319
                        ]
                      },
                      {
                        "test": [
                          0.7070972587,
                          0.5765700775
                        ],
                        "passed_time": 3.137319179,
                        "iteration": 214,
                        "remaining_time": 4.158771935,
                        "learn": [
                          0.7602119581,
                          0.5159878716
                        ]
                      },
                      {
                        "test": [
                          0.7064713982,
                          0.5765993744
                        ],
                        "passed_time": 3.150819265,
                        "iteration": 215,
                        "remaining_time": 4.142743848,
                        "learn": [
                          0.7604205783,
                          0.5157816007
                        ]
                      },
                      {
                        "test": [
                          0.7068469145,
                          0.5766802633
                        ],
                        "passed_time": 3.165136098,
                        "iteration": 216,
                        "remaining_time": 4.12780422,
                        "learn": [
                          0.7607126466,
                          0.515484231
                        ]
                      },
                      {
                        "test": [
                          0.7069720866,
                          0.5765103859
                        ],
                        "passed_time": 3.178918714,
                        "iteration": 217,
                        "remaining_time": 4.112179254,
                        "learn": [
                          0.7608795427,
                          0.5152718484
                        ]
                      },
                      {
                        "test": [
                          0.7072224308,
                          0.5764502732
                        ],
                        "passed_time": 3.193158457,
                        "iteration": 218,
                        "remaining_time": 4.097157654,
                        "learn": [
                          0.7614636792,
                          0.5150012563
                        ]
                      },
                      {
                        "test": [
                          0.707347603,
                          0.5763541454
                        ],
                        "passed_time": 3.206108175,
                        "iteration": 219,
                        "remaining_time": 4.080501314,
                        "learn": [
                          0.7615888513,
                          0.5146892504
                        ]
                      },
                      {
                        "test": [
                          0.7074727751,
                          0.5763493442
                        ],
                        "passed_time": 3.221398498,
                        "iteration": 220,
                        "remaining_time": 4.066833398,
                        "learn": [
                          0.7618391956,
                          0.514461487
                        ]
                      },
                      {
                        "test": [
                          0.7070972587,
                          0.5763860566
                        ],
                        "passed_time": 3.238215273,
                        "iteration": 221,
                        "remaining_time": 4.055062369,
                        "learn": [
                          0.7620478157,
                          0.5142075019
                        ]
                      },
                      {
                        "test": [
                          0.7074727751,
                          0.5763647521
                        ],
                        "passed_time": 3.252136904,
                        "iteration": 222,
                        "remaining_time": 4.039649876,
                        "learn": [
                          0.7625067802,
                          0.51379849
                        ]
                      },
                      {
                        "test": [
                          0.7074727751,
                          0.5764028924
                        ],
                        "passed_time": 3.264767035,
                        "iteration": 223,
                        "remaining_time": 4.022659382,
                        "learn": [
                          0.7624233321,
                          0.5136922958
                        ]
                      },
                      {
                        "test": [
                          0.7062210539,
                          0.576511745
                        ],
                        "passed_time": 3.278412028,
                        "iteration": 224,
                        "remaining_time": 4.006948034,
                        "learn": [
                          0.7627571244,
                          0.5133791639
                        ]
                      },
                      {
                        "test": [
                          0.7063462261,
                          0.576493892
                        ],
                        "passed_time": 3.291769579,
                        "iteration": 225,
                        "remaining_time": 3.990906481,
                        "learn": [
                          0.7631743648,
                          0.5131417409
                        ]
                      },
                      {
                        "test": [
                          0.7065965703,
                          0.5764875307
                        ],
                        "passed_time": 3.305885387,
                        "iteration": 226,
                        "remaining_time": 3.975800488,
                        "learn": [
                          0.7631326407,
                          0.5127757822
                        ]
                      },
                      {
                        "test": [
                          0.7060958818,
                          0.5766390511
                        ],
                        "passed_time": 3.318800572,
                        "iteration": 227,
                        "remaining_time": 3.959270858,
                        "learn": [
                          0.7636333292,
                          0.5124545062
                        ]
                      },
                      {
                        "test": [
                          0.7065965703,
                          0.576617354
                        ],
                        "passed_time": 3.332663897,
                        "iteration": 228,
                        "remaining_time": 3.94389483,
                        "learn": [
                          0.763508157,
                          0.5122093195
                        ]
                      },
                      {
                        "test": [
                          0.7067217424,
                          0.5766083902
                        ],
                        "passed_time": 3.347160696,
                        "iteration": 229,
                        "remaining_time": 3.9292756,
                        "learn": [
                          0.7635916051,
                          0.5119426679
                        ]
                      },
                      {
                        "test": [
                          0.7064713982,
                          0.5767291334
                        ],
                        "passed_time": 3.368479808,
                        "iteration": 230,
                        "remaining_time": 3.922602027,
                        "learn": [
                          0.7642591897,
                          0.5116918213
                        ]
                      },
                      {
                        "test": [
                          0.7065965703,
                          0.5766257487
                        ],
                        "passed_time": 3.382416602,
                        "iteration": 231,
                        "remaining_time": 3.907274351,
                        "learn": [
                          0.7641757416,
                          0.5113457798
                        ]
                      },
                      {
                        "test": [
                          0.7063462261,
                          0.5766010686
                        ],
                        "passed_time": 3.396087456,
                        "iteration": 232,
                        "remaining_time": 3.891653866,
                        "learn": [
                          0.7646347061,
                          0.5110596642
                        ]
                      },
                      {
                        "test": [
                          0.7070972587,
                          0.5765475136
                        ],
                        "passed_time": 3.410039822,
                        "iteration": 233,
                        "remaining_time": 3.876370054,
                        "learn": [
                          0.7652188426,
                          0.5106715758
                        ]
                      },
                      {
                        "test": [
                          0.7074727751,
                          0.5764065586
                        ],
                        "passed_time": 3.424146018,
                        "iteration": 234,
                        "remaining_time": 3.861271042,
                        "learn": [
                          0.7653022906,
                          0.5103010017
                        ]
                      },
                      {
                        "test": [
                          0.7072224308,
                          0.5764460784
                        ],
                        "passed_time": 3.437768169,
                        "iteration": 235,
                        "remaining_time": 3.845638969,
                        "learn": [
                          0.7655943589,
                          0.5099583815
                        ]
                      },
                      {
                        "test": [
                          0.7074727751,
                          0.5764444791
                        ],
                        "passed_time": 3.454610217,
                        "iteration": 236,
                        "remaining_time": 3.833596992,
                        "learn": [
                          0.7661784954,
                          0.5097199355
                        ]
                      },
                      {
                        "test": [
                          0.7075979472,
                          0.576509798
                        ],
                        "passed_time": 3.468596737,
                        "iteration": 237,
                        "remaining_time": 3.818371198,
                        "learn": [
                          0.766762632,
                          0.5093376863
                        ]
                      },
                      {
                        "test": [
                          0.7067217424,
                          0.5766511475
                        ],
                        "passed_time": 3.482548109,
                        "iteration": 238,
                        "remaining_time": 3.803117391,
                        "learn": [
                          0.7664288397,
                          0.5090769737
                        ]
                      },
                      {
                        "test": [
                          0.7068469145,
                          0.5766700346
                        ],
                        "passed_time": 3.49794591,
                        "iteration": 239,
                        "remaining_time": 3.789441403,
                        "learn": [
                          0.7669295281,
                          0.5087918367
                        ]
                      },
                      {
                        "test": [
                          0.7057203655,
                          0.5767301579
                        ],
                        "passed_time": 3.511084888,
                        "iteration": 240,
                        "remaining_time": 3.773323593,
                        "learn": [
                          0.7671798723,
                          0.5086115705
                        ]
                      },
                      {
                        "test": [
                          0.7055951934,
                          0.5767606807
                        ],
                        "passed_time": 3.524114285,
                        "iteration": 241,
                        "remaining_time": 3.757113576,
                        "learn": [
                          0.7674302165,
                          0.5083710611
                        ]
                      },
                      {
                        "test": [
                          0.7054700213,
                          0.576830788
                        ],
                        "passed_time": 3.537031726,
                        "iteration": 242,
                        "remaining_time": 3.740811331,
                        "learn": [
                          0.7678057329,
                          0.508157785
                        ]
                      },
                      {
                        "test": [
                          0.7048441607,
                          0.5767428797
                        ],
                        "passed_time": 3.551280586,
                        "iteration": 243,
                        "remaining_time": 3.72593373,
                        "learn": [
                          0.767889181,
                          0.5079049245
                        ]
                      },
                      {
                        "test": [
                          0.7053448492,
                          0.5766830231
                        ],
                        "passed_time": 3.564814105,
                        "iteration": 244,
                        "remaining_time": 3.710316722,
                        "learn": [
                          0.7680143531,
                          0.5076014035
                        ]
                      },
                      {
                        "test": [
                          0.7045938165,
                          0.5767295421
                        ],
                        "passed_time": 3.578047914,
                        "iteration": 245,
                        "remaining_time": 3.694407196,
                        "learn": [
                          0.767972629,
                          0.5073955778
                        ]
                      },
                      {
                        "test": [
                          0.7044686444,
                          0.5767704455
                        ],
                        "passed_time": 3.592068554,
                        "iteration": 246,
                        "remaining_time": 3.67932528,
                        "learn": [
                          0.7682229733,
                          0.5071182438
                        ]
                      },
                      {
                        "test": [
                          0.7045938165,
                          0.5767600905
                        ],
                        "passed_time": 3.606012266,
                        "iteration": 247,
                        "remaining_time": 3.664173754,
                        "learn": [
                          0.7685984896,
                          0.5068209379
                        ]
                      },
                      {
                        "test": [
                          0.7052196771,
                          0.5767858726
                        ],
                        "passed_time": 3.619725536,
                        "iteration": 248,
                        "remaining_time": 3.648799637,
                        "learn": [
                          0.7685567656,
                          0.5065853615
                        ]
                      },
                      {
                        "test": [
                          0.7058455376,
                          0.5767715265
                        ],
                        "passed_time": 3.633922796,
                        "iteration": 249,
                        "remaining_time": 3.633922796,
                        "learn": [
                          0.7685150415,
                          0.5062799505
                        ]
                      },
                      {
                        "test": [
                          0.7058455376,
                          0.5767659384
                        ],
                        "passed_time": 3.647354267,
                        "iteration": 250,
                        "remaining_time": 3.618291683,
                        "learn": [
                          0.7689740059,
                          0.5060828824
                        ]
                      },
                      {
                        "test": [
                          0.7054700213,
                          0.5767590636
                        ],
                        "passed_time": 3.662221726,
                        "iteration": 251,
                        "remaining_time": 3.604091223,
                        "learn": [
                          0.7698502107,
                          0.5057639732
                        ]
                      },
                      {
                        "test": [
                          0.7050945049,
                          0.5767203246
                        ],
                        "passed_time": 3.677613784,
                        "iteration": 252,
                        "remaining_time": 3.590397646,
                        "learn": [
                          0.7703091751,
                          0.5054619076
                        ]
                      },
                      {
                        "test": [
                          0.7050945049,
                          0.576810558
                        ],
                        "passed_time": 3.692951154,
                        "iteration": 253,
                        "remaining_time": 3.576637732,
                        "learn": [
                          0.7706012434,
                          0.505222041
                        ]
                      },
                      {
                        "test": [
                          0.7040931281,
                          0.5767604306
                        ],
                        "passed_time": 3.706062059,
                        "iteration": 254,
                        "remaining_time": 3.560726292,
                        "learn": [
                          0.7706429674,
                          0.5048706729
                        ]
                      },
                      {
                        "test": [
                          0.7038427838,
                          0.5767453756
                        ],
                        "passed_time": 3.730383276,
                        "iteration": 255,
                        "remaining_time": 3.55552156,
                        "learn": [
                          0.7710184837,
                          0.5046397326
                        ]
                      },
                      {
                        "test": [
                          0.7044686444,
                          0.5768638037
                        ],
                        "passed_time": 3.743461509,
                        "iteration": 256,
                        "remaining_time": 3.539537536,
                        "learn": [
                          0.7708098636,
                          0.5043771944
                        ]
                      },
                      {
                        "test": [
                          0.7042183002,
                          0.5769086677
                        ],
                        "passed_time": 3.759695284,
                        "iteration": 257,
                        "remaining_time": 3.526535886,
                        "learn": [
                          0.7712271039,
                          0.5041568941
                        ]
                      },
                      {
                        "test": [
                          0.7040931281,
                          0.5769111861
                        ],
                        "passed_time": 3.77275255,
                        "iteration": 258,
                        "remaining_time": 3.510553531,
                        "learn": [
                          0.7716026203,
                          0.5039071646
                        ]
                      },
                      {
                        "test": [
                          0.7037176117,
                          0.576981434
                        ],
                        "passed_time": 3.786609062,
                        "iteration": 259,
                        "remaining_time": 3.495331441,
                        "learn": [
                          0.7713940001,
                          0.5035578818
                        ]
                      },
                      {
                        "test": [
                          0.7042183002,
                          0.5769635233
                        ],
                        "passed_time": 3.799465132,
                        "iteration": 260,
                        "remaining_time": 3.479203703,
                        "learn": [
                          0.7715608962,
                          0.5033362175
                        ]
                      },
                      {
                        "test": [
                          0.7047189886,
                          0.5768715335
                        ],
                        "passed_time": 3.812884068,
                        "iteration": 261,
                        "remaining_time": 3.463612245,
                        "learn": [
                          0.7716443443,
                          0.5029675505
                        ]
                      },
                      {
                        "test": [
                          0.7049693328,
                          0.5768639953
                        ],
                        "passed_time": 3.826320489,
                        "iteration": 262,
                        "remaining_time": 3.448053064,
                        "learn": [
                          0.7721867568,
                          0.502698228
                        ]
                      },
                      {
                        "test": [
                          0.7057203655,
                          0.5768833431
                        ],
                        "passed_time": 3.83955551,
                        "iteration": 263,
                        "remaining_time": 3.432329926,
                        "learn": [
                          0.7725622731,
                          0.5025105746
                        ]
                      },
                      {
                        "test": [
                          0.7045938165,
                          0.5769714997
                        ],
                        "passed_time": 3.85325439,
                        "iteration": 264,
                        "remaining_time": 3.417036912,
                        "learn": [
                          0.7725622731,
                          0.5022265113
                        ]
                      },
                      {
                        "test": [
                          0.7047189886,
                          0.5770422843
                        ],
                        "passed_time": 3.8667962,
                        "iteration": 265,
                        "remaining_time": 3.40161771,
                        "learn": [
                          0.7730629616,
                          0.5019562476
                        ]
                      },
                      {
                        "test": [
                          0.7047189886,
                          0.5769959167
                        ],
                        "passed_time": 3.880606294,
                        "iteration": 266,
                        "remaining_time": 3.386446691,
                        "learn": [
                          0.7730212375,
                          0.5016139601
                        ]
                      },
                      {
                        "test": [
                          0.7047189886,
                          0.5771705975
                        ],
                        "passed_time": 3.893949009,
                        "iteration": 267,
                        "remaining_time": 3.370881232,
                        "learn": [
                          0.7732298577,
                          0.5012802078
                        ]
                      },
                      {
                        "test": [
                          0.7049693328,
                          0.5771426223
                        ],
                        "passed_time": 3.907813152,
                        "iteration": 268,
                        "remaining_time": 3.355780067,
                        "learn": [
                          0.7733133058,
                          0.5009640569
                        ]
                      },
                      {
                        "test": [
                          0.7049693328,
                          0.5771483955
                        ],
                        "passed_time": 3.921338126,
                        "iteration": 269,
                        "remaining_time": 3.340399144,
                        "learn": [
                          0.77356365,
                          0.5007507195
                        ]
                      },
                      {
                        "test": [
                          0.7042183002,
                          0.5772073
                        ],
                        "passed_time": 3.934954339,
                        "iteration": 270,
                        "remaining_time": 3.325109017,
                        "learn": [
                          0.7739391664,
                          0.500430866
                        ]
                      },
                      {
                        "test": [
                          0.7045938165,
                          0.5772335781
                        ],
                        "passed_time": 3.949384855,
                        "iteration": 271,
                        "remaining_time": 3.310513776,
                        "learn": [
                          0.7740226144,
                          0.5001125034
                        ]
                      },
                      {
                        "test": [
                          0.7048441607,
                          0.5772858903
                        ],
                        "passed_time": 3.993336049,
                        "iteration": 272,
                        "remaining_time": 3.320466238,
                        "learn": [
                          0.7747319231,
                          0.4998367743
                        ]
                      },
                      {
                        "test": [
                          0.7049693328,
                          0.5772767032
                        ],
                        "passed_time": 4.020958356,
                        "iteration": 273,
                        "remaining_time": 3.316556892,
                        "learn": [
                          0.7749822673,
                          0.4996297217
                        ]
                      },
                      {
                        "test": [
                          0.7038427838,
                          0.5772509619
                        ],
                        "passed_time": 4.034626588,
                        "iteration": 274,
                        "remaining_time": 3.301058118,
                        "learn": [
                          0.7752743355,
                          0.4993761284
                        ]
                      },
                      {
                        "test": [
                          0.7047189886,
                          0.5772278607
                        ],
                        "passed_time": 4.052126751,
                        "iteration": 275,
                        "remaining_time": 3.28868258,
                        "learn": [
                          0.7753577836,
                          0.4991582612
                        ]
                      },
                      {
                        "test": [
                          0.7049693328,
                          0.5771949822
                        ],
                        "passed_time": 4.067060546,
                        "iteration": 276,
                        "remaining_time": 3.274203978,
                        "learn": [
                          0.7757333,
                          0.4989218285
                        ]
                      },
                      {
                        "test": [
                          0.7047189886,
                          0.5772067005
                        ],
                        "passed_time": 4.080619793,
                        "iteration": 277,
                        "remaining_time": 3.258624439,
                        "learn": [
                          0.7757333,
                          0.4985873383
                        ]
                      },
                      {
                        "test": [
                          0.7044686444,
                          0.5772119886
                        ],
                        "passed_time": 4.094124402,
                        "iteration": 278,
                        "remaining_time": 3.243016103,
                        "learn": [
                          0.7761505403,
                          0.4982876043
                        ]
                      },
                      {
                        "test": [
                          0.7044686444,
                          0.5771380816
                        ],
                        "passed_time": 4.107933356,
                        "iteration": 279,
                        "remaining_time": 3.227661923,
                        "learn": [
                          0.7764008845,
                          0.4979201914
                        ]
                      },
                      {
                        "test": [
                          0.7047189886,
                          0.5772152143
                        ],
                        "passed_time": 4.120957629,
                        "iteration": 280,
                        "remaining_time": 3.211707192,
                        "learn": [
                          0.7767346768,
                          0.4976334662
                        ]
                      },
                      {
                        "test": [
                          0.7044686444,
                          0.5772740872
                        ],
                        "passed_time": 4.134178544,
                        "iteration": 281,
                        "remaining_time": 3.195925257,
                        "learn": [
                          0.7770684691,
                          0.4974109216
                        ]
                      },
                      {
                        "test": [
                          0.7042183002,
                          0.5772117913
                        ],
                        "passed_time": 4.14856839,
                        "iteration": 282,
                        "remaining_time": 3.181057741,
                        "learn": [
                          0.7772353653,
                          0.4971204752
                        ]
                      },
                      {
                        "test": [
                          0.7040931281,
                          0.577255716
                        ],
                        "passed_time": 4.161365158,
                        "iteration": 283,
                        "remaining_time": 3.164981951,
                        "learn": [
                          0.776859849,
                          0.4969521064
                        ]
                      },
                      {
                        "test": [
                          0.7045938165,
                          0.5773794054
                        ],
                        "passed_time": 4.175229701,
                        "iteration": 284,
                        "remaining_time": 3.149734687,
                        "learn": [
                          0.7770267451,
                          0.496726872
                        ]
                      },
                      {
                        "test": [
                          0.7042183002,
                          0.577376824
                        ],
                        "passed_time": 4.189720195,
                        "iteration": 285,
                        "remaining_time": 3.134965461,
                        "learn": [
                          0.7773605374,
                          0.4964056618
                        ]
                      },
                      {
                        "test": [
                          0.7042183002,
                          0.5774375926
                        ],
                        "passed_time": 4.203191103,
                        "iteration": 286,
                        "remaining_time": 3.11944148,
                        "learn": [
                          0.7777777778,
                          0.4961351278
                        ]
                      },
                      {
                        "test": [
                          0.7052196771,
                          0.5775162397
                        ],
                        "passed_time": 4.216347737,
                        "iteration": 287,
                        "remaining_time": 3.103700417,
                        "learn": [
                          0.778069846,
                          0.4959409604
                        ]
                      },
                      {
                        "test": [
                          0.7053448492,
                          0.577547951
                        ],
                        "passed_time": 4.230995864,
                        "iteration": 288,
                        "remaining_time": 3.089066184,
                        "learn": [
                          0.7784036383,
                          0.495672806
                        ]
                      },
                      {
                        "test": [
                          0.7047189886,
                          0.5775000335
                        ],
                        "passed_time": 4.245115882,
                        "iteration": 289,
                        "remaining_time": 3.074049432,
                        "learn": [
                          0.7789043268,
                          0.4953730484
                        ]
                      },
                      {
                        "test": [
                          0.7038427838,
                          0.5774945423
                        ],
                        "passed_time": 4.260908217,
                        "iteration": 290,
                        "remaining_time": 3.060239923,
                        "learn": [
                          0.7793215672,
                          0.4950737395
                        ]
                      },
                      {
                        "test": [
                          0.7040931281,
                          0.5774488639
                        ],
                        "passed_time": 4.274478901,
                        "iteration": 291,
                        "remaining_time": 3.044834285,
                        "learn": [
                          0.7792798431,
                          0.4947614661
                        ]
                      },
                      {
                        "test": [
                          0.7045938165,
                          0.5774501249
                        ],
                        "passed_time": 4.28833808,
                        "iteration": 292,
                        "remaining_time": 3.029644992,
                        "learn": [
                          0.7798639796,
                          0.4944895575
                        ]
                      },
                      {
                        "test": [
                          0.7044686444,
                          0.5774684912
                        ],
                        "passed_time": 4.301558754,
                        "iteration": 293,
                        "remaining_time": 3.014017358,
                        "learn": [
                          0.7798222556,
                          0.4943286294
                        ]
                      },
                      {
                        "test": [
                          0.7038427838,
                          0.5773995508
                        ],
                        "passed_time": 4.315192819,
                        "iteration": 294,
                        "remaining_time": 2.998693315,
                        "learn": [
                          0.7797805316,
                          0.4940134862
                        ]
                      },
                      {
                        "test": [
                          0.7037176117,
                          0.5774828486
                        ],
                        "passed_time": 4.328100681,
                        "iteration": 295,
                        "remaining_time": 2.982880199,
                        "learn": [
                          0.7796553595,
                          0.4938192999
                        ]
                      },
                      {
                        "test": [
                          0.7035924396,
                          0.5775150986
                        ],
                        "passed_time": 4.342326987,
                        "iteration": 296,
                        "remaining_time": 2.967987806,
                        "learn": [
                          0.780322944,
                          0.4934967865
                        ]
                      },
                      {
                        "test": [
                          0.7027162348,
                          0.5774751115
                        ],
                        "passed_time": 4.355931314,
                        "iteration": 297,
                        "remaining_time": 2.952678273,
                        "learn": [
                          0.7804898402,
                          0.4932986487
                        ]
                      },
                      {
                        "test": [
                          0.7037176117,
                          0.5774437529
                        ],
                        "passed_time": 4.369959843,
                        "iteration": 298,
                        "remaining_time": 2.937665312,
                        "learn": [
                          0.7805315642,
                          0.4929715979
                        ]
                      },
                      {
                        "test": [
                          0.7032169233,
                          0.5775476678
                        ],
                        "passed_time": 4.382896707,
                        "iteration": 299,
                        "remaining_time": 2.921931138,
                        "learn": [
                          0.7804898402,
                          0.492794214
                        ]
                      },
                      {
                        "test": [
                          0.702966579,
                          0.5776819478
                        ],
                        "passed_time": 4.400886553,
                        "iteration": 300,
                        "remaining_time": 2.909556226,
                        "learn": [
                          0.7805732883,
                          0.4925140436
                        ]
                      },
                      {
                        "test": [
                          0.7030917512,
                          0.5775954738
                        ],
                        "passed_time": 4.414967984,
                        "iteration": 301,
                        "remaining_time": 2.894581659,
                        "learn": [
                          0.7810322527,
                          0.4922255091
                        ]
                      },
                      {
                        "test": [
                          0.7030917512,
                          0.5777414744
                        ],
                        "passed_time": 4.428451136,
                        "iteration": 302,
                        "remaining_time": 2.879224006,
                        "learn": [
                          0.7811574248,
                          0.4919060245
                        ]
                      },
                      {
                        "test": [
                          0.7034672675,
                          0.5777730696
                        ],
                        "passed_time": 4.441714471,
                        "iteration": 303,
                        "remaining_time": 2.863736962,
                        "learn": [
                          0.7814494931,
                          0.4917118758
                        ]
                      },
                      {
                        "test": [
                          0.7032169233,
                          0.5777887302
                        ],
                        "passed_time": 4.455062762,
                        "iteration": 304,
                        "remaining_time": 2.848318815,
                        "learn": [
                          0.7816998373,
                          0.491525897
                        ]
                      },
                      {
                        "test": [
                          0.7028414069,
                          0.5778137386
                        ],
                        "passed_time": 4.468432958,
                        "iteration": 305,
                        "remaining_time": 2.832928084,
                        "learn": [
                          0.7818667334,
                          0.4913589582
                        ]
                      },
                      {
                        "test": [
                          0.7028414069,
                          0.5777844395
                        ],
                        "passed_time": 4.481727259,
                        "iteration": 306,
                        "remaining_time": 2.817502805,
                        "learn": [
                          0.7821588017,
                          0.4911324443
                        ]
                      },
                      {
                        "test": [
                          0.7030917512,
                          0.5778595749
                        ],
                        "passed_time": 4.495170612,
                        "iteration": 307,
                        "remaining_time": 2.802184278,
                        "learn": [
                          0.7821588017,
                          0.4909076242
                        ]
                      },
                      {
                        "test": [
                          0.702966579,
                          0.5779123365
                        ],
                        "passed_time": 4.509010625,
                        "iteration": 308,
                        "remaining_time": 2.787123073,
                        "learn": [
                          0.7822839738,
                          0.4906652536
                        ]
                      },
                      {
                        "test": [
                          0.702966579,
                          0.5778787888
                        ],
                        "passed_time": 4.522170092,
                        "iteration": 309,
                        "remaining_time": 2.771652637,
                        "learn": [
                          0.7823674219,
                          0.490451784
                        ]
                      },
                      {
                        "test": [
                          0.7025910627,
                          0.5778441888
                        ],
                        "passed_time": 4.535361368,
                        "iteration": 310,
                        "remaining_time": 2.756216394,
                        "learn": [
                          0.7823674219,
                          0.4902958403
                        ]
                      },
                      {
                        "test": [
                          0.7024658906,
                          0.5777895998
                        ],
                        "passed_time": 4.549153716,
                        "iteration": 311,
                        "remaining_time": 2.741156726,
                        "learn": [
                          0.7828681103,
                          0.4900584454
                        ]
                      },
                      {
                        "test": [
                          0.7023407185,
                          0.5778996163
                        ],
                        "passed_time": 4.562521313,
                        "iteration": 312,
                        "remaining_time": 2.725851391,
                        "learn": [
                          0.7834522468,
                          0.489722226
                        ]
                      },
                      {
                        "test": [
                          0.7022155464,
                          0.5779033024
                        ],
                        "passed_time": 4.575578154,
                        "iteration": 313,
                        "remaining_time": 2.710374321,
                        "learn": [
                          0.783660867,
                          0.4895243117
                        ]
                      },
                      {
                        "test": [
                          0.7024658906,
                          0.5780197304
                        ],
                        "passed_time": 4.589043828,
                        "iteration": 314,
                        "remaining_time": 2.695152725,
                        "learn": [
                          0.783577419,
                          0.4892533627
                        ]
                      },
                      {
                        "test": [
                          0.7025910627,
                          0.5780123227
                        ],
                        "passed_time": 4.602264506,
                        "iteration": 315,
                        "remaining_time": 2.679799585,
                        "learn": [
                          0.7842032795,
                          0.4890357094
                        ]
                      },
                      {
                        "test": [
                          0.7020903743,
                          0.578012464
                        ],
                        "passed_time": 4.615536789,
                        "iteration": 316,
                        "remaining_time": 2.664489692,
                        "learn": [
                          0.7841198314,
                          0.4887982247
                        ]
                      },
                      {
                        "test": [
                          0.7023407185,
                          0.5781078691
                        ],
                        "passed_time": 4.629314328,
                        "iteration": 317,
                        "remaining_time": 2.649481785,
                        "learn": [
                          0.783660867,
                          0.4885451584
                        ]
                      },
                      {
                        "test": [
                          0.7024658906,
                          0.5780466606
                        ],
                        "passed_time": 4.64446499,
                        "iteration": 318,
                        "remaining_time": 2.6352607,
                        "learn": [
                          0.7842032795,
                          0.4882035999
                        ]
                      },
                      {
                        "test": [
                          0.7025910627,
                          0.577962636
                        ],
                        "passed_time": 4.660116835,
                        "iteration": 319,
                        "remaining_time": 2.62131572,
                        "learn": [
                          0.7839946593,
                          0.4880458925
                        ]
                      },
                      {
                        "test": [
                          0.7023407185,
                          0.578014152
                        ],
                        "passed_time": 4.674215992,
                        "iteration": 320,
                        "remaining_time": 2.606494276,
                        "learn": [
                          0.7845787958,
                          0.4877243824
                        ]
                      },
                      {
                        "test": [
                          0.7024658906,
                          0.5781159461
                        ],
                        "passed_time": 4.69091735,
                        "iteration": 321,
                        "remaining_time": 2.593115802,
                        "learn": [
                          0.7848291401,
                          0.4875059088
                        ]
                      },
                      {
                        "test": [
                          0.702966579,
                          0.5780376665
                        ],
                        "passed_time": 4.704274917,
                        "iteration": 322,
                        "remaining_time": 2.577884397,
                        "learn": [
                          0.7850794843,
                          0.4872589484
                        ]
                      },
                      {
                        "test": [
                          0.7023407185,
                          0.5780247358
                        ],
                        "passed_time": 4.721467382,
                        "iteration": 323,
                        "remaining_time": 2.564747714,
                        "learn": [
                          0.7850377603,
                          0.4870171547
                        ]
                      },
                      {
                        "test": [
                          0.7022155464,
                          0.5779968532
                        ],
                        "passed_time": 4.742544892,
                        "iteration": 324,
                        "remaining_time": 2.553678019,
                        "learn": [
                          0.7853298285,
                          0.4868324693
                        ]
                      },
                      {
                        "test": [
                          0.7019652022,
                          0.5780253654
                        ],
                        "passed_time": 4.75629816,
                        "iteration": 325,
                        "remaining_time": 2.538637668,
                        "learn": [
                          0.7854132766,
                          0.4865152644
                        ]
                      },
                      {
                        "test": [
                          0.7024658906,
                          0.5780245268
                        ],
                        "passed_time": 4.769248886,
                        "iteration": 326,
                        "remaining_time": 2.523180603,
                        "learn": [
                          0.7857887929,
                          0.4863375487
                        ]
                      },
                      {
                        "test": [
                          0.7027162348,
                          0.5780110432
                        ],
                        "passed_time": 4.782403128,
                        "iteration": 327,
                        "remaining_time": 2.507845543,
                        "learn": [
                          0.7860391371,
                          0.4861509035
                        ]
                      },
                      {
                        "test": [
                          0.7020903743,
                          0.578011622
                        ],
                        "passed_time": 4.796027025,
                        "iteration": 328,
                        "remaining_time": 2.492767846,
                        "learn": [
                          0.7864146535,
                          0.4859129901
                        ]
                      },
                      {
                        "test": [
                          0.7030917512,
                          0.5780399186
                        ],
                        "passed_time": 4.810096252,
                        "iteration": 329,
                        "remaining_time": 2.477928372,
                        "learn": [
                          0.7867484458,
                          0.485578994
                        ]
                      },
                      {
                        "test": [
                          0.7024658906,
                          0.5780970629
                        ],
                        "passed_time": 4.823887304,
                        "iteration": 330,
                        "remaining_time": 2.462951524,
                        "learn": [
                          0.787040514,
                          0.4852886844
                        ]
                      },
                      {
                        "test": [
                          0.7027162348,
                          0.5781422762
                        ],
                        "passed_time": 4.837227056,
                        "iteration": 331,
                        "remaining_time": 2.44775345,
                        "learn": [
                          0.7874577544,
                          0.4850765821
                        ]
                      },
                      {
                        "test": [
                          0.70184003,
                          0.5780987531
                        ],
                        "passed_time": 4.850433799,
                        "iteration": 332,
                        "remaining_time": 2.432499833,
                        "learn": [
                          0.7877080986,
                          0.4848893483
                        ]
                      },
                      {
                        "test": [
                          0.7014645137,
                          0.5782907244
                        ],
                        "passed_time": 4.864283965,
                        "iteration": 333,
                        "remaining_time": 2.417578258,
                        "learn": [
                          0.7879167188,
                          0.4846227093
                        ]
                      },
                      {
                        "test": [
                          0.7017148579,
                          0.5782326892
                        ],
                        "passed_time": 4.87760712,
                        "iteration": 334,
                        "remaining_time": 2.402403507,
                        "learn": [
                          0.7879584429,
                          0.4844078937
                        ]
                      },
                      {
                        "test": [
                          0.7017148579,
                          0.5782200014
                        ],
                        "passed_time": 4.891250942,
                        "iteration": 335,
                        "remaining_time": 2.387396293,
                        "learn": [
                          0.7878332707,
                          0.4842091466
                        ]
                      },
                      {
                        "test": [
                          0.7023407185,
                          0.578282357
                        ],
                        "passed_time": 4.904355502,
                        "iteration": 336,
                        "remaining_time": 2.37213634,
                        "learn": [
                          0.788167063,
                          0.4840484908
                        ]
                      },
                      {
                        "test": [
                          0.7023407185,
                          0.5782055605
                        ],
                        "passed_time": 4.917843636,
                        "iteration": 337,
                        "remaining_time": 2.357072985,
                        "learn": [
                          0.7878749948,
                          0.4838062857
                        ]
                      },
                      {
                        "test": [
                          0.7022155464,
                          0.5781890256
                        ],
                        "passed_time": 4.931784996,
                        "iteration": 338,
                        "remaining_time": 2.342234172,
                        "learn": [
                          0.7883339592,
                          0.483522796
                        ]
                      },
                      {
                        "test": [
                          0.7023407185,
                          0.5780537104
                        ],
                        "passed_time": 4.945726502,
                        "iteration": 339,
                        "remaining_time": 2.327400707,
                        "learn": [
                          0.7886677515,
                          0.4832086485
                        ]
                      },
                      {
                        "test": [
                          0.7024658906,
                          0.5780400557
                        ],
                        "passed_time": 4.958781877,
                        "iteration": 340,
                        "remaining_time": 2.312159292,
                        "learn": [
                          0.7886677515,
                          0.483024068
                        ]
                      },
                      {
                        "test": [
                          0.7025910627,
                          0.5780303491
                        ],
                        "passed_time": 4.992471125,
                        "iteration": 341,
                        "remaining_time": 2.306463268,
                        "learn": [
                          0.7890849919,
                          0.4827533552
                        ]
                      },
                      {
                        "test": [
                          0.7025910627,
                          0.5780377662
                        ],
                        "passed_time": 5.030563771,
                        "iteration": 342,
                        "remaining_time": 2.302619569,
                        "learn": [
                          0.789210164,
                          0.4824406185
                        ]
                      },
                      {
                        "test": [
                          0.7017148579,
                          0.5779325422
                        ],
                        "passed_time": 5.047037191,
                        "iteration": 343,
                        "remaining_time": 2.28877268,
                        "learn": [
                          0.7894187842,
                          0.4821560812
                        ]
                      },
                      {
                        "test": [
                          0.7017148579,
                          0.5780323646
                        ],
                        "passed_time": 5.060479951,
                        "iteration": 344,
                        "remaining_time": 2.273548963,
                        "learn": [
                          0.7896691284,
                          0.4819459536
                        ]
                      },
                      {
                        "test": [
                          0.7012141695,
                          0.5780065661
                        ],
                        "passed_time": 5.073803788,
                        "iteration": 345,
                        "remaining_time": 2.258282611,
                        "learn": [
                          0.7898360245,
                          0.4817843963
                        ]
                      },
                      {
                        "test": [
                          0.7010889974,
                          0.577985766
                        ],
                        "passed_time": 5.088975213,
                        "iteration": 346,
                        "remaining_time": 2.243842097,
                        "learn": [
                          0.7898360245,
                          0.4815305758
                        ]
                      },
                      {
                        "test": [
                          0.7005883089,
                          0.5780067196
                        ],
                        "passed_time": 5.102094625,
                        "iteration": 347,
                        "remaining_time": 2.228501101,
                        "learn": [
                          0.7900446447,
                          0.4813155217
                        ]
                      },
                      {
                        "test": [
                          0.7005883089,
                          0.5780293079
                        ],
                        "passed_time": 5.11633591,
                        "iteration": 348,
                        "remaining_time": 2.213658231,
                        "learn": [
                          0.7902532649,
                          0.4810619657
                        ]
                      },
                      {
                        "test": [
                          0.7003379647,
                          0.5780282683
                        ],
                        "passed_time": 5.129320291,
                        "iteration": 349,
                        "remaining_time": 2.198280125,
                        "learn": [
                          0.790336713,
                          0.4808735541
                        ]
                      },
                      {
                        "test": [
                          0.7008386531,
                          0.577988756
                        ],
                        "passed_time": 5.142923543,
                        "iteration": 350,
                        "remaining_time": 2.18317837,
                        "learn": [
                          0.790378437,
                          0.4806525831
                        ]
                      },
                      {
                        "test": [
                          0.700713481,
                          0.5780300652
                        ],
                        "passed_time": 5.15645682,
                        "iteration": 351,
                        "remaining_time": 2.168055708,
                        "learn": [
                          0.7906287812,
                          0.4804226492
                        ]
                      },
                      {
                        "test": [
                          0.7004631368,
                          0.5779829035
                        ],
                        "passed_time": 5.169472125,
                        "iteration": 352,
                        "remaining_time": 2.152726353,
                        "learn": [
                          0.7907539534,
                          0.4802699954
                        ]
                      },
                      {
                        "test": [
                          0.7005883089,
                          0.5779882741
                        ],
                        "passed_time": 5.183749341,
                        "iteration": 353,
                        "remaining_time": 2.137930519,
                        "learn": [
                          0.7909625735,
                          0.479959512
                        ]
                      },
                      {
                        "test": [
                          0.7002127926,
                          0.5779843707
                        ],
                        "passed_time": 5.197624004,
                        "iteration": 354,
                        "remaining_time": 2.122973185,
                        "learn": [
                          0.7917553302,
                          0.4796334905
                        ]
                      },
                      {
                        "test": [
                          0.7009638253,
                          0.5779029702
                        ],
                        "passed_time": 5.21116487,
                        "iteration": 355,
                        "remaining_time": 2.107886914,
                        "learn": [
                          0.792548087,
                          0.4794184041
                        ]
                      },
                      {
                        "test": [
                          0.7009638253,
                          0.5778942937
                        ],
                        "passed_time": 5.224847515,
                        "iteration": 356,
                        "remaining_time": 2.092866092,
                        "learn": [
                          0.792589811,
                          0.4791145158
                        ]
                      },
                      {
                        "test": [
                          0.7014645137,
                          0.5778654637
                        ],
                        "passed_time": 5.240691638,
                        "iteration": 357,
                        "remaining_time": 2.078710091,
                        "learn": [
                          0.7929653273,
                          0.4788822768
                        ]
                      },
                      {
                        "test": [
                          0.70184003,
                          0.5777549917
                        ],
                        "passed_time": 5.254651102,
                        "iteration": 358,
                        "remaining_time": 2.063804472,
                        "learn": [
                          0.7930487754,
                          0.4786158276
                        ]
                      },
                      {
                        "test": [
                          0.7015896858,
                          0.577885873
                        ],
                        "passed_time": 5.268482726,
                        "iteration": 359,
                        "remaining_time": 2.048854393,
                        "learn": [
                          0.79371636,
                          0.478305795
                        ]
                      },
                      {
                        "test": [
                          0.7025910627,
                          0.5778886469
                        ],
                        "passed_time": 5.281951537,
                        "iteration": 360,
                        "remaining_time": 2.033770813,
                        "learn": [
                          0.7943004965,
                          0.4780636945
                        ]
                      },
                      {
                        "test": [
                          0.7024658906,
                          0.5779658838
                        ],
                        "passed_time": 5.295263333,
                        "iteration": 361,
                        "remaining_time": 2.018636298,
                        "learn": [
                          0.7937998081,
                          0.4778416207
                        ]
                      },
                      {
                        "test": [
                          0.7020903743,
                          0.5778688436
                        ],
                        "passed_time": 5.309846767,
                        "iteration": 362,
                        "remaining_time": 2.003991755,
                        "learn": [
                          0.7939667042,
                          0.4776595356
                        ]
                      },
                      {
                        "test": [
                          0.7019652022,
                          0.5779199411
                        ],
                        "passed_time": 5.32346148,
                        "iteration": 363,
                        "remaining_time": 1.988985608,
                        "learn": [
                          0.7939667042,
                          0.4773725691
                        ]
                      },
                      {
                        "test": [
                          0.7015896858,
                          0.5779251431
                        ],
                        "passed_time": 5.337072045,
                        "iteration": 364,
                        "remaining_time": 1.973985551,
                        "learn": [
                          0.7942587725,
                          0.4771079015
                        ]
                      },
                      {
                        "test": [
                          0.7019652022,
                          0.5779380782
                        ],
                        "passed_time": 5.350010996,
                        "iteration": 365,
                        "remaining_time": 1.958747195,
                        "learn": [
                          0.794801185,
                          0.4768502083
                        ]
                      },
                      {
                        "test": [
                          0.7020903743,
                          0.5778980258
                        ],
                        "passed_time": 5.363192985,
                        "iteration": 366,
                        "remaining_time": 1.943609447,
                        "learn": [
                          0.794801185,
                          0.4766940025
                        ]
                      },
                      {
                        "test": [
                          0.70184003,
                          0.5778604727
                        ],
                        "passed_time": 5.376389644,
                        "iteration": 367,
                        "remaining_time": 1.92848759,
                        "learn": [
                          0.7950098051,
                          0.4765173889
                        ]
                      },
                      {
                        "test": [
                          0.7022155464,
                          0.5778024967
                        ],
                        "passed_time": 5.390154245,
                        "iteration": 368,
                        "remaining_time": 1.913577794,
                        "learn": [
                          0.7952601494,
                          0.4762438648
                        ]
                      },
                      {
                        "test": [
                          0.702966579,
                          0.5778364418
                        ],
                        "passed_time": 5.404099307,
                        "iteration": 369,
                        "remaining_time": 1.898737594,
                        "learn": [
                          0.7953018734,
                          0.4760282109
                        ]
                      },
                      {
                        "test": [
                          0.7025910627,
                          0.5778365293
                        ],
                        "passed_time": 5.41744172,
                        "iteration": 370,
                        "remaining_time": 1.883692673,
                        "learn": [
                          0.7955104936,
                          0.4758814065
                        ]
                      },
                      {
                        "test": [
                          0.7019652022,
                          0.5778268126
                        ],
                        "passed_time": 5.431554763,
                        "iteration": 371,
                        "remaining_time": 1.868922069,
                        "learn": [
                          0.7958025619,
                          0.4756595251
                        ]
                      },
                      {
                        "test": [
                          0.7020903743,
                          0.577836917
                        ],
                        "passed_time": 5.450886616,
                        "iteration": 372,
                        "remaining_time": 1.855931904,
                        "learn": [
                          0.7961780782,
                          0.4754879457
                        ]
                      },
                      {
                        "test": [
                          0.7024658906,
                          0.5778801586
                        ],
                        "passed_time": 5.465063216,
                        "iteration": 373,
                        "remaining_time": 1.84117103,
                        "learn": [
                          0.7965535945,
                          0.4752125703
                        ]
                      },
                      {
                        "test": [
                          0.7024658906,
                          0.5777453282
                        ],
                        "passed_time": 5.478813117,
                        "iteration": 374,
                        "remaining_time": 1.826271039,
                        "learn": [
                          0.7968039387,
                          0.4748997
                        ]
                      },
                      {
                        "test": [
                          0.7025910627,
                          0.5777279718
                        ],
                        "passed_time": 5.494081033,
                        "iteration": 375,
                        "remaining_time": 1.811877788,
                        "learn": [
                          0.797137731,
                          0.4747102624
                        ]
                      },
                      {
                        "test": [
                          0.7020903743,
                          0.5777479446
                        ],
                        "passed_time": 5.507821027,
                        "iteration": 376,
                        "remaining_time": 1.796981396,
                        "learn": [
                          0.7973880753,
                          0.4744279594
                        ]
                      },
                      {
                        "test": [
                          0.7015896858,
                          0.5777917565
                        ],
                        "passed_time": 5.521605554,
                        "iteration": 377,
                        "remaining_time": 1.782105496,
                        "learn": [
                          0.7974715233,
                          0.4741932979
                        ]
                      },
                      {
                        "test": [
                          0.7013393416,
                          0.5778805272
                        ],
                        "passed_time": 5.535907645,
                        "iteration": 378,
                        "remaining_time": 1.767400594,
                        "learn": [
                          0.7975966955,
                          0.473920701
                        ]
                      },
                      {
                        "test": [
                          0.7014645137,
                          0.5778432755
                        ],
                        "passed_time": 5.54907431,
                        "iteration": 379,
                        "remaining_time": 1.752339256,
                        "learn": [
                          0.7977218676,
                          0.4737529371
                        ]
                      },
                      {
                        "test": [
                          0.700713481,
                          0.5779203811
                        ],
                        "passed_time": 5.562070061,
                        "iteration": 380,
                        "remaining_time": 1.737234481,
                        "learn": [
                          0.7977635916,
                          0.4735824772
                        ]
                      },
                      {
                        "test": [
                          0.7012141695,
                          0.5779147043
                        ],
                        "passed_time": 5.575202645,
                        "iteration": 381,
                        "remaining_time": 1.722183016,
                        "learn": [
                          0.7978470397,
                          0.4734037052
                        ]
                      },
                      {
                        "test": [
                          0.7012141695,
                          0.5778975951
                        ],
                        "passed_time": 5.589073629,
                        "iteration": 382,
                        "remaining_time": 1.70736714,
                        "learn": [
                          0.7976801435,
                          0.4732380554
                        ]
                      },
                      {
                        "test": [
                          0.7013393416,
                          0.5778404712
                        ],
                        "passed_time": 5.601988458,
                        "iteration": 383,
                        "remaining_time": 1.692267347,
                        "learn": [
                          0.7978887637,
                          0.4730621868
                        ]
                      },
                      {
                        "test": [
                          0.7000876205,
                          0.5779144543
                        ],
                        "passed_time": 5.6152136,
                        "iteration": 384,
                        "remaining_time": 1.677271595,
                        "learn": [
                          0.7981391079,
                          0.4727965784
                        ]
                      },
                      {
                        "test": [
                          0.7000876205,
                          0.5779246045
                        ],
                        "passed_time": 5.628663612,
                        "iteration": 385,
                        "remaining_time": 1.66235143,
                        "learn": [
                          0.7978887637,
                          0.4726039277
                        ]
                      },
                      {
                        "test": [
                          0.7009638253,
                          0.5780202376
                        ],
                        "passed_time": 5.644592865,
                        "iteration": 386,
                        "remaining_time": 1.648162774,
                        "learn": [
                          0.7980973839,
                          0.4723492216
                        ]
                      },
                      {
                        "test": [
                          0.700713481,
                          0.5781013408
                        ],
                        "passed_time": 5.657583015,
                        "iteration": 387,
                        "remaining_time": 1.633116747,
                        "learn": [
                          0.7980973839,
                          0.4721215387
                        ]
                      },
                      {
                        "test": [
                          0.7005883089,
                          0.5781631356
                        ],
                        "passed_time": 5.672019783,
                        "iteration": 388,
                        "remaining_time": 1.618494077,
                        "learn": [
                          0.7983477281,
                          0.4718694023
                        ]
                      },
                      {
                        "test": [
                          0.7000876205,
                          0.578236564
                        ],
                        "passed_time": 5.684868836,
                        "iteration": 389,
                        "remaining_time": 1.603424543,
                        "learn": [
                          0.7984729002,
                          0.4716878152
                        ]
                      },
                      {
                        "test": [
                          0.7005883089,
                          0.5783706574
                        ],
                        "passed_time": 5.698625761,
                        "iteration": 390,
                        "remaining_time": 1.588619458,
                        "learn": [
                          0.7985146243,
                          0.4714464585
                        ]
                      },
                      {
                        "test": [
                          0.6992114157,
                          0.5783857648
                        ],
                        "passed_time": 5.711908055,
                        "iteration": 391,
                        "remaining_time": 1.573688954,
                        "learn": [
                          0.7987232445,
                          0.4711578434
                        ]
                      },
                      {
                        "test": [
                          0.7002127926,
                          0.5783574923
                        ],
                        "passed_time": 5.729059472,
                        "iteration": 392,
                        "remaining_time": 1.559820263,
                        "learn": [
                          0.7990987608,
                          0.4709292798
                        ]
                      },
                      {
                        "test": [
                          0.7002127926,
                          0.5784672944
                        ],
                        "passed_time": 5.753129466,
                        "iteration": 393,
                        "remaining_time": 1.547796252,
                        "learn": [
                          0.799307381,
                          0.4706532291
                        ]
                      },
                      {
                        "test": [
                          0.700713481,
                          0.5784683996
                        ],
                        "passed_time": 5.765979606,
                        "iteration": 394,
                        "remaining_time": 1.532728756,
                        "learn": [
                          0.799307381,
                          0.4705122958
                        ]
                      },
                      {
                        "test": [
                          0.7008386531,
                          0.5784900659
                        ],
                        "passed_time": 5.780196568,
                        "iteration": 395,
                        "remaining_time": 1.518031422,
                        "learn": [
                          0.7995994492,
                          0.4702506737
                        ]
                      },
                      {
                        "test": [
                          0.7005883089,
                          0.5785658251
                        ],
                        "passed_time": 5.793935343,
                        "iteration": 396,
                        "remaining_time": 1.503212444,
                        "learn": [
                          0.7998080694,
                          0.4700294768
                        ]
                      },
                      {
                        "test": [
                          0.7005883089,
                          0.578668245
                        ],
                        "passed_time": 5.807307918,
                        "iteration": 397,
                        "remaining_time": 1.488305044,
                        "learn": [
                          0.8001418617,
                          0.4698648994
                        ]
                      },
                      {
                        "test": [
                          0.7003379647,
                          0.5786981823
                        ],
                        "passed_time": 5.82110163,
                        "iteration": 398,
                        "remaining_time": 1.473511942,
                        "learn": [
                          0.8000584137,
                          0.469655762
                        ]
                      },
                      {
                        "test": [
                          0.6994617599,
                          0.5787727439
                        ],
                        "passed_time": 5.834438075,
                        "iteration": 399,
                        "remaining_time": 1.458609519,
                        "learn": [
                          0.8001001377,
                          0.4694543985
                        ]
                      },
                      {
                        "test": [
                          0.6993365878,
                          0.5789004602
                        ],
                        "passed_time": 5.848335159,
                        "iteration": 400,
                        "remaining_time": 1.443853319,
                        "learn": [
                          0.8001418617,
                          0.4692420457
                        ]
                      },
                      {
                        "test": [
                          0.699586932,
                          0.5789213309
                        ],
                        "passed_time": 5.862382836,
                        "iteration": 401,
                        "remaining_time": 1.429138104,
                        "learn": [
                          0.8002670338,
                          0.4690083632
                        ]
                      },
                      {
                        "test": [
                          0.699586932,
                          0.5789302804
                        ],
                        "passed_time": 5.875590595,
                        "iteration": 402,
                        "remaining_time": 1.414224039,
                        "learn": [
                          0.8007677223,
                          0.468790935
                        ]
                      },
                      {
                        "test": [
                          0.6997121041,
                          0.578948877
                        ],
                        "passed_time": 5.888706437,
                        "iteration": 403,
                        "remaining_time": 1.399296579,
                        "learn": [
                          0.8009763425,
                          0.4685883553
                        ]
                      },
                      {
                        "test": [
                          0.7000876205,
                          0.5789912789
                        ],
                        "passed_time": 5.90241087,
                        "iteration": 404,
                        "remaining_time": 1.38451613,
                        "learn": [
                          0.8009346184,
                          0.4682643056
                        ]
                      },
                      {
                        "test": [
                          0.6997121041,
                          0.5789040327
                        ],
                        "passed_time": 5.915605143,
                        "iteration": 405,
                        "remaining_time": 1.369622866,
                        "learn": [
                          0.8010597905,
                          0.4681030568
                        ]
                      },
                      {
                        "test": [
                          0.6997121041,
                          0.5789070488
                        ],
                        "passed_time": 5.928706123,
                        "iteration": 406,
                        "remaining_time": 1.354716633,
                        "learn": [
                          0.8008928944,
                          0.4678576663
                        ]
                      },
                      {
                        "test": [
                          0.6998372763,
                          0.5788109744
                        ],
                        "passed_time": 5.942320806,
                        "iteration": 407,
                        "remaining_time": 1.339935084,
                        "learn": [
                          0.8008511704,
                          0.4676438079
                        ]
                      },
                      {
                        "test": [
                          0.6998372763,
                          0.5789165528
                        ],
                        "passed_time": 5.95575328,
                        "iteration": 408,
                        "remaining_time": 1.3251187,
                        "learn": [
                          0.8010597905,
                          0.4674263444
                        ]
                      },
                      {
                        "test": [
                          0.7003379647,
                          0.5789344133
                        ],
                        "passed_time": 5.969568784,
                        "iteration": 409,
                        "remaining_time": 1.310393148,
                        "learn": [
                          0.8013101348,
                          0.4671734802
                        ]
                      },
                      {
                        "test": [
                          0.7010889974,
                          0.5788429597
                        ],
                        "passed_time": 5.98273199,
                        "iteration": 410,
                        "remaining_time": 1.295530772,
                        "learn": [
                          0.8016439271,
                          0.4669839069
                        ]
                      },
                      {
                        "test": [
                          0.7010889974,
                          0.5789487556
                        ],
                        "passed_time": 6.02058386,
                        "iteration": 411,
                        "remaining_time": 1.285949951,
                        "learn": [
                          0.8014353069,
                          0.4667659461
                        ]
                      },
                      {
                        "test": [
                          0.7005883089,
                          0.5789982893
                        ],
                        "passed_time": 6.051886974,
                        "iteration": 412,
                        "remaining_time": 1.274852704,
                        "learn": [
                          0.8019359953,
                          0.4665238481
                        ]
                      },
                      {
                        "test": [
                          0.700713481,
                          0.5789829521
                        ],
                        "passed_time": 6.084883928,
                        "iteration": 413,
                        "remaining_time": 1.264009705,
                        "learn": [
                          0.8021028915,
                          0.4663961109
                        ]
                      },
                      {
                        "test": [
                          0.7005883089,
                          0.5790081906
                        ],
                        "passed_time": 6.098859254,
                        "iteration": 414,
                        "remaining_time": 1.249163944,
                        "learn": [
                          0.8021863396,
                          0.4661585917
                        ]
                      },
                      {
                        "test": [
                          0.7008386531,
                          0.5790615723
                        ],
                        "passed_time": 6.112685983,
                        "iteration": 415,
                        "remaining_time": 1.234292362,
                        "learn": [
                          0.8023115117,
                          0.4659698066
                        ]
                      },
                      {
                        "test": [
                          0.7008386531,
                          0.5790536118
                        ],
                        "passed_time": 6.126982149,
                        "iteration": 416,
                        "remaining_time": 1.219519229,
                        "learn": [
                          0.8025201318,
                          0.4656888598
                        ]
                      },
                      {
                        "test": [
                          0.7010889974,
                          0.5791509667
                        ],
                        "passed_time": 6.141149962,
                        "iteration": 417,
                        "remaining_time": 1.204723198,
                        "learn": [
                          0.8027704761,
                          0.4654583943
                        ]
                      },
                      {
                        "test": [
                          0.700713481,
                          0.5792089515
                        ],
                        "passed_time": 6.154838068,
                        "iteration": 418,
                        "remaining_time": 1.189837431,
                        "learn": [
                          0.8029790963,
                          0.4652200356
                        ]
                      },
                      {
                        "test": [
                          0.700713481,
                          0.5792274144
                        ],
                        "passed_time": 6.16895024,
                        "iteration": 419,
                        "remaining_time": 1.175038141,
                        "learn": [
                          0.8031877164,
                          0.4650091155
                        ]
                      },
                      {
                        "test": [
                          0.7012141695,
                          0.5792139006
                        ],
                        "passed_time": 6.182665806,
                        "iteration": 420,
                        "remaining_time": 1.160167693,
                        "learn": [
                          0.8035215087,
                          0.4647737629
                        ]
                      },
                      {
                        "test": [
                          0.7012141695,
                          0.5792733827
                        ],
                        "passed_time": 6.196611972,
                        "iteration": 421,
                        "remaining_time": 1.145345341,
                        "learn": [
                          0.8039804732,
                          0.4645542671
                        ]
                      },
                      {
                        "test": [
                          0.7010889974,
                          0.5792621191
                        ],
                        "passed_time": 6.210574516,
                        "iteration": 422,
                        "remaining_time": 1.130530113,
                        "learn": [
                          0.8040639212,
                          0.4642335328
                        ]
                      },
                      {
                        "test": [
                          0.7012141695,
                          0.5792224225
                        ],
                        "passed_time": 6.223866794,
                        "iteration": 423,
                        "remaining_time": 1.115598765,
                        "learn": [
                          0.8040221972,
                          0.4640529915
                        ]
                      },
                      {
                        "test": [
                          0.7017148579,
                          0.579219015
                        ],
                        "passed_time": 6.237016039,
                        "iteration": 424,
                        "remaining_time": 1.100649889,
                        "learn": [
                          0.8041890933,
                          0.4638694159
                        ]
                      },
                      {
                        "test": [
                          0.7022155464,
                          0.5792711114
                        ],
                        "passed_time": 6.250583304,
                        "iteration": 425,
                        "remaining_time": 1.085782076,
                        "learn": [
                          0.8043559895,
                          0.4635579188
                        ]
                      },
                      {
                        "test": [
                          0.7022155464,
                          0.5792663168
                        ],
                        "passed_time": 6.263774043,
                        "iteration": 426,
                        "remaining_time": 1.070855984,
                        "learn": [
                          0.8045228856,
                          0.4634293574
                        ]
                      },
                      {
                        "test": [
                          0.70184003,
                          0.5792660111
                        ],
                        "passed_time": 6.276276143,
                        "iteration": 427,
                        "remaining_time": 1.055822155,
                        "learn": [
                          0.8045228856,
                          0.463326622
                        ]
                      },
                      {
                        "test": [
                          0.7014645137,
                          0.5792417831
                        ],
                        "passed_time": 6.289022833,
                        "iteration": 428,
                        "remaining_time": 1.040840609,
                        "learn": [
                          0.8047315058,
                          0.4632164312
                        ]
                      },
                      {
                        "test": [
                          0.7017148579,
                          0.5791850263
                        ],
                        "passed_time": 6.302253789,
                        "iteration": 429,
                        "remaining_time": 1.025948291,
                        "learn": [
                          0.8050652981,
                          0.4629590821
                        ]
                      },
                      {
                        "test": [
                          0.7015896858,
                          0.5791747865
                        ],
                        "passed_time": 6.31570204,
                        "iteration": 430,
                        "remaining_time": 1.01109847,
                        "learn": [
                          0.804940126,
                          0.4628111342
                        ]
                      },
                      {
                        "test": [
                          0.7025910627,
                          0.5791716662
                        ],
                        "passed_time": 6.328955921,
                        "iteration": 431,
                        "remaining_time": 0.9962245432,
                        "learn": [
                          0.8047732299,
                          0.4626223208
                        ]
                      },
                      {
                        "test": [
                          0.7028414069,
                          0.5790676876
                        ],
                        "passed_time": 6.342128497,
                        "iteration": 432,
                        "remaining_time": 0.981345518,
                        "learn": [
                          0.8051904702,
                          0.462420842
                        ]
                      },
                      {
                        "test": [
                          0.7024658906,
                          0.579039635
                        ],
                        "passed_time": 6.354742629,
                        "iteration": 433,
                        "remaining_time": 0.966389432,
                        "learn": [
                          0.8052739183,
                          0.4622428789
                        ]
                      },
                      {
                        "test": [
                          0.7023407185,
                          0.5789954014
                        ],
                        "passed_time": 6.367795828,
                        "iteration": 434,
                        "remaining_time": 0.9515097215,
                        "learn": [
                          0.8055242625,
                          0.4621088361
                        ]
                      },
                      {
                        "test": [
                          0.7024658906,
                          0.578979363
                        ],
                        "passed_time": 6.381874588,
                        "iteration": 435,
                        "remaining_time": 0.9367889304,
                        "learn": [
                          0.8055659866,
                          0.4618562574
                        ]
                      },
                      {
                        "test": [
                          0.7020903743,
                          0.5789856293
                        ],
                        "passed_time": 6.395038329,
                        "iteration": 436,
                        "remaining_time": 0.9219391641,
                        "learn": [
                          0.8057328827,
                          0.4616866274
                        ]
                      },
                      {
                        "test": [
                          0.7022155464,
                          0.5790252642
                        ],
                        "passed_time": 6.410404941,
                        "iteration": 437,
                        "remaining_time": 0.9074089185,
                        "learn": [
                          0.8056494346,
                          0.4614228349
                        ]
                      },
                      {
                        "test": [
                          0.7015896858,
                          0.5790556177
                        ],
                        "passed_time": 6.423579099,
                        "iteration": 438,
                        "remaining_time": 0.8925702165,
                        "learn": [
                          0.8059832269,
                          0.461244323
                        ]
                      },
                      {
                        "test": [
                          0.7017148579,
                          0.5790164239
                        ],
                        "passed_time": 6.437391016,
                        "iteration": 439,
                        "remaining_time": 0.8778260476,
                        "learn": [
                          0.8063170192,
                          0.4610284945
                        ]
                      },
                      {
                        "test": [
                          0.7019652022,
                          0.5790265161
                        ],
                        "passed_time": 6.451397301,
                        "iteration": 440,
                        "remaining_time": 0.8631121106,
                        "learn": [
                          0.8066925356,
                          0.4607517536
                        ]
                      },
                      {
                        "test": [
                          0.7024658906,
                          0.5790260763
                        ],
                        "passed_time": 6.464581848,
                        "iteration": 441,
                        "remaining_time": 0.8482935456,
                        "learn": [
                          0.8067342596,
                          0.4605422445
                        ]
                      },
                      {
                        "test": [
                          0.7015896858,
                          0.5789962576
                        ],
                        "passed_time": 6.478479962,
                        "iteration": 442,
                        "remaining_time": 0.8335741712,
                        "learn": [
                          0.8067759836,
                          0.4603102284
                        ]
                      },
                      {
                        "test": [
                          0.7017148579,
                          0.5790246737
                        ],
                        "passed_time": 6.493338146,
                        "iteration": 443,
                        "remaining_time": 0.818979586,
                        "learn": [
                          0.8069428798,
                          0.4600952148
                        ]
                      },
                      {
                        "test": [
                          0.7010889974,
                          0.5789796173
                        ],
                        "passed_time": 6.506770809,
                        "iteration": 444,
                        "remaining_time": 0.8042076281,
                        "learn": [
                          0.8075270163,
                          0.4597666093
                        ]
                      },
                      {
                        "test": [
                          0.7010889974,
                          0.5789613483
                        ],
                        "passed_time": 6.520825814,
                        "iteration": 445,
                        "remaining_time": 0.7895170269,
                        "learn": [
                          0.8075270163,
                          0.459458429
                        ]
                      },
                      {
                        "test": [
                          0.7014645137,
                          0.5790091851
                        ],
                        "passed_time": 6.534386612,
                        "iteration": 446,
                        "remaining_time": 0.7747706721,
                        "learn": [
                          0.8074435682,
                          0.459107854
                        ]
                      },
                      {
                        "test": [
                          0.7012141695,
                          0.5790239494
                        ],
                        "passed_time": 6.55279663,
                        "iteration": 447,
                        "remaining_time": 0.760592466,
                        "learn": [
                          0.8076104644,
                          0.4588648227
                        ]
                      },
                      {
                        "test": [
                          0.7008386531,
                          0.5790705308
                        ],
                        "passed_time": 6.56563821,
                        "iteration": 448,
                        "remaining_time": 0.7457629148,
                        "learn": [
                          0.8077773605,
                          0.4587509756
                        ]
                      },
                      {
                        "test": [
                          0.7010889974,
                          0.5791301528
                        ],
                        "passed_time": 6.5792532,
                        "iteration": 449,
                        "remaining_time": 0.7310281333,
                        "learn": [
                          0.8079025326,
                          0.4586307591
                        ]
                      },
                      {
                        "test": [
                          0.7014645137,
                          0.5791042385
                        ],
                        "passed_time": 6.592527392,
                        "iteration": 450,
                        "remaining_time": 0.716261291,
                        "learn": [
                          0.8081528769,
                          0.4584639667
                        ]
                      },
                      {
                        "test": [
                          0.7014645137,
                          0.5790303406
                        ],
                        "passed_time": 6.605880537,
                        "iteration": 451,
                        "remaining_time": 0.7015094376,
                        "learn": [
                          0.8080277048,
                          0.4582404485
                        ]
                      },
                      {
                        "test": [
                          0.7015896858,
                          0.5790396144
                        ],
                        "passed_time": 6.618992656,
                        "iteration": 452,
                        "remaining_time": 0.6867387524,
                        "learn": [
                          0.8083614971,
                          0.4580634229
                        ]
                      },
                      {
                        "test": [
                          0.7015896858,
                          0.5790790074
                        ],
                        "passed_time": 6.632375904,
                        "iteration": 453,
                        "remaining_time": 0.6720028449,
                        "learn": [
                          0.8088204615,
                          0.4578883436
                        ]
                      },
                      {
                        "test": [
                          0.70184003,
                          0.5790631996
                        ],
                        "passed_time": 6.646452438,
                        "iteration": 454,
                        "remaining_time": 0.6573414499,
                        "learn": [
                          0.8091542538,
                          0.4577279833
                        ]
                      },
                      {
                        "test": [
                          0.7022155464,
                          0.5790237814
                        ],
                        "passed_time": 6.660305956,
                        "iteration": 455,
                        "remaining_time": 0.642661101,
                        "learn": [
                          0.8091542538,
                          0.4574812508
                        ]
                      },
                      {
                        "test": [
                          0.7019652022,
                          0.5790106895
                        ],
                        "passed_time": 6.674501156,
                        "iteration": 456,
                        "remaining_time": 0.6280165201,
                        "learn": [
                          0.8090290817,
                          0.4572226695
                        ]
                      },
                      {
                        "test": [
                          0.7020903743,
                          0.5790143119
                        ],
                        "passed_time": 6.687279254,
                        "iteration": 457,
                        "remaining_time": 0.613243949,
                        "learn": [
                          0.8088621855,
                          0.4570755686
                        ]
                      },
                      {
                        "test": [
                          0.702966579,
                          0.5790791614
                        ],
                        "passed_time": 6.700656196,
                        "iteration": 458,
                        "remaining_time": 0.59853356,
                        "learn": [
                          0.8097383903,
                          0.4568206856
                        ]
                      },
                      {
                        "test": [
                          0.7030917512,
                          0.579130054
                        ],
                        "passed_time": 6.713921396,
                        "iteration": 459,
                        "remaining_time": 0.5838192518,
                        "learn": [
                          0.8096132182,
                          0.4565694075
                        ]
                      },
                      {
                        "test": [
                          0.7028414069,
                          0.5791390197
                        ],
                        "passed_time": 6.727908778,
                        "iteration": 460,
                        "remaining_time": 0.5691723261,
                        "learn": [
                          0.8099470105,
                          0.4563377071
                        ]
                      },
                      {
                        "test": [
                          0.7032169233,
                          0.5791461742
                        ],
                        "passed_time": 6.746700144,
                        "iteration": 461,
                        "remaining_time": 0.5549233885,
                        "learn": [
                          0.8102808028,
                          0.4561667692
                        ]
                      },
                      {
                        "test": [
                          0.7034672675,
                          0.5791770232
                        ],
                        "passed_time": 6.762693421,
                        "iteration": 462,
                        "remaining_time": 0.5404312237,
                        "learn": [
                          0.8102808028,
                          0.4559794557
                        ]
                      },
                      {
                        "test": [
                          0.702966579,
                          0.5791779549
                        ],
                        "passed_time": 6.776138939,
                        "iteration": 463,
                        "remaining_time": 0.5257349176,
                        "learn": [
                          0.8102808028,
                          0.4557919478
                        ]
                      },
                      {
                        "test": [
                          0.7025910627,
                          0.579233918
                        ],
                        "passed_time": 6.789433466,
                        "iteration": 464,
                        "remaining_time": 0.5110326264,
                        "learn": [
                          0.8108232153,
                          0.4555730544
                        ]
                      },
                      {
                        "test": [
                          0.7024658906,
                          0.579224304
                        ],
                        "passed_time": 6.802881985,
                        "iteration": 465,
                        "remaining_time": 0.4963476127,
                        "learn": [
                          0.8111987316,
                          0.4553486782
                        ]
                      },
                      {
                        "test": [
                          0.702966579,
                          0.5793637911
                        ],
                        "passed_time": 6.815644886,
                        "iteration": 466,
                        "remaining_time": 0.4816194459,
                        "learn": [
                          0.8112404556,
                          0.4551498087
                        ]
                      },
                      {
                        "test": [
                          0.702966579,
                          0.5793342014
                        ],
                        "passed_time": 6.828382089,
                        "iteration": 467,
                        "remaining_time": 0.4668979206,
                        "learn": [
                          0.8111987316,
                          0.4549773072
                        ]
                      },
                      {
                        "test": [
                          0.7024658906,
                          0.5792480018
                        ],
                        "passed_time": 6.842606559,
                        "iteration": 468,
                        "remaining_time": 0.4522831628,
                        "learn": [
                          0.8112404556,
                          0.4547093127
                        ]
                      },
                      {
                        "test": [
                          0.702966579,
                          0.5792537907
                        ],
                        "passed_time": 6.855793531,
                        "iteration": 469,
                        "remaining_time": 0.4376038424,
                        "learn": [
                          0.8111570076,
                          0.4544866641
                        ]
                      },
                      {
                        "test": [
                          0.7030917512,
                          0.5792533434
                        ],
                        "passed_time": 6.869166935,
                        "iteration": 470,
                        "remaining_time": 0.4229423378,
                        "learn": [
                          0.8115742479,
                          0.4542712083
                        ]
                      },
                      {
                        "test": [
                          0.7028414069,
                          0.579307538
                        ],
                        "passed_time": 6.882947171,
                        "iteration": 471,
                        "remaining_time": 0.4083104254,
                        "learn": [
                          0.8117828681,
                          0.4541208211
                        ]
                      },
                      {
                        "test": [
                          0.702966579,
                          0.579453302
                        ],
                        "passed_time": 6.896628116,
                        "iteration": 472,
                        "remaining_time": 0.3936764464,
                        "learn": [
                          0.8115325239,
                          0.4539433464
                        ]
                      },
                      {
                        "test": [
                          0.7025910627,
                          0.5795292937
                        ],
                        "passed_time": 6.910326895,
                        "iteration": 473,
                        "remaining_time": 0.3790474668,
                        "learn": [
                          0.811657696,
                          0.4537743082
                        ]
                      },
                      {
                        "test": [
                          0.7028414069,
                          0.5795811173
                        ],
                        "passed_time": 6.924822901,
                        "iteration": 474,
                        "remaining_time": 0.3644643632,
                        "learn": [
                          0.8121166604,
                          0.4535615468
                        ]
                      },
                      {
                        "test": [
                          0.7027162348,
                          0.5795836912
                        ],
                        "passed_time": 6.937889023,
                        "iteration": 475,
                        "remaining_time": 0.3498095306,
                        "learn": [
                          0.8121166604,
                          0.4533895249
                        ]
                      },
                      {
                        "test": [
                          0.7032169233,
                          0.5795828884
                        ],
                        "passed_time": 6.951470286,
                        "iteration": 476,
                        "remaining_time": 0.3351861983,
                        "learn": [
                          0.8121583844,
                          0.4531816866
                        ]
                      },
                      {
                        "test": [
                          0.7033420954,
                          0.5795801182
                        ],
                        "passed_time": 6.964700017,
                        "iteration": 477,
                        "remaining_time": 0.3205510468,
                        "learn": [
                          0.8124504527,
                          0.4530243845
                        ]
                      },
                      {
                        "test": [
                          0.7035924396,
                          0.5796096703
                        ],
                        "passed_time": 6.97815902,
                        "iteration": 478,
                        "remaining_time": 0.3059318151,
                        "learn": [
                          0.8124087287,
                          0.4528238569
                        ]
                      },
                      {
                        "test": [
                          0.7035924396,
                          0.5795985067
                        ],
                        "passed_time": 6.991149596,
                        "iteration": 479,
                        "remaining_time": 0.2912978998,
                        "learn": [
                          0.8125756248,
                          0.452705859
                        ]
                      },
                      {
                        "test": [
                          0.7033420954,
                          0.5795468249
                        ],
                        "passed_time": 7.004477698,
                        "iteration": 480,
                        "remaining_time": 0.2766841502,
                        "learn": [
                          0.812825969,
                          0.452540105
                        ]
                      },
                      {
                        "test": [
                          0.7032169233,
                          0.5795921606
                        ],
                        "passed_time": 7.047360279,
                        "iteration": 481,
                        "remaining_time": 0.2631794295,
                        "learn": [
                          0.8129511412,
                          0.4523511567
                        ]
                      },
                      {
                        "test": [
                          0.7035924396,
                          0.5795838783
                        ],
                        "passed_time": 7.090700828,
                        "iteration": 482,
                        "remaining_time": 0.2495691803,
                        "learn": [
                          0.8132432094,
                          0.4521802902
                        ]
                      },
                      {
                        "test": [
                          0.7033420954,
                          0.5796891063
                        ],
                        "passed_time": 7.109828245,
                        "iteration": 483,
                        "remaining_time": 0.2350356445,
                        "learn": [
                          0.8132014854,
                          0.4520353661
                        ]
                      },
                      {
                        "test": [
                          0.7032169233,
                          0.5796894101
                        ],
                        "passed_time": 7.123586328,
                        "iteration": 484,
                        "remaining_time": 0.2203171029,
                        "learn": [
                          0.8132432094,
                          0.4518760239
                        ]
                      },
                      {
                        "test": [
                          0.7033420954,
                          0.5796827989
                        ],
                        "passed_time": 7.137540175,
                        "iteration": 485,
                        "remaining_time": 0.2056081532,
                        "learn": [
                          0.8132014854,
                          0.45164543
                        ]
                      },
                      {
                        "test": [
                          0.7032169233,
                          0.5797224941
                        ],
                        "passed_time": 7.150785053,
                        "iteration": 486,
                        "remaining_time": 0.1908833792,
                        "learn": [
                          0.8134101056,
                          0.4515256212
                        ]
                      },
                      {
                        "test": [
                          0.702966579,
                          0.5798290719
                        ],
                        "passed_time": 7.164248947,
                        "iteration": 487,
                        "remaining_time": 0.1761700561,
                        "learn": [
                          0.8137021738,
                          0.4513560222
                        ]
                      },
                      {
                        "test": [
                          0.7027162348,
                          0.5798737071
                        ],
                        "passed_time": 7.177829123,
                        "iteration": 488,
                        "remaining_time": 0.1614644588,
                        "learn": [
                          0.8135352777,
                          0.4512410145
                        ]
                      },
                      {
                        "test": [
                          0.7023407185,
                          0.5798570881
                        ],
                        "passed_time": 7.19105986,
                        "iteration": 489,
                        "remaining_time": 0.1467563237,
                        "learn": [
                          0.8138273459,
                          0.4510431554
                        ]
                      },
                      {
                        "test": [
                          0.7024658906,
                          0.5798764285
                        ],
                        "passed_time": 7.205244388,
                        "iteration": 490,
                        "remaining_time": 0.1320716894,
                        "learn": [
                          0.8136187257,
                          0.4508167228
                        ]
                      },
                      {
                        "test": [
                          0.7025910627,
                          0.5799278058
                        ],
                        "passed_time": 7.219314023,
                        "iteration": 491,
                        "remaining_time": 0.1173872199,
                        "learn": [
                          0.8136604498,
                          0.4505780073
                        ]
                      },
                      {
                        "test": [
                          0.7023407185,
                          0.5800200097
                        ],
                        "passed_time": 7.233037315,
                        "iteration": 492,
                        "remaining_time": 0.102700327,
                        "learn": [
                          0.8142028623,
                          0.4503613424
                        ]
                      },
                      {
                        "test": [
                          0.7020903743,
                          0.5801062013
                        ],
                        "passed_time": 7.246021492,
                        "iteration": 493,
                        "remaining_time": 0.0880083582,
                        "learn": [
                          0.8142863103,
                          0.450254714
                        ]
                      },
                      {
                        "test": [
                          0.7023407185,
                          0.5801537997
                        ],
                        "passed_time": 7.259174484,
                        "iteration": 494,
                        "remaining_time": 0.07332499479,
                        "learn": [
                          0.8147452748,
                          0.4500960959
                        ]
                      },
                      {
                        "test": [
                          0.7027162348,
                          0.5801557477
                        ],
                        "passed_time": 7.272608737,
                        "iteration": 495,
                        "remaining_time": 0.05865007046,
                        "learn": [
                          0.8142863103,
                          0.4499304806
                        ]
                      },
                      {
                        "test": [
                          0.702966579,
                          0.580094655
                        ],
                        "passed_time": 7.286115497,
                        "iteration": 496,
                        "remaining_time": 0.04398057644,
                        "learn": [
                          0.8144949305,
                          0.4497343849
                        ]
                      },
                      {
                        "test": [
                          0.7019652022,
                          0.5800597143
                        ],
                        "passed_time": 7.299842308,
                        "iteration": 497,
                        "remaining_time": 0.02931663577,
                        "learn": [
                          0.8148287228,
                          0.4495244318
                        ]
                      },
                      {
                        "test": [
                          0.7024658906,
                          0.5800923495
                        ],
                        "passed_time": 7.312813102,
                        "iteration": 498,
                        "remaining_time": 0.01465493608,
                        "learn": [
                          0.8147452748,
                          0.4493783345
                        ]
                      },
                      {
                        "test": [
                          0.702966579,
                          0.5800845872
                        ],
                        "passed_time": 7.326031512,
                        "iteration": 499,
                        "remaining_time": 0,
                        "learn": [
                          0.8150790671,
                          0.449171228
                        ]
                      }
                    ]
                  },
                  "total_iterations": 500,
                  "passed_iterations": 499
                },
                "path": "catboost_info",
                "name": "catboost_info"
              }
            },
            "_view_module": "catboost-widget",
            "_model_module_version": "^1.0.0",
            "_view_count": null,
            "_view_module_version": "^1.0.0",
            "layout": "IPY_MODEL_59ae0b012be74d3c968f5c306b604ded",
            "_model_module": "catboost-widget"
          }
        }
      }
    }
  },
  "nbformat": 4,
  "nbformat_minor": 5
}