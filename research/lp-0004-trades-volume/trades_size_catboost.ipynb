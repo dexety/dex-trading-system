{
 "cells": [
  {
   "cell_type": "code",
   "execution_count": 1,
   "id": "6PWJsnjzBfq1",
   "metadata": {
    "colab": {
     "base_uri": "https://localhost:8080/",
     "height": 0
    },
    "id": "6PWJsnjzBfq1",
    "outputId": "07da6735-d303-4ab1-9ae4-10b56c85a032"
   },
   "outputs": [
    {
     "name": "stdout",
     "output_type": "stream",
     "text": [
      "Defaulting to user installation because normal site-packages is not writeable\n",
      "Requirement already satisfied: catboost in /home/leoproko/.local/lib/python3.8/site-packages (1.0.4)\n",
      "Requirement already satisfied: graphviz in /home/leoproko/.local/lib/python3.8/site-packages (from catboost) (0.19.1)\n",
      "Requirement already satisfied: six in /usr/lib/python3/dist-packages (from catboost) (1.14.0)\n",
      "Requirement already satisfied: scipy in /usr/local/lib/python3.8/dist-packages (from catboost) (1.6.2)\n",
      "Requirement already satisfied: plotly in /home/leoproko/.local/lib/python3.8/site-packages (from catboost) (5.4.0)\n",
      "Requirement already satisfied: numpy>=1.16.0 in /home/leoproko/.local/lib/python3.8/site-packages (from catboost) (1.20.2)\n",
      "Requirement already satisfied: pandas>=0.24.0 in /home/leoproko/.local/lib/python3.8/site-packages (from catboost) (1.2.4)\n",
      "Requirement already satisfied: matplotlib in /home/leoproko/.local/lib/python3.8/site-packages (from catboost) (3.4.1)\n",
      "Requirement already satisfied: pytz>=2017.3 in /usr/lib/python3/dist-packages (from pandas>=0.24.0->catboost) (2019.3)\n",
      "Requirement already satisfied: python-dateutil>=2.7.3 in /usr/lib/python3/dist-packages (from pandas>=0.24.0->catboost) (2.7.3)\n",
      "Requirement already satisfied: pyparsing>=2.2.1 in /home/leoproko/.local/lib/python3.8/site-packages (from matplotlib->catboost) (2.4.7)\n",
      "Requirement already satisfied: cycler>=0.10 in /home/leoproko/.local/lib/python3.8/site-packages (from matplotlib->catboost) (0.10.0)\n",
      "Requirement already satisfied: pillow>=6.2.0 in /usr/lib/python3/dist-packages (from matplotlib->catboost) (7.0.0)\n",
      "Requirement already satisfied: kiwisolver>=1.0.1 in /home/leoproko/.local/lib/python3.8/site-packages (from matplotlib->catboost) (1.3.1)\n",
      "Requirement already satisfied: tenacity>=6.2.0 in /home/leoproko/.local/lib/python3.8/site-packages (from plotly->catboost) (8.0.1)\n",
      "Defaulting to user installation because normal site-packages is not writeable\n",
      "Collecting hyperopt==0.2.5\n",
      "  Using cached hyperopt-0.2.5-py2.py3-none-any.whl (965 kB)\n",
      "Requirement already satisfied: networkx>=2.2 in /home/leoproko/.local/lib/python3.8/site-packages (from hyperopt==0.2.5) (2.5.1)\n",
      "Requirement already satisfied: scipy in /usr/local/lib/python3.8/dist-packages (from hyperopt==0.2.5) (1.6.2)\n",
      "Requirement already satisfied: future in /home/leoproko/.local/lib/python3.8/site-packages (from hyperopt==0.2.5) (0.18.2)\n",
      "Requirement already satisfied: tqdm in /home/leoproko/.local/lib/python3.8/site-packages (from hyperopt==0.2.5) (4.40.0)\n",
      "Requirement already satisfied: six in /usr/lib/python3/dist-packages (from hyperopt==0.2.5) (1.14.0)\n",
      "Requirement already satisfied: numpy in /home/leoproko/.local/lib/python3.8/site-packages (from hyperopt==0.2.5) (1.20.2)\n",
      "Requirement already satisfied: cloudpickle in /home/leoproko/.local/lib/python3.8/site-packages (from hyperopt==0.2.5) (2.0.0)\n",
      "Requirement already satisfied: decorator<5,>=4.3 in /usr/lib/python3/dist-packages (from networkx>=2.2->hyperopt==0.2.5) (4.4.2)\n",
      "Installing collected packages: hyperopt\n",
      "Successfully installed hyperopt-0.2.5\n"
     ]
    }
   ],
   "source": [
    "!pip3 install catboost\n",
    "!pip3 install hyperopt==0.2.5"
   ]
  },
  {
   "cell_type": "code",
   "execution_count": 2,
   "id": "vjlvDT-QXrD0",
   "metadata": {
    "id": "vjlvDT-QXrD0"
   },
   "outputs": [],
   "source": [
    "import pandas as pd\n",
    "import numpy as np\n",
    "from catboost import CatBoostClassifier, Pool, metrics, cv\n",
    "from sklearn.metrics import accuracy_score\n",
    "from sklearn.model_selection import train_test_split\n",
    "import hyperopt\n",
    "from numpy.random import RandomState\n",
    "from catboost.utils import select_threshold"
   ]
  },
  {
   "cell_type": "code",
   "execution_count": 3,
   "id": "853aa3c4-a2d3-4845-ad55-388c7ddc238f",
   "metadata": {
    "id": "853aa3c4-a2d3-4845-ad55-388c7ddc238f"
   },
   "outputs": [],
   "source": [
    "csv_path = \"../../data/trades/processed/trades-df-2021_11_1_0_0_0-2021_12_21_0_0_0.csv\"\n",
    "df = pd.read_csv(csv_path)"
   ]
  },
  {
   "cell_type": "code",
   "execution_count": 4,
   "id": "6d19d8f2-29d6-475a-8e14-714733f36850",
   "metadata": {
    "colab": {
     "base_uri": "https://localhost:8080/",
     "height": 0
    },
    "id": "6d19d8f2-29d6-475a-8e14-714733f36850",
    "outputId": "d5dcef16-413b-4155-c3fa-6ffbf82199b3"
   },
   "outputs": [
    {
     "name": "stdout",
     "output_type": "stream",
     "text": [
      "['trade_volume-BUY-6-sec', 'moving_average_price-BUY-6-sec', 'weighted_moving_average_price-BUY-6-sec', 'exp_moving_average_price-BUY-6-sec', 'stochastic_oscillator-BUY-6-sec', 'trade_volume-BUY-12-sec', 'moving_average_price-BUY-12-sec', 'weighted_moving_average_price-BUY-12-sec', 'exp_moving_average_price-BUY-12-sec', 'stochastic_oscillator-BUY-12-sec', 'trade_volume-BUY-18-sec', 'moving_average_price-BUY-18-sec', 'weighted_moving_average_price-BUY-18-sec', 'exp_moving_average_price-BUY-18-sec', 'stochastic_oscillator-BUY-18-sec', 'trade_volume-BUY-24-sec', 'moving_average_price-BUY-24-sec', 'weighted_moving_average_price-BUY-24-sec', 'exp_moving_average_price-BUY-24-sec', 'stochastic_oscillator-BUY-24-sec', 'trade_volume-BUY-30-sec', 'moving_average_price-BUY-30-sec', 'weighted_moving_average_price-BUY-30-sec', 'exp_moving_average_price-BUY-30-sec', 'stochastic_oscillator-BUY-30-sec', 'trade_volume-BUY-36-sec', 'moving_average_price-BUY-36-sec', 'weighted_moving_average_price-BUY-36-sec', 'exp_moving_average_price-BUY-36-sec', 'stochastic_oscillator-BUY-36-sec', 'trade_volume-BUY-42-sec', 'moving_average_price-BUY-42-sec', 'weighted_moving_average_price-BUY-42-sec', 'exp_moving_average_price-BUY-42-sec', 'stochastic_oscillator-BUY-42-sec', 'trade_volume-BUY-48-sec', 'moving_average_price-BUY-48-sec', 'weighted_moving_average_price-BUY-48-sec', 'exp_moving_average_price-BUY-48-sec', 'stochastic_oscillator-BUY-48-sec', 'trade_volume-BUY-54-sec', 'moving_average_price-BUY-54-sec', 'weighted_moving_average_price-BUY-54-sec', 'exp_moving_average_price-BUY-54-sec', 'stochastic_oscillator-BUY-54-sec', 'trade_volume-BUY-60-sec', 'moving_average_price-BUY-60-sec', 'weighted_moving_average_price-BUY-60-sec', 'exp_moving_average_price-BUY-60-sec', 'stochastic_oscillator-BUY-60-sec', 'trade_volume-SELL-6-sec', 'moving_average_price-SELL-6-sec', 'weighted_moving_average_price-SELL-6-sec', 'exp_moving_average_price-SELL-6-sec', 'stochastic_oscillator-SELL-6-sec', 'trade_volume-SELL-12-sec', 'moving_average_price-SELL-12-sec', 'weighted_moving_average_price-SELL-12-sec', 'exp_moving_average_price-SELL-12-sec', 'stochastic_oscillator-SELL-12-sec', 'trade_volume-SELL-18-sec', 'moving_average_price-SELL-18-sec', 'weighted_moving_average_price-SELL-18-sec', 'exp_moving_average_price-SELL-18-sec', 'stochastic_oscillator-SELL-18-sec', 'trade_volume-SELL-24-sec', 'moving_average_price-SELL-24-sec', 'weighted_moving_average_price-SELL-24-sec', 'exp_moving_average_price-SELL-24-sec', 'stochastic_oscillator-SELL-24-sec', 'trade_volume-SELL-30-sec', 'moving_average_price-SELL-30-sec', 'weighted_moving_average_price-SELL-30-sec', 'exp_moving_average_price-SELL-30-sec', 'stochastic_oscillator-SELL-30-sec', 'trade_volume-SELL-36-sec', 'moving_average_price-SELL-36-sec', 'weighted_moving_average_price-SELL-36-sec', 'exp_moving_average_price-SELL-36-sec', 'stochastic_oscillator-SELL-36-sec', 'trade_volume-SELL-42-sec', 'moving_average_price-SELL-42-sec', 'weighted_moving_average_price-SELL-42-sec', 'exp_moving_average_price-SELL-42-sec', 'stochastic_oscillator-SELL-42-sec', 'trade_volume-SELL-48-sec', 'moving_average_price-SELL-48-sec', 'weighted_moving_average_price-SELL-48-sec', 'exp_moving_average_price-SELL-48-sec', 'stochastic_oscillator-SELL-48-sec', 'trade_volume-SELL-54-sec', 'moving_average_price-SELL-54-sec', 'weighted_moving_average_price-SELL-54-sec', 'exp_moving_average_price-SELL-54-sec', 'stochastic_oscillator-SELL-54-sec', 'trade_volume-SELL-60-sec', 'moving_average_price-SELL-60-sec', 'weighted_moving_average_price-SELL-60-sec', 'exp_moving_average_price-SELL-60-sec', 'stochastic_oscillator-SELL-60-sec']\n",
      "['punch-BUY-30-sec', 'punch-SELL-30-sec']\n"
     ]
    }
   ],
   "source": [
    "x_columns = list(filter(lambda column: not 'punch' in column, df.columns))\n",
    "y_columns = list(filter(lambda column: 'punch' in column, df.columns))\n",
    "print(x_columns)\n",
    "print(y_columns)"
   ]
  },
  {
   "cell_type": "code",
   "execution_count": 5,
   "id": "96ce2f97-578b-4e03-88df-68348c66e537",
   "metadata": {
    "colab": {
     "base_uri": "https://localhost:8080/",
     "height": 713
    },
    "id": "96ce2f97-578b-4e03-88df-68348c66e537",
    "outputId": "13c2e8cd-5d4c-4db0-f039-d53dc4c942c9"
   },
   "outputs": [
    {
     "name": "stderr",
     "output_type": "stream",
     "text": [
      "<ipython-input-5-bcd2e7a3d259>:13: SettingWithCopyWarning: \n",
      "A value is trying to be set on a copy of a slice from a DataFrame.\n",
      "Try using .loc[row_indexer,col_indexer] = value instead\n",
      "\n",
      "See the caveats in the documentation: https://pandas.pydata.org/pandas-docs/stable/user_guide/indexing.html#returning-a-view-versus-a-copy\n",
      "  X[f'{name}-{side}-{sec}-sec'] /= X[f'{name}-{side}-{str(int(sec) + delta_sec)}-sec']\n",
      "<ipython-input-5-bcd2e7a3d259>:10: SettingWithCopyWarning: \n",
      "A value is trying to be set on a copy of a slice from a DataFrame.\n",
      "Try using .loc[row_indexer,col_indexer] = value instead\n",
      "\n",
      "See the caveats in the documentation: https://pandas.pydata.org/pandas-docs/stable/user_guide/indexing.html#returning-a-view-versus-a-copy\n",
      "  X[f'{name}-{side}-{sec}-sec'] -= X[f'{name}-{side}-{str(int(sec) - delta_sec)}-sec']\n"
     ]
    },
    {
     "data": {
      "text/html": [
       "<div>\n",
       "<style scoped>\n",
       "    .dataframe tbody tr th:only-of-type {\n",
       "        vertical-align: middle;\n",
       "    }\n",
       "\n",
       "    .dataframe tbody tr th {\n",
       "        vertical-align: top;\n",
       "    }\n",
       "\n",
       "    .dataframe thead th {\n",
       "        text-align: right;\n",
       "    }\n",
       "</style>\n",
       "<table border=\"1\" class=\"dataframe\">\n",
       "  <thead>\n",
       "    <tr style=\"text-align: right;\">\n",
       "      <th></th>\n",
       "      <th>trade_volume-BUY-6-sec</th>\n",
       "      <th>moving_average_price-BUY-6-sec</th>\n",
       "      <th>weighted_moving_average_price-BUY-6-sec</th>\n",
       "      <th>exp_moving_average_price-BUY-6-sec</th>\n",
       "      <th>stochastic_oscillator-BUY-6-sec</th>\n",
       "      <th>trade_volume-BUY-12-sec</th>\n",
       "      <th>moving_average_price-BUY-12-sec</th>\n",
       "      <th>weighted_moving_average_price-BUY-12-sec</th>\n",
       "      <th>exp_moving_average_price-BUY-12-sec</th>\n",
       "      <th>stochastic_oscillator-BUY-12-sec</th>\n",
       "      <th>...</th>\n",
       "      <th>weighted_moving_average_price-SELL-48-sec</th>\n",
       "      <th>exp_moving_average_price-SELL-48-sec</th>\n",
       "      <th>stochastic_oscillator-SELL-48-sec</th>\n",
       "      <th>trade_volume-SELL-54-sec</th>\n",
       "      <th>moving_average_price-SELL-54-sec</th>\n",
       "      <th>weighted_moving_average_price-SELL-54-sec</th>\n",
       "      <th>exp_moving_average_price-SELL-54-sec</th>\n",
       "      <th>stochastic_oscillator-SELL-54-sec</th>\n",
       "      <th>trade_volume-SELL-60-sec</th>\n",
       "      <th>stochastic_oscillator-SELL-60-sec</th>\n",
       "    </tr>\n",
       "  </thead>\n",
       "  <tbody>\n",
       "    <tr>\n",
       "      <th>0</th>\n",
       "      <td>0.100</td>\n",
       "      <td>1.000000</td>\n",
       "      <td>1.000000</td>\n",
       "      <td>1.000000</td>\n",
       "      <td>0.0</td>\n",
       "      <td>0.400</td>\n",
       "      <td>1.000078</td>\n",
       "      <td>1.000113</td>\n",
       "      <td>1.000005</td>\n",
       "      <td>0.000000</td>\n",
       "      <td>...</td>\n",
       "      <td>1.000014</td>\n",
       "      <td>1.0</td>\n",
       "      <td>0.000000</td>\n",
       "      <td>3.400</td>\n",
       "      <td>1.000028</td>\n",
       "      <td>1.000018</td>\n",
       "      <td>1.0</td>\n",
       "      <td>1.000000</td>\n",
       "      <td>15.547</td>\n",
       "      <td>0.000000</td>\n",
       "    </tr>\n",
       "    <tr>\n",
       "      <th>1</th>\n",
       "      <td>0.200</td>\n",
       "      <td>1.000000</td>\n",
       "      <td>1.000000</td>\n",
       "      <td>1.000000</td>\n",
       "      <td>0.0</td>\n",
       "      <td>0.300</td>\n",
       "      <td>1.000000</td>\n",
       "      <td>1.000000</td>\n",
       "      <td>1.000000</td>\n",
       "      <td>0.000000</td>\n",
       "      <td>...</td>\n",
       "      <td>0.999760</td>\n",
       "      <td>1.0</td>\n",
       "      <td>0.600000</td>\n",
       "      <td>34.697</td>\n",
       "      <td>0.999995</td>\n",
       "      <td>1.000000</td>\n",
       "      <td>1.0</td>\n",
       "      <td>-0.339130</td>\n",
       "      <td>4.384</td>\n",
       "      <td>0.600000</td>\n",
       "    </tr>\n",
       "    <tr>\n",
       "      <th>2</th>\n",
       "      <td>0.200</td>\n",
       "      <td>1.000054</td>\n",
       "      <td>1.000093</td>\n",
       "      <td>1.000045</td>\n",
       "      <td>0.0</td>\n",
       "      <td>49.298</td>\n",
       "      <td>0.999927</td>\n",
       "      <td>0.999998</td>\n",
       "      <td>0.999997</td>\n",
       "      <td>0.000000</td>\n",
       "      <td>...</td>\n",
       "      <td>0.999993</td>\n",
       "      <td>1.0</td>\n",
       "      <td>0.000000</td>\n",
       "      <td>22.783</td>\n",
       "      <td>0.999961</td>\n",
       "      <td>0.999998</td>\n",
       "      <td>1.0</td>\n",
       "      <td>0.000000</td>\n",
       "      <td>153.412</td>\n",
       "      <td>0.000000</td>\n",
       "    </tr>\n",
       "    <tr>\n",
       "      <th>3</th>\n",
       "      <td>2.513</td>\n",
       "      <td>1.000151</td>\n",
       "      <td>1.000178</td>\n",
       "      <td>1.000007</td>\n",
       "      <td>0.0</td>\n",
       "      <td>4.975</td>\n",
       "      <td>1.000460</td>\n",
       "      <td>1.000613</td>\n",
       "      <td>1.000000</td>\n",
       "      <td>1.000000</td>\n",
       "      <td>...</td>\n",
       "      <td>0.999960</td>\n",
       "      <td>1.0</td>\n",
       "      <td>-0.055696</td>\n",
       "      <td>48.145</td>\n",
       "      <td>0.999830</td>\n",
       "      <td>0.999537</td>\n",
       "      <td>1.0</td>\n",
       "      <td>0.722363</td>\n",
       "      <td>43.943</td>\n",
       "      <td>-0.237069</td>\n",
       "    </tr>\n",
       "    <tr>\n",
       "      <th>4</th>\n",
       "      <td>5.152</td>\n",
       "      <td>0.999959</td>\n",
       "      <td>0.999992</td>\n",
       "      <td>0.999995</td>\n",
       "      <td>1.0</td>\n",
       "      <td>0.100</td>\n",
       "      <td>0.999963</td>\n",
       "      <td>0.999992</td>\n",
       "      <td>1.000000</td>\n",
       "      <td>-0.277778</td>\n",
       "      <td>...</td>\n",
       "      <td>1.000007</td>\n",
       "      <td>1.0</td>\n",
       "      <td>-0.111310</td>\n",
       "      <td>19.532</td>\n",
       "      <td>1.000118</td>\n",
       "      <td>1.000278</td>\n",
       "      <td>1.0</td>\n",
       "      <td>0.971310</td>\n",
       "      <td>16.675</td>\n",
       "      <td>-0.111310</td>\n",
       "    </tr>\n",
       "    <tr>\n",
       "      <th>...</th>\n",
       "      <td>...</td>\n",
       "      <td>...</td>\n",
       "      <td>...</td>\n",
       "      <td>...</td>\n",
       "      <td>...</td>\n",
       "      <td>...</td>\n",
       "      <td>...</td>\n",
       "      <td>...</td>\n",
       "      <td>...</td>\n",
       "      <td>...</td>\n",
       "      <td>...</td>\n",
       "      <td>...</td>\n",
       "      <td>...</td>\n",
       "      <td>...</td>\n",
       "      <td>...</td>\n",
       "      <td>...</td>\n",
       "      <td>...</td>\n",
       "      <td>...</td>\n",
       "      <td>...</td>\n",
       "      <td>...</td>\n",
       "      <td>...</td>\n",
       "    </tr>\n",
       "    <tr>\n",
       "      <th>38742</th>\n",
       "      <td>6.446</td>\n",
       "      <td>1.000332</td>\n",
       "      <td>1.000367</td>\n",
       "      <td>1.000060</td>\n",
       "      <td>0.5</td>\n",
       "      <td>12.537</td>\n",
       "      <td>1.000000</td>\n",
       "      <td>1.000000</td>\n",
       "      <td>1.000000</td>\n",
       "      <td>0.500000</td>\n",
       "      <td>...</td>\n",
       "      <td>0.999974</td>\n",
       "      <td>1.0</td>\n",
       "      <td>0.000000</td>\n",
       "      <td>45.331</td>\n",
       "      <td>1.000000</td>\n",
       "      <td>1.000000</td>\n",
       "      <td>1.0</td>\n",
       "      <td>0.000000</td>\n",
       "      <td>3.000</td>\n",
       "      <td>0.000000</td>\n",
       "    </tr>\n",
       "    <tr>\n",
       "      <th>38743</th>\n",
       "      <td>0.499</td>\n",
       "      <td>1.000000</td>\n",
       "      <td>1.000000</td>\n",
       "      <td>1.000000</td>\n",
       "      <td>0.0</td>\n",
       "      <td>0.000</td>\n",
       "      <td>1.000000</td>\n",
       "      <td>1.000000</td>\n",
       "      <td>1.000000</td>\n",
       "      <td>0.000000</td>\n",
       "      <td>...</td>\n",
       "      <td>0.999932</td>\n",
       "      <td>1.0</td>\n",
       "      <td>0.000000</td>\n",
       "      <td>78.177</td>\n",
       "      <td>0.999982</td>\n",
       "      <td>0.999996</td>\n",
       "      <td>1.0</td>\n",
       "      <td>0.000000</td>\n",
       "      <td>16.877</td>\n",
       "      <td>0.000000</td>\n",
       "    </tr>\n",
       "    <tr>\n",
       "      <th>38744</th>\n",
       "      <td>9.999</td>\n",
       "      <td>1.000000</td>\n",
       "      <td>1.000000</td>\n",
       "      <td>1.000000</td>\n",
       "      <td>0.0</td>\n",
       "      <td>0.000</td>\n",
       "      <td>1.000000</td>\n",
       "      <td>1.000000</td>\n",
       "      <td>1.000000</td>\n",
       "      <td>0.000000</td>\n",
       "      <td>...</td>\n",
       "      <td>0.999981</td>\n",
       "      <td>1.0</td>\n",
       "      <td>0.442857</td>\n",
       "      <td>65.138</td>\n",
       "      <td>1.000000</td>\n",
       "      <td>1.000000</td>\n",
       "      <td>1.0</td>\n",
       "      <td>0.119643</td>\n",
       "      <td>604.301</td>\n",
       "      <td>0.442857</td>\n",
       "    </tr>\n",
       "    <tr>\n",
       "      <th>38745</th>\n",
       "      <td>58.332</td>\n",
       "      <td>1.000150</td>\n",
       "      <td>1.000011</td>\n",
       "      <td>1.000051</td>\n",
       "      <td>1.0</td>\n",
       "      <td>0.861</td>\n",
       "      <td>1.000411</td>\n",
       "      <td>1.000088</td>\n",
       "      <td>1.000013</td>\n",
       "      <td>0.000000</td>\n",
       "      <td>...</td>\n",
       "      <td>1.000000</td>\n",
       "      <td>1.0</td>\n",
       "      <td>1.000000</td>\n",
       "      <td>88.059</td>\n",
       "      <td>1.000000</td>\n",
       "      <td>1.000000</td>\n",
       "      <td>1.0</td>\n",
       "      <td>0.000000</td>\n",
       "      <td>3.005</td>\n",
       "      <td>1.000000</td>\n",
       "    </tr>\n",
       "    <tr>\n",
       "      <th>38746</th>\n",
       "      <td>72.433</td>\n",
       "      <td>1.000167</td>\n",
       "      <td>1.000048</td>\n",
       "      <td>1.000006</td>\n",
       "      <td>1.0</td>\n",
       "      <td>9.809</td>\n",
       "      <td>1.000021</td>\n",
       "      <td>1.000013</td>\n",
       "      <td>1.000000</td>\n",
       "      <td>0.000000</td>\n",
       "      <td>...</td>\n",
       "      <td>0.999991</td>\n",
       "      <td>1.0</td>\n",
       "      <td>-0.052632</td>\n",
       "      <td>258.746</td>\n",
       "      <td>0.999999</td>\n",
       "      <td>0.999999</td>\n",
       "      <td>1.0</td>\n",
       "      <td>0.419979</td>\n",
       "      <td>54.123</td>\n",
       "      <td>-0.052632</td>\n",
       "    </tr>\n",
       "  </tbody>\n",
       "</table>\n",
       "<p>38747 rows × 94 columns</p>\n",
       "</div>"
      ],
      "text/plain": [
       "       trade_volume-BUY-6-sec  moving_average_price-BUY-6-sec  \\\n",
       "0                       0.100                        1.000000   \n",
       "1                       0.200                        1.000000   \n",
       "2                       0.200                        1.000054   \n",
       "3                       2.513                        1.000151   \n",
       "4                       5.152                        0.999959   \n",
       "...                       ...                             ...   \n",
       "38742                   6.446                        1.000332   \n",
       "38743                   0.499                        1.000000   \n",
       "38744                   9.999                        1.000000   \n",
       "38745                  58.332                        1.000150   \n",
       "38746                  72.433                        1.000167   \n",
       "\n",
       "       weighted_moving_average_price-BUY-6-sec  \\\n",
       "0                                     1.000000   \n",
       "1                                     1.000000   \n",
       "2                                     1.000093   \n",
       "3                                     1.000178   \n",
       "4                                     0.999992   \n",
       "...                                        ...   \n",
       "38742                                 1.000367   \n",
       "38743                                 1.000000   \n",
       "38744                                 1.000000   \n",
       "38745                                 1.000011   \n",
       "38746                                 1.000048   \n",
       "\n",
       "       exp_moving_average_price-BUY-6-sec  stochastic_oscillator-BUY-6-sec  \\\n",
       "0                                1.000000                              0.0   \n",
       "1                                1.000000                              0.0   \n",
       "2                                1.000045                              0.0   \n",
       "3                                1.000007                              0.0   \n",
       "4                                0.999995                              1.0   \n",
       "...                                   ...                              ...   \n",
       "38742                            1.000060                              0.5   \n",
       "38743                            1.000000                              0.0   \n",
       "38744                            1.000000                              0.0   \n",
       "38745                            1.000051                              1.0   \n",
       "38746                            1.000006                              1.0   \n",
       "\n",
       "       trade_volume-BUY-12-sec  moving_average_price-BUY-12-sec  \\\n",
       "0                        0.400                         1.000078   \n",
       "1                        0.300                         1.000000   \n",
       "2                       49.298                         0.999927   \n",
       "3                        4.975                         1.000460   \n",
       "4                        0.100                         0.999963   \n",
       "...                        ...                              ...   \n",
       "38742                   12.537                         1.000000   \n",
       "38743                    0.000                         1.000000   \n",
       "38744                    0.000                         1.000000   \n",
       "38745                    0.861                         1.000411   \n",
       "38746                    9.809                         1.000021   \n",
       "\n",
       "       weighted_moving_average_price-BUY-12-sec  \\\n",
       "0                                      1.000113   \n",
       "1                                      1.000000   \n",
       "2                                      0.999998   \n",
       "3                                      1.000613   \n",
       "4                                      0.999992   \n",
       "...                                         ...   \n",
       "38742                                  1.000000   \n",
       "38743                                  1.000000   \n",
       "38744                                  1.000000   \n",
       "38745                                  1.000088   \n",
       "38746                                  1.000013   \n",
       "\n",
       "       exp_moving_average_price-BUY-12-sec  stochastic_oscillator-BUY-12-sec  \\\n",
       "0                                 1.000005                          0.000000   \n",
       "1                                 1.000000                          0.000000   \n",
       "2                                 0.999997                          0.000000   \n",
       "3                                 1.000000                          1.000000   \n",
       "4                                 1.000000                         -0.277778   \n",
       "...                                    ...                               ...   \n",
       "38742                             1.000000                          0.500000   \n",
       "38743                             1.000000                          0.000000   \n",
       "38744                             1.000000                          0.000000   \n",
       "38745                             1.000013                          0.000000   \n",
       "38746                             1.000000                          0.000000   \n",
       "\n",
       "       ...  weighted_moving_average_price-SELL-48-sec  \\\n",
       "0      ...                                   1.000014   \n",
       "1      ...                                   0.999760   \n",
       "2      ...                                   0.999993   \n",
       "3      ...                                   0.999960   \n",
       "4      ...                                   1.000007   \n",
       "...    ...                                        ...   \n",
       "38742  ...                                   0.999974   \n",
       "38743  ...                                   0.999932   \n",
       "38744  ...                                   0.999981   \n",
       "38745  ...                                   1.000000   \n",
       "38746  ...                                   0.999991   \n",
       "\n",
       "       exp_moving_average_price-SELL-48-sec  \\\n",
       "0                                       1.0   \n",
       "1                                       1.0   \n",
       "2                                       1.0   \n",
       "3                                       1.0   \n",
       "4                                       1.0   \n",
       "...                                     ...   \n",
       "38742                                   1.0   \n",
       "38743                                   1.0   \n",
       "38744                                   1.0   \n",
       "38745                                   1.0   \n",
       "38746                                   1.0   \n",
       "\n",
       "       stochastic_oscillator-SELL-48-sec  trade_volume-SELL-54-sec  \\\n",
       "0                               0.000000                     3.400   \n",
       "1                               0.600000                    34.697   \n",
       "2                               0.000000                    22.783   \n",
       "3                              -0.055696                    48.145   \n",
       "4                              -0.111310                    19.532   \n",
       "...                                  ...                       ...   \n",
       "38742                           0.000000                    45.331   \n",
       "38743                           0.000000                    78.177   \n",
       "38744                           0.442857                    65.138   \n",
       "38745                           1.000000                    88.059   \n",
       "38746                          -0.052632                   258.746   \n",
       "\n",
       "       moving_average_price-SELL-54-sec  \\\n",
       "0                              1.000028   \n",
       "1                              0.999995   \n",
       "2                              0.999961   \n",
       "3                              0.999830   \n",
       "4                              1.000118   \n",
       "...                                 ...   \n",
       "38742                          1.000000   \n",
       "38743                          0.999982   \n",
       "38744                          1.000000   \n",
       "38745                          1.000000   \n",
       "38746                          0.999999   \n",
       "\n",
       "       weighted_moving_average_price-SELL-54-sec  \\\n",
       "0                                       1.000018   \n",
       "1                                       1.000000   \n",
       "2                                       0.999998   \n",
       "3                                       0.999537   \n",
       "4                                       1.000278   \n",
       "...                                          ...   \n",
       "38742                                   1.000000   \n",
       "38743                                   0.999996   \n",
       "38744                                   1.000000   \n",
       "38745                                   1.000000   \n",
       "38746                                   0.999999   \n",
       "\n",
       "       exp_moving_average_price-SELL-54-sec  \\\n",
       "0                                       1.0   \n",
       "1                                       1.0   \n",
       "2                                       1.0   \n",
       "3                                       1.0   \n",
       "4                                       1.0   \n",
       "...                                     ...   \n",
       "38742                                   1.0   \n",
       "38743                                   1.0   \n",
       "38744                                   1.0   \n",
       "38745                                   1.0   \n",
       "38746                                   1.0   \n",
       "\n",
       "       stochastic_oscillator-SELL-54-sec  trade_volume-SELL-60-sec  \\\n",
       "0                               1.000000                    15.547   \n",
       "1                              -0.339130                     4.384   \n",
       "2                               0.000000                   153.412   \n",
       "3                               0.722363                    43.943   \n",
       "4                               0.971310                    16.675   \n",
       "...                                  ...                       ...   \n",
       "38742                           0.000000                     3.000   \n",
       "38743                           0.000000                    16.877   \n",
       "38744                           0.119643                   604.301   \n",
       "38745                           0.000000                     3.005   \n",
       "38746                           0.419979                    54.123   \n",
       "\n",
       "       stochastic_oscillator-SELL-60-sec  \n",
       "0                               0.000000  \n",
       "1                               0.600000  \n",
       "2                               0.000000  \n",
       "3                              -0.237069  \n",
       "4                              -0.111310  \n",
       "...                                  ...  \n",
       "38742                           0.000000  \n",
       "38743                           0.000000  \n",
       "38744                           0.442857  \n",
       "38745                           1.000000  \n",
       "38746                          -0.052632  \n",
       "\n",
       "[38747 rows x 94 columns]"
      ]
     },
     "execution_count": 5,
     "metadata": {},
     "output_type": "execute_result"
    }
   ],
   "source": [
    "X = df[x_columns]\n",
    "secs = list(sorted(list(set(map(lambda x : int(''.join(x)), [[s for s in column if s.isdigit()] for column in x_columns])))))\n",
    "delta_sec = secs[1] - secs[0]\n",
    "max_sec = secs[-1]\n",
    "min_sec = secs[0]\n",
    "\n",
    "for column in x_columns:\n",
    "    name, side, sec, _ = column.split('-')\n",
    "    if not 'price' in name and int(sec) != min_sec:\n",
    "        X[f'{name}-{side}-{sec}-sec'] -= X[f'{name}-{side}-{str(int(sec) - delta_sec)}-sec']\n",
    "    elif 'price' in name:\n",
    "        if int(sec) != max_sec:\n",
    "            X[f'{name}-{side}-{sec}-sec'] /= X[f'{name}-{side}-{str(int(sec) + delta_sec)}-sec']\n",
    "        else:\n",
    "            X = X.drop(f'{name}-{side}-{sec}-sec', axis=1)\n",
    "\n",
    "X"
   ]
  },
  {
   "cell_type": "code",
   "execution_count": 6,
   "id": "70de5225-1eda-479f-9199-b176f49d7d9c",
   "metadata": {
    "colab": {
     "base_uri": "https://localhost:8080/"
    },
    "id": "70de5225-1eda-479f-9199-b176f49d7d9c",
    "outputId": "524763c2-d2f0-46a8-e776-58c8a1bede87"
   },
   "outputs": [
    {
     "name": "stdout",
     "output_type": "stream",
     "text": [
      "       target\n",
      "0           0\n",
      "1           0\n",
      "2           1\n",
      "3           0\n",
      "4           0\n",
      "...       ...\n",
      "38742       0\n",
      "38743       0\n",
      "38744       0\n",
      "38745       0\n",
      "38746       0\n",
      "\n",
      "[38747 rows x 1 columns]\n",
      "target\n",
      " 0        36607\n",
      "-1         1155\n",
      " 1          985\n",
      "dtype: int64\n"
     ]
    }
   ],
   "source": [
    "commision = 0.0005\n",
    "punch = commision * 4\n",
    "\n",
    "y = pd.DataFrame(\n",
    "    df[y_columns].apply(\n",
    "        lambda row : 1 if max(list(row.to_numpy()), key=abs) > punch else -1 if max(list(row.to_numpy()), key=abs) < -punch else 0,\n",
    "        axis = 1\n",
    "    )\n",
    ")\n",
    "y = y.rename({0:'target'}, axis='columns')\n",
    "print(y)\n",
    "print(y.value_counts())"
   ]
  },
  {
   "cell_type": "code",
   "execution_count": 7,
   "id": "f0753b54-1efd-4f34-ba92-2547bb0e854a",
   "metadata": {
    "id": "f0753b54-1efd-4f34-ba92-2547bb0e854a"
   },
   "outputs": [],
   "source": [
    "X_train, X_test, y_train, y_test = train_test_split(X, y, train_size=0.8, shuffle = True, random_state=12)\n",
    "X_train, X_validation, y_train, y_validation = train_test_split(X_train, y_train, train_size=0.75, shuffle = True, random_state=6)"
   ]
  },
  {
   "cell_type": "code",
   "execution_count": 8,
   "id": "tRIUmqrCuwLC",
   "metadata": {
    "colab": {
     "base_uri": "https://localhost:8080/",
     "height": 0
    },
    "id": "tRIUmqrCuwLC",
    "outputId": "5699d420-c951-456f-dc06-029ed7f752b4"
   },
   "outputs": [
    {
     "name": "stdout",
     "output_type": "stream",
     "text": [
      "  0%|          | 0/3 [00:37<?, ?trial/s, best loss=?]\n"
     ]
    },
    {
     "ename": "KeyboardInterrupt",
     "evalue": "",
     "output_type": "error",
     "traceback": [
      "\u001b[0;31m---------------------------------------------------------------------------\u001b[0m",
      "\u001b[0;31mKeyboardInterrupt\u001b[0m                         Traceback (most recent call last)",
      "\u001b[0;32m<ipython-input-8-a693655854af>\u001b[0m in \u001b[0;36m<module>\u001b[0;34m\u001b[0m\n\u001b[1;32m     31\u001b[0m \u001b[0mtrials\u001b[0m \u001b[0;34m=\u001b[0m \u001b[0mhyperopt\u001b[0m\u001b[0;34m.\u001b[0m\u001b[0mTrials\u001b[0m\u001b[0;34m(\u001b[0m\u001b[0;34m)\u001b[0m\u001b[0;34m\u001b[0m\u001b[0;34m\u001b[0m\u001b[0m\n\u001b[1;32m     32\u001b[0m \u001b[0;34m\u001b[0m\u001b[0m\n\u001b[0;32m---> 33\u001b[0;31m best = hyperopt.fmin(\n\u001b[0m\u001b[1;32m     34\u001b[0m     \u001b[0mhyperopt_objective\u001b[0m\u001b[0;34m,\u001b[0m\u001b[0;34m\u001b[0m\u001b[0;34m\u001b[0m\u001b[0m\n\u001b[1;32m     35\u001b[0m     \u001b[0mspace\u001b[0m\u001b[0;34m=\u001b[0m\u001b[0mparams_space\u001b[0m\u001b[0;34m,\u001b[0m\u001b[0;34m\u001b[0m\u001b[0;34m\u001b[0m\u001b[0m\n",
      "\u001b[0;32m~/.local/lib/python3.8/site-packages/hyperopt/fmin.py\u001b[0m in \u001b[0;36mfmin\u001b[0;34m(fn, space, algo, max_evals, timeout, loss_threshold, trials, rstate, allow_trials_fmin, pass_expr_memo_ctrl, catch_eval_exceptions, verbose, return_argmin, points_to_evaluate, max_queue_len, show_progressbar, early_stop_fn, trials_save_file)\u001b[0m\n\u001b[1;32m    505\u001b[0m \u001b[0;34m\u001b[0m\u001b[0m\n\u001b[1;32m    506\u001b[0m     \u001b[0;32mif\u001b[0m \u001b[0mallow_trials_fmin\u001b[0m \u001b[0;32mand\u001b[0m \u001b[0mhasattr\u001b[0m\u001b[0;34m(\u001b[0m\u001b[0mtrials\u001b[0m\u001b[0;34m,\u001b[0m \u001b[0;34m\"fmin\"\u001b[0m\u001b[0;34m)\u001b[0m\u001b[0;34m:\u001b[0m\u001b[0;34m\u001b[0m\u001b[0;34m\u001b[0m\u001b[0m\n\u001b[0;32m--> 507\u001b[0;31m         return trials.fmin(\n\u001b[0m\u001b[1;32m    508\u001b[0m             \u001b[0mfn\u001b[0m\u001b[0;34m,\u001b[0m\u001b[0;34m\u001b[0m\u001b[0;34m\u001b[0m\u001b[0m\n\u001b[1;32m    509\u001b[0m             \u001b[0mspace\u001b[0m\u001b[0;34m,\u001b[0m\u001b[0;34m\u001b[0m\u001b[0;34m\u001b[0m\u001b[0m\n",
      "\u001b[0;32m~/.local/lib/python3.8/site-packages/hyperopt/base.py\u001b[0m in \u001b[0;36mfmin\u001b[0;34m(self, fn, space, algo, max_evals, timeout, loss_threshold, max_queue_len, rstate, verbose, pass_expr_memo_ctrl, catch_eval_exceptions, return_argmin, show_progressbar, early_stop_fn, trials_save_file)\u001b[0m\n\u001b[1;32m    680\u001b[0m         \u001b[0;32mfrom\u001b[0m \u001b[0;34m.\u001b[0m\u001b[0mfmin\u001b[0m \u001b[0;32mimport\u001b[0m \u001b[0mfmin\u001b[0m\u001b[0;34m\u001b[0m\u001b[0;34m\u001b[0m\u001b[0m\n\u001b[1;32m    681\u001b[0m \u001b[0;34m\u001b[0m\u001b[0m\n\u001b[0;32m--> 682\u001b[0;31m         return fmin(\n\u001b[0m\u001b[1;32m    683\u001b[0m             \u001b[0mfn\u001b[0m\u001b[0;34m,\u001b[0m\u001b[0;34m\u001b[0m\u001b[0;34m\u001b[0m\u001b[0m\n\u001b[1;32m    684\u001b[0m             \u001b[0mspace\u001b[0m\u001b[0;34m,\u001b[0m\u001b[0;34m\u001b[0m\u001b[0;34m\u001b[0m\u001b[0m\n",
      "\u001b[0;32m~/.local/lib/python3.8/site-packages/hyperopt/fmin.py\u001b[0m in \u001b[0;36mfmin\u001b[0;34m(fn, space, algo, max_evals, timeout, loss_threshold, trials, rstate, allow_trials_fmin, pass_expr_memo_ctrl, catch_eval_exceptions, verbose, return_argmin, points_to_evaluate, max_queue_len, show_progressbar, early_stop_fn, trials_save_file)\u001b[0m\n\u001b[1;32m    551\u001b[0m \u001b[0;34m\u001b[0m\u001b[0m\n\u001b[1;32m    552\u001b[0m     \u001b[0;31m# next line is where the fmin is actually executed\u001b[0m\u001b[0;34m\u001b[0m\u001b[0;34m\u001b[0m\u001b[0;34m\u001b[0m\u001b[0m\n\u001b[0;32m--> 553\u001b[0;31m     \u001b[0mrval\u001b[0m\u001b[0;34m.\u001b[0m\u001b[0mexhaust\u001b[0m\u001b[0;34m(\u001b[0m\u001b[0;34m)\u001b[0m\u001b[0;34m\u001b[0m\u001b[0;34m\u001b[0m\u001b[0m\n\u001b[0m\u001b[1;32m    554\u001b[0m \u001b[0;34m\u001b[0m\u001b[0m\n\u001b[1;32m    555\u001b[0m     \u001b[0;32mif\u001b[0m \u001b[0mreturn_argmin\u001b[0m\u001b[0;34m:\u001b[0m\u001b[0;34m\u001b[0m\u001b[0;34m\u001b[0m\u001b[0m\n",
      "\u001b[0;32m~/.local/lib/python3.8/site-packages/hyperopt/fmin.py\u001b[0m in \u001b[0;36mexhaust\u001b[0;34m(self)\u001b[0m\n\u001b[1;32m    354\u001b[0m     \u001b[0;32mdef\u001b[0m \u001b[0mexhaust\u001b[0m\u001b[0;34m(\u001b[0m\u001b[0mself\u001b[0m\u001b[0;34m)\u001b[0m\u001b[0;34m:\u001b[0m\u001b[0;34m\u001b[0m\u001b[0;34m\u001b[0m\u001b[0m\n\u001b[1;32m    355\u001b[0m         \u001b[0mn_done\u001b[0m \u001b[0;34m=\u001b[0m \u001b[0mlen\u001b[0m\u001b[0;34m(\u001b[0m\u001b[0mself\u001b[0m\u001b[0;34m.\u001b[0m\u001b[0mtrials\u001b[0m\u001b[0;34m)\u001b[0m\u001b[0;34m\u001b[0m\u001b[0;34m\u001b[0m\u001b[0m\n\u001b[0;32m--> 356\u001b[0;31m         \u001b[0mself\u001b[0m\u001b[0;34m.\u001b[0m\u001b[0mrun\u001b[0m\u001b[0;34m(\u001b[0m\u001b[0mself\u001b[0m\u001b[0;34m.\u001b[0m\u001b[0mmax_evals\u001b[0m \u001b[0;34m-\u001b[0m \u001b[0mn_done\u001b[0m\u001b[0;34m,\u001b[0m \u001b[0mblock_until_done\u001b[0m\u001b[0;34m=\u001b[0m\u001b[0mself\u001b[0m\u001b[0;34m.\u001b[0m\u001b[0masynchronous\u001b[0m\u001b[0;34m)\u001b[0m\u001b[0;34m\u001b[0m\u001b[0;34m\u001b[0m\u001b[0m\n\u001b[0m\u001b[1;32m    357\u001b[0m         \u001b[0mself\u001b[0m\u001b[0;34m.\u001b[0m\u001b[0mtrials\u001b[0m\u001b[0;34m.\u001b[0m\u001b[0mrefresh\u001b[0m\u001b[0;34m(\u001b[0m\u001b[0;34m)\u001b[0m\u001b[0;34m\u001b[0m\u001b[0;34m\u001b[0m\u001b[0m\n\u001b[1;32m    358\u001b[0m         \u001b[0;32mreturn\u001b[0m \u001b[0mself\u001b[0m\u001b[0;34m\u001b[0m\u001b[0;34m\u001b[0m\u001b[0m\n",
      "\u001b[0;32m~/.local/lib/python3.8/site-packages/hyperopt/fmin.py\u001b[0m in \u001b[0;36mrun\u001b[0;34m(self, N, block_until_done)\u001b[0m\n\u001b[1;32m    290\u001b[0m                 \u001b[0;32melse\u001b[0m\u001b[0;34m:\u001b[0m\u001b[0;34m\u001b[0m\u001b[0;34m\u001b[0m\u001b[0m\n\u001b[1;32m    291\u001b[0m                     \u001b[0;31m# -- loop over trials and do the jobs directly\u001b[0m\u001b[0;34m\u001b[0m\u001b[0;34m\u001b[0m\u001b[0;34m\u001b[0m\u001b[0m\n\u001b[0;32m--> 292\u001b[0;31m                     \u001b[0mself\u001b[0m\u001b[0;34m.\u001b[0m\u001b[0mserial_evaluate\u001b[0m\u001b[0;34m(\u001b[0m\u001b[0;34m)\u001b[0m\u001b[0;34m\u001b[0m\u001b[0;34m\u001b[0m\u001b[0m\n\u001b[0m\u001b[1;32m    293\u001b[0m \u001b[0;34m\u001b[0m\u001b[0m\n\u001b[1;32m    294\u001b[0m                 \u001b[0mself\u001b[0m\u001b[0;34m.\u001b[0m\u001b[0mtrials\u001b[0m\u001b[0;34m.\u001b[0m\u001b[0mrefresh\u001b[0m\u001b[0;34m(\u001b[0m\u001b[0;34m)\u001b[0m\u001b[0;34m\u001b[0m\u001b[0;34m\u001b[0m\u001b[0m\n",
      "\u001b[0;32m~/.local/lib/python3.8/site-packages/hyperopt/fmin.py\u001b[0m in \u001b[0;36mserial_evaluate\u001b[0;34m(self, N)\u001b[0m\n\u001b[1;32m    168\u001b[0m                 \u001b[0mctrl\u001b[0m \u001b[0;34m=\u001b[0m \u001b[0mbase\u001b[0m\u001b[0;34m.\u001b[0m\u001b[0mCtrl\u001b[0m\u001b[0;34m(\u001b[0m\u001b[0mself\u001b[0m\u001b[0;34m.\u001b[0m\u001b[0mtrials\u001b[0m\u001b[0;34m,\u001b[0m \u001b[0mcurrent_trial\u001b[0m\u001b[0;34m=\u001b[0m\u001b[0mtrial\u001b[0m\u001b[0;34m)\u001b[0m\u001b[0;34m\u001b[0m\u001b[0;34m\u001b[0m\u001b[0m\n\u001b[1;32m    169\u001b[0m                 \u001b[0;32mtry\u001b[0m\u001b[0;34m:\u001b[0m\u001b[0;34m\u001b[0m\u001b[0;34m\u001b[0m\u001b[0m\n\u001b[0;32m--> 170\u001b[0;31m                     \u001b[0mresult\u001b[0m \u001b[0;34m=\u001b[0m \u001b[0mself\u001b[0m\u001b[0;34m.\u001b[0m\u001b[0mdomain\u001b[0m\u001b[0;34m.\u001b[0m\u001b[0mevaluate\u001b[0m\u001b[0;34m(\u001b[0m\u001b[0mspec\u001b[0m\u001b[0;34m,\u001b[0m \u001b[0mctrl\u001b[0m\u001b[0;34m)\u001b[0m\u001b[0;34m\u001b[0m\u001b[0;34m\u001b[0m\u001b[0m\n\u001b[0m\u001b[1;32m    171\u001b[0m                 \u001b[0;32mexcept\u001b[0m \u001b[0mException\u001b[0m \u001b[0;32mas\u001b[0m \u001b[0me\u001b[0m\u001b[0;34m:\u001b[0m\u001b[0;34m\u001b[0m\u001b[0;34m\u001b[0m\u001b[0m\n\u001b[1;32m    172\u001b[0m                     \u001b[0mlogger\u001b[0m\u001b[0;34m.\u001b[0m\u001b[0merror\u001b[0m\u001b[0;34m(\u001b[0m\u001b[0;34m\"job exception: %s\"\u001b[0m \u001b[0;34m%\u001b[0m \u001b[0mstr\u001b[0m\u001b[0;34m(\u001b[0m\u001b[0me\u001b[0m\u001b[0;34m)\u001b[0m\u001b[0;34m)\u001b[0m\u001b[0;34m\u001b[0m\u001b[0;34m\u001b[0m\u001b[0m\n",
      "\u001b[0;32m~/.local/lib/python3.8/site-packages/hyperopt/base.py\u001b[0m in \u001b[0;36mevaluate\u001b[0;34m(self, config, ctrl, attach_attachments)\u001b[0m\n\u001b[1;32m    905\u001b[0m                 \u001b[0mprint_node_on_error\u001b[0m\u001b[0;34m=\u001b[0m\u001b[0mself\u001b[0m\u001b[0;34m.\u001b[0m\u001b[0mrec_eval_print_node_on_error\u001b[0m\u001b[0;34m,\u001b[0m\u001b[0;34m\u001b[0m\u001b[0;34m\u001b[0m\u001b[0m\n\u001b[1;32m    906\u001b[0m             )\n\u001b[0;32m--> 907\u001b[0;31m             \u001b[0mrval\u001b[0m \u001b[0;34m=\u001b[0m \u001b[0mself\u001b[0m\u001b[0;34m.\u001b[0m\u001b[0mfn\u001b[0m\u001b[0;34m(\u001b[0m\u001b[0mpyll_rval\u001b[0m\u001b[0;34m)\u001b[0m\u001b[0;34m\u001b[0m\u001b[0;34m\u001b[0m\u001b[0m\n\u001b[0m\u001b[1;32m    908\u001b[0m \u001b[0;34m\u001b[0m\u001b[0m\n\u001b[1;32m    909\u001b[0m         \u001b[0;32mif\u001b[0m \u001b[0misinstance\u001b[0m\u001b[0;34m(\u001b[0m\u001b[0mrval\u001b[0m\u001b[0;34m,\u001b[0m \u001b[0;34m(\u001b[0m\u001b[0mfloat\u001b[0m\u001b[0;34m,\u001b[0m \u001b[0mint\u001b[0m\u001b[0;34m,\u001b[0m \u001b[0mnp\u001b[0m\u001b[0;34m.\u001b[0m\u001b[0mnumber\u001b[0m\u001b[0;34m)\u001b[0m\u001b[0;34m)\u001b[0m\u001b[0;34m:\u001b[0m\u001b[0;34m\u001b[0m\u001b[0;34m\u001b[0m\u001b[0m\n",
      "\u001b[0;32m<ipython-input-8-a693655854af>\u001b[0m in \u001b[0;36mhyperopt_objective\u001b[0;34m(params)\u001b[0m\n\u001b[1;32m     10\u001b[0m     )\n\u001b[1;32m     11\u001b[0m \u001b[0;34m\u001b[0m\u001b[0m\n\u001b[0;32m---> 12\u001b[0;31m     cv_data = cv(\n\u001b[0m\u001b[1;32m     13\u001b[0m         \u001b[0mPool\u001b[0m\u001b[0;34m(\u001b[0m\u001b[0mX\u001b[0m\u001b[0;34m,\u001b[0m \u001b[0my\u001b[0m\u001b[0;34m)\u001b[0m\u001b[0;34m,\u001b[0m\u001b[0;34m\u001b[0m\u001b[0;34m\u001b[0m\u001b[0m\n\u001b[1;32m     14\u001b[0m         \u001b[0mmodel\u001b[0m\u001b[0;34m.\u001b[0m\u001b[0mget_params\u001b[0m\u001b[0;34m(\u001b[0m\u001b[0;34m)\u001b[0m\u001b[0;34m,\u001b[0m\u001b[0;34m\u001b[0m\u001b[0;34m\u001b[0m\u001b[0m\n",
      "\u001b[0;32m~/.local/lib/python3.8/site-packages/catboost/core.py\u001b[0m in \u001b[0;36mcv\u001b[0;34m(pool, params, dtrain, iterations, num_boost_round, fold_count, nfold, inverted, partition_random_seed, seed, shuffle, logging_level, stratified, as_pandas, metric_period, verbose, verbose_eval, plot, early_stopping_rounds, save_snapshot, snapshot_file, snapshot_interval, metric_update_interval, folds, type, return_models, log_cout, log_cerr)\u001b[0m\n\u001b[1;32m   6251\u001b[0m     \u001b[0;32mwith\u001b[0m \u001b[0mlog_fixup\u001b[0m\u001b[0;34m(\u001b[0m\u001b[0mlog_cout\u001b[0m\u001b[0;34m,\u001b[0m \u001b[0mlog_cerr\u001b[0m\u001b[0;34m)\u001b[0m\u001b[0;34m,\u001b[0m \u001b[0mplot_wrapper\u001b[0m\u001b[0;34m(\u001b[0m\u001b[0mplot\u001b[0m\u001b[0;34m,\u001b[0m \u001b[0mplot_dirs\u001b[0m\u001b[0;34m)\u001b[0m\u001b[0;34m:\u001b[0m\u001b[0;34m\u001b[0m\u001b[0;34m\u001b[0m\u001b[0m\n\u001b[1;32m   6252\u001b[0m         \u001b[0;32mif\u001b[0m \u001b[0;32mnot\u001b[0m \u001b[0mreturn_models\u001b[0m\u001b[0;34m:\u001b[0m\u001b[0;34m\u001b[0m\u001b[0;34m\u001b[0m\u001b[0m\n\u001b[0;32m-> 6253\u001b[0;31m             return _cv(params, pool, fold_count, inverted, partition_random_seed, shuffle, stratified,\n\u001b[0m\u001b[1;32m   6254\u001b[0m                     metric_update_interval, as_pandas, folds, type, return_models)\n\u001b[1;32m   6255\u001b[0m         \u001b[0;32melse\u001b[0m\u001b[0;34m:\u001b[0m\u001b[0;34m\u001b[0m\u001b[0;34m\u001b[0m\u001b[0m\n",
      "\u001b[0;32m_catboost.pyx\u001b[0m in \u001b[0;36m_catboost._cv\u001b[0;34m()\u001b[0m\n",
      "\u001b[0;32m_catboost.pyx\u001b[0m in \u001b[0;36m_catboost._cv\u001b[0;34m()\u001b[0m\n",
      "\u001b[0;31mKeyboardInterrupt\u001b[0m: "
     ]
    }
   ],
   "source": [
    "def hyperopt_objective(params):\n",
    "    model = CatBoostClassifier(\n",
    "        l2_leaf_reg=int(params['l2_leaf_reg']),\n",
    "        learning_rate=params['learning_rate'],\n",
    "        iterations=300,\n",
    "        eval_metric=metrics.Accuracy(),\n",
    "        random_seed=126,\n",
    "        verbose=False,\n",
    "        loss_function=metrics.MultiClass(),\n",
    "    )\n",
    "    \n",
    "    cv_data = cv(\n",
    "        Pool(X, y),\n",
    "        model.get_params(),\n",
    "        fold_count=4,\n",
    "        shuffle=True,\n",
    "        logging_level='Silent',\n",
    "        stratified=True,\n",
    "    )\n",
    "\n",
    "    best_accuracy = np.max(cv_data['test-Accuracy-mean'])\n",
    "    \n",
    "    return 1 - best_accuracy\n",
    "\n",
    "\n",
    "params_space = {\n",
    "    'l2_leaf_reg': hyperopt.hp.qloguniform('l2_leaf_reg', 0, 2, 1),\n",
    "    'learning_rate': hyperopt.hp.uniform('learning_rate', 1e-3, 5e-1),\n",
    "}\n",
    "\n",
    "trials = hyperopt.Trials()\n",
    "\n",
    "best = hyperopt.fmin(\n",
    "    hyperopt_objective,\n",
    "    space=params_space,\n",
    "    algo=hyperopt.tpe.suggest,\n",
    "    max_evals=1,\n",
    "    trials=trials,\n",
    "    rstate=RandomState(126)\n",
    ")\n",
    "\n",
    "print(best)"
   ]
  },
  {
   "cell_type": "code",
   "execution_count": 11,
   "id": "L8jyutxLiBqy",
   "metadata": {
    "colab": {
     "base_uri": "https://localhost:8080/",
     "height": 34,
     "referenced_widgets": [
      "288fca760a424d96aeb4978ce2390d43"
     ]
    },
    "id": "L8jyutxLiBqy",
    "outputId": "0c18738b-7d51-4cb4-b482-70d69d255eaa"
   },
   "outputs": [
    {
     "data": {
      "application/vnd.jupyter.widget-view+json": {
       "model_id": "338b48e90a2e4f95a87ff26f8dec0fc4",
       "version_major": 2,
       "version_minor": 0
      },
      "text/plain": [
       "MetricVisualizer(layout=Layout(align_self='stretch', height='500px'))"
      ]
     },
     "metadata": {},
     "output_type": "display_data"
    },
    {
     "name": "stdout",
     "output_type": "stream",
     "text": [
      "Model validation accuracy: 0.9472\n"
     ]
    }
   ],
   "source": [
    "params = {\n",
    "    'iterations': 400,\n",
    "    #'l2_leaf_reg': int(best['l2_leaf_reg']),\n",
    "    #'learning_rate': best['learning_rate'],\n",
    "    'l2_leaf_reg': 2,\n",
    "    'learning_rate': 0.1,\n",
    "    'custom_loss': [metrics.Accuracy()],\n",
    "    'eval_metric': metrics.Accuracy(),\n",
    "    'random_seed': 42,\n",
    "    'logging_level': 'Silent',\n",
    "    'loss_function': 'MultiClass',\n",
    "}\n",
    "train_pool = Pool(X_train, y_train)\n",
    "validate_pool = Pool(X_validation, y_validation)\n",
    "\n",
    "model = CatBoostClassifier(**params)\n",
    "model.fit(\n",
    "    train_pool,\n",
    "    eval_set=validate_pool,\n",
    "    plot=True,\n",
    "    verbose=False,\n",
    ")\n",
    "\n",
    "print('Model validation accuracy: {:.4}'.format(\n",
    "    accuracy_score(y_test, model.predict(X_test))\n",
    "))"
   ]
  },
  {
   "cell_type": "code",
   "execution_count": 12,
   "id": "UFuSMQT5Avbl",
   "metadata": {
    "colab": {
     "base_uri": "https://localhost:8080/"
    },
    "id": "UFuSMQT5Avbl",
    "outputId": "e631400b-3ec1-446f-cb27-2c41b1444c94"
   },
   "outputs": [
    {
     "name": "stdout",
     "output_type": "stream",
     "text": [
      "[[-1]\n",
      " [ 0]\n",
      " [ 0]\n",
      " [ 0]\n",
      " [ 0]\n",
      " [ 0]\n",
      " [ 0]\n",
      " [ 0]\n",
      " [ 0]\n",
      " [ 0]]\n",
      "[[0.5081676  0.31509127 0.17674113]\n",
      " [0.04424105 0.92653006 0.02922889]\n",
      " [0.02077968 0.95800285 0.02121747]\n",
      " [0.01151404 0.98037193 0.00811403]\n",
      " [0.04386998 0.92501239 0.03111763]\n",
      " [0.01515275 0.97186993 0.01297732]\n",
      " [0.16594606 0.78247401 0.05157993]\n",
      " [0.0132275  0.97790602 0.00886648]\n",
      " [0.00823896 0.98429562 0.00746542]\n",
      " [0.04204708 0.9122708  0.04568212]]\n",
      "       target\n",
      "20233      -1\n",
      "18782       0\n",
      "26657       0\n",
      "27456       0\n",
      "36872       0\n",
      "25891       0\n",
      "33455      -1\n",
      "23349       0\n",
      "4176        0\n",
      "37949       0\n"
     ]
    }
   ],
   "source": [
    "predictions = model.predict(X_test)\n",
    "predictions = predictions.reshape(predictions.shape[0], 1)\n",
    "predictions_probs = model.predict_proba(X_test)\n",
    "print(predictions[90:100])\n",
    "print(predictions_probs[90:100])\n",
    "print(y_test[90:100])"
   ]
  },
  {
   "cell_type": "code",
   "execution_count": 13,
   "id": "LKsiuV0uA4I9",
   "metadata": {
    "colab": {
     "base_uri": "https://localhost:8080/"
    },
    "id": "LKsiuV0uA4I9",
    "outputId": "a7e55799-6bd8-4cd3-c292-1e5e9208fbd1"
   },
   "outputs": [
    {
     "name": "stdout",
     "output_type": "stream",
     "text": [
      "moving_average_price-BUY-12-sec: 2.8777137793896888\n",
      "moving_average_price-SELL-6-sec: 2.864104855304124\n",
      "trade_volume-SELL-54-sec: 2.4193466638802734\n",
      "moving_average_price-BUY-30-sec: 2.385496685878198\n",
      "trade_volume-BUY-6-sec: 2.2909560754459948\n",
      "trade_volume-SELL-60-sec: 2.2704596312261947\n",
      "moving_average_price-SELL-30-sec: 2.2433265405729323\n",
      "trade_volume-BUY-54-sec: 2.1915861097111873\n",
      "moving_average_price-BUY-36-sec: 2.1199392333155775\n",
      "moving_average_price-BUY-48-sec: 2.0380347112355888\n",
      "trade_volume-SELL-18-sec: 1.9487347734347278\n",
      "weighted_moving_average_price-BUY-42-sec: 1.9375357255210401\n",
      "trade_volume-BUY-48-sec: 1.9216786155019963\n",
      "moving_average_price-BUY-24-sec: 1.789248950222028\n",
      "moving_average_price-BUY-6-sec: 1.785167211204954\n",
      "weighted_moving_average_price-BUY-24-sec: 1.7058785165238772\n",
      "trade_volume-SELL-6-sec: 1.6128284311548704\n",
      "moving_average_price-SELL-18-sec: 1.59022438928143\n",
      "moving_average_price-SELL-54-sec: 1.576242904775875\n",
      "weighted_moving_average_price-BUY-36-sec: 1.5655340233263368\n",
      "moving_average_price-BUY-42-sec: 1.5523470313461636\n",
      "moving_average_price-BUY-54-sec: 1.5482508733105715\n",
      "trade_volume-BUY-42-sec: 1.5297537630424676\n",
      "moving_average_price-SELL-42-sec: 1.526249549183365\n",
      "trade_volume-SELL-30-sec: 1.507524203781786\n",
      "weighted_moving_average_price-SELL-36-sec: 1.475520504978888\n",
      "weighted_moving_average_price-BUY-48-sec: 1.4366612022810172\n",
      "moving_average_price-SELL-24-sec: 1.3512978793950268\n",
      "weighted_moving_average_price-SELL-6-sec: 1.3399518209723416\n",
      "moving_average_price-BUY-18-sec: 1.336358114323974\n",
      "trade_volume-BUY-24-sec: 1.3197745616990126\n",
      "trade_volume-SELL-12-sec: 1.3073394715939477\n",
      "weighted_moving_average_price-BUY-6-sec: 1.2921810010815795\n",
      "weighted_moving_average_price-SELL-18-sec: 1.2905947272383964\n",
      "moving_average_price-SELL-48-sec: 1.2657583575178166\n",
      "stochastic_oscillator-BUY-6-sec: 1.2487374778118072\n",
      "weighted_moving_average_price-BUY-12-sec: 1.2450229553952596\n",
      "weighted_moving_average_price-SELL-24-sec: 1.2196176157571545\n",
      "weighted_moving_average_price-SELL-48-sec: 1.21606471759171\n",
      "weighted_moving_average_price-SELL-12-sec: 1.1789579931510819\n",
      "trade_volume-SELL-48-sec: 1.1726912733174926\n",
      "weighted_moving_average_price-SELL-42-sec: 1.171162222893356\n",
      "weighted_moving_average_price-BUY-30-sec: 1.1520044660074065\n",
      "trade_volume-SELL-42-sec: 1.142301139676598\n",
      "moving_average_price-SELL-36-sec: 1.134795501444557\n",
      "weighted_moving_average_price-BUY-54-sec: 1.1282498101204734\n",
      "moving_average_price-SELL-12-sec: 1.0873555984383088\n",
      "stochastic_oscillator-SELL-6-sec: 1.0535020770590109\n",
      "trade_volume-BUY-12-sec: 1.047238008606946\n",
      "trade_volume-BUY-18-sec: 1.0259213839339318\n",
      "stochastic_oscillator-BUY-54-sec: 1.019864193969511\n",
      "trade_volume-SELL-24-sec: 0.9774750596588031\n",
      "stochastic_oscillator-SELL-60-sec: 0.9509220984200002\n",
      "exp_moving_average_price-SELL-6-sec: 0.9190102212241057\n",
      "stochastic_oscillator-SELL-12-sec: 0.8552652510388302\n",
      "trade_volume-BUY-60-sec: 0.8538675972531676\n",
      "weighted_moving_average_price-SELL-30-sec: 0.8533104696685563\n",
      "weighted_moving_average_price-SELL-54-sec: 0.8193122304153572\n",
      "weighted_moving_average_price-BUY-18-sec: 0.7985761700661456\n",
      "stochastic_oscillator-BUY-48-sec: 0.7638105978536588\n",
      "stochastic_oscillator-SELL-48-sec: 0.7579384255593695\n",
      "exp_moving_average_price-BUY-6-sec: 0.6487954388004594\n",
      "stochastic_oscillator-BUY-36-sec: 0.6481186849449042\n",
      "stochastic_oscillator-SELL-30-sec: 0.6221639335267376\n",
      "stochastic_oscillator-BUY-30-sec: 0.6046122096333703\n",
      "stochastic_oscillator-BUY-18-sec: 0.6027197305390481\n",
      "trade_volume-SELL-36-sec: 0.6007162652116635\n",
      "trade_volume-BUY-30-sec: 0.5855509815702507\n",
      "exp_moving_average_price-BUY-12-sec: 0.5705513417531732\n",
      "exp_moving_average_price-SELL-18-sec: 0.5291562264238913\n",
      "exp_moving_average_price-SELL-24-sec: 0.4978852601382268\n",
      "stochastic_oscillator-BUY-12-sec: 0.4972010161112527\n",
      "trade_volume-BUY-36-sec: 0.4678999902168151\n",
      "exp_moving_average_price-SELL-12-sec: 0.4109122459411054\n",
      "stochastic_oscillator-SELL-24-sec: 0.39354722552468235\n",
      "stochastic_oscillator-SELL-36-sec: 0.38323905213057796\n",
      "stochastic_oscillator-BUY-60-sec: 0.366869517965546\n",
      "stochastic_oscillator-BUY-24-sec: 0.30943403482708914\n",
      "exp_moving_average_price-BUY-18-sec: 0.30202466919213483\n",
      "stochastic_oscillator-SELL-18-sec: 0.2792562236464891\n",
      "exp_moving_average_price-BUY-36-sec: 0.2635984606321221\n",
      "exp_moving_average_price-BUY-30-sec: 0.25288714301883164\n",
      "exp_moving_average_price-BUY-48-sec: 0.20300358685171765\n",
      "exp_moving_average_price-SELL-48-sec: 0.2013740890300943\n",
      "stochastic_oscillator-SELL-54-sec: 0.16809262481507062\n",
      "exp_moving_average_price-BUY-54-sec: 0.13584085334071164\n",
      "stochastic_oscillator-BUY-42-sec: 0.13396932316585533\n",
      "exp_moving_average_price-BUY-42-sec: 0.07539314366224706\n",
      "exp_moving_average_price-SELL-42-sec: 0.06465147404009901\n",
      "exp_moving_average_price-SELL-30-sec: 0.0641858462163592\n",
      "exp_moving_average_price-SELL-36-sec: 0.043636638525550886\n",
      "stochastic_oscillator-SELL-42-sec: 0.02640255807535545\n",
      "exp_moving_average_price-BUY-24-sec: 0.023101443923825363\n",
      "exp_moving_average_price-SELL-54-sec: 0.016633321618927062\n"
     ]
    }
   ],
   "source": [
    "feature_importances = model.get_feature_importance(train_pool)\n",
    "feature_names = X_train.columns\n",
    "for score, name in sorted(zip(feature_importances, feature_names), reverse=True):\n",
    "    print('{}: {}'.format(name, score))\n"
   ]
  },
  {
   "cell_type": "code",
   "execution_count": 15,
   "id": "nYtYQuKh3n8N",
   "metadata": {
    "id": "nYtYQuKh3n8N"
   },
   "outputs": [],
   "source": [
    "results = []\n",
    "def f(prob_threshold, diff_threshold, null_threshold):\n",
    "    p = np.array((list(map(lambda row:\n",
    "                          1\n",
    "                          if row[2] > prob_threshold\n",
    "                              # and row[2] == max(row)\n",
    "                              and row[2] > row[0]\n",
    "                              and row[1] < null_threshold\n",
    "                              and abs(row[2] - row[0]) > diff_threshold\n",
    "                              and abs(row[2] - row[1]) > diff_threshold\n",
    "                          else\n",
    "                          -1\n",
    "                          if row[0] > prob_threshold\n",
    "                              # and row[0] == max(row)\n",
    "                              and row[0] > row[2]\n",
    "                              and row[1] < null_threshold\n",
    "                              and abs(row[0] - row[2]) > diff_threshold\n",
    "                              and abs(row[0] - row[1]) > diff_threshold\n",
    "                          else 0,\n",
    "                          predictions_probs))))\n",
    "    result = {\n",
    "        'correct_predictions': 0,\n",
    "        'false_positive': 0,\n",
    "        'false_negative': 0,\n",
    "        'wrong_side': 0,\n",
    "    }\n",
    "    for i in range(len(p)):\n",
    "        t = int(y_test['target'][i:i+1])\n",
    "        if p[i] == t != 0:\n",
    "            result['correct_predictions'] += 1\n",
    "        elif p[i] != t and t != 0 and p[i] != 0:\n",
    "            result['wrong_side'] += 1\n",
    "        elif p[i] != 0 and t == 0:\n",
    "            result['false_positive'] += 1\n",
    "        elif p[i] == 0 and t != 0:\n",
    "            result['false_negative'] += 1\n",
    "\n",
    "    result['correct_predictions'] /= len(y_test)\n",
    "    result['false_positive'] /= len(y_test)\n",
    "    result['false_negative'] /= len(y_test)\n",
    "    result['wrong_side'] /= len(y_test)\n",
    "    result['prob_threshold'] = prob_threshold\n",
    "    result['diff_threshold'] = diff_threshold\n",
    "    result['null_threshold'] = null_threshold\n",
    "    results.append(result)\n",
    "    return p\n",
    "\n",
    "for null_threshold in np.arange(0.5, 0.9, 0.1):\n",
    "    for prob_threshold in np.arange(0.1, 0.7, 0.1):\n",
    "        for diff_threshold in np.arange(0.00, 0.20, 0.05):\n",
    "            f(prob_threshold, diff_threshold, null_threshold)"
   ]
  },
  {
   "cell_type": "code",
   "execution_count": 29,
   "id": "uibgvIlGhC_s",
   "metadata": {
    "id": "uibgvIlGhC_s"
   },
   "outputs": [],
   "source": [
    "results = list(sorted(results, key=lambda result: -calculate_profit(result['prob_threshold'], result['diff_threshold'], result['null_threshold'])))"
   ]
  },
  {
   "cell_type": "code",
   "execution_count": 32,
   "id": "K_Jwjz6gYLEx",
   "metadata": {
    "colab": {
     "base_uri": "https://localhost:8080/"
    },
    "id": "K_Jwjz6gYLEx",
    "outputId": "18528fe3-5f7f-4a22-bc46-38eb566fb99e"
   },
   "outputs": [
    {
     "name": "stdout",
     "output_type": "stream",
     "text": [
      "{'correct_predictions': 0.0005161290322580645, 'false_positive': 0.00025806451612903227, 'false_negative': 0.05174193548387097, 'wrong_side': 0.00025806451612903227, 'prob_threshold': 0.6, 'diff_threshold': 0.0, 'null_threshold': 0.5}\n"
     ]
    }
   ],
   "source": [
    "print(results[0])"
   ]
  },
  {
   "cell_type": "code",
   "execution_count": 33,
   "id": "YVf5Mi0OZMzL",
   "metadata": {
    "colab": {
     "base_uri": "https://localhost:8080/"
    },
    "id": "YVf5Mi0OZMzL",
    "outputId": "f84454fe-30d4-45c4-964c-c45afb98f6f3"
   },
   "outputs": [
    {
     "name": "stdout",
     "output_type": "stream",
     "text": [
      "prob_threshold 0.6, diff_threshold 0.0, null_threshold 0.5\n",
      "accuracy 0.947741935483871\n",
      "{'correct_predictions': 4, 'false_positive': 2, 'false_negative': 401, 'wrong_side': 2, 'correct_predictions_pc': 0.0005161290322580645, 'false_positive_pc': 0.00025806451612903227, 'false_negative_pc': 0.05174193548387097, 'wrong_side_pc': 0.00025806451612903227}\n"
     ]
    }
   ],
   "source": [
    "prob_threshold = results[0]['prob_threshold']\n",
    "diff_threshold = results[0]['diff_threshold']\n",
    "null_threshold = results[0]['null_threshold']\n",
    "\n",
    "print(f\"prob_threshold {prob_threshold}, diff_threshold {diff_threshold}, null_threshold {null_threshold}\")\n",
    "p = f(prob_threshold, diff_threshold, null_threshold)\n",
    "print('accuracy', accuracy_score(p, y_test))\n",
    "result = {\n",
    "    'correct_predictions': 0,\n",
    "    'false_positive': 0,\n",
    "    'false_negative': 0,\n",
    "    'wrong_side': 0,\n",
    "}\n",
    "for i in range(len(p)):\n",
    "    t = int(y_test['target'][i:i+1])\n",
    "    if p[i] == t != 0:\n",
    "        result['correct_predictions'] += 1\n",
    "    elif p[i] != t and t != 0 and p[i] != 0:\n",
    "        result['wrong_side'] += 1\n",
    "    elif p[i] != 0 and t == 0:\n",
    "        result['false_positive'] += 1\n",
    "    elif p[i] == 0 and t != 0:\n",
    "        result['false_negative'] += 1\n",
    "\n",
    "result['correct_predictions_pc'] = result['correct_predictions'] / len(y_test)\n",
    "result['false_positive_pc'] = result['false_positive'] / len(y_test)\n",
    "result['false_negative_pc'] = result['false_negative'] / len(y_test)\n",
    "result['wrong_side_pc'] = result['wrong_side'] / len(y_test)\n",
    "print(result)"
   ]
  },
  {
   "cell_type": "code",
   "execution_count": 34,
   "id": "gMozO7JrZ3de",
   "metadata": {
    "colab": {
     "base_uri": "https://localhost:8080/"
    },
    "id": "gMozO7JrZ3de",
    "outputId": "abb7f995-c122-4572-92ba-6699bb77076c"
   },
   "outputs": [
    {
     "name": "stdout",
     "output_type": "stream",
     "text": [
      "profit from 3000$ fot 2 months -59.99535483870969 $ -1.999845161290323 %\n"
     ]
    }
   ],
   "source": [
    "def calculate_profit(prob_threshold, diff_threshold, null_threshold):\n",
    "    p = f(prob_threshold, diff_threshold, null_threshold)\n",
    "    result = {\n",
    "        'correct_predictions': 0,\n",
    "        'false_positive': 0,\n",
    "        'false_negative': 0,\n",
    "        'wrong_side': 0,\n",
    "    }\n",
    "    for i in range(len(p)):\n",
    "        t = int(y_test['target'][i:i+1])\n",
    "        if p[i] == t != 0:\n",
    "            result['correct_predictions'] += 1\n",
    "        elif p[i] != t and t != 0 and p[i] != 0:\n",
    "            result['wrong_side'] += 1\n",
    "        elif p[i] != 0 and t == 0:\n",
    "            result['false_positive'] += 1\n",
    "        elif p[i] == 0 and t != 0:\n",
    "            result['false_negative'] += 1\n",
    "\n",
    "    result['correct_predictions_pc'] = result['correct_predictions'] / len(y_test)\n",
    "    result['false_positive_pc'] = result['false_positive'] / len(y_test)\n",
    "    result['false_negative_pc'] = result['false_negative'] / len(y_test)\n",
    "    result['wrong_side_pc'] = result['wrong_side'] / len(y_test)\n",
    "    \n",
    "    return (\n",
    "          len(y) * result['correct_predictions_pc'] * (punch - 2 * commision)\n",
    "          -\n",
    "          len(y) * result['false_positive_pc'] * 2 * commision\n",
    "          -\n",
    "          len(y) * result['wrong_side_pc'] * (punch + 2 * commision)\n",
    "    )\n",
    "profit = calculate_profit(prob_threshold, diff_threshold, null_threshold)\n",
    "print(\n",
    "    'profit from 3000$ fot 2 months',\n",
    "    profit * 3000,\n",
    "    '$',\n",
    "    profit * 100,\n",
    "    '%'\n",
    ")"
   ]
  },
  {
   "cell_type": "code",
   "execution_count": 35,
   "id": "_Gh3CUGM6K-c",
   "metadata": {
    "colab": {
     "base_uri": "https://localhost:8080/"
    },
    "id": "_Gh3CUGM6K-c",
    "outputId": "f297191e-14cc-40d0-cdbe-9a1a21847c22"
   },
   "outputs": [
    {
     "name": "stdout",
     "output_type": "stream",
     "text": [
      "Correct accuracy = correct prediction / total positive num = 0.009828009828009828\n",
      "FPR = false positive / total negative num = 0.00027236824186299875\n",
      "FNR = false negative / total positive num = 0.9852579852579852\n",
      "Model in 1.9656019656019657% of cases with probability 50.0% predict a correct market jump\n"
     ]
    }
   ],
   "source": [
    "correct_accuracy = result['correct_predictions'] / len(y_test[y_test['target'] != 0])\n",
    "print(\n",
    "f\"Correct accuracy = correct prediction / total positive num = {correct_accuracy}\"\n",
    ")\n",
    "FPR = result['false_positive'] / len(y_test[y_test['target'] == 0])\n",
    "print(\n",
    "f\"FPR = false positive / total negative num = {FPR}\"\n",
    ")\n",
    "FNR = result['false_negative'] / len(y_test[y_test['target'] != 0])\n",
    "print(\n",
    "f\"FNR = false negative / total positive num = {FNR}\"\n",
    ")\n",
    "cases_pc = (result['correct_predictions'] + result['false_positive'] + result['wrong_side']) / len(y_test[y_test['target'] != 0]) * 100\n",
    "probability_pc = result['correct_predictions'] / (result['correct_predictions'] + result['false_positive'] + result['wrong_side']) * 100\n",
    "print(\n",
    "f\"Model in {cases_pc}% of cases with probability {probability_pc}% predict a correct market jump\"\n",
    ")"
   ]
  },
  {
   "cell_type": "code",
   "execution_count": 22,
   "id": "lhzxNa9Ezvm6",
   "metadata": {
    "colab": {
     "base_uri": "https://localhost:8080/"
    },
    "id": "lhzxNa9Ezvm6",
    "outputId": "765a2a74-d5ad-4141-b1d3-13fc6a4fb64e"
   },
   "outputs": [
    {
     "name": "stdout",
     "output_type": "stream",
     "text": [
      "0 [0.01471173 0.97006906 0.01521921] 1\n",
      "0 [0.0348011  0.90680791 0.05839099] -1\n",
      "0 [0.00963603 0.97766475 0.01269922] -1\n",
      "0 [0.01653236 0.95028703 0.03318061] -1\n",
      "0 [0.52221957 0.09492226 0.38285818] 1\n",
      "0 [0.07922507 0.85985502 0.06091991] -1\n",
      "0 [0.04815805 0.89459932 0.05724264] -1\n",
      "0 [0.01195401 0.97746588 0.01058011] 1\n",
      "0 [0.12395765 0.80260804 0.07343431] -1\n",
      "0 [0.5081676  0.31509127 0.17674113] -1\n",
      "0 [0.16594606 0.78247401 0.05157993] -1\n",
      "0 [0.04370489 0.90159804 0.05469707] 1\n",
      "0 [0.07440299 0.89156261 0.0340344 ] -1\n",
      "0 [0.21968114 0.57978941 0.20052945] 1\n",
      "0 [0.04477235 0.93471579 0.02051185] 1\n",
      "0 [0.15696873 0.56522061 0.27781066] -1\n",
      "0 [0.15766214 0.63325357 0.2090843 ] 1\n",
      "0 [0.03348667 0.95488829 0.01162503] -1\n",
      "0 [0.02321405 0.95758024 0.0192057 ] 1\n",
      "0 [0.07689473 0.87340264 0.04970263] 1\n",
      "0 [0.01855031 0.95707859 0.0243711 ] 1\n",
      "0 [0.0123305  0.97988634 0.00778316] 1\n",
      "0 [0.29304932 0.55929483 0.14765585] -1\n",
      "0 [0.01446145 0.97584037 0.00969818] -1\n",
      "0 [0.49208424 0.12162241 0.38629335] 1\n",
      "0 [0.09336311 0.84780369 0.05883319] 1\n",
      "0 [0.03903686 0.92445213 0.03651101] 1\n",
      "-1 [0.60993902 0.15253297 0.23752801] 1\n",
      "0 [0.04940314 0.91709573 0.03350113] 1\n",
      "0 [0.01552611 0.97152809 0.01294581] -1\n",
      "0 [0.02573145 0.94995954 0.02430901] 1\n",
      "0 [0.12091145 0.77188127 0.10720728] 1\n",
      "0 [0.33789261 0.26768194 0.39442545] 1\n",
      "0 [0.00702337 0.98730356 0.00567307] 1\n",
      "0 [0.05787732 0.85024026 0.09188242] 1\n",
      "0 [0.01628704 0.96941968 0.01429328] 1\n",
      "0 [0.01406737 0.97700326 0.00892937] -1\n",
      "0 [0.35289054 0.31988199 0.32722747] -1\n",
      "0 [0.0453096  0.91792045 0.03676995] 1\n",
      "0 [0.1104074  0.73776476 0.15182785] -1\n",
      "0 [0.06295049 0.73489182 0.20215768] 1\n",
      "0 [0.09621607 0.75813458 0.14564936] -1\n",
      "0 [0.04280271 0.85277661 0.10442067] 1\n",
      "0 [0.3088569  0.43022226 0.26092084] 1\n",
      "0 [0.02021943 0.95355726 0.02622331] -1\n",
      "0 [0.01581542 0.96937361 0.01481097] 1\n",
      "0 [0.35090131 0.33980338 0.30929531] -1\n",
      "0 [0.01739441 0.96985902 0.01274657] -1\n",
      "0 [0.1181406  0.81015426 0.07170514] -1\n",
      "0 [0.32191051 0.54640947 0.13168002] -1\n",
      "0 [0.04177493 0.91344897 0.0447761 ] -1\n",
      "0 [0.04983145 0.90911454 0.04105401] 1\n",
      "0 [0.09182448 0.83037255 0.07780297] 1\n",
      "0 [0.0200101  0.96929442 0.01069548] -1\n",
      "0 [0.04892504 0.92134169 0.02973327] -1\n",
      "0 [0.07111848 0.88330745 0.04557407] -1\n",
      "0 [0.01109297 0.97606171 0.01284532] 1\n",
      "0 [0.00706441 0.98630005 0.00663554] -1\n",
      "0 [0.07967225 0.84040186 0.07992589] 1\n",
      "0 [0.02145778 0.9555729  0.02296933] 1\n",
      "0 [0.03873561 0.92873919 0.0325252 ] 1\n",
      "0 [0.03134335 0.94471526 0.0239414 ] -1\n",
      "0 [0.07967053 0.816676   0.10365347] 1\n",
      "0 [0.10334597 0.83153169 0.06512235] -1\n",
      "0 [0.01957914 0.95800261 0.02241825] 1\n",
      "0 [0.24650808 0.33733157 0.41616035] -1\n",
      "0 [0.01060615 0.97948026 0.00991359] 1\n",
      "0 [0.00862381 0.9835941  0.00778209] 1\n",
      "0 [0.07695687 0.86537976 0.05766337] -1\n",
      "0 [0.01608881 0.97305071 0.01086047] -1\n",
      "0 [0.00946045 0.98452923 0.00601032] -1\n",
      "0 [0.0072214  0.98542413 0.00735447] -1\n",
      "0 [0.18142162 0.73796059 0.08061779] -1\n",
      "0 [0.18957207 0.73338177 0.07704616] 1\n",
      "0 [0.0392794  0.9255346  0.03518599] 1\n",
      "0 [0.0121881  0.97943157 0.00838033] -1\n",
      "0 [0.27747304 0.12510057 0.59742638] 1\n",
      "0 [0.02782235 0.95203362 0.02014403] 1\n",
      "0 [0.07701754 0.87043707 0.05254539] -1\n",
      "0 [0.13137123 0.64986799 0.21876078] -1\n",
      "0 [0.08026778 0.85057189 0.06916033] -1\n",
      "0 [0.02982195 0.93714288 0.03303517] -1\n",
      "0 [0.04559681 0.91658475 0.03781844] 1\n",
      "0 [0.02963953 0.94073418 0.02962629] -1\n",
      "0 [0.03023109 0.92375656 0.04601235] 1\n",
      "0 [0.12786893 0.66231698 0.2098141 ] -1\n",
      "0 [0.13687217 0.73118532 0.13194251] 1\n",
      "0 [0.11006497 0.82140837 0.06852666] 1\n",
      "0 [0.21653672 0.49014305 0.29332023] 1\n",
      "0 [0.02641595 0.94695633 0.02662771] -1\n",
      "0 [0.02764378 0.9416666  0.03068962] -1\n",
      "0 [0.14095037 0.57845635 0.28059328] -1\n",
      "0 [0.07312242 0.83133183 0.09554575] -1\n",
      "0 [0.02919916 0.9544481  0.01635274] 1\n",
      "0 [0.01407373 0.97645107 0.0094752 ] -1\n",
      "0 [0.08605931 0.869802   0.04413869] -1\n",
      "0 [0.03211631 0.94080551 0.02707818] 1\n",
      "0 [0.01473595 0.97632981 0.00893424] 1\n",
      "0 [0.15626878 0.60478117 0.23895005] -1\n",
      "0 [0.01957866 0.96224584 0.01817549] -1\n",
      "0 [0.23414023 0.27422584 0.49163393] -1\n",
      "0 [0.01479649 0.96792871 0.0172748 ] -1\n",
      "0 [0.57051874 0.23078484 0.19869642] 1\n",
      "0 [0.05299206 0.88685612 0.06015182] 1\n",
      "0 [0.0366745  0.93656618 0.02675932] 1\n",
      "0 [0.05257908 0.87786122 0.06955969] -1\n",
      "0 [0.01769839 0.96727753 0.01502409] -1\n",
      "0 [0.0127265  0.97461747 0.01265603] -1\n",
      "0 [0.03848738 0.89571494 0.06579768] 1\n",
      "0 [0.04592411 0.9202489  0.03382698] -1\n",
      "0 [0.04011282 0.92965629 0.03023089] -1\n",
      "0 [0.04962683 0.91629439 0.03407878] 1\n",
      "0 [0.51348042 0.09624533 0.39027425] -1\n",
      "0 [0.04944958 0.92789806 0.02265236] 1\n",
      "0 [0.0168798  0.96613241 0.01698779] -1\n",
      "0 [0.2030288  0.60896006 0.18801115] -1\n",
      "0 [0.05434401 0.91237085 0.03328514] 1\n",
      "0 [0.05445899 0.90584989 0.03969112] -1\n",
      "0 [0.12074223 0.81121302 0.06804475] -1\n",
      "0 [0.01765647 0.96931362 0.01302991] 1\n",
      "0 [0.00777141 0.98585079 0.00637781] 1\n",
      "0 [0.24987317 0.28340138 0.46672545] -1\n",
      "0 [0.06693559 0.84658381 0.08648061] -1\n",
      "0 [0.04227378 0.9005202  0.05720602] 1\n",
      "0 [0.16317213 0.73774697 0.0990809 ] 1\n",
      "0 [0.00903612 0.98451405 0.00644983] 1\n",
      "0 [0.22836593 0.34116243 0.43047164] 1\n",
      "0 [0.049323  0.9184024 0.0322746] -1\n",
      "0 [0.07876497 0.75541493 0.1658201 ] -1\n",
      "0 [0.02350707 0.9540201  0.02247283] -1\n",
      "0 [0.01823182 0.94275777 0.0390104 ] 1\n",
      "0 [0.01984778 0.96550414 0.01464808] -1\n",
      "0 [0.28929962 0.51307022 0.19763016] -1\n",
      "0 [0.01441921 0.97147722 0.01410357] -1\n",
      "0 [0.13835278 0.72996216 0.13168506] 1\n",
      "0 [0.02450772 0.9490479  0.02644438] 1\n",
      "0 [0.19024245 0.64742358 0.16233397] 1\n",
      "0 [0.02215376 0.9622872  0.01555904] -1\n",
      "0 [0.20611128 0.60845515 0.18543357] -1\n",
      "0 [0.24947343 0.2411403  0.50938627] 1\n",
      "0 [0.01237815 0.98024984 0.00737202] 1\n",
      "0 [0.0456976  0.90692222 0.04738018] 1\n",
      "0 [0.13211362 0.70858091 0.15930547] 1\n",
      "0 [0.04726416 0.89637932 0.05635652] 1\n",
      "0 [0.03106895 0.94415316 0.02477789] 1\n",
      "0 [0.09460256 0.81136313 0.09403432] -1\n",
      "0 [0.02689152 0.94986337 0.02324511] -1\n",
      "0 [0.06645047 0.88801985 0.04552968] -1\n",
      "0 [0.03452901 0.94640278 0.0190682 ] -1\n",
      "0 [0.06227474 0.85485767 0.08286759] -1\n",
      "0 [0.03389601 0.94164625 0.02445774] 1\n",
      "0 [0.0383984  0.94105363 0.02054797] 1\n",
      "0 [0.09157303 0.70351615 0.20491082] -1\n",
      "0 [0.1885024 0.7459025 0.0655951] 1\n",
      "0 [0.01019998 0.98028631 0.00951371] 1\n",
      "0 [0.02406335 0.9390921  0.03684455] -1\n",
      "0 [0.01104199 0.97924711 0.0097109 ] -1\n",
      "0 [0.01445667 0.96989908 0.01564425] 1\n",
      "0 [0.17169338 0.73950017 0.08880645] -1\n",
      "0 [0.01602819 0.97101566 0.01295615] -1\n",
      "0 [0.01867959 0.96970756 0.01161285] -1\n",
      "0 [0.05511646 0.87159241 0.07329113] -1\n",
      "0 [0.06300288 0.87644979 0.06054733] -1\n",
      "0 [0.15267251 0.5295196  0.31780789] -1\n",
      "0 [0.40361876 0.21811648 0.37826476] -1\n",
      "0 [0.02772756 0.95217462 0.02009782] -1\n",
      "0 [0.03327528 0.92815105 0.03857367] 1\n",
      "0 [0.01105476 0.98220957 0.00673567] -1\n",
      "0 [0.06183528 0.85662934 0.08153537] -1\n",
      "0 [0.02175553 0.95464426 0.0236002 ] 1\n",
      "0 [0.29201745 0.45682061 0.25116194] 1\n",
      "0 [0.19617491 0.61896478 0.18486031] 1\n",
      "0 [0.09809547 0.80447502 0.09742951] 1\n",
      "0 [0.02194087 0.96839162 0.00966751] -1\n",
      "0 [0.00798215 0.98537977 0.00663809] -1\n",
      "0 [0.43186691 0.43199188 0.13614121] 1\n",
      "0 [0.38287642 0.26719211 0.34993147] 1\n",
      "0 [0.03703953 0.9379963  0.02496417] -1\n",
      "0 [0.53789427 0.31680561 0.14530013] 1\n",
      "0 [0.06905881 0.87523864 0.05570255] -1\n",
      "0 [0.026057   0.95457558 0.01936743] -1\n",
      "0 [0.01285138 0.97714187 0.01000675] 1\n",
      "0 [0.05750766 0.88266253 0.05982981] 1\n",
      "0 [0.13806482 0.78209826 0.07983692] 1\n",
      "0 [0.07591086 0.89396765 0.03012149] -1\n",
      "0 [0.56577746 0.28665568 0.14756685] -1\n",
      "0 [0.07700071 0.88774537 0.03525391] 1\n",
      "0 [0.15942117 0.55755215 0.28302668] -1\n",
      "0 [0.04949902 0.91835549 0.03214549] 1\n",
      "0 [0.06149138 0.87217562 0.066333  ] -1\n",
      "0 [0.44701109 0.2623653  0.29062361] 1\n",
      "-1 [0.66615197 0.12875108 0.20509695] -1\n",
      "0 [0.08405943 0.84402639 0.07191419] 1\n",
      "0 [0.07296559 0.74794128 0.17909313] 1\n",
      "0 [0.25142629 0.48283928 0.26573443] -1\n",
      "0 [0.08554534 0.85379459 0.06066007] -1\n",
      "0 [0.07964151 0.74211821 0.17824028] -1\n",
      "0 [0.02750352 0.95158801 0.02090846] -1\n",
      "0 [0.10610392 0.8124635  0.08143258] 1\n",
      "0 [0.02567808 0.95163697 0.02268495] 1\n",
      "0 [0.02254262 0.94379784 0.03365955] 1\n",
      "0 [0.01239491 0.96811225 0.01949284] 1\n",
      "0 [0.28819282 0.25018844 0.46161874] -1\n",
      "0 [0.02782543 0.93452363 0.03765094] -1\n",
      "0 [0.02341226 0.96448929 0.01209845] 1\n",
      "0 [0.22963027 0.29979505 0.47057467] -1\n",
      "-1 [0.70593169 0.03323411 0.2608342 ] -1\n",
      "0 [0.59421558 0.05364407 0.35214035] 1\n",
      "0 [0.28305229 0.25530442 0.46164328] -1\n",
      "0 [0.01404902 0.97395543 0.01199555] -1\n",
      "0 [0.15604928 0.7350823  0.10886843] 1\n",
      "0 [0.15470315 0.75416874 0.0911281 ] -1\n",
      "0 [0.07837972 0.80017611 0.12144417] -1\n",
      "0 [0.02233041 0.95005895 0.02761063] -1\n",
      "0 [0.04318631 0.89773641 0.05907728] -1\n",
      "0 [0.01981168 0.92965456 0.05053375] -1\n",
      "0 [0.00751019 0.98523556 0.00725425] 1\n",
      "0 [0.03977643 0.94274121 0.01748235] -1\n",
      "0 [0.04922478 0.9140556  0.03671962] -1\n",
      "0 [0.38786557 0.2604897  0.35164473] 1\n",
      "0 [0.02722872 0.95177376 0.02099752] 1\n",
      "0 [0.01791573 0.97175629 0.01032797] -1\n",
      "0 [0.02939609 0.95207836 0.01852555] -1\n",
      "0 [0.01464345 0.97516667 0.01018988] -1\n",
      "0 [0.13806623 0.79309684 0.06883694] 1\n",
      "0 [0.25485862 0.5054072  0.23973418] -1\n",
      "0 [0.16015343 0.71694875 0.12289782] -1\n",
      "0 [0.0200724 0.964791  0.0151366] -1\n",
      "0 [0.18815355 0.66378747 0.14805898] 1\n",
      "0 [0.020753   0.96471549 0.01453151] 1\n",
      "0 [0.01233309 0.97772395 0.00994296] 1\n",
      "0 [0.13541664 0.68553797 0.1790454 ] 1\n",
      "0 [0.02881469 0.94003449 0.03115082] 1\n",
      "0 [0.09523168 0.84116726 0.06360106] -1\n",
      "0 [0.04184147 0.90281568 0.05534285] 1\n",
      "0 [0.21261964 0.50229728 0.28508308] 1\n",
      "0 [0.05053327 0.91253907 0.03692765] 1\n",
      "0 [0.00913556 0.98332079 0.00754365] -1\n",
      "0 [0.01212583 0.97827849 0.00959568] 1\n",
      "0 [0.13901009 0.77545588 0.08553403] -1\n",
      "0 [0.17066572 0.50066406 0.32867021] -1\n",
      "0 [0.02850408 0.93914659 0.03234933] 1\n",
      "0 [0.02762919 0.95221702 0.02015379] -1\n",
      "0 [0.00870884 0.9845563  0.00673486] 1\n",
      "0 [0.05437582 0.87266646 0.07295772] -1\n",
      "0 [0.03419133 0.9370834  0.02872527] 1\n",
      "0 [0.1492617  0.67410138 0.17663692] -1\n",
      "0 [0.02500464 0.94908586 0.0259095 ] -1\n",
      "0 [0.09817554 0.76303976 0.1387847 ] -1\n",
      "0 [0.11611388 0.78022615 0.10365997] 1\n",
      "0 [0.01354655 0.97519838 0.01125507] -1\n",
      "0 [0.02314147 0.96086522 0.01599331] 1\n",
      "0 [0.01851195 0.96662196 0.01486609] 1\n",
      "0 [0.03958966 0.92545677 0.03495358] -1\n",
      "0 [0.31486179 0.15980049 0.52533772] -1\n",
      "0 [0.05665832 0.86118443 0.08215726] -1\n",
      "0 [0.00881979 0.97997396 0.01120625] -1\n",
      "0 [0.01032692 0.97906634 0.01060675] 1\n",
      "0 [0.46424454 0.0532721  0.48248336] -1\n",
      "0 [0.2511738  0.51936021 0.22946598] -1\n",
      "0 [0.33580048 0.1443803  0.51981921] -1\n",
      "0 [0.02952642 0.93576324 0.03471034] -1\n",
      "0 [0.01888431 0.96546842 0.01564726] 1\n",
      "0 [0.00995298 0.98221381 0.00783322] 1\n",
      "0 [0.11046606 0.51979644 0.36973751] -1\n",
      "0 [0.06814117 0.86046857 0.07139026] -1\n",
      "0 [0.06725064 0.85932934 0.07342002] 1\n",
      "0 [0.17386314 0.70094816 0.12518871] 1\n",
      "0 [0.0369364  0.94034481 0.02271879] -1\n",
      "0 [0.00915593 0.97963662 0.01120745] 1\n",
      "0 [0.3227084  0.46131539 0.21597621] 1\n",
      "0 [0.15090445 0.74257199 0.10652357] 1\n",
      "0 [0.07276758 0.87195913 0.05527329] -1\n",
      "0 [0.10748202 0.72259536 0.16992262] 1\n",
      "0 [0.0263928  0.95326803 0.02033917] 1\n",
      "0 [0.21691345 0.43105891 0.35202764] -1\n",
      "0 [0.02141792 0.96511958 0.0134625 ] -1\n",
      "0 [0.01438014 0.97546753 0.01015233] -1\n",
      "0 [0.00724993 0.9852911  0.00745896] -1\n",
      "0 [0.14950943 0.67176659 0.17872398] 1\n",
      "0 [0.03254227 0.93972291 0.02773482] -1\n",
      "0 [0.02714347 0.94710773 0.0257488 ] 1\n",
      "0 [0.3746135  0.55132886 0.07405764] 1\n",
      "0 [0.05326678 0.89807087 0.04866235] -1\n",
      "0 [0.29204578 0.18110185 0.52685236] -1\n",
      "0 [0.01515786 0.96907177 0.01577037] 1\n",
      "0 [0.05949277 0.88636471 0.05414252] -1\n",
      "0 [0.30156559 0.18465383 0.51378058] -1\n",
      "0 [0.05359331 0.85351678 0.09288991] -1\n",
      "0 [0.04538745 0.91674096 0.0378716 ] -1\n",
      "0 [0.02093613 0.95833267 0.0207312 ] -1\n",
      "0 [0.10168983 0.74326639 0.15504378] -1\n",
      "0 [0.02334423 0.95697426 0.0196815 ] 1\n",
      "0 [0.11930443 0.76916601 0.11152956] 1\n",
      "0 [0.38310962 0.24562965 0.37126073] 1\n",
      "0 [0.03506704 0.93963393 0.02529903] -1\n",
      "0 [0.01659083 0.96782174 0.01558743] 1\n",
      "0 [0.29892689 0.23910919 0.46196391] 1\n",
      "0 [0.00922514 0.97905409 0.01172077] -1\n",
      "0 [0.03500756 0.91854086 0.04645159] 1\n",
      "0 [0.01247841 0.97709701 0.01042458] -1\n",
      "0 [0.10051947 0.87149045 0.02799008] -1\n",
      "0 [0.00722685 0.98540693 0.00736622] -1\n",
      "0 [0.20532209 0.62565772 0.16902019] -1\n",
      "0 [0.02321207 0.95366961 0.02311832] -1\n",
      "0 [0.10145167 0.83060845 0.06793988] -1\n",
      "0 [0.32120235 0.22339572 0.45540192] 1\n",
      "0 [0.38304983 0.39278885 0.22416132] 1\n",
      "0 [0.02256994 0.95870124 0.01872882] 1\n",
      "0 [0.24749337 0.20527907 0.54722757] -1\n",
      "0 [0.0124695 0.9748277 0.0127028] 1\n",
      "0 [0.05769792 0.88845083 0.05385124] 1\n",
      "0 [0.13559644 0.57442976 0.2899738 ] -1\n",
      "0 [0.01201351 0.97728183 0.01070466] 1\n",
      "0 [0.05323367 0.85183073 0.0949356 ] 1\n",
      "0 [0.24706301 0.64298651 0.10995048] -1\n",
      "0 [0.02429568 0.95256342 0.0231409 ] 1\n",
      "0 [0.01471526 0.97544024 0.0098445 ] 1\n",
      "0 [0.01186699 0.96985045 0.01828256] 1\n",
      "0 [0.53606702 0.15632929 0.3076037 ] 1\n",
      "0 [0.03727025 0.93506225 0.0276675 ] 1\n",
      "0 [0.04280944 0.92742234 0.02976822] -1\n",
      "0 [0.03823839 0.92990078 0.03186083] 1\n",
      "0 [0.22923639 0.6127599  0.15800372] -1\n",
      "0 [0.0999049 0.619266  0.2808291] -1\n",
      "0 [0.01628981 0.95064251 0.03306768] -1\n",
      "0 [0.17706048 0.68798638 0.13495315] 1\n",
      "0 [0.02017719 0.95335177 0.02647104] -1\n",
      "0 [0.01062206 0.98034095 0.00903698] -1\n",
      "0 [0.05341754 0.9086393  0.03794315] 1\n",
      "0 [0.53540142 0.27381377 0.19078481] -1\n",
      "0 [0.03617217 0.92730204 0.03652579] -1\n",
      "0 [0.02164374 0.96311561 0.01524065] 1\n",
      "0 [0.02173618 0.96650901 0.01175481] 1\n",
      "0 [0.01132413 0.98022288 0.00845299] -1\n",
      "-1 [0.67868742 0.13835398 0.1829586 ] -1\n",
      "0 [0.01095141 0.98027889 0.00876969] -1\n",
      "0 [0.11047652 0.79437383 0.09514965] -1\n",
      "0 [0.01852781 0.96592014 0.01555205] -1\n",
      "0 [0.02385801 0.95441011 0.02173188] -1\n",
      "0 [0.01735629 0.96810167 0.01454204] 1\n",
      "0 [0.01506037 0.97353941 0.01140023] 1\n",
      "0 [0.01150745 0.98093106 0.00756149] 1\n",
      "0 [0.05615608 0.90888618 0.03495775] -1\n",
      "0 [0.02025571 0.9700657  0.00967859] -1\n",
      "0 [0.01728667 0.96281441 0.01989891] 1\n",
      "0 [0.1797147  0.65247519 0.16781011] -1\n",
      "0 [0.10350576 0.80524338 0.09125086] -1\n",
      "0 [0.59673795 0.15020556 0.25305649] -1\n",
      "0 [0.05751614 0.88786357 0.05462029] 1\n",
      "0 [0.00887209 0.98240871 0.0087192 ] 1\n",
      "0 [0.01982061 0.96846142 0.01171796] -1\n",
      "0 [0.02371716 0.96472899 0.01155385] 1\n",
      "0 [0.09234689 0.85570787 0.05194524] 1\n",
      "1 [0.18125343 0.20718928 0.61155729] 1\n",
      "0 [0.39141392 0.10482584 0.50376025] -1\n",
      "0 [0.27545383 0.57182318 0.15272299] 1\n",
      "0 [0.03205955 0.93673316 0.03120729] -1\n",
      "0 [0.11401798 0.80102655 0.08495548] 1\n",
      "0 [0.03521509 0.92411359 0.04067133] -1\n",
      "0 [0.06330955 0.89050071 0.04618974] 1\n",
      "0 [0.1330212  0.76296365 0.10401514] -1\n",
      "0 [0.03141013 0.94410509 0.02448478] -1\n",
      "0 [0.02960053 0.94572855 0.02467092] -1\n",
      "0 [0.11329251 0.81132299 0.0753845 ] 1\n",
      "0 [0.28302576 0.57917747 0.13779677] 1\n",
      "0 [0.22943639 0.68635141 0.0842122 ] -1\n",
      "0 [0.02781278 0.9586407  0.01354652] 1\n",
      "1 [0.2311417  0.16573226 0.60312605] -1\n",
      "0 [0.02549578 0.94873055 0.02577368] 1\n",
      "0 [0.03320771 0.94617342 0.02061887] -1\n",
      "0 [0.07222588 0.87585458 0.05191953] 1\n",
      "0 [0.01850182 0.96796111 0.01353707] 1\n",
      "0 [0.01632726 0.97416763 0.00950511] -1\n",
      "0 [0.12672588 0.80123287 0.07204125] -1\n",
      "0 [0.04052702 0.93565954 0.02381344] -1\n",
      "0 [0.10335881 0.82930239 0.0673388 ] -1\n",
      "0 [0.03806931 0.91530002 0.04663067] -1\n",
      "0 [0.11217505 0.81337339 0.07445156] -1\n",
      "0 [0.00992153 0.98058793 0.00949054] -1\n",
      "0 [0.04645623 0.92790069 0.02564308] -1\n",
      "0 [0.16474664 0.76156364 0.07368972] -1\n",
      "0 [0.08173473 0.82665031 0.09161496] -1\n",
      "0 [0.0123306  0.97629025 0.01137915] 1\n",
      "0 [0.46160185 0.4243824  0.11401575] -1\n",
      "0 [0.02037329 0.92184588 0.05778083] 1\n",
      "0 [0.05553769 0.90962546 0.03483685] -1\n",
      "0 [0.31710372 0.620633   0.06226328] -1\n",
      "0 [0.0673689  0.83245795 0.10017315] 1\n",
      "0 [0.02831746 0.95185104 0.0198315 ] -1\n",
      "0 [0.03685922 0.94471304 0.01842774] -1\n",
      "0 [0.01200454 0.97272773 0.01526773] -1\n",
      "0 [0.04218924 0.90957773 0.04823303] -1\n",
      "0 [0.01345516 0.97367928 0.01286555] -1\n",
      "0 [0.01544981 0.96893041 0.01561978] -1\n",
      "0 [0.05780281 0.86690376 0.07529343] -1\n",
      "0 [0.04421448 0.90577761 0.05000791] 1\n",
      "0 [0.20260726 0.5746351  0.22275764] 1\n",
      "0 [0.02747807 0.9529088  0.01961313] 1\n",
      "0 [0.35109297 0.33303882 0.3158682 ] -1\n",
      "0 [0.17171245 0.64964462 0.17864292] -1\n",
      "0 [0.0590604  0.81955285 0.12138674] -1\n",
      "0 [0.11799381 0.83596585 0.04604034] -1\n",
      "0 [0.01605103 0.96704377 0.01690521] -1\n",
      "0 [0.34452826 0.36269916 0.29277258] 1\n",
      "0 [0.02101498 0.9570669  0.02191812] 1\n",
      "0 [0.07303156 0.88171169 0.04525675] 1\n"
     ]
    }
   ],
   "source": [
    "for i in range(len(predictions_probs)):\n",
    "    if int(y_test['target'][i:i+1]) != 0:\n",
    "        print(p[i], predictions_probs[i], int(y_test['target'][i:i+1]))"
   ]
  },
  {
   "cell_type": "code",
   "execution_count": 241,
   "id": "onet1RJrhOj6",
   "metadata": {
    "id": "onet1RJrhOj6"
   },
   "outputs": [],
   "source": []
  }
 ],
 "metadata": {
  "colab": {
   "collapsed_sections": [],
   "name": "trades-size-catboost.ipynb",
   "provenance": []
  },
  "kernelspec": {
   "display_name": "Python 3",
   "language": "python",
   "name": "python3"
  },
  "language_info": {
   "codemirror_mode": {
    "name": "ipython",
    "version": 3
   },
   "file_extension": ".py",
   "mimetype": "text/x-python",
   "name": "python",
   "nbconvert_exporter": "python",
   "pygments_lexer": "ipython3",
   "version": "3.8.10"
  },
  "widgets": {
   "application/vnd.jupyter.widget-state+json": {
    "288fca760a424d96aeb4978ce2390d43": {
     "model_module": "catboost-widget",
     "model_module_version": "^1.0.0",
     "model_name": "CatboostWidgetModel",
     "state": {
      "_dom_classes": [],
      "_model_module": "catboost-widget",
      "_model_module_version": "^1.0.0",
      "_model_name": "CatboostWidgetModel",
      "_view_count": null,
      "_view_module": "catboost-widget",
      "_view_module_version": "^1.0.0",
      "_view_name": "CatboostWidgetView",
      "data": {
       "catboost_info": {
        "content": {
         "data": {
          "iterations": [
           {
            "iteration": 0,
            "learn": [
             0.9824923646,
             0.9195138454
            ],
            "passed_time": 0.1435025651,
            "remaining_time": 42.90726696,
            "test": [
             0.9812903226,
             0.9200000184
            ]
           },
           {
            "iteration": 1,
            "learn": [
             0.9824923646,
             0.7862466848
            ],
            "passed_time": 0.2330052326,
            "remaining_time": 34.71777965,
            "test": [
             0.9815483871,
             0.7869672726
            ]
           },
           {
            "iteration": 2,
            "learn": [
             0.9824923646,
             0.6822922709
            ],
            "passed_time": 0.3232581849,
            "remaining_time": 32.00256031,
            "test": [
             0.9815483871,
             0.6832434275
            ]
           },
           {
            "iteration": 3,
            "learn": [
             0.9824923646,
             0.5982387145
            ],
            "passed_time": 0.4030339351,
            "remaining_time": 29.8245112,
            "test": [
             0.9815483871,
             0.5994443415
            ]
           },
           {
            "iteration": 4,
            "learn": [
             0.9824923646,
             0.5290551029
            ],
            "passed_time": 0.4989376809,
            "remaining_time": 29.43732317,
            "test": [
             0.9815483871,
             0.5304282669
            ]
           },
           {
            "iteration": 5,
            "learn": [
             0.9824923646,
             0.4712029226
            ],
            "passed_time": 0.5780800181,
            "remaining_time": 28.32592089,
            "test": [
             0.9815483871,
             0.4726414723
            ]
           },
           {
            "iteration": 6,
            "learn": [
             0.9824923646,
             0.4223060324
            ],
            "passed_time": 0.669078152,
            "remaining_time": 28.00569979,
            "test": [
             0.9815483871,
             0.4239381103
            ]
           },
           {
            "iteration": 7,
            "learn": [
             0.9824923646,
             0.3803473967
            ],
            "passed_time": 0.7510956698,
            "remaining_time": 27.41499195,
            "test": [
             0.9815483871,
             0.3821695376
            ]
           },
           {
            "iteration": 8,
            "learn": [
             0.9824923646,
             0.3443393613
            ],
            "passed_time": 0.8436063752,
            "remaining_time": 27.27660613,
            "test": [
             0.9815483871,
             0.3463612813
            ]
           },
           {
            "iteration": 9,
            "learn": [
             0.9824923646,
             0.3130010539
            ],
            "passed_time": 0.9246159282,
            "remaining_time": 26.81386192,
            "test": [
             0.9815483871,
             0.3150633594
            ]
           },
           {
            "iteration": 10,
            "learn": [
             0.9824923646,
             0.2857024118
            ],
            "passed_time": 1.001590793,
            "remaining_time": 26.31452174,
            "test": [
             0.9815483871,
             0.2878993176
            ]
           },
           {
            "iteration": 11,
            "learn": [
             0.9824923646,
             0.2622152215
            ],
            "passed_time": 1.083058444,
            "remaining_time": 25.99340266,
            "test": [
             0.9815483871,
             0.2645203062
            ]
           },
           {
            "iteration": 12,
            "learn": [
             0.9824923646,
             0.2412749882
            ],
            "passed_time": 1.16460191,
            "remaining_time": 25.71082678,
            "test": [
             0.9815483871,
             0.2436768885
            ]
           },
           {
            "iteration": 13,
            "learn": [
             0.9824923646,
             0.2228120319
            ],
            "passed_time": 1.245788564,
            "remaining_time": 25.44968067,
            "test": [
             0.9815483871,
             0.225252803
            ]
           },
           {
            "iteration": 14,
            "learn": [
             0.9824923646,
             0.2066400696
            ],
            "passed_time": 1.327532971,
            "remaining_time": 25.22312644,
            "test": [
             0.9815483871,
             0.209191227
            ]
           },
           {
            "iteration": 15,
            "learn": [
             0.9824923646,
             0.1920214708
            ],
            "passed_time": 1.406268381,
            "remaining_time": 24.96126377,
            "test": [
             0.9815483871,
             0.1947721213
            ]
           },
           {
            "iteration": 16,
            "learn": [
             0.9824923646,
             0.1790631337
            ],
            "passed_time": 1.491795234,
            "remaining_time": 24.83400302,
            "test": [
             0.9815483871,
             0.1820052985
            ]
           },
           {
            "iteration": 17,
            "learn": [
             0.9824923646,
             0.1678619439
            ],
            "passed_time": 1.574950217,
            "remaining_time": 24.67422006,
            "test": [
             0.9815483871,
             0.170955151
            ]
           },
           {
            "iteration": 18,
            "learn": [
             0.9824923646,
             0.157611204
            ],
            "passed_time": 1.652297107,
            "remaining_time": 24.43660459,
            "test": [
             0.9815483871,
             0.1609013587
            ]
           },
           {
            "iteration": 19,
            "learn": [
             0.9824923646,
             0.1485157122
            ],
            "passed_time": 1.734271408,
            "remaining_time": 24.27979971,
            "test": [
             0.9815483871,
             0.1520565491
            ]
           },
           {
            "iteration": 20,
            "learn": [
             0.9824923646,
             0.1402639229
            ],
            "passed_time": 1.814908075,
            "remaining_time": 24.11235013,
            "test": [
             0.9815483871,
             0.1440021241
            ]
           },
           {
            "iteration": 21,
            "learn": [
             0.9824923646,
             0.1328279661
            ],
            "passed_time": 1.9028437,
            "remaining_time": 24.04502494,
            "test": [
             0.9815483871,
             0.136873759
            ]
           },
           {
            "iteration": 22,
            "learn": [
             0.9824923646,
             0.1262704211
            ],
            "passed_time": 1.999667125,
            "remaining_time": 24.08294755,
            "test": [
             0.9815483871,
             0.1306615463
            ]
           },
           {
            "iteration": 23,
            "learn": [
             0.9824923646,
             0.1204866022
            ],
            "passed_time": 2.07942124,
            "remaining_time": 23.91334427,
            "test": [
             0.9815483871,
             0.1251776826
            ]
           },
           {
            "iteration": 24,
            "learn": [
             0.9824923646,
             0.1151764082
            ],
            "passed_time": 2.15721846,
            "remaining_time": 23.72940306,
            "test": [
             0.9815483871,
             0.120091562
            ]
           },
           {
            "iteration": 25,
            "learn": [
             0.9824923646,
             0.1106471879
            ],
            "passed_time": 2.235269361,
            "remaining_time": 23.55630019,
            "test": [
             0.9815483871,
             0.1156906863
            ]
           },
           {
            "iteration": 26,
            "learn": [
             0.9824923646,
             0.1064932113
            ],
            "passed_time": 2.309960247,
            "remaining_time": 23.35626472,
            "test": [
             0.9816774194,
             0.1117343082
            ]
           },
           {
            "iteration": 27,
            "learn": [
             0.9825353809,
             0.1027830356
            ],
            "passed_time": 2.384644126,
            "remaining_time": 23.16511437,
            "test": [
             0.9816774194,
             0.1083057223
            ]
           },
           {
            "iteration": 28,
            "learn": [
             0.9825353809,
             0.09939177751
            ],
            "passed_time": 2.461393105,
            "remaining_time": 23.00129418,
            "test": [
             0.9816774194,
             0.105195262
            ]
           },
           {
            "iteration": 29,
            "learn": [
             0.9826644298,
             0.09662273911
            ],
            "passed_time": 2.548843832,
            "remaining_time": 22.93959448,
            "test": [
             0.9816774194,
             0.1025594174
            ]
           },
           {
            "iteration": 30,
            "learn": [
             0.9826644298,
             0.09418226636
            ],
            "passed_time": 2.621447877,
            "remaining_time": 22.74740255,
            "test": [
             0.9816774194,
             0.1002806659
            ]
           },
           {
            "iteration": 31,
            "learn": [
             0.9827504624,
             0.09171301481
            ],
            "passed_time": 2.696145097,
            "remaining_time": 22.58021519,
            "test": [
             0.9816774194,
             0.0980269939
            ]
           },
           {
            "iteration": 32,
            "learn": [
             0.9829655439,
             0.08954125111
            ],
            "passed_time": 2.772708995,
            "remaining_time": 22.43373642,
            "test": [
             0.9816774194,
             0.09615322568
            ]
           },
           {
            "iteration": 33,
            "learn": [
             0.9829655439,
             0.0875272129
            ],
            "passed_time": 2.859019045,
            "remaining_time": 22.36761959,
            "test": [
             0.9818064516,
             0.09441295475
            ]
           },
           {
            "iteration": 34,
            "learn": [
             0.9830515765,
             0.08595654122
            ],
            "passed_time": 2.930876396,
            "remaining_time": 22.19092129,
            "test": [
             0.9816774194,
             0.0930769451
            ]
           },
           {
            "iteration": 35,
            "learn": [
             0.9830945929,
             0.0843399984
            ],
            "passed_time": 3.016331667,
            "remaining_time": 22.11976556,
            "test": [
             0.9818064516,
             0.09171523989
            ]
           },
           {
            "iteration": 36,
            "learn": [
             0.9830515765,
             0.08293027856
            ],
            "passed_time": 3.098348787,
            "remaining_time": 22.02339813,
            "test": [
             0.9819354839,
             0.09052714791
            ]
           },
           {
            "iteration": 37,
            "learn": [
             0.9830945929,
             0.08170465218
            ],
            "passed_time": 3.174985658,
            "remaining_time": 21.89069059,
            "test": [
             0.9819354839,
             0.08950167875
            ]
           },
           {
            "iteration": 38,
            "learn": [
             0.9831376092,
             0.08073918726
            ],
            "passed_time": 3.252436227,
            "remaining_time": 21.76630398,
            "test": [
             0.9819354839,
             0.08873144961
            ]
           },
           {
            "iteration": 39,
            "learn": [
             0.9832666581,
             0.07959343025
            ],
            "passed_time": 3.333400295,
            "remaining_time": 21.66710191,
            "test": [
             0.9818064516,
             0.08799260102
            ]
           },
           {
            "iteration": 40,
            "learn": [
             0.9832666581,
             0.07868746115
            ],
            "passed_time": 3.409084022,
            "remaining_time": 21.53543321,
            "test": [
             0.9819354839,
             0.08723575709
            ]
           },
           {
            "iteration": 41,
            "learn": [
             0.9834817396,
             0.07780659949
            ],
            "passed_time": 3.483865021,
            "remaining_time": 21.40088513,
            "test": [
             0.9819354839,
             0.08660195762
            ]
           },
           {
            "iteration": 42,
            "learn": [
             0.9835247559,
             0.07697559176
            ],
            "passed_time": 3.570413851,
            "remaining_time": 21.33945023,
            "test": [
             0.9820645161,
             0.08599387939
            ]
           },
           {
            "iteration": 43,
            "learn": [
             0.9835677722,
             0.07624014188
            ],
            "passed_time": 3.650069284,
            "remaining_time": 21.23676674,
            "test": [
             0.9820645161,
             0.08540279734
            ]
           },
           {
            "iteration": 44,
            "learn": [
             0.9836107885,
             0.07566841765
            ],
            "passed_time": 3.726081549,
            "remaining_time": 21.11446211,
            "test": [
             0.9820645161,
             0.0849011538
            ]
           },
           {
            "iteration": 45,
            "learn": [
             0.9836968211,
             0.07517658294
            ],
            "passed_time": 3.799584226,
            "remaining_time": 20.9803129,
            "test": [
             0.9820645161,
             0.08466731889
            ]
           },
           {
            "iteration": 46,
            "learn": [
             0.9836538048,
             0.07440279526
            ],
            "passed_time": 3.889392512,
            "remaining_time": 20.93651714,
            "test": [
             0.9820645161,
             0.0842991231
            ]
           },
           {
            "iteration": 47,
            "learn": [
             0.9836968211,
             0.07389963038
            ],
            "passed_time": 3.963541996,
            "remaining_time": 20.80859548,
            "test": [
             0.9820645161,
             0.08392531596
            ]
           },
           {
            "iteration": 48,
            "learn": [
             0.9837828537,
             0.0734280207
            ],
            "passed_time": 4.040712508,
            "remaining_time": 20.69834366,
            "test": [
             0.9820645161,
             0.08362004536
            ]
           },
           {
            "iteration": 49,
            "learn": [
             0.9837398374,
             0.07307940935
            ],
            "passed_time": 4.115106698,
            "remaining_time": 20.57553349,
            "test": [
             0.9821935484,
             0.08354684157
            ]
           },
           {
            "iteration": 50,
            "learn": [
             0.98382587,
             0.07265731428
            ],
            "passed_time": 4.193816914,
            "remaining_time": 20.47569435,
            "test": [
             0.9821935484,
             0.08337869211
            ]
           },
           {
            "iteration": 51,
            "learn": [
             0.98382587,
             0.07234742728
            ],
            "passed_time": 4.266628331,
            "remaining_time": 20.34853512,
            "test": [
             0.9821935484,
             0.08315285255
            ]
           },
           {
            "iteration": 52,
            "learn": [
             0.9838688863,
             0.07210571298
            ],
            "passed_time": 4.340844184,
            "remaining_time": 20.22997195,
            "test": [
             0.9821935484,
             0.08298040113
            ]
           },
           {
            "iteration": 53,
            "learn": [
             0.9838688863,
             0.07173608795
            ],
            "passed_time": 4.418187197,
            "remaining_time": 20.12729723,
            "test": [
             0.9821935484,
             0.08284764244
            ]
           },
           {
            "iteration": 54,
            "learn": [
             0.9838688863,
             0.07148938186
            ],
            "passed_time": 4.493262284,
            "remaining_time": 20.01544108,
            "test": [
             0.9821935484,
             0.08275052071
            ]
           },
           {
            "iteration": 55,
            "learn": [
             0.9838688863,
             0.0711036637
            ],
            "passed_time": 4.583138748,
            "remaining_time": 19.96939026,
            "test": [
             0.9823225806,
             0.08255862366
            ]
           },
           {
            "iteration": 56,
            "learn": [
             0.9838688863,
             0.07073675833
            ],
            "passed_time": 4.658685909,
            "remaining_time": 19.86071361,
            "test": [
             0.9823225806,
             0.08240235101
            ]
           },
           {
            "iteration": 57,
            "learn": [
             0.9838688863,
             0.07044176752
            ],
            "passed_time": 4.736212906,
            "remaining_time": 19.76144005,
            "test": [
             0.9824516129,
             0.08223659217
            ]
           },
           {
            "iteration": 58,
            "learn": [
             0.98382587,
             0.07023333735
            ],
            "passed_time": 4.80897345,
            "remaining_time": 19.64343392,
            "test": [
             0.9824516129,
             0.08216874411
            ]
           },
           {
            "iteration": 59,
            "learn": [
             0.9838688863,
             0.06998719358
            ],
            "passed_time": 4.896973748,
            "remaining_time": 19.58789499,
            "test": [
             0.9824516129,
             0.08208987318
            ]
           },
           {
            "iteration": 60,
            "learn": [
             0.9839549189,
             0.06979033931
            ],
            "passed_time": 4.972760654,
            "remaining_time": 19.48343928,
            "test": [
             0.9824516129,
             0.08200548659
            ]
           },
           {
            "iteration": 61,
            "learn": [
             0.9839979352,
             0.06956991447
            ],
            "passed_time": 5.058938739,
            "remaining_time": 19.4197971,
            "test": [
             0.9824516129,
             0.08198008105
            ]
           },
           {
            "iteration": 62,
            "learn": [
             0.9840409515,
             0.06930896456
            ],
            "passed_time": 5.134249297,
            "remaining_time": 19.31455688,
            "test": [
             0.9824516129,
             0.08183788947
            ]
           },
           {
            "iteration": 63,
            "learn": [
             0.9840409515,
             0.06916445308
            ],
            "passed_time": 5.213310788,
            "remaining_time": 19.22408353,
            "test": [
             0.9824516129,
             0.08179089574
            ]
           },
           {
            "iteration": 64,
            "learn": [
             0.9841269841,
             0.06888968456
            ],
            "passed_time": 5.28834407,
            "remaining_time": 19.11939779,
            "test": [
             0.9824516129,
             0.08178020366
            ]
           },
           {
            "iteration": 65,
            "learn": [
             0.9841700004,
             0.06875238544
            ],
            "passed_time": 5.364484783,
            "remaining_time": 19.01953696,
            "test": [
             0.9824516129,
             0.0817176426
            ]
           },
           {
            "iteration": 66,
            "learn": [
             0.9842130167,
             0.06868652897
            ],
            "passed_time": 5.439371126,
            "remaining_time": 18.91602198,
            "test": [
             0.9824516129,
             0.0816572139
            ]
           },
           {
            "iteration": 67,
            "learn": [
             0.9842130167,
             0.06857604784
            ],
            "passed_time": 5.513156385,
            "remaining_time": 18.80959237,
            "test": [
             0.9823225806,
             0.08160475352
            ]
           },
           {
            "iteration": 68,
            "learn": [
             0.9842990493,
             0.06836895061
            ],
            "passed_time": 5.599970388,
            "remaining_time": 18.74772695,
            "test": [
             0.9823225806,
             0.08155574532
            ]
           },
           {
            "iteration": 69,
            "learn": [
             0.9843420656,
             0.06820849796
            ],
            "passed_time": 5.68091901,
            "remaining_time": 18.66587675,
            "test": [
             0.9824516129,
             0.08148819458
            ]
           },
           {
            "iteration": 70,
            "learn": [
             0.9844711146,
             0.06798290677
            ],
            "passed_time": 5.760908248,
            "remaining_time": 18.58095759,
            "test": [
             0.9823225806,
             0.08151209678
            ]
           },
           {
            "iteration": 71,
            "learn": [
             0.9844280982,
             0.06784987253
            ],
            "passed_time": 5.835853128,
            "remaining_time": 18.48020157,
            "test": [
             0.9824516129,
             0.08147465109
            ]
           },
           {
            "iteration": 72,
            "learn": [
             0.9844280982,
             0.06766043924
            ],
            "passed_time": 5.926098973,
            "remaining_time": 18.42773242,
            "test": [
             0.9824516129,
             0.08141428679
            ]
           },
           {
            "iteration": 73,
            "learn": [
             0.9845141309,
             0.06749627299
            ],
            "passed_time": 6.003889618,
            "remaining_time": 18.33620343,
            "test": [
             0.9823225806,
             0.08138800836
            ]
           },
           {
            "iteration": 74,
            "learn": [
             0.9845571472,
             0.06738398166
            ],
            "passed_time": 6.077866932,
            "remaining_time": 18.23360079,
            "test": [
             0.9824516129,
             0.08136246656
            ]
           },
           {
            "iteration": 75,
            "learn": [
             0.9846001635,
             0.06723739966
            ],
            "passed_time": 6.155242393,
            "remaining_time": 18.14176705,
            "test": [
             0.9824516129,
             0.08129936761
            ]
           },
           {
            "iteration": 76,
            "learn": [
             0.9846431798,
             0.06705240309
            ],
            "passed_time": 6.231939534,
            "remaining_time": 18.04834436,
            "test": [
             0.9824516129,
             0.08132529752
            ]
           },
           {
            "iteration": 77,
            "learn": [
             0.9846861961,
             0.06692144494
            ],
            "passed_time": 6.307311376,
            "remaining_time": 17.95157853,
            "test": [
             0.9824516129,
             0.08133094453
            ]
           },
           {
            "iteration": 78,
            "learn": [
             0.984815245,
             0.06673412511
            ],
            "passed_time": 6.384115319,
            "remaining_time": 17.85936058,
            "test": [
             0.9825806452,
             0.08129595858
            ]
           },
           {
            "iteration": 79,
            "learn": [
             0.9848582613,
             0.06659258128
            ],
            "passed_time": 6.461602836,
            "remaining_time": 17.7694078,
            "test": [
             0.9825806452,
             0.08126726014
            ]
           },
           {
            "iteration": 80,
            "learn": [
             0.9849873102,
             0.06644727475
            ],
            "passed_time": 6.534453145,
            "remaining_time": 17.66722517,
            "test": [
             0.9825806452,
             0.08121840164
            ]
           },
           {
            "iteration": 81,
            "learn": [
             0.9849873102,
             0.06631671404
            ],
            "passed_time": 6.634162709,
            "remaining_time": 17.63716428,
            "test": [
             0.9825806452,
             0.08119685666
            ]
           },
           {
            "iteration": 82,
            "learn": [
             0.9849442939,
             0.06610728899
            ],
            "passed_time": 6.707142245,
            "remaining_time": 17.53554057,
            "test": [
             0.9824516129,
             0.0812178163
            ]
           },
           {
            "iteration": 83,
            "learn": [
             0.9849873102,
             0.06598599128
            ],
            "passed_time": 6.781621594,
            "remaining_time": 17.43845553,
            "test": [
             0.9824516129,
             0.08119589328
            ]
           },
           {
            "iteration": 84,
            "learn": [
             0.9851163591,
             0.06578606435
            ],
            "passed_time": 6.854007569,
            "remaining_time": 17.33660738,
            "test": [
             0.9824516129,
             0.08115303188
            ]
           },
           {
            "iteration": 85,
            "learn": [
             0.9851593754,
             0.06565964674
            ],
            "passed_time": 6.944578407,
            "remaining_time": 17.28069511,
            "test": [
             0.9824516129,
             0.08115169938
            ]
           },
           {
            "iteration": 86,
            "learn": [
             0.9851593754,
             0.06553549028
            ],
            "passed_time": 7.017984917,
            "remaining_time": 17.18196307,
            "test": [
             0.9824516129,
             0.08114923496
            ]
           },
           {
            "iteration": 87,
            "learn": [
             0.9851593754,
             0.06535565868
            ],
            "passed_time": 7.097279929,
            "remaining_time": 17.09799256,
            "test": [
             0.9824516129,
             0.08115031778
            ]
           },
           {
            "iteration": 88,
            "learn": [
             0.985245408,
             0.06511615672
            ],
            "passed_time": 7.170692457,
            "remaining_time": 17.00018099,
            "test": [
             0.9824516129,
             0.08107335696
            ]
           },
           {
            "iteration": 89,
            "learn": [
             0.985245408,
             0.06497437311
            ],
            "passed_time": 7.246316095,
            "remaining_time": 16.90807089,
            "test": [
             0.9824516129,
             0.08101982627
            ]
           },
           {
            "iteration": 90,
            "learn": [
             0.9852023917,
             0.06486603516
            ],
            "passed_time": 7.322609875,
            "remaining_time": 16.81786224,
            "test": [
             0.9823225806,
             0.08104345384
            ]
           },
           {
            "iteration": 91,
            "learn": [
             0.9852884243,
             0.06474994818
            ],
            "passed_time": 7.404510467,
            "remaining_time": 16.74063236,
            "test": [
             0.9823225806,
             0.08101715841
            ]
           },
           {
            "iteration": 92,
            "learn": [
             0.9852884243,
             0.06465278778
            ],
            "passed_time": 7.475670322,
            "remaining_time": 16.63939523,
            "test": [
             0.9823225806,
             0.08100311276
            ]
           },
           {
            "iteration": 93,
            "learn": [
             0.9852884243,
             0.06445721137
            ],
            "passed_time": 7.552401706,
            "remaining_time": 16.551008,
            "test": [
             0.9823225806,
             0.08100032413
            ]
           },
           {
            "iteration": 94,
            "learn": [
             0.9853744569,
             0.06436230275
            ],
            "passed_time": 7.643610921,
            "remaining_time": 16.49410778,
            "test": [
             0.9823225806,
             0.08097322398
            ]
           },
           {
            "iteration": 95,
            "learn": [
             0.9853744569,
             0.06427289469
            ],
            "passed_time": 7.721623771,
            "remaining_time": 16.40845051,
            "test": [
             0.9823225806,
             0.0809885924
            ]
           },
           {
            "iteration": 96,
            "learn": [
             0.9853314406,
             0.06418479172
            ],
            "passed_time": 7.793890976,
            "remaining_time": 16.31092648,
            "test": [
             0.9823225806,
             0.08096884677
            ]
           },
           {
            "iteration": 97,
            "learn": [
             0.9853744569,
             0.06399024325
            ],
            "passed_time": 7.871316018,
            "remaining_time": 16.22454934,
            "test": [
             0.9823225806,
             0.08089858774
            ]
           },
           {
            "iteration": 98,
            "learn": [
             0.9853744569,
             0.0638643389
            ],
            "passed_time": 7.960136151,
            "remaining_time": 16.16148855,
            "test": [
             0.9823225806,
             0.08093312772
            ]
           },
           {
            "iteration": 99,
            "learn": [
             0.9854604895,
             0.06381722816
            ],
            "passed_time": 8.035155139,
            "remaining_time": 16.07031028,
            "test": [
             0.9823225806,
             0.08091807388
            ]
           },
           {
            "iteration": 100,
            "learn": [
             0.9855465221,
             0.06369240313
            ],
            "passed_time": 8.109767955,
            "remaining_time": 15.97865171,
            "test": [
             0.9823225806,
             0.08094280225
            ]
           },
           {
            "iteration": 101,
            "learn": [
             0.9856325547,
             0.06356598606
            ],
            "passed_time": 8.181293564,
            "remaining_time": 15.88133457,
            "test": [
             0.9823225806,
             0.08090996201
            ]
           },
           {
            "iteration": 102,
            "learn": [
             0.985675571,
             0.0634323978
            ],
            "passed_time": 8.261786207,
            "remaining_time": 15.80166876,
            "test": [
             0.9823225806,
             0.08097171308
            ]
           },
           {
            "iteration": 103,
            "learn": [
             0.985675571,
             0.06336902892
            ],
            "passed_time": 8.332910738,
            "remaining_time": 15.70433178,
            "test": [
             0.9823225806,
             0.08094640629
            ]
           },
           {
            "iteration": 104,
            "learn": [
             0.985675571,
             0.06331692958
            ],
            "passed_time": 8.406364245,
            "remaining_time": 15.61181931,
            "test": [
             0.9823225806,
             0.08091249213
            ]
           },
           {
            "iteration": 105,
            "learn": [
             0.985675571,
             0.06324186653
            ],
            "passed_time": 8.482523532,
            "remaining_time": 15.52461854,
            "test": [
             0.9824516129,
             0.08092152128
            ]
           },
           {
            "iteration": 106,
            "learn": [
             0.9857185873,
             0.06311935651
            ],
            "passed_time": 8.559891068,
            "remaining_time": 15.43980351,
            "test": [
             0.9824516129,
             0.08086718169
            ]
           },
           {
            "iteration": 107,
            "learn": [
             0.985675571,
             0.06304771639
            ],
            "passed_time": 8.634065536,
            "remaining_time": 15.34944984,
            "test": [
             0.9824516129,
             0.08085887308
            ]
           },
           {
            "iteration": 108,
            "learn": [
             0.985675571,
             0.06298700347
            ],
            "passed_time": 8.724281057,
            "remaining_time": 15.28750167,
            "test": [
             0.9824516129,
             0.08083876738
            ]
           },
           {
            "iteration": 109,
            "learn": [
             0.985675571,
             0.06290495564
            ],
            "passed_time": 8.800220878,
            "remaining_time": 15.20038152,
            "test": [
             0.9824516129,
             0.08086675726
            ]
           },
           {
            "iteration": 110,
            "learn": [
             0.9857185873,
             0.06285418994
            ],
            "passed_time": 8.870720763,
            "remaining_time": 15.10420022,
            "test": [
             0.9824516129,
             0.08087656399
            ]
           },
           {
            "iteration": 111,
            "learn": [
             0.9856325547,
             0.06268539971
            ],
            "passed_time": 8.959414132,
            "remaining_time": 15.03901658,
            "test": [
             0.9824516129,
             0.08088802236
            ]
           },
           {
            "iteration": 112,
            "learn": [
             0.9856325547,
             0.06260863154
            ],
            "passed_time": 9.033850403,
            "remaining_time": 14.94982323,
            "test": [
             0.9824516129,
             0.08091127362
            ]
           },
           {
            "iteration": 113,
            "learn": [
             0.9856325547,
             0.06249363171
            ],
            "passed_time": 9.109424023,
            "remaining_time": 14.86274446,
            "test": [
             0.9824516129,
             0.08094809906
            ]
           },
           {
            "iteration": 114,
            "learn": [
             0.9856325547,
             0.06233765515
            ],
            "passed_time": 9.187670109,
            "remaining_time": 14.78016496,
            "test": [
             0.9825806452,
             0.08104063645
            ]
           },
           {
            "iteration": 115,
            "learn": [
             0.9856325547,
             0.06224453797
            ],
            "passed_time": 9.260983004,
            "remaining_time": 14.68983511,
            "test": [
             0.9825806452,
             0.08105574756
            ]
           },
           {
            "iteration": 116,
            "learn": [
             0.985675571,
             0.06214063303
            ],
            "passed_time": 9.338120746,
            "remaining_time": 14.6057786,
            "test": [
             0.9825806452,
             0.08104685384
            ]
           },
           {
            "iteration": 117,
            "learn": [
             0.985675571,
             0.06201100869
            ],
            "passed_time": 9.414431363,
            "remaining_time": 14.52056363,
            "test": [
             0.9825806452,
             0.08103455884
            ]
           },
           {
            "iteration": 118,
            "learn": [
             0.985675571,
             0.06193448017
            ],
            "passed_time": 9.496173973,
            "remaining_time": 14.44376041,
            "test": [
             0.9825806452,
             0.08101581138
            ]
           },
           {
            "iteration": 119,
            "learn": [
             0.985675571,
             0.0618070479
            ],
            "passed_time": 9.572971193,
            "remaining_time": 14.35945679,
            "test": [
             0.9825806452,
             0.08103413591
            ]
           },
           {
            "iteration": 120,
            "learn": [
             0.9857616036,
             0.0616894852
            ],
            "passed_time": 9.652016422,
            "remaining_time": 14.27860281,
            "test": [
             0.9825806452,
             0.08108949695
            ]
           },
           {
            "iteration": 121,
            "learn": [
             0.9857616036,
             0.06163203012
            ],
            "passed_time": 9.73888078,
            "remaining_time": 14.20918671,
            "test": [
             0.9825806452,
             0.08111375082
            ]
           },
           {
            "iteration": 122,
            "learn": [
             0.985675571,
             0.06153300139
            ],
            "passed_time": 9.813849222,
            "remaining_time": 14.12236839,
            "test": [
             0.9825806452,
             0.08108888447
            ]
           },
           {
            "iteration": 123,
            "learn": [
             0.9857185873,
             0.06146699026
            ],
            "passed_time": 9.886236927,
            "remaining_time": 14.03207822,
            "test": [
             0.9825806452,
             0.08108602438
            ]
           },
           {
            "iteration": 124,
            "learn": [
             0.9857185873,
             0.06131097365
            ],
            "passed_time": 9.981898038,
            "remaining_time": 13.97465725,
            "test": [
             0.9825806452,
             0.08105484036
            ]
           },
           {
            "iteration": 125,
            "learn": [
             0.9857616036,
             0.06123579601
            ],
            "passed_time": 10.05976875,
            "remaining_time": 13.8920616,
            "test": [
             0.9825806452,
             0.08102234651
            ]
           },
           {
            "iteration": 126,
            "learn": [
             0.98580462,
             0.06108285195
            ],
            "passed_time": 10.13730561,
            "remaining_time": 13.8090856,
            "test": [
             0.9825806452,
             0.08100194938
            ]
           },
           {
            "iteration": 127,
            "learn": [
             0.9857185873,
             0.06095529483
            ],
            "passed_time": 10.21426889,
            "remaining_time": 13.72542382,
            "test": [
             0.9825806452,
             0.0810070386
            ]
           },
           {
            "iteration": 128,
            "learn": [
             0.9857185873,
             0.06084234845
            ],
            "passed_time": 10.29377046,
            "remaining_time": 13.64523061,
            "test": [
             0.9825806452,
             0.0809820623
            ]
           },
           {
            "iteration": 129,
            "learn": [
             0.9857185873,
             0.06077117931
            ],
            "passed_time": 10.36914615,
            "remaining_time": 13.55965266,
            "test": [
             0.9825806452,
             0.08099925099
            ]
           },
           {
            "iteration": 130,
            "learn": [
             0.9857185873,
             0.06066592296
            ],
            "passed_time": 10.44527924,
            "remaining_time": 13.47520757,
            "test": [
             0.9825806452,
             0.08105034447
            ]
           },
           {
            "iteration": 131,
            "learn": [
             0.9857616036,
             0.06052962117
            ],
            "passed_time": 10.52964098,
            "remaining_time": 13.40136125,
            "test": [
             0.9825806452,
             0.08102587738
            ]
           },
           {
            "iteration": 132,
            "learn": [
             0.9858476363,
             0.06040331769
            ],
            "passed_time": 10.6109508,
            "remaining_time": 13.32352469,
            "test": [
             0.9825806452,
             0.08103607803
            ]
           },
           {
            "iteration": 133,
            "learn": [
             0.98580462,
             0.06033301328
            ],
            "passed_time": 10.69287517,
            "remaining_time": 13.2463976,
            "test": [
             0.9825806452,
             0.08106735889
            ]
           },
           {
            "iteration": 134,
            "learn": [
             0.9858476363,
             0.06025796016
            ],
            "passed_time": 10.77332337,
            "remaining_time": 13.16739524,
            "test": [
             0.9825806452,
             0.08106291793
            ]
           },
           {
            "iteration": 135,
            "learn": [
             0.9859336689,
             0.06014506441
            ],
            "passed_time": 10.84959207,
            "remaining_time": 13.08333162,
            "test": [
             0.9825806452,
             0.08103712344
            ]
           },
           {
            "iteration": 136,
            "learn": [
             0.9859336689,
             0.06003878484
            ],
            "passed_time": 10.93540889,
            "remaining_time": 13.01074196,
            "test": [
             0.9825806452,
             0.08101370296
            ]
           },
           {
            "iteration": 137,
            "learn": [
             0.9859336689,
             0.05993665671
            ],
            "passed_time": 11.01936172,
            "remaining_time": 12.93577245,
            "test": [
             0.9825806452,
             0.08101177171
            ]
           },
           {
            "iteration": 138,
            "learn": [
             0.9858906526,
             0.05988019417
            ],
            "passed_time": 11.09123227,
            "remaining_time": 12.8466791,
            "test": [
             0.9825806452,
             0.08102564675
            ]
           },
           {
            "iteration": 139,
            "learn": [
             0.9859336689,
             0.05980551746
            ],
            "passed_time": 11.1677859,
            "remaining_time": 12.76318389,
            "test": [
             0.9825806452,
             0.08097274335
            ]
           },
           {
            "iteration": 140,
            "learn": [
             0.9858906526,
             0.05970616591
            ],
            "passed_time": 11.24207153,
            "remaining_time": 12.6772296,
            "test": [
             0.9825806452,
             0.08098703834
            ]
           },
           {
            "iteration": 141,
            "learn": [
             0.9858906526,
             0.05964551763
            ],
            "passed_time": 11.31520726,
            "remaining_time": 12.5901602,
            "test": [
             0.9825806452,
             0.08097723988
            ]
           },
           {
            "iteration": 142,
            "learn": [
             0.9859766852,
             0.0595782506
            ],
            "passed_time": 11.38637542,
            "remaining_time": 12.50112547,
            "test": [
             0.9825806452,
             0.0809643376
            ]
           },
           {
            "iteration": 143,
            "learn": [
             0.9859766852,
             0.05948383878
            ],
            "passed_time": 11.4626709,
            "remaining_time": 12.41789347,
            "test": [
             0.9825806452,
             0.08096422697
            ]
           },
           {
            "iteration": 144,
            "learn": [
             0.9859336689,
             0.05937479393
            ],
            "passed_time": 11.54000581,
            "remaining_time": 12.33586828,
            "test": [
             0.9825806452,
             0.080962656
            ]
           },
           {
            "iteration": 145,
            "learn": [
             0.9859766852,
             0.05927700993
            ],
            "passed_time": 11.61255876,
            "remaining_time": 12.24886335,
            "test": [
             0.9825806452,
             0.08098761586
            ]
           },
           {
            "iteration": 146,
            "learn": [
             0.9859336689,
             0.05919084412
            ],
            "passed_time": 11.68941125,
            "remaining_time": 12.16653008,
            "test": [
             0.9825806452,
             0.08101200845
            ]
           },
           {
            "iteration": 147,
            "learn": [
             0.9860197015,
             0.05911309098
            ],
            "passed_time": 11.77940172,
            "remaining_time": 12.09776393,
            "test": [
             0.9827096774,
             0.08099846258
            ]
           },
           {
            "iteration": 148,
            "learn": [
             0.9859766852,
             0.05902776308
            ],
            "passed_time": 11.85493527,
            "remaining_time": 12.01406192,
            "test": [
             0.9827096774,
             0.08098237487
            ]
           },
           {
            "iteration": 149,
            "learn": [
             0.9860197015,
             0.05895672267
            ],
            "passed_time": 11.9297398,
            "remaining_time": 11.9297398,
            "test": [
             0.9827096774,
             0.08097538108
            ]
           },
           {
            "iteration": 150,
            "learn": [
             0.9860627178,
             0.05880104954
            ],
            "passed_time": 12.027718,
            "remaining_time": 11.86841048,
            "test": [
             0.9825806452,
             0.08094257978
            ]
           },
           {
            "iteration": 151,
            "learn": [
             0.9860627178,
             0.05871774035
            ],
            "passed_time": 12.10443259,
            "remaining_time": 11.78589489,
            "test": [
             0.9825806452,
             0.08097158441
            ]
           },
           {
            "iteration": 152,
            "learn": [
             0.9860627178,
             0.05861589224
            ],
            "passed_time": 12.21324129,
            "remaining_time": 11.73429065,
            "test": [
             0.9824516129,
             0.08095959548
            ]
           },
           {
            "iteration": 153,
            "learn": [
             0.9860197015,
             0.05849638158
            ],
            "passed_time": 12.29584065,
            "remaining_time": 11.65709568,
            "test": [
             0.9824516129,
             0.08098884115
            ]
           },
           {
            "iteration": 154,
            "learn": [
             0.9860627178,
             0.05838443195
            ],
            "passed_time": 12.37962348,
            "remaining_time": 11.58093809,
            "test": [
             0.9824516129,
             0.08103006433
            ]
           },
           {
            "iteration": 155,
            "learn": [
             0.9861917667,
             0.05828070841
            ],
            "passed_time": 12.45613428,
            "remaining_time": 11.4979701,
            "test": [
             0.9823225806,
             0.0810337348
            ]
           },
           {
            "iteration": 156,
            "learn": [
             0.9861917667,
             0.05824825958
            ],
            "passed_time": 12.53042959,
            "remaining_time": 11.41306644,
            "test": [
             0.9823225806,
             0.0810514023
            ]
           },
           {
            "iteration": 157,
            "learn": [
             0.9861487504,
             0.05813524667
            ],
            "passed_time": 12.61478016,
            "remaining_time": 11.33733407,
            "test": [
             0.9823225806,
             0.08105435488
            ]
           },
           {
            "iteration": 158,
            "learn": [
             0.9861917667,
             0.05807143603
            ],
            "passed_time": 12.69254755,
            "remaining_time": 11.25565537,
            "test": [
             0.9821935484,
             0.08107627897
            ]
           },
           {
            "iteration": 159,
            "learn": [
             0.9862777993,
             0.05797464284
            ],
            "passed_time": 12.77882663,
            "remaining_time": 11.1814733,
            "test": [
             0.9821935484,
             0.08107578696
            ]
           },
           {
            "iteration": 160,
            "learn": [
             0.986234783,
             0.05787835767
            ],
            "passed_time": 12.85398552,
            "remaining_time": 11.09754029,
            "test": [
             0.9823225806,
             0.081064267
            ]
           },
           {
            "iteration": 161,
            "learn": [
             0.9862777993,
             0.05780524223
            ],
            "passed_time": 12.92720958,
            "remaining_time": 11.01206742,
            "test": [
             0.9823225806,
             0.08107280842
            ]
           },
           {
            "iteration": 162,
            "learn": [
             0.9862777993,
             0.05776120716
            ],
            "passed_time": 13.02306247,
            "remaining_time": 10.94576416,
            "test": [
             0.9823225806,
             0.08108176223
            ]
           },
           {
            "iteration": 163,
            "learn": [
             0.9863208156,
             0.05767548512
            ],
            "passed_time": 13.09748707,
            "remaining_time": 10.86133074,
            "test": [
             0.9821935484,
             0.08106586169
            ]
           },
           {
            "iteration": 164,
            "learn": [
             0.9863638319,
             0.0575184317
            ],
            "passed_time": 13.17395591,
            "remaining_time": 10.7786912,
            "test": [
             0.9821935484,
             0.08104148784
            ]
           },
           {
            "iteration": 165,
            "learn": [
             0.9864068482,
             0.05735277804
            ],
            "passed_time": 13.25233291,
            "remaining_time": 10.69766633,
            "test": [
             0.9821935484,
             0.08104234601
            ]
           },
           {
            "iteration": 166,
            "learn": [
             0.9864068482,
             0.05727577319
            ],
            "passed_time": 13.33312191,
            "remaining_time": 10.61859409,
            "test": [
             0.9821935484,
             0.08104466203
            ]
           },
           {
            "iteration": 167,
            "learn": [
             0.9864498645,
             0.05722534294
            ],
            "passed_time": 13.40546639,
            "remaining_time": 10.53286645,
            "test": [
             0.9821935484,
             0.08103043035
            ]
           },
           {
            "iteration": 168,
            "learn": [
             0.9864498645,
             0.05714181682
            ],
            "passed_time": 13.48084258,
            "remaining_time": 10.44964721,
            "test": [
             0.9820645161,
             0.08101949193
            ]
           },
           {
            "iteration": 169,
            "learn": [
             0.9864498645,
             0.05703632967
            ],
            "passed_time": 13.55865621,
            "remaining_time": 10.36838416,
            "test": [
             0.9820645161,
             0.08103601155
            ]
           },
           {
            "iteration": 170,
            "learn": [
             0.9865789134,
             0.05691071993
            ],
            "passed_time": 13.63982462,
            "remaining_time": 10.28969226,
            "test": [
             0.9820645161,
             0.08108533063
            ]
           },
           {
            "iteration": 171,
            "learn": [
             0.986664946,
             0.05683163946
            ],
            "passed_time": 13.7146837,
            "remaining_time": 10.20627624,
            "test": [
             0.9820645161,
             0.08106420898
            ]
           },
           {
            "iteration": 172,
            "learn": [
             0.9866219297,
             0.05665688985
            ],
            "passed_time": 13.80122935,
            "remaining_time": 10.13153831,
            "test": [
             0.9820645161,
             0.08102994148
            ]
           },
           {
            "iteration": 173,
            "learn": [
             0.9867079623,
             0.05653836145
            ],
            "passed_time": 13.87628809,
            "remaining_time": 10.04834655,
            "test": [
             0.9820645161,
             0.08098334676
            ]
           },
           {
            "iteration": 174,
            "learn": [
             0.9867079623,
             0.05649767482
            ],
            "passed_time": 13.94873754,
            "remaining_time": 9.963383961,
            "test": [
             0.9821935484,
             0.08096949554
            ]
           },
           {
            "iteration": 175,
            "learn": [
             0.9866219297,
             0.05640950047
            ],
            "passed_time": 14.04308142,
            "remaining_time": 9.893989185,
            "test": [
             0.9820645161,
             0.080947846
            ]
           },
           {
            "iteration": 176,
            "learn": [
             0.9867079623,
             0.05632879893
            ],
            "passed_time": 14.11507476,
            "remaining_time": 9.808780769,
            "test": [
             0.9821935484,
             0.08089373797
            ]
           },
           {
            "iteration": 177,
            "learn": [
             0.9867509786,
             0.05625830677
            ],
            "passed_time": 14.19123993,
            "remaining_time": 9.726580175,
            "test": [
             0.9821935484,
             0.08088193717
            ]
           },
           {
            "iteration": 178,
            "learn": [
             0.9867509786,
             0.05621320511
            ],
            "passed_time": 14.26859451,
            "remaining_time": 9.645251035,
            "test": [
             0.9821935484,
             0.08087343198
            ]
           },
           {
            "iteration": 179,
            "learn": [
             0.9867079623,
             0.05611328448
            ],
            "passed_time": 14.34289034,
            "remaining_time": 9.561926897,
            "test": [
             0.9821935484,
             0.08090373756
            ]
           },
           {
            "iteration": 180,
            "learn": [
             0.9867509786,
             0.05603850473
            ],
            "passed_time": 14.41628896,
            "remaining_time": 9.478112633,
            "test": [
             0.9821935484,
             0.08092848054
            ]
           },
           {
            "iteration": 181,
            "learn": [
             0.9867939949,
             0.05599108794
            ],
            "passed_time": 14.49212989,
            "remaining_time": 9.3959963,
            "test": [
             0.9820645161,
             0.08097100577
            ]
           },
           {
            "iteration": 182,
            "learn": [
             0.9868370112,
             0.05588881886
            ],
            "passed_time": 14.56659885,
            "remaining_time": 9.313071396,
            "test": [
             0.9821935484,
             0.08103920176
            ]
           },
           {
            "iteration": 183,
            "learn": [
             0.9869660601,
             0.0557913586
            ],
            "passed_time": 14.64050725,
            "remaining_time": 9.229885003,
            "test": [
             0.9821935484,
             0.08104942544
            ]
           },
           {
            "iteration": 184,
            "learn": [
             0.9870090764,
             0.05573217426
            ],
            "passed_time": 14.71548953,
            "remaining_time": 9.147466467,
            "test": [
             0.9821935484,
             0.08105777122
            ]
           },
           {
            "iteration": 185,
            "learn": [
             0.9870520927,
             0.05565753196
            ],
            "passed_time": 14.80029721,
            "remaining_time": 9.071149904,
            "test": [
             0.9821935484,
             0.08102405766
            ]
           },
           {
            "iteration": 186,
            "learn": [
             0.987095109,
             0.05559208546
            ],
            "passed_time": 14.87678175,
            "remaining_time": 8.989713038,
            "test": [
             0.9821935484,
             0.08104582075
            ]
           },
           {
            "iteration": 187,
            "learn": [
             0.9870090764,
             0.05548727339
            ],
            "passed_time": 14.95238643,
            "remaining_time": 8.907804684,
            "test": [
             0.9823225806,
             0.0810253402
            ]
           },
           {
            "iteration": 188,
            "learn": [
             0.9869660601,
             0.05542215323
            ],
            "passed_time": 15.04261129,
            "remaining_time": 8.834549489,
            "test": [
             0.9823225806,
             0.0809822485
            ]
           },
           {
            "iteration": 189,
            "learn": [
             0.9870520927,
             0.05530899617
            ],
            "passed_time": 15.12785244,
            "remaining_time": 8.758230361,
            "test": [
             0.9823225806,
             0.08099487311
            ]
           },
           {
            "iteration": 190,
            "learn": [
             0.9870090764,
             0.05521739933
            ],
            "passed_time": 15.20179572,
            "remaining_time": 8.675370332,
            "test": [
             0.9823225806,
             0.08102801837
            ]
           },
           {
            "iteration": 191,
            "learn": [
             0.987095109,
             0.05511179811
            ],
            "passed_time": 15.28068537,
            "remaining_time": 8.595385523,
            "test": [
             0.9823225806,
             0.08102776397
            ]
           },
           {
            "iteration": 192,
            "learn": [
             0.9870520927,
             0.05503816798
            ],
            "passed_time": 15.35498706,
            "remaining_time": 8.512868476,
            "test": [
             0.9821935484,
             0.08105818899
            ]
           },
           {
            "iteration": 193,
            "learn": [
             0.9871381253,
             0.05496999458
            ],
            "passed_time": 15.43554548,
            "remaining_time": 8.433854745,
            "test": [
             0.9821935484,
             0.08105988656
            ]
           },
           {
            "iteration": 194,
            "learn": [
             0.9871381253,
             0.05491322448
            ],
            "passed_time": 15.50997394,
            "remaining_time": 8.351524429,
            "test": [
             0.9821935484,
             0.08099699175
            ]
           },
           {
            "iteration": 195,
            "learn": [
             0.9871381253,
             0.05483554026
            ],
            "passed_time": 15.59279153,
            "remaining_time": 8.273726119,
            "test": [
             0.9820645161,
             0.08099053959
            ]
           },
           {
            "iteration": 196,
            "learn": [
             0.9871381253,
             0.05479305387
            ],
            "passed_time": 15.66598015,
            "remaining_time": 8.190842411,
            "test": [
             0.9820645161,
             0.08100211325
            ]
           },
           {
            "iteration": 197,
            "learn": [
             0.987095109,
             0.05474077119
            ],
            "passed_time": 15.74156914,
            "remaining_time": 8.109293195,
            "test": [
             0.9820645161,
             0.08102910002
            ]
           },
           {
            "iteration": 198,
            "learn": [
             0.987095109,
             0.05467434001
            ],
            "passed_time": 15.82365245,
            "remaining_time": 8.031099987,
            "test": [
             0.9821935484,
             0.08099518856
            ]
           },
           {
            "iteration": 199,
            "learn": [
             0.987095109,
             0.05463324234
            ],
            "passed_time": 15.89823628,
            "remaining_time": 7.94911814,
            "test": [
             0.9821935484,
             0.08099041178
            ]
           },
           {
            "iteration": 200,
            "learn": [
             0.987095109,
             0.05458060395
            ],
            "passed_time": 15.97212146,
            "remaining_time": 7.866865794,
            "test": [
             0.9821935484,
             0.08097326459
            ]
           },
           {
            "iteration": 201,
            "learn": [
             0.987095109,
             0.05451791082
            ],
            "passed_time": 16.06510003,
            "remaining_time": 7.793959422,
            "test": [
             0.9821935484,
             0.08098336277
            ]
           },
           {
            "iteration": 202,
            "learn": [
             0.987095109,
             0.05443449403
            ],
            "passed_time": 16.15389795,
            "remaining_time": 7.718857642,
            "test": [
             0.9821935484,
             0.08099734702
            ]
           },
           {
            "iteration": 203,
            "learn": [
             0.987095109,
             0.05434315415
            ],
            "passed_time": 16.22549767,
            "remaining_time": 7.635528315,
            "test": [
             0.9821935484,
             0.0810119534
            ]
           },
           {
            "iteration": 204,
            "learn": [
             0.987095109,
             0.0543051194
            ],
            "passed_time": 16.31521845,
            "remaining_time": 7.560710988,
            "test": [
             0.9821935484,
             0.08103519415
            ]
           },
           {
            "iteration": 205,
            "learn": [
             0.987224158,
             0.05418031514
            ],
            "passed_time": 16.39379965,
            "remaining_time": 7.480665858,
            "test": [
             0.9821935484,
             0.08109780893
            ]
           },
           {
            "iteration": 206,
            "learn": [
             0.9871811417,
             0.0540319516
            ],
            "passed_time": 16.47208567,
            "remaining_time": 7.400502259,
            "test": [
             0.9821935484,
             0.08109299915
            ]
           },
           {
            "iteration": 207,
            "learn": [
             0.9872671743,
             0.05395849769
            ],
            "passed_time": 16.54637855,
            "remaining_time": 7.318590511,
            "test": [
             0.9821935484,
             0.08112475275
            ]
           },
           {
            "iteration": 208,
            "learn": [
             0.9872671743,
             0.05392902493
            ],
            "passed_time": 16.62087492,
            "remaining_time": 7.236840276,
            "test": [
             0.9821935484,
             0.08111585319
            ]
           },
           {
            "iteration": 209,
            "learn": [
             0.9872671743,
             0.05388267786
            ],
            "passed_time": 16.69752845,
            "remaining_time": 7.15608362,
            "test": [
             0.9821935484,
             0.0811405289
            ]
           },
           {
            "iteration": 210,
            "learn": [
             0.9873101906,
             0.0538093407
            ],
            "passed_time": 16.77326442,
            "remaining_time": 7.07497883,
            "test": [
             0.9821935484,
             0.08116532866
            ]
           },
           {
            "iteration": 211,
            "learn": [
             0.9873532069,
             0.05377370136
            ],
            "passed_time": 16.85771378,
            "remaining_time": 6.997541567,
            "test": [
             0.9820645161,
             0.08119301222
            ]
           },
           {
            "iteration": 212,
            "learn": [
             0.9873101906,
             0.05369437126
            ],
            "passed_time": 16.93269145,
            "remaining_time": 6.916169746,
            "test": [
             0.9820645161,
             0.08116221713
            ]
           },
           {
            "iteration": 213,
            "learn": [
             0.9872671743,
             0.05363965992
            ],
            "passed_time": 17.00821092,
            "remaining_time": 6.835075416,
            "test": [
             0.9820645161,
             0.08115996541
            ]
           },
           {
            "iteration": 214,
            "learn": [
             0.9873532069,
             0.05353838883
            ],
            "passed_time": 17.10088567,
            "remaining_time": 6.760815266,
            "test": [
             0.9821935484,
             0.08120769672
            ]
           },
           {
            "iteration": 215,
            "learn": [
             0.9873962232,
             0.05345284435
            ],
            "passed_time": 17.18289271,
            "remaining_time": 6.682236053,
            "test": [
             0.9821935484,
             0.08114883217
            ]
           },
           {
            "iteration": 216,
            "learn": [
             0.9873962232,
             0.05335742727
            ],
            "passed_time": 17.2575499,
            "remaining_time": 6.600814017,
            "test": [
             0.9823225806,
             0.08117616758
            ]
           },
           {
            "iteration": 217,
            "learn": [
             0.9873962232,
             0.05326352108
            ],
            "passed_time": 17.33517976,
            "remaining_time": 6.520572203,
            "test": [
             0.9823225806,
             0.08116318845
            ]
           },
           {
            "iteration": 218,
            "learn": [
             0.9874392395,
             0.05319686471
            ],
            "passed_time": 17.40763623,
            "remaining_time": 6.438440796,
            "test": [
             0.9821935484,
             0.08116942835
            ]
           },
           {
            "iteration": 219,
            "learn": [
             0.9874822558,
             0.05306553584
            ],
            "passed_time": 17.48784508,
            "remaining_time": 6.359216393,
            "test": [
             0.9823225806,
             0.0812469449
            ]
           },
           {
            "iteration": 220,
            "learn": [
             0.9874822558,
             0.05301626713
            ],
            "passed_time": 17.56198509,
            "remaining_time": 6.277813673,
            "test": [
             0.9823225806,
             0.0812439035
            ]
           },
           {
            "iteration": 221,
            "learn": [
             0.9874822558,
             0.05293035936
            ],
            "passed_time": 17.6356986,
            "remaining_time": 6.196326534,
            "test": [
             0.9823225806,
             0.08123806769
            ]
           },
           {
            "iteration": 222,
            "learn": [
             0.9874392395,
             0.05287263227
            ],
            "passed_time": 17.7122737,
            "remaining_time": 6.115897195,
            "test": [
             0.9823225806,
             0.08124595035
            ]
           },
           {
            "iteration": 223,
            "learn": [
             0.9874392395,
             0.05278116288
            ],
            "passed_time": 17.78790681,
            "remaining_time": 6.035182667,
            "test": [
             0.9823225806,
             0.08123485346
            ]
           },
           {
            "iteration": 224,
            "learn": [
             0.9875252721,
             0.05270235142
            ],
            "passed_time": 17.87122806,
            "remaining_time": 5.95707602,
            "test": [
             0.9823225806,
             0.08122523664
            ]
           },
           {
            "iteration": 225,
            "learn": [
             0.9875682884,
             0.05263492741
            ],
            "passed_time": 17.95143123,
            "remaining_time": 5.87790226,
            "test": [
             0.9823225806,
             0.08122453692
            ]
           },
           {
            "iteration": 226,
            "learn": [
             0.987654321,
             0.05255003957
            ],
            "passed_time": 18.02722161,
            "remaining_time": 5.797300341,
            "test": [
             0.9823225806,
             0.08124487151
            ]
           },
           {
            "iteration": 227,
            "learn": [
             0.9875682884,
             0.05244020203
            ],
            "passed_time": 18.11817982,
            "remaining_time": 5.721530471,
            "test": [
             0.9823225806,
             0.08129221002
            ]
           },
           {
            "iteration": 228,
            "learn": [
             0.9876113047,
             0.05239243249
            ],
            "passed_time": 18.20294335,
            "remaining_time": 5.643707327,
            "test": [
             0.9823225806,
             0.08128127734
            ]
           },
           {
            "iteration": 229,
            "learn": [
             0.9876113047,
             0.05234537994
            ],
            "passed_time": 18.27675294,
            "remaining_time": 5.562490024,
            "test": [
             0.9823225806,
             0.08128523096
            ]
           },
           {
            "iteration": 230,
            "learn": [
             0.987654321,
             0.05228190988
            ],
            "passed_time": 18.3580955,
            "remaining_time": 5.483586966,
            "test": [
             0.9823225806,
             0.08131392339
            ]
           },
           {
            "iteration": 231,
            "learn": [
             0.9877403536,
             0.05221251929
            ],
            "passed_time": 18.43733594,
            "remaining_time": 5.40404674,
            "test": [
             0.9823225806,
             0.0812972201
            ]
           },
           {
            "iteration": 232,
            "learn": [
             0.9877403536,
             0.05216136026
            ],
            "passed_time": 18.51409473,
            "remaining_time": 5.323795481,
            "test": [
             0.9823225806,
             0.08129831705
            ]
           },
           {
            "iteration": 233,
            "learn": [
             0.9877833699,
             0.05205698995
            ],
            "passed_time": 18.58882177,
            "remaining_time": 5.243001012,
            "test": [
             0.9823225806,
             0.08129376562
            ]
           },
           {
            "iteration": 234,
            "learn": [
             0.9877403536,
             0.05202143912
            ],
            "passed_time": 18.66198829,
            "remaining_time": 5.161826549,
            "test": [
             0.9823225806,
             0.08128603176
            ]
           },
           {
            "iteration": 235,
            "learn": [
             0.9876973373,
             0.05196946527
            ],
            "passed_time": 18.73945125,
            "remaining_time": 5.081885084,
            "test": [
             0.9823225806,
             0.0812594747
            ]
           },
           {
            "iteration": 236,
            "learn": [
             0.9877403536,
             0.05179204741
            ],
            "passed_time": 18.81625854,
            "remaining_time": 5.001790245,
            "test": [
             0.9823225806,
             0.08128316206
            ]
           },
           {
            "iteration": 237,
            "learn": [
             0.9878263862,
             0.05170837727
            ],
            "passed_time": 18.90161549,
            "remaining_time": 4.923950255,
            "test": [
             0.9824516129,
             0.08126133163
            ]
           },
           {
            "iteration": 238,
            "learn": [
             0.9878263862,
             0.05165048883
            ],
            "passed_time": 18.98047973,
            "remaining_time": 4.844390224,
            "test": [
             0.9823225806,
             0.08129956331
            ]
           },
           {
            "iteration": 239,
            "learn": [
             0.9879124188,
             0.0516121721
            ],
            "passed_time": 19.05692796,
            "remaining_time": 4.76423199,
            "test": [
             0.9823225806,
             0.08128964417
            ]
           },
           {
            "iteration": 240,
            "learn": [
             0.9879124188,
             0.05152980688
            ],
            "passed_time": 19.14717574,
            "remaining_time": 4.687482857,
            "test": [
             0.9823225806,
             0.08133937926
            ]
           },
           {
            "iteration": 241,
            "learn": [
             0.9879124188,
             0.0514556
            ],
            "passed_time": 19.25048134,
            "remaining_time": 4.613751726,
            "test": [
             0.9823225806,
             0.08137195843
            ]
           },
           {
            "iteration": 242,
            "learn": [
             0.9878694025,
             0.05140988684
            ],
            "passed_time": 19.32345027,
            "remaining_time": 4.532661175,
            "test": [
             0.9823225806,
             0.08134691288
            ]
           },
           {
            "iteration": 243,
            "learn": [
             0.9878694025,
             0.05135560099
            ],
            "passed_time": 19.39761417,
            "remaining_time": 4.451911449,
            "test": [
             0.9821935484,
             0.08134861955
            ]
           },
           {
            "iteration": 244,
            "learn": [
             0.9878694025,
             0.05131435151
            ],
            "passed_time": 19.47225841,
            "remaining_time": 4.371323316,
            "test": [
             0.9823225806,
             0.08137032812
            ]
           },
           {
            "iteration": 245,
            "learn": [
             0.9878263862,
             0.05121436325
            ],
            "passed_time": 19.55056437,
            "remaining_time": 4.291587301,
            "test": [
             0.9823225806,
             0.08138808808
            ]
           },
           {
            "iteration": 246,
            "learn": [
             0.9878263862,
             0.05116679564
            ],
            "passed_time": 19.62261139,
            "remaining_time": 4.210519853,
            "test": [
             0.9823225806,
             0.08142537324
            ]
           },
           {
            "iteration": 247,
            "learn": [
             0.9878263862,
             0.05109607063
            ],
            "passed_time": 19.69941045,
            "remaining_time": 4.130521547,
            "test": [
             0.9823225806,
             0.08142179697
            ]
           },
           {
            "iteration": 248,
            "learn": [
             0.9878263862,
             0.0510628878
            ],
            "passed_time": 19.77252975,
            "remaining_time": 4.049795251,
            "test": [
             0.9823225806,
             0.08141567588
            ]
           },
           {
            "iteration": 249,
            "learn": [
             0.9878263862,
             0.05101595843
            ],
            "passed_time": 19.84723122,
            "remaining_time": 3.969446244,
            "test": [
             0.9823225806,
             0.08143593263
            ]
           },
           {
            "iteration": 250,
            "learn": [
             0.9878263862,
             0.05094611586
            ],
            "passed_time": 19.93945549,
            "remaining_time": 3.892563023,
            "test": [
             0.9823225806,
             0.08149083772
            ]
           },
           {
            "iteration": 251,
            "learn": [
             0.9878263862,
             0.05085721593
            ],
            "passed_time": 20.01759233,
            "remaining_time": 3.812874729,
            "test": [
             0.9823225806,
             0.0815095946
            ]
           },
           {
            "iteration": 252,
            "learn": [
             0.9878263862,
             0.05077218377
            ],
            "passed_time": 20.09160995,
            "remaining_time": 3.732433469,
            "test": [
             0.9823225806,
             0.08151690757
            ]
           },
           {
            "iteration": 253,
            "learn": [
             0.9878263862,
             0.05069956946
            ],
            "passed_time": 20.18117355,
            "remaining_time": 3.654858203,
            "test": [
             0.9821935484,
             0.08158216143
            ]
           },
           {
            "iteration": 254,
            "learn": [
             0.9878694025,
             0.05064625593
            ],
            "passed_time": 20.26322046,
            "remaining_time": 3.575862434,
            "test": [
             0.9821935484,
             0.08158474344
            ]
           },
           {
            "iteration": 255,
            "learn": [
             0.9879124188,
             0.0505561107
            ],
            "passed_time": 20.33869741,
            "remaining_time": 3.495713618,
            "test": [
             0.9821935484,
             0.08157420625
            ]
           },
           {
            "iteration": 256,
            "learn": [
             0.9879124188,
             0.0504839744
            ],
            "passed_time": 20.41332891,
            "remaining_time": 3.415459701,
            "test": [
             0.9821935484,
             0.08158487942
            ]
           },
           {
            "iteration": 257,
            "learn": [
             0.9879554351,
             0.05042144223
            ],
            "passed_time": 20.49392006,
            "remaining_time": 3.336219545,
            "test": [
             0.9821935484,
             0.08156002416
            ]
           },
           {
            "iteration": 258,
            "learn": [
             0.9879554351,
             0.05036174664
            ],
            "passed_time": 20.56803383,
            "remaining_time": 3.25594358,
            "test": [
             0.9821935484,
             0.08157650395
            ]
           },
           {
            "iteration": 259,
            "learn": [
             0.9879554351,
             0.05033296143
            ],
            "passed_time": 20.64305358,
            "remaining_time": 3.175854398,
            "test": [
             0.9821935484,
             0.08158463596
            ]
           },
           {
            "iteration": 260,
            "learn": [
             0.9879554351,
             0.05027987937
            ],
            "passed_time": 20.72075412,
            "remaining_time": 3.096204639,
            "test": [
             0.9821935484,
             0.08162395669
            ]
           },
           {
            "iteration": 261,
            "learn": [
             0.9879984514,
             0.05017004645
            ],
            "passed_time": 20.79805222,
            "remaining_time": 3.016511391,
            "test": [
             0.9821935484,
             0.08169641671
            ]
           },
           {
            "iteration": 262,
            "learn": [
             0.9879984514,
             0.05009341093
            ],
            "passed_time": 20.87309039,
            "remaining_time": 2.936518421,
            "test": [
             0.9823225806,
             0.08169354749
            ]
           },
           {
            "iteration": 263,
            "learn": [
             0.9880414677,
             0.05003475626
            ],
            "passed_time": 20.96090878,
            "remaining_time": 2.858305743,
            "test": [
             0.9823225806,
             0.08165875423
            ]
           },
           {
            "iteration": 264,
            "learn": [
             0.9880414677,
             0.04996621304
            ],
            "passed_time": 21.04452736,
            "remaining_time": 2.779465877,
            "test": [
             0.9823225806,
             0.08162405887
            ]
           },
           {
            "iteration": 265,
            "learn": [
             0.988084484,
             0.04980077566
            ],
            "passed_time": 21.12424149,
            "remaining_time": 2.700091018,
            "test": [
             0.9823225806,
             0.08166802958
            ]
           },
           {
            "iteration": 266,
            "learn": [
             0.988084484,
             0.04973571853
            ],
            "passed_time": 21.22190187,
            "remaining_time": 2.622931692,
            "test": [
             0.9823225806,
             0.08166681768
            ]
           },
           {
            "iteration": 267,
            "learn": [
             0.9880414677,
             0.04964699269
            ],
            "passed_time": 21.30893106,
            "remaining_time": 2.544349978,
            "test": [
             0.9823225806,
             0.0816381643
            ]
           },
           {
            "iteration": 268,
            "learn": [
             0.9880414677,
             0.0496012727
            ],
            "passed_time": 21.38770124,
            "remaining_time": 2.464753674,
            "test": [
             0.9823225806,
             0.08165629877
            ]
           },
           {
            "iteration": 269,
            "learn": [
             0.9881275003,
             0.04953621057
            ],
            "passed_time": 21.46371149,
            "remaining_time": 2.384856832,
            "test": [
             0.9823225806,
             0.08160474201
            ]
           },
           {
            "iteration": 270,
            "learn": [
             0.9881275003,
             0.04946372084
            ],
            "passed_time": 21.5417773,
            "remaining_time": 2.30520864,
            "test": [
             0.9823225806,
             0.08156529559
            ]
           },
           {
            "iteration": 271,
            "learn": [
             0.9881705166,
             0.04941817293
            ],
            "passed_time": 21.61671719,
            "remaining_time": 2.225250299,
            "test": [
             0.9823225806,
             0.08160128046
            ]
           },
           {
            "iteration": 272,
            "learn": [
             0.9881705166,
             0.04934443715
            ],
            "passed_time": 21.69437477,
            "remaining_time": 2.145597505,
            "test": [
             0.9823225806,
             0.08162654309
            ]
           },
           {
            "iteration": 273,
            "learn": [
             0.9882565492,
             0.04927162007
            ],
            "passed_time": 21.76717208,
            "remaining_time": 2.06549808,
            "test": [
             0.9823225806,
             0.08168632249
            ]
           },
           {
            "iteration": 274,
            "learn": [
             0.9882565492,
             0.04922434822
            ],
            "passed_time": 21.84248021,
            "remaining_time": 1.985680019,
            "test": [
             0.9823225806,
             0.08165617296
            ]
           },
           {
            "iteration": 275,
            "learn": [
             0.9882565492,
             0.04918986976
            ],
            "passed_time": 21.91610018,
            "remaining_time": 1.905747842,
            "test": [
             0.9824516129,
             0.08166832298
            ]
           },
           {
            "iteration": 276,
            "learn": [
             0.9882565492,
             0.0491203093
            ],
            "passed_time": 22.00121336,
            "remaining_time": 1.82681555,
            "test": [
             0.9824516129,
             0.08168455655
            ]
           },
           {
            "iteration": 277,
            "learn": [
             0.9882565492,
             0.04907665084
            ],
            "passed_time": 22.07799103,
            "remaining_time": 1.747179146,
            "test": [
             0.9824516129,
             0.08168971592
            ]
           },
           {
            "iteration": 278,
            "learn": [
             0.9883425818,
             0.04902985237
            ],
            "passed_time": 22.15182219,
            "remaining_time": 1.667341455,
            "test": [
             0.9821935484,
             0.0816874265
            ]
           },
           {
            "iteration": 279,
            "learn": [
             0.9883425818,
             0.04891209057
            ],
            "passed_time": 22.24919299,
            "remaining_time": 1.589228071,
            "test": [
             0.9824516129,
             0.08168342992
            ]
           },
           {
            "iteration": 280,
            "learn": [
             0.9883855981,
             0.04874921372
            ],
            "passed_time": 22.3409969,
            "remaining_time": 1.510601214,
            "test": [
             0.9824516129,
             0.08176861195
            ]
           },
           {
            "iteration": 281,
            "learn": [
             0.9883855981,
             0.04870846526
            ],
            "passed_time": 22.43238925,
            "remaining_time": 1.431854633,
            "test": [
             0.9824516129,
             0.08178741146
            ]
           },
           {
            "iteration": 282,
            "learn": [
             0.9883425818,
             0.04866117752
            ],
            "passed_time": 22.51037639,
            "remaining_time": 1.352213423,
            "test": [
             0.9821935484,
             0.08179978455
            ]
           },
           {
            "iteration": 283,
            "learn": [
             0.9883855981,
             0.04860975863
            ],
            "passed_time": 22.58460155,
            "remaining_time": 1.272371918,
            "test": [
             0.9823225806,
             0.08178707943
            ]
           },
           {
            "iteration": 284,
            "learn": [
             0.9883855981,
             0.0485579935
            ],
            "passed_time": 22.65881553,
            "remaining_time": 1.192569238,
            "test": [
             0.9823225806,
             0.08180734589
            ]
           },
           {
            "iteration": 285,
            "learn": [
             0.9883855981,
             0.04852837978
            ],
            "passed_time": 22.73745924,
            "remaining_time": 1.11302248,
            "test": [
             0.9823225806,
             0.08181667008
            ]
           },
           {
            "iteration": 286,
            "learn": [
             0.9883855981,
             0.04849408864
            ],
            "passed_time": 22.81190371,
            "remaining_time": 1.033291806,
            "test": [
             0.9824516129,
             0.08181314355
            ]
           },
           {
            "iteration": 287,
            "learn": [
             0.9884286144,
             0.0484521836
            ],
            "passed_time": 22.88563063,
            "remaining_time": 0.9535679431,
            "test": [
             0.9824516129,
             0.08184533556
            ]
           },
           {
            "iteration": 288,
            "learn": [
             0.9884286144,
             0.04839826871
            ],
            "passed_time": 22.96325404,
            "remaining_time": 0.8740338908,
            "test": [
             0.9824516129,
             0.08184413443
            ]
           },
           {
            "iteration": 289,
            "learn": [
             0.9884286144,
             0.04832240629
            ],
            "passed_time": 23.05401767,
            "remaining_time": 0.7949661265,
            "test": [
             0.9824516129,
             0.0818718085
            ]
           },
           {
            "iteration": 290,
            "learn": [
             0.9884286144,
             0.04827838912
            ],
            "passed_time": 23.12861982,
            "remaining_time": 0.7153181386,
            "test": [
             0.9824516129,
             0.08186434393
            ]
           },
           {
            "iteration": 291,
            "learn": [
             0.9884716307,
             0.04821873557
            ],
            "passed_time": 23.20499026,
            "remaining_time": 0.6357531578,
            "test": [
             0.9824516129,
             0.08185346691
            ]
           },
           {
            "iteration": 292,
            "learn": [
             0.9884716307,
             0.04814885711
            ],
            "passed_time": 23.3096629,
            "remaining_time": 0.5568861443,
            "test": [
             0.9824516129,
             0.08184661691
            ]
           },
           {
            "iteration": 293,
            "learn": [
             0.9884716307,
             0.04806254254
            ],
            "passed_time": 23.38817466,
            "remaining_time": 0.4773096868,
            "test": [
             0.9824516129,
             0.08181504251
            ]
           },
           {
            "iteration": 294,
            "learn": [
             0.9884716307,
             0.04802267429
            ],
            "passed_time": 23.46177444,
            "remaining_time": 0.3976571938,
            "test": [
             0.9824516129,
             0.08181308515
            ]
           },
           {
            "iteration": 295,
            "learn": [
             0.9884716307,
             0.0479731858
            ],
            "passed_time": 23.54131907,
            "remaining_time": 0.3181259334,
            "test": [
             0.9824516129,
             0.08181576837
            ]
           },
           {
            "iteration": 296,
            "learn": [
             0.9884716307,
             0.04792277553
            ],
            "passed_time": 23.61627613,
            "remaining_time": 0.2385482437,
            "test": [
             0.9824516129,
             0.08182157024
            ]
           },
           {
            "iteration": 297,
            "learn": [
             0.9884716307,
             0.04786400123
            ],
            "passed_time": 23.69592359,
            "remaining_time": 0.1590330443,
            "test": [
             0.9824516129,
             0.08177379301
            ]
           },
           {
            "iteration": 298,
            "learn": [
             0.9884716307,
             0.047836123
            ],
            "passed_time": 23.77052229,
            "remaining_time": 0.07950007453,
            "test": [
             0.9824516129,
             0.08175372771
            ]
           },
           {
            "iteration": 299,
            "learn": [
             0.9885146471,
             0.04778150739
            ],
            "passed_time": 23.85055541,
            "remaining_time": 0,
            "test": [
             0.9824516129,
             0.08174612538
            ]
           }
          ],
          "meta": {
           "iteration_count": 300,
           "launch_mode": "Train",
           "learn_metrics": [
            {
             "best_value": "Max",
             "name": "Accuracy"
            },
            {
             "best_value": "Min",
             "name": "MultiClass"
            }
           ],
           "learn_sets": [
            "learn"
           ],
           "name": "experiment",
           "parameters": "",
           "test_metrics": [
            {
             "best_value": "Max",
             "name": "Accuracy"
            },
            {
             "best_value": "Min",
             "name": "MultiClass"
            }
           ],
           "test_sets": [
            "test"
           ]
          }
         },
         "passed_iterations": 299,
         "total_iterations": 300
        },
        "name": "catboost_info",
        "path": "catboost_info"
       }
      },
      "layout": "IPY_MODEL_2311b70bebfd4197a726e8950a8009e7"
     }
    }
   }
  }
 },
 "nbformat": 4,
 "nbformat_minor": 5
}
