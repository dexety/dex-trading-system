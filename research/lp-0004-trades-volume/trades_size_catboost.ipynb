{
  "cells": [
    {
      "cell_type": "code",
      "execution_count": 1,
      "metadata": {
        "colab": {
          "base_uri": "https://localhost:8080/"
        },
        "id": "6PWJsnjzBfq1",
        "outputId": "36a25e6a-4469-48ff-bfaf-ed7ba59e9454"
      },
      "outputs": [
        {
          "output_type": "stream",
          "name": "stdout",
          "text": [
            "Requirement already satisfied: catboost in /usr/local/lib/python3.7/dist-packages (1.0.4)\n",
            "Requirement already satisfied: scipy in /usr/local/lib/python3.7/dist-packages (from catboost) (1.4.1)\n",
            "Requirement already satisfied: plotly in /usr/local/lib/python3.7/dist-packages (from catboost) (4.4.1)\n",
            "Requirement already satisfied: graphviz in /usr/local/lib/python3.7/dist-packages (from catboost) (0.10.1)\n",
            "Requirement already satisfied: matplotlib in /usr/local/lib/python3.7/dist-packages (from catboost) (3.2.2)\n",
            "Requirement already satisfied: numpy>=1.16.0 in /usr/local/lib/python3.7/dist-packages (from catboost) (1.19.5)\n",
            "Requirement already satisfied: pandas>=0.24.0 in /usr/local/lib/python3.7/dist-packages (from catboost) (1.1.5)\n",
            "Requirement already satisfied: six in /usr/local/lib/python3.7/dist-packages (from catboost) (1.15.0)\n",
            "Requirement already satisfied: python-dateutil>=2.7.3 in /usr/local/lib/python3.7/dist-packages (from pandas>=0.24.0->catboost) (2.8.2)\n",
            "Requirement already satisfied: pytz>=2017.2 in /usr/local/lib/python3.7/dist-packages (from pandas>=0.24.0->catboost) (2018.9)\n",
            "Requirement already satisfied: pyparsing!=2.0.4,!=2.1.2,!=2.1.6,>=2.0.1 in /usr/local/lib/python3.7/dist-packages (from matplotlib->catboost) (3.0.6)\n",
            "Requirement already satisfied: kiwisolver>=1.0.1 in /usr/local/lib/python3.7/dist-packages (from matplotlib->catboost) (1.3.2)\n",
            "Requirement already satisfied: cycler>=0.10 in /usr/local/lib/python3.7/dist-packages (from matplotlib->catboost) (0.11.0)\n",
            "Requirement already satisfied: retrying>=1.3.3 in /usr/local/lib/python3.7/dist-packages (from plotly->catboost) (1.3.3)\n",
            "Requirement already satisfied: hyperopt in /usr/local/lib/python3.7/dist-packages (0.1.2)\n",
            "Requirement already satisfied: networkx in /usr/local/lib/python3.7/dist-packages (from hyperopt) (2.6.3)\n",
            "Requirement already satisfied: numpy in /usr/local/lib/python3.7/dist-packages (from hyperopt) (1.19.5)\n",
            "Requirement already satisfied: future in /usr/local/lib/python3.7/dist-packages (from hyperopt) (0.16.0)\n",
            "Requirement already satisfied: scipy in /usr/local/lib/python3.7/dist-packages (from hyperopt) (1.4.1)\n",
            "Requirement already satisfied: pymongo in /usr/local/lib/python3.7/dist-packages (from hyperopt) (4.0.1)\n",
            "Requirement already satisfied: tqdm in /usr/local/lib/python3.7/dist-packages (from hyperopt) (4.62.3)\n",
            "Requirement already satisfied: six in /usr/local/lib/python3.7/dist-packages (from hyperopt) (1.15.0)\n"
          ]
        }
      ],
      "source": [
        "!pip3 install catboost\n",
        "!pip install hyperopt"
      ],
      "id": "6PWJsnjzBfq1"
    },
    {
      "cell_type": "code",
      "execution_count": 2,
      "metadata": {
        "id": "vjlvDT-QXrD0"
      },
      "outputs": [],
      "source": [
        "import pandas as pd\n",
        "import numpy as np\n",
        "from catboost import CatBoostClassifier, Pool, metrics, cv\n",
        "from sklearn.metrics import accuracy_score\n",
        "from sklearn.model_selection import train_test_split\n",
        "import hyperopt\n",
        "from numpy.random import RandomState\n",
        "from catboost.utils import select_threshold"
      ],
      "id": "vjlvDT-QXrD0"
    },
    {
      "cell_type": "code",
      "execution_count": 3,
      "metadata": {
        "id": "853aa3c4-a2d3-4845-ad55-388c7ddc238f"
      },
      "outputs": [],
      "source": [
        "csv_path = \"drive/MyDrive/trades-df-2021_11_1_0_0_0-2021_12_21_0_0_0.csv\"\n",
        "df = pd.read_csv(csv_path)"
      ],
      "id": "853aa3c4-a2d3-4845-ad55-388c7ddc238f"
    },
    {
      "cell_type": "code",
      "execution_count": 4,
      "metadata": {
        "id": "6d19d8f2-29d6-475a-8e14-714733f36850",
        "colab": {
          "base_uri": "https://localhost:8080/"
        },
        "outputId": "6a3b07a0-0f1d-4010-81dd-bbf0000bf437"
      },
      "outputs": [
        {
          "output_type": "stream",
          "name": "stdout",
          "text": [
            "['trade_volume-BUY-6-sec', 'moving_average_price-BUY-6-sec', 'weighted_moving_average_price-BUY-6-sec', 'exp_moving_average_price-BUY-6-sec', 'stochastic_oscillator-BUY-6-sec', 'trade_volume-BUY-12-sec', 'moving_average_price-BUY-12-sec', 'weighted_moving_average_price-BUY-12-sec', 'exp_moving_average_price-BUY-12-sec', 'stochastic_oscillator-BUY-12-sec', 'trade_volume-BUY-18-sec', 'moving_average_price-BUY-18-sec', 'weighted_moving_average_price-BUY-18-sec', 'exp_moving_average_price-BUY-18-sec', 'stochastic_oscillator-BUY-18-sec', 'trade_volume-BUY-24-sec', 'moving_average_price-BUY-24-sec', 'weighted_moving_average_price-BUY-24-sec', 'exp_moving_average_price-BUY-24-sec', 'stochastic_oscillator-BUY-24-sec', 'trade_volume-BUY-30-sec', 'moving_average_price-BUY-30-sec', 'weighted_moving_average_price-BUY-30-sec', 'exp_moving_average_price-BUY-30-sec', 'stochastic_oscillator-BUY-30-sec', 'trade_volume-BUY-36-sec', 'moving_average_price-BUY-36-sec', 'weighted_moving_average_price-BUY-36-sec', 'exp_moving_average_price-BUY-36-sec', 'stochastic_oscillator-BUY-36-sec', 'trade_volume-BUY-42-sec', 'moving_average_price-BUY-42-sec', 'weighted_moving_average_price-BUY-42-sec', 'exp_moving_average_price-BUY-42-sec', 'stochastic_oscillator-BUY-42-sec', 'trade_volume-BUY-48-sec', 'moving_average_price-BUY-48-sec', 'weighted_moving_average_price-BUY-48-sec', 'exp_moving_average_price-BUY-48-sec', 'stochastic_oscillator-BUY-48-sec', 'trade_volume-BUY-54-sec', 'moving_average_price-BUY-54-sec', 'weighted_moving_average_price-BUY-54-sec', 'exp_moving_average_price-BUY-54-sec', 'stochastic_oscillator-BUY-54-sec', 'trade_volume-BUY-60-sec', 'moving_average_price-BUY-60-sec', 'weighted_moving_average_price-BUY-60-sec', 'exp_moving_average_price-BUY-60-sec', 'stochastic_oscillator-BUY-60-sec', 'trade_volume-SELL-6-sec', 'moving_average_price-SELL-6-sec', 'weighted_moving_average_price-SELL-6-sec', 'exp_moving_average_price-SELL-6-sec', 'stochastic_oscillator-SELL-6-sec', 'trade_volume-SELL-12-sec', 'moving_average_price-SELL-12-sec', 'weighted_moving_average_price-SELL-12-sec', 'exp_moving_average_price-SELL-12-sec', 'stochastic_oscillator-SELL-12-sec', 'trade_volume-SELL-18-sec', 'moving_average_price-SELL-18-sec', 'weighted_moving_average_price-SELL-18-sec', 'exp_moving_average_price-SELL-18-sec', 'stochastic_oscillator-SELL-18-sec', 'trade_volume-SELL-24-sec', 'moving_average_price-SELL-24-sec', 'weighted_moving_average_price-SELL-24-sec', 'exp_moving_average_price-SELL-24-sec', 'stochastic_oscillator-SELL-24-sec', 'trade_volume-SELL-30-sec', 'moving_average_price-SELL-30-sec', 'weighted_moving_average_price-SELL-30-sec', 'exp_moving_average_price-SELL-30-sec', 'stochastic_oscillator-SELL-30-sec', 'trade_volume-SELL-36-sec', 'moving_average_price-SELL-36-sec', 'weighted_moving_average_price-SELL-36-sec', 'exp_moving_average_price-SELL-36-sec', 'stochastic_oscillator-SELL-36-sec', 'trade_volume-SELL-42-sec', 'moving_average_price-SELL-42-sec', 'weighted_moving_average_price-SELL-42-sec', 'exp_moving_average_price-SELL-42-sec', 'stochastic_oscillator-SELL-42-sec', 'trade_volume-SELL-48-sec', 'moving_average_price-SELL-48-sec', 'weighted_moving_average_price-SELL-48-sec', 'exp_moving_average_price-SELL-48-sec', 'stochastic_oscillator-SELL-48-sec', 'trade_volume-SELL-54-sec', 'moving_average_price-SELL-54-sec', 'weighted_moving_average_price-SELL-54-sec', 'exp_moving_average_price-SELL-54-sec', 'stochastic_oscillator-SELL-54-sec', 'trade_volume-SELL-60-sec', 'moving_average_price-SELL-60-sec', 'weighted_moving_average_price-SELL-60-sec', 'exp_moving_average_price-SELL-60-sec', 'stochastic_oscillator-SELL-60-sec']\n",
            "['punch-BUY-30-sec', 'punch-SELL-30-sec']\n"
          ]
        }
      ],
      "source": [
        "x_columns = list(filter(lambda column: not 'punch' in column, df.columns))\n",
        "y_columns = list(filter(lambda column: 'punch' in column, df.columns))\n",
        "print(x_columns)\n",
        "print(y_columns)"
      ],
      "id": "6d19d8f2-29d6-475a-8e14-714733f36850"
    },
    {
      "cell_type": "code",
      "execution_count": 5,
      "metadata": {
        "id": "96ce2f97-578b-4e03-88df-68348c66e537",
        "colab": {
          "base_uri": "https://localhost:8080/",
          "height": 609
        },
        "outputId": "94ba5367-c3f8-4be1-d98d-48eb38662dbe"
      },
      "outputs": [
        {
          "output_type": "stream",
          "name": "stderr",
          "text": [
            "/usr/local/lib/python3.7/dist-packages/ipykernel_launcher.py:9: SettingWithCopyWarning: \n",
            "A value is trying to be set on a copy of a slice from a DataFrame.\n",
            "Try using .loc[row_indexer,col_indexer] = value instead\n",
            "\n",
            "See the caveats in the documentation: https://pandas.pydata.org/pandas-docs/stable/user_guide/indexing.html#returning-a-view-versus-a-copy\n",
            "  if __name__ == '__main__':\n"
          ]
        },
        {
          "output_type": "execute_result",
          "data": {
            "text/html": [
              "\n",
              "  <div id=\"df-e651a181-1786-4a09-bfa9-052638cf1beb\">\n",
              "    <div class=\"colab-df-container\">\n",
              "      <div>\n",
              "<style scoped>\n",
              "    .dataframe tbody tr th:only-of-type {\n",
              "        vertical-align: middle;\n",
              "    }\n",
              "\n",
              "    .dataframe tbody tr th {\n",
              "        vertical-align: top;\n",
              "    }\n",
              "\n",
              "    .dataframe thead th {\n",
              "        text-align: right;\n",
              "    }\n",
              "</style>\n",
              "<table border=\"1\" class=\"dataframe\">\n",
              "  <thead>\n",
              "    <tr style=\"text-align: right;\">\n",
              "      <th></th>\n",
              "      <th>trade_volume-BUY-6-sec</th>\n",
              "      <th>stochastic_oscillator-BUY-6-sec</th>\n",
              "      <th>trade_volume-BUY-12-sec</th>\n",
              "      <th>moving_average_price-BUY-12-sec</th>\n",
              "      <th>weighted_moving_average_price-BUY-12-sec</th>\n",
              "      <th>exp_moving_average_price-BUY-12-sec</th>\n",
              "      <th>stochastic_oscillator-BUY-12-sec</th>\n",
              "      <th>trade_volume-BUY-18-sec</th>\n",
              "      <th>moving_average_price-BUY-18-sec</th>\n",
              "      <th>weighted_moving_average_price-BUY-18-sec</th>\n",
              "      <th>exp_moving_average_price-BUY-18-sec</th>\n",
              "      <th>stochastic_oscillator-BUY-18-sec</th>\n",
              "      <th>trade_volume-BUY-24-sec</th>\n",
              "      <th>moving_average_price-BUY-24-sec</th>\n",
              "      <th>weighted_moving_average_price-BUY-24-sec</th>\n",
              "      <th>exp_moving_average_price-BUY-24-sec</th>\n",
              "      <th>stochastic_oscillator-BUY-24-sec</th>\n",
              "      <th>trade_volume-BUY-30-sec</th>\n",
              "      <th>moving_average_price-BUY-30-sec</th>\n",
              "      <th>weighted_moving_average_price-BUY-30-sec</th>\n",
              "      <th>exp_moving_average_price-BUY-30-sec</th>\n",
              "      <th>stochastic_oscillator-BUY-30-sec</th>\n",
              "      <th>trade_volume-BUY-36-sec</th>\n",
              "      <th>moving_average_price-BUY-36-sec</th>\n",
              "      <th>weighted_moving_average_price-BUY-36-sec</th>\n",
              "      <th>exp_moving_average_price-BUY-36-sec</th>\n",
              "      <th>stochastic_oscillator-BUY-36-sec</th>\n",
              "      <th>trade_volume-BUY-42-sec</th>\n",
              "      <th>moving_average_price-BUY-42-sec</th>\n",
              "      <th>weighted_moving_average_price-BUY-42-sec</th>\n",
              "      <th>exp_moving_average_price-BUY-42-sec</th>\n",
              "      <th>stochastic_oscillator-BUY-42-sec</th>\n",
              "      <th>trade_volume-BUY-48-sec</th>\n",
              "      <th>moving_average_price-BUY-48-sec</th>\n",
              "      <th>weighted_moving_average_price-BUY-48-sec</th>\n",
              "      <th>exp_moving_average_price-BUY-48-sec</th>\n",
              "      <th>stochastic_oscillator-BUY-48-sec</th>\n",
              "      <th>trade_volume-BUY-54-sec</th>\n",
              "      <th>moving_average_price-BUY-54-sec</th>\n",
              "      <th>weighted_moving_average_price-BUY-54-sec</th>\n",
              "      <th>...</th>\n",
              "      <th>trade_volume-SELL-18-sec</th>\n",
              "      <th>moving_average_price-SELL-18-sec</th>\n",
              "      <th>weighted_moving_average_price-SELL-18-sec</th>\n",
              "      <th>exp_moving_average_price-SELL-18-sec</th>\n",
              "      <th>stochastic_oscillator-SELL-18-sec</th>\n",
              "      <th>trade_volume-SELL-24-sec</th>\n",
              "      <th>moving_average_price-SELL-24-sec</th>\n",
              "      <th>weighted_moving_average_price-SELL-24-sec</th>\n",
              "      <th>exp_moving_average_price-SELL-24-sec</th>\n",
              "      <th>stochastic_oscillator-SELL-24-sec</th>\n",
              "      <th>trade_volume-SELL-30-sec</th>\n",
              "      <th>moving_average_price-SELL-30-sec</th>\n",
              "      <th>weighted_moving_average_price-SELL-30-sec</th>\n",
              "      <th>exp_moving_average_price-SELL-30-sec</th>\n",
              "      <th>stochastic_oscillator-SELL-30-sec</th>\n",
              "      <th>trade_volume-SELL-36-sec</th>\n",
              "      <th>moving_average_price-SELL-36-sec</th>\n",
              "      <th>weighted_moving_average_price-SELL-36-sec</th>\n",
              "      <th>exp_moving_average_price-SELL-36-sec</th>\n",
              "      <th>stochastic_oscillator-SELL-36-sec</th>\n",
              "      <th>trade_volume-SELL-42-sec</th>\n",
              "      <th>moving_average_price-SELL-42-sec</th>\n",
              "      <th>weighted_moving_average_price-SELL-42-sec</th>\n",
              "      <th>exp_moving_average_price-SELL-42-sec</th>\n",
              "      <th>stochastic_oscillator-SELL-42-sec</th>\n",
              "      <th>trade_volume-SELL-48-sec</th>\n",
              "      <th>moving_average_price-SELL-48-sec</th>\n",
              "      <th>weighted_moving_average_price-SELL-48-sec</th>\n",
              "      <th>exp_moving_average_price-SELL-48-sec</th>\n",
              "      <th>stochastic_oscillator-SELL-48-sec</th>\n",
              "      <th>trade_volume-SELL-54-sec</th>\n",
              "      <th>moving_average_price-SELL-54-sec</th>\n",
              "      <th>weighted_moving_average_price-SELL-54-sec</th>\n",
              "      <th>exp_moving_average_price-SELL-54-sec</th>\n",
              "      <th>stochastic_oscillator-SELL-54-sec</th>\n",
              "      <th>trade_volume-SELL-60-sec</th>\n",
              "      <th>moving_average_price-SELL-60-sec</th>\n",
              "      <th>weighted_moving_average_price-SELL-60-sec</th>\n",
              "      <th>exp_moving_average_price-SELL-60-sec</th>\n",
              "      <th>stochastic_oscillator-SELL-60-sec</th>\n",
              "    </tr>\n",
              "  </thead>\n",
              "  <tbody>\n",
              "    <tr>\n",
              "      <th>0</th>\n",
              "      <td>0.100</td>\n",
              "      <td>0.0</td>\n",
              "      <td>0.400</td>\n",
              "      <td>0.000000</td>\n",
              "      <td>0.000000</td>\n",
              "      <td>0.000000</td>\n",
              "      <td>0.000000</td>\n",
              "      <td>10.355</td>\n",
              "      <td>4291.266667</td>\n",
              "      <td>4291.113947</td>\n",
              "      <td>4291.580469</td>\n",
              "      <td>1.000000</td>\n",
              "      <td>0.500</td>\n",
              "      <td>-2.666667e-02</td>\n",
              "      <td>-1.049719e-03</td>\n",
              "      <td>0.000781</td>\n",
              "      <td>0.000000</td>\n",
              "      <td>10.655</td>\n",
              "      <td>4291.211282</td>\n",
              "      <td>4291.110911</td>\n",
              "      <td>4291.580469</td>\n",
              "      <td>1.000000</td>\n",
              "      <td>0.716</td>\n",
              "      <td>-1.112821e-01</td>\n",
              "      <td>-1.017205e-02</td>\n",
              "      <td>0.000757</td>\n",
              "      <td>0.000000</td>\n",
              "      <td>10.855</td>\n",
              "      <td>4291.111282</td>\n",
              "      <td>4291.095342</td>\n",
              "      <td>4291.580469</td>\n",
              "      <td>1.000000</td>\n",
              "      <td>0.916</td>\n",
              "      <td>-0.191282</td>\n",
              "      <td>-0.025212</td>\n",
              "      <td>0.000757</td>\n",
              "      <td>0.000000</td>\n",
              "      <td>10.855</td>\n",
              "      <td>4291.111282</td>\n",
              "      <td>4291.095342</td>\n",
              "      <td>...</td>\n",
              "      <td>0.400</td>\n",
              "      <td>4291.214286</td>\n",
              "      <td>4291.214286</td>\n",
              "      <td>4291.468750</td>\n",
              "      <td>1.000000</td>\n",
              "      <td>0.800</td>\n",
              "      <td>-1.506494e-01</td>\n",
              "      <td>-1.642857e-01</td>\n",
              "      <td>0.001562</td>\n",
              "      <td>0.000000</td>\n",
              "      <td>0.600</td>\n",
              "      <td>4291.189111</td>\n",
              "      <td>4291.192857</td>\n",
              "      <td>4291.468750</td>\n",
              "      <td>1.000000</td>\n",
              "      <td>3.500</td>\n",
              "      <td>-0.301611</td>\n",
              "      <td>-0.766028</td>\n",
              "      <td>0.001489</td>\n",
              "      <td>0.000000</td>\n",
              "      <td>0.800</td>\n",
              "      <td>4291.101611</td>\n",
              "      <td>4291.177656</td>\n",
              "      <td>4291.468750</td>\n",
              "      <td>1.000000</td>\n",
              "      <td>5.566</td>\n",
              "      <td>-0.401611</td>\n",
              "      <td>-0.867163</td>\n",
              "      <td>0.001489</td>\n",
              "      <td>0.000000</td>\n",
              "      <td>3.400</td>\n",
              "      <td>4291.049437</td>\n",
              "      <td>4291.116616</td>\n",
              "      <td>4291.468750</td>\n",
              "      <td>1.000000</td>\n",
              "      <td>15.547</td>\n",
              "      <td>-0.522770</td>\n",
              "      <td>-0.944837</td>\n",
              "      <td>0.001489</td>\n",
              "      <td>0.000000</td>\n",
              "    </tr>\n",
              "    <tr>\n",
              "      <th>1</th>\n",
              "      <td>0.200</td>\n",
              "      <td>0.0</td>\n",
              "      <td>0.300</td>\n",
              "      <td>0.000000</td>\n",
              "      <td>0.000000</td>\n",
              "      <td>0.000000</td>\n",
              "      <td>0.000000</td>\n",
              "      <td>0.400</td>\n",
              "      <td>4295.200000</td>\n",
              "      <td>4295.200000</td>\n",
              "      <td>4295.200000</td>\n",
              "      <td>0.000000</td>\n",
              "      <td>0.600</td>\n",
              "      <td>-9.094947e-13</td>\n",
              "      <td>1.818989e-12</td>\n",
              "      <td>0.000000</td>\n",
              "      <td>0.000000</td>\n",
              "      <td>0.650</td>\n",
              "      <td>4295.200000</td>\n",
              "      <td>4295.200000</td>\n",
              "      <td>4295.200000</td>\n",
              "      <td>0.000000</td>\n",
              "      <td>0.800</td>\n",
              "      <td>-9.094947e-13</td>\n",
              "      <td>1.818989e-12</td>\n",
              "      <td>0.000000</td>\n",
              "      <td>0.000000</td>\n",
              "      <td>1.399</td>\n",
              "      <td>4295.042105</td>\n",
              "      <td>4294.995634</td>\n",
              "      <td>4295.199963</td>\n",
              "      <td>0.600000</td>\n",
              "      <td>0.900</td>\n",
              "      <td>-0.022105</td>\n",
              "      <td>-0.017209</td>\n",
              "      <td>0.000000</td>\n",
              "      <td>0.000000</td>\n",
              "      <td>1.599</td>\n",
              "      <td>4295.108469</td>\n",
              "      <td>4295.057385</td>\n",
              "      <td>...</td>\n",
              "      <td>0.766</td>\n",
              "      <td>4295.100000</td>\n",
              "      <td>4295.100000</td>\n",
              "      <td>4295.100000</td>\n",
              "      <td>0.000000</td>\n",
              "      <td>4.084</td>\n",
              "      <td>-1.818989e-12</td>\n",
              "      <td>-1.818989e-12</td>\n",
              "      <td>0.000000</td>\n",
              "      <td>0.000000</td>\n",
              "      <td>0.766</td>\n",
              "      <td>4295.100000</td>\n",
              "      <td>4295.100000</td>\n",
              "      <td>4295.100000</td>\n",
              "      <td>0.000000</td>\n",
              "      <td>4.284</td>\n",
              "      <td>-0.035294</td>\n",
              "      <td>-0.011881</td>\n",
              "      <td>-0.000009</td>\n",
              "      <td>0.600000</td>\n",
              "      <td>1.166</td>\n",
              "      <td>4294.992437</td>\n",
              "      <td>4295.056835</td>\n",
              "      <td>4295.100000</td>\n",
              "      <td>0.000000</td>\n",
              "      <td>4.284</td>\n",
              "      <td>-0.035294</td>\n",
              "      <td>-0.011881</td>\n",
              "      <td>-0.000009</td>\n",
              "      <td>0.600000</td>\n",
              "      <td>34.697</td>\n",
              "      <td>4295.529889</td>\n",
              "      <td>4296.089565</td>\n",
              "      <td>4295.100000</td>\n",
              "      <td>-0.339130</td>\n",
              "      <td>4.384</td>\n",
              "      <td>-0.014099</td>\n",
              "      <td>-0.011312</td>\n",
              "      <td>-0.000009</td>\n",
              "      <td>0.600000</td>\n",
              "    </tr>\n",
              "    <tr>\n",
              "      <th>2</th>\n",
              "      <td>0.200</td>\n",
              "      <td>0.0</td>\n",
              "      <td>49.298</td>\n",
              "      <td>-0.233333</td>\n",
              "      <td>-0.397980</td>\n",
              "      <td>-0.193750</td>\n",
              "      <td>0.000000</td>\n",
              "      <td>0.500</td>\n",
              "      <td>4290.411111</td>\n",
              "      <td>4290.106615</td>\n",
              "      <td>4290.114063</td>\n",
              "      <td>0.000000</td>\n",
              "      <td>49.398</td>\n",
              "      <td>-1.711111e-01</td>\n",
              "      <td>-3.957925e-01</td>\n",
              "      <td>-0.193750</td>\n",
              "      <td>0.000000</td>\n",
              "      <td>0.700</td>\n",
              "      <td>4290.787778</td>\n",
              "      <td>4290.117749</td>\n",
              "      <td>4290.115723</td>\n",
              "      <td>0.000000</td>\n",
              "      <td>49.798</td>\n",
              "      <td>8.497222e-01</td>\n",
              "      <td>-3.563609e-01</td>\n",
              "      <td>-0.193286</td>\n",
              "      <td>0.000000</td>\n",
              "      <td>0.946</td>\n",
              "      <td>4291.272500</td>\n",
              "      <td>4290.147993</td>\n",
              "      <td>4290.115738</td>\n",
              "      <td>0.000000</td>\n",
              "      <td>49.898</td>\n",
              "      <td>1.053816</td>\n",
              "      <td>-0.344150</td>\n",
              "      <td>-0.193286</td>\n",
              "      <td>0.000000</td>\n",
              "      <td>1.166</td>\n",
              "      <td>4291.773457</td>\n",
              "      <td>4290.174688</td>\n",
              "      <td>...</td>\n",
              "      <td>6.920</td>\n",
              "      <td>4289.464706</td>\n",
              "      <td>4289.575554</td>\n",
              "      <td>4289.599996</td>\n",
              "      <td>0.000000</td>\n",
              "      <td>145.457</td>\n",
              "      <td>9.322638e-01</td>\n",
              "      <td>1.074720e+00</td>\n",
              "      <td>0.103906</td>\n",
              "      <td>0.000000</td>\n",
              "      <td>12.726</td>\n",
              "      <td>4289.621395</td>\n",
              "      <td>4289.586815</td>\n",
              "      <td>4289.599996</td>\n",
              "      <td>0.000000</td>\n",
              "      <td>152.812</td>\n",
              "      <td>1.262279</td>\n",
              "      <td>1.162220</td>\n",
              "      <td>0.103906</td>\n",
              "      <td>0.000000</td>\n",
              "      <td>21.783</td>\n",
              "      <td>4290.098436</td>\n",
              "      <td>4289.800389</td>\n",
              "      <td>4289.599996</td>\n",
              "      <td>0.000000</td>\n",
              "      <td>153.112</td>\n",
              "      <td>1.476141</td>\n",
              "      <td>1.170117</td>\n",
              "      <td>0.103906</td>\n",
              "      <td>0.000000</td>\n",
              "      <td>22.783</td>\n",
              "      <td>4290.240253</td>\n",
              "      <td>4289.828414</td>\n",
              "      <td>4289.599996</td>\n",
              "      <td>0.000000</td>\n",
              "      <td>153.412</td>\n",
              "      <td>1.644122</td>\n",
              "      <td>1.177441</td>\n",
              "      <td>0.103906</td>\n",
              "      <td>0.000000</td>\n",
              "    </tr>\n",
              "    <tr>\n",
              "      <th>3</th>\n",
              "      <td>2.513</td>\n",
              "      <td>0.0</td>\n",
              "      <td>4.975</td>\n",
              "      <td>-0.645455</td>\n",
              "      <td>-0.763568</td>\n",
              "      <td>-0.031250</td>\n",
              "      <td>1.000000</td>\n",
              "      <td>38.830</td>\n",
              "      <td>4286.828063</td>\n",
              "      <td>4286.173049</td>\n",
              "      <td>4288.798984</td>\n",
              "      <td>0.000000</td>\n",
              "      <td>5.175</td>\n",
              "      <td>-6.280632e-01</td>\n",
              "      <td>-7.590665e-01</td>\n",
              "      <td>-0.031250</td>\n",
              "      <td>1.000000</td>\n",
              "      <td>38.830</td>\n",
              "      <td>4286.828063</td>\n",
              "      <td>4286.173049</td>\n",
              "      <td>4288.798984</td>\n",
              "      <td>0.000000</td>\n",
              "      <td>5.575</td>\n",
              "      <td>-5.039253e-01</td>\n",
              "      <td>-7.438789e-01</td>\n",
              "      <td>-0.031250</td>\n",
              "      <td>1.000000</td>\n",
              "      <td>48.346</td>\n",
              "      <td>4287.088300</td>\n",
              "      <td>4286.820879</td>\n",
              "      <td>4288.798984</td>\n",
              "      <td>-0.043478</td>\n",
              "      <td>5.575</td>\n",
              "      <td>-0.503925</td>\n",
              "      <td>-0.743879</td>\n",
              "      <td>-0.031250</td>\n",
              "      <td>1.000000</td>\n",
              "      <td>48.346</td>\n",
              "      <td>4287.088300</td>\n",
              "      <td>4286.820879</td>\n",
              "      <td>...</td>\n",
              "      <td>45.514</td>\n",
              "      <td>4286.986325</td>\n",
              "      <td>4286.717920</td>\n",
              "      <td>4287.925480</td>\n",
              "      <td>1.000000</td>\n",
              "      <td>13.863</td>\n",
              "      <td>-1.661325e+00</td>\n",
              "      <td>-1.145419e+00</td>\n",
              "      <td>-0.148438</td>\n",
              "      <td>0.000000</td>\n",
              "      <td>45.814</td>\n",
              "      <td>4287.084854</td>\n",
              "      <td>4286.725096</td>\n",
              "      <td>4287.925480</td>\n",
              "      <td>1.000000</td>\n",
              "      <td>19.263</td>\n",
              "      <td>-1.276380</td>\n",
              "      <td>-0.957510</td>\n",
              "      <td>-0.148438</td>\n",
              "      <td>-0.043478</td>\n",
              "      <td>45.964</td>\n",
              "      <td>4287.144713</td>\n",
              "      <td>4286.733450</td>\n",
              "      <td>4287.925480</td>\n",
              "      <td>0.947588</td>\n",
              "      <td>19.463</td>\n",
              "      <td>-1.159229</td>\n",
              "      <td>-0.946126</td>\n",
              "      <td>-0.148438</td>\n",
              "      <td>-0.055696</td>\n",
              "      <td>48.145</td>\n",
              "      <td>4287.609229</td>\n",
              "      <td>4286.905761</td>\n",
              "      <td>4287.925480</td>\n",
              "      <td>0.722363</td>\n",
              "      <td>43.943</td>\n",
              "      <td>-0.430562</td>\n",
              "      <td>1.037849</td>\n",
              "      <td>-0.148438</td>\n",
              "      <td>-0.237069</td>\n",
              "    </tr>\n",
              "    <tr>\n",
              "      <th>4</th>\n",
              "      <td>5.152</td>\n",
              "      <td>1.0</td>\n",
              "      <td>0.100</td>\n",
              "      <td>0.176190</td>\n",
              "      <td>0.033016</td>\n",
              "      <td>0.021875</td>\n",
              "      <td>-0.277778</td>\n",
              "      <td>5.252</td>\n",
              "      <td>4299.723810</td>\n",
              "      <td>4299.101513</td>\n",
              "      <td>4300.039062</td>\n",
              "      <td>0.927778</td>\n",
              "      <td>6.890</td>\n",
              "      <td>3.561905e-01</td>\n",
              "      <td>5.334730e-01</td>\n",
              "      <td>0.020898</td>\n",
              "      <td>-0.277778</td>\n",
              "      <td>14.568</td>\n",
              "      <td>4299.667339</td>\n",
              "      <td>4299.086324</td>\n",
              "      <td>4300.039050</td>\n",
              "      <td>0.927778</td>\n",
              "      <td>8.057</td>\n",
              "      <td>2.926611e-01</td>\n",
              "      <td>5.324518e-01</td>\n",
              "      <td>0.020898</td>\n",
              "      <td>-0.277778</td>\n",
              "      <td>15.068</td>\n",
              "      <td>4299.607339</td>\n",
              "      <td>4299.085918</td>\n",
              "      <td>4300.039050</td>\n",
              "      <td>0.927778</td>\n",
              "      <td>10.496</td>\n",
              "      <td>0.051282</td>\n",
              "      <td>0.435425</td>\n",
              "      <td>0.020898</td>\n",
              "      <td>-0.161111</td>\n",
              "      <td>176.716</td>\n",
              "      <td>4298.900070</td>\n",
              "      <td>4296.317358</td>\n",
              "      <td>...</td>\n",
              "      <td>9.616</td>\n",
              "      <td>4299.861667</td>\n",
              "      <td>4299.955355</td>\n",
              "      <td>4299.750195</td>\n",
              "      <td>0.819643</td>\n",
              "      <td>6.406</td>\n",
              "      <td>4.820833e-01</td>\n",
              "      <td>7.989454e-01</td>\n",
              "      <td>0.087427</td>\n",
              "      <td>-0.257143</td>\n",
              "      <td>9.716</td>\n",
              "      <td>4299.835564</td>\n",
              "      <td>4299.950056</td>\n",
              "      <td>4299.750195</td>\n",
              "      <td>0.819643</td>\n",
              "      <td>6.506</td>\n",
              "      <td>0.436658</td>\n",
              "      <td>0.791246</td>\n",
              "      <td>0.087424</td>\n",
              "      <td>-0.257143</td>\n",
              "      <td>19.332</td>\n",
              "      <td>4299.695160</td>\n",
              "      <td>4299.488087</td>\n",
              "      <td>4299.750195</td>\n",
              "      <td>0.819643</td>\n",
              "      <td>6.706</td>\n",
              "      <td>0.304840</td>\n",
              "      <td>0.777963</td>\n",
              "      <td>0.087423</td>\n",
              "      <td>-0.111310</td>\n",
              "      <td>19.532</td>\n",
              "      <td>4299.406698</td>\n",
              "      <td>4299.457474</td>\n",
              "      <td>4299.750195</td>\n",
              "      <td>0.971310</td>\n",
              "      <td>16.675</td>\n",
              "      <td>-0.203365</td>\n",
              "      <td>-0.415728</td>\n",
              "      <td>0.087423</td>\n",
              "      <td>-0.111310</td>\n",
              "    </tr>\n",
              "    <tr>\n",
              "      <th>...</th>\n",
              "      <td>...</td>\n",
              "      <td>...</td>\n",
              "      <td>...</td>\n",
              "      <td>...</td>\n",
              "      <td>...</td>\n",
              "      <td>...</td>\n",
              "      <td>...</td>\n",
              "      <td>...</td>\n",
              "      <td>...</td>\n",
              "      <td>...</td>\n",
              "      <td>...</td>\n",
              "      <td>...</td>\n",
              "      <td>...</td>\n",
              "      <td>...</td>\n",
              "      <td>...</td>\n",
              "      <td>...</td>\n",
              "      <td>...</td>\n",
              "      <td>...</td>\n",
              "      <td>...</td>\n",
              "      <td>...</td>\n",
              "      <td>...</td>\n",
              "      <td>...</td>\n",
              "      <td>...</td>\n",
              "      <td>...</td>\n",
              "      <td>...</td>\n",
              "      <td>...</td>\n",
              "      <td>...</td>\n",
              "      <td>...</td>\n",
              "      <td>...</td>\n",
              "      <td>...</td>\n",
              "      <td>...</td>\n",
              "      <td>...</td>\n",
              "      <td>...</td>\n",
              "      <td>...</td>\n",
              "      <td>...</td>\n",
              "      <td>...</td>\n",
              "      <td>...</td>\n",
              "      <td>...</td>\n",
              "      <td>...</td>\n",
              "      <td>...</td>\n",
              "      <td>...</td>\n",
              "      <td>...</td>\n",
              "      <td>...</td>\n",
              "      <td>...</td>\n",
              "      <td>...</td>\n",
              "      <td>...</td>\n",
              "      <td>...</td>\n",
              "      <td>...</td>\n",
              "      <td>...</td>\n",
              "      <td>...</td>\n",
              "      <td>...</td>\n",
              "      <td>...</td>\n",
              "      <td>...</td>\n",
              "      <td>...</td>\n",
              "      <td>...</td>\n",
              "      <td>...</td>\n",
              "      <td>...</td>\n",
              "      <td>...</td>\n",
              "      <td>...</td>\n",
              "      <td>...</td>\n",
              "      <td>...</td>\n",
              "      <td>...</td>\n",
              "      <td>...</td>\n",
              "      <td>...</td>\n",
              "      <td>...</td>\n",
              "      <td>...</td>\n",
              "      <td>...</td>\n",
              "      <td>...</td>\n",
              "      <td>...</td>\n",
              "      <td>...</td>\n",
              "      <td>...</td>\n",
              "      <td>...</td>\n",
              "      <td>...</td>\n",
              "      <td>...</td>\n",
              "      <td>...</td>\n",
              "      <td>...</td>\n",
              "      <td>...</td>\n",
              "      <td>...</td>\n",
              "      <td>...</td>\n",
              "      <td>...</td>\n",
              "      <td>...</td>\n",
              "    </tr>\n",
              "    <tr>\n",
              "      <th>38742</th>\n",
              "      <td>6.446</td>\n",
              "      <td>0.5</td>\n",
              "      <td>12.537</td>\n",
              "      <td>-1.307143</td>\n",
              "      <td>-1.443902</td>\n",
              "      <td>-0.237500</td>\n",
              "      <td>0.500000</td>\n",
              "      <td>6.446</td>\n",
              "      <td>3938.750000</td>\n",
              "      <td>3938.960596</td>\n",
              "      <td>3938.750000</td>\n",
              "      <td>0.500000</td>\n",
              "      <td>12.537</td>\n",
              "      <td>-1.307143e+00</td>\n",
              "      <td>-1.443902e+00</td>\n",
              "      <td>-0.237500</td>\n",
              "      <td>0.500000</td>\n",
              "      <td>16.445</td>\n",
              "      <td>3938.851587</td>\n",
              "      <td>3939.092839</td>\n",
              "      <td>3938.761719</td>\n",
              "      <td>0.500000</td>\n",
              "      <td>12.537</td>\n",
              "      <td>-1.307143e+00</td>\n",
              "      <td>-1.443902e+00</td>\n",
              "      <td>-0.237500</td>\n",
              "      <td>0.500000</td>\n",
              "      <td>326.444</td>\n",
              "      <td>3939.054762</td>\n",
              "      <td>3939.322437</td>\n",
              "      <td>3938.761719</td>\n",
              "      <td>0.500000</td>\n",
              "      <td>12.537</td>\n",
              "      <td>-1.307143</td>\n",
              "      <td>-1.443902</td>\n",
              "      <td>-0.237500</td>\n",
              "      <td>0.500000</td>\n",
              "      <td>336.443</td>\n",
              "      <td>3939.084416</td>\n",
              "      <td>3939.337378</td>\n",
              "      <td>...</td>\n",
              "      <td>15.618</td>\n",
              "      <td>3937.425000</td>\n",
              "      <td>3937.284345</td>\n",
              "      <td>3937.050000</td>\n",
              "      <td>0.000000</td>\n",
              "      <td>0.000</td>\n",
              "      <td>0.000000e+00</td>\n",
              "      <td>0.000000e+00</td>\n",
              "      <td>0.000000</td>\n",
              "      <td>0.000000</td>\n",
              "      <td>26.117</td>\n",
              "      <td>3937.550000</td>\n",
              "      <td>3937.491638</td>\n",
              "      <td>3937.050000</td>\n",
              "      <td>0.000000</td>\n",
              "      <td>0.000</td>\n",
              "      <td>0.000000</td>\n",
              "      <td>0.000000</td>\n",
              "      <td>0.000000</td>\n",
              "      <td>0.000000</td>\n",
              "      <td>36.116</td>\n",
              "      <td>3937.737500</td>\n",
              "      <td>3937.715439</td>\n",
              "      <td>3937.057813</td>\n",
              "      <td>0.000000</td>\n",
              "      <td>3.000</td>\n",
              "      <td>0.062500</td>\n",
              "      <td>0.044833</td>\n",
              "      <td>0.000000</td>\n",
              "      <td>0.000000</td>\n",
              "      <td>45.331</td>\n",
              "      <td>3937.787500</td>\n",
              "      <td>3937.818346</td>\n",
              "      <td>3937.057813</td>\n",
              "      <td>0.000000</td>\n",
              "      <td>3.000</td>\n",
              "      <td>0.062500</td>\n",
              "      <td>0.044833</td>\n",
              "      <td>0.000000</td>\n",
              "      <td>0.000000</td>\n",
              "    </tr>\n",
              "    <tr>\n",
              "      <th>38743</th>\n",
              "      <td>0.499</td>\n",
              "      <td>0.0</td>\n",
              "      <td>0.000</td>\n",
              "      <td>0.000000</td>\n",
              "      <td>0.000000</td>\n",
              "      <td>0.000000</td>\n",
              "      <td>0.000000</td>\n",
              "      <td>10.498</td>\n",
              "      <td>3935.900000</td>\n",
              "      <td>3935.900000</td>\n",
              "      <td>3935.900000</td>\n",
              "      <td>0.000000</td>\n",
              "      <td>0.000</td>\n",
              "      <td>0.000000e+00</td>\n",
              "      <td>0.000000e+00</td>\n",
              "      <td>0.000000</td>\n",
              "      <td>0.000000</td>\n",
              "      <td>18.263</td>\n",
              "      <td>3936.000000</td>\n",
              "      <td>3936.027553</td>\n",
              "      <td>3935.975000</td>\n",
              "      <td>0.000000</td>\n",
              "      <td>0.000</td>\n",
              "      <td>0.000000e+00</td>\n",
              "      <td>0.000000e+00</td>\n",
              "      <td>0.000000</td>\n",
              "      <td>0.000000</td>\n",
              "      <td>18.263</td>\n",
              "      <td>3936.000000</td>\n",
              "      <td>3936.027553</td>\n",
              "      <td>3935.975000</td>\n",
              "      <td>0.000000</td>\n",
              "      <td>9.999</td>\n",
              "      <td>0.480000</td>\n",
              "      <td>0.414808</td>\n",
              "      <td>0.125000</td>\n",
              "      <td>0.000000</td>\n",
              "      <td>18.263</td>\n",
              "      <td>3936.000000</td>\n",
              "      <td>3936.027553</td>\n",
              "      <td>...</td>\n",
              "      <td>19.998</td>\n",
              "      <td>3935.800000</td>\n",
              "      <td>3935.800000</td>\n",
              "      <td>3935.800000</td>\n",
              "      <td>0.000000</td>\n",
              "      <td>5.000</td>\n",
              "      <td>0.000000e+00</td>\n",
              "      <td>0.000000e+00</td>\n",
              "      <td>0.000000</td>\n",
              "      <td>0.000000</td>\n",
              "      <td>52.763</td>\n",
              "      <td>3935.962500</td>\n",
              "      <td>3935.930012</td>\n",
              "      <td>3935.825000</td>\n",
              "      <td>0.000000</td>\n",
              "      <td>5.000</td>\n",
              "      <td>0.000000</td>\n",
              "      <td>0.000000</td>\n",
              "      <td>0.000000</td>\n",
              "      <td>0.000000</td>\n",
              "      <td>53.177</td>\n",
              "      <td>3936.088889</td>\n",
              "      <td>3935.938338</td>\n",
              "      <td>3935.828906</td>\n",
              "      <td>0.000000</td>\n",
              "      <td>14.999</td>\n",
              "      <td>0.101111</td>\n",
              "      <td>0.170375</td>\n",
              "      <td>0.000000</td>\n",
              "      <td>0.000000</td>\n",
              "      <td>78.177</td>\n",
              "      <td>3936.171616</td>\n",
              "      <td>3936.204310</td>\n",
              "      <td>3935.828906</td>\n",
              "      <td>0.000000</td>\n",
              "      <td>16.877</td>\n",
              "      <td>0.170051</td>\n",
              "      <td>0.184705</td>\n",
              "      <td>0.000000</td>\n",
              "      <td>0.000000</td>\n",
              "    </tr>\n",
              "    <tr>\n",
              "      <th>38744</th>\n",
              "      <td>9.999</td>\n",
              "      <td>0.0</td>\n",
              "      <td>0.000</td>\n",
              "      <td>0.000000</td>\n",
              "      <td>0.000000</td>\n",
              "      <td>0.000000</td>\n",
              "      <td>0.000000</td>\n",
              "      <td>19.998</td>\n",
              "      <td>3932.600000</td>\n",
              "      <td>3932.600000</td>\n",
              "      <td>3932.600000</td>\n",
              "      <td>0.000000</td>\n",
              "      <td>0.000</td>\n",
              "      <td>0.000000e+00</td>\n",
              "      <td>0.000000e+00</td>\n",
              "      <td>0.000000</td>\n",
              "      <td>0.000000</td>\n",
              "      <td>29.997</td>\n",
              "      <td>3932.600000</td>\n",
              "      <td>3932.600000</td>\n",
              "      <td>3932.600000</td>\n",
              "      <td>0.000000</td>\n",
              "      <td>0.038</td>\n",
              "      <td>0.000000e+00</td>\n",
              "      <td>0.000000e+00</td>\n",
              "      <td>0.000000</td>\n",
              "      <td>0.000000</td>\n",
              "      <td>71.013</td>\n",
              "      <td>3932.533333</td>\n",
              "      <td>3932.543694</td>\n",
              "      <td>3932.597070</td>\n",
              "      <td>0.200000</td>\n",
              "      <td>0.038</td>\n",
              "      <td>0.000000</td>\n",
              "      <td>0.000000</td>\n",
              "      <td>0.000000</td>\n",
              "      <td>0.000000</td>\n",
              "      <td>81.012</td>\n",
              "      <td>3932.615385</td>\n",
              "      <td>3932.674009</td>\n",
              "      <td>...</td>\n",
              "      <td>19.177</td>\n",
              "      <td>3932.500000</td>\n",
              "      <td>3932.500000</td>\n",
              "      <td>3932.500000</td>\n",
              "      <td>0.000000</td>\n",
              "      <td>0.000</td>\n",
              "      <td>0.000000e+00</td>\n",
              "      <td>0.000000e+00</td>\n",
              "      <td>0.000000</td>\n",
              "      <td>0.000000</td>\n",
              "      <td>29.176</td>\n",
              "      <td>3932.500000</td>\n",
              "      <td>3932.500000</td>\n",
              "      <td>3932.500000</td>\n",
              "      <td>0.000000</td>\n",
              "      <td>0.000</td>\n",
              "      <td>0.000000</td>\n",
              "      <td>0.000000</td>\n",
              "      <td>0.000000</td>\n",
              "      <td>0.000000</td>\n",
              "      <td>39.242</td>\n",
              "      <td>3932.500000</td>\n",
              "      <td>3932.550619</td>\n",
              "      <td>3932.500000</td>\n",
              "      <td>0.200000</td>\n",
              "      <td>604.301</td>\n",
              "      <td>-0.429412</td>\n",
              "      <td>-0.715022</td>\n",
              "      <td>-0.001892</td>\n",
              "      <td>0.442857</td>\n",
              "      <td>65.138</td>\n",
              "      <td>3932.666254</td>\n",
              "      <td>3932.624203</td>\n",
              "      <td>3932.500000</td>\n",
              "      <td>0.119643</td>\n",
              "      <td>604.301</td>\n",
              "      <td>-0.429412</td>\n",
              "      <td>-0.715022</td>\n",
              "      <td>-0.001892</td>\n",
              "      <td>0.442857</td>\n",
              "    </tr>\n",
              "    <tr>\n",
              "      <th>38745</th>\n",
              "      <td>58.332</td>\n",
              "      <td>1.0</td>\n",
              "      <td>0.861</td>\n",
              "      <td>-0.591667</td>\n",
              "      <td>-0.041997</td>\n",
              "      <td>-0.200000</td>\n",
              "      <td>0.000000</td>\n",
              "      <td>63.914</td>\n",
              "      <td>3940.947222</td>\n",
              "      <td>3942.738596</td>\n",
              "      <td>3942.648047</td>\n",
              "      <td>1.000000</td>\n",
              "      <td>10.861</td>\n",
              "      <td>-1.308761e+00</td>\n",
              "      <td>-6.777028e-01</td>\n",
              "      <td>-0.200586</td>\n",
              "      <td>0.000000</td>\n",
              "      <td>73.914</td>\n",
              "      <td>3940.602511</td>\n",
              "      <td>3942.235984</td>\n",
              "      <td>3942.648047</td>\n",
              "      <td>1.000000</td>\n",
              "      <td>10.861</td>\n",
              "      <td>-1.308761e+00</td>\n",
              "      <td>-6.777028e-01</td>\n",
              "      <td>-0.200586</td>\n",
              "      <td>0.000000</td>\n",
              "      <td>164.820</td>\n",
              "      <td>3939.990579</td>\n",
              "      <td>3939.702811</td>\n",
              "      <td>3942.648042</td>\n",
              "      <td>1.000000</td>\n",
              "      <td>30.649</td>\n",
              "      <td>-1.565579</td>\n",
              "      <td>-1.040197</td>\n",
              "      <td>-0.200586</td>\n",
              "      <td>0.000000</td>\n",
              "      <td>165.954</td>\n",
              "      <td>3939.696348</td>\n",
              "      <td>3939.679378</td>\n",
              "      <td>...</td>\n",
              "      <td>1.381</td>\n",
              "      <td>3938.400000</td>\n",
              "      <td>3938.400000</td>\n",
              "      <td>3938.400000</td>\n",
              "      <td>0.000000</td>\n",
              "      <td>3.005</td>\n",
              "      <td>-9.500000e-01</td>\n",
              "      <td>-1.301756e+00</td>\n",
              "      <td>-0.950000</td>\n",
              "      <td>1.000000</td>\n",
              "      <td>87.583</td>\n",
              "      <td>3936.900000</td>\n",
              "      <td>3936.593663</td>\n",
              "      <td>3938.075000</td>\n",
              "      <td>0.000000</td>\n",
              "      <td>3.005</td>\n",
              "      <td>-0.950000</td>\n",
              "      <td>-1.301756</td>\n",
              "      <td>-0.950000</td>\n",
              "      <td>1.000000</td>\n",
              "      <td>88.059</td>\n",
              "      <td>3936.635714</td>\n",
              "      <td>3936.587433</td>\n",
              "      <td>3938.057813</td>\n",
              "      <td>0.000000</td>\n",
              "      <td>3.005</td>\n",
              "      <td>-0.950000</td>\n",
              "      <td>-1.301756</td>\n",
              "      <td>-0.950000</td>\n",
              "      <td>1.000000</td>\n",
              "      <td>88.059</td>\n",
              "      <td>3936.635714</td>\n",
              "      <td>3936.587433</td>\n",
              "      <td>3938.057813</td>\n",
              "      <td>0.000000</td>\n",
              "      <td>3.005</td>\n",
              "      <td>-0.950000</td>\n",
              "      <td>-1.301756</td>\n",
              "      <td>-0.950000</td>\n",
              "      <td>1.000000</td>\n",
              "    </tr>\n",
              "    <tr>\n",
              "      <th>38746</th>\n",
              "      <td>72.433</td>\n",
              "      <td>1.0</td>\n",
              "      <td>9.809</td>\n",
              "      <td>-0.657778</td>\n",
              "      <td>-0.190474</td>\n",
              "      <td>-0.025000</td>\n",
              "      <td>0.000000</td>\n",
              "      <td>75.433</td>\n",
              "      <td>3939.697778</td>\n",
              "      <td>3939.847495</td>\n",
              "      <td>3939.987500</td>\n",
              "      <td>1.000000</td>\n",
              "      <td>271.393</td>\n",
              "      <td>-2.188304e-01</td>\n",
              "      <td>2.401399e-01</td>\n",
              "      <td>-0.022692</td>\n",
              "      <td>-0.280000</td>\n",
              "      <td>720.208</td>\n",
              "      <td>3940.120323</td>\n",
              "      <td>3939.819083</td>\n",
              "      <td>3939.987505</td>\n",
              "      <td>0.880000</td>\n",
              "      <td>271.989</td>\n",
              "      <td>-2.144406e-01</td>\n",
              "      <td>2.402245e-01</td>\n",
              "      <td>-0.022692</td>\n",
              "      <td>-0.280000</td>\n",
              "      <td>1014.379</td>\n",
              "      <td>3940.314441</td>\n",
              "      <td>3939.960966</td>\n",
              "      <td>3939.987505</td>\n",
              "      <td>0.680000</td>\n",
              "      <td>271.989</td>\n",
              "      <td>-0.214441</td>\n",
              "      <td>0.240224</td>\n",
              "      <td>-0.022692</td>\n",
              "      <td>-0.280000</td>\n",
              "      <td>1014.379</td>\n",
              "      <td>3940.314441</td>\n",
              "      <td>3939.960966</td>\n",
              "      <td>...</td>\n",
              "      <td>18.025</td>\n",
              "      <td>3939.875000</td>\n",
              "      <td>3939.730516</td>\n",
              "      <td>3939.992188</td>\n",
              "      <td>1.000000</td>\n",
              "      <td>1.126</td>\n",
              "      <td>-1.861111e-01</td>\n",
              "      <td>-4.771126e-02</td>\n",
              "      <td>-0.003125</td>\n",
              "      <td>0.000000</td>\n",
              "      <td>222.024</td>\n",
              "      <td>3939.146111</td>\n",
              "      <td>3938.490755</td>\n",
              "      <td>3939.992240</td>\n",
              "      <td>1.000000</td>\n",
              "      <td>37.443</td>\n",
              "      <td>0.020556</td>\n",
              "      <td>0.106465</td>\n",
              "      <td>-0.003125</td>\n",
              "      <td>-0.052632</td>\n",
              "      <td>250.694</td>\n",
              "      <td>3940.210479</td>\n",
              "      <td>3938.856573</td>\n",
              "      <td>3939.992240</td>\n",
              "      <td>0.419979</td>\n",
              "      <td>53.432</td>\n",
              "      <td>0.038752</td>\n",
              "      <td>0.182012</td>\n",
              "      <td>-0.003125</td>\n",
              "      <td>-0.052632</td>\n",
              "      <td>258.746</td>\n",
              "      <td>3940.212763</td>\n",
              "      <td>3938.891688</td>\n",
              "      <td>3939.992240</td>\n",
              "      <td>0.419979</td>\n",
              "      <td>54.123</td>\n",
              "      <td>0.040968</td>\n",
              "      <td>0.184941</td>\n",
              "      <td>-0.003125</td>\n",
              "      <td>-0.052632</td>\n",
              "    </tr>\n",
              "  </tbody>\n",
              "</table>\n",
              "<p>38747 rows × 94 columns</p>\n",
              "</div>\n",
              "      <button class=\"colab-df-convert\" onclick=\"convertToInteractive('df-e651a181-1786-4a09-bfa9-052638cf1beb')\"\n",
              "              title=\"Convert this dataframe to an interactive table.\"\n",
              "              style=\"display:none;\">\n",
              "        \n",
              "  <svg xmlns=\"http://www.w3.org/2000/svg\" height=\"24px\"viewBox=\"0 0 24 24\"\n",
              "       width=\"24px\">\n",
              "    <path d=\"M0 0h24v24H0V0z\" fill=\"none\"/>\n",
              "    <path d=\"M18.56 5.44l.94 2.06.94-2.06 2.06-.94-2.06-.94-.94-2.06-.94 2.06-2.06.94zm-11 1L8.5 8.5l.94-2.06 2.06-.94-2.06-.94L8.5 2.5l-.94 2.06-2.06.94zm10 10l.94 2.06.94-2.06 2.06-.94-2.06-.94-.94-2.06-.94 2.06-2.06.94z\"/><path d=\"M17.41 7.96l-1.37-1.37c-.4-.4-.92-.59-1.43-.59-.52 0-1.04.2-1.43.59L10.3 9.45l-7.72 7.72c-.78.78-.78 2.05 0 2.83L4 21.41c.39.39.9.59 1.41.59.51 0 1.02-.2 1.41-.59l7.78-7.78 2.81-2.81c.8-.78.8-2.07 0-2.86zM5.41 20L4 18.59l7.72-7.72 1.47 1.35L5.41 20z\"/>\n",
              "  </svg>\n",
              "      </button>\n",
              "      \n",
              "  <style>\n",
              "    .colab-df-container {\n",
              "      display:flex;\n",
              "      flex-wrap:wrap;\n",
              "      gap: 12px;\n",
              "    }\n",
              "\n",
              "    .colab-df-convert {\n",
              "      background-color: #E8F0FE;\n",
              "      border: none;\n",
              "      border-radius: 50%;\n",
              "      cursor: pointer;\n",
              "      display: none;\n",
              "      fill: #1967D2;\n",
              "      height: 32px;\n",
              "      padding: 0 0 0 0;\n",
              "      width: 32px;\n",
              "    }\n",
              "\n",
              "    .colab-df-convert:hover {\n",
              "      background-color: #E2EBFA;\n",
              "      box-shadow: 0px 1px 2px rgba(60, 64, 67, 0.3), 0px 1px 3px 1px rgba(60, 64, 67, 0.15);\n",
              "      fill: #174EA6;\n",
              "    }\n",
              "\n",
              "    [theme=dark] .colab-df-convert {\n",
              "      background-color: #3B4455;\n",
              "      fill: #D2E3FC;\n",
              "    }\n",
              "\n",
              "    [theme=dark] .colab-df-convert:hover {\n",
              "      background-color: #434B5C;\n",
              "      box-shadow: 0px 1px 3px 1px rgba(0, 0, 0, 0.15);\n",
              "      filter: drop-shadow(0px 1px 2px rgba(0, 0, 0, 0.3));\n",
              "      fill: #FFFFFF;\n",
              "    }\n",
              "  </style>\n",
              "\n",
              "      <script>\n",
              "        const buttonEl =\n",
              "          document.querySelector('#df-e651a181-1786-4a09-bfa9-052638cf1beb button.colab-df-convert');\n",
              "        buttonEl.style.display =\n",
              "          google.colab.kernel.accessAllowed ? 'block' : 'none';\n",
              "\n",
              "        async function convertToInteractive(key) {\n",
              "          const element = document.querySelector('#df-e651a181-1786-4a09-bfa9-052638cf1beb');\n",
              "          const dataTable =\n",
              "            await google.colab.kernel.invokeFunction('convertToInteractive',\n",
              "                                                     [key], {});\n",
              "          if (!dataTable) return;\n",
              "\n",
              "          const docLinkHtml = 'Like what you see? Visit the ' +\n",
              "            '<a target=\"_blank\" href=https://colab.research.google.com/notebooks/data_table.ipynb>data table notebook</a>'\n",
              "            + ' to learn more about interactive tables.';\n",
              "          element.innerHTML = '';\n",
              "          dataTable['output_type'] = 'display_data';\n",
              "          await google.colab.output.renderOutput(dataTable, element);\n",
              "          const docLink = document.createElement('div');\n",
              "          docLink.innerHTML = docLinkHtml;\n",
              "          element.appendChild(docLink);\n",
              "        }\n",
              "      </script>\n",
              "    </div>\n",
              "  </div>\n",
              "  "
            ],
            "text/plain": [
              "       trade_volume-BUY-6-sec  ...  stochastic_oscillator-SELL-60-sec\n",
              "0                       0.100  ...                           0.000000\n",
              "1                       0.200  ...                           0.600000\n",
              "2                       0.200  ...                           0.000000\n",
              "3                       2.513  ...                          -0.237069\n",
              "4                       5.152  ...                          -0.111310\n",
              "...                       ...  ...                                ...\n",
              "38742                   6.446  ...                           0.000000\n",
              "38743                   0.499  ...                           0.000000\n",
              "38744                   9.999  ...                           0.442857\n",
              "38745                  58.332  ...                           1.000000\n",
              "38746                  72.433  ...                          -0.052632\n",
              "\n",
              "[38747 rows x 94 columns]"
            ]
          },
          "metadata": {},
          "execution_count": 5
        }
      ],
      "source": [
        "X = df[x_columns]\n",
        "secs = list(reversed(sorted(list(set(map(lambda x : int(''.join(x)), [[s for s in column if s.isdigit()] for column in x_columns]))))))\n",
        "delta_sec = secs[0] - secs[1]\n",
        "\n",
        "for column in x_columns:\n",
        "  name, side, sec, _ = column.split('-')\n",
        "  if int(sec) == delta_sec:\n",
        "    continue\n",
        "  X[f'{name}-{side}-{sec}-sec'] -= X[f'{name}-{side}-{str(int(sec) - delta_sec)}-sec']\n",
        "\n",
        "for column in x_columns:\n",
        "  name, side, sec, _ = column.split('-')\n",
        "  if 'price' in name and int(sec) == delta_sec:\n",
        "    X = X.drop(f'{name}-{side}-{sec}-sec', axis=1)\n",
        "X"
      ],
      "id": "96ce2f97-578b-4e03-88df-68348c66e537"
    },
    {
      "cell_type": "code",
      "execution_count": 6,
      "metadata": {
        "colab": {
          "base_uri": "https://localhost:8080/"
        },
        "id": "70de5225-1eda-479f-9199-b176f49d7d9c",
        "outputId": "66c1afce-6e49-47a2-c070-22fad8515ba5"
      },
      "outputs": [
        {
          "output_type": "stream",
          "name": "stdout",
          "text": [
            "       target\n",
            "0           0\n",
            "1           0\n",
            "2           1\n",
            "3           1\n",
            "4           0\n",
            "...       ...\n",
            "38742       0\n",
            "38743      -1\n",
            "38744       0\n",
            "38745       0\n",
            "38746       0\n",
            "\n",
            "[38747 rows x 1 columns]\n",
            "target\n",
            " 0        28863\n",
            "-1         5479\n",
            " 1         4405\n",
            "dtype: int64\n"
          ]
        }
      ],
      "source": [
        "commision = 0.0002\n",
        "punch = commision * 5\n",
        "\n",
        "y = pd.DataFrame(\n",
        "    df[y_columns].apply(\n",
        "        lambda row : 1 if max(list(row.to_numpy()), key=abs) > punch else -1 if max(list(row.to_numpy()), key=abs) < -punch else 0,\n",
        "        axis = 1\n",
        "    )\n",
        ")\n",
        "y = y.rename({0:'target'}, axis='columns')\n",
        "print(y)\n",
        "print(y.value_counts())"
      ],
      "id": "70de5225-1eda-479f-9199-b176f49d7d9c"
    },
    {
      "cell_type": "code",
      "execution_count": 7,
      "metadata": {
        "id": "f0753b54-1efd-4f34-ba92-2547bb0e854a"
      },
      "outputs": [],
      "source": [
        "X_train, X_test, y_train, y_test = train_test_split(X, y, train_size=0.8, shuffle = True, random_state=12)\n",
        "X_train, X_validation, y_train, y_validation = train_test_split(X_train, y_train, train_size=0.75, shuffle = True, random_state=6)"
      ],
      "id": "f0753b54-1efd-4f34-ba92-2547bb0e854a"
    },
    {
      "cell_type": "code",
      "execution_count": 8,
      "metadata": {
        "colab": {
          "base_uri": "https://localhost:8080/"
        },
        "id": "tRIUmqrCuwLC",
        "outputId": "f28e2052-e69d-4364-c40c-7013be291cb6"
      },
      "outputs": [
        {
          "output_type": "stream",
          "name": "stdout",
          "text": [
            "100%|██████████| 2/2 [02:40<00:00, 80.00s/it, best loss: 0.24461260065842427]\n",
            "{'l2_leaf_reg': 2.0, 'learning_rate': 0.11805599862470245}\n"
          ]
        }
      ],
      "source": [
        "def hyperopt_objective(params):\n",
        "    model = CatBoostClassifier(\n",
        "        l2_leaf_reg=int(params['l2_leaf_reg']),\n",
        "        learning_rate=params['learning_rate'],\n",
        "        iterations=300,\n",
        "        eval_metric=metrics.Accuracy(),\n",
        "        random_seed=126,\n",
        "        verbose=False,\n",
        "        loss_function=metrics.MultiClass(),\n",
        "    )\n",
        "    \n",
        "    cv_data = cv(\n",
        "        Pool(X, y),\n",
        "        model.get_params(),\n",
        "        fold_count=3,\n",
        "        shuffle=True,\n",
        "        logging_level='Silent',\n",
        "        stratified=True,\n",
        "    )\n",
        "\n",
        "    best_accuracy = np.max(cv_data['test-Accuracy-mean'])\n",
        "    \n",
        "    return 1 - best_accuracy\n",
        "\n",
        "\n",
        "params_space = {\n",
        "    'l2_leaf_reg': hyperopt.hp.qloguniform('l2_leaf_reg', 0, 2, 1),\n",
        "    'learning_rate': hyperopt.hp.uniform('learning_rate', 1e-3, 5e-1),\n",
        "}\n",
        "\n",
        "trials = hyperopt.Trials()\n",
        "\n",
        "best = hyperopt.fmin(\n",
        "    hyperopt_objective,\n",
        "    space=params_space,\n",
        "    algo=hyperopt.tpe.suggest,\n",
        "    max_evals=2,\n",
        "    trials=trials,\n",
        "    rstate=RandomState(126)\n",
        ")\n",
        "\n",
        "print(best)"
      ],
      "id": "tRIUmqrCuwLC"
    },
    {
      "cell_type": "code",
      "execution_count": 9,
      "metadata": {
        "colab": {
          "base_uri": "https://localhost:8080/",
          "height": 34,
          "referenced_widgets": [
            "7e2244e98b9449bb97530b0a72ff2b09"
          ]
        },
        "id": "L8jyutxLiBqy",
        "outputId": "db6a7e05-cb30-4582-92c8-ea2db6180f49"
      },
      "outputs": [
        {
          "output_type": "display_data",
          "data": {
            "application/vnd.jupyter.widget-view+json": {
              "model_id": "7e2244e98b9449bb97530b0a72ff2b09",
              "version_minor": 0,
              "version_major": 2
            },
            "text/plain": [
              "MetricVisualizer(layout=Layout(align_self='stretch', height='500px'))"
            ]
          },
          "metadata": {}
        },
        {
          "output_type": "stream",
          "name": "stdout",
          "text": [
            "Model validation accuracy: 0.7581\n"
          ]
        }
      ],
      "source": [
        "params = {\n",
        "    'iterations': 300,\n",
        "    'l2_leaf_reg': best['l2_leaf_reg'],\n",
        "    'learning_rate': best['learning_rate'],\n",
        "    'custom_loss': [metrics.Accuracy()],\n",
        "    'eval_metric': metrics.Accuracy(),\n",
        "    'random_seed': 42,\n",
        "    'logging_level': 'Silent',\n",
        "    'loss_function': 'MultiClass',\n",
        "}\n",
        "train_pool = Pool(X_train, y_train)\n",
        "validate_pool = Pool(X_validation, y_validation)\n",
        "\n",
        "model = CatBoostClassifier(**params)\n",
        "model.fit(\n",
        "    train_pool,\n",
        "    eval_set=validate_pool,\n",
        "    plot=True,\n",
        "    verbose=10,\n",
        ")\n",
        "\n",
        "print('Model validation accuracy: {:.4}'.format(\n",
        "    accuracy_score(y_test, model.predict(X_test))\n",
        "))"
      ],
      "id": "L8jyutxLiBqy"
    },
    {
      "cell_type": "code",
      "execution_count": 10,
      "metadata": {
        "colab": {
          "base_uri": "https://localhost:8080/"
        },
        "id": "UFuSMQT5Avbl",
        "outputId": "c7990cf6-23ca-43a4-a64a-c4584d2c2bdf"
      },
      "outputs": [
        {
          "output_type": "stream",
          "name": "stdout",
          "text": [
            "[[-1]\n",
            " [ 0]\n",
            " [ 0]\n",
            " [ 0]\n",
            " [ 0]\n",
            " [ 0]\n",
            " [ 1]\n",
            " [ 0]\n",
            " [ 0]\n",
            " [ 0]]\n",
            "[[0.43854381 0.19396752 0.36748867]\n",
            " [0.19602682 0.66465755 0.13931562]\n",
            " [0.19096911 0.62275276 0.18627813]\n",
            " [0.10012534 0.80721012 0.09266455]\n",
            " [0.18284245 0.6700532  0.14710435]\n",
            " [0.07725659 0.85880308 0.06394033]\n",
            " [0.355423   0.22877747 0.41579953]\n",
            " [0.08027186 0.86205696 0.05767117]\n",
            " [0.05452579 0.90513901 0.04033521]\n",
            " [0.22574516 0.50911687 0.26513797]]\n",
            "       target\n",
            "20233      -1\n",
            "18782       0\n",
            "26657       0\n",
            "27456       0\n",
            "36872       0\n",
            "25891       0\n",
            "33455      -1\n",
            "23349       0\n",
            "4176        0\n",
            "37949       0\n"
          ]
        }
      ],
      "source": [
        "predictions = model.predict(X_test)\n",
        "predictions = predictions.reshape(predictions.shape[0], 1)\n",
        "predictions_probs = model.predict_proba(X_test)\n",
        "print(predictions[90:100])\n",
        "print(predictions_probs[90:100])\n",
        "print(y_test[90:100])"
      ],
      "id": "UFuSMQT5Avbl"
    },
    {
      "cell_type": "code",
      "execution_count": 11,
      "metadata": {
        "id": "LKsiuV0uA4I9",
        "colab": {
          "base_uri": "https://localhost:8080/"
        },
        "outputId": "c501abf3-908c-49f9-ece4-5e11621a1cad"
      },
      "outputs": [
        {
          "output_type": "stream",
          "name": "stdout",
          "text": [
            "trade_volume-SELL-30-sec: 3.8061964611425347\n",
            "moving_average_price-SELL-60-sec: 3.1520775323418295\n",
            "trade_volume-BUY-60-sec: 3.009795843863408\n",
            "trade_volume-SELL-54-sec: 2.528490158285116\n",
            "trade_volume-BUY-42-sec: 2.4709841166250537\n",
            "trade_volume-BUY-30-sec: 2.443549831235155\n",
            "trade_volume-SELL-42-sec: 2.411292240754306\n",
            "stochastic_oscillator-BUY-6-sec: 2.394864330495574\n",
            "weighted_moving_average_price-SELL-60-sec: 2.2846272966166215\n",
            "moving_average_price-SELL-12-sec: 2.2295172368030776\n",
            "trade_volume-BUY-54-sec: 2.147277816274238\n",
            "moving_average_price-BUY-18-sec: 2.0471848998542397\n",
            "weighted_moving_average_price-SELL-12-sec: 2.039889424299367\n",
            "trade_volume-SELL-36-sec: 1.977922160767204\n",
            "weighted_moving_average_price-BUY-18-sec: 1.973957043757653\n",
            "stochastic_oscillator-BUY-42-sec: 1.931933670258962\n",
            "moving_average_price-SELL-48-sec: 1.931862554607304\n",
            "trade_volume-SELL-12-sec: 1.762348926858085\n",
            "trade_volume-BUY-12-sec: 1.7292232080177201\n",
            "weighted_moving_average_price-BUY-54-sec: 1.723614286301477\n",
            "moving_average_price-BUY-60-sec: 1.7181861044938251\n",
            "moving_average_price-BUY-30-sec: 1.6912684204210984\n",
            "exp_moving_average_price-SELL-18-sec: 1.5945157978788849\n",
            "weighted_moving_average_price-BUY-60-sec: 1.5716533603079048\n",
            "exp_moving_average_price-BUY-48-sec: 1.5387924714577845\n",
            "moving_average_price-BUY-36-sec: 1.5200266887674885\n",
            "weighted_moving_average_price-BUY-24-sec: 1.374787487059219\n",
            "stochastic_oscillator-SELL-6-sec: 1.2873594445472936\n",
            "weighted_moving_average_price-BUY-36-sec: 1.2828259511421038\n",
            "weighted_moving_average_price-SELL-18-sec: 1.2823821315666801\n",
            "weighted_moving_average_price-SELL-36-sec: 1.2568999769973712\n",
            "trade_volume-SELL-24-sec: 1.2512875748006091\n",
            "weighted_moving_average_price-SELL-24-sec: 1.2487489385761847\n",
            "exp_moving_average_price-BUY-24-sec: 1.2485975389114523\n",
            "trade_volume-SELL-60-sec: 1.203550684185545\n",
            "trade_volume-SELL-48-sec: 1.1903131042917545\n",
            "moving_average_price-SELL-42-sec: 1.1879137386559908\n",
            "trade_volume-SELL-18-sec: 1.1710438792749993\n",
            "trade_volume-BUY-36-sec: 1.1541137211643981\n",
            "weighted_moving_average_price-BUY-42-sec: 1.1373039512754914\n",
            "exp_moving_average_price-SELL-54-sec: 1.124522687713639\n",
            "trade_volume-BUY-24-sec: 1.1203751075797825\n",
            "moving_average_price-BUY-24-sec: 1.08381362129335\n",
            "weighted_moving_average_price-SELL-54-sec: 1.0141688237925488\n",
            "trade_volume-SELL-6-sec: 0.9888312192295025\n",
            "moving_average_price-SELL-36-sec: 0.9151608207030312\n",
            "moving_average_price-BUY-48-sec: 0.9098922800719356\n",
            "moving_average_price-SELL-24-sec: 0.8647867010931721\n",
            "weighted_moving_average_price-BUY-48-sec: 0.8552385727343366\n",
            "stochastic_oscillator-BUY-60-sec: 0.8298610548397245\n",
            "exp_moving_average_price-SELL-60-sec: 0.8118973818853265\n",
            "trade_volume-BUY-6-sec: 0.8045695025498636\n",
            "stochastic_oscillator-BUY-48-sec: 0.8045390024075233\n",
            "moving_average_price-BUY-42-sec: 0.8027544328506381\n",
            "stochastic_oscillator-SELL-24-sec: 0.7397216267748764\n",
            "trade_volume-BUY-48-sec: 0.7245379951700892\n",
            "exp_moving_average_price-BUY-30-sec: 0.7149022137249338\n",
            "weighted_moving_average_price-BUY-30-sec: 0.7010335400682414\n",
            "stochastic_oscillator-SELL-54-sec: 0.6425395008791914\n",
            "stochastic_oscillator-BUY-36-sec: 0.6419941833919338\n",
            "exp_moving_average_price-SELL-36-sec: 0.6285143659485084\n",
            "exp_moving_average_price-BUY-36-sec: 0.6076630551608997\n",
            "weighted_moving_average_price-SELL-48-sec: 0.5991843452606455\n",
            "stochastic_oscillator-BUY-18-sec: 0.5642452496267709\n",
            "stochastic_oscillator-BUY-12-sec: 0.5452009565810749\n",
            "exp_moving_average_price-BUY-60-sec: 0.5167166234871031\n",
            "stochastic_oscillator-SELL-42-sec: 0.5124625809316441\n",
            "moving_average_price-SELL-30-sec: 0.49899856947324717\n",
            "weighted_moving_average_price-BUY-12-sec: 0.482193304138287\n",
            "exp_moving_average_price-SELL-30-sec: 0.427213591743564\n",
            "stochastic_oscillator-SELL-36-sec: 0.4088282212278537\n",
            "weighted_moving_average_price-SELL-42-sec: 0.3375220318610275\n",
            "stochastic_oscillator-SELL-18-sec: 0.33562062258212844\n",
            "exp_moving_average_price-SELL-12-sec: 0.31322785203320486\n",
            "stochastic_oscillator-SELL-30-sec: 0.30476658465289413\n",
            "weighted_moving_average_price-SELL-30-sec: 0.2996468105128938\n",
            "exp_moving_average_price-SELL-48-sec: 0.2663508951737115\n",
            "stochastic_oscillator-SELL-60-sec: 0.2535938557224035\n",
            "exp_moving_average_price-BUY-12-sec: 0.23303925397940584\n",
            "exp_moving_average_price-BUY-18-sec: 0.22845089688671982\n",
            "moving_average_price-SELL-18-sec: 0.2216570083033167\n",
            "exp_moving_average_price-SELL-42-sec: 0.19412217839267482\n",
            "trade_volume-BUY-18-sec: 0.18181986802301733\n",
            "stochastic_oscillator-SELL-12-sec: 0.1803227047136932\n",
            "moving_average_price-BUY-54-sec: 0.16411726710553176\n",
            "stochastic_oscillator-BUY-30-sec: 0.1511609408484563\n",
            "exp_moving_average_price-BUY-54-sec: 0.1413578572142904\n",
            "exp_moving_average_price-SELL-24-sec: 0.14059212169645055\n",
            "exp_moving_average_price-BUY-42-sec: 0.10556259742694941\n",
            "moving_average_price-SELL-54-sec: 0.07751965560458529\n",
            "stochastic_oscillator-BUY-24-sec: 0.0750078599984263\n",
            "stochastic_oscillator-SELL-48-sec: 0.0\n",
            "stochastic_oscillator-BUY-54-sec: 0.0\n",
            "moving_average_price-BUY-12-sec: 0.0\n"
          ]
        }
      ],
      "source": [
        "feature_importances = model.get_feature_importance(train_pool)\n",
        "feature_names = X_train.columns\n",
        "for score, name in sorted(zip(feature_importances, feature_names), reverse=True):\n",
        "    print('{}: {}'.format(name, score))\n"
      ],
      "id": "LKsiuV0uA4I9"
    },
    {
      "cell_type": "code",
      "execution_count": 13,
      "metadata": {
        "id": "nYtYQuKh3n8N"
      },
      "outputs": [],
      "source": [
        "results = []\n",
        "\n",
        "def f(prob_threshold, diff_threshold):\n",
        "    p = np.array((list(map(lambda row:\n",
        "                          1\n",
        "                          if row[2] > prob_threshold\n",
        "                              and row[2] == max(row)\n",
        "                              and abs(row[2] - row[0]) > diff_threshold\n",
        "                              and abs(row[2] - row[1]) > diff_threshold\n",
        "                          else\n",
        "                          -1\n",
        "                          if row[0] > prob_threshold\n",
        "                              and row[0] == max(row)\n",
        "                              and abs(row[0] - row[2]) > diff_threshold\n",
        "                              and abs(row[0] - row[1]) > diff_threshold\n",
        "                          else 0,\n",
        "                          predictions_probs))))\n",
        "    result = {\n",
        "        'correct_predictions': 0,\n",
        "        'false_positive': 0,\n",
        "        'false_negative': 0,\n",
        "        'wrong_side': 0,\n",
        "    }\n",
        "    for i in range(len(p)):\n",
        "      t = int(y_test['target'][i:i+1])\n",
        "      if p[i] == t != 0:\n",
        "        result['correct_predictions'] += 1\n",
        "      elif p[i] == t != 0:\n",
        "        result['wrong_side'] += 1\n",
        "      elif p[i] != 0 and t == 0:\n",
        "        result['false_positive'] += 1\n",
        "      elif p[i] == 0 and t != 0:\n",
        "        result['false_negative'] += 1\n",
        "\n",
        "    result['correct_predictions'] /= len(y_test)\n",
        "    result['false_positive'] /= len(y_test)\n",
        "    result['false_negative'] /= len(y_test)\n",
        "    result['wrong_side'] /= len(y_test)\n",
        "    result['prob_threshold'] = prob_threshold\n",
        "    result['diff_threshold'] = diff_threshold\n",
        "    results.append(result)\n",
        "\n",
        "for prob_threshold in np.arange(0.3, 0.6, 0.01):\n",
        "    for diff_threshold in np.arange(0.01, 0.02, 0.01):\n",
        "      f(prob_threshold, diff_threshold)\n",
        "\n",
        "results = list(reversed(sorted(results, key=lambda trade: trade['correct_predictions'])))"
      ],
      "id": "nYtYQuKh3n8N"
    },
    {
      "cell_type": "code",
      "source": [
        "prob_threshold = results[0]['prob_threshold']\n",
        "diff_threshold = results[0]['diff_threshold']\n",
        "print(f\"prob_threshold {prob_threshold}, diff_threshold {diff_threshold}\")\n",
        "p = np.array((list(map(lambda row:\n",
        "                      1\n",
        "                      if row[2] > prob_threshold\n",
        "                          and row[2] == max(row)\n",
        "                          and abs(row[2] - row[0]) > diff_threshold\n",
        "                          and abs(row[2] - row[1]) > diff_threshold\n",
        "                      else\n",
        "                      -1\n",
        "                      if row[0] > prob_threshold\n",
        "                          and row[0] == max(row)\n",
        "                          and abs(row[0] - row[2]) > diff_threshold\n",
        "                          and abs(row[0] - row[1]) > diff_threshold\n",
        "                      else 0,\n",
        "                      predictions_probs))))\n",
        "print('accuracy', accuracy_score(p, y_test))\n",
        "result = {\n",
        "    'correct_predictions': 0,\n",
        "    'false_positive': 0,\n",
        "    'false_negative': 0,\n",
        "    'wrong_side': 0,\n",
        "}\n",
        "for i in range(len(p)):\n",
        "  t = int(y_test['target'][i:i+1])\n",
        "  if p[i] == t != 0:\n",
        "    result['correct_predictions'] += 1\n",
        "  elif p[i] == t != 0:\n",
        "    result['wrong_side'] += 1\n",
        "  elif p[i] != 0 and t == 0:\n",
        "    result['false_positive'] += 1\n",
        "  elif p[i] == 0 and t != 0:\n",
        "    result['false_negative'] += 1\n",
        "\n",
        "result['correct_predictions_pc'] = result['correct_predictions'] / len(y_test)\n",
        "result['false_positive_pc'] = result['false_positive'] / len(y_test)\n",
        "result['false_negative_pc'] = result['false_negative'] / len(y_test)\n",
        "result['wrong_side_pc'] = result['wrong_side'] / len(y_test)\n",
        "print(result)"
      ],
      "metadata": {
        "colab": {
          "base_uri": "https://localhost:8080/"
        },
        "id": "YVf5Mi0OZMzL",
        "outputId": "2a55d93b-37b5-4137-f997-6af05e99849d"
      },
      "id": "YVf5Mi0OZMzL",
      "execution_count": 36,
      "outputs": [
        {
          "output_type": "stream",
          "name": "stdout",
          "text": [
            "prob_threshold 0.34, diff_threshold 0.01\n",
            "accuracy 0.7576774193548387\n",
            "{'correct_predictions': 133, 'false_positive': 58, 'false_negative': 1724, 'wrong_side': 0, 'correct_predictions_pc': 0.017161290322580645, 'false_positive_pc': 0.007483870967741935, 'false_negative_pc': 0.2224516129032258, 'wrong_side_pc': 0.0}\n"
          ]
        }
      ]
    },
    {
      "cell_type": "code",
      "source": [
        "profit = (\n",
        "      len(y) * result['correct_predictions_pc'] * (punch - 2 * commision)\n",
        "      -\n",
        "      len(y) * result['false_positive_pc'] * 2 * commision\n",
        "      -\n",
        "      len(y) * result['wrong_side_pc'] * (punch + 2 * commision)\n",
        ")\n",
        "\n",
        "print(\n",
        "    'profit from 3000$ fot 2 months',\n",
        "    profit * 3000,\n",
        "    '$',\n",
        "    profit * 100,\n",
        "    '%'\n",
        ")"
      ],
      "metadata": {
        "colab": {
          "base_uri": "https://localhost:8080/"
        },
        "id": "gMozO7JrZ3de",
        "outputId": "01e10ff8-bcb7-4e1a-a647-301474ec96f9"
      },
      "id": "gMozO7JrZ3de",
      "execution_count": 37,
      "outputs": [
        {
          "output_type": "stream",
          "name": "stdout",
          "text": [
            "profit from 3000$ fot 2 months 848.9342709677421 $ 28.29780903225807 %\n"
          ]
        }
      ]
    },
    {
      "cell_type": "code",
      "source": [
        "correct_accuracy = result['correct_predictions'] / len(y_test[y_test['target'] != 0])\n",
        "print(\n",
        "f\"Correct accuracy = correct prediction / total positive num = {correct_accuracy}\"\n",
        ")\n",
        "FPR = result['false_positive'] / len(y_test[y_test['target'] == 0])\n",
        "print(\n",
        "f\"FPR = false positive / total negative num = {FPR}\"\n",
        ")\n",
        "FNR = result['false_negative'] / len(y_test[y_test['target'] != 0])\n",
        "print(\n",
        "f\"FNR = false negative / total positive num = {FNR}\"\n",
        ")\n",
        "cases_pc = (result['correct_predictions'] + result['false_positive'] + result['wrong_side']) / len(y_test[y_test['target'] != 0]) * 100\n",
        "probability_pc = result['correct_predictions'] / (result['correct_predictions'] + result['false_positive']) * 100\n",
        "print(\n",
        "f\"Model in {cases_pc}% of cases with probability {probability_pc}% predict a market jump\"\n",
        ")"
      ],
      "metadata": {
        "colab": {
          "base_uri": "https://localhost:8080/"
        },
        "id": "_Gh3CUGM6K-c",
        "outputId": "eb1dc29b-d51a-4fc0-92c8-20364e0c5efd"
      },
      "id": "_Gh3CUGM6K-c",
      "execution_count": 38,
      "outputs": [
        {
          "output_type": "stream",
          "name": "stdout",
          "text": [
            "Correct accuracy = correct prediction / total positive num = 0.06810035842293907\n",
            "FPR = false positive / total negative num = 0.010005175090564086\n",
            "FNR = false negative / total positive num = 0.8827444956477215\n",
            "Model in 9.779825908858166% of cases with probability 69.63350785340315% predict a market jump\n"
          ]
        }
      ]
    }
  ],
  "metadata": {
    "colab": {
      "collapsed_sections": [],
      "name": "trades-size-catboost.ipynb",
      "provenance": []
    },
    "kernelspec": {
      "display_name": "Python 3 (ipykernel)",
      "language": "python",
      "name": "python3"
    },
    "language_info": {
      "codemirror_mode": {
        "name": "ipython",
        "version": 3
      },
      "file_extension": ".py",
      "mimetype": "text/x-python",
      "name": "python",
      "nbconvert_exporter": "python",
      "pygments_lexer": "ipython3",
      "version": "3.8.10"
    },
    "widgets": {
      "application/vnd.jupyter.widget-state+json": {
        "7e2244e98b9449bb97530b0a72ff2b09": {
          "model_module": "catboost-widget",
          "model_name": "CatboostWidgetModel",
          "model_module_version": "^1.0.0",
          "state": {
            "_view_name": "CatboostWidgetView",
            "_dom_classes": [],
            "_model_name": "CatboostWidgetModel",
            "data": {
              "catboost_info": {
                "content": {
                  "data": {
                    "meta": {
                      "name": "experiment",
                      "parameters": "",
                      "test_metrics": [
                        {
                          "best_value": "Max",
                          "name": "Accuracy"
                        },
                        {
                          "best_value": "Min",
                          "name": "MultiClass"
                        }
                      ],
                      "learn_sets": [
                        "learn"
                      ],
                      "launch_mode": "Train",
                      "learn_metrics": [
                        {
                          "best_value": "Max",
                          "name": "Accuracy"
                        },
                        {
                          "best_value": "Min",
                          "name": "MultiClass"
                        }
                      ],
                      "iteration_count": 300,
                      "test_sets": [
                        "test"
                      ]
                    },
                    "iterations": [
                      {
                        "test": [
                          0.7469677419,
                          1.004745798
                        ],
                        "passed_time": 0.1077564617,
                        "iteration": 0,
                        "remaining_time": 32.21918206,
                        "learn": [
                          0.7471931862,
                          1.004818113
                        ]
                      },
                      {
                        "test": [
                          0.7510967742,
                          0.9354647784
                        ],
                        "passed_time": 0.1964121449,
                        "iteration": 1,
                        "remaining_time": 29.26540959,
                        "learn": [
                          0.7488278057,
                          0.9355033714
                        ]
                      },
                      {
                        "test": [
                          0.7504516129,
                          0.8832885201
                        ],
                        "passed_time": 0.2932494933,
                        "iteration": 2,
                        "remaining_time": 29.03169984,
                        "learn": [
                          0.7483116101,
                          0.8830521573
                        ]
                      },
                      {
                        "test": [
                          0.7503225806,
                          0.8430408925
                        ],
                        "passed_time": 0.3829056401,
                        "iteration": 3,
                        "remaining_time": 28.33501736,
                        "learn": [
                          0.7482685938,
                          0.8426189645
                        ]
                      },
                      {
                        "test": [
                          0.7498064516,
                          0.8107392732
                        ],
                        "passed_time": 0.4796503121,
                        "iteration": 4,
                        "remaining_time": 28.29936842,
                        "learn": [
                          0.7486127242,
                          0.8105285885
                        ]
                      },
                      {
                        "test": [
                          0.7504516129,
                          0.7853918697
                        ],
                        "passed_time": 0.5664282791,
                        "iteration": 5,
                        "remaining_time": 27.75498568,
                        "learn": [
                          0.7485697079,
                          0.7851365786
                        ]
                      },
                      {
                        "test": [
                          0.7513548387,
                          0.7641899874
                        ],
                        "passed_time": 0.6585448267,
                        "iteration": 6,
                        "remaining_time": 27.56480489,
                        "learn": [
                          0.7494730503,
                          0.7640592195
                        ]
                      },
                      {
                        "test": [
                          0.7513548387,
                          0.7471908285
                        ],
                        "passed_time": 0.7473614513,
                        "iteration": 7,
                        "remaining_time": 27.27869297,
                        "learn": [
                          0.7496451155,
                          0.7470387459
                        ]
                      },
                      {
                        "test": [
                          0.7513548387,
                          0.7340507859
                        ],
                        "passed_time": 0.8362261793,
                        "iteration": 8,
                        "remaining_time": 27.0379798,
                        "learn": [
                          0.7495590829,
                          0.7334712767
                        ]
                      },
                      {
                        "test": [
                          0.7513548387,
                          0.722734164
                        ],
                        "passed_time": 0.9217424118,
                        "iteration": 9,
                        "remaining_time": 26.73052994,
                        "learn": [
                          0.7496451155,
                          0.7222900936
                        ]
                      },
                      {
                        "test": [
                          0.7517419355,
                          0.713454631
                        ],
                        "passed_time": 1.011246838,
                        "iteration": 10,
                        "remaining_time": 26.56821237,
                        "learn": [
                          0.7508065557,
                          0.7125366228
                        ]
                      },
                      {
                        "test": [
                          0.752516129,
                          0.7055776768
                        ],
                        "passed_time": 1.101406011,
                        "iteration": 11,
                        "remaining_time": 26.43374426,
                        "learn": [
                          0.750849572,
                          0.7044867676
                        ]
                      },
                      {
                        "test": [
                          0.7534193548,
                          0.6990098521
                        ],
                        "passed_time": 1.186545889,
                        "iteration": 12,
                        "remaining_time": 26.19528233,
                        "learn": [
                          0.7517959307,
                          0.6977057219
                        ]
                      },
                      {
                        "test": [
                          0.7530322581,
                          0.6935866757
                        ],
                        "passed_time": 1.279939762,
                        "iteration": 13,
                        "remaining_time": 26.14734086,
                        "learn": [
                          0.7523121263,
                          0.6917647741
                        ]
                      },
                      {
                        "test": [
                          0.7536774194,
                          0.6887045577
                        ],
                        "passed_time": 1.361373317,
                        "iteration": 14,
                        "remaining_time": 25.86609303,
                        "learn": [
                          0.7536456317,
                          0.6867190091
                        ]
                      },
                      {
                        "test": [
                          0.7540645161,
                          0.6844022917
                        ],
                        "passed_time": 1.45221964,
                        "iteration": 15,
                        "remaining_time": 25.77689861,
                        "learn": [
                          0.7538176969,
                          0.6824171972
                        ]
                      },
                      {
                        "test": [
                          0.7548387097,
                          0.6811656095
                        ],
                        "passed_time": 1.54154426,
                        "iteration": 16,
                        "remaining_time": 25.66217797,
                        "learn": [
                          0.7542478599,
                          0.6789927653
                        ]
                      },
                      {
                        "test": [
                          0.7552258065,
                          0.6783558565
                        ],
                        "passed_time": 1.632183812,
                        "iteration": 17,
                        "remaining_time": 25.57087972,
                        "learn": [
                          0.7543338925,
                          0.6758818251
                        ]
                      },
                      {
                        "test": [
                          0.7549677419,
                          0.6760585888
                        ],
                        "passed_time": 1.719999126,
                        "iteration": 18,
                        "remaining_time": 25.43788181,
                        "learn": [
                          0.7549791371,
                          0.6729432549
                        ]
                      },
                      {
                        "test": [
                          0.7556129032,
                          0.6740515103
                        ],
                        "passed_time": 1.813292658,
                        "iteration": 19,
                        "remaining_time": 25.38609722,
                        "learn": [
                          0.7558394632,
                          0.6703731892
                        ]
                      },
                      {
                        "test": [
                          0.7557419355,
                          0.6724984941
                        ],
                        "passed_time": 1.901980181,
                        "iteration": 20,
                        "remaining_time": 25.26916527,
                        "learn": [
                          0.7558824795,
                          0.66829484
                        ]
                      },
                      {
                        "test": [
                          0.7558709677,
                          0.6710240321
                        ],
                        "passed_time": 1.990024402,
                        "iteration": 21,
                        "remaining_time": 25.14667199,
                        "learn": [
                          0.7563986751,
                          0.66636084
                        ]
                      },
                      {
                        "test": [
                          0.7557419355,
                          0.6697741968
                        ],
                        "passed_time": 2.087410494,
                        "iteration": 22,
                        "remaining_time": 25.13968291,
                        "learn": [
                          0.756957887,
                          0.6648498636
                        ]
                      },
                      {
                        "test": [
                          0.7552258065,
                          0.6686784351
                        ],
                        "passed_time": 2.170392763,
                        "iteration": 23,
                        "remaining_time": 24.95951677,
                        "learn": [
                          0.7576461479,
                          0.6633591015
                        ]
                      },
                      {
                        "test": [
                          0.7557419355,
                          0.6677109199
                        ],
                        "passed_time": 2.252882909,
                        "iteration": 24,
                        "remaining_time": 24.781712,
                        "learn": [
                          0.7574740827,
                          0.662158909
                        ]
                      },
                      {
                        "test": [
                          0.7556129032,
                          0.6668752827
                        ],
                        "passed_time": 2.337355054,
                        "iteration": 25,
                        "remaining_time": 24.63212634,
                        "learn": [
                          0.7581623435,
                          0.6609136584
                        ]
                      },
                      {
                        "test": [
                          0.7552258065,
                          0.6661999177
                        ],
                        "passed_time": 2.420368478,
                        "iteration": 26,
                        "remaining_time": 24.47261461,
                        "learn": [
                          0.758936637,
                          0.6597228906
                        ]
                      },
                      {
                        "test": [
                          0.7556129032,
                          0.6653932348
                        ],
                        "passed_time": 2.517235788,
                        "iteration": 27,
                        "remaining_time": 24.45314766,
                        "learn": [
                          0.7591087022,
                          0.6586199273
                        ]
                      },
                      {
                        "test": [
                          0.7556129032,
                          0.6647756876
                        ],
                        "passed_time": 2.605592305,
                        "iteration": 28,
                        "remaining_time": 24.34881085,
                        "learn": [
                          0.7588936207,
                          0.657371526
                        ]
                      },
                      {
                        "test": [
                          0.756516129,
                          0.6643487576
                        ],
                        "passed_time": 2.690436452,
                        "iteration": 29,
                        "remaining_time": 24.21392807,
                        "learn": [
                          0.7593668,
                          0.6565276384
                        ]
                      },
                      {
                        "test": [
                          0.7561290323,
                          0.6639543399
                        ],
                        "passed_time": 2.773473185,
                        "iteration": 30,
                        "remaining_time": 24.0665899,
                        "learn": [
                          0.7592807674,
                          0.6557007329
                        ]
                      },
                      {
                        "test": [
                          0.756,
                          0.6634439226
                        ],
                        "passed_time": 2.87676155,
                        "iteration": 31,
                        "remaining_time": 24.09287798,
                        "learn": [
                          0.759926012,
                          0.6547672728
                        ]
                      },
                      {
                        "test": [
                          0.756,
                          0.663249225
                        ],
                        "passed_time": 2.959119725,
                        "iteration": 32,
                        "remaining_time": 23.94196868,
                        "learn": [
                          0.7602701424,
                          0.6538964029
                        ]
                      },
                      {
                        "test": [
                          0.756,
                          0.6627547092
                        ],
                        "passed_time": 3.058509013,
                        "iteration": 33,
                        "remaining_time": 23.92833522,
                        "learn": [
                          0.7605282402,
                          0.6527855279
                        ]
                      },
                      {
                        "test": [
                          0.7557419355,
                          0.6624409149
                        ],
                        "passed_time": 3.147734602,
                        "iteration": 34,
                        "remaining_time": 23.8328477,
                        "learn": [
                          0.7607433217,
                          0.6522088033
                        ]
                      },
                      {
                        "test": [
                          0.7562580645,
                          0.6619515436
                        ],
                        "passed_time": 3.231505311,
                        "iteration": 35,
                        "remaining_time": 23.69770562,
                        "learn": [
                          0.7606142728,
                          0.6514735615
                        ]
                      },
                      {
                        "test": [
                          0.7561290323,
                          0.6616555241
                        ],
                        "passed_time": 3.313592296,
                        "iteration": 36,
                        "remaining_time": 23.55337226,
                        "learn": [
                          0.7611304684,
                          0.6509755435
                        ]
                      },
                      {
                        "test": [
                          0.7553548387,
                          0.6613832727
                        ],
                        "passed_time": 3.391811684,
                        "iteration": 37,
                        "remaining_time": 23.38564898,
                        "learn": [
                          0.76134555,
                          0.6503388754
                        ]
                      },
                      {
                        "test": [
                          0.756,
                          0.661315863
                        ],
                        "passed_time": 3.484962357,
                        "iteration": 38,
                        "remaining_time": 23.32244039,
                        "learn": [
                          0.7614315826,
                          0.649441896
                        ]
                      },
                      {
                        "test": [
                          0.756,
                          0.6609427551
                        ],
                        "passed_time": 3.5678244,
                        "iteration": 39,
                        "remaining_time": 23.1908586,
                        "learn": [
                          0.7616466641,
                          0.6487730959
                        ]
                      },
                      {
                        "test": [
                          0.7562580645,
                          0.6607156259
                        ],
                        "passed_time": 3.653584577,
                        "iteration": 40,
                        "remaining_time": 23.07996111,
                        "learn": [
                          0.7618187293,
                          0.6482870339
                        ]
                      },
                      {
                        "test": [
                          0.756516129,
                          0.6604377759
                        ],
                        "passed_time": 3.733225426,
                        "iteration": 41,
                        "remaining_time": 22.93267048,
                        "learn": [
                          0.7618187293,
                          0.6476959858
                        ]
                      },
                      {
                        "test": [
                          0.7562580645,
                          0.6601624683
                        ],
                        "passed_time": 3.822176142,
                        "iteration": 42,
                        "remaining_time": 22.84416903,
                        "learn": [
                          0.7619047619,
                          0.6471175253
                        ]
                      },
                      {
                        "test": [
                          0.7566451613,
                          0.6598019744
                        ],
                        "passed_time": 3.909836284,
                        "iteration": 43,
                        "remaining_time": 22.74813838,
                        "learn": [
                          0.7624639738,
                          0.6466063929
                        ]
                      },
                      {
                        "test": [
                          0.7567741935,
                          0.6595487945
                        ],
                        "passed_time": 3.998383442,
                        "iteration": 44,
                        "remaining_time": 22.65750617,
                        "learn": [
                          0.7625930228,
                          0.645853806
                        ]
                      },
                      {
                        "test": [
                          0.7569032258,
                          0.6592818364
                        ],
                        "passed_time": 4.092333322,
                        "iteration": 45,
                        "remaining_time": 22.59679704,
                        "learn": [
                          0.7626360391,
                          0.6454029588
                        ]
                      },
                      {
                        "test": [
                          0.7574193548,
                          0.6591385444
                        ],
                        "passed_time": 4.183163552,
                        "iteration": 46,
                        "remaining_time": 22.5178804,
                        "learn": [
                          0.762765088,
                          0.6448882443
                        ]
                      },
                      {
                        "test": [
                          0.7572903226,
                          0.6588274441
                        ],
                        "passed_time": 4.263140951,
                        "iteration": 47,
                        "remaining_time": 22.38148999,
                        "learn": [
                          0.7629371532,
                          0.6444140563
                        ]
                      },
                      {
                        "test": [
                          0.7574193548,
                          0.6586713049
                        ],
                        "passed_time": 4.347818392,
                        "iteration": 48,
                        "remaining_time": 22.27147789,
                        "learn": [
                          0.7629801695,
                          0.6440954401
                        ]
                      },
                      {
                        "test": [
                          0.7571612903,
                          0.6585734296
                        ],
                        "passed_time": 4.433852123,
                        "iteration": 49,
                        "remaining_time": 22.16926062,
                        "learn": [
                          0.7629801695,
                          0.6436599871
                        ]
                      },
                      {
                        "test": [
                          0.7571612903,
                          0.6584216907
                        ],
                        "passed_time": 4.523902862,
                        "iteration": 50,
                        "remaining_time": 22.08729044,
                        "learn": [
                          0.7629801695,
                          0.6429957728
                        ]
                      },
                      {
                        "test": [
                          0.7572903226,
                          0.6583361964
                        ],
                        "passed_time": 4.603699781,
                        "iteration": 51,
                        "remaining_time": 21.95610665,
                        "learn": [
                          0.7629801695,
                          0.6425535817
                        ]
                      },
                      {
                        "test": [
                          0.7572903226,
                          0.6581855388
                        ],
                        "passed_time": 4.687156672,
                        "iteration": 52,
                        "remaining_time": 21.84391883,
                        "learn": [
                          0.7632382673,
                          0.6422006506
                        ]
                      },
                      {
                        "test": [
                          0.7572903226,
                          0.6582103102
                        ],
                        "passed_time": 4.770615638,
                        "iteration": 53,
                        "remaining_time": 21.73280457,
                        "learn": [
                          0.7635393814,
                          0.6416757916
                        ]
                      },
                      {
                        "test": [
                          0.7566451613,
                          0.6579866407
                        ],
                        "passed_time": 4.867210021,
                        "iteration": 54,
                        "remaining_time": 21.68120828,
                        "learn": [
                          0.7636684303,
                          0.6410282344
                        ]
                      },
                      {
                        "test": [
                          0.7570322581,
                          0.6580051139
                        ],
                        "passed_time": 4.947210344,
                        "iteration": 55,
                        "remaining_time": 21.55570221,
                        "learn": [
                          0.7636684303,
                          0.640588447
                        ]
                      },
                      {
                        "test": [
                          0.7569032258,
                          0.6578782543
                        ],
                        "passed_time": 5.034622181,
                        "iteration": 56,
                        "remaining_time": 21.4633893,
                        "learn": [
                          0.7638404955,
                          0.639889699
                        ]
                      },
                      {
                        "test": [
                          0.7574193548,
                          0.6578133816
                        ],
                        "passed_time": 5.136672621,
                        "iteration": 57,
                        "remaining_time": 21.4323237,
                        "learn": [
                          0.7638835119,
                          0.6393788851
                        ]
                      },
                      {
                        "test": [
                          0.7571612903,
                          0.6577676499
                        ],
                        "passed_time": 5.218876922,
                        "iteration": 58,
                        "remaining_time": 21.31778539,
                        "learn": [
                          0.7640555771,
                          0.6387153025
                        ]
                      },
                      {
                        "test": [
                          0.7579354839,
                          0.657661359
                        ],
                        "passed_time": 5.308202514,
                        "iteration": 59,
                        "remaining_time": 21.23281006,
                        "learn": [
                          0.7643136749,
                          0.6381523813
                        ]
                      },
                      {
                        "test": [
                          0.7576774194,
                          0.6575380059
                        ],
                        "passed_time": 5.394038422,
                        "iteration": 60,
                        "remaining_time": 21.13401939,
                        "learn": [
                          0.7647438379,
                          0.6376670545
                        ]
                      },
                      {
                        "test": [
                          0.7578064516,
                          0.6574253209
                        ],
                        "passed_time": 5.478472662,
                        "iteration": 61,
                        "remaining_time": 21.03026602,
                        "learn": [
                          0.765044952,
                          0.6373297393
                        ]
                      },
                      {
                        "test": [
                          0.7572903226,
                          0.6574533366
                        ],
                        "passed_time": 5.563188136,
                        "iteration": 62,
                        "remaining_time": 20.92818394,
                        "learn": [
                          0.7652600336,
                          0.6368330115
                        ]
                      },
                      {
                        "test": [
                          0.7571612903,
                          0.6574095793
                        ],
                        "passed_time": 5.646849659,
                        "iteration": 63,
                        "remaining_time": 20.82275812,
                        "learn": [
                          0.7652600336,
                          0.6363672828
                        ]
                      },
                      {
                        "test": [
                          0.7572903226,
                          0.6573566666
                        ],
                        "passed_time": 5.732076289,
                        "iteration": 64,
                        "remaining_time": 20.72366043,
                        "learn": [
                          0.7654320988,
                          0.6360317704
                        ]
                      },
                      {
                        "test": [
                          0.7574193548,
                          0.6572285049
                        ],
                        "passed_time": 5.815704479,
                        "iteration": 65,
                        "remaining_time": 20.61931588,
                        "learn": [
                          0.7656471803,
                          0.6357805742
                        ]
                      },
                      {
                        "test": [
                          0.7572903226,
                          0.6572432384
                        ],
                        "passed_time": 5.904418036,
                        "iteration": 66,
                        "remaining_time": 20.53327466,
                        "learn": [
                          0.7657762292,
                          0.6353698129
                        ]
                      },
                      {
                        "test": [
                          0.7579354839,
                          0.657192422
                        ],
                        "passed_time": 5.986978875,
                        "iteration": 67,
                        "remaining_time": 20.42616322,
                        "learn": [
                          0.7658192455,
                          0.6349108669
                        ]
                      },
                      {
                        "test": [
                          0.7579354839,
                          0.6570671732
                        ],
                        "passed_time": 6.073801701,
                        "iteration": 68,
                        "remaining_time": 20.33403178,
                        "learn": [
                          0.7663784574,
                          0.6344364486
                        ]
                      },
                      {
                        "test": [
                          0.7578064516,
                          0.6569467383
                        ],
                        "passed_time": 6.168340843,
                        "iteration": 69,
                        "remaining_time": 20.26740563,
                        "learn": [
                          0.766034327,
                          0.6340213155
                        ]
                      },
                      {
                        "test": [
                          0.7576774194,
                          0.656832133
                        ],
                        "passed_time": 6.254683041,
                        "iteration": 70,
                        "remaining_time": 20.17355516,
                        "learn": [
                          0.7662494085,
                          0.6336602681
                        ]
                      },
                      {
                        "test": [
                          0.7579354839,
                          0.6567240917
                        ],
                        "passed_time": 6.336566861,
                        "iteration": 71,
                        "remaining_time": 20.06579506,
                        "learn": [
                          0.7666365553,
                          0.6332519347
                        ]
                      },
                      {
                        "test": [
                          0.7571612903,
                          0.656641901
                        ],
                        "passed_time": 6.419815438,
                        "iteration": 72,
                        "remaining_time": 19.96298773,
                        "learn": [
                          0.7669806857,
                          0.6327157764
                        ]
                      },
                      {
                        "test": [
                          0.7574193548,
                          0.656555685
                        ],
                        "passed_time": 6.502740425,
                        "iteration": 73,
                        "remaining_time": 19.85972076,
                        "learn": [
                          0.7677119628,
                          0.6323070232
                        ]
                      },
                      {
                        "test": [
                          0.7571612903,
                          0.6565842511
                        ],
                        "passed_time": 6.583945972,
                        "iteration": 74,
                        "remaining_time": 19.75183792,
                        "learn": [
                          0.7681421259,
                          0.6319802287
                        ]
                      },
                      {
                        "test": [
                          0.7574193548,
                          0.6566797028
                        ],
                        "passed_time": 6.665167335,
                        "iteration": 75,
                        "remaining_time": 19.64470372,
                        "learn": [
                          0.7683141911,
                          0.6315942338
                        ]
                      },
                      {
                        "test": [
                          0.7569032258,
                          0.6566570067
                        ],
                        "passed_time": 6.753152863,
                        "iteration": 76,
                        "remaining_time": 19.55783232,
                        "learn": [
                          0.76844324,
                          0.6312398215
                        ]
                      },
                      {
                        "test": [
                          0.7575483871,
                          0.6566709263
                        ],
                        "passed_time": 6.846224092,
                        "iteration": 77,
                        "remaining_time": 19.48540703,
                        "learn": [
                          0.7683572074,
                          0.6308913107
                        ]
                      },
                      {
                        "test": [
                          0.7572903226,
                          0.6566244632
                        ],
                        "passed_time": 6.937391711,
                        "iteration": 78,
                        "remaining_time": 19.40713377,
                        "learn": [
                          0.7689164193,
                          0.6303788797
                        ]
                      },
                      {
                        "test": [
                          0.7569032258,
                          0.6565754713
                        ],
                        "passed_time": 7.019620505,
                        "iteration": 79,
                        "remaining_time": 19.30395639,
                        "learn": [
                          0.7690454682,
                          0.6298479443
                        ]
                      },
                      {
                        "test": [
                          0.756516129,
                          0.6565255237
                        ],
                        "passed_time": 7.104246395,
                        "iteration": 80,
                        "remaining_time": 19.20777729,
                        "learn": [
                          0.7691315008,
                          0.6293576626
                        ]
                      },
                      {
                        "test": [
                          0.7569032258,
                          0.6565183562
                        ],
                        "passed_time": 7.196090667,
                        "iteration": 81,
                        "remaining_time": 19.13107031,
                        "learn": [
                          0.7691315008,
                          0.6289388255
                        ]
                      },
                      {
                        "test": [
                          0.7562580645,
                          0.6565841706
                        ],
                        "passed_time": 7.275413356,
                        "iteration": 82,
                        "remaining_time": 19.02126143,
                        "learn": [
                          0.7699057943,
                          0.6286617905
                        ]
                      },
                      {
                        "test": [
                          0.7571612903,
                          0.6565568507
                        ],
                        "passed_time": 7.354983637,
                        "iteration": 83,
                        "remaining_time": 18.91281507,
                        "learn": [
                          0.7694756313,
                          0.6283385593
                        ]
                      },
                      {
                        "test": [
                          0.7569032258,
                          0.6565090397
                        ],
                        "passed_time": 7.437433817,
                        "iteration": 84,
                        "remaining_time": 18.8123326,
                        "learn": [
                          0.7696476965,
                          0.6278847963
                        ]
                      },
                      {
                        "test": [
                          0.7570322581,
                          0.6564058918
                        ],
                        "passed_time": 7.522615165,
                        "iteration": 85,
                        "remaining_time": 18.71906564,
                        "learn": [
                          0.769432615,
                          0.6274657686
                        ]
                      },
                      {
                        "test": [
                          0.7569032258,
                          0.6563904495
                        ],
                        "passed_time": 7.600110809,
                        "iteration": 86,
                        "remaining_time": 18.60716784,
                        "learn": [
                          0.769862778,
                          0.6271293269
                        ]
                      },
                      {
                        "test": [
                          0.7566451613,
                          0.6564047807
                        ],
                        "passed_time": 7.677373018,
                        "iteration": 87,
                        "remaining_time": 18.49548954,
                        "learn": [
                          0.7704219899,
                          0.62667239
                        ]
                      },
                      {
                        "test": [
                          0.7558709677,
                          0.6563217647
                        ],
                        "passed_time": 7.759172175,
                        "iteration": 88,
                        "remaining_time": 18.39534078,
                        "learn": [
                          0.770852153,
                          0.6262688625
                        ]
                      },
                      {
                        "test": [
                          0.7556129032,
                          0.6562656401
                        ],
                        "passed_time": 7.853583124,
                        "iteration": 89,
                        "remaining_time": 18.32502729,
                        "learn": [
                          0.7711962834,
                          0.6258771446
                        ]
                      },
                      {
                        "test": [
                          0.756,
                          0.6561699635
                        ],
                        "passed_time": 7.939734125,
                        "iteration": 90,
                        "remaining_time": 18.23521354,
                        "learn": [
                          0.7709381856,
                          0.6254073269
                        ]
                      },
                      {
                        "test": [
                          0.7557419355,
                          0.6560990554
                        ],
                        "passed_time": 8.025049281,
                        "iteration": 91,
                        "remaining_time": 18.14358968,
                        "learn": [
                          0.771282316,
                          0.6250007511
                        ]
                      },
                      {
                        "test": [
                          0.7563870968,
                          0.6559297484
                        ],
                        "passed_time": 8.112326997,
                        "iteration": 92,
                        "remaining_time": 18.05646977,
                        "learn": [
                          0.7716264464,
                          0.6245009287
                        ]
                      },
                      {
                        "test": [
                          0.7563870968,
                          0.6558987269
                        ],
                        "passed_time": 8.210765942,
                        "iteration": 93,
                        "remaining_time": 17.99380621,
                        "learn": [
                          0.7720996258,
                          0.6241428058
                        ]
                      },
                      {
                        "test": [
                          0.7563870968,
                          0.6556666686
                        ],
                        "passed_time": 8.291377088,
                        "iteration": 94,
                        "remaining_time": 17.89191898,
                        "learn": [
                          0.7719705768,
                          0.6237586331
                        ]
                      },
                      {
                        "test": [
                          0.7562580645,
                          0.655613041
                        ],
                        "passed_time": 8.368843292,
                        "iteration": 95,
                        "remaining_time": 17.783792,
                        "learn": [
                          0.7721856584,
                          0.6234793402
                        ]
                      },
                      {
                        "test": [
                          0.756,
                          0.6556523814
                        ],
                        "passed_time": 8.448151607,
                        "iteration": 96,
                        "remaining_time": 17.68015233,
                        "learn": [
                          0.7722286747,
                          0.6229559619
                        ]
                      },
                      {
                        "test": [
                          0.7556129032,
                          0.6555950385
                        ],
                        "passed_time": 8.528119302,
                        "iteration": 97,
                        "remaining_time": 17.57836836,
                        "learn": [
                          0.7725728051,
                          0.6226377137
                        ]
                      },
                      {
                        "test": [
                          0.7558709677,
                          0.655574994
                        ],
                        "passed_time": 8.614549204,
                        "iteration": 98,
                        "remaining_time": 17.49014535,
                        "learn": [
                          0.7727878866,
                          0.622222168
                        ]
                      },
                      {
                        "test": [
                          0.756516129,
                          0.6555835828
                        ],
                        "passed_time": 8.691271251,
                        "iteration": 99,
                        "remaining_time": 17.3825425,
                        "learn": [
                          0.7729599518,
                          0.6219156545
                        ]
                      },
                      {
                        "test": [
                          0.7570322581,
                          0.6554921119
                        ],
                        "passed_time": 8.775927794,
                        "iteration": 100,
                        "remaining_time": 17.29118447,
                        "learn": [
                          0.7731750333,
                          0.6215888865
                        ]
                      },
                      {
                        "test": [
                          0.7572903226,
                          0.6554926448
                        ],
                        "passed_time": 8.866248275,
                        "iteration": 101,
                        "remaining_time": 17.21095253,
                        "learn": [
                          0.7734331312,
                          0.6212331475
                        ]
                      },
                      {
                        "test": [
                          0.7572903226,
                          0.6555006185
                        ],
                        "passed_time": 8.94429194,
                        "iteration": 102,
                        "remaining_time": 17.10704381,
                        "learn": [
                          0.7736051964,
                          0.6208697458
                        ]
                      },
                      {
                        "test": [
                          0.7572903226,
                          0.6555505103
                        ],
                        "passed_time": 9.031309518,
                        "iteration": 103,
                        "remaining_time": 17.02054486,
                        "learn": [
                          0.7737772616,
                          0.6204613667
                        ]
                      },
                      {
                        "test": [
                          0.7570322581,
                          0.6555161584
                        ],
                        "passed_time": 9.110512512,
                        "iteration": 104,
                        "remaining_time": 16.91952324,
                        "learn": [
                          0.7741644083,
                          0.6201406215
                        ]
                      },
                      {
                        "test": [
                          0.7567741935,
                          0.6554673788
                        ],
                        "passed_time": 9.202838127,
                        "iteration": 105,
                        "remaining_time": 16.84293016,
                        "learn": [
                          0.7741644083,
                          0.6198711106
                        ]
                      },
                      {
                        "test": [
                          0.7569032258,
                          0.6555202038
                        ],
                        "passed_time": 9.285243907,
                        "iteration": 106,
                        "remaining_time": 16.74815023,
                        "learn": [
                          0.7742074246,
                          0.6195355029
                        ]
                      },
                      {
                        "test": [
                          0.7567741935,
                          0.6555565656
                        ],
                        "passed_time": 9.365638986,
                        "iteration": 107,
                        "remaining_time": 16.65002486,
                        "learn": [
                          0.7738632942,
                          0.6191597608
                        ]
                      },
                      {
                        "test": [
                          0.7563870968,
                          0.6554728396
                        ],
                        "passed_time": 9.445192869,
                        "iteration": 108,
                        "remaining_time": 16.55075081,
                        "learn": [
                          0.774121392,
                          0.6188169998
                        ]
                      },
                      {
                        "test": [
                          0.7567741935,
                          0.6553858117
                        ],
                        "passed_time": 9.532131479,
                        "iteration": 109,
                        "remaining_time": 16.46459074,
                        "learn": [
                          0.7739923431,
                          0.6183293937
                        ]
                      },
                      {
                        "test": [
                          0.7572903226,
                          0.6553443051
                        ],
                        "passed_time": 9.616302161,
                        "iteration": 110,
                        "remaining_time": 16.37370368,
                        "learn": [
                          0.7744655224,
                          0.6179451042
                        ]
                      },
                      {
                        "test": [
                          0.7570322581,
                          0.655401794
                        ],
                        "passed_time": 9.688495341,
                        "iteration": 111,
                        "remaining_time": 16.26283146,
                        "learn": [
                          0.774551555,
                          0.6176636065
                        ]
                      },
                      {
                        "test": [
                          0.7571612903,
                          0.655358706
                        ],
                        "passed_time": 9.765325441,
                        "iteration": 112,
                        "remaining_time": 16.16031732,
                        "learn": [
                          0.7747236203,
                          0.6172687153
                        ]
                      },
                      {
                        "test": [
                          0.7570322581,
                          0.6553527184
                        ],
                        "passed_time": 9.850633098,
                        "iteration": 113,
                        "remaining_time": 16.07208558,
                        "learn": [
                          0.7753688648,
                          0.6167171316
                        ]
                      },
                      {
                        "test": [
                          0.7570322581,
                          0.6554963717
                        ],
                        "passed_time": 9.943257883,
                        "iteration": 114,
                        "remaining_time": 15.99567572,
                        "learn": [
                          0.7760141093,
                          0.6162395566
                        ]
                      },
                      {
                        "test": [
                          0.7570322581,
                          0.6555761752
                        ],
                        "passed_time": 10.02216604,
                        "iteration": 115,
                        "remaining_time": 15.89722889,
                        "learn": [
                          0.7762722072,
                          0.6159090985
                        ]
                      },
                      {
                        "test": [
                          0.7563870968,
                          0.6556307797
                        ],
                        "passed_time": 10.10220929,
                        "iteration": 116,
                        "remaining_time": 15.80089146,
                        "learn": [
                          0.7764012561,
                          0.6153381692
                        ]
                      },
                      {
                        "test": [
                          0.7562580645,
                          0.6556501882
                        ],
                        "passed_time": 10.18176945,
                        "iteration": 117,
                        "remaining_time": 15.70408509,
                        "learn": [
                          0.7764442724,
                          0.6150732315
                        ]
                      },
                      {
                        "test": [
                          0.7566451613,
                          0.6556662057
                        ],
                        "passed_time": 10.27403693,
                        "iteration": 118,
                        "remaining_time": 15.62689651,
                        "learn": [
                          0.7767023702,
                          0.6147064169
                        ]
                      },
                      {
                        "test": [
                          0.7569032258,
                          0.6555946194
                        ],
                        "passed_time": 10.35052472,
                        "iteration": 119,
                        "remaining_time": 15.52578708,
                        "learn": [
                          0.776960468,
                          0.6143324323
                        ]
                      },
                      {
                        "test": [
                          0.7572903226,
                          0.6555799233
                        ],
                        "passed_time": 10.44401139,
                        "iteration": 120,
                        "remaining_time": 15.45023173,
                        "learn": [
                          0.7770465006,
                          0.6138617216
                        ]
                      },
                      {
                        "test": [
                          0.7574193548,
                          0.6556594922
                        ],
                        "passed_time": 10.52670896,
                        "iteration": 121,
                        "remaining_time": 15.35864095,
                        "learn": [
                          0.7769174517,
                          0.613480608
                        ]
                      },
                      {
                        "test": [
                          0.7563870968,
                          0.6556353469
                        ],
                        "passed_time": 10.60869193,
                        "iteration": 122,
                        "remaining_time": 15.26616643,
                        "learn": [
                          0.7773045984,
                          0.6131890772
                        ]
                      },
                      {
                        "test": [
                          0.7566451613,
                          0.6556596838
                        ],
                        "passed_time": 10.68710141,
                        "iteration": 123,
                        "remaining_time": 15.16878909,
                        "learn": [
                          0.7771755495,
                          0.6127976719
                        ]
                      },
                      {
                        "test": [
                          0.7567741935,
                          0.655681291
                        ],
                        "passed_time": 10.7661641,
                        "iteration": 124,
                        "remaining_time": 15.07262974,
                        "learn": [
                          0.7774336474,
                          0.6124798241
                        ]
                      },
                      {
                        "test": [
                          0.7570322581,
                          0.6556734773
                        ],
                        "passed_time": 10.85439162,
                        "iteration": 125,
                        "remaining_time": 14.98939796,
                        "learn": [
                          0.7774336474,
                          0.6120360331
                        ]
                      },
                      {
                        "test": [
                          0.7570322581,
                          0.6555339351
                        ],
                        "passed_time": 10.9542234,
                        "iteration": 126,
                        "remaining_time": 14.92189486,
                        "learn": [
                          0.7777347615,
                          0.6116496012
                        ]
                      },
                      {
                        "test": [
                          0.7572903226,
                          0.6555063185
                        ],
                        "passed_time": 11.03659047,
                        "iteration": 127,
                        "remaining_time": 14.83041845,
                        "learn": [
                          0.7777347615,
                          0.6113115976
                        ]
                      },
                      {
                        "test": [
                          0.7574193548,
                          0.6556112389
                        ],
                        "passed_time": 11.11880507,
                        "iteration": 128,
                        "remaining_time": 14.73888113,
                        "learn": [
                          0.777949843,
                          0.6109149262
                        ]
                      },
                      {
                        "test": [
                          0.7575483871,
                          0.6555579488
                        ],
                        "passed_time": 11.20295011,
                        "iteration": 129,
                        "remaining_time": 14.65001168,
                        "learn": [
                          0.7782939734,
                          0.6104108817
                        ]
                      },
                      {
                        "test": [
                          0.7569032258,
                          0.6555605443
                        ],
                        "passed_time": 11.29037949,
                        "iteration": 130,
                        "remaining_time": 14.5654514,
                        "learn": [
                          0.7783369897,
                          0.6101927621
                        ]
                      },
                      {
                        "test": [
                          0.7570322581,
                          0.6553753231
                        ],
                        "passed_time": 11.37386893,
                        "iteration": 131,
                        "remaining_time": 14.47583319,
                        "learn": [
                          0.7787671528,
                          0.6097804441
                        ]
                      },
                      {
                        "test": [
                          0.7569032258,
                          0.6556523293
                        ],
                        "passed_time": 11.45948612,
                        "iteration": 132,
                        "remaining_time": 14.38897882,
                        "learn": [
                          0.7785090549,
                          0.6091039571
                        ]
                      },
                      {
                        "test": [
                          0.7567741935,
                          0.6555116757
                        ],
                        "passed_time": 11.54356511,
                        "iteration": 133,
                        "remaining_time": 14.30023737,
                        "learn": [
                          0.7787671528,
                          0.6087582593
                        ]
                      },
                      {
                        "test": [
                          0.7569032258,
                          0.6555787388
                        ],
                        "passed_time": 11.63158033,
                        "iteration": 134,
                        "remaining_time": 14.21637596,
                        "learn": [
                          0.7790252506,
                          0.608430712
                        ]
                      },
                      {
                        "test": [
                          0.7570322581,
                          0.6556135487
                        ],
                        "passed_time": 11.72897218,
                        "iteration": 135,
                        "remaining_time": 14.14376057,
                        "learn": [
                          0.7791973158,
                          0.60804079
                        ]
                      },
                      {
                        "test": [
                          0.7570322581,
                          0.6556998652
                        ],
                        "passed_time": 11.81044207,
                        "iteration": 136,
                        "remaining_time": 14.05183984,
                        "learn": [
                          0.7788962017,
                          0.607726884
                        ]
                      },
                      {
                        "test": [
                          0.7571612903,
                          0.6557023804
                        ],
                        "passed_time": 11.89118034,
                        "iteration": 137,
                        "remaining_time": 13.9592117,
                        "learn": [
                          0.7795414462,
                          0.6072981352
                        ]
                      },
                      {
                        "test": [
                          0.7572903226,
                          0.6557777968
                        ],
                        "passed_time": 11.99944162,
                        "iteration": 138,
                        "remaining_time": 13.89863382,
                        "learn": [
                          0.7794984299,
                          0.6069710751
                        ]
                      },
                      {
                        "test": [
                          0.7569032258,
                          0.6556363919
                        ],
                        "passed_time": 12.07906508,
                        "iteration": 139,
                        "remaining_time": 13.8046458,
                        "learn": [
                          0.7798425603,
                          0.6064880325
                        ]
                      },
                      {
                        "test": [
                          0.7562580645,
                          0.6556462265
                        ],
                        "passed_time": 12.15746811,
                        "iteration": 140,
                        "remaining_time": 13.70948532,
                        "learn": [
                          0.7802297071,
                          0.6061862104
                        ]
                      },
                      {
                        "test": [
                          0.7569032258,
                          0.6556486054
                        ],
                        "passed_time": 12.23465865,
                        "iteration": 141,
                        "remaining_time": 13.61321174,
                        "learn": [
                          0.7804878049,
                          0.605861018
                        ]
                      },
                      {
                        "test": [
                          0.756516129,
                          0.6556464188
                        ],
                        "passed_time": 12.32485529,
                        "iteration": 142,
                        "remaining_time": 13.53148448,
                        "learn": [
                          0.7805738375,
                          0.6056102498
                        ]
                      },
                      {
                        "test": [
                          0.7567741935,
                          0.6555679871
                        ],
                        "passed_time": 12.40670149,
                        "iteration": 143,
                        "remaining_time": 13.44059328,
                        "learn": [
                          0.7804017723,
                          0.6053614383
                        ]
                      },
                      {
                        "test": [
                          0.7571612903,
                          0.6555288455
                        ],
                        "passed_time": 12.48958973,
                        "iteration": 144,
                        "remaining_time": 13.35094074,
                        "learn": [
                          0.7805738375,
                          0.6050201324
                        ]
                      },
                      {
                        "test": [
                          0.7569032258,
                          0.65558529
                        ],
                        "passed_time": 12.56668034,
                        "iteration": 145,
                        "remaining_time": 13.25526556,
                        "learn": [
                          0.7811330494,
                          0.6046653113
                        ]
                      },
                      {
                        "test": [
                          0.7569032258,
                          0.6556793208
                        ],
                        "passed_time": 12.65390914,
                        "iteration": 146,
                        "remaining_time": 13.17039523,
                        "learn": [
                          0.7811330494,
                          0.6042162761
                        ]
                      },
                      {
                        "test": [
                          0.7571612903,
                          0.655711589
                        ],
                        "passed_time": 12.75261122,
                        "iteration": 147,
                        "remaining_time": 13.09727639,
                        "learn": [
                          0.7815201962,
                          0.6038015858
                        ]
                      },
                      {
                        "test": [
                          0.7570322581,
                          0.6556894403
                        ],
                        "passed_time": 12.83561957,
                        "iteration": 148,
                        "remaining_time": 13.00790977,
                        "learn": [
                          0.7816922614,
                          0.6033704208
                        ]
                      },
                      {
                        "test": [
                          0.7563870968,
                          0.6558676251
                        ],
                        "passed_time": 12.91486586,
                        "iteration": 149,
                        "remaining_time": 12.91486586,
                        "learn": [
                          0.7819933755,
                          0.6029660883
                        ]
                      },
                      {
                        "test": [
                          0.7562580645,
                          0.65578112
                        ],
                        "passed_time": 13.01518386,
                        "iteration": 150,
                        "remaining_time": 12.84279732,
                        "learn": [
                          0.7821224244,
                          0.602693929
                        ]
                      },
                      {
                        "test": [
                          0.7566451613,
                          0.6558735789
                        ],
                        "passed_time": 13.09985148,
                        "iteration": 151,
                        "remaining_time": 12.75511855,
                        "learn": [
                          0.7822944896,
                          0.6022188767
                        ]
                      },
                      {
                        "test": [
                          0.7566451613,
                          0.6558364207
                        ],
                        "passed_time": 13.18380794,
                        "iteration": 152,
                        "remaining_time": 12.66679586,
                        "learn": [
                          0.7822944896,
                          0.6018219404
                        ]
                      },
                      {
                        "test": [
                          0.7574193548,
                          0.6556533631
                        ],
                        "passed_time": 13.27960863,
                        "iteration": 153,
                        "remaining_time": 12.58975883,
                        "learn": [
                          0.7825956037,
                          0.6014252536
                        ]
                      },
                      {
                        "test": [
                          0.7567741935,
                          0.6555660535
                        ],
                        "passed_time": 13.3718242,
                        "iteration": 154,
                        "remaining_time": 12.50912587,
                        "learn": [
                          0.7828106852,
                          0.6010487987
                        ]
                      },
                      {
                        "test": [
                          0.7566451613,
                          0.655584887
                        ],
                        "passed_time": 13.45386207,
                        "iteration": 155,
                        "remaining_time": 12.4189496,
                        "learn": [
                          0.7829397342,
                          0.6007066528
                        ]
                      },
                      {
                        "test": [
                          0.7569032258,
                          0.6555233192
                        ],
                        "passed_time": 13.53811468,
                        "iteration": 156,
                        "remaining_time": 12.33089426,
                        "learn": [
                          0.7832838646,
                          0.6002867458
                        ]
                      },
                      {
                        "test": [
                          0.7567741935,
                          0.6554843745
                        ],
                        "passed_time": 13.6161305,
                        "iteration": 157,
                        "remaining_time": 12.23728184,
                        "learn": [
                          0.7834989461,
                          0.5999842286
                        ]
                      },
                      {
                        "test": [
                          0.7566451613,
                          0.6553747835
                        ],
                        "passed_time": 13.70255975,
                        "iteration": 158,
                        "remaining_time": 12.15132657,
                        "learn": [
                          0.783627995,
                          0.5994259478
                        ]
                      },
                      {
                        "test": [
                          0.756516129,
                          0.6553917412
                        ],
                        "passed_time": 13.78678651,
                        "iteration": 159,
                        "remaining_time": 12.06343819,
                        "learn": [
                          0.7840151417,
                          0.5989023116
                        ]
                      },
                      {
                        "test": [
                          0.7567741935,
                          0.6554437295
                        ],
                        "passed_time": 13.87053606,
                        "iteration": 160,
                        "remaining_time": 11.97518331,
                        "learn": [
                          0.7842732396,
                          0.5986230695
                        ]
                      },
                      {
                        "test": [
                          0.7571612903,
                          0.6554616147
                        ],
                        "passed_time": 13.96496213,
                        "iteration": 161,
                        "remaining_time": 11.89607885,
                        "learn": [
                          0.7841441906,
                          0.5983552456
                        ]
                      },
                      {
                        "test": [
                          0.7566451613,
                          0.6554722596
                        ],
                        "passed_time": 14.06017906,
                        "iteration": 162,
                        "remaining_time": 11.81745111,
                        "learn": [
                          0.7843592722,
                          0.5980547327
                        ]
                      },
                      {
                        "test": [
                          0.7567741935,
                          0.6554783856
                        ],
                        "passed_time": 14.14465004,
                        "iteration": 163,
                        "remaining_time": 11.72970979,
                        "learn": [
                          0.7843592722,
                          0.5974810618
                        ]
                      },
                      {
                        "test": [
                          0.756516129,
                          0.6555205617
                        ],
                        "passed_time": 14.22554284,
                        "iteration": 164,
                        "remaining_time": 11.6390805,
                        "learn": [
                          0.7842732396,
                          0.5971193896
                        ]
                      },
                      {
                        "test": [
                          0.756516129,
                          0.6554041744
                        ],
                        "passed_time": 14.3212207,
                        "iteration": 165,
                        "remaining_time": 11.56050346,
                        "learn": [
                          0.7845743537,
                          0.5968580104
                        ]
                      },
                      {
                        "test": [
                          0.7566451613,
                          0.6553985717
                        ],
                        "passed_time": 14.41223996,
                        "iteration": 166,
                        "remaining_time": 11.47801147,
                        "learn": [
                          0.7847894352,
                          0.5963239776
                        ]
                      },
                      {
                        "test": [
                          0.756516129,
                          0.655431655
                        ],
                        "passed_time": 14.49302649,
                        "iteration": 167,
                        "remaining_time": 11.38737796,
                        "learn": [
                          0.7845743537,
                          0.5960824922
                        ]
                      },
                      {
                        "test": [
                          0.7561290323,
                          0.6552835958
                        ],
                        "passed_time": 14.57593007,
                        "iteration": 168,
                        "remaining_time": 11.29850201,
                        "learn": [
                          0.7846603863,
                          0.5956754946
                        ]
                      },
                      {
                        "test": [
                          0.7556129032,
                          0.6552378975
                        ],
                        "passed_time": 14.65901014,
                        "iteration": 169,
                        "remaining_time": 11.20983128,
                        "learn": [
                          0.7848324515,
                          0.5953618433
                        ]
                      },
                      {
                        "test": [
                          0.7553548387,
                          0.6553791131
                        ],
                        "passed_time": 14.74594997,
                        "iteration": 170,
                        "remaining_time": 11.1241377,
                        "learn": [
                          0.7848754678,
                          0.5949581113
                        ]
                      },
                      {
                        "test": [
                          0.7556129032,
                          0.6553390873
                        ],
                        "passed_time": 14.82610269,
                        "iteration": 171,
                        "remaining_time": 11.03337874,
                        "learn": [
                          0.7851765819,
                          0.5946400122
                        ]
                      },
                      {
                        "test": [
                          0.7556129032,
                          0.6553101617
                        ],
                        "passed_time": 14.9039367,
                        "iteration": 172,
                        "remaining_time": 10.94104024,
                        "learn": [
                          0.7852195982,
                          0.5942256771
                        ]
                      },
                      {
                        "test": [
                          0.7558709677,
                          0.655179191
                        ],
                        "passed_time": 15.00743594,
                        "iteration": 173,
                        "remaining_time": 10.86745361,
                        "learn": [
                          0.7857357939,
                          0.5937530955
                        ]
                      },
                      {
                        "test": [
                          0.7561290323,
                          0.6552116288
                        ],
                        "passed_time": 15.08526756,
                        "iteration": 174,
                        "remaining_time": 10.77519112,
                        "learn": [
                          0.7858218265,
                          0.5934882993
                        ]
                      },
                      {
                        "test": [
                          0.7561290323,
                          0.6550935146
                        ],
                        "passed_time": 15.16345797,
                        "iteration": 175,
                        "remaining_time": 10.68334539,
                        "learn": [
                          0.7859078591,
                          0.5931219616
                        ]
                      },
                      {
                        "test": [
                          0.7566451613,
                          0.6551388197
                        ],
                        "passed_time": 15.2464381,
                        "iteration": 176,
                        "remaining_time": 10.59498241,
                        "learn": [
                          0.7860799243,
                          0.5928213643
                        ]
                      },
                      {
                        "test": [
                          0.7569032258,
                          0.6550969839
                        ],
                        "passed_time": 15.34434178,
                        "iteration": 177,
                        "remaining_time": 10.51690841,
                        "learn": [
                          0.7865100873,
                          0.5924480279
                        ]
                      },
                      {
                        "test": [
                          0.7567741935,
                          0.6552375098
                        ],
                        "passed_time": 15.42530206,
                        "iteration": 178,
                        "remaining_time": 10.42715949,
                        "learn": [
                          0.7862950058,
                          0.5920237234
                        ]
                      },
                      {
                        "test": [
                          0.7567741935,
                          0.6552336017
                        ],
                        "passed_time": 15.50651361,
                        "iteration": 179,
                        "remaining_time": 10.33767574,
                        "learn": [
                          0.7861659569,
                          0.5917412706
                        ]
                      },
                      {
                        "test": [
                          0.7567741935,
                          0.6551266918
                        ],
                        "passed_time": 15.58773087,
                        "iteration": 180,
                        "remaining_time": 10.24828714,
                        "learn": [
                          0.7863810384,
                          0.591414646
                        ]
                      },
                      {
                        "test": [
                          0.7567741935,
                          0.6550001935
                        ],
                        "passed_time": 15.67780554,
                        "iteration": 181,
                        "remaining_time": 10.16473107,
                        "learn": [
                          0.7868112014,
                          0.590964681
                        ]
                      },
                      {
                        "test": [
                          0.7570322581,
                          0.6549347601
                        ],
                        "passed_time": 15.76265897,
                        "iteration": 182,
                        "remaining_time": 10.07776557,
                        "learn": [
                          0.787026283,
                          0.5904658724
                        ]
                      },
                      {
                        "test": [
                          0.7575483871,
                          0.6548434711
                        ],
                        "passed_time": 15.85029933,
                        "iteration": 183,
                        "remaining_time": 9.992580011,
                        "learn": [
                          0.787026283,
                          0.5899757586
                        ]
                      },
                      {
                        "test": [
                          0.7574193548,
                          0.6547882668
                        ],
                        "passed_time": 15.92996616,
                        "iteration": 184,
                        "remaining_time": 9.902411394,
                        "learn": [
                          0.7873704134,
                          0.589744079
                        ]
                      },
                      {
                        "test": [
                          0.7574193548,
                          0.6547919437
                        ],
                        "passed_time": 16.02567065,
                        "iteration": 185,
                        "remaining_time": 9.822185239,
                        "learn": [
                          0.7876715275,
                          0.5894382444
                        ]
                      },
                      {
                        "test": [
                          0.7574193548,
                          0.654775531
                        ],
                        "passed_time": 16.11724577,
                        "iteration": 186,
                        "remaining_time": 9.739298243,
                        "learn": [
                          0.7882307395,
                          0.5891208131
                        ]
                      },
                      {
                        "test": [
                          0.7572903226,
                          0.6546301374
                        ],
                        "passed_time": 16.20168405,
                        "iteration": 187,
                        "remaining_time": 9.652067096,
                        "learn": [
                          0.7880156579,
                          0.5888014844
                        ]
                      },
                      {
                        "test": [
                          0.7570322581,
                          0.6546287284
                        ],
                        "passed_time": 16.28153903,
                        "iteration": 188,
                        "remaining_time": 9.562173718,
                        "learn": [
                          0.7881877231,
                          0.5884310951
                        ]
                      },
                      {
                        "test": [
                          0.7567741935,
                          0.6546120974
                        ],
                        "passed_time": 16.38131251,
                        "iteration": 189,
                        "remaining_time": 9.483917767,
                        "learn": [
                          0.7880586742,
                          0.5878911125
                        ]
                      },
                      {
                        "test": [
                          0.7570322581,
                          0.6546393586
                        ],
                        "passed_time": 16.4604452,
                        "iteration": 190,
                        "remaining_time": 9.393657207,
                        "learn": [
                          0.788445821,
                          0.587528772
                        ]
                      },
                      {
                        "test": [
                          0.7570322581,
                          0.6545678484
                        ],
                        "passed_time": 16.54271198,
                        "iteration": 191,
                        "remaining_time": 9.305275488,
                        "learn": [
                          0.7887039188,
                          0.5872694779
                        ]
                      },
                      {
                        "test": [
                          0.7572903226,
                          0.6545326741
                        ],
                        "passed_time": 16.62053159,
                        "iteration": 192,
                        "remaining_time": 9.214491604,
                        "learn": [
                          0.7887469351,
                          0.5870634178
                        ]
                      },
                      {
                        "test": [
                          0.7570322581,
                          0.6545593942
                        ],
                        "passed_time": 16.69621967,
                        "iteration": 193,
                        "remaining_time": 9.122676727,
                        "learn": [
                          0.7886609025,
                          0.5868215396
                        ]
                      },
                      {
                        "test": [
                          0.7566451613,
                          0.6546008237
                        ],
                        "passed_time": 16.7785891,
                        "iteration": 194,
                        "remaining_time": 9.034624901,
                        "learn": [
                          0.7888329677,
                          0.5863492949
                        ]
                      },
                      {
                        "test": [
                          0.756516129,
                          0.6545480828
                        ],
                        "passed_time": 16.85911904,
                        "iteration": 195,
                        "remaining_time": 8.945655002,
                        "learn": [
                          0.7890480492,
                          0.5859403407
                        ]
                      },
                      {
                        "test": [
                          0.7562580645,
                          0.6545224029
                        ],
                        "passed_time": 16.93903441,
                        "iteration": 196,
                        "remaining_time": 8.856449462,
                        "learn": [
                          0.7895212285,
                          0.5855444419
                        ]
                      },
                      {
                        "test": [
                          0.7557419355,
                          0.6544624135
                        ],
                        "passed_time": 17.04034882,
                        "iteration": 197,
                        "remaining_time": 8.778361513,
                        "learn": [
                          0.7893491633,
                          0.5848750644
                        ]
                      },
                      {
                        "test": [
                          0.7557419355,
                          0.6544657592
                        ],
                        "passed_time": 17.13416632,
                        "iteration": 198,
                        "remaining_time": 8.696235166,
                        "learn": [
                          0.7895642448,
                          0.5844022136
                        ]
                      },
                      {
                        "test": [
                          0.7562580645,
                          0.6543463075
                        ],
                        "passed_time": 17.21563035,
                        "iteration": 199,
                        "remaining_time": 8.607815176,
                        "learn": [
                          0.7893491633,
                          0.5840471253
                        ]
                      },
                      {
                        "test": [
                          0.7558709677,
                          0.6543741988
                        ],
                        "passed_time": 17.29457133,
                        "iteration": 200,
                        "remaining_time": 8.518221701,
                        "learn": [
                          0.7899513916,
                          0.5837632339
                        ]
                      },
                      {
                        "test": [
                          0.7563870968,
                          0.6543555674
                        ],
                        "passed_time": 17.39192519,
                        "iteration": 201,
                        "remaining_time": 8.437666677,
                        "learn": [
                          0.7900374242,
                          0.583451428
                        ]
                      },
                      {
                        "test": [
                          0.7561290323,
                          0.654345687
                        ],
                        "passed_time": 17.47837028,
                        "iteration": 202,
                        "remaining_time": 8.351733581,
                        "learn": [
                          0.7903385383,
                          0.5831713615
                        ]
                      },
                      {
                        "test": [
                          0.756516129,
                          0.6543601022
                        ],
                        "passed_time": 17.55900004,
                        "iteration": 203,
                        "remaining_time": 8.263058841,
                        "learn": [
                          0.7903815546,
                          0.5829184273
                        ]
                      },
                      {
                        "test": [
                          0.7563870968,
                          0.6543622736
                        ],
                        "passed_time": 17.63732522,
                        "iteration": 204,
                        "remaining_time": 8.173394613,
                        "learn": [
                          0.7905536198,
                          0.5826446903
                        ]
                      },
                      {
                        "test": [
                          0.7562580645,
                          0.6543908257
                        ],
                        "passed_time": 17.72294054,
                        "iteration": 205,
                        "remaining_time": 8.087167042,
                        "learn": [
                          0.7906826687,
                          0.5823787462
                        ]
                      },
                      {
                        "test": [
                          0.7561290323,
                          0.6545441335
                        ],
                        "passed_time": 17.80953086,
                        "iteration": 206,
                        "remaining_time": 8.00138343,
                        "learn": [
                          0.7910267992,
                          0.5819531197
                        ]
                      },
                      {
                        "test": [
                          0.7561290323,
                          0.6545676193
                        ],
                        "passed_time": 17.88482705,
                        "iteration": 207,
                        "remaining_time": 7.910596581,
                        "learn": [
                          0.7910267992,
                          0.5817070868
                        ]
                      },
                      {
                        "test": [
                          0.7561290323,
                          0.6546194069
                        ],
                        "passed_time": 17.96305155,
                        "iteration": 208,
                        "remaining_time": 7.821232972,
                        "learn": [
                          0.7911558481,
                          0.5815577086
                        ]
                      },
                      {
                        "test": [
                          0.756,
                          0.6545564772
                        ],
                        "passed_time": 18.06357707,
                        "iteration": 209,
                        "remaining_time": 7.741533032,
                        "learn": [
                          0.7913709296,
                          0.5810999112
                        ]
                      },
                      {
                        "test": [
                          0.756,
                          0.6546119178
                        ],
                        "passed_time": 18.15069489,
                        "iteration": 210,
                        "remaining_time": 7.655980308,
                        "learn": [
                          0.7914999785,
                          0.5808485465
                        ]
                      },
                      {
                        "test": [
                          0.756,
                          0.6546604576
                        ],
                        "passed_time": 18.23302137,
                        "iteration": 211,
                        "remaining_time": 7.568423967,
                        "learn": [
                          0.7914139459,
                          0.5804126245
                        ]
                      },
                      {
                        "test": [
                          0.7558709677,
                          0.6547105259
                        ],
                        "passed_time": 18.31907581,
                        "iteration": 212,
                        "remaining_time": 7.482439415,
                        "learn": [
                          0.7915429948,
                          0.5799657351
                        ]
                      },
                      {
                        "test": [
                          0.7562580645,
                          0.6547898383
                        ],
                        "passed_time": 18.40844173,
                        "iteration": 213,
                        "remaining_time": 7.397784996,
                        "learn": [
                          0.7915860111,
                          0.5796908003
                        ]
                      },
                      {
                        "test": [
                          0.7557419355,
                          0.6548120011
                        ],
                        "passed_time": 18.49349758,
                        "iteration": 214,
                        "remaining_time": 7.311382764,
                        "learn": [
                          0.7915429948,
                          0.579109023
                        ]
                      },
                      {
                        "test": [
                          0.7553548387,
                          0.6549177548
                        ],
                        "passed_time": 18.57818326,
                        "iteration": 215,
                        "remaining_time": 7.224849044,
                        "learn": [
                          0.7918871252,
                          0.578717511
                        ]
                      },
                      {
                        "test": [
                          0.7550967742,
                          0.6549467274
                        ],
                        "passed_time": 18.65909122,
                        "iteration": 216,
                        "remaining_time": 7.136887424,
                        "learn": [
                          0.7921022067,
                          0.5784200011
                        ]
                      },
                      {
                        "test": [
                          0.7550967742,
                          0.6549889124
                        ],
                        "passed_time": 18.73594165,
                        "iteration": 217,
                        "remaining_time": 7.04746429,
                        "learn": [
                          0.7920161741,
                          0.5782366608
                        ]
                      },
                      {
                        "test": [
                          0.7556129032,
                          0.6549346331
                        ],
                        "passed_time": 18.81877772,
                        "iteration": 218,
                        "remaining_time": 6.960369843,
                        "learn": [
                          0.792145223,
                          0.5779902534
                        ]
                      },
                      {
                        "test": [
                          0.7556129032,
                          0.6549590715
                        ],
                        "passed_time": 18.89977842,
                        "iteration": 219,
                        "remaining_time": 6.872646697,
                        "learn": [
                          0.7922312556,
                          0.5777815779
                        ]
                      },
                      {
                        "test": [
                          0.7557419355,
                          0.6550172083
                        ],
                        "passed_time": 18.97816332,
                        "iteration": 220,
                        "remaining_time": 6.784049331,
                        "learn": [
                          0.7922312556,
                          0.5776423158
                        ]
                      },
                      {
                        "test": [
                          0.7556129032,
                          0.6549865041
                        ],
                        "passed_time": 19.05423317,
                        "iteration": 221,
                        "remaining_time": 6.694730574,
                        "learn": [
                          0.7923172883,
                          0.5773796036
                        ]
                      },
                      {
                        "test": [
                          0.7557419355,
                          0.6549818598
                        ],
                        "passed_time": 19.16122538,
                        "iteration": 222,
                        "remaining_time": 6.616207868,
                        "learn": [
                          0.7922742719,
                          0.5770773409
                        ]
                      },
                      {
                        "test": [
                          0.7558709677,
                          0.6549947433
                        ],
                        "passed_time": 19.23928709,
                        "iteration": 223,
                        "remaining_time": 6.527615261,
                        "learn": [
                          0.7923172883,
                          0.5768999756
                        ]
                      },
                      {
                        "test": [
                          0.7557419355,
                          0.6550759259
                        ],
                        "passed_time": 19.31924787,
                        "iteration": 224,
                        "remaining_time": 6.43974929,
                        "learn": [
                          0.7925323698,
                          0.5766013977
                        ]
                      },
                      {
                        "test": [
                          0.755483871,
                          0.6550575301
                        ],
                        "passed_time": 19.40349058,
                        "iteration": 225,
                        "remaining_time": 6.353355323,
                        "learn": [
                          0.7927474513,
                          0.5762284153
                        ]
                      },
                      {
                        "test": [
                          0.7557419355,
                          0.6550739305
                        ],
                        "passed_time": 19.50782362,
                        "iteration": 226,
                        "remaining_time": 6.273441075,
                        "learn": [
                          0.7927474513,
                          0.5759393975
                        ]
                      },
                      {
                        "test": [
                          0.755483871,
                          0.6550930443
                        ],
                        "passed_time": 19.58754132,
                        "iteration": 227,
                        "remaining_time": 6.185539363,
                        "learn": [
                          0.7927904676,
                          0.5756077029
                        ]
                      },
                      {
                        "test": [
                          0.7561290323,
                          0.6551113867
                        ],
                        "passed_time": 19.66013631,
                        "iteration": 228,
                        "remaining_time": 6.095500777,
                        "learn": [
                          0.7932636469,
                          0.5753105976
                        ]
                      },
                      {
                        "test": [
                          0.7561290323,
                          0.6550698745
                        ],
                        "passed_time": 19.74169243,
                        "iteration": 229,
                        "remaining_time": 6.008341175,
                        "learn": [
                          0.7936077773,
                          0.5749303751
                        ]
                      },
                      {
                        "test": [
                          0.7561290323,
                          0.6551320443
                        ],
                        "passed_time": 19.82771562,
                        "iteration": 230,
                        "remaining_time": 5.922564407,
                        "learn": [
                          0.7937798426,
                          0.5745314762
                        ]
                      },
                      {
                        "test": [
                          0.7557419355,
                          0.655027045
                        ],
                        "passed_time": 19.9125014,
                        "iteration": 231,
                        "remaining_time": 5.836422825,
                        "learn": [
                          0.7937798426,
                          0.5742105791
                        ]
                      },
                      {
                        "test": [
                          0.7558709677,
                          0.6549002686
                        ],
                        "passed_time": 19.99756479,
                        "iteration": 232,
                        "remaining_time": 5.750372706,
                        "learn": [
                          0.7939088915,
                          0.5737196069
                        ]
                      },
                      {
                        "test": [
                          0.756,
                          0.6550025958
                        ],
                        "passed_time": 20.08344634,
                        "iteration": 233,
                        "remaining_time": 5.664561789,
                        "learn": [
                          0.7942530219,
                          0.5733273972
                        ]
                      },
                      {
                        "test": [
                          0.7562580645,
                          0.6550009765
                        ],
                        "passed_time": 20.19393694,
                        "iteration": 234,
                        "remaining_time": 5.585557026,
                        "learn": [
                          0.7944250871,
                          0.5729183228
                        ]
                      },
                      {
                        "test": [
                          0.7566451613,
                          0.6549952674
                        ],
                        "passed_time": 20.27394767,
                        "iteration": 235,
                        "remaining_time": 5.498019706,
                        "learn": [
                          0.7943390545,
                          0.572741951
                        ]
                      },
                      {
                        "test": [
                          0.756516129,
                          0.6549926558
                        ],
                        "passed_time": 20.3529016,
                        "iteration": 236,
                        "remaining_time": 5.410264982,
                        "learn": [
                          0.7947262012,
                          0.5724509021
                        ]
                      },
                      {
                        "test": [
                          0.7566451613,
                          0.6548892717
                        ],
                        "passed_time": 20.43200294,
                        "iteration": 237,
                        "remaining_time": 5.322622614,
                        "learn": [
                          0.7948122338,
                          0.5721365636
                        ]
                      },
                      {
                        "test": [
                          0.756516129,
                          0.6549247572
                        ],
                        "passed_time": 20.52137614,
                        "iteration": 238,
                        "remaining_time": 5.237673407,
                        "learn": [
                          0.7949412827,
                          0.5719351196
                        ]
                      },
                      {
                        "test": [
                          0.756516129,
                          0.6549225016
                        ],
                        "passed_time": 20.60916039,
                        "iteration": 239,
                        "remaining_time": 5.152290097,
                        "learn": [
                          0.7945971523,
                          0.5715343212
                        ]
                      },
                      {
                        "test": [
                          0.7566451613,
                          0.65492728
                        ],
                        "passed_time": 20.68691416,
                        "iteration": 240,
                        "remaining_time": 5.064431268,
                        "learn": [
                          0.7947692175,
                          0.571214041
                        ]
                      },
                      {
                        "test": [
                          0.7566451613,
                          0.6549169657
                        ],
                        "passed_time": 20.77087079,
                        "iteration": 241,
                        "remaining_time": 4.978142585,
                        "learn": [
                          0.7945971523,
                          0.5707595208
                        ]
                      },
                      {
                        "test": [
                          0.756,
                          0.6549572654
                        ],
                        "passed_time": 20.84936666,
                        "iteration": 242,
                        "remaining_time": 4.890592181,
                        "learn": [
                          0.7948552501,
                          0.5703677583
                        ]
                      },
                      {
                        "test": [
                          0.7563870968,
                          0.655032533
                        ],
                        "passed_time": 20.93075653,
                        "iteration": 243,
                        "remaining_time": 4.803780187,
                        "learn": [
                          0.7946401686,
                          0.5699011488
                        ]
                      },
                      {
                        "test": [
                          0.756,
                          0.6550758926
                        ],
                        "passed_time": 21.01060878,
                        "iteration": 244,
                        "remaining_time": 4.716667278,
                        "learn": [
                          0.7948122338,
                          0.5695808639
                        ]
                      },
                      {
                        "test": [
                          0.7562580645,
                          0.6550773251
                        ],
                        "passed_time": 21.09351263,
                        "iteration": 245,
                        "remaining_time": 4.63028326,
                        "learn": [
                          0.7948982664,
                          0.5692218922
                        ]
                      },
                      {
                        "test": [
                          0.7562580645,
                          0.6551206201
                        ],
                        "passed_time": 21.19684805,
                        "iteration": 246,
                        "remaining_time": 4.548311524,
                        "learn": [
                          0.7951563643,
                          0.5689584377
                        ]
                      },
                      {
                        "test": [
                          0.7566451613,
                          0.6550322191
                        ],
                        "passed_time": 21.29233,
                        "iteration": 247,
                        "remaining_time": 4.464520807,
                        "learn": [
                          0.795113348,
                          0.5684056885
                        ]
                      },
                      {
                        "test": [
                          0.7569032258,
                          0.6550589824
                        ],
                        "passed_time": 21.37446783,
                        "iteration": 248,
                        "remaining_time": 4.37790305,
                        "learn": [
                          0.7953714458,
                          0.5681467857
                        ]
                      },
                      {
                        "test": [
                          0.7567741935,
                          0.6550327659
                        ],
                        "passed_time": 21.48195372,
                        "iteration": 249,
                        "remaining_time": 4.296390743,
                        "learn": [
                          0.7956725599,
                          0.5676739807
                        ]
                      },
                      {
                        "test": [
                          0.7563870968,
                          0.6550869285
                        ],
                        "passed_time": 21.56420498,
                        "iteration": 250,
                        "remaining_time": 4.209745195,
                        "learn": [
                          0.7958016088,
                          0.5673688081
                        ]
                      },
                      {
                        "test": [
                          0.7570322581,
                          0.6551679995
                        ],
                        "passed_time": 21.64330593,
                        "iteration": 251,
                        "remaining_time": 4.122534463,
                        "learn": [
                          0.7957585925,
                          0.5671060466
                        ]
                      },
                      {
                        "test": [
                          0.7566451613,
                          0.655157087
                        ],
                        "passed_time": 21.7233367,
                        "iteration": 252,
                        "remaining_time": 4.035560573,
                        "learn": [
                          0.7960166903,
                          0.5668399711
                        ]
                      },
                      {
                        "test": [
                          0.756516129,
                          0.6552078561
                        ],
                        "passed_time": 21.80503708,
                        "iteration": 253,
                        "remaining_time": 3.948943722,
                        "learn": [
                          0.795973674,
                          0.5664914817
                        ]
                      },
                      {
                        "test": [
                          0.756516129,
                          0.6551706593
                        ],
                        "passed_time": 21.88997582,
                        "iteration": 254,
                        "remaining_time": 3.862936909,
                        "learn": [
                          0.7961457392,
                          0.5662153174
                        ]
                      },
                      {
                        "test": [
                          0.7566451613,
                          0.6552313477
                        ],
                        "passed_time": 21.98008326,
                        "iteration": 255,
                        "remaining_time": 3.777826811,
                        "learn": [
                          0.7963608208,
                          0.5658876577
                        ]
                      },
                      {
                        "test": [
                          0.7562580645,
                          0.6553077489
                        ],
                        "passed_time": 22.0616816,
                        "iteration": 256,
                        "remaining_time": 3.691254119,
                        "learn": [
                          0.7964468534,
                          0.5655863765
                        ]
                      },
                      {
                        "test": [
                          0.7562580645,
                          0.6553418567
                        ],
                        "passed_time": 22.15803723,
                        "iteration": 257,
                        "remaining_time": 3.607122339,
                        "learn": [
                          0.7962317718,
                          0.5653355524
                        ]
                      },
                      {
                        "test": [
                          0.7563870968,
                          0.6553263921
                        ],
                        "passed_time": 22.24817466,
                        "iteration": 258,
                        "remaining_time": 3.521911819,
                        "learn": [
                          0.7962747881,
                          0.5651502651
                        ]
                      },
                      {
                        "test": [
                          0.7561290323,
                          0.6554054396
                        ],
                        "passed_time": 22.33206107,
                        "iteration": 259,
                        "remaining_time": 3.435701703,
                        "learn": [
                          0.7964468534,
                          0.5648905751
                        ]
                      },
                      {
                        "test": [
                          0.7566451613,
                          0.6554377849
                        ],
                        "passed_time": 22.41582974,
                        "iteration": 260,
                        "remaining_time": 3.349491801,
                        "learn": [
                          0.7964898697,
                          0.5645935828
                        ]
                      },
                      {
                        "test": [
                          0.7561290323,
                          0.6553395842
                        ],
                        "passed_time": 22.50803831,
                        "iteration": 261,
                        "remaining_time": 3.264524641,
                        "learn": [
                          0.7968770164,
                          0.5642408886
                        ]
                      },
                      {
                        "test": [
                          0.7563870968,
                          0.6552757693
                        ],
                        "passed_time": 22.58581258,
                        "iteration": 262,
                        "remaining_time": 3.177471731,
                        "learn": [
                          0.7968770164,
                          0.5639974313
                        ]
                      },
                      {
                        "test": [
                          0.756516129,
                          0.6553393991
                        ],
                        "passed_time": 22.67213537,
                        "iteration": 263,
                        "remaining_time": 3.091654823,
                        "learn": [
                          0.7971351142,
                          0.563614445
                        ]
                      },
                      {
                        "test": [
                          0.7563870968,
                          0.6552647997
                        ],
                        "passed_time": 22.76199389,
                        "iteration": 264,
                        "remaining_time": 3.00630108,
                        "learn": [
                          0.7976513098,
                          0.56318656
                        ]
                      },
                      {
                        "test": [
                          0.7563870968,
                          0.6552727545
                        ],
                        "passed_time": 22.84458429,
                        "iteration": 265,
                        "remaining_time": 2.919984458,
                        "learn": [
                          0.797952424,
                          0.5628783735
                        ]
                      },
                      {
                        "test": [
                          0.7562580645,
                          0.6550861931
                        ],
                        "passed_time": 22.92569345,
                        "iteration": 266,
                        "remaining_time": 2.833512673,
                        "learn": [
                          0.7980384566,
                          0.5625166551
                        ]
                      },
                      {
                        "test": [
                          0.756,
                          0.6550740548
                        ],
                        "passed_time": 23.03127199,
                        "iteration": 267,
                        "remaining_time": 2.750002625,
                        "learn": [
                          0.7981244892,
                          0.5621784266
                        ]
                      },
                      {
                        "test": [
                          0.7562580645,
                          0.6550847643
                        ],
                        "passed_time": 23.11454987,
                        "iteration": 268,
                        "remaining_time": 2.663758536,
                        "learn": [
                          0.7982105218,
                          0.5618506071
                        ]
                      },
                      {
                        "test": [
                          0.7562580645,
                          0.6550957089
                        ],
                        "passed_time": 23.22627254,
                        "iteration": 269,
                        "remaining_time": 2.580696949,
                        "learn": [
                          0.7980814729,
                          0.5613169281
                        ]
                      },
                      {
                        "test": [
                          0.7562580645,
                          0.655211821
                        ],
                        "passed_time": 23.31048023,
                        "iteration": 270,
                        "remaining_time": 2.494479434,
                        "learn": [
                          0.7984686196,
                          0.5610094569
                        ]
                      },
                      {
                        "test": [
                          0.7562580645,
                          0.6552276223
                        ],
                        "passed_time": 23.3928776,
                        "iteration": 271,
                        "remaining_time": 2.408090341,
                        "learn": [
                          0.7984256033,
                          0.5607202709
                        ]
                      },
                      {
                        "test": [
                          0.756516129,
                          0.6552266799
                        ],
                        "passed_time": 23.47755222,
                        "iteration": 272,
                        "remaining_time": 2.321955715,
                        "learn": [
                          0.7984256033,
                          0.5605062222
                        ]
                      },
                      {
                        "test": [
                          0.7566451613,
                          0.6551271277
                        ],
                        "passed_time": 23.57112078,
                        "iteration": 273,
                        "remaining_time": 2.236675695,
                        "learn": [
                          0.7989417989,
                          0.5601755562
                        ]
                      },
                      {
                        "test": [
                          0.7566451613,
                          0.6551685217
                        ],
                        "passed_time": 23.65755926,
                        "iteration": 274,
                        "remaining_time": 2.150687205,
                        "learn": [
                          0.7992859294,
                          0.5598666197
                        ]
                      },
                      {
                        "test": [
                          0.7566451613,
                          0.6551655251
                        ],
                        "passed_time": 23.7398344,
                        "iteration": 275,
                        "remaining_time": 2.064333426,
                        "learn": [
                          0.7991998968,
                          0.5594194882
                        ]
                      },
                      {
                        "test": [
                          0.756516129,
                          0.6551202422
                        ],
                        "passed_time": 23.83115334,
                        "iteration": 276,
                        "remaining_time": 1.978760025,
                        "learn": [
                          0.7993289457,
                          0.5590762911
                        ]
                      },
                      {
                        "test": [
                          0.7563870968,
                          0.6551444792
                        ],
                        "passed_time": 23.9075433,
                        "iteration": 277,
                        "remaining_time": 1.891963859,
                        "learn": [
                          0.7994579946,
                          0.5588460109
                        ]
                      },
                      {
                        "test": [
                          0.7563870968,
                          0.6552083887
                        ],
                        "passed_time": 23.98690384,
                        "iteration": 278,
                        "remaining_time": 1.80546588,
                        "learn": [
                          0.7996730761,
                          0.5585959594
                        ]
                      },
                      {
                        "test": [
                          0.7562580645,
                          0.6552001277
                        ],
                        "passed_time": 24.07111141,
                        "iteration": 279,
                        "remaining_time": 1.719365101,
                        "learn": [
                          0.7998881576,
                          0.5582956698
                        ]
                      },
                      {
                        "test": [
                          0.7569032258,
                          0.6553211178
                        ],
                        "passed_time": 24.15337376,
                        "iteration": 280,
                        "remaining_time": 1.633146268,
                        "learn": [
                          0.8000172065,
                          0.5579415744
                        ]
                      },
                      {
                        "test": [
                          0.7566451613,
                          0.6554126368
                        ],
                        "passed_time": 24.27573424,
                        "iteration": 281,
                        "remaining_time": 1.549514952,
                        "learn": [
                          0.8004903859,
                          0.5576661426
                        ]
                      },
                      {
                        "test": [
                          0.7566451613,
                          0.6553842164
                        ],
                        "passed_time": 24.36428819,
                        "iteration": 282,
                        "remaining_time": 1.463579149,
                        "learn": [
                          0.8009205489,
                          0.5573223945
                        ]
                      },
                      {
                        "test": [
                          0.7563870968,
                          0.6553499829
                        ],
                        "passed_time": 24.44718202,
                        "iteration": 283,
                        "remaining_time": 1.377306029,
                        "learn": [
                          0.8010065815,
                          0.5569982353
                        ]
                      },
                      {
                        "test": [
                          0.7569032258,
                          0.655394318
                        ],
                        "passed_time": 24.53361273,
                        "iteration": 284,
                        "remaining_time": 1.291242775,
                        "learn": [
                          0.8014367445,
                          0.5566553189
                        ]
                      },
                      {
                        "test": [
                          0.7569032258,
                          0.65533388
                        ],
                        "passed_time": 24.62069046,
                        "iteration": 285,
                        "remaining_time": 1.205208624,
                        "learn": [
                          0.8014367445,
                          0.5563815891
                        ]
                      },
                      {
                        "test": [
                          0.7567741935,
                          0.65537345
                        ],
                        "passed_time": 24.70047388,
                        "iteration": 286,
                        "remaining_time": 1.118836796,
                        "learn": [
                          0.8015227771,
                          0.5561738509
                        ]
                      },
                      {
                        "test": [
                          0.7567741935,
                          0.655429291
                        ],
                        "passed_time": 24.78825594,
                        "iteration": 287,
                        "remaining_time": 1.032843998,
                        "learn": [
                          0.8014797608,
                          0.5556468719
                        ]
                      },
                      {
                        "test": [
                          0.7566451613,
                          0.6554533073
                        ],
                        "passed_time": 24.87330511,
                        "iteration": 288,
                        "remaining_time": 0.9467347966,
                        "learn": [
                          0.8014797608,
                          0.5552290445
                        ]
                      },
                      {
                        "test": [
                          0.7569032258,
                          0.6554585121
                        ],
                        "passed_time": 24.9532255,
                        "iteration": 289,
                        "remaining_time": 0.8604560516,
                        "learn": [
                          0.8014797608,
                          0.5549330768
                        ]
                      },
                      {
                        "test": [
                          0.7569032258,
                          0.6555415181
                        ],
                        "passed_time": 25.02909286,
                        "iteration": 290,
                        "remaining_time": 0.7740956555,
                        "learn": [
                          0.8015227771,
                          0.5546402868
                        ]
                      },
                      {
                        "test": [
                          0.7567741935,
                          0.6554904813
                        ],
                        "passed_time": 25.10513844,
                        "iteration": 291,
                        "remaining_time": 0.6878120121,
                        "learn": [
                          0.8017378586,
                          0.5544708111
                        ]
                      },
                      {
                        "test": [
                          0.7571612903,
                          0.6555235154
                        ],
                        "passed_time": 25.19035841,
                        "iteration": 292,
                        "remaining_time": 0.6018174364,
                        "learn": [
                          0.8016948423,
                          0.5541142255
                        ]
                      },
                      {
                        "test": [
                          0.7570322581,
                          0.6556353227
                        ],
                        "passed_time": 25.29449286,
                        "iteration": 293,
                        "remaining_time": 0.51621414,
                        "learn": [
                          0.8017378586,
                          0.5539627606
                        ]
                      },
                      {
                        "test": [
                          0.7569032258,
                          0.6556865576
                        ],
                        "passed_time": 25.37489149,
                        "iteration": 294,
                        "remaining_time": 0.4300829066,
                        "learn": [
                          0.8019099239,
                          0.5538168644
                        ]
                      },
                      {
                        "test": [
                          0.7566451613,
                          0.6557681093
                        ],
                        "passed_time": 25.46399854,
                        "iteration": 295,
                        "remaining_time": 0.3441080884,
                        "learn": [
                          0.8018669076,
                          0.5533940206
                        ]
                      },
                      {
                        "test": [
                          0.7567741935,
                          0.6557553961
                        ],
                        "passed_time": 25.54742065,
                        "iteration": 296,
                        "remaining_time": 0.2580547541,
                        "learn": [
                          0.8020819891,
                          0.55318287
                        ]
                      },
                      {
                        "test": [
                          0.7563870968,
                          0.6558908948
                        ],
                        "passed_time": 25.63164358,
                        "iteration": 297,
                        "remaining_time": 0.1720244536,
                        "learn": [
                          0.8023400869,
                          0.5529123116
                        ]
                      },
                      {
                        "test": [
                          0.7563870968,
                          0.6558591452
                        ],
                        "passed_time": 25.71149438,
                        "iteration": 298,
                        "remaining_time": 0.08599162,
                        "learn": [
                          0.8024261195,
                          0.5527708268
                        ]
                      },
                      {
                        "test": [
                          0.7562580645,
                          0.6558696797
                        ],
                        "passed_time": 25.7942357,
                        "iteration": 299,
                        "remaining_time": 0,
                        "learn": [
                          0.8024691358,
                          0.5525426634
                        ]
                      }
                    ]
                  },
                  "total_iterations": 300,
                  "passed_iterations": 299
                },
                "path": "catboost_info",
                "name": "catboost_info"
              }
            },
            "_view_module": "catboost-widget",
            "_model_module_version": "^1.0.0",
            "_view_count": null,
            "_view_module_version": "^1.0.0",
            "layout": "IPY_MODEL_26a2595b173b46dc8570cf036f087cf7",
            "_model_module": "catboost-widget"
          }
        }
      }
    }
  },
  "nbformat": 4,
  "nbformat_minor": 5
}