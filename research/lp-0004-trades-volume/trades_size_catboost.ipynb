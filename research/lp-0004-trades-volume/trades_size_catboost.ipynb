{
  "cells": [
    {
      "cell_type": "code",
      "execution_count": 75,
      "metadata": {
        "colab": {
          "base_uri": "https://localhost:8080/",
          "height": 0
        },
        "id": "6PWJsnjzBfq1",
        "outputId": "07da6735-d303-4ab1-9ae4-10b56c85a032"
      },
      "outputs": [
        {
          "output_type": "stream",
          "name": "stdout",
          "text": [
            "Requirement already satisfied: catboost in /usr/local/lib/python3.7/dist-packages (1.0.4)\n",
            "Requirement already satisfied: numpy>=1.16.0 in /usr/local/lib/python3.7/dist-packages (from catboost) (1.19.5)\n",
            "Requirement already satisfied: plotly in /usr/local/lib/python3.7/dist-packages (from catboost) (4.4.1)\n",
            "Requirement already satisfied: matplotlib in /usr/local/lib/python3.7/dist-packages (from catboost) (3.2.2)\n",
            "Requirement already satisfied: six in /usr/local/lib/python3.7/dist-packages (from catboost) (1.15.0)\n",
            "Requirement already satisfied: scipy in /usr/local/lib/python3.7/dist-packages (from catboost) (1.4.1)\n",
            "Requirement already satisfied: graphviz in /usr/local/lib/python3.7/dist-packages (from catboost) (0.10.1)\n",
            "Requirement already satisfied: pandas>=0.24.0 in /usr/local/lib/python3.7/dist-packages (from catboost) (1.1.5)\n",
            "Requirement already satisfied: python-dateutil>=2.7.3 in /usr/local/lib/python3.7/dist-packages (from pandas>=0.24.0->catboost) (2.8.2)\n",
            "Requirement already satisfied: pytz>=2017.2 in /usr/local/lib/python3.7/dist-packages (from pandas>=0.24.0->catboost) (2018.9)\n",
            "Requirement already satisfied: pyparsing!=2.0.4,!=2.1.2,!=2.1.6,>=2.0.1 in /usr/local/lib/python3.7/dist-packages (from matplotlib->catboost) (3.0.6)\n",
            "Requirement already satisfied: kiwisolver>=1.0.1 in /usr/local/lib/python3.7/dist-packages (from matplotlib->catboost) (1.3.2)\n",
            "Requirement already satisfied: cycler>=0.10 in /usr/local/lib/python3.7/dist-packages (from matplotlib->catboost) (0.11.0)\n",
            "Requirement already satisfied: retrying>=1.3.3 in /usr/local/lib/python3.7/dist-packages (from plotly->catboost) (1.3.3)\n",
            "Requirement already satisfied: hyperopt in /usr/local/lib/python3.7/dist-packages (0.1.2)\n",
            "Requirement already satisfied: tqdm in /usr/local/lib/python3.7/dist-packages (from hyperopt) (4.62.3)\n",
            "Requirement already satisfied: future in /usr/local/lib/python3.7/dist-packages (from hyperopt) (0.16.0)\n",
            "Requirement already satisfied: six in /usr/local/lib/python3.7/dist-packages (from hyperopt) (1.15.0)\n",
            "Requirement already satisfied: pymongo in /usr/local/lib/python3.7/dist-packages (from hyperopt) (4.0.1)\n",
            "Requirement already satisfied: networkx in /usr/local/lib/python3.7/dist-packages (from hyperopt) (2.6.3)\n",
            "Requirement already satisfied: numpy in /usr/local/lib/python3.7/dist-packages (from hyperopt) (1.19.5)\n",
            "Requirement already satisfied: scipy in /usr/local/lib/python3.7/dist-packages (from hyperopt) (1.4.1)\n"
          ]
        }
      ],
      "source": [
        "!pip3 install catboost\n",
        "!pip install hyperopt"
      ],
      "id": "6PWJsnjzBfq1"
    },
    {
      "cell_type": "code",
      "execution_count": 76,
      "metadata": {
        "id": "vjlvDT-QXrD0"
      },
      "outputs": [],
      "source": [
        "import pandas as pd\n",
        "import numpy as np\n",
        "from catboost import CatBoostClassifier, Pool, metrics, cv\n",
        "from sklearn.metrics import accuracy_score\n",
        "from sklearn.model_selection import train_test_split\n",
        "import hyperopt\n",
        "from numpy.random import RandomState\n",
        "from catboost.utils import select_threshold"
      ],
      "id": "vjlvDT-QXrD0"
    },
    {
      "cell_type": "code",
      "source": [
        "from google.colab import drive\n",
        "drive.mount('/content/drive')"
      ],
      "metadata": {
        "colab": {
          "base_uri": "https://localhost:8080/",
          "height": 0
        },
        "id": "U7eWZPspzeev",
        "outputId": "89a4fd3a-74a9-4f6a-d694-091c4454898a"
      },
      "id": "U7eWZPspzeev",
      "execution_count": 77,
      "outputs": [
        {
          "output_type": "stream",
          "name": "stdout",
          "text": [
            "Drive already mounted at /content/drive; to attempt to forcibly remount, call drive.mount(\"/content/drive\", force_remount=True).\n"
          ]
        }
      ]
    },
    {
      "cell_type": "code",
      "execution_count": 78,
      "metadata": {
        "id": "853aa3c4-a2d3-4845-ad55-388c7ddc238f"
      },
      "outputs": [],
      "source": [
        "csv_path = \"drive/MyDrive/trades-df-2021_11_1_0_0_0-2021_12_21_0_0_0.csv\"\n",
        "df = pd.read_csv(csv_path)"
      ],
      "id": "853aa3c4-a2d3-4845-ad55-388c7ddc238f"
    },
    {
      "cell_type": "code",
      "execution_count": 79,
      "metadata": {
        "id": "6d19d8f2-29d6-475a-8e14-714733f36850",
        "colab": {
          "base_uri": "https://localhost:8080/",
          "height": 0
        },
        "outputId": "d5dcef16-413b-4155-c3fa-6ffbf82199b3"
      },
      "outputs": [
        {
          "output_type": "stream",
          "name": "stdout",
          "text": [
            "['trade_volume-BUY-6-sec', 'moving_average_price-BUY-6-sec', 'weighted_moving_average_price-BUY-6-sec', 'exp_moving_average_price-BUY-6-sec', 'stochastic_oscillator-BUY-6-sec', 'trade_volume-BUY-12-sec', 'moving_average_price-BUY-12-sec', 'weighted_moving_average_price-BUY-12-sec', 'exp_moving_average_price-BUY-12-sec', 'stochastic_oscillator-BUY-12-sec', 'trade_volume-BUY-18-sec', 'moving_average_price-BUY-18-sec', 'weighted_moving_average_price-BUY-18-sec', 'exp_moving_average_price-BUY-18-sec', 'stochastic_oscillator-BUY-18-sec', 'trade_volume-BUY-24-sec', 'moving_average_price-BUY-24-sec', 'weighted_moving_average_price-BUY-24-sec', 'exp_moving_average_price-BUY-24-sec', 'stochastic_oscillator-BUY-24-sec', 'trade_volume-BUY-30-sec', 'moving_average_price-BUY-30-sec', 'weighted_moving_average_price-BUY-30-sec', 'exp_moving_average_price-BUY-30-sec', 'stochastic_oscillator-BUY-30-sec', 'trade_volume-BUY-36-sec', 'moving_average_price-BUY-36-sec', 'weighted_moving_average_price-BUY-36-sec', 'exp_moving_average_price-BUY-36-sec', 'stochastic_oscillator-BUY-36-sec', 'trade_volume-BUY-42-sec', 'moving_average_price-BUY-42-sec', 'weighted_moving_average_price-BUY-42-sec', 'exp_moving_average_price-BUY-42-sec', 'stochastic_oscillator-BUY-42-sec', 'trade_volume-BUY-48-sec', 'moving_average_price-BUY-48-sec', 'weighted_moving_average_price-BUY-48-sec', 'exp_moving_average_price-BUY-48-sec', 'stochastic_oscillator-BUY-48-sec', 'trade_volume-BUY-54-sec', 'moving_average_price-BUY-54-sec', 'weighted_moving_average_price-BUY-54-sec', 'exp_moving_average_price-BUY-54-sec', 'stochastic_oscillator-BUY-54-sec', 'trade_volume-BUY-60-sec', 'moving_average_price-BUY-60-sec', 'weighted_moving_average_price-BUY-60-sec', 'exp_moving_average_price-BUY-60-sec', 'stochastic_oscillator-BUY-60-sec', 'trade_volume-SELL-6-sec', 'moving_average_price-SELL-6-sec', 'weighted_moving_average_price-SELL-6-sec', 'exp_moving_average_price-SELL-6-sec', 'stochastic_oscillator-SELL-6-sec', 'trade_volume-SELL-12-sec', 'moving_average_price-SELL-12-sec', 'weighted_moving_average_price-SELL-12-sec', 'exp_moving_average_price-SELL-12-sec', 'stochastic_oscillator-SELL-12-sec', 'trade_volume-SELL-18-sec', 'moving_average_price-SELL-18-sec', 'weighted_moving_average_price-SELL-18-sec', 'exp_moving_average_price-SELL-18-sec', 'stochastic_oscillator-SELL-18-sec', 'trade_volume-SELL-24-sec', 'moving_average_price-SELL-24-sec', 'weighted_moving_average_price-SELL-24-sec', 'exp_moving_average_price-SELL-24-sec', 'stochastic_oscillator-SELL-24-sec', 'trade_volume-SELL-30-sec', 'moving_average_price-SELL-30-sec', 'weighted_moving_average_price-SELL-30-sec', 'exp_moving_average_price-SELL-30-sec', 'stochastic_oscillator-SELL-30-sec', 'trade_volume-SELL-36-sec', 'moving_average_price-SELL-36-sec', 'weighted_moving_average_price-SELL-36-sec', 'exp_moving_average_price-SELL-36-sec', 'stochastic_oscillator-SELL-36-sec', 'trade_volume-SELL-42-sec', 'moving_average_price-SELL-42-sec', 'weighted_moving_average_price-SELL-42-sec', 'exp_moving_average_price-SELL-42-sec', 'stochastic_oscillator-SELL-42-sec', 'trade_volume-SELL-48-sec', 'moving_average_price-SELL-48-sec', 'weighted_moving_average_price-SELL-48-sec', 'exp_moving_average_price-SELL-48-sec', 'stochastic_oscillator-SELL-48-sec', 'trade_volume-SELL-54-sec', 'moving_average_price-SELL-54-sec', 'weighted_moving_average_price-SELL-54-sec', 'exp_moving_average_price-SELL-54-sec', 'stochastic_oscillator-SELL-54-sec', 'trade_volume-SELL-60-sec', 'moving_average_price-SELL-60-sec', 'weighted_moving_average_price-SELL-60-sec', 'exp_moving_average_price-SELL-60-sec', 'stochastic_oscillator-SELL-60-sec']\n",
            "['punch-BUY-30-sec', 'punch-SELL-30-sec']\n"
          ]
        }
      ],
      "source": [
        "x_columns = list(filter(lambda column: not 'punch' in column, df.columns))\n",
        "y_columns = list(filter(lambda column: 'punch' in column, df.columns))\n",
        "print(x_columns)\n",
        "print(y_columns)"
      ],
      "id": "6d19d8f2-29d6-475a-8e14-714733f36850"
    },
    {
      "cell_type": "code",
      "execution_count": 127,
      "metadata": {
        "id": "96ce2f97-578b-4e03-88df-68348c66e537",
        "colab": {
          "base_uri": "https://localhost:8080/",
          "height": 713
        },
        "outputId": "13c2e8cd-5d4c-4db0-f039-d53dc4c942c9"
      },
      "outputs": [
        {
          "output_type": "stream",
          "name": "stderr",
          "text": [
            "/usr/local/lib/python3.7/dist-packages/ipykernel_launcher.py:13: SettingWithCopyWarning: \n",
            "A value is trying to be set on a copy of a slice from a DataFrame.\n",
            "Try using .loc[row_indexer,col_indexer] = value instead\n",
            "\n",
            "See the caveats in the documentation: https://pandas.pydata.org/pandas-docs/stable/user_guide/indexing.html#returning-a-view-versus-a-copy\n",
            "  del sys.path[0]\n",
            "/usr/local/lib/python3.7/dist-packages/ipykernel_launcher.py:10: SettingWithCopyWarning: \n",
            "A value is trying to be set on a copy of a slice from a DataFrame.\n",
            "Try using .loc[row_indexer,col_indexer] = value instead\n",
            "\n",
            "See the caveats in the documentation: https://pandas.pydata.org/pandas-docs/stable/user_guide/indexing.html#returning-a-view-versus-a-copy\n",
            "  # Remove the CWD from sys.path while we load stuff.\n"
          ]
        },
        {
          "output_type": "execute_result",
          "data": {
            "text/html": [
              "\n",
              "  <div id=\"df-cc4990f6-8a3f-4a98-819d-40d439a338fb\">\n",
              "    <div class=\"colab-df-container\">\n",
              "      <div>\n",
              "<style scoped>\n",
              "    .dataframe tbody tr th:only-of-type {\n",
              "        vertical-align: middle;\n",
              "    }\n",
              "\n",
              "    .dataframe tbody tr th {\n",
              "        vertical-align: top;\n",
              "    }\n",
              "\n",
              "    .dataframe thead th {\n",
              "        text-align: right;\n",
              "    }\n",
              "</style>\n",
              "<table border=\"1\" class=\"dataframe\">\n",
              "  <thead>\n",
              "    <tr style=\"text-align: right;\">\n",
              "      <th></th>\n",
              "      <th>trade_volume-BUY-6-sec</th>\n",
              "      <th>moving_average_price-BUY-6-sec</th>\n",
              "      <th>weighted_moving_average_price-BUY-6-sec</th>\n",
              "      <th>exp_moving_average_price-BUY-6-sec</th>\n",
              "      <th>stochastic_oscillator-BUY-6-sec</th>\n",
              "      <th>trade_volume-BUY-12-sec</th>\n",
              "      <th>moving_average_price-BUY-12-sec</th>\n",
              "      <th>weighted_moving_average_price-BUY-12-sec</th>\n",
              "      <th>exp_moving_average_price-BUY-12-sec</th>\n",
              "      <th>stochastic_oscillator-BUY-12-sec</th>\n",
              "      <th>trade_volume-BUY-18-sec</th>\n",
              "      <th>moving_average_price-BUY-18-sec</th>\n",
              "      <th>weighted_moving_average_price-BUY-18-sec</th>\n",
              "      <th>exp_moving_average_price-BUY-18-sec</th>\n",
              "      <th>stochastic_oscillator-BUY-18-sec</th>\n",
              "      <th>trade_volume-BUY-24-sec</th>\n",
              "      <th>moving_average_price-BUY-24-sec</th>\n",
              "      <th>weighted_moving_average_price-BUY-24-sec</th>\n",
              "      <th>exp_moving_average_price-BUY-24-sec</th>\n",
              "      <th>stochastic_oscillator-BUY-24-sec</th>\n",
              "      <th>trade_volume-BUY-30-sec</th>\n",
              "      <th>moving_average_price-BUY-30-sec</th>\n",
              "      <th>weighted_moving_average_price-BUY-30-sec</th>\n",
              "      <th>exp_moving_average_price-BUY-30-sec</th>\n",
              "      <th>stochastic_oscillator-BUY-30-sec</th>\n",
              "      <th>trade_volume-BUY-36-sec</th>\n",
              "      <th>moving_average_price-BUY-36-sec</th>\n",
              "      <th>weighted_moving_average_price-BUY-36-sec</th>\n",
              "      <th>exp_moving_average_price-BUY-36-sec</th>\n",
              "      <th>stochastic_oscillator-BUY-36-sec</th>\n",
              "      <th>trade_volume-BUY-42-sec</th>\n",
              "      <th>moving_average_price-BUY-42-sec</th>\n",
              "      <th>weighted_moving_average_price-BUY-42-sec</th>\n",
              "      <th>exp_moving_average_price-BUY-42-sec</th>\n",
              "      <th>stochastic_oscillator-BUY-42-sec</th>\n",
              "      <th>trade_volume-BUY-48-sec</th>\n",
              "      <th>moving_average_price-BUY-48-sec</th>\n",
              "      <th>weighted_moving_average_price-BUY-48-sec</th>\n",
              "      <th>exp_moving_average_price-BUY-48-sec</th>\n",
              "      <th>stochastic_oscillator-BUY-48-sec</th>\n",
              "      <th>...</th>\n",
              "      <th>weighted_moving_average_price-SELL-12-sec</th>\n",
              "      <th>exp_moving_average_price-SELL-12-sec</th>\n",
              "      <th>stochastic_oscillator-SELL-12-sec</th>\n",
              "      <th>trade_volume-SELL-18-sec</th>\n",
              "      <th>moving_average_price-SELL-18-sec</th>\n",
              "      <th>weighted_moving_average_price-SELL-18-sec</th>\n",
              "      <th>exp_moving_average_price-SELL-18-sec</th>\n",
              "      <th>stochastic_oscillator-SELL-18-sec</th>\n",
              "      <th>trade_volume-SELL-24-sec</th>\n",
              "      <th>moving_average_price-SELL-24-sec</th>\n",
              "      <th>weighted_moving_average_price-SELL-24-sec</th>\n",
              "      <th>exp_moving_average_price-SELL-24-sec</th>\n",
              "      <th>stochastic_oscillator-SELL-24-sec</th>\n",
              "      <th>trade_volume-SELL-30-sec</th>\n",
              "      <th>moving_average_price-SELL-30-sec</th>\n",
              "      <th>weighted_moving_average_price-SELL-30-sec</th>\n",
              "      <th>exp_moving_average_price-SELL-30-sec</th>\n",
              "      <th>stochastic_oscillator-SELL-30-sec</th>\n",
              "      <th>trade_volume-SELL-36-sec</th>\n",
              "      <th>moving_average_price-SELL-36-sec</th>\n",
              "      <th>weighted_moving_average_price-SELL-36-sec</th>\n",
              "      <th>exp_moving_average_price-SELL-36-sec</th>\n",
              "      <th>stochastic_oscillator-SELL-36-sec</th>\n",
              "      <th>trade_volume-SELL-42-sec</th>\n",
              "      <th>moving_average_price-SELL-42-sec</th>\n",
              "      <th>weighted_moving_average_price-SELL-42-sec</th>\n",
              "      <th>exp_moving_average_price-SELL-42-sec</th>\n",
              "      <th>stochastic_oscillator-SELL-42-sec</th>\n",
              "      <th>trade_volume-SELL-48-sec</th>\n",
              "      <th>moving_average_price-SELL-48-sec</th>\n",
              "      <th>weighted_moving_average_price-SELL-48-sec</th>\n",
              "      <th>exp_moving_average_price-SELL-48-sec</th>\n",
              "      <th>stochastic_oscillator-SELL-48-sec</th>\n",
              "      <th>trade_volume-SELL-54-sec</th>\n",
              "      <th>moving_average_price-SELL-54-sec</th>\n",
              "      <th>weighted_moving_average_price-SELL-54-sec</th>\n",
              "      <th>exp_moving_average_price-SELL-54-sec</th>\n",
              "      <th>stochastic_oscillator-SELL-54-sec</th>\n",
              "      <th>trade_volume-SELL-60-sec</th>\n",
              "      <th>stochastic_oscillator-SELL-60-sec</th>\n",
              "    </tr>\n",
              "  </thead>\n",
              "  <tbody>\n",
              "    <tr>\n",
              "      <th>0</th>\n",
              "      <td>0.100</td>\n",
              "      <td>1.000000</td>\n",
              "      <td>1.000000</td>\n",
              "      <td>1.000000</td>\n",
              "      <td>0.0</td>\n",
              "      <td>0.400</td>\n",
              "      <td>1.000078</td>\n",
              "      <td>1.000113</td>\n",
              "      <td>1.000005</td>\n",
              "      <td>0.000000</td>\n",
              "      <td>10.355</td>\n",
              "      <td>1.000006</td>\n",
              "      <td>1.000000</td>\n",
              "      <td>1.000000</td>\n",
              "      <td>1.000000</td>\n",
              "      <td>0.500</td>\n",
              "      <td>1.000013</td>\n",
              "      <td>1.000001</td>\n",
              "      <td>1.000000</td>\n",
              "      <td>0.000000</td>\n",
              "      <td>10.655</td>\n",
              "      <td>1.000020</td>\n",
              "      <td>1.000002</td>\n",
              "      <td>1.0</td>\n",
              "      <td>1.000000</td>\n",
              "      <td>0.716</td>\n",
              "      <td>1.000023</td>\n",
              "      <td>1.000004</td>\n",
              "      <td>1.000000</td>\n",
              "      <td>0.000000</td>\n",
              "      <td>10.855</td>\n",
              "      <td>1.000019</td>\n",
              "      <td>1.000004</td>\n",
              "      <td>1.000000</td>\n",
              "      <td>1.000000</td>\n",
              "      <td>0.916</td>\n",
              "      <td>1.000000</td>\n",
              "      <td>1.000000</td>\n",
              "      <td>1.0</td>\n",
              "      <td>0.000000</td>\n",
              "      <td>...</td>\n",
              "      <td>1.000067</td>\n",
              "      <td>1.000007</td>\n",
              "      <td>0.000000</td>\n",
              "      <td>0.400</td>\n",
              "      <td>1.000035</td>\n",
              "      <td>1.000038</td>\n",
              "      <td>1.000000</td>\n",
              "      <td>1.000000</td>\n",
              "      <td>0.800</td>\n",
              "      <td>1.000006</td>\n",
              "      <td>1.000005</td>\n",
              "      <td>1.000000</td>\n",
              "      <td>0.000000</td>\n",
              "      <td>0.600</td>\n",
              "      <td>1.000035</td>\n",
              "      <td>1.000140</td>\n",
              "      <td>1.0</td>\n",
              "      <td>1.000000</td>\n",
              "      <td>3.500</td>\n",
              "      <td>1.000020</td>\n",
              "      <td>1.000004</td>\n",
              "      <td>1.000000</td>\n",
              "      <td>0.000000</td>\n",
              "      <td>0.800</td>\n",
              "      <td>1.000023</td>\n",
              "      <td>1.000024</td>\n",
              "      <td>1.0</td>\n",
              "      <td>1.000000</td>\n",
              "      <td>5.566</td>\n",
              "      <td>1.000012</td>\n",
              "      <td>1.000014</td>\n",
              "      <td>1.0</td>\n",
              "      <td>0.000000</td>\n",
              "      <td>3.400</td>\n",
              "      <td>1.000028</td>\n",
              "      <td>1.000018</td>\n",
              "      <td>1.0</td>\n",
              "      <td>1.000000</td>\n",
              "      <td>15.547</td>\n",
              "      <td>0.000000</td>\n",
              "    </tr>\n",
              "    <tr>\n",
              "      <th>1</th>\n",
              "      <td>0.200</td>\n",
              "      <td>1.000000</td>\n",
              "      <td>1.000000</td>\n",
              "      <td>1.000000</td>\n",
              "      <td>0.0</td>\n",
              "      <td>0.300</td>\n",
              "      <td>1.000000</td>\n",
              "      <td>1.000000</td>\n",
              "      <td>1.000000</td>\n",
              "      <td>0.000000</td>\n",
              "      <td>0.400</td>\n",
              "      <td>1.000000</td>\n",
              "      <td>1.000000</td>\n",
              "      <td>1.000000</td>\n",
              "      <td>0.000000</td>\n",
              "      <td>0.600</td>\n",
              "      <td>1.000000</td>\n",
              "      <td>1.000000</td>\n",
              "      <td>1.000000</td>\n",
              "      <td>0.000000</td>\n",
              "      <td>0.650</td>\n",
              "      <td>1.000000</td>\n",
              "      <td>1.000000</td>\n",
              "      <td>1.0</td>\n",
              "      <td>0.000000</td>\n",
              "      <td>0.800</td>\n",
              "      <td>1.000037</td>\n",
              "      <td>1.000048</td>\n",
              "      <td>1.000000</td>\n",
              "      <td>0.000000</td>\n",
              "      <td>1.399</td>\n",
              "      <td>1.000005</td>\n",
              "      <td>1.000004</td>\n",
              "      <td>1.000000</td>\n",
              "      <td>0.600000</td>\n",
              "      <td>0.900</td>\n",
              "      <td>0.999985</td>\n",
              "      <td>0.999986</td>\n",
              "      <td>1.0</td>\n",
              "      <td>0.000000</td>\n",
              "      <td>...</td>\n",
              "      <td>1.000000</td>\n",
              "      <td>1.000000</td>\n",
              "      <td>0.000000</td>\n",
              "      <td>0.766</td>\n",
              "      <td>1.000000</td>\n",
              "      <td>1.000000</td>\n",
              "      <td>1.000000</td>\n",
              "      <td>0.000000</td>\n",
              "      <td>4.084</td>\n",
              "      <td>1.000000</td>\n",
              "      <td>1.000000</td>\n",
              "      <td>1.000000</td>\n",
              "      <td>0.000000</td>\n",
              "      <td>0.766</td>\n",
              "      <td>1.000008</td>\n",
              "      <td>1.000003</td>\n",
              "      <td>1.0</td>\n",
              "      <td>0.000000</td>\n",
              "      <td>4.284</td>\n",
              "      <td>1.000025</td>\n",
              "      <td>1.000010</td>\n",
              "      <td>1.000000</td>\n",
              "      <td>0.600000</td>\n",
              "      <td>1.166</td>\n",
              "      <td>1.000000</td>\n",
              "      <td>1.000000</td>\n",
              "      <td>1.0</td>\n",
              "      <td>0.000000</td>\n",
              "      <td>4.284</td>\n",
              "      <td>0.999875</td>\n",
              "      <td>0.999760</td>\n",
              "      <td>1.0</td>\n",
              "      <td>0.600000</td>\n",
              "      <td>34.697</td>\n",
              "      <td>0.999995</td>\n",
              "      <td>1.000000</td>\n",
              "      <td>1.0</td>\n",
              "      <td>-0.339130</td>\n",
              "      <td>4.384</td>\n",
              "      <td>0.600000</td>\n",
              "    </tr>\n",
              "    <tr>\n",
              "      <th>2</th>\n",
              "      <td>0.200</td>\n",
              "      <td>1.000054</td>\n",
              "      <td>1.000093</td>\n",
              "      <td>1.000045</td>\n",
              "      <td>0.0</td>\n",
              "      <td>49.298</td>\n",
              "      <td>0.999927</td>\n",
              "      <td>0.999998</td>\n",
              "      <td>0.999997</td>\n",
              "      <td>0.000000</td>\n",
              "      <td>0.500</td>\n",
              "      <td>0.999985</td>\n",
              "      <td>0.999999</td>\n",
              "      <td>1.000000</td>\n",
              "      <td>0.000000</td>\n",
              "      <td>49.398</td>\n",
              "      <td>0.999912</td>\n",
              "      <td>0.999997</td>\n",
              "      <td>1.000000</td>\n",
              "      <td>0.000000</td>\n",
              "      <td>0.700</td>\n",
              "      <td>0.999762</td>\n",
              "      <td>0.999991</td>\n",
              "      <td>1.0</td>\n",
              "      <td>0.000000</td>\n",
              "      <td>49.798</td>\n",
              "      <td>0.999887</td>\n",
              "      <td>0.999993</td>\n",
              "      <td>1.000000</td>\n",
              "      <td>0.000000</td>\n",
              "      <td>0.946</td>\n",
              "      <td>0.999952</td>\n",
              "      <td>0.999997</td>\n",
              "      <td>1.000000</td>\n",
              "      <td>0.000000</td>\n",
              "      <td>49.898</td>\n",
              "      <td>0.999883</td>\n",
              "      <td>0.999994</td>\n",
              "      <td>1.0</td>\n",
              "      <td>0.000000</td>\n",
              "      <td>...</td>\n",
              "      <td>1.000006</td>\n",
              "      <td>1.000000</td>\n",
              "      <td>0.000000</td>\n",
              "      <td>6.920</td>\n",
              "      <td>0.999977</td>\n",
              "      <td>1.000000</td>\n",
              "      <td>1.000000</td>\n",
              "      <td>0.000000</td>\n",
              "      <td>145.457</td>\n",
              "      <td>0.999963</td>\n",
              "      <td>0.999997</td>\n",
              "      <td>1.000000</td>\n",
              "      <td>0.000000</td>\n",
              "      <td>12.726</td>\n",
              "      <td>0.999923</td>\n",
              "      <td>0.999980</td>\n",
              "      <td>1.0</td>\n",
              "      <td>0.000000</td>\n",
              "      <td>152.812</td>\n",
              "      <td>0.999889</td>\n",
              "      <td>0.999950</td>\n",
              "      <td>1.000000</td>\n",
              "      <td>0.000000</td>\n",
              "      <td>21.783</td>\n",
              "      <td>0.999950</td>\n",
              "      <td>0.999998</td>\n",
              "      <td>1.0</td>\n",
              "      <td>0.000000</td>\n",
              "      <td>153.112</td>\n",
              "      <td>0.999967</td>\n",
              "      <td>0.999993</td>\n",
              "      <td>1.0</td>\n",
              "      <td>0.000000</td>\n",
              "      <td>22.783</td>\n",
              "      <td>0.999961</td>\n",
              "      <td>0.999998</td>\n",
              "      <td>1.0</td>\n",
              "      <td>0.000000</td>\n",
              "      <td>153.412</td>\n",
              "      <td>0.000000</td>\n",
              "    </tr>\n",
              "    <tr>\n",
              "      <th>3</th>\n",
              "      <td>2.513</td>\n",
              "      <td>1.000151</td>\n",
              "      <td>1.000178</td>\n",
              "      <td>1.000007</td>\n",
              "      <td>0.0</td>\n",
              "      <td>4.975</td>\n",
              "      <td>1.000460</td>\n",
              "      <td>1.000613</td>\n",
              "      <td>1.000000</td>\n",
              "      <td>1.000000</td>\n",
              "      <td>38.830</td>\n",
              "      <td>0.999996</td>\n",
              "      <td>0.999999</td>\n",
              "      <td>1.000000</td>\n",
              "      <td>0.000000</td>\n",
              "      <td>5.175</td>\n",
              "      <td>1.000000</td>\n",
              "      <td>1.000000</td>\n",
              "      <td>1.000000</td>\n",
              "      <td>1.000000</td>\n",
              "      <td>38.830</td>\n",
              "      <td>0.999971</td>\n",
              "      <td>0.999996</td>\n",
              "      <td>1.0</td>\n",
              "      <td>0.000000</td>\n",
              "      <td>5.575</td>\n",
              "      <td>0.999939</td>\n",
              "      <td>0.999849</td>\n",
              "      <td>1.000000</td>\n",
              "      <td>1.000000</td>\n",
              "      <td>48.346</td>\n",
              "      <td>1.000000</td>\n",
              "      <td>1.000000</td>\n",
              "      <td>1.000000</td>\n",
              "      <td>-0.043478</td>\n",
              "      <td>5.575</td>\n",
              "      <td>1.000000</td>\n",
              "      <td>1.000000</td>\n",
              "      <td>1.0</td>\n",
              "      <td>1.000000</td>\n",
              "      <td>...</td>\n",
              "      <td>1.000071</td>\n",
              "      <td>1.000000</td>\n",
              "      <td>0.000000</td>\n",
              "      <td>45.514</td>\n",
              "      <td>0.999939</td>\n",
              "      <td>0.999967</td>\n",
              "      <td>1.000000</td>\n",
              "      <td>1.000000</td>\n",
              "      <td>13.863</td>\n",
              "      <td>0.999977</td>\n",
              "      <td>0.999998</td>\n",
              "      <td>1.000000</td>\n",
              "      <td>0.000000</td>\n",
              "      <td>45.814</td>\n",
              "      <td>0.999910</td>\n",
              "      <td>0.999956</td>\n",
              "      <td>1.0</td>\n",
              "      <td>1.000000</td>\n",
              "      <td>19.263</td>\n",
              "      <td>0.999986</td>\n",
              "      <td>0.999998</td>\n",
              "      <td>1.000000</td>\n",
              "      <td>-0.043478</td>\n",
              "      <td>45.964</td>\n",
              "      <td>0.999973</td>\n",
              "      <td>0.999997</td>\n",
              "      <td>1.0</td>\n",
              "      <td>0.947588</td>\n",
              "      <td>19.463</td>\n",
              "      <td>0.999892</td>\n",
              "      <td>0.999960</td>\n",
              "      <td>1.0</td>\n",
              "      <td>-0.055696</td>\n",
              "      <td>48.145</td>\n",
              "      <td>0.999830</td>\n",
              "      <td>0.999537</td>\n",
              "      <td>1.0</td>\n",
              "      <td>0.722363</td>\n",
              "      <td>43.943</td>\n",
              "      <td>-0.237069</td>\n",
              "    </tr>\n",
              "    <tr>\n",
              "      <th>4</th>\n",
              "      <td>5.152</td>\n",
              "      <td>0.999959</td>\n",
              "      <td>0.999992</td>\n",
              "      <td>0.999995</td>\n",
              "      <td>1.0</td>\n",
              "      <td>0.100</td>\n",
              "      <td>0.999963</td>\n",
              "      <td>0.999992</td>\n",
              "      <td>1.000000</td>\n",
              "      <td>-0.277778</td>\n",
              "      <td>5.252</td>\n",
              "      <td>0.999958</td>\n",
              "      <td>0.999884</td>\n",
              "      <td>1.000000</td>\n",
              "      <td>0.927778</td>\n",
              "      <td>6.890</td>\n",
              "      <td>1.000013</td>\n",
              "      <td>1.000004</td>\n",
              "      <td>1.000000</td>\n",
              "      <td>-0.277778</td>\n",
              "      <td>14.568</td>\n",
              "      <td>1.000015</td>\n",
              "      <td>1.000000</td>\n",
              "      <td>1.0</td>\n",
              "      <td>0.927778</td>\n",
              "      <td>8.057</td>\n",
              "      <td>1.000014</td>\n",
              "      <td>1.000000</td>\n",
              "      <td>1.000000</td>\n",
              "      <td>-0.277778</td>\n",
              "      <td>15.068</td>\n",
              "      <td>1.000056</td>\n",
              "      <td>1.000023</td>\n",
              "      <td>1.000000</td>\n",
              "      <td>0.927778</td>\n",
              "      <td>10.496</td>\n",
              "      <td>1.000165</td>\n",
              "      <td>1.000644</td>\n",
              "      <td>1.0</td>\n",
              "      <td>-0.161111</td>\n",
              "      <td>...</td>\n",
              "      <td>0.999952</td>\n",
              "      <td>1.000000</td>\n",
              "      <td>-0.257143</td>\n",
              "      <td>9.616</td>\n",
              "      <td>1.000000</td>\n",
              "      <td>1.000002</td>\n",
              "      <td>1.000000</td>\n",
              "      <td>0.819643</td>\n",
              "      <td>6.406</td>\n",
              "      <td>1.000006</td>\n",
              "      <td>1.000001</td>\n",
              "      <td>1.000000</td>\n",
              "      <td>-0.257143</td>\n",
              "      <td>9.716</td>\n",
              "      <td>1.000011</td>\n",
              "      <td>1.000002</td>\n",
              "      <td>1.0</td>\n",
              "      <td>0.819643</td>\n",
              "      <td>6.506</td>\n",
              "      <td>1.000033</td>\n",
              "      <td>1.000107</td>\n",
              "      <td>1.000000</td>\n",
              "      <td>-0.257143</td>\n",
              "      <td>19.332</td>\n",
              "      <td>1.000031</td>\n",
              "      <td>1.000003</td>\n",
              "      <td>1.0</td>\n",
              "      <td>0.819643</td>\n",
              "      <td>6.706</td>\n",
              "      <td>1.000067</td>\n",
              "      <td>1.000007</td>\n",
              "      <td>1.0</td>\n",
              "      <td>-0.111310</td>\n",
              "      <td>19.532</td>\n",
              "      <td>1.000118</td>\n",
              "      <td>1.000278</td>\n",
              "      <td>1.0</td>\n",
              "      <td>0.971310</td>\n",
              "      <td>16.675</td>\n",
              "      <td>-0.111310</td>\n",
              "    </tr>\n",
              "    <tr>\n",
              "      <th>...</th>\n",
              "      <td>...</td>\n",
              "      <td>...</td>\n",
              "      <td>...</td>\n",
              "      <td>...</td>\n",
              "      <td>...</td>\n",
              "      <td>...</td>\n",
              "      <td>...</td>\n",
              "      <td>...</td>\n",
              "      <td>...</td>\n",
              "      <td>...</td>\n",
              "      <td>...</td>\n",
              "      <td>...</td>\n",
              "      <td>...</td>\n",
              "      <td>...</td>\n",
              "      <td>...</td>\n",
              "      <td>...</td>\n",
              "      <td>...</td>\n",
              "      <td>...</td>\n",
              "      <td>...</td>\n",
              "      <td>...</td>\n",
              "      <td>...</td>\n",
              "      <td>...</td>\n",
              "      <td>...</td>\n",
              "      <td>...</td>\n",
              "      <td>...</td>\n",
              "      <td>...</td>\n",
              "      <td>...</td>\n",
              "      <td>...</td>\n",
              "      <td>...</td>\n",
              "      <td>...</td>\n",
              "      <td>...</td>\n",
              "      <td>...</td>\n",
              "      <td>...</td>\n",
              "      <td>...</td>\n",
              "      <td>...</td>\n",
              "      <td>...</td>\n",
              "      <td>...</td>\n",
              "      <td>...</td>\n",
              "      <td>...</td>\n",
              "      <td>...</td>\n",
              "      <td>...</td>\n",
              "      <td>...</td>\n",
              "      <td>...</td>\n",
              "      <td>...</td>\n",
              "      <td>...</td>\n",
              "      <td>...</td>\n",
              "      <td>...</td>\n",
              "      <td>...</td>\n",
              "      <td>...</td>\n",
              "      <td>...</td>\n",
              "      <td>...</td>\n",
              "      <td>...</td>\n",
              "      <td>...</td>\n",
              "      <td>...</td>\n",
              "      <td>...</td>\n",
              "      <td>...</td>\n",
              "      <td>...</td>\n",
              "      <td>...</td>\n",
              "      <td>...</td>\n",
              "      <td>...</td>\n",
              "      <td>...</td>\n",
              "      <td>...</td>\n",
              "      <td>...</td>\n",
              "      <td>...</td>\n",
              "      <td>...</td>\n",
              "      <td>...</td>\n",
              "      <td>...</td>\n",
              "      <td>...</td>\n",
              "      <td>...</td>\n",
              "      <td>...</td>\n",
              "      <td>...</td>\n",
              "      <td>...</td>\n",
              "      <td>...</td>\n",
              "      <td>...</td>\n",
              "      <td>...</td>\n",
              "      <td>...</td>\n",
              "      <td>...</td>\n",
              "      <td>...</td>\n",
              "      <td>...</td>\n",
              "      <td>...</td>\n",
              "      <td>...</td>\n",
              "    </tr>\n",
              "    <tr>\n",
              "      <th>38742</th>\n",
              "      <td>6.446</td>\n",
              "      <td>1.000332</td>\n",
              "      <td>1.000367</td>\n",
              "      <td>1.000060</td>\n",
              "      <td>0.5</td>\n",
              "      <td>12.537</td>\n",
              "      <td>1.000000</td>\n",
              "      <td>1.000000</td>\n",
              "      <td>1.000000</td>\n",
              "      <td>0.500000</td>\n",
              "      <td>6.446</td>\n",
              "      <td>1.000000</td>\n",
              "      <td>1.000000</td>\n",
              "      <td>1.000000</td>\n",
              "      <td>0.500000</td>\n",
              "      <td>12.537</td>\n",
              "      <td>0.999974</td>\n",
              "      <td>0.999966</td>\n",
              "      <td>0.999997</td>\n",
              "      <td>0.500000</td>\n",
              "      <td>16.445</td>\n",
              "      <td>1.000000</td>\n",
              "      <td>1.000000</td>\n",
              "      <td>1.0</td>\n",
              "      <td>0.500000</td>\n",
              "      <td>12.537</td>\n",
              "      <td>0.999948</td>\n",
              "      <td>0.999942</td>\n",
              "      <td>1.000000</td>\n",
              "      <td>0.500000</td>\n",
              "      <td>326.444</td>\n",
              "      <td>1.000000</td>\n",
              "      <td>1.000000</td>\n",
              "      <td>1.000000</td>\n",
              "      <td>0.500000</td>\n",
              "      <td>12.537</td>\n",
              "      <td>0.999992</td>\n",
              "      <td>0.999996</td>\n",
              "      <td>1.0</td>\n",
              "      <td>0.500000</td>\n",
              "      <td>...</td>\n",
              "      <td>0.999750</td>\n",
              "      <td>0.999810</td>\n",
              "      <td>0.000000</td>\n",
              "      <td>15.618</td>\n",
              "      <td>1.000000</td>\n",
              "      <td>1.000000</td>\n",
              "      <td>1.000000</td>\n",
              "      <td>0.000000</td>\n",
              "      <td>0.000</td>\n",
              "      <td>0.999968</td>\n",
              "      <td>0.999947</td>\n",
              "      <td>1.000000</td>\n",
              "      <td>0.000000</td>\n",
              "      <td>26.117</td>\n",
              "      <td>1.000000</td>\n",
              "      <td>1.000000</td>\n",
              "      <td>1.0</td>\n",
              "      <td>0.000000</td>\n",
              "      <td>0.000</td>\n",
              "      <td>0.999952</td>\n",
              "      <td>0.999943</td>\n",
              "      <td>0.999998</td>\n",
              "      <td>0.000000</td>\n",
              "      <td>36.116</td>\n",
              "      <td>0.999984</td>\n",
              "      <td>0.999989</td>\n",
              "      <td>1.0</td>\n",
              "      <td>0.000000</td>\n",
              "      <td>3.000</td>\n",
              "      <td>0.999987</td>\n",
              "      <td>0.999974</td>\n",
              "      <td>1.0</td>\n",
              "      <td>0.000000</td>\n",
              "      <td>45.331</td>\n",
              "      <td>1.000000</td>\n",
              "      <td>1.000000</td>\n",
              "      <td>1.0</td>\n",
              "      <td>0.000000</td>\n",
              "      <td>3.000</td>\n",
              "      <td>0.000000</td>\n",
              "    </tr>\n",
              "    <tr>\n",
              "      <th>38743</th>\n",
              "      <td>0.499</td>\n",
              "      <td>1.000000</td>\n",
              "      <td>1.000000</td>\n",
              "      <td>1.000000</td>\n",
              "      <td>0.0</td>\n",
              "      <td>0.000</td>\n",
              "      <td>1.000000</td>\n",
              "      <td>1.000000</td>\n",
              "      <td>1.000000</td>\n",
              "      <td>0.000000</td>\n",
              "      <td>10.498</td>\n",
              "      <td>1.000000</td>\n",
              "      <td>1.000000</td>\n",
              "      <td>1.000000</td>\n",
              "      <td>0.000000</td>\n",
              "      <td>0.000</td>\n",
              "      <td>0.999975</td>\n",
              "      <td>0.999968</td>\n",
              "      <td>0.999981</td>\n",
              "      <td>0.000000</td>\n",
              "      <td>18.263</td>\n",
              "      <td>1.000000</td>\n",
              "      <td>1.000000</td>\n",
              "      <td>1.0</td>\n",
              "      <td>0.000000</td>\n",
              "      <td>0.000</td>\n",
              "      <td>1.000000</td>\n",
              "      <td>1.000000</td>\n",
              "      <td>1.000000</td>\n",
              "      <td>0.000000</td>\n",
              "      <td>18.263</td>\n",
              "      <td>0.999878</td>\n",
              "      <td>0.999895</td>\n",
              "      <td>0.999968</td>\n",
              "      <td>0.000000</td>\n",
              "      <td>9.999</td>\n",
              "      <td>1.000000</td>\n",
              "      <td>1.000000</td>\n",
              "      <td>1.0</td>\n",
              "      <td>0.000000</td>\n",
              "      <td>...</td>\n",
              "      <td>1.000000</td>\n",
              "      <td>1.000000</td>\n",
              "      <td>0.000000</td>\n",
              "      <td>19.998</td>\n",
              "      <td>1.000000</td>\n",
              "      <td>1.000000</td>\n",
              "      <td>1.000000</td>\n",
              "      <td>0.000000</td>\n",
              "      <td>5.000</td>\n",
              "      <td>0.999959</td>\n",
              "      <td>0.999967</td>\n",
              "      <td>0.999994</td>\n",
              "      <td>0.000000</td>\n",
              "      <td>52.763</td>\n",
              "      <td>1.000000</td>\n",
              "      <td>1.000000</td>\n",
              "      <td>1.0</td>\n",
              "      <td>0.000000</td>\n",
              "      <td>5.000</td>\n",
              "      <td>0.999968</td>\n",
              "      <td>0.999998</td>\n",
              "      <td>0.999999</td>\n",
              "      <td>0.000000</td>\n",
              "      <td>53.177</td>\n",
              "      <td>0.999974</td>\n",
              "      <td>0.999957</td>\n",
              "      <td>1.0</td>\n",
              "      <td>0.000000</td>\n",
              "      <td>14.999</td>\n",
              "      <td>0.999979</td>\n",
              "      <td>0.999932</td>\n",
              "      <td>1.0</td>\n",
              "      <td>0.000000</td>\n",
              "      <td>78.177</td>\n",
              "      <td>0.999982</td>\n",
              "      <td>0.999996</td>\n",
              "      <td>1.0</td>\n",
              "      <td>0.000000</td>\n",
              "      <td>16.877</td>\n",
              "      <td>0.000000</td>\n",
              "    </tr>\n",
              "    <tr>\n",
              "      <th>38744</th>\n",
              "      <td>9.999</td>\n",
              "      <td>1.000000</td>\n",
              "      <td>1.000000</td>\n",
              "      <td>1.000000</td>\n",
              "      <td>0.0</td>\n",
              "      <td>0.000</td>\n",
              "      <td>1.000000</td>\n",
              "      <td>1.000000</td>\n",
              "      <td>1.000000</td>\n",
              "      <td>0.000000</td>\n",
              "      <td>19.998</td>\n",
              "      <td>1.000000</td>\n",
              "      <td>1.000000</td>\n",
              "      <td>1.000000</td>\n",
              "      <td>0.000000</td>\n",
              "      <td>0.000</td>\n",
              "      <td>1.000000</td>\n",
              "      <td>1.000000</td>\n",
              "      <td>1.000000</td>\n",
              "      <td>0.000000</td>\n",
              "      <td>29.997</td>\n",
              "      <td>1.000000</td>\n",
              "      <td>1.000000</td>\n",
              "      <td>1.0</td>\n",
              "      <td>0.000000</td>\n",
              "      <td>0.038</td>\n",
              "      <td>1.000017</td>\n",
              "      <td>1.000014</td>\n",
              "      <td>1.000001</td>\n",
              "      <td>0.000000</td>\n",
              "      <td>71.013</td>\n",
              "      <td>1.000000</td>\n",
              "      <td>1.000000</td>\n",
              "      <td>1.000000</td>\n",
              "      <td>0.200000</td>\n",
              "      <td>0.038</td>\n",
              "      <td>0.999979</td>\n",
              "      <td>0.999967</td>\n",
              "      <td>1.0</td>\n",
              "      <td>0.000000</td>\n",
              "      <td>...</td>\n",
              "      <td>1.000000</td>\n",
              "      <td>1.000000</td>\n",
              "      <td>0.000000</td>\n",
              "      <td>19.177</td>\n",
              "      <td>1.000000</td>\n",
              "      <td>1.000000</td>\n",
              "      <td>1.000000</td>\n",
              "      <td>0.000000</td>\n",
              "      <td>0.000</td>\n",
              "      <td>1.000000</td>\n",
              "      <td>1.000000</td>\n",
              "      <td>1.000000</td>\n",
              "      <td>0.000000</td>\n",
              "      <td>29.176</td>\n",
              "      <td>1.000000</td>\n",
              "      <td>1.000000</td>\n",
              "      <td>1.0</td>\n",
              "      <td>0.000000</td>\n",
              "      <td>0.000</td>\n",
              "      <td>1.000000</td>\n",
              "      <td>0.999987</td>\n",
              "      <td>1.000000</td>\n",
              "      <td>0.000000</td>\n",
              "      <td>39.242</td>\n",
              "      <td>1.000109</td>\n",
              "      <td>1.000182</td>\n",
              "      <td>1.0</td>\n",
              "      <td>0.200000</td>\n",
              "      <td>604.301</td>\n",
              "      <td>0.999958</td>\n",
              "      <td>0.999981</td>\n",
              "      <td>1.0</td>\n",
              "      <td>0.442857</td>\n",
              "      <td>65.138</td>\n",
              "      <td>1.000000</td>\n",
              "      <td>1.000000</td>\n",
              "      <td>1.0</td>\n",
              "      <td>0.119643</td>\n",
              "      <td>604.301</td>\n",
              "      <td>0.442857</td>\n",
              "    </tr>\n",
              "    <tr>\n",
              "      <th>38745</th>\n",
              "      <td>58.332</td>\n",
              "      <td>1.000150</td>\n",
              "      <td>1.000011</td>\n",
              "      <td>1.000051</td>\n",
              "      <td>1.0</td>\n",
              "      <td>0.861</td>\n",
              "      <td>1.000411</td>\n",
              "      <td>1.000088</td>\n",
              "      <td>1.000013</td>\n",
              "      <td>0.000000</td>\n",
              "      <td>63.914</td>\n",
              "      <td>1.000182</td>\n",
              "      <td>1.000161</td>\n",
              "      <td>1.000000</td>\n",
              "      <td>1.000000</td>\n",
              "      <td>10.861</td>\n",
              "      <td>1.000088</td>\n",
              "      <td>1.000128</td>\n",
              "      <td>1.000000</td>\n",
              "      <td>0.000000</td>\n",
              "      <td>73.914</td>\n",
              "      <td>1.000000</td>\n",
              "      <td>1.000000</td>\n",
              "      <td>1.0</td>\n",
              "      <td>1.000000</td>\n",
              "      <td>10.861</td>\n",
              "      <td>1.000155</td>\n",
              "      <td>1.000643</td>\n",
              "      <td>1.000000</td>\n",
              "      <td>0.000000</td>\n",
              "      <td>164.820</td>\n",
              "      <td>1.000065</td>\n",
              "      <td>1.000092</td>\n",
              "      <td>1.000000</td>\n",
              "      <td>1.000000</td>\n",
              "      <td>30.649</td>\n",
              "      <td>1.000075</td>\n",
              "      <td>1.000006</td>\n",
              "      <td>1.0</td>\n",
              "      <td>0.000000</td>\n",
              "      <td>...</td>\n",
              "      <td>1.000000</td>\n",
              "      <td>1.000000</td>\n",
              "      <td>0.000000</td>\n",
              "      <td>1.381</td>\n",
              "      <td>1.000241</td>\n",
              "      <td>1.000331</td>\n",
              "      <td>1.000241</td>\n",
              "      <td>0.000000</td>\n",
              "      <td>3.005</td>\n",
              "      <td>1.000381</td>\n",
              "      <td>1.000459</td>\n",
              "      <td>1.000083</td>\n",
              "      <td>1.000000</td>\n",
              "      <td>87.583</td>\n",
              "      <td>1.000000</td>\n",
              "      <td>1.000000</td>\n",
              "      <td>1.0</td>\n",
              "      <td>0.000000</td>\n",
              "      <td>3.005</td>\n",
              "      <td>1.000067</td>\n",
              "      <td>1.000002</td>\n",
              "      <td>1.000004</td>\n",
              "      <td>1.000000</td>\n",
              "      <td>88.059</td>\n",
              "      <td>1.000000</td>\n",
              "      <td>1.000000</td>\n",
              "      <td>1.0</td>\n",
              "      <td>0.000000</td>\n",
              "      <td>3.005</td>\n",
              "      <td>1.000000</td>\n",
              "      <td>1.000000</td>\n",
              "      <td>1.0</td>\n",
              "      <td>1.000000</td>\n",
              "      <td>88.059</td>\n",
              "      <td>1.000000</td>\n",
              "      <td>1.000000</td>\n",
              "      <td>1.0</td>\n",
              "      <td>0.000000</td>\n",
              "      <td>3.005</td>\n",
              "      <td>1.000000</td>\n",
              "    </tr>\n",
              "    <tr>\n",
              "      <th>38746</th>\n",
              "      <td>72.433</td>\n",
              "      <td>1.000167</td>\n",
              "      <td>1.000048</td>\n",
              "      <td>1.000006</td>\n",
              "      <td>1.0</td>\n",
              "      <td>9.809</td>\n",
              "      <td>1.000021</td>\n",
              "      <td>1.000013</td>\n",
              "      <td>1.000000</td>\n",
              "      <td>0.000000</td>\n",
              "      <td>75.433</td>\n",
              "      <td>0.999889</td>\n",
              "      <td>0.999891</td>\n",
              "      <td>0.999999</td>\n",
              "      <td>1.000000</td>\n",
              "      <td>271.393</td>\n",
              "      <td>0.999893</td>\n",
              "      <td>1.000007</td>\n",
              "      <td>1.000000</td>\n",
              "      <td>-0.280000</td>\n",
              "      <td>720.208</td>\n",
              "      <td>0.999999</td>\n",
              "      <td>1.000000</td>\n",
              "      <td>1.0</td>\n",
              "      <td>0.880000</td>\n",
              "      <td>271.989</td>\n",
              "      <td>0.999951</td>\n",
              "      <td>0.999964</td>\n",
              "      <td>1.000000</td>\n",
              "      <td>-0.280000</td>\n",
              "      <td>1014.379</td>\n",
              "      <td>1.000000</td>\n",
              "      <td>1.000000</td>\n",
              "      <td>1.000000</td>\n",
              "      <td>0.680000</td>\n",
              "      <td>271.989</td>\n",
              "      <td>1.000000</td>\n",
              "      <td>1.000000</td>\n",
              "      <td>1.0</td>\n",
              "      <td>-0.280000</td>\n",
              "      <td>...</td>\n",
              "      <td>1.000068</td>\n",
              "      <td>1.000002</td>\n",
              "      <td>0.000000</td>\n",
              "      <td>18.025</td>\n",
              "      <td>1.000047</td>\n",
              "      <td>1.000012</td>\n",
              "      <td>1.000001</td>\n",
              "      <td>1.000000</td>\n",
              "      <td>1.126</td>\n",
              "      <td>1.000185</td>\n",
              "      <td>1.000315</td>\n",
              "      <td>1.000000</td>\n",
              "      <td>0.000000</td>\n",
              "      <td>222.024</td>\n",
              "      <td>0.999948</td>\n",
              "      <td>0.999961</td>\n",
              "      <td>1.0</td>\n",
              "      <td>1.000000</td>\n",
              "      <td>37.443</td>\n",
              "      <td>0.999730</td>\n",
              "      <td>0.999907</td>\n",
              "      <td>1.000000</td>\n",
              "      <td>-0.052632</td>\n",
              "      <td>250.694</td>\n",
              "      <td>0.999995</td>\n",
              "      <td>0.999981</td>\n",
              "      <td>1.0</td>\n",
              "      <td>0.419979</td>\n",
              "      <td>53.432</td>\n",
              "      <td>0.999999</td>\n",
              "      <td>0.999991</td>\n",
              "      <td>1.0</td>\n",
              "      <td>-0.052632</td>\n",
              "      <td>258.746</td>\n",
              "      <td>0.999999</td>\n",
              "      <td>0.999999</td>\n",
              "      <td>1.0</td>\n",
              "      <td>0.419979</td>\n",
              "      <td>54.123</td>\n",
              "      <td>-0.052632</td>\n",
              "    </tr>\n",
              "  </tbody>\n",
              "</table>\n",
              "<p>38747 rows × 94 columns</p>\n",
              "</div>\n",
              "      <button class=\"colab-df-convert\" onclick=\"convertToInteractive('df-cc4990f6-8a3f-4a98-819d-40d439a338fb')\"\n",
              "              title=\"Convert this dataframe to an interactive table.\"\n",
              "              style=\"display:none;\">\n",
              "        \n",
              "  <svg xmlns=\"http://www.w3.org/2000/svg\" height=\"24px\"viewBox=\"0 0 24 24\"\n",
              "       width=\"24px\">\n",
              "    <path d=\"M0 0h24v24H0V0z\" fill=\"none\"/>\n",
              "    <path d=\"M18.56 5.44l.94 2.06.94-2.06 2.06-.94-2.06-.94-.94-2.06-.94 2.06-2.06.94zm-11 1L8.5 8.5l.94-2.06 2.06-.94-2.06-.94L8.5 2.5l-.94 2.06-2.06.94zm10 10l.94 2.06.94-2.06 2.06-.94-2.06-.94-.94-2.06-.94 2.06-2.06.94z\"/><path d=\"M17.41 7.96l-1.37-1.37c-.4-.4-.92-.59-1.43-.59-.52 0-1.04.2-1.43.59L10.3 9.45l-7.72 7.72c-.78.78-.78 2.05 0 2.83L4 21.41c.39.39.9.59 1.41.59.51 0 1.02-.2 1.41-.59l7.78-7.78 2.81-2.81c.8-.78.8-2.07 0-2.86zM5.41 20L4 18.59l7.72-7.72 1.47 1.35L5.41 20z\"/>\n",
              "  </svg>\n",
              "      </button>\n",
              "      \n",
              "  <style>\n",
              "    .colab-df-container {\n",
              "      display:flex;\n",
              "      flex-wrap:wrap;\n",
              "      gap: 12px;\n",
              "    }\n",
              "\n",
              "    .colab-df-convert {\n",
              "      background-color: #E8F0FE;\n",
              "      border: none;\n",
              "      border-radius: 50%;\n",
              "      cursor: pointer;\n",
              "      display: none;\n",
              "      fill: #1967D2;\n",
              "      height: 32px;\n",
              "      padding: 0 0 0 0;\n",
              "      width: 32px;\n",
              "    }\n",
              "\n",
              "    .colab-df-convert:hover {\n",
              "      background-color: #E2EBFA;\n",
              "      box-shadow: 0px 1px 2px rgba(60, 64, 67, 0.3), 0px 1px 3px 1px rgba(60, 64, 67, 0.15);\n",
              "      fill: #174EA6;\n",
              "    }\n",
              "\n",
              "    [theme=dark] .colab-df-convert {\n",
              "      background-color: #3B4455;\n",
              "      fill: #D2E3FC;\n",
              "    }\n",
              "\n",
              "    [theme=dark] .colab-df-convert:hover {\n",
              "      background-color: #434B5C;\n",
              "      box-shadow: 0px 1px 3px 1px rgba(0, 0, 0, 0.15);\n",
              "      filter: drop-shadow(0px 1px 2px rgba(0, 0, 0, 0.3));\n",
              "      fill: #FFFFFF;\n",
              "    }\n",
              "  </style>\n",
              "\n",
              "      <script>\n",
              "        const buttonEl =\n",
              "          document.querySelector('#df-cc4990f6-8a3f-4a98-819d-40d439a338fb button.colab-df-convert');\n",
              "        buttonEl.style.display =\n",
              "          google.colab.kernel.accessAllowed ? 'block' : 'none';\n",
              "\n",
              "        async function convertToInteractive(key) {\n",
              "          const element = document.querySelector('#df-cc4990f6-8a3f-4a98-819d-40d439a338fb');\n",
              "          const dataTable =\n",
              "            await google.colab.kernel.invokeFunction('convertToInteractive',\n",
              "                                                     [key], {});\n",
              "          if (!dataTable) return;\n",
              "\n",
              "          const docLinkHtml = 'Like what you see? Visit the ' +\n",
              "            '<a target=\"_blank\" href=https://colab.research.google.com/notebooks/data_table.ipynb>data table notebook</a>'\n",
              "            + ' to learn more about interactive tables.';\n",
              "          element.innerHTML = '';\n",
              "          dataTable['output_type'] = 'display_data';\n",
              "          await google.colab.output.renderOutput(dataTable, element);\n",
              "          const docLink = document.createElement('div');\n",
              "          docLink.innerHTML = docLinkHtml;\n",
              "          element.appendChild(docLink);\n",
              "        }\n",
              "      </script>\n",
              "    </div>\n",
              "  </div>\n",
              "  "
            ],
            "text/plain": [
              "       trade_volume-BUY-6-sec  ...  stochastic_oscillator-SELL-60-sec\n",
              "0                       0.100  ...                           0.000000\n",
              "1                       0.200  ...                           0.600000\n",
              "2                       0.200  ...                           0.000000\n",
              "3                       2.513  ...                          -0.237069\n",
              "4                       5.152  ...                          -0.111310\n",
              "...                       ...  ...                                ...\n",
              "38742                   6.446  ...                           0.000000\n",
              "38743                   0.499  ...                           0.000000\n",
              "38744                   9.999  ...                           0.442857\n",
              "38745                  58.332  ...                           1.000000\n",
              "38746                  72.433  ...                          -0.052632\n",
              "\n",
              "[38747 rows x 94 columns]"
            ]
          },
          "metadata": {},
          "execution_count": 127
        }
      ],
      "source": [
        "X = df[x_columns]\n",
        "secs = list(sorted(list(set(map(lambda x : int(''.join(x)), [[s for s in column if s.isdigit()] for column in x_columns])))))\n",
        "delta_sec = secs[1] - secs[0]\n",
        "max_sec = secs[-1]\n",
        "min_sec = secs[0]\n",
        "\n",
        "for column in x_columns:\n",
        "  name, side, sec, _ = column.split('-')\n",
        "  if not 'price' in name and int(sec) != min_sec:\n",
        "    X[f'{name}-{side}-{sec}-sec'] -= X[f'{name}-{side}-{str(int(sec) - delta_sec)}-sec']\n",
        "  elif 'price' in name:\n",
        "    if int(sec) != max_sec:\n",
        "      X[f'{name}-{side}-{sec}-sec'] /= X[f'{name}-{side}-{str(int(sec) + delta_sec)}-sec']\n",
        "    else:\n",
        "      X = X.drop(f'{name}-{side}-{sec}-sec', axis=1)\n",
        "\n",
        "X"
      ],
      "id": "96ce2f97-578b-4e03-88df-68348c66e537"
    },
    {
      "cell_type": "code",
      "execution_count": 260,
      "metadata": {
        "colab": {
          "base_uri": "https://localhost:8080/"
        },
        "id": "70de5225-1eda-479f-9199-b176f49d7d9c",
        "outputId": "524763c2-d2f0-46a8-e776-58c8a1bede87"
      },
      "outputs": [
        {
          "output_type": "stream",
          "name": "stdout",
          "text": [
            "       target\n",
            "0           0\n",
            "1           0\n",
            "2           1\n",
            "3           0\n",
            "4           0\n",
            "...       ...\n",
            "38742       0\n",
            "38743       0\n",
            "38744       0\n",
            "38745       0\n",
            "38746       0\n",
            "\n",
            "[38747 rows x 1 columns]\n",
            "target\n",
            " 0        36607\n",
            "-1         1155\n",
            " 1          985\n",
            "dtype: int64\n"
          ]
        }
      ],
      "source": [
        "commision = 0.0005\n",
        "punch = commision * 4\n",
        "\n",
        "y = pd.DataFrame(\n",
        "    df[y_columns].apply(\n",
        "        lambda row : 1 if max(list(row.to_numpy()), key=abs) > punch else -1 if max(list(row.to_numpy()), key=abs) < -punch else 0,\n",
        "        axis = 1\n",
        "    )\n",
        ")\n",
        "y = y.rename({0:'target'}, axis='columns')\n",
        "print(y)\n",
        "print(y.value_counts())"
      ],
      "id": "70de5225-1eda-479f-9199-b176f49d7d9c"
    },
    {
      "cell_type": "code",
      "execution_count": 261,
      "metadata": {
        "id": "f0753b54-1efd-4f34-ba92-2547bb0e854a"
      },
      "outputs": [],
      "source": [
        "X_train, X_test, y_train, y_test = train_test_split(X, y, train_size=0.8, shuffle = True, random_state=12)\n",
        "X_train, X_validation, y_train, y_validation = train_test_split(X_train, y_train, train_size=0.75, shuffle = True, random_state=6)"
      ],
      "id": "f0753b54-1efd-4f34-ba92-2547bb0e854a"
    },
    {
      "cell_type": "code",
      "execution_count": 83,
      "metadata": {
        "colab": {
          "base_uri": "https://localhost:8080/",
          "height": 0
        },
        "id": "tRIUmqrCuwLC",
        "outputId": "5699d420-c951-456f-dc06-029ed7f752b4"
      },
      "outputs": [
        {
          "output_type": "stream",
          "name": "stdout",
          "text": [
            "100%|██████████| 5/5 [29:07<00:00, 349.45s/it, best loss: 0.02841509716654511]\n",
            "{'l2_leaf_reg': 2.0, 'learning_rate': 0.11805599862470245}\n"
          ]
        }
      ],
      "source": [
        "def hyperopt_objective(params):\n",
        "    model = CatBoostClassifier(\n",
        "        l2_leaf_reg=int(params['l2_leaf_reg']),\n",
        "        learning_rate=params['learning_rate'],\n",
        "        iterations=300,\n",
        "        eval_metric=metrics.Accuracy(),\n",
        "        random_seed=126,\n",
        "        verbose=False,\n",
        "        loss_function=metrics.MultiClass(),\n",
        "    )\n",
        "    \n",
        "    cv_data = cv(\n",
        "        Pool(X, y),\n",
        "        model.get_params(),\n",
        "        fold_count=4,\n",
        "        shuffle=True,\n",
        "        logging_level='Silent',\n",
        "        stratified=True,\n",
        "    )\n",
        "\n",
        "    best_accuracy = np.max(cv_data['test-Accuracy-mean'])\n",
        "    \n",
        "    return 1 - best_accuracy\n",
        "\n",
        "\n",
        "params_space = {\n",
        "    'l2_leaf_reg': hyperopt.hp.qloguniform('l2_leaf_reg', 0, 2, 1),\n",
        "    'learning_rate': hyperopt.hp.uniform('learning_rate', 1e-3, 5e-1),\n",
        "}\n",
        "\n",
        "trials = hyperopt.Trials()\n",
        "\n",
        "best = hyperopt.fmin(\n",
        "    hyperopt_objective,\n",
        "    space=params_space,\n",
        "    algo=hyperopt.tpe.suggest,\n",
        "    max_evals=5,\n",
        "    trials=trials,\n",
        "    rstate=RandomState(126)\n",
        ")\n",
        "\n",
        "print(best)"
      ],
      "id": "tRIUmqrCuwLC"
    },
    {
      "cell_type": "code",
      "execution_count": 189,
      "metadata": {
        "colab": {
          "base_uri": "https://localhost:8080/",
          "height": 34,
          "referenced_widgets": [
            "288fca760a424d96aeb4978ce2390d43"
          ]
        },
        "id": "L8jyutxLiBqy",
        "outputId": "0c18738b-7d51-4cb4-b482-70d69d255eaa"
      },
      "outputs": [
        {
          "output_type": "display_data",
          "data": {
            "application/vnd.jupyter.widget-view+json": {
              "model_id": "288fca760a424d96aeb4978ce2390d43",
              "version_minor": 0,
              "version_major": 2
            },
            "text/plain": [
              "MetricVisualizer(layout=Layout(align_self='stretch', height='500px'))"
            ]
          },
          "metadata": {}
        },
        {
          "output_type": "stream",
          "name": "stdout",
          "text": [
            "Model validation accuracy: 0.9841\n"
          ]
        }
      ],
      "source": [
        "params = {\n",
        "    'iterations': 300,\n",
        "    #'l2_leaf_reg': int(best['l2_leaf_reg']),\n",
        "    #'learning_rate': best['learning_rate'],\n",
        "    'l2_leaf_reg': 2,\n",
        "    'learning_rate': 0.1,\n",
        "    'custom_loss': [metrics.Accuracy()],\n",
        "    'eval_metric': metrics.Accuracy(),\n",
        "    'random_seed': 42,\n",
        "    'logging_level': 'Silent',\n",
        "    'loss_function': 'MultiClass',\n",
        "}\n",
        "train_pool = Pool(X_train, y_train)\n",
        "validate_pool = Pool(X_validation, y_validation)\n",
        "\n",
        "model = CatBoostClassifier(**params)\n",
        "model.fit(\n",
        "    train_pool,\n",
        "    eval_set=validate_pool,\n",
        "    plot=True,\n",
        "    verbose=False,\n",
        ")\n",
        "\n",
        "print('Model validation accuracy: {:.4}'.format(\n",
        "    accuracy_score(y_test, model.predict(X_test))\n",
        "))"
      ],
      "id": "L8jyutxLiBqy"
    },
    {
      "cell_type": "code",
      "execution_count": 190,
      "metadata": {
        "colab": {
          "base_uri": "https://localhost:8080/"
        },
        "id": "UFuSMQT5Avbl",
        "outputId": "e631400b-3ec1-446f-cb27-2c41b1444c94"
      },
      "outputs": [
        {
          "output_type": "stream",
          "name": "stdout",
          "text": [
            "[[0]\n",
            " [0]\n",
            " [0]\n",
            " [0]\n",
            " [0]\n",
            " [0]\n",
            " [0]\n",
            " [0]\n",
            " [0]\n",
            " [0]]\n",
            "[[0.24071294 0.53284359 0.22644347]\n",
            " [0.00757324 0.98702219 0.00540457]\n",
            " [0.00732041 0.97866224 0.01401735]\n",
            " [0.00256589 0.99401742 0.00341669]\n",
            " [0.00431455 0.9913498  0.00433565]\n",
            " [0.00220276 0.99568177 0.00211547]\n",
            " [0.02467923 0.93388095 0.04143983]\n",
            " [0.00299606 0.99376136 0.00324258]\n",
            " [0.00207943 0.99564855 0.00227203]\n",
            " [0.00565716 0.98812661 0.00621623]]\n",
            "       target\n",
            "20233      -1\n",
            "18782       0\n",
            "26657       0\n",
            "27456       0\n",
            "36872       0\n",
            "25891       0\n",
            "33455       0\n",
            "23349       0\n",
            "4176        0\n",
            "37949       0\n"
          ]
        }
      ],
      "source": [
        "predictions = model.predict(X_test)\n",
        "predictions = predictions.reshape(predictions.shape[0], 1)\n",
        "predictions_probs = model.predict_proba(X_test)\n",
        "print(predictions[90:100])\n",
        "print(predictions_probs[90:100])\n",
        "print(y_test[90:100])"
      ],
      "id": "UFuSMQT5Avbl"
    },
    {
      "cell_type": "code",
      "execution_count": 191,
      "metadata": {
        "id": "LKsiuV0uA4I9",
        "colab": {
          "base_uri": "https://localhost:8080/"
        },
        "outputId": "a7e55799-6bd8-4cd3-c292-1e5e9208fbd1"
      },
      "outputs": [
        {
          "output_type": "stream",
          "name": "stdout",
          "text": [
            "trade_volume-SELL-48-sec: 3.18687421975531\n",
            "weighted_moving_average_price-BUY-6-sec: 3.1145593713896957\n",
            "trade_volume-SELL-36-sec: 2.7607401430844862\n",
            "weighted_moving_average_price-SELL-6-sec: 2.636586787732707\n",
            "trade_volume-BUY-54-sec: 2.6103906111189032\n",
            "weighted_moving_average_price-BUY-30-sec: 2.3597990359852705\n",
            "moving_average_price-SELL-30-sec: 2.3260564853828245\n",
            "weighted_moving_average_price-BUY-42-sec: 2.3012509879627765\n",
            "weighted_moving_average_price-BUY-24-sec: 2.2655410616355867\n",
            "weighted_moving_average_price-SELL-18-sec: 2.166105869538152\n",
            "trade_volume-SELL-18-sec: 2.0948944335842916\n",
            "weighted_moving_average_price-BUY-36-sec: 2.0921884928609042\n",
            "moving_average_price-SELL-6-sec: 2.049479131429462\n",
            "trade_volume-SELL-12-sec: 1.9668875463982844\n",
            "moving_average_price-SELL-24-sec: 1.9011850788707298\n",
            "trade_volume-BUY-36-sec: 1.8940945230158552\n",
            "trade_volume-SELL-60-sec: 1.8363945183858439\n",
            "moving_average_price-BUY-12-sec: 1.8343690597159699\n",
            "weighted_moving_average_price-SELL-48-sec: 1.8245041700851818\n",
            "trade_volume-BUY-48-sec: 1.7801496430369084\n",
            "trade_volume-BUY-12-sec: 1.7574335921057698\n",
            "trade_volume-SELL-6-sec: 1.7428497953286906\n",
            "weighted_moving_average_price-SELL-30-sec: 1.702717691510926\n",
            "stochastic_oscillator-BUY-6-sec: 1.6950256792331169\n",
            "moving_average_price-SELL-54-sec: 1.6432298558547713\n",
            "trade_volume-SELL-30-sec: 1.5916141965495287\n",
            "trade_volume-SELL-42-sec: 1.5632513745121575\n",
            "weighted_moving_average_price-BUY-54-sec: 1.5313132954749584\n",
            "moving_average_price-BUY-48-sec: 1.4968119453765485\n",
            "moving_average_price-BUY-30-sec: 1.4859815264948144\n",
            "moving_average_price-BUY-24-sec: 1.479563405894694\n",
            "trade_volume-BUY-18-sec: 1.3943231690307991\n",
            "weighted_moving_average_price-BUY-48-sec: 1.2924112388126727\n",
            "trade_volume-SELL-54-sec: 1.2908381436161862\n",
            "moving_average_price-SELL-12-sec: 1.2867119399947593\n",
            "weighted_moving_average_price-SELL-54-sec: 1.2643041485255713\n",
            "moving_average_price-BUY-6-sec: 1.2312573051773454\n",
            "moving_average_price-BUY-36-sec: 1.1735268222859951\n",
            "weighted_moving_average_price-SELL-12-sec: 1.146002243727932\n",
            "weighted_moving_average_price-BUY-12-sec: 1.1409994665230212\n",
            "stochastic_oscillator-BUY-54-sec: 1.122945663639481\n",
            "trade_volume-BUY-6-sec: 1.0763749291064388\n",
            "weighted_moving_average_price-SELL-24-sec: 1.0533083848528013\n",
            "moving_average_price-BUY-54-sec: 1.0302589915998934\n",
            "trade_volume-BUY-30-sec: 0.9769887209908069\n",
            "weighted_moving_average_price-SELL-42-sec: 0.9382873333755858\n",
            "trade_volume-BUY-42-sec: 0.9116018368490124\n",
            "weighted_moving_average_price-SELL-36-sec: 0.8989382519399014\n",
            "trade_volume-BUY-60-sec: 0.8942796551305479\n",
            "stochastic_oscillator-SELL-54-sec: 0.8915381784064155\n",
            "moving_average_price-SELL-18-sec: 0.8757437301532821\n",
            "trade_volume-SELL-24-sec: 0.8751969678754369\n",
            "moving_average_price-BUY-18-sec: 0.8486579465557792\n",
            "moving_average_price-BUY-42-sec: 0.8356757993260118\n",
            "moving_average_price-SELL-36-sec: 0.8355660538033938\n",
            "trade_volume-BUY-24-sec: 0.8176435867178856\n",
            "stochastic_oscillator-BUY-12-sec: 0.777152238141376\n",
            "exp_moving_average_price-SELL-24-sec: 0.7582950670186953\n",
            "stochastic_oscillator-SELL-6-sec: 0.7307020486995826\n",
            "weighted_moving_average_price-BUY-18-sec: 0.6908968254853819\n",
            "stochastic_oscillator-SELL-12-sec: 0.6723228894233507\n",
            "stochastic_oscillator-SELL-30-sec: 0.6476310051230464\n",
            "moving_average_price-SELL-42-sec: 0.5930473215455493\n",
            "stochastic_oscillator-SELL-42-sec: 0.5886470386239595\n",
            "moving_average_price-SELL-48-sec: 0.5097835442594237\n",
            "exp_moving_average_price-SELL-12-sec: 0.49300378943948664\n",
            "stochastic_oscillator-BUY-42-sec: 0.4407354026999571\n",
            "stochastic_oscillator-SELL-24-sec: 0.4345884815775157\n",
            "stochastic_oscillator-SELL-60-sec: 0.39289915380345153\n",
            "exp_moving_average_price-BUY-6-sec: 0.3888790670611632\n",
            "stochastic_oscillator-BUY-36-sec: 0.37476822825332123\n",
            "stochastic_oscillator-BUY-18-sec: 0.34799194228591074\n",
            "stochastic_oscillator-SELL-48-sec: 0.33575130814336407\n",
            "exp_moving_average_price-SELL-6-sec: 0.2918911390810843\n",
            "stochastic_oscillator-BUY-30-sec: 0.2844535603680987\n",
            "exp_moving_average_price-BUY-12-sec: 0.220724874004739\n",
            "exp_moving_average_price-SELL-18-sec: 0.21614727476362192\n",
            "exp_moving_average_price-BUY-54-sec: 0.18284291523719193\n",
            "stochastic_oscillator-SELL-18-sec: 0.14842633027949675\n",
            "stochastic_oscillator-BUY-60-sec: 0.13897779485431347\n",
            "stochastic_oscillator-BUY-24-sec: 0.12462142104043278\n",
            "exp_moving_average_price-BUY-48-sec: 0.08876795983043402\n",
            "exp_moving_average_price-BUY-30-sec: 0.0790328968803829\n",
            "stochastic_oscillator-SELL-36-sec: 0.05209677330543647\n",
            "stochastic_oscillator-BUY-48-sec: 0.04929317858889873\n",
            "exp_moving_average_price-BUY-36-sec: 0.04693955271286321\n",
            "exp_moving_average_price-BUY-18-sec: 0.02813206906445447\n",
            "exp_moving_average_price-BUY-24-sec: 0.02072384575802594\n",
            "exp_moving_average_price-BUY-42-sec: 0.020152168343183605\n",
            "exp_moving_average_price-SELL-30-sec: 0.011469587548262472\n",
            "exp_moving_average_price-SELL-48-sec: 0.009405931702076932\n",
            "exp_moving_average_price-SELL-36-sec: 0.009199663787862598\n",
            "exp_moving_average_price-SELL-54-sec: 0.004381673942513378\n",
            "exp_moving_average_price-SELL-42-sec: 0.0\n"
          ]
        }
      ],
      "source": [
        "feature_importances = model.get_feature_importance(train_pool)\n",
        "feature_names = X_train.columns\n",
        "for score, name in sorted(zip(feature_importances, feature_names), reverse=True):\n",
        "    print('{}: {}'.format(name, score))\n"
      ],
      "id": "LKsiuV0uA4I9"
    },
    {
      "cell_type": "code",
      "execution_count": 206,
      "metadata": {
        "id": "nYtYQuKh3n8N"
      },
      "outputs": [],
      "source": [
        "results = []\n",
        "def f(prob_threshold, diff_threshold, null_threshold):\n",
        "    p = np.array((list(map(lambda row:\n",
        "                          1\n",
        "                          if row[2] > prob_threshold\n",
        "                              # and row[2] == max(row)\n",
        "                              and row[2] > row[0]\n",
        "                              and row[1] < null_threshold\n",
        "                              and abs(row[2] - row[0]) > diff_threshold\n",
        "                              and abs(row[2] - row[1]) > diff_threshold\n",
        "                          else\n",
        "                          -1\n",
        "                          if row[0] > prob_threshold\n",
        "                              # and row[0] == max(row)\n",
        "                              and row[0] > row[2]\n",
        "                              and row[1] < null_threshold\n",
        "                              and abs(row[0] - row[2]) > diff_threshold\n",
        "                              and abs(row[0] - row[1]) > diff_threshold\n",
        "                          else 0,\n",
        "                          predictions_probs))))\n",
        "    result = {\n",
        "        'correct_predictions': 0,\n",
        "        'false_positive': 0,\n",
        "        'false_negative': 0,\n",
        "        'wrong_side': 0,\n",
        "    }\n",
        "    for i in range(len(p)):\n",
        "      t = int(y_test['target'][i:i+1])\n",
        "      if p[i] == t != 0:\n",
        "        result['correct_predictions'] += 1\n",
        "      elif p[i] != t and t != 0 and p[i] != 0:\n",
        "        result['wrong_side'] += 1\n",
        "      elif p[i] != 0 and t == 0:\n",
        "        result['false_positive'] += 1\n",
        "      elif p[i] == 0 and t != 0:\n",
        "        result['false_negative'] += 1\n",
        "\n",
        "    result['correct_predictions'] /= len(y_test)\n",
        "    result['false_positive'] /= len(y_test)\n",
        "    result['false_negative'] /= len(y_test)\n",
        "    result['wrong_side'] /= len(y_test)\n",
        "    result['prob_threshold'] = prob_threshold\n",
        "    result['diff_threshold'] = diff_threshold\n",
        "    result['null_threshold'] = null_threshold\n",
        "    results.append(result)\n",
        "    return p\n",
        "\n",
        "for null_threshold in np.arange(0.5, 0.9, 0.1):\n",
        "  for prob_threshold in np.arange(0.1, 0.7, 0.1):\n",
        "      for diff_threshold in np.arange(0.00, 0.20, 0.05):\n",
        "        f(prob_threshold, diff_threshold, null_threshold)"
      ],
      "id": "nYtYQuKh3n8N"
    },
    {
      "cell_type": "code",
      "source": [
        "results = list(sorted(results, key=lambda trade: trade['wrong_side'] - trade['correct_predictions']))"
      ],
      "metadata": {
        "id": "uibgvIlGhC_s"
      },
      "id": "uibgvIlGhC_s",
      "execution_count": 256,
      "outputs": []
    },
    {
      "cell_type": "code",
      "source": [
        "print(results[0])"
      ],
      "metadata": {
        "colab": {
          "base_uri": "https://localhost:8080/"
        },
        "id": "K_Jwjz6gYLEx",
        "outputId": "18528fe3-5f7f-4a22-bc46-38eb566fb99e"
      },
      "id": "K_Jwjz6gYLEx",
      "execution_count": 257,
      "outputs": [
        {
          "output_type": "stream",
          "name": "stdout",
          "text": [
            "{'correct_predictions': 0.0018064516129032257, 'false_positive': 0.006580645161290323, 'false_negative': 0.011741935483870968, 'wrong_side': 0.0025806451612903226, 'prob_threshold': 0.1, 'diff_threshold': 0.0, 'null_threshold': 0.8000000000000003}\n"
          ]
        }
      ]
    },
    {
      "cell_type": "code",
      "source": [
        "prob_threshold = results[0]['prob_threshold']\n",
        "diff_threshold = results[0]['diff_threshold']\n",
        "null_threshold = results[0]['null_threshold']\n",
        "print(f\"prob_threshold {prob_threshold}, diff_threshold {diff_threshold}, null_threshold {null_threshold}\")\n",
        "p = f(prob_threshold, diff_threshold, null_threshold)\n",
        "print('accuracy', accuracy_score(p, y_test))\n",
        "result = {\n",
        "    'correct_predictions': 0,\n",
        "    'false_positive': 0,\n",
        "    'false_negative': 0,\n",
        "    'wrong_side': 0,\n",
        "}\n",
        "for i in range(len(p)):\n",
        "  t = int(y_test['target'][i:i+1])\n",
        "  if p[i] == t != 0:\n",
        "    result['correct_predictions'] += 1\n",
        "  elif p[i] != t and t != 0 and p[i] != 0:\n",
        "    result['wrong_side'] += 1\n",
        "  elif p[i] != 0 and t == 0:\n",
        "    result['false_positive'] += 1\n",
        "  elif p[i] == 0 and t != 0:\n",
        "    result['false_negative'] += 1\n",
        "\n",
        "result['correct_predictions_pc'] = result['correct_predictions'] / len(y_test)\n",
        "result['false_positive_pc'] = result['false_positive'] / len(y_test)\n",
        "result['false_negative_pc'] = result['false_negative'] / len(y_test)\n",
        "result['wrong_side_pc'] = result['wrong_side'] / len(y_test)\n",
        "print(result)"
      ],
      "metadata": {
        "colab": {
          "base_uri": "https://localhost:8080/"
        },
        "id": "YVf5Mi0OZMzL",
        "outputId": "f84454fe-30d4-45c4-964c-c45afb98f6f3"
      },
      "id": "YVf5Mi0OZMzL",
      "execution_count": 258,
      "outputs": [
        {
          "output_type": "stream",
          "name": "stdout",
          "text": [
            "prob_threshold 0.1, diff_threshold 0.0, null_threshold 0.8000000000000003\n",
            "accuracy 0.9790967741935483\n",
            "{'correct_predictions': 14, 'false_positive': 51, 'false_negative': 91, 'wrong_side': 20, 'correct_predictions_pc': 0.0018064516129032257, 'false_positive_pc': 0.006580645161290323, 'false_negative_pc': 0.011741935483870968, 'wrong_side_pc': 0.0025806451612903226}\n"
          ]
        }
      ]
    },
    {
      "cell_type": "code",
      "source": [
        "profit = (\n",
        "      len(y) * result['correct_predictions_pc'] * (punch - 2 * commision)\n",
        "      -\n",
        "      len(y) * result['false_positive_pc'] * 2 * commision\n",
        "      -\n",
        "      len(y) * result['wrong_side_pc'] * (punch + 2 * commision)\n",
        ")\n",
        "\n",
        "print(\n",
        "    'profit from 3000$ fot 2 months',\n",
        "    profit * 3000,\n",
        "    '$',\n",
        "    profit * 100,\n",
        "    '%'\n",
        ")"
      ],
      "metadata": {
        "colab": {
          "base_uri": "https://localhost:8080/"
        },
        "id": "gMozO7JrZ3de",
        "outputId": "abb7f995-c122-4572-92ba-6699bb77076c"
      },
      "id": "gMozO7JrZ3de",
      "execution_count": 259,
      "outputs": [
        {
          "output_type": "stream",
          "name": "stdout",
          "text": [
            "profit from 3000$ fot 2 months -1544.8803870967743 $ -51.496012903225804 %\n"
          ]
        }
      ]
    },
    {
      "cell_type": "code",
      "source": [
        "correct_accuracy = result['correct_predictions'] / len(y_test[y_test['target'] != 0])\n",
        "print(\n",
        "f\"Correct accuracy = correct prediction / total positive num = {correct_accuracy}\"\n",
        ")\n",
        "FPR = result['false_positive'] / len(y_test[y_test['target'] == 0])\n",
        "print(\n",
        "f\"FPR = false positive / total negative num = {FPR}\"\n",
        ")\n",
        "FNR = result['false_negative'] / len(y_test[y_test['target'] != 0])\n",
        "print(\n",
        "f\"FNR = false negative / total positive num = {FNR}\"\n",
        ")\n",
        "cases_pc = (result['correct_predictions'] + result['false_positive'] + result['wrong_side']) / len(y_test[y_test['target'] != 0]) * 100\n",
        "probability_pc = result['correct_predictions'] / (result['correct_predictions'] + result['false_positive'] + result['wrong_side']) * 100\n",
        "print(\n",
        "f\"Model in {cases_pc}% of cases with probability {probability_pc}% predict a correct market jump\"\n",
        ")"
      ],
      "metadata": {
        "colab": {
          "base_uri": "https://localhost:8080/"
        },
        "id": "_Gh3CUGM6K-c",
        "outputId": "f297191e-14cc-40d0-cdbe-9a1a21847c22"
      },
      "id": "_Gh3CUGM6K-c",
      "execution_count": 240,
      "outputs": [
        {
          "output_type": "stream",
          "name": "stdout",
          "text": [
            "Correct accuracy = correct prediction / total positive num = 0.112\n",
            "FPR = false positive / total negative num = 0.008655737704918032\n",
            "FNR = false negative / total positive num = 0.704\n",
            "Model in 82.39999999999999% of cases with probability 13.592233009708737% predict a correct market jump\n"
          ]
        }
      ]
    },
    {
      "cell_type": "code",
      "source": [
        "for i in range(len(predictions_probs)):\n",
        "  if int(y_test['target'][i:i+1]) != 0:\n",
        "    print(p[i], predictions_probs[i], int(y_test['target'][i:i+1]))"
      ],
      "metadata": {
        "colab": {
          "base_uri": "https://localhost:8080/"
        },
        "id": "lhzxNa9Ezvm6",
        "outputId": "765a2a74-d5ad-4141-b1d3-13fc6a4fb64e"
      },
      "id": "lhzxNa9Ezvm6",
      "execution_count": 241,
      "outputs": [
        {
          "output_type": "stream",
          "name": "stdout",
          "text": [
            "0 [0.00216579 0.99532284 0.00251136] -1\n",
            "0 [0.00289282 0.99305316 0.00405403] -1\n",
            "-1 [0.52756413 0.26394334 0.20849253] 1\n",
            "-1 [0.24071294 0.53284359 0.22644347] -1\n",
            "0 [0.00534564 0.98955419 0.00510017] 1\n",
            "-1 [0.13969526 0.79633907 0.06396568] 1\n",
            "0 [0.01012872 0.9798413  0.01002998] 1\n",
            "0 [0.01199594 0.97688973 0.01111434] 1\n",
            "-1 [0.44669049 0.28253079 0.27077872] 1\n",
            "0 [0.02510415 0.95534044 0.01955541] 1\n",
            "0 [0.02387627 0.96043375 0.01568998] 1\n",
            "-1 [0.68240641 0.07274541 0.24484818] 1\n",
            "0 [0.00936541 0.9818004  0.00883419] 1\n",
            "0 [0.00429144 0.99012914 0.00557942] 1\n",
            "0 [0.03514672 0.92804584 0.03680744] 1\n",
            "0 [0.00259335 0.99505012 0.00235653] 1\n",
            "0 [0.00270721 0.99509271 0.00220008] -1\n",
            "0 [0.03397472 0.94217981 0.02384547] -1\n",
            "0 [0.00612724 0.97805416 0.0158186 ] 1\n",
            "0 [0.03335831 0.94909247 0.01754921] -1\n",
            "0 [0.00157638 0.99655501 0.00186861] 1\n",
            "0 [0.00992514 0.98209515 0.00797971] -1\n",
            "0 [0.01486039 0.96072358 0.02441603] 1\n",
            "0 [0.01047783 0.98075574 0.00876643] -1\n",
            "0 [0.00887905 0.97905895 0.012062  ] -1\n",
            "0 [0.03915767 0.93692834 0.02391399] 1\n",
            "0 [0.00453072 0.98841155 0.00705773] 1\n",
            "0 [0.00681405 0.98701261 0.00617334] -1\n",
            "-1 [0.15314572 0.76189167 0.08496261] -1\n",
            "0 [0.01623064 0.96016411 0.02360526] -1\n",
            "0 [0.00899352 0.97090118 0.0201053 ] -1\n",
            "1 [0.08348513 0.80536167 0.1111532 ] -1\n",
            "0 [0.00500109 0.98972676 0.00527215] 1\n",
            "0 [0.0140491  0.97368562 0.01226528] 1\n",
            "0 [0.01922594 0.97342963 0.00734442] 1\n",
            "1 [0.17118465 0.63196474 0.1968506 ] -1\n",
            "0 [0.00274736 0.99523319 0.00201945] 1\n",
            "1 [0.17465265 0.62117532 0.20417203] -1\n",
            "0 [0.00671007 0.98114652 0.01214341] -1\n",
            "-1 [0.12921912 0.83943966 0.03134121] 1\n",
            "0 [0.00602208 0.98321994 0.01075798] 1\n",
            "0 [0.0032715  0.99236346 0.00436504] -1\n",
            "1 [0.09905134 0.72758501 0.17336366] 1\n",
            "0 [0.00288669 0.99488601 0.0022273 ] 1\n",
            "0 [0.02905948 0.93931829 0.03162223] 1\n",
            "0 [0.00954322 0.98400414 0.00645264] 1\n",
            "0 [0.01502623 0.9738323  0.01114148] -1\n",
            "0 [0.09989962 0.8667816  0.03331877] 1\n",
            "0 [0.00157629 0.99654262 0.00188109] -1\n",
            "1 [0.08812963 0.79296101 0.11890936] -1\n",
            "-1 [0.1135146  0.77502491 0.11146049] 1\n",
            "0 [0.09563794 0.82899718 0.07536488] 1\n",
            "0 [0.01616336 0.96394224 0.0198944 ] -1\n",
            "-1 [0.26811728 0.61573381 0.11614891] -1\n",
            "0 [0.06825435 0.86691413 0.06483152] -1\n",
            "0 [0.02082893 0.96580683 0.01336424] 1\n",
            "-1 [0.3562544  0.40281921 0.24092639] 1\n",
            "-1 [0.58361704 0.31473079 0.10165218] -1\n",
            "0 [0.01897478 0.95723165 0.02379357] -1\n",
            "0 [0.05680632 0.90854944 0.03464424] 1\n",
            "0 [0.00397542 0.99116909 0.00485549] 1\n",
            "0 [0.00262643 0.99462249 0.00275108] 1\n",
            "-1 [0.43095212 0.37032204 0.19872584] -1\n",
            "-1 [0.6636643  0.11551791 0.22081779] -1\n",
            "1 [0.26151751 0.38547629 0.3530062 ] 1\n",
            "-1 [0.21664582 0.5968271  0.18652707] -1\n",
            "0 [0.0255586  0.94512082 0.02932058] 1\n",
            "0 [0.03403751 0.93542622 0.03053627] -1\n",
            "0 [0.00540416 0.98580919 0.00878665] -1\n",
            "0 [0.05867527 0.9019241  0.03940063] 1\n",
            "0 [0.07710949 0.87433149 0.04855902] 1\n",
            "0 [0.00352579 0.99395858 0.00251563] 1\n",
            "0 [0.05213361 0.92466874 0.02319765] -1\n",
            "0 [0.01064267 0.98112915 0.00822818] 1\n",
            "0 [0.03351788 0.94747311 0.01900902] 1\n",
            "1 [0.21329715 0.29684659 0.48985626] -1\n",
            "0 [0.0129738  0.96724037 0.01978583] -1\n",
            "-1 [0.57730304 0.15133547 0.27136149] -1\n",
            "0 [0.05355728 0.86198171 0.08446102] -1\n",
            "-1 [0.37611502 0.27946467 0.34442031] -1\n",
            "0 [0.0024967  0.99420841 0.00329489] 1\n",
            "0 [0.03386756 0.91290681 0.05322563] 1\n",
            "0 [0.00470773 0.98662753 0.00866475] -1\n",
            "0 [0.08937996 0.87051952 0.04010052] 1\n",
            "1 [0.1215498  0.55634017 0.32211003] -1\n",
            "0 [0.0045485  0.98790633 0.00754516] 1\n",
            "-1 [0.32488296 0.40586461 0.26925243] -1\n",
            "0 [0.02095248 0.95803833 0.02100919] 1\n",
            "-1 [0.27795567 0.55196603 0.17007831] 1\n",
            "-1 [0.28757205 0.54012787 0.17230009] 1\n",
            "0 [0.00842835 0.98587337 0.00569828] -1\n",
            "-1 [0.18777719 0.6757508  0.13647201] 1\n",
            "0 [0.00411198 0.99092581 0.00496221] 1\n",
            "1 [0.2005336  0.53389885 0.26556755] -1\n",
            "-1 [0.50675064 0.19571808 0.29753128] 1\n",
            "0 [0.00983275 0.98036035 0.0098069 ] 1\n",
            "0 [0.00412865 0.99126576 0.00460559] -1\n",
            "0 [0.0171438  0.96812402 0.01473218] 1\n",
            "0 [0.00225629 0.995386   0.00235771] -1\n",
            "-1 [0.50855225 0.31721123 0.17423652] -1\n",
            "0 [0.00757522 0.98760128 0.0048235 ] -1\n",
            "0 [0.017146   0.96862739 0.01422661] 1\n",
            "0 [0.00399129 0.99184541 0.0041633 ] -1\n",
            "1 [0.24909361 0.41647801 0.33442839] 1\n",
            "1 [0.17560127 0.23162027 0.59277846] -1\n",
            "-1 [0.24237295 0.66945316 0.0881739 ] 1\n",
            "0 [0.00489653 0.98599632 0.00910716] -1\n",
            "0 [0.01403799 0.97167526 0.01428675] 1\n",
            "0 [0.01256206 0.97507218 0.01236577] -1\n",
            "-1 [0.10107002 0.84570301 0.05322697] 1\n",
            "0 [0.05727394 0.89031838 0.05240768] -1\n",
            "0 [0.0036888  0.99287514 0.00343606] 1\n",
            "0 [0.00283468 0.99348911 0.00367621] 1\n",
            "0 [0.04158809 0.93198072 0.02643119] -1\n",
            "0 [0.00631139 0.98777698 0.00591163] -1\n",
            "0 [0.04618455 0.91742484 0.03639061] -1\n",
            "0 [0.0026473  0.99508864 0.00226406] 1\n",
            "1 [0.12410501 0.70553859 0.1703564 ] -1\n",
            "0 [0.01677372 0.97518535 0.00804092] -1\n",
            "0 [0.07526812 0.88173333 0.04299856] -1\n",
            "0 [0.02655036 0.93223661 0.04121302] 1\n",
            "0 [0.01499584 0.9751414  0.00986277] -1\n",
            "0 [0.00206627 0.99532403 0.00260971] -1\n",
            "0 [0.0167566  0.93938642 0.04385698] -1\n",
            "-1 [0.11380841 0.79997734 0.08621425] 1\n"
          ]
        }
      ]
    },
    {
      "cell_type": "code",
      "source": [
        ""
      ],
      "metadata": {
        "id": "onet1RJrhOj6"
      },
      "id": "onet1RJrhOj6",
      "execution_count": 241,
      "outputs": []
    }
  ],
  "metadata": {
    "colab": {
      "collapsed_sections": [],
      "name": "trades-size-catboost.ipynb",
      "provenance": []
    },
    "kernelspec": {
      "display_name": "Python 3 (ipykernel)",
      "language": "python",
      "name": "python3"
    },
    "language_info": {
      "codemirror_mode": {
        "name": "ipython",
        "version": 3
      },
      "file_extension": ".py",
      "mimetype": "text/x-python",
      "name": "python",
      "nbconvert_exporter": "python",
      "pygments_lexer": "ipython3",
      "version": "3.8.10"
    },
    "widgets": {
      "application/vnd.jupyter.widget-state+json": {
        "288fca760a424d96aeb4978ce2390d43": {
          "model_module": "catboost-widget",
          "model_name": "CatboostWidgetModel",
          "model_module_version": "^1.0.0",
          "state": {
            "_view_name": "CatboostWidgetView",
            "_dom_classes": [],
            "_model_name": "CatboostWidgetModel",
            "data": {
              "catboost_info": {
                "content": {
                  "data": {
                    "meta": {
                      "name": "experiment",
                      "parameters": "",
                      "test_metrics": [
                        {
                          "best_value": "Max",
                          "name": "Accuracy"
                        },
                        {
                          "best_value": "Min",
                          "name": "MultiClass"
                        }
                      ],
                      "learn_sets": [
                        "learn"
                      ],
                      "launch_mode": "Train",
                      "learn_metrics": [
                        {
                          "best_value": "Max",
                          "name": "Accuracy"
                        },
                        {
                          "best_value": "Min",
                          "name": "MultiClass"
                        }
                      ],
                      "iteration_count": 300,
                      "test_sets": [
                        "test"
                      ]
                    },
                    "iterations": [
                      {
                        "test": [
                          0.9812903226,
                          0.9200000184
                        ],
                        "passed_time": 0.1435025651,
                        "iteration": 0,
                        "remaining_time": 42.90726696,
                        "learn": [
                          0.9824923646,
                          0.9195138454
                        ]
                      },
                      {
                        "test": [
                          0.9815483871,
                          0.7869672726
                        ],
                        "passed_time": 0.2330052326,
                        "iteration": 1,
                        "remaining_time": 34.71777965,
                        "learn": [
                          0.9824923646,
                          0.7862466848
                        ]
                      },
                      {
                        "test": [
                          0.9815483871,
                          0.6832434275
                        ],
                        "passed_time": 0.3232581849,
                        "iteration": 2,
                        "remaining_time": 32.00256031,
                        "learn": [
                          0.9824923646,
                          0.6822922709
                        ]
                      },
                      {
                        "test": [
                          0.9815483871,
                          0.5994443415
                        ],
                        "passed_time": 0.4030339351,
                        "iteration": 3,
                        "remaining_time": 29.8245112,
                        "learn": [
                          0.9824923646,
                          0.5982387145
                        ]
                      },
                      {
                        "test": [
                          0.9815483871,
                          0.5304282669
                        ],
                        "passed_time": 0.4989376809,
                        "iteration": 4,
                        "remaining_time": 29.43732317,
                        "learn": [
                          0.9824923646,
                          0.5290551029
                        ]
                      },
                      {
                        "test": [
                          0.9815483871,
                          0.4726414723
                        ],
                        "passed_time": 0.5780800181,
                        "iteration": 5,
                        "remaining_time": 28.32592089,
                        "learn": [
                          0.9824923646,
                          0.4712029226
                        ]
                      },
                      {
                        "test": [
                          0.9815483871,
                          0.4239381103
                        ],
                        "passed_time": 0.669078152,
                        "iteration": 6,
                        "remaining_time": 28.00569979,
                        "learn": [
                          0.9824923646,
                          0.4223060324
                        ]
                      },
                      {
                        "test": [
                          0.9815483871,
                          0.3821695376
                        ],
                        "passed_time": 0.7510956698,
                        "iteration": 7,
                        "remaining_time": 27.41499195,
                        "learn": [
                          0.9824923646,
                          0.3803473967
                        ]
                      },
                      {
                        "test": [
                          0.9815483871,
                          0.3463612813
                        ],
                        "passed_time": 0.8436063752,
                        "iteration": 8,
                        "remaining_time": 27.27660613,
                        "learn": [
                          0.9824923646,
                          0.3443393613
                        ]
                      },
                      {
                        "test": [
                          0.9815483871,
                          0.3150633594
                        ],
                        "passed_time": 0.9246159282,
                        "iteration": 9,
                        "remaining_time": 26.81386192,
                        "learn": [
                          0.9824923646,
                          0.3130010539
                        ]
                      },
                      {
                        "test": [
                          0.9815483871,
                          0.2878993176
                        ],
                        "passed_time": 1.001590793,
                        "iteration": 10,
                        "remaining_time": 26.31452174,
                        "learn": [
                          0.9824923646,
                          0.2857024118
                        ]
                      },
                      {
                        "test": [
                          0.9815483871,
                          0.2645203062
                        ],
                        "passed_time": 1.083058444,
                        "iteration": 11,
                        "remaining_time": 25.99340266,
                        "learn": [
                          0.9824923646,
                          0.2622152215
                        ]
                      },
                      {
                        "test": [
                          0.9815483871,
                          0.2436768885
                        ],
                        "passed_time": 1.16460191,
                        "iteration": 12,
                        "remaining_time": 25.71082678,
                        "learn": [
                          0.9824923646,
                          0.2412749882
                        ]
                      },
                      {
                        "test": [
                          0.9815483871,
                          0.225252803
                        ],
                        "passed_time": 1.245788564,
                        "iteration": 13,
                        "remaining_time": 25.44968067,
                        "learn": [
                          0.9824923646,
                          0.2228120319
                        ]
                      },
                      {
                        "test": [
                          0.9815483871,
                          0.209191227
                        ],
                        "passed_time": 1.327532971,
                        "iteration": 14,
                        "remaining_time": 25.22312644,
                        "learn": [
                          0.9824923646,
                          0.2066400696
                        ]
                      },
                      {
                        "test": [
                          0.9815483871,
                          0.1947721213
                        ],
                        "passed_time": 1.406268381,
                        "iteration": 15,
                        "remaining_time": 24.96126377,
                        "learn": [
                          0.9824923646,
                          0.1920214708
                        ]
                      },
                      {
                        "test": [
                          0.9815483871,
                          0.1820052985
                        ],
                        "passed_time": 1.491795234,
                        "iteration": 16,
                        "remaining_time": 24.83400302,
                        "learn": [
                          0.9824923646,
                          0.1790631337
                        ]
                      },
                      {
                        "test": [
                          0.9815483871,
                          0.170955151
                        ],
                        "passed_time": 1.574950217,
                        "iteration": 17,
                        "remaining_time": 24.67422006,
                        "learn": [
                          0.9824923646,
                          0.1678619439
                        ]
                      },
                      {
                        "test": [
                          0.9815483871,
                          0.1609013587
                        ],
                        "passed_time": 1.652297107,
                        "iteration": 18,
                        "remaining_time": 24.43660459,
                        "learn": [
                          0.9824923646,
                          0.157611204
                        ]
                      },
                      {
                        "test": [
                          0.9815483871,
                          0.1520565491
                        ],
                        "passed_time": 1.734271408,
                        "iteration": 19,
                        "remaining_time": 24.27979971,
                        "learn": [
                          0.9824923646,
                          0.1485157122
                        ]
                      },
                      {
                        "test": [
                          0.9815483871,
                          0.1440021241
                        ],
                        "passed_time": 1.814908075,
                        "iteration": 20,
                        "remaining_time": 24.11235013,
                        "learn": [
                          0.9824923646,
                          0.1402639229
                        ]
                      },
                      {
                        "test": [
                          0.9815483871,
                          0.136873759
                        ],
                        "passed_time": 1.9028437,
                        "iteration": 21,
                        "remaining_time": 24.04502494,
                        "learn": [
                          0.9824923646,
                          0.1328279661
                        ]
                      },
                      {
                        "test": [
                          0.9815483871,
                          0.1306615463
                        ],
                        "passed_time": 1.999667125,
                        "iteration": 22,
                        "remaining_time": 24.08294755,
                        "learn": [
                          0.9824923646,
                          0.1262704211
                        ]
                      },
                      {
                        "test": [
                          0.9815483871,
                          0.1251776826
                        ],
                        "passed_time": 2.07942124,
                        "iteration": 23,
                        "remaining_time": 23.91334427,
                        "learn": [
                          0.9824923646,
                          0.1204866022
                        ]
                      },
                      {
                        "test": [
                          0.9815483871,
                          0.120091562
                        ],
                        "passed_time": 2.15721846,
                        "iteration": 24,
                        "remaining_time": 23.72940306,
                        "learn": [
                          0.9824923646,
                          0.1151764082
                        ]
                      },
                      {
                        "test": [
                          0.9815483871,
                          0.1156906863
                        ],
                        "passed_time": 2.235269361,
                        "iteration": 25,
                        "remaining_time": 23.55630019,
                        "learn": [
                          0.9824923646,
                          0.1106471879
                        ]
                      },
                      {
                        "test": [
                          0.9816774194,
                          0.1117343082
                        ],
                        "passed_time": 2.309960247,
                        "iteration": 26,
                        "remaining_time": 23.35626472,
                        "learn": [
                          0.9824923646,
                          0.1064932113
                        ]
                      },
                      {
                        "test": [
                          0.9816774194,
                          0.1083057223
                        ],
                        "passed_time": 2.384644126,
                        "iteration": 27,
                        "remaining_time": 23.16511437,
                        "learn": [
                          0.9825353809,
                          0.1027830356
                        ]
                      },
                      {
                        "test": [
                          0.9816774194,
                          0.105195262
                        ],
                        "passed_time": 2.461393105,
                        "iteration": 28,
                        "remaining_time": 23.00129418,
                        "learn": [
                          0.9825353809,
                          0.09939177751
                        ]
                      },
                      {
                        "test": [
                          0.9816774194,
                          0.1025594174
                        ],
                        "passed_time": 2.548843832,
                        "iteration": 29,
                        "remaining_time": 22.93959448,
                        "learn": [
                          0.9826644298,
                          0.09662273911
                        ]
                      },
                      {
                        "test": [
                          0.9816774194,
                          0.1002806659
                        ],
                        "passed_time": 2.621447877,
                        "iteration": 30,
                        "remaining_time": 22.74740255,
                        "learn": [
                          0.9826644298,
                          0.09418226636
                        ]
                      },
                      {
                        "test": [
                          0.9816774194,
                          0.0980269939
                        ],
                        "passed_time": 2.696145097,
                        "iteration": 31,
                        "remaining_time": 22.58021519,
                        "learn": [
                          0.9827504624,
                          0.09171301481
                        ]
                      },
                      {
                        "test": [
                          0.9816774194,
                          0.09615322568
                        ],
                        "passed_time": 2.772708995,
                        "iteration": 32,
                        "remaining_time": 22.43373642,
                        "learn": [
                          0.9829655439,
                          0.08954125111
                        ]
                      },
                      {
                        "test": [
                          0.9818064516,
                          0.09441295475
                        ],
                        "passed_time": 2.859019045,
                        "iteration": 33,
                        "remaining_time": 22.36761959,
                        "learn": [
                          0.9829655439,
                          0.0875272129
                        ]
                      },
                      {
                        "test": [
                          0.9816774194,
                          0.0930769451
                        ],
                        "passed_time": 2.930876396,
                        "iteration": 34,
                        "remaining_time": 22.19092129,
                        "learn": [
                          0.9830515765,
                          0.08595654122
                        ]
                      },
                      {
                        "test": [
                          0.9818064516,
                          0.09171523989
                        ],
                        "passed_time": 3.016331667,
                        "iteration": 35,
                        "remaining_time": 22.11976556,
                        "learn": [
                          0.9830945929,
                          0.0843399984
                        ]
                      },
                      {
                        "test": [
                          0.9819354839,
                          0.09052714791
                        ],
                        "passed_time": 3.098348787,
                        "iteration": 36,
                        "remaining_time": 22.02339813,
                        "learn": [
                          0.9830515765,
                          0.08293027856
                        ]
                      },
                      {
                        "test": [
                          0.9819354839,
                          0.08950167875
                        ],
                        "passed_time": 3.174985658,
                        "iteration": 37,
                        "remaining_time": 21.89069059,
                        "learn": [
                          0.9830945929,
                          0.08170465218
                        ]
                      },
                      {
                        "test": [
                          0.9819354839,
                          0.08873144961
                        ],
                        "passed_time": 3.252436227,
                        "iteration": 38,
                        "remaining_time": 21.76630398,
                        "learn": [
                          0.9831376092,
                          0.08073918726
                        ]
                      },
                      {
                        "test": [
                          0.9818064516,
                          0.08799260102
                        ],
                        "passed_time": 3.333400295,
                        "iteration": 39,
                        "remaining_time": 21.66710191,
                        "learn": [
                          0.9832666581,
                          0.07959343025
                        ]
                      },
                      {
                        "test": [
                          0.9819354839,
                          0.08723575709
                        ],
                        "passed_time": 3.409084022,
                        "iteration": 40,
                        "remaining_time": 21.53543321,
                        "learn": [
                          0.9832666581,
                          0.07868746115
                        ]
                      },
                      {
                        "test": [
                          0.9819354839,
                          0.08660195762
                        ],
                        "passed_time": 3.483865021,
                        "iteration": 41,
                        "remaining_time": 21.40088513,
                        "learn": [
                          0.9834817396,
                          0.07780659949
                        ]
                      },
                      {
                        "test": [
                          0.9820645161,
                          0.08599387939
                        ],
                        "passed_time": 3.570413851,
                        "iteration": 42,
                        "remaining_time": 21.33945023,
                        "learn": [
                          0.9835247559,
                          0.07697559176
                        ]
                      },
                      {
                        "test": [
                          0.9820645161,
                          0.08540279734
                        ],
                        "passed_time": 3.650069284,
                        "iteration": 43,
                        "remaining_time": 21.23676674,
                        "learn": [
                          0.9835677722,
                          0.07624014188
                        ]
                      },
                      {
                        "test": [
                          0.9820645161,
                          0.0849011538
                        ],
                        "passed_time": 3.726081549,
                        "iteration": 44,
                        "remaining_time": 21.11446211,
                        "learn": [
                          0.9836107885,
                          0.07566841765
                        ]
                      },
                      {
                        "test": [
                          0.9820645161,
                          0.08466731889
                        ],
                        "passed_time": 3.799584226,
                        "iteration": 45,
                        "remaining_time": 20.9803129,
                        "learn": [
                          0.9836968211,
                          0.07517658294
                        ]
                      },
                      {
                        "test": [
                          0.9820645161,
                          0.0842991231
                        ],
                        "passed_time": 3.889392512,
                        "iteration": 46,
                        "remaining_time": 20.93651714,
                        "learn": [
                          0.9836538048,
                          0.07440279526
                        ]
                      },
                      {
                        "test": [
                          0.9820645161,
                          0.08392531596
                        ],
                        "passed_time": 3.963541996,
                        "iteration": 47,
                        "remaining_time": 20.80859548,
                        "learn": [
                          0.9836968211,
                          0.07389963038
                        ]
                      },
                      {
                        "test": [
                          0.9820645161,
                          0.08362004536
                        ],
                        "passed_time": 4.040712508,
                        "iteration": 48,
                        "remaining_time": 20.69834366,
                        "learn": [
                          0.9837828537,
                          0.0734280207
                        ]
                      },
                      {
                        "test": [
                          0.9821935484,
                          0.08354684157
                        ],
                        "passed_time": 4.115106698,
                        "iteration": 49,
                        "remaining_time": 20.57553349,
                        "learn": [
                          0.9837398374,
                          0.07307940935
                        ]
                      },
                      {
                        "test": [
                          0.9821935484,
                          0.08337869211
                        ],
                        "passed_time": 4.193816914,
                        "iteration": 50,
                        "remaining_time": 20.47569435,
                        "learn": [
                          0.98382587,
                          0.07265731428
                        ]
                      },
                      {
                        "test": [
                          0.9821935484,
                          0.08315285255
                        ],
                        "passed_time": 4.266628331,
                        "iteration": 51,
                        "remaining_time": 20.34853512,
                        "learn": [
                          0.98382587,
                          0.07234742728
                        ]
                      },
                      {
                        "test": [
                          0.9821935484,
                          0.08298040113
                        ],
                        "passed_time": 4.340844184,
                        "iteration": 52,
                        "remaining_time": 20.22997195,
                        "learn": [
                          0.9838688863,
                          0.07210571298
                        ]
                      },
                      {
                        "test": [
                          0.9821935484,
                          0.08284764244
                        ],
                        "passed_time": 4.418187197,
                        "iteration": 53,
                        "remaining_time": 20.12729723,
                        "learn": [
                          0.9838688863,
                          0.07173608795
                        ]
                      },
                      {
                        "test": [
                          0.9821935484,
                          0.08275052071
                        ],
                        "passed_time": 4.493262284,
                        "iteration": 54,
                        "remaining_time": 20.01544108,
                        "learn": [
                          0.9838688863,
                          0.07148938186
                        ]
                      },
                      {
                        "test": [
                          0.9823225806,
                          0.08255862366
                        ],
                        "passed_time": 4.583138748,
                        "iteration": 55,
                        "remaining_time": 19.96939026,
                        "learn": [
                          0.9838688863,
                          0.0711036637
                        ]
                      },
                      {
                        "test": [
                          0.9823225806,
                          0.08240235101
                        ],
                        "passed_time": 4.658685909,
                        "iteration": 56,
                        "remaining_time": 19.86071361,
                        "learn": [
                          0.9838688863,
                          0.07073675833
                        ]
                      },
                      {
                        "test": [
                          0.9824516129,
                          0.08223659217
                        ],
                        "passed_time": 4.736212906,
                        "iteration": 57,
                        "remaining_time": 19.76144005,
                        "learn": [
                          0.9838688863,
                          0.07044176752
                        ]
                      },
                      {
                        "test": [
                          0.9824516129,
                          0.08216874411
                        ],
                        "passed_time": 4.80897345,
                        "iteration": 58,
                        "remaining_time": 19.64343392,
                        "learn": [
                          0.98382587,
                          0.07023333735
                        ]
                      },
                      {
                        "test": [
                          0.9824516129,
                          0.08208987318
                        ],
                        "passed_time": 4.896973748,
                        "iteration": 59,
                        "remaining_time": 19.58789499,
                        "learn": [
                          0.9838688863,
                          0.06998719358
                        ]
                      },
                      {
                        "test": [
                          0.9824516129,
                          0.08200548659
                        ],
                        "passed_time": 4.972760654,
                        "iteration": 60,
                        "remaining_time": 19.48343928,
                        "learn": [
                          0.9839549189,
                          0.06979033931
                        ]
                      },
                      {
                        "test": [
                          0.9824516129,
                          0.08198008105
                        ],
                        "passed_time": 5.058938739,
                        "iteration": 61,
                        "remaining_time": 19.4197971,
                        "learn": [
                          0.9839979352,
                          0.06956991447
                        ]
                      },
                      {
                        "test": [
                          0.9824516129,
                          0.08183788947
                        ],
                        "passed_time": 5.134249297,
                        "iteration": 62,
                        "remaining_time": 19.31455688,
                        "learn": [
                          0.9840409515,
                          0.06930896456
                        ]
                      },
                      {
                        "test": [
                          0.9824516129,
                          0.08179089574
                        ],
                        "passed_time": 5.213310788,
                        "iteration": 63,
                        "remaining_time": 19.22408353,
                        "learn": [
                          0.9840409515,
                          0.06916445308
                        ]
                      },
                      {
                        "test": [
                          0.9824516129,
                          0.08178020366
                        ],
                        "passed_time": 5.28834407,
                        "iteration": 64,
                        "remaining_time": 19.11939779,
                        "learn": [
                          0.9841269841,
                          0.06888968456
                        ]
                      },
                      {
                        "test": [
                          0.9824516129,
                          0.0817176426
                        ],
                        "passed_time": 5.364484783,
                        "iteration": 65,
                        "remaining_time": 19.01953696,
                        "learn": [
                          0.9841700004,
                          0.06875238544
                        ]
                      },
                      {
                        "test": [
                          0.9824516129,
                          0.0816572139
                        ],
                        "passed_time": 5.439371126,
                        "iteration": 66,
                        "remaining_time": 18.91602198,
                        "learn": [
                          0.9842130167,
                          0.06868652897
                        ]
                      },
                      {
                        "test": [
                          0.9823225806,
                          0.08160475352
                        ],
                        "passed_time": 5.513156385,
                        "iteration": 67,
                        "remaining_time": 18.80959237,
                        "learn": [
                          0.9842130167,
                          0.06857604784
                        ]
                      },
                      {
                        "test": [
                          0.9823225806,
                          0.08155574532
                        ],
                        "passed_time": 5.599970388,
                        "iteration": 68,
                        "remaining_time": 18.74772695,
                        "learn": [
                          0.9842990493,
                          0.06836895061
                        ]
                      },
                      {
                        "test": [
                          0.9824516129,
                          0.08148819458
                        ],
                        "passed_time": 5.68091901,
                        "iteration": 69,
                        "remaining_time": 18.66587675,
                        "learn": [
                          0.9843420656,
                          0.06820849796
                        ]
                      },
                      {
                        "test": [
                          0.9823225806,
                          0.08151209678
                        ],
                        "passed_time": 5.760908248,
                        "iteration": 70,
                        "remaining_time": 18.58095759,
                        "learn": [
                          0.9844711146,
                          0.06798290677
                        ]
                      },
                      {
                        "test": [
                          0.9824516129,
                          0.08147465109
                        ],
                        "passed_time": 5.835853128,
                        "iteration": 71,
                        "remaining_time": 18.48020157,
                        "learn": [
                          0.9844280982,
                          0.06784987253
                        ]
                      },
                      {
                        "test": [
                          0.9824516129,
                          0.08141428679
                        ],
                        "passed_time": 5.926098973,
                        "iteration": 72,
                        "remaining_time": 18.42773242,
                        "learn": [
                          0.9844280982,
                          0.06766043924
                        ]
                      },
                      {
                        "test": [
                          0.9823225806,
                          0.08138800836
                        ],
                        "passed_time": 6.003889618,
                        "iteration": 73,
                        "remaining_time": 18.33620343,
                        "learn": [
                          0.9845141309,
                          0.06749627299
                        ]
                      },
                      {
                        "test": [
                          0.9824516129,
                          0.08136246656
                        ],
                        "passed_time": 6.077866932,
                        "iteration": 74,
                        "remaining_time": 18.23360079,
                        "learn": [
                          0.9845571472,
                          0.06738398166
                        ]
                      },
                      {
                        "test": [
                          0.9824516129,
                          0.08129936761
                        ],
                        "passed_time": 6.155242393,
                        "iteration": 75,
                        "remaining_time": 18.14176705,
                        "learn": [
                          0.9846001635,
                          0.06723739966
                        ]
                      },
                      {
                        "test": [
                          0.9824516129,
                          0.08132529752
                        ],
                        "passed_time": 6.231939534,
                        "iteration": 76,
                        "remaining_time": 18.04834436,
                        "learn": [
                          0.9846431798,
                          0.06705240309
                        ]
                      },
                      {
                        "test": [
                          0.9824516129,
                          0.08133094453
                        ],
                        "passed_time": 6.307311376,
                        "iteration": 77,
                        "remaining_time": 17.95157853,
                        "learn": [
                          0.9846861961,
                          0.06692144494
                        ]
                      },
                      {
                        "test": [
                          0.9825806452,
                          0.08129595858
                        ],
                        "passed_time": 6.384115319,
                        "iteration": 78,
                        "remaining_time": 17.85936058,
                        "learn": [
                          0.984815245,
                          0.06673412511
                        ]
                      },
                      {
                        "test": [
                          0.9825806452,
                          0.08126726014
                        ],
                        "passed_time": 6.461602836,
                        "iteration": 79,
                        "remaining_time": 17.7694078,
                        "learn": [
                          0.9848582613,
                          0.06659258128
                        ]
                      },
                      {
                        "test": [
                          0.9825806452,
                          0.08121840164
                        ],
                        "passed_time": 6.534453145,
                        "iteration": 80,
                        "remaining_time": 17.66722517,
                        "learn": [
                          0.9849873102,
                          0.06644727475
                        ]
                      },
                      {
                        "test": [
                          0.9825806452,
                          0.08119685666
                        ],
                        "passed_time": 6.634162709,
                        "iteration": 81,
                        "remaining_time": 17.63716428,
                        "learn": [
                          0.9849873102,
                          0.06631671404
                        ]
                      },
                      {
                        "test": [
                          0.9824516129,
                          0.0812178163
                        ],
                        "passed_time": 6.707142245,
                        "iteration": 82,
                        "remaining_time": 17.53554057,
                        "learn": [
                          0.9849442939,
                          0.06610728899
                        ]
                      },
                      {
                        "test": [
                          0.9824516129,
                          0.08119589328
                        ],
                        "passed_time": 6.781621594,
                        "iteration": 83,
                        "remaining_time": 17.43845553,
                        "learn": [
                          0.9849873102,
                          0.06598599128
                        ]
                      },
                      {
                        "test": [
                          0.9824516129,
                          0.08115303188
                        ],
                        "passed_time": 6.854007569,
                        "iteration": 84,
                        "remaining_time": 17.33660738,
                        "learn": [
                          0.9851163591,
                          0.06578606435
                        ]
                      },
                      {
                        "test": [
                          0.9824516129,
                          0.08115169938
                        ],
                        "passed_time": 6.944578407,
                        "iteration": 85,
                        "remaining_time": 17.28069511,
                        "learn": [
                          0.9851593754,
                          0.06565964674
                        ]
                      },
                      {
                        "test": [
                          0.9824516129,
                          0.08114923496
                        ],
                        "passed_time": 7.017984917,
                        "iteration": 86,
                        "remaining_time": 17.18196307,
                        "learn": [
                          0.9851593754,
                          0.06553549028
                        ]
                      },
                      {
                        "test": [
                          0.9824516129,
                          0.08115031778
                        ],
                        "passed_time": 7.097279929,
                        "iteration": 87,
                        "remaining_time": 17.09799256,
                        "learn": [
                          0.9851593754,
                          0.06535565868
                        ]
                      },
                      {
                        "test": [
                          0.9824516129,
                          0.08107335696
                        ],
                        "passed_time": 7.170692457,
                        "iteration": 88,
                        "remaining_time": 17.00018099,
                        "learn": [
                          0.985245408,
                          0.06511615672
                        ]
                      },
                      {
                        "test": [
                          0.9824516129,
                          0.08101982627
                        ],
                        "passed_time": 7.246316095,
                        "iteration": 89,
                        "remaining_time": 16.90807089,
                        "learn": [
                          0.985245408,
                          0.06497437311
                        ]
                      },
                      {
                        "test": [
                          0.9823225806,
                          0.08104345384
                        ],
                        "passed_time": 7.322609875,
                        "iteration": 90,
                        "remaining_time": 16.81786224,
                        "learn": [
                          0.9852023917,
                          0.06486603516
                        ]
                      },
                      {
                        "test": [
                          0.9823225806,
                          0.08101715841
                        ],
                        "passed_time": 7.404510467,
                        "iteration": 91,
                        "remaining_time": 16.74063236,
                        "learn": [
                          0.9852884243,
                          0.06474994818
                        ]
                      },
                      {
                        "test": [
                          0.9823225806,
                          0.08100311276
                        ],
                        "passed_time": 7.475670322,
                        "iteration": 92,
                        "remaining_time": 16.63939523,
                        "learn": [
                          0.9852884243,
                          0.06465278778
                        ]
                      },
                      {
                        "test": [
                          0.9823225806,
                          0.08100032413
                        ],
                        "passed_time": 7.552401706,
                        "iteration": 93,
                        "remaining_time": 16.551008,
                        "learn": [
                          0.9852884243,
                          0.06445721137
                        ]
                      },
                      {
                        "test": [
                          0.9823225806,
                          0.08097322398
                        ],
                        "passed_time": 7.643610921,
                        "iteration": 94,
                        "remaining_time": 16.49410778,
                        "learn": [
                          0.9853744569,
                          0.06436230275
                        ]
                      },
                      {
                        "test": [
                          0.9823225806,
                          0.0809885924
                        ],
                        "passed_time": 7.721623771,
                        "iteration": 95,
                        "remaining_time": 16.40845051,
                        "learn": [
                          0.9853744569,
                          0.06427289469
                        ]
                      },
                      {
                        "test": [
                          0.9823225806,
                          0.08096884677
                        ],
                        "passed_time": 7.793890976,
                        "iteration": 96,
                        "remaining_time": 16.31092648,
                        "learn": [
                          0.9853314406,
                          0.06418479172
                        ]
                      },
                      {
                        "test": [
                          0.9823225806,
                          0.08089858774
                        ],
                        "passed_time": 7.871316018,
                        "iteration": 97,
                        "remaining_time": 16.22454934,
                        "learn": [
                          0.9853744569,
                          0.06399024325
                        ]
                      },
                      {
                        "test": [
                          0.9823225806,
                          0.08093312772
                        ],
                        "passed_time": 7.960136151,
                        "iteration": 98,
                        "remaining_time": 16.16148855,
                        "learn": [
                          0.9853744569,
                          0.0638643389
                        ]
                      },
                      {
                        "test": [
                          0.9823225806,
                          0.08091807388
                        ],
                        "passed_time": 8.035155139,
                        "iteration": 99,
                        "remaining_time": 16.07031028,
                        "learn": [
                          0.9854604895,
                          0.06381722816
                        ]
                      },
                      {
                        "test": [
                          0.9823225806,
                          0.08094280225
                        ],
                        "passed_time": 8.109767955,
                        "iteration": 100,
                        "remaining_time": 15.97865171,
                        "learn": [
                          0.9855465221,
                          0.06369240313
                        ]
                      },
                      {
                        "test": [
                          0.9823225806,
                          0.08090996201
                        ],
                        "passed_time": 8.181293564,
                        "iteration": 101,
                        "remaining_time": 15.88133457,
                        "learn": [
                          0.9856325547,
                          0.06356598606
                        ]
                      },
                      {
                        "test": [
                          0.9823225806,
                          0.08097171308
                        ],
                        "passed_time": 8.261786207,
                        "iteration": 102,
                        "remaining_time": 15.80166876,
                        "learn": [
                          0.985675571,
                          0.0634323978
                        ]
                      },
                      {
                        "test": [
                          0.9823225806,
                          0.08094640629
                        ],
                        "passed_time": 8.332910738,
                        "iteration": 103,
                        "remaining_time": 15.70433178,
                        "learn": [
                          0.985675571,
                          0.06336902892
                        ]
                      },
                      {
                        "test": [
                          0.9823225806,
                          0.08091249213
                        ],
                        "passed_time": 8.406364245,
                        "iteration": 104,
                        "remaining_time": 15.61181931,
                        "learn": [
                          0.985675571,
                          0.06331692958
                        ]
                      },
                      {
                        "test": [
                          0.9824516129,
                          0.08092152128
                        ],
                        "passed_time": 8.482523532,
                        "iteration": 105,
                        "remaining_time": 15.52461854,
                        "learn": [
                          0.985675571,
                          0.06324186653
                        ]
                      },
                      {
                        "test": [
                          0.9824516129,
                          0.08086718169
                        ],
                        "passed_time": 8.559891068,
                        "iteration": 106,
                        "remaining_time": 15.43980351,
                        "learn": [
                          0.9857185873,
                          0.06311935651
                        ]
                      },
                      {
                        "test": [
                          0.9824516129,
                          0.08085887308
                        ],
                        "passed_time": 8.634065536,
                        "iteration": 107,
                        "remaining_time": 15.34944984,
                        "learn": [
                          0.985675571,
                          0.06304771639
                        ]
                      },
                      {
                        "test": [
                          0.9824516129,
                          0.08083876738
                        ],
                        "passed_time": 8.724281057,
                        "iteration": 108,
                        "remaining_time": 15.28750167,
                        "learn": [
                          0.985675571,
                          0.06298700347
                        ]
                      },
                      {
                        "test": [
                          0.9824516129,
                          0.08086675726
                        ],
                        "passed_time": 8.800220878,
                        "iteration": 109,
                        "remaining_time": 15.20038152,
                        "learn": [
                          0.985675571,
                          0.06290495564
                        ]
                      },
                      {
                        "test": [
                          0.9824516129,
                          0.08087656399
                        ],
                        "passed_time": 8.870720763,
                        "iteration": 110,
                        "remaining_time": 15.10420022,
                        "learn": [
                          0.9857185873,
                          0.06285418994
                        ]
                      },
                      {
                        "test": [
                          0.9824516129,
                          0.08088802236
                        ],
                        "passed_time": 8.959414132,
                        "iteration": 111,
                        "remaining_time": 15.03901658,
                        "learn": [
                          0.9856325547,
                          0.06268539971
                        ]
                      },
                      {
                        "test": [
                          0.9824516129,
                          0.08091127362
                        ],
                        "passed_time": 9.033850403,
                        "iteration": 112,
                        "remaining_time": 14.94982323,
                        "learn": [
                          0.9856325547,
                          0.06260863154
                        ]
                      },
                      {
                        "test": [
                          0.9824516129,
                          0.08094809906
                        ],
                        "passed_time": 9.109424023,
                        "iteration": 113,
                        "remaining_time": 14.86274446,
                        "learn": [
                          0.9856325547,
                          0.06249363171
                        ]
                      },
                      {
                        "test": [
                          0.9825806452,
                          0.08104063645
                        ],
                        "passed_time": 9.187670109,
                        "iteration": 114,
                        "remaining_time": 14.78016496,
                        "learn": [
                          0.9856325547,
                          0.06233765515
                        ]
                      },
                      {
                        "test": [
                          0.9825806452,
                          0.08105574756
                        ],
                        "passed_time": 9.260983004,
                        "iteration": 115,
                        "remaining_time": 14.68983511,
                        "learn": [
                          0.9856325547,
                          0.06224453797
                        ]
                      },
                      {
                        "test": [
                          0.9825806452,
                          0.08104685384
                        ],
                        "passed_time": 9.338120746,
                        "iteration": 116,
                        "remaining_time": 14.6057786,
                        "learn": [
                          0.985675571,
                          0.06214063303
                        ]
                      },
                      {
                        "test": [
                          0.9825806452,
                          0.08103455884
                        ],
                        "passed_time": 9.414431363,
                        "iteration": 117,
                        "remaining_time": 14.52056363,
                        "learn": [
                          0.985675571,
                          0.06201100869
                        ]
                      },
                      {
                        "test": [
                          0.9825806452,
                          0.08101581138
                        ],
                        "passed_time": 9.496173973,
                        "iteration": 118,
                        "remaining_time": 14.44376041,
                        "learn": [
                          0.985675571,
                          0.06193448017
                        ]
                      },
                      {
                        "test": [
                          0.9825806452,
                          0.08103413591
                        ],
                        "passed_time": 9.572971193,
                        "iteration": 119,
                        "remaining_time": 14.35945679,
                        "learn": [
                          0.985675571,
                          0.0618070479
                        ]
                      },
                      {
                        "test": [
                          0.9825806452,
                          0.08108949695
                        ],
                        "passed_time": 9.652016422,
                        "iteration": 120,
                        "remaining_time": 14.27860281,
                        "learn": [
                          0.9857616036,
                          0.0616894852
                        ]
                      },
                      {
                        "test": [
                          0.9825806452,
                          0.08111375082
                        ],
                        "passed_time": 9.73888078,
                        "iteration": 121,
                        "remaining_time": 14.20918671,
                        "learn": [
                          0.9857616036,
                          0.06163203012
                        ]
                      },
                      {
                        "test": [
                          0.9825806452,
                          0.08108888447
                        ],
                        "passed_time": 9.813849222,
                        "iteration": 122,
                        "remaining_time": 14.12236839,
                        "learn": [
                          0.985675571,
                          0.06153300139
                        ]
                      },
                      {
                        "test": [
                          0.9825806452,
                          0.08108602438
                        ],
                        "passed_time": 9.886236927,
                        "iteration": 123,
                        "remaining_time": 14.03207822,
                        "learn": [
                          0.9857185873,
                          0.06146699026
                        ]
                      },
                      {
                        "test": [
                          0.9825806452,
                          0.08105484036
                        ],
                        "passed_time": 9.981898038,
                        "iteration": 124,
                        "remaining_time": 13.97465725,
                        "learn": [
                          0.9857185873,
                          0.06131097365
                        ]
                      },
                      {
                        "test": [
                          0.9825806452,
                          0.08102234651
                        ],
                        "passed_time": 10.05976875,
                        "iteration": 125,
                        "remaining_time": 13.8920616,
                        "learn": [
                          0.9857616036,
                          0.06123579601
                        ]
                      },
                      {
                        "test": [
                          0.9825806452,
                          0.08100194938
                        ],
                        "passed_time": 10.13730561,
                        "iteration": 126,
                        "remaining_time": 13.8090856,
                        "learn": [
                          0.98580462,
                          0.06108285195
                        ]
                      },
                      {
                        "test": [
                          0.9825806452,
                          0.0810070386
                        ],
                        "passed_time": 10.21426889,
                        "iteration": 127,
                        "remaining_time": 13.72542382,
                        "learn": [
                          0.9857185873,
                          0.06095529483
                        ]
                      },
                      {
                        "test": [
                          0.9825806452,
                          0.0809820623
                        ],
                        "passed_time": 10.29377046,
                        "iteration": 128,
                        "remaining_time": 13.64523061,
                        "learn": [
                          0.9857185873,
                          0.06084234845
                        ]
                      },
                      {
                        "test": [
                          0.9825806452,
                          0.08099925099
                        ],
                        "passed_time": 10.36914615,
                        "iteration": 129,
                        "remaining_time": 13.55965266,
                        "learn": [
                          0.9857185873,
                          0.06077117931
                        ]
                      },
                      {
                        "test": [
                          0.9825806452,
                          0.08105034447
                        ],
                        "passed_time": 10.44527924,
                        "iteration": 130,
                        "remaining_time": 13.47520757,
                        "learn": [
                          0.9857185873,
                          0.06066592296
                        ]
                      },
                      {
                        "test": [
                          0.9825806452,
                          0.08102587738
                        ],
                        "passed_time": 10.52964098,
                        "iteration": 131,
                        "remaining_time": 13.40136125,
                        "learn": [
                          0.9857616036,
                          0.06052962117
                        ]
                      },
                      {
                        "test": [
                          0.9825806452,
                          0.08103607803
                        ],
                        "passed_time": 10.6109508,
                        "iteration": 132,
                        "remaining_time": 13.32352469,
                        "learn": [
                          0.9858476363,
                          0.06040331769
                        ]
                      },
                      {
                        "test": [
                          0.9825806452,
                          0.08106735889
                        ],
                        "passed_time": 10.69287517,
                        "iteration": 133,
                        "remaining_time": 13.2463976,
                        "learn": [
                          0.98580462,
                          0.06033301328
                        ]
                      },
                      {
                        "test": [
                          0.9825806452,
                          0.08106291793
                        ],
                        "passed_time": 10.77332337,
                        "iteration": 134,
                        "remaining_time": 13.16739524,
                        "learn": [
                          0.9858476363,
                          0.06025796016
                        ]
                      },
                      {
                        "test": [
                          0.9825806452,
                          0.08103712344
                        ],
                        "passed_time": 10.84959207,
                        "iteration": 135,
                        "remaining_time": 13.08333162,
                        "learn": [
                          0.9859336689,
                          0.06014506441
                        ]
                      },
                      {
                        "test": [
                          0.9825806452,
                          0.08101370296
                        ],
                        "passed_time": 10.93540889,
                        "iteration": 136,
                        "remaining_time": 13.01074196,
                        "learn": [
                          0.9859336689,
                          0.06003878484
                        ]
                      },
                      {
                        "test": [
                          0.9825806452,
                          0.08101177171
                        ],
                        "passed_time": 11.01936172,
                        "iteration": 137,
                        "remaining_time": 12.93577245,
                        "learn": [
                          0.9859336689,
                          0.05993665671
                        ]
                      },
                      {
                        "test": [
                          0.9825806452,
                          0.08102564675
                        ],
                        "passed_time": 11.09123227,
                        "iteration": 138,
                        "remaining_time": 12.8466791,
                        "learn": [
                          0.9858906526,
                          0.05988019417
                        ]
                      },
                      {
                        "test": [
                          0.9825806452,
                          0.08097274335
                        ],
                        "passed_time": 11.1677859,
                        "iteration": 139,
                        "remaining_time": 12.76318389,
                        "learn": [
                          0.9859336689,
                          0.05980551746
                        ]
                      },
                      {
                        "test": [
                          0.9825806452,
                          0.08098703834
                        ],
                        "passed_time": 11.24207153,
                        "iteration": 140,
                        "remaining_time": 12.6772296,
                        "learn": [
                          0.9858906526,
                          0.05970616591
                        ]
                      },
                      {
                        "test": [
                          0.9825806452,
                          0.08097723988
                        ],
                        "passed_time": 11.31520726,
                        "iteration": 141,
                        "remaining_time": 12.5901602,
                        "learn": [
                          0.9858906526,
                          0.05964551763
                        ]
                      },
                      {
                        "test": [
                          0.9825806452,
                          0.0809643376
                        ],
                        "passed_time": 11.38637542,
                        "iteration": 142,
                        "remaining_time": 12.50112547,
                        "learn": [
                          0.9859766852,
                          0.0595782506
                        ]
                      },
                      {
                        "test": [
                          0.9825806452,
                          0.08096422697
                        ],
                        "passed_time": 11.4626709,
                        "iteration": 143,
                        "remaining_time": 12.41789347,
                        "learn": [
                          0.9859766852,
                          0.05948383878
                        ]
                      },
                      {
                        "test": [
                          0.9825806452,
                          0.080962656
                        ],
                        "passed_time": 11.54000581,
                        "iteration": 144,
                        "remaining_time": 12.33586828,
                        "learn": [
                          0.9859336689,
                          0.05937479393
                        ]
                      },
                      {
                        "test": [
                          0.9825806452,
                          0.08098761586
                        ],
                        "passed_time": 11.61255876,
                        "iteration": 145,
                        "remaining_time": 12.24886335,
                        "learn": [
                          0.9859766852,
                          0.05927700993
                        ]
                      },
                      {
                        "test": [
                          0.9825806452,
                          0.08101200845
                        ],
                        "passed_time": 11.68941125,
                        "iteration": 146,
                        "remaining_time": 12.16653008,
                        "learn": [
                          0.9859336689,
                          0.05919084412
                        ]
                      },
                      {
                        "test": [
                          0.9827096774,
                          0.08099846258
                        ],
                        "passed_time": 11.77940172,
                        "iteration": 147,
                        "remaining_time": 12.09776393,
                        "learn": [
                          0.9860197015,
                          0.05911309098
                        ]
                      },
                      {
                        "test": [
                          0.9827096774,
                          0.08098237487
                        ],
                        "passed_time": 11.85493527,
                        "iteration": 148,
                        "remaining_time": 12.01406192,
                        "learn": [
                          0.9859766852,
                          0.05902776308
                        ]
                      },
                      {
                        "test": [
                          0.9827096774,
                          0.08097538108
                        ],
                        "passed_time": 11.9297398,
                        "iteration": 149,
                        "remaining_time": 11.9297398,
                        "learn": [
                          0.9860197015,
                          0.05895672267
                        ]
                      },
                      {
                        "test": [
                          0.9825806452,
                          0.08094257978
                        ],
                        "passed_time": 12.027718,
                        "iteration": 150,
                        "remaining_time": 11.86841048,
                        "learn": [
                          0.9860627178,
                          0.05880104954
                        ]
                      },
                      {
                        "test": [
                          0.9825806452,
                          0.08097158441
                        ],
                        "passed_time": 12.10443259,
                        "iteration": 151,
                        "remaining_time": 11.78589489,
                        "learn": [
                          0.9860627178,
                          0.05871774035
                        ]
                      },
                      {
                        "test": [
                          0.9824516129,
                          0.08095959548
                        ],
                        "passed_time": 12.21324129,
                        "iteration": 152,
                        "remaining_time": 11.73429065,
                        "learn": [
                          0.9860627178,
                          0.05861589224
                        ]
                      },
                      {
                        "test": [
                          0.9824516129,
                          0.08098884115
                        ],
                        "passed_time": 12.29584065,
                        "iteration": 153,
                        "remaining_time": 11.65709568,
                        "learn": [
                          0.9860197015,
                          0.05849638158
                        ]
                      },
                      {
                        "test": [
                          0.9824516129,
                          0.08103006433
                        ],
                        "passed_time": 12.37962348,
                        "iteration": 154,
                        "remaining_time": 11.58093809,
                        "learn": [
                          0.9860627178,
                          0.05838443195
                        ]
                      },
                      {
                        "test": [
                          0.9823225806,
                          0.0810337348
                        ],
                        "passed_time": 12.45613428,
                        "iteration": 155,
                        "remaining_time": 11.4979701,
                        "learn": [
                          0.9861917667,
                          0.05828070841
                        ]
                      },
                      {
                        "test": [
                          0.9823225806,
                          0.0810514023
                        ],
                        "passed_time": 12.53042959,
                        "iteration": 156,
                        "remaining_time": 11.41306644,
                        "learn": [
                          0.9861917667,
                          0.05824825958
                        ]
                      },
                      {
                        "test": [
                          0.9823225806,
                          0.08105435488
                        ],
                        "passed_time": 12.61478016,
                        "iteration": 157,
                        "remaining_time": 11.33733407,
                        "learn": [
                          0.9861487504,
                          0.05813524667
                        ]
                      },
                      {
                        "test": [
                          0.9821935484,
                          0.08107627897
                        ],
                        "passed_time": 12.69254755,
                        "iteration": 158,
                        "remaining_time": 11.25565537,
                        "learn": [
                          0.9861917667,
                          0.05807143603
                        ]
                      },
                      {
                        "test": [
                          0.9821935484,
                          0.08107578696
                        ],
                        "passed_time": 12.77882663,
                        "iteration": 159,
                        "remaining_time": 11.1814733,
                        "learn": [
                          0.9862777993,
                          0.05797464284
                        ]
                      },
                      {
                        "test": [
                          0.9823225806,
                          0.081064267
                        ],
                        "passed_time": 12.85398552,
                        "iteration": 160,
                        "remaining_time": 11.09754029,
                        "learn": [
                          0.986234783,
                          0.05787835767
                        ]
                      },
                      {
                        "test": [
                          0.9823225806,
                          0.08107280842
                        ],
                        "passed_time": 12.92720958,
                        "iteration": 161,
                        "remaining_time": 11.01206742,
                        "learn": [
                          0.9862777993,
                          0.05780524223
                        ]
                      },
                      {
                        "test": [
                          0.9823225806,
                          0.08108176223
                        ],
                        "passed_time": 13.02306247,
                        "iteration": 162,
                        "remaining_time": 10.94576416,
                        "learn": [
                          0.9862777993,
                          0.05776120716
                        ]
                      },
                      {
                        "test": [
                          0.9821935484,
                          0.08106586169
                        ],
                        "passed_time": 13.09748707,
                        "iteration": 163,
                        "remaining_time": 10.86133074,
                        "learn": [
                          0.9863208156,
                          0.05767548512
                        ]
                      },
                      {
                        "test": [
                          0.9821935484,
                          0.08104148784
                        ],
                        "passed_time": 13.17395591,
                        "iteration": 164,
                        "remaining_time": 10.7786912,
                        "learn": [
                          0.9863638319,
                          0.0575184317
                        ]
                      },
                      {
                        "test": [
                          0.9821935484,
                          0.08104234601
                        ],
                        "passed_time": 13.25233291,
                        "iteration": 165,
                        "remaining_time": 10.69766633,
                        "learn": [
                          0.9864068482,
                          0.05735277804
                        ]
                      },
                      {
                        "test": [
                          0.9821935484,
                          0.08104466203
                        ],
                        "passed_time": 13.33312191,
                        "iteration": 166,
                        "remaining_time": 10.61859409,
                        "learn": [
                          0.9864068482,
                          0.05727577319
                        ]
                      },
                      {
                        "test": [
                          0.9821935484,
                          0.08103043035
                        ],
                        "passed_time": 13.40546639,
                        "iteration": 167,
                        "remaining_time": 10.53286645,
                        "learn": [
                          0.9864498645,
                          0.05722534294
                        ]
                      },
                      {
                        "test": [
                          0.9820645161,
                          0.08101949193
                        ],
                        "passed_time": 13.48084258,
                        "iteration": 168,
                        "remaining_time": 10.44964721,
                        "learn": [
                          0.9864498645,
                          0.05714181682
                        ]
                      },
                      {
                        "test": [
                          0.9820645161,
                          0.08103601155
                        ],
                        "passed_time": 13.55865621,
                        "iteration": 169,
                        "remaining_time": 10.36838416,
                        "learn": [
                          0.9864498645,
                          0.05703632967
                        ]
                      },
                      {
                        "test": [
                          0.9820645161,
                          0.08108533063
                        ],
                        "passed_time": 13.63982462,
                        "iteration": 170,
                        "remaining_time": 10.28969226,
                        "learn": [
                          0.9865789134,
                          0.05691071993
                        ]
                      },
                      {
                        "test": [
                          0.9820645161,
                          0.08106420898
                        ],
                        "passed_time": 13.7146837,
                        "iteration": 171,
                        "remaining_time": 10.20627624,
                        "learn": [
                          0.986664946,
                          0.05683163946
                        ]
                      },
                      {
                        "test": [
                          0.9820645161,
                          0.08102994148
                        ],
                        "passed_time": 13.80122935,
                        "iteration": 172,
                        "remaining_time": 10.13153831,
                        "learn": [
                          0.9866219297,
                          0.05665688985
                        ]
                      },
                      {
                        "test": [
                          0.9820645161,
                          0.08098334676
                        ],
                        "passed_time": 13.87628809,
                        "iteration": 173,
                        "remaining_time": 10.04834655,
                        "learn": [
                          0.9867079623,
                          0.05653836145
                        ]
                      },
                      {
                        "test": [
                          0.9821935484,
                          0.08096949554
                        ],
                        "passed_time": 13.94873754,
                        "iteration": 174,
                        "remaining_time": 9.963383961,
                        "learn": [
                          0.9867079623,
                          0.05649767482
                        ]
                      },
                      {
                        "test": [
                          0.9820645161,
                          0.080947846
                        ],
                        "passed_time": 14.04308142,
                        "iteration": 175,
                        "remaining_time": 9.893989185,
                        "learn": [
                          0.9866219297,
                          0.05640950047
                        ]
                      },
                      {
                        "test": [
                          0.9821935484,
                          0.08089373797
                        ],
                        "passed_time": 14.11507476,
                        "iteration": 176,
                        "remaining_time": 9.808780769,
                        "learn": [
                          0.9867079623,
                          0.05632879893
                        ]
                      },
                      {
                        "test": [
                          0.9821935484,
                          0.08088193717
                        ],
                        "passed_time": 14.19123993,
                        "iteration": 177,
                        "remaining_time": 9.726580175,
                        "learn": [
                          0.9867509786,
                          0.05625830677
                        ]
                      },
                      {
                        "test": [
                          0.9821935484,
                          0.08087343198
                        ],
                        "passed_time": 14.26859451,
                        "iteration": 178,
                        "remaining_time": 9.645251035,
                        "learn": [
                          0.9867509786,
                          0.05621320511
                        ]
                      },
                      {
                        "test": [
                          0.9821935484,
                          0.08090373756
                        ],
                        "passed_time": 14.34289034,
                        "iteration": 179,
                        "remaining_time": 9.561926897,
                        "learn": [
                          0.9867079623,
                          0.05611328448
                        ]
                      },
                      {
                        "test": [
                          0.9821935484,
                          0.08092848054
                        ],
                        "passed_time": 14.41628896,
                        "iteration": 180,
                        "remaining_time": 9.478112633,
                        "learn": [
                          0.9867509786,
                          0.05603850473
                        ]
                      },
                      {
                        "test": [
                          0.9820645161,
                          0.08097100577
                        ],
                        "passed_time": 14.49212989,
                        "iteration": 181,
                        "remaining_time": 9.3959963,
                        "learn": [
                          0.9867939949,
                          0.05599108794
                        ]
                      },
                      {
                        "test": [
                          0.9821935484,
                          0.08103920176
                        ],
                        "passed_time": 14.56659885,
                        "iteration": 182,
                        "remaining_time": 9.313071396,
                        "learn": [
                          0.9868370112,
                          0.05588881886
                        ]
                      },
                      {
                        "test": [
                          0.9821935484,
                          0.08104942544
                        ],
                        "passed_time": 14.64050725,
                        "iteration": 183,
                        "remaining_time": 9.229885003,
                        "learn": [
                          0.9869660601,
                          0.0557913586
                        ]
                      },
                      {
                        "test": [
                          0.9821935484,
                          0.08105777122
                        ],
                        "passed_time": 14.71548953,
                        "iteration": 184,
                        "remaining_time": 9.147466467,
                        "learn": [
                          0.9870090764,
                          0.05573217426
                        ]
                      },
                      {
                        "test": [
                          0.9821935484,
                          0.08102405766
                        ],
                        "passed_time": 14.80029721,
                        "iteration": 185,
                        "remaining_time": 9.071149904,
                        "learn": [
                          0.9870520927,
                          0.05565753196
                        ]
                      },
                      {
                        "test": [
                          0.9821935484,
                          0.08104582075
                        ],
                        "passed_time": 14.87678175,
                        "iteration": 186,
                        "remaining_time": 8.989713038,
                        "learn": [
                          0.987095109,
                          0.05559208546
                        ]
                      },
                      {
                        "test": [
                          0.9823225806,
                          0.0810253402
                        ],
                        "passed_time": 14.95238643,
                        "iteration": 187,
                        "remaining_time": 8.907804684,
                        "learn": [
                          0.9870090764,
                          0.05548727339
                        ]
                      },
                      {
                        "test": [
                          0.9823225806,
                          0.0809822485
                        ],
                        "passed_time": 15.04261129,
                        "iteration": 188,
                        "remaining_time": 8.834549489,
                        "learn": [
                          0.9869660601,
                          0.05542215323
                        ]
                      },
                      {
                        "test": [
                          0.9823225806,
                          0.08099487311
                        ],
                        "passed_time": 15.12785244,
                        "iteration": 189,
                        "remaining_time": 8.758230361,
                        "learn": [
                          0.9870520927,
                          0.05530899617
                        ]
                      },
                      {
                        "test": [
                          0.9823225806,
                          0.08102801837
                        ],
                        "passed_time": 15.20179572,
                        "iteration": 190,
                        "remaining_time": 8.675370332,
                        "learn": [
                          0.9870090764,
                          0.05521739933
                        ]
                      },
                      {
                        "test": [
                          0.9823225806,
                          0.08102776397
                        ],
                        "passed_time": 15.28068537,
                        "iteration": 191,
                        "remaining_time": 8.595385523,
                        "learn": [
                          0.987095109,
                          0.05511179811
                        ]
                      },
                      {
                        "test": [
                          0.9821935484,
                          0.08105818899
                        ],
                        "passed_time": 15.35498706,
                        "iteration": 192,
                        "remaining_time": 8.512868476,
                        "learn": [
                          0.9870520927,
                          0.05503816798
                        ]
                      },
                      {
                        "test": [
                          0.9821935484,
                          0.08105988656
                        ],
                        "passed_time": 15.43554548,
                        "iteration": 193,
                        "remaining_time": 8.433854745,
                        "learn": [
                          0.9871381253,
                          0.05496999458
                        ]
                      },
                      {
                        "test": [
                          0.9821935484,
                          0.08099699175
                        ],
                        "passed_time": 15.50997394,
                        "iteration": 194,
                        "remaining_time": 8.351524429,
                        "learn": [
                          0.9871381253,
                          0.05491322448
                        ]
                      },
                      {
                        "test": [
                          0.9820645161,
                          0.08099053959
                        ],
                        "passed_time": 15.59279153,
                        "iteration": 195,
                        "remaining_time": 8.273726119,
                        "learn": [
                          0.9871381253,
                          0.05483554026
                        ]
                      },
                      {
                        "test": [
                          0.9820645161,
                          0.08100211325
                        ],
                        "passed_time": 15.66598015,
                        "iteration": 196,
                        "remaining_time": 8.190842411,
                        "learn": [
                          0.9871381253,
                          0.05479305387
                        ]
                      },
                      {
                        "test": [
                          0.9820645161,
                          0.08102910002
                        ],
                        "passed_time": 15.74156914,
                        "iteration": 197,
                        "remaining_time": 8.109293195,
                        "learn": [
                          0.987095109,
                          0.05474077119
                        ]
                      },
                      {
                        "test": [
                          0.9821935484,
                          0.08099518856
                        ],
                        "passed_time": 15.82365245,
                        "iteration": 198,
                        "remaining_time": 8.031099987,
                        "learn": [
                          0.987095109,
                          0.05467434001
                        ]
                      },
                      {
                        "test": [
                          0.9821935484,
                          0.08099041178
                        ],
                        "passed_time": 15.89823628,
                        "iteration": 199,
                        "remaining_time": 7.94911814,
                        "learn": [
                          0.987095109,
                          0.05463324234
                        ]
                      },
                      {
                        "test": [
                          0.9821935484,
                          0.08097326459
                        ],
                        "passed_time": 15.97212146,
                        "iteration": 200,
                        "remaining_time": 7.866865794,
                        "learn": [
                          0.987095109,
                          0.05458060395
                        ]
                      },
                      {
                        "test": [
                          0.9821935484,
                          0.08098336277
                        ],
                        "passed_time": 16.06510003,
                        "iteration": 201,
                        "remaining_time": 7.793959422,
                        "learn": [
                          0.987095109,
                          0.05451791082
                        ]
                      },
                      {
                        "test": [
                          0.9821935484,
                          0.08099734702
                        ],
                        "passed_time": 16.15389795,
                        "iteration": 202,
                        "remaining_time": 7.718857642,
                        "learn": [
                          0.987095109,
                          0.05443449403
                        ]
                      },
                      {
                        "test": [
                          0.9821935484,
                          0.0810119534
                        ],
                        "passed_time": 16.22549767,
                        "iteration": 203,
                        "remaining_time": 7.635528315,
                        "learn": [
                          0.987095109,
                          0.05434315415
                        ]
                      },
                      {
                        "test": [
                          0.9821935484,
                          0.08103519415
                        ],
                        "passed_time": 16.31521845,
                        "iteration": 204,
                        "remaining_time": 7.560710988,
                        "learn": [
                          0.987095109,
                          0.0543051194
                        ]
                      },
                      {
                        "test": [
                          0.9821935484,
                          0.08109780893
                        ],
                        "passed_time": 16.39379965,
                        "iteration": 205,
                        "remaining_time": 7.480665858,
                        "learn": [
                          0.987224158,
                          0.05418031514
                        ]
                      },
                      {
                        "test": [
                          0.9821935484,
                          0.08109299915
                        ],
                        "passed_time": 16.47208567,
                        "iteration": 206,
                        "remaining_time": 7.400502259,
                        "learn": [
                          0.9871811417,
                          0.0540319516
                        ]
                      },
                      {
                        "test": [
                          0.9821935484,
                          0.08112475275
                        ],
                        "passed_time": 16.54637855,
                        "iteration": 207,
                        "remaining_time": 7.318590511,
                        "learn": [
                          0.9872671743,
                          0.05395849769
                        ]
                      },
                      {
                        "test": [
                          0.9821935484,
                          0.08111585319
                        ],
                        "passed_time": 16.62087492,
                        "iteration": 208,
                        "remaining_time": 7.236840276,
                        "learn": [
                          0.9872671743,
                          0.05392902493
                        ]
                      },
                      {
                        "test": [
                          0.9821935484,
                          0.0811405289
                        ],
                        "passed_time": 16.69752845,
                        "iteration": 209,
                        "remaining_time": 7.15608362,
                        "learn": [
                          0.9872671743,
                          0.05388267786
                        ]
                      },
                      {
                        "test": [
                          0.9821935484,
                          0.08116532866
                        ],
                        "passed_time": 16.77326442,
                        "iteration": 210,
                        "remaining_time": 7.07497883,
                        "learn": [
                          0.9873101906,
                          0.0538093407
                        ]
                      },
                      {
                        "test": [
                          0.9820645161,
                          0.08119301222
                        ],
                        "passed_time": 16.85771378,
                        "iteration": 211,
                        "remaining_time": 6.997541567,
                        "learn": [
                          0.9873532069,
                          0.05377370136
                        ]
                      },
                      {
                        "test": [
                          0.9820645161,
                          0.08116221713
                        ],
                        "passed_time": 16.93269145,
                        "iteration": 212,
                        "remaining_time": 6.916169746,
                        "learn": [
                          0.9873101906,
                          0.05369437126
                        ]
                      },
                      {
                        "test": [
                          0.9820645161,
                          0.08115996541
                        ],
                        "passed_time": 17.00821092,
                        "iteration": 213,
                        "remaining_time": 6.835075416,
                        "learn": [
                          0.9872671743,
                          0.05363965992
                        ]
                      },
                      {
                        "test": [
                          0.9821935484,
                          0.08120769672
                        ],
                        "passed_time": 17.10088567,
                        "iteration": 214,
                        "remaining_time": 6.760815266,
                        "learn": [
                          0.9873532069,
                          0.05353838883
                        ]
                      },
                      {
                        "test": [
                          0.9821935484,
                          0.08114883217
                        ],
                        "passed_time": 17.18289271,
                        "iteration": 215,
                        "remaining_time": 6.682236053,
                        "learn": [
                          0.9873962232,
                          0.05345284435
                        ]
                      },
                      {
                        "test": [
                          0.9823225806,
                          0.08117616758
                        ],
                        "passed_time": 17.2575499,
                        "iteration": 216,
                        "remaining_time": 6.600814017,
                        "learn": [
                          0.9873962232,
                          0.05335742727
                        ]
                      },
                      {
                        "test": [
                          0.9823225806,
                          0.08116318845
                        ],
                        "passed_time": 17.33517976,
                        "iteration": 217,
                        "remaining_time": 6.520572203,
                        "learn": [
                          0.9873962232,
                          0.05326352108
                        ]
                      },
                      {
                        "test": [
                          0.9821935484,
                          0.08116942835
                        ],
                        "passed_time": 17.40763623,
                        "iteration": 218,
                        "remaining_time": 6.438440796,
                        "learn": [
                          0.9874392395,
                          0.05319686471
                        ]
                      },
                      {
                        "test": [
                          0.9823225806,
                          0.0812469449
                        ],
                        "passed_time": 17.48784508,
                        "iteration": 219,
                        "remaining_time": 6.359216393,
                        "learn": [
                          0.9874822558,
                          0.05306553584
                        ]
                      },
                      {
                        "test": [
                          0.9823225806,
                          0.0812439035
                        ],
                        "passed_time": 17.56198509,
                        "iteration": 220,
                        "remaining_time": 6.277813673,
                        "learn": [
                          0.9874822558,
                          0.05301626713
                        ]
                      },
                      {
                        "test": [
                          0.9823225806,
                          0.08123806769
                        ],
                        "passed_time": 17.6356986,
                        "iteration": 221,
                        "remaining_time": 6.196326534,
                        "learn": [
                          0.9874822558,
                          0.05293035936
                        ]
                      },
                      {
                        "test": [
                          0.9823225806,
                          0.08124595035
                        ],
                        "passed_time": 17.7122737,
                        "iteration": 222,
                        "remaining_time": 6.115897195,
                        "learn": [
                          0.9874392395,
                          0.05287263227
                        ]
                      },
                      {
                        "test": [
                          0.9823225806,
                          0.08123485346
                        ],
                        "passed_time": 17.78790681,
                        "iteration": 223,
                        "remaining_time": 6.035182667,
                        "learn": [
                          0.9874392395,
                          0.05278116288
                        ]
                      },
                      {
                        "test": [
                          0.9823225806,
                          0.08122523664
                        ],
                        "passed_time": 17.87122806,
                        "iteration": 224,
                        "remaining_time": 5.95707602,
                        "learn": [
                          0.9875252721,
                          0.05270235142
                        ]
                      },
                      {
                        "test": [
                          0.9823225806,
                          0.08122453692
                        ],
                        "passed_time": 17.95143123,
                        "iteration": 225,
                        "remaining_time": 5.87790226,
                        "learn": [
                          0.9875682884,
                          0.05263492741
                        ]
                      },
                      {
                        "test": [
                          0.9823225806,
                          0.08124487151
                        ],
                        "passed_time": 18.02722161,
                        "iteration": 226,
                        "remaining_time": 5.797300341,
                        "learn": [
                          0.987654321,
                          0.05255003957
                        ]
                      },
                      {
                        "test": [
                          0.9823225806,
                          0.08129221002
                        ],
                        "passed_time": 18.11817982,
                        "iteration": 227,
                        "remaining_time": 5.721530471,
                        "learn": [
                          0.9875682884,
                          0.05244020203
                        ]
                      },
                      {
                        "test": [
                          0.9823225806,
                          0.08128127734
                        ],
                        "passed_time": 18.20294335,
                        "iteration": 228,
                        "remaining_time": 5.643707327,
                        "learn": [
                          0.9876113047,
                          0.05239243249
                        ]
                      },
                      {
                        "test": [
                          0.9823225806,
                          0.08128523096
                        ],
                        "passed_time": 18.27675294,
                        "iteration": 229,
                        "remaining_time": 5.562490024,
                        "learn": [
                          0.9876113047,
                          0.05234537994
                        ]
                      },
                      {
                        "test": [
                          0.9823225806,
                          0.08131392339
                        ],
                        "passed_time": 18.3580955,
                        "iteration": 230,
                        "remaining_time": 5.483586966,
                        "learn": [
                          0.987654321,
                          0.05228190988
                        ]
                      },
                      {
                        "test": [
                          0.9823225806,
                          0.0812972201
                        ],
                        "passed_time": 18.43733594,
                        "iteration": 231,
                        "remaining_time": 5.40404674,
                        "learn": [
                          0.9877403536,
                          0.05221251929
                        ]
                      },
                      {
                        "test": [
                          0.9823225806,
                          0.08129831705
                        ],
                        "passed_time": 18.51409473,
                        "iteration": 232,
                        "remaining_time": 5.323795481,
                        "learn": [
                          0.9877403536,
                          0.05216136026
                        ]
                      },
                      {
                        "test": [
                          0.9823225806,
                          0.08129376562
                        ],
                        "passed_time": 18.58882177,
                        "iteration": 233,
                        "remaining_time": 5.243001012,
                        "learn": [
                          0.9877833699,
                          0.05205698995
                        ]
                      },
                      {
                        "test": [
                          0.9823225806,
                          0.08128603176
                        ],
                        "passed_time": 18.66198829,
                        "iteration": 234,
                        "remaining_time": 5.161826549,
                        "learn": [
                          0.9877403536,
                          0.05202143912
                        ]
                      },
                      {
                        "test": [
                          0.9823225806,
                          0.0812594747
                        ],
                        "passed_time": 18.73945125,
                        "iteration": 235,
                        "remaining_time": 5.081885084,
                        "learn": [
                          0.9876973373,
                          0.05196946527
                        ]
                      },
                      {
                        "test": [
                          0.9823225806,
                          0.08128316206
                        ],
                        "passed_time": 18.81625854,
                        "iteration": 236,
                        "remaining_time": 5.001790245,
                        "learn": [
                          0.9877403536,
                          0.05179204741
                        ]
                      },
                      {
                        "test": [
                          0.9824516129,
                          0.08126133163
                        ],
                        "passed_time": 18.90161549,
                        "iteration": 237,
                        "remaining_time": 4.923950255,
                        "learn": [
                          0.9878263862,
                          0.05170837727
                        ]
                      },
                      {
                        "test": [
                          0.9823225806,
                          0.08129956331
                        ],
                        "passed_time": 18.98047973,
                        "iteration": 238,
                        "remaining_time": 4.844390224,
                        "learn": [
                          0.9878263862,
                          0.05165048883
                        ]
                      },
                      {
                        "test": [
                          0.9823225806,
                          0.08128964417
                        ],
                        "passed_time": 19.05692796,
                        "iteration": 239,
                        "remaining_time": 4.76423199,
                        "learn": [
                          0.9879124188,
                          0.0516121721
                        ]
                      },
                      {
                        "test": [
                          0.9823225806,
                          0.08133937926
                        ],
                        "passed_time": 19.14717574,
                        "iteration": 240,
                        "remaining_time": 4.687482857,
                        "learn": [
                          0.9879124188,
                          0.05152980688
                        ]
                      },
                      {
                        "test": [
                          0.9823225806,
                          0.08137195843
                        ],
                        "passed_time": 19.25048134,
                        "iteration": 241,
                        "remaining_time": 4.613751726,
                        "learn": [
                          0.9879124188,
                          0.0514556
                        ]
                      },
                      {
                        "test": [
                          0.9823225806,
                          0.08134691288
                        ],
                        "passed_time": 19.32345027,
                        "iteration": 242,
                        "remaining_time": 4.532661175,
                        "learn": [
                          0.9878694025,
                          0.05140988684
                        ]
                      },
                      {
                        "test": [
                          0.9821935484,
                          0.08134861955
                        ],
                        "passed_time": 19.39761417,
                        "iteration": 243,
                        "remaining_time": 4.451911449,
                        "learn": [
                          0.9878694025,
                          0.05135560099
                        ]
                      },
                      {
                        "test": [
                          0.9823225806,
                          0.08137032812
                        ],
                        "passed_time": 19.47225841,
                        "iteration": 244,
                        "remaining_time": 4.371323316,
                        "learn": [
                          0.9878694025,
                          0.05131435151
                        ]
                      },
                      {
                        "test": [
                          0.9823225806,
                          0.08138808808
                        ],
                        "passed_time": 19.55056437,
                        "iteration": 245,
                        "remaining_time": 4.291587301,
                        "learn": [
                          0.9878263862,
                          0.05121436325
                        ]
                      },
                      {
                        "test": [
                          0.9823225806,
                          0.08142537324
                        ],
                        "passed_time": 19.62261139,
                        "iteration": 246,
                        "remaining_time": 4.210519853,
                        "learn": [
                          0.9878263862,
                          0.05116679564
                        ]
                      },
                      {
                        "test": [
                          0.9823225806,
                          0.08142179697
                        ],
                        "passed_time": 19.69941045,
                        "iteration": 247,
                        "remaining_time": 4.130521547,
                        "learn": [
                          0.9878263862,
                          0.05109607063
                        ]
                      },
                      {
                        "test": [
                          0.9823225806,
                          0.08141567588
                        ],
                        "passed_time": 19.77252975,
                        "iteration": 248,
                        "remaining_time": 4.049795251,
                        "learn": [
                          0.9878263862,
                          0.0510628878
                        ]
                      },
                      {
                        "test": [
                          0.9823225806,
                          0.08143593263
                        ],
                        "passed_time": 19.84723122,
                        "iteration": 249,
                        "remaining_time": 3.969446244,
                        "learn": [
                          0.9878263862,
                          0.05101595843
                        ]
                      },
                      {
                        "test": [
                          0.9823225806,
                          0.08149083772
                        ],
                        "passed_time": 19.93945549,
                        "iteration": 250,
                        "remaining_time": 3.892563023,
                        "learn": [
                          0.9878263862,
                          0.05094611586
                        ]
                      },
                      {
                        "test": [
                          0.9823225806,
                          0.0815095946
                        ],
                        "passed_time": 20.01759233,
                        "iteration": 251,
                        "remaining_time": 3.812874729,
                        "learn": [
                          0.9878263862,
                          0.05085721593
                        ]
                      },
                      {
                        "test": [
                          0.9823225806,
                          0.08151690757
                        ],
                        "passed_time": 20.09160995,
                        "iteration": 252,
                        "remaining_time": 3.732433469,
                        "learn": [
                          0.9878263862,
                          0.05077218377
                        ]
                      },
                      {
                        "test": [
                          0.9821935484,
                          0.08158216143
                        ],
                        "passed_time": 20.18117355,
                        "iteration": 253,
                        "remaining_time": 3.654858203,
                        "learn": [
                          0.9878263862,
                          0.05069956946
                        ]
                      },
                      {
                        "test": [
                          0.9821935484,
                          0.08158474344
                        ],
                        "passed_time": 20.26322046,
                        "iteration": 254,
                        "remaining_time": 3.575862434,
                        "learn": [
                          0.9878694025,
                          0.05064625593
                        ]
                      },
                      {
                        "test": [
                          0.9821935484,
                          0.08157420625
                        ],
                        "passed_time": 20.33869741,
                        "iteration": 255,
                        "remaining_time": 3.495713618,
                        "learn": [
                          0.9879124188,
                          0.0505561107
                        ]
                      },
                      {
                        "test": [
                          0.9821935484,
                          0.08158487942
                        ],
                        "passed_time": 20.41332891,
                        "iteration": 256,
                        "remaining_time": 3.415459701,
                        "learn": [
                          0.9879124188,
                          0.0504839744
                        ]
                      },
                      {
                        "test": [
                          0.9821935484,
                          0.08156002416
                        ],
                        "passed_time": 20.49392006,
                        "iteration": 257,
                        "remaining_time": 3.336219545,
                        "learn": [
                          0.9879554351,
                          0.05042144223
                        ]
                      },
                      {
                        "test": [
                          0.9821935484,
                          0.08157650395
                        ],
                        "passed_time": 20.56803383,
                        "iteration": 258,
                        "remaining_time": 3.25594358,
                        "learn": [
                          0.9879554351,
                          0.05036174664
                        ]
                      },
                      {
                        "test": [
                          0.9821935484,
                          0.08158463596
                        ],
                        "passed_time": 20.64305358,
                        "iteration": 259,
                        "remaining_time": 3.175854398,
                        "learn": [
                          0.9879554351,
                          0.05033296143
                        ]
                      },
                      {
                        "test": [
                          0.9821935484,
                          0.08162395669
                        ],
                        "passed_time": 20.72075412,
                        "iteration": 260,
                        "remaining_time": 3.096204639,
                        "learn": [
                          0.9879554351,
                          0.05027987937
                        ]
                      },
                      {
                        "test": [
                          0.9821935484,
                          0.08169641671
                        ],
                        "passed_time": 20.79805222,
                        "iteration": 261,
                        "remaining_time": 3.016511391,
                        "learn": [
                          0.9879984514,
                          0.05017004645
                        ]
                      },
                      {
                        "test": [
                          0.9823225806,
                          0.08169354749
                        ],
                        "passed_time": 20.87309039,
                        "iteration": 262,
                        "remaining_time": 2.936518421,
                        "learn": [
                          0.9879984514,
                          0.05009341093
                        ]
                      },
                      {
                        "test": [
                          0.9823225806,
                          0.08165875423
                        ],
                        "passed_time": 20.96090878,
                        "iteration": 263,
                        "remaining_time": 2.858305743,
                        "learn": [
                          0.9880414677,
                          0.05003475626
                        ]
                      },
                      {
                        "test": [
                          0.9823225806,
                          0.08162405887
                        ],
                        "passed_time": 21.04452736,
                        "iteration": 264,
                        "remaining_time": 2.779465877,
                        "learn": [
                          0.9880414677,
                          0.04996621304
                        ]
                      },
                      {
                        "test": [
                          0.9823225806,
                          0.08166802958
                        ],
                        "passed_time": 21.12424149,
                        "iteration": 265,
                        "remaining_time": 2.700091018,
                        "learn": [
                          0.988084484,
                          0.04980077566
                        ]
                      },
                      {
                        "test": [
                          0.9823225806,
                          0.08166681768
                        ],
                        "passed_time": 21.22190187,
                        "iteration": 266,
                        "remaining_time": 2.622931692,
                        "learn": [
                          0.988084484,
                          0.04973571853
                        ]
                      },
                      {
                        "test": [
                          0.9823225806,
                          0.0816381643
                        ],
                        "passed_time": 21.30893106,
                        "iteration": 267,
                        "remaining_time": 2.544349978,
                        "learn": [
                          0.9880414677,
                          0.04964699269
                        ]
                      },
                      {
                        "test": [
                          0.9823225806,
                          0.08165629877
                        ],
                        "passed_time": 21.38770124,
                        "iteration": 268,
                        "remaining_time": 2.464753674,
                        "learn": [
                          0.9880414677,
                          0.0496012727
                        ]
                      },
                      {
                        "test": [
                          0.9823225806,
                          0.08160474201
                        ],
                        "passed_time": 21.46371149,
                        "iteration": 269,
                        "remaining_time": 2.384856832,
                        "learn": [
                          0.9881275003,
                          0.04953621057
                        ]
                      },
                      {
                        "test": [
                          0.9823225806,
                          0.08156529559
                        ],
                        "passed_time": 21.5417773,
                        "iteration": 270,
                        "remaining_time": 2.30520864,
                        "learn": [
                          0.9881275003,
                          0.04946372084
                        ]
                      },
                      {
                        "test": [
                          0.9823225806,
                          0.08160128046
                        ],
                        "passed_time": 21.61671719,
                        "iteration": 271,
                        "remaining_time": 2.225250299,
                        "learn": [
                          0.9881705166,
                          0.04941817293
                        ]
                      },
                      {
                        "test": [
                          0.9823225806,
                          0.08162654309
                        ],
                        "passed_time": 21.69437477,
                        "iteration": 272,
                        "remaining_time": 2.145597505,
                        "learn": [
                          0.9881705166,
                          0.04934443715
                        ]
                      },
                      {
                        "test": [
                          0.9823225806,
                          0.08168632249
                        ],
                        "passed_time": 21.76717208,
                        "iteration": 273,
                        "remaining_time": 2.06549808,
                        "learn": [
                          0.9882565492,
                          0.04927162007
                        ]
                      },
                      {
                        "test": [
                          0.9823225806,
                          0.08165617296
                        ],
                        "passed_time": 21.84248021,
                        "iteration": 274,
                        "remaining_time": 1.985680019,
                        "learn": [
                          0.9882565492,
                          0.04922434822
                        ]
                      },
                      {
                        "test": [
                          0.9824516129,
                          0.08166832298
                        ],
                        "passed_time": 21.91610018,
                        "iteration": 275,
                        "remaining_time": 1.905747842,
                        "learn": [
                          0.9882565492,
                          0.04918986976
                        ]
                      },
                      {
                        "test": [
                          0.9824516129,
                          0.08168455655
                        ],
                        "passed_time": 22.00121336,
                        "iteration": 276,
                        "remaining_time": 1.82681555,
                        "learn": [
                          0.9882565492,
                          0.0491203093
                        ]
                      },
                      {
                        "test": [
                          0.9824516129,
                          0.08168971592
                        ],
                        "passed_time": 22.07799103,
                        "iteration": 277,
                        "remaining_time": 1.747179146,
                        "learn": [
                          0.9882565492,
                          0.04907665084
                        ]
                      },
                      {
                        "test": [
                          0.9821935484,
                          0.0816874265
                        ],
                        "passed_time": 22.15182219,
                        "iteration": 278,
                        "remaining_time": 1.667341455,
                        "learn": [
                          0.9883425818,
                          0.04902985237
                        ]
                      },
                      {
                        "test": [
                          0.9824516129,
                          0.08168342992
                        ],
                        "passed_time": 22.24919299,
                        "iteration": 279,
                        "remaining_time": 1.589228071,
                        "learn": [
                          0.9883425818,
                          0.04891209057
                        ]
                      },
                      {
                        "test": [
                          0.9824516129,
                          0.08176861195
                        ],
                        "passed_time": 22.3409969,
                        "iteration": 280,
                        "remaining_time": 1.510601214,
                        "learn": [
                          0.9883855981,
                          0.04874921372
                        ]
                      },
                      {
                        "test": [
                          0.9824516129,
                          0.08178741146
                        ],
                        "passed_time": 22.43238925,
                        "iteration": 281,
                        "remaining_time": 1.431854633,
                        "learn": [
                          0.9883855981,
                          0.04870846526
                        ]
                      },
                      {
                        "test": [
                          0.9821935484,
                          0.08179978455
                        ],
                        "passed_time": 22.51037639,
                        "iteration": 282,
                        "remaining_time": 1.352213423,
                        "learn": [
                          0.9883425818,
                          0.04866117752
                        ]
                      },
                      {
                        "test": [
                          0.9823225806,
                          0.08178707943
                        ],
                        "passed_time": 22.58460155,
                        "iteration": 283,
                        "remaining_time": 1.272371918,
                        "learn": [
                          0.9883855981,
                          0.04860975863
                        ]
                      },
                      {
                        "test": [
                          0.9823225806,
                          0.08180734589
                        ],
                        "passed_time": 22.65881553,
                        "iteration": 284,
                        "remaining_time": 1.192569238,
                        "learn": [
                          0.9883855981,
                          0.0485579935
                        ]
                      },
                      {
                        "test": [
                          0.9823225806,
                          0.08181667008
                        ],
                        "passed_time": 22.73745924,
                        "iteration": 285,
                        "remaining_time": 1.11302248,
                        "learn": [
                          0.9883855981,
                          0.04852837978
                        ]
                      },
                      {
                        "test": [
                          0.9824516129,
                          0.08181314355
                        ],
                        "passed_time": 22.81190371,
                        "iteration": 286,
                        "remaining_time": 1.033291806,
                        "learn": [
                          0.9883855981,
                          0.04849408864
                        ]
                      },
                      {
                        "test": [
                          0.9824516129,
                          0.08184533556
                        ],
                        "passed_time": 22.88563063,
                        "iteration": 287,
                        "remaining_time": 0.9535679431,
                        "learn": [
                          0.9884286144,
                          0.0484521836
                        ]
                      },
                      {
                        "test": [
                          0.9824516129,
                          0.08184413443
                        ],
                        "passed_time": 22.96325404,
                        "iteration": 288,
                        "remaining_time": 0.8740338908,
                        "learn": [
                          0.9884286144,
                          0.04839826871
                        ]
                      },
                      {
                        "test": [
                          0.9824516129,
                          0.0818718085
                        ],
                        "passed_time": 23.05401767,
                        "iteration": 289,
                        "remaining_time": 0.7949661265,
                        "learn": [
                          0.9884286144,
                          0.04832240629
                        ]
                      },
                      {
                        "test": [
                          0.9824516129,
                          0.08186434393
                        ],
                        "passed_time": 23.12861982,
                        "iteration": 290,
                        "remaining_time": 0.7153181386,
                        "learn": [
                          0.9884286144,
                          0.04827838912
                        ]
                      },
                      {
                        "test": [
                          0.9824516129,
                          0.08185346691
                        ],
                        "passed_time": 23.20499026,
                        "iteration": 291,
                        "remaining_time": 0.6357531578,
                        "learn": [
                          0.9884716307,
                          0.04821873557
                        ]
                      },
                      {
                        "test": [
                          0.9824516129,
                          0.08184661691
                        ],
                        "passed_time": 23.3096629,
                        "iteration": 292,
                        "remaining_time": 0.5568861443,
                        "learn": [
                          0.9884716307,
                          0.04814885711
                        ]
                      },
                      {
                        "test": [
                          0.9824516129,
                          0.08181504251
                        ],
                        "passed_time": 23.38817466,
                        "iteration": 293,
                        "remaining_time": 0.4773096868,
                        "learn": [
                          0.9884716307,
                          0.04806254254
                        ]
                      },
                      {
                        "test": [
                          0.9824516129,
                          0.08181308515
                        ],
                        "passed_time": 23.46177444,
                        "iteration": 294,
                        "remaining_time": 0.3976571938,
                        "learn": [
                          0.9884716307,
                          0.04802267429
                        ]
                      },
                      {
                        "test": [
                          0.9824516129,
                          0.08181576837
                        ],
                        "passed_time": 23.54131907,
                        "iteration": 295,
                        "remaining_time": 0.3181259334,
                        "learn": [
                          0.9884716307,
                          0.0479731858
                        ]
                      },
                      {
                        "test": [
                          0.9824516129,
                          0.08182157024
                        ],
                        "passed_time": 23.61627613,
                        "iteration": 296,
                        "remaining_time": 0.2385482437,
                        "learn": [
                          0.9884716307,
                          0.04792277553
                        ]
                      },
                      {
                        "test": [
                          0.9824516129,
                          0.08177379301
                        ],
                        "passed_time": 23.69592359,
                        "iteration": 297,
                        "remaining_time": 0.1590330443,
                        "learn": [
                          0.9884716307,
                          0.04786400123
                        ]
                      },
                      {
                        "test": [
                          0.9824516129,
                          0.08175372771
                        ],
                        "passed_time": 23.77052229,
                        "iteration": 298,
                        "remaining_time": 0.07950007453,
                        "learn": [
                          0.9884716307,
                          0.047836123
                        ]
                      },
                      {
                        "test": [
                          0.9824516129,
                          0.08174612538
                        ],
                        "passed_time": 23.85055541,
                        "iteration": 299,
                        "remaining_time": 0,
                        "learn": [
                          0.9885146471,
                          0.04778150739
                        ]
                      }
                    ]
                  },
                  "total_iterations": 300,
                  "passed_iterations": 299
                },
                "path": "catboost_info",
                "name": "catboost_info"
              }
            },
            "_view_module": "catboost-widget",
            "_model_module_version": "^1.0.0",
            "_view_count": null,
            "_view_module_version": "^1.0.0",
            "layout": "IPY_MODEL_2311b70bebfd4197a726e8950a8009e7",
            "_model_module": "catboost-widget"
          }
        }
      }
    }
  },
  "nbformat": 4,
  "nbformat_minor": 5
}