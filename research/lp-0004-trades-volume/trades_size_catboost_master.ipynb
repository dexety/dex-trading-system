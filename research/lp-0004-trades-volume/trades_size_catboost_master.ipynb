{
  "cells": [
    {
      "cell_type": "code",
      "execution_count": 62,
      "id": "6PWJsnjzBfq1",
      "metadata": {
        "colab": {
          "base_uri": "https://localhost:8080/"
        },
        "id": "6PWJsnjzBfq1",
        "outputId": "0d55a04b-732b-4b13-f515-239305301e99"
      },
      "outputs": [
        {
          "output_type": "stream",
          "name": "stdout",
          "text": [
            "Requirement already satisfied: catboost in /usr/local/lib/python3.7/dist-packages (1.0.4)\n",
            "Requirement already satisfied: matplotlib in /usr/local/lib/python3.7/dist-packages (from catboost) (3.2.2)\n",
            "Requirement already satisfied: scipy in /usr/local/lib/python3.7/dist-packages (from catboost) (1.4.1)\n",
            "Requirement already satisfied: pandas>=0.24.0 in /usr/local/lib/python3.7/dist-packages (from catboost) (1.1.5)\n",
            "Requirement already satisfied: numpy>=1.16.0 in /usr/local/lib/python3.7/dist-packages (from catboost) (1.19.5)\n",
            "Requirement already satisfied: graphviz in /usr/local/lib/python3.7/dist-packages (from catboost) (0.10.1)\n",
            "Requirement already satisfied: plotly in /usr/local/lib/python3.7/dist-packages (from catboost) (4.4.1)\n",
            "Requirement already satisfied: six in /usr/local/lib/python3.7/dist-packages (from catboost) (1.15.0)\n",
            "Requirement already satisfied: pytz>=2017.2 in /usr/local/lib/python3.7/dist-packages (from pandas>=0.24.0->catboost) (2018.9)\n",
            "Requirement already satisfied: python-dateutil>=2.7.3 in /usr/local/lib/python3.7/dist-packages (from pandas>=0.24.0->catboost) (2.8.2)\n",
            "Requirement already satisfied: kiwisolver>=1.0.1 in /usr/local/lib/python3.7/dist-packages (from matplotlib->catboost) (1.3.2)\n",
            "Requirement already satisfied: cycler>=0.10 in /usr/local/lib/python3.7/dist-packages (from matplotlib->catboost) (0.11.0)\n",
            "Requirement already satisfied: pyparsing!=2.0.4,!=2.1.2,!=2.1.6,>=2.0.1 in /usr/local/lib/python3.7/dist-packages (from matplotlib->catboost) (3.0.6)\n",
            "Requirement already satisfied: retrying>=1.3.3 in /usr/local/lib/python3.7/dist-packages (from plotly->catboost) (1.3.3)\n",
            "Requirement already satisfied: hyperopt==0.2.5 in /usr/local/lib/python3.7/dist-packages (0.2.5)\n",
            "Requirement already satisfied: six in /usr/local/lib/python3.7/dist-packages (from hyperopt==0.2.5) (1.15.0)\n",
            "Requirement already satisfied: numpy in /usr/local/lib/python3.7/dist-packages (from hyperopt==0.2.5) (1.19.5)\n",
            "Requirement already satisfied: networkx>=2.2 in /usr/local/lib/python3.7/dist-packages (from hyperopt==0.2.5) (2.6.3)\n",
            "Requirement already satisfied: tqdm in /usr/local/lib/python3.7/dist-packages (from hyperopt==0.2.5) (4.62.3)\n",
            "Requirement already satisfied: cloudpickle in /usr/local/lib/python3.7/dist-packages (from hyperopt==0.2.5) (1.3.0)\n",
            "Requirement already satisfied: future in /usr/local/lib/python3.7/dist-packages (from hyperopt==0.2.5) (0.16.0)\n",
            "Requirement already satisfied: scipy in /usr/local/lib/python3.7/dist-packages (from hyperopt==0.2.5) (1.4.1)\n"
          ]
        }
      ],
      "source": [
        "!pip3 install catboost\n",
        "!pip3 install hyperopt==0.2.5"
      ]
    },
    {
      "cell_type": "code",
      "source": [
        "from google.colab import drive\n",
        "drive.mount('/content/drive')"
      ],
      "metadata": {
        "colab": {
          "base_uri": "https://localhost:8080/"
        },
        "id": "DWI_e1FSru3w",
        "outputId": "52cc2635-985b-4ee0-d8c1-e2fddba035df"
      },
      "id": "DWI_e1FSru3w",
      "execution_count": 63,
      "outputs": [
        {
          "output_type": "stream",
          "name": "stdout",
          "text": [
            "Drive already mounted at /content/drive; to attempt to forcibly remount, call drive.mount(\"/content/drive\", force_remount=True).\n"
          ]
        }
      ]
    },
    {
      "cell_type": "code",
      "execution_count": 64,
      "id": "vjlvDT-QXrD0",
      "metadata": {
        "id": "vjlvDT-QXrD0"
      },
      "outputs": [],
      "source": [
        "import pandas as pd\n",
        "import numpy as np\n",
        "from catboost import CatBoostClassifier, Pool, metrics, cv\n",
        "from sklearn.metrics import accuracy_score\n",
        "from sklearn.model_selection import train_test_split\n",
        "import random\n",
        "from numpy.random import RandomState\n",
        "from catboost.utils import select_threshold"
      ]
    },
    {
      "cell_type": "code",
      "source": [
        "csv_path = \"drive/MyDrive/trades-df-2021_8_1_0_0_0-2022_1_22_0_0_0.csv\"\n",
        "df = pd.read_csv(csv_path)\n",
        "x_columns = list(filter(lambda column: not 'punch' in column, df.columns))\n",
        "y_columns = list(filter(lambda column: 'punch' in column, df.columns))\n",
        "\n",
        "commision = 0.0005\n",
        "punch = commision * 4\n",
        "\n",
        "df['target'] = df[y_columns].apply(\n",
        "    lambda row :\n",
        "        1\n",
        "        if max(list(row.to_numpy()), key=abs) > punch\n",
        "        else\n",
        "          -1\n",
        "          if max(list(row.to_numpy()), key=abs) < -punch\n",
        "          else\n",
        "          0,\n",
        "    axis = 1\n",
        ")\n",
        "df = df.drop(y_columns, axis=1)\n",
        "\n",
        "lines_to_drop = []\n",
        "\n",
        "for index, line in df.iterrows():\n",
        "    if np.random.rand() < 0.9 and line['target'] == 0:\n",
        "        lines_to_drop.append(index)\n",
        "\n",
        "df = df.drop(lines_to_drop)\n",
        "\n",
        "X = df[x_columns]\n",
        "y = df['target']\n",
        "\n",
        "print(y.value_counts())"
      ],
      "metadata": {
        "colab": {
          "base_uri": "https://localhost:8080/"
        },
        "id": "MIzvSjw6jgAn",
        "outputId": "c89c043c-aaa7-49d7-d0b1-b003cf3f25a5"
      },
      "id": "MIzvSjw6jgAn",
      "execution_count": 71,
      "outputs": [
        {
          "output_type": "stream",
          "name": "stdout",
          "text": [
            " 0    24158\n",
            "-1     1931\n",
            " 1     1530\n",
            "Name: target, dtype: int64\n"
          ]
        }
      ]
    },
    {
      "cell_type": "code",
      "source": [
        "buckets_num = 50\n",
        "buckets = [df[len(df) // buckets_num * i:len(df) // buckets_num * (i + 1)] for i in range(buckets_num)]\n",
        "random.shuffle(buckets)\n",
        "df_train = pd.concat(buckets[:int(buckets_num * 0.75)], ignore_index=True)\n",
        "df_validate = pd.concat(buckets[int(buckets_num * 0.75):int(buckets_num * 0.90)], ignore_index=True)\n",
        "df_test = pd.concat(buckets[int(buckets_num * 0.90):], ignore_index=True)\n",
        "\n",
        "X_train = df_train[x_columns]\n",
        "y_train = df_train['target']\n",
        "\n",
        "X_validation = df_validate[x_columns]\n",
        "y_validation = df_validate['target']\n",
        "\n",
        "X_test = df_test[x_columns]\n",
        "y_test = df_test['target']"
      ],
      "metadata": {
        "id": "xqBcAzBTmMj8"
      },
      "id": "xqBcAzBTmMj8",
      "execution_count": 73,
      "outputs": []
    },
    {
      "cell_type": "code",
      "execution_count": 91,
      "id": "f0753b54-1efd-4f34-ba92-2547bb0e854a",
      "metadata": {
        "id": "f0753b54-1efd-4f34-ba92-2547bb0e854a",
        "colab": {
          "base_uri": "https://localhost:8080/",
          "height": 1000,
          "referenced_widgets": [
            "0fdcf74ea6544a7b9b3ec09456f59a66"
          ]
        },
        "outputId": "49313c8d-8fab-45d9-fc13-3acc8f4fea72"
      },
      "outputs": [
        {
          "output_type": "display_data",
          "data": {
            "application/vnd.jupyter.widget-view+json": {
              "model_id": "0fdcf74ea6544a7b9b3ec09456f59a66",
              "version_minor": 0,
              "version_major": 2
            },
            "text/plain": [
              "MetricVisualizer(layout=Layout(align_self='stretch', height='500px'))"
            ]
          },
          "metadata": {}
        },
        {
          "output_type": "stream",
          "name": "stdout",
          "text": [
            "Model validation accuracy: 0.8761\n",
            "[[0]\n",
            " [0]\n",
            " [0]\n",
            " [0]\n",
            " [0]\n",
            " [0]\n",
            " [1]\n",
            " [1]\n",
            " [0]\n",
            " [0]]\n",
            "[[0.04340433 0.84639539 0.11020028]\n",
            " [0.11589482 0.85828195 0.02582323]\n",
            " [0.21802179 0.76288291 0.0190953 ]\n",
            " [0.06947326 0.86723747 0.06328927]\n",
            " [0.43673402 0.48593175 0.07733423]\n",
            " [0.056552   0.80756479 0.1358832 ]\n",
            " [0.11143087 0.40057794 0.4879912 ]\n",
            " [0.13522131 0.03034692 0.83443178]\n",
            " [0.09902089 0.85204441 0.0489347 ]\n",
            " [0.03812738 0.92185795 0.04001466]]\n",
            "90    0\n",
            "91    0\n",
            "92    0\n",
            "93    0\n",
            "94    0\n",
            "95    0\n",
            "96    1\n",
            "97   -1\n",
            "98    0\n",
            "99    0\n",
            "Name: target, dtype: int64\n",
            "stochastic-oscillator-BUY-600-sec: 7.865798112672247\n",
            "open-close-diff-BUY-60-sec: 7.366099702346431\n",
            "open-close-diff-SELL-60-sec: 7.238802430276778\n",
            "stochastic-oscillator-SELL-600-sec: 6.850423063816627\n",
            "open-close-diff-SELL-600-sec: 6.5152739404546995\n",
            "open-close-diff-BUY-600-sec: 5.500581904846733\n",
            "open-close-diff-SELL-30-sec: 3.2409160851221475\n",
            "open-close-diff-BUY-30-sec: 3.2393833621226356\n",
            "trade-amount-SELL-1-sec: 2.7683564745613434\n",
            "seconds-since-1000-trades-ago-SELL: 2.4148233799018954\n",
            "seconds-since-100-trades-ago-BUY: 1.9919915452033308\n",
            "trade-amount-SELL-600-sec: 1.839403942466527\n",
            "trade-amount-SELL-5-sec: 1.812053584364545\n",
            "seconds-since-1000-trades-ago-BUY: 1.8004744494495581\n",
            "trade-amount-BUY-1-sec: 1.6011898035589143\n",
            "stochastic-oscillator-SELL-60-sec: 1.5369993608160468\n",
            "trade-volume-BUY-600-sec: 1.5111149032114617\n",
            "stochastic-oscillator-BUY-60-sec: 1.4844387136713844\n",
            "trade-amount-SELL-10-sec: 1.4201648865645191\n",
            "seconds-since-10-trades-ago-SELL: 1.3185402557582422\n",
            "seconds-since-50-trades-ago-BUY: 1.267060941088768\n",
            "trade-amount-BUY-30-sec: 1.248163715234717\n",
            "seconds-since-midnight: 1.2393006837686595\n",
            "seconds-since-10-trades-ago-BUY: 1.2249368339089353\n",
            "seconds-since-100-trades-ago-SELL: 1.1781598917174114\n",
            "trade-amount-BUY-600-sec: 1.1706944554416199\n",
            "trade-amount-SELL-60-sec: 1.0985663291395662\n",
            "trade-amount-BUY-10-sec: 1.047800411822089\n",
            "open-close-diff-SELL-10-sec: 1.0448227365346785\n",
            "open-close-diff-SELL-1-sec: 0.9528353663956022\n",
            "trade-amount-BUY-5-sec: 0.9480415249481825\n",
            "seconds-since-50-trades-ago-SELL: 0.8753886530965296\n",
            "trade-amount-SELL-30-sec: 0.7872581920157716\n",
            "trade-volume-SELL-60-sec: 0.7706447303655061\n",
            "open-close-diff-BUY-10-sec: 0.7151444894964409\n",
            "trade-volume-SELL-600-sec: 0.7054778277365367\n",
            "weighted-moving-average-BUY-5-sec: 0.645836574371966\n",
            "trade-volume-SELL-5-sec: 0.6042638891048956\n",
            "stochastic-oscillator-BUY-1-sec: 0.6041379834182579\n",
            "trade-volume-SELL-30-sec: 0.5953638142203445\n",
            "stochastic-oscillator-SELL-30-sec: 0.5867262721649249\n",
            "trade-volume-BUY-60-sec: 0.5850586289148351\n",
            "open-close-diff-BUY-1-sec: 0.554263197093162\n",
            "trade-volume-BUY-1-sec: 0.5047820752379812\n",
            "trade-volume-BUY-10-sec: 0.48067611751348727\n",
            "trade-volume-SELL-1-sec: 0.48008515315455214\n",
            "open-close-diff-SELL-5-sec: 0.4688474285823228\n",
            "weighted-moving-average-SELL-600-sec: 0.4306646182706593\n",
            "open-close-diff-BUY-5-sec: 0.4148052872044013\n",
            "trade-volume-SELL-10-sec: 0.40747035989055286\n",
            "seconds-since-1-trades-ago-BUY: 0.38733930741924055\n",
            "weighted-moving-average-BUY-10-sec: 0.3863541385072786\n",
            "weighted-moving-average-BUY-60-sec: 0.3855924477844809\n",
            "trade-volume-BUY-30-sec: 0.37543401659602166\n",
            "trade-amount-BUY-60-sec: 0.3631238315844403\n",
            "trade-volume-BUY-5-sec: 0.29878579340755634\n",
            "seconds-since-1-trades-ago-SELL: 0.27851032818557575\n",
            "exp-moving-average-SELL-600-sec: 0.2678574447496061\n",
            "exp-moving-average-BUY-10-sec: 0.26195325326327995\n",
            "stochastic-oscillator-BUY-10-sec: 0.26140325058731606\n",
            "exp-moving-average-BUY-600-sec: 0.2612585958177387\n",
            "exp-moving-average-BUY-5-sec: 0.252268205994416\n",
            "weighted-moving-average-SELL-60-sec: 0.24443483508920394\n",
            "moving-average-BUY-600-sec: 0.24247020614832232\n",
            "exp-moving-average-SELL-30-sec: 0.23784374210442275\n",
            "exp-moving-average-BUY-1-sec: 0.214651765989267\n",
            "stochastic-oscillator-BUY-30-sec: 0.19887137605716082\n",
            "moving-average-SELL-600-sec: 0.19265169435943508\n",
            "weighted-moving-average-BUY-600-sec: 0.18606836672685617\n",
            "weighted-moving-average-BUY-30-sec: 0.1677243112207588\n",
            "stochastic-oscillator-SELL-10-sec: 0.14240567511185956\n",
            "weighted-moving-average-SELL-10-sec: 0.1368080071787567\n",
            "exp-moving-average-SELL-1-sec: 0.13134809394932492\n",
            "exp-moving-average-SELL-10-sec: 0.11735285078135865\n",
            "weighted-moving-average-SELL-30-sec: 0.10875953941444842\n",
            "moving-average-SELL-5-sec: 0.1086584885497069\n",
            "moving-average-SELL-1-sec: 0.10564692802298738\n",
            "moving-average-SELL-10-sec: 0.10077907062800154\n",
            "weighted-moving-average-SELL-5-sec: 0.09441955202298258\n",
            "exp-moving-average-BUY-60-sec: 0.0862962264661303\n",
            "exp-moving-average-BUY-30-sec: 0.08243366750486984\n",
            "moving-average-BUY-30-sec: 0.07648501159551047\n",
            "moving-average-BUY-60-sec: 0.058388415693037175\n",
            "stochastic-oscillator-SELL-5-sec: 0.05740680048179912\n",
            "exp-moving-average-SELL-60-sec: 0.03333022769805064\n",
            "stochastic-oscillator-BUY-5-sec: 0.03130284893292906\n",
            "moving-average-BUY-1-sec: 0.02899209563699151\n",
            "moving-average-SELL-60-sec: 0.02089543184615089\n",
            "moving-average-BUY-10-sec: 0.015694250369434837\n",
            "stochastic-oscillator-SELL-1-sec: 0.014128370580706432\n",
            "moving-average-SELL-30-sec: 0.009469902327526281\n",
            "moving-average-BUY-5-sec: 0.00767322628133343\n",
            "exp-moving-average-SELL-5-sec: 0.006688250368356241\n",
            "weighted-moving-average-SELL-1-sec: 0.00593207392588606\n",
            "weighted-moving-average-BUY-1-sec: 0.0\n"
          ]
        }
      ],
      "source": [
        "params = {\n",
        "    'iterations': 500,\n",
        "    'l2_leaf_reg': 2,\n",
        "    'learning_rate': 0.1,\n",
        "    'custom_loss': [metrics.Accuracy()],\n",
        "    'eval_metric': metrics.Accuracy(),\n",
        "    'random_seed': 42,\n",
        "    'depth': 5,\n",
        "    'logging_level': 'Silent',\n",
        "    'loss_function': 'MultiClass',\n",
        "}\n",
        "train_pool = Pool(X_train, y_train)\n",
        "validate_pool = Pool(X_validation, y_validation)\n",
        "\n",
        "model = CatBoostClassifier(**params)\n",
        "model.fit(\n",
        "    train_pool,\n",
        "    eval_set=validate_pool,\n",
        "    plot=True,\n",
        ")\n",
        "model.save_model('catboost_model.dump')\n",
        "\n",
        "print('Model validation accuracy: {:.4}'.format(\n",
        "    accuracy_score(y_test, model.predict(X_test))\n",
        "))\n",
        "predictions = model.predict(X_test)\n",
        "predictions = predictions.reshape(predictions.shape[0], 1)\n",
        "predictions_probs = model.predict_proba(X_test)\n",
        "print(predictions[90:100])\n",
        "print(predictions_probs[90:100])\n",
        "print(y_test[90:100])\n",
        "feature_importances = model.get_feature_importance(train_pool)\n",
        "feature_names = X_train.columns\n",
        "for score, name in sorted(zip(feature_importances, feature_names), reverse=True):\n",
        "    print('{}: {}'.format(name, score))"
      ]
    },
    {
      "cell_type": "code",
      "source": [
        "def calculate_profit(prob_threshold, diff_threshold, null_threshold):\n",
        "    p = f(prob_threshold, diff_threshold, null_threshold)\n",
        "    result = {\n",
        "        'correct_predictions': 0,\n",
        "        'false_positive': 0,\n",
        "        'false_negative': 0,\n",
        "        'wrong_side': 0,\n",
        "    }\n",
        "    for i in range(len(p)):\n",
        "        t = int(y_test[i:i+1])\n",
        "        if p[i] == t != 0:\n",
        "            result['correct_predictions'] += 1\n",
        "        elif p[i] != t and t != 0 and p[i] != 0:\n",
        "            result['wrong_side'] += 1\n",
        "        elif p[i] != 0 and t == 0:\n",
        "            result['false_positive'] += 1\n",
        "        elif p[i] == 0 and t != 0:\n",
        "            result['false_negative'] += 1\n",
        "\n",
        "    result['correct_predictions_pc'] = result['correct_predictions'] / len(y_test)\n",
        "    result['false_positive_pc'] = result['false_positive'] / len(y_test)\n",
        "    result['false_negative_pc'] = result['false_negative'] / len(y_test)\n",
        "    result['wrong_side_pc'] = result['wrong_side'] / len(y_test)\n",
        "    \n",
        "    return (\n",
        "          len(y) * result['correct_predictions_pc'] * (punch - 2 * commision)\n",
        "          -\n",
        "          len(y) * result['false_positive_pc'] * 2 * commision\n",
        "          -\n",
        "          len(y) * result['wrong_side_pc'] * (punch + 2 * commision)\n",
        "    )\n",
        "\n",
        "results = []\n",
        "def f(prob_threshold, diff_threshold, null_threshold):\n",
        "    p = np.array((list(map(lambda row:\n",
        "                          1\n",
        "                          if row[2] > prob_threshold\n",
        "                              # and row[2] == max(row)\n",
        "                              and row[2] > row[0]\n",
        "                              and row[1] < null_threshold\n",
        "                              and abs(row[2] - row[0]) > diff_threshold\n",
        "                              and abs(row[2] - row[1]) > diff_threshold\n",
        "                          else\n",
        "                          -1\n",
        "                          if row[0] > prob_threshold\n",
        "                              # and row[0] == max(row)\n",
        "                              and row[0] > row[2]\n",
        "                              and row[1] < null_threshold\n",
        "                              and abs(row[0] - row[2]) > diff_threshold\n",
        "                              and abs(row[0] - row[1]) > diff_threshold\n",
        "                          else 0,\n",
        "                          predictions_probs))))\n",
        "    result = {\n",
        "        'correct_predictions': 0,\n",
        "        'false_positive': 0,\n",
        "        'false_negative': 0,\n",
        "        'wrong_side': 0,\n",
        "    }\n",
        "    for i in range(len(p)):\n",
        "        t = int(y_test[i:i+1])\n",
        "        if p[i] == t != 0:\n",
        "            result['correct_predictions'] += 1\n",
        "        elif p[i] != t and t != 0 and p[i] != 0:\n",
        "            result['wrong_side'] += 1\n",
        "        elif p[i] != 0 and t == 0:\n",
        "            result['false_positive'] += 1\n",
        "        elif p[i] == 0 and t != 0:\n",
        "            result['false_negative'] += 1\n",
        "\n",
        "    result['correct_predictions'] /= len(y_test)\n",
        "    result['false_positive'] /= len(y_test)\n",
        "    result['false_negative'] /= len(y_test)\n",
        "    result['wrong_side'] /= len(y_test)\n",
        "    result['prob_threshold'] = prob_threshold\n",
        "    result['diff_threshold'] = diff_threshold\n",
        "    result['null_threshold'] = null_threshold\n",
        "    results.append(result)\n",
        "    return p"
      ],
      "metadata": {
        "id": "XRZYcGeJ2hCl"
      },
      "id": "XRZYcGeJ2hCl",
      "execution_count": 80,
      "outputs": []
    },
    {
      "cell_type": "code",
      "execution_count": 81,
      "id": "nYtYQuKh3n8N",
      "metadata": {
        "id": "nYtYQuKh3n8N"
      },
      "outputs": [],
      "source": [
        "for null_threshold in np.arange(0.5, 0.8, 0.1):\n",
        "    for prob_threshold in np.arange(0.3, 0.7, 0.1):\n",
        "        for diff_threshold in np.arange(0.00, 0.20, 0.05):\n",
        "            f(prob_threshold, diff_threshold, null_threshold)"
      ]
    },
    {
      "cell_type": "code",
      "execution_count": 77,
      "id": "uibgvIlGhC_s",
      "metadata": {
        "id": "uibgvIlGhC_s",
        "colab": {
          "base_uri": "https://localhost:8080/",
          "height": 184
        },
        "outputId": "92aaeeff-89c8-4c83-e29f-91a8d118942d"
      },
      "outputs": [
        {
          "output_type": "error",
          "ename": "IndexError",
          "evalue": "ignored",
          "traceback": [
            "\u001b[0;31m---------------------------------------------------------------------------\u001b[0m",
            "\u001b[0;31mIndexError\u001b[0m                                Traceback (most recent call last)",
            "\u001b[0;32m<ipython-input-77-2ed7d639765e>\u001b[0m in \u001b[0;36m<module>\u001b[0;34m()\u001b[0m\n\u001b[1;32m      1\u001b[0m \u001b[0mresults\u001b[0m \u001b[0;34m=\u001b[0m \u001b[0mlist\u001b[0m\u001b[0;34m(\u001b[0m\u001b[0msorted\u001b[0m\u001b[0;34m(\u001b[0m\u001b[0mresults\u001b[0m\u001b[0;34m,\u001b[0m \u001b[0mkey\u001b[0m\u001b[0;34m=\u001b[0m\u001b[0;32mlambda\u001b[0m \u001b[0mresult\u001b[0m\u001b[0;34m:\u001b[0m \u001b[0;34m-\u001b[0m\u001b[0mcalculate_profit\u001b[0m\u001b[0;34m(\u001b[0m\u001b[0mresult\u001b[0m\u001b[0;34m[\u001b[0m\u001b[0;34m'prob_threshold'\u001b[0m\u001b[0;34m]\u001b[0m\u001b[0;34m,\u001b[0m \u001b[0mresult\u001b[0m\u001b[0;34m[\u001b[0m\u001b[0;34m'diff_threshold'\u001b[0m\u001b[0;34m]\u001b[0m\u001b[0;34m,\u001b[0m \u001b[0mresult\u001b[0m\u001b[0;34m[\u001b[0m\u001b[0;34m'null_threshold'\u001b[0m\u001b[0;34m]\u001b[0m\u001b[0;34m)\u001b[0m\u001b[0;34m)\u001b[0m\u001b[0;34m)\u001b[0m\u001b[0;34m\u001b[0m\u001b[0;34m\u001b[0m\u001b[0m\n\u001b[0;32m----> 2\u001b[0;31m \u001b[0mprint\u001b[0m\u001b[0;34m(\u001b[0m\u001b[0mresults\u001b[0m\u001b[0;34m[\u001b[0m\u001b[0;36m0\u001b[0m\u001b[0;34m]\u001b[0m\u001b[0;34m)\u001b[0m\u001b[0;34m\u001b[0m\u001b[0;34m\u001b[0m\u001b[0m\n\u001b[0m",
            "\u001b[0;31mIndexError\u001b[0m: list index out of range"
          ]
        }
      ],
      "source": [
        "results = list(sorted(results, key=lambda result: -calculate_profit(result['prob_threshold'], result['diff_threshold'], result['null_threshold'])))\n",
        "print(results[0])"
      ]
    },
    {
      "cell_type": "code",
      "source": [
        "print(results[0])"
      ],
      "metadata": {
        "colab": {
          "base_uri": "https://localhost:8080/"
        },
        "id": "_mG5Sv1srio_",
        "outputId": "d27ed0c0-3ddd-44d4-9813-81d7314ed913"
      },
      "id": "_mG5Sv1srio_",
      "execution_count": 83,
      "outputs": [
        {
          "output_type": "stream",
          "name": "stdout",
          "text": [
            "{'correct_predictions': 0.1355072463768116, 'false_positive': 0.03297101449275362, 'false_negative': 0.06920289855072463, 'wrong_side': 0.021014492753623187, 'prob_threshold': 0.3, 'diff_threshold': 0.0, 'null_threshold': 0.5}\n"
          ]
        }
      ]
    },
    {
      "cell_type": "code",
      "execution_count": 85,
      "id": "YVf5Mi0OZMzL",
      "metadata": {
        "colab": {
          "base_uri": "https://localhost:8080/"
        },
        "id": "YVf5Mi0OZMzL",
        "outputId": "d889904e-8d8d-48ff-d970-50b5bed4b4ea"
      },
      "outputs": [
        {
          "output_type": "stream",
          "name": "stdout",
          "text": [
            "prob_threshold 0.3, diff_threshold 0.0, null_threshold 0.5\n",
            "accuracy 0.8768115942028986\n",
            "{'correct_predictions': 374, 'false_positive': 91, 'false_negative': 191, 'wrong_side': 58, 'correct_predictions_pc': 0.1355072463768116, 'false_positive_pc': 0.03297101449275362, 'false_negative_pc': 0.06920289855072463, 'wrong_side_pc': 0.021014492753623187}\n"
          ]
        }
      ],
      "source": [
        "prob_threshold = results[0]['prob_threshold']\n",
        "diff_threshold = results[0]['diff_threshold']\n",
        "null_threshold = results[0]['null_threshold']\n",
        "\n",
        "print(f\"prob_threshold {prob_threshold}, diff_threshold {diff_threshold}, null_threshold {null_threshold}\")\n",
        "p = f(prob_threshold, diff_threshold, null_threshold)\n",
        "print('accuracy', accuracy_score(p, y_test))\n",
        "result = {\n",
        "    'correct_predictions': 0,\n",
        "    'false_positive': 0,\n",
        "    'false_negative': 0,\n",
        "    'wrong_side': 0,\n",
        "}\n",
        "for i in range(len(p)):\n",
        "    t = int(y_test[i:i+1])\n",
        "    if p[i] == t != 0:\n",
        "        result['correct_predictions'] += 1\n",
        "    elif p[i] != t and t != 0 and p[i] != 0:\n",
        "        result['wrong_side'] += 1\n",
        "    elif p[i] != 0 and t == 0:\n",
        "        result['false_positive'] += 1\n",
        "    elif p[i] == 0 and t != 0:\n",
        "        result['false_negative'] += 1\n",
        "\n",
        "result['correct_predictions_pc'] = result['correct_predictions'] / len(y_test)\n",
        "result['false_positive_pc'] = result['false_positive'] / len(y_test)\n",
        "result['false_negative_pc'] = result['false_negative'] / len(y_test)\n",
        "result['wrong_side_pc'] = result['wrong_side'] / len(y_test)\n",
        "print(result)"
      ]
    },
    {
      "cell_type": "code",
      "execution_count": 86,
      "id": "gMozO7JrZ3de",
      "metadata": {
        "colab": {
          "base_uri": "https://localhost:8080/"
        },
        "id": "gMozO7JrZ3de",
        "outputId": "a19300e1-6ef0-4c21-db73-a0800b4e5932"
      },
      "outputs": [
        {
          "output_type": "stream",
          "name": "stdout",
          "text": [
            "profit from 3000$ fot 2 months 3276.16086956522 $ 109.20536231884066 %\n"
          ]
        }
      ],
      "source": [
        "profit = calculate_profit(prob_threshold, diff_threshold, null_threshold)\n",
        "print(\n",
        "    'profit from 3000$ fot 2 months',\n",
        "    profit * 3000,\n",
        "    '$',\n",
        "    profit * 100,\n",
        "    '%'\n",
        ")"
      ]
    },
    {
      "cell_type": "code",
      "execution_count": 90,
      "id": "_Gh3CUGM6K-c",
      "metadata": {
        "colab": {
          "base_uri": "https://localhost:8080/"
        },
        "id": "_Gh3CUGM6K-c",
        "outputId": "7c2fb1f7-9dfa-40c3-d71d-07598fc06af5"
      },
      "outputs": [
        {
          "output_type": "stream",
          "name": "stdout",
          "text": [
            "Correct accuracy = correct prediction / total positive num = 0.6003210272873194\n",
            "FPR = false positive / total negative num = 0.04258306036499766\n",
            "FNR = false negative / total positive num = 0.30658105939004815\n",
            "Model in 83.94863563402889% of cases with probability 71.51051625239006% predict a correct market jump\n"
          ]
        }
      ],
      "source": [
        "correct_accuracy = result['correct_predictions'] / len(y_test[y_test != 0])\n",
        "print(\n",
        "f\"Correct accuracy = correct prediction / total positive num = {correct_accuracy}\"\n",
        ")\n",
        "FPR = result['false_positive'] / len(y_test[y_test == 0])\n",
        "print(\n",
        "f\"FPR = false positive / total negative num = {FPR}\"\n",
        ")\n",
        "FNR = result['false_negative'] / len(y_test[y_test  != 0])\n",
        "print(\n",
        "f\"FNR = false negative / total positive num = {FNR}\"\n",
        ")\n",
        "cases_pc = (result['correct_predictions'] + result['false_positive'] + result['wrong_side']) / len(y_test[y_test != 0]) * 100\n",
        "probability_pc = result['correct_predictions'] / (result['correct_predictions'] + result['false_positive'] + result['wrong_side']) * 100\n",
        "print(\n",
        "f\"Model in {cases_pc}% of cases with probability {probability_pc}% predict a correct market jump\"\n",
        ")"
      ]
    },
    {
      "cell_type": "code",
      "source": [
        ""
      ],
      "metadata": {
        "id": "g2apqf9qr2q-"
      },
      "id": "g2apqf9qr2q-",
      "execution_count": null,
      "outputs": []
    }
  ],
  "metadata": {
    "colab": {
      "collapsed_sections": [],
      "name": "trades_size_catboost_master.ipynb",
      "provenance": []
    },
    "kernelspec": {
      "display_name": "Python 3",
      "language": "python",
      "name": "python3"
    },
    "language_info": {
      "codemirror_mode": {
        "name": "ipython",
        "version": 3
      },
      "file_extension": ".py",
      "mimetype": "text/x-python",
      "name": "python",
      "nbconvert_exporter": "python",
      "pygments_lexer": "ipython3",
      "version": "3.8.10"
    },
    "widgets": {
      "application/vnd.jupyter.widget-state+json": {
        "0fdcf74ea6544a7b9b3ec09456f59a66": {
          "model_module": "catboost-widget",
          "model_name": "CatboostWidgetModel",
          "model_module_version": "^1.0.0",
          "state": {
            "_view_name": "CatboostWidgetView",
            "_dom_classes": [],
            "_model_name": "CatboostWidgetModel",
            "data": {
              "catboost_info": {
                "content": {
                  "data": {
                    "meta": {
                      "name": "experiment",
                      "parameters": "",
                      "test_metrics": [
                        {
                          "best_value": "Max",
                          "name": "Accuracy"
                        },
                        {
                          "best_value": "Min",
                          "name": "MultiClass"
                        }
                      ],
                      "learn_sets": [
                        "learn"
                      ],
                      "launch_mode": "Train",
                      "learn_metrics": [
                        {
                          "best_value": "Max",
                          "name": "Accuracy"
                        },
                        {
                          "best_value": "Min",
                          "name": "MultiClass"
                        }
                      ],
                      "iteration_count": 500,
                      "test_sets": [
                        "test"
                      ]
                    },
                    "iterations": [
                      {
                        "test": [
                          0.9110054348,
                          0.9495194757
                        ],
                        "passed_time": 0.1341770241,
                        "iteration": 0,
                        "remaining_time": 66.95433501,
                        "learn": [
                          0.8883176655,
                          0.9604104992
                        ]
                      },
                      {
                        "test": [
                          0.9110054348,
                          0.8356915837
                        ],
                        "passed_time": 0.2169089713,
                        "iteration": 1,
                        "remaining_time": 54.01033385,
                        "learn": [
                          0.8919408539,
                          0.8525424677
                        ]
                      },
                      {
                        "test": [
                          0.9110054348,
                          0.7492491524
                        ],
                        "passed_time": 0.318815789,
                        "iteration": 2,
                        "remaining_time": 52.81714905,
                        "learn": [
                          0.8906188797,
                          0.7715852726
                        ]
                      },
                      {
                        "test": [
                          0.9110054348,
                          0.6792542521
                        ],
                        "passed_time": 0.4045293028,
                        "iteration": 3,
                        "remaining_time": 50.16163355,
                        "learn": [
                          0.8907168038,
                          0.7037533621
                        ]
                      },
                      {
                        "test": [
                          0.9110054348,
                          0.623155115
                        ],
                        "passed_time": 0.5053254814,
                        "iteration": 4,
                        "remaining_time": 50.02722266,
                        "learn": [
                          0.8912064238,
                          0.647753011
                        ]
                      },
                      {
                        "test": [
                          0.9110054348,
                          0.5735881764
                        ],
                        "passed_time": 0.598459956,
                        "iteration": 5,
                        "remaining_time": 49.27320304,
                        "learn": [
                          0.892920094,
                          0.598888243
                        ]
                      },
                      {
                        "test": [
                          0.9110054348,
                          0.5319189232
                        ],
                        "passed_time": 0.7441808352,
                        "iteration": 6,
                        "remaining_time": 52.41159311,
                        "learn": [
                          0.89257736,
                          0.5592124103
                        ]
                      },
                      {
                        "test": [
                          0.9110054348,
                          0.4983179073
                        ],
                        "passed_time": 0.8440976479,
                        "iteration": 7,
                        "remaining_time": 51.91200535,
                        "learn": [
                          0.8938993341,
                          0.5252494444
                        ]
                      },
                      {
                        "test": [
                          0.9114583333,
                          0.4663491876
                        ],
                        "passed_time": 0.9468760469,
                        "iteration": 8,
                        "remaining_time": 51.65734878,
                        "learn": [
                          0.8952213083,
                          0.4929182181
                        ]
                      },
                      {
                        "test": [
                          0.9114583333,
                          0.4402474245
                        ],
                        "passed_time": 1.04825113,
                        "iteration": 9,
                        "remaining_time": 51.36430536,
                        "learn": [
                          0.8963474344,
                          0.4665980447
                        ]
                      },
                      {
                        "test": [
                          0.9116847826,
                          0.4170748806
                        ],
                        "passed_time": 1.140130656,
                        "iteration": 10,
                        "remaining_time": 50.68399006,
                        "learn": [
                          0.8967880924,
                          0.4425802926
                        ]
                      },
                      {
                        "test": [
                          0.9119112319,
                          0.3957028075
                        ],
                        "passed_time": 1.24715847,
                        "iteration": 11,
                        "remaining_time": 50.71777777,
                        "learn": [
                          0.8977183705,
                          0.4213345387
                        ]
                      },
                      {
                        "test": [
                          0.912817029,
                          0.3782017102
                        ],
                        "passed_time": 1.323263869,
                        "iteration": 12,
                        "remaining_time": 49.57150032,
                        "learn": [
                          0.8982569526,
                          0.4039287739
                        ]
                      },
                      {
                        "test": [
                          0.9125905797,
                          0.3628049196
                        ],
                        "passed_time": 1.435375138,
                        "iteration": 13,
                        "remaining_time": 49.82802266,
                        "learn": [
                          0.8993341167,
                          0.3874361997
                        ]
                      },
                      {
                        "test": [
                          0.9130434783,
                          0.3490841874
                        ],
                        "passed_time": 1.53916915,
                        "iteration": 14,
                        "remaining_time": 49.76646918,
                        "learn": [
                          0.9002643948,
                          0.3729066296
                        ]
                      },
                      {
                        "test": [
                          0.9123641304,
                          0.3386578311
                        ],
                        "passed_time": 1.623205956,
                        "iteration": 15,
                        "remaining_time": 49.10198017,
                        "learn": [
                          0.901684293,
                          0.3609731042
                        ]
                      },
                      {
                        "test": [
                          0.912817029,
                          0.3271038363
                        ],
                        "passed_time": 1.721070193,
                        "iteration": 16,
                        "remaining_time": 48.89864136,
                        "learn": [
                          0.902173913,
                          0.3489719014
                        ]
                      },
                      {
                        "test": [
                          0.9134963768,
                          0.3156294697
                        ],
                        "passed_time": 1.823645968,
                        "iteration": 17,
                        "remaining_time": 48.83318649,
                        "learn": [
                          0.9036427732,
                          0.33692164
                        ]
                      },
                      {
                        "test": [
                          0.9137228261,
                          0.3067574205
                        ],
                        "passed_time": 1.936563771,
                        "iteration": 18,
                        "remaining_time": 49.02564074,
                        "learn": [
                          0.9050137094,
                          0.3273871486
                        ]
                      },
                      {
                        "test": [
                          0.9134963768,
                          0.2997997909
                        ],
                        "passed_time": 2.034919644,
                        "iteration": 19,
                        "remaining_time": 48.83807146,
                        "learn": [
                          0.9055033294,
                          0.3192923757
                        ]
                      },
                      {
                        "test": [
                          0.9141757246,
                          0.2921953852
                        ],
                        "passed_time": 2.127181404,
                        "iteration": 20,
                        "remaining_time": 48.51999488,
                        "learn": [
                          0.9062377595,
                          0.3107389582
                        ]
                      },
                      {
                        "test": [
                          0.9141757246,
                          0.2867070508
                        ],
                        "passed_time": 2.235092006,
                        "iteration": 21,
                        "remaining_time": 48.56245359,
                        "learn": [
                          0.9067763416,
                          0.3038655804
                        ]
                      },
                      {
                        "test": [
                          0.9148550725,
                          0.2805068228
                        ],
                        "passed_time": 2.353531756,
                        "iteration": 22,
                        "remaining_time": 48.81020208,
                        "learn": [
                          0.9081472777,
                          0.296475316
                        ]
                      },
                      {
                        "test": [
                          0.915307971,
                          0.274867375
                        ],
                        "passed_time": 2.467646947,
                        "iteration": 23,
                        "remaining_time": 48.94166444,
                        "learn": [
                          0.9088327458,
                          0.2904403789
                        ]
                      },
                      {
                        "test": [
                          0.9148550725,
                          0.2710963432
                        ],
                        "passed_time": 2.576344828,
                        "iteration": 24,
                        "remaining_time": 48.95055173,
                        "learn": [
                          0.9085389738,
                          0.285245402
                        ]
                      },
                      {
                        "test": [
                          0.9155344203,
                          0.2655371374
                        ],
                        "passed_time": 2.676795322,
                        "iteration": 25,
                        "remaining_time": 48.8000378,
                        "learn": [
                          0.9100078339,
                          0.2796736877
                        ]
                      },
                      {
                        "test": [
                          0.915307971,
                          0.2620583536
                        ],
                        "passed_time": 2.740497893,
                        "iteration": 26,
                        "remaining_time": 48.00946309,
                        "learn": [
                          0.910693302,
                          0.2753256311
                        ]
                      },
                      {
                        "test": [
                          0.915307971,
                          0.258788771
                        ],
                        "passed_time": 2.800035304,
                        "iteration": 27,
                        "remaining_time": 47.20059512,
                        "learn": [
                          0.910595378,
                          0.2713206765
                        ]
                      },
                      {
                        "test": [
                          0.9168931159,
                          0.2529215583
                        ],
                        "passed_time": 2.856298797,
                        "iteration": 28,
                        "remaining_time": 46.39023219,
                        "learn": [
                          0.9115746181,
                          0.2658580021
                        ]
                      },
                      {
                        "test": [
                          0.9171195652,
                          0.2484315529
                        ],
                        "passed_time": 2.912200057,
                        "iteration": 29,
                        "remaining_time": 45.62446757,
                        "learn": [
                          0.9115746181,
                          0.2616888177
                        ]
                      },
                      {
                        "test": [
                          0.9171195652,
                          0.2441948958
                        ],
                        "passed_time": 2.965124576,
                        "iteration": 30,
                        "remaining_time": 44.85946536,
                        "learn": [
                          0.9123090482,
                          0.2571286541
                        ]
                      },
                      {
                        "test": [
                          0.9173460145,
                          0.2420792968
                        ],
                        "passed_time": 3.018086816,
                        "iteration": 31,
                        "remaining_time": 44.13951969,
                        "learn": [
                          0.9131414023,
                          0.2539460378
                        ]
                      },
                      {
                        "test": [
                          0.9184782609,
                          0.2402762081
                        ],
                        "passed_time": 3.074750016,
                        "iteration": 32,
                        "remaining_time": 43.51237144,
                        "learn": [
                          0.9137289463,
                          0.2509480113
                        ]
                      },
                      {
                        "test": [
                          0.9189311594,
                          0.2367818759
                        ],
                        "passed_time": 3.132003116,
                        "iteration": 33,
                        "remaining_time": 42.92686624,
                        "learn": [
                          0.9143164904,
                          0.2477315191
                        ]
                      },
                      {
                        "test": [
                          0.9184782609,
                          0.2339094835
                        ],
                        "passed_time": 3.181325155,
                        "iteration": 34,
                        "remaining_time": 42.26617707,
                        "learn": [
                          0.9144633764,
                          0.2445181695
                        ]
                      },
                      {
                        "test": [
                          0.9187047101,
                          0.2327904001
                        ],
                        "passed_time": 3.22992879,
                        "iteration": 35,
                        "remaining_time": 41.6301933,
                        "learn": [
                          0.9152957305,
                          0.2427190841
                        ]
                      },
                      {
                        "test": [
                          0.9191576087,
                          0.2315379882
                        ],
                        "passed_time": 3.278332842,
                        "iteration": 36,
                        "remaining_time": 41.02346232,
                        "learn": [
                          0.9156874266,
                          0.2409915491
                        ]
                      },
                      {
                        "test": [
                          0.919384058,
                          0.229056975
                        ],
                        "passed_time": 3.331268759,
                        "iteration": 37,
                        "remaining_time": 40.50121491,
                        "learn": [
                          0.9159811986,
                          0.2385216452
                        ]
                      },
                      {
                        "test": [
                          0.9196105072,
                          0.2262980006
                        ],
                        "passed_time": 3.3832892,
                        "iteration": 38,
                        "remaining_time": 39.99221337,
                        "learn": [
                          0.9168625147,
                          0.2355030777
                        ]
                      },
                      {
                        "test": [
                          0.9209692029,
                          0.2230390058
                        ],
                        "passed_time": 3.437953727,
                        "iteration": 39,
                        "remaining_time": 39.53646786,
                        "learn": [
                          0.9171562867,
                          0.2324749064
                        ]
                      },
                      {
                        "test": [
                          0.9223278986,
                          0.2214911443
                        ],
                        "passed_time": 3.489940392,
                        "iteration": 40,
                        "remaining_time": 39.0703083,
                        "learn": [
                          0.9175969448,
                          0.2308049361
                        ]
                      },
                      {
                        "test": [
                          0.9227807971,
                          0.2200471981
                        ],
                        "passed_time": 3.541581297,
                        "iteration": 41,
                        "remaining_time": 38.62010081,
                        "learn": [
                          0.9178907168,
                          0.2290102071
                        ]
                      },
                      {
                        "test": [
                          0.9230072464,
                          0.2181003035
                        ],
                        "passed_time": 3.592209858,
                        "iteration": 42,
                        "remaining_time": 38.17767221,
                        "learn": [
                          0.9183313749,
                          0.2268860996
                        ]
                      },
                      {
                        "test": [
                          0.9221014493,
                          0.2178646327
                        ],
                        "passed_time": 3.639882674,
                        "iteration": 43,
                        "remaining_time": 37.72242044,
                        "learn": [
                          0.9182334508,
                          0.2257577871
                        ]
                      },
                      {
                        "test": [
                          0.9221014493,
                          0.216018685
                        ],
                        "passed_time": 3.693520708,
                        "iteration": 44,
                        "remaining_time": 37.34559827,
                        "learn": [
                          0.9189678809,
                          0.223624025
                        ]
                      },
                      {
                        "test": [
                          0.9221014493,
                          0.2156155484
                        ],
                        "passed_time": 3.757767379,
                        "iteration": 45,
                        "remaining_time": 37.08753022,
                        "learn": [
                          0.919359577,
                          0.2225711241
                        ]
                      },
                      {
                        "test": [
                          0.9223278986,
                          0.2145197142
                        ],
                        "passed_time": 3.810195507,
                        "iteration": 46,
                        "remaining_time": 36.72379925,
                        "learn": [
                          0.919800235,
                          0.2213410294
                        ]
                      },
                      {
                        "test": [
                          0.9234601449,
                          0.2128281656
                        ],
                        "passed_time": 3.864718262,
                        "iteration": 47,
                        "remaining_time": 36.39276363,
                        "learn": [
                          0.9203388171,
                          0.2195979684
                        ]
                      },
                      {
                        "test": [
                          0.9239130435,
                          0.2122013112
                        ],
                        "passed_time": 3.91775519,
                        "iteration": 48,
                        "remaining_time": 36.05933858,
                        "learn": [
                          0.9206325891,
                          0.21861056
                        ]
                      },
                      {
                        "test": [
                          0.9239130435,
                          0.2113810088
                        ],
                        "passed_time": 3.967056947,
                        "iteration": 49,
                        "remaining_time": 35.70351253,
                        "learn": [
                          0.9207794751,
                          0.217690923
                        ]
                      },
                      {
                        "test": [
                          0.9241394928,
                          0.211100037
                        ],
                        "passed_time": 4.019030415,
                        "iteration": 50,
                        "remaining_time": 35.38322855,
                        "learn": [
                          0.9212690952,
                          0.2167579706
                        ]
                      },
                      {
                        "test": [
                          0.924365942,
                          0.2109863078
                        ],
                        "passed_time": 4.068657754,
                        "iteration": 51,
                        "remaining_time": 35.05305142,
                        "learn": [
                          0.9211222092,
                          0.2162201117
                        ]
                      },
                      {
                        "test": [
                          0.924365942,
                          0.2106569834
                        ],
                        "passed_time": 4.119782322,
                        "iteration": 52,
                        "remaining_time": 34.74608864,
                        "learn": [
                          0.9213670192,
                          0.2157741673
                        ]
                      },
                      {
                        "test": [
                          0.9245923913,
                          0.2093372212
                        ],
                        "passed_time": 4.170195347,
                        "iteration": 53,
                        "remaining_time": 34.44272454,
                        "learn": [
                          0.9214649432,
                          0.2146763715
                        ]
                      },
                      {
                        "test": [
                          0.9248188406,
                          0.2089644316
                        ],
                        "passed_time": 4.225600204,
                        "iteration": 54,
                        "remaining_time": 34.1889471,
                        "learn": [
                          0.9222972973,
                          0.2136773442
                        ]
                      },
                      {
                        "test": [
                          0.9248188406,
                          0.2067848868
                        ],
                        "passed_time": 4.279492131,
                        "iteration": 55,
                        "remaining_time": 33.93025904,
                        "learn": [
                          0.9222972973,
                          0.2122300836
                        ]
                      },
                      {
                        "test": [
                          0.9245923913,
                          0.2067280349
                        ],
                        "passed_time": 4.338817189,
                        "iteration": 56,
                        "remaining_time": 33.72098272,
                        "learn": [
                          0.9228358794,
                          0.2115188011
                        ]
                      },
                      {
                        "test": [
                          0.9254981884,
                          0.2055580566
                        ],
                        "passed_time": 4.397159533,
                        "iteration": 57,
                        "remaining_time": 33.50938817,
                        "learn": [
                          0.9231786134,
                          0.2100664786
                        ]
                      },
                      {
                        "test": [
                          0.9257246377,
                          0.2047916282
                        ],
                        "passed_time": 4.451196768,
                        "iteration": 58,
                        "remaining_time": 33.27080974,
                        "learn": [
                          0.9235213474,
                          0.2090292202
                        ]
                      },
                      {
                        "test": [
                          0.9261775362,
                          0.203232033
                        ],
                        "passed_time": 4.50110496,
                        "iteration": 59,
                        "remaining_time": 33.00810304,
                        "learn": [
                          0.9239130435,
                          0.2079085183
                        ]
                      },
                      {
                        "test": [
                          0.9261775362,
                          0.2028672542
                        ],
                        "passed_time": 4.552115086,
                        "iteration": 60,
                        "remaining_time": 32.76030365,
                        "learn": [
                          0.9242557775,
                          0.2070972327
                        ]
                      },
                      {
                        "test": [
                          0.9261775362,
                          0.2030344072
                        ],
                        "passed_time": 4.598638763,
                        "iteration": 61,
                        "remaining_time": 32.48715771,
                        "learn": [
                          0.9242557775,
                          0.2067134825
                        ]
                      },
                      {
                        "test": [
                          0.925951087,
                          0.2013842666
                        ],
                        "passed_time": 4.650392919,
                        "iteration": 62,
                        "remaining_time": 32.25748739,
                        "learn": [
                          0.9246474736,
                          0.2053512661
                        ]
                      },
                      {
                        "test": [
                          0.925951087,
                          0.2009294406
                        ],
                        "passed_time": 4.697114738,
                        "iteration": 63,
                        "remaining_time": 31.99909415,
                        "learn": [
                          0.9247453976,
                          0.2049366449
                        ]
                      },
                      {
                        "test": [
                          0.925951087,
                          0.2010986457
                        ],
                        "passed_time": 4.749534758,
                        "iteration": 64,
                        "remaining_time": 31.785348,
                        "learn": [
                          0.9248433216,
                          0.2046091841
                        ]
                      },
                      {
                        "test": [
                          0.925951087,
                          0.2009185631
                        ],
                        "passed_time": 4.818800533,
                        "iteration": 65,
                        "remaining_time": 31.68726411,
                        "learn": [
                          0.9250881316,
                          0.2041104827
                        ]
                      },
                      {
                        "test": [
                          0.925951087,
                          0.2002322431
                        ],
                        "passed_time": 4.867288122,
                        "iteration": 66,
                        "remaining_time": 31.45575757,
                        "learn": [
                          0.9252839796,
                          0.2033779491
                        ]
                      },
                      {
                        "test": [
                          0.925951087,
                          0.2000158781
                        ],
                        "passed_time": 4.918917658,
                        "iteration": 67,
                        "remaining_time": 31.24959453,
                        "learn": [
                          0.9253329416,
                          0.2029595946
                        ]
                      },
                      {
                        "test": [
                          0.9268568841,
                          0.1993044902
                        ],
                        "passed_time": 4.971225481,
                        "iteration": 68,
                        "remaining_time": 31.05214757,
                        "learn": [
                          0.9253329416,
                          0.2022017572
                        ]
                      },
                      {
                        "test": [
                          0.9268568841,
                          0.1989446051
                        ],
                        "passed_time": 5.018203575,
                        "iteration": 69,
                        "remaining_time": 30.82610767,
                        "learn": [
                          0.9254308656,
                          0.2016346507
                        ]
                      },
                      {
                        "test": [
                          0.9270833333,
                          0.1980444265
                        ],
                        "passed_time": 5.069127195,
                        "iteration": 70,
                        "remaining_time": 30.62895164,
                        "learn": [
                          0.9258225617,
                          0.2006195594
                        ]
                      },
                      {
                        "test": [
                          0.9268568841,
                          0.198115556
                        ],
                        "passed_time": 5.117233472,
                        "iteration": 71,
                        "remaining_time": 30.41911008,
                        "learn": [
                          0.9259694477,
                          0.2004285521
                        ]
                      },
                      {
                        "test": [
                          0.9266304348,
                          0.1977010997
                        ],
                        "passed_time": 5.17486785,
                        "iteration": 72,
                        "remaining_time": 30.2694325,
                        "learn": [
                          0.9262142577,
                          0.1997565191
                        ]
                      },
                      {
                        "test": [
                          0.9266304348,
                          0.1973074203
                        ],
                        "passed_time": 5.227805599,
                        "iteration": 73,
                        "remaining_time": 30.0952052,
                        "learn": [
                          0.9263611438,
                          0.1993223279
                        ]
                      },
                      {
                        "test": [
                          0.9266304348,
                          0.1963976059
                        ],
                        "passed_time": 5.283555137,
                        "iteration": 74,
                        "remaining_time": 29.94014578,
                        "learn": [
                          0.9265569918,
                          0.1982502204
                        ]
                      },
                      {
                        "test": [
                          0.9268568841,
                          0.1961315881
                        ],
                        "passed_time": 5.327903729,
                        "iteration": 75,
                        "remaining_time": 29.72409449,
                        "learn": [
                          0.9268507638,
                          0.1979471303
                        ]
                      },
                      {
                        "test": [
                          0.9277626812,
                          0.1954648788
                        ],
                        "passed_time": 5.378237138,
                        "iteration": 76,
                        "remaining_time": 29.54538064,
                        "learn": [
                          0.9268507638,
                          0.1971541599
                        ]
                      },
                      {
                        "test": [
                          0.9277626812,
                          0.1952560992
                        ],
                        "passed_time": 5.423916385,
                        "iteration": 77,
                        "remaining_time": 29.34477839,
                        "learn": [
                          0.9270466118,
                          0.1968775071
                        ]
                      },
                      {
                        "test": [
                          0.9277626812,
                          0.194937234
                        ],
                        "passed_time": 5.470704007,
                        "iteration": 78,
                        "remaining_time": 29.1540049,
                        "learn": [
                          0.9273403839,
                          0.1964103112
                        ]
                      },
                      {
                        "test": [
                          0.9273097826,
                          0.1941081994
                        ],
                        "passed_time": 5.520325458,
                        "iteration": 79,
                        "remaining_time": 28.98170865,
                        "learn": [
                          0.9277810419,
                          0.1957615011
                        ]
                      },
                      {
                        "test": [
                          0.9275362319,
                          0.193570208
                        ],
                        "passed_time": 5.571125245,
                        "iteration": 80,
                        "remaining_time": 28.81853676,
                        "learn": [
                          0.9275851939,
                          0.1950570644
                        ]
                      },
                      {
                        "test": [
                          0.9282155797,
                          0.192284121
                        ],
                        "passed_time": 5.626578396,
                        "iteration": 81,
                        "remaining_time": 28.68182646,
                        "learn": [
                          0.9277320799,
                          0.1940532557
                        ]
                      },
                      {
                        "test": [
                          0.9282155797,
                          0.191749735
                        ],
                        "passed_time": 5.680582224,
                        "iteration": 82,
                        "remaining_time": 28.53979262,
                        "learn": [
                          0.9281237759,
                          0.1934502764
                        ]
                      },
                      {
                        "test": [
                          0.9270833333,
                          0.1912876435
                        ],
                        "passed_time": 5.729493195,
                        "iteration": 83,
                        "remaining_time": 28.37463297,
                        "learn": [
                          0.928319624,
                          0.1927897934
                        ]
                      },
                      {
                        "test": [
                          0.9277626812,
                          0.1912630996
                        ],
                        "passed_time": 5.796819047,
                        "iteration": 84,
                        "remaining_time": 28.30211652,
                        "learn": [
                          0.928172738,
                          0.1924569071
                        ]
                      },
                      {
                        "test": [
                          0.9277626812,
                          0.1903150072
                        ],
                        "passed_time": 5.851912006,
                        "iteration": 85,
                        "remaining_time": 28.17083222,
                        "learn": [
                          0.928368586,
                          0.1918517934
                        ]
                      },
                      {
                        "test": [
                          0.9282155797,
                          0.1889559278
                        ],
                        "passed_time": 5.90590452,
                        "iteration": 86,
                        "remaining_time": 28.03607548,
                        "learn": [
                          0.928809244,
                          0.1909610051
                        ]
                      },
                      {
                        "test": [
                          0.928442029,
                          0.1889365651
                        ],
                        "passed_time": 5.950808239,
                        "iteration": 87,
                        "remaining_time": 27.86060221,
                        "learn": [
                          0.92895613,
                          0.190799248
                        ]
                      },
                      {
                        "test": [
                          0.928442029,
                          0.1888036235
                        ],
                        "passed_time": 5.997361394,
                        "iteration": 88,
                        "remaining_time": 27.69568014,
                        "learn": [
                          0.92895613,
                          0.1903473987
                        ]
                      },
                      {
                        "test": [
                          0.9279891304,
                          0.1887924497
                        ],
                        "passed_time": 6.048613446,
                        "iteration": 89,
                        "remaining_time": 27.55479459,
                        "learn": [
                          0.9294457501,
                          0.1901212224
                        ]
                      },
                      {
                        "test": [
                          0.928442029,
                          0.1884225145
                        ],
                        "passed_time": 6.096099657,
                        "iteration": 90,
                        "remaining_time": 27.3989534,
                        "learn": [
                          0.9296415981,
                          0.1897348411
                        ]
                      },
                      {
                        "test": [
                          0.9291213768,
                          0.187755435
                        ],
                        "passed_time": 6.148000281,
                        "iteration": 91,
                        "remaining_time": 27.26504473,
                        "learn": [
                          0.9300822562,
                          0.1890249737
                        ]
                      },
                      {
                        "test": [
                          0.9295742754,
                          0.1875686094
                        ],
                        "passed_time": 6.202385889,
                        "iteration": 92,
                        "remaining_time": 27.1437748,
                        "learn": [
                          0.9304249902,
                          0.1886854147
                        ]
                      },
                      {
                        "test": [
                          0.9300271739,
                          0.1873731589
                        ],
                        "passed_time": 6.25715116,
                        "iteration": 93,
                        "remaining_time": 27.02556778,
                        "learn": [
                          0.9306698002,
                          0.1883816115
                        ]
                      },
                      {
                        "test": [
                          0.9298007246,
                          0.1867023298
                        ],
                        "passed_time": 6.311705623,
                        "iteration": 94,
                        "remaining_time": 26.90779766,
                        "learn": [
                          0.9305718762,
                          0.187828911
                        ]
                      },
                      {
                        "test": [
                          0.9300271739,
                          0.1867707197
                        ],
                        "passed_time": 6.356778411,
                        "iteration": 95,
                        "remaining_time": 26.75144248,
                        "learn": [
                          0.9306208382,
                          0.1876365067
                        ]
                      },
                      {
                        "test": [
                          0.9295742754,
                          0.1866331946
                        ],
                        "passed_time": 6.404498149,
                        "iteration": 96,
                        "remaining_time": 26.60837891,
                        "learn": [
                          0.9306208382,
                          0.187320464
                        ]
                      },
                      {
                        "test": [
                          0.9300271739,
                          0.1867550089
                        ],
                        "passed_time": 6.454708755,
                        "iteration": 97,
                        "remaining_time": 26.47747877,
                        "learn": [
                          0.9307677242,
                          0.1869783882
                        ]
                      },
                      {
                        "test": [
                          0.9300271739,
                          0.1866240065
                        ],
                        "passed_time": 6.50441495,
                        "iteration": 98,
                        "remaining_time": 26.34616561,
                        "learn": [
                          0.9309146103,
                          0.1866841511
                        ]
                      },
                      {
                        "test": [
                          0.9302536232,
                          0.1861640597
                        ],
                        "passed_time": 6.552420912,
                        "iteration": 99,
                        "remaining_time": 26.20968365,
                        "learn": [
                          0.9311104583,
                          0.186091123
                        ]
                      },
                      {
                        "test": [
                          0.9304800725,
                          0.1862242703
                        ],
                        "passed_time": 6.597963522,
                        "iteration": 100,
                        "remaining_time": 26.06522223,
                        "learn": [
                          0.9316490403,
                          0.1858914302
                        ]
                      },
                      {
                        "test": [
                          0.9304800725,
                          0.1861319941
                        ],
                        "passed_time": 6.642388183,
                        "iteration": 101,
                        "remaining_time": 25.9183382,
                        "learn": [
                          0.9317469644,
                          0.1857724739
                        ]
                      },
                      {
                        "test": [
                          0.9304800725,
                          0.1855427196
                        ],
                        "passed_time": 6.693874333,
                        "iteration": 102,
                        "remaining_time": 25.80066126,
                        "learn": [
                          0.9319428124,
                          0.1848729259
                        ]
                      },
                      {
                        "test": [
                          0.9304800725,
                          0.1855015443
                        ],
                        "passed_time": 6.739491628,
                        "iteration": 103,
                        "remaining_time": 25.66191043,
                        "learn": [
                          0.9322365844,
                          0.1845652524
                        ]
                      },
                      {
                        "test": [
                          0.930932971,
                          0.1851019214
                        ],
                        "passed_time": 6.788030264,
                        "iteration": 104,
                        "remaining_time": 25.53592337,
                        "learn": [
                          0.9323345084,
                          0.1840803469
                        ]
                      },
                      {
                        "test": [
                          0.9307065217,
                          0.1845816667
                        ],
                        "passed_time": 6.866748423,
                        "iteration": 105,
                        "remaining_time": 25.52357433,
                        "learn": [
                          0.9325303564,
                          0.1836083863
                        ]
                      },
                      {
                        "test": [
                          0.9307065217,
                          0.184487597
                        ],
                        "passed_time": 6.918510737,
                        "iteration": 106,
                        "remaining_time": 25.41097869,
                        "learn": [
                          0.9328241285,
                          0.183316134
                        ]
                      },
                      {
                        "test": [
                          0.9311594203,
                          0.1835171642
                        ],
                        "passed_time": 6.974738766,
                        "iteration": 107,
                        "remaining_time": 25.31571849,
                        "learn": [
                          0.9334116725,
                          0.1824785141
                        ]
                      },
                      {
                        "test": [
                          0.930932971,
                          0.1833936907
                        ],
                        "passed_time": 7.022298922,
                        "iteration": 108,
                        "remaining_time": 25.19008146,
                        "learn": [
                          0.9334116725,
                          0.1821776468
                        ]
                      },
                      {
                        "test": [
                          0.9311594203,
                          0.1827876349
                        ],
                        "passed_time": 7.076759266,
                        "iteration": 109,
                        "remaining_time": 25.09032831,
                        "learn": [
                          0.9331179005,
                          0.1816500312
                        ]
                      },
                      {
                        "test": [
                          0.9318387681,
                          0.1821380264
                        ],
                        "passed_time": 7.131160493,
                        "iteration": 110,
                        "remaining_time": 24.99118407,
                        "learn": [
                          0.9333137485,
                          0.1810798238
                        ]
                      },
                      {
                        "test": [
                          0.9320652174,
                          0.181963285
                        ],
                        "passed_time": 7.182368804,
                        "iteration": 111,
                        "remaining_time": 24.88177764,
                        "learn": [
                          0.9336564826,
                          0.1808741855
                        ]
                      },
                      {
                        "test": [
                          0.9322916667,
                          0.1810008924
                        ],
                        "passed_time": 7.233356325,
                        "iteration": 112,
                        "remaining_time": 24.77264511,
                        "learn": [
                          0.9337544066,
                          0.180119497
                        ]
                      },
                      {
                        "test": [
                          0.9327445652,
                          0.1806729649
                        ],
                        "passed_time": 7.283333167,
                        "iteration": 113,
                        "remaining_time": 24.66111055,
                        "learn": [
                          0.9336075206,
                          0.1797376535
                        ]
                      },
                      {
                        "test": [
                          0.9329710145,
                          0.1802175283
                        ],
                        "passed_time": 7.334216342,
                        "iteration": 114,
                        "remaining_time": 24.5536808,
                        "learn": [
                          0.9339012926,
                          0.1794316045
                        ]
                      },
                      {
                        "test": [
                          0.9327445652,
                          0.1800259109
                        ],
                        "passed_time": 7.382901482,
                        "iteration": 115,
                        "remaining_time": 24.43994973,
                        "learn": [
                          0.9339992166,
                          0.1792106316
                        ]
                      },
                      {
                        "test": [
                          0.9325181159,
                          0.1799840885
                        ],
                        "passed_time": 7.428798748,
                        "iteration": 116,
                        "remaining_time": 24.31820445,
                        "learn": [
                          0.9341461026,
                          0.1789365723
                        ]
                      },
                      {
                        "test": [
                          0.9331974638,
                          0.1796761507
                        ],
                        "passed_time": 7.47920511,
                        "iteration": 117,
                        "remaining_time": 24.21234197,
                        "learn": [
                          0.9341950646,
                          0.178635601
                        ]
                      },
                      {
                        "test": [
                          0.9331974638,
                          0.1796416253
                        ],
                        "passed_time": 7.555814061,
                        "iteration": 118,
                        "remaining_time": 24.19130384,
                        "learn": [
                          0.9341950646,
                          0.178405023
                        ]
                      },
                      {
                        "test": [
                          0.9336503623,
                          0.1793849962
                        ],
                        "passed_time": 7.601342462,
                        "iteration": 119,
                        "remaining_time": 24.0709178,
                        "learn": [
                          0.9342929886,
                          0.1782053393
                        ]
                      },
                      {
                        "test": [
                          0.933423913,
                          0.1792757194
                        ],
                        "passed_time": 7.651378193,
                        "iteration": 120,
                        "remaining_time": 23.96588707,
                        "learn": [
                          0.9343909127,
                          0.1779538585
                        ]
                      },
                      {
                        "test": [
                          0.933423913,
                          0.1792922529
                        ],
                        "passed_time": 7.695887765,
                        "iteration": 121,
                        "remaining_time": 23.84463586,
                        "learn": [
                          0.9345377987,
                          0.1778179162
                        ]
                      },
                      {
                        "test": [
                          0.9331974638,
                          0.1789422697
                        ],
                        "passed_time": 7.749786361,
                        "iteration": 122,
                        "remaining_time": 23.75341023,
                        "learn": [
                          0.9345867607,
                          0.1773494639
                        ]
                      },
                      {
                        "test": [
                          0.9331974638,
                          0.1789095412
                        ],
                        "passed_time": 7.796474862,
                        "iteration": 123,
                        "remaining_time": 23.64092378,
                        "learn": [
                          0.9343909127,
                          0.1771324626
                        ]
                      },
                      {
                        "test": [
                          0.9336503623,
                          0.178625104
                        ],
                        "passed_time": 7.875531464,
                        "iteration": 124,
                        "remaining_time": 23.62659439,
                        "learn": [
                          0.9345377987,
                          0.1766360066
                        ]
                      },
                      {
                        "test": [
                          0.9336503623,
                          0.1784777665
                        ],
                        "passed_time": 7.931110626,
                        "iteration": 125,
                        "remaining_time": 23.54155059,
                        "learn": [
                          0.9346357227,
                          0.1764132011
                        ]
                      },
                      {
                        "test": [
                          0.9338768116,
                          0.177408358
                        ],
                        "passed_time": 7.98348422,
                        "iteration": 126,
                        "remaining_time": 23.44755602,
                        "learn": [
                          0.9348315707,
                          0.1753774878
                        ]
                      },
                      {
                        "test": [
                          0.9336503623,
                          0.1770168445
                        ],
                        "passed_time": 8.033771943,
                        "iteration": 127,
                        "remaining_time": 23.34814971,
                        "learn": [
                          0.9348315707,
                          0.1749175688
                        ]
                      },
                      {
                        "test": [
                          0.9338768116,
                          0.1769879236
                        ],
                        "passed_time": 8.080468926,
                        "iteration": 128,
                        "remaining_time": 23.23917807,
                        "learn": [
                          0.9348315707,
                          0.1747582256
                        ]
                      },
                      {
                        "test": [
                          0.9341032609,
                          0.1765976993
                        ],
                        "passed_time": 8.131220681,
                        "iteration": 129,
                        "remaining_time": 23.14270501,
                        "learn": [
                          0.9351743047,
                          0.1742545321
                        ]
                      },
                      {
                        "test": [
                          0.9343297101,
                          0.1765896631
                        ],
                        "passed_time": 8.18375595,
                        "iteration": 130,
                        "remaining_time": 23.05195378,
                        "learn": [
                          0.9353211908,
                          0.1740773463
                        ]
                      },
                      {
                        "test": [
                          0.9341032609,
                          0.176575084
                        ],
                        "passed_time": 8.229942133,
                        "iteration": 131,
                        "remaining_time": 22.9440811,
                        "learn": [
                          0.9354680768,
                          0.173885529
                        ]
                      },
                      {
                        "test": [
                          0.9341032609,
                          0.1765626546
                        ],
                        "passed_time": 8.274933601,
                        "iteration": 132,
                        "remaining_time": 22.83383934,
                        "learn": [
                          0.9355660008,
                          0.173614183
                        ]
                      },
                      {
                        "test": [
                          0.9343297101,
                          0.1763560645
                        ],
                        "passed_time": 8.325291213,
                        "iteration": 133,
                        "remaining_time": 22.73922824,
                        "learn": [
                          0.9359576968,
                          0.1732872075
                        ]
                      },
                      {
                        "test": [
                          0.935009058,
                          0.1761079114
                        ],
                        "passed_time": 8.374590212,
                        "iteration": 134,
                        "remaining_time": 22.64241057,
                        "learn": [
                          0.9359576968,
                          0.1730693466
                        ]
                      },
                      {
                        "test": [
                          0.9356884058,
                          0.1756275276
                        ],
                        "passed_time": 8.422424763,
                        "iteration": 135,
                        "remaining_time": 22.54237216,
                        "learn": [
                          0.9360556208,
                          0.1726639718
                        ]
                      },
                      {
                        "test": [
                          0.9352355072,
                          0.1756230978
                        ],
                        "passed_time": 8.469451552,
                        "iteration": 136,
                        "remaining_time": 22.44095557,
                        "learn": [
                          0.9361045828,
                          0.1722869083
                        ]
                      },
                      {
                        "test": [
                          0.9354619565,
                          0.1756451835
                        ],
                        "passed_time": 8.515384475,
                        "iteration": 137,
                        "remaining_time": 22.33745783,
                        "learn": [
                          0.9361535448,
                          0.1722191804
                        ]
                      },
                      {
                        "test": [
                          0.9356884058,
                          0.1752195265
                        ],
                        "passed_time": 8.568361296,
                        "iteration": 138,
                        "remaining_time": 22.25308222,
                        "learn": [
                          0.9365942029,
                          0.1717105165
                        ]
                      },
                      {
                        "test": [
                          0.9356884058,
                          0.1752376455
                        ],
                        "passed_time": 8.614516577,
                        "iteration": 139,
                        "remaining_time": 22.15161406,
                        "learn": [
                          0.9366921269,
                          0.1715829913
                        ]
                      },
                      {
                        "test": [
                          0.9359148551,
                          0.1750928159
                        ],
                        "passed_time": 8.662700187,
                        "iteration": 140,
                        "remaining_time": 22.0560948,
                        "learn": [
                          0.9369369369,
                          0.1713211038
                        ]
                      },
                      {
                        "test": [
                          0.9359148551,
                          0.1750822974
                        ],
                        "passed_time": 8.707497234,
                        "iteration": 141,
                        "remaining_time": 21.95270429,
                        "learn": [
                          0.9370348609,
                          0.1712106271
                        ]
                      },
                      {
                        "test": [
                          0.9359148551,
                          0.1748267188
                        ],
                        "passed_time": 8.753601741,
                        "iteration": 142,
                        "remaining_time": 21.85339735,
                        "learn": [
                          0.937328633,
                          0.1708036493
                        ]
                      },
                      {
                        "test": [
                          0.9359148551,
                          0.174427568
                        ],
                        "passed_time": 8.802506408,
                        "iteration": 143,
                        "remaining_time": 21.76175195,
                        "learn": [
                          0.937573443,
                          0.1703565874
                        ]
                      },
                      {
                        "test": [
                          0.9363677536,
                          0.173729852
                        ],
                        "passed_time": 8.884564927,
                        "iteration": 144,
                        "remaining_time": 21.75186585,
                        "learn": [
                          0.9381609871,
                          0.169714431
                        ]
                      },
                      {
                        "test": [
                          0.9363677536,
                          0.1736181735
                        ],
                        "passed_time": 8.93851737,
                        "iteration": 145,
                        "remaining_time": 21.67284349,
                        "learn": [
                          0.9381120251,
                          0.1695167238
                        ]
                      },
                      {
                        "test": [
                          0.9368206522,
                          0.1731085206
                        ],
                        "passed_time": 8.992924754,
                        "iteration": 146,
                        "remaining_time": 21.59525468,
                        "learn": [
                          0.9380630631,
                          0.1690773983
                        ]
                      },
                      {
                        "test": [
                          0.9363677536,
                          0.1731492665
                        ],
                        "passed_time": 9.046179464,
                        "iteration": 147,
                        "remaining_time": 21.51523764,
                        "learn": [
                          0.9381609871,
                          0.168885442
                        ]
                      },
                      {
                        "test": [
                          0.9363677536,
                          0.1730811316
                        ],
                        "passed_time": 9.097008995,
                        "iteration": 148,
                        "remaining_time": 21.42986683,
                        "learn": [
                          0.9382099491,
                          0.1687461695
                        ]
                      },
                      {
                        "test": [
                          0.9365942029,
                          0.1730697558
                        ],
                        "passed_time": 9.148061742,
                        "iteration": 149,
                        "remaining_time": 21.3454774,
                        "learn": [
                          0.9382589111,
                          0.1685733109
                        ]
                      },
                      {
                        "test": [
                          0.9365942029,
                          0.172915319
                        ],
                        "passed_time": 9.202246488,
                        "iteration": 150,
                        "remaining_time": 21.26876837,
                        "learn": [
                          0.9381120251,
                          0.1682864232
                        ]
                      },
                      {
                        "test": [
                          0.9361413043,
                          0.1728501033
                        ],
                        "passed_time": 9.25074984,
                        "iteration": 151,
                        "remaining_time": 21.17934832,
                        "learn": [
                          0.9383568351,
                          0.168093608
                        ]
                      },
                      {
                        "test": [
                          0.9365942029,
                          0.1726351115
                        ],
                        "passed_time": 9.302636747,
                        "iteration": 152,
                        "remaining_time": 21.09813694,
                        "learn": [
                          0.9382589111,
                          0.1678138209
                        ]
                      },
                      {
                        "test": [
                          0.9368206522,
                          0.1721048135
                        ],
                        "passed_time": 9.356002931,
                        "iteration": 153,
                        "remaining_time": 21.02062996,
                        "learn": [
                          0.9384547591,
                          0.1674072496
                        ]
                      },
                      {
                        "test": [
                          0.9368206522,
                          0.1719465927
                        ],
                        "passed_time": 9.405974751,
                        "iteration": 154,
                        "remaining_time": 20.93587929,
                        "learn": [
                          0.9387974931,
                          0.1670918646
                        ]
                      },
                      {
                        "test": [
                          0.9370471014,
                          0.1718029944
                        ],
                        "passed_time": 9.454960051,
                        "iteration": 155,
                        "remaining_time": 20.84939909,
                        "learn": [
                          0.9390423032,
                          0.1668488424
                        ]
                      },
                      {
                        "test": [
                          0.9370471014,
                          0.1717086841
                        ],
                        "passed_time": 9.505322084,
                        "iteration": 156,
                        "remaining_time": 20.7664043,
                        "learn": [
                          0.9391402272,
                          0.1666777979
                        ]
                      },
                      {
                        "test": [
                          0.9368206522,
                          0.1716562926
                        ],
                        "passed_time": 9.556424315,
                        "iteration": 157,
                        "remaining_time": 20.68542478,
                        "learn": [
                          0.9392381512,
                          0.1665820912
                        ]
                      },
                      {
                        "test": [
                          0.9372735507,
                          0.1716557877
                        ],
                        "passed_time": 9.601103469,
                        "iteration": 158,
                        "remaining_time": 20.5910458,
                        "learn": [
                          0.9392381512,
                          0.1664785114
                        ]
                      },
                      {
                        "test": [
                          0.9372735507,
                          0.1715519238
                        ],
                        "passed_time": 9.646532309,
                        "iteration": 159,
                        "remaining_time": 20.49888116,
                        "learn": [
                          0.9392381512,
                          0.1662448397
                        ]
                      },
                      {
                        "test": [
                          0.9372735507,
                          0.1714339958
                        ],
                        "passed_time": 9.696449802,
                        "iteration": 160,
                        "remaining_time": 20.41674834,
                        "learn": [
                          0.9395808852,
                          0.1660461925
                        ]
                      },
                      {
                        "test": [
                          0.9370471014,
                          0.1713109748
                        ],
                        "passed_time": 9.749010589,
                        "iteration": 161,
                        "remaining_time": 20.34052826,
                        "learn": [
                          0.9394829612,
                          0.1658397709
                        ]
                      },
                      {
                        "test": [
                          0.9377264493,
                          0.1708566308
                        ],
                        "passed_time": 9.796926975,
                        "iteration": 162,
                        "remaining_time": 20.25499626,
                        "learn": [
                          0.9401194673,
                          0.1653564894
                        ]
                      },
                      {
                        "test": [
                          0.9375,
                          0.1705935393
                        ],
                        "passed_time": 9.84298579,
                        "iteration": 163,
                        "remaining_time": 20.16611723,
                        "learn": [
                          0.9401194673,
                          0.1649268969
                        ]
                      },
                      {
                        "test": [
                          0.9375,
                          0.1705866923
                        ],
                        "passed_time": 9.915495655,
                        "iteration": 164,
                        "remaining_time": 20.13146088,
                        "learn": [
                          0.9400705053,
                          0.1647556048
                        ]
                      },
                      {
                        "test": [
                          0.9375,
                          0.1704531332
                        ],
                        "passed_time": 9.971917804,
                        "iteration": 165,
                        "remaining_time": 20.0639792,
                        "learn": [
                          0.9403153153,
                          0.1646004109
                        ]
                      },
                      {
                        "test": [
                          0.9372735507,
                          0.1703296723
                        ],
                        "passed_time": 10.01725223,
                        "iteration": 166,
                        "remaining_time": 19.97452092,
                        "learn": [
                          0.9400215433,
                          0.1644357208
                        ]
                      },
                      {
                        "test": [
                          0.9377264493,
                          0.1699560911
                        ],
                        "passed_time": 10.06561116,
                        "iteration": 167,
                        "remaining_time": 19.89156492,
                        "learn": [
                          0.9401194673,
                          0.1641622108
                        ]
                      },
                      {
                        "test": [
                          0.9377264493,
                          0.1698474689
                        ],
                        "passed_time": 10.11058113,
                        "iteration": 168,
                        "remaining_time": 19.80238079,
                        "learn": [
                          0.9402663533,
                          0.163994771
                        ]
                      },
                      {
                        "test": [
                          0.9379528986,
                          0.1697143197
                        ],
                        "passed_time": 10.16673673,
                        "iteration": 169,
                        "remaining_time": 19.73543012,
                        "learn": [
                          0.9404132393,
                          0.1637205462
                        ]
                      },
                      {
                        "test": [
                          0.9381793478,
                          0.1696985901
                        ],
                        "passed_time": 10.21749917,
                        "iteration": 170,
                        "remaining_time": 19.6582294,
                        "learn": [
                          0.9406090873,
                          0.1636172613
                        ]
                      },
                      {
                        "test": [
                          0.9381793478,
                          0.1696935906
                        ],
                        "passed_time": 10.26565572,
                        "iteration": 171,
                        "remaining_time": 19.57636673,
                        "learn": [
                          0.9406580494,
                          0.1635193833
                        ]
                      },
                      {
                        "test": [
                          0.9384057971,
                          0.1696953182
                        ],
                        "passed_time": 10.31185361,
                        "iteration": 172,
                        "remaining_time": 19.4911915,
                        "learn": [
                          0.9409518214,
                          0.1632692442
                        ]
                      },
                      {
                        "test": [
                          0.9384057971,
                          0.1695441195
                        ],
                        "passed_time": 10.36469257,
                        "iteration": 173,
                        "remaining_time": 19.41890677,
                        "learn": [
                          0.9410007834,
                          0.1629966087
                        ]
                      },
                      {
                        "test": [
                          0.9386322464,
                          0.1689171547
                        ],
                        "passed_time": 10.4142518,
                        "iteration": 174,
                        "remaining_time": 19.34075335,
                        "learn": [
                          0.9410007834,
                          0.1627221348
                        ]
                      },
                      {
                        "test": [
                          0.9386322464,
                          0.1688996336
                        ],
                        "passed_time": 10.46148448,
                        "iteration": 175,
                        "remaining_time": 19.25864188,
                        "learn": [
                          0.9411476694,
                          0.1625616226
                        ]
                      },
                      {
                        "test": [
                          0.9386322464,
                          0.1690271918
                        ],
                        "passed_time": 10.51160175,
                        "iteration": 176,
                        "remaining_time": 19.1821885,
                        "learn": [
                          0.9412455934,
                          0.1623164823
                        ]
                      },
                      {
                        "test": [
                          0.9381793478,
                          0.1690065038
                        ],
                        "passed_time": 10.55828304,
                        "iteration": 177,
                        "remaining_time": 19.09981539,
                        "learn": [
                          0.9411476694,
                          0.1621832018
                        ]
                      },
                      {
                        "test": [
                          0.9386322464,
                          0.1688984682
                        ],
                        "passed_time": 10.60698442,
                        "iteration": 178,
                        "remaining_time": 19.02146369,
                        "learn": [
                          0.9411966314,
                          0.1620785745
                        ]
                      },
                      {
                        "test": [
                          0.9386322464,
                          0.1688708314
                        ],
                        "passed_time": 10.65775292,
                        "iteration": 179,
                        "remaining_time": 18.94711631,
                        "learn": [
                          0.9411966314,
                          0.1619460631
                        ]
                      },
                      {
                        "test": [
                          0.9384057971,
                          0.1688310471
                        ],
                        "passed_time": 10.70401386,
                        "iteration": 180,
                        "remaining_time": 18.86508519,
                        "learn": [
                          0.9412945554,
                          0.1617119381
                        ]
                      },
                      {
                        "test": [
                          0.9384057971,
                          0.1682760504
                        ],
                        "passed_time": 10.75191967,
                        "iteration": 181,
                        "remaining_time": 18.78632119,
                        "learn": [
                          0.9412945554,
                          0.1614926548
                        ]
                      },
                      {
                        "test": [
                          0.9384057971,
                          0.1682312395
                        ],
                        "passed_time": 10.80099548,
                        "iteration": 182,
                        "remaining_time": 18.70992114,
                        "learn": [
                          0.9413435174,
                          0.1613430144
                        ]
                      },
                      {
                        "test": [
                          0.9386322464,
                          0.1680360059
                        ],
                        "passed_time": 10.84686971,
                        "iteration": 183,
                        "remaining_time": 18.62831972,
                        "learn": [
                          0.9412455934,
                          0.1611480165
                        ]
                      },
                      {
                        "test": [
                          0.9386322464,
                          0.1677263109
                        ],
                        "passed_time": 10.91275863,
                        "iteration": 184,
                        "remaining_time": 18.58118361,
                        "learn": [
                          0.9415393655,
                          0.1607932547
                        ]
                      },
                      {
                        "test": [
                          0.9384057971,
                          0.1676644781
                        ],
                        "passed_time": 10.99506764,
                        "iteration": 185,
                        "remaining_time": 18.5615658,
                        "learn": [
                          0.9414414414,
                          0.1606246228
                        ]
                      },
                      {
                        "test": [
                          0.9384057971,
                          0.1676446318
                        ],
                        "passed_time": 11.04067907,
                        "iteration": 186,
                        "remaining_time": 18.47985321,
                        "learn": [
                          0.9415393655,
                          0.1605282553
                        ]
                      },
                      {
                        "test": [
                          0.9388586957,
                          0.1673583669
                        ],
                        "passed_time": 11.09526082,
                        "iteration": 187,
                        "remaining_time": 18.41341157,
                        "learn": [
                          0.9417352135,
                          0.1602618352
                        ]
                      },
                      {
                        "test": [
                          0.9388586957,
                          0.1672105083
                        ],
                        "passed_time": 11.14329369,
                        "iteration": 188,
                        "remaining_time": 18.33631924,
                        "learn": [
                          0.9418331375,
                          0.160036385
                        ]
                      },
                      {
                        "test": [
                          0.9388586957,
                          0.1671915309
                        ],
                        "passed_time": 11.19738249,
                        "iteration": 189,
                        "remaining_time": 18.26941353,
                        "learn": [
                          0.9420289855,
                          0.1599510769
                        ]
                      },
                      {
                        "test": [
                          0.9388586957,
                          0.1672646585
                        ],
                        "passed_time": 11.24397665,
                        "iteration": 190,
                        "remaining_time": 18.1905172,
                        "learn": [
                          0.9420779475,
                          0.1598628753
                        ]
                      },
                      {
                        "test": [
                          0.9388586957,
                          0.1672570375
                        ],
                        "passed_time": 11.29383726,
                        "iteration": 191,
                        "remaining_time": 18.11719726,
                        "learn": [
                          0.9420289855,
                          0.1597323539
                        ]
                      },
                      {
                        "test": [
                          0.9388586957,
                          0.1672265985
                        ],
                        "passed_time": 11.3428947,
                        "iteration": 192,
                        "remaining_time": 18.04284286,
                        "learn": [
                          0.9420779475,
                          0.1595544772
                        ]
                      },
                      {
                        "test": [
                          0.9388586957,
                          0.1671434567
                        ],
                        "passed_time": 11.39066002,
                        "iteration": 193,
                        "remaining_time": 17.96671116,
                        "learn": [
                          0.9420289855,
                          0.1594249117
                        ]
                      },
                      {
                        "test": [
                          0.9388586957,
                          0.167220628
                        ],
                        "passed_time": 11.4405309,
                        "iteration": 194,
                        "remaining_time": 17.89416372,
                        "learn": [
                          0.9421269095,
                          0.159323968
                        ]
                      },
                      {
                        "test": [
                          0.9388586957,
                          0.1670487639
                        ],
                        "passed_time": 11.49283102,
                        "iteration": 195,
                        "remaining_time": 17.82561545,
                        "learn": [
                          0.9422737955,
                          0.1590817854
                        ]
                      },
                      {
                        "test": [
                          0.9388586957,
                          0.1668108409
                        ],
                        "passed_time": 11.54588864,
                        "iteration": 196,
                        "remaining_time": 17.75839725,
                        "learn": [
                          0.9425675676,
                          0.1587296684
                        ]
                      },
                      {
                        "test": [
                          0.9388586957,
                          0.1667708332
                        ],
                        "passed_time": 11.59640414,
                        "iteration": 197,
                        "remaining_time": 17.6874447,
                        "learn": [
                          0.9424696436,
                          0.1586528136
                        ]
                      },
                      {
                        "test": [
                          0.9388586957,
                          0.1666473343
                        ],
                        "passed_time": 11.64239964,
                        "iteration": 198,
                        "remaining_time": 17.60986076,
                        "learn": [
                          0.9424696436,
                          0.158481675
                        ]
                      },
                      {
                        "test": [
                          0.9390851449,
                          0.1662651409
                        ],
                        "passed_time": 11.69471914,
                        "iteration": 199,
                        "remaining_time": 17.54207872,
                        "learn": [
                          0.9425675676,
                          0.1581909526
                        ]
                      },
                      {
                        "test": [
                          0.9390851449,
                          0.1663611897
                        ],
                        "passed_time": 11.74349701,
                        "iteration": 200,
                        "remaining_time": 17.46918213,
                        "learn": [
                          0.9427144536,
                          0.1580231256
                        ]
                      },
                      {
                        "test": [
                          0.9388586957,
                          0.1663075918
                        ],
                        "passed_time": 11.79351095,
                        "iteration": 201,
                        "remaining_time": 17.39834783,
                        "learn": [
                          0.9428613396,
                          0.1579263565
                        ]
                      },
                      {
                        "test": [
                          0.9393115942,
                          0.1662969744
                        ],
                        "passed_time": 11.83786933,
                        "iteration": 202,
                        "remaining_time": 17.31944429,
                        "learn": [
                          0.9428613396,
                          0.1578334992
                        ]
                      },
                      {
                        "test": [
                          0.9393115942,
                          0.166270092
                        ],
                        "passed_time": 11.88441722,
                        "iteration": 203,
                        "remaining_time": 17.24405635,
                        "learn": [
                          0.9428613396,
                          0.1577434086
                        ]
                      },
                      {
                        "test": [
                          0.9388586957,
                          0.1661030115
                        ],
                        "passed_time": 11.94493644,
                        "iteration": 204,
                        "remaining_time": 17.18905487,
                        "learn": [
                          0.9429592636,
                          0.1575497518
                        ]
                      },
                      {
                        "test": [
                          0.9388586957,
                          0.1661389304
                        ],
                        "passed_time": 12.01887037,
                        "iteration": 205,
                        "remaining_time": 17.15314509,
                        "learn": [
                          0.9431061496,
                          0.1573973147
                        ]
                      },
                      {
                        "test": [
                          0.9390851449,
                          0.1661674882
                        ],
                        "passed_time": 12.06414359,
                        "iteration": 206,
                        "remaining_time": 17.07629987,
                        "learn": [
                          0.9431061496,
                          0.1573144441
                        ]
                      },
                      {
                        "test": [
                          0.9390851449,
                          0.1661823892
                        ],
                        "passed_time": 12.10767638,
                        "iteration": 207,
                        "remaining_time": 16.99731491,
                        "learn": [
                          0.9431061496,
                          0.1572647439
                        ]
                      },
                      {
                        "test": [
                          0.9388586957,
                          0.1661534992
                        ],
                        "passed_time": 12.15473956,
                        "iteration": 208,
                        "remaining_time": 16.92358474,
                        "learn": [
                          0.9431551116,
                          0.1571355759
                        ]
                      },
                      {
                        "test": [
                          0.9393115942,
                          0.1661998632
                        ],
                        "passed_time": 12.20459422,
                        "iteration": 209,
                        "remaining_time": 16.85396345,
                        "learn": [
                          0.9430571876,
                          0.1569535015
                        ]
                      },
                      {
                        "test": [
                          0.9390851449,
                          0.1662063405
                        ],
                        "passed_time": 12.2492904,
                        "iteration": 210,
                        "remaining_time": 16.7774641,
                        "learn": [
                          0.9431061496,
                          0.1568483349
                        ]
                      },
                      {
                        "test": [
                          0.9390851449,
                          0.1661377278
                        ],
                        "passed_time": 12.3046272,
                        "iteration": 211,
                        "remaining_time": 16.71571996,
                        "learn": [
                          0.9431551116,
                          0.156767519
                        ]
                      },
                      {
                        "test": [
                          0.9395380435,
                          0.1657619734
                        ],
                        "passed_time": 12.35342592,
                        "iteration": 212,
                        "remaining_time": 16.64522648,
                        "learn": [
                          0.9434488837,
                          0.1564613775
                        ]
                      },
                      {
                        "test": [
                          0.9393115942,
                          0.1655987606
                        ],
                        "passed_time": 12.40176643,
                        "iteration": 213,
                        "remaining_time": 16.57432336,
                        "learn": [
                          0.9437916177,
                          0.1562295803
                        ]
                      },
                      {
                        "test": [
                          0.9393115942,
                          0.1654587525
                        ],
                        "passed_time": 12.44795034,
                        "iteration": 214,
                        "remaining_time": 16.50077139,
                        "learn": [
                          0.9436936937,
                          0.1560508286
                        ]
                      },
                      {
                        "test": [
                          0.9395380435,
                          0.1651710536
                        ],
                        "passed_time": 12.49769605,
                        "iteration": 215,
                        "remaining_time": 16.43215592,
                        "learn": [
                          0.9436447317,
                          0.1558560863
                        ]
                      },
                      {
                        "test": [
                          0.9397644928,
                          0.1649565216
                        ],
                        "passed_time": 12.54578972,
                        "iteration": 216,
                        "remaining_time": 16.36155986,
                        "learn": [
                          0.9436447317,
                          0.1557189321
                        ]
                      },
                      {
                        "test": [
                          0.9397644928,
                          0.1649592876
                        ],
                        "passed_time": 12.59324368,
                        "iteration": 217,
                        "remaining_time": 16.29034274,
                        "learn": [
                          0.9436936937,
                          0.1555976689
                        ]
                      },
                      {
                        "test": [
                          0.939990942,
                          0.1647577547
                        ],
                        "passed_time": 12.64045569,
                        "iteration": 218,
                        "remaining_time": 16.21903219,
                        "learn": [
                          0.9437916177,
                          0.1553791343
                        ]
                      },
                      {
                        "test": [
                          0.9397644928,
                          0.1647659994
                        ],
                        "passed_time": 12.69193185,
                        "iteration": 219,
                        "remaining_time": 16.15336781,
                        "learn": [
                          0.9439874657,
                          0.1551700895
                        ]
                      },
                      {
                        "test": [
                          0.9397644928,
                          0.1648007428
                        ],
                        "passed_time": 12.73789626,
                        "iteration": 220,
                        "remaining_time": 16.08087356,
                        "learn": [
                          0.9438895417,
                          0.1550121757
                        ]
                      },
                      {
                        "test": [
                          0.939990942,
                          0.1644075156
                        ],
                        "passed_time": 12.78965213,
                        "iteration": 221,
                        "remaining_time": 16.01587069,
                        "learn": [
                          0.9439385037,
                          0.1547772999
                        ]
                      },
                      {
                        "test": [
                          0.9397644928,
                          0.1644851759
                        ],
                        "passed_time": 12.83813236,
                        "iteration": 222,
                        "remaining_time": 15.94691778,
                        "learn": [
                          0.9440853897,
                          0.1546541751
                        ]
                      },
                      {
                        "test": [
                          0.9397644928,
                          0.1644379145
                        ],
                        "passed_time": 12.88788268,
                        "iteration": 223,
                        "remaining_time": 15.87971258,
                        "learn": [
                          0.9441833137,
                          0.1545145865
                        ]
                      },
                      {
                        "test": [
                          0.9397644928,
                          0.1642517138
                        ],
                        "passed_time": 12.94063641,
                        "iteration": 224,
                        "remaining_time": 15.81633339,
                        "learn": [
                          0.9442812378,
                          0.1541226662
                        ]
                      },
                      {
                        "test": [
                          0.9397644928,
                          0.1641851078
                        ],
                        "passed_time": 13.02597052,
                        "iteration": 225,
                        "remaining_time": 15.79254833,
                        "learn": [
                          0.9441833137,
                          0.1539701305
                        ]
                      },
                      {
                        "test": [
                          0.939990942,
                          0.1641162321
                        ],
                        "passed_time": 13.07356321,
                        "iteration": 226,
                        "remaining_time": 15.72283152,
                        "learn": [
                          0.9442322758,
                          0.1539118836
                        ]
                      },
                      {
                        "test": [
                          0.9402173913,
                          0.1635521464
                        ],
                        "passed_time": 13.1320498,
                        "iteration": 227,
                        "remaining_time": 15.66630503,
                        "learn": [
                          0.9442322758,
                          0.1536109065
                        ]
                      },
                      {
                        "test": [
                          0.9402173913,
                          0.1635548039
                        ],
                        "passed_time": 13.18118935,
                        "iteration": 228,
                        "remaining_time": 15.59870006,
                        "learn": [
                          0.9443301998,
                          0.1535185914
                        ]
                      },
                      {
                        "test": [
                          0.9402173913,
                          0.1635472886
                        ],
                        "passed_time": 13.23071115,
                        "iteration": 229,
                        "remaining_time": 15.53170439,
                        "learn": [
                          0.9444281238,
                          0.1533959016
                        ]
                      },
                      {
                        "test": [
                          0.9402173913,
                          0.1635062908
                        ],
                        "passed_time": 13.27811716,
                        "iteration": 230,
                        "remaining_time": 15.46239617,
                        "learn": [
                          0.9444770858,
                          0.1532335059
                        ]
                      },
                      {
                        "test": [
                          0.9404438406,
                          0.1634302628
                        ],
                        "passed_time": 13.32873011,
                        "iteration": 231,
                        "remaining_time": 15.39698134,
                        "learn": [
                          0.9446239718,
                          0.1530161404
                        ]
                      },
                      {
                        "test": [
                          0.9402173913,
                          0.1633504217
                        ],
                        "passed_time": 13.37803011,
                        "iteration": 232,
                        "remaining_time": 15.33018901,
                        "learn": [
                          0.9448687818,
                          0.1528879252
                        ]
                      },
                      {
                        "test": [
                          0.939990942,
                          0.1632186538
                        ],
                        "passed_time": 13.42708192,
                        "iteration": 233,
                        "remaining_time": 15.26326406,
                        "learn": [
                          0.9445750098,
                          0.15276379
                        ]
                      },
                      {
                        "test": [
                          0.939990942,
                          0.163181612
                        ],
                        "passed_time": 13.47908181,
                        "iteration": 234,
                        "remaining_time": 15.19981566,
                        "learn": [
                          0.9446729338,
                          0.1525886575
                        ]
                      },
                      {
                        "test": [
                          0.9402173913,
                          0.1630931876
                        ],
                        "passed_time": 13.52682545,
                        "iteration": 235,
                        "remaining_time": 15.13170304,
                        "learn": [
                          0.9447708578,
                          0.152387699
                        ]
                      },
                      {
                        "test": [
                          0.9404438406,
                          0.1630519845
                        ],
                        "passed_time": 13.56939253,
                        "iteration": 236,
                        "remaining_time": 15.05801787,
                        "learn": [
                          0.9447708578,
                          0.1523159896
                        ]
                      },
                      {
                        "test": [
                          0.9404438406,
                          0.1630265203
                        ],
                        "passed_time": 13.61571203,
                        "iteration": 237,
                        "remaining_time": 14.988725,
                        "learn": [
                          0.9450156678,
                          0.1521782571
                        ]
                      },
                      {
                        "test": [
                          0.9404438406,
                          0.1630262335
                        ],
                        "passed_time": 13.66327054,
                        "iteration": 238,
                        "remaining_time": 14.92097745,
                        "learn": [
                          0.9451135919,
                          0.1520744682
                        ]
                      },
                      {
                        "test": [
                          0.9408967391,
                          0.1627494199
                        ],
                        "passed_time": 13.71369913,
                        "iteration": 239,
                        "remaining_time": 14.85650739,
                        "learn": [
                          0.9453584019,
                          0.1517475623
                        ]
                      },
                      {
                        "test": [
                          0.9408967391,
                          0.1627126912
                        ],
                        "passed_time": 13.76249614,
                        "iteration": 240,
                        "remaining_time": 14.79040042,
                        "learn": [
                          0.9452115159,
                          0.1516906208
                        ]
                      },
                      {
                        "test": [
                          0.9406702899,
                          0.1626539282
                        ],
                        "passed_time": 13.81448691,
                        "iteration": 241,
                        "remaining_time": 14.72784142,
                        "learn": [
                          0.9452604779,
                          0.151551485
                        ]
                      },
                      {
                        "test": [
                          0.9406702899,
                          0.1626864323
                        ],
                        "passed_time": 13.86644313,
                        "iteration": 242,
                        "remaining_time": 14.66533286,
                        "learn": [
                          0.9451135919,
                          0.1514307015
                        ]
                      },
                      {
                        "test": [
                          0.9406702899,
                          0.1625038223
                        ],
                        "passed_time": 13.91744595,
                        "iteration": 243,
                        "remaining_time": 14.6019105,
                        "learn": [
                          0.9449667058,
                          0.1512310919
                        ]
                      },
                      {
                        "test": [
                          0.9404438406,
                          0.1625057909
                        ],
                        "passed_time": 13.97040262,
                        "iteration": 244,
                        "remaining_time": 14.54062314,
                        "learn": [
                          0.9450646298,
                          0.1511173546
                        ]
                      },
                      {
                        "test": [
                          0.9404438406,
                          0.1625403174
                        ],
                        "passed_time": 14.04983694,
                        "iteration": 245,
                        "remaining_time": 14.50674221,
                        "learn": [
                          0.9451135919,
                          0.1510137571
                        ]
                      },
                      {
                        "test": [
                          0.9406702899,
                          0.1624768974
                        ],
                        "passed_time": 14.09933665,
                        "iteration": 246,
                        "remaining_time": 14.44183066,
                        "learn": [
                          0.9452115159,
                          0.1509136757
                        ]
                      },
                      {
                        "test": [
                          0.9406702899,
                          0.1623668678
                        ],
                        "passed_time": 14.1495727,
                        "iteration": 247,
                        "remaining_time": 14.37779161,
                        "learn": [
                          0.9452115159,
                          0.1506773793
                        ]
                      },
                      {
                        "test": [
                          0.9408967391,
                          0.1624012386
                        ],
                        "passed_time": 14.19375992,
                        "iteration": 248,
                        "remaining_time": 14.30776603,
                        "learn": [
                          0.9451625539,
                          0.1506420313
                        ]
                      },
                      {
                        "test": [
                          0.9404438406,
                          0.1624682235
                        ],
                        "passed_time": 14.24153308,
                        "iteration": 249,
                        "remaining_time": 14.24153308,
                        "learn": [
                          0.9452604779,
                          0.1505601086
                        ]
                      },
                      {
                        "test": [
                          0.9404438406,
                          0.1623863847
                        ],
                        "passed_time": 14.28618484,
                        "iteration": 250,
                        "remaining_time": 14.1723507,
                        "learn": [
                          0.9451135919,
                          0.1504630478
                        ]
                      },
                      {
                        "test": [
                          0.9406702899,
                          0.1622997083
                        ],
                        "passed_time": 14.33461549,
                        "iteration": 251,
                        "remaining_time": 14.10708192,
                        "learn": [
                          0.9453094399,
                          0.1503468773
                        ]
                      },
                      {
                        "test": [
                          0.9406702899,
                          0.1622012964
                        ],
                        "passed_time": 14.38907697,
                        "iteration": 252,
                        "remaining_time": 14.04783404,
                        "learn": [
                          0.9455052879,
                          0.1500076397
                        ]
                      },
                      {
                        "test": [
                          0.9402173913,
                          0.1622340714
                        ],
                        "passed_time": 14.43694084,
                        "iteration": 253,
                        "remaining_time": 13.98223404,
                        "learn": [
                          0.9457500979,
                          0.1498752422
                        ]
                      },
                      {
                        "test": [
                          0.9406702899,
                          0.1622445769
                        ],
                        "passed_time": 14.48245791,
                        "iteration": 254,
                        "remaining_time": 13.91451838,
                        "learn": [
                          0.9457500979,
                          0.149790055
                        ]
                      },
                      {
                        "test": [
                          0.9406702899,
                          0.1621485358
                        ],
                        "passed_time": 14.53159248,
                        "iteration": 255,
                        "remaining_time": 13.85042408,
                        "learn": [
                          0.9457500979,
                          0.1496552712
                        ]
                      },
                      {
                        "test": [
                          0.9408967391,
                          0.1619894393
                        ],
                        "passed_time": 14.58705432,
                        "iteration": 256,
                        "remaining_time": 13.7924288,
                        "learn": [
                          0.9456032119,
                          0.1495099278
                        ]
                      },
                      {
                        "test": [
                          0.9411231884,
                          0.1618293395
                        ],
                        "passed_time": 14.63755226,
                        "iteration": 257,
                        "remaining_time": 13.72979708,
                        "learn": [
                          0.9455052879,
                          0.1493504362
                        ]
                      },
                      {
                        "test": [
                          0.9411231884,
                          0.1617878173
                        ],
                        "passed_time": 14.68566728,
                        "iteration": 258,
                        "remaining_time": 13.66504176,
                        "learn": [
                          0.9455052879,
                          0.1492818762
                        ]
                      },
                      {
                        "test": [
                          0.9411231884,
                          0.1618135085
                        ],
                        "passed_time": 14.7315386,
                        "iteration": 259,
                        "remaining_time": 13.59834332,
                        "learn": [
                          0.9456032119,
                          0.1492246838
                        ]
                      },
                      {
                        "test": [
                          0.941576087,
                          0.1614269917
                        ],
                        "passed_time": 14.7853619,
                        "iteration": 260,
                        "remaining_time": 13.53908618,
                        "learn": [
                          0.9458480219,
                          0.1488362305
                        ]
                      },
                      {
                        "test": [
                          0.9413496377,
                          0.1615142549
                        ],
                        "passed_time": 14.83778484,
                        "iteration": 261,
                        "remaining_time": 13.47859845,
                        "learn": [
                          0.9456521739,
                          0.1486045273
                        ]
                      },
                      {
                        "test": [
                          0.9411231884,
                          0.1615533879
                        ],
                        "passed_time": 14.89180978,
                        "iteration": 262,
                        "remaining_time": 13.41961566,
                        "learn": [
                          0.9458480219,
                          0.1485051157
                        ]
                      },
                      {
                        "test": [
                          0.9413496377,
                          0.1616091257
                        ],
                        "passed_time": 14.9405539,
                        "iteration": 263,
                        "remaining_time": 13.3559497,
                        "learn": [
                          0.9458969839,
                          0.1483445704
                        ]
                      },
                      {
                        "test": [
                          0.941576087,
                          0.1615530112
                        ],
                        "passed_time": 14.99315546,
                        "iteration": 264,
                        "remaining_time": 13.29581711,
                        "learn": [
                          0.9459459459,
                          0.1482107556
                        ]
                      },
                      {
                        "test": [
                          0.941576087,
                          0.1616082227
                        ],
                        "passed_time": 15.0765849,
                        "iteration": 265,
                        "remaining_time": 13.2628604,
                        "learn": [
                          0.94604387,
                          0.1479913829
                        ]
                      },
                      {
                        "test": [
                          0.941576087,
                          0.1615744321
                        ],
                        "passed_time": 15.12351058,
                        "iteration": 266,
                        "remaining_time": 13.19767028,
                        "learn": [
                          0.94604387,
                          0.1478902713
                        ]
                      },
                      {
                        "test": [
                          0.9411231884,
                          0.1615784132
                        ],
                        "passed_time": 15.17040733,
                        "iteration": 267,
                        "remaining_time": 13.13259142,
                        "learn": [
                          0.946190756,
                          0.1476878065
                        ]
                      },
                      {
                        "test": [
                          0.9408967391,
                          0.1615377851
                        ],
                        "passed_time": 15.22009689,
                        "iteration": 268,
                        "remaining_time": 13.07004603,
                        "learn": [
                          0.94628868,
                          0.1474969312
                        ]
                      },
                      {
                        "test": [
                          0.9413496377,
                          0.1615382853
                        ],
                        "passed_time": 15.26844981,
                        "iteration": 269,
                        "remaining_time": 13.00645725,
                        "learn": [
                          0.946386604,
                          0.147341731
                        ]
                      },
                      {
                        "test": [
                          0.9413496377,
                          0.1615315839
                        ],
                        "passed_time": 15.31337623,
                        "iteration": 270,
                        "remaining_time": 12.94008545,
                        "learn": [
                          0.946484528,
                          0.147205172
                        ]
                      },
                      {
                        "test": [
                          0.9413496377,
                          0.161479055
                        ],
                        "passed_time": 15.36027853,
                        "iteration": 271,
                        "remaining_time": 12.87552759,
                        "learn": [
                          0.94653349,
                          0.1471471744
                        ]
                      },
                      {
                        "test": [
                          0.9413496377,
                          0.1613579115
                        ],
                        "passed_time": 15.40642503,
                        "iteration": 272,
                        "remaining_time": 12.81047063,
                        "learn": [
                          0.946582452,
                          0.1470337223
                        ]
                      },
                      {
                        "test": [
                          0.9413496377,
                          0.1612915406
                        ],
                        "passed_time": 15.45462668,
                        "iteration": 273,
                        "remaining_time": 12.74724682,
                        "learn": [
                          0.946680376,
                          0.1469147845
                        ]
                      },
                      {
                        "test": [
                          0.9411231884,
                          0.1613058431
                        ],
                        "passed_time": 15.50377844,
                        "iteration": 274,
                        "remaining_time": 12.68490963,
                        "learn": [
                          0.946631414,
                          0.1468253532
                        ]
                      },
                      {
                        "test": [
                          0.941576087,
                          0.1612127918
                        ],
                        "passed_time": 15.55257117,
                        "iteration": 275,
                        "remaining_time": 12.6223766,
                        "learn": [
                          0.9469251861,
                          0.1467026065
                        ]
                      },
                      {
                        "test": [
                          0.9418025362,
                          0.1613521628
                        ],
                        "passed_time": 15.60247172,
                        "iteration": 276,
                        "remaining_time": 12.56083463,
                        "learn": [
                          0.9469741481,
                          0.1466193381
                        ]
                      },
                      {
                        "test": [
                          0.941576087,
                          0.1613198708
                        ],
                        "passed_time": 15.65147345,
                        "iteration": 277,
                        "remaining_time": 12.49865865,
                        "learn": [
                          0.9469251861,
                          0.1465228092
                        ]
                      },
                      {
                        "test": [
                          0.941576087,
                          0.1613247542
                        ],
                        "passed_time": 15.70143239,
                        "iteration": 278,
                        "remaining_time": 12.43733533,
                        "learn": [
                          0.9471210341,
                          0.1463558054
                        ]
                      },
                      {
                        "test": [
                          0.9418025362,
                          0.1614717997
                        ],
                        "passed_time": 15.74913022,
                        "iteration": 279,
                        "remaining_time": 12.37431661,
                        "learn": [
                          0.9471699961,
                          0.1461735858
                        ]
                      },
                      {
                        "test": [
                          0.9418025362,
                          0.1614087997
                        ],
                        "passed_time": 15.80236708,
                        "iteration": 280,
                        "remaining_time": 12.31572381,
                        "learn": [
                          0.9471210341,
                          0.1460399787
                        ]
                      },
                      {
                        "test": [
                          0.9418025362,
                          0.1613899083
                        ],
                        "passed_time": 15.848947,
                        "iteration": 281,
                        "remaining_time": 12.25202286,
                        "learn": [
                          0.9471699961,
                          0.1459010772
                        ]
                      },
                      {
                        "test": [
                          0.9418025362,
                          0.161409168
                        ],
                        "passed_time": 15.89703469,
                        "iteration": 282,
                        "remaining_time": 12.18959904,
                        "learn": [
                          0.9472679201,
                          0.1458414826
                        ]
                      },
                      {
                        "test": [
                          0.9418025362,
                          0.1614201797
                        ],
                        "passed_time": 15.94665919,
                        "iteration": 283,
                        "remaining_time": 12.12844502,
                        "learn": [
                          0.9472679201,
                          0.1457903192
                        ]
                      },
                      {
                        "test": [
                          0.9418025362,
                          0.1613972738
                        ],
                        "passed_time": 15.99961216,
                        "iteration": 284,
                        "remaining_time": 12.06988286,
                        "learn": [
                          0.9473168821,
                          0.1457253985
                        ]
                      },
                      {
                        "test": [
                          0.9418025362,
                          0.1613958316
                        ],
                        "passed_time": 16.03288793,
                        "iteration": 285,
                        "remaining_time": 11.99663642,
                        "learn": [
                          0.9473168821,
                          0.1457181681
                        ]
                      },
                      {
                        "test": [
                          0.941576087,
                          0.1614242097
                        ],
                        "passed_time": 16.10925012,
                        "iteration": 286,
                        "remaining_time": 11.95564556,
                        "learn": [
                          0.9475127301,
                          0.1456407506
                        ]
                      },
                      {
                        "test": [
                          0.941576087,
                          0.1612790579
                        ],
                        "passed_time": 16.16091286,
                        "iteration": 287,
                        "remaining_time": 11.89622752,
                        "learn": [
                          0.9475127301,
                          0.1454369967
                        ]
                      },
                      {
                        "test": [
                          0.941576087,
                          0.161296262
                        ],
                        "passed_time": 16.20468292,
                        "iteration": 288,
                        "remaining_time": 11.83110068,
                        "learn": [
                          0.9474637681,
                          0.1454059069
                        ]
                      },
                      {
                        "test": [
                          0.9418025362,
                          0.1613104135
                        ],
                        "passed_time": 16.25280458,
                        "iteration": 289,
                        "remaining_time": 11.76927228,
                        "learn": [
                          0.9477575401,
                          0.1452721706
                        ]
                      },
                      {
                        "test": [
                          0.9420289855,
                          0.1612123774
                        ],
                        "passed_time": 16.29988141,
                        "iteration": 290,
                        "remaining_time": 11.70678768,
                        "learn": [
                          0.9477575401,
                          0.1451177257
                        ]
                      },
                      {
                        "test": [
                          0.9420289855,
                          0.1611989934
                        ],
                        "passed_time": 16.34458822,
                        "iteration": 291,
                        "remaining_time": 11.64272037,
                        "learn": [
                          0.9478554642,
                          0.1450053674
                        ]
                      },
                      {
                        "test": [
                          0.9413496377,
                          0.1609634547
                        ],
                        "passed_time": 16.39376925,
                        "iteration": 292,
                        "remaining_time": 11.58194619,
                        "learn": [
                          0.9480513122,
                          0.1449228724
                        ]
                      },
                      {
                        "test": [
                          0.9413496377,
                          0.1609325811
                        ],
                        "passed_time": 16.44235486,
                        "iteration": 293,
                        "remaining_time": 11.52083367,
                        "learn": [
                          0.9480023502,
                          0.1448303917
                        ]
                      },
                      {
                        "test": [
                          0.9413496377,
                          0.1608905052
                        ],
                        "passed_time": 16.49817715,
                        "iteration": 294,
                        "remaining_time": 11.46483497,
                        "learn": [
                          0.9479044262,
                          0.1447122902
                        ]
                      },
                      {
                        "test": [
                          0.9413496377,
                          0.1607895542
                        ],
                        "passed_time": 16.54660656,
                        "iteration": 295,
                        "remaining_time": 11.40374236,
                        "learn": [
                          0.9479533882,
                          0.1445694512
                        ]
                      },
                      {
                        "test": [
                          0.9418025362,
                          0.1607704923
                        ],
                        "passed_time": 16.59755946,
                        "iteration": 296,
                        "remaining_time": 11.34445983,
                        "learn": [
                          0.9480513122,
                          0.1444591829
                        ]
                      },
                      {
                        "test": [
                          0.941576087,
                          0.1608192583
                        ],
                        "passed_time": 16.6477905,
                        "iteration": 297,
                        "remaining_time": 11.28474389,
                        "learn": [
                          0.9479533882,
                          0.1443106933
                        ]
                      },
                      {
                        "test": [
                          0.9413496377,
                          0.1608041925
                        ],
                        "passed_time": 16.69401648,
                        "iteration": 298,
                        "remaining_time": 11.22239904,
                        "learn": [
                          0.9479533882,
                          0.1442447329
                        ]
                      },
                      {
                        "test": [
                          0.941576087,
                          0.1607954799
                        ],
                        "passed_time": 16.74023608,
                        "iteration": 299,
                        "remaining_time": 11.16015739,
                        "learn": [
                          0.9480513122,
                          0.1441736985
                        ]
                      },
                      {
                        "test": [
                          0.941576087,
                          0.1607513703
                        ],
                        "passed_time": 16.7936612,
                        "iteration": 300,
                        "remaining_time": 11.10278598,
                        "learn": [
                          0.9481492362,
                          0.143944512
                        ]
                      },
                      {
                        "test": [
                          0.941576087,
                          0.160746513
                        ],
                        "passed_time": 16.84445285,
                        "iteration": 301,
                        "remaining_time": 11.04371412,
                        "learn": [
                          0.9483450842,
                          0.1438364957
                        ]
                      },
                      {
                        "test": [
                          0.941576087,
                          0.1607224078
                        ],
                        "passed_time": 16.89147884,
                        "iteration": 302,
                        "remaining_time": 10.98224862,
                        "learn": [
                          0.9485898942,
                          0.1437378649
                        ]
                      },
                      {
                        "test": [
                          0.9413496377,
                          0.1607665516
                        ],
                        "passed_time": 16.93872931,
                        "iteration": 303,
                        "remaining_time": 10.92102284,
                        "learn": [
                          0.9484919702,
                          0.1436673933
                        ]
                      },
                      {
                        "test": [
                          0.9413496377,
                          0.1607518261
                        ],
                        "passed_time": 16.9905285,
                        "iteration": 304,
                        "remaining_time": 10.86279691,
                        "learn": [
                          0.9483940462,
                          0.1435389225
                        ]
                      },
                      {
                        "test": [
                          0.9411231884,
                          0.1607225341
                        ],
                        "passed_time": 17.03583175,
                        "iteration": 305,
                        "remaining_time": 10.80049464,
                        "learn": [
                          0.9484430082,
                          0.1434695201
                        ]
                      },
                      {
                        "test": [
                          0.9411231884,
                          0.1607491041
                        ],
                        "passed_time": 17.12156199,
                        "iteration": 306,
                        "remaining_time": 10.76371812,
                        "learn": [
                          0.9483940462,
                          0.1434148663
                        ]
                      },
                      {
                        "test": [
                          0.9411231884,
                          0.1608229318
                        ],
                        "passed_time": 17.1826103,
                        "iteration": 307,
                        "remaining_time": 10.71123759,
                        "learn": [
                          0.9484919702,
                          0.1432754
                        ]
                      },
                      {
                        "test": [
                          0.9408967391,
                          0.1607920361
                        ],
                        "passed_time": 17.23360482,
                        "iteration": 308,
                        "remaining_time": 10.65248712,
                        "learn": [
                          0.9486878183,
                          0.1431336908
                        ]
                      },
                      {
                        "test": [
                          0.9408967391,
                          0.1607474104
                        ],
                        "passed_time": 17.28198163,
                        "iteration": 309,
                        "remaining_time": 10.59218229,
                        "learn": [
                          0.9487857423,
                          0.1429887739
                        ]
                      },
                      {
                        "test": [
                          0.9408967391,
                          0.1606824881
                        ],
                        "passed_time": 17.33217239,
                        "iteration": 310,
                        "remaining_time": 10.53305653,
                        "learn": [
                          0.9487857423,
                          0.1428868231
                        ]
                      },
                      {
                        "test": [
                          0.9408967391,
                          0.1606530912
                        ],
                        "passed_time": 17.37540774,
                        "iteration": 311,
                        "remaining_time": 10.46979697,
                        "learn": [
                          0.9487857423,
                          0.1428106359
                        ]
                      },
                      {
                        "test": [
                          0.9408967391,
                          0.1607295345
                        ],
                        "passed_time": 17.4195929,
                        "iteration": 312,
                        "remaining_time": 10.40723282,
                        "learn": [
                          0.9486388562,
                          0.1427341926
                        ]
                      },
                      {
                        "test": [
                          0.9411231884,
                          0.1604966675
                        ],
                        "passed_time": 17.47125957,
                        "iteration": 313,
                        "remaining_time": 10.34921745,
                        "learn": [
                          0.9487857423,
                          0.1425430283
                        ]
                      },
                      {
                        "test": [
                          0.9411231884,
                          0.1604665397
                        ],
                        "passed_time": 17.51919222,
                        "iteration": 314,
                        "remaining_time": 10.2890494,
                        "learn": [
                          0.9488347043,
                          0.1424806633
                        ]
                      },
                      {
                        "test": [
                          0.9413496377,
                          0.1604232231
                        ],
                        "passed_time": 17.56557032,
                        "iteration": 315,
                        "remaining_time": 10.22805361,
                        "learn": [
                          0.9488836663,
                          0.1424020894
                        ]
                      },
                      {
                        "test": [
                          0.9411231884,
                          0.1607760475
                        ],
                        "passed_time": 17.62119519,
                        "iteration": 316,
                        "remaining_time": 10.17248807,
                        "learn": [
                          0.9488836663,
                          0.1421315628
                        ]
                      },
                      {
                        "test": [
                          0.9411231884,
                          0.1607523166
                        ],
                        "passed_time": 17.6704654,
                        "iteration": 317,
                        "remaining_time": 10.11328523,
                        "learn": [
                          0.9487857423,
                          0.1420020621
                        ]
                      },
                      {
                        "test": [
                          0.9411231884,
                          0.1607407375
                        ],
                        "passed_time": 17.71485562,
                        "iteration": 318,
                        "remaining_time": 10.05137576,
                        "learn": [
                          0.9489326283,
                          0.1419730966
                        ]
                      },
                      {
                        "test": [
                          0.9411231884,
                          0.1607139534
                        ],
                        "passed_time": 17.75956206,
                        "iteration": 319,
                        "remaining_time": 9.989753661,
                        "learn": [
                          0.9487857423,
                          0.1419254564
                        ]
                      },
                      {
                        "test": [
                          0.9408967391,
                          0.1608334587
                        ],
                        "passed_time": 17.80512556,
                        "iteration": 320,
                        "remaining_time": 9.928714877,
                        "learn": [
                          0.9490795143,
                          0.1418426187
                        ]
                      },
                      {
                        "test": [
                          0.9411231884,
                          0.1608756813
                        ],
                        "passed_time": 17.8749607,
                        "iteration": 321,
                        "remaining_time": 9.881189456,
                        "learn": [
                          0.9491774383,
                          0.1417726424
                        ]
                      },
                      {
                        "test": [
                          0.9411231884,
                          0.1609076401
                        ],
                        "passed_time": 17.92292788,
                        "iteration": 322,
                        "remaining_time": 9.821542524,
                        "learn": [
                          0.9490795143,
                          0.1416831812
                        ]
                      },
                      {
                        "test": [
                          0.9411231884,
                          0.1604461202
                        ],
                        "passed_time": 17.98090691,
                        "iteration": 323,
                        "remaining_time": 9.767406222,
                        "learn": [
                          0.9494222483,
                          0.1413673924
                        ]
                      },
                      {
                        "test": [
                          0.9411231884,
                          0.1604194021
                        ],
                        "passed_time": 18.02790626,
                        "iteration": 324,
                        "remaining_time": 9.707334137,
                        "learn": [
                          0.9495691344,
                          0.1411361789
                        ]
                      },
                      {
                        "test": [
                          0.9408967391,
                          0.1603865732
                        ],
                        "passed_time": 18.08986341,
                        "iteration": 325,
                        "remaining_time": 9.655325869,
                        "learn": [
                          0.9496180964,
                          0.1409667535
                        ]
                      },
                      {
                        "test": [
                          0.9408967391,
                          0.1603671993
                        ],
                        "passed_time": 18.1731366,
                        "iteration": 326,
                        "remaining_time": 9.614534045,
                        "learn": [
                          0.9495201723,
                          0.1409173112
                        ]
                      },
                      {
                        "test": [
                          0.9408967391,
                          0.1603290534
                        ],
                        "passed_time": 18.22102951,
                        "iteration": 327,
                        "remaining_time": 9.554930108,
                        "learn": [
                          0.9495691344,
                          0.1408384167
                        ]
                      },
                      {
                        "test": [
                          0.9408967391,
                          0.1603459102
                        ],
                        "passed_time": 18.27011516,
                        "iteration": 328,
                        "remaining_time": 9.4960173,
                        "learn": [
                          0.9497160204,
                          0.1406631959
                        ]
                      },
                      {
                        "test": [
                          0.9406702899,
                          0.1603527115
                        ],
                        "passed_time": 18.31979894,
                        "iteration": 329,
                        "remaining_time": 9.437472182,
                        "learn": [
                          0.9497649824,
                          0.1405659767
                        ]
                      },
                      {
                        "test": [
                          0.9408967391,
                          0.1603486452
                        ],
                        "passed_time": 18.36907161,
                        "iteration": 330,
                        "remaining_time": 9.378770701,
                        "learn": [
                          0.9498139444,
                          0.140474677
                        ]
                      },
                      {
                        "test": [
                          0.9406702899,
                          0.1603496889
                        ],
                        "passed_time": 18.41991492,
                        "iteration": 331,
                        "remaining_time": 9.320920805,
                        "learn": [
                          0.9499608304,
                          0.1403516566
                        ]
                      },
                      {
                        "test": [
                          0.9404438406,
                          0.1602353543
                        ],
                        "passed_time": 18.46525487,
                        "iteration": 332,
                        "remaining_time": 9.260353042,
                        "learn": [
                          0.9499118684,
                          0.1403236814
                        ]
                      },
                      {
                        "test": [
                          0.9406702899,
                          0.1602595273
                        ],
                        "passed_time": 18.5169637,
                        "iteration": 333,
                        "remaining_time": 9.203041836,
                        "learn": [
                          0.9499608304,
                          0.1402487333
                        ]
                      },
                      {
                        "test": [
                          0.9406702899,
                          0.1602712621
                        ],
                        "passed_time": 18.55906071,
                        "iteration": 334,
                        "remaining_time": 9.1410299,
                        "learn": [
                          0.9499608304,
                          0.1402352975
                        ]
                      },
                      {
                        "test": [
                          0.9406702899,
                          0.1601985083
                        ],
                        "passed_time": 18.60550887,
                        "iteration": 335,
                        "remaining_time": 9.081260283,
                        "learn": [
                          0.9500587544,
                          0.1401128575
                        ]
                      },
                      {
                        "test": [
                          0.9406702899,
                          0.1602292869
                        ],
                        "passed_time": 18.65617669,
                        "iteration": 336,
                        "remaining_time": 9.023610684,
                        "learn": [
                          0.9502056404,
                          0.1400468884
                        ]
                      },
                      {
                        "test": [
                          0.9402173913,
                          0.1602592603
                        ],
                        "passed_time": 18.70729023,
                        "iteration": 337,
                        "remaining_time": 8.966216027,
                        "learn": [
                          0.9500097924,
                          0.1399318905
                        ]
                      },
                      {
                        "test": [
                          0.9404438406,
                          0.160216853
                        ],
                        "passed_time": 18.75776083,
                        "iteration": 338,
                        "remaining_time": 8.908553081,
                        "learn": [
                          0.9500587544,
                          0.1398253795
                        ]
                      },
                      {
                        "test": [
                          0.9406702899,
                          0.1601559133
                        ],
                        "passed_time": 18.80373977,
                        "iteration": 339,
                        "remaining_time": 8.848818714,
                        "learn": [
                          0.9502056404,
                          0.1396744464
                        ]
                      },
                      {
                        "test": [
                          0.9402173913,
                          0.1600208674
                        ],
                        "passed_time": 18.848438,
                        "iteration": 340,
                        "remaining_time": 8.788567867,
                        "learn": [
                          0.9501077164,
                          0.1396040742
                        ]
                      },
                      {
                        "test": [
                          0.9406702899,
                          0.1600049235
                        ],
                        "passed_time": 18.89648016,
                        "iteration": 341,
                        "remaining_time": 8.729952825,
                        "learn": [
                          0.9502056404,
                          0.1395203134
                        ]
                      },
                      {
                        "test": [
                          0.9404438406,
                          0.1599934728
                        ],
                        "passed_time": 18.94598637,
                        "iteration": 342,
                        "remaining_time": 8.672069564,
                        "learn": [
                          0.9502056404,
                          0.1394154719
                        ]
                      },
                      {
                        "test": [
                          0.9404438406,
                          0.1598750599
                        ],
                        "passed_time": 18.99319686,
                        "iteration": 343,
                        "remaining_time": 8.613193923,
                        "learn": [
                          0.9502546024,
                          0.1392909105
                        ]
                      },
                      {
                        "test": [
                          0.9404438406,
                          0.1598526747
                        ],
                        "passed_time": 19.0392842,
                        "iteration": 344,
                        "remaining_time": 8.553881308,
                        "learn": [
                          0.9503035644,
                          0.1392277814
                        ]
                      },
                      {
                        "test": [
                          0.9404438406,
                          0.1597971206
                        ],
                        "passed_time": 19.0914861,
                        "iteration": 345,
                        "remaining_time": 8.497366647,
                        "learn": [
                          0.9503035644,
                          0.1391213116
                        ]
                      },
                      {
                        "test": [
                          0.9402173913,
                          0.1597579209
                        ],
                        "passed_time": 19.16503353,
                        "iteration": 346,
                        "remaining_time": 8.450288559,
                        "learn": [
                          0.9504014884,
                          0.1389978333
                        ]
                      },
                      {
                        "test": [
                          0.9402173913,
                          0.1597110613
                        ],
                        "passed_time": 19.23072138,
                        "iteration": 347,
                        "remaining_time": 8.399625428,
                        "learn": [
                          0.9503525264,
                          0.1388174878
                        ]
                      },
                      {
                        "test": [
                          0.9404438406,
                          0.1596768588
                        ],
                        "passed_time": 19.28071219,
                        "iteration": 348,
                        "remaining_time": 8.342084646,
                        "learn": [
                          0.9503035644,
                          0.138714285
                        ]
                      },
                      {
                        "test": [
                          0.9404438406,
                          0.1596731165
                        ],
                        "passed_time": 19.32514675,
                        "iteration": 349,
                        "remaining_time": 8.28220575,
                        "learn": [
                          0.9504014884,
                          0.1386728721
                        ]
                      },
                      {
                        "test": [
                          0.9408967391,
                          0.1596414454
                        ],
                        "passed_time": 19.37603066,
                        "iteration": 350,
                        "remaining_time": 8.225152615,
                        "learn": [
                          0.9504014884,
                          0.1385916854
                        ]
                      },
                      {
                        "test": [
                          0.9406702899,
                          0.159709426
                        ],
                        "passed_time": 19.42055716,
                        "iteration": 351,
                        "remaining_time": 8.165461535,
                        "learn": [
                          0.9504014884,
                          0.1385247074
                        ]
                      },
                      {
                        "test": [
                          0.9406702899,
                          0.1597154597
                        ],
                        "passed_time": 19.47273909,
                        "iteration": 352,
                        "remaining_time": 8.109044324,
                        "learn": [
                          0.9504014884,
                          0.1383956845
                        ]
                      },
                      {
                        "test": [
                          0.9406702899,
                          0.1599773032
                        ],
                        "passed_time": 19.52817612,
                        "iteration": 353,
                        "remaining_time": 8.053993543,
                        "learn": [
                          0.9506462985,
                          0.1382515659
                        ]
                      },
                      {
                        "test": [
                          0.9406702899,
                          0.1600023625
                        ],
                        "passed_time": 19.5806173,
                        "iteration": 354,
                        "remaining_time": 7.997716925,
                        "learn": [
                          0.9506462985,
                          0.1381648335
                        ]
                      },
                      {
                        "test": [
                          0.9402173913,
                          0.1599487273
                        ],
                        "passed_time": 19.62749845,
                        "iteration": 355,
                        "remaining_time": 7.939212854,
                        "learn": [
                          0.9505483745,
                          0.1380013144
                        ]
                      },
                      {
                        "test": [
                          0.9402173913,
                          0.1599393374
                        ],
                        "passed_time": 19.67495603,
                        "iteration": 356,
                        "remaining_time": 7.881004796,
                        "learn": [
                          0.9505483745,
                          0.1379475933
                        ]
                      },
                      {
                        "test": [
                          0.9404438406,
                          0.1598099641
                        ],
                        "passed_time": 19.72025755,
                        "iteration": 357,
                        "remaining_time": 7.822001599,
                        "learn": [
                          0.9504994125,
                          0.1378250352
                        ]
                      },
                      {
                        "test": [
                          0.9404438406,
                          0.1599656023
                        ],
                        "passed_time": 19.77253776,
                        "iteration": 358,
                        "remaining_time": 7.765815668,
                        "learn": [
                          0.9508421465,
                          0.1376165383
                        ]
                      },
                      {
                        "test": [
                          0.9404438406,
                          0.1600319427
                        ],
                        "passed_time": 19.81821497,
                        "iteration": 359,
                        "remaining_time": 7.707083601,
                        "learn": [
                          0.9508911085,
                          0.1375344341
                        ]
                      },
                      {
                        "test": [
                          0.9404438406,
                          0.1599510975
                        ],
                        "passed_time": 19.86689005,
                        "iteration": 360,
                        "remaining_time": 7.649578164,
                        "learn": [
                          0.9508421465,
                          0.1374423638
                        ]
                      },
                      {
                        "test": [
                          0.9402173913,
                          0.1599399193
                        ],
                        "passed_time": 19.91403275,
                        "iteration": 361,
                        "remaining_time": 7.591537348,
                        "learn": [
                          0.9510379945,
                          0.1374010144
                        ]
                      },
                      {
                        "test": [
                          0.9402173913,
                          0.1599721915
                        ],
                        "passed_time": 19.96051203,
                        "iteration": 362,
                        "remaining_time": 7.533306194,
                        "learn": [
                          0.9510869565,
                          0.1372709504
                        ]
                      },
                      {
                        "test": [
                          0.9404438406,
                          0.1599403843
                        ],
                        "passed_time": 20.00858467,
                        "iteration": 363,
                        "remaining_time": 7.475734933,
                        "learn": [
                          0.9510379945,
                          0.1371569484
                        ]
                      },
                      {
                        "test": [
                          0.9404438406,
                          0.159904428
                        ],
                        "passed_time": 20.06253713,
                        "iteration": 364,
                        "remaining_time": 7.420390445,
                        "learn": [
                          0.9512338425,
                          0.1370700029
                        ]
                      },
                      {
                        "test": [
                          0.9404438406,
                          0.1598677058
                        ],
                        "passed_time": 20.11860763,
                        "iteration": 365,
                        "remaining_time": 7.365829025,
                        "learn": [
                          0.9512338425,
                          0.137028027
                        ]
                      },
                      {
                        "test": [
                          0.9402173913,
                          0.1599007662
                        ],
                        "passed_time": 20.17011616,
                        "iteration": 366,
                        "remaining_time": 7.30960613,
                        "learn": [
                          0.9513807286,
                          0.1369351775
                        ]
                      },
                      {
                        "test": [
                          0.939990942,
                          0.159989346
                        ],
                        "passed_time": 20.25609549,
                        "iteration": 367,
                        "remaining_time": 7.265773382,
                        "learn": [
                          0.9513807286,
                          0.1368250644
                        ]
                      },
                      {
                        "test": [
                          0.9402173913,
                          0.1599698084
                        ],
                        "passed_time": 20.3092837,
                        "iteration": 368,
                        "remaining_time": 7.210070907,
                        "learn": [
                          0.9513317665,
                          0.1366966097
                        ]
                      },
                      {
                        "test": [
                          0.9408967391,
                          0.1599060974
                        ],
                        "passed_time": 20.36002217,
                        "iteration": 369,
                        "remaining_time": 7.153521303,
                        "learn": [
                          0.9515276146,
                          0.1364811384
                        ]
                      },
                      {
                        "test": [
                          0.9411231884,
                          0.1598211367
                        ],
                        "passed_time": 20.41258507,
                        "iteration": 370,
                        "remaining_time": 7.097637397,
                        "learn": [
                          0.9516745006,
                          0.1363128971
                        ]
                      },
                      {
                        "test": [
                          0.9408967391,
                          0.1596968064
                        ],
                        "passed_time": 20.46032691,
                        "iteration": 371,
                        "remaining_time": 7.040112484,
                        "learn": [
                          0.9516255386,
                          0.1361415325
                        ]
                      },
                      {
                        "test": [
                          0.9411231884,
                          0.1597515345
                        ],
                        "passed_time": 20.50571485,
                        "iteration": 372,
                        "remaining_time": 6.981838567,
                        "learn": [
                          0.9517234626,
                          0.13611218
                        ]
                      },
                      {
                        "test": [
                          0.9406702899,
                          0.1597280418
                        ],
                        "passed_time": 20.56172645,
                        "iteration": 373,
                        "remaining_time": 6.927212653,
                        "learn": [
                          0.9519682726,
                          0.1360164712
                        ]
                      },
                      {
                        "test": [
                          0.9408967391,
                          0.1596907785
                        ],
                        "passed_time": 20.61100991,
                        "iteration": 374,
                        "remaining_time": 6.870336635,
                        "learn": [
                          0.9518703486,
                          0.1358366582
                        ]
                      },
                      {
                        "test": [
                          0.9411231884,
                          0.159693681
                        ],
                        "passed_time": 20.65754953,
                        "iteration": 375,
                        "remaining_time": 6.81259612,
                        "learn": [
                          0.9519682726,
                          0.1357288897
                        ]
                      },
                      {
                        "test": [
                          0.9411231884,
                          0.1594759833
                        ],
                        "passed_time": 20.70785306,
                        "iteration": 376,
                        "remaining_time": 6.756143041,
                        "learn": [
                          0.9520172346,
                          0.1355288886
                        ]
                      },
                      {
                        "test": [
                          0.9408967391,
                          0.1595496274
                        ],
                        "passed_time": 20.75556548,
                        "iteration": 377,
                        "remaining_time": 6.698886214,
                        "learn": [
                          0.9520172346,
                          0.1354408326
                        ]
                      },
                      {
                        "test": [
                          0.9406702899,
                          0.1594926788
                        ],
                        "passed_time": 20.80462431,
                        "iteration": 378,
                        "remaining_time": 6.642109607,
                        "learn": [
                          0.9519682726,
                          0.1353554466
                        ]
                      },
                      {
                        "test": [
                          0.9406702899,
                          0.1594925193
                        ],
                        "passed_time": 20.85182495,
                        "iteration": 379,
                        "remaining_time": 6.584786827,
                        "learn": [
                          0.9520172346,
                          0.1352921086
                        ]
                      },
                      {
                        "test": [
                          0.9406702899,
                          0.1593102457
                        ],
                        "passed_time": 20.89987491,
                        "iteration": 380,
                        "remaining_time": 6.527782453,
                        "learn": [
                          0.9522130826,
                          0.1351972138
                        ]
                      },
                      {
                        "test": [
                          0.9411231884,
                          0.1592699716
                        ],
                        "passed_time": 20.94537708,
                        "iteration": 381,
                        "remaining_time": 6.470037946,
                        "learn": [
                          0.9523599687,
                          0.1351426161
                        ]
                      },
                      {
                        "test": [
                          0.9413496377,
                          0.1592511539
                        ],
                        "passed_time": 20.99309256,
                        "iteration": 382,
                        "remaining_time": 6.413033497,
                        "learn": [
                          0.9524089307,
                          0.1350667171
                        ]
                      },
                      {
                        "test": [
                          0.9408967391,
                          0.1592262646
                        ],
                        "passed_time": 21.04606603,
                        "iteration": 383,
                        "remaining_time": 6.35766578,
                        "learn": [
                          0.9524089307,
                          0.134967092
                        ]
                      },
                      {
                        "test": [
                          0.9406702899,
                          0.1593156407
                        ],
                        "passed_time": 21.09904446,
                        "iteration": 384,
                        "remaining_time": 6.302311981,
                        "learn": [
                          0.9523110067,
                          0.1348474716
                        ]
                      },
                      {
                        "test": [
                          0.9406702899,
                          0.1593009429
                        ],
                        "passed_time": 21.16053999,
                        "iteration": 385,
                        "remaining_time": 6.249485904,
                        "learn": [
                          0.9523110067,
                          0.134779256
                        ]
                      },
                      {
                        "test": [
                          0.9406702899,
                          0.1592931442
                        ],
                        "passed_time": 21.23827455,
                        "iteration": 386,
                        "remaining_time": 6.20135665,
                        "learn": [
                          0.9523110067,
                          0.1347338042
                        ]
                      },
                      {
                        "test": [
                          0.9406702899,
                          0.1592979706
                        ],
                        "passed_time": 21.30040857,
                        "iteration": 387,
                        "remaining_time": 6.148571546,
                        "learn": [
                          0.9524089307,
                          0.1346559352
                        ]
                      },
                      {
                        "test": [
                          0.9406702899,
                          0.1593172348
                        ],
                        "passed_time": 21.35415827,
                        "iteration": 388,
                        "remaining_time": 6.093345933,
                        "learn": [
                          0.9523110067,
                          0.134507822
                        ]
                      },
                      {
                        "test": [
                          0.9406702899,
                          0.1593110742
                        ],
                        "passed_time": 21.4003571,
                        "iteration": 389,
                        "remaining_time": 6.035998156,
                        "learn": [
                          0.9524578927,
                          0.1344765662
                        ]
                      },
                      {
                        "test": [
                          0.9408967391,
                          0.1593502035
                        ],
                        "passed_time": 21.44870696,
                        "iteration": 390,
                        "remaining_time": 5.979307056,
                        "learn": [
                          0.9524089307,
                          0.134370697
                        ]
                      },
                      {
                        "test": [
                          0.9408967391,
                          0.1593520451
                        ],
                        "passed_time": 21.49556628,
                        "iteration": 391,
                        "remaining_time": 5.922247852,
                        "learn": [
                          0.9524089307,
                          0.1343298965
                        ]
                      },
                      {
                        "test": [
                          0.9406702899,
                          0.1594500078
                        ],
                        "passed_time": 21.54754634,
                        "iteration": 392,
                        "remaining_time": 5.866634753,
                        "learn": [
                          0.9525068547,
                          0.1342451075
                        ]
                      },
                      {
                        "test": [
                          0.9406702899,
                          0.159483353
                        ],
                        "passed_time": 21.59926102,
                        "iteration": 393,
                        "remaining_time": 5.810968702,
                        "learn": [
                          0.9526047787,
                          0.1342025215
                        ]
                      },
                      {
                        "test": [
                          0.9406702899,
                          0.1594065002
                        ],
                        "passed_time": 21.64428714,
                        "iteration": 394,
                        "remaining_time": 5.753544684,
                        "learn": [
                          0.9526047787,
                          0.1341070231
                        ]
                      },
                      {
                        "test": [
                          0.9404438406,
                          0.1594195151
                        ],
                        "passed_time": 21.68954836,
                        "iteration": 395,
                        "remaining_time": 5.696245023,
                        "learn": [
                          0.9529964747,
                          0.1340108241
                        ]
                      },
                      {
                        "test": [
                          0.9404438406,
                          0.1593235059
                        ],
                        "passed_time": 21.7366301,
                        "iteration": 396,
                        "remaining_time": 5.639478338,
                        "learn": [
                          0.9528006267,
                          0.133941784
                        ]
                      },
                      {
                        "test": [
                          0.9404438406,
                          0.159315385
                        ],
                        "passed_time": 21.78351196,
                        "iteration": 397,
                        "remaining_time": 5.582709095,
                        "learn": [
                          0.9529475127,
                          0.1338824105
                        ]
                      },
                      {
                        "test": [
                          0.9408967391,
                          0.1593392466
                        ],
                        "passed_time": 21.83637783,
                        "iteration": 398,
                        "remaining_time": 5.527504163,
                        "learn": [
                          0.9529475127,
                          0.1337389527
                        ]
                      },
                      {
                        "test": [
                          0.9406702899,
                          0.1592913048
                        ],
                        "passed_time": 21.88540146,
                        "iteration": 399,
                        "remaining_time": 5.471350365,
                        "learn": [
                          0.9529964747,
                          0.1336070603
                        ]
                      },
                      {
                        "test": [
                          0.9406702899,
                          0.1592329116
                        ],
                        "passed_time": 21.93074908,
                        "iteration": 400,
                        "remaining_time": 5.414324585,
                        "learn": [
                          0.9529964747,
                          0.1334459647
                        ]
                      },
                      {
                        "test": [
                          0.9406702899,
                          0.1592358091
                        ],
                        "passed_time": 21.98022226,
                        "iteration": 401,
                        "remaining_time": 5.358362641,
                        "learn": [
                          0.9530454367,
                          0.1334270851
                        ]
                      },
                      {
                        "test": [
                          0.9408967391,
                          0.1591667404
                        ],
                        "passed_time": 22.03113563,
                        "iteration": 402,
                        "remaining_time": 5.302779544,
                        "learn": [
                          0.9531433608,
                          0.1332619384
                        ]
                      },
                      {
                        "test": [
                          0.9406702899,
                          0.1591575505
                        ],
                        "passed_time": 22.08031867,
                        "iteration": 403,
                        "remaining_time": 5.246808398,
                        "learn": [
                          0.9530943987,
                          0.1331439047
                        ]
                      },
                      {
                        "test": [
                          0.9406702899,
                          0.1591691743
                        ],
                        "passed_time": 22.13033301,
                        "iteration": 404,
                        "remaining_time": 5.191065767,
                        "learn": [
                          0.9532412848,
                          0.1329875402
                        ]
                      },
                      {
                        "test": [
                          0.9406702899,
                          0.1591573587
                        ],
                        "passed_time": 22.19333657,
                        "iteration": 405,
                        "remaining_time": 5.138358714,
                        "learn": [
                          0.9534371328,
                          0.1328619468
                        ]
                      },
                      {
                        "test": [
                          0.9406702899,
                          0.1591244306
                        ],
                        "passed_time": 22.27428624,
                        "iteration": 406,
                        "remaining_time": 5.089701769,
                        "learn": [
                          0.9533392088,
                          0.1327762289
                        ]
                      },
                      {
                        "test": [
                          0.9408967391,
                          0.1590919875
                        ],
                        "passed_time": 22.33660017,
                        "iteration": 407,
                        "remaining_time": 5.036684352,
                        "learn": [
                          0.9533392088,
                          0.1327490553
                        ]
                      },
                      {
                        "test": [
                          0.9408967391,
                          0.1590811249
                        ],
                        "passed_time": 22.38658826,
                        "iteration": 408,
                        "remaining_time": 4.980879049,
                        "learn": [
                          0.9533392088,
                          0.1327118377
                        ]
                      },
                      {
                        "test": [
                          0.9408967391,
                          0.1591404752
                        ],
                        "passed_time": 22.43915145,
                        "iteration": 409,
                        "remaining_time": 4.925667392,
                        "learn": [
                          0.9533392088,
                          0.1326234591
                        ]
                      },
                      {
                        "test": [
                          0.9408967391,
                          0.1590950392
                        ],
                        "passed_time": 22.49137883,
                        "iteration": 410,
                        "remaining_time": 4.870395902,
                        "learn": [
                          0.9532412848,
                          0.1325494331
                        ]
                      },
                      {
                        "test": [
                          0.9411231884,
                          0.1588525513
                        ],
                        "passed_time": 22.5413815,
                        "iteration": 411,
                        "remaining_time": 4.81466401,
                        "learn": [
                          0.9536819428,
                          0.1322731132
                        ]
                      },
                      {
                        "test": [
                          0.9411231884,
                          0.1588618206
                        ],
                        "passed_time": 22.58666658,
                        "iteration": 412,
                        "remaining_time": 4.757966084,
                        "learn": [
                          0.9537309048,
                          0.1322275484
                        ]
                      },
                      {
                        "test": [
                          0.9411231884,
                          0.1586973085
                        ],
                        "passed_time": 22.6379074,
                        "iteration": 413,
                        "remaining_time": 4.702560475,
                        "learn": [
                          0.9536329808,
                          0.132106612
                        ]
                      },
                      {
                        "test": [
                          0.9413496377,
                          0.1586379415
                        ],
                        "passed_time": 22.6853675,
                        "iteration": 414,
                        "remaining_time": 4.646400572,
                        "learn": [
                          0.9536819428,
                          0.1320322364
                        ]
                      },
                      {
                        "test": [
                          0.9411231884,
                          0.1584123413
                        ],
                        "passed_time": 22.74101577,
                        "iteration": 415,
                        "remaining_time": 4.591935877,
                        "learn": [
                          0.9537309048,
                          0.1317630227
                        ]
                      },
                      {
                        "test": [
                          0.9411231884,
                          0.1583725551
                        ],
                        "passed_time": 22.78308947,
                        "iteration": 416,
                        "remaining_time": 4.534763611,
                        "learn": [
                          0.9538288288,
                          0.1317024733
                        ]
                      },
                      {
                        "test": [
                          0.9411231884,
                          0.1583767704
                        ],
                        "passed_time": 22.82578845,
                        "iteration": 417,
                        "remaining_time": 4.47778625,
                        "learn": [
                          0.9538777908,
                          0.131666188
                        ]
                      },
                      {
                        "test": [
                          0.9411231884,
                          0.1583452998
                        ],
                        "passed_time": 22.87658202,
                        "iteration": 418,
                        "remaining_time": 4.42244187,
                        "learn": [
                          0.9540736389,
                          0.1315446688
                        ]
                      },
                      {
                        "test": [
                          0.9413496377,
                          0.1583657032
                        ],
                        "passed_time": 22.92714525,
                        "iteration": 419,
                        "remaining_time": 4.367075285,
                        "learn": [
                          0.9541715629,
                          0.1313874781
                        ]
                      },
                      {
                        "test": [
                          0.9413496377,
                          0.1583634129
                        ],
                        "passed_time": 22.97923848,
                        "iteration": 420,
                        "remaining_time": 4.312018623,
                        "learn": [
                          0.9542205249,
                          0.1312231756
                        ]
                      },
                      {
                        "test": [
                          0.9413496377,
                          0.1583664963
                        ],
                        "passed_time": 23.02252627,
                        "iteration": 421,
                        "remaining_time": 4.255348457,
                        "learn": [
                          0.9542694869,
                          0.1311859244
                        ]
                      },
                      {
                        "test": [
                          0.9411231884,
                          0.1583740744
                        ],
                        "passed_time": 23.07471917,
                        "iteration": 422,
                        "remaining_time": 4.200362591,
                        "learn": [
                          0.9543674109,
                          0.1310947956
                        ]
                      },
                      {
                        "test": [
                          0.9413496377,
                          0.1583401278
                        ],
                        "passed_time": 23.12395422,
                        "iteration": 423,
                        "remaining_time": 4.144859719,
                        "learn": [
                          0.9543674109,
                          0.131016554
                        ]
                      },
                      {
                        "test": [
                          0.9413496377,
                          0.158342726
                        ],
                        "passed_time": 23.17281142,
                        "iteration": 424,
                        "remaining_time": 4.089319662,
                        "learn": [
                          0.9543184489,
                          0.1309747379
                        ]
                      },
                      {
                        "test": [
                          0.9413496377,
                          0.1584418046
                        ],
                        "passed_time": 23.22831998,
                        "iteration": 425,
                        "remaining_time": 4.034966382,
                        "learn": [
                          0.9544163729,
                          0.1309018586
                        ]
                      },
                      {
                        "test": [
                          0.9413496377,
                          0.1584994751
                        ],
                        "passed_time": 23.30361006,
                        "iteration": 426,
                        "remaining_time": 3.983989541,
                        "learn": [
                          0.9545142969,
                          0.1308408143
                        ]
                      },
                      {
                        "test": [
                          0.9411231884,
                          0.1585005317
                        ],
                        "passed_time": 23.37171387,
                        "iteration": 427,
                        "remaining_time": 3.931690185,
                        "learn": [
                          0.9544163729,
                          0.1307930309
                        ]
                      },
                      {
                        "test": [
                          0.9413496377,
                          0.1584687689
                        ],
                        "passed_time": 23.41841841,
                        "iteration": 428,
                        "remaining_time": 3.875775541,
                        "learn": [
                          0.9544163729,
                          0.1307388227
                        ]
                      },
                      {
                        "test": [
                          0.9413496377,
                          0.1584177083
                        ],
                        "passed_time": 23.4673206,
                        "iteration": 429,
                        "remaining_time": 3.820261494,
                        "learn": [
                          0.9544163729,
                          0.1306115948
                        ]
                      },
                      {
                        "test": [
                          0.9413496377,
                          0.1583460316
                        ],
                        "passed_time": 23.51670329,
                        "iteration": 430,
                        "remaining_time": 3.764855051,
                        "learn": [
                          0.9545142969,
                          0.1304794572
                        ]
                      },
                      {
                        "test": [
                          0.9413496377,
                          0.1583761856
                        ],
                        "passed_time": 23.56500131,
                        "iteration": 431,
                        "remaining_time": 3.709305762,
                        "learn": [
                          0.9544163729,
                          0.1303940629
                        ]
                      },
                      {
                        "test": [
                          0.9413496377,
                          0.1583688233
                        ],
                        "passed_time": 23.61243767,
                        "iteration": 432,
                        "remaining_time": 3.653656638,
                        "learn": [
                          0.9543674109,
                          0.130363123
                        ]
                      },
                      {
                        "test": [
                          0.9413496377,
                          0.1582520463
                        ],
                        "passed_time": 23.66550249,
                        "iteration": 433,
                        "remaining_time": 3.598901301,
                        "learn": [
                          0.9544163729,
                          0.1302205312
                        ]
                      },
                      {
                        "test": [
                          0.941576087,
                          0.158094757
                        ],
                        "passed_time": 23.71451704,
                        "iteration": 434,
                        "remaining_time": 3.543548524,
                        "learn": [
                          0.9545142969,
                          0.1300900066
                        ]
                      },
                      {
                        "test": [
                          0.941576087,
                          0.1580469295
                        ],
                        "passed_time": 23.76083009,
                        "iteration": 435,
                        "remaining_time": 3.48782827,
                        "learn": [
                          0.9546122209,
                          0.1300344252
                        ]
                      },
                      {
                        "test": [
                          0.941576087,
                          0.1579940155
                        ],
                        "passed_time": 23.80896526,
                        "iteration": 436,
                        "remaining_time": 3.432413755,
                        "learn": [
                          0.9546122209,
                          0.1299807597
                        ]
                      },
                      {
                        "test": [
                          0.941576087,
                          0.157978247
                        ],
                        "passed_time": 23.86381235,
                        "iteration": 437,
                        "remaining_time": 3.37798257,
                        "learn": [
                          0.9547101449,
                          0.1298904714
                        ]
                      },
                      {
                        "test": [
                          0.941576087,
                          0.1579847775
                        ],
                        "passed_time": 23.91357597,
                        "iteration": 438,
                        "remaining_time": 3.32284313,
                        "learn": [
                          0.9548570309,
                          0.1298507945
                        ]
                      },
                      {
                        "test": [
                          0.941576087,
                          0.1579236168
                        ],
                        "passed_time": 23.96034225,
                        "iteration": 439,
                        "remaining_time": 3.267319398,
                        "learn": [
                          0.9548080689,
                          0.129797258
                        ]
                      },
                      {
                        "test": [
                          0.941576087,
                          0.1577769772
                        ],
                        "passed_time": 24.0139619,
                        "iteration": 440,
                        "remaining_time": 3.212752272,
                        "learn": [
                          0.9547591069,
                          0.129706637
                        ]
                      },
                      {
                        "test": [
                          0.941576087,
                          0.1576646216
                        ],
                        "passed_time": 24.06447595,
                        "iteration": 441,
                        "remaining_time": 3.157781912,
                        "learn": [
                          0.9548080689,
                          0.1295491166
                        ]
                      },
                      {
                        "test": [
                          0.941576087,
                          0.157729096
                        ],
                        "passed_time": 24.11392504,
                        "iteration": 442,
                        "remaining_time": 3.102694644,
                        "learn": [
                          0.9548570309,
                          0.1294089835
                        ]
                      },
                      {
                        "test": [
                          0.941576087,
                          0.1577032969
                        ],
                        "passed_time": 24.1584638,
                        "iteration": 443,
                        "remaining_time": 3.047013452,
                        "learn": [
                          0.9549059929,
                          0.1293581809
                        ]
                      },
                      {
                        "test": [
                          0.941576087,
                          0.1576718053
                        ],
                        "passed_time": 24.21667435,
                        "iteration": 444,
                        "remaining_time": 2.99307211,
                        "learn": [
                          0.954954955,
                          0.1292704917
                        ]
                      },
                      {
                        "test": [
                          0.941576087,
                          0.1576524902
                        ],
                        "passed_time": 24.26587151,
                        "iteration": 445,
                        "remaining_time": 2.938020317,
                        "learn": [
                          0.9549059929,
                          0.1292038498
                        ]
                      },
                      {
                        "test": [
                          0.9418025362,
                          0.1576428532
                        ],
                        "passed_time": 24.3476561,
                        "iteration": 446,
                        "remaining_time": 2.886858554,
                        "learn": [
                          0.955101841,
                          0.1291045677
                        ]
                      },
                      {
                        "test": [
                          0.9418025362,
                          0.157548534
                        ],
                        "passed_time": 24.41607581,
                        "iteration": 447,
                        "remaining_time": 2.8340088,
                        "learn": [
                          0.955101841,
                          0.1289889226
                        ]
                      },
                      {
                        "test": [
                          0.9418025362,
                          0.1575616011
                        ],
                        "passed_time": 24.46308642,
                        "iteration": 448,
                        "remaining_time": 2.778657923,
                        "learn": [
                          0.955101841,
                          0.1289307845
                        ]
                      },
                      {
                        "test": [
                          0.9418025362,
                          0.1575201115
                        ],
                        "passed_time": 24.50721262,
                        "iteration": 449,
                        "remaining_time": 2.723023624,
                        "learn": [
                          0.955199765,
                          0.1288792665
                        ]
                      },
                      {
                        "test": [
                          0.9418025362,
                          0.1575182402
                        ],
                        "passed_time": 24.55342759,
                        "iteration": 450,
                        "remaining_time": 2.667667299,
                        "learn": [
                          0.955199765,
                          0.128820621
                        ]
                      },
                      {
                        "test": [
                          0.9418025362,
                          0.1575241167
                        ],
                        "passed_time": 24.60393714,
                        "iteration": 451,
                        "remaining_time": 2.612807484,
                        "learn": [
                          0.955297689,
                          0.1287716048
                        ]
                      },
                      {
                        "test": [
                          0.9420289855,
                          0.1574748616
                        ],
                        "passed_time": 24.65155942,
                        "iteration": 452,
                        "remaining_time": 2.557667312,
                        "learn": [
                          0.955297689,
                          0.1286921498
                        ]
                      },
                      {
                        "test": [
                          0.9422554348,
                          0.1574212582
                        ],
                        "passed_time": 24.69737071,
                        "iteration": 453,
                        "remaining_time": 2.502376768,
                        "learn": [
                          0.955395613,
                          0.1285997369
                        ]
                      },
                      {
                        "test": [
                          0.9422554348,
                          0.1573754923
                        ],
                        "passed_time": 24.74492499,
                        "iteration": 454,
                        "remaining_time": 2.447300274,
                        "learn": [
                          0.955346651,
                          0.1285615475
                        ]
                      },
                      {
                        "test": [
                          0.9420289855,
                          0.1574300831
                        ],
                        "passed_time": 24.79411577,
                        "iteration": 455,
                        "remaining_time": 2.39241468,
                        "learn": [
                          0.955493537,
                          0.1284631205
                        ]
                      },
                      {
                        "test": [
                          0.9420289855,
                          0.1574411513
                        ],
                        "passed_time": 24.83904425,
                        "iteration": 456,
                        "remaining_time": 2.33715296,
                        "learn": [
                          0.955395613,
                          0.1284176001
                        ]
                      },
                      {
                        "test": [
                          0.9420289855,
                          0.1574603016
                        ],
                        "passed_time": 24.8923891,
                        "iteration": 457,
                        "remaining_time": 2.282708171,
                        "learn": [
                          0.955444575,
                          0.1282597987
                        ]
                      },
                      {
                        "test": [
                          0.9420289855,
                          0.1574850276
                        ],
                        "passed_time": 24.93605685,
                        "iteration": 458,
                        "remaining_time": 2.227403771,
                        "learn": [
                          0.955444575,
                          0.1282242288
                        ]
                      },
                      {
                        "test": [
                          0.9418025362,
                          0.1575192409
                        ],
                        "passed_time": 24.98546695,
                        "iteration": 459,
                        "remaining_time": 2.1726493,
                        "learn": [
                          0.955542499,
                          0.128154748
                        ]
                      },
                      {
                        "test": [
                          0.941576087,
                          0.1575315949
                        ],
                        "passed_time": 25.03809695,
                        "iteration": 460,
                        "remaining_time": 2.118190414,
                        "learn": [
                          0.955542499,
                          0.1280741196
                        ]
                      },
                      {
                        "test": [
                          0.9411231884,
                          0.1575163583
                        ],
                        "passed_time": 25.08617376,
                        "iteration": 461,
                        "remaining_time": 2.063364942,
                        "learn": [
                          0.955591461,
                          0.1280033292
                        ]
                      },
                      {
                        "test": [
                          0.9411231884,
                          0.1575013261
                        ],
                        "passed_time": 25.13590732,
                        "iteration": 462,
                        "remaining_time": 2.008701017,
                        "learn": [
                          0.955542499,
                          0.1279057507
                        ]
                      },
                      {
                        "test": [
                          0.941576087,
                          0.1575055271
                        ],
                        "passed_time": 25.19075494,
                        "iteration": 463,
                        "remaining_time": 1.954455124,
                        "learn": [
                          0.955542499,
                          0.127737616
                        ]
                      },
                      {
                        "test": [
                          0.9413496377,
                          0.1575437651
                        ],
                        "passed_time": 25.25244985,
                        "iteration": 464,
                        "remaining_time": 1.900722032,
                        "learn": [
                          0.955787309,
                          0.1276531464
                        ]
                      },
                      {
                        "test": [
                          0.941576087,
                          0.1576102908
                        ],
                        "passed_time": 25.30208534,
                        "iteration": 465,
                        "remaining_time": 1.846074896,
                        "learn": [
                          0.9560321191,
                          0.1275573588
                        ]
                      },
                      {
                        "test": [
                          0.941576087,
                          0.157612827
                        ],
                        "passed_time": 25.35375995,
                        "iteration": 466,
                        "remaining_time": 1.791593315,
                        "learn": [
                          0.9560321191,
                          0.127499705
                        ]
                      },
                      {
                        "test": [
                          0.9411231884,
                          0.1577365757
                        ],
                        "passed_time": 25.45064772,
                        "iteration": 467,
                        "remaining_time": 1.740215228,
                        "learn": [
                          0.9558852331,
                          0.1273728706
                        ]
                      },
                      {
                        "test": [
                          0.9411231884,
                          0.1577299857
                        ],
                        "passed_time": 25.49847437,
                        "iteration": 468,
                        "remaining_time": 1.685400225,
                        "learn": [
                          0.955738347,
                          0.1273092644
                        ]
                      },
                      {
                        "test": [
                          0.9413496377,
                          0.1577203584
                        ],
                        "passed_time": 25.54311744,
                        "iteration": 469,
                        "remaining_time": 1.630411751,
                        "learn": [
                          0.9560810811,
                          0.1272096524
                        ]
                      },
                      {
                        "test": [
                          0.9413496377,
                          0.1576935032
                        ],
                        "passed_time": 25.59333767,
                        "iteration": 470,
                        "remaining_time": 1.5758106,
                        "learn": [
                          0.9560321191,
                          0.1270961987
                        ]
                      },
                      {
                        "test": [
                          0.9413496377,
                          0.1576301309
                        ],
                        "passed_time": 25.64524282,
                        "iteration": 471,
                        "remaining_time": 1.521327964,
                        "learn": [
                          0.9560321191,
                          0.1270076754
                        ]
                      },
                      {
                        "test": [
                          0.9413496377,
                          0.1576449472
                        ],
                        "passed_time": 25.69606977,
                        "iteration": 472,
                        "remaining_time": 1.46679468,
                        "learn": [
                          0.9560321191,
                          0.1269559448
                        ]
                      },
                      {
                        "test": [
                          0.9418025362,
                          0.1576452424
                        ],
                        "passed_time": 25.75049145,
                        "iteration": 473,
                        "remaining_time": 1.412474214,
                        "learn": [
                          0.9563748531,
                          0.1268087017
                        ]
                      },
                      {
                        "test": [
                          0.941576087,
                          0.1576361349
                        ],
                        "passed_time": 25.80069597,
                        "iteration": 474,
                        "remaining_time": 1.357931367,
                        "learn": [
                          0.9563258911,
                          0.1267166232
                        ]
                      },
                      {
                        "test": [
                          0.9420289855,
                          0.1573942172
                        ],
                        "passed_time": 25.85174406,
                        "iteration": 475,
                        "remaining_time": 1.30344928,
                        "learn": [
                          0.9563748531,
                          0.1265753589
                        ]
                      },
                      {
                        "test": [
                          0.9422554348,
                          0.1573199943
                        ],
                        "passed_time": 25.90986648,
                        "iteration": 476,
                        "remaining_time": 1.249322702,
                        "learn": [
                          0.9562769291,
                          0.1265074168
                        ]
                      },
                      {
                        "test": [
                          0.9420289855,
                          0.1573018791
                        ],
                        "passed_time": 25.95752616,
                        "iteration": 477,
                        "remaining_time": 1.194697857,
                        "learn": [
                          0.9563748531,
                          0.1264827972
                        ]
                      },
                      {
                        "test": [
                          0.9422554348,
                          0.1572174392
                        ],
                        "passed_time": 26.00351469,
                        "iteration": 478,
                        "remaining_time": 1.140028828,
                        "learn": [
                          0.9563748531,
                          0.1263785789
                        ]
                      },
                      {
                        "test": [
                          0.9422554348,
                          0.1571916618
                        ],
                        "passed_time": 26.05632943,
                        "iteration": 479,
                        "remaining_time": 1.085680393,
                        "learn": [
                          0.9563258911,
                          0.1262275466
                        ]
                      },
                      {
                        "test": [
                          0.9422554348,
                          0.1572001236
                        ],
                        "passed_time": 26.10629551,
                        "iteration": 480,
                        "remaining_time": 1.03122581,
                        "learn": [
                          0.9563258911,
                          0.1261976909
                        ]
                      },
                      {
                        "test": [
                          0.9422554348,
                          0.1572025842
                        ],
                        "passed_time": 26.15140029,
                        "iteration": 481,
                        "remaining_time": 0.9766083097,
                        "learn": [
                          0.9562769291,
                          0.1261631023
                        ]
                      },
                      {
                        "test": [
                          0.9422554348,
                          0.1571987471
                        ],
                        "passed_time": 26.19961325,
                        "iteration": 482,
                        "remaining_time": 0.9221395967,
                        "learn": [
                          0.9564238151,
                          0.1260479744
                        ]
                      },
                      {
                        "test": [
                          0.9424818841,
                          0.1570911997
                        ],
                        "passed_time": 26.2576611,
                        "iteration": 483,
                        "remaining_time": 0.8680218544,
                        "learn": [
                          0.9564238151,
                          0.1259527942
                        ]
                      },
                      {
                        "test": [
                          0.9424818841,
                          0.1571091033
                        ],
                        "passed_time": 26.30386469,
                        "iteration": 484,
                        "remaining_time": 0.8135215885,
                        "learn": [
                          0.9563748531,
                          0.1259200643
                        ]
                      },
                      {
                        "test": [
                          0.9424818841,
                          0.1571181054
                        ],
                        "passed_time": 26.35299081,
                        "iteration": 485,
                        "remaining_time": 0.759139653,
                        "learn": [
                          0.9564727771,
                          0.1258706246
                        ]
                      },
                      {
                        "test": [
                          0.9422554348,
                          0.1571268476
                        ],
                        "passed_time": 26.43321578,
                        "iteration": 486,
                        "remaining_time": 0.7056094562,
                        "learn": [
                          0.9566686251,
                          0.1257867775
                        ]
                      },
                      {
                        "test": [
                          0.9424818841,
                          0.1571550004
                        ],
                        "passed_time": 26.50424642,
                        "iteration": 487,
                        "remaining_time": 0.6517437643,
                        "learn": [
                          0.9565707011,
                          0.1256630482
                        ]
                      },
                      {
                        "test": [
                          0.9424818841,
                          0.1571505659
                        ],
                        "passed_time": 26.54703169,
                        "iteration": 488,
                        "remaining_time": 0.597172492,
                        "learn": [
                          0.9565707011,
                          0.1256221226
                        ]
                      },
                      {
                        "test": [
                          0.9422554348,
                          0.157116534
                        ],
                        "passed_time": 26.59553024,
                        "iteration": 489,
                        "remaining_time": 0.5427659233,
                        "learn": [
                          0.9564727771,
                          0.1254028116
                        ]
                      },
                      {
                        "test": [
                          0.9422554348,
                          0.1571511532
                        ],
                        "passed_time": 26.64216088,
                        "iteration": 490,
                        "remaining_time": 0.4883491811,
                        "learn": [
                          0.9567665492,
                          0.1253320382
                        ]
                      },
                      {
                        "test": [
                          0.9420289855,
                          0.1571489933
                        ],
                        "passed_time": 26.68998015,
                        "iteration": 491,
                        "remaining_time": 0.433983417,
                        "learn": [
                          0.9567175872,
                          0.1252428427
                        ]
                      },
                      {
                        "test": [
                          0.9420289855,
                          0.1570763525
                        ],
                        "passed_time": 26.7377747,
                        "iteration": 492,
                        "remaining_time": 0.3796438599,
                        "learn": [
                          0.9567175872,
                          0.1251689158
                        ]
                      },
                      {
                        "test": [
                          0.9420289855,
                          0.1571011539
                        ],
                        "passed_time": 26.78584157,
                        "iteration": 493,
                        "remaining_time": 0.3253341081,
                        "learn": [
                          0.9565707011,
                          0.1250830055
                        ]
                      },
                      {
                        "test": [
                          0.9420289855,
                          0.1570997392
                        ],
                        "passed_time": 26.8356667,
                        "iteration": 494,
                        "remaining_time": 0.2710673404,
                        "learn": [
                          0.9565217391,
                          0.1250281105
                        ]
                      },
                      {
                        "test": [
                          0.9420289855,
                          0.157130816
                        ],
                        "passed_time": 26.88168914,
                        "iteration": 495,
                        "remaining_time": 0.2167878157,
                        "learn": [
                          0.9565217391,
                          0.1249779946
                        ]
                      },
                      {
                        "test": [
                          0.9420289855,
                          0.1570472962
                        ],
                        "passed_time": 26.92838245,
                        "iteration": 496,
                        "remaining_time": 0.1625455681,
                        "learn": [
                          0.9565707011,
                          0.1248555735
                        ]
                      },
                      {
                        "test": [
                          0.9420289855,
                          0.1569528789
                        ],
                        "passed_time": 26.9808191,
                        "iteration": 497,
                        "remaining_time": 0.1083567032,
                        "learn": [
                          0.9568155112,
                          0.1246783493
                        ]
                      },
                      {
                        "test": [
                          0.9420289855,
                          0.156930791
                        ],
                        "passed_time": 27.02772295,
                        "iteration": 498,
                        "remaining_time": 0.05416377345,
                        "learn": [
                          0.9570603212,
                          0.1245957713
                        ]
                      },
                      {
                        "test": [
                          0.9420289855,
                          0.1569437236
                        ],
                        "passed_time": 27.07652895,
                        "iteration": 499,
                        "remaining_time": 0,
                        "learn": [
                          0.9571092832,
                          0.1245255904
                        ]
                      }
                    ]
                  },
                  "total_iterations": 500,
                  "passed_iterations": 499
                },
                "path": "catboost_info",
                "name": "catboost_info"
              }
            },
            "_view_module": "catboost-widget",
            "_model_module_version": "^1.0.0",
            "_view_count": null,
            "_view_module_version": "^1.0.0",
            "layout": "IPY_MODEL_691d9745771e4d71b06f8460c01ea030",
            "_model_module": "catboost-widget"
          }
        }
      }
    }
  },
  "nbformat": 4,
  "nbformat_minor": 5
}