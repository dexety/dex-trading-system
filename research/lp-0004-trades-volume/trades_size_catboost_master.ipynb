{
  "cells": [
    {
      "cell_type": "code",
      "execution_count": 114,
      "id": "6PWJsnjzBfq1",
      "metadata": {
        "colab": {
          "base_uri": "https://localhost:8080/"
        },
        "id": "6PWJsnjzBfq1",
        "outputId": "67eab655-8553-4580-d5b3-33e67b920433"
      },
      "outputs": [
        {
          "name": "stdout",
          "output_type": "stream",
          "text": [
            "Requirement already satisfied: catboost in /usr/local/lib/python3.7/dist-packages (1.0.4)\n",
            "Requirement already satisfied: plotly in /usr/local/lib/python3.7/dist-packages (from catboost) (4.4.1)\n",
            "Requirement already satisfied: graphviz in /usr/local/lib/python3.7/dist-packages (from catboost) (0.10.1)\n",
            "Requirement already satisfied: matplotlib in /usr/local/lib/python3.7/dist-packages (from catboost) (3.2.2)\n",
            "Requirement already satisfied: scipy in /usr/local/lib/python3.7/dist-packages (from catboost) (1.4.1)\n",
            "Requirement already satisfied: numpy>=1.16.0 in /usr/local/lib/python3.7/dist-packages (from catboost) (1.19.5)\n",
            "Requirement already satisfied: pandas>=0.24.0 in /usr/local/lib/python3.7/dist-packages (from catboost) (1.1.5)\n",
            "Requirement already satisfied: six in /usr/local/lib/python3.7/dist-packages (from catboost) (1.15.0)\n",
            "Requirement already satisfied: python-dateutil>=2.7.3 in /usr/local/lib/python3.7/dist-packages (from pandas>=0.24.0->catboost) (2.8.2)\n",
            "Requirement already satisfied: pytz>=2017.2 in /usr/local/lib/python3.7/dist-packages (from pandas>=0.24.0->catboost) (2018.9)\n",
            "Requirement already satisfied: kiwisolver>=1.0.1 in /usr/local/lib/python3.7/dist-packages (from matplotlib->catboost) (1.3.2)\n",
            "Requirement already satisfied: cycler>=0.10 in /usr/local/lib/python3.7/dist-packages (from matplotlib->catboost) (0.11.0)\n",
            "Requirement already satisfied: pyparsing!=2.0.4,!=2.1.2,!=2.1.6,>=2.0.1 in /usr/local/lib/python3.7/dist-packages (from matplotlib->catboost) (3.0.6)\n",
            "Requirement already satisfied: retrying>=1.3.3 in /usr/local/lib/python3.7/dist-packages (from plotly->catboost) (1.3.3)\n",
            "Requirement already satisfied: hyperopt==0.2.5 in /usr/local/lib/python3.7/dist-packages (0.2.5)\n",
            "Requirement already satisfied: networkx>=2.2 in /usr/local/lib/python3.7/dist-packages (from hyperopt==0.2.5) (2.6.3)\n",
            "Requirement already satisfied: future in /usr/local/lib/python3.7/dist-packages (from hyperopt==0.2.5) (0.16.0)\n",
            "Requirement already satisfied: six in /usr/local/lib/python3.7/dist-packages (from hyperopt==0.2.5) (1.15.0)\n",
            "Requirement already satisfied: cloudpickle in /usr/local/lib/python3.7/dist-packages (from hyperopt==0.2.5) (1.3.0)\n",
            "Requirement already satisfied: scipy in /usr/local/lib/python3.7/dist-packages (from hyperopt==0.2.5) (1.4.1)\n",
            "Requirement already satisfied: tqdm in /usr/local/lib/python3.7/dist-packages (from hyperopt==0.2.5) (4.62.3)\n",
            "Requirement already satisfied: numpy in /usr/local/lib/python3.7/dist-packages (from hyperopt==0.2.5) (1.19.5)\n"
          ]
        }
      ],
      "source": [
        "!pip3 install catboost\n",
        "!pip3 install hyperopt==0.2.5"
      ]
    },
    {
      "cell_type": "code",
      "execution_count": 115,
      "id": "DWI_e1FSru3w",
      "metadata": {
        "colab": {
          "base_uri": "https://localhost:8080/"
        },
        "id": "DWI_e1FSru3w",
        "outputId": "4a77d37f-cb5f-4371-be04-b91efb2dc55e"
      },
      "outputs": [
        {
          "name": "stdout",
          "output_type": "stream",
          "text": [
            "Drive already mounted at /content/drive; to attempt to forcibly remount, call drive.mount(\"/content/drive\", force_remount=True).\n"
          ]
        }
      ],
      "source": [
        "from google.colab import drive\n",
        "drive.mount('/content/drive')"
      ]
    },
    {
      "cell_type": "code",
      "execution_count": 116,
      "id": "vjlvDT-QXrD0",
      "metadata": {
        "id": "vjlvDT-QXrD0"
      },
      "outputs": [],
      "source": [
        "import pandas as pd\n",
        "import numpy as np\n",
        "from catboost import CatBoostClassifier, Pool, metrics, cv\n",
        "from sklearn.metrics import accuracy_score\n",
        "from sklearn.model_selection import train_test_split\n",
        "import random\n",
        "from numpy.random import RandomState\n",
        "from catboost.utils import select_threshold"
      ]
    },
    {
      "cell_type": "code",
      "execution_count": 129,
      "id": "MIzvSjw6jgAn",
      "metadata": {
        "colab": {
          "base_uri": "https://localhost:8080/"
        },
        "id": "MIzvSjw6jgAn",
        "outputId": "5318ed98-a731-4f83-d4df-69b9f073f40d"
      },
      "outputs": [
        {
          "name": "stdout",
          "output_type": "stream",
          "text": [
            " 0    24386\n",
            "-1     1931\n",
            " 1     1530\n",
            "Name: target, dtype: int64\n"
          ]
        }
      ],
      "source": [
        "csv_path = \"drive/MyDrive/indicators_01-08-21_22-01-22.csv\"\n",
        "df = pd.read_csv(csv_path)\n",
        "x_columns = list(filter(lambda column: not 'punch' in column, df.columns))\n",
        "y_columns = list(filter(lambda column: 'punch' in column, df.columns))\n",
        "\n",
        "commision = 0.0005\n",
        "punch = commision * 4\n",
        "\n",
        "df['target'] = df[y_columns].apply(\n",
        "    lambda row :\n",
        "        1\n",
        "        if max(list(row.to_numpy()), key=abs) > punch\n",
        "        else\n",
        "          -1\n",
        "          if max(list(row.to_numpy()), key=abs) < -punch\n",
        "          else\n",
        "          0,\n",
        "    axis = 1\n",
        ")\n",
        "df = df.drop(y_columns, axis=1)\n",
        "\n",
        "lines_to_drop = []\n",
        "\n",
        "for index, line in df.iterrows():\n",
        "    if np.random.rand() < 0.9 and line['target'] == 0:\n",
        "        lines_to_drop.append(index)\n",
        "\n",
        "df = df.drop(lines_to_drop)\n",
        "\n",
        "X = df[x_columns]\n",
        "y = df['target']\n",
        "\n",
        "print(y.value_counts())"
      ]
    },
    {
      "cell_type": "code",
      "execution_count": 118,
      "id": "xqBcAzBTmMj8",
      "metadata": {
        "id": "xqBcAzBTmMj8"
      },
      "outputs": [],
      "source": [
        "buckets_num = 50\n",
        "buckets = [df[len(df) // buckets_num * i:len(df) // buckets_num * (i + 1)] for i in range(buckets_num)]\n",
        "random.shuffle(buckets)\n",
        "df_train = pd.concat(buckets[:int(buckets_num * 0.75)], ignore_index=True)\n",
        "df_validate = pd.concat(buckets[int(buckets_num * 0.75):int(buckets_num * 0.90)], ignore_index=True)\n",
        "df_test = pd.concat(buckets[int(buckets_num * 0.90):], ignore_index=True)\n",
        "\n",
        "X_train = df_train[x_columns]\n",
        "y_train = df_train['target']\n",
        "\n",
        "X_validation = df_validate[x_columns]\n",
        "y_validation = df_validate['target']\n",
        "\n",
        "X_test = df_test[x_columns]\n",
        "y_test = df_test['target']"
      ]
    },
    {
      "cell_type": "code",
      "execution_count": 119,
      "id": "f0753b54-1efd-4f34-ba92-2547bb0e854a",
      "metadata": {
        "colab": {
          "base_uri": "https://localhost:8080/",
          "height": 1000,
          "referenced_widgets": [
            "29fab181db474bc7b9e2d3a9eb87b2df"
          ]
        },
        "id": "f0753b54-1efd-4f34-ba92-2547bb0e854a",
        "outputId": "7e6604ca-faca-4d9a-bd98-eab14f1046ad"
      },
      "outputs": [
        {
          "data": {
            "application/vnd.jupyter.widget-view+json": {
              "model_id": "29fab181db474bc7b9e2d3a9eb87b2df",
              "version_major": 2,
              "version_minor": 0
            },
            "text/plain": [
              "MetricVisualizer(layout=Layout(align_self='stretch', height='500px'))"
            ]
          },
          "metadata": {},
          "output_type": "display_data"
        },
        {
          "name": "stdout",
          "output_type": "stream",
          "text": [
            "Model validation accuracy: 0.8654\n",
            "[[0]\n",
            " [0]\n",
            " [0]\n",
            " [0]\n",
            " [0]\n",
            " [0]\n",
            " [0]\n",
            " [0]\n",
            " [0]\n",
            " [0]]\n",
            "[[4.41431551e-05 9.99686106e-01 2.69751199e-04]\n",
            " [9.09346107e-05 9.99869050e-01 4.00158213e-05]\n",
            " [1.71360429e-04 9.99695970e-01 1.32670058e-04]\n",
            " [6.12399148e-05 9.99225714e-01 7.13046585e-04]\n",
            " [2.56527446e-04 9.87736577e-01 1.20068951e-02]\n",
            " [1.22971820e-04 9.99709726e-01 1.67301979e-04]\n",
            " [4.97710810e-04 9.99119735e-01 3.82553927e-04]\n",
            " [1.00073452e-04 9.99649161e-01 2.50765713e-04]\n",
            " [9.04234643e-05 9.99786348e-01 1.23228520e-04]\n",
            " [9.80270535e-05 9.99849492e-01 5.24814459e-05]]\n",
            "90    0\n",
            "91    0\n",
            "92    0\n",
            "93    0\n",
            "94    0\n",
            "95    0\n",
            "96    0\n",
            "97    0\n",
            "98    0\n",
            "99    0\n",
            "Name: target, dtype: int64\n",
            "open-close-diff-SELL-60-sec: 6.274963704236143\n",
            "stochastic-oscillator-BUY-600-sec: 6.110833749272646\n",
            "open-close-diff-SELL-600-sec: 5.708578774502967\n",
            "open-close-diff-BUY-60-sec: 5.701284088085596\n",
            "stochastic-oscillator-SELL-600-sec: 5.259623464562236\n",
            "open-close-diff-BUY-600-sec: 4.751227118319386\n",
            "open-close-diff-BUY-30-sec: 3.2570739279915912\n",
            "open-close-diff-SELL-30-sec: 2.728446034180308\n",
            "seconds-since-1000-trades-ago-BUY: 2.6051443009585364\n",
            "seconds-since-midnight: 2.43833985585765\n",
            "seconds-since-10-trades-ago-BUY: 2.2747314999476225\n",
            "seconds-since-100-trades-ago-BUY: 2.097330661641191\n",
            "seconds-since-50-trades-ago-BUY: 1.834525025044687\n",
            "trade-amount-BUY-60-sec: 1.7698959638677831\n",
            "stochastic-oscillator-BUY-60-sec: 1.7575025179194377\n",
            "trade-amount-SELL-1-sec: 1.725404671009439\n",
            "trade-amount-SELL-600-sec: 1.714923331256522\n",
            "trade-volume-BUY-600-sec: 1.683635755760248\n",
            "trade-volume-SELL-60-sec: 1.653111088009618\n",
            "trade-amount-BUY-10-sec: 1.5946820598822005\n",
            "trade-amount-BUY-600-sec: 1.5001148076619386\n",
            "trade-amount-SELL-5-sec: 1.4720662200271886\n",
            "trade-volume-SELL-600-sec: 1.455408987704967\n",
            "seconds-since-1000-trades-ago-SELL: 1.3820482031072892\n",
            "trade-amount-SELL-60-sec: 1.3695818666065225\n",
            "trade-volume-SELL-1-sec: 1.3534503241186857\n",
            "open-close-diff-SELL-10-sec: 1.3236358371590782\n",
            "trade-amount-SELL-30-sec: 1.2766610917031036\n",
            "stochastic-oscillator-SELL-60-sec: 1.1909515289120018\n",
            "trade-amount-BUY-30-sec: 1.1800806376268584\n",
            "trade-volume-BUY-1-sec: 1.1653859707781777\n",
            "trade-volume-SELL-10-sec: 1.1089691692203352\n",
            "trade-volume-SELL-30-sec: 1.0805532785496659\n",
            "trade-amount-BUY-1-sec: 1.0801452488019354\n",
            "trade-volume-BUY-60-sec: 1.0213980377136918\n",
            "seconds-since-1-trades-ago-BUY: 0.9599928533094702\n",
            "trade-amount-BUY-5-sec: 0.9321062990060117\n",
            "trade-volume-SELL-5-sec: 0.9254352381023776\n",
            "open-close-diff-SELL-5-sec: 0.9245279079781372\n",
            "open-close-diff-BUY-10-sec: 0.9028994980017266\n",
            "trade-amount-SELL-10-sec: 0.89556994578718\n",
            "trade-volume-BUY-5-sec: 0.8850438222786126\n",
            "trade-volume-BUY-10-sec: 0.7359465237453697\n",
            "stochastic-oscillator-BUY-1-sec: 0.7233057802568857\n",
            "open-close-diff-BUY-1-sec: 0.69054040121632\n",
            "open-close-diff-SELL-1-sec: 0.6315948755494218\n",
            "open-close-diff-BUY-5-sec: 0.5372783345656332\n",
            "trade-volume-BUY-30-sec: 0.5100576048386581\n",
            "weighted-moving-average-BUY-600-sec: 0.5027847446071185\n",
            "seconds-since-10-trades-ago-SELL: 0.479844298296779\n",
            "seconds-since-50-trades-ago-SELL: 0.4580696113691382\n",
            "weighted-moving-average-BUY-5-sec: 0.4345146162113471\n",
            "seconds-since-100-trades-ago-SELL: 0.43420663460708714\n",
            "stochastic-oscillator-SELL-30-sec: 0.42283775890200437\n",
            "stochastic-oscillator-BUY-5-sec: 0.3657688388537516\n",
            "exp-moving-average-BUY-1-sec: 0.32800952616183804\n",
            "weighted-moving-average-SELL-10-sec: 0.29504578884925003\n",
            "weighted-moving-average-SELL-30-sec: 0.27434280640503944\n",
            "weighted-moving-average-SELL-60-sec: 0.2728302778738961\n",
            "exp-moving-average-SELL-600-sec: 0.2639875271366705\n",
            "stochastic-oscillator-BUY-30-sec: 0.24591931379340104\n",
            "moving-average-BUY-600-sec: 0.22708657898592602\n",
            "weighted-moving-average-SELL-600-sec: 0.2235466985298423\n",
            "weighted-moving-average-BUY-10-sec: 0.19632981763661547\n",
            "moving-average-SELL-30-sec: 0.18747971453191598\n",
            "weighted-moving-average-BUY-60-sec: 0.1777454437421812\n",
            "moving-average-SELL-600-sec: 0.17295608062697326\n",
            "seconds-since-1-trades-ago-SELL: 0.17244092519791487\n",
            "moving-average-SELL-5-sec: 0.17028090534560186\n",
            "stochastic-oscillator-SELL-10-sec: 0.1613415927485639\n",
            "moving-average-BUY-10-sec: 0.14001845440277152\n",
            "exp-moving-average-BUY-30-sec: 0.13644680739453502\n",
            "moving-average-BUY-30-sec: 0.1282556428812374\n",
            "exp-moving-average-SELL-30-sec: 0.12471605068773721\n",
            "stochastic-oscillator-SELL-5-sec: 0.11696939958380792\n",
            "moving-average-SELL-10-sec: 0.09628048121044905\n",
            "exp-moving-average-BUY-600-sec: 0.09101217904809729\n",
            "stochastic-oscillator-BUY-10-sec: 0.0662345705210899\n",
            "exp-moving-average-SELL-5-sec: 0.06462927246435737\n",
            "exp-moving-average-SELL-60-sec: 0.06123111136625913\n",
            "moving-average-BUY-5-sec: 0.05989035691672578\n",
            "weighted-moving-average-BUY-30-sec: 0.05972965473296775\n",
            "exp-moving-average-SELL-1-sec: 0.05141554168872216\n",
            "exp-moving-average-BUY-10-sec: 0.04321998870120477\n",
            "weighted-moving-average-BUY-1-sec: 0.02915434245606379\n",
            "exp-moving-average-BUY-5-sec: 0.028331544541591466\n",
            "moving-average-SELL-60-sec: 0.02074491418618523\n",
            "weighted-moving-average-SELL-1-sec: 0.01910903657651524\n",
            "exp-moving-average-SELL-10-sec: 0.011978462118208332\n",
            "weighted-moving-average-SELL-5-sec: 0.011172177967760122\n",
            "moving-average-BUY-60-sec: 0.011049135378162508\n",
            "moving-average-SELL-1-sec: 0.004290746776412068\n",
            "moving-average-BUY-1-sec: 0.0007427413531928229\n",
            "stochastic-oscillator-SELL-1-sec: 0.0\n",
            "exp-moving-average-BUY-60-sec: 0.0\n"
          ]
        }
      ],
      "source": [
        "params = {\n",
        "    'iterations': 1000,\n",
        "    'l2_leaf_reg': 2,\n",
        "    'learning_rate': 0.2,\n",
        "    'custom_loss': [metrics.Accuracy()],\n",
        "    'eval_metric': metrics.Accuracy(),\n",
        "    'random_seed': 42,\n",
        "    'depth': 5,\n",
        "    'logging_level': 'Silent',\n",
        "    'loss_function': 'MultiClass',\n",
        "}\n",
        "train_pool = Pool(X_train, y_train)\n",
        "validate_pool = Pool(X_validation, y_validation)\n",
        "\n",
        "model = CatBoostClassifier(**params)\n",
        "model.fit(\n",
        "    train_pool,\n",
        "    eval_set=validate_pool,\n",
        "    plot=True,\n",
        ")\n",
        "model.save_model('catboost_model.dump')\n",
        "\n",
        "print('Model validation accuracy: {:.4}'.format(\n",
        "    accuracy_score(y_test, model.predict(X_test))\n",
        "))\n",
        "predictions = model.predict(X_test)\n",
        "predictions = predictions.reshape(predictions.shape[0], 1)\n",
        "predictions_probs = model.predict_proba(X_test)\n",
        "print(predictions[90:100])\n",
        "print(predictions_probs[90:100])\n",
        "print(y_test[90:100])\n",
        "feature_importances = model.get_feature_importance(train_pool)\n",
        "feature_names = X_train.columns\n",
        "for score, name in sorted(zip(feature_importances, feature_names), reverse=True):\n",
        "    print('{}: {}'.format(name, score))"
      ]
    },
    {
      "cell_type": "code",
      "execution_count": 120,
      "id": "XRZYcGeJ2hCl",
      "metadata": {
        "id": "XRZYcGeJ2hCl"
      },
      "outputs": [],
      "source": [
        "def calculate_profit(prob_threshold, diff_threshold, null_threshold):\n",
        "    p = f(prob_threshold, diff_threshold, null_threshold)\n",
        "    result = {\n",
        "        'correct_predictions': 0,\n",
        "        'false_positive': 0,\n",
        "        'false_negative': 0,\n",
        "        'wrong_side': 0,\n",
        "    }\n",
        "    for i in range(len(p)):\n",
        "        t = int(y_test[i:i+1])\n",
        "        if p[i] == t != 0:\n",
        "            result['correct_predictions'] += 1\n",
        "        elif p[i] != t and t != 0 and p[i] != 0:\n",
        "            result['wrong_side'] += 1\n",
        "        elif p[i] != 0 and t == 0:\n",
        "            result['false_positive'] += 1\n",
        "        elif p[i] == 0 and t != 0:\n",
        "            result['false_negative'] += 1\n",
        "\n",
        "    result['correct_predictions_pc'] = result['correct_predictions'] / len(y_test)\n",
        "    result['false_positive_pc'] = result['false_positive'] / len(y_test)\n",
        "    result['false_negative_pc'] = result['false_negative'] / len(y_test)\n",
        "    result['wrong_side_pc'] = result['wrong_side'] / len(y_test)\n",
        "    \n",
        "    return (\n",
        "          len(y) * result['correct_predictions_pc'] * (punch - 2 * commision)\n",
        "          -\n",
        "          len(y) * result['false_positive_pc'] * 2 * commision\n",
        "          -\n",
        "          len(y) * result['wrong_side_pc'] * (punch + 2 * commision)\n",
        "    )\n",
        "\n",
        "results = []\n",
        "def f(prob_threshold, diff_threshold, null_threshold):\n",
        "    p = np.array((list(map(lambda row:\n",
        "                          1\n",
        "                          if row[2] > prob_threshold\n",
        "                              # and row[2] == max(row)\n",
        "                              and row[2] > row[0]\n",
        "                              and row[1] < null_threshold\n",
        "                              and abs(row[2] - row[0]) > diff_threshold\n",
        "                              and abs(row[2] - row[1]) > diff_threshold\n",
        "                          else\n",
        "                          -1\n",
        "                          if row[0] > prob_threshold\n",
        "                              # and row[0] == max(row)\n",
        "                              and row[0] > row[2]\n",
        "                              and row[1] < null_threshold\n",
        "                              and abs(row[0] - row[2]) > diff_threshold\n",
        "                              and abs(row[0] - row[1]) > diff_threshold\n",
        "                          else 0,\n",
        "                          predictions_probs))))\n",
        "    result = {\n",
        "        'correct_predictions': 0,\n",
        "        'false_positive': 0,\n",
        "        'false_negative': 0,\n",
        "        'wrong_side': 0,\n",
        "    }\n",
        "    for i in range(len(p)):\n",
        "        t = int(y_test[i:i+1])\n",
        "        if p[i] == t != 0:\n",
        "            result['correct_predictions'] += 1\n",
        "        elif p[i] != t and t != 0 and p[i] != 0:\n",
        "            result['wrong_side'] += 1\n",
        "        elif p[i] != 0 and t == 0:\n",
        "            result['false_positive'] += 1\n",
        "        elif p[i] == 0 and t != 0:\n",
        "            result['false_negative'] += 1\n",
        "\n",
        "    result['correct_predictions'] /= len(y_test)\n",
        "    result['false_positive'] /= len(y_test)\n",
        "    result['false_negative'] /= len(y_test)\n",
        "    result['wrong_side'] /= len(y_test)\n",
        "    result['prob_threshold'] = prob_threshold\n",
        "    result['diff_threshold'] = diff_threshold\n",
        "    result['null_threshold'] = null_threshold\n",
        "    results.append(result)\n",
        "    return p"
      ]
    },
    {
      "cell_type": "code",
      "execution_count": 122,
      "id": "nYtYQuKh3n8N",
      "metadata": {
        "id": "nYtYQuKh3n8N"
      },
      "outputs": [],
      "source": [
        "for null_threshold in np.arange(0.3, 0.8, 0.05):\n",
        "    for prob_threshold in np.arange(0.3, 0.7, 0.05):\n",
        "        for diff_threshold in np.arange(0.00, 0.20, 0.05):\n",
        "            f(prob_threshold, diff_threshold, null_threshold)"
      ]
    },
    {
      "cell_type": "code",
      "execution_count": 123,
      "id": "uibgvIlGhC_s",
      "metadata": {
        "colab": {
          "base_uri": "https://localhost:8080/"
        },
        "id": "uibgvIlGhC_s",
        "outputId": "fa7dd4bf-3d18-4084-cdec-1803d3b16182"
      },
      "outputs": [
        {
          "name": "stdout",
          "output_type": "stream",
          "text": [
            "{'correct_predictions': 0.08689407540394974, 'false_positive': 0.017953321364452424, 'false_negative': 0.11131059245960502, 'wrong_side': 0.0118491921005386, 'prob_threshold': 0.6000000000000001, 'diff_threshold': 0.0, 'null_threshold': 0.5}\n"
          ]
        }
      ],
      "source": [
        "results = list(sorted(results, key=lambda result: -calculate_profit(result['prob_threshold'], result['diff_threshold'], result['null_threshold'])))\n",
        "print(results[0])"
      ]
    },
    {
      "cell_type": "code",
      "execution_count": 124,
      "id": "YVf5Mi0OZMzL",
      "metadata": {
        "colab": {
          "base_uri": "https://localhost:8080/"
        },
        "id": "YVf5Mi0OZMzL",
        "outputId": "cae1c44a-706f-49d3-d3a3-98e0ca8d0861"
      },
      "outputs": [
        {
          "name": "stdout",
          "output_type": "stream",
          "text": [
            "prob_threshold 0.6000000000000001, diff_threshold 0.0, null_threshold 0.5\n",
            "accuracy 0.858886894075404\n",
            "{'correct_predictions': 242, 'false_positive': 50, 'false_negative': 310, 'wrong_side': 33, 'correct_predictions_pc': 0.08689407540394974, 'false_positive_pc': 0.017953321364452424, 'false_negative_pc': 0.11131059245960502, 'wrong_side_pc': 0.0118491921005386}\n"
          ]
        }
      ],
      "source": [
        "prob_threshold = results[0]['prob_threshold']\n",
        "diff_threshold = results[0]['diff_threshold']\n",
        "null_threshold = results[0]['null_threshold']\n",
        "\n",
        "print(f\"prob_threshold {prob_threshold}, diff_threshold {diff_threshold}, null_threshold {null_threshold}\")\n",
        "p = f(prob_threshold, diff_threshold, null_threshold)\n",
        "print('accuracy', accuracy_score(p, y_test))\n",
        "result = {\n",
        "    'correct_predictions': 0,\n",
        "    'false_positive': 0,\n",
        "    'false_negative': 0,\n",
        "    'wrong_side': 0,\n",
        "}\n",
        "for i in range(len(p)):\n",
        "    t = int(y_test[i:i+1])\n",
        "    if p[i] == t != 0:\n",
        "        result['correct_predictions'] += 1\n",
        "    elif p[i] != t and t != 0 and p[i] != 0:\n",
        "        result['wrong_side'] += 1\n",
        "    elif p[i] != 0 and t == 0:\n",
        "        result['false_positive'] += 1\n",
        "    elif p[i] == 0 and t != 0:\n",
        "        result['false_negative'] += 1\n",
        "\n",
        "result['correct_predictions_pc'] = result['correct_predictions'] / len(y_test)\n",
        "result['false_positive_pc'] = result['false_positive'] / len(y_test)\n",
        "result['false_negative_pc'] = result['false_negative'] / len(y_test)\n",
        "result['wrong_side_pc'] = result['wrong_side'] / len(y_test)\n",
        "print(result)"
      ]
    },
    {
      "cell_type": "code",
      "execution_count": 125,
      "id": "gMozO7JrZ3de",
      "metadata": {
        "colab": {
          "base_uri": "https://localhost:8080/"
        },
        "id": "gMozO7JrZ3de",
        "outputId": "27c88389-5cb6-4299-fab2-a6b48653fe89"
      },
      "outputs": [
        {
          "name": "stdout",
          "output_type": "stream",
          "text": [
            "profit from 3000$ fot 6 months 2792.1037701974865 $ 93.07012567324955 %\n"
          ]
        }
      ],
      "source": [
        "profit = calculate_profit(prob_threshold, diff_threshold, null_threshold)\n",
        "print(\n",
        "    'profit from 3000$ fot 6 months',\n",
        "    profit * 3000,\n",
        "    '$',\n",
        "    profit * 100,\n",
        "    '%'\n",
        ")"
      ]
    },
    {
      "cell_type": "code",
      "execution_count": 126,
      "id": "_Gh3CUGM6K-c",
      "metadata": {
        "colab": {
          "base_uri": "https://localhost:8080/"
        },
        "id": "_Gh3CUGM6K-c",
        "outputId": "11719ae0-3b63-4ea1-f269-07105e449c45"
      },
      "outputs": [
        {
          "name": "stdout",
          "output_type": "stream",
          "text": [
            "Correct accuracy = correct prediction / total positive num = 0.41367521367521365\n",
            "FPR = false positive / total negative num = 0.022727272727272728\n",
            "FNR = false negative / total positive num = 0.5299145299145299\n",
            "Model in 55.55555555555556% of cases with probability 74.46153846153845% predict a correct market jump\n"
          ]
        }
      ],
      "source": [
        "correct_accuracy = result['correct_predictions'] / len(y_test[y_test != 0])\n",
        "print(\n",
        "f\"Correct accuracy = correct prediction / total positive num = {correct_accuracy}\"\n",
        ")\n",
        "FPR = result['false_positive'] / len(y_test[y_test == 0])\n",
        "print(\n",
        "f\"FPR = false positive / total negative num = {FPR}\"\n",
        ")\n",
        "FNR = result['false_negative'] / len(y_test[y_test  != 0])\n",
        "print(\n",
        "f\"FNR = false negative / total positive num = {FNR}\"\n",
        ")\n",
        "cases_pc = (result['correct_predictions'] + result['false_positive'] + result['wrong_side']) / len(y_test[y_test != 0]) * 100\n",
        "probability_pc = result['correct_predictions'] / (result['correct_predictions'] + result['false_positive'] + result['wrong_side']) * 100\n",
        "print(\n",
        "f\"Model in {cases_pc}% of cases with probability {probability_pc}% predict a correct market jump\"\n",
        ")"
      ]
    }
  ],
  "metadata": {
    "colab": {
      "collapsed_sections": [],
      "name": "trades_size_catboost_master.ipynb",
      "provenance": []
    },
    "kernelspec": {
      "display_name": "Python 3",
      "language": "python",
      "name": "python3"
    },
    "language_info": {
      "codemirror_mode": {
        "name": "ipython",
        "version": 3
      },
      "file_extension": ".py",
      "mimetype": "text/x-python",
      "name": "python",
      "nbconvert_exporter": "python",
      "pygments_lexer": "ipython3",
      "version": "3.8.10"
    },
    "widgets": {
      "application/vnd.jupyter.widget-state+json": {
        "29fab181db474bc7b9e2d3a9eb87b2df": {
          "model_module": "catboost-widget",
          "model_module_version": "^1.0.0",
          "model_name": "CatboostWidgetModel",
          "state": {
            "_dom_classes": [],
            "_model_module": "catboost-widget",
            "_model_module_version": "^1.0.0",
            "_model_name": "CatboostWidgetModel",
            "_view_count": null,
            "_view_module": "catboost-widget",
            "_view_module_version": "^1.0.0",
            "_view_name": "CatboostWidgetView",
            "data": {
              "catboost_info": {
                "content": {
                  "data": {
                    "iterations": [
                      {
                        "iteration": 0,
                        "learn": [
                          0.8947547188,
                          0.8310831091
                        ],
                        "passed_time": 0.1021701367,
                        "remaining_time": 102.0679666,
                        "test": [
                          0.8462746858,
                          0.8524206331
                        ]
                      },
                      {
                        "iteration": 1,
                        "learn": [
                          0.898733563,
                          0.67434239
                        ],
                        "passed_time": 0.1576254233,
                        "remaining_time": 78.65508624,
                        "test": [
                          0.8828545781,
                          0.6982245001
                        ]
                      },
                      {
                        "iteration": 2,
                        "learn": [
                          0.8984424281,
                          0.5762282171
                        ],
                        "passed_time": 0.2120379037,
                        "remaining_time": 70.46726334,
                        "test": [
                          0.881059246,
                          0.6046553474
                        ]
                      },
                      {
                        "iteration": 3,
                        "learn": [
                          0.898733563,
                          0.5054613866
                        ],
                        "passed_time": 0.2604897761,
                        "remaining_time": 64.86195426,
                        "test": [
                          0.8794883303,
                          0.5370623301
                        ]
                      },
                      {
                        "iteration": 4,
                        "learn": [
                          0.8995099228,
                          0.4504794974
                        ],
                        "passed_time": 0.3088956242,
                        "remaining_time": 61.47022922,
                        "test": [
                          0.8797127469,
                          0.4833123245
                        ]
                      },
                      {
                        "iteration": 5,
                        "learn": [
                          0.9016934349,
                          0.4037419135
                        ],
                        "passed_time": 0.3662064408,
                        "remaining_time": 60.66820035,
                        "test": [
                          0.8842010772,
                          0.4347787941
                        ]
                      },
                      {
                        "iteration": 6,
                        "learn": [
                          0.9031491096,
                          0.3716688965
                        ],
                        "passed_time": 0.4153695284,
                        "remaining_time": 58.92313452,
                        "test": [
                          0.8855475763,
                          0.4043148479
                        ]
                      },
                      {
                        "iteration": 7,
                        "learn": [
                          0.9055752341,
                          0.3444902878
                        ],
                        "passed_time": 0.465865073,
                        "remaining_time": 57.76726905,
                        "test": [
                          0.8871184919,
                          0.3752495565
                        ]
                      },
                      {
                        "iteration": 8,
                        "learn": [
                          0.9090203309,
                          0.3209571666
                        ],
                        "passed_time": 0.5163319833,
                        "remaining_time": 56.85388838,
                        "test": [
                          0.8886894075,
                          0.3524155359
                        ]
                      },
                      {
                        "iteration": 9,
                        "learn": [
                          0.9094085108,
                          0.3049653396
                        ],
                        "passed_time": 0.5652770881,
                        "remaining_time": 55.96243172,
                        "test": [
                          0.888464991,
                          0.3367990478
                        ]
                      },
                      {
                        "iteration": 10,
                        "learn": [
                          0.9106215731,
                          0.2886593766
                        ],
                        "passed_time": 0.6165636514,
                        "remaining_time": 55.43467739,
                        "test": [
                          0.8920556553,
                          0.3214062789
                        ]
                      },
                      {
                        "iteration": 11,
                        "learn": [
                          0.9126595177,
                          0.2771923533
                        ],
                        "passed_time": 0.6844700571,
                        "remaining_time": 56.35470137,
                        "test": [
                          0.8927289048,
                          0.3106686137
                        ]
                      },
                      {
                        "iteration": 12,
                        "learn": [
                          0.9145518948,
                          0.2646279679
                        ],
                        "passed_time": 0.7368836561,
                        "remaining_time": 55.94647451,
                        "test": [
                          0.8951974865,
                          0.2992962576
                        ]
                      },
                      {
                        "iteration": 13,
                        "learn": [
                          0.9158134795,
                          0.2536245338
                        ],
                        "passed_time": 0.7897496272,
                        "remaining_time": 55.62093803,
                        "test": [
                          0.8963195691,
                          0.2883610105
                        ]
                      },
                      {
                        "iteration": 14,
                        "learn": [
                          0.9173176767,
                          0.2467957691
                        ],
                        "passed_time": 0.8504893084,
                        "remaining_time": 55.84879792,
                        "test": [
                          0.8978904847,
                          0.2829349101
                        ]
                      },
                      {
                        "iteration": 15,
                        "learn": [
                          0.9195982338,
                          0.2367338051
                        ],
                        "passed_time": 0.9088194672,
                        "remaining_time": 55.89239723,
                        "test": [
                          0.8990125673,
                          0.2723147803
                        ]
                      },
                      {
                        "iteration": 16,
                        "learn": [
                          0.9207142511,
                          0.2307755815
                        ],
                        "passed_time": 0.9654127519,
                        "remaining_time": 55.82357266,
                        "test": [
                          0.9032764811,
                          0.2671560348
                        ]
                      },
                      {
                        "iteration": 17,
                        "learn": [
                          0.9215391334,
                          0.225767308
                        ],
                        "passed_time": 1.01845741,
                        "remaining_time": 55.56250981,
                        "test": [
                          0.9039497307,
                          0.2634285688
                        ]
                      },
                      {
                        "iteration": 18,
                        "learn": [
                          0.9234315105,
                          0.2198865623
                        ],
                        "passed_time": 1.069506008,
                        "remaining_time": 55.22028388,
                        "test": [
                          0.9039497307,
                          0.2577443601
                        ]
                      },
                      {
                        "iteration": 19,
                        "learn": [
                          0.9248871852,
                          0.2137319884
                        ],
                        "passed_time": 1.12573475,
                        "remaining_time": 55.16100273,
                        "test": [
                          0.9059694794,
                          0.2515001792
                        ]
                      },
                      {
                        "iteration": 20,
                        "learn": [
                          0.92576059,
                          0.2107542254
                        ],
                        "passed_time": 1.174502049,
                        "remaining_time": 54.75416696,
                        "test": [
                          0.9061938959,
                          0.2488791202
                        ]
                      },
                      {
                        "iteration": 21,
                        "learn": [
                          0.9256635451,
                          0.208349487
                        ],
                        "passed_time": 1.22431819,
                        "remaining_time": 54.42650862,
                        "test": [
                          0.908438061,
                          0.247023008
                        ]
                      },
                      {
                        "iteration": 22,
                        "learn": [
                          0.9262943374,
                          0.2057708364
                        ],
                        "passed_time": 1.273790746,
                        "remaining_time": 54.10841561,
                        "test": [
                          0.9082136445,
                          0.2448377527
                        ]
                      },
                      {
                        "iteration": 23,
                        "learn": [
                          0.9276044447,
                          0.2017377723
                        ],
                        "passed_time": 1.330674999,
                        "remaining_time": 54.11411662,
                        "test": [
                          0.9104578097,
                          0.2410732088
                        ]
                      },
                      {
                        "iteration": 24,
                        "learn": [
                          0.9275559222,
                          0.1999074047
                        ],
                        "passed_time": 1.384637403,
                        "remaining_time": 54.00085873,
                        "test": [
                          0.9106822262,
                          0.2400192376
                        ]
                      },
                      {
                        "iteration": 25,
                        "learn": [
                          0.928332282,
                          0.1971288061
                        ],
                        "passed_time": 1.437910577,
                        "remaining_time": 53.86634237,
                        "test": [
                          0.9109066427,
                          0.2371727373
                        ]
                      },
                      {
                        "iteration": 26,
                        "learn": [
                          0.9287204619,
                          0.1952610629
                        ],
                        "passed_time": 1.486215659,
                        "remaining_time": 53.55880874,
                        "test": [
                          0.9109066427,
                          0.2358003131
                        ]
                      },
                      {
                        "iteration": 27,
                        "learn": [
                          0.9290115969,
                          0.1935739514
                        ],
                        "passed_time": 1.540733232,
                        "remaining_time": 53.48545363,
                        "test": [
                          0.9109066427,
                          0.2346419582
                        ]
                      },
                      {
                        "iteration": 28,
                        "learn": [
                          0.9306128391,
                          0.1906948598
                        ],
                        "passed_time": 1.592324879,
                        "remaining_time": 53.31542957,
                        "test": [
                          0.9109066427,
                          0.2322335076
                        ]
                      },
                      {
                        "iteration": 29,
                        "learn": [
                          0.931001019,
                          0.1887565231
                        ],
                        "passed_time": 1.644496694,
                        "remaining_time": 53.17205978,
                        "test": [
                          0.9111310592,
                          0.2308789816
                        ]
                      },
                      {
                        "iteration": 30,
                        "learn": [
                          0.9317773788,
                          0.1873356984
                        ],
                        "passed_time": 1.706887645,
                        "remaining_time": 53.35400412,
                        "test": [
                          0.9118043088,
                          0.2300491022
                        ]
                      },
                      {
                        "iteration": 31,
                        "learn": [
                          0.9320199913,
                          0.1852221
                        ],
                        "passed_time": 1.756090429,
                        "remaining_time": 53.12173548,
                        "test": [
                          0.9138240575,
                          0.2273231871
                        ]
                      },
                      {
                        "iteration": 32,
                        "learn": [
                          0.933184531,
                          0.1827751378
                        ],
                        "passed_time": 1.809782296,
                        "remaining_time": 53.03210547,
                        "test": [
                          0.9138240575,
                          0.2256265377
                        ]
                      },
                      {
                        "iteration": 33,
                        "learn": [
                          0.933475666,
                          0.1815579602
                        ],
                        "passed_time": 1.872546085,
                        "remaining_time": 53.20233877,
                        "test": [
                          0.91494614,
                          0.2248878092
                        ]
                      },
                      {
                        "iteration": 34,
                        "learn": [
                          0.9342520258,
                          0.1787053647
                        ],
                        "passed_time": 1.924652908,
                        "remaining_time": 53.06543017,
                        "test": [
                          0.9169658887,
                          0.2225735835
                        ]
                      },
                      {
                        "iteration": 35,
                        "learn": [
                          0.9348828182,
                          0.1772223867
                        ],
                        "passed_time": 1.972633904,
                        "remaining_time": 52.82275231,
                        "test": [
                          0.9178635548,
                          0.2211047415
                        ]
                      },
                      {
                        "iteration": 36,
                        "learn": [
                          0.9352224756,
                          0.1763340532
                        ],
                        "passed_time": 2.020199881,
                        "remaining_time": 52.5797969,
                        "test": [
                          0.9180879713,
                          0.2202142378
                        ]
                      },
                      {
                        "iteration": 37,
                        "learn": [
                          0.9356106555,
                          0.1751896599
                        ],
                        "passed_time": 2.067542602,
                        "remaining_time": 52.34147325,
                        "test": [
                          0.9187612208,
                          0.2195867079
                        ]
                      },
                      {
                        "iteration": 38,
                        "learn": [
                          0.9370663302,
                          0.1728512538
                        ],
                        "passed_time": 2.121475396,
                        "remaining_time": 52.27532963,
                        "test": [
                          0.9194344704,
                          0.2182497735
                        ]
                      },
                      {
                        "iteration": 39,
                        "learn": [
                          0.9377456451,
                          0.1715932077
                        ],
                        "passed_time": 2.173373102,
                        "remaining_time": 52.16095445,
                        "test": [
                          0.9198833034,
                          0.2171453527
                        ]
                      },
                      {
                        "iteration": 40,
                        "learn": [
                          0.9379397351,
                          0.1705784546
                        ],
                        "passed_time": 2.218639426,
                        "remaining_time": 51.8945173,
                        "test": [
                          0.9196588869,
                          0.2167989388
                        ]
                      },
                      {
                        "iteration": 41,
                        "learn": [
                          0.93823087,
                          0.1699800941
                        ],
                        "passed_time": 2.266767987,
                        "remaining_time": 51.70389837,
                        "test": [
                          0.9198833034,
                          0.2161685355
                        ]
                      },
                      {
                        "iteration": 42,
                        "learn": [
                          0.9387160949,
                          0.1685695495
                        ],
                        "passed_time": 2.319566698,
                        "remaining_time": 51.62384488,
                        "test": [
                          0.9196588869,
                          0.2151140776
                        ]
                      },
                      {
                        "iteration": 43,
                        "learn": [
                          0.9389101849,
                          0.1680321757
                        ],
                        "passed_time": 2.362210258,
                        "remaining_time": 51.32438652,
                        "test": [
                          0.9201077199,
                          0.214617762
                        ]
                      },
                      {
                        "iteration": 44,
                        "learn": [
                          0.9386675724,
                          0.1674064195
                        ],
                        "passed_time": 2.411349374,
                        "remaining_time": 51.17419227,
                        "test": [
                          0.9201077199,
                          0.214204165
                        ]
                      },
                      {
                        "iteration": 45,
                        "learn": [
                          0.9388616624,
                          0.1662941806
                        ],
                        "passed_time": 2.465132667,
                        "remaining_time": 51.12470792,
                        "test": [
                          0.9207809695,
                          0.2134312842
                        ]
                      },
                      {
                        "iteration": 46,
                        "learn": [
                          0.9396865447,
                          0.1647703073
                        ],
                        "passed_time": 2.520275738,
                        "remaining_time": 51.1026123,
                        "test": [
                          0.9203321364,
                          0.2117350337
                        ]
                      },
                      {
                        "iteration": 47,
                        "learn": [
                          0.9399291572,
                          0.1639983028
                        ],
                        "passed_time": 2.567389661,
                        "remaining_time": 50.91989494,
                        "test": [
                          0.921005386,
                          0.2115637165
                        ]
                      },
                      {
                        "iteration": 48,
                        "learn": [
                          0.9399776797,
                          0.1632806336
                        ],
                        "passed_time": 2.614264367,
                        "remaining_time": 50.73806966,
                        "test": [
                          0.921454219,
                          0.2112597784
                        ]
                      },
                      {
                        "iteration": 49,
                        "learn": [
                          0.9401717696,
                          0.1626190817
                        ],
                        "passed_time": 2.661168877,
                        "remaining_time": 50.56220866,
                        "test": [
                          0.9207809695,
                          0.2111436374
                        ]
                      },
                      {
                        "iteration": 50,
                        "learn": [
                          0.9403658596,
                          0.1622428512
                        ],
                        "passed_time": 2.72592686,
                        "remaining_time": 50.72361942,
                        "test": [
                          0.9207809695,
                          0.2111012474
                        ]
                      },
                      {
                        "iteration": 51,
                        "learn": [
                          0.9407540395,
                          0.1618342514
                        ],
                        "passed_time": 2.77154224,
                        "remaining_time": 50.527347,
                        "test": [
                          0.921005386,
                          0.2108873266
                        ]
                      },
                      {
                        "iteration": 52,
                        "learn": [
                          0.9409966519,
                          0.1612802709
                        ],
                        "passed_time": 2.816048888,
                        "remaining_time": 50.316949,
                        "test": [
                          0.9201077199,
                          0.2102364916
                        ]
                      },
                      {
                        "iteration": 53,
                        "learn": [
                          0.9407540395,
                          0.1605904758
                        ],
                        "passed_time": 2.870897899,
                        "remaining_time": 50.29387802,
                        "test": [
                          0.921454219,
                          0.2098211766
                        ]
                      },
                      {
                        "iteration": 54,
                        "learn": [
                          0.9415303993,
                          0.1595152304
                        ],
                        "passed_time": 2.923208978,
                        "remaining_time": 50.22604517,
                        "test": [
                          0.921005386,
                          0.2091019281
                        ]
                      },
                      {
                        "iteration": 55,
                        "learn": [
                          0.9419671018,
                          0.1591330054
                        ],
                        "passed_time": 2.974319122,
                        "remaining_time": 50.13852234,
                        "test": [
                          0.9212298025,
                          0.2092484565
                        ]
                      },
                      {
                        "iteration": 56,
                        "learn": [
                          0.9424523267,
                          0.1579730873
                        ],
                        "passed_time": 3.024511134,
                        "remaining_time": 50.03708771,
                        "test": [
                          0.9221274686,
                          0.2086590736
                        ]
                      },
                      {
                        "iteration": 57,
                        "learn": [
                          0.9422582367,
                          0.157545378
                        ],
                        "passed_time": 3.074113073,
                        "remaining_time": 49.92783645,
                        "test": [
                          0.921454219,
                          0.2086754228
                        ]
                      },
                      {
                        "iteration": 58,
                        "learn": [
                          0.9423067592,
                          0.1571002089
                        ],
                        "passed_time": 3.130641075,
                        "remaining_time": 49.93107206,
                        "test": [
                          0.921454219,
                          0.2084207956
                        ]
                      },
                      {
                        "iteration": 59,
                        "learn": [
                          0.9428405066,
                          0.1566470101
                        ],
                        "passed_time": 3.177429393,
                        "remaining_time": 49.77972716,
                        "test": [
                          0.9212298025,
                          0.2082138453
                        ]
                      },
                      {
                        "iteration": 60,
                        "learn": [
                          0.943083119,
                          0.155857521
                        ],
                        "passed_time": 3.224122075,
                        "remaining_time": 49.63033818,
                        "test": [
                          0.9219030521,
                          0.2078302013
                        ]
                      },
                      {
                        "iteration": 61,
                        "learn": [
                          0.9433257315,
                          0.1549300028
                        ],
                        "passed_time": 3.271300144,
                        "remaining_time": 49.4916054,
                        "test": [
                          0.9225763016,
                          0.2073290982
                        ]
                      },
                      {
                        "iteration": 62,
                        "learn": [
                          0.9435683439,
                          0.1547357474
                        ],
                        "passed_time": 3.316697891,
                        "remaining_time": 49.32930037,
                        "test": [
                          0.9228007181,
                          0.2072487343
                        ]
                      },
                      {
                        "iteration": 63,
                        "learn": [
                          0.9439080014,
                          0.1542965428
                        ],
                        "passed_time": 3.362723005,
                        "remaining_time": 49.17982395,
                        "test": [
                          0.9223518851,
                          0.2073106678
                        ]
                      },
                      {
                        "iteration": 64,
                        "learn": [
                          0.9440535688,
                          0.1541118362
                        ],
                        "passed_time": 3.404924346,
                        "remaining_time": 48.97852713,
                        "test": [
                          0.9223518851,
                          0.2071571765
                        ]
                      },
                      {
                        "iteration": 65,
                        "learn": [
                          0.9441020913,
                          0.1538069077
                        ],
                        "passed_time": 3.451527086,
                        "remaining_time": 48.84433786,
                        "test": [
                          0.9239228007,
                          0.2069151198
                        ]
                      },
                      {
                        "iteration": 66,
                        "learn": [
                          0.9443932263,
                          0.1535188166
                        ],
                        "passed_time": 3.498562543,
                        "remaining_time": 48.71878884,
                        "test": [
                          0.9234739677,
                          0.206678535
                        ]
                      },
                      {
                        "iteration": 67,
                        "learn": [
                          0.9441506138,
                          0.1528380266
                        ],
                        "passed_time": 3.551797339,
                        "remaining_time": 48.68051647,
                        "test": [
                          0.9236983842,
                          0.2064790008
                        ]
                      },
                      {
                        "iteration": 68,
                        "learn": [
                          0.9446843612,
                          0.152385168
                        ],
                        "passed_time": 3.595707013,
                        "remaining_time": 48.51598882,
                        "test": [
                          0.9236983842,
                          0.206717016
                        ]
                      },
                      {
                        "iteration": 69,
                        "learn": [
                          0.9448299287,
                          0.1519876069
                        ],
                        "passed_time": 3.649682941,
                        "remaining_time": 48.48864479,
                        "test": [
                          0.9241472172,
                          0.2061551057
                        ]
                      },
                      {
                        "iteration": 70,
                        "learn": [
                          0.9449754961,
                          0.1514438733
                        ],
                        "passed_time": 3.713420259,
                        "remaining_time": 48.58827353,
                        "test": [
                          0.9241472172,
                          0.2061239425
                        ]
                      },
                      {
                        "iteration": 71,
                        "learn": [
                          0.9453636761,
                          0.1510125562
                        ],
                        "passed_time": 3.76241933,
                        "remaining_time": 48.4934047,
                        "test": [
                          0.9241472172,
                          0.2057860361
                        ]
                      },
                      {
                        "iteration": 72,
                        "learn": [
                          0.945654811,
                          0.150486383
                        ],
                        "passed_time": 3.814263873,
                        "remaining_time": 48.43592617,
                        "test": [
                          0.9243716338,
                          0.205232502
                        ]
                      },
                      {
                        "iteration": 73,
                        "learn": [
                          0.9459459459,
                          0.1498735117
                        ],
                        "passed_time": 3.875786195,
                        "remaining_time": 48.49970292,
                        "test": [
                          0.9243716338,
                          0.2054033177
                        ]
                      },
                      {
                        "iteration": 74,
                        "learn": [
                          0.9460429909,
                          0.1491968335
                        ],
                        "passed_time": 3.926266803,
                        "remaining_time": 48.42395724,
                        "test": [
                          0.9248204668,
                          0.2054530541
                        ]
                      },
                      {
                        "iteration": 75,
                        "learn": [
                          0.9464796933,
                          0.1484152215
                        ],
                        "passed_time": 3.975417517,
                        "remaining_time": 48.33270771,
                        "test": [
                          0.9254937163,
                          0.2056215128
                        ]
                      },
                      {
                        "iteration": 76,
                        "learn": [
                          0.9466252608,
                          0.147160937
                        ],
                        "passed_time": 4.030546879,
                        "remaining_time": 48.31421779,
                        "test": [
                          0.9254937163,
                          0.2050723753
                        ]
                      },
                      {
                        "iteration": 77,
                        "learn": [
                          0.9466252608,
                          0.1467342095
                        ],
                        "passed_time": 4.079343712,
                        "remaining_time": 48.21993465,
                        "test": [
                          0.9250448833,
                          0.2048925825
                        ]
                      },
                      {
                        "iteration": 78,
                        "learn": [
                          0.9466737833,
                          0.1462642686
                        ],
                        "passed_time": 4.132586299,
                        "remaining_time": 48.17863268,
                        "test": [
                          0.9252692998,
                          0.2045350495
                        ]
                      },
                      {
                        "iteration": 79,
                        "learn": [
                          0.9466737833,
                          0.1459259668
                        ],
                        "passed_time": 4.178365337,
                        "remaining_time": 48.05120137,
                        "test": [
                          0.9254937163,
                          0.2044216006
                        ]
                      },
                      {
                        "iteration": 80,
                        "learn": [
                          0.9471590082,
                          0.1453226606
                        ],
                        "passed_time": 4.226905241,
                        "remaining_time": 47.95711008,
                        "test": [
                          0.9261669659,
                          0.203606548
                        ]
                      },
                      {
                        "iteration": 81,
                        "learn": [
                          0.9473045757,
                          0.1448163911
                        ],
                        "passed_time": 4.278466011,
                        "remaining_time": 47.89794876,
                        "test": [
                          0.9263913824,
                          0.203357773
                        ]
                      },
                      {
                        "iteration": 82,
                        "learn": [
                          0.9474501431,
                          0.1443542824
                        ],
                        "passed_time": 4.329756889,
                        "remaining_time": 47.83598876,
                        "test": [
                          0.9263913824,
                          0.203391633
                        ]
                      },
                      {
                        "iteration": 83,
                        "learn": [
                          0.9475957106,
                          0.1441608964
                        ],
                        "passed_time": 4.373634389,
                        "remaining_time": 47.69344167,
                        "test": [
                          0.9263913824,
                          0.2033249942
                        ]
                      },
                      {
                        "iteration": 84,
                        "learn": [
                          0.9477898006,
                          0.1437920056
                        ],
                        "passed_time": 4.421060607,
                        "remaining_time": 47.59141712,
                        "test": [
                          0.9261669659,
                          0.2031214215
                        ]
                      },
                      {
                        "iteration": 85,
                        "learn": [
                          0.9479838905,
                          0.1435510478
                        ],
                        "passed_time": 4.47009454,
                        "remaining_time": 47.50774895,
                        "test": [
                          0.9259425494,
                          0.2030741776
                        ]
                      },
                      {
                        "iteration": 86,
                        "learn": [
                          0.947935368,
                          0.1433496803
                        ],
                        "passed_time": 4.513364088,
                        "remaining_time": 47.36438405,
                        "test": [
                          0.9261669659,
                          0.2030255754
                        ]
                      },
                      {
                        "iteration": 87,
                        "learn": [
                          0.9480809355,
                          0.1428909516
                        ],
                        "passed_time": 4.557570545,
                        "remaining_time": 47.23300383,
                        "test": [
                          0.9261669659,
                          0.2031560474
                        ]
                      },
                      {
                        "iteration": 88,
                        "learn": [
                          0.9479838905,
                          0.1426452279
                        ],
                        "passed_time": 4.60688371,
                        "remaining_time": 47.1558546,
                        "test": [
                          0.9261669659,
                          0.2031537351
                        ]
                      },
                      {
                        "iteration": 89,
                        "learn": [
                          0.9481779805,
                          0.1423890008
                        ],
                        "passed_time": 4.657383,
                        "remaining_time": 47.091317,
                        "test": [
                          0.9257181329,
                          0.2030859017
                        ]
                      },
                      {
                        "iteration": 90,
                        "learn": [
                          0.9484691154,
                          0.1417705237
                        ],
                        "passed_time": 4.70781946,
                        "remaining_time": 47.02646032,
                        "test": [
                          0.9252692998,
                          0.2028676471
                        ]
                      },
                      {
                        "iteration": 91,
                        "learn": [
                          0.9489543403,
                          0.1410991661
                        ],
                        "passed_time": 4.76917324,
                        "remaining_time": 47.06966632,
                        "test": [
                          0.9248204668,
                          0.2026688853
                        ]
                      },
                      {
                        "iteration": 92,
                        "learn": [
                          0.9489543403,
                          0.1403681396
                        ],
                        "passed_time": 4.816382308,
                        "remaining_time": 46.97267477,
                        "test": [
                          0.9254937163,
                          0.202314331
                        ]
                      },
                      {
                        "iteration": 93,
                        "learn": [
                          0.9493425203,
                          0.139737402
                        ],
                        "passed_time": 4.884652199,
                        "remaining_time": 47.0797329,
                        "test": [
                          0.9248204668,
                          0.2019513303
                        ]
                      },
                      {
                        "iteration": 94,
                        "learn": [
                          0.9495366102,
                          0.1395381944
                        ],
                        "passed_time": 4.934789362,
                        "remaining_time": 47.01036182,
                        "test": [
                          0.9250448833,
                          0.201946347
                        ]
                      },
                      {
                        "iteration": 95,
                        "learn": [
                          0.9495366102,
                          0.1393299034
                        ],
                        "passed_time": 4.980189977,
                        "remaining_time": 46.89678895,
                        "test": [
                          0.9250448833,
                          0.2019524915
                        ]
                      },
                      {
                        "iteration": 96,
                        "learn": [
                          0.9496336552,
                          0.1391036577
                        ],
                        "passed_time": 5.029578373,
                        "remaining_time": 46.82174506,
                        "test": [
                          0.9245960503,
                          0.2018304709
                        ]
                      },
                      {
                        "iteration": 97,
                        "learn": [
                          0.9498762677,
                          0.1389202365
                        ],
                        "passed_time": 5.072191739,
                        "remaining_time": 46.68486682,
                        "test": [
                          0.9245960503,
                          0.2018693862
                        ]
                      },
                      {
                        "iteration": 98,
                        "learn": [
                          0.9498277452,
                          0.1386035208
                        ],
                        "passed_time": 5.116508337,
                        "remaining_time": 46.56539406,
                        "test": [
                          0.9250448833,
                          0.201789813
                        ]
                      },
                      {
                        "iteration": 99,
                        "learn": [
                          0.9499247901,
                          0.1384428618
                        ],
                        "passed_time": 5.167583935,
                        "remaining_time": 46.50825541,
                        "test": [
                          0.9252692998,
                          0.2016064961
                        ]
                      },
                      {
                        "iteration": 100,
                        "learn": [
                          0.9500218351,
                          0.1382078982
                        ],
                        "passed_time": 5.214427696,
                        "remaining_time": 46.41356929,
                        "test": [
                          0.9250448833,
                          0.2016432677
                        ]
                      },
                      {
                        "iteration": 101,
                        "learn": [
                          0.9500218351,
                          0.1380348366
                        ],
                        "passed_time": 5.263992338,
                        "remaining_time": 46.34377568,
                        "test": [
                          0.9252692998,
                          0.2015083735
                        ]
                      },
                      {
                        "iteration": 102,
                        "learn": [
                          0.9501188801,
                          0.1377519952
                        ],
                        "passed_time": 5.314096187,
                        "remaining_time": 46.27907068,
                        "test": [
                          0.9259425494,
                          0.2013555462
                        ]
                      },
                      {
                        "iteration": 103,
                        "learn": [
                          0.950410015,
                          0.1374672608
                        ],
                        "passed_time": 5.36690149,
                        "remaining_time": 46.23792053,
                        "test": [
                          0.9259425494,
                          0.2011925965
                        ]
                      },
                      {
                        "iteration": 104,
                        "learn": [
                          0.95050706,
                          0.1367725702
                        ],
                        "passed_time": 5.411805435,
                        "remaining_time": 46.12919871,
                        "test": [
                          0.9263913824,
                          0.2005856763
                        ]
                      },
                      {
                        "iteration": 105,
                        "learn": [
                          0.9510408074,
                          0.1364210299
                        ],
                        "passed_time": 5.462127514,
                        "remaining_time": 46.06737734,
                        "test": [
                          0.9266157989,
                          0.2005612023
                        ]
                      },
                      {
                        "iteration": 106,
                        "learn": [
                          0.9511863749,
                          0.1359090318
                        ],
                        "passed_time": 5.507600947,
                        "remaining_time": 45.9653051,
                        "test": [
                          0.9263913824,
                          0.20057114
                        ]
                      },
                      {
                        "iteration": 107,
                        "learn": [
                          0.9513804648,
                          0.1352019092
                        ],
                        "passed_time": 5.560773066,
                        "remaining_time": 45.92786643,
                        "test": [
                          0.9263913824,
                          0.2002979395
                        ]
                      },
                      {
                        "iteration": 108,
                        "learn": [
                          0.9517686448,
                          0.1346991421
                        ],
                        "passed_time": 5.605594333,
                        "remaining_time": 45.82187661,
                        "test": [
                          0.9259425494,
                          0.2002243704
                        ]
                      },
                      {
                        "iteration": 109,
                        "learn": [
                          0.9520597797,
                          0.1344304752
                        ],
                        "passed_time": 5.648709058,
                        "remaining_time": 45.70319147,
                        "test": [
                          0.9254937163,
                          0.2001395038
                        ]
                      },
                      {
                        "iteration": 110,
                        "learn": [
                          0.9522538697,
                          0.1339388305
                        ],
                        "passed_time": 5.696893235,
                        "remaining_time": 45.62646924,
                        "test": [
                          0.9250448833,
                          0.1999216693
                        ]
                      },
                      {
                        "iteration": 111,
                        "learn": [
                          0.9525935271,
                          0.1336703392
                        ],
                        "passed_time": 5.758045514,
                        "remaining_time": 45.65307515,
                        "test": [
                          0.9254937163,
                          0.1998075917
                        ]
                      },
                      {
                        "iteration": 112,
                        "learn": [
                          0.9526420496,
                          0.1335004606
                        ],
                        "passed_time": 5.803635186,
                        "remaining_time": 45.55596823,
                        "test": [
                          0.9252692998,
                          0.1998111734
                        ]
                      },
                      {
                        "iteration": 113,
                        "learn": [
                          0.9527876171,
                          0.1331945537
                        ],
                        "passed_time": 5.850024055,
                        "remaining_time": 45.46597643,
                        "test": [
                          0.9252692998,
                          0.199592978
                        ]
                      },
                      {
                        "iteration": 114,
                        "learn": [
                          0.9528361396,
                          0.1329833091
                        ],
                        "passed_time": 5.914541834,
                        "remaining_time": 45.51625672,
                        "test": [
                          0.9254937163,
                          0.1994237997
                        ]
                      },
                      {
                        "iteration": 115,
                        "learn": [
                          0.9530302295,
                          0.1327262291
                        ],
                        "passed_time": 5.959815427,
                        "remaining_time": 45.41790377,
                        "test": [
                          0.9254937163,
                          0.1993620408
                        ]
                      },
                      {
                        "iteration": 116,
                        "learn": [
                          0.952981707,
                          0.1326329016
                        ],
                        "passed_time": 6.007420142,
                        "remaining_time": 45.33805115,
                        "test": [
                          0.9252692998,
                          0.1993133075
                        ]
                      },
                      {
                        "iteration": 117,
                        "learn": [
                          0.9532243195,
                          0.1322653074
                        ],
                        "passed_time": 6.05676068,
                        "remaining_time": 45.27171966,
                        "test": [
                          0.9254937163,
                          0.1994177721
                        ]
                      },
                      {
                        "iteration": 118,
                        "learn": [
                          0.9533698869,
                          0.1319681944
                        ],
                        "passed_time": 6.107803254,
                        "remaining_time": 45.21827451,
                        "test": [
                          0.9257181329,
                          0.1992612763
                        ]
                      },
                      {
                        "iteration": 119,
                        "learn": [
                          0.9534669319,
                          0.131768725
                        ],
                        "passed_time": 6.156147888,
                        "remaining_time": 45.14508451,
                        "test": [
                          0.9261669659,
                          0.1992076482
                        ]
                      },
                      {
                        "iteration": 120,
                        "learn": [
                          0.9535639769,
                          0.1314565138
                        ],
                        "passed_time": 6.209722361,
                        "remaining_time": 45.11029715,
                        "test": [
                          0.9263913824,
                          0.1992543125
                        ]
                      },
                      {
                        "iteration": 121,
                        "learn": [
                          0.9536124994,
                          0.1311653028
                        ],
                        "passed_time": 6.259141561,
                        "remaining_time": 45.04529747,
                        "test": [
                          0.9261669659,
                          0.199428564
                        ]
                      },
                      {
                        "iteration": 122,
                        "learn": [
                          0.9535154544,
                          0.1308426277
                        ],
                        "passed_time": 6.307767337,
                        "remaining_time": 44.97489394,
                        "test": [
                          0.9263913824,
                          0.1993991036
                        ]
                      },
                      {
                        "iteration": 123,
                        "learn": [
                          0.9540006793,
                          0.1304257567
                        ],
                        "passed_time": 6.360835974,
                        "remaining_time": 44.93622833,
                        "test": [
                          0.9259425494,
                          0.1993175179
                        ]
                      },
                      {
                        "iteration": 124,
                        "learn": [
                          0.9546799942,
                          0.1298253498
                        ],
                        "passed_time": 6.410753375,
                        "remaining_time": 44.87527362,
                        "test": [
                          0.9259425494,
                          0.1991577472
                        ]
                      },
                      {
                        "iteration": 125,
                        "learn": [
                          0.9543888592,
                          0.1295574066
                        ],
                        "passed_time": 6.458862084,
                        "remaining_time": 44.80194811,
                        "test": [
                          0.9263913824,
                          0.1991111402
                        ]
                      },
                      {
                        "iteration": 126,
                        "learn": [
                          0.9546314717,
                          0.1291902144
                        ],
                        "passed_time": 6.508430858,
                        "remaining_time": 44.73905622,
                        "test": [
                          0.9261669659,
                          0.1990444465
                        ]
                      },
                      {
                        "iteration": 127,
                        "learn": [
                          0.9546799942,
                          0.1289087459
                        ],
                        "passed_time": 6.556639043,
                        "remaining_time": 44.66710348,
                        "test": [
                          0.9263913824,
                          0.1989759556
                        ]
                      },
                      {
                        "iteration": 128,
                        "learn": [
                          0.9548255616,
                          0.1288000181
                        ],
                        "passed_time": 6.599007022,
                        "remaining_time": 44.55608617,
                        "test": [
                          0.9261669659,
                          0.1988296517
                        ]
                      },
                      {
                        "iteration": 129,
                        "learn": [
                          0.9547285167,
                          0.1284776133
                        ],
                        "passed_time": 6.643296746,
                        "remaining_time": 44.45898591,
                        "test": [
                          0.9259425494,
                          0.1988787069
                        ]
                      },
                      {
                        "iteration": 130,
                        "learn": [
                          0.9548740841,
                          0.1280191556
                        ],
                        "passed_time": 6.695880792,
                        "remaining_time": 44.41771304,
                        "test": [
                          0.9250448833,
                          0.1990402805
                        ]
                      },
                      {
                        "iteration": 131,
                        "learn": [
                          0.9550681741,
                          0.1277958283
                        ],
                        "passed_time": 6.750950986,
                        "remaining_time": 44.39261709,
                        "test": [
                          0.9252692998,
                          0.1990335787
                        ]
                      },
                      {
                        "iteration": 132,
                        "learn": [
                          0.9552622641,
                          0.1275646676
                        ],
                        "passed_time": 6.808080438,
                        "remaining_time": 44.38049428,
                        "test": [
                          0.9252692998,
                          0.1991942221
                        ]
                      },
                      {
                        "iteration": 133,
                        "learn": [
                          0.9551652191,
                          0.1274271517
                        ],
                        "passed_time": 6.851923524,
                        "remaining_time": 44.28183412,
                        "test": [
                          0.9252692998,
                          0.1990611005
                        ]
                      },
                      {
                        "iteration": 134,
                        "learn": [
                          0.9550196516,
                          0.1270836263
                        ],
                        "passed_time": 6.918511939,
                        "remaining_time": 44.32972465,
                        "test": [
                          0.9250448833,
                          0.1991623525
                        ]
                      },
                      {
                        "iteration": 135,
                        "learn": [
                          0.9552137416,
                          0.1268191754
                        ],
                        "passed_time": 6.971667123,
                        "remaining_time": 44.29059113,
                        "test": [
                          0.9245960503,
                          0.1991278966
                        ]
                      },
                      {
                        "iteration": 136,
                        "learn": [
                          0.9552137416,
                          0.1266176352
                        ],
                        "passed_time": 7.016389973,
                        "remaining_time": 44.19813537,
                        "test": [
                          0.9248204668,
                          0.1991126249
                        ]
                      },
                      {
                        "iteration": 137,
                        "learn": [
                          0.955456354,
                          0.1264190927
                        ],
                        "passed_time": 7.059193615,
                        "remaining_time": 44.0943833,
                        "test": [
                          0.9248204668,
                          0.1990615542
                        ]
                      },
                      {
                        "iteration": 138,
                        "learn": [
                          0.955747489,
                          0.1262298939
                        ],
                        "passed_time": 7.106124542,
                        "remaining_time": 44.0170736,
                        "test": [
                          0.9248204668,
                          0.198894542
                        ]
                      },
                      {
                        "iteration": 139,
                        "learn": [
                          0.9560871464,
                          0.1257517518
                        ],
                        "passed_time": 7.157278355,
                        "remaining_time": 43.96613847,
                        "test": [
                          0.9245960503,
                          0.198404017
                        ]
                      },
                      {
                        "iteration": 140,
                        "learn": [
                          0.9561356689,
                          0.1255812839
                        ],
                        "passed_time": 7.208426393,
                        "remaining_time": 43.91516505,
                        "test": [
                          0.9252692998,
                          0.198275746
                        ]
                      },
                      {
                        "iteration": 141,
                        "learn": [
                          0.9564268038,
                          0.1252981383
                        ],
                        "passed_time": 7.260286963,
                        "remaining_time": 43.86849446,
                        "test": [
                          0.9250448833,
                          0.1982431459
                        ]
                      },
                      {
                        "iteration": 142,
                        "learn": [
                          0.9565723713,
                          0.1251800415
                        ],
                        "passed_time": 7.313244056,
                        "remaining_time": 43.82832277,
                        "test": [
                          0.9252692998,
                          0.1981530193
                        ]
                      },
                      {
                        "iteration": 143,
                        "learn": [
                          0.9567179388,
                          0.1246313874
                        ],
                        "passed_time": 7.363510255,
                        "remaining_time": 43.77197763,
                        "test": [
                          0.9257181329,
                          0.1977021288
                        ]
                      },
                      {
                        "iteration": 144,
                        "learn": [
                          0.9566694163,
                          0.1241905608
                        ],
                        "passed_time": 7.416909901,
                        "remaining_time": 43.73419286,
                        "test": [
                          0.9259425494,
                          0.1973153671
                        ]
                      },
                      {
                        "iteration": 145,
                        "learn": [
                          0.9567179388,
                          0.1239697216
                        ],
                        "passed_time": 7.463935026,
                        "remaining_time": 43.65890762,
                        "test": [
                          0.9263913824,
                          0.1972514456
                        ]
                      },
                      {
                        "iteration": 146,
                        "learn": [
                          0.9569605512,
                          0.1237548552
                        ],
                        "passed_time": 7.511042758,
                        "remaining_time": 43.58448621,
                        "test": [
                          0.9266157989,
                          0.1975101527
                        ]
                      },
                      {
                        "iteration": 147,
                        "learn": [
                          0.9573487311,
                          0.1233496677
                        ],
                        "passed_time": 7.56020423,
                        "remaining_time": 43.52225678,
                        "test": [
                          0.9263913824,
                          0.1973619168
                        ]
                      },
                      {
                        "iteration": 148,
                        "learn": [
                          0.9573487311,
                          0.1232164761
                        ],
                        "passed_time": 7.613468195,
                        "remaining_time": 43.48363378,
                        "test": [
                          0.9266157989,
                          0.1973160292
                        ]
                      },
                      {
                        "iteration": 149,
                        "learn": [
                          0.9573972536,
                          0.1229862407
                        ],
                        "passed_time": 7.661695532,
                        "remaining_time": 43.41627468,
                        "test": [
                          0.9259425494,
                          0.1973850629
                        ]
                      },
                      {
                        "iteration": 150,
                        "learn": [
                          0.9573972536,
                          0.1226534422
                        ],
                        "passed_time": 7.70896191,
                        "remaining_time": 43.34376597,
                        "test": [
                          0.9263913824,
                          0.1971051273
                        ]
                      },
                      {
                        "iteration": 151,
                        "learn": [
                          0.9574942986,
                          0.1224823254
                        ],
                        "passed_time": 7.757953039,
                        "remaining_time": 43.28121169,
                        "test": [
                          0.9263913824,
                          0.1968926543
                        ]
                      },
                      {
                        "iteration": 152,
                        "learn": [
                          0.9574457761,
                          0.1222483937
                        ],
                        "passed_time": 7.819705161,
                        "remaining_time": 43.2894789,
                        "test": [
                          0.9266157989,
                          0.196732993
                        ]
                      },
                      {
                        "iteration": 153,
                        "learn": [
                          0.9577854335,
                          0.1216845897
                        ],
                        "passed_time": 7.872866441,
                        "remaining_time": 43.24964291,
                        "test": [
                          0.927064632,
                          0.1961888317
                        ]
                      },
                      {
                        "iteration": 154,
                        "learn": [
                          0.9579795235,
                          0.1214615263
                        ],
                        "passed_time": 7.943063343,
                        "remaining_time": 43.30250661,
                        "test": [
                          0.9266157989,
                          0.1960278157
                        ]
                      },
                      {
                        "iteration": 155,
                        "learn": [
                          0.958125091,
                          0.1212970283
                        ],
                        "passed_time": 7.9925675,
                        "remaining_time": 43.24183955,
                        "test": [
                          0.9266157989,
                          0.1960347025
                        ]
                      },
                      {
                        "iteration": 156,
                        "learn": [
                          0.958222136,
                          0.1210280182
                        ],
                        "passed_time": 8.039449164,
                        "remaining_time": 43.16723341,
                        "test": [
                          0.927064632,
                          0.1959016992
                        ]
                      },
                      {
                        "iteration": 157,
                        "learn": [
                          0.9584162259,
                          0.120854221
                        ],
                        "passed_time": 8.088170962,
                        "remaining_time": 43.1027845,
                        "test": [
                          0.9268402154,
                          0.1958666221
                        ]
                      },
                      {
                        "iteration": 158,
                        "learn": [
                          0.9585132709,
                          0.120532341
                        ],
                        "passed_time": 8.135928557,
                        "remaining_time": 43.03343344,
                        "test": [
                          0.9268402154,
                          0.195827534
                        ]
                      },
                      {
                        "iteration": 159,
                        "learn": [
                          0.9585617934,
                          0.1202259219
                        ],
                        "passed_time": 8.183715103,
                        "remaining_time": 42.96450429,
                        "test": [
                          0.9268402154,
                          0.1956802246
                        ]
                      },
                      {
                        "iteration": 160,
                        "learn": [
                          0.9586588384,
                          0.1199436184
                        ],
                        "passed_time": 8.233064359,
                        "remaining_time": 42.90398135,
                        "test": [
                          0.9272890485,
                          0.1956640209
                        ]
                      },
                      {
                        "iteration": 161,
                        "learn": [
                          0.9588529283,
                          0.1197495179
                        ],
                        "passed_time": 8.280365555,
                        "remaining_time": 42.83300207,
                        "test": [
                          0.9272890485,
                          0.19555878
                        ]
                      },
                      {
                        "iteration": 162,
                        "learn": [
                          0.9589014508,
                          0.1196230085
                        ],
                        "passed_time": 8.330730318,
                        "remaining_time": 42.77804464,
                        "test": [
                          0.9272890485,
                          0.1955919492
                        ]
                      },
                      {
                        "iteration": 163,
                        "learn": [
                          0.9586588384,
                          0.119453515
                        ],
                        "passed_time": 8.374869393,
                        "remaining_time": 42.69140739,
                        "test": [
                          0.9268402154,
                          0.195710651
                        ]
                      },
                      {
                        "iteration": 164,
                        "learn": [
                          0.9588529283,
                          0.1192463214
                        ],
                        "passed_time": 8.423146487,
                        "remaining_time": 42.62622616,
                        "test": [
                          0.9266157989,
                          0.1957812946
                        ]
                      },
                      {
                        "iteration": 165,
                        "learn": [
                          0.9586588384,
                          0.1190522086
                        ],
                        "passed_time": 8.474663571,
                        "remaining_time": 42.57752662,
                        "test": [
                          0.9266157989,
                          0.1957200898
                        ]
                      },
                      {
                        "iteration": 166,
                        "learn": [
                          0.9589499733,
                          0.1186696946
                        ],
                        "passed_time": 8.519298833,
                        "remaining_time": 42.49446663,
                        "test": [
                          0.9266157989,
                          0.1955744748
                        ]
                      },
                      {
                        "iteration": 167,
                        "learn": [
                          0.9595807657,
                          0.1182732381
                        ],
                        "passed_time": 8.567460253,
                        "remaining_time": 42.42932697,
                        "test": [
                          0.9268402154,
                          0.1953645684
                        ]
                      },
                      {
                        "iteration": 168,
                        "learn": [
                          0.9597748556,
                          0.11792513
                        ],
                        "passed_time": 8.623641533,
                        "remaining_time": 42.40382316,
                        "test": [
                          0.9268402154,
                          0.1954114159
                        ]
                      },
                      {
                        "iteration": 169,
                        "learn": [
                          0.9595322432,
                          0.1175814942
                        ],
                        "passed_time": 8.672224811,
                        "remaining_time": 42.34086231,
                        "test": [
                          0.927064632,
                          0.1956284324
                        ]
                      },
                      {
                        "iteration": 170,
                        "learn": [
                          0.9601145131,
                          0.1173059793
                        ],
                        "passed_time": 8.719587495,
                        "remaining_time": 42.27215224,
                        "test": [
                          0.9266157989,
                          0.1956011152
                        ]
                      },
                      {
                        "iteration": 171,
                        "learn": [
                          0.9600174681,
                          0.1171240327
                        ],
                        "passed_time": 8.764882322,
                        "remaining_time": 42.19373583,
                        "test": [
                          0.9266157989,
                          0.1955034562
                        ]
                      },
                      {
                        "iteration": 172,
                        "learn": [
                          0.9599204231,
                          0.1168659529
                        ],
                        "passed_time": 8.823844908,
                        "remaining_time": 42.18103895,
                        "test": [
                          0.9259425494,
                          0.1955532154
                        ]
                      },
                      {
                        "iteration": 173,
                        "learn": [
                          0.9600174681,
                          0.1166362814
                        ],
                        "passed_time": 8.87632827,
                        "remaining_time": 42.13705259,
                        "test": [
                          0.9259425494,
                          0.1956285698
                        ]
                      },
                      {
                        "iteration": 174,
                        "learn": [
                          0.9600659906,
                          0.1164818787
                        ],
                        "passed_time": 8.940259605,
                        "remaining_time": 42.14693814,
                        "test": [
                          0.9261669659,
                          0.1956252563
                        ]
                      },
                      {
                        "iteration": 175,
                        "learn": [
                          0.9599204231,
                          0.1163524211
                        ],
                        "passed_time": 8.994662762,
                        "remaining_time": 42.11137566,
                        "test": [
                          0.9263913824,
                          0.1955821282
                        ]
                      },
                      {
                        "iteration": 176,
                        "learn": [
                          0.9599689456,
                          0.116270651
                        ],
                        "passed_time": 9.041238704,
                        "remaining_time": 42.03920595,
                        "test": [
                          0.9263913824,
                          0.1955238694
                        ]
                      },
                      {
                        "iteration": 177,
                        "learn": [
                          0.9598233781,
                          0.1161422612
                        ],
                        "passed_time": 9.089064908,
                        "remaining_time": 41.9730975,
                        "test": [
                          0.9266157989,
                          0.1956063104
                        ]
                      },
                      {
                        "iteration": 178,
                        "learn": [
                          0.9600174681,
                          0.1159784191
                        ],
                        "passed_time": 9.135797146,
                        "remaining_time": 41.90217574,
                        "test": [
                          0.9263913824,
                          0.1955970223
                        ]
                      },
                      {
                        "iteration": 179,
                        "learn": [
                          0.9600174681,
                          0.1157215105
                        ],
                        "passed_time": 9.182528673,
                        "remaining_time": 41.83151951,
                        "test": [
                          0.9263913824,
                          0.1955493823
                        ]
                      },
                      {
                        "iteration": 180,
                        "learn": [
                          0.9602115581,
                          0.1154704574
                        ],
                        "passed_time": 9.234778911,
                        "remaining_time": 41.78609905,
                        "test": [
                          0.9263913824,
                          0.1955705818
                        ]
                      },
                      {
                        "iteration": 181,
                        "learn": [
                          0.9603571255,
                          0.1152717215
                        ],
                        "passed_time": 9.279285078,
                        "remaining_time": 41.70579777,
                        "test": [
                          0.9261669659,
                          0.1956463048
                        ]
                      },
                      {
                        "iteration": 182,
                        "learn": [
                          0.9603571255,
                          0.1151118162
                        ],
                        "passed_time": 9.33002406,
                        "remaining_time": 41.65371397,
                        "test": [
                          0.9261669659,
                          0.1957663976
                        ]
                      },
                      {
                        "iteration": 183,
                        "learn": [
                          0.9605512155,
                          0.1148977239
                        ],
                        "passed_time": 9.37795632,
                        "remaining_time": 41.58919759,
                        "test": [
                          0.9261669659,
                          0.1957984497
                        ]
                      },
                      {
                        "iteration": 184,
                        "learn": [
                          0.9607453054,
                          0.1145593023
                        ],
                        "passed_time": 9.431750793,
                        "remaining_time": 41.55068593,
                        "test": [
                          0.9268402154,
                          0.1954154341
                        ]
                      },
                      {
                        "iteration": 185,
                        "learn": [
                          0.9608423504,
                          0.1142291308
                        ],
                        "passed_time": 9.485939473,
                        "remaining_time": 41.51373511,
                        "test": [
                          0.9268402154,
                          0.1953054521
                        ]
                      },
                      {
                        "iteration": 186,
                        "learn": [
                          0.9609393954,
                          0.1141333869
                        ],
                        "passed_time": 9.535828876,
                        "remaining_time": 41.45790843,
                        "test": [
                          0.9268402154,
                          0.1953999712
                        ]
                      },
                      {
                        "iteration": 187,
                        "learn": [
                          0.9610364404,
                          0.1137507288
                        ],
                        "passed_time": 9.585191741,
                        "remaining_time": 41.39987071,
                        "test": [
                          0.927513465,
                          0.1953283513
                        ]
                      },
                      {
                        "iteration": 188,
                        "learn": [
                          0.9610364404,
                          0.1136238473
                        ],
                        "passed_time": 9.6318856,
                        "remaining_time": 41.33047207,
                        "test": [
                          0.9272890485,
                          0.1952862392
                        ]
                      },
                      {
                        "iteration": 189,
                        "learn": [
                          0.9612305304,
                          0.113497744
                        ],
                        "passed_time": 9.681221963,
                        "remaining_time": 41.27257784,
                        "test": [
                          0.9272890485,
                          0.1955295422
                        ]
                      },
                      {
                        "iteration": 190,
                        "learn": [
                          0.9612790528,
                          0.113258344
                        ],
                        "passed_time": 9.729491946,
                        "remaining_time": 41.21025646,
                        "test": [
                          0.927064632,
                          0.1953864239
                        ]
                      },
                      {
                        "iteration": 191,
                        "learn": [
                          0.9613760978,
                          0.1131154372
                        ],
                        "passed_time": 9.774271597,
                        "remaining_time": 41.13339297,
                        "test": [
                          0.9272890485,
                          0.1953026528
                        ]
                      },
                      {
                        "iteration": 192,
                        "learn": [
                          0.9613760978,
                          0.1129940747
                        ],
                        "passed_time": 9.819514972,
                        "remaining_time": 41.05880095,
                        "test": [
                          0.9272890485,
                          0.1952097338
                        ]
                      },
                      {
                        "iteration": 193,
                        "learn": [
                          0.9614731428,
                          0.1126296264
                        ],
                        "passed_time": 9.879690335,
                        "remaining_time": 41.04654851,
                        "test": [
                          0.927513465,
                          0.1950570735
                        ]
                      },
                      {
                        "iteration": 194,
                        "learn": [
                          0.9616187103,
                          0.1123896913
                        ],
                        "passed_time": 9.927718166,
                        "remaining_time": 40.98365704,
                        "test": [
                          0.927513465,
                          0.1949887673
                        ]
                      },
                      {
                        "iteration": 195,
                        "learn": [
                          0.9619583677,
                          0.1121581957
                        ],
                        "passed_time": 10.00934606,
                        "remaining_time": 41.05874606,
                        "test": [
                          0.9272890485,
                          0.1948840513
                        ]
                      },
                      {
                        "iteration": 196,
                        "learn": [
                          0.9620068902,
                          0.112047353
                        ],
                        "passed_time": 10.05756787,
                        "remaining_time": 40.99607615,
                        "test": [
                          0.9272890485,
                          0.1948759464
                        ]
                      },
                      {
                        "iteration": 197,
                        "learn": [
                          0.9618613227,
                          0.1119061518
                        ],
                        "passed_time": 10.10491954,
                        "remaining_time": 40.93002763,
                        "test": [
                          0.9268402154,
                          0.1948593919
                        ]
                      },
                      {
                        "iteration": 198,
                        "learn": [
                          0.9618613227,
                          0.1117479564
                        ],
                        "passed_time": 10.154069,
                        "remaining_time": 40.87140335,
                        "test": [
                          0.9272890485,
                          0.194789038
                        ]
                      },
                      {
                        "iteration": 199,
                        "learn": [
                          0.9617642777,
                          0.1114590875
                        ],
                        "passed_time": 10.20145679,
                        "remaining_time": 40.80582716,
                        "test": [
                          0.9266157989,
                          0.1948784954
                        ]
                      },
                      {
                        "iteration": 200,
                        "learn": [
                          0.9620068902,
                          0.1113649789
                        ],
                        "passed_time": 10.24691062,
                        "remaining_time": 40.73274421,
                        "test": [
                          0.9268402154,
                          0.1949270772
                        ]
                      },
                      {
                        "iteration": 201,
                        "learn": [
                          0.9621524577,
                          0.1112746261
                        ],
                        "passed_time": 10.30167398,
                        "remaining_time": 40.69671207,
                        "test": [
                          0.9268402154,
                          0.1948504452
                        ]
                      },
                      {
                        "iteration": 202,
                        "learn": [
                          0.9618613227,
                          0.110977444
                        ],
                        "passed_time": 10.35316426,
                        "remaining_time": 40.64764489,
                        "test": [
                          0.9272890485,
                          0.1947225439
                        ]
                      },
                      {
                        "iteration": 203,
                        "learn": [
                          0.9623465476,
                          0.110743852
                        ],
                        "passed_time": 10.40040055,
                        "remaining_time": 40.58195509,
                        "test": [
                          0.9268402154,
                          0.1947089864
                        ]
                      },
                      {
                        "iteration": 204,
                        "learn": [
                          0.9623950701,
                          0.1106556416
                        ],
                        "passed_time": 10.44817488,
                        "remaining_time": 40.51853183,
                        "test": [
                          0.927064632,
                          0.1946398119
                        ]
                      },
                      {
                        "iteration": 205,
                        "learn": [
                          0.9624435926,
                          0.110503982
                        ],
                        "passed_time": 10.50138101,
                        "remaining_time": 40.47619673,
                        "test": [
                          0.927064632,
                          0.1945761772
                        ]
                      },
                      {
                        "iteration": 206,
                        "learn": [
                          0.9625406376,
                          0.1102399444
                        ],
                        "passed_time": 10.5565221,
                        "remaining_time": 40.44116921,
                        "test": [
                          0.927064632,
                          0.1943754523
                        ]
                      },
                      {
                        "iteration": 207,
                        "learn": [
                          0.9626862051,
                          0.1098089588
                        ],
                        "passed_time": 10.61802168,
                        "remaining_time": 40.43015949,
                        "test": [
                          0.9268402154,
                          0.1942902884
                        ]
                      },
                      {
                        "iteration": 208,
                        "learn": [
                          0.9626376826,
                          0.1097177099
                        ],
                        "passed_time": 10.66274558,
                        "remaining_time": 40.35517584,
                        "test": [
                          0.927064632,
                          0.194260664
                        ]
                      },
                      {
                        "iteration": 209,
                        "learn": [
                          0.9626376826,
                          0.1095401622
                        ],
                        "passed_time": 10.70894242,
                        "remaining_time": 40.28602147,
                        "test": [
                          0.9272890485,
                          0.1944306452
                        ]
                      },
                      {
                        "iteration": 210,
                        "learn": [
                          0.9626376826,
                          0.1094096033
                        ],
                        "passed_time": 10.75510537,
                        "remaining_time": 40.21695799,
                        "test": [
                          0.927064632,
                          0.1945159754
                        ]
                      },
                      {
                        "iteration": 211,
                        "learn": [
                          0.96317143,
                          0.1091720121
                        ],
                        "passed_time": 10.80277664,
                        "remaining_time": 40.15371695,
                        "test": [
                          0.9266157989,
                          0.1945230425
                        ]
                      },
                      {
                        "iteration": 212,
                        "learn": [
                          0.9633655199,
                          0.1089144372
                        ],
                        "passed_time": 10.85485749,
                        "remaining_time": 40.10691476,
                        "test": [
                          0.9268402154,
                          0.1946092541
                        ]
                      },
                      {
                        "iteration": 213,
                        "learn": [
                          0.9633169974,
                          0.1088433052
                        ],
                        "passed_time": 10.90626153,
                        "remaining_time": 40.05757739,
                        "test": [
                          0.9266157989,
                          0.1945895644
                        ]
                      },
                      {
                        "iteration": 214,
                        "learn": [
                          0.9634625649,
                          0.1086589135
                        ],
                        "passed_time": 10.95460003,
                        "remaining_time": 39.99702803,
                        "test": [
                          0.9268402154,
                          0.1945262144
                        ]
                      },
                      {
                        "iteration": 215,
                        "learn": [
                          0.9636566549,
                          0.1085004
                        ],
                        "passed_time": 11.02474728,
                        "remaining_time": 40.01574938,
                        "test": [
                          0.9266157989,
                          0.1946302026
                        ]
                      },
                      {
                        "iteration": 216,
                        "learn": [
                          0.9636566549,
                          0.1084241822
                        ],
                        "passed_time": 11.07302085,
                        "remaining_time": 39.95472499,
                        "test": [
                          0.9266157989,
                          0.1945878674
                        ]
                      },
                      {
                        "iteration": 217,
                        "learn": [
                          0.9636566549,
                          0.1083643901
                        ],
                        "passed_time": 11.12242318,
                        "remaining_time": 39.89786665,
                        "test": [
                          0.9266157989,
                          0.1945617344
                        ]
                      },
                      {
                        "iteration": 218,
                        "learn": [
                          0.9638992673,
                          0.1081551711
                        ],
                        "passed_time": 11.16952414,
                        "remaining_time": 39.83286918,
                        "test": [
                          0.9266157989,
                          0.1944511499
                        ]
                      },
                      {
                        "iteration": 219,
                        "learn": [
                          0.9638507448,
                          0.1079776586
                        ],
                        "passed_time": 11.2141789,
                        "remaining_time": 39.75936157,
                        "test": [
                          0.9266157989,
                          0.194451667
                        ]
                      },
                      {
                        "iteration": 220,
                        "learn": [
                          0.9639963123,
                          0.1077690894
                        ],
                        "passed_time": 11.26365217,
                        "remaining_time": 39.70309973,
                        "test": [
                          0.9266157989,
                          0.1943600874
                        ]
                      },
                      {
                        "iteration": 221,
                        "learn": [
                          0.9638992673,
                          0.1077227903
                        ],
                        "passed_time": 11.31205373,
                        "remaining_time": 39.64314326,
                        "test": [
                          0.9268402154,
                          0.1943464044
                        ]
                      },
                      {
                        "iteration": 222,
                        "learn": [
                          0.9637051773,
                          0.1076213773
                        ],
                        "passed_time": 11.3580251,
                        "remaining_time": 39.57482287,
                        "test": [
                          0.9268402154,
                          0.1944153784
                        ]
                      },
                      {
                        "iteration": 223,
                        "learn": [
                          0.9639477898,
                          0.1074930492
                        ],
                        "passed_time": 11.40201983,
                        "remaining_time": 39.49985441,
                        "test": [
                          0.9268402154,
                          0.1945373437
                        ]
                      },
                      {
                        "iteration": 224,
                        "learn": [
                          0.9642874472,
                          0.1072484945
                        ],
                        "passed_time": 11.45146813,
                        "remaining_time": 39.44394577,
                        "test": [
                          0.927064632,
                          0.1945428898
                        ]
                      },
                      {
                        "iteration": 225,
                        "learn": [
                          0.9644330147,
                          0.1071053513
                        ],
                        "passed_time": 11.50041183,
                        "remaining_time": 39.38636618,
                        "test": [
                          0.927064632,
                          0.1945257587
                        ]
                      },
                      {
                        "iteration": 226,
                        "learn": [
                          0.9645785822,
                          0.1068896318
                        ],
                        "passed_time": 11.54727879,
                        "remaining_time": 39.32179076,
                        "test": [
                          0.9268402154,
                          0.1944956698
                        ]
                      },
                      {
                        "iteration": 227,
                        "learn": [
                          0.9645300597,
                          0.1067507717
                        ],
                        "passed_time": 11.59128396,
                        "remaining_time": 39.24768078,
                        "test": [
                          0.927064632,
                          0.1945516108
                        ]
                      },
                      {
                        "iteration": 228,
                        "learn": [
                          0.9647726721,
                          0.1065242686
                        ],
                        "passed_time": 11.63714119,
                        "remaining_time": 39.18006926,
                        "test": [
                          0.927064632,
                          0.1946185644
                        ]
                      },
                      {
                        "iteration": 229,
                        "learn": [
                          0.9647726721,
                          0.1062944074
                        ],
                        "passed_time": 11.6873631,
                        "remaining_time": 39.12725907,
                        "test": [
                          0.927064632,
                          0.1946429161
                        ]
                      },
                      {
                        "iteration": 230,
                        "learn": [
                          0.9649667621,
                          0.1061330406
                        ],
                        "passed_time": 11.73777304,
                        "remaining_time": 39.07509725,
                        "test": [
                          0.9268402154,
                          0.1945424176
                        ]
                      },
                      {
                        "iteration": 231,
                        "learn": [
                          0.9648211946,
                          0.1059099338
                        ],
                        "passed_time": 11.79285854,
                        "remaining_time": 39.03842827,
                        "test": [
                          0.927064632,
                          0.1944871414
                        ]
                      },
                      {
                        "iteration": 232,
                        "learn": [
                          0.9648211946,
                          0.1056833869
                        ],
                        "passed_time": 11.83798835,
                        "remaining_time": 38.96882862,
                        "test": [
                          0.9272890485,
                          0.1945405115
                        ]
                      },
                      {
                        "iteration": 233,
                        "learn": [
                          0.9649182396,
                          0.1055268085
                        ],
                        "passed_time": 11.89658615,
                        "remaining_time": 38.94352561,
                        "test": [
                          0.927962298,
                          0.1945534975
                        ]
                      },
                      {
                        "iteration": 234,
                        "learn": [
                          0.965451987,
                          0.1052380316
                        ],
                        "passed_time": 11.94349794,
                        "remaining_time": 38.87989755,
                        "test": [
                          0.927962298,
                          0.1943107913
                        ]
                      },
                      {
                        "iteration": 235,
                        "learn": [
                          0.965451987,
                          0.1050187378
                        ],
                        "passed_time": 12.00936549,
                        "remaining_time": 38.87777641,
                        "test": [
                          0.9284111311,
                          0.1944010098
                        ]
                      },
                      {
                        "iteration": 236,
                        "learn": [
                          0.9653064195,
                          0.1048230292
                        ],
                        "passed_time": 12.07564432,
                        "remaining_time": 38.87644142,
                        "test": [
                          0.927962298,
                          0.1945711186
                        ]
                      },
                      {
                        "iteration": 237,
                        "learn": [
                          0.9655005095,
                          0.1045226432
                        ],
                        "passed_time": 12.12769495,
                        "remaining_time": 38.82900651,
                        "test": [
                          0.927962298,
                          0.194515912
                        ]
                      },
                      {
                        "iteration": 238,
                        "learn": [
                          0.965257897,
                          0.1043382104
                        ],
                        "passed_time": 12.17308269,
                        "remaining_time": 38.7603177,
                        "test": [
                          0.927513465,
                          0.1946596422
                        ]
                      },
                      {
                        "iteration": 239,
                        "learn": [
                          0.9654034645,
                          0.1042592091
                        ],
                        "passed_time": 12.2218909,
                        "remaining_time": 38.70265451,
                        "test": [
                          0.927513465,
                          0.1945416356
                        ]
                      },
                      {
                        "iteration": 240,
                        "learn": [
                          0.965451987,
                          0.1040455607
                        ],
                        "passed_time": 12.26697103,
                        "remaining_time": 38.6333237,
                        "test": [
                          0.927962298,
                          0.1944974916
                        ]
                      },
                      {
                        "iteration": 241,
                        "learn": [
                          0.9658401669,
                          0.1037356932
                        ],
                        "passed_time": 12.32391548,
                        "remaining_time": 38.60135509,
                        "test": [
                          0.9277378815,
                          0.1945209111
                        ]
                      },
                      {
                        "iteration": 242,
                        "learn": [
                          0.9658886894,
                          0.1035579097
                        ],
                        "passed_time": 12.37810677,
                        "remaining_time": 38.56060422,
                        "test": [
                          0.927962298,
                          0.1944571332
                        ]
                      },
                      {
                        "iteration": 243,
                        "learn": [
                          0.9659372119,
                          0.1033716915
                        ],
                        "passed_time": 12.43302173,
                        "remaining_time": 38.52198535,
                        "test": [
                          0.9277378815,
                          0.1944689207
                        ]
                      },
                      {
                        "iteration": 244,
                        "learn": [
                          0.9659372119,
                          0.1031811002
                        ],
                        "passed_time": 12.48024548,
                        "remaining_time": 38.45953199,
                        "test": [
                          0.927962298,
                          0.1944637723
                        ]
                      },
                      {
                        "iteration": 245,
                        "learn": [
                          0.9658886894,
                          0.1029821349
                        ],
                        "passed_time": 12.5289265,
                        "remaining_time": 38.40166901,
                        "test": [
                          0.927513465,
                          0.1944745327
                        ]
                      },
                      {
                        "iteration": 246,
                        "learn": [
                          0.9660827794,
                          0.1028893361
                        ],
                        "passed_time": 12.5766762,
                        "remaining_time": 38.3410412,
                        "test": [
                          0.9277378815,
                          0.1944027147
                        ]
                      },
                      {
                        "iteration": 247,
                        "learn": [
                          0.9661798243,
                          0.1027801002
                        ],
                        "passed_time": 12.621285,
                        "remaining_time": 38.27099324,
                        "test": [
                          0.9277378815,
                          0.1942776433
                        ]
                      },
                      {
                        "iteration": 248,
                        "learn": [
                          0.9662768693,
                          0.1026360921
                        ],
                        "passed_time": 12.66627331,
                        "remaining_time": 38.20229421,
                        "test": [
                          0.9277378815,
                          0.1943639686
                        ]
                      },
                      {
                        "iteration": 249,
                        "learn": [
                          0.9667135717,
                          0.1023959053
                        ],
                        "passed_time": 12.7159985,
                        "remaining_time": 38.1479955,
                        "test": [
                          0.9281867145,
                          0.1942210132
                        ]
                      },
                      {
                        "iteration": 250,
                        "learn": [
                          0.9671502742,
                          0.1021547675
                        ],
                        "passed_time": 12.7660844,
                        "remaining_time": 38.09480963,
                        "test": [
                          0.9284111311,
                          0.19422965
                        ]
                      },
                      {
                        "iteration": 251,
                        "learn": [
                          0.9672958416,
                          0.1020293428
                        ],
                        "passed_time": 12.81070782,
                        "remaining_time": 38.02543433,
                        "test": [
                          0.9286355476,
                          0.1942442235
                        ]
                      },
                      {
                        "iteration": 252,
                        "learn": [
                          0.9672473191,
                          0.1018742742
                        ],
                        "passed_time": 12.85836129,
                        "remaining_time": 37.96520112,
                        "test": [
                          0.927962298,
                          0.1941372873
                        ]
                      },
                      {
                        "iteration": 253,
                        "learn": [
                          0.9673443641,
                          0.10170138
                        ],
                        "passed_time": 12.91657267,
                        "remaining_time": 37.93607565,
                        "test": [
                          0.9277378815,
                          0.1940831594
                        ]
                      },
                      {
                        "iteration": 254,
                        "learn": [
                          0.9673443641,
                          0.101550426
                        ],
                        "passed_time": 12.96619927,
                        "remaining_time": 37.88164099,
                        "test": [
                          0.9277378815,
                          0.194001096
                        ]
                      },
                      {
                        "iteration": 255,
                        "learn": [
                          0.9672958416,
                          0.1014735757
                        ],
                        "passed_time": 13.02909791,
                        "remaining_time": 37.86581581,
                        "test": [
                          0.927962298,
                          0.1940289956
                        ]
                      },
                      {
                        "iteration": 256,
                        "learn": [
                          0.9671987966,
                          0.1013035424
                        ],
                        "passed_time": 13.09165876,
                        "remaining_time": 37.8486477,
                        "test": [
                          0.927962298,
                          0.1939077519
                        ]
                      },
                      {
                        "iteration": 257,
                        "learn": [
                          0.9674414091,
                          0.1011624638
                        ],
                        "passed_time": 13.14086516,
                        "remaining_time": 37.79272074,
                        "test": [
                          0.927962298,
                          0.1938624523
                        ]
                      },
                      {
                        "iteration": 258,
                        "learn": [
                          0.9674899316,
                          0.1009413242
                        ],
                        "passed_time": 13.18536353,
                        "remaining_time": 37.72337596,
                        "test": [
                          0.9281867145,
                          0.193878035
                        ]
                      },
                      {
                        "iteration": 259,
                        "learn": [
                          0.9676354991,
                          0.1006733849
                        ],
                        "passed_time": 13.23655367,
                        "remaining_time": 37.67326813,
                        "test": [
                          0.9281867145,
                          0.1938388038
                        ]
                      },
                      {
                        "iteration": 260,
                        "learn": [
                          0.9678781115,
                          0.1005180438
                        ],
                        "passed_time": 13.28570345,
                        "remaining_time": 37.6173749,
                        "test": [
                          0.9281867145,
                          0.1938375945
                        ]
                      },
                      {
                        "iteration": 261,
                        "learn": [
                          0.967926634,
                          0.1002981937
                        ],
                        "passed_time": 13.33496005,
                        "remaining_time": 37.56183402,
                        "test": [
                          0.9277378815,
                          0.1937325021
                        ]
                      },
                      {
                        "iteration": 262,
                        "learn": [
                          0.9680722015,
                          0.1000307762
                        ],
                        "passed_time": 13.38558829,
                        "remaining_time": 37.51018468,
                        "test": [
                          0.9277378815,
                          0.1937758469
                        ]
                      },
                      {
                        "iteration": 263,
                        "learn": [
                          0.9680722015,
                          0.09991139204
                        ],
                        "passed_time": 13.43364213,
                        "remaining_time": 37.45136593,
                        "test": [
                          0.9277378815,
                          0.193760946
                        ]
                      },
                      {
                        "iteration": 264,
                        "learn": [
                          0.9678781115,
                          0.09981946315
                        ],
                        "passed_time": 13.48713684,
                        "remaining_time": 37.40771916,
                        "test": [
                          0.927962298,
                          0.1938140966
                        ]
                      },
                      {
                        "iteration": 265,
                        "learn": [
                          0.967829589,
                          0.09970096736
                        ],
                        "passed_time": 13.53850333,
                        "remaining_time": 37.35812572,
                        "test": [
                          0.9277378815,
                          0.1938331961
                        ]
                      },
                      {
                        "iteration": 266,
                        "learn": [
                          0.9679751565,
                          0.09955378879
                        ],
                        "passed_time": 13.58837795,
                        "remaining_time": 37.30442336,
                        "test": [
                          0.927962298,
                          0.193973857
                        ]
                      },
                      {
                        "iteration": 267,
                        "learn": [
                          0.9678781115,
                          0.09944980591
                        ],
                        "passed_time": 13.63697775,
                        "remaining_time": 37.24726758,
                        "test": [
                          0.9281867145,
                          0.1939687581
                        ]
                      },
                      {
                        "iteration": 268,
                        "learn": [
                          0.9678781115,
                          0.0993532
                        ],
                        "passed_time": 13.68520671,
                        "remaining_time": 37.18916767,
                        "test": [
                          0.9284111311,
                          0.1939522985
                        ]
                      },
                      {
                        "iteration": 269,
                        "learn": [
                          0.9679751565,
                          0.09920102939
                        ],
                        "passed_time": 13.73102356,
                        "remaining_time": 37.12461926,
                        "test": [
                          0.9284111311,
                          0.1939472543
                        ]
                      },
                      {
                        "iteration": 270,
                        "learn": [
                          0.967829589,
                          0.09892368692
                        ],
                        "passed_time": 13.7817014,
                        "remaining_time": 37.07328532,
                        "test": [
                          0.927962298,
                          0.193739908
                        ]
                      },
                      {
                        "iteration": 271,
                        "learn": [
                          0.9680722015,
                          0.09863510307
                        ],
                        "passed_time": 13.83634552,
                        "remaining_time": 37.03257184,
                        "test": [
                          0.9281867145,
                          0.1937179285
                        ]
                      },
                      {
                        "iteration": 272,
                        "learn": [
                          0.9680722015,
                          0.09852036163
                        ],
                        "passed_time": 13.8819952,
                        "remaining_time": 36.96780407,
                        "test": [
                          0.9281867145,
                          0.1938130747
                        ]
                      },
                      {
                        "iteration": 273,
                        "learn": [
                          0.968120724,
                          0.09831119261
                        ],
                        "passed_time": 13.94028577,
                        "remaining_time": 36.93666959,
                        "test": [
                          0.9288599641,
                          0.1938701859
                        ]
                      },
                      {
                        "iteration": 274,
                        "learn": [
                          0.968023679,
                          0.09817328318
                        ],
                        "passed_time": 13.99139679,
                        "remaining_time": 36.88640971,
                        "test": [
                          0.9288599641,
                          0.1939815197
                        ]
                      },
                      {
                        "iteration": 275,
                        "learn": [
                          0.9681692464,
                          0.09786760535
                        ],
                        "passed_time": 14.05332152,
                        "remaining_time": 36.86451007,
                        "test": [
                          0.9284111311,
                          0.1939283946
                        ]
                      },
                      {
                        "iteration": 276,
                        "learn": [
                          0.9682662914,
                          0.0977209182
                        ],
                        "passed_time": 14.11759291,
                        "remaining_time": 36.84844647,
                        "test": [
                          0.9284111311,
                          0.1937385851
                        ]
                      },
                      {
                        "iteration": 277,
                        "learn": [
                          0.9684118589,
                          0.09756442927
                        ],
                        "passed_time": 14.17083009,
                        "remaining_time": 36.80337886,
                        "test": [
                          0.9286355476,
                          0.1937823161
                        ]
                      },
                      {
                        "iteration": 278,
                        "learn": [
                          0.9684603814,
                          0.09735948414
                        ],
                        "passed_time": 14.23159765,
                        "remaining_time": 36.77771291,
                        "test": [
                          0.9284111311,
                          0.19375339
                        ]
                      },
                      {
                        "iteration": 279,
                        "learn": [
                          0.9684118589,
                          0.09718072143
                        ],
                        "passed_time": 14.28678922,
                        "remaining_time": 36.73745799,
                        "test": [
                          0.9286355476,
                          0.1937531881
                        ]
                      },
                      {
                        "iteration": 280,
                        "learn": [
                          0.9683633364,
                          0.09709450295
                        ],
                        "passed_time": 14.33703792,
                        "remaining_time": 36.68444935,
                        "test": [
                          0.9286355476,
                          0.1937745037
                        ]
                      },
                      {
                        "iteration": 281,
                        "learn": [
                          0.9686544713,
                          0.09687442376
                        ],
                        "passed_time": 14.39495182,
                        "remaining_time": 36.65097663,
                        "test": [
                          0.9290843806,
                          0.1938229244
                        ]
                      },
                      {
                        "iteration": 282,
                        "learn": [
                          0.9688000388,
                          0.09671404627
                        ],
                        "passed_time": 14.44189576,
                        "remaining_time": 36.58953802,
                        "test": [
                          0.9286355476,
                          0.1938315445
                        ]
                      },
                      {
                        "iteration": 283,
                        "learn": [
                          0.9689456063,
                          0.09647568393
                        ],
                        "passed_time": 14.49124185,
                        "remaining_time": 36.53425763,
                        "test": [
                          0.927962298,
                          0.1938093673
                        ]
                      },
                      {
                        "iteration": 284,
                        "learn": [
                          0.9689456063,
                          0.09624865516
                        ],
                        "passed_time": 14.54665828,
                        "remaining_time": 36.49424796,
                        "test": [
                          0.9277378815,
                          0.1939832215
                        ]
                      },
                      {
                        "iteration": 285,
                        "learn": [
                          0.9689941288,
                          0.09613559723
                        ],
                        "passed_time": 14.59484895,
                        "remaining_time": 36.43609143,
                        "test": [
                          0.9277378815,
                          0.1940924853
                        ]
                      },
                      {
                        "iteration": 286,
                        "learn": [
                          0.9692852637,
                          0.09586819774
                        ],
                        "passed_time": 14.64470699,
                        "remaining_time": 36.38214664,
                        "test": [
                          0.927513465,
                          0.1939729169
                        ]
                      },
                      {
                        "iteration": 287,
                        "learn": [
                          0.9692367412,
                          0.09577000438
                        ],
                        "passed_time": 14.69272806,
                        "remaining_time": 36.32368882,
                        "test": [
                          0.9277378815,
                          0.1939429115
                        ]
                      },
                      {
                        "iteration": 288,
                        "learn": [
                          0.9692367412,
                          0.09555685961
                        ],
                        "passed_time": 14.74545996,
                        "remaining_time": 36.27689285,
                        "test": [
                          0.9277378815,
                          0.1939417439
                        ]
                      },
                      {
                        "iteration": 289,
                        "learn": [
                          0.9693823087,
                          0.095473248
                        ],
                        "passed_time": 14.79255466,
                        "remaining_time": 36.21625451,
                        "test": [
                          0.9277378815,
                          0.1939326999
                        ]
                      },
                      {
                        "iteration": 290,
                        "learn": [
                          0.9695278762,
                          0.09517496755
                        ],
                        "passed_time": 14.84519637,
                        "remaining_time": 36.16922414,
                        "test": [
                          0.9272890485,
                          0.1939325998
                        ]
                      },
                      {
                        "iteration": 291,
                        "learn": [
                          0.9695278762,
                          0.09508040129
                        ],
                        "passed_time": 14.89556196,
                        "remaining_time": 36.11663653,
                        "test": [
                          0.9272890485,
                          0.1938966341
                        ]
                      },
                      {
                        "iteration": 292,
                        "learn": [
                          0.9693823087,
                          0.09487858691
                        ],
                        "passed_time": 14.95770206,
                        "remaining_time": 36.09247562,
                        "test": [
                          0.9272890485,
                          0.1939185223
                        ]
                      },
                      {
                        "iteration": 293,
                        "learn": [
                          0.9690911738,
                          0.09473008169
                        ],
                        "passed_time": 15.01194198,
                        "remaining_time": 36.04908516,
                        "test": [
                          0.9272890485,
                          0.1939174498
                        ]
                      },
                      {
                        "iteration": 294,
                        "learn": [
                          0.9694308312,
                          0.09453446298
                        ],
                        "passed_time": 15.06009776,
                        "remaining_time": 35.99108109,
                        "test": [
                          0.9277378815,
                          0.1939907869
                        ]
                      },
                      {
                        "iteration": 295,
                        "learn": [
                          0.9694308312,
                          0.09444240378
                        ],
                        "passed_time": 15.13892649,
                        "remaining_time": 36.00609544,
                        "test": [
                          0.927962298,
                          0.1940370891
                        ]
                      },
                      {
                        "iteration": 296,
                        "learn": [
                          0.9694793537,
                          0.09433100597
                        ],
                        "passed_time": 15.19194368,
                        "remaining_time": 35.95938184,
                        "test": [
                          0.9281867145,
                          0.1940634377
                        ]
                      },
                      {
                        "iteration": 297,
                        "learn": [
                          0.9695763987,
                          0.09417196303
                        ],
                        "passed_time": 15.2446122,
                        "remaining_time": 35.91180458,
                        "test": [
                          0.927962298,
                          0.1941916081
                        ]
                      },
                      {
                        "iteration": 298,
                        "learn": [
                          0.9695278762,
                          0.09394847337
                        ],
                        "passed_time": 15.29714015,
                        "remaining_time": 35.86386369,
                        "test": [
                          0.927962298,
                          0.1942020077
                        ]
                      },
                      {
                        "iteration": 299,
                        "learn": [
                          0.9695278762,
                          0.09356492502
                        ],
                        "passed_time": 15.34926266,
                        "remaining_time": 35.81494621,
                        "test": [
                          0.9281867145,
                          0.1937283133
                        ]
                      },
                      {
                        "iteration": 300,
                        "learn": [
                          0.9698190111,
                          0.09343268995
                        ],
                        "passed_time": 15.39802945,
                        "remaining_time": 35.75821457,
                        "test": [
                          0.9277378815,
                          0.1937117239
                        ]
                      },
                      {
                        "iteration": 301,
                        "learn": [
                          0.9697704886,
                          0.0932340704
                        ],
                        "passed_time": 15.44716765,
                        "remaining_time": 35.7023941,
                        "test": [
                          0.927962298,
                          0.1936858796
                        ]
                      },
                      {
                        "iteration": 302,
                        "learn": [
                          0.9699160561,
                          0.09311629433
                        ],
                        "passed_time": 15.4954946,
                        "remaining_time": 35.6447516,
                        "test": [
                          0.927962298,
                          0.1937209055
                        ]
                      },
                      {
                        "iteration": 303,
                        "learn": [
                          0.9700616236,
                          0.09306603419
                        ],
                        "passed_time": 15.54318261,
                        "remaining_time": 35.58570755,
                        "test": [
                          0.9281867145,
                          0.1936783413
                        ]
                      },
                      {
                        "iteration": 304,
                        "learn": [
                          0.970207191,
                          0.09294999799
                        ],
                        "passed_time": 15.58996279,
                        "remaining_time": 35.52466931,
                        "test": [
                          0.9281867145,
                          0.1935962046
                        ]
                      },
                      {
                        "iteration": 305,
                        "learn": [
                          0.970304236,
                          0.09266403405
                        ],
                        "passed_time": 15.6406277,
                        "remaining_time": 35.47253471,
                        "test": [
                          0.9286355476,
                          0.19351874
                        ]
                      },
                      {
                        "iteration": 306,
                        "learn": [
                          0.970401281,
                          0.09255381929
                        ],
                        "passed_time": 15.68690475,
                        "remaining_time": 35.41050485,
                        "test": [
                          0.9281867145,
                          0.1935304086
                        ]
                      },
                      {
                        "iteration": 307,
                        "learn": [
                          0.970498326,
                          0.09208004405
                        ],
                        "passed_time": 15.7405261,
                        "remaining_time": 35.36507811,
                        "test": [
                          0.9288599641,
                          0.1934064149
                        ]
                      },
                      {
                        "iteration": 308,
                        "learn": [
                          0.9704498035,
                          0.09198387645
                        ],
                        "passed_time": 15.78898192,
                        "remaining_time": 35.30804695,
                        "test": [
                          0.9286355476,
                          0.1934837139
                        ]
                      },
                      {
                        "iteration": 309,
                        "learn": [
                          0.970498326,
                          0.09190209349
                        ],
                        "passed_time": 15.8354157,
                        "remaining_time": 35.24657044,
                        "test": [
                          0.9286355476,
                          0.1934477998
                        ]
                      },
                      {
                        "iteration": 310,
                        "learn": [
                          0.9706924159,
                          0.09165589036
                        ],
                        "passed_time": 15.883641,
                        "remaining_time": 35.18915963,
                        "test": [
                          0.9284111311,
                          0.1933950014
                        ]
                      },
                      {
                        "iteration": 311,
                        "learn": [
                          0.9707409384,
                          0.09146671284
                        ],
                        "passed_time": 15.93024772,
                        "remaining_time": 35.12823856,
                        "test": [
                          0.9286355476,
                          0.1932001012
                        ]
                      },
                      {
                        "iteration": 312,
                        "learn": [
                          0.9707409384,
                          0.09120009055
                        ],
                        "passed_time": 15.98949304,
                        "remaining_time": 35.09514926,
                        "test": [
                          0.9284111311,
                          0.1932378791
                        ]
                      },
                      {
                        "iteration": 313,
                        "learn": [
                          0.9709835509,
                          0.09106430025
                        ],
                        "passed_time": 16.03843481,
                        "remaining_time": 35.03938307,
                        "test": [
                          0.9286355476,
                          0.1932113924
                        ]
                      },
                      {
                        "iteration": 314,
                        "learn": [
                          0.9710320734,
                          0.09094245682
                        ],
                        "passed_time": 16.08679405,
                        "remaining_time": 34.98239341,
                        "test": [
                          0.9290843806,
                          0.19328606
                        ]
                      },
                      {
                        "iteration": 315,
                        "learn": [
                          0.9709835509,
                          0.09071293332
                        ],
                        "passed_time": 16.16698192,
                        "remaining_time": 34.99435327,
                        "test": [
                          0.9284111311,
                          0.1931991833
                        ]
                      },
                      {
                        "iteration": 316,
                        "learn": [
                          0.9710320734,
                          0.09059372579
                        ],
                        "passed_time": 16.21712045,
                        "remaining_time": 34.94098823,
                        "test": [
                          0.9288599641,
                          0.1929837732
                        ]
                      },
                      {
                        "iteration": 317,
                        "learn": [
                          0.9713232083,
                          0.090486852
                        ],
                        "passed_time": 16.2687683,
                        "remaining_time": 34.89088043,
                        "test": [
                          0.9284111311,
                          0.1929919428
                        ]
                      },
                      {
                        "iteration": 318,
                        "learn": [
                          0.9715172983,
                          0.09031582804
                        ],
                        "passed_time": 16.31692821,
                        "remaining_time": 34.83331697,
                        "test": [
                          0.9286355476,
                          0.1929262493
                        ]
                      },
                      {
                        "iteration": 319,
                        "learn": [
                          0.9716143432,
                          0.09013619913
                        ],
                        "passed_time": 16.36682398,
                        "remaining_time": 34.77950096,
                        "test": [
                          0.9288599641,
                          0.192816285
                        ]
                      },
                      {
                        "iteration": 320,
                        "learn": [
                          0.9718084332,
                          0.08991977981
                        ],
                        "passed_time": 16.41462316,
                        "remaining_time": 34.72127454,
                        "test": [
                          0.9290843806,
                          0.1929779439
                        ]
                      },
                      {
                        "iteration": 321,
                        "learn": [
                          0.9719054782,
                          0.08981503885
                        ],
                        "passed_time": 16.46501929,
                        "remaining_time": 34.66858099,
                        "test": [
                          0.9290843806,
                          0.1930151967
                        ]
                      },
                      {
                        "iteration": 322,
                        "learn": [
                          0.9717599107,
                          0.08968375741
                        ],
                        "passed_time": 16.51638252,
                        "remaining_time": 34.61792869,
                        "test": [
                          0.9290843806,
                          0.1929613665
                        ]
                      },
                      {
                        "iteration": 323,
                        "learn": [
                          0.9716628657,
                          0.08956605944
                        ],
                        "passed_time": 16.56393474,
                        "remaining_time": 34.55932063,
                        "test": [
                          0.9290843806,
                          0.1930416822
                        ]
                      },
                      {
                        "iteration": 324,
                        "learn": [
                          0.9715658208,
                          0.08941956214
                        ],
                        "passed_time": 16.61385748,
                        "remaining_time": 34.50570399,
                        "test": [
                          0.9288599641,
                          0.1930120269
                        ]
                      },
                      {
                        "iteration": 325,
                        "learn": [
                          0.9715658208,
                          0.08934246396
                        ],
                        "passed_time": 16.66203312,
                        "remaining_time": 34.44849793,
                        "test": [
                          0.9288599641,
                          0.192978255
                        ]
                      },
                      {
                        "iteration": 326,
                        "learn": [
                          0.9715172983,
                          0.08923501689
                        ],
                        "passed_time": 16.70988856,
                        "remaining_time": 34.39068807,
                        "test": [
                          0.9288599641,
                          0.1929442662
                        ]
                      },
                      {
                        "iteration": 327,
                        "learn": [
                          0.9717113882,
                          0.08916205849
                        ],
                        "passed_time": 16.7532076,
                        "remaining_time": 34.32364485,
                        "test": [
                          0.9288599641,
                          0.1927966522
                        ]
                      },
                      {
                        "iteration": 328,
                        "learn": [
                          0.9717113882,
                          0.08905116025
                        ],
                        "passed_time": 16.8008947,
                        "remaining_time": 34.26565455,
                        "test": [
                          0.9288599641,
                          0.1928627608
                        ]
                      },
                      {
                        "iteration": 329,
                        "learn": [
                          0.9717599107,
                          0.08892295277
                        ],
                        "passed_time": 16.85145909,
                        "remaining_time": 34.21356846,
                        "test": [
                          0.9288599641,
                          0.1927417972
                        ]
                      },
                      {
                        "iteration": 330,
                        "learn": [
                          0.9720025232,
                          0.08868721932
                        ],
                        "passed_time": 16.90581366,
                        "remaining_time": 34.16915208,
                        "test": [
                          0.9293087971,
                          0.1928316383
                        ]
                      },
                      {
                        "iteration": 331,
                        "learn": [
                          0.9719054782,
                          0.08861627563
                        ],
                        "passed_time": 16.95184686,
                        "remaining_time": 34.10793284,
                        "test": [
                          0.9293087971,
                          0.1927902976
                        ]
                      },
                      {
                        "iteration": 332,
                        "learn": [
                          0.9720510457,
                          0.08851535914
                        ],
                        "passed_time": 17.01606834,
                        "remaining_time": 34.08323599,
                        "test": [
                          0.9293087971,
                          0.1927080367
                        ]
                      },
                      {
                        "iteration": 333,
                        "learn": [
                          0.9721480906,
                          0.0883345508
                        ],
                        "passed_time": 17.06712714,
                        "remaining_time": 34.03205591,
                        "test": [
                          0.9293087971,
                          0.192784729
                        ]
                      },
                      {
                        "iteration": 334,
                        "learn": [
                          0.9720995681,
                          0.08814893556
                        ],
                        "passed_time": 17.11516951,
                        "remaining_time": 33.97488874,
                        "test": [
                          0.9293087971,
                          0.192937034
                        ]
                      },
                      {
                        "iteration": 335,
                        "learn": [
                          0.9720025232,
                          0.08805614014
                        ],
                        "passed_time": 17.19734288,
                        "remaining_time": 33.98522521,
                        "test": [
                          0.9290843806,
                          0.1929721414
                        ]
                      },
                      {
                        "iteration": 336,
                        "learn": [
                          0.9719054782,
                          0.08795132517
                        ],
                        "passed_time": 17.24728192,
                        "remaining_time": 33.93159618,
                        "test": [
                          0.9290843806,
                          0.1929550301
                        ]
                      },
                      {
                        "iteration": 337,
                        "learn": [
                          0.9720025232,
                          0.08779326802
                        ],
                        "passed_time": 17.29755741,
                        "remaining_time": 33.87864794,
                        "test": [
                          0.9297576302,
                          0.1929174378
                        ]
                      },
                      {
                        "iteration": 338,
                        "learn": [
                          0.9721480906,
                          0.0877090362
                        ],
                        "passed_time": 17.34318758,
                        "remaining_time": 33.81665779,
                        "test": [
                          0.9293087971,
                          0.192878737
                        ]
                      },
                      {
                        "iteration": 339,
                        "learn": [
                          0.9721480906,
                          0.08747796223
                        ],
                        "passed_time": 17.39267675,
                        "remaining_time": 33.76225486,
                        "test": [
                          0.9295332136,
                          0.1930558171
                        ]
                      },
                      {
                        "iteration": 340,
                        "learn": [
                          0.9722936581,
                          0.08737801916
                        ],
                        "passed_time": 17.43989392,
                        "remaining_time": 33.70349001,
                        "test": [
                          0.9293087971,
                          0.1929626559
                        ]
                      },
                      {
                        "iteration": 341,
                        "learn": [
                          0.9724877481,
                          0.08728732427
                        ],
                        "passed_time": 17.48865077,
                        "remaining_time": 33.647755,
                        "test": [
                          0.9293087971,
                          0.1929485752
                        ]
                      },
                      {
                        "iteration": 342,
                        "learn": [
                          0.9724392256,
                          0.08720271477
                        ],
                        "passed_time": 17.53564929,
                        "remaining_time": 33.58869266,
                        "test": [
                          0.9288599641,
                          0.1927931539
                        ]
                      },
                      {
                        "iteration": 343,
                        "learn": [
                          0.9723907031,
                          0.08713355349
                        ],
                        "passed_time": 17.58637471,
                        "remaining_time": 33.53680759,
                        "test": [
                          0.9288599641,
                          0.1928523947
                        ]
                      },
                      {
                        "iteration": 344,
                        "learn": [
                          0.972681838,
                          0.0868212146
                        ],
                        "passed_time": 17.64105106,
                        "remaining_time": 33.49243027,
                        "test": [
                          0.9288599641,
                          0.1926914659
                        ]
                      },
                      {
                        "iteration": 345,
                        "learn": [
                          0.972875928,
                          0.08666633007
                        ],
                        "passed_time": 17.69113939,
                        "remaining_time": 33.43932128,
                        "test": [
                          0.9286355476,
                          0.192787144
                        ]
                      },
                      {
                        "iteration": 346,
                        "learn": [
                          0.9728274055,
                          0.08646902707
                        ],
                        "passed_time": 17.74073893,
                        "remaining_time": 33.38530986,
                        "test": [
                          0.9290843806,
                          0.1927785064
                        ]
                      },
                      {
                        "iteration": 347,
                        "learn": [
                          0.973070018,
                          0.08632677514
                        ],
                        "passed_time": 17.79272516,
                        "remaining_time": 33.33579541,
                        "test": [
                          0.9290843806,
                          0.1927532571
                        ]
                      },
                      {
                        "iteration": 348,
                        "learn": [
                          0.9732641079,
                          0.08622872104
                        ],
                        "passed_time": 17.84388654,
                        "remaining_time": 33.2847282,
                        "test": [
                          0.9286355476,
                          0.1927589707
                        ]
                      },
                      {
                        "iteration": 349,
                        "learn": [
                          0.9732155854,
                          0.08614417141
                        ],
                        "passed_time": 17.89244367,
                        "remaining_time": 33.22882397,
                        "test": [
                          0.9286355476,
                          0.1929378694
                        ]
                      },
                      {
                        "iteration": 350,
                        "learn": [
                          0.9732155854,
                          0.08596524409
                        ],
                        "passed_time": 17.94008248,
                        "remaining_time": 33.17126362,
                        "test": [
                          0.9284111311,
                          0.1928591544
                        ]
                      },
                      {
                        "iteration": 351,
                        "learn": [
                          0.9732641079,
                          0.08578554842
                        ],
                        "passed_time": 17.99178003,
                        "remaining_time": 33.12123142,
                        "test": [
                          0.9281867145,
                          0.1926683487
                        ]
                      },
                      {
                        "iteration": 352,
                        "learn": [
                          0.9731670629,
                          0.08561996076
                        ],
                        "passed_time": 18.0529819,
                        "remaining_time": 33.08860988,
                        "test": [
                          0.927962298,
                          0.1926408645
                        ]
                      },
                      {
                        "iteration": 353,
                        "learn": [
                          0.9733126304,
                          0.08547767444
                        ],
                        "passed_time": 18.10370975,
                        "remaining_time": 33.03671328,
                        "test": [
                          0.9284111311,
                          0.1927396877
                        ]
                      },
                      {
                        "iteration": 354,
                        "learn": [
                          0.9733611529,
                          0.0853992848
                        ],
                        "passed_time": 18.15079503,
                        "remaining_time": 32.97820505,
                        "test": [
                          0.9281867145,
                          0.1928971515
                        ]
                      },
                      {
                        "iteration": 355,
                        "learn": [
                          0.9737008103,
                          0.08508150557
                        ],
                        "passed_time": 18.23993973,
                        "remaining_time": 32.99584602,
                        "test": [
                          0.9295332136,
                          0.1928575388
                        ]
                      },
                      {
                        "iteration": 356,
                        "learn": [
                          0.9735552429,
                          0.08502822031
                        ],
                        "passed_time": 18.29077104,
                        "remaining_time": 32.94388174,
                        "test": [
                          0.9295332136,
                          0.1928610924
                        ]
                      },
                      {
                        "iteration": 357,
                        "learn": [
                          0.9737008103,
                          0.08493955118
                        ],
                        "passed_time": 18.3355506,
                        "remaining_time": 32.88107119,
                        "test": [
                          0.9295332136,
                          0.1929145064
                        ]
                      },
                      {
                        "iteration": 358,
                        "learn": [
                          0.9738949003,
                          0.08480893427
                        ],
                        "passed_time": 18.38902188,
                        "remaining_time": 32.8338803,
                        "test": [
                          0.9288599641,
                          0.1928976039
                        ]
                      },
                      {
                        "iteration": 359,
                        "learn": [
                          0.9740404678,
                          0.08469686161
                        ],
                        "passed_time": 18.43880122,
                        "remaining_time": 32.78009105,
                        "test": [
                          0.9288599641,
                          0.1928303804
                        ]
                      },
                      {
                        "iteration": 360,
                        "learn": [
                          0.9740404678,
                          0.0845157659
                        ],
                        "passed_time": 18.48854242,
                        "remaining_time": 32.72625653,
                        "test": [
                          0.9286355476,
                          0.1927338998
                        ]
                      },
                      {
                        "iteration": 361,
                        "learn": [
                          0.9743801252,
                          0.08432795301
                        ],
                        "passed_time": 18.54055873,
                        "remaining_time": 32.67645434,
                        "test": [
                          0.9286355476,
                          0.1930255637
                        ]
                      },
                      {
                        "iteration": 362,
                        "learn": [
                          0.9746712601,
                          0.08414154773
                        ],
                        "passed_time": 18.58981785,
                        "remaining_time": 32.62180156,
                        "test": [
                          0.9288599641,
                          0.1932352243
                        ]
                      },
                      {
                        "iteration": 363,
                        "learn": [
                          0.9745742151,
                          0.08405812116
                        ],
                        "passed_time": 18.63934385,
                        "remaining_time": 32.56764475,
                        "test": [
                          0.9288599641,
                          0.1933236327
                        ]
                      },
                      {
                        "iteration": 364,
                        "learn": [
                          0.9746712601,
                          0.08387888521
                        ],
                        "passed_time": 18.68997778,
                        "remaining_time": 32.5154408,
                        "test": [
                          0.9288599641,
                          0.1935537503
                        ]
                      },
                      {
                        "iteration": 365,
                        "learn": [
                          0.9745256927,
                          0.08381332116
                        ],
                        "passed_time": 18.7381101,
                        "remaining_time": 32.45891202,
                        "test": [
                          0.9290843806,
                          0.1936026487
                        ]
                      },
                      {
                        "iteration": 366,
                        "learn": [
                          0.9748168276,
                          0.08360179712
                        ],
                        "passed_time": 18.79064673,
                        "remaining_time": 32.41002556,
                        "test": [
                          0.9286355476,
                          0.1936164247
                        ]
                      },
                      {
                        "iteration": 367,
                        "learn": [
                          0.9747683051,
                          0.08353682457
                        ],
                        "passed_time": 18.83512995,
                        "remaining_time": 32.34728839,
                        "test": [
                          0.9286355476,
                          0.1936443003
                        ]
                      },
                      {
                        "iteration": 368,
                        "learn": [
                          0.9748168276,
                          0.08341968135
                        ],
                        "passed_time": 18.88580467,
                        "remaining_time": 32.29523779,
                        "test": [
                          0.9286355476,
                          0.1936603382
                        ]
                      },
                      {
                        "iteration": 369,
                        "learn": [
                          0.9748653501,
                          0.08327995637
                        ],
                        "passed_time": 18.93102182,
                        "remaining_time": 32.23390203,
                        "test": [
                          0.9288599641,
                          0.1936560989
                        ]
                      },
                      {
                        "iteration": 370,
                        "learn": [
                          0.9748653501,
                          0.08307662891
                        ],
                        "passed_time": 18.99152051,
                        "remaining_time": 32.19856173,
                        "test": [
                          0.9286355476,
                          0.1936482779
                        ]
                      },
                      {
                        "iteration": 371,
                        "learn": [
                          0.9750109176,
                          0.08290025414
                        ],
                        "passed_time": 19.05703989,
                        "remaining_time": 32.17156197,
                        "test": [
                          0.9288599641,
                          0.1935685552
                        ]
                      },
                      {
                        "iteration": 372,
                        "learn": [
                          0.9751079625,
                          0.08273441958
                        ],
                        "passed_time": 19.10876027,
                        "remaining_time": 32.12116003,
                        "test": [
                          0.9288599641,
                          0.1935213713
                        ]
                      },
                      {
                        "iteration": 373,
                        "learn": [
                          0.97525353,
                          0.08257280241
                        ],
                        "passed_time": 19.16047993,
                        "remaining_time": 32.07074983,
                        "test": [
                          0.9290843806,
                          0.1934836712
                        ]
                      },
                      {
                        "iteration": 374,
                        "learn": [
                          0.9752050075,
                          0.08243417994
                        ],
                        "passed_time": 19.24367798,
                        "remaining_time": 32.07279663,
                        "test": [
                          0.9286355476,
                          0.1936160803
                        ]
                      },
                      {
                        "iteration": 375,
                        "learn": [
                          0.975156485,
                          0.08238396379
                        ],
                        "passed_time": 19.29463027,
                        "remaining_time": 32.02087577,
                        "test": [
                          0.9286355476,
                          0.1935884226
                        ]
                      },
                      {
                        "iteration": 376,
                        "learn": [
                          0.97525353,
                          0.08235392635
                        ],
                        "passed_time": 19.33970298,
                        "remaining_time": 31.95924392,
                        "test": [
                          0.9286355476,
                          0.193588905
                        ]
                      },
                      {
                        "iteration": 377,
                        "learn": [
                          0.9752050075,
                          0.08226630696
                        ],
                        "passed_time": 19.38849989,
                        "remaining_time": 31.90382786,
                        "test": [
                          0.9290843806,
                          0.1935659863
                        ]
                      },
                      {
                        "iteration": 378,
                        "learn": [
                          0.97525353,
                          0.08217633325
                        ],
                        "passed_time": 19.43810399,
                        "remaining_time": 31.84976934,
                        "test": [
                          0.9288599641,
                          0.1936518688
                        ]
                      },
                      {
                        "iteration": 379,
                        "learn": [
                          0.97525353,
                          0.08202460384
                        ],
                        "passed_time": 19.4841047,
                        "remaining_time": 31.78985503,
                        "test": [
                          0.9290843806,
                          0.1937138451
                        ]
                      },
                      {
                        "iteration": 380,
                        "learn": [
                          0.9753020525,
                          0.08193000082
                        ],
                        "passed_time": 19.53051537,
                        "remaining_time": 31.73067982,
                        "test": [
                          0.9293087971,
                          0.1937423942
                        ]
                      },
                      {
                        "iteration": 381,
                        "learn": [
                          0.975156485,
                          0.08179044774
                        ],
                        "passed_time": 19.58114254,
                        "remaining_time": 31.67839291,
                        "test": [
                          0.9295332136,
                          0.1937593817
                        ]
                      },
                      {
                        "iteration": 382,
                        "learn": [
                          0.9752050075,
                          0.0816857958
                        ],
                        "passed_time": 19.62819469,
                        "remaining_time": 31.62035542,
                        "test": [
                          0.9297576302,
                          0.193697122
                        ]
                      },
                      {
                        "iteration": 383,
                        "learn": [
                          0.9753990975,
                          0.08157548523
                        ],
                        "passed_time": 19.6775863,
                        "remaining_time": 31.56612803,
                        "test": [
                          0.9293087971,
                          0.193695958
                        ]
                      },
                      {
                        "iteration": 384,
                        "learn": [
                          0.975350575,
                          0.08152221378
                        ],
                        "passed_time": 19.72144893,
                        "remaining_time": 31.50309374,
                        "test": [
                          0.9293087971,
                          0.1936906271
                        ]
                      },
                      {
                        "iteration": 385,
                        "learn": [
                          0.97544762,
                          0.08136238894
                        ],
                        "passed_time": 19.76541682,
                        "remaining_time": 31.44032623,
                        "test": [
                          0.9293087971,
                          0.1938088701
                        ]
                      },
                      {
                        "iteration": 386,
                        "learn": [
                          0.9756417099,
                          0.08117786746
                        ],
                        "passed_time": 19.81332347,
                        "remaining_time": 31.3838948,
                        "test": [
                          0.9297576302,
                          0.1938568836
                        ]
                      },
                      {
                        "iteration": 387,
                        "learn": [
                          0.9756902324,
                          0.08110494176
                        ],
                        "passed_time": 19.85871642,
                        "remaining_time": 31.3235424,
                        "test": [
                          0.9295332136,
                          0.1938686028
                        ]
                      },
                      {
                        "iteration": 388,
                        "learn": [
                          0.9754961425,
                          0.08097070727
                        ],
                        "passed_time": 19.90774849,
                        "remaining_time": 31.26898284,
                        "test": [
                          0.9297576302,
                          0.1940146354
                        ]
                      },
                      {
                        "iteration": 389,
                        "learn": [
                          0.9756902324,
                          0.08077862846
                        ],
                        "passed_time": 19.95778748,
                        "remaining_time": 31.21602658,
                        "test": [
                          0.9299820467,
                          0.1939736592
                        ]
                      },
                      {
                        "iteration": 390,
                        "learn": [
                          0.9757387549,
                          0.08066404292
                        ],
                        "passed_time": 20.00799341,
                        "remaining_time": 31.16334523,
                        "test": [
                          0.9302064632,
                          0.1939750743
                        ]
                      },
                      {
                        "iteration": 391,
                        "learn": [
                          0.9758357999,
                          0.08059241637
                        ],
                        "passed_time": 20.06847015,
                        "remaining_time": 31.12660677,
                        "test": [
                          0.9302064632,
                          0.1940619582
                        ]
                      },
                      {
                        "iteration": 392,
                        "learn": [
                          0.9758357999,
                          0.08055000369
                        ],
                        "passed_time": 20.11617571,
                        "remaining_time": 31.07002202,
                        "test": [
                          0.9302064632,
                          0.1940364995
                        ]
                      },
                      {
                        "iteration": 393,
                        "learn": [
                          0.9759813674,
                          0.08038306411
                        ],
                        "passed_time": 20.16222487,
                        "remaining_time": 31.0109347,
                        "test": [
                          0.9302064632,
                          0.1939338681
                        ]
                      },
                      {
                        "iteration": 394,
                        "learn": [
                          0.9758843224,
                          0.08029653821
                        ],
                        "passed_time": 20.20899343,
                        "remaining_time": 30.95301525,
                        "test": [
                          0.9299820467,
                          0.1939459635
                        ]
                      },
                      {
                        "iteration": 395,
                        "learn": [
                          0.9758357999,
                          0.08022809097
                        ],
                        "passed_time": 20.29777019,
                        "remaining_time": 30.95922524,
                        "test": [
                          0.9295332136,
                          0.1939185186
                        ]
                      },
                      {
                        "iteration": 396,
                        "learn": [
                          0.9761269348,
                          0.08010236874
                        ],
                        "passed_time": 20.35128805,
                        "remaining_time": 30.91140225,
                        "test": [
                          0.9302064632,
                          0.1938053213
                        ]
                      },
                      {
                        "iteration": 397,
                        "learn": [
                          0.9763210248,
                          0.07993460939
                        ],
                        "passed_time": 20.39962977,
                        "remaining_time": 30.85572141,
                        "test": [
                          0.9304308797,
                          0.1937807157
                        ]
                      },
                      {
                        "iteration": 398,
                        "learn": [
                          0.9764180698,
                          0.07985663239
                        ],
                        "passed_time": 20.4475275,
                        "remaining_time": 30.79940859,
                        "test": [
                          0.9304308797,
                          0.1937781839
                        ]
                      },
                      {
                        "iteration": 399,
                        "learn": [
                          0.9765151148,
                          0.07963892157
                        ],
                        "passed_time": 20.49869966,
                        "remaining_time": 30.74804949,
                        "test": [
                          0.9299820467,
                          0.193795661
                        ]
                      },
                      {
                        "iteration": 400,
                        "learn": [
                          0.9766606822,
                          0.07953203277
                        ],
                        "passed_time": 20.54494842,
                        "remaining_time": 30.68933692,
                        "test": [
                          0.9304308797,
                          0.1938073115
                        ]
                      },
                      {
                        "iteration": 401,
                        "learn": [
                          0.9767577272,
                          0.07942025241
                        ],
                        "passed_time": 20.59205726,
                        "remaining_time": 30.63196577,
                        "test": [
                          0.9299820467,
                          0.1937601601
                        ]
                      },
                      {
                        "iteration": 402,
                        "learn": [
                          0.9767577272,
                          0.07920764665
                        ],
                        "passed_time": 20.64519396,
                        "remaining_time": 30.58357517,
                        "test": [
                          0.9299820467,
                          0.1936534956
                        ]
                      },
                      {
                        "iteration": 403,
                        "learn": [
                          0.9767577272,
                          0.07908866899
                        ],
                        "passed_time": 20.68909339,
                        "remaining_time": 30.52153381,
                        "test": [
                          0.9304308797,
                          0.1937639862
                        ]
                      },
                      {
                        "iteration": 404,
                        "learn": [
                          0.9767577272,
                          0.07900121736
                        ],
                        "passed_time": 20.73524437,
                        "remaining_time": 30.46288987,
                        "test": [
                          0.9304308797,
                          0.1938281796
                        ]
                      },
                      {
                        "iteration": 405,
                        "learn": [
                          0.9768062497,
                          0.07889314332
                        ],
                        "passed_time": 20.78076742,
                        "remaining_time": 30.40338879,
                        "test": [
                          0.9304308797,
                          0.1938733945
                        ]
                      },
                      {
                        "iteration": 406,
                        "learn": [
                          0.9767577272,
                          0.07883113432
                        ],
                        "passed_time": 20.82867775,
                        "remaining_time": 30.34743466,
                        "test": [
                          0.9306552962,
                          0.193859397
                        ]
                      },
                      {
                        "iteration": 407,
                        "learn": [
                          0.9768062497,
                          0.07877603342
                        ],
                        "passed_time": 20.87484775,
                        "remaining_time": 30.28899477,
                        "test": [
                          0.9306552962,
                          0.193858807
                        ]
                      },
                      {
                        "iteration": 408,
                        "learn": [
                          0.9768062497,
                          0.07858127742
                        ],
                        "passed_time": 20.92382952,
                        "remaining_time": 30.23467786,
                        "test": [
                          0.9306552962,
                          0.1938687806
                        ]
                      },
                      {
                        "iteration": 409,
                        "learn": [
                          0.9769032947,
                          0.07848897118
                        ],
                        "passed_time": 20.96878441,
                        "remaining_time": 30.1745922,
                        "test": [
                          0.9306552962,
                          0.1939753407
                        ]
                      },
                      {
                        "iteration": 410,
                        "learn": [
                          0.9771944296,
                          0.07838274651
                        ],
                        "passed_time": 21.01462915,
                        "remaining_time": 30.1158554,
                        "test": [
                          0.9306552962,
                          0.1940454744
                        ]
                      },
                      {
                        "iteration": 411,
                        "learn": [
                          0.9771459071,
                          0.07824445517
                        ],
                        "passed_time": 21.07032902,
                        "remaining_time": 30.07124628,
                        "test": [
                          0.9304308797,
                          0.1940736353
                        ]
                      },
                      {
                        "iteration": 412,
                        "learn": [
                          0.977534087,
                          0.07807884998
                        ],
                        "passed_time": 21.12948453,
                        "remaining_time": 30.03149496,
                        "test": [
                          0.9308797127,
                          0.1942331457
                        ]
                      },
                      {
                        "iteration": 413,
                        "learn": [
                          0.9775826095,
                          0.07799195258
                        ],
                        "passed_time": 21.17514643,
                        "remaining_time": 29.97255026,
                        "test": [
                          0.9308797127,
                          0.194235086
                        ]
                      },
                      {
                        "iteration": 414,
                        "learn": [
                          0.9774855646,
                          0.07787052728
                        ],
                        "passed_time": 21.22605739,
                        "remaining_time": 29.92106885,
                        "test": [
                          0.9306552962,
                          0.1943526717
                        ]
                      },
                      {
                        "iteration": 415,
                        "learn": [
                          0.9774370421,
                          0.07777378862
                        ],
                        "passed_time": 21.29716322,
                        "remaining_time": 29.89794067,
                        "test": [
                          0.9302064632,
                          0.1943195135
                        ]
                      },
                      {
                        "iteration": 416,
                        "learn": [
                          0.9774855646,
                          0.07770901765
                        ],
                        "passed_time": 21.36367232,
                        "remaining_time": 29.86815579,
                        "test": [
                          0.9302064632,
                          0.1943263262
                        ]
                      },
                      {
                        "iteration": 417,
                        "learn": [
                          0.977534087,
                          0.0776316489
                        ],
                        "passed_time": 21.40743229,
                        "remaining_time": 29.80652056,
                        "test": [
                          0.9299820467,
                          0.1943135247
                        ]
                      },
                      {
                        "iteration": 418,
                        "learn": [
                          0.9776796545,
                          0.07751408946
                        ],
                        "passed_time": 21.45500915,
                        "remaining_time": 29.75026328,
                        "test": [
                          0.9299820467,
                          0.1943006987
                        ]
                      },
                      {
                        "iteration": 419,
                        "learn": [
                          0.9777766995,
                          0.07734626976
                        ],
                        "passed_time": 21.50634929,
                        "remaining_time": 29.69924426,
                        "test": [
                          0.9297576302,
                          0.1944363758
                        ]
                      },
                      {
                        "iteration": 420,
                        "learn": [
                          0.9779707895,
                          0.07726144916
                        ],
                        "passed_time": 21.55802393,
                        "remaining_time": 29.64868374,
                        "test": [
                          0.9297576302,
                          0.1944620442
                        ]
                      },
                      {
                        "iteration": 421,
                        "learn": [
                          0.977922267,
                          0.07720855415
                        ],
                        "passed_time": 21.60319229,
                        "remaining_time": 29.5892065,
                        "test": [
                          0.9297576302,
                          0.1944840844
                        ]
                      },
                      {
                        "iteration": 422,
                        "learn": [
                          0.977922267,
                          0.07712041825
                        ],
                        "passed_time": 21.6567934,
                        "remaining_time": 29.54129974,
                        "test": [
                          0.9299820467,
                          0.1943896167
                        ]
                      },
                      {
                        "iteration": 423,
                        "learn": [
                          0.9779707895,
                          0.07700187888
                        ],
                        "passed_time": 21.7095179,
                        "remaining_time": 29.49217526,
                        "test": [
                          0.9290843806,
                          0.1945019726
                        ]
                      },
                      {
                        "iteration": 424,
                        "learn": [
                          0.9778737445,
                          0.07691768511
                        ],
                        "passed_time": 21.75630902,
                        "remaining_time": 29.43500633,
                        "test": [
                          0.9293087971,
                          0.1945601569
                        ]
                      },
                      {
                        "iteration": 425,
                        "learn": [
                          0.9779707895,
                          0.07686065145
                        ],
                        "passed_time": 21.80044648,
                        "remaining_time": 29.37431052,
                        "test": [
                          0.9297576302,
                          0.1946399946
                        ]
                      },
                      {
                        "iteration": 426,
                        "learn": [
                          0.977825222,
                          0.07672271296
                        ],
                        "passed_time": 21.84693779,
                        "remaining_time": 29.31685095,
                        "test": [
                          0.9295332136,
                          0.1946569191
                        ]
                      },
                      {
                        "iteration": 427,
                        "learn": [
                          0.9780678344,
                          0.07664514271
                        ],
                        "passed_time": 21.88981537,
                        "remaining_time": 29.25461306,
                        "test": [
                          0.9295332136,
                          0.1946297687
                        ]
                      },
                      {
                        "iteration": 428,
                        "learn": [
                          0.978019312,
                          0.07658266736
                        ],
                        "passed_time": 21.93332445,
                        "remaining_time": 29.19330597,
                        "test": [
                          0.9295332136,
                          0.1945898772
                        ]
                      },
                      {
                        "iteration": 429,
                        "learn": [
                          0.9779707895,
                          0.0764456741
                        ],
                        "passed_time": 21.98670903,
                        "remaining_time": 29.14517243,
                        "test": [
                          0.9299820467,
                          0.1947320067
                        ]
                      },
                      {
                        "iteration": 430,
                        "learn": [
                          0.9779707895,
                          0.07635464916
                        ],
                        "passed_time": 22.03730941,
                        "remaining_time": 29.09333887,
                        "test": [
                          0.9302064632,
                          0.1947488726
                        ]
                      },
                      {
                        "iteration": 431,
                        "learn": [
                          0.9781163569,
                          0.07622223812
                        ],
                        "passed_time": 22.09223472,
                        "remaining_time": 29.0471975,
                        "test": [
                          0.9302064632,
                          0.1945582457
                        ]
                      },
                      {
                        "iteration": 432,
                        "learn": [
                          0.9779707895,
                          0.07612570052
                        ],
                        "passed_time": 22.14907026,
                        "remaining_time": 29.00351694,
                        "test": [
                          0.9299820467,
                          0.1945588011
                        ]
                      },
                      {
                        "iteration": 433,
                        "learn": [
                          0.978019312,
                          0.07599084801
                        ],
                        "passed_time": 22.19867276,
                        "remaining_time": 28.95034281,
                        "test": [
                          0.9295332136,
                          0.1946444228
                        ]
                      },
                      {
                        "iteration": 434,
                        "learn": [
                          0.9781163569,
                          0.07593381211
                        ],
                        "passed_time": 22.24323024,
                        "remaining_time": 28.89063238,
                        "test": [
                          0.9295332136,
                          0.194676776
                        ]
                      },
                      {
                        "iteration": 435,
                        "learn": [
                          0.9784560144,
                          0.07580418693
                        ],
                        "passed_time": 22.29664773,
                        "remaining_time": 28.84245257,
                        "test": [
                          0.9302064632,
                          0.1946775592
                        ]
                      },
                      {
                        "iteration": 436,
                        "learn": [
                          0.9783589694,
                          0.07576185032
                        ],
                        "passed_time": 22.4060431,
                        "remaining_time": 28.86636674,
                        "test": [
                          0.9302064632,
                          0.1946362792
                        ]
                      },
                      {
                        "iteration": 437,
                        "learn": [
                          0.9782619244,
                          0.07566502647
                        ],
                        "passed_time": 22.45686223,
                        "remaining_time": 28.81451273,
                        "test": [
                          0.9299820467,
                          0.1946599416
                        ]
                      },
                      {
                        "iteration": 438,
                        "learn": [
                          0.9785530593,
                          0.07552368711
                        ],
                        "passed_time": 22.50920903,
                        "remaining_time": 28.76461564,
                        "test": [
                          0.9304308797,
                          0.1946356924
                        ]
                      },
                      {
                        "iteration": 439,
                        "learn": [
                          0.9786986268,
                          0.07543191454
                        ],
                        "passed_time": 22.55792929,
                        "remaining_time": 28.71009182,
                        "test": [
                          0.9304308797,
                          0.1946150834
                        ]
                      },
                      {
                        "iteration": 440,
                        "learn": [
                          0.9785530593,
                          0.07531242904
                        ],
                        "passed_time": 22.60595701,
                        "remaining_time": 28.65471649,
                        "test": [
                          0.9308797127,
                          0.1948004855
                        ]
                      },
                      {
                        "iteration": 441,
                        "learn": [
                          0.9786986268,
                          0.07525390268
                        ],
                        "passed_time": 22.65173239,
                        "remaining_time": 28.59653094,
                        "test": [
                          0.9308797127,
                          0.1949252223
                        ]
                      },
                      {
                        "iteration": 442,
                        "learn": [
                          0.9788441943,
                          0.07507228109
                        ],
                        "passed_time": 22.69997963,
                        "remaining_time": 28.54150937,
                        "test": [
                          0.9302064632,
                          0.1950173821
                        ]
                      },
                      {
                        "iteration": 443,
                        "learn": [
                          0.9791353292,
                          0.0748843471
                        ],
                        "passed_time": 22.75529033,
                        "remaining_time": 28.49536357,
                        "test": [
                          0.9304308797,
                          0.1948929353
                        ]
                      },
                      {
                        "iteration": 444,
                        "learn": [
                          0.9793294192,
                          0.07477524507
                        ],
                        "passed_time": 22.8047511,
                        "remaining_time": 28.44188058,
                        "test": [
                          0.9304308797,
                          0.194981601
                        ]
                      },
                      {
                        "iteration": 445,
                        "learn": [
                          0.9791838517,
                          0.07464840101
                        ],
                        "passed_time": 22.85717382,
                        "remaining_time": 28.39209483,
                        "test": [
                          0.9304308797,
                          0.1951100645
                        ]
                      },
                      {
                        "iteration": 446,
                        "learn": [
                          0.9789412393,
                          0.07456270326
                        ],
                        "passed_time": 22.90783255,
                        "remaining_time": 28.34011498,
                        "test": [
                          0.9304308797,
                          0.1950885494
                        ]
                      },
                      {
                        "iteration": 447,
                        "learn": [
                          0.9789897618,
                          0.07447864469
                        ],
                        "passed_time": 22.95789259,
                        "remaining_time": 28.28740337,
                        "test": [
                          0.9304308797,
                          0.1950641413
                        ]
                      },
                      {
                        "iteration": 448,
                        "learn": [
                          0.9788927168,
                          0.07434993808
                        ],
                        "passed_time": 23.00411658,
                        "remaining_time": 28.22999607,
                        "test": [
                          0.9304308797,
                          0.1951873505
                        ]
                      },
                      {
                        "iteration": 449,
                        "learn": [
                          0.9790868067,
                          0.07426348598
                        ],
                        "passed_time": 23.05297931,
                        "remaining_time": 28.1758636,
                        "test": [
                          0.9304308797,
                          0.1951924102
                        ]
                      },
                      {
                        "iteration": 450,
                        "learn": [
                          0.9792323742,
                          0.07411565912
                        ],
                        "passed_time": 23.10434325,
                        "remaining_time": 28.12479921,
                        "test": [
                          0.9302064632,
                          0.1950942523
                        ]
                      },
                      {
                        "iteration": 451,
                        "learn": [
                          0.9790868067,
                          0.07397138066
                        ],
                        "passed_time": 23.16639274,
                        "remaining_time": 28.08668854,
                        "test": [
                          0.9299820467,
                          0.1949837876
                        ]
                      },
                      {
                        "iteration": 452,
                        "learn": [
                          0.9790868067,
                          0.07391116178
                        ],
                        "passed_time": 23.21529295,
                        "remaining_time": 28.03259436,
                        "test": [
                          0.9299820467,
                          0.1950216275
                        ]
                      },
                      {
                        "iteration": 453,
                        "learn": [
                          0.9794264642,
                          0.07375115759
                        ],
                        "passed_time": 23.26397155,
                        "remaining_time": 27.97825654,
                        "test": [
                          0.9297576302,
                          0.1952176001
                        ]
                      },
                      {
                        "iteration": 454,
                        "learn": [
                          0.9795720316,
                          0.07358419138
                        ],
                        "passed_time": 23.31070724,
                        "remaining_time": 27.92161637,
                        "test": [
                          0.9302064632,
                          0.1953155557
                        ]
                      },
                      {
                        "iteration": 455,
                        "learn": [
                          0.9794749867,
                          0.07353730498
                        ],
                        "passed_time": 23.35473975,
                        "remaining_time": 27.86179479,
                        "test": [
                          0.9302064632,
                          0.19527295
                        ]
                      },
                      {
                        "iteration": 456,
                        "learn": [
                          0.9794264642,
                          0.07342278609
                        ],
                        "passed_time": 23.45558615,
                        "remaining_time": 27.86954765,
                        "test": [
                          0.9304308797,
                          0.1952832304
                        ]
                      },
                      {
                        "iteration": 457,
                        "learn": [
                          0.9796205541,
                          0.07327892781
                        ],
                        "passed_time": 23.50371316,
                        "remaining_time": 27.81443785,
                        "test": [
                          0.9297576302,
                          0.1953595358
                        ]
                      },
                      {
                        "iteration": 458,
                        "learn": [
                          0.9798146441,
                          0.07313312695
                        ],
                        "passed_time": 23.55711365,
                        "remaining_time": 27.76557405,
                        "test": [
                          0.9297576302,
                          0.1951776679
                        ]
                      },
                      {
                        "iteration": 459,
                        "learn": [
                          0.9799116891,
                          0.0730249004
                        ],
                        "passed_time": 23.61193398,
                        "remaining_time": 27.71835728,
                        "test": [
                          0.9293087971,
                          0.1952535328
                        ]
                      },
                      {
                        "iteration": 460,
                        "learn": [
                          0.9798631666,
                          0.07294863339
                        ],
                        "passed_time": 23.65913392,
                        "remaining_time": 27.66219779,
                        "test": [
                          0.9299820467,
                          0.1952124841
                        ]
                      },
                      {
                        "iteration": 461,
                        "learn": [
                          0.9800572565,
                          0.07288505091
                        ],
                        "passed_time": 23.70439884,
                        "remaining_time": 27.60382376,
                        "test": [
                          0.9295332136,
                          0.1953077614
                        ]
                      },
                      {
                        "iteration": 462,
                        "learn": [
                          0.980105779,
                          0.07275345933
                        ],
                        "passed_time": 23.75572169,
                        "remaining_time": 27.55253251,
                        "test": [
                          0.9302064632,
                          0.1952665733
                        ]
                      },
                      {
                        "iteration": 463,
                        "learn": [
                          0.9802513465,
                          0.07261120661
                        ],
                        "passed_time": 23.80522816,
                        "remaining_time": 27.49914287,
                        "test": [
                          0.9306552962,
                          0.1952720311
                        ]
                      },
                      {
                        "iteration": 464,
                        "learn": [
                          0.9802513465,
                          0.07256280804
                        ],
                        "passed_time": 23.85267953,
                        "remaining_time": 27.44340548,
                        "test": [
                          0.9308797127,
                          0.1952199975
                        ]
                      },
                      {
                        "iteration": 465,
                        "learn": [
                          0.980299869,
                          0.07247222798
                        ],
                        "passed_time": 23.90505375,
                        "remaining_time": 27.39334486,
                        "test": [
                          0.9311041293,
                          0.1951429484
                        ]
                      },
                      {
                        "iteration": 466,
                        "learn": [
                          0.980299869,
                          0.072427607
                        ],
                        "passed_time": 23.95077838,
                        "remaining_time": 27.33568496,
                        "test": [
                          0.9311041293,
                          0.1951423426
                        ]
                      },
                      {
                        "iteration": 467,
                        "learn": [
                          0.9801543015,
                          0.07236710498
                        ],
                        "passed_time": 23.99876165,
                        "remaining_time": 27.28064359,
                        "test": [
                          0.9311041293,
                          0.1951044605
                        ]
                      },
                      {
                        "iteration": 468,
                        "learn": [
                          0.980299869,
                          0.07221388845
                        ],
                        "passed_time": 24.04920032,
                        "remaining_time": 27.2284123,
                        "test": [
                          0.9311041293,
                          0.1954014489
                        ]
                      },
                      {
                        "iteration": 469,
                        "learn": [
                          0.9804939589,
                          0.07210890924
                        ],
                        "passed_time": 24.09699557,
                        "remaining_time": 27.17320777,
                        "test": [
                          0.9308797127,
                          0.1954361292
                        ]
                      },
                      {
                        "iteration": 470,
                        "learn": [
                          0.980396914,
                          0.07195715153
                        ],
                        "passed_time": 24.15535149,
                        "remaining_time": 27.12989583,
                        "test": [
                          0.9306552962,
                          0.1954669571
                        ]
                      },
                      {
                        "iteration": 471,
                        "learn": [
                          0.9804454365,
                          0.07190333719
                        ],
                        "passed_time": 24.20141143,
                        "remaining_time": 27.07276533,
                        "test": [
                          0.9306552962,
                          0.1954343794
                        ]
                      },
                      {
                        "iteration": 472,
                        "learn": [
                          0.9804939589,
                          0.07183201252
                        ],
                        "passed_time": 24.24960171,
                        "remaining_time": 27.01805518,
                        "test": [
                          0.9306552962,
                          0.195343798
                        ]
                      },
                      {
                        "iteration": 473,
                        "learn": [
                          0.9805424814,
                          0.07166941159
                        ],
                        "passed_time": 24.30160227,
                        "remaining_time": 26.96760083,
                        "test": [
                          0.9304308797,
                          0.1955824931
                        ]
                      },
                      {
                        "iteration": 474,
                        "learn": [
                          0.9805910039,
                          0.07139233833
                        ],
                        "passed_time": 24.35391714,
                        "remaining_time": 26.91748736,
                        "test": [
                          0.9306552962,
                          0.1955803762
                        ]
                      },
                      {
                        "iteration": 475,
                        "learn": [
                          0.9807365714,
                          0.07127764502
                        ],
                        "passed_time": 24.41757155,
                        "remaining_time": 26.87984768,
                        "test": [
                          0.9302064632,
                          0.1955418037
                        ]
                      },
                      {
                        "iteration": 476,
                        "learn": [
                          0.9807365714,
                          0.07115827171
                        ],
                        "passed_time": 24.50175498,
                        "remaining_time": 26.86460766,
                        "test": [
                          0.9304308797,
                          0.1956072133
                        ]
                      },
                      {
                        "iteration": 477,
                        "learn": [
                          0.9809306614,
                          0.07104635991
                        ],
                        "passed_time": 24.5485499,
                        "remaining_time": 26.80824905,
                        "test": [
                          0.9304308797,
                          0.195663707
                        ]
                      },
                      {
                        "iteration": 478,
                        "learn": [
                          0.9808336164,
                          0.07093162465
                        ],
                        "passed_time": 24.59409913,
                        "remaining_time": 26.75057546,
                        "test": [
                          0.9304308797,
                          0.1957744789
                        ]
                      },
                      {
                        "iteration": 479,
                        "learn": [
                          0.9808336164,
                          0.07086473122
                        ],
                        "passed_time": 24.63908526,
                        "remaining_time": 26.69234236,
                        "test": [
                          0.9308797127,
                          0.195596337
                        ]
                      },
                      {
                        "iteration": 480,
                        "learn": [
                          0.9808336164,
                          0.07077184914
                        ],
                        "passed_time": 24.68879914,
                        "remaining_time": 26.6392656,
                        "test": [
                          0.9308797127,
                          0.1956119621
                        ]
                      },
                      {
                        "iteration": 481,
                        "learn": [
                          0.9808821389,
                          0.07064097032
                        ],
                        "passed_time": 24.73856507,
                        "remaining_time": 26.58625873,
                        "test": [
                          0.9306552962,
                          0.1955884867
                        ]
                      },
                      {
                        "iteration": 482,
                        "learn": [
                          0.9809791839,
                          0.07051498341
                        ],
                        "passed_time": 24.78875259,
                        "remaining_time": 26.53371654,
                        "test": [
                          0.9308797127,
                          0.1956624869
                        ]
                      },
                      {
                        "iteration": 483,
                        "learn": [
                          0.9809791839,
                          0.07044175134
                        ],
                        "passed_time": 24.83675305,
                        "remaining_time": 26.47885243,
                        "test": [
                          0.9308797127,
                          0.1956344394
                        ]
                      },
                      {
                        "iteration": 484,
                        "learn": [
                          0.9812703188,
                          0.07029062317
                        ],
                        "passed_time": 24.88455222,
                        "remaining_time": 26.42380288,
                        "test": [
                          0.9304308797,
                          0.1957014063
                        ]
                      },
                      {
                        "iteration": 485,
                        "learn": [
                          0.9813673638,
                          0.07014833141
                        ],
                        "passed_time": 24.93771071,
                        "remaining_time": 26.37445124,
                        "test": [
                          0.9302064632,
                          0.1956419426
                        ]
                      },
                      {
                        "iteration": 486,
                        "learn": [
                          0.9814158863,
                          0.07007547413
                        ],
                        "passed_time": 24.98598854,
                        "remaining_time": 26.31994276,
                        "test": [
                          0.9299820467,
                          0.1956034478
                        ]
                      },
                      {
                        "iteration": 487,
                        "learn": [
                          0.9812703188,
                          0.06998687188
                        ],
                        "passed_time": 25.03089218,
                        "remaining_time": 26.26191966,
                        "test": [
                          0.9299820467,
                          0.1956096521
                        ]
                      },
                      {
                        "iteration": 488,
                        "learn": [
                          0.9812217963,
                          0.06982636195
                        ],
                        "passed_time": 25.08331538,
                        "remaining_time": 26.21180809,
                        "test": [
                          0.9302064632,
                          0.1956452699
                        ]
                      },
                      {
                        "iteration": 489,
                        "learn": [
                          0.9813673638,
                          0.06971571969
                        ],
                        "passed_time": 25.1338378,
                        "remaining_time": 26.15970873,
                        "test": [
                          0.9302064632,
                          0.195600301
                        ]
                      },
                      {
                        "iteration": 490,
                        "learn": [
                          0.9814644088,
                          0.06966613189
                        ],
                        "passed_time": 25.19421998,
                        "remaining_time": 26.11783701,
                        "test": [
                          0.9304308797,
                          0.1957091172
                        ]
                      },
                      {
                        "iteration": 491,
                        "learn": [
                          0.9815129312,
                          0.0695637974
                        ],
                        "passed_time": 25.24565749,
                        "remaining_time": 26.06665449,
                        "test": [
                          0.9304308797,
                          0.1956900751
                        ]
                      },
                      {
                        "iteration": 492,
                        "learn": [
                          0.9816099762,
                          0.069473513
                        ],
                        "passed_time": 25.29804297,
                        "remaining_time": 26.01644581,
                        "test": [
                          0.9302064632,
                          0.1957859102
                        ]
                      },
                      {
                        "iteration": 493,
                        "learn": [
                          0.9817070212,
                          0.06933399721
                        ],
                        "passed_time": 25.3458115,
                        "remaining_time": 25.96149923,
                        "test": [
                          0.9304308797,
                          0.1958016765
                        ]
                      },
                      {
                        "iteration": 494,
                        "learn": [
                          0.9816584987,
                          0.06921503602
                        ],
                        "passed_time": 25.40089945,
                        "remaining_time": 25.91404893,
                        "test": [
                          0.9302064632,
                          0.1959390386
                        ]
                      },
                      {
                        "iteration": 495,
                        "learn": [
                          0.9816099762,
                          0.06910974631
                        ],
                        "passed_time": 25.48671943,
                        "remaining_time": 25.89779555,
                        "test": [
                          0.9304308797,
                          0.1959015527
                        ]
                      },
                      {
                        "iteration": 496,
                        "learn": [
                          0.9816099762,
                          0.06900579191
                        ],
                        "passed_time": 25.55772305,
                        "remaining_time": 25.86626699,
                        "test": [
                          0.9302064632,
                          0.1958614332
                        ]
                      },
                      {
                        "iteration": 497,
                        "learn": [
                          0.9815614537,
                          0.06886672806
                        ],
                        "passed_time": 25.60553681,
                        "remaining_time": 25.81120378,
                        "test": [
                          0.9299820467,
                          0.1959962143
                        ]
                      },
                      {
                        "iteration": 498,
                        "learn": [
                          0.9816099762,
                          0.06874201597
                        ],
                        "passed_time": 25.65721499,
                        "remaining_time": 25.76004952,
                        "test": [
                          0.9308797127,
                          0.1960041221
                        ]
                      },
                      {
                        "iteration": 499,
                        "learn": [
                          0.9817555437,
                          0.06868275573
                        ],
                        "passed_time": 25.70387615,
                        "remaining_time": 25.70387615,
                        "test": [
                          0.9313285458,
                          0.1961254371
                        ]
                      },
                      {
                        "iteration": 500,
                        "learn": [
                          0.9819011112,
                          0.06858693701
                        ],
                        "passed_time": 25.75388649,
                        "remaining_time": 25.65107656,
                        "test": [
                          0.9311041293,
                          0.1960547018
                        ]
                      },
                      {
                        "iteration": 501,
                        "learn": [
                          0.9820466786,
                          0.06851476151
                        ],
                        "passed_time": 25.80428566,
                        "remaining_time": 25.59867383,
                        "test": [
                          0.9306552962,
                          0.1960612772
                        ]
                      },
                      {
                        "iteration": 502,
                        "learn": [
                          0.9819496337,
                          0.06841345654
                        ],
                        "passed_time": 25.86133158,
                        "remaining_time": 25.55284651,
                        "test": [
                          0.9308797127,
                          0.1961151715
                        ]
                      },
                      {
                        "iteration": 503,
                        "learn": [
                          0.9819496337,
                          0.06836428434
                        ],
                        "passed_time": 25.90775275,
                        "remaining_time": 25.49651858,
                        "test": [
                          0.9308797127,
                          0.1961107892
                        ]
                      },
                      {
                        "iteration": 504,
                        "learn": [
                          0.9818525887,
                          0.06827887847
                        ],
                        "passed_time": 25.95339447,
                        "remaining_time": 25.43946587,
                        "test": [
                          0.9311041293,
                          0.1960492889
                        ]
                      },
                      {
                        "iteration": 505,
                        "learn": [
                          0.9818525887,
                          0.06810228181
                        ],
                        "passed_time": 26.00843171,
                        "remaining_time": 25.39163095,
                        "test": [
                          0.9306552962,
                          0.1961969297
                        ]
                      },
                      {
                        "iteration": 506,
                        "learn": [
                          0.9820466786,
                          0.06800860985
                        ],
                        "passed_time": 26.05760597,
                        "remaining_time": 25.33806655,
                        "test": [
                          0.9308797127,
                          0.1962025608
                        ]
                      },
                      {
                        "iteration": 507,
                        "learn": [
                          0.9819011112,
                          0.06790336837
                        ],
                        "passed_time": 26.10683127,
                        "remaining_time": 25.28456887,
                        "test": [
                          0.9304308797,
                          0.1962562659
                        ]
                      },
                      {
                        "iteration": 508,
                        "learn": [
                          0.9818040662,
                          0.06788168154
                        ],
                        "passed_time": 26.15261576,
                        "remaining_time": 25.22776884,
                        "test": [
                          0.9304308797,
                          0.1962110164
                        ]
                      },
                      {
                        "iteration": 509,
                        "learn": [
                          0.9820952011,
                          0.06779124459
                        ],
                        "passed_time": 26.21414212,
                        "remaining_time": 25.18613655,
                        "test": [
                          0.9306552962,
                          0.1962819291
                        ]
                      },
                      {
                        "iteration": 510,
                        "learn": [
                          0.9820466786,
                          0.06769050539
                        ],
                        "passed_time": 26.26672534,
                        "remaining_time": 25.13586828,
                        "test": [
                          0.9302064632,
                          0.196405815
                        ]
                      },
                      {
                        "iteration": 511,
                        "learn": [
                          0.9820952011,
                          0.06762040033
                        ],
                        "passed_time": 26.31154254,
                        "remaining_time": 25.07818898,
                        "test": [
                          0.9306552962,
                          0.1963033057
                        ]
                      },
                      {
                        "iteration": 512,
                        "learn": [
                          0.9822407686,
                          0.06753770278
                        ],
                        "passed_time": 26.36746653,
                        "remaining_time": 25.0311037,
                        "test": [
                          0.9297576302,
                          0.1962997202
                        ]
                      },
                      {
                        "iteration": 513,
                        "learn": [
                          0.9823378136,
                          0.06746865749
                        ],
                        "passed_time": 26.41396363,
                        "remaining_time": 24.97507067,
                        "test": [
                          0.9297576302,
                          0.1963218247
                        ]
                      },
                      {
                        "iteration": 514,
                        "learn": [
                          0.9823378136,
                          0.0673578499
                        ],
                        "passed_time": 26.46045058,
                        "remaining_time": 24.91906511,
                        "test": [
                          0.9295332136,
                          0.1963929867
                        ]
                      },
                      {
                        "iteration": 515,
                        "learn": [
                          0.9823378136,
                          0.06727288432
                        ],
                        "passed_time": 26.5368565,
                        "remaining_time": 24.89115997,
                        "test": [
                          0.9293087971,
                          0.1964187682
                        ]
                      },
                      {
                        "iteration": 516,
                        "learn": [
                          0.9822407686,
                          0.06717100904
                        ],
                        "passed_time": 26.61296735,
                        "remaining_time": 24.86279154,
                        "test": [
                          0.9295332136,
                          0.1963320013
                        ]
                      },
                      {
                        "iteration": 517,
                        "learn": [
                          0.9822892911,
                          0.06711197676
                        ],
                        "passed_time": 26.66252643,
                        "remaining_time": 24.80953232,
                        "test": [
                          0.9295332136,
                          0.1964751231
                        ]
                      },
                      {
                        "iteration": 518,
                        "learn": [
                          0.9822407686,
                          0.06701011067
                        ],
                        "passed_time": 26.71420779,
                        "remaining_time": 24.75825423,
                        "test": [
                          0.9295332136,
                          0.1964994046
                        ]
                      },
                      {
                        "iteration": 519,
                        "learn": [
                          0.9822892911,
                          0.06694482739
                        ],
                        "passed_time": 26.75855619,
                        "remaining_time": 24.70020571,
                        "test": [
                          0.9297576302,
                          0.1965046377
                        ]
                      },
                      {
                        "iteration": 520,
                        "learn": [
                          0.9822892911,
                          0.06682512819
                        ],
                        "passed_time": 26.80638409,
                        "remaining_time": 24.64540879,
                        "test": [
                          0.9295332136,
                          0.1964937392
                        ]
                      },
                      {
                        "iteration": 521,
                        "learn": [
                          0.9822892911,
                          0.0667546361
                        ],
                        "passed_time": 26.85646009,
                        "remaining_time": 24.59269717,
                        "test": [
                          0.9297576302,
                          0.1965315564
                        ]
                      },
                      {
                        "iteration": 522,
                        "learn": [
                          0.9823863361,
                          0.0666327587
                        ],
                        "passed_time": 26.90620394,
                        "remaining_time": 24.5396927,
                        "test": [
                          0.9297576302,
                          0.1965935251
                        ]
                      },
                      {
                        "iteration": 523,
                        "learn": [
                          0.9823863361,
                          0.06658493983
                        ],
                        "passed_time": 26.95776992,
                        "remaining_time": 24.48835588,
                        "test": [
                          0.9297576302,
                          0.1966341203
                        ]
                      },
                      {
                        "iteration": 524,
                        "learn": [
                          0.9823863361,
                          0.0665072903
                        ],
                        "passed_time": 27.00864022,
                        "remaining_time": 24.43638877,
                        "test": [
                          0.9297576302,
                          0.1967598575
                        ]
                      },
                      {
                        "iteration": 525,
                        "learn": [
                          0.9823378136,
                          0.06645826961
                        ],
                        "passed_time": 27.06432059,
                        "remaining_time": 24.38876038,
                        "test": [
                          0.9297576302,
                          0.1967539525
                        ]
                      },
                      {
                        "iteration": 526,
                        "learn": [
                          0.9823378136,
                          0.06630223276
                        ],
                        "passed_time": 27.11472958,
                        "remaining_time": 24.33637019,
                        "test": [
                          0.9302064632,
                          0.1966232636
                        ]
                      },
                      {
                        "iteration": 527,
                        "learn": [
                          0.9823378136,
                          0.06622324984
                        ],
                        "passed_time": 27.16231237,
                        "remaining_time": 24.28146106,
                        "test": [
                          0.9299820467,
                          0.1965586536
                        ]
                      },
                      {
                        "iteration": 528,
                        "learn": [
                          0.982483381,
                          0.06615727304
                        ],
                        "passed_time": 27.21747202,
                        "remaining_time": 24.23332575,
                        "test": [
                          0.9306552962,
                          0.1964800859
                        ]
                      },
                      {
                        "iteration": 529,
                        "learn": [
                          0.9823863361,
                          0.06608902204
                        ],
                        "passed_time": 27.2745297,
                        "remaining_time": 24.18684709,
                        "test": [
                          0.9306552962,
                          0.1964514471
                        ]
                      },
                      {
                        "iteration": 530,
                        "learn": [
                          0.9824348586,
                          0.06593979313
                        ],
                        "passed_time": 27.32221934,
                        "remaining_time": 24.13205437,
                        "test": [
                          0.9311041293,
                          0.1965425249
                        ]
                      },
                      {
                        "iteration": 531,
                        "learn": [
                          0.982483381,
                          0.06580919527
                        ],
                        "passed_time": 27.37171369,
                        "remaining_time": 24.07887595,
                        "test": [
                          0.9308797127,
                          0.1966718826
                        ]
                      },
                      {
                        "iteration": 532,
                        "learn": [
                          0.982483381,
                          0.06572733452
                        ],
                        "passed_time": 27.42114925,
                        "remaining_time": 24.02565985,
                        "test": [
                          0.9306552962,
                          0.1967091516
                        ]
                      },
                      {
                        "iteration": 533,
                        "learn": [
                          0.9827259935,
                          0.06558515186
                        ],
                        "passed_time": 27.46999502,
                        "remaining_time": 23.97194322,
                        "test": [
                          0.9306552962,
                          0.1966771705
                        ]
                      },
                      {
                        "iteration": 534,
                        "learn": [
                          0.982677471,
                          0.06548677604
                        ],
                        "passed_time": 27.52371266,
                        "remaining_time": 23.92247923,
                        "test": [
                          0.9306552962,
                          0.1966501282
                        ]
                      },
                      {
                        "iteration": 535,
                        "learn": [
                          0.9827259935,
                          0.06538477524
                        ],
                        "passed_time": 27.62379188,
                        "remaining_time": 23.91313327,
                        "test": [
                          0.9306552962,
                          0.196633927
                        ]
                      },
                      {
                        "iteration": 536,
                        "learn": [
                          0.982774516,
                          0.06532051077
                        ],
                        "passed_time": 27.66950007,
                        "remaining_time": 23.85657083,
                        "test": [
                          0.9306552962,
                          0.196677008
                        ]
                      },
                      {
                        "iteration": 537,
                        "learn": [
                          0.982871561,
                          0.0652548791
                        ],
                        "passed_time": 27.71491447,
                        "remaining_time": 23.79979644,
                        "test": [
                          0.9306552962,
                          0.1966749805
                        ]
                      },
                      {
                        "iteration": 538,
                        "learn": [
                          0.9830171284,
                          0.0651524006
                        ],
                        "passed_time": 27.76915361,
                        "remaining_time": 23.7506119,
                        "test": [
                          0.9306552962,
                          0.196757039
                        ]
                      },
                      {
                        "iteration": 539,
                        "learn": [
                          0.9831141734,
                          0.0650573191
                        ],
                        "passed_time": 27.81630607,
                        "remaining_time": 23.69537184,
                        "test": [
                          0.9308797127,
                          0.1967367845
                        ]
                      },
                      {
                        "iteration": 540,
                        "learn": [
                          0.9830171284,
                          0.0649902294
                        ],
                        "passed_time": 27.86451812,
                        "remaining_time": 23.64106066,
                        "test": [
                          0.9308797127,
                          0.1966195042
                        ]
                      },
                      {
                        "iteration": 541,
                        "learn": [
                          0.9831141734,
                          0.06487810178
                        ],
                        "passed_time": 27.91879883,
                        "remaining_time": 23.59190012,
                        "test": [
                          0.9308797127,
                          0.1968036032
                        ]
                      },
                      {
                        "iteration": 542,
                        "learn": [
                          0.9831626959,
                          0.06482909814
                        ],
                        "passed_time": 27.97181271,
                        "remaining_time": 23.54165452,
                        "test": [
                          0.9308797127,
                          0.1968216469
                        ]
                      },
                      {
                        "iteration": 543,
                        "learn": [
                          0.9833567859,
                          0.06474822909
                        ],
                        "passed_time": 28.0195205,
                        "remaining_time": 23.48695101,
                        "test": [
                          0.9308797127,
                          0.1968908361
                        ]
                      },
                      {
                        "iteration": 544,
                        "learn": [
                          0.9832597409,
                          0.06456804976
                        ],
                        "passed_time": 28.07434698,
                        "remaining_time": 23.43821628,
                        "test": [
                          0.9308797127,
                          0.1968550924
                        ]
                      },
                      {
                        "iteration": 545,
                        "learn": [
                          0.9832112184,
                          0.06449722818
                        ],
                        "passed_time": 28.12071013,
                        "remaining_time": 23.38242198,
                        "test": [
                          0.9311041293,
                          0.1969085028
                        ]
                      },
                      {
                        "iteration": 546,
                        "learn": [
                          0.9833567859,
                          0.06438087821
                        ],
                        "passed_time": 28.17726459,
                        "remaining_time": 23.33510212,
                        "test": [
                          0.9313285458,
                          0.1970195716
                        ]
                      },
                      {
                        "iteration": 547,
                        "learn": [
                          0.9834053084,
                          0.06429430957
                        ],
                        "passed_time": 28.22529388,
                        "remaining_time": 23.28071685,
                        "test": [
                          0.9313285458,
                          0.1970695583
                        ]
                      },
                      {
                        "iteration": 548,
                        "learn": [
                          0.9834538309,
                          0.06425308741
                        ],
                        "passed_time": 28.27880943,
                        "remaining_time": 23.23086167,
                        "test": [
                          0.9311041293,
                          0.1970421097
                        ]
                      },
                      {
                        "iteration": 549,
                        "learn": [
                          0.9836479208,
                          0.0641489953
                        ],
                        "passed_time": 28.32868695,
                        "remaining_time": 23.1780166,
                        "test": [
                          0.9313285458,
                          0.1970340314
                        ]
                      },
                      {
                        "iteration": 550,
                        "learn": [
                          0.9837449658,
                          0.06411467695
                        ],
                        "passed_time": 28.37350813,
                        "remaining_time": 23.12106198,
                        "test": [
                          0.9313285458,
                          0.1970755822
                        ]
                      },
                      {
                        "iteration": 551,
                        "learn": [
                          0.9838420108,
                          0.06404651409
                        ],
                        "passed_time": 28.42303178,
                        "remaining_time": 23.06796782,
                        "test": [
                          0.9308797127,
                          0.1971249132
                        ]
                      },
                      {
                        "iteration": 552,
                        "learn": [
                          0.9838420108,
                          0.06394403327
                        ],
                        "passed_time": 28.47278025,
                        "remaining_time": 23.0150683,
                        "test": [
                          0.9308797127,
                          0.1971948043
                        ]
                      },
                      {
                        "iteration": 553,
                        "learn": [
                          0.9838420108,
                          0.06383431712
                        ],
                        "passed_time": 28.52782441,
                        "remaining_time": 22.96644348,
                        "test": [
                          0.9308797127,
                          0.1973123288
                        ]
                      },
                      {
                        "iteration": 554,
                        "learn": [
                          0.9839390558,
                          0.0637897615
                        ],
                        "passed_time": 28.60852289,
                        "remaining_time": 22.9383652,
                        "test": [
                          0.9311041293,
                          0.1973279827
                        ]
                      },
                      {
                        "iteration": 555,
                        "learn": [
                          0.9836479208,
                          0.06371869542
                        ],
                        "passed_time": 28.68149721,
                        "remaining_time": 22.90392942,
                        "test": [
                          0.9311041293,
                          0.1973311666
                        ]
                      },
                      {
                        "iteration": 556,
                        "learn": [
                          0.9835508758,
                          0.06354317002
                        ],
                        "passed_time": 28.73096561,
                        "remaining_time": 22.85066026,
                        "test": [
                          0.9313285458,
                          0.1971392857
                        ]
                      },
                      {
                        "iteration": 557,
                        "learn": [
                          0.9835508758,
                          0.06349088836
                        ],
                        "passed_time": 28.77866121,
                        "remaining_time": 22.79600046,
                        "test": [
                          0.9315529623,
                          0.1972059159
                        ]
                      },
                      {
                        "iteration": 558,
                        "learn": [
                          0.9835993983,
                          0.06340582828
                        ],
                        "passed_time": 28.82607907,
                        "remaining_time": 22.74114646,
                        "test": [
                          0.9313285458,
                          0.1973755072
                        ]
                      },
                      {
                        "iteration": 559,
                        "learn": [
                          0.9836479208,
                          0.06332564265
                        ],
                        "passed_time": 28.88120128,
                        "remaining_time": 22.69237244,
                        "test": [
                          0.9311041293,
                          0.1974776871
                        ]
                      },
                      {
                        "iteration": 560,
                        "learn": [
                          0.9836479208,
                          0.06328316397
                        ],
                        "passed_time": 28.9257443,
                        "remaining_time": 22.63529723,
                        "test": [
                          0.9313285458,
                          0.1974360715
                        ]
                      },
                      {
                        "iteration": 561,
                        "learn": [
                          0.9838905333,
                          0.06318326186
                        ],
                        "passed_time": 28.97889014,
                        "remaining_time": 22.58497132,
                        "test": [
                          0.9315529623,
                          0.1973354991
                        ]
                      },
                      {
                        "iteration": 562,
                        "learn": [
                          0.9839390558,
                          0.06298041368
                        ],
                        "passed_time": 29.03130101,
                        "remaining_time": 22.53406491,
                        "test": [
                          0.9311041293,
                          0.1974874713
                        ]
                      },
                      {
                        "iteration": 563,
                        "learn": [
                          0.9840361007,
                          0.06291922535
                        ],
                        "passed_time": 29.08059624,
                        "remaining_time": 22.48074461,
                        "test": [
                          0.9308797127,
                          0.1976256555
                        ]
                      },
                      {
                        "iteration": 564,
                        "learn": [
                          0.9839390558,
                          0.06286012828
                        ],
                        "passed_time": 29.13194445,
                        "remaining_time": 22.42901918,
                        "test": [
                          0.9308797127,
                          0.1976872663
                        ]
                      },
                      {
                        "iteration": 565,
                        "learn": [
                          0.9841816682,
                          0.06272633606
                        ],
                        "passed_time": 29.17878544,
                        "remaining_time": 22.37383901,
                        "test": [
                          0.9311041293,
                          0.1975526122
                        ]
                      },
                      {
                        "iteration": 566,
                        "learn": [
                          0.9841331457,
                          0.06268124366
                        ],
                        "passed_time": 29.22507956,
                        "remaining_time": 22.31827063,
                        "test": [
                          0.9311041293,
                          0.1975219614
                        ]
                      },
                      {
                        "iteration": 567,
                        "learn": [
                          0.9841816682,
                          0.06257749227
                        ],
                        "passed_time": 29.29679531,
                        "remaining_time": 22.28206967,
                        "test": [
                          0.9313285458,
                          0.1974083045
                        ]
                      },
                      {
                        "iteration": 568,
                        "learn": [
                          0.9841816682,
                          0.06254654623
                        ],
                        "passed_time": 29.34580339,
                        "remaining_time": 22.22854352,
                        "test": [
                          0.9313285458,
                          0.1974151668
                        ]
                      },
                      {
                        "iteration": 569,
                        "learn": [
                          0.9843757582,
                          0.06249199076
                        ],
                        "passed_time": 29.39059782,
                        "remaining_time": 22.1718545,
                        "test": [
                          0.9313285458,
                          0.1973304559
                        ]
                      },
                      {
                        "iteration": 570,
                        "learn": [
                          0.9842787132,
                          0.06240297868
                        ],
                        "passed_time": 29.44018213,
                        "remaining_time": 22.11880584,
                        "test": [
                          0.9317773788,
                          0.197347739
                        ]
                      },
                      {
                        "iteration": 571,
                        "learn": [
                          0.9842787132,
                          0.06234850995
                        ],
                        "passed_time": 29.48998281,
                        "remaining_time": 22.0659312,
                        "test": [
                          0.9315529623,
                          0.1973554671
                        ]
                      },
                      {
                        "iteration": 572,
                        "learn": [
                          0.9844728031,
                          0.06220487203
                        ],
                        "passed_time": 29.54329997,
                        "remaining_time": 22.01568776,
                        "test": [
                          0.9315529623,
                          0.1973197401
                        ]
                      },
                      {
                        "iteration": 573,
                        "learn": [
                          0.9845213256,
                          0.06215351401
                        ],
                        "passed_time": 29.58818643,
                        "remaining_time": 21.95917669,
                        "test": [
                          0.9313285458,
                          0.1973488871
                        ]
                      },
                      {
                        "iteration": 574,
                        "learn": [
                          0.9844242807,
                          0.06205211182
                        ],
                        "passed_time": 29.68820169,
                        "remaining_time": 21.94345342,
                        "test": [
                          0.9311041293,
                          0.1972490428
                        ]
                      },
                      {
                        "iteration": 575,
                        "learn": [
                          0.9847639381,
                          0.06195440302
                        ],
                        "passed_time": 29.74270465,
                        "remaining_time": 21.89393537,
                        "test": [
                          0.9315529623,
                          0.1973064218
                        ]
                      },
                      {
                        "iteration": 576,
                        "learn": [
                          0.9845698481,
                          0.06189393255
                        ],
                        "passed_time": 29.79346629,
                        "remaining_time": 21.84165726,
                        "test": [
                          0.9315529623,
                          0.1973285808
                        ]
                      },
                      {
                        "iteration": 577,
                        "learn": [
                          0.9846183706,
                          0.06180579848
                        ],
                        "passed_time": 29.84134997,
                        "remaining_time": 21.78728319,
                        "test": [
                          0.9322262118,
                          0.1972406842
                        ]
                      },
                      {
                        "iteration": 578,
                        "learn": [
                          0.9847154156,
                          0.06166688167
                        ],
                        "passed_time": 29.89363351,
                        "remaining_time": 21.73613075,
                        "test": [
                          0.9322262118,
                          0.1971249847
                        ]
                      },
                      {
                        "iteration": 579,
                        "learn": [
                          0.9846668931,
                          0.06162210948
                        ],
                        "passed_time": 29.93973619,
                        "remaining_time": 21.68049862,
                        "test": [
                          0.9322262118,
                          0.1971534791
                        ]
                      },
                      {
                        "iteration": 580,
                        "learn": [
                          0.9848124606,
                          0.06153424646
                        ],
                        "passed_time": 29.98433185,
                        "remaining_time": 21.62381247,
                        "test": [
                          0.9322262118,
                          0.1971063242
                        ]
                      },
                      {
                        "iteration": 581,
                        "learn": [
                          0.9848124606,
                          0.0614446148
                        ],
                        "passed_time": 30.03285025,
                        "remaining_time": 21.56998523,
                        "test": [
                          0.9320017953,
                          0.1970963942
                        ]
                      },
                      {
                        "iteration": 582,
                        "learn": [
                          0.984958028,
                          0.06132435266
                        ],
                        "passed_time": 30.08427558,
                        "remaining_time": 21.51825543,
                        "test": [
                          0.9317773788,
                          0.1971987164
                        ]
                      },
                      {
                        "iteration": 583,
                        "learn": [
                          0.9851035955,
                          0.06124584994
                        ],
                        "passed_time": 30.13481078,
                        "remaining_time": 21.46589261,
                        "test": [
                          0.9315529623,
                          0.1972174354
                        ]
                      },
                      {
                        "iteration": 584,
                        "learn": [
                          0.9851035955,
                          0.06121690256
                        ],
                        "passed_time": 30.18338285,
                        "remaining_time": 21.41214339,
                        "test": [
                          0.9315529623,
                          0.1972041021
                        ]
                      },
                      {
                        "iteration": 585,
                        "learn": [
                          0.984958028,
                          0.0611782216
                        ],
                        "passed_time": 30.23034214,
                        "remaining_time": 21.35727243,
                        "test": [
                          0.9315529623,
                          0.1972224899
                        ]
                      },
                      {
                        "iteration": 586,
                        "learn": [
                          0.985055073,
                          0.0610808408
                        ],
                        "passed_time": 30.29062378,
                        "remaining_time": 21.31180174,
                        "test": [
                          0.9317773788,
                          0.1972582268
                        ]
                      },
                      {
                        "iteration": 587,
                        "learn": [
                          0.9850065505,
                          0.06099623327
                        ],
                        "passed_time": 30.34469037,
                        "remaining_time": 21.26192591,
                        "test": [
                          0.9317773788,
                          0.1972338017
                        ]
                      },
                      {
                        "iteration": 588,
                        "learn": [
                          0.985152118,
                          0.06092783992
                        ],
                        "passed_time": 30.39516031,
                        "remaining_time": 21.20952612,
                        "test": [
                          0.9320017953,
                          0.1972329947
                        ]
                      },
                      {
                        "iteration": 589,
                        "learn": [
                          0.9852006405,
                          0.06081886437
                        ],
                        "passed_time": 30.44864104,
                        "remaining_time": 21.15922513,
                        "test": [
                          0.9328994614,
                          0.1972601049
                        ]
                      },
                      {
                        "iteration": 590,
                        "learn": [
                          0.9852006405,
                          0.06073093987
                        ],
                        "passed_time": 30.49331202,
                        "remaining_time": 21.10281661,
                        "test": [
                          0.9326750449,
                          0.1972367227
                        ]
                      },
                      {
                        "iteration": 591,
                        "learn": [
                          0.9852976855,
                          0.06067741058
                        ],
                        "passed_time": 30.54045139,
                        "remaining_time": 21.04814893,
                        "test": [
                          0.9326750449,
                          0.19730464
                        ]
                      },
                      {
                        "iteration": 592,
                        "learn": [
                          0.9852006405,
                          0.060516704
                        ],
                        "passed_time": 30.59443702,
                        "remaining_time": 20.99820551,
                        "test": [
                          0.9326750449,
                          0.1972098732
                        ]
                      },
                      {
                        "iteration": 593,
                        "learn": [
                          0.9852006405,
                          0.06041607638
                        ],
                        "passed_time": 30.67495552,
                        "remaining_time": 20.96638374,
                        "test": [
                          0.9328994614,
                          0.1972172875
                        ]
                      },
                      {
                        "iteration": 594,
                        "learn": [
                          0.9853947305,
                          0.06030084981
                        ],
                        "passed_time": 30.75677996,
                        "remaining_time": 20.9352872,
                        "test": [
                          0.9326750449,
                          0.1971430237
                        ]
                      },
                      {
                        "iteration": 595,
                        "learn": [
                          0.9853947305,
                          0.06026431608
                        ],
                        "passed_time": 30.79954686,
                        "remaining_time": 20.87754519,
                        "test": [
                          0.9326750449,
                          0.1971169222
                        ]
                      },
                      {
                        "iteration": 596,
                        "learn": [
                          0.9854917754,
                          0.06024018291
                        ],
                        "passed_time": 30.84479197,
                        "remaining_time": 20.82152624,
                        "test": [
                          0.9326750449,
                          0.1970946216
                        ]
                      },
                      {
                        "iteration": 597,
                        "learn": [
                          0.9855402979,
                          0.06014780523
                        ],
                        "passed_time": 30.89632509,
                        "remaining_time": 20.76977038,
                        "test": [
                          0.9328994614,
                          0.1970996668
                        ]
                      },
                      {
                        "iteration": 598,
                        "learn": [
                          0.9857829104,
                          0.06003664228
                        ],
                        "passed_time": 30.95049715,
                        "remaining_time": 20.7197819,
                        "test": [
                          0.9322262118,
                          0.1970155669
                        ]
                      },
                      {
                        "iteration": 599,
                        "learn": [
                          0.9857829104,
                          0.05998413791
                        ],
                        "passed_time": 30.99952935,
                        "remaining_time": 20.6663529,
                        "test": [
                          0.9322262118,
                          0.1970215295
                        ]
                      },
                      {
                        "iteration": 600,
                        "learn": [
                          0.9859284778,
                          0.05993759849
                        ],
                        "passed_time": 31.0459711,
                        "remaining_time": 20.61121875,
                        "test": [
                          0.9326750449,
                          0.1969531881
                        ]
                      },
                      {
                        "iteration": 601,
                        "learn": [
                          0.9859284778,
                          0.05987095264
                        ],
                        "passed_time": 31.09496599,
                        "remaining_time": 20.55780143,
                        "test": [
                          0.9328994614,
                          0.1968007502
                        ]
                      },
                      {
                        "iteration": 602,
                        "learn": [
                          0.9859770003,
                          0.05977635048
                        ],
                        "passed_time": 31.14255751,
                        "remaining_time": 20.50347485,
                        "test": [
                          0.9331238779,
                          0.1969464605
                        ]
                      },
                      {
                        "iteration": 603,
                        "learn": [
                          0.9859770003,
                          0.05973400617
                        ],
                        "passed_time": 31.19135783,
                        "remaining_time": 20.44996308,
                        "test": [
                          0.9331238779,
                          0.1969113751
                        ]
                      },
                      {
                        "iteration": 604,
                        "learn": [
                          0.9859770003,
                          0.0596726324
                        ],
                        "passed_time": 31.24079745,
                        "remaining_time": 20.39688429,
                        "test": [
                          0.9328994614,
                          0.1969242044
                        ]
                      },
                      {
                        "iteration": 605,
                        "learn": [
                          0.9860255228,
                          0.05954469271
                        ],
                        "passed_time": 31.30353225,
                        "remaining_time": 20.35246156,
                        "test": [
                          0.9322262118,
                          0.1969405418
                        ]
                      },
                      {
                        "iteration": 606,
                        "learn": [
                          0.9862681353,
                          0.05942481647
                        ],
                        "passed_time": 31.3555887,
                        "remaining_time": 20.30106484,
                        "test": [
                          0.9320017953,
                          0.1967761071
                        ]
                      },
                      {
                        "iteration": 607,
                        "learn": [
                          0.9862196128,
                          0.0593748915
                        ],
                        "passed_time": 31.40360585,
                        "remaining_time": 20.24706166,
                        "test": [
                          0.9324506284,
                          0.1968163734
                        ]
                      },
                      {
                        "iteration": 608,
                        "learn": [
                          0.9865107477,
                          0.05924713723
                        ],
                        "passed_time": 31.45531093,
                        "remaining_time": 20.19544594,
                        "test": [
                          0.9326750449,
                          0.1966412261
                        ]
                      },
                      {
                        "iteration": 609,
                        "learn": [
                          0.9865592702,
                          0.05918979763
                        ],
                        "passed_time": 31.50070988,
                        "remaining_time": 20.13979812,
                        "test": [
                          0.9324506284,
                          0.1965504502
                        ]
                      },
                      {
                        "iteration": 610,
                        "learn": [
                          0.9865107477,
                          0.05906957205
                        ],
                        "passed_time": 31.55273577,
                        "remaining_time": 20.08840297,
                        "test": [
                          0.9320017953,
                          0.1965519411
                        ]
                      },
                      {
                        "iteration": 611,
                        "learn": [
                          0.9865107477,
                          0.05892398549
                        ],
                        "passed_time": 31.60206984,
                        "remaining_time": 20.03529918,
                        "test": [
                          0.9317773788,
                          0.1968038593
                        ]
                      },
                      {
                        "iteration": 612,
                        "learn": [
                          0.9865592702,
                          0.05888504022
                        ],
                        "passed_time": 31.65057864,
                        "remaining_time": 19.98168668,
                        "test": [
                          0.9320017953,
                          0.1968603143
                        ]
                      },
                      {
                        "iteration": 613,
                        "learn": [
                          0.9865592702,
                          0.05878256716
                        ],
                        "passed_time": 31.73047707,
                        "remaining_time": 19.94782435,
                        "test": [
                          0.9320017953,
                          0.1967721382
                        ]
                      },
                      {
                        "iteration": 614,
                        "learn": [
                          0.9866077927,
                          0.05868484849
                        ],
                        "passed_time": 31.80006357,
                        "remaining_time": 19.90735687,
                        "test": [
                          0.9317773788,
                          0.1968128493
                        ]
                      },
                      {
                        "iteration": 615,
                        "learn": [
                          0.9867533602,
                          0.05854000005
                        ],
                        "passed_time": 31.85576436,
                        "remaining_time": 19.85813882,
                        "test": [
                          0.9320017953,
                          0.1968128983
                        ]
                      },
                      {
                        "iteration": 616,
                        "learn": [
                          0.9867533602,
                          0.05849273535
                        ],
                        "passed_time": 31.89948185,
                        "remaining_time": 19.80146118,
                        "test": [
                          0.9317773788,
                          0.1968155684
                        ]
                      },
                      {
                        "iteration": 617,
                        "learn": [
                          0.9867533602,
                          0.05841901757
                        ],
                        "passed_time": 31.94636014,
                        "remaining_time": 19.74677924,
                        "test": [
                          0.9317773788,
                          0.1968296341
                        ]
                      },
                      {
                        "iteration": 618,
                        "learn": [
                          0.9868018827,
                          0.05831102072
                        ],
                        "passed_time": 31.99336351,
                        "remaining_time": 19.69219951,
                        "test": [
                          0.9315529623,
                          0.1968713183
                        ]
                      },
                      {
                        "iteration": 619,
                        "learn": [
                          0.9869959726,
                          0.05814051531
                        ],
                        "passed_time": 32.04154347,
                        "remaining_time": 19.63836536,
                        "test": [
                          0.9313285458,
                          0.19707495
                        ]
                      },
                      {
                        "iteration": 620,
                        "learn": [
                          0.9869474501,
                          0.0580547746
                        ],
                        "passed_time": 32.09143876,
                        "remaining_time": 19.58559628,
                        "test": [
                          0.9313285458,
                          0.1971818025
                        ]
                      },
                      {
                        "iteration": 621,
                        "learn": [
                          0.9870444951,
                          0.05797613719
                        ],
                        "passed_time": 32.14754364,
                        "remaining_time": 19.53661012,
                        "test": [
                          0.9315529623,
                          0.1972395109
                        ]
                      },
                      {
                        "iteration": 622,
                        "learn": [
                          0.9869959726,
                          0.05788543357
                        ],
                        "passed_time": 32.19721968,
                        "remaining_time": 19.48371079,
                        "test": [
                          0.9313285458,
                          0.1973006724
                        ]
                      },
                      {
                        "iteration": 623,
                        "learn": [
                          0.9869474501,
                          0.05777002855
                        ],
                        "passed_time": 32.25066646,
                        "remaining_time": 19.43309389,
                        "test": [
                          0.9315529623,
                          0.1973044612
                        ]
                      },
                      {
                        "iteration": 624,
                        "learn": [
                          0.9869474501,
                          0.05770455778
                        ],
                        "passed_time": 32.30220511,
                        "remaining_time": 19.38132307,
                        "test": [
                          0.9315529623,
                          0.1972965909
                        ]
                      },
                      {
                        "iteration": 625,
                        "learn": [
                          0.9869959726,
                          0.0575984663
                        ],
                        "passed_time": 32.36676149,
                        "remaining_time": 19.33733034,
                        "test": [
                          0.9317773788,
                          0.1974885099
                        ]
                      },
                      {
                        "iteration": 626,
                        "learn": [
                          0.9870930176,
                          0.05752322609
                        ],
                        "passed_time": 32.41451755,
                        "remaining_time": 19.28327759,
                        "test": [
                          0.9317773788,
                          0.1974751835
                        ]
                      },
                      {
                        "iteration": 627,
                        "learn": [
                          0.9871415401,
                          0.05746789736
                        ],
                        "passed_time": 32.46380514,
                        "remaining_time": 19.23015209,
                        "test": [
                          0.9322262118,
                          0.1973987291
                        ]
                      },
                      {
                        "iteration": 628,
                        "learn": [
                          0.9869959726,
                          0.05738289
                        ],
                        "passed_time": 32.51342664,
                        "remaining_time": 19.17723575,
                        "test": [
                          0.9320017953,
                          0.1975193944
                        ]
                      },
                      {
                        "iteration": 629,
                        "learn": [
                          0.9869959726,
                          0.05731104012
                        ],
                        "passed_time": 32.56346294,
                        "remaining_time": 19.12457348,
                        "test": [
                          0.9320017953,
                          0.1976080591
                        ]
                      },
                      {
                        "iteration": 630,
                        "learn": [
                          0.9872385851,
                          0.05719767008
                        ],
                        "passed_time": 32.63385716,
                        "remaining_time": 19.08382455,
                        "test": [
                          0.9317773788,
                          0.1976578131
                        ]
                      },
                      {
                        "iteration": 631,
                        "learn": [
                          0.9871415401,
                          0.05714375156
                        ],
                        "passed_time": 32.68140239,
                        "remaining_time": 19.02967734,
                        "test": [
                          0.9315529623,
                          0.1977408112
                        ]
                      },
                      {
                        "iteration": 632,
                        "learn": [
                          0.9871900626,
                          0.05704113707
                        ],
                        "passed_time": 32.7371236,
                        "remaining_time": 18.98029125,
                        "test": [
                          0.9317773788,
                          0.1977091745
                        ]
                      },
                      {
                        "iteration": 633,
                        "learn": [
                          0.9870444951,
                          0.05695352825
                        ],
                        "passed_time": 32.84240268,
                        "remaining_time": 18.95949429,
                        "test": [
                          0.9322262118,
                          0.1977461675
                        ]
                      },
                      {
                        "iteration": 634,
                        "learn": [
                          0.9871900626,
                          0.05688266208
                        ],
                        "passed_time": 32.89205532,
                        "remaining_time": 18.90645699,
                        "test": [
                          0.9322262118,
                          0.1977359293
                        ]
                      },
                      {
                        "iteration": 635,
                        "learn": [
                          0.9871415401,
                          0.05681281873
                        ],
                        "passed_time": 32.93944017,
                        "remaining_time": 18.85213243,
                        "test": [
                          0.9322262118,
                          0.1978084524
                        ]
                      },
                      {
                        "iteration": 636,
                        "learn": [
                          0.9872385851,
                          0.05662636629
                        ],
                        "passed_time": 32.99218068,
                        "remaining_time": 18.80088161,
                        "test": [
                          0.9328994614,
                          0.1976731935
                        ]
                      },
                      {
                        "iteration": 637,
                        "learn": [
                          0.9874811975,
                          0.05654926644
                        ],
                        "passed_time": 33.04377151,
                        "remaining_time": 18.7489738,
                        "test": [
                          0.9328994614,
                          0.1976314137
                        ]
                      },
                      {
                        "iteration": 638,
                        "learn": [
                          0.9874811975,
                          0.05646780236
                        ],
                        "passed_time": 33.0954821,
                        "remaining_time": 18.69713464,
                        "test": [
                          0.9326750449,
                          0.1976083756
                        ]
                      },
                      {
                        "iteration": 639,
                        "learn": [
                          0.9875782425,
                          0.0564034247
                        ],
                        "passed_time": 33.14578834,
                        "remaining_time": 18.64450594,
                        "test": [
                          0.9328994614,
                          0.1975192256
                        ]
                      },
                      {
                        "iteration": 640,
                        "learn": [
                          0.9875782425,
                          0.05635471903
                        ],
                        "passed_time": 33.20041717,
                        "remaining_time": 18.59430541,
                        "test": [
                          0.9328994614,
                          0.19751184
                        ]
                      },
                      {
                        "iteration": 641,
                        "learn": [
                          0.9877723325,
                          0.05624657327
                        ],
                        "passed_time": 33.2525069,
                        "remaining_time": 18.54267519,
                        "test": [
                          0.9328994614,
                          0.1975819096
                        ]
                      },
                      {
                        "iteration": 642,
                        "learn": [
                          0.987820855,
                          0.05619133976
                        ],
                        "passed_time": 33.30111313,
                        "remaining_time": 18.48910947,
                        "test": [
                          0.9328994614,
                          0.1975502971
                        ]
                      },
                      {
                        "iteration": 643,
                        "learn": [
                          0.9878693775,
                          0.05613587062
                        ],
                        "passed_time": 33.36655046,
                        "remaining_time": 18.4448633,
                        "test": [
                          0.9331238779,
                          0.1975384361
                        ]
                      },
                      {
                        "iteration": 644,
                        "learn": [
                          0.9878693775,
                          0.05608022055
                        ],
                        "passed_time": 33.41403644,
                        "remaining_time": 18.39067122,
                        "test": [
                          0.9333482944,
                          0.1976649572
                        ]
                      },
                      {
                        "iteration": 645,
                        "learn": [
                          0.987820855,
                          0.05600920917
                        ],
                        "passed_time": 33.46365797,
                        "remaining_time": 18.33767016,
                        "test": [
                          0.9331238779,
                          0.1976487554
                        ]
                      },
                      {
                        "iteration": 646,
                        "learn": [
                          0.9878693775,
                          0.0559323487
                        ],
                        "passed_time": 33.51555179,
                        "remaining_time": 18.28591929,
                        "test": [
                          0.9331238779,
                          0.1976678312
                        ]
                      },
                      {
                        "iteration": 647,
                        "learn": [
                          0.987820855,
                          0.05586893288
                        ],
                        "passed_time": 33.5637077,
                        "remaining_time": 18.23213752,
                        "test": [
                          0.9328994614,
                          0.1977351462
                        ]
                      },
                      {
                        "iteration": 648,
                        "learn": [
                          0.987820855,
                          0.05582475825
                        ],
                        "passed_time": 33.60825962,
                        "remaining_time": 18.17642392,
                        "test": [
                          0.9328994614,
                          0.1977285396
                        ]
                      },
                      {
                        "iteration": 649,
                        "learn": [
                          0.9877723325,
                          0.05572720807
                        ],
                        "passed_time": 33.6588622,
                        "remaining_time": 18.12400272,
                        "test": [
                          0.9322262118,
                          0.1977750642
                        ]
                      },
                      {
                        "iteration": 650,
                        "learn": [
                          0.9877723325,
                          0.05566812262
                        ],
                        "passed_time": 33.70334967,
                        "remaining_time": 18.06830881,
                        "test": [
                          0.9315529623,
                          0.19789345
                        ]
                      },
                      {
                        "iteration": 651,
                        "learn": [
                          0.987820855,
                          0.05563183781
                        ],
                        "passed_time": 33.75168662,
                        "remaining_time": 18.0147039,
                        "test": [
                          0.9317773788,
                          0.1979405358
                        ]
                      },
                      {
                        "iteration": 652,
                        "learn": [
                          0.987820855,
                          0.05555546732
                        ],
                        "passed_time": 33.81082611,
                        "remaining_time": 17.96685553,
                        "test": [
                          0.9317773788,
                          0.1978993839
                        ]
                      },
                      {
                        "iteration": 653,
                        "learn": [
                          0.9877723325,
                          0.0554628449
                        ],
                        "passed_time": 33.90686573,
                        "remaining_time": 17.93849472,
                        "test": [
                          0.9313285458,
                          0.1978890482
                        ]
                      },
                      {
                        "iteration": 654,
                        "learn": [
                          0.9878693775,
                          0.05534864255
                        ],
                        "passed_time": 33.96406857,
                        "remaining_time": 17.88947123,
                        "test": [
                          0.9317773788,
                          0.197917537
                        ]
                      },
                      {
                        "iteration": 655,
                        "learn": [
                          0.9880149449,
                          0.05524503442
                        ],
                        "passed_time": 34.00976547,
                        "remaining_time": 17.83438921,
                        "test": [
                          0.9322262118,
                          0.1979623203
                        ]
                      },
                      {
                        "iteration": 656,
                        "learn": [
                          0.9879178999,
                          0.05510418666
                        ],
                        "passed_time": 34.06291461,
                        "remaining_time": 17.78322635,
                        "test": [
                          0.9322262118,
                          0.1980153125
                        ]
                      },
                      {
                        "iteration": 657,
                        "learn": [
                          0.9879178999,
                          0.05504080203
                        ],
                        "passed_time": 34.10866609,
                        "remaining_time": 17.72821247,
                        "test": [
                          0.9324506284,
                          0.1979686912
                        ]
                      },
                      {
                        "iteration": 658,
                        "learn": [
                          0.9879664224,
                          0.05499451393
                        ],
                        "passed_time": 34.15368279,
                        "remaining_time": 17.67284648,
                        "test": [
                          0.9324506284,
                          0.1979543975
                        ]
                      },
                      {
                        "iteration": 659,
                        "learn": [
                          0.9880149449,
                          0.05492270488
                        ],
                        "passed_time": 34.20001488,
                        "remaining_time": 17.61818948,
                        "test": [
                          0.9322262118,
                          0.1980716654
                        ]
                      },
                      {
                        "iteration": 660,
                        "learn": [
                          0.9879664224,
                          0.05489234918
                        ],
                        "passed_time": 34.24979563,
                        "remaining_time": 17.56532635,
                        "test": [
                          0.9324506284,
                          0.1980288811
                        ]
                      },
                      {
                        "iteration": 661,
                        "learn": [
                          0.9880634674,
                          0.05477047416
                        ],
                        "passed_time": 34.30200551,
                        "remaining_time": 17.51371278,
                        "test": [
                          0.9322262118,
                          0.1982615714
                        ]
                      },
                      {
                        "iteration": 662,
                        "learn": [
                          0.9881119899,
                          0.05472214113
                        ],
                        "passed_time": 34.35166039,
                        "remaining_time": 17.46079872,
                        "test": [
                          0.9320017953,
                          0.1982496739
                        ]
                      },
                      {
                        "iteration": 663,
                        "learn": [
                          0.9880634674,
                          0.05465620173
                        ],
                        "passed_time": 34.4071113,
                        "remaining_time": 17.41082741,
                        "test": [
                          0.9320017953,
                          0.1983756006
                        ]
                      },
                      {
                        "iteration": 664,
                        "learn": [
                          0.9880634674,
                          0.05459637999
                        ],
                        "passed_time": 34.45586416,
                        "remaining_time": 17.3574654,
                        "test": [
                          0.9317773788,
                          0.1984724416
                        ]
                      },
                      {
                        "iteration": 665,
                        "learn": [
                          0.9879664224,
                          0.05443409054
                        ],
                        "passed_time": 34.50655763,
                        "remaining_time": 17.30509046,
                        "test": [
                          0.9315529623,
                          0.1984577356
                        ]
                      },
                      {
                        "iteration": 666,
                        "learn": [
                          0.9880634674,
                          0.05437988132
                        ],
                        "passed_time": 34.55251734,
                        "remaining_time": 17.25035723,
                        "test": [
                          0.9315529623,
                          0.1984676121
                        ]
                      },
                      {
                        "iteration": 667,
                        "learn": [
                          0.9879664224,
                          0.0543090795
                        ],
                        "passed_time": 34.6043329,
                        "remaining_time": 17.19856066,
                        "test": [
                          0.9317773788,
                          0.1985331314
                        ]
                      },
                      {
                        "iteration": 668,
                        "learn": [
                          0.9880149449,
                          0.05426198066
                        ],
                        "passed_time": 34.65913022,
                        "remaining_time": 17.14823932,
                        "test": [
                          0.9320017953,
                          0.1985764474
                        ]
                      },
                      {
                        "iteration": 669,
                        "learn": [
                          0.9879664224,
                          0.05419766258
                        ],
                        "passed_time": 34.71057395,
                        "remaining_time": 17.09625284,
                        "test": [
                          0.9315529623,
                          0.1985982253
                        ]
                      },
                      {
                        "iteration": 670,
                        "learn": [
                          0.9879664224,
                          0.05408528815
                        ],
                        "passed_time": 34.75737965,
                        "remaining_time": 17.0419939,
                        "test": [
                          0.9320017953,
                          0.1985274203
                        ]
                      },
                      {
                        "iteration": 671,
                        "learn": [
                          0.9880634674,
                          0.05395825529
                        ],
                        "passed_time": 34.80671858,
                        "remaining_time": 16.98899359,
                        "test": [
                          0.9320017953,
                          0.1985786259
                        ]
                      },
                      {
                        "iteration": 672,
                        "learn": [
                          0.9883060799,
                          0.05389357887
                        ],
                        "passed_time": 34.89016204,
                        "remaining_time": 16.95257502,
                        "test": [
                          0.9320017953,
                          0.1986331709
                        ]
                      },
                      {
                        "iteration": 673,
                        "learn": [
                          0.9882575574,
                          0.05380718655
                        ],
                        "passed_time": 34.96937086,
                        "remaining_time": 16.91396869,
                        "test": [
                          0.9322262118,
                          0.198613002
                        ]
                      },
                      {
                        "iteration": 674,
                        "learn": [
                          0.9882575574,
                          0.05376021283
                        ],
                        "passed_time": 35.0159408,
                        "remaining_time": 16.85952705,
                        "test": [
                          0.9322262118,
                          0.1985636264
                        ]
                      },
                      {
                        "iteration": 675,
                        "learn": [
                          0.9884031248,
                          0.0536635033
                        ],
                        "passed_time": 35.06437003,
                        "remaining_time": 16.80599984,
                        "test": [
                          0.9317773788,
                          0.1985864439
                        ]
                      },
                      {
                        "iteration": 676,
                        "learn": [
                          0.9884516473,
                          0.05358935174
                        ],
                        "passed_time": 35.10939318,
                        "remaining_time": 16.75086263,
                        "test": [
                          0.9320017953,
                          0.198570352
                        ]
                      },
                      {
                        "iteration": 677,
                        "learn": [
                          0.9884031248,
                          0.05345760375
                        ],
                        "passed_time": 35.15880095,
                        "remaining_time": 16.69783762,
                        "test": [
                          0.9333482944,
                          0.1984786959
                        ]
                      },
                      {
                        "iteration": 678,
                        "learn": [
                          0.9884516473,
                          0.05338414149
                        ],
                        "passed_time": 35.20456946,
                        "remaining_time": 16.64310279,
                        "test": [
                          0.9331238779,
                          0.1986442802
                        ]
                      },
                      {
                        "iteration": 679,
                        "learn": [
                          0.9884516473,
                          0.05333747418
                        ],
                        "passed_time": 35.25651737,
                        "remaining_time": 16.59130229,
                        "test": [
                          0.9333482944,
                          0.1986055661
                        ]
                      },
                      {
                        "iteration": 680,
                        "learn": [
                          0.9884516473,
                          0.05323357762
                        ],
                        "passed_time": 35.31423466,
                        "remaining_time": 16.5422039,
                        "test": [
                          0.933572711,
                          0.198695158
                        ]
                      },
                      {
                        "iteration": 681,
                        "learn": [
                          0.9885001698,
                          0.05317189049
                        ],
                        "passed_time": 35.36248924,
                        "remaining_time": 16.488668,
                        "test": [
                          0.933572711,
                          0.198639104
                        ]
                      },
                      {
                        "iteration": 682,
                        "learn": [
                          0.9885486923,
                          0.053120191
                        ],
                        "passed_time": 35.42749224,
                        "remaining_time": 16.442921,
                        "test": [
                          0.933572711,
                          0.1986526305
                        ]
                      },
                      {
                        "iteration": 683,
                        "learn": [
                          0.9885486923,
                          0.05309381467
                        ],
                        "passed_time": 35.47535682,
                        "remaining_time": 16.38919994,
                        "test": [
                          0.933572711,
                          0.1986752293
                        ]
                      },
                      {
                        "iteration": 684,
                        "learn": [
                          0.9886942598,
                          0.05301606325
                        ],
                        "passed_time": 35.51887494,
                        "remaining_time": 16.33349723,
                        "test": [
                          0.9337971275,
                          0.1986676462
                        ]
                      },
                      {
                        "iteration": 685,
                        "learn": [
                          0.9885486923,
                          0.05297443032
                        ],
                        "passed_time": 35.57214064,
                        "remaining_time": 16.28229178,
                        "test": [
                          0.9337971275,
                          0.1987076343
                        ]
                      },
                      {
                        "iteration": 686,
                        "learn": [
                          0.9885486923,
                          0.05292894289
                        ],
                        "passed_time": 35.61708204,
                        "remaining_time": 16.22728774,
                        "test": [
                          0.9337971275,
                          0.1987047255
                        ]
                      },
                      {
                        "iteration": 687,
                        "learn": [
                          0.9886942598,
                          0.05286453379
                        ],
                        "passed_time": 35.66362042,
                        "remaining_time": 16.17303717,
                        "test": [
                          0.933572711,
                          0.1986800237
                        ]
                      },
                      {
                        "iteration": 688,
                        "learn": [
                          0.9886942598,
                          0.05274610037
                        ],
                        "passed_time": 35.71339804,
                        "remaining_time": 16.12027111,
                        "test": [
                          0.933572711,
                          0.1987915577
                        ]
                      },
                      {
                        "iteration": 689,
                        "learn": [
                          0.9887913048,
                          0.05266301824
                        ],
                        "passed_time": 35.76313779,
                        "remaining_time": 16.06749669,
                        "test": [
                          0.9333482944,
                          0.1988218624
                        ]
                      },
                      {
                        "iteration": 690,
                        "learn": [
                          0.9889368722,
                          0.05257750978
                        ],
                        "passed_time": 35.81575248,
                        "remaining_time": 16.01601667,
                        "test": [
                          0.9333482944,
                          0.1988854016
                        ]
                      },
                      {
                        "iteration": 691,
                        "learn": [
                          0.9889853947,
                          0.05248483841
                        ],
                        "passed_time": 35.86041011,
                        "remaining_time": 15.96099178,
                        "test": [
                          0.933572711,
                          0.1988806187
                        ]
                      },
                      {
                        "iteration": 692,
                        "learn": [
                          0.9890339172,
                          0.05244569592
                        ],
                        "passed_time": 35.94033084,
                        "remaining_time": 15.92161843,
                        "test": [
                          0.9333482944,
                          0.1988906549
                        ]
                      },
                      {
                        "iteration": 693,
                        "learn": [
                          0.9890824397,
                          0.05240646376
                        ],
                        "passed_time": 36.02005281,
                        "remaining_time": 15.88204058,
                        "test": [
                          0.9333482944,
                          0.1989050097
                        ]
                      },
                      {
                        "iteration": 694,
                        "learn": [
                          0.9890824397,
                          0.05232575756
                        ],
                        "passed_time": 36.06666055,
                        "remaining_time": 15.82781506,
                        "test": [
                          0.9337971275,
                          0.1989981036
                        ]
                      },
                      {
                        "iteration": 695,
                        "learn": [
                          0.9890339172,
                          0.05225962865
                        ],
                        "passed_time": 36.11876541,
                        "remaining_time": 15.77601248,
                        "test": [
                          0.9337971275,
                          0.1989686821
                        ]
                      },
                      {
                        "iteration": 696,
                        "learn": [
                          0.9891794847,
                          0.05220932763
                        ],
                        "passed_time": 36.17059852,
                        "remaining_time": 15.72409089,
                        "test": [
                          0.934021544,
                          0.1990212344
                        ]
                      },
                      {
                        "iteration": 697,
                        "learn": [
                          0.9892280072,
                          0.05209356272
                        ],
                        "passed_time": 36.21976671,
                        "remaining_time": 15.67101654,
                        "test": [
                          0.9337971275,
                          0.1990784574
                        ]
                      },
                      {
                        "iteration": 698,
                        "learn": [
                          0.9893250522,
                          0.05206355131
                        ],
                        "passed_time": 36.27076529,
                        "remaining_time": 15.61874156,
                        "test": [
                          0.933572711,
                          0.1990565637
                        ]
                      },
                      {
                        "iteration": 699,
                        "learn": [
                          0.9891794847,
                          0.0519723724
                        ],
                        "passed_time": 36.32567298,
                        "remaining_time": 15.56814556,
                        "test": [
                          0.9337971275,
                          0.1990809607
                        ]
                      },
                      {
                        "iteration": 700,
                        "learn": [
                          0.9890339172,
                          0.05192630747
                        ],
                        "passed_time": 36.37830494,
                        "remaining_time": 15.51656659,
                        "test": [
                          0.9337971275,
                          0.1991005397
                        ]
                      },
                      {
                        "iteration": 701,
                        "learn": [
                          0.9890339172,
                          0.05186313545
                        ],
                        "passed_time": 36.4462171,
                        "remaining_time": 15.47147108,
                        "test": [
                          0.9337971275,
                          0.199027286
                        ]
                      },
                      {
                        "iteration": 702,
                        "learn": [
                          0.9891309622,
                          0.05176513744
                        ],
                        "passed_time": 36.49604636,
                        "remaining_time": 15.41867108,
                        "test": [
                          0.933572711,
                          0.1990965565
                        ]
                      },
                      {
                        "iteration": 703,
                        "learn": [
                          0.9891309622,
                          0.05171510802
                        ],
                        "passed_time": 36.54618987,
                        "remaining_time": 15.36601165,
                        "test": [
                          0.9337971275,
                          0.199145284
                        ]
                      },
                      {
                        "iteration": 704,
                        "learn": [
                          0.9890339172,
                          0.05160689178
                        ],
                        "passed_time": 36.59679761,
                        "remaining_time": 15.31355361,
                        "test": [
                          0.9337971275,
                          0.1991070361
                        ]
                      },
                      {
                        "iteration": 705,
                        "learn": [
                          0.9891309622,
                          0.05149468513
                        ],
                        "passed_time": 36.64943094,
                        "remaining_time": 15.26194433,
                        "test": [
                          0.9337971275,
                          0.1990062738
                        ]
                      },
                      {
                        "iteration": 706,
                        "learn": [
                          0.9890824397,
                          0.05143327991
                        ],
                        "passed_time": 36.69730659,
                        "remaining_time": 15.20836044,
                        "test": [
                          0.933572711,
                          0.1991843962
                        ]
                      },
                      {
                        "iteration": 707,
                        "learn": [
                          0.9892765297,
                          0.05134954265
                        ],
                        "passed_time": 36.74586662,
                        "remaining_time": 15.15507493,
                        "test": [
                          0.9333482944,
                          0.1991593338
                        ]
                      },
                      {
                        "iteration": 708,
                        "learn": [
                          0.9892765297,
                          0.05126198116
                        ],
                        "passed_time": 36.79430495,
                        "remaining_time": 15.10175281,
                        "test": [
                          0.9333482944,
                          0.1992761215
                        ]
                      },
                      {
                        "iteration": 709,
                        "learn": [
                          0.9894220971,
                          0.05119860334
                        ],
                        "passed_time": 36.84085433,
                        "remaining_time": 15.04767289,
                        "test": [
                          0.9333482944,
                          0.1992971327
                        ]
                      },
                      {
                        "iteration": 710,
                        "learn": [
                          0.9894220971,
                          0.05113210262
                        ],
                        "passed_time": 36.88857469,
                        "remaining_time": 14.99409013,
                        "test": [
                          0.9328994614,
                          0.1993164357
                        ]
                      },
                      {
                        "iteration": 711,
                        "learn": [
                          0.9893735747,
                          0.05109896175
                        ],
                        "passed_time": 36.93626953,
                        "remaining_time": 14.94051352,
                        "test": [
                          0.9331238779,
                          0.1992733707
                        ]
                      },
                      {
                        "iteration": 712,
                        "learn": [
                          0.9894706196,
                          0.05102077293
                        ],
                        "passed_time": 37.04253635,
                        "remaining_time": 14.91053006,
                        "test": [
                          0.9326750449,
                          0.1992520834
                        ]
                      },
                      {
                        "iteration": 713,
                        "learn": [
                          0.9894706196,
                          0.05096823971
                        ],
                        "passed_time": 37.12369917,
                        "remaining_time": 14.87027726,
                        "test": [
                          0.9324506284,
                          0.1992136069
                        ]
                      },
                      {
                        "iteration": 714,
                        "learn": [
                          0.9893735747,
                          0.05093341312
                        ],
                        "passed_time": 37.17426229,
                        "remaining_time": 14.81771294,
                        "test": [
                          0.9326750449,
                          0.1992242744
                        ]
                      },
                      {
                        "iteration": 715,
                        "learn": [
                          0.9894706196,
                          0.05083228194
                        ],
                        "passed_time": 37.22357663,
                        "remaining_time": 14.76465889,
                        "test": [
                          0.9324506284,
                          0.1993106506
                        ]
                      },
                      {
                        "iteration": 716,
                        "learn": [
                          0.9895191421,
                          0.05077448275
                        ],
                        "passed_time": 37.27268864,
                        "remaining_time": 14.71153541,
                        "test": [
                          0.9326750449,
                          0.1994164406
                        ]
                      },
                      {
                        "iteration": 717,
                        "learn": [
                          0.9895191421,
                          0.05073962492
                        ],
                        "passed_time": 37.32062965,
                        "remaining_time": 14.65796318,
                        "test": [
                          0.9326750449,
                          0.199415985
                        ]
                      },
                      {
                        "iteration": 718,
                        "learn": [
                          0.9895191421,
                          0.05071668031
                        ],
                        "passed_time": 37.37132456,
                        "remaining_time": 14.6054829,
                        "test": [
                          0.9326750449,
                          0.1994239691
                        ]
                      },
                      {
                        "iteration": 719,
                        "learn": [
                          0.9895676646,
                          0.05066157712
                        ],
                        "passed_time": 37.43360365,
                        "remaining_time": 14.55751253,
                        "test": [
                          0.9326750449,
                          0.1994263425
                        ]
                      },
                      {
                        "iteration": 720,
                        "learn": [
                          0.9897132321,
                          0.05053577221
                        ],
                        "passed_time": 37.48821996,
                        "remaining_time": 14.50653726,
                        "test": [
                          0.9324506284,
                          0.1994541743
                        ]
                      },
                      {
                        "iteration": 721,
                        "learn": [
                          0.9897617546,
                          0.05049501569
                        ],
                        "passed_time": 37.54145523,
                        "remaining_time": 14.45502016,
                        "test": [
                          0.9324506284,
                          0.1994482771
                        ]
                      },
                      {
                        "iteration": 722,
                        "learn": [
                          0.9897132321,
                          0.05040946398
                        ],
                        "passed_time": 37.59397558,
                        "remaining_time": 14.40322439,
                        "test": [
                          0.9326750449,
                          0.1993728243
                        ]
                      },
                      {
                        "iteration": 723,
                        "learn": [
                          0.9897617546,
                          0.0503183366
                        ],
                        "passed_time": 37.64688963,
                        "remaining_time": 14.35157671,
                        "test": [
                          0.9324506284,
                          0.1993836959
                        ]
                      },
                      {
                        "iteration": 724,
                        "learn": [
                          0.9897617546,
                          0.05026983737
                        ],
                        "passed_time": 37.69573825,
                        "remaining_time": 14.29838347,
                        "test": [
                          0.9324506284,
                          0.1993489671
                        ]
                      },
                      {
                        "iteration": 725,
                        "learn": [
                          0.9898102771,
                          0.05015629155
                        ],
                        "passed_time": 37.74525358,
                        "remaining_time": 14.24545383,
                        "test": [
                          0.9324506284,
                          0.1994786979
                        ]
                      },
                      {
                        "iteration": 726,
                        "learn": [
                          0.9898587996,
                          0.0501200077
                        ],
                        "passed_time": 37.79256136,
                        "remaining_time": 14.19170461,
                        "test": [
                          0.9322262118,
                          0.1995673212
                        ]
                      },
                      {
                        "iteration": 727,
                        "learn": [
                          0.9899558445,
                          0.05004932085
                        ],
                        "passed_time": 37.8429022,
                        "remaining_time": 14.13910632,
                        "test": [
                          0.9322262118,
                          0.1995279544
                        ]
                      },
                      {
                        "iteration": 728,
                        "learn": [
                          0.989907322,
                          0.05001344741
                        ],
                        "passed_time": 37.88861426,
                        "remaining_time": 14.0847935,
                        "test": [
                          0.9322262118,
                          0.1995970599
                        ]
                      },
                      {
                        "iteration": 729,
                        "learn": [
                          0.9899558445,
                          0.04996128533
                        ],
                        "passed_time": 37.93621496,
                        "remaining_time": 14.03120279,
                        "test": [
                          0.9322262118,
                          0.1996744785
                        ]
                      },
                      {
                        "iteration": 730,
                        "learn": [
                          0.9900528895,
                          0.04990102399
                        ],
                        "passed_time": 37.98606404,
                        "remaining_time": 13.97845585,
                        "test": [
                          0.9322262118,
                          0.1996161681
                        ]
                      },
                      {
                        "iteration": 731,
                        "learn": [
                          0.990101412,
                          0.04981423811
                        ],
                        "passed_time": 38.09190342,
                        "remaining_time": 13.94621601,
                        "test": [
                          0.9324506284,
                          0.1995374676
                        ]
                      },
                      {
                        "iteration": 732,
                        "learn": [
                          0.990101412,
                          0.04977388964
                        ],
                        "passed_time": 38.14931685,
                        "remaining_time": 13.89613588,
                        "test": [
                          0.9320017953,
                          0.1994806594
                        ]
                      },
                      {
                        "iteration": 733,
                        "learn": [
                          0.9900528895,
                          0.04974814549
                        ],
                        "passed_time": 38.19420782,
                        "remaining_time": 13.84149766,
                        "test": [
                          0.9320017953,
                          0.1995194093
                        ]
                      },
                      {
                        "iteration": 734,
                        "learn": [
                          0.9901499345,
                          0.04963011481
                        ],
                        "passed_time": 38.2469643,
                        "remaining_time": 13.78972182,
                        "test": [
                          0.9320017953,
                          0.1994760645
                        ]
                      },
                      {
                        "iteration": 735,
                        "learn": [
                          0.9901499345,
                          0.04958221284
                        ],
                        "passed_time": 38.29294934,
                        "remaining_time": 13.73551444,
                        "test": [
                          0.9317773788,
                          0.1995458364
                        ]
                      },
                      {
                        "iteration": 736,
                        "learn": [
                          0.990101412,
                          0.04954930556
                        ],
                        "passed_time": 38.33887602,
                        "remaining_time": 13.68130854,
                        "test": [
                          0.9317773788,
                          0.1996066331
                        ]
                      },
                      {
                        "iteration": 737,
                        "learn": [
                          0.990004367,
                          0.04944227117
                        ],
                        "passed_time": 38.3884116,
                        "remaining_time": 13.62840629,
                        "test": [
                          0.9320017953,
                          0.1995756708
                        ]
                      },
                      {
                        "iteration": 738,
                        "learn": [
                          0.9901499345,
                          0.04936335482
                        ],
                        "passed_time": 38.4436624,
                        "remaining_time": 13.57753165,
                        "test": [
                          0.9317773788,
                          0.1995132909
                        ]
                      },
                      {
                        "iteration": 739,
                        "learn": [
                          0.9901499345,
                          0.04928481744
                        ],
                        "passed_time": 38.50814049,
                        "remaining_time": 13.5298872,
                        "test": [
                          0.9320017953,
                          0.1996120891
                        ]
                      },
                      {
                        "iteration": 740,
                        "learn": [
                          0.990295502,
                          0.04924550796
                        ],
                        "passed_time": 38.55594551,
                        "remaining_time": 13.47636962,
                        "test": [
                          0.9320017953,
                          0.1995556342
                        ]
                      },
                      {
                        "iteration": 741,
                        "learn": [
                          0.9903925469,
                          0.04918562648
                        ],
                        "passed_time": 38.60737399,
                        "remaining_time": 13.42412734,
                        "test": [
                          0.9315529623,
                          0.1994138727
                        ]
                      },
                      {
                        "iteration": 742,
                        "learn": [
                          0.9903925469,
                          0.04914342241
                        ],
                        "passed_time": 38.65269067,
                        "remaining_time": 13.36977322,
                        "test": [
                          0.9320017953,
                          0.1994201809
                        ]
                      },
                      {
                        "iteration": 743,
                        "learn": [
                          0.9904410694,
                          0.04903974065
                        ],
                        "passed_time": 38.70072165,
                        "remaining_time": 13.31637734,
                        "test": [
                          0.9320017953,
                          0.1995553432
                        ]
                      },
                      {
                        "iteration": 744,
                        "learn": [
                          0.9903440245,
                          0.04900636105
                        ],
                        "passed_time": 38.75137711,
                        "remaining_time": 13.26389418,
                        "test": [
                          0.9320017953,
                          0.1996019944
                        ]
                      },
                      {
                        "iteration": 745,
                        "learn": [
                          0.9903440245,
                          0.04897136965
                        ],
                        "passed_time": 38.79694955,
                        "remaining_time": 13.20968524,
                        "test": [
                          0.9322262118,
                          0.1995437923
                        ]
                      },
                      {
                        "iteration": 746,
                        "learn": [
                          0.9903440245,
                          0.04892539784
                        ],
                        "passed_time": 38.84674923,
                        "remaining_time": 13.15693113,
                        "test": [
                          0.9320017953,
                          0.1995333896
                        ]
                      },
                      {
                        "iteration": 747,
                        "learn": [
                          0.9903925469,
                          0.04889661208
                        ],
                        "passed_time": 38.88922182,
                        "remaining_time": 13.10171644,
                        "test": [
                          0.9320017953,
                          0.1994674059
                        ]
                      },
                      {
                        "iteration": 748,
                        "learn": [
                          0.9904895919,
                          0.04883633666
                        ],
                        "passed_time": 38.93552938,
                        "remaining_time": 13.04782093,
                        "test": [
                          0.9317773788,
                          0.1995179202
                        ]
                      },
                      {
                        "iteration": 749,
                        "learn": [
                          0.9904895919,
                          0.04882410513
                        ],
                        "passed_time": 38.97681552,
                        "remaining_time": 12.99227184,
                        "test": [
                          0.9317773788,
                          0.1995010638
                        ]
                      },
                      {
                        "iteration": 750,
                        "learn": [
                          0.9905866369,
                          0.04865034938
                        ],
                        "passed_time": 39.03288399,
                        "remaining_time": 12.94166193,
                        "test": [
                          0.9315529623,
                          0.1996501526
                        ]
                      },
                      {
                        "iteration": 751,
                        "learn": [
                          0.9906351594,
                          0.0485423918
                        ],
                        "passed_time": 39.12110014,
                        "remaining_time": 12.90163941,
                        "test": [
                          0.9320017953,
                          0.1997292449
                        ]
                      },
                      {
                        "iteration": 752,
                        "learn": [
                          0.9905866369,
                          0.04850801179
                        ],
                        "passed_time": 39.19549846,
                        "remaining_time": 12.85695633,
                        "test": [
                          0.9322262118,
                          0.1998407543
                        ]
                      },
                      {
                        "iteration": 753,
                        "learn": [
                          0.9905866369,
                          0.04841862301
                        ],
                        "passed_time": 39.25029415,
                        "remaining_time": 12.80579889,
                        "test": [
                          0.9324506284,
                          0.1999419716
                        ]
                      },
                      {
                        "iteration": 754,
                        "learn": [
                          0.9905381144,
                          0.04831296062
                        ],
                        "passed_time": 39.2989214,
                        "remaining_time": 12.75263012,
                        "test": [
                          0.9328994614,
                          0.1998322491
                        ]
                      },
                      {
                        "iteration": 755,
                        "learn": [
                          0.9905381144,
                          0.04829246745
                        ],
                        "passed_time": 39.34985056,
                        "remaining_time": 12.70021632,
                        "test": [
                          0.9326750449,
                          0.1998276242
                        ]
                      },
                      {
                        "iteration": 756,
                        "learn": [
                          0.9905866369,
                          0.04825392118
                        ],
                        "passed_time": 39.40346385,
                        "remaining_time": 12.64866805,
                        "test": [
                          0.9328994614,
                          0.1999066767
                        ]
                      },
                      {
                        "iteration": 757,
                        "learn": [
                          0.9906351594,
                          0.0481725492
                        ],
                        "passed_time": 39.45105359,
                        "remaining_time": 12.59519125,
                        "test": [
                          0.9328994614,
                          0.1999184266
                        ]
                      },
                      {
                        "iteration": 758,
                        "learn": [
                          0.9907322044,
                          0.04809173876
                        ],
                        "passed_time": 39.51816872,
                        "remaining_time": 12.54792973,
                        "test": [
                          0.9328994614,
                          0.1999399571
                        ]
                      },
                      {
                        "iteration": 759,
                        "learn": [
                          0.9907322044,
                          0.0480532732
                        ],
                        "passed_time": 39.56479467,
                        "remaining_time": 12.49414569,
                        "test": [
                          0.9322262118,
                          0.2000762908
                        ]
                      },
                      {
                        "iteration": 760,
                        "learn": [
                          0.9907322044,
                          0.04799856188
                        ],
                        "passed_time": 39.61817272,
                        "remaining_time": 12.44250103,
                        "test": [
                          0.9322262118,
                          0.2001178327
                        ]
                      },
                      {
                        "iteration": 761,
                        "learn": [
                          0.9907807269,
                          0.04795397305
                        ],
                        "passed_time": 39.66412407,
                        "remaining_time": 12.38853219,
                        "test": [
                          0.9322262118,
                          0.2001645228
                        ]
                      },
                      {
                        "iteration": 762,
                        "learn": [
                          0.9908292494,
                          0.04791159185
                        ],
                        "passed_time": 39.70763466,
                        "remaining_time": 12.33382623,
                        "test": [
                          0.9326750449,
                          0.2001105881
                        ]
                      },
                      {
                        "iteration": 763,
                        "learn": [
                          0.9908292494,
                          0.04782200569
                        ],
                        "passed_time": 39.75425207,
                        "remaining_time": 12.28010928,
                        "test": [
                          0.9324506284,
                          0.2002041925
                        ]
                      },
                      {
                        "iteration": 764,
                        "learn": [
                          0.9908777718,
                          0.04780155555
                        ],
                        "passed_time": 39.79768686,
                        "remaining_time": 12.22543322,
                        "test": [
                          0.9324506284,
                          0.2002007925
                        ]
                      },
                      {
                        "iteration": 765,
                        "learn": [
                          0.9907807269,
                          0.04775048493
                        ],
                        "passed_time": 39.84696059,
                        "remaining_time": 12.17257021,
                        "test": [
                          0.9328994614,
                          0.2001244354
                        ]
                      },
                      {
                        "iteration": 766,
                        "learn": [
                          0.9908292494,
                          0.04766417059
                        ],
                        "passed_time": 39.89450737,
                        "remaining_time": 12.11919194,
                        "test": [
                          0.9324506284,
                          0.2002930858
                        ]
                      },
                      {
                        "iteration": 767,
                        "learn": [
                          0.9909748168,
                          0.04758999769
                        ],
                        "passed_time": 39.94278072,
                        "remaining_time": 12.06604834,
                        "test": [
                          0.9326750449,
                          0.2003557378
                        ]
                      },
                      {
                        "iteration": 768,
                        "learn": [
                          0.9909262943,
                          0.04750726017
                        ],
                        "passed_time": 39.99190592,
                        "remaining_time": 12.0131733,
                        "test": [
                          0.9322262118,
                          0.2005108437
                        ]
                      },
                      {
                        "iteration": 769,
                        "learn": [
                          0.9909748168,
                          0.04743451747
                        ],
                        "passed_time": 40.04297149,
                        "remaining_time": 11.96088759,
                        "test": [
                          0.9324506284,
                          0.2003808525
                        ]
                      },
                      {
                        "iteration": 770,
                        "learn": [
                          0.9911689068,
                          0.04735909872
                        ],
                        "passed_time": 40.09733437,
                        "remaining_time": 11.9095844,
                        "test": [
                          0.9322262118,
                          0.2004112005
                        ]
                      },
                      {
                        "iteration": 771,
                        "learn": [
                          0.9910718618,
                          0.04728245515
                        ],
                        "passed_time": 40.18387098,
                        "remaining_time": 11.86777537,
                        "test": [
                          0.9324506284,
                          0.2004222373
                        ]
                      },
                      {
                        "iteration": 772,
                        "learn": [
                          0.9911689068,
                          0.04723719729
                        ],
                        "passed_time": 40.26149036,
                        "remaining_time": 11.82323197,
                        "test": [
                          0.9324506284,
                          0.2004154608
                        ]
                      },
                      {
                        "iteration": 773,
                        "learn": [
                          0.9911689068,
                          0.04718797982
                        ],
                        "passed_time": 40.30828365,
                        "remaining_time": 11.7696022,
                        "test": [
                          0.9326750449,
                          0.200398909
                        ]
                      },
                      {
                        "iteration": 774,
                        "learn": [
                          0.9911689068,
                          0.0471327624
                        ],
                        "passed_time": 40.35369113,
                        "remaining_time": 11.71558775,
                        "test": [
                          0.9324506284,
                          0.2003759653
                        ]
                      },
                      {
                        "iteration": 775,
                        "learn": [
                          0.9912174293,
                          0.04707865159
                        ],
                        "passed_time": 40.39841359,
                        "remaining_time": 11.66139774,
                        "test": [
                          0.9326750449,
                          0.2004254741
                        ]
                      },
                      {
                        "iteration": 776,
                        "learn": [
                          0.9912174293,
                          0.04701241493
                        ],
                        "passed_time": 40.44591876,
                        "remaining_time": 11.60803074,
                        "test": [
                          0.9324506284,
                          0.2003724751
                        ]
                      },
                      {
                        "iteration": 777,
                        "learn": [
                          0.9911203843,
                          0.04695269102
                        ],
                        "passed_time": 40.50837137,
                        "remaining_time": 11.55894401,
                        "test": [
                          0.9328994614,
                          0.2005188659
                        ]
                      },
                      {
                        "iteration": 778,
                        "learn": [
                          0.9912659518,
                          0.04691924529
                        ],
                        "passed_time": 40.55879548,
                        "remaining_time": 11.50641053,
                        "test": [
                          0.9328994614,
                          0.2005869222
                        ]
                      },
                      {
                        "iteration": 779,
                        "learn": [
                          0.9910718618,
                          0.04684304677
                        ],
                        "passed_time": 40.61434584,
                        "remaining_time": 11.45532831,
                        "test": [
                          0.9326750449,
                          0.2005703901
                        ]
                      },
                      {
                        "iteration": 780,
                        "learn": [
                          0.9911203843,
                          0.04680363617
                        ],
                        "passed_time": 40.66431744,
                        "remaining_time": 11.40267032,
                        "test": [
                          0.9326750449,
                          0.200671953
                        ]
                      },
                      {
                        "iteration": 781,
                        "learn": [
                          0.9912174293,
                          0.04671899003
                        ],
                        "passed_time": 40.7124168,
                        "remaining_time": 11.34949727,
                        "test": [
                          0.9328994614,
                          0.2006755003
                        ]
                      },
                      {
                        "iteration": 782,
                        "learn": [
                          0.9913144743,
                          0.04657888952
                        ],
                        "passed_time": 40.7686502,
                        "remaining_time": 11.29859144,
                        "test": [
                          0.9326750449,
                          0.2008814145
                        ]
                      },
                      {
                        "iteration": 783,
                        "learn": [
                          0.9913144743,
                          0.04653116691
                        ],
                        "passed_time": 40.81638549,
                        "remaining_time": 11.2453307,
                        "test": [
                          0.9326750449,
                          0.2009639323
                        ]
                      },
                      {
                        "iteration": 784,
                        "learn": [
                          0.9911689068,
                          0.04647230527
                        ],
                        "passed_time": 40.86593318,
                        "remaining_time": 11.19258043,
                        "test": [
                          0.9326750449,
                          0.2011737144
                        ]
                      },
                      {
                        "iteration": 785,
                        "learn": [
                          0.9911203843,
                          0.04639202582
                        ],
                        "passed_time": 40.91672063,
                        "remaining_time": 11.14017585,
                        "test": [
                          0.9331238779,
                          0.2012141149
                        ]
                      },
                      {
                        "iteration": 786,
                        "learn": [
                          0.9912174293,
                          0.04632882656
                        ],
                        "passed_time": 40.96654391,
                        "remaining_time": 11.08751443,
                        "test": [
                          0.9331238779,
                          0.2012235046
                        ]
                      },
                      {
                        "iteration": 787,
                        "learn": [
                          0.9912659518,
                          0.0462775685
                        ],
                        "passed_time": 41.02282584,
                        "remaining_time": 11.03659781,
                        "test": [
                          0.9328994614,
                          0.2012902672
                        ]
                      },
                      {
                        "iteration": 788,
                        "learn": [
                          0.9913629967,
                          0.04621526633
                        ],
                        "passed_time": 41.07317161,
                        "remaining_time": 10.98408011,
                        "test": [
                          0.9333482944,
                          0.2013365887
                        ]
                      },
                      {
                        "iteration": 789,
                        "learn": [
                          0.9913629967,
                          0.0461757342
                        ],
                        "passed_time": 41.12088024,
                        "remaining_time": 10.9308669,
                        "test": [
                          0.9333482944,
                          0.2013439981
                        ]
                      },
                      {
                        "iteration": 790,
                        "learn": [
                          0.9913629967,
                          0.04612171378
                        ],
                        "passed_time": 41.16973285,
                        "remaining_time": 10.87796987,
                        "test": [
                          0.9333482944,
                          0.201269755
                        ]
                      },
                      {
                        "iteration": 791,
                        "learn": [
                          0.9913629967,
                          0.04606156985
                        ],
                        "passed_time": 41.37156606,
                        "remaining_time": 10.86525977,
                        "test": [
                          0.9333482944,
                          0.2013266047
                        ]
                      },
                      {
                        "iteration": 792,
                        "learn": [
                          0.9913629967,
                          0.04602416167
                        ],
                        "passed_time": 41.43842489,
                        "remaining_time": 10.81683979,
                        "test": [
                          0.9333482944,
                          0.201396184
                        ]
                      },
                      {
                        "iteration": 793,
                        "learn": [
                          0.9914600417,
                          0.0459658776
                        ],
                        "passed_time": 41.48480403,
                        "remaining_time": 10.76305999,
                        "test": [
                          0.9326750449,
                          0.2014142163
                        ]
                      },
                      {
                        "iteration": 794,
                        "learn": [
                          0.9914600417,
                          0.04592310532
                        ],
                        "passed_time": 41.54410228,
                        "remaining_time": 10.71263015,
                        "test": [
                          0.9324506284,
                          0.2013453719
                        ]
                      },
                      {
                        "iteration": 795,
                        "learn": [
                          0.9914600417,
                          0.04585897368
                        ],
                        "passed_time": 41.5909221,
                        "remaining_time": 10.65898004,
                        "test": [
                          0.9324506284,
                          0.2014184567
                        ]
                      },
                      {
                        "iteration": 796,
                        "learn": [
                          0.9915570867,
                          0.04574620486
                        ],
                        "passed_time": 41.64303954,
                        "remaining_time": 10.6066964,
                        "test": [
                          0.9324506284,
                          0.2014711639
                        ]
                      },
                      {
                        "iteration": 797,
                        "learn": [
                          0.9915570867,
                          0.04570559319
                        ],
                        "passed_time": 41.69545954,
                        "remaining_time": 10.55448976,
                        "test": [
                          0.9328994614,
                          0.2014956716
                        ]
                      },
                      {
                        "iteration": 798,
                        "learn": [
                          0.9915570867,
                          0.04564127154
                        ],
                        "passed_time": 41.74339345,
                        "remaining_time": 10.50115405,
                        "test": [
                          0.9331238779,
                          0.2016610002
                        ]
                      },
                      {
                        "iteration": 799,
                        "learn": [
                          0.9916056092,
                          0.0456048478
                        ],
                        "passed_time": 41.7881574,
                        "remaining_time": 10.44703935,
                        "test": [
                          0.9331238779,
                          0.2016329105
                        ]
                      },
                      {
                        "iteration": 800,
                        "learn": [
                          0.9915570867,
                          0.0455503037
                        ],
                        "passed_time": 41.84202714,
                        "remaining_time": 10.39521024,
                        "test": [
                          0.9331238779,
                          0.2016083199
                        ]
                      },
                      {
                        "iteration": 801,
                        "learn": [
                          0.9915570867,
                          0.04549432341
                        ],
                        "passed_time": 41.88894713,
                        "remaining_time": 10.34166026,
                        "test": [
                          0.9331238779,
                          0.2017475045
                        ]
                      },
                      {
                        "iteration": 802,
                        "learn": [
                          0.9915085642,
                          0.0454676504
                        ],
                        "passed_time": 41.93650349,
                        "remaining_time": 10.28828292,
                        "test": [
                          0.9331238779,
                          0.2016952108
                        ]
                      },
                      {
                        "iteration": 803,
                        "learn": [
                          0.9914600417,
                          0.04539029162
                        ],
                        "passed_time": 41.98743629,
                        "remaining_time": 10.23574317,
                        "test": [
                          0.9328994614,
                          0.2017083943
                        ]
                      },
                      {
                        "iteration": 804,
                        "learn": [
                          0.9914600417,
                          0.04534955882
                        ],
                        "passed_time": 42.03733925,
                        "remaining_time": 10.18295795,
                        "test": [
                          0.9331238779,
                          0.2017698638
                        ]
                      },
                      {
                        "iteration": 805,
                        "learn": [
                          0.9915570867,
                          0.04527188032
                        ],
                        "passed_time": 42.08468679,
                        "remaining_time": 10.12956481,
                        "test": [
                          0.9326750449,
                          0.2018275744
                        ]
                      },
                      {
                        "iteration": 806,
                        "learn": [
                          0.9916056092,
                          0.04523088261
                        ],
                        "passed_time": 42.1290949,
                        "remaining_time": 10.07548366,
                        "test": [
                          0.9326750449,
                          0.2019394351
                        ]
                      },
                      {
                        "iteration": 807,
                        "learn": [
                          0.9916056092,
                          0.04516146556
                        ],
                        "passed_time": 42.18191417,
                        "remaining_time": 10.02342515,
                        "test": [
                          0.9326750449,
                          0.2017973313
                        ]
                      },
                      {
                        "iteration": 808,
                        "learn": [
                          0.9918967441,
                          0.04505533911
                        ],
                        "passed_time": 42.23667276,
                        "remaining_time": 9.971822617,
                        "test": [
                          0.9324506284,
                          0.2018257438
                        ]
                      },
                      {
                        "iteration": 809,
                        "learn": [
                          0.9917996992,
                          0.04499032449
                        ],
                        "passed_time": 42.29066854,
                        "remaining_time": 9.920033362,
                        "test": [
                          0.9324506284,
                          0.2018877482
                        ]
                      },
                      {
                        "iteration": 810,
                        "learn": [
                          0.9917511767,
                          0.0449022559
                        ],
                        "passed_time": 42.34182635,
                        "remaining_time": 9.867577287,
                        "test": [
                          0.9326750449,
                          0.2019331306
                        ]
                      },
                      {
                        "iteration": 811,
                        "learn": [
                          0.9917996992,
                          0.04487349621
                        ],
                        "passed_time": 42.44014042,
                        "remaining_time": 9.826042363,
                        "test": [
                          0.9326750449,
                          0.2019465469
                        ]
                      },
                      {
                        "iteration": 812,
                        "learn": [
                          0.9919452666,
                          0.04484341972
                        ],
                        "passed_time": 42.51474197,
                        "remaining_time": 9.778913589,
                        "test": [
                          0.9324506284,
                          0.201943224
                        ]
                      },
                      {
                        "iteration": 813,
                        "learn": [
                          0.9919452666,
                          0.04481798512
                        ],
                        "passed_time": 42.5754842,
                        "remaining_time": 9.728550443,
                        "test": [
                          0.9324506284,
                          0.2019408146
                        ]
                      },
                      {
                        "iteration": 814,
                        "learn": [
                          0.9919452666,
                          0.04477423467
                        ],
                        "passed_time": 42.6225619,
                        "remaining_time": 9.675060063,
                        "test": [
                          0.9324506284,
                          0.2020645663
                        ]
                      },
                      {
                        "iteration": 815,
                        "learn": [
                          0.9918967441,
                          0.04471311726
                        ],
                        "passed_time": 42.67089834,
                        "remaining_time": 9.621869234,
                        "test": [
                          0.9326750449,
                          0.2021847031
                        ]
                      },
                      {
                        "iteration": 816,
                        "learn": [
                          0.9919937891,
                          0.04465239058
                        ],
                        "passed_time": 42.72077762,
                        "remaining_time": 9.569035869,
                        "test": [
                          0.9324506284,
                          0.2021646923
                        ]
                      },
                      {
                        "iteration": 817,
                        "learn": [
                          0.9920423116,
                          0.0445742088
                        ],
                        "passed_time": 42.77249365,
                        "remaining_time": 9.516618392,
                        "test": [
                          0.9324506284,
                          0.2022139264
                        ]
                      },
                      {
                        "iteration": 818,
                        "learn": [
                          0.9921393566,
                          0.04448240723
                        ],
                        "passed_time": 42.82036806,
                        "remaining_time": 9.463353624,
                        "test": [
                          0.9317773788,
                          0.2022171885
                        ]
                      },
                      {
                        "iteration": 819,
                        "learn": [
                          0.9921393566,
                          0.04443041595
                        ],
                        "passed_time": 42.86678903,
                        "remaining_time": 9.409782957,
                        "test": [
                          0.9322262118,
                          0.2021941934
                        ]
                      },
                      {
                        "iteration": 820,
                        "learn": [
                          0.9921878791,
                          0.04441282749
                        ],
                        "passed_time": 42.91863664,
                        "remaining_time": 9.357412861,
                        "test": [
                          0.9324506284,
                          0.2021523166
                        ]
                      },
                      {
                        "iteration": 821,
                        "learn": [
                          0.9921878791,
                          0.04435007624
                        ],
                        "passed_time": 42.97492691,
                        "remaining_time": 9.306006071,
                        "test": [
                          0.9324506284,
                          0.2021641512
                        ]
                      },
                      {
                        "iteration": 822,
                        "learn": [
                          0.9920423116,
                          0.04429034654
                        ],
                        "passed_time": 43.0215532,
                        "remaining_time": 9.252509011,
                        "test": [
                          0.9324506284,
                          0.2021600431
                        ]
                      },
                      {
                        "iteration": 823,
                        "learn": [
                          0.9922364016,
                          0.04423335998
                        ],
                        "passed_time": 43.09818988,
                        "remaining_time": 9.205438615,
                        "test": [
                          0.9324506284,
                          0.2021642381
                        ]
                      },
                      {
                        "iteration": 824,
                        "learn": [
                          0.9921878791,
                          0.04419705172
                        ],
                        "passed_time": 43.14602269,
                        "remaining_time": 9.152186631,
                        "test": [
                          0.9326750449,
                          0.2021104906
                        ]
                      },
                      {
                        "iteration": 825,
                        "learn": [
                          0.9921878791,
                          0.04415144305
                        ],
                        "passed_time": 43.19969719,
                        "remaining_time": 9.100178343,
                        "test": [
                          0.9328994614,
                          0.2021059922
                        ]
                      },
                      {
                        "iteration": 826,
                        "learn": [
                          0.9922849241,
                          0.04409866524
                        ],
                        "passed_time": 43.249848,
                        "remaining_time": 9.047428904,
                        "test": [
                          0.9328994614,
                          0.2021562919
                        ]
                      },
                      {
                        "iteration": 827,
                        "learn": [
                          0.9922364016,
                          0.04407066475
                        ],
                        "passed_time": 43.2955019,
                        "remaining_time": 8.993751602,
                        "test": [
                          0.9326750449,
                          0.2021963135
                        ]
                      },
                      {
                        "iteration": 828,
                        "learn": [
                          0.9923334466,
                          0.04396940678
                        ],
                        "passed_time": 43.34898407,
                        "remaining_time": 8.941708415,
                        "test": [
                          0.9328994614,
                          0.2021943144
                        ]
                      },
                      {
                        "iteration": 829,
                        "learn": [
                          0.9923334466,
                          0.04390673625
                        ],
                        "passed_time": 43.39842722,
                        "remaining_time": 8.888834492,
                        "test": [
                          0.9322262118,
                          0.2022204761
                        ]
                      },
                      {
                        "iteration": 830,
                        "learn": [
                          0.992381969,
                          0.04384996952
                        ],
                        "passed_time": 43.49985256,
                        "remaining_time": 8.846540413,
                        "test": [
                          0.9326750449,
                          0.2023215369
                        ]
                      },
                      {
                        "iteration": 831,
                        "learn": [
                          0.992381969,
                          0.04379606992
                        ],
                        "passed_time": 43.58279287,
                        "remaining_time": 8.800371638,
                        "test": [
                          0.9324506284,
                          0.2023899522
                        ]
                      },
                      {
                        "iteration": 832,
                        "learn": [
                          0.992381969,
                          0.04376070124
                        ],
                        "passed_time": 43.63469467,
                        "remaining_time": 8.747891969,
                        "test": [
                          0.9324506284,
                          0.2024833526
                        ]
                      },
                      {
                        "iteration": 833,
                        "learn": [
                          0.992479014,
                          0.04370183221
                        ],
                        "passed_time": 43.6846725,
                        "remaining_time": 8.695030737,
                        "test": [
                          0.9324506284,
                          0.2024860953
                        ]
                      },
                      {
                        "iteration": 834,
                        "learn": [
                          0.992479014,
                          0.04364642047
                        ],
                        "passed_time": 43.73511928,
                        "remaining_time": 8.64226908,
                        "test": [
                          0.9324506284,
                          0.2024473638
                        ]
                      },
                      {
                        "iteration": 835,
                        "learn": [
                          0.992479014,
                          0.04359982994
                        ],
                        "passed_time": 43.77830026,
                        "remaining_time": 8.58808761,
                        "test": [
                          0.9320017953,
                          0.202418195
                        ]
                      },
                      {
                        "iteration": 836,
                        "learn": [
                          0.992576059,
                          0.04352529935
                        ],
                        "passed_time": 43.83440592,
                        "remaining_time": 8.53644942,
                        "test": [
                          0.9317773788,
                          0.2023616011
                        ]
                      },
                      {
                        "iteration": 837,
                        "learn": [
                          0.9925275365,
                          0.04342128142
                        ],
                        "passed_time": 43.88554914,
                        "remaining_time": 8.483841242,
                        "test": [
                          0.9320017953,
                          0.2024292955
                        ]
                      },
                      {
                        "iteration": 838,
                        "learn": [
                          0.9926245815,
                          0.04336170197
                        ],
                        "passed_time": 43.93230221,
                        "remaining_time": 8.430394107,
                        "test": [
                          0.9320017953,
                          0.2023929258
                        ]
                      },
                      {
                        "iteration": 839,
                        "learn": [
                          0.9927216265,
                          0.04329422141
                        ],
                        "passed_time": 43.98398395,
                        "remaining_time": 8.377901704,
                        "test": [
                          0.9320017953,
                          0.2023989832
                        ]
                      },
                      {
                        "iteration": 840,
                        "learn": [
                          0.992770149,
                          0.04325623986
                        ],
                        "passed_time": 44.03227479,
                        "remaining_time": 8.324770144,
                        "test": [
                          0.9320017953,
                          0.2023914556
                        ]
                      },
                      {
                        "iteration": 841,
                        "learn": [
                          0.992770149,
                          0.04323751552
                        ],
                        "passed_time": 44.08201505,
                        "remaining_time": 8.271922065,
                        "test": [
                          0.9320017953,
                          0.2024455264
                        ]
                      },
                      {
                        "iteration": 842,
                        "learn": [
                          0.9927216265,
                          0.04320021245
                        ],
                        "passed_time": 44.13248573,
                        "remaining_time": 8.21921739,
                        "test": [
                          0.9320017953,
                          0.2024862555
                        ]
                      },
                      {
                        "iteration": 843,
                        "learn": [
                          0.9927216265,
                          0.04315027783
                        ],
                        "passed_time": 44.18928126,
                        "remaining_time": 8.167687057,
                        "test": [
                          0.9317773788,
                          0.2024769868
                        ]
                      },
                      {
                        "iteration": 844,
                        "learn": [
                          0.992770149,
                          0.04310593519
                        ],
                        "passed_time": 44.23397494,
                        "remaining_time": 8.113924397,
                        "test": [
                          0.9320017953,
                          0.202411846
                        ]
                      },
                      {
                        "iteration": 845,
                        "learn": [
                          0.9928186715,
                          0.04305282239
                        ],
                        "passed_time": 44.28370831,
                        "remaining_time": 8.061100568,
                        "test": [
                          0.9322262118,
                          0.2023691976
                        ]
                      },
                      {
                        "iteration": 846,
                        "learn": [
                          0.9928671939,
                          0.04294132399
                        ],
                        "passed_time": 44.33670511,
                        "remaining_time": 8.008873532,
                        "test": [
                          0.9322262118,
                          0.2024728014
                        ]
                      },
                      {
                        "iteration": 847,
                        "learn": [
                          0.9928186715,
                          0.04288375451
                        ],
                        "passed_time": 44.384875,
                        "remaining_time": 7.95577948,
                        "test": [
                          0.9322262118,
                          0.2024851869
                        ]
                      },
                      {
                        "iteration": 848,
                        "learn": [
                          0.9930612839,
                          0.04278333452
                        ],
                        "passed_time": 44.44072963,
                        "remaining_time": 7.90406381,
                        "test": [
                          0.9322262118,
                          0.2025440959
                        ]
                      },
                      {
                        "iteration": 849,
                        "learn": [
                          0.9931098064,
                          0.04272010098
                        ],
                        "passed_time": 44.51465614,
                        "remaining_time": 7.855527553,
                        "test": [
                          0.9322262118,
                          0.2026112362
                        ]
                      },
                      {
                        "iteration": 850,
                        "learn": [
                          0.9930612839,
                          0.04266600706
                        ],
                        "passed_time": 44.61915052,
                        "remaining_time": 7.812283699,
                        "test": [
                          0.9322262118,
                          0.2026043724
                        ]
                      },
                      {
                        "iteration": 851,
                        "learn": [
                          0.9931098064,
                          0.042583666
                        ],
                        "passed_time": 44.6804076,
                        "remaining_time": 7.761385358,
                        "test": [
                          0.9320017953,
                          0.2026440228
                        ]
                      },
                      {
                        "iteration": 852,
                        "learn": [
                          0.9931098064,
                          0.04255872268
                        ],
                        "passed_time": 44.72489569,
                        "remaining_time": 7.70757288,
                        "test": [
                          0.9320017953,
                          0.2026431517
                        ]
                      },
                      {
                        "iteration": 853,
                        "learn": [
                          0.9930612839,
                          0.04250898091
                        ],
                        "passed_time": 44.77624628,
                        "remaining_time": 7.654955452,
                        "test": [
                          0.9317773788,
                          0.2026302633
                        ]
                      },
                      {
                        "iteration": 854,
                        "learn": [
                          0.9932068514,
                          0.04241549974
                        ],
                        "passed_time": 44.82506325,
                        "remaining_time": 7.601911312,
                        "test": [
                          0.9320017953,
                          0.2024054485
                        ]
                      },
                      {
                        "iteration": 855,
                        "learn": [
                          0.9931098064,
                          0.04234047822
                        ],
                        "passed_time": 44.87478934,
                        "remaining_time": 7.549029983,
                        "test": [
                          0.9324506284,
                          0.2023835247
                        ]
                      },
                      {
                        "iteration": 856,
                        "learn": [
                          0.9931583289,
                          0.04228457294
                        ],
                        "passed_time": 44.92660155,
                        "remaining_time": 7.496504109,
                        "test": [
                          0.9324506284,
                          0.2023666935
                        ]
                      },
                      {
                        "iteration": 857,
                        "learn": [
                          0.9932068514,
                          0.04225447625
                        ],
                        "passed_time": 44.97546093,
                        "remaining_time": 7.443491203,
                        "test": [
                          0.9324506284,
                          0.2024257907
                        ]
                      },
                      {
                        "iteration": 858,
                        "learn": [
                          0.9931583289,
                          0.042216795
                        ],
                        "passed_time": 45.02417791,
                        "remaining_time": 7.390464592,
                        "test": [
                          0.9324506284,
                          0.2023723531
                        ]
                      },
                      {
                        "iteration": 859,
                        "learn": [
                          0.9931583289,
                          0.04217002631
                        ],
                        "passed_time": 45.07337736,
                        "remaining_time": 7.337526547,
                        "test": [
                          0.9324506284,
                          0.2023980308
                        ]
                      },
                      {
                        "iteration": 860,
                        "learn": [
                          0.9933038964,
                          0.04213837843
                        ],
                        "passed_time": 45.12011095,
                        "remaining_time": 7.284199096,
                        "test": [
                          0.9324506284,
                          0.2023879938
                        ]
                      },
                      {
                        "iteration": 861,
                        "learn": [
                          0.9931098064,
                          0.04206297369
                        ],
                        "passed_time": 45.16598373,
                        "remaining_time": 7.230749136,
                        "test": [
                          0.9322262118,
                          0.2024195555
                        ]
                      },
                      {
                        "iteration": 862,
                        "learn": [
                          0.9931583289,
                          0.04203452632
                        ],
                        "passed_time": 45.21526118,
                        "remaining_time": 7.177857221,
                        "test": [
                          0.9320017953,
                          0.2024883936
                        ]
                      },
                      {
                        "iteration": 863,
                        "learn": [
                          0.9932553739,
                          0.04193592601
                        ],
                        "passed_time": 45.2678401,
                        "remaining_time": 7.125493349,
                        "test": [
                          0.9324506284,
                          0.2027310397
                        ]
                      },
                      {
                        "iteration": 864,
                        "learn": [
                          0.9932068514,
                          0.04189179706
                        ],
                        "passed_time": 45.31838199,
                        "remaining_time": 7.072811062,
                        "test": [
                          0.9324506284,
                          0.2028150312
                        ]
                      },
                      {
                        "iteration": 865,
                        "learn": [
                          0.9932553739,
                          0.04183323119
                        ],
                        "passed_time": 45.36473129,
                        "remaining_time": 7.01948498,
                        "test": [
                          0.9326750449,
                          0.2029859972
                        ]
                      },
                      {
                        "iteration": 866,
                        "learn": [
                          0.9933038964,
                          0.04178548544
                        ],
                        "passed_time": 45.42132685,
                        "remaining_time": 6.967746795,
                        "test": [
                          0.9322262118,
                          0.2030997915
                        ]
                      },
                      {
                        "iteration": 867,
                        "learn": [
                          0.9933038964,
                          0.04174759328
                        ],
                        "passed_time": 45.46671286,
                        "remaining_time": 6.91429274,
                        "test": [
                          0.9322262118,
                          0.2029103583
                        ]
                      },
                      {
                        "iteration": 868,
                        "learn": [
                          0.9934009413,
                          0.04170353768
                        ],
                        "passed_time": 45.51139376,
                        "remaining_time": 6.860750958,
                        "test": [
                          0.9322262118,
                          0.2028845253
                        ]
                      },
                      {
                        "iteration": 869,
                        "learn": [
                          0.9934494638,
                          0.04163735439
                        ],
                        "passed_time": 45.61041356,
                        "remaining_time": 6.815349152,
                        "test": [
                          0.9317773788,
                          0.2028661121
                        ]
                      },
                      {
                        "iteration": 870,
                        "learn": [
                          0.9934494638,
                          0.04155326122
                        ],
                        "passed_time": 45.69554194,
                        "remaining_time": 6.767766831,
                        "test": [
                          0.9320017953,
                          0.2028917611
                        ]
                      },
                      {
                        "iteration": 871,
                        "learn": [
                          0.9934009413,
                          0.04151424682
                        ],
                        "passed_time": 45.74711363,
                        "remaining_time": 6.715172643,
                        "test": [
                          0.9317773788,
                          0.2029500543
                        ]
                      },
                      {
                        "iteration": 872,
                        "learn": [
                          0.9933524188,
                          0.04148001043
                        ],
                        "passed_time": 45.8013486,
                        "remaining_time": 6.662968238,
                        "test": [
                          0.9317773788,
                          0.2028834909
                        ]
                      },
                      {
                        "iteration": 873,
                        "learn": [
                          0.9934494638,
                          0.04143685612
                        ],
                        "passed_time": 45.85134992,
                        "remaining_time": 6.610148844,
                        "test": [
                          0.9320017953,
                          0.2029347397
                        ]
                      },
                      {
                        "iteration": 874,
                        "learn": [
                          0.9937891213,
                          0.04127680832
                        ],
                        "passed_time": 45.90134057,
                        "remaining_time": 6.557334366,
                        "test": [
                          0.9322262118,
                          0.2030458611
                        ]
                      },
                      {
                        "iteration": 875,
                        "learn": [
                          0.9937405988,
                          0.04121308369
                        ],
                        "passed_time": 45.94895977,
                        "remaining_time": 6.504190652,
                        "test": [
                          0.9324506284,
                          0.2030707699
                        ]
                      },
                      {
                        "iteration": 876,
                        "learn": [
                          0.9937405988,
                          0.04116367561
                        ],
                        "passed_time": 45.99963166,
                        "remaining_time": 6.451487678,
                        "test": [
                          0.9322262118,
                          0.2031618245
                        ]
                      },
                      {
                        "iteration": 877,
                        "learn": [
                          0.9936435538,
                          0.04113117844
                        ],
                        "passed_time": 46.04862853,
                        "remaining_time": 6.398556583,
                        "test": [
                          0.9320017953,
                          0.2032734925
                        ]
                      },
                      {
                        "iteration": 878,
                        "learn": [
                          0.9937405988,
                          0.04109293725
                        ],
                        "passed_time": 46.1052667,
                        "remaining_time": 6.346686315,
                        "test": [
                          0.9320017953,
                          0.2032268495
                        ]
                      },
                      {
                        "iteration": 879,
                        "learn": [
                          0.9936920763,
                          0.041040342
                        ],
                        "passed_time": 46.15264276,
                        "remaining_time": 6.293542195,
                        "test": [
                          0.9320017953,
                          0.2033600864
                        ]
                      },
                      {
                        "iteration": 880,
                        "learn": [
                          0.9937405988,
                          0.04099765623
                        ],
                        "passed_time": 46.20478389,
                        "remaining_time": 6.241054804,
                        "test": [
                          0.9320017953,
                          0.2033738138
                        ]
                      },
                      {
                        "iteration": 881,
                        "learn": [
                          0.9935950313,
                          0.04095820222
                        ],
                        "passed_time": 46.25109562,
                        "remaining_time": 6.187788303,
                        "test": [
                          0.9320017953,
                          0.2033138709
                        ]
                      },
                      {
                        "iteration": 882,
                        "learn": [
                          0.9936435538,
                          0.04089851856
                        ],
                        "passed_time": 46.2982586,
                        "remaining_time": 6.134650347,
                        "test": [
                          0.9317773788,
                          0.2034217231
                        ]
                      },
                      {
                        "iteration": 883,
                        "learn": [
                          0.9935465088,
                          0.04084815059
                        ],
                        "passed_time": 46.35099282,
                        "remaining_time": 6.082256976,
                        "test": [
                          0.9320017953,
                          0.203576338
                        ]
                      },
                      {
                        "iteration": 884,
                        "learn": [
                          0.9934979863,
                          0.04080069007
                        ],
                        "passed_time": 46.39924628,
                        "remaining_time": 6.029280589,
                        "test": [
                          0.9320017953,
                          0.203484116
                        ]
                      },
                      {
                        "iteration": 885,
                        "learn": [
                          0.9935950313,
                          0.04076529155
                        ],
                        "passed_time": 46.45076816,
                        "remaining_time": 5.976735406,
                        "test": [
                          0.9320017953,
                          0.2035872869
                        ]
                      },
                      {
                        "iteration": 886,
                        "learn": [
                          0.9935950313,
                          0.04072582981
                        ],
                        "passed_time": 46.49759469,
                        "remaining_time": 5.923594363,
                        "test": [
                          0.9317773788,
                          0.2035933651
                        ]
                      },
                      {
                        "iteration": 887,
                        "learn": [
                          0.9935950313,
                          0.04067496203
                        ],
                        "passed_time": 46.54633734,
                        "remaining_time": 5.870709214,
                        "test": [
                          0.9317773788,
                          0.2035284047
                        ]
                      },
                      {
                        "iteration": 888,
                        "learn": [
                          0.9935465088,
                          0.04063722419
                        ],
                        "passed_time": 46.59321705,
                        "remaining_time": 5.81760078,
                        "test": [
                          0.9313285458,
                          0.2035621018
                        ]
                      },
                      {
                        "iteration": 889,
                        "learn": [
                          0.9934979863,
                          0.04060431288
                        ],
                        "passed_time": 46.71241657,
                        "remaining_time": 5.773444745,
                        "test": [
                          0.9315529623,
                          0.2036047657
                        ]
                      },
                      {
                        "iteration": 890,
                        "learn": [
                          0.9935465088,
                          0.04058186738
                        ],
                        "passed_time": 46.7783529,
                        "remaining_time": 5.722604339,
                        "test": [
                          0.9313285458,
                          0.2035953005
                        ]
                      },
                      {
                        "iteration": 891,
                        "learn": [
                          0.9937405988,
                          0.04050075779
                        ],
                        "passed_time": 46.83117129,
                        "remaining_time": 5.670141816,
                        "test": [
                          0.9315529623,
                          0.2035861544
                        ]
                      },
                      {
                        "iteration": 892,
                        "learn": [
                          0.9939346887,
                          0.04041280245
                        ],
                        "passed_time": 46.88482229,
                        "remaining_time": 5.617778258,
                        "test": [
                          0.9313285458,
                          0.2037296878
                        ]
                      },
                      {
                        "iteration": 893,
                        "learn": [
                          0.9938376437,
                          0.04035327763
                        ],
                        "passed_time": 46.93300575,
                        "remaining_time": 5.564763545,
                        "test": [
                          0.9313285458,
                          0.203759564
                        ]
                      },
                      {
                        "iteration": 894,
                        "learn": [
                          0.9938376437,
                          0.04031576741
                        ],
                        "passed_time": 46.98052421,
                        "remaining_time": 5.511681612,
                        "test": [
                          0.9313285458,
                          0.2037539551
                        ]
                      },
                      {
                        "iteration": 895,
                        "learn": [
                          0.9939832112,
                          0.04027056796
                        ],
                        "passed_time": 47.03313197,
                        "remaining_time": 5.459202818,
                        "test": [
                          0.9315529623,
                          0.2037290736
                        ]
                      },
                      {
                        "iteration": 896,
                        "learn": [
                          0.9939832112,
                          0.04025367148
                        ],
                        "passed_time": 47.07692241,
                        "remaining_time": 5.405711269,
                        "test": [
                          0.9313285458,
                          0.2036993861
                        ]
                      },
                      {
                        "iteration": 897,
                        "learn": [
                          0.9940317337,
                          0.04020702052
                        ],
                        "passed_time": 47.12580818,
                        "remaining_time": 5.352820083,
                        "test": [
                          0.9311041293,
                          0.2037556953
                        ]
                      },
                      {
                        "iteration": 898,
                        "learn": [
                          0.9940317337,
                          0.04014566445
                        ],
                        "passed_time": 47.18547165,
                        "remaining_time": 5.301148651,
                        "test": [
                          0.9313285458,
                          0.2039286712
                        ]
                      },
                      {
                        "iteration": 899,
                        "learn": [
                          0.9939346887,
                          0.04003220604
                        ],
                        "passed_time": 47.2373318,
                        "remaining_time": 5.248592422,
                        "test": [
                          0.9311041293,
                          0.2039279869
                        ]
                      },
                      {
                        "iteration": 900,
                        "learn": [
                          0.9939832112,
                          0.03999872784
                        ],
                        "passed_time": 47.28392004,
                        "remaining_time": 5.195458473,
                        "test": [
                          0.9313285458,
                          0.2040136247
                        ]
                      },
                      {
                        "iteration": 901,
                        "learn": [
                          0.9939832112,
                          0.03998355313
                        ],
                        "passed_time": 47.33014681,
                        "remaining_time": 5.142299764,
                        "test": [
                          0.9311041293,
                          0.2040756215
                        ]
                      },
                      {
                        "iteration": 902,
                        "learn": [
                          0.9939832112,
                          0.03989953452
                        ],
                        "passed_time": 47.38357009,
                        "remaining_time": 5.089929456,
                        "test": [
                          0.9317773788,
                          0.204062526
                        ]
                      },
                      {
                        "iteration": 903,
                        "learn": [
                          0.9940317337,
                          0.03986176154
                        ],
                        "passed_time": 47.43087308,
                        "remaining_time": 5.036906875,
                        "test": [
                          0.9315529623,
                          0.2041552773
                        ]
                      },
                      {
                        "iteration": 904,
                        "learn": [
                          0.9940317337,
                          0.03982814711
                        ],
                        "passed_time": 47.47983149,
                        "remaining_time": 4.984070709,
                        "test": [
                          0.9311041293,
                          0.2041983616
                        ]
                      },
                      {
                        "iteration": 905,
                        "learn": [
                          0.9940802562,
                          0.03979811068
                        ],
                        "passed_time": 47.52577219,
                        "remaining_time": 4.930930006,
                        "test": [
                          0.9311041293,
                          0.2042212707
                        ]
                      },
                      {
                        "iteration": 906,
                        "learn": [
                          0.9940317337,
                          0.03977024196
                        ],
                        "passed_time": 47.57367787,
                        "remaining_time": 4.878006661,
                        "test": [
                          0.9313285458,
                          0.2041792066
                        ]
                      },
                      {
                        "iteration": 907,
                        "learn": [
                          0.9940317337,
                          0.03975409415
                        ],
                        "passed_time": 47.61954293,
                        "remaining_time": 4.82488761,
                        "test": [
                          0.9313285458,
                          0.204204277
                        ]
                      },
                      {
                        "iteration": 908,
                        "learn": [
                          0.9941773012,
                          0.03966842403
                        ],
                        "passed_time": 47.67274611,
                        "remaining_time": 4.772519138,
                        "test": [
                          0.9313285458,
                          0.2041631657
                        ]
                      },
                      {
                        "iteration": 909,
                        "learn": [
                          0.9940802562,
                          0.03963958662
                        ],
                        "passed_time": 47.80367654,
                        "remaining_time": 4.727836141,
                        "test": [
                          0.9311041293,
                          0.2042129481
                        ]
                      },
                      {
                        "iteration": 910,
                        "learn": [
                          0.9942258237,
                          0.0395759886
                        ],
                        "passed_time": 47.87306357,
                        "remaining_time": 4.676951325,
                        "test": [
                          0.9311041293,
                          0.2042788384
                        ]
                      },
                      {
                        "iteration": 911,
                        "learn": [
                          0.9942258237,
                          0.0395361149
                        ],
                        "passed_time": 47.91886495,
                        "remaining_time": 4.623750126,
                        "test": [
                          0.9311041293,
                          0.2042543601
                        ]
                      },
                      {
                        "iteration": 912,
                        "learn": [
                          0.9944199136,
                          0.03942965292
                        ],
                        "passed_time": 47.97216412,
                        "remaining_time": 4.571279604,
                        "test": [
                          0.9313285458,
                          0.2042923365
                        ]
                      },
                      {
                        "iteration": 913,
                        "learn": [
                          0.9942743462,
                          0.03935916631
                        ],
                        "passed_time": 48.0211631,
                        "remaining_time": 4.518402655,
                        "test": [
                          0.9313285458,
                          0.2042918686
                        ]
                      },
                      {
                        "iteration": 914,
                        "learn": [
                          0.9943713911,
                          0.03932430979
                        ],
                        "passed_time": 48.06984382,
                        "remaining_time": 4.465504617,
                        "test": [
                          0.9311041293,
                          0.2044079938
                        ]
                      },
                      {
                        "iteration": 915,
                        "learn": [
                          0.9944684361,
                          0.03927658114
                        ],
                        "passed_time": 48.11903643,
                        "remaining_time": 4.412662729,
                        "test": [
                          0.9308797127,
                          0.2042747364
                        ]
                      },
                      {
                        "iteration": 916,
                        "learn": [
                          0.9945654811,
                          0.03920758915
                        ],
                        "passed_time": 48.16975739,
                        "remaining_time": 4.359967135,
                        "test": [
                          0.9308797127,
                          0.2043125018
                        ]
                      },
                      {
                        "iteration": 917,
                        "learn": [
                          0.9944684361,
                          0.03908470913
                        ],
                        "passed_time": 48.22628769,
                        "remaining_time": 4.307794761,
                        "test": [
                          0.9308797127,
                          0.2041602128
                        ]
                      },
                      {
                        "iteration": 918,
                        "learn": [
                          0.9944684361,
                          0.03907121554
                        ],
                        "passed_time": 48.27116852,
                        "remaining_time": 4.254586126,
                        "test": [
                          0.9308797127,
                          0.2041649432
                        ]
                      },
                      {
                        "iteration": 919,
                        "learn": [
                          0.9944199136,
                          0.03901966223
                        ],
                        "passed_time": 48.32206586,
                        "remaining_time": 4.20191877,
                        "test": [
                          0.9308797127,
                          0.2042374213
                        ]
                      },
                      {
                        "iteration": 920,
                        "learn": [
                          0.9944199136,
                          0.03900715222
                        ],
                        "passed_time": 48.37223446,
                        "remaining_time": 4.14919275,
                        "test": [
                          0.9308797127,
                          0.2042962277
                        ]
                      },
                      {
                        "iteration": 921,
                        "learn": [
                          0.9944684361,
                          0.0389453774
                        ],
                        "passed_time": 48.42221522,
                        "remaining_time": 4.096456385,
                        "test": [
                          0.9308797127,
                          0.2044094399
                        ]
                      },
                      {
                        "iteration": 922,
                        "learn": [
                          0.9944684361,
                          0.03887735432
                        ],
                        "passed_time": 48.47280273,
                        "remaining_time": 4.043776609,
                        "test": [
                          0.9311041293,
                          0.2044757194
                        ]
                      },
                      {
                        "iteration": 923,
                        "learn": [
                          0.9945169586,
                          0.03884020588
                        ],
                        "passed_time": 48.52024542,
                        "remaining_time": 3.990842697,
                        "test": [
                          0.9311041293,
                          0.204495657
                        ]
                      },
                      {
                        "iteration": 924,
                        "learn": [
                          0.9945654811,
                          0.03879403818
                        ],
                        "passed_time": 48.5678127,
                        "remaining_time": 3.93793076,
                        "test": [
                          0.9308797127,
                          0.2044567644
                        ]
                      },
                      {
                        "iteration": 925,
                        "learn": [
                          0.9946140036,
                          0.03871419371
                        ],
                        "passed_time": 48.62070032,
                        "remaining_time": 3.885455533,
                        "test": [
                          0.9308797127,
                          0.2043896382
                        ]
                      },
                      {
                        "iteration": 926,
                        "learn": [
                          0.9945654811,
                          0.03867373606
                        ],
                        "passed_time": 48.66905321,
                        "remaining_time": 3.832622313,
                        "test": [
                          0.9308797127,
                          0.2042973144
                        ]
                      },
                      {
                        "iteration": 927,
                        "learn": [
                          0.9945169586,
                          0.03862034124
                        ],
                        "passed_time": 48.71528799,
                        "remaining_time": 3.779634413,
                        "test": [
                          0.9306552962,
                          0.2042433789
                        ]
                      },
                      {
                        "iteration": 928,
                        "learn": [
                          0.9947110486,
                          0.03854141104
                        ],
                        "passed_time": 48.81124694,
                        "remaining_time": 3.730461284,
                        "test": [
                          0.9313285458,
                          0.2042546768
                        ]
                      },
                      {
                        "iteration": 929,
                        "learn": [
                          0.9947110486,
                          0.03849858873
                        ],
                        "passed_time": 48.90215919,
                        "remaining_time": 3.680807681,
                        "test": [
                          0.9308797127,
                          0.2043104181
                        ]
                      },
                      {
                        "iteration": 930,
                        "learn": [
                          0.9947595711,
                          0.03845955563
                        ],
                        "passed_time": 48.95272773,
                        "remaining_time": 3.628075417,
                        "test": [
                          0.9306552962,
                          0.2044859446
                        ]
                      },
                      {
                        "iteration": 931,
                        "learn": [
                          0.9946625261,
                          0.03839525264
                        ],
                        "passed_time": 49.00497658,
                        "remaining_time": 3.575470394,
                        "test": [
                          0.9306552962,
                          0.2045235684
                        ]
                      },
                      {
                        "iteration": 932,
                        "learn": [
                          0.9946140036,
                          0.03834117714
                        ],
                        "passed_time": 49.05522839,
                        "remaining_time": 3.522722725,
                        "test": [
                          0.9306552962,
                          0.2045876592
                        ]
                      },
                      {
                        "iteration": 933,
                        "learn": [
                          0.9946625261,
                          0.03831155803
                        ],
                        "passed_time": 49.10023888,
                        "remaining_time": 3.469610028,
                        "test": [
                          0.9308797127,
                          0.2046081245
                        ]
                      },
                      {
                        "iteration": 934,
                        "learn": [
                          0.9947595711,
                          0.03826682262
                        ],
                        "passed_time": 49.15398123,
                        "remaining_time": 3.41712169,
                        "test": [
                          0.9311041293,
                          0.2046017801
                        ]
                      },
                      {
                        "iteration": 935,
                        "learn": [
                          0.9947110486,
                          0.03822943584
                        ],
                        "passed_time": 49.20050415,
                        "remaining_time": 3.364137036,
                        "test": [
                          0.9313285458,
                          0.2045147797
                        ]
                      },
                      {
                        "iteration": 936,
                        "learn": [
                          0.9948080936,
                          0.03819126917
                        ],
                        "passed_time": 49.25147943,
                        "remaining_time": 3.311465533,
                        "test": [
                          0.9311041293,
                          0.2046545428
                        ]
                      },
                      {
                        "iteration": 937,
                        "learn": [
                          0.9948080936,
                          0.03817586116
                        ],
                        "passed_time": 49.2945247,
                        "remaining_time": 3.258273488,
                        "test": [
                          0.9308797127,
                          0.2046756918
                        ]
                      },
                      {
                        "iteration": 938,
                        "learn": [
                          0.9948080936,
                          0.03814879188
                        ],
                        "passed_time": 49.34653213,
                        "remaining_time": 3.205685261,
                        "test": [
                          0.9306552962,
                          0.2046953679
                        ]
                      },
                      {
                        "iteration": 939,
                        "learn": [
                          0.9948080936,
                          0.03813505964
                        ],
                        "passed_time": 49.40311819,
                        "remaining_time": 3.153390523,
                        "test": [
                          0.9304308797,
                          0.2047281726
                        ]
                      },
                      {
                        "iteration": 940,
                        "learn": [
                          0.9947595711,
                          0.03809827713
                        ],
                        "passed_time": 49.45248455,
                        "remaining_time": 3.100633994,
                        "test": [
                          0.9304308797,
                          0.2047797436
                        ]
                      },
                      {
                        "iteration": 941,
                        "learn": [
                          0.9947595711,
                          0.03805105701
                        ],
                        "passed_time": 49.49820541,
                        "remaining_time": 3.047660206,
                        "test": [
                          0.9306552962,
                          0.2045888419
                        ]
                      },
                      {
                        "iteration": 942,
                        "learn": [
                          0.9948080936,
                          0.03800134995
                        ],
                        "passed_time": 49.54459045,
                        "remaining_time": 2.994741947,
                        "test": [
                          0.9308797127,
                          0.2045986233
                        ]
                      },
                      {
                        "iteration": 943,
                        "learn": [
                          0.994856616,
                          0.03793562224
                        ],
                        "passed_time": 49.59370776,
                        "remaining_time": 2.941999613,
                        "test": [
                          0.9308797127,
                          0.2043321317
                        ]
                      },
                      {
                        "iteration": 944,
                        "learn": [
                          0.9949051385,
                          0.03784986619
                        ],
                        "passed_time": 49.64287522,
                        "remaining_time": 2.88926787,
                        "test": [
                          0.9304308797,
                          0.2045316854
                        ]
                      },
                      {
                        "iteration": 945,
                        "learn": [
                          0.9949051385,
                          0.03780442405
                        ],
                        "passed_time": 49.69285796,
                        "remaining_time": 2.836590201,
                        "test": [
                          0.9302064632,
                          0.2046194055
                        ]
                      },
                      {
                        "iteration": 946,
                        "learn": [
                          0.9949051385,
                          0.03776589708
                        ],
                        "passed_time": 49.73771533,
                        "remaining_time": 2.783631376,
                        "test": [
                          0.9304308797,
                          0.2046945132
                        ]
                      },
                      {
                        "iteration": 947,
                        "learn": [
                          0.9950021835,
                          0.03771964244
                        ],
                        "passed_time": 49.78793929,
                        "remaining_time": 2.730984012,
                        "test": [
                          0.9306552962,
                          0.2047439553
                        ]
                      },
                      {
                        "iteration": 948,
                        "learn": [
                          0.9950021835,
                          0.03769802923
                        ],
                        "passed_time": 49.87047104,
                        "remaining_time": 2.680078001,
                        "test": [
                          0.9306552962,
                          0.2046479923
                        ]
                      },
                      {
                        "iteration": 949,
                        "learn": [
                          0.9950021835,
                          0.03766792277
                        ],
                        "passed_time": 49.9663638,
                        "remaining_time": 2.629808621,
                        "test": [
                          0.9308797127,
                          0.2047662638
                        ]
                      },
                      {
                        "iteration": 950,
                        "learn": [
                          0.9950021835,
                          0.03754644465
                        ],
                        "passed_time": 50.03524864,
                        "remaining_time": 2.578051717,
                        "test": [
                          0.9311041293,
                          0.2046586493
                        ]
                      },
                      {
                        "iteration": 951,
                        "learn": [
                          0.994953661,
                          0.03750993971
                        ],
                        "passed_time": 50.08090989,
                        "remaining_time": 2.525087894,
                        "test": [
                          0.9308797127,
                          0.2047233799
                        ]
                      },
                      {
                        "iteration": 952,
                        "learn": [
                          0.9950021835,
                          0.03745374528
                        ],
                        "passed_time": 50.12874828,
                        "remaining_time": 2.472246767,
                        "test": [
                          0.9308797127,
                          0.2047739116
                        ]
                      },
                      {
                        "iteration": 953,
                        "learn": [
                          0.9950992285,
                          0.03736641579
                        ],
                        "passed_time": 50.18083041,
                        "remaining_time": 2.419620754,
                        "test": [
                          0.9306552962,
                          0.2048262656
                        ]
                      },
                      {
                        "iteration": 954,
                        "learn": [
                          0.9950992285,
                          0.03733769629
                        ],
                        "passed_time": 50.22476206,
                        "remaining_time": 2.366611825,
                        "test": [
                          0.9306552962,
                          0.204826571
                        ]
                      },
                      {
                        "iteration": 955,
                        "learn": [
                          0.9950992285,
                          0.03722560713
                        ],
                        "passed_time": 50.27450244,
                        "remaining_time": 2.313889234,
                        "test": [
                          0.9308797127,
                          0.2049578074
                        ]
                      },
                      {
                        "iteration": 956,
                        "learn": [
                          0.9950992285,
                          0.03720262368
                        ],
                        "passed_time": 50.32052907,
                        "remaining_time": 2.261006009,
                        "test": [
                          0.9308797127,
                          0.2050155886
                        ]
                      },
                      {
                        "iteration": 957,
                        "learn": [
                          0.9950992285,
                          0.03717612972
                        ],
                        "passed_time": 50.36717658,
                        "remaining_time": 2.208164318,
                        "test": [
                          0.9306552962,
                          0.2051429458
                        ]
                      },
                      {
                        "iteration": 958,
                        "learn": [
                          0.995147751,
                          0.03711990062
                        ],
                        "passed_time": 50.41436547,
                        "remaining_time": 2.15535869,
                        "test": [
                          0.9306552962,
                          0.2053417729
                        ]
                      },
                      {
                        "iteration": 959,
                        "learn": [
                          0.9950992285,
                          0.03706901478
                        ],
                        "passed_time": 50.47309264,
                        "remaining_time": 2.103045527,
                        "test": [
                          0.9304308797,
                          0.2053205986
                        ]
                      },
                      {
                        "iteration": 960,
                        "learn": [
                          0.995147751,
                          0.03700576536
                        ],
                        "passed_time": 50.51989997,
                        "remaining_time": 2.050235275,
                        "test": [
                          0.9304308797,
                          0.2054586769
                        ]
                      },
                      {
                        "iteration": 961,
                        "learn": [
                          0.9951962735,
                          0.03697991965
                        ],
                        "passed_time": 50.56860266,
                        "remaining_time": 1.997512371,
                        "test": [
                          0.9306552962,
                          0.2053902043
                        ]
                      },
                      {
                        "iteration": 962,
                        "learn": [
                          0.9951962735,
                          0.03695061464
                        ],
                        "passed_time": 50.61388362,
                        "remaining_time": 1.944666349,
                        "test": [
                          0.9304308797,
                          0.2053164076
                        ]
                      },
                      {
                        "iteration": 963,
                        "learn": [
                          0.995147751,
                          0.03687596316
                        ],
                        "passed_time": 50.66456485,
                        "remaining_time": 1.892037692,
                        "test": [
                          0.9299820467,
                          0.2053873368
                        ]
                      },
                      {
                        "iteration": 964,
                        "learn": [
                          0.9950992285,
                          0.03683199259
                        ],
                        "passed_time": 50.7149451,
                        "remaining_time": 1.839402154,
                        "test": [
                          0.9302064632,
                          0.2055463191
                        ]
                      },
                      {
                        "iteration": 965,
                        "learn": [
                          0.995147751,
                          0.03679881405
                        ],
                        "passed_time": 50.76245272,
                        "remaining_time": 1.786670179,
                        "test": [
                          0.9297576302,
                          0.2056340539
                        ]
                      },
                      {
                        "iteration": 966,
                        "learn": [
                          0.995147751,
                          0.03676214837
                        ],
                        "passed_time": 50.81086845,
                        "remaining_time": 1.733979999,
                        "test": [
                          0.9297576302,
                          0.2056459931
                        ]
                      },
                      {
                        "iteration": 967,
                        "learn": [
                          0.9951962735,
                          0.03670095011
                        ],
                        "passed_time": 50.87563184,
                        "remaining_time": 1.681839069,
                        "test": [
                          0.9295332136,
                          0.2057475344
                        ]
                      },
                      {
                        "iteration": 968,
                        "learn": [
                          0.995147751,
                          0.03665641198
                        ],
                        "passed_time": 50.97470151,
                        "remaining_time": 1.630769604,
                        "test": [
                          0.9295332136,
                          0.2057640732
                        ]
                      },
                      {
                        "iteration": 969,
                        "learn": [
                          0.995147751,
                          0.03661314374
                        ],
                        "passed_time": 51.04880359,
                        "remaining_time": 1.578828977,
                        "test": [
                          0.9295332136,
                          0.2057107057
                        ]
                      },
                      {
                        "iteration": 970,
                        "learn": [
                          0.995244796,
                          0.03652577798
                        ],
                        "passed_time": 51.10242001,
                        "remaining_time": 1.526230876,
                        "test": [
                          0.9295332136,
                          0.2057471626
                        ]
                      },
                      {
                        "iteration": 971,
                        "learn": [
                          0.9952933185,
                          0.03646920524
                        ],
                        "passed_time": 51.15576454,
                        "remaining_time": 1.473622847,
                        "test": [
                          0.9297576302,
                          0.2059017876
                        ]
                      },
                      {
                        "iteration": 972,
                        "learn": [
                          0.9953418409,
                          0.03638316167
                        ],
                        "passed_time": 51.2051819,
                        "remaining_time": 1.420904328,
                        "test": [
                          0.9302064632,
                          0.2059354633
                        ]
                      },
                      {
                        "iteration": 973,
                        "learn": [
                          0.9953418409,
                          0.03636867819
                        ],
                        "passed_time": 51.2543152,
                        "remaining_time": 1.368185005,
                        "test": [
                          0.9302064632,
                          0.2059150705
                        ]
                      },
                      {
                        "iteration": 974,
                        "learn": [
                          0.9953418409,
                          0.03634838075
                        ],
                        "passed_time": 51.299513,
                        "remaining_time": 1.315372128,
                        "test": [
                          0.9302064632,
                          0.2059040747
                        ]
                      },
                      {
                        "iteration": 975,
                        "learn": [
                          0.9955359309,
                          0.03630286397
                        ],
                        "passed_time": 51.34770678,
                        "remaining_time": 1.262648527,
                        "test": [
                          0.9302064632,
                          0.205905382
                        ]
                      },
                      {
                        "iteration": 976,
                        "learn": [
                          0.9955359309,
                          0.0362464534
                        ],
                        "passed_time": 51.40459025,
                        "remaining_time": 1.210138767,
                        "test": [
                          0.9299820467,
                          0.2059800047
                        ]
                      },
                      {
                        "iteration": 977,
                        "learn": [
                          0.9955359309,
                          0.03617593088
                        ],
                        "passed_time": 51.44878039,
                        "remaining_time": 1.157334528,
                        "test": [
                          0.9299820467,
                          0.206088517
                        ]
                      },
                      {
                        "iteration": 978,
                        "learn": [
                          0.9955359309,
                          0.0361500035
                        ],
                        "passed_time": 51.49727962,
                        "remaining_time": 1.104640319,
                        "test": [
                          0.9297576302,
                          0.2061005995
                        ]
                      },
                      {
                        "iteration": 979,
                        "learn": [
                          0.9954874084,
                          0.03611381828
                        ],
                        "passed_time": 51.54616637,
                        "remaining_time": 1.051962579,
                        "test": [
                          0.9299820467,
                          0.2062075498
                        ]
                      },
                      {
                        "iteration": 980,
                        "learn": [
                          0.9954388859,
                          0.03605282065
                        ],
                        "passed_time": 51.59752209,
                        "remaining_time": 0.9993403871,
                        "test": [
                          0.9299820467,
                          0.2061521393
                        ]
                      },
                      {
                        "iteration": 981,
                        "learn": [
                          0.9954388859,
                          0.03603190578
                        ],
                        "passed_time": 51.64503672,
                        "remaining_time": 0.9466503677,
                        "test": [
                          0.9302064632,
                          0.2061775862
                        ]
                      },
                      {
                        "iteration": 982,
                        "learn": [
                          0.9954388859,
                          0.03600177747
                        ],
                        "passed_time": 51.69798983,
                        "remaining_time": 0.894064931,
                        "test": [
                          0.9297576302,
                          0.2061813021
                        ]
                      },
                      {
                        "iteration": 983,
                        "learn": [
                          0.9955359309,
                          0.03595531589
                        ],
                        "passed_time": 51.7476417,
                        "remaining_time": 0.8414250683,
                        "test": [
                          0.9297576302,
                          0.2060827813
                        ]
                      },
                      {
                        "iteration": 984,
                        "learn": [
                          0.9955359309,
                          0.03590301809
                        ],
                        "passed_time": 51.80001349,
                        "remaining_time": 0.7888326928,
                        "test": [
                          0.9295332136,
                          0.2061138915
                        ]
                      },
                      {
                        "iteration": 985,
                        "learn": [
                          0.9955844534,
                          0.03581872772
                        ],
                        "passed_time": 51.85003061,
                        "remaining_time": 0.7362073312,
                        "test": [
                          0.9297576302,
                          0.2061804467
                        ]
                      },
                      {
                        "iteration": 986,
                        "learn": [
                          0.9956329759,
                          0.03579435942
                        ],
                        "passed_time": 51.91200837,
                        "remaining_time": 0.6837447911,
                        "test": [
                          0.9290843806,
                          0.2061595721
                        ]
                      },
                      {
                        "iteration": 987,
                        "learn": [
                          0.9956329759,
                          0.03567321387
                        ],
                        "passed_time": 51.96744729,
                        "remaining_time": 0.6311835704,
                        "test": [
                          0.9293087971,
                          0.2062723974
                        ]
                      },
                      {
                        "iteration": 988,
                        "learn": [
                          0.9956814984,
                          0.03562773138
                        ],
                        "passed_time": 52.09890928,
                        "remaining_time": 0.5794620851,
                        "test": [
                          0.9293087971,
                          0.2063149157
                        ]
                      },
                      {
                        "iteration": 989,
                        "learn": [
                          0.9956329759,
                          0.03558592473
                        ],
                        "passed_time": 52.15145847,
                        "remaining_time": 0.5267824088,
                        "test": [
                          0.9295332136,
                          0.2062872191
                        ]
                      },
                      {
                        "iteration": 990,
                        "learn": [
                          0.9956329759,
                          0.0355510651
                        ],
                        "passed_time": 52.20287145,
                        "remaining_time": 0.4740926772,
                        "test": [
                          0.9293087971,
                          0.2062978104
                        ]
                      },
                      {
                        "iteration": 991,
                        "learn": [
                          0.9956814984,
                          0.03551362535
                        ],
                        "passed_time": 52.24854697,
                        "remaining_time": 0.4213592498,
                        "test": [
                          0.9293087971,
                          0.2064084652
                        ]
                      },
                      {
                        "iteration": 992,
                        "learn": [
                          0.9957300209,
                          0.03545079497
                        ],
                        "passed_time": 52.30121095,
                        "remaining_time": 0.3686893017,
                        "test": [
                          0.9297576302,
                          0.2064430704
                        ]
                      },
                      {
                        "iteration": 993,
                        "learn": [
                          0.9956329759,
                          0.03541133422
                        ],
                        "passed_time": 52.35244715,
                        "remaining_time": 0.3160107474,
                        "test": [
                          0.9297576302,
                          0.2064395508
                        ]
                      },
                      {
                        "iteration": 994,
                        "learn": [
                          0.9957785434,
                          0.03536112724
                        ],
                        "passed_time": 52.40097263,
                        "remaining_time": 0.2633214705,
                        "test": [
                          0.9297576302,
                          0.2065213493
                        ]
                      },
                      {
                        "iteration": 995,
                        "learn": [
                          0.9957785434,
                          0.03527567188
                        ],
                        "passed_time": 52.44907085,
                        "remaining_time": 0.2106388388,
                        "test": [
                          0.9299820467,
                          0.2065969093
                        ]
                      },
                      {
                        "iteration": 996,
                        "learn": [
                          0.9957300209,
                          0.035232142
                        ],
                        "passed_time": 52.49800186,
                        "remaining_time": 0.1579679093,
                        "test": [
                          0.9297576302,
                          0.2065005652
                        ]
                      },
                      {
                        "iteration": 997,
                        "learn": [
                          0.9957300209,
                          0.03520302553
                        ],
                        "passed_time": 52.54343952,
                        "remaining_time": 0.105297474,
                        "test": [
                          0.9297576302,
                          0.2064626158
                        ]
                      },
                      {
                        "iteration": 998,
                        "learn": [
                          0.9956814984,
                          0.03516725256
                        ],
                        "passed_time": 52.59401117,
                        "remaining_time": 0.05264665782,
                        "test": [
                          0.9290843806,
                          0.2064181204
                        ]
                      },
                      {
                        "iteration": 999,
                        "learn": [
                          0.9957300209,
                          0.03512034596
                        ],
                        "passed_time": 52.6446782,
                        "remaining_time": 0,
                        "test": [
                          0.9290843806,
                          0.2063793678
                        ]
                      }
                    ],
                    "meta": {
                      "iteration_count": 1000,
                      "launch_mode": "Train",
                      "learn_metrics": [
                        {
                          "best_value": "Max",
                          "name": "Accuracy"
                        },
                        {
                          "best_value": "Min",
                          "name": "MultiClass"
                        }
                      ],
                      "learn_sets": [
                        "learn"
                      ],
                      "name": "experiment",
                      "parameters": "",
                      "test_metrics": [
                        {
                          "best_value": "Max",
                          "name": "Accuracy"
                        },
                        {
                          "best_value": "Min",
                          "name": "MultiClass"
                        }
                      ],
                      "test_sets": [
                        "test"
                      ]
                    }
                  },
                  "passed_iterations": 999,
                  "total_iterations": 1000
                },
                "name": "catboost_info",
                "path": "catboost_info"
              }
            },
            "layout": "IPY_MODEL_937988ce3d5f4a8b8376fa6aa23aa1d3"
          }
        }
      }
    }
  },
  "nbformat": 4,
  "nbformat_minor": 5
}
