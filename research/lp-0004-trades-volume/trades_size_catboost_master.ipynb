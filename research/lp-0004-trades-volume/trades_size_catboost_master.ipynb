{
  "cells": [
    {
      "cell_type": "code",
      "execution_count": 1,
      "id": "6PWJsnjzBfq1",
      "metadata": {
        "colab": {
          "base_uri": "https://localhost:8080/"
        },
        "id": "6PWJsnjzBfq1",
        "outputId": "4c681892-bf5e-4351-ddec-1f8e8983cac1"
      },
      "outputs": [
        {
          "output_type": "stream",
          "name": "stdout",
          "text": [
            "Requirement already satisfied: catboost in /usr/local/lib/python3.7/dist-packages (1.0.4)\n",
            "Requirement already satisfied: graphviz in /usr/local/lib/python3.7/dist-packages (from catboost) (0.10.1)\n",
            "Requirement already satisfied: numpy>=1.16.0 in /usr/local/lib/python3.7/dist-packages (from catboost) (1.19.5)\n",
            "Requirement already satisfied: plotly in /usr/local/lib/python3.7/dist-packages (from catboost) (4.4.1)\n",
            "Requirement already satisfied: pandas>=0.24.0 in /usr/local/lib/python3.7/dist-packages (from catboost) (1.1.5)\n",
            "Requirement already satisfied: six in /usr/local/lib/python3.7/dist-packages (from catboost) (1.15.0)\n",
            "Requirement already satisfied: matplotlib in /usr/local/lib/python3.7/dist-packages (from catboost) (3.2.2)\n",
            "Requirement already satisfied: scipy in /usr/local/lib/python3.7/dist-packages (from catboost) (1.4.1)\n",
            "Requirement already satisfied: python-dateutil>=2.7.3 in /usr/local/lib/python3.7/dist-packages (from pandas>=0.24.0->catboost) (2.8.2)\n",
            "Requirement already satisfied: pytz>=2017.2 in /usr/local/lib/python3.7/dist-packages (from pandas>=0.24.0->catboost) (2018.9)\n",
            "Requirement already satisfied: kiwisolver>=1.0.1 in /usr/local/lib/python3.7/dist-packages (from matplotlib->catboost) (1.3.2)\n",
            "Requirement already satisfied: pyparsing!=2.0.4,!=2.1.2,!=2.1.6,>=2.0.1 in /usr/local/lib/python3.7/dist-packages (from matplotlib->catboost) (3.0.6)\n",
            "Requirement already satisfied: cycler>=0.10 in /usr/local/lib/python3.7/dist-packages (from matplotlib->catboost) (0.11.0)\n",
            "Requirement already satisfied: retrying>=1.3.3 in /usr/local/lib/python3.7/dist-packages (from plotly->catboost) (1.3.3)\n",
            "Requirement already satisfied: hyperopt==0.2.5 in /usr/local/lib/python3.7/dist-packages (0.2.5)\n",
            "Requirement already satisfied: six in /usr/local/lib/python3.7/dist-packages (from hyperopt==0.2.5) (1.15.0)\n",
            "Requirement already satisfied: tqdm in /usr/local/lib/python3.7/dist-packages (from hyperopt==0.2.5) (4.62.3)\n",
            "Requirement already satisfied: cloudpickle in /usr/local/lib/python3.7/dist-packages (from hyperopt==0.2.5) (1.3.0)\n",
            "Requirement already satisfied: numpy in /usr/local/lib/python3.7/dist-packages (from hyperopt==0.2.5) (1.19.5)\n",
            "Requirement already satisfied: future in /usr/local/lib/python3.7/dist-packages (from hyperopt==0.2.5) (0.16.0)\n",
            "Requirement already satisfied: scipy in /usr/local/lib/python3.7/dist-packages (from hyperopt==0.2.5) (1.4.1)\n",
            "Requirement already satisfied: networkx>=2.2 in /usr/local/lib/python3.7/dist-packages (from hyperopt==0.2.5) (2.6.3)\n"
          ]
        }
      ],
      "source": [
        "!pip3 install catboost\n",
        "!pip3 install hyperopt==0.2.5"
      ]
    },
    {
      "cell_type": "code",
      "source": [
        "from google.colab import drive\n",
        "drive.mount('/content/drive')"
      ],
      "metadata": {
        "colab": {
          "base_uri": "https://localhost:8080/"
        },
        "id": "DWI_e1FSru3w",
        "outputId": "6d54428c-c46a-4388-833f-30d7eb9ca2c0"
      },
      "id": "DWI_e1FSru3w",
      "execution_count": 2,
      "outputs": [
        {
          "output_type": "stream",
          "name": "stdout",
          "text": [
            "Drive already mounted at /content/drive; to attempt to forcibly remount, call drive.mount(\"/content/drive\", force_remount=True).\n"
          ]
        }
      ]
    },
    {
      "cell_type": "code",
      "execution_count": 3,
      "id": "vjlvDT-QXrD0",
      "metadata": {
        "id": "vjlvDT-QXrD0"
      },
      "outputs": [],
      "source": [
        "import pandas as pd\n",
        "import numpy as np\n",
        "from catboost import CatBoostClassifier, Pool, metrics, cv\n",
        "from sklearn.metrics import accuracy_score\n",
        "from sklearn.model_selection import train_test_split\n",
        "import hyperopt\n",
        "from numpy.random import RandomState\n",
        "from catboost.utils import select_threshold"
      ]
    },
    {
      "cell_type": "code",
      "execution_count": 43,
      "id": "853aa3c4-a2d3-4845-ad55-388c7ddc238f",
      "metadata": {
        "id": "853aa3c4-a2d3-4845-ad55-388c7ddc238f",
        "colab": {
          "base_uri": "https://localhost:8080/"
        },
        "outputId": "7b574fd8-e6f6-4458-a360-1108039e2e2a"
      },
      "outputs": [
        {
          "output_type": "stream",
          "name": "stderr",
          "text": [
            "/usr/local/lib/python3.7/dist-packages/ipykernel_launcher.py:17: SettingWithCopyWarning: \n",
            "A value is trying to be set on a copy of a slice from a DataFrame.\n",
            "Try using .loc[row_indexer,col_indexer] = value instead\n",
            "\n",
            "See the caveats in the documentation: https://pandas.pydata.org/pandas-docs/stable/user_guide/indexing.html#returning-a-view-versus-a-copy\n",
            "/usr/local/lib/python3.7/dist-packages/ipykernel_launcher.py:14: SettingWithCopyWarning: \n",
            "A value is trying to be set on a copy of a slice from a DataFrame.\n",
            "Try using .loc[row_indexer,col_indexer] = value instead\n",
            "\n",
            "See the caveats in the documentation: https://pandas.pydata.org/pandas-docs/stable/user_guide/indexing.html#returning-a-view-versus-a-copy\n",
            "  \n"
          ]
        }
      ],
      "source": [
        "csv_path = \"drive/MyDrive/trades-df-2021_11_1_0_0_0-2021_12_21_0_0_0.csv\"\n",
        "df = pd.read_csv(csv_path)\n",
        "x_columns = list(filter(lambda column: not 'punch' in column, df.columns))\n",
        "y_columns = list(filter(lambda column: 'punch' in column, df.columns))\n",
        "X = df[x_columns]\n",
        "secs = list(sorted(list(set(map(lambda x : int(''.join(x)), [[s for s in column if s.isdigit()] for column in x_columns])))))\n",
        "delta_sec = secs[1] - secs[0]\n",
        "max_sec = secs[-1]\n",
        "min_sec = secs[0]\n",
        "\n",
        "for column in x_columns:\n",
        "    name, side, sec, _ = column.split('-')\n",
        "    if not 'price' in name and int(sec) != min_sec:\n",
        "        X[f'{name}-{side}-{sec}-sec'] -= X[f'{name}-{side}-{str(int(sec) - delta_sec)}-sec']\n",
        "    elif 'price' in name:\n",
        "        if int(sec) != max_sec:\n",
        "            X[f'{name}-{side}-{sec}-sec'] /= X[f'{name}-{side}-{str(int(sec) + delta_sec)}-sec']\n",
        "        else:\n",
        "            X = X.drop(f'{name}-{side}-{sec}-sec', axis=1)\n",
        "\n",
        "commision = 0.0005\n",
        "punch = commision * 4\n",
        "\n",
        "y = pd.DataFrame(\n",
        "    df[y_columns].apply(\n",
        "        lambda row : 1 if max(list(row.to_numpy()), key=abs) > punch else -1 if max(list(row.to_numpy()), key=abs) < -punch else 0,\n",
        "        axis = 1\n",
        "    )\n",
        ")\n",
        "y = y.rename({0:'target'}, axis='columns')"
      ]
    },
    {
      "cell_type": "code",
      "source": [
        "print(y.value_counts())\n",
        "y"
      ],
      "metadata": {
        "colab": {
          "base_uri": "https://localhost:8080/",
          "height": 510
        },
        "id": "r8UlIqi_1pT3",
        "outputId": "8ccacc07-bd35-49ba-95e6-7f04f9a45eae"
      },
      "id": "r8UlIqi_1pT3",
      "execution_count": 44,
      "outputs": [
        {
          "output_type": "stream",
          "name": "stdout",
          "text": [
            "target\n",
            " 0        36607\n",
            "-1         1155\n",
            " 1          985\n",
            "dtype: int64\n"
          ]
        },
        {
          "output_type": "execute_result",
          "data": {
            "text/html": [
              "\n",
              "  <div id=\"df-23c8f2db-3685-493f-bf45-fbc96ce7c14a\">\n",
              "    <div class=\"colab-df-container\">\n",
              "      <div>\n",
              "<style scoped>\n",
              "    .dataframe tbody tr th:only-of-type {\n",
              "        vertical-align: middle;\n",
              "    }\n",
              "\n",
              "    .dataframe tbody tr th {\n",
              "        vertical-align: top;\n",
              "    }\n",
              "\n",
              "    .dataframe thead th {\n",
              "        text-align: right;\n",
              "    }\n",
              "</style>\n",
              "<table border=\"1\" class=\"dataframe\">\n",
              "  <thead>\n",
              "    <tr style=\"text-align: right;\">\n",
              "      <th></th>\n",
              "      <th>target</th>\n",
              "    </tr>\n",
              "  </thead>\n",
              "  <tbody>\n",
              "    <tr>\n",
              "      <th>0</th>\n",
              "      <td>0</td>\n",
              "    </tr>\n",
              "    <tr>\n",
              "      <th>1</th>\n",
              "      <td>0</td>\n",
              "    </tr>\n",
              "    <tr>\n",
              "      <th>2</th>\n",
              "      <td>1</td>\n",
              "    </tr>\n",
              "    <tr>\n",
              "      <th>3</th>\n",
              "      <td>0</td>\n",
              "    </tr>\n",
              "    <tr>\n",
              "      <th>4</th>\n",
              "      <td>0</td>\n",
              "    </tr>\n",
              "    <tr>\n",
              "      <th>...</th>\n",
              "      <td>...</td>\n",
              "    </tr>\n",
              "    <tr>\n",
              "      <th>38742</th>\n",
              "      <td>0</td>\n",
              "    </tr>\n",
              "    <tr>\n",
              "      <th>38743</th>\n",
              "      <td>0</td>\n",
              "    </tr>\n",
              "    <tr>\n",
              "      <th>38744</th>\n",
              "      <td>0</td>\n",
              "    </tr>\n",
              "    <tr>\n",
              "      <th>38745</th>\n",
              "      <td>0</td>\n",
              "    </tr>\n",
              "    <tr>\n",
              "      <th>38746</th>\n",
              "      <td>0</td>\n",
              "    </tr>\n",
              "  </tbody>\n",
              "</table>\n",
              "<p>38747 rows × 1 columns</p>\n",
              "</div>\n",
              "      <button class=\"colab-df-convert\" onclick=\"convertToInteractive('df-23c8f2db-3685-493f-bf45-fbc96ce7c14a')\"\n",
              "              title=\"Convert this dataframe to an interactive table.\"\n",
              "              style=\"display:none;\">\n",
              "        \n",
              "  <svg xmlns=\"http://www.w3.org/2000/svg\" height=\"24px\"viewBox=\"0 0 24 24\"\n",
              "       width=\"24px\">\n",
              "    <path d=\"M0 0h24v24H0V0z\" fill=\"none\"/>\n",
              "    <path d=\"M18.56 5.44l.94 2.06.94-2.06 2.06-.94-2.06-.94-.94-2.06-.94 2.06-2.06.94zm-11 1L8.5 8.5l.94-2.06 2.06-.94-2.06-.94L8.5 2.5l-.94 2.06-2.06.94zm10 10l.94 2.06.94-2.06 2.06-.94-2.06-.94-.94-2.06-.94 2.06-2.06.94z\"/><path d=\"M17.41 7.96l-1.37-1.37c-.4-.4-.92-.59-1.43-.59-.52 0-1.04.2-1.43.59L10.3 9.45l-7.72 7.72c-.78.78-.78 2.05 0 2.83L4 21.41c.39.39.9.59 1.41.59.51 0 1.02-.2 1.41-.59l7.78-7.78 2.81-2.81c.8-.78.8-2.07 0-2.86zM5.41 20L4 18.59l7.72-7.72 1.47 1.35L5.41 20z\"/>\n",
              "  </svg>\n",
              "      </button>\n",
              "      \n",
              "  <style>\n",
              "    .colab-df-container {\n",
              "      display:flex;\n",
              "      flex-wrap:wrap;\n",
              "      gap: 12px;\n",
              "    }\n",
              "\n",
              "    .colab-df-convert {\n",
              "      background-color: #E8F0FE;\n",
              "      border: none;\n",
              "      border-radius: 50%;\n",
              "      cursor: pointer;\n",
              "      display: none;\n",
              "      fill: #1967D2;\n",
              "      height: 32px;\n",
              "      padding: 0 0 0 0;\n",
              "      width: 32px;\n",
              "    }\n",
              "\n",
              "    .colab-df-convert:hover {\n",
              "      background-color: #E2EBFA;\n",
              "      box-shadow: 0px 1px 2px rgba(60, 64, 67, 0.3), 0px 1px 3px 1px rgba(60, 64, 67, 0.15);\n",
              "      fill: #174EA6;\n",
              "    }\n",
              "\n",
              "    [theme=dark] .colab-df-convert {\n",
              "      background-color: #3B4455;\n",
              "      fill: #D2E3FC;\n",
              "    }\n",
              "\n",
              "    [theme=dark] .colab-df-convert:hover {\n",
              "      background-color: #434B5C;\n",
              "      box-shadow: 0px 1px 3px 1px rgba(0, 0, 0, 0.15);\n",
              "      filter: drop-shadow(0px 1px 2px rgba(0, 0, 0, 0.3));\n",
              "      fill: #FFFFFF;\n",
              "    }\n",
              "  </style>\n",
              "\n",
              "      <script>\n",
              "        const buttonEl =\n",
              "          document.querySelector('#df-23c8f2db-3685-493f-bf45-fbc96ce7c14a button.colab-df-convert');\n",
              "        buttonEl.style.display =\n",
              "          google.colab.kernel.accessAllowed ? 'block' : 'none';\n",
              "\n",
              "        async function convertToInteractive(key) {\n",
              "          const element = document.querySelector('#df-23c8f2db-3685-493f-bf45-fbc96ce7c14a');\n",
              "          const dataTable =\n",
              "            await google.colab.kernel.invokeFunction('convertToInteractive',\n",
              "                                                     [key], {});\n",
              "          if (!dataTable) return;\n",
              "\n",
              "          const docLinkHtml = 'Like what you see? Visit the ' +\n",
              "            '<a target=\"_blank\" href=https://colab.research.google.com/notebooks/data_table.ipynb>data table notebook</a>'\n",
              "            + ' to learn more about interactive tables.';\n",
              "          element.innerHTML = '';\n",
              "          dataTable['output_type'] = 'display_data';\n",
              "          await google.colab.output.renderOutput(dataTable, element);\n",
              "          const docLink = document.createElement('div');\n",
              "          docLink.innerHTML = docLinkHtml;\n",
              "          element.appendChild(docLink);\n",
              "        }\n",
              "      </script>\n",
              "    </div>\n",
              "  </div>\n",
              "  "
            ],
            "text/plain": [
              "       target\n",
              "0           0\n",
              "1           0\n",
              "2           1\n",
              "3           0\n",
              "4           0\n",
              "...       ...\n",
              "38742       0\n",
              "38743       0\n",
              "38744       0\n",
              "38745       0\n",
              "38746       0\n",
              "\n",
              "[38747 rows x 1 columns]"
            ]
          },
          "metadata": {},
          "execution_count": 44
        }
      ]
    },
    {
      "cell_type": "code",
      "execution_count": 45,
      "id": "96ce2f97-578b-4e03-88df-68348c66e537",
      "metadata": {
        "colab": {
          "base_uri": "https://localhost:8080/",
          "height": 505
        },
        "id": "96ce2f97-578b-4e03-88df-68348c66e537",
        "outputId": "5bee69ba-e9fb-44f0-9e8a-32f00b23d3c5"
      },
      "outputs": [
        {
          "output_type": "execute_result",
          "data": {
            "text/html": [
              "\n",
              "  <div id=\"df-d51c3294-fd22-4d8d-82c5-52094ee280a2\">\n",
              "    <div class=\"colab-df-container\">\n",
              "      <div>\n",
              "<style scoped>\n",
              "    .dataframe tbody tr th:only-of-type {\n",
              "        vertical-align: middle;\n",
              "    }\n",
              "\n",
              "    .dataframe tbody tr th {\n",
              "        vertical-align: top;\n",
              "    }\n",
              "\n",
              "    .dataframe thead th {\n",
              "        text-align: right;\n",
              "    }\n",
              "</style>\n",
              "<table border=\"1\" class=\"dataframe\">\n",
              "  <thead>\n",
              "    <tr style=\"text-align: right;\">\n",
              "      <th></th>\n",
              "      <th>trade_volume-BUY-6-sec</th>\n",
              "      <th>moving_average_price-BUY-6-sec</th>\n",
              "      <th>weighted_moving_average_price-BUY-6-sec</th>\n",
              "      <th>exp_moving_average_price-BUY-6-sec</th>\n",
              "      <th>stochastic_oscillator-BUY-6-sec</th>\n",
              "      <th>trade_volume-BUY-12-sec</th>\n",
              "      <th>moving_average_price-BUY-12-sec</th>\n",
              "      <th>weighted_moving_average_price-BUY-12-sec</th>\n",
              "      <th>exp_moving_average_price-BUY-12-sec</th>\n",
              "      <th>stochastic_oscillator-BUY-12-sec</th>\n",
              "      <th>trade_volume-BUY-18-sec</th>\n",
              "      <th>moving_average_price-BUY-18-sec</th>\n",
              "      <th>weighted_moving_average_price-BUY-18-sec</th>\n",
              "      <th>exp_moving_average_price-BUY-18-sec</th>\n",
              "      <th>stochastic_oscillator-BUY-18-sec</th>\n",
              "      <th>trade_volume-BUY-24-sec</th>\n",
              "      <th>moving_average_price-BUY-24-sec</th>\n",
              "      <th>weighted_moving_average_price-BUY-24-sec</th>\n",
              "      <th>exp_moving_average_price-BUY-24-sec</th>\n",
              "      <th>stochastic_oscillator-BUY-24-sec</th>\n",
              "      <th>trade_volume-BUY-30-sec</th>\n",
              "      <th>moving_average_price-BUY-30-sec</th>\n",
              "      <th>weighted_moving_average_price-BUY-30-sec</th>\n",
              "      <th>exp_moving_average_price-BUY-30-sec</th>\n",
              "      <th>stochastic_oscillator-BUY-30-sec</th>\n",
              "      <th>trade_volume-BUY-36-sec</th>\n",
              "      <th>moving_average_price-BUY-36-sec</th>\n",
              "      <th>weighted_moving_average_price-BUY-36-sec</th>\n",
              "      <th>exp_moving_average_price-BUY-36-sec</th>\n",
              "      <th>stochastic_oscillator-BUY-36-sec</th>\n",
              "      <th>trade_volume-BUY-42-sec</th>\n",
              "      <th>moving_average_price-BUY-42-sec</th>\n",
              "      <th>weighted_moving_average_price-BUY-42-sec</th>\n",
              "      <th>exp_moving_average_price-BUY-42-sec</th>\n",
              "      <th>stochastic_oscillator-BUY-42-sec</th>\n",
              "      <th>trade_volume-BUY-48-sec</th>\n",
              "      <th>moving_average_price-BUY-48-sec</th>\n",
              "      <th>weighted_moving_average_price-BUY-48-sec</th>\n",
              "      <th>exp_moving_average_price-BUY-48-sec</th>\n",
              "      <th>stochastic_oscillator-BUY-48-sec</th>\n",
              "      <th>...</th>\n",
              "      <th>weighted_moving_average_price-SELL-12-sec</th>\n",
              "      <th>exp_moving_average_price-SELL-12-sec</th>\n",
              "      <th>stochastic_oscillator-SELL-12-sec</th>\n",
              "      <th>trade_volume-SELL-18-sec</th>\n",
              "      <th>moving_average_price-SELL-18-sec</th>\n",
              "      <th>weighted_moving_average_price-SELL-18-sec</th>\n",
              "      <th>exp_moving_average_price-SELL-18-sec</th>\n",
              "      <th>stochastic_oscillator-SELL-18-sec</th>\n",
              "      <th>trade_volume-SELL-24-sec</th>\n",
              "      <th>moving_average_price-SELL-24-sec</th>\n",
              "      <th>weighted_moving_average_price-SELL-24-sec</th>\n",
              "      <th>exp_moving_average_price-SELL-24-sec</th>\n",
              "      <th>stochastic_oscillator-SELL-24-sec</th>\n",
              "      <th>trade_volume-SELL-30-sec</th>\n",
              "      <th>moving_average_price-SELL-30-sec</th>\n",
              "      <th>weighted_moving_average_price-SELL-30-sec</th>\n",
              "      <th>exp_moving_average_price-SELL-30-sec</th>\n",
              "      <th>stochastic_oscillator-SELL-30-sec</th>\n",
              "      <th>trade_volume-SELL-36-sec</th>\n",
              "      <th>moving_average_price-SELL-36-sec</th>\n",
              "      <th>weighted_moving_average_price-SELL-36-sec</th>\n",
              "      <th>exp_moving_average_price-SELL-36-sec</th>\n",
              "      <th>stochastic_oscillator-SELL-36-sec</th>\n",
              "      <th>trade_volume-SELL-42-sec</th>\n",
              "      <th>moving_average_price-SELL-42-sec</th>\n",
              "      <th>weighted_moving_average_price-SELL-42-sec</th>\n",
              "      <th>exp_moving_average_price-SELL-42-sec</th>\n",
              "      <th>stochastic_oscillator-SELL-42-sec</th>\n",
              "      <th>trade_volume-SELL-48-sec</th>\n",
              "      <th>moving_average_price-SELL-48-sec</th>\n",
              "      <th>weighted_moving_average_price-SELL-48-sec</th>\n",
              "      <th>exp_moving_average_price-SELL-48-sec</th>\n",
              "      <th>stochastic_oscillator-SELL-48-sec</th>\n",
              "      <th>trade_volume-SELL-54-sec</th>\n",
              "      <th>moving_average_price-SELL-54-sec</th>\n",
              "      <th>weighted_moving_average_price-SELL-54-sec</th>\n",
              "      <th>exp_moving_average_price-SELL-54-sec</th>\n",
              "      <th>stochastic_oscillator-SELL-54-sec</th>\n",
              "      <th>trade_volume-SELL-60-sec</th>\n",
              "      <th>stochastic_oscillator-SELL-60-sec</th>\n",
              "    </tr>\n",
              "  </thead>\n",
              "  <tbody>\n",
              "    <tr>\n",
              "      <th>0</th>\n",
              "      <td>0.100</td>\n",
              "      <td>1.000000</td>\n",
              "      <td>1.000000</td>\n",
              "      <td>1.000000</td>\n",
              "      <td>0.0</td>\n",
              "      <td>0.400</td>\n",
              "      <td>1.000078</td>\n",
              "      <td>1.000113</td>\n",
              "      <td>1.000005</td>\n",
              "      <td>0.000000</td>\n",
              "      <td>10.355</td>\n",
              "      <td>1.000006</td>\n",
              "      <td>1.000000</td>\n",
              "      <td>1.000000</td>\n",
              "      <td>1.000000</td>\n",
              "      <td>0.500</td>\n",
              "      <td>1.000013</td>\n",
              "      <td>1.000001</td>\n",
              "      <td>1.000000</td>\n",
              "      <td>0.000000</td>\n",
              "      <td>10.655</td>\n",
              "      <td>1.000020</td>\n",
              "      <td>1.000002</td>\n",
              "      <td>1.0</td>\n",
              "      <td>1.000000</td>\n",
              "      <td>0.716</td>\n",
              "      <td>1.000023</td>\n",
              "      <td>1.000004</td>\n",
              "      <td>1.000000</td>\n",
              "      <td>0.000000</td>\n",
              "      <td>10.855</td>\n",
              "      <td>1.000019</td>\n",
              "      <td>1.000004</td>\n",
              "      <td>1.000000</td>\n",
              "      <td>1.000000</td>\n",
              "      <td>0.916</td>\n",
              "      <td>1.000000</td>\n",
              "      <td>1.000000</td>\n",
              "      <td>1.0</td>\n",
              "      <td>0.000000</td>\n",
              "      <td>...</td>\n",
              "      <td>1.000067</td>\n",
              "      <td>1.000007</td>\n",
              "      <td>0.000000</td>\n",
              "      <td>0.400</td>\n",
              "      <td>1.000035</td>\n",
              "      <td>1.000038</td>\n",
              "      <td>1.000000</td>\n",
              "      <td>1.000000</td>\n",
              "      <td>0.800</td>\n",
              "      <td>1.000006</td>\n",
              "      <td>1.000005</td>\n",
              "      <td>1.000000</td>\n",
              "      <td>0.000000</td>\n",
              "      <td>0.600</td>\n",
              "      <td>1.000035</td>\n",
              "      <td>1.000140</td>\n",
              "      <td>1.0</td>\n",
              "      <td>1.000000</td>\n",
              "      <td>3.500</td>\n",
              "      <td>1.000020</td>\n",
              "      <td>1.000004</td>\n",
              "      <td>1.000000</td>\n",
              "      <td>0.000000</td>\n",
              "      <td>0.800</td>\n",
              "      <td>1.000023</td>\n",
              "      <td>1.000024</td>\n",
              "      <td>1.0</td>\n",
              "      <td>1.000000</td>\n",
              "      <td>5.566</td>\n",
              "      <td>1.000012</td>\n",
              "      <td>1.000014</td>\n",
              "      <td>1.0</td>\n",
              "      <td>0.000000</td>\n",
              "      <td>3.400</td>\n",
              "      <td>1.000028</td>\n",
              "      <td>1.000018</td>\n",
              "      <td>1.0</td>\n",
              "      <td>1.000000</td>\n",
              "      <td>15.547</td>\n",
              "      <td>0.000000</td>\n",
              "    </tr>\n",
              "    <tr>\n",
              "      <th>1</th>\n",
              "      <td>0.200</td>\n",
              "      <td>1.000000</td>\n",
              "      <td>1.000000</td>\n",
              "      <td>1.000000</td>\n",
              "      <td>0.0</td>\n",
              "      <td>0.300</td>\n",
              "      <td>1.000000</td>\n",
              "      <td>1.000000</td>\n",
              "      <td>1.000000</td>\n",
              "      <td>0.000000</td>\n",
              "      <td>0.400</td>\n",
              "      <td>1.000000</td>\n",
              "      <td>1.000000</td>\n",
              "      <td>1.000000</td>\n",
              "      <td>0.000000</td>\n",
              "      <td>0.600</td>\n",
              "      <td>1.000000</td>\n",
              "      <td>1.000000</td>\n",
              "      <td>1.000000</td>\n",
              "      <td>0.000000</td>\n",
              "      <td>0.650</td>\n",
              "      <td>1.000000</td>\n",
              "      <td>1.000000</td>\n",
              "      <td>1.0</td>\n",
              "      <td>0.000000</td>\n",
              "      <td>0.800</td>\n",
              "      <td>1.000037</td>\n",
              "      <td>1.000048</td>\n",
              "      <td>1.000000</td>\n",
              "      <td>0.000000</td>\n",
              "      <td>1.399</td>\n",
              "      <td>1.000005</td>\n",
              "      <td>1.000004</td>\n",
              "      <td>1.000000</td>\n",
              "      <td>0.600000</td>\n",
              "      <td>0.900</td>\n",
              "      <td>0.999985</td>\n",
              "      <td>0.999986</td>\n",
              "      <td>1.0</td>\n",
              "      <td>0.000000</td>\n",
              "      <td>...</td>\n",
              "      <td>1.000000</td>\n",
              "      <td>1.000000</td>\n",
              "      <td>0.000000</td>\n",
              "      <td>0.766</td>\n",
              "      <td>1.000000</td>\n",
              "      <td>1.000000</td>\n",
              "      <td>1.000000</td>\n",
              "      <td>0.000000</td>\n",
              "      <td>4.084</td>\n",
              "      <td>1.000000</td>\n",
              "      <td>1.000000</td>\n",
              "      <td>1.000000</td>\n",
              "      <td>0.000000</td>\n",
              "      <td>0.766</td>\n",
              "      <td>1.000008</td>\n",
              "      <td>1.000003</td>\n",
              "      <td>1.0</td>\n",
              "      <td>0.000000</td>\n",
              "      <td>4.284</td>\n",
              "      <td>1.000025</td>\n",
              "      <td>1.000010</td>\n",
              "      <td>1.000000</td>\n",
              "      <td>0.600000</td>\n",
              "      <td>1.166</td>\n",
              "      <td>1.000000</td>\n",
              "      <td>1.000000</td>\n",
              "      <td>1.0</td>\n",
              "      <td>0.000000</td>\n",
              "      <td>4.284</td>\n",
              "      <td>0.999875</td>\n",
              "      <td>0.999760</td>\n",
              "      <td>1.0</td>\n",
              "      <td>0.600000</td>\n",
              "      <td>34.697</td>\n",
              "      <td>0.999995</td>\n",
              "      <td>1.000000</td>\n",
              "      <td>1.0</td>\n",
              "      <td>-0.339130</td>\n",
              "      <td>4.384</td>\n",
              "      <td>0.600000</td>\n",
              "    </tr>\n",
              "    <tr>\n",
              "      <th>2</th>\n",
              "      <td>0.200</td>\n",
              "      <td>1.000054</td>\n",
              "      <td>1.000093</td>\n",
              "      <td>1.000045</td>\n",
              "      <td>0.0</td>\n",
              "      <td>49.298</td>\n",
              "      <td>0.999927</td>\n",
              "      <td>0.999998</td>\n",
              "      <td>0.999997</td>\n",
              "      <td>0.000000</td>\n",
              "      <td>0.500</td>\n",
              "      <td>0.999985</td>\n",
              "      <td>0.999999</td>\n",
              "      <td>1.000000</td>\n",
              "      <td>0.000000</td>\n",
              "      <td>49.398</td>\n",
              "      <td>0.999912</td>\n",
              "      <td>0.999997</td>\n",
              "      <td>1.000000</td>\n",
              "      <td>0.000000</td>\n",
              "      <td>0.700</td>\n",
              "      <td>0.999762</td>\n",
              "      <td>0.999991</td>\n",
              "      <td>1.0</td>\n",
              "      <td>0.000000</td>\n",
              "      <td>49.798</td>\n",
              "      <td>0.999887</td>\n",
              "      <td>0.999993</td>\n",
              "      <td>1.000000</td>\n",
              "      <td>0.000000</td>\n",
              "      <td>0.946</td>\n",
              "      <td>0.999952</td>\n",
              "      <td>0.999997</td>\n",
              "      <td>1.000000</td>\n",
              "      <td>0.000000</td>\n",
              "      <td>49.898</td>\n",
              "      <td>0.999883</td>\n",
              "      <td>0.999994</td>\n",
              "      <td>1.0</td>\n",
              "      <td>0.000000</td>\n",
              "      <td>...</td>\n",
              "      <td>1.000006</td>\n",
              "      <td>1.000000</td>\n",
              "      <td>0.000000</td>\n",
              "      <td>6.920</td>\n",
              "      <td>0.999977</td>\n",
              "      <td>1.000000</td>\n",
              "      <td>1.000000</td>\n",
              "      <td>0.000000</td>\n",
              "      <td>145.457</td>\n",
              "      <td>0.999963</td>\n",
              "      <td>0.999997</td>\n",
              "      <td>1.000000</td>\n",
              "      <td>0.000000</td>\n",
              "      <td>12.726</td>\n",
              "      <td>0.999923</td>\n",
              "      <td>0.999980</td>\n",
              "      <td>1.0</td>\n",
              "      <td>0.000000</td>\n",
              "      <td>152.812</td>\n",
              "      <td>0.999889</td>\n",
              "      <td>0.999950</td>\n",
              "      <td>1.000000</td>\n",
              "      <td>0.000000</td>\n",
              "      <td>21.783</td>\n",
              "      <td>0.999950</td>\n",
              "      <td>0.999998</td>\n",
              "      <td>1.0</td>\n",
              "      <td>0.000000</td>\n",
              "      <td>153.112</td>\n",
              "      <td>0.999967</td>\n",
              "      <td>0.999993</td>\n",
              "      <td>1.0</td>\n",
              "      <td>0.000000</td>\n",
              "      <td>22.783</td>\n",
              "      <td>0.999961</td>\n",
              "      <td>0.999998</td>\n",
              "      <td>1.0</td>\n",
              "      <td>0.000000</td>\n",
              "      <td>153.412</td>\n",
              "      <td>0.000000</td>\n",
              "    </tr>\n",
              "    <tr>\n",
              "      <th>3</th>\n",
              "      <td>2.513</td>\n",
              "      <td>1.000151</td>\n",
              "      <td>1.000178</td>\n",
              "      <td>1.000007</td>\n",
              "      <td>0.0</td>\n",
              "      <td>4.975</td>\n",
              "      <td>1.000460</td>\n",
              "      <td>1.000613</td>\n",
              "      <td>1.000000</td>\n",
              "      <td>1.000000</td>\n",
              "      <td>38.830</td>\n",
              "      <td>0.999996</td>\n",
              "      <td>0.999999</td>\n",
              "      <td>1.000000</td>\n",
              "      <td>0.000000</td>\n",
              "      <td>5.175</td>\n",
              "      <td>1.000000</td>\n",
              "      <td>1.000000</td>\n",
              "      <td>1.000000</td>\n",
              "      <td>1.000000</td>\n",
              "      <td>38.830</td>\n",
              "      <td>0.999971</td>\n",
              "      <td>0.999996</td>\n",
              "      <td>1.0</td>\n",
              "      <td>0.000000</td>\n",
              "      <td>5.575</td>\n",
              "      <td>0.999939</td>\n",
              "      <td>0.999849</td>\n",
              "      <td>1.000000</td>\n",
              "      <td>1.000000</td>\n",
              "      <td>48.346</td>\n",
              "      <td>1.000000</td>\n",
              "      <td>1.000000</td>\n",
              "      <td>1.000000</td>\n",
              "      <td>-0.043478</td>\n",
              "      <td>5.575</td>\n",
              "      <td>1.000000</td>\n",
              "      <td>1.000000</td>\n",
              "      <td>1.0</td>\n",
              "      <td>1.000000</td>\n",
              "      <td>...</td>\n",
              "      <td>1.000071</td>\n",
              "      <td>1.000000</td>\n",
              "      <td>0.000000</td>\n",
              "      <td>45.514</td>\n",
              "      <td>0.999939</td>\n",
              "      <td>0.999967</td>\n",
              "      <td>1.000000</td>\n",
              "      <td>1.000000</td>\n",
              "      <td>13.863</td>\n",
              "      <td>0.999977</td>\n",
              "      <td>0.999998</td>\n",
              "      <td>1.000000</td>\n",
              "      <td>0.000000</td>\n",
              "      <td>45.814</td>\n",
              "      <td>0.999910</td>\n",
              "      <td>0.999956</td>\n",
              "      <td>1.0</td>\n",
              "      <td>1.000000</td>\n",
              "      <td>19.263</td>\n",
              "      <td>0.999986</td>\n",
              "      <td>0.999998</td>\n",
              "      <td>1.000000</td>\n",
              "      <td>-0.043478</td>\n",
              "      <td>45.964</td>\n",
              "      <td>0.999973</td>\n",
              "      <td>0.999997</td>\n",
              "      <td>1.0</td>\n",
              "      <td>0.947588</td>\n",
              "      <td>19.463</td>\n",
              "      <td>0.999892</td>\n",
              "      <td>0.999960</td>\n",
              "      <td>1.0</td>\n",
              "      <td>-0.055696</td>\n",
              "      <td>48.145</td>\n",
              "      <td>0.999830</td>\n",
              "      <td>0.999537</td>\n",
              "      <td>1.0</td>\n",
              "      <td>0.722363</td>\n",
              "      <td>43.943</td>\n",
              "      <td>-0.237069</td>\n",
              "    </tr>\n",
              "    <tr>\n",
              "      <th>4</th>\n",
              "      <td>5.152</td>\n",
              "      <td>0.999959</td>\n",
              "      <td>0.999992</td>\n",
              "      <td>0.999995</td>\n",
              "      <td>1.0</td>\n",
              "      <td>0.100</td>\n",
              "      <td>0.999963</td>\n",
              "      <td>0.999992</td>\n",
              "      <td>1.000000</td>\n",
              "      <td>-0.277778</td>\n",
              "      <td>5.252</td>\n",
              "      <td>0.999958</td>\n",
              "      <td>0.999884</td>\n",
              "      <td>1.000000</td>\n",
              "      <td>0.927778</td>\n",
              "      <td>6.890</td>\n",
              "      <td>1.000013</td>\n",
              "      <td>1.000004</td>\n",
              "      <td>1.000000</td>\n",
              "      <td>-0.277778</td>\n",
              "      <td>14.568</td>\n",
              "      <td>1.000015</td>\n",
              "      <td>1.000000</td>\n",
              "      <td>1.0</td>\n",
              "      <td>0.927778</td>\n",
              "      <td>8.057</td>\n",
              "      <td>1.000014</td>\n",
              "      <td>1.000000</td>\n",
              "      <td>1.000000</td>\n",
              "      <td>-0.277778</td>\n",
              "      <td>15.068</td>\n",
              "      <td>1.000056</td>\n",
              "      <td>1.000023</td>\n",
              "      <td>1.000000</td>\n",
              "      <td>0.927778</td>\n",
              "      <td>10.496</td>\n",
              "      <td>1.000165</td>\n",
              "      <td>1.000644</td>\n",
              "      <td>1.0</td>\n",
              "      <td>-0.161111</td>\n",
              "      <td>...</td>\n",
              "      <td>0.999952</td>\n",
              "      <td>1.000000</td>\n",
              "      <td>-0.257143</td>\n",
              "      <td>9.616</td>\n",
              "      <td>1.000000</td>\n",
              "      <td>1.000002</td>\n",
              "      <td>1.000000</td>\n",
              "      <td>0.819643</td>\n",
              "      <td>6.406</td>\n",
              "      <td>1.000006</td>\n",
              "      <td>1.000001</td>\n",
              "      <td>1.000000</td>\n",
              "      <td>-0.257143</td>\n",
              "      <td>9.716</td>\n",
              "      <td>1.000011</td>\n",
              "      <td>1.000002</td>\n",
              "      <td>1.0</td>\n",
              "      <td>0.819643</td>\n",
              "      <td>6.506</td>\n",
              "      <td>1.000033</td>\n",
              "      <td>1.000107</td>\n",
              "      <td>1.000000</td>\n",
              "      <td>-0.257143</td>\n",
              "      <td>19.332</td>\n",
              "      <td>1.000031</td>\n",
              "      <td>1.000003</td>\n",
              "      <td>1.0</td>\n",
              "      <td>0.819643</td>\n",
              "      <td>6.706</td>\n",
              "      <td>1.000067</td>\n",
              "      <td>1.000007</td>\n",
              "      <td>1.0</td>\n",
              "      <td>-0.111310</td>\n",
              "      <td>19.532</td>\n",
              "      <td>1.000118</td>\n",
              "      <td>1.000278</td>\n",
              "      <td>1.0</td>\n",
              "      <td>0.971310</td>\n",
              "      <td>16.675</td>\n",
              "      <td>-0.111310</td>\n",
              "    </tr>\n",
              "    <tr>\n",
              "      <th>...</th>\n",
              "      <td>...</td>\n",
              "      <td>...</td>\n",
              "      <td>...</td>\n",
              "      <td>...</td>\n",
              "      <td>...</td>\n",
              "      <td>...</td>\n",
              "      <td>...</td>\n",
              "      <td>...</td>\n",
              "      <td>...</td>\n",
              "      <td>...</td>\n",
              "      <td>...</td>\n",
              "      <td>...</td>\n",
              "      <td>...</td>\n",
              "      <td>...</td>\n",
              "      <td>...</td>\n",
              "      <td>...</td>\n",
              "      <td>...</td>\n",
              "      <td>...</td>\n",
              "      <td>...</td>\n",
              "      <td>...</td>\n",
              "      <td>...</td>\n",
              "      <td>...</td>\n",
              "      <td>...</td>\n",
              "      <td>...</td>\n",
              "      <td>...</td>\n",
              "      <td>...</td>\n",
              "      <td>...</td>\n",
              "      <td>...</td>\n",
              "      <td>...</td>\n",
              "      <td>...</td>\n",
              "      <td>...</td>\n",
              "      <td>...</td>\n",
              "      <td>...</td>\n",
              "      <td>...</td>\n",
              "      <td>...</td>\n",
              "      <td>...</td>\n",
              "      <td>...</td>\n",
              "      <td>...</td>\n",
              "      <td>...</td>\n",
              "      <td>...</td>\n",
              "      <td>...</td>\n",
              "      <td>...</td>\n",
              "      <td>...</td>\n",
              "      <td>...</td>\n",
              "      <td>...</td>\n",
              "      <td>...</td>\n",
              "      <td>...</td>\n",
              "      <td>...</td>\n",
              "      <td>...</td>\n",
              "      <td>...</td>\n",
              "      <td>...</td>\n",
              "      <td>...</td>\n",
              "      <td>...</td>\n",
              "      <td>...</td>\n",
              "      <td>...</td>\n",
              "      <td>...</td>\n",
              "      <td>...</td>\n",
              "      <td>...</td>\n",
              "      <td>...</td>\n",
              "      <td>...</td>\n",
              "      <td>...</td>\n",
              "      <td>...</td>\n",
              "      <td>...</td>\n",
              "      <td>...</td>\n",
              "      <td>...</td>\n",
              "      <td>...</td>\n",
              "      <td>...</td>\n",
              "      <td>...</td>\n",
              "      <td>...</td>\n",
              "      <td>...</td>\n",
              "      <td>...</td>\n",
              "      <td>...</td>\n",
              "      <td>...</td>\n",
              "      <td>...</td>\n",
              "      <td>...</td>\n",
              "      <td>...</td>\n",
              "      <td>...</td>\n",
              "      <td>...</td>\n",
              "      <td>...</td>\n",
              "      <td>...</td>\n",
              "      <td>...</td>\n",
              "    </tr>\n",
              "    <tr>\n",
              "      <th>38742</th>\n",
              "      <td>6.446</td>\n",
              "      <td>1.000332</td>\n",
              "      <td>1.000367</td>\n",
              "      <td>1.000060</td>\n",
              "      <td>0.5</td>\n",
              "      <td>12.537</td>\n",
              "      <td>1.000000</td>\n",
              "      <td>1.000000</td>\n",
              "      <td>1.000000</td>\n",
              "      <td>0.500000</td>\n",
              "      <td>6.446</td>\n",
              "      <td>1.000000</td>\n",
              "      <td>1.000000</td>\n",
              "      <td>1.000000</td>\n",
              "      <td>0.500000</td>\n",
              "      <td>12.537</td>\n",
              "      <td>0.999974</td>\n",
              "      <td>0.999966</td>\n",
              "      <td>0.999997</td>\n",
              "      <td>0.500000</td>\n",
              "      <td>16.445</td>\n",
              "      <td>1.000000</td>\n",
              "      <td>1.000000</td>\n",
              "      <td>1.0</td>\n",
              "      <td>0.500000</td>\n",
              "      <td>12.537</td>\n",
              "      <td>0.999948</td>\n",
              "      <td>0.999942</td>\n",
              "      <td>1.000000</td>\n",
              "      <td>0.500000</td>\n",
              "      <td>326.444</td>\n",
              "      <td>1.000000</td>\n",
              "      <td>1.000000</td>\n",
              "      <td>1.000000</td>\n",
              "      <td>0.500000</td>\n",
              "      <td>12.537</td>\n",
              "      <td>0.999992</td>\n",
              "      <td>0.999996</td>\n",
              "      <td>1.0</td>\n",
              "      <td>0.500000</td>\n",
              "      <td>...</td>\n",
              "      <td>0.999750</td>\n",
              "      <td>0.999810</td>\n",
              "      <td>0.000000</td>\n",
              "      <td>15.618</td>\n",
              "      <td>1.000000</td>\n",
              "      <td>1.000000</td>\n",
              "      <td>1.000000</td>\n",
              "      <td>0.000000</td>\n",
              "      <td>0.000</td>\n",
              "      <td>0.999968</td>\n",
              "      <td>0.999947</td>\n",
              "      <td>1.000000</td>\n",
              "      <td>0.000000</td>\n",
              "      <td>26.117</td>\n",
              "      <td>1.000000</td>\n",
              "      <td>1.000000</td>\n",
              "      <td>1.0</td>\n",
              "      <td>0.000000</td>\n",
              "      <td>0.000</td>\n",
              "      <td>0.999952</td>\n",
              "      <td>0.999943</td>\n",
              "      <td>0.999998</td>\n",
              "      <td>0.000000</td>\n",
              "      <td>36.116</td>\n",
              "      <td>0.999984</td>\n",
              "      <td>0.999989</td>\n",
              "      <td>1.0</td>\n",
              "      <td>0.000000</td>\n",
              "      <td>3.000</td>\n",
              "      <td>0.999987</td>\n",
              "      <td>0.999974</td>\n",
              "      <td>1.0</td>\n",
              "      <td>0.000000</td>\n",
              "      <td>45.331</td>\n",
              "      <td>1.000000</td>\n",
              "      <td>1.000000</td>\n",
              "      <td>1.0</td>\n",
              "      <td>0.000000</td>\n",
              "      <td>3.000</td>\n",
              "      <td>0.000000</td>\n",
              "    </tr>\n",
              "    <tr>\n",
              "      <th>38743</th>\n",
              "      <td>0.499</td>\n",
              "      <td>1.000000</td>\n",
              "      <td>1.000000</td>\n",
              "      <td>1.000000</td>\n",
              "      <td>0.0</td>\n",
              "      <td>0.000</td>\n",
              "      <td>1.000000</td>\n",
              "      <td>1.000000</td>\n",
              "      <td>1.000000</td>\n",
              "      <td>0.000000</td>\n",
              "      <td>10.498</td>\n",
              "      <td>1.000000</td>\n",
              "      <td>1.000000</td>\n",
              "      <td>1.000000</td>\n",
              "      <td>0.000000</td>\n",
              "      <td>0.000</td>\n",
              "      <td>0.999975</td>\n",
              "      <td>0.999968</td>\n",
              "      <td>0.999981</td>\n",
              "      <td>0.000000</td>\n",
              "      <td>18.263</td>\n",
              "      <td>1.000000</td>\n",
              "      <td>1.000000</td>\n",
              "      <td>1.0</td>\n",
              "      <td>0.000000</td>\n",
              "      <td>0.000</td>\n",
              "      <td>1.000000</td>\n",
              "      <td>1.000000</td>\n",
              "      <td>1.000000</td>\n",
              "      <td>0.000000</td>\n",
              "      <td>18.263</td>\n",
              "      <td>0.999878</td>\n",
              "      <td>0.999895</td>\n",
              "      <td>0.999968</td>\n",
              "      <td>0.000000</td>\n",
              "      <td>9.999</td>\n",
              "      <td>1.000000</td>\n",
              "      <td>1.000000</td>\n",
              "      <td>1.0</td>\n",
              "      <td>0.000000</td>\n",
              "      <td>...</td>\n",
              "      <td>1.000000</td>\n",
              "      <td>1.000000</td>\n",
              "      <td>0.000000</td>\n",
              "      <td>19.998</td>\n",
              "      <td>1.000000</td>\n",
              "      <td>1.000000</td>\n",
              "      <td>1.000000</td>\n",
              "      <td>0.000000</td>\n",
              "      <td>5.000</td>\n",
              "      <td>0.999959</td>\n",
              "      <td>0.999967</td>\n",
              "      <td>0.999994</td>\n",
              "      <td>0.000000</td>\n",
              "      <td>52.763</td>\n",
              "      <td>1.000000</td>\n",
              "      <td>1.000000</td>\n",
              "      <td>1.0</td>\n",
              "      <td>0.000000</td>\n",
              "      <td>5.000</td>\n",
              "      <td>0.999968</td>\n",
              "      <td>0.999998</td>\n",
              "      <td>0.999999</td>\n",
              "      <td>0.000000</td>\n",
              "      <td>53.177</td>\n",
              "      <td>0.999974</td>\n",
              "      <td>0.999957</td>\n",
              "      <td>1.0</td>\n",
              "      <td>0.000000</td>\n",
              "      <td>14.999</td>\n",
              "      <td>0.999979</td>\n",
              "      <td>0.999932</td>\n",
              "      <td>1.0</td>\n",
              "      <td>0.000000</td>\n",
              "      <td>78.177</td>\n",
              "      <td>0.999982</td>\n",
              "      <td>0.999996</td>\n",
              "      <td>1.0</td>\n",
              "      <td>0.000000</td>\n",
              "      <td>16.877</td>\n",
              "      <td>0.000000</td>\n",
              "    </tr>\n",
              "    <tr>\n",
              "      <th>38744</th>\n",
              "      <td>9.999</td>\n",
              "      <td>1.000000</td>\n",
              "      <td>1.000000</td>\n",
              "      <td>1.000000</td>\n",
              "      <td>0.0</td>\n",
              "      <td>0.000</td>\n",
              "      <td>1.000000</td>\n",
              "      <td>1.000000</td>\n",
              "      <td>1.000000</td>\n",
              "      <td>0.000000</td>\n",
              "      <td>19.998</td>\n",
              "      <td>1.000000</td>\n",
              "      <td>1.000000</td>\n",
              "      <td>1.000000</td>\n",
              "      <td>0.000000</td>\n",
              "      <td>0.000</td>\n",
              "      <td>1.000000</td>\n",
              "      <td>1.000000</td>\n",
              "      <td>1.000000</td>\n",
              "      <td>0.000000</td>\n",
              "      <td>29.997</td>\n",
              "      <td>1.000000</td>\n",
              "      <td>1.000000</td>\n",
              "      <td>1.0</td>\n",
              "      <td>0.000000</td>\n",
              "      <td>0.038</td>\n",
              "      <td>1.000017</td>\n",
              "      <td>1.000014</td>\n",
              "      <td>1.000001</td>\n",
              "      <td>0.000000</td>\n",
              "      <td>71.013</td>\n",
              "      <td>1.000000</td>\n",
              "      <td>1.000000</td>\n",
              "      <td>1.000000</td>\n",
              "      <td>0.200000</td>\n",
              "      <td>0.038</td>\n",
              "      <td>0.999979</td>\n",
              "      <td>0.999967</td>\n",
              "      <td>1.0</td>\n",
              "      <td>0.000000</td>\n",
              "      <td>...</td>\n",
              "      <td>1.000000</td>\n",
              "      <td>1.000000</td>\n",
              "      <td>0.000000</td>\n",
              "      <td>19.177</td>\n",
              "      <td>1.000000</td>\n",
              "      <td>1.000000</td>\n",
              "      <td>1.000000</td>\n",
              "      <td>0.000000</td>\n",
              "      <td>0.000</td>\n",
              "      <td>1.000000</td>\n",
              "      <td>1.000000</td>\n",
              "      <td>1.000000</td>\n",
              "      <td>0.000000</td>\n",
              "      <td>29.176</td>\n",
              "      <td>1.000000</td>\n",
              "      <td>1.000000</td>\n",
              "      <td>1.0</td>\n",
              "      <td>0.000000</td>\n",
              "      <td>0.000</td>\n",
              "      <td>1.000000</td>\n",
              "      <td>0.999987</td>\n",
              "      <td>1.000000</td>\n",
              "      <td>0.000000</td>\n",
              "      <td>39.242</td>\n",
              "      <td>1.000109</td>\n",
              "      <td>1.000182</td>\n",
              "      <td>1.0</td>\n",
              "      <td>0.200000</td>\n",
              "      <td>604.301</td>\n",
              "      <td>0.999958</td>\n",
              "      <td>0.999981</td>\n",
              "      <td>1.0</td>\n",
              "      <td>0.442857</td>\n",
              "      <td>65.138</td>\n",
              "      <td>1.000000</td>\n",
              "      <td>1.000000</td>\n",
              "      <td>1.0</td>\n",
              "      <td>0.119643</td>\n",
              "      <td>604.301</td>\n",
              "      <td>0.442857</td>\n",
              "    </tr>\n",
              "    <tr>\n",
              "      <th>38745</th>\n",
              "      <td>58.332</td>\n",
              "      <td>1.000150</td>\n",
              "      <td>1.000011</td>\n",
              "      <td>1.000051</td>\n",
              "      <td>1.0</td>\n",
              "      <td>0.861</td>\n",
              "      <td>1.000411</td>\n",
              "      <td>1.000088</td>\n",
              "      <td>1.000013</td>\n",
              "      <td>0.000000</td>\n",
              "      <td>63.914</td>\n",
              "      <td>1.000182</td>\n",
              "      <td>1.000161</td>\n",
              "      <td>1.000000</td>\n",
              "      <td>1.000000</td>\n",
              "      <td>10.861</td>\n",
              "      <td>1.000088</td>\n",
              "      <td>1.000128</td>\n",
              "      <td>1.000000</td>\n",
              "      <td>0.000000</td>\n",
              "      <td>73.914</td>\n",
              "      <td>1.000000</td>\n",
              "      <td>1.000000</td>\n",
              "      <td>1.0</td>\n",
              "      <td>1.000000</td>\n",
              "      <td>10.861</td>\n",
              "      <td>1.000155</td>\n",
              "      <td>1.000643</td>\n",
              "      <td>1.000000</td>\n",
              "      <td>0.000000</td>\n",
              "      <td>164.820</td>\n",
              "      <td>1.000065</td>\n",
              "      <td>1.000092</td>\n",
              "      <td>1.000000</td>\n",
              "      <td>1.000000</td>\n",
              "      <td>30.649</td>\n",
              "      <td>1.000075</td>\n",
              "      <td>1.000006</td>\n",
              "      <td>1.0</td>\n",
              "      <td>0.000000</td>\n",
              "      <td>...</td>\n",
              "      <td>1.000000</td>\n",
              "      <td>1.000000</td>\n",
              "      <td>0.000000</td>\n",
              "      <td>1.381</td>\n",
              "      <td>1.000241</td>\n",
              "      <td>1.000331</td>\n",
              "      <td>1.000241</td>\n",
              "      <td>0.000000</td>\n",
              "      <td>3.005</td>\n",
              "      <td>1.000381</td>\n",
              "      <td>1.000459</td>\n",
              "      <td>1.000083</td>\n",
              "      <td>1.000000</td>\n",
              "      <td>87.583</td>\n",
              "      <td>1.000000</td>\n",
              "      <td>1.000000</td>\n",
              "      <td>1.0</td>\n",
              "      <td>0.000000</td>\n",
              "      <td>3.005</td>\n",
              "      <td>1.000067</td>\n",
              "      <td>1.000002</td>\n",
              "      <td>1.000004</td>\n",
              "      <td>1.000000</td>\n",
              "      <td>88.059</td>\n",
              "      <td>1.000000</td>\n",
              "      <td>1.000000</td>\n",
              "      <td>1.0</td>\n",
              "      <td>0.000000</td>\n",
              "      <td>3.005</td>\n",
              "      <td>1.000000</td>\n",
              "      <td>1.000000</td>\n",
              "      <td>1.0</td>\n",
              "      <td>1.000000</td>\n",
              "      <td>88.059</td>\n",
              "      <td>1.000000</td>\n",
              "      <td>1.000000</td>\n",
              "      <td>1.0</td>\n",
              "      <td>0.000000</td>\n",
              "      <td>3.005</td>\n",
              "      <td>1.000000</td>\n",
              "    </tr>\n",
              "    <tr>\n",
              "      <th>38746</th>\n",
              "      <td>72.433</td>\n",
              "      <td>1.000167</td>\n",
              "      <td>1.000048</td>\n",
              "      <td>1.000006</td>\n",
              "      <td>1.0</td>\n",
              "      <td>9.809</td>\n",
              "      <td>1.000021</td>\n",
              "      <td>1.000013</td>\n",
              "      <td>1.000000</td>\n",
              "      <td>0.000000</td>\n",
              "      <td>75.433</td>\n",
              "      <td>0.999889</td>\n",
              "      <td>0.999891</td>\n",
              "      <td>0.999999</td>\n",
              "      <td>1.000000</td>\n",
              "      <td>271.393</td>\n",
              "      <td>0.999893</td>\n",
              "      <td>1.000007</td>\n",
              "      <td>1.000000</td>\n",
              "      <td>-0.280000</td>\n",
              "      <td>720.208</td>\n",
              "      <td>0.999999</td>\n",
              "      <td>1.000000</td>\n",
              "      <td>1.0</td>\n",
              "      <td>0.880000</td>\n",
              "      <td>271.989</td>\n",
              "      <td>0.999951</td>\n",
              "      <td>0.999964</td>\n",
              "      <td>1.000000</td>\n",
              "      <td>-0.280000</td>\n",
              "      <td>1014.379</td>\n",
              "      <td>1.000000</td>\n",
              "      <td>1.000000</td>\n",
              "      <td>1.000000</td>\n",
              "      <td>0.680000</td>\n",
              "      <td>271.989</td>\n",
              "      <td>1.000000</td>\n",
              "      <td>1.000000</td>\n",
              "      <td>1.0</td>\n",
              "      <td>-0.280000</td>\n",
              "      <td>...</td>\n",
              "      <td>1.000068</td>\n",
              "      <td>1.000002</td>\n",
              "      <td>0.000000</td>\n",
              "      <td>18.025</td>\n",
              "      <td>1.000047</td>\n",
              "      <td>1.000012</td>\n",
              "      <td>1.000001</td>\n",
              "      <td>1.000000</td>\n",
              "      <td>1.126</td>\n",
              "      <td>1.000185</td>\n",
              "      <td>1.000315</td>\n",
              "      <td>1.000000</td>\n",
              "      <td>0.000000</td>\n",
              "      <td>222.024</td>\n",
              "      <td>0.999948</td>\n",
              "      <td>0.999961</td>\n",
              "      <td>1.0</td>\n",
              "      <td>1.000000</td>\n",
              "      <td>37.443</td>\n",
              "      <td>0.999730</td>\n",
              "      <td>0.999907</td>\n",
              "      <td>1.000000</td>\n",
              "      <td>-0.052632</td>\n",
              "      <td>250.694</td>\n",
              "      <td>0.999995</td>\n",
              "      <td>0.999981</td>\n",
              "      <td>1.0</td>\n",
              "      <td>0.419979</td>\n",
              "      <td>53.432</td>\n",
              "      <td>0.999999</td>\n",
              "      <td>0.999991</td>\n",
              "      <td>1.0</td>\n",
              "      <td>-0.052632</td>\n",
              "      <td>258.746</td>\n",
              "      <td>0.999999</td>\n",
              "      <td>0.999999</td>\n",
              "      <td>1.0</td>\n",
              "      <td>0.419979</td>\n",
              "      <td>54.123</td>\n",
              "      <td>-0.052632</td>\n",
              "    </tr>\n",
              "  </tbody>\n",
              "</table>\n",
              "<p>38747 rows × 94 columns</p>\n",
              "</div>\n",
              "      <button class=\"colab-df-convert\" onclick=\"convertToInteractive('df-d51c3294-fd22-4d8d-82c5-52094ee280a2')\"\n",
              "              title=\"Convert this dataframe to an interactive table.\"\n",
              "              style=\"display:none;\">\n",
              "        \n",
              "  <svg xmlns=\"http://www.w3.org/2000/svg\" height=\"24px\"viewBox=\"0 0 24 24\"\n",
              "       width=\"24px\">\n",
              "    <path d=\"M0 0h24v24H0V0z\" fill=\"none\"/>\n",
              "    <path d=\"M18.56 5.44l.94 2.06.94-2.06 2.06-.94-2.06-.94-.94-2.06-.94 2.06-2.06.94zm-11 1L8.5 8.5l.94-2.06 2.06-.94-2.06-.94L8.5 2.5l-.94 2.06-2.06.94zm10 10l.94 2.06.94-2.06 2.06-.94-2.06-.94-.94-2.06-.94 2.06-2.06.94z\"/><path d=\"M17.41 7.96l-1.37-1.37c-.4-.4-.92-.59-1.43-.59-.52 0-1.04.2-1.43.59L10.3 9.45l-7.72 7.72c-.78.78-.78 2.05 0 2.83L4 21.41c.39.39.9.59 1.41.59.51 0 1.02-.2 1.41-.59l7.78-7.78 2.81-2.81c.8-.78.8-2.07 0-2.86zM5.41 20L4 18.59l7.72-7.72 1.47 1.35L5.41 20z\"/>\n",
              "  </svg>\n",
              "      </button>\n",
              "      \n",
              "  <style>\n",
              "    .colab-df-container {\n",
              "      display:flex;\n",
              "      flex-wrap:wrap;\n",
              "      gap: 12px;\n",
              "    }\n",
              "\n",
              "    .colab-df-convert {\n",
              "      background-color: #E8F0FE;\n",
              "      border: none;\n",
              "      border-radius: 50%;\n",
              "      cursor: pointer;\n",
              "      display: none;\n",
              "      fill: #1967D2;\n",
              "      height: 32px;\n",
              "      padding: 0 0 0 0;\n",
              "      width: 32px;\n",
              "    }\n",
              "\n",
              "    .colab-df-convert:hover {\n",
              "      background-color: #E2EBFA;\n",
              "      box-shadow: 0px 1px 2px rgba(60, 64, 67, 0.3), 0px 1px 3px 1px rgba(60, 64, 67, 0.15);\n",
              "      fill: #174EA6;\n",
              "    }\n",
              "\n",
              "    [theme=dark] .colab-df-convert {\n",
              "      background-color: #3B4455;\n",
              "      fill: #D2E3FC;\n",
              "    }\n",
              "\n",
              "    [theme=dark] .colab-df-convert:hover {\n",
              "      background-color: #434B5C;\n",
              "      box-shadow: 0px 1px 3px 1px rgba(0, 0, 0, 0.15);\n",
              "      filter: drop-shadow(0px 1px 2px rgba(0, 0, 0, 0.3));\n",
              "      fill: #FFFFFF;\n",
              "    }\n",
              "  </style>\n",
              "\n",
              "      <script>\n",
              "        const buttonEl =\n",
              "          document.querySelector('#df-d51c3294-fd22-4d8d-82c5-52094ee280a2 button.colab-df-convert');\n",
              "        buttonEl.style.display =\n",
              "          google.colab.kernel.accessAllowed ? 'block' : 'none';\n",
              "\n",
              "        async function convertToInteractive(key) {\n",
              "          const element = document.querySelector('#df-d51c3294-fd22-4d8d-82c5-52094ee280a2');\n",
              "          const dataTable =\n",
              "            await google.colab.kernel.invokeFunction('convertToInteractive',\n",
              "                                                     [key], {});\n",
              "          if (!dataTable) return;\n",
              "\n",
              "          const docLinkHtml = 'Like what you see? Visit the ' +\n",
              "            '<a target=\"_blank\" href=https://colab.research.google.com/notebooks/data_table.ipynb>data table notebook</a>'\n",
              "            + ' to learn more about interactive tables.';\n",
              "          element.innerHTML = '';\n",
              "          dataTable['output_type'] = 'display_data';\n",
              "          await google.colab.output.renderOutput(dataTable, element);\n",
              "          const docLink = document.createElement('div');\n",
              "          docLink.innerHTML = docLinkHtml;\n",
              "          element.appendChild(docLink);\n",
              "        }\n",
              "      </script>\n",
              "    </div>\n",
              "  </div>\n",
              "  "
            ],
            "text/plain": [
              "       trade_volume-BUY-6-sec  ...  stochastic_oscillator-SELL-60-sec\n",
              "0                       0.100  ...                           0.000000\n",
              "1                       0.200  ...                           0.600000\n",
              "2                       0.200  ...                           0.000000\n",
              "3                       2.513  ...                          -0.237069\n",
              "4                       5.152  ...                          -0.111310\n",
              "...                       ...  ...                                ...\n",
              "38742                   6.446  ...                           0.000000\n",
              "38743                   0.499  ...                           0.000000\n",
              "38744                   9.999  ...                           0.442857\n",
              "38745                  58.332  ...                           1.000000\n",
              "38746                  72.433  ...                          -0.052632\n",
              "\n",
              "[38747 rows x 94 columns]"
            ]
          },
          "metadata": {},
          "execution_count": 45
        }
      ],
      "source": [
        "X"
      ]
    },
    {
      "cell_type": "code",
      "execution_count": 46,
      "id": "f0753b54-1efd-4f34-ba92-2547bb0e854a",
      "metadata": {
        "id": "f0753b54-1efd-4f34-ba92-2547bb0e854a",
        "colab": {
          "base_uri": "https://localhost:8080/",
          "height": 1000,
          "referenced_widgets": [
            "a03e8471087d4e658e790332458adfae"
          ]
        },
        "outputId": "0d025826-8e43-4ac9-f845-76a499091bf6"
      },
      "outputs": [
        {
          "output_type": "display_data",
          "data": {
            "application/vnd.jupyter.widget-view+json": {
              "model_id": "a03e8471087d4e658e790332458adfae",
              "version_minor": 0,
              "version_major": 2
            },
            "text/plain": [
              "MetricVisualizer(layout=Layout(align_self='stretch', height='500px'))"
            ]
          },
          "metadata": {}
        },
        {
          "output_type": "stream",
          "name": "stdout",
          "text": [
            "Model validation accuracy: 0.9484\n",
            "[[0]\n",
            " [0]\n",
            " [0]\n",
            " [0]\n",
            " [0]\n",
            " [0]\n",
            " [0]\n",
            " [0]\n",
            " [0]\n",
            " [0]]\n",
            "[[0.24832678 0.50375411 0.24791912]\n",
            " [0.05329057 0.90007009 0.04663934]\n",
            " [0.03027111 0.94011954 0.02960935]\n",
            " [0.01977515 0.96185938 0.01836547]\n",
            " [0.03616962 0.93580581 0.02802457]\n",
            " [0.02726176 0.94901081 0.02372742]\n",
            " [0.08373739 0.83054342 0.0857192 ]\n",
            " [0.02565453 0.95194086 0.02240461]\n",
            " [0.02029947 0.96105465 0.01864588]\n",
            " [0.04872791 0.90892067 0.04235141]]\n",
            "       target\n",
            "20233      -1\n",
            "18782       0\n",
            "26657       0\n",
            "27456       0\n",
            "36872       0\n",
            "25891       0\n",
            "33455      -1\n",
            "23349       0\n",
            "4176        0\n",
            "37949       0\n",
            "moving_average_price-SELL-6-sec: 5.61635480466443\n",
            "trade_volume-SELL-54-sec: 5.514494280220464\n",
            "moving_average_price-BUY-12-sec: 4.895678495947581\n",
            "trade_volume-BUY-48-sec: 4.257752784909689\n",
            "trade_volume-SELL-36-sec: 3.9714158974601013\n",
            "trade_volume-SELL-24-sec: 3.86443870826791\n",
            "moving_average_price-BUY-48-sec: 3.2892424784294616\n",
            "trade_volume-BUY-54-sec: 3.2567574371768107\n",
            "weighted_moving_average_price-BUY-24-sec: 3.1559252885997715\n",
            "moving_average_price-BUY-24-sec: 2.4710373850567873\n",
            "stochastic_oscillator-SELL-6-sec: 2.402172688835889\n",
            "trade_volume-SELL-18-sec: 2.3815076076746498\n",
            "trade_volume-SELL-6-sec: 2.3011860504440516\n",
            "trade_volume-BUY-6-sec: 2.2698459419966013\n",
            "trade_volume-SELL-30-sec: 2.2381461202731283\n",
            "trade_volume-SELL-60-sec: 2.20387784599053\n",
            "moving_average_price-BUY-30-sec: 2.180849180041891\n",
            "trade_volume-BUY-42-sec: 2.042689935300025\n",
            "weighted_moving_average_price-SELL-36-sec: 2.0021043681424606\n",
            "moving_average_price-BUY-18-sec: 1.9063396521146447\n",
            "moving_average_price-BUY-6-sec: 1.8980409081306637\n",
            "moving_average_price-BUY-36-sec: 1.8913543765810883\n",
            "stochastic_oscillator-BUY-6-sec: 1.5543306863509168\n",
            "weighted_moving_average_price-SELL-30-sec: 1.5389413105210605\n",
            "trade_volume-BUY-18-sec: 1.4549265474675017\n",
            "trade_volume-BUY-12-sec: 1.4449436148679984\n",
            "moving_average_price-SELL-30-sec: 1.4270995851174784\n",
            "moving_average_price-SELL-18-sec: 1.3680000522689135\n",
            "trade_volume-BUY-30-sec: 1.3625635382048924\n",
            "trade_volume-BUY-60-sec: 1.2374531359465952\n",
            "moving_average_price-SELL-12-sec: 1.1822953411385395\n",
            "weighted_moving_average_price-BUY-18-sec: 1.164266992363244\n",
            "trade_volume-SELL-12-sec: 1.1596815119534558\n",
            "weighted_moving_average_price-BUY-54-sec: 1.0778570979993332\n",
            "trade_volume-BUY-24-sec: 1.0423117243407776\n",
            "weighted_moving_average_price-BUY-12-sec: 1.007245590258452\n",
            "stochastic_oscillator-BUY-42-sec: 0.9623102393808863\n",
            "moving_average_price-BUY-42-sec: 0.9423243131575637\n",
            "weighted_moving_average_price-SELL-6-sec: 0.8890401324180772\n",
            "stochastic_oscillator-BUY-48-sec: 0.8653011838287576\n",
            "moving_average_price-SELL-24-sec: 0.7471422034367542\n",
            "exp_moving_average_price-SELL-6-sec: 0.7257973433229827\n",
            "moving_average_price-SELL-48-sec: 0.7117299924396912\n",
            "stochastic_oscillator-SELL-30-sec: 0.6936675566483036\n",
            "stochastic_oscillator-BUY-30-sec: 0.6326533263397871\n",
            "weighted_moving_average_price-BUY-42-sec: 0.6201700136067289\n",
            "weighted_moving_average_price-BUY-6-sec: 0.6021530080340379\n",
            "stochastic_oscillator-SELL-24-sec: 0.5774308007941645\n",
            "moving_average_price-BUY-54-sec: 0.5577473630136827\n",
            "weighted_moving_average_price-SELL-42-sec: 0.5048241658626219\n",
            "weighted_moving_average_price-SELL-18-sec: 0.5022001373655154\n",
            "weighted_moving_average_price-BUY-36-sec: 0.45220057665724805\n",
            "trade_volume-SELL-48-sec: 0.42075528699394027\n",
            "moving_average_price-SELL-36-sec: 0.4145558122902291\n",
            "weighted_moving_average_price-SELL-12-sec: 0.36839426643175327\n",
            "stochastic_oscillator-SELL-18-sec: 0.3555200746480012\n",
            "stochastic_oscillator-SELL-12-sec: 0.34890872108675774\n",
            "moving_average_price-SELL-54-sec: 0.33370003116959857\n",
            "stochastic_oscillator-SELL-48-sec: 0.3307171790346473\n",
            "stochastic_oscillator-BUY-12-sec: 0.3294146184531289\n",
            "trade_volume-SELL-42-sec: 0.323589319143572\n",
            "stochastic_oscillator-SELL-54-sec: 0.3119061466777695\n",
            "weighted_moving_average_price-SELL-24-sec: 0.30454929934650704\n",
            "stochastic_oscillator-BUY-18-sec: 0.28618704648722926\n",
            "trade_volume-BUY-36-sec: 0.2586656689160644\n",
            "stochastic_oscillator-BUY-54-sec: 0.18161897146270858\n",
            "stochastic_oscillator-BUY-36-sec: 0.12158159796774279\n",
            "stochastic_oscillator-SELL-60-sec: 0.07661663362384592\n",
            "exp_moving_average_price-BUY-42-sec: 0.05572832849849997\n",
            "exp_moving_average_price-BUY-36-sec: 0.04576986056366664\n",
            "exp_moving_average_price-BUY-12-sec: 0.044908852763618175\n",
            "exp_moving_average_price-SELL-30-sec: 0.022791123268611907\n",
            "exp_moving_average_price-SELL-12-sec: 0.01971505634526198\n",
            "exp_moving_average_price-SELL-48-sec: 0.014013301637561851\n",
            "exp_moving_average_price-SELL-36-sec: 0.010571481824734146\n",
            "weighted_moving_average_price-SELL-54-sec: 0.0\n",
            "weighted_moving_average_price-SELL-48-sec: 0.0\n",
            "weighted_moving_average_price-BUY-48-sec: 0.0\n",
            "weighted_moving_average_price-BUY-30-sec: 0.0\n",
            "stochastic_oscillator-SELL-42-sec: 0.0\n",
            "stochastic_oscillator-SELL-36-sec: 0.0\n",
            "stochastic_oscillator-BUY-60-sec: 0.0\n",
            "stochastic_oscillator-BUY-24-sec: 0.0\n",
            "moving_average_price-SELL-42-sec: 0.0\n",
            "exp_moving_average_price-SELL-54-sec: 0.0\n",
            "exp_moving_average_price-SELL-42-sec: 0.0\n",
            "exp_moving_average_price-SELL-24-sec: 0.0\n",
            "exp_moving_average_price-SELL-18-sec: 0.0\n",
            "exp_moving_average_price-BUY-6-sec: 0.0\n",
            "exp_moving_average_price-BUY-54-sec: 0.0\n",
            "exp_moving_average_price-BUY-48-sec: 0.0\n",
            "exp_moving_average_price-BUY-30-sec: 0.0\n",
            "exp_moving_average_price-BUY-24-sec: 0.0\n",
            "exp_moving_average_price-BUY-18-sec: 0.0\n"
          ]
        }
      ],
      "source": [
        "X_train, X_test, y_train, y_test = train_test_split(X, y, train_size=0.8, shuffle = True, random_state=12)\n",
        "X_train, X_validation, y_train, y_validation = train_test_split(X_train, y_train, train_size=0.75, shuffle = True, random_state=6)\n",
        "params = {\n",
        "    'iterations': 500,\n",
        "    'l2_leaf_reg': 2,\n",
        "    'learning_rate': 0.1,\n",
        "    'custom_loss': [metrics.Accuracy()],\n",
        "    'eval_metric': metrics.Accuracy(),\n",
        "    'random_seed': 42,\n",
        "    'depth': 5,\n",
        "    'logging_level': 'Silent',\n",
        "    'loss_function': 'MultiClass',\n",
        "}\n",
        "train_pool = Pool(X_train, y_train)\n",
        "validate_pool = Pool(X_validation, y_validation)\n",
        "\n",
        "model = CatBoostClassifier(**params)\n",
        "model.fit(\n",
        "    train_pool,\n",
        "    eval_set=validate_pool,\n",
        "    plot=True,\n",
        "    verbose=False,\n",
        ")\n",
        "\n",
        "print('Model validation accuracy: {:.4}'.format(\n",
        "    accuracy_score(y_test, model.predict(X_test))\n",
        "))\n",
        "predictions = model.predict(X_test)\n",
        "predictions = predictions.reshape(predictions.shape[0], 1)\n",
        "predictions_probs = model.predict_proba(X_test)\n",
        "print(predictions[90:100])\n",
        "print(predictions_probs[90:100])\n",
        "print(y_test[90:100])\n",
        "feature_importances = model.get_feature_importance(train_pool)\n",
        "feature_names = X_train.columns\n",
        "for score, name in sorted(zip(feature_importances, feature_names), reverse=True):\n",
        "    print('{}: {}'.format(name, score))"
      ]
    },
    {
      "cell_type": "code",
      "source": [
        "def calculate_profit(prob_threshold, diff_threshold, null_threshold):\n",
        "    p = f(prob_threshold, diff_threshold, null_threshold)\n",
        "    result = {\n",
        "        'correct_predictions': 0,\n",
        "        'false_positive': 0,\n",
        "        'false_negative': 0,\n",
        "        'wrong_side': 0,\n",
        "    }\n",
        "    for i in range(len(p)):\n",
        "        t = int(y_test['target'][i:i+1])\n",
        "        if p[i] == t != 0:\n",
        "            result['correct_predictions'] += 1\n",
        "        elif p[i] != t and t != 0 and p[i] != 0:\n",
        "            result['wrong_side'] += 1\n",
        "        elif p[i] != 0 and t == 0:\n",
        "            result['false_positive'] += 1\n",
        "        elif p[i] == 0 and t != 0:\n",
        "            result['false_negative'] += 1\n",
        "\n",
        "    result['correct_predictions_pc'] = result['correct_predictions'] / len(y_test)\n",
        "    result['false_positive_pc'] = result['false_positive'] / len(y_test)\n",
        "    result['false_negative_pc'] = result['false_negative'] / len(y_test)\n",
        "    result['wrong_side_pc'] = result['wrong_side'] / len(y_test)\n",
        "    \n",
        "    return (\n",
        "          len(y) * result['correct_predictions_pc'] * (punch - 2 * commision)\n",
        "          -\n",
        "          len(y) * result['false_positive_pc'] * 2 * commision\n",
        "          -\n",
        "          len(y) * result['wrong_side_pc'] * (punch + 2 * commision)\n",
        "    )\n",
        "\n",
        "results = []\n",
        "def f(prob_threshold, diff_threshold, null_threshold):\n",
        "    p = np.array((list(map(lambda row:\n",
        "                          1\n",
        "                          if row[2] > prob_threshold\n",
        "                              # and row[2] == max(row)\n",
        "                              and row[2] > row[0]\n",
        "                              and row[1] < null_threshold\n",
        "                              and abs(row[2] - row[0]) > diff_threshold\n",
        "                              and abs(row[2] - row[1]) > diff_threshold\n",
        "                          else\n",
        "                          -1\n",
        "                          if row[0] > prob_threshold\n",
        "                              # and row[0] == max(row)\n",
        "                              and row[0] > row[2]\n",
        "                              and row[1] < null_threshold\n",
        "                              and abs(row[0] - row[2]) > diff_threshold\n",
        "                              and abs(row[0] - row[1]) > diff_threshold\n",
        "                          else 0,\n",
        "                          predictions_probs))))\n",
        "    result = {\n",
        "        'correct_predictions': 0,\n",
        "        'false_positive': 0,\n",
        "        'false_negative': 0,\n",
        "        'wrong_side': 0,\n",
        "    }\n",
        "    for i in range(len(p)):\n",
        "        t = int(y_test['target'][i:i+1])\n",
        "        if p[i] == t != 0:\n",
        "            result['correct_predictions'] += 1\n",
        "        elif p[i] != t and t != 0 and p[i] != 0:\n",
        "            result['wrong_side'] += 1\n",
        "        elif p[i] != 0 and t == 0:\n",
        "            result['false_positive'] += 1\n",
        "        elif p[i] == 0 and t != 0:\n",
        "            result['false_negative'] += 1\n",
        "\n",
        "    result['correct_predictions'] /= len(y_test)\n",
        "    result['false_positive'] /= len(y_test)\n",
        "    result['false_negative'] /= len(y_test)\n",
        "    result['wrong_side'] /= len(y_test)\n",
        "    result['prob_threshold'] = prob_threshold\n",
        "    result['diff_threshold'] = diff_threshold\n",
        "    result['null_threshold'] = null_threshold\n",
        "    results.append(result)\n",
        "    return p"
      ],
      "metadata": {
        "id": "XRZYcGeJ2hCl"
      },
      "id": "XRZYcGeJ2hCl",
      "execution_count": 47,
      "outputs": []
    },
    {
      "cell_type": "code",
      "execution_count": 48,
      "id": "nYtYQuKh3n8N",
      "metadata": {
        "id": "nYtYQuKh3n8N"
      },
      "outputs": [],
      "source": [
        "for null_threshold in np.arange(0.5, 0.8, 0.1):\n",
        "    for prob_threshold in np.arange(0.3, 0.7, 0.1):\n",
        "        for diff_threshold in np.arange(0.00, 0.20, 0.05):\n",
        "            f(prob_threshold, diff_threshold, null_threshold)"
      ]
    },
    {
      "cell_type": "code",
      "execution_count": 49,
      "id": "uibgvIlGhC_s",
      "metadata": {
        "id": "uibgvIlGhC_s",
        "colab": {
          "base_uri": "https://localhost:8080/"
        },
        "outputId": "a2f884bd-5324-4f1a-e78e-41fedeca7534"
      },
      "outputs": [
        {
          "output_type": "stream",
          "name": "stdout",
          "text": [
            "{'correct_predictions': 0.0007741935483870968, 'false_positive': 0.0, 'false_negative': 0.05174193548387097, 'wrong_side': 0.0, 'prob_threshold': 0.4, 'diff_threshold': 0.1, 'null_threshold': 0.5}\n"
          ]
        }
      ],
      "source": [
        "results = list(sorted(results, key=lambda result: -calculate_profit(result['prob_threshold'], result['diff_threshold'], result['null_threshold'])))\n",
        "print(results[0])"
      ]
    },
    {
      "cell_type": "code",
      "execution_count": 50,
      "id": "YVf5Mi0OZMzL",
      "metadata": {
        "colab": {
          "base_uri": "https://localhost:8080/"
        },
        "id": "YVf5Mi0OZMzL",
        "outputId": "0566f95f-f316-4214-e6f1-6b59e9799ddf"
      },
      "outputs": [
        {
          "output_type": "stream",
          "name": "stdout",
          "text": [
            "prob_threshold 0.4, diff_threshold 0.1, null_threshold 0.5\n",
            "accuracy 0.948258064516129\n",
            "{'correct_predictions': 6, 'false_positive': 0, 'false_negative': 401, 'wrong_side': 0, 'correct_predictions_pc': 0.0007741935483870968, 'false_positive_pc': 0.0, 'false_negative_pc': 0.05174193548387097, 'wrong_side_pc': 0.0}\n"
          ]
        }
      ],
      "source": [
        "prob_threshold = results[0]['prob_threshold']\n",
        "diff_threshold = results[0]['diff_threshold']\n",
        "null_threshold = results[0]['null_threshold']\n",
        "\n",
        "print(f\"prob_threshold {prob_threshold}, diff_threshold {diff_threshold}, null_threshold {null_threshold}\")\n",
        "p = f(prob_threshold, diff_threshold, null_threshold)\n",
        "print('accuracy', accuracy_score(p, y_test))\n",
        "result = {\n",
        "    'correct_predictions': 0,\n",
        "    'false_positive': 0,\n",
        "    'false_negative': 0,\n",
        "    'wrong_side': 0,\n",
        "}\n",
        "for i in range(len(p)):\n",
        "    t = int(y_test['target'][i:i+1])\n",
        "    if p[i] == t != 0:\n",
        "        result['correct_predictions'] += 1\n",
        "    elif p[i] != t and t != 0 and p[i] != 0:\n",
        "        result['wrong_side'] += 1\n",
        "    elif p[i] != 0 and t == 0:\n",
        "        result['false_positive'] += 1\n",
        "    elif p[i] == 0 and t != 0:\n",
        "        result['false_negative'] += 1\n",
        "\n",
        "result['correct_predictions_pc'] = result['correct_predictions'] / len(y_test)\n",
        "result['false_positive_pc'] = result['false_positive'] / len(y_test)\n",
        "result['false_negative_pc'] = result['false_negative'] / len(y_test)\n",
        "result['wrong_side_pc'] = result['wrong_side'] / len(y_test)\n",
        "print(result)"
      ]
    },
    {
      "cell_type": "code",
      "execution_count": 51,
      "id": "gMozO7JrZ3de",
      "metadata": {
        "colab": {
          "base_uri": "https://localhost:8080/"
        },
        "id": "gMozO7JrZ3de",
        "outputId": "4619b151-740d-454e-8837-5269a42be247"
      },
      "outputs": [
        {
          "output_type": "stream",
          "name": "stdout",
          "text": [
            "profit from 3000$ fot 2 months 89.9930322580645 $ 2.9997677419354836 %\n"
          ]
        }
      ],
      "source": [
        "profit = calculate_profit(prob_threshold, diff_threshold, null_threshold)\n",
        "print(\n",
        "    'profit from 3000$ fot 2 months',\n",
        "    profit * 3000,\n",
        "    '$',\n",
        "    profit * 100,\n",
        "    '%'\n",
        ")"
      ]
    },
    {
      "cell_type": "code",
      "execution_count": 52,
      "id": "_Gh3CUGM6K-c",
      "metadata": {
        "colab": {
          "base_uri": "https://localhost:8080/"
        },
        "id": "_Gh3CUGM6K-c",
        "outputId": "ec62c037-5d96-4e64-9e24-c12f03fd66ed"
      },
      "outputs": [
        {
          "output_type": "stream",
          "name": "stdout",
          "text": [
            "Correct accuracy = correct prediction / total positive num = 0.014742014742014743\n",
            "FPR = false positive / total negative num = 0.0\n",
            "FNR = false negative / total positive num = 0.9852579852579852\n",
            "Model in 1.4742014742014742% of cases with probability 100.0% predict a correct market jump\n"
          ]
        }
      ],
      "source": [
        "correct_accuracy = result['correct_predictions'] / len(y_test[y_test['target'] != 0])\n",
        "print(\n",
        "f\"Correct accuracy = correct prediction / total positive num = {correct_accuracy}\"\n",
        ")\n",
        "FPR = result['false_positive'] / len(y_test[y_test['target'] == 0])\n",
        "print(\n",
        "f\"FPR = false positive / total negative num = {FPR}\"\n",
        ")\n",
        "FNR = result['false_negative'] / len(y_test[y_test['target'] != 0])\n",
        "print(\n",
        "f\"FNR = false negative / total positive num = {FNR}\"\n",
        ")\n",
        "cases_pc = (result['correct_predictions'] + result['false_positive'] + result['wrong_side']) / len(y_test[y_test['target'] != 0]) * 100\n",
        "probability_pc = result['correct_predictions'] / (result['correct_predictions'] + result['false_positive'] + result['wrong_side']) * 100\n",
        "print(\n",
        "f\"Model in {cases_pc}% of cases with probability {probability_pc}% predict a correct market jump\"\n",
        ")"
      ]
    }
  ],
  "metadata": {
    "colab": {
      "collapsed_sections": [],
      "name": "trades_size_catboost_master.ipynb",
      "provenance": []
    },
    "kernelspec": {
      "display_name": "Python 3",
      "language": "python",
      "name": "python3"
    },
    "language_info": {
      "codemirror_mode": {
        "name": "ipython",
        "version": 3
      },
      "file_extension": ".py",
      "mimetype": "text/x-python",
      "name": "python",
      "nbconvert_exporter": "python",
      "pygments_lexer": "ipython3",
      "version": "3.8.10"
    },
    "widgets": {
      "application/vnd.jupyter.widget-state+json": {
        "a03e8471087d4e658e790332458adfae": {
          "model_module": "catboost-widget",
          "model_name": "CatboostWidgetModel",
          "model_module_version": "^1.0.0",
          "state": {
            "_view_name": "CatboostWidgetView",
            "_dom_classes": [],
            "_model_name": "CatboostWidgetModel",
            "data": {
              "catboost_info": {
                "content": {
                  "data": {
                    "meta": {
                      "name": "experiment",
                      "parameters": "",
                      "test_metrics": [
                        {
                          "best_value": "Max",
                          "name": "Accuracy"
                        },
                        {
                          "best_value": "Min",
                          "name": "MultiClass"
                        }
                      ],
                      "learn_sets": [
                        "learn"
                      ],
                      "launch_mode": "Train",
                      "learn_metrics": [
                        {
                          "best_value": "Max",
                          "name": "Accuracy"
                        },
                        {
                          "best_value": "Min",
                          "name": "MultiClass"
                        }
                      ],
                      "iteration_count": 500,
                      "test_sets": [
                        "test"
                      ]
                    },
                    "iterations": [
                      {
                        "test": [
                          0.9424516129,
                          0.9395359354
                        ],
                        "passed_time": 0.06689192784,
                        "iteration": 0,
                        "remaining_time": 33.37907199,
                        "learn": [
                          0.9445950015,
                          0.9386919892
                        ]
                      },
                      {
                        "test": [
                          0.9428387097,
                          0.8207281605
                        ],
                        "passed_time": 0.1200706545,
                        "iteration": 1,
                        "remaining_time": 29.89759296,
                        "learn": [
                          0.9445089689,
                          0.8195925138
                        ]
                      },
                      {
                        "test": [
                          0.9428387097,
                          0.7270561344
                        ],
                        "passed_time": 0.1738898755,
                        "iteration": 2,
                        "remaining_time": 28.80775604,
                        "learn": [
                          0.9445089689,
                          0.7256610083
                        ]
                      },
                      {
                        "test": [
                          0.9428387097,
                          0.6524063383
                        ],
                        "passed_time": 0.231785449,
                        "iteration": 3,
                        "remaining_time": 28.74139567,
                        "learn": [
                          0.9445089689,
                          0.6507217845
                        ]
                      },
                      {
                        "test": [
                          0.9428387097,
                          0.5908073094
                        ],
                        "passed_time": 0.2835350008,
                        "iteration": 4,
                        "remaining_time": 28.06996508,
                        "learn": [
                          0.9445089689,
                          0.5889008975
                        ]
                      },
                      {
                        "test": [
                          0.9428387097,
                          0.539558953
                        ],
                        "passed_time": 0.33868767,
                        "iteration": 5,
                        "remaining_time": 27.88528483,
                        "learn": [
                          0.9445089689,
                          0.5374903522
                        ]
                      },
                      {
                        "test": [
                          0.9428387097,
                          0.4971322691
                        ],
                        "passed_time": 0.3957951846,
                        "iteration": 6,
                        "remaining_time": 27.87528943,
                        "learn": [
                          0.9445089689,
                          0.494683668
                        ]
                      },
                      {
                        "test": [
                          0.9428387097,
                          0.4607015181
                        ],
                        "passed_time": 0.4501426508,
                        "iteration": 7,
                        "remaining_time": 27.68377302,
                        "learn": [
                          0.9445089689,
                          0.4580526592
                        ]
                      },
                      {
                        "test": [
                          0.9428387097,
                          0.4297780614
                        ],
                        "passed_time": 0.5045019662,
                        "iteration": 8,
                        "remaining_time": 27.52338505,
                        "learn": [
                          0.9445089689,
                          0.4267786253
                        ]
                      },
                      {
                        "test": [
                          0.9428387097,
                          0.402827802
                        ],
                        "passed_time": 0.5647599802,
                        "iteration": 9,
                        "remaining_time": 27.67323903,
                        "learn": [
                          0.9445089689,
                          0.3994570215
                        ]
                      },
                      {
                        "test": [
                          0.9428387097,
                          0.3793418561
                        ],
                        "passed_time": 0.6184377024,
                        "iteration": 10,
                        "remaining_time": 27.49236695,
                        "learn": [
                          0.9445089689,
                          0.3756158681
                        ]
                      },
                      {
                        "test": [
                          0.9428387097,
                          0.3594046158
                        ],
                        "passed_time": 0.6730077519,
                        "iteration": 11,
                        "remaining_time": 27.36898191,
                        "learn": [
                          0.9445089689,
                          0.3554637015
                        ]
                      },
                      {
                        "test": [
                          0.9428387097,
                          0.3420158553
                        ],
                        "passed_time": 0.7228834975,
                        "iteration": 12,
                        "remaining_time": 27.08032794,
                        "learn": [
                          0.9445089689,
                          0.3377089884
                        ]
                      },
                      {
                        "test": [
                          0.9428387097,
                          0.3267234825
                        ],
                        "passed_time": 0.7775296712,
                        "iteration": 13,
                        "remaining_time": 26.99138716,
                        "learn": [
                          0.9445089689,
                          0.322211356
                        ]
                      },
                      {
                        "test": [
                          0.9428387097,
                          0.3134128507
                        ],
                        "passed_time": 0.8490255021,
                        "iteration": 14,
                        "remaining_time": 27.45182457,
                        "learn": [
                          0.9445089689,
                          0.3086449585
                        ]
                      },
                      {
                        "test": [
                          0.9428387097,
                          0.3020859697
                        ],
                        "passed_time": 0.8994197024,
                        "iteration": 15,
                        "remaining_time": 27.207446,
                        "learn": [
                          0.9445089689,
                          0.2970123208
                        ]
                      },
                      {
                        "test": [
                          0.9428387097,
                          0.2919272791
                        ],
                        "passed_time": 0.9485539441,
                        "iteration": 16,
                        "remaining_time": 26.95009147,
                        "learn": [
                          0.9445089689,
                          0.2864511966
                        ]
                      },
                      {
                        "test": [
                          0.9428387097,
                          0.2831553677
                        ],
                        "passed_time": 1.014586127,
                        "iteration": 17,
                        "remaining_time": 27.16836185,
                        "learn": [
                          0.9445089689,
                          0.2774288254
                        ]
                      },
                      {
                        "test": [
                          0.9428387097,
                          0.2754325243
                        ],
                        "passed_time": 1.064226194,
                        "iteration": 18,
                        "remaining_time": 26.94172627,
                        "learn": [
                          0.9445089689,
                          0.2693855814
                        ]
                      },
                      {
                        "test": [
                          0.9428387097,
                          0.2686255861
                        ],
                        "passed_time": 1.112605938,
                        "iteration": 19,
                        "remaining_time": 26.70254251,
                        "learn": [
                          0.9445089689,
                          0.2622638323
                        ]
                      },
                      {
                        "test": [
                          0.9428387097,
                          0.262794748
                        ],
                        "passed_time": 1.172379618,
                        "iteration": 20,
                        "remaining_time": 26.7414208,
                        "learn": [
                          0.9445089689,
                          0.2560332795
                        ]
                      },
                      {
                        "test": [
                          0.9428387097,
                          0.2576258292
                        ],
                        "passed_time": 1.223071757,
                        "iteration": 21,
                        "remaining_time": 26.57401363,
                        "learn": [
                          0.9446380178,
                          0.250656754
                        ]
                      },
                      {
                        "test": [
                          0.9429677419,
                          0.252797371
                        ],
                        "passed_time": 1.273947984,
                        "iteration": 22,
                        "remaining_time": 26.42057341,
                        "learn": [
                          0.9446380178,
                          0.2456376808
                        ]
                      },
                      {
                        "test": [
                          0.9430967742,
                          0.2489790036
                        ],
                        "passed_time": 1.322478252,
                        "iteration": 23,
                        "remaining_time": 26.22915199,
                        "learn": [
                          0.9447240504,
                          0.2414611785
                        ]
                      },
                      {
                        "test": [
                          0.9430967742,
                          0.2454979024
                        ],
                        "passed_time": 1.371881042,
                        "iteration": 24,
                        "remaining_time": 26.0657398,
                        "learn": [
                          0.944810083,
                          0.2376816998
                        ]
                      },
                      {
                        "test": [
                          0.9432258065,
                          0.2424930586
                        ],
                        "passed_time": 1.424808113,
                        "iteration": 25,
                        "remaining_time": 25.9753479,
                        "learn": [
                          0.9449821482,
                          0.2340980463
                        ]
                      },
                      {
                        "test": [
                          0.9432258065,
                          0.239772528
                        ],
                        "passed_time": 1.47252144,
                        "iteration": 26,
                        "remaining_time": 25.79639411,
                        "learn": [
                          0.9450251645,
                          0.2311941662
                        ]
                      },
                      {
                        "test": [
                          0.9433548387,
                          0.2376814589
                        ],
                        "passed_time": 1.530048405,
                        "iteration": 27,
                        "remaining_time": 25.79224455,
                        "learn": [
                          0.9449821482,
                          0.22870091
                        ]
                      },
                      {
                        "test": [
                          0.9436129032,
                          0.2355968326
                        ],
                        "passed_time": 1.578597888,
                        "iteration": 28,
                        "remaining_time": 25.63860708,
                        "learn": [
                          0.9451972298,
                          0.2263451228
                        ]
                      },
                      {
                        "test": [
                          0.9436129032,
                          0.233737769
                        ],
                        "passed_time": 1.627162234,
                        "iteration": 29,
                        "remaining_time": 25.49220834,
                        "learn": [
                          0.9452402461,
                          0.2242176044
                        ]
                      },
                      {
                        "test": [
                          0.9436129032,
                          0.2321844565
                        ],
                        "passed_time": 1.68187599,
                        "iteration": 30,
                        "remaining_time": 25.44515611,
                        "learn": [
                          0.9454123113,
                          0.2221688401
                        ]
                      },
                      {
                        "test": [
                          0.9436129032,
                          0.2306604633
                        ],
                        "passed_time": 1.73185748,
                        "iteration": 31,
                        "remaining_time": 25.32841564,
                        "learn": [
                          0.9454983439,
                          0.2203893314
                        ]
                      },
                      {
                        "test": [
                          0.9436129032,
                          0.2293450318
                        ],
                        "passed_time": 1.781817335,
                        "iteration": 32,
                        "remaining_time": 25.21541501,
                        "learn": [
                          0.9456704091,
                          0.2188496022
                        ]
                      },
                      {
                        "test": [
                          0.9436129032,
                          0.2281778502
                        ],
                        "passed_time": 1.844525503,
                        "iteration": 33,
                        "remaining_time": 25.28084954,
                        "learn": [
                          0.9456704091,
                          0.2174329057
                        ]
                      },
                      {
                        "test": [
                          0.9437419355,
                          0.2270902904
                        ],
                        "passed_time": 1.896632707,
                        "iteration": 34,
                        "remaining_time": 25.19812025,
                        "learn": [
                          0.9457134254,
                          0.2162043656
                        ]
                      },
                      {
                        "test": [
                          0.9436129032,
                          0.2264111059
                        ],
                        "passed_time": 1.945431644,
                        "iteration": 35,
                        "remaining_time": 25.0744523,
                        "learn": [
                          0.9457134254,
                          0.2151794016
                        ]
                      },
                      {
                        "test": [
                          0.9436129032,
                          0.2256821885
                        ],
                        "passed_time": 2.015149226,
                        "iteration": 36,
                        "remaining_time": 25.21659707,
                        "learn": [
                          0.945799458,
                          0.2141604019
                        ]
                      },
                      {
                        "test": [
                          0.9438709677,
                          0.2249173394
                        ],
                        "passed_time": 2.068770084,
                        "iteration": 37,
                        "remaining_time": 25.15188892,
                        "learn": [
                          0.9458854906,
                          0.2132016608
                        ]
                      },
                      {
                        "test": [
                          0.9437419355,
                          0.2243574258
                        ],
                        "passed_time": 2.123820566,
                        "iteration": 38,
                        "remaining_time": 25.10464823,
                        "learn": [
                          0.9459285069,
                          0.2124968427
                        ]
                      },
                      {
                        "test": [
                          0.9437419355,
                          0.2237840285
                        ],
                        "passed_time": 2.174132387,
                        "iteration": 39,
                        "remaining_time": 25.00252245,
                        "learn": [
                          0.9461005721,
                          0.2116839147
                        ]
                      },
                      {
                        "test": [
                          0.943483871,
                          0.2233213758
                        ],
                        "passed_time": 2.22124331,
                        "iteration": 40,
                        "remaining_time": 24.86708973,
                        "learn": [
                          0.9460575558,
                          0.2109409
                        ]
                      },
                      {
                        "test": [
                          0.9436129032,
                          0.2229101811
                        ],
                        "passed_time": 2.270530967,
                        "iteration": 41,
                        "remaining_time": 24.75959959,
                        "learn": [
                          0.9461005721,
                          0.2103309927
                        ]
                      },
                      {
                        "test": [
                          0.9436129032,
                          0.2225520057
                        ],
                        "passed_time": 2.319304868,
                        "iteration": 42,
                        "remaining_time": 24.64935638,
                        "learn": [
                          0.9461435884,
                          0.2095793305
                        ]
                      },
                      {
                        "test": [
                          0.9436129032,
                          0.2221902084
                        ],
                        "passed_time": 2.370268855,
                        "iteration": 43,
                        "remaining_time": 24.56460449,
                        "learn": [
                          0.9461866047,
                          0.2089208948
                        ]
                      },
                      {
                        "test": [
                          0.9436129032,
                          0.2219032563
                        ],
                        "passed_time": 2.422402327,
                        "iteration": 44,
                        "remaining_time": 24.49317909,
                        "learn": [
                          0.9463156536,
                          0.208178322
                        ]
                      },
                      {
                        "test": [
                          0.9436129032,
                          0.2217724617
                        ],
                        "passed_time": 2.472418484,
                        "iteration": 45,
                        "remaining_time": 24.40169547,
                        "learn": [
                          0.9463586699,
                          0.2076930211
                        ]
                      },
                      {
                        "test": [
                          0.9437419355,
                          0.2213984895
                        ],
                        "passed_time": 2.522534122,
                        "iteration": 46,
                        "remaining_time": 24.31293526,
                        "learn": [
                          0.9465737515,
                          0.2071837164
                        ]
                      },
                      {
                        "test": [
                          0.9437419355,
                          0.2212668398
                        ],
                        "passed_time": 2.572085906,
                        "iteration": 47,
                        "remaining_time": 24.22047562,
                        "learn": [
                          0.9466167678,
                          0.2066112746
                        ]
                      },
                      {
                        "test": [
                          0.9437419355,
                          0.2210317084
                        ],
                        "passed_time": 2.624976273,
                        "iteration": 48,
                        "remaining_time": 24.1604959,
                        "learn": [
                          0.9467028004,
                          0.2062554734
                        ]
                      },
                      {
                        "test": [
                          0.9437419355,
                          0.220969869
                        ],
                        "passed_time": 2.675253916,
                        "iteration": 49,
                        "remaining_time": 24.07728524,
                        "learn": [
                          0.9468318493,
                          0.2058996619
                        ]
                      },
                      {
                        "test": [
                          0.9438709677,
                          0.220610439
                        ],
                        "passed_time": 2.725385738,
                        "iteration": 50,
                        "remaining_time": 23.99408228,
                        "learn": [
                          0.9468318493,
                          0.2054777299
                        ]
                      },
                      {
                        "test": [
                          0.9436129032,
                          0.2205317709
                        ],
                        "passed_time": 2.77410892,
                        "iteration": 51,
                        "remaining_time": 23.90001531,
                        "learn": [
                          0.9469608982,
                          0.2051532175
                        ]
                      },
                      {
                        "test": [
                          0.9436129032,
                          0.2204541372
                        ],
                        "passed_time": 2.833354842,
                        "iteration": 52,
                        "remaining_time": 23.89640782,
                        "learn": [
                          0.9470899471,
                          0.2048862468
                        ]
                      },
                      {
                        "test": [
                          0.9437419355,
                          0.2201999906
                        ],
                        "passed_time": 2.881836826,
                        "iteration": 53,
                        "remaining_time": 23.80183749,
                        "learn": [
                          0.9471329634,
                          0.2045547673
                        ]
                      },
                      {
                        "test": [
                          0.9436129032,
                          0.2201042908
                        ],
                        "passed_time": 2.928656507,
                        "iteration": 54,
                        "remaining_time": 23.69549355,
                        "learn": [
                          0.9470899471,
                          0.2042070625
                        ]
                      },
                      {
                        "test": [
                          0.9436129032,
                          0.2199828951
                        ],
                        "passed_time": 2.977160282,
                        "iteration": 55,
                        "remaining_time": 23.60462795,
                        "learn": [
                          0.9471759797,
                          0.2039915063
                        ]
                      },
                      {
                        "test": [
                          0.9436129032,
                          0.2199401412
                        ],
                        "passed_time": 3.034646209,
                        "iteration": 56,
                        "remaining_time": 23.58505738,
                        "learn": [
                          0.9473910612,
                          0.2036444642
                        ]
                      },
                      {
                        "test": [
                          0.943483871,
                          0.2198908047
                        ],
                        "passed_time": 3.088711227,
                        "iteration": 57,
                        "remaining_time": 23.5381097,
                        "learn": [
                          0.9473910612,
                          0.2033292666
                        ]
                      },
                      {
                        "test": [
                          0.9436129032,
                          0.2198790461
                        ],
                        "passed_time": 3.134884853,
                        "iteration": 58,
                        "remaining_time": 23.43193593,
                        "learn": [
                          0.9473480449,
                          0.2030391266
                        ]
                      },
                      {
                        "test": [
                          0.9433548387,
                          0.2197867613
                        ],
                        "passed_time": 3.186059361,
                        "iteration": 59,
                        "remaining_time": 23.36443531,
                        "learn": [
                          0.9474770938,
                          0.2025521988
                        ]
                      },
                      {
                        "test": [
                          0.943483871,
                          0.2197221525
                        ],
                        "passed_time": 3.235844544,
                        "iteration": 60,
                        "remaining_time": 23.28747139,
                        "learn": [
                          0.9475201101,
                          0.2022350727
                        ]
                      },
                      {
                        "test": [
                          0.9433548387,
                          0.2196851396
                        ],
                        "passed_time": 3.286750412,
                        "iteration": 61,
                        "remaining_time": 23.2193013,
                        "learn": [
                          0.9475201101,
                          0.2020440789
                        ]
                      },
                      {
                        "test": [
                          0.9432258065,
                          0.2196460245
                        ],
                        "passed_time": 3.338089069,
                        "iteration": 62,
                        "remaining_time": 23.15468132,
                        "learn": [
                          0.9475201101,
                          0.2018226875
                        ]
                      },
                      {
                        "test": [
                          0.9433548387,
                          0.2196189679
                        ],
                        "passed_time": 3.3886506,
                        "iteration": 63,
                        "remaining_time": 23.08518221,
                        "learn": [
                          0.9475631264,
                          0.2015478012
                        ]
                      },
                      {
                        "test": [
                          0.943483871,
                          0.219486192
                        ],
                        "passed_time": 3.440412404,
                        "iteration": 64,
                        "remaining_time": 23.02429839,
                        "learn": [
                          0.9476061427,
                          0.201346224
                        ]
                      },
                      {
                        "test": [
                          0.943483871,
                          0.2194607564
                        ],
                        "passed_time": 3.487338952,
                        "iteration": 65,
                        "remaining_time": 22.93189553,
                        "learn": [
                          0.947649159,
                          0.201221697
                        ]
                      },
                      {
                        "test": [
                          0.9433548387,
                          0.2193680516
                        ],
                        "passed_time": 3.536709593,
                        "iteration": 66,
                        "remaining_time": 22.85664558,
                        "learn": [
                          0.9477782079,
                          0.2010298059
                        ]
                      },
                      {
                        "test": [
                          0.943483871,
                          0.219337846
                        ],
                        "passed_time": 3.582880112,
                        "iteration": 67,
                        "remaining_time": 22.76182659,
                        "learn": [
                          0.9478212242,
                          0.2008700775
                        ]
                      },
                      {
                        "test": [
                          0.9433548387,
                          0.2193255117
                        ],
                        "passed_time": 3.63437305,
                        "iteration": 68,
                        "remaining_time": 22.70166354,
                        "learn": [
                          0.9477351916,
                          0.2005778157
                        ]
                      },
                      {
                        "test": [
                          0.9433548387,
                          0.2192140746
                        ],
                        "passed_time": 3.684400417,
                        "iteration": 69,
                        "remaining_time": 22.63274542,
                        "learn": [
                          0.9477351916,
                          0.2002728144
                        ]
                      },
                      {
                        "test": [
                          0.943483871,
                          0.219176154
                        ],
                        "passed_time": 3.730856888,
                        "iteration": 70,
                        "remaining_time": 22.54278317,
                        "learn": [
                          0.9478642405,
                          0.200012509
                        ]
                      },
                      {
                        "test": [
                          0.9433548387,
                          0.2192543705
                        ],
                        "passed_time": 3.781157246,
                        "iteration": 71,
                        "remaining_time": 22.47687918,
                        "learn": [
                          0.9479932895,
                          0.1997107923
                        ]
                      },
                      {
                        "test": [
                          0.943483871,
                          0.2192380663
                        ],
                        "passed_time": 3.84510072,
                        "iteration": 72,
                        "remaining_time": 22.49120558,
                        "learn": [
                          0.9480363058,
                          0.1995127853
                        ]
                      },
                      {
                        "test": [
                          0.9437419355,
                          0.2192558675
                        ],
                        "passed_time": 3.891597822,
                        "iteration": 73,
                        "remaining_time": 22.40298205,
                        "learn": [
                          0.9481653547,
                          0.1992553133
                        ]
                      },
                      {
                        "test": [
                          0.943483871,
                          0.2192169986
                        ],
                        "passed_time": 3.93807099,
                        "iteration": 74,
                        "remaining_time": 22.31573561,
                        "learn": [
                          0.9481653547,
                          0.1990962388
                        ]
                      },
                      {
                        "test": [
                          0.9438709677,
                          0.2191539342
                        ],
                        "passed_time": 3.988191264,
                        "iteration": 75,
                        "remaining_time": 22.24990916,
                        "learn": [
                          0.948208371,
                          0.1989174644
                        ]
                      },
                      {
                        "test": [
                          0.9438709677,
                          0.2191223672
                        ],
                        "passed_time": 4.047599005,
                        "iteration": 76,
                        "remaining_time": 22.23551142,
                        "learn": [
                          0.9482944036,
                          0.1987271749
                        ]
                      },
                      {
                        "test": [
                          0.943483871,
                          0.2190504616
                        ],
                        "passed_time": 4.098800852,
                        "iteration": 77,
                        "remaining_time": 22.17556359,
                        "learn": [
                          0.9482944036,
                          0.1985647587
                        ]
                      },
                      {
                        "test": [
                          0.943483871,
                          0.2189835905
                        ],
                        "passed_time": 4.15081481,
                        "iteration": 78,
                        "remaining_time": 22.120165,
                        "learn": [
                          0.9482944036,
                          0.1984316838
                        ]
                      },
                      {
                        "test": [
                          0.9433548387,
                          0.2190047624
                        ],
                        "passed_time": 4.200031652,
                        "iteration": 79,
                        "remaining_time": 22.05016617,
                        "learn": [
                          0.9483374199,
                          0.198198296
                        ]
                      },
                      {
                        "test": [
                          0.943483871,
                          0.2190389215
                        ],
                        "passed_time": 4.249735323,
                        "iteration": 80,
                        "remaining_time": 21.98319877,
                        "learn": [
                          0.9483374199,
                          0.1979940739
                        ]
                      },
                      {
                        "test": [
                          0.9433548387,
                          0.2189927907
                        ],
                        "passed_time": 4.30397289,
                        "iteration": 81,
                        "remaining_time": 21.93976425,
                        "learn": [
                          0.9485094851,
                          0.1978219396
                        ]
                      },
                      {
                        "test": [
                          0.943483871,
                          0.2189845706
                        ],
                        "passed_time": 4.350478695,
                        "iteration": 82,
                        "remaining_time": 21.85722429,
                        "learn": [
                          0.948638534,
                          0.1976500703
                        ]
                      },
                      {
                        "test": [
                          0.9436129032,
                          0.2189359335
                        ],
                        "passed_time": 4.403066728,
                        "iteration": 83,
                        "remaining_time": 21.8056638,
                        "learn": [
                          0.9485955177,
                          0.1974628107
                        ]
                      },
                      {
                        "test": [
                          0.9436129032,
                          0.2189628666
                        ],
                        "passed_time": 4.452842448,
                        "iteration": 84,
                        "remaining_time": 21.74034842,
                        "learn": [
                          0.9487245666,
                          0.1972666441
                        ]
                      },
                      {
                        "test": [
                          0.9436129032,
                          0.2189129583
                        ],
                        "passed_time": 4.502012855,
                        "iteration": 85,
                        "remaining_time": 21.67248049,
                        "learn": [
                          0.9487675829,
                          0.1971266155
                        ]
                      },
                      {
                        "test": [
                          0.9436129032,
                          0.2188897258
                        ],
                        "passed_time": 4.549460542,
                        "iteration": 86,
                        "remaining_time": 21.59686441,
                        "learn": [
                          0.9487675829,
                          0.1969672833
                        ]
                      },
                      {
                        "test": [
                          0.9436129032,
                          0.2189074387
                        ],
                        "passed_time": 4.599258391,
                        "iteration": 87,
                        "remaining_time": 21.53289156,
                        "learn": [
                          0.9489396481,
                          0.1968272386
                        ]
                      },
                      {
                        "test": [
                          0.9436129032,
                          0.2189240729
                        ],
                        "passed_time": 4.646359792,
                        "iteration": 88,
                        "remaining_time": 21.45678511,
                        "learn": [
                          0.9488966318,
                          0.1966706832
                        ]
                      },
                      {
                        "test": [
                          0.9437419355,
                          0.2189047343
                        ],
                        "passed_time": 4.696030059,
                        "iteration": 89,
                        "remaining_time": 21.39302582,
                        "learn": [
                          0.949068697,
                          0.1965010625
                        ]
                      },
                      {
                        "test": [
                          0.9436129032,
                          0.2188496507
                        ],
                        "passed_time": 4.743000646,
                        "iteration": 90,
                        "remaining_time": 21.31744246,
                        "learn": [
                          0.9491117133,
                          0.19627889
                        ]
                      },
                      {
                        "test": [
                          0.9437419355,
                          0.2188162175
                        ],
                        "passed_time": 4.790924765,
                        "iteration": 91,
                        "remaining_time": 21.24670983,
                        "learn": [
                          0.9492407622,
                          0.196099009
                        ]
                      },
                      {
                        "test": [
                          0.9438709677,
                          0.2187260768
                        ],
                        "passed_time": 4.852242181,
                        "iteration": 92,
                        "remaining_time": 21.23508137,
                        "learn": [
                          0.9492837786,
                          0.1959544273
                        ]
                      },
                      {
                        "test": [
                          0.9438709677,
                          0.2186903861
                        ],
                        "passed_time": 4.901235647,
                        "iteration": 93,
                        "remaining_time": 21.16916673,
                        "learn": [
                          0.9493267949,
                          0.1957575869
                        ]
                      },
                      {
                        "test": [
                          0.9437419355,
                          0.2187204152
                        ],
                        "passed_time": 4.950354519,
                        "iteration": 94,
                        "remaining_time": 21.10414295,
                        "learn": [
                          0.9493267949,
                          0.1955058568
                        ]
                      },
                      {
                        "test": [
                          0.9437419355,
                          0.2186996671
                        ],
                        "passed_time": 5.002406845,
                        "iteration": 95,
                        "remaining_time": 21.05179547,
                        "learn": [
                          0.9493698112,
                          0.1952206478
                        ]
                      },
                      {
                        "test": [
                          0.9437419355,
                          0.2187164098
                        ],
                        "passed_time": 5.063222552,
                        "iteration": 96,
                        "remaining_time": 21.03586277,
                        "learn": [
                          0.9494558438,
                          0.1950849592
                        ]
                      },
                      {
                        "test": [
                          0.9437419355,
                          0.2187065829
                        ],
                        "passed_time": 5.120171871,
                        "iteration": 97,
                        "remaining_time": 21.003154,
                        "learn": [
                          0.9494988601,
                          0.1947751221
                        ]
                      },
                      {
                        "test": [
                          0.9437419355,
                          0.2186950389
                        ],
                        "passed_time": 5.16851978,
                        "iteration": 98,
                        "remaining_time": 20.93511547,
                        "learn": [
                          0.9494988601,
                          0.1945147753
                        ]
                      },
                      {
                        "test": [
                          0.9436129032,
                          0.2186998226
                        ],
                        "passed_time": 5.222601521,
                        "iteration": 99,
                        "remaining_time": 20.89040609,
                        "learn": [
                          0.949627909,
                          0.194318692
                        ]
                      },
                      {
                        "test": [
                          0.943483871,
                          0.2186407672
                        ],
                        "passed_time": 5.272036093,
                        "iteration": 100,
                        "remaining_time": 20.82715249,
                        "learn": [
                          0.949627909,
                          0.1941560092
                        ]
                      },
                      {
                        "test": [
                          0.943483871,
                          0.2186475003
                        ],
                        "passed_time": 5.319736139,
                        "iteration": 101,
                        "remaining_time": 20.7574018,
                        "learn": [
                          0.9497139416,
                          0.1940109358
                        ]
                      },
                      {
                        "test": [
                          0.943483871,
                          0.2185904816
                        ],
                        "passed_time": 5.367830847,
                        "iteration": 102,
                        "remaining_time": 20.68960045,
                        "learn": [
                          0.9497569579,
                          0.1938888752
                        ]
                      },
                      {
                        "test": [
                          0.943483871,
                          0.2185772556
                        ],
                        "passed_time": 5.413950136,
                        "iteration": 103,
                        "remaining_time": 20.61465629,
                        "learn": [
                          0.9498860068,
                          0.1937265588
                        ]
                      },
                      {
                        "test": [
                          0.9433548387,
                          0.2185794536
                        ],
                        "passed_time": 5.46358827,
                        "iteration": 104,
                        "remaining_time": 20.55349873,
                        "learn": [
                          0.950058072,
                          0.1936123734
                        ]
                      },
                      {
                        "test": [
                          0.9433548387,
                          0.2185446306
                        ],
                        "passed_time": 5.511265992,
                        "iteration": 105,
                        "remaining_time": 20.48527171,
                        "learn": [
                          0.9501010883,
                          0.1934510489
                        ]
                      },
                      {
                        "test": [
                          0.9433548387,
                          0.218558838
                        ],
                        "passed_time": 5.557632156,
                        "iteration": 106,
                        "remaining_time": 20.41261156,
                        "learn": [
                          0.9501871209,
                          0.1933295685
                        ]
                      },
                      {
                        "test": [
                          0.9433548387,
                          0.2185428637
                        ],
                        "passed_time": 5.60493541,
                        "iteration": 107,
                        "remaining_time": 20.34383964,
                        "learn": [
                          0.9501441046,
                          0.1932521291
                        ]
                      },
                      {
                        "test": [
                          0.9433548387,
                          0.2185693457
                        ],
                        "passed_time": 5.656467113,
                        "iteration": 108,
                        "remaining_time": 20.29062973,
                        "learn": [
                          0.9501871209,
                          0.1931112266
                        ]
                      },
                      {
                        "test": [
                          0.9433548387,
                          0.2184911903
                        ],
                        "passed_time": 5.703321718,
                        "iteration": 109,
                        "remaining_time": 20.22086791,
                        "learn": [
                          0.9503161698,
                          0.1929693216
                        ]
                      },
                      {
                        "test": [
                          0.9433548387,
                          0.2184901844
                        ],
                        "passed_time": 5.752016638,
                        "iteration": 110,
                        "remaining_time": 20.15796822,
                        "learn": [
                          0.9503161698,
                          0.192729327
                        ]
                      },
                      {
                        "test": [
                          0.9433548387,
                          0.2184202493
                        ],
                        "passed_time": 5.800805911,
                        "iteration": 111,
                        "remaining_time": 20.09564905,
                        "learn": [
                          0.9502301372,
                          0.1925479798
                        ]
                      },
                      {
                        "test": [
                          0.9433548387,
                          0.2183644528
                        ],
                        "passed_time": 5.866720018,
                        "iteration": 112,
                        "remaining_time": 20.09221812,
                        "learn": [
                          0.9501871209,
                          0.1924021552
                        ]
                      },
                      {
                        "test": [
                          0.9433548387,
                          0.2183230329
                        ],
                        "passed_time": 5.915191817,
                        "iteration": 113,
                        "remaining_time": 20.02863194,
                        "learn": [
                          0.9503161698,
                          0.1921991088
                        ]
                      },
                      {
                        "test": [
                          0.9432258065,
                          0.2182908219
                        ],
                        "passed_time": 5.963857673,
                        "iteration": 114,
                        "remaining_time": 19.9659583,
                        "learn": [
                          0.9503591861,
                          0.192061564
                        ]
                      },
                      {
                        "test": [
                          0.9432258065,
                          0.2182794613
                        ],
                        "passed_time": 6.010060612,
                        "iteration": 115,
                        "remaining_time": 19.89537306,
                        "learn": [
                          0.950488235,
                          0.1919676164
                        ]
                      },
                      {
                        "test": [
                          0.9432258065,
                          0.2182928007
                        ],
                        "passed_time": 6.068657746,
                        "iteration": 116,
                        "remaining_time": 19.86577707,
                        "learn": [
                          0.950488235,
                          0.1918315052
                        ]
                      },
                      {
                        "test": [
                          0.9433548387,
                          0.2182758211
                        ],
                        "passed_time": 6.118806045,
                        "iteration": 117,
                        "remaining_time": 19.80833821,
                        "learn": [
                          0.9505312513,
                          0.1917107959
                        ]
                      },
                      {
                        "test": [
                          0.943483871,
                          0.2182787013
                        ],
                        "passed_time": 6.165784513,
                        "iteration": 118,
                        "remaining_time": 19.7408731,
                        "learn": [
                          0.9505742676,
                          0.191594498
                        ]
                      },
                      {
                        "test": [
                          0.9432258065,
                          0.2182992786
                        ],
                        "passed_time": 6.213753102,
                        "iteration": 119,
                        "remaining_time": 19.67688482,
                        "learn": [
                          0.9505742676,
                          0.1914695896
                        ]
                      },
                      {
                        "test": [
                          0.9432258065,
                          0.2182327902
                        ],
                        "passed_time": 6.260868779,
                        "iteration": 120,
                        "remaining_time": 19.61048981,
                        "learn": [
                          0.9506603003,
                          0.1913340257
                        ]
                      },
                      {
                        "test": [
                          0.9432258065,
                          0.2182339942
                        ],
                        "passed_time": 6.308804107,
                        "iteration": 121,
                        "remaining_time": 19.54695043,
                        "learn": [
                          0.950617284,
                          0.1911669673
                        ]
                      },
                      {
                        "test": [
                          0.9432258065,
                          0.2182714059
                        ],
                        "passed_time": 6.356625906,
                        "iteration": 122,
                        "remaining_time": 19.4833168,
                        "learn": [
                          0.950617284,
                          0.191068028
                        ]
                      },
                      {
                        "test": [
                          0.9432258065,
                          0.2182857769
                        ],
                        "passed_time": 6.405009728,
                        "iteration": 123,
                        "remaining_time": 19.4216424,
                        "learn": [
                          0.9506603003,
                          0.1909893937
                        ]
                      },
                      {
                        "test": [
                          0.9432258065,
                          0.2182674478
                        ],
                        "passed_time": 6.455910481,
                        "iteration": 124,
                        "remaining_time": 19.36773144,
                        "learn": [
                          0.9507893492,
                          0.1908358732
                        ]
                      },
                      {
                        "test": [
                          0.9433548387,
                          0.2182374737
                        ],
                        "passed_time": 6.50471856,
                        "iteration": 125,
                        "remaining_time": 19.30765668,
                        "learn": [
                          0.9507463329,
                          0.1906229494
                        ]
                      },
                      {
                        "test": [
                          0.9432258065,
                          0.2182353417
                        ],
                        "passed_time": 6.551249113,
                        "iteration": 126,
                        "remaining_time": 19.24107023,
                        "learn": [
                          0.9507463329,
                          0.1904892496
                        ]
                      },
                      {
                        "test": [
                          0.9432258065,
                          0.2182329958
                        ],
                        "passed_time": 6.595977473,
                        "iteration": 127,
                        "remaining_time": 19.16955953,
                        "learn": [
                          0.9507893492,
                          0.1903669031
                        ]
                      },
                      {
                        "test": [
                          0.9432258065,
                          0.218224013
                        ],
                        "passed_time": 6.642161844,
                        "iteration": 128,
                        "remaining_time": 19.10265151,
                        "learn": [
                          0.9508753818,
                          0.1903018691
                        ]
                      },
                      {
                        "test": [
                          0.9432258065,
                          0.2182186392
                        ],
                        "passed_time": 6.688966694,
                        "iteration": 129,
                        "remaining_time": 19.03782828,
                        "learn": [
                          0.9508323655,
                          0.1902251275
                        ]
                      },
                      {
                        "test": [
                          0.9432258065,
                          0.2182341646
                        ],
                        "passed_time": 6.743557539,
                        "iteration": 130,
                        "remaining_time": 18.99521169,
                        "learn": [
                          0.9509183981,
                          0.189999608
                        ]
                      },
                      {
                        "test": [
                          0.9432258065,
                          0.2183021019
                        ],
                        "passed_time": 6.79158341,
                        "iteration": 131,
                        "remaining_time": 18.93411132,
                        "learn": [
                          0.9509183981,
                          0.1899247994
                        ]
                      },
                      {
                        "test": [
                          0.9432258065,
                          0.2182764054
                        ],
                        "passed_time": 6.838522711,
                        "iteration": 132,
                        "remaining_time": 18.87020928,
                        "learn": [
                          0.9510904633,
                          0.1898067553
                        ]
                      },
                      {
                        "test": [
                          0.9432258065,
                          0.2182662056
                        ],
                        "passed_time": 6.900629004,
                        "iteration": 133,
                        "remaining_time": 18.84798668,
                        "learn": [
                          0.9510904633,
                          0.1897479538
                        ]
                      },
                      {
                        "test": [
                          0.9433548387,
                          0.2182707796
                        ],
                        "passed_time": 6.950647535,
                        "iteration": 134,
                        "remaining_time": 18.79249148,
                        "learn": [
                          0.951047447,
                          0.1896284834
                        ]
                      },
                      {
                        "test": [
                          0.9433548387,
                          0.2182372471
                        ],
                        "passed_time": 6.997137593,
                        "iteration": 135,
                        "remaining_time": 18.72763297,
                        "learn": [
                          0.9510904633,
                          0.1895383254
                        ]
                      },
                      {
                        "test": [
                          0.9433548387,
                          0.2182310985
                        ],
                        "passed_time": 7.046432309,
                        "iteration": 136,
                        "remaining_time": 18.67047393,
                        "learn": [
                          0.9511334796,
                          0.1893843769
                        ]
                      },
                      {
                        "test": [
                          0.9432258065,
                          0.2182543871
                        ],
                        "passed_time": 7.106023767,
                        "iteration": 137,
                        "remaining_time": 18.64043916,
                        "learn": [
                          0.9512195122,
                          0.1892766498
                        ]
                      },
                      {
                        "test": [
                          0.9432258065,
                          0.2181969284
                        ],
                        "passed_time": 7.15727467,
                        "iteration": 138,
                        "remaining_time": 18.58831767,
                        "learn": [
                          0.9510904633,
                          0.189110801
                        ]
                      },
                      {
                        "test": [
                          0.9432258065,
                          0.2181899322
                        ],
                        "passed_time": 7.207614855,
                        "iteration": 139,
                        "remaining_time": 18.53386677,
                        "learn": [
                          0.9511764959,
                          0.1889859403
                        ]
                      },
                      {
                        "test": [
                          0.9432258065,
                          0.2181513047
                        ],
                        "passed_time": 7.254737678,
                        "iteration": 140,
                        "remaining_time": 18.47128246,
                        "learn": [
                          0.9513055448,
                          0.1888605973
                        ]
                      },
                      {
                        "test": [
                          0.9432258065,
                          0.218178084
                        ],
                        "passed_time": 7.299827027,
                        "iteration": 141,
                        "remaining_time": 18.40378927,
                        "learn": [
                          0.9513055448,
                          0.1887025534
                        ]
                      },
                      {
                        "test": [
                          0.9432258065,
                          0.2182397586
                        ],
                        "passed_time": 7.348844247,
                        "iteration": 142,
                        "remaining_time": 18.34641536,
                        "learn": [
                          0.9513915774,
                          0.18856851
                        ]
                      },
                      {
                        "test": [
                          0.9432258065,
                          0.2182963756
                        ],
                        "passed_time": 7.395379448,
                        "iteration": 143,
                        "remaining_time": 18.28302141,
                        "learn": [
                          0.9514345937,
                          0.1884215951
                        ]
                      },
                      {
                        "test": [
                          0.9433548387,
                          0.2183884929
                        ],
                        "passed_time": 7.443552538,
                        "iteration": 144,
                        "remaining_time": 18.22387001,
                        "learn": [
                          0.9513915774,
                          0.1882308166
                        ]
                      },
                      {
                        "test": [
                          0.9433548387,
                          0.2183949676
                        ],
                        "passed_time": 7.489114982,
                        "iteration": 145,
                        "remaining_time": 18.15853907,
                        "learn": [
                          0.9513485611,
                          0.1881788639
                        ]
                      },
                      {
                        "test": [
                          0.9433548387,
                          0.2183989074
                        ],
                        "passed_time": 7.536156763,
                        "iteration": 146,
                        "remaining_time": 18.09702951,
                        "learn": [
                          0.9515636426,
                          0.1880329239
                        ]
                      },
                      {
                        "test": [
                          0.9433548387,
                          0.218428244
                        ],
                        "passed_time": 7.583324583,
                        "iteration": 147,
                        "remaining_time": 18.03601522,
                        "learn": [
                          0.95147761,
                          0.1878359664
                        ]
                      },
                      {
                        "test": [
                          0.9433548387,
                          0.2184081755
                        ],
                        "passed_time": 7.632442426,
                        "iteration": 148,
                        "remaining_time": 17.97978048,
                        "learn": [
                          0.9515636426,
                          0.1877220144
                        ]
                      },
                      {
                        "test": [
                          0.9433548387,
                          0.2184029054
                        ],
                        "passed_time": 7.682253399,
                        "iteration": 149,
                        "remaining_time": 17.92525793,
                        "learn": [
                          0.9515636426,
                          0.1876399356
                        ]
                      },
                      {
                        "test": [
                          0.9433548387,
                          0.218372727
                        ],
                        "passed_time": 7.730613322,
                        "iteration": 150,
                        "remaining_time": 17.86744404,
                        "learn": [
                          0.9516066589,
                          0.187553619
                        ]
                      },
                      {
                        "test": [
                          0.9433548387,
                          0.2183739068
                        ],
                        "passed_time": 7.779123741,
                        "iteration": 151,
                        "remaining_time": 17.81009909,
                        "learn": [
                          0.9515636426,
                          0.1874935712
                        ]
                      },
                      {
                        "test": [
                          0.9433548387,
                          0.2184046579
                        ],
                        "passed_time": 7.825040183,
                        "iteration": 152,
                        "remaining_time": 17.74698656,
                        "learn": [
                          0.9515636426,
                          0.1873422197
                        ]
                      },
                      {
                        "test": [
                          0.9430967742,
                          0.2184063602
                        ],
                        "passed_time": 7.883935854,
                        "iteration": 153,
                        "remaining_time": 17.71325848,
                        "learn": [
                          0.9515636426,
                          0.1872444448
                        ]
                      },
                      {
                        "test": [
                          0.9432258065,
                          0.2184248372
                        ],
                        "passed_time": 7.937066481,
                        "iteration": 154,
                        "remaining_time": 17.66637378,
                        "learn": [
                          0.9515636426,
                          0.1871848352
                        ]
                      },
                      {
                        "test": [
                          0.9429677419,
                          0.2184400146
                        ],
                        "passed_time": 7.987838047,
                        "iteration": 155,
                        "remaining_time": 17.61420698,
                        "learn": [
                          0.9515636426,
                          0.1871052665
                        ]
                      },
                      {
                        "test": [
                          0.9430967742,
                          0.218453063
                        ],
                        "passed_time": 8.03530893,
                        "iteration": 156,
                        "remaining_time": 17.5548469,
                        "learn": [
                          0.9515206263,
                          0.1869533389
                        ]
                      },
                      {
                        "test": [
                          0.9432258065,
                          0.2184497713
                        ],
                        "passed_time": 8.100447075,
                        "iteration": 157,
                        "remaining_time": 17.53387911,
                        "learn": [
                          0.95147761,
                          0.1868436257
                        ]
                      },
                      {
                        "test": [
                          0.9430967742,
                          0.2184596186
                        ],
                        "passed_time": 8.161907133,
                        "iteration": 158,
                        "remaining_time": 17.5044675,
                        "learn": [
                          0.9514345937,
                          0.1866874939
                        ]
                      },
                      {
                        "test": [
                          0.9432258065,
                          0.2184242199
                        ],
                        "passed_time": 8.217661628,
                        "iteration": 159,
                        "remaining_time": 17.46253096,
                        "learn": [
                          0.9514345937,
                          0.1866030664
                        ]
                      },
                      {
                        "test": [
                          0.9430967742,
                          0.2183746882
                        ],
                        "passed_time": 8.267144166,
                        "iteration": 160,
                        "remaining_time": 17.4072166,
                        "learn": [
                          0.9515206263,
                          0.1864742072
                        ]
                      },
                      {
                        "test": [
                          0.9429677419,
                          0.2183944406
                        ],
                        "passed_time": 8.31346863,
                        "iteration": 161,
                        "remaining_time": 17.34538517,
                        "learn": [
                          0.9516066589,
                          0.1863522322
                        ]
                      },
                      {
                        "test": [
                          0.9433548387,
                          0.218382665
                        ],
                        "passed_time": 8.369663791,
                        "iteration": 162,
                        "remaining_time": 17.30415152,
                        "learn": [
                          0.9516926915,
                          0.1861391396
                        ]
                      },
                      {
                        "test": [
                          0.943483871,
                          0.2183659328
                        ],
                        "passed_time": 8.420527104,
                        "iteration": 163,
                        "remaining_time": 17.25181163,
                        "learn": [
                          0.9516926915,
                          0.1860172388
                        ]
                      },
                      {
                        "test": [
                          0.9433548387,
                          0.2183831459
                        ],
                        "passed_time": 8.466875408,
                        "iteration": 164,
                        "remaining_time": 17.1903228,
                        "learn": [
                          0.9517357078,
                          0.1858730508
                        ]
                      },
                      {
                        "test": [
                          0.943483871,
                          0.2183532879
                        ],
                        "passed_time": 8.517294427,
                        "iteration": 165,
                        "remaining_time": 17.13720686,
                        "learn": [
                          0.9518217404,
                          0.1857844897
                        ]
                      },
                      {
                        "test": [
                          0.943483871,
                          0.2183229518
                        ],
                        "passed_time": 8.565371295,
                        "iteration": 166,
                        "remaining_time": 17.07945294,
                        "learn": [
                          0.951907773,
                          0.1856444784
                        ]
                      },
                      {
                        "test": [
                          0.9436129032,
                          0.2183175649
                        ],
                        "passed_time": 8.611990072,
                        "iteration": 167,
                        "remaining_time": 17.01893276,
                        "learn": [
                          0.9518647567,
                          0.1855736581
                        ]
                      },
                      {
                        "test": [
                          0.9436129032,
                          0.2182670214
                        ],
                        "passed_time": 8.662304717,
                        "iteration": 168,
                        "remaining_time": 16.96581575,
                        "learn": [
                          0.951907773,
                          0.1854295142
                        ]
                      },
                      {
                        "test": [
                          0.9436129032,
                          0.2182431068
                        ],
                        "passed_time": 8.708950527,
                        "iteration": 169,
                        "remaining_time": 16.90560985,
                        "learn": [
                          0.9518647567,
                          0.1853852326
                        ]
                      },
                      {
                        "test": [
                          0.9437419355,
                          0.2182567824
                        ],
                        "passed_time": 8.754907365,
                        "iteration": 170,
                        "remaining_time": 16.84423698,
                        "learn": [
                          0.9517787241,
                          0.1853230659
                        ]
                      },
                      {
                        "test": [
                          0.9436129032,
                          0.2182726924
                        ],
                        "passed_time": 8.801676323,
                        "iteration": 171,
                        "remaining_time": 16.78459206,
                        "learn": [
                          0.951907773,
                          0.1852242308
                        ]
                      },
                      {
                        "test": [
                          0.9436129032,
                          0.2182750876
                        ],
                        "passed_time": 8.847275299,
                        "iteration": 172,
                        "remaining_time": 16.72288453,
                        "learn": [
                          0.9518647567,
                          0.1850838558
                        ]
                      },
                      {
                        "test": [
                          0.9432258065,
                          0.2182503525
                        ],
                        "passed_time": 8.934273074,
                        "iteration": 173,
                        "remaining_time": 16.73892541,
                        "learn": [
                          0.9518217404,
                          0.1849095577
                        ]
                      },
                      {
                        "test": [
                          0.9433548387,
                          0.2182971196
                        ],
                        "passed_time": 8.983142939,
                        "iteration": 174,
                        "remaining_time": 16.68297974,
                        "learn": [
                          0.9517787241,
                          0.1847961279
                        ]
                      },
                      {
                        "test": [
                          0.9433548387,
                          0.2183066969
                        ],
                        "passed_time": 9.030595628,
                        "iteration": 175,
                        "remaining_time": 16.62450559,
                        "learn": [
                          0.9519507893,
                          0.1846869001
                        ]
                      },
                      {
                        "test": [
                          0.9432258065,
                          0.2183584439
                        ],
                        "passed_time": 9.076236099,
                        "iteration": 176,
                        "remaining_time": 16.56284893,
                        "learn": [
                          0.9519938057,
                          0.184621131
                        ]
                      },
                      {
                        "test": [
                          0.9432258065,
                          0.2183423069
                        ],
                        "passed_time": 9.133775533,
                        "iteration": 177,
                        "remaining_time": 16.52289731,
                        "learn": [
                          0.9519507893,
                          0.1844427474
                        ]
                      },
                      {
                        "test": [
                          0.9432258065,
                          0.2183571907
                        ],
                        "passed_time": 9.185533069,
                        "iteration": 178,
                        "remaining_time": 16.47238053,
                        "learn": [
                          0.9519938057,
                          0.1842300768
                        ]
                      },
                      {
                        "test": [
                          0.9432258065,
                          0.2183521309
                        ],
                        "passed_time": 9.232447996,
                        "iteration": 179,
                        "remaining_time": 16.41324088,
                        "learn": [
                          0.952036822,
                          0.1841363291
                        ]
                      },
                      {
                        "test": [
                          0.9432258065,
                          0.2183750248
                        ],
                        "passed_time": 9.279779717,
                        "iteration": 180,
                        "remaining_time": 16.35497088,
                        "learn": [
                          0.9519938057,
                          0.1840632448
                        ]
                      },
                      {
                        "test": [
                          0.9430967742,
                          0.218325992
                        ],
                        "passed_time": 9.327095743,
                        "iteration": 181,
                        "remaining_time": 16.29679366,
                        "learn": [
                          0.952036822,
                          0.1839680085
                        ]
                      },
                      {
                        "test": [
                          0.943483871,
                          0.2183058616
                        ],
                        "passed_time": 9.377392584,
                        "iteration": 182,
                        "remaining_time": 16.24389863,
                        "learn": [
                          0.9521228546,
                          0.1838136433
                        ]
                      },
                      {
                        "test": [
                          0.943483871,
                          0.218295885
                        ],
                        "passed_time": 9.427040366,
                        "iteration": 183,
                        "remaining_time": 16.18991715,
                        "learn": [
                          0.9519938057,
                          0.1836578954
                        ]
                      },
                      {
                        "test": [
                          0.943483871,
                          0.2183281388
                        ],
                        "passed_time": 9.473228069,
                        "iteration": 184,
                        "remaining_time": 16.13009104,
                        "learn": [
                          0.9519938057,
                          0.1835707268
                        ]
                      },
                      {
                        "test": [
                          0.943483871,
                          0.2183543277
                        ],
                        "passed_time": 9.519593933,
                        "iteration": 185,
                        "remaining_time": 16.07071234,
                        "learn": [
                          0.9520798383,
                          0.1834651995
                        ]
                      },
                      {
                        "test": [
                          0.943483871,
                          0.2183182289
                        ],
                        "passed_time": 9.567010904,
                        "iteration": 186,
                        "remaining_time": 16.01323216,
                        "learn": [
                          0.9520798383,
                          0.1833475021
                        ]
                      },
                      {
                        "test": [
                          0.943483871,
                          0.2183777098
                        ],
                        "passed_time": 9.614110665,
                        "iteration": 187,
                        "remaining_time": 15.95533259,
                        "learn": [
                          0.9521228546,
                          0.1832187781
                        ]
                      },
                      {
                        "test": [
                          0.943483871,
                          0.2183520235
                        ],
                        "passed_time": 9.659856559,
                        "iteration": 188,
                        "remaining_time": 15.89531952,
                        "learn": [
                          0.952036822,
                          0.1831339959
                        ]
                      },
                      {
                        "test": [
                          0.9433548387,
                          0.2184074598
                        ],
                        "passed_time": 9.70810199,
                        "iteration": 189,
                        "remaining_time": 15.83953483,
                        "learn": [
                          0.9519938057,
                          0.183011496
                        ]
                      },
                      {
                        "test": [
                          0.9433548387,
                          0.2183976906
                        ],
                        "passed_time": 9.756523039,
                        "iteration": 190,
                        "remaining_time": 15.78411319,
                        "learn": [
                          0.952036822,
                          0.1828985624
                        ]
                      },
                      {
                        "test": [
                          0.9433548387,
                          0.2184069175
                        ],
                        "passed_time": 9.806416399,
                        "iteration": 191,
                        "remaining_time": 15.73112631,
                        "learn": [
                          0.952036822,
                          0.1828070582
                        ]
                      },
                      {
                        "test": [
                          0.9433548387,
                          0.2183668193
                        ],
                        "passed_time": 9.857816128,
                        "iteration": 192,
                        "remaining_time": 15.68056762,
                        "learn": [
                          0.952036822,
                          0.1826662232
                        ]
                      },
                      {
                        "test": [
                          0.9433548387,
                          0.2184472191
                        ],
                        "passed_time": 9.905228458,
                        "iteration": 193,
                        "remaining_time": 15.62371087,
                        "learn": [
                          0.952036822,
                          0.182499083
                        ]
                      },
                      {
                        "test": [
                          0.9436129032,
                          0.218493992
                        ],
                        "passed_time": 9.973249307,
                        "iteration": 194,
                        "remaining_time": 15.59918481,
                        "learn": [
                          0.9521228546,
                          0.1823491256
                        ]
                      },
                      {
                        "test": [
                          0.9436129032,
                          0.2184921498
                        ],
                        "passed_time": 10.02209408,
                        "iteration": 195,
                        "remaining_time": 15.54447245,
                        "learn": [
                          0.9521658709,
                          0.1822357925
                        ]
                      },
                      {
                        "test": [
                          0.943483871,
                          0.218523041
                        ],
                        "passed_time": 10.06841652,
                        "iteration": 196,
                        "remaining_time": 15.48594013,
                        "learn": [
                          0.9521658709,
                          0.1821472982
                        ]
                      },
                      {
                        "test": [
                          0.943483871,
                          0.2185309982
                        ],
                        "passed_time": 10.11975923,
                        "iteration": 197,
                        "remaining_time": 15.43518832,
                        "learn": [
                          0.9523809524,
                          0.1820584112
                        ]
                      },
                      {
                        "test": [
                          0.9436129032,
                          0.2185192987
                        ],
                        "passed_time": 10.18065884,
                        "iteration": 198,
                        "remaining_time": 15.39888599,
                        "learn": [
                          0.9524239687,
                          0.1819427599
                        ]
                      },
                      {
                        "test": [
                          0.943483871,
                          0.2186013228
                        ],
                        "passed_time": 10.23129155,
                        "iteration": 199,
                        "remaining_time": 15.34693733,
                        "learn": [
                          0.9524239687,
                          0.1818012764
                        ]
                      },
                      {
                        "test": [
                          0.9436129032,
                          0.2186337592
                        ],
                        "passed_time": 10.27838063,
                        "iteration": 200,
                        "remaining_time": 15.28973038,
                        "learn": [
                          0.952466985,
                          0.181728026
                        ]
                      },
                      {
                        "test": [
                          0.9436129032,
                          0.2185995591
                        ],
                        "passed_time": 10.32644903,
                        "iteration": 201,
                        "remaining_time": 15.23406838,
                        "learn": [
                          0.952466985,
                          0.1816677297
                        ]
                      },
                      {
                        "test": [
                          0.9436129032,
                          0.2186288112
                        ],
                        "passed_time": 10.37325889,
                        "iteration": 202,
                        "remaining_time": 15.17663986,
                        "learn": [
                          0.9525100013,
                          0.181566432
                        ]
                      },
                      {
                        "test": [
                          0.943483871,
                          0.2185938086
                        ],
                        "passed_time": 10.42370407,
                        "iteration": 203,
                        "remaining_time": 15.12459022,
                        "learn": [
                          0.9525530176,
                          0.1814428739
                        ]
                      },
                      {
                        "test": [
                          0.9436129032,
                          0.2186247488
                        ],
                        "passed_time": 10.46936508,
                        "iteration": 204,
                        "remaining_time": 15.0656717,
                        "learn": [
                          0.9525530176,
                          0.1813380348
                        ]
                      },
                      {
                        "test": [
                          0.943483871,
                          0.2186300418
                        ],
                        "passed_time": 10.51624157,
                        "iteration": 205,
                        "remaining_time": 15.00861661,
                        "learn": [
                          0.9526390502,
                          0.1812089765
                        ]
                      },
                      {
                        "test": [
                          0.9436129032,
                          0.2185834915
                        ],
                        "passed_time": 10.56354731,
                        "iteration": 206,
                        "remaining_time": 14.95226745,
                        "learn": [
                          0.9527680991,
                          0.1811261506
                        ]
                      },
                      {
                        "test": [
                          0.943483871,
                          0.2185761069
                        ],
                        "passed_time": 10.61129211,
                        "iteration": 207,
                        "remaining_time": 14.89662161,
                        "learn": [
                          0.9527250828,
                          0.1810797416
                        ]
                      },
                      {
                        "test": [
                          0.9436129032,
                          0.2185910621
                        ],
                        "passed_time": 10.65777446,
                        "iteration": 208,
                        "remaining_time": 14.83929363,
                        "learn": [
                          0.9527680991,
                          0.180981191
                        ]
                      },
                      {
                        "test": [
                          0.943483871,
                          0.2186314713
                        ],
                        "passed_time": 10.70833872,
                        "iteration": 209,
                        "remaining_time": 14.78770585,
                        "learn": [
                          0.9526820665,
                          0.1807921967
                        ]
                      },
                      {
                        "test": [
                          0.9436129032,
                          0.2186501281
                        ],
                        "passed_time": 10.75733231,
                        "iteration": 210,
                        "remaining_time": 14.73397649,
                        "learn": [
                          0.9527250828,
                          0.1807064334
                        ]
                      },
                      {
                        "test": [
                          0.9433548387,
                          0.2186224823
                        ],
                        "passed_time": 10.80988473,
                        "iteration": 211,
                        "remaining_time": 14.68512643,
                        "learn": [
                          0.9527250828,
                          0.1805723088
                        ]
                      },
                      {
                        "test": [
                          0.9433548387,
                          0.2185911297
                        ],
                        "passed_time": 10.85669963,
                        "iteration": 212,
                        "remaining_time": 14.62851077,
                        "learn": [
                          0.9527680991,
                          0.1804827191
                        ]
                      },
                      {
                        "test": [
                          0.9433548387,
                          0.2186253721
                        ],
                        "passed_time": 10.90670454,
                        "iteration": 213,
                        "remaining_time": 14.57624999,
                        "learn": [
                          0.9527680991,
                          0.180342103
                        ]
                      },
                      {
                        "test": [
                          0.9433548387,
                          0.2186411147
                        ],
                        "passed_time": 10.97141653,
                        "iteration": 214,
                        "remaining_time": 14.54350563,
                        "learn": [
                          0.9527680991,
                          0.1802715637
                        ]
                      },
                      {
                        "test": [
                          0.9433548387,
                          0.2186404432
                        ],
                        "passed_time": 11.03019755,
                        "iteration": 215,
                        "remaining_time": 14.50266715,
                        "learn": [
                          0.9528111154,
                          0.1801508725
                        ]
                      },
                      {
                        "test": [
                          0.9432258065,
                          0.2186433542
                        ],
                        "passed_time": 11.07689467,
                        "iteration": 216,
                        "remaining_time": 14.44590411,
                        "learn": [
                          0.9528541317,
                          0.1800718571
                        ]
                      },
                      {
                        "test": [
                          0.9432258065,
                          0.2186430473
                        ],
                        "passed_time": 11.12577439,
                        "iteration": 217,
                        "remaining_time": 14.39205679,
                        "learn": [
                          0.952897148,
                          0.1799247212
                        ]
                      },
                      {
                        "test": [
                          0.9432258065,
                          0.2186280817
                        ],
                        "passed_time": 11.18763237,
                        "iteration": 218,
                        "remaining_time": 14.35490728,
                        "learn": [
                          0.952897148,
                          0.1798339899
                        ]
                      },
                      {
                        "test": [
                          0.9432258065,
                          0.2186163449
                        ],
                        "passed_time": 11.23725603,
                        "iteration": 219,
                        "remaining_time": 14.30196221,
                        "learn": [
                          0.9528541317,
                          0.1797548305
                        ]
                      },
                      {
                        "test": [
                          0.9433548387,
                          0.21866148
                        ],
                        "passed_time": 11.28719927,
                        "iteration": 220,
                        "remaining_time": 14.24945066,
                        "learn": [
                          0.952897148,
                          0.1796133089
                        ]
                      },
                      {
                        "test": [
                          0.943483871,
                          0.2187452526
                        ],
                        "passed_time": 11.33688904,
                        "iteration": 221,
                        "remaining_time": 14.19664483,
                        "learn": [
                          0.952897148,
                          0.1794313759
                        ]
                      },
                      {
                        "test": [
                          0.9436129032,
                          0.2187598248
                        ],
                        "passed_time": 11.38642513,
                        "iteration": 222,
                        "remaining_time": 14.14367605,
                        "learn": [
                          0.9529831806,
                          0.1793501275
                        ]
                      },
                      {
                        "test": [
                          0.9433548387,
                          0.2187208608
                        ],
                        "passed_time": 11.43373298,
                        "iteration": 223,
                        "remaining_time": 14.08799242,
                        "learn": [
                          0.9530261969,
                          0.1792573558
                        ]
                      },
                      {
                        "test": [
                          0.943483871,
                          0.2186811091
                        ],
                        "passed_time": 11.48140076,
                        "iteration": 224,
                        "remaining_time": 14.03282315,
                        "learn": [
                          0.9530692132,
                          0.1791792088
                        ]
                      },
                      {
                        "test": [
                          0.943483871,
                          0.218681276
                        ],
                        "passed_time": 11.53110628,
                        "iteration": 225,
                        "remaining_time": 13.9801908,
                        "learn": [
                          0.9531122295,
                          0.1790528766
                        ]
                      },
                      {
                        "test": [
                          0.943483871,
                          0.2187167514
                        ],
                        "passed_time": 11.58053735,
                        "iteration": 226,
                        "remaining_time": 13.92725417,
                        "learn": [
                          0.9530261969,
                          0.1789360564
                        ]
                      },
                      {
                        "test": [
                          0.943483871,
                          0.218716499
                        ],
                        "passed_time": 11.63003416,
                        "iteration": 227,
                        "remaining_time": 13.87442672,
                        "learn": [
                          0.9530261969,
                          0.1788966848
                        ]
                      },
                      {
                        "test": [
                          0.943483871,
                          0.2187011729
                        ],
                        "passed_time": 11.67822609,
                        "iteration": 228,
                        "remaining_time": 13.82008415,
                        "learn": [
                          0.9530261969,
                          0.1787985623
                        ]
                      },
                      {
                        "test": [
                          0.943483871,
                          0.2187608619
                        ],
                        "passed_time": 11.72946079,
                        "iteration": 229,
                        "remaining_time": 13.76936701,
                        "learn": [
                          0.9530692132,
                          0.1787145693
                        ]
                      },
                      {
                        "test": [
                          0.9436129032,
                          0.2187472717
                        ],
                        "passed_time": 11.7760809,
                        "iteration": 230,
                        "remaining_time": 13.71327169,
                        "learn": [
                          0.9530261969,
                          0.1786540198
                        ]
                      },
                      {
                        "test": [
                          0.9436129032,
                          0.2187074625
                        ],
                        "passed_time": 11.82240577,
                        "iteration": 231,
                        "remaining_time": 13.65691701,
                        "learn": [
                          0.9529831806,
                          0.1785895876
                        ]
                      },
                      {
                        "test": [
                          0.9436129032,
                          0.2187196935
                        ],
                        "passed_time": 11.86917384,
                        "iteration": 232,
                        "remaining_time": 13.60115629,
                        "learn": [
                          0.9531552458,
                          0.1784361048
                        ]
                      },
                      {
                        "test": [
                          0.9436129032,
                          0.2187343146
                        ],
                        "passed_time": 11.91626105,
                        "iteration": 233,
                        "remaining_time": 13.54583521,
                        "learn": [
                          0.9531552458,
                          0.1783607039
                        ]
                      },
                      {
                        "test": [
                          0.9436129032,
                          0.2187451997
                        ],
                        "passed_time": 11.96430737,
                        "iteration": 234,
                        "remaining_time": 13.49166576,
                        "learn": [
                          0.9531552458,
                          0.1782878825
                        ]
                      },
                      {
                        "test": [
                          0.943483871,
                          0.2187504952
                        ],
                        "passed_time": 12.03448869,
                        "iteration": 235,
                        "remaining_time": 13.46230938,
                        "learn": [
                          0.9532412784,
                          0.1782024297
                        ]
                      },
                      {
                        "test": [
                          0.943483871,
                          0.2187662214
                        ],
                        "passed_time": 12.08158053,
                        "iteration": 236,
                        "remaining_time": 13.40698599,
                        "learn": [
                          0.9531982621,
                          0.1781267025
                        ]
                      },
                      {
                        "test": [
                          0.9436129032,
                          0.2187492983
                        ],
                        "passed_time": 12.1325303,
                        "iteration": 237,
                        "remaining_time": 13.35597874,
                        "learn": [
                          0.9531982621,
                          0.1780185861
                        ]
                      },
                      {
                        "test": [
                          0.9436129032,
                          0.2187625371
                        ],
                        "passed_time": 12.1919265,
                        "iteration": 238,
                        "remaining_time": 13.31419588,
                        "learn": [
                          0.9531552458,
                          0.177921053
                        ]
                      },
                      {
                        "test": [
                          0.9436129032,
                          0.2187694452
                        ],
                        "passed_time": 12.23889331,
                        "iteration": 239,
                        "remaining_time": 13.25880108,
                        "learn": [
                          0.9531552458,
                          0.1778168821
                        ]
                      },
                      {
                        "test": [
                          0.943483871,
                          0.2188128954
                        ],
                        "passed_time": 12.29072586,
                        "iteration": 240,
                        "remaining_time": 13.20870539,
                        "learn": [
                          0.9532412784,
                          0.1777318284
                        ]
                      },
                      {
                        "test": [
                          0.943483871,
                          0.2187769489
                        ],
                        "passed_time": 12.33964568,
                        "iteration": 241,
                        "remaining_time": 13.15549002,
                        "learn": [
                          0.9533273111,
                          0.177664761
                        ]
                      },
                      {
                        "test": [
                          0.943483871,
                          0.2187658175
                        ],
                        "passed_time": 12.38663354,
                        "iteration": 242,
                        "remaining_time": 13.10026675,
                        "learn": [
                          0.9532842947,
                          0.177618805
                        ]
                      },
                      {
                        "test": [
                          0.943483871,
                          0.2187608976
                        ],
                        "passed_time": 12.43344882,
                        "iteration": 243,
                        "remaining_time": 13.04492991,
                        "learn": [
                          0.9531982621,
                          0.1774853767
                        ]
                      },
                      {
                        "test": [
                          0.943483871,
                          0.2187693738
                        ],
                        "passed_time": 12.47936161,
                        "iteration": 244,
                        "remaining_time": 12.98872331,
                        "learn": [
                          0.9531982621,
                          0.1774488653
                        ]
                      },
                      {
                        "test": [
                          0.943483871,
                          0.2187510938
                        ],
                        "passed_time": 12.5266537,
                        "iteration": 245,
                        "remaining_time": 12.93402455,
                        "learn": [
                          0.9532412784,
                          0.1773793111
                        ]
                      },
                      {
                        "test": [
                          0.943483871,
                          0.2186839261
                        ],
                        "passed_time": 12.5725475,
                        "iteration": 246,
                        "remaining_time": 12.87795351,
                        "learn": [
                          0.9533273111,
                          0.1773165565
                        ]
                      },
                      {
                        "test": [
                          0.943483871,
                          0.2186735264
                        ],
                        "passed_time": 12.61758879,
                        "iteration": 247,
                        "remaining_time": 12.82109829,
                        "learn": [
                          0.9533273111,
                          0.1772834055
                        ]
                      },
                      {
                        "test": [
                          0.9436129032,
                          0.2186988532
                        ],
                        "passed_time": 12.66335157,
                        "iteration": 248,
                        "remaining_time": 12.76506524,
                        "learn": [
                          0.9533273111,
                          0.1771717454
                        ]
                      },
                      {
                        "test": [
                          0.9436129032,
                          0.2186690584
                        ],
                        "passed_time": 12.71162577,
                        "iteration": 249,
                        "remaining_time": 12.71162577,
                        "learn": [
                          0.95345636,
                          0.1770342511
                        ]
                      },
                      {
                        "test": [
                          0.9436129032,
                          0.2186661427
                        ],
                        "passed_time": 12.76071295,
                        "iteration": 250,
                        "remaining_time": 12.65903396,
                        "learn": [
                          0.9534993763,
                          0.1769264067
                        ]
                      },
                      {
                        "test": [
                          0.9436129032,
                          0.2186229409
                        ],
                        "passed_time": 12.81702164,
                        "iteration": 251,
                        "remaining_time": 12.61357685,
                        "learn": [
                          0.9535423926,
                          0.1768098112
                        ]
                      },
                      {
                        "test": [
                          0.9436129032,
                          0.2186064206
                        ],
                        "passed_time": 12.86569974,
                        "iteration": 252,
                        "remaining_time": 12.56058433,
                        "learn": [
                          0.9535423926,
                          0.1766928357
                        ]
                      },
                      {
                        "test": [
                          0.9436129032,
                          0.2186201999
                        ],
                        "passed_time": 12.91238602,
                        "iteration": 253,
                        "remaining_time": 12.5056967,
                        "learn": [
                          0.9535423926,
                          0.1766254112
                        ]
                      },
                      {
                        "test": [
                          0.9436129032,
                          0.2186566416
                        ],
                        "passed_time": 12.95835081,
                        "iteration": 254,
                        "remaining_time": 12.45018019,
                        "learn": [
                          0.9536714415,
                          0.1765357655
                        ]
                      },
                      {
                        "test": [
                          0.9436129032,
                          0.2187144685
                        ],
                        "passed_time": 13.02513594,
                        "iteration": 255,
                        "remaining_time": 12.41458269,
                        "learn": [
                          0.9537574741,
                          0.1763959669
                        ]
                      },
                      {
                        "test": [
                          0.9437419355,
                          0.2187148477
                        ],
                        "passed_time": 13.08181374,
                        "iteration": 256,
                        "remaining_time": 12.36918575,
                        "learn": [
                          0.9537574741,
                          0.1762891586
                        ]
                      },
                      {
                        "test": [
                          0.9437419355,
                          0.2187021894
                        ],
                        "passed_time": 13.12801815,
                        "iteration": 257,
                        "remaining_time": 12.31387749,
                        "learn": [
                          0.9538004904,
                          0.1762148891
                        ]
                      },
                      {
                        "test": [
                          0.9437419355,
                          0.2186806538
                        ],
                        "passed_time": 13.18101027,
                        "iteration": 258,
                        "remaining_time": 12.2649555,
                        "learn": [
                          0.9538435067,
                          0.1760995054
                        ]
                      },
                      {
                        "test": [
                          0.9437419355,
                          0.2186681078
                        ],
                        "passed_time": 13.23507271,
                        "iteration": 259,
                        "remaining_time": 12.21699019,
                        "learn": [
                          0.9538435067,
                          0.1760377892
                        ]
                      },
                      {
                        "test": [
                          0.9437419355,
                          0.2186673664
                        ],
                        "passed_time": 13.28822727,
                        "iteration": 260,
                        "remaining_time": 12.16814681,
                        "learn": [
                          0.953886523,
                          0.1759715451
                        ]
                      },
                      {
                        "test": [
                          0.9438709677,
                          0.2186991561
                        ],
                        "passed_time": 13.34113368,
                        "iteration": 261,
                        "remaining_time": 12.1190451,
                        "learn": [
                          0.9538435067,
                          0.1758434749
                        ]
                      },
                      {
                        "test": [
                          0.9437419355,
                          0.2187026897
                        ],
                        "passed_time": 13.38685483,
                        "iteration": 262,
                        "remaining_time": 12.06343952,
                        "learn": [
                          0.9538435067,
                          0.1757899838
                        ]
                      },
                      {
                        "test": [
                          0.9437419355,
                          0.2186344599
                        ],
                        "passed_time": 13.44271902,
                        "iteration": 263,
                        "remaining_time": 12.01697609,
                        "learn": [
                          0.9539295393,
                          0.1757138875
                        ]
                      },
                      {
                        "test": [
                          0.9437419355,
                          0.2186287076
                        ],
                        "passed_time": 13.48949565,
                        "iteration": 264,
                        "remaining_time": 11.96238293,
                        "learn": [
                          0.9538435067,
                          0.1756644908
                        ]
                      },
                      {
                        "test": [
                          0.9437419355,
                          0.2185929392
                        ],
                        "passed_time": 13.53642273,
                        "iteration": 265,
                        "remaining_time": 11.9079809,
                        "learn": [
                          0.9539295393,
                          0.1755608152
                        ]
                      },
                      {
                        "test": [
                          0.9437419355,
                          0.21857427
                        ],
                        "passed_time": 13.58291175,
                        "iteration": 266,
                        "remaining_time": 11.85325258,
                        "learn": [
                          0.9539725556,
                          0.1754848844
                        ]
                      },
                      {
                        "test": [
                          0.9436129032,
                          0.2186083261
                        ],
                        "passed_time": 13.63458525,
                        "iteration": 267,
                        "remaining_time": 11.8030738,
                        "learn": [
                          0.9540155719,
                          0.1753808986
                        ]
                      },
                      {
                        "test": [
                          0.943483871,
                          0.2186260855
                        ],
                        "passed_time": 13.68512283,
                        "iteration": 268,
                        "remaining_time": 11.75190845,
                        "learn": [
                          0.9540585882,
                          0.1752246025
                        ]
                      },
                      {
                        "test": [
                          0.943483871,
                          0.2186520678
                        ],
                        "passed_time": 13.73466159,
                        "iteration": 269,
                        "remaining_time": 11.69989691,
                        "learn": [
                          0.9540585882,
                          0.1751212261
                        ]
                      },
                      {
                        "test": [
                          0.943483871,
                          0.2186991013
                        ],
                        "passed_time": 13.78621625,
                        "iteration": 270,
                        "remaining_time": 11.64960709,
                        "learn": [
                          0.9541446208,
                          0.174999674
                        ]
                      },
                      {
                        "test": [
                          0.943483871,
                          0.2187048512
                        ],
                        "passed_time": 13.83367385,
                        "iteration": 271,
                        "remaining_time": 11.59587367,
                        "learn": [
                          0.9541446208,
                          0.1749527686
                        ]
                      },
                      {
                        "test": [
                          0.9436129032,
                          0.2186888272
                        ],
                        "passed_time": 13.88053035,
                        "iteration": 272,
                        "remaining_time": 11.54168641,
                        "learn": [
                          0.9541446208,
                          0.1748750332
                        ]
                      },
                      {
                        "test": [
                          0.943483871,
                          0.2186833637
                        ],
                        "passed_time": 13.93103006,
                        "iteration": 273,
                        "remaining_time": 11.49055764,
                        "learn": [
                          0.9541016045,
                          0.1747504632
                        ]
                      },
                      {
                        "test": [
                          0.943483871,
                          0.2186558771
                        ],
                        "passed_time": 13.98152642,
                        "iteration": 274,
                        "remaining_time": 11.43943071,
                        "learn": [
                          0.9541446208,
                          0.1746575916
                        ]
                      },
                      {
                        "test": [
                          0.943483871,
                          0.2186312628
                        ],
                        "passed_time": 14.05075083,
                        "iteration": 275,
                        "remaining_time": 11.40350792,
                        "learn": [
                          0.9542306534,
                          0.1745706247
                        ]
                      },
                      {
                        "test": [
                          0.9436129032,
                          0.2186360676
                        ],
                        "passed_time": 14.11201466,
                        "iteration": 276,
                        "remaining_time": 11.36093599,
                        "learn": [
                          0.9541876371,
                          0.1744700979
                        ]
                      },
                      {
                        "test": [
                          0.9436129032,
                          0.2186471422
                        ],
                        "passed_time": 14.15912942,
                        "iteration": 277,
                        "remaining_time": 11.30693068,
                        "learn": [
                          0.9541876371,
                          0.1744095759
                        ]
                      },
                      {
                        "test": [
                          0.943483871,
                          0.2186091301
                        ],
                        "passed_time": 14.22075525,
                        "iteration": 278,
                        "remaining_time": 11.26446921,
                        "learn": [
                          0.9542306534,
                          0.1743103341
                        ]
                      },
                      {
                        "test": [
                          0.943483871,
                          0.218633078
                        ],
                        "passed_time": 14.26762173,
                        "iteration": 279,
                        "remaining_time": 11.21027422,
                        "learn": [
                          0.9541446208,
                          0.1742575715
                        ]
                      },
                      {
                        "test": [
                          0.943483871,
                          0.2186957501
                        ],
                        "passed_time": 14.31899954,
                        "iteration": 280,
                        "remaining_time": 11.15964733,
                        "learn": [
                          0.9541876371,
                          0.1741164664
                        ]
                      },
                      {
                        "test": [
                          0.943483871,
                          0.2186727408
                        ],
                        "passed_time": 14.36682959,
                        "iteration": 281,
                        "remaining_time": 11.10627252,
                        "learn": [
                          0.9542306534,
                          0.1740524251
                        ]
                      },
                      {
                        "test": [
                          0.943483871,
                          0.2186896415
                        ],
                        "passed_time": 14.41493423,
                        "iteration": 282,
                        "remaining_time": 11.05314745,
                        "learn": [
                          0.9542736697,
                          0.173930663
                        ]
                      },
                      {
                        "test": [
                          0.943483871,
                          0.2187486733
                        ],
                        "passed_time": 14.46862574,
                        "iteration": 283,
                        "remaining_time": 11.0043069,
                        "learn": [
                          0.9542306534,
                          0.1737870492
                        ]
                      },
                      {
                        "test": [
                          0.943483871,
                          0.2187497921
                        ],
                        "passed_time": 14.51689545,
                        "iteration": 284,
                        "remaining_time": 10.95134218,
                        "learn": [
                          0.9542306534,
                          0.1736783495
                        ]
                      },
                      {
                        "test": [
                          0.943483871,
                          0.2187339912
                        ],
                        "passed_time": 14.56515295,
                        "iteration": 285,
                        "remaining_time": 10.89840116,
                        "learn": [
                          0.954316686,
                          0.1735972379
                        ]
                      },
                      {
                        "test": [
                          0.943483871,
                          0.2187164334
                        ],
                        "passed_time": 14.61394369,
                        "iteration": 286,
                        "remaining_time": 10.84588852,
                        "learn": [
                          0.954316686,
                          0.1734980203
                        ]
                      },
                      {
                        "test": [
                          0.9436129032,
                          0.2187239031
                        ],
                        "passed_time": 14.66227259,
                        "iteration": 287,
                        "remaining_time": 10.79306177,
                        "learn": [
                          0.9544027186,
                          0.1734192896
                        ]
                      },
                      {
                        "test": [
                          0.9436129032,
                          0.2187504132
                        ],
                        "passed_time": 14.71118041,
                        "iteration": 288,
                        "remaining_time": 10.74068881,
                        "learn": [
                          0.9543597023,
                          0.1733201312
                        ]
                      },
                      {
                        "test": [
                          0.9436129032,
                          0.2187371004
                        ],
                        "passed_time": 14.76329846,
                        "iteration": 289,
                        "remaining_time": 10.69066441,
                        "learn": [
                          0.9543597023,
                          0.1732458894
                        ]
                      },
                      {
                        "test": [
                          0.9436129032,
                          0.2187235434
                        ],
                        "passed_time": 14.81556147,
                        "iteration": 290,
                        "remaining_time": 10.64072971,
                        "learn": [
                          0.9543597023,
                          0.1731705107
                        ]
                      },
                      {
                        "test": [
                          0.9433548387,
                          0.218738651
                        ],
                        "passed_time": 14.86362891,
                        "iteration": 291,
                        "remaining_time": 10.58779045,
                        "learn": [
                          0.9544027186,
                          0.1730784723
                        ]
                      },
                      {
                        "test": [
                          0.9433548387,
                          0.2187362174
                        ],
                        "passed_time": 14.91284569,
                        "iteration": 292,
                        "remaining_time": 10.53569644,
                        "learn": [
                          0.9544027186,
                          0.1729773411
                        ]
                      },
                      {
                        "test": [
                          0.9432258065,
                          0.2187912224
                        ],
                        "passed_time": 14.95993108,
                        "iteration": 293,
                        "remaining_time": 10.48212858,
                        "learn": [
                          0.9544457349,
                          0.1728767611
                        ]
                      },
                      {
                        "test": [
                          0.9432258065,
                          0.2188530358
                        ],
                        "passed_time": 15.00858165,
                        "iteration": 294,
                        "remaining_time": 10.42969234,
                        "learn": [
                          0.9544887512,
                          0.172755437
                        ]
                      },
                      {
                        "test": [
                          0.9432258065,
                          0.2188780951
                        ],
                        "passed_time": 15.08130778,
                        "iteration": 295,
                        "remaining_time": 10.39387428,
                        "learn": [
                          0.9544887512,
                          0.172623663
                        ]
                      },
                      {
                        "test": [
                          0.9432258065,
                          0.2188990195
                        ],
                        "passed_time": 15.13865948,
                        "iteration": 296,
                        "remaining_time": 10.34729924,
                        "learn": [
                          0.9544457349,
                          0.1725514908
                        ]
                      },
                      {
                        "test": [
                          0.9433548387,
                          0.2189146213
                        ],
                        "passed_time": 15.18934036,
                        "iteration": 297,
                        "remaining_time": 10.29613004,
                        "learn": [
                          0.9544887512,
                          0.1723431319
                        ]
                      },
                      {
                        "test": [
                          0.9433548387,
                          0.2189225926
                        ],
                        "passed_time": 15.24978442,
                        "iteration": 298,
                        "remaining_time": 10.25152732,
                        "learn": [
                          0.9544027186,
                          0.1722869702
                        ]
                      },
                      {
                        "test": [
                          0.9433548387,
                          0.2189565886
                        ],
                        "passed_time": 15.2954864,
                        "iteration": 299,
                        "remaining_time": 10.19699093,
                        "learn": [
                          0.9544027186,
                          0.17222885
                        ]
                      },
                      {
                        "test": [
                          0.943483871,
                          0.2190247029
                        ],
                        "passed_time": 15.34373029,
                        "iteration": 300,
                        "remaining_time": 10.14419378,
                        "learn": [
                          0.9543597023,
                          0.1721316506
                        ]
                      },
                      {
                        "test": [
                          0.9433548387,
                          0.2190090775
                        ],
                        "passed_time": 15.39254048,
                        "iteration": 301,
                        "remaining_time": 10.09179806,
                        "learn": [
                          0.954316686,
                          0.1720302239
                        ]
                      },
                      {
                        "test": [
                          0.943483871,
                          0.2189867837
                        ],
                        "passed_time": 15.44367529,
                        "iteration": 302,
                        "remaining_time": 10.0409374,
                        "learn": [
                          0.9543597023,
                          0.1718986467
                        ]
                      },
                      {
                        "test": [
                          0.943483871,
                          0.2189796528
                        ],
                        "passed_time": 15.49093559,
                        "iteration": 303,
                        "remaining_time": 9.987576897,
                        "learn": [
                          0.9543597023,
                          0.1718385949
                        ]
                      },
                      {
                        "test": [
                          0.943483871,
                          0.2190554015
                        ],
                        "passed_time": 15.53817154,
                        "iteration": 304,
                        "remaining_time": 9.934240819,
                        "learn": [
                          0.9544887512,
                          0.1717459478
                        ]
                      },
                      {
                        "test": [
                          0.9433548387,
                          0.2190653952
                        ],
                        "passed_time": 15.58526477,
                        "iteration": 305,
                        "remaining_time": 9.880854132,
                        "learn": [
                          0.9544887512,
                          0.17165166
                        ]
                      },
                      {
                        "test": [
                          0.943483871,
                          0.219074032
                        ],
                        "passed_time": 15.63146546,
                        "iteration": 306,
                        "remaining_time": 9.82694734,
                        "learn": [
                          0.9545747838,
                          0.1715573397
                        ]
                      },
                      {
                        "test": [
                          0.943483871,
                          0.2190385171
                        ],
                        "passed_time": 15.67783635,
                        "iteration": 307,
                        "remaining_time": 9.773196685,
                        "learn": [
                          0.9545747838,
                          0.1714394284
                        ]
                      },
                      {
                        "test": [
                          0.943483871,
                          0.2190435838
                        ],
                        "passed_time": 15.7235784,
                        "iteration": 308,
                        "remaining_time": 9.719105096,
                        "learn": [
                          0.9547038328,
                          0.17134609
                        ]
                      },
                      {
                        "test": [
                          0.9432258065,
                          0.2190342161
                        ],
                        "passed_time": 15.77111601,
                        "iteration": 309,
                        "remaining_time": 9.666167874,
                        "learn": [
                          0.9547038328,
                          0.1712231296
                        ]
                      },
                      {
                        "test": [
                          0.9432258065,
                          0.2190374679
                        ],
                        "passed_time": 15.81903472,
                        "iteration": 310,
                        "remaining_time": 9.613496987,
                        "learn": [
                          0.9547898654,
                          0.1711308795
                        ]
                      },
                      {
                        "test": [
                          0.9432258065,
                          0.2190272591
                        ],
                        "passed_time": 15.86904551,
                        "iteration": 311,
                        "remaining_time": 9.562117167,
                        "learn": [
                          0.9548328817,
                          0.1710337397
                        ]
                      },
                      {
                        "test": [
                          0.9433548387,
                          0.2190649613
                        ],
                        "passed_time": 15.91800212,
                        "iteration": 312,
                        "remaining_time": 9.510116283,
                        "learn": [
                          0.9548328817,
                          0.170947262
                        ]
                      },
                      {
                        "test": [
                          0.9433548387,
                          0.2190801707
                        ],
                        "passed_time": 15.96950769,
                        "iteration": 313,
                        "remaining_time": 9.459644685,
                        "learn": [
                          0.954875898,
                          0.1707876787
                        ]
                      },
                      {
                        "test": [
                          0.9432258065,
                          0.2190788943
                        ],
                        "passed_time": 16.02046558,
                        "iteration": 314,
                        "remaining_time": 9.408844865,
                        "learn": [
                          0.9547898654,
                          0.1707028388
                        ]
                      },
                      {
                        "test": [
                          0.9433548387,
                          0.2190746853
                        ],
                        "passed_time": 16.06848522,
                        "iteration": 315,
                        "remaining_time": 9.356333168,
                        "learn": [
                          0.9548328817,
                          0.1705901788
                        ]
                      },
                      {
                        "test": [
                          0.9433548387,
                          0.2191280373
                        ],
                        "passed_time": 16.14971375,
                        "iteration": 316,
                        "remaining_time": 9.323020873,
                        "learn": [
                          0.954875898,
                          0.1704714775
                        ]
                      },
                      {
                        "test": [
                          0.9433548387,
                          0.2191432353
                        ],
                        "passed_time": 16.20598027,
                        "iteration": 317,
                        "remaining_time": 9.275120782,
                        "learn": [
                          0.9549189143,
                          0.1703856606
                        ]
                      },
                      {
                        "test": [
                          0.943483871,
                          0.2192045147
                        ],
                        "passed_time": 16.26740795,
                        "iteration": 318,
                        "remaining_time": 9.230096675,
                        "learn": [
                          0.9549189143,
                          0.1702151907
                        ]
                      },
                      {
                        "test": [
                          0.9436129032,
                          0.2191604756
                        ],
                        "passed_time": 16.31730939,
                        "iteration": 319,
                        "remaining_time": 9.178486532,
                        "learn": [
                          0.9549189143,
                          0.1700930292
                        ]
                      },
                      {
                        "test": [
                          0.9437419355,
                          0.2191771613
                        ],
                        "passed_time": 16.36615024,
                        "iteration": 320,
                        "remaining_time": 9.126295618,
                        "learn": [
                          0.954875898,
                          0.1700185416
                        ]
                      },
                      {
                        "test": [
                          0.9437419355,
                          0.2191880094
                        ],
                        "passed_time": 16.41397832,
                        "iteration": 321,
                        "remaining_time": 9.073565656,
                        "learn": [
                          0.9549189143,
                          0.1699452272
                        ]
                      },
                      {
                        "test": [
                          0.9438709677,
                          0.2192196012
                        ],
                        "passed_time": 16.46067184,
                        "iteration": 322,
                        "remaining_time": 9.02024432,
                        "learn": [
                          0.9549189143,
                          0.1698755353
                        ]
                      },
                      {
                        "test": [
                          0.9438709677,
                          0.2191854224
                        ],
                        "passed_time": 16.50582439,
                        "iteration": 323,
                        "remaining_time": 8.966126831,
                        "learn": [
                          0.9549189143,
                          0.1698390057
                        ]
                      },
                      {
                        "test": [
                          0.9437419355,
                          0.2191586564
                        ],
                        "passed_time": 16.55108439,
                        "iteration": 324,
                        "remaining_time": 8.912122364,
                        "learn": [
                          0.9549189143,
                          0.1697958022
                        ]
                      },
                      {
                        "test": [
                          0.9437419355,
                          0.2191651499
                        ],
                        "passed_time": 16.59654319,
                        "iteration": 325,
                        "remaining_time": 8.858277654,
                        "learn": [
                          0.9549189143,
                          0.1697300997
                        ]
                      },
                      {
                        "test": [
                          0.9436129032,
                          0.2191475149
                        ],
                        "passed_time": 16.64456625,
                        "iteration": 326,
                        "remaining_time": 8.805840861,
                        "learn": [
                          0.9549189143,
                          0.1696607365
                        ]
                      },
                      {
                        "test": [
                          0.9436129032,
                          0.2191244078
                        ],
                        "passed_time": 16.69206635,
                        "iteration": 327,
                        "remaining_time": 8.753156744,
                        "learn": [
                          0.9550049469,
                          0.1695945988
                        ]
                      },
                      {
                        "test": [
                          0.9436129032,
                          0.219229714
                        ],
                        "passed_time": 16.74048297,
                        "iteration": 328,
                        "remaining_time": 8.70098051,
                        "learn": [
                          0.9550049469,
                          0.1694620242
                        ]
                      },
                      {
                        "test": [
                          0.9436129032,
                          0.2192646258
                        ],
                        "passed_time": 16.78848542,
                        "iteration": 329,
                        "remaining_time": 8.648613699,
                        "learn": [
                          0.9550049469,
                          0.1693962572
                        ]
                      },
                      {
                        "test": [
                          0.9437419355,
                          0.2192684676
                        ],
                        "passed_time": 16.83618875,
                        "iteration": 330,
                        "remaining_time": 8.596120542,
                        "learn": [
                          0.9550049469,
                          0.1692942822
                        ]
                      },
                      {
                        "test": [
                          0.9436129032,
                          0.2192929172
                        ],
                        "passed_time": 16.88280847,
                        "iteration": 331,
                        "remaining_time": 8.543107902,
                        "learn": [
                          0.9550479632,
                          0.1692367761
                        ]
                      },
                      {
                        "test": [
                          0.9436129032,
                          0.2192562859
                        ],
                        "passed_time": 16.92950153,
                        "iteration": 332,
                        "remaining_time": 8.490170438,
                        "learn": [
                          0.9550479632,
                          0.1691730499
                        ]
                      },
                      {
                        "test": [
                          0.9436129032,
                          0.2192923692
                        ],
                        "passed_time": 16.97741933,
                        "iteration": 333,
                        "remaining_time": 8.43787907,
                        "learn": [
                          0.9549619306,
                          0.1690866092
                        ]
                      },
                      {
                        "test": [
                          0.9436129032,
                          0.2192446225
                        ],
                        "passed_time": 17.02781577,
                        "iteration": 334,
                        "remaining_time": 8.386834633,
                        "learn": [
                          0.9549619306,
                          0.168996731
                        ]
                      },
                      {
                        "test": [
                          0.9436129032,
                          0.2192687707
                        ],
                        "passed_time": 17.07619229,
                        "iteration": 335,
                        "remaining_time": 8.334808142,
                        "learn": [
                          0.9549619306,
                          0.1689590678
                        ]
                      },
                      {
                        "test": [
                          0.9436129032,
                          0.2192493029
                        ],
                        "passed_time": 17.15971238,
                        "iteration": 336,
                        "remaining_time": 8.299801537,
                        "learn": [
                          0.9550049469,
                          0.1688898954
                        ]
                      },
                      {
                        "test": [
                          0.9437419355,
                          0.2192414083
                        ],
                        "passed_time": 17.21069162,
                        "iteration": 337,
                        "remaining_time": 8.24891137,
                        "learn": [
                          0.9551339958,
                          0.1688230015
                        ]
                      },
                      {
                        "test": [
                          0.943483871,
                          0.2191856346
                        ],
                        "passed_time": 17.2654822,
                        "iteration": 338,
                        "remaining_time": 8.199830778,
                        "learn": [
                          0.9551339958,
                          0.168727674
                        ]
                      },
                      {
                        "test": [
                          0.943483871,
                          0.2191711961
                        ],
                        "passed_time": 17.32012139,
                        "iteration": 339,
                        "remaining_time": 8.150645359,
                        "learn": [
                          0.9551770121,
                          0.1686628582
                        ]
                      },
                      {
                        "test": [
                          0.943483871,
                          0.2191665024
                        ],
                        "passed_time": 17.36541013,
                        "iteration": 340,
                        "remaining_time": 8.097068064,
                        "learn": [
                          0.9551339958,
                          0.1685831882
                        ]
                      },
                      {
                        "test": [
                          0.943483871,
                          0.2191906325
                        ],
                        "passed_time": 17.40939614,
                        "iteration": 341,
                        "remaining_time": 8.042937398,
                        "learn": [
                          0.9551770121,
                          0.1685147144
                        ]
                      },
                      {
                        "test": [
                          0.943483871,
                          0.2191951947
                        ],
                        "passed_time": 17.4588543,
                        "iteration": 342,
                        "remaining_time": 7.991370629,
                        "learn": [
                          0.9552200284,
                          0.1684294454
                        ]
                      },
                      {
                        "test": [
                          0.9433548387,
                          0.2191426636
                        ],
                        "passed_time": 17.50938266,
                        "iteration": 343,
                        "remaining_time": 7.940301437,
                        "learn": [
                          0.9552630447,
                          0.1683148639
                        ]
                      },
                      {
                        "test": [
                          0.9433548387,
                          0.2191735602
                        ],
                        "passed_time": 17.55537135,
                        "iteration": 344,
                        "remaining_time": 7.887195822,
                        "learn": [
                          0.9552630447,
                          0.1681877012
                        ]
                      },
                      {
                        "test": [
                          0.9433548387,
                          0.2191921333
                        ],
                        "passed_time": 17.60181583,
                        "iteration": 345,
                        "remaining_time": 7.834334212,
                        "learn": [
                          0.9553490773,
                          0.168135601
                        ]
                      },
                      {
                        "test": [
                          0.9433548387,
                          0.219225828
                        ],
                        "passed_time": 17.64891941,
                        "iteration": 346,
                        "remaining_time": 7.781800203,
                        "learn": [
                          0.9553490773,
                          0.1680921926
                        ]
                      },
                      {
                        "test": [
                          0.9433548387,
                          0.2192520555
                        ],
                        "passed_time": 17.69509021,
                        "iteration": 347,
                        "remaining_time": 7.728889977,
                        "learn": [
                          0.9553490773,
                          0.1680311939
                        ]
                      },
                      {
                        "test": [
                          0.9433548387,
                          0.2191918983
                        ],
                        "passed_time": 17.74768027,
                        "iteration": 348,
                        "remaining_time": 7.678795762,
                        "learn": [
                          0.955306061,
                          0.1679162135
                        ]
                      },
                      {
                        "test": [
                          0.9433548387,
                          0.2192050586
                        ],
                        "passed_time": 17.7947768,
                        "iteration": 349,
                        "remaining_time": 7.626332915,
                        "learn": [
                          0.9554781262,
                          0.1678169794
                        ]
                      },
                      {
                        "test": [
                          0.9433548387,
                          0.2192068028
                        ],
                        "passed_time": 17.8410916,
                        "iteration": 350,
                        "remaining_time": 7.573568798,
                        "learn": [
                          0.9554781262,
                          0.1677781908
                        ]
                      },
                      {
                        "test": [
                          0.9433548387,
                          0.2192003649
                        ],
                        "passed_time": 17.88973104,
                        "iteration": 351,
                        "remaining_time": 7.521818734,
                        "learn": [
                          0.9554781262,
                          0.1676800049
                        ]
                      },
                      {
                        "test": [
                          0.9436129032,
                          0.2191994198
                        ],
                        "passed_time": 17.93901865,
                        "iteration": 352,
                        "remaining_time": 7.47035621,
                        "learn": [
                          0.9554351099,
                          0.1675825218
                        ]
                      },
                      {
                        "test": [
                          0.943483871,
                          0.2192087448
                        ],
                        "passed_time": 17.99112619,
                        "iteration": 353,
                        "remaining_time": 7.420068992,
                        "learn": [
                          0.9554781262,
                          0.1674350978
                        ]
                      },
                      {
                        "test": [
                          0.943483871,
                          0.2192159585
                        ],
                        "passed_time": 18.03952908,
                        "iteration": 354,
                        "remaining_time": 7.368258356,
                        "learn": [
                          0.9554781262,
                          0.1673261567
                        ]
                      },
                      {
                        "test": [
                          0.9433548387,
                          0.2191712525
                        ],
                        "passed_time": 18.08837683,
                        "iteration": 355,
                        "remaining_time": 7.316646806,
                        "learn": [
                          0.9555211425,
                          0.1672344553
                        ]
                      },
                      {
                        "test": [
                          0.9433548387,
                          0.2191877885
                        ],
                        "passed_time": 18.13622487,
                        "iteration": 356,
                        "remaining_time": 7.264650297,
                        "learn": [
                          0.9555211425,
                          0.167151119
                        ]
                      },
                      {
                        "test": [
                          0.9433548387,
                          0.2191628756
                        ],
                        "passed_time": 18.22046526,
                        "iteration": 357,
                        "remaining_time": 7.22711192,
                        "learn": [
                          0.9555641588,
                          0.1670710068
                        ]
                      },
                      {
                        "test": [
                          0.9432258065,
                          0.2191831166
                        ],
                        "passed_time": 18.27357676,
                        "iteration": 358,
                        "remaining_time": 7.177087251,
                        "learn": [
                          0.9555641588,
                          0.1669915731
                        ]
                      },
                      {
                        "test": [
                          0.9432258065,
                          0.2191745018
                        ],
                        "passed_time": 18.3309401,
                        "iteration": 359,
                        "remaining_time": 7.128698926,
                        "learn": [
                          0.9555641588,
                          0.166949235
                        ]
                      },
                      {
                        "test": [
                          0.9432258065,
                          0.2191757179
                        ],
                        "passed_time": 18.3820226,
                        "iteration": 360,
                        "remaining_time": 7.077842498,
                        "learn": [
                          0.9556071751,
                          0.1668131676
                        ]
                      },
                      {
                        "test": [
                          0.9432258065,
                          0.2192394716
                        ],
                        "passed_time": 18.4346111,
                        "iteration": 361,
                        "remaining_time": 7.027558927,
                        "learn": [
                          0.9556071751,
                          0.1667151469
                        ]
                      },
                      {
                        "test": [
                          0.9432258065,
                          0.2192985157
                        ],
                        "passed_time": 18.48427506,
                        "iteration": 362,
                        "remaining_time": 6.976158906,
                        "learn": [
                          0.9556501914,
                          0.1666616337
                        ]
                      },
                      {
                        "test": [
                          0.9432258065,
                          0.2192866337
                        ],
                        "passed_time": 18.52996012,
                        "iteration": 363,
                        "remaining_time": 6.923281802,
                        "learn": [
                          0.9556501914,
                          0.1666315569
                        ]
                      },
                      {
                        "test": [
                          0.9432258065,
                          0.2193206949
                        ],
                        "passed_time": 18.57855478,
                        "iteration": 364,
                        "remaining_time": 6.871520263,
                        "learn": [
                          0.9556932077,
                          0.1665557696
                        ]
                      },
                      {
                        "test": [
                          0.9432258065,
                          0.2193160617
                        ],
                        "passed_time": 18.62607909,
                        "iteration": 365,
                        "remaining_time": 6.819384148,
                        "learn": [
                          0.9556932077,
                          0.1664675369
                        ]
                      },
                      {
                        "test": [
                          0.9430967742,
                          0.2193356453
                        ],
                        "passed_time": 18.6748249,
                        "iteration": 366,
                        "remaining_time": 6.767715837,
                        "learn": [
                          0.9556071751,
                          0.1662969777
                        ]
                      },
                      {
                        "test": [
                          0.9429677419,
                          0.2193585766
                        ],
                        "passed_time": 18.72165278,
                        "iteration": 367,
                        "remaining_time": 6.715375454,
                        "learn": [
                          0.9555641588,
                          0.1661881501
                        ]
                      },
                      {
                        "test": [
                          0.9428387097,
                          0.2193846746
                        ],
                        "passed_time": 18.76925843,
                        "iteration": 368,
                        "remaining_time": 6.663341068,
                        "learn": [
                          0.9555641588,
                          0.1661295548
                        ]
                      },
                      {
                        "test": [
                          0.9428387097,
                          0.2193750049
                        ],
                        "passed_time": 18.81733208,
                        "iteration": 369,
                        "remaining_time": 6.611495054,
                        "learn": [
                          0.9554781262,
                          0.1660718567
                        ]
                      },
                      {
                        "test": [
                          0.9428387097,
                          0.2193319899
                        ],
                        "passed_time": 18.86500735,
                        "iteration": 370,
                        "remaining_time": 6.559530858,
                        "learn": [
                          0.9555641588,
                          0.1659772696
                        ]
                      },
                      {
                        "test": [
                          0.9429677419,
                          0.2192894432
                        ],
                        "passed_time": 18.91147577,
                        "iteration": 371,
                        "remaining_time": 6.507174457,
                        "learn": [
                          0.9556932077,
                          0.1659254705
                        ]
                      },
                      {
                        "test": [
                          0.9429677419,
                          0.2192719176
                        ],
                        "passed_time": 18.95977829,
                        "iteration": 372,
                        "remaining_time": 6.455474109,
                        "learn": [
                          0.9556932077,
                          0.1658916247
                        ]
                      },
                      {
                        "test": [
                          0.9429677419,
                          0.2192388925
                        ],
                        "passed_time": 19.00946191,
                        "iteration": 373,
                        "remaining_time": 6.404257222,
                        "learn": [
                          0.9556932077,
                          0.1657834843
                        ]
                      },
                      {
                        "test": [
                          0.9428387097,
                          0.2191799033
                        ],
                        "passed_time": 19.05590578,
                        "iteration": 374,
                        "remaining_time": 6.351968593,
                        "learn": [
                          0.9555641588,
                          0.1656811113
                        ]
                      },
                      {
                        "test": [
                          0.9428387097,
                          0.219175881
                        ],
                        "passed_time": 19.12158613,
                        "iteration": 375,
                        "remaining_time": 6.306055002,
                        "learn": [
                          0.9556501914,
                          0.1655994715
                        ]
                      },
                      {
                        "test": [
                          0.9428387097,
                          0.219167339
                        ],
                        "passed_time": 19.17122833,
                        "iteration": 376,
                        "remaining_time": 6.254803936,
                        "learn": [
                          0.9556932077,
                          0.1655154061
                        ]
                      },
                      {
                        "test": [
                          0.9428387097,
                          0.219174257
                        ],
                        "passed_time": 19.25687236,
                        "iteration": 377,
                        "remaining_time": 6.215181026,
                        "learn": [
                          0.955736224,
                          0.1654671983
                        ]
                      },
                      {
                        "test": [
                          0.9429677419,
                          0.2191937071
                        ],
                        "passed_time": 19.31273782,
                        "iteration": 378,
                        "remaining_time": 6.165808117,
                        "learn": [
                          0.9557792403,
                          0.1653870411
                        ]
                      },
                      {
                        "test": [
                          0.9429677419,
                          0.2192247121
                        ],
                        "passed_time": 19.36176505,
                        "iteration": 379,
                        "remaining_time": 6.114241594,
                        "learn": [
                          0.9557792403,
                          0.1653079124
                        ]
                      },
                      {
                        "test": [
                          0.9429677419,
                          0.2192099064
                        ],
                        "passed_time": 19.41170146,
                        "iteration": 380,
                        "remaining_time": 6.062972372,
                        "learn": [
                          0.9558222566,
                          0.1651987568
                        ]
                      },
                      {
                        "test": [
                          0.9432258065,
                          0.2192482403
                        ],
                        "passed_time": 19.45922303,
                        "iteration": 381,
                        "remaining_time": 6.010964181,
                        "learn": [
                          0.9559513055,
                          0.1650777441
                        ]
                      },
                      {
                        "test": [
                          0.9432258065,
                          0.2193079297
                        ],
                        "passed_time": 19.51366377,
                        "iteration": 382,
                        "remaining_time": 5.961093109,
                        "learn": [
                          0.9557792403,
                          0.1648371418
                        ]
                      },
                      {
                        "test": [
                          0.9432258065,
                          0.2192750857
                        ],
                        "passed_time": 19.55976104,
                        "iteration": 383,
                        "remaining_time": 5.908677814,
                        "learn": [
                          0.9558222566,
                          0.1647455928
                        ]
                      },
                      {
                        "test": [
                          0.9432258065,
                          0.2192718666
                        ],
                        "passed_time": 19.61035536,
                        "iteration": 384,
                        "remaining_time": 5.857638615,
                        "learn": [
                          0.9557792403,
                          0.1646991262
                        ]
                      },
                      {
                        "test": [
                          0.943483871,
                          0.2192703454
                        ],
                        "passed_time": 19.65758759,
                        "iteration": 385,
                        "remaining_time": 5.80560877,
                        "learn": [
                          0.9558652729,
                          0.1646214991
                        ]
                      },
                      {
                        "test": [
                          0.9432258065,
                          0.2192337747
                        ],
                        "passed_time": 19.70685715,
                        "iteration": 386,
                        "remaining_time": 5.7541986,
                        "learn": [
                          0.9557792403,
                          0.1645544842
                        ]
                      },
                      {
                        "test": [
                          0.9432258065,
                          0.2192608472
                        ],
                        "passed_time": 19.7575984,
                        "iteration": 387,
                        "remaining_time": 5.703224279,
                        "learn": [
                          0.9558652729,
                          0.1644367155
                        ]
                      },
                      {
                        "test": [
                          0.9432258065,
                          0.2192594382
                        ],
                        "passed_time": 19.80672299,
                        "iteration": 388,
                        "remaining_time": 5.65178985,
                        "learn": [
                          0.9558222566,
                          0.1643621889
                        ]
                      },
                      {
                        "test": [
                          0.9432258065,
                          0.2193149875
                        ],
                        "passed_time": 19.85564395,
                        "iteration": 389,
                        "remaining_time": 5.600309832,
                        "learn": [
                          0.9558222566,
                          0.1642717188
                        ]
                      },
                      {
                        "test": [
                          0.9433548387,
                          0.2193212479
                        ],
                        "passed_time": 19.90387693,
                        "iteration": 390,
                        "remaining_time": 5.548651113,
                        "learn": [
                          0.9558222566,
                          0.1642185735
                        ]
                      },
                      {
                        "test": [
                          0.9433548387,
                          0.2193607439
                        ],
                        "passed_time": 19.95077653,
                        "iteration": 391,
                        "remaining_time": 5.496642512,
                        "learn": [
                          0.9558222566,
                          0.1641707176
                        ]
                      },
                      {
                        "test": [
                          0.9433548387,
                          0.2193515504
                        ],
                        "passed_time": 19.9972777,
                        "iteration": 392,
                        "remaining_time": 5.444551435,
                        "learn": [
                          0.9559082892,
                          0.1640620202
                        ]
                      },
                      {
                        "test": [
                          0.9433548387,
                          0.2193627835
                        ],
                        "passed_time": 20.04391935,
                        "iteration": 393,
                        "remaining_time": 5.392526525,
                        "learn": [
                          0.9558652729,
                          0.1640083729
                        ]
                      },
                      {
                        "test": [
                          0.9433548387,
                          0.2193402887
                        ],
                        "passed_time": 20.09417804,
                        "iteration": 394,
                        "remaining_time": 5.341490365,
                        "learn": [
                          0.9559082892,
                          0.1639049706
                        ]
                      },
                      {
                        "test": [
                          0.9433548387,
                          0.219316716
                        ],
                        "passed_time": 20.14233491,
                        "iteration": 395,
                        "remaining_time": 5.289906138,
                        "learn": [
                          0.9559513055,
                          0.1638620544
                        ]
                      },
                      {
                        "test": [
                          0.943483871,
                          0.2193247123
                        ],
                        "passed_time": 20.19321456,
                        "iteration": 396,
                        "remaining_time": 5.239045592,
                        "learn": [
                          0.9559943218,
                          0.1637586751
                        ]
                      },
                      {
                        "test": [
                          0.943483871,
                          0.2193451464
                        ],
                        "passed_time": 20.28171085,
                        "iteration": 397,
                        "remaining_time": 5.197825394,
                        "learn": [
                          0.9560803545,
                          0.1636766082
                        ]
                      },
                      {
                        "test": [
                          0.9436129032,
                          0.2193081058
                        ],
                        "passed_time": 20.34083506,
                        "iteration": 398,
                        "remaining_time": 5.148933185,
                        "learn": [
                          0.9561233708,
                          0.1635984883
                        ]
                      },
                      {
                        "test": [
                          0.9436129032,
                          0.2193031018
                        ],
                        "passed_time": 20.38777857,
                        "iteration": 399,
                        "remaining_time": 5.096944642,
                        "learn": [
                          0.9560803545,
                          0.1635223647
                        ]
                      },
                      {
                        "test": [
                          0.9433548387,
                          0.2193085116
                        ],
                        "passed_time": 20.43295373,
                        "iteration": 400,
                        "remaining_time": 5.044544686,
                        "learn": [
                          0.9560373382,
                          0.1634543079
                        ]
                      },
                      {
                        "test": [
                          0.943483871,
                          0.2193172109
                        ],
                        "passed_time": 20.47995149,
                        "iteration": 401,
                        "remaining_time": 4.992624989,
                        "learn": [
                          0.9560373382,
                          0.163394589
                        ]
                      },
                      {
                        "test": [
                          0.943483871,
                          0.2193114488
                        ],
                        "passed_time": 20.5301144,
                        "iteration": 402,
                        "remaining_time": 4.941491555,
                        "learn": [
                          0.9559943218,
                          0.1632901435
                        ]
                      },
                      {
                        "test": [
                          0.9436129032,
                          0.2193502749
                        ],
                        "passed_time": 20.57861097,
                        "iteration": 403,
                        "remaining_time": 4.889966963,
                        "learn": [
                          0.9560373382,
                          0.1632206802
                        ]
                      },
                      {
                        "test": [
                          0.9436129032,
                          0.2193351896
                        ],
                        "passed_time": 20.62568076,
                        "iteration": 404,
                        "remaining_time": 4.838122647,
                        "learn": [
                          0.9559943218,
                          0.1631578466
                        ]
                      },
                      {
                        "test": [
                          0.9436129032,
                          0.2193678626
                        ],
                        "passed_time": 20.67067337,
                        "iteration": 405,
                        "remaining_time": 4.785820927,
                        "learn": [
                          0.9559943218,
                          0.1631112907
                        ]
                      },
                      {
                        "test": [
                          0.9436129032,
                          0.2193434308
                        ],
                        "passed_time": 20.72080522,
                        "iteration": 406,
                        "remaining_time": 4.734729447,
                        "learn": [
                          0.9561233708,
                          0.162958012
                        ]
                      },
                      {
                        "test": [
                          0.9436129032,
                          0.2193885211
                        ],
                        "passed_time": 20.77081195,
                        "iteration": 407,
                        "remaining_time": 4.68361446,
                        "learn": [
                          0.9561233708,
                          0.1628361114
                        ]
                      },
                      {
                        "test": [
                          0.9436129032,
                          0.2193251113
                        ],
                        "passed_time": 20.82221647,
                        "iteration": 408,
                        "remaining_time": 4.63281589,
                        "learn": [
                          0.9561663871,
                          0.1627237439
                        ]
                      },
                      {
                        "test": [
                          0.9436129032,
                          0.219291681
                        ],
                        "passed_time": 20.86911309,
                        "iteration": 409,
                        "remaining_time": 4.581024826,
                        "learn": [
                          0.956295436,
                          0.1626528116
                        ]
                      },
                      {
                        "test": [
                          0.9436129032,
                          0.2193276922
                        ],
                        "passed_time": 20.92140831,
                        "iteration": 410,
                        "remaining_time": 4.530426617,
                        "learn": [
                          0.956295436,
                          0.1625929151
                        ]
                      },
                      {
                        "test": [
                          0.9436129032,
                          0.219333773
                        ],
                        "passed_time": 20.96798101,
                        "iteration": 411,
                        "remaining_time": 4.478597886,
                        "learn": [
                          0.9563384523,
                          0.1625262158
                        ]
                      },
                      {
                        "test": [
                          0.9436129032,
                          0.2193657112
                        ],
                        "passed_time": 21.01782422,
                        "iteration": 412,
                        "remaining_time": 4.427483553,
                        "learn": [
                          0.9563814686,
                          0.1624000505
                        ]
                      },
                      {
                        "test": [
                          0.9436129032,
                          0.2193604179
                        ],
                        "passed_time": 21.06566747,
                        "iteration": 413,
                        "remaining_time": 4.375959909,
                        "learn": [
                          0.9564244849,
                          0.1623414255
                        ]
                      },
                      {
                        "test": [
                          0.9436129032,
                          0.2193414207
                        ],
                        "passed_time": 21.11284637,
                        "iteration": 414,
                        "remaining_time": 4.324317932,
                        "learn": [
                          0.9565105175,
                          0.1622758253
                        ]
                      },
                      {
                        "test": [
                          0.9436129032,
                          0.2193451574
                        ],
                        "passed_time": 21.16600229,
                        "iteration": 415,
                        "remaining_time": 4.273904309,
                        "learn": [
                          0.9565105175,
                          0.1622485164
                        ]
                      },
                      {
                        "test": [
                          0.9436129032,
                          0.2194047279
                        ],
                        "passed_time": 21.21414451,
                        "iteration": 416,
                        "remaining_time": 4.222479603,
                        "learn": [
                          0.9565535338,
                          0.1621400776
                        ]
                      },
                      {
                        "test": [
                          0.9436129032,
                          0.2194175751
                        ],
                        "passed_time": 21.28999909,
                        "iteration": 417,
                        "remaining_time": 4.176506998,
                        "learn": [
                          0.9565105175,
                          0.1620786622
                        ]
                      },
                      {
                        "test": [
                          0.9436129032,
                          0.2194245195
                        ],
                        "passed_time": 21.36264935,
                        "iteration": 418,
                        "remaining_time": 4.129772308,
                        "learn": [
                          0.9565965501,
                          0.1620007472
                        ]
                      },
                      {
                        "test": [
                          0.9436129032,
                          0.219383008
                        ],
                        "passed_time": 21.41737794,
                        "iteration": 419,
                        "remaining_time": 4.079500559,
                        "learn": [
                          0.9566825827,
                          0.1618795154
                        ]
                      },
                      {
                        "test": [
                          0.943483871,
                          0.2194276071
                        ],
                        "passed_time": 21.46688652,
                        "iteration": 420,
                        "remaining_time": 4.028228112,
                        "learn": [
                          0.9566825827,
                          0.1617728132
                        ]
                      },
                      {
                        "test": [
                          0.943483871,
                          0.2194189022
                        ],
                        "passed_time": 21.51451979,
                        "iteration": 421,
                        "remaining_time": 3.976617402,
                        "learn": [
                          0.9566395664,
                          0.1616991317
                        ]
                      },
                      {
                        "test": [
                          0.943483871,
                          0.219410079
                        ],
                        "passed_time": 21.56984494,
                        "iteration": 422,
                        "remaining_time": 3.926425675,
                        "learn": [
                          0.9566395664,
                          0.1616246928
                        ]
                      },
                      {
                        "test": [
                          0.943483871,
                          0.2194210423
                        ],
                        "passed_time": 21.61597613,
                        "iteration": 423,
                        "remaining_time": 3.874561759,
                        "learn": [
                          0.9566825827,
                          0.1615673561
                        ]
                      },
                      {
                        "test": [
                          0.943483871,
                          0.2193649704
                        ],
                        "passed_time": 21.6650673,
                        "iteration": 424,
                        "remaining_time": 3.82324717,
                        "learn": [
                          0.9566825827,
                          0.1614964882
                        ]
                      },
                      {
                        "test": [
                          0.943483871,
                          0.2193608256
                        ],
                        "passed_time": 21.7121848,
                        "iteration": 425,
                        "remaining_time": 3.771600177,
                        "learn": [
                          0.956725599,
                          0.1614257193
                        ]
                      },
                      {
                        "test": [
                          0.9436129032,
                          0.2193637632
                        ],
                        "passed_time": 21.76368922,
                        "iteration": 426,
                        "remaining_time": 3.720724386,
                        "learn": [
                          0.9567686153,
                          0.1612950214
                        ]
                      },
                      {
                        "test": [
                          0.9436129032,
                          0.2193604234
                        ],
                        "passed_time": 21.81079318,
                        "iteration": 427,
                        "remaining_time": 3.669105394,
                        "learn": [
                          0.9567686153,
                          0.1612230506
                        ]
                      },
                      {
                        "test": [
                          0.9436129032,
                          0.2193763128
                        ],
                        "passed_time": 21.86193647,
                        "iteration": 428,
                        "remaining_time": 3.618175965,
                        "learn": [
                          0.9567686153,
                          0.1611522468
                        ]
                      },
                      {
                        "test": [
                          0.943483871,
                          0.2194434749
                        ],
                        "passed_time": 21.91076119,
                        "iteration": 429,
                        "remaining_time": 3.566868101,
                        "learn": [
                          0.9568546479,
                          0.1610649287
                        ]
                      },
                      {
                        "test": [
                          0.943483871,
                          0.2195123768
                        ],
                        "passed_time": 21.95841167,
                        "iteration": 430,
                        "remaining_time": 3.515383771,
                        "learn": [
                          0.9568546479,
                          0.1609471054
                        ]
                      },
                      {
                        "test": [
                          0.943483871,
                          0.219548994
                        ],
                        "passed_time": 22.00757901,
                        "iteration": 431,
                        "remaining_time": 3.464155956,
                        "learn": [
                          0.9568546479,
                          0.1608605011
                        ]
                      },
                      {
                        "test": [
                          0.943483871,
                          0.2195196854
                        ],
                        "passed_time": 22.05602464,
                        "iteration": 432,
                        "remaining_time": 3.412825984,
                        "learn": [
                          0.9568546479,
                          0.1608153263
                        ]
                      },
                      {
                        "test": [
                          0.943483871,
                          0.219543395
                        ],
                        "passed_time": 22.10686138,
                        "iteration": 433,
                        "remaining_time": 3.361872929,
                        "learn": [
                          0.9568546479,
                          0.1607449926
                        ]
                      },
                      {
                        "test": [
                          0.943483871,
                          0.2196003856
                        ],
                        "passed_time": 22.15977057,
                        "iteration": 434,
                        "remaining_time": 3.311230085,
                        "learn": [
                          0.9568546479,
                          0.1606176824
                        ]
                      },
                      {
                        "test": [
                          0.9433548387,
                          0.2196151358
                        ],
                        "passed_time": 22.20793218,
                        "iteration": 435,
                        "remaining_time": 3.259879953,
                        "learn": [
                          0.9568976642,
                          0.1605495898
                        ]
                      },
                      {
                        "test": [
                          0.943483871,
                          0.2196197978
                        ],
                        "passed_time": 22.25778365,
                        "iteration": 436,
                        "remaining_time": 3.208788032,
                        "learn": [
                          0.9569836968,
                          0.1604564659
                        ]
                      },
                      {
                        "test": [
                          0.943483871,
                          0.2196096347
                        ],
                        "passed_time": 22.33156392,
                        "iteration": 437,
                        "remaining_time": 3.161088957,
                        "learn": [
                          0.9570267131,
                          0.1604150844
                        ]
                      },
                      {
                        "test": [
                          0.943483871,
                          0.2195926519
                        ],
                        "passed_time": 22.40920077,
                        "iteration": 438,
                        "remaining_time": 3.113806941,
                        "learn": [
                          0.9569836968,
                          0.1603395265
                        ]
                      },
                      {
                        "test": [
                          0.943483871,
                          0.219620115
                        ],
                        "passed_time": 22.45691965,
                        "iteration": 439,
                        "remaining_time": 3.062307224,
                        "learn": [
                          0.9570267131,
                          0.1602929116
                        ]
                      },
                      {
                        "test": [
                          0.943483871,
                          0.2195973182
                        ],
                        "passed_time": 22.50527275,
                        "iteration": 440,
                        "remaining_time": 3.010909506,
                        "learn": [
                          0.9570697294,
                          0.1602133734
                        ]
                      },
                      {
                        "test": [
                          0.943483871,
                          0.2196019448
                        ],
                        "passed_time": 22.55347464,
                        "iteration": 441,
                        "remaining_time": 2.959505723,
                        "learn": [
                          0.9570697294,
                          0.1601183112
                        ]
                      },
                      {
                        "test": [
                          0.9433548387,
                          0.2196048118
                        ],
                        "passed_time": 22.60334761,
                        "iteration": 442,
                        "remaining_time": 2.908331409,
                        "learn": [
                          0.9570697294,
                          0.1600444895
                        ]
                      },
                      {
                        "test": [
                          0.9433548387,
                          0.2196314852
                        ],
                        "passed_time": 22.65526618,
                        "iteration": 443,
                        "remaining_time": 2.857420959,
                        "learn": [
                          0.9570697294,
                          0.1599496127
                        ]
                      },
                      {
                        "test": [
                          0.9433548387,
                          0.2196153433
                        ],
                        "passed_time": 22.70454472,
                        "iteration": 444,
                        "remaining_time": 2.806179684,
                        "learn": [
                          0.9570267131,
                          0.1598460324
                        ]
                      },
                      {
                        "test": [
                          0.9433548387,
                          0.2196268915
                        ],
                        "passed_time": 22.75535746,
                        "iteration": 445,
                        "remaining_time": 2.755132966,
                        "learn": [
                          0.9570267131,
                          0.1597908492
                        ]
                      },
                      {
                        "test": [
                          0.9433548387,
                          0.2196478321
                        ],
                        "passed_time": 22.80438781,
                        "iteration": 446,
                        "remaining_time": 2.70387596,
                        "learn": [
                          0.9570267131,
                          0.1596917734
                        ]
                      },
                      {
                        "test": [
                          0.9433548387,
                          0.2196455744
                        ],
                        "passed_time": 22.85297247,
                        "iteration": 447,
                        "remaining_time": 2.652577162,
                        "learn": [
                          0.9569406805,
                          0.1596124898
                        ]
                      },
                      {
                        "test": [
                          0.9433548387,
                          0.2196411234
                        ],
                        "passed_time": 22.90151889,
                        "iteration": 448,
                        "remaining_time": 2.60128611,
                        "learn": [
                          0.9569836968,
                          0.1595454853
                        ]
                      },
                      {
                        "test": [
                          0.9433548387,
                          0.2196875175
                        ],
                        "passed_time": 22.95436081,
                        "iteration": 449,
                        "remaining_time": 2.550484534,
                        "learn": [
                          0.9570267131,
                          0.1594170034
                        ]
                      },
                      {
                        "test": [
                          0.9433548387,
                          0.2196564627
                        ],
                        "passed_time": 23.00761408,
                        "iteration": 450,
                        "remaining_time": 2.499718603,
                        "learn": [
                          0.9570697294,
                          0.1593421633
                        ]
                      },
                      {
                        "test": [
                          0.9433548387,
                          0.2197059895
                        ],
                        "passed_time": 23.05651587,
                        "iteration": 451,
                        "remaining_time": 2.448479562,
                        "learn": [
                          0.9570267131,
                          0.1592242015
                        ]
                      },
                      {
                        "test": [
                          0.9433548387,
                          0.2197371443
                        ],
                        "passed_time": 23.10337342,
                        "iteration": 452,
                        "remaining_time": 2.397038743,
                        "learn": [
                          0.9570267131,
                          0.159177655
                        ]
                      },
                      {
                        "test": [
                          0.9433548387,
                          0.219755187
                        ],
                        "passed_time": 23.15177301,
                        "iteration": 453,
                        "remaining_time": 2.345774358,
                        "learn": [
                          0.9570267131,
                          0.1591058035
                        ]
                      },
                      {
                        "test": [
                          0.9432258065,
                          0.2197286004
                        ],
                        "passed_time": 23.20439676,
                        "iteration": 454,
                        "remaining_time": 2.294940339,
                        "learn": [
                          0.9569836968,
                          0.1589770757
                        ]
                      },
                      {
                        "test": [
                          0.9433548387,
                          0.2197229511
                        ],
                        "passed_time": 23.25496938,
                        "iteration": 455,
                        "remaining_time": 2.243900554,
                        "learn": [
                          0.9569836968,
                          0.1589127051
                        ]
                      },
                      {
                        "test": [
                          0.9433548387,
                          0.2197317163
                        ],
                        "passed_time": 23.3033201,
                        "iteration": 456,
                        "remaining_time": 2.192653751,
                        "learn": [
                          0.9570697294,
                          0.1588290348
                        ]
                      },
                      {
                        "test": [
                          0.9433548387,
                          0.219721315
                        ],
                        "passed_time": 23.39150378,
                        "iteration": 457,
                        "remaining_time": 2.145072399,
                        "learn": [
                          0.9570697294,
                          0.1587930215
                        ]
                      },
                      {
                        "test": [
                          0.9433548387,
                          0.2197451506
                        ],
                        "passed_time": 23.44915054,
                        "iteration": 458,
                        "remaining_time": 2.094586432,
                        "learn": [
                          0.9570267131,
                          0.1587371793
                        ]
                      },
                      {
                        "test": [
                          0.9432258065,
                          0.2197397881
                        ],
                        "passed_time": 23.50089041,
                        "iteration": 459,
                        "remaining_time": 2.043555688,
                        "learn": [
                          0.9570267131,
                          0.1586484229
                        ]
                      },
                      {
                        "test": [
                          0.943483871,
                          0.2197266084
                        ],
                        "passed_time": 23.55257168,
                        "iteration": 460,
                        "remaining_time": 1.99251691,
                        "learn": [
                          0.9570267131,
                          0.1585840226
                        ]
                      },
                      {
                        "test": [
                          0.943483871,
                          0.2196794411
                        ],
                        "passed_time": 23.60401258,
                        "iteration": 461,
                        "remaining_time": 1.94145558,
                        "learn": [
                          0.9570267131,
                          0.1585285542
                        ]
                      },
                      {
                        "test": [
                          0.943483871,
                          0.2197074701
                        ],
                        "passed_time": 23.65127341,
                        "iteration": 462,
                        "remaining_time": 1.890058567,
                        "learn": [
                          0.9569836968,
                          0.1584516101
                        ]
                      },
                      {
                        "test": [
                          0.9432258065,
                          0.219721195
                        ],
                        "passed_time": 23.70327652,
                        "iteration": 463,
                        "remaining_time": 1.839047316,
                        "learn": [
                          0.9570267131,
                          0.1583919766
                        ]
                      },
                      {
                        "test": [
                          0.9432258065,
                          0.2197162711
                        ],
                        "passed_time": 23.74988032,
                        "iteration": 464,
                        "remaining_time": 1.7876254,
                        "learn": [
                          0.9569836968,
                          0.1582987984
                        ]
                      },
                      {
                        "test": [
                          0.9432258065,
                          0.2197466525
                        ],
                        "passed_time": 23.79683118,
                        "iteration": 465,
                        "remaining_time": 1.736249485,
                        "learn": [
                          0.9570267131,
                          0.1582042573
                        ]
                      },
                      {
                        "test": [
                          0.9433548387,
                          0.219745498
                        ],
                        "passed_time": 23.84436304,
                        "iteration": 466,
                        "remaining_time": 1.684933577,
                        "learn": [
                          0.9570697294,
                          0.1580933481
                        ]
                      },
                      {
                        "test": [
                          0.9433548387,
                          0.2197576823
                        ],
                        "passed_time": 23.89831915,
                        "iteration": 467,
                        "remaining_time": 1.634073104,
                        "learn": [
                          0.9570267131,
                          0.1579956508
                        ]
                      },
                      {
                        "test": [
                          0.9433548387,
                          0.219706331
                        ],
                        "passed_time": 23.95014027,
                        "iteration": 468,
                        "remaining_time": 1.583058312,
                        "learn": [
                          0.9570267131,
                          0.1579051322
                        ]
                      },
                      {
                        "test": [
                          0.9433548387,
                          0.2196741308
                        ],
                        "passed_time": 23.99743915,
                        "iteration": 469,
                        "remaining_time": 1.531751435,
                        "learn": [
                          0.9571127457,
                          0.1578224044
                        ]
                      },
                      {
                        "test": [
                          0.9433548387,
                          0.2196565078
                        ],
                        "passed_time": 24.04688222,
                        "iteration": 470,
                        "remaining_time": 1.480593598,
                        "learn": [
                          0.9571987783,
                          0.1576888856
                        ]
                      },
                      {
                        "test": [
                          0.943483871,
                          0.2196793132
                        ],
                        "passed_time": 24.09581011,
                        "iteration": 471,
                        "remaining_time": 1.429412464,
                        "learn": [
                          0.9571127457,
                          0.1576108572
                        ]
                      },
                      {
                        "test": [
                          0.943483871,
                          0.2196810561
                        ],
                        "passed_time": 24.1447309,
                        "iteration": 472,
                        "remaining_time": 1.378240453,
                        "learn": [
                          0.957155762,
                          0.1575846714
                        ]
                      },
                      {
                        "test": [
                          0.943483871,
                          0.2196836434
                        ],
                        "passed_time": 24.19136823,
                        "iteration": 473,
                        "remaining_time": 1.326952688,
                        "learn": [
                          0.9571127457,
                          0.1575552072
                        ]
                      },
                      {
                        "test": [
                          0.9432258065,
                          0.2196671906
                        ],
                        "passed_time": 24.24204042,
                        "iteration": 474,
                        "remaining_time": 1.275896864,
                        "learn": [
                          0.957155762,
                          0.1574474988
                        ]
                      },
                      {
                        "test": [
                          0.9432258065,
                          0.219637109
                        ],
                        "passed_time": 24.28865988,
                        "iteration": 475,
                        "remaining_time": 1.224638313,
                        "learn": [
                          0.9571127457,
                          0.1573893913
                        ]
                      },
                      {
                        "test": [
                          0.9432258065,
                          0.2197294871
                        ],
                        "passed_time": 24.34165841,
                        "iteration": 476,
                        "remaining_time": 1.173706799,
                        "learn": [
                          0.9571127457,
                          0.1572453501
                        ]
                      },
                      {
                        "test": [
                          0.9432258065,
                          0.2197440226
                        ],
                        "passed_time": 24.431933,
                        "iteration": 477,
                        "remaining_time": 1.124482272,
                        "learn": [
                          0.9572417946,
                          0.1571931635
                        ]
                      },
                      {
                        "test": [
                          0.9433548387,
                          0.2197347537
                        ],
                        "passed_time": 24.4916053,
                        "iteration": 478,
                        "remaining_time": 1.0737447,
                        "learn": [
                          0.9572417946,
                          0.1571357511
                        ]
                      },
                      {
                        "test": [
                          0.9433548387,
                          0.2197171177
                        ],
                        "passed_time": 24.54215457,
                        "iteration": 479,
                        "remaining_time": 1.022589774,
                        "learn": [
                          0.9572417946,
                          0.1570329026
                        ]
                      },
                      {
                        "test": [
                          0.9433548387,
                          0.2196873395
                        ],
                        "passed_time": 24.59339651,
                        "iteration": 480,
                        "remaining_time": 0.9714647271,
                        "learn": [
                          0.9572848109,
                          0.1569545097
                        ]
                      },
                      {
                        "test": [
                          0.9433548387,
                          0.2196757738
                        ],
                        "passed_time": 24.64059811,
                        "iteration": 481,
                        "remaining_time": 0.920188311,
                        "learn": [
                          0.9572848109,
                          0.1569308902
                        ]
                      },
                      {
                        "test": [
                          0.9433548387,
                          0.2196992766
                        ],
                        "passed_time": 24.68917774,
                        "iteration": 482,
                        "remaining_time": 0.8689772704,
                        "learn": [
                          0.9572848109,
                          0.1568791192
                        ]
                      },
                      {
                        "test": [
                          0.9433548387,
                          0.219739233
                        ],
                        "passed_time": 24.7455239,
                        "iteration": 483,
                        "remaining_time": 0.818033848,
                        "learn": [
                          0.9573708435,
                          0.1567968715
                        ]
                      },
                      {
                        "test": [
                          0.943483871,
                          0.2197688739
                        ],
                        "passed_time": 24.79332837,
                        "iteration": 484,
                        "remaining_time": 0.7668039701,
                        "learn": [
                          0.9574138599,
                          0.1567428312
                        ]
                      },
                      {
                        "test": [
                          0.9436129032,
                          0.2197659186
                        ],
                        "passed_time": 24.84362796,
                        "iteration": 485,
                        "remaining_time": 0.7156600648,
                        "learn": [
                          0.9574138599,
                          0.156654892
                        ]
                      },
                      {
                        "test": [
                          0.943483871,
                          0.2197975137
                        ],
                        "passed_time": 24.89339859,
                        "iteration": 486,
                        "remaining_time": 0.6645055066,
                        "learn": [
                          0.9574138599,
                          0.1565036745
                        ]
                      },
                      {
                        "test": [
                          0.943483871,
                          0.2198028796
                        ],
                        "passed_time": 24.94247961,
                        "iteration": 487,
                        "remaining_time": 0.6133396624,
                        "learn": [
                          0.9574568762,
                          0.156443159
                        ]
                      },
                      {
                        "test": [
                          0.943483871,
                          0.2198339762
                        ],
                        "passed_time": 24.99197114,
                        "iteration": 488,
                        "remaining_time": 0.5621915798,
                        "learn": [
                          0.9574998925,
                          0.1563537546
                        ]
                      },
                      {
                        "test": [
                          0.943483871,
                          0.2198458146
                        ],
                        "passed_time": 25.03963063,
                        "iteration": 489,
                        "remaining_time": 0.51101287,
                        "learn": [
                          0.9574998925,
                          0.1563262049
                        ]
                      },
                      {
                        "test": [
                          0.943483871,
                          0.2198430661
                        ],
                        "passed_time": 25.08649574,
                        "iteration": 490,
                        "remaining_time": 0.4598339342,
                        "learn": [
                          0.9575859251,
                          0.1562800566
                        ]
                      },
                      {
                        "test": [
                          0.9436129032,
                          0.2198374941
                        ],
                        "passed_time": 25.13633657,
                        "iteration": 491,
                        "remaining_time": 0.4087209198,
                        "learn": [
                          0.9574138599,
                          0.1562372588
                        ]
                      },
                      {
                        "test": [
                          0.9436129032,
                          0.2198582664
                        ],
                        "passed_time": 25.1822,
                        "iteration": 492,
                        "remaining_time": 0.3575565923,
                        "learn": [
                          0.9573708435,
                          0.1561638394
                        ]
                      },
                      {
                        "test": [
                          0.943483871,
                          0.2198655469
                        ],
                        "passed_time": 25.22742909,
                        "iteration": 493,
                        "remaining_time": 0.3064060213,
                        "learn": [
                          0.9574138599,
                          0.1561342166
                        ]
                      },
                      {
                        "test": [
                          0.943483871,
                          0.2198811573
                        ],
                        "passed_time": 25.27488528,
                        "iteration": 494,
                        "remaining_time": 0.2553018715,
                        "learn": [
                          0.9574998925,
                          0.1560628807
                        ]
                      },
                      {
                        "test": [
                          0.943483871,
                          0.2198847234
                        ],
                        "passed_time": 25.32381364,
                        "iteration": 495,
                        "remaining_time": 0.2042243036,
                        "learn": [
                          0.9574568762,
                          0.1559515092
                        ]
                      },
                      {
                        "test": [
                          0.943483871,
                          0.2198846804
                        ],
                        "passed_time": 25.369626,
                        "iteration": 496,
                        "remaining_time": 0.1531365755,
                        "learn": [
                          0.9574568762,
                          0.1559201711
                        ]
                      },
                      {
                        "test": [
                          0.943483871,
                          0.2198865466
                        ],
                        "passed_time": 25.45096956,
                        "iteration": 497,
                        "remaining_time": 0.1022127292,
                        "learn": [
                          0.9574998925,
                          0.1558261096
                        ]
                      },
                      {
                        "test": [
                          0.943483871,
                          0.2199297375
                        ],
                        "passed_time": 25.52651864,
                        "iteration": 498,
                        "remaining_time": 0.05115534797,
                        "learn": [
                          0.9574568762,
                          0.1557584983
                        ]
                      },
                      {
                        "test": [
                          0.9433548387,
                          0.219925427
                        ],
                        "passed_time": 25.572349,
                        "iteration": 499,
                        "remaining_time": 0,
                        "learn": [
                          0.9574138599,
                          0.1557173681
                        ]
                      }
                    ]
                  },
                  "total_iterations": 500,
                  "passed_iterations": 499
                },
                "path": "catboost_info",
                "name": "catboost_info"
              }
            },
            "_view_module": "catboost-widget",
            "_model_module_version": "^1.0.0",
            "_view_count": null,
            "_view_module_version": "^1.0.0",
            "layout": "IPY_MODEL_03669bb8f5014dfba6bb3c4405b85dc8",
            "_model_module": "catboost-widget"
          }
        }
      }
    }
  },
  "nbformat": 4,
  "nbformat_minor": 5
}