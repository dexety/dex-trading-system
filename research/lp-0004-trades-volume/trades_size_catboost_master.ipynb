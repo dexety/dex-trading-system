{
  "cells": [
    {
      "cell_type": "code",
      "execution_count": 114,
      "id": "6PWJsnjzBfq1",
      "metadata": {
        "colab": {
          "base_uri": "https://localhost:8080/"
        },
        "id": "6PWJsnjzBfq1",
        "outputId": "67eab655-8553-4580-d5b3-33e67b920433"
      },
      "outputs": [
        {
          "output_type": "stream",
          "name": "stdout",
          "text": [
            "Requirement already satisfied: catboost in /usr/local/lib/python3.7/dist-packages (1.0.4)\n",
            "Requirement already satisfied: plotly in /usr/local/lib/python3.7/dist-packages (from catboost) (4.4.1)\n",
            "Requirement already satisfied: graphviz in /usr/local/lib/python3.7/dist-packages (from catboost) (0.10.1)\n",
            "Requirement already satisfied: matplotlib in /usr/local/lib/python3.7/dist-packages (from catboost) (3.2.2)\n",
            "Requirement already satisfied: scipy in /usr/local/lib/python3.7/dist-packages (from catboost) (1.4.1)\n",
            "Requirement already satisfied: numpy>=1.16.0 in /usr/local/lib/python3.7/dist-packages (from catboost) (1.19.5)\n",
            "Requirement already satisfied: pandas>=0.24.0 in /usr/local/lib/python3.7/dist-packages (from catboost) (1.1.5)\n",
            "Requirement already satisfied: six in /usr/local/lib/python3.7/dist-packages (from catboost) (1.15.0)\n",
            "Requirement already satisfied: python-dateutil>=2.7.3 in /usr/local/lib/python3.7/dist-packages (from pandas>=0.24.0->catboost) (2.8.2)\n",
            "Requirement already satisfied: pytz>=2017.2 in /usr/local/lib/python3.7/dist-packages (from pandas>=0.24.0->catboost) (2018.9)\n",
            "Requirement already satisfied: kiwisolver>=1.0.1 in /usr/local/lib/python3.7/dist-packages (from matplotlib->catboost) (1.3.2)\n",
            "Requirement already satisfied: cycler>=0.10 in /usr/local/lib/python3.7/dist-packages (from matplotlib->catboost) (0.11.0)\n",
            "Requirement already satisfied: pyparsing!=2.0.4,!=2.1.2,!=2.1.6,>=2.0.1 in /usr/local/lib/python3.7/dist-packages (from matplotlib->catboost) (3.0.6)\n",
            "Requirement already satisfied: retrying>=1.3.3 in /usr/local/lib/python3.7/dist-packages (from plotly->catboost) (1.3.3)\n",
            "Requirement already satisfied: hyperopt==0.2.5 in /usr/local/lib/python3.7/dist-packages (0.2.5)\n",
            "Requirement already satisfied: networkx>=2.2 in /usr/local/lib/python3.7/dist-packages (from hyperopt==0.2.5) (2.6.3)\n",
            "Requirement already satisfied: future in /usr/local/lib/python3.7/dist-packages (from hyperopt==0.2.5) (0.16.0)\n",
            "Requirement already satisfied: six in /usr/local/lib/python3.7/dist-packages (from hyperopt==0.2.5) (1.15.0)\n",
            "Requirement already satisfied: cloudpickle in /usr/local/lib/python3.7/dist-packages (from hyperopt==0.2.5) (1.3.0)\n",
            "Requirement already satisfied: scipy in /usr/local/lib/python3.7/dist-packages (from hyperopt==0.2.5) (1.4.1)\n",
            "Requirement already satisfied: tqdm in /usr/local/lib/python3.7/dist-packages (from hyperopt==0.2.5) (4.62.3)\n",
            "Requirement already satisfied: numpy in /usr/local/lib/python3.7/dist-packages (from hyperopt==0.2.5) (1.19.5)\n"
          ]
        }
      ],
      "source": [
        "!pip3 install catboost\n",
        "!pip3 install hyperopt==0.2.5"
      ]
    },
    {
      "cell_type": "code",
      "source": [
        "from google.colab import drive\n",
        "drive.mount('/content/drive')"
      ],
      "metadata": {
        "colab": {
          "base_uri": "https://localhost:8080/"
        },
        "id": "DWI_e1FSru3w",
        "outputId": "4a77d37f-cb5f-4371-be04-b91efb2dc55e"
      },
      "id": "DWI_e1FSru3w",
      "execution_count": 115,
      "outputs": [
        {
          "output_type": "stream",
          "name": "stdout",
          "text": [
            "Drive already mounted at /content/drive; to attempt to forcibly remount, call drive.mount(\"/content/drive\", force_remount=True).\n"
          ]
        }
      ]
    },
    {
      "cell_type": "code",
      "execution_count": 116,
      "id": "vjlvDT-QXrD0",
      "metadata": {
        "id": "vjlvDT-QXrD0"
      },
      "outputs": [],
      "source": [
        "import pandas as pd\n",
        "import numpy as np\n",
        "from catboost import CatBoostClassifier, Pool, metrics, cv\n",
        "from sklearn.metrics import accuracy_score\n",
        "from sklearn.model_selection import train_test_split\n",
        "import random\n",
        "from numpy.random import RandomState\n",
        "from catboost.utils import select_threshold"
      ]
    },
    {
      "cell_type": "code",
      "source": [
        "csv_path = \"drive/MyDrive/trades-df-2021_8_1_0_0_0-2022_1_22_0_0_0.csv\"\n",
        "df = pd.read_csv(csv_path)\n",
        "x_columns = list(filter(lambda column: not 'punch' in column, df.columns))\n",
        "y_columns = list(filter(lambda column: 'punch' in column, df.columns))\n",
        "\n",
        "commision = 0.0005\n",
        "punch = commision * 4\n",
        "\n",
        "df['target'] = df[y_columns].apply(\n",
        "    lambda row :\n",
        "        1\n",
        "        if max(list(row.to_numpy()), key=abs) > punch\n",
        "        else\n",
        "          -1\n",
        "          if max(list(row.to_numpy()), key=abs) < -punch\n",
        "          else\n",
        "          0,\n",
        "    axis = 1\n",
        ")\n",
        "df = df.drop(y_columns, axis=1)\n",
        "\n",
        "lines_to_drop = []\n",
        "\n",
        "for index, line in df.iterrows():\n",
        "    if np.random.rand() < 0.9 and line['target'] == 0:\n",
        "        lines_to_drop.append(index)\n",
        "\n",
        "df = df.drop(lines_to_drop)\n",
        "\n",
        "X = df[x_columns]\n",
        "y = df['target']\n",
        "\n",
        "print(y.value_counts())"
      ],
      "metadata": {
        "colab": {
          "base_uri": "https://localhost:8080/"
        },
        "id": "MIzvSjw6jgAn",
        "outputId": "5318ed98-a731-4f83-d4df-69b9f073f40d"
      },
      "id": "MIzvSjw6jgAn",
      "execution_count": 129,
      "outputs": [
        {
          "output_type": "stream",
          "name": "stdout",
          "text": [
            " 0    24386\n",
            "-1     1931\n",
            " 1     1530\n",
            "Name: target, dtype: int64\n"
          ]
        }
      ]
    },
    {
      "cell_type": "code",
      "source": [
        "buckets_num = 50\n",
        "buckets = [df[len(df) // buckets_num * i:len(df) // buckets_num * (i + 1)] for i in range(buckets_num)]\n",
        "random.shuffle(buckets)\n",
        "df_train = pd.concat(buckets[:int(buckets_num * 0.75)], ignore_index=True)\n",
        "df_validate = pd.concat(buckets[int(buckets_num * 0.75):int(buckets_num * 0.90)], ignore_index=True)\n",
        "df_test = pd.concat(buckets[int(buckets_num * 0.90):], ignore_index=True)\n",
        "\n",
        "X_train = df_train[x_columns]\n",
        "y_train = df_train['target']\n",
        "\n",
        "X_validation = df_validate[x_columns]\n",
        "y_validation = df_validate['target']\n",
        "\n",
        "X_test = df_test[x_columns]\n",
        "y_test = df_test['target']"
      ],
      "metadata": {
        "id": "xqBcAzBTmMj8"
      },
      "id": "xqBcAzBTmMj8",
      "execution_count": 118,
      "outputs": []
    },
    {
      "cell_type": "code",
      "execution_count": 119,
      "id": "f0753b54-1efd-4f34-ba92-2547bb0e854a",
      "metadata": {
        "id": "f0753b54-1efd-4f34-ba92-2547bb0e854a",
        "colab": {
          "base_uri": "https://localhost:8080/",
          "height": 1000,
          "referenced_widgets": [
            "29fab181db474bc7b9e2d3a9eb87b2df"
          ]
        },
        "outputId": "7e6604ca-faca-4d9a-bd98-eab14f1046ad"
      },
      "outputs": [
        {
          "output_type": "display_data",
          "data": {
            "application/vnd.jupyter.widget-view+json": {
              "model_id": "29fab181db474bc7b9e2d3a9eb87b2df",
              "version_minor": 0,
              "version_major": 2
            },
            "text/plain": [
              "MetricVisualizer(layout=Layout(align_self='stretch', height='500px'))"
            ]
          },
          "metadata": {}
        },
        {
          "output_type": "stream",
          "name": "stdout",
          "text": [
            "Model validation accuracy: 0.8654\n",
            "[[0]\n",
            " [0]\n",
            " [0]\n",
            " [0]\n",
            " [0]\n",
            " [0]\n",
            " [0]\n",
            " [0]\n",
            " [0]\n",
            " [0]]\n",
            "[[4.41431551e-05 9.99686106e-01 2.69751199e-04]\n",
            " [9.09346107e-05 9.99869050e-01 4.00158213e-05]\n",
            " [1.71360429e-04 9.99695970e-01 1.32670058e-04]\n",
            " [6.12399148e-05 9.99225714e-01 7.13046585e-04]\n",
            " [2.56527446e-04 9.87736577e-01 1.20068951e-02]\n",
            " [1.22971820e-04 9.99709726e-01 1.67301979e-04]\n",
            " [4.97710810e-04 9.99119735e-01 3.82553927e-04]\n",
            " [1.00073452e-04 9.99649161e-01 2.50765713e-04]\n",
            " [9.04234643e-05 9.99786348e-01 1.23228520e-04]\n",
            " [9.80270535e-05 9.99849492e-01 5.24814459e-05]]\n",
            "90    0\n",
            "91    0\n",
            "92    0\n",
            "93    0\n",
            "94    0\n",
            "95    0\n",
            "96    0\n",
            "97    0\n",
            "98    0\n",
            "99    0\n",
            "Name: target, dtype: int64\n",
            "open-close-diff-SELL-60-sec: 6.274963704236143\n",
            "stochastic-oscillator-BUY-600-sec: 6.110833749272646\n",
            "open-close-diff-SELL-600-sec: 5.708578774502967\n",
            "open-close-diff-BUY-60-sec: 5.701284088085596\n",
            "stochastic-oscillator-SELL-600-sec: 5.259623464562236\n",
            "open-close-diff-BUY-600-sec: 4.751227118319386\n",
            "open-close-diff-BUY-30-sec: 3.2570739279915912\n",
            "open-close-diff-SELL-30-sec: 2.728446034180308\n",
            "seconds-since-1000-trades-ago-BUY: 2.6051443009585364\n",
            "seconds-since-midnight: 2.43833985585765\n",
            "seconds-since-10-trades-ago-BUY: 2.2747314999476225\n",
            "seconds-since-100-trades-ago-BUY: 2.097330661641191\n",
            "seconds-since-50-trades-ago-BUY: 1.834525025044687\n",
            "trade-amount-BUY-60-sec: 1.7698959638677831\n",
            "stochastic-oscillator-BUY-60-sec: 1.7575025179194377\n",
            "trade-amount-SELL-1-sec: 1.725404671009439\n",
            "trade-amount-SELL-600-sec: 1.714923331256522\n",
            "trade-volume-BUY-600-sec: 1.683635755760248\n",
            "trade-volume-SELL-60-sec: 1.653111088009618\n",
            "trade-amount-BUY-10-sec: 1.5946820598822005\n",
            "trade-amount-BUY-600-sec: 1.5001148076619386\n",
            "trade-amount-SELL-5-sec: 1.4720662200271886\n",
            "trade-volume-SELL-600-sec: 1.455408987704967\n",
            "seconds-since-1000-trades-ago-SELL: 1.3820482031072892\n",
            "trade-amount-SELL-60-sec: 1.3695818666065225\n",
            "trade-volume-SELL-1-sec: 1.3534503241186857\n",
            "open-close-diff-SELL-10-sec: 1.3236358371590782\n",
            "trade-amount-SELL-30-sec: 1.2766610917031036\n",
            "stochastic-oscillator-SELL-60-sec: 1.1909515289120018\n",
            "trade-amount-BUY-30-sec: 1.1800806376268584\n",
            "trade-volume-BUY-1-sec: 1.1653859707781777\n",
            "trade-volume-SELL-10-sec: 1.1089691692203352\n",
            "trade-volume-SELL-30-sec: 1.0805532785496659\n",
            "trade-amount-BUY-1-sec: 1.0801452488019354\n",
            "trade-volume-BUY-60-sec: 1.0213980377136918\n",
            "seconds-since-1-trades-ago-BUY: 0.9599928533094702\n",
            "trade-amount-BUY-5-sec: 0.9321062990060117\n",
            "trade-volume-SELL-5-sec: 0.9254352381023776\n",
            "open-close-diff-SELL-5-sec: 0.9245279079781372\n",
            "open-close-diff-BUY-10-sec: 0.9028994980017266\n",
            "trade-amount-SELL-10-sec: 0.89556994578718\n",
            "trade-volume-BUY-5-sec: 0.8850438222786126\n",
            "trade-volume-BUY-10-sec: 0.7359465237453697\n",
            "stochastic-oscillator-BUY-1-sec: 0.7233057802568857\n",
            "open-close-diff-BUY-1-sec: 0.69054040121632\n",
            "open-close-diff-SELL-1-sec: 0.6315948755494218\n",
            "open-close-diff-BUY-5-sec: 0.5372783345656332\n",
            "trade-volume-BUY-30-sec: 0.5100576048386581\n",
            "weighted-moving-average-BUY-600-sec: 0.5027847446071185\n",
            "seconds-since-10-trades-ago-SELL: 0.479844298296779\n",
            "seconds-since-50-trades-ago-SELL: 0.4580696113691382\n",
            "weighted-moving-average-BUY-5-sec: 0.4345146162113471\n",
            "seconds-since-100-trades-ago-SELL: 0.43420663460708714\n",
            "stochastic-oscillator-SELL-30-sec: 0.42283775890200437\n",
            "stochastic-oscillator-BUY-5-sec: 0.3657688388537516\n",
            "exp-moving-average-BUY-1-sec: 0.32800952616183804\n",
            "weighted-moving-average-SELL-10-sec: 0.29504578884925003\n",
            "weighted-moving-average-SELL-30-sec: 0.27434280640503944\n",
            "weighted-moving-average-SELL-60-sec: 0.2728302778738961\n",
            "exp-moving-average-SELL-600-sec: 0.2639875271366705\n",
            "stochastic-oscillator-BUY-30-sec: 0.24591931379340104\n",
            "moving-average-BUY-600-sec: 0.22708657898592602\n",
            "weighted-moving-average-SELL-600-sec: 0.2235466985298423\n",
            "weighted-moving-average-BUY-10-sec: 0.19632981763661547\n",
            "moving-average-SELL-30-sec: 0.18747971453191598\n",
            "weighted-moving-average-BUY-60-sec: 0.1777454437421812\n",
            "moving-average-SELL-600-sec: 0.17295608062697326\n",
            "seconds-since-1-trades-ago-SELL: 0.17244092519791487\n",
            "moving-average-SELL-5-sec: 0.17028090534560186\n",
            "stochastic-oscillator-SELL-10-sec: 0.1613415927485639\n",
            "moving-average-BUY-10-sec: 0.14001845440277152\n",
            "exp-moving-average-BUY-30-sec: 0.13644680739453502\n",
            "moving-average-BUY-30-sec: 0.1282556428812374\n",
            "exp-moving-average-SELL-30-sec: 0.12471605068773721\n",
            "stochastic-oscillator-SELL-5-sec: 0.11696939958380792\n",
            "moving-average-SELL-10-sec: 0.09628048121044905\n",
            "exp-moving-average-BUY-600-sec: 0.09101217904809729\n",
            "stochastic-oscillator-BUY-10-sec: 0.0662345705210899\n",
            "exp-moving-average-SELL-5-sec: 0.06462927246435737\n",
            "exp-moving-average-SELL-60-sec: 0.06123111136625913\n",
            "moving-average-BUY-5-sec: 0.05989035691672578\n",
            "weighted-moving-average-BUY-30-sec: 0.05972965473296775\n",
            "exp-moving-average-SELL-1-sec: 0.05141554168872216\n",
            "exp-moving-average-BUY-10-sec: 0.04321998870120477\n",
            "weighted-moving-average-BUY-1-sec: 0.02915434245606379\n",
            "exp-moving-average-BUY-5-sec: 0.028331544541591466\n",
            "moving-average-SELL-60-sec: 0.02074491418618523\n",
            "weighted-moving-average-SELL-1-sec: 0.01910903657651524\n",
            "exp-moving-average-SELL-10-sec: 0.011978462118208332\n",
            "weighted-moving-average-SELL-5-sec: 0.011172177967760122\n",
            "moving-average-BUY-60-sec: 0.011049135378162508\n",
            "moving-average-SELL-1-sec: 0.004290746776412068\n",
            "moving-average-BUY-1-sec: 0.0007427413531928229\n",
            "stochastic-oscillator-SELL-1-sec: 0.0\n",
            "exp-moving-average-BUY-60-sec: 0.0\n"
          ]
        }
      ],
      "source": [
        "params = {\n",
        "    'iterations': 1000,\n",
        "    'l2_leaf_reg': 2,\n",
        "    'learning_rate': 0.2,\n",
        "    'custom_loss': [metrics.Accuracy()],\n",
        "    'eval_metric': metrics.Accuracy(),\n",
        "    'random_seed': 42,\n",
        "    'depth': 5,\n",
        "    'logging_level': 'Silent',\n",
        "    'loss_function': 'MultiClass',\n",
        "}\n",
        "train_pool = Pool(X_train, y_train)\n",
        "validate_pool = Pool(X_validation, y_validation)\n",
        "\n",
        "model = CatBoostClassifier(**params)\n",
        "model.fit(\n",
        "    train_pool,\n",
        "    eval_set=validate_pool,\n",
        "    plot=True,\n",
        ")\n",
        "model.save_model('catboost_model.dump')\n",
        "\n",
        "print('Model validation accuracy: {:.4}'.format(\n",
        "    accuracy_score(y_test, model.predict(X_test))\n",
        "))\n",
        "predictions = model.predict(X_test)\n",
        "predictions = predictions.reshape(predictions.shape[0], 1)\n",
        "predictions_probs = model.predict_proba(X_test)\n",
        "print(predictions[90:100])\n",
        "print(predictions_probs[90:100])\n",
        "print(y_test[90:100])\n",
        "feature_importances = model.get_feature_importance(train_pool)\n",
        "feature_names = X_train.columns\n",
        "for score, name in sorted(zip(feature_importances, feature_names), reverse=True):\n",
        "    print('{}: {}'.format(name, score))"
      ]
    },
    {
      "cell_type": "code",
      "source": [
        "def calculate_profit(prob_threshold, diff_threshold, null_threshold):\n",
        "    p = f(prob_threshold, diff_threshold, null_threshold)\n",
        "    result = {\n",
        "        'correct_predictions': 0,\n",
        "        'false_positive': 0,\n",
        "        'false_negative': 0,\n",
        "        'wrong_side': 0,\n",
        "    }\n",
        "    for i in range(len(p)):\n",
        "        t = int(y_test[i:i+1])\n",
        "        if p[i] == t != 0:\n",
        "            result['correct_predictions'] += 1\n",
        "        elif p[i] != t and t != 0 and p[i] != 0:\n",
        "            result['wrong_side'] += 1\n",
        "        elif p[i] != 0 and t == 0:\n",
        "            result['false_positive'] += 1\n",
        "        elif p[i] == 0 and t != 0:\n",
        "            result['false_negative'] += 1\n",
        "\n",
        "    result['correct_predictions_pc'] = result['correct_predictions'] / len(y_test)\n",
        "    result['false_positive_pc'] = result['false_positive'] / len(y_test)\n",
        "    result['false_negative_pc'] = result['false_negative'] / len(y_test)\n",
        "    result['wrong_side_pc'] = result['wrong_side'] / len(y_test)\n",
        "    \n",
        "    return (\n",
        "          len(y) * result['correct_predictions_pc'] * (punch - 2 * commision)\n",
        "          -\n",
        "          len(y) * result['false_positive_pc'] * 2 * commision\n",
        "          -\n",
        "          len(y) * result['wrong_side_pc'] * (punch + 2 * commision)\n",
        "    )\n",
        "\n",
        "results = []\n",
        "def f(prob_threshold, diff_threshold, null_threshold):\n",
        "    p = np.array((list(map(lambda row:\n",
        "                          1\n",
        "                          if row[2] > prob_threshold\n",
        "                              # and row[2] == max(row)\n",
        "                              and row[2] > row[0]\n",
        "                              and row[1] < null_threshold\n",
        "                              and abs(row[2] - row[0]) > diff_threshold\n",
        "                              and abs(row[2] - row[1]) > diff_threshold\n",
        "                          else\n",
        "                          -1\n",
        "                          if row[0] > prob_threshold\n",
        "                              # and row[0] == max(row)\n",
        "                              and row[0] > row[2]\n",
        "                              and row[1] < null_threshold\n",
        "                              and abs(row[0] - row[2]) > diff_threshold\n",
        "                              and abs(row[0] - row[1]) > diff_threshold\n",
        "                          else 0,\n",
        "                          predictions_probs))))\n",
        "    result = {\n",
        "        'correct_predictions': 0,\n",
        "        'false_positive': 0,\n",
        "        'false_negative': 0,\n",
        "        'wrong_side': 0,\n",
        "    }\n",
        "    for i in range(len(p)):\n",
        "        t = int(y_test[i:i+1])\n",
        "        if p[i] == t != 0:\n",
        "            result['correct_predictions'] += 1\n",
        "        elif p[i] != t and t != 0 and p[i] != 0:\n",
        "            result['wrong_side'] += 1\n",
        "        elif p[i] != 0 and t == 0:\n",
        "            result['false_positive'] += 1\n",
        "        elif p[i] == 0 and t != 0:\n",
        "            result['false_negative'] += 1\n",
        "\n",
        "    result['correct_predictions'] /= len(y_test)\n",
        "    result['false_positive'] /= len(y_test)\n",
        "    result['false_negative'] /= len(y_test)\n",
        "    result['wrong_side'] /= len(y_test)\n",
        "    result['prob_threshold'] = prob_threshold\n",
        "    result['diff_threshold'] = diff_threshold\n",
        "    result['null_threshold'] = null_threshold\n",
        "    results.append(result)\n",
        "    return p"
      ],
      "metadata": {
        "id": "XRZYcGeJ2hCl"
      },
      "id": "XRZYcGeJ2hCl",
      "execution_count": 120,
      "outputs": []
    },
    {
      "cell_type": "code",
      "execution_count": 122,
      "id": "nYtYQuKh3n8N",
      "metadata": {
        "id": "nYtYQuKh3n8N"
      },
      "outputs": [],
      "source": [
        "for null_threshold in np.arange(0.3, 0.8, 0.05):\n",
        "    for prob_threshold in np.arange(0.3, 0.7, 0.05):\n",
        "        for diff_threshold in np.arange(0.00, 0.20, 0.05):\n",
        "            f(prob_threshold, diff_threshold, null_threshold)"
      ]
    },
    {
      "cell_type": "code",
      "execution_count": 123,
      "id": "uibgvIlGhC_s",
      "metadata": {
        "id": "uibgvIlGhC_s",
        "colab": {
          "base_uri": "https://localhost:8080/"
        },
        "outputId": "fa7dd4bf-3d18-4084-cdec-1803d3b16182"
      },
      "outputs": [
        {
          "output_type": "stream",
          "name": "stdout",
          "text": [
            "{'correct_predictions': 0.08689407540394974, 'false_positive': 0.017953321364452424, 'false_negative': 0.11131059245960502, 'wrong_side': 0.0118491921005386, 'prob_threshold': 0.6000000000000001, 'diff_threshold': 0.0, 'null_threshold': 0.5}\n"
          ]
        }
      ],
      "source": [
        "results = list(sorted(results, key=lambda result: -calculate_profit(result['prob_threshold'], result['diff_threshold'], result['null_threshold'])))\n",
        "print(results[0])"
      ]
    },
    {
      "cell_type": "code",
      "execution_count": 124,
      "id": "YVf5Mi0OZMzL",
      "metadata": {
        "colab": {
          "base_uri": "https://localhost:8080/"
        },
        "id": "YVf5Mi0OZMzL",
        "outputId": "cae1c44a-706f-49d3-d3a3-98e0ca8d0861"
      },
      "outputs": [
        {
          "output_type": "stream",
          "name": "stdout",
          "text": [
            "prob_threshold 0.6000000000000001, diff_threshold 0.0, null_threshold 0.5\n",
            "accuracy 0.858886894075404\n",
            "{'correct_predictions': 242, 'false_positive': 50, 'false_negative': 310, 'wrong_side': 33, 'correct_predictions_pc': 0.08689407540394974, 'false_positive_pc': 0.017953321364452424, 'false_negative_pc': 0.11131059245960502, 'wrong_side_pc': 0.0118491921005386}\n"
          ]
        }
      ],
      "source": [
        "prob_threshold = results[0]['prob_threshold']\n",
        "diff_threshold = results[0]['diff_threshold']\n",
        "null_threshold = results[0]['null_threshold']\n",
        "\n",
        "print(f\"prob_threshold {prob_threshold}, diff_threshold {diff_threshold}, null_threshold {null_threshold}\")\n",
        "p = f(prob_threshold, diff_threshold, null_threshold)\n",
        "print('accuracy', accuracy_score(p, y_test))\n",
        "result = {\n",
        "    'correct_predictions': 0,\n",
        "    'false_positive': 0,\n",
        "    'false_negative': 0,\n",
        "    'wrong_side': 0,\n",
        "}\n",
        "for i in range(len(p)):\n",
        "    t = int(y_test[i:i+1])\n",
        "    if p[i] == t != 0:\n",
        "        result['correct_predictions'] += 1\n",
        "    elif p[i] != t and t != 0 and p[i] != 0:\n",
        "        result['wrong_side'] += 1\n",
        "    elif p[i] != 0 and t == 0:\n",
        "        result['false_positive'] += 1\n",
        "    elif p[i] == 0 and t != 0:\n",
        "        result['false_negative'] += 1\n",
        "\n",
        "result['correct_predictions_pc'] = result['correct_predictions'] / len(y_test)\n",
        "result['false_positive_pc'] = result['false_positive'] / len(y_test)\n",
        "result['false_negative_pc'] = result['false_negative'] / len(y_test)\n",
        "result['wrong_side_pc'] = result['wrong_side'] / len(y_test)\n",
        "print(result)"
      ]
    },
    {
      "cell_type": "code",
      "execution_count": 125,
      "id": "gMozO7JrZ3de",
      "metadata": {
        "colab": {
          "base_uri": "https://localhost:8080/"
        },
        "id": "gMozO7JrZ3de",
        "outputId": "27c88389-5cb6-4299-fab2-a6b48653fe89"
      },
      "outputs": [
        {
          "output_type": "stream",
          "name": "stdout",
          "text": [
            "profit from 3000$ fot 6 months 2792.1037701974865 $ 93.07012567324955 %\n"
          ]
        }
      ],
      "source": [
        "profit = calculate_profit(prob_threshold, diff_threshold, null_threshold)\n",
        "print(\n",
        "    'profit from 3000$ fot 6 months',\n",
        "    profit * 3000,\n",
        "    '$',\n",
        "    profit * 100,\n",
        "    '%'\n",
        ")"
      ]
    },
    {
      "cell_type": "code",
      "execution_count": 126,
      "id": "_Gh3CUGM6K-c",
      "metadata": {
        "colab": {
          "base_uri": "https://localhost:8080/"
        },
        "id": "_Gh3CUGM6K-c",
        "outputId": "11719ae0-3b63-4ea1-f269-07105e449c45"
      },
      "outputs": [
        {
          "output_type": "stream",
          "name": "stdout",
          "text": [
            "Correct accuracy = correct prediction / total positive num = 0.41367521367521365\n",
            "FPR = false positive / total negative num = 0.022727272727272728\n",
            "FNR = false negative / total positive num = 0.5299145299145299\n",
            "Model in 55.55555555555556% of cases with probability 74.46153846153845% predict a correct market jump\n"
          ]
        }
      ],
      "source": [
        "correct_accuracy = result['correct_predictions'] / len(y_test[y_test != 0])\n",
        "print(\n",
        "f\"Correct accuracy = correct prediction / total positive num = {correct_accuracy}\"\n",
        ")\n",
        "FPR = result['false_positive'] / len(y_test[y_test == 0])\n",
        "print(\n",
        "f\"FPR = false positive / total negative num = {FPR}\"\n",
        ")\n",
        "FNR = result['false_negative'] / len(y_test[y_test  != 0])\n",
        "print(\n",
        "f\"FNR = false negative / total positive num = {FNR}\"\n",
        ")\n",
        "cases_pc = (result['correct_predictions'] + result['false_positive'] + result['wrong_side']) / len(y_test[y_test != 0]) * 100\n",
        "probability_pc = result['correct_predictions'] / (result['correct_predictions'] + result['false_positive'] + result['wrong_side']) * 100\n",
        "print(\n",
        "f\"Model in {cases_pc}% of cases with probability {probability_pc}% predict a correct market jump\"\n",
        ")"
      ]
    }
  ],
  "metadata": {
    "colab": {
      "collapsed_sections": [],
      "name": "trades_size_catboost_master.ipynb",
      "provenance": []
    },
    "kernelspec": {
      "display_name": "Python 3",
      "language": "python",
      "name": "python3"
    },
    "language_info": {
      "codemirror_mode": {
        "name": "ipython",
        "version": 3
      },
      "file_extension": ".py",
      "mimetype": "text/x-python",
      "name": "python",
      "nbconvert_exporter": "python",
      "pygments_lexer": "ipython3",
      "version": "3.8.10"
    },
    "widgets": {
      "application/vnd.jupyter.widget-state+json": {
        "29fab181db474bc7b9e2d3a9eb87b2df": {
          "model_module": "catboost-widget",
          "model_name": "CatboostWidgetModel",
          "model_module_version": "^1.0.0",
          "state": {
            "_view_name": "CatboostWidgetView",
            "_dom_classes": [],
            "_model_name": "CatboostWidgetModel",
            "data": {
              "catboost_info": {
                "content": {
                  "data": {
                    "meta": {
                      "name": "experiment",
                      "parameters": "",
                      "test_metrics": [
                        {
                          "best_value": "Max",
                          "name": "Accuracy"
                        },
                        {
                          "best_value": "Min",
                          "name": "MultiClass"
                        }
                      ],
                      "learn_sets": [
                        "learn"
                      ],
                      "launch_mode": "Train",
                      "learn_metrics": [
                        {
                          "best_value": "Max",
                          "name": "Accuracy"
                        },
                        {
                          "best_value": "Min",
                          "name": "MultiClass"
                        }
                      ],
                      "iteration_count": 1000,
                      "test_sets": [
                        "test"
                      ]
                    },
                    "iterations": [
                      {
                        "test": [
                          0.8462746858,
                          0.8524206331
                        ],
                        "passed_time": 0.1021701367,
                        "iteration": 0,
                        "remaining_time": 102.0679666,
                        "learn": [
                          0.8947547188,
                          0.8310831091
                        ]
                      },
                      {
                        "test": [
                          0.8828545781,
                          0.6982245001
                        ],
                        "passed_time": 0.1576254233,
                        "iteration": 1,
                        "remaining_time": 78.65508624,
                        "learn": [
                          0.898733563,
                          0.67434239
                        ]
                      },
                      {
                        "test": [
                          0.881059246,
                          0.6046553474
                        ],
                        "passed_time": 0.2120379037,
                        "iteration": 2,
                        "remaining_time": 70.46726334,
                        "learn": [
                          0.8984424281,
                          0.5762282171
                        ]
                      },
                      {
                        "test": [
                          0.8794883303,
                          0.5370623301
                        ],
                        "passed_time": 0.2604897761,
                        "iteration": 3,
                        "remaining_time": 64.86195426,
                        "learn": [
                          0.898733563,
                          0.5054613866
                        ]
                      },
                      {
                        "test": [
                          0.8797127469,
                          0.4833123245
                        ],
                        "passed_time": 0.3088956242,
                        "iteration": 4,
                        "remaining_time": 61.47022922,
                        "learn": [
                          0.8995099228,
                          0.4504794974
                        ]
                      },
                      {
                        "test": [
                          0.8842010772,
                          0.4347787941
                        ],
                        "passed_time": 0.3662064408,
                        "iteration": 5,
                        "remaining_time": 60.66820035,
                        "learn": [
                          0.9016934349,
                          0.4037419135
                        ]
                      },
                      {
                        "test": [
                          0.8855475763,
                          0.4043148479
                        ],
                        "passed_time": 0.4153695284,
                        "iteration": 6,
                        "remaining_time": 58.92313452,
                        "learn": [
                          0.9031491096,
                          0.3716688965
                        ]
                      },
                      {
                        "test": [
                          0.8871184919,
                          0.3752495565
                        ],
                        "passed_time": 0.465865073,
                        "iteration": 7,
                        "remaining_time": 57.76726905,
                        "learn": [
                          0.9055752341,
                          0.3444902878
                        ]
                      },
                      {
                        "test": [
                          0.8886894075,
                          0.3524155359
                        ],
                        "passed_time": 0.5163319833,
                        "iteration": 8,
                        "remaining_time": 56.85388838,
                        "learn": [
                          0.9090203309,
                          0.3209571666
                        ]
                      },
                      {
                        "test": [
                          0.888464991,
                          0.3367990478
                        ],
                        "passed_time": 0.5652770881,
                        "iteration": 9,
                        "remaining_time": 55.96243172,
                        "learn": [
                          0.9094085108,
                          0.3049653396
                        ]
                      },
                      {
                        "test": [
                          0.8920556553,
                          0.3214062789
                        ],
                        "passed_time": 0.6165636514,
                        "iteration": 10,
                        "remaining_time": 55.43467739,
                        "learn": [
                          0.9106215731,
                          0.2886593766
                        ]
                      },
                      {
                        "test": [
                          0.8927289048,
                          0.3106686137
                        ],
                        "passed_time": 0.6844700571,
                        "iteration": 11,
                        "remaining_time": 56.35470137,
                        "learn": [
                          0.9126595177,
                          0.2771923533
                        ]
                      },
                      {
                        "test": [
                          0.8951974865,
                          0.2992962576
                        ],
                        "passed_time": 0.7368836561,
                        "iteration": 12,
                        "remaining_time": 55.94647451,
                        "learn": [
                          0.9145518948,
                          0.2646279679
                        ]
                      },
                      {
                        "test": [
                          0.8963195691,
                          0.2883610105
                        ],
                        "passed_time": 0.7897496272,
                        "iteration": 13,
                        "remaining_time": 55.62093803,
                        "learn": [
                          0.9158134795,
                          0.2536245338
                        ]
                      },
                      {
                        "test": [
                          0.8978904847,
                          0.2829349101
                        ],
                        "passed_time": 0.8504893084,
                        "iteration": 14,
                        "remaining_time": 55.84879792,
                        "learn": [
                          0.9173176767,
                          0.2467957691
                        ]
                      },
                      {
                        "test": [
                          0.8990125673,
                          0.2723147803
                        ],
                        "passed_time": 0.9088194672,
                        "iteration": 15,
                        "remaining_time": 55.89239723,
                        "learn": [
                          0.9195982338,
                          0.2367338051
                        ]
                      },
                      {
                        "test": [
                          0.9032764811,
                          0.2671560348
                        ],
                        "passed_time": 0.9654127519,
                        "iteration": 16,
                        "remaining_time": 55.82357266,
                        "learn": [
                          0.9207142511,
                          0.2307755815
                        ]
                      },
                      {
                        "test": [
                          0.9039497307,
                          0.2634285688
                        ],
                        "passed_time": 1.01845741,
                        "iteration": 17,
                        "remaining_time": 55.56250981,
                        "learn": [
                          0.9215391334,
                          0.225767308
                        ]
                      },
                      {
                        "test": [
                          0.9039497307,
                          0.2577443601
                        ],
                        "passed_time": 1.069506008,
                        "iteration": 18,
                        "remaining_time": 55.22028388,
                        "learn": [
                          0.9234315105,
                          0.2198865623
                        ]
                      },
                      {
                        "test": [
                          0.9059694794,
                          0.2515001792
                        ],
                        "passed_time": 1.12573475,
                        "iteration": 19,
                        "remaining_time": 55.16100273,
                        "learn": [
                          0.9248871852,
                          0.2137319884
                        ]
                      },
                      {
                        "test": [
                          0.9061938959,
                          0.2488791202
                        ],
                        "passed_time": 1.174502049,
                        "iteration": 20,
                        "remaining_time": 54.75416696,
                        "learn": [
                          0.92576059,
                          0.2107542254
                        ]
                      },
                      {
                        "test": [
                          0.908438061,
                          0.247023008
                        ],
                        "passed_time": 1.22431819,
                        "iteration": 21,
                        "remaining_time": 54.42650862,
                        "learn": [
                          0.9256635451,
                          0.208349487
                        ]
                      },
                      {
                        "test": [
                          0.9082136445,
                          0.2448377527
                        ],
                        "passed_time": 1.273790746,
                        "iteration": 22,
                        "remaining_time": 54.10841561,
                        "learn": [
                          0.9262943374,
                          0.2057708364
                        ]
                      },
                      {
                        "test": [
                          0.9104578097,
                          0.2410732088
                        ],
                        "passed_time": 1.330674999,
                        "iteration": 23,
                        "remaining_time": 54.11411662,
                        "learn": [
                          0.9276044447,
                          0.2017377723
                        ]
                      },
                      {
                        "test": [
                          0.9106822262,
                          0.2400192376
                        ],
                        "passed_time": 1.384637403,
                        "iteration": 24,
                        "remaining_time": 54.00085873,
                        "learn": [
                          0.9275559222,
                          0.1999074047
                        ]
                      },
                      {
                        "test": [
                          0.9109066427,
                          0.2371727373
                        ],
                        "passed_time": 1.437910577,
                        "iteration": 25,
                        "remaining_time": 53.86634237,
                        "learn": [
                          0.928332282,
                          0.1971288061
                        ]
                      },
                      {
                        "test": [
                          0.9109066427,
                          0.2358003131
                        ],
                        "passed_time": 1.486215659,
                        "iteration": 26,
                        "remaining_time": 53.55880874,
                        "learn": [
                          0.9287204619,
                          0.1952610629
                        ]
                      },
                      {
                        "test": [
                          0.9109066427,
                          0.2346419582
                        ],
                        "passed_time": 1.540733232,
                        "iteration": 27,
                        "remaining_time": 53.48545363,
                        "learn": [
                          0.9290115969,
                          0.1935739514
                        ]
                      },
                      {
                        "test": [
                          0.9109066427,
                          0.2322335076
                        ],
                        "passed_time": 1.592324879,
                        "iteration": 28,
                        "remaining_time": 53.31542957,
                        "learn": [
                          0.9306128391,
                          0.1906948598
                        ]
                      },
                      {
                        "test": [
                          0.9111310592,
                          0.2308789816
                        ],
                        "passed_time": 1.644496694,
                        "iteration": 29,
                        "remaining_time": 53.17205978,
                        "learn": [
                          0.931001019,
                          0.1887565231
                        ]
                      },
                      {
                        "test": [
                          0.9118043088,
                          0.2300491022
                        ],
                        "passed_time": 1.706887645,
                        "iteration": 30,
                        "remaining_time": 53.35400412,
                        "learn": [
                          0.9317773788,
                          0.1873356984
                        ]
                      },
                      {
                        "test": [
                          0.9138240575,
                          0.2273231871
                        ],
                        "passed_time": 1.756090429,
                        "iteration": 31,
                        "remaining_time": 53.12173548,
                        "learn": [
                          0.9320199913,
                          0.1852221
                        ]
                      },
                      {
                        "test": [
                          0.9138240575,
                          0.2256265377
                        ],
                        "passed_time": 1.809782296,
                        "iteration": 32,
                        "remaining_time": 53.03210547,
                        "learn": [
                          0.933184531,
                          0.1827751378
                        ]
                      },
                      {
                        "test": [
                          0.91494614,
                          0.2248878092
                        ],
                        "passed_time": 1.872546085,
                        "iteration": 33,
                        "remaining_time": 53.20233877,
                        "learn": [
                          0.933475666,
                          0.1815579602
                        ]
                      },
                      {
                        "test": [
                          0.9169658887,
                          0.2225735835
                        ],
                        "passed_time": 1.924652908,
                        "iteration": 34,
                        "remaining_time": 53.06543017,
                        "learn": [
                          0.9342520258,
                          0.1787053647
                        ]
                      },
                      {
                        "test": [
                          0.9178635548,
                          0.2211047415
                        ],
                        "passed_time": 1.972633904,
                        "iteration": 35,
                        "remaining_time": 52.82275231,
                        "learn": [
                          0.9348828182,
                          0.1772223867
                        ]
                      },
                      {
                        "test": [
                          0.9180879713,
                          0.2202142378
                        ],
                        "passed_time": 2.020199881,
                        "iteration": 36,
                        "remaining_time": 52.5797969,
                        "learn": [
                          0.9352224756,
                          0.1763340532
                        ]
                      },
                      {
                        "test": [
                          0.9187612208,
                          0.2195867079
                        ],
                        "passed_time": 2.067542602,
                        "iteration": 37,
                        "remaining_time": 52.34147325,
                        "learn": [
                          0.9356106555,
                          0.1751896599
                        ]
                      },
                      {
                        "test": [
                          0.9194344704,
                          0.2182497735
                        ],
                        "passed_time": 2.121475396,
                        "iteration": 38,
                        "remaining_time": 52.27532963,
                        "learn": [
                          0.9370663302,
                          0.1728512538
                        ]
                      },
                      {
                        "test": [
                          0.9198833034,
                          0.2171453527
                        ],
                        "passed_time": 2.173373102,
                        "iteration": 39,
                        "remaining_time": 52.16095445,
                        "learn": [
                          0.9377456451,
                          0.1715932077
                        ]
                      },
                      {
                        "test": [
                          0.9196588869,
                          0.2167989388
                        ],
                        "passed_time": 2.218639426,
                        "iteration": 40,
                        "remaining_time": 51.8945173,
                        "learn": [
                          0.9379397351,
                          0.1705784546
                        ]
                      },
                      {
                        "test": [
                          0.9198833034,
                          0.2161685355
                        ],
                        "passed_time": 2.266767987,
                        "iteration": 41,
                        "remaining_time": 51.70389837,
                        "learn": [
                          0.93823087,
                          0.1699800941
                        ]
                      },
                      {
                        "test": [
                          0.9196588869,
                          0.2151140776
                        ],
                        "passed_time": 2.319566698,
                        "iteration": 42,
                        "remaining_time": 51.62384488,
                        "learn": [
                          0.9387160949,
                          0.1685695495
                        ]
                      },
                      {
                        "test": [
                          0.9201077199,
                          0.214617762
                        ],
                        "passed_time": 2.362210258,
                        "iteration": 43,
                        "remaining_time": 51.32438652,
                        "learn": [
                          0.9389101849,
                          0.1680321757
                        ]
                      },
                      {
                        "test": [
                          0.9201077199,
                          0.214204165
                        ],
                        "passed_time": 2.411349374,
                        "iteration": 44,
                        "remaining_time": 51.17419227,
                        "learn": [
                          0.9386675724,
                          0.1674064195
                        ]
                      },
                      {
                        "test": [
                          0.9207809695,
                          0.2134312842
                        ],
                        "passed_time": 2.465132667,
                        "iteration": 45,
                        "remaining_time": 51.12470792,
                        "learn": [
                          0.9388616624,
                          0.1662941806
                        ]
                      },
                      {
                        "test": [
                          0.9203321364,
                          0.2117350337
                        ],
                        "passed_time": 2.520275738,
                        "iteration": 46,
                        "remaining_time": 51.1026123,
                        "learn": [
                          0.9396865447,
                          0.1647703073
                        ]
                      },
                      {
                        "test": [
                          0.921005386,
                          0.2115637165
                        ],
                        "passed_time": 2.567389661,
                        "iteration": 47,
                        "remaining_time": 50.91989494,
                        "learn": [
                          0.9399291572,
                          0.1639983028
                        ]
                      },
                      {
                        "test": [
                          0.921454219,
                          0.2112597784
                        ],
                        "passed_time": 2.614264367,
                        "iteration": 48,
                        "remaining_time": 50.73806966,
                        "learn": [
                          0.9399776797,
                          0.1632806336
                        ]
                      },
                      {
                        "test": [
                          0.9207809695,
                          0.2111436374
                        ],
                        "passed_time": 2.661168877,
                        "iteration": 49,
                        "remaining_time": 50.56220866,
                        "learn": [
                          0.9401717696,
                          0.1626190817
                        ]
                      },
                      {
                        "test": [
                          0.9207809695,
                          0.2111012474
                        ],
                        "passed_time": 2.72592686,
                        "iteration": 50,
                        "remaining_time": 50.72361942,
                        "learn": [
                          0.9403658596,
                          0.1622428512
                        ]
                      },
                      {
                        "test": [
                          0.921005386,
                          0.2108873266
                        ],
                        "passed_time": 2.77154224,
                        "iteration": 51,
                        "remaining_time": 50.527347,
                        "learn": [
                          0.9407540395,
                          0.1618342514
                        ]
                      },
                      {
                        "test": [
                          0.9201077199,
                          0.2102364916
                        ],
                        "passed_time": 2.816048888,
                        "iteration": 52,
                        "remaining_time": 50.316949,
                        "learn": [
                          0.9409966519,
                          0.1612802709
                        ]
                      },
                      {
                        "test": [
                          0.921454219,
                          0.2098211766
                        ],
                        "passed_time": 2.870897899,
                        "iteration": 53,
                        "remaining_time": 50.29387802,
                        "learn": [
                          0.9407540395,
                          0.1605904758
                        ]
                      },
                      {
                        "test": [
                          0.921005386,
                          0.2091019281
                        ],
                        "passed_time": 2.923208978,
                        "iteration": 54,
                        "remaining_time": 50.22604517,
                        "learn": [
                          0.9415303993,
                          0.1595152304
                        ]
                      },
                      {
                        "test": [
                          0.9212298025,
                          0.2092484565
                        ],
                        "passed_time": 2.974319122,
                        "iteration": 55,
                        "remaining_time": 50.13852234,
                        "learn": [
                          0.9419671018,
                          0.1591330054
                        ]
                      },
                      {
                        "test": [
                          0.9221274686,
                          0.2086590736
                        ],
                        "passed_time": 3.024511134,
                        "iteration": 56,
                        "remaining_time": 50.03708771,
                        "learn": [
                          0.9424523267,
                          0.1579730873
                        ]
                      },
                      {
                        "test": [
                          0.921454219,
                          0.2086754228
                        ],
                        "passed_time": 3.074113073,
                        "iteration": 57,
                        "remaining_time": 49.92783645,
                        "learn": [
                          0.9422582367,
                          0.157545378
                        ]
                      },
                      {
                        "test": [
                          0.921454219,
                          0.2084207956
                        ],
                        "passed_time": 3.130641075,
                        "iteration": 58,
                        "remaining_time": 49.93107206,
                        "learn": [
                          0.9423067592,
                          0.1571002089
                        ]
                      },
                      {
                        "test": [
                          0.9212298025,
                          0.2082138453
                        ],
                        "passed_time": 3.177429393,
                        "iteration": 59,
                        "remaining_time": 49.77972716,
                        "learn": [
                          0.9428405066,
                          0.1566470101
                        ]
                      },
                      {
                        "test": [
                          0.9219030521,
                          0.2078302013
                        ],
                        "passed_time": 3.224122075,
                        "iteration": 60,
                        "remaining_time": 49.63033818,
                        "learn": [
                          0.943083119,
                          0.155857521
                        ]
                      },
                      {
                        "test": [
                          0.9225763016,
                          0.2073290982
                        ],
                        "passed_time": 3.271300144,
                        "iteration": 61,
                        "remaining_time": 49.4916054,
                        "learn": [
                          0.9433257315,
                          0.1549300028
                        ]
                      },
                      {
                        "test": [
                          0.9228007181,
                          0.2072487343
                        ],
                        "passed_time": 3.316697891,
                        "iteration": 62,
                        "remaining_time": 49.32930037,
                        "learn": [
                          0.9435683439,
                          0.1547357474
                        ]
                      },
                      {
                        "test": [
                          0.9223518851,
                          0.2073106678
                        ],
                        "passed_time": 3.362723005,
                        "iteration": 63,
                        "remaining_time": 49.17982395,
                        "learn": [
                          0.9439080014,
                          0.1542965428
                        ]
                      },
                      {
                        "test": [
                          0.9223518851,
                          0.2071571765
                        ],
                        "passed_time": 3.404924346,
                        "iteration": 64,
                        "remaining_time": 48.97852713,
                        "learn": [
                          0.9440535688,
                          0.1541118362
                        ]
                      },
                      {
                        "test": [
                          0.9239228007,
                          0.2069151198
                        ],
                        "passed_time": 3.451527086,
                        "iteration": 65,
                        "remaining_time": 48.84433786,
                        "learn": [
                          0.9441020913,
                          0.1538069077
                        ]
                      },
                      {
                        "test": [
                          0.9234739677,
                          0.206678535
                        ],
                        "passed_time": 3.498562543,
                        "iteration": 66,
                        "remaining_time": 48.71878884,
                        "learn": [
                          0.9443932263,
                          0.1535188166
                        ]
                      },
                      {
                        "test": [
                          0.9236983842,
                          0.2064790008
                        ],
                        "passed_time": 3.551797339,
                        "iteration": 67,
                        "remaining_time": 48.68051647,
                        "learn": [
                          0.9441506138,
                          0.1528380266
                        ]
                      },
                      {
                        "test": [
                          0.9236983842,
                          0.206717016
                        ],
                        "passed_time": 3.595707013,
                        "iteration": 68,
                        "remaining_time": 48.51598882,
                        "learn": [
                          0.9446843612,
                          0.152385168
                        ]
                      },
                      {
                        "test": [
                          0.9241472172,
                          0.2061551057
                        ],
                        "passed_time": 3.649682941,
                        "iteration": 69,
                        "remaining_time": 48.48864479,
                        "learn": [
                          0.9448299287,
                          0.1519876069
                        ]
                      },
                      {
                        "test": [
                          0.9241472172,
                          0.2061239425
                        ],
                        "passed_time": 3.713420259,
                        "iteration": 70,
                        "remaining_time": 48.58827353,
                        "learn": [
                          0.9449754961,
                          0.1514438733
                        ]
                      },
                      {
                        "test": [
                          0.9241472172,
                          0.2057860361
                        ],
                        "passed_time": 3.76241933,
                        "iteration": 71,
                        "remaining_time": 48.4934047,
                        "learn": [
                          0.9453636761,
                          0.1510125562
                        ]
                      },
                      {
                        "test": [
                          0.9243716338,
                          0.205232502
                        ],
                        "passed_time": 3.814263873,
                        "iteration": 72,
                        "remaining_time": 48.43592617,
                        "learn": [
                          0.945654811,
                          0.150486383
                        ]
                      },
                      {
                        "test": [
                          0.9243716338,
                          0.2054033177
                        ],
                        "passed_time": 3.875786195,
                        "iteration": 73,
                        "remaining_time": 48.49970292,
                        "learn": [
                          0.9459459459,
                          0.1498735117
                        ]
                      },
                      {
                        "test": [
                          0.9248204668,
                          0.2054530541
                        ],
                        "passed_time": 3.926266803,
                        "iteration": 74,
                        "remaining_time": 48.42395724,
                        "learn": [
                          0.9460429909,
                          0.1491968335
                        ]
                      },
                      {
                        "test": [
                          0.9254937163,
                          0.2056215128
                        ],
                        "passed_time": 3.975417517,
                        "iteration": 75,
                        "remaining_time": 48.33270771,
                        "learn": [
                          0.9464796933,
                          0.1484152215
                        ]
                      },
                      {
                        "test": [
                          0.9254937163,
                          0.2050723753
                        ],
                        "passed_time": 4.030546879,
                        "iteration": 76,
                        "remaining_time": 48.31421779,
                        "learn": [
                          0.9466252608,
                          0.147160937
                        ]
                      },
                      {
                        "test": [
                          0.9250448833,
                          0.2048925825
                        ],
                        "passed_time": 4.079343712,
                        "iteration": 77,
                        "remaining_time": 48.21993465,
                        "learn": [
                          0.9466252608,
                          0.1467342095
                        ]
                      },
                      {
                        "test": [
                          0.9252692998,
                          0.2045350495
                        ],
                        "passed_time": 4.132586299,
                        "iteration": 78,
                        "remaining_time": 48.17863268,
                        "learn": [
                          0.9466737833,
                          0.1462642686
                        ]
                      },
                      {
                        "test": [
                          0.9254937163,
                          0.2044216006
                        ],
                        "passed_time": 4.178365337,
                        "iteration": 79,
                        "remaining_time": 48.05120137,
                        "learn": [
                          0.9466737833,
                          0.1459259668
                        ]
                      },
                      {
                        "test": [
                          0.9261669659,
                          0.203606548
                        ],
                        "passed_time": 4.226905241,
                        "iteration": 80,
                        "remaining_time": 47.95711008,
                        "learn": [
                          0.9471590082,
                          0.1453226606
                        ]
                      },
                      {
                        "test": [
                          0.9263913824,
                          0.203357773
                        ],
                        "passed_time": 4.278466011,
                        "iteration": 81,
                        "remaining_time": 47.89794876,
                        "learn": [
                          0.9473045757,
                          0.1448163911
                        ]
                      },
                      {
                        "test": [
                          0.9263913824,
                          0.203391633
                        ],
                        "passed_time": 4.329756889,
                        "iteration": 82,
                        "remaining_time": 47.83598876,
                        "learn": [
                          0.9474501431,
                          0.1443542824
                        ]
                      },
                      {
                        "test": [
                          0.9263913824,
                          0.2033249942
                        ],
                        "passed_time": 4.373634389,
                        "iteration": 83,
                        "remaining_time": 47.69344167,
                        "learn": [
                          0.9475957106,
                          0.1441608964
                        ]
                      },
                      {
                        "test": [
                          0.9261669659,
                          0.2031214215
                        ],
                        "passed_time": 4.421060607,
                        "iteration": 84,
                        "remaining_time": 47.59141712,
                        "learn": [
                          0.9477898006,
                          0.1437920056
                        ]
                      },
                      {
                        "test": [
                          0.9259425494,
                          0.2030741776
                        ],
                        "passed_time": 4.47009454,
                        "iteration": 85,
                        "remaining_time": 47.50774895,
                        "learn": [
                          0.9479838905,
                          0.1435510478
                        ]
                      },
                      {
                        "test": [
                          0.9261669659,
                          0.2030255754
                        ],
                        "passed_time": 4.513364088,
                        "iteration": 86,
                        "remaining_time": 47.36438405,
                        "learn": [
                          0.947935368,
                          0.1433496803
                        ]
                      },
                      {
                        "test": [
                          0.9261669659,
                          0.2031560474
                        ],
                        "passed_time": 4.557570545,
                        "iteration": 87,
                        "remaining_time": 47.23300383,
                        "learn": [
                          0.9480809355,
                          0.1428909516
                        ]
                      },
                      {
                        "test": [
                          0.9261669659,
                          0.2031537351
                        ],
                        "passed_time": 4.60688371,
                        "iteration": 88,
                        "remaining_time": 47.1558546,
                        "learn": [
                          0.9479838905,
                          0.1426452279
                        ]
                      },
                      {
                        "test": [
                          0.9257181329,
                          0.2030859017
                        ],
                        "passed_time": 4.657383,
                        "iteration": 89,
                        "remaining_time": 47.091317,
                        "learn": [
                          0.9481779805,
                          0.1423890008
                        ]
                      },
                      {
                        "test": [
                          0.9252692998,
                          0.2028676471
                        ],
                        "passed_time": 4.70781946,
                        "iteration": 90,
                        "remaining_time": 47.02646032,
                        "learn": [
                          0.9484691154,
                          0.1417705237
                        ]
                      },
                      {
                        "test": [
                          0.9248204668,
                          0.2026688853
                        ],
                        "passed_time": 4.76917324,
                        "iteration": 91,
                        "remaining_time": 47.06966632,
                        "learn": [
                          0.9489543403,
                          0.1410991661
                        ]
                      },
                      {
                        "test": [
                          0.9254937163,
                          0.202314331
                        ],
                        "passed_time": 4.816382308,
                        "iteration": 92,
                        "remaining_time": 46.97267477,
                        "learn": [
                          0.9489543403,
                          0.1403681396
                        ]
                      },
                      {
                        "test": [
                          0.9248204668,
                          0.2019513303
                        ],
                        "passed_time": 4.884652199,
                        "iteration": 93,
                        "remaining_time": 47.0797329,
                        "learn": [
                          0.9493425203,
                          0.139737402
                        ]
                      },
                      {
                        "test": [
                          0.9250448833,
                          0.201946347
                        ],
                        "passed_time": 4.934789362,
                        "iteration": 94,
                        "remaining_time": 47.01036182,
                        "learn": [
                          0.9495366102,
                          0.1395381944
                        ]
                      },
                      {
                        "test": [
                          0.9250448833,
                          0.2019524915
                        ],
                        "passed_time": 4.980189977,
                        "iteration": 95,
                        "remaining_time": 46.89678895,
                        "learn": [
                          0.9495366102,
                          0.1393299034
                        ]
                      },
                      {
                        "test": [
                          0.9245960503,
                          0.2018304709
                        ],
                        "passed_time": 5.029578373,
                        "iteration": 96,
                        "remaining_time": 46.82174506,
                        "learn": [
                          0.9496336552,
                          0.1391036577
                        ]
                      },
                      {
                        "test": [
                          0.9245960503,
                          0.2018693862
                        ],
                        "passed_time": 5.072191739,
                        "iteration": 97,
                        "remaining_time": 46.68486682,
                        "learn": [
                          0.9498762677,
                          0.1389202365
                        ]
                      },
                      {
                        "test": [
                          0.9250448833,
                          0.201789813
                        ],
                        "passed_time": 5.116508337,
                        "iteration": 98,
                        "remaining_time": 46.56539406,
                        "learn": [
                          0.9498277452,
                          0.1386035208
                        ]
                      },
                      {
                        "test": [
                          0.9252692998,
                          0.2016064961
                        ],
                        "passed_time": 5.167583935,
                        "iteration": 99,
                        "remaining_time": 46.50825541,
                        "learn": [
                          0.9499247901,
                          0.1384428618
                        ]
                      },
                      {
                        "test": [
                          0.9250448833,
                          0.2016432677
                        ],
                        "passed_time": 5.214427696,
                        "iteration": 100,
                        "remaining_time": 46.41356929,
                        "learn": [
                          0.9500218351,
                          0.1382078982
                        ]
                      },
                      {
                        "test": [
                          0.9252692998,
                          0.2015083735
                        ],
                        "passed_time": 5.263992338,
                        "iteration": 101,
                        "remaining_time": 46.34377568,
                        "learn": [
                          0.9500218351,
                          0.1380348366
                        ]
                      },
                      {
                        "test": [
                          0.9259425494,
                          0.2013555462
                        ],
                        "passed_time": 5.314096187,
                        "iteration": 102,
                        "remaining_time": 46.27907068,
                        "learn": [
                          0.9501188801,
                          0.1377519952
                        ]
                      },
                      {
                        "test": [
                          0.9259425494,
                          0.2011925965
                        ],
                        "passed_time": 5.36690149,
                        "iteration": 103,
                        "remaining_time": 46.23792053,
                        "learn": [
                          0.950410015,
                          0.1374672608
                        ]
                      },
                      {
                        "test": [
                          0.9263913824,
                          0.2005856763
                        ],
                        "passed_time": 5.411805435,
                        "iteration": 104,
                        "remaining_time": 46.12919871,
                        "learn": [
                          0.95050706,
                          0.1367725702
                        ]
                      },
                      {
                        "test": [
                          0.9266157989,
                          0.2005612023
                        ],
                        "passed_time": 5.462127514,
                        "iteration": 105,
                        "remaining_time": 46.06737734,
                        "learn": [
                          0.9510408074,
                          0.1364210299
                        ]
                      },
                      {
                        "test": [
                          0.9263913824,
                          0.20057114
                        ],
                        "passed_time": 5.507600947,
                        "iteration": 106,
                        "remaining_time": 45.9653051,
                        "learn": [
                          0.9511863749,
                          0.1359090318
                        ]
                      },
                      {
                        "test": [
                          0.9263913824,
                          0.2002979395
                        ],
                        "passed_time": 5.560773066,
                        "iteration": 107,
                        "remaining_time": 45.92786643,
                        "learn": [
                          0.9513804648,
                          0.1352019092
                        ]
                      },
                      {
                        "test": [
                          0.9259425494,
                          0.2002243704
                        ],
                        "passed_time": 5.605594333,
                        "iteration": 108,
                        "remaining_time": 45.82187661,
                        "learn": [
                          0.9517686448,
                          0.1346991421
                        ]
                      },
                      {
                        "test": [
                          0.9254937163,
                          0.2001395038
                        ],
                        "passed_time": 5.648709058,
                        "iteration": 109,
                        "remaining_time": 45.70319147,
                        "learn": [
                          0.9520597797,
                          0.1344304752
                        ]
                      },
                      {
                        "test": [
                          0.9250448833,
                          0.1999216693
                        ],
                        "passed_time": 5.696893235,
                        "iteration": 110,
                        "remaining_time": 45.62646924,
                        "learn": [
                          0.9522538697,
                          0.1339388305
                        ]
                      },
                      {
                        "test": [
                          0.9254937163,
                          0.1998075917
                        ],
                        "passed_time": 5.758045514,
                        "iteration": 111,
                        "remaining_time": 45.65307515,
                        "learn": [
                          0.9525935271,
                          0.1336703392
                        ]
                      },
                      {
                        "test": [
                          0.9252692998,
                          0.1998111734
                        ],
                        "passed_time": 5.803635186,
                        "iteration": 112,
                        "remaining_time": 45.55596823,
                        "learn": [
                          0.9526420496,
                          0.1335004606
                        ]
                      },
                      {
                        "test": [
                          0.9252692998,
                          0.199592978
                        ],
                        "passed_time": 5.850024055,
                        "iteration": 113,
                        "remaining_time": 45.46597643,
                        "learn": [
                          0.9527876171,
                          0.1331945537
                        ]
                      },
                      {
                        "test": [
                          0.9254937163,
                          0.1994237997
                        ],
                        "passed_time": 5.914541834,
                        "iteration": 114,
                        "remaining_time": 45.51625672,
                        "learn": [
                          0.9528361396,
                          0.1329833091
                        ]
                      },
                      {
                        "test": [
                          0.9254937163,
                          0.1993620408
                        ],
                        "passed_time": 5.959815427,
                        "iteration": 115,
                        "remaining_time": 45.41790377,
                        "learn": [
                          0.9530302295,
                          0.1327262291
                        ]
                      },
                      {
                        "test": [
                          0.9252692998,
                          0.1993133075
                        ],
                        "passed_time": 6.007420142,
                        "iteration": 116,
                        "remaining_time": 45.33805115,
                        "learn": [
                          0.952981707,
                          0.1326329016
                        ]
                      },
                      {
                        "test": [
                          0.9254937163,
                          0.1994177721
                        ],
                        "passed_time": 6.05676068,
                        "iteration": 117,
                        "remaining_time": 45.27171966,
                        "learn": [
                          0.9532243195,
                          0.1322653074
                        ]
                      },
                      {
                        "test": [
                          0.9257181329,
                          0.1992612763
                        ],
                        "passed_time": 6.107803254,
                        "iteration": 118,
                        "remaining_time": 45.21827451,
                        "learn": [
                          0.9533698869,
                          0.1319681944
                        ]
                      },
                      {
                        "test": [
                          0.9261669659,
                          0.1992076482
                        ],
                        "passed_time": 6.156147888,
                        "iteration": 119,
                        "remaining_time": 45.14508451,
                        "learn": [
                          0.9534669319,
                          0.131768725
                        ]
                      },
                      {
                        "test": [
                          0.9263913824,
                          0.1992543125
                        ],
                        "passed_time": 6.209722361,
                        "iteration": 120,
                        "remaining_time": 45.11029715,
                        "learn": [
                          0.9535639769,
                          0.1314565138
                        ]
                      },
                      {
                        "test": [
                          0.9261669659,
                          0.199428564
                        ],
                        "passed_time": 6.259141561,
                        "iteration": 121,
                        "remaining_time": 45.04529747,
                        "learn": [
                          0.9536124994,
                          0.1311653028
                        ]
                      },
                      {
                        "test": [
                          0.9263913824,
                          0.1993991036
                        ],
                        "passed_time": 6.307767337,
                        "iteration": 122,
                        "remaining_time": 44.97489394,
                        "learn": [
                          0.9535154544,
                          0.1308426277
                        ]
                      },
                      {
                        "test": [
                          0.9259425494,
                          0.1993175179
                        ],
                        "passed_time": 6.360835974,
                        "iteration": 123,
                        "remaining_time": 44.93622833,
                        "learn": [
                          0.9540006793,
                          0.1304257567
                        ]
                      },
                      {
                        "test": [
                          0.9259425494,
                          0.1991577472
                        ],
                        "passed_time": 6.410753375,
                        "iteration": 124,
                        "remaining_time": 44.87527362,
                        "learn": [
                          0.9546799942,
                          0.1298253498
                        ]
                      },
                      {
                        "test": [
                          0.9263913824,
                          0.1991111402
                        ],
                        "passed_time": 6.458862084,
                        "iteration": 125,
                        "remaining_time": 44.80194811,
                        "learn": [
                          0.9543888592,
                          0.1295574066
                        ]
                      },
                      {
                        "test": [
                          0.9261669659,
                          0.1990444465
                        ],
                        "passed_time": 6.508430858,
                        "iteration": 126,
                        "remaining_time": 44.73905622,
                        "learn": [
                          0.9546314717,
                          0.1291902144
                        ]
                      },
                      {
                        "test": [
                          0.9263913824,
                          0.1989759556
                        ],
                        "passed_time": 6.556639043,
                        "iteration": 127,
                        "remaining_time": 44.66710348,
                        "learn": [
                          0.9546799942,
                          0.1289087459
                        ]
                      },
                      {
                        "test": [
                          0.9261669659,
                          0.1988296517
                        ],
                        "passed_time": 6.599007022,
                        "iteration": 128,
                        "remaining_time": 44.55608617,
                        "learn": [
                          0.9548255616,
                          0.1288000181
                        ]
                      },
                      {
                        "test": [
                          0.9259425494,
                          0.1988787069
                        ],
                        "passed_time": 6.643296746,
                        "iteration": 129,
                        "remaining_time": 44.45898591,
                        "learn": [
                          0.9547285167,
                          0.1284776133
                        ]
                      },
                      {
                        "test": [
                          0.9250448833,
                          0.1990402805
                        ],
                        "passed_time": 6.695880792,
                        "iteration": 130,
                        "remaining_time": 44.41771304,
                        "learn": [
                          0.9548740841,
                          0.1280191556
                        ]
                      },
                      {
                        "test": [
                          0.9252692998,
                          0.1990335787
                        ],
                        "passed_time": 6.750950986,
                        "iteration": 131,
                        "remaining_time": 44.39261709,
                        "learn": [
                          0.9550681741,
                          0.1277958283
                        ]
                      },
                      {
                        "test": [
                          0.9252692998,
                          0.1991942221
                        ],
                        "passed_time": 6.808080438,
                        "iteration": 132,
                        "remaining_time": 44.38049428,
                        "learn": [
                          0.9552622641,
                          0.1275646676
                        ]
                      },
                      {
                        "test": [
                          0.9252692998,
                          0.1990611005
                        ],
                        "passed_time": 6.851923524,
                        "iteration": 133,
                        "remaining_time": 44.28183412,
                        "learn": [
                          0.9551652191,
                          0.1274271517
                        ]
                      },
                      {
                        "test": [
                          0.9250448833,
                          0.1991623525
                        ],
                        "passed_time": 6.918511939,
                        "iteration": 134,
                        "remaining_time": 44.32972465,
                        "learn": [
                          0.9550196516,
                          0.1270836263
                        ]
                      },
                      {
                        "test": [
                          0.9245960503,
                          0.1991278966
                        ],
                        "passed_time": 6.971667123,
                        "iteration": 135,
                        "remaining_time": 44.29059113,
                        "learn": [
                          0.9552137416,
                          0.1268191754
                        ]
                      },
                      {
                        "test": [
                          0.9248204668,
                          0.1991126249
                        ],
                        "passed_time": 7.016389973,
                        "iteration": 136,
                        "remaining_time": 44.19813537,
                        "learn": [
                          0.9552137416,
                          0.1266176352
                        ]
                      },
                      {
                        "test": [
                          0.9248204668,
                          0.1990615542
                        ],
                        "passed_time": 7.059193615,
                        "iteration": 137,
                        "remaining_time": 44.0943833,
                        "learn": [
                          0.955456354,
                          0.1264190927
                        ]
                      },
                      {
                        "test": [
                          0.9248204668,
                          0.198894542
                        ],
                        "passed_time": 7.106124542,
                        "iteration": 138,
                        "remaining_time": 44.0170736,
                        "learn": [
                          0.955747489,
                          0.1262298939
                        ]
                      },
                      {
                        "test": [
                          0.9245960503,
                          0.198404017
                        ],
                        "passed_time": 7.157278355,
                        "iteration": 139,
                        "remaining_time": 43.96613847,
                        "learn": [
                          0.9560871464,
                          0.1257517518
                        ]
                      },
                      {
                        "test": [
                          0.9252692998,
                          0.198275746
                        ],
                        "passed_time": 7.208426393,
                        "iteration": 140,
                        "remaining_time": 43.91516505,
                        "learn": [
                          0.9561356689,
                          0.1255812839
                        ]
                      },
                      {
                        "test": [
                          0.9250448833,
                          0.1982431459
                        ],
                        "passed_time": 7.260286963,
                        "iteration": 141,
                        "remaining_time": 43.86849446,
                        "learn": [
                          0.9564268038,
                          0.1252981383
                        ]
                      },
                      {
                        "test": [
                          0.9252692998,
                          0.1981530193
                        ],
                        "passed_time": 7.313244056,
                        "iteration": 142,
                        "remaining_time": 43.82832277,
                        "learn": [
                          0.9565723713,
                          0.1251800415
                        ]
                      },
                      {
                        "test": [
                          0.9257181329,
                          0.1977021288
                        ],
                        "passed_time": 7.363510255,
                        "iteration": 143,
                        "remaining_time": 43.77197763,
                        "learn": [
                          0.9567179388,
                          0.1246313874
                        ]
                      },
                      {
                        "test": [
                          0.9259425494,
                          0.1973153671
                        ],
                        "passed_time": 7.416909901,
                        "iteration": 144,
                        "remaining_time": 43.73419286,
                        "learn": [
                          0.9566694163,
                          0.1241905608
                        ]
                      },
                      {
                        "test": [
                          0.9263913824,
                          0.1972514456
                        ],
                        "passed_time": 7.463935026,
                        "iteration": 145,
                        "remaining_time": 43.65890762,
                        "learn": [
                          0.9567179388,
                          0.1239697216
                        ]
                      },
                      {
                        "test": [
                          0.9266157989,
                          0.1975101527
                        ],
                        "passed_time": 7.511042758,
                        "iteration": 146,
                        "remaining_time": 43.58448621,
                        "learn": [
                          0.9569605512,
                          0.1237548552
                        ]
                      },
                      {
                        "test": [
                          0.9263913824,
                          0.1973619168
                        ],
                        "passed_time": 7.56020423,
                        "iteration": 147,
                        "remaining_time": 43.52225678,
                        "learn": [
                          0.9573487311,
                          0.1233496677
                        ]
                      },
                      {
                        "test": [
                          0.9266157989,
                          0.1973160292
                        ],
                        "passed_time": 7.613468195,
                        "iteration": 148,
                        "remaining_time": 43.48363378,
                        "learn": [
                          0.9573487311,
                          0.1232164761
                        ]
                      },
                      {
                        "test": [
                          0.9259425494,
                          0.1973850629
                        ],
                        "passed_time": 7.661695532,
                        "iteration": 149,
                        "remaining_time": 43.41627468,
                        "learn": [
                          0.9573972536,
                          0.1229862407
                        ]
                      },
                      {
                        "test": [
                          0.9263913824,
                          0.1971051273
                        ],
                        "passed_time": 7.70896191,
                        "iteration": 150,
                        "remaining_time": 43.34376597,
                        "learn": [
                          0.9573972536,
                          0.1226534422
                        ]
                      },
                      {
                        "test": [
                          0.9263913824,
                          0.1968926543
                        ],
                        "passed_time": 7.757953039,
                        "iteration": 151,
                        "remaining_time": 43.28121169,
                        "learn": [
                          0.9574942986,
                          0.1224823254
                        ]
                      },
                      {
                        "test": [
                          0.9266157989,
                          0.196732993
                        ],
                        "passed_time": 7.819705161,
                        "iteration": 152,
                        "remaining_time": 43.2894789,
                        "learn": [
                          0.9574457761,
                          0.1222483937
                        ]
                      },
                      {
                        "test": [
                          0.927064632,
                          0.1961888317
                        ],
                        "passed_time": 7.872866441,
                        "iteration": 153,
                        "remaining_time": 43.24964291,
                        "learn": [
                          0.9577854335,
                          0.1216845897
                        ]
                      },
                      {
                        "test": [
                          0.9266157989,
                          0.1960278157
                        ],
                        "passed_time": 7.943063343,
                        "iteration": 154,
                        "remaining_time": 43.30250661,
                        "learn": [
                          0.9579795235,
                          0.1214615263
                        ]
                      },
                      {
                        "test": [
                          0.9266157989,
                          0.1960347025
                        ],
                        "passed_time": 7.9925675,
                        "iteration": 155,
                        "remaining_time": 43.24183955,
                        "learn": [
                          0.958125091,
                          0.1212970283
                        ]
                      },
                      {
                        "test": [
                          0.927064632,
                          0.1959016992
                        ],
                        "passed_time": 8.039449164,
                        "iteration": 156,
                        "remaining_time": 43.16723341,
                        "learn": [
                          0.958222136,
                          0.1210280182
                        ]
                      },
                      {
                        "test": [
                          0.9268402154,
                          0.1958666221
                        ],
                        "passed_time": 8.088170962,
                        "iteration": 157,
                        "remaining_time": 43.1027845,
                        "learn": [
                          0.9584162259,
                          0.120854221
                        ]
                      },
                      {
                        "test": [
                          0.9268402154,
                          0.195827534
                        ],
                        "passed_time": 8.135928557,
                        "iteration": 158,
                        "remaining_time": 43.03343344,
                        "learn": [
                          0.9585132709,
                          0.120532341
                        ]
                      },
                      {
                        "test": [
                          0.9268402154,
                          0.1956802246
                        ],
                        "passed_time": 8.183715103,
                        "iteration": 159,
                        "remaining_time": 42.96450429,
                        "learn": [
                          0.9585617934,
                          0.1202259219
                        ]
                      },
                      {
                        "test": [
                          0.9272890485,
                          0.1956640209
                        ],
                        "passed_time": 8.233064359,
                        "iteration": 160,
                        "remaining_time": 42.90398135,
                        "learn": [
                          0.9586588384,
                          0.1199436184
                        ]
                      },
                      {
                        "test": [
                          0.9272890485,
                          0.19555878
                        ],
                        "passed_time": 8.280365555,
                        "iteration": 161,
                        "remaining_time": 42.83300207,
                        "learn": [
                          0.9588529283,
                          0.1197495179
                        ]
                      },
                      {
                        "test": [
                          0.9272890485,
                          0.1955919492
                        ],
                        "passed_time": 8.330730318,
                        "iteration": 162,
                        "remaining_time": 42.77804464,
                        "learn": [
                          0.9589014508,
                          0.1196230085
                        ]
                      },
                      {
                        "test": [
                          0.9268402154,
                          0.195710651
                        ],
                        "passed_time": 8.374869393,
                        "iteration": 163,
                        "remaining_time": 42.69140739,
                        "learn": [
                          0.9586588384,
                          0.119453515
                        ]
                      },
                      {
                        "test": [
                          0.9266157989,
                          0.1957812946
                        ],
                        "passed_time": 8.423146487,
                        "iteration": 164,
                        "remaining_time": 42.62622616,
                        "learn": [
                          0.9588529283,
                          0.1192463214
                        ]
                      },
                      {
                        "test": [
                          0.9266157989,
                          0.1957200898
                        ],
                        "passed_time": 8.474663571,
                        "iteration": 165,
                        "remaining_time": 42.57752662,
                        "learn": [
                          0.9586588384,
                          0.1190522086
                        ]
                      },
                      {
                        "test": [
                          0.9266157989,
                          0.1955744748
                        ],
                        "passed_time": 8.519298833,
                        "iteration": 166,
                        "remaining_time": 42.49446663,
                        "learn": [
                          0.9589499733,
                          0.1186696946
                        ]
                      },
                      {
                        "test": [
                          0.9268402154,
                          0.1953645684
                        ],
                        "passed_time": 8.567460253,
                        "iteration": 167,
                        "remaining_time": 42.42932697,
                        "learn": [
                          0.9595807657,
                          0.1182732381
                        ]
                      },
                      {
                        "test": [
                          0.9268402154,
                          0.1954114159
                        ],
                        "passed_time": 8.623641533,
                        "iteration": 168,
                        "remaining_time": 42.40382316,
                        "learn": [
                          0.9597748556,
                          0.11792513
                        ]
                      },
                      {
                        "test": [
                          0.927064632,
                          0.1956284324
                        ],
                        "passed_time": 8.672224811,
                        "iteration": 169,
                        "remaining_time": 42.34086231,
                        "learn": [
                          0.9595322432,
                          0.1175814942
                        ]
                      },
                      {
                        "test": [
                          0.9266157989,
                          0.1956011152
                        ],
                        "passed_time": 8.719587495,
                        "iteration": 170,
                        "remaining_time": 42.27215224,
                        "learn": [
                          0.9601145131,
                          0.1173059793
                        ]
                      },
                      {
                        "test": [
                          0.9266157989,
                          0.1955034562
                        ],
                        "passed_time": 8.764882322,
                        "iteration": 171,
                        "remaining_time": 42.19373583,
                        "learn": [
                          0.9600174681,
                          0.1171240327
                        ]
                      },
                      {
                        "test": [
                          0.9259425494,
                          0.1955532154
                        ],
                        "passed_time": 8.823844908,
                        "iteration": 172,
                        "remaining_time": 42.18103895,
                        "learn": [
                          0.9599204231,
                          0.1168659529
                        ]
                      },
                      {
                        "test": [
                          0.9259425494,
                          0.1956285698
                        ],
                        "passed_time": 8.87632827,
                        "iteration": 173,
                        "remaining_time": 42.13705259,
                        "learn": [
                          0.9600174681,
                          0.1166362814
                        ]
                      },
                      {
                        "test": [
                          0.9261669659,
                          0.1956252563
                        ],
                        "passed_time": 8.940259605,
                        "iteration": 174,
                        "remaining_time": 42.14693814,
                        "learn": [
                          0.9600659906,
                          0.1164818787
                        ]
                      },
                      {
                        "test": [
                          0.9263913824,
                          0.1955821282
                        ],
                        "passed_time": 8.994662762,
                        "iteration": 175,
                        "remaining_time": 42.11137566,
                        "learn": [
                          0.9599204231,
                          0.1163524211
                        ]
                      },
                      {
                        "test": [
                          0.9263913824,
                          0.1955238694
                        ],
                        "passed_time": 9.041238704,
                        "iteration": 176,
                        "remaining_time": 42.03920595,
                        "learn": [
                          0.9599689456,
                          0.116270651
                        ]
                      },
                      {
                        "test": [
                          0.9266157989,
                          0.1956063104
                        ],
                        "passed_time": 9.089064908,
                        "iteration": 177,
                        "remaining_time": 41.9730975,
                        "learn": [
                          0.9598233781,
                          0.1161422612
                        ]
                      },
                      {
                        "test": [
                          0.9263913824,
                          0.1955970223
                        ],
                        "passed_time": 9.135797146,
                        "iteration": 178,
                        "remaining_time": 41.90217574,
                        "learn": [
                          0.9600174681,
                          0.1159784191
                        ]
                      },
                      {
                        "test": [
                          0.9263913824,
                          0.1955493823
                        ],
                        "passed_time": 9.182528673,
                        "iteration": 179,
                        "remaining_time": 41.83151951,
                        "learn": [
                          0.9600174681,
                          0.1157215105
                        ]
                      },
                      {
                        "test": [
                          0.9263913824,
                          0.1955705818
                        ],
                        "passed_time": 9.234778911,
                        "iteration": 180,
                        "remaining_time": 41.78609905,
                        "learn": [
                          0.9602115581,
                          0.1154704574
                        ]
                      },
                      {
                        "test": [
                          0.9261669659,
                          0.1956463048
                        ],
                        "passed_time": 9.279285078,
                        "iteration": 181,
                        "remaining_time": 41.70579777,
                        "learn": [
                          0.9603571255,
                          0.1152717215
                        ]
                      },
                      {
                        "test": [
                          0.9261669659,
                          0.1957663976
                        ],
                        "passed_time": 9.33002406,
                        "iteration": 182,
                        "remaining_time": 41.65371397,
                        "learn": [
                          0.9603571255,
                          0.1151118162
                        ]
                      },
                      {
                        "test": [
                          0.9261669659,
                          0.1957984497
                        ],
                        "passed_time": 9.37795632,
                        "iteration": 183,
                        "remaining_time": 41.58919759,
                        "learn": [
                          0.9605512155,
                          0.1148977239
                        ]
                      },
                      {
                        "test": [
                          0.9268402154,
                          0.1954154341
                        ],
                        "passed_time": 9.431750793,
                        "iteration": 184,
                        "remaining_time": 41.55068593,
                        "learn": [
                          0.9607453054,
                          0.1145593023
                        ]
                      },
                      {
                        "test": [
                          0.9268402154,
                          0.1953054521
                        ],
                        "passed_time": 9.485939473,
                        "iteration": 185,
                        "remaining_time": 41.51373511,
                        "learn": [
                          0.9608423504,
                          0.1142291308
                        ]
                      },
                      {
                        "test": [
                          0.9268402154,
                          0.1953999712
                        ],
                        "passed_time": 9.535828876,
                        "iteration": 186,
                        "remaining_time": 41.45790843,
                        "learn": [
                          0.9609393954,
                          0.1141333869
                        ]
                      },
                      {
                        "test": [
                          0.927513465,
                          0.1953283513
                        ],
                        "passed_time": 9.585191741,
                        "iteration": 187,
                        "remaining_time": 41.39987071,
                        "learn": [
                          0.9610364404,
                          0.1137507288
                        ]
                      },
                      {
                        "test": [
                          0.9272890485,
                          0.1952862392
                        ],
                        "passed_time": 9.6318856,
                        "iteration": 188,
                        "remaining_time": 41.33047207,
                        "learn": [
                          0.9610364404,
                          0.1136238473
                        ]
                      },
                      {
                        "test": [
                          0.9272890485,
                          0.1955295422
                        ],
                        "passed_time": 9.681221963,
                        "iteration": 189,
                        "remaining_time": 41.27257784,
                        "learn": [
                          0.9612305304,
                          0.113497744
                        ]
                      },
                      {
                        "test": [
                          0.927064632,
                          0.1953864239
                        ],
                        "passed_time": 9.729491946,
                        "iteration": 190,
                        "remaining_time": 41.21025646,
                        "learn": [
                          0.9612790528,
                          0.113258344
                        ]
                      },
                      {
                        "test": [
                          0.9272890485,
                          0.1953026528
                        ],
                        "passed_time": 9.774271597,
                        "iteration": 191,
                        "remaining_time": 41.13339297,
                        "learn": [
                          0.9613760978,
                          0.1131154372
                        ]
                      },
                      {
                        "test": [
                          0.9272890485,
                          0.1952097338
                        ],
                        "passed_time": 9.819514972,
                        "iteration": 192,
                        "remaining_time": 41.05880095,
                        "learn": [
                          0.9613760978,
                          0.1129940747
                        ]
                      },
                      {
                        "test": [
                          0.927513465,
                          0.1950570735
                        ],
                        "passed_time": 9.879690335,
                        "iteration": 193,
                        "remaining_time": 41.04654851,
                        "learn": [
                          0.9614731428,
                          0.1126296264
                        ]
                      },
                      {
                        "test": [
                          0.927513465,
                          0.1949887673
                        ],
                        "passed_time": 9.927718166,
                        "iteration": 194,
                        "remaining_time": 40.98365704,
                        "learn": [
                          0.9616187103,
                          0.1123896913
                        ]
                      },
                      {
                        "test": [
                          0.9272890485,
                          0.1948840513
                        ],
                        "passed_time": 10.00934606,
                        "iteration": 195,
                        "remaining_time": 41.05874606,
                        "learn": [
                          0.9619583677,
                          0.1121581957
                        ]
                      },
                      {
                        "test": [
                          0.9272890485,
                          0.1948759464
                        ],
                        "passed_time": 10.05756787,
                        "iteration": 196,
                        "remaining_time": 40.99607615,
                        "learn": [
                          0.9620068902,
                          0.112047353
                        ]
                      },
                      {
                        "test": [
                          0.9268402154,
                          0.1948593919
                        ],
                        "passed_time": 10.10491954,
                        "iteration": 197,
                        "remaining_time": 40.93002763,
                        "learn": [
                          0.9618613227,
                          0.1119061518
                        ]
                      },
                      {
                        "test": [
                          0.9272890485,
                          0.194789038
                        ],
                        "passed_time": 10.154069,
                        "iteration": 198,
                        "remaining_time": 40.87140335,
                        "learn": [
                          0.9618613227,
                          0.1117479564
                        ]
                      },
                      {
                        "test": [
                          0.9266157989,
                          0.1948784954
                        ],
                        "passed_time": 10.20145679,
                        "iteration": 199,
                        "remaining_time": 40.80582716,
                        "learn": [
                          0.9617642777,
                          0.1114590875
                        ]
                      },
                      {
                        "test": [
                          0.9268402154,
                          0.1949270772
                        ],
                        "passed_time": 10.24691062,
                        "iteration": 200,
                        "remaining_time": 40.73274421,
                        "learn": [
                          0.9620068902,
                          0.1113649789
                        ]
                      },
                      {
                        "test": [
                          0.9268402154,
                          0.1948504452
                        ],
                        "passed_time": 10.30167398,
                        "iteration": 201,
                        "remaining_time": 40.69671207,
                        "learn": [
                          0.9621524577,
                          0.1112746261
                        ]
                      },
                      {
                        "test": [
                          0.9272890485,
                          0.1947225439
                        ],
                        "passed_time": 10.35316426,
                        "iteration": 202,
                        "remaining_time": 40.64764489,
                        "learn": [
                          0.9618613227,
                          0.110977444
                        ]
                      },
                      {
                        "test": [
                          0.9268402154,
                          0.1947089864
                        ],
                        "passed_time": 10.40040055,
                        "iteration": 203,
                        "remaining_time": 40.58195509,
                        "learn": [
                          0.9623465476,
                          0.110743852
                        ]
                      },
                      {
                        "test": [
                          0.927064632,
                          0.1946398119
                        ],
                        "passed_time": 10.44817488,
                        "iteration": 204,
                        "remaining_time": 40.51853183,
                        "learn": [
                          0.9623950701,
                          0.1106556416
                        ]
                      },
                      {
                        "test": [
                          0.927064632,
                          0.1945761772
                        ],
                        "passed_time": 10.50138101,
                        "iteration": 205,
                        "remaining_time": 40.47619673,
                        "learn": [
                          0.9624435926,
                          0.110503982
                        ]
                      },
                      {
                        "test": [
                          0.927064632,
                          0.1943754523
                        ],
                        "passed_time": 10.5565221,
                        "iteration": 206,
                        "remaining_time": 40.44116921,
                        "learn": [
                          0.9625406376,
                          0.1102399444
                        ]
                      },
                      {
                        "test": [
                          0.9268402154,
                          0.1942902884
                        ],
                        "passed_time": 10.61802168,
                        "iteration": 207,
                        "remaining_time": 40.43015949,
                        "learn": [
                          0.9626862051,
                          0.1098089588
                        ]
                      },
                      {
                        "test": [
                          0.927064632,
                          0.194260664
                        ],
                        "passed_time": 10.66274558,
                        "iteration": 208,
                        "remaining_time": 40.35517584,
                        "learn": [
                          0.9626376826,
                          0.1097177099
                        ]
                      },
                      {
                        "test": [
                          0.9272890485,
                          0.1944306452
                        ],
                        "passed_time": 10.70894242,
                        "iteration": 209,
                        "remaining_time": 40.28602147,
                        "learn": [
                          0.9626376826,
                          0.1095401622
                        ]
                      },
                      {
                        "test": [
                          0.927064632,
                          0.1945159754
                        ],
                        "passed_time": 10.75510537,
                        "iteration": 210,
                        "remaining_time": 40.21695799,
                        "learn": [
                          0.9626376826,
                          0.1094096033
                        ]
                      },
                      {
                        "test": [
                          0.9266157989,
                          0.1945230425
                        ],
                        "passed_time": 10.80277664,
                        "iteration": 211,
                        "remaining_time": 40.15371695,
                        "learn": [
                          0.96317143,
                          0.1091720121
                        ]
                      },
                      {
                        "test": [
                          0.9268402154,
                          0.1946092541
                        ],
                        "passed_time": 10.85485749,
                        "iteration": 212,
                        "remaining_time": 40.10691476,
                        "learn": [
                          0.9633655199,
                          0.1089144372
                        ]
                      },
                      {
                        "test": [
                          0.9266157989,
                          0.1945895644
                        ],
                        "passed_time": 10.90626153,
                        "iteration": 213,
                        "remaining_time": 40.05757739,
                        "learn": [
                          0.9633169974,
                          0.1088433052
                        ]
                      },
                      {
                        "test": [
                          0.9268402154,
                          0.1945262144
                        ],
                        "passed_time": 10.95460003,
                        "iteration": 214,
                        "remaining_time": 39.99702803,
                        "learn": [
                          0.9634625649,
                          0.1086589135
                        ]
                      },
                      {
                        "test": [
                          0.9266157989,
                          0.1946302026
                        ],
                        "passed_time": 11.02474728,
                        "iteration": 215,
                        "remaining_time": 40.01574938,
                        "learn": [
                          0.9636566549,
                          0.1085004
                        ]
                      },
                      {
                        "test": [
                          0.9266157989,
                          0.1945878674
                        ],
                        "passed_time": 11.07302085,
                        "iteration": 216,
                        "remaining_time": 39.95472499,
                        "learn": [
                          0.9636566549,
                          0.1084241822
                        ]
                      },
                      {
                        "test": [
                          0.9266157989,
                          0.1945617344
                        ],
                        "passed_time": 11.12242318,
                        "iteration": 217,
                        "remaining_time": 39.89786665,
                        "learn": [
                          0.9636566549,
                          0.1083643901
                        ]
                      },
                      {
                        "test": [
                          0.9266157989,
                          0.1944511499
                        ],
                        "passed_time": 11.16952414,
                        "iteration": 218,
                        "remaining_time": 39.83286918,
                        "learn": [
                          0.9638992673,
                          0.1081551711
                        ]
                      },
                      {
                        "test": [
                          0.9266157989,
                          0.194451667
                        ],
                        "passed_time": 11.2141789,
                        "iteration": 219,
                        "remaining_time": 39.75936157,
                        "learn": [
                          0.9638507448,
                          0.1079776586
                        ]
                      },
                      {
                        "test": [
                          0.9266157989,
                          0.1943600874
                        ],
                        "passed_time": 11.26365217,
                        "iteration": 220,
                        "remaining_time": 39.70309973,
                        "learn": [
                          0.9639963123,
                          0.1077690894
                        ]
                      },
                      {
                        "test": [
                          0.9268402154,
                          0.1943464044
                        ],
                        "passed_time": 11.31205373,
                        "iteration": 221,
                        "remaining_time": 39.64314326,
                        "learn": [
                          0.9638992673,
                          0.1077227903
                        ]
                      },
                      {
                        "test": [
                          0.9268402154,
                          0.1944153784
                        ],
                        "passed_time": 11.3580251,
                        "iteration": 222,
                        "remaining_time": 39.57482287,
                        "learn": [
                          0.9637051773,
                          0.1076213773
                        ]
                      },
                      {
                        "test": [
                          0.9268402154,
                          0.1945373437
                        ],
                        "passed_time": 11.40201983,
                        "iteration": 223,
                        "remaining_time": 39.49985441,
                        "learn": [
                          0.9639477898,
                          0.1074930492
                        ]
                      },
                      {
                        "test": [
                          0.927064632,
                          0.1945428898
                        ],
                        "passed_time": 11.45146813,
                        "iteration": 224,
                        "remaining_time": 39.44394577,
                        "learn": [
                          0.9642874472,
                          0.1072484945
                        ]
                      },
                      {
                        "test": [
                          0.927064632,
                          0.1945257587
                        ],
                        "passed_time": 11.50041183,
                        "iteration": 225,
                        "remaining_time": 39.38636618,
                        "learn": [
                          0.9644330147,
                          0.1071053513
                        ]
                      },
                      {
                        "test": [
                          0.9268402154,
                          0.1944956698
                        ],
                        "passed_time": 11.54727879,
                        "iteration": 226,
                        "remaining_time": 39.32179076,
                        "learn": [
                          0.9645785822,
                          0.1068896318
                        ]
                      },
                      {
                        "test": [
                          0.927064632,
                          0.1945516108
                        ],
                        "passed_time": 11.59128396,
                        "iteration": 227,
                        "remaining_time": 39.24768078,
                        "learn": [
                          0.9645300597,
                          0.1067507717
                        ]
                      },
                      {
                        "test": [
                          0.927064632,
                          0.1946185644
                        ],
                        "passed_time": 11.63714119,
                        "iteration": 228,
                        "remaining_time": 39.18006926,
                        "learn": [
                          0.9647726721,
                          0.1065242686
                        ]
                      },
                      {
                        "test": [
                          0.927064632,
                          0.1946429161
                        ],
                        "passed_time": 11.6873631,
                        "iteration": 229,
                        "remaining_time": 39.12725907,
                        "learn": [
                          0.9647726721,
                          0.1062944074
                        ]
                      },
                      {
                        "test": [
                          0.9268402154,
                          0.1945424176
                        ],
                        "passed_time": 11.73777304,
                        "iteration": 230,
                        "remaining_time": 39.07509725,
                        "learn": [
                          0.9649667621,
                          0.1061330406
                        ]
                      },
                      {
                        "test": [
                          0.927064632,
                          0.1944871414
                        ],
                        "passed_time": 11.79285854,
                        "iteration": 231,
                        "remaining_time": 39.03842827,
                        "learn": [
                          0.9648211946,
                          0.1059099338
                        ]
                      },
                      {
                        "test": [
                          0.9272890485,
                          0.1945405115
                        ],
                        "passed_time": 11.83798835,
                        "iteration": 232,
                        "remaining_time": 38.96882862,
                        "learn": [
                          0.9648211946,
                          0.1056833869
                        ]
                      },
                      {
                        "test": [
                          0.927962298,
                          0.1945534975
                        ],
                        "passed_time": 11.89658615,
                        "iteration": 233,
                        "remaining_time": 38.94352561,
                        "learn": [
                          0.9649182396,
                          0.1055268085
                        ]
                      },
                      {
                        "test": [
                          0.927962298,
                          0.1943107913
                        ],
                        "passed_time": 11.94349794,
                        "iteration": 234,
                        "remaining_time": 38.87989755,
                        "learn": [
                          0.965451987,
                          0.1052380316
                        ]
                      },
                      {
                        "test": [
                          0.9284111311,
                          0.1944010098
                        ],
                        "passed_time": 12.00936549,
                        "iteration": 235,
                        "remaining_time": 38.87777641,
                        "learn": [
                          0.965451987,
                          0.1050187378
                        ]
                      },
                      {
                        "test": [
                          0.927962298,
                          0.1945711186
                        ],
                        "passed_time": 12.07564432,
                        "iteration": 236,
                        "remaining_time": 38.87644142,
                        "learn": [
                          0.9653064195,
                          0.1048230292
                        ]
                      },
                      {
                        "test": [
                          0.927962298,
                          0.194515912
                        ],
                        "passed_time": 12.12769495,
                        "iteration": 237,
                        "remaining_time": 38.82900651,
                        "learn": [
                          0.9655005095,
                          0.1045226432
                        ]
                      },
                      {
                        "test": [
                          0.927513465,
                          0.1946596422
                        ],
                        "passed_time": 12.17308269,
                        "iteration": 238,
                        "remaining_time": 38.7603177,
                        "learn": [
                          0.965257897,
                          0.1043382104
                        ]
                      },
                      {
                        "test": [
                          0.927513465,
                          0.1945416356
                        ],
                        "passed_time": 12.2218909,
                        "iteration": 239,
                        "remaining_time": 38.70265451,
                        "learn": [
                          0.9654034645,
                          0.1042592091
                        ]
                      },
                      {
                        "test": [
                          0.927962298,
                          0.1944974916
                        ],
                        "passed_time": 12.26697103,
                        "iteration": 240,
                        "remaining_time": 38.6333237,
                        "learn": [
                          0.965451987,
                          0.1040455607
                        ]
                      },
                      {
                        "test": [
                          0.9277378815,
                          0.1945209111
                        ],
                        "passed_time": 12.32391548,
                        "iteration": 241,
                        "remaining_time": 38.60135509,
                        "learn": [
                          0.9658401669,
                          0.1037356932
                        ]
                      },
                      {
                        "test": [
                          0.927962298,
                          0.1944571332
                        ],
                        "passed_time": 12.37810677,
                        "iteration": 242,
                        "remaining_time": 38.56060422,
                        "learn": [
                          0.9658886894,
                          0.1035579097
                        ]
                      },
                      {
                        "test": [
                          0.9277378815,
                          0.1944689207
                        ],
                        "passed_time": 12.43302173,
                        "iteration": 243,
                        "remaining_time": 38.52198535,
                        "learn": [
                          0.9659372119,
                          0.1033716915
                        ]
                      },
                      {
                        "test": [
                          0.927962298,
                          0.1944637723
                        ],
                        "passed_time": 12.48024548,
                        "iteration": 244,
                        "remaining_time": 38.45953199,
                        "learn": [
                          0.9659372119,
                          0.1031811002
                        ]
                      },
                      {
                        "test": [
                          0.927513465,
                          0.1944745327
                        ],
                        "passed_time": 12.5289265,
                        "iteration": 245,
                        "remaining_time": 38.40166901,
                        "learn": [
                          0.9658886894,
                          0.1029821349
                        ]
                      },
                      {
                        "test": [
                          0.9277378815,
                          0.1944027147
                        ],
                        "passed_time": 12.5766762,
                        "iteration": 246,
                        "remaining_time": 38.3410412,
                        "learn": [
                          0.9660827794,
                          0.1028893361
                        ]
                      },
                      {
                        "test": [
                          0.9277378815,
                          0.1942776433
                        ],
                        "passed_time": 12.621285,
                        "iteration": 247,
                        "remaining_time": 38.27099324,
                        "learn": [
                          0.9661798243,
                          0.1027801002
                        ]
                      },
                      {
                        "test": [
                          0.9277378815,
                          0.1943639686
                        ],
                        "passed_time": 12.66627331,
                        "iteration": 248,
                        "remaining_time": 38.20229421,
                        "learn": [
                          0.9662768693,
                          0.1026360921
                        ]
                      },
                      {
                        "test": [
                          0.9281867145,
                          0.1942210132
                        ],
                        "passed_time": 12.7159985,
                        "iteration": 249,
                        "remaining_time": 38.1479955,
                        "learn": [
                          0.9667135717,
                          0.1023959053
                        ]
                      },
                      {
                        "test": [
                          0.9284111311,
                          0.19422965
                        ],
                        "passed_time": 12.7660844,
                        "iteration": 250,
                        "remaining_time": 38.09480963,
                        "learn": [
                          0.9671502742,
                          0.1021547675
                        ]
                      },
                      {
                        "test": [
                          0.9286355476,
                          0.1942442235
                        ],
                        "passed_time": 12.81070782,
                        "iteration": 251,
                        "remaining_time": 38.02543433,
                        "learn": [
                          0.9672958416,
                          0.1020293428
                        ]
                      },
                      {
                        "test": [
                          0.927962298,
                          0.1941372873
                        ],
                        "passed_time": 12.85836129,
                        "iteration": 252,
                        "remaining_time": 37.96520112,
                        "learn": [
                          0.9672473191,
                          0.1018742742
                        ]
                      },
                      {
                        "test": [
                          0.9277378815,
                          0.1940831594
                        ],
                        "passed_time": 12.91657267,
                        "iteration": 253,
                        "remaining_time": 37.93607565,
                        "learn": [
                          0.9673443641,
                          0.10170138
                        ]
                      },
                      {
                        "test": [
                          0.9277378815,
                          0.194001096
                        ],
                        "passed_time": 12.96619927,
                        "iteration": 254,
                        "remaining_time": 37.88164099,
                        "learn": [
                          0.9673443641,
                          0.101550426
                        ]
                      },
                      {
                        "test": [
                          0.927962298,
                          0.1940289956
                        ],
                        "passed_time": 13.02909791,
                        "iteration": 255,
                        "remaining_time": 37.86581581,
                        "learn": [
                          0.9672958416,
                          0.1014735757
                        ]
                      },
                      {
                        "test": [
                          0.927962298,
                          0.1939077519
                        ],
                        "passed_time": 13.09165876,
                        "iteration": 256,
                        "remaining_time": 37.8486477,
                        "learn": [
                          0.9671987966,
                          0.1013035424
                        ]
                      },
                      {
                        "test": [
                          0.927962298,
                          0.1938624523
                        ],
                        "passed_time": 13.14086516,
                        "iteration": 257,
                        "remaining_time": 37.79272074,
                        "learn": [
                          0.9674414091,
                          0.1011624638
                        ]
                      },
                      {
                        "test": [
                          0.9281867145,
                          0.193878035
                        ],
                        "passed_time": 13.18536353,
                        "iteration": 258,
                        "remaining_time": 37.72337596,
                        "learn": [
                          0.9674899316,
                          0.1009413242
                        ]
                      },
                      {
                        "test": [
                          0.9281867145,
                          0.1938388038
                        ],
                        "passed_time": 13.23655367,
                        "iteration": 259,
                        "remaining_time": 37.67326813,
                        "learn": [
                          0.9676354991,
                          0.1006733849
                        ]
                      },
                      {
                        "test": [
                          0.9281867145,
                          0.1938375945
                        ],
                        "passed_time": 13.28570345,
                        "iteration": 260,
                        "remaining_time": 37.6173749,
                        "learn": [
                          0.9678781115,
                          0.1005180438
                        ]
                      },
                      {
                        "test": [
                          0.9277378815,
                          0.1937325021
                        ],
                        "passed_time": 13.33496005,
                        "iteration": 261,
                        "remaining_time": 37.56183402,
                        "learn": [
                          0.967926634,
                          0.1002981937
                        ]
                      },
                      {
                        "test": [
                          0.9277378815,
                          0.1937758469
                        ],
                        "passed_time": 13.38558829,
                        "iteration": 262,
                        "remaining_time": 37.51018468,
                        "learn": [
                          0.9680722015,
                          0.1000307762
                        ]
                      },
                      {
                        "test": [
                          0.9277378815,
                          0.193760946
                        ],
                        "passed_time": 13.43364213,
                        "iteration": 263,
                        "remaining_time": 37.45136593,
                        "learn": [
                          0.9680722015,
                          0.09991139204
                        ]
                      },
                      {
                        "test": [
                          0.927962298,
                          0.1938140966
                        ],
                        "passed_time": 13.48713684,
                        "iteration": 264,
                        "remaining_time": 37.40771916,
                        "learn": [
                          0.9678781115,
                          0.09981946315
                        ]
                      },
                      {
                        "test": [
                          0.9277378815,
                          0.1938331961
                        ],
                        "passed_time": 13.53850333,
                        "iteration": 265,
                        "remaining_time": 37.35812572,
                        "learn": [
                          0.967829589,
                          0.09970096736
                        ]
                      },
                      {
                        "test": [
                          0.927962298,
                          0.193973857
                        ],
                        "passed_time": 13.58837795,
                        "iteration": 266,
                        "remaining_time": 37.30442336,
                        "learn": [
                          0.9679751565,
                          0.09955378879
                        ]
                      },
                      {
                        "test": [
                          0.9281867145,
                          0.1939687581
                        ],
                        "passed_time": 13.63697775,
                        "iteration": 267,
                        "remaining_time": 37.24726758,
                        "learn": [
                          0.9678781115,
                          0.09944980591
                        ]
                      },
                      {
                        "test": [
                          0.9284111311,
                          0.1939522985
                        ],
                        "passed_time": 13.68520671,
                        "iteration": 268,
                        "remaining_time": 37.18916767,
                        "learn": [
                          0.9678781115,
                          0.0993532
                        ]
                      },
                      {
                        "test": [
                          0.9284111311,
                          0.1939472543
                        ],
                        "passed_time": 13.73102356,
                        "iteration": 269,
                        "remaining_time": 37.12461926,
                        "learn": [
                          0.9679751565,
                          0.09920102939
                        ]
                      },
                      {
                        "test": [
                          0.927962298,
                          0.193739908
                        ],
                        "passed_time": 13.7817014,
                        "iteration": 270,
                        "remaining_time": 37.07328532,
                        "learn": [
                          0.967829589,
                          0.09892368692
                        ]
                      },
                      {
                        "test": [
                          0.9281867145,
                          0.1937179285
                        ],
                        "passed_time": 13.83634552,
                        "iteration": 271,
                        "remaining_time": 37.03257184,
                        "learn": [
                          0.9680722015,
                          0.09863510307
                        ]
                      },
                      {
                        "test": [
                          0.9281867145,
                          0.1938130747
                        ],
                        "passed_time": 13.8819952,
                        "iteration": 272,
                        "remaining_time": 36.96780407,
                        "learn": [
                          0.9680722015,
                          0.09852036163
                        ]
                      },
                      {
                        "test": [
                          0.9288599641,
                          0.1938701859
                        ],
                        "passed_time": 13.94028577,
                        "iteration": 273,
                        "remaining_time": 36.93666959,
                        "learn": [
                          0.968120724,
                          0.09831119261
                        ]
                      },
                      {
                        "test": [
                          0.9288599641,
                          0.1939815197
                        ],
                        "passed_time": 13.99139679,
                        "iteration": 274,
                        "remaining_time": 36.88640971,
                        "learn": [
                          0.968023679,
                          0.09817328318
                        ]
                      },
                      {
                        "test": [
                          0.9284111311,
                          0.1939283946
                        ],
                        "passed_time": 14.05332152,
                        "iteration": 275,
                        "remaining_time": 36.86451007,
                        "learn": [
                          0.9681692464,
                          0.09786760535
                        ]
                      },
                      {
                        "test": [
                          0.9284111311,
                          0.1937385851
                        ],
                        "passed_time": 14.11759291,
                        "iteration": 276,
                        "remaining_time": 36.84844647,
                        "learn": [
                          0.9682662914,
                          0.0977209182
                        ]
                      },
                      {
                        "test": [
                          0.9286355476,
                          0.1937823161
                        ],
                        "passed_time": 14.17083009,
                        "iteration": 277,
                        "remaining_time": 36.80337886,
                        "learn": [
                          0.9684118589,
                          0.09756442927
                        ]
                      },
                      {
                        "test": [
                          0.9284111311,
                          0.19375339
                        ],
                        "passed_time": 14.23159765,
                        "iteration": 278,
                        "remaining_time": 36.77771291,
                        "learn": [
                          0.9684603814,
                          0.09735948414
                        ]
                      },
                      {
                        "test": [
                          0.9286355476,
                          0.1937531881
                        ],
                        "passed_time": 14.28678922,
                        "iteration": 279,
                        "remaining_time": 36.73745799,
                        "learn": [
                          0.9684118589,
                          0.09718072143
                        ]
                      },
                      {
                        "test": [
                          0.9286355476,
                          0.1937745037
                        ],
                        "passed_time": 14.33703792,
                        "iteration": 280,
                        "remaining_time": 36.68444935,
                        "learn": [
                          0.9683633364,
                          0.09709450295
                        ]
                      },
                      {
                        "test": [
                          0.9290843806,
                          0.1938229244
                        ],
                        "passed_time": 14.39495182,
                        "iteration": 281,
                        "remaining_time": 36.65097663,
                        "learn": [
                          0.9686544713,
                          0.09687442376
                        ]
                      },
                      {
                        "test": [
                          0.9286355476,
                          0.1938315445
                        ],
                        "passed_time": 14.44189576,
                        "iteration": 282,
                        "remaining_time": 36.58953802,
                        "learn": [
                          0.9688000388,
                          0.09671404627
                        ]
                      },
                      {
                        "test": [
                          0.927962298,
                          0.1938093673
                        ],
                        "passed_time": 14.49124185,
                        "iteration": 283,
                        "remaining_time": 36.53425763,
                        "learn": [
                          0.9689456063,
                          0.09647568393
                        ]
                      },
                      {
                        "test": [
                          0.9277378815,
                          0.1939832215
                        ],
                        "passed_time": 14.54665828,
                        "iteration": 284,
                        "remaining_time": 36.49424796,
                        "learn": [
                          0.9689456063,
                          0.09624865516
                        ]
                      },
                      {
                        "test": [
                          0.9277378815,
                          0.1940924853
                        ],
                        "passed_time": 14.59484895,
                        "iteration": 285,
                        "remaining_time": 36.43609143,
                        "learn": [
                          0.9689941288,
                          0.09613559723
                        ]
                      },
                      {
                        "test": [
                          0.927513465,
                          0.1939729169
                        ],
                        "passed_time": 14.64470699,
                        "iteration": 286,
                        "remaining_time": 36.38214664,
                        "learn": [
                          0.9692852637,
                          0.09586819774
                        ]
                      },
                      {
                        "test": [
                          0.9277378815,
                          0.1939429115
                        ],
                        "passed_time": 14.69272806,
                        "iteration": 287,
                        "remaining_time": 36.32368882,
                        "learn": [
                          0.9692367412,
                          0.09577000438
                        ]
                      },
                      {
                        "test": [
                          0.9277378815,
                          0.1939417439
                        ],
                        "passed_time": 14.74545996,
                        "iteration": 288,
                        "remaining_time": 36.27689285,
                        "learn": [
                          0.9692367412,
                          0.09555685961
                        ]
                      },
                      {
                        "test": [
                          0.9277378815,
                          0.1939326999
                        ],
                        "passed_time": 14.79255466,
                        "iteration": 289,
                        "remaining_time": 36.21625451,
                        "learn": [
                          0.9693823087,
                          0.095473248
                        ]
                      },
                      {
                        "test": [
                          0.9272890485,
                          0.1939325998
                        ],
                        "passed_time": 14.84519637,
                        "iteration": 290,
                        "remaining_time": 36.16922414,
                        "learn": [
                          0.9695278762,
                          0.09517496755
                        ]
                      },
                      {
                        "test": [
                          0.9272890485,
                          0.1938966341
                        ],
                        "passed_time": 14.89556196,
                        "iteration": 291,
                        "remaining_time": 36.11663653,
                        "learn": [
                          0.9695278762,
                          0.09508040129
                        ]
                      },
                      {
                        "test": [
                          0.9272890485,
                          0.1939185223
                        ],
                        "passed_time": 14.95770206,
                        "iteration": 292,
                        "remaining_time": 36.09247562,
                        "learn": [
                          0.9693823087,
                          0.09487858691
                        ]
                      },
                      {
                        "test": [
                          0.9272890485,
                          0.1939174498
                        ],
                        "passed_time": 15.01194198,
                        "iteration": 293,
                        "remaining_time": 36.04908516,
                        "learn": [
                          0.9690911738,
                          0.09473008169
                        ]
                      },
                      {
                        "test": [
                          0.9277378815,
                          0.1939907869
                        ],
                        "passed_time": 15.06009776,
                        "iteration": 294,
                        "remaining_time": 35.99108109,
                        "learn": [
                          0.9694308312,
                          0.09453446298
                        ]
                      },
                      {
                        "test": [
                          0.927962298,
                          0.1940370891
                        ],
                        "passed_time": 15.13892649,
                        "iteration": 295,
                        "remaining_time": 36.00609544,
                        "learn": [
                          0.9694308312,
                          0.09444240378
                        ]
                      },
                      {
                        "test": [
                          0.9281867145,
                          0.1940634377
                        ],
                        "passed_time": 15.19194368,
                        "iteration": 296,
                        "remaining_time": 35.95938184,
                        "learn": [
                          0.9694793537,
                          0.09433100597
                        ]
                      },
                      {
                        "test": [
                          0.927962298,
                          0.1941916081
                        ],
                        "passed_time": 15.2446122,
                        "iteration": 297,
                        "remaining_time": 35.91180458,
                        "learn": [
                          0.9695763987,
                          0.09417196303
                        ]
                      },
                      {
                        "test": [
                          0.927962298,
                          0.1942020077
                        ],
                        "passed_time": 15.29714015,
                        "iteration": 298,
                        "remaining_time": 35.86386369,
                        "learn": [
                          0.9695278762,
                          0.09394847337
                        ]
                      },
                      {
                        "test": [
                          0.9281867145,
                          0.1937283133
                        ],
                        "passed_time": 15.34926266,
                        "iteration": 299,
                        "remaining_time": 35.81494621,
                        "learn": [
                          0.9695278762,
                          0.09356492502
                        ]
                      },
                      {
                        "test": [
                          0.9277378815,
                          0.1937117239
                        ],
                        "passed_time": 15.39802945,
                        "iteration": 300,
                        "remaining_time": 35.75821457,
                        "learn": [
                          0.9698190111,
                          0.09343268995
                        ]
                      },
                      {
                        "test": [
                          0.927962298,
                          0.1936858796
                        ],
                        "passed_time": 15.44716765,
                        "iteration": 301,
                        "remaining_time": 35.7023941,
                        "learn": [
                          0.9697704886,
                          0.0932340704
                        ]
                      },
                      {
                        "test": [
                          0.927962298,
                          0.1937209055
                        ],
                        "passed_time": 15.4954946,
                        "iteration": 302,
                        "remaining_time": 35.6447516,
                        "learn": [
                          0.9699160561,
                          0.09311629433
                        ]
                      },
                      {
                        "test": [
                          0.9281867145,
                          0.1936783413
                        ],
                        "passed_time": 15.54318261,
                        "iteration": 303,
                        "remaining_time": 35.58570755,
                        "learn": [
                          0.9700616236,
                          0.09306603419
                        ]
                      },
                      {
                        "test": [
                          0.9281867145,
                          0.1935962046
                        ],
                        "passed_time": 15.58996279,
                        "iteration": 304,
                        "remaining_time": 35.52466931,
                        "learn": [
                          0.970207191,
                          0.09294999799
                        ]
                      },
                      {
                        "test": [
                          0.9286355476,
                          0.19351874
                        ],
                        "passed_time": 15.6406277,
                        "iteration": 305,
                        "remaining_time": 35.47253471,
                        "learn": [
                          0.970304236,
                          0.09266403405
                        ]
                      },
                      {
                        "test": [
                          0.9281867145,
                          0.1935304086
                        ],
                        "passed_time": 15.68690475,
                        "iteration": 306,
                        "remaining_time": 35.41050485,
                        "learn": [
                          0.970401281,
                          0.09255381929
                        ]
                      },
                      {
                        "test": [
                          0.9288599641,
                          0.1934064149
                        ],
                        "passed_time": 15.7405261,
                        "iteration": 307,
                        "remaining_time": 35.36507811,
                        "learn": [
                          0.970498326,
                          0.09208004405
                        ]
                      },
                      {
                        "test": [
                          0.9286355476,
                          0.1934837139
                        ],
                        "passed_time": 15.78898192,
                        "iteration": 308,
                        "remaining_time": 35.30804695,
                        "learn": [
                          0.9704498035,
                          0.09198387645
                        ]
                      },
                      {
                        "test": [
                          0.9286355476,
                          0.1934477998
                        ],
                        "passed_time": 15.8354157,
                        "iteration": 309,
                        "remaining_time": 35.24657044,
                        "learn": [
                          0.970498326,
                          0.09190209349
                        ]
                      },
                      {
                        "test": [
                          0.9284111311,
                          0.1933950014
                        ],
                        "passed_time": 15.883641,
                        "iteration": 310,
                        "remaining_time": 35.18915963,
                        "learn": [
                          0.9706924159,
                          0.09165589036
                        ]
                      },
                      {
                        "test": [
                          0.9286355476,
                          0.1932001012
                        ],
                        "passed_time": 15.93024772,
                        "iteration": 311,
                        "remaining_time": 35.12823856,
                        "learn": [
                          0.9707409384,
                          0.09146671284
                        ]
                      },
                      {
                        "test": [
                          0.9284111311,
                          0.1932378791
                        ],
                        "passed_time": 15.98949304,
                        "iteration": 312,
                        "remaining_time": 35.09514926,
                        "learn": [
                          0.9707409384,
                          0.09120009055
                        ]
                      },
                      {
                        "test": [
                          0.9286355476,
                          0.1932113924
                        ],
                        "passed_time": 16.03843481,
                        "iteration": 313,
                        "remaining_time": 35.03938307,
                        "learn": [
                          0.9709835509,
                          0.09106430025
                        ]
                      },
                      {
                        "test": [
                          0.9290843806,
                          0.19328606
                        ],
                        "passed_time": 16.08679405,
                        "iteration": 314,
                        "remaining_time": 34.98239341,
                        "learn": [
                          0.9710320734,
                          0.09094245682
                        ]
                      },
                      {
                        "test": [
                          0.9284111311,
                          0.1931991833
                        ],
                        "passed_time": 16.16698192,
                        "iteration": 315,
                        "remaining_time": 34.99435327,
                        "learn": [
                          0.9709835509,
                          0.09071293332
                        ]
                      },
                      {
                        "test": [
                          0.9288599641,
                          0.1929837732
                        ],
                        "passed_time": 16.21712045,
                        "iteration": 316,
                        "remaining_time": 34.94098823,
                        "learn": [
                          0.9710320734,
                          0.09059372579
                        ]
                      },
                      {
                        "test": [
                          0.9284111311,
                          0.1929919428
                        ],
                        "passed_time": 16.2687683,
                        "iteration": 317,
                        "remaining_time": 34.89088043,
                        "learn": [
                          0.9713232083,
                          0.090486852
                        ]
                      },
                      {
                        "test": [
                          0.9286355476,
                          0.1929262493
                        ],
                        "passed_time": 16.31692821,
                        "iteration": 318,
                        "remaining_time": 34.83331697,
                        "learn": [
                          0.9715172983,
                          0.09031582804
                        ]
                      },
                      {
                        "test": [
                          0.9288599641,
                          0.192816285
                        ],
                        "passed_time": 16.36682398,
                        "iteration": 319,
                        "remaining_time": 34.77950096,
                        "learn": [
                          0.9716143432,
                          0.09013619913
                        ]
                      },
                      {
                        "test": [
                          0.9290843806,
                          0.1929779439
                        ],
                        "passed_time": 16.41462316,
                        "iteration": 320,
                        "remaining_time": 34.72127454,
                        "learn": [
                          0.9718084332,
                          0.08991977981
                        ]
                      },
                      {
                        "test": [
                          0.9290843806,
                          0.1930151967
                        ],
                        "passed_time": 16.46501929,
                        "iteration": 321,
                        "remaining_time": 34.66858099,
                        "learn": [
                          0.9719054782,
                          0.08981503885
                        ]
                      },
                      {
                        "test": [
                          0.9290843806,
                          0.1929613665
                        ],
                        "passed_time": 16.51638252,
                        "iteration": 322,
                        "remaining_time": 34.61792869,
                        "learn": [
                          0.9717599107,
                          0.08968375741
                        ]
                      },
                      {
                        "test": [
                          0.9290843806,
                          0.1930416822
                        ],
                        "passed_time": 16.56393474,
                        "iteration": 323,
                        "remaining_time": 34.55932063,
                        "learn": [
                          0.9716628657,
                          0.08956605944
                        ]
                      },
                      {
                        "test": [
                          0.9288599641,
                          0.1930120269
                        ],
                        "passed_time": 16.61385748,
                        "iteration": 324,
                        "remaining_time": 34.50570399,
                        "learn": [
                          0.9715658208,
                          0.08941956214
                        ]
                      },
                      {
                        "test": [
                          0.9288599641,
                          0.192978255
                        ],
                        "passed_time": 16.66203312,
                        "iteration": 325,
                        "remaining_time": 34.44849793,
                        "learn": [
                          0.9715658208,
                          0.08934246396
                        ]
                      },
                      {
                        "test": [
                          0.9288599641,
                          0.1929442662
                        ],
                        "passed_time": 16.70988856,
                        "iteration": 326,
                        "remaining_time": 34.39068807,
                        "learn": [
                          0.9715172983,
                          0.08923501689
                        ]
                      },
                      {
                        "test": [
                          0.9288599641,
                          0.1927966522
                        ],
                        "passed_time": 16.7532076,
                        "iteration": 327,
                        "remaining_time": 34.32364485,
                        "learn": [
                          0.9717113882,
                          0.08916205849
                        ]
                      },
                      {
                        "test": [
                          0.9288599641,
                          0.1928627608
                        ],
                        "passed_time": 16.8008947,
                        "iteration": 328,
                        "remaining_time": 34.26565455,
                        "learn": [
                          0.9717113882,
                          0.08905116025
                        ]
                      },
                      {
                        "test": [
                          0.9288599641,
                          0.1927417972
                        ],
                        "passed_time": 16.85145909,
                        "iteration": 329,
                        "remaining_time": 34.21356846,
                        "learn": [
                          0.9717599107,
                          0.08892295277
                        ]
                      },
                      {
                        "test": [
                          0.9293087971,
                          0.1928316383
                        ],
                        "passed_time": 16.90581366,
                        "iteration": 330,
                        "remaining_time": 34.16915208,
                        "learn": [
                          0.9720025232,
                          0.08868721932
                        ]
                      },
                      {
                        "test": [
                          0.9293087971,
                          0.1927902976
                        ],
                        "passed_time": 16.95184686,
                        "iteration": 331,
                        "remaining_time": 34.10793284,
                        "learn": [
                          0.9719054782,
                          0.08861627563
                        ]
                      },
                      {
                        "test": [
                          0.9293087971,
                          0.1927080367
                        ],
                        "passed_time": 17.01606834,
                        "iteration": 332,
                        "remaining_time": 34.08323599,
                        "learn": [
                          0.9720510457,
                          0.08851535914
                        ]
                      },
                      {
                        "test": [
                          0.9293087971,
                          0.192784729
                        ],
                        "passed_time": 17.06712714,
                        "iteration": 333,
                        "remaining_time": 34.03205591,
                        "learn": [
                          0.9721480906,
                          0.0883345508
                        ]
                      },
                      {
                        "test": [
                          0.9293087971,
                          0.192937034
                        ],
                        "passed_time": 17.11516951,
                        "iteration": 334,
                        "remaining_time": 33.97488874,
                        "learn": [
                          0.9720995681,
                          0.08814893556
                        ]
                      },
                      {
                        "test": [
                          0.9290843806,
                          0.1929721414
                        ],
                        "passed_time": 17.19734288,
                        "iteration": 335,
                        "remaining_time": 33.98522521,
                        "learn": [
                          0.9720025232,
                          0.08805614014
                        ]
                      },
                      {
                        "test": [
                          0.9290843806,
                          0.1929550301
                        ],
                        "passed_time": 17.24728192,
                        "iteration": 336,
                        "remaining_time": 33.93159618,
                        "learn": [
                          0.9719054782,
                          0.08795132517
                        ]
                      },
                      {
                        "test": [
                          0.9297576302,
                          0.1929174378
                        ],
                        "passed_time": 17.29755741,
                        "iteration": 337,
                        "remaining_time": 33.87864794,
                        "learn": [
                          0.9720025232,
                          0.08779326802
                        ]
                      },
                      {
                        "test": [
                          0.9293087971,
                          0.192878737
                        ],
                        "passed_time": 17.34318758,
                        "iteration": 338,
                        "remaining_time": 33.81665779,
                        "learn": [
                          0.9721480906,
                          0.0877090362
                        ]
                      },
                      {
                        "test": [
                          0.9295332136,
                          0.1930558171
                        ],
                        "passed_time": 17.39267675,
                        "iteration": 339,
                        "remaining_time": 33.76225486,
                        "learn": [
                          0.9721480906,
                          0.08747796223
                        ]
                      },
                      {
                        "test": [
                          0.9293087971,
                          0.1929626559
                        ],
                        "passed_time": 17.43989392,
                        "iteration": 340,
                        "remaining_time": 33.70349001,
                        "learn": [
                          0.9722936581,
                          0.08737801916
                        ]
                      },
                      {
                        "test": [
                          0.9293087971,
                          0.1929485752
                        ],
                        "passed_time": 17.48865077,
                        "iteration": 341,
                        "remaining_time": 33.647755,
                        "learn": [
                          0.9724877481,
                          0.08728732427
                        ]
                      },
                      {
                        "test": [
                          0.9288599641,
                          0.1927931539
                        ],
                        "passed_time": 17.53564929,
                        "iteration": 342,
                        "remaining_time": 33.58869266,
                        "learn": [
                          0.9724392256,
                          0.08720271477
                        ]
                      },
                      {
                        "test": [
                          0.9288599641,
                          0.1928523947
                        ],
                        "passed_time": 17.58637471,
                        "iteration": 343,
                        "remaining_time": 33.53680759,
                        "learn": [
                          0.9723907031,
                          0.08713355349
                        ]
                      },
                      {
                        "test": [
                          0.9288599641,
                          0.1926914659
                        ],
                        "passed_time": 17.64105106,
                        "iteration": 344,
                        "remaining_time": 33.49243027,
                        "learn": [
                          0.972681838,
                          0.0868212146
                        ]
                      },
                      {
                        "test": [
                          0.9286355476,
                          0.192787144
                        ],
                        "passed_time": 17.69113939,
                        "iteration": 345,
                        "remaining_time": 33.43932128,
                        "learn": [
                          0.972875928,
                          0.08666633007
                        ]
                      },
                      {
                        "test": [
                          0.9290843806,
                          0.1927785064
                        ],
                        "passed_time": 17.74073893,
                        "iteration": 346,
                        "remaining_time": 33.38530986,
                        "learn": [
                          0.9728274055,
                          0.08646902707
                        ]
                      },
                      {
                        "test": [
                          0.9290843806,
                          0.1927532571
                        ],
                        "passed_time": 17.79272516,
                        "iteration": 347,
                        "remaining_time": 33.33579541,
                        "learn": [
                          0.973070018,
                          0.08632677514
                        ]
                      },
                      {
                        "test": [
                          0.9286355476,
                          0.1927589707
                        ],
                        "passed_time": 17.84388654,
                        "iteration": 348,
                        "remaining_time": 33.2847282,
                        "learn": [
                          0.9732641079,
                          0.08622872104
                        ]
                      },
                      {
                        "test": [
                          0.9286355476,
                          0.1929378694
                        ],
                        "passed_time": 17.89244367,
                        "iteration": 349,
                        "remaining_time": 33.22882397,
                        "learn": [
                          0.9732155854,
                          0.08614417141
                        ]
                      },
                      {
                        "test": [
                          0.9284111311,
                          0.1928591544
                        ],
                        "passed_time": 17.94008248,
                        "iteration": 350,
                        "remaining_time": 33.17126362,
                        "learn": [
                          0.9732155854,
                          0.08596524409
                        ]
                      },
                      {
                        "test": [
                          0.9281867145,
                          0.1926683487
                        ],
                        "passed_time": 17.99178003,
                        "iteration": 351,
                        "remaining_time": 33.12123142,
                        "learn": [
                          0.9732641079,
                          0.08578554842
                        ]
                      },
                      {
                        "test": [
                          0.927962298,
                          0.1926408645
                        ],
                        "passed_time": 18.0529819,
                        "iteration": 352,
                        "remaining_time": 33.08860988,
                        "learn": [
                          0.9731670629,
                          0.08561996076
                        ]
                      },
                      {
                        "test": [
                          0.9284111311,
                          0.1927396877
                        ],
                        "passed_time": 18.10370975,
                        "iteration": 353,
                        "remaining_time": 33.03671328,
                        "learn": [
                          0.9733126304,
                          0.08547767444
                        ]
                      },
                      {
                        "test": [
                          0.9281867145,
                          0.1928971515
                        ],
                        "passed_time": 18.15079503,
                        "iteration": 354,
                        "remaining_time": 32.97820505,
                        "learn": [
                          0.9733611529,
                          0.0853992848
                        ]
                      },
                      {
                        "test": [
                          0.9295332136,
                          0.1928575388
                        ],
                        "passed_time": 18.23993973,
                        "iteration": 355,
                        "remaining_time": 32.99584602,
                        "learn": [
                          0.9737008103,
                          0.08508150557
                        ]
                      },
                      {
                        "test": [
                          0.9295332136,
                          0.1928610924
                        ],
                        "passed_time": 18.29077104,
                        "iteration": 356,
                        "remaining_time": 32.94388174,
                        "learn": [
                          0.9735552429,
                          0.08502822031
                        ]
                      },
                      {
                        "test": [
                          0.9295332136,
                          0.1929145064
                        ],
                        "passed_time": 18.3355506,
                        "iteration": 357,
                        "remaining_time": 32.88107119,
                        "learn": [
                          0.9737008103,
                          0.08493955118
                        ]
                      },
                      {
                        "test": [
                          0.9288599641,
                          0.1928976039
                        ],
                        "passed_time": 18.38902188,
                        "iteration": 358,
                        "remaining_time": 32.8338803,
                        "learn": [
                          0.9738949003,
                          0.08480893427
                        ]
                      },
                      {
                        "test": [
                          0.9288599641,
                          0.1928303804
                        ],
                        "passed_time": 18.43880122,
                        "iteration": 359,
                        "remaining_time": 32.78009105,
                        "learn": [
                          0.9740404678,
                          0.08469686161
                        ]
                      },
                      {
                        "test": [
                          0.9286355476,
                          0.1927338998
                        ],
                        "passed_time": 18.48854242,
                        "iteration": 360,
                        "remaining_time": 32.72625653,
                        "learn": [
                          0.9740404678,
                          0.0845157659
                        ]
                      },
                      {
                        "test": [
                          0.9286355476,
                          0.1930255637
                        ],
                        "passed_time": 18.54055873,
                        "iteration": 361,
                        "remaining_time": 32.67645434,
                        "learn": [
                          0.9743801252,
                          0.08432795301
                        ]
                      },
                      {
                        "test": [
                          0.9288599641,
                          0.1932352243
                        ],
                        "passed_time": 18.58981785,
                        "iteration": 362,
                        "remaining_time": 32.62180156,
                        "learn": [
                          0.9746712601,
                          0.08414154773
                        ]
                      },
                      {
                        "test": [
                          0.9288599641,
                          0.1933236327
                        ],
                        "passed_time": 18.63934385,
                        "iteration": 363,
                        "remaining_time": 32.56764475,
                        "learn": [
                          0.9745742151,
                          0.08405812116
                        ]
                      },
                      {
                        "test": [
                          0.9288599641,
                          0.1935537503
                        ],
                        "passed_time": 18.68997778,
                        "iteration": 364,
                        "remaining_time": 32.5154408,
                        "learn": [
                          0.9746712601,
                          0.08387888521
                        ]
                      },
                      {
                        "test": [
                          0.9290843806,
                          0.1936026487
                        ],
                        "passed_time": 18.7381101,
                        "iteration": 365,
                        "remaining_time": 32.45891202,
                        "learn": [
                          0.9745256927,
                          0.08381332116
                        ]
                      },
                      {
                        "test": [
                          0.9286355476,
                          0.1936164247
                        ],
                        "passed_time": 18.79064673,
                        "iteration": 366,
                        "remaining_time": 32.41002556,
                        "learn": [
                          0.9748168276,
                          0.08360179712
                        ]
                      },
                      {
                        "test": [
                          0.9286355476,
                          0.1936443003
                        ],
                        "passed_time": 18.83512995,
                        "iteration": 367,
                        "remaining_time": 32.34728839,
                        "learn": [
                          0.9747683051,
                          0.08353682457
                        ]
                      },
                      {
                        "test": [
                          0.9286355476,
                          0.1936603382
                        ],
                        "passed_time": 18.88580467,
                        "iteration": 368,
                        "remaining_time": 32.29523779,
                        "learn": [
                          0.9748168276,
                          0.08341968135
                        ]
                      },
                      {
                        "test": [
                          0.9288599641,
                          0.1936560989
                        ],
                        "passed_time": 18.93102182,
                        "iteration": 369,
                        "remaining_time": 32.23390203,
                        "learn": [
                          0.9748653501,
                          0.08327995637
                        ]
                      },
                      {
                        "test": [
                          0.9286355476,
                          0.1936482779
                        ],
                        "passed_time": 18.99152051,
                        "iteration": 370,
                        "remaining_time": 32.19856173,
                        "learn": [
                          0.9748653501,
                          0.08307662891
                        ]
                      },
                      {
                        "test": [
                          0.9288599641,
                          0.1935685552
                        ],
                        "passed_time": 19.05703989,
                        "iteration": 371,
                        "remaining_time": 32.17156197,
                        "learn": [
                          0.9750109176,
                          0.08290025414
                        ]
                      },
                      {
                        "test": [
                          0.9288599641,
                          0.1935213713
                        ],
                        "passed_time": 19.10876027,
                        "iteration": 372,
                        "remaining_time": 32.12116003,
                        "learn": [
                          0.9751079625,
                          0.08273441958
                        ]
                      },
                      {
                        "test": [
                          0.9290843806,
                          0.1934836712
                        ],
                        "passed_time": 19.16047993,
                        "iteration": 373,
                        "remaining_time": 32.07074983,
                        "learn": [
                          0.97525353,
                          0.08257280241
                        ]
                      },
                      {
                        "test": [
                          0.9286355476,
                          0.1936160803
                        ],
                        "passed_time": 19.24367798,
                        "iteration": 374,
                        "remaining_time": 32.07279663,
                        "learn": [
                          0.9752050075,
                          0.08243417994
                        ]
                      },
                      {
                        "test": [
                          0.9286355476,
                          0.1935884226
                        ],
                        "passed_time": 19.29463027,
                        "iteration": 375,
                        "remaining_time": 32.02087577,
                        "learn": [
                          0.975156485,
                          0.08238396379
                        ]
                      },
                      {
                        "test": [
                          0.9286355476,
                          0.193588905
                        ],
                        "passed_time": 19.33970298,
                        "iteration": 376,
                        "remaining_time": 31.95924392,
                        "learn": [
                          0.97525353,
                          0.08235392635
                        ]
                      },
                      {
                        "test": [
                          0.9290843806,
                          0.1935659863
                        ],
                        "passed_time": 19.38849989,
                        "iteration": 377,
                        "remaining_time": 31.90382786,
                        "learn": [
                          0.9752050075,
                          0.08226630696
                        ]
                      },
                      {
                        "test": [
                          0.9288599641,
                          0.1936518688
                        ],
                        "passed_time": 19.43810399,
                        "iteration": 378,
                        "remaining_time": 31.84976934,
                        "learn": [
                          0.97525353,
                          0.08217633325
                        ]
                      },
                      {
                        "test": [
                          0.9290843806,
                          0.1937138451
                        ],
                        "passed_time": 19.4841047,
                        "iteration": 379,
                        "remaining_time": 31.78985503,
                        "learn": [
                          0.97525353,
                          0.08202460384
                        ]
                      },
                      {
                        "test": [
                          0.9293087971,
                          0.1937423942
                        ],
                        "passed_time": 19.53051537,
                        "iteration": 380,
                        "remaining_time": 31.73067982,
                        "learn": [
                          0.9753020525,
                          0.08193000082
                        ]
                      },
                      {
                        "test": [
                          0.9295332136,
                          0.1937593817
                        ],
                        "passed_time": 19.58114254,
                        "iteration": 381,
                        "remaining_time": 31.67839291,
                        "learn": [
                          0.975156485,
                          0.08179044774
                        ]
                      },
                      {
                        "test": [
                          0.9297576302,
                          0.193697122
                        ],
                        "passed_time": 19.62819469,
                        "iteration": 382,
                        "remaining_time": 31.62035542,
                        "learn": [
                          0.9752050075,
                          0.0816857958
                        ]
                      },
                      {
                        "test": [
                          0.9293087971,
                          0.193695958
                        ],
                        "passed_time": 19.6775863,
                        "iteration": 383,
                        "remaining_time": 31.56612803,
                        "learn": [
                          0.9753990975,
                          0.08157548523
                        ]
                      },
                      {
                        "test": [
                          0.9293087971,
                          0.1936906271
                        ],
                        "passed_time": 19.72144893,
                        "iteration": 384,
                        "remaining_time": 31.50309374,
                        "learn": [
                          0.975350575,
                          0.08152221378
                        ]
                      },
                      {
                        "test": [
                          0.9293087971,
                          0.1938088701
                        ],
                        "passed_time": 19.76541682,
                        "iteration": 385,
                        "remaining_time": 31.44032623,
                        "learn": [
                          0.97544762,
                          0.08136238894
                        ]
                      },
                      {
                        "test": [
                          0.9297576302,
                          0.1938568836
                        ],
                        "passed_time": 19.81332347,
                        "iteration": 386,
                        "remaining_time": 31.3838948,
                        "learn": [
                          0.9756417099,
                          0.08117786746
                        ]
                      },
                      {
                        "test": [
                          0.9295332136,
                          0.1938686028
                        ],
                        "passed_time": 19.85871642,
                        "iteration": 387,
                        "remaining_time": 31.3235424,
                        "learn": [
                          0.9756902324,
                          0.08110494176
                        ]
                      },
                      {
                        "test": [
                          0.9297576302,
                          0.1940146354
                        ],
                        "passed_time": 19.90774849,
                        "iteration": 388,
                        "remaining_time": 31.26898284,
                        "learn": [
                          0.9754961425,
                          0.08097070727
                        ]
                      },
                      {
                        "test": [
                          0.9299820467,
                          0.1939736592
                        ],
                        "passed_time": 19.95778748,
                        "iteration": 389,
                        "remaining_time": 31.21602658,
                        "learn": [
                          0.9756902324,
                          0.08077862846
                        ]
                      },
                      {
                        "test": [
                          0.9302064632,
                          0.1939750743
                        ],
                        "passed_time": 20.00799341,
                        "iteration": 390,
                        "remaining_time": 31.16334523,
                        "learn": [
                          0.9757387549,
                          0.08066404292
                        ]
                      },
                      {
                        "test": [
                          0.9302064632,
                          0.1940619582
                        ],
                        "passed_time": 20.06847015,
                        "iteration": 391,
                        "remaining_time": 31.12660677,
                        "learn": [
                          0.9758357999,
                          0.08059241637
                        ]
                      },
                      {
                        "test": [
                          0.9302064632,
                          0.1940364995
                        ],
                        "passed_time": 20.11617571,
                        "iteration": 392,
                        "remaining_time": 31.07002202,
                        "learn": [
                          0.9758357999,
                          0.08055000369
                        ]
                      },
                      {
                        "test": [
                          0.9302064632,
                          0.1939338681
                        ],
                        "passed_time": 20.16222487,
                        "iteration": 393,
                        "remaining_time": 31.0109347,
                        "learn": [
                          0.9759813674,
                          0.08038306411
                        ]
                      },
                      {
                        "test": [
                          0.9299820467,
                          0.1939459635
                        ],
                        "passed_time": 20.20899343,
                        "iteration": 394,
                        "remaining_time": 30.95301525,
                        "learn": [
                          0.9758843224,
                          0.08029653821
                        ]
                      },
                      {
                        "test": [
                          0.9295332136,
                          0.1939185186
                        ],
                        "passed_time": 20.29777019,
                        "iteration": 395,
                        "remaining_time": 30.95922524,
                        "learn": [
                          0.9758357999,
                          0.08022809097
                        ]
                      },
                      {
                        "test": [
                          0.9302064632,
                          0.1938053213
                        ],
                        "passed_time": 20.35128805,
                        "iteration": 396,
                        "remaining_time": 30.91140225,
                        "learn": [
                          0.9761269348,
                          0.08010236874
                        ]
                      },
                      {
                        "test": [
                          0.9304308797,
                          0.1937807157
                        ],
                        "passed_time": 20.39962977,
                        "iteration": 397,
                        "remaining_time": 30.85572141,
                        "learn": [
                          0.9763210248,
                          0.07993460939
                        ]
                      },
                      {
                        "test": [
                          0.9304308797,
                          0.1937781839
                        ],
                        "passed_time": 20.4475275,
                        "iteration": 398,
                        "remaining_time": 30.79940859,
                        "learn": [
                          0.9764180698,
                          0.07985663239
                        ]
                      },
                      {
                        "test": [
                          0.9299820467,
                          0.193795661
                        ],
                        "passed_time": 20.49869966,
                        "iteration": 399,
                        "remaining_time": 30.74804949,
                        "learn": [
                          0.9765151148,
                          0.07963892157
                        ]
                      },
                      {
                        "test": [
                          0.9304308797,
                          0.1938073115
                        ],
                        "passed_time": 20.54494842,
                        "iteration": 400,
                        "remaining_time": 30.68933692,
                        "learn": [
                          0.9766606822,
                          0.07953203277
                        ]
                      },
                      {
                        "test": [
                          0.9299820467,
                          0.1937601601
                        ],
                        "passed_time": 20.59205726,
                        "iteration": 401,
                        "remaining_time": 30.63196577,
                        "learn": [
                          0.9767577272,
                          0.07942025241
                        ]
                      },
                      {
                        "test": [
                          0.9299820467,
                          0.1936534956
                        ],
                        "passed_time": 20.64519396,
                        "iteration": 402,
                        "remaining_time": 30.58357517,
                        "learn": [
                          0.9767577272,
                          0.07920764665
                        ]
                      },
                      {
                        "test": [
                          0.9304308797,
                          0.1937639862
                        ],
                        "passed_time": 20.68909339,
                        "iteration": 403,
                        "remaining_time": 30.52153381,
                        "learn": [
                          0.9767577272,
                          0.07908866899
                        ]
                      },
                      {
                        "test": [
                          0.9304308797,
                          0.1938281796
                        ],
                        "passed_time": 20.73524437,
                        "iteration": 404,
                        "remaining_time": 30.46288987,
                        "learn": [
                          0.9767577272,
                          0.07900121736
                        ]
                      },
                      {
                        "test": [
                          0.9304308797,
                          0.1938733945
                        ],
                        "passed_time": 20.78076742,
                        "iteration": 405,
                        "remaining_time": 30.40338879,
                        "learn": [
                          0.9768062497,
                          0.07889314332
                        ]
                      },
                      {
                        "test": [
                          0.9306552962,
                          0.193859397
                        ],
                        "passed_time": 20.82867775,
                        "iteration": 406,
                        "remaining_time": 30.34743466,
                        "learn": [
                          0.9767577272,
                          0.07883113432
                        ]
                      },
                      {
                        "test": [
                          0.9306552962,
                          0.193858807
                        ],
                        "passed_time": 20.87484775,
                        "iteration": 407,
                        "remaining_time": 30.28899477,
                        "learn": [
                          0.9768062497,
                          0.07877603342
                        ]
                      },
                      {
                        "test": [
                          0.9306552962,
                          0.1938687806
                        ],
                        "passed_time": 20.92382952,
                        "iteration": 408,
                        "remaining_time": 30.23467786,
                        "learn": [
                          0.9768062497,
                          0.07858127742
                        ]
                      },
                      {
                        "test": [
                          0.9306552962,
                          0.1939753407
                        ],
                        "passed_time": 20.96878441,
                        "iteration": 409,
                        "remaining_time": 30.1745922,
                        "learn": [
                          0.9769032947,
                          0.07848897118
                        ]
                      },
                      {
                        "test": [
                          0.9306552962,
                          0.1940454744
                        ],
                        "passed_time": 21.01462915,
                        "iteration": 410,
                        "remaining_time": 30.1158554,
                        "learn": [
                          0.9771944296,
                          0.07838274651
                        ]
                      },
                      {
                        "test": [
                          0.9304308797,
                          0.1940736353
                        ],
                        "passed_time": 21.07032902,
                        "iteration": 411,
                        "remaining_time": 30.07124628,
                        "learn": [
                          0.9771459071,
                          0.07824445517
                        ]
                      },
                      {
                        "test": [
                          0.9308797127,
                          0.1942331457
                        ],
                        "passed_time": 21.12948453,
                        "iteration": 412,
                        "remaining_time": 30.03149496,
                        "learn": [
                          0.977534087,
                          0.07807884998
                        ]
                      },
                      {
                        "test": [
                          0.9308797127,
                          0.194235086
                        ],
                        "passed_time": 21.17514643,
                        "iteration": 413,
                        "remaining_time": 29.97255026,
                        "learn": [
                          0.9775826095,
                          0.07799195258
                        ]
                      },
                      {
                        "test": [
                          0.9306552962,
                          0.1943526717
                        ],
                        "passed_time": 21.22605739,
                        "iteration": 414,
                        "remaining_time": 29.92106885,
                        "learn": [
                          0.9774855646,
                          0.07787052728
                        ]
                      },
                      {
                        "test": [
                          0.9302064632,
                          0.1943195135
                        ],
                        "passed_time": 21.29716322,
                        "iteration": 415,
                        "remaining_time": 29.89794067,
                        "learn": [
                          0.9774370421,
                          0.07777378862
                        ]
                      },
                      {
                        "test": [
                          0.9302064632,
                          0.1943263262
                        ],
                        "passed_time": 21.36367232,
                        "iteration": 416,
                        "remaining_time": 29.86815579,
                        "learn": [
                          0.9774855646,
                          0.07770901765
                        ]
                      },
                      {
                        "test": [
                          0.9299820467,
                          0.1943135247
                        ],
                        "passed_time": 21.40743229,
                        "iteration": 417,
                        "remaining_time": 29.80652056,
                        "learn": [
                          0.977534087,
                          0.0776316489
                        ]
                      },
                      {
                        "test": [
                          0.9299820467,
                          0.1943006987
                        ],
                        "passed_time": 21.45500915,
                        "iteration": 418,
                        "remaining_time": 29.75026328,
                        "learn": [
                          0.9776796545,
                          0.07751408946
                        ]
                      },
                      {
                        "test": [
                          0.9297576302,
                          0.1944363758
                        ],
                        "passed_time": 21.50634929,
                        "iteration": 419,
                        "remaining_time": 29.69924426,
                        "learn": [
                          0.9777766995,
                          0.07734626976
                        ]
                      },
                      {
                        "test": [
                          0.9297576302,
                          0.1944620442
                        ],
                        "passed_time": 21.55802393,
                        "iteration": 420,
                        "remaining_time": 29.64868374,
                        "learn": [
                          0.9779707895,
                          0.07726144916
                        ]
                      },
                      {
                        "test": [
                          0.9297576302,
                          0.1944840844
                        ],
                        "passed_time": 21.60319229,
                        "iteration": 421,
                        "remaining_time": 29.5892065,
                        "learn": [
                          0.977922267,
                          0.07720855415
                        ]
                      },
                      {
                        "test": [
                          0.9299820467,
                          0.1943896167
                        ],
                        "passed_time": 21.6567934,
                        "iteration": 422,
                        "remaining_time": 29.54129974,
                        "learn": [
                          0.977922267,
                          0.07712041825
                        ]
                      },
                      {
                        "test": [
                          0.9290843806,
                          0.1945019726
                        ],
                        "passed_time": 21.7095179,
                        "iteration": 423,
                        "remaining_time": 29.49217526,
                        "learn": [
                          0.9779707895,
                          0.07700187888
                        ]
                      },
                      {
                        "test": [
                          0.9293087971,
                          0.1945601569
                        ],
                        "passed_time": 21.75630902,
                        "iteration": 424,
                        "remaining_time": 29.43500633,
                        "learn": [
                          0.9778737445,
                          0.07691768511
                        ]
                      },
                      {
                        "test": [
                          0.9297576302,
                          0.1946399946
                        ],
                        "passed_time": 21.80044648,
                        "iteration": 425,
                        "remaining_time": 29.37431052,
                        "learn": [
                          0.9779707895,
                          0.07686065145
                        ]
                      },
                      {
                        "test": [
                          0.9295332136,
                          0.1946569191
                        ],
                        "passed_time": 21.84693779,
                        "iteration": 426,
                        "remaining_time": 29.31685095,
                        "learn": [
                          0.977825222,
                          0.07672271296
                        ]
                      },
                      {
                        "test": [
                          0.9295332136,
                          0.1946297687
                        ],
                        "passed_time": 21.88981537,
                        "iteration": 427,
                        "remaining_time": 29.25461306,
                        "learn": [
                          0.9780678344,
                          0.07664514271
                        ]
                      },
                      {
                        "test": [
                          0.9295332136,
                          0.1945898772
                        ],
                        "passed_time": 21.93332445,
                        "iteration": 428,
                        "remaining_time": 29.19330597,
                        "learn": [
                          0.978019312,
                          0.07658266736
                        ]
                      },
                      {
                        "test": [
                          0.9299820467,
                          0.1947320067
                        ],
                        "passed_time": 21.98670903,
                        "iteration": 429,
                        "remaining_time": 29.14517243,
                        "learn": [
                          0.9779707895,
                          0.0764456741
                        ]
                      },
                      {
                        "test": [
                          0.9302064632,
                          0.1947488726
                        ],
                        "passed_time": 22.03730941,
                        "iteration": 430,
                        "remaining_time": 29.09333887,
                        "learn": [
                          0.9779707895,
                          0.07635464916
                        ]
                      },
                      {
                        "test": [
                          0.9302064632,
                          0.1945582457
                        ],
                        "passed_time": 22.09223472,
                        "iteration": 431,
                        "remaining_time": 29.0471975,
                        "learn": [
                          0.9781163569,
                          0.07622223812
                        ]
                      },
                      {
                        "test": [
                          0.9299820467,
                          0.1945588011
                        ],
                        "passed_time": 22.14907026,
                        "iteration": 432,
                        "remaining_time": 29.00351694,
                        "learn": [
                          0.9779707895,
                          0.07612570052
                        ]
                      },
                      {
                        "test": [
                          0.9295332136,
                          0.1946444228
                        ],
                        "passed_time": 22.19867276,
                        "iteration": 433,
                        "remaining_time": 28.95034281,
                        "learn": [
                          0.978019312,
                          0.07599084801
                        ]
                      },
                      {
                        "test": [
                          0.9295332136,
                          0.194676776
                        ],
                        "passed_time": 22.24323024,
                        "iteration": 434,
                        "remaining_time": 28.89063238,
                        "learn": [
                          0.9781163569,
                          0.07593381211
                        ]
                      },
                      {
                        "test": [
                          0.9302064632,
                          0.1946775592
                        ],
                        "passed_time": 22.29664773,
                        "iteration": 435,
                        "remaining_time": 28.84245257,
                        "learn": [
                          0.9784560144,
                          0.07580418693
                        ]
                      },
                      {
                        "test": [
                          0.9302064632,
                          0.1946362792
                        ],
                        "passed_time": 22.4060431,
                        "iteration": 436,
                        "remaining_time": 28.86636674,
                        "learn": [
                          0.9783589694,
                          0.07576185032
                        ]
                      },
                      {
                        "test": [
                          0.9299820467,
                          0.1946599416
                        ],
                        "passed_time": 22.45686223,
                        "iteration": 437,
                        "remaining_time": 28.81451273,
                        "learn": [
                          0.9782619244,
                          0.07566502647
                        ]
                      },
                      {
                        "test": [
                          0.9304308797,
                          0.1946356924
                        ],
                        "passed_time": 22.50920903,
                        "iteration": 438,
                        "remaining_time": 28.76461564,
                        "learn": [
                          0.9785530593,
                          0.07552368711
                        ]
                      },
                      {
                        "test": [
                          0.9304308797,
                          0.1946150834
                        ],
                        "passed_time": 22.55792929,
                        "iteration": 439,
                        "remaining_time": 28.71009182,
                        "learn": [
                          0.9786986268,
                          0.07543191454
                        ]
                      },
                      {
                        "test": [
                          0.9308797127,
                          0.1948004855
                        ],
                        "passed_time": 22.60595701,
                        "iteration": 440,
                        "remaining_time": 28.65471649,
                        "learn": [
                          0.9785530593,
                          0.07531242904
                        ]
                      },
                      {
                        "test": [
                          0.9308797127,
                          0.1949252223
                        ],
                        "passed_time": 22.65173239,
                        "iteration": 441,
                        "remaining_time": 28.59653094,
                        "learn": [
                          0.9786986268,
                          0.07525390268
                        ]
                      },
                      {
                        "test": [
                          0.9302064632,
                          0.1950173821
                        ],
                        "passed_time": 22.69997963,
                        "iteration": 442,
                        "remaining_time": 28.54150937,
                        "learn": [
                          0.9788441943,
                          0.07507228109
                        ]
                      },
                      {
                        "test": [
                          0.9304308797,
                          0.1948929353
                        ],
                        "passed_time": 22.75529033,
                        "iteration": 443,
                        "remaining_time": 28.49536357,
                        "learn": [
                          0.9791353292,
                          0.0748843471
                        ]
                      },
                      {
                        "test": [
                          0.9304308797,
                          0.194981601
                        ],
                        "passed_time": 22.8047511,
                        "iteration": 444,
                        "remaining_time": 28.44188058,
                        "learn": [
                          0.9793294192,
                          0.07477524507
                        ]
                      },
                      {
                        "test": [
                          0.9304308797,
                          0.1951100645
                        ],
                        "passed_time": 22.85717382,
                        "iteration": 445,
                        "remaining_time": 28.39209483,
                        "learn": [
                          0.9791838517,
                          0.07464840101
                        ]
                      },
                      {
                        "test": [
                          0.9304308797,
                          0.1950885494
                        ],
                        "passed_time": 22.90783255,
                        "iteration": 446,
                        "remaining_time": 28.34011498,
                        "learn": [
                          0.9789412393,
                          0.07456270326
                        ]
                      },
                      {
                        "test": [
                          0.9304308797,
                          0.1950641413
                        ],
                        "passed_time": 22.95789259,
                        "iteration": 447,
                        "remaining_time": 28.28740337,
                        "learn": [
                          0.9789897618,
                          0.07447864469
                        ]
                      },
                      {
                        "test": [
                          0.9304308797,
                          0.1951873505
                        ],
                        "passed_time": 23.00411658,
                        "iteration": 448,
                        "remaining_time": 28.22999607,
                        "learn": [
                          0.9788927168,
                          0.07434993808
                        ]
                      },
                      {
                        "test": [
                          0.9304308797,
                          0.1951924102
                        ],
                        "passed_time": 23.05297931,
                        "iteration": 449,
                        "remaining_time": 28.1758636,
                        "learn": [
                          0.9790868067,
                          0.07426348598
                        ]
                      },
                      {
                        "test": [
                          0.9302064632,
                          0.1950942523
                        ],
                        "passed_time": 23.10434325,
                        "iteration": 450,
                        "remaining_time": 28.12479921,
                        "learn": [
                          0.9792323742,
                          0.07411565912
                        ]
                      },
                      {
                        "test": [
                          0.9299820467,
                          0.1949837876
                        ],
                        "passed_time": 23.16639274,
                        "iteration": 451,
                        "remaining_time": 28.08668854,
                        "learn": [
                          0.9790868067,
                          0.07397138066
                        ]
                      },
                      {
                        "test": [
                          0.9299820467,
                          0.1950216275
                        ],
                        "passed_time": 23.21529295,
                        "iteration": 452,
                        "remaining_time": 28.03259436,
                        "learn": [
                          0.9790868067,
                          0.07391116178
                        ]
                      },
                      {
                        "test": [
                          0.9297576302,
                          0.1952176001
                        ],
                        "passed_time": 23.26397155,
                        "iteration": 453,
                        "remaining_time": 27.97825654,
                        "learn": [
                          0.9794264642,
                          0.07375115759
                        ]
                      },
                      {
                        "test": [
                          0.9302064632,
                          0.1953155557
                        ],
                        "passed_time": 23.31070724,
                        "iteration": 454,
                        "remaining_time": 27.92161637,
                        "learn": [
                          0.9795720316,
                          0.07358419138
                        ]
                      },
                      {
                        "test": [
                          0.9302064632,
                          0.19527295
                        ],
                        "passed_time": 23.35473975,
                        "iteration": 455,
                        "remaining_time": 27.86179479,
                        "learn": [
                          0.9794749867,
                          0.07353730498
                        ]
                      },
                      {
                        "test": [
                          0.9304308797,
                          0.1952832304
                        ],
                        "passed_time": 23.45558615,
                        "iteration": 456,
                        "remaining_time": 27.86954765,
                        "learn": [
                          0.9794264642,
                          0.07342278609
                        ]
                      },
                      {
                        "test": [
                          0.9297576302,
                          0.1953595358
                        ],
                        "passed_time": 23.50371316,
                        "iteration": 457,
                        "remaining_time": 27.81443785,
                        "learn": [
                          0.9796205541,
                          0.07327892781
                        ]
                      },
                      {
                        "test": [
                          0.9297576302,
                          0.1951776679
                        ],
                        "passed_time": 23.55711365,
                        "iteration": 458,
                        "remaining_time": 27.76557405,
                        "learn": [
                          0.9798146441,
                          0.07313312695
                        ]
                      },
                      {
                        "test": [
                          0.9293087971,
                          0.1952535328
                        ],
                        "passed_time": 23.61193398,
                        "iteration": 459,
                        "remaining_time": 27.71835728,
                        "learn": [
                          0.9799116891,
                          0.0730249004
                        ]
                      },
                      {
                        "test": [
                          0.9299820467,
                          0.1952124841
                        ],
                        "passed_time": 23.65913392,
                        "iteration": 460,
                        "remaining_time": 27.66219779,
                        "learn": [
                          0.9798631666,
                          0.07294863339
                        ]
                      },
                      {
                        "test": [
                          0.9295332136,
                          0.1953077614
                        ],
                        "passed_time": 23.70439884,
                        "iteration": 461,
                        "remaining_time": 27.60382376,
                        "learn": [
                          0.9800572565,
                          0.07288505091
                        ]
                      },
                      {
                        "test": [
                          0.9302064632,
                          0.1952665733
                        ],
                        "passed_time": 23.75572169,
                        "iteration": 462,
                        "remaining_time": 27.55253251,
                        "learn": [
                          0.980105779,
                          0.07275345933
                        ]
                      },
                      {
                        "test": [
                          0.9306552962,
                          0.1952720311
                        ],
                        "passed_time": 23.80522816,
                        "iteration": 463,
                        "remaining_time": 27.49914287,
                        "learn": [
                          0.9802513465,
                          0.07261120661
                        ]
                      },
                      {
                        "test": [
                          0.9308797127,
                          0.1952199975
                        ],
                        "passed_time": 23.85267953,
                        "iteration": 464,
                        "remaining_time": 27.44340548,
                        "learn": [
                          0.9802513465,
                          0.07256280804
                        ]
                      },
                      {
                        "test": [
                          0.9311041293,
                          0.1951429484
                        ],
                        "passed_time": 23.90505375,
                        "iteration": 465,
                        "remaining_time": 27.39334486,
                        "learn": [
                          0.980299869,
                          0.07247222798
                        ]
                      },
                      {
                        "test": [
                          0.9311041293,
                          0.1951423426
                        ],
                        "passed_time": 23.95077838,
                        "iteration": 466,
                        "remaining_time": 27.33568496,
                        "learn": [
                          0.980299869,
                          0.072427607
                        ]
                      },
                      {
                        "test": [
                          0.9311041293,
                          0.1951044605
                        ],
                        "passed_time": 23.99876165,
                        "iteration": 467,
                        "remaining_time": 27.28064359,
                        "learn": [
                          0.9801543015,
                          0.07236710498
                        ]
                      },
                      {
                        "test": [
                          0.9311041293,
                          0.1954014489
                        ],
                        "passed_time": 24.04920032,
                        "iteration": 468,
                        "remaining_time": 27.2284123,
                        "learn": [
                          0.980299869,
                          0.07221388845
                        ]
                      },
                      {
                        "test": [
                          0.9308797127,
                          0.1954361292
                        ],
                        "passed_time": 24.09699557,
                        "iteration": 469,
                        "remaining_time": 27.17320777,
                        "learn": [
                          0.9804939589,
                          0.07210890924
                        ]
                      },
                      {
                        "test": [
                          0.9306552962,
                          0.1954669571
                        ],
                        "passed_time": 24.15535149,
                        "iteration": 470,
                        "remaining_time": 27.12989583,
                        "learn": [
                          0.980396914,
                          0.07195715153
                        ]
                      },
                      {
                        "test": [
                          0.9306552962,
                          0.1954343794
                        ],
                        "passed_time": 24.20141143,
                        "iteration": 471,
                        "remaining_time": 27.07276533,
                        "learn": [
                          0.9804454365,
                          0.07190333719
                        ]
                      },
                      {
                        "test": [
                          0.9306552962,
                          0.195343798
                        ],
                        "passed_time": 24.24960171,
                        "iteration": 472,
                        "remaining_time": 27.01805518,
                        "learn": [
                          0.9804939589,
                          0.07183201252
                        ]
                      },
                      {
                        "test": [
                          0.9304308797,
                          0.1955824931
                        ],
                        "passed_time": 24.30160227,
                        "iteration": 473,
                        "remaining_time": 26.96760083,
                        "learn": [
                          0.9805424814,
                          0.07166941159
                        ]
                      },
                      {
                        "test": [
                          0.9306552962,
                          0.1955803762
                        ],
                        "passed_time": 24.35391714,
                        "iteration": 474,
                        "remaining_time": 26.91748736,
                        "learn": [
                          0.9805910039,
                          0.07139233833
                        ]
                      },
                      {
                        "test": [
                          0.9302064632,
                          0.1955418037
                        ],
                        "passed_time": 24.41757155,
                        "iteration": 475,
                        "remaining_time": 26.87984768,
                        "learn": [
                          0.9807365714,
                          0.07127764502
                        ]
                      },
                      {
                        "test": [
                          0.9304308797,
                          0.1956072133
                        ],
                        "passed_time": 24.50175498,
                        "iteration": 476,
                        "remaining_time": 26.86460766,
                        "learn": [
                          0.9807365714,
                          0.07115827171
                        ]
                      },
                      {
                        "test": [
                          0.9304308797,
                          0.195663707
                        ],
                        "passed_time": 24.5485499,
                        "iteration": 477,
                        "remaining_time": 26.80824905,
                        "learn": [
                          0.9809306614,
                          0.07104635991
                        ]
                      },
                      {
                        "test": [
                          0.9304308797,
                          0.1957744789
                        ],
                        "passed_time": 24.59409913,
                        "iteration": 478,
                        "remaining_time": 26.75057546,
                        "learn": [
                          0.9808336164,
                          0.07093162465
                        ]
                      },
                      {
                        "test": [
                          0.9308797127,
                          0.195596337
                        ],
                        "passed_time": 24.63908526,
                        "iteration": 479,
                        "remaining_time": 26.69234236,
                        "learn": [
                          0.9808336164,
                          0.07086473122
                        ]
                      },
                      {
                        "test": [
                          0.9308797127,
                          0.1956119621
                        ],
                        "passed_time": 24.68879914,
                        "iteration": 480,
                        "remaining_time": 26.6392656,
                        "learn": [
                          0.9808336164,
                          0.07077184914
                        ]
                      },
                      {
                        "test": [
                          0.9306552962,
                          0.1955884867
                        ],
                        "passed_time": 24.73856507,
                        "iteration": 481,
                        "remaining_time": 26.58625873,
                        "learn": [
                          0.9808821389,
                          0.07064097032
                        ]
                      },
                      {
                        "test": [
                          0.9308797127,
                          0.1956624869
                        ],
                        "passed_time": 24.78875259,
                        "iteration": 482,
                        "remaining_time": 26.53371654,
                        "learn": [
                          0.9809791839,
                          0.07051498341
                        ]
                      },
                      {
                        "test": [
                          0.9308797127,
                          0.1956344394
                        ],
                        "passed_time": 24.83675305,
                        "iteration": 483,
                        "remaining_time": 26.47885243,
                        "learn": [
                          0.9809791839,
                          0.07044175134
                        ]
                      },
                      {
                        "test": [
                          0.9304308797,
                          0.1957014063
                        ],
                        "passed_time": 24.88455222,
                        "iteration": 484,
                        "remaining_time": 26.42380288,
                        "learn": [
                          0.9812703188,
                          0.07029062317
                        ]
                      },
                      {
                        "test": [
                          0.9302064632,
                          0.1956419426
                        ],
                        "passed_time": 24.93771071,
                        "iteration": 485,
                        "remaining_time": 26.37445124,
                        "learn": [
                          0.9813673638,
                          0.07014833141
                        ]
                      },
                      {
                        "test": [
                          0.9299820467,
                          0.1956034478
                        ],
                        "passed_time": 24.98598854,
                        "iteration": 486,
                        "remaining_time": 26.31994276,
                        "learn": [
                          0.9814158863,
                          0.07007547413
                        ]
                      },
                      {
                        "test": [
                          0.9299820467,
                          0.1956096521
                        ],
                        "passed_time": 25.03089218,
                        "iteration": 487,
                        "remaining_time": 26.26191966,
                        "learn": [
                          0.9812703188,
                          0.06998687188
                        ]
                      },
                      {
                        "test": [
                          0.9302064632,
                          0.1956452699
                        ],
                        "passed_time": 25.08331538,
                        "iteration": 488,
                        "remaining_time": 26.21180809,
                        "learn": [
                          0.9812217963,
                          0.06982636195
                        ]
                      },
                      {
                        "test": [
                          0.9302064632,
                          0.195600301
                        ],
                        "passed_time": 25.1338378,
                        "iteration": 489,
                        "remaining_time": 26.15970873,
                        "learn": [
                          0.9813673638,
                          0.06971571969
                        ]
                      },
                      {
                        "test": [
                          0.9304308797,
                          0.1957091172
                        ],
                        "passed_time": 25.19421998,
                        "iteration": 490,
                        "remaining_time": 26.11783701,
                        "learn": [
                          0.9814644088,
                          0.06966613189
                        ]
                      },
                      {
                        "test": [
                          0.9304308797,
                          0.1956900751
                        ],
                        "passed_time": 25.24565749,
                        "iteration": 491,
                        "remaining_time": 26.06665449,
                        "learn": [
                          0.9815129312,
                          0.0695637974
                        ]
                      },
                      {
                        "test": [
                          0.9302064632,
                          0.1957859102
                        ],
                        "passed_time": 25.29804297,
                        "iteration": 492,
                        "remaining_time": 26.01644581,
                        "learn": [
                          0.9816099762,
                          0.069473513
                        ]
                      },
                      {
                        "test": [
                          0.9304308797,
                          0.1958016765
                        ],
                        "passed_time": 25.3458115,
                        "iteration": 493,
                        "remaining_time": 25.96149923,
                        "learn": [
                          0.9817070212,
                          0.06933399721
                        ]
                      },
                      {
                        "test": [
                          0.9302064632,
                          0.1959390386
                        ],
                        "passed_time": 25.40089945,
                        "iteration": 494,
                        "remaining_time": 25.91404893,
                        "learn": [
                          0.9816584987,
                          0.06921503602
                        ]
                      },
                      {
                        "test": [
                          0.9304308797,
                          0.1959015527
                        ],
                        "passed_time": 25.48671943,
                        "iteration": 495,
                        "remaining_time": 25.89779555,
                        "learn": [
                          0.9816099762,
                          0.06910974631
                        ]
                      },
                      {
                        "test": [
                          0.9302064632,
                          0.1958614332
                        ],
                        "passed_time": 25.55772305,
                        "iteration": 496,
                        "remaining_time": 25.86626699,
                        "learn": [
                          0.9816099762,
                          0.06900579191
                        ]
                      },
                      {
                        "test": [
                          0.9299820467,
                          0.1959962143
                        ],
                        "passed_time": 25.60553681,
                        "iteration": 497,
                        "remaining_time": 25.81120378,
                        "learn": [
                          0.9815614537,
                          0.06886672806
                        ]
                      },
                      {
                        "test": [
                          0.9308797127,
                          0.1960041221
                        ],
                        "passed_time": 25.65721499,
                        "iteration": 498,
                        "remaining_time": 25.76004952,
                        "learn": [
                          0.9816099762,
                          0.06874201597
                        ]
                      },
                      {
                        "test": [
                          0.9313285458,
                          0.1961254371
                        ],
                        "passed_time": 25.70387615,
                        "iteration": 499,
                        "remaining_time": 25.70387615,
                        "learn": [
                          0.9817555437,
                          0.06868275573
                        ]
                      },
                      {
                        "test": [
                          0.9311041293,
                          0.1960547018
                        ],
                        "passed_time": 25.75388649,
                        "iteration": 500,
                        "remaining_time": 25.65107656,
                        "learn": [
                          0.9819011112,
                          0.06858693701
                        ]
                      },
                      {
                        "test": [
                          0.9306552962,
                          0.1960612772
                        ],
                        "passed_time": 25.80428566,
                        "iteration": 501,
                        "remaining_time": 25.59867383,
                        "learn": [
                          0.9820466786,
                          0.06851476151
                        ]
                      },
                      {
                        "test": [
                          0.9308797127,
                          0.1961151715
                        ],
                        "passed_time": 25.86133158,
                        "iteration": 502,
                        "remaining_time": 25.55284651,
                        "learn": [
                          0.9819496337,
                          0.06841345654
                        ]
                      },
                      {
                        "test": [
                          0.9308797127,
                          0.1961107892
                        ],
                        "passed_time": 25.90775275,
                        "iteration": 503,
                        "remaining_time": 25.49651858,
                        "learn": [
                          0.9819496337,
                          0.06836428434
                        ]
                      },
                      {
                        "test": [
                          0.9311041293,
                          0.1960492889
                        ],
                        "passed_time": 25.95339447,
                        "iteration": 504,
                        "remaining_time": 25.43946587,
                        "learn": [
                          0.9818525887,
                          0.06827887847
                        ]
                      },
                      {
                        "test": [
                          0.9306552962,
                          0.1961969297
                        ],
                        "passed_time": 26.00843171,
                        "iteration": 505,
                        "remaining_time": 25.39163095,
                        "learn": [
                          0.9818525887,
                          0.06810228181
                        ]
                      },
                      {
                        "test": [
                          0.9308797127,
                          0.1962025608
                        ],
                        "passed_time": 26.05760597,
                        "iteration": 506,
                        "remaining_time": 25.33806655,
                        "learn": [
                          0.9820466786,
                          0.06800860985
                        ]
                      },
                      {
                        "test": [
                          0.9304308797,
                          0.1962562659
                        ],
                        "passed_time": 26.10683127,
                        "iteration": 507,
                        "remaining_time": 25.28456887,
                        "learn": [
                          0.9819011112,
                          0.06790336837
                        ]
                      },
                      {
                        "test": [
                          0.9304308797,
                          0.1962110164
                        ],
                        "passed_time": 26.15261576,
                        "iteration": 508,
                        "remaining_time": 25.22776884,
                        "learn": [
                          0.9818040662,
                          0.06788168154
                        ]
                      },
                      {
                        "test": [
                          0.9306552962,
                          0.1962819291
                        ],
                        "passed_time": 26.21414212,
                        "iteration": 509,
                        "remaining_time": 25.18613655,
                        "learn": [
                          0.9820952011,
                          0.06779124459
                        ]
                      },
                      {
                        "test": [
                          0.9302064632,
                          0.196405815
                        ],
                        "passed_time": 26.26672534,
                        "iteration": 510,
                        "remaining_time": 25.13586828,
                        "learn": [
                          0.9820466786,
                          0.06769050539
                        ]
                      },
                      {
                        "test": [
                          0.9306552962,
                          0.1963033057
                        ],
                        "passed_time": 26.31154254,
                        "iteration": 511,
                        "remaining_time": 25.07818898,
                        "learn": [
                          0.9820952011,
                          0.06762040033
                        ]
                      },
                      {
                        "test": [
                          0.9297576302,
                          0.1962997202
                        ],
                        "passed_time": 26.36746653,
                        "iteration": 512,
                        "remaining_time": 25.0311037,
                        "learn": [
                          0.9822407686,
                          0.06753770278
                        ]
                      },
                      {
                        "test": [
                          0.9297576302,
                          0.1963218247
                        ],
                        "passed_time": 26.41396363,
                        "iteration": 513,
                        "remaining_time": 24.97507067,
                        "learn": [
                          0.9823378136,
                          0.06746865749
                        ]
                      },
                      {
                        "test": [
                          0.9295332136,
                          0.1963929867
                        ],
                        "passed_time": 26.46045058,
                        "iteration": 514,
                        "remaining_time": 24.91906511,
                        "learn": [
                          0.9823378136,
                          0.0673578499
                        ]
                      },
                      {
                        "test": [
                          0.9293087971,
                          0.1964187682
                        ],
                        "passed_time": 26.5368565,
                        "iteration": 515,
                        "remaining_time": 24.89115997,
                        "learn": [
                          0.9823378136,
                          0.06727288432
                        ]
                      },
                      {
                        "test": [
                          0.9295332136,
                          0.1963320013
                        ],
                        "passed_time": 26.61296735,
                        "iteration": 516,
                        "remaining_time": 24.86279154,
                        "learn": [
                          0.9822407686,
                          0.06717100904
                        ]
                      },
                      {
                        "test": [
                          0.9295332136,
                          0.1964751231
                        ],
                        "passed_time": 26.66252643,
                        "iteration": 517,
                        "remaining_time": 24.80953232,
                        "learn": [
                          0.9822892911,
                          0.06711197676
                        ]
                      },
                      {
                        "test": [
                          0.9295332136,
                          0.1964994046
                        ],
                        "passed_time": 26.71420779,
                        "iteration": 518,
                        "remaining_time": 24.75825423,
                        "learn": [
                          0.9822407686,
                          0.06701011067
                        ]
                      },
                      {
                        "test": [
                          0.9297576302,
                          0.1965046377
                        ],
                        "passed_time": 26.75855619,
                        "iteration": 519,
                        "remaining_time": 24.70020571,
                        "learn": [
                          0.9822892911,
                          0.06694482739
                        ]
                      },
                      {
                        "test": [
                          0.9295332136,
                          0.1964937392
                        ],
                        "passed_time": 26.80638409,
                        "iteration": 520,
                        "remaining_time": 24.64540879,
                        "learn": [
                          0.9822892911,
                          0.06682512819
                        ]
                      },
                      {
                        "test": [
                          0.9297576302,
                          0.1965315564
                        ],
                        "passed_time": 26.85646009,
                        "iteration": 521,
                        "remaining_time": 24.59269717,
                        "learn": [
                          0.9822892911,
                          0.0667546361
                        ]
                      },
                      {
                        "test": [
                          0.9297576302,
                          0.1965935251
                        ],
                        "passed_time": 26.90620394,
                        "iteration": 522,
                        "remaining_time": 24.5396927,
                        "learn": [
                          0.9823863361,
                          0.0666327587
                        ]
                      },
                      {
                        "test": [
                          0.9297576302,
                          0.1966341203
                        ],
                        "passed_time": 26.95776992,
                        "iteration": 523,
                        "remaining_time": 24.48835588,
                        "learn": [
                          0.9823863361,
                          0.06658493983
                        ]
                      },
                      {
                        "test": [
                          0.9297576302,
                          0.1967598575
                        ],
                        "passed_time": 27.00864022,
                        "iteration": 524,
                        "remaining_time": 24.43638877,
                        "learn": [
                          0.9823863361,
                          0.0665072903
                        ]
                      },
                      {
                        "test": [
                          0.9297576302,
                          0.1967539525
                        ],
                        "passed_time": 27.06432059,
                        "iteration": 525,
                        "remaining_time": 24.38876038,
                        "learn": [
                          0.9823378136,
                          0.06645826961
                        ]
                      },
                      {
                        "test": [
                          0.9302064632,
                          0.1966232636
                        ],
                        "passed_time": 27.11472958,
                        "iteration": 526,
                        "remaining_time": 24.33637019,
                        "learn": [
                          0.9823378136,
                          0.06630223276
                        ]
                      },
                      {
                        "test": [
                          0.9299820467,
                          0.1965586536
                        ],
                        "passed_time": 27.16231237,
                        "iteration": 527,
                        "remaining_time": 24.28146106,
                        "learn": [
                          0.9823378136,
                          0.06622324984
                        ]
                      },
                      {
                        "test": [
                          0.9306552962,
                          0.1964800859
                        ],
                        "passed_time": 27.21747202,
                        "iteration": 528,
                        "remaining_time": 24.23332575,
                        "learn": [
                          0.982483381,
                          0.06615727304
                        ]
                      },
                      {
                        "test": [
                          0.9306552962,
                          0.1964514471
                        ],
                        "passed_time": 27.2745297,
                        "iteration": 529,
                        "remaining_time": 24.18684709,
                        "learn": [
                          0.9823863361,
                          0.06608902204
                        ]
                      },
                      {
                        "test": [
                          0.9311041293,
                          0.1965425249
                        ],
                        "passed_time": 27.32221934,
                        "iteration": 530,
                        "remaining_time": 24.13205437,
                        "learn": [
                          0.9824348586,
                          0.06593979313
                        ]
                      },
                      {
                        "test": [
                          0.9308797127,
                          0.1966718826
                        ],
                        "passed_time": 27.37171369,
                        "iteration": 531,
                        "remaining_time": 24.07887595,
                        "learn": [
                          0.982483381,
                          0.06580919527
                        ]
                      },
                      {
                        "test": [
                          0.9306552962,
                          0.1967091516
                        ],
                        "passed_time": 27.42114925,
                        "iteration": 532,
                        "remaining_time": 24.02565985,
                        "learn": [
                          0.982483381,
                          0.06572733452
                        ]
                      },
                      {
                        "test": [
                          0.9306552962,
                          0.1966771705
                        ],
                        "passed_time": 27.46999502,
                        "iteration": 533,
                        "remaining_time": 23.97194322,
                        "learn": [
                          0.9827259935,
                          0.06558515186
                        ]
                      },
                      {
                        "test": [
                          0.9306552962,
                          0.1966501282
                        ],
                        "passed_time": 27.52371266,
                        "iteration": 534,
                        "remaining_time": 23.92247923,
                        "learn": [
                          0.982677471,
                          0.06548677604
                        ]
                      },
                      {
                        "test": [
                          0.9306552962,
                          0.196633927
                        ],
                        "passed_time": 27.62379188,
                        "iteration": 535,
                        "remaining_time": 23.91313327,
                        "learn": [
                          0.9827259935,
                          0.06538477524
                        ]
                      },
                      {
                        "test": [
                          0.9306552962,
                          0.196677008
                        ],
                        "passed_time": 27.66950007,
                        "iteration": 536,
                        "remaining_time": 23.85657083,
                        "learn": [
                          0.982774516,
                          0.06532051077
                        ]
                      },
                      {
                        "test": [
                          0.9306552962,
                          0.1966749805
                        ],
                        "passed_time": 27.71491447,
                        "iteration": 537,
                        "remaining_time": 23.79979644,
                        "learn": [
                          0.982871561,
                          0.0652548791
                        ]
                      },
                      {
                        "test": [
                          0.9306552962,
                          0.196757039
                        ],
                        "passed_time": 27.76915361,
                        "iteration": 538,
                        "remaining_time": 23.7506119,
                        "learn": [
                          0.9830171284,
                          0.0651524006
                        ]
                      },
                      {
                        "test": [
                          0.9308797127,
                          0.1967367845
                        ],
                        "passed_time": 27.81630607,
                        "iteration": 539,
                        "remaining_time": 23.69537184,
                        "learn": [
                          0.9831141734,
                          0.0650573191
                        ]
                      },
                      {
                        "test": [
                          0.9308797127,
                          0.1966195042
                        ],
                        "passed_time": 27.86451812,
                        "iteration": 540,
                        "remaining_time": 23.64106066,
                        "learn": [
                          0.9830171284,
                          0.0649902294
                        ]
                      },
                      {
                        "test": [
                          0.9308797127,
                          0.1968036032
                        ],
                        "passed_time": 27.91879883,
                        "iteration": 541,
                        "remaining_time": 23.59190012,
                        "learn": [
                          0.9831141734,
                          0.06487810178
                        ]
                      },
                      {
                        "test": [
                          0.9308797127,
                          0.1968216469
                        ],
                        "passed_time": 27.97181271,
                        "iteration": 542,
                        "remaining_time": 23.54165452,
                        "learn": [
                          0.9831626959,
                          0.06482909814
                        ]
                      },
                      {
                        "test": [
                          0.9308797127,
                          0.1968908361
                        ],
                        "passed_time": 28.0195205,
                        "iteration": 543,
                        "remaining_time": 23.48695101,
                        "learn": [
                          0.9833567859,
                          0.06474822909
                        ]
                      },
                      {
                        "test": [
                          0.9308797127,
                          0.1968550924
                        ],
                        "passed_time": 28.07434698,
                        "iteration": 544,
                        "remaining_time": 23.43821628,
                        "learn": [
                          0.9832597409,
                          0.06456804976
                        ]
                      },
                      {
                        "test": [
                          0.9311041293,
                          0.1969085028
                        ],
                        "passed_time": 28.12071013,
                        "iteration": 545,
                        "remaining_time": 23.38242198,
                        "learn": [
                          0.9832112184,
                          0.06449722818
                        ]
                      },
                      {
                        "test": [
                          0.9313285458,
                          0.1970195716
                        ],
                        "passed_time": 28.17726459,
                        "iteration": 546,
                        "remaining_time": 23.33510212,
                        "learn": [
                          0.9833567859,
                          0.06438087821
                        ]
                      },
                      {
                        "test": [
                          0.9313285458,
                          0.1970695583
                        ],
                        "passed_time": 28.22529388,
                        "iteration": 547,
                        "remaining_time": 23.28071685,
                        "learn": [
                          0.9834053084,
                          0.06429430957
                        ]
                      },
                      {
                        "test": [
                          0.9311041293,
                          0.1970421097
                        ],
                        "passed_time": 28.27880943,
                        "iteration": 548,
                        "remaining_time": 23.23086167,
                        "learn": [
                          0.9834538309,
                          0.06425308741
                        ]
                      },
                      {
                        "test": [
                          0.9313285458,
                          0.1970340314
                        ],
                        "passed_time": 28.32868695,
                        "iteration": 549,
                        "remaining_time": 23.1780166,
                        "learn": [
                          0.9836479208,
                          0.0641489953
                        ]
                      },
                      {
                        "test": [
                          0.9313285458,
                          0.1970755822
                        ],
                        "passed_time": 28.37350813,
                        "iteration": 550,
                        "remaining_time": 23.12106198,
                        "learn": [
                          0.9837449658,
                          0.06411467695
                        ]
                      },
                      {
                        "test": [
                          0.9308797127,
                          0.1971249132
                        ],
                        "passed_time": 28.42303178,
                        "iteration": 551,
                        "remaining_time": 23.06796782,
                        "learn": [
                          0.9838420108,
                          0.06404651409
                        ]
                      },
                      {
                        "test": [
                          0.9308797127,
                          0.1971948043
                        ],
                        "passed_time": 28.47278025,
                        "iteration": 552,
                        "remaining_time": 23.0150683,
                        "learn": [
                          0.9838420108,
                          0.06394403327
                        ]
                      },
                      {
                        "test": [
                          0.9308797127,
                          0.1973123288
                        ],
                        "passed_time": 28.52782441,
                        "iteration": 553,
                        "remaining_time": 22.96644348,
                        "learn": [
                          0.9838420108,
                          0.06383431712
                        ]
                      },
                      {
                        "test": [
                          0.9311041293,
                          0.1973279827
                        ],
                        "passed_time": 28.60852289,
                        "iteration": 554,
                        "remaining_time": 22.9383652,
                        "learn": [
                          0.9839390558,
                          0.0637897615
                        ]
                      },
                      {
                        "test": [
                          0.9311041293,
                          0.1973311666
                        ],
                        "passed_time": 28.68149721,
                        "iteration": 555,
                        "remaining_time": 22.90392942,
                        "learn": [
                          0.9836479208,
                          0.06371869542
                        ]
                      },
                      {
                        "test": [
                          0.9313285458,
                          0.1971392857
                        ],
                        "passed_time": 28.73096561,
                        "iteration": 556,
                        "remaining_time": 22.85066026,
                        "learn": [
                          0.9835508758,
                          0.06354317002
                        ]
                      },
                      {
                        "test": [
                          0.9315529623,
                          0.1972059159
                        ],
                        "passed_time": 28.77866121,
                        "iteration": 557,
                        "remaining_time": 22.79600046,
                        "learn": [
                          0.9835508758,
                          0.06349088836
                        ]
                      },
                      {
                        "test": [
                          0.9313285458,
                          0.1973755072
                        ],
                        "passed_time": 28.82607907,
                        "iteration": 558,
                        "remaining_time": 22.74114646,
                        "learn": [
                          0.9835993983,
                          0.06340582828
                        ]
                      },
                      {
                        "test": [
                          0.9311041293,
                          0.1974776871
                        ],
                        "passed_time": 28.88120128,
                        "iteration": 559,
                        "remaining_time": 22.69237244,
                        "learn": [
                          0.9836479208,
                          0.06332564265
                        ]
                      },
                      {
                        "test": [
                          0.9313285458,
                          0.1974360715
                        ],
                        "passed_time": 28.9257443,
                        "iteration": 560,
                        "remaining_time": 22.63529723,
                        "learn": [
                          0.9836479208,
                          0.06328316397
                        ]
                      },
                      {
                        "test": [
                          0.9315529623,
                          0.1973354991
                        ],
                        "passed_time": 28.97889014,
                        "iteration": 561,
                        "remaining_time": 22.58497132,
                        "learn": [
                          0.9838905333,
                          0.06318326186
                        ]
                      },
                      {
                        "test": [
                          0.9311041293,
                          0.1974874713
                        ],
                        "passed_time": 29.03130101,
                        "iteration": 562,
                        "remaining_time": 22.53406491,
                        "learn": [
                          0.9839390558,
                          0.06298041368
                        ]
                      },
                      {
                        "test": [
                          0.9308797127,
                          0.1976256555
                        ],
                        "passed_time": 29.08059624,
                        "iteration": 563,
                        "remaining_time": 22.48074461,
                        "learn": [
                          0.9840361007,
                          0.06291922535
                        ]
                      },
                      {
                        "test": [
                          0.9308797127,
                          0.1976872663
                        ],
                        "passed_time": 29.13194445,
                        "iteration": 564,
                        "remaining_time": 22.42901918,
                        "learn": [
                          0.9839390558,
                          0.06286012828
                        ]
                      },
                      {
                        "test": [
                          0.9311041293,
                          0.1975526122
                        ],
                        "passed_time": 29.17878544,
                        "iteration": 565,
                        "remaining_time": 22.37383901,
                        "learn": [
                          0.9841816682,
                          0.06272633606
                        ]
                      },
                      {
                        "test": [
                          0.9311041293,
                          0.1975219614
                        ],
                        "passed_time": 29.22507956,
                        "iteration": 566,
                        "remaining_time": 22.31827063,
                        "learn": [
                          0.9841331457,
                          0.06268124366
                        ]
                      },
                      {
                        "test": [
                          0.9313285458,
                          0.1974083045
                        ],
                        "passed_time": 29.29679531,
                        "iteration": 567,
                        "remaining_time": 22.28206967,
                        "learn": [
                          0.9841816682,
                          0.06257749227
                        ]
                      },
                      {
                        "test": [
                          0.9313285458,
                          0.1974151668
                        ],
                        "passed_time": 29.34580339,
                        "iteration": 568,
                        "remaining_time": 22.22854352,
                        "learn": [
                          0.9841816682,
                          0.06254654623
                        ]
                      },
                      {
                        "test": [
                          0.9313285458,
                          0.1973304559
                        ],
                        "passed_time": 29.39059782,
                        "iteration": 569,
                        "remaining_time": 22.1718545,
                        "learn": [
                          0.9843757582,
                          0.06249199076
                        ]
                      },
                      {
                        "test": [
                          0.9317773788,
                          0.197347739
                        ],
                        "passed_time": 29.44018213,
                        "iteration": 570,
                        "remaining_time": 22.11880584,
                        "learn": [
                          0.9842787132,
                          0.06240297868
                        ]
                      },
                      {
                        "test": [
                          0.9315529623,
                          0.1973554671
                        ],
                        "passed_time": 29.48998281,
                        "iteration": 571,
                        "remaining_time": 22.0659312,
                        "learn": [
                          0.9842787132,
                          0.06234850995
                        ]
                      },
                      {
                        "test": [
                          0.9315529623,
                          0.1973197401
                        ],
                        "passed_time": 29.54329997,
                        "iteration": 572,
                        "remaining_time": 22.01568776,
                        "learn": [
                          0.9844728031,
                          0.06220487203
                        ]
                      },
                      {
                        "test": [
                          0.9313285458,
                          0.1973488871
                        ],
                        "passed_time": 29.58818643,
                        "iteration": 573,
                        "remaining_time": 21.95917669,
                        "learn": [
                          0.9845213256,
                          0.06215351401
                        ]
                      },
                      {
                        "test": [
                          0.9311041293,
                          0.1972490428
                        ],
                        "passed_time": 29.68820169,
                        "iteration": 574,
                        "remaining_time": 21.94345342,
                        "learn": [
                          0.9844242807,
                          0.06205211182
                        ]
                      },
                      {
                        "test": [
                          0.9315529623,
                          0.1973064218
                        ],
                        "passed_time": 29.74270465,
                        "iteration": 575,
                        "remaining_time": 21.89393537,
                        "learn": [
                          0.9847639381,
                          0.06195440302
                        ]
                      },
                      {
                        "test": [
                          0.9315529623,
                          0.1973285808
                        ],
                        "passed_time": 29.79346629,
                        "iteration": 576,
                        "remaining_time": 21.84165726,
                        "learn": [
                          0.9845698481,
                          0.06189393255
                        ]
                      },
                      {
                        "test": [
                          0.9322262118,
                          0.1972406842
                        ],
                        "passed_time": 29.84134997,
                        "iteration": 577,
                        "remaining_time": 21.78728319,
                        "learn": [
                          0.9846183706,
                          0.06180579848
                        ]
                      },
                      {
                        "test": [
                          0.9322262118,
                          0.1971249847
                        ],
                        "passed_time": 29.89363351,
                        "iteration": 578,
                        "remaining_time": 21.73613075,
                        "learn": [
                          0.9847154156,
                          0.06166688167
                        ]
                      },
                      {
                        "test": [
                          0.9322262118,
                          0.1971534791
                        ],
                        "passed_time": 29.93973619,
                        "iteration": 579,
                        "remaining_time": 21.68049862,
                        "learn": [
                          0.9846668931,
                          0.06162210948
                        ]
                      },
                      {
                        "test": [
                          0.9322262118,
                          0.1971063242
                        ],
                        "passed_time": 29.98433185,
                        "iteration": 580,
                        "remaining_time": 21.62381247,
                        "learn": [
                          0.9848124606,
                          0.06153424646
                        ]
                      },
                      {
                        "test": [
                          0.9320017953,
                          0.1970963942
                        ],
                        "passed_time": 30.03285025,
                        "iteration": 581,
                        "remaining_time": 21.56998523,
                        "learn": [
                          0.9848124606,
                          0.0614446148
                        ]
                      },
                      {
                        "test": [
                          0.9317773788,
                          0.1971987164
                        ],
                        "passed_time": 30.08427558,
                        "iteration": 582,
                        "remaining_time": 21.51825543,
                        "learn": [
                          0.984958028,
                          0.06132435266
                        ]
                      },
                      {
                        "test": [
                          0.9315529623,
                          0.1972174354
                        ],
                        "passed_time": 30.13481078,
                        "iteration": 583,
                        "remaining_time": 21.46589261,
                        "learn": [
                          0.9851035955,
                          0.06124584994
                        ]
                      },
                      {
                        "test": [
                          0.9315529623,
                          0.1972041021
                        ],
                        "passed_time": 30.18338285,
                        "iteration": 584,
                        "remaining_time": 21.41214339,
                        "learn": [
                          0.9851035955,
                          0.06121690256
                        ]
                      },
                      {
                        "test": [
                          0.9315529623,
                          0.1972224899
                        ],
                        "passed_time": 30.23034214,
                        "iteration": 585,
                        "remaining_time": 21.35727243,
                        "learn": [
                          0.984958028,
                          0.0611782216
                        ]
                      },
                      {
                        "test": [
                          0.9317773788,
                          0.1972582268
                        ],
                        "passed_time": 30.29062378,
                        "iteration": 586,
                        "remaining_time": 21.31180174,
                        "learn": [
                          0.985055073,
                          0.0610808408
                        ]
                      },
                      {
                        "test": [
                          0.9317773788,
                          0.1972338017
                        ],
                        "passed_time": 30.34469037,
                        "iteration": 587,
                        "remaining_time": 21.26192591,
                        "learn": [
                          0.9850065505,
                          0.06099623327
                        ]
                      },
                      {
                        "test": [
                          0.9320017953,
                          0.1972329947
                        ],
                        "passed_time": 30.39516031,
                        "iteration": 588,
                        "remaining_time": 21.20952612,
                        "learn": [
                          0.985152118,
                          0.06092783992
                        ]
                      },
                      {
                        "test": [
                          0.9328994614,
                          0.1972601049
                        ],
                        "passed_time": 30.44864104,
                        "iteration": 589,
                        "remaining_time": 21.15922513,
                        "learn": [
                          0.9852006405,
                          0.06081886437
                        ]
                      },
                      {
                        "test": [
                          0.9326750449,
                          0.1972367227
                        ],
                        "passed_time": 30.49331202,
                        "iteration": 590,
                        "remaining_time": 21.10281661,
                        "learn": [
                          0.9852006405,
                          0.06073093987
                        ]
                      },
                      {
                        "test": [
                          0.9326750449,
                          0.19730464
                        ],
                        "passed_time": 30.54045139,
                        "iteration": 591,
                        "remaining_time": 21.04814893,
                        "learn": [
                          0.9852976855,
                          0.06067741058
                        ]
                      },
                      {
                        "test": [
                          0.9326750449,
                          0.1972098732
                        ],
                        "passed_time": 30.59443702,
                        "iteration": 592,
                        "remaining_time": 20.99820551,
                        "learn": [
                          0.9852006405,
                          0.060516704
                        ]
                      },
                      {
                        "test": [
                          0.9328994614,
                          0.1972172875
                        ],
                        "passed_time": 30.67495552,
                        "iteration": 593,
                        "remaining_time": 20.96638374,
                        "learn": [
                          0.9852006405,
                          0.06041607638
                        ]
                      },
                      {
                        "test": [
                          0.9326750449,
                          0.1971430237
                        ],
                        "passed_time": 30.75677996,
                        "iteration": 594,
                        "remaining_time": 20.9352872,
                        "learn": [
                          0.9853947305,
                          0.06030084981
                        ]
                      },
                      {
                        "test": [
                          0.9326750449,
                          0.1971169222
                        ],
                        "passed_time": 30.79954686,
                        "iteration": 595,
                        "remaining_time": 20.87754519,
                        "learn": [
                          0.9853947305,
                          0.06026431608
                        ]
                      },
                      {
                        "test": [
                          0.9326750449,
                          0.1970946216
                        ],
                        "passed_time": 30.84479197,
                        "iteration": 596,
                        "remaining_time": 20.82152624,
                        "learn": [
                          0.9854917754,
                          0.06024018291
                        ]
                      },
                      {
                        "test": [
                          0.9328994614,
                          0.1970996668
                        ],
                        "passed_time": 30.89632509,
                        "iteration": 597,
                        "remaining_time": 20.76977038,
                        "learn": [
                          0.9855402979,
                          0.06014780523
                        ]
                      },
                      {
                        "test": [
                          0.9322262118,
                          0.1970155669
                        ],
                        "passed_time": 30.95049715,
                        "iteration": 598,
                        "remaining_time": 20.7197819,
                        "learn": [
                          0.9857829104,
                          0.06003664228
                        ]
                      },
                      {
                        "test": [
                          0.9322262118,
                          0.1970215295
                        ],
                        "passed_time": 30.99952935,
                        "iteration": 599,
                        "remaining_time": 20.6663529,
                        "learn": [
                          0.9857829104,
                          0.05998413791
                        ]
                      },
                      {
                        "test": [
                          0.9326750449,
                          0.1969531881
                        ],
                        "passed_time": 31.0459711,
                        "iteration": 600,
                        "remaining_time": 20.61121875,
                        "learn": [
                          0.9859284778,
                          0.05993759849
                        ]
                      },
                      {
                        "test": [
                          0.9328994614,
                          0.1968007502
                        ],
                        "passed_time": 31.09496599,
                        "iteration": 601,
                        "remaining_time": 20.55780143,
                        "learn": [
                          0.9859284778,
                          0.05987095264
                        ]
                      },
                      {
                        "test": [
                          0.9331238779,
                          0.1969464605
                        ],
                        "passed_time": 31.14255751,
                        "iteration": 602,
                        "remaining_time": 20.50347485,
                        "learn": [
                          0.9859770003,
                          0.05977635048
                        ]
                      },
                      {
                        "test": [
                          0.9331238779,
                          0.1969113751
                        ],
                        "passed_time": 31.19135783,
                        "iteration": 603,
                        "remaining_time": 20.44996308,
                        "learn": [
                          0.9859770003,
                          0.05973400617
                        ]
                      },
                      {
                        "test": [
                          0.9328994614,
                          0.1969242044
                        ],
                        "passed_time": 31.24079745,
                        "iteration": 604,
                        "remaining_time": 20.39688429,
                        "learn": [
                          0.9859770003,
                          0.0596726324
                        ]
                      },
                      {
                        "test": [
                          0.9322262118,
                          0.1969405418
                        ],
                        "passed_time": 31.30353225,
                        "iteration": 605,
                        "remaining_time": 20.35246156,
                        "learn": [
                          0.9860255228,
                          0.05954469271
                        ]
                      },
                      {
                        "test": [
                          0.9320017953,
                          0.1967761071
                        ],
                        "passed_time": 31.3555887,
                        "iteration": 606,
                        "remaining_time": 20.30106484,
                        "learn": [
                          0.9862681353,
                          0.05942481647
                        ]
                      },
                      {
                        "test": [
                          0.9324506284,
                          0.1968163734
                        ],
                        "passed_time": 31.40360585,
                        "iteration": 607,
                        "remaining_time": 20.24706166,
                        "learn": [
                          0.9862196128,
                          0.0593748915
                        ]
                      },
                      {
                        "test": [
                          0.9326750449,
                          0.1966412261
                        ],
                        "passed_time": 31.45531093,
                        "iteration": 608,
                        "remaining_time": 20.19544594,
                        "learn": [
                          0.9865107477,
                          0.05924713723
                        ]
                      },
                      {
                        "test": [
                          0.9324506284,
                          0.1965504502
                        ],
                        "passed_time": 31.50070988,
                        "iteration": 609,
                        "remaining_time": 20.13979812,
                        "learn": [
                          0.9865592702,
                          0.05918979763
                        ]
                      },
                      {
                        "test": [
                          0.9320017953,
                          0.1965519411
                        ],
                        "passed_time": 31.55273577,
                        "iteration": 610,
                        "remaining_time": 20.08840297,
                        "learn": [
                          0.9865107477,
                          0.05906957205
                        ]
                      },
                      {
                        "test": [
                          0.9317773788,
                          0.1968038593
                        ],
                        "passed_time": 31.60206984,
                        "iteration": 611,
                        "remaining_time": 20.03529918,
                        "learn": [
                          0.9865107477,
                          0.05892398549
                        ]
                      },
                      {
                        "test": [
                          0.9320017953,
                          0.1968603143
                        ],
                        "passed_time": 31.65057864,
                        "iteration": 612,
                        "remaining_time": 19.98168668,
                        "learn": [
                          0.9865592702,
                          0.05888504022
                        ]
                      },
                      {
                        "test": [
                          0.9320017953,
                          0.1967721382
                        ],
                        "passed_time": 31.73047707,
                        "iteration": 613,
                        "remaining_time": 19.94782435,
                        "learn": [
                          0.9865592702,
                          0.05878256716
                        ]
                      },
                      {
                        "test": [
                          0.9317773788,
                          0.1968128493
                        ],
                        "passed_time": 31.80006357,
                        "iteration": 614,
                        "remaining_time": 19.90735687,
                        "learn": [
                          0.9866077927,
                          0.05868484849
                        ]
                      },
                      {
                        "test": [
                          0.9320017953,
                          0.1968128983
                        ],
                        "passed_time": 31.85576436,
                        "iteration": 615,
                        "remaining_time": 19.85813882,
                        "learn": [
                          0.9867533602,
                          0.05854000005
                        ]
                      },
                      {
                        "test": [
                          0.9317773788,
                          0.1968155684
                        ],
                        "passed_time": 31.89948185,
                        "iteration": 616,
                        "remaining_time": 19.80146118,
                        "learn": [
                          0.9867533602,
                          0.05849273535
                        ]
                      },
                      {
                        "test": [
                          0.9317773788,
                          0.1968296341
                        ],
                        "passed_time": 31.94636014,
                        "iteration": 617,
                        "remaining_time": 19.74677924,
                        "learn": [
                          0.9867533602,
                          0.05841901757
                        ]
                      },
                      {
                        "test": [
                          0.9315529623,
                          0.1968713183
                        ],
                        "passed_time": 31.99336351,
                        "iteration": 618,
                        "remaining_time": 19.69219951,
                        "learn": [
                          0.9868018827,
                          0.05831102072
                        ]
                      },
                      {
                        "test": [
                          0.9313285458,
                          0.19707495
                        ],
                        "passed_time": 32.04154347,
                        "iteration": 619,
                        "remaining_time": 19.63836536,
                        "learn": [
                          0.9869959726,
                          0.05814051531
                        ]
                      },
                      {
                        "test": [
                          0.9313285458,
                          0.1971818025
                        ],
                        "passed_time": 32.09143876,
                        "iteration": 620,
                        "remaining_time": 19.58559628,
                        "learn": [
                          0.9869474501,
                          0.0580547746
                        ]
                      },
                      {
                        "test": [
                          0.9315529623,
                          0.1972395109
                        ],
                        "passed_time": 32.14754364,
                        "iteration": 621,
                        "remaining_time": 19.53661012,
                        "learn": [
                          0.9870444951,
                          0.05797613719
                        ]
                      },
                      {
                        "test": [
                          0.9313285458,
                          0.1973006724
                        ],
                        "passed_time": 32.19721968,
                        "iteration": 622,
                        "remaining_time": 19.48371079,
                        "learn": [
                          0.9869959726,
                          0.05788543357
                        ]
                      },
                      {
                        "test": [
                          0.9315529623,
                          0.1973044612
                        ],
                        "passed_time": 32.25066646,
                        "iteration": 623,
                        "remaining_time": 19.43309389,
                        "learn": [
                          0.9869474501,
                          0.05777002855
                        ]
                      },
                      {
                        "test": [
                          0.9315529623,
                          0.1972965909
                        ],
                        "passed_time": 32.30220511,
                        "iteration": 624,
                        "remaining_time": 19.38132307,
                        "learn": [
                          0.9869474501,
                          0.05770455778
                        ]
                      },
                      {
                        "test": [
                          0.9317773788,
                          0.1974885099
                        ],
                        "passed_time": 32.36676149,
                        "iteration": 625,
                        "remaining_time": 19.33733034,
                        "learn": [
                          0.9869959726,
                          0.0575984663
                        ]
                      },
                      {
                        "test": [
                          0.9317773788,
                          0.1974751835
                        ],
                        "passed_time": 32.41451755,
                        "iteration": 626,
                        "remaining_time": 19.28327759,
                        "learn": [
                          0.9870930176,
                          0.05752322609
                        ]
                      },
                      {
                        "test": [
                          0.9322262118,
                          0.1973987291
                        ],
                        "passed_time": 32.46380514,
                        "iteration": 627,
                        "remaining_time": 19.23015209,
                        "learn": [
                          0.9871415401,
                          0.05746789736
                        ]
                      },
                      {
                        "test": [
                          0.9320017953,
                          0.1975193944
                        ],
                        "passed_time": 32.51342664,
                        "iteration": 628,
                        "remaining_time": 19.17723575,
                        "learn": [
                          0.9869959726,
                          0.05738289
                        ]
                      },
                      {
                        "test": [
                          0.9320017953,
                          0.1976080591
                        ],
                        "passed_time": 32.56346294,
                        "iteration": 629,
                        "remaining_time": 19.12457348,
                        "learn": [
                          0.9869959726,
                          0.05731104012
                        ]
                      },
                      {
                        "test": [
                          0.9317773788,
                          0.1976578131
                        ],
                        "passed_time": 32.63385716,
                        "iteration": 630,
                        "remaining_time": 19.08382455,
                        "learn": [
                          0.9872385851,
                          0.05719767008
                        ]
                      },
                      {
                        "test": [
                          0.9315529623,
                          0.1977408112
                        ],
                        "passed_time": 32.68140239,
                        "iteration": 631,
                        "remaining_time": 19.02967734,
                        "learn": [
                          0.9871415401,
                          0.05714375156
                        ]
                      },
                      {
                        "test": [
                          0.9317773788,
                          0.1977091745
                        ],
                        "passed_time": 32.7371236,
                        "iteration": 632,
                        "remaining_time": 18.98029125,
                        "learn": [
                          0.9871900626,
                          0.05704113707
                        ]
                      },
                      {
                        "test": [
                          0.9322262118,
                          0.1977461675
                        ],
                        "passed_time": 32.84240268,
                        "iteration": 633,
                        "remaining_time": 18.95949429,
                        "learn": [
                          0.9870444951,
                          0.05695352825
                        ]
                      },
                      {
                        "test": [
                          0.9322262118,
                          0.1977359293
                        ],
                        "passed_time": 32.89205532,
                        "iteration": 634,
                        "remaining_time": 18.90645699,
                        "learn": [
                          0.9871900626,
                          0.05688266208
                        ]
                      },
                      {
                        "test": [
                          0.9322262118,
                          0.1978084524
                        ],
                        "passed_time": 32.93944017,
                        "iteration": 635,
                        "remaining_time": 18.85213243,
                        "learn": [
                          0.9871415401,
                          0.05681281873
                        ]
                      },
                      {
                        "test": [
                          0.9328994614,
                          0.1976731935
                        ],
                        "passed_time": 32.99218068,
                        "iteration": 636,
                        "remaining_time": 18.80088161,
                        "learn": [
                          0.9872385851,
                          0.05662636629
                        ]
                      },
                      {
                        "test": [
                          0.9328994614,
                          0.1976314137
                        ],
                        "passed_time": 33.04377151,
                        "iteration": 637,
                        "remaining_time": 18.7489738,
                        "learn": [
                          0.9874811975,
                          0.05654926644
                        ]
                      },
                      {
                        "test": [
                          0.9326750449,
                          0.1976083756
                        ],
                        "passed_time": 33.0954821,
                        "iteration": 638,
                        "remaining_time": 18.69713464,
                        "learn": [
                          0.9874811975,
                          0.05646780236
                        ]
                      },
                      {
                        "test": [
                          0.9328994614,
                          0.1975192256
                        ],
                        "passed_time": 33.14578834,
                        "iteration": 639,
                        "remaining_time": 18.64450594,
                        "learn": [
                          0.9875782425,
                          0.0564034247
                        ]
                      },
                      {
                        "test": [
                          0.9328994614,
                          0.19751184
                        ],
                        "passed_time": 33.20041717,
                        "iteration": 640,
                        "remaining_time": 18.59430541,
                        "learn": [
                          0.9875782425,
                          0.05635471903
                        ]
                      },
                      {
                        "test": [
                          0.9328994614,
                          0.1975819096
                        ],
                        "passed_time": 33.2525069,
                        "iteration": 641,
                        "remaining_time": 18.54267519,
                        "learn": [
                          0.9877723325,
                          0.05624657327
                        ]
                      },
                      {
                        "test": [
                          0.9328994614,
                          0.1975502971
                        ],
                        "passed_time": 33.30111313,
                        "iteration": 642,
                        "remaining_time": 18.48910947,
                        "learn": [
                          0.987820855,
                          0.05619133976
                        ]
                      },
                      {
                        "test": [
                          0.9331238779,
                          0.1975384361
                        ],
                        "passed_time": 33.36655046,
                        "iteration": 643,
                        "remaining_time": 18.4448633,
                        "learn": [
                          0.9878693775,
                          0.05613587062
                        ]
                      },
                      {
                        "test": [
                          0.9333482944,
                          0.1976649572
                        ],
                        "passed_time": 33.41403644,
                        "iteration": 644,
                        "remaining_time": 18.39067122,
                        "learn": [
                          0.9878693775,
                          0.05608022055
                        ]
                      },
                      {
                        "test": [
                          0.9331238779,
                          0.1976487554
                        ],
                        "passed_time": 33.46365797,
                        "iteration": 645,
                        "remaining_time": 18.33767016,
                        "learn": [
                          0.987820855,
                          0.05600920917
                        ]
                      },
                      {
                        "test": [
                          0.9331238779,
                          0.1976678312
                        ],
                        "passed_time": 33.51555179,
                        "iteration": 646,
                        "remaining_time": 18.28591929,
                        "learn": [
                          0.9878693775,
                          0.0559323487
                        ]
                      },
                      {
                        "test": [
                          0.9328994614,
                          0.1977351462
                        ],
                        "passed_time": 33.5637077,
                        "iteration": 647,
                        "remaining_time": 18.23213752,
                        "learn": [
                          0.987820855,
                          0.05586893288
                        ]
                      },
                      {
                        "test": [
                          0.9328994614,
                          0.1977285396
                        ],
                        "passed_time": 33.60825962,
                        "iteration": 648,
                        "remaining_time": 18.17642392,
                        "learn": [
                          0.987820855,
                          0.05582475825
                        ]
                      },
                      {
                        "test": [
                          0.9322262118,
                          0.1977750642
                        ],
                        "passed_time": 33.6588622,
                        "iteration": 649,
                        "remaining_time": 18.12400272,
                        "learn": [
                          0.9877723325,
                          0.05572720807
                        ]
                      },
                      {
                        "test": [
                          0.9315529623,
                          0.19789345
                        ],
                        "passed_time": 33.70334967,
                        "iteration": 650,
                        "remaining_time": 18.06830881,
                        "learn": [
                          0.9877723325,
                          0.05566812262
                        ]
                      },
                      {
                        "test": [
                          0.9317773788,
                          0.1979405358
                        ],
                        "passed_time": 33.75168662,
                        "iteration": 651,
                        "remaining_time": 18.0147039,
                        "learn": [
                          0.987820855,
                          0.05563183781
                        ]
                      },
                      {
                        "test": [
                          0.9317773788,
                          0.1978993839
                        ],
                        "passed_time": 33.81082611,
                        "iteration": 652,
                        "remaining_time": 17.96685553,
                        "learn": [
                          0.987820855,
                          0.05555546732
                        ]
                      },
                      {
                        "test": [
                          0.9313285458,
                          0.1978890482
                        ],
                        "passed_time": 33.90686573,
                        "iteration": 653,
                        "remaining_time": 17.93849472,
                        "learn": [
                          0.9877723325,
                          0.0554628449
                        ]
                      },
                      {
                        "test": [
                          0.9317773788,
                          0.197917537
                        ],
                        "passed_time": 33.96406857,
                        "iteration": 654,
                        "remaining_time": 17.88947123,
                        "learn": [
                          0.9878693775,
                          0.05534864255
                        ]
                      },
                      {
                        "test": [
                          0.9322262118,
                          0.1979623203
                        ],
                        "passed_time": 34.00976547,
                        "iteration": 655,
                        "remaining_time": 17.83438921,
                        "learn": [
                          0.9880149449,
                          0.05524503442
                        ]
                      },
                      {
                        "test": [
                          0.9322262118,
                          0.1980153125
                        ],
                        "passed_time": 34.06291461,
                        "iteration": 656,
                        "remaining_time": 17.78322635,
                        "learn": [
                          0.9879178999,
                          0.05510418666
                        ]
                      },
                      {
                        "test": [
                          0.9324506284,
                          0.1979686912
                        ],
                        "passed_time": 34.10866609,
                        "iteration": 657,
                        "remaining_time": 17.72821247,
                        "learn": [
                          0.9879178999,
                          0.05504080203
                        ]
                      },
                      {
                        "test": [
                          0.9324506284,
                          0.1979543975
                        ],
                        "passed_time": 34.15368279,
                        "iteration": 658,
                        "remaining_time": 17.67284648,
                        "learn": [
                          0.9879664224,
                          0.05499451393
                        ]
                      },
                      {
                        "test": [
                          0.9322262118,
                          0.1980716654
                        ],
                        "passed_time": 34.20001488,
                        "iteration": 659,
                        "remaining_time": 17.61818948,
                        "learn": [
                          0.9880149449,
                          0.05492270488
                        ]
                      },
                      {
                        "test": [
                          0.9324506284,
                          0.1980288811
                        ],
                        "passed_time": 34.24979563,
                        "iteration": 660,
                        "remaining_time": 17.56532635,
                        "learn": [
                          0.9879664224,
                          0.05489234918
                        ]
                      },
                      {
                        "test": [
                          0.9322262118,
                          0.1982615714
                        ],
                        "passed_time": 34.30200551,
                        "iteration": 661,
                        "remaining_time": 17.51371278,
                        "learn": [
                          0.9880634674,
                          0.05477047416
                        ]
                      },
                      {
                        "test": [
                          0.9320017953,
                          0.1982496739
                        ],
                        "passed_time": 34.35166039,
                        "iteration": 662,
                        "remaining_time": 17.46079872,
                        "learn": [
                          0.9881119899,
                          0.05472214113
                        ]
                      },
                      {
                        "test": [
                          0.9320017953,
                          0.1983756006
                        ],
                        "passed_time": 34.4071113,
                        "iteration": 663,
                        "remaining_time": 17.41082741,
                        "learn": [
                          0.9880634674,
                          0.05465620173
                        ]
                      },
                      {
                        "test": [
                          0.9317773788,
                          0.1984724416
                        ],
                        "passed_time": 34.45586416,
                        "iteration": 664,
                        "remaining_time": 17.3574654,
                        "learn": [
                          0.9880634674,
                          0.05459637999
                        ]
                      },
                      {
                        "test": [
                          0.9315529623,
                          0.1984577356
                        ],
                        "passed_time": 34.50655763,
                        "iteration": 665,
                        "remaining_time": 17.30509046,
                        "learn": [
                          0.9879664224,
                          0.05443409054
                        ]
                      },
                      {
                        "test": [
                          0.9315529623,
                          0.1984676121
                        ],
                        "passed_time": 34.55251734,
                        "iteration": 666,
                        "remaining_time": 17.25035723,
                        "learn": [
                          0.9880634674,
                          0.05437988132
                        ]
                      },
                      {
                        "test": [
                          0.9317773788,
                          0.1985331314
                        ],
                        "passed_time": 34.6043329,
                        "iteration": 667,
                        "remaining_time": 17.19856066,
                        "learn": [
                          0.9879664224,
                          0.0543090795
                        ]
                      },
                      {
                        "test": [
                          0.9320017953,
                          0.1985764474
                        ],
                        "passed_time": 34.65913022,
                        "iteration": 668,
                        "remaining_time": 17.14823932,
                        "learn": [
                          0.9880149449,
                          0.05426198066
                        ]
                      },
                      {
                        "test": [
                          0.9315529623,
                          0.1985982253
                        ],
                        "passed_time": 34.71057395,
                        "iteration": 669,
                        "remaining_time": 17.09625284,
                        "learn": [
                          0.9879664224,
                          0.05419766258
                        ]
                      },
                      {
                        "test": [
                          0.9320017953,
                          0.1985274203
                        ],
                        "passed_time": 34.75737965,
                        "iteration": 670,
                        "remaining_time": 17.0419939,
                        "learn": [
                          0.9879664224,
                          0.05408528815
                        ]
                      },
                      {
                        "test": [
                          0.9320017953,
                          0.1985786259
                        ],
                        "passed_time": 34.80671858,
                        "iteration": 671,
                        "remaining_time": 16.98899359,
                        "learn": [
                          0.9880634674,
                          0.05395825529
                        ]
                      },
                      {
                        "test": [
                          0.9320017953,
                          0.1986331709
                        ],
                        "passed_time": 34.89016204,
                        "iteration": 672,
                        "remaining_time": 16.95257502,
                        "learn": [
                          0.9883060799,
                          0.05389357887
                        ]
                      },
                      {
                        "test": [
                          0.9322262118,
                          0.198613002
                        ],
                        "passed_time": 34.96937086,
                        "iteration": 673,
                        "remaining_time": 16.91396869,
                        "learn": [
                          0.9882575574,
                          0.05380718655
                        ]
                      },
                      {
                        "test": [
                          0.9322262118,
                          0.1985636264
                        ],
                        "passed_time": 35.0159408,
                        "iteration": 674,
                        "remaining_time": 16.85952705,
                        "learn": [
                          0.9882575574,
                          0.05376021283
                        ]
                      },
                      {
                        "test": [
                          0.9317773788,
                          0.1985864439
                        ],
                        "passed_time": 35.06437003,
                        "iteration": 675,
                        "remaining_time": 16.80599984,
                        "learn": [
                          0.9884031248,
                          0.0536635033
                        ]
                      },
                      {
                        "test": [
                          0.9320017953,
                          0.198570352
                        ],
                        "passed_time": 35.10939318,
                        "iteration": 676,
                        "remaining_time": 16.75086263,
                        "learn": [
                          0.9884516473,
                          0.05358935174
                        ]
                      },
                      {
                        "test": [
                          0.9333482944,
                          0.1984786959
                        ],
                        "passed_time": 35.15880095,
                        "iteration": 677,
                        "remaining_time": 16.69783762,
                        "learn": [
                          0.9884031248,
                          0.05345760375
                        ]
                      },
                      {
                        "test": [
                          0.9331238779,
                          0.1986442802
                        ],
                        "passed_time": 35.20456946,
                        "iteration": 678,
                        "remaining_time": 16.64310279,
                        "learn": [
                          0.9884516473,
                          0.05338414149
                        ]
                      },
                      {
                        "test": [
                          0.9333482944,
                          0.1986055661
                        ],
                        "passed_time": 35.25651737,
                        "iteration": 679,
                        "remaining_time": 16.59130229,
                        "learn": [
                          0.9884516473,
                          0.05333747418
                        ]
                      },
                      {
                        "test": [
                          0.933572711,
                          0.198695158
                        ],
                        "passed_time": 35.31423466,
                        "iteration": 680,
                        "remaining_time": 16.5422039,
                        "learn": [
                          0.9884516473,
                          0.05323357762
                        ]
                      },
                      {
                        "test": [
                          0.933572711,
                          0.198639104
                        ],
                        "passed_time": 35.36248924,
                        "iteration": 681,
                        "remaining_time": 16.488668,
                        "learn": [
                          0.9885001698,
                          0.05317189049
                        ]
                      },
                      {
                        "test": [
                          0.933572711,
                          0.1986526305
                        ],
                        "passed_time": 35.42749224,
                        "iteration": 682,
                        "remaining_time": 16.442921,
                        "learn": [
                          0.9885486923,
                          0.053120191
                        ]
                      },
                      {
                        "test": [
                          0.933572711,
                          0.1986752293
                        ],
                        "passed_time": 35.47535682,
                        "iteration": 683,
                        "remaining_time": 16.38919994,
                        "learn": [
                          0.9885486923,
                          0.05309381467
                        ]
                      },
                      {
                        "test": [
                          0.9337971275,
                          0.1986676462
                        ],
                        "passed_time": 35.51887494,
                        "iteration": 684,
                        "remaining_time": 16.33349723,
                        "learn": [
                          0.9886942598,
                          0.05301606325
                        ]
                      },
                      {
                        "test": [
                          0.9337971275,
                          0.1987076343
                        ],
                        "passed_time": 35.57214064,
                        "iteration": 685,
                        "remaining_time": 16.28229178,
                        "learn": [
                          0.9885486923,
                          0.05297443032
                        ]
                      },
                      {
                        "test": [
                          0.9337971275,
                          0.1987047255
                        ],
                        "passed_time": 35.61708204,
                        "iteration": 686,
                        "remaining_time": 16.22728774,
                        "learn": [
                          0.9885486923,
                          0.05292894289
                        ]
                      },
                      {
                        "test": [
                          0.933572711,
                          0.1986800237
                        ],
                        "passed_time": 35.66362042,
                        "iteration": 687,
                        "remaining_time": 16.17303717,
                        "learn": [
                          0.9886942598,
                          0.05286453379
                        ]
                      },
                      {
                        "test": [
                          0.933572711,
                          0.1987915577
                        ],
                        "passed_time": 35.71339804,
                        "iteration": 688,
                        "remaining_time": 16.12027111,
                        "learn": [
                          0.9886942598,
                          0.05274610037
                        ]
                      },
                      {
                        "test": [
                          0.9333482944,
                          0.1988218624
                        ],
                        "passed_time": 35.76313779,
                        "iteration": 689,
                        "remaining_time": 16.06749669,
                        "learn": [
                          0.9887913048,
                          0.05266301824
                        ]
                      },
                      {
                        "test": [
                          0.9333482944,
                          0.1988854016
                        ],
                        "passed_time": 35.81575248,
                        "iteration": 690,
                        "remaining_time": 16.01601667,
                        "learn": [
                          0.9889368722,
                          0.05257750978
                        ]
                      },
                      {
                        "test": [
                          0.933572711,
                          0.1988806187
                        ],
                        "passed_time": 35.86041011,
                        "iteration": 691,
                        "remaining_time": 15.96099178,
                        "learn": [
                          0.9889853947,
                          0.05248483841
                        ]
                      },
                      {
                        "test": [
                          0.9333482944,
                          0.1988906549
                        ],
                        "passed_time": 35.94033084,
                        "iteration": 692,
                        "remaining_time": 15.92161843,
                        "learn": [
                          0.9890339172,
                          0.05244569592
                        ]
                      },
                      {
                        "test": [
                          0.9333482944,
                          0.1989050097
                        ],
                        "passed_time": 36.02005281,
                        "iteration": 693,
                        "remaining_time": 15.88204058,
                        "learn": [
                          0.9890824397,
                          0.05240646376
                        ]
                      },
                      {
                        "test": [
                          0.9337971275,
                          0.1989981036
                        ],
                        "passed_time": 36.06666055,
                        "iteration": 694,
                        "remaining_time": 15.82781506,
                        "learn": [
                          0.9890824397,
                          0.05232575756
                        ]
                      },
                      {
                        "test": [
                          0.9337971275,
                          0.1989686821
                        ],
                        "passed_time": 36.11876541,
                        "iteration": 695,
                        "remaining_time": 15.77601248,
                        "learn": [
                          0.9890339172,
                          0.05225962865
                        ]
                      },
                      {
                        "test": [
                          0.934021544,
                          0.1990212344
                        ],
                        "passed_time": 36.17059852,
                        "iteration": 696,
                        "remaining_time": 15.72409089,
                        "learn": [
                          0.9891794847,
                          0.05220932763
                        ]
                      },
                      {
                        "test": [
                          0.9337971275,
                          0.1990784574
                        ],
                        "passed_time": 36.21976671,
                        "iteration": 697,
                        "remaining_time": 15.67101654,
                        "learn": [
                          0.9892280072,
                          0.05209356272
                        ]
                      },
                      {
                        "test": [
                          0.933572711,
                          0.1990565637
                        ],
                        "passed_time": 36.27076529,
                        "iteration": 698,
                        "remaining_time": 15.61874156,
                        "learn": [
                          0.9893250522,
                          0.05206355131
                        ]
                      },
                      {
                        "test": [
                          0.9337971275,
                          0.1990809607
                        ],
                        "passed_time": 36.32567298,
                        "iteration": 699,
                        "remaining_time": 15.56814556,
                        "learn": [
                          0.9891794847,
                          0.0519723724
                        ]
                      },
                      {
                        "test": [
                          0.9337971275,
                          0.1991005397
                        ],
                        "passed_time": 36.37830494,
                        "iteration": 700,
                        "remaining_time": 15.51656659,
                        "learn": [
                          0.9890339172,
                          0.05192630747
                        ]
                      },
                      {
                        "test": [
                          0.9337971275,
                          0.199027286
                        ],
                        "passed_time": 36.4462171,
                        "iteration": 701,
                        "remaining_time": 15.47147108,
                        "learn": [
                          0.9890339172,
                          0.05186313545
                        ]
                      },
                      {
                        "test": [
                          0.933572711,
                          0.1990965565
                        ],
                        "passed_time": 36.49604636,
                        "iteration": 702,
                        "remaining_time": 15.41867108,
                        "learn": [
                          0.9891309622,
                          0.05176513744
                        ]
                      },
                      {
                        "test": [
                          0.9337971275,
                          0.199145284
                        ],
                        "passed_time": 36.54618987,
                        "iteration": 703,
                        "remaining_time": 15.36601165,
                        "learn": [
                          0.9891309622,
                          0.05171510802
                        ]
                      },
                      {
                        "test": [
                          0.9337971275,
                          0.1991070361
                        ],
                        "passed_time": 36.59679761,
                        "iteration": 704,
                        "remaining_time": 15.31355361,
                        "learn": [
                          0.9890339172,
                          0.05160689178
                        ]
                      },
                      {
                        "test": [
                          0.9337971275,
                          0.1990062738
                        ],
                        "passed_time": 36.64943094,
                        "iteration": 705,
                        "remaining_time": 15.26194433,
                        "learn": [
                          0.9891309622,
                          0.05149468513
                        ]
                      },
                      {
                        "test": [
                          0.933572711,
                          0.1991843962
                        ],
                        "passed_time": 36.69730659,
                        "iteration": 706,
                        "remaining_time": 15.20836044,
                        "learn": [
                          0.9890824397,
                          0.05143327991
                        ]
                      },
                      {
                        "test": [
                          0.9333482944,
                          0.1991593338
                        ],
                        "passed_time": 36.74586662,
                        "iteration": 707,
                        "remaining_time": 15.15507493,
                        "learn": [
                          0.9892765297,
                          0.05134954265
                        ]
                      },
                      {
                        "test": [
                          0.9333482944,
                          0.1992761215
                        ],
                        "passed_time": 36.79430495,
                        "iteration": 708,
                        "remaining_time": 15.10175281,
                        "learn": [
                          0.9892765297,
                          0.05126198116
                        ]
                      },
                      {
                        "test": [
                          0.9333482944,
                          0.1992971327
                        ],
                        "passed_time": 36.84085433,
                        "iteration": 709,
                        "remaining_time": 15.04767289,
                        "learn": [
                          0.9894220971,
                          0.05119860334
                        ]
                      },
                      {
                        "test": [
                          0.9328994614,
                          0.1993164357
                        ],
                        "passed_time": 36.88857469,
                        "iteration": 710,
                        "remaining_time": 14.99409013,
                        "learn": [
                          0.9894220971,
                          0.05113210262
                        ]
                      },
                      {
                        "test": [
                          0.9331238779,
                          0.1992733707
                        ],
                        "passed_time": 36.93626953,
                        "iteration": 711,
                        "remaining_time": 14.94051352,
                        "learn": [
                          0.9893735747,
                          0.05109896175
                        ]
                      },
                      {
                        "test": [
                          0.9326750449,
                          0.1992520834
                        ],
                        "passed_time": 37.04253635,
                        "iteration": 712,
                        "remaining_time": 14.91053006,
                        "learn": [
                          0.9894706196,
                          0.05102077293
                        ]
                      },
                      {
                        "test": [
                          0.9324506284,
                          0.1992136069
                        ],
                        "passed_time": 37.12369917,
                        "iteration": 713,
                        "remaining_time": 14.87027726,
                        "learn": [
                          0.9894706196,
                          0.05096823971
                        ]
                      },
                      {
                        "test": [
                          0.9326750449,
                          0.1992242744
                        ],
                        "passed_time": 37.17426229,
                        "iteration": 714,
                        "remaining_time": 14.81771294,
                        "learn": [
                          0.9893735747,
                          0.05093341312
                        ]
                      },
                      {
                        "test": [
                          0.9324506284,
                          0.1993106506
                        ],
                        "passed_time": 37.22357663,
                        "iteration": 715,
                        "remaining_time": 14.76465889,
                        "learn": [
                          0.9894706196,
                          0.05083228194
                        ]
                      },
                      {
                        "test": [
                          0.9326750449,
                          0.1994164406
                        ],
                        "passed_time": 37.27268864,
                        "iteration": 716,
                        "remaining_time": 14.71153541,
                        "learn": [
                          0.9895191421,
                          0.05077448275
                        ]
                      },
                      {
                        "test": [
                          0.9326750449,
                          0.199415985
                        ],
                        "passed_time": 37.32062965,
                        "iteration": 717,
                        "remaining_time": 14.65796318,
                        "learn": [
                          0.9895191421,
                          0.05073962492
                        ]
                      },
                      {
                        "test": [
                          0.9326750449,
                          0.1994239691
                        ],
                        "passed_time": 37.37132456,
                        "iteration": 718,
                        "remaining_time": 14.6054829,
                        "learn": [
                          0.9895191421,
                          0.05071668031
                        ]
                      },
                      {
                        "test": [
                          0.9326750449,
                          0.1994263425
                        ],
                        "passed_time": 37.43360365,
                        "iteration": 719,
                        "remaining_time": 14.55751253,
                        "learn": [
                          0.9895676646,
                          0.05066157712
                        ]
                      },
                      {
                        "test": [
                          0.9324506284,
                          0.1994541743
                        ],
                        "passed_time": 37.48821996,
                        "iteration": 720,
                        "remaining_time": 14.50653726,
                        "learn": [
                          0.9897132321,
                          0.05053577221
                        ]
                      },
                      {
                        "test": [
                          0.9324506284,
                          0.1994482771
                        ],
                        "passed_time": 37.54145523,
                        "iteration": 721,
                        "remaining_time": 14.45502016,
                        "learn": [
                          0.9897617546,
                          0.05049501569
                        ]
                      },
                      {
                        "test": [
                          0.9326750449,
                          0.1993728243
                        ],
                        "passed_time": 37.59397558,
                        "iteration": 722,
                        "remaining_time": 14.40322439,
                        "learn": [
                          0.9897132321,
                          0.05040946398
                        ]
                      },
                      {
                        "test": [
                          0.9324506284,
                          0.1993836959
                        ],
                        "passed_time": 37.64688963,
                        "iteration": 723,
                        "remaining_time": 14.35157671,
                        "learn": [
                          0.9897617546,
                          0.0503183366
                        ]
                      },
                      {
                        "test": [
                          0.9324506284,
                          0.1993489671
                        ],
                        "passed_time": 37.69573825,
                        "iteration": 724,
                        "remaining_time": 14.29838347,
                        "learn": [
                          0.9897617546,
                          0.05026983737
                        ]
                      },
                      {
                        "test": [
                          0.9324506284,
                          0.1994786979
                        ],
                        "passed_time": 37.74525358,
                        "iteration": 725,
                        "remaining_time": 14.24545383,
                        "learn": [
                          0.9898102771,
                          0.05015629155
                        ]
                      },
                      {
                        "test": [
                          0.9322262118,
                          0.1995673212
                        ],
                        "passed_time": 37.79256136,
                        "iteration": 726,
                        "remaining_time": 14.19170461,
                        "learn": [
                          0.9898587996,
                          0.0501200077
                        ]
                      },
                      {
                        "test": [
                          0.9322262118,
                          0.1995279544
                        ],
                        "passed_time": 37.8429022,
                        "iteration": 727,
                        "remaining_time": 14.13910632,
                        "learn": [
                          0.9899558445,
                          0.05004932085
                        ]
                      },
                      {
                        "test": [
                          0.9322262118,
                          0.1995970599
                        ],
                        "passed_time": 37.88861426,
                        "iteration": 728,
                        "remaining_time": 14.0847935,
                        "learn": [
                          0.989907322,
                          0.05001344741
                        ]
                      },
                      {
                        "test": [
                          0.9322262118,
                          0.1996744785
                        ],
                        "passed_time": 37.93621496,
                        "iteration": 729,
                        "remaining_time": 14.03120279,
                        "learn": [
                          0.9899558445,
                          0.04996128533
                        ]
                      },
                      {
                        "test": [
                          0.9322262118,
                          0.1996161681
                        ],
                        "passed_time": 37.98606404,
                        "iteration": 730,
                        "remaining_time": 13.97845585,
                        "learn": [
                          0.9900528895,
                          0.04990102399
                        ]
                      },
                      {
                        "test": [
                          0.9324506284,
                          0.1995374676
                        ],
                        "passed_time": 38.09190342,
                        "iteration": 731,
                        "remaining_time": 13.94621601,
                        "learn": [
                          0.990101412,
                          0.04981423811
                        ]
                      },
                      {
                        "test": [
                          0.9320017953,
                          0.1994806594
                        ],
                        "passed_time": 38.14931685,
                        "iteration": 732,
                        "remaining_time": 13.89613588,
                        "learn": [
                          0.990101412,
                          0.04977388964
                        ]
                      },
                      {
                        "test": [
                          0.9320017953,
                          0.1995194093
                        ],
                        "passed_time": 38.19420782,
                        "iteration": 733,
                        "remaining_time": 13.84149766,
                        "learn": [
                          0.9900528895,
                          0.04974814549
                        ]
                      },
                      {
                        "test": [
                          0.9320017953,
                          0.1994760645
                        ],
                        "passed_time": 38.2469643,
                        "iteration": 734,
                        "remaining_time": 13.78972182,
                        "learn": [
                          0.9901499345,
                          0.04963011481
                        ]
                      },
                      {
                        "test": [
                          0.9317773788,
                          0.1995458364
                        ],
                        "passed_time": 38.29294934,
                        "iteration": 735,
                        "remaining_time": 13.73551444,
                        "learn": [
                          0.9901499345,
                          0.04958221284
                        ]
                      },
                      {
                        "test": [
                          0.9317773788,
                          0.1996066331
                        ],
                        "passed_time": 38.33887602,
                        "iteration": 736,
                        "remaining_time": 13.68130854,
                        "learn": [
                          0.990101412,
                          0.04954930556
                        ]
                      },
                      {
                        "test": [
                          0.9320017953,
                          0.1995756708
                        ],
                        "passed_time": 38.3884116,
                        "iteration": 737,
                        "remaining_time": 13.62840629,
                        "learn": [
                          0.990004367,
                          0.04944227117
                        ]
                      },
                      {
                        "test": [
                          0.9317773788,
                          0.1995132909
                        ],
                        "passed_time": 38.4436624,
                        "iteration": 738,
                        "remaining_time": 13.57753165,
                        "learn": [
                          0.9901499345,
                          0.04936335482
                        ]
                      },
                      {
                        "test": [
                          0.9320017953,
                          0.1996120891
                        ],
                        "passed_time": 38.50814049,
                        "iteration": 739,
                        "remaining_time": 13.5298872,
                        "learn": [
                          0.9901499345,
                          0.04928481744
                        ]
                      },
                      {
                        "test": [
                          0.9320017953,
                          0.1995556342
                        ],
                        "passed_time": 38.55594551,
                        "iteration": 740,
                        "remaining_time": 13.47636962,
                        "learn": [
                          0.990295502,
                          0.04924550796
                        ]
                      },
                      {
                        "test": [
                          0.9315529623,
                          0.1994138727
                        ],
                        "passed_time": 38.60737399,
                        "iteration": 741,
                        "remaining_time": 13.42412734,
                        "learn": [
                          0.9903925469,
                          0.04918562648
                        ]
                      },
                      {
                        "test": [
                          0.9320017953,
                          0.1994201809
                        ],
                        "passed_time": 38.65269067,
                        "iteration": 742,
                        "remaining_time": 13.36977322,
                        "learn": [
                          0.9903925469,
                          0.04914342241
                        ]
                      },
                      {
                        "test": [
                          0.9320017953,
                          0.1995553432
                        ],
                        "passed_time": 38.70072165,
                        "iteration": 743,
                        "remaining_time": 13.31637734,
                        "learn": [
                          0.9904410694,
                          0.04903974065
                        ]
                      },
                      {
                        "test": [
                          0.9320017953,
                          0.1996019944
                        ],
                        "passed_time": 38.75137711,
                        "iteration": 744,
                        "remaining_time": 13.26389418,
                        "learn": [
                          0.9903440245,
                          0.04900636105
                        ]
                      },
                      {
                        "test": [
                          0.9322262118,
                          0.1995437923
                        ],
                        "passed_time": 38.79694955,
                        "iteration": 745,
                        "remaining_time": 13.20968524,
                        "learn": [
                          0.9903440245,
                          0.04897136965
                        ]
                      },
                      {
                        "test": [
                          0.9320017953,
                          0.1995333896
                        ],
                        "passed_time": 38.84674923,
                        "iteration": 746,
                        "remaining_time": 13.15693113,
                        "learn": [
                          0.9903440245,
                          0.04892539784
                        ]
                      },
                      {
                        "test": [
                          0.9320017953,
                          0.1994674059
                        ],
                        "passed_time": 38.88922182,
                        "iteration": 747,
                        "remaining_time": 13.10171644,
                        "learn": [
                          0.9903925469,
                          0.04889661208
                        ]
                      },
                      {
                        "test": [
                          0.9317773788,
                          0.1995179202
                        ],
                        "passed_time": 38.93552938,
                        "iteration": 748,
                        "remaining_time": 13.04782093,
                        "learn": [
                          0.9904895919,
                          0.04883633666
                        ]
                      },
                      {
                        "test": [
                          0.9317773788,
                          0.1995010638
                        ],
                        "passed_time": 38.97681552,
                        "iteration": 749,
                        "remaining_time": 12.99227184,
                        "learn": [
                          0.9904895919,
                          0.04882410513
                        ]
                      },
                      {
                        "test": [
                          0.9315529623,
                          0.1996501526
                        ],
                        "passed_time": 39.03288399,
                        "iteration": 750,
                        "remaining_time": 12.94166193,
                        "learn": [
                          0.9905866369,
                          0.04865034938
                        ]
                      },
                      {
                        "test": [
                          0.9320017953,
                          0.1997292449
                        ],
                        "passed_time": 39.12110014,
                        "iteration": 751,
                        "remaining_time": 12.90163941,
                        "learn": [
                          0.9906351594,
                          0.0485423918
                        ]
                      },
                      {
                        "test": [
                          0.9322262118,
                          0.1998407543
                        ],
                        "passed_time": 39.19549846,
                        "iteration": 752,
                        "remaining_time": 12.85695633,
                        "learn": [
                          0.9905866369,
                          0.04850801179
                        ]
                      },
                      {
                        "test": [
                          0.9324506284,
                          0.1999419716
                        ],
                        "passed_time": 39.25029415,
                        "iteration": 753,
                        "remaining_time": 12.80579889,
                        "learn": [
                          0.9905866369,
                          0.04841862301
                        ]
                      },
                      {
                        "test": [
                          0.9328994614,
                          0.1998322491
                        ],
                        "passed_time": 39.2989214,
                        "iteration": 754,
                        "remaining_time": 12.75263012,
                        "learn": [
                          0.9905381144,
                          0.04831296062
                        ]
                      },
                      {
                        "test": [
                          0.9326750449,
                          0.1998276242
                        ],
                        "passed_time": 39.34985056,
                        "iteration": 755,
                        "remaining_time": 12.70021632,
                        "learn": [
                          0.9905381144,
                          0.04829246745
                        ]
                      },
                      {
                        "test": [
                          0.9328994614,
                          0.1999066767
                        ],
                        "passed_time": 39.40346385,
                        "iteration": 756,
                        "remaining_time": 12.64866805,
                        "learn": [
                          0.9905866369,
                          0.04825392118
                        ]
                      },
                      {
                        "test": [
                          0.9328994614,
                          0.1999184266
                        ],
                        "passed_time": 39.45105359,
                        "iteration": 757,
                        "remaining_time": 12.59519125,
                        "learn": [
                          0.9906351594,
                          0.0481725492
                        ]
                      },
                      {
                        "test": [
                          0.9328994614,
                          0.1999399571
                        ],
                        "passed_time": 39.51816872,
                        "iteration": 758,
                        "remaining_time": 12.54792973,
                        "learn": [
                          0.9907322044,
                          0.04809173876
                        ]
                      },
                      {
                        "test": [
                          0.9322262118,
                          0.2000762908
                        ],
                        "passed_time": 39.56479467,
                        "iteration": 759,
                        "remaining_time": 12.49414569,
                        "learn": [
                          0.9907322044,
                          0.0480532732
                        ]
                      },
                      {
                        "test": [
                          0.9322262118,
                          0.2001178327
                        ],
                        "passed_time": 39.61817272,
                        "iteration": 760,
                        "remaining_time": 12.44250103,
                        "learn": [
                          0.9907322044,
                          0.04799856188
                        ]
                      },
                      {
                        "test": [
                          0.9322262118,
                          0.2001645228
                        ],
                        "passed_time": 39.66412407,
                        "iteration": 761,
                        "remaining_time": 12.38853219,
                        "learn": [
                          0.9907807269,
                          0.04795397305
                        ]
                      },
                      {
                        "test": [
                          0.9326750449,
                          0.2001105881
                        ],
                        "passed_time": 39.70763466,
                        "iteration": 762,
                        "remaining_time": 12.33382623,
                        "learn": [
                          0.9908292494,
                          0.04791159185
                        ]
                      },
                      {
                        "test": [
                          0.9324506284,
                          0.2002041925
                        ],
                        "passed_time": 39.75425207,
                        "iteration": 763,
                        "remaining_time": 12.28010928,
                        "learn": [
                          0.9908292494,
                          0.04782200569
                        ]
                      },
                      {
                        "test": [
                          0.9324506284,
                          0.2002007925
                        ],
                        "passed_time": 39.79768686,
                        "iteration": 764,
                        "remaining_time": 12.22543322,
                        "learn": [
                          0.9908777718,
                          0.04780155555
                        ]
                      },
                      {
                        "test": [
                          0.9328994614,
                          0.2001244354
                        ],
                        "passed_time": 39.84696059,
                        "iteration": 765,
                        "remaining_time": 12.17257021,
                        "learn": [
                          0.9907807269,
                          0.04775048493
                        ]
                      },
                      {
                        "test": [
                          0.9324506284,
                          0.2002930858
                        ],
                        "passed_time": 39.89450737,
                        "iteration": 766,
                        "remaining_time": 12.11919194,
                        "learn": [
                          0.9908292494,
                          0.04766417059
                        ]
                      },
                      {
                        "test": [
                          0.9326750449,
                          0.2003557378
                        ],
                        "passed_time": 39.94278072,
                        "iteration": 767,
                        "remaining_time": 12.06604834,
                        "learn": [
                          0.9909748168,
                          0.04758999769
                        ]
                      },
                      {
                        "test": [
                          0.9322262118,
                          0.2005108437
                        ],
                        "passed_time": 39.99190592,
                        "iteration": 768,
                        "remaining_time": 12.0131733,
                        "learn": [
                          0.9909262943,
                          0.04750726017
                        ]
                      },
                      {
                        "test": [
                          0.9324506284,
                          0.2003808525
                        ],
                        "passed_time": 40.04297149,
                        "iteration": 769,
                        "remaining_time": 11.96088759,
                        "learn": [
                          0.9909748168,
                          0.04743451747
                        ]
                      },
                      {
                        "test": [
                          0.9322262118,
                          0.2004112005
                        ],
                        "passed_time": 40.09733437,
                        "iteration": 770,
                        "remaining_time": 11.9095844,
                        "learn": [
                          0.9911689068,
                          0.04735909872
                        ]
                      },
                      {
                        "test": [
                          0.9324506284,
                          0.2004222373
                        ],
                        "passed_time": 40.18387098,
                        "iteration": 771,
                        "remaining_time": 11.86777537,
                        "learn": [
                          0.9910718618,
                          0.04728245515
                        ]
                      },
                      {
                        "test": [
                          0.9324506284,
                          0.2004154608
                        ],
                        "passed_time": 40.26149036,
                        "iteration": 772,
                        "remaining_time": 11.82323197,
                        "learn": [
                          0.9911689068,
                          0.04723719729
                        ]
                      },
                      {
                        "test": [
                          0.9326750449,
                          0.200398909
                        ],
                        "passed_time": 40.30828365,
                        "iteration": 773,
                        "remaining_time": 11.7696022,
                        "learn": [
                          0.9911689068,
                          0.04718797982
                        ]
                      },
                      {
                        "test": [
                          0.9324506284,
                          0.2003759653
                        ],
                        "passed_time": 40.35369113,
                        "iteration": 774,
                        "remaining_time": 11.71558775,
                        "learn": [
                          0.9911689068,
                          0.0471327624
                        ]
                      },
                      {
                        "test": [
                          0.9326750449,
                          0.2004254741
                        ],
                        "passed_time": 40.39841359,
                        "iteration": 775,
                        "remaining_time": 11.66139774,
                        "learn": [
                          0.9912174293,
                          0.04707865159
                        ]
                      },
                      {
                        "test": [
                          0.9324506284,
                          0.2003724751
                        ],
                        "passed_time": 40.44591876,
                        "iteration": 776,
                        "remaining_time": 11.60803074,
                        "learn": [
                          0.9912174293,
                          0.04701241493
                        ]
                      },
                      {
                        "test": [
                          0.9328994614,
                          0.2005188659
                        ],
                        "passed_time": 40.50837137,
                        "iteration": 777,
                        "remaining_time": 11.55894401,
                        "learn": [
                          0.9911203843,
                          0.04695269102
                        ]
                      },
                      {
                        "test": [
                          0.9328994614,
                          0.2005869222
                        ],
                        "passed_time": 40.55879548,
                        "iteration": 778,
                        "remaining_time": 11.50641053,
                        "learn": [
                          0.9912659518,
                          0.04691924529
                        ]
                      },
                      {
                        "test": [
                          0.9326750449,
                          0.2005703901
                        ],
                        "passed_time": 40.61434584,
                        "iteration": 779,
                        "remaining_time": 11.45532831,
                        "learn": [
                          0.9910718618,
                          0.04684304677
                        ]
                      },
                      {
                        "test": [
                          0.9326750449,
                          0.200671953
                        ],
                        "passed_time": 40.66431744,
                        "iteration": 780,
                        "remaining_time": 11.40267032,
                        "learn": [
                          0.9911203843,
                          0.04680363617
                        ]
                      },
                      {
                        "test": [
                          0.9328994614,
                          0.2006755003
                        ],
                        "passed_time": 40.7124168,
                        "iteration": 781,
                        "remaining_time": 11.34949727,
                        "learn": [
                          0.9912174293,
                          0.04671899003
                        ]
                      },
                      {
                        "test": [
                          0.9326750449,
                          0.2008814145
                        ],
                        "passed_time": 40.7686502,
                        "iteration": 782,
                        "remaining_time": 11.29859144,
                        "learn": [
                          0.9913144743,
                          0.04657888952
                        ]
                      },
                      {
                        "test": [
                          0.9326750449,
                          0.2009639323
                        ],
                        "passed_time": 40.81638549,
                        "iteration": 783,
                        "remaining_time": 11.2453307,
                        "learn": [
                          0.9913144743,
                          0.04653116691
                        ]
                      },
                      {
                        "test": [
                          0.9326750449,
                          0.2011737144
                        ],
                        "passed_time": 40.86593318,
                        "iteration": 784,
                        "remaining_time": 11.19258043,
                        "learn": [
                          0.9911689068,
                          0.04647230527
                        ]
                      },
                      {
                        "test": [
                          0.9331238779,
                          0.2012141149
                        ],
                        "passed_time": 40.91672063,
                        "iteration": 785,
                        "remaining_time": 11.14017585,
                        "learn": [
                          0.9911203843,
                          0.04639202582
                        ]
                      },
                      {
                        "test": [
                          0.9331238779,
                          0.2012235046
                        ],
                        "passed_time": 40.96654391,
                        "iteration": 786,
                        "remaining_time": 11.08751443,
                        "learn": [
                          0.9912174293,
                          0.04632882656
                        ]
                      },
                      {
                        "test": [
                          0.9328994614,
                          0.2012902672
                        ],
                        "passed_time": 41.02282584,
                        "iteration": 787,
                        "remaining_time": 11.03659781,
                        "learn": [
                          0.9912659518,
                          0.0462775685
                        ]
                      },
                      {
                        "test": [
                          0.9333482944,
                          0.2013365887
                        ],
                        "passed_time": 41.07317161,
                        "iteration": 788,
                        "remaining_time": 10.98408011,
                        "learn": [
                          0.9913629967,
                          0.04621526633
                        ]
                      },
                      {
                        "test": [
                          0.9333482944,
                          0.2013439981
                        ],
                        "passed_time": 41.12088024,
                        "iteration": 789,
                        "remaining_time": 10.9308669,
                        "learn": [
                          0.9913629967,
                          0.0461757342
                        ]
                      },
                      {
                        "test": [
                          0.9333482944,
                          0.201269755
                        ],
                        "passed_time": 41.16973285,
                        "iteration": 790,
                        "remaining_time": 10.87796987,
                        "learn": [
                          0.9913629967,
                          0.04612171378
                        ]
                      },
                      {
                        "test": [
                          0.9333482944,
                          0.2013266047
                        ],
                        "passed_time": 41.37156606,
                        "iteration": 791,
                        "remaining_time": 10.86525977,
                        "learn": [
                          0.9913629967,
                          0.04606156985
                        ]
                      },
                      {
                        "test": [
                          0.9333482944,
                          0.201396184
                        ],
                        "passed_time": 41.43842489,
                        "iteration": 792,
                        "remaining_time": 10.81683979,
                        "learn": [
                          0.9913629967,
                          0.04602416167
                        ]
                      },
                      {
                        "test": [
                          0.9326750449,
                          0.2014142163
                        ],
                        "passed_time": 41.48480403,
                        "iteration": 793,
                        "remaining_time": 10.76305999,
                        "learn": [
                          0.9914600417,
                          0.0459658776
                        ]
                      },
                      {
                        "test": [
                          0.9324506284,
                          0.2013453719
                        ],
                        "passed_time": 41.54410228,
                        "iteration": 794,
                        "remaining_time": 10.71263015,
                        "learn": [
                          0.9914600417,
                          0.04592310532
                        ]
                      },
                      {
                        "test": [
                          0.9324506284,
                          0.2014184567
                        ],
                        "passed_time": 41.5909221,
                        "iteration": 795,
                        "remaining_time": 10.65898004,
                        "learn": [
                          0.9914600417,
                          0.04585897368
                        ]
                      },
                      {
                        "test": [
                          0.9324506284,
                          0.2014711639
                        ],
                        "passed_time": 41.64303954,
                        "iteration": 796,
                        "remaining_time": 10.6066964,
                        "learn": [
                          0.9915570867,
                          0.04574620486
                        ]
                      },
                      {
                        "test": [
                          0.9328994614,
                          0.2014956716
                        ],
                        "passed_time": 41.69545954,
                        "iteration": 797,
                        "remaining_time": 10.55448976,
                        "learn": [
                          0.9915570867,
                          0.04570559319
                        ]
                      },
                      {
                        "test": [
                          0.9331238779,
                          0.2016610002
                        ],
                        "passed_time": 41.74339345,
                        "iteration": 798,
                        "remaining_time": 10.50115405,
                        "learn": [
                          0.9915570867,
                          0.04564127154
                        ]
                      },
                      {
                        "test": [
                          0.9331238779,
                          0.2016329105
                        ],
                        "passed_time": 41.7881574,
                        "iteration": 799,
                        "remaining_time": 10.44703935,
                        "learn": [
                          0.9916056092,
                          0.0456048478
                        ]
                      },
                      {
                        "test": [
                          0.9331238779,
                          0.2016083199
                        ],
                        "passed_time": 41.84202714,
                        "iteration": 800,
                        "remaining_time": 10.39521024,
                        "learn": [
                          0.9915570867,
                          0.0455503037
                        ]
                      },
                      {
                        "test": [
                          0.9331238779,
                          0.2017475045
                        ],
                        "passed_time": 41.88894713,
                        "iteration": 801,
                        "remaining_time": 10.34166026,
                        "learn": [
                          0.9915570867,
                          0.04549432341
                        ]
                      },
                      {
                        "test": [
                          0.9331238779,
                          0.2016952108
                        ],
                        "passed_time": 41.93650349,
                        "iteration": 802,
                        "remaining_time": 10.28828292,
                        "learn": [
                          0.9915085642,
                          0.0454676504
                        ]
                      },
                      {
                        "test": [
                          0.9328994614,
                          0.2017083943
                        ],
                        "passed_time": 41.98743629,
                        "iteration": 803,
                        "remaining_time": 10.23574317,
                        "learn": [
                          0.9914600417,
                          0.04539029162
                        ]
                      },
                      {
                        "test": [
                          0.9331238779,
                          0.2017698638
                        ],
                        "passed_time": 42.03733925,
                        "iteration": 804,
                        "remaining_time": 10.18295795,
                        "learn": [
                          0.9914600417,
                          0.04534955882
                        ]
                      },
                      {
                        "test": [
                          0.9326750449,
                          0.2018275744
                        ],
                        "passed_time": 42.08468679,
                        "iteration": 805,
                        "remaining_time": 10.12956481,
                        "learn": [
                          0.9915570867,
                          0.04527188032
                        ]
                      },
                      {
                        "test": [
                          0.9326750449,
                          0.2019394351
                        ],
                        "passed_time": 42.1290949,
                        "iteration": 806,
                        "remaining_time": 10.07548366,
                        "learn": [
                          0.9916056092,
                          0.04523088261
                        ]
                      },
                      {
                        "test": [
                          0.9326750449,
                          0.2017973313
                        ],
                        "passed_time": 42.18191417,
                        "iteration": 807,
                        "remaining_time": 10.02342515,
                        "learn": [
                          0.9916056092,
                          0.04516146556
                        ]
                      },
                      {
                        "test": [
                          0.9324506284,
                          0.2018257438
                        ],
                        "passed_time": 42.23667276,
                        "iteration": 808,
                        "remaining_time": 9.971822617,
                        "learn": [
                          0.9918967441,
                          0.04505533911
                        ]
                      },
                      {
                        "test": [
                          0.9324506284,
                          0.2018877482
                        ],
                        "passed_time": 42.29066854,
                        "iteration": 809,
                        "remaining_time": 9.920033362,
                        "learn": [
                          0.9917996992,
                          0.04499032449
                        ]
                      },
                      {
                        "test": [
                          0.9326750449,
                          0.2019331306
                        ],
                        "passed_time": 42.34182635,
                        "iteration": 810,
                        "remaining_time": 9.867577287,
                        "learn": [
                          0.9917511767,
                          0.0449022559
                        ]
                      },
                      {
                        "test": [
                          0.9326750449,
                          0.2019465469
                        ],
                        "passed_time": 42.44014042,
                        "iteration": 811,
                        "remaining_time": 9.826042363,
                        "learn": [
                          0.9917996992,
                          0.04487349621
                        ]
                      },
                      {
                        "test": [
                          0.9324506284,
                          0.201943224
                        ],
                        "passed_time": 42.51474197,
                        "iteration": 812,
                        "remaining_time": 9.778913589,
                        "learn": [
                          0.9919452666,
                          0.04484341972
                        ]
                      },
                      {
                        "test": [
                          0.9324506284,
                          0.2019408146
                        ],
                        "passed_time": 42.5754842,
                        "iteration": 813,
                        "remaining_time": 9.728550443,
                        "learn": [
                          0.9919452666,
                          0.04481798512
                        ]
                      },
                      {
                        "test": [
                          0.9324506284,
                          0.2020645663
                        ],
                        "passed_time": 42.6225619,
                        "iteration": 814,
                        "remaining_time": 9.675060063,
                        "learn": [
                          0.9919452666,
                          0.04477423467
                        ]
                      },
                      {
                        "test": [
                          0.9326750449,
                          0.2021847031
                        ],
                        "passed_time": 42.67089834,
                        "iteration": 815,
                        "remaining_time": 9.621869234,
                        "learn": [
                          0.9918967441,
                          0.04471311726
                        ]
                      },
                      {
                        "test": [
                          0.9324506284,
                          0.2021646923
                        ],
                        "passed_time": 42.72077762,
                        "iteration": 816,
                        "remaining_time": 9.569035869,
                        "learn": [
                          0.9919937891,
                          0.04465239058
                        ]
                      },
                      {
                        "test": [
                          0.9324506284,
                          0.2022139264
                        ],
                        "passed_time": 42.77249365,
                        "iteration": 817,
                        "remaining_time": 9.516618392,
                        "learn": [
                          0.9920423116,
                          0.0445742088
                        ]
                      },
                      {
                        "test": [
                          0.9317773788,
                          0.2022171885
                        ],
                        "passed_time": 42.82036806,
                        "iteration": 818,
                        "remaining_time": 9.463353624,
                        "learn": [
                          0.9921393566,
                          0.04448240723
                        ]
                      },
                      {
                        "test": [
                          0.9322262118,
                          0.2021941934
                        ],
                        "passed_time": 42.86678903,
                        "iteration": 819,
                        "remaining_time": 9.409782957,
                        "learn": [
                          0.9921393566,
                          0.04443041595
                        ]
                      },
                      {
                        "test": [
                          0.9324506284,
                          0.2021523166
                        ],
                        "passed_time": 42.91863664,
                        "iteration": 820,
                        "remaining_time": 9.357412861,
                        "learn": [
                          0.9921878791,
                          0.04441282749
                        ]
                      },
                      {
                        "test": [
                          0.9324506284,
                          0.2021641512
                        ],
                        "passed_time": 42.97492691,
                        "iteration": 821,
                        "remaining_time": 9.306006071,
                        "learn": [
                          0.9921878791,
                          0.04435007624
                        ]
                      },
                      {
                        "test": [
                          0.9324506284,
                          0.2021600431
                        ],
                        "passed_time": 43.0215532,
                        "iteration": 822,
                        "remaining_time": 9.252509011,
                        "learn": [
                          0.9920423116,
                          0.04429034654
                        ]
                      },
                      {
                        "test": [
                          0.9324506284,
                          0.2021642381
                        ],
                        "passed_time": 43.09818988,
                        "iteration": 823,
                        "remaining_time": 9.205438615,
                        "learn": [
                          0.9922364016,
                          0.04423335998
                        ]
                      },
                      {
                        "test": [
                          0.9326750449,
                          0.2021104906
                        ],
                        "passed_time": 43.14602269,
                        "iteration": 824,
                        "remaining_time": 9.152186631,
                        "learn": [
                          0.9921878791,
                          0.04419705172
                        ]
                      },
                      {
                        "test": [
                          0.9328994614,
                          0.2021059922
                        ],
                        "passed_time": 43.19969719,
                        "iteration": 825,
                        "remaining_time": 9.100178343,
                        "learn": [
                          0.9921878791,
                          0.04415144305
                        ]
                      },
                      {
                        "test": [
                          0.9328994614,
                          0.2021562919
                        ],
                        "passed_time": 43.249848,
                        "iteration": 826,
                        "remaining_time": 9.047428904,
                        "learn": [
                          0.9922849241,
                          0.04409866524
                        ]
                      },
                      {
                        "test": [
                          0.9326750449,
                          0.2021963135
                        ],
                        "passed_time": 43.2955019,
                        "iteration": 827,
                        "remaining_time": 8.993751602,
                        "learn": [
                          0.9922364016,
                          0.04407066475
                        ]
                      },
                      {
                        "test": [
                          0.9328994614,
                          0.2021943144
                        ],
                        "passed_time": 43.34898407,
                        "iteration": 828,
                        "remaining_time": 8.941708415,
                        "learn": [
                          0.9923334466,
                          0.04396940678
                        ]
                      },
                      {
                        "test": [
                          0.9322262118,
                          0.2022204761
                        ],
                        "passed_time": 43.39842722,
                        "iteration": 829,
                        "remaining_time": 8.888834492,
                        "learn": [
                          0.9923334466,
                          0.04390673625
                        ]
                      },
                      {
                        "test": [
                          0.9326750449,
                          0.2023215369
                        ],
                        "passed_time": 43.49985256,
                        "iteration": 830,
                        "remaining_time": 8.846540413,
                        "learn": [
                          0.992381969,
                          0.04384996952
                        ]
                      },
                      {
                        "test": [
                          0.9324506284,
                          0.2023899522
                        ],
                        "passed_time": 43.58279287,
                        "iteration": 831,
                        "remaining_time": 8.800371638,
                        "learn": [
                          0.992381969,
                          0.04379606992
                        ]
                      },
                      {
                        "test": [
                          0.9324506284,
                          0.2024833526
                        ],
                        "passed_time": 43.63469467,
                        "iteration": 832,
                        "remaining_time": 8.747891969,
                        "learn": [
                          0.992381969,
                          0.04376070124
                        ]
                      },
                      {
                        "test": [
                          0.9324506284,
                          0.2024860953
                        ],
                        "passed_time": 43.6846725,
                        "iteration": 833,
                        "remaining_time": 8.695030737,
                        "learn": [
                          0.992479014,
                          0.04370183221
                        ]
                      },
                      {
                        "test": [
                          0.9324506284,
                          0.2024473638
                        ],
                        "passed_time": 43.73511928,
                        "iteration": 834,
                        "remaining_time": 8.64226908,
                        "learn": [
                          0.992479014,
                          0.04364642047
                        ]
                      },
                      {
                        "test": [
                          0.9320017953,
                          0.202418195
                        ],
                        "passed_time": 43.77830026,
                        "iteration": 835,
                        "remaining_time": 8.58808761,
                        "learn": [
                          0.992479014,
                          0.04359982994
                        ]
                      },
                      {
                        "test": [
                          0.9317773788,
                          0.2023616011
                        ],
                        "passed_time": 43.83440592,
                        "iteration": 836,
                        "remaining_time": 8.53644942,
                        "learn": [
                          0.992576059,
                          0.04352529935
                        ]
                      },
                      {
                        "test": [
                          0.9320017953,
                          0.2024292955
                        ],
                        "passed_time": 43.88554914,
                        "iteration": 837,
                        "remaining_time": 8.483841242,
                        "learn": [
                          0.9925275365,
                          0.04342128142
                        ]
                      },
                      {
                        "test": [
                          0.9320017953,
                          0.2023929258
                        ],
                        "passed_time": 43.93230221,
                        "iteration": 838,
                        "remaining_time": 8.430394107,
                        "learn": [
                          0.9926245815,
                          0.04336170197
                        ]
                      },
                      {
                        "test": [
                          0.9320017953,
                          0.2023989832
                        ],
                        "passed_time": 43.98398395,
                        "iteration": 839,
                        "remaining_time": 8.377901704,
                        "learn": [
                          0.9927216265,
                          0.04329422141
                        ]
                      },
                      {
                        "test": [
                          0.9320017953,
                          0.2023914556
                        ],
                        "passed_time": 44.03227479,
                        "iteration": 840,
                        "remaining_time": 8.324770144,
                        "learn": [
                          0.992770149,
                          0.04325623986
                        ]
                      },
                      {
                        "test": [
                          0.9320017953,
                          0.2024455264
                        ],
                        "passed_time": 44.08201505,
                        "iteration": 841,
                        "remaining_time": 8.271922065,
                        "learn": [
                          0.992770149,
                          0.04323751552
                        ]
                      },
                      {
                        "test": [
                          0.9320017953,
                          0.2024862555
                        ],
                        "passed_time": 44.13248573,
                        "iteration": 842,
                        "remaining_time": 8.21921739,
                        "learn": [
                          0.9927216265,
                          0.04320021245
                        ]
                      },
                      {
                        "test": [
                          0.9317773788,
                          0.2024769868
                        ],
                        "passed_time": 44.18928126,
                        "iteration": 843,
                        "remaining_time": 8.167687057,
                        "learn": [
                          0.9927216265,
                          0.04315027783
                        ]
                      },
                      {
                        "test": [
                          0.9320017953,
                          0.202411846
                        ],
                        "passed_time": 44.23397494,
                        "iteration": 844,
                        "remaining_time": 8.113924397,
                        "learn": [
                          0.992770149,
                          0.04310593519
                        ]
                      },
                      {
                        "test": [
                          0.9322262118,
                          0.2023691976
                        ],
                        "passed_time": 44.28370831,
                        "iteration": 845,
                        "remaining_time": 8.061100568,
                        "learn": [
                          0.9928186715,
                          0.04305282239
                        ]
                      },
                      {
                        "test": [
                          0.9322262118,
                          0.2024728014
                        ],
                        "passed_time": 44.33670511,
                        "iteration": 846,
                        "remaining_time": 8.008873532,
                        "learn": [
                          0.9928671939,
                          0.04294132399
                        ]
                      },
                      {
                        "test": [
                          0.9322262118,
                          0.2024851869
                        ],
                        "passed_time": 44.384875,
                        "iteration": 847,
                        "remaining_time": 7.95577948,
                        "learn": [
                          0.9928186715,
                          0.04288375451
                        ]
                      },
                      {
                        "test": [
                          0.9322262118,
                          0.2025440959
                        ],
                        "passed_time": 44.44072963,
                        "iteration": 848,
                        "remaining_time": 7.90406381,
                        "learn": [
                          0.9930612839,
                          0.04278333452
                        ]
                      },
                      {
                        "test": [
                          0.9322262118,
                          0.2026112362
                        ],
                        "passed_time": 44.51465614,
                        "iteration": 849,
                        "remaining_time": 7.855527553,
                        "learn": [
                          0.9931098064,
                          0.04272010098
                        ]
                      },
                      {
                        "test": [
                          0.9322262118,
                          0.2026043724
                        ],
                        "passed_time": 44.61915052,
                        "iteration": 850,
                        "remaining_time": 7.812283699,
                        "learn": [
                          0.9930612839,
                          0.04266600706
                        ]
                      },
                      {
                        "test": [
                          0.9320017953,
                          0.2026440228
                        ],
                        "passed_time": 44.6804076,
                        "iteration": 851,
                        "remaining_time": 7.761385358,
                        "learn": [
                          0.9931098064,
                          0.042583666
                        ]
                      },
                      {
                        "test": [
                          0.9320017953,
                          0.2026431517
                        ],
                        "passed_time": 44.72489569,
                        "iteration": 852,
                        "remaining_time": 7.70757288,
                        "learn": [
                          0.9931098064,
                          0.04255872268
                        ]
                      },
                      {
                        "test": [
                          0.9317773788,
                          0.2026302633
                        ],
                        "passed_time": 44.77624628,
                        "iteration": 853,
                        "remaining_time": 7.654955452,
                        "learn": [
                          0.9930612839,
                          0.04250898091
                        ]
                      },
                      {
                        "test": [
                          0.9320017953,
                          0.2024054485
                        ],
                        "passed_time": 44.82506325,
                        "iteration": 854,
                        "remaining_time": 7.601911312,
                        "learn": [
                          0.9932068514,
                          0.04241549974
                        ]
                      },
                      {
                        "test": [
                          0.9324506284,
                          0.2023835247
                        ],
                        "passed_time": 44.87478934,
                        "iteration": 855,
                        "remaining_time": 7.549029983,
                        "learn": [
                          0.9931098064,
                          0.04234047822
                        ]
                      },
                      {
                        "test": [
                          0.9324506284,
                          0.2023666935
                        ],
                        "passed_time": 44.92660155,
                        "iteration": 856,
                        "remaining_time": 7.496504109,
                        "learn": [
                          0.9931583289,
                          0.04228457294
                        ]
                      },
                      {
                        "test": [
                          0.9324506284,
                          0.2024257907
                        ],
                        "passed_time": 44.97546093,
                        "iteration": 857,
                        "remaining_time": 7.443491203,
                        "learn": [
                          0.9932068514,
                          0.04225447625
                        ]
                      },
                      {
                        "test": [
                          0.9324506284,
                          0.2023723531
                        ],
                        "passed_time": 45.02417791,
                        "iteration": 858,
                        "remaining_time": 7.390464592,
                        "learn": [
                          0.9931583289,
                          0.042216795
                        ]
                      },
                      {
                        "test": [
                          0.9324506284,
                          0.2023980308
                        ],
                        "passed_time": 45.07337736,
                        "iteration": 859,
                        "remaining_time": 7.337526547,
                        "learn": [
                          0.9931583289,
                          0.04217002631
                        ]
                      },
                      {
                        "test": [
                          0.9324506284,
                          0.2023879938
                        ],
                        "passed_time": 45.12011095,
                        "iteration": 860,
                        "remaining_time": 7.284199096,
                        "learn": [
                          0.9933038964,
                          0.04213837843
                        ]
                      },
                      {
                        "test": [
                          0.9322262118,
                          0.2024195555
                        ],
                        "passed_time": 45.16598373,
                        "iteration": 861,
                        "remaining_time": 7.230749136,
                        "learn": [
                          0.9931098064,
                          0.04206297369
                        ]
                      },
                      {
                        "test": [
                          0.9320017953,
                          0.2024883936
                        ],
                        "passed_time": 45.21526118,
                        "iteration": 862,
                        "remaining_time": 7.177857221,
                        "learn": [
                          0.9931583289,
                          0.04203452632
                        ]
                      },
                      {
                        "test": [
                          0.9324506284,
                          0.2027310397
                        ],
                        "passed_time": 45.2678401,
                        "iteration": 863,
                        "remaining_time": 7.125493349,
                        "learn": [
                          0.9932553739,
                          0.04193592601
                        ]
                      },
                      {
                        "test": [
                          0.9324506284,
                          0.2028150312
                        ],
                        "passed_time": 45.31838199,
                        "iteration": 864,
                        "remaining_time": 7.072811062,
                        "learn": [
                          0.9932068514,
                          0.04189179706
                        ]
                      },
                      {
                        "test": [
                          0.9326750449,
                          0.2029859972
                        ],
                        "passed_time": 45.36473129,
                        "iteration": 865,
                        "remaining_time": 7.01948498,
                        "learn": [
                          0.9932553739,
                          0.04183323119
                        ]
                      },
                      {
                        "test": [
                          0.9322262118,
                          0.2030997915
                        ],
                        "passed_time": 45.42132685,
                        "iteration": 866,
                        "remaining_time": 6.967746795,
                        "learn": [
                          0.9933038964,
                          0.04178548544
                        ]
                      },
                      {
                        "test": [
                          0.9322262118,
                          0.2029103583
                        ],
                        "passed_time": 45.46671286,
                        "iteration": 867,
                        "remaining_time": 6.91429274,
                        "learn": [
                          0.9933038964,
                          0.04174759328
                        ]
                      },
                      {
                        "test": [
                          0.9322262118,
                          0.2028845253
                        ],
                        "passed_time": 45.51139376,
                        "iteration": 868,
                        "remaining_time": 6.860750958,
                        "learn": [
                          0.9934009413,
                          0.04170353768
                        ]
                      },
                      {
                        "test": [
                          0.9317773788,
                          0.2028661121
                        ],
                        "passed_time": 45.61041356,
                        "iteration": 869,
                        "remaining_time": 6.815349152,
                        "learn": [
                          0.9934494638,
                          0.04163735439
                        ]
                      },
                      {
                        "test": [
                          0.9320017953,
                          0.2028917611
                        ],
                        "passed_time": 45.69554194,
                        "iteration": 870,
                        "remaining_time": 6.767766831,
                        "learn": [
                          0.9934494638,
                          0.04155326122
                        ]
                      },
                      {
                        "test": [
                          0.9317773788,
                          0.2029500543
                        ],
                        "passed_time": 45.74711363,
                        "iteration": 871,
                        "remaining_time": 6.715172643,
                        "learn": [
                          0.9934009413,
                          0.04151424682
                        ]
                      },
                      {
                        "test": [
                          0.9317773788,
                          0.2028834909
                        ],
                        "passed_time": 45.8013486,
                        "iteration": 872,
                        "remaining_time": 6.662968238,
                        "learn": [
                          0.9933524188,
                          0.04148001043
                        ]
                      },
                      {
                        "test": [
                          0.9320017953,
                          0.2029347397
                        ],
                        "passed_time": 45.85134992,
                        "iteration": 873,
                        "remaining_time": 6.610148844,
                        "learn": [
                          0.9934494638,
                          0.04143685612
                        ]
                      },
                      {
                        "test": [
                          0.9322262118,
                          0.2030458611
                        ],
                        "passed_time": 45.90134057,
                        "iteration": 874,
                        "remaining_time": 6.557334366,
                        "learn": [
                          0.9937891213,
                          0.04127680832
                        ]
                      },
                      {
                        "test": [
                          0.9324506284,
                          0.2030707699
                        ],
                        "passed_time": 45.94895977,
                        "iteration": 875,
                        "remaining_time": 6.504190652,
                        "learn": [
                          0.9937405988,
                          0.04121308369
                        ]
                      },
                      {
                        "test": [
                          0.9322262118,
                          0.2031618245
                        ],
                        "passed_time": 45.99963166,
                        "iteration": 876,
                        "remaining_time": 6.451487678,
                        "learn": [
                          0.9937405988,
                          0.04116367561
                        ]
                      },
                      {
                        "test": [
                          0.9320017953,
                          0.2032734925
                        ],
                        "passed_time": 46.04862853,
                        "iteration": 877,
                        "remaining_time": 6.398556583,
                        "learn": [
                          0.9936435538,
                          0.04113117844
                        ]
                      },
                      {
                        "test": [
                          0.9320017953,
                          0.2032268495
                        ],
                        "passed_time": 46.1052667,
                        "iteration": 878,
                        "remaining_time": 6.346686315,
                        "learn": [
                          0.9937405988,
                          0.04109293725
                        ]
                      },
                      {
                        "test": [
                          0.9320017953,
                          0.2033600864
                        ],
                        "passed_time": 46.15264276,
                        "iteration": 879,
                        "remaining_time": 6.293542195,
                        "learn": [
                          0.9936920763,
                          0.041040342
                        ]
                      },
                      {
                        "test": [
                          0.9320017953,
                          0.2033738138
                        ],
                        "passed_time": 46.20478389,
                        "iteration": 880,
                        "remaining_time": 6.241054804,
                        "learn": [
                          0.9937405988,
                          0.04099765623
                        ]
                      },
                      {
                        "test": [
                          0.9320017953,
                          0.2033138709
                        ],
                        "passed_time": 46.25109562,
                        "iteration": 881,
                        "remaining_time": 6.187788303,
                        "learn": [
                          0.9935950313,
                          0.04095820222
                        ]
                      },
                      {
                        "test": [
                          0.9317773788,
                          0.2034217231
                        ],
                        "passed_time": 46.2982586,
                        "iteration": 882,
                        "remaining_time": 6.134650347,
                        "learn": [
                          0.9936435538,
                          0.04089851856
                        ]
                      },
                      {
                        "test": [
                          0.9320017953,
                          0.203576338
                        ],
                        "passed_time": 46.35099282,
                        "iteration": 883,
                        "remaining_time": 6.082256976,
                        "learn": [
                          0.9935465088,
                          0.04084815059
                        ]
                      },
                      {
                        "test": [
                          0.9320017953,
                          0.203484116
                        ],
                        "passed_time": 46.39924628,
                        "iteration": 884,
                        "remaining_time": 6.029280589,
                        "learn": [
                          0.9934979863,
                          0.04080069007
                        ]
                      },
                      {
                        "test": [
                          0.9320017953,
                          0.2035872869
                        ],
                        "passed_time": 46.45076816,
                        "iteration": 885,
                        "remaining_time": 5.976735406,
                        "learn": [
                          0.9935950313,
                          0.04076529155
                        ]
                      },
                      {
                        "test": [
                          0.9317773788,
                          0.2035933651
                        ],
                        "passed_time": 46.49759469,
                        "iteration": 886,
                        "remaining_time": 5.923594363,
                        "learn": [
                          0.9935950313,
                          0.04072582981
                        ]
                      },
                      {
                        "test": [
                          0.9317773788,
                          0.2035284047
                        ],
                        "passed_time": 46.54633734,
                        "iteration": 887,
                        "remaining_time": 5.870709214,
                        "learn": [
                          0.9935950313,
                          0.04067496203
                        ]
                      },
                      {
                        "test": [
                          0.9313285458,
                          0.2035621018
                        ],
                        "passed_time": 46.59321705,
                        "iteration": 888,
                        "remaining_time": 5.81760078,
                        "learn": [
                          0.9935465088,
                          0.04063722419
                        ]
                      },
                      {
                        "test": [
                          0.9315529623,
                          0.2036047657
                        ],
                        "passed_time": 46.71241657,
                        "iteration": 889,
                        "remaining_time": 5.773444745,
                        "learn": [
                          0.9934979863,
                          0.04060431288
                        ]
                      },
                      {
                        "test": [
                          0.9313285458,
                          0.2035953005
                        ],
                        "passed_time": 46.7783529,
                        "iteration": 890,
                        "remaining_time": 5.722604339,
                        "learn": [
                          0.9935465088,
                          0.04058186738
                        ]
                      },
                      {
                        "test": [
                          0.9315529623,
                          0.2035861544
                        ],
                        "passed_time": 46.83117129,
                        "iteration": 891,
                        "remaining_time": 5.670141816,
                        "learn": [
                          0.9937405988,
                          0.04050075779
                        ]
                      },
                      {
                        "test": [
                          0.9313285458,
                          0.2037296878
                        ],
                        "passed_time": 46.88482229,
                        "iteration": 892,
                        "remaining_time": 5.617778258,
                        "learn": [
                          0.9939346887,
                          0.04041280245
                        ]
                      },
                      {
                        "test": [
                          0.9313285458,
                          0.203759564
                        ],
                        "passed_time": 46.93300575,
                        "iteration": 893,
                        "remaining_time": 5.564763545,
                        "learn": [
                          0.9938376437,
                          0.04035327763
                        ]
                      },
                      {
                        "test": [
                          0.9313285458,
                          0.2037539551
                        ],
                        "passed_time": 46.98052421,
                        "iteration": 894,
                        "remaining_time": 5.511681612,
                        "learn": [
                          0.9938376437,
                          0.04031576741
                        ]
                      },
                      {
                        "test": [
                          0.9315529623,
                          0.2037290736
                        ],
                        "passed_time": 47.03313197,
                        "iteration": 895,
                        "remaining_time": 5.459202818,
                        "learn": [
                          0.9939832112,
                          0.04027056796
                        ]
                      },
                      {
                        "test": [
                          0.9313285458,
                          0.2036993861
                        ],
                        "passed_time": 47.07692241,
                        "iteration": 896,
                        "remaining_time": 5.405711269,
                        "learn": [
                          0.9939832112,
                          0.04025367148
                        ]
                      },
                      {
                        "test": [
                          0.9311041293,
                          0.2037556953
                        ],
                        "passed_time": 47.12580818,
                        "iteration": 897,
                        "remaining_time": 5.352820083,
                        "learn": [
                          0.9940317337,
                          0.04020702052
                        ]
                      },
                      {
                        "test": [
                          0.9313285458,
                          0.2039286712
                        ],
                        "passed_time": 47.18547165,
                        "iteration": 898,
                        "remaining_time": 5.301148651,
                        "learn": [
                          0.9940317337,
                          0.04014566445
                        ]
                      },
                      {
                        "test": [
                          0.9311041293,
                          0.2039279869
                        ],
                        "passed_time": 47.2373318,
                        "iteration": 899,
                        "remaining_time": 5.248592422,
                        "learn": [
                          0.9939346887,
                          0.04003220604
                        ]
                      },
                      {
                        "test": [
                          0.9313285458,
                          0.2040136247
                        ],
                        "passed_time": 47.28392004,
                        "iteration": 900,
                        "remaining_time": 5.195458473,
                        "learn": [
                          0.9939832112,
                          0.03999872784
                        ]
                      },
                      {
                        "test": [
                          0.9311041293,
                          0.2040756215
                        ],
                        "passed_time": 47.33014681,
                        "iteration": 901,
                        "remaining_time": 5.142299764,
                        "learn": [
                          0.9939832112,
                          0.03998355313
                        ]
                      },
                      {
                        "test": [
                          0.9317773788,
                          0.204062526
                        ],
                        "passed_time": 47.38357009,
                        "iteration": 902,
                        "remaining_time": 5.089929456,
                        "learn": [
                          0.9939832112,
                          0.03989953452
                        ]
                      },
                      {
                        "test": [
                          0.9315529623,
                          0.2041552773
                        ],
                        "passed_time": 47.43087308,
                        "iteration": 903,
                        "remaining_time": 5.036906875,
                        "learn": [
                          0.9940317337,
                          0.03986176154
                        ]
                      },
                      {
                        "test": [
                          0.9311041293,
                          0.2041983616
                        ],
                        "passed_time": 47.47983149,
                        "iteration": 904,
                        "remaining_time": 4.984070709,
                        "learn": [
                          0.9940317337,
                          0.03982814711
                        ]
                      },
                      {
                        "test": [
                          0.9311041293,
                          0.2042212707
                        ],
                        "passed_time": 47.52577219,
                        "iteration": 905,
                        "remaining_time": 4.930930006,
                        "learn": [
                          0.9940802562,
                          0.03979811068
                        ]
                      },
                      {
                        "test": [
                          0.9313285458,
                          0.2041792066
                        ],
                        "passed_time": 47.57367787,
                        "iteration": 906,
                        "remaining_time": 4.878006661,
                        "learn": [
                          0.9940317337,
                          0.03977024196
                        ]
                      },
                      {
                        "test": [
                          0.9313285458,
                          0.204204277
                        ],
                        "passed_time": 47.61954293,
                        "iteration": 907,
                        "remaining_time": 4.82488761,
                        "learn": [
                          0.9940317337,
                          0.03975409415
                        ]
                      },
                      {
                        "test": [
                          0.9313285458,
                          0.2041631657
                        ],
                        "passed_time": 47.67274611,
                        "iteration": 908,
                        "remaining_time": 4.772519138,
                        "learn": [
                          0.9941773012,
                          0.03966842403
                        ]
                      },
                      {
                        "test": [
                          0.9311041293,
                          0.2042129481
                        ],
                        "passed_time": 47.80367654,
                        "iteration": 909,
                        "remaining_time": 4.727836141,
                        "learn": [
                          0.9940802562,
                          0.03963958662
                        ]
                      },
                      {
                        "test": [
                          0.9311041293,
                          0.2042788384
                        ],
                        "passed_time": 47.87306357,
                        "iteration": 910,
                        "remaining_time": 4.676951325,
                        "learn": [
                          0.9942258237,
                          0.0395759886
                        ]
                      },
                      {
                        "test": [
                          0.9311041293,
                          0.2042543601
                        ],
                        "passed_time": 47.91886495,
                        "iteration": 911,
                        "remaining_time": 4.623750126,
                        "learn": [
                          0.9942258237,
                          0.0395361149
                        ]
                      },
                      {
                        "test": [
                          0.9313285458,
                          0.2042923365
                        ],
                        "passed_time": 47.97216412,
                        "iteration": 912,
                        "remaining_time": 4.571279604,
                        "learn": [
                          0.9944199136,
                          0.03942965292
                        ]
                      },
                      {
                        "test": [
                          0.9313285458,
                          0.2042918686
                        ],
                        "passed_time": 48.0211631,
                        "iteration": 913,
                        "remaining_time": 4.518402655,
                        "learn": [
                          0.9942743462,
                          0.03935916631
                        ]
                      },
                      {
                        "test": [
                          0.9311041293,
                          0.2044079938
                        ],
                        "passed_time": 48.06984382,
                        "iteration": 914,
                        "remaining_time": 4.465504617,
                        "learn": [
                          0.9943713911,
                          0.03932430979
                        ]
                      },
                      {
                        "test": [
                          0.9308797127,
                          0.2042747364
                        ],
                        "passed_time": 48.11903643,
                        "iteration": 915,
                        "remaining_time": 4.412662729,
                        "learn": [
                          0.9944684361,
                          0.03927658114
                        ]
                      },
                      {
                        "test": [
                          0.9308797127,
                          0.2043125018
                        ],
                        "passed_time": 48.16975739,
                        "iteration": 916,
                        "remaining_time": 4.359967135,
                        "learn": [
                          0.9945654811,
                          0.03920758915
                        ]
                      },
                      {
                        "test": [
                          0.9308797127,
                          0.2041602128
                        ],
                        "passed_time": 48.22628769,
                        "iteration": 917,
                        "remaining_time": 4.307794761,
                        "learn": [
                          0.9944684361,
                          0.03908470913
                        ]
                      },
                      {
                        "test": [
                          0.9308797127,
                          0.2041649432
                        ],
                        "passed_time": 48.27116852,
                        "iteration": 918,
                        "remaining_time": 4.254586126,
                        "learn": [
                          0.9944684361,
                          0.03907121554
                        ]
                      },
                      {
                        "test": [
                          0.9308797127,
                          0.2042374213
                        ],
                        "passed_time": 48.32206586,
                        "iteration": 919,
                        "remaining_time": 4.20191877,
                        "learn": [
                          0.9944199136,
                          0.03901966223
                        ]
                      },
                      {
                        "test": [
                          0.9308797127,
                          0.2042962277
                        ],
                        "passed_time": 48.37223446,
                        "iteration": 920,
                        "remaining_time": 4.14919275,
                        "learn": [
                          0.9944199136,
                          0.03900715222
                        ]
                      },
                      {
                        "test": [
                          0.9308797127,
                          0.2044094399
                        ],
                        "passed_time": 48.42221522,
                        "iteration": 921,
                        "remaining_time": 4.096456385,
                        "learn": [
                          0.9944684361,
                          0.0389453774
                        ]
                      },
                      {
                        "test": [
                          0.9311041293,
                          0.2044757194
                        ],
                        "passed_time": 48.47280273,
                        "iteration": 922,
                        "remaining_time": 4.043776609,
                        "learn": [
                          0.9944684361,
                          0.03887735432
                        ]
                      },
                      {
                        "test": [
                          0.9311041293,
                          0.204495657
                        ],
                        "passed_time": 48.52024542,
                        "iteration": 923,
                        "remaining_time": 3.990842697,
                        "learn": [
                          0.9945169586,
                          0.03884020588
                        ]
                      },
                      {
                        "test": [
                          0.9308797127,
                          0.2044567644
                        ],
                        "passed_time": 48.5678127,
                        "iteration": 924,
                        "remaining_time": 3.93793076,
                        "learn": [
                          0.9945654811,
                          0.03879403818
                        ]
                      },
                      {
                        "test": [
                          0.9308797127,
                          0.2043896382
                        ],
                        "passed_time": 48.62070032,
                        "iteration": 925,
                        "remaining_time": 3.885455533,
                        "learn": [
                          0.9946140036,
                          0.03871419371
                        ]
                      },
                      {
                        "test": [
                          0.9308797127,
                          0.2042973144
                        ],
                        "passed_time": 48.66905321,
                        "iteration": 926,
                        "remaining_time": 3.832622313,
                        "learn": [
                          0.9945654811,
                          0.03867373606
                        ]
                      },
                      {
                        "test": [
                          0.9306552962,
                          0.2042433789
                        ],
                        "passed_time": 48.71528799,
                        "iteration": 927,
                        "remaining_time": 3.779634413,
                        "learn": [
                          0.9945169586,
                          0.03862034124
                        ]
                      },
                      {
                        "test": [
                          0.9313285458,
                          0.2042546768
                        ],
                        "passed_time": 48.81124694,
                        "iteration": 928,
                        "remaining_time": 3.730461284,
                        "learn": [
                          0.9947110486,
                          0.03854141104
                        ]
                      },
                      {
                        "test": [
                          0.9308797127,
                          0.2043104181
                        ],
                        "passed_time": 48.90215919,
                        "iteration": 929,
                        "remaining_time": 3.680807681,
                        "learn": [
                          0.9947110486,
                          0.03849858873
                        ]
                      },
                      {
                        "test": [
                          0.9306552962,
                          0.2044859446
                        ],
                        "passed_time": 48.95272773,
                        "iteration": 930,
                        "remaining_time": 3.628075417,
                        "learn": [
                          0.9947595711,
                          0.03845955563
                        ]
                      },
                      {
                        "test": [
                          0.9306552962,
                          0.2045235684
                        ],
                        "passed_time": 49.00497658,
                        "iteration": 931,
                        "remaining_time": 3.575470394,
                        "learn": [
                          0.9946625261,
                          0.03839525264
                        ]
                      },
                      {
                        "test": [
                          0.9306552962,
                          0.2045876592
                        ],
                        "passed_time": 49.05522839,
                        "iteration": 932,
                        "remaining_time": 3.522722725,
                        "learn": [
                          0.9946140036,
                          0.03834117714
                        ]
                      },
                      {
                        "test": [
                          0.9308797127,
                          0.2046081245
                        ],
                        "passed_time": 49.10023888,
                        "iteration": 933,
                        "remaining_time": 3.469610028,
                        "learn": [
                          0.9946625261,
                          0.03831155803
                        ]
                      },
                      {
                        "test": [
                          0.9311041293,
                          0.2046017801
                        ],
                        "passed_time": 49.15398123,
                        "iteration": 934,
                        "remaining_time": 3.41712169,
                        "learn": [
                          0.9947595711,
                          0.03826682262
                        ]
                      },
                      {
                        "test": [
                          0.9313285458,
                          0.2045147797
                        ],
                        "passed_time": 49.20050415,
                        "iteration": 935,
                        "remaining_time": 3.364137036,
                        "learn": [
                          0.9947110486,
                          0.03822943584
                        ]
                      },
                      {
                        "test": [
                          0.9311041293,
                          0.2046545428
                        ],
                        "passed_time": 49.25147943,
                        "iteration": 936,
                        "remaining_time": 3.311465533,
                        "learn": [
                          0.9948080936,
                          0.03819126917
                        ]
                      },
                      {
                        "test": [
                          0.9308797127,
                          0.2046756918
                        ],
                        "passed_time": 49.2945247,
                        "iteration": 937,
                        "remaining_time": 3.258273488,
                        "learn": [
                          0.9948080936,
                          0.03817586116
                        ]
                      },
                      {
                        "test": [
                          0.9306552962,
                          0.2046953679
                        ],
                        "passed_time": 49.34653213,
                        "iteration": 938,
                        "remaining_time": 3.205685261,
                        "learn": [
                          0.9948080936,
                          0.03814879188
                        ]
                      },
                      {
                        "test": [
                          0.9304308797,
                          0.2047281726
                        ],
                        "passed_time": 49.40311819,
                        "iteration": 939,
                        "remaining_time": 3.153390523,
                        "learn": [
                          0.9948080936,
                          0.03813505964
                        ]
                      },
                      {
                        "test": [
                          0.9304308797,
                          0.2047797436
                        ],
                        "passed_time": 49.45248455,
                        "iteration": 940,
                        "remaining_time": 3.100633994,
                        "learn": [
                          0.9947595711,
                          0.03809827713
                        ]
                      },
                      {
                        "test": [
                          0.9306552962,
                          0.2045888419
                        ],
                        "passed_time": 49.49820541,
                        "iteration": 941,
                        "remaining_time": 3.047660206,
                        "learn": [
                          0.9947595711,
                          0.03805105701
                        ]
                      },
                      {
                        "test": [
                          0.9308797127,
                          0.2045986233
                        ],
                        "passed_time": 49.54459045,
                        "iteration": 942,
                        "remaining_time": 2.994741947,
                        "learn": [
                          0.9948080936,
                          0.03800134995
                        ]
                      },
                      {
                        "test": [
                          0.9308797127,
                          0.2043321317
                        ],
                        "passed_time": 49.59370776,
                        "iteration": 943,
                        "remaining_time": 2.941999613,
                        "learn": [
                          0.994856616,
                          0.03793562224
                        ]
                      },
                      {
                        "test": [
                          0.9304308797,
                          0.2045316854
                        ],
                        "passed_time": 49.64287522,
                        "iteration": 944,
                        "remaining_time": 2.88926787,
                        "learn": [
                          0.9949051385,
                          0.03784986619
                        ]
                      },
                      {
                        "test": [
                          0.9302064632,
                          0.2046194055
                        ],
                        "passed_time": 49.69285796,
                        "iteration": 945,
                        "remaining_time": 2.836590201,
                        "learn": [
                          0.9949051385,
                          0.03780442405
                        ]
                      },
                      {
                        "test": [
                          0.9304308797,
                          0.2046945132
                        ],
                        "passed_time": 49.73771533,
                        "iteration": 946,
                        "remaining_time": 2.783631376,
                        "learn": [
                          0.9949051385,
                          0.03776589708
                        ]
                      },
                      {
                        "test": [
                          0.9306552962,
                          0.2047439553
                        ],
                        "passed_time": 49.78793929,
                        "iteration": 947,
                        "remaining_time": 2.730984012,
                        "learn": [
                          0.9950021835,
                          0.03771964244
                        ]
                      },
                      {
                        "test": [
                          0.9306552962,
                          0.2046479923
                        ],
                        "passed_time": 49.87047104,
                        "iteration": 948,
                        "remaining_time": 2.680078001,
                        "learn": [
                          0.9950021835,
                          0.03769802923
                        ]
                      },
                      {
                        "test": [
                          0.9308797127,
                          0.2047662638
                        ],
                        "passed_time": 49.9663638,
                        "iteration": 949,
                        "remaining_time": 2.629808621,
                        "learn": [
                          0.9950021835,
                          0.03766792277
                        ]
                      },
                      {
                        "test": [
                          0.9311041293,
                          0.2046586493
                        ],
                        "passed_time": 50.03524864,
                        "iteration": 950,
                        "remaining_time": 2.578051717,
                        "learn": [
                          0.9950021835,
                          0.03754644465
                        ]
                      },
                      {
                        "test": [
                          0.9308797127,
                          0.2047233799
                        ],
                        "passed_time": 50.08090989,
                        "iteration": 951,
                        "remaining_time": 2.525087894,
                        "learn": [
                          0.994953661,
                          0.03750993971
                        ]
                      },
                      {
                        "test": [
                          0.9308797127,
                          0.2047739116
                        ],
                        "passed_time": 50.12874828,
                        "iteration": 952,
                        "remaining_time": 2.472246767,
                        "learn": [
                          0.9950021835,
                          0.03745374528
                        ]
                      },
                      {
                        "test": [
                          0.9306552962,
                          0.2048262656
                        ],
                        "passed_time": 50.18083041,
                        "iteration": 953,
                        "remaining_time": 2.419620754,
                        "learn": [
                          0.9950992285,
                          0.03736641579
                        ]
                      },
                      {
                        "test": [
                          0.9306552962,
                          0.204826571
                        ],
                        "passed_time": 50.22476206,
                        "iteration": 954,
                        "remaining_time": 2.366611825,
                        "learn": [
                          0.9950992285,
                          0.03733769629
                        ]
                      },
                      {
                        "test": [
                          0.9308797127,
                          0.2049578074
                        ],
                        "passed_time": 50.27450244,
                        "iteration": 955,
                        "remaining_time": 2.313889234,
                        "learn": [
                          0.9950992285,
                          0.03722560713
                        ]
                      },
                      {
                        "test": [
                          0.9308797127,
                          0.2050155886
                        ],
                        "passed_time": 50.32052907,
                        "iteration": 956,
                        "remaining_time": 2.261006009,
                        "learn": [
                          0.9950992285,
                          0.03720262368
                        ]
                      },
                      {
                        "test": [
                          0.9306552962,
                          0.2051429458
                        ],
                        "passed_time": 50.36717658,
                        "iteration": 957,
                        "remaining_time": 2.208164318,
                        "learn": [
                          0.9950992285,
                          0.03717612972
                        ]
                      },
                      {
                        "test": [
                          0.9306552962,
                          0.2053417729
                        ],
                        "passed_time": 50.41436547,
                        "iteration": 958,
                        "remaining_time": 2.15535869,
                        "learn": [
                          0.995147751,
                          0.03711990062
                        ]
                      },
                      {
                        "test": [
                          0.9304308797,
                          0.2053205986
                        ],
                        "passed_time": 50.47309264,
                        "iteration": 959,
                        "remaining_time": 2.103045527,
                        "learn": [
                          0.9950992285,
                          0.03706901478
                        ]
                      },
                      {
                        "test": [
                          0.9304308797,
                          0.2054586769
                        ],
                        "passed_time": 50.51989997,
                        "iteration": 960,
                        "remaining_time": 2.050235275,
                        "learn": [
                          0.995147751,
                          0.03700576536
                        ]
                      },
                      {
                        "test": [
                          0.9306552962,
                          0.2053902043
                        ],
                        "passed_time": 50.56860266,
                        "iteration": 961,
                        "remaining_time": 1.997512371,
                        "learn": [
                          0.9951962735,
                          0.03697991965
                        ]
                      },
                      {
                        "test": [
                          0.9304308797,
                          0.2053164076
                        ],
                        "passed_time": 50.61388362,
                        "iteration": 962,
                        "remaining_time": 1.944666349,
                        "learn": [
                          0.9951962735,
                          0.03695061464
                        ]
                      },
                      {
                        "test": [
                          0.9299820467,
                          0.2053873368
                        ],
                        "passed_time": 50.66456485,
                        "iteration": 963,
                        "remaining_time": 1.892037692,
                        "learn": [
                          0.995147751,
                          0.03687596316
                        ]
                      },
                      {
                        "test": [
                          0.9302064632,
                          0.2055463191
                        ],
                        "passed_time": 50.7149451,
                        "iteration": 964,
                        "remaining_time": 1.839402154,
                        "learn": [
                          0.9950992285,
                          0.03683199259
                        ]
                      },
                      {
                        "test": [
                          0.9297576302,
                          0.2056340539
                        ],
                        "passed_time": 50.76245272,
                        "iteration": 965,
                        "remaining_time": 1.786670179,
                        "learn": [
                          0.995147751,
                          0.03679881405
                        ]
                      },
                      {
                        "test": [
                          0.9297576302,
                          0.2056459931
                        ],
                        "passed_time": 50.81086845,
                        "iteration": 966,
                        "remaining_time": 1.733979999,
                        "learn": [
                          0.995147751,
                          0.03676214837
                        ]
                      },
                      {
                        "test": [
                          0.9295332136,
                          0.2057475344
                        ],
                        "passed_time": 50.87563184,
                        "iteration": 967,
                        "remaining_time": 1.681839069,
                        "learn": [
                          0.9951962735,
                          0.03670095011
                        ]
                      },
                      {
                        "test": [
                          0.9295332136,
                          0.2057640732
                        ],
                        "passed_time": 50.97470151,
                        "iteration": 968,
                        "remaining_time": 1.630769604,
                        "learn": [
                          0.995147751,
                          0.03665641198
                        ]
                      },
                      {
                        "test": [
                          0.9295332136,
                          0.2057107057
                        ],
                        "passed_time": 51.04880359,
                        "iteration": 969,
                        "remaining_time": 1.578828977,
                        "learn": [
                          0.995147751,
                          0.03661314374
                        ]
                      },
                      {
                        "test": [
                          0.9295332136,
                          0.2057471626
                        ],
                        "passed_time": 51.10242001,
                        "iteration": 970,
                        "remaining_time": 1.526230876,
                        "learn": [
                          0.995244796,
                          0.03652577798
                        ]
                      },
                      {
                        "test": [
                          0.9297576302,
                          0.2059017876
                        ],
                        "passed_time": 51.15576454,
                        "iteration": 971,
                        "remaining_time": 1.473622847,
                        "learn": [
                          0.9952933185,
                          0.03646920524
                        ]
                      },
                      {
                        "test": [
                          0.9302064632,
                          0.2059354633
                        ],
                        "passed_time": 51.2051819,
                        "iteration": 972,
                        "remaining_time": 1.420904328,
                        "learn": [
                          0.9953418409,
                          0.03638316167
                        ]
                      },
                      {
                        "test": [
                          0.9302064632,
                          0.2059150705
                        ],
                        "passed_time": 51.2543152,
                        "iteration": 973,
                        "remaining_time": 1.368185005,
                        "learn": [
                          0.9953418409,
                          0.03636867819
                        ]
                      },
                      {
                        "test": [
                          0.9302064632,
                          0.2059040747
                        ],
                        "passed_time": 51.299513,
                        "iteration": 974,
                        "remaining_time": 1.315372128,
                        "learn": [
                          0.9953418409,
                          0.03634838075
                        ]
                      },
                      {
                        "test": [
                          0.9302064632,
                          0.205905382
                        ],
                        "passed_time": 51.34770678,
                        "iteration": 975,
                        "remaining_time": 1.262648527,
                        "learn": [
                          0.9955359309,
                          0.03630286397
                        ]
                      },
                      {
                        "test": [
                          0.9299820467,
                          0.2059800047
                        ],
                        "passed_time": 51.40459025,
                        "iteration": 976,
                        "remaining_time": 1.210138767,
                        "learn": [
                          0.9955359309,
                          0.0362464534
                        ]
                      },
                      {
                        "test": [
                          0.9299820467,
                          0.206088517
                        ],
                        "passed_time": 51.44878039,
                        "iteration": 977,
                        "remaining_time": 1.157334528,
                        "learn": [
                          0.9955359309,
                          0.03617593088
                        ]
                      },
                      {
                        "test": [
                          0.9297576302,
                          0.2061005995
                        ],
                        "passed_time": 51.49727962,
                        "iteration": 978,
                        "remaining_time": 1.104640319,
                        "learn": [
                          0.9955359309,
                          0.0361500035
                        ]
                      },
                      {
                        "test": [
                          0.9299820467,
                          0.2062075498
                        ],
                        "passed_time": 51.54616637,
                        "iteration": 979,
                        "remaining_time": 1.051962579,
                        "learn": [
                          0.9954874084,
                          0.03611381828
                        ]
                      },
                      {
                        "test": [
                          0.9299820467,
                          0.2061521393
                        ],
                        "passed_time": 51.59752209,
                        "iteration": 980,
                        "remaining_time": 0.9993403871,
                        "learn": [
                          0.9954388859,
                          0.03605282065
                        ]
                      },
                      {
                        "test": [
                          0.9302064632,
                          0.2061775862
                        ],
                        "passed_time": 51.64503672,
                        "iteration": 981,
                        "remaining_time": 0.9466503677,
                        "learn": [
                          0.9954388859,
                          0.03603190578
                        ]
                      },
                      {
                        "test": [
                          0.9297576302,
                          0.2061813021
                        ],
                        "passed_time": 51.69798983,
                        "iteration": 982,
                        "remaining_time": 0.894064931,
                        "learn": [
                          0.9954388859,
                          0.03600177747
                        ]
                      },
                      {
                        "test": [
                          0.9297576302,
                          0.2060827813
                        ],
                        "passed_time": 51.7476417,
                        "iteration": 983,
                        "remaining_time": 0.8414250683,
                        "learn": [
                          0.9955359309,
                          0.03595531589
                        ]
                      },
                      {
                        "test": [
                          0.9295332136,
                          0.2061138915
                        ],
                        "passed_time": 51.80001349,
                        "iteration": 984,
                        "remaining_time": 0.7888326928,
                        "learn": [
                          0.9955359309,
                          0.03590301809
                        ]
                      },
                      {
                        "test": [
                          0.9297576302,
                          0.2061804467
                        ],
                        "passed_time": 51.85003061,
                        "iteration": 985,
                        "remaining_time": 0.7362073312,
                        "learn": [
                          0.9955844534,
                          0.03581872772
                        ]
                      },
                      {
                        "test": [
                          0.9290843806,
                          0.2061595721
                        ],
                        "passed_time": 51.91200837,
                        "iteration": 986,
                        "remaining_time": 0.6837447911,
                        "learn": [
                          0.9956329759,
                          0.03579435942
                        ]
                      },
                      {
                        "test": [
                          0.9293087971,
                          0.2062723974
                        ],
                        "passed_time": 51.96744729,
                        "iteration": 987,
                        "remaining_time": 0.6311835704,
                        "learn": [
                          0.9956329759,
                          0.03567321387
                        ]
                      },
                      {
                        "test": [
                          0.9293087971,
                          0.2063149157
                        ],
                        "passed_time": 52.09890928,
                        "iteration": 988,
                        "remaining_time": 0.5794620851,
                        "learn": [
                          0.9956814984,
                          0.03562773138
                        ]
                      },
                      {
                        "test": [
                          0.9295332136,
                          0.2062872191
                        ],
                        "passed_time": 52.15145847,
                        "iteration": 989,
                        "remaining_time": 0.5267824088,
                        "learn": [
                          0.9956329759,
                          0.03558592473
                        ]
                      },
                      {
                        "test": [
                          0.9293087971,
                          0.2062978104
                        ],
                        "passed_time": 52.20287145,
                        "iteration": 990,
                        "remaining_time": 0.4740926772,
                        "learn": [
                          0.9956329759,
                          0.0355510651
                        ]
                      },
                      {
                        "test": [
                          0.9293087971,
                          0.2064084652
                        ],
                        "passed_time": 52.24854697,
                        "iteration": 991,
                        "remaining_time": 0.4213592498,
                        "learn": [
                          0.9956814984,
                          0.03551362535
                        ]
                      },
                      {
                        "test": [
                          0.9297576302,
                          0.2064430704
                        ],
                        "passed_time": 52.30121095,
                        "iteration": 992,
                        "remaining_time": 0.3686893017,
                        "learn": [
                          0.9957300209,
                          0.03545079497
                        ]
                      },
                      {
                        "test": [
                          0.9297576302,
                          0.2064395508
                        ],
                        "passed_time": 52.35244715,
                        "iteration": 993,
                        "remaining_time": 0.3160107474,
                        "learn": [
                          0.9956329759,
                          0.03541133422
                        ]
                      },
                      {
                        "test": [
                          0.9297576302,
                          0.2065213493
                        ],
                        "passed_time": 52.40097263,
                        "iteration": 994,
                        "remaining_time": 0.2633214705,
                        "learn": [
                          0.9957785434,
                          0.03536112724
                        ]
                      },
                      {
                        "test": [
                          0.9299820467,
                          0.2065969093
                        ],
                        "passed_time": 52.44907085,
                        "iteration": 995,
                        "remaining_time": 0.2106388388,
                        "learn": [
                          0.9957785434,
                          0.03527567188
                        ]
                      },
                      {
                        "test": [
                          0.9297576302,
                          0.2065005652
                        ],
                        "passed_time": 52.49800186,
                        "iteration": 996,
                        "remaining_time": 0.1579679093,
                        "learn": [
                          0.9957300209,
                          0.035232142
                        ]
                      },
                      {
                        "test": [
                          0.9297576302,
                          0.2064626158
                        ],
                        "passed_time": 52.54343952,
                        "iteration": 997,
                        "remaining_time": 0.105297474,
                        "learn": [
                          0.9957300209,
                          0.03520302553
                        ]
                      },
                      {
                        "test": [
                          0.9290843806,
                          0.2064181204
                        ],
                        "passed_time": 52.59401117,
                        "iteration": 998,
                        "remaining_time": 0.05264665782,
                        "learn": [
                          0.9956814984,
                          0.03516725256
                        ]
                      },
                      {
                        "test": [
                          0.9290843806,
                          0.2063793678
                        ],
                        "passed_time": 52.6446782,
                        "iteration": 999,
                        "remaining_time": 0,
                        "learn": [
                          0.9957300209,
                          0.03512034596
                        ]
                      }
                    ]
                  },
                  "total_iterations": 1000,
                  "passed_iterations": 999
                },
                "path": "catboost_info",
                "name": "catboost_info"
              }
            },
            "_view_module": "catboost-widget",
            "_model_module_version": "^1.0.0",
            "_view_count": null,
            "_view_module_version": "^1.0.0",
            "layout": "IPY_MODEL_937988ce3d5f4a8b8376fa6aa23aa1d3",
            "_model_module": "catboost-widget"
          }
        }
      }
    }
  },
  "nbformat": 4,
  "nbformat_minor": 5
}