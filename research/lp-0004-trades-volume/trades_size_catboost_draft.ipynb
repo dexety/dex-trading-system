{
  "cells": [
    {
      "cell_type": "code",
      "execution_count": 1,
      "id": "6PWJsnjzBfq1",
      "metadata": {
        "colab": {
          "base_uri": "https://localhost:8080/"
        },
        "id": "6PWJsnjzBfq1",
        "outputId": "bc1ee8de-2a0c-45af-a79a-75414e6d2399"
      },
      "outputs": [
        {
          "output_type": "stream",
          "name": "stdout",
          "text": [
            "Collecting catboost\n",
            "  Downloading catboost-1.0.4-cp37-none-manylinux1_x86_64.whl (76.1 MB)\n",
            "\u001b[K     |████████████████████████████████| 76.1 MB 1.2 MB/s \n",
            "\u001b[?25hRequirement already satisfied: numpy>=1.16.0 in /usr/local/lib/python3.7/dist-packages (from catboost) (1.19.5)\n",
            "Requirement already satisfied: plotly in /usr/local/lib/python3.7/dist-packages (from catboost) (4.4.1)\n",
            "Requirement already satisfied: scipy in /usr/local/lib/python3.7/dist-packages (from catboost) (1.4.1)\n",
            "Requirement already satisfied: six in /usr/local/lib/python3.7/dist-packages (from catboost) (1.15.0)\n",
            "Requirement already satisfied: graphviz in /usr/local/lib/python3.7/dist-packages (from catboost) (0.10.1)\n",
            "Requirement already satisfied: pandas>=0.24.0 in /usr/local/lib/python3.7/dist-packages (from catboost) (1.1.5)\n",
            "Requirement already satisfied: matplotlib in /usr/local/lib/python3.7/dist-packages (from catboost) (3.2.2)\n",
            "Requirement already satisfied: python-dateutil>=2.7.3 in /usr/local/lib/python3.7/dist-packages (from pandas>=0.24.0->catboost) (2.8.2)\n",
            "Requirement already satisfied: pytz>=2017.2 in /usr/local/lib/python3.7/dist-packages (from pandas>=0.24.0->catboost) (2018.9)\n",
            "Requirement already satisfied: pyparsing!=2.0.4,!=2.1.2,!=2.1.6,>=2.0.1 in /usr/local/lib/python3.7/dist-packages (from matplotlib->catboost) (3.0.6)\n",
            "Requirement already satisfied: kiwisolver>=1.0.1 in /usr/local/lib/python3.7/dist-packages (from matplotlib->catboost) (1.3.2)\n",
            "Requirement already satisfied: cycler>=0.10 in /usr/local/lib/python3.7/dist-packages (from matplotlib->catboost) (0.11.0)\n",
            "Requirement already satisfied: retrying>=1.3.3 in /usr/local/lib/python3.7/dist-packages (from plotly->catboost) (1.3.3)\n",
            "Installing collected packages: catboost\n",
            "Successfully installed catboost-1.0.4\n",
            "Collecting hyperopt==0.2.5\n",
            "  Downloading hyperopt-0.2.5-py2.py3-none-any.whl (965 kB)\n",
            "\u001b[K     |████████████████████████████████| 965 kB 8.9 MB/s \n",
            "\u001b[?25hRequirement already satisfied: tqdm in /usr/local/lib/python3.7/dist-packages (from hyperopt==0.2.5) (4.62.3)\n",
            "Requirement already satisfied: cloudpickle in /usr/local/lib/python3.7/dist-packages (from hyperopt==0.2.5) (1.3.0)\n",
            "Requirement already satisfied: networkx>=2.2 in /usr/local/lib/python3.7/dist-packages (from hyperopt==0.2.5) (2.6.3)\n",
            "Requirement already satisfied: scipy in /usr/local/lib/python3.7/dist-packages (from hyperopt==0.2.5) (1.4.1)\n",
            "Requirement already satisfied: future in /usr/local/lib/python3.7/dist-packages (from hyperopt==0.2.5) (0.16.0)\n",
            "Requirement already satisfied: six in /usr/local/lib/python3.7/dist-packages (from hyperopt==0.2.5) (1.15.0)\n",
            "Requirement already satisfied: numpy in /usr/local/lib/python3.7/dist-packages (from hyperopt==0.2.5) (1.19.5)\n",
            "Installing collected packages: hyperopt\n",
            "  Attempting uninstall: hyperopt\n",
            "    Found existing installation: hyperopt 0.1.2\n",
            "    Uninstalling hyperopt-0.1.2:\n",
            "      Successfully uninstalled hyperopt-0.1.2\n",
            "Successfully installed hyperopt-0.2.5\n"
          ]
        }
      ],
      "source": [
        "!pip3 install catboost\n",
        "!pip3 install hyperopt==0.2.5"
      ]
    },
    {
      "cell_type": "code",
      "source": [
        "from google.colab import drive\n",
        "drive.mount('/content/drive')"
      ],
      "metadata": {
        "colab": {
          "base_uri": "https://localhost:8080/"
        },
        "id": "DWI_e1FSru3w",
        "outputId": "d6662ff4-c91f-406d-a9b1-f0494f50e67f"
      },
      "id": "DWI_e1FSru3w",
      "execution_count": 2,
      "outputs": [
        {
          "output_type": "stream",
          "name": "stdout",
          "text": [
            "Mounted at /content/drive\n"
          ]
        }
      ]
    },
    {
      "cell_type": "code",
      "execution_count": 3,
      "id": "vjlvDT-QXrD0",
      "metadata": {
        "id": "vjlvDT-QXrD0"
      },
      "outputs": [],
      "source": [
        "import pandas as pd\n",
        "import numpy as np\n",
        "from catboost import CatBoostClassifier, Pool, metrics, cv\n",
        "from sklearn.metrics import accuracy_score\n",
        "from sklearn.model_selection import train_test_split\n",
        "import hyperopt\n",
        "from numpy.random import RandomState\n",
        "from catboost.utils import select_threshold"
      ]
    },
    {
      "cell_type": "code",
      "execution_count": 8,
      "id": "853aa3c4-a2d3-4845-ad55-388c7ddc238f",
      "metadata": {
        "id": "853aa3c4-a2d3-4845-ad55-388c7ddc238f"
      },
      "outputs": [],
      "source": [
        "csv_path = \"drive/MyDrive/trades-df-2021_11_1_0_0_0-2021_12_21_0_0_0.csv\"\n",
        "df = pd.read_csv(csv_path)"
      ]
    },
    {
      "cell_type": "code",
      "execution_count": 9,
      "id": "6d19d8f2-29d6-475a-8e14-714733f36850",
      "metadata": {
        "colab": {
          "base_uri": "https://localhost:8080/"
        },
        "id": "6d19d8f2-29d6-475a-8e14-714733f36850",
        "outputId": "df4a2376-d6f0-434f-e3d9-02a17680d79b"
      },
      "outputs": [
        {
          "output_type": "stream",
          "name": "stdout",
          "text": [
            "['trade_volume-BUY-6-sec', 'moving_average_price-BUY-6-sec', 'weighted_moving_average_price-BUY-6-sec', 'exp_moving_average_price-BUY-6-sec', 'stochastic_oscillator-BUY-6-sec', 'trade_volume-BUY-12-sec', 'moving_average_price-BUY-12-sec', 'weighted_moving_average_price-BUY-12-sec', 'exp_moving_average_price-BUY-12-sec', 'stochastic_oscillator-BUY-12-sec', 'trade_volume-BUY-18-sec', 'moving_average_price-BUY-18-sec', 'weighted_moving_average_price-BUY-18-sec', 'exp_moving_average_price-BUY-18-sec', 'stochastic_oscillator-BUY-18-sec', 'trade_volume-BUY-24-sec', 'moving_average_price-BUY-24-sec', 'weighted_moving_average_price-BUY-24-sec', 'exp_moving_average_price-BUY-24-sec', 'stochastic_oscillator-BUY-24-sec', 'trade_volume-BUY-30-sec', 'moving_average_price-BUY-30-sec', 'weighted_moving_average_price-BUY-30-sec', 'exp_moving_average_price-BUY-30-sec', 'stochastic_oscillator-BUY-30-sec', 'trade_volume-BUY-36-sec', 'moving_average_price-BUY-36-sec', 'weighted_moving_average_price-BUY-36-sec', 'exp_moving_average_price-BUY-36-sec', 'stochastic_oscillator-BUY-36-sec', 'trade_volume-BUY-42-sec', 'moving_average_price-BUY-42-sec', 'weighted_moving_average_price-BUY-42-sec', 'exp_moving_average_price-BUY-42-sec', 'stochastic_oscillator-BUY-42-sec', 'trade_volume-BUY-48-sec', 'moving_average_price-BUY-48-sec', 'weighted_moving_average_price-BUY-48-sec', 'exp_moving_average_price-BUY-48-sec', 'stochastic_oscillator-BUY-48-sec', 'trade_volume-BUY-54-sec', 'moving_average_price-BUY-54-sec', 'weighted_moving_average_price-BUY-54-sec', 'exp_moving_average_price-BUY-54-sec', 'stochastic_oscillator-BUY-54-sec', 'trade_volume-BUY-60-sec', 'moving_average_price-BUY-60-sec', 'weighted_moving_average_price-BUY-60-sec', 'exp_moving_average_price-BUY-60-sec', 'stochastic_oscillator-BUY-60-sec', 'trade_volume-SELL-6-sec', 'moving_average_price-SELL-6-sec', 'weighted_moving_average_price-SELL-6-sec', 'exp_moving_average_price-SELL-6-sec', 'stochastic_oscillator-SELL-6-sec', 'trade_volume-SELL-12-sec', 'moving_average_price-SELL-12-sec', 'weighted_moving_average_price-SELL-12-sec', 'exp_moving_average_price-SELL-12-sec', 'stochastic_oscillator-SELL-12-sec', 'trade_volume-SELL-18-sec', 'moving_average_price-SELL-18-sec', 'weighted_moving_average_price-SELL-18-sec', 'exp_moving_average_price-SELL-18-sec', 'stochastic_oscillator-SELL-18-sec', 'trade_volume-SELL-24-sec', 'moving_average_price-SELL-24-sec', 'weighted_moving_average_price-SELL-24-sec', 'exp_moving_average_price-SELL-24-sec', 'stochastic_oscillator-SELL-24-sec', 'trade_volume-SELL-30-sec', 'moving_average_price-SELL-30-sec', 'weighted_moving_average_price-SELL-30-sec', 'exp_moving_average_price-SELL-30-sec', 'stochastic_oscillator-SELL-30-sec', 'trade_volume-SELL-36-sec', 'moving_average_price-SELL-36-sec', 'weighted_moving_average_price-SELL-36-sec', 'exp_moving_average_price-SELL-36-sec', 'stochastic_oscillator-SELL-36-sec', 'trade_volume-SELL-42-sec', 'moving_average_price-SELL-42-sec', 'weighted_moving_average_price-SELL-42-sec', 'exp_moving_average_price-SELL-42-sec', 'stochastic_oscillator-SELL-42-sec', 'trade_volume-SELL-48-sec', 'moving_average_price-SELL-48-sec', 'weighted_moving_average_price-SELL-48-sec', 'exp_moving_average_price-SELL-48-sec', 'stochastic_oscillator-SELL-48-sec', 'trade_volume-SELL-54-sec', 'moving_average_price-SELL-54-sec', 'weighted_moving_average_price-SELL-54-sec', 'exp_moving_average_price-SELL-54-sec', 'stochastic_oscillator-SELL-54-sec', 'trade_volume-SELL-60-sec', 'moving_average_price-SELL-60-sec', 'weighted_moving_average_price-SELL-60-sec', 'exp_moving_average_price-SELL-60-sec', 'stochastic_oscillator-SELL-60-sec']\n",
            "['punch-BUY-30-sec', 'punch-SELL-30-sec']\n"
          ]
        }
      ],
      "source": [
        "x_columns = list(filter(lambda column: not 'punch' in column, df.columns))\n",
        "y_columns = list(filter(lambda column: 'punch' in column, df.columns))\n",
        "print(x_columns)\n",
        "print(y_columns)"
      ]
    },
    {
      "cell_type": "code",
      "execution_count": 10,
      "id": "96ce2f97-578b-4e03-88df-68348c66e537",
      "metadata": {
        "colab": {
          "base_uri": "https://localhost:8080/",
          "height": 713
        },
        "id": "96ce2f97-578b-4e03-88df-68348c66e537",
        "outputId": "8824e552-8d70-474c-fd3e-f58d7f8b2215"
      },
      "outputs": [
        {
          "output_type": "stream",
          "name": "stderr",
          "text": [
            "/usr/local/lib/python3.7/dist-packages/ipykernel_launcher.py:13: SettingWithCopyWarning: \n",
            "A value is trying to be set on a copy of a slice from a DataFrame.\n",
            "Try using .loc[row_indexer,col_indexer] = value instead\n",
            "\n",
            "See the caveats in the documentation: https://pandas.pydata.org/pandas-docs/stable/user_guide/indexing.html#returning-a-view-versus-a-copy\n",
            "  del sys.path[0]\n",
            "/usr/local/lib/python3.7/dist-packages/ipykernel_launcher.py:10: SettingWithCopyWarning: \n",
            "A value is trying to be set on a copy of a slice from a DataFrame.\n",
            "Try using .loc[row_indexer,col_indexer] = value instead\n",
            "\n",
            "See the caveats in the documentation: https://pandas.pydata.org/pandas-docs/stable/user_guide/indexing.html#returning-a-view-versus-a-copy\n",
            "  # Remove the CWD from sys.path while we load stuff.\n"
          ]
        },
        {
          "output_type": "execute_result",
          "data": {
            "text/html": [
              "\n",
              "  <div id=\"df-8e830928-f816-454c-875c-745e8b306e94\">\n",
              "    <div class=\"colab-df-container\">\n",
              "      <div>\n",
              "<style scoped>\n",
              "    .dataframe tbody tr th:only-of-type {\n",
              "        vertical-align: middle;\n",
              "    }\n",
              "\n",
              "    .dataframe tbody tr th {\n",
              "        vertical-align: top;\n",
              "    }\n",
              "\n",
              "    .dataframe thead th {\n",
              "        text-align: right;\n",
              "    }\n",
              "</style>\n",
              "<table border=\"1\" class=\"dataframe\">\n",
              "  <thead>\n",
              "    <tr style=\"text-align: right;\">\n",
              "      <th></th>\n",
              "      <th>trade_volume-BUY-6-sec</th>\n",
              "      <th>moving_average_price-BUY-6-sec</th>\n",
              "      <th>weighted_moving_average_price-BUY-6-sec</th>\n",
              "      <th>exp_moving_average_price-BUY-6-sec</th>\n",
              "      <th>stochastic_oscillator-BUY-6-sec</th>\n",
              "      <th>trade_volume-BUY-12-sec</th>\n",
              "      <th>moving_average_price-BUY-12-sec</th>\n",
              "      <th>weighted_moving_average_price-BUY-12-sec</th>\n",
              "      <th>exp_moving_average_price-BUY-12-sec</th>\n",
              "      <th>stochastic_oscillator-BUY-12-sec</th>\n",
              "      <th>trade_volume-BUY-18-sec</th>\n",
              "      <th>moving_average_price-BUY-18-sec</th>\n",
              "      <th>weighted_moving_average_price-BUY-18-sec</th>\n",
              "      <th>exp_moving_average_price-BUY-18-sec</th>\n",
              "      <th>stochastic_oscillator-BUY-18-sec</th>\n",
              "      <th>trade_volume-BUY-24-sec</th>\n",
              "      <th>moving_average_price-BUY-24-sec</th>\n",
              "      <th>weighted_moving_average_price-BUY-24-sec</th>\n",
              "      <th>exp_moving_average_price-BUY-24-sec</th>\n",
              "      <th>stochastic_oscillator-BUY-24-sec</th>\n",
              "      <th>trade_volume-BUY-30-sec</th>\n",
              "      <th>moving_average_price-BUY-30-sec</th>\n",
              "      <th>weighted_moving_average_price-BUY-30-sec</th>\n",
              "      <th>exp_moving_average_price-BUY-30-sec</th>\n",
              "      <th>stochastic_oscillator-BUY-30-sec</th>\n",
              "      <th>trade_volume-BUY-36-sec</th>\n",
              "      <th>moving_average_price-BUY-36-sec</th>\n",
              "      <th>weighted_moving_average_price-BUY-36-sec</th>\n",
              "      <th>exp_moving_average_price-BUY-36-sec</th>\n",
              "      <th>stochastic_oscillator-BUY-36-sec</th>\n",
              "      <th>trade_volume-BUY-42-sec</th>\n",
              "      <th>moving_average_price-BUY-42-sec</th>\n",
              "      <th>weighted_moving_average_price-BUY-42-sec</th>\n",
              "      <th>exp_moving_average_price-BUY-42-sec</th>\n",
              "      <th>stochastic_oscillator-BUY-42-sec</th>\n",
              "      <th>trade_volume-BUY-48-sec</th>\n",
              "      <th>moving_average_price-BUY-48-sec</th>\n",
              "      <th>weighted_moving_average_price-BUY-48-sec</th>\n",
              "      <th>exp_moving_average_price-BUY-48-sec</th>\n",
              "      <th>stochastic_oscillator-BUY-48-sec</th>\n",
              "      <th>...</th>\n",
              "      <th>weighted_moving_average_price-SELL-12-sec</th>\n",
              "      <th>exp_moving_average_price-SELL-12-sec</th>\n",
              "      <th>stochastic_oscillator-SELL-12-sec</th>\n",
              "      <th>trade_volume-SELL-18-sec</th>\n",
              "      <th>moving_average_price-SELL-18-sec</th>\n",
              "      <th>weighted_moving_average_price-SELL-18-sec</th>\n",
              "      <th>exp_moving_average_price-SELL-18-sec</th>\n",
              "      <th>stochastic_oscillator-SELL-18-sec</th>\n",
              "      <th>trade_volume-SELL-24-sec</th>\n",
              "      <th>moving_average_price-SELL-24-sec</th>\n",
              "      <th>weighted_moving_average_price-SELL-24-sec</th>\n",
              "      <th>exp_moving_average_price-SELL-24-sec</th>\n",
              "      <th>stochastic_oscillator-SELL-24-sec</th>\n",
              "      <th>trade_volume-SELL-30-sec</th>\n",
              "      <th>moving_average_price-SELL-30-sec</th>\n",
              "      <th>weighted_moving_average_price-SELL-30-sec</th>\n",
              "      <th>exp_moving_average_price-SELL-30-sec</th>\n",
              "      <th>stochastic_oscillator-SELL-30-sec</th>\n",
              "      <th>trade_volume-SELL-36-sec</th>\n",
              "      <th>moving_average_price-SELL-36-sec</th>\n",
              "      <th>weighted_moving_average_price-SELL-36-sec</th>\n",
              "      <th>exp_moving_average_price-SELL-36-sec</th>\n",
              "      <th>stochastic_oscillator-SELL-36-sec</th>\n",
              "      <th>trade_volume-SELL-42-sec</th>\n",
              "      <th>moving_average_price-SELL-42-sec</th>\n",
              "      <th>weighted_moving_average_price-SELL-42-sec</th>\n",
              "      <th>exp_moving_average_price-SELL-42-sec</th>\n",
              "      <th>stochastic_oscillator-SELL-42-sec</th>\n",
              "      <th>trade_volume-SELL-48-sec</th>\n",
              "      <th>moving_average_price-SELL-48-sec</th>\n",
              "      <th>weighted_moving_average_price-SELL-48-sec</th>\n",
              "      <th>exp_moving_average_price-SELL-48-sec</th>\n",
              "      <th>stochastic_oscillator-SELL-48-sec</th>\n",
              "      <th>trade_volume-SELL-54-sec</th>\n",
              "      <th>moving_average_price-SELL-54-sec</th>\n",
              "      <th>weighted_moving_average_price-SELL-54-sec</th>\n",
              "      <th>exp_moving_average_price-SELL-54-sec</th>\n",
              "      <th>stochastic_oscillator-SELL-54-sec</th>\n",
              "      <th>trade_volume-SELL-60-sec</th>\n",
              "      <th>stochastic_oscillator-SELL-60-sec</th>\n",
              "    </tr>\n",
              "  </thead>\n",
              "  <tbody>\n",
              "    <tr>\n",
              "      <th>0</th>\n",
              "      <td>0.100</td>\n",
              "      <td>1.000000</td>\n",
              "      <td>1.000000</td>\n",
              "      <td>1.000000</td>\n",
              "      <td>0.0</td>\n",
              "      <td>0.400</td>\n",
              "      <td>1.000078</td>\n",
              "      <td>1.000113</td>\n",
              "      <td>1.000005</td>\n",
              "      <td>0.000000</td>\n",
              "      <td>10.355</td>\n",
              "      <td>1.000006</td>\n",
              "      <td>1.000000</td>\n",
              "      <td>1.000000</td>\n",
              "      <td>1.000000</td>\n",
              "      <td>0.500</td>\n",
              "      <td>1.000013</td>\n",
              "      <td>1.000001</td>\n",
              "      <td>1.000000</td>\n",
              "      <td>0.000000</td>\n",
              "      <td>10.655</td>\n",
              "      <td>1.000020</td>\n",
              "      <td>1.000002</td>\n",
              "      <td>1.0</td>\n",
              "      <td>1.000000</td>\n",
              "      <td>0.716</td>\n",
              "      <td>1.000023</td>\n",
              "      <td>1.000004</td>\n",
              "      <td>1.000000</td>\n",
              "      <td>0.000000</td>\n",
              "      <td>10.855</td>\n",
              "      <td>1.000019</td>\n",
              "      <td>1.000004</td>\n",
              "      <td>1.000000</td>\n",
              "      <td>1.000000</td>\n",
              "      <td>0.916</td>\n",
              "      <td>1.000000</td>\n",
              "      <td>1.000000</td>\n",
              "      <td>1.0</td>\n",
              "      <td>0.000000</td>\n",
              "      <td>...</td>\n",
              "      <td>1.000067</td>\n",
              "      <td>1.000007</td>\n",
              "      <td>0.000000</td>\n",
              "      <td>0.400</td>\n",
              "      <td>1.000035</td>\n",
              "      <td>1.000038</td>\n",
              "      <td>1.000000</td>\n",
              "      <td>1.000000</td>\n",
              "      <td>0.800</td>\n",
              "      <td>1.000006</td>\n",
              "      <td>1.000005</td>\n",
              "      <td>1.000000</td>\n",
              "      <td>0.000000</td>\n",
              "      <td>0.600</td>\n",
              "      <td>1.000035</td>\n",
              "      <td>1.000140</td>\n",
              "      <td>1.0</td>\n",
              "      <td>1.000000</td>\n",
              "      <td>3.500</td>\n",
              "      <td>1.000020</td>\n",
              "      <td>1.000004</td>\n",
              "      <td>1.000000</td>\n",
              "      <td>0.000000</td>\n",
              "      <td>0.800</td>\n",
              "      <td>1.000023</td>\n",
              "      <td>1.000024</td>\n",
              "      <td>1.0</td>\n",
              "      <td>1.000000</td>\n",
              "      <td>5.566</td>\n",
              "      <td>1.000012</td>\n",
              "      <td>1.000014</td>\n",
              "      <td>1.0</td>\n",
              "      <td>0.000000</td>\n",
              "      <td>3.400</td>\n",
              "      <td>1.000028</td>\n",
              "      <td>1.000018</td>\n",
              "      <td>1.0</td>\n",
              "      <td>1.000000</td>\n",
              "      <td>15.547</td>\n",
              "      <td>0.000000</td>\n",
              "    </tr>\n",
              "    <tr>\n",
              "      <th>1</th>\n",
              "      <td>0.200</td>\n",
              "      <td>1.000000</td>\n",
              "      <td>1.000000</td>\n",
              "      <td>1.000000</td>\n",
              "      <td>0.0</td>\n",
              "      <td>0.300</td>\n",
              "      <td>1.000000</td>\n",
              "      <td>1.000000</td>\n",
              "      <td>1.000000</td>\n",
              "      <td>0.000000</td>\n",
              "      <td>0.400</td>\n",
              "      <td>1.000000</td>\n",
              "      <td>1.000000</td>\n",
              "      <td>1.000000</td>\n",
              "      <td>0.000000</td>\n",
              "      <td>0.600</td>\n",
              "      <td>1.000000</td>\n",
              "      <td>1.000000</td>\n",
              "      <td>1.000000</td>\n",
              "      <td>0.000000</td>\n",
              "      <td>0.650</td>\n",
              "      <td>1.000000</td>\n",
              "      <td>1.000000</td>\n",
              "      <td>1.0</td>\n",
              "      <td>0.000000</td>\n",
              "      <td>0.800</td>\n",
              "      <td>1.000037</td>\n",
              "      <td>1.000048</td>\n",
              "      <td>1.000000</td>\n",
              "      <td>0.000000</td>\n",
              "      <td>1.399</td>\n",
              "      <td>1.000005</td>\n",
              "      <td>1.000004</td>\n",
              "      <td>1.000000</td>\n",
              "      <td>0.600000</td>\n",
              "      <td>0.900</td>\n",
              "      <td>0.999985</td>\n",
              "      <td>0.999986</td>\n",
              "      <td>1.0</td>\n",
              "      <td>0.000000</td>\n",
              "      <td>...</td>\n",
              "      <td>1.000000</td>\n",
              "      <td>1.000000</td>\n",
              "      <td>0.000000</td>\n",
              "      <td>0.766</td>\n",
              "      <td>1.000000</td>\n",
              "      <td>1.000000</td>\n",
              "      <td>1.000000</td>\n",
              "      <td>0.000000</td>\n",
              "      <td>4.084</td>\n",
              "      <td>1.000000</td>\n",
              "      <td>1.000000</td>\n",
              "      <td>1.000000</td>\n",
              "      <td>0.000000</td>\n",
              "      <td>0.766</td>\n",
              "      <td>1.000008</td>\n",
              "      <td>1.000003</td>\n",
              "      <td>1.0</td>\n",
              "      <td>0.000000</td>\n",
              "      <td>4.284</td>\n",
              "      <td>1.000025</td>\n",
              "      <td>1.000010</td>\n",
              "      <td>1.000000</td>\n",
              "      <td>0.600000</td>\n",
              "      <td>1.166</td>\n",
              "      <td>1.000000</td>\n",
              "      <td>1.000000</td>\n",
              "      <td>1.0</td>\n",
              "      <td>0.000000</td>\n",
              "      <td>4.284</td>\n",
              "      <td>0.999875</td>\n",
              "      <td>0.999760</td>\n",
              "      <td>1.0</td>\n",
              "      <td>0.600000</td>\n",
              "      <td>34.697</td>\n",
              "      <td>0.999995</td>\n",
              "      <td>1.000000</td>\n",
              "      <td>1.0</td>\n",
              "      <td>-0.339130</td>\n",
              "      <td>4.384</td>\n",
              "      <td>0.600000</td>\n",
              "    </tr>\n",
              "    <tr>\n",
              "      <th>2</th>\n",
              "      <td>0.200</td>\n",
              "      <td>1.000054</td>\n",
              "      <td>1.000093</td>\n",
              "      <td>1.000045</td>\n",
              "      <td>0.0</td>\n",
              "      <td>49.298</td>\n",
              "      <td>0.999927</td>\n",
              "      <td>0.999998</td>\n",
              "      <td>0.999997</td>\n",
              "      <td>0.000000</td>\n",
              "      <td>0.500</td>\n",
              "      <td>0.999985</td>\n",
              "      <td>0.999999</td>\n",
              "      <td>1.000000</td>\n",
              "      <td>0.000000</td>\n",
              "      <td>49.398</td>\n",
              "      <td>0.999912</td>\n",
              "      <td>0.999997</td>\n",
              "      <td>1.000000</td>\n",
              "      <td>0.000000</td>\n",
              "      <td>0.700</td>\n",
              "      <td>0.999762</td>\n",
              "      <td>0.999991</td>\n",
              "      <td>1.0</td>\n",
              "      <td>0.000000</td>\n",
              "      <td>49.798</td>\n",
              "      <td>0.999887</td>\n",
              "      <td>0.999993</td>\n",
              "      <td>1.000000</td>\n",
              "      <td>0.000000</td>\n",
              "      <td>0.946</td>\n",
              "      <td>0.999952</td>\n",
              "      <td>0.999997</td>\n",
              "      <td>1.000000</td>\n",
              "      <td>0.000000</td>\n",
              "      <td>49.898</td>\n",
              "      <td>0.999883</td>\n",
              "      <td>0.999994</td>\n",
              "      <td>1.0</td>\n",
              "      <td>0.000000</td>\n",
              "      <td>...</td>\n",
              "      <td>1.000006</td>\n",
              "      <td>1.000000</td>\n",
              "      <td>0.000000</td>\n",
              "      <td>6.920</td>\n",
              "      <td>0.999977</td>\n",
              "      <td>1.000000</td>\n",
              "      <td>1.000000</td>\n",
              "      <td>0.000000</td>\n",
              "      <td>145.457</td>\n",
              "      <td>0.999963</td>\n",
              "      <td>0.999997</td>\n",
              "      <td>1.000000</td>\n",
              "      <td>0.000000</td>\n",
              "      <td>12.726</td>\n",
              "      <td>0.999923</td>\n",
              "      <td>0.999980</td>\n",
              "      <td>1.0</td>\n",
              "      <td>0.000000</td>\n",
              "      <td>152.812</td>\n",
              "      <td>0.999889</td>\n",
              "      <td>0.999950</td>\n",
              "      <td>1.000000</td>\n",
              "      <td>0.000000</td>\n",
              "      <td>21.783</td>\n",
              "      <td>0.999950</td>\n",
              "      <td>0.999998</td>\n",
              "      <td>1.0</td>\n",
              "      <td>0.000000</td>\n",
              "      <td>153.112</td>\n",
              "      <td>0.999967</td>\n",
              "      <td>0.999993</td>\n",
              "      <td>1.0</td>\n",
              "      <td>0.000000</td>\n",
              "      <td>22.783</td>\n",
              "      <td>0.999961</td>\n",
              "      <td>0.999998</td>\n",
              "      <td>1.0</td>\n",
              "      <td>0.000000</td>\n",
              "      <td>153.412</td>\n",
              "      <td>0.000000</td>\n",
              "    </tr>\n",
              "    <tr>\n",
              "      <th>3</th>\n",
              "      <td>2.513</td>\n",
              "      <td>1.000151</td>\n",
              "      <td>1.000178</td>\n",
              "      <td>1.000007</td>\n",
              "      <td>0.0</td>\n",
              "      <td>4.975</td>\n",
              "      <td>1.000460</td>\n",
              "      <td>1.000613</td>\n",
              "      <td>1.000000</td>\n",
              "      <td>1.000000</td>\n",
              "      <td>38.830</td>\n",
              "      <td>0.999996</td>\n",
              "      <td>0.999999</td>\n",
              "      <td>1.000000</td>\n",
              "      <td>0.000000</td>\n",
              "      <td>5.175</td>\n",
              "      <td>1.000000</td>\n",
              "      <td>1.000000</td>\n",
              "      <td>1.000000</td>\n",
              "      <td>1.000000</td>\n",
              "      <td>38.830</td>\n",
              "      <td>0.999971</td>\n",
              "      <td>0.999996</td>\n",
              "      <td>1.0</td>\n",
              "      <td>0.000000</td>\n",
              "      <td>5.575</td>\n",
              "      <td>0.999939</td>\n",
              "      <td>0.999849</td>\n",
              "      <td>1.000000</td>\n",
              "      <td>1.000000</td>\n",
              "      <td>48.346</td>\n",
              "      <td>1.000000</td>\n",
              "      <td>1.000000</td>\n",
              "      <td>1.000000</td>\n",
              "      <td>-0.043478</td>\n",
              "      <td>5.575</td>\n",
              "      <td>1.000000</td>\n",
              "      <td>1.000000</td>\n",
              "      <td>1.0</td>\n",
              "      <td>1.000000</td>\n",
              "      <td>...</td>\n",
              "      <td>1.000071</td>\n",
              "      <td>1.000000</td>\n",
              "      <td>0.000000</td>\n",
              "      <td>45.514</td>\n",
              "      <td>0.999939</td>\n",
              "      <td>0.999967</td>\n",
              "      <td>1.000000</td>\n",
              "      <td>1.000000</td>\n",
              "      <td>13.863</td>\n",
              "      <td>0.999977</td>\n",
              "      <td>0.999998</td>\n",
              "      <td>1.000000</td>\n",
              "      <td>0.000000</td>\n",
              "      <td>45.814</td>\n",
              "      <td>0.999910</td>\n",
              "      <td>0.999956</td>\n",
              "      <td>1.0</td>\n",
              "      <td>1.000000</td>\n",
              "      <td>19.263</td>\n",
              "      <td>0.999986</td>\n",
              "      <td>0.999998</td>\n",
              "      <td>1.000000</td>\n",
              "      <td>-0.043478</td>\n",
              "      <td>45.964</td>\n",
              "      <td>0.999973</td>\n",
              "      <td>0.999997</td>\n",
              "      <td>1.0</td>\n",
              "      <td>0.947588</td>\n",
              "      <td>19.463</td>\n",
              "      <td>0.999892</td>\n",
              "      <td>0.999960</td>\n",
              "      <td>1.0</td>\n",
              "      <td>-0.055696</td>\n",
              "      <td>48.145</td>\n",
              "      <td>0.999830</td>\n",
              "      <td>0.999537</td>\n",
              "      <td>1.0</td>\n",
              "      <td>0.722363</td>\n",
              "      <td>43.943</td>\n",
              "      <td>-0.237069</td>\n",
              "    </tr>\n",
              "    <tr>\n",
              "      <th>4</th>\n",
              "      <td>5.152</td>\n",
              "      <td>0.999959</td>\n",
              "      <td>0.999992</td>\n",
              "      <td>0.999995</td>\n",
              "      <td>1.0</td>\n",
              "      <td>0.100</td>\n",
              "      <td>0.999963</td>\n",
              "      <td>0.999992</td>\n",
              "      <td>1.000000</td>\n",
              "      <td>-0.277778</td>\n",
              "      <td>5.252</td>\n",
              "      <td>0.999958</td>\n",
              "      <td>0.999884</td>\n",
              "      <td>1.000000</td>\n",
              "      <td>0.927778</td>\n",
              "      <td>6.890</td>\n",
              "      <td>1.000013</td>\n",
              "      <td>1.000004</td>\n",
              "      <td>1.000000</td>\n",
              "      <td>-0.277778</td>\n",
              "      <td>14.568</td>\n",
              "      <td>1.000015</td>\n",
              "      <td>1.000000</td>\n",
              "      <td>1.0</td>\n",
              "      <td>0.927778</td>\n",
              "      <td>8.057</td>\n",
              "      <td>1.000014</td>\n",
              "      <td>1.000000</td>\n",
              "      <td>1.000000</td>\n",
              "      <td>-0.277778</td>\n",
              "      <td>15.068</td>\n",
              "      <td>1.000056</td>\n",
              "      <td>1.000023</td>\n",
              "      <td>1.000000</td>\n",
              "      <td>0.927778</td>\n",
              "      <td>10.496</td>\n",
              "      <td>1.000165</td>\n",
              "      <td>1.000644</td>\n",
              "      <td>1.0</td>\n",
              "      <td>-0.161111</td>\n",
              "      <td>...</td>\n",
              "      <td>0.999952</td>\n",
              "      <td>1.000000</td>\n",
              "      <td>-0.257143</td>\n",
              "      <td>9.616</td>\n",
              "      <td>1.000000</td>\n",
              "      <td>1.000002</td>\n",
              "      <td>1.000000</td>\n",
              "      <td>0.819643</td>\n",
              "      <td>6.406</td>\n",
              "      <td>1.000006</td>\n",
              "      <td>1.000001</td>\n",
              "      <td>1.000000</td>\n",
              "      <td>-0.257143</td>\n",
              "      <td>9.716</td>\n",
              "      <td>1.000011</td>\n",
              "      <td>1.000002</td>\n",
              "      <td>1.0</td>\n",
              "      <td>0.819643</td>\n",
              "      <td>6.506</td>\n",
              "      <td>1.000033</td>\n",
              "      <td>1.000107</td>\n",
              "      <td>1.000000</td>\n",
              "      <td>-0.257143</td>\n",
              "      <td>19.332</td>\n",
              "      <td>1.000031</td>\n",
              "      <td>1.000003</td>\n",
              "      <td>1.0</td>\n",
              "      <td>0.819643</td>\n",
              "      <td>6.706</td>\n",
              "      <td>1.000067</td>\n",
              "      <td>1.000007</td>\n",
              "      <td>1.0</td>\n",
              "      <td>-0.111310</td>\n",
              "      <td>19.532</td>\n",
              "      <td>1.000118</td>\n",
              "      <td>1.000278</td>\n",
              "      <td>1.0</td>\n",
              "      <td>0.971310</td>\n",
              "      <td>16.675</td>\n",
              "      <td>-0.111310</td>\n",
              "    </tr>\n",
              "    <tr>\n",
              "      <th>...</th>\n",
              "      <td>...</td>\n",
              "      <td>...</td>\n",
              "      <td>...</td>\n",
              "      <td>...</td>\n",
              "      <td>...</td>\n",
              "      <td>...</td>\n",
              "      <td>...</td>\n",
              "      <td>...</td>\n",
              "      <td>...</td>\n",
              "      <td>...</td>\n",
              "      <td>...</td>\n",
              "      <td>...</td>\n",
              "      <td>...</td>\n",
              "      <td>...</td>\n",
              "      <td>...</td>\n",
              "      <td>...</td>\n",
              "      <td>...</td>\n",
              "      <td>...</td>\n",
              "      <td>...</td>\n",
              "      <td>...</td>\n",
              "      <td>...</td>\n",
              "      <td>...</td>\n",
              "      <td>...</td>\n",
              "      <td>...</td>\n",
              "      <td>...</td>\n",
              "      <td>...</td>\n",
              "      <td>...</td>\n",
              "      <td>...</td>\n",
              "      <td>...</td>\n",
              "      <td>...</td>\n",
              "      <td>...</td>\n",
              "      <td>...</td>\n",
              "      <td>...</td>\n",
              "      <td>...</td>\n",
              "      <td>...</td>\n",
              "      <td>...</td>\n",
              "      <td>...</td>\n",
              "      <td>...</td>\n",
              "      <td>...</td>\n",
              "      <td>...</td>\n",
              "      <td>...</td>\n",
              "      <td>...</td>\n",
              "      <td>...</td>\n",
              "      <td>...</td>\n",
              "      <td>...</td>\n",
              "      <td>...</td>\n",
              "      <td>...</td>\n",
              "      <td>...</td>\n",
              "      <td>...</td>\n",
              "      <td>...</td>\n",
              "      <td>...</td>\n",
              "      <td>...</td>\n",
              "      <td>...</td>\n",
              "      <td>...</td>\n",
              "      <td>...</td>\n",
              "      <td>...</td>\n",
              "      <td>...</td>\n",
              "      <td>...</td>\n",
              "      <td>...</td>\n",
              "      <td>...</td>\n",
              "      <td>...</td>\n",
              "      <td>...</td>\n",
              "      <td>...</td>\n",
              "      <td>...</td>\n",
              "      <td>...</td>\n",
              "      <td>...</td>\n",
              "      <td>...</td>\n",
              "      <td>...</td>\n",
              "      <td>...</td>\n",
              "      <td>...</td>\n",
              "      <td>...</td>\n",
              "      <td>...</td>\n",
              "      <td>...</td>\n",
              "      <td>...</td>\n",
              "      <td>...</td>\n",
              "      <td>...</td>\n",
              "      <td>...</td>\n",
              "      <td>...</td>\n",
              "      <td>...</td>\n",
              "      <td>...</td>\n",
              "      <td>...</td>\n",
              "    </tr>\n",
              "    <tr>\n",
              "      <th>38742</th>\n",
              "      <td>6.446</td>\n",
              "      <td>1.000332</td>\n",
              "      <td>1.000367</td>\n",
              "      <td>1.000060</td>\n",
              "      <td>0.5</td>\n",
              "      <td>12.537</td>\n",
              "      <td>1.000000</td>\n",
              "      <td>1.000000</td>\n",
              "      <td>1.000000</td>\n",
              "      <td>0.500000</td>\n",
              "      <td>6.446</td>\n",
              "      <td>1.000000</td>\n",
              "      <td>1.000000</td>\n",
              "      <td>1.000000</td>\n",
              "      <td>0.500000</td>\n",
              "      <td>12.537</td>\n",
              "      <td>0.999974</td>\n",
              "      <td>0.999966</td>\n",
              "      <td>0.999997</td>\n",
              "      <td>0.500000</td>\n",
              "      <td>16.445</td>\n",
              "      <td>1.000000</td>\n",
              "      <td>1.000000</td>\n",
              "      <td>1.0</td>\n",
              "      <td>0.500000</td>\n",
              "      <td>12.537</td>\n",
              "      <td>0.999948</td>\n",
              "      <td>0.999942</td>\n",
              "      <td>1.000000</td>\n",
              "      <td>0.500000</td>\n",
              "      <td>326.444</td>\n",
              "      <td>1.000000</td>\n",
              "      <td>1.000000</td>\n",
              "      <td>1.000000</td>\n",
              "      <td>0.500000</td>\n",
              "      <td>12.537</td>\n",
              "      <td>0.999992</td>\n",
              "      <td>0.999996</td>\n",
              "      <td>1.0</td>\n",
              "      <td>0.500000</td>\n",
              "      <td>...</td>\n",
              "      <td>0.999750</td>\n",
              "      <td>0.999810</td>\n",
              "      <td>0.000000</td>\n",
              "      <td>15.618</td>\n",
              "      <td>1.000000</td>\n",
              "      <td>1.000000</td>\n",
              "      <td>1.000000</td>\n",
              "      <td>0.000000</td>\n",
              "      <td>0.000</td>\n",
              "      <td>0.999968</td>\n",
              "      <td>0.999947</td>\n",
              "      <td>1.000000</td>\n",
              "      <td>0.000000</td>\n",
              "      <td>26.117</td>\n",
              "      <td>1.000000</td>\n",
              "      <td>1.000000</td>\n",
              "      <td>1.0</td>\n",
              "      <td>0.000000</td>\n",
              "      <td>0.000</td>\n",
              "      <td>0.999952</td>\n",
              "      <td>0.999943</td>\n",
              "      <td>0.999998</td>\n",
              "      <td>0.000000</td>\n",
              "      <td>36.116</td>\n",
              "      <td>0.999984</td>\n",
              "      <td>0.999989</td>\n",
              "      <td>1.0</td>\n",
              "      <td>0.000000</td>\n",
              "      <td>3.000</td>\n",
              "      <td>0.999987</td>\n",
              "      <td>0.999974</td>\n",
              "      <td>1.0</td>\n",
              "      <td>0.000000</td>\n",
              "      <td>45.331</td>\n",
              "      <td>1.000000</td>\n",
              "      <td>1.000000</td>\n",
              "      <td>1.0</td>\n",
              "      <td>0.000000</td>\n",
              "      <td>3.000</td>\n",
              "      <td>0.000000</td>\n",
              "    </tr>\n",
              "    <tr>\n",
              "      <th>38743</th>\n",
              "      <td>0.499</td>\n",
              "      <td>1.000000</td>\n",
              "      <td>1.000000</td>\n",
              "      <td>1.000000</td>\n",
              "      <td>0.0</td>\n",
              "      <td>0.000</td>\n",
              "      <td>1.000000</td>\n",
              "      <td>1.000000</td>\n",
              "      <td>1.000000</td>\n",
              "      <td>0.000000</td>\n",
              "      <td>10.498</td>\n",
              "      <td>1.000000</td>\n",
              "      <td>1.000000</td>\n",
              "      <td>1.000000</td>\n",
              "      <td>0.000000</td>\n",
              "      <td>0.000</td>\n",
              "      <td>0.999975</td>\n",
              "      <td>0.999968</td>\n",
              "      <td>0.999981</td>\n",
              "      <td>0.000000</td>\n",
              "      <td>18.263</td>\n",
              "      <td>1.000000</td>\n",
              "      <td>1.000000</td>\n",
              "      <td>1.0</td>\n",
              "      <td>0.000000</td>\n",
              "      <td>0.000</td>\n",
              "      <td>1.000000</td>\n",
              "      <td>1.000000</td>\n",
              "      <td>1.000000</td>\n",
              "      <td>0.000000</td>\n",
              "      <td>18.263</td>\n",
              "      <td>0.999878</td>\n",
              "      <td>0.999895</td>\n",
              "      <td>0.999968</td>\n",
              "      <td>0.000000</td>\n",
              "      <td>9.999</td>\n",
              "      <td>1.000000</td>\n",
              "      <td>1.000000</td>\n",
              "      <td>1.0</td>\n",
              "      <td>0.000000</td>\n",
              "      <td>...</td>\n",
              "      <td>1.000000</td>\n",
              "      <td>1.000000</td>\n",
              "      <td>0.000000</td>\n",
              "      <td>19.998</td>\n",
              "      <td>1.000000</td>\n",
              "      <td>1.000000</td>\n",
              "      <td>1.000000</td>\n",
              "      <td>0.000000</td>\n",
              "      <td>5.000</td>\n",
              "      <td>0.999959</td>\n",
              "      <td>0.999967</td>\n",
              "      <td>0.999994</td>\n",
              "      <td>0.000000</td>\n",
              "      <td>52.763</td>\n",
              "      <td>1.000000</td>\n",
              "      <td>1.000000</td>\n",
              "      <td>1.0</td>\n",
              "      <td>0.000000</td>\n",
              "      <td>5.000</td>\n",
              "      <td>0.999968</td>\n",
              "      <td>0.999998</td>\n",
              "      <td>0.999999</td>\n",
              "      <td>0.000000</td>\n",
              "      <td>53.177</td>\n",
              "      <td>0.999974</td>\n",
              "      <td>0.999957</td>\n",
              "      <td>1.0</td>\n",
              "      <td>0.000000</td>\n",
              "      <td>14.999</td>\n",
              "      <td>0.999979</td>\n",
              "      <td>0.999932</td>\n",
              "      <td>1.0</td>\n",
              "      <td>0.000000</td>\n",
              "      <td>78.177</td>\n",
              "      <td>0.999982</td>\n",
              "      <td>0.999996</td>\n",
              "      <td>1.0</td>\n",
              "      <td>0.000000</td>\n",
              "      <td>16.877</td>\n",
              "      <td>0.000000</td>\n",
              "    </tr>\n",
              "    <tr>\n",
              "      <th>38744</th>\n",
              "      <td>9.999</td>\n",
              "      <td>1.000000</td>\n",
              "      <td>1.000000</td>\n",
              "      <td>1.000000</td>\n",
              "      <td>0.0</td>\n",
              "      <td>0.000</td>\n",
              "      <td>1.000000</td>\n",
              "      <td>1.000000</td>\n",
              "      <td>1.000000</td>\n",
              "      <td>0.000000</td>\n",
              "      <td>19.998</td>\n",
              "      <td>1.000000</td>\n",
              "      <td>1.000000</td>\n",
              "      <td>1.000000</td>\n",
              "      <td>0.000000</td>\n",
              "      <td>0.000</td>\n",
              "      <td>1.000000</td>\n",
              "      <td>1.000000</td>\n",
              "      <td>1.000000</td>\n",
              "      <td>0.000000</td>\n",
              "      <td>29.997</td>\n",
              "      <td>1.000000</td>\n",
              "      <td>1.000000</td>\n",
              "      <td>1.0</td>\n",
              "      <td>0.000000</td>\n",
              "      <td>0.038</td>\n",
              "      <td>1.000017</td>\n",
              "      <td>1.000014</td>\n",
              "      <td>1.000001</td>\n",
              "      <td>0.000000</td>\n",
              "      <td>71.013</td>\n",
              "      <td>1.000000</td>\n",
              "      <td>1.000000</td>\n",
              "      <td>1.000000</td>\n",
              "      <td>0.200000</td>\n",
              "      <td>0.038</td>\n",
              "      <td>0.999979</td>\n",
              "      <td>0.999967</td>\n",
              "      <td>1.0</td>\n",
              "      <td>0.000000</td>\n",
              "      <td>...</td>\n",
              "      <td>1.000000</td>\n",
              "      <td>1.000000</td>\n",
              "      <td>0.000000</td>\n",
              "      <td>19.177</td>\n",
              "      <td>1.000000</td>\n",
              "      <td>1.000000</td>\n",
              "      <td>1.000000</td>\n",
              "      <td>0.000000</td>\n",
              "      <td>0.000</td>\n",
              "      <td>1.000000</td>\n",
              "      <td>1.000000</td>\n",
              "      <td>1.000000</td>\n",
              "      <td>0.000000</td>\n",
              "      <td>29.176</td>\n",
              "      <td>1.000000</td>\n",
              "      <td>1.000000</td>\n",
              "      <td>1.0</td>\n",
              "      <td>0.000000</td>\n",
              "      <td>0.000</td>\n",
              "      <td>1.000000</td>\n",
              "      <td>0.999987</td>\n",
              "      <td>1.000000</td>\n",
              "      <td>0.000000</td>\n",
              "      <td>39.242</td>\n",
              "      <td>1.000109</td>\n",
              "      <td>1.000182</td>\n",
              "      <td>1.0</td>\n",
              "      <td>0.200000</td>\n",
              "      <td>604.301</td>\n",
              "      <td>0.999958</td>\n",
              "      <td>0.999981</td>\n",
              "      <td>1.0</td>\n",
              "      <td>0.442857</td>\n",
              "      <td>65.138</td>\n",
              "      <td>1.000000</td>\n",
              "      <td>1.000000</td>\n",
              "      <td>1.0</td>\n",
              "      <td>0.119643</td>\n",
              "      <td>604.301</td>\n",
              "      <td>0.442857</td>\n",
              "    </tr>\n",
              "    <tr>\n",
              "      <th>38745</th>\n",
              "      <td>58.332</td>\n",
              "      <td>1.000150</td>\n",
              "      <td>1.000011</td>\n",
              "      <td>1.000051</td>\n",
              "      <td>1.0</td>\n",
              "      <td>0.861</td>\n",
              "      <td>1.000411</td>\n",
              "      <td>1.000088</td>\n",
              "      <td>1.000013</td>\n",
              "      <td>0.000000</td>\n",
              "      <td>63.914</td>\n",
              "      <td>1.000182</td>\n",
              "      <td>1.000161</td>\n",
              "      <td>1.000000</td>\n",
              "      <td>1.000000</td>\n",
              "      <td>10.861</td>\n",
              "      <td>1.000088</td>\n",
              "      <td>1.000128</td>\n",
              "      <td>1.000000</td>\n",
              "      <td>0.000000</td>\n",
              "      <td>73.914</td>\n",
              "      <td>1.000000</td>\n",
              "      <td>1.000000</td>\n",
              "      <td>1.0</td>\n",
              "      <td>1.000000</td>\n",
              "      <td>10.861</td>\n",
              "      <td>1.000155</td>\n",
              "      <td>1.000643</td>\n",
              "      <td>1.000000</td>\n",
              "      <td>0.000000</td>\n",
              "      <td>164.820</td>\n",
              "      <td>1.000065</td>\n",
              "      <td>1.000092</td>\n",
              "      <td>1.000000</td>\n",
              "      <td>1.000000</td>\n",
              "      <td>30.649</td>\n",
              "      <td>1.000075</td>\n",
              "      <td>1.000006</td>\n",
              "      <td>1.0</td>\n",
              "      <td>0.000000</td>\n",
              "      <td>...</td>\n",
              "      <td>1.000000</td>\n",
              "      <td>1.000000</td>\n",
              "      <td>0.000000</td>\n",
              "      <td>1.381</td>\n",
              "      <td>1.000241</td>\n",
              "      <td>1.000331</td>\n",
              "      <td>1.000241</td>\n",
              "      <td>0.000000</td>\n",
              "      <td>3.005</td>\n",
              "      <td>1.000381</td>\n",
              "      <td>1.000459</td>\n",
              "      <td>1.000083</td>\n",
              "      <td>1.000000</td>\n",
              "      <td>87.583</td>\n",
              "      <td>1.000000</td>\n",
              "      <td>1.000000</td>\n",
              "      <td>1.0</td>\n",
              "      <td>0.000000</td>\n",
              "      <td>3.005</td>\n",
              "      <td>1.000067</td>\n",
              "      <td>1.000002</td>\n",
              "      <td>1.000004</td>\n",
              "      <td>1.000000</td>\n",
              "      <td>88.059</td>\n",
              "      <td>1.000000</td>\n",
              "      <td>1.000000</td>\n",
              "      <td>1.0</td>\n",
              "      <td>0.000000</td>\n",
              "      <td>3.005</td>\n",
              "      <td>1.000000</td>\n",
              "      <td>1.000000</td>\n",
              "      <td>1.0</td>\n",
              "      <td>1.000000</td>\n",
              "      <td>88.059</td>\n",
              "      <td>1.000000</td>\n",
              "      <td>1.000000</td>\n",
              "      <td>1.0</td>\n",
              "      <td>0.000000</td>\n",
              "      <td>3.005</td>\n",
              "      <td>1.000000</td>\n",
              "    </tr>\n",
              "    <tr>\n",
              "      <th>38746</th>\n",
              "      <td>72.433</td>\n",
              "      <td>1.000167</td>\n",
              "      <td>1.000048</td>\n",
              "      <td>1.000006</td>\n",
              "      <td>1.0</td>\n",
              "      <td>9.809</td>\n",
              "      <td>1.000021</td>\n",
              "      <td>1.000013</td>\n",
              "      <td>1.000000</td>\n",
              "      <td>0.000000</td>\n",
              "      <td>75.433</td>\n",
              "      <td>0.999889</td>\n",
              "      <td>0.999891</td>\n",
              "      <td>0.999999</td>\n",
              "      <td>1.000000</td>\n",
              "      <td>271.393</td>\n",
              "      <td>0.999893</td>\n",
              "      <td>1.000007</td>\n",
              "      <td>1.000000</td>\n",
              "      <td>-0.280000</td>\n",
              "      <td>720.208</td>\n",
              "      <td>0.999999</td>\n",
              "      <td>1.000000</td>\n",
              "      <td>1.0</td>\n",
              "      <td>0.880000</td>\n",
              "      <td>271.989</td>\n",
              "      <td>0.999951</td>\n",
              "      <td>0.999964</td>\n",
              "      <td>1.000000</td>\n",
              "      <td>-0.280000</td>\n",
              "      <td>1014.379</td>\n",
              "      <td>1.000000</td>\n",
              "      <td>1.000000</td>\n",
              "      <td>1.000000</td>\n",
              "      <td>0.680000</td>\n",
              "      <td>271.989</td>\n",
              "      <td>1.000000</td>\n",
              "      <td>1.000000</td>\n",
              "      <td>1.0</td>\n",
              "      <td>-0.280000</td>\n",
              "      <td>...</td>\n",
              "      <td>1.000068</td>\n",
              "      <td>1.000002</td>\n",
              "      <td>0.000000</td>\n",
              "      <td>18.025</td>\n",
              "      <td>1.000047</td>\n",
              "      <td>1.000012</td>\n",
              "      <td>1.000001</td>\n",
              "      <td>1.000000</td>\n",
              "      <td>1.126</td>\n",
              "      <td>1.000185</td>\n",
              "      <td>1.000315</td>\n",
              "      <td>1.000000</td>\n",
              "      <td>0.000000</td>\n",
              "      <td>222.024</td>\n",
              "      <td>0.999948</td>\n",
              "      <td>0.999961</td>\n",
              "      <td>1.0</td>\n",
              "      <td>1.000000</td>\n",
              "      <td>37.443</td>\n",
              "      <td>0.999730</td>\n",
              "      <td>0.999907</td>\n",
              "      <td>1.000000</td>\n",
              "      <td>-0.052632</td>\n",
              "      <td>250.694</td>\n",
              "      <td>0.999995</td>\n",
              "      <td>0.999981</td>\n",
              "      <td>1.0</td>\n",
              "      <td>0.419979</td>\n",
              "      <td>53.432</td>\n",
              "      <td>0.999999</td>\n",
              "      <td>0.999991</td>\n",
              "      <td>1.0</td>\n",
              "      <td>-0.052632</td>\n",
              "      <td>258.746</td>\n",
              "      <td>0.999999</td>\n",
              "      <td>0.999999</td>\n",
              "      <td>1.0</td>\n",
              "      <td>0.419979</td>\n",
              "      <td>54.123</td>\n",
              "      <td>-0.052632</td>\n",
              "    </tr>\n",
              "  </tbody>\n",
              "</table>\n",
              "<p>38747 rows × 94 columns</p>\n",
              "</div>\n",
              "      <button class=\"colab-df-convert\" onclick=\"convertToInteractive('df-8e830928-f816-454c-875c-745e8b306e94')\"\n",
              "              title=\"Convert this dataframe to an interactive table.\"\n",
              "              style=\"display:none;\">\n",
              "        \n",
              "  <svg xmlns=\"http://www.w3.org/2000/svg\" height=\"24px\"viewBox=\"0 0 24 24\"\n",
              "       width=\"24px\">\n",
              "    <path d=\"M0 0h24v24H0V0z\" fill=\"none\"/>\n",
              "    <path d=\"M18.56 5.44l.94 2.06.94-2.06 2.06-.94-2.06-.94-.94-2.06-.94 2.06-2.06.94zm-11 1L8.5 8.5l.94-2.06 2.06-.94-2.06-.94L8.5 2.5l-.94 2.06-2.06.94zm10 10l.94 2.06.94-2.06 2.06-.94-2.06-.94-.94-2.06-.94 2.06-2.06.94z\"/><path d=\"M17.41 7.96l-1.37-1.37c-.4-.4-.92-.59-1.43-.59-.52 0-1.04.2-1.43.59L10.3 9.45l-7.72 7.72c-.78.78-.78 2.05 0 2.83L4 21.41c.39.39.9.59 1.41.59.51 0 1.02-.2 1.41-.59l7.78-7.78 2.81-2.81c.8-.78.8-2.07 0-2.86zM5.41 20L4 18.59l7.72-7.72 1.47 1.35L5.41 20z\"/>\n",
              "  </svg>\n",
              "      </button>\n",
              "      \n",
              "  <style>\n",
              "    .colab-df-container {\n",
              "      display:flex;\n",
              "      flex-wrap:wrap;\n",
              "      gap: 12px;\n",
              "    }\n",
              "\n",
              "    .colab-df-convert {\n",
              "      background-color: #E8F0FE;\n",
              "      border: none;\n",
              "      border-radius: 50%;\n",
              "      cursor: pointer;\n",
              "      display: none;\n",
              "      fill: #1967D2;\n",
              "      height: 32px;\n",
              "      padding: 0 0 0 0;\n",
              "      width: 32px;\n",
              "    }\n",
              "\n",
              "    .colab-df-convert:hover {\n",
              "      background-color: #E2EBFA;\n",
              "      box-shadow: 0px 1px 2px rgba(60, 64, 67, 0.3), 0px 1px 3px 1px rgba(60, 64, 67, 0.15);\n",
              "      fill: #174EA6;\n",
              "    }\n",
              "\n",
              "    [theme=dark] .colab-df-convert {\n",
              "      background-color: #3B4455;\n",
              "      fill: #D2E3FC;\n",
              "    }\n",
              "\n",
              "    [theme=dark] .colab-df-convert:hover {\n",
              "      background-color: #434B5C;\n",
              "      box-shadow: 0px 1px 3px 1px rgba(0, 0, 0, 0.15);\n",
              "      filter: drop-shadow(0px 1px 2px rgba(0, 0, 0, 0.3));\n",
              "      fill: #FFFFFF;\n",
              "    }\n",
              "  </style>\n",
              "\n",
              "      <script>\n",
              "        const buttonEl =\n",
              "          document.querySelector('#df-8e830928-f816-454c-875c-745e8b306e94 button.colab-df-convert');\n",
              "        buttonEl.style.display =\n",
              "          google.colab.kernel.accessAllowed ? 'block' : 'none';\n",
              "\n",
              "        async function convertToInteractive(key) {\n",
              "          const element = document.querySelector('#df-8e830928-f816-454c-875c-745e8b306e94');\n",
              "          const dataTable =\n",
              "            await google.colab.kernel.invokeFunction('convertToInteractive',\n",
              "                                                     [key], {});\n",
              "          if (!dataTable) return;\n",
              "\n",
              "          const docLinkHtml = 'Like what you see? Visit the ' +\n",
              "            '<a target=\"_blank\" href=https://colab.research.google.com/notebooks/data_table.ipynb>data table notebook</a>'\n",
              "            + ' to learn more about interactive tables.';\n",
              "          element.innerHTML = '';\n",
              "          dataTable['output_type'] = 'display_data';\n",
              "          await google.colab.output.renderOutput(dataTable, element);\n",
              "          const docLink = document.createElement('div');\n",
              "          docLink.innerHTML = docLinkHtml;\n",
              "          element.appendChild(docLink);\n",
              "        }\n",
              "      </script>\n",
              "    </div>\n",
              "  </div>\n",
              "  "
            ],
            "text/plain": [
              "       trade_volume-BUY-6-sec  ...  stochastic_oscillator-SELL-60-sec\n",
              "0                       0.100  ...                           0.000000\n",
              "1                       0.200  ...                           0.600000\n",
              "2                       0.200  ...                           0.000000\n",
              "3                       2.513  ...                          -0.237069\n",
              "4                       5.152  ...                          -0.111310\n",
              "...                       ...  ...                                ...\n",
              "38742                   6.446  ...                           0.000000\n",
              "38743                   0.499  ...                           0.000000\n",
              "38744                   9.999  ...                           0.442857\n",
              "38745                  58.332  ...                           1.000000\n",
              "38746                  72.433  ...                          -0.052632\n",
              "\n",
              "[38747 rows x 94 columns]"
            ]
          },
          "metadata": {},
          "execution_count": 10
        }
      ],
      "source": [
        "X = df[x_columns]\n",
        "secs = list(sorted(list(set(map(lambda x : int(''.join(x)), [[s for s in column if s.isdigit()] for column in x_columns])))))\n",
        "delta_sec = secs[1] - secs[0]\n",
        "max_sec = secs[-1]\n",
        "min_sec = secs[0]\n",
        "\n",
        "for column in x_columns:\n",
        "    name, side, sec, _ = column.split('-')\n",
        "    if not 'price' in name and int(sec) != min_sec:\n",
        "        X[f'{name}-{side}-{sec}-sec'] -= X[f'{name}-{side}-{str(int(sec) - delta_sec)}-sec']\n",
        "    elif 'price' in name:\n",
        "        if int(sec) != max_sec:\n",
        "            X[f'{name}-{side}-{sec}-sec'] /= X[f'{name}-{side}-{str(int(sec) + delta_sec)}-sec']\n",
        "        else:\n",
        "            X = X.drop(f'{name}-{side}-{sec}-sec', axis=1)\n",
        "\n",
        "X"
      ]
    },
    {
      "cell_type": "code",
      "execution_count": 50,
      "id": "70de5225-1eda-479f-9199-b176f49d7d9c",
      "metadata": {
        "colab": {
          "base_uri": "https://localhost:8080/"
        },
        "id": "70de5225-1eda-479f-9199-b176f49d7d9c",
        "outputId": "09c1e196-4aec-43f2-e011-420aea64b61d"
      },
      "outputs": [
        {
          "output_type": "stream",
          "name": "stdout",
          "text": [
            "       target\n",
            "0           0\n",
            "1           0\n",
            "2           1\n",
            "3           0\n",
            "4           0\n",
            "...       ...\n",
            "38742       0\n",
            "38743       0\n",
            "38744       0\n",
            "38745       0\n",
            "38746       0\n",
            "\n",
            "[38747 rows x 1 columns]\n",
            "target\n",
            " 0        37612\n",
            "-1          599\n",
            " 1          536\n",
            "dtype: int64\n"
          ]
        }
      ],
      "source": [
        "commision = 0.0005\n",
        "punch = commision * 5\n",
        "\n",
        "y = pd.DataFrame(\n",
        "    df[y_columns].apply(\n",
        "        lambda row : 1 if max(list(row.to_numpy()), key=abs) > punch else -1 if max(list(row.to_numpy()), key=abs) < -punch else 0,\n",
        "        axis = 1\n",
        "    )\n",
        ")\n",
        "y = y.rename({0:'target'}, axis='columns')\n",
        "print(y)\n",
        "print(y.value_counts())"
      ]
    },
    {
      "cell_type": "code",
      "execution_count": 51,
      "id": "f0753b54-1efd-4f34-ba92-2547bb0e854a",
      "metadata": {
        "id": "f0753b54-1efd-4f34-ba92-2547bb0e854a"
      },
      "outputs": [],
      "source": [
        "X_train, X_test, y_train, y_test = train_test_split(X, y, train_size=0.8, shuffle = True, random_state=12)\n",
        "X_train, X_validation, y_train, y_validation = train_test_split(X_train, y_train, train_size=0.75, shuffle = True, random_state=6)"
      ]
    },
    {
      "cell_type": "code",
      "execution_count": null,
      "id": "tRIUmqrCuwLC",
      "metadata": {
        "colab": {
          "base_uri": "https://localhost:8080/"
        },
        "id": "tRIUmqrCuwLC",
        "outputId": "5699d420-c951-456f-dc06-029ed7f752b4"
      },
      "outputs": [
        {
          "name": "stdout",
          "output_type": "stream",
          "text": [
            "  0%|          | 0/3 [00:37<?, ?trial/s, best loss=?]\n"
          ]
        },
        {
          "ename": "KeyboardInterrupt",
          "evalue": "",
          "output_type": "error",
          "traceback": [
            "\u001b[0;31m---------------------------------------------------------------------------\u001b[0m",
            "\u001b[0;31mKeyboardInterrupt\u001b[0m                         Traceback (most recent call last)",
            "\u001b[0;32m<ipython-input-8-a693655854af>\u001b[0m in \u001b[0;36m<module>\u001b[0;34m\u001b[0m\n\u001b[1;32m     31\u001b[0m \u001b[0mtrials\u001b[0m \u001b[0;34m=\u001b[0m \u001b[0mhyperopt\u001b[0m\u001b[0;34m.\u001b[0m\u001b[0mTrials\u001b[0m\u001b[0;34m(\u001b[0m\u001b[0;34m)\u001b[0m\u001b[0;34m\u001b[0m\u001b[0;34m\u001b[0m\u001b[0m\n\u001b[1;32m     32\u001b[0m \u001b[0;34m\u001b[0m\u001b[0m\n\u001b[0;32m---> 33\u001b[0;31m best = hyperopt.fmin(\n\u001b[0m\u001b[1;32m     34\u001b[0m     \u001b[0mhyperopt_objective\u001b[0m\u001b[0;34m,\u001b[0m\u001b[0;34m\u001b[0m\u001b[0;34m\u001b[0m\u001b[0m\n\u001b[1;32m     35\u001b[0m     \u001b[0mspace\u001b[0m\u001b[0;34m=\u001b[0m\u001b[0mparams_space\u001b[0m\u001b[0;34m,\u001b[0m\u001b[0;34m\u001b[0m\u001b[0;34m\u001b[0m\u001b[0m\n",
            "\u001b[0;32m~/.local/lib/python3.8/site-packages/hyperopt/fmin.py\u001b[0m in \u001b[0;36mfmin\u001b[0;34m(fn, space, algo, max_evals, timeout, loss_threshold, trials, rstate, allow_trials_fmin, pass_expr_memo_ctrl, catch_eval_exceptions, verbose, return_argmin, points_to_evaluate, max_queue_len, show_progressbar, early_stop_fn, trials_save_file)\u001b[0m\n\u001b[1;32m    505\u001b[0m \u001b[0;34m\u001b[0m\u001b[0m\n\u001b[1;32m    506\u001b[0m     \u001b[0;32mif\u001b[0m \u001b[0mallow_trials_fmin\u001b[0m \u001b[0;32mand\u001b[0m \u001b[0mhasattr\u001b[0m\u001b[0;34m(\u001b[0m\u001b[0mtrials\u001b[0m\u001b[0;34m,\u001b[0m \u001b[0;34m\"fmin\"\u001b[0m\u001b[0;34m)\u001b[0m\u001b[0;34m:\u001b[0m\u001b[0;34m\u001b[0m\u001b[0;34m\u001b[0m\u001b[0m\n\u001b[0;32m--> 507\u001b[0;31m         return trials.fmin(\n\u001b[0m\u001b[1;32m    508\u001b[0m             \u001b[0mfn\u001b[0m\u001b[0;34m,\u001b[0m\u001b[0;34m\u001b[0m\u001b[0;34m\u001b[0m\u001b[0m\n\u001b[1;32m    509\u001b[0m             \u001b[0mspace\u001b[0m\u001b[0;34m,\u001b[0m\u001b[0;34m\u001b[0m\u001b[0;34m\u001b[0m\u001b[0m\n",
            "\u001b[0;32m~/.local/lib/python3.8/site-packages/hyperopt/base.py\u001b[0m in \u001b[0;36mfmin\u001b[0;34m(self, fn, space, algo, max_evals, timeout, loss_threshold, max_queue_len, rstate, verbose, pass_expr_memo_ctrl, catch_eval_exceptions, return_argmin, show_progressbar, early_stop_fn, trials_save_file)\u001b[0m\n\u001b[1;32m    680\u001b[0m         \u001b[0;32mfrom\u001b[0m \u001b[0;34m.\u001b[0m\u001b[0mfmin\u001b[0m \u001b[0;32mimport\u001b[0m \u001b[0mfmin\u001b[0m\u001b[0;34m\u001b[0m\u001b[0;34m\u001b[0m\u001b[0m\n\u001b[1;32m    681\u001b[0m \u001b[0;34m\u001b[0m\u001b[0m\n\u001b[0;32m--> 682\u001b[0;31m         return fmin(\n\u001b[0m\u001b[1;32m    683\u001b[0m             \u001b[0mfn\u001b[0m\u001b[0;34m,\u001b[0m\u001b[0;34m\u001b[0m\u001b[0;34m\u001b[0m\u001b[0m\n\u001b[1;32m    684\u001b[0m             \u001b[0mspace\u001b[0m\u001b[0;34m,\u001b[0m\u001b[0;34m\u001b[0m\u001b[0;34m\u001b[0m\u001b[0m\n",
            "\u001b[0;32m~/.local/lib/python3.8/site-packages/hyperopt/fmin.py\u001b[0m in \u001b[0;36mfmin\u001b[0;34m(fn, space, algo, max_evals, timeout, loss_threshold, trials, rstate, allow_trials_fmin, pass_expr_memo_ctrl, catch_eval_exceptions, verbose, return_argmin, points_to_evaluate, max_queue_len, show_progressbar, early_stop_fn, trials_save_file)\u001b[0m\n\u001b[1;32m    551\u001b[0m \u001b[0;34m\u001b[0m\u001b[0m\n\u001b[1;32m    552\u001b[0m     \u001b[0;31m# next line is where the fmin is actually executed\u001b[0m\u001b[0;34m\u001b[0m\u001b[0;34m\u001b[0m\u001b[0;34m\u001b[0m\u001b[0m\n\u001b[0;32m--> 553\u001b[0;31m     \u001b[0mrval\u001b[0m\u001b[0;34m.\u001b[0m\u001b[0mexhaust\u001b[0m\u001b[0;34m(\u001b[0m\u001b[0;34m)\u001b[0m\u001b[0;34m\u001b[0m\u001b[0;34m\u001b[0m\u001b[0m\n\u001b[0m\u001b[1;32m    554\u001b[0m \u001b[0;34m\u001b[0m\u001b[0m\n\u001b[1;32m    555\u001b[0m     \u001b[0;32mif\u001b[0m \u001b[0mreturn_argmin\u001b[0m\u001b[0;34m:\u001b[0m\u001b[0;34m\u001b[0m\u001b[0;34m\u001b[0m\u001b[0m\n",
            "\u001b[0;32m~/.local/lib/python3.8/site-packages/hyperopt/fmin.py\u001b[0m in \u001b[0;36mexhaust\u001b[0;34m(self)\u001b[0m\n\u001b[1;32m    354\u001b[0m     \u001b[0;32mdef\u001b[0m \u001b[0mexhaust\u001b[0m\u001b[0;34m(\u001b[0m\u001b[0mself\u001b[0m\u001b[0;34m)\u001b[0m\u001b[0;34m:\u001b[0m\u001b[0;34m\u001b[0m\u001b[0;34m\u001b[0m\u001b[0m\n\u001b[1;32m    355\u001b[0m         \u001b[0mn_done\u001b[0m \u001b[0;34m=\u001b[0m \u001b[0mlen\u001b[0m\u001b[0;34m(\u001b[0m\u001b[0mself\u001b[0m\u001b[0;34m.\u001b[0m\u001b[0mtrials\u001b[0m\u001b[0;34m)\u001b[0m\u001b[0;34m\u001b[0m\u001b[0;34m\u001b[0m\u001b[0m\n\u001b[0;32m--> 356\u001b[0;31m         \u001b[0mself\u001b[0m\u001b[0;34m.\u001b[0m\u001b[0mrun\u001b[0m\u001b[0;34m(\u001b[0m\u001b[0mself\u001b[0m\u001b[0;34m.\u001b[0m\u001b[0mmax_evals\u001b[0m \u001b[0;34m-\u001b[0m \u001b[0mn_done\u001b[0m\u001b[0;34m,\u001b[0m \u001b[0mblock_until_done\u001b[0m\u001b[0;34m=\u001b[0m\u001b[0mself\u001b[0m\u001b[0;34m.\u001b[0m\u001b[0masynchronous\u001b[0m\u001b[0;34m)\u001b[0m\u001b[0;34m\u001b[0m\u001b[0;34m\u001b[0m\u001b[0m\n\u001b[0m\u001b[1;32m    357\u001b[0m         \u001b[0mself\u001b[0m\u001b[0;34m.\u001b[0m\u001b[0mtrials\u001b[0m\u001b[0;34m.\u001b[0m\u001b[0mrefresh\u001b[0m\u001b[0;34m(\u001b[0m\u001b[0;34m)\u001b[0m\u001b[0;34m\u001b[0m\u001b[0;34m\u001b[0m\u001b[0m\n\u001b[1;32m    358\u001b[0m         \u001b[0;32mreturn\u001b[0m \u001b[0mself\u001b[0m\u001b[0;34m\u001b[0m\u001b[0;34m\u001b[0m\u001b[0m\n",
            "\u001b[0;32m~/.local/lib/python3.8/site-packages/hyperopt/fmin.py\u001b[0m in \u001b[0;36mrun\u001b[0;34m(self, N, block_until_done)\u001b[0m\n\u001b[1;32m    290\u001b[0m                 \u001b[0;32melse\u001b[0m\u001b[0;34m:\u001b[0m\u001b[0;34m\u001b[0m\u001b[0;34m\u001b[0m\u001b[0m\n\u001b[1;32m    291\u001b[0m                     \u001b[0;31m# -- loop over trials and do the jobs directly\u001b[0m\u001b[0;34m\u001b[0m\u001b[0;34m\u001b[0m\u001b[0;34m\u001b[0m\u001b[0m\n\u001b[0;32m--> 292\u001b[0;31m                     \u001b[0mself\u001b[0m\u001b[0;34m.\u001b[0m\u001b[0mserial_evaluate\u001b[0m\u001b[0;34m(\u001b[0m\u001b[0;34m)\u001b[0m\u001b[0;34m\u001b[0m\u001b[0;34m\u001b[0m\u001b[0m\n\u001b[0m\u001b[1;32m    293\u001b[0m \u001b[0;34m\u001b[0m\u001b[0m\n\u001b[1;32m    294\u001b[0m                 \u001b[0mself\u001b[0m\u001b[0;34m.\u001b[0m\u001b[0mtrials\u001b[0m\u001b[0;34m.\u001b[0m\u001b[0mrefresh\u001b[0m\u001b[0;34m(\u001b[0m\u001b[0;34m)\u001b[0m\u001b[0;34m\u001b[0m\u001b[0;34m\u001b[0m\u001b[0m\n",
            "\u001b[0;32m~/.local/lib/python3.8/site-packages/hyperopt/fmin.py\u001b[0m in \u001b[0;36mserial_evaluate\u001b[0;34m(self, N)\u001b[0m\n\u001b[1;32m    168\u001b[0m                 \u001b[0mctrl\u001b[0m \u001b[0;34m=\u001b[0m \u001b[0mbase\u001b[0m\u001b[0;34m.\u001b[0m\u001b[0mCtrl\u001b[0m\u001b[0;34m(\u001b[0m\u001b[0mself\u001b[0m\u001b[0;34m.\u001b[0m\u001b[0mtrials\u001b[0m\u001b[0;34m,\u001b[0m \u001b[0mcurrent_trial\u001b[0m\u001b[0;34m=\u001b[0m\u001b[0mtrial\u001b[0m\u001b[0;34m)\u001b[0m\u001b[0;34m\u001b[0m\u001b[0;34m\u001b[0m\u001b[0m\n\u001b[1;32m    169\u001b[0m                 \u001b[0;32mtry\u001b[0m\u001b[0;34m:\u001b[0m\u001b[0;34m\u001b[0m\u001b[0;34m\u001b[0m\u001b[0m\n\u001b[0;32m--> 170\u001b[0;31m                     \u001b[0mresult\u001b[0m \u001b[0;34m=\u001b[0m \u001b[0mself\u001b[0m\u001b[0;34m.\u001b[0m\u001b[0mdomain\u001b[0m\u001b[0;34m.\u001b[0m\u001b[0mevaluate\u001b[0m\u001b[0;34m(\u001b[0m\u001b[0mspec\u001b[0m\u001b[0;34m,\u001b[0m \u001b[0mctrl\u001b[0m\u001b[0;34m)\u001b[0m\u001b[0;34m\u001b[0m\u001b[0;34m\u001b[0m\u001b[0m\n\u001b[0m\u001b[1;32m    171\u001b[0m                 \u001b[0;32mexcept\u001b[0m \u001b[0mException\u001b[0m \u001b[0;32mas\u001b[0m \u001b[0me\u001b[0m\u001b[0;34m:\u001b[0m\u001b[0;34m\u001b[0m\u001b[0;34m\u001b[0m\u001b[0m\n\u001b[1;32m    172\u001b[0m                     \u001b[0mlogger\u001b[0m\u001b[0;34m.\u001b[0m\u001b[0merror\u001b[0m\u001b[0;34m(\u001b[0m\u001b[0;34m\"job exception: %s\"\u001b[0m \u001b[0;34m%\u001b[0m \u001b[0mstr\u001b[0m\u001b[0;34m(\u001b[0m\u001b[0me\u001b[0m\u001b[0;34m)\u001b[0m\u001b[0;34m)\u001b[0m\u001b[0;34m\u001b[0m\u001b[0;34m\u001b[0m\u001b[0m\n",
            "\u001b[0;32m~/.local/lib/python3.8/site-packages/hyperopt/base.py\u001b[0m in \u001b[0;36mevaluate\u001b[0;34m(self, config, ctrl, attach_attachments)\u001b[0m\n\u001b[1;32m    905\u001b[0m                 \u001b[0mprint_node_on_error\u001b[0m\u001b[0;34m=\u001b[0m\u001b[0mself\u001b[0m\u001b[0;34m.\u001b[0m\u001b[0mrec_eval_print_node_on_error\u001b[0m\u001b[0;34m,\u001b[0m\u001b[0;34m\u001b[0m\u001b[0;34m\u001b[0m\u001b[0m\n\u001b[1;32m    906\u001b[0m             )\n\u001b[0;32m--> 907\u001b[0;31m             \u001b[0mrval\u001b[0m \u001b[0;34m=\u001b[0m \u001b[0mself\u001b[0m\u001b[0;34m.\u001b[0m\u001b[0mfn\u001b[0m\u001b[0;34m(\u001b[0m\u001b[0mpyll_rval\u001b[0m\u001b[0;34m)\u001b[0m\u001b[0;34m\u001b[0m\u001b[0;34m\u001b[0m\u001b[0m\n\u001b[0m\u001b[1;32m    908\u001b[0m \u001b[0;34m\u001b[0m\u001b[0m\n\u001b[1;32m    909\u001b[0m         \u001b[0;32mif\u001b[0m \u001b[0misinstance\u001b[0m\u001b[0;34m(\u001b[0m\u001b[0mrval\u001b[0m\u001b[0;34m,\u001b[0m \u001b[0;34m(\u001b[0m\u001b[0mfloat\u001b[0m\u001b[0;34m,\u001b[0m \u001b[0mint\u001b[0m\u001b[0;34m,\u001b[0m \u001b[0mnp\u001b[0m\u001b[0;34m.\u001b[0m\u001b[0mnumber\u001b[0m\u001b[0;34m)\u001b[0m\u001b[0;34m)\u001b[0m\u001b[0;34m:\u001b[0m\u001b[0;34m\u001b[0m\u001b[0;34m\u001b[0m\u001b[0m\n",
            "\u001b[0;32m<ipython-input-8-a693655854af>\u001b[0m in \u001b[0;36mhyperopt_objective\u001b[0;34m(params)\u001b[0m\n\u001b[1;32m     10\u001b[0m     )\n\u001b[1;32m     11\u001b[0m \u001b[0;34m\u001b[0m\u001b[0m\n\u001b[0;32m---> 12\u001b[0;31m     cv_data = cv(\n\u001b[0m\u001b[1;32m     13\u001b[0m         \u001b[0mPool\u001b[0m\u001b[0;34m(\u001b[0m\u001b[0mX\u001b[0m\u001b[0;34m,\u001b[0m \u001b[0my\u001b[0m\u001b[0;34m)\u001b[0m\u001b[0;34m,\u001b[0m\u001b[0;34m\u001b[0m\u001b[0;34m\u001b[0m\u001b[0m\n\u001b[1;32m     14\u001b[0m         \u001b[0mmodel\u001b[0m\u001b[0;34m.\u001b[0m\u001b[0mget_params\u001b[0m\u001b[0;34m(\u001b[0m\u001b[0;34m)\u001b[0m\u001b[0;34m,\u001b[0m\u001b[0;34m\u001b[0m\u001b[0;34m\u001b[0m\u001b[0m\n",
            "\u001b[0;32m~/.local/lib/python3.8/site-packages/catboost/core.py\u001b[0m in \u001b[0;36mcv\u001b[0;34m(pool, params, dtrain, iterations, num_boost_round, fold_count, nfold, inverted, partition_random_seed, seed, shuffle, logging_level, stratified, as_pandas, metric_period, verbose, verbose_eval, plot, early_stopping_rounds, save_snapshot, snapshot_file, snapshot_interval, metric_update_interval, folds, type, return_models, log_cout, log_cerr)\u001b[0m\n\u001b[1;32m   6251\u001b[0m     \u001b[0;32mwith\u001b[0m \u001b[0mlog_fixup\u001b[0m\u001b[0;34m(\u001b[0m\u001b[0mlog_cout\u001b[0m\u001b[0;34m,\u001b[0m \u001b[0mlog_cerr\u001b[0m\u001b[0;34m)\u001b[0m\u001b[0;34m,\u001b[0m \u001b[0mplot_wrapper\u001b[0m\u001b[0;34m(\u001b[0m\u001b[0mplot\u001b[0m\u001b[0;34m,\u001b[0m \u001b[0mplot_dirs\u001b[0m\u001b[0;34m)\u001b[0m\u001b[0;34m:\u001b[0m\u001b[0;34m\u001b[0m\u001b[0;34m\u001b[0m\u001b[0m\n\u001b[1;32m   6252\u001b[0m         \u001b[0;32mif\u001b[0m \u001b[0;32mnot\u001b[0m \u001b[0mreturn_models\u001b[0m\u001b[0;34m:\u001b[0m\u001b[0;34m\u001b[0m\u001b[0;34m\u001b[0m\u001b[0m\n\u001b[0;32m-> 6253\u001b[0;31m             return _cv(params, pool, fold_count, inverted, partition_random_seed, shuffle, stratified,\n\u001b[0m\u001b[1;32m   6254\u001b[0m                     metric_update_interval, as_pandas, folds, type, return_models)\n\u001b[1;32m   6255\u001b[0m         \u001b[0;32melse\u001b[0m\u001b[0;34m:\u001b[0m\u001b[0;34m\u001b[0m\u001b[0;34m\u001b[0m\u001b[0m\n",
            "\u001b[0;32m_catboost.pyx\u001b[0m in \u001b[0;36m_catboost._cv\u001b[0;34m()\u001b[0m\n",
            "\u001b[0;32m_catboost.pyx\u001b[0m in \u001b[0;36m_catboost._cv\u001b[0;34m()\u001b[0m\n",
            "\u001b[0;31mKeyboardInterrupt\u001b[0m: "
          ]
        }
      ],
      "source": [
        "def hyperopt_objective(params):\n",
        "    model = CatBoostClassifier(\n",
        "        l2_leaf_reg=int(params['l2_leaf_reg']),\n",
        "        learning_rate=params['learning_rate'],\n",
        "        iterations=300,\n",
        "        eval_metric=metrics.Accuracy(),\n",
        "        random_seed=126,\n",
        "        verbose=False,\n",
        "        loss_function=metrics.MultiClass(),\n",
        "    )\n",
        "    \n",
        "    cv_data = cv(\n",
        "        Pool(X, y),\n",
        "        model.get_params(),\n",
        "        fold_count=4,\n",
        "        shuffle=True,\n",
        "        logging_level='Silent',\n",
        "        stratified=True,\n",
        "    )\n",
        "\n",
        "    best_accuracy = np.max(cv_data['test-Accuracy-mean'])\n",
        "    \n",
        "    return 1 - best_accuracy\n",
        "\n",
        "\n",
        "params_space = {\n",
        "    'l2_leaf_reg': hyperopt.hp.qloguniform('l2_leaf_reg', 0, 2, 1),\n",
        "    'learning_rate': hyperopt.hp.uniform('learning_rate', 1e-3, 5e-1),\n",
        "}\n",
        "\n",
        "trials = hyperopt.Trials()\n",
        "\n",
        "best = hyperopt.fmin(\n",
        "    hyperopt_objective,\n",
        "    space=params_space,\n",
        "    algo=hyperopt.tpe.suggest,\n",
        "    max_evals=1,\n",
        "    trials=trials,\n",
        "    rstate=RandomState(126)\n",
        ")\n",
        "\n",
        "print(best)"
      ]
    },
    {
      "cell_type": "code",
      "execution_count": 52,
      "id": "L8jyutxLiBqy",
      "metadata": {
        "colab": {
          "base_uri": "https://localhost:8080/",
          "height": 34,
          "referenced_widgets": [
            "55e9d9fd2ba14fde8b6fc61511980f7d"
          ]
        },
        "id": "L8jyutxLiBqy",
        "outputId": "013df5b9-dbda-4a9f-fcbf-3d6fa42d6741"
      },
      "outputs": [
        {
          "output_type": "display_data",
          "data": {
            "application/vnd.jupyter.widget-view+json": {
              "model_id": "55e9d9fd2ba14fde8b6fc61511980f7d",
              "version_minor": 0,
              "version_major": 2
            },
            "text/plain": [
              "MetricVisualizer(layout=Layout(align_self='stretch', height='500px'))"
            ]
          },
          "metadata": {}
        },
        {
          "output_type": "stream",
          "name": "stdout",
          "text": [
            "Model validation accuracy: 0.9712\n"
          ]
        }
      ],
      "source": [
        "params = {\n",
        "    'iterations': 500,\n",
        "    #'l2_leaf_reg': int(best['l2_leaf_reg']),\n",
        "    #'learning_rate': best['learning_rate'],\n",
        "    'l2_leaf_reg': 2,\n",
        "    'learning_rate': 0.1,\n",
        "    'custom_loss': [metrics.Accuracy()],\n",
        "    'eval_metric': metrics.Accuracy(),\n",
        "    'random_seed': 42,\n",
        "    'depth': 5,\n",
        "    'logging_level': 'Silent',\n",
        "    'loss_function': 'MultiClass',\n",
        "}\n",
        "train_pool = Pool(X_train, y_train)\n",
        "validate_pool = Pool(X_validation, y_validation)\n",
        "\n",
        "model = CatBoostClassifier(**params)\n",
        "model.fit(\n",
        "    train_pool,\n",
        "    eval_set=validate_pool,\n",
        "    plot=True,\n",
        "    verbose=False,\n",
        ")\n",
        "\n",
        "print('Model validation accuracy: {:.4}'.format(\n",
        "    accuracy_score(y_test, model.predict(X_test))\n",
        "))"
      ]
    },
    {
      "cell_type": "code",
      "execution_count": 53,
      "id": "UFuSMQT5Avbl",
      "metadata": {
        "colab": {
          "base_uri": "https://localhost:8080/"
        },
        "id": "UFuSMQT5Avbl",
        "outputId": "0d54141d-cf8c-405b-a54c-baad33afe71a"
      },
      "outputs": [
        {
          "output_type": "stream",
          "name": "stdout",
          "text": [
            "[[0]\n",
            " [0]\n",
            " [0]\n",
            " [0]\n",
            " [0]\n",
            " [0]\n",
            " [0]\n",
            " [0]\n",
            " [0]\n",
            " [0]]\n",
            "[[0.32415252 0.40892479 0.26692269]\n",
            " [0.02090885 0.95814936 0.02094179]\n",
            " [0.01078654 0.9757595  0.01345396]\n",
            " [0.00789274 0.98422891 0.00787835]\n",
            " [0.01929585 0.96591847 0.01478568]\n",
            " [0.00986332 0.98084384 0.00929284]\n",
            " [0.04086921 0.92393035 0.03520044]\n",
            " [0.00889447 0.98221265 0.00889288]\n",
            " [0.00741744 0.98485587 0.0077267 ]\n",
            " [0.01466305 0.97058442 0.01475252]]\n",
            "       target\n",
            "20233      -1\n",
            "18782       0\n",
            "26657       0\n",
            "27456       0\n",
            "36872       0\n",
            "25891       0\n",
            "33455      -1\n",
            "23349       0\n",
            "4176        0\n",
            "37949       0\n"
          ]
        }
      ],
      "source": [
        "predictions = model.predict(X_test)\n",
        "predictions = predictions.reshape(predictions.shape[0], 1)\n",
        "predictions_probs = model.predict_proba(X_test)\n",
        "print(predictions[90:100])\n",
        "print(predictions_probs[90:100])\n",
        "print(y_test[90:100])"
      ]
    },
    {
      "cell_type": "code",
      "execution_count": 54,
      "id": "LKsiuV0uA4I9",
      "metadata": {
        "colab": {
          "base_uri": "https://localhost:8080/"
        },
        "id": "LKsiuV0uA4I9",
        "outputId": "1ce7df95-da6e-4160-abd9-8dc0fdbf7940"
      },
      "outputs": [
        {
          "output_type": "stream",
          "name": "stdout",
          "text": [
            "trade_volume-SELL-42-sec: 5.61537751161643\n",
            "trade_volume-SELL-60-sec: 4.614888485896265\n",
            "moving_average_price-SELL-6-sec: 4.063784580178312\n",
            "weighted_moving_average_price-SELL-6-sec: 4.057274504942314\n",
            "trade_volume-BUY-54-sec: 3.850347617669889\n",
            "trade_volume-SELL-30-sec: 3.783192856435399\n",
            "trade_volume-SELL-54-sec: 3.206172151494135\n",
            "moving_average_price-BUY-12-sec: 3.198805892896194\n",
            "moving_average_price-SELL-30-sec: 2.8126406799900683\n",
            "trade_volume-BUY-24-sec: 2.6335753268889226\n",
            "trade_volume-BUY-48-sec: 2.5656222195180702\n",
            "moving_average_price-BUY-54-sec: 2.391430188770366\n",
            "stochastic_oscillator-SELL-6-sec: 2.3841119242833875\n",
            "weighted_moving_average_price-SELL-30-sec: 2.3002760217322757\n",
            "trade_volume-SELL-36-sec: 2.1274466634340454\n",
            "weighted_moving_average_price-BUY-12-sec: 2.0008079247444104\n",
            "moving_average_price-BUY-36-sec: 1.9371604188044431\n",
            "trade_volume-BUY-42-sec: 1.911181910669554\n",
            "trade_volume-BUY-12-sec: 1.8324460643409621\n",
            "trade_volume-BUY-18-sec: 1.822222371608947\n",
            "moving_average_price-BUY-42-sec: 1.79118317672445\n",
            "weighted_moving_average_price-BUY-6-sec: 1.7839418886631002\n",
            "stochastic_oscillator-BUY-6-sec: 1.5896610146030372\n",
            "moving_average_price-BUY-18-sec: 1.5154815686815686\n",
            "trade_volume-BUY-60-sec: 1.4775133459901433\n",
            "moving_average_price-BUY-6-sec: 1.4305415713901972\n",
            "weighted_moving_average_price-BUY-24-sec: 1.4240055451745608\n",
            "moving_average_price-SELL-48-sec: 1.419888862224797\n",
            "trade_volume-SELL-6-sec: 1.385419815007879\n",
            "trade_volume-BUY-36-sec: 1.3535532263869852\n",
            "trade_volume-BUY-30-sec: 1.19342938068085\n",
            "moving_average_price-BUY-24-sec: 1.1603221446624612\n",
            "weighted_moving_average_price-BUY-54-sec: 1.1099094452874818\n",
            "weighted_moving_average_price-BUY-36-sec: 1.1080144599881336\n",
            "weighted_moving_average_price-SELL-54-sec: 1.0898524976980788\n",
            "trade_volume-SELL-24-sec: 1.0567605916637397\n",
            "trade_volume-BUY-6-sec: 1.0026427552371426\n",
            "moving_average_price-SELL-54-sec: 0.944009856070931\n",
            "stochastic_oscillator-SELL-24-sec: 0.9169611863028446\n",
            "weighted_moving_average_price-BUY-48-sec: 0.8982708444407258\n",
            "moving_average_price-BUY-30-sec: 0.8670870436804164\n",
            "weighted_moving_average_price-SELL-18-sec: 0.8341181832709192\n",
            "moving_average_price-SELL-12-sec: 0.7973902663892275\n",
            "exp_moving_average_price-SELL-6-sec: 0.7926973258593989\n",
            "stochastic_oscillator-BUY-18-sec: 0.7743395681295454\n",
            "moving_average_price-SELL-36-sec: 0.7679740089309254\n",
            "stochastic_oscillator-BUY-36-sec: 0.7377848633315827\n",
            "weighted_moving_average_price-BUY-42-sec: 0.6192675828364302\n",
            "moving_average_price-BUY-48-sec: 0.5946961781561843\n",
            "trade_volume-SELL-18-sec: 0.5520461842169919\n",
            "weighted_moving_average_price-SELL-48-sec: 0.5456759154033458\n",
            "weighted_moving_average_price-SELL-42-sec: 0.5197504933623918\n",
            "weighted_moving_average_price-BUY-18-sec: 0.5143223201284747\n",
            "stochastic_oscillator-BUY-12-sec: 0.47949171605518087\n",
            "stochastic_oscillator-BUY-60-sec: 0.46239879220062263\n",
            "stochastic_oscillator-SELL-48-sec: 0.46096264832461487\n",
            "stochastic_oscillator-BUY-48-sec: 0.4468917644655963\n",
            "trade_volume-SELL-48-sec: 0.4446817438927135\n",
            "trade_volume-SELL-12-sec: 0.42488662652256914\n",
            "moving_average_price-SELL-18-sec: 0.42113291213660303\n",
            "moving_average_price-SELL-42-sec: 0.40800959188729574\n",
            "stochastic_oscillator-BUY-30-sec: 0.3631319535348738\n",
            "weighted_moving_average_price-SELL-36-sec: 0.33239637760172763\n",
            "stochastic_oscillator-SELL-60-sec: 0.3215052357217403\n",
            "moving_average_price-SELL-24-sec: 0.26375815427442795\n",
            "stochastic_oscillator-SELL-54-sec: 0.2249849318365238\n",
            "exp_moving_average_price-BUY-12-sec: 0.2171030626558831\n",
            "weighted_moving_average_price-SELL-24-sec: 0.19623633092384266\n",
            "exp_moving_average_price-SELL-12-sec: 0.16376260827572384\n",
            "stochastic_oscillator-SELL-12-sec: 0.14573270723168655\n",
            "stochastic_oscillator-SELL-18-sec: 0.13530646318872905\n",
            "stochastic_oscillator-BUY-24-sec: 0.07740685708449103\n",
            "stochastic_oscillator-BUY-42-sec: 0.07678222207793867\n",
            "stochastic_oscillator-SELL-30-sec: 0.055725806638862306\n",
            "exp_moving_average_price-BUY-42-sec: 0.04796744773278874\n",
            "exp_moving_average_price-BUY-36-sec: 0.041343267073714\n",
            "exp_moving_average_price-BUY-24-sec: 0.040296521203924844\n",
            "exp_moving_average_price-BUY-18-sec: 0.023932532173560558\n",
            "exp_moving_average_price-SELL-36-sec: 0.019064517502528824\n",
            "exp_moving_average_price-SELL-48-sec: 0.01565703452396432\n",
            "exp_moving_average_price-SELL-30-sec: 0.012171746768512357\n",
            "weighted_moving_average_price-SELL-12-sec: 0.0\n",
            "weighted_moving_average_price-BUY-30-sec: 0.0\n",
            "stochastic_oscillator-SELL-42-sec: 0.0\n",
            "stochastic_oscillator-SELL-36-sec: 0.0\n",
            "stochastic_oscillator-BUY-54-sec: 0.0\n",
            "exp_moving_average_price-SELL-54-sec: 0.0\n",
            "exp_moving_average_price-SELL-42-sec: 0.0\n",
            "exp_moving_average_price-SELL-24-sec: 0.0\n",
            "exp_moving_average_price-SELL-18-sec: 0.0\n",
            "exp_moving_average_price-BUY-6-sec: 0.0\n",
            "exp_moving_average_price-BUY-54-sec: 0.0\n",
            "exp_moving_average_price-BUY-48-sec: 0.0\n",
            "exp_moving_average_price-BUY-30-sec: 0.0\n"
          ]
        }
      ],
      "source": [
        "feature_importances = model.get_feature_importance(train_pool)\n",
        "feature_names = X_train.columns\n",
        "for score, name in sorted(zip(feature_importances, feature_names), reverse=True):\n",
        "    print('{}: {}'.format(name, score))\n"
      ]
    },
    {
      "cell_type": "code",
      "execution_count": 55,
      "id": "nYtYQuKh3n8N",
      "metadata": {
        "id": "nYtYQuKh3n8N"
      },
      "outputs": [],
      "source": [
        "results = []\n",
        "def f(prob_threshold, diff_threshold, null_threshold):\n",
        "    p = np.array((list(map(lambda row:\n",
        "                          1\n",
        "                          if row[2] > prob_threshold\n",
        "                              # and row[2] == max(row)\n",
        "                              and row[2] > row[0]\n",
        "                              and row[1] < null_threshold\n",
        "                              and abs(row[2] - row[0]) > diff_threshold\n",
        "                              and abs(row[2] - row[1]) > diff_threshold\n",
        "                          else\n",
        "                          -1\n",
        "                          if row[0] > prob_threshold\n",
        "                              # and row[0] == max(row)\n",
        "                              and row[0] > row[2]\n",
        "                              and row[1] < null_threshold\n",
        "                              and abs(row[0] - row[2]) > diff_threshold\n",
        "                              and abs(row[0] - row[1]) > diff_threshold\n",
        "                          else 0,\n",
        "                          predictions_probs))))\n",
        "    result = {\n",
        "        'correct_predictions': 0,\n",
        "        'false_positive': 0,\n",
        "        'false_negative': 0,\n",
        "        'wrong_side': 0,\n",
        "    }\n",
        "    for i in range(len(p)):\n",
        "        t = int(y_test['target'][i:i+1])\n",
        "        if p[i] == t != 0:\n",
        "            result['correct_predictions'] += 1\n",
        "        elif p[i] != t and t != 0 and p[i] != 0:\n",
        "            result['wrong_side'] += 1\n",
        "        elif p[i] != 0 and t == 0:\n",
        "            result['false_positive'] += 1\n",
        "        elif p[i] == 0 and t != 0:\n",
        "            result['false_negative'] += 1\n",
        "\n",
        "    result['correct_predictions'] /= len(y_test)\n",
        "    result['false_positive'] /= len(y_test)\n",
        "    result['false_negative'] /= len(y_test)\n",
        "    result['wrong_side'] /= len(y_test)\n",
        "    result['prob_threshold'] = prob_threshold\n",
        "    result['diff_threshold'] = diff_threshold\n",
        "    result['null_threshold'] = null_threshold\n",
        "    results.append(result)\n",
        "    return p\n",
        "\n",
        "for null_threshold in np.arange(0.5, 0.9, 0.1):\n",
        "    for prob_threshold in np.arange(0.1, 0.7, 0.1):\n",
        "        for diff_threshold in np.arange(0.00, 0.20, 0.05):\n",
        "            f(prob_threshold, diff_threshold, null_threshold)"
      ]
    },
    {
      "cell_type": "code",
      "execution_count": 56,
      "id": "uibgvIlGhC_s",
      "metadata": {
        "id": "uibgvIlGhC_s"
      },
      "outputs": [],
      "source": [
        "results = list(sorted(results, key=lambda result: -calculate_profit(result['prob_threshold'], result['diff_threshold'], result['null_threshold'])))"
      ]
    },
    {
      "cell_type": "code",
      "execution_count": 57,
      "id": "K_Jwjz6gYLEx",
      "metadata": {
        "colab": {
          "base_uri": "https://localhost:8080/"
        },
        "id": "K_Jwjz6gYLEx",
        "outputId": "9312c743-99f8-42f0-bf67-662812fbe9b5"
      },
      "outputs": [
        {
          "output_type": "stream",
          "name": "stdout",
          "text": [
            "{'correct_predictions': 0.00012903225806451613, 'false_positive': 0.0, 'false_negative': 0.029161290322580646, 'wrong_side': 0.0, 'prob_threshold': 0.5, 'diff_threshold': 0.0, 'null_threshold': 0.5}\n"
          ]
        }
      ],
      "source": [
        "print(results[0])"
      ]
    },
    {
      "cell_type": "code",
      "execution_count": 58,
      "id": "YVf5Mi0OZMzL",
      "metadata": {
        "colab": {
          "base_uri": "https://localhost:8080/"
        },
        "id": "YVf5Mi0OZMzL",
        "outputId": "f45b507e-3efd-4b28-85dc-0311effebdc2"
      },
      "outputs": [
        {
          "output_type": "stream",
          "name": "stdout",
          "text": [
            "prob_threshold 0.5, diff_threshold 0.0, null_threshold 0.5\n",
            "accuracy 0.9708387096774194\n",
            "{'correct_predictions': 1, 'false_positive': 0, 'false_negative': 226, 'wrong_side': 0, 'correct_predictions_pc': 0.00012903225806451613, 'false_positive_pc': 0.0, 'false_negative_pc': 0.029161290322580646, 'wrong_side_pc': 0.0}\n"
          ]
        }
      ],
      "source": [
        "prob_threshold = results[0]['prob_threshold']\n",
        "diff_threshold = results[0]['diff_threshold']\n",
        "null_threshold = results[0]['null_threshold']\n",
        "\n",
        "print(f\"prob_threshold {prob_threshold}, diff_threshold {diff_threshold}, null_threshold {null_threshold}\")\n",
        "p = f(prob_threshold, diff_threshold, null_threshold)\n",
        "print('accuracy', accuracy_score(p, y_test))\n",
        "result = {\n",
        "    'correct_predictions': 0,\n",
        "    'false_positive': 0,\n",
        "    'false_negative': 0,\n",
        "    'wrong_side': 0,\n",
        "}\n",
        "for i in range(len(p)):\n",
        "    t = int(y_test['target'][i:i+1])\n",
        "    if p[i] == t != 0:\n",
        "        result['correct_predictions'] += 1\n",
        "    elif p[i] != t and t != 0 and p[i] != 0:\n",
        "        result['wrong_side'] += 1\n",
        "    elif p[i] != 0 and t == 0:\n",
        "        result['false_positive'] += 1\n",
        "    elif p[i] == 0 and t != 0:\n",
        "        result['false_negative'] += 1\n",
        "\n",
        "result['correct_predictions_pc'] = result['correct_predictions'] / len(y_test)\n",
        "result['false_positive_pc'] = result['false_positive'] / len(y_test)\n",
        "result['false_negative_pc'] = result['false_negative'] / len(y_test)\n",
        "result['wrong_side_pc'] = result['wrong_side'] / len(y_test)\n",
        "print(result)"
      ]
    },
    {
      "cell_type": "code",
      "execution_count": 59,
      "id": "gMozO7JrZ3de",
      "metadata": {
        "colab": {
          "base_uri": "https://localhost:8080/"
        },
        "id": "gMozO7JrZ3de",
        "outputId": "dc17a0cc-dc08-4d63-93e7-6df092b47432"
      },
      "outputs": [
        {
          "output_type": "stream",
          "name": "stdout",
          "text": [
            "profit from 3000$ fot 2 months 22.498258064516133 $ 0.7499419354838711 %\n"
          ]
        }
      ],
      "source": [
        "def calculate_profit(prob_threshold, diff_threshold, null_threshold):\n",
        "    p = f(prob_threshold, diff_threshold, null_threshold)\n",
        "    result = {\n",
        "        'correct_predictions': 0,\n",
        "        'false_positive': 0,\n",
        "        'false_negative': 0,\n",
        "        'wrong_side': 0,\n",
        "    }\n",
        "    for i in range(len(p)):\n",
        "        t = int(y_test['target'][i:i+1])\n",
        "        if p[i] == t != 0:\n",
        "            result['correct_predictions'] += 1\n",
        "        elif p[i] != t and t != 0 and p[i] != 0:\n",
        "            result['wrong_side'] += 1\n",
        "        elif p[i] != 0 and t == 0:\n",
        "            result['false_positive'] += 1\n",
        "        elif p[i] == 0 and t != 0:\n",
        "            result['false_negative'] += 1\n",
        "\n",
        "    result['correct_predictions_pc'] = result['correct_predictions'] / len(y_test)\n",
        "    result['false_positive_pc'] = result['false_positive'] / len(y_test)\n",
        "    result['false_negative_pc'] = result['false_negative'] / len(y_test)\n",
        "    result['wrong_side_pc'] = result['wrong_side'] / len(y_test)\n",
        "    \n",
        "    return (\n",
        "          len(y) * result['correct_predictions_pc'] * (punch - 2 * commision)\n",
        "          -\n",
        "          len(y) * result['false_positive_pc'] * 2 * commision\n",
        "          -\n",
        "          len(y) * result['wrong_side_pc'] * (punch + 2 * commision)\n",
        "    )\n",
        "profit = calculate_profit(prob_threshold, diff_threshold, null_threshold)\n",
        "print(\n",
        "    'profit from 3000$ fot 2 months',\n",
        "    profit * 3000,\n",
        "    '$',\n",
        "    profit * 100,\n",
        "    '%'\n",
        ")"
      ]
    },
    {
      "cell_type": "code",
      "execution_count": 60,
      "id": "_Gh3CUGM6K-c",
      "metadata": {
        "colab": {
          "base_uri": "https://localhost:8080/"
        },
        "id": "_Gh3CUGM6K-c",
        "outputId": "5e3164b5-8869-444f-dfe1-0ca96eed51c5"
      },
      "outputs": [
        {
          "output_type": "stream",
          "name": "stdout",
          "text": [
            "Correct accuracy = correct prediction / total positive num = 0.004405286343612335\n",
            "FPR = false positive / total negative num = 0.0\n",
            "FNR = false negative / total positive num = 0.9955947136563876\n",
            "Model in 0.4405286343612335% of cases with probability 100.0% predict a correct market jump\n"
          ]
        }
      ],
      "source": [
        "correct_accuracy = result['correct_predictions'] / len(y_test[y_test['target'] != 0])\n",
        "print(\n",
        "f\"Correct accuracy = correct prediction / total positive num = {correct_accuracy}\"\n",
        ")\n",
        "FPR = result['false_positive'] / len(y_test[y_test['target'] == 0])\n",
        "print(\n",
        "f\"FPR = false positive / total negative num = {FPR}\"\n",
        ")\n",
        "FNR = result['false_negative'] / len(y_test[y_test['target'] != 0])\n",
        "print(\n",
        "f\"FNR = false negative / total positive num = {FNR}\"\n",
        ")\n",
        "cases_pc = (result['correct_predictions'] + result['false_positive'] + result['wrong_side']) / len(y_test[y_test['target'] != 0]) * 100\n",
        "probability_pc = result['correct_predictions'] / (result['correct_predictions'] + result['false_positive'] + result['wrong_side']) * 100\n",
        "print(\n",
        "f\"Model in {cases_pc}% of cases with probability {probability_pc}% predict a correct market jump\"\n",
        ")"
      ]
    },
    {
      "cell_type": "code",
      "execution_count": 61,
      "id": "lhzxNa9Ezvm6",
      "metadata": {
        "colab": {
          "base_uri": "https://localhost:8080/"
        },
        "id": "lhzxNa9Ezvm6",
        "outputId": "a5d9d937-b935-42b9-e985-f9f9158bfd22"
      },
      "outputs": [
        {
          "output_type": "stream",
          "name": "stdout",
          "text": [
            "0 [0.01002155 0.97815069 0.01182777] 1\n",
            "0 [0.01673986 0.95929627 0.02396386] -1\n",
            "0 [0.01051587 0.97989528 0.00958886] -1\n",
            "0 [0.01344922 0.97260521 0.01394558] -1\n",
            "0 [0.35531848 0.45688737 0.18779415] 1\n",
            "0 [0.32415252 0.40892479 0.26692269] -1\n",
            "0 [0.04086921 0.92393035 0.03520044] -1\n",
            "0 [0.01487971 0.96950016 0.01562014] 1\n",
            "0 [0.04639228 0.91974886 0.03385886] -1\n",
            "0 [0.14735192 0.76154143 0.09110665] 1\n",
            "0 [0.02587967 0.95308716 0.02103317] 1\n",
            "0 [0.07277492 0.86227077 0.0649543 ] -1\n",
            "0 [0.039144   0.91564476 0.04521125] 1\n",
            "0 [0.01170684 0.97821686 0.0100763 ] -1\n",
            "0 [0.03616034 0.93718055 0.02665911] 1\n",
            "0 [0.02127823 0.95861301 0.02010877] 1\n",
            "0 [0.00998267 0.98051399 0.00950333] -1\n",
            "0 [0.39602934 0.3052214  0.29874927] 1\n",
            "0 [0.04671071 0.92481223 0.02847706] 1\n",
            "0 [0.02604175 0.9502295  0.02372876] 1\n",
            "0 [0.42657889 0.35029494 0.22312618] 1\n",
            "0 [0.01211554 0.97563915 0.01224531] 1\n",
            "0 [0.01085525 0.97876194 0.0103828 ] -1\n",
            "0 [0.01440787 0.97095261 0.01463953] 1\n",
            "0 [0.04182415 0.92461397 0.03356188] 1\n",
            "0 [0.02572101 0.94683337 0.02744562] 1\n",
            "0 [0.00960843 0.98195787 0.0084337 ] 1\n",
            "0 [0.00901493 0.98256763 0.00841744] -1\n",
            "0 [0.18944302 0.48660061 0.32395637] -1\n",
            "0 [0.07418169 0.84861151 0.0772068 ] -1\n",
            "0 [0.02485683 0.94094653 0.03419664] 1\n",
            "0 [0.16371623 0.68661699 0.14966678] 1\n",
            "0 [0.01873163 0.96236685 0.01890152] -1\n",
            "0 [0.14217122 0.72199409 0.13583469] -1\n",
            "0 [0.0673055  0.88145941 0.05123508] -1\n",
            "0 [0.06233847 0.89834752 0.039314  ] -1\n",
            "0 [0.01467737 0.96760252 0.01772012] -1\n",
            "0 [0.02841165 0.94495467 0.02663367] 1\n",
            "0 [0.02662677 0.94963108 0.02374216] 1\n",
            "0 [0.0092315  0.98179197 0.00897653] -1\n",
            "0 [0.02948297 0.94512491 0.02539212] -1\n",
            "0 [0.00761631 0.98455317 0.00783053] 1\n",
            "0 [0.00712171 0.98577602 0.00710227] -1\n",
            "0 [0.01024021 0.97976214 0.00999765] 1\n",
            "0 [0.02000897 0.96327219 0.01671884] -1\n",
            "0 [0.02324034 0.94961819 0.02714147] 1\n",
            "0 [0.0262765  0.95056566 0.02315784] -1\n",
            "0 [0.01141658 0.97676324 0.01182018] 1\n",
            "0 [0.01908538 0.95978805 0.02112657] -1\n",
            "0 [0.0560115  0.90195134 0.04203716] 1\n",
            "0 [0.01861756 0.96405426 0.01732818] 1\n",
            "0 [0.00856801 0.98323184 0.00820015] -1\n",
            "0 [0.01537046 0.96674658 0.01788296] 1\n",
            "0 [0.01913342 0.9664579  0.01440868] -1\n",
            "0 [0.20366384 0.65467985 0.14165631] -1\n",
            "0 [0.03025614 0.9402492  0.02949466] -1\n",
            "0 [0.05383372 0.89400477 0.05216151] -1\n",
            "0 [0.01239144 0.97675681 0.01085176] -1\n",
            "0 [0.02210558 0.95611588 0.02177854] -1\n",
            "0 [0.06422865 0.88776476 0.04800659] -1\n",
            "0 [0.01413789 0.97275678 0.01310533] 1\n",
            "0 [0.16660885 0.64644423 0.18694691] -1\n",
            "0 [0.22459955 0.52268803 0.25271242] -1\n",
            "0 [0.14125903 0.7396337  0.11910727] 1\n",
            "0 [0.01268786 0.97522045 0.01209169] 1\n",
            "0 [0.01276432 0.97384624 0.01338944] 1\n",
            "0 [0.00849391 0.9830628  0.00844329] -1\n",
            "0 [0.02388713 0.95671048 0.01940239] 1\n",
            "0 [0.01868919 0.9650391  0.01627171] -1\n",
            "0 [0.01193337 0.97668887 0.01137776] -1\n",
            "0 [0.02133292 0.96287263 0.01579445] 1\n",
            "0 [0.1468497  0.69378844 0.15936185] -1\n",
            "0 [0.00871932 0.9827079  0.00857278] 1\n",
            "0 [0.22017559 0.54872392 0.23110049] -1\n",
            "0 [0.01419054 0.97203211 0.01377736] -1\n",
            "0 [0.02910992 0.94779464 0.02309544] 1\n",
            "0 [0.07548287 0.86195231 0.06256482] 1\n",
            "0 [0.15150794 0.68782804 0.16066402] 1\n",
            "0 [0.03059884 0.93345215 0.03594901] -1\n",
            "0 [0.00916545 0.98020913 0.01062542] 1\n",
            "0 [0.00785817 0.98415926 0.00798257] -1\n",
            "0 [0.01072576 0.97815904 0.0111152 ] 1\n",
            "0 [0.00826184 0.98345734 0.00828082] -1\n",
            "0 [0.11017655 0.71173765 0.17808579] 1\n",
            "0 [0.00877569 0.98277467 0.00844964] 1\n",
            "0 [0.03775782 0.93132958 0.0309126 ] 1\n",
            "0 [0.02158813 0.95860258 0.01980929] 1\n",
            "0 [0.02708849 0.95541756 0.01749395] -1\n",
            "0 [0.01705661 0.97023741 0.01270598] 1\n",
            "0 [0.10057611 0.83070649 0.0687174 ] 1\n",
            "0 [0.01278462 0.97031048 0.0169049 ] -1\n",
            "0 [0.00701308 0.98569967 0.00728726] -1\n",
            "0 [0.11719599 0.73533965 0.14746436] -1\n",
            "0 [0.13105587 0.70958314 0.15936099] -1\n",
            "0 [0.01562211 0.96853917 0.01583872] -1\n",
            "0 [0.00712913 0.98518861 0.00768226] -1\n",
            "0 [0.01112847 0.97720133 0.0116702 ] 1\n",
            "0 [0.07984289 0.82142482 0.09873229] 1\n",
            "0 [0.00899243 0.98174077 0.00926681] -1\n",
            "0 [0.10003138 0.81703901 0.08292961] 1\n",
            "0 [0.17754666 0.66499463 0.15745871] 1\n",
            "0 [0.09293867 0.83601087 0.07105046] 1\n",
            "0 [0.00828023 0.98188448 0.00983529] 1\n",
            "0 [0.0240966  0.95372717 0.02217623] -1\n",
            "0 [0.26350897 0.60489829 0.13159274] -1\n",
            "0 [0.08467112 0.79286824 0.12246064] -1\n",
            "0 [0.01969818 0.96192952 0.01837231] 1\n",
            "0 [0.02092971 0.96067223 0.01839806] -1\n",
            "0 [0.27049941 0.5140079  0.21549269] 1\n",
            "0 [0.39390076 0.37212317 0.23397607] -1\n",
            "0 [0.03313961 0.93258433 0.03427605] 1\n",
            "0 [0.048702   0.90613985 0.04515815] -1\n",
            "0 [0.0277872  0.95181477 0.02039803] -1\n",
            "0 [0.04056521 0.91549698 0.04393781] -1\n",
            "0 [0.04840286 0.91037101 0.04122612] 1\n",
            "0 [0.01294621 0.97413818 0.01291561] 1\n",
            "0 [0.0082463  0.98239531 0.00935839] 1\n",
            "0 [0.311524   0.42088445 0.26759155] -1\n",
            "-1 [0.50399042 0.29621724 0.19979234] -1\n",
            "0 [0.38388395 0.19034851 0.42576754] 1\n",
            "0 [0.18731069 0.55586061 0.2568287 ] -1\n",
            "0 [0.0188586  0.96144426 0.01969714] 1\n",
            "0 [0.04314567 0.9246051  0.03224922] -1\n",
            "0 [0.01095833 0.97797359 0.01106807] -1\n",
            "0 [0.00730838 0.98520866 0.00748296] 1\n",
            "0 [0.01735049 0.96621877 0.01643073] -1\n",
            "0 [0.01120697 0.97861971 0.01017333] -1\n",
            "0 [0.00837447 0.98327485 0.00835068] -1\n",
            "0 [0.06502494 0.86557747 0.06939759] -1\n",
            "0 [0.05618087 0.87676764 0.0670515 ] 1\n",
            "0 [0.01319506 0.97430043 0.01250451] 1\n",
            "0 [0.02952424 0.9449896  0.02548616] -1\n",
            "0 [0.05246447 0.90985949 0.03767604] 1\n",
            "0 [0.00747919 0.98513492 0.00738589] -1\n",
            "0 [0.01131774 0.97978724 0.00889502] 1\n",
            "0 [0.10765232 0.77507759 0.11727009] -1\n",
            "0 [0.01483127 0.97381817 0.01135056] 1\n",
            "0 [0.01543611 0.97019149 0.01437239] -1\n",
            "0 [0.00827936 0.98371572 0.00800493] 1\n",
            "0 [0.01774969 0.96149467 0.02075564] -1\n",
            "0 [0.01509829 0.96576699 0.01913471] 1\n",
            "0 [0.06249544 0.88035921 0.05714535] 1\n",
            "0 [0.3575522  0.17204611 0.47040169] -1\n",
            "0 [0.01834134 0.96177075 0.01988791] -1\n",
            "0 [0.39862869 0.27781529 0.32355602] -1\n",
            "0 [0.0933558  0.77659874 0.13004546] -1\n",
            "0 [0.26163671 0.39500768 0.34335561] -1\n",
            "0 [0.00729244 0.98537152 0.00733603] 1\n",
            "0 [0.03918596 0.91086968 0.04994436] -1\n",
            "0 [0.04600454 0.89589142 0.05810405] -1\n",
            "0 [0.07183515 0.88118156 0.04698328] 1\n",
            "0 [0.02315253 0.95649233 0.02035515] -1\n",
            "0 [0.00747094 0.98413078 0.00839828] 1\n",
            "0 [0.16539764 0.69559924 0.13900313] -1\n",
            "0 [0.00777839 0.98481847 0.00740314] -1\n",
            "0 [0.00734423 0.98494175 0.00771401] -1\n",
            "0 [0.06081847 0.88878725 0.05039428] 1\n",
            "0 [0.01490159 0.96857516 0.01652325] -1\n",
            "0 [0.20622572 0.64589449 0.14787979] 1\n",
            "0 [0.185667   0.55027027 0.26406273] -1\n",
            "0 [0.01297528 0.97341482 0.0136099 ] 1\n",
            "0 [0.30431177 0.41071254 0.28497569] -1\n",
            "0 [0.02114938 0.95601699 0.02283364] -1\n",
            "0 [0.02574735 0.94950034 0.02475231] 1\n",
            "0 [0.20084324 0.64645171 0.15270504] 1\n",
            "0 [0.18711673 0.64943395 0.16344932] 1\n",
            "0 [0.01724786 0.96406841 0.01868373] 1\n",
            "0 [0.03739462 0.94339496 0.01921043] -1\n",
            "0 [0.15218206 0.62390941 0.22390853] 1\n",
            "0 [0.01528521 0.96993477 0.01478003] 1\n",
            "0 [0.33740423 0.29557764 0.36701813] -1\n",
            "0 [0.05926383 0.8619107  0.07882547] -1\n",
            "0 [0.05859493 0.88413417 0.0572709 ] -1\n",
            "0 [0.37351378 0.32293765 0.30354857] 1\n",
            "0 [0.01421975 0.97146871 0.01431155] 1\n",
            "0 [0.01033065 0.97798147 0.01168787] -1\n",
            "0 [0.11167435 0.76396215 0.1243635 ] -1\n",
            "0 [0.04353377 0.89120045 0.06526578] -1\n",
            "0 [0.03632362 0.93635308 0.02732331] 1\n",
            "0 [0.00835307 0.98241094 0.00923599] -1\n",
            "0 [0.30094627 0.53688361 0.16217012] -1\n",
            "0 [0.00962814 0.98158462 0.00878724] -1\n",
            "0 [0.45161003 0.29726505 0.25112492] -1\n",
            "0 [0.00894026 0.98223555 0.00882419] -1\n",
            "0 [0.01287846 0.97618362 0.01093792] -1\n",
            "0 [0.01167074 0.97593559 0.01239367] 1\n",
            "0 [0.00870292 0.98125703 0.01004005] 1\n",
            "0 [0.13287582 0.77604397 0.09108021] -1\n",
            "0 [0.38701121 0.29090295 0.32208585] -1\n",
            "0 [0.04087957 0.92710986 0.03201056] 1\n",
            "0 [0.008346   0.98396372 0.00769028] 1\n",
            "0 [0.01031059 0.97875306 0.01093635] -1\n",
            "0 [0.01747907 0.96781582 0.01470511] 1\n",
            "0 [0.02588688 0.94866063 0.02545249] 1\n",
            "0 [0.24849075 0.35413082 0.39737843] 1\n",
            "0 [0.32911538 0.18905442 0.48183021] -1\n",
            "0 [0.28293201 0.46802185 0.24904614] 1\n",
            "0 [0.01849294 0.95541803 0.02608903] -1\n",
            "0 [0.04190413 0.92045672 0.03763915] 1\n",
            "0 [0.01808423 0.96936374 0.01255203] -1\n",
            "0 [0.01627812 0.96920005 0.01452183] -1\n",
            "0 [0.17641222 0.72382865 0.09975914] 1\n",
            "0 [0.08339943 0.85854904 0.05805153] -1\n",
            "0 [0.00874061 0.98291226 0.00834713] 1\n",
            "0 [0.2523065  0.47860815 0.26908535] -1\n",
            "0 [0.01163681 0.97761507 0.01074812] 1\n",
            "0 [0.00816613 0.98394556 0.00788831] 1\n",
            "0 [0.00804086 0.98310138 0.00885776] -1\n",
            "0 [0.04149781 0.92384687 0.03465532] -1\n",
            "0 [0.01374788 0.97435427 0.01189784] -1\n",
            "0 [0.0365915  0.92507216 0.03833634] -1\n",
            "0 [0.04847668 0.91105365 0.04046967] -1\n",
            "0 [0.00807525 0.98438427 0.00754049] -1\n",
            "0 [0.08364319 0.85732815 0.05902866] -1\n",
            "0 [0.01010902 0.98006566 0.00982532] 1\n",
            "0 [0.1660289  0.66095287 0.17301822] -1\n",
            "0 [0.03083941 0.94518072 0.02397987] -1\n",
            "0 [0.18377735 0.71041887 0.10580378] -1\n",
            "0 [0.06145271 0.84362439 0.0949229 ] 1\n",
            "0 [0.01232893 0.9763193  0.01135177] -1\n",
            "0 [0.00769926 0.98439776 0.00790298] -1\n",
            "0 [0.03558645 0.93922789 0.02518566] 1\n",
            "0 [0.01774412 0.96398253 0.01827335] 1\n",
            "0 [0.09646546 0.8336317  0.06990284] -1\n",
            "0 [0.03700133 0.90191424 0.06108443] -1\n",
            "0 [0.02817519 0.93858617 0.03323863] -1\n",
            "0 [0.21225983 0.59569039 0.19204978] 1\n"
          ]
        }
      ],
      "source": [
        "for i in range(len(predictions_probs)):\n",
        "    if int(y_test['target'][i:i+1]) != 0:\n",
        "        print(p[i], predictions_probs[i], int(y_test['target'][i:i+1]))"
      ]
    }
  ],
  "metadata": {
    "colab": {
      "collapsed_sections": [],
      "name": "trades_size_catboost_draft.ipynb",
      "provenance": []
    },
    "kernelspec": {
      "display_name": "Python 3",
      "language": "python",
      "name": "python3"
    },
    "language_info": {
      "codemirror_mode": {
        "name": "ipython",
        "version": 3
      },
      "file_extension": ".py",
      "mimetype": "text/x-python",
      "name": "python",
      "nbconvert_exporter": "python",
      "pygments_lexer": "ipython3",
      "version": "3.8.10"
    },
    "widgets": {
      "application/vnd.jupyter.widget-state+json": {
        "55e9d9fd2ba14fde8b6fc61511980f7d": {
          "model_module": "catboost-widget",
          "model_name": "CatboostWidgetModel",
          "model_module_version": "^1.0.0",
          "state": {
            "_view_name": "CatboostWidgetView",
            "_dom_classes": [],
            "_model_name": "CatboostWidgetModel",
            "data": {
              "catboost_info": {
                "content": {
                  "data": {
                    "meta": {
                      "name": "experiment",
                      "parameters": "",
                      "test_metrics": [
                        {
                          "best_value": "Max",
                          "name": "Accuracy"
                        },
                        {
                          "best_value": "Min",
                          "name": "MultiClass"
                        }
                      ],
                      "learn_sets": [
                        "learn"
                      ],
                      "launch_mode": "Train",
                      "learn_metrics": [
                        {
                          "best_value": "Max",
                          "name": "Accuracy"
                        },
                        {
                          "best_value": "Min",
                          "name": "MultiClass"
                        }
                      ],
                      "iteration_count": 500,
                      "test_sets": [
                        "test"
                      ]
                    },
                    "iterations": [
                      {
                        "test": [
                          0.9708387097,
                          0.9255261651
                        ],
                        "passed_time": 0.06037296281,
                        "iteration": 0,
                        "remaining_time": 30.12610844,
                        "learn": [
                          0.9706628812,
                          0.9254028226
                        ]
                      },
                      {
                        "test": [
                          0.9708387097,
                          0.796625994
                        ],
                        "passed_time": 0.1149654233,
                        "iteration": 1,
                        "remaining_time": 28.62639039,
                        "learn": [
                          0.9706628812,
                          0.79655402
                        ]
                      },
                      {
                        "test": [
                          0.9708387097,
                          0.6955236248
                        ],
                        "passed_time": 0.1655315123,
                        "iteration": 2,
                        "remaining_time": 27.42305387,
                        "learn": [
                          0.9706628812,
                          0.6955351925
                        ]
                      },
                      {
                        "test": [
                          0.9708387097,
                          0.6144644403
                        ],
                        "passed_time": 0.2175545335,
                        "iteration": 3,
                        "remaining_time": 26.97676215,
                        "learn": [
                          0.9706628812,
                          0.6144731277
                        ]
                      },
                      {
                        "test": [
                          0.9708387097,
                          0.5477940291
                        ],
                        "passed_time": 0.2712159759,
                        "iteration": 4,
                        "remaining_time": 26.85038161,
                        "learn": [
                          0.9706628812,
                          0.5477994913
                        ]
                      },
                      {
                        "test": [
                          0.9708387097,
                          0.4918279808
                        ],
                        "passed_time": 0.3235062277,
                        "iteration": 5,
                        "remaining_time": 26.63534608,
                        "learn": [
                          0.9706628812,
                          0.4918270649
                        ]
                      },
                      {
                        "test": [
                          0.9708387097,
                          0.4450042623
                        ],
                        "passed_time": 0.3771921387,
                        "iteration": 6,
                        "remaining_time": 26.56510348,
                        "learn": [
                          0.9706628812,
                          0.4449716014
                        ]
                      },
                      {
                        "test": [
                          0.9708387097,
                          0.4047859009
                        ],
                        "passed_time": 0.4373718888,
                        "iteration": 7,
                        "remaining_time": 26.89837116,
                        "learn": [
                          0.9706628812,
                          0.4047787085
                        ]
                      },
                      {
                        "test": [
                          0.9708387097,
                          0.3704320724
                        ],
                        "passed_time": 0.4883496654,
                        "iteration": 8,
                        "remaining_time": 26.6421873,
                        "learn": [
                          0.9706628812,
                          0.3702905942
                        ]
                      },
                      {
                        "test": [
                          0.9708387097,
                          0.3405227298
                        ],
                        "passed_time": 0.5444616229,
                        "iteration": 9,
                        "remaining_time": 26.67861952,
                        "learn": [
                          0.9706628812,
                          0.3401933489
                        ]
                      },
                      {
                        "test": [
                          0.9708387097,
                          0.3145599141
                        ],
                        "passed_time": 0.5989895003,
                        "iteration": 10,
                        "remaining_time": 26.62780597,
                        "learn": [
                          0.9706628812,
                          0.3141261508
                        ]
                      },
                      {
                        "test": [
                          0.9708387097,
                          0.2919417604
                        ],
                        "passed_time": 0.6569986528,
                        "iteration": 11,
                        "remaining_time": 26.71794522,
                        "learn": [
                          0.9706628812,
                          0.2914776119
                        ]
                      },
                      {
                        "test": [
                          0.9708387097,
                          0.2721369916
                        ],
                        "passed_time": 0.7088953816,
                        "iteration": 12,
                        "remaining_time": 26.5563116,
                        "learn": [
                          0.9706628812,
                          0.271635461
                        ]
                      },
                      {
                        "test": [
                          0.9708387097,
                          0.2549533615
                        ],
                        "passed_time": 0.7602728331,
                        "iteration": 13,
                        "remaining_time": 26.39232835,
                        "learn": [
                          0.9706628812,
                          0.2543575903
                        ]
                      },
                      {
                        "test": [
                          0.9708387097,
                          0.239498908
                        ],
                        "passed_time": 0.8241643018,
                        "iteration": 14,
                        "remaining_time": 26.64797909,
                        "learn": [
                          0.9706628812,
                          0.2387990953
                        ]
                      },
                      {
                        "test": [
                          0.9708387097,
                          0.2261698437
                        ],
                        "passed_time": 0.8747738312,
                        "iteration": 15,
                        "remaining_time": 26.46190839,
                        "learn": [
                          0.9706628812,
                          0.2253354529
                        ]
                      },
                      {
                        "test": [
                          0.9708387097,
                          0.2141081461
                        ],
                        "passed_time": 0.9240960884,
                        "iteration": 16,
                        "remaining_time": 26.25520063,
                        "learn": [
                          0.9706628812,
                          0.2131051888
                        ]
                      },
                      {
                        "test": [
                          0.9708387097,
                          0.2036863213
                        ],
                        "passed_time": 0.9750965491,
                        "iteration": 17,
                        "remaining_time": 26.1109187,
                        "learn": [
                          0.9706628812,
                          0.2025754322
                        ]
                      },
                      {
                        "test": [
                          0.9708387097,
                          0.1945596789
                        ],
                        "passed_time": 1.025718315,
                        "iteration": 18,
                        "remaining_time": 25.96686892,
                        "learn": [
                          0.9706628812,
                          0.1931635976
                        ]
                      },
                      {
                        "test": [
                          0.9708387097,
                          0.1864246161
                        ],
                        "passed_time": 1.079386755,
                        "iteration": 19,
                        "remaining_time": 25.90528212,
                        "learn": [
                          0.9706628812,
                          0.1847993689
                        ]
                      },
                      {
                        "test": [
                          0.9708387097,
                          0.1791791833
                        ],
                        "passed_time": 1.130550754,
                        "iteration": 20,
                        "remaining_time": 25.78732433,
                        "learn": [
                          0.9706628812,
                          0.1772942695
                        ]
                      },
                      {
                        "test": [
                          0.9708387097,
                          0.1728520381
                        ],
                        "passed_time": 1.180438313,
                        "iteration": 21,
                        "remaining_time": 25.64770516,
                        "learn": [
                          0.9706628812,
                          0.1707634616
                        ]
                      },
                      {
                        "test": [
                          0.9708387097,
                          0.1671793034
                        ],
                        "passed_time": 1.231147835,
                        "iteration": 22,
                        "remaining_time": 25.53293554,
                        "learn": [
                          0.9706628812,
                          0.1647749099
                        ]
                      },
                      {
                        "test": [
                          0.9708387097,
                          0.1622328388
                        ],
                        "passed_time": 1.279720181,
                        "iteration": 23,
                        "remaining_time": 25.38111693,
                        "learn": [
                          0.9706628812,
                          0.1596029737
                        ]
                      },
                      {
                        "test": [
                          0.9708387097,
                          0.1578067719
                        ],
                        "passed_time": 1.329483824,
                        "iteration": 24,
                        "remaining_time": 25.26019265,
                        "learn": [
                          0.9707058975,
                          0.1550475012
                        ]
                      },
                      {
                        "test": [
                          0.9708387097,
                          0.1539296436
                        ],
                        "passed_time": 1.377186729,
                        "iteration": 25,
                        "remaining_time": 25.10717345,
                        "learn": [
                          0.9707919301,
                          0.1509159078
                        ]
                      },
                      {
                        "test": [
                          0.9709677419,
                          0.1504967957
                        ],
                        "passed_time": 1.42960094,
                        "iteration": 26,
                        "remaining_time": 25.04449055,
                        "learn": [
                          0.9709639954,
                          0.1473539594
                        ]
                      },
                      {
                        "test": [
                          0.9709677419,
                          0.1476388725
                        ],
                        "passed_time": 1.480404612,
                        "iteration": 27,
                        "remaining_time": 24.95539203,
                        "learn": [
                          0.9709209791,
                          0.1443737978
                        ]
                      },
                      {
                        "test": [
                          0.9709677419,
                          0.1452353995
                        ],
                        "passed_time": 1.527860317,
                        "iteration": 28,
                        "remaining_time": 24.81455894,
                        "learn": [
                          0.9710070117,
                          0.1416504626
                        ]
                      },
                      {
                        "test": [
                          0.9709677419,
                          0.142933584
                        ],
                        "passed_time": 1.576929429,
                        "iteration": 29,
                        "remaining_time": 24.70522773,
                        "learn": [
                          0.971050028,
                          0.1390882931
                        ]
                      },
                      {
                        "test": [
                          0.9712258065,
                          0.1407746098
                        ],
                        "passed_time": 1.632543459,
                        "iteration": 30,
                        "remaining_time": 24.69880265,
                        "learn": [
                          0.971050028,
                          0.1366745796
                        ]
                      },
                      {
                        "test": [
                          0.9713548387,
                          0.1388626853
                        ],
                        "passed_time": 1.691689759,
                        "iteration": 31,
                        "remaining_time": 24.74096273,
                        "learn": [
                          0.9711360606,
                          0.1343560314
                        ]
                      },
                      {
                        "test": [
                          0.9713548387,
                          0.1372248511
                        ],
                        "passed_time": 1.739869943,
                        "iteration": 32,
                        "remaining_time": 24.62179586,
                        "learn": [
                          0.9711360606,
                          0.1323251354
                        ]
                      },
                      {
                        "test": [
                          0.971483871,
                          0.1358152744
                        ],
                        "passed_time": 1.788578555,
                        "iteration": 33,
                        "remaining_time": 24.51404725,
                        "learn": [
                          0.9712651095,
                          0.1306783898
                        ]
                      },
                      {
                        "test": [
                          0.971483871,
                          0.1344187438
                        ],
                        "passed_time": 1.847141241,
                        "iteration": 34,
                        "remaining_time": 24.54059078,
                        "learn": [
                          0.9713941584,
                          0.1290844164
                        ]
                      },
                      {
                        "test": [
                          0.971483871,
                          0.1335272515
                        ],
                        "passed_time": 1.897229892,
                        "iteration": 35,
                        "remaining_time": 24.45318527,
                        "learn": [
                          0.9714371747,
                          0.1280436936
                        ]
                      },
                      {
                        "test": [
                          0.971483871,
                          0.1327176163
                        ],
                        "passed_time": 1.943562837,
                        "iteration": 36,
                        "remaining_time": 24.32079983,
                        "learn": [
                          0.9713941584,
                          0.1269984741
                        ]
                      },
                      {
                        "test": [
                          0.971483871,
                          0.1318011483
                        ],
                        "passed_time": 1.992336305,
                        "iteration": 37,
                        "remaining_time": 24.22261507,
                        "learn": [
                          0.9714371747,
                          0.1258868653
                        ]
                      },
                      {
                        "test": [
                          0.9716129032,
                          0.1310079988
                        ],
                        "passed_time": 2.044069441,
                        "iteration": 38,
                        "remaining_time": 24.16194903,
                        "learn": [
                          0.971480191,
                          0.1247314473
                        ]
                      },
                      {
                        "test": [
                          0.9716129032,
                          0.1303626742
                        ],
                        "passed_time": 2.101645638,
                        "iteration": 39,
                        "remaining_time": 24.16892483,
                        "learn": [
                          0.9715662236,
                          0.1239066191
                        ]
                      },
                      {
                        "test": [
                          0.9717419355,
                          0.1297708007
                        ],
                        "passed_time": 2.148175772,
                        "iteration": 40,
                        "remaining_time": 24.04908974,
                        "learn": [
                          0.9715662236,
                          0.1230515717
                        ]
                      },
                      {
                        "test": [
                          0.972,
                          0.1291956968
                        ],
                        "passed_time": 2.194115348,
                        "iteration": 41,
                        "remaining_time": 23.92630546,
                        "learn": [
                          0.9717813051,
                          0.1222131134
                        ]
                      },
                      {
                        "test": [
                          0.9718709677,
                          0.1287443926
                        ],
                        "passed_time": 2.245700924,
                        "iteration": 42,
                        "remaining_time": 23.86710052,
                        "learn": [
                          0.9718243214,
                          0.1216032407
                        ]
                      },
                      {
                        "test": [
                          0.9718709677,
                          0.1283309577
                        ],
                        "passed_time": 2.293735872,
                        "iteration": 43,
                        "remaining_time": 23.77144449,
                        "learn": [
                          0.971910354,
                          0.1210588155
                        ]
                      },
                      {
                        "test": [
                          0.9718709677,
                          0.128040876
                        ],
                        "passed_time": 2.340688039,
                        "iteration": 44,
                        "remaining_time": 23.66695684,
                        "learn": [
                          0.971910354,
                          0.1205526678
                        ]
                      },
                      {
                        "test": [
                          0.9718709677,
                          0.1277180775
                        ],
                        "passed_time": 2.388867866,
                        "iteration": 45,
                        "remaining_time": 23.5770872,
                        "learn": [
                          0.9719533703,
                          0.1200262395
                        ]
                      },
                      {
                        "test": [
                          0.9717419355,
                          0.127345329
                        ],
                        "passed_time": 2.435084301,
                        "iteration": 46,
                        "remaining_time": 23.47006784,
                        "learn": [
                          0.9721254355,
                          0.1195990811
                        ]
                      },
                      {
                        "test": [
                          0.9717419355,
                          0.1270101894
                        ],
                        "passed_time": 2.492867892,
                        "iteration": 47,
                        "remaining_time": 23.47450599,
                        "learn": [
                          0.9722114681,
                          0.1189417839
                        ]
                      },
                      {
                        "test": [
                          0.9717419355,
                          0.1268291554
                        ],
                        "passed_time": 2.538746487,
                        "iteration": 48,
                        "remaining_time": 23.36682991,
                        "learn": [
                          0.9722975008,
                          0.1185793624
                        ]
                      },
                      {
                        "test": [
                          0.9717419355,
                          0.1267088673
                        ],
                        "passed_time": 2.585338729,
                        "iteration": 49,
                        "remaining_time": 23.26804856,
                        "learn": [
                          0.9724265497,
                          0.1182852269
                        ]
                      },
                      {
                        "test": [
                          0.9718709677,
                          0.1265492219
                        ],
                        "passed_time": 2.632096882,
                        "iteration": 50,
                        "remaining_time": 23.17277451,
                        "learn": [
                          0.9724265497,
                          0.118053268
                        ]
                      },
                      {
                        "test": [
                          0.9718709677,
                          0.126316582
                        ],
                        "passed_time": 2.69421214,
                        "iteration": 51,
                        "remaining_time": 23.21167382,
                        "learn": [
                          0.972469566,
                          0.1177445302
                        ]
                      },
                      {
                        "test": [
                          0.9718709677,
                          0.1260348566
                        ],
                        "passed_time": 2.746361414,
                        "iteration": 52,
                        "remaining_time": 23.16270853,
                        "learn": [
                          0.9725125823,
                          0.1173577787
                        ]
                      },
                      {
                        "test": [
                          0.9721290323,
                          0.1258917956
                        ],
                        "passed_time": 2.793924955,
                        "iteration": 53,
                        "remaining_time": 23.07575055,
                        "learn": [
                          0.9725555986,
                          0.1171451823
                        ]
                      },
                      {
                        "test": [
                          0.9721290323,
                          0.1257592807
                        ],
                        "passed_time": 2.851824101,
                        "iteration": 54,
                        "remaining_time": 23.07384954,
                        "learn": [
                          0.9725986149,
                          0.1167600993
                        ]
                      },
                      {
                        "test": [
                          0.972,
                          0.1256439482
                        ],
                        "passed_time": 2.898298895,
                        "iteration": 55,
                        "remaining_time": 22.97936981,
                        "learn": [
                          0.9727706801,
                          0.1165652752
                        ]
                      },
                      {
                        "test": [
                          0.9718709677,
                          0.1254493107
                        ],
                        "passed_time": 2.950417405,
                        "iteration": 56,
                        "remaining_time": 22.93043702,
                        "learn": [
                          0.9727706801,
                          0.1161136072
                        ]
                      },
                      {
                        "test": [
                          0.9718709677,
                          0.1253670879
                        ],
                        "passed_time": 2.999939515,
                        "iteration": 57,
                        "remaining_time": 22.86160803,
                        "learn": [
                          0.9727706801,
                          0.1158878981
                        ]
                      },
                      {
                        "test": [
                          0.972,
                          0.1252947582
                        ],
                        "passed_time": 3.046493178,
                        "iteration": 58,
                        "remaining_time": 22.77124562,
                        "learn": [
                          0.9728136964,
                          0.1156624123
                        ]
                      },
                      {
                        "test": [
                          0.972,
                          0.1252020205
                        ],
                        "passed_time": 3.097422272,
                        "iteration": 59,
                        "remaining_time": 22.71442999,
                        "learn": [
                          0.972899729,
                          0.1154613365
                        ]
                      },
                      {
                        "test": [
                          0.972,
                          0.1251432838
                        ],
                        "passed_time": 3.144704559,
                        "iteration": 60,
                        "remaining_time": 22.63156232,
                        "learn": [
                          0.9729427453,
                          0.115220392
                        ]
                      },
                      {
                        "test": [
                          0.972,
                          0.1250699361
                        ],
                        "passed_time": 3.198686873,
                        "iteration": 61,
                        "remaining_time": 22.59717501,
                        "learn": [
                          0.9730287779,
                          0.1149080497
                        ]
                      },
                      {
                        "test": [
                          0.972,
                          0.124985144
                        ],
                        "passed_time": 3.252817073,
                        "iteration": 62,
                        "remaining_time": 22.56319144,
                        "learn": [
                          0.9729857616,
                          0.1146982576
                        ]
                      },
                      {
                        "test": [
                          0.972,
                          0.1248806941
                        ],
                        "passed_time": 3.307153103,
                        "iteration": 63,
                        "remaining_time": 22.52998052,
                        "learn": [
                          0.9731148105,
                          0.1143511399
                        ]
                      },
                      {
                        "test": [
                          0.972,
                          0.124853474
                        ],
                        "passed_time": 3.354713695,
                        "iteration": 64,
                        "remaining_time": 22.45077627,
                        "learn": [
                          0.9731148105,
                          0.1141754565
                        ]
                      },
                      {
                        "test": [
                          0.972,
                          0.1247576352
                        ],
                        "passed_time": 3.403464675,
                        "iteration": 65,
                        "remaining_time": 22.38035862,
                        "learn": [
                          0.9731578268,
                          0.1139244428
                        ]
                      },
                      {
                        "test": [
                          0.972,
                          0.1246915022
                        ],
                        "passed_time": 3.451497317,
                        "iteration": 66,
                        "remaining_time": 22.30594535,
                        "learn": [
                          0.9733729083,
                          0.1136829944
                        ]
                      },
                      {
                        "test": [
                          0.972,
                          0.1246734526
                        ],
                        "passed_time": 3.498339964,
                        "iteration": 67,
                        "remaining_time": 22.22474801,
                        "learn": [
                          0.9733729083,
                          0.1135360567
                        ]
                      },
                      {
                        "test": [
                          0.972,
                          0.1246803159
                        ],
                        "passed_time": 3.548358418,
                        "iteration": 68,
                        "remaining_time": 22.16438374,
                        "learn": [
                          0.9733729083,
                          0.1132983772
                        ]
                      },
                      {
                        "test": [
                          0.972,
                          0.1247082439
                        ],
                        "passed_time": 3.595694166,
                        "iteration": 69,
                        "remaining_time": 22.08783559,
                        "learn": [
                          0.9733729083,
                          0.1130876669
                        ]
                      },
                      {
                        "test": [
                          0.9718709677,
                          0.1247919703
                        ],
                        "passed_time": 3.645722119,
                        "iteration": 70,
                        "remaining_time": 22.02837731,
                        "learn": [
                          0.9733729083,
                          0.1129382232
                        ]
                      },
                      {
                        "test": [
                          0.9718709677,
                          0.124742834
                        ],
                        "passed_time": 3.705918921,
                        "iteration": 71,
                        "remaining_time": 22.02962914,
                        "learn": [
                          0.9734159246,
                          0.1127879958
                        ]
                      },
                      {
                        "test": [
                          0.9718709677,
                          0.1246299498
                        ],
                        "passed_time": 3.757629384,
                        "iteration": 72,
                        "remaining_time": 21.97955818,
                        "learn": [
                          0.9734589409,
                          0.1126512009
                        ]
                      },
                      {
                        "test": [
                          0.9718709677,
                          0.1245874555
                        ],
                        "passed_time": 3.805712786,
                        "iteration": 73,
                        "remaining_time": 21.9085628,
                        "learn": [
                          0.9734589409,
                          0.1124198093
                        ]
                      },
                      {
                        "test": [
                          0.9718709677,
                          0.1245882967
                        ],
                        "passed_time": 3.868184171,
                        "iteration": 74,
                        "remaining_time": 21.9197103,
                        "learn": [
                          0.9735019572,
                          0.1122867363
                        ]
                      },
                      {
                        "test": [
                          0.972,
                          0.1245711078
                        ],
                        "passed_time": 3.916624023,
                        "iteration": 75,
                        "remaining_time": 21.85063928,
                        "learn": [
                          0.9735019572,
                          0.1121860754
                        ]
                      },
                      {
                        "test": [
                          0.972,
                          0.1245020968
                        ],
                        "passed_time": 3.961813552,
                        "iteration": 76,
                        "remaining_time": 21.76424847,
                        "learn": [
                          0.9735449735,
                          0.1120531812
                        ]
                      },
                      {
                        "test": [
                          0.9721290323,
                          0.1244064136
                        ],
                        "passed_time": 4.010089468,
                        "iteration": 77,
                        "remaining_time": 21.69561225,
                        "learn": [
                          0.9737600551,
                          0.1118380653
                        ]
                      },
                      {
                        "test": [
                          0.9721290323,
                          0.1244015055
                        ],
                        "passed_time": 4.062148815,
                        "iteration": 78,
                        "remaining_time": 21.64765381,
                        "learn": [
                          0.9738030714,
                          0.1117084363
                        ]
                      },
                      {
                        "test": [
                          0.9721290323,
                          0.1244319575
                        ],
                        "passed_time": 4.109440813,
                        "iteration": 79,
                        "remaining_time": 21.57456427,
                        "learn": [
                          0.9738030714,
                          0.1115665777
                        ]
                      },
                      {
                        "test": [
                          0.9721290323,
                          0.1244608496
                        ],
                        "passed_time": 4.157782099,
                        "iteration": 80,
                        "remaining_time": 21.5075395,
                        "learn": [
                          0.973889104,
                          0.1113894907
                        ]
                      },
                      {
                        "test": [
                          0.9721290323,
                          0.1244455374
                        ],
                        "passed_time": 4.210235638,
                        "iteration": 81,
                        "remaining_time": 21.46193289,
                        "learn": [
                          0.973889104,
                          0.1112647107
                        ]
                      },
                      {
                        "test": [
                          0.9721290323,
                          0.1244303341
                        ],
                        "passed_time": 4.256527755,
                        "iteration": 82,
                        "remaining_time": 21.38520571,
                        "learn": [
                          0.9739321203,
                          0.1111832632
                        ]
                      },
                      {
                        "test": [
                          0.9721290323,
                          0.1244117915
                        ],
                        "passed_time": 4.304775166,
                        "iteration": 83,
                        "remaining_time": 21.31888654,
                        "learn": [
                          0.9739751366,
                          0.1110925797
                        ]
                      },
                      {
                        "test": [
                          0.972,
                          0.1244208329
                        ],
                        "passed_time": 4.35756332,
                        "iteration": 84,
                        "remaining_time": 21.27516209,
                        "learn": [
                          0.9739321203,
                          0.1109564192
                        ]
                      },
                      {
                        "test": [
                          0.972,
                          0.1243785513
                        ],
                        "passed_time": 4.410157957,
                        "iteration": 85,
                        "remaining_time": 21.23029528,
                        "learn": [
                          0.9739321203,
                          0.1107086022
                        ]
                      },
                      {
                        "test": [
                          0.9718709677,
                          0.1243130772
                        ],
                        "passed_time": 4.459288666,
                        "iteration": 86,
                        "remaining_time": 21.16880712,
                        "learn": [
                          0.9739321203,
                          0.1104789048
                        ]
                      },
                      {
                        "test": [
                          0.9718709677,
                          0.1243335799
                        ],
                        "passed_time": 4.506532134,
                        "iteration": 87,
                        "remaining_time": 21.09876408,
                        "learn": [
                          0.9739751366,
                          0.1104313513
                        ]
                      },
                      {
                        "test": [
                          0.9718709677,
                          0.1243377557
                        ],
                        "passed_time": 4.551958098,
                        "iteration": 88,
                        "remaining_time": 21.0208402,
                        "learn": [
                          0.9740611692,
                          0.1102871436
                        ]
                      },
                      {
                        "test": [
                          0.9718709677,
                          0.1242886696
                        ],
                        "passed_time": 4.602579307,
                        "iteration": 89,
                        "remaining_time": 20.96730573,
                        "learn": [
                          0.9741472018,
                          0.1101745361
                        ]
                      },
                      {
                        "test": [
                          0.9717419355,
                          0.1242559634
                        ],
                        "passed_time": 4.648946901,
                        "iteration": 90,
                        "remaining_time": 20.89471739,
                        "learn": [
                          0.9740611692,
                          0.1100502189
                        ]
                      },
                      {
                        "test": [
                          0.9717419355,
                          0.124275834
                        ],
                        "passed_time": 4.699351836,
                        "iteration": 91,
                        "remaining_time": 20.84060379,
                        "learn": [
                          0.9741472018,
                          0.1098946785
                        ]
                      },
                      {
                        "test": [
                          0.9717419355,
                          0.1242558708
                        ],
                        "passed_time": 4.756230054,
                        "iteration": 92,
                        "remaining_time": 20.81489927,
                        "learn": [
                          0.9741041855,
                          0.1097566604
                        ]
                      },
                      {
                        "test": [
                          0.9717419355,
                          0.1242166616
                        ],
                        "passed_time": 4.80853946,
                        "iteration": 93,
                        "remaining_time": 20.76879809,
                        "learn": [
                          0.9741472018,
                          0.1096009833
                        ]
                      },
                      {
                        "test": [
                          0.9716129032,
                          0.1242627333
                        ],
                        "passed_time": 4.86724138,
                        "iteration": 94,
                        "remaining_time": 20.74981852,
                        "learn": [
                          0.9741902181,
                          0.1094217918
                        ]
                      },
                      {
                        "test": [
                          0.971483871,
                          0.1242867319
                        ],
                        "passed_time": 4.915357785,
                        "iteration": 95,
                        "remaining_time": 20.68546401,
                        "learn": [
                          0.9741902181,
                          0.1092935739
                        ]
                      },
                      {
                        "test": [
                          0.971483871,
                          0.1242862681
                        ],
                        "passed_time": 4.960866523,
                        "iteration": 96,
                        "remaining_time": 20.6106104,
                        "learn": [
                          0.9742332344,
                          0.1091506747
                        ]
                      },
                      {
                        "test": [
                          0.9713548387,
                          0.124371778
                        ],
                        "passed_time": 5.010363752,
                        "iteration": 97,
                        "remaining_time": 20.55271661,
                        "learn": [
                          0.9742762507,
                          0.1089311821
                        ]
                      },
                      {
                        "test": [
                          0.9713548387,
                          0.1243463011
                        ],
                        "passed_time": 5.058038903,
                        "iteration": 98,
                        "remaining_time": 20.48761212,
                        "learn": [
                          0.974319267,
                          0.1088238135
                        ]
                      },
                      {
                        "test": [
                          0.9713548387,
                          0.1243153936
                        ],
                        "passed_time": 5.108643748,
                        "iteration": 99,
                        "remaining_time": 20.43457499,
                        "learn": [
                          0.974319267,
                          0.1087214002
                        ]
                      },
                      {
                        "test": [
                          0.9713548387,
                          0.1242961146
                        ],
                        "passed_time": 5.155210262,
                        "iteration": 100,
                        "remaining_time": 20.36563262,
                        "learn": [
                          0.974319267,
                          0.1085785715
                        ]
                      },
                      {
                        "test": [
                          0.9713548387,
                          0.1242849554
                        ],
                        "passed_time": 5.203509388,
                        "iteration": 101,
                        "remaining_time": 20.30388957,
                        "learn": [
                          0.974319267,
                          0.1084838995
                        ]
                      },
                      {
                        "test": [
                          0.9713548387,
                          0.1242458317
                        ],
                        "passed_time": 5.255109943,
                        "iteration": 102,
                        "remaining_time": 20.2551325,
                        "learn": [
                          0.974319267,
                          0.1083196703
                        ]
                      },
                      {
                        "test": [
                          0.9713548387,
                          0.1242887749
                        ],
                        "passed_time": 5.303783115,
                        "iteration": 103,
                        "remaining_time": 20.19517417,
                        "learn": [
                          0.9742762507,
                          0.1082607276
                        ]
                      },
                      {
                        "test": [
                          0.9713548387,
                          0.1242514729
                        ],
                        "passed_time": 5.35429228,
                        "iteration": 104,
                        "remaining_time": 20.14233762,
                        "learn": [
                          0.974319267,
                          0.1081406731
                        ]
                      },
                      {
                        "test": [
                          0.9713548387,
                          0.1242016412
                        ],
                        "passed_time": 5.402545214,
                        "iteration": 105,
                        "remaining_time": 20.08115862,
                        "learn": [
                          0.9743622833,
                          0.1080724342
                        ]
                      },
                      {
                        "test": [
                          0.9713548387,
                          0.1242093774
                        ],
                        "passed_time": 5.448467547,
                        "iteration": 106,
                        "remaining_time": 20.01166118,
                        "learn": [
                          0.9744052996,
                          0.1079866513
                        ]
                      },
                      {
                        "test": [
                          0.971483871,
                          0.1241377848
                        ],
                        "passed_time": 5.495956167,
                        "iteration": 107,
                        "remaining_time": 19.94828535,
                        "learn": [
                          0.9744052996,
                          0.107831098
                        ]
                      },
                      {
                        "test": [
                          0.971483871,
                          0.1241464339
                        ],
                        "passed_time": 5.543589454,
                        "iteration": 108,
                        "remaining_time": 19.88571997,
                        "learn": [
                          0.9744052996,
                          0.1077030035
                        ]
                      },
                      {
                        "test": [
                          0.9713548387,
                          0.1241336483
                        ],
                        "passed_time": 5.596557985,
                        "iteration": 109,
                        "remaining_time": 19.84234195,
                        "learn": [
                          0.9744052996,
                          0.107600263
                        ]
                      },
                      {
                        "test": [
                          0.9713548387,
                          0.124153775
                        ],
                        "passed_time": 5.646659443,
                        "iteration": 110,
                        "remaining_time": 19.78874345,
                        "learn": [
                          0.9744913322,
                          0.1075126927
                        ]
                      },
                      {
                        "test": [
                          0.9713548387,
                          0.1241103811
                        ],
                        "passed_time": 5.699370763,
                        "iteration": 111,
                        "remaining_time": 19.74424871,
                        "learn": [
                          0.9743622833,
                          0.1073972337
                        ]
                      },
                      {
                        "test": [
                          0.971483871,
                          0.1240889673
                        ],
                        "passed_time": 5.763443313,
                        "iteration": 112,
                        "remaining_time": 19.73851825,
                        "learn": [
                          0.9744483159,
                          0.1072911551
                        ]
                      },
                      {
                        "test": [
                          0.971483871,
                          0.1241456362
                        ],
                        "passed_time": 5.814671513,
                        "iteration": 113,
                        "remaining_time": 19.68827372,
                        "learn": [
                          0.9744483159,
                          0.1071867791
                        ]
                      },
                      {
                        "test": [
                          0.971483871,
                          0.1241630603
                        ],
                        "passed_time": 5.877700977,
                        "iteration": 114,
                        "remaining_time": 19.67752066,
                        "learn": [
                          0.9744483159,
                          0.1070154512
                        ]
                      },
                      {
                        "test": [
                          0.971483871,
                          0.1241614833
                        ],
                        "passed_time": 5.932361204,
                        "iteration": 115,
                        "remaining_time": 19.63816123,
                        "learn": [
                          0.9744483159,
                          0.1069512628
                        ]
                      },
                      {
                        "test": [
                          0.971483871,
                          0.1241133369
                        ],
                        "passed_time": 5.987513161,
                        "iteration": 116,
                        "remaining_time": 19.60014992,
                        "learn": [
                          0.9744483159,
                          0.1067827561
                        ]
                      },
                      {
                        "test": [
                          0.971483871,
                          0.12412223
                        ],
                        "passed_time": 6.040136338,
                        "iteration": 117,
                        "remaining_time": 19.55366171,
                        "learn": [
                          0.9745773648,
                          0.1067515088
                        ]
                      },
                      {
                        "test": [
                          0.971483871,
                          0.1241046669
                        ],
                        "passed_time": 6.09222215,
                        "iteration": 118,
                        "remaining_time": 19.50534991,
                        "learn": [
                          0.9745773648,
                          0.1066618777
                        ]
                      },
                      {
                        "test": [
                          0.971483871,
                          0.1240887653
                        ],
                        "passed_time": 6.146716543,
                        "iteration": 119,
                        "remaining_time": 19.46460239,
                        "learn": [
                          0.9745343485,
                          0.1065961674
                        ]
                      },
                      {
                        "test": [
                          0.971483871,
                          0.1241425689
                        ],
                        "passed_time": 6.195906732,
                        "iteration": 120,
                        "remaining_time": 19.40701365,
                        "learn": [
                          0.9744913322,
                          0.1064793941
                        ]
                      },
                      {
                        "test": [
                          0.971483871,
                          0.1241439185
                        ],
                        "passed_time": 6.252402992,
                        "iteration": 121,
                        "remaining_time": 19.37219943,
                        "learn": [
                          0.9745343485,
                          0.10639052
                        ]
                      },
                      {
                        "test": [
                          0.971483871,
                          0.1241149521
                        ],
                        "passed_time": 6.304551207,
                        "iteration": 122,
                        "remaining_time": 19.32370573,
                        "learn": [
                          0.9745773648,
                          0.1063026482
                        ]
                      },
                      {
                        "test": [
                          0.9713548387,
                          0.1240781759
                        ],
                        "passed_time": 6.355930043,
                        "iteration": 123,
                        "remaining_time": 19.27282013,
                        "learn": [
                          0.9746203811,
                          0.1061518941
                        ]
                      },
                      {
                        "test": [
                          0.9713548387,
                          0.1240678433
                        ],
                        "passed_time": 6.408477828,
                        "iteration": 124,
                        "remaining_time": 19.22543348,
                        "learn": [
                          0.97474943,
                          0.1060634449
                        ]
                      },
                      {
                        "test": [
                          0.9713548387,
                          0.1240600971
                        ],
                        "passed_time": 6.458310292,
                        "iteration": 125,
                        "remaining_time": 19.16990515,
                        "learn": [
                          0.9747064137,
                          0.1059247521
                        ]
                      },
                      {
                        "test": [
                          0.9713548387,
                          0.124071171
                        ],
                        "passed_time": 6.510668756,
                        "iteration": 126,
                        "remaining_time": 19.1218854,
                        "learn": [
                          0.9746633974,
                          0.1058383253
                        ]
                      },
                      {
                        "test": [
                          0.9712258065,
                          0.1240635021
                        ],
                        "passed_time": 6.563973538,
                        "iteration": 127,
                        "remaining_time": 19.0765481,
                        "learn": [
                          0.9747064137,
                          0.1057595544
                        ]
                      },
                      {
                        "test": [
                          0.9710967742,
                          0.1240584411
                        ],
                        "passed_time": 6.615097741,
                        "iteration": 128,
                        "remaining_time": 19.02481599,
                        "learn": [
                          0.9747064137,
                          0.1057026897
                        ]
                      },
                      {
                        "test": [
                          0.9712258065,
                          0.1239800139
                        ],
                        "passed_time": 6.66659429,
                        "iteration": 129,
                        "remaining_time": 18.97415298,
                        "learn": [
                          0.97474943,
                          0.1055855494
                        ]
                      },
                      {
                        "test": [
                          0.9712258065,
                          0.1239789928
                        ],
                        "passed_time": 6.716201376,
                        "iteration": 130,
                        "remaining_time": 18.91815502,
                        "learn": [
                          0.9746633974,
                          0.1055037197
                        ]
                      },
                      {
                        "test": [
                          0.9712258065,
                          0.1240022089
                        ],
                        "passed_time": 6.77858479,
                        "iteration": 131,
                        "remaining_time": 18.89787275,
                        "learn": [
                          0.9746633974,
                          0.1054308565
                        ]
                      },
                      {
                        "test": [
                          0.9712258065,
                          0.1239707092
                        ],
                        "passed_time": 6.829441297,
                        "iteration": 132,
                        "remaining_time": 18.84515004,
                        "learn": [
                          0.9746633974,
                          0.1052682967
                        ]
                      },
                      {
                        "test": [
                          0.971483871,
                          0.1239590804
                        ],
                        "passed_time": 6.890671033,
                        "iteration": 133,
                        "remaining_time": 18.82078805,
                        "learn": [
                          0.97474943,
                          0.1051437757
                        ]
                      },
                      {
                        "test": [
                          0.971483871,
                          0.1239896855
                        ],
                        "passed_time": 6.948109828,
                        "iteration": 134,
                        "remaining_time": 18.78563028,
                        "learn": [
                          0.9746633974,
                          0.1050206508
                        ]
                      },
                      {
                        "test": [
                          0.971483871,
                          0.124005824
                        ],
                        "passed_time": 7.000783398,
                        "iteration": 135,
                        "remaining_time": 18.73739086,
                        "learn": [
                          0.9746633974,
                          0.1049408213
                        ]
                      },
                      {
                        "test": [
                          0.9713548387,
                          0.1239510075
                        ],
                        "passed_time": 7.051196766,
                        "iteration": 136,
                        "remaining_time": 18.683098,
                        "learn": [
                          0.9747064137,
                          0.1048504869
                        ]
                      },
                      {
                        "test": [
                          0.9713548387,
                          0.123927239
                        ],
                        "passed_time": 7.102670238,
                        "iteration": 137,
                        "remaining_time": 18.63164222,
                        "learn": [
                          0.9748354626,
                          0.1047170381
                        ]
                      },
                      {
                        "test": [
                          0.9713548387,
                          0.1238877308
                        ],
                        "passed_time": 7.155584272,
                        "iteration": 138,
                        "remaining_time": 18.5839275,
                        "learn": [
                          0.9749214952,
                          0.1045767009
                        ]
                      },
                      {
                        "test": [
                          0.9713548387,
                          0.1238536411
                        ],
                        "passed_time": 7.211959155,
                        "iteration": 139,
                        "remaining_time": 18.54503783,
                        "learn": [
                          0.9748784789,
                          0.1045058097
                        ]
                      },
                      {
                        "test": [
                          0.9713548387,
                          0.123876654
                        ],
                        "passed_time": 7.261037636,
                        "iteration": 140,
                        "remaining_time": 18.48732277,
                        "learn": [
                          0.9749214952,
                          0.104428947
                        ]
                      },
                      {
                        "test": [
                          0.9712258065,
                          0.1238503793
                        ],
                        "passed_time": 7.311065521,
                        "iteration": 141,
                        "remaining_time": 18.43212293,
                        "learn": [
                          0.9749645115,
                          0.1043271384
                        ]
                      },
                      {
                        "test": [
                          0.9712258065,
                          0.1238014565
                        ],
                        "passed_time": 7.362394828,
                        "iteration": 142,
                        "remaining_time": 18.38024443,
                        "learn": [
                          0.9749645115,
                          0.1042509209
                        ]
                      },
                      {
                        "test": [
                          0.9710967742,
                          0.12376567
                        ],
                        "passed_time": 7.419150272,
                        "iteration": 143,
                        "remaining_time": 18.34178817,
                        "learn": [
                          0.9750075279,
                          0.1041696253
                        ]
                      },
                      {
                        "test": [
                          0.9710967742,
                          0.1238019759
                        ],
                        "passed_time": 7.473534384,
                        "iteration": 144,
                        "remaining_time": 18.29727384,
                        "learn": [
                          0.9750075279,
                          0.1041002144
                        ]
                      },
                      {
                        "test": [
                          0.9709677419,
                          0.1238751423
                        ],
                        "passed_time": 7.52386818,
                        "iteration": 145,
                        "remaining_time": 18.24280367,
                        "learn": [
                          0.9750075279,
                          0.103979254
                        ]
                      },
                      {
                        "test": [
                          0.9708387097,
                          0.1238937715
                        ],
                        "passed_time": 7.573432431,
                        "iteration": 146,
                        "remaining_time": 18.18654182,
                        "learn": [
                          0.9750505442,
                          0.1038919557
                        ]
                      },
                      {
                        "test": [
                          0.9709677419,
                          0.1238691195
                        ],
                        "passed_time": 7.621831803,
                        "iteration": 147,
                        "remaining_time": 18.12759996,
                        "learn": [
                          0.9750935605,
                          0.1037776917
                        ]
                      },
                      {
                        "test": [
                          0.9709677419,
                          0.1238512142
                        ],
                        "passed_time": 7.668995669,
                        "iteration": 148,
                        "remaining_time": 18.06588913,
                        "learn": [
                          0.9750935605,
                          0.1037281364
                        ]
                      },
                      {
                        "test": [
                          0.9708387097,
                          0.123825158
                        ],
                        "passed_time": 7.717389746,
                        "iteration": 149,
                        "remaining_time": 18.00724274,
                        "learn": [
                          0.9750935605,
                          0.1036682102
                        ]
                      },
                      {
                        "test": [
                          0.9710967742,
                          0.1238716645
                        ],
                        "passed_time": 7.773468374,
                        "iteration": 150,
                        "remaining_time": 17.96649313,
                        "learn": [
                          0.9751795931,
                          0.1035684204
                        ]
                      },
                      {
                        "test": [
                          0.9712258065,
                          0.1238249117
                        ],
                        "passed_time": 7.822850618,
                        "iteration": 151,
                        "remaining_time": 17.91021063,
                        "learn": [
                          0.9751365768,
                          0.1034625703
                        ]
                      },
                      {
                        "test": [
                          0.9712258065,
                          0.123863522
                        ],
                        "passed_time": 7.868221398,
                        "iteration": 152,
                        "remaining_time": 17.84492043,
                        "learn": [
                          0.9751365768,
                          0.1033900106
                        ]
                      },
                      {
                        "test": [
                          0.9712258065,
                          0.1238415179
                        ],
                        "passed_time": 7.934000527,
                        "iteration": 153,
                        "remaining_time": 17.82574144,
                        "learn": [
                          0.9751365768,
                          0.1033225943
                        ]
                      },
                      {
                        "test": [
                          0.9713548387,
                          0.1238673339
                        ],
                        "passed_time": 7.980737018,
                        "iteration": 154,
                        "remaining_time": 17.76357594,
                        "learn": [
                          0.9751365768,
                          0.1032594007
                        ]
                      },
                      {
                        "test": [
                          0.9713548387,
                          0.1238580411
                        ],
                        "passed_time": 8.033228162,
                        "iteration": 155,
                        "remaining_time": 17.714298,
                        "learn": [
                          0.9752226094,
                          0.1031664339
                        ]
                      },
                      {
                        "test": [
                          0.9712258065,
                          0.1238305486
                        ],
                        "passed_time": 8.080408928,
                        "iteration": 156,
                        "remaining_time": 17.65337747,
                        "learn": [
                          0.9752226094,
                          0.103102364
                        ]
                      },
                      {
                        "test": [
                          0.9713548387,
                          0.1238445778
                        ],
                        "passed_time": 8.13347103,
                        "iteration": 157,
                        "remaining_time": 17.60536134,
                        "learn": [
                          0.9752656257,
                          0.1030280748
                        ]
                      },
                      {
                        "test": [
                          0.9713548387,
                          0.1238603268
                        ],
                        "passed_time": 8.186239585,
                        "iteration": 158,
                        "remaining_time": 17.55665219,
                        "learn": [
                          0.975308642,
                          0.1029524657
                        ]
                      },
                      {
                        "test": [
                          0.9713548387,
                          0.123882232
                        ],
                        "passed_time": 8.233633217,
                        "iteration": 159,
                        "remaining_time": 17.49647059,
                        "learn": [
                          0.975308642,
                          0.1028300612
                        ]
                      },
                      {
                        "test": [
                          0.9716129032,
                          0.1239145859
                        ],
                        "passed_time": 8.282327512,
                        "iteration": 160,
                        "remaining_time": 17.4391865,
                        "learn": [
                          0.9754376909,
                          0.102684821
                        ]
                      },
                      {
                        "test": [
                          0.9713548387,
                          0.1239189733
                        ],
                        "passed_time": 8.335313583,
                        "iteration": 161,
                        "remaining_time": 17.39096291,
                        "learn": [
                          0.9753516583,
                          0.1026064987
                        ]
                      },
                      {
                        "test": [
                          0.9717419355,
                          0.1239442934
                        ],
                        "passed_time": 8.382368431,
                        "iteration": 162,
                        "remaining_time": 17.33041817,
                        "learn": [
                          0.9753516583,
                          0.1025306332
                        ]
                      },
                      {
                        "test": [
                          0.9716129032,
                          0.1239472466
                        ],
                        "passed_time": 8.428426777,
                        "iteration": 163,
                        "remaining_time": 17.26799632,
                        "learn": [
                          0.9754376909,
                          0.1024036563
                        ]
                      },
                      {
                        "test": [
                          0.971483871,
                          0.1239514524
                        ],
                        "passed_time": 8.475836127,
                        "iteration": 164,
                        "remaining_time": 17.20851577,
                        "learn": [
                          0.9753946746,
                          0.1022848468
                        ]
                      },
                      {
                        "test": [
                          0.9716129032,
                          0.123946926
                        ],
                        "passed_time": 8.52264338,
                        "iteration": 165,
                        "remaining_time": 17.14796921,
                        "learn": [
                          0.9753946746,
                          0.1021925131
                        ]
                      },
                      {
                        "test": [
                          0.971483871,
                          0.1239698885
                        ],
                        "passed_time": 8.573454964,
                        "iteration": 166,
                        "remaining_time": 17.09557187,
                        "learn": [
                          0.9754807072,
                          0.1020552617
                        ]
                      },
                      {
                        "test": [
                          0.971483871,
                          0.1239815508
                        ],
                        "passed_time": 8.62030092,
                        "iteration": 167,
                        "remaining_time": 17.03535658,
                        "learn": [
                          0.9755667398,
                          0.1019968631
                        ]
                      },
                      {
                        "test": [
                          0.9716129032,
                          0.1239667512
                        ],
                        "passed_time": 8.667771611,
                        "iteration": 168,
                        "remaining_time": 16.9765231,
                        "learn": [
                          0.9756097561,
                          0.1019159894
                        ]
                      },
                      {
                        "test": [
                          0.9716129032,
                          0.1239344806
                        ],
                        "passed_time": 8.716673633,
                        "iteration": 169,
                        "remaining_time": 16.92060176,
                        "learn": [
                          0.9756097561,
                          0.1018671327
                        ]
                      },
                      {
                        "test": [
                          0.971483871,
                          0.1239411175
                        ],
                        "passed_time": 8.767910859,
                        "iteration": 170,
                        "remaining_time": 16.8692554,
                        "learn": [
                          0.9755667398,
                          0.1017656989
                        ]
                      },
                      {
                        "test": [
                          0.971483871,
                          0.1239057798
                        ],
                        "passed_time": 8.8257967,
                        "iteration": 171,
                        "remaining_time": 16.83058906,
                        "learn": [
                          0.9755667398,
                          0.1017223635
                        ]
                      },
                      {
                        "test": [
                          0.9716129032,
                          0.1239124626
                        ],
                        "passed_time": 8.871955914,
                        "iteration": 172,
                        "remaining_time": 16.76953517,
                        "learn": [
                          0.9756957887,
                          0.101665165
                        ]
                      },
                      {
                        "test": [
                          0.9716129032,
                          0.1239050253
                        ],
                        "passed_time": 8.93709187,
                        "iteration": 173,
                        "remaining_time": 16.74420661,
                        "learn": [
                          0.9756527724,
                          0.1015921327
                        ]
                      },
                      {
                        "test": [
                          0.9716129032,
                          0.1239273284
                        ],
                        "passed_time": 8.990477429,
                        "iteration": 174,
                        "remaining_time": 16.69660094,
                        "learn": [
                          0.9756097561,
                          0.1014989264
                        ]
                      },
                      {
                        "test": [
                          0.9716129032,
                          0.1239345643
                        ],
                        "passed_time": 9.044046954,
                        "iteration": 175,
                        "remaining_time": 16.64926826,
                        "learn": [
                          0.9756527724,
                          0.1013471296
                        ]
                      },
                      {
                        "test": [
                          0.971483871,
                          0.1239383377
                        ],
                        "passed_time": 9.092020027,
                        "iteration": 176,
                        "remaining_time": 16.59165237,
                        "learn": [
                          0.9756527724,
                          0.1013087159
                        ]
                      },
                      {
                        "test": [
                          0.9716129032,
                          0.123914459
                        ],
                        "passed_time": 9.137922711,
                        "iteration": 177,
                        "remaining_time": 16.53039951,
                        "learn": [
                          0.9756097561,
                          0.1012520253
                        ]
                      },
                      {
                        "test": [
                          0.9716129032,
                          0.1238625143
                        ],
                        "passed_time": 9.185507517,
                        "iteration": 178,
                        "remaining_time": 16.47233471,
                        "learn": [
                          0.9756097561,
                          0.1010517581
                        ]
                      },
                      {
                        "test": [
                          0.9716129032,
                          0.1238501204
                        ],
                        "passed_time": 9.232491337,
                        "iteration": 179,
                        "remaining_time": 16.41331793,
                        "learn": [
                          0.9756527724,
                          0.1009827967
                        ]
                      },
                      {
                        "test": [
                          0.9716129032,
                          0.1238587481
                        ],
                        "passed_time": 9.278122275,
                        "iteration": 180,
                        "remaining_time": 16.35204976,
                        "learn": [
                          0.9756527724,
                          0.1009331351
                        ]
                      },
                      {
                        "test": [
                          0.9716129032,
                          0.1238809209
                        ],
                        "passed_time": 9.326431265,
                        "iteration": 181,
                        "remaining_time": 16.29563265,
                        "learn": [
                          0.9756957887,
                          0.1008444131
                        ]
                      },
                      {
                        "test": [
                          0.9717419355,
                          0.1238534453
                        ],
                        "passed_time": 9.37263369,
                        "iteration": 182,
                        "remaining_time": 16.23565508,
                        "learn": [
                          0.975738805,
                          0.1007559665
                        ]
                      },
                      {
                        "test": [
                          0.9717419355,
                          0.1238701475
                        ],
                        "passed_time": 9.420728431,
                        "iteration": 183,
                        "remaining_time": 16.17907709,
                        "learn": [
                          0.9756957887,
                          0.1006451155
                        ]
                      },
                      {
                        "test": [
                          0.9717419355,
                          0.123862525
                        ],
                        "passed_time": 9.466710662,
                        "iteration": 184,
                        "remaining_time": 16.11899383,
                        "learn": [
                          0.975738805,
                          0.1006092815
                        ]
                      },
                      {
                        "test": [
                          0.9717419355,
                          0.1238263256
                        ],
                        "passed_time": 9.519085872,
                        "iteration": 185,
                        "remaining_time": 16.06985464,
                        "learn": [
                          0.9757818213,
                          0.1005355631
                        ]
                      },
                      {
                        "test": [
                          0.9717419355,
                          0.1238259248
                        ],
                        "passed_time": 9.567389283,
                        "iteration": 186,
                        "remaining_time": 16.01386548,
                        "learn": [
                          0.9757818213,
                          0.1004216022
                        ]
                      },
                      {
                        "test": [
                          0.9717419355,
                          0.1238403359
                        ],
                        "passed_time": 9.614894687,
                        "iteration": 187,
                        "remaining_time": 15.95663374,
                        "learn": [
                          0.9757818213,
                          0.1003329381
                        ]
                      },
                      {
                        "test": [
                          0.9717419355,
                          0.1238358374
                        ],
                        "passed_time": 9.664782017,
                        "iteration": 188,
                        "remaining_time": 15.90342438,
                        "learn": [
                          0.9758248376,
                          0.1002583581
                        ]
                      },
                      {
                        "test": [
                          0.9717419355,
                          0.1238719318
                        ],
                        "passed_time": 9.714900707,
                        "iteration": 189,
                        "remaining_time": 15.85062747,
                        "learn": [
                          0.9758248376,
                          0.1001968764
                        ]
                      },
                      {
                        "test": [
                          0.9717419355,
                          0.1238774697
                        ],
                        "passed_time": 9.766627882,
                        "iteration": 190,
                        "remaining_time": 15.80046081,
                        "learn": [
                          0.9759108702,
                          0.100080048
                        ]
                      },
                      {
                        "test": [
                          0.9717419355,
                          0.1239044562
                        ],
                        "passed_time": 9.828681124,
                        "iteration": 191,
                        "remaining_time": 15.76684264,
                        "learn": [
                          0.9759969028,
                          0.09995257818
                        ]
                      },
                      {
                        "test": [
                          0.9717419355,
                          0.1239126545
                        ],
                        "passed_time": 9.879543466,
                        "iteration": 192,
                        "remaining_time": 15.71512873,
                        "learn": [
                          0.9759969028,
                          0.09982023064
                        ]
                      },
                      {
                        "test": [
                          0.9717419355,
                          0.123912194
                        ],
                        "passed_time": 9.948017502,
                        "iteration": 193,
                        "remaining_time": 15.69120286,
                        "learn": [
                          0.9760829354,
                          0.09970639965
                        ]
                      },
                      {
                        "test": [
                          0.9717419355,
                          0.1239211305
                        ],
                        "passed_time": 10.01152266,
                        "iteration": 194,
                        "remaining_time": 15.65904827,
                        "learn": [
                          0.9760829354,
                          0.09960750427
                        ]
                      },
                      {
                        "test": [
                          0.9717419355,
                          0.1239275746
                        ],
                        "passed_time": 10.07513449,
                        "iteration": 195,
                        "remaining_time": 15.62673921,
                        "learn": [
                          0.9760829354,
                          0.09950200546
                        ]
                      },
                      {
                        "test": [
                          0.9716129032,
                          0.12393404
                        ],
                        "passed_time": 10.13412779,
                        "iteration": 196,
                        "remaining_time": 15.58700873,
                        "learn": [
                          0.9760399191,
                          0.09937470366
                        ]
                      },
                      {
                        "test": [
                          0.971483871,
                          0.1239461021
                        ],
                        "passed_time": 10.19032913,
                        "iteration": 197,
                        "remaining_time": 15.54282524,
                        "learn": [
                          0.9760399191,
                          0.09928984015
                        ]
                      },
                      {
                        "test": [
                          0.971483871,
                          0.1239525348
                        ],
                        "passed_time": 10.24370954,
                        "iteration": 198,
                        "remaining_time": 15.49425413,
                        "learn": [
                          0.9760829354,
                          0.09920782332
                        ]
                      },
                      {
                        "test": [
                          0.9716129032,
                          0.123973404
                        ],
                        "passed_time": 10.29397046,
                        "iteration": 199,
                        "remaining_time": 15.44095569,
                        "learn": [
                          0.9760829354,
                          0.09911249857
                        ]
                      },
                      {
                        "test": [
                          0.971483871,
                          0.1239871093
                        ],
                        "passed_time": 10.34491794,
                        "iteration": 200,
                        "remaining_time": 15.38870878,
                        "learn": [
                          0.9760829354,
                          0.09899538066
                        ]
                      },
                      {
                        "test": [
                          0.9716129032,
                          0.1240037883
                        ],
                        "passed_time": 10.39650932,
                        "iteration": 201,
                        "remaining_time": 15.33742464,
                        "learn": [
                          0.9760829354,
                          0.09894641511
                        ]
                      },
                      {
                        "test": [
                          0.9716129032,
                          0.1240004237
                        ],
                        "passed_time": 10.44673693,
                        "iteration": 202,
                        "remaining_time": 15.28414221,
                        "learn": [
                          0.9761259517,
                          0.09886177201
                        ]
                      },
                      {
                        "test": [
                          0.9716129032,
                          0.1239716445
                        ],
                        "passed_time": 10.49792208,
                        "iteration": 203,
                        "remaining_time": 15.23227909,
                        "learn": [
                          0.976168968,
                          0.09876349015
                        ]
                      },
                      {
                        "test": [
                          0.971483871,
                          0.1239521148
                        ],
                        "passed_time": 10.55104007,
                        "iteration": 204,
                        "remaining_time": 15.183204,
                        "learn": [
                          0.976168968,
                          0.09867031278
                        ]
                      },
                      {
                        "test": [
                          0.9717419355,
                          0.1239495037
                        ],
                        "passed_time": 10.60106253,
                        "iteration": 205,
                        "remaining_time": 15.12967176,
                        "learn": [
                          0.9762119843,
                          0.09860541981
                        ]
                      },
                      {
                        "test": [
                          0.9717419355,
                          0.1239584285
                        ],
                        "passed_time": 10.65262482,
                        "iteration": 206,
                        "remaining_time": 15.07835301,
                        "learn": [
                          0.9761259517,
                          0.09857152047
                        ]
                      },
                      {
                        "test": [
                          0.9716129032,
                          0.1239772713
                        ],
                        "passed_time": 10.70706683,
                        "iteration": 207,
                        "remaining_time": 15.03107458,
                        "learn": [
                          0.9762119843,
                          0.09847411023
                        ]
                      },
                      {
                        "test": [
                          0.9718709677,
                          0.1239515062
                        ],
                        "passed_time": 10.75646176,
                        "iteration": 208,
                        "remaining_time": 14.97670034,
                        "learn": [
                          0.976168968,
                          0.09840945447
                        ]
                      },
                      {
                        "test": [
                          0.9718709677,
                          0.1239308243
                        ],
                        "passed_time": 10.80754422,
                        "iteration": 209,
                        "remaining_time": 14.92470392,
                        "learn": [
                          0.976168968,
                          0.09828661369
                        ]
                      },
                      {
                        "test": [
                          0.9718709677,
                          0.1238899604
                        ],
                        "passed_time": 10.87574249,
                        "iteration": 210,
                        "remaining_time": 14.89615915,
                        "learn": [
                          0.9762119843,
                          0.09820848779
                        ]
                      },
                      {
                        "test": [
                          0.9717419355,
                          0.1239000673
                        ],
                        "passed_time": 10.92926948,
                        "iteration": 211,
                        "remaining_time": 14.84730948,
                        "learn": [
                          0.9762119843,
                          0.09813185349
                        ]
                      },
                      {
                        "test": [
                          0.9718709677,
                          0.1238818947
                        ],
                        "passed_time": 11.01055594,
                        "iteration": 212,
                        "remaining_time": 14.8358195,
                        "learn": [
                          0.976168968,
                          0.09803741972
                        ]
                      },
                      {
                        "test": [
                          0.9718709677,
                          0.1238957551
                        ],
                        "passed_time": 11.06201843,
                        "iteration": 213,
                        "remaining_time": 14.78381902,
                        "learn": [
                          0.9762119843,
                          0.09792522238
                        ]
                      },
                      {
                        "test": [
                          0.9718709677,
                          0.1238965331
                        ],
                        "passed_time": 11.11476539,
                        "iteration": 214,
                        "remaining_time": 14.73352621,
                        "learn": [
                          0.9762119843,
                          0.09788931285
                        ]
                      },
                      {
                        "test": [
                          0.9718709677,
                          0.1238908791
                        ],
                        "passed_time": 11.17059054,
                        "iteration": 215,
                        "remaining_time": 14.68725793,
                        "learn": [
                          0.9762550006,
                          0.09779400854
                        ]
                      },
                      {
                        "test": [
                          0.9718709677,
                          0.1238598824
                        ],
                        "passed_time": 11.21912375,
                        "iteration": 216,
                        "remaining_time": 14.6313918,
                        "learn": [
                          0.9762980169,
                          0.09774100796
                        ]
                      },
                      {
                        "test": [
                          0.972,
                          0.1238457976
                        ],
                        "passed_time": 11.27378359,
                        "iteration": 217,
                        "remaining_time": 14.58351822,
                        "learn": [
                          0.9762980169,
                          0.09767393193
                        ]
                      },
                      {
                        "test": [
                          0.972,
                          0.1238295674
                        ],
                        "passed_time": 11.32453796,
                        "iteration": 218,
                        "remaining_time": 14.53057154,
                        "learn": [
                          0.9762980169,
                          0.0975956902
                        ]
                      },
                      {
                        "test": [
                          0.972,
                          0.1238275633
                        ],
                        "passed_time": 11.3796152,
                        "iteration": 219,
                        "remaining_time": 14.48314661,
                        "learn": [
                          0.9762550006,
                          0.09755215529
                        ]
                      },
                      {
                        "test": [
                          0.972,
                          0.1238686617
                        ],
                        "passed_time": 11.43358968,
                        "iteration": 220,
                        "remaining_time": 14.43426028,
                        "learn": [
                          0.9762980169,
                          0.09745902642
                        ]
                      },
                      {
                        "test": [
                          0.972,
                          0.1237846706
                        ],
                        "passed_time": 11.48629763,
                        "iteration": 221,
                        "remaining_time": 14.38374208,
                        "learn": [
                          0.9762980169,
                          0.09734302712
                        ]
                      },
                      {
                        "test": [
                          0.972,
                          0.1237710993
                        ],
                        "passed_time": 11.538476,
                        "iteration": 222,
                        "remaining_time": 14.33254642,
                        "learn": [
                          0.9762980169,
                          0.09727013951
                        ]
                      },
                      {
                        "test": [
                          0.972,
                          0.1237639866
                        ],
                        "passed_time": 11.58683205,
                        "iteration": 223,
                        "remaining_time": 14.27663234,
                        "learn": [
                          0.9762980169,
                          0.09722123702
                        ]
                      },
                      {
                        "test": [
                          0.972,
                          0.1238098902
                        ],
                        "passed_time": 11.63564301,
                        "iteration": 224,
                        "remaining_time": 14.22134146,
                        "learn": [
                          0.9762980169,
                          0.0971584163
                        ]
                      },
                      {
                        "test": [
                          0.972,
                          0.1238276587
                        ],
                        "passed_time": 11.69264861,
                        "iteration": 225,
                        "remaining_time": 14.176043,
                        "learn": [
                          0.9762980169,
                          0.09705442043
                        ]
                      },
                      {
                        "test": [
                          0.972,
                          0.1238993757
                        ],
                        "passed_time": 11.75187566,
                        "iteration": 226,
                        "remaining_time": 14.13331302,
                        "learn": [
                          0.9762980169,
                          0.09690687744
                        ]
                      },
                      {
                        "test": [
                          0.972,
                          0.1238941323
                        ],
                        "passed_time": 11.79962014,
                        "iteration": 227,
                        "remaining_time": 14.07673982,
                        "learn": [
                          0.9762980169,
                          0.09687151362
                        ]
                      },
                      {
                        "test": [
                          0.972,
                          0.1238734173
                        ],
                        "passed_time": 11.84838489,
                        "iteration": 228,
                        "remaining_time": 14.02145111,
                        "learn": [
                          0.9762980169,
                          0.09680392192
                        ]
                      },
                      {
                        "test": [
                          0.9718709677,
                          0.1238783101
                        ],
                        "passed_time": 11.90601882,
                        "iteration": 229,
                        "remaining_time": 13.97663079,
                        "learn": [
                          0.9763410333,
                          0.09672817313
                        ]
                      },
                      {
                        "test": [
                          0.972,
                          0.1238928766
                        ],
                        "passed_time": 11.95384897,
                        "iteration": 230,
                        "remaining_time": 13.920283,
                        "learn": [
                          0.9763410333,
                          0.09666449252
                        ]
                      },
                      {
                        "test": [
                          0.972,
                          0.1239077503
                        ],
                        "passed_time": 12.02754575,
                        "iteration": 231,
                        "remaining_time": 13.89388905,
                        "learn": [
                          0.9763410333,
                          0.09659957664
                        ]
                      },
                      {
                        "test": [
                          0.972,
                          0.1239161331
                        ],
                        "passed_time": 12.07724085,
                        "iteration": 232,
                        "remaining_time": 13.83958501,
                        "learn": [
                          0.9763410333,
                          0.09654079095
                        ]
                      },
                      {
                        "test": [
                          0.9717419355,
                          0.1239916809
                        ],
                        "passed_time": 12.12437188,
                        "iteration": 233,
                        "remaining_time": 13.78240564,
                        "learn": [
                          0.9763840496,
                          0.09640450022
                        ]
                      },
                      {
                        "test": [
                          0.9717419355,
                          0.1240155165
                        ],
                        "passed_time": 12.17621977,
                        "iteration": 234,
                        "remaining_time": 13.7306308,
                        "learn": [
                          0.9763840496,
                          0.09633239916
                        ]
                      },
                      {
                        "test": [
                          0.9717419355,
                          0.1240260203
                        ],
                        "passed_time": 12.22616175,
                        "iteration": 235,
                        "remaining_time": 13.67672332,
                        "learn": [
                          0.9763840496,
                          0.09627649257
                        ]
                      },
                      {
                        "test": [
                          0.9717419355,
                          0.1240610786
                        ],
                        "passed_time": 12.27386335,
                        "iteration": 236,
                        "remaining_time": 13.62036313,
                        "learn": [
                          0.9763840496,
                          0.09614084157
                        ]
                      },
                      {
                        "test": [
                          0.9717419355,
                          0.1240685283
                        ],
                        "passed_time": 12.32064086,
                        "iteration": 237,
                        "remaining_time": 13.56305843,
                        "learn": [
                          0.9764270659,
                          0.09609143536
                        ]
                      },
                      {
                        "test": [
                          0.9717419355,
                          0.1240744005
                        ],
                        "passed_time": 12.37048074,
                        "iteration": 238,
                        "remaining_time": 13.50918608,
                        "learn": [
                          0.9764270659,
                          0.0960408586
                        ]
                      },
                      {
                        "test": [
                          0.9717419355,
                          0.1240568111
                        ],
                        "passed_time": 12.42334638,
                        "iteration": 239,
                        "remaining_time": 13.45862525,
                        "learn": [
                          0.9763840496,
                          0.09597332881
                        ]
                      },
                      {
                        "test": [
                          0.9717419355,
                          0.1240644419
                        ],
                        "passed_time": 12.4691822,
                        "iteration": 240,
                        "remaining_time": 13.40049042,
                        "learn": [
                          0.9764270659,
                          0.09590383856
                        ]
                      },
                      {
                        "test": [
                          0.9718709677,
                          0.1240204164
                        ],
                        "passed_time": 12.51535123,
                        "iteration": 241,
                        "remaining_time": 13.34281247,
                        "learn": [
                          0.9764270659,
                          0.09585741666
                        ]
                      },
                      {
                        "test": [
                          0.9717419355,
                          0.1240032177
                        ],
                        "passed_time": 12.56070201,
                        "iteration": 242,
                        "remaining_time": 13.28436386,
                        "learn": [
                          0.9763840496,
                          0.09580924422
                        ]
                      },
                      {
                        "test": [
                          0.9717419355,
                          0.1240011443
                        ],
                        "passed_time": 12.6097709,
                        "iteration": 243,
                        "remaining_time": 13.22992357,
                        "learn": [
                          0.9763840496,
                          0.0957617967
                        ]
                      },
                      {
                        "test": [
                          0.9717419355,
                          0.1239968824
                        ],
                        "passed_time": 12.65658372,
                        "iteration": 244,
                        "remaining_time": 13.17317898,
                        "learn": [
                          0.9763840496,
                          0.09568142696
                        ]
                      },
                      {
                        "test": [
                          0.9717419355,
                          0.1240023835
                        ],
                        "passed_time": 12.70377863,
                        "iteration": 245,
                        "remaining_time": 13.11690965,
                        "learn": [
                          0.9764270659,
                          0.09560377226
                        ]
                      },
                      {
                        "test": [
                          0.9718709677,
                          0.1239910407
                        ],
                        "passed_time": 12.75063808,
                        "iteration": 246,
                        "remaining_time": 13.06037018,
                        "learn": [
                          0.9764700822,
                          0.09551526768
                        ]
                      },
                      {
                        "test": [
                          0.972,
                          0.1240355616
                        ],
                        "passed_time": 12.799536,
                        "iteration": 247,
                        "remaining_time": 13.00598013,
                        "learn": [
                          0.9764700822,
                          0.09544654947
                        ]
                      },
                      {
                        "test": [
                          0.972,
                          0.1240220829
                        ],
                        "passed_time": 12.84840103,
                        "iteration": 248,
                        "remaining_time": 12.95160104,
                        "learn": [
                          0.9765130985,
                          0.09538618897
                        ]
                      },
                      {
                        "test": [
                          0.9718709677,
                          0.1240335538
                        ],
                        "passed_time": 12.91229554,
                        "iteration": 249,
                        "remaining_time": 12.91229554,
                        "learn": [
                          0.9765130985,
                          0.09532761347
                        ]
                      },
                      {
                        "test": [
                          0.9718709677,
                          0.1240202306
                        ],
                        "passed_time": 12.95960373,
                        "iteration": 250,
                        "remaining_time": 12.85633995,
                        "learn": [
                          0.9765130985,
                          0.09526553869
                        ]
                      },
                      {
                        "test": [
                          0.972,
                          0.1240103137
                        ],
                        "passed_time": 13.02079784,
                        "iteration": 251,
                        "remaining_time": 12.81411851,
                        "learn": [
                          0.9766421474,
                          0.09523099076
                        ]
                      },
                      {
                        "test": [
                          0.9718709677,
                          0.1240235111
                        ],
                        "passed_time": 13.08344513,
                        "iteration": 252,
                        "remaining_time": 12.7731658,
                        "learn": [
                          0.9766851637,
                          0.09513695882
                        ]
                      },
                      {
                        "test": [
                          0.972,
                          0.1240326612
                        ],
                        "passed_time": 13.13058917,
                        "iteration": 253,
                        "remaining_time": 12.71702731,
                        "learn": [
                          0.9766851637,
                          0.09507404613
                        ]
                      },
                      {
                        "test": [
                          0.972,
                          0.1240014023
                        ],
                        "passed_time": 13.1777666,
                        "iteration": 254,
                        "remaining_time": 12.66099144,
                        "learn": [
                          0.9766851637,
                          0.09500554676
                        ]
                      },
                      {
                        "test": [
                          0.972,
                          0.1239916935
                        ],
                        "passed_time": 13.2235284,
                        "iteration": 255,
                        "remaining_time": 12.60367551,
                        "learn": [
                          0.9766851637,
                          0.09494837853
                        ]
                      },
                      {
                        "test": [
                          0.9718709677,
                          0.1239849189
                        ],
                        "passed_time": 13.26993882,
                        "iteration": 256,
                        "remaining_time": 12.54706278,
                        "learn": [
                          0.9766851637,
                          0.09491664365
                        ]
                      },
                      {
                        "test": [
                          0.9718709677,
                          0.1239738802
                        ],
                        "passed_time": 13.31833983,
                        "iteration": 257,
                        "remaining_time": 12.49239627,
                        "learn": [
                          0.9766851637,
                          0.09487929455
                        ]
                      },
                      {
                        "test": [
                          0.9718709677,
                          0.1240026158
                        ],
                        "passed_time": 13.37098123,
                        "iteration": 258,
                        "remaining_time": 12.44172385,
                        "learn": [
                          0.9766851637,
                          0.09482725633
                        ]
                      },
                      {
                        "test": [
                          0.9718709677,
                          0.1240196559
                        ],
                        "passed_time": 13.41684974,
                        "iteration": 259,
                        "remaining_time": 12.38478437,
                        "learn": [
                          0.9766421474,
                          0.09474929865
                        ]
                      },
                      {
                        "test": [
                          0.9718709677,
                          0.1240255631
                        ],
                        "passed_time": 13.46960038,
                        "iteration": 260,
                        "remaining_time": 12.33423176,
                        "learn": [
                          0.9766421474,
                          0.09463000378
                        ]
                      },
                      {
                        "test": [
                          0.9718709677,
                          0.1240490126
                        ],
                        "passed_time": 13.51555494,
                        "iteration": 261,
                        "remaining_time": 12.27748884,
                        "learn": [
                          0.9766421474,
                          0.09455489227
                        ]
                      },
                      {
                        "test": [
                          0.9717419355,
                          0.1240683638
                        ],
                        "passed_time": 13.56386096,
                        "iteration": 262,
                        "remaining_time": 12.22294695,
                        "learn": [
                          0.9766421474,
                          0.09448898616
                        ]
                      },
                      {
                        "test": [
                          0.9717419355,
                          0.1240835201
                        ],
                        "passed_time": 13.61439996,
                        "iteration": 263,
                        "remaining_time": 12.17044845,
                        "learn": [
                          0.9766421474,
                          0.09438185426
                        ]
                      },
                      {
                        "test": [
                          0.9718709677,
                          0.1241200266
                        ],
                        "passed_time": 13.66299831,
                        "iteration": 264,
                        "remaining_time": 12.11624378,
                        "learn": [
                          0.9766851637,
                          0.09432774458
                        ]
                      },
                      {
                        "test": [
                          0.9718709677,
                          0.1241228813
                        ],
                        "passed_time": 13.71002757,
                        "iteration": 265,
                        "remaining_time": 12.06070095,
                        "learn": [
                          0.9766851637,
                          0.09426190364
                        ]
                      },
                      {
                        "test": [
                          0.9718709677,
                          0.124117992
                        ],
                        "passed_time": 13.7597991,
                        "iteration": 266,
                        "remaining_time": 12.00761495,
                        "learn": [
                          0.97672818,
                          0.09418531476
                        ]
                      },
                      {
                        "test": [
                          0.9718709677,
                          0.1241095649
                        ],
                        "passed_time": 13.81008142,
                        "iteration": 267,
                        "remaining_time": 11.95499585,
                        "learn": [
                          0.9767711963,
                          0.09407738765
                        ]
                      },
                      {
                        "test": [
                          0.9717419355,
                          0.124142644
                        ],
                        "passed_time": 13.85585812,
                        "iteration": 268,
                        "remaining_time": 11.89852501,
                        "learn": [
                          0.97672818,
                          0.09399096151
                        ]
                      },
                      {
                        "test": [
                          0.9718709677,
                          0.124166133
                        ],
                        "passed_time": 13.91355743,
                        "iteration": 269,
                        "remaining_time": 11.85228966,
                        "learn": [
                          0.9768142126,
                          0.09395110301
                        ]
                      },
                      {
                        "test": [
                          0.9718709677,
                          0.1241336696
                        ],
                        "passed_time": 13.96059447,
                        "iteration": 270,
                        "remaining_time": 11.7969599,
                        "learn": [
                          0.9767711963,
                          0.09389928561
                        ]
                      },
                      {
                        "test": [
                          0.9717419355,
                          0.1241639506
                        ],
                        "passed_time": 14.01106548,
                        "iteration": 271,
                        "remaining_time": 11.74456959,
                        "learn": [
                          0.9768142126,
                          0.09379826886
                        ]
                      },
                      {
                        "test": [
                          0.9717419355,
                          0.1241740217
                        ],
                        "passed_time": 14.09326196,
                        "iteration": 272,
                        "remaining_time": 11.71857313,
                        "learn": [
                          0.9767711963,
                          0.09366410666
                        ]
                      },
                      {
                        "test": [
                          0.9717419355,
                          0.1241790763
                        ],
                        "passed_time": 14.14318992,
                        "iteration": 273,
                        "remaining_time": 11.66555081,
                        "learn": [
                          0.97672818,
                          0.09362295438
                        ]
                      },
                      {
                        "test": [
                          0.972,
                          0.1241456581
                        ],
                        "passed_time": 14.19816938,
                        "iteration": 274,
                        "remaining_time": 11.61668404,
                        "learn": [
                          0.97672818,
                          0.09339938565
                        ]
                      },
                      {
                        "test": [
                          0.972,
                          0.1241577282
                        ],
                        "passed_time": 14.2485307,
                        "iteration": 275,
                        "remaining_time": 11.56402492,
                        "learn": [
                          0.97672818,
                          0.09332540421
                        ]
                      },
                      {
                        "test": [
                          0.9718709677,
                          0.1241328466
                        ],
                        "passed_time": 14.29914606,
                        "iteration": 276,
                        "remaining_time": 11.5115869,
                        "learn": [
                          0.9766851637,
                          0.09319809665
                        ]
                      },
                      {
                        "test": [
                          0.9718709677,
                          0.124099763
                        ],
                        "passed_time": 14.34739519,
                        "iteration": 277,
                        "remaining_time": 11.45727242,
                        "learn": [
                          0.9766851637,
                          0.09312449209
                        ]
                      },
                      {
                        "test": [
                          0.972,
                          0.1240773166
                        ],
                        "passed_time": 14.40340773,
                        "iteration": 278,
                        "remaining_time": 11.40915092,
                        "learn": [
                          0.9766851637,
                          0.09302822909
                        ]
                      },
                      {
                        "test": [
                          0.972,
                          0.1240651166
                        ],
                        "passed_time": 14.45014921,
                        "iteration": 279,
                        "remaining_time": 11.35368866,
                        "learn": [
                          0.9766851637,
                          0.09296515478
                        ]
                      },
                      {
                        "test": [
                          0.9717419355,
                          0.1240677291
                        ],
                        "passed_time": 14.49888015,
                        "iteration": 280,
                        "remaining_time": 11.29983898,
                        "learn": [
                          0.9767711963,
                          0.09286688565
                        ]
                      },
                      {
                        "test": [
                          0.9717419355,
                          0.1240662248
                        ],
                        "passed_time": 14.54523221,
                        "iteration": 281,
                        "remaining_time": 11.2441866,
                        "learn": [
                          0.9768572289,
                          0.09282974937
                        ]
                      },
                      {
                        "test": [
                          0.9718709677,
                          0.1240638284
                        ],
                        "passed_time": 14.59296759,
                        "iteration": 282,
                        "remaining_time": 11.18966066,
                        "learn": [
                          0.9768142126,
                          0.09271355842
                        ]
                      },
                      {
                        "test": [
                          0.9716129032,
                          0.1240889024
                        ],
                        "passed_time": 14.63858313,
                        "iteration": 283,
                        "remaining_time": 11.13357027,
                        "learn": [
                          0.9768572289,
                          0.09265409252
                        ]
                      },
                      {
                        "test": [
                          0.9716129032,
                          0.1240773225
                        ],
                        "passed_time": 14.6855705,
                        "iteration": 284,
                        "remaining_time": 11.07858828,
                        "learn": [
                          0.9769432615,
                          0.09257945812
                        ]
                      },
                      {
                        "test": [
                          0.9716129032,
                          0.1240795547
                        ],
                        "passed_time": 14.73501641,
                        "iteration": 285,
                        "remaining_time": 11.02550179,
                        "learn": [
                          0.9769432615,
                          0.09249943537
                        ]
                      },
                      {
                        "test": [
                          0.9716129032,
                          0.1241012395
                        ],
                        "passed_time": 14.78295711,
                        "iteration": 286,
                        "remaining_time": 10.97132357,
                        "learn": [
                          0.9769432615,
                          0.09241426086
                        ]
                      },
                      {
                        "test": [
                          0.9716129032,
                          0.1240705619
                        ],
                        "passed_time": 14.82996695,
                        "iteration": 287,
                        "remaining_time": 10.91650345,
                        "learn": [
                          0.9769432615,
                          0.09234876518
                        ]
                      },
                      {
                        "test": [
                          0.971483871,
                          0.1240155921
                        ],
                        "passed_time": 14.87715598,
                        "iteration": 288,
                        "remaining_time": 10.86186821,
                        "learn": [
                          0.9769862778,
                          0.09230308213
                        ]
                      },
                      {
                        "test": [
                          0.9716129032,
                          0.1240093994
                        ],
                        "passed_time": 14.9345784,
                        "iteration": 289,
                        "remaining_time": 10.81469471,
                        "learn": [
                          0.9769862778,
                          0.09223080036
                        ]
                      },
                      {
                        "test": [
                          0.9716129032,
                          0.1240324286
                        ],
                        "passed_time": 14.9814108,
                        "iteration": 290,
                        "remaining_time": 10.75984487,
                        "learn": [
                          0.9770723104,
                          0.0921593973
                        ]
                      },
                      {
                        "test": [
                          0.9716129032,
                          0.1240439376
                        ],
                        "passed_time": 15.02959891,
                        "iteration": 291,
                        "remaining_time": 10.70601566,
                        "learn": [
                          0.9771153267,
                          0.0921118746
                        ]
                      },
                      {
                        "test": [
                          0.9717419355,
                          0.1240589719
                        ],
                        "passed_time": 15.11086231,
                        "iteration": 292,
                        "remaining_time": 10.67559214,
                        "learn": [
                          0.9770723104,
                          0.09205508756
                        ]
                      },
                      {
                        "test": [
                          0.9717419355,
                          0.1240176607
                        ],
                        "passed_time": 15.15967442,
                        "iteration": 293,
                        "remaining_time": 10.6220848,
                        "learn": [
                          0.9770723104,
                          0.0919802326
                        ]
                      },
                      {
                        "test": [
                          0.9717419355,
                          0.1239950111
                        ],
                        "passed_time": 15.21010799,
                        "iteration": 294,
                        "remaining_time": 10.56973606,
                        "learn": [
                          0.9770723104,
                          0.09187760551
                        ]
                      },
                      {
                        "test": [
                          0.9717419355,
                          0.1240194931
                        ],
                        "passed_time": 15.2573235,
                        "iteration": 295,
                        "remaining_time": 10.51518241,
                        "learn": [
                          0.977158343,
                          0.0918012923
                        ]
                      },
                      {
                        "test": [
                          0.9717419355,
                          0.1240018337
                        ],
                        "passed_time": 15.30530482,
                        "iteration": 296,
                        "remaining_time": 10.46120161,
                        "learn": [
                          0.977158343,
                          0.09171950925
                        ]
                      },
                      {
                        "test": [
                          0.9717419355,
                          0.1239947199
                        ],
                        "passed_time": 15.35134331,
                        "iteration": 297,
                        "remaining_time": 10.40594412,
                        "learn": [
                          0.9771153267,
                          0.09167188928
                        ]
                      },
                      {
                        "test": [
                          0.9717419355,
                          0.1239371553
                        ],
                        "passed_time": 15.40353322,
                        "iteration": 298,
                        "remaining_time": 10.35488354,
                        "learn": [
                          0.977158343,
                          0.09160946609
                        ]
                      },
                      {
                        "test": [
                          0.9717419355,
                          0.1239349819
                        ],
                        "passed_time": 15.45930706,
                        "iteration": 299,
                        "remaining_time": 10.30620471,
                        "learn": [
                          0.977158343,
                          0.0915228364
                        ]
                      },
                      {
                        "test": [
                          0.9717419355,
                          0.1239215772
                        ],
                        "passed_time": 15.50710879,
                        "iteration": 300,
                        "remaining_time": 10.25220814,
                        "learn": [
                          0.9772873919,
                          0.0914644546
                        ]
                      },
                      {
                        "test": [
                          0.9717419355,
                          0.1239128946
                        ],
                        "passed_time": 15.55602719,
                        "iteration": 301,
                        "remaining_time": 10.19898471,
                        "learn": [
                          0.9772443756,
                          0.09139769529
                        ]
                      },
                      {
                        "test": [
                          0.9717419355,
                          0.123918604
                        ],
                        "passed_time": 15.6039418,
                        "iteration": 302,
                        "remaining_time": 10.14513708,
                        "learn": [
                          0.9772013593,
                          0.09132958718
                        ]
                      },
                      {
                        "test": [
                          0.9718709677,
                          0.123947355
                        ],
                        "passed_time": 15.65230191,
                        "iteration": 303,
                        "remaining_time": 10.09161571,
                        "learn": [
                          0.9772873919,
                          0.09128939917
                        ]
                      },
                      {
                        "test": [
                          0.9718709677,
                          0.1239417159
                        ],
                        "passed_time": 15.69943893,
                        "iteration": 304,
                        "remaining_time": 10.0373462,
                        "learn": [
                          0.9773304082,
                          0.09121099193
                        ]
                      },
                      {
                        "test": [
                          0.972,
                          0.1239217729
                        ],
                        "passed_time": 15.74568705,
                        "iteration": 305,
                        "remaining_time": 9.982559761,
                        "learn": [
                          0.9773734245,
                          0.09113513444
                        ]
                      },
                      {
                        "test": [
                          0.9718709677,
                          0.1239269768
                        ],
                        "passed_time": 15.79231019,
                        "iteration": 306,
                        "remaining_time": 9.92806471,
                        "learn": [
                          0.9773734245,
                          0.09106192927
                        ]
                      },
                      {
                        "test": [
                          0.9717419355,
                          0.1239167671
                        ],
                        "passed_time": 15.84019336,
                        "iteration": 307,
                        "remaining_time": 9.874406253,
                        "learn": [
                          0.9774164408,
                          0.09100659305
                        ]
                      },
                      {
                        "test": [
                          0.9717419355,
                          0.1238951107
                        ],
                        "passed_time": 15.89035655,
                        "iteration": 308,
                        "remaining_time": 9.8221945,
                        "learn": [
                          0.9775454897,
                          0.09087342919
                        ]
                      },
                      {
                        "test": [
                          0.9717419355,
                          0.1238906879
                        ],
                        "passed_time": 15.94805998,
                        "iteration": 309,
                        "remaining_time": 9.774617409,
                        "learn": [
                          0.9775024734,
                          0.09081457559
                        ]
                      },
                      {
                        "test": [
                          0.9718709677,
                          0.1238517038
                        ],
                        "passed_time": 15.99632658,
                        "iteration": 310,
                        "remaining_time": 9.721240271,
                        "learn": [
                          0.977588506,
                          0.09076294077
                        ]
                      },
                      {
                        "test": [
                          0.9718709677,
                          0.1238878516
                        ],
                        "passed_time": 16.04370105,
                        "iteration": 311,
                        "remaining_time": 9.667358324,
                        "learn": [
                          0.9775024734,
                          0.09067864385
                        ]
                      },
                      {
                        "test": [
                          0.9718709677,
                          0.1239332909
                        ],
                        "passed_time": 16.12276964,
                        "iteration": 312,
                        "remaining_time": 9.632453427,
                        "learn": [
                          0.9775454897,
                          0.09060750251
                        ]
                      },
                      {
                        "test": [
                          0.9718709677,
                          0.1239547036
                        ],
                        "passed_time": 16.17377401,
                        "iteration": 313,
                        "remaining_time": 9.580643204,
                        "learn": [
                          0.9775024734,
                          0.09046671641
                        ]
                      },
                      {
                        "test": [
                          0.9718709677,
                          0.1239758323
                        ],
                        "passed_time": 16.22329663,
                        "iteration": 314,
                        "remaining_time": 9.527967863,
                        "learn": [
                          0.9775024734,
                          0.09036304979
                        ]
                      },
                      {
                        "test": [
                          0.9718709677,
                          0.1239687489
                        ],
                        "passed_time": 16.27317966,
                        "iteration": 315,
                        "remaining_time": 9.475522336,
                        "learn": [
                          0.9775024734,
                          0.09031033173
                        ]
                      },
                      {
                        "test": [
                          0.9718709677,
                          0.1239788657
                        ],
                        "passed_time": 16.31910868,
                        "iteration": 316,
                        "remaining_time": 9.420810375,
                        "learn": [
                          0.9775024734,
                          0.090256226
                        ]
                      },
                      {
                        "test": [
                          0.9718709677,
                          0.1239861866
                        ],
                        "passed_time": 16.36679276,
                        "iteration": 317,
                        "remaining_time": 9.367158123,
                        "learn": [
                          0.9775024734,
                          0.09022312416
                        ]
                      },
                      {
                        "test": [
                          0.9718709677,
                          0.1240010261
                        ],
                        "passed_time": 16.41568925,
                        "iteration": 318,
                        "remaining_time": 9.314231203,
                        "learn": [
                          0.9775454897,
                          0.09017189021
                        ]
                      },
                      {
                        "test": [
                          0.9718709677,
                          0.1239822353
                        ],
                        "passed_time": 16.46708692,
                        "iteration": 319,
                        "remaining_time": 9.262736393,
                        "learn": [
                          0.977588506,
                          0.09010286681
                        ]
                      },
                      {
                        "test": [
                          0.9718709677,
                          0.1239584444
                        ],
                        "passed_time": 16.51610355,
                        "iteration": 320,
                        "remaining_time": 9.209914438,
                        "learn": [
                          0.9776315223,
                          0.09005566222
                        ]
                      },
                      {
                        "test": [
                          0.9718709677,
                          0.1239728997
                        ],
                        "passed_time": 16.56153418,
                        "iteration": 321,
                        "remaining_time": 9.155133802,
                        "learn": [
                          0.9776315223,
                          0.09003186399
                        ]
                      },
                      {
                        "test": [
                          0.9718709677,
                          0.123967456
                        ],
                        "passed_time": 16.60989206,
                        "iteration": 322,
                        "remaining_time": 9.102015154,
                        "learn": [
                          0.9775454897,
                          0.08998455506
                        ]
                      },
                      {
                        "test": [
                          0.9718709677,
                          0.1239512882
                        ],
                        "passed_time": 16.65596457,
                        "iteration": 323,
                        "remaining_time": 9.047684456,
                        "learn": [
                          0.9775454897,
                          0.08995522526
                        ]
                      },
                      {
                        "test": [
                          0.9718709677,
                          0.1239180879
                        ],
                        "passed_time": 16.70394026,
                        "iteration": 324,
                        "remaining_time": 8.994429373,
                        "learn": [
                          0.977588506,
                          0.08986831514
                        ]
                      },
                      {
                        "test": [
                          0.9718709677,
                          0.1239018903
                        ],
                        "passed_time": 16.75069108,
                        "iteration": 325,
                        "remaining_time": 8.940552906,
                        "learn": [
                          0.977588506,
                          0.08982525779
                        ]
                      },
                      {
                        "test": [
                          0.9718709677,
                          0.123951234
                        ],
                        "passed_time": 16.79944409,
                        "iteration": 326,
                        "remaining_time": 8.887779291,
                        "learn": [
                          0.977588506,
                          0.08973830727
                        ]
                      },
                      {
                        "test": [
                          0.9718709677,
                          0.1239522757
                        ],
                        "passed_time": 16.85432805,
                        "iteration": 327,
                        "remaining_time": 8.838245197,
                        "learn": [
                          0.977588506,
                          0.08967368648
                        ]
                      },
                      {
                        "test": [
                          0.972,
                          0.1239394839
                        ],
                        "passed_time": 16.90393764,
                        "iteration": 328,
                        "remaining_time": 8.785937195,
                        "learn": [
                          0.9776315223,
                          0.08959900492
                        ]
                      },
                      {
                        "test": [
                          0.9718709677,
                          0.1239364909
                        ],
                        "passed_time": 16.96539478,
                        "iteration": 329,
                        "remaining_time": 8.739748828,
                        "learn": [
                          0.9776315223,
                          0.08954440161
                        ]
                      },
                      {
                        "test": [
                          0.972,
                          0.1239356088
                        ],
                        "passed_time": 17.01939678,
                        "iteration": 330,
                        "remaining_time": 8.6896618,
                        "learn": [
                          0.9776315223,
                          0.08949057433
                        ]
                      },
                      {
                        "test": [
                          0.972,
                          0.123951967
                        ],
                        "passed_time": 17.0690322,
                        "iteration": 331,
                        "remaining_time": 8.637341593,
                        "learn": [
                          0.9776745387,
                          0.08945604436
                        ]
                      },
                      {
                        "test": [
                          0.972,
                          0.1239352986
                        ],
                        "passed_time": 17.15922186,
                        "iteration": 332,
                        "remaining_time": 8.60537553,
                        "learn": [
                          0.9776315223,
                          0.08938334704
                        ]
                      },
                      {
                        "test": [
                          0.972,
                          0.1239010594
                        ],
                        "passed_time": 17.21395331,
                        "iteration": 333,
                        "remaining_time": 8.555437873,
                        "learn": [
                          0.9776315223,
                          0.08931637931
                        ]
                      },
                      {
                        "test": [
                          0.972,
                          0.1238987418
                        ],
                        "passed_time": 17.26204069,
                        "iteration": 334,
                        "remaining_time": 8.502199146,
                        "learn": [
                          0.9776315223,
                          0.08927634052
                        ]
                      },
                      {
                        "test": [
                          0.972,
                          0.1238917186
                        ],
                        "passed_time": 17.31093718,
                        "iteration": 335,
                        "remaining_time": 8.449386005,
                        "learn": [
                          0.977588506,
                          0.08920673367
                        ]
                      },
                      {
                        "test": [
                          0.972,
                          0.1239027598
                        ],
                        "passed_time": 17.3718861,
                        "iteration": 336,
                        "remaining_time": 8.40242562,
                        "learn": [
                          0.9776745387,
                          0.08914442156
                        ]
                      },
                      {
                        "test": [
                          0.9718709677,
                          0.123928927
                        ],
                        "passed_time": 17.42372858,
                        "iteration": 337,
                        "remaining_time": 8.351017842,
                        "learn": [
                          0.9776315223,
                          0.08908899499
                        ]
                      },
                      {
                        "test": [
                          0.9721290323,
                          0.1238998378
                        ],
                        "passed_time": 17.48011395,
                        "iteration": 338,
                        "remaining_time": 8.30176503,
                        "learn": [
                          0.9776315223,
                          0.08897185054
                        ]
                      },
                      {
                        "test": [
                          0.972,
                          0.1239115299
                        ],
                        "passed_time": 17.52929105,
                        "iteration": 339,
                        "remaining_time": 8.249078141,
                        "learn": [
                          0.9776315223,
                          0.08893762962
                        ]
                      },
                      {
                        "test": [
                          0.9718709677,
                          0.123953217
                        ],
                        "passed_time": 17.57906879,
                        "iteration": 340,
                        "remaining_time": 8.196691898,
                        "learn": [
                          0.9776315223,
                          0.08887660782
                        ]
                      },
                      {
                        "test": [
                          0.9718709677,
                          0.1239764146
                        ],
                        "passed_time": 17.63106816,
                        "iteration": 341,
                        "remaining_time": 8.145347276,
                        "learn": [
                          0.9776745387,
                          0.08881732249
                        ]
                      },
                      {
                        "test": [
                          0.9718709677,
                          0.123965696
                        ],
                        "passed_time": 17.68346889,
                        "iteration": 342,
                        "remaining_time": 8.094182551,
                        "learn": [
                          0.9776745387,
                          0.08878450464
                        ]
                      },
                      {
                        "test": [
                          0.9718709677,
                          0.1240075437
                        ],
                        "passed_time": 17.7351351,
                        "iteration": 343,
                        "remaining_time": 8.042677546,
                        "learn": [
                          0.9776745387,
                          0.08872493968
                        ]
                      },
                      {
                        "test": [
                          0.972,
                          0.1239881653
                        ],
                        "passed_time": 17.78551729,
                        "iteration": 344,
                        "remaining_time": 7.990594723,
                        "learn": [
                          0.977717555,
                          0.08866866231
                        ]
                      },
                      {
                        "test": [
                          0.9718709677,
                          0.124005092
                        ],
                        "passed_time": 17.83539147,
                        "iteration": 345,
                        "remaining_time": 7.938295626,
                        "learn": [
                          0.977717555,
                          0.08859120054
                        ]
                      },
                      {
                        "test": [
                          0.9718709677,
                          0.1239900953
                        ],
                        "passed_time": 17.88687277,
                        "iteration": 346,
                        "remaining_time": 7.886719117,
                        "learn": [
                          0.977717555,
                          0.08855961337
                        ]
                      },
                      {
                        "test": [
                          0.9717419355,
                          0.1240147924
                        ],
                        "passed_time": 17.93706383,
                        "iteration": 347,
                        "remaining_time": 7.834579602,
                        "learn": [
                          0.9777605713,
                          0.08851960991
                        ]
                      },
                      {
                        "test": [
                          0.9717419355,
                          0.1240527167
                        ],
                        "passed_time": 18.00758634,
                        "iteration": 348,
                        "remaining_time": 7.791247956,
                        "learn": [
                          0.9777605713,
                          0.08843107658
                        ]
                      },
                      {
                        "test": [
                          0.9717419355,
                          0.1240598595
                        ],
                        "passed_time": 18.05771708,
                        "iteration": 349,
                        "remaining_time": 7.739021606,
                        "learn": [
                          0.9777605713,
                          0.08840742326
                        ]
                      },
                      {
                        "test": [
                          0.9717419355,
                          0.1240674827
                        ],
                        "passed_time": 18.11130732,
                        "iteration": 350,
                        "remaining_time": 7.688275755,
                        "learn": [
                          0.9777605713,
                          0.08836483047
                        ]
                      },
                      {
                        "test": [
                          0.9717419355,
                          0.1240705265
                        ],
                        "passed_time": 18.1990936,
                        "iteration": 351,
                        "remaining_time": 7.651891627,
                        "learn": [
                          0.9778035876,
                          0.08830731075
                        ]
                      },
                      {
                        "test": [
                          0.9717419355,
                          0.1240895436
                        ],
                        "passed_time": 18.24919949,
                        "iteration": 352,
                        "remaining_time": 7.599524999,
                        "learn": [
                          0.9777605713,
                          0.08824796525
                        ]
                      },
                      {
                        "test": [
                          0.9717419355,
                          0.1241210433
                        ],
                        "passed_time": 18.30355081,
                        "iteration": 353,
                        "remaining_time": 7.548922087,
                        "learn": [
                          0.977717555,
                          0.08814357265
                        ]
                      },
                      {
                        "test": [
                          0.9717419355,
                          0.1241412251
                        ],
                        "passed_time": 18.35916077,
                        "iteration": 354,
                        "remaining_time": 7.498812147,
                        "learn": [
                          0.977717555,
                          0.08808796183
                        ]
                      },
                      {
                        "test": [
                          0.9717419355,
                          0.1241910373
                        ],
                        "passed_time": 18.40891599,
                        "iteration": 355,
                        "remaining_time": 7.446303097,
                        "learn": [
                          0.9777605713,
                          0.08804473287
                        ]
                      },
                      {
                        "test": [
                          0.9717419355,
                          0.1241733027
                        ],
                        "passed_time": 18.45941381,
                        "iteration": 356,
                        "remaining_time": 7.394106933,
                        "learn": [
                          0.9777605713,
                          0.08799592079
                        ]
                      },
                      {
                        "test": [
                          0.9717419355,
                          0.1241747573
                        ],
                        "passed_time": 18.51280606,
                        "iteration": 357,
                        "remaining_time": 7.343068327,
                        "learn": [
                          0.9778896202,
                          0.08792664047
                        ]
                      },
                      {
                        "test": [
                          0.9717419355,
                          0.1241935612
                        ],
                        "passed_time": 18.56182441,
                        "iteration": 358,
                        "remaining_time": 7.290298723,
                        "learn": [
                          0.9778466039,
                          0.08786456149
                        ]
                      },
                      {
                        "test": [
                          0.9717419355,
                          0.1242076012
                        ],
                        "passed_time": 18.61175798,
                        "iteration": 359,
                        "remaining_time": 7.237905879,
                        "learn": [
                          0.9779326365,
                          0.08782324077
                        ]
                      },
                      {
                        "test": [
                          0.9717419355,
                          0.1242247017
                        ],
                        "passed_time": 18.66629997,
                        "iteration": 360,
                        "remaining_time": 7.187301098,
                        "learn": [
                          0.9779326365,
                          0.08776338899
                        ]
                      },
                      {
                        "test": [
                          0.9717419355,
                          0.1242383321
                        ],
                        "passed_time": 18.71472134,
                        "iteration": 361,
                        "remaining_time": 7.134341283,
                        "learn": [
                          0.9778466039,
                          0.08770622947
                        ]
                      },
                      {
                        "test": [
                          0.9717419355,
                          0.1242429035
                        ],
                        "passed_time": 18.76439387,
                        "iteration": 362,
                        "remaining_time": 7.081878678,
                        "learn": [
                          0.9779326365,
                          0.08764230502
                        ]
                      },
                      {
                        "test": [
                          0.9717419355,
                          0.124254836
                        ],
                        "passed_time": 18.81311571,
                        "iteration": 363,
                        "remaining_time": 7.029076201,
                        "learn": [
                          0.9779326365,
                          0.08762161202
                        ]
                      },
                      {
                        "test": [
                          0.9717419355,
                          0.1242602079
                        ],
                        "passed_time": 18.86405546,
                        "iteration": 364,
                        "remaining_time": 6.977116401,
                        "learn": [
                          0.9778896202,
                          0.08757098091
                        ]
                      },
                      {
                        "test": [
                          0.9717419355,
                          0.1242449574
                        ],
                        "passed_time": 18.91495597,
                        "iteration": 365,
                        "remaining_time": 6.925147814,
                        "learn": [
                          0.9778896202,
                          0.08752875926
                        ]
                      },
                      {
                        "test": [
                          0.9717419355,
                          0.1242418532
                        ],
                        "passed_time": 18.96641561,
                        "iteration": 366,
                        "remaining_time": 6.873387672,
                        "learn": [
                          0.9778466039,
                          0.08749088725
                        ]
                      },
                      {
                        "test": [
                          0.9717419355,
                          0.1242077918
                        ],
                        "passed_time": 19.02856216,
                        "iteration": 367,
                        "remaining_time": 6.825462513,
                        "learn": [
                          0.9778466039,
                          0.08743416045
                        ]
                      },
                      {
                        "test": [
                          0.9717419355,
                          0.1242294447
                        ],
                        "passed_time": 19.07827629,
                        "iteration": 368,
                        "remaining_time": 6.773046597,
                        "learn": [
                          0.9780186691,
                          0.08738849112
                        ]
                      },
                      {
                        "test": [
                          0.9717419355,
                          0.1242026006
                        ],
                        "passed_time": 19.13275017,
                        "iteration": 369,
                        "remaining_time": 6.722317628,
                        "learn": [
                          0.9780616854,
                          0.08729741457
                        ]
                      },
                      {
                        "test": [
                          0.9717419355,
                          0.124181249
                        ],
                        "passed_time": 19.22074025,
                        "iteration": 370,
                        "remaining_time": 6.683222351,
                        "learn": [
                          0.9780616854,
                          0.08721717428
                        ]
                      },
                      {
                        "test": [
                          0.9717419355,
                          0.124189078
                        ],
                        "passed_time": 19.26975331,
                        "iteration": 371,
                        "remaining_time": 6.630452751,
                        "learn": [
                          0.9781047017,
                          0.0871661994
                        ]
                      },
                      {
                        "test": [
                          0.9717419355,
                          0.1241809335
                        ],
                        "passed_time": 19.31943229,
                        "iteration": 372,
                        "remaining_time": 6.57793003,
                        "learn": [
                          0.9781047017,
                          0.08707273676
                        ]
                      },
                      {
                        "test": [
                          0.9717419355,
                          0.1241757621
                        ],
                        "passed_time": 19.36946217,
                        "iteration": 373,
                        "remaining_time": 6.52554073,
                        "learn": [
                          0.9781047017,
                          0.08703660314
                        ]
                      },
                      {
                        "test": [
                          0.9717419355,
                          0.1241967896
                        ],
                        "passed_time": 19.42027043,
                        "iteration": 374,
                        "remaining_time": 6.473423477,
                        "learn": [
                          0.9781047017,
                          0.08698058753
                        ]
                      },
                      {
                        "test": [
                          0.9717419355,
                          0.1241924314
                        ],
                        "passed_time": 19.46903217,
                        "iteration": 375,
                        "remaining_time": 6.420638269,
                        "learn": [
                          0.9780616854,
                          0.08693828091
                        ]
                      },
                      {
                        "test": [
                          0.9717419355,
                          0.1242111509
                        ],
                        "passed_time": 19.52807845,
                        "iteration": 376,
                        "remaining_time": 6.37122984,
                        "learn": [
                          0.978147718,
                          0.08687991586
                        ]
                      },
                      {
                        "test": [
                          0.9717419355,
                          0.1241970882
                        ],
                        "passed_time": 19.57964189,
                        "iteration": 377,
                        "remaining_time": 6.319355319,
                        "learn": [
                          0.9781907343,
                          0.08684073053
                        ]
                      },
                      {
                        "test": [
                          0.9717419355,
                          0.1241725214
                        ],
                        "passed_time": 19.63208196,
                        "iteration": 378,
                        "remaining_time": 6.267762315,
                        "learn": [
                          0.978147718,
                          0.08671643462
                        ]
                      },
                      {
                        "test": [
                          0.9717419355,
                          0.1241776975
                        ],
                        "passed_time": 19.6813364,
                        "iteration": 379,
                        "remaining_time": 6.215158864,
                        "learn": [
                          0.978147718,
                          0.08667226531
                        ]
                      },
                      {
                        "test": [
                          0.9718709677,
                          0.1241803806
                        ],
                        "passed_time": 19.73378376,
                        "iteration": 380,
                        "remaining_time": 6.163570256,
                        "learn": [
                          0.9781047017,
                          0.08661040641
                        ]
                      },
                      {
                        "test": [
                          0.9718709677,
                          0.1241747979
                        ],
                        "passed_time": 19.78350545,
                        "iteration": 381,
                        "remaining_time": 6.111135191,
                        "learn": [
                          0.9781907343,
                          0.08655569766
                        ]
                      },
                      {
                        "test": [
                          0.9718709677,
                          0.1241739188
                        ],
                        "passed_time": 19.83822402,
                        "iteration": 382,
                        "remaining_time": 6.060240757,
                        "learn": [
                          0.9782337506,
                          0.08650773174
                        ]
                      },
                      {
                        "test": [
                          0.9718709677,
                          0.1241784936
                        ],
                        "passed_time": 19.88673515,
                        "iteration": 383,
                        "remaining_time": 6.007451243,
                        "learn": [
                          0.9782337506,
                          0.08645291179
                        ]
                      },
                      {
                        "test": [
                          0.9718709677,
                          0.124158793
                        ],
                        "passed_time": 19.93320263,
                        "iteration": 384,
                        "remaining_time": 5.954073512,
                        "learn": [
                          0.9782337506,
                          0.08640767297
                        ]
                      },
                      {
                        "test": [
                          0.9717419355,
                          0.1241713302
                        ],
                        "passed_time": 19.98518118,
                        "iteration": 385,
                        "remaining_time": 5.902359209,
                        "learn": [
                          0.9782767669,
                          0.0863345876
                        ]
                      },
                      {
                        "test": [
                          0.9717419355,
                          0.1241723319
                        ],
                        "passed_time": 20.04386877,
                        "iteration": 386,
                        "remaining_time": 5.85260251,
                        "learn": [
                          0.9782767669,
                          0.08630589201
                        ]
                      },
                      {
                        "test": [
                          0.9718709677,
                          0.1241771662
                        ],
                        "passed_time": 20.09307534,
                        "iteration": 387,
                        "remaining_time": 5.800062986,
                        "learn": [
                          0.9782767669,
                          0.08625462966
                        ]
                      },
                      {
                        "test": [
                          0.9717419355,
                          0.1241967096
                        ],
                        "passed_time": 20.1415412,
                        "iteration": 388,
                        "remaining_time": 5.747329238,
                        "learn": [
                          0.9782337506,
                          0.08620498676
                        ]
                      },
                      {
                        "test": [
                          0.9717419355,
                          0.124168227
                        ],
                        "passed_time": 20.18839062,
                        "iteration": 389,
                        "remaining_time": 5.694161458,
                        "learn": [
                          0.9782337506,
                          0.08615701256
                        ]
                      },
                      {
                        "test": [
                          0.9718709677,
                          0.1241580261
                        ],
                        "passed_time": 20.35151038,
                        "iteration": 390,
                        "remaining_time": 5.673438956,
                        "learn": [
                          0.978147718,
                          0.08611239632
                        ]
                      },
                      {
                        "test": [
                          0.9718709677,
                          0.1241636808
                        ],
                        "passed_time": 20.39974697,
                        "iteration": 391,
                        "remaining_time": 5.620338452,
                        "learn": [
                          0.9782767669,
                          0.0860651223
                        ]
                      },
                      {
                        "test": [
                          0.9718709677,
                          0.1241811789
                        ],
                        "passed_time": 20.4476144,
                        "iteration": 392,
                        "remaining_time": 5.567162191,
                        "learn": [
                          0.9782337506,
                          0.08602101726
                        ]
                      },
                      {
                        "test": [
                          0.9718709677,
                          0.1241810331
                        ],
                        "passed_time": 20.49913489,
                        "iteration": 393,
                        "remaining_time": 5.514995681,
                        "learn": [
                          0.9782767669,
                          0.0859813041
                        ]
                      },
                      {
                        "test": [
                          0.9717419355,
                          0.1242128543
                        ],
                        "passed_time": 20.54605224,
                        "iteration": 394,
                        "remaining_time": 5.461608824,
                        "learn": [
                          0.9783627995,
                          0.0859013645
                        ]
                      },
                      {
                        "test": [
                          0.9718709677,
                          0.1241611753
                        ],
                        "passed_time": 20.59537746,
                        "iteration": 395,
                        "remaining_time": 5.40888701,
                        "learn": [
                          0.9783627995,
                          0.08582312616
                        ]
                      },
                      {
                        "test": [
                          0.9717419355,
                          0.1241774097
                        ],
                        "passed_time": 20.6519042,
                        "iteration": 396,
                        "remaining_time": 5.358050711,
                        "learn": [
                          0.9783627995,
                          0.08572971782
                        ]
                      },
                      {
                        "test": [
                          0.9717419355,
                          0.1241942503
                        ],
                        "passed_time": 20.70239391,
                        "iteration": 397,
                        "remaining_time": 5.305638641,
                        "learn": [
                          0.9784058158,
                          0.08564438358
                        ]
                      },
                      {
                        "test": [
                          0.9717419355,
                          0.1241946527
                        ],
                        "passed_time": 20.74833515,
                        "iteration": 398,
                        "remaining_time": 5.252084837,
                        "learn": [
                          0.9783627995,
                          0.08561370256
                        ]
                      },
                      {
                        "test": [
                          0.9717419355,
                          0.1242156199
                        ],
                        "passed_time": 20.80245433,
                        "iteration": 399,
                        "remaining_time": 5.200613584,
                        "learn": [
                          0.9784488321,
                          0.08557099749
                        ]
                      },
                      {
                        "test": [
                          0.9717419355,
                          0.1242424584
                        ],
                        "passed_time": 20.84794064,
                        "iteration": 400,
                        "remaining_time": 5.146997814,
                        "learn": [
                          0.9783627995,
                          0.08551775613
                        ]
                      },
                      {
                        "test": [
                          0.9717419355,
                          0.124252757
                        ],
                        "passed_time": 20.89794825,
                        "iteration": 401,
                        "remaining_time": 5.094524697,
                        "learn": [
                          0.9784058158,
                          0.08545979041
                        ]
                      },
                      {
                        "test": [
                          0.9718709677,
                          0.124276821
                        ],
                        "passed_time": 20.95087243,
                        "iteration": 402,
                        "remaining_time": 5.04276582,
                        "learn": [
                          0.9784488321,
                          0.08539707488
                        ]
                      },
                      {
                        "test": [
                          0.9718709677,
                          0.124268178
                        ],
                        "passed_time": 21.01171429,
                        "iteration": 403,
                        "remaining_time": 4.992882603,
                        "learn": [
                          0.9783627995,
                          0.0853592431
                        ]
                      },
                      {
                        "test": [
                          0.9717419355,
                          0.124233166
                        ],
                        "passed_time": 21.07702206,
                        "iteration": 404,
                        "remaining_time": 4.943992829,
                        "learn": [
                          0.9784058158,
                          0.08531572725
                        ]
                      },
                      {
                        "test": [
                          0.9717419355,
                          0.1242117972
                        ],
                        "passed_time": 21.13153926,
                        "iteration": 405,
                        "remaining_time": 4.892523868,
                        "learn": [
                          0.9784058158,
                          0.08524405137
                        ]
                      },
                      {
                        "test": [
                          0.9717419355,
                          0.1242079149
                        ],
                        "passed_time": 21.18557521,
                        "iteration": 406,
                        "remaining_time": 4.840929963,
                        "learn": [
                          0.978577881,
                          0.08515245596
                        ]
                      },
                      {
                        "test": [
                          0.9718709677,
                          0.1242057545
                        ],
                        "passed_time": 21.23856064,
                        "iteration": 407,
                        "remaining_time": 4.789087202,
                        "learn": [
                          0.9786208973,
                          0.08508937936
                        ]
                      },
                      {
                        "test": [
                          0.9718709677,
                          0.1241973817
                        ],
                        "passed_time": 21.29031028,
                        "iteration": 408,
                        "remaining_time": 4.7369639,
                        "learn": [
                          0.9786208973,
                          0.08504729555
                        ]
                      },
                      {
                        "test": [
                          0.9718709677,
                          0.124207139
                        ],
                        "passed_time": 21.38394408,
                        "iteration": 409,
                        "remaining_time": 4.694036506,
                        "learn": [
                          0.9786208973,
                          0.08500167778
                        ]
                      },
                      {
                        "test": [
                          0.9718709677,
                          0.1242576132
                        ],
                        "passed_time": 21.43393701,
                        "iteration": 410,
                        "remaining_time": 4.641412151,
                        "learn": [
                          0.978577881,
                          0.08494229316
                        ]
                      },
                      {
                        "test": [
                          0.9718709677,
                          0.124270437
                        ],
                        "passed_time": 21.49292236,
                        "iteration": 411,
                        "remaining_time": 4.59072128,
                        "learn": [
                          0.978577881,
                          0.0848920651
                        ]
                      },
                      {
                        "test": [
                          0.9718709677,
                          0.1242727594
                        ],
                        "passed_time": 21.54315423,
                        "iteration": 412,
                        "remaining_time": 4.53814629,
                        "learn": [
                          0.978577881,
                          0.08482986645
                        ]
                      },
                      {
                        "test": [
                          0.9718709677,
                          0.1242761876
                        ],
                        "passed_time": 21.59517414,
                        "iteration": 413,
                        "remaining_time": 4.485954048,
                        "learn": [
                          0.9786208973,
                          0.08473723877
                        ]
                      },
                      {
                        "test": [
                          0.9718709677,
                          0.1242540514
                        ],
                        "passed_time": 21.64957351,
                        "iteration": 414,
                        "remaining_time": 4.434249996,
                        "learn": [
                          0.978577881,
                          0.08470251665
                        ]
                      },
                      {
                        "test": [
                          0.9718709677,
                          0.1242475464
                        ],
                        "passed_time": 21.70454847,
                        "iteration": 415,
                        "remaining_time": 4.38264921,
                        "learn": [
                          0.978577881,
                          0.08463338438
                        ]
                      },
                      {
                        "test": [
                          0.9717419355,
                          0.1242455286
                        ],
                        "passed_time": 21.75642264,
                        "iteration": 416,
                        "remaining_time": 4.330415058,
                        "learn": [
                          0.9786208973,
                          0.08455416881
                        ]
                      },
                      {
                        "test": [
                          0.9718709677,
                          0.1242114839
                        ],
                        "passed_time": 21.80819023,
                        "iteration": 417,
                        "remaining_time": 4.27816172,
                        "learn": [
                          0.9786639136,
                          0.08447503632
                        ]
                      },
                      {
                        "test": [
                          0.9718709677,
                          0.1242431919
                        ],
                        "passed_time": 21.86210478,
                        "iteration": 418,
                        "remaining_time": 4.226325746,
                        "learn": [
                          0.9787069299,
                          0.08443006591
                        ]
                      },
                      {
                        "test": [
                          0.9718709677,
                          0.124285936
                        ],
                        "passed_time": 21.91611678,
                        "iteration": 419,
                        "remaining_time": 4.174498434,
                        "learn": [
                          0.9787499462,
                          0.08433787461
                        ]
                      },
                      {
                        "test": [
                          0.9717419355,
                          0.1243120807
                        ],
                        "passed_time": 21.96204593,
                        "iteration": 420,
                        "remaining_time": 4.121144011,
                        "learn": [
                          0.9787929625,
                          0.0843159104
                        ]
                      },
                      {
                        "test": [
                          0.9717419355,
                          0.1243137393
                        ],
                        "passed_time": 22.01191335,
                        "iteration": 421,
                        "remaining_time": 4.068552704,
                        "learn": [
                          0.9787929625,
                          0.08423366464
                        ]
                      },
                      {
                        "test": [
                          0.9716129032,
                          0.1243261037
                        ],
                        "passed_time": 22.07253759,
                        "iteration": 422,
                        "remaining_time": 4.017932374,
                        "learn": [
                          0.9787929625,
                          0.084174607
                        ]
                      },
                      {
                        "test": [
                          0.9716129032,
                          0.1243551096
                        ],
                        "passed_time": 22.12924177,
                        "iteration": 423,
                        "remaining_time": 3.966562205,
                        "learn": [
                          0.9787929625,
                          0.0841056793
                        ]
                      },
                      {
                        "test": [
                          0.9716129032,
                          0.1243689297
                        ],
                        "passed_time": 22.17420473,
                        "iteration": 424,
                        "remaining_time": 3.913094952,
                        "learn": [
                          0.9787929625,
                          0.08406646342
                        ]
                      },
                      {
                        "test": [
                          0.9716129032,
                          0.1243610238
                        ],
                        "passed_time": 22.22075868,
                        "iteration": 425,
                        "remaining_time": 3.859943996,
                        "learn": [
                          0.9787929625,
                          0.08403884896
                        ]
                      },
                      {
                        "test": [
                          0.9716129032,
                          0.1243514124
                        ],
                        "passed_time": 22.2731521,
                        "iteration": 426,
                        "remaining_time": 3.807822256,
                        "learn": [
                          0.9788359788,
                          0.08398705259
                        ]
                      },
                      {
                        "test": [
                          0.9716129032,
                          0.1243448507
                        ],
                        "passed_time": 22.31822807,
                        "iteration": 427,
                        "remaining_time": 3.754468274,
                        "learn": [
                          0.9788359788,
                          0.08394503139
                        ]
                      },
                      {
                        "test": [
                          0.9716129032,
                          0.1243597541
                        ],
                        "passed_time": 22.40326423,
                        "iteration": 428,
                        "remaining_time": 3.707766342,
                        "learn": [
                          0.9788789951,
                          0.08388847989
                        ]
                      },
                      {
                        "test": [
                          0.9716129032,
                          0.1243205815
                        ],
                        "passed_time": 22.48744429,
                        "iteration": 429,
                        "remaining_time": 3.660746745,
                        "learn": [
                          0.9788789951,
                          0.08379517804
                        ]
                      },
                      {
                        "test": [
                          0.9716129032,
                          0.1243311629
                        ],
                        "passed_time": 22.5338237,
                        "iteration": 430,
                        "remaining_time": 3.607503097,
                        "learn": [
                          0.9788359788,
                          0.08376081705
                        ]
                      },
                      {
                        "test": [
                          0.9717419355,
                          0.1243413976
                        ],
                        "passed_time": 22.57940121,
                        "iteration": 431,
                        "remaining_time": 3.554165005,
                        "learn": [
                          0.9788359788,
                          0.08372922876
                        ]
                      },
                      {
                        "test": [
                          0.9717419355,
                          0.1243269756
                        ],
                        "passed_time": 22.6260777,
                        "iteration": 432,
                        "remaining_time": 3.501032808,
                        "learn": [
                          0.9788789951,
                          0.08363381154
                        ]
                      },
                      {
                        "test": [
                          0.9717419355,
                          0.1243494155
                        ],
                        "passed_time": 22.67382,
                        "iteration": 433,
                        "remaining_time": 3.448092442,
                        "learn": [
                          0.979008044,
                          0.08353653464
                        ]
                      },
                      {
                        "test": [
                          0.9716129032,
                          0.1243802429
                        ],
                        "passed_time": 22.72357494,
                        "iteration": 434,
                        "remaining_time": 3.395476715,
                        "learn": [
                          0.9789650277,
                          0.08345500721
                        ]
                      },
                      {
                        "test": [
                          0.9716129032,
                          0.1243718315
                        ],
                        "passed_time": 22.7794935,
                        "iteration": 435,
                        "remaining_time": 3.343778863,
                        "learn": [
                          0.9790940767,
                          0.08340043076
                        ]
                      },
                      {
                        "test": [
                          0.9716129032,
                          0.1243540768
                        ],
                        "passed_time": 22.82708547,
                        "iteration": 436,
                        "remaining_time": 3.290861292,
                        "learn": [
                          0.9790940767,
                          0.08328526068
                        ]
                      },
                      {
                        "test": [
                          0.9716129032,
                          0.1243561873
                        ],
                        "passed_time": 22.87548769,
                        "iteration": 437,
                        "remaining_time": 3.238082732,
                        "learn": [
                          0.9790940767,
                          0.08323626425
                        ]
                      },
                      {
                        "test": [
                          0.9716129032,
                          0.1243641658
                        ],
                        "passed_time": 22.92266713,
                        "iteration": 438,
                        "remaining_time": 3.185154203,
                        "learn": [
                          0.9790940767,
                          0.08320905276
                        ]
                      },
                      {
                        "test": [
                          0.9716129032,
                          0.1243362025
                        ],
                        "passed_time": 22.97391758,
                        "iteration": 439,
                        "remaining_time": 3.132806943,
                        "learn": [
                          0.9790940767,
                          0.08315962051
                        ]
                      },
                      {
                        "test": [
                          0.9716129032,
                          0.1243636176
                        ],
                        "passed_time": 23.0239795,
                        "iteration": 440,
                        "remaining_time": 3.080305648,
                        "learn": [
                          0.9790510604,
                          0.08307677208
                        ]
                      },
                      {
                        "test": [
                          0.9716129032,
                          0.1244089118
                        ],
                        "passed_time": 23.08146642,
                        "iteration": 441,
                        "remaining_time": 3.028789712,
                        "learn": [
                          0.9790510604,
                          0.08300783756
                        ]
                      },
                      {
                        "test": [
                          0.9716129032,
                          0.1244195239
                        ],
                        "passed_time": 23.14136531,
                        "iteration": 442,
                        "remaining_time": 2.977557162,
                        "learn": [
                          0.979008044,
                          0.08296176279
                        ]
                      },
                      {
                        "test": [
                          0.9717419355,
                          0.1243899258
                        ],
                        "passed_time": 23.1965063,
                        "iteration": 443,
                        "remaining_time": 2.92568548,
                        "learn": [
                          0.9790510604,
                          0.08286872407
                        ]
                      },
                      {
                        "test": [
                          0.9717419355,
                          0.1243850006
                        ],
                        "passed_time": 23.24912808,
                        "iteration": 444,
                        "remaining_time": 2.87348774,
                        "learn": [
                          0.9790940767,
                          0.08281872696
                        ]
                      },
                      {
                        "test": [
                          0.9716129032,
                          0.1244096272
                        ],
                        "passed_time": 23.30289177,
                        "iteration": 445,
                        "remaining_time": 2.821426358,
                        "learn": [
                          0.9790940767,
                          0.08277109618
                        ]
                      },
                      {
                        "test": [
                          0.9717419355,
                          0.1243941742
                        ],
                        "passed_time": 23.35538718,
                        "iteration": 446,
                        "remaining_time": 2.769206981,
                        "learn": [
                          0.979137093,
                          0.08271816474
                        ]
                      },
                      {
                        "test": [
                          0.9718709677,
                          0.1244065884
                        ],
                        "passed_time": 23.43727708,
                        "iteration": 447,
                        "remaining_time": 2.720398233,
                        "learn": [
                          0.9791801093,
                          0.08266180006
                        ]
                      },
                      {
                        "test": [
                          0.9717419355,
                          0.1244636984
                        ],
                        "passed_time": 23.50496435,
                        "iteration": 448,
                        "remaining_time": 2.669828913,
                        "learn": [
                          0.9791801093,
                          0.08261771227
                        ]
                      },
                      {
                        "test": [
                          0.9716129032,
                          0.1244689632
                        ],
                        "passed_time": 23.55392377,
                        "iteration": 449,
                        "remaining_time": 2.617102641,
                        "learn": [
                          0.9791801093,
                          0.0825578517
                        ]
                      },
                      {
                        "test": [
                          0.9716129032,
                          0.1244804765
                        ],
                        "passed_time": 23.6042818,
                        "iteration": 450,
                        "remaining_time": 2.564545029,
                        "learn": [
                          0.979137093,
                          0.08250986684
                        ]
                      },
                      {
                        "test": [
                          0.9717419355,
                          0.1244351827
                        ],
                        "passed_time": 23.65672946,
                        "iteration": 451,
                        "remaining_time": 2.512219058,
                        "learn": [
                          0.9790940767,
                          0.08243864203
                        ]
                      },
                      {
                        "test": [
                          0.9718709677,
                          0.1244167658
                        ],
                        "passed_time": 23.70746986,
                        "iteration": 452,
                        "remaining_time": 2.459715416,
                        "learn": [
                          0.9790940767,
                          0.08237289822
                        ]
                      },
                      {
                        "test": [
                          0.9717419355,
                          0.1243902283
                        ],
                        "passed_time": 23.76168652,
                        "iteration": 453,
                        "remaining_time": 2.407571762,
                        "learn": [
                          0.9790940767,
                          0.08233011823
                        ]
                      },
                      {
                        "test": [
                          0.9718709677,
                          0.1243999868
                        ],
                        "passed_time": 23.81476266,
                        "iteration": 454,
                        "remaining_time": 2.355306197,
                        "learn": [
                          0.9792231256,
                          0.08224422047
                        ]
                      },
                      {
                        "test": [
                          0.9718709677,
                          0.1244512339
                        ],
                        "passed_time": 23.8679797,
                        "iteration": 455,
                        "remaining_time": 2.303050673,
                        "learn": [
                          0.9792231256,
                          0.08213681715
                        ]
                      },
                      {
                        "test": [
                          0.9718709677,
                          0.1244435238
                        ],
                        "passed_time": 23.9212,
                        "iteration": 456,
                        "remaining_time": 2.250791247,
                        "learn": [
                          0.9792231256,
                          0.08206340603
                        ]
                      },
                      {
                        "test": [
                          0.9718709677,
                          0.1244382285
                        ],
                        "passed_time": 23.9711674,
                        "iteration": 457,
                        "remaining_time": 2.198229324,
                        "learn": [
                          0.9792231256,
                          0.08203458799
                        ]
                      },
                      {
                        "test": [
                          0.9718709677,
                          0.1244012091
                        ],
                        "passed_time": 24.02070886,
                        "iteration": 458,
                        "remaining_time": 2.145640661,
                        "learn": [
                          0.9792661419,
                          0.08196697985
                        ]
                      },
                      {
                        "test": [
                          0.9718709677,
                          0.1244114976
                        ],
                        "passed_time": 24.07223974,
                        "iteration": 459,
                        "remaining_time": 2.093238238,
                        "learn": [
                          0.9793091582,
                          0.08192383071
                        ]
                      },
                      {
                        "test": [
                          0.9718709677,
                          0.1244154568
                        ],
                        "passed_time": 24.13265545,
                        "iteration": 460,
                        "remaining_time": 2.041591242,
                        "learn": [
                          0.9792661419,
                          0.08188903592
                        ]
                      },
                      {
                        "test": [
                          0.9718709677,
                          0.1244183058
                        ],
                        "passed_time": 24.18023428,
                        "iteration": 461,
                        "remaining_time": 1.988850439,
                        "learn": [
                          0.9792661419,
                          0.08184111298
                        ]
                      },
                      {
                        "test": [
                          0.9717419355,
                          0.1244006579
                        ],
                        "passed_time": 24.23145377,
                        "iteration": 462,
                        "remaining_time": 1.936422871,
                        "learn": [
                          0.9792661419,
                          0.08180059388
                        ]
                      },
                      {
                        "test": [
                          0.9718709677,
                          0.1243992314
                        ],
                        "passed_time": 24.280634,
                        "iteration": 463,
                        "remaining_time": 1.883842293,
                        "learn": [
                          0.9791801093,
                          0.08170792924
                        ]
                      },
                      {
                        "test": [
                          0.9716129032,
                          0.124379459
                        ],
                        "passed_time": 24.32896242,
                        "iteration": 464,
                        "remaining_time": 1.831212225,
                        "learn": [
                          0.9792661419,
                          0.08162706578
                        ]
                      },
                      {
                        "test": [
                          0.9717419355,
                          0.1243359333
                        ],
                        "passed_time": 24.38357695,
                        "iteration": 465,
                        "remaining_time": 1.779059262,
                        "learn": [
                          0.9792231256,
                          0.08151937704
                        ]
                      },
                      {
                        "test": [
                          0.971483871,
                          0.1243244443
                        ],
                        "passed_time": 24.42960692,
                        "iteration": 466,
                        "remaining_time": 1.72628914,
                        "learn": [
                          0.9792231256,
                          0.08146500795
                        ]
                      },
                      {
                        "test": [
                          0.971483871,
                          0.1243557416
                        ],
                        "passed_time": 24.51934889,
                        "iteration": 467,
                        "remaining_time": 1.676536677,
                        "learn": [
                          0.9792231256,
                          0.08142243273
                        ]
                      },
                      {
                        "test": [
                          0.971483871,
                          0.1243306656
                        ],
                        "passed_time": 24.56509513,
                        "iteration": 468,
                        "remaining_time": 1.623705649,
                        "learn": [
                          0.9792231256,
                          0.0813938835
                        ]
                      },
                      {
                        "test": [
                          0.971483871,
                          0.1243459403
                        ],
                        "passed_time": 24.61284404,
                        "iteration": 469,
                        "remaining_time": 1.571032599,
                        "learn": [
                          0.9792231256,
                          0.08131274573
                        ]
                      },
                      {
                        "test": [
                          0.971483871,
                          0.1243178845
                        ],
                        "passed_time": 24.6598678,
                        "iteration": 470,
                        "remaining_time": 1.518335809,
                        "learn": [
                          0.9793091582,
                          0.08125588868
                        ]
                      },
                      {
                        "test": [
                          0.9713548387,
                          0.1243180466
                        ],
                        "passed_time": 24.7103491,
                        "iteration": 471,
                        "remaining_time": 1.465868167,
                        "learn": [
                          0.9792661419,
                          0.08117101458
                        ]
                      },
                      {
                        "test": [
                          0.971483871,
                          0.1242929816
                        ],
                        "passed_time": 24.75875385,
                        "iteration": 472,
                        "remaining_time": 1.413290389,
                        "learn": [
                          0.9792661419,
                          0.08113998669
                        ]
                      },
                      {
                        "test": [
                          0.9713548387,
                          0.1242764919
                        ],
                        "passed_time": 24.81422589,
                        "iteration": 473,
                        "remaining_time": 1.361117876,
                        "learn": [
                          0.9793521745,
                          0.08109660742
                        ]
                      },
                      {
                        "test": [
                          0.971483871,
                          0.1242941195
                        ],
                        "passed_time": 24.8636273,
                        "iteration": 474,
                        "remaining_time": 1.308611963,
                        "learn": [
                          0.9793951908,
                          0.08101911627
                        ]
                      },
                      {
                        "test": [
                          0.9716129032,
                          0.1242976506
                        ],
                        "passed_time": 24.91267668,
                        "iteration": 475,
                        "remaining_time": 1.256101345,
                        "learn": [
                          0.9793951908,
                          0.08097543083
                        ]
                      },
                      {
                        "test": [
                          0.9716129032,
                          0.1242910432
                        ],
                        "passed_time": 24.96584812,
                        "iteration": 476,
                        "remaining_time": 1.203803997,
                        "learn": [
                          0.9793951908,
                          0.08093729647
                        ]
                      },
                      {
                        "test": [
                          0.9716129032,
                          0.1242788388
                        ],
                        "passed_time": 25.0152957,
                        "iteration": 477,
                        "remaining_time": 1.151331601,
                        "learn": [
                          0.9793951908,
                          0.08091978097
                        ]
                      },
                      {
                        "test": [
                          0.9716129032,
                          0.1242714052
                        ],
                        "passed_time": 25.06827082,
                        "iteration": 478,
                        "remaining_time": 1.099026487,
                        "learn": [
                          0.9793951908,
                          0.08088739718
                        ]
                      },
                      {
                        "test": [
                          0.971483871,
                          0.1242826522
                        ],
                        "passed_time": 25.12221344,
                        "iteration": 479,
                        "remaining_time": 1.046758893,
                        "learn": [
                          0.9793951908,
                          0.08084367537
                        ]
                      },
                      {
                        "test": [
                          0.971483871,
                          0.1242999366
                        ],
                        "passed_time": 25.18119587,
                        "iteration": 480,
                        "remaining_time": 0.9946834126,
                        "learn": [
                          0.9793951908,
                          0.08079645131
                        ]
                      },
                      {
                        "test": [
                          0.9716129032,
                          0.124307385
                        ],
                        "passed_time": 25.23125622,
                        "iteration": 481,
                        "remaining_time": 0.9422460827,
                        "learn": [
                          0.9793951908,
                          0.08076818571
                        ]
                      },
                      {
                        "test": [
                          0.9716129032,
                          0.1243166442
                        ],
                        "passed_time": 25.28104985,
                        "iteration": 482,
                        "remaining_time": 0.8898092081,
                        "learn": [
                          0.9793521745,
                          0.08071710957
                        ]
                      },
                      {
                        "test": [
                          0.9716129032,
                          0.1243102914
                        ],
                        "passed_time": 25.33338377,
                        "iteration": 483,
                        "remaining_time": 0.8374672322,
                        "learn": [
                          0.9793521745,
                          0.08067993075
                        ]
                      },
                      {
                        "test": [
                          0.971483871,
                          0.1243309994
                        ],
                        "passed_time": 25.38978223,
                        "iteration": 484,
                        "remaining_time": 0.7852509969,
                        "learn": [
                          0.9793521745,
                          0.08060315894
                        ]
                      },
                      {
                        "test": [
                          0.9716129032,
                          0.1243285251
                        ],
                        "passed_time": 25.44067691,
                        "iteration": 485,
                        "remaining_time": 0.7328590058,
                        "learn": [
                          0.9793951908,
                          0.08054757082
                        ]
                      },
                      {
                        "test": [
                          0.971483871,
                          0.1243265665
                        ],
                        "passed_time": 25.51657115,
                        "iteration": 486,
                        "remaining_time": 0.681140503,
                        "learn": [
                          0.9794382071,
                          0.08049602542
                        ]
                      },
                      {
                        "test": [
                          0.971483871,
                          0.1243445496
                        ],
                        "passed_time": 25.59307323,
                        "iteration": 487,
                        "remaining_time": 0.6293378662,
                        "learn": [
                          0.9794382071,
                          0.08047609155
                        ]
                      },
                      {
                        "test": [
                          0.971483871,
                          0.1243532362
                        ],
                        "passed_time": 25.64667356,
                        "iteration": 488,
                        "remaining_time": 0.5769190371,
                        "learn": [
                          0.9794812234,
                          0.08039420466
                        ]
                      },
                      {
                        "test": [
                          0.971483871,
                          0.1243666501
                        ],
                        "passed_time": 25.69701817,
                        "iteration": 489,
                        "remaining_time": 0.5244289422,
                        "learn": [
                          0.9794382071,
                          0.08036085218
                        ]
                      },
                      {
                        "test": [
                          0.971483871,
                          0.1243553322
                        ],
                        "passed_time": 25.7519284,
                        "iteration": 490,
                        "remaining_time": 0.4720312742,
                        "learn": [
                          0.9794382071,
                          0.08033050743
                        ]
                      },
                      {
                        "test": [
                          0.971483871,
                          0.1243532123
                        ],
                        "passed_time": 25.8058024,
                        "iteration": 491,
                        "remaining_time": 0.4196065431,
                        "learn": [
                          0.9794812234,
                          0.08029621192
                        ]
                      },
                      {
                        "test": [
                          0.971483871,
                          0.1243551862
                        ],
                        "passed_time": 25.86096505,
                        "iteration": 492,
                        "remaining_time": 0.3671942299,
                        "learn": [
                          0.9794812234,
                          0.08024544213
                        ]
                      },
                      {
                        "test": [
                          0.9716129032,
                          0.1243842424
                        ],
                        "passed_time": 25.91374298,
                        "iteration": 493,
                        "remaining_time": 0.3147418176,
                        "learn": [
                          0.9794382071,
                          0.08018877381
                        ]
                      },
                      {
                        "test": [
                          0.971483871,
                          0.1243908946
                        ],
                        "passed_time": 25.96402614,
                        "iteration": 494,
                        "remaining_time": 0.2622628903,
                        "learn": [
                          0.9794382071,
                          0.08015293031
                        ]
                      },
                      {
                        "test": [
                          0.971483871,
                          0.1243996807
                        ],
                        "passed_time": 26.01188098,
                        "iteration": 495,
                        "remaining_time": 0.2097732337,
                        "learn": [
                          0.9794382071,
                          0.08012354207
                        ]
                      },
                      {
                        "test": [
                          0.9716129032,
                          0.1243938469
                        ],
                        "passed_time": 26.06409892,
                        "iteration": 496,
                        "remaining_time": 0.1573285649,
                        "learn": [
                          0.9794382071,
                          0.0800866264
                        ]
                      },
                      {
                        "test": [
                          0.9716129032,
                          0.1244051517
                        ],
                        "passed_time": 26.11425129,
                        "iteration": 497,
                        "remaining_time": 0.1048765112,
                        "learn": [
                          0.9794382071,
                          0.08004227128
                        ]
                      },
                      {
                        "test": [
                          0.9716129032,
                          0.1244014424
                        ],
                        "passed_time": 26.17421667,
                        "iteration": 498,
                        "remaining_time": 0.05245334001,
                        "learn": [
                          0.9794382071,
                          0.08001847917
                        ]
                      },
                      {
                        "test": [
                          0.971483871,
                          0.1244106432
                        ],
                        "passed_time": 26.21946988,
                        "iteration": 499,
                        "remaining_time": 0,
                        "learn": [
                          0.9794812234,
                          0.07997913102
                        ]
                      }
                    ]
                  },
                  "total_iterations": 500,
                  "passed_iterations": 499
                },
                "path": "catboost_info",
                "name": "catboost_info"
              }
            },
            "_view_module": "catboost-widget",
            "_model_module_version": "^1.0.0",
            "_view_count": null,
            "_view_module_version": "^1.0.0",
            "layout": "IPY_MODEL_0b6a5a6c05bd49248c0fd734b56bfeb3",
            "_model_module": "catboost-widget"
          }
        }
      }
    }
  },
  "nbformat": 4,
  "nbformat_minor": 5
}