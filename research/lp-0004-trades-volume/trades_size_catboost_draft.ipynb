{
  "cells": [
    {
      "cell_type": "code",
      "execution_count": 1,
      "id": "6PWJsnjzBfq1",
      "metadata": {
        "colab": {
          "base_uri": "https://localhost:8080/"
        },
        "id": "6PWJsnjzBfq1",
        "outputId": "bc1ee8de-2a0c-45af-a79a-75414e6d2399"
      },
      "outputs": [
        {
          "name": "stdout",
          "output_type": "stream",
          "text": [
            "Collecting catboost\n",
            "  Downloading catboost-1.0.4-cp37-none-manylinux1_x86_64.whl (76.1 MB)\n",
            "\u001b[K     |████████████████████████████████| 76.1 MB 1.2 MB/s \n",
            "\u001b[?25hRequirement already satisfied: numpy>=1.16.0 in /usr/local/lib/python3.7/dist-packages (from catboost) (1.19.5)\n",
            "Requirement already satisfied: plotly in /usr/local/lib/python3.7/dist-packages (from catboost) (4.4.1)\n",
            "Requirement already satisfied: scipy in /usr/local/lib/python3.7/dist-packages (from catboost) (1.4.1)\n",
            "Requirement already satisfied: six in /usr/local/lib/python3.7/dist-packages (from catboost) (1.15.0)\n",
            "Requirement already satisfied: graphviz in /usr/local/lib/python3.7/dist-packages (from catboost) (0.10.1)\n",
            "Requirement already satisfied: pandas>=0.24.0 in /usr/local/lib/python3.7/dist-packages (from catboost) (1.1.5)\n",
            "Requirement already satisfied: matplotlib in /usr/local/lib/python3.7/dist-packages (from catboost) (3.2.2)\n",
            "Requirement already satisfied: python-dateutil>=2.7.3 in /usr/local/lib/python3.7/dist-packages (from pandas>=0.24.0->catboost) (2.8.2)\n",
            "Requirement already satisfied: pytz>=2017.2 in /usr/local/lib/python3.7/dist-packages (from pandas>=0.24.0->catboost) (2018.9)\n",
            "Requirement already satisfied: pyparsing!=2.0.4,!=2.1.2,!=2.1.6,>=2.0.1 in /usr/local/lib/python3.7/dist-packages (from matplotlib->catboost) (3.0.6)\n",
            "Requirement already satisfied: kiwisolver>=1.0.1 in /usr/local/lib/python3.7/dist-packages (from matplotlib->catboost) (1.3.2)\n",
            "Requirement already satisfied: cycler>=0.10 in /usr/local/lib/python3.7/dist-packages (from matplotlib->catboost) (0.11.0)\n",
            "Requirement already satisfied: retrying>=1.3.3 in /usr/local/lib/python3.7/dist-packages (from plotly->catboost) (1.3.3)\n",
            "Installing collected packages: catboost\n",
            "Successfully installed catboost-1.0.4\n",
            "Collecting hyperopt==0.2.5\n",
            "  Downloading hyperopt-0.2.5-py2.py3-none-any.whl (965 kB)\n",
            "\u001b[K     |████████████████████████████████| 965 kB 8.9 MB/s \n",
            "\u001b[?25hRequirement already satisfied: tqdm in /usr/local/lib/python3.7/dist-packages (from hyperopt==0.2.5) (4.62.3)\n",
            "Requirement already satisfied: cloudpickle in /usr/local/lib/python3.7/dist-packages (from hyperopt==0.2.5) (1.3.0)\n",
            "Requirement already satisfied: networkx>=2.2 in /usr/local/lib/python3.7/dist-packages (from hyperopt==0.2.5) (2.6.3)\n",
            "Requirement already satisfied: scipy in /usr/local/lib/python3.7/dist-packages (from hyperopt==0.2.5) (1.4.1)\n",
            "Requirement already satisfied: future in /usr/local/lib/python3.7/dist-packages (from hyperopt==0.2.5) (0.16.0)\n",
            "Requirement already satisfied: six in /usr/local/lib/python3.7/dist-packages (from hyperopt==0.2.5) (1.15.0)\n",
            "Requirement already satisfied: numpy in /usr/local/lib/python3.7/dist-packages (from hyperopt==0.2.5) (1.19.5)\n",
            "Installing collected packages: hyperopt\n",
            "  Attempting uninstall: hyperopt\n",
            "    Found existing installation: hyperopt 0.1.2\n",
            "    Uninstalling hyperopt-0.1.2:\n",
            "      Successfully uninstalled hyperopt-0.1.2\n",
            "Successfully installed hyperopt-0.2.5\n"
          ]
        }
      ],
      "source": [
        "!pip3 install catboost\n",
        "!pip3 install hyperopt==0.2.5"
      ]
    },
    {
      "cell_type": "code",
      "execution_count": 2,
      "id": "DWI_e1FSru3w",
      "metadata": {
        "colab": {
          "base_uri": "https://localhost:8080/"
        },
        "id": "DWI_e1FSru3w",
        "outputId": "d6662ff4-c91f-406d-a9b1-f0494f50e67f"
      },
      "outputs": [
        {
          "name": "stdout",
          "output_type": "stream",
          "text": [
            "Mounted at /content/drive\n"
          ]
        }
      ],
      "source": [
        "from google.colab import drive\n",
        "drive.mount('/content/drive')"
      ]
    },
    {
      "cell_type": "code",
      "execution_count": 3,
      "id": "vjlvDT-QXrD0",
      "metadata": {
        "id": "vjlvDT-QXrD0"
      },
      "outputs": [],
      "source": [
        "import pandas as pd\n",
        "import numpy as np\n",
        "from catboost import CatBoostClassifier, Pool, metrics, cv\n",
        "from sklearn.metrics import accuracy_score\n",
        "from sklearn.model_selection import train_test_split\n",
        "import hyperopt\n",
        "from numpy.random import RandomState\n",
        "from catboost.utils import select_threshold"
      ]
    },
    {
      "cell_type": "code",
      "execution_count": 8,
      "id": "853aa3c4-a2d3-4845-ad55-388c7ddc238f",
      "metadata": {
        "id": "853aa3c4-a2d3-4845-ad55-388c7ddc238f"
      },
      "outputs": [],
      "source": [
        "csv_path = \"drive/MyDrive/indicators_01-08-21_22-01-22.csv\"\n",
        "df = pd.read_csv(csv_path)"
      ]
    },
    {
      "cell_type": "code",
      "execution_count": 9,
      "id": "6d19d8f2-29d6-475a-8e14-714733f36850",
      "metadata": {
        "colab": {
          "base_uri": "https://localhost:8080/"
        },
        "id": "6d19d8f2-29d6-475a-8e14-714733f36850",
        "outputId": "df4a2376-d6f0-434f-e3d9-02a17680d79b"
      },
      "outputs": [
        {
          "name": "stdout",
          "output_type": "stream",
          "text": [
            "['trade_volume-BUY-6-sec', 'moving_average_price-BUY-6-sec', 'weighted_moving_average_price-BUY-6-sec', 'exp_moving_average_price-BUY-6-sec', 'stochastic_oscillator-BUY-6-sec', 'trade_volume-BUY-12-sec', 'moving_average_price-BUY-12-sec', 'weighted_moving_average_price-BUY-12-sec', 'exp_moving_average_price-BUY-12-sec', 'stochastic_oscillator-BUY-12-sec', 'trade_volume-BUY-18-sec', 'moving_average_price-BUY-18-sec', 'weighted_moving_average_price-BUY-18-sec', 'exp_moving_average_price-BUY-18-sec', 'stochastic_oscillator-BUY-18-sec', 'trade_volume-BUY-24-sec', 'moving_average_price-BUY-24-sec', 'weighted_moving_average_price-BUY-24-sec', 'exp_moving_average_price-BUY-24-sec', 'stochastic_oscillator-BUY-24-sec', 'trade_volume-BUY-30-sec', 'moving_average_price-BUY-30-sec', 'weighted_moving_average_price-BUY-30-sec', 'exp_moving_average_price-BUY-30-sec', 'stochastic_oscillator-BUY-30-sec', 'trade_volume-BUY-36-sec', 'moving_average_price-BUY-36-sec', 'weighted_moving_average_price-BUY-36-sec', 'exp_moving_average_price-BUY-36-sec', 'stochastic_oscillator-BUY-36-sec', 'trade_volume-BUY-42-sec', 'moving_average_price-BUY-42-sec', 'weighted_moving_average_price-BUY-42-sec', 'exp_moving_average_price-BUY-42-sec', 'stochastic_oscillator-BUY-42-sec', 'trade_volume-BUY-48-sec', 'moving_average_price-BUY-48-sec', 'weighted_moving_average_price-BUY-48-sec', 'exp_moving_average_price-BUY-48-sec', 'stochastic_oscillator-BUY-48-sec', 'trade_volume-BUY-54-sec', 'moving_average_price-BUY-54-sec', 'weighted_moving_average_price-BUY-54-sec', 'exp_moving_average_price-BUY-54-sec', 'stochastic_oscillator-BUY-54-sec', 'trade_volume-BUY-60-sec', 'moving_average_price-BUY-60-sec', 'weighted_moving_average_price-BUY-60-sec', 'exp_moving_average_price-BUY-60-sec', 'stochastic_oscillator-BUY-60-sec', 'trade_volume-SELL-6-sec', 'moving_average_price-SELL-6-sec', 'weighted_moving_average_price-SELL-6-sec', 'exp_moving_average_price-SELL-6-sec', 'stochastic_oscillator-SELL-6-sec', 'trade_volume-SELL-12-sec', 'moving_average_price-SELL-12-sec', 'weighted_moving_average_price-SELL-12-sec', 'exp_moving_average_price-SELL-12-sec', 'stochastic_oscillator-SELL-12-sec', 'trade_volume-SELL-18-sec', 'moving_average_price-SELL-18-sec', 'weighted_moving_average_price-SELL-18-sec', 'exp_moving_average_price-SELL-18-sec', 'stochastic_oscillator-SELL-18-sec', 'trade_volume-SELL-24-sec', 'moving_average_price-SELL-24-sec', 'weighted_moving_average_price-SELL-24-sec', 'exp_moving_average_price-SELL-24-sec', 'stochastic_oscillator-SELL-24-sec', 'trade_volume-SELL-30-sec', 'moving_average_price-SELL-30-sec', 'weighted_moving_average_price-SELL-30-sec', 'exp_moving_average_price-SELL-30-sec', 'stochastic_oscillator-SELL-30-sec', 'trade_volume-SELL-36-sec', 'moving_average_price-SELL-36-sec', 'weighted_moving_average_price-SELL-36-sec', 'exp_moving_average_price-SELL-36-sec', 'stochastic_oscillator-SELL-36-sec', 'trade_volume-SELL-42-sec', 'moving_average_price-SELL-42-sec', 'weighted_moving_average_price-SELL-42-sec', 'exp_moving_average_price-SELL-42-sec', 'stochastic_oscillator-SELL-42-sec', 'trade_volume-SELL-48-sec', 'moving_average_price-SELL-48-sec', 'weighted_moving_average_price-SELL-48-sec', 'exp_moving_average_price-SELL-48-sec', 'stochastic_oscillator-SELL-48-sec', 'trade_volume-SELL-54-sec', 'moving_average_price-SELL-54-sec', 'weighted_moving_average_price-SELL-54-sec', 'exp_moving_average_price-SELL-54-sec', 'stochastic_oscillator-SELL-54-sec', 'trade_volume-SELL-60-sec', 'moving_average_price-SELL-60-sec', 'weighted_moving_average_price-SELL-60-sec', 'exp_moving_average_price-SELL-60-sec', 'stochastic_oscillator-SELL-60-sec']\n",
            "['punch-BUY-30-sec', 'punch-SELL-30-sec']\n"
          ]
        }
      ],
      "source": [
        "x_columns = list(filter(lambda column: not 'punch' in column, df.columns))\n",
        "y_columns = list(filter(lambda column: 'punch' in column, df.columns))\n",
        "print(x_columns)\n",
        "print(y_columns)"
      ]
    },
    {
      "cell_type": "code",
      "execution_count": 10,
      "id": "96ce2f97-578b-4e03-88df-68348c66e537",
      "metadata": {
        "colab": {
          "base_uri": "https://localhost:8080/",
          "height": 713
        },
        "id": "96ce2f97-578b-4e03-88df-68348c66e537",
        "outputId": "8824e552-8d70-474c-fd3e-f58d7f8b2215"
      },
      "outputs": [
        {
          "name": "stderr",
          "output_type": "stream",
          "text": [
            "/usr/local/lib/python3.7/dist-packages/ipykernel_launcher.py:13: SettingWithCopyWarning: \n",
            "A value is trying to be set on a copy of a slice from a DataFrame.\n",
            "Try using .loc[row_indexer,col_indexer] = value instead\n",
            "\n",
            "See the caveats in the documentation: https://pandas.pydata.org/pandas-docs/stable/user_guide/indexing.html#returning-a-view-versus-a-copy\n",
            "  del sys.path[0]\n",
            "/usr/local/lib/python3.7/dist-packages/ipykernel_launcher.py:10: SettingWithCopyWarning: \n",
            "A value is trying to be set on a copy of a slice from a DataFrame.\n",
            "Try using .loc[row_indexer,col_indexer] = value instead\n",
            "\n",
            "See the caveats in the documentation: https://pandas.pydata.org/pandas-docs/stable/user_guide/indexing.html#returning-a-view-versus-a-copy\n",
            "  # Remove the CWD from sys.path while we load stuff.\n"
          ]
        },
        {
          "data": {
            "text/html": [
              "\n",
              "  <div id=\"df-8e830928-f816-454c-875c-745e8b306e94\">\n",
              "    <div class=\"colab-df-container\">\n",
              "      <div>\n",
              "<style scoped>\n",
              "    .dataframe tbody tr th:only-of-type {\n",
              "        vertical-align: middle;\n",
              "    }\n",
              "\n",
              "    .dataframe tbody tr th {\n",
              "        vertical-align: top;\n",
              "    }\n",
              "\n",
              "    .dataframe thead th {\n",
              "        text-align: right;\n",
              "    }\n",
              "</style>\n",
              "<table border=\"1\" class=\"dataframe\">\n",
              "  <thead>\n",
              "    <tr style=\"text-align: right;\">\n",
              "      <th></th>\n",
              "      <th>trade_volume-BUY-6-sec</th>\n",
              "      <th>moving_average_price-BUY-6-sec</th>\n",
              "      <th>weighted_moving_average_price-BUY-6-sec</th>\n",
              "      <th>exp_moving_average_price-BUY-6-sec</th>\n",
              "      <th>stochastic_oscillator-BUY-6-sec</th>\n",
              "      <th>trade_volume-BUY-12-sec</th>\n",
              "      <th>moving_average_price-BUY-12-sec</th>\n",
              "      <th>weighted_moving_average_price-BUY-12-sec</th>\n",
              "      <th>exp_moving_average_price-BUY-12-sec</th>\n",
              "      <th>stochastic_oscillator-BUY-12-sec</th>\n",
              "      <th>trade_volume-BUY-18-sec</th>\n",
              "      <th>moving_average_price-BUY-18-sec</th>\n",
              "      <th>weighted_moving_average_price-BUY-18-sec</th>\n",
              "      <th>exp_moving_average_price-BUY-18-sec</th>\n",
              "      <th>stochastic_oscillator-BUY-18-sec</th>\n",
              "      <th>trade_volume-BUY-24-sec</th>\n",
              "      <th>moving_average_price-BUY-24-sec</th>\n",
              "      <th>weighted_moving_average_price-BUY-24-sec</th>\n",
              "      <th>exp_moving_average_price-BUY-24-sec</th>\n",
              "      <th>stochastic_oscillator-BUY-24-sec</th>\n",
              "      <th>trade_volume-BUY-30-sec</th>\n",
              "      <th>moving_average_price-BUY-30-sec</th>\n",
              "      <th>weighted_moving_average_price-BUY-30-sec</th>\n",
              "      <th>exp_moving_average_price-BUY-30-sec</th>\n",
              "      <th>stochastic_oscillator-BUY-30-sec</th>\n",
              "      <th>trade_volume-BUY-36-sec</th>\n",
              "      <th>moving_average_price-BUY-36-sec</th>\n",
              "      <th>weighted_moving_average_price-BUY-36-sec</th>\n",
              "      <th>exp_moving_average_price-BUY-36-sec</th>\n",
              "      <th>stochastic_oscillator-BUY-36-sec</th>\n",
              "      <th>trade_volume-BUY-42-sec</th>\n",
              "      <th>moving_average_price-BUY-42-sec</th>\n",
              "      <th>weighted_moving_average_price-BUY-42-sec</th>\n",
              "      <th>exp_moving_average_price-BUY-42-sec</th>\n",
              "      <th>stochastic_oscillator-BUY-42-sec</th>\n",
              "      <th>trade_volume-BUY-48-sec</th>\n",
              "      <th>moving_average_price-BUY-48-sec</th>\n",
              "      <th>weighted_moving_average_price-BUY-48-sec</th>\n",
              "      <th>exp_moving_average_price-BUY-48-sec</th>\n",
              "      <th>stochastic_oscillator-BUY-48-sec</th>\n",
              "      <th>...</th>\n",
              "      <th>weighted_moving_average_price-SELL-12-sec</th>\n",
              "      <th>exp_moving_average_price-SELL-12-sec</th>\n",
              "      <th>stochastic_oscillator-SELL-12-sec</th>\n",
              "      <th>trade_volume-SELL-18-sec</th>\n",
              "      <th>moving_average_price-SELL-18-sec</th>\n",
              "      <th>weighted_moving_average_price-SELL-18-sec</th>\n",
              "      <th>exp_moving_average_price-SELL-18-sec</th>\n",
              "      <th>stochastic_oscillator-SELL-18-sec</th>\n",
              "      <th>trade_volume-SELL-24-sec</th>\n",
              "      <th>moving_average_price-SELL-24-sec</th>\n",
              "      <th>weighted_moving_average_price-SELL-24-sec</th>\n",
              "      <th>exp_moving_average_price-SELL-24-sec</th>\n",
              "      <th>stochastic_oscillator-SELL-24-sec</th>\n",
              "      <th>trade_volume-SELL-30-sec</th>\n",
              "      <th>moving_average_price-SELL-30-sec</th>\n",
              "      <th>weighted_moving_average_price-SELL-30-sec</th>\n",
              "      <th>exp_moving_average_price-SELL-30-sec</th>\n",
              "      <th>stochastic_oscillator-SELL-30-sec</th>\n",
              "      <th>trade_volume-SELL-36-sec</th>\n",
              "      <th>moving_average_price-SELL-36-sec</th>\n",
              "      <th>weighted_moving_average_price-SELL-36-sec</th>\n",
              "      <th>exp_moving_average_price-SELL-36-sec</th>\n",
              "      <th>stochastic_oscillator-SELL-36-sec</th>\n",
              "      <th>trade_volume-SELL-42-sec</th>\n",
              "      <th>moving_average_price-SELL-42-sec</th>\n",
              "      <th>weighted_moving_average_price-SELL-42-sec</th>\n",
              "      <th>exp_moving_average_price-SELL-42-sec</th>\n",
              "      <th>stochastic_oscillator-SELL-42-sec</th>\n",
              "      <th>trade_volume-SELL-48-sec</th>\n",
              "      <th>moving_average_price-SELL-48-sec</th>\n",
              "      <th>weighted_moving_average_price-SELL-48-sec</th>\n",
              "      <th>exp_moving_average_price-SELL-48-sec</th>\n",
              "      <th>stochastic_oscillator-SELL-48-sec</th>\n",
              "      <th>trade_volume-SELL-54-sec</th>\n",
              "      <th>moving_average_price-SELL-54-sec</th>\n",
              "      <th>weighted_moving_average_price-SELL-54-sec</th>\n",
              "      <th>exp_moving_average_price-SELL-54-sec</th>\n",
              "      <th>stochastic_oscillator-SELL-54-sec</th>\n",
              "      <th>trade_volume-SELL-60-sec</th>\n",
              "      <th>stochastic_oscillator-SELL-60-sec</th>\n",
              "    </tr>\n",
              "  </thead>\n",
              "  <tbody>\n",
              "    <tr>\n",
              "      <th>0</th>\n",
              "      <td>0.100</td>\n",
              "      <td>1.000000</td>\n",
              "      <td>1.000000</td>\n",
              "      <td>1.000000</td>\n",
              "      <td>0.0</td>\n",
              "      <td>0.400</td>\n",
              "      <td>1.000078</td>\n",
              "      <td>1.000113</td>\n",
              "      <td>1.000005</td>\n",
              "      <td>0.000000</td>\n",
              "      <td>10.355</td>\n",
              "      <td>1.000006</td>\n",
              "      <td>1.000000</td>\n",
              "      <td>1.000000</td>\n",
              "      <td>1.000000</td>\n",
              "      <td>0.500</td>\n",
              "      <td>1.000013</td>\n",
              "      <td>1.000001</td>\n",
              "      <td>1.000000</td>\n",
              "      <td>0.000000</td>\n",
              "      <td>10.655</td>\n",
              "      <td>1.000020</td>\n",
              "      <td>1.000002</td>\n",
              "      <td>1.0</td>\n",
              "      <td>1.000000</td>\n",
              "      <td>0.716</td>\n",
              "      <td>1.000023</td>\n",
              "      <td>1.000004</td>\n",
              "      <td>1.000000</td>\n",
              "      <td>0.000000</td>\n",
              "      <td>10.855</td>\n",
              "      <td>1.000019</td>\n",
              "      <td>1.000004</td>\n",
              "      <td>1.000000</td>\n",
              "      <td>1.000000</td>\n",
              "      <td>0.916</td>\n",
              "      <td>1.000000</td>\n",
              "      <td>1.000000</td>\n",
              "      <td>1.0</td>\n",
              "      <td>0.000000</td>\n",
              "      <td>...</td>\n",
              "      <td>1.000067</td>\n",
              "      <td>1.000007</td>\n",
              "      <td>0.000000</td>\n",
              "      <td>0.400</td>\n",
              "      <td>1.000035</td>\n",
              "      <td>1.000038</td>\n",
              "      <td>1.000000</td>\n",
              "      <td>1.000000</td>\n",
              "      <td>0.800</td>\n",
              "      <td>1.000006</td>\n",
              "      <td>1.000005</td>\n",
              "      <td>1.000000</td>\n",
              "      <td>0.000000</td>\n",
              "      <td>0.600</td>\n",
              "      <td>1.000035</td>\n",
              "      <td>1.000140</td>\n",
              "      <td>1.0</td>\n",
              "      <td>1.000000</td>\n",
              "      <td>3.500</td>\n",
              "      <td>1.000020</td>\n",
              "      <td>1.000004</td>\n",
              "      <td>1.000000</td>\n",
              "      <td>0.000000</td>\n",
              "      <td>0.800</td>\n",
              "      <td>1.000023</td>\n",
              "      <td>1.000024</td>\n",
              "      <td>1.0</td>\n",
              "      <td>1.000000</td>\n",
              "      <td>5.566</td>\n",
              "      <td>1.000012</td>\n",
              "      <td>1.000014</td>\n",
              "      <td>1.0</td>\n",
              "      <td>0.000000</td>\n",
              "      <td>3.400</td>\n",
              "      <td>1.000028</td>\n",
              "      <td>1.000018</td>\n",
              "      <td>1.0</td>\n",
              "      <td>1.000000</td>\n",
              "      <td>15.547</td>\n",
              "      <td>0.000000</td>\n",
              "    </tr>\n",
              "    <tr>\n",
              "      <th>1</th>\n",
              "      <td>0.200</td>\n",
              "      <td>1.000000</td>\n",
              "      <td>1.000000</td>\n",
              "      <td>1.000000</td>\n",
              "      <td>0.0</td>\n",
              "      <td>0.300</td>\n",
              "      <td>1.000000</td>\n",
              "      <td>1.000000</td>\n",
              "      <td>1.000000</td>\n",
              "      <td>0.000000</td>\n",
              "      <td>0.400</td>\n",
              "      <td>1.000000</td>\n",
              "      <td>1.000000</td>\n",
              "      <td>1.000000</td>\n",
              "      <td>0.000000</td>\n",
              "      <td>0.600</td>\n",
              "      <td>1.000000</td>\n",
              "      <td>1.000000</td>\n",
              "      <td>1.000000</td>\n",
              "      <td>0.000000</td>\n",
              "      <td>0.650</td>\n",
              "      <td>1.000000</td>\n",
              "      <td>1.000000</td>\n",
              "      <td>1.0</td>\n",
              "      <td>0.000000</td>\n",
              "      <td>0.800</td>\n",
              "      <td>1.000037</td>\n",
              "      <td>1.000048</td>\n",
              "      <td>1.000000</td>\n",
              "      <td>0.000000</td>\n",
              "      <td>1.399</td>\n",
              "      <td>1.000005</td>\n",
              "      <td>1.000004</td>\n",
              "      <td>1.000000</td>\n",
              "      <td>0.600000</td>\n",
              "      <td>0.900</td>\n",
              "      <td>0.999985</td>\n",
              "      <td>0.999986</td>\n",
              "      <td>1.0</td>\n",
              "      <td>0.000000</td>\n",
              "      <td>...</td>\n",
              "      <td>1.000000</td>\n",
              "      <td>1.000000</td>\n",
              "      <td>0.000000</td>\n",
              "      <td>0.766</td>\n",
              "      <td>1.000000</td>\n",
              "      <td>1.000000</td>\n",
              "      <td>1.000000</td>\n",
              "      <td>0.000000</td>\n",
              "      <td>4.084</td>\n",
              "      <td>1.000000</td>\n",
              "      <td>1.000000</td>\n",
              "      <td>1.000000</td>\n",
              "      <td>0.000000</td>\n",
              "      <td>0.766</td>\n",
              "      <td>1.000008</td>\n",
              "      <td>1.000003</td>\n",
              "      <td>1.0</td>\n",
              "      <td>0.000000</td>\n",
              "      <td>4.284</td>\n",
              "      <td>1.000025</td>\n",
              "      <td>1.000010</td>\n",
              "      <td>1.000000</td>\n",
              "      <td>0.600000</td>\n",
              "      <td>1.166</td>\n",
              "      <td>1.000000</td>\n",
              "      <td>1.000000</td>\n",
              "      <td>1.0</td>\n",
              "      <td>0.000000</td>\n",
              "      <td>4.284</td>\n",
              "      <td>0.999875</td>\n",
              "      <td>0.999760</td>\n",
              "      <td>1.0</td>\n",
              "      <td>0.600000</td>\n",
              "      <td>34.697</td>\n",
              "      <td>0.999995</td>\n",
              "      <td>1.000000</td>\n",
              "      <td>1.0</td>\n",
              "      <td>-0.339130</td>\n",
              "      <td>4.384</td>\n",
              "      <td>0.600000</td>\n",
              "    </tr>\n",
              "    <tr>\n",
              "      <th>2</th>\n",
              "      <td>0.200</td>\n",
              "      <td>1.000054</td>\n",
              "      <td>1.000093</td>\n",
              "      <td>1.000045</td>\n",
              "      <td>0.0</td>\n",
              "      <td>49.298</td>\n",
              "      <td>0.999927</td>\n",
              "      <td>0.999998</td>\n",
              "      <td>0.999997</td>\n",
              "      <td>0.000000</td>\n",
              "      <td>0.500</td>\n",
              "      <td>0.999985</td>\n",
              "      <td>0.999999</td>\n",
              "      <td>1.000000</td>\n",
              "      <td>0.000000</td>\n",
              "      <td>49.398</td>\n",
              "      <td>0.999912</td>\n",
              "      <td>0.999997</td>\n",
              "      <td>1.000000</td>\n",
              "      <td>0.000000</td>\n",
              "      <td>0.700</td>\n",
              "      <td>0.999762</td>\n",
              "      <td>0.999991</td>\n",
              "      <td>1.0</td>\n",
              "      <td>0.000000</td>\n",
              "      <td>49.798</td>\n",
              "      <td>0.999887</td>\n",
              "      <td>0.999993</td>\n",
              "      <td>1.000000</td>\n",
              "      <td>0.000000</td>\n",
              "      <td>0.946</td>\n",
              "      <td>0.999952</td>\n",
              "      <td>0.999997</td>\n",
              "      <td>1.000000</td>\n",
              "      <td>0.000000</td>\n",
              "      <td>49.898</td>\n",
              "      <td>0.999883</td>\n",
              "      <td>0.999994</td>\n",
              "      <td>1.0</td>\n",
              "      <td>0.000000</td>\n",
              "      <td>...</td>\n",
              "      <td>1.000006</td>\n",
              "      <td>1.000000</td>\n",
              "      <td>0.000000</td>\n",
              "      <td>6.920</td>\n",
              "      <td>0.999977</td>\n",
              "      <td>1.000000</td>\n",
              "      <td>1.000000</td>\n",
              "      <td>0.000000</td>\n",
              "      <td>145.457</td>\n",
              "      <td>0.999963</td>\n",
              "      <td>0.999997</td>\n",
              "      <td>1.000000</td>\n",
              "      <td>0.000000</td>\n",
              "      <td>12.726</td>\n",
              "      <td>0.999923</td>\n",
              "      <td>0.999980</td>\n",
              "      <td>1.0</td>\n",
              "      <td>0.000000</td>\n",
              "      <td>152.812</td>\n",
              "      <td>0.999889</td>\n",
              "      <td>0.999950</td>\n",
              "      <td>1.000000</td>\n",
              "      <td>0.000000</td>\n",
              "      <td>21.783</td>\n",
              "      <td>0.999950</td>\n",
              "      <td>0.999998</td>\n",
              "      <td>1.0</td>\n",
              "      <td>0.000000</td>\n",
              "      <td>153.112</td>\n",
              "      <td>0.999967</td>\n",
              "      <td>0.999993</td>\n",
              "      <td>1.0</td>\n",
              "      <td>0.000000</td>\n",
              "      <td>22.783</td>\n",
              "      <td>0.999961</td>\n",
              "      <td>0.999998</td>\n",
              "      <td>1.0</td>\n",
              "      <td>0.000000</td>\n",
              "      <td>153.412</td>\n",
              "      <td>0.000000</td>\n",
              "    </tr>\n",
              "    <tr>\n",
              "      <th>3</th>\n",
              "      <td>2.513</td>\n",
              "      <td>1.000151</td>\n",
              "      <td>1.000178</td>\n",
              "      <td>1.000007</td>\n",
              "      <td>0.0</td>\n",
              "      <td>4.975</td>\n",
              "      <td>1.000460</td>\n",
              "      <td>1.000613</td>\n",
              "      <td>1.000000</td>\n",
              "      <td>1.000000</td>\n",
              "      <td>38.830</td>\n",
              "      <td>0.999996</td>\n",
              "      <td>0.999999</td>\n",
              "      <td>1.000000</td>\n",
              "      <td>0.000000</td>\n",
              "      <td>5.175</td>\n",
              "      <td>1.000000</td>\n",
              "      <td>1.000000</td>\n",
              "      <td>1.000000</td>\n",
              "      <td>1.000000</td>\n",
              "      <td>38.830</td>\n",
              "      <td>0.999971</td>\n",
              "      <td>0.999996</td>\n",
              "      <td>1.0</td>\n",
              "      <td>0.000000</td>\n",
              "      <td>5.575</td>\n",
              "      <td>0.999939</td>\n",
              "      <td>0.999849</td>\n",
              "      <td>1.000000</td>\n",
              "      <td>1.000000</td>\n",
              "      <td>48.346</td>\n",
              "      <td>1.000000</td>\n",
              "      <td>1.000000</td>\n",
              "      <td>1.000000</td>\n",
              "      <td>-0.043478</td>\n",
              "      <td>5.575</td>\n",
              "      <td>1.000000</td>\n",
              "      <td>1.000000</td>\n",
              "      <td>1.0</td>\n",
              "      <td>1.000000</td>\n",
              "      <td>...</td>\n",
              "      <td>1.000071</td>\n",
              "      <td>1.000000</td>\n",
              "      <td>0.000000</td>\n",
              "      <td>45.514</td>\n",
              "      <td>0.999939</td>\n",
              "      <td>0.999967</td>\n",
              "      <td>1.000000</td>\n",
              "      <td>1.000000</td>\n",
              "      <td>13.863</td>\n",
              "      <td>0.999977</td>\n",
              "      <td>0.999998</td>\n",
              "      <td>1.000000</td>\n",
              "      <td>0.000000</td>\n",
              "      <td>45.814</td>\n",
              "      <td>0.999910</td>\n",
              "      <td>0.999956</td>\n",
              "      <td>1.0</td>\n",
              "      <td>1.000000</td>\n",
              "      <td>19.263</td>\n",
              "      <td>0.999986</td>\n",
              "      <td>0.999998</td>\n",
              "      <td>1.000000</td>\n",
              "      <td>-0.043478</td>\n",
              "      <td>45.964</td>\n",
              "      <td>0.999973</td>\n",
              "      <td>0.999997</td>\n",
              "      <td>1.0</td>\n",
              "      <td>0.947588</td>\n",
              "      <td>19.463</td>\n",
              "      <td>0.999892</td>\n",
              "      <td>0.999960</td>\n",
              "      <td>1.0</td>\n",
              "      <td>-0.055696</td>\n",
              "      <td>48.145</td>\n",
              "      <td>0.999830</td>\n",
              "      <td>0.999537</td>\n",
              "      <td>1.0</td>\n",
              "      <td>0.722363</td>\n",
              "      <td>43.943</td>\n",
              "      <td>-0.237069</td>\n",
              "    </tr>\n",
              "    <tr>\n",
              "      <th>4</th>\n",
              "      <td>5.152</td>\n",
              "      <td>0.999959</td>\n",
              "      <td>0.999992</td>\n",
              "      <td>0.999995</td>\n",
              "      <td>1.0</td>\n",
              "      <td>0.100</td>\n",
              "      <td>0.999963</td>\n",
              "      <td>0.999992</td>\n",
              "      <td>1.000000</td>\n",
              "      <td>-0.277778</td>\n",
              "      <td>5.252</td>\n",
              "      <td>0.999958</td>\n",
              "      <td>0.999884</td>\n",
              "      <td>1.000000</td>\n",
              "      <td>0.927778</td>\n",
              "      <td>6.890</td>\n",
              "      <td>1.000013</td>\n",
              "      <td>1.000004</td>\n",
              "      <td>1.000000</td>\n",
              "      <td>-0.277778</td>\n",
              "      <td>14.568</td>\n",
              "      <td>1.000015</td>\n",
              "      <td>1.000000</td>\n",
              "      <td>1.0</td>\n",
              "      <td>0.927778</td>\n",
              "      <td>8.057</td>\n",
              "      <td>1.000014</td>\n",
              "      <td>1.000000</td>\n",
              "      <td>1.000000</td>\n",
              "      <td>-0.277778</td>\n",
              "      <td>15.068</td>\n",
              "      <td>1.000056</td>\n",
              "      <td>1.000023</td>\n",
              "      <td>1.000000</td>\n",
              "      <td>0.927778</td>\n",
              "      <td>10.496</td>\n",
              "      <td>1.000165</td>\n",
              "      <td>1.000644</td>\n",
              "      <td>1.0</td>\n",
              "      <td>-0.161111</td>\n",
              "      <td>...</td>\n",
              "      <td>0.999952</td>\n",
              "      <td>1.000000</td>\n",
              "      <td>-0.257143</td>\n",
              "      <td>9.616</td>\n",
              "      <td>1.000000</td>\n",
              "      <td>1.000002</td>\n",
              "      <td>1.000000</td>\n",
              "      <td>0.819643</td>\n",
              "      <td>6.406</td>\n",
              "      <td>1.000006</td>\n",
              "      <td>1.000001</td>\n",
              "      <td>1.000000</td>\n",
              "      <td>-0.257143</td>\n",
              "      <td>9.716</td>\n",
              "      <td>1.000011</td>\n",
              "      <td>1.000002</td>\n",
              "      <td>1.0</td>\n",
              "      <td>0.819643</td>\n",
              "      <td>6.506</td>\n",
              "      <td>1.000033</td>\n",
              "      <td>1.000107</td>\n",
              "      <td>1.000000</td>\n",
              "      <td>-0.257143</td>\n",
              "      <td>19.332</td>\n",
              "      <td>1.000031</td>\n",
              "      <td>1.000003</td>\n",
              "      <td>1.0</td>\n",
              "      <td>0.819643</td>\n",
              "      <td>6.706</td>\n",
              "      <td>1.000067</td>\n",
              "      <td>1.000007</td>\n",
              "      <td>1.0</td>\n",
              "      <td>-0.111310</td>\n",
              "      <td>19.532</td>\n",
              "      <td>1.000118</td>\n",
              "      <td>1.000278</td>\n",
              "      <td>1.0</td>\n",
              "      <td>0.971310</td>\n",
              "      <td>16.675</td>\n",
              "      <td>-0.111310</td>\n",
              "    </tr>\n",
              "    <tr>\n",
              "      <th>...</th>\n",
              "      <td>...</td>\n",
              "      <td>...</td>\n",
              "      <td>...</td>\n",
              "      <td>...</td>\n",
              "      <td>...</td>\n",
              "      <td>...</td>\n",
              "      <td>...</td>\n",
              "      <td>...</td>\n",
              "      <td>...</td>\n",
              "      <td>...</td>\n",
              "      <td>...</td>\n",
              "      <td>...</td>\n",
              "      <td>...</td>\n",
              "      <td>...</td>\n",
              "      <td>...</td>\n",
              "      <td>...</td>\n",
              "      <td>...</td>\n",
              "      <td>...</td>\n",
              "      <td>...</td>\n",
              "      <td>...</td>\n",
              "      <td>...</td>\n",
              "      <td>...</td>\n",
              "      <td>...</td>\n",
              "      <td>...</td>\n",
              "      <td>...</td>\n",
              "      <td>...</td>\n",
              "      <td>...</td>\n",
              "      <td>...</td>\n",
              "      <td>...</td>\n",
              "      <td>...</td>\n",
              "      <td>...</td>\n",
              "      <td>...</td>\n",
              "      <td>...</td>\n",
              "      <td>...</td>\n",
              "      <td>...</td>\n",
              "      <td>...</td>\n",
              "      <td>...</td>\n",
              "      <td>...</td>\n",
              "      <td>...</td>\n",
              "      <td>...</td>\n",
              "      <td>...</td>\n",
              "      <td>...</td>\n",
              "      <td>...</td>\n",
              "      <td>...</td>\n",
              "      <td>...</td>\n",
              "      <td>...</td>\n",
              "      <td>...</td>\n",
              "      <td>...</td>\n",
              "      <td>...</td>\n",
              "      <td>...</td>\n",
              "      <td>...</td>\n",
              "      <td>...</td>\n",
              "      <td>...</td>\n",
              "      <td>...</td>\n",
              "      <td>...</td>\n",
              "      <td>...</td>\n",
              "      <td>...</td>\n",
              "      <td>...</td>\n",
              "      <td>...</td>\n",
              "      <td>...</td>\n",
              "      <td>...</td>\n",
              "      <td>...</td>\n",
              "      <td>...</td>\n",
              "      <td>...</td>\n",
              "      <td>...</td>\n",
              "      <td>...</td>\n",
              "      <td>...</td>\n",
              "      <td>...</td>\n",
              "      <td>...</td>\n",
              "      <td>...</td>\n",
              "      <td>...</td>\n",
              "      <td>...</td>\n",
              "      <td>...</td>\n",
              "      <td>...</td>\n",
              "      <td>...</td>\n",
              "      <td>...</td>\n",
              "      <td>...</td>\n",
              "      <td>...</td>\n",
              "      <td>...</td>\n",
              "      <td>...</td>\n",
              "      <td>...</td>\n",
              "    </tr>\n",
              "    <tr>\n",
              "      <th>38742</th>\n",
              "      <td>6.446</td>\n",
              "      <td>1.000332</td>\n",
              "      <td>1.000367</td>\n",
              "      <td>1.000060</td>\n",
              "      <td>0.5</td>\n",
              "      <td>12.537</td>\n",
              "      <td>1.000000</td>\n",
              "      <td>1.000000</td>\n",
              "      <td>1.000000</td>\n",
              "      <td>0.500000</td>\n",
              "      <td>6.446</td>\n",
              "      <td>1.000000</td>\n",
              "      <td>1.000000</td>\n",
              "      <td>1.000000</td>\n",
              "      <td>0.500000</td>\n",
              "      <td>12.537</td>\n",
              "      <td>0.999974</td>\n",
              "      <td>0.999966</td>\n",
              "      <td>0.999997</td>\n",
              "      <td>0.500000</td>\n",
              "      <td>16.445</td>\n",
              "      <td>1.000000</td>\n",
              "      <td>1.000000</td>\n",
              "      <td>1.0</td>\n",
              "      <td>0.500000</td>\n",
              "      <td>12.537</td>\n",
              "      <td>0.999948</td>\n",
              "      <td>0.999942</td>\n",
              "      <td>1.000000</td>\n",
              "      <td>0.500000</td>\n",
              "      <td>326.444</td>\n",
              "      <td>1.000000</td>\n",
              "      <td>1.000000</td>\n",
              "      <td>1.000000</td>\n",
              "      <td>0.500000</td>\n",
              "      <td>12.537</td>\n",
              "      <td>0.999992</td>\n",
              "      <td>0.999996</td>\n",
              "      <td>1.0</td>\n",
              "      <td>0.500000</td>\n",
              "      <td>...</td>\n",
              "      <td>0.999750</td>\n",
              "      <td>0.999810</td>\n",
              "      <td>0.000000</td>\n",
              "      <td>15.618</td>\n",
              "      <td>1.000000</td>\n",
              "      <td>1.000000</td>\n",
              "      <td>1.000000</td>\n",
              "      <td>0.000000</td>\n",
              "      <td>0.000</td>\n",
              "      <td>0.999968</td>\n",
              "      <td>0.999947</td>\n",
              "      <td>1.000000</td>\n",
              "      <td>0.000000</td>\n",
              "      <td>26.117</td>\n",
              "      <td>1.000000</td>\n",
              "      <td>1.000000</td>\n",
              "      <td>1.0</td>\n",
              "      <td>0.000000</td>\n",
              "      <td>0.000</td>\n",
              "      <td>0.999952</td>\n",
              "      <td>0.999943</td>\n",
              "      <td>0.999998</td>\n",
              "      <td>0.000000</td>\n",
              "      <td>36.116</td>\n",
              "      <td>0.999984</td>\n",
              "      <td>0.999989</td>\n",
              "      <td>1.0</td>\n",
              "      <td>0.000000</td>\n",
              "      <td>3.000</td>\n",
              "      <td>0.999987</td>\n",
              "      <td>0.999974</td>\n",
              "      <td>1.0</td>\n",
              "      <td>0.000000</td>\n",
              "      <td>45.331</td>\n",
              "      <td>1.000000</td>\n",
              "      <td>1.000000</td>\n",
              "      <td>1.0</td>\n",
              "      <td>0.000000</td>\n",
              "      <td>3.000</td>\n",
              "      <td>0.000000</td>\n",
              "    </tr>\n",
              "    <tr>\n",
              "      <th>38743</th>\n",
              "      <td>0.499</td>\n",
              "      <td>1.000000</td>\n",
              "      <td>1.000000</td>\n",
              "      <td>1.000000</td>\n",
              "      <td>0.0</td>\n",
              "      <td>0.000</td>\n",
              "      <td>1.000000</td>\n",
              "      <td>1.000000</td>\n",
              "      <td>1.000000</td>\n",
              "      <td>0.000000</td>\n",
              "      <td>10.498</td>\n",
              "      <td>1.000000</td>\n",
              "      <td>1.000000</td>\n",
              "      <td>1.000000</td>\n",
              "      <td>0.000000</td>\n",
              "      <td>0.000</td>\n",
              "      <td>0.999975</td>\n",
              "      <td>0.999968</td>\n",
              "      <td>0.999981</td>\n",
              "      <td>0.000000</td>\n",
              "      <td>18.263</td>\n",
              "      <td>1.000000</td>\n",
              "      <td>1.000000</td>\n",
              "      <td>1.0</td>\n",
              "      <td>0.000000</td>\n",
              "      <td>0.000</td>\n",
              "      <td>1.000000</td>\n",
              "      <td>1.000000</td>\n",
              "      <td>1.000000</td>\n",
              "      <td>0.000000</td>\n",
              "      <td>18.263</td>\n",
              "      <td>0.999878</td>\n",
              "      <td>0.999895</td>\n",
              "      <td>0.999968</td>\n",
              "      <td>0.000000</td>\n",
              "      <td>9.999</td>\n",
              "      <td>1.000000</td>\n",
              "      <td>1.000000</td>\n",
              "      <td>1.0</td>\n",
              "      <td>0.000000</td>\n",
              "      <td>...</td>\n",
              "      <td>1.000000</td>\n",
              "      <td>1.000000</td>\n",
              "      <td>0.000000</td>\n",
              "      <td>19.998</td>\n",
              "      <td>1.000000</td>\n",
              "      <td>1.000000</td>\n",
              "      <td>1.000000</td>\n",
              "      <td>0.000000</td>\n",
              "      <td>5.000</td>\n",
              "      <td>0.999959</td>\n",
              "      <td>0.999967</td>\n",
              "      <td>0.999994</td>\n",
              "      <td>0.000000</td>\n",
              "      <td>52.763</td>\n",
              "      <td>1.000000</td>\n",
              "      <td>1.000000</td>\n",
              "      <td>1.0</td>\n",
              "      <td>0.000000</td>\n",
              "      <td>5.000</td>\n",
              "      <td>0.999968</td>\n",
              "      <td>0.999998</td>\n",
              "      <td>0.999999</td>\n",
              "      <td>0.000000</td>\n",
              "      <td>53.177</td>\n",
              "      <td>0.999974</td>\n",
              "      <td>0.999957</td>\n",
              "      <td>1.0</td>\n",
              "      <td>0.000000</td>\n",
              "      <td>14.999</td>\n",
              "      <td>0.999979</td>\n",
              "      <td>0.999932</td>\n",
              "      <td>1.0</td>\n",
              "      <td>0.000000</td>\n",
              "      <td>78.177</td>\n",
              "      <td>0.999982</td>\n",
              "      <td>0.999996</td>\n",
              "      <td>1.0</td>\n",
              "      <td>0.000000</td>\n",
              "      <td>16.877</td>\n",
              "      <td>0.000000</td>\n",
              "    </tr>\n",
              "    <tr>\n",
              "      <th>38744</th>\n",
              "      <td>9.999</td>\n",
              "      <td>1.000000</td>\n",
              "      <td>1.000000</td>\n",
              "      <td>1.000000</td>\n",
              "      <td>0.0</td>\n",
              "      <td>0.000</td>\n",
              "      <td>1.000000</td>\n",
              "      <td>1.000000</td>\n",
              "      <td>1.000000</td>\n",
              "      <td>0.000000</td>\n",
              "      <td>19.998</td>\n",
              "      <td>1.000000</td>\n",
              "      <td>1.000000</td>\n",
              "      <td>1.000000</td>\n",
              "      <td>0.000000</td>\n",
              "      <td>0.000</td>\n",
              "      <td>1.000000</td>\n",
              "      <td>1.000000</td>\n",
              "      <td>1.000000</td>\n",
              "      <td>0.000000</td>\n",
              "      <td>29.997</td>\n",
              "      <td>1.000000</td>\n",
              "      <td>1.000000</td>\n",
              "      <td>1.0</td>\n",
              "      <td>0.000000</td>\n",
              "      <td>0.038</td>\n",
              "      <td>1.000017</td>\n",
              "      <td>1.000014</td>\n",
              "      <td>1.000001</td>\n",
              "      <td>0.000000</td>\n",
              "      <td>71.013</td>\n",
              "      <td>1.000000</td>\n",
              "      <td>1.000000</td>\n",
              "      <td>1.000000</td>\n",
              "      <td>0.200000</td>\n",
              "      <td>0.038</td>\n",
              "      <td>0.999979</td>\n",
              "      <td>0.999967</td>\n",
              "      <td>1.0</td>\n",
              "      <td>0.000000</td>\n",
              "      <td>...</td>\n",
              "      <td>1.000000</td>\n",
              "      <td>1.000000</td>\n",
              "      <td>0.000000</td>\n",
              "      <td>19.177</td>\n",
              "      <td>1.000000</td>\n",
              "      <td>1.000000</td>\n",
              "      <td>1.000000</td>\n",
              "      <td>0.000000</td>\n",
              "      <td>0.000</td>\n",
              "      <td>1.000000</td>\n",
              "      <td>1.000000</td>\n",
              "      <td>1.000000</td>\n",
              "      <td>0.000000</td>\n",
              "      <td>29.176</td>\n",
              "      <td>1.000000</td>\n",
              "      <td>1.000000</td>\n",
              "      <td>1.0</td>\n",
              "      <td>0.000000</td>\n",
              "      <td>0.000</td>\n",
              "      <td>1.000000</td>\n",
              "      <td>0.999987</td>\n",
              "      <td>1.000000</td>\n",
              "      <td>0.000000</td>\n",
              "      <td>39.242</td>\n",
              "      <td>1.000109</td>\n",
              "      <td>1.000182</td>\n",
              "      <td>1.0</td>\n",
              "      <td>0.200000</td>\n",
              "      <td>604.301</td>\n",
              "      <td>0.999958</td>\n",
              "      <td>0.999981</td>\n",
              "      <td>1.0</td>\n",
              "      <td>0.442857</td>\n",
              "      <td>65.138</td>\n",
              "      <td>1.000000</td>\n",
              "      <td>1.000000</td>\n",
              "      <td>1.0</td>\n",
              "      <td>0.119643</td>\n",
              "      <td>604.301</td>\n",
              "      <td>0.442857</td>\n",
              "    </tr>\n",
              "    <tr>\n",
              "      <th>38745</th>\n",
              "      <td>58.332</td>\n",
              "      <td>1.000150</td>\n",
              "      <td>1.000011</td>\n",
              "      <td>1.000051</td>\n",
              "      <td>1.0</td>\n",
              "      <td>0.861</td>\n",
              "      <td>1.000411</td>\n",
              "      <td>1.000088</td>\n",
              "      <td>1.000013</td>\n",
              "      <td>0.000000</td>\n",
              "      <td>63.914</td>\n",
              "      <td>1.000182</td>\n",
              "      <td>1.000161</td>\n",
              "      <td>1.000000</td>\n",
              "      <td>1.000000</td>\n",
              "      <td>10.861</td>\n",
              "      <td>1.000088</td>\n",
              "      <td>1.000128</td>\n",
              "      <td>1.000000</td>\n",
              "      <td>0.000000</td>\n",
              "      <td>73.914</td>\n",
              "      <td>1.000000</td>\n",
              "      <td>1.000000</td>\n",
              "      <td>1.0</td>\n",
              "      <td>1.000000</td>\n",
              "      <td>10.861</td>\n",
              "      <td>1.000155</td>\n",
              "      <td>1.000643</td>\n",
              "      <td>1.000000</td>\n",
              "      <td>0.000000</td>\n",
              "      <td>164.820</td>\n",
              "      <td>1.000065</td>\n",
              "      <td>1.000092</td>\n",
              "      <td>1.000000</td>\n",
              "      <td>1.000000</td>\n",
              "      <td>30.649</td>\n",
              "      <td>1.000075</td>\n",
              "      <td>1.000006</td>\n",
              "      <td>1.0</td>\n",
              "      <td>0.000000</td>\n",
              "      <td>...</td>\n",
              "      <td>1.000000</td>\n",
              "      <td>1.000000</td>\n",
              "      <td>0.000000</td>\n",
              "      <td>1.381</td>\n",
              "      <td>1.000241</td>\n",
              "      <td>1.000331</td>\n",
              "      <td>1.000241</td>\n",
              "      <td>0.000000</td>\n",
              "      <td>3.005</td>\n",
              "      <td>1.000381</td>\n",
              "      <td>1.000459</td>\n",
              "      <td>1.000083</td>\n",
              "      <td>1.000000</td>\n",
              "      <td>87.583</td>\n",
              "      <td>1.000000</td>\n",
              "      <td>1.000000</td>\n",
              "      <td>1.0</td>\n",
              "      <td>0.000000</td>\n",
              "      <td>3.005</td>\n",
              "      <td>1.000067</td>\n",
              "      <td>1.000002</td>\n",
              "      <td>1.000004</td>\n",
              "      <td>1.000000</td>\n",
              "      <td>88.059</td>\n",
              "      <td>1.000000</td>\n",
              "      <td>1.000000</td>\n",
              "      <td>1.0</td>\n",
              "      <td>0.000000</td>\n",
              "      <td>3.005</td>\n",
              "      <td>1.000000</td>\n",
              "      <td>1.000000</td>\n",
              "      <td>1.0</td>\n",
              "      <td>1.000000</td>\n",
              "      <td>88.059</td>\n",
              "      <td>1.000000</td>\n",
              "      <td>1.000000</td>\n",
              "      <td>1.0</td>\n",
              "      <td>0.000000</td>\n",
              "      <td>3.005</td>\n",
              "      <td>1.000000</td>\n",
              "    </tr>\n",
              "    <tr>\n",
              "      <th>38746</th>\n",
              "      <td>72.433</td>\n",
              "      <td>1.000167</td>\n",
              "      <td>1.000048</td>\n",
              "      <td>1.000006</td>\n",
              "      <td>1.0</td>\n",
              "      <td>9.809</td>\n",
              "      <td>1.000021</td>\n",
              "      <td>1.000013</td>\n",
              "      <td>1.000000</td>\n",
              "      <td>0.000000</td>\n",
              "      <td>75.433</td>\n",
              "      <td>0.999889</td>\n",
              "      <td>0.999891</td>\n",
              "      <td>0.999999</td>\n",
              "      <td>1.000000</td>\n",
              "      <td>271.393</td>\n",
              "      <td>0.999893</td>\n",
              "      <td>1.000007</td>\n",
              "      <td>1.000000</td>\n",
              "      <td>-0.280000</td>\n",
              "      <td>720.208</td>\n",
              "      <td>0.999999</td>\n",
              "      <td>1.000000</td>\n",
              "      <td>1.0</td>\n",
              "      <td>0.880000</td>\n",
              "      <td>271.989</td>\n",
              "      <td>0.999951</td>\n",
              "      <td>0.999964</td>\n",
              "      <td>1.000000</td>\n",
              "      <td>-0.280000</td>\n",
              "      <td>1014.379</td>\n",
              "      <td>1.000000</td>\n",
              "      <td>1.000000</td>\n",
              "      <td>1.000000</td>\n",
              "      <td>0.680000</td>\n",
              "      <td>271.989</td>\n",
              "      <td>1.000000</td>\n",
              "      <td>1.000000</td>\n",
              "      <td>1.0</td>\n",
              "      <td>-0.280000</td>\n",
              "      <td>...</td>\n",
              "      <td>1.000068</td>\n",
              "      <td>1.000002</td>\n",
              "      <td>0.000000</td>\n",
              "      <td>18.025</td>\n",
              "      <td>1.000047</td>\n",
              "      <td>1.000012</td>\n",
              "      <td>1.000001</td>\n",
              "      <td>1.000000</td>\n",
              "      <td>1.126</td>\n",
              "      <td>1.000185</td>\n",
              "      <td>1.000315</td>\n",
              "      <td>1.000000</td>\n",
              "      <td>0.000000</td>\n",
              "      <td>222.024</td>\n",
              "      <td>0.999948</td>\n",
              "      <td>0.999961</td>\n",
              "      <td>1.0</td>\n",
              "      <td>1.000000</td>\n",
              "      <td>37.443</td>\n",
              "      <td>0.999730</td>\n",
              "      <td>0.999907</td>\n",
              "      <td>1.000000</td>\n",
              "      <td>-0.052632</td>\n",
              "      <td>250.694</td>\n",
              "      <td>0.999995</td>\n",
              "      <td>0.999981</td>\n",
              "      <td>1.0</td>\n",
              "      <td>0.419979</td>\n",
              "      <td>53.432</td>\n",
              "      <td>0.999999</td>\n",
              "      <td>0.999991</td>\n",
              "      <td>1.0</td>\n",
              "      <td>-0.052632</td>\n",
              "      <td>258.746</td>\n",
              "      <td>0.999999</td>\n",
              "      <td>0.999999</td>\n",
              "      <td>1.0</td>\n",
              "      <td>0.419979</td>\n",
              "      <td>54.123</td>\n",
              "      <td>-0.052632</td>\n",
              "    </tr>\n",
              "  </tbody>\n",
              "</table>\n",
              "<p>38747 rows × 94 columns</p>\n",
              "</div>\n",
              "      <button class=\"colab-df-convert\" onclick=\"convertToInteractive('df-8e830928-f816-454c-875c-745e8b306e94')\"\n",
              "              title=\"Convert this dataframe to an interactive table.\"\n",
              "              style=\"display:none;\">\n",
              "        \n",
              "  <svg xmlns=\"http://www.w3.org/2000/svg\" height=\"24px\"viewBox=\"0 0 24 24\"\n",
              "       width=\"24px\">\n",
              "    <path d=\"M0 0h24v24H0V0z\" fill=\"none\"/>\n",
              "    <path d=\"M18.56 5.44l.94 2.06.94-2.06 2.06-.94-2.06-.94-.94-2.06-.94 2.06-2.06.94zm-11 1L8.5 8.5l.94-2.06 2.06-.94-2.06-.94L8.5 2.5l-.94 2.06-2.06.94zm10 10l.94 2.06.94-2.06 2.06-.94-2.06-.94-.94-2.06-.94 2.06-2.06.94z\"/><path d=\"M17.41 7.96l-1.37-1.37c-.4-.4-.92-.59-1.43-.59-.52 0-1.04.2-1.43.59L10.3 9.45l-7.72 7.72c-.78.78-.78 2.05 0 2.83L4 21.41c.39.39.9.59 1.41.59.51 0 1.02-.2 1.41-.59l7.78-7.78 2.81-2.81c.8-.78.8-2.07 0-2.86zM5.41 20L4 18.59l7.72-7.72 1.47 1.35L5.41 20z\"/>\n",
              "  </svg>\n",
              "      </button>\n",
              "      \n",
              "  <style>\n",
              "    .colab-df-container {\n",
              "      display:flex;\n",
              "      flex-wrap:wrap;\n",
              "      gap: 12px;\n",
              "    }\n",
              "\n",
              "    .colab-df-convert {\n",
              "      background-color: #E8F0FE;\n",
              "      border: none;\n",
              "      border-radius: 50%;\n",
              "      cursor: pointer;\n",
              "      display: none;\n",
              "      fill: #1967D2;\n",
              "      height: 32px;\n",
              "      padding: 0 0 0 0;\n",
              "      width: 32px;\n",
              "    }\n",
              "\n",
              "    .colab-df-convert:hover {\n",
              "      background-color: #E2EBFA;\n",
              "      box-shadow: 0px 1px 2px rgba(60, 64, 67, 0.3), 0px 1px 3px 1px rgba(60, 64, 67, 0.15);\n",
              "      fill: #174EA6;\n",
              "    }\n",
              "\n",
              "    [theme=dark] .colab-df-convert {\n",
              "      background-color: #3B4455;\n",
              "      fill: #D2E3FC;\n",
              "    }\n",
              "\n",
              "    [theme=dark] .colab-df-convert:hover {\n",
              "      background-color: #434B5C;\n",
              "      box-shadow: 0px 1px 3px 1px rgba(0, 0, 0, 0.15);\n",
              "      filter: drop-shadow(0px 1px 2px rgba(0, 0, 0, 0.3));\n",
              "      fill: #FFFFFF;\n",
              "    }\n",
              "  </style>\n",
              "\n",
              "      <script>\n",
              "        const buttonEl =\n",
              "          document.querySelector('#df-8e830928-f816-454c-875c-745e8b306e94 button.colab-df-convert');\n",
              "        buttonEl.style.display =\n",
              "          google.colab.kernel.accessAllowed ? 'block' : 'none';\n",
              "\n",
              "        async function convertToInteractive(key) {\n",
              "          const element = document.querySelector('#df-8e830928-f816-454c-875c-745e8b306e94');\n",
              "          const dataTable =\n",
              "            await google.colab.kernel.invokeFunction('convertToInteractive',\n",
              "                                                     [key], {});\n",
              "          if (!dataTable) return;\n",
              "\n",
              "          const docLinkHtml = 'Like what you see? Visit the ' +\n",
              "            '<a target=\"_blank\" href=https://colab.research.google.com/notebooks/data_table.ipynb>data table notebook</a>'\n",
              "            + ' to learn more about interactive tables.';\n",
              "          element.innerHTML = '';\n",
              "          dataTable['output_type'] = 'display_data';\n",
              "          await google.colab.output.renderOutput(dataTable, element);\n",
              "          const docLink = document.createElement('div');\n",
              "          docLink.innerHTML = docLinkHtml;\n",
              "          element.appendChild(docLink);\n",
              "        }\n",
              "      </script>\n",
              "    </div>\n",
              "  </div>\n",
              "  "
            ],
            "text/plain": [
              "       trade_volume-BUY-6-sec  ...  stochastic_oscillator-SELL-60-sec\n",
              "0                       0.100  ...                           0.000000\n",
              "1                       0.200  ...                           0.600000\n",
              "2                       0.200  ...                           0.000000\n",
              "3                       2.513  ...                          -0.237069\n",
              "4                       5.152  ...                          -0.111310\n",
              "...                       ...  ...                                ...\n",
              "38742                   6.446  ...                           0.000000\n",
              "38743                   0.499  ...                           0.000000\n",
              "38744                   9.999  ...                           0.442857\n",
              "38745                  58.332  ...                           1.000000\n",
              "38746                  72.433  ...                          -0.052632\n",
              "\n",
              "[38747 rows x 94 columns]"
            ]
          },
          "execution_count": 10,
          "metadata": {},
          "output_type": "execute_result"
        }
      ],
      "source": [
        "X = df[x_columns]\n",
        "secs = list(sorted(list(set(map(lambda x : int(''.join(x)), [[s for s in column if s.isdigit()] for column in x_columns])))))\n",
        "delta_sec = secs[1] - secs[0]\n",
        "max_sec = secs[-1]\n",
        "min_sec = secs[0]\n",
        "\n",
        "for column in x_columns:\n",
        "    name, side, sec, _ = column.split('-')\n",
        "    if not 'price' in name and int(sec) != min_sec:\n",
        "        X[f'{name}-{side}-{sec}-sec'] -= X[f'{name}-{side}-{str(int(sec) - delta_sec)}-sec']\n",
        "    elif 'price' in name:\n",
        "        if int(sec) != max_sec:\n",
        "            X[f'{name}-{side}-{sec}-sec'] /= X[f'{name}-{side}-{str(int(sec) + delta_sec)}-sec']\n",
        "        else:\n",
        "            X = X.drop(f'{name}-{side}-{sec}-sec', axis=1)\n",
        "\n",
        "X"
      ]
    },
    {
      "cell_type": "code",
      "execution_count": 50,
      "id": "70de5225-1eda-479f-9199-b176f49d7d9c",
      "metadata": {
        "colab": {
          "base_uri": "https://localhost:8080/"
        },
        "id": "70de5225-1eda-479f-9199-b176f49d7d9c",
        "outputId": "09c1e196-4aec-43f2-e011-420aea64b61d"
      },
      "outputs": [
        {
          "name": "stdout",
          "output_type": "stream",
          "text": [
            "       target\n",
            "0           0\n",
            "1           0\n",
            "2           1\n",
            "3           0\n",
            "4           0\n",
            "...       ...\n",
            "38742       0\n",
            "38743       0\n",
            "38744       0\n",
            "38745       0\n",
            "38746       0\n",
            "\n",
            "[38747 rows x 1 columns]\n",
            "target\n",
            " 0        37612\n",
            "-1          599\n",
            " 1          536\n",
            "dtype: int64\n"
          ]
        }
      ],
      "source": [
        "commision = 0.0005\n",
        "punch = commision * 5\n",
        "\n",
        "y = pd.DataFrame(\n",
        "    df[y_columns].apply(\n",
        "        lambda row : 1 if max(list(row.to_numpy()), key=abs) > punch else -1 if max(list(row.to_numpy()), key=abs) < -punch else 0,\n",
        "        axis = 1\n",
        "    )\n",
        ")\n",
        "y = y.rename({0:'target'}, axis='columns')\n",
        "print(y)\n",
        "print(y.value_counts())"
      ]
    },
    {
      "cell_type": "code",
      "execution_count": 51,
      "id": "f0753b54-1efd-4f34-ba92-2547bb0e854a",
      "metadata": {
        "id": "f0753b54-1efd-4f34-ba92-2547bb0e854a"
      },
      "outputs": [],
      "source": [
        "X_train, X_test, y_train, y_test = train_test_split(X, y, train_size=0.8, shuffle = True, random_state=12)\n",
        "X_train, X_validation, y_train, y_validation = train_test_split(X_train, y_train, train_size=0.75, shuffle = True, random_state=6)"
      ]
    },
    {
      "cell_type": "code",
      "execution_count": null,
      "id": "tRIUmqrCuwLC",
      "metadata": {
        "colab": {
          "base_uri": "https://localhost:8080/"
        },
        "id": "tRIUmqrCuwLC",
        "outputId": "5699d420-c951-456f-dc06-029ed7f752b4"
      },
      "outputs": [
        {
          "name": "stdout",
          "output_type": "stream",
          "text": [
            "  0%|          | 0/3 [00:37<?, ?trial/s, best loss=?]\n"
          ]
        },
        {
          "ename": "KeyboardInterrupt",
          "evalue": "",
          "output_type": "error",
          "traceback": [
            "\u001b[0;31m---------------------------------------------------------------------------\u001b[0m",
            "\u001b[0;31mKeyboardInterrupt\u001b[0m                         Traceback (most recent call last)",
            "\u001b[0;32m<ipython-input-8-a693655854af>\u001b[0m in \u001b[0;36m<module>\u001b[0;34m\u001b[0m\n\u001b[1;32m     31\u001b[0m \u001b[0mtrials\u001b[0m \u001b[0;34m=\u001b[0m \u001b[0mhyperopt\u001b[0m\u001b[0;34m.\u001b[0m\u001b[0mTrials\u001b[0m\u001b[0;34m(\u001b[0m\u001b[0;34m)\u001b[0m\u001b[0;34m\u001b[0m\u001b[0;34m\u001b[0m\u001b[0m\n\u001b[1;32m     32\u001b[0m \u001b[0;34m\u001b[0m\u001b[0m\n\u001b[0;32m---> 33\u001b[0;31m best = hyperopt.fmin(\n\u001b[0m\u001b[1;32m     34\u001b[0m     \u001b[0mhyperopt_objective\u001b[0m\u001b[0;34m,\u001b[0m\u001b[0;34m\u001b[0m\u001b[0;34m\u001b[0m\u001b[0m\n\u001b[1;32m     35\u001b[0m     \u001b[0mspace\u001b[0m\u001b[0;34m=\u001b[0m\u001b[0mparams_space\u001b[0m\u001b[0;34m,\u001b[0m\u001b[0;34m\u001b[0m\u001b[0;34m\u001b[0m\u001b[0m\n",
            "\u001b[0;32m~/.local/lib/python3.8/site-packages/hyperopt/fmin.py\u001b[0m in \u001b[0;36mfmin\u001b[0;34m(fn, space, algo, max_evals, timeout, loss_threshold, trials, rstate, allow_trials_fmin, pass_expr_memo_ctrl, catch_eval_exceptions, verbose, return_argmin, points_to_evaluate, max_queue_len, show_progressbar, early_stop_fn, trials_save_file)\u001b[0m\n\u001b[1;32m    505\u001b[0m \u001b[0;34m\u001b[0m\u001b[0m\n\u001b[1;32m    506\u001b[0m     \u001b[0;32mif\u001b[0m \u001b[0mallow_trials_fmin\u001b[0m \u001b[0;32mand\u001b[0m \u001b[0mhasattr\u001b[0m\u001b[0;34m(\u001b[0m\u001b[0mtrials\u001b[0m\u001b[0;34m,\u001b[0m \u001b[0;34m\"fmin\"\u001b[0m\u001b[0;34m)\u001b[0m\u001b[0;34m:\u001b[0m\u001b[0;34m\u001b[0m\u001b[0;34m\u001b[0m\u001b[0m\n\u001b[0;32m--> 507\u001b[0;31m         return trials.fmin(\n\u001b[0m\u001b[1;32m    508\u001b[0m             \u001b[0mfn\u001b[0m\u001b[0;34m,\u001b[0m\u001b[0;34m\u001b[0m\u001b[0;34m\u001b[0m\u001b[0m\n\u001b[1;32m    509\u001b[0m             \u001b[0mspace\u001b[0m\u001b[0;34m,\u001b[0m\u001b[0;34m\u001b[0m\u001b[0;34m\u001b[0m\u001b[0m\n",
            "\u001b[0;32m~/.local/lib/python3.8/site-packages/hyperopt/base.py\u001b[0m in \u001b[0;36mfmin\u001b[0;34m(self, fn, space, algo, max_evals, timeout, loss_threshold, max_queue_len, rstate, verbose, pass_expr_memo_ctrl, catch_eval_exceptions, return_argmin, show_progressbar, early_stop_fn, trials_save_file)\u001b[0m\n\u001b[1;32m    680\u001b[0m         \u001b[0;32mfrom\u001b[0m \u001b[0;34m.\u001b[0m\u001b[0mfmin\u001b[0m \u001b[0;32mimport\u001b[0m \u001b[0mfmin\u001b[0m\u001b[0;34m\u001b[0m\u001b[0;34m\u001b[0m\u001b[0m\n\u001b[1;32m    681\u001b[0m \u001b[0;34m\u001b[0m\u001b[0m\n\u001b[0;32m--> 682\u001b[0;31m         return fmin(\n\u001b[0m\u001b[1;32m    683\u001b[0m             \u001b[0mfn\u001b[0m\u001b[0;34m,\u001b[0m\u001b[0;34m\u001b[0m\u001b[0;34m\u001b[0m\u001b[0m\n\u001b[1;32m    684\u001b[0m             \u001b[0mspace\u001b[0m\u001b[0;34m,\u001b[0m\u001b[0;34m\u001b[0m\u001b[0;34m\u001b[0m\u001b[0m\n",
            "\u001b[0;32m~/.local/lib/python3.8/site-packages/hyperopt/fmin.py\u001b[0m in \u001b[0;36mfmin\u001b[0;34m(fn, space, algo, max_evals, timeout, loss_threshold, trials, rstate, allow_trials_fmin, pass_expr_memo_ctrl, catch_eval_exceptions, verbose, return_argmin, points_to_evaluate, max_queue_len, show_progressbar, early_stop_fn, trials_save_file)\u001b[0m\n\u001b[1;32m    551\u001b[0m \u001b[0;34m\u001b[0m\u001b[0m\n\u001b[1;32m    552\u001b[0m     \u001b[0;31m# next line is where the fmin is actually executed\u001b[0m\u001b[0;34m\u001b[0m\u001b[0;34m\u001b[0m\u001b[0;34m\u001b[0m\u001b[0m\n\u001b[0;32m--> 553\u001b[0;31m     \u001b[0mrval\u001b[0m\u001b[0;34m.\u001b[0m\u001b[0mexhaust\u001b[0m\u001b[0;34m(\u001b[0m\u001b[0;34m)\u001b[0m\u001b[0;34m\u001b[0m\u001b[0;34m\u001b[0m\u001b[0m\n\u001b[0m\u001b[1;32m    554\u001b[0m \u001b[0;34m\u001b[0m\u001b[0m\n\u001b[1;32m    555\u001b[0m     \u001b[0;32mif\u001b[0m \u001b[0mreturn_argmin\u001b[0m\u001b[0;34m:\u001b[0m\u001b[0;34m\u001b[0m\u001b[0;34m\u001b[0m\u001b[0m\n",
            "\u001b[0;32m~/.local/lib/python3.8/site-packages/hyperopt/fmin.py\u001b[0m in \u001b[0;36mexhaust\u001b[0;34m(self)\u001b[0m\n\u001b[1;32m    354\u001b[0m     \u001b[0;32mdef\u001b[0m \u001b[0mexhaust\u001b[0m\u001b[0;34m(\u001b[0m\u001b[0mself\u001b[0m\u001b[0;34m)\u001b[0m\u001b[0;34m:\u001b[0m\u001b[0;34m\u001b[0m\u001b[0;34m\u001b[0m\u001b[0m\n\u001b[1;32m    355\u001b[0m         \u001b[0mn_done\u001b[0m \u001b[0;34m=\u001b[0m \u001b[0mlen\u001b[0m\u001b[0;34m(\u001b[0m\u001b[0mself\u001b[0m\u001b[0;34m.\u001b[0m\u001b[0mtrials\u001b[0m\u001b[0;34m)\u001b[0m\u001b[0;34m\u001b[0m\u001b[0;34m\u001b[0m\u001b[0m\n\u001b[0;32m--> 356\u001b[0;31m         \u001b[0mself\u001b[0m\u001b[0;34m.\u001b[0m\u001b[0mrun\u001b[0m\u001b[0;34m(\u001b[0m\u001b[0mself\u001b[0m\u001b[0;34m.\u001b[0m\u001b[0mmax_evals\u001b[0m \u001b[0;34m-\u001b[0m \u001b[0mn_done\u001b[0m\u001b[0;34m,\u001b[0m \u001b[0mblock_until_done\u001b[0m\u001b[0;34m=\u001b[0m\u001b[0mself\u001b[0m\u001b[0;34m.\u001b[0m\u001b[0masynchronous\u001b[0m\u001b[0;34m)\u001b[0m\u001b[0;34m\u001b[0m\u001b[0;34m\u001b[0m\u001b[0m\n\u001b[0m\u001b[1;32m    357\u001b[0m         \u001b[0mself\u001b[0m\u001b[0;34m.\u001b[0m\u001b[0mtrials\u001b[0m\u001b[0;34m.\u001b[0m\u001b[0mrefresh\u001b[0m\u001b[0;34m(\u001b[0m\u001b[0;34m)\u001b[0m\u001b[0;34m\u001b[0m\u001b[0;34m\u001b[0m\u001b[0m\n\u001b[1;32m    358\u001b[0m         \u001b[0;32mreturn\u001b[0m \u001b[0mself\u001b[0m\u001b[0;34m\u001b[0m\u001b[0;34m\u001b[0m\u001b[0m\n",
            "\u001b[0;32m~/.local/lib/python3.8/site-packages/hyperopt/fmin.py\u001b[0m in \u001b[0;36mrun\u001b[0;34m(self, N, block_until_done)\u001b[0m\n\u001b[1;32m    290\u001b[0m                 \u001b[0;32melse\u001b[0m\u001b[0;34m:\u001b[0m\u001b[0;34m\u001b[0m\u001b[0;34m\u001b[0m\u001b[0m\n\u001b[1;32m    291\u001b[0m                     \u001b[0;31m# -- loop over trials and do the jobs directly\u001b[0m\u001b[0;34m\u001b[0m\u001b[0;34m\u001b[0m\u001b[0;34m\u001b[0m\u001b[0m\n\u001b[0;32m--> 292\u001b[0;31m                     \u001b[0mself\u001b[0m\u001b[0;34m.\u001b[0m\u001b[0mserial_evaluate\u001b[0m\u001b[0;34m(\u001b[0m\u001b[0;34m)\u001b[0m\u001b[0;34m\u001b[0m\u001b[0;34m\u001b[0m\u001b[0m\n\u001b[0m\u001b[1;32m    293\u001b[0m \u001b[0;34m\u001b[0m\u001b[0m\n\u001b[1;32m    294\u001b[0m                 \u001b[0mself\u001b[0m\u001b[0;34m.\u001b[0m\u001b[0mtrials\u001b[0m\u001b[0;34m.\u001b[0m\u001b[0mrefresh\u001b[0m\u001b[0;34m(\u001b[0m\u001b[0;34m)\u001b[0m\u001b[0;34m\u001b[0m\u001b[0;34m\u001b[0m\u001b[0m\n",
            "\u001b[0;32m~/.local/lib/python3.8/site-packages/hyperopt/fmin.py\u001b[0m in \u001b[0;36mserial_evaluate\u001b[0;34m(self, N)\u001b[0m\n\u001b[1;32m    168\u001b[0m                 \u001b[0mctrl\u001b[0m \u001b[0;34m=\u001b[0m \u001b[0mbase\u001b[0m\u001b[0;34m.\u001b[0m\u001b[0mCtrl\u001b[0m\u001b[0;34m(\u001b[0m\u001b[0mself\u001b[0m\u001b[0;34m.\u001b[0m\u001b[0mtrials\u001b[0m\u001b[0;34m,\u001b[0m \u001b[0mcurrent_trial\u001b[0m\u001b[0;34m=\u001b[0m\u001b[0mtrial\u001b[0m\u001b[0;34m)\u001b[0m\u001b[0;34m\u001b[0m\u001b[0;34m\u001b[0m\u001b[0m\n\u001b[1;32m    169\u001b[0m                 \u001b[0;32mtry\u001b[0m\u001b[0;34m:\u001b[0m\u001b[0;34m\u001b[0m\u001b[0;34m\u001b[0m\u001b[0m\n\u001b[0;32m--> 170\u001b[0;31m                     \u001b[0mresult\u001b[0m \u001b[0;34m=\u001b[0m \u001b[0mself\u001b[0m\u001b[0;34m.\u001b[0m\u001b[0mdomain\u001b[0m\u001b[0;34m.\u001b[0m\u001b[0mevaluate\u001b[0m\u001b[0;34m(\u001b[0m\u001b[0mspec\u001b[0m\u001b[0;34m,\u001b[0m \u001b[0mctrl\u001b[0m\u001b[0;34m)\u001b[0m\u001b[0;34m\u001b[0m\u001b[0;34m\u001b[0m\u001b[0m\n\u001b[0m\u001b[1;32m    171\u001b[0m                 \u001b[0;32mexcept\u001b[0m \u001b[0mException\u001b[0m \u001b[0;32mas\u001b[0m \u001b[0me\u001b[0m\u001b[0;34m:\u001b[0m\u001b[0;34m\u001b[0m\u001b[0;34m\u001b[0m\u001b[0m\n\u001b[1;32m    172\u001b[0m                     \u001b[0mlogger\u001b[0m\u001b[0;34m.\u001b[0m\u001b[0merror\u001b[0m\u001b[0;34m(\u001b[0m\u001b[0;34m\"job exception: %s\"\u001b[0m \u001b[0;34m%\u001b[0m \u001b[0mstr\u001b[0m\u001b[0;34m(\u001b[0m\u001b[0me\u001b[0m\u001b[0;34m)\u001b[0m\u001b[0;34m)\u001b[0m\u001b[0;34m\u001b[0m\u001b[0;34m\u001b[0m\u001b[0m\n",
            "\u001b[0;32m~/.local/lib/python3.8/site-packages/hyperopt/base.py\u001b[0m in \u001b[0;36mevaluate\u001b[0;34m(self, config, ctrl, attach_attachments)\u001b[0m\n\u001b[1;32m    905\u001b[0m                 \u001b[0mprint_node_on_error\u001b[0m\u001b[0;34m=\u001b[0m\u001b[0mself\u001b[0m\u001b[0;34m.\u001b[0m\u001b[0mrec_eval_print_node_on_error\u001b[0m\u001b[0;34m,\u001b[0m\u001b[0;34m\u001b[0m\u001b[0;34m\u001b[0m\u001b[0m\n\u001b[1;32m    906\u001b[0m             )\n\u001b[0;32m--> 907\u001b[0;31m             \u001b[0mrval\u001b[0m \u001b[0;34m=\u001b[0m \u001b[0mself\u001b[0m\u001b[0;34m.\u001b[0m\u001b[0mfn\u001b[0m\u001b[0;34m(\u001b[0m\u001b[0mpyll_rval\u001b[0m\u001b[0;34m)\u001b[0m\u001b[0;34m\u001b[0m\u001b[0;34m\u001b[0m\u001b[0m\n\u001b[0m\u001b[1;32m    908\u001b[0m \u001b[0;34m\u001b[0m\u001b[0m\n\u001b[1;32m    909\u001b[0m         \u001b[0;32mif\u001b[0m \u001b[0misinstance\u001b[0m\u001b[0;34m(\u001b[0m\u001b[0mrval\u001b[0m\u001b[0;34m,\u001b[0m \u001b[0;34m(\u001b[0m\u001b[0mfloat\u001b[0m\u001b[0;34m,\u001b[0m \u001b[0mint\u001b[0m\u001b[0;34m,\u001b[0m \u001b[0mnp\u001b[0m\u001b[0;34m.\u001b[0m\u001b[0mnumber\u001b[0m\u001b[0;34m)\u001b[0m\u001b[0;34m)\u001b[0m\u001b[0;34m:\u001b[0m\u001b[0;34m\u001b[0m\u001b[0;34m\u001b[0m\u001b[0m\n",
            "\u001b[0;32m<ipython-input-8-a693655854af>\u001b[0m in \u001b[0;36mhyperopt_objective\u001b[0;34m(params)\u001b[0m\n\u001b[1;32m     10\u001b[0m     )\n\u001b[1;32m     11\u001b[0m \u001b[0;34m\u001b[0m\u001b[0m\n\u001b[0;32m---> 12\u001b[0;31m     cv_data = cv(\n\u001b[0m\u001b[1;32m     13\u001b[0m         \u001b[0mPool\u001b[0m\u001b[0;34m(\u001b[0m\u001b[0mX\u001b[0m\u001b[0;34m,\u001b[0m \u001b[0my\u001b[0m\u001b[0;34m)\u001b[0m\u001b[0;34m,\u001b[0m\u001b[0;34m\u001b[0m\u001b[0;34m\u001b[0m\u001b[0m\n\u001b[1;32m     14\u001b[0m         \u001b[0mmodel\u001b[0m\u001b[0;34m.\u001b[0m\u001b[0mget_params\u001b[0m\u001b[0;34m(\u001b[0m\u001b[0;34m)\u001b[0m\u001b[0;34m,\u001b[0m\u001b[0;34m\u001b[0m\u001b[0;34m\u001b[0m\u001b[0m\n",
            "\u001b[0;32m~/.local/lib/python3.8/site-packages/catboost/core.py\u001b[0m in \u001b[0;36mcv\u001b[0;34m(pool, params, dtrain, iterations, num_boost_round, fold_count, nfold, inverted, partition_random_seed, seed, shuffle, logging_level, stratified, as_pandas, metric_period, verbose, verbose_eval, plot, early_stopping_rounds, save_snapshot, snapshot_file, snapshot_interval, metric_update_interval, folds, type, return_models, log_cout, log_cerr)\u001b[0m\n\u001b[1;32m   6251\u001b[0m     \u001b[0;32mwith\u001b[0m \u001b[0mlog_fixup\u001b[0m\u001b[0;34m(\u001b[0m\u001b[0mlog_cout\u001b[0m\u001b[0;34m,\u001b[0m \u001b[0mlog_cerr\u001b[0m\u001b[0;34m)\u001b[0m\u001b[0;34m,\u001b[0m \u001b[0mplot_wrapper\u001b[0m\u001b[0;34m(\u001b[0m\u001b[0mplot\u001b[0m\u001b[0;34m,\u001b[0m \u001b[0mplot_dirs\u001b[0m\u001b[0;34m)\u001b[0m\u001b[0;34m:\u001b[0m\u001b[0;34m\u001b[0m\u001b[0;34m\u001b[0m\u001b[0m\n\u001b[1;32m   6252\u001b[0m         \u001b[0;32mif\u001b[0m \u001b[0;32mnot\u001b[0m \u001b[0mreturn_models\u001b[0m\u001b[0;34m:\u001b[0m\u001b[0;34m\u001b[0m\u001b[0;34m\u001b[0m\u001b[0m\n\u001b[0;32m-> 6253\u001b[0;31m             return _cv(params, pool, fold_count, inverted, partition_random_seed, shuffle, stratified,\n\u001b[0m\u001b[1;32m   6254\u001b[0m                     metric_update_interval, as_pandas, folds, type, return_models)\n\u001b[1;32m   6255\u001b[0m         \u001b[0;32melse\u001b[0m\u001b[0;34m:\u001b[0m\u001b[0;34m\u001b[0m\u001b[0;34m\u001b[0m\u001b[0m\n",
            "\u001b[0;32m_catboost.pyx\u001b[0m in \u001b[0;36m_catboost._cv\u001b[0;34m()\u001b[0m\n",
            "\u001b[0;32m_catboost.pyx\u001b[0m in \u001b[0;36m_catboost._cv\u001b[0;34m()\u001b[0m\n",
            "\u001b[0;31mKeyboardInterrupt\u001b[0m: "
          ]
        }
      ],
      "source": [
        "def hyperopt_objective(params):\n",
        "    model = CatBoostClassifier(\n",
        "        l2_leaf_reg=int(params['l2_leaf_reg']),\n",
        "        learning_rate=params['learning_rate'],\n",
        "        iterations=300,\n",
        "        eval_metric=metrics.Accuracy(),\n",
        "        random_seed=126,\n",
        "        verbose=False,\n",
        "        loss_function=metrics.MultiClass(),\n",
        "    )\n",
        "    \n",
        "    cv_data = cv(\n",
        "        Pool(X, y),\n",
        "        model.get_params(),\n",
        "        fold_count=4,\n",
        "        shuffle=True,\n",
        "        logging_level='Silent',\n",
        "        stratified=True,\n",
        "    )\n",
        "\n",
        "    best_accuracy = np.max(cv_data['test-Accuracy-mean'])\n",
        "    \n",
        "    return 1 - best_accuracy\n",
        "\n",
        "\n",
        "params_space = {\n",
        "    'l2_leaf_reg': hyperopt.hp.qloguniform('l2_leaf_reg', 0, 2, 1),\n",
        "    'learning_rate': hyperopt.hp.uniform('learning_rate', 1e-3, 5e-1),\n",
        "}\n",
        "\n",
        "trials = hyperopt.Trials()\n",
        "\n",
        "best = hyperopt.fmin(\n",
        "    hyperopt_objective,\n",
        "    space=params_space,\n",
        "    algo=hyperopt.tpe.suggest,\n",
        "    max_evals=1,\n",
        "    trials=trials,\n",
        "    rstate=RandomState(126)\n",
        ")\n",
        "\n",
        "print(best)"
      ]
    },
    {
      "cell_type": "code",
      "execution_count": 52,
      "id": "L8jyutxLiBqy",
      "metadata": {
        "colab": {
          "base_uri": "https://localhost:8080/",
          "height": 34,
          "referenced_widgets": [
            "55e9d9fd2ba14fde8b6fc61511980f7d"
          ]
        },
        "id": "L8jyutxLiBqy",
        "outputId": "013df5b9-dbda-4a9f-fcbf-3d6fa42d6741"
      },
      "outputs": [
        {
          "data": {
            "application/vnd.jupyter.widget-view+json": {
              "model_id": "55e9d9fd2ba14fde8b6fc61511980f7d",
              "version_major": 2,
              "version_minor": 0
            },
            "text/plain": [
              "MetricVisualizer(layout=Layout(align_self='stretch', height='500px'))"
            ]
          },
          "metadata": {},
          "output_type": "display_data"
        },
        {
          "name": "stdout",
          "output_type": "stream",
          "text": [
            "Model validation accuracy: 0.9712\n"
          ]
        }
      ],
      "source": [
        "params = {\n",
        "    'iterations': 500,\n",
        "    #'l2_leaf_reg': int(best['l2_leaf_reg']),\n",
        "    #'learning_rate': best['learning_rate'],\n",
        "    'l2_leaf_reg': 2,\n",
        "    'learning_rate': 0.1,\n",
        "    'custom_loss': [metrics.Accuracy()],\n",
        "    'eval_metric': metrics.Accuracy(),\n",
        "    'random_seed': 42,\n",
        "    'depth': 5,\n",
        "    'logging_level': 'Silent',\n",
        "    'loss_function': 'MultiClass',\n",
        "}\n",
        "train_pool = Pool(X_train, y_train)\n",
        "validate_pool = Pool(X_validation, y_validation)\n",
        "\n",
        "model = CatBoostClassifier(**params)\n",
        "model.fit(\n",
        "    train_pool,\n",
        "    eval_set=validate_pool,\n",
        "    plot=True,\n",
        "    verbose=False,\n",
        ")\n",
        "\n",
        "print('Model validation accuracy: {:.4}'.format(\n",
        "    accuracy_score(y_test, model.predict(X_test))\n",
        "))"
      ]
    },
    {
      "cell_type": "code",
      "execution_count": 53,
      "id": "UFuSMQT5Avbl",
      "metadata": {
        "colab": {
          "base_uri": "https://localhost:8080/"
        },
        "id": "UFuSMQT5Avbl",
        "outputId": "0d54141d-cf8c-405b-a54c-baad33afe71a"
      },
      "outputs": [
        {
          "name": "stdout",
          "output_type": "stream",
          "text": [
            "[[0]\n",
            " [0]\n",
            " [0]\n",
            " [0]\n",
            " [0]\n",
            " [0]\n",
            " [0]\n",
            " [0]\n",
            " [0]\n",
            " [0]]\n",
            "[[0.32415252 0.40892479 0.26692269]\n",
            " [0.02090885 0.95814936 0.02094179]\n",
            " [0.01078654 0.9757595  0.01345396]\n",
            " [0.00789274 0.98422891 0.00787835]\n",
            " [0.01929585 0.96591847 0.01478568]\n",
            " [0.00986332 0.98084384 0.00929284]\n",
            " [0.04086921 0.92393035 0.03520044]\n",
            " [0.00889447 0.98221265 0.00889288]\n",
            " [0.00741744 0.98485587 0.0077267 ]\n",
            " [0.01466305 0.97058442 0.01475252]]\n",
            "       target\n",
            "20233      -1\n",
            "18782       0\n",
            "26657       0\n",
            "27456       0\n",
            "36872       0\n",
            "25891       0\n",
            "33455      -1\n",
            "23349       0\n",
            "4176        0\n",
            "37949       0\n"
          ]
        }
      ],
      "source": [
        "predictions = model.predict(X_test)\n",
        "predictions = predictions.reshape(predictions.shape[0], 1)\n",
        "predictions_probs = model.predict_proba(X_test)\n",
        "print(predictions[90:100])\n",
        "print(predictions_probs[90:100])\n",
        "print(y_test[90:100])"
      ]
    },
    {
      "cell_type": "code",
      "execution_count": 54,
      "id": "LKsiuV0uA4I9",
      "metadata": {
        "colab": {
          "base_uri": "https://localhost:8080/"
        },
        "id": "LKsiuV0uA4I9",
        "outputId": "1ce7df95-da6e-4160-abd9-8dc0fdbf7940"
      },
      "outputs": [
        {
          "name": "stdout",
          "output_type": "stream",
          "text": [
            "trade_volume-SELL-42-sec: 5.61537751161643\n",
            "trade_volume-SELL-60-sec: 4.614888485896265\n",
            "moving_average_price-SELL-6-sec: 4.063784580178312\n",
            "weighted_moving_average_price-SELL-6-sec: 4.057274504942314\n",
            "trade_volume-BUY-54-sec: 3.850347617669889\n",
            "trade_volume-SELL-30-sec: 3.783192856435399\n",
            "trade_volume-SELL-54-sec: 3.206172151494135\n",
            "moving_average_price-BUY-12-sec: 3.198805892896194\n",
            "moving_average_price-SELL-30-sec: 2.8126406799900683\n",
            "trade_volume-BUY-24-sec: 2.6335753268889226\n",
            "trade_volume-BUY-48-sec: 2.5656222195180702\n",
            "moving_average_price-BUY-54-sec: 2.391430188770366\n",
            "stochastic_oscillator-SELL-6-sec: 2.3841119242833875\n",
            "weighted_moving_average_price-SELL-30-sec: 2.3002760217322757\n",
            "trade_volume-SELL-36-sec: 2.1274466634340454\n",
            "weighted_moving_average_price-BUY-12-sec: 2.0008079247444104\n",
            "moving_average_price-BUY-36-sec: 1.9371604188044431\n",
            "trade_volume-BUY-42-sec: 1.911181910669554\n",
            "trade_volume-BUY-12-sec: 1.8324460643409621\n",
            "trade_volume-BUY-18-sec: 1.822222371608947\n",
            "moving_average_price-BUY-42-sec: 1.79118317672445\n",
            "weighted_moving_average_price-BUY-6-sec: 1.7839418886631002\n",
            "stochastic_oscillator-BUY-6-sec: 1.5896610146030372\n",
            "moving_average_price-BUY-18-sec: 1.5154815686815686\n",
            "trade_volume-BUY-60-sec: 1.4775133459901433\n",
            "moving_average_price-BUY-6-sec: 1.4305415713901972\n",
            "weighted_moving_average_price-BUY-24-sec: 1.4240055451745608\n",
            "moving_average_price-SELL-48-sec: 1.419888862224797\n",
            "trade_volume-SELL-6-sec: 1.385419815007879\n",
            "trade_volume-BUY-36-sec: 1.3535532263869852\n",
            "trade_volume-BUY-30-sec: 1.19342938068085\n",
            "moving_average_price-BUY-24-sec: 1.1603221446624612\n",
            "weighted_moving_average_price-BUY-54-sec: 1.1099094452874818\n",
            "weighted_moving_average_price-BUY-36-sec: 1.1080144599881336\n",
            "weighted_moving_average_price-SELL-54-sec: 1.0898524976980788\n",
            "trade_volume-SELL-24-sec: 1.0567605916637397\n",
            "trade_volume-BUY-6-sec: 1.0026427552371426\n",
            "moving_average_price-SELL-54-sec: 0.944009856070931\n",
            "stochastic_oscillator-SELL-24-sec: 0.9169611863028446\n",
            "weighted_moving_average_price-BUY-48-sec: 0.8982708444407258\n",
            "moving_average_price-BUY-30-sec: 0.8670870436804164\n",
            "weighted_moving_average_price-SELL-18-sec: 0.8341181832709192\n",
            "moving_average_price-SELL-12-sec: 0.7973902663892275\n",
            "exp_moving_average_price-SELL-6-sec: 0.7926973258593989\n",
            "stochastic_oscillator-BUY-18-sec: 0.7743395681295454\n",
            "moving_average_price-SELL-36-sec: 0.7679740089309254\n",
            "stochastic_oscillator-BUY-36-sec: 0.7377848633315827\n",
            "weighted_moving_average_price-BUY-42-sec: 0.6192675828364302\n",
            "moving_average_price-BUY-48-sec: 0.5946961781561843\n",
            "trade_volume-SELL-18-sec: 0.5520461842169919\n",
            "weighted_moving_average_price-SELL-48-sec: 0.5456759154033458\n",
            "weighted_moving_average_price-SELL-42-sec: 0.5197504933623918\n",
            "weighted_moving_average_price-BUY-18-sec: 0.5143223201284747\n",
            "stochastic_oscillator-BUY-12-sec: 0.47949171605518087\n",
            "stochastic_oscillator-BUY-60-sec: 0.46239879220062263\n",
            "stochastic_oscillator-SELL-48-sec: 0.46096264832461487\n",
            "stochastic_oscillator-BUY-48-sec: 0.4468917644655963\n",
            "trade_volume-SELL-48-sec: 0.4446817438927135\n",
            "trade_volume-SELL-12-sec: 0.42488662652256914\n",
            "moving_average_price-SELL-18-sec: 0.42113291213660303\n",
            "moving_average_price-SELL-42-sec: 0.40800959188729574\n",
            "stochastic_oscillator-BUY-30-sec: 0.3631319535348738\n",
            "weighted_moving_average_price-SELL-36-sec: 0.33239637760172763\n",
            "stochastic_oscillator-SELL-60-sec: 0.3215052357217403\n",
            "moving_average_price-SELL-24-sec: 0.26375815427442795\n",
            "stochastic_oscillator-SELL-54-sec: 0.2249849318365238\n",
            "exp_moving_average_price-BUY-12-sec: 0.2171030626558831\n",
            "weighted_moving_average_price-SELL-24-sec: 0.19623633092384266\n",
            "exp_moving_average_price-SELL-12-sec: 0.16376260827572384\n",
            "stochastic_oscillator-SELL-12-sec: 0.14573270723168655\n",
            "stochastic_oscillator-SELL-18-sec: 0.13530646318872905\n",
            "stochastic_oscillator-BUY-24-sec: 0.07740685708449103\n",
            "stochastic_oscillator-BUY-42-sec: 0.07678222207793867\n",
            "stochastic_oscillator-SELL-30-sec: 0.055725806638862306\n",
            "exp_moving_average_price-BUY-42-sec: 0.04796744773278874\n",
            "exp_moving_average_price-BUY-36-sec: 0.041343267073714\n",
            "exp_moving_average_price-BUY-24-sec: 0.040296521203924844\n",
            "exp_moving_average_price-BUY-18-sec: 0.023932532173560558\n",
            "exp_moving_average_price-SELL-36-sec: 0.019064517502528824\n",
            "exp_moving_average_price-SELL-48-sec: 0.01565703452396432\n",
            "exp_moving_average_price-SELL-30-sec: 0.012171746768512357\n",
            "weighted_moving_average_price-SELL-12-sec: 0.0\n",
            "weighted_moving_average_price-BUY-30-sec: 0.0\n",
            "stochastic_oscillator-SELL-42-sec: 0.0\n",
            "stochastic_oscillator-SELL-36-sec: 0.0\n",
            "stochastic_oscillator-BUY-54-sec: 0.0\n",
            "exp_moving_average_price-SELL-54-sec: 0.0\n",
            "exp_moving_average_price-SELL-42-sec: 0.0\n",
            "exp_moving_average_price-SELL-24-sec: 0.0\n",
            "exp_moving_average_price-SELL-18-sec: 0.0\n",
            "exp_moving_average_price-BUY-6-sec: 0.0\n",
            "exp_moving_average_price-BUY-54-sec: 0.0\n",
            "exp_moving_average_price-BUY-48-sec: 0.0\n",
            "exp_moving_average_price-BUY-30-sec: 0.0\n"
          ]
        }
      ],
      "source": [
        "feature_importances = model.get_feature_importance(train_pool)\n",
        "feature_names = X_train.columns\n",
        "for score, name in sorted(zip(feature_importances, feature_names), reverse=True):\n",
        "    print('{}: {}'.format(name, score))\n"
      ]
    },
    {
      "cell_type": "code",
      "execution_count": 55,
      "id": "nYtYQuKh3n8N",
      "metadata": {
        "id": "nYtYQuKh3n8N"
      },
      "outputs": [],
      "source": [
        "results = []\n",
        "def f(prob_threshold, diff_threshold, null_threshold):\n",
        "    p = np.array((list(map(lambda row:\n",
        "                          1\n",
        "                          if row[2] > prob_threshold\n",
        "                              # and row[2] == max(row)\n",
        "                              and row[2] > row[0]\n",
        "                              and row[1] < null_threshold\n",
        "                              and abs(row[2] - row[0]) > diff_threshold\n",
        "                              and abs(row[2] - row[1]) > diff_threshold\n",
        "                          else\n",
        "                          -1\n",
        "                          if row[0] > prob_threshold\n",
        "                              # and row[0] == max(row)\n",
        "                              and row[0] > row[2]\n",
        "                              and row[1] < null_threshold\n",
        "                              and abs(row[0] - row[2]) > diff_threshold\n",
        "                              and abs(row[0] - row[1]) > diff_threshold\n",
        "                          else 0,\n",
        "                          predictions_probs))))\n",
        "    result = {\n",
        "        'correct_predictions': 0,\n",
        "        'false_positive': 0,\n",
        "        'false_negative': 0,\n",
        "        'wrong_side': 0,\n",
        "    }\n",
        "    for i in range(len(p)):\n",
        "        t = int(y_test['target'][i:i+1])\n",
        "        if p[i] == t != 0:\n",
        "            result['correct_predictions'] += 1\n",
        "        elif p[i] != t and t != 0 and p[i] != 0:\n",
        "            result['wrong_side'] += 1\n",
        "        elif p[i] != 0 and t == 0:\n",
        "            result['false_positive'] += 1\n",
        "        elif p[i] == 0 and t != 0:\n",
        "            result['false_negative'] += 1\n",
        "\n",
        "    result['correct_predictions'] /= len(y_test)\n",
        "    result['false_positive'] /= len(y_test)\n",
        "    result['false_negative'] /= len(y_test)\n",
        "    result['wrong_side'] /= len(y_test)\n",
        "    result['prob_threshold'] = prob_threshold\n",
        "    result['diff_threshold'] = diff_threshold\n",
        "    result['null_threshold'] = null_threshold\n",
        "    results.append(result)\n",
        "    return p\n",
        "\n",
        "for null_threshold in np.arange(0.5, 0.9, 0.1):\n",
        "    for prob_threshold in np.arange(0.1, 0.7, 0.1):\n",
        "        for diff_threshold in np.arange(0.00, 0.20, 0.05):\n",
        "            f(prob_threshold, diff_threshold, null_threshold)"
      ]
    },
    {
      "cell_type": "code",
      "execution_count": 56,
      "id": "uibgvIlGhC_s",
      "metadata": {
        "id": "uibgvIlGhC_s"
      },
      "outputs": [],
      "source": [
        "results = list(sorted(results, key=lambda result: -calculate_profit(result['prob_threshold'], result['diff_threshold'], result['null_threshold'])))"
      ]
    },
    {
      "cell_type": "code",
      "execution_count": 57,
      "id": "K_Jwjz6gYLEx",
      "metadata": {
        "colab": {
          "base_uri": "https://localhost:8080/"
        },
        "id": "K_Jwjz6gYLEx",
        "outputId": "9312c743-99f8-42f0-bf67-662812fbe9b5"
      },
      "outputs": [
        {
          "name": "stdout",
          "output_type": "stream",
          "text": [
            "{'correct_predictions': 0.00012903225806451613, 'false_positive': 0.0, 'false_negative': 0.029161290322580646, 'wrong_side': 0.0, 'prob_threshold': 0.5, 'diff_threshold': 0.0, 'null_threshold': 0.5}\n"
          ]
        }
      ],
      "source": [
        "print(results[0])"
      ]
    },
    {
      "cell_type": "code",
      "execution_count": 58,
      "id": "YVf5Mi0OZMzL",
      "metadata": {
        "colab": {
          "base_uri": "https://localhost:8080/"
        },
        "id": "YVf5Mi0OZMzL",
        "outputId": "f45b507e-3efd-4b28-85dc-0311effebdc2"
      },
      "outputs": [
        {
          "name": "stdout",
          "output_type": "stream",
          "text": [
            "prob_threshold 0.5, diff_threshold 0.0, null_threshold 0.5\n",
            "accuracy 0.9708387096774194\n",
            "{'correct_predictions': 1, 'false_positive': 0, 'false_negative': 226, 'wrong_side': 0, 'correct_predictions_pc': 0.00012903225806451613, 'false_positive_pc': 0.0, 'false_negative_pc': 0.029161290322580646, 'wrong_side_pc': 0.0}\n"
          ]
        }
      ],
      "source": [
        "prob_threshold = results[0]['prob_threshold']\n",
        "diff_threshold = results[0]['diff_threshold']\n",
        "null_threshold = results[0]['null_threshold']\n",
        "\n",
        "print(f\"prob_threshold {prob_threshold}, diff_threshold {diff_threshold}, null_threshold {null_threshold}\")\n",
        "p = f(prob_threshold, diff_threshold, null_threshold)\n",
        "print('accuracy', accuracy_score(p, y_test))\n",
        "result = {\n",
        "    'correct_predictions': 0,\n",
        "    'false_positive': 0,\n",
        "    'false_negative': 0,\n",
        "    'wrong_side': 0,\n",
        "}\n",
        "for i in range(len(p)):\n",
        "    t = int(y_test['target'][i:i+1])\n",
        "    if p[i] == t != 0:\n",
        "        result['correct_predictions'] += 1\n",
        "    elif p[i] != t and t != 0 and p[i] != 0:\n",
        "        result['wrong_side'] += 1\n",
        "    elif p[i] != 0 and t == 0:\n",
        "        result['false_positive'] += 1\n",
        "    elif p[i] == 0 and t != 0:\n",
        "        result['false_negative'] += 1\n",
        "\n",
        "result['correct_predictions_pc'] = result['correct_predictions'] / len(y_test)\n",
        "result['false_positive_pc'] = result['false_positive'] / len(y_test)\n",
        "result['false_negative_pc'] = result['false_negative'] / len(y_test)\n",
        "result['wrong_side_pc'] = result['wrong_side'] / len(y_test)\n",
        "print(result)"
      ]
    },
    {
      "cell_type": "code",
      "execution_count": 59,
      "id": "gMozO7JrZ3de",
      "metadata": {
        "colab": {
          "base_uri": "https://localhost:8080/"
        },
        "id": "gMozO7JrZ3de",
        "outputId": "dc17a0cc-dc08-4d63-93e7-6df092b47432"
      },
      "outputs": [
        {
          "name": "stdout",
          "output_type": "stream",
          "text": [
            "profit from 3000$ fot 2 months 22.498258064516133 $ 0.7499419354838711 %\n"
          ]
        }
      ],
      "source": [
        "def calculate_profit(prob_threshold, diff_threshold, null_threshold):\n",
        "    p = f(prob_threshold, diff_threshold, null_threshold)\n",
        "    result = {\n",
        "        'correct_predictions': 0,\n",
        "        'false_positive': 0,\n",
        "        'false_negative': 0,\n",
        "        'wrong_side': 0,\n",
        "    }\n",
        "    for i in range(len(p)):\n",
        "        t = int(y_test['target'][i:i+1])\n",
        "        if p[i] == t != 0:\n",
        "            result['correct_predictions'] += 1\n",
        "        elif p[i] != t and t != 0 and p[i] != 0:\n",
        "            result['wrong_side'] += 1\n",
        "        elif p[i] != 0 and t == 0:\n",
        "            result['false_positive'] += 1\n",
        "        elif p[i] == 0 and t != 0:\n",
        "            result['false_negative'] += 1\n",
        "\n",
        "    result['correct_predictions_pc'] = result['correct_predictions'] / len(y_test)\n",
        "    result['false_positive_pc'] = result['false_positive'] / len(y_test)\n",
        "    result['false_negative_pc'] = result['false_negative'] / len(y_test)\n",
        "    result['wrong_side_pc'] = result['wrong_side'] / len(y_test)\n",
        "    \n",
        "    return (\n",
        "          len(y) * result['correct_predictions_pc'] * (punch - 2 * commision)\n",
        "          -\n",
        "          len(y) * result['false_positive_pc'] * 2 * commision\n",
        "          -\n",
        "          len(y) * result['wrong_side_pc'] * (punch + 2 * commision)\n",
        "    )\n",
        "profit = calculate_profit(prob_threshold, diff_threshold, null_threshold)\n",
        "print(\n",
        "    'profit from 3000$ fot 2 months',\n",
        "    profit * 3000,\n",
        "    '$',\n",
        "    profit * 100,\n",
        "    '%'\n",
        ")"
      ]
    },
    {
      "cell_type": "code",
      "execution_count": 60,
      "id": "_Gh3CUGM6K-c",
      "metadata": {
        "colab": {
          "base_uri": "https://localhost:8080/"
        },
        "id": "_Gh3CUGM6K-c",
        "outputId": "5e3164b5-8869-444f-dfe1-0ca96eed51c5"
      },
      "outputs": [
        {
          "name": "stdout",
          "output_type": "stream",
          "text": [
            "Correct accuracy = correct prediction / total positive num = 0.004405286343612335\n",
            "FPR = false positive / total negative num = 0.0\n",
            "FNR = false negative / total positive num = 0.9955947136563876\n",
            "Model in 0.4405286343612335% of cases with probability 100.0% predict a correct market jump\n"
          ]
        }
      ],
      "source": [
        "correct_accuracy = result['correct_predictions'] / len(y_test[y_test['target'] != 0])\n",
        "print(\n",
        "f\"Correct accuracy = correct prediction / total positive num = {correct_accuracy}\"\n",
        ")\n",
        "FPR = result['false_positive'] / len(y_test[y_test['target'] == 0])\n",
        "print(\n",
        "f\"FPR = false positive / total negative num = {FPR}\"\n",
        ")\n",
        "FNR = result['false_negative'] / len(y_test[y_test['target'] != 0])\n",
        "print(\n",
        "f\"FNR = false negative / total positive num = {FNR}\"\n",
        ")\n",
        "cases_pc = (result['correct_predictions'] + result['false_positive'] + result['wrong_side']) / len(y_test[y_test['target'] != 0]) * 100\n",
        "probability_pc = result['correct_predictions'] / (result['correct_predictions'] + result['false_positive'] + result['wrong_side']) * 100\n",
        "print(\n",
        "f\"Model in {cases_pc}% of cases with probability {probability_pc}% predict a correct market jump\"\n",
        ")"
      ]
    },
    {
      "cell_type": "code",
      "execution_count": 61,
      "id": "lhzxNa9Ezvm6",
      "metadata": {
        "colab": {
          "base_uri": "https://localhost:8080/"
        },
        "id": "lhzxNa9Ezvm6",
        "outputId": "a5d9d937-b935-42b9-e985-f9f9158bfd22"
      },
      "outputs": [
        {
          "name": "stdout",
          "output_type": "stream",
          "text": [
            "0 [0.01002155 0.97815069 0.01182777] 1\n",
            "0 [0.01673986 0.95929627 0.02396386] -1\n",
            "0 [0.01051587 0.97989528 0.00958886] -1\n",
            "0 [0.01344922 0.97260521 0.01394558] -1\n",
            "0 [0.35531848 0.45688737 0.18779415] 1\n",
            "0 [0.32415252 0.40892479 0.26692269] -1\n",
            "0 [0.04086921 0.92393035 0.03520044] -1\n",
            "0 [0.01487971 0.96950016 0.01562014] 1\n",
            "0 [0.04639228 0.91974886 0.03385886] -1\n",
            "0 [0.14735192 0.76154143 0.09110665] 1\n",
            "0 [0.02587967 0.95308716 0.02103317] 1\n",
            "0 [0.07277492 0.86227077 0.0649543 ] -1\n",
            "0 [0.039144   0.91564476 0.04521125] 1\n",
            "0 [0.01170684 0.97821686 0.0100763 ] -1\n",
            "0 [0.03616034 0.93718055 0.02665911] 1\n",
            "0 [0.02127823 0.95861301 0.02010877] 1\n",
            "0 [0.00998267 0.98051399 0.00950333] -1\n",
            "0 [0.39602934 0.3052214  0.29874927] 1\n",
            "0 [0.04671071 0.92481223 0.02847706] 1\n",
            "0 [0.02604175 0.9502295  0.02372876] 1\n",
            "0 [0.42657889 0.35029494 0.22312618] 1\n",
            "0 [0.01211554 0.97563915 0.01224531] 1\n",
            "0 [0.01085525 0.97876194 0.0103828 ] -1\n",
            "0 [0.01440787 0.97095261 0.01463953] 1\n",
            "0 [0.04182415 0.92461397 0.03356188] 1\n",
            "0 [0.02572101 0.94683337 0.02744562] 1\n",
            "0 [0.00960843 0.98195787 0.0084337 ] 1\n",
            "0 [0.00901493 0.98256763 0.00841744] -1\n",
            "0 [0.18944302 0.48660061 0.32395637] -1\n",
            "0 [0.07418169 0.84861151 0.0772068 ] -1\n",
            "0 [0.02485683 0.94094653 0.03419664] 1\n",
            "0 [0.16371623 0.68661699 0.14966678] 1\n",
            "0 [0.01873163 0.96236685 0.01890152] -1\n",
            "0 [0.14217122 0.72199409 0.13583469] -1\n",
            "0 [0.0673055  0.88145941 0.05123508] -1\n",
            "0 [0.06233847 0.89834752 0.039314  ] -1\n",
            "0 [0.01467737 0.96760252 0.01772012] -1\n",
            "0 [0.02841165 0.94495467 0.02663367] 1\n",
            "0 [0.02662677 0.94963108 0.02374216] 1\n",
            "0 [0.0092315  0.98179197 0.00897653] -1\n",
            "0 [0.02948297 0.94512491 0.02539212] -1\n",
            "0 [0.00761631 0.98455317 0.00783053] 1\n",
            "0 [0.00712171 0.98577602 0.00710227] -1\n",
            "0 [0.01024021 0.97976214 0.00999765] 1\n",
            "0 [0.02000897 0.96327219 0.01671884] -1\n",
            "0 [0.02324034 0.94961819 0.02714147] 1\n",
            "0 [0.0262765  0.95056566 0.02315784] -1\n",
            "0 [0.01141658 0.97676324 0.01182018] 1\n",
            "0 [0.01908538 0.95978805 0.02112657] -1\n",
            "0 [0.0560115  0.90195134 0.04203716] 1\n",
            "0 [0.01861756 0.96405426 0.01732818] 1\n",
            "0 [0.00856801 0.98323184 0.00820015] -1\n",
            "0 [0.01537046 0.96674658 0.01788296] 1\n",
            "0 [0.01913342 0.9664579  0.01440868] -1\n",
            "0 [0.20366384 0.65467985 0.14165631] -1\n",
            "0 [0.03025614 0.9402492  0.02949466] -1\n",
            "0 [0.05383372 0.89400477 0.05216151] -1\n",
            "0 [0.01239144 0.97675681 0.01085176] -1\n",
            "0 [0.02210558 0.95611588 0.02177854] -1\n",
            "0 [0.06422865 0.88776476 0.04800659] -1\n",
            "0 [0.01413789 0.97275678 0.01310533] 1\n",
            "0 [0.16660885 0.64644423 0.18694691] -1\n",
            "0 [0.22459955 0.52268803 0.25271242] -1\n",
            "0 [0.14125903 0.7396337  0.11910727] 1\n",
            "0 [0.01268786 0.97522045 0.01209169] 1\n",
            "0 [0.01276432 0.97384624 0.01338944] 1\n",
            "0 [0.00849391 0.9830628  0.00844329] -1\n",
            "0 [0.02388713 0.95671048 0.01940239] 1\n",
            "0 [0.01868919 0.9650391  0.01627171] -1\n",
            "0 [0.01193337 0.97668887 0.01137776] -1\n",
            "0 [0.02133292 0.96287263 0.01579445] 1\n",
            "0 [0.1468497  0.69378844 0.15936185] -1\n",
            "0 [0.00871932 0.9827079  0.00857278] 1\n",
            "0 [0.22017559 0.54872392 0.23110049] -1\n",
            "0 [0.01419054 0.97203211 0.01377736] -1\n",
            "0 [0.02910992 0.94779464 0.02309544] 1\n",
            "0 [0.07548287 0.86195231 0.06256482] 1\n",
            "0 [0.15150794 0.68782804 0.16066402] 1\n",
            "0 [0.03059884 0.93345215 0.03594901] -1\n",
            "0 [0.00916545 0.98020913 0.01062542] 1\n",
            "0 [0.00785817 0.98415926 0.00798257] -1\n",
            "0 [0.01072576 0.97815904 0.0111152 ] 1\n",
            "0 [0.00826184 0.98345734 0.00828082] -1\n",
            "0 [0.11017655 0.71173765 0.17808579] 1\n",
            "0 [0.00877569 0.98277467 0.00844964] 1\n",
            "0 [0.03775782 0.93132958 0.0309126 ] 1\n",
            "0 [0.02158813 0.95860258 0.01980929] 1\n",
            "0 [0.02708849 0.95541756 0.01749395] -1\n",
            "0 [0.01705661 0.97023741 0.01270598] 1\n",
            "0 [0.10057611 0.83070649 0.0687174 ] 1\n",
            "0 [0.01278462 0.97031048 0.0169049 ] -1\n",
            "0 [0.00701308 0.98569967 0.00728726] -1\n",
            "0 [0.11719599 0.73533965 0.14746436] -1\n",
            "0 [0.13105587 0.70958314 0.15936099] -1\n",
            "0 [0.01562211 0.96853917 0.01583872] -1\n",
            "0 [0.00712913 0.98518861 0.00768226] -1\n",
            "0 [0.01112847 0.97720133 0.0116702 ] 1\n",
            "0 [0.07984289 0.82142482 0.09873229] 1\n",
            "0 [0.00899243 0.98174077 0.00926681] -1\n",
            "0 [0.10003138 0.81703901 0.08292961] 1\n",
            "0 [0.17754666 0.66499463 0.15745871] 1\n",
            "0 [0.09293867 0.83601087 0.07105046] 1\n",
            "0 [0.00828023 0.98188448 0.00983529] 1\n",
            "0 [0.0240966  0.95372717 0.02217623] -1\n",
            "0 [0.26350897 0.60489829 0.13159274] -1\n",
            "0 [0.08467112 0.79286824 0.12246064] -1\n",
            "0 [0.01969818 0.96192952 0.01837231] 1\n",
            "0 [0.02092971 0.96067223 0.01839806] -1\n",
            "0 [0.27049941 0.5140079  0.21549269] 1\n",
            "0 [0.39390076 0.37212317 0.23397607] -1\n",
            "0 [0.03313961 0.93258433 0.03427605] 1\n",
            "0 [0.048702   0.90613985 0.04515815] -1\n",
            "0 [0.0277872  0.95181477 0.02039803] -1\n",
            "0 [0.04056521 0.91549698 0.04393781] -1\n",
            "0 [0.04840286 0.91037101 0.04122612] 1\n",
            "0 [0.01294621 0.97413818 0.01291561] 1\n",
            "0 [0.0082463  0.98239531 0.00935839] 1\n",
            "0 [0.311524   0.42088445 0.26759155] -1\n",
            "-1 [0.50399042 0.29621724 0.19979234] -1\n",
            "0 [0.38388395 0.19034851 0.42576754] 1\n",
            "0 [0.18731069 0.55586061 0.2568287 ] -1\n",
            "0 [0.0188586  0.96144426 0.01969714] 1\n",
            "0 [0.04314567 0.9246051  0.03224922] -1\n",
            "0 [0.01095833 0.97797359 0.01106807] -1\n",
            "0 [0.00730838 0.98520866 0.00748296] 1\n",
            "0 [0.01735049 0.96621877 0.01643073] -1\n",
            "0 [0.01120697 0.97861971 0.01017333] -1\n",
            "0 [0.00837447 0.98327485 0.00835068] -1\n",
            "0 [0.06502494 0.86557747 0.06939759] -1\n",
            "0 [0.05618087 0.87676764 0.0670515 ] 1\n",
            "0 [0.01319506 0.97430043 0.01250451] 1\n",
            "0 [0.02952424 0.9449896  0.02548616] -1\n",
            "0 [0.05246447 0.90985949 0.03767604] 1\n",
            "0 [0.00747919 0.98513492 0.00738589] -1\n",
            "0 [0.01131774 0.97978724 0.00889502] 1\n",
            "0 [0.10765232 0.77507759 0.11727009] -1\n",
            "0 [0.01483127 0.97381817 0.01135056] 1\n",
            "0 [0.01543611 0.97019149 0.01437239] -1\n",
            "0 [0.00827936 0.98371572 0.00800493] 1\n",
            "0 [0.01774969 0.96149467 0.02075564] -1\n",
            "0 [0.01509829 0.96576699 0.01913471] 1\n",
            "0 [0.06249544 0.88035921 0.05714535] 1\n",
            "0 [0.3575522  0.17204611 0.47040169] -1\n",
            "0 [0.01834134 0.96177075 0.01988791] -1\n",
            "0 [0.39862869 0.27781529 0.32355602] -1\n",
            "0 [0.0933558  0.77659874 0.13004546] -1\n",
            "0 [0.26163671 0.39500768 0.34335561] -1\n",
            "0 [0.00729244 0.98537152 0.00733603] 1\n",
            "0 [0.03918596 0.91086968 0.04994436] -1\n",
            "0 [0.04600454 0.89589142 0.05810405] -1\n",
            "0 [0.07183515 0.88118156 0.04698328] 1\n",
            "0 [0.02315253 0.95649233 0.02035515] -1\n",
            "0 [0.00747094 0.98413078 0.00839828] 1\n",
            "0 [0.16539764 0.69559924 0.13900313] -1\n",
            "0 [0.00777839 0.98481847 0.00740314] -1\n",
            "0 [0.00734423 0.98494175 0.00771401] -1\n",
            "0 [0.06081847 0.88878725 0.05039428] 1\n",
            "0 [0.01490159 0.96857516 0.01652325] -1\n",
            "0 [0.20622572 0.64589449 0.14787979] 1\n",
            "0 [0.185667   0.55027027 0.26406273] -1\n",
            "0 [0.01297528 0.97341482 0.0136099 ] 1\n",
            "0 [0.30431177 0.41071254 0.28497569] -1\n",
            "0 [0.02114938 0.95601699 0.02283364] -1\n",
            "0 [0.02574735 0.94950034 0.02475231] 1\n",
            "0 [0.20084324 0.64645171 0.15270504] 1\n",
            "0 [0.18711673 0.64943395 0.16344932] 1\n",
            "0 [0.01724786 0.96406841 0.01868373] 1\n",
            "0 [0.03739462 0.94339496 0.01921043] -1\n",
            "0 [0.15218206 0.62390941 0.22390853] 1\n",
            "0 [0.01528521 0.96993477 0.01478003] 1\n",
            "0 [0.33740423 0.29557764 0.36701813] -1\n",
            "0 [0.05926383 0.8619107  0.07882547] -1\n",
            "0 [0.05859493 0.88413417 0.0572709 ] -1\n",
            "0 [0.37351378 0.32293765 0.30354857] 1\n",
            "0 [0.01421975 0.97146871 0.01431155] 1\n",
            "0 [0.01033065 0.97798147 0.01168787] -1\n",
            "0 [0.11167435 0.76396215 0.1243635 ] -1\n",
            "0 [0.04353377 0.89120045 0.06526578] -1\n",
            "0 [0.03632362 0.93635308 0.02732331] 1\n",
            "0 [0.00835307 0.98241094 0.00923599] -1\n",
            "0 [0.30094627 0.53688361 0.16217012] -1\n",
            "0 [0.00962814 0.98158462 0.00878724] -1\n",
            "0 [0.45161003 0.29726505 0.25112492] -1\n",
            "0 [0.00894026 0.98223555 0.00882419] -1\n",
            "0 [0.01287846 0.97618362 0.01093792] -1\n",
            "0 [0.01167074 0.97593559 0.01239367] 1\n",
            "0 [0.00870292 0.98125703 0.01004005] 1\n",
            "0 [0.13287582 0.77604397 0.09108021] -1\n",
            "0 [0.38701121 0.29090295 0.32208585] -1\n",
            "0 [0.04087957 0.92710986 0.03201056] 1\n",
            "0 [0.008346   0.98396372 0.00769028] 1\n",
            "0 [0.01031059 0.97875306 0.01093635] -1\n",
            "0 [0.01747907 0.96781582 0.01470511] 1\n",
            "0 [0.02588688 0.94866063 0.02545249] 1\n",
            "0 [0.24849075 0.35413082 0.39737843] 1\n",
            "0 [0.32911538 0.18905442 0.48183021] -1\n",
            "0 [0.28293201 0.46802185 0.24904614] 1\n",
            "0 [0.01849294 0.95541803 0.02608903] -1\n",
            "0 [0.04190413 0.92045672 0.03763915] 1\n",
            "0 [0.01808423 0.96936374 0.01255203] -1\n",
            "0 [0.01627812 0.96920005 0.01452183] -1\n",
            "0 [0.17641222 0.72382865 0.09975914] 1\n",
            "0 [0.08339943 0.85854904 0.05805153] -1\n",
            "0 [0.00874061 0.98291226 0.00834713] 1\n",
            "0 [0.2523065  0.47860815 0.26908535] -1\n",
            "0 [0.01163681 0.97761507 0.01074812] 1\n",
            "0 [0.00816613 0.98394556 0.00788831] 1\n",
            "0 [0.00804086 0.98310138 0.00885776] -1\n",
            "0 [0.04149781 0.92384687 0.03465532] -1\n",
            "0 [0.01374788 0.97435427 0.01189784] -1\n",
            "0 [0.0365915  0.92507216 0.03833634] -1\n",
            "0 [0.04847668 0.91105365 0.04046967] -1\n",
            "0 [0.00807525 0.98438427 0.00754049] -1\n",
            "0 [0.08364319 0.85732815 0.05902866] -1\n",
            "0 [0.01010902 0.98006566 0.00982532] 1\n",
            "0 [0.1660289  0.66095287 0.17301822] -1\n",
            "0 [0.03083941 0.94518072 0.02397987] -1\n",
            "0 [0.18377735 0.71041887 0.10580378] -1\n",
            "0 [0.06145271 0.84362439 0.0949229 ] 1\n",
            "0 [0.01232893 0.9763193  0.01135177] -1\n",
            "0 [0.00769926 0.98439776 0.00790298] -1\n",
            "0 [0.03558645 0.93922789 0.02518566] 1\n",
            "0 [0.01774412 0.96398253 0.01827335] 1\n",
            "0 [0.09646546 0.8336317  0.06990284] -1\n",
            "0 [0.03700133 0.90191424 0.06108443] -1\n",
            "0 [0.02817519 0.93858617 0.03323863] -1\n",
            "0 [0.21225983 0.59569039 0.19204978] 1\n"
          ]
        }
      ],
      "source": [
        "for i in range(len(predictions_probs)):\n",
        "    if int(y_test['target'][i:i+1]) != 0:\n",
        "        print(p[i], predictions_probs[i], int(y_test['target'][i:i+1]))"
      ]
    }
  ],
  "metadata": {
    "colab": {
      "collapsed_sections": [],
      "name": "trades_size_catboost_draft.ipynb",
      "provenance": []
    },
    "kernelspec": {
      "display_name": "Python 3",
      "language": "python",
      "name": "python3"
    },
    "language_info": {
      "codemirror_mode": {
        "name": "ipython",
        "version": 3
      },
      "file_extension": ".py",
      "mimetype": "text/x-python",
      "name": "python",
      "nbconvert_exporter": "python",
      "pygments_lexer": "ipython3",
      "version": "3.8.10"
    },
    "widgets": {
      "application/vnd.jupyter.widget-state+json": {
        "55e9d9fd2ba14fde8b6fc61511980f7d": {
          "model_module": "catboost-widget",
          "model_module_version": "^1.0.0",
          "model_name": "CatboostWidgetModel",
          "state": {
            "_dom_classes": [],
            "_model_module": "catboost-widget",
            "_model_module_version": "^1.0.0",
            "_model_name": "CatboostWidgetModel",
            "_view_count": null,
            "_view_module": "catboost-widget",
            "_view_module_version": "^1.0.0",
            "_view_name": "CatboostWidgetView",
            "data": {
              "catboost_info": {
                "content": {
                  "data": {
                    "iterations": [
                      {
                        "iteration": 0,
                        "learn": [
                          0.9706628812,
                          0.9254028226
                        ],
                        "passed_time": 0.06037296281,
                        "remaining_time": 30.12610844,
                        "test": [
                          0.9708387097,
                          0.9255261651
                        ]
                      },
                      {
                        "iteration": 1,
                        "learn": [
                          0.9706628812,
                          0.79655402
                        ],
                        "passed_time": 0.1149654233,
                        "remaining_time": 28.62639039,
                        "test": [
                          0.9708387097,
                          0.796625994
                        ]
                      },
                      {
                        "iteration": 2,
                        "learn": [
                          0.9706628812,
                          0.6955351925
                        ],
                        "passed_time": 0.1655315123,
                        "remaining_time": 27.42305387,
                        "test": [
                          0.9708387097,
                          0.6955236248
                        ]
                      },
                      {
                        "iteration": 3,
                        "learn": [
                          0.9706628812,
                          0.6144731277
                        ],
                        "passed_time": 0.2175545335,
                        "remaining_time": 26.97676215,
                        "test": [
                          0.9708387097,
                          0.6144644403
                        ]
                      },
                      {
                        "iteration": 4,
                        "learn": [
                          0.9706628812,
                          0.5477994913
                        ],
                        "passed_time": 0.2712159759,
                        "remaining_time": 26.85038161,
                        "test": [
                          0.9708387097,
                          0.5477940291
                        ]
                      },
                      {
                        "iteration": 5,
                        "learn": [
                          0.9706628812,
                          0.4918270649
                        ],
                        "passed_time": 0.3235062277,
                        "remaining_time": 26.63534608,
                        "test": [
                          0.9708387097,
                          0.4918279808
                        ]
                      },
                      {
                        "iteration": 6,
                        "learn": [
                          0.9706628812,
                          0.4449716014
                        ],
                        "passed_time": 0.3771921387,
                        "remaining_time": 26.56510348,
                        "test": [
                          0.9708387097,
                          0.4450042623
                        ]
                      },
                      {
                        "iteration": 7,
                        "learn": [
                          0.9706628812,
                          0.4047787085
                        ],
                        "passed_time": 0.4373718888,
                        "remaining_time": 26.89837116,
                        "test": [
                          0.9708387097,
                          0.4047859009
                        ]
                      },
                      {
                        "iteration": 8,
                        "learn": [
                          0.9706628812,
                          0.3702905942
                        ],
                        "passed_time": 0.4883496654,
                        "remaining_time": 26.6421873,
                        "test": [
                          0.9708387097,
                          0.3704320724
                        ]
                      },
                      {
                        "iteration": 9,
                        "learn": [
                          0.9706628812,
                          0.3401933489
                        ],
                        "passed_time": 0.5444616229,
                        "remaining_time": 26.67861952,
                        "test": [
                          0.9708387097,
                          0.3405227298
                        ]
                      },
                      {
                        "iteration": 10,
                        "learn": [
                          0.9706628812,
                          0.3141261508
                        ],
                        "passed_time": 0.5989895003,
                        "remaining_time": 26.62780597,
                        "test": [
                          0.9708387097,
                          0.3145599141
                        ]
                      },
                      {
                        "iteration": 11,
                        "learn": [
                          0.9706628812,
                          0.2914776119
                        ],
                        "passed_time": 0.6569986528,
                        "remaining_time": 26.71794522,
                        "test": [
                          0.9708387097,
                          0.2919417604
                        ]
                      },
                      {
                        "iteration": 12,
                        "learn": [
                          0.9706628812,
                          0.271635461
                        ],
                        "passed_time": 0.7088953816,
                        "remaining_time": 26.5563116,
                        "test": [
                          0.9708387097,
                          0.2721369916
                        ]
                      },
                      {
                        "iteration": 13,
                        "learn": [
                          0.9706628812,
                          0.2543575903
                        ],
                        "passed_time": 0.7602728331,
                        "remaining_time": 26.39232835,
                        "test": [
                          0.9708387097,
                          0.2549533615
                        ]
                      },
                      {
                        "iteration": 14,
                        "learn": [
                          0.9706628812,
                          0.2387990953
                        ],
                        "passed_time": 0.8241643018,
                        "remaining_time": 26.64797909,
                        "test": [
                          0.9708387097,
                          0.239498908
                        ]
                      },
                      {
                        "iteration": 15,
                        "learn": [
                          0.9706628812,
                          0.2253354529
                        ],
                        "passed_time": 0.8747738312,
                        "remaining_time": 26.46190839,
                        "test": [
                          0.9708387097,
                          0.2261698437
                        ]
                      },
                      {
                        "iteration": 16,
                        "learn": [
                          0.9706628812,
                          0.2131051888
                        ],
                        "passed_time": 0.9240960884,
                        "remaining_time": 26.25520063,
                        "test": [
                          0.9708387097,
                          0.2141081461
                        ]
                      },
                      {
                        "iteration": 17,
                        "learn": [
                          0.9706628812,
                          0.2025754322
                        ],
                        "passed_time": 0.9750965491,
                        "remaining_time": 26.1109187,
                        "test": [
                          0.9708387097,
                          0.2036863213
                        ]
                      },
                      {
                        "iteration": 18,
                        "learn": [
                          0.9706628812,
                          0.1931635976
                        ],
                        "passed_time": 1.025718315,
                        "remaining_time": 25.96686892,
                        "test": [
                          0.9708387097,
                          0.1945596789
                        ]
                      },
                      {
                        "iteration": 19,
                        "learn": [
                          0.9706628812,
                          0.1847993689
                        ],
                        "passed_time": 1.079386755,
                        "remaining_time": 25.90528212,
                        "test": [
                          0.9708387097,
                          0.1864246161
                        ]
                      },
                      {
                        "iteration": 20,
                        "learn": [
                          0.9706628812,
                          0.1772942695
                        ],
                        "passed_time": 1.130550754,
                        "remaining_time": 25.78732433,
                        "test": [
                          0.9708387097,
                          0.1791791833
                        ]
                      },
                      {
                        "iteration": 21,
                        "learn": [
                          0.9706628812,
                          0.1707634616
                        ],
                        "passed_time": 1.180438313,
                        "remaining_time": 25.64770516,
                        "test": [
                          0.9708387097,
                          0.1728520381
                        ]
                      },
                      {
                        "iteration": 22,
                        "learn": [
                          0.9706628812,
                          0.1647749099
                        ],
                        "passed_time": 1.231147835,
                        "remaining_time": 25.53293554,
                        "test": [
                          0.9708387097,
                          0.1671793034
                        ]
                      },
                      {
                        "iteration": 23,
                        "learn": [
                          0.9706628812,
                          0.1596029737
                        ],
                        "passed_time": 1.279720181,
                        "remaining_time": 25.38111693,
                        "test": [
                          0.9708387097,
                          0.1622328388
                        ]
                      },
                      {
                        "iteration": 24,
                        "learn": [
                          0.9707058975,
                          0.1550475012
                        ],
                        "passed_time": 1.329483824,
                        "remaining_time": 25.26019265,
                        "test": [
                          0.9708387097,
                          0.1578067719
                        ]
                      },
                      {
                        "iteration": 25,
                        "learn": [
                          0.9707919301,
                          0.1509159078
                        ],
                        "passed_time": 1.377186729,
                        "remaining_time": 25.10717345,
                        "test": [
                          0.9708387097,
                          0.1539296436
                        ]
                      },
                      {
                        "iteration": 26,
                        "learn": [
                          0.9709639954,
                          0.1473539594
                        ],
                        "passed_time": 1.42960094,
                        "remaining_time": 25.04449055,
                        "test": [
                          0.9709677419,
                          0.1504967957
                        ]
                      },
                      {
                        "iteration": 27,
                        "learn": [
                          0.9709209791,
                          0.1443737978
                        ],
                        "passed_time": 1.480404612,
                        "remaining_time": 24.95539203,
                        "test": [
                          0.9709677419,
                          0.1476388725
                        ]
                      },
                      {
                        "iteration": 28,
                        "learn": [
                          0.9710070117,
                          0.1416504626
                        ],
                        "passed_time": 1.527860317,
                        "remaining_time": 24.81455894,
                        "test": [
                          0.9709677419,
                          0.1452353995
                        ]
                      },
                      {
                        "iteration": 29,
                        "learn": [
                          0.971050028,
                          0.1390882931
                        ],
                        "passed_time": 1.576929429,
                        "remaining_time": 24.70522773,
                        "test": [
                          0.9709677419,
                          0.142933584
                        ]
                      },
                      {
                        "iteration": 30,
                        "learn": [
                          0.971050028,
                          0.1366745796
                        ],
                        "passed_time": 1.632543459,
                        "remaining_time": 24.69880265,
                        "test": [
                          0.9712258065,
                          0.1407746098
                        ]
                      },
                      {
                        "iteration": 31,
                        "learn": [
                          0.9711360606,
                          0.1343560314
                        ],
                        "passed_time": 1.691689759,
                        "remaining_time": 24.74096273,
                        "test": [
                          0.9713548387,
                          0.1388626853
                        ]
                      },
                      {
                        "iteration": 32,
                        "learn": [
                          0.9711360606,
                          0.1323251354
                        ],
                        "passed_time": 1.739869943,
                        "remaining_time": 24.62179586,
                        "test": [
                          0.9713548387,
                          0.1372248511
                        ]
                      },
                      {
                        "iteration": 33,
                        "learn": [
                          0.9712651095,
                          0.1306783898
                        ],
                        "passed_time": 1.788578555,
                        "remaining_time": 24.51404725,
                        "test": [
                          0.971483871,
                          0.1358152744
                        ]
                      },
                      {
                        "iteration": 34,
                        "learn": [
                          0.9713941584,
                          0.1290844164
                        ],
                        "passed_time": 1.847141241,
                        "remaining_time": 24.54059078,
                        "test": [
                          0.971483871,
                          0.1344187438
                        ]
                      },
                      {
                        "iteration": 35,
                        "learn": [
                          0.9714371747,
                          0.1280436936
                        ],
                        "passed_time": 1.897229892,
                        "remaining_time": 24.45318527,
                        "test": [
                          0.971483871,
                          0.1335272515
                        ]
                      },
                      {
                        "iteration": 36,
                        "learn": [
                          0.9713941584,
                          0.1269984741
                        ],
                        "passed_time": 1.943562837,
                        "remaining_time": 24.32079983,
                        "test": [
                          0.971483871,
                          0.1327176163
                        ]
                      },
                      {
                        "iteration": 37,
                        "learn": [
                          0.9714371747,
                          0.1258868653
                        ],
                        "passed_time": 1.992336305,
                        "remaining_time": 24.22261507,
                        "test": [
                          0.971483871,
                          0.1318011483
                        ]
                      },
                      {
                        "iteration": 38,
                        "learn": [
                          0.971480191,
                          0.1247314473
                        ],
                        "passed_time": 2.044069441,
                        "remaining_time": 24.16194903,
                        "test": [
                          0.9716129032,
                          0.1310079988
                        ]
                      },
                      {
                        "iteration": 39,
                        "learn": [
                          0.9715662236,
                          0.1239066191
                        ],
                        "passed_time": 2.101645638,
                        "remaining_time": 24.16892483,
                        "test": [
                          0.9716129032,
                          0.1303626742
                        ]
                      },
                      {
                        "iteration": 40,
                        "learn": [
                          0.9715662236,
                          0.1230515717
                        ],
                        "passed_time": 2.148175772,
                        "remaining_time": 24.04908974,
                        "test": [
                          0.9717419355,
                          0.1297708007
                        ]
                      },
                      {
                        "iteration": 41,
                        "learn": [
                          0.9717813051,
                          0.1222131134
                        ],
                        "passed_time": 2.194115348,
                        "remaining_time": 23.92630546,
                        "test": [
                          0.972,
                          0.1291956968
                        ]
                      },
                      {
                        "iteration": 42,
                        "learn": [
                          0.9718243214,
                          0.1216032407
                        ],
                        "passed_time": 2.245700924,
                        "remaining_time": 23.86710052,
                        "test": [
                          0.9718709677,
                          0.1287443926
                        ]
                      },
                      {
                        "iteration": 43,
                        "learn": [
                          0.971910354,
                          0.1210588155
                        ],
                        "passed_time": 2.293735872,
                        "remaining_time": 23.77144449,
                        "test": [
                          0.9718709677,
                          0.1283309577
                        ]
                      },
                      {
                        "iteration": 44,
                        "learn": [
                          0.971910354,
                          0.1205526678
                        ],
                        "passed_time": 2.340688039,
                        "remaining_time": 23.66695684,
                        "test": [
                          0.9718709677,
                          0.128040876
                        ]
                      },
                      {
                        "iteration": 45,
                        "learn": [
                          0.9719533703,
                          0.1200262395
                        ],
                        "passed_time": 2.388867866,
                        "remaining_time": 23.5770872,
                        "test": [
                          0.9718709677,
                          0.1277180775
                        ]
                      },
                      {
                        "iteration": 46,
                        "learn": [
                          0.9721254355,
                          0.1195990811
                        ],
                        "passed_time": 2.435084301,
                        "remaining_time": 23.47006784,
                        "test": [
                          0.9717419355,
                          0.127345329
                        ]
                      },
                      {
                        "iteration": 47,
                        "learn": [
                          0.9722114681,
                          0.1189417839
                        ],
                        "passed_time": 2.492867892,
                        "remaining_time": 23.47450599,
                        "test": [
                          0.9717419355,
                          0.1270101894
                        ]
                      },
                      {
                        "iteration": 48,
                        "learn": [
                          0.9722975008,
                          0.1185793624
                        ],
                        "passed_time": 2.538746487,
                        "remaining_time": 23.36682991,
                        "test": [
                          0.9717419355,
                          0.1268291554
                        ]
                      },
                      {
                        "iteration": 49,
                        "learn": [
                          0.9724265497,
                          0.1182852269
                        ],
                        "passed_time": 2.585338729,
                        "remaining_time": 23.26804856,
                        "test": [
                          0.9717419355,
                          0.1267088673
                        ]
                      },
                      {
                        "iteration": 50,
                        "learn": [
                          0.9724265497,
                          0.118053268
                        ],
                        "passed_time": 2.632096882,
                        "remaining_time": 23.17277451,
                        "test": [
                          0.9718709677,
                          0.1265492219
                        ]
                      },
                      {
                        "iteration": 51,
                        "learn": [
                          0.972469566,
                          0.1177445302
                        ],
                        "passed_time": 2.69421214,
                        "remaining_time": 23.21167382,
                        "test": [
                          0.9718709677,
                          0.126316582
                        ]
                      },
                      {
                        "iteration": 52,
                        "learn": [
                          0.9725125823,
                          0.1173577787
                        ],
                        "passed_time": 2.746361414,
                        "remaining_time": 23.16270853,
                        "test": [
                          0.9718709677,
                          0.1260348566
                        ]
                      },
                      {
                        "iteration": 53,
                        "learn": [
                          0.9725555986,
                          0.1171451823
                        ],
                        "passed_time": 2.793924955,
                        "remaining_time": 23.07575055,
                        "test": [
                          0.9721290323,
                          0.1258917956
                        ]
                      },
                      {
                        "iteration": 54,
                        "learn": [
                          0.9725986149,
                          0.1167600993
                        ],
                        "passed_time": 2.851824101,
                        "remaining_time": 23.07384954,
                        "test": [
                          0.9721290323,
                          0.1257592807
                        ]
                      },
                      {
                        "iteration": 55,
                        "learn": [
                          0.9727706801,
                          0.1165652752
                        ],
                        "passed_time": 2.898298895,
                        "remaining_time": 22.97936981,
                        "test": [
                          0.972,
                          0.1256439482
                        ]
                      },
                      {
                        "iteration": 56,
                        "learn": [
                          0.9727706801,
                          0.1161136072
                        ],
                        "passed_time": 2.950417405,
                        "remaining_time": 22.93043702,
                        "test": [
                          0.9718709677,
                          0.1254493107
                        ]
                      },
                      {
                        "iteration": 57,
                        "learn": [
                          0.9727706801,
                          0.1158878981
                        ],
                        "passed_time": 2.999939515,
                        "remaining_time": 22.86160803,
                        "test": [
                          0.9718709677,
                          0.1253670879
                        ]
                      },
                      {
                        "iteration": 58,
                        "learn": [
                          0.9728136964,
                          0.1156624123
                        ],
                        "passed_time": 3.046493178,
                        "remaining_time": 22.77124562,
                        "test": [
                          0.972,
                          0.1252947582
                        ]
                      },
                      {
                        "iteration": 59,
                        "learn": [
                          0.972899729,
                          0.1154613365
                        ],
                        "passed_time": 3.097422272,
                        "remaining_time": 22.71442999,
                        "test": [
                          0.972,
                          0.1252020205
                        ]
                      },
                      {
                        "iteration": 60,
                        "learn": [
                          0.9729427453,
                          0.115220392
                        ],
                        "passed_time": 3.144704559,
                        "remaining_time": 22.63156232,
                        "test": [
                          0.972,
                          0.1251432838
                        ]
                      },
                      {
                        "iteration": 61,
                        "learn": [
                          0.9730287779,
                          0.1149080497
                        ],
                        "passed_time": 3.198686873,
                        "remaining_time": 22.59717501,
                        "test": [
                          0.972,
                          0.1250699361
                        ]
                      },
                      {
                        "iteration": 62,
                        "learn": [
                          0.9729857616,
                          0.1146982576
                        ],
                        "passed_time": 3.252817073,
                        "remaining_time": 22.56319144,
                        "test": [
                          0.972,
                          0.124985144
                        ]
                      },
                      {
                        "iteration": 63,
                        "learn": [
                          0.9731148105,
                          0.1143511399
                        ],
                        "passed_time": 3.307153103,
                        "remaining_time": 22.52998052,
                        "test": [
                          0.972,
                          0.1248806941
                        ]
                      },
                      {
                        "iteration": 64,
                        "learn": [
                          0.9731148105,
                          0.1141754565
                        ],
                        "passed_time": 3.354713695,
                        "remaining_time": 22.45077627,
                        "test": [
                          0.972,
                          0.124853474
                        ]
                      },
                      {
                        "iteration": 65,
                        "learn": [
                          0.9731578268,
                          0.1139244428
                        ],
                        "passed_time": 3.403464675,
                        "remaining_time": 22.38035862,
                        "test": [
                          0.972,
                          0.1247576352
                        ]
                      },
                      {
                        "iteration": 66,
                        "learn": [
                          0.9733729083,
                          0.1136829944
                        ],
                        "passed_time": 3.451497317,
                        "remaining_time": 22.30594535,
                        "test": [
                          0.972,
                          0.1246915022
                        ]
                      },
                      {
                        "iteration": 67,
                        "learn": [
                          0.9733729083,
                          0.1135360567
                        ],
                        "passed_time": 3.498339964,
                        "remaining_time": 22.22474801,
                        "test": [
                          0.972,
                          0.1246734526
                        ]
                      },
                      {
                        "iteration": 68,
                        "learn": [
                          0.9733729083,
                          0.1132983772
                        ],
                        "passed_time": 3.548358418,
                        "remaining_time": 22.16438374,
                        "test": [
                          0.972,
                          0.1246803159
                        ]
                      },
                      {
                        "iteration": 69,
                        "learn": [
                          0.9733729083,
                          0.1130876669
                        ],
                        "passed_time": 3.595694166,
                        "remaining_time": 22.08783559,
                        "test": [
                          0.972,
                          0.1247082439
                        ]
                      },
                      {
                        "iteration": 70,
                        "learn": [
                          0.9733729083,
                          0.1129382232
                        ],
                        "passed_time": 3.645722119,
                        "remaining_time": 22.02837731,
                        "test": [
                          0.9718709677,
                          0.1247919703
                        ]
                      },
                      {
                        "iteration": 71,
                        "learn": [
                          0.9734159246,
                          0.1127879958
                        ],
                        "passed_time": 3.705918921,
                        "remaining_time": 22.02962914,
                        "test": [
                          0.9718709677,
                          0.124742834
                        ]
                      },
                      {
                        "iteration": 72,
                        "learn": [
                          0.9734589409,
                          0.1126512009
                        ],
                        "passed_time": 3.757629384,
                        "remaining_time": 21.97955818,
                        "test": [
                          0.9718709677,
                          0.1246299498
                        ]
                      },
                      {
                        "iteration": 73,
                        "learn": [
                          0.9734589409,
                          0.1124198093
                        ],
                        "passed_time": 3.805712786,
                        "remaining_time": 21.9085628,
                        "test": [
                          0.9718709677,
                          0.1245874555
                        ]
                      },
                      {
                        "iteration": 74,
                        "learn": [
                          0.9735019572,
                          0.1122867363
                        ],
                        "passed_time": 3.868184171,
                        "remaining_time": 21.9197103,
                        "test": [
                          0.9718709677,
                          0.1245882967
                        ]
                      },
                      {
                        "iteration": 75,
                        "learn": [
                          0.9735019572,
                          0.1121860754
                        ],
                        "passed_time": 3.916624023,
                        "remaining_time": 21.85063928,
                        "test": [
                          0.972,
                          0.1245711078
                        ]
                      },
                      {
                        "iteration": 76,
                        "learn": [
                          0.9735449735,
                          0.1120531812
                        ],
                        "passed_time": 3.961813552,
                        "remaining_time": 21.76424847,
                        "test": [
                          0.972,
                          0.1245020968
                        ]
                      },
                      {
                        "iteration": 77,
                        "learn": [
                          0.9737600551,
                          0.1118380653
                        ],
                        "passed_time": 4.010089468,
                        "remaining_time": 21.69561225,
                        "test": [
                          0.9721290323,
                          0.1244064136
                        ]
                      },
                      {
                        "iteration": 78,
                        "learn": [
                          0.9738030714,
                          0.1117084363
                        ],
                        "passed_time": 4.062148815,
                        "remaining_time": 21.64765381,
                        "test": [
                          0.9721290323,
                          0.1244015055
                        ]
                      },
                      {
                        "iteration": 79,
                        "learn": [
                          0.9738030714,
                          0.1115665777
                        ],
                        "passed_time": 4.109440813,
                        "remaining_time": 21.57456427,
                        "test": [
                          0.9721290323,
                          0.1244319575
                        ]
                      },
                      {
                        "iteration": 80,
                        "learn": [
                          0.973889104,
                          0.1113894907
                        ],
                        "passed_time": 4.157782099,
                        "remaining_time": 21.5075395,
                        "test": [
                          0.9721290323,
                          0.1244608496
                        ]
                      },
                      {
                        "iteration": 81,
                        "learn": [
                          0.973889104,
                          0.1112647107
                        ],
                        "passed_time": 4.210235638,
                        "remaining_time": 21.46193289,
                        "test": [
                          0.9721290323,
                          0.1244455374
                        ]
                      },
                      {
                        "iteration": 82,
                        "learn": [
                          0.9739321203,
                          0.1111832632
                        ],
                        "passed_time": 4.256527755,
                        "remaining_time": 21.38520571,
                        "test": [
                          0.9721290323,
                          0.1244303341
                        ]
                      },
                      {
                        "iteration": 83,
                        "learn": [
                          0.9739751366,
                          0.1110925797
                        ],
                        "passed_time": 4.304775166,
                        "remaining_time": 21.31888654,
                        "test": [
                          0.9721290323,
                          0.1244117915
                        ]
                      },
                      {
                        "iteration": 84,
                        "learn": [
                          0.9739321203,
                          0.1109564192
                        ],
                        "passed_time": 4.35756332,
                        "remaining_time": 21.27516209,
                        "test": [
                          0.972,
                          0.1244208329
                        ]
                      },
                      {
                        "iteration": 85,
                        "learn": [
                          0.9739321203,
                          0.1107086022
                        ],
                        "passed_time": 4.410157957,
                        "remaining_time": 21.23029528,
                        "test": [
                          0.972,
                          0.1243785513
                        ]
                      },
                      {
                        "iteration": 86,
                        "learn": [
                          0.9739321203,
                          0.1104789048
                        ],
                        "passed_time": 4.459288666,
                        "remaining_time": 21.16880712,
                        "test": [
                          0.9718709677,
                          0.1243130772
                        ]
                      },
                      {
                        "iteration": 87,
                        "learn": [
                          0.9739751366,
                          0.1104313513
                        ],
                        "passed_time": 4.506532134,
                        "remaining_time": 21.09876408,
                        "test": [
                          0.9718709677,
                          0.1243335799
                        ]
                      },
                      {
                        "iteration": 88,
                        "learn": [
                          0.9740611692,
                          0.1102871436
                        ],
                        "passed_time": 4.551958098,
                        "remaining_time": 21.0208402,
                        "test": [
                          0.9718709677,
                          0.1243377557
                        ]
                      },
                      {
                        "iteration": 89,
                        "learn": [
                          0.9741472018,
                          0.1101745361
                        ],
                        "passed_time": 4.602579307,
                        "remaining_time": 20.96730573,
                        "test": [
                          0.9718709677,
                          0.1242886696
                        ]
                      },
                      {
                        "iteration": 90,
                        "learn": [
                          0.9740611692,
                          0.1100502189
                        ],
                        "passed_time": 4.648946901,
                        "remaining_time": 20.89471739,
                        "test": [
                          0.9717419355,
                          0.1242559634
                        ]
                      },
                      {
                        "iteration": 91,
                        "learn": [
                          0.9741472018,
                          0.1098946785
                        ],
                        "passed_time": 4.699351836,
                        "remaining_time": 20.84060379,
                        "test": [
                          0.9717419355,
                          0.124275834
                        ]
                      },
                      {
                        "iteration": 92,
                        "learn": [
                          0.9741041855,
                          0.1097566604
                        ],
                        "passed_time": 4.756230054,
                        "remaining_time": 20.81489927,
                        "test": [
                          0.9717419355,
                          0.1242558708
                        ]
                      },
                      {
                        "iteration": 93,
                        "learn": [
                          0.9741472018,
                          0.1096009833
                        ],
                        "passed_time": 4.80853946,
                        "remaining_time": 20.76879809,
                        "test": [
                          0.9717419355,
                          0.1242166616
                        ]
                      },
                      {
                        "iteration": 94,
                        "learn": [
                          0.9741902181,
                          0.1094217918
                        ],
                        "passed_time": 4.86724138,
                        "remaining_time": 20.74981852,
                        "test": [
                          0.9716129032,
                          0.1242627333
                        ]
                      },
                      {
                        "iteration": 95,
                        "learn": [
                          0.9741902181,
                          0.1092935739
                        ],
                        "passed_time": 4.915357785,
                        "remaining_time": 20.68546401,
                        "test": [
                          0.971483871,
                          0.1242867319
                        ]
                      },
                      {
                        "iteration": 96,
                        "learn": [
                          0.9742332344,
                          0.1091506747
                        ],
                        "passed_time": 4.960866523,
                        "remaining_time": 20.6106104,
                        "test": [
                          0.971483871,
                          0.1242862681
                        ]
                      },
                      {
                        "iteration": 97,
                        "learn": [
                          0.9742762507,
                          0.1089311821
                        ],
                        "passed_time": 5.010363752,
                        "remaining_time": 20.55271661,
                        "test": [
                          0.9713548387,
                          0.124371778
                        ]
                      },
                      {
                        "iteration": 98,
                        "learn": [
                          0.974319267,
                          0.1088238135
                        ],
                        "passed_time": 5.058038903,
                        "remaining_time": 20.48761212,
                        "test": [
                          0.9713548387,
                          0.1243463011
                        ]
                      },
                      {
                        "iteration": 99,
                        "learn": [
                          0.974319267,
                          0.1087214002
                        ],
                        "passed_time": 5.108643748,
                        "remaining_time": 20.43457499,
                        "test": [
                          0.9713548387,
                          0.1243153936
                        ]
                      },
                      {
                        "iteration": 100,
                        "learn": [
                          0.974319267,
                          0.1085785715
                        ],
                        "passed_time": 5.155210262,
                        "remaining_time": 20.36563262,
                        "test": [
                          0.9713548387,
                          0.1242961146
                        ]
                      },
                      {
                        "iteration": 101,
                        "learn": [
                          0.974319267,
                          0.1084838995
                        ],
                        "passed_time": 5.203509388,
                        "remaining_time": 20.30388957,
                        "test": [
                          0.9713548387,
                          0.1242849554
                        ]
                      },
                      {
                        "iteration": 102,
                        "learn": [
                          0.974319267,
                          0.1083196703
                        ],
                        "passed_time": 5.255109943,
                        "remaining_time": 20.2551325,
                        "test": [
                          0.9713548387,
                          0.1242458317
                        ]
                      },
                      {
                        "iteration": 103,
                        "learn": [
                          0.9742762507,
                          0.1082607276
                        ],
                        "passed_time": 5.303783115,
                        "remaining_time": 20.19517417,
                        "test": [
                          0.9713548387,
                          0.1242887749
                        ]
                      },
                      {
                        "iteration": 104,
                        "learn": [
                          0.974319267,
                          0.1081406731
                        ],
                        "passed_time": 5.35429228,
                        "remaining_time": 20.14233762,
                        "test": [
                          0.9713548387,
                          0.1242514729
                        ]
                      },
                      {
                        "iteration": 105,
                        "learn": [
                          0.9743622833,
                          0.1080724342
                        ],
                        "passed_time": 5.402545214,
                        "remaining_time": 20.08115862,
                        "test": [
                          0.9713548387,
                          0.1242016412
                        ]
                      },
                      {
                        "iteration": 106,
                        "learn": [
                          0.9744052996,
                          0.1079866513
                        ],
                        "passed_time": 5.448467547,
                        "remaining_time": 20.01166118,
                        "test": [
                          0.9713548387,
                          0.1242093774
                        ]
                      },
                      {
                        "iteration": 107,
                        "learn": [
                          0.9744052996,
                          0.107831098
                        ],
                        "passed_time": 5.495956167,
                        "remaining_time": 19.94828535,
                        "test": [
                          0.971483871,
                          0.1241377848
                        ]
                      },
                      {
                        "iteration": 108,
                        "learn": [
                          0.9744052996,
                          0.1077030035
                        ],
                        "passed_time": 5.543589454,
                        "remaining_time": 19.88571997,
                        "test": [
                          0.971483871,
                          0.1241464339
                        ]
                      },
                      {
                        "iteration": 109,
                        "learn": [
                          0.9744052996,
                          0.107600263
                        ],
                        "passed_time": 5.596557985,
                        "remaining_time": 19.84234195,
                        "test": [
                          0.9713548387,
                          0.1241336483
                        ]
                      },
                      {
                        "iteration": 110,
                        "learn": [
                          0.9744913322,
                          0.1075126927
                        ],
                        "passed_time": 5.646659443,
                        "remaining_time": 19.78874345,
                        "test": [
                          0.9713548387,
                          0.124153775
                        ]
                      },
                      {
                        "iteration": 111,
                        "learn": [
                          0.9743622833,
                          0.1073972337
                        ],
                        "passed_time": 5.699370763,
                        "remaining_time": 19.74424871,
                        "test": [
                          0.9713548387,
                          0.1241103811
                        ]
                      },
                      {
                        "iteration": 112,
                        "learn": [
                          0.9744483159,
                          0.1072911551
                        ],
                        "passed_time": 5.763443313,
                        "remaining_time": 19.73851825,
                        "test": [
                          0.971483871,
                          0.1240889673
                        ]
                      },
                      {
                        "iteration": 113,
                        "learn": [
                          0.9744483159,
                          0.1071867791
                        ],
                        "passed_time": 5.814671513,
                        "remaining_time": 19.68827372,
                        "test": [
                          0.971483871,
                          0.1241456362
                        ]
                      },
                      {
                        "iteration": 114,
                        "learn": [
                          0.9744483159,
                          0.1070154512
                        ],
                        "passed_time": 5.877700977,
                        "remaining_time": 19.67752066,
                        "test": [
                          0.971483871,
                          0.1241630603
                        ]
                      },
                      {
                        "iteration": 115,
                        "learn": [
                          0.9744483159,
                          0.1069512628
                        ],
                        "passed_time": 5.932361204,
                        "remaining_time": 19.63816123,
                        "test": [
                          0.971483871,
                          0.1241614833
                        ]
                      },
                      {
                        "iteration": 116,
                        "learn": [
                          0.9744483159,
                          0.1067827561
                        ],
                        "passed_time": 5.987513161,
                        "remaining_time": 19.60014992,
                        "test": [
                          0.971483871,
                          0.1241133369
                        ]
                      },
                      {
                        "iteration": 117,
                        "learn": [
                          0.9745773648,
                          0.1067515088
                        ],
                        "passed_time": 6.040136338,
                        "remaining_time": 19.55366171,
                        "test": [
                          0.971483871,
                          0.12412223
                        ]
                      },
                      {
                        "iteration": 118,
                        "learn": [
                          0.9745773648,
                          0.1066618777
                        ],
                        "passed_time": 6.09222215,
                        "remaining_time": 19.50534991,
                        "test": [
                          0.971483871,
                          0.1241046669
                        ]
                      },
                      {
                        "iteration": 119,
                        "learn": [
                          0.9745343485,
                          0.1065961674
                        ],
                        "passed_time": 6.146716543,
                        "remaining_time": 19.46460239,
                        "test": [
                          0.971483871,
                          0.1240887653
                        ]
                      },
                      {
                        "iteration": 120,
                        "learn": [
                          0.9744913322,
                          0.1064793941
                        ],
                        "passed_time": 6.195906732,
                        "remaining_time": 19.40701365,
                        "test": [
                          0.971483871,
                          0.1241425689
                        ]
                      },
                      {
                        "iteration": 121,
                        "learn": [
                          0.9745343485,
                          0.10639052
                        ],
                        "passed_time": 6.252402992,
                        "remaining_time": 19.37219943,
                        "test": [
                          0.971483871,
                          0.1241439185
                        ]
                      },
                      {
                        "iteration": 122,
                        "learn": [
                          0.9745773648,
                          0.1063026482
                        ],
                        "passed_time": 6.304551207,
                        "remaining_time": 19.32370573,
                        "test": [
                          0.971483871,
                          0.1241149521
                        ]
                      },
                      {
                        "iteration": 123,
                        "learn": [
                          0.9746203811,
                          0.1061518941
                        ],
                        "passed_time": 6.355930043,
                        "remaining_time": 19.27282013,
                        "test": [
                          0.9713548387,
                          0.1240781759
                        ]
                      },
                      {
                        "iteration": 124,
                        "learn": [
                          0.97474943,
                          0.1060634449
                        ],
                        "passed_time": 6.408477828,
                        "remaining_time": 19.22543348,
                        "test": [
                          0.9713548387,
                          0.1240678433
                        ]
                      },
                      {
                        "iteration": 125,
                        "learn": [
                          0.9747064137,
                          0.1059247521
                        ],
                        "passed_time": 6.458310292,
                        "remaining_time": 19.16990515,
                        "test": [
                          0.9713548387,
                          0.1240600971
                        ]
                      },
                      {
                        "iteration": 126,
                        "learn": [
                          0.9746633974,
                          0.1058383253
                        ],
                        "passed_time": 6.510668756,
                        "remaining_time": 19.1218854,
                        "test": [
                          0.9713548387,
                          0.124071171
                        ]
                      },
                      {
                        "iteration": 127,
                        "learn": [
                          0.9747064137,
                          0.1057595544
                        ],
                        "passed_time": 6.563973538,
                        "remaining_time": 19.0765481,
                        "test": [
                          0.9712258065,
                          0.1240635021
                        ]
                      },
                      {
                        "iteration": 128,
                        "learn": [
                          0.9747064137,
                          0.1057026897
                        ],
                        "passed_time": 6.615097741,
                        "remaining_time": 19.02481599,
                        "test": [
                          0.9710967742,
                          0.1240584411
                        ]
                      },
                      {
                        "iteration": 129,
                        "learn": [
                          0.97474943,
                          0.1055855494
                        ],
                        "passed_time": 6.66659429,
                        "remaining_time": 18.97415298,
                        "test": [
                          0.9712258065,
                          0.1239800139
                        ]
                      },
                      {
                        "iteration": 130,
                        "learn": [
                          0.9746633974,
                          0.1055037197
                        ],
                        "passed_time": 6.716201376,
                        "remaining_time": 18.91815502,
                        "test": [
                          0.9712258065,
                          0.1239789928
                        ]
                      },
                      {
                        "iteration": 131,
                        "learn": [
                          0.9746633974,
                          0.1054308565
                        ],
                        "passed_time": 6.77858479,
                        "remaining_time": 18.89787275,
                        "test": [
                          0.9712258065,
                          0.1240022089
                        ]
                      },
                      {
                        "iteration": 132,
                        "learn": [
                          0.9746633974,
                          0.1052682967
                        ],
                        "passed_time": 6.829441297,
                        "remaining_time": 18.84515004,
                        "test": [
                          0.9712258065,
                          0.1239707092
                        ]
                      },
                      {
                        "iteration": 133,
                        "learn": [
                          0.97474943,
                          0.1051437757
                        ],
                        "passed_time": 6.890671033,
                        "remaining_time": 18.82078805,
                        "test": [
                          0.971483871,
                          0.1239590804
                        ]
                      },
                      {
                        "iteration": 134,
                        "learn": [
                          0.9746633974,
                          0.1050206508
                        ],
                        "passed_time": 6.948109828,
                        "remaining_time": 18.78563028,
                        "test": [
                          0.971483871,
                          0.1239896855
                        ]
                      },
                      {
                        "iteration": 135,
                        "learn": [
                          0.9746633974,
                          0.1049408213
                        ],
                        "passed_time": 7.000783398,
                        "remaining_time": 18.73739086,
                        "test": [
                          0.971483871,
                          0.124005824
                        ]
                      },
                      {
                        "iteration": 136,
                        "learn": [
                          0.9747064137,
                          0.1048504869
                        ],
                        "passed_time": 7.051196766,
                        "remaining_time": 18.683098,
                        "test": [
                          0.9713548387,
                          0.1239510075
                        ]
                      },
                      {
                        "iteration": 137,
                        "learn": [
                          0.9748354626,
                          0.1047170381
                        ],
                        "passed_time": 7.102670238,
                        "remaining_time": 18.63164222,
                        "test": [
                          0.9713548387,
                          0.123927239
                        ]
                      },
                      {
                        "iteration": 138,
                        "learn": [
                          0.9749214952,
                          0.1045767009
                        ],
                        "passed_time": 7.155584272,
                        "remaining_time": 18.5839275,
                        "test": [
                          0.9713548387,
                          0.1238877308
                        ]
                      },
                      {
                        "iteration": 139,
                        "learn": [
                          0.9748784789,
                          0.1045058097
                        ],
                        "passed_time": 7.211959155,
                        "remaining_time": 18.54503783,
                        "test": [
                          0.9713548387,
                          0.1238536411
                        ]
                      },
                      {
                        "iteration": 140,
                        "learn": [
                          0.9749214952,
                          0.104428947
                        ],
                        "passed_time": 7.261037636,
                        "remaining_time": 18.48732277,
                        "test": [
                          0.9713548387,
                          0.123876654
                        ]
                      },
                      {
                        "iteration": 141,
                        "learn": [
                          0.9749645115,
                          0.1043271384
                        ],
                        "passed_time": 7.311065521,
                        "remaining_time": 18.43212293,
                        "test": [
                          0.9712258065,
                          0.1238503793
                        ]
                      },
                      {
                        "iteration": 142,
                        "learn": [
                          0.9749645115,
                          0.1042509209
                        ],
                        "passed_time": 7.362394828,
                        "remaining_time": 18.38024443,
                        "test": [
                          0.9712258065,
                          0.1238014565
                        ]
                      },
                      {
                        "iteration": 143,
                        "learn": [
                          0.9750075279,
                          0.1041696253
                        ],
                        "passed_time": 7.419150272,
                        "remaining_time": 18.34178817,
                        "test": [
                          0.9710967742,
                          0.12376567
                        ]
                      },
                      {
                        "iteration": 144,
                        "learn": [
                          0.9750075279,
                          0.1041002144
                        ],
                        "passed_time": 7.473534384,
                        "remaining_time": 18.29727384,
                        "test": [
                          0.9710967742,
                          0.1238019759
                        ]
                      },
                      {
                        "iteration": 145,
                        "learn": [
                          0.9750075279,
                          0.103979254
                        ],
                        "passed_time": 7.52386818,
                        "remaining_time": 18.24280367,
                        "test": [
                          0.9709677419,
                          0.1238751423
                        ]
                      },
                      {
                        "iteration": 146,
                        "learn": [
                          0.9750505442,
                          0.1038919557
                        ],
                        "passed_time": 7.573432431,
                        "remaining_time": 18.18654182,
                        "test": [
                          0.9708387097,
                          0.1238937715
                        ]
                      },
                      {
                        "iteration": 147,
                        "learn": [
                          0.9750935605,
                          0.1037776917
                        ],
                        "passed_time": 7.621831803,
                        "remaining_time": 18.12759996,
                        "test": [
                          0.9709677419,
                          0.1238691195
                        ]
                      },
                      {
                        "iteration": 148,
                        "learn": [
                          0.9750935605,
                          0.1037281364
                        ],
                        "passed_time": 7.668995669,
                        "remaining_time": 18.06588913,
                        "test": [
                          0.9709677419,
                          0.1238512142
                        ]
                      },
                      {
                        "iteration": 149,
                        "learn": [
                          0.9750935605,
                          0.1036682102
                        ],
                        "passed_time": 7.717389746,
                        "remaining_time": 18.00724274,
                        "test": [
                          0.9708387097,
                          0.123825158
                        ]
                      },
                      {
                        "iteration": 150,
                        "learn": [
                          0.9751795931,
                          0.1035684204
                        ],
                        "passed_time": 7.773468374,
                        "remaining_time": 17.96649313,
                        "test": [
                          0.9710967742,
                          0.1238716645
                        ]
                      },
                      {
                        "iteration": 151,
                        "learn": [
                          0.9751365768,
                          0.1034625703
                        ],
                        "passed_time": 7.822850618,
                        "remaining_time": 17.91021063,
                        "test": [
                          0.9712258065,
                          0.1238249117
                        ]
                      },
                      {
                        "iteration": 152,
                        "learn": [
                          0.9751365768,
                          0.1033900106
                        ],
                        "passed_time": 7.868221398,
                        "remaining_time": 17.84492043,
                        "test": [
                          0.9712258065,
                          0.123863522
                        ]
                      },
                      {
                        "iteration": 153,
                        "learn": [
                          0.9751365768,
                          0.1033225943
                        ],
                        "passed_time": 7.934000527,
                        "remaining_time": 17.82574144,
                        "test": [
                          0.9712258065,
                          0.1238415179
                        ]
                      },
                      {
                        "iteration": 154,
                        "learn": [
                          0.9751365768,
                          0.1032594007
                        ],
                        "passed_time": 7.980737018,
                        "remaining_time": 17.76357594,
                        "test": [
                          0.9713548387,
                          0.1238673339
                        ]
                      },
                      {
                        "iteration": 155,
                        "learn": [
                          0.9752226094,
                          0.1031664339
                        ],
                        "passed_time": 8.033228162,
                        "remaining_time": 17.714298,
                        "test": [
                          0.9713548387,
                          0.1238580411
                        ]
                      },
                      {
                        "iteration": 156,
                        "learn": [
                          0.9752226094,
                          0.103102364
                        ],
                        "passed_time": 8.080408928,
                        "remaining_time": 17.65337747,
                        "test": [
                          0.9712258065,
                          0.1238305486
                        ]
                      },
                      {
                        "iteration": 157,
                        "learn": [
                          0.9752656257,
                          0.1030280748
                        ],
                        "passed_time": 8.13347103,
                        "remaining_time": 17.60536134,
                        "test": [
                          0.9713548387,
                          0.1238445778
                        ]
                      },
                      {
                        "iteration": 158,
                        "learn": [
                          0.975308642,
                          0.1029524657
                        ],
                        "passed_time": 8.186239585,
                        "remaining_time": 17.55665219,
                        "test": [
                          0.9713548387,
                          0.1238603268
                        ]
                      },
                      {
                        "iteration": 159,
                        "learn": [
                          0.975308642,
                          0.1028300612
                        ],
                        "passed_time": 8.233633217,
                        "remaining_time": 17.49647059,
                        "test": [
                          0.9713548387,
                          0.123882232
                        ]
                      },
                      {
                        "iteration": 160,
                        "learn": [
                          0.9754376909,
                          0.102684821
                        ],
                        "passed_time": 8.282327512,
                        "remaining_time": 17.4391865,
                        "test": [
                          0.9716129032,
                          0.1239145859
                        ]
                      },
                      {
                        "iteration": 161,
                        "learn": [
                          0.9753516583,
                          0.1026064987
                        ],
                        "passed_time": 8.335313583,
                        "remaining_time": 17.39096291,
                        "test": [
                          0.9713548387,
                          0.1239189733
                        ]
                      },
                      {
                        "iteration": 162,
                        "learn": [
                          0.9753516583,
                          0.1025306332
                        ],
                        "passed_time": 8.382368431,
                        "remaining_time": 17.33041817,
                        "test": [
                          0.9717419355,
                          0.1239442934
                        ]
                      },
                      {
                        "iteration": 163,
                        "learn": [
                          0.9754376909,
                          0.1024036563
                        ],
                        "passed_time": 8.428426777,
                        "remaining_time": 17.26799632,
                        "test": [
                          0.9716129032,
                          0.1239472466
                        ]
                      },
                      {
                        "iteration": 164,
                        "learn": [
                          0.9753946746,
                          0.1022848468
                        ],
                        "passed_time": 8.475836127,
                        "remaining_time": 17.20851577,
                        "test": [
                          0.971483871,
                          0.1239514524
                        ]
                      },
                      {
                        "iteration": 165,
                        "learn": [
                          0.9753946746,
                          0.1021925131
                        ],
                        "passed_time": 8.52264338,
                        "remaining_time": 17.14796921,
                        "test": [
                          0.9716129032,
                          0.123946926
                        ]
                      },
                      {
                        "iteration": 166,
                        "learn": [
                          0.9754807072,
                          0.1020552617
                        ],
                        "passed_time": 8.573454964,
                        "remaining_time": 17.09557187,
                        "test": [
                          0.971483871,
                          0.1239698885
                        ]
                      },
                      {
                        "iteration": 167,
                        "learn": [
                          0.9755667398,
                          0.1019968631
                        ],
                        "passed_time": 8.62030092,
                        "remaining_time": 17.03535658,
                        "test": [
                          0.971483871,
                          0.1239815508
                        ]
                      },
                      {
                        "iteration": 168,
                        "learn": [
                          0.9756097561,
                          0.1019159894
                        ],
                        "passed_time": 8.667771611,
                        "remaining_time": 16.9765231,
                        "test": [
                          0.9716129032,
                          0.1239667512
                        ]
                      },
                      {
                        "iteration": 169,
                        "learn": [
                          0.9756097561,
                          0.1018671327
                        ],
                        "passed_time": 8.716673633,
                        "remaining_time": 16.92060176,
                        "test": [
                          0.9716129032,
                          0.1239344806
                        ]
                      },
                      {
                        "iteration": 170,
                        "learn": [
                          0.9755667398,
                          0.1017656989
                        ],
                        "passed_time": 8.767910859,
                        "remaining_time": 16.8692554,
                        "test": [
                          0.971483871,
                          0.1239411175
                        ]
                      },
                      {
                        "iteration": 171,
                        "learn": [
                          0.9755667398,
                          0.1017223635
                        ],
                        "passed_time": 8.8257967,
                        "remaining_time": 16.83058906,
                        "test": [
                          0.971483871,
                          0.1239057798
                        ]
                      },
                      {
                        "iteration": 172,
                        "learn": [
                          0.9756957887,
                          0.101665165
                        ],
                        "passed_time": 8.871955914,
                        "remaining_time": 16.76953517,
                        "test": [
                          0.9716129032,
                          0.1239124626
                        ]
                      },
                      {
                        "iteration": 173,
                        "learn": [
                          0.9756527724,
                          0.1015921327
                        ],
                        "passed_time": 8.93709187,
                        "remaining_time": 16.74420661,
                        "test": [
                          0.9716129032,
                          0.1239050253
                        ]
                      },
                      {
                        "iteration": 174,
                        "learn": [
                          0.9756097561,
                          0.1014989264
                        ],
                        "passed_time": 8.990477429,
                        "remaining_time": 16.69660094,
                        "test": [
                          0.9716129032,
                          0.1239273284
                        ]
                      },
                      {
                        "iteration": 175,
                        "learn": [
                          0.9756527724,
                          0.1013471296
                        ],
                        "passed_time": 9.044046954,
                        "remaining_time": 16.64926826,
                        "test": [
                          0.9716129032,
                          0.1239345643
                        ]
                      },
                      {
                        "iteration": 176,
                        "learn": [
                          0.9756527724,
                          0.1013087159
                        ],
                        "passed_time": 9.092020027,
                        "remaining_time": 16.59165237,
                        "test": [
                          0.971483871,
                          0.1239383377
                        ]
                      },
                      {
                        "iteration": 177,
                        "learn": [
                          0.9756097561,
                          0.1012520253
                        ],
                        "passed_time": 9.137922711,
                        "remaining_time": 16.53039951,
                        "test": [
                          0.9716129032,
                          0.123914459
                        ]
                      },
                      {
                        "iteration": 178,
                        "learn": [
                          0.9756097561,
                          0.1010517581
                        ],
                        "passed_time": 9.185507517,
                        "remaining_time": 16.47233471,
                        "test": [
                          0.9716129032,
                          0.1238625143
                        ]
                      },
                      {
                        "iteration": 179,
                        "learn": [
                          0.9756527724,
                          0.1009827967
                        ],
                        "passed_time": 9.232491337,
                        "remaining_time": 16.41331793,
                        "test": [
                          0.9716129032,
                          0.1238501204
                        ]
                      },
                      {
                        "iteration": 180,
                        "learn": [
                          0.9756527724,
                          0.1009331351
                        ],
                        "passed_time": 9.278122275,
                        "remaining_time": 16.35204976,
                        "test": [
                          0.9716129032,
                          0.1238587481
                        ]
                      },
                      {
                        "iteration": 181,
                        "learn": [
                          0.9756957887,
                          0.1008444131
                        ],
                        "passed_time": 9.326431265,
                        "remaining_time": 16.29563265,
                        "test": [
                          0.9716129032,
                          0.1238809209
                        ]
                      },
                      {
                        "iteration": 182,
                        "learn": [
                          0.975738805,
                          0.1007559665
                        ],
                        "passed_time": 9.37263369,
                        "remaining_time": 16.23565508,
                        "test": [
                          0.9717419355,
                          0.1238534453
                        ]
                      },
                      {
                        "iteration": 183,
                        "learn": [
                          0.9756957887,
                          0.1006451155
                        ],
                        "passed_time": 9.420728431,
                        "remaining_time": 16.17907709,
                        "test": [
                          0.9717419355,
                          0.1238701475
                        ]
                      },
                      {
                        "iteration": 184,
                        "learn": [
                          0.975738805,
                          0.1006092815
                        ],
                        "passed_time": 9.466710662,
                        "remaining_time": 16.11899383,
                        "test": [
                          0.9717419355,
                          0.123862525
                        ]
                      },
                      {
                        "iteration": 185,
                        "learn": [
                          0.9757818213,
                          0.1005355631
                        ],
                        "passed_time": 9.519085872,
                        "remaining_time": 16.06985464,
                        "test": [
                          0.9717419355,
                          0.1238263256
                        ]
                      },
                      {
                        "iteration": 186,
                        "learn": [
                          0.9757818213,
                          0.1004216022
                        ],
                        "passed_time": 9.567389283,
                        "remaining_time": 16.01386548,
                        "test": [
                          0.9717419355,
                          0.1238259248
                        ]
                      },
                      {
                        "iteration": 187,
                        "learn": [
                          0.9757818213,
                          0.1003329381
                        ],
                        "passed_time": 9.614894687,
                        "remaining_time": 15.95663374,
                        "test": [
                          0.9717419355,
                          0.1238403359
                        ]
                      },
                      {
                        "iteration": 188,
                        "learn": [
                          0.9758248376,
                          0.1002583581
                        ],
                        "passed_time": 9.664782017,
                        "remaining_time": 15.90342438,
                        "test": [
                          0.9717419355,
                          0.1238358374
                        ]
                      },
                      {
                        "iteration": 189,
                        "learn": [
                          0.9758248376,
                          0.1001968764
                        ],
                        "passed_time": 9.714900707,
                        "remaining_time": 15.85062747,
                        "test": [
                          0.9717419355,
                          0.1238719318
                        ]
                      },
                      {
                        "iteration": 190,
                        "learn": [
                          0.9759108702,
                          0.100080048
                        ],
                        "passed_time": 9.766627882,
                        "remaining_time": 15.80046081,
                        "test": [
                          0.9717419355,
                          0.1238774697
                        ]
                      },
                      {
                        "iteration": 191,
                        "learn": [
                          0.9759969028,
                          0.09995257818
                        ],
                        "passed_time": 9.828681124,
                        "remaining_time": 15.76684264,
                        "test": [
                          0.9717419355,
                          0.1239044562
                        ]
                      },
                      {
                        "iteration": 192,
                        "learn": [
                          0.9759969028,
                          0.09982023064
                        ],
                        "passed_time": 9.879543466,
                        "remaining_time": 15.71512873,
                        "test": [
                          0.9717419355,
                          0.1239126545
                        ]
                      },
                      {
                        "iteration": 193,
                        "learn": [
                          0.9760829354,
                          0.09970639965
                        ],
                        "passed_time": 9.948017502,
                        "remaining_time": 15.69120286,
                        "test": [
                          0.9717419355,
                          0.123912194
                        ]
                      },
                      {
                        "iteration": 194,
                        "learn": [
                          0.9760829354,
                          0.09960750427
                        ],
                        "passed_time": 10.01152266,
                        "remaining_time": 15.65904827,
                        "test": [
                          0.9717419355,
                          0.1239211305
                        ]
                      },
                      {
                        "iteration": 195,
                        "learn": [
                          0.9760829354,
                          0.09950200546
                        ],
                        "passed_time": 10.07513449,
                        "remaining_time": 15.62673921,
                        "test": [
                          0.9717419355,
                          0.1239275746
                        ]
                      },
                      {
                        "iteration": 196,
                        "learn": [
                          0.9760399191,
                          0.09937470366
                        ],
                        "passed_time": 10.13412779,
                        "remaining_time": 15.58700873,
                        "test": [
                          0.9716129032,
                          0.12393404
                        ]
                      },
                      {
                        "iteration": 197,
                        "learn": [
                          0.9760399191,
                          0.09928984015
                        ],
                        "passed_time": 10.19032913,
                        "remaining_time": 15.54282524,
                        "test": [
                          0.971483871,
                          0.1239461021
                        ]
                      },
                      {
                        "iteration": 198,
                        "learn": [
                          0.9760829354,
                          0.09920782332
                        ],
                        "passed_time": 10.24370954,
                        "remaining_time": 15.49425413,
                        "test": [
                          0.971483871,
                          0.1239525348
                        ]
                      },
                      {
                        "iteration": 199,
                        "learn": [
                          0.9760829354,
                          0.09911249857
                        ],
                        "passed_time": 10.29397046,
                        "remaining_time": 15.44095569,
                        "test": [
                          0.9716129032,
                          0.123973404
                        ]
                      },
                      {
                        "iteration": 200,
                        "learn": [
                          0.9760829354,
                          0.09899538066
                        ],
                        "passed_time": 10.34491794,
                        "remaining_time": 15.38870878,
                        "test": [
                          0.971483871,
                          0.1239871093
                        ]
                      },
                      {
                        "iteration": 201,
                        "learn": [
                          0.9760829354,
                          0.09894641511
                        ],
                        "passed_time": 10.39650932,
                        "remaining_time": 15.33742464,
                        "test": [
                          0.9716129032,
                          0.1240037883
                        ]
                      },
                      {
                        "iteration": 202,
                        "learn": [
                          0.9761259517,
                          0.09886177201
                        ],
                        "passed_time": 10.44673693,
                        "remaining_time": 15.28414221,
                        "test": [
                          0.9716129032,
                          0.1240004237
                        ]
                      },
                      {
                        "iteration": 203,
                        "learn": [
                          0.976168968,
                          0.09876349015
                        ],
                        "passed_time": 10.49792208,
                        "remaining_time": 15.23227909,
                        "test": [
                          0.9716129032,
                          0.1239716445
                        ]
                      },
                      {
                        "iteration": 204,
                        "learn": [
                          0.976168968,
                          0.09867031278
                        ],
                        "passed_time": 10.55104007,
                        "remaining_time": 15.183204,
                        "test": [
                          0.971483871,
                          0.1239521148
                        ]
                      },
                      {
                        "iteration": 205,
                        "learn": [
                          0.9762119843,
                          0.09860541981
                        ],
                        "passed_time": 10.60106253,
                        "remaining_time": 15.12967176,
                        "test": [
                          0.9717419355,
                          0.1239495037
                        ]
                      },
                      {
                        "iteration": 206,
                        "learn": [
                          0.9761259517,
                          0.09857152047
                        ],
                        "passed_time": 10.65262482,
                        "remaining_time": 15.07835301,
                        "test": [
                          0.9717419355,
                          0.1239584285
                        ]
                      },
                      {
                        "iteration": 207,
                        "learn": [
                          0.9762119843,
                          0.09847411023
                        ],
                        "passed_time": 10.70706683,
                        "remaining_time": 15.03107458,
                        "test": [
                          0.9716129032,
                          0.1239772713
                        ]
                      },
                      {
                        "iteration": 208,
                        "learn": [
                          0.976168968,
                          0.09840945447
                        ],
                        "passed_time": 10.75646176,
                        "remaining_time": 14.97670034,
                        "test": [
                          0.9718709677,
                          0.1239515062
                        ]
                      },
                      {
                        "iteration": 209,
                        "learn": [
                          0.976168968,
                          0.09828661369
                        ],
                        "passed_time": 10.80754422,
                        "remaining_time": 14.92470392,
                        "test": [
                          0.9718709677,
                          0.1239308243
                        ]
                      },
                      {
                        "iteration": 210,
                        "learn": [
                          0.9762119843,
                          0.09820848779
                        ],
                        "passed_time": 10.87574249,
                        "remaining_time": 14.89615915,
                        "test": [
                          0.9718709677,
                          0.1238899604
                        ]
                      },
                      {
                        "iteration": 211,
                        "learn": [
                          0.9762119843,
                          0.09813185349
                        ],
                        "passed_time": 10.92926948,
                        "remaining_time": 14.84730948,
                        "test": [
                          0.9717419355,
                          0.1239000673
                        ]
                      },
                      {
                        "iteration": 212,
                        "learn": [
                          0.976168968,
                          0.09803741972
                        ],
                        "passed_time": 11.01055594,
                        "remaining_time": 14.8358195,
                        "test": [
                          0.9718709677,
                          0.1238818947
                        ]
                      },
                      {
                        "iteration": 213,
                        "learn": [
                          0.9762119843,
                          0.09792522238
                        ],
                        "passed_time": 11.06201843,
                        "remaining_time": 14.78381902,
                        "test": [
                          0.9718709677,
                          0.1238957551
                        ]
                      },
                      {
                        "iteration": 214,
                        "learn": [
                          0.9762119843,
                          0.09788931285
                        ],
                        "passed_time": 11.11476539,
                        "remaining_time": 14.73352621,
                        "test": [
                          0.9718709677,
                          0.1238965331
                        ]
                      },
                      {
                        "iteration": 215,
                        "learn": [
                          0.9762550006,
                          0.09779400854
                        ],
                        "passed_time": 11.17059054,
                        "remaining_time": 14.68725793,
                        "test": [
                          0.9718709677,
                          0.1238908791
                        ]
                      },
                      {
                        "iteration": 216,
                        "learn": [
                          0.9762980169,
                          0.09774100796
                        ],
                        "passed_time": 11.21912375,
                        "remaining_time": 14.6313918,
                        "test": [
                          0.9718709677,
                          0.1238598824
                        ]
                      },
                      {
                        "iteration": 217,
                        "learn": [
                          0.9762980169,
                          0.09767393193
                        ],
                        "passed_time": 11.27378359,
                        "remaining_time": 14.58351822,
                        "test": [
                          0.972,
                          0.1238457976
                        ]
                      },
                      {
                        "iteration": 218,
                        "learn": [
                          0.9762980169,
                          0.0975956902
                        ],
                        "passed_time": 11.32453796,
                        "remaining_time": 14.53057154,
                        "test": [
                          0.972,
                          0.1238295674
                        ]
                      },
                      {
                        "iteration": 219,
                        "learn": [
                          0.9762550006,
                          0.09755215529
                        ],
                        "passed_time": 11.3796152,
                        "remaining_time": 14.48314661,
                        "test": [
                          0.972,
                          0.1238275633
                        ]
                      },
                      {
                        "iteration": 220,
                        "learn": [
                          0.9762980169,
                          0.09745902642
                        ],
                        "passed_time": 11.43358968,
                        "remaining_time": 14.43426028,
                        "test": [
                          0.972,
                          0.1238686617
                        ]
                      },
                      {
                        "iteration": 221,
                        "learn": [
                          0.9762980169,
                          0.09734302712
                        ],
                        "passed_time": 11.48629763,
                        "remaining_time": 14.38374208,
                        "test": [
                          0.972,
                          0.1237846706
                        ]
                      },
                      {
                        "iteration": 222,
                        "learn": [
                          0.9762980169,
                          0.09727013951
                        ],
                        "passed_time": 11.538476,
                        "remaining_time": 14.33254642,
                        "test": [
                          0.972,
                          0.1237710993
                        ]
                      },
                      {
                        "iteration": 223,
                        "learn": [
                          0.9762980169,
                          0.09722123702
                        ],
                        "passed_time": 11.58683205,
                        "remaining_time": 14.27663234,
                        "test": [
                          0.972,
                          0.1237639866
                        ]
                      },
                      {
                        "iteration": 224,
                        "learn": [
                          0.9762980169,
                          0.0971584163
                        ],
                        "passed_time": 11.63564301,
                        "remaining_time": 14.22134146,
                        "test": [
                          0.972,
                          0.1238098902
                        ]
                      },
                      {
                        "iteration": 225,
                        "learn": [
                          0.9762980169,
                          0.09705442043
                        ],
                        "passed_time": 11.69264861,
                        "remaining_time": 14.176043,
                        "test": [
                          0.972,
                          0.1238276587
                        ]
                      },
                      {
                        "iteration": 226,
                        "learn": [
                          0.9762980169,
                          0.09690687744
                        ],
                        "passed_time": 11.75187566,
                        "remaining_time": 14.13331302,
                        "test": [
                          0.972,
                          0.1238993757
                        ]
                      },
                      {
                        "iteration": 227,
                        "learn": [
                          0.9762980169,
                          0.09687151362
                        ],
                        "passed_time": 11.79962014,
                        "remaining_time": 14.07673982,
                        "test": [
                          0.972,
                          0.1238941323
                        ]
                      },
                      {
                        "iteration": 228,
                        "learn": [
                          0.9762980169,
                          0.09680392192
                        ],
                        "passed_time": 11.84838489,
                        "remaining_time": 14.02145111,
                        "test": [
                          0.972,
                          0.1238734173
                        ]
                      },
                      {
                        "iteration": 229,
                        "learn": [
                          0.9763410333,
                          0.09672817313
                        ],
                        "passed_time": 11.90601882,
                        "remaining_time": 13.97663079,
                        "test": [
                          0.9718709677,
                          0.1238783101
                        ]
                      },
                      {
                        "iteration": 230,
                        "learn": [
                          0.9763410333,
                          0.09666449252
                        ],
                        "passed_time": 11.95384897,
                        "remaining_time": 13.920283,
                        "test": [
                          0.972,
                          0.1238928766
                        ]
                      },
                      {
                        "iteration": 231,
                        "learn": [
                          0.9763410333,
                          0.09659957664
                        ],
                        "passed_time": 12.02754575,
                        "remaining_time": 13.89388905,
                        "test": [
                          0.972,
                          0.1239077503
                        ]
                      },
                      {
                        "iteration": 232,
                        "learn": [
                          0.9763410333,
                          0.09654079095
                        ],
                        "passed_time": 12.07724085,
                        "remaining_time": 13.83958501,
                        "test": [
                          0.972,
                          0.1239161331
                        ]
                      },
                      {
                        "iteration": 233,
                        "learn": [
                          0.9763840496,
                          0.09640450022
                        ],
                        "passed_time": 12.12437188,
                        "remaining_time": 13.78240564,
                        "test": [
                          0.9717419355,
                          0.1239916809
                        ]
                      },
                      {
                        "iteration": 234,
                        "learn": [
                          0.9763840496,
                          0.09633239916
                        ],
                        "passed_time": 12.17621977,
                        "remaining_time": 13.7306308,
                        "test": [
                          0.9717419355,
                          0.1240155165
                        ]
                      },
                      {
                        "iteration": 235,
                        "learn": [
                          0.9763840496,
                          0.09627649257
                        ],
                        "passed_time": 12.22616175,
                        "remaining_time": 13.67672332,
                        "test": [
                          0.9717419355,
                          0.1240260203
                        ]
                      },
                      {
                        "iteration": 236,
                        "learn": [
                          0.9763840496,
                          0.09614084157
                        ],
                        "passed_time": 12.27386335,
                        "remaining_time": 13.62036313,
                        "test": [
                          0.9717419355,
                          0.1240610786
                        ]
                      },
                      {
                        "iteration": 237,
                        "learn": [
                          0.9764270659,
                          0.09609143536
                        ],
                        "passed_time": 12.32064086,
                        "remaining_time": 13.56305843,
                        "test": [
                          0.9717419355,
                          0.1240685283
                        ]
                      },
                      {
                        "iteration": 238,
                        "learn": [
                          0.9764270659,
                          0.0960408586
                        ],
                        "passed_time": 12.37048074,
                        "remaining_time": 13.50918608,
                        "test": [
                          0.9717419355,
                          0.1240744005
                        ]
                      },
                      {
                        "iteration": 239,
                        "learn": [
                          0.9763840496,
                          0.09597332881
                        ],
                        "passed_time": 12.42334638,
                        "remaining_time": 13.45862525,
                        "test": [
                          0.9717419355,
                          0.1240568111
                        ]
                      },
                      {
                        "iteration": 240,
                        "learn": [
                          0.9764270659,
                          0.09590383856
                        ],
                        "passed_time": 12.4691822,
                        "remaining_time": 13.40049042,
                        "test": [
                          0.9717419355,
                          0.1240644419
                        ]
                      },
                      {
                        "iteration": 241,
                        "learn": [
                          0.9764270659,
                          0.09585741666
                        ],
                        "passed_time": 12.51535123,
                        "remaining_time": 13.34281247,
                        "test": [
                          0.9718709677,
                          0.1240204164
                        ]
                      },
                      {
                        "iteration": 242,
                        "learn": [
                          0.9763840496,
                          0.09580924422
                        ],
                        "passed_time": 12.56070201,
                        "remaining_time": 13.28436386,
                        "test": [
                          0.9717419355,
                          0.1240032177
                        ]
                      },
                      {
                        "iteration": 243,
                        "learn": [
                          0.9763840496,
                          0.0957617967
                        ],
                        "passed_time": 12.6097709,
                        "remaining_time": 13.22992357,
                        "test": [
                          0.9717419355,
                          0.1240011443
                        ]
                      },
                      {
                        "iteration": 244,
                        "learn": [
                          0.9763840496,
                          0.09568142696
                        ],
                        "passed_time": 12.65658372,
                        "remaining_time": 13.17317898,
                        "test": [
                          0.9717419355,
                          0.1239968824
                        ]
                      },
                      {
                        "iteration": 245,
                        "learn": [
                          0.9764270659,
                          0.09560377226
                        ],
                        "passed_time": 12.70377863,
                        "remaining_time": 13.11690965,
                        "test": [
                          0.9717419355,
                          0.1240023835
                        ]
                      },
                      {
                        "iteration": 246,
                        "learn": [
                          0.9764700822,
                          0.09551526768
                        ],
                        "passed_time": 12.75063808,
                        "remaining_time": 13.06037018,
                        "test": [
                          0.9718709677,
                          0.1239910407
                        ]
                      },
                      {
                        "iteration": 247,
                        "learn": [
                          0.9764700822,
                          0.09544654947
                        ],
                        "passed_time": 12.799536,
                        "remaining_time": 13.00598013,
                        "test": [
                          0.972,
                          0.1240355616
                        ]
                      },
                      {
                        "iteration": 248,
                        "learn": [
                          0.9765130985,
                          0.09538618897
                        ],
                        "passed_time": 12.84840103,
                        "remaining_time": 12.95160104,
                        "test": [
                          0.972,
                          0.1240220829
                        ]
                      },
                      {
                        "iteration": 249,
                        "learn": [
                          0.9765130985,
                          0.09532761347
                        ],
                        "passed_time": 12.91229554,
                        "remaining_time": 12.91229554,
                        "test": [
                          0.9718709677,
                          0.1240335538
                        ]
                      },
                      {
                        "iteration": 250,
                        "learn": [
                          0.9765130985,
                          0.09526553869
                        ],
                        "passed_time": 12.95960373,
                        "remaining_time": 12.85633995,
                        "test": [
                          0.9718709677,
                          0.1240202306
                        ]
                      },
                      {
                        "iteration": 251,
                        "learn": [
                          0.9766421474,
                          0.09523099076
                        ],
                        "passed_time": 13.02079784,
                        "remaining_time": 12.81411851,
                        "test": [
                          0.972,
                          0.1240103137
                        ]
                      },
                      {
                        "iteration": 252,
                        "learn": [
                          0.9766851637,
                          0.09513695882
                        ],
                        "passed_time": 13.08344513,
                        "remaining_time": 12.7731658,
                        "test": [
                          0.9718709677,
                          0.1240235111
                        ]
                      },
                      {
                        "iteration": 253,
                        "learn": [
                          0.9766851637,
                          0.09507404613
                        ],
                        "passed_time": 13.13058917,
                        "remaining_time": 12.71702731,
                        "test": [
                          0.972,
                          0.1240326612
                        ]
                      },
                      {
                        "iteration": 254,
                        "learn": [
                          0.9766851637,
                          0.09500554676
                        ],
                        "passed_time": 13.1777666,
                        "remaining_time": 12.66099144,
                        "test": [
                          0.972,
                          0.1240014023
                        ]
                      },
                      {
                        "iteration": 255,
                        "learn": [
                          0.9766851637,
                          0.09494837853
                        ],
                        "passed_time": 13.2235284,
                        "remaining_time": 12.60367551,
                        "test": [
                          0.972,
                          0.1239916935
                        ]
                      },
                      {
                        "iteration": 256,
                        "learn": [
                          0.9766851637,
                          0.09491664365
                        ],
                        "passed_time": 13.26993882,
                        "remaining_time": 12.54706278,
                        "test": [
                          0.9718709677,
                          0.1239849189
                        ]
                      },
                      {
                        "iteration": 257,
                        "learn": [
                          0.9766851637,
                          0.09487929455
                        ],
                        "passed_time": 13.31833983,
                        "remaining_time": 12.49239627,
                        "test": [
                          0.9718709677,
                          0.1239738802
                        ]
                      },
                      {
                        "iteration": 258,
                        "learn": [
                          0.9766851637,
                          0.09482725633
                        ],
                        "passed_time": 13.37098123,
                        "remaining_time": 12.44172385,
                        "test": [
                          0.9718709677,
                          0.1240026158
                        ]
                      },
                      {
                        "iteration": 259,
                        "learn": [
                          0.9766421474,
                          0.09474929865
                        ],
                        "passed_time": 13.41684974,
                        "remaining_time": 12.38478437,
                        "test": [
                          0.9718709677,
                          0.1240196559
                        ]
                      },
                      {
                        "iteration": 260,
                        "learn": [
                          0.9766421474,
                          0.09463000378
                        ],
                        "passed_time": 13.46960038,
                        "remaining_time": 12.33423176,
                        "test": [
                          0.9718709677,
                          0.1240255631
                        ]
                      },
                      {
                        "iteration": 261,
                        "learn": [
                          0.9766421474,
                          0.09455489227
                        ],
                        "passed_time": 13.51555494,
                        "remaining_time": 12.27748884,
                        "test": [
                          0.9718709677,
                          0.1240490126
                        ]
                      },
                      {
                        "iteration": 262,
                        "learn": [
                          0.9766421474,
                          0.09448898616
                        ],
                        "passed_time": 13.56386096,
                        "remaining_time": 12.22294695,
                        "test": [
                          0.9717419355,
                          0.1240683638
                        ]
                      },
                      {
                        "iteration": 263,
                        "learn": [
                          0.9766421474,
                          0.09438185426
                        ],
                        "passed_time": 13.61439996,
                        "remaining_time": 12.17044845,
                        "test": [
                          0.9717419355,
                          0.1240835201
                        ]
                      },
                      {
                        "iteration": 264,
                        "learn": [
                          0.9766851637,
                          0.09432774458
                        ],
                        "passed_time": 13.66299831,
                        "remaining_time": 12.11624378,
                        "test": [
                          0.9718709677,
                          0.1241200266
                        ]
                      },
                      {
                        "iteration": 265,
                        "learn": [
                          0.9766851637,
                          0.09426190364
                        ],
                        "passed_time": 13.71002757,
                        "remaining_time": 12.06070095,
                        "test": [
                          0.9718709677,
                          0.1241228813
                        ]
                      },
                      {
                        "iteration": 266,
                        "learn": [
                          0.97672818,
                          0.09418531476
                        ],
                        "passed_time": 13.7597991,
                        "remaining_time": 12.00761495,
                        "test": [
                          0.9718709677,
                          0.124117992
                        ]
                      },
                      {
                        "iteration": 267,
                        "learn": [
                          0.9767711963,
                          0.09407738765
                        ],
                        "passed_time": 13.81008142,
                        "remaining_time": 11.95499585,
                        "test": [
                          0.9718709677,
                          0.1241095649
                        ]
                      },
                      {
                        "iteration": 268,
                        "learn": [
                          0.97672818,
                          0.09399096151
                        ],
                        "passed_time": 13.85585812,
                        "remaining_time": 11.89852501,
                        "test": [
                          0.9717419355,
                          0.124142644
                        ]
                      },
                      {
                        "iteration": 269,
                        "learn": [
                          0.9768142126,
                          0.09395110301
                        ],
                        "passed_time": 13.91355743,
                        "remaining_time": 11.85228966,
                        "test": [
                          0.9718709677,
                          0.124166133
                        ]
                      },
                      {
                        "iteration": 270,
                        "learn": [
                          0.9767711963,
                          0.09389928561
                        ],
                        "passed_time": 13.96059447,
                        "remaining_time": 11.7969599,
                        "test": [
                          0.9718709677,
                          0.1241336696
                        ]
                      },
                      {
                        "iteration": 271,
                        "learn": [
                          0.9768142126,
                          0.09379826886
                        ],
                        "passed_time": 14.01106548,
                        "remaining_time": 11.74456959,
                        "test": [
                          0.9717419355,
                          0.1241639506
                        ]
                      },
                      {
                        "iteration": 272,
                        "learn": [
                          0.9767711963,
                          0.09366410666
                        ],
                        "passed_time": 14.09326196,
                        "remaining_time": 11.71857313,
                        "test": [
                          0.9717419355,
                          0.1241740217
                        ]
                      },
                      {
                        "iteration": 273,
                        "learn": [
                          0.97672818,
                          0.09362295438
                        ],
                        "passed_time": 14.14318992,
                        "remaining_time": 11.66555081,
                        "test": [
                          0.9717419355,
                          0.1241790763
                        ]
                      },
                      {
                        "iteration": 274,
                        "learn": [
                          0.97672818,
                          0.09339938565
                        ],
                        "passed_time": 14.19816938,
                        "remaining_time": 11.61668404,
                        "test": [
                          0.972,
                          0.1241456581
                        ]
                      },
                      {
                        "iteration": 275,
                        "learn": [
                          0.97672818,
                          0.09332540421
                        ],
                        "passed_time": 14.2485307,
                        "remaining_time": 11.56402492,
                        "test": [
                          0.972,
                          0.1241577282
                        ]
                      },
                      {
                        "iteration": 276,
                        "learn": [
                          0.9766851637,
                          0.09319809665
                        ],
                        "passed_time": 14.29914606,
                        "remaining_time": 11.5115869,
                        "test": [
                          0.9718709677,
                          0.1241328466
                        ]
                      },
                      {
                        "iteration": 277,
                        "learn": [
                          0.9766851637,
                          0.09312449209
                        ],
                        "passed_time": 14.34739519,
                        "remaining_time": 11.45727242,
                        "test": [
                          0.9718709677,
                          0.124099763
                        ]
                      },
                      {
                        "iteration": 278,
                        "learn": [
                          0.9766851637,
                          0.09302822909
                        ],
                        "passed_time": 14.40340773,
                        "remaining_time": 11.40915092,
                        "test": [
                          0.972,
                          0.1240773166
                        ]
                      },
                      {
                        "iteration": 279,
                        "learn": [
                          0.9766851637,
                          0.09296515478
                        ],
                        "passed_time": 14.45014921,
                        "remaining_time": 11.35368866,
                        "test": [
                          0.972,
                          0.1240651166
                        ]
                      },
                      {
                        "iteration": 280,
                        "learn": [
                          0.9767711963,
                          0.09286688565
                        ],
                        "passed_time": 14.49888015,
                        "remaining_time": 11.29983898,
                        "test": [
                          0.9717419355,
                          0.1240677291
                        ]
                      },
                      {
                        "iteration": 281,
                        "learn": [
                          0.9768572289,
                          0.09282974937
                        ],
                        "passed_time": 14.54523221,
                        "remaining_time": 11.2441866,
                        "test": [
                          0.9717419355,
                          0.1240662248
                        ]
                      },
                      {
                        "iteration": 282,
                        "learn": [
                          0.9768142126,
                          0.09271355842
                        ],
                        "passed_time": 14.59296759,
                        "remaining_time": 11.18966066,
                        "test": [
                          0.9718709677,
                          0.1240638284
                        ]
                      },
                      {
                        "iteration": 283,
                        "learn": [
                          0.9768572289,
                          0.09265409252
                        ],
                        "passed_time": 14.63858313,
                        "remaining_time": 11.13357027,
                        "test": [
                          0.9716129032,
                          0.1240889024
                        ]
                      },
                      {
                        "iteration": 284,
                        "learn": [
                          0.9769432615,
                          0.09257945812
                        ],
                        "passed_time": 14.6855705,
                        "remaining_time": 11.07858828,
                        "test": [
                          0.9716129032,
                          0.1240773225
                        ]
                      },
                      {
                        "iteration": 285,
                        "learn": [
                          0.9769432615,
                          0.09249943537
                        ],
                        "passed_time": 14.73501641,
                        "remaining_time": 11.02550179,
                        "test": [
                          0.9716129032,
                          0.1240795547
                        ]
                      },
                      {
                        "iteration": 286,
                        "learn": [
                          0.9769432615,
                          0.09241426086
                        ],
                        "passed_time": 14.78295711,
                        "remaining_time": 10.97132357,
                        "test": [
                          0.9716129032,
                          0.1241012395
                        ]
                      },
                      {
                        "iteration": 287,
                        "learn": [
                          0.9769432615,
                          0.09234876518
                        ],
                        "passed_time": 14.82996695,
                        "remaining_time": 10.91650345,
                        "test": [
                          0.9716129032,
                          0.1240705619
                        ]
                      },
                      {
                        "iteration": 288,
                        "learn": [
                          0.9769862778,
                          0.09230308213
                        ],
                        "passed_time": 14.87715598,
                        "remaining_time": 10.86186821,
                        "test": [
                          0.971483871,
                          0.1240155921
                        ]
                      },
                      {
                        "iteration": 289,
                        "learn": [
                          0.9769862778,
                          0.09223080036
                        ],
                        "passed_time": 14.9345784,
                        "remaining_time": 10.81469471,
                        "test": [
                          0.9716129032,
                          0.1240093994
                        ]
                      },
                      {
                        "iteration": 290,
                        "learn": [
                          0.9770723104,
                          0.0921593973
                        ],
                        "passed_time": 14.9814108,
                        "remaining_time": 10.75984487,
                        "test": [
                          0.9716129032,
                          0.1240324286
                        ]
                      },
                      {
                        "iteration": 291,
                        "learn": [
                          0.9771153267,
                          0.0921118746
                        ],
                        "passed_time": 15.02959891,
                        "remaining_time": 10.70601566,
                        "test": [
                          0.9716129032,
                          0.1240439376
                        ]
                      },
                      {
                        "iteration": 292,
                        "learn": [
                          0.9770723104,
                          0.09205508756
                        ],
                        "passed_time": 15.11086231,
                        "remaining_time": 10.67559214,
                        "test": [
                          0.9717419355,
                          0.1240589719
                        ]
                      },
                      {
                        "iteration": 293,
                        "learn": [
                          0.9770723104,
                          0.0919802326
                        ],
                        "passed_time": 15.15967442,
                        "remaining_time": 10.6220848,
                        "test": [
                          0.9717419355,
                          0.1240176607
                        ]
                      },
                      {
                        "iteration": 294,
                        "learn": [
                          0.9770723104,
                          0.09187760551
                        ],
                        "passed_time": 15.21010799,
                        "remaining_time": 10.56973606,
                        "test": [
                          0.9717419355,
                          0.1239950111
                        ]
                      },
                      {
                        "iteration": 295,
                        "learn": [
                          0.977158343,
                          0.0918012923
                        ],
                        "passed_time": 15.2573235,
                        "remaining_time": 10.51518241,
                        "test": [
                          0.9717419355,
                          0.1240194931
                        ]
                      },
                      {
                        "iteration": 296,
                        "learn": [
                          0.977158343,
                          0.09171950925
                        ],
                        "passed_time": 15.30530482,
                        "remaining_time": 10.46120161,
                        "test": [
                          0.9717419355,
                          0.1240018337
                        ]
                      },
                      {
                        "iteration": 297,
                        "learn": [
                          0.9771153267,
                          0.09167188928
                        ],
                        "passed_time": 15.35134331,
                        "remaining_time": 10.40594412,
                        "test": [
                          0.9717419355,
                          0.1239947199
                        ]
                      },
                      {
                        "iteration": 298,
                        "learn": [
                          0.977158343,
                          0.09160946609
                        ],
                        "passed_time": 15.40353322,
                        "remaining_time": 10.35488354,
                        "test": [
                          0.9717419355,
                          0.1239371553
                        ]
                      },
                      {
                        "iteration": 299,
                        "learn": [
                          0.977158343,
                          0.0915228364
                        ],
                        "passed_time": 15.45930706,
                        "remaining_time": 10.30620471,
                        "test": [
                          0.9717419355,
                          0.1239349819
                        ]
                      },
                      {
                        "iteration": 300,
                        "learn": [
                          0.9772873919,
                          0.0914644546
                        ],
                        "passed_time": 15.50710879,
                        "remaining_time": 10.25220814,
                        "test": [
                          0.9717419355,
                          0.1239215772
                        ]
                      },
                      {
                        "iteration": 301,
                        "learn": [
                          0.9772443756,
                          0.09139769529
                        ],
                        "passed_time": 15.55602719,
                        "remaining_time": 10.19898471,
                        "test": [
                          0.9717419355,
                          0.1239128946
                        ]
                      },
                      {
                        "iteration": 302,
                        "learn": [
                          0.9772013593,
                          0.09132958718
                        ],
                        "passed_time": 15.6039418,
                        "remaining_time": 10.14513708,
                        "test": [
                          0.9717419355,
                          0.123918604
                        ]
                      },
                      {
                        "iteration": 303,
                        "learn": [
                          0.9772873919,
                          0.09128939917
                        ],
                        "passed_time": 15.65230191,
                        "remaining_time": 10.09161571,
                        "test": [
                          0.9718709677,
                          0.123947355
                        ]
                      },
                      {
                        "iteration": 304,
                        "learn": [
                          0.9773304082,
                          0.09121099193
                        ],
                        "passed_time": 15.69943893,
                        "remaining_time": 10.0373462,
                        "test": [
                          0.9718709677,
                          0.1239417159
                        ]
                      },
                      {
                        "iteration": 305,
                        "learn": [
                          0.9773734245,
                          0.09113513444
                        ],
                        "passed_time": 15.74568705,
                        "remaining_time": 9.982559761,
                        "test": [
                          0.972,
                          0.1239217729
                        ]
                      },
                      {
                        "iteration": 306,
                        "learn": [
                          0.9773734245,
                          0.09106192927
                        ],
                        "passed_time": 15.79231019,
                        "remaining_time": 9.92806471,
                        "test": [
                          0.9718709677,
                          0.1239269768
                        ]
                      },
                      {
                        "iteration": 307,
                        "learn": [
                          0.9774164408,
                          0.09100659305
                        ],
                        "passed_time": 15.84019336,
                        "remaining_time": 9.874406253,
                        "test": [
                          0.9717419355,
                          0.1239167671
                        ]
                      },
                      {
                        "iteration": 308,
                        "learn": [
                          0.9775454897,
                          0.09087342919
                        ],
                        "passed_time": 15.89035655,
                        "remaining_time": 9.8221945,
                        "test": [
                          0.9717419355,
                          0.1238951107
                        ]
                      },
                      {
                        "iteration": 309,
                        "learn": [
                          0.9775024734,
                          0.09081457559
                        ],
                        "passed_time": 15.94805998,
                        "remaining_time": 9.774617409,
                        "test": [
                          0.9717419355,
                          0.1238906879
                        ]
                      },
                      {
                        "iteration": 310,
                        "learn": [
                          0.977588506,
                          0.09076294077
                        ],
                        "passed_time": 15.99632658,
                        "remaining_time": 9.721240271,
                        "test": [
                          0.9718709677,
                          0.1238517038
                        ]
                      },
                      {
                        "iteration": 311,
                        "learn": [
                          0.9775024734,
                          0.09067864385
                        ],
                        "passed_time": 16.04370105,
                        "remaining_time": 9.667358324,
                        "test": [
                          0.9718709677,
                          0.1238878516
                        ]
                      },
                      {
                        "iteration": 312,
                        "learn": [
                          0.9775454897,
                          0.09060750251
                        ],
                        "passed_time": 16.12276964,
                        "remaining_time": 9.632453427,
                        "test": [
                          0.9718709677,
                          0.1239332909
                        ]
                      },
                      {
                        "iteration": 313,
                        "learn": [
                          0.9775024734,
                          0.09046671641
                        ],
                        "passed_time": 16.17377401,
                        "remaining_time": 9.580643204,
                        "test": [
                          0.9718709677,
                          0.1239547036
                        ]
                      },
                      {
                        "iteration": 314,
                        "learn": [
                          0.9775024734,
                          0.09036304979
                        ],
                        "passed_time": 16.22329663,
                        "remaining_time": 9.527967863,
                        "test": [
                          0.9718709677,
                          0.1239758323
                        ]
                      },
                      {
                        "iteration": 315,
                        "learn": [
                          0.9775024734,
                          0.09031033173
                        ],
                        "passed_time": 16.27317966,
                        "remaining_time": 9.475522336,
                        "test": [
                          0.9718709677,
                          0.1239687489
                        ]
                      },
                      {
                        "iteration": 316,
                        "learn": [
                          0.9775024734,
                          0.090256226
                        ],
                        "passed_time": 16.31910868,
                        "remaining_time": 9.420810375,
                        "test": [
                          0.9718709677,
                          0.1239788657
                        ]
                      },
                      {
                        "iteration": 317,
                        "learn": [
                          0.9775024734,
                          0.09022312416
                        ],
                        "passed_time": 16.36679276,
                        "remaining_time": 9.367158123,
                        "test": [
                          0.9718709677,
                          0.1239861866
                        ]
                      },
                      {
                        "iteration": 318,
                        "learn": [
                          0.9775454897,
                          0.09017189021
                        ],
                        "passed_time": 16.41568925,
                        "remaining_time": 9.314231203,
                        "test": [
                          0.9718709677,
                          0.1240010261
                        ]
                      },
                      {
                        "iteration": 319,
                        "learn": [
                          0.977588506,
                          0.09010286681
                        ],
                        "passed_time": 16.46708692,
                        "remaining_time": 9.262736393,
                        "test": [
                          0.9718709677,
                          0.1239822353
                        ]
                      },
                      {
                        "iteration": 320,
                        "learn": [
                          0.9776315223,
                          0.09005566222
                        ],
                        "passed_time": 16.51610355,
                        "remaining_time": 9.209914438,
                        "test": [
                          0.9718709677,
                          0.1239584444
                        ]
                      },
                      {
                        "iteration": 321,
                        "learn": [
                          0.9776315223,
                          0.09003186399
                        ],
                        "passed_time": 16.56153418,
                        "remaining_time": 9.155133802,
                        "test": [
                          0.9718709677,
                          0.1239728997
                        ]
                      },
                      {
                        "iteration": 322,
                        "learn": [
                          0.9775454897,
                          0.08998455506
                        ],
                        "passed_time": 16.60989206,
                        "remaining_time": 9.102015154,
                        "test": [
                          0.9718709677,
                          0.123967456
                        ]
                      },
                      {
                        "iteration": 323,
                        "learn": [
                          0.9775454897,
                          0.08995522526
                        ],
                        "passed_time": 16.65596457,
                        "remaining_time": 9.047684456,
                        "test": [
                          0.9718709677,
                          0.1239512882
                        ]
                      },
                      {
                        "iteration": 324,
                        "learn": [
                          0.977588506,
                          0.08986831514
                        ],
                        "passed_time": 16.70394026,
                        "remaining_time": 8.994429373,
                        "test": [
                          0.9718709677,
                          0.1239180879
                        ]
                      },
                      {
                        "iteration": 325,
                        "learn": [
                          0.977588506,
                          0.08982525779
                        ],
                        "passed_time": 16.75069108,
                        "remaining_time": 8.940552906,
                        "test": [
                          0.9718709677,
                          0.1239018903
                        ]
                      },
                      {
                        "iteration": 326,
                        "learn": [
                          0.977588506,
                          0.08973830727
                        ],
                        "passed_time": 16.79944409,
                        "remaining_time": 8.887779291,
                        "test": [
                          0.9718709677,
                          0.123951234
                        ]
                      },
                      {
                        "iteration": 327,
                        "learn": [
                          0.977588506,
                          0.08967368648
                        ],
                        "passed_time": 16.85432805,
                        "remaining_time": 8.838245197,
                        "test": [
                          0.9718709677,
                          0.1239522757
                        ]
                      },
                      {
                        "iteration": 328,
                        "learn": [
                          0.9776315223,
                          0.08959900492
                        ],
                        "passed_time": 16.90393764,
                        "remaining_time": 8.785937195,
                        "test": [
                          0.972,
                          0.1239394839
                        ]
                      },
                      {
                        "iteration": 329,
                        "learn": [
                          0.9776315223,
                          0.08954440161
                        ],
                        "passed_time": 16.96539478,
                        "remaining_time": 8.739748828,
                        "test": [
                          0.9718709677,
                          0.1239364909
                        ]
                      },
                      {
                        "iteration": 330,
                        "learn": [
                          0.9776315223,
                          0.08949057433
                        ],
                        "passed_time": 17.01939678,
                        "remaining_time": 8.6896618,
                        "test": [
                          0.972,
                          0.1239356088
                        ]
                      },
                      {
                        "iteration": 331,
                        "learn": [
                          0.9776745387,
                          0.08945604436
                        ],
                        "passed_time": 17.0690322,
                        "remaining_time": 8.637341593,
                        "test": [
                          0.972,
                          0.123951967
                        ]
                      },
                      {
                        "iteration": 332,
                        "learn": [
                          0.9776315223,
                          0.08938334704
                        ],
                        "passed_time": 17.15922186,
                        "remaining_time": 8.60537553,
                        "test": [
                          0.972,
                          0.1239352986
                        ]
                      },
                      {
                        "iteration": 333,
                        "learn": [
                          0.9776315223,
                          0.08931637931
                        ],
                        "passed_time": 17.21395331,
                        "remaining_time": 8.555437873,
                        "test": [
                          0.972,
                          0.1239010594
                        ]
                      },
                      {
                        "iteration": 334,
                        "learn": [
                          0.9776315223,
                          0.08927634052
                        ],
                        "passed_time": 17.26204069,
                        "remaining_time": 8.502199146,
                        "test": [
                          0.972,
                          0.1238987418
                        ]
                      },
                      {
                        "iteration": 335,
                        "learn": [
                          0.977588506,
                          0.08920673367
                        ],
                        "passed_time": 17.31093718,
                        "remaining_time": 8.449386005,
                        "test": [
                          0.972,
                          0.1238917186
                        ]
                      },
                      {
                        "iteration": 336,
                        "learn": [
                          0.9776745387,
                          0.08914442156
                        ],
                        "passed_time": 17.3718861,
                        "remaining_time": 8.40242562,
                        "test": [
                          0.972,
                          0.1239027598
                        ]
                      },
                      {
                        "iteration": 337,
                        "learn": [
                          0.9776315223,
                          0.08908899499
                        ],
                        "passed_time": 17.42372858,
                        "remaining_time": 8.351017842,
                        "test": [
                          0.9718709677,
                          0.123928927
                        ]
                      },
                      {
                        "iteration": 338,
                        "learn": [
                          0.9776315223,
                          0.08897185054
                        ],
                        "passed_time": 17.48011395,
                        "remaining_time": 8.30176503,
                        "test": [
                          0.9721290323,
                          0.1238998378
                        ]
                      },
                      {
                        "iteration": 339,
                        "learn": [
                          0.9776315223,
                          0.08893762962
                        ],
                        "passed_time": 17.52929105,
                        "remaining_time": 8.249078141,
                        "test": [
                          0.972,
                          0.1239115299
                        ]
                      },
                      {
                        "iteration": 340,
                        "learn": [
                          0.9776315223,
                          0.08887660782
                        ],
                        "passed_time": 17.57906879,
                        "remaining_time": 8.196691898,
                        "test": [
                          0.9718709677,
                          0.123953217
                        ]
                      },
                      {
                        "iteration": 341,
                        "learn": [
                          0.9776745387,
                          0.08881732249
                        ],
                        "passed_time": 17.63106816,
                        "remaining_time": 8.145347276,
                        "test": [
                          0.9718709677,
                          0.1239764146
                        ]
                      },
                      {
                        "iteration": 342,
                        "learn": [
                          0.9776745387,
                          0.08878450464
                        ],
                        "passed_time": 17.68346889,
                        "remaining_time": 8.094182551,
                        "test": [
                          0.9718709677,
                          0.123965696
                        ]
                      },
                      {
                        "iteration": 343,
                        "learn": [
                          0.9776745387,
                          0.08872493968
                        ],
                        "passed_time": 17.7351351,
                        "remaining_time": 8.042677546,
                        "test": [
                          0.9718709677,
                          0.1240075437
                        ]
                      },
                      {
                        "iteration": 344,
                        "learn": [
                          0.977717555,
                          0.08866866231
                        ],
                        "passed_time": 17.78551729,
                        "remaining_time": 7.990594723,
                        "test": [
                          0.972,
                          0.1239881653
                        ]
                      },
                      {
                        "iteration": 345,
                        "learn": [
                          0.977717555,
                          0.08859120054
                        ],
                        "passed_time": 17.83539147,
                        "remaining_time": 7.938295626,
                        "test": [
                          0.9718709677,
                          0.124005092
                        ]
                      },
                      {
                        "iteration": 346,
                        "learn": [
                          0.977717555,
                          0.08855961337
                        ],
                        "passed_time": 17.88687277,
                        "remaining_time": 7.886719117,
                        "test": [
                          0.9718709677,
                          0.1239900953
                        ]
                      },
                      {
                        "iteration": 347,
                        "learn": [
                          0.9777605713,
                          0.08851960991
                        ],
                        "passed_time": 17.93706383,
                        "remaining_time": 7.834579602,
                        "test": [
                          0.9717419355,
                          0.1240147924
                        ]
                      },
                      {
                        "iteration": 348,
                        "learn": [
                          0.9777605713,
                          0.08843107658
                        ],
                        "passed_time": 18.00758634,
                        "remaining_time": 7.791247956,
                        "test": [
                          0.9717419355,
                          0.1240527167
                        ]
                      },
                      {
                        "iteration": 349,
                        "learn": [
                          0.9777605713,
                          0.08840742326
                        ],
                        "passed_time": 18.05771708,
                        "remaining_time": 7.739021606,
                        "test": [
                          0.9717419355,
                          0.1240598595
                        ]
                      },
                      {
                        "iteration": 350,
                        "learn": [
                          0.9777605713,
                          0.08836483047
                        ],
                        "passed_time": 18.11130732,
                        "remaining_time": 7.688275755,
                        "test": [
                          0.9717419355,
                          0.1240674827
                        ]
                      },
                      {
                        "iteration": 351,
                        "learn": [
                          0.9778035876,
                          0.08830731075
                        ],
                        "passed_time": 18.1990936,
                        "remaining_time": 7.651891627,
                        "test": [
                          0.9717419355,
                          0.1240705265
                        ]
                      },
                      {
                        "iteration": 352,
                        "learn": [
                          0.9777605713,
                          0.08824796525
                        ],
                        "passed_time": 18.24919949,
                        "remaining_time": 7.599524999,
                        "test": [
                          0.9717419355,
                          0.1240895436
                        ]
                      },
                      {
                        "iteration": 353,
                        "learn": [
                          0.977717555,
                          0.08814357265
                        ],
                        "passed_time": 18.30355081,
                        "remaining_time": 7.548922087,
                        "test": [
                          0.9717419355,
                          0.1241210433
                        ]
                      },
                      {
                        "iteration": 354,
                        "learn": [
                          0.977717555,
                          0.08808796183
                        ],
                        "passed_time": 18.35916077,
                        "remaining_time": 7.498812147,
                        "test": [
                          0.9717419355,
                          0.1241412251
                        ]
                      },
                      {
                        "iteration": 355,
                        "learn": [
                          0.9777605713,
                          0.08804473287
                        ],
                        "passed_time": 18.40891599,
                        "remaining_time": 7.446303097,
                        "test": [
                          0.9717419355,
                          0.1241910373
                        ]
                      },
                      {
                        "iteration": 356,
                        "learn": [
                          0.9777605713,
                          0.08799592079
                        ],
                        "passed_time": 18.45941381,
                        "remaining_time": 7.394106933,
                        "test": [
                          0.9717419355,
                          0.1241733027
                        ]
                      },
                      {
                        "iteration": 357,
                        "learn": [
                          0.9778896202,
                          0.08792664047
                        ],
                        "passed_time": 18.51280606,
                        "remaining_time": 7.343068327,
                        "test": [
                          0.9717419355,
                          0.1241747573
                        ]
                      },
                      {
                        "iteration": 358,
                        "learn": [
                          0.9778466039,
                          0.08786456149
                        ],
                        "passed_time": 18.56182441,
                        "remaining_time": 7.290298723,
                        "test": [
                          0.9717419355,
                          0.1241935612
                        ]
                      },
                      {
                        "iteration": 359,
                        "learn": [
                          0.9779326365,
                          0.08782324077
                        ],
                        "passed_time": 18.61175798,
                        "remaining_time": 7.237905879,
                        "test": [
                          0.9717419355,
                          0.1242076012
                        ]
                      },
                      {
                        "iteration": 360,
                        "learn": [
                          0.9779326365,
                          0.08776338899
                        ],
                        "passed_time": 18.66629997,
                        "remaining_time": 7.187301098,
                        "test": [
                          0.9717419355,
                          0.1242247017
                        ]
                      },
                      {
                        "iteration": 361,
                        "learn": [
                          0.9778466039,
                          0.08770622947
                        ],
                        "passed_time": 18.71472134,
                        "remaining_time": 7.134341283,
                        "test": [
                          0.9717419355,
                          0.1242383321
                        ]
                      },
                      {
                        "iteration": 362,
                        "learn": [
                          0.9779326365,
                          0.08764230502
                        ],
                        "passed_time": 18.76439387,
                        "remaining_time": 7.081878678,
                        "test": [
                          0.9717419355,
                          0.1242429035
                        ]
                      },
                      {
                        "iteration": 363,
                        "learn": [
                          0.9779326365,
                          0.08762161202
                        ],
                        "passed_time": 18.81311571,
                        "remaining_time": 7.029076201,
                        "test": [
                          0.9717419355,
                          0.124254836
                        ]
                      },
                      {
                        "iteration": 364,
                        "learn": [
                          0.9778896202,
                          0.08757098091
                        ],
                        "passed_time": 18.86405546,
                        "remaining_time": 6.977116401,
                        "test": [
                          0.9717419355,
                          0.1242602079
                        ]
                      },
                      {
                        "iteration": 365,
                        "learn": [
                          0.9778896202,
                          0.08752875926
                        ],
                        "passed_time": 18.91495597,
                        "remaining_time": 6.925147814,
                        "test": [
                          0.9717419355,
                          0.1242449574
                        ]
                      },
                      {
                        "iteration": 366,
                        "learn": [
                          0.9778466039,
                          0.08749088725
                        ],
                        "passed_time": 18.96641561,
                        "remaining_time": 6.873387672,
                        "test": [
                          0.9717419355,
                          0.1242418532
                        ]
                      },
                      {
                        "iteration": 367,
                        "learn": [
                          0.9778466039,
                          0.08743416045
                        ],
                        "passed_time": 19.02856216,
                        "remaining_time": 6.825462513,
                        "test": [
                          0.9717419355,
                          0.1242077918
                        ]
                      },
                      {
                        "iteration": 368,
                        "learn": [
                          0.9780186691,
                          0.08738849112
                        ],
                        "passed_time": 19.07827629,
                        "remaining_time": 6.773046597,
                        "test": [
                          0.9717419355,
                          0.1242294447
                        ]
                      },
                      {
                        "iteration": 369,
                        "learn": [
                          0.9780616854,
                          0.08729741457
                        ],
                        "passed_time": 19.13275017,
                        "remaining_time": 6.722317628,
                        "test": [
                          0.9717419355,
                          0.1242026006
                        ]
                      },
                      {
                        "iteration": 370,
                        "learn": [
                          0.9780616854,
                          0.08721717428
                        ],
                        "passed_time": 19.22074025,
                        "remaining_time": 6.683222351,
                        "test": [
                          0.9717419355,
                          0.124181249
                        ]
                      },
                      {
                        "iteration": 371,
                        "learn": [
                          0.9781047017,
                          0.0871661994
                        ],
                        "passed_time": 19.26975331,
                        "remaining_time": 6.630452751,
                        "test": [
                          0.9717419355,
                          0.124189078
                        ]
                      },
                      {
                        "iteration": 372,
                        "learn": [
                          0.9781047017,
                          0.08707273676
                        ],
                        "passed_time": 19.31943229,
                        "remaining_time": 6.57793003,
                        "test": [
                          0.9717419355,
                          0.1241809335
                        ]
                      },
                      {
                        "iteration": 373,
                        "learn": [
                          0.9781047017,
                          0.08703660314
                        ],
                        "passed_time": 19.36946217,
                        "remaining_time": 6.52554073,
                        "test": [
                          0.9717419355,
                          0.1241757621
                        ]
                      },
                      {
                        "iteration": 374,
                        "learn": [
                          0.9781047017,
                          0.08698058753
                        ],
                        "passed_time": 19.42027043,
                        "remaining_time": 6.473423477,
                        "test": [
                          0.9717419355,
                          0.1241967896
                        ]
                      },
                      {
                        "iteration": 375,
                        "learn": [
                          0.9780616854,
                          0.08693828091
                        ],
                        "passed_time": 19.46903217,
                        "remaining_time": 6.420638269,
                        "test": [
                          0.9717419355,
                          0.1241924314
                        ]
                      },
                      {
                        "iteration": 376,
                        "learn": [
                          0.978147718,
                          0.08687991586
                        ],
                        "passed_time": 19.52807845,
                        "remaining_time": 6.37122984,
                        "test": [
                          0.9717419355,
                          0.1242111509
                        ]
                      },
                      {
                        "iteration": 377,
                        "learn": [
                          0.9781907343,
                          0.08684073053
                        ],
                        "passed_time": 19.57964189,
                        "remaining_time": 6.319355319,
                        "test": [
                          0.9717419355,
                          0.1241970882
                        ]
                      },
                      {
                        "iteration": 378,
                        "learn": [
                          0.978147718,
                          0.08671643462
                        ],
                        "passed_time": 19.63208196,
                        "remaining_time": 6.267762315,
                        "test": [
                          0.9717419355,
                          0.1241725214
                        ]
                      },
                      {
                        "iteration": 379,
                        "learn": [
                          0.978147718,
                          0.08667226531
                        ],
                        "passed_time": 19.6813364,
                        "remaining_time": 6.215158864,
                        "test": [
                          0.9717419355,
                          0.1241776975
                        ]
                      },
                      {
                        "iteration": 380,
                        "learn": [
                          0.9781047017,
                          0.08661040641
                        ],
                        "passed_time": 19.73378376,
                        "remaining_time": 6.163570256,
                        "test": [
                          0.9718709677,
                          0.1241803806
                        ]
                      },
                      {
                        "iteration": 381,
                        "learn": [
                          0.9781907343,
                          0.08655569766
                        ],
                        "passed_time": 19.78350545,
                        "remaining_time": 6.111135191,
                        "test": [
                          0.9718709677,
                          0.1241747979
                        ]
                      },
                      {
                        "iteration": 382,
                        "learn": [
                          0.9782337506,
                          0.08650773174
                        ],
                        "passed_time": 19.83822402,
                        "remaining_time": 6.060240757,
                        "test": [
                          0.9718709677,
                          0.1241739188
                        ]
                      },
                      {
                        "iteration": 383,
                        "learn": [
                          0.9782337506,
                          0.08645291179
                        ],
                        "passed_time": 19.88673515,
                        "remaining_time": 6.007451243,
                        "test": [
                          0.9718709677,
                          0.1241784936
                        ]
                      },
                      {
                        "iteration": 384,
                        "learn": [
                          0.9782337506,
                          0.08640767297
                        ],
                        "passed_time": 19.93320263,
                        "remaining_time": 5.954073512,
                        "test": [
                          0.9718709677,
                          0.124158793
                        ]
                      },
                      {
                        "iteration": 385,
                        "learn": [
                          0.9782767669,
                          0.0863345876
                        ],
                        "passed_time": 19.98518118,
                        "remaining_time": 5.902359209,
                        "test": [
                          0.9717419355,
                          0.1241713302
                        ]
                      },
                      {
                        "iteration": 386,
                        "learn": [
                          0.9782767669,
                          0.08630589201
                        ],
                        "passed_time": 20.04386877,
                        "remaining_time": 5.85260251,
                        "test": [
                          0.9717419355,
                          0.1241723319
                        ]
                      },
                      {
                        "iteration": 387,
                        "learn": [
                          0.9782767669,
                          0.08625462966
                        ],
                        "passed_time": 20.09307534,
                        "remaining_time": 5.800062986,
                        "test": [
                          0.9718709677,
                          0.1241771662
                        ]
                      },
                      {
                        "iteration": 388,
                        "learn": [
                          0.9782337506,
                          0.08620498676
                        ],
                        "passed_time": 20.1415412,
                        "remaining_time": 5.747329238,
                        "test": [
                          0.9717419355,
                          0.1241967096
                        ]
                      },
                      {
                        "iteration": 389,
                        "learn": [
                          0.9782337506,
                          0.08615701256
                        ],
                        "passed_time": 20.18839062,
                        "remaining_time": 5.694161458,
                        "test": [
                          0.9717419355,
                          0.124168227
                        ]
                      },
                      {
                        "iteration": 390,
                        "learn": [
                          0.978147718,
                          0.08611239632
                        ],
                        "passed_time": 20.35151038,
                        "remaining_time": 5.673438956,
                        "test": [
                          0.9718709677,
                          0.1241580261
                        ]
                      },
                      {
                        "iteration": 391,
                        "learn": [
                          0.9782767669,
                          0.0860651223
                        ],
                        "passed_time": 20.39974697,
                        "remaining_time": 5.620338452,
                        "test": [
                          0.9718709677,
                          0.1241636808
                        ]
                      },
                      {
                        "iteration": 392,
                        "learn": [
                          0.9782337506,
                          0.08602101726
                        ],
                        "passed_time": 20.4476144,
                        "remaining_time": 5.567162191,
                        "test": [
                          0.9718709677,
                          0.1241811789
                        ]
                      },
                      {
                        "iteration": 393,
                        "learn": [
                          0.9782767669,
                          0.0859813041
                        ],
                        "passed_time": 20.49913489,
                        "remaining_time": 5.514995681,
                        "test": [
                          0.9718709677,
                          0.1241810331
                        ]
                      },
                      {
                        "iteration": 394,
                        "learn": [
                          0.9783627995,
                          0.0859013645
                        ],
                        "passed_time": 20.54605224,
                        "remaining_time": 5.461608824,
                        "test": [
                          0.9717419355,
                          0.1242128543
                        ]
                      },
                      {
                        "iteration": 395,
                        "learn": [
                          0.9783627995,
                          0.08582312616
                        ],
                        "passed_time": 20.59537746,
                        "remaining_time": 5.40888701,
                        "test": [
                          0.9718709677,
                          0.1241611753
                        ]
                      },
                      {
                        "iteration": 396,
                        "learn": [
                          0.9783627995,
                          0.08572971782
                        ],
                        "passed_time": 20.6519042,
                        "remaining_time": 5.358050711,
                        "test": [
                          0.9717419355,
                          0.1241774097
                        ]
                      },
                      {
                        "iteration": 397,
                        "learn": [
                          0.9784058158,
                          0.08564438358
                        ],
                        "passed_time": 20.70239391,
                        "remaining_time": 5.305638641,
                        "test": [
                          0.9717419355,
                          0.1241942503
                        ]
                      },
                      {
                        "iteration": 398,
                        "learn": [
                          0.9783627995,
                          0.08561370256
                        ],
                        "passed_time": 20.74833515,
                        "remaining_time": 5.252084837,
                        "test": [
                          0.9717419355,
                          0.1241946527
                        ]
                      },
                      {
                        "iteration": 399,
                        "learn": [
                          0.9784488321,
                          0.08557099749
                        ],
                        "passed_time": 20.80245433,
                        "remaining_time": 5.200613584,
                        "test": [
                          0.9717419355,
                          0.1242156199
                        ]
                      },
                      {
                        "iteration": 400,
                        "learn": [
                          0.9783627995,
                          0.08551775613
                        ],
                        "passed_time": 20.84794064,
                        "remaining_time": 5.146997814,
                        "test": [
                          0.9717419355,
                          0.1242424584
                        ]
                      },
                      {
                        "iteration": 401,
                        "learn": [
                          0.9784058158,
                          0.08545979041
                        ],
                        "passed_time": 20.89794825,
                        "remaining_time": 5.094524697,
                        "test": [
                          0.9717419355,
                          0.124252757
                        ]
                      },
                      {
                        "iteration": 402,
                        "learn": [
                          0.9784488321,
                          0.08539707488
                        ],
                        "passed_time": 20.95087243,
                        "remaining_time": 5.04276582,
                        "test": [
                          0.9718709677,
                          0.124276821
                        ]
                      },
                      {
                        "iteration": 403,
                        "learn": [
                          0.9783627995,
                          0.0853592431
                        ],
                        "passed_time": 21.01171429,
                        "remaining_time": 4.992882603,
                        "test": [
                          0.9718709677,
                          0.124268178
                        ]
                      },
                      {
                        "iteration": 404,
                        "learn": [
                          0.9784058158,
                          0.08531572725
                        ],
                        "passed_time": 21.07702206,
                        "remaining_time": 4.943992829,
                        "test": [
                          0.9717419355,
                          0.124233166
                        ]
                      },
                      {
                        "iteration": 405,
                        "learn": [
                          0.9784058158,
                          0.08524405137
                        ],
                        "passed_time": 21.13153926,
                        "remaining_time": 4.892523868,
                        "test": [
                          0.9717419355,
                          0.1242117972
                        ]
                      },
                      {
                        "iteration": 406,
                        "learn": [
                          0.978577881,
                          0.08515245596
                        ],
                        "passed_time": 21.18557521,
                        "remaining_time": 4.840929963,
                        "test": [
                          0.9717419355,
                          0.1242079149
                        ]
                      },
                      {
                        "iteration": 407,
                        "learn": [
                          0.9786208973,
                          0.08508937936
                        ],
                        "passed_time": 21.23856064,
                        "remaining_time": 4.789087202,
                        "test": [
                          0.9718709677,
                          0.1242057545
                        ]
                      },
                      {
                        "iteration": 408,
                        "learn": [
                          0.9786208973,
                          0.08504729555
                        ],
                        "passed_time": 21.29031028,
                        "remaining_time": 4.7369639,
                        "test": [
                          0.9718709677,
                          0.1241973817
                        ]
                      },
                      {
                        "iteration": 409,
                        "learn": [
                          0.9786208973,
                          0.08500167778
                        ],
                        "passed_time": 21.38394408,
                        "remaining_time": 4.694036506,
                        "test": [
                          0.9718709677,
                          0.124207139
                        ]
                      },
                      {
                        "iteration": 410,
                        "learn": [
                          0.978577881,
                          0.08494229316
                        ],
                        "passed_time": 21.43393701,
                        "remaining_time": 4.641412151,
                        "test": [
                          0.9718709677,
                          0.1242576132
                        ]
                      },
                      {
                        "iteration": 411,
                        "learn": [
                          0.978577881,
                          0.0848920651
                        ],
                        "passed_time": 21.49292236,
                        "remaining_time": 4.59072128,
                        "test": [
                          0.9718709677,
                          0.124270437
                        ]
                      },
                      {
                        "iteration": 412,
                        "learn": [
                          0.978577881,
                          0.08482986645
                        ],
                        "passed_time": 21.54315423,
                        "remaining_time": 4.53814629,
                        "test": [
                          0.9718709677,
                          0.1242727594
                        ]
                      },
                      {
                        "iteration": 413,
                        "learn": [
                          0.9786208973,
                          0.08473723877
                        ],
                        "passed_time": 21.59517414,
                        "remaining_time": 4.485954048,
                        "test": [
                          0.9718709677,
                          0.1242761876
                        ]
                      },
                      {
                        "iteration": 414,
                        "learn": [
                          0.978577881,
                          0.08470251665
                        ],
                        "passed_time": 21.64957351,
                        "remaining_time": 4.434249996,
                        "test": [
                          0.9718709677,
                          0.1242540514
                        ]
                      },
                      {
                        "iteration": 415,
                        "learn": [
                          0.978577881,
                          0.08463338438
                        ],
                        "passed_time": 21.70454847,
                        "remaining_time": 4.38264921,
                        "test": [
                          0.9718709677,
                          0.1242475464
                        ]
                      },
                      {
                        "iteration": 416,
                        "learn": [
                          0.9786208973,
                          0.08455416881
                        ],
                        "passed_time": 21.75642264,
                        "remaining_time": 4.330415058,
                        "test": [
                          0.9717419355,
                          0.1242455286
                        ]
                      },
                      {
                        "iteration": 417,
                        "learn": [
                          0.9786639136,
                          0.08447503632
                        ],
                        "passed_time": 21.80819023,
                        "remaining_time": 4.27816172,
                        "test": [
                          0.9718709677,
                          0.1242114839
                        ]
                      },
                      {
                        "iteration": 418,
                        "learn": [
                          0.9787069299,
                          0.08443006591
                        ],
                        "passed_time": 21.86210478,
                        "remaining_time": 4.226325746,
                        "test": [
                          0.9718709677,
                          0.1242431919
                        ]
                      },
                      {
                        "iteration": 419,
                        "learn": [
                          0.9787499462,
                          0.08433787461
                        ],
                        "passed_time": 21.91611678,
                        "remaining_time": 4.174498434,
                        "test": [
                          0.9718709677,
                          0.124285936
                        ]
                      },
                      {
                        "iteration": 420,
                        "learn": [
                          0.9787929625,
                          0.0843159104
                        ],
                        "passed_time": 21.96204593,
                        "remaining_time": 4.121144011,
                        "test": [
                          0.9717419355,
                          0.1243120807
                        ]
                      },
                      {
                        "iteration": 421,
                        "learn": [
                          0.9787929625,
                          0.08423366464
                        ],
                        "passed_time": 22.01191335,
                        "remaining_time": 4.068552704,
                        "test": [
                          0.9717419355,
                          0.1243137393
                        ]
                      },
                      {
                        "iteration": 422,
                        "learn": [
                          0.9787929625,
                          0.084174607
                        ],
                        "passed_time": 22.07253759,
                        "remaining_time": 4.017932374,
                        "test": [
                          0.9716129032,
                          0.1243261037
                        ]
                      },
                      {
                        "iteration": 423,
                        "learn": [
                          0.9787929625,
                          0.0841056793
                        ],
                        "passed_time": 22.12924177,
                        "remaining_time": 3.966562205,
                        "test": [
                          0.9716129032,
                          0.1243551096
                        ]
                      },
                      {
                        "iteration": 424,
                        "learn": [
                          0.9787929625,
                          0.08406646342
                        ],
                        "passed_time": 22.17420473,
                        "remaining_time": 3.913094952,
                        "test": [
                          0.9716129032,
                          0.1243689297
                        ]
                      },
                      {
                        "iteration": 425,
                        "learn": [
                          0.9787929625,
                          0.08403884896
                        ],
                        "passed_time": 22.22075868,
                        "remaining_time": 3.859943996,
                        "test": [
                          0.9716129032,
                          0.1243610238
                        ]
                      },
                      {
                        "iteration": 426,
                        "learn": [
                          0.9788359788,
                          0.08398705259
                        ],
                        "passed_time": 22.2731521,
                        "remaining_time": 3.807822256,
                        "test": [
                          0.9716129032,
                          0.1243514124
                        ]
                      },
                      {
                        "iteration": 427,
                        "learn": [
                          0.9788359788,
                          0.08394503139
                        ],
                        "passed_time": 22.31822807,
                        "remaining_time": 3.754468274,
                        "test": [
                          0.9716129032,
                          0.1243448507
                        ]
                      },
                      {
                        "iteration": 428,
                        "learn": [
                          0.9788789951,
                          0.08388847989
                        ],
                        "passed_time": 22.40326423,
                        "remaining_time": 3.707766342,
                        "test": [
                          0.9716129032,
                          0.1243597541
                        ]
                      },
                      {
                        "iteration": 429,
                        "learn": [
                          0.9788789951,
                          0.08379517804
                        ],
                        "passed_time": 22.48744429,
                        "remaining_time": 3.660746745,
                        "test": [
                          0.9716129032,
                          0.1243205815
                        ]
                      },
                      {
                        "iteration": 430,
                        "learn": [
                          0.9788359788,
                          0.08376081705
                        ],
                        "passed_time": 22.5338237,
                        "remaining_time": 3.607503097,
                        "test": [
                          0.9716129032,
                          0.1243311629
                        ]
                      },
                      {
                        "iteration": 431,
                        "learn": [
                          0.9788359788,
                          0.08372922876
                        ],
                        "passed_time": 22.57940121,
                        "remaining_time": 3.554165005,
                        "test": [
                          0.9717419355,
                          0.1243413976
                        ]
                      },
                      {
                        "iteration": 432,
                        "learn": [
                          0.9788789951,
                          0.08363381154
                        ],
                        "passed_time": 22.6260777,
                        "remaining_time": 3.501032808,
                        "test": [
                          0.9717419355,
                          0.1243269756
                        ]
                      },
                      {
                        "iteration": 433,
                        "learn": [
                          0.979008044,
                          0.08353653464
                        ],
                        "passed_time": 22.67382,
                        "remaining_time": 3.448092442,
                        "test": [
                          0.9717419355,
                          0.1243494155
                        ]
                      },
                      {
                        "iteration": 434,
                        "learn": [
                          0.9789650277,
                          0.08345500721
                        ],
                        "passed_time": 22.72357494,
                        "remaining_time": 3.395476715,
                        "test": [
                          0.9716129032,
                          0.1243802429
                        ]
                      },
                      {
                        "iteration": 435,
                        "learn": [
                          0.9790940767,
                          0.08340043076
                        ],
                        "passed_time": 22.7794935,
                        "remaining_time": 3.343778863,
                        "test": [
                          0.9716129032,
                          0.1243718315
                        ]
                      },
                      {
                        "iteration": 436,
                        "learn": [
                          0.9790940767,
                          0.08328526068
                        ],
                        "passed_time": 22.82708547,
                        "remaining_time": 3.290861292,
                        "test": [
                          0.9716129032,
                          0.1243540768
                        ]
                      },
                      {
                        "iteration": 437,
                        "learn": [
                          0.9790940767,
                          0.08323626425
                        ],
                        "passed_time": 22.87548769,
                        "remaining_time": 3.238082732,
                        "test": [
                          0.9716129032,
                          0.1243561873
                        ]
                      },
                      {
                        "iteration": 438,
                        "learn": [
                          0.9790940767,
                          0.08320905276
                        ],
                        "passed_time": 22.92266713,
                        "remaining_time": 3.185154203,
                        "test": [
                          0.9716129032,
                          0.1243641658
                        ]
                      },
                      {
                        "iteration": 439,
                        "learn": [
                          0.9790940767,
                          0.08315962051
                        ],
                        "passed_time": 22.97391758,
                        "remaining_time": 3.132806943,
                        "test": [
                          0.9716129032,
                          0.1243362025
                        ]
                      },
                      {
                        "iteration": 440,
                        "learn": [
                          0.9790510604,
                          0.08307677208
                        ],
                        "passed_time": 23.0239795,
                        "remaining_time": 3.080305648,
                        "test": [
                          0.9716129032,
                          0.1243636176
                        ]
                      },
                      {
                        "iteration": 441,
                        "learn": [
                          0.9790510604,
                          0.08300783756
                        ],
                        "passed_time": 23.08146642,
                        "remaining_time": 3.028789712,
                        "test": [
                          0.9716129032,
                          0.1244089118
                        ]
                      },
                      {
                        "iteration": 442,
                        "learn": [
                          0.979008044,
                          0.08296176279
                        ],
                        "passed_time": 23.14136531,
                        "remaining_time": 2.977557162,
                        "test": [
                          0.9716129032,
                          0.1244195239
                        ]
                      },
                      {
                        "iteration": 443,
                        "learn": [
                          0.9790510604,
                          0.08286872407
                        ],
                        "passed_time": 23.1965063,
                        "remaining_time": 2.92568548,
                        "test": [
                          0.9717419355,
                          0.1243899258
                        ]
                      },
                      {
                        "iteration": 444,
                        "learn": [
                          0.9790940767,
                          0.08281872696
                        ],
                        "passed_time": 23.24912808,
                        "remaining_time": 2.87348774,
                        "test": [
                          0.9717419355,
                          0.1243850006
                        ]
                      },
                      {
                        "iteration": 445,
                        "learn": [
                          0.9790940767,
                          0.08277109618
                        ],
                        "passed_time": 23.30289177,
                        "remaining_time": 2.821426358,
                        "test": [
                          0.9716129032,
                          0.1244096272
                        ]
                      },
                      {
                        "iteration": 446,
                        "learn": [
                          0.979137093,
                          0.08271816474
                        ],
                        "passed_time": 23.35538718,
                        "remaining_time": 2.769206981,
                        "test": [
                          0.9717419355,
                          0.1243941742
                        ]
                      },
                      {
                        "iteration": 447,
                        "learn": [
                          0.9791801093,
                          0.08266180006
                        ],
                        "passed_time": 23.43727708,
                        "remaining_time": 2.720398233,
                        "test": [
                          0.9718709677,
                          0.1244065884
                        ]
                      },
                      {
                        "iteration": 448,
                        "learn": [
                          0.9791801093,
                          0.08261771227
                        ],
                        "passed_time": 23.50496435,
                        "remaining_time": 2.669828913,
                        "test": [
                          0.9717419355,
                          0.1244636984
                        ]
                      },
                      {
                        "iteration": 449,
                        "learn": [
                          0.9791801093,
                          0.0825578517
                        ],
                        "passed_time": 23.55392377,
                        "remaining_time": 2.617102641,
                        "test": [
                          0.9716129032,
                          0.1244689632
                        ]
                      },
                      {
                        "iteration": 450,
                        "learn": [
                          0.979137093,
                          0.08250986684
                        ],
                        "passed_time": 23.6042818,
                        "remaining_time": 2.564545029,
                        "test": [
                          0.9716129032,
                          0.1244804765
                        ]
                      },
                      {
                        "iteration": 451,
                        "learn": [
                          0.9790940767,
                          0.08243864203
                        ],
                        "passed_time": 23.65672946,
                        "remaining_time": 2.512219058,
                        "test": [
                          0.9717419355,
                          0.1244351827
                        ]
                      },
                      {
                        "iteration": 452,
                        "learn": [
                          0.9790940767,
                          0.08237289822
                        ],
                        "passed_time": 23.70746986,
                        "remaining_time": 2.459715416,
                        "test": [
                          0.9718709677,
                          0.1244167658
                        ]
                      },
                      {
                        "iteration": 453,
                        "learn": [
                          0.9790940767,
                          0.08233011823
                        ],
                        "passed_time": 23.76168652,
                        "remaining_time": 2.407571762,
                        "test": [
                          0.9717419355,
                          0.1243902283
                        ]
                      },
                      {
                        "iteration": 454,
                        "learn": [
                          0.9792231256,
                          0.08224422047
                        ],
                        "passed_time": 23.81476266,
                        "remaining_time": 2.355306197,
                        "test": [
                          0.9718709677,
                          0.1243999868
                        ]
                      },
                      {
                        "iteration": 455,
                        "learn": [
                          0.9792231256,
                          0.08213681715
                        ],
                        "passed_time": 23.8679797,
                        "remaining_time": 2.303050673,
                        "test": [
                          0.9718709677,
                          0.1244512339
                        ]
                      },
                      {
                        "iteration": 456,
                        "learn": [
                          0.9792231256,
                          0.08206340603
                        ],
                        "passed_time": 23.9212,
                        "remaining_time": 2.250791247,
                        "test": [
                          0.9718709677,
                          0.1244435238
                        ]
                      },
                      {
                        "iteration": 457,
                        "learn": [
                          0.9792231256,
                          0.08203458799
                        ],
                        "passed_time": 23.9711674,
                        "remaining_time": 2.198229324,
                        "test": [
                          0.9718709677,
                          0.1244382285
                        ]
                      },
                      {
                        "iteration": 458,
                        "learn": [
                          0.9792661419,
                          0.08196697985
                        ],
                        "passed_time": 24.02070886,
                        "remaining_time": 2.145640661,
                        "test": [
                          0.9718709677,
                          0.1244012091
                        ]
                      },
                      {
                        "iteration": 459,
                        "learn": [
                          0.9793091582,
                          0.08192383071
                        ],
                        "passed_time": 24.07223974,
                        "remaining_time": 2.093238238,
                        "test": [
                          0.9718709677,
                          0.1244114976
                        ]
                      },
                      {
                        "iteration": 460,
                        "learn": [
                          0.9792661419,
                          0.08188903592
                        ],
                        "passed_time": 24.13265545,
                        "remaining_time": 2.041591242,
                        "test": [
                          0.9718709677,
                          0.1244154568
                        ]
                      },
                      {
                        "iteration": 461,
                        "learn": [
                          0.9792661419,
                          0.08184111298
                        ],
                        "passed_time": 24.18023428,
                        "remaining_time": 1.988850439,
                        "test": [
                          0.9718709677,
                          0.1244183058
                        ]
                      },
                      {
                        "iteration": 462,
                        "learn": [
                          0.9792661419,
                          0.08180059388
                        ],
                        "passed_time": 24.23145377,
                        "remaining_time": 1.936422871,
                        "test": [
                          0.9717419355,
                          0.1244006579
                        ]
                      },
                      {
                        "iteration": 463,
                        "learn": [
                          0.9791801093,
                          0.08170792924
                        ],
                        "passed_time": 24.280634,
                        "remaining_time": 1.883842293,
                        "test": [
                          0.9718709677,
                          0.1243992314
                        ]
                      },
                      {
                        "iteration": 464,
                        "learn": [
                          0.9792661419,
                          0.08162706578
                        ],
                        "passed_time": 24.32896242,
                        "remaining_time": 1.831212225,
                        "test": [
                          0.9716129032,
                          0.124379459
                        ]
                      },
                      {
                        "iteration": 465,
                        "learn": [
                          0.9792231256,
                          0.08151937704
                        ],
                        "passed_time": 24.38357695,
                        "remaining_time": 1.779059262,
                        "test": [
                          0.9717419355,
                          0.1243359333
                        ]
                      },
                      {
                        "iteration": 466,
                        "learn": [
                          0.9792231256,
                          0.08146500795
                        ],
                        "passed_time": 24.42960692,
                        "remaining_time": 1.72628914,
                        "test": [
                          0.971483871,
                          0.1243244443
                        ]
                      },
                      {
                        "iteration": 467,
                        "learn": [
                          0.9792231256,
                          0.08142243273
                        ],
                        "passed_time": 24.51934889,
                        "remaining_time": 1.676536677,
                        "test": [
                          0.971483871,
                          0.1243557416
                        ]
                      },
                      {
                        "iteration": 468,
                        "learn": [
                          0.9792231256,
                          0.0813938835
                        ],
                        "passed_time": 24.56509513,
                        "remaining_time": 1.623705649,
                        "test": [
                          0.971483871,
                          0.1243306656
                        ]
                      },
                      {
                        "iteration": 469,
                        "learn": [
                          0.9792231256,
                          0.08131274573
                        ],
                        "passed_time": 24.61284404,
                        "remaining_time": 1.571032599,
                        "test": [
                          0.971483871,
                          0.1243459403
                        ]
                      },
                      {
                        "iteration": 470,
                        "learn": [
                          0.9793091582,
                          0.08125588868
                        ],
                        "passed_time": 24.6598678,
                        "remaining_time": 1.518335809,
                        "test": [
                          0.971483871,
                          0.1243178845
                        ]
                      },
                      {
                        "iteration": 471,
                        "learn": [
                          0.9792661419,
                          0.08117101458
                        ],
                        "passed_time": 24.7103491,
                        "remaining_time": 1.465868167,
                        "test": [
                          0.9713548387,
                          0.1243180466
                        ]
                      },
                      {
                        "iteration": 472,
                        "learn": [
                          0.9792661419,
                          0.08113998669
                        ],
                        "passed_time": 24.75875385,
                        "remaining_time": 1.413290389,
                        "test": [
                          0.971483871,
                          0.1242929816
                        ]
                      },
                      {
                        "iteration": 473,
                        "learn": [
                          0.9793521745,
                          0.08109660742
                        ],
                        "passed_time": 24.81422589,
                        "remaining_time": 1.361117876,
                        "test": [
                          0.9713548387,
                          0.1242764919
                        ]
                      },
                      {
                        "iteration": 474,
                        "learn": [
                          0.9793951908,
                          0.08101911627
                        ],
                        "passed_time": 24.8636273,
                        "remaining_time": 1.308611963,
                        "test": [
                          0.971483871,
                          0.1242941195
                        ]
                      },
                      {
                        "iteration": 475,
                        "learn": [
                          0.9793951908,
                          0.08097543083
                        ],
                        "passed_time": 24.91267668,
                        "remaining_time": 1.256101345,
                        "test": [
                          0.9716129032,
                          0.1242976506
                        ]
                      },
                      {
                        "iteration": 476,
                        "learn": [
                          0.9793951908,
                          0.08093729647
                        ],
                        "passed_time": 24.96584812,
                        "remaining_time": 1.203803997,
                        "test": [
                          0.9716129032,
                          0.1242910432
                        ]
                      },
                      {
                        "iteration": 477,
                        "learn": [
                          0.9793951908,
                          0.08091978097
                        ],
                        "passed_time": 25.0152957,
                        "remaining_time": 1.151331601,
                        "test": [
                          0.9716129032,
                          0.1242788388
                        ]
                      },
                      {
                        "iteration": 478,
                        "learn": [
                          0.9793951908,
                          0.08088739718
                        ],
                        "passed_time": 25.06827082,
                        "remaining_time": 1.099026487,
                        "test": [
                          0.9716129032,
                          0.1242714052
                        ]
                      },
                      {
                        "iteration": 479,
                        "learn": [
                          0.9793951908,
                          0.08084367537
                        ],
                        "passed_time": 25.12221344,
                        "remaining_time": 1.046758893,
                        "test": [
                          0.971483871,
                          0.1242826522
                        ]
                      },
                      {
                        "iteration": 480,
                        "learn": [
                          0.9793951908,
                          0.08079645131
                        ],
                        "passed_time": 25.18119587,
                        "remaining_time": 0.9946834126,
                        "test": [
                          0.971483871,
                          0.1242999366
                        ]
                      },
                      {
                        "iteration": 481,
                        "learn": [
                          0.9793951908,
                          0.08076818571
                        ],
                        "passed_time": 25.23125622,
                        "remaining_time": 0.9422460827,
                        "test": [
                          0.9716129032,
                          0.124307385
                        ]
                      },
                      {
                        "iteration": 482,
                        "learn": [
                          0.9793521745,
                          0.08071710957
                        ],
                        "passed_time": 25.28104985,
                        "remaining_time": 0.8898092081,
                        "test": [
                          0.9716129032,
                          0.1243166442
                        ]
                      },
                      {
                        "iteration": 483,
                        "learn": [
                          0.9793521745,
                          0.08067993075
                        ],
                        "passed_time": 25.33338377,
                        "remaining_time": 0.8374672322,
                        "test": [
                          0.9716129032,
                          0.1243102914
                        ]
                      },
                      {
                        "iteration": 484,
                        "learn": [
                          0.9793521745,
                          0.08060315894
                        ],
                        "passed_time": 25.38978223,
                        "remaining_time": 0.7852509969,
                        "test": [
                          0.971483871,
                          0.1243309994
                        ]
                      },
                      {
                        "iteration": 485,
                        "learn": [
                          0.9793951908,
                          0.08054757082
                        ],
                        "passed_time": 25.44067691,
                        "remaining_time": 0.7328590058,
                        "test": [
                          0.9716129032,
                          0.1243285251
                        ]
                      },
                      {
                        "iteration": 486,
                        "learn": [
                          0.9794382071,
                          0.08049602542
                        ],
                        "passed_time": 25.51657115,
                        "remaining_time": 0.681140503,
                        "test": [
                          0.971483871,
                          0.1243265665
                        ]
                      },
                      {
                        "iteration": 487,
                        "learn": [
                          0.9794382071,
                          0.08047609155
                        ],
                        "passed_time": 25.59307323,
                        "remaining_time": 0.6293378662,
                        "test": [
                          0.971483871,
                          0.1243445496
                        ]
                      },
                      {
                        "iteration": 488,
                        "learn": [
                          0.9794812234,
                          0.08039420466
                        ],
                        "passed_time": 25.64667356,
                        "remaining_time": 0.5769190371,
                        "test": [
                          0.971483871,
                          0.1243532362
                        ]
                      },
                      {
                        "iteration": 489,
                        "learn": [
                          0.9794382071,
                          0.08036085218
                        ],
                        "passed_time": 25.69701817,
                        "remaining_time": 0.5244289422,
                        "test": [
                          0.971483871,
                          0.1243666501
                        ]
                      },
                      {
                        "iteration": 490,
                        "learn": [
                          0.9794382071,
                          0.08033050743
                        ],
                        "passed_time": 25.7519284,
                        "remaining_time": 0.4720312742,
                        "test": [
                          0.971483871,
                          0.1243553322
                        ]
                      },
                      {
                        "iteration": 491,
                        "learn": [
                          0.9794812234,
                          0.08029621192
                        ],
                        "passed_time": 25.8058024,
                        "remaining_time": 0.4196065431,
                        "test": [
                          0.971483871,
                          0.1243532123
                        ]
                      },
                      {
                        "iteration": 492,
                        "learn": [
                          0.9794812234,
                          0.08024544213
                        ],
                        "passed_time": 25.86096505,
                        "remaining_time": 0.3671942299,
                        "test": [
                          0.971483871,
                          0.1243551862
                        ]
                      },
                      {
                        "iteration": 493,
                        "learn": [
                          0.9794382071,
                          0.08018877381
                        ],
                        "passed_time": 25.91374298,
                        "remaining_time": 0.3147418176,
                        "test": [
                          0.9716129032,
                          0.1243842424
                        ]
                      },
                      {
                        "iteration": 494,
                        "learn": [
                          0.9794382071,
                          0.08015293031
                        ],
                        "passed_time": 25.96402614,
                        "remaining_time": 0.2622628903,
                        "test": [
                          0.971483871,
                          0.1243908946
                        ]
                      },
                      {
                        "iteration": 495,
                        "learn": [
                          0.9794382071,
                          0.08012354207
                        ],
                        "passed_time": 26.01188098,
                        "remaining_time": 0.2097732337,
                        "test": [
                          0.971483871,
                          0.1243996807
                        ]
                      },
                      {
                        "iteration": 496,
                        "learn": [
                          0.9794382071,
                          0.0800866264
                        ],
                        "passed_time": 26.06409892,
                        "remaining_time": 0.1573285649,
                        "test": [
                          0.9716129032,
                          0.1243938469
                        ]
                      },
                      {
                        "iteration": 497,
                        "learn": [
                          0.9794382071,
                          0.08004227128
                        ],
                        "passed_time": 26.11425129,
                        "remaining_time": 0.1048765112,
                        "test": [
                          0.9716129032,
                          0.1244051517
                        ]
                      },
                      {
                        "iteration": 498,
                        "learn": [
                          0.9794382071,
                          0.08001847917
                        ],
                        "passed_time": 26.17421667,
                        "remaining_time": 0.05245334001,
                        "test": [
                          0.9716129032,
                          0.1244014424
                        ]
                      },
                      {
                        "iteration": 499,
                        "learn": [
                          0.9794812234,
                          0.07997913102
                        ],
                        "passed_time": 26.21946988,
                        "remaining_time": 0,
                        "test": [
                          0.971483871,
                          0.1244106432
                        ]
                      }
                    ],
                    "meta": {
                      "iteration_count": 500,
                      "launch_mode": "Train",
                      "learn_metrics": [
                        {
                          "best_value": "Max",
                          "name": "Accuracy"
                        },
                        {
                          "best_value": "Min",
                          "name": "MultiClass"
                        }
                      ],
                      "learn_sets": [
                        "learn"
                      ],
                      "name": "experiment",
                      "parameters": "",
                      "test_metrics": [
                        {
                          "best_value": "Max",
                          "name": "Accuracy"
                        },
                        {
                          "best_value": "Min",
                          "name": "MultiClass"
                        }
                      ],
                      "test_sets": [
                        "test"
                      ]
                    }
                  },
                  "passed_iterations": 499,
                  "total_iterations": 500
                },
                "name": "catboost_info",
                "path": "catboost_info"
              }
            },
            "layout": "IPY_MODEL_0b6a5a6c05bd49248c0fd734b56bfeb3"
          }
        }
      }
    }
  },
  "nbformat": 4,
  "nbformat_minor": 5
}
